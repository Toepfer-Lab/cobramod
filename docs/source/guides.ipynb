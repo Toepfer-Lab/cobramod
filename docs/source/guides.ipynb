{
 "cells": [
  {
   "cell_type": "markdown",
   "id": "d6d55e06",
   "metadata": {},
   "source": [
    "# Guides"
   ]
  },
  {
   "cell_type": "markdown",
   "id": "2089676d",
   "metadata": {
    "nbsphinx-toctree": {}
   },
   "source": [
    "- [Functions](how_to)\n",
    "- [Removing elements using COBRApy](delete)\n",
    "- [Using Git to track changes and using Memote](memote)\n",
    "- [Using the automatic cross-reference expansion](CrossReferenz)"
   ]
  },
  {
   "cell_type": "code",
   "execution_count": null,
   "id": "4b7a698e",
   "metadata": {},
   "outputs": [],
   "source": []
  }
 ],
 "metadata": {
  "celltoolbar": "Edit Metadata",
  "kernelspec": {
   "display_name": "Python 3 (ipykernel)",
   "language": "python",
   "name": "python3"
  },
  "language_info": {
   "codemirror_mode": {
    "name": "ipython",
    "version": 3
   },
   "file_extension": ".py",
   "mimetype": "text/x-python",
   "name": "python",
   "nbconvert_exporter": "python",
   "pygments_lexer": "ipython3",
   "version": "3.12.2"
  }
 },
 "nbformat": 4,
 "nbformat_minor": 5
}
