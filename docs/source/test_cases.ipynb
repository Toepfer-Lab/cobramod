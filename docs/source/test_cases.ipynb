{
 "cells": [
  {
   "cell_type": "markdown",
   "id": "93c5d024",
   "metadata": {},
   "source": [
    "# Test cases\n",
    "\n",
    "We covered two cases to showcase how CobraMod can be implemented\n",
    "in a workflow"
   ]
  },
  {
   "cell_type": "markdown",
   "id": "15281b06",
   "metadata": {
    "nbsphinx-toctree": {}
   },
   "source": [
    "- [Analysing shikimate production using an E. coli core model](shikimate.ipynb)\n",
    "- [Analysing glucosinolate synthesis in a plant core model](GLS.ipynb)"
   ]
  },
  {
   "cell_type": "markdown",
   "id": "8ab175fe",
   "metadata": {},
   "source": [
    "For suggestions or contributions, please contact the maintainers."
   ]
  }
 ],
 "metadata": {
  "celltoolbar": "Edit Metadata",
  "kernelspec": {
   "display_name": "Python 3 (ipykernel)",
   "language": "python",
   "name": "python3"
  },
  "language_info": {
   "codemirror_mode": {
    "name": "ipython",
    "version": 3
   },
   "file_extension": ".py",
   "mimetype": "text/x-python",
   "name": "python",
   "nbconvert_exporter": "python",
   "pygments_lexer": "ipython3",
   "version": "3.7.4"
  }
 },
 "nbformat": 4,
 "nbformat_minor": 5
}
