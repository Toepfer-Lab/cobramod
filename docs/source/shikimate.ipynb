{
 "cells": [
  {
   "cell_type": "markdown",
   "id": "SLOGRXdE8zOJ",
   "metadata": {
    "id": "SLOGRXdE8zOJ"
   },
   "source": [
    "\n",
    "# Shikimate in E. coli"
   ]
  },
  {
   "cell_type": "markdown",
   "id": "c25b3164",
   "metadata": {
    "id": "c25b3164"
   },
   "source": [
    "## Introduction\n",
    "\n",
    "In this short tutorial, we will use a core model of [Escherichia coli](\n",
    "http://bigg.ucsd.edu/models/e_coli_core) and extend it to synthesize shikimate.\n",
    "This compound is an important precursor to aromatic compounds such as\n",
    "phenylalanine, tyrosine, tryptophan.\n",
    "The authors of the article\n",
    "[Metabolic engineering of Escherichia coli for improving shikimate synthesis\n",
    "from glucose](\n",
    "https://doi.org/10.1016/j.biortech.2014.05.035) engineered five strains of\n",
    "*E. coli*, whose certain genes for the regulation of shikimate were deactivated.\n",
    "In this test case, we will compare the control strain (W3110) with the strain\n",
    "without the *aroL*, *aroK* and *ptsG* genes (SA3). Using CobraMod we can add the shikimate pathway from Ecocyc and visually compare the strains.\n",
    "\n",
    "[EcoCyc](https://www.ecocyc.org/) is a specialized database for biochemical\n",
    "data of E. coli, which is part of the BioCyc database family. The shikimate\n",
    "pathway is showed as: \n",
    "\n",
    "<img src=\"https://websvc.biocyc.org/ECOLI/diagram-only?type=PATHWAY&object=ARO-PWY&pfontsize=normal\"/>\n",
    "\n",
    "and is divided in two sub-pathway:\n",
    "\n",
    "<table>\n",
    "<thead>\n",
    "  <tr>\n",
    "    <th>Pathway Identifier</th>\n",
    "    <th>Pathway name</th>\n",
    "  </tr>\n",
    "</thead>\n",
    "<tbody>\n",
    "  <tr>\n",
    "    <td>PWY-6164</td>\n",
    "    <td>3-dehydroquinate biosynthesis I</td>\n",
    "  </tr>\n",
    "  <tr>\n",
    "    <td>PWY-6163<br></td>\n",
    "    <td>chorismate biosynthesis from 3-dehydroquinate<br><br></td>\n",
    "  </tr>\n",
    "</tbody>\n",
    "</table>\n",
    "\n",
    "\n"
   ]
  },
  {
   "cell_type": "markdown",
   "id": "GVfuxpKy9Twf",
   "metadata": {
    "id": "GVfuxpKy9Twf"
   },
   "source": [
    "\n",
    "## Loading CobraMod and defining environment\n",
    "\n",
    "First, we need to load the core model for E. coli. Our package includes it\n",
    "in its module [cobramod.test] and its the same `textbook` model that COBRApy\n",
    "uses. Additionally, we will load the Python native module [pathlib](\n",
    "https://docs.python.org/3/library/pathlib.html) to define the location to store\n",
    "the data, and the function [cobramod.add_pathway] to add the complete pathways\n",
    "into our model."
   ]
  },
  {
   "cell_type": "code",
   "execution_count": 1,
   "id": "f2e21846",
   "metadata": {
    "colab": {
     "base_uri": "https://localhost:8080/"
    },
    "execution": {
     "iopub.execute_input": "2021-06-04T09:23:30.608216Z",
     "iopub.status.busy": "2021-06-04T09:23:30.605802Z",
     "iopub.status.idle": "2021-06-04T09:23:33.249873Z",
     "shell.execute_reply": "2021-06-04T09:23:33.249480Z"
    },
    "id": "f2e21846",
    "outputId": "3f6cff2a-2edc-4a9d-c8d9-db3cd57201d8",
    "scrolled": true
   },
   "outputs": [
    {
     "name": "stdout",
     "output_type": "stream",
     "text": [
      "Scaling...\n",
      " A: min|aij| =  1.000e+00  max|aij| =  1.000e+00  ratio =  1.000e+00\n",
      "Problem data seem to be well scaled\n",
      "0.5.4\n"
     ]
    }
   ],
   "source": [
    "from pathlib import Path\n",
    "\n",
    "from cobramod import add_pathway, __version__\n",
    "from cobramod.test import textbook\n",
    "\n",
    "print(__version__)"
   ]
  },
  {
   "cell_type": "markdown",
   "id": "66b0095d",
   "metadata": {
    "id": "66b0095d"
   },
   "source": [
    "We will define the directory for our data as `dir_data`. The whole pathway with the\n",
    "corresponding reaction and metabolite information will be downloaded and stored there.\n",
    "Moreover, we will load our model `textbook`, which represents the core model of E. coli  "
   ]
  },
  {
   "cell_type": "code",
   "execution_count": 2,
   "id": "5c70f420",
   "metadata": {
    "id": "5c70f420"
   },
   "outputs": [],
   "source": [
    "dir_data = Path.cwd().joinpath(\"data\")\n",
    "\n",
    "model = textbook.copy()"
   ]
  },
  {
   "cell_type": "markdown",
   "id": "ecca1Ry_7ej0",
   "metadata": {
    "id": "ecca1Ry_7ej0"
   },
   "source": [
    "The article mentions that the medium for the strains included glucose (15g) and\n",
    "multiple substances. Because our model is a core model, it only includes the\n",
    "fundamental metabolic pathways and lacks the uptake of theses subtrates.\n",
    "For this reason, we will limit only the constraint of glucose and oxygen:"
   ]
  },
  {
   "cell_type": "code",
   "execution_count": 3,
   "id": "0a93a132",
   "metadata": {
    "id": "0a93a132",
    "scrolled": true
   },
   "outputs": [],
   "source": [
    "# Limiting Glucose\n",
    "model.exchanges.EX_glc__D_e.bounds = ( -15, 0)\n",
    "# Limiting Oxygen\n",
    "model.exchanges.EX_o2_e.bounds = (0, 0)\n",
    "#model.summary(threshold=0.0000001)"
   ]
  },
  {
   "cell_type": "markdown",
   "id": "4fb87bd2",
   "metadata": {
    "id": "4fb87bd2"
   },
   "source": [
    "## Adding the pathway\n",
    "\n",
    "To add a pathway to the model, we will use the function `cobramod.add_pathway`.\n",
    "We need to specify the directory for the data (`dir_data`), the compartment for\n",
    "the reactions to take place, the database and the identifier of the pathway\n",
    "(`pathway`). By default, CobraMod willl create an single `cobramod.Pathway` for\n",
    "every pathway added. Nonetheless, users can merge pathways by using the argument\n",
    "`group`. Additionally, we will use the method `Pathway.modify_graph()` to join\n",
    "the pathways visually and use `Pathway.visualize()` to show the pathway.\n"
   ]
  },
  {
   "cell_type": "code",
   "execution_count": 4,
   "id": "7be52d6e",
   "metadata": {
    "colab": {
     "base_uri": "https://localhost:8080/",
     "height": 729,
     "referenced_widgets": [
      "8137500f06fa448394993968dc7b5d4d"
     ]
    },
    "execution": {
     "iopub.execute_input": "2021-06-04T09:23:33.254331Z",
     "iopub.status.busy": "2021-06-04T09:23:33.253999Z",
     "iopub.status.idle": "2021-06-04T09:23:33.301626Z",
     "shell.execute_reply": "2021-06-04T09:23:33.301876Z"
    },
    "id": "7be52d6e",
    "outputId": "51c05b70-0d80-4647-a9aa-41a740e70085",
    "scrolled": false
   },
   "outputs": [
    {
     "name": "stderr",
     "output_type": "stream",
     "text": [
      "/home/stefano/Documents/cobramod/src/cobramod/core/creation.py:160: UserWarning: Metabolite 'PHOSPHO-ENOL-PYRUVATE' was found as 'pep_c'. Please curate if necessary.\n",
      "  warn(message=msg, category=UserWarning)\n",
      "/home/stefano/Documents/cobramod/src/cobramod/core/creation.py:160: UserWarning: Metabolite 'ERYTHROSE-4P' was found as 'e4p_c'. Please curate if necessary.\n",
      "  warn(message=msg, category=UserWarning)\n",
      "/home/stefano/Documents/cobramod/src/cobramod/core/creation.py:160: UserWarning: Metabolite 'WATER' was found as 'h2o_c'. Please curate if necessary.\n",
      "  warn(message=msg, category=UserWarning)\n",
      "/home/stefano/Documents/cobramod/src/cobramod/core/creation.py:160: UserWarning: Metabolite 'Pi' was found as 'pi_c'. Please curate if necessary.\n",
      "  warn(message=msg, category=UserWarning)\n",
      "/home/stefano/Documents/cobramod/src/cobramod/core/extension.py:573: UserWarning: Auxiliary sink reaction for \"SK_DEHYDROQUINATE_c\" created. Consider removing it and adding the synthesis reactions for the metabolite.\n",
      "  warn(message=msg, category=UserWarning)\n",
      "/home/stefano/Documents/cobramod/src/cobramod/core/creation.py:160: UserWarning: Metabolite 'NADP' was found as 'nadp_c'. Please curate if necessary.\n",
      "  warn(message=msg, category=UserWarning)\n",
      "/home/stefano/Documents/cobramod/src/cobramod/core/creation.py:160: UserWarning: Metabolite 'PROTON' was found as 'h_c'. Please curate if necessary.\n",
      "  warn(message=msg, category=UserWarning)\n",
      "/home/stefano/Documents/cobramod/src/cobramod/core/creation.py:160: UserWarning: Metabolite 'NADPH' was found as 'nadph_c'. Please curate if necessary.\n",
      "  warn(message=msg, category=UserWarning)\n"
     ]
    },
    {
     "name": "stdout",
     "output_type": "stream",
     "text": [
      "Quantity of     new   | removed entities in\n",
      "*=====================|===================*\n",
      "Reactions        2    |    0              \n",
      "Metabolites      2    |    0              \n",
      "Exchange         0    |    0              \n",
      "Demand           0    |    0              \n",
      "Sinks            1    |    0              \n",
      "Genes            4    |    0              \n",
      "Groups           1    |    0              \n",
      "\n"
     ]
    },
    {
     "name": "stderr",
     "output_type": "stream",
     "text": [
      "/home/stefano/Documents/cobramod/src/cobramod/core/creation.py:160: UserWarning: Metabolite 'ATP' was found as 'atp_c'. Please curate if necessary.\n",
      "  warn(message=msg, category=UserWarning)\n",
      "/home/stefano/Documents/cobramod/src/cobramod/core/creation.py:160: UserWarning: Metabolite 'ADP' was found as 'adp_c'. Please curate if necessary.\n",
      "  warn(message=msg, category=UserWarning)\n",
      "/home/stefano/Documents/cobramod/src/cobramod/core/extension.py:573: UserWarning: Auxiliary sink reaction for \"SK_CHORISMATE_c\" created. Consider removing it and adding the synthesis reactions for the metabolite.\n",
      "  warn(message=msg, category=UserWarning)\n"
     ]
    },
    {
     "name": "stdout",
     "output_type": "stream",
     "text": [
      "Quantity of     new   | removed entities in\n",
      "*=====================|===================*\n",
      "Reactions        5    |    0              \n",
      "Metabolites      5    |    0              \n",
      "Exchange         0    |    0              \n",
      "Demand           0    |    0              \n",
      "Sinks            1    |    1              \n",
      "Genes            6    |    0              \n",
      "Groups           0    |    0              \n",
      "\n"
     ]
    },
    {
     "data": {
      "application/vnd.jupyter.widget-view+json": {
       "model_id": "a76d1dd92231426cb8692fe9255229e7",
       "version_major": 2,
       "version_minor": 0
      },
      "text/plain": [
       "Builder(reaction_scale={}, reaction_styles=['color', 'text'])"
      ]
     },
     "metadata": {},
     "output_type": "display_data"
    }
   ],
   "source": [
    "# model = textbook.copy()\n",
    "# First pathway\n",
    "add_pathway(\n",
    "    model=model,\n",
    "    directory=dir_data,\n",
    "    pathway=\"PWY-6164\",\n",
    "    compartment=\"c\",\n",
    "    database=\"ECOLI\",\n",
    "    # Shared identified\n",
    "    group=\"PWY-SHIKIMATE\",\n",
    ")\n",
    "\n",
    "# Second Pathway\n",
    "add_pathway(\n",
    "    model=model,\n",
    "    directory=dir_data,\n",
    "    pathway=\"PWY-6163\",\n",
    "    compartment=\"c\",\n",
    "    database=\"ECOLI\",\n",
    "    # Shared identified\n",
    "    group=\"PWY-SHIKIMATE\",\n",
    ")\n",
    "\n",
    "# Merge reactions of the sub-pathways\n",
    "model.groups.get_by_id(\"PWY-SHIKIMATE\").modify_graph(\n",
    "    reaction=\"3_DEHYDROQUINATE_SYNTHASE_RXN_c\",\n",
    "    next_reaction=\"3_DEHYDROQUINATE_DEHYDRATASE_RXN_c\"\n",
    ")\n",
    "# Show pathway map\n",
    "model.groups.get_by_id(\"PWY-SHIKIMATE\").visualize()"
   ]
  },
  {
   "cell_type": "markdown",
   "id": "ca712448",
   "metadata": {
    "id": "ca712448"
   },
   "source": [
    "CobraMod will try to avoid creating duplicates Reactions and Metabolites. In\n",
    "our case, `textbook` uses the BiGG identifier convention and the data retrieved\n",
    "uses  the BioCyc identifier convention. CobraMod will check the cross-references\n",
    "from the downloaded data and will try to find corresponding objects in the\n",
    "model. Warnings will appear if occurences are found.\n",
    "\n",
    "Our package will also include the gene information of the reactions and\n",
    "pathways that are added into the model. We can loop through the members of\n",
    "pathway (Reactions) and print the new genes:"
   ]
  },
  {
   "cell_type": "code",
   "execution_count": 5,
   "id": "edc3100b",
   "metadata": {
    "colab": {
     "base_uri": "https://localhost:8080/"
    },
    "id": "edc3100b",
    "outputId": "5bc398ba-e4cf-4f95-d3f4-a4496648c0a5",
    "scrolled": true
   },
   "outputs": [
    {
     "name": "stdout",
     "output_type": "stream",
     "text": [
      "DAHPSYN_RXN_c -> 3-deoxy-7-phosphoheptulonate synthase ['aroG', 'aroF', 'aroH']\n",
      "3_DEHYDROQUINATE_SYNTHASE_RXN_c -> 3-dehydroquinate synthase ['aroB']\n",
      "3_DEHYDROQUINATE_DEHYDRATASE_RXN_c -> 3-dehydroquinate dehydratase ['aroD']\n",
      "SHIKIMATE_5_DEHYDROGENASE_RXN_c -> shikimate dehydrogenase ['aroE']\n",
      "SHIKIMATE_KINASE_RXN_c -> shikimate kinase ['aroK', 'aroL']\n",
      "2.5.1.19_RXN_c -> 3-phosphoshikimate 1-carboxyvinyltransferase ['aroA']\n",
      "CHORISMATE_SYNTHASE_RXN_c -> chorismate synthase ['aroC']\n"
     ]
    }
   ],
   "source": [
    "for reaction in model.groups.get_by_id(\"PWY-SHIKIMATE\").members:\n",
    "    print(reaction.id, \"->\", reaction.name, [x.name for x in reaction.genes])"
   ]
  },
  {
   "cell_type": "markdown",
   "id": "103e1713",
   "metadata": {
    "id": "103e1713"
   },
   "source": [
    "## Creating biomass reactions\n",
    "\n",
    "Table 2 of the article illustrates the multiple biomass and shikimate production\n",
    "of the different E. coli strains. We will use the wild strain (W3110) and the\n",
    "SA3 strain for our demonstration.\n",
    "\n",
    "<table>\n",
    "<thead>\n",
    "  <tr>\n",
    "    <th>Strains</th>\n",
    "    <th>Biomass (g/L)</th>\n",
    "    <th>Shikimate (mg/L)</th>\n",
    "  </tr>\n",
    "</thead>\n",
    "<tbody>\n",
    "  <tr>\n",
    "    <td>W3110</td>\n",
    "    <td>3.42± 0.26</td>\n",
    "    <td>1.31± 0.12</td>\n",
    "  </tr>\n",
    "  <tr>\n",
    "    <td>SA3</td>\n",
    "    <td>5.24± 0.34</td>\n",
    "    <td>417.20± 50.01</td>\n",
    "  </tr>\n",
    "</tbody>\n",
    "</table>\n",
    "\n",
    "Our current model already contains a biomass reaction. However, it does not\n",
    "include shikimate in its stoichiometry. For this reason, we will use the table\n",
    "above and calcurate the ratio of shikimate for both strains and apply it to\n",
    "two new biomass reactions.\n",
    "\n",
    "First, we need to calculate the amount of biomass without taking\n",
    "growth-associated maintenance into\n",
    "consideration. The original [article](\n",
    "https://doi.org/10.1038/s41596-018-0098-2) for the *E. coli* core model hints\n",
    "us that we need to ignore `ATP` and `ADP`. Additionally, we will ignore `NAD`,\n",
    "`NADPH`, `NADH`, `NADPH` and `WATER`."
   ]
  },
  {
   "cell_type": "code",
   "execution_count": 6,
   "id": "c7dc2c63",
   "metadata": {
    "colab": {
     "base_uri": "https://localhost:8080/"
    },
    "id": "c7dc2c63",
    "outputId": "44e389fb-ff3e-4e9c-f036-e66ddf87cd9c"
   },
   "outputs": [
    {
     "data": {
      "text/plain": [
       "'1.496 3pg_c + 3.7478 accoa_c + 59.81 atp_c + 0.361 e4p_c + 0.0709 f6p_c + 0.129 g3p_c + 0.205 g6p_c + 0.2557 gln__L_c + 4.9414 glu__L_c + 59.81 h2o_c + 3.547 nad_c + 13.0279 nadph_c + 1.7867 oaa_c + 0.5191 pep_c + 2.8328 pyr_c + 0.8977 r5p_c --> 59.81 adp_c + 4.1182 akg_c + 3.7478 coa_c + 59.81 h_c + 3.547 nadh_c + 13.0279 nadp_c + 59.81 pi_c'"
      ]
     },
     "execution_count": 6,
     "metadata": {},
     "output_type": "execute_result"
    }
   ],
   "source": [
    "model.reactions.Biomass_Ecoli_core.reaction"
   ]
  },
  {
   "cell_type": "code",
   "execution_count": 7,
   "id": "67c6b272",
   "metadata": {
    "colab": {
     "base_uri": "https://localhost:8080/"
    },
    "id": "67c6b272",
    "outputId": "db93f231-0444-4ce6-fae8-25769539b3d6"
   },
   "outputs": [
    {
     "data": {
      "text/plain": [
       "17.243100000000002"
      ]
     },
     "execution_count": 7,
     "metadata": {},
     "output_type": "execute_result"
    }
   ],
   "source": [
    "# Sum of relevant components from stoichiometry\n",
    "bio_ecore = float()\n",
    "for (\n",
    "    metabolite,\n",
    "    coeficient,\n",
    ") in model.reactions.Biomass_Ecoli_core.metabolites.items():\n",
    "    if metabolite.id in (\"atp_c\", \"adp_c\", \"h_c\", \"nad_c\", \"nadph_c\", \"h2o_c\"):\n",
    "        continue\n",
    "    if coeficient < 0:\n",
    "        bio_ecore += -1 * coeficient\n",
    "bio_ecore"
   ]
  },
  {
   "cell_type": "markdown",
   "id": "5465c980",
   "metadata": {
    "id": "5465c980"
   },
   "source": [
    "We are interested in the ratios of shikimate in the biomass reactions from the\n",
    "strains and thus, we have to use the biomass quantity and calculate the \n",
    "shikimate proportion for the original biomass. Following this logic, we obtain: \n",
    "\n",
    "$$\n",
    "\\frac{shikimate_{ strain}}{bio_{ strain}} = \\frac{x}{bio_{ecore}}\\\\\n",
    "\\frac{shikimate_{ strain}}{bio_{strain}}\\cdot bio_{ecore} = x\n",
    "$$\n",
    "\n",
    "where $x$ is the shikimate proportion for the original biomass reaction. This\n",
    "proportion will change depending on the strain."
   ]
  },
  {
   "cell_type": "code",
   "execution_count": 8,
   "id": "bae2796c",
   "metadata": {
    "colab": {
     "base_uri": "https://localhost:8080/"
    },
    "id": "bae2796c",
    "outputId": "d51bc555-3930-4d0e-feba-f7cb629a130f"
   },
   "outputs": [
    {
     "data": {
      "text/plain": [
       "{'W3110': 0.006604813157894738, 'SA3': 1.3728666641221374}"
      ]
     },
     "execution_count": 8,
     "metadata": {},
     "output_type": "execute_result"
    }
   ],
   "source": [
    "# Calculating proportions\n",
    "shikimate = {\n",
    "    \"W3110\": (1.31 / 1000) / 3.42 * bio_ecore,\n",
    "    \"SA3\": (417.20 / 1000) / 5.24 * bio_ecore\n",
    "}\n",
    "shikimate"
   ]
  },
  {
   "cell_type": "markdown",
   "id": "6e0410b4",
   "metadata": {
    "id": "6e0410b4"
   },
   "source": [
    "After calculating the proportions, we will use the original biomass as a base\n",
    "and will add the new proportion of shikimate into the equation. For this, we\n",
    "nedd the identifier or shikimate. In this case, it is the same one as the [entry in EcoCyc](\n",
    "https://biocyc.org/compound?orgid=ECOLI&id=SHIKIMATE). CobraMod formats the\n",
    "identifiers and shikimate becomes `SHIKIMATE_c`."
   ]
  },
  {
   "cell_type": "code",
   "execution_count": 9,
   "id": "c80a1010",
   "metadata": {
    "execution": {
     "iopub.execute_input": "2021-06-04T09:23:38.291725Z",
     "iopub.status.busy": "2021-06-04T09:23:38.291268Z",
     "iopub.status.idle": "2021-06-04T09:23:38.297404Z",
     "shell.execute_reply": "2021-06-04T09:23:38.297750Z"
    },
    "id": "c80a1010",
    "scrolled": true
   },
   "outputs": [],
   "source": [
    "# Creating biomass for wild type\n",
    "biomass_W3110 = model.reactions.get_by_id(\"Biomass_Ecoli_core\").copy()\n",
    "biomass_W3110.id = \"Biomass_Ecoli_core_W3110\"\n",
    "biomass_W3110.add_metabolites(\n",
    "    {model.metabolites.get_by_id(\"SHIKIMATE_c\"): -1 * shikimate[\"W3110\"]}\n",
    ")\n",
    "\n",
    "# Creating biomass for SA1 strain\n",
    "biomass_SA3 = model.reactions.get_by_id(\"Biomass_Ecoli_core\").copy()\n",
    "biomass_SA3.id = \"Biomass_Ecoli_core_SA3\"\n",
    "biomass_SA3.add_metabolites(\n",
    "    {model.metabolites.get_by_id(\"SHIKIMATE_c\"): -1 * shikimate[\"SA3\"]}\n",
    ")\n",
    "\n",
    "# Adding Reaction objects into our model\n",
    "model.add_reactions([biomass_SA3, biomass_W3110])"
   ]
  },
  {
   "cell_type": "markdown",
   "id": "33db9895",
   "metadata": {
    "id": "33db9895"
   },
   "source": [
    "## Comparing biomasses\n",
    "\n",
    "We want to replicate to the results by knocking the corresponfing genes for\n",
    "the SA3 strain. However, because our model is very simple, if we knockout one\n",
    "essential gene, then we receive infeasible solutions. For this reason and\n",
    "in contrast to the article, the gene *ptsG* cannot be deactivated. Additionally,\n",
    "since there is no reaction demanding shikimate besides the biomass reaction, the\n",
    "reactions after the synthesis of shikimate will not be activated by the model.\n",
    "i. e. there is no need to knockdown *aroK* and *ptsG*.\n",
    "\n",
    "We will change the objective function for our new biomass reactions and optimize them.\n",
    "\n"
   ]
  },
  {
   "cell_type": "code",
   "execution_count": 10,
   "id": "2cf9f942",
   "metadata": {
    "colab": {
     "base_uri": "https://localhost:8080/",
     "height": 238
    },
    "id": "2cf9f942",
    "outputId": "303b3379-d24d-4e58-a6d5-b84173a9ccd7",
    "scrolled": false
   },
   "outputs": [
    {
     "data": {
      "text/html": [
       "<h3>Objective</h3><p>1.0 Biomass_Ecoli_core_W3110 = 0.36382640423986407</p><h4>Uptake</h4><table border=\"1\" class=\"dataframe\">\n",
       "  <thead>\n",
       "    <tr style=\"text-align: right;\">\n",
       "      <th>Metabolite</th>\n",
       "      <th>Reaction</th>\n",
       "      <th>Flux</th>\n",
       "      <th>C-Number</th>\n",
       "      <th>C-Flux</th>\n",
       "    </tr>\n",
       "  </thead>\n",
       "  <tbody>\n",
       "    <tr>\n",
       "      <td>co2_e</td>\n",
       "      <td>EX_co2_e</td>\n",
       "      <td>0.65</td>\n",
       "      <td>1</td>\n",
       "      <td>0.72%</td>\n",
       "    </tr>\n",
       "    <tr>\n",
       "      <td>glc__D_e</td>\n",
       "      <td>EX_glc__D_e</td>\n",
       "      <td>15</td>\n",
       "      <td>6</td>\n",
       "      <td>99.28%</td>\n",
       "    </tr>\n",
       "    <tr>\n",
       "      <td>h2o_e</td>\n",
       "      <td>EX_h2o_e</td>\n",
       "      <td>10.03</td>\n",
       "      <td>0</td>\n",
       "      <td>0.00%</td>\n",
       "    </tr>\n",
       "    <tr>\n",
       "      <td>nh4_e</td>\n",
       "      <td>EX_nh4_e</td>\n",
       "      <td>1.984</td>\n",
       "      <td>0</td>\n",
       "      <td>0.00%</td>\n",
       "    </tr>\n",
       "    <tr>\n",
       "      <td>pi_e</td>\n",
       "      <td>EX_pi_e</td>\n",
       "      <td>1.338</td>\n",
       "      <td>0</td>\n",
       "      <td>0.00%</td>\n",
       "    </tr>\n",
       "  </tbody>\n",
       "</table><h4>Secretion</h4><table border=\"1\" class=\"dataframe\">\n",
       "  <thead>\n",
       "    <tr style=\"text-align: right;\">\n",
       "      <th>Metabolite</th>\n",
       "      <th>Reaction</th>\n",
       "      <th>Flux</th>\n",
       "      <th>C-Number</th>\n",
       "      <th>C-Flux</th>\n",
       "    </tr>\n",
       "  </thead>\n",
       "  <tbody>\n",
       "    <tr>\n",
       "      <td>ac_e</td>\n",
       "      <td>EX_ac_e</td>\n",
       "      <td>-12.43</td>\n",
       "      <td>2</td>\n",
       "      <td>33.07%</td>\n",
       "    </tr>\n",
       "    <tr>\n",
       "      <td>etoh_e</td>\n",
       "      <td>EX_etoh_e</td>\n",
       "      <td>-12.04</td>\n",
       "      <td>2</td>\n",
       "      <td>32.04%</td>\n",
       "    </tr>\n",
       "    <tr>\n",
       "      <td>for_e</td>\n",
       "      <td>EX_for_e</td>\n",
       "      <td>-26.22</td>\n",
       "      <td>1</td>\n",
       "      <td>34.89%</td>\n",
       "    </tr>\n",
       "    <tr>\n",
       "      <td>h_e</td>\n",
       "      <td>EX_h_e</td>\n",
       "      <td>-45.95</td>\n",
       "      <td>0</td>\n",
       "      <td>0.00%</td>\n",
       "    </tr>\n",
       "  </tbody>\n",
       "</table>"
      ],
      "text/plain": [
       "<cobra.summary.model_summary.ModelSummary at 0x7f4a9929ff10>"
      ]
     },
     "execution_count": 10,
     "metadata": {},
     "output_type": "execute_result"
    }
   ],
   "source": [
    "# Wild type\n",
    "model.objective = \"Biomass_Ecoli_core_W3110\"\n",
    "\n",
    "solution_W3110 = model.optimize()\n",
    "model.summary(solution=solution_W3110)"
   ]
  },
  {
   "cell_type": "code",
   "execution_count": 11,
   "id": "dea43bc7",
   "metadata": {
    "colab": {
     "base_uri": "https://localhost:8080/",
     "height": 238
    },
    "execution": {
     "iopub.execute_input": "2021-06-04T09:23:38.310293Z",
     "iopub.status.busy": "2021-06-04T09:23:38.309884Z",
     "iopub.status.idle": "2021-06-04T09:23:38.312063Z",
     "shell.execute_reply": "2021-06-04T09:23:38.312396Z"
    },
    "id": "dea43bc7",
    "outputId": "1af46ce6-9f1d-46b5-d955-6f37b7db131c",
    "scrolled": false
   },
   "outputs": [
    {
     "data": {
      "text/html": [
       "<h3>Objective</h3><p>1.0 Biomass_Ecoli_core_SA3 = 0.3384412608332341</p><h4>Uptake</h4><table border=\"1\" class=\"dataframe\">\n",
       "  <thead>\n",
       "    <tr style=\"text-align: right;\">\n",
       "      <th>Metabolite</th>\n",
       "      <th>Reaction</th>\n",
       "      <th>Flux</th>\n",
       "      <th>C-Number</th>\n",
       "      <th>C-Flux</th>\n",
       "    </tr>\n",
       "  </thead>\n",
       "  <tbody>\n",
       "    <tr>\n",
       "      <td>co2_e</td>\n",
       "      <td>EX_co2_e</td>\n",
       "      <td>0.6047</td>\n",
       "      <td>1</td>\n",
       "      <td>0.67%</td>\n",
       "    </tr>\n",
       "    <tr>\n",
       "      <td>glc__D_e</td>\n",
       "      <td>EX_glc__D_e</td>\n",
       "      <td>15</td>\n",
       "      <td>6</td>\n",
       "      <td>99.33%</td>\n",
       "    </tr>\n",
       "    <tr>\n",
       "      <td>h2o_e</td>\n",
       "      <td>EX_h2o_e</td>\n",
       "      <td>8.917</td>\n",
       "      <td>0</td>\n",
       "      <td>0.00%</td>\n",
       "    </tr>\n",
       "    <tr>\n",
       "      <td>nh4_e</td>\n",
       "      <td>EX_nh4_e</td>\n",
       "      <td>1.845</td>\n",
       "      <td>0</td>\n",
       "      <td>0.00%</td>\n",
       "    </tr>\n",
       "    <tr>\n",
       "      <td>pi_e</td>\n",
       "      <td>EX_pi_e</td>\n",
       "      <td>1.245</td>\n",
       "      <td>0</td>\n",
       "      <td>0.00%</td>\n",
       "    </tr>\n",
       "  </tbody>\n",
       "</table><h4>Secretion</h4><table border=\"1\" class=\"dataframe\">\n",
       "  <thead>\n",
       "    <tr style=\"text-align: right;\">\n",
       "      <th>Metabolite</th>\n",
       "      <th>Reaction</th>\n",
       "      <th>Flux</th>\n",
       "      <th>C-Number</th>\n",
       "      <th>C-Flux</th>\n",
       "    </tr>\n",
       "  </thead>\n",
       "  <tbody>\n",
       "    <tr>\n",
       "      <td>ac_e</td>\n",
       "      <td>EX_ac_e</td>\n",
       "      <td>-12.07</td>\n",
       "      <td>2</td>\n",
       "      <td>33.08%</td>\n",
       "    </tr>\n",
       "    <tr>\n",
       "      <td>etoh_e</td>\n",
       "      <td>EX_etoh_e</td>\n",
       "      <td>-11.71</td>\n",
       "      <td>2</td>\n",
       "      <td>32.10%</td>\n",
       "    </tr>\n",
       "    <tr>\n",
       "      <td>for_e</td>\n",
       "      <td>EX_for_e</td>\n",
       "      <td>-25.41</td>\n",
       "      <td>1</td>\n",
       "      <td>34.83%</td>\n",
       "    </tr>\n",
       "    <tr>\n",
       "      <td>h_e</td>\n",
       "      <td>EX_h_e</td>\n",
       "      <td>-44.72</td>\n",
       "      <td>0</td>\n",
       "      <td>0.00%</td>\n",
       "    </tr>\n",
       "  </tbody>\n",
       "</table>"
      ],
      "text/plain": [
       "<cobra.summary.model_summary.ModelSummary at 0x7f4a992dded0>"
      ]
     },
     "execution_count": 11,
     "metadata": {},
     "output_type": "execute_result"
    }
   ],
   "source": [
    "# SA1 strain\n",
    "model.objective = \"Biomass_Ecoli_core_SA3\"\n",
    "solution_SA3 = model.optimize()\n",
    "model.summary(solution=solution_SA3)"
   ]
  },
  {
   "cell_type": "markdown",
   "id": "d4db6f31",
   "metadata": {
    "id": "d4db6f31"
   },
   "source": [
    "## Visualization with Escher\n",
    "\n",
    "The `cobramod.Pathway` object has a special method to visualize the\n",
    "metabolic pathway through Escher. Users can use `Pathway.visulize()` and \n",
    "CobraMod will automatically create a map that can be customized()"
   ]
  },
  {
   "cell_type": "code",
   "execution_count": 12,
   "id": "8f8282d4",
   "metadata": {
    "colab": {
     "base_uri": "https://localhost:8080/",
     "height": 17,
     "referenced_widgets": [
      "23412ab7b49245999e17f82a11fa70e3"
     ]
    },
    "id": "8f8282d4",
    "outputId": "ba91be0c-5b11-42d8-eb10-7806a9c3bd33",
    "scrolled": false
   },
   "outputs": [
    {
     "data": {
      "application/vnd.jupyter.widget-view+json": {
       "model_id": "c5c8559e8a684b449ea1c9c36b422220",
       "version_major": 2,
       "version_minor": 0
      },
      "text/plain": [
       "Builder(reaction_scale={}, reaction_styles=['color', 'text'])"
      ]
     },
     "metadata": {},
     "output_type": "display_data"
    }
   ],
   "source": [
    "model.groups.get_by_id(\"PWY-SHIKIMATE\").visualize()"
   ]
  },
  {
   "cell_type": "markdown",
   "id": "tKeliuyeOZRS",
   "metadata": {
    "id": "tKeliuyeOZRS"
   },
   "source": [
    "For the visual comparison we will change the color of the positive and\n",
    "negative fluxes to blue and red, respectively. The orientation of the\n",
    "map with be horizontal and the colors be depend from the quantile of\n",
    "the flux solutions. "
   ]
  },
  {
   "cell_type": "code",
   "execution_count": 13,
   "id": "_Kv7Z89emppB",
   "metadata": {
    "id": "_Kv7Z89emppB"
   },
   "outputs": [],
   "source": [
    "model.groups[-1].vertical = False\n",
    "model.groups[-1].color_positive = \"blue\"\n",
    "model.groups[-1].color_negative = \"red\"\n",
    "model.groups[-1].color_quantile = True\n",
    "model.groups[-1].color_min_max = [-1,1]"
   ]
  },
  {
   "cell_type": "code",
   "execution_count": 14,
   "id": "VutWCE6hD2DM",
   "metadata": {
    "colab": {
     "base_uri": "https://localhost:8080/",
     "height": 17,
     "referenced_widgets": [
      "046daf12a98942caa3011c038bbb4640"
     ]
    },
    "id": "VutWCE6hD2DM",
    "outputId": "ef8c905d-8e5d-4b06-d9ff-a9891565b46e"
   },
   "outputs": [
    {
     "data": {
      "application/vnd.jupyter.widget-view+json": {
       "model_id": "e8ad945b6b61418185bcfc185657064e",
       "version_major": 2,
       "version_minor": 0
      },
      "text/plain": [
       "Builder(reaction_data={'ACALD': -12.03976080152985, 'ACALDt': 1.5948213258617017e-15, 'ACKr': -12.425016580979…"
      ]
     },
     "metadata": {},
     "output_type": "display_data"
    }
   ],
   "source": [
    "model.groups[-1].visualize(solution_W3110)"
   ]
  },
  {
   "cell_type": "code",
   "execution_count": 15,
   "id": "FMazl4sYEWry",
   "metadata": {
    "colab": {
     "base_uri": "https://localhost:8080/",
     "height": 17,
     "referenced_widgets": [
      "26eb3ac3013f4b8196ca162c901373b2"
     ]
    },
    "id": "FMazl4sYEWry",
    "outputId": "670c7c49-b959-458b-9558-fc59c9c468bb"
   },
   "outputs": [
    {
     "data": {
      "application/vnd.jupyter.widget-view+json": {
       "model_id": "24c886e091e046f5a2105973450d0c54",
       "version_major": 2,
       "version_minor": 0
      },
      "text/plain": [
       "Builder(reaction_data={'ACALD': -11.706838677509918, 'ACALDt': 1.5948213258617017e-15, 'ACKr': -12.06521412860…"
      ]
     },
     "metadata": {},
     "output_type": "display_data"
    }
   ],
   "source": [
    "model.groups[-1].visualize(solution_SA3)"
   ]
  },
  {
   "cell_type": "markdown",
   "id": "dc252a75",
   "metadata": {
    "id": "dc252a75"
   },
   "source": [
    "From here the user, can compare the graphs visually and proceed with different\n",
    "types of analysis."
   ]
  },
  {
   "cell_type": "markdown",
   "id": "a7faacdb",
   "metadata": {
    "id": "a7faacdb"
   },
   "source": [
    "## References\n",
    "\n",
    "1. Chen, Xianzhong, Mingming Li, Li Zhou, Wei Shen, Govender Algasan, You Fan, and Zhengxiang Wang. “Metabolic Engineering of Escherichia Coli for Improving Shikimate Synthesis from Glucose.” Bioresource Technology 166 (August 1, 2014): 64–71. https://doi.org/10.1016/j.biortech.2014.05.035.\n",
    "2. Heirendt, Laurent, Sylvain Arreckx, Thomas Pfau, Sebastián N. Mendoza, Anne Richelle, Almut Heinken, Hulda S. Haraldsdóttir, et al. “Creation and Analysis of Biochemical Constraint-Based Models Using the COBRA Toolbox v.3.0.” Nature Protocols 14, no. 3 (March 2019): 639–702. https://doi.org/10.1038/s41596-018-0098-2.\n",
    "3. Orth, Jeffrey D., R. M. T. Fleming, and Bernhard Ø. Palsson. “Reconstruction and Use of Microbial Metabolic Networks: The Core Escherichia Coli Metabolic Model as an Educational Guide.” EcoSal Plus 4, no. 1 (February 1, 2010). https://doi.org/10.1128/ecosalplus.10.2.1.\n"
   ]
  }
 ],
 "metadata": {
  "colab": {
   "collapsed_sections": [],
   "name": "shikimate.ipynb",
   "provenance": [],
   "toc_visible": true
  },
  "jupytext": {
   "formats": "ipynb,md"
  },
  "kernelspec": {
   "display_name": "Python 3 (ipykernel)",
   "language": "python",
   "name": "python3"
  },
  "language_info": {
   "codemirror_mode": {
    "name": "ipython",
    "version": 3
   },
   "file_extension": ".py",
   "mimetype": "text/x-python",
   "name": "python",
   "nbconvert_exporter": "python",
   "pygments_lexer": "ipython3",
   "version": "3.7.4"
  },
  "widgets": {
   "application/vnd.jupyter.widget-state+json": {
    "state": {
     "00d32f563c8845a680c5e184c0fd87be": {
      "model_module": "@jupyter-widgets/base",
      "model_module_version": "1.2.0",
      "model_name": "LayoutModel",
      "state": {}
     },
     "24c886e091e046f5a2105973450d0c54": {
      "model_module": "escher",
      "model_module_version": "1.7.3",
      "model_name": "EscherMapModel",
      "state": {
       "_loaded_map_json": "[{\"map_name\": \"\", \"map_id\": \"\", \"map_description\": \"\", \"homepage\": \"\", \"schema\": \"https://escher.github.io/escher/jsonschema/1-0-0#\"}, {\"reactions\": {\"0\": {\"name\": \"DAHPSYN_RXN_c\", \"bigg_id\": \"DAHPSYN_RXN_c\", \"reversibility\": true, \"label_x\": 208.0, \"label_y\": 45.0, \"gene_reaction_rule\": \"\", \"genes\": [], \"segments\": {\"0\": {\"from_node_id\": \"5\", \"to_node_id\": \"6\", \"b1\": null, \"b2\": null}, \"1\": {\"from_node_id\": \"7\", \"to_node_id\": \"6\", \"b1\": null, \"b2\": null}, \"2\": {\"from_node_id\": \"0\", \"to_node_id\": \"5\", \"b1\": null, \"b2\": null}, \"3\": {\"from_node_id\": \"1\", \"to_node_id\": \"5\", \"b1\": null, \"b2\": null}, \"4\": {\"from_node_id\": \"2\", \"to_node_id\": \"5\", \"b1\": null, \"b2\": null}, \"5\": {\"from_node_id\": \"3\", \"to_node_id\": \"7\", \"b1\": null, \"b2\": null}, \"6\": {\"from_node_id\": \"4\", \"to_node_id\": \"7\", \"b1\": null, \"b2\": null}}, \"metabolites\": [{\"bigg_id\": \"e4p_c\", \"coefficient\": -1.0}, {\"bigg_id\": \"h2o_c\", \"coefficient\": -1.0}, {\"bigg_id\": \"pep_c\", \"coefficient\": -1.0}, {\"bigg_id\": \"3_DEOXY_D_ARABINO_HEPTULOSONATE_7_P_c\", \"coefficient\": 1.0}, {\"bigg_id\": \"pi_c\", \"coefficient\": 1.0}]}, \"1\": {\"name\": \"3_DEHYDROQUINATE_SYNTHASE_RXN_c\", \"bigg_id\": \"3_DEHYDROQUINATE_SYNTHASE_RXN_c\", \"reversibility\": true, \"label_x\": 696.0, \"label_y\": 45.0, \"gene_reaction_rule\": \"\", \"genes\": [], \"segments\": {\"7\": {\"from_node_id\": \"10\", \"to_node_id\": \"11\", \"b1\": null, \"b2\": null}, \"8\": {\"from_node_id\": \"12\", \"to_node_id\": \"11\", \"b1\": null, \"b2\": null}, \"9\": {\"from_node_id\": \"3\", \"to_node_id\": \"10\", \"b1\": null, \"b2\": null}, \"10\": {\"from_node_id\": \"8\", \"to_node_id\": \"12\", \"b1\": null, \"b2\": null}, \"11\": {\"from_node_id\": \"9\", \"to_node_id\": \"12\", \"b1\": null, \"b2\": null}}, \"metabolites\": [{\"bigg_id\": \"3_DEOXY_D_ARABINO_HEPTULOSONATE_7_P_c\", \"coefficient\": -1.0}, {\"bigg_id\": \"DEHYDROQUINATE_c\", \"coefficient\": 1.0}, {\"bigg_id\": \"pi_c\", \"coefficient\": 1.0}]}, \"2\": {\"name\": \"3_DEHYDROQUINATE_DEHYDRATASE_RXN_c\", \"bigg_id\": \"3_DEHYDROQUINATE_DEHYDRATASE_RXN_c\", \"reversibility\": true, \"label_x\": 1319.0, \"label_y\": 45.0, \"gene_reaction_rule\": \"\", \"genes\": [], \"segments\": {\"12\": {\"from_node_id\": \"15\", \"to_node_id\": \"16\", \"b1\": null, \"b2\": null}, \"13\": {\"from_node_id\": \"17\", \"to_node_id\": \"16\", \"b1\": null, \"b2\": null}, \"14\": {\"from_node_id\": \"8\", \"to_node_id\": \"15\", \"b1\": null, \"b2\": null}, \"15\": {\"from_node_id\": \"13\", \"to_node_id\": \"17\", \"b1\": null, \"b2\": null}, \"16\": {\"from_node_id\": \"14\", \"to_node_id\": \"17\", \"b1\": null, \"b2\": null}}, \"metabolites\": [{\"bigg_id\": \"DEHYDROQUINATE_c\", \"coefficient\": -1.0}, {\"bigg_id\": \"3_DEHYDRO_SHIKIMATE_c\", \"coefficient\": 1.0}, {\"bigg_id\": \"h2o_c\", \"coefficient\": 1.0}]}, \"3\": {\"name\": \"SHIKIMATE_5_DEHYDROGENASE_RXN_c\", \"bigg_id\": \"SHIKIMATE_5_DEHYDROGENASE_RXN_c\", \"reversibility\": true, \"label_x\": 1996.0, \"label_y\": 45.0, \"gene_reaction_rule\": \"\", \"genes\": [], \"segments\": {\"17\": {\"from_node_id\": \"23\", \"to_node_id\": \"24\", \"b1\": null, \"b2\": null}, \"18\": {\"from_node_id\": \"25\", \"to_node_id\": \"24\", \"b1\": null, \"b2\": null}, \"19\": {\"from_node_id\": \"18\", \"to_node_id\": \"23\", \"b1\": null, \"b2\": null}, \"20\": {\"from_node_id\": \"19\", \"to_node_id\": \"23\", \"b1\": null, \"b2\": null}, \"21\": {\"from_node_id\": \"20\", \"to_node_id\": \"25\", \"b1\": null, \"b2\": null}, \"22\": {\"from_node_id\": \"21\", \"to_node_id\": \"25\", \"b1\": null, \"b2\": null}, \"23\": {\"from_node_id\": \"22\", \"to_node_id\": \"25\", \"b1\": null, \"b2\": null}}, \"metabolites\": [{\"bigg_id\": \"SHIKIMATE_c\", \"coefficient\": -1.0}, {\"bigg_id\": \"nadp_c\", \"coefficient\": -1.0}, {\"bigg_id\": \"3_DEHYDRO_SHIKIMATE_c\", \"coefficient\": 1.0}, {\"bigg_id\": \"h_c\", \"coefficient\": 1.0}, {\"bigg_id\": \"nadph_c\", \"coefficient\": 1.0}]}, \"4\": {\"name\": \"SHIKIMATE_KINASE_RXN_c\", \"bigg_id\": \"SHIKIMATE_KINASE_RXN_c\", \"reversibility\": true, \"label_x\": 2727.0, \"label_y\": 45.0, \"gene_reaction_rule\": \"\", \"genes\": [], \"segments\": {\"24\": {\"from_node_id\": \"31\", \"to_node_id\": \"32\", \"b1\": null, \"b2\": null}, \"25\": {\"from_node_id\": \"33\", \"to_node_id\": \"32\", \"b1\": null, \"b2\": null}, \"26\": {\"from_node_id\": \"26\", \"to_node_id\": \"31\", \"b1\": null, \"b2\": null}, \"27\": {\"from_node_id\": \"27\", \"to_node_id\": \"31\", \"b1\": null, \"b2\": null}, \"28\": {\"from_node_id\": \"28\", \"to_node_id\": \"33\", \"b1\": null, \"b2\": null}, \"29\": {\"from_node_id\": \"29\", \"to_node_id\": \"33\", \"b1\": null, \"b2\": null}, \"30\": {\"from_node_id\": \"30\", \"to_node_id\": \"33\", \"b1\": null, \"b2\": null}}, \"metabolites\": [{\"bigg_id\": \"SHIKIMATE_c\", \"coefficient\": -1.0}, {\"bigg_id\": \"atp_c\", \"coefficient\": -1.0}, {\"bigg_id\": \"SHIKIMATE_5P_c\", \"coefficient\": 1.0}, {\"bigg_id\": \"adp_c\", \"coefficient\": 1.0}, {\"bigg_id\": \"h_c\", \"coefficient\": 1.0}]}, \"5\": {\"name\": \"2.5.1.19_RXN_c\", \"bigg_id\": \"2.5.1.19_RXN_c\", \"reversibility\": true, \"label_x\": 3449.0, \"label_y\": 45.0, \"gene_reaction_rule\": \"\", \"genes\": [], \"segments\": {\"31\": {\"from_node_id\": \"37\", \"to_node_id\": \"38\", \"b1\": null, \"b2\": null}, \"32\": {\"from_node_id\": \"39\", \"to_node_id\": \"38\", \"b1\": null, \"b2\": null}, \"33\": {\"from_node_id\": \"28\", \"to_node_id\": \"37\", \"b1\": null, \"b2\": null}, \"34\": {\"from_node_id\": \"34\", \"to_node_id\": \"37\", \"b1\": null, \"b2\": null}, \"35\": {\"from_node_id\": \"35\", \"to_node_id\": \"39\", \"b1\": null, \"b2\": null}, \"36\": {\"from_node_id\": \"36\", \"to_node_id\": \"39\", \"b1\": null, \"b2\": null}}, \"metabolites\": [{\"bigg_id\": \"SHIKIMATE_5P_c\", \"coefficient\": -1.0}, {\"bigg_id\": \"pep_c\", \"coefficient\": -1.0}, {\"bigg_id\": \"3_ENOLPYRUVYL_SHIKIMATE_5P_c\", \"coefficient\": 1.0}, {\"bigg_id\": \"pi_c\", \"coefficient\": 1.0}]}, \"6\": {\"name\": \"CHORISMATE_SYNTHASE_RXN_c\", \"bigg_id\": \"CHORISMATE_SYNTHASE_RXN_c\", \"reversibility\": true, \"label_x\": 4000.0, \"label_y\": 45.0, \"gene_reaction_rule\": \"\", \"genes\": [], \"segments\": {\"37\": {\"from_node_id\": \"42\", \"to_node_id\": \"43\", \"b1\": null, \"b2\": null}, \"38\": {\"from_node_id\": \"44\", \"to_node_id\": \"43\", \"b1\": null, \"b2\": null}, \"39\": {\"from_node_id\": \"35\", \"to_node_id\": \"42\", \"b1\": null, \"b2\": null}, \"40\": {\"from_node_id\": \"40\", \"to_node_id\": \"44\", \"b1\": null, \"b2\": null}, \"41\": {\"from_node_id\": \"41\", \"to_node_id\": \"44\", \"b1\": null, \"b2\": null}}, \"metabolites\": [{\"bigg_id\": \"3_ENOLPYRUVYL_SHIKIMATE_5P_c\", \"coefficient\": -1.0}, {\"bigg_id\": \"CHORISMATE_c\", \"coefficient\": 1.0}, {\"bigg_id\": \"pi_c\", \"coefficient\": 1.0}]}}, \"nodes\": {\"0\": {\"node_type\": \"metabolite\", \"x\": 30.0, \"y\": 112.5, \"label_x\": 0.0, \"label_y\": 92.5, \"bigg_id\": \"e4p_c\", \"name\": \"e4p_c\", \"node_is_primary\": false}, \"1\": {\"node_type\": \"metabolite\", \"x\": 30.0, \"y\": 225.0, \"label_x\": 0.0, \"label_y\": 205.0, \"bigg_id\": \"h2o_c\", \"name\": \"h2o_c\", \"node_is_primary\": false}, \"2\": {\"node_type\": \"metabolite\", \"x\": 30.0, \"y\": 337.5, \"label_x\": 0.0, \"label_y\": 317.5, \"bigg_id\": \"pep_c\", \"name\": \"pep_c\", \"node_is_primary\": false}, \"3\": {\"node_type\": \"metabolite\", \"x\": 550.0, \"y\": 150.0, \"label_x\": 520.0, \"label_y\": 130.0, \"bigg_id\": \"3_DEOXY_D_ARABINO_HEPTULOSONATE_7_P_c\", \"name\": \"3_DEOXY_D_ARABINO_HEPTULOSONATE_7_P_c\", \"node_is_primary\": false}, \"4\": {\"node_type\": \"metabolite\", \"x\": 550.0, \"y\": 300.0, \"label_x\": 520.0, \"label_y\": 280.0, \"bigg_id\": \"pi_c\", \"name\": \"pi_c\", \"node_is_primary\": false}, \"5\": {\"node_type\": \"multimarker\", \"x\": 335.0, \"y\": 225.0}, \"6\": {\"node_type\": \"midmarker\", \"x\": 355.0, \"y\": 225.0}, \"7\": {\"node_type\": \"multimarker\", \"x\": 375.0, \"y\": 225.0}, \"8\": {\"node_type\": \"metabolite\", \"x\": 1200.0, \"y\": 150.0, \"label_x\": 1170.0, \"label_y\": 130.0, \"bigg_id\": \"DEHYDROQUINATE_c\", \"name\": \"DEHYDROQUINATE_c\", \"node_is_primary\": false}, \"9\": {\"node_type\": \"metabolite\", \"x\": 1200.0, \"y\": 300.0, \"label_x\": 1170.0, \"label_y\": 280.0, \"bigg_id\": \"pi_c\", \"name\": \"pi_c\", \"node_is_primary\": false}, \"10\": {\"node_type\": \"multimarker\", \"x\": 985.0, \"y\": 225.0}, \"11\": {\"node_type\": \"midmarker\", \"x\": 1005.0, \"y\": 225.0}, \"12\": {\"node_type\": \"multimarker\", \"x\": 1025.0, \"y\": 225.0}, \"13\": {\"node_type\": \"metabolite\", \"x\": 1850.0, \"y\": 150.0, \"label_x\": 1820.0, \"label_y\": 130.0, \"bigg_id\": \"3_DEHYDRO_SHIKIMATE_c\", \"name\": \"3_DEHYDRO_SHIKIMATE_c\", \"node_is_primary\": false}, \"14\": {\"node_type\": \"metabolite\", \"x\": 1850.0, \"y\": 300.0, \"label_x\": 1820.0, \"label_y\": 280.0, \"bigg_id\": \"h2o_c\", \"name\": \"h2o_c\", \"node_is_primary\": false}, \"15\": {\"node_type\": \"multimarker\", \"x\": 1635.0, \"y\": 225.0}, \"16\": {\"node_type\": \"midmarker\", \"x\": 1655.0, \"y\": 225.0}, \"17\": {\"node_type\": \"multimarker\", \"x\": 1675.0, \"y\": 225.0}, \"18\": {\"node_type\": \"metabolite\", \"x\": 1980.0, \"y\": 150.0, \"label_x\": 1950.0, \"label_y\": 130.0, \"bigg_id\": \"SHIKIMATE_c\", \"name\": \"SHIKIMATE_c\", \"node_is_primary\": false}, \"19\": {\"node_type\": \"metabolite\", \"x\": 1980.0, \"y\": 300.0, \"label_x\": 1950.0, \"label_y\": 280.0, \"bigg_id\": \"nadp_c\", \"name\": \"nadp_c\", \"node_is_primary\": false}, \"20\": {\"node_type\": \"metabolite\", \"x\": 2500.0, \"y\": 112.5, \"label_x\": 2470.0, \"label_y\": 92.5, \"bigg_id\": \"3_DEHYDRO_SHIKIMATE_c\", \"name\": \"3_DEHYDRO_SHIKIMATE_c\", \"node_is_primary\": false}, \"21\": {\"node_type\": \"metabolite\", \"x\": 2500.0, \"y\": 225.0, \"label_x\": 2470.0, \"label_y\": 205.0, \"bigg_id\": \"h_c\", \"name\": \"h_c\", \"node_is_primary\": false}, \"22\": {\"node_type\": \"metabolite\", \"x\": 2500.0, \"y\": 337.5, \"label_x\": 2470.0, \"label_y\": 317.5, \"bigg_id\": \"nadph_c\", \"name\": \"nadph_c\", \"node_is_primary\": false}, \"23\": {\"node_type\": \"multimarker\", \"x\": 2285.0, \"y\": 225.0}, \"24\": {\"node_type\": \"midmarker\", \"x\": 2305.0, \"y\": 225.0}, \"25\": {\"node_type\": \"multimarker\", \"x\": 2325.0, \"y\": 225.0}, \"26\": {\"node_type\": \"metabolite\", \"x\": 2630.0, \"y\": 150.0, \"label_x\": 2600.0, \"label_y\": 130.0, \"bigg_id\": \"SHIKIMATE_c\", \"name\": \"SHIKIMATE_c\", \"node_is_primary\": false}, \"27\": {\"node_type\": \"metabolite\", \"x\": 2630.0, \"y\": 300.0, \"label_x\": 2600.0, \"label_y\": 280.0, \"bigg_id\": \"atp_c\", \"name\": \"atp_c\", \"node_is_primary\": false}, \"28\": {\"node_type\": \"metabolite\", \"x\": 3150.0, \"y\": 112.5, \"label_x\": 3120.0, \"label_y\": 92.5, \"bigg_id\": \"SHIKIMATE_5P_c\", \"name\": \"SHIKIMATE_5P_c\", \"node_is_primary\": false}, \"29\": {\"node_type\": \"metabolite\", \"x\": 3150.0, \"y\": 225.0, \"label_x\": 3120.0, \"label_y\": 205.0, \"bigg_id\": \"adp_c\", \"name\": \"adp_c\", \"node_is_primary\": false}, \"30\": {\"node_type\": \"metabolite\", \"x\": 3150.0, \"y\": 337.5, \"label_x\": 3120.0, \"label_y\": 317.5, \"bigg_id\": \"h_c\", \"name\": \"h_c\", \"node_is_primary\": false}, \"31\": {\"node_type\": \"multimarker\", \"x\": 2935.0, \"y\": 225.0}, \"32\": {\"node_type\": \"midmarker\", \"x\": 2955.0, \"y\": 225.0}, \"33\": {\"node_type\": \"multimarker\", \"x\": 2975.0, \"y\": 225.0}, \"34\": {\"node_type\": \"metabolite\", \"x\": 3280.0, \"y\": 300.0, \"label_x\": 3250.0, \"label_y\": 280.0, \"bigg_id\": \"pep_c\", \"name\": \"pep_c\", \"node_is_primary\": false}, \"35\": {\"node_type\": \"metabolite\", \"x\": 3800.0, \"y\": 150.0, \"label_x\": 3770.0, \"label_y\": 130.0, \"bigg_id\": \"3_ENOLPYRUVYL_SHIKIMATE_5P_c\", \"name\": \"3_ENOLPYRUVYL_SHIKIMATE_5P_c\", \"node_is_primary\": false}, \"36\": {\"node_type\": \"metabolite\", \"x\": 3800.0, \"y\": 300.0, \"label_x\": 3770.0, \"label_y\": 280.0, \"bigg_id\": \"pi_c\", \"name\": \"pi_c\", \"node_is_primary\": false}, \"37\": {\"node_type\": \"multimarker\", \"x\": 3585.0, \"y\": 225.0}, \"38\": {\"node_type\": \"midmarker\", \"x\": 3605.0, \"y\": 225.0}, \"39\": {\"node_type\": \"multimarker\", \"x\": 3625.0, \"y\": 225.0}, \"40\": {\"node_type\": \"metabolite\", \"x\": 4450.0, \"y\": 150.0, \"label_x\": 4420.0, \"label_y\": 130.0, \"bigg_id\": \"CHORISMATE_c\", \"name\": \"CHORISMATE_c\", \"node_is_primary\": false}, \"41\": {\"node_type\": \"metabolite\", \"x\": 4450.0, \"y\": 300.0, \"label_x\": 4420.0, \"label_y\": 280.0, \"bigg_id\": \"pi_c\", \"name\": \"pi_c\", \"node_is_primary\": false}, \"42\": {\"node_type\": \"multimarker\", \"x\": 4235.0, \"y\": 225.0}, \"43\": {\"node_type\": \"midmarker\", \"x\": 4255.0, \"y\": 225.0}, \"44\": {\"node_type\": \"multimarker\", \"x\": 4275.0, \"y\": 225.0}}, \"text_labels\": {}, \"canvas\": {\"x\": 0, \"y\": 0, \"width\": 4550, \"height\": 450}}]",
       "_loaded_model_json": null,
       "allow_building_duplicate_reactions": false,
       "and_method_in_gene_reaction_rule": "mean",
       "canvas_size_and_loc": null,
       "cofactors": [
        "atp",
        "adp",
        "nad",
        "nadh",
        "nadp",
        "nadph",
        "gtp",
        "gdp",
        "h",
        "coa",
        "ump",
        "h2o",
        "ppi"
       ],
       "disabled_buttons": [
        "Clear gene data",
        "Clear metabolite data"
       ],
       "embedded_css": null,
       "enable_editing": true,
       "enable_keys": false,
       "enable_keys_with_tooltip": true,
       "enable_search": true,
       "enable_tooltips": false,
       "full_screen_button": {
        "enable_editing": true,
        "enable_keys": true,
        "enable_tooltips": [
         "label"
        ],
        "menu": "all",
        "scroll_behavior": "pan"
       },
       "gene_data": null,
       "gene_font_size": 18,
       "height": 500,
       "hide_all_labels": false,
       "hide_secondary_metabolites": false,
       "highlight_missing": false,
       "identifiers_on_map": "bigg_id",
       "layout": "IPY_MODEL_37b5811af31347308b002d2af089a207",
       "marker_radius": 5,
       "menu": "all",
       "metabolite_compare_style": "log2_fold",
       "metabolite_data": null,
       "metabolite_no_data_color": "#ffffff",
       "metabolite_no_data_size": 10,
       "metabolite_scale": [
        {
         "color": "#fffaf0",
         "size": 20,
         "type": "min"
        },
        {
         "color": "#f1c470",
         "size": 30,
         "type": "median"
        },
        {
         "color": "#800000",
         "size": 40,
         "type": "max"
        }
       ],
       "metabolite_scale_preset": "WhYlRd",
       "metabolite_styles": [
        "color",
        "size",
        "text"
       ],
       "never_ask_before_quit": false,
       "primary_metabolite_radius": 20,
       "reaction_compare_style": "log2_fold",
       "reaction_data": {
        "2.5.1.19_RXN_c": 0,
        "3_DEHYDROQUINATE_DEHYDRATASE_RXN_c": 0.4646347247614127,
        "3_DEHYDROQUINATE_SYNTHASE_RXN_c": 0.4646347247614135,
        "ACALD": -11.706838677509918,
        "ACALDt": 1.5948213258617017e-15,
        "ACKr": -12.065214128606211,
        "ACONTa": 0.36514427631298446,
        "ACONTb": 0.3651442763129845,
        "ACt2r": -12.065214128606211,
        "ADK1": 0,
        "AKGDH": 0,
        "AKGt2r": 0,
        "ALCD2x": -11.70683867750992,
        "ATPM": 8.39,
        "ATPS4r": -8.683180924960366,
        "Biomass_Ecoli_core": 0,
        "Biomass_Ecoli_core_SA3": 0.3384412608332341,
        "Biomass_Ecoli_core_W3110": 0,
        "CHORISMATE_SYNTHASE_RXN_c": 0,
        "CO2t": 0.6046930007307195,
        "CS": 0.36514427631298446,
        "CYTBD": 0,
        "DAHPSYN_RXN_c": 0.4646347247614135,
        "D_LACt2": 0,
        "ENO": 27.974500503771917,
        "ETOHt2r": -11.706838677509921,
        "EX_ac_e": 12.065214128606211,
        "EX_acald_e": 0,
        "EX_akg_e": 0,
        "EX_co2_e": -0.6046930007307195,
        "EX_etoh_e": 11.706838677509923,
        "EX_for_e": 25.40560723977987,
        "EX_fru_e": 0,
        "EX_fum_e": 0,
        "EX_glc__D_e": -15,
        "EX_gln__L_e": 0,
        "EX_glu__L_e": 0,
        "EX_h2o_e": -8.91692070830452,
        "EX_h_e": 44.72458778546264,
        "EX_lac__D_e": 0,
        "EX_mal__L_e": 0,
        "EX_nh4_e": -1.8454525070714527,
        "EX_o2_e": 0,
        "EX_pi_e": -1.2450238662272328,
        "EX_pyr_e": 0,
        "EX_succ_e": 0,
        "FBA": 14.508474236262028,
        "FBP": 0,
        "FORt2": 0,
        "FORti": 25.40560723977987,
        "FRD7": 0,
        "FRUpts2": 0,
        "FUM": 0,
        "FUMt2_2": 0,
        "G6PDH2r": 0,
        "GAPD": 28.480808629978434,
        "GLCpts": 14.999999999999996,
        "GLNS": 0.08653943039506001,
        "GLNabc": 0,
        "GLUDy": -1.7589130766763885,
        "GLUN": 0,
        "GLUSy": 0,
        "GLUt2r": 1.4034797630313519e-14,
        "GND": 0,
        "H2Ot": 8.91692070830452,
        "ICDHyr": 0.3651442763129845,
        "ICL": 0,
        "LDH_D": 0,
        "MALS": 0,
        "MALt2_2": 0,
        "MDH": 3.211490271802834e-14,
        "ME1": 0,
        "ME2": 0,
        "NADH16": 0,
        "NADTRHD": 0,
        "NH4t": 1.8454525070714527,
        "O2t": 0,
        "PDH": 0,
        "PFK": 14.508474236262028,
        "PFL": 25.40560723977987,
        "PGI": 14.93061954152917,
        "PGK": -28.480808629978437,
        "PGL": 0,
        "PGM": -27.974500503771917,
        "PIt2r": 1.2450238662272328,
        "PPC": 0.9698372770437376,
        "PPCK": 0,
        "PPS": 0,
        "PTAr": 12.065214128606211,
        "PYK": 11.364343643468237,
        "PYRt2": 0,
        "RPE": -0.3981498198740608,
        "RPI": -0.39814981987406833,
        "SHIKIMATE_5_DEHYDROGENASE_RXN_c": -0.4646347247612558,
        "SHIKIMATE_KINASE_RXN_c": 0,
        "SK_CHORISMATE_c": 0,
        "SUCCt2_2": 0,
        "SUCCt3": 0,
        "SUCDi": 0,
        "SUCOAS": 0,
        "TALA": 0.09433110002407664,
        "THD2": 6.26758242713395,
        "TKT1": 0.09433110002407401,
        "TKT2": -0.4924809198981324,
        "TPI": 14.508474236262028
       },
       "reaction_no_data_color": "#dcdcdc",
       "reaction_no_data_size": 8,
       "reaction_scale": [
        {
         "color": "rgb(222,207,207)",
         "type": "value",
         "value": 1.5948213258617017e-15
        },
        {
         "color": "rgb(224,194,194)",
         "type": "value",
         "value": 1.4034797630313519e-14
        },
        {
         "color": "rgb(226,181,181)",
         "type": "value",
         "value": 3.211490271802834e-14
        },
        {
         "color": "rgb(228,168,168)",
         "type": "value",
         "value": 0.08653943039506001
        },
        {
         "color": "rgb(230,155,155)",
         "type": "value",
         "value": 0.09433110002407401
        },
        {
         "color": "rgb(232,142,142)",
         "type": "value",
         "value": 0.09433110002407664
        },
        {
         "color": "rgb(234,129,129)",
         "type": "value",
         "value": 0.3384412608332341
        },
        {
         "color": "rgb(236,116,116)",
         "type": "value",
         "value": 0.36514427631298446
        },
        {
         "color": "rgb(238,103,103)",
         "type": "value",
         "value": 0.36514427631298446
        },
        {
         "color": "rgb(240,90,90)",
         "type": "value",
         "value": 0.3651442763129845
        },
        {
         "color": "rgb(242,77,77)",
         "type": "value",
         "value": 0.3651442763129845
        },
        {
         "color": "rgb(244,64,64)",
         "type": "value",
         "value": 0.4646347247614127
        },
        {
         "color": "rgb(246,51,51)",
         "type": "value",
         "value": 0.4646347247614135
        },
        {
         "color": "rgb(248,38,38)",
         "type": "value",
         "value": 0.4646347247614135
        },
        {
         "color": "rgb(250,25,25)",
         "type": "value",
         "value": 0.6046930007307195
        },
        {
         "color": "rgb(252,12,12)",
         "type": "value",
         "value": 0.9698372770437376
        },
        {
         "color": "rgb(254,0,0)",
         "type": "value",
         "value": 1
        },
        {
         "color": "rgb(220,220,220)",
         "type": "value",
         "value": 0
        },
        {
         "color": "rgb(183,183,225)",
         "type": "value",
         "value": -0.3981498198740608
        },
        {
         "color": "rgb(146,146,231)",
         "type": "value",
         "value": -0.39814981987406833
        },
        {
         "color": "rgb(109,109,237)",
         "type": "value",
         "value": -0.4646347247612557
        },
        {
         "color": "rgb(73,73,243)",
         "type": "value",
         "value": -0.4924809198981324
        },
        {
         "color": "rgb(36,36,249)",
         "type": "value",
         "value": -0.6046930007307195
        },
        {
         "color": "rgb(0,0,254)",
         "type": "value",
         "value": -1
        }
       ],
       "reaction_scale_preset": null,
       "reaction_styles": [
        "color",
        "text"
       ],
       "scroll_behavior": "none",
       "secondary_metabolite_radius": 10,
       "semantic_zoom": null,
       "show_gene_reaction_rules": false,
       "starting_reaction": null,
       "use_3d_transform": false,
       "zoom_to_element": null
      }
     },
     "2a0c7bb7198a4a50a52e9cd5bdc5f916": {
      "model_module": "@jupyter-widgets/base",
      "model_module_version": "1.2.0",
      "model_name": "LayoutModel",
      "state": {}
     },
     "30dd91a4b91346edb960d0dcf510e8c9": {
      "model_module": "escher",
      "model_module_version": "1.7.3",
      "model_name": "EscherMapModel",
      "state": {
       "_loaded_map_json": "[{\"map_name\": \"\", \"map_id\": \"\", \"map_description\": \"\", \"homepage\": \"\", \"schema\": \"https://escher.github.io/escher/jsonschema/1-0-0#\"}, {\"reactions\": {\"0\": {\"name\": \"DAHPSYN_RXN_c\", \"bigg_id\": \"DAHPSYN_RXN_c\", \"reversibility\": true, \"label_x\": 208.0, \"label_y\": 45.0, \"gene_reaction_rule\": \"\", \"genes\": [], \"segments\": {\"0\": {\"from_node_id\": \"5\", \"to_node_id\": \"6\", \"b1\": null, \"b2\": null}, \"1\": {\"from_node_id\": \"7\", \"to_node_id\": \"6\", \"b1\": null, \"b2\": null}, \"2\": {\"from_node_id\": \"0\", \"to_node_id\": \"5\", \"b1\": null, \"b2\": null}, \"3\": {\"from_node_id\": \"1\", \"to_node_id\": \"5\", \"b1\": null, \"b2\": null}, \"4\": {\"from_node_id\": \"2\", \"to_node_id\": \"5\", \"b1\": null, \"b2\": null}, \"5\": {\"from_node_id\": \"3\", \"to_node_id\": \"7\", \"b1\": null, \"b2\": null}, \"6\": {\"from_node_id\": \"4\", \"to_node_id\": \"7\", \"b1\": null, \"b2\": null}}, \"metabolites\": [{\"bigg_id\": \"e4p_c\", \"coefficient\": -1.0}, {\"bigg_id\": \"h2o_c\", \"coefficient\": -1.0}, {\"bigg_id\": \"pep_c\", \"coefficient\": -1.0}, {\"bigg_id\": \"3_DEOXY_D_ARABINO_HEPTULOSONATE_7_P_c\", \"coefficient\": 1.0}, {\"bigg_id\": \"pi_c\", \"coefficient\": 1.0}]}, \"1\": {\"name\": \"3_DEHYDROQUINATE_SYNTHASE_RXN_c\", \"bigg_id\": \"3_DEHYDROQUINATE_SYNTHASE_RXN_c\", \"reversibility\": true, \"label_x\": 696.0, \"label_y\": 45.0, \"gene_reaction_rule\": \"\", \"genes\": [], \"segments\": {\"7\": {\"from_node_id\": \"10\", \"to_node_id\": \"11\", \"b1\": null, \"b2\": null}, \"8\": {\"from_node_id\": \"12\", \"to_node_id\": \"11\", \"b1\": null, \"b2\": null}, \"9\": {\"from_node_id\": \"3\", \"to_node_id\": \"10\", \"b1\": null, \"b2\": null}, \"10\": {\"from_node_id\": \"8\", \"to_node_id\": \"12\", \"b1\": null, \"b2\": null}, \"11\": {\"from_node_id\": \"9\", \"to_node_id\": \"12\", \"b1\": null, \"b2\": null}}, \"metabolites\": [{\"bigg_id\": \"3_DEOXY_D_ARABINO_HEPTULOSONATE_7_P_c\", \"coefficient\": -1.0}, {\"bigg_id\": \"DEHYDROQUINATE_c\", \"coefficient\": 1.0}, {\"bigg_id\": \"pi_c\", \"coefficient\": 1.0}]}, \"2\": {\"name\": \"3_DEHYDROQUINATE_DEHYDRATASE_RXN_c\", \"bigg_id\": \"3_DEHYDROQUINATE_DEHYDRATASE_RXN_c\", \"reversibility\": true, \"label_x\": 1319.0, \"label_y\": 45.0, \"gene_reaction_rule\": \"\", \"genes\": [], \"segments\": {\"12\": {\"from_node_id\": \"15\", \"to_node_id\": \"16\", \"b1\": null, \"b2\": null}, \"13\": {\"from_node_id\": \"17\", \"to_node_id\": \"16\", \"b1\": null, \"b2\": null}, \"14\": {\"from_node_id\": \"8\", \"to_node_id\": \"15\", \"b1\": null, \"b2\": null}, \"15\": {\"from_node_id\": \"13\", \"to_node_id\": \"17\", \"b1\": null, \"b2\": null}, \"16\": {\"from_node_id\": \"14\", \"to_node_id\": \"17\", \"b1\": null, \"b2\": null}}, \"metabolites\": [{\"bigg_id\": \"DEHYDROQUINATE_c\", \"coefficient\": -1.0}, {\"bigg_id\": \"3_DEHYDRO_SHIKIMATE_c\", \"coefficient\": 1.0}, {\"bigg_id\": \"h2o_c\", \"coefficient\": 1.0}]}, \"3\": {\"name\": \"SHIKIMATE_5_DEHYDROGENASE_RXN_c\", \"bigg_id\": \"SHIKIMATE_5_DEHYDROGENASE_RXN_c\", \"reversibility\": true, \"label_x\": 1996.0, \"label_y\": 45.0, \"gene_reaction_rule\": \"\", \"genes\": [], \"segments\": {\"17\": {\"from_node_id\": \"23\", \"to_node_id\": \"24\", \"b1\": null, \"b2\": null}, \"18\": {\"from_node_id\": \"25\", \"to_node_id\": \"24\", \"b1\": null, \"b2\": null}, \"19\": {\"from_node_id\": \"18\", \"to_node_id\": \"23\", \"b1\": null, \"b2\": null}, \"20\": {\"from_node_id\": \"19\", \"to_node_id\": \"23\", \"b1\": null, \"b2\": null}, \"21\": {\"from_node_id\": \"20\", \"to_node_id\": \"25\", \"b1\": null, \"b2\": null}, \"22\": {\"from_node_id\": \"21\", \"to_node_id\": \"25\", \"b1\": null, \"b2\": null}, \"23\": {\"from_node_id\": \"22\", \"to_node_id\": \"25\", \"b1\": null, \"b2\": null}}, \"metabolites\": [{\"bigg_id\": \"SHIKIMATE_c\", \"coefficient\": -1.0}, {\"bigg_id\": \"nadp_c\", \"coefficient\": -1.0}, {\"bigg_id\": \"3_DEHYDRO_SHIKIMATE_c\", \"coefficient\": 1.0}, {\"bigg_id\": \"h_c\", \"coefficient\": 1.0}, {\"bigg_id\": \"nadph_c\", \"coefficient\": 1.0}]}, \"4\": {\"name\": \"SHIKIMATE_KINASE_RXN_c\", \"bigg_id\": \"SHIKIMATE_KINASE_RXN_c\", \"reversibility\": true, \"label_x\": 2727.0, \"label_y\": 45.0, \"gene_reaction_rule\": \"\", \"genes\": [], \"segments\": {\"24\": {\"from_node_id\": \"31\", \"to_node_id\": \"32\", \"b1\": null, \"b2\": null}, \"25\": {\"from_node_id\": \"33\", \"to_node_id\": \"32\", \"b1\": null, \"b2\": null}, \"26\": {\"from_node_id\": \"26\", \"to_node_id\": \"31\", \"b1\": null, \"b2\": null}, \"27\": {\"from_node_id\": \"27\", \"to_node_id\": \"31\", \"b1\": null, \"b2\": null}, \"28\": {\"from_node_id\": \"28\", \"to_node_id\": \"33\", \"b1\": null, \"b2\": null}, \"29\": {\"from_node_id\": \"29\", \"to_node_id\": \"33\", \"b1\": null, \"b2\": null}, \"30\": {\"from_node_id\": \"30\", \"to_node_id\": \"33\", \"b1\": null, \"b2\": null}}, \"metabolites\": [{\"bigg_id\": \"SHIKIMATE_c\", \"coefficient\": -1.0}, {\"bigg_id\": \"atp_c\", \"coefficient\": -1.0}, {\"bigg_id\": \"SHIKIMATE_5P_c\", \"coefficient\": 1.0}, {\"bigg_id\": \"adp_c\", \"coefficient\": 1.0}, {\"bigg_id\": \"h_c\", \"coefficient\": 1.0}]}, \"5\": {\"name\": \"2.5.1.19_RXN_c\", \"bigg_id\": \"2.5.1.19_RXN_c\", \"reversibility\": true, \"label_x\": 3449.0, \"label_y\": 45.0, \"gene_reaction_rule\": \"\", \"genes\": [], \"segments\": {\"31\": {\"from_node_id\": \"37\", \"to_node_id\": \"38\", \"b1\": null, \"b2\": null}, \"32\": {\"from_node_id\": \"39\", \"to_node_id\": \"38\", \"b1\": null, \"b2\": null}, \"33\": {\"from_node_id\": \"28\", \"to_node_id\": \"37\", \"b1\": null, \"b2\": null}, \"34\": {\"from_node_id\": \"34\", \"to_node_id\": \"37\", \"b1\": null, \"b2\": null}, \"35\": {\"from_node_id\": \"35\", \"to_node_id\": \"39\", \"b1\": null, \"b2\": null}, \"36\": {\"from_node_id\": \"36\", \"to_node_id\": \"39\", \"b1\": null, \"b2\": null}}, \"metabolites\": [{\"bigg_id\": \"SHIKIMATE_5P_c\", \"coefficient\": -1.0}, {\"bigg_id\": \"pep_c\", \"coefficient\": -1.0}, {\"bigg_id\": \"3_ENOLPYRUVYL_SHIKIMATE_5P_c\", \"coefficient\": 1.0}, {\"bigg_id\": \"pi_c\", \"coefficient\": 1.0}]}, \"6\": {\"name\": \"CHORISMATE_SYNTHASE_RXN_c\", \"bigg_id\": \"CHORISMATE_SYNTHASE_RXN_c\", \"reversibility\": true, \"label_x\": 4000.0, \"label_y\": 45.0, \"gene_reaction_rule\": \"\", \"genes\": [], \"segments\": {\"37\": {\"from_node_id\": \"42\", \"to_node_id\": \"43\", \"b1\": null, \"b2\": null}, \"38\": {\"from_node_id\": \"44\", \"to_node_id\": \"43\", \"b1\": null, \"b2\": null}, \"39\": {\"from_node_id\": \"35\", \"to_node_id\": \"42\", \"b1\": null, \"b2\": null}, \"40\": {\"from_node_id\": \"40\", \"to_node_id\": \"44\", \"b1\": null, \"b2\": null}, \"41\": {\"from_node_id\": \"41\", \"to_node_id\": \"44\", \"b1\": null, \"b2\": null}}, \"metabolites\": [{\"bigg_id\": \"3_ENOLPYRUVYL_SHIKIMATE_5P_c\", \"coefficient\": -1.0}, {\"bigg_id\": \"CHORISMATE_c\", \"coefficient\": 1.0}, {\"bigg_id\": \"pi_c\", \"coefficient\": 1.0}]}}, \"nodes\": {\"0\": {\"node_type\": \"metabolite\", \"x\": 30.0, \"y\": 112.5, \"label_x\": 0.0, \"label_y\": 92.5, \"bigg_id\": \"e4p_c\", \"name\": \"e4p_c\", \"node_is_primary\": false}, \"1\": {\"node_type\": \"metabolite\", \"x\": 30.0, \"y\": 225.0, \"label_x\": 0.0, \"label_y\": 205.0, \"bigg_id\": \"h2o_c\", \"name\": \"h2o_c\", \"node_is_primary\": false}, \"2\": {\"node_type\": \"metabolite\", \"x\": 30.0, \"y\": 337.5, \"label_x\": 0.0, \"label_y\": 317.5, \"bigg_id\": \"pep_c\", \"name\": \"pep_c\", \"node_is_primary\": false}, \"3\": {\"node_type\": \"metabolite\", \"x\": 550.0, \"y\": 150.0, \"label_x\": 520.0, \"label_y\": 130.0, \"bigg_id\": \"3_DEOXY_D_ARABINO_HEPTULOSONATE_7_P_c\", \"name\": \"3_DEOXY_D_ARABINO_HEPTULOSONATE_7_P_c\", \"node_is_primary\": false}, \"4\": {\"node_type\": \"metabolite\", \"x\": 550.0, \"y\": 300.0, \"label_x\": 520.0, \"label_y\": 280.0, \"bigg_id\": \"pi_c\", \"name\": \"pi_c\", \"node_is_primary\": false}, \"5\": {\"node_type\": \"multimarker\", \"x\": 335.0, \"y\": 225.0}, \"6\": {\"node_type\": \"midmarker\", \"x\": 355.0, \"y\": 225.0}, \"7\": {\"node_type\": \"multimarker\", \"x\": 375.0, \"y\": 225.0}, \"8\": {\"node_type\": \"metabolite\", \"x\": 1200.0, \"y\": 150.0, \"label_x\": 1170.0, \"label_y\": 130.0, \"bigg_id\": \"DEHYDROQUINATE_c\", \"name\": \"DEHYDROQUINATE_c\", \"node_is_primary\": false}, \"9\": {\"node_type\": \"metabolite\", \"x\": 1200.0, \"y\": 300.0, \"label_x\": 1170.0, \"label_y\": 280.0, \"bigg_id\": \"pi_c\", \"name\": \"pi_c\", \"node_is_primary\": false}, \"10\": {\"node_type\": \"multimarker\", \"x\": 985.0, \"y\": 225.0}, \"11\": {\"node_type\": \"midmarker\", \"x\": 1005.0, \"y\": 225.0}, \"12\": {\"node_type\": \"multimarker\", \"x\": 1025.0, \"y\": 225.0}, \"13\": {\"node_type\": \"metabolite\", \"x\": 1850.0, \"y\": 150.0, \"label_x\": 1820.0, \"label_y\": 130.0, \"bigg_id\": \"3_DEHYDRO_SHIKIMATE_c\", \"name\": \"3_DEHYDRO_SHIKIMATE_c\", \"node_is_primary\": false}, \"14\": {\"node_type\": \"metabolite\", \"x\": 1850.0, \"y\": 300.0, \"label_x\": 1820.0, \"label_y\": 280.0, \"bigg_id\": \"h2o_c\", \"name\": \"h2o_c\", \"node_is_primary\": false}, \"15\": {\"node_type\": \"multimarker\", \"x\": 1635.0, \"y\": 225.0}, \"16\": {\"node_type\": \"midmarker\", \"x\": 1655.0, \"y\": 225.0}, \"17\": {\"node_type\": \"multimarker\", \"x\": 1675.0, \"y\": 225.0}, \"18\": {\"node_type\": \"metabolite\", \"x\": 1980.0, \"y\": 150.0, \"label_x\": 1950.0, \"label_y\": 130.0, \"bigg_id\": \"SHIKIMATE_c\", \"name\": \"SHIKIMATE_c\", \"node_is_primary\": false}, \"19\": {\"node_type\": \"metabolite\", \"x\": 1980.0, \"y\": 300.0, \"label_x\": 1950.0, \"label_y\": 280.0, \"bigg_id\": \"nadp_c\", \"name\": \"nadp_c\", \"node_is_primary\": false}, \"20\": {\"node_type\": \"metabolite\", \"x\": 2500.0, \"y\": 112.5, \"label_x\": 2470.0, \"label_y\": 92.5, \"bigg_id\": \"3_DEHYDRO_SHIKIMATE_c\", \"name\": \"3_DEHYDRO_SHIKIMATE_c\", \"node_is_primary\": false}, \"21\": {\"node_type\": \"metabolite\", \"x\": 2500.0, \"y\": 225.0, \"label_x\": 2470.0, \"label_y\": 205.0, \"bigg_id\": \"h_c\", \"name\": \"h_c\", \"node_is_primary\": false}, \"22\": {\"node_type\": \"metabolite\", \"x\": 2500.0, \"y\": 337.5, \"label_x\": 2470.0, \"label_y\": 317.5, \"bigg_id\": \"nadph_c\", \"name\": \"nadph_c\", \"node_is_primary\": false}, \"23\": {\"node_type\": \"multimarker\", \"x\": 2285.0, \"y\": 225.0}, \"24\": {\"node_type\": \"midmarker\", \"x\": 2305.0, \"y\": 225.0}, \"25\": {\"node_type\": \"multimarker\", \"x\": 2325.0, \"y\": 225.0}, \"26\": {\"node_type\": \"metabolite\", \"x\": 2630.0, \"y\": 150.0, \"label_x\": 2600.0, \"label_y\": 130.0, \"bigg_id\": \"SHIKIMATE_c\", \"name\": \"SHIKIMATE_c\", \"node_is_primary\": false}, \"27\": {\"node_type\": \"metabolite\", \"x\": 2630.0, \"y\": 300.0, \"label_x\": 2600.0, \"label_y\": 280.0, \"bigg_id\": \"atp_c\", \"name\": \"atp_c\", \"node_is_primary\": false}, \"28\": {\"node_type\": \"metabolite\", \"x\": 3150.0, \"y\": 112.5, \"label_x\": 3120.0, \"label_y\": 92.5, \"bigg_id\": \"SHIKIMATE_5P_c\", \"name\": \"SHIKIMATE_5P_c\", \"node_is_primary\": false}, \"29\": {\"node_type\": \"metabolite\", \"x\": 3150.0, \"y\": 225.0, \"label_x\": 3120.0, \"label_y\": 205.0, \"bigg_id\": \"adp_c\", \"name\": \"adp_c\", \"node_is_primary\": false}, \"30\": {\"node_type\": \"metabolite\", \"x\": 3150.0, \"y\": 337.5, \"label_x\": 3120.0, \"label_y\": 317.5, \"bigg_id\": \"h_c\", \"name\": \"h_c\", \"node_is_primary\": false}, \"31\": {\"node_type\": \"multimarker\", \"x\": 2935.0, \"y\": 225.0}, \"32\": {\"node_type\": \"midmarker\", \"x\": 2955.0, \"y\": 225.0}, \"33\": {\"node_type\": \"multimarker\", \"x\": 2975.0, \"y\": 225.0}, \"34\": {\"node_type\": \"metabolite\", \"x\": 3280.0, \"y\": 300.0, \"label_x\": 3250.0, \"label_y\": 280.0, \"bigg_id\": \"pep_c\", \"name\": \"pep_c\", \"node_is_primary\": false}, \"35\": {\"node_type\": \"metabolite\", \"x\": 3800.0, \"y\": 150.0, \"label_x\": 3770.0, \"label_y\": 130.0, \"bigg_id\": \"3_ENOLPYRUVYL_SHIKIMATE_5P_c\", \"name\": \"3_ENOLPYRUVYL_SHIKIMATE_5P_c\", \"node_is_primary\": false}, \"36\": {\"node_type\": \"metabolite\", \"x\": 3800.0, \"y\": 300.0, \"label_x\": 3770.0, \"label_y\": 280.0, \"bigg_id\": \"pi_c\", \"name\": \"pi_c\", \"node_is_primary\": false}, \"37\": {\"node_type\": \"multimarker\", \"x\": 3585.0, \"y\": 225.0}, \"38\": {\"node_type\": \"midmarker\", \"x\": 3605.0, \"y\": 225.0}, \"39\": {\"node_type\": \"multimarker\", \"x\": 3625.0, \"y\": 225.0}, \"40\": {\"node_type\": \"metabolite\", \"x\": 4450.0, \"y\": 150.0, \"label_x\": 4420.0, \"label_y\": 130.0, \"bigg_id\": \"CHORISMATE_c\", \"name\": \"CHORISMATE_c\", \"node_is_primary\": false}, \"41\": {\"node_type\": \"metabolite\", \"x\": 4450.0, \"y\": 300.0, \"label_x\": 4420.0, \"label_y\": 280.0, \"bigg_id\": \"pi_c\", \"name\": \"pi_c\", \"node_is_primary\": false}, \"42\": {\"node_type\": \"multimarker\", \"x\": 4235.0, \"y\": 225.0}, \"43\": {\"node_type\": \"midmarker\", \"x\": 4255.0, \"y\": 225.0}, \"44\": {\"node_type\": \"multimarker\", \"x\": 4275.0, \"y\": 225.0}}, \"text_labels\": {}, \"canvas\": {\"x\": 0, \"y\": 0, \"width\": 4550, \"height\": 450}}]",
       "_loaded_model_json": null,
       "allow_building_duplicate_reactions": false,
       "and_method_in_gene_reaction_rule": "mean",
       "canvas_size_and_loc": null,
       "cofactors": [
        "atp",
        "adp",
        "nad",
        "nadh",
        "nadp",
        "nadph",
        "gtp",
        "gdp",
        "h",
        "coa",
        "ump",
        "h2o",
        "ppi"
       ],
       "disabled_buttons": [
        "Clear gene data",
        "Clear metabolite data"
       ],
       "embedded_css": null,
       "enable_editing": true,
       "enable_keys": false,
       "enable_keys_with_tooltip": true,
       "enable_search": true,
       "enable_tooltips": false,
       "full_screen_button": {
        "enable_editing": true,
        "enable_keys": true,
        "enable_tooltips": [
         "label"
        ],
        "menu": "all",
        "scroll_behavior": "pan"
       },
       "gene_data": null,
       "gene_font_size": 18,
       "height": 500,
       "hide_all_labels": false,
       "hide_secondary_metabolites": false,
       "highlight_missing": false,
       "identifiers_on_map": "bigg_id",
       "layout": "IPY_MODEL_8f8c7c48d37942c28339aacac6b23e55",
       "marker_radius": 5,
       "menu": "all",
       "metabolite_compare_style": "log2_fold",
       "metabolite_data": null,
       "metabolite_no_data_color": "#ffffff",
       "metabolite_no_data_size": 10,
       "metabolite_scale": [
        {
         "color": "#fffaf0",
         "size": 20,
         "type": "min"
        },
        {
         "color": "#f1c470",
         "size": 30,
         "type": "median"
        },
        {
         "color": "#800000",
         "size": 40,
         "type": "max"
        }
       ],
       "metabolite_scale_preset": "WhYlRd",
       "metabolite_styles": [
        "color",
        "size",
        "text"
       ],
       "never_ask_before_quit": false,
       "primary_metabolite_radius": 20,
       "reaction_compare_style": "log2_fold",
       "reaction_data": {
        "2.5.1.19_RXN_c": 0,
        "3_DEHYDROQUINATE_DEHYDRATASE_RXN_c": 0.0024030054219134293,
        "3_DEHYDROQUINATE_SYNTHASE_RXN_c": 0.002403005421914144,
        "ACALD": -12.03976080152985,
        "ACALDt": 1.5948213258617017e-15,
        "ACKr": -12.425016580979458,
        "ACONTa": 0.3925323075343888,
        "ACONTb": 0.3925323075343888,
        "ACt2r": -12.425016580979458,
        "ADK1": 0,
        "AKGDH": 0,
        "AKGt2r": 0,
        "ALCD2x": -12.039760801529852,
        "ATPM": 8.39,
        "ATPS4r": -8.825370046098216,
        "Biomass_Ecoli_core": 0,
        "Biomass_Ecoli_core_SA3": 0,
        "Biomass_Ecoli_core_W3110": 0.36382640423986407,
        "CHORISMATE_SYNTHASE_RXN_c": 0,
        "CO2t": 0.650048636455365,
        "CS": 0.3925323075343888,
        "CYTBD": 0,
        "DAHPSYN_RXN_c": 0.002403005421914144,
        "D_LACt2": 0,
        "ENO": 28.48535196163712,
        "ETOHt2r": -12.039760801529853,
        "EX_ac_e": 12.425016580979458,
        "EX_acald_e": 0,
        "EX_akg_e": 0,
        "EX_co2_e": -0.650048636455365,
        "EX_etoh_e": 12.039760801529852,
        "EX_for_e": 26.220858287853854,
        "EX_fru_e": 0,
        "EX_fum_e": 0,
        "EX_glc__D_e": -15,
        "EX_gln__L_e": 0,
        "EX_glu__L_e": 0,
        "EX_h2o_e": -10.034746368096503,
        "EX_h_e": 45.94663554330687,
        "EX_lac__D_e": 0,
        "EX_mal__L_e": 0,
        "EX_nh4_e": -1.9838726170391372,
        "EX_o2_e": 0,
        "EX_pi_e": -1.3384081932771719,
        "EX_pyr_e": 0,
        "EX_succ_e": 0,
        "FBA": 14.637300873895308,
        "FBP": 0,
        "FORt2": 0,
        "FORti": 26.220858287853854,
        "FRD7": 0,
        "FRUpts2": 0,
        "FUM": 0,
        "FUMt2_2": 0,
        "G6PDH2r": 0,
        "GAPD": 29.029636262379956,
        "GLCpts": 15,
        "GLNS": 0.09303041156413322,
        "GLNabc": 0,
        "GLUDy": -1.8908422054749972,
        "GLUN": 0,
        "GLUSy": 0,
        "GLUt2r": 0,
        "GND": 0,
        "H2Ot": 10.034746368096503,
        "ICDHyr": 0.3925323075343888,
        "ICL": 0,
        "LDH_D": 0,
        "MALS": 0,
        "MALt2_2": 0,
        "MDH": 0,
        "ME1": 0,
        "ME2": 0,
        "NADH16": 0,
        "NADTRHD": 0,
        "NH4t": 1.9838726170391372,
        "O2t": 0,
        "PDH": 0,
        "PFK": 14.637300873895308,
        "PFL": 26.220858287853854,
        "PGI": 14.92541558713083,
        "PGK": -29.02963626237996,
        "PGL": 0,
        "PGM": -28.48535196163712,
        "PIt2r": 1.3384081932771719,
        "PPC": 1.0425809439897533,
        "PPCK": 0,
        "PPS": 0,
        "PTAr": 12.425016580979458,
        "PYK": 12.25150572578454,
        "PYRt2": 0,
        "RPE": -0.2623194211749188,
        "RPI": -0.262319421174919,
        "SHIKIMATE_5_DEHYDROGENASE_RXN_c": -0.00240300542191755,
        "SHIKIMATE_KINASE_RXN_c": 0,
        "SK_CHORISMATE_c": 0,
        "SUCCt2_2": 0,
        "SUCCt3": 0,
        "SUCDi": 0,
        "SUCOAS": 0,
        "TALA": -0.06428754191120688,
        "THD2": 6.240606915159051,
        "TKT1": -0.06428754191120695,
        "TKT2": -0.19803187926371205,
        "TPI": 14.637300873895308
       },
       "reaction_no_data_color": "#dcdcdc",
       "reaction_no_data_size": 8,
       "reaction_scale": [
        {
         "color": "rgb(222,201,201)",
         "type": "value",
         "value": 1.5948213258617017e-15
        },
        {
         "color": "rgb(225,183,183)",
         "type": "value",
         "value": 0.0024030054219134293
        },
        {
         "color": "rgb(228,165,165)",
         "type": "value",
         "value": 0.002403005421914144
        },
        {
         "color": "rgb(231,146,146)",
         "type": "value",
         "value": 0.002403005421914144
        },
        {
         "color": "rgb(234,128,128)",
         "type": "value",
         "value": 0.09303041156413322
        },
        {
         "color": "rgb(237,110,110)",
         "type": "value",
         "value": 0.36382640423986407
        },
        {
         "color": "rgb(240,91,91)",
         "type": "value",
         "value": 0.3925323075343888
        },
        {
         "color": "rgb(243,73,73)",
         "type": "value",
         "value": 0.3925323075343888
        },
        {
         "color": "rgb(246,55,55)",
         "type": "value",
         "value": 0.3925323075343888
        },
        {
         "color": "rgb(249,36,36)",
         "type": "value",
         "value": 0.3925323075343888
        },
        {
         "color": "rgb(252,18,18)",
         "type": "value",
         "value": 0.650048636455365
        },
        {
         "color": "rgb(255,0,0)",
         "type": "value",
         "value": 1
        },
        {
         "color": "rgb(220,220,220)",
         "type": "value",
         "value": 0
        },
        {
         "color": "rgb(192,192,224)",
         "type": "value",
         "value": -0.00240300542191755
        },
        {
         "color": "rgb(165,165,228)",
         "type": "value",
         "value": -0.06428754191120688
        },
        {
         "color": "rgb(137,137,233)",
         "type": "value",
         "value": -0.06428754191120707
        },
        {
         "color": "rgb(110,110,237)",
         "type": "value",
         "value": -0.19803187926371205
        },
        {
         "color": "rgb(82,82,241)",
         "type": "value",
         "value": -0.2623194211749188
        },
        {
         "color": "rgb(55,55,246)",
         "type": "value",
         "value": -0.262319421174919
        },
        {
         "color": "rgb(27,27,250)",
         "type": "value",
         "value": -0.650048636455365
        },
        {
         "color": "rgb(0,0,255)",
         "type": "value",
         "value": -1
        }
       ],
       "reaction_scale_preset": null,
       "reaction_styles": [
        "color",
        "text"
       ],
       "scroll_behavior": "none",
       "secondary_metabolite_radius": 10,
       "semantic_zoom": null,
       "show_gene_reaction_rules": false,
       "starting_reaction": null,
       "use_3d_transform": false,
       "zoom_to_element": null
      }
     },
     "31ddea2693204e6f8b1127c8fb013e86": {
      "model_module": "@jupyter-widgets/base",
      "model_module_version": "1.2.0",
      "model_name": "LayoutModel",
      "state": {}
     },
     "37b5811af31347308b002d2af089a207": {
      "model_module": "@jupyter-widgets/base",
      "model_module_version": "1.2.0",
      "model_name": "LayoutModel",
      "state": {}
     },
     "3f9d79fca34e43a3930beb89d3d444ae": {
      "model_module": "@jupyter-widgets/base",
      "model_module_version": "1.2.0",
      "model_name": "LayoutModel",
      "state": {}
     },
     "4326c26d8d224d3892eedf95a8ec11e6": {
      "model_module": "@jupyter-widgets/base",
      "model_module_version": "1.2.0",
      "model_name": "LayoutModel",
      "state": {}
     },
     "67b124c1198a432bb4040b70fb214baf": {
      "model_module": "escher",
      "model_module_version": "1.7.3",
      "model_name": "EscherMapModel",
      "state": {
       "_loaded_map_json": "[{\"map_name\": \"\", \"map_id\": \"\", \"map_description\": \"\", \"homepage\": \"\", \"schema\": \"https://escher.github.io/escher/jsonschema/1-0-0#\"}, {\"reactions\": {\"0\": {\"name\": \"DAHPSYN_RXN_c\", \"bigg_id\": \"DAHPSYN_RXN_c\", \"reversibility\": true, \"label_x\": 208.0, \"label_y\": 45.0, \"gene_reaction_rule\": \"\", \"genes\": [], \"segments\": {\"0\": {\"from_node_id\": \"5\", \"to_node_id\": \"6\", \"b1\": null, \"b2\": null}, \"1\": {\"from_node_id\": \"7\", \"to_node_id\": \"6\", \"b1\": null, \"b2\": null}, \"2\": {\"from_node_id\": \"0\", \"to_node_id\": \"5\", \"b1\": null, \"b2\": null}, \"3\": {\"from_node_id\": \"1\", \"to_node_id\": \"5\", \"b1\": null, \"b2\": null}, \"4\": {\"from_node_id\": \"2\", \"to_node_id\": \"5\", \"b1\": null, \"b2\": null}, \"5\": {\"from_node_id\": \"3\", \"to_node_id\": \"7\", \"b1\": null, \"b2\": null}, \"6\": {\"from_node_id\": \"4\", \"to_node_id\": \"7\", \"b1\": null, \"b2\": null}}, \"metabolites\": [{\"bigg_id\": \"e4p_c\", \"coefficient\": -1.0}, {\"bigg_id\": \"h2o_c\", \"coefficient\": -1.0}, {\"bigg_id\": \"pep_c\", \"coefficient\": -1.0}, {\"bigg_id\": \"3_DEOXY_D_ARABINO_HEPTULOSONATE_7_P_c\", \"coefficient\": 1.0}, {\"bigg_id\": \"pi_c\", \"coefficient\": 1.0}]}, \"1\": {\"name\": \"3_DEHYDROQUINATE_SYNTHASE_RXN_c\", \"bigg_id\": \"3_DEHYDROQUINATE_SYNTHASE_RXN_c\", \"reversibility\": true, \"label_x\": 696.0, \"label_y\": 45.0, \"gene_reaction_rule\": \"\", \"genes\": [], \"segments\": {\"7\": {\"from_node_id\": \"10\", \"to_node_id\": \"11\", \"b1\": null, \"b2\": null}, \"8\": {\"from_node_id\": \"12\", \"to_node_id\": \"11\", \"b1\": null, \"b2\": null}, \"9\": {\"from_node_id\": \"3\", \"to_node_id\": \"10\", \"b1\": null, \"b2\": null}, \"10\": {\"from_node_id\": \"8\", \"to_node_id\": \"12\", \"b1\": null, \"b2\": null}, \"11\": {\"from_node_id\": \"9\", \"to_node_id\": \"12\", \"b1\": null, \"b2\": null}}, \"metabolites\": [{\"bigg_id\": \"3_DEOXY_D_ARABINO_HEPTULOSONATE_7_P_c\", \"coefficient\": -1.0}, {\"bigg_id\": \"DEHYDROQUINATE_c\", \"coefficient\": 1.0}, {\"bigg_id\": \"pi_c\", \"coefficient\": 1.0}]}, \"2\": {\"name\": \"3_DEHYDROQUINATE_DEHYDRATASE_RXN_c\", \"bigg_id\": \"3_DEHYDROQUINATE_DEHYDRATASE_RXN_c\", \"reversibility\": true, \"label_x\": 1319.0, \"label_y\": 45.0, \"gene_reaction_rule\": \"\", \"genes\": [], \"segments\": {\"12\": {\"from_node_id\": \"15\", \"to_node_id\": \"16\", \"b1\": null, \"b2\": null}, \"13\": {\"from_node_id\": \"17\", \"to_node_id\": \"16\", \"b1\": null, \"b2\": null}, \"14\": {\"from_node_id\": \"8\", \"to_node_id\": \"15\", \"b1\": null, \"b2\": null}, \"15\": {\"from_node_id\": \"13\", \"to_node_id\": \"17\", \"b1\": null, \"b2\": null}, \"16\": {\"from_node_id\": \"14\", \"to_node_id\": \"17\", \"b1\": null, \"b2\": null}}, \"metabolites\": [{\"bigg_id\": \"DEHYDROQUINATE_c\", \"coefficient\": -1.0}, {\"bigg_id\": \"3_DEHYDRO_SHIKIMATE_c\", \"coefficient\": 1.0}, {\"bigg_id\": \"h2o_c\", \"coefficient\": 1.0}]}, \"3\": {\"name\": \"SHIKIMATE_5_DEHYDROGENASE_RXN_c\", \"bigg_id\": \"SHIKIMATE_5_DEHYDROGENASE_RXN_c\", \"reversibility\": true, \"label_x\": 1996.0, \"label_y\": 45.0, \"gene_reaction_rule\": \"\", \"genes\": [], \"segments\": {\"17\": {\"from_node_id\": \"23\", \"to_node_id\": \"24\", \"b1\": null, \"b2\": null}, \"18\": {\"from_node_id\": \"25\", \"to_node_id\": \"24\", \"b1\": null, \"b2\": null}, \"19\": {\"from_node_id\": \"18\", \"to_node_id\": \"23\", \"b1\": null, \"b2\": null}, \"20\": {\"from_node_id\": \"19\", \"to_node_id\": \"23\", \"b1\": null, \"b2\": null}, \"21\": {\"from_node_id\": \"20\", \"to_node_id\": \"25\", \"b1\": null, \"b2\": null}, \"22\": {\"from_node_id\": \"21\", \"to_node_id\": \"25\", \"b1\": null, \"b2\": null}, \"23\": {\"from_node_id\": \"22\", \"to_node_id\": \"25\", \"b1\": null, \"b2\": null}}, \"metabolites\": [{\"bigg_id\": \"SHIKIMATE_c\", \"coefficient\": -1.0}, {\"bigg_id\": \"nadp_c\", \"coefficient\": -1.0}, {\"bigg_id\": \"3_DEHYDRO_SHIKIMATE_c\", \"coefficient\": 1.0}, {\"bigg_id\": \"h_c\", \"coefficient\": 1.0}, {\"bigg_id\": \"nadph_c\", \"coefficient\": 1.0}]}, \"4\": {\"name\": \"SHIKIMATE_KINASE_RXN_c\", \"bigg_id\": \"SHIKIMATE_KINASE_RXN_c\", \"reversibility\": true, \"label_x\": 2727.0, \"label_y\": 45.0, \"gene_reaction_rule\": \"\", \"genes\": [], \"segments\": {\"24\": {\"from_node_id\": \"31\", \"to_node_id\": \"32\", \"b1\": null, \"b2\": null}, \"25\": {\"from_node_id\": \"33\", \"to_node_id\": \"32\", \"b1\": null, \"b2\": null}, \"26\": {\"from_node_id\": \"26\", \"to_node_id\": \"31\", \"b1\": null, \"b2\": null}, \"27\": {\"from_node_id\": \"27\", \"to_node_id\": \"31\", \"b1\": null, \"b2\": null}, \"28\": {\"from_node_id\": \"28\", \"to_node_id\": \"33\", \"b1\": null, \"b2\": null}, \"29\": {\"from_node_id\": \"29\", \"to_node_id\": \"33\", \"b1\": null, \"b2\": null}, \"30\": {\"from_node_id\": \"30\", \"to_node_id\": \"33\", \"b1\": null, \"b2\": null}}, \"metabolites\": [{\"bigg_id\": \"SHIKIMATE_c\", \"coefficient\": -1.0}, {\"bigg_id\": \"atp_c\", \"coefficient\": -1.0}, {\"bigg_id\": \"SHIKIMATE_5P_c\", \"coefficient\": 1.0}, {\"bigg_id\": \"adp_c\", \"coefficient\": 1.0}, {\"bigg_id\": \"h_c\", \"coefficient\": 1.0}]}, \"5\": {\"name\": \"2.5.1.19_RXN_c\", \"bigg_id\": \"2.5.1.19_RXN_c\", \"reversibility\": true, \"label_x\": 3449.0, \"label_y\": 45.0, \"gene_reaction_rule\": \"\", \"genes\": [], \"segments\": {\"31\": {\"from_node_id\": \"37\", \"to_node_id\": \"38\", \"b1\": null, \"b2\": null}, \"32\": {\"from_node_id\": \"39\", \"to_node_id\": \"38\", \"b1\": null, \"b2\": null}, \"33\": {\"from_node_id\": \"28\", \"to_node_id\": \"37\", \"b1\": null, \"b2\": null}, \"34\": {\"from_node_id\": \"34\", \"to_node_id\": \"37\", \"b1\": null, \"b2\": null}, \"35\": {\"from_node_id\": \"35\", \"to_node_id\": \"39\", \"b1\": null, \"b2\": null}, \"36\": {\"from_node_id\": \"36\", \"to_node_id\": \"39\", \"b1\": null, \"b2\": null}}, \"metabolites\": [{\"bigg_id\": \"SHIKIMATE_5P_c\", \"coefficient\": -1.0}, {\"bigg_id\": \"pep_c\", \"coefficient\": -1.0}, {\"bigg_id\": \"3_ENOLPYRUVYL_SHIKIMATE_5P_c\", \"coefficient\": 1.0}, {\"bigg_id\": \"pi_c\", \"coefficient\": 1.0}]}, \"6\": {\"name\": \"CHORISMATE_SYNTHASE_RXN_c\", \"bigg_id\": \"CHORISMATE_SYNTHASE_RXN_c\", \"reversibility\": true, \"label_x\": 4000.0, \"label_y\": 45.0, \"gene_reaction_rule\": \"\", \"genes\": [], \"segments\": {\"37\": {\"from_node_id\": \"42\", \"to_node_id\": \"43\", \"b1\": null, \"b2\": null}, \"38\": {\"from_node_id\": \"44\", \"to_node_id\": \"43\", \"b1\": null, \"b2\": null}, \"39\": {\"from_node_id\": \"35\", \"to_node_id\": \"42\", \"b1\": null, \"b2\": null}, \"40\": {\"from_node_id\": \"40\", \"to_node_id\": \"44\", \"b1\": null, \"b2\": null}, \"41\": {\"from_node_id\": \"41\", \"to_node_id\": \"44\", \"b1\": null, \"b2\": null}}, \"metabolites\": [{\"bigg_id\": \"3_ENOLPYRUVYL_SHIKIMATE_5P_c\", \"coefficient\": -1.0}, {\"bigg_id\": \"CHORISMATE_c\", \"coefficient\": 1.0}, {\"bigg_id\": \"pi_c\", \"coefficient\": 1.0}]}}, \"nodes\": {\"0\": {\"node_type\": \"metabolite\", \"x\": 30.0, \"y\": 112.5, \"label_x\": 0.0, \"label_y\": 92.5, \"bigg_id\": \"e4p_c\", \"name\": \"e4p_c\", \"node_is_primary\": false}, \"1\": {\"node_type\": \"metabolite\", \"x\": 30.0, \"y\": 225.0, \"label_x\": 0.0, \"label_y\": 205.0, \"bigg_id\": \"h2o_c\", \"name\": \"h2o_c\", \"node_is_primary\": false}, \"2\": {\"node_type\": \"metabolite\", \"x\": 30.0, \"y\": 337.5, \"label_x\": 0.0, \"label_y\": 317.5, \"bigg_id\": \"pep_c\", \"name\": \"pep_c\", \"node_is_primary\": false}, \"3\": {\"node_type\": \"metabolite\", \"x\": 550.0, \"y\": 150.0, \"label_x\": 520.0, \"label_y\": 130.0, \"bigg_id\": \"3_DEOXY_D_ARABINO_HEPTULOSONATE_7_P_c\", \"name\": \"3_DEOXY_D_ARABINO_HEPTULOSONATE_7_P_c\", \"node_is_primary\": false}, \"4\": {\"node_type\": \"metabolite\", \"x\": 550.0, \"y\": 300.0, \"label_x\": 520.0, \"label_y\": 280.0, \"bigg_id\": \"pi_c\", \"name\": \"pi_c\", \"node_is_primary\": false}, \"5\": {\"node_type\": \"multimarker\", \"x\": 335.0, \"y\": 225.0}, \"6\": {\"node_type\": \"midmarker\", \"x\": 355.0, \"y\": 225.0}, \"7\": {\"node_type\": \"multimarker\", \"x\": 375.0, \"y\": 225.0}, \"8\": {\"node_type\": \"metabolite\", \"x\": 1200.0, \"y\": 150.0, \"label_x\": 1170.0, \"label_y\": 130.0, \"bigg_id\": \"DEHYDROQUINATE_c\", \"name\": \"DEHYDROQUINATE_c\", \"node_is_primary\": false}, \"9\": {\"node_type\": \"metabolite\", \"x\": 1200.0, \"y\": 300.0, \"label_x\": 1170.0, \"label_y\": 280.0, \"bigg_id\": \"pi_c\", \"name\": \"pi_c\", \"node_is_primary\": false}, \"10\": {\"node_type\": \"multimarker\", \"x\": 985.0, \"y\": 225.0}, \"11\": {\"node_type\": \"midmarker\", \"x\": 1005.0, \"y\": 225.0}, \"12\": {\"node_type\": \"multimarker\", \"x\": 1025.0, \"y\": 225.0}, \"13\": {\"node_type\": \"metabolite\", \"x\": 1850.0, \"y\": 150.0, \"label_x\": 1820.0, \"label_y\": 130.0, \"bigg_id\": \"3_DEHYDRO_SHIKIMATE_c\", \"name\": \"3_DEHYDRO_SHIKIMATE_c\", \"node_is_primary\": false}, \"14\": {\"node_type\": \"metabolite\", \"x\": 1850.0, \"y\": 300.0, \"label_x\": 1820.0, \"label_y\": 280.0, \"bigg_id\": \"h2o_c\", \"name\": \"h2o_c\", \"node_is_primary\": false}, \"15\": {\"node_type\": \"multimarker\", \"x\": 1635.0, \"y\": 225.0}, \"16\": {\"node_type\": \"midmarker\", \"x\": 1655.0, \"y\": 225.0}, \"17\": {\"node_type\": \"multimarker\", \"x\": 1675.0, \"y\": 225.0}, \"18\": {\"node_type\": \"metabolite\", \"x\": 1980.0, \"y\": 150.0, \"label_x\": 1950.0, \"label_y\": 130.0, \"bigg_id\": \"SHIKIMATE_c\", \"name\": \"SHIKIMATE_c\", \"node_is_primary\": false}, \"19\": {\"node_type\": \"metabolite\", \"x\": 1980.0, \"y\": 300.0, \"label_x\": 1950.0, \"label_y\": 280.0, \"bigg_id\": \"nadp_c\", \"name\": \"nadp_c\", \"node_is_primary\": false}, \"20\": {\"node_type\": \"metabolite\", \"x\": 2500.0, \"y\": 112.5, \"label_x\": 2470.0, \"label_y\": 92.5, \"bigg_id\": \"3_DEHYDRO_SHIKIMATE_c\", \"name\": \"3_DEHYDRO_SHIKIMATE_c\", \"node_is_primary\": false}, \"21\": {\"node_type\": \"metabolite\", \"x\": 2500.0, \"y\": 225.0, \"label_x\": 2470.0, \"label_y\": 205.0, \"bigg_id\": \"h_c\", \"name\": \"h_c\", \"node_is_primary\": false}, \"22\": {\"node_type\": \"metabolite\", \"x\": 2500.0, \"y\": 337.5, \"label_x\": 2470.0, \"label_y\": 317.5, \"bigg_id\": \"nadph_c\", \"name\": \"nadph_c\", \"node_is_primary\": false}, \"23\": {\"node_type\": \"multimarker\", \"x\": 2285.0, \"y\": 225.0}, \"24\": {\"node_type\": \"midmarker\", \"x\": 2305.0, \"y\": 225.0}, \"25\": {\"node_type\": \"multimarker\", \"x\": 2325.0, \"y\": 225.0}, \"26\": {\"node_type\": \"metabolite\", \"x\": 2630.0, \"y\": 150.0, \"label_x\": 2600.0, \"label_y\": 130.0, \"bigg_id\": \"SHIKIMATE_c\", \"name\": \"SHIKIMATE_c\", \"node_is_primary\": false}, \"27\": {\"node_type\": \"metabolite\", \"x\": 2630.0, \"y\": 300.0, \"label_x\": 2600.0, \"label_y\": 280.0, \"bigg_id\": \"atp_c\", \"name\": \"atp_c\", \"node_is_primary\": false}, \"28\": {\"node_type\": \"metabolite\", \"x\": 3150.0, \"y\": 112.5, \"label_x\": 3120.0, \"label_y\": 92.5, \"bigg_id\": \"SHIKIMATE_5P_c\", \"name\": \"SHIKIMATE_5P_c\", \"node_is_primary\": false}, \"29\": {\"node_type\": \"metabolite\", \"x\": 3150.0, \"y\": 225.0, \"label_x\": 3120.0, \"label_y\": 205.0, \"bigg_id\": \"adp_c\", \"name\": \"adp_c\", \"node_is_primary\": false}, \"30\": {\"node_type\": \"metabolite\", \"x\": 3150.0, \"y\": 337.5, \"label_x\": 3120.0, \"label_y\": 317.5, \"bigg_id\": \"h_c\", \"name\": \"h_c\", \"node_is_primary\": false}, \"31\": {\"node_type\": \"multimarker\", \"x\": 2935.0, \"y\": 225.0}, \"32\": {\"node_type\": \"midmarker\", \"x\": 2955.0, \"y\": 225.0}, \"33\": {\"node_type\": \"multimarker\", \"x\": 2975.0, \"y\": 225.0}, \"34\": {\"node_type\": \"metabolite\", \"x\": 3280.0, \"y\": 300.0, \"label_x\": 3250.0, \"label_y\": 280.0, \"bigg_id\": \"pep_c\", \"name\": \"pep_c\", \"node_is_primary\": false}, \"35\": {\"node_type\": \"metabolite\", \"x\": 3800.0, \"y\": 150.0, \"label_x\": 3770.0, \"label_y\": 130.0, \"bigg_id\": \"3_ENOLPYRUVYL_SHIKIMATE_5P_c\", \"name\": \"3_ENOLPYRUVYL_SHIKIMATE_5P_c\", \"node_is_primary\": false}, \"36\": {\"node_type\": \"metabolite\", \"x\": 3800.0, \"y\": 300.0, \"label_x\": 3770.0, \"label_y\": 280.0, \"bigg_id\": \"pi_c\", \"name\": \"pi_c\", \"node_is_primary\": false}, \"37\": {\"node_type\": \"multimarker\", \"x\": 3585.0, \"y\": 225.0}, \"38\": {\"node_type\": \"midmarker\", \"x\": 3605.0, \"y\": 225.0}, \"39\": {\"node_type\": \"multimarker\", \"x\": 3625.0, \"y\": 225.0}, \"40\": {\"node_type\": \"metabolite\", \"x\": 4450.0, \"y\": 150.0, \"label_x\": 4420.0, \"label_y\": 130.0, \"bigg_id\": \"CHORISMATE_c\", \"name\": \"CHORISMATE_c\", \"node_is_primary\": false}, \"41\": {\"node_type\": \"metabolite\", \"x\": 4450.0, \"y\": 300.0, \"label_x\": 4420.0, \"label_y\": 280.0, \"bigg_id\": \"pi_c\", \"name\": \"pi_c\", \"node_is_primary\": false}, \"42\": {\"node_type\": \"multimarker\", \"x\": 4235.0, \"y\": 225.0}, \"43\": {\"node_type\": \"midmarker\", \"x\": 4255.0, \"y\": 225.0}, \"44\": {\"node_type\": \"multimarker\", \"x\": 4275.0, \"y\": 225.0}}, \"text_labels\": {}, \"canvas\": {\"x\": 0, \"y\": 0, \"width\": 4550, \"height\": 450}}]",
       "_loaded_model_json": null,
       "allow_building_duplicate_reactions": false,
       "and_method_in_gene_reaction_rule": "mean",
       "canvas_size_and_loc": null,
       "cofactors": [
        "atp",
        "adp",
        "nad",
        "nadh",
        "nadp",
        "nadph",
        "gtp",
        "gdp",
        "h",
        "coa",
        "ump",
        "h2o",
        "ppi"
       ],
       "disabled_buttons": [
        "Clear reaction data",
        "Clear gene data",
        "Clear metabolite data"
       ],
       "embedded_css": null,
       "enable_editing": true,
       "enable_keys": false,
       "enable_keys_with_tooltip": true,
       "enable_search": true,
       "enable_tooltips": false,
       "full_screen_button": {
        "enable_editing": true,
        "enable_keys": true,
        "enable_tooltips": [
         "label"
        ],
        "menu": "all",
        "scroll_behavior": "pan"
       },
       "gene_data": null,
       "gene_font_size": 18,
       "height": 500,
       "hide_all_labels": false,
       "hide_secondary_metabolites": false,
       "highlight_missing": false,
       "identifiers_on_map": "bigg_id",
       "layout": "IPY_MODEL_892ea94154304210aef27af211cf14c5",
       "marker_radius": 5,
       "menu": "all",
       "metabolite_compare_style": "log2_fold",
       "metabolite_data": null,
       "metabolite_no_data_color": "#ffffff",
       "metabolite_no_data_size": 10,
       "metabolite_scale": [
        {
         "color": "#fffaf0",
         "size": 20,
         "type": "min"
        },
        {
         "color": "#f1c470",
         "size": 30,
         "type": "median"
        },
        {
         "color": "#800000",
         "size": 40,
         "type": "max"
        }
       ],
       "metabolite_scale_preset": "WhYlRd",
       "metabolite_styles": [
        "color",
        "size",
        "text"
       ],
       "never_ask_before_quit": false,
       "primary_metabolite_radius": 20,
       "reaction_compare_style": "log2_fold",
       "reaction_data": null,
       "reaction_no_data_color": "#dcdcdc",
       "reaction_no_data_size": 8,
       "reaction_scale": [
        {
         "color": "rgb(220,220,220)",
         "type": "value",
         "value": 0
        }
       ],
       "reaction_scale_preset": null,
       "reaction_styles": [
        "color",
        "text"
       ],
       "scroll_behavior": "none",
       "secondary_metabolite_radius": 10,
       "semantic_zoom": null,
       "show_gene_reaction_rules": false,
       "starting_reaction": null,
       "use_3d_transform": false,
       "zoom_to_element": null
      }
     },
     "712a888812344087b59d3e67ef4a47d0": {
      "model_module": "escher",
      "model_module_version": "1.7.3",
      "model_name": "EscherMapModel",
      "state": {
       "_loaded_map_json": "[{\"map_name\": \"\", \"map_id\": \"\", \"map_description\": \"\", \"homepage\": \"\", \"schema\": \"https://escher.github.io/escher/jsonschema/1-0-0#\"}, {\"reactions\": {\"0\": {\"name\": \"DAHPSYN_RXN_c\", \"bigg_id\": \"DAHPSYN_RXN_c\", \"reversibility\": true, \"label_x\": 208.0, \"label_y\": 45.0, \"gene_reaction_rule\": \"\", \"genes\": [], \"segments\": {\"0\": {\"from_node_id\": \"5\", \"to_node_id\": \"6\", \"b1\": null, \"b2\": null}, \"1\": {\"from_node_id\": \"7\", \"to_node_id\": \"6\", \"b1\": null, \"b2\": null}, \"2\": {\"from_node_id\": \"0\", \"to_node_id\": \"5\", \"b1\": null, \"b2\": null}, \"3\": {\"from_node_id\": \"1\", \"to_node_id\": \"5\", \"b1\": null, \"b2\": null}, \"4\": {\"from_node_id\": \"2\", \"to_node_id\": \"5\", \"b1\": null, \"b2\": null}, \"5\": {\"from_node_id\": \"3\", \"to_node_id\": \"7\", \"b1\": null, \"b2\": null}, \"6\": {\"from_node_id\": \"4\", \"to_node_id\": \"7\", \"b1\": null, \"b2\": null}}, \"metabolites\": [{\"bigg_id\": \"e4p_c\", \"coefficient\": -1.0}, {\"bigg_id\": \"h2o_c\", \"coefficient\": -1.0}, {\"bigg_id\": \"pep_c\", \"coefficient\": -1.0}, {\"bigg_id\": \"3_DEOXY_D_ARABINO_HEPTULOSONATE_7_P_c\", \"coefficient\": 1.0}, {\"bigg_id\": \"pi_c\", \"coefficient\": 1.0}]}, \"1\": {\"name\": \"3_DEHYDROQUINATE_SYNTHASE_RXN_c\", \"bigg_id\": \"3_DEHYDROQUINATE_SYNTHASE_RXN_c\", \"reversibility\": true, \"label_x\": 696.0, \"label_y\": 45.0, \"gene_reaction_rule\": \"\", \"genes\": [], \"segments\": {\"7\": {\"from_node_id\": \"10\", \"to_node_id\": \"11\", \"b1\": null, \"b2\": null}, \"8\": {\"from_node_id\": \"12\", \"to_node_id\": \"11\", \"b1\": null, \"b2\": null}, \"9\": {\"from_node_id\": \"3\", \"to_node_id\": \"10\", \"b1\": null, \"b2\": null}, \"10\": {\"from_node_id\": \"8\", \"to_node_id\": \"12\", \"b1\": null, \"b2\": null}, \"11\": {\"from_node_id\": \"9\", \"to_node_id\": \"12\", \"b1\": null, \"b2\": null}}, \"metabolites\": [{\"bigg_id\": \"3_DEOXY_D_ARABINO_HEPTULOSONATE_7_P_c\", \"coefficient\": -1.0}, {\"bigg_id\": \"DEHYDROQUINATE_c\", \"coefficient\": 1.0}, {\"bigg_id\": \"pi_c\", \"coefficient\": 1.0}]}, \"2\": {\"name\": \"3_DEHYDROQUINATE_DEHYDRATASE_RXN_c\", \"bigg_id\": \"3_DEHYDROQUINATE_DEHYDRATASE_RXN_c\", \"reversibility\": true, \"label_x\": 1319.0, \"label_y\": 45.0, \"gene_reaction_rule\": \"\", \"genes\": [], \"segments\": {\"12\": {\"from_node_id\": \"15\", \"to_node_id\": \"16\", \"b1\": null, \"b2\": null}, \"13\": {\"from_node_id\": \"17\", \"to_node_id\": \"16\", \"b1\": null, \"b2\": null}, \"14\": {\"from_node_id\": \"8\", \"to_node_id\": \"15\", \"b1\": null, \"b2\": null}, \"15\": {\"from_node_id\": \"13\", \"to_node_id\": \"17\", \"b1\": null, \"b2\": null}, \"16\": {\"from_node_id\": \"14\", \"to_node_id\": \"17\", \"b1\": null, \"b2\": null}}, \"metabolites\": [{\"bigg_id\": \"DEHYDROQUINATE_c\", \"coefficient\": -1.0}, {\"bigg_id\": \"3_DEHYDRO_SHIKIMATE_c\", \"coefficient\": 1.0}, {\"bigg_id\": \"h2o_c\", \"coefficient\": 1.0}]}, \"3\": {\"name\": \"SHIKIMATE_5_DEHYDROGENASE_RXN_c\", \"bigg_id\": \"SHIKIMATE_5_DEHYDROGENASE_RXN_c\", \"reversibility\": true, \"label_x\": 1996.0, \"label_y\": 45.0, \"gene_reaction_rule\": \"\", \"genes\": [], \"segments\": {\"17\": {\"from_node_id\": \"23\", \"to_node_id\": \"24\", \"b1\": null, \"b2\": null}, \"18\": {\"from_node_id\": \"25\", \"to_node_id\": \"24\", \"b1\": null, \"b2\": null}, \"19\": {\"from_node_id\": \"18\", \"to_node_id\": \"23\", \"b1\": null, \"b2\": null}, \"20\": {\"from_node_id\": \"19\", \"to_node_id\": \"23\", \"b1\": null, \"b2\": null}, \"21\": {\"from_node_id\": \"20\", \"to_node_id\": \"25\", \"b1\": null, \"b2\": null}, \"22\": {\"from_node_id\": \"21\", \"to_node_id\": \"25\", \"b1\": null, \"b2\": null}, \"23\": {\"from_node_id\": \"22\", \"to_node_id\": \"25\", \"b1\": null, \"b2\": null}}, \"metabolites\": [{\"bigg_id\": \"SHIKIMATE_c\", \"coefficient\": -1.0}, {\"bigg_id\": \"nadp_c\", \"coefficient\": -1.0}, {\"bigg_id\": \"3_DEHYDRO_SHIKIMATE_c\", \"coefficient\": 1.0}, {\"bigg_id\": \"h_c\", \"coefficient\": 1.0}, {\"bigg_id\": \"nadph_c\", \"coefficient\": 1.0}]}, \"4\": {\"name\": \"SHIKIMATE_KINASE_RXN_c\", \"bigg_id\": \"SHIKIMATE_KINASE_RXN_c\", \"reversibility\": true, \"label_x\": 2727.0, \"label_y\": 45.0, \"gene_reaction_rule\": \"\", \"genes\": [], \"segments\": {\"24\": {\"from_node_id\": \"31\", \"to_node_id\": \"32\", \"b1\": null, \"b2\": null}, \"25\": {\"from_node_id\": \"33\", \"to_node_id\": \"32\", \"b1\": null, \"b2\": null}, \"26\": {\"from_node_id\": \"26\", \"to_node_id\": \"31\", \"b1\": null, \"b2\": null}, \"27\": {\"from_node_id\": \"27\", \"to_node_id\": \"31\", \"b1\": null, \"b2\": null}, \"28\": {\"from_node_id\": \"28\", \"to_node_id\": \"33\", \"b1\": null, \"b2\": null}, \"29\": {\"from_node_id\": \"29\", \"to_node_id\": \"33\", \"b1\": null, \"b2\": null}, \"30\": {\"from_node_id\": \"30\", \"to_node_id\": \"33\", \"b1\": null, \"b2\": null}}, \"metabolites\": [{\"bigg_id\": \"SHIKIMATE_c\", \"coefficient\": -1.0}, {\"bigg_id\": \"atp_c\", \"coefficient\": -1.0}, {\"bigg_id\": \"SHIKIMATE_5P_c\", \"coefficient\": 1.0}, {\"bigg_id\": \"adp_c\", \"coefficient\": 1.0}, {\"bigg_id\": \"h_c\", \"coefficient\": 1.0}]}, \"5\": {\"name\": \"2.5.1.19_RXN_c\", \"bigg_id\": \"2.5.1.19_RXN_c\", \"reversibility\": true, \"label_x\": 3449.0, \"label_y\": 45.0, \"gene_reaction_rule\": \"\", \"genes\": [], \"segments\": {\"31\": {\"from_node_id\": \"37\", \"to_node_id\": \"38\", \"b1\": null, \"b2\": null}, \"32\": {\"from_node_id\": \"39\", \"to_node_id\": \"38\", \"b1\": null, \"b2\": null}, \"33\": {\"from_node_id\": \"28\", \"to_node_id\": \"37\", \"b1\": null, \"b2\": null}, \"34\": {\"from_node_id\": \"34\", \"to_node_id\": \"37\", \"b1\": null, \"b2\": null}, \"35\": {\"from_node_id\": \"35\", \"to_node_id\": \"39\", \"b1\": null, \"b2\": null}, \"36\": {\"from_node_id\": \"36\", \"to_node_id\": \"39\", \"b1\": null, \"b2\": null}}, \"metabolites\": [{\"bigg_id\": \"SHIKIMATE_5P_c\", \"coefficient\": -1.0}, {\"bigg_id\": \"pep_c\", \"coefficient\": -1.0}, {\"bigg_id\": \"3_ENOLPYRUVYL_SHIKIMATE_5P_c\", \"coefficient\": 1.0}, {\"bigg_id\": \"pi_c\", \"coefficient\": 1.0}]}, \"6\": {\"name\": \"CHORISMATE_SYNTHASE_RXN_c\", \"bigg_id\": \"CHORISMATE_SYNTHASE_RXN_c\", \"reversibility\": true, \"label_x\": 4000.0, \"label_y\": 45.0, \"gene_reaction_rule\": \"\", \"genes\": [], \"segments\": {\"37\": {\"from_node_id\": \"42\", \"to_node_id\": \"43\", \"b1\": null, \"b2\": null}, \"38\": {\"from_node_id\": \"44\", \"to_node_id\": \"43\", \"b1\": null, \"b2\": null}, \"39\": {\"from_node_id\": \"35\", \"to_node_id\": \"42\", \"b1\": null, \"b2\": null}, \"40\": {\"from_node_id\": \"40\", \"to_node_id\": \"44\", \"b1\": null, \"b2\": null}, \"41\": {\"from_node_id\": \"41\", \"to_node_id\": \"44\", \"b1\": null, \"b2\": null}}, \"metabolites\": [{\"bigg_id\": \"3_ENOLPYRUVYL_SHIKIMATE_5P_c\", \"coefficient\": -1.0}, {\"bigg_id\": \"CHORISMATE_c\", \"coefficient\": 1.0}, {\"bigg_id\": \"pi_c\", \"coefficient\": 1.0}]}}, \"nodes\": {\"0\": {\"node_type\": \"metabolite\", \"x\": 30.0, \"y\": 112.5, \"label_x\": 0.0, \"label_y\": 92.5, \"bigg_id\": \"e4p_c\", \"name\": \"e4p_c\", \"node_is_primary\": false}, \"1\": {\"node_type\": \"metabolite\", \"x\": 30.0, \"y\": 225.0, \"label_x\": 0.0, \"label_y\": 205.0, \"bigg_id\": \"h2o_c\", \"name\": \"h2o_c\", \"node_is_primary\": false}, \"2\": {\"node_type\": \"metabolite\", \"x\": 30.0, \"y\": 337.5, \"label_x\": 0.0, \"label_y\": 317.5, \"bigg_id\": \"pep_c\", \"name\": \"pep_c\", \"node_is_primary\": false}, \"3\": {\"node_type\": \"metabolite\", \"x\": 550.0, \"y\": 150.0, \"label_x\": 520.0, \"label_y\": 130.0, \"bigg_id\": \"3_DEOXY_D_ARABINO_HEPTULOSONATE_7_P_c\", \"name\": \"3_DEOXY_D_ARABINO_HEPTULOSONATE_7_P_c\", \"node_is_primary\": false}, \"4\": {\"node_type\": \"metabolite\", \"x\": 550.0, \"y\": 300.0, \"label_x\": 520.0, \"label_y\": 280.0, \"bigg_id\": \"pi_c\", \"name\": \"pi_c\", \"node_is_primary\": false}, \"5\": {\"node_type\": \"multimarker\", \"x\": 335.0, \"y\": 225.0}, \"6\": {\"node_type\": \"midmarker\", \"x\": 355.0, \"y\": 225.0}, \"7\": {\"node_type\": \"multimarker\", \"x\": 375.0, \"y\": 225.0}, \"8\": {\"node_type\": \"metabolite\", \"x\": 1200.0, \"y\": 150.0, \"label_x\": 1170.0, \"label_y\": 130.0, \"bigg_id\": \"DEHYDROQUINATE_c\", \"name\": \"DEHYDROQUINATE_c\", \"node_is_primary\": false}, \"9\": {\"node_type\": \"metabolite\", \"x\": 1200.0, \"y\": 300.0, \"label_x\": 1170.0, \"label_y\": 280.0, \"bigg_id\": \"pi_c\", \"name\": \"pi_c\", \"node_is_primary\": false}, \"10\": {\"node_type\": \"multimarker\", \"x\": 985.0, \"y\": 225.0}, \"11\": {\"node_type\": \"midmarker\", \"x\": 1005.0, \"y\": 225.0}, \"12\": {\"node_type\": \"multimarker\", \"x\": 1025.0, \"y\": 225.0}, \"13\": {\"node_type\": \"metabolite\", \"x\": 1850.0, \"y\": 150.0, \"label_x\": 1820.0, \"label_y\": 130.0, \"bigg_id\": \"3_DEHYDRO_SHIKIMATE_c\", \"name\": \"3_DEHYDRO_SHIKIMATE_c\", \"node_is_primary\": false}, \"14\": {\"node_type\": \"metabolite\", \"x\": 1850.0, \"y\": 300.0, \"label_x\": 1820.0, \"label_y\": 280.0, \"bigg_id\": \"h2o_c\", \"name\": \"h2o_c\", \"node_is_primary\": false}, \"15\": {\"node_type\": \"multimarker\", \"x\": 1635.0, \"y\": 225.0}, \"16\": {\"node_type\": \"midmarker\", \"x\": 1655.0, \"y\": 225.0}, \"17\": {\"node_type\": \"multimarker\", \"x\": 1675.0, \"y\": 225.0}, \"18\": {\"node_type\": \"metabolite\", \"x\": 1980.0, \"y\": 150.0, \"label_x\": 1950.0, \"label_y\": 130.0, \"bigg_id\": \"SHIKIMATE_c\", \"name\": \"SHIKIMATE_c\", \"node_is_primary\": false}, \"19\": {\"node_type\": \"metabolite\", \"x\": 1980.0, \"y\": 300.0, \"label_x\": 1950.0, \"label_y\": 280.0, \"bigg_id\": \"nadp_c\", \"name\": \"nadp_c\", \"node_is_primary\": false}, \"20\": {\"node_type\": \"metabolite\", \"x\": 2500.0, \"y\": 112.5, \"label_x\": 2470.0, \"label_y\": 92.5, \"bigg_id\": \"3_DEHYDRO_SHIKIMATE_c\", \"name\": \"3_DEHYDRO_SHIKIMATE_c\", \"node_is_primary\": false}, \"21\": {\"node_type\": \"metabolite\", \"x\": 2500.0, \"y\": 225.0, \"label_x\": 2470.0, \"label_y\": 205.0, \"bigg_id\": \"h_c\", \"name\": \"h_c\", \"node_is_primary\": false}, \"22\": {\"node_type\": \"metabolite\", \"x\": 2500.0, \"y\": 337.5, \"label_x\": 2470.0, \"label_y\": 317.5, \"bigg_id\": \"nadph_c\", \"name\": \"nadph_c\", \"node_is_primary\": false}, \"23\": {\"node_type\": \"multimarker\", \"x\": 2285.0, \"y\": 225.0}, \"24\": {\"node_type\": \"midmarker\", \"x\": 2305.0, \"y\": 225.0}, \"25\": {\"node_type\": \"multimarker\", \"x\": 2325.0, \"y\": 225.0}, \"26\": {\"node_type\": \"metabolite\", \"x\": 2630.0, \"y\": 150.0, \"label_x\": 2600.0, \"label_y\": 130.0, \"bigg_id\": \"SHIKIMATE_c\", \"name\": \"SHIKIMATE_c\", \"node_is_primary\": false}, \"27\": {\"node_type\": \"metabolite\", \"x\": 2630.0, \"y\": 300.0, \"label_x\": 2600.0, \"label_y\": 280.0, \"bigg_id\": \"atp_c\", \"name\": \"atp_c\", \"node_is_primary\": false}, \"28\": {\"node_type\": \"metabolite\", \"x\": 3150.0, \"y\": 112.5, \"label_x\": 3120.0, \"label_y\": 92.5, \"bigg_id\": \"SHIKIMATE_5P_c\", \"name\": \"SHIKIMATE_5P_c\", \"node_is_primary\": false}, \"29\": {\"node_type\": \"metabolite\", \"x\": 3150.0, \"y\": 225.0, \"label_x\": 3120.0, \"label_y\": 205.0, \"bigg_id\": \"adp_c\", \"name\": \"adp_c\", \"node_is_primary\": false}, \"30\": {\"node_type\": \"metabolite\", \"x\": 3150.0, \"y\": 337.5, \"label_x\": 3120.0, \"label_y\": 317.5, \"bigg_id\": \"h_c\", \"name\": \"h_c\", \"node_is_primary\": false}, \"31\": {\"node_type\": \"multimarker\", \"x\": 2935.0, \"y\": 225.0}, \"32\": {\"node_type\": \"midmarker\", \"x\": 2955.0, \"y\": 225.0}, \"33\": {\"node_type\": \"multimarker\", \"x\": 2975.0, \"y\": 225.0}, \"34\": {\"node_type\": \"metabolite\", \"x\": 3280.0, \"y\": 300.0, \"label_x\": 3250.0, \"label_y\": 280.0, \"bigg_id\": \"pep_c\", \"name\": \"pep_c\", \"node_is_primary\": false}, \"35\": {\"node_type\": \"metabolite\", \"x\": 3800.0, \"y\": 150.0, \"label_x\": 3770.0, \"label_y\": 130.0, \"bigg_id\": \"3_ENOLPYRUVYL_SHIKIMATE_5P_c\", \"name\": \"3_ENOLPYRUVYL_SHIKIMATE_5P_c\", \"node_is_primary\": false}, \"36\": {\"node_type\": \"metabolite\", \"x\": 3800.0, \"y\": 300.0, \"label_x\": 3770.0, \"label_y\": 280.0, \"bigg_id\": \"pi_c\", \"name\": \"pi_c\", \"node_is_primary\": false}, \"37\": {\"node_type\": \"multimarker\", \"x\": 3585.0, \"y\": 225.0}, \"38\": {\"node_type\": \"midmarker\", \"x\": 3605.0, \"y\": 225.0}, \"39\": {\"node_type\": \"multimarker\", \"x\": 3625.0, \"y\": 225.0}, \"40\": {\"node_type\": \"metabolite\", \"x\": 4450.0, \"y\": 150.0, \"label_x\": 4420.0, \"label_y\": 130.0, \"bigg_id\": \"CHORISMATE_c\", \"name\": \"CHORISMATE_c\", \"node_is_primary\": false}, \"41\": {\"node_type\": \"metabolite\", \"x\": 4450.0, \"y\": 300.0, \"label_x\": 4420.0, \"label_y\": 280.0, \"bigg_id\": \"pi_c\", \"name\": \"pi_c\", \"node_is_primary\": false}, \"42\": {\"node_type\": \"multimarker\", \"x\": 4235.0, \"y\": 225.0}, \"43\": {\"node_type\": \"midmarker\", \"x\": 4255.0, \"y\": 225.0}, \"44\": {\"node_type\": \"multimarker\", \"x\": 4275.0, \"y\": 225.0}}, \"text_labels\": {}, \"canvas\": {\"x\": 0, \"y\": 0, \"width\": 4550, \"height\": 450}}]",
       "_loaded_model_json": null,
       "allow_building_duplicate_reactions": false,
       "and_method_in_gene_reaction_rule": "mean",
       "canvas_size_and_loc": null,
       "cofactors": [
        "atp",
        "adp",
        "nad",
        "nadh",
        "nadp",
        "nadph",
        "gtp",
        "gdp",
        "h",
        "coa",
        "ump",
        "h2o",
        "ppi"
       ],
       "disabled_buttons": [
        "Clear reaction data",
        "Clear gene data",
        "Clear metabolite data"
       ],
       "embedded_css": null,
       "enable_editing": true,
       "enable_keys": false,
       "enable_keys_with_tooltip": true,
       "enable_search": true,
       "enable_tooltips": false,
       "full_screen_button": {
        "enable_editing": true,
        "enable_keys": true,
        "enable_tooltips": [
         "label"
        ],
        "menu": "all",
        "scroll_behavior": "pan"
       },
       "gene_data": null,
       "gene_font_size": 18,
       "height": 500,
       "hide_all_labels": false,
       "hide_secondary_metabolites": false,
       "highlight_missing": false,
       "identifiers_on_map": "bigg_id",
       "layout": "IPY_MODEL_2a0c7bb7198a4a50a52e9cd5bdc5f916",
       "marker_radius": 5,
       "menu": "all",
       "metabolite_compare_style": "log2_fold",
       "metabolite_data": null,
       "metabolite_no_data_color": "#ffffff",
       "metabolite_no_data_size": 10,
       "metabolite_scale": [
        {
         "color": "#fffaf0",
         "size": 20,
         "type": "min"
        },
        {
         "color": "#f1c470",
         "size": 30,
         "type": "median"
        },
        {
         "color": "#800000",
         "size": 40,
         "type": "max"
        }
       ],
       "metabolite_scale_preset": "WhYlRd",
       "metabolite_styles": [
        "color",
        "size",
        "text"
       ],
       "never_ask_before_quit": false,
       "primary_metabolite_radius": 20,
       "reaction_compare_style": "log2_fold",
       "reaction_data": null,
       "reaction_no_data_color": "#dcdcdc",
       "reaction_no_data_size": 8,
       "reaction_scale": [
        {
         "color": "rgb(220,220,220)",
         "type": "value",
         "value": 0
        }
       ],
       "reaction_scale_preset": null,
       "reaction_styles": [
        "color",
        "text"
       ],
       "scroll_behavior": "none",
       "secondary_metabolite_radius": 10,
       "semantic_zoom": null,
       "show_gene_reaction_rules": false,
       "starting_reaction": null,
       "use_3d_transform": false,
       "zoom_to_element": null
      }
     },
     "84c979d962544f79877e650531f6826d": {
      "model_module": "escher",
      "model_module_version": "1.7.3",
      "model_name": "EscherMapModel",
      "state": {
       "_loaded_map_json": "[{\"map_name\": \"\", \"map_id\": \"\", \"map_description\": \"\", \"homepage\": \"\", \"schema\": \"https://escher.github.io/escher/jsonschema/1-0-0#\"}, {\"reactions\": {\"0\": {\"name\": \"DAHPSYN_RXN_c\", \"bigg_id\": \"DAHPSYN_RXN_c\", \"reversibility\": true, \"label_x\": 208.0, \"label_y\": 45.0, \"gene_reaction_rule\": \"\", \"genes\": [], \"segments\": {\"0\": {\"from_node_id\": \"5\", \"to_node_id\": \"6\", \"b1\": null, \"b2\": null}, \"1\": {\"from_node_id\": \"7\", \"to_node_id\": \"6\", \"b1\": null, \"b2\": null}, \"2\": {\"from_node_id\": \"0\", \"to_node_id\": \"5\", \"b1\": null, \"b2\": null}, \"3\": {\"from_node_id\": \"1\", \"to_node_id\": \"5\", \"b1\": null, \"b2\": null}, \"4\": {\"from_node_id\": \"2\", \"to_node_id\": \"5\", \"b1\": null, \"b2\": null}, \"5\": {\"from_node_id\": \"3\", \"to_node_id\": \"7\", \"b1\": null, \"b2\": null}, \"6\": {\"from_node_id\": \"4\", \"to_node_id\": \"7\", \"b1\": null, \"b2\": null}}, \"metabolites\": [{\"bigg_id\": \"e4p_c\", \"coefficient\": -1.0}, {\"bigg_id\": \"h2o_c\", \"coefficient\": -1.0}, {\"bigg_id\": \"pep_c\", \"coefficient\": -1.0}, {\"bigg_id\": \"3_DEOXY_D_ARABINO_HEPTULOSONATE_7_P_c\", \"coefficient\": 1.0}, {\"bigg_id\": \"pi_c\", \"coefficient\": 1.0}]}, \"1\": {\"name\": \"3_DEHYDROQUINATE_SYNTHASE_RXN_c\", \"bigg_id\": \"3_DEHYDROQUINATE_SYNTHASE_RXN_c\", \"reversibility\": true, \"label_x\": 696.0, \"label_y\": 45.0, \"gene_reaction_rule\": \"\", \"genes\": [], \"segments\": {\"7\": {\"from_node_id\": \"10\", \"to_node_id\": \"11\", \"b1\": null, \"b2\": null}, \"8\": {\"from_node_id\": \"12\", \"to_node_id\": \"11\", \"b1\": null, \"b2\": null}, \"9\": {\"from_node_id\": \"3\", \"to_node_id\": \"10\", \"b1\": null, \"b2\": null}, \"10\": {\"from_node_id\": \"8\", \"to_node_id\": \"12\", \"b1\": null, \"b2\": null}, \"11\": {\"from_node_id\": \"9\", \"to_node_id\": \"12\", \"b1\": null, \"b2\": null}}, \"metabolites\": [{\"bigg_id\": \"3_DEOXY_D_ARABINO_HEPTULOSONATE_7_P_c\", \"coefficient\": -1.0}, {\"bigg_id\": \"DEHYDROQUINATE_c\", \"coefficient\": 1.0}, {\"bigg_id\": \"pi_c\", \"coefficient\": 1.0}]}, \"2\": {\"name\": \"3_DEHYDROQUINATE_DEHYDRATASE_RXN_c\", \"bigg_id\": \"3_DEHYDROQUINATE_DEHYDRATASE_RXN_c\", \"reversibility\": true, \"label_x\": 1319.0, \"label_y\": 45.0, \"gene_reaction_rule\": \"\", \"genes\": [], \"segments\": {\"12\": {\"from_node_id\": \"15\", \"to_node_id\": \"16\", \"b1\": null, \"b2\": null}, \"13\": {\"from_node_id\": \"17\", \"to_node_id\": \"16\", \"b1\": null, \"b2\": null}, \"14\": {\"from_node_id\": \"8\", \"to_node_id\": \"15\", \"b1\": null, \"b2\": null}, \"15\": {\"from_node_id\": \"13\", \"to_node_id\": \"17\", \"b1\": null, \"b2\": null}, \"16\": {\"from_node_id\": \"14\", \"to_node_id\": \"17\", \"b1\": null, \"b2\": null}}, \"metabolites\": [{\"bigg_id\": \"DEHYDROQUINATE_c\", \"coefficient\": -1.0}, {\"bigg_id\": \"3_DEHYDRO_SHIKIMATE_c\", \"coefficient\": 1.0}, {\"bigg_id\": \"h2o_c\", \"coefficient\": 1.0}]}, \"3\": {\"name\": \"SHIKIMATE_5_DEHYDROGENASE_RXN_c\", \"bigg_id\": \"SHIKIMATE_5_DEHYDROGENASE_RXN_c\", \"reversibility\": true, \"label_x\": 1996.0, \"label_y\": 45.0, \"gene_reaction_rule\": \"\", \"genes\": [], \"segments\": {\"17\": {\"from_node_id\": \"23\", \"to_node_id\": \"24\", \"b1\": null, \"b2\": null}, \"18\": {\"from_node_id\": \"25\", \"to_node_id\": \"24\", \"b1\": null, \"b2\": null}, \"19\": {\"from_node_id\": \"18\", \"to_node_id\": \"23\", \"b1\": null, \"b2\": null}, \"20\": {\"from_node_id\": \"19\", \"to_node_id\": \"23\", \"b1\": null, \"b2\": null}, \"21\": {\"from_node_id\": \"20\", \"to_node_id\": \"25\", \"b1\": null, \"b2\": null}, \"22\": {\"from_node_id\": \"21\", \"to_node_id\": \"25\", \"b1\": null, \"b2\": null}, \"23\": {\"from_node_id\": \"22\", \"to_node_id\": \"25\", \"b1\": null, \"b2\": null}}, \"metabolites\": [{\"bigg_id\": \"SHIKIMATE_c\", \"coefficient\": -1.0}, {\"bigg_id\": \"nadp_c\", \"coefficient\": -1.0}, {\"bigg_id\": \"3_DEHYDRO_SHIKIMATE_c\", \"coefficient\": 1.0}, {\"bigg_id\": \"h_c\", \"coefficient\": 1.0}, {\"bigg_id\": \"nadph_c\", \"coefficient\": 1.0}]}, \"4\": {\"name\": \"SHIKIMATE_KINASE_RXN_c\", \"bigg_id\": \"SHIKIMATE_KINASE_RXN_c\", \"reversibility\": true, \"label_x\": 2727.0, \"label_y\": 45.0, \"gene_reaction_rule\": \"\", \"genes\": [], \"segments\": {\"24\": {\"from_node_id\": \"31\", \"to_node_id\": \"32\", \"b1\": null, \"b2\": null}, \"25\": {\"from_node_id\": \"33\", \"to_node_id\": \"32\", \"b1\": null, \"b2\": null}, \"26\": {\"from_node_id\": \"26\", \"to_node_id\": \"31\", \"b1\": null, \"b2\": null}, \"27\": {\"from_node_id\": \"27\", \"to_node_id\": \"31\", \"b1\": null, \"b2\": null}, \"28\": {\"from_node_id\": \"28\", \"to_node_id\": \"33\", \"b1\": null, \"b2\": null}, \"29\": {\"from_node_id\": \"29\", \"to_node_id\": \"33\", \"b1\": null, \"b2\": null}, \"30\": {\"from_node_id\": \"30\", \"to_node_id\": \"33\", \"b1\": null, \"b2\": null}}, \"metabolites\": [{\"bigg_id\": \"SHIKIMATE_c\", \"coefficient\": -1.0}, {\"bigg_id\": \"atp_c\", \"coefficient\": -1.0}, {\"bigg_id\": \"SHIKIMATE_5P_c\", \"coefficient\": 1.0}, {\"bigg_id\": \"adp_c\", \"coefficient\": 1.0}, {\"bigg_id\": \"h_c\", \"coefficient\": 1.0}]}, \"5\": {\"name\": \"2.5.1.19_RXN_c\", \"bigg_id\": \"2.5.1.19_RXN_c\", \"reversibility\": true, \"label_x\": 3449.0, \"label_y\": 45.0, \"gene_reaction_rule\": \"\", \"genes\": [], \"segments\": {\"31\": {\"from_node_id\": \"37\", \"to_node_id\": \"38\", \"b1\": null, \"b2\": null}, \"32\": {\"from_node_id\": \"39\", \"to_node_id\": \"38\", \"b1\": null, \"b2\": null}, \"33\": {\"from_node_id\": \"28\", \"to_node_id\": \"37\", \"b1\": null, \"b2\": null}, \"34\": {\"from_node_id\": \"34\", \"to_node_id\": \"37\", \"b1\": null, \"b2\": null}, \"35\": {\"from_node_id\": \"35\", \"to_node_id\": \"39\", \"b1\": null, \"b2\": null}, \"36\": {\"from_node_id\": \"36\", \"to_node_id\": \"39\", \"b1\": null, \"b2\": null}}, \"metabolites\": [{\"bigg_id\": \"SHIKIMATE_5P_c\", \"coefficient\": -1.0}, {\"bigg_id\": \"pep_c\", \"coefficient\": -1.0}, {\"bigg_id\": \"3_ENOLPYRUVYL_SHIKIMATE_5P_c\", \"coefficient\": 1.0}, {\"bigg_id\": \"pi_c\", \"coefficient\": 1.0}]}, \"6\": {\"name\": \"CHORISMATE_SYNTHASE_RXN_c\", \"bigg_id\": \"CHORISMATE_SYNTHASE_RXN_c\", \"reversibility\": true, \"label_x\": 4000.0, \"label_y\": 45.0, \"gene_reaction_rule\": \"\", \"genes\": [], \"segments\": {\"37\": {\"from_node_id\": \"42\", \"to_node_id\": \"43\", \"b1\": null, \"b2\": null}, \"38\": {\"from_node_id\": \"44\", \"to_node_id\": \"43\", \"b1\": null, \"b2\": null}, \"39\": {\"from_node_id\": \"35\", \"to_node_id\": \"42\", \"b1\": null, \"b2\": null}, \"40\": {\"from_node_id\": \"40\", \"to_node_id\": \"44\", \"b1\": null, \"b2\": null}, \"41\": {\"from_node_id\": \"41\", \"to_node_id\": \"44\", \"b1\": null, \"b2\": null}}, \"metabolites\": [{\"bigg_id\": \"3_ENOLPYRUVYL_SHIKIMATE_5P_c\", \"coefficient\": -1.0}, {\"bigg_id\": \"CHORISMATE_c\", \"coefficient\": 1.0}, {\"bigg_id\": \"pi_c\", \"coefficient\": 1.0}]}}, \"nodes\": {\"0\": {\"node_type\": \"metabolite\", \"x\": 30.0, \"y\": 112.5, \"label_x\": 0.0, \"label_y\": 92.5, \"bigg_id\": \"e4p_c\", \"name\": \"e4p_c\", \"node_is_primary\": false}, \"1\": {\"node_type\": \"metabolite\", \"x\": 30.0, \"y\": 225.0, \"label_x\": 0.0, \"label_y\": 205.0, \"bigg_id\": \"h2o_c\", \"name\": \"h2o_c\", \"node_is_primary\": false}, \"2\": {\"node_type\": \"metabolite\", \"x\": 30.0, \"y\": 337.5, \"label_x\": 0.0, \"label_y\": 317.5, \"bigg_id\": \"pep_c\", \"name\": \"pep_c\", \"node_is_primary\": false}, \"3\": {\"node_type\": \"metabolite\", \"x\": 550.0, \"y\": 150.0, \"label_x\": 520.0, \"label_y\": 130.0, \"bigg_id\": \"3_DEOXY_D_ARABINO_HEPTULOSONATE_7_P_c\", \"name\": \"3_DEOXY_D_ARABINO_HEPTULOSONATE_7_P_c\", \"node_is_primary\": false}, \"4\": {\"node_type\": \"metabolite\", \"x\": 550.0, \"y\": 300.0, \"label_x\": 520.0, \"label_y\": 280.0, \"bigg_id\": \"pi_c\", \"name\": \"pi_c\", \"node_is_primary\": false}, \"5\": {\"node_type\": \"multimarker\", \"x\": 335.0, \"y\": 225.0}, \"6\": {\"node_type\": \"midmarker\", \"x\": 355.0, \"y\": 225.0}, \"7\": {\"node_type\": \"multimarker\", \"x\": 375.0, \"y\": 225.0}, \"8\": {\"node_type\": \"metabolite\", \"x\": 1200.0, \"y\": 150.0, \"label_x\": 1170.0, \"label_y\": 130.0, \"bigg_id\": \"DEHYDROQUINATE_c\", \"name\": \"DEHYDROQUINATE_c\", \"node_is_primary\": false}, \"9\": {\"node_type\": \"metabolite\", \"x\": 1200.0, \"y\": 300.0, \"label_x\": 1170.0, \"label_y\": 280.0, \"bigg_id\": \"pi_c\", \"name\": \"pi_c\", \"node_is_primary\": false}, \"10\": {\"node_type\": \"multimarker\", \"x\": 985.0, \"y\": 225.0}, \"11\": {\"node_type\": \"midmarker\", \"x\": 1005.0, \"y\": 225.0}, \"12\": {\"node_type\": \"multimarker\", \"x\": 1025.0, \"y\": 225.0}, \"13\": {\"node_type\": \"metabolite\", \"x\": 1850.0, \"y\": 150.0, \"label_x\": 1820.0, \"label_y\": 130.0, \"bigg_id\": \"3_DEHYDRO_SHIKIMATE_c\", \"name\": \"3_DEHYDRO_SHIKIMATE_c\", \"node_is_primary\": false}, \"14\": {\"node_type\": \"metabolite\", \"x\": 1850.0, \"y\": 300.0, \"label_x\": 1820.0, \"label_y\": 280.0, \"bigg_id\": \"h2o_c\", \"name\": \"h2o_c\", \"node_is_primary\": false}, \"15\": {\"node_type\": \"multimarker\", \"x\": 1635.0, \"y\": 225.0}, \"16\": {\"node_type\": \"midmarker\", \"x\": 1655.0, \"y\": 225.0}, \"17\": {\"node_type\": \"multimarker\", \"x\": 1675.0, \"y\": 225.0}, \"18\": {\"node_type\": \"metabolite\", \"x\": 1980.0, \"y\": 150.0, \"label_x\": 1950.0, \"label_y\": 130.0, \"bigg_id\": \"SHIKIMATE_c\", \"name\": \"SHIKIMATE_c\", \"node_is_primary\": false}, \"19\": {\"node_type\": \"metabolite\", \"x\": 1980.0, \"y\": 300.0, \"label_x\": 1950.0, \"label_y\": 280.0, \"bigg_id\": \"nadp_c\", \"name\": \"nadp_c\", \"node_is_primary\": false}, \"20\": {\"node_type\": \"metabolite\", \"x\": 2500.0, \"y\": 112.5, \"label_x\": 2470.0, \"label_y\": 92.5, \"bigg_id\": \"3_DEHYDRO_SHIKIMATE_c\", \"name\": \"3_DEHYDRO_SHIKIMATE_c\", \"node_is_primary\": false}, \"21\": {\"node_type\": \"metabolite\", \"x\": 2500.0, \"y\": 225.0, \"label_x\": 2470.0, \"label_y\": 205.0, \"bigg_id\": \"h_c\", \"name\": \"h_c\", \"node_is_primary\": false}, \"22\": {\"node_type\": \"metabolite\", \"x\": 2500.0, \"y\": 337.5, \"label_x\": 2470.0, \"label_y\": 317.5, \"bigg_id\": \"nadph_c\", \"name\": \"nadph_c\", \"node_is_primary\": false}, \"23\": {\"node_type\": \"multimarker\", \"x\": 2285.0, \"y\": 225.0}, \"24\": {\"node_type\": \"midmarker\", \"x\": 2305.0, \"y\": 225.0}, \"25\": {\"node_type\": \"multimarker\", \"x\": 2325.0, \"y\": 225.0}, \"26\": {\"node_type\": \"metabolite\", \"x\": 2630.0, \"y\": 150.0, \"label_x\": 2600.0, \"label_y\": 130.0, \"bigg_id\": \"SHIKIMATE_c\", \"name\": \"SHIKIMATE_c\", \"node_is_primary\": false}, \"27\": {\"node_type\": \"metabolite\", \"x\": 2630.0, \"y\": 300.0, \"label_x\": 2600.0, \"label_y\": 280.0, \"bigg_id\": \"atp_c\", \"name\": \"atp_c\", \"node_is_primary\": false}, \"28\": {\"node_type\": \"metabolite\", \"x\": 3150.0, \"y\": 112.5, \"label_x\": 3120.0, \"label_y\": 92.5, \"bigg_id\": \"SHIKIMATE_5P_c\", \"name\": \"SHIKIMATE_5P_c\", \"node_is_primary\": false}, \"29\": {\"node_type\": \"metabolite\", \"x\": 3150.0, \"y\": 225.0, \"label_x\": 3120.0, \"label_y\": 205.0, \"bigg_id\": \"adp_c\", \"name\": \"adp_c\", \"node_is_primary\": false}, \"30\": {\"node_type\": \"metabolite\", \"x\": 3150.0, \"y\": 337.5, \"label_x\": 3120.0, \"label_y\": 317.5, \"bigg_id\": \"h_c\", \"name\": \"h_c\", \"node_is_primary\": false}, \"31\": {\"node_type\": \"multimarker\", \"x\": 2935.0, \"y\": 225.0}, \"32\": {\"node_type\": \"midmarker\", \"x\": 2955.0, \"y\": 225.0}, \"33\": {\"node_type\": \"multimarker\", \"x\": 2975.0, \"y\": 225.0}, \"34\": {\"node_type\": \"metabolite\", \"x\": 3280.0, \"y\": 300.0, \"label_x\": 3250.0, \"label_y\": 280.0, \"bigg_id\": \"pep_c\", \"name\": \"pep_c\", \"node_is_primary\": false}, \"35\": {\"node_type\": \"metabolite\", \"x\": 3800.0, \"y\": 150.0, \"label_x\": 3770.0, \"label_y\": 130.0, \"bigg_id\": \"3_ENOLPYRUVYL_SHIKIMATE_5P_c\", \"name\": \"3_ENOLPYRUVYL_SHIKIMATE_5P_c\", \"node_is_primary\": false}, \"36\": {\"node_type\": \"metabolite\", \"x\": 3800.0, \"y\": 300.0, \"label_x\": 3770.0, \"label_y\": 280.0, \"bigg_id\": \"pi_c\", \"name\": \"pi_c\", \"node_is_primary\": false}, \"37\": {\"node_type\": \"multimarker\", \"x\": 3585.0, \"y\": 225.0}, \"38\": {\"node_type\": \"midmarker\", \"x\": 3605.0, \"y\": 225.0}, \"39\": {\"node_type\": \"multimarker\", \"x\": 3625.0, \"y\": 225.0}, \"40\": {\"node_type\": \"metabolite\", \"x\": 4450.0, \"y\": 150.0, \"label_x\": 4420.0, \"label_y\": 130.0, \"bigg_id\": \"CHORISMATE_c\", \"name\": \"CHORISMATE_c\", \"node_is_primary\": false}, \"41\": {\"node_type\": \"metabolite\", \"x\": 4450.0, \"y\": 300.0, \"label_x\": 4420.0, \"label_y\": 280.0, \"bigg_id\": \"pi_c\", \"name\": \"pi_c\", \"node_is_primary\": false}, \"42\": {\"node_type\": \"multimarker\", \"x\": 4235.0, \"y\": 225.0}, \"43\": {\"node_type\": \"midmarker\", \"x\": 4255.0, \"y\": 225.0}, \"44\": {\"node_type\": \"multimarker\", \"x\": 4275.0, \"y\": 225.0}}, \"text_labels\": {}, \"canvas\": {\"x\": 0, \"y\": 0, \"width\": 4550, \"height\": 450}}]",
       "_loaded_model_json": null,
       "allow_building_duplicate_reactions": false,
       "and_method_in_gene_reaction_rule": "mean",
       "canvas_size_and_loc": null,
       "cofactors": [
        "atp",
        "adp",
        "nad",
        "nadh",
        "nadp",
        "nadph",
        "gtp",
        "gdp",
        "h",
        "coa",
        "ump",
        "h2o",
        "ppi"
       ],
       "disabled_buttons": [
        "Clear gene data",
        "Clear metabolite data"
       ],
       "embedded_css": null,
       "enable_editing": true,
       "enable_keys": false,
       "enable_keys_with_tooltip": true,
       "enable_search": true,
       "enable_tooltips": false,
       "full_screen_button": {
        "enable_editing": true,
        "enable_keys": true,
        "enable_tooltips": [
         "label"
        ],
        "menu": "all",
        "scroll_behavior": "pan"
       },
       "gene_data": null,
       "gene_font_size": 18,
       "height": 500,
       "hide_all_labels": false,
       "hide_secondary_metabolites": false,
       "highlight_missing": false,
       "identifiers_on_map": "bigg_id",
       "layout": "IPY_MODEL_3f9d79fca34e43a3930beb89d3d444ae",
       "marker_radius": 5,
       "menu": "all",
       "metabolite_compare_style": "log2_fold",
       "metabolite_data": null,
       "metabolite_no_data_color": "#ffffff",
       "metabolite_no_data_size": 10,
       "metabolite_scale": [
        {
         "color": "#fffaf0",
         "size": 20,
         "type": "min"
        },
        {
         "color": "#f1c470",
         "size": 30,
         "type": "median"
        },
        {
         "color": "#800000",
         "size": 40,
         "type": "max"
        }
       ],
       "metabolite_scale_preset": "WhYlRd",
       "metabolite_styles": [
        "color",
        "size",
        "text"
       ],
       "never_ask_before_quit": false,
       "primary_metabolite_radius": 20,
       "reaction_compare_style": "log2_fold",
       "reaction_data": {
        "2.5.1.19_RXN_c": 0,
        "3_DEHYDROQUINATE_DEHYDRATASE_RXN_c": 0.4646347247614127,
        "3_DEHYDROQUINATE_SYNTHASE_RXN_c": 0.4646347247614135,
        "ACALD": -11.706838677509918,
        "ACALDt": 1.5948213258617017e-15,
        "ACKr": -12.065214128606211,
        "ACONTa": 0.36514427631298446,
        "ACONTb": 0.3651442763129845,
        "ACt2r": -12.065214128606211,
        "ADK1": 0,
        "AKGDH": 0,
        "AKGt2r": 0,
        "ALCD2x": -11.70683867750992,
        "ATPM": 8.39,
        "ATPS4r": -8.683180924960366,
        "Biomass_Ecoli_core": 0,
        "Biomass_Ecoli_core_SA3": 0.3384412608332341,
        "Biomass_Ecoli_core_W3110": 0,
        "CHORISMATE_SYNTHASE_RXN_c": 0,
        "CO2t": 0.6046930007307195,
        "CS": 0.36514427631298446,
        "CYTBD": 0,
        "DAHPSYN_RXN_c": 0.4646347247614135,
        "D_LACt2": 0,
        "ENO": 27.974500503771917,
        "ETOHt2r": -11.706838677509921,
        "EX_ac_e": 12.065214128606211,
        "EX_acald_e": 0,
        "EX_akg_e": 0,
        "EX_co2_e": -0.6046930007307195,
        "EX_etoh_e": 11.706838677509923,
        "EX_for_e": 25.40560723977987,
        "EX_fru_e": 0,
        "EX_fum_e": 0,
        "EX_glc__D_e": -15,
        "EX_gln__L_e": 0,
        "EX_glu__L_e": 0,
        "EX_h2o_e": -8.91692070830452,
        "EX_h_e": 44.72458778546264,
        "EX_lac__D_e": 0,
        "EX_mal__L_e": 0,
        "EX_nh4_e": -1.8454525070714527,
        "EX_o2_e": 0,
        "EX_pi_e": -1.2450238662272328,
        "EX_pyr_e": 0,
        "EX_succ_e": 0,
        "FBA": 14.508474236262028,
        "FBP": 0,
        "FORt2": 0,
        "FORti": 25.40560723977987,
        "FRD7": 0,
        "FRUpts2": 0,
        "FUM": 0,
        "FUMt2_2": 0,
        "G6PDH2r": 0,
        "GAPD": 28.480808629978434,
        "GLCpts": 14.999999999999996,
        "GLNS": 0.08653943039506001,
        "GLNabc": 0,
        "GLUDy": -1.7589130766763885,
        "GLUN": 0,
        "GLUSy": 0,
        "GLUt2r": 1.4034797630313519e-14,
        "GND": 0,
        "H2Ot": 8.91692070830452,
        "ICDHyr": 0.3651442763129845,
        "ICL": 0,
        "LDH_D": 0,
        "MALS": 0,
        "MALt2_2": 0,
        "MDH": 3.211490271802834e-14,
        "ME1": 0,
        "ME2": 0,
        "NADH16": 0,
        "NADTRHD": 0,
        "NH4t": 1.8454525070714527,
        "O2t": 0,
        "PDH": 0,
        "PFK": 14.508474236262028,
        "PFL": 25.40560723977987,
        "PGI": 14.93061954152917,
        "PGK": -28.480808629978437,
        "PGL": 0,
        "PGM": -27.974500503771917,
        "PIt2r": 1.2450238662272328,
        "PPC": 0.9698372770437376,
        "PPCK": 0,
        "PPS": 0,
        "PTAr": 12.065214128606211,
        "PYK": 11.364343643468237,
        "PYRt2": 0,
        "RPE": -0.3981498198740608,
        "RPI": -0.39814981987406833,
        "SHIKIMATE_5_DEHYDROGENASE_RXN_c": -0.4646347247612558,
        "SHIKIMATE_KINASE_RXN_c": 0,
        "SK_CHORISMATE_c": 0,
        "SUCCt2_2": 0,
        "SUCCt3": 0,
        "SUCDi": 0,
        "SUCOAS": 0,
        "TALA": 0.09433110002407664,
        "THD2": 6.26758242713395,
        "TKT1": 0.09433110002407401,
        "TKT2": -0.4924809198981324,
        "TPI": 14.508474236262028
       },
       "reaction_no_data_color": "#dcdcdc",
       "reaction_no_data_size": 8,
       "reaction_scale": [
        {
         "color": "rgb(222,207,207)",
         "type": "value",
         "value": 1.5948213258617017e-15
        },
        {
         "color": "rgb(224,194,194)",
         "type": "value",
         "value": 1.4034797630313519e-14
        },
        {
         "color": "rgb(226,181,181)",
         "type": "value",
         "value": 3.211490271802834e-14
        },
        {
         "color": "rgb(228,168,168)",
         "type": "value",
         "value": 0.08653943039506001
        },
        {
         "color": "rgb(230,155,155)",
         "type": "value",
         "value": 0.09433110002407401
        },
        {
         "color": "rgb(232,142,142)",
         "type": "value",
         "value": 0.09433110002407664
        },
        {
         "color": "rgb(234,129,129)",
         "type": "value",
         "value": 0.3384412608332341
        },
        {
         "color": "rgb(236,116,116)",
         "type": "value",
         "value": 0.36514427631298446
        },
        {
         "color": "rgb(238,103,103)",
         "type": "value",
         "value": 0.36514427631298446
        },
        {
         "color": "rgb(240,90,90)",
         "type": "value",
         "value": 0.3651442763129845
        },
        {
         "color": "rgb(242,77,77)",
         "type": "value",
         "value": 0.3651442763129845
        },
        {
         "color": "rgb(244,64,64)",
         "type": "value",
         "value": 0.4646347247614127
        },
        {
         "color": "rgb(246,51,51)",
         "type": "value",
         "value": 0.4646347247614135
        },
        {
         "color": "rgb(248,38,38)",
         "type": "value",
         "value": 0.4646347247614135
        },
        {
         "color": "rgb(250,25,25)",
         "type": "value",
         "value": 0.6046930007307195
        },
        {
         "color": "rgb(252,12,12)",
         "type": "value",
         "value": 0.9698372770437376
        },
        {
         "color": "rgb(254,0,0)",
         "type": "value",
         "value": 1
        },
        {
         "color": "rgb(220,220,220)",
         "type": "value",
         "value": 0
        },
        {
         "color": "rgb(183,183,225)",
         "type": "value",
         "value": -0.3981498198740608
        },
        {
         "color": "rgb(146,146,231)",
         "type": "value",
         "value": -0.39814981987406833
        },
        {
         "color": "rgb(109,109,237)",
         "type": "value",
         "value": -0.4646347247612557
        },
        {
         "color": "rgb(73,73,243)",
         "type": "value",
         "value": -0.4924809198981324
        },
        {
         "color": "rgb(36,36,249)",
         "type": "value",
         "value": -0.6046930007307195
        },
        {
         "color": "rgb(0,0,254)",
         "type": "value",
         "value": -1
        }
       ],
       "reaction_scale_preset": null,
       "reaction_styles": [
        "color",
        "text"
       ],
       "scroll_behavior": "none",
       "secondary_metabolite_radius": 10,
       "semantic_zoom": null,
       "show_gene_reaction_rules": false,
       "starting_reaction": null,
       "use_3d_transform": false,
       "zoom_to_element": null
      }
     },
     "892ea94154304210aef27af211cf14c5": {
      "model_module": "@jupyter-widgets/base",
      "model_module_version": "1.2.0",
      "model_name": "LayoutModel",
      "state": {}
     },
     "8e1c3c901bf945879f66e9d591b50da6": {
      "model_module": "escher",
      "model_module_version": "1.7.3",
      "model_name": "EscherMapModel",
      "state": {
       "_loaded_map_json": "[{\"map_name\": \"\", \"map_id\": \"\", \"map_description\": \"\", \"homepage\": \"\", \"schema\": \"https://escher.github.io/escher/jsonschema/1-0-0#\"}, {\"reactions\": {\"0\": {\"name\": \"DAHPSYN_RXN_c\", \"bigg_id\": \"DAHPSYN_RXN_c\", \"reversibility\": true, \"label_x\": 208.0, \"label_y\": 45.0, \"gene_reaction_rule\": \"\", \"genes\": [], \"segments\": {\"0\": {\"from_node_id\": \"5\", \"to_node_id\": \"6\", \"b1\": null, \"b2\": null}, \"1\": {\"from_node_id\": \"7\", \"to_node_id\": \"6\", \"b1\": null, \"b2\": null}, \"2\": {\"from_node_id\": \"0\", \"to_node_id\": \"5\", \"b1\": null, \"b2\": null}, \"3\": {\"from_node_id\": \"1\", \"to_node_id\": \"5\", \"b1\": null, \"b2\": null}, \"4\": {\"from_node_id\": \"2\", \"to_node_id\": \"5\", \"b1\": null, \"b2\": null}, \"5\": {\"from_node_id\": \"3\", \"to_node_id\": \"7\", \"b1\": null, \"b2\": null}, \"6\": {\"from_node_id\": \"4\", \"to_node_id\": \"7\", \"b1\": null, \"b2\": null}}, \"metabolites\": [{\"bigg_id\": \"e4p_c\", \"coefficient\": -1.0}, {\"bigg_id\": \"h2o_c\", \"coefficient\": -1.0}, {\"bigg_id\": \"pep_c\", \"coefficient\": -1.0}, {\"bigg_id\": \"3_DEOXY_D_ARABINO_HEPTULOSONATE_7_P_c\", \"coefficient\": 1.0}, {\"bigg_id\": \"pi_c\", \"coefficient\": 1.0}]}, \"1\": {\"name\": \"3_DEHYDROQUINATE_SYNTHASE_RXN_c\", \"bigg_id\": \"3_DEHYDROQUINATE_SYNTHASE_RXN_c\", \"reversibility\": true, \"label_x\": 696.0, \"label_y\": 45.0, \"gene_reaction_rule\": \"\", \"genes\": [], \"segments\": {\"7\": {\"from_node_id\": \"10\", \"to_node_id\": \"11\", \"b1\": null, \"b2\": null}, \"8\": {\"from_node_id\": \"12\", \"to_node_id\": \"11\", \"b1\": null, \"b2\": null}, \"9\": {\"from_node_id\": \"3\", \"to_node_id\": \"10\", \"b1\": null, \"b2\": null}, \"10\": {\"from_node_id\": \"8\", \"to_node_id\": \"12\", \"b1\": null, \"b2\": null}, \"11\": {\"from_node_id\": \"9\", \"to_node_id\": \"12\", \"b1\": null, \"b2\": null}}, \"metabolites\": [{\"bigg_id\": \"3_DEOXY_D_ARABINO_HEPTULOSONATE_7_P_c\", \"coefficient\": -1.0}, {\"bigg_id\": \"DEHYDROQUINATE_c\", \"coefficient\": 1.0}, {\"bigg_id\": \"pi_c\", \"coefficient\": 1.0}]}, \"2\": {\"name\": \"3_DEHYDROQUINATE_DEHYDRATASE_RXN_c\", \"bigg_id\": \"3_DEHYDROQUINATE_DEHYDRATASE_RXN_c\", \"reversibility\": true, \"label_x\": 1319.0, \"label_y\": 45.0, \"gene_reaction_rule\": \"\", \"genes\": [], \"segments\": {\"12\": {\"from_node_id\": \"15\", \"to_node_id\": \"16\", \"b1\": null, \"b2\": null}, \"13\": {\"from_node_id\": \"17\", \"to_node_id\": \"16\", \"b1\": null, \"b2\": null}, \"14\": {\"from_node_id\": \"8\", \"to_node_id\": \"15\", \"b1\": null, \"b2\": null}, \"15\": {\"from_node_id\": \"13\", \"to_node_id\": \"17\", \"b1\": null, \"b2\": null}, \"16\": {\"from_node_id\": \"14\", \"to_node_id\": \"17\", \"b1\": null, \"b2\": null}}, \"metabolites\": [{\"bigg_id\": \"DEHYDROQUINATE_c\", \"coefficient\": -1.0}, {\"bigg_id\": \"3_DEHYDRO_SHIKIMATE_c\", \"coefficient\": 1.0}, {\"bigg_id\": \"h2o_c\", \"coefficient\": 1.0}]}, \"3\": {\"name\": \"SHIKIMATE_5_DEHYDROGENASE_RXN_c\", \"bigg_id\": \"SHIKIMATE_5_DEHYDROGENASE_RXN_c\", \"reversibility\": true, \"label_x\": 1996.0, \"label_y\": 45.0, \"gene_reaction_rule\": \"\", \"genes\": [], \"segments\": {\"17\": {\"from_node_id\": \"23\", \"to_node_id\": \"24\", \"b1\": null, \"b2\": null}, \"18\": {\"from_node_id\": \"25\", \"to_node_id\": \"24\", \"b1\": null, \"b2\": null}, \"19\": {\"from_node_id\": \"18\", \"to_node_id\": \"23\", \"b1\": null, \"b2\": null}, \"20\": {\"from_node_id\": \"19\", \"to_node_id\": \"23\", \"b1\": null, \"b2\": null}, \"21\": {\"from_node_id\": \"20\", \"to_node_id\": \"25\", \"b1\": null, \"b2\": null}, \"22\": {\"from_node_id\": \"21\", \"to_node_id\": \"25\", \"b1\": null, \"b2\": null}, \"23\": {\"from_node_id\": \"22\", \"to_node_id\": \"25\", \"b1\": null, \"b2\": null}}, \"metabolites\": [{\"bigg_id\": \"SHIKIMATE_c\", \"coefficient\": -1.0}, {\"bigg_id\": \"nadp_c\", \"coefficient\": -1.0}, {\"bigg_id\": \"3_DEHYDRO_SHIKIMATE_c\", \"coefficient\": 1.0}, {\"bigg_id\": \"h_c\", \"coefficient\": 1.0}, {\"bigg_id\": \"nadph_c\", \"coefficient\": 1.0}]}, \"4\": {\"name\": \"SHIKIMATE_KINASE_RXN_c\", \"bigg_id\": \"SHIKIMATE_KINASE_RXN_c\", \"reversibility\": true, \"label_x\": 2727.0, \"label_y\": 45.0, \"gene_reaction_rule\": \"\", \"genes\": [], \"segments\": {\"24\": {\"from_node_id\": \"31\", \"to_node_id\": \"32\", \"b1\": null, \"b2\": null}, \"25\": {\"from_node_id\": \"33\", \"to_node_id\": \"32\", \"b1\": null, \"b2\": null}, \"26\": {\"from_node_id\": \"26\", \"to_node_id\": \"31\", \"b1\": null, \"b2\": null}, \"27\": {\"from_node_id\": \"27\", \"to_node_id\": \"31\", \"b1\": null, \"b2\": null}, \"28\": {\"from_node_id\": \"28\", \"to_node_id\": \"33\", \"b1\": null, \"b2\": null}, \"29\": {\"from_node_id\": \"29\", \"to_node_id\": \"33\", \"b1\": null, \"b2\": null}, \"30\": {\"from_node_id\": \"30\", \"to_node_id\": \"33\", \"b1\": null, \"b2\": null}}, \"metabolites\": [{\"bigg_id\": \"SHIKIMATE_c\", \"coefficient\": -1.0}, {\"bigg_id\": \"atp_c\", \"coefficient\": -1.0}, {\"bigg_id\": \"SHIKIMATE_5P_c\", \"coefficient\": 1.0}, {\"bigg_id\": \"adp_c\", \"coefficient\": 1.0}, {\"bigg_id\": \"h_c\", \"coefficient\": 1.0}]}, \"5\": {\"name\": \"2.5.1.19_RXN_c\", \"bigg_id\": \"2.5.1.19_RXN_c\", \"reversibility\": true, \"label_x\": 3449.0, \"label_y\": 45.0, \"gene_reaction_rule\": \"\", \"genes\": [], \"segments\": {\"31\": {\"from_node_id\": \"37\", \"to_node_id\": \"38\", \"b1\": null, \"b2\": null}, \"32\": {\"from_node_id\": \"39\", \"to_node_id\": \"38\", \"b1\": null, \"b2\": null}, \"33\": {\"from_node_id\": \"28\", \"to_node_id\": \"37\", \"b1\": null, \"b2\": null}, \"34\": {\"from_node_id\": \"34\", \"to_node_id\": \"37\", \"b1\": null, \"b2\": null}, \"35\": {\"from_node_id\": \"35\", \"to_node_id\": \"39\", \"b1\": null, \"b2\": null}, \"36\": {\"from_node_id\": \"36\", \"to_node_id\": \"39\", \"b1\": null, \"b2\": null}}, \"metabolites\": [{\"bigg_id\": \"SHIKIMATE_5P_c\", \"coefficient\": -1.0}, {\"bigg_id\": \"pep_c\", \"coefficient\": -1.0}, {\"bigg_id\": \"3_ENOLPYRUVYL_SHIKIMATE_5P_c\", \"coefficient\": 1.0}, {\"bigg_id\": \"pi_c\", \"coefficient\": 1.0}]}, \"6\": {\"name\": \"CHORISMATE_SYNTHASE_RXN_c\", \"bigg_id\": \"CHORISMATE_SYNTHASE_RXN_c\", \"reversibility\": true, \"label_x\": 4000.0, \"label_y\": 45.0, \"gene_reaction_rule\": \"\", \"genes\": [], \"segments\": {\"37\": {\"from_node_id\": \"42\", \"to_node_id\": \"43\", \"b1\": null, \"b2\": null}, \"38\": {\"from_node_id\": \"44\", \"to_node_id\": \"43\", \"b1\": null, \"b2\": null}, \"39\": {\"from_node_id\": \"35\", \"to_node_id\": \"42\", \"b1\": null, \"b2\": null}, \"40\": {\"from_node_id\": \"40\", \"to_node_id\": \"44\", \"b1\": null, \"b2\": null}, \"41\": {\"from_node_id\": \"41\", \"to_node_id\": \"44\", \"b1\": null, \"b2\": null}}, \"metabolites\": [{\"bigg_id\": \"3_ENOLPYRUVYL_SHIKIMATE_5P_c\", \"coefficient\": -1.0}, {\"bigg_id\": \"CHORISMATE_c\", \"coefficient\": 1.0}, {\"bigg_id\": \"pi_c\", \"coefficient\": 1.0}]}}, \"nodes\": {\"0\": {\"node_type\": \"metabolite\", \"x\": 30.0, \"y\": 112.5, \"label_x\": 0.0, \"label_y\": 92.5, \"bigg_id\": \"e4p_c\", \"name\": \"e4p_c\", \"node_is_primary\": false}, \"1\": {\"node_type\": \"metabolite\", \"x\": 30.0, \"y\": 225.0, \"label_x\": 0.0, \"label_y\": 205.0, \"bigg_id\": \"h2o_c\", \"name\": \"h2o_c\", \"node_is_primary\": false}, \"2\": {\"node_type\": \"metabolite\", \"x\": 30.0, \"y\": 337.5, \"label_x\": 0.0, \"label_y\": 317.5, \"bigg_id\": \"pep_c\", \"name\": \"pep_c\", \"node_is_primary\": false}, \"3\": {\"node_type\": \"metabolite\", \"x\": 550.0, \"y\": 150.0, \"label_x\": 520.0, \"label_y\": 130.0, \"bigg_id\": \"3_DEOXY_D_ARABINO_HEPTULOSONATE_7_P_c\", \"name\": \"3_DEOXY_D_ARABINO_HEPTULOSONATE_7_P_c\", \"node_is_primary\": false}, \"4\": {\"node_type\": \"metabolite\", \"x\": 550.0, \"y\": 300.0, \"label_x\": 520.0, \"label_y\": 280.0, \"bigg_id\": \"pi_c\", \"name\": \"pi_c\", \"node_is_primary\": false}, \"5\": {\"node_type\": \"multimarker\", \"x\": 335.0, \"y\": 225.0}, \"6\": {\"node_type\": \"midmarker\", \"x\": 355.0, \"y\": 225.0}, \"7\": {\"node_type\": \"multimarker\", \"x\": 375.0, \"y\": 225.0}, \"8\": {\"node_type\": \"metabolite\", \"x\": 1200.0, \"y\": 150.0, \"label_x\": 1170.0, \"label_y\": 130.0, \"bigg_id\": \"DEHYDROQUINATE_c\", \"name\": \"DEHYDROQUINATE_c\", \"node_is_primary\": false}, \"9\": {\"node_type\": \"metabolite\", \"x\": 1200.0, \"y\": 300.0, \"label_x\": 1170.0, \"label_y\": 280.0, \"bigg_id\": \"pi_c\", \"name\": \"pi_c\", \"node_is_primary\": false}, \"10\": {\"node_type\": \"multimarker\", \"x\": 985.0, \"y\": 225.0}, \"11\": {\"node_type\": \"midmarker\", \"x\": 1005.0, \"y\": 225.0}, \"12\": {\"node_type\": \"multimarker\", \"x\": 1025.0, \"y\": 225.0}, \"13\": {\"node_type\": \"metabolite\", \"x\": 1850.0, \"y\": 150.0, \"label_x\": 1820.0, \"label_y\": 130.0, \"bigg_id\": \"3_DEHYDRO_SHIKIMATE_c\", \"name\": \"3_DEHYDRO_SHIKIMATE_c\", \"node_is_primary\": false}, \"14\": {\"node_type\": \"metabolite\", \"x\": 1850.0, \"y\": 300.0, \"label_x\": 1820.0, \"label_y\": 280.0, \"bigg_id\": \"h2o_c\", \"name\": \"h2o_c\", \"node_is_primary\": false}, \"15\": {\"node_type\": \"multimarker\", \"x\": 1635.0, \"y\": 225.0}, \"16\": {\"node_type\": \"midmarker\", \"x\": 1655.0, \"y\": 225.0}, \"17\": {\"node_type\": \"multimarker\", \"x\": 1675.0, \"y\": 225.0}, \"18\": {\"node_type\": \"metabolite\", \"x\": 1980.0, \"y\": 150.0, \"label_x\": 1950.0, \"label_y\": 130.0, \"bigg_id\": \"SHIKIMATE_c\", \"name\": \"SHIKIMATE_c\", \"node_is_primary\": false}, \"19\": {\"node_type\": \"metabolite\", \"x\": 1980.0, \"y\": 300.0, \"label_x\": 1950.0, \"label_y\": 280.0, \"bigg_id\": \"nadp_c\", \"name\": \"nadp_c\", \"node_is_primary\": false}, \"20\": {\"node_type\": \"metabolite\", \"x\": 2500.0, \"y\": 112.5, \"label_x\": 2470.0, \"label_y\": 92.5, \"bigg_id\": \"3_DEHYDRO_SHIKIMATE_c\", \"name\": \"3_DEHYDRO_SHIKIMATE_c\", \"node_is_primary\": false}, \"21\": {\"node_type\": \"metabolite\", \"x\": 2500.0, \"y\": 225.0, \"label_x\": 2470.0, \"label_y\": 205.0, \"bigg_id\": \"h_c\", \"name\": \"h_c\", \"node_is_primary\": false}, \"22\": {\"node_type\": \"metabolite\", \"x\": 2500.0, \"y\": 337.5, \"label_x\": 2470.0, \"label_y\": 317.5, \"bigg_id\": \"nadph_c\", \"name\": \"nadph_c\", \"node_is_primary\": false}, \"23\": {\"node_type\": \"multimarker\", \"x\": 2285.0, \"y\": 225.0}, \"24\": {\"node_type\": \"midmarker\", \"x\": 2305.0, \"y\": 225.0}, \"25\": {\"node_type\": \"multimarker\", \"x\": 2325.0, \"y\": 225.0}, \"26\": {\"node_type\": \"metabolite\", \"x\": 2630.0, \"y\": 150.0, \"label_x\": 2600.0, \"label_y\": 130.0, \"bigg_id\": \"SHIKIMATE_c\", \"name\": \"SHIKIMATE_c\", \"node_is_primary\": false}, \"27\": {\"node_type\": \"metabolite\", \"x\": 2630.0, \"y\": 300.0, \"label_x\": 2600.0, \"label_y\": 280.0, \"bigg_id\": \"atp_c\", \"name\": \"atp_c\", \"node_is_primary\": false}, \"28\": {\"node_type\": \"metabolite\", \"x\": 3150.0, \"y\": 112.5, \"label_x\": 3120.0, \"label_y\": 92.5, \"bigg_id\": \"SHIKIMATE_5P_c\", \"name\": \"SHIKIMATE_5P_c\", \"node_is_primary\": false}, \"29\": {\"node_type\": \"metabolite\", \"x\": 3150.0, \"y\": 225.0, \"label_x\": 3120.0, \"label_y\": 205.0, \"bigg_id\": \"adp_c\", \"name\": \"adp_c\", \"node_is_primary\": false}, \"30\": {\"node_type\": \"metabolite\", \"x\": 3150.0, \"y\": 337.5, \"label_x\": 3120.0, \"label_y\": 317.5, \"bigg_id\": \"h_c\", \"name\": \"h_c\", \"node_is_primary\": false}, \"31\": {\"node_type\": \"multimarker\", \"x\": 2935.0, \"y\": 225.0}, \"32\": {\"node_type\": \"midmarker\", \"x\": 2955.0, \"y\": 225.0}, \"33\": {\"node_type\": \"multimarker\", \"x\": 2975.0, \"y\": 225.0}, \"34\": {\"node_type\": \"metabolite\", \"x\": 3280.0, \"y\": 300.0, \"label_x\": 3250.0, \"label_y\": 280.0, \"bigg_id\": \"pep_c\", \"name\": \"pep_c\", \"node_is_primary\": false}, \"35\": {\"node_type\": \"metabolite\", \"x\": 3800.0, \"y\": 150.0, \"label_x\": 3770.0, \"label_y\": 130.0, \"bigg_id\": \"3_ENOLPYRUVYL_SHIKIMATE_5P_c\", \"name\": \"3_ENOLPYRUVYL_SHIKIMATE_5P_c\", \"node_is_primary\": false}, \"36\": {\"node_type\": \"metabolite\", \"x\": 3800.0, \"y\": 300.0, \"label_x\": 3770.0, \"label_y\": 280.0, \"bigg_id\": \"pi_c\", \"name\": \"pi_c\", \"node_is_primary\": false}, \"37\": {\"node_type\": \"multimarker\", \"x\": 3585.0, \"y\": 225.0}, \"38\": {\"node_type\": \"midmarker\", \"x\": 3605.0, \"y\": 225.0}, \"39\": {\"node_type\": \"multimarker\", \"x\": 3625.0, \"y\": 225.0}, \"40\": {\"node_type\": \"metabolite\", \"x\": 4450.0, \"y\": 150.0, \"label_x\": 4420.0, \"label_y\": 130.0, \"bigg_id\": \"CHORISMATE_c\", \"name\": \"CHORISMATE_c\", \"node_is_primary\": false}, \"41\": {\"node_type\": \"metabolite\", \"x\": 4450.0, \"y\": 300.0, \"label_x\": 4420.0, \"label_y\": 280.0, \"bigg_id\": \"pi_c\", \"name\": \"pi_c\", \"node_is_primary\": false}, \"42\": {\"node_type\": \"multimarker\", \"x\": 4235.0, \"y\": 225.0}, \"43\": {\"node_type\": \"midmarker\", \"x\": 4255.0, \"y\": 225.0}, \"44\": {\"node_type\": \"multimarker\", \"x\": 4275.0, \"y\": 225.0}}, \"text_labels\": {}, \"canvas\": {\"x\": 0, \"y\": 0, \"width\": 4550, \"height\": 450}}]",
       "_loaded_model_json": null,
       "allow_building_duplicate_reactions": false,
       "and_method_in_gene_reaction_rule": "mean",
       "canvas_size_and_loc": null,
       "cofactors": [
        "atp",
        "adp",
        "nad",
        "nadh",
        "nadp",
        "nadph",
        "gtp",
        "gdp",
        "h",
        "coa",
        "ump",
        "h2o",
        "ppi"
       ],
       "disabled_buttons": [
        "Clear reaction data",
        "Clear gene data",
        "Clear metabolite data"
       ],
       "embedded_css": null,
       "enable_editing": true,
       "enable_keys": false,
       "enable_keys_with_tooltip": true,
       "enable_search": true,
       "enable_tooltips": false,
       "full_screen_button": {
        "enable_editing": true,
        "enable_keys": true,
        "enable_tooltips": [
         "label"
        ],
        "menu": "all",
        "scroll_behavior": "pan"
       },
       "gene_data": null,
       "gene_font_size": 18,
       "height": 500,
       "hide_all_labels": false,
       "hide_secondary_metabolites": false,
       "highlight_missing": false,
       "identifiers_on_map": "bigg_id",
       "layout": "IPY_MODEL_4326c26d8d224d3892eedf95a8ec11e6",
       "marker_radius": 5,
       "menu": "all",
       "metabolite_compare_style": "log2_fold",
       "metabolite_data": null,
       "metabolite_no_data_color": "#ffffff",
       "metabolite_no_data_size": 10,
       "metabolite_scale": [
        {
         "color": "#fffaf0",
         "size": 20,
         "type": "min"
        },
        {
         "color": "#f1c470",
         "size": 30,
         "type": "median"
        },
        {
         "color": "#800000",
         "size": 40,
         "type": "max"
        }
       ],
       "metabolite_scale_preset": "WhYlRd",
       "metabolite_styles": [
        "color",
        "size",
        "text"
       ],
       "never_ask_before_quit": false,
       "primary_metabolite_radius": 20,
       "reaction_compare_style": "log2_fold",
       "reaction_data": null,
       "reaction_no_data_color": "#dcdcdc",
       "reaction_no_data_size": 8,
       "reaction_scale": [
        {
         "color": "rgb(220,220,220)",
         "type": "value",
         "value": 0
        }
       ],
       "reaction_scale_preset": null,
       "reaction_styles": [
        "color",
        "text"
       ],
       "scroll_behavior": "none",
       "secondary_metabolite_radius": 10,
       "semantic_zoom": null,
       "show_gene_reaction_rules": false,
       "starting_reaction": null,
       "use_3d_transform": false,
       "zoom_to_element": null
      }
     },
     "8f8c7c48d37942c28339aacac6b23e55": {
      "model_module": "@jupyter-widgets/base",
      "model_module_version": "1.2.0",
      "model_name": "LayoutModel",
      "state": {}
     },
     "a76d1dd92231426cb8692fe9255229e7": {
      "model_module": "escher",
      "model_module_version": "1.7.3",
      "model_name": "EscherMapModel",
      "state": {
       "_loaded_map_json": "[{\"map_name\": \"\", \"map_id\": \"\", \"map_description\": \"\", \"homepage\": \"\", \"schema\": \"https://escher.github.io/escher/jsonschema/1-0-0#\"}, {\"reactions\": {\"0\": {\"name\": \"DAHPSYN_RXN_c\", \"bigg_id\": \"DAHPSYN_RXN_c\", \"reversibility\": true, \"label_x\": 208.0, \"label_y\": 45.0, \"gene_reaction_rule\": \"\", \"genes\": [], \"segments\": {\"0\": {\"from_node_id\": \"5\", \"to_node_id\": \"6\", \"b1\": null, \"b2\": null}, \"1\": {\"from_node_id\": \"7\", \"to_node_id\": \"6\", \"b1\": null, \"b2\": null}, \"2\": {\"from_node_id\": \"0\", \"to_node_id\": \"5\", \"b1\": null, \"b2\": null}, \"3\": {\"from_node_id\": \"1\", \"to_node_id\": \"5\", \"b1\": null, \"b2\": null}, \"4\": {\"from_node_id\": \"2\", \"to_node_id\": \"5\", \"b1\": null, \"b2\": null}, \"5\": {\"from_node_id\": \"3\", \"to_node_id\": \"7\", \"b1\": null, \"b2\": null}, \"6\": {\"from_node_id\": \"4\", \"to_node_id\": \"7\", \"b1\": null, \"b2\": null}}, \"metabolites\": [{\"bigg_id\": \"e4p_c\", \"coefficient\": -1.0}, {\"bigg_id\": \"h2o_c\", \"coefficient\": -1.0}, {\"bigg_id\": \"pep_c\", \"coefficient\": -1.0}, {\"bigg_id\": \"3_DEOXY_D_ARABINO_HEPTULOSONATE_7_P_c\", \"coefficient\": 1.0}, {\"bigg_id\": \"pi_c\", \"coefficient\": 1.0}]}, \"1\": {\"name\": \"3_DEHYDROQUINATE_SYNTHASE_RXN_c\", \"bigg_id\": \"3_DEHYDROQUINATE_SYNTHASE_RXN_c\", \"reversibility\": true, \"label_x\": 696.0, \"label_y\": 45.0, \"gene_reaction_rule\": \"\", \"genes\": [], \"segments\": {\"7\": {\"from_node_id\": \"10\", \"to_node_id\": \"11\", \"b1\": null, \"b2\": null}, \"8\": {\"from_node_id\": \"12\", \"to_node_id\": \"11\", \"b1\": null, \"b2\": null}, \"9\": {\"from_node_id\": \"3\", \"to_node_id\": \"10\", \"b1\": null, \"b2\": null}, \"10\": {\"from_node_id\": \"8\", \"to_node_id\": \"12\", \"b1\": null, \"b2\": null}, \"11\": {\"from_node_id\": \"9\", \"to_node_id\": \"12\", \"b1\": null, \"b2\": null}}, \"metabolites\": [{\"bigg_id\": \"3_DEOXY_D_ARABINO_HEPTULOSONATE_7_P_c\", \"coefficient\": -1.0}, {\"bigg_id\": \"DEHYDROQUINATE_c\", \"coefficient\": 1.0}, {\"bigg_id\": \"pi_c\", \"coefficient\": 1.0}]}, \"2\": {\"name\": \"3_DEHYDROQUINATE_DEHYDRATASE_RXN_c\", \"bigg_id\": \"3_DEHYDROQUINATE_DEHYDRATASE_RXN_c\", \"reversibility\": true, \"label_x\": 1319.0, \"label_y\": 45.0, \"gene_reaction_rule\": \"\", \"genes\": [], \"segments\": {\"12\": {\"from_node_id\": \"15\", \"to_node_id\": \"16\", \"b1\": null, \"b2\": null}, \"13\": {\"from_node_id\": \"17\", \"to_node_id\": \"16\", \"b1\": null, \"b2\": null}, \"14\": {\"from_node_id\": \"8\", \"to_node_id\": \"15\", \"b1\": null, \"b2\": null}, \"15\": {\"from_node_id\": \"13\", \"to_node_id\": \"17\", \"b1\": null, \"b2\": null}, \"16\": {\"from_node_id\": \"14\", \"to_node_id\": \"17\", \"b1\": null, \"b2\": null}}, \"metabolites\": [{\"bigg_id\": \"DEHYDROQUINATE_c\", \"coefficient\": -1.0}, {\"bigg_id\": \"3_DEHYDRO_SHIKIMATE_c\", \"coefficient\": 1.0}, {\"bigg_id\": \"h2o_c\", \"coefficient\": 1.0}]}, \"3\": {\"name\": \"SHIKIMATE_5_DEHYDROGENASE_RXN_c\", \"bigg_id\": \"SHIKIMATE_5_DEHYDROGENASE_RXN_c\", \"reversibility\": true, \"label_x\": 1996.0, \"label_y\": 45.0, \"gene_reaction_rule\": \"\", \"genes\": [], \"segments\": {\"17\": {\"from_node_id\": \"23\", \"to_node_id\": \"24\", \"b1\": null, \"b2\": null}, \"18\": {\"from_node_id\": \"25\", \"to_node_id\": \"24\", \"b1\": null, \"b2\": null}, \"19\": {\"from_node_id\": \"18\", \"to_node_id\": \"23\", \"b1\": null, \"b2\": null}, \"20\": {\"from_node_id\": \"19\", \"to_node_id\": \"23\", \"b1\": null, \"b2\": null}, \"21\": {\"from_node_id\": \"20\", \"to_node_id\": \"25\", \"b1\": null, \"b2\": null}, \"22\": {\"from_node_id\": \"21\", \"to_node_id\": \"25\", \"b1\": null, \"b2\": null}, \"23\": {\"from_node_id\": \"22\", \"to_node_id\": \"25\", \"b1\": null, \"b2\": null}}, \"metabolites\": [{\"bigg_id\": \"SHIKIMATE_c\", \"coefficient\": -1.0}, {\"bigg_id\": \"nadp_c\", \"coefficient\": -1.0}, {\"bigg_id\": \"3_DEHYDRO_SHIKIMATE_c\", \"coefficient\": 1.0}, {\"bigg_id\": \"h_c\", \"coefficient\": 1.0}, {\"bigg_id\": \"nadph_c\", \"coefficient\": 1.0}]}, \"4\": {\"name\": \"SHIKIMATE_KINASE_RXN_c\", \"bigg_id\": \"SHIKIMATE_KINASE_RXN_c\", \"reversibility\": true, \"label_x\": 2727.0, \"label_y\": 45.0, \"gene_reaction_rule\": \"\", \"genes\": [], \"segments\": {\"24\": {\"from_node_id\": \"31\", \"to_node_id\": \"32\", \"b1\": null, \"b2\": null}, \"25\": {\"from_node_id\": \"33\", \"to_node_id\": \"32\", \"b1\": null, \"b2\": null}, \"26\": {\"from_node_id\": \"26\", \"to_node_id\": \"31\", \"b1\": null, \"b2\": null}, \"27\": {\"from_node_id\": \"27\", \"to_node_id\": \"31\", \"b1\": null, \"b2\": null}, \"28\": {\"from_node_id\": \"28\", \"to_node_id\": \"33\", \"b1\": null, \"b2\": null}, \"29\": {\"from_node_id\": \"29\", \"to_node_id\": \"33\", \"b1\": null, \"b2\": null}, \"30\": {\"from_node_id\": \"30\", \"to_node_id\": \"33\", \"b1\": null, \"b2\": null}}, \"metabolites\": [{\"bigg_id\": \"SHIKIMATE_c\", \"coefficient\": -1.0}, {\"bigg_id\": \"atp_c\", \"coefficient\": -1.0}, {\"bigg_id\": \"SHIKIMATE_5P_c\", \"coefficient\": 1.0}, {\"bigg_id\": \"adp_c\", \"coefficient\": 1.0}, {\"bigg_id\": \"h_c\", \"coefficient\": 1.0}]}, \"5\": {\"name\": \"2.5.1.19_RXN_c\", \"bigg_id\": \"2.5.1.19_RXN_c\", \"reversibility\": true, \"label_x\": 3449.0, \"label_y\": 45.0, \"gene_reaction_rule\": \"\", \"genes\": [], \"segments\": {\"31\": {\"from_node_id\": \"37\", \"to_node_id\": \"38\", \"b1\": null, \"b2\": null}, \"32\": {\"from_node_id\": \"39\", \"to_node_id\": \"38\", \"b1\": null, \"b2\": null}, \"33\": {\"from_node_id\": \"28\", \"to_node_id\": \"37\", \"b1\": null, \"b2\": null}, \"34\": {\"from_node_id\": \"34\", \"to_node_id\": \"37\", \"b1\": null, \"b2\": null}, \"35\": {\"from_node_id\": \"35\", \"to_node_id\": \"39\", \"b1\": null, \"b2\": null}, \"36\": {\"from_node_id\": \"36\", \"to_node_id\": \"39\", \"b1\": null, \"b2\": null}}, \"metabolites\": [{\"bigg_id\": \"SHIKIMATE_5P_c\", \"coefficient\": -1.0}, {\"bigg_id\": \"pep_c\", \"coefficient\": -1.0}, {\"bigg_id\": \"3_ENOLPYRUVYL_SHIKIMATE_5P_c\", \"coefficient\": 1.0}, {\"bigg_id\": \"pi_c\", \"coefficient\": 1.0}]}, \"6\": {\"name\": \"CHORISMATE_SYNTHASE_RXN_c\", \"bigg_id\": \"CHORISMATE_SYNTHASE_RXN_c\", \"reversibility\": true, \"label_x\": 4000.0, \"label_y\": 45.0, \"gene_reaction_rule\": \"\", \"genes\": [], \"segments\": {\"37\": {\"from_node_id\": \"42\", \"to_node_id\": \"43\", \"b1\": null, \"b2\": null}, \"38\": {\"from_node_id\": \"44\", \"to_node_id\": \"43\", \"b1\": null, \"b2\": null}, \"39\": {\"from_node_id\": \"35\", \"to_node_id\": \"42\", \"b1\": null, \"b2\": null}, \"40\": {\"from_node_id\": \"40\", \"to_node_id\": \"44\", \"b1\": null, \"b2\": null}, \"41\": {\"from_node_id\": \"41\", \"to_node_id\": \"44\", \"b1\": null, \"b2\": null}}, \"metabolites\": [{\"bigg_id\": \"3_ENOLPYRUVYL_SHIKIMATE_5P_c\", \"coefficient\": -1.0}, {\"bigg_id\": \"CHORISMATE_c\", \"coefficient\": 1.0}, {\"bigg_id\": \"pi_c\", \"coefficient\": 1.0}]}}, \"nodes\": {\"0\": {\"node_type\": \"metabolite\", \"x\": 30.0, \"y\": 112.5, \"label_x\": 0.0, \"label_y\": 92.5, \"bigg_id\": \"e4p_c\", \"name\": \"e4p_c\", \"node_is_primary\": false}, \"1\": {\"node_type\": \"metabolite\", \"x\": 30.0, \"y\": 225.0, \"label_x\": 0.0, \"label_y\": 205.0, \"bigg_id\": \"h2o_c\", \"name\": \"h2o_c\", \"node_is_primary\": false}, \"2\": {\"node_type\": \"metabolite\", \"x\": 30.0, \"y\": 337.5, \"label_x\": 0.0, \"label_y\": 317.5, \"bigg_id\": \"pep_c\", \"name\": \"pep_c\", \"node_is_primary\": false}, \"3\": {\"node_type\": \"metabolite\", \"x\": 550.0, \"y\": 150.0, \"label_x\": 520.0, \"label_y\": 130.0, \"bigg_id\": \"3_DEOXY_D_ARABINO_HEPTULOSONATE_7_P_c\", \"name\": \"3_DEOXY_D_ARABINO_HEPTULOSONATE_7_P_c\", \"node_is_primary\": false}, \"4\": {\"node_type\": \"metabolite\", \"x\": 550.0, \"y\": 300.0, \"label_x\": 520.0, \"label_y\": 280.0, \"bigg_id\": \"pi_c\", \"name\": \"pi_c\", \"node_is_primary\": false}, \"5\": {\"node_type\": \"multimarker\", \"x\": 335.0, \"y\": 225.0}, \"6\": {\"node_type\": \"midmarker\", \"x\": 355.0, \"y\": 225.0}, \"7\": {\"node_type\": \"multimarker\", \"x\": 375.0, \"y\": 225.0}, \"8\": {\"node_type\": \"metabolite\", \"x\": 1200.0, \"y\": 150.0, \"label_x\": 1170.0, \"label_y\": 130.0, \"bigg_id\": \"DEHYDROQUINATE_c\", \"name\": \"DEHYDROQUINATE_c\", \"node_is_primary\": false}, \"9\": {\"node_type\": \"metabolite\", \"x\": 1200.0, \"y\": 300.0, \"label_x\": 1170.0, \"label_y\": 280.0, \"bigg_id\": \"pi_c\", \"name\": \"pi_c\", \"node_is_primary\": false}, \"10\": {\"node_type\": \"multimarker\", \"x\": 985.0, \"y\": 225.0}, \"11\": {\"node_type\": \"midmarker\", \"x\": 1005.0, \"y\": 225.0}, \"12\": {\"node_type\": \"multimarker\", \"x\": 1025.0, \"y\": 225.0}, \"13\": {\"node_type\": \"metabolite\", \"x\": 1850.0, \"y\": 150.0, \"label_x\": 1820.0, \"label_y\": 130.0, \"bigg_id\": \"3_DEHYDRO_SHIKIMATE_c\", \"name\": \"3_DEHYDRO_SHIKIMATE_c\", \"node_is_primary\": false}, \"14\": {\"node_type\": \"metabolite\", \"x\": 1850.0, \"y\": 300.0, \"label_x\": 1820.0, \"label_y\": 280.0, \"bigg_id\": \"h2o_c\", \"name\": \"h2o_c\", \"node_is_primary\": false}, \"15\": {\"node_type\": \"multimarker\", \"x\": 1635.0, \"y\": 225.0}, \"16\": {\"node_type\": \"midmarker\", \"x\": 1655.0, \"y\": 225.0}, \"17\": {\"node_type\": \"multimarker\", \"x\": 1675.0, \"y\": 225.0}, \"18\": {\"node_type\": \"metabolite\", \"x\": 1980.0, \"y\": 150.0, \"label_x\": 1950.0, \"label_y\": 130.0, \"bigg_id\": \"SHIKIMATE_c\", \"name\": \"SHIKIMATE_c\", \"node_is_primary\": false}, \"19\": {\"node_type\": \"metabolite\", \"x\": 1980.0, \"y\": 300.0, \"label_x\": 1950.0, \"label_y\": 280.0, \"bigg_id\": \"nadp_c\", \"name\": \"nadp_c\", \"node_is_primary\": false}, \"20\": {\"node_type\": \"metabolite\", \"x\": 2500.0, \"y\": 112.5, \"label_x\": 2470.0, \"label_y\": 92.5, \"bigg_id\": \"3_DEHYDRO_SHIKIMATE_c\", \"name\": \"3_DEHYDRO_SHIKIMATE_c\", \"node_is_primary\": false}, \"21\": {\"node_type\": \"metabolite\", \"x\": 2500.0, \"y\": 225.0, \"label_x\": 2470.0, \"label_y\": 205.0, \"bigg_id\": \"h_c\", \"name\": \"h_c\", \"node_is_primary\": false}, \"22\": {\"node_type\": \"metabolite\", \"x\": 2500.0, \"y\": 337.5, \"label_x\": 2470.0, \"label_y\": 317.5, \"bigg_id\": \"nadph_c\", \"name\": \"nadph_c\", \"node_is_primary\": false}, \"23\": {\"node_type\": \"multimarker\", \"x\": 2285.0, \"y\": 225.0}, \"24\": {\"node_type\": \"midmarker\", \"x\": 2305.0, \"y\": 225.0}, \"25\": {\"node_type\": \"multimarker\", \"x\": 2325.0, \"y\": 225.0}, \"26\": {\"node_type\": \"metabolite\", \"x\": 2630.0, \"y\": 150.0, \"label_x\": 2600.0, \"label_y\": 130.0, \"bigg_id\": \"SHIKIMATE_c\", \"name\": \"SHIKIMATE_c\", \"node_is_primary\": false}, \"27\": {\"node_type\": \"metabolite\", \"x\": 2630.0, \"y\": 300.0, \"label_x\": 2600.0, \"label_y\": 280.0, \"bigg_id\": \"atp_c\", \"name\": \"atp_c\", \"node_is_primary\": false}, \"28\": {\"node_type\": \"metabolite\", \"x\": 3150.0, \"y\": 112.5, \"label_x\": 3120.0, \"label_y\": 92.5, \"bigg_id\": \"SHIKIMATE_5P_c\", \"name\": \"SHIKIMATE_5P_c\", \"node_is_primary\": false}, \"29\": {\"node_type\": \"metabolite\", \"x\": 3150.0, \"y\": 225.0, \"label_x\": 3120.0, \"label_y\": 205.0, \"bigg_id\": \"adp_c\", \"name\": \"adp_c\", \"node_is_primary\": false}, \"30\": {\"node_type\": \"metabolite\", \"x\": 3150.0, \"y\": 337.5, \"label_x\": 3120.0, \"label_y\": 317.5, \"bigg_id\": \"h_c\", \"name\": \"h_c\", \"node_is_primary\": false}, \"31\": {\"node_type\": \"multimarker\", \"x\": 2935.0, \"y\": 225.0}, \"32\": {\"node_type\": \"midmarker\", \"x\": 2955.0, \"y\": 225.0}, \"33\": {\"node_type\": \"multimarker\", \"x\": 2975.0, \"y\": 225.0}, \"34\": {\"node_type\": \"metabolite\", \"x\": 3280.0, \"y\": 300.0, \"label_x\": 3250.0, \"label_y\": 280.0, \"bigg_id\": \"pep_c\", \"name\": \"pep_c\", \"node_is_primary\": false}, \"35\": {\"node_type\": \"metabolite\", \"x\": 3800.0, \"y\": 150.0, \"label_x\": 3770.0, \"label_y\": 130.0, \"bigg_id\": \"3_ENOLPYRUVYL_SHIKIMATE_5P_c\", \"name\": \"3_ENOLPYRUVYL_SHIKIMATE_5P_c\", \"node_is_primary\": false}, \"36\": {\"node_type\": \"metabolite\", \"x\": 3800.0, \"y\": 300.0, \"label_x\": 3770.0, \"label_y\": 280.0, \"bigg_id\": \"pi_c\", \"name\": \"pi_c\", \"node_is_primary\": false}, \"37\": {\"node_type\": \"multimarker\", \"x\": 3585.0, \"y\": 225.0}, \"38\": {\"node_type\": \"midmarker\", \"x\": 3605.0, \"y\": 225.0}, \"39\": {\"node_type\": \"multimarker\", \"x\": 3625.0, \"y\": 225.0}, \"40\": {\"node_type\": \"metabolite\", \"x\": 4450.0, \"y\": 150.0, \"label_x\": 4420.0, \"label_y\": 130.0, \"bigg_id\": \"CHORISMATE_c\", \"name\": \"CHORISMATE_c\", \"node_is_primary\": false}, \"41\": {\"node_type\": \"metabolite\", \"x\": 4450.0, \"y\": 300.0, \"label_x\": 4420.0, \"label_y\": 280.0, \"bigg_id\": \"pi_c\", \"name\": \"pi_c\", \"node_is_primary\": false}, \"42\": {\"node_type\": \"multimarker\", \"x\": 4235.0, \"y\": 225.0}, \"43\": {\"node_type\": \"midmarker\", \"x\": 4255.0, \"y\": 225.0}, \"44\": {\"node_type\": \"multimarker\", \"x\": 4275.0, \"y\": 225.0}}, \"text_labels\": {}, \"canvas\": {\"x\": 0, \"y\": 0, \"width\": 4550, \"height\": 450}}]",
       "_loaded_model_json": null,
       "allow_building_duplicate_reactions": false,
       "and_method_in_gene_reaction_rule": "mean",
       "canvas_size_and_loc": null,
       "cofactors": [
        "atp",
        "adp",
        "nad",
        "nadh",
        "nadp",
        "nadph",
        "gtp",
        "gdp",
        "h",
        "coa",
        "ump",
        "h2o",
        "ppi"
       ],
       "disabled_buttons": [
        "Clear reaction data",
        "Clear gene data",
        "Clear metabolite data"
       ],
       "embedded_css": null,
       "enable_editing": true,
       "enable_keys": false,
       "enable_keys_with_tooltip": true,
       "enable_search": true,
       "enable_tooltips": false,
       "full_screen_button": {
        "enable_editing": true,
        "enable_keys": true,
        "enable_tooltips": [
         "label"
        ],
        "menu": "all",
        "scroll_behavior": "pan"
       },
       "gene_data": null,
       "gene_font_size": 18,
       "height": 500,
       "hide_all_labels": false,
       "hide_secondary_metabolites": false,
       "highlight_missing": false,
       "identifiers_on_map": "bigg_id",
       "layout": "IPY_MODEL_00d32f563c8845a680c5e184c0fd87be",
       "marker_radius": 5,
       "menu": "all",
       "metabolite_compare_style": "log2_fold",
       "metabolite_data": null,
       "metabolite_no_data_color": "#ffffff",
       "metabolite_no_data_size": 10,
       "metabolite_scale": [
        {
         "color": "#fffaf0",
         "size": 20,
         "type": "min"
        },
        {
         "color": "#f1c470",
         "size": 30,
         "type": "median"
        },
        {
         "color": "#800000",
         "size": 40,
         "type": "max"
        }
       ],
       "metabolite_scale_preset": "WhYlRd",
       "metabolite_styles": [
        "color",
        "size",
        "text"
       ],
       "never_ask_before_quit": false,
       "primary_metabolite_radius": 20,
       "reaction_compare_style": "log2_fold",
       "reaction_data": null,
       "reaction_no_data_color": "#dcdcdc",
       "reaction_no_data_size": 8,
       "reaction_scale": {},
       "reaction_scale_preset": null,
       "reaction_styles": [
        "color",
        "text"
       ],
       "scroll_behavior": "none",
       "secondary_metabolite_radius": 10,
       "semantic_zoom": null,
       "show_gene_reaction_rules": false,
       "starting_reaction": null,
       "use_3d_transform": false,
       "zoom_to_element": null
      }
     },
     "aedbb5f93cb247e19841ddf8987c43ed": {
      "model_module": "escher",
      "model_module_version": "1.7.3",
      "model_name": "EscherMapModel",
      "state": {
       "_loaded_map_json": "[{\"map_name\": \"\", \"map_id\": \"\", \"map_description\": \"\", \"homepage\": \"\", \"schema\": \"https://escher.github.io/escher/jsonschema/1-0-0#\"}, {\"reactions\": {\"0\": {\"name\": \"DAHPSYN_RXN_c\", \"bigg_id\": \"DAHPSYN_RXN_c\", \"reversibility\": true, \"label_x\": 208.0, \"label_y\": 45.0, \"gene_reaction_rule\": \"\", \"genes\": [], \"segments\": {\"0\": {\"from_node_id\": \"5\", \"to_node_id\": \"6\", \"b1\": null, \"b2\": null}, \"1\": {\"from_node_id\": \"7\", \"to_node_id\": \"6\", \"b1\": null, \"b2\": null}, \"2\": {\"from_node_id\": \"0\", \"to_node_id\": \"5\", \"b1\": null, \"b2\": null}, \"3\": {\"from_node_id\": \"1\", \"to_node_id\": \"5\", \"b1\": null, \"b2\": null}, \"4\": {\"from_node_id\": \"2\", \"to_node_id\": \"5\", \"b1\": null, \"b2\": null}, \"5\": {\"from_node_id\": \"3\", \"to_node_id\": \"7\", \"b1\": null, \"b2\": null}, \"6\": {\"from_node_id\": \"4\", \"to_node_id\": \"7\", \"b1\": null, \"b2\": null}}, \"metabolites\": [{\"bigg_id\": \"e4p_c\", \"coefficient\": -1.0}, {\"bigg_id\": \"h2o_c\", \"coefficient\": -1.0}, {\"bigg_id\": \"pep_c\", \"coefficient\": -1.0}, {\"bigg_id\": \"3_DEOXY_D_ARABINO_HEPTULOSONATE_7_P_c\", \"coefficient\": 1.0}, {\"bigg_id\": \"pi_c\", \"coefficient\": 1.0}]}, \"1\": {\"name\": \"3_DEHYDROQUINATE_SYNTHASE_RXN_c\", \"bigg_id\": \"3_DEHYDROQUINATE_SYNTHASE_RXN_c\", \"reversibility\": true, \"label_x\": 696.0, \"label_y\": 45.0, \"gene_reaction_rule\": \"\", \"genes\": [], \"segments\": {\"7\": {\"from_node_id\": \"10\", \"to_node_id\": \"11\", \"b1\": null, \"b2\": null}, \"8\": {\"from_node_id\": \"12\", \"to_node_id\": \"11\", \"b1\": null, \"b2\": null}, \"9\": {\"from_node_id\": \"3\", \"to_node_id\": \"10\", \"b1\": null, \"b2\": null}, \"10\": {\"from_node_id\": \"8\", \"to_node_id\": \"12\", \"b1\": null, \"b2\": null}, \"11\": {\"from_node_id\": \"9\", \"to_node_id\": \"12\", \"b1\": null, \"b2\": null}}, \"metabolites\": [{\"bigg_id\": \"3_DEOXY_D_ARABINO_HEPTULOSONATE_7_P_c\", \"coefficient\": -1.0}, {\"bigg_id\": \"DEHYDROQUINATE_c\", \"coefficient\": 1.0}, {\"bigg_id\": \"pi_c\", \"coefficient\": 1.0}]}, \"2\": {\"name\": \"3_DEHYDROQUINATE_DEHYDRATASE_RXN_c\", \"bigg_id\": \"3_DEHYDROQUINATE_DEHYDRATASE_RXN_c\", \"reversibility\": true, \"label_x\": 1319.0, \"label_y\": 45.0, \"gene_reaction_rule\": \"\", \"genes\": [], \"segments\": {\"12\": {\"from_node_id\": \"15\", \"to_node_id\": \"16\", \"b1\": null, \"b2\": null}, \"13\": {\"from_node_id\": \"17\", \"to_node_id\": \"16\", \"b1\": null, \"b2\": null}, \"14\": {\"from_node_id\": \"8\", \"to_node_id\": \"15\", \"b1\": null, \"b2\": null}, \"15\": {\"from_node_id\": \"13\", \"to_node_id\": \"17\", \"b1\": null, \"b2\": null}, \"16\": {\"from_node_id\": \"14\", \"to_node_id\": \"17\", \"b1\": null, \"b2\": null}}, \"metabolites\": [{\"bigg_id\": \"DEHYDROQUINATE_c\", \"coefficient\": -1.0}, {\"bigg_id\": \"3_DEHYDRO_SHIKIMATE_c\", \"coefficient\": 1.0}, {\"bigg_id\": \"h2o_c\", \"coefficient\": 1.0}]}, \"3\": {\"name\": \"SHIKIMATE_5_DEHYDROGENASE_RXN_c\", \"bigg_id\": \"SHIKIMATE_5_DEHYDROGENASE_RXN_c\", \"reversibility\": true, \"label_x\": 1996.0, \"label_y\": 45.0, \"gene_reaction_rule\": \"\", \"genes\": [], \"segments\": {\"17\": {\"from_node_id\": \"23\", \"to_node_id\": \"24\", \"b1\": null, \"b2\": null}, \"18\": {\"from_node_id\": \"25\", \"to_node_id\": \"24\", \"b1\": null, \"b2\": null}, \"19\": {\"from_node_id\": \"18\", \"to_node_id\": \"23\", \"b1\": null, \"b2\": null}, \"20\": {\"from_node_id\": \"19\", \"to_node_id\": \"23\", \"b1\": null, \"b2\": null}, \"21\": {\"from_node_id\": \"20\", \"to_node_id\": \"25\", \"b1\": null, \"b2\": null}, \"22\": {\"from_node_id\": \"21\", \"to_node_id\": \"25\", \"b1\": null, \"b2\": null}, \"23\": {\"from_node_id\": \"22\", \"to_node_id\": \"25\", \"b1\": null, \"b2\": null}}, \"metabolites\": [{\"bigg_id\": \"SHIKIMATE_c\", \"coefficient\": -1.0}, {\"bigg_id\": \"nadp_c\", \"coefficient\": -1.0}, {\"bigg_id\": \"3_DEHYDRO_SHIKIMATE_c\", \"coefficient\": 1.0}, {\"bigg_id\": \"h_c\", \"coefficient\": 1.0}, {\"bigg_id\": \"nadph_c\", \"coefficient\": 1.0}]}, \"4\": {\"name\": \"SHIKIMATE_KINASE_RXN_c\", \"bigg_id\": \"SHIKIMATE_KINASE_RXN_c\", \"reversibility\": true, \"label_x\": 2727.0, \"label_y\": 45.0, \"gene_reaction_rule\": \"\", \"genes\": [], \"segments\": {\"24\": {\"from_node_id\": \"31\", \"to_node_id\": \"32\", \"b1\": null, \"b2\": null}, \"25\": {\"from_node_id\": \"33\", \"to_node_id\": \"32\", \"b1\": null, \"b2\": null}, \"26\": {\"from_node_id\": \"26\", \"to_node_id\": \"31\", \"b1\": null, \"b2\": null}, \"27\": {\"from_node_id\": \"27\", \"to_node_id\": \"31\", \"b1\": null, \"b2\": null}, \"28\": {\"from_node_id\": \"28\", \"to_node_id\": \"33\", \"b1\": null, \"b2\": null}, \"29\": {\"from_node_id\": \"29\", \"to_node_id\": \"33\", \"b1\": null, \"b2\": null}, \"30\": {\"from_node_id\": \"30\", \"to_node_id\": \"33\", \"b1\": null, \"b2\": null}}, \"metabolites\": [{\"bigg_id\": \"SHIKIMATE_c\", \"coefficient\": -1.0}, {\"bigg_id\": \"atp_c\", \"coefficient\": -1.0}, {\"bigg_id\": \"SHIKIMATE_5P_c\", \"coefficient\": 1.0}, {\"bigg_id\": \"adp_c\", \"coefficient\": 1.0}, {\"bigg_id\": \"h_c\", \"coefficient\": 1.0}]}, \"5\": {\"name\": \"2.5.1.19_RXN_c\", \"bigg_id\": \"2.5.1.19_RXN_c\", \"reversibility\": true, \"label_x\": 3449.0, \"label_y\": 45.0, \"gene_reaction_rule\": \"\", \"genes\": [], \"segments\": {\"31\": {\"from_node_id\": \"37\", \"to_node_id\": \"38\", \"b1\": null, \"b2\": null}, \"32\": {\"from_node_id\": \"39\", \"to_node_id\": \"38\", \"b1\": null, \"b2\": null}, \"33\": {\"from_node_id\": \"28\", \"to_node_id\": \"37\", \"b1\": null, \"b2\": null}, \"34\": {\"from_node_id\": \"34\", \"to_node_id\": \"37\", \"b1\": null, \"b2\": null}, \"35\": {\"from_node_id\": \"35\", \"to_node_id\": \"39\", \"b1\": null, \"b2\": null}, \"36\": {\"from_node_id\": \"36\", \"to_node_id\": \"39\", \"b1\": null, \"b2\": null}}, \"metabolites\": [{\"bigg_id\": \"SHIKIMATE_5P_c\", \"coefficient\": -1.0}, {\"bigg_id\": \"pep_c\", \"coefficient\": -1.0}, {\"bigg_id\": \"3_ENOLPYRUVYL_SHIKIMATE_5P_c\", \"coefficient\": 1.0}, {\"bigg_id\": \"pi_c\", \"coefficient\": 1.0}]}, \"6\": {\"name\": \"CHORISMATE_SYNTHASE_RXN_c\", \"bigg_id\": \"CHORISMATE_SYNTHASE_RXN_c\", \"reversibility\": true, \"label_x\": 4000.0, \"label_y\": 45.0, \"gene_reaction_rule\": \"\", \"genes\": [], \"segments\": {\"37\": {\"from_node_id\": \"42\", \"to_node_id\": \"43\", \"b1\": null, \"b2\": null}, \"38\": {\"from_node_id\": \"44\", \"to_node_id\": \"43\", \"b1\": null, \"b2\": null}, \"39\": {\"from_node_id\": \"35\", \"to_node_id\": \"42\", \"b1\": null, \"b2\": null}, \"40\": {\"from_node_id\": \"40\", \"to_node_id\": \"44\", \"b1\": null, \"b2\": null}, \"41\": {\"from_node_id\": \"41\", \"to_node_id\": \"44\", \"b1\": null, \"b2\": null}}, \"metabolites\": [{\"bigg_id\": \"3_ENOLPYRUVYL_SHIKIMATE_5P_c\", \"coefficient\": -1.0}, {\"bigg_id\": \"CHORISMATE_c\", \"coefficient\": 1.0}, {\"bigg_id\": \"pi_c\", \"coefficient\": 1.0}]}}, \"nodes\": {\"0\": {\"node_type\": \"metabolite\", \"x\": 30.0, \"y\": 112.5, \"label_x\": 0.0, \"label_y\": 92.5, \"bigg_id\": \"e4p_c\", \"name\": \"e4p_c\", \"node_is_primary\": false}, \"1\": {\"node_type\": \"metabolite\", \"x\": 30.0, \"y\": 225.0, \"label_x\": 0.0, \"label_y\": 205.0, \"bigg_id\": \"h2o_c\", \"name\": \"h2o_c\", \"node_is_primary\": false}, \"2\": {\"node_type\": \"metabolite\", \"x\": 30.0, \"y\": 337.5, \"label_x\": 0.0, \"label_y\": 317.5, \"bigg_id\": \"pep_c\", \"name\": \"pep_c\", \"node_is_primary\": false}, \"3\": {\"node_type\": \"metabolite\", \"x\": 550.0, \"y\": 150.0, \"label_x\": 520.0, \"label_y\": 130.0, \"bigg_id\": \"3_DEOXY_D_ARABINO_HEPTULOSONATE_7_P_c\", \"name\": \"3_DEOXY_D_ARABINO_HEPTULOSONATE_7_P_c\", \"node_is_primary\": false}, \"4\": {\"node_type\": \"metabolite\", \"x\": 550.0, \"y\": 300.0, \"label_x\": 520.0, \"label_y\": 280.0, \"bigg_id\": \"pi_c\", \"name\": \"pi_c\", \"node_is_primary\": false}, \"5\": {\"node_type\": \"multimarker\", \"x\": 335.0, \"y\": 225.0}, \"6\": {\"node_type\": \"midmarker\", \"x\": 355.0, \"y\": 225.0}, \"7\": {\"node_type\": \"multimarker\", \"x\": 375.0, \"y\": 225.0}, \"8\": {\"node_type\": \"metabolite\", \"x\": 1200.0, \"y\": 150.0, \"label_x\": 1170.0, \"label_y\": 130.0, \"bigg_id\": \"DEHYDROQUINATE_c\", \"name\": \"DEHYDROQUINATE_c\", \"node_is_primary\": false}, \"9\": {\"node_type\": \"metabolite\", \"x\": 1200.0, \"y\": 300.0, \"label_x\": 1170.0, \"label_y\": 280.0, \"bigg_id\": \"pi_c\", \"name\": \"pi_c\", \"node_is_primary\": false}, \"10\": {\"node_type\": \"multimarker\", \"x\": 985.0, \"y\": 225.0}, \"11\": {\"node_type\": \"midmarker\", \"x\": 1005.0, \"y\": 225.0}, \"12\": {\"node_type\": \"multimarker\", \"x\": 1025.0, \"y\": 225.0}, \"13\": {\"node_type\": \"metabolite\", \"x\": 1850.0, \"y\": 150.0, \"label_x\": 1820.0, \"label_y\": 130.0, \"bigg_id\": \"3_DEHYDRO_SHIKIMATE_c\", \"name\": \"3_DEHYDRO_SHIKIMATE_c\", \"node_is_primary\": false}, \"14\": {\"node_type\": \"metabolite\", \"x\": 1850.0, \"y\": 300.0, \"label_x\": 1820.0, \"label_y\": 280.0, \"bigg_id\": \"h2o_c\", \"name\": \"h2o_c\", \"node_is_primary\": false}, \"15\": {\"node_type\": \"multimarker\", \"x\": 1635.0, \"y\": 225.0}, \"16\": {\"node_type\": \"midmarker\", \"x\": 1655.0, \"y\": 225.0}, \"17\": {\"node_type\": \"multimarker\", \"x\": 1675.0, \"y\": 225.0}, \"18\": {\"node_type\": \"metabolite\", \"x\": 1980.0, \"y\": 150.0, \"label_x\": 1950.0, \"label_y\": 130.0, \"bigg_id\": \"SHIKIMATE_c\", \"name\": \"SHIKIMATE_c\", \"node_is_primary\": false}, \"19\": {\"node_type\": \"metabolite\", \"x\": 1980.0, \"y\": 300.0, \"label_x\": 1950.0, \"label_y\": 280.0, \"bigg_id\": \"nadp_c\", \"name\": \"nadp_c\", \"node_is_primary\": false}, \"20\": {\"node_type\": \"metabolite\", \"x\": 2500.0, \"y\": 112.5, \"label_x\": 2470.0, \"label_y\": 92.5, \"bigg_id\": \"3_DEHYDRO_SHIKIMATE_c\", \"name\": \"3_DEHYDRO_SHIKIMATE_c\", \"node_is_primary\": false}, \"21\": {\"node_type\": \"metabolite\", \"x\": 2500.0, \"y\": 225.0, \"label_x\": 2470.0, \"label_y\": 205.0, \"bigg_id\": \"h_c\", \"name\": \"h_c\", \"node_is_primary\": false}, \"22\": {\"node_type\": \"metabolite\", \"x\": 2500.0, \"y\": 337.5, \"label_x\": 2470.0, \"label_y\": 317.5, \"bigg_id\": \"nadph_c\", \"name\": \"nadph_c\", \"node_is_primary\": false}, \"23\": {\"node_type\": \"multimarker\", \"x\": 2285.0, \"y\": 225.0}, \"24\": {\"node_type\": \"midmarker\", \"x\": 2305.0, \"y\": 225.0}, \"25\": {\"node_type\": \"multimarker\", \"x\": 2325.0, \"y\": 225.0}, \"26\": {\"node_type\": \"metabolite\", \"x\": 2630.0, \"y\": 150.0, \"label_x\": 2600.0, \"label_y\": 130.0, \"bigg_id\": \"SHIKIMATE_c\", \"name\": \"SHIKIMATE_c\", \"node_is_primary\": false}, \"27\": {\"node_type\": \"metabolite\", \"x\": 2630.0, \"y\": 300.0, \"label_x\": 2600.0, \"label_y\": 280.0, \"bigg_id\": \"atp_c\", \"name\": \"atp_c\", \"node_is_primary\": false}, \"28\": {\"node_type\": \"metabolite\", \"x\": 3150.0, \"y\": 112.5, \"label_x\": 3120.0, \"label_y\": 92.5, \"bigg_id\": \"SHIKIMATE_5P_c\", \"name\": \"SHIKIMATE_5P_c\", \"node_is_primary\": false}, \"29\": {\"node_type\": \"metabolite\", \"x\": 3150.0, \"y\": 225.0, \"label_x\": 3120.0, \"label_y\": 205.0, \"bigg_id\": \"adp_c\", \"name\": \"adp_c\", \"node_is_primary\": false}, \"30\": {\"node_type\": \"metabolite\", \"x\": 3150.0, \"y\": 337.5, \"label_x\": 3120.0, \"label_y\": 317.5, \"bigg_id\": \"h_c\", \"name\": \"h_c\", \"node_is_primary\": false}, \"31\": {\"node_type\": \"multimarker\", \"x\": 2935.0, \"y\": 225.0}, \"32\": {\"node_type\": \"midmarker\", \"x\": 2955.0, \"y\": 225.0}, \"33\": {\"node_type\": \"multimarker\", \"x\": 2975.0, \"y\": 225.0}, \"34\": {\"node_type\": \"metabolite\", \"x\": 3280.0, \"y\": 300.0, \"label_x\": 3250.0, \"label_y\": 280.0, \"bigg_id\": \"pep_c\", \"name\": \"pep_c\", \"node_is_primary\": false}, \"35\": {\"node_type\": \"metabolite\", \"x\": 3800.0, \"y\": 150.0, \"label_x\": 3770.0, \"label_y\": 130.0, \"bigg_id\": \"3_ENOLPYRUVYL_SHIKIMATE_5P_c\", \"name\": \"3_ENOLPYRUVYL_SHIKIMATE_5P_c\", \"node_is_primary\": false}, \"36\": {\"node_type\": \"metabolite\", \"x\": 3800.0, \"y\": 300.0, \"label_x\": 3770.0, \"label_y\": 280.0, \"bigg_id\": \"pi_c\", \"name\": \"pi_c\", \"node_is_primary\": false}, \"37\": {\"node_type\": \"multimarker\", \"x\": 3585.0, \"y\": 225.0}, \"38\": {\"node_type\": \"midmarker\", \"x\": 3605.0, \"y\": 225.0}, \"39\": {\"node_type\": \"multimarker\", \"x\": 3625.0, \"y\": 225.0}, \"40\": {\"node_type\": \"metabolite\", \"x\": 4450.0, \"y\": 150.0, \"label_x\": 4420.0, \"label_y\": 130.0, \"bigg_id\": \"CHORISMATE_c\", \"name\": \"CHORISMATE_c\", \"node_is_primary\": false}, \"41\": {\"node_type\": \"metabolite\", \"x\": 4450.0, \"y\": 300.0, \"label_x\": 4420.0, \"label_y\": 280.0, \"bigg_id\": \"pi_c\", \"name\": \"pi_c\", \"node_is_primary\": false}, \"42\": {\"node_type\": \"multimarker\", \"x\": 4235.0, \"y\": 225.0}, \"43\": {\"node_type\": \"midmarker\", \"x\": 4255.0, \"y\": 225.0}, \"44\": {\"node_type\": \"multimarker\", \"x\": 4275.0, \"y\": 225.0}}, \"text_labels\": {}, \"canvas\": {\"x\": 0, \"y\": 0, \"width\": 4550, \"height\": 450}}]",
       "_loaded_model_json": null,
       "allow_building_duplicate_reactions": false,
       "and_method_in_gene_reaction_rule": "mean",
       "canvas_size_and_loc": null,
       "cofactors": [
        "atp",
        "adp",
        "nad",
        "nadh",
        "nadp",
        "nadph",
        "gtp",
        "gdp",
        "h",
        "coa",
        "ump",
        "h2o",
        "ppi"
       ],
       "disabled_buttons": [
        "Clear reaction data",
        "Clear gene data",
        "Clear metabolite data"
       ],
       "embedded_css": null,
       "enable_editing": true,
       "enable_keys": false,
       "enable_keys_with_tooltip": true,
       "enable_search": true,
       "enable_tooltips": false,
       "full_screen_button": {
        "enable_editing": true,
        "enable_keys": true,
        "enable_tooltips": [
         "label"
        ],
        "menu": "all",
        "scroll_behavior": "pan"
       },
       "gene_data": null,
       "gene_font_size": 18,
       "height": 500,
       "hide_all_labels": false,
       "hide_secondary_metabolites": false,
       "highlight_missing": false,
       "identifiers_on_map": "bigg_id",
       "layout": "IPY_MODEL_c664f099dea040bda5cf7a23aee1253a",
       "marker_radius": 5,
       "menu": "all",
       "metabolite_compare_style": "log2_fold",
       "metabolite_data": null,
       "metabolite_no_data_color": "#ffffff",
       "metabolite_no_data_size": 10,
       "metabolite_scale": [
        {
         "color": "#fffaf0",
         "size": 20,
         "type": "min"
        },
        {
         "color": "#f1c470",
         "size": 30,
         "type": "median"
        },
        {
         "color": "#800000",
         "size": 40,
         "type": "max"
        }
       ],
       "metabolite_scale_preset": "WhYlRd",
       "metabolite_styles": [
        "color",
        "size",
        "text"
       ],
       "never_ask_before_quit": false,
       "primary_metabolite_radius": 20,
       "reaction_compare_style": "log2_fold",
       "reaction_data": null,
       "reaction_no_data_color": "#dcdcdc",
       "reaction_no_data_size": 8,
       "reaction_scale": [
        {
         "color": "rgb(220,220,220)",
         "type": "value",
         "value": 0
        }
       ],
       "reaction_scale_preset": null,
       "reaction_styles": [
        "color",
        "text"
       ],
       "scroll_behavior": "none",
       "secondary_metabolite_radius": 10,
       "semantic_zoom": null,
       "show_gene_reaction_rules": false,
       "starting_reaction": null,
       "use_3d_transform": false,
       "zoom_to_element": null
      }
     },
     "b1c40cf76dc24c5ca1f5c1a752863133": {
      "model_module": "escher",
      "model_module_version": "1.7.3",
      "model_name": "EscherMapModel",
      "state": {
       "_loaded_map_json": "[{\"map_name\": \"\", \"map_id\": \"\", \"map_description\": \"\", \"homepage\": \"\", \"schema\": \"https://escher.github.io/escher/jsonschema/1-0-0#\"}, {\"reactions\": {\"0\": {\"name\": \"DAHPSYN_RXN_c\", \"bigg_id\": \"DAHPSYN_RXN_c\", \"reversibility\": true, \"label_x\": 208.0, \"label_y\": 45.0, \"gene_reaction_rule\": \"\", \"genes\": [], \"segments\": {\"0\": {\"from_node_id\": \"5\", \"to_node_id\": \"6\", \"b1\": null, \"b2\": null}, \"1\": {\"from_node_id\": \"7\", \"to_node_id\": \"6\", \"b1\": null, \"b2\": null}, \"2\": {\"from_node_id\": \"0\", \"to_node_id\": \"5\", \"b1\": null, \"b2\": null}, \"3\": {\"from_node_id\": \"1\", \"to_node_id\": \"5\", \"b1\": null, \"b2\": null}, \"4\": {\"from_node_id\": \"2\", \"to_node_id\": \"5\", \"b1\": null, \"b2\": null}, \"5\": {\"from_node_id\": \"3\", \"to_node_id\": \"7\", \"b1\": null, \"b2\": null}, \"6\": {\"from_node_id\": \"4\", \"to_node_id\": \"7\", \"b1\": null, \"b2\": null}}, \"metabolites\": [{\"bigg_id\": \"e4p_c\", \"coefficient\": -1.0}, {\"bigg_id\": \"h2o_c\", \"coefficient\": -1.0}, {\"bigg_id\": \"pep_c\", \"coefficient\": -1.0}, {\"bigg_id\": \"3_DEOXY_D_ARABINO_HEPTULOSONATE_7_P_c\", \"coefficient\": 1.0}, {\"bigg_id\": \"pi_c\", \"coefficient\": 1.0}]}, \"1\": {\"name\": \"3_DEHYDROQUINATE_SYNTHASE_RXN_c\", \"bigg_id\": \"3_DEHYDROQUINATE_SYNTHASE_RXN_c\", \"reversibility\": true, \"label_x\": 696.0, \"label_y\": 45.0, \"gene_reaction_rule\": \"\", \"genes\": [], \"segments\": {\"7\": {\"from_node_id\": \"10\", \"to_node_id\": \"11\", \"b1\": null, \"b2\": null}, \"8\": {\"from_node_id\": \"12\", \"to_node_id\": \"11\", \"b1\": null, \"b2\": null}, \"9\": {\"from_node_id\": \"3\", \"to_node_id\": \"10\", \"b1\": null, \"b2\": null}, \"10\": {\"from_node_id\": \"8\", \"to_node_id\": \"12\", \"b1\": null, \"b2\": null}, \"11\": {\"from_node_id\": \"9\", \"to_node_id\": \"12\", \"b1\": null, \"b2\": null}}, \"metabolites\": [{\"bigg_id\": \"3_DEOXY_D_ARABINO_HEPTULOSONATE_7_P_c\", \"coefficient\": -1.0}, {\"bigg_id\": \"DEHYDROQUINATE_c\", \"coefficient\": 1.0}, {\"bigg_id\": \"pi_c\", \"coefficient\": 1.0}]}, \"2\": {\"name\": \"3_DEHYDROQUINATE_DEHYDRATASE_RXN_c\", \"bigg_id\": \"3_DEHYDROQUINATE_DEHYDRATASE_RXN_c\", \"reversibility\": true, \"label_x\": 1319.0, \"label_y\": 45.0, \"gene_reaction_rule\": \"\", \"genes\": [], \"segments\": {\"12\": {\"from_node_id\": \"15\", \"to_node_id\": \"16\", \"b1\": null, \"b2\": null}, \"13\": {\"from_node_id\": \"17\", \"to_node_id\": \"16\", \"b1\": null, \"b2\": null}, \"14\": {\"from_node_id\": \"8\", \"to_node_id\": \"15\", \"b1\": null, \"b2\": null}, \"15\": {\"from_node_id\": \"13\", \"to_node_id\": \"17\", \"b1\": null, \"b2\": null}, \"16\": {\"from_node_id\": \"14\", \"to_node_id\": \"17\", \"b1\": null, \"b2\": null}}, \"metabolites\": [{\"bigg_id\": \"DEHYDROQUINATE_c\", \"coefficient\": -1.0}, {\"bigg_id\": \"3_DEHYDRO_SHIKIMATE_c\", \"coefficient\": 1.0}, {\"bigg_id\": \"h2o_c\", \"coefficient\": 1.0}]}, \"3\": {\"name\": \"SHIKIMATE_5_DEHYDROGENASE_RXN_c\", \"bigg_id\": \"SHIKIMATE_5_DEHYDROGENASE_RXN_c\", \"reversibility\": true, \"label_x\": 1996.0, \"label_y\": 45.0, \"gene_reaction_rule\": \"\", \"genes\": [], \"segments\": {\"17\": {\"from_node_id\": \"23\", \"to_node_id\": \"24\", \"b1\": null, \"b2\": null}, \"18\": {\"from_node_id\": \"25\", \"to_node_id\": \"24\", \"b1\": null, \"b2\": null}, \"19\": {\"from_node_id\": \"18\", \"to_node_id\": \"23\", \"b1\": null, \"b2\": null}, \"20\": {\"from_node_id\": \"19\", \"to_node_id\": \"23\", \"b1\": null, \"b2\": null}, \"21\": {\"from_node_id\": \"20\", \"to_node_id\": \"25\", \"b1\": null, \"b2\": null}, \"22\": {\"from_node_id\": \"21\", \"to_node_id\": \"25\", \"b1\": null, \"b2\": null}, \"23\": {\"from_node_id\": \"22\", \"to_node_id\": \"25\", \"b1\": null, \"b2\": null}}, \"metabolites\": [{\"bigg_id\": \"SHIKIMATE_c\", \"coefficient\": -1.0}, {\"bigg_id\": \"nadp_c\", \"coefficient\": -1.0}, {\"bigg_id\": \"3_DEHYDRO_SHIKIMATE_c\", \"coefficient\": 1.0}, {\"bigg_id\": \"h_c\", \"coefficient\": 1.0}, {\"bigg_id\": \"nadph_c\", \"coefficient\": 1.0}]}, \"4\": {\"name\": \"SHIKIMATE_KINASE_RXN_c\", \"bigg_id\": \"SHIKIMATE_KINASE_RXN_c\", \"reversibility\": true, \"label_x\": 2727.0, \"label_y\": 45.0, \"gene_reaction_rule\": \"\", \"genes\": [], \"segments\": {\"24\": {\"from_node_id\": \"31\", \"to_node_id\": \"32\", \"b1\": null, \"b2\": null}, \"25\": {\"from_node_id\": \"33\", \"to_node_id\": \"32\", \"b1\": null, \"b2\": null}, \"26\": {\"from_node_id\": \"26\", \"to_node_id\": \"31\", \"b1\": null, \"b2\": null}, \"27\": {\"from_node_id\": \"27\", \"to_node_id\": \"31\", \"b1\": null, \"b2\": null}, \"28\": {\"from_node_id\": \"28\", \"to_node_id\": \"33\", \"b1\": null, \"b2\": null}, \"29\": {\"from_node_id\": \"29\", \"to_node_id\": \"33\", \"b1\": null, \"b2\": null}, \"30\": {\"from_node_id\": \"30\", \"to_node_id\": \"33\", \"b1\": null, \"b2\": null}}, \"metabolites\": [{\"bigg_id\": \"SHIKIMATE_c\", \"coefficient\": -1.0}, {\"bigg_id\": \"atp_c\", \"coefficient\": -1.0}, {\"bigg_id\": \"SHIKIMATE_5P_c\", \"coefficient\": 1.0}, {\"bigg_id\": \"adp_c\", \"coefficient\": 1.0}, {\"bigg_id\": \"h_c\", \"coefficient\": 1.0}]}, \"5\": {\"name\": \"2.5.1.19_RXN_c\", \"bigg_id\": \"2.5.1.19_RXN_c\", \"reversibility\": true, \"label_x\": 3449.0, \"label_y\": 45.0, \"gene_reaction_rule\": \"\", \"genes\": [], \"segments\": {\"31\": {\"from_node_id\": \"37\", \"to_node_id\": \"38\", \"b1\": null, \"b2\": null}, \"32\": {\"from_node_id\": \"39\", \"to_node_id\": \"38\", \"b1\": null, \"b2\": null}, \"33\": {\"from_node_id\": \"28\", \"to_node_id\": \"37\", \"b1\": null, \"b2\": null}, \"34\": {\"from_node_id\": \"34\", \"to_node_id\": \"37\", \"b1\": null, \"b2\": null}, \"35\": {\"from_node_id\": \"35\", \"to_node_id\": \"39\", \"b1\": null, \"b2\": null}, \"36\": {\"from_node_id\": \"36\", \"to_node_id\": \"39\", \"b1\": null, \"b2\": null}}, \"metabolites\": [{\"bigg_id\": \"SHIKIMATE_5P_c\", \"coefficient\": -1.0}, {\"bigg_id\": \"pep_c\", \"coefficient\": -1.0}, {\"bigg_id\": \"3_ENOLPYRUVYL_SHIKIMATE_5P_c\", \"coefficient\": 1.0}, {\"bigg_id\": \"pi_c\", \"coefficient\": 1.0}]}, \"6\": {\"name\": \"CHORISMATE_SYNTHASE_RXN_c\", \"bigg_id\": \"CHORISMATE_SYNTHASE_RXN_c\", \"reversibility\": true, \"label_x\": 4000.0, \"label_y\": 45.0, \"gene_reaction_rule\": \"\", \"genes\": [], \"segments\": {\"37\": {\"from_node_id\": \"42\", \"to_node_id\": \"43\", \"b1\": null, \"b2\": null}, \"38\": {\"from_node_id\": \"44\", \"to_node_id\": \"43\", \"b1\": null, \"b2\": null}, \"39\": {\"from_node_id\": \"35\", \"to_node_id\": \"42\", \"b1\": null, \"b2\": null}, \"40\": {\"from_node_id\": \"40\", \"to_node_id\": \"44\", \"b1\": null, \"b2\": null}, \"41\": {\"from_node_id\": \"41\", \"to_node_id\": \"44\", \"b1\": null, \"b2\": null}}, \"metabolites\": [{\"bigg_id\": \"3_ENOLPYRUVYL_SHIKIMATE_5P_c\", \"coefficient\": -1.0}, {\"bigg_id\": \"CHORISMATE_c\", \"coefficient\": 1.0}, {\"bigg_id\": \"pi_c\", \"coefficient\": 1.0}]}}, \"nodes\": {\"0\": {\"node_type\": \"metabolite\", \"x\": 30.0, \"y\": 112.5, \"label_x\": 0.0, \"label_y\": 92.5, \"bigg_id\": \"e4p_c\", \"name\": \"e4p_c\", \"node_is_primary\": false}, \"1\": {\"node_type\": \"metabolite\", \"x\": 30.0, \"y\": 225.0, \"label_x\": 0.0, \"label_y\": 205.0, \"bigg_id\": \"h2o_c\", \"name\": \"h2o_c\", \"node_is_primary\": false}, \"2\": {\"node_type\": \"metabolite\", \"x\": 30.0, \"y\": 337.5, \"label_x\": 0.0, \"label_y\": 317.5, \"bigg_id\": \"pep_c\", \"name\": \"pep_c\", \"node_is_primary\": false}, \"3\": {\"node_type\": \"metabolite\", \"x\": 550.0, \"y\": 150.0, \"label_x\": 520.0, \"label_y\": 130.0, \"bigg_id\": \"3_DEOXY_D_ARABINO_HEPTULOSONATE_7_P_c\", \"name\": \"3_DEOXY_D_ARABINO_HEPTULOSONATE_7_P_c\", \"node_is_primary\": false}, \"4\": {\"node_type\": \"metabolite\", \"x\": 550.0, \"y\": 300.0, \"label_x\": 520.0, \"label_y\": 280.0, \"bigg_id\": \"pi_c\", \"name\": \"pi_c\", \"node_is_primary\": false}, \"5\": {\"node_type\": \"multimarker\", \"x\": 335.0, \"y\": 225.0}, \"6\": {\"node_type\": \"midmarker\", \"x\": 355.0, \"y\": 225.0}, \"7\": {\"node_type\": \"multimarker\", \"x\": 375.0, \"y\": 225.0}, \"8\": {\"node_type\": \"metabolite\", \"x\": 1200.0, \"y\": 150.0, \"label_x\": 1170.0, \"label_y\": 130.0, \"bigg_id\": \"DEHYDROQUINATE_c\", \"name\": \"DEHYDROQUINATE_c\", \"node_is_primary\": false}, \"9\": {\"node_type\": \"metabolite\", \"x\": 1200.0, \"y\": 300.0, \"label_x\": 1170.0, \"label_y\": 280.0, \"bigg_id\": \"pi_c\", \"name\": \"pi_c\", \"node_is_primary\": false}, \"10\": {\"node_type\": \"multimarker\", \"x\": 985.0, \"y\": 225.0}, \"11\": {\"node_type\": \"midmarker\", \"x\": 1005.0, \"y\": 225.0}, \"12\": {\"node_type\": \"multimarker\", \"x\": 1025.0, \"y\": 225.0}, \"13\": {\"node_type\": \"metabolite\", \"x\": 1850.0, \"y\": 150.0, \"label_x\": 1820.0, \"label_y\": 130.0, \"bigg_id\": \"3_DEHYDRO_SHIKIMATE_c\", \"name\": \"3_DEHYDRO_SHIKIMATE_c\", \"node_is_primary\": false}, \"14\": {\"node_type\": \"metabolite\", \"x\": 1850.0, \"y\": 300.0, \"label_x\": 1820.0, \"label_y\": 280.0, \"bigg_id\": \"h2o_c\", \"name\": \"h2o_c\", \"node_is_primary\": false}, \"15\": {\"node_type\": \"multimarker\", \"x\": 1635.0, \"y\": 225.0}, \"16\": {\"node_type\": \"midmarker\", \"x\": 1655.0, \"y\": 225.0}, \"17\": {\"node_type\": \"multimarker\", \"x\": 1675.0, \"y\": 225.0}, \"18\": {\"node_type\": \"metabolite\", \"x\": 1980.0, \"y\": 150.0, \"label_x\": 1950.0, \"label_y\": 130.0, \"bigg_id\": \"SHIKIMATE_c\", \"name\": \"SHIKIMATE_c\", \"node_is_primary\": false}, \"19\": {\"node_type\": \"metabolite\", \"x\": 1980.0, \"y\": 300.0, \"label_x\": 1950.0, \"label_y\": 280.0, \"bigg_id\": \"nadp_c\", \"name\": \"nadp_c\", \"node_is_primary\": false}, \"20\": {\"node_type\": \"metabolite\", \"x\": 2500.0, \"y\": 112.5, \"label_x\": 2470.0, \"label_y\": 92.5, \"bigg_id\": \"3_DEHYDRO_SHIKIMATE_c\", \"name\": \"3_DEHYDRO_SHIKIMATE_c\", \"node_is_primary\": false}, \"21\": {\"node_type\": \"metabolite\", \"x\": 2500.0, \"y\": 225.0, \"label_x\": 2470.0, \"label_y\": 205.0, \"bigg_id\": \"h_c\", \"name\": \"h_c\", \"node_is_primary\": false}, \"22\": {\"node_type\": \"metabolite\", \"x\": 2500.0, \"y\": 337.5, \"label_x\": 2470.0, \"label_y\": 317.5, \"bigg_id\": \"nadph_c\", \"name\": \"nadph_c\", \"node_is_primary\": false}, \"23\": {\"node_type\": \"multimarker\", \"x\": 2285.0, \"y\": 225.0}, \"24\": {\"node_type\": \"midmarker\", \"x\": 2305.0, \"y\": 225.0}, \"25\": {\"node_type\": \"multimarker\", \"x\": 2325.0, \"y\": 225.0}, \"26\": {\"node_type\": \"metabolite\", \"x\": 2630.0, \"y\": 150.0, \"label_x\": 2600.0, \"label_y\": 130.0, \"bigg_id\": \"SHIKIMATE_c\", \"name\": \"SHIKIMATE_c\", \"node_is_primary\": false}, \"27\": {\"node_type\": \"metabolite\", \"x\": 2630.0, \"y\": 300.0, \"label_x\": 2600.0, \"label_y\": 280.0, \"bigg_id\": \"atp_c\", \"name\": \"atp_c\", \"node_is_primary\": false}, \"28\": {\"node_type\": \"metabolite\", \"x\": 3150.0, \"y\": 112.5, \"label_x\": 3120.0, \"label_y\": 92.5, \"bigg_id\": \"SHIKIMATE_5P_c\", \"name\": \"SHIKIMATE_5P_c\", \"node_is_primary\": false}, \"29\": {\"node_type\": \"metabolite\", \"x\": 3150.0, \"y\": 225.0, \"label_x\": 3120.0, \"label_y\": 205.0, \"bigg_id\": \"adp_c\", \"name\": \"adp_c\", \"node_is_primary\": false}, \"30\": {\"node_type\": \"metabolite\", \"x\": 3150.0, \"y\": 337.5, \"label_x\": 3120.0, \"label_y\": 317.5, \"bigg_id\": \"h_c\", \"name\": \"h_c\", \"node_is_primary\": false}, \"31\": {\"node_type\": \"multimarker\", \"x\": 2935.0, \"y\": 225.0}, \"32\": {\"node_type\": \"midmarker\", \"x\": 2955.0, \"y\": 225.0}, \"33\": {\"node_type\": \"multimarker\", \"x\": 2975.0, \"y\": 225.0}, \"34\": {\"node_type\": \"metabolite\", \"x\": 3280.0, \"y\": 300.0, \"label_x\": 3250.0, \"label_y\": 280.0, \"bigg_id\": \"pep_c\", \"name\": \"pep_c\", \"node_is_primary\": false}, \"35\": {\"node_type\": \"metabolite\", \"x\": 3800.0, \"y\": 150.0, \"label_x\": 3770.0, \"label_y\": 130.0, \"bigg_id\": \"3_ENOLPYRUVYL_SHIKIMATE_5P_c\", \"name\": \"3_ENOLPYRUVYL_SHIKIMATE_5P_c\", \"node_is_primary\": false}, \"36\": {\"node_type\": \"metabolite\", \"x\": 3800.0, \"y\": 300.0, \"label_x\": 3770.0, \"label_y\": 280.0, \"bigg_id\": \"pi_c\", \"name\": \"pi_c\", \"node_is_primary\": false}, \"37\": {\"node_type\": \"multimarker\", \"x\": 3585.0, \"y\": 225.0}, \"38\": {\"node_type\": \"midmarker\", \"x\": 3605.0, \"y\": 225.0}, \"39\": {\"node_type\": \"multimarker\", \"x\": 3625.0, \"y\": 225.0}, \"40\": {\"node_type\": \"metabolite\", \"x\": 4450.0, \"y\": 150.0, \"label_x\": 4420.0, \"label_y\": 130.0, \"bigg_id\": \"CHORISMATE_c\", \"name\": \"CHORISMATE_c\", \"node_is_primary\": false}, \"41\": {\"node_type\": \"metabolite\", \"x\": 4450.0, \"y\": 300.0, \"label_x\": 4420.0, \"label_y\": 280.0, \"bigg_id\": \"pi_c\", \"name\": \"pi_c\", \"node_is_primary\": false}, \"42\": {\"node_type\": \"multimarker\", \"x\": 4235.0, \"y\": 225.0}, \"43\": {\"node_type\": \"midmarker\", \"x\": 4255.0, \"y\": 225.0}, \"44\": {\"node_type\": \"multimarker\", \"x\": 4275.0, \"y\": 225.0}}, \"text_labels\": {}, \"canvas\": {\"x\": 0, \"y\": 0, \"width\": 4550, \"height\": 450}}]",
       "_loaded_model_json": null,
       "allow_building_duplicate_reactions": false,
       "and_method_in_gene_reaction_rule": "mean",
       "canvas_size_and_loc": null,
       "cofactors": [
        "atp",
        "adp",
        "nad",
        "nadh",
        "nadp",
        "nadph",
        "gtp",
        "gdp",
        "h",
        "coa",
        "ump",
        "h2o",
        "ppi"
       ],
       "disabled_buttons": [
        "Clear gene data",
        "Clear metabolite data"
       ],
       "embedded_css": null,
       "enable_editing": true,
       "enable_keys": false,
       "enable_keys_with_tooltip": true,
       "enable_search": true,
       "enable_tooltips": false,
       "full_screen_button": {
        "enable_editing": true,
        "enable_keys": true,
        "enable_tooltips": [
         "label"
        ],
        "menu": "all",
        "scroll_behavior": "pan"
       },
       "gene_data": null,
       "gene_font_size": 18,
       "height": 500,
       "hide_all_labels": false,
       "hide_secondary_metabolites": false,
       "highlight_missing": false,
       "identifiers_on_map": "bigg_id",
       "layout": "IPY_MODEL_f8e1cda471d6484593ba7bec53738fac",
       "marker_radius": 5,
       "menu": "all",
       "metabolite_compare_style": "log2_fold",
       "metabolite_data": null,
       "metabolite_no_data_color": "#ffffff",
       "metabolite_no_data_size": 10,
       "metabolite_scale": [
        {
         "color": "#fffaf0",
         "size": 20,
         "type": "min"
        },
        {
         "color": "#f1c470",
         "size": 30,
         "type": "median"
        },
        {
         "color": "#800000",
         "size": 40,
         "type": "max"
        }
       ],
       "metabolite_scale_preset": "WhYlRd",
       "metabolite_styles": [
        "color",
        "size",
        "text"
       ],
       "never_ask_before_quit": false,
       "primary_metabolite_radius": 20,
       "reaction_compare_style": "log2_fold",
       "reaction_data": {
        "2.5.1.19_RXN_c": 0,
        "3_DEHYDROQUINATE_DEHYDRATASE_RXN_c": 0.0024030054219134293,
        "3_DEHYDROQUINATE_SYNTHASE_RXN_c": 0.002403005421914144,
        "ACALD": -12.03976080152985,
        "ACALDt": 1.5948213258617017e-15,
        "ACKr": -12.425016580979458,
        "ACONTa": 0.3925323075343888,
        "ACONTb": 0.3925323075343888,
        "ACt2r": -12.425016580979458,
        "ADK1": 0,
        "AKGDH": 0,
        "AKGt2r": 0,
        "ALCD2x": -12.039760801529852,
        "ATPM": 8.39,
        "ATPS4r": -8.825370046098216,
        "Biomass_Ecoli_core": 0,
        "Biomass_Ecoli_core_SA3": 0,
        "Biomass_Ecoli_core_W3110": 0.36382640423986407,
        "CHORISMATE_SYNTHASE_RXN_c": 0,
        "CO2t": 0.650048636455365,
        "CS": 0.3925323075343888,
        "CYTBD": 0,
        "DAHPSYN_RXN_c": 0.002403005421914144,
        "D_LACt2": 0,
        "ENO": 28.48535196163712,
        "ETOHt2r": -12.039760801529853,
        "EX_ac_e": 12.425016580979458,
        "EX_acald_e": 0,
        "EX_akg_e": 0,
        "EX_co2_e": -0.650048636455365,
        "EX_etoh_e": 12.039760801529852,
        "EX_for_e": 26.220858287853854,
        "EX_fru_e": 0,
        "EX_fum_e": 0,
        "EX_glc__D_e": -15,
        "EX_gln__L_e": 0,
        "EX_glu__L_e": 0,
        "EX_h2o_e": -10.034746368096503,
        "EX_h_e": 45.94663554330687,
        "EX_lac__D_e": 0,
        "EX_mal__L_e": 0,
        "EX_nh4_e": -1.9838726170391372,
        "EX_o2_e": 0,
        "EX_pi_e": -1.3384081932771719,
        "EX_pyr_e": 0,
        "EX_succ_e": 0,
        "FBA": 14.637300873895308,
        "FBP": 0,
        "FORt2": 0,
        "FORti": 26.220858287853854,
        "FRD7": 0,
        "FRUpts2": 0,
        "FUM": 0,
        "FUMt2_2": 0,
        "G6PDH2r": 0,
        "GAPD": 29.029636262379956,
        "GLCpts": 15,
        "GLNS": 0.09303041156413322,
        "GLNabc": 0,
        "GLUDy": -1.8908422054749972,
        "GLUN": 0,
        "GLUSy": 0,
        "GLUt2r": 0,
        "GND": 0,
        "H2Ot": 10.034746368096503,
        "ICDHyr": 0.3925323075343888,
        "ICL": 0,
        "LDH_D": 0,
        "MALS": 0,
        "MALt2_2": 0,
        "MDH": 0,
        "ME1": 0,
        "ME2": 0,
        "NADH16": 0,
        "NADTRHD": 0,
        "NH4t": 1.9838726170391372,
        "O2t": 0,
        "PDH": 0,
        "PFK": 14.637300873895308,
        "PFL": 26.220858287853854,
        "PGI": 14.92541558713083,
        "PGK": -29.02963626237996,
        "PGL": 0,
        "PGM": -28.48535196163712,
        "PIt2r": 1.3384081932771719,
        "PPC": 1.0425809439897533,
        "PPCK": 0,
        "PPS": 0,
        "PTAr": 12.425016580979458,
        "PYK": 12.25150572578454,
        "PYRt2": 0,
        "RPE": -0.2623194211749188,
        "RPI": -0.262319421174919,
        "SHIKIMATE_5_DEHYDROGENASE_RXN_c": -0.00240300542191755,
        "SHIKIMATE_KINASE_RXN_c": 0,
        "SK_CHORISMATE_c": 0,
        "SUCCt2_2": 0,
        "SUCCt3": 0,
        "SUCDi": 0,
        "SUCOAS": 0,
        "TALA": -0.06428754191120688,
        "THD2": 6.240606915159051,
        "TKT1": -0.06428754191120695,
        "TKT2": -0.19803187926371205,
        "TPI": 14.637300873895308
       },
       "reaction_no_data_color": "#dcdcdc",
       "reaction_no_data_size": 8,
       "reaction_scale": [
        {
         "color": "rgb(222,201,201)",
         "type": "value",
         "value": 1.5948213258617017e-15
        },
        {
         "color": "rgb(225,183,183)",
         "type": "value",
         "value": 0.0024030054219134293
        },
        {
         "color": "rgb(228,165,165)",
         "type": "value",
         "value": 0.002403005421914144
        },
        {
         "color": "rgb(231,146,146)",
         "type": "value",
         "value": 0.002403005421914144
        },
        {
         "color": "rgb(234,128,128)",
         "type": "value",
         "value": 0.09303041156413322
        },
        {
         "color": "rgb(237,110,110)",
         "type": "value",
         "value": 0.36382640423986407
        },
        {
         "color": "rgb(240,91,91)",
         "type": "value",
         "value": 0.3925323075343888
        },
        {
         "color": "rgb(243,73,73)",
         "type": "value",
         "value": 0.3925323075343888
        },
        {
         "color": "rgb(246,55,55)",
         "type": "value",
         "value": 0.3925323075343888
        },
        {
         "color": "rgb(249,36,36)",
         "type": "value",
         "value": 0.3925323075343888
        },
        {
         "color": "rgb(252,18,18)",
         "type": "value",
         "value": 0.650048636455365
        },
        {
         "color": "rgb(255,0,0)",
         "type": "value",
         "value": 1
        },
        {
         "color": "rgb(220,220,220)",
         "type": "value",
         "value": 0
        },
        {
         "color": "rgb(192,192,224)",
         "type": "value",
         "value": -0.00240300542191755
        },
        {
         "color": "rgb(165,165,228)",
         "type": "value",
         "value": -0.06428754191120688
        },
        {
         "color": "rgb(137,137,233)",
         "type": "value",
         "value": -0.06428754191120707
        },
        {
         "color": "rgb(110,110,237)",
         "type": "value",
         "value": -0.19803187926371205
        },
        {
         "color": "rgb(82,82,241)",
         "type": "value",
         "value": -0.2623194211749188
        },
        {
         "color": "rgb(55,55,246)",
         "type": "value",
         "value": -0.262319421174919
        },
        {
         "color": "rgb(27,27,250)",
         "type": "value",
         "value": -0.650048636455365
        },
        {
         "color": "rgb(0,0,255)",
         "type": "value",
         "value": -1
        }
       ],
       "reaction_scale_preset": null,
       "reaction_styles": [
        "color",
        "text"
       ],
       "scroll_behavior": "none",
       "secondary_metabolite_radius": 10,
       "semantic_zoom": null,
       "show_gene_reaction_rules": false,
       "starting_reaction": null,
       "use_3d_transform": false,
       "zoom_to_element": null
      }
     },
     "c5c8559e8a684b449ea1c9c36b422220": {
      "model_module": "escher",
      "model_module_version": "1.7.3",
      "model_name": "EscherMapModel",
      "state": {
       "_loaded_map_json": "[{\"map_name\": \"\", \"map_id\": \"\", \"map_description\": \"\", \"homepage\": \"\", \"schema\": \"https://escher.github.io/escher/jsonschema/1-0-0#\"}, {\"reactions\": {\"0\": {\"name\": \"DAHPSYN_RXN_c\", \"bigg_id\": \"DAHPSYN_RXN_c\", \"reversibility\": true, \"label_x\": 208.0, \"label_y\": 45.0, \"gene_reaction_rule\": \"\", \"genes\": [], \"segments\": {\"0\": {\"from_node_id\": \"5\", \"to_node_id\": \"6\", \"b1\": null, \"b2\": null}, \"1\": {\"from_node_id\": \"7\", \"to_node_id\": \"6\", \"b1\": null, \"b2\": null}, \"2\": {\"from_node_id\": \"0\", \"to_node_id\": \"5\", \"b1\": null, \"b2\": null}, \"3\": {\"from_node_id\": \"1\", \"to_node_id\": \"5\", \"b1\": null, \"b2\": null}, \"4\": {\"from_node_id\": \"2\", \"to_node_id\": \"5\", \"b1\": null, \"b2\": null}, \"5\": {\"from_node_id\": \"3\", \"to_node_id\": \"7\", \"b1\": null, \"b2\": null}, \"6\": {\"from_node_id\": \"4\", \"to_node_id\": \"7\", \"b1\": null, \"b2\": null}}, \"metabolites\": [{\"bigg_id\": \"e4p_c\", \"coefficient\": -1.0}, {\"bigg_id\": \"h2o_c\", \"coefficient\": -1.0}, {\"bigg_id\": \"pep_c\", \"coefficient\": -1.0}, {\"bigg_id\": \"3_DEOXY_D_ARABINO_HEPTULOSONATE_7_P_c\", \"coefficient\": 1.0}, {\"bigg_id\": \"pi_c\", \"coefficient\": 1.0}]}, \"1\": {\"name\": \"3_DEHYDROQUINATE_SYNTHASE_RXN_c\", \"bigg_id\": \"3_DEHYDROQUINATE_SYNTHASE_RXN_c\", \"reversibility\": true, \"label_x\": 696.0, \"label_y\": 45.0, \"gene_reaction_rule\": \"\", \"genes\": [], \"segments\": {\"7\": {\"from_node_id\": \"10\", \"to_node_id\": \"11\", \"b1\": null, \"b2\": null}, \"8\": {\"from_node_id\": \"12\", \"to_node_id\": \"11\", \"b1\": null, \"b2\": null}, \"9\": {\"from_node_id\": \"3\", \"to_node_id\": \"10\", \"b1\": null, \"b2\": null}, \"10\": {\"from_node_id\": \"8\", \"to_node_id\": \"12\", \"b1\": null, \"b2\": null}, \"11\": {\"from_node_id\": \"9\", \"to_node_id\": \"12\", \"b1\": null, \"b2\": null}}, \"metabolites\": [{\"bigg_id\": \"3_DEOXY_D_ARABINO_HEPTULOSONATE_7_P_c\", \"coefficient\": -1.0}, {\"bigg_id\": \"DEHYDROQUINATE_c\", \"coefficient\": 1.0}, {\"bigg_id\": \"pi_c\", \"coefficient\": 1.0}]}, \"2\": {\"name\": \"3_DEHYDROQUINATE_DEHYDRATASE_RXN_c\", \"bigg_id\": \"3_DEHYDROQUINATE_DEHYDRATASE_RXN_c\", \"reversibility\": true, \"label_x\": 1319.0, \"label_y\": 45.0, \"gene_reaction_rule\": \"\", \"genes\": [], \"segments\": {\"12\": {\"from_node_id\": \"15\", \"to_node_id\": \"16\", \"b1\": null, \"b2\": null}, \"13\": {\"from_node_id\": \"17\", \"to_node_id\": \"16\", \"b1\": null, \"b2\": null}, \"14\": {\"from_node_id\": \"8\", \"to_node_id\": \"15\", \"b1\": null, \"b2\": null}, \"15\": {\"from_node_id\": \"13\", \"to_node_id\": \"17\", \"b1\": null, \"b2\": null}, \"16\": {\"from_node_id\": \"14\", \"to_node_id\": \"17\", \"b1\": null, \"b2\": null}}, \"metabolites\": [{\"bigg_id\": \"DEHYDROQUINATE_c\", \"coefficient\": -1.0}, {\"bigg_id\": \"3_DEHYDRO_SHIKIMATE_c\", \"coefficient\": 1.0}, {\"bigg_id\": \"h2o_c\", \"coefficient\": 1.0}]}, \"3\": {\"name\": \"SHIKIMATE_5_DEHYDROGENASE_RXN_c\", \"bigg_id\": \"SHIKIMATE_5_DEHYDROGENASE_RXN_c\", \"reversibility\": true, \"label_x\": 1996.0, \"label_y\": 45.0, \"gene_reaction_rule\": \"\", \"genes\": [], \"segments\": {\"17\": {\"from_node_id\": \"23\", \"to_node_id\": \"24\", \"b1\": null, \"b2\": null}, \"18\": {\"from_node_id\": \"25\", \"to_node_id\": \"24\", \"b1\": null, \"b2\": null}, \"19\": {\"from_node_id\": \"18\", \"to_node_id\": \"23\", \"b1\": null, \"b2\": null}, \"20\": {\"from_node_id\": \"19\", \"to_node_id\": \"23\", \"b1\": null, \"b2\": null}, \"21\": {\"from_node_id\": \"20\", \"to_node_id\": \"25\", \"b1\": null, \"b2\": null}, \"22\": {\"from_node_id\": \"21\", \"to_node_id\": \"25\", \"b1\": null, \"b2\": null}, \"23\": {\"from_node_id\": \"22\", \"to_node_id\": \"25\", \"b1\": null, \"b2\": null}}, \"metabolites\": [{\"bigg_id\": \"SHIKIMATE_c\", \"coefficient\": -1.0}, {\"bigg_id\": \"nadp_c\", \"coefficient\": -1.0}, {\"bigg_id\": \"3_DEHYDRO_SHIKIMATE_c\", \"coefficient\": 1.0}, {\"bigg_id\": \"h_c\", \"coefficient\": 1.0}, {\"bigg_id\": \"nadph_c\", \"coefficient\": 1.0}]}, \"4\": {\"name\": \"SHIKIMATE_KINASE_RXN_c\", \"bigg_id\": \"SHIKIMATE_KINASE_RXN_c\", \"reversibility\": true, \"label_x\": 2727.0, \"label_y\": 45.0, \"gene_reaction_rule\": \"\", \"genes\": [], \"segments\": {\"24\": {\"from_node_id\": \"31\", \"to_node_id\": \"32\", \"b1\": null, \"b2\": null}, \"25\": {\"from_node_id\": \"33\", \"to_node_id\": \"32\", \"b1\": null, \"b2\": null}, \"26\": {\"from_node_id\": \"26\", \"to_node_id\": \"31\", \"b1\": null, \"b2\": null}, \"27\": {\"from_node_id\": \"27\", \"to_node_id\": \"31\", \"b1\": null, \"b2\": null}, \"28\": {\"from_node_id\": \"28\", \"to_node_id\": \"33\", \"b1\": null, \"b2\": null}, \"29\": {\"from_node_id\": \"29\", \"to_node_id\": \"33\", \"b1\": null, \"b2\": null}, \"30\": {\"from_node_id\": \"30\", \"to_node_id\": \"33\", \"b1\": null, \"b2\": null}}, \"metabolites\": [{\"bigg_id\": \"SHIKIMATE_c\", \"coefficient\": -1.0}, {\"bigg_id\": \"atp_c\", \"coefficient\": -1.0}, {\"bigg_id\": \"SHIKIMATE_5P_c\", \"coefficient\": 1.0}, {\"bigg_id\": \"adp_c\", \"coefficient\": 1.0}, {\"bigg_id\": \"h_c\", \"coefficient\": 1.0}]}, \"5\": {\"name\": \"2.5.1.19_RXN_c\", \"bigg_id\": \"2.5.1.19_RXN_c\", \"reversibility\": true, \"label_x\": 3449.0, \"label_y\": 45.0, \"gene_reaction_rule\": \"\", \"genes\": [], \"segments\": {\"31\": {\"from_node_id\": \"37\", \"to_node_id\": \"38\", \"b1\": null, \"b2\": null}, \"32\": {\"from_node_id\": \"39\", \"to_node_id\": \"38\", \"b1\": null, \"b2\": null}, \"33\": {\"from_node_id\": \"28\", \"to_node_id\": \"37\", \"b1\": null, \"b2\": null}, \"34\": {\"from_node_id\": \"34\", \"to_node_id\": \"37\", \"b1\": null, \"b2\": null}, \"35\": {\"from_node_id\": \"35\", \"to_node_id\": \"39\", \"b1\": null, \"b2\": null}, \"36\": {\"from_node_id\": \"36\", \"to_node_id\": \"39\", \"b1\": null, \"b2\": null}}, \"metabolites\": [{\"bigg_id\": \"SHIKIMATE_5P_c\", \"coefficient\": -1.0}, {\"bigg_id\": \"pep_c\", \"coefficient\": -1.0}, {\"bigg_id\": \"3_ENOLPYRUVYL_SHIKIMATE_5P_c\", \"coefficient\": 1.0}, {\"bigg_id\": \"pi_c\", \"coefficient\": 1.0}]}, \"6\": {\"name\": \"CHORISMATE_SYNTHASE_RXN_c\", \"bigg_id\": \"CHORISMATE_SYNTHASE_RXN_c\", \"reversibility\": true, \"label_x\": 4000.0, \"label_y\": 45.0, \"gene_reaction_rule\": \"\", \"genes\": [], \"segments\": {\"37\": {\"from_node_id\": \"42\", \"to_node_id\": \"43\", \"b1\": null, \"b2\": null}, \"38\": {\"from_node_id\": \"44\", \"to_node_id\": \"43\", \"b1\": null, \"b2\": null}, \"39\": {\"from_node_id\": \"35\", \"to_node_id\": \"42\", \"b1\": null, \"b2\": null}, \"40\": {\"from_node_id\": \"40\", \"to_node_id\": \"44\", \"b1\": null, \"b2\": null}, \"41\": {\"from_node_id\": \"41\", \"to_node_id\": \"44\", \"b1\": null, \"b2\": null}}, \"metabolites\": [{\"bigg_id\": \"3_ENOLPYRUVYL_SHIKIMATE_5P_c\", \"coefficient\": -1.0}, {\"bigg_id\": \"CHORISMATE_c\", \"coefficient\": 1.0}, {\"bigg_id\": \"pi_c\", \"coefficient\": 1.0}]}}, \"nodes\": {\"0\": {\"node_type\": \"metabolite\", \"x\": 30.0, \"y\": 112.5, \"label_x\": 0.0, \"label_y\": 92.5, \"bigg_id\": \"e4p_c\", \"name\": \"e4p_c\", \"node_is_primary\": false}, \"1\": {\"node_type\": \"metabolite\", \"x\": 30.0, \"y\": 225.0, \"label_x\": 0.0, \"label_y\": 205.0, \"bigg_id\": \"h2o_c\", \"name\": \"h2o_c\", \"node_is_primary\": false}, \"2\": {\"node_type\": \"metabolite\", \"x\": 30.0, \"y\": 337.5, \"label_x\": 0.0, \"label_y\": 317.5, \"bigg_id\": \"pep_c\", \"name\": \"pep_c\", \"node_is_primary\": false}, \"3\": {\"node_type\": \"metabolite\", \"x\": 550.0, \"y\": 150.0, \"label_x\": 520.0, \"label_y\": 130.0, \"bigg_id\": \"3_DEOXY_D_ARABINO_HEPTULOSONATE_7_P_c\", \"name\": \"3_DEOXY_D_ARABINO_HEPTULOSONATE_7_P_c\", \"node_is_primary\": false}, \"4\": {\"node_type\": \"metabolite\", \"x\": 550.0, \"y\": 300.0, \"label_x\": 520.0, \"label_y\": 280.0, \"bigg_id\": \"pi_c\", \"name\": \"pi_c\", \"node_is_primary\": false}, \"5\": {\"node_type\": \"multimarker\", \"x\": 335.0, \"y\": 225.0}, \"6\": {\"node_type\": \"midmarker\", \"x\": 355.0, \"y\": 225.0}, \"7\": {\"node_type\": \"multimarker\", \"x\": 375.0, \"y\": 225.0}, \"8\": {\"node_type\": \"metabolite\", \"x\": 1200.0, \"y\": 150.0, \"label_x\": 1170.0, \"label_y\": 130.0, \"bigg_id\": \"DEHYDROQUINATE_c\", \"name\": \"DEHYDROQUINATE_c\", \"node_is_primary\": false}, \"9\": {\"node_type\": \"metabolite\", \"x\": 1200.0, \"y\": 300.0, \"label_x\": 1170.0, \"label_y\": 280.0, \"bigg_id\": \"pi_c\", \"name\": \"pi_c\", \"node_is_primary\": false}, \"10\": {\"node_type\": \"multimarker\", \"x\": 985.0, \"y\": 225.0}, \"11\": {\"node_type\": \"midmarker\", \"x\": 1005.0, \"y\": 225.0}, \"12\": {\"node_type\": \"multimarker\", \"x\": 1025.0, \"y\": 225.0}, \"13\": {\"node_type\": \"metabolite\", \"x\": 1850.0, \"y\": 150.0, \"label_x\": 1820.0, \"label_y\": 130.0, \"bigg_id\": \"3_DEHYDRO_SHIKIMATE_c\", \"name\": \"3_DEHYDRO_SHIKIMATE_c\", \"node_is_primary\": false}, \"14\": {\"node_type\": \"metabolite\", \"x\": 1850.0, \"y\": 300.0, \"label_x\": 1820.0, \"label_y\": 280.0, \"bigg_id\": \"h2o_c\", \"name\": \"h2o_c\", \"node_is_primary\": false}, \"15\": {\"node_type\": \"multimarker\", \"x\": 1635.0, \"y\": 225.0}, \"16\": {\"node_type\": \"midmarker\", \"x\": 1655.0, \"y\": 225.0}, \"17\": {\"node_type\": \"multimarker\", \"x\": 1675.0, \"y\": 225.0}, \"18\": {\"node_type\": \"metabolite\", \"x\": 1980.0, \"y\": 150.0, \"label_x\": 1950.0, \"label_y\": 130.0, \"bigg_id\": \"SHIKIMATE_c\", \"name\": \"SHIKIMATE_c\", \"node_is_primary\": false}, \"19\": {\"node_type\": \"metabolite\", \"x\": 1980.0, \"y\": 300.0, \"label_x\": 1950.0, \"label_y\": 280.0, \"bigg_id\": \"nadp_c\", \"name\": \"nadp_c\", \"node_is_primary\": false}, \"20\": {\"node_type\": \"metabolite\", \"x\": 2500.0, \"y\": 112.5, \"label_x\": 2470.0, \"label_y\": 92.5, \"bigg_id\": \"3_DEHYDRO_SHIKIMATE_c\", \"name\": \"3_DEHYDRO_SHIKIMATE_c\", \"node_is_primary\": false}, \"21\": {\"node_type\": \"metabolite\", \"x\": 2500.0, \"y\": 225.0, \"label_x\": 2470.0, \"label_y\": 205.0, \"bigg_id\": \"h_c\", \"name\": \"h_c\", \"node_is_primary\": false}, \"22\": {\"node_type\": \"metabolite\", \"x\": 2500.0, \"y\": 337.5, \"label_x\": 2470.0, \"label_y\": 317.5, \"bigg_id\": \"nadph_c\", \"name\": \"nadph_c\", \"node_is_primary\": false}, \"23\": {\"node_type\": \"multimarker\", \"x\": 2285.0, \"y\": 225.0}, \"24\": {\"node_type\": \"midmarker\", \"x\": 2305.0, \"y\": 225.0}, \"25\": {\"node_type\": \"multimarker\", \"x\": 2325.0, \"y\": 225.0}, \"26\": {\"node_type\": \"metabolite\", \"x\": 2630.0, \"y\": 150.0, \"label_x\": 2600.0, \"label_y\": 130.0, \"bigg_id\": \"SHIKIMATE_c\", \"name\": \"SHIKIMATE_c\", \"node_is_primary\": false}, \"27\": {\"node_type\": \"metabolite\", \"x\": 2630.0, \"y\": 300.0, \"label_x\": 2600.0, \"label_y\": 280.0, \"bigg_id\": \"atp_c\", \"name\": \"atp_c\", \"node_is_primary\": false}, \"28\": {\"node_type\": \"metabolite\", \"x\": 3150.0, \"y\": 112.5, \"label_x\": 3120.0, \"label_y\": 92.5, \"bigg_id\": \"SHIKIMATE_5P_c\", \"name\": \"SHIKIMATE_5P_c\", \"node_is_primary\": false}, \"29\": {\"node_type\": \"metabolite\", \"x\": 3150.0, \"y\": 225.0, \"label_x\": 3120.0, \"label_y\": 205.0, \"bigg_id\": \"adp_c\", \"name\": \"adp_c\", \"node_is_primary\": false}, \"30\": {\"node_type\": \"metabolite\", \"x\": 3150.0, \"y\": 337.5, \"label_x\": 3120.0, \"label_y\": 317.5, \"bigg_id\": \"h_c\", \"name\": \"h_c\", \"node_is_primary\": false}, \"31\": {\"node_type\": \"multimarker\", \"x\": 2935.0, \"y\": 225.0}, \"32\": {\"node_type\": \"midmarker\", \"x\": 2955.0, \"y\": 225.0}, \"33\": {\"node_type\": \"multimarker\", \"x\": 2975.0, \"y\": 225.0}, \"34\": {\"node_type\": \"metabolite\", \"x\": 3280.0, \"y\": 300.0, \"label_x\": 3250.0, \"label_y\": 280.0, \"bigg_id\": \"pep_c\", \"name\": \"pep_c\", \"node_is_primary\": false}, \"35\": {\"node_type\": \"metabolite\", \"x\": 3800.0, \"y\": 150.0, \"label_x\": 3770.0, \"label_y\": 130.0, \"bigg_id\": \"3_ENOLPYRUVYL_SHIKIMATE_5P_c\", \"name\": \"3_ENOLPYRUVYL_SHIKIMATE_5P_c\", \"node_is_primary\": false}, \"36\": {\"node_type\": \"metabolite\", \"x\": 3800.0, \"y\": 300.0, \"label_x\": 3770.0, \"label_y\": 280.0, \"bigg_id\": \"pi_c\", \"name\": \"pi_c\", \"node_is_primary\": false}, \"37\": {\"node_type\": \"multimarker\", \"x\": 3585.0, \"y\": 225.0}, \"38\": {\"node_type\": \"midmarker\", \"x\": 3605.0, \"y\": 225.0}, \"39\": {\"node_type\": \"multimarker\", \"x\": 3625.0, \"y\": 225.0}, \"40\": {\"node_type\": \"metabolite\", \"x\": 4450.0, \"y\": 150.0, \"label_x\": 4420.0, \"label_y\": 130.0, \"bigg_id\": \"CHORISMATE_c\", \"name\": \"CHORISMATE_c\", \"node_is_primary\": false}, \"41\": {\"node_type\": \"metabolite\", \"x\": 4450.0, \"y\": 300.0, \"label_x\": 4420.0, \"label_y\": 280.0, \"bigg_id\": \"pi_c\", \"name\": \"pi_c\", \"node_is_primary\": false}, \"42\": {\"node_type\": \"multimarker\", \"x\": 4235.0, \"y\": 225.0}, \"43\": {\"node_type\": \"midmarker\", \"x\": 4255.0, \"y\": 225.0}, \"44\": {\"node_type\": \"multimarker\", \"x\": 4275.0, \"y\": 225.0}}, \"text_labels\": {}, \"canvas\": {\"x\": 0, \"y\": 0, \"width\": 4550, \"height\": 450}}]",
       "_loaded_model_json": null,
       "allow_building_duplicate_reactions": false,
       "and_method_in_gene_reaction_rule": "mean",
       "canvas_size_and_loc": null,
       "cofactors": [
        "atp",
        "adp",
        "nad",
        "nadh",
        "nadp",
        "nadph",
        "gtp",
        "gdp",
        "h",
        "coa",
        "ump",
        "h2o",
        "ppi"
       ],
       "disabled_buttons": [
        "Clear reaction data",
        "Clear gene data",
        "Clear metabolite data"
       ],
       "embedded_css": null,
       "enable_editing": true,
       "enable_keys": false,
       "enable_keys_with_tooltip": true,
       "enable_search": true,
       "enable_tooltips": false,
       "full_screen_button": {
        "enable_editing": true,
        "enable_keys": true,
        "enable_tooltips": [
         "label"
        ],
        "menu": "all",
        "scroll_behavior": "pan"
       },
       "gene_data": null,
       "gene_font_size": 18,
       "height": 500,
       "hide_all_labels": false,
       "hide_secondary_metabolites": false,
       "highlight_missing": false,
       "identifiers_on_map": "bigg_id",
       "layout": "IPY_MODEL_fb0e8429d56b4f699b1c2d835db82413",
       "marker_radius": 5,
       "menu": "all",
       "metabolite_compare_style": "log2_fold",
       "metabolite_data": null,
       "metabolite_no_data_color": "#ffffff",
       "metabolite_no_data_size": 10,
       "metabolite_scale": [
        {
         "color": "#fffaf0",
         "size": 20,
         "type": "min"
        },
        {
         "color": "#f1c470",
         "size": 30,
         "type": "median"
        },
        {
         "color": "#800000",
         "size": 40,
         "type": "max"
        }
       ],
       "metabolite_scale_preset": "WhYlRd",
       "metabolite_styles": [
        "color",
        "size",
        "text"
       ],
       "never_ask_before_quit": false,
       "primary_metabolite_radius": 20,
       "reaction_compare_style": "log2_fold",
       "reaction_data": null,
       "reaction_no_data_color": "#dcdcdc",
       "reaction_no_data_size": 8,
       "reaction_scale": {},
       "reaction_scale_preset": null,
       "reaction_styles": [
        "color",
        "text"
       ],
       "scroll_behavior": "none",
       "secondary_metabolite_radius": 10,
       "semantic_zoom": null,
       "show_gene_reaction_rules": false,
       "starting_reaction": null,
       "use_3d_transform": false,
       "zoom_to_element": null
      }
     },
     "c664f099dea040bda5cf7a23aee1253a": {
      "model_module": "@jupyter-widgets/base",
      "model_module_version": "1.2.0",
      "model_name": "LayoutModel",
      "state": {}
     },
     "e022ca255d504d5499c7f3527bd7d37a": {
      "model_module": "@jupyter-widgets/base",
      "model_module_version": "1.2.0",
      "model_name": "LayoutModel",
      "state": {}
     },
     "e8ad945b6b61418185bcfc185657064e": {
      "model_module": "escher",
      "model_module_version": "1.7.3",
      "model_name": "EscherMapModel",
      "state": {
       "_loaded_map_json": "[{\"map_name\": \"\", \"map_id\": \"\", \"map_description\": \"\", \"homepage\": \"\", \"schema\": \"https://escher.github.io/escher/jsonschema/1-0-0#\"}, {\"reactions\": {\"0\": {\"name\": \"DAHPSYN_RXN_c\", \"bigg_id\": \"DAHPSYN_RXN_c\", \"reversibility\": true, \"label_x\": 208.0, \"label_y\": 45.0, \"gene_reaction_rule\": \"\", \"genes\": [], \"segments\": {\"0\": {\"from_node_id\": \"5\", \"to_node_id\": \"6\", \"b1\": null, \"b2\": null}, \"1\": {\"from_node_id\": \"7\", \"to_node_id\": \"6\", \"b1\": null, \"b2\": null}, \"2\": {\"from_node_id\": \"0\", \"to_node_id\": \"5\", \"b1\": null, \"b2\": null}, \"3\": {\"from_node_id\": \"1\", \"to_node_id\": \"5\", \"b1\": null, \"b2\": null}, \"4\": {\"from_node_id\": \"2\", \"to_node_id\": \"5\", \"b1\": null, \"b2\": null}, \"5\": {\"from_node_id\": \"3\", \"to_node_id\": \"7\", \"b1\": null, \"b2\": null}, \"6\": {\"from_node_id\": \"4\", \"to_node_id\": \"7\", \"b1\": null, \"b2\": null}}, \"metabolites\": [{\"bigg_id\": \"e4p_c\", \"coefficient\": -1.0}, {\"bigg_id\": \"h2o_c\", \"coefficient\": -1.0}, {\"bigg_id\": \"pep_c\", \"coefficient\": -1.0}, {\"bigg_id\": \"3_DEOXY_D_ARABINO_HEPTULOSONATE_7_P_c\", \"coefficient\": 1.0}, {\"bigg_id\": \"pi_c\", \"coefficient\": 1.0}]}, \"1\": {\"name\": \"3_DEHYDROQUINATE_SYNTHASE_RXN_c\", \"bigg_id\": \"3_DEHYDROQUINATE_SYNTHASE_RXN_c\", \"reversibility\": true, \"label_x\": 696.0, \"label_y\": 45.0, \"gene_reaction_rule\": \"\", \"genes\": [], \"segments\": {\"7\": {\"from_node_id\": \"10\", \"to_node_id\": \"11\", \"b1\": null, \"b2\": null}, \"8\": {\"from_node_id\": \"12\", \"to_node_id\": \"11\", \"b1\": null, \"b2\": null}, \"9\": {\"from_node_id\": \"3\", \"to_node_id\": \"10\", \"b1\": null, \"b2\": null}, \"10\": {\"from_node_id\": \"8\", \"to_node_id\": \"12\", \"b1\": null, \"b2\": null}, \"11\": {\"from_node_id\": \"9\", \"to_node_id\": \"12\", \"b1\": null, \"b2\": null}}, \"metabolites\": [{\"bigg_id\": \"3_DEOXY_D_ARABINO_HEPTULOSONATE_7_P_c\", \"coefficient\": -1.0}, {\"bigg_id\": \"DEHYDROQUINATE_c\", \"coefficient\": 1.0}, {\"bigg_id\": \"pi_c\", \"coefficient\": 1.0}]}, \"2\": {\"name\": \"3_DEHYDROQUINATE_DEHYDRATASE_RXN_c\", \"bigg_id\": \"3_DEHYDROQUINATE_DEHYDRATASE_RXN_c\", \"reversibility\": true, \"label_x\": 1319.0, \"label_y\": 45.0, \"gene_reaction_rule\": \"\", \"genes\": [], \"segments\": {\"12\": {\"from_node_id\": \"15\", \"to_node_id\": \"16\", \"b1\": null, \"b2\": null}, \"13\": {\"from_node_id\": \"17\", \"to_node_id\": \"16\", \"b1\": null, \"b2\": null}, \"14\": {\"from_node_id\": \"8\", \"to_node_id\": \"15\", \"b1\": null, \"b2\": null}, \"15\": {\"from_node_id\": \"13\", \"to_node_id\": \"17\", \"b1\": null, \"b2\": null}, \"16\": {\"from_node_id\": \"14\", \"to_node_id\": \"17\", \"b1\": null, \"b2\": null}}, \"metabolites\": [{\"bigg_id\": \"DEHYDROQUINATE_c\", \"coefficient\": -1.0}, {\"bigg_id\": \"3_DEHYDRO_SHIKIMATE_c\", \"coefficient\": 1.0}, {\"bigg_id\": \"h2o_c\", \"coefficient\": 1.0}]}, \"3\": {\"name\": \"SHIKIMATE_5_DEHYDROGENASE_RXN_c\", \"bigg_id\": \"SHIKIMATE_5_DEHYDROGENASE_RXN_c\", \"reversibility\": true, \"label_x\": 1996.0, \"label_y\": 45.0, \"gene_reaction_rule\": \"\", \"genes\": [], \"segments\": {\"17\": {\"from_node_id\": \"23\", \"to_node_id\": \"24\", \"b1\": null, \"b2\": null}, \"18\": {\"from_node_id\": \"25\", \"to_node_id\": \"24\", \"b1\": null, \"b2\": null}, \"19\": {\"from_node_id\": \"18\", \"to_node_id\": \"23\", \"b1\": null, \"b2\": null}, \"20\": {\"from_node_id\": \"19\", \"to_node_id\": \"23\", \"b1\": null, \"b2\": null}, \"21\": {\"from_node_id\": \"20\", \"to_node_id\": \"25\", \"b1\": null, \"b2\": null}, \"22\": {\"from_node_id\": \"21\", \"to_node_id\": \"25\", \"b1\": null, \"b2\": null}, \"23\": {\"from_node_id\": \"22\", \"to_node_id\": \"25\", \"b1\": null, \"b2\": null}}, \"metabolites\": [{\"bigg_id\": \"SHIKIMATE_c\", \"coefficient\": -1.0}, {\"bigg_id\": \"nadp_c\", \"coefficient\": -1.0}, {\"bigg_id\": \"3_DEHYDRO_SHIKIMATE_c\", \"coefficient\": 1.0}, {\"bigg_id\": \"h_c\", \"coefficient\": 1.0}, {\"bigg_id\": \"nadph_c\", \"coefficient\": 1.0}]}, \"4\": {\"name\": \"SHIKIMATE_KINASE_RXN_c\", \"bigg_id\": \"SHIKIMATE_KINASE_RXN_c\", \"reversibility\": true, \"label_x\": 2727.0, \"label_y\": 45.0, \"gene_reaction_rule\": \"\", \"genes\": [], \"segments\": {\"24\": {\"from_node_id\": \"31\", \"to_node_id\": \"32\", \"b1\": null, \"b2\": null}, \"25\": {\"from_node_id\": \"33\", \"to_node_id\": \"32\", \"b1\": null, \"b2\": null}, \"26\": {\"from_node_id\": \"26\", \"to_node_id\": \"31\", \"b1\": null, \"b2\": null}, \"27\": {\"from_node_id\": \"27\", \"to_node_id\": \"31\", \"b1\": null, \"b2\": null}, \"28\": {\"from_node_id\": \"28\", \"to_node_id\": \"33\", \"b1\": null, \"b2\": null}, \"29\": {\"from_node_id\": \"29\", \"to_node_id\": \"33\", \"b1\": null, \"b2\": null}, \"30\": {\"from_node_id\": \"30\", \"to_node_id\": \"33\", \"b1\": null, \"b2\": null}}, \"metabolites\": [{\"bigg_id\": \"SHIKIMATE_c\", \"coefficient\": -1.0}, {\"bigg_id\": \"atp_c\", \"coefficient\": -1.0}, {\"bigg_id\": \"SHIKIMATE_5P_c\", \"coefficient\": 1.0}, {\"bigg_id\": \"adp_c\", \"coefficient\": 1.0}, {\"bigg_id\": \"h_c\", \"coefficient\": 1.0}]}, \"5\": {\"name\": \"2.5.1.19_RXN_c\", \"bigg_id\": \"2.5.1.19_RXN_c\", \"reversibility\": true, \"label_x\": 3449.0, \"label_y\": 45.0, \"gene_reaction_rule\": \"\", \"genes\": [], \"segments\": {\"31\": {\"from_node_id\": \"37\", \"to_node_id\": \"38\", \"b1\": null, \"b2\": null}, \"32\": {\"from_node_id\": \"39\", \"to_node_id\": \"38\", \"b1\": null, \"b2\": null}, \"33\": {\"from_node_id\": \"28\", \"to_node_id\": \"37\", \"b1\": null, \"b2\": null}, \"34\": {\"from_node_id\": \"34\", \"to_node_id\": \"37\", \"b1\": null, \"b2\": null}, \"35\": {\"from_node_id\": \"35\", \"to_node_id\": \"39\", \"b1\": null, \"b2\": null}, \"36\": {\"from_node_id\": \"36\", \"to_node_id\": \"39\", \"b1\": null, \"b2\": null}}, \"metabolites\": [{\"bigg_id\": \"SHIKIMATE_5P_c\", \"coefficient\": -1.0}, {\"bigg_id\": \"pep_c\", \"coefficient\": -1.0}, {\"bigg_id\": \"3_ENOLPYRUVYL_SHIKIMATE_5P_c\", \"coefficient\": 1.0}, {\"bigg_id\": \"pi_c\", \"coefficient\": 1.0}]}, \"6\": {\"name\": \"CHORISMATE_SYNTHASE_RXN_c\", \"bigg_id\": \"CHORISMATE_SYNTHASE_RXN_c\", \"reversibility\": true, \"label_x\": 4000.0, \"label_y\": 45.0, \"gene_reaction_rule\": \"\", \"genes\": [], \"segments\": {\"37\": {\"from_node_id\": \"42\", \"to_node_id\": \"43\", \"b1\": null, \"b2\": null}, \"38\": {\"from_node_id\": \"44\", \"to_node_id\": \"43\", \"b1\": null, \"b2\": null}, \"39\": {\"from_node_id\": \"35\", \"to_node_id\": \"42\", \"b1\": null, \"b2\": null}, \"40\": {\"from_node_id\": \"40\", \"to_node_id\": \"44\", \"b1\": null, \"b2\": null}, \"41\": {\"from_node_id\": \"41\", \"to_node_id\": \"44\", \"b1\": null, \"b2\": null}}, \"metabolites\": [{\"bigg_id\": \"3_ENOLPYRUVYL_SHIKIMATE_5P_c\", \"coefficient\": -1.0}, {\"bigg_id\": \"CHORISMATE_c\", \"coefficient\": 1.0}, {\"bigg_id\": \"pi_c\", \"coefficient\": 1.0}]}}, \"nodes\": {\"0\": {\"node_type\": \"metabolite\", \"x\": 30.0, \"y\": 112.5, \"label_x\": 0.0, \"label_y\": 92.5, \"bigg_id\": \"e4p_c\", \"name\": \"e4p_c\", \"node_is_primary\": false}, \"1\": {\"node_type\": \"metabolite\", \"x\": 30.0, \"y\": 225.0, \"label_x\": 0.0, \"label_y\": 205.0, \"bigg_id\": \"h2o_c\", \"name\": \"h2o_c\", \"node_is_primary\": false}, \"2\": {\"node_type\": \"metabolite\", \"x\": 30.0, \"y\": 337.5, \"label_x\": 0.0, \"label_y\": 317.5, \"bigg_id\": \"pep_c\", \"name\": \"pep_c\", \"node_is_primary\": false}, \"3\": {\"node_type\": \"metabolite\", \"x\": 550.0, \"y\": 150.0, \"label_x\": 520.0, \"label_y\": 130.0, \"bigg_id\": \"3_DEOXY_D_ARABINO_HEPTULOSONATE_7_P_c\", \"name\": \"3_DEOXY_D_ARABINO_HEPTULOSONATE_7_P_c\", \"node_is_primary\": false}, \"4\": {\"node_type\": \"metabolite\", \"x\": 550.0, \"y\": 300.0, \"label_x\": 520.0, \"label_y\": 280.0, \"bigg_id\": \"pi_c\", \"name\": \"pi_c\", \"node_is_primary\": false}, \"5\": {\"node_type\": \"multimarker\", \"x\": 335.0, \"y\": 225.0}, \"6\": {\"node_type\": \"midmarker\", \"x\": 355.0, \"y\": 225.0}, \"7\": {\"node_type\": \"multimarker\", \"x\": 375.0, \"y\": 225.0}, \"8\": {\"node_type\": \"metabolite\", \"x\": 1200.0, \"y\": 150.0, \"label_x\": 1170.0, \"label_y\": 130.0, \"bigg_id\": \"DEHYDROQUINATE_c\", \"name\": \"DEHYDROQUINATE_c\", \"node_is_primary\": false}, \"9\": {\"node_type\": \"metabolite\", \"x\": 1200.0, \"y\": 300.0, \"label_x\": 1170.0, \"label_y\": 280.0, \"bigg_id\": \"pi_c\", \"name\": \"pi_c\", \"node_is_primary\": false}, \"10\": {\"node_type\": \"multimarker\", \"x\": 985.0, \"y\": 225.0}, \"11\": {\"node_type\": \"midmarker\", \"x\": 1005.0, \"y\": 225.0}, \"12\": {\"node_type\": \"multimarker\", \"x\": 1025.0, \"y\": 225.0}, \"13\": {\"node_type\": \"metabolite\", \"x\": 1850.0, \"y\": 150.0, \"label_x\": 1820.0, \"label_y\": 130.0, \"bigg_id\": \"3_DEHYDRO_SHIKIMATE_c\", \"name\": \"3_DEHYDRO_SHIKIMATE_c\", \"node_is_primary\": false}, \"14\": {\"node_type\": \"metabolite\", \"x\": 1850.0, \"y\": 300.0, \"label_x\": 1820.0, \"label_y\": 280.0, \"bigg_id\": \"h2o_c\", \"name\": \"h2o_c\", \"node_is_primary\": false}, \"15\": {\"node_type\": \"multimarker\", \"x\": 1635.0, \"y\": 225.0}, \"16\": {\"node_type\": \"midmarker\", \"x\": 1655.0, \"y\": 225.0}, \"17\": {\"node_type\": \"multimarker\", \"x\": 1675.0, \"y\": 225.0}, \"18\": {\"node_type\": \"metabolite\", \"x\": 1980.0, \"y\": 150.0, \"label_x\": 1950.0, \"label_y\": 130.0, \"bigg_id\": \"SHIKIMATE_c\", \"name\": \"SHIKIMATE_c\", \"node_is_primary\": false}, \"19\": {\"node_type\": \"metabolite\", \"x\": 1980.0, \"y\": 300.0, \"label_x\": 1950.0, \"label_y\": 280.0, \"bigg_id\": \"nadp_c\", \"name\": \"nadp_c\", \"node_is_primary\": false}, \"20\": {\"node_type\": \"metabolite\", \"x\": 2500.0, \"y\": 112.5, \"label_x\": 2470.0, \"label_y\": 92.5, \"bigg_id\": \"3_DEHYDRO_SHIKIMATE_c\", \"name\": \"3_DEHYDRO_SHIKIMATE_c\", \"node_is_primary\": false}, \"21\": {\"node_type\": \"metabolite\", \"x\": 2500.0, \"y\": 225.0, \"label_x\": 2470.0, \"label_y\": 205.0, \"bigg_id\": \"h_c\", \"name\": \"h_c\", \"node_is_primary\": false}, \"22\": {\"node_type\": \"metabolite\", \"x\": 2500.0, \"y\": 337.5, \"label_x\": 2470.0, \"label_y\": 317.5, \"bigg_id\": \"nadph_c\", \"name\": \"nadph_c\", \"node_is_primary\": false}, \"23\": {\"node_type\": \"multimarker\", \"x\": 2285.0, \"y\": 225.0}, \"24\": {\"node_type\": \"midmarker\", \"x\": 2305.0, \"y\": 225.0}, \"25\": {\"node_type\": \"multimarker\", \"x\": 2325.0, \"y\": 225.0}, \"26\": {\"node_type\": \"metabolite\", \"x\": 2630.0, \"y\": 150.0, \"label_x\": 2600.0, \"label_y\": 130.0, \"bigg_id\": \"SHIKIMATE_c\", \"name\": \"SHIKIMATE_c\", \"node_is_primary\": false}, \"27\": {\"node_type\": \"metabolite\", \"x\": 2630.0, \"y\": 300.0, \"label_x\": 2600.0, \"label_y\": 280.0, \"bigg_id\": \"atp_c\", \"name\": \"atp_c\", \"node_is_primary\": false}, \"28\": {\"node_type\": \"metabolite\", \"x\": 3150.0, \"y\": 112.5, \"label_x\": 3120.0, \"label_y\": 92.5, \"bigg_id\": \"SHIKIMATE_5P_c\", \"name\": \"SHIKIMATE_5P_c\", \"node_is_primary\": false}, \"29\": {\"node_type\": \"metabolite\", \"x\": 3150.0, \"y\": 225.0, \"label_x\": 3120.0, \"label_y\": 205.0, \"bigg_id\": \"adp_c\", \"name\": \"adp_c\", \"node_is_primary\": false}, \"30\": {\"node_type\": \"metabolite\", \"x\": 3150.0, \"y\": 337.5, \"label_x\": 3120.0, \"label_y\": 317.5, \"bigg_id\": \"h_c\", \"name\": \"h_c\", \"node_is_primary\": false}, \"31\": {\"node_type\": \"multimarker\", \"x\": 2935.0, \"y\": 225.0}, \"32\": {\"node_type\": \"midmarker\", \"x\": 2955.0, \"y\": 225.0}, \"33\": {\"node_type\": \"multimarker\", \"x\": 2975.0, \"y\": 225.0}, \"34\": {\"node_type\": \"metabolite\", \"x\": 3280.0, \"y\": 300.0, \"label_x\": 3250.0, \"label_y\": 280.0, \"bigg_id\": \"pep_c\", \"name\": \"pep_c\", \"node_is_primary\": false}, \"35\": {\"node_type\": \"metabolite\", \"x\": 3800.0, \"y\": 150.0, \"label_x\": 3770.0, \"label_y\": 130.0, \"bigg_id\": \"3_ENOLPYRUVYL_SHIKIMATE_5P_c\", \"name\": \"3_ENOLPYRUVYL_SHIKIMATE_5P_c\", \"node_is_primary\": false}, \"36\": {\"node_type\": \"metabolite\", \"x\": 3800.0, \"y\": 300.0, \"label_x\": 3770.0, \"label_y\": 280.0, \"bigg_id\": \"pi_c\", \"name\": \"pi_c\", \"node_is_primary\": false}, \"37\": {\"node_type\": \"multimarker\", \"x\": 3585.0, \"y\": 225.0}, \"38\": {\"node_type\": \"midmarker\", \"x\": 3605.0, \"y\": 225.0}, \"39\": {\"node_type\": \"multimarker\", \"x\": 3625.0, \"y\": 225.0}, \"40\": {\"node_type\": \"metabolite\", \"x\": 4450.0, \"y\": 150.0, \"label_x\": 4420.0, \"label_y\": 130.0, \"bigg_id\": \"CHORISMATE_c\", \"name\": \"CHORISMATE_c\", \"node_is_primary\": false}, \"41\": {\"node_type\": \"metabolite\", \"x\": 4450.0, \"y\": 300.0, \"label_x\": 4420.0, \"label_y\": 280.0, \"bigg_id\": \"pi_c\", \"name\": \"pi_c\", \"node_is_primary\": false}, \"42\": {\"node_type\": \"multimarker\", \"x\": 4235.0, \"y\": 225.0}, \"43\": {\"node_type\": \"midmarker\", \"x\": 4255.0, \"y\": 225.0}, \"44\": {\"node_type\": \"multimarker\", \"x\": 4275.0, \"y\": 225.0}}, \"text_labels\": {}, \"canvas\": {\"x\": 0, \"y\": 0, \"width\": 4550, \"height\": 450}}]",
       "_loaded_model_json": null,
       "allow_building_duplicate_reactions": false,
       "and_method_in_gene_reaction_rule": "mean",
       "canvas_size_and_loc": null,
       "cofactors": [
        "atp",
        "adp",
        "nad",
        "nadh",
        "nadp",
        "nadph",
        "gtp",
        "gdp",
        "h",
        "coa",
        "ump",
        "h2o",
        "ppi"
       ],
       "disabled_buttons": [
        "Clear gene data",
        "Clear metabolite data"
       ],
       "embedded_css": null,
       "enable_editing": true,
       "enable_keys": false,
       "enable_keys_with_tooltip": true,
       "enable_search": true,
       "enable_tooltips": false,
       "full_screen_button": {
        "enable_editing": true,
        "enable_keys": true,
        "enable_tooltips": [
         "label"
        ],
        "menu": "all",
        "scroll_behavior": "pan"
       },
       "gene_data": null,
       "gene_font_size": 18,
       "height": 500,
       "hide_all_labels": false,
       "hide_secondary_metabolites": false,
       "highlight_missing": false,
       "identifiers_on_map": "bigg_id",
       "layout": "IPY_MODEL_e022ca255d504d5499c7f3527bd7d37a",
       "marker_radius": 5,
       "menu": "all",
       "metabolite_compare_style": "log2_fold",
       "metabolite_data": null,
       "metabolite_no_data_color": "#ffffff",
       "metabolite_no_data_size": 10,
       "metabolite_scale": [
        {
         "color": "#fffaf0",
         "size": 20,
         "type": "min"
        },
        {
         "color": "#f1c470",
         "size": 30,
         "type": "median"
        },
        {
         "color": "#800000",
         "size": 40,
         "type": "max"
        }
       ],
       "metabolite_scale_preset": "WhYlRd",
       "metabolite_styles": [
        "color",
        "size",
        "text"
       ],
       "never_ask_before_quit": false,
       "primary_metabolite_radius": 20,
       "reaction_compare_style": "log2_fold",
       "reaction_data": {
        "2.5.1.19_RXN_c": 0,
        "3_DEHYDROQUINATE_DEHYDRATASE_RXN_c": 0.0024030054219134293,
        "3_DEHYDROQUINATE_SYNTHASE_RXN_c": 0.002403005421914144,
        "ACALD": -12.03976080152985,
        "ACALDt": 1.5948213258617017e-15,
        "ACKr": -12.425016580979458,
        "ACONTa": 0.3925323075343888,
        "ACONTb": 0.3925323075343888,
        "ACt2r": -12.425016580979458,
        "ADK1": 0,
        "AKGDH": 0,
        "AKGt2r": 0,
        "ALCD2x": -12.039760801529852,
        "ATPM": 8.39,
        "ATPS4r": -8.825370046098216,
        "Biomass_Ecoli_core": 0,
        "Biomass_Ecoli_core_SA3": 0,
        "Biomass_Ecoli_core_W3110": 0.36382640423986407,
        "CHORISMATE_SYNTHASE_RXN_c": 0,
        "CO2t": 0.650048636455365,
        "CS": 0.3925323075343888,
        "CYTBD": 0,
        "DAHPSYN_RXN_c": 0.002403005421914144,
        "D_LACt2": 0,
        "ENO": 28.48535196163712,
        "ETOHt2r": -12.039760801529853,
        "EX_ac_e": 12.425016580979458,
        "EX_acald_e": 0,
        "EX_akg_e": 0,
        "EX_co2_e": -0.650048636455365,
        "EX_etoh_e": 12.039760801529852,
        "EX_for_e": 26.220858287853854,
        "EX_fru_e": 0,
        "EX_fum_e": 0,
        "EX_glc__D_e": -15,
        "EX_gln__L_e": 0,
        "EX_glu__L_e": 0,
        "EX_h2o_e": -10.034746368096503,
        "EX_h_e": 45.94663554330687,
        "EX_lac__D_e": 0,
        "EX_mal__L_e": 0,
        "EX_nh4_e": -1.9838726170391372,
        "EX_o2_e": 0,
        "EX_pi_e": -1.3384081932771719,
        "EX_pyr_e": 0,
        "EX_succ_e": 0,
        "FBA": 14.637300873895308,
        "FBP": 0,
        "FORt2": 0,
        "FORti": 26.220858287853854,
        "FRD7": 0,
        "FRUpts2": 0,
        "FUM": 0,
        "FUMt2_2": 0,
        "G6PDH2r": 0,
        "GAPD": 29.029636262379956,
        "GLCpts": 15,
        "GLNS": 0.09303041156413322,
        "GLNabc": 0,
        "GLUDy": -1.8908422054749972,
        "GLUN": 0,
        "GLUSy": 0,
        "GLUt2r": 0,
        "GND": 0,
        "H2Ot": 10.034746368096503,
        "ICDHyr": 0.3925323075343888,
        "ICL": 0,
        "LDH_D": 0,
        "MALS": 0,
        "MALt2_2": 0,
        "MDH": 0,
        "ME1": 0,
        "ME2": 0,
        "NADH16": 0,
        "NADTRHD": 0,
        "NH4t": 1.9838726170391372,
        "O2t": 0,
        "PDH": 0,
        "PFK": 14.637300873895308,
        "PFL": 26.220858287853854,
        "PGI": 14.92541558713083,
        "PGK": -29.02963626237996,
        "PGL": 0,
        "PGM": -28.48535196163712,
        "PIt2r": 1.3384081932771719,
        "PPC": 1.0425809439897533,
        "PPCK": 0,
        "PPS": 0,
        "PTAr": 12.425016580979458,
        "PYK": 12.25150572578454,
        "PYRt2": 0,
        "RPE": -0.2623194211749188,
        "RPI": -0.262319421174919,
        "SHIKIMATE_5_DEHYDROGENASE_RXN_c": -0.00240300542191755,
        "SHIKIMATE_KINASE_RXN_c": 0,
        "SK_CHORISMATE_c": 0,
        "SUCCt2_2": 0,
        "SUCCt3": 0,
        "SUCDi": 0,
        "SUCOAS": 0,
        "TALA": -0.06428754191120688,
        "THD2": 6.240606915159051,
        "TKT1": -0.06428754191120695,
        "TKT2": -0.19803187926371205,
        "TPI": 14.637300873895308
       },
       "reaction_no_data_color": "#dcdcdc",
       "reaction_no_data_size": 8,
       "reaction_scale": [
        {
         "color": "rgb(222,201,201)",
         "type": "value",
         "value": 1.5948213258617017e-15
        },
        {
         "color": "rgb(225,183,183)",
         "type": "value",
         "value": 0.0024030054219134293
        },
        {
         "color": "rgb(228,165,165)",
         "type": "value",
         "value": 0.002403005421914144
        },
        {
         "color": "rgb(231,146,146)",
         "type": "value",
         "value": 0.002403005421914144
        },
        {
         "color": "rgb(234,128,128)",
         "type": "value",
         "value": 0.09303041156413322
        },
        {
         "color": "rgb(237,110,110)",
         "type": "value",
         "value": 0.36382640423986407
        },
        {
         "color": "rgb(240,91,91)",
         "type": "value",
         "value": 0.3925323075343888
        },
        {
         "color": "rgb(243,73,73)",
         "type": "value",
         "value": 0.3925323075343888
        },
        {
         "color": "rgb(246,55,55)",
         "type": "value",
         "value": 0.3925323075343888
        },
        {
         "color": "rgb(249,36,36)",
         "type": "value",
         "value": 0.3925323075343888
        },
        {
         "color": "rgb(252,18,18)",
         "type": "value",
         "value": 0.650048636455365
        },
        {
         "color": "rgb(255,0,0)",
         "type": "value",
         "value": 1
        },
        {
         "color": "rgb(220,220,220)",
         "type": "value",
         "value": 0
        },
        {
         "color": "rgb(192,192,224)",
         "type": "value",
         "value": -0.00240300542191755
        },
        {
         "color": "rgb(165,165,228)",
         "type": "value",
         "value": -0.06428754191120688
        },
        {
         "color": "rgb(137,137,233)",
         "type": "value",
         "value": -0.06428754191120707
        },
        {
         "color": "rgb(110,110,237)",
         "type": "value",
         "value": -0.19803187926371205
        },
        {
         "color": "rgb(82,82,241)",
         "type": "value",
         "value": -0.2623194211749188
        },
        {
         "color": "rgb(55,55,246)",
         "type": "value",
         "value": -0.262319421174919
        },
        {
         "color": "rgb(27,27,250)",
         "type": "value",
         "value": -0.650048636455365
        },
        {
         "color": "rgb(0,0,255)",
         "type": "value",
         "value": -1
        }
       ],
       "reaction_scale_preset": null,
       "reaction_styles": [
        "color",
        "text"
       ],
       "scroll_behavior": "none",
       "secondary_metabolite_radius": 10,
       "semantic_zoom": null,
       "show_gene_reaction_rules": false,
       "starting_reaction": null,
       "use_3d_transform": false,
       "zoom_to_element": null
      }
     },
     "edb40b7b8dcb469abb84575c3298fc43": {
      "model_module": "escher",
      "model_module_version": "1.7.3",
      "model_name": "EscherMapModel",
      "state": {
       "_loaded_map_json": "[{\"map_name\": \"\", \"map_id\": \"\", \"map_description\": \"\", \"homepage\": \"\", \"schema\": \"https://escher.github.io/escher/jsonschema/1-0-0#\"}, {\"reactions\": {\"0\": {\"name\": \"DAHPSYN_RXN_c\", \"bigg_id\": \"DAHPSYN_RXN_c\", \"reversibility\": true, \"label_x\": 208.0, \"label_y\": 45.0, \"gene_reaction_rule\": \"\", \"genes\": [], \"segments\": {\"0\": {\"from_node_id\": \"5\", \"to_node_id\": \"6\", \"b1\": null, \"b2\": null}, \"1\": {\"from_node_id\": \"7\", \"to_node_id\": \"6\", \"b1\": null, \"b2\": null}, \"2\": {\"from_node_id\": \"0\", \"to_node_id\": \"5\", \"b1\": null, \"b2\": null}, \"3\": {\"from_node_id\": \"1\", \"to_node_id\": \"5\", \"b1\": null, \"b2\": null}, \"4\": {\"from_node_id\": \"2\", \"to_node_id\": \"5\", \"b1\": null, \"b2\": null}, \"5\": {\"from_node_id\": \"3\", \"to_node_id\": \"7\", \"b1\": null, \"b2\": null}, \"6\": {\"from_node_id\": \"4\", \"to_node_id\": \"7\", \"b1\": null, \"b2\": null}}, \"metabolites\": [{\"bigg_id\": \"e4p_c\", \"coefficient\": -1.0}, {\"bigg_id\": \"h2o_c\", \"coefficient\": -1.0}, {\"bigg_id\": \"pep_c\", \"coefficient\": -1.0}, {\"bigg_id\": \"3_DEOXY_D_ARABINO_HEPTULOSONATE_7_P_c\", \"coefficient\": 1.0}, {\"bigg_id\": \"pi_c\", \"coefficient\": 1.0}]}, \"1\": {\"name\": \"3_DEHYDROQUINATE_SYNTHASE_RXN_c\", \"bigg_id\": \"3_DEHYDROQUINATE_SYNTHASE_RXN_c\", \"reversibility\": true, \"label_x\": 696.0, \"label_y\": 45.0, \"gene_reaction_rule\": \"\", \"genes\": [], \"segments\": {\"7\": {\"from_node_id\": \"10\", \"to_node_id\": \"11\", \"b1\": null, \"b2\": null}, \"8\": {\"from_node_id\": \"12\", \"to_node_id\": \"11\", \"b1\": null, \"b2\": null}, \"9\": {\"from_node_id\": \"3\", \"to_node_id\": \"10\", \"b1\": null, \"b2\": null}, \"10\": {\"from_node_id\": \"8\", \"to_node_id\": \"12\", \"b1\": null, \"b2\": null}, \"11\": {\"from_node_id\": \"9\", \"to_node_id\": \"12\", \"b1\": null, \"b2\": null}}, \"metabolites\": [{\"bigg_id\": \"3_DEOXY_D_ARABINO_HEPTULOSONATE_7_P_c\", \"coefficient\": -1.0}, {\"bigg_id\": \"DEHYDROQUINATE_c\", \"coefficient\": 1.0}, {\"bigg_id\": \"pi_c\", \"coefficient\": 1.0}]}, \"2\": {\"name\": \"3_DEHYDROQUINATE_DEHYDRATASE_RXN_c\", \"bigg_id\": \"3_DEHYDROQUINATE_DEHYDRATASE_RXN_c\", \"reversibility\": true, \"label_x\": 1319.0, \"label_y\": 45.0, \"gene_reaction_rule\": \"\", \"genes\": [], \"segments\": {\"12\": {\"from_node_id\": \"15\", \"to_node_id\": \"16\", \"b1\": null, \"b2\": null}, \"13\": {\"from_node_id\": \"17\", \"to_node_id\": \"16\", \"b1\": null, \"b2\": null}, \"14\": {\"from_node_id\": \"8\", \"to_node_id\": \"15\", \"b1\": null, \"b2\": null}, \"15\": {\"from_node_id\": \"13\", \"to_node_id\": \"17\", \"b1\": null, \"b2\": null}, \"16\": {\"from_node_id\": \"14\", \"to_node_id\": \"17\", \"b1\": null, \"b2\": null}}, \"metabolites\": [{\"bigg_id\": \"DEHYDROQUINATE_c\", \"coefficient\": -1.0}, {\"bigg_id\": \"3_DEHYDRO_SHIKIMATE_c\", \"coefficient\": 1.0}, {\"bigg_id\": \"h2o_c\", \"coefficient\": 1.0}]}, \"3\": {\"name\": \"SHIKIMATE_5_DEHYDROGENASE_RXN_c\", \"bigg_id\": \"SHIKIMATE_5_DEHYDROGENASE_RXN_c\", \"reversibility\": true, \"label_x\": 1996.0, \"label_y\": 45.0, \"gene_reaction_rule\": \"\", \"genes\": [], \"segments\": {\"17\": {\"from_node_id\": \"23\", \"to_node_id\": \"24\", \"b1\": null, \"b2\": null}, \"18\": {\"from_node_id\": \"25\", \"to_node_id\": \"24\", \"b1\": null, \"b2\": null}, \"19\": {\"from_node_id\": \"18\", \"to_node_id\": \"23\", \"b1\": null, \"b2\": null}, \"20\": {\"from_node_id\": \"19\", \"to_node_id\": \"23\", \"b1\": null, \"b2\": null}, \"21\": {\"from_node_id\": \"20\", \"to_node_id\": \"25\", \"b1\": null, \"b2\": null}, \"22\": {\"from_node_id\": \"21\", \"to_node_id\": \"25\", \"b1\": null, \"b2\": null}, \"23\": {\"from_node_id\": \"22\", \"to_node_id\": \"25\", \"b1\": null, \"b2\": null}}, \"metabolites\": [{\"bigg_id\": \"SHIKIMATE_c\", \"coefficient\": -1.0}, {\"bigg_id\": \"nadp_c\", \"coefficient\": -1.0}, {\"bigg_id\": \"3_DEHYDRO_SHIKIMATE_c\", \"coefficient\": 1.0}, {\"bigg_id\": \"h_c\", \"coefficient\": 1.0}, {\"bigg_id\": \"nadph_c\", \"coefficient\": 1.0}]}, \"4\": {\"name\": \"SHIKIMATE_KINASE_RXN_c\", \"bigg_id\": \"SHIKIMATE_KINASE_RXN_c\", \"reversibility\": true, \"label_x\": 2727.0, \"label_y\": 45.0, \"gene_reaction_rule\": \"\", \"genes\": [], \"segments\": {\"24\": {\"from_node_id\": \"31\", \"to_node_id\": \"32\", \"b1\": null, \"b2\": null}, \"25\": {\"from_node_id\": \"33\", \"to_node_id\": \"32\", \"b1\": null, \"b2\": null}, \"26\": {\"from_node_id\": \"26\", \"to_node_id\": \"31\", \"b1\": null, \"b2\": null}, \"27\": {\"from_node_id\": \"27\", \"to_node_id\": \"31\", \"b1\": null, \"b2\": null}, \"28\": {\"from_node_id\": \"28\", \"to_node_id\": \"33\", \"b1\": null, \"b2\": null}, \"29\": {\"from_node_id\": \"29\", \"to_node_id\": \"33\", \"b1\": null, \"b2\": null}, \"30\": {\"from_node_id\": \"30\", \"to_node_id\": \"33\", \"b1\": null, \"b2\": null}}, \"metabolites\": [{\"bigg_id\": \"SHIKIMATE_c\", \"coefficient\": -1.0}, {\"bigg_id\": \"atp_c\", \"coefficient\": -1.0}, {\"bigg_id\": \"SHIKIMATE_5P_c\", \"coefficient\": 1.0}, {\"bigg_id\": \"adp_c\", \"coefficient\": 1.0}, {\"bigg_id\": \"h_c\", \"coefficient\": 1.0}]}, \"5\": {\"name\": \"2.5.1.19_RXN_c\", \"bigg_id\": \"2.5.1.19_RXN_c\", \"reversibility\": true, \"label_x\": 3449.0, \"label_y\": 45.0, \"gene_reaction_rule\": \"\", \"genes\": [], \"segments\": {\"31\": {\"from_node_id\": \"37\", \"to_node_id\": \"38\", \"b1\": null, \"b2\": null}, \"32\": {\"from_node_id\": \"39\", \"to_node_id\": \"38\", \"b1\": null, \"b2\": null}, \"33\": {\"from_node_id\": \"28\", \"to_node_id\": \"37\", \"b1\": null, \"b2\": null}, \"34\": {\"from_node_id\": \"34\", \"to_node_id\": \"37\", \"b1\": null, \"b2\": null}, \"35\": {\"from_node_id\": \"35\", \"to_node_id\": \"39\", \"b1\": null, \"b2\": null}, \"36\": {\"from_node_id\": \"36\", \"to_node_id\": \"39\", \"b1\": null, \"b2\": null}}, \"metabolites\": [{\"bigg_id\": \"SHIKIMATE_5P_c\", \"coefficient\": -1.0}, {\"bigg_id\": \"pep_c\", \"coefficient\": -1.0}, {\"bigg_id\": \"3_ENOLPYRUVYL_SHIKIMATE_5P_c\", \"coefficient\": 1.0}, {\"bigg_id\": \"pi_c\", \"coefficient\": 1.0}]}, \"6\": {\"name\": \"CHORISMATE_SYNTHASE_RXN_c\", \"bigg_id\": \"CHORISMATE_SYNTHASE_RXN_c\", \"reversibility\": true, \"label_x\": 4000.0, \"label_y\": 45.0, \"gene_reaction_rule\": \"\", \"genes\": [], \"segments\": {\"37\": {\"from_node_id\": \"42\", \"to_node_id\": \"43\", \"b1\": null, \"b2\": null}, \"38\": {\"from_node_id\": \"44\", \"to_node_id\": \"43\", \"b1\": null, \"b2\": null}, \"39\": {\"from_node_id\": \"35\", \"to_node_id\": \"42\", \"b1\": null, \"b2\": null}, \"40\": {\"from_node_id\": \"40\", \"to_node_id\": \"44\", \"b1\": null, \"b2\": null}, \"41\": {\"from_node_id\": \"41\", \"to_node_id\": \"44\", \"b1\": null, \"b2\": null}}, \"metabolites\": [{\"bigg_id\": \"3_ENOLPYRUVYL_SHIKIMATE_5P_c\", \"coefficient\": -1.0}, {\"bigg_id\": \"CHORISMATE_c\", \"coefficient\": 1.0}, {\"bigg_id\": \"pi_c\", \"coefficient\": 1.0}]}}, \"nodes\": {\"0\": {\"node_type\": \"metabolite\", \"x\": 30.0, \"y\": 112.5, \"label_x\": 0.0, \"label_y\": 92.5, \"bigg_id\": \"e4p_c\", \"name\": \"e4p_c\", \"node_is_primary\": false}, \"1\": {\"node_type\": \"metabolite\", \"x\": 30.0, \"y\": 225.0, \"label_x\": 0.0, \"label_y\": 205.0, \"bigg_id\": \"h2o_c\", \"name\": \"h2o_c\", \"node_is_primary\": false}, \"2\": {\"node_type\": \"metabolite\", \"x\": 30.0, \"y\": 337.5, \"label_x\": 0.0, \"label_y\": 317.5, \"bigg_id\": \"pep_c\", \"name\": \"pep_c\", \"node_is_primary\": false}, \"3\": {\"node_type\": \"metabolite\", \"x\": 550.0, \"y\": 150.0, \"label_x\": 520.0, \"label_y\": 130.0, \"bigg_id\": \"3_DEOXY_D_ARABINO_HEPTULOSONATE_7_P_c\", \"name\": \"3_DEOXY_D_ARABINO_HEPTULOSONATE_7_P_c\", \"node_is_primary\": false}, \"4\": {\"node_type\": \"metabolite\", \"x\": 550.0, \"y\": 300.0, \"label_x\": 520.0, \"label_y\": 280.0, \"bigg_id\": \"pi_c\", \"name\": \"pi_c\", \"node_is_primary\": false}, \"5\": {\"node_type\": \"multimarker\", \"x\": 335.0, \"y\": 225.0}, \"6\": {\"node_type\": \"midmarker\", \"x\": 355.0, \"y\": 225.0}, \"7\": {\"node_type\": \"multimarker\", \"x\": 375.0, \"y\": 225.0}, \"8\": {\"node_type\": \"metabolite\", \"x\": 1200.0, \"y\": 150.0, \"label_x\": 1170.0, \"label_y\": 130.0, \"bigg_id\": \"DEHYDROQUINATE_c\", \"name\": \"DEHYDROQUINATE_c\", \"node_is_primary\": false}, \"9\": {\"node_type\": \"metabolite\", \"x\": 1200.0, \"y\": 300.0, \"label_x\": 1170.0, \"label_y\": 280.0, \"bigg_id\": \"pi_c\", \"name\": \"pi_c\", \"node_is_primary\": false}, \"10\": {\"node_type\": \"multimarker\", \"x\": 985.0, \"y\": 225.0}, \"11\": {\"node_type\": \"midmarker\", \"x\": 1005.0, \"y\": 225.0}, \"12\": {\"node_type\": \"multimarker\", \"x\": 1025.0, \"y\": 225.0}, \"13\": {\"node_type\": \"metabolite\", \"x\": 1850.0, \"y\": 150.0, \"label_x\": 1820.0, \"label_y\": 130.0, \"bigg_id\": \"3_DEHYDRO_SHIKIMATE_c\", \"name\": \"3_DEHYDRO_SHIKIMATE_c\", \"node_is_primary\": false}, \"14\": {\"node_type\": \"metabolite\", \"x\": 1850.0, \"y\": 300.0, \"label_x\": 1820.0, \"label_y\": 280.0, \"bigg_id\": \"h2o_c\", \"name\": \"h2o_c\", \"node_is_primary\": false}, \"15\": {\"node_type\": \"multimarker\", \"x\": 1635.0, \"y\": 225.0}, \"16\": {\"node_type\": \"midmarker\", \"x\": 1655.0, \"y\": 225.0}, \"17\": {\"node_type\": \"multimarker\", \"x\": 1675.0, \"y\": 225.0}, \"18\": {\"node_type\": \"metabolite\", \"x\": 1980.0, \"y\": 150.0, \"label_x\": 1950.0, \"label_y\": 130.0, \"bigg_id\": \"SHIKIMATE_c\", \"name\": \"SHIKIMATE_c\", \"node_is_primary\": false}, \"19\": {\"node_type\": \"metabolite\", \"x\": 1980.0, \"y\": 300.0, \"label_x\": 1950.0, \"label_y\": 280.0, \"bigg_id\": \"nadp_c\", \"name\": \"nadp_c\", \"node_is_primary\": false}, \"20\": {\"node_type\": \"metabolite\", \"x\": 2500.0, \"y\": 112.5, \"label_x\": 2470.0, \"label_y\": 92.5, \"bigg_id\": \"3_DEHYDRO_SHIKIMATE_c\", \"name\": \"3_DEHYDRO_SHIKIMATE_c\", \"node_is_primary\": false}, \"21\": {\"node_type\": \"metabolite\", \"x\": 2500.0, \"y\": 225.0, \"label_x\": 2470.0, \"label_y\": 205.0, \"bigg_id\": \"h_c\", \"name\": \"h_c\", \"node_is_primary\": false}, \"22\": {\"node_type\": \"metabolite\", \"x\": 2500.0, \"y\": 337.5, \"label_x\": 2470.0, \"label_y\": 317.5, \"bigg_id\": \"nadph_c\", \"name\": \"nadph_c\", \"node_is_primary\": false}, \"23\": {\"node_type\": \"multimarker\", \"x\": 2285.0, \"y\": 225.0}, \"24\": {\"node_type\": \"midmarker\", \"x\": 2305.0, \"y\": 225.0}, \"25\": {\"node_type\": \"multimarker\", \"x\": 2325.0, \"y\": 225.0}, \"26\": {\"node_type\": \"metabolite\", \"x\": 2630.0, \"y\": 150.0, \"label_x\": 2600.0, \"label_y\": 130.0, \"bigg_id\": \"SHIKIMATE_c\", \"name\": \"SHIKIMATE_c\", \"node_is_primary\": false}, \"27\": {\"node_type\": \"metabolite\", \"x\": 2630.0, \"y\": 300.0, \"label_x\": 2600.0, \"label_y\": 280.0, \"bigg_id\": \"atp_c\", \"name\": \"atp_c\", \"node_is_primary\": false}, \"28\": {\"node_type\": \"metabolite\", \"x\": 3150.0, \"y\": 112.5, \"label_x\": 3120.0, \"label_y\": 92.5, \"bigg_id\": \"SHIKIMATE_5P_c\", \"name\": \"SHIKIMATE_5P_c\", \"node_is_primary\": false}, \"29\": {\"node_type\": \"metabolite\", \"x\": 3150.0, \"y\": 225.0, \"label_x\": 3120.0, \"label_y\": 205.0, \"bigg_id\": \"adp_c\", \"name\": \"adp_c\", \"node_is_primary\": false}, \"30\": {\"node_type\": \"metabolite\", \"x\": 3150.0, \"y\": 337.5, \"label_x\": 3120.0, \"label_y\": 317.5, \"bigg_id\": \"h_c\", \"name\": \"h_c\", \"node_is_primary\": false}, \"31\": {\"node_type\": \"multimarker\", \"x\": 2935.0, \"y\": 225.0}, \"32\": {\"node_type\": \"midmarker\", \"x\": 2955.0, \"y\": 225.0}, \"33\": {\"node_type\": \"multimarker\", \"x\": 2975.0, \"y\": 225.0}, \"34\": {\"node_type\": \"metabolite\", \"x\": 3280.0, \"y\": 300.0, \"label_x\": 3250.0, \"label_y\": 280.0, \"bigg_id\": \"pep_c\", \"name\": \"pep_c\", \"node_is_primary\": false}, \"35\": {\"node_type\": \"metabolite\", \"x\": 3800.0, \"y\": 150.0, \"label_x\": 3770.0, \"label_y\": 130.0, \"bigg_id\": \"3_ENOLPYRUVYL_SHIKIMATE_5P_c\", \"name\": \"3_ENOLPYRUVYL_SHIKIMATE_5P_c\", \"node_is_primary\": false}, \"36\": {\"node_type\": \"metabolite\", \"x\": 3800.0, \"y\": 300.0, \"label_x\": 3770.0, \"label_y\": 280.0, \"bigg_id\": \"pi_c\", \"name\": \"pi_c\", \"node_is_primary\": false}, \"37\": {\"node_type\": \"multimarker\", \"x\": 3585.0, \"y\": 225.0}, \"38\": {\"node_type\": \"midmarker\", \"x\": 3605.0, \"y\": 225.0}, \"39\": {\"node_type\": \"multimarker\", \"x\": 3625.0, \"y\": 225.0}, \"40\": {\"node_type\": \"metabolite\", \"x\": 4450.0, \"y\": 150.0, \"label_x\": 4420.0, \"label_y\": 130.0, \"bigg_id\": \"CHORISMATE_c\", \"name\": \"CHORISMATE_c\", \"node_is_primary\": false}, \"41\": {\"node_type\": \"metabolite\", \"x\": 4450.0, \"y\": 300.0, \"label_x\": 4420.0, \"label_y\": 280.0, \"bigg_id\": \"pi_c\", \"name\": \"pi_c\", \"node_is_primary\": false}, \"42\": {\"node_type\": \"multimarker\", \"x\": 4235.0, \"y\": 225.0}, \"43\": {\"node_type\": \"midmarker\", \"x\": 4255.0, \"y\": 225.0}, \"44\": {\"node_type\": \"multimarker\", \"x\": 4275.0, \"y\": 225.0}}, \"text_labels\": {}, \"canvas\": {\"x\": 0, \"y\": 0, \"width\": 4550, \"height\": 450}}]",
       "_loaded_model_json": null,
       "allow_building_duplicate_reactions": false,
       "and_method_in_gene_reaction_rule": "mean",
       "canvas_size_and_loc": null,
       "cofactors": [
        "atp",
        "adp",
        "nad",
        "nadh",
        "nadp",
        "nadph",
        "gtp",
        "gdp",
        "h",
        "coa",
        "ump",
        "h2o",
        "ppi"
       ],
       "disabled_buttons": [
        "Clear gene data",
        "Clear metabolite data"
       ],
       "embedded_css": null,
       "enable_editing": true,
       "enable_keys": false,
       "enable_keys_with_tooltip": true,
       "enable_search": true,
       "enable_tooltips": false,
       "full_screen_button": {
        "enable_editing": true,
        "enable_keys": true,
        "enable_tooltips": [
         "label"
        ],
        "menu": "all",
        "scroll_behavior": "pan"
       },
       "gene_data": null,
       "gene_font_size": 18,
       "height": 500,
       "hide_all_labels": false,
       "hide_secondary_metabolites": false,
       "highlight_missing": false,
       "identifiers_on_map": "bigg_id",
       "layout": "IPY_MODEL_31ddea2693204e6f8b1127c8fb013e86",
       "marker_radius": 5,
       "menu": "all",
       "metabolite_compare_style": "log2_fold",
       "metabolite_data": null,
       "metabolite_no_data_color": "#ffffff",
       "metabolite_no_data_size": 10,
       "metabolite_scale": [
        {
         "color": "#fffaf0",
         "size": 20,
         "type": "min"
        },
        {
         "color": "#f1c470",
         "size": 30,
         "type": "median"
        },
        {
         "color": "#800000",
         "size": 40,
         "type": "max"
        }
       ],
       "metabolite_scale_preset": "WhYlRd",
       "metabolite_styles": [
        "color",
        "size",
        "text"
       ],
       "never_ask_before_quit": false,
       "primary_metabolite_radius": 20,
       "reaction_compare_style": "log2_fold",
       "reaction_data": {
        "2.5.1.19_RXN_c": 0,
        "3_DEHYDROQUINATE_DEHYDRATASE_RXN_c": 0.4646347247614127,
        "3_DEHYDROQUINATE_SYNTHASE_RXN_c": 0.4646347247614135,
        "ACALD": -11.706838677509918,
        "ACALDt": 1.5948213258617017e-15,
        "ACKr": -12.065214128606211,
        "ACONTa": 0.36514427631298446,
        "ACONTb": 0.3651442763129845,
        "ACt2r": -12.065214128606211,
        "ADK1": 0,
        "AKGDH": 0,
        "AKGt2r": 0,
        "ALCD2x": -11.70683867750992,
        "ATPM": 8.39,
        "ATPS4r": -8.683180924960366,
        "Biomass_Ecoli_core": 0,
        "Biomass_Ecoli_core_SA3": 0.3384412608332341,
        "Biomass_Ecoli_core_W3110": 0,
        "CHORISMATE_SYNTHASE_RXN_c": 0,
        "CO2t": 0.6046930007307195,
        "CS": 0.36514427631298446,
        "CYTBD": 0,
        "DAHPSYN_RXN_c": 0.4646347247614135,
        "D_LACt2": 0,
        "ENO": 27.974500503771917,
        "ETOHt2r": -11.706838677509921,
        "EX_ac_e": 12.065214128606211,
        "EX_acald_e": 0,
        "EX_akg_e": 0,
        "EX_co2_e": -0.6046930007307195,
        "EX_etoh_e": 11.706838677509923,
        "EX_for_e": 25.40560723977987,
        "EX_fru_e": 0,
        "EX_fum_e": 0,
        "EX_glc__D_e": -15,
        "EX_gln__L_e": 0,
        "EX_glu__L_e": 0,
        "EX_h2o_e": -8.91692070830452,
        "EX_h_e": 44.72458778546264,
        "EX_lac__D_e": 0,
        "EX_mal__L_e": 0,
        "EX_nh4_e": -1.8454525070714527,
        "EX_o2_e": 0,
        "EX_pi_e": -1.2450238662272328,
        "EX_pyr_e": 0,
        "EX_succ_e": 0,
        "FBA": 14.508474236262028,
        "FBP": 0,
        "FORt2": 0,
        "FORti": 25.40560723977987,
        "FRD7": 0,
        "FRUpts2": 0,
        "FUM": 0,
        "FUMt2_2": 0,
        "G6PDH2r": 0,
        "GAPD": 28.480808629978434,
        "GLCpts": 14.999999999999996,
        "GLNS": 0.08653943039506001,
        "GLNabc": 0,
        "GLUDy": -1.7589130766763885,
        "GLUN": 0,
        "GLUSy": 0,
        "GLUt2r": 1.4034797630313519e-14,
        "GND": 0,
        "H2Ot": 8.91692070830452,
        "ICDHyr": 0.3651442763129845,
        "ICL": 0,
        "LDH_D": 0,
        "MALS": 0,
        "MALt2_2": 0,
        "MDH": 3.211490271802834e-14,
        "ME1": 0,
        "ME2": 0,
        "NADH16": 0,
        "NADTRHD": 0,
        "NH4t": 1.8454525070714527,
        "O2t": 0,
        "PDH": 0,
        "PFK": 14.508474236262028,
        "PFL": 25.40560723977987,
        "PGI": 14.93061954152917,
        "PGK": -28.480808629978437,
        "PGL": 0,
        "PGM": -27.974500503771917,
        "PIt2r": 1.2450238662272328,
        "PPC": 0.9698372770437376,
        "PPCK": 0,
        "PPS": 0,
        "PTAr": 12.065214128606211,
        "PYK": 11.364343643468237,
        "PYRt2": 0,
        "RPE": -0.3981498198740608,
        "RPI": -0.39814981987406833,
        "SHIKIMATE_5_DEHYDROGENASE_RXN_c": -0.4646347247612558,
        "SHIKIMATE_KINASE_RXN_c": 0,
        "SK_CHORISMATE_c": 0,
        "SUCCt2_2": 0,
        "SUCCt3": 0,
        "SUCDi": 0,
        "SUCOAS": 0,
        "TALA": 0.09433110002407664,
        "THD2": 6.26758242713395,
        "TKT1": 0.09433110002407401,
        "TKT2": -0.4924809198981324,
        "TPI": 14.508474236262028
       },
       "reaction_no_data_color": "#dcdcdc",
       "reaction_no_data_size": 8,
       "reaction_scale": [
        {
         "color": "rgb(222,207,207)",
         "type": "value",
         "value": 1.5948213258617017e-15
        },
        {
         "color": "rgb(224,194,194)",
         "type": "value",
         "value": 1.4034797630313519e-14
        },
        {
         "color": "rgb(226,181,181)",
         "type": "value",
         "value": 3.211490271802834e-14
        },
        {
         "color": "rgb(228,168,168)",
         "type": "value",
         "value": 0.08653943039506001
        },
        {
         "color": "rgb(230,155,155)",
         "type": "value",
         "value": 0.09433110002407401
        },
        {
         "color": "rgb(232,142,142)",
         "type": "value",
         "value": 0.09433110002407664
        },
        {
         "color": "rgb(234,129,129)",
         "type": "value",
         "value": 0.3384412608332341
        },
        {
         "color": "rgb(236,116,116)",
         "type": "value",
         "value": 0.36514427631298446
        },
        {
         "color": "rgb(238,103,103)",
         "type": "value",
         "value": 0.36514427631298446
        },
        {
         "color": "rgb(240,90,90)",
         "type": "value",
         "value": 0.3651442763129845
        },
        {
         "color": "rgb(242,77,77)",
         "type": "value",
         "value": 0.3651442763129845
        },
        {
         "color": "rgb(244,64,64)",
         "type": "value",
         "value": 0.4646347247614127
        },
        {
         "color": "rgb(246,51,51)",
         "type": "value",
         "value": 0.4646347247614135
        },
        {
         "color": "rgb(248,38,38)",
         "type": "value",
         "value": 0.4646347247614135
        },
        {
         "color": "rgb(250,25,25)",
         "type": "value",
         "value": 0.6046930007307195
        },
        {
         "color": "rgb(252,12,12)",
         "type": "value",
         "value": 0.9698372770437376
        },
        {
         "color": "rgb(254,0,0)",
         "type": "value",
         "value": 1
        },
        {
         "color": "rgb(220,220,220)",
         "type": "value",
         "value": 0
        },
        {
         "color": "rgb(183,183,225)",
         "type": "value",
         "value": -0.3981498198740608
        },
        {
         "color": "rgb(146,146,231)",
         "type": "value",
         "value": -0.39814981987406833
        },
        {
         "color": "rgb(109,109,237)",
         "type": "value",
         "value": -0.4646347247612557
        },
        {
         "color": "rgb(73,73,243)",
         "type": "value",
         "value": -0.4924809198981324
        },
        {
         "color": "rgb(36,36,249)",
         "type": "value",
         "value": -0.6046930007307195
        },
        {
         "color": "rgb(0,0,254)",
         "type": "value",
         "value": -1
        }
       ],
       "reaction_scale_preset": null,
       "reaction_styles": [
        "color",
        "text"
       ],
       "scroll_behavior": "none",
       "secondary_metabolite_radius": 10,
       "semantic_zoom": null,
       "show_gene_reaction_rules": false,
       "starting_reaction": null,
       "use_3d_transform": false,
       "zoom_to_element": null
      }
     },
     "f8e1cda471d6484593ba7bec53738fac": {
      "model_module": "@jupyter-widgets/base",
      "model_module_version": "1.2.0",
      "model_name": "LayoutModel",
      "state": {}
     },
     "fb0e8429d56b4f699b1c2d835db82413": {
      "model_module": "@jupyter-widgets/base",
      "model_module_version": "1.2.0",
      "model_name": "LayoutModel",
      "state": {}
     }
    },
    "version_major": 2,
    "version_minor": 0
   }
  }
 },
 "nbformat": 4,
 "nbformat_minor": 5
}
