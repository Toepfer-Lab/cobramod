{
 "cells": [
  {
   "cell_type": "code",
   "execution_count": 1,
   "id": "bMOOBVzP9ave",
   "metadata": {
    "colab": {
     "base_uri": "https://localhost:8080/"
    },
    "id": "bMOOBVzP9ave",
    "outputId": "d89d67c6-cfcd-4158-e43c-33fb6f556c46"
   },
   "outputs": [
    {
     "name": "stdout",
     "output_type": "stream",
     "text": [
      "CobraMod version: 1.1.2-dev\n",
      "COBRApy version: 0.29.0\n"
     ]
    }
   ],
   "source": [
    "from IPython.display import display\n",
    "from cobramod import __version__\n",
    "from cobra import __version__ as cobra_version\n",
    "print(f'CobraMod version: {__version__}')\n",
    "print(f'COBRApy version: {cobra_version}')\n",
    "# From Escher:\n",
    "# This option turns off the warning message if you leave or refresh this page\n",
    "import escher\n",
    "escher.rc['never_ask_before_quit'] = True"
   ]
  },
  {
   "cell_type": "markdown",
   "id": "SLOGRXdE8zOJ",
   "metadata": {
    "id": "SLOGRXdE8zOJ"
   },
   "source": [
    "\n",
    "# Analyising shikimate production using an *E. coli* core model"
   ]
  },
  {
   "cell_type": "markdown",
   "id": "c25b3164",
   "metadata": {
    "id": "c25b3164"
   },
   "source": [
    "## Introduction\n",
    "\n",
    "In this tutorial we use a core model of [*E. coli*](\n",
    "http://bigg.ucsd.edu/models/e_coli_core\n",
    ") [1] and extend it with the [shikimate synthesis pathway](\n",
    "  https://biocyc.org/ECOLI/NEW-IMAGE?type=PATHWAY&object=ARO-PWY\n",
    "). Shikimate is an important precursor for aromatic compounds such as\n",
    "phenylalanine, tyrosine, and tryptophan. In [this article](\n",
    "https://doi.org/10.1016/j.biortech.2014.05.035) the authors *in vivo*\n",
    "engineered five *E. coli* strains for shikimate overproduction by deactivating\n",
    "genes for the enzymatic regulation of the shikimate metabolism [2].\n",
    "In our test case, we *in silico* compare the control strain (`W3110`) with a strain (`SA3`) from the article. To this end, we use CobraMod to add the shikimate pathway from the BioCyc\n",
    "sub-database [EcoCyc](\n",
    " https://www.ecocyc.org/\n",
    ") to the *E. coli* model. We then simulate and\n",
    "visualize shikimate production for the two strains. The shikimate pathway is shown below and is represented by\n",
    "two sub-pathways with the EcoCyc identifiers [PWY-6164](\n",
    "  https://biocyc.org/ECOLI/NEW-IMAGE?type=PATHWAY&object=PWY-6164\n",
    ") and [PWY-6163](\n",
    "  https://biocyc.org/ECOLI/NEW-IMAGE?type=PATHWAY&object=PWY-6163\n",
    "). \n",
    "\n",
    "<img src=\"https://websvc.biocyc.org/ECOLI/diagram-only?type=PATHWAY&object=ARO-PWY&pfontsize=normal&linear=snake\"/>\n",
    "\n",
    "\n",
    "<table style=\"border-collapse: collapse; width: 100%;\" border=\"1\">\n",
    "<tbody>\n",
    "<tr>\n",
    "<td style=\"width: 33.3333%;\"><strong>Pathway identifier</strong></td>\n",
    "<td style=\"width: 33.3333%;\"><strong>Pathway name</strong></td>\n",
    "</tr>\n",
    "<tr>\n",
    "<td style=\"width: 33.3333%;\">PWY-6164</td>\n",
    "<td style=\"width: 33.3333%;\">3-dehydroquinate biosynthesis I</td>\n",
    "</tr>\n",
    "<tr>\n",
    "<td style=\"width: 33.3333%;\">PWY-6163</td>\n",
    "<td style=\"width: 33.3333%;\">chorismate biosynthesis from 3-dehydroquinate</td>\n",
    "</tr>\n",
    "</tbody>\n",
    "</table>\n",
    "\n"
   ]
  },
  {
   "cell_type": "markdown",
   "id": "GVfuxpKy9Twf",
   "metadata": {
    "id": "GVfuxpKy9Twf"
   },
   "source": [
    "\n",
    "## Loading CobraMod, the *E. coli* model and setting the growth medium for the simulations\n",
    "\n",
    "We use the *E. coli* core model from COBRApy as our model. This core model can be found under `cobramod.test.textbook`. It contains 72\n",
    "metabolites, 95 reactions and 137 genes. We load the function\n",
    "[cobramod.add_pathway()](\n",
    "module/cobramod/index.html#cobramod.add_pathway\n",
    ") and the Python module [pathlib](\n",
    "https://docs.python.org/3/library/pathlib.html\n",
    ") to represent the system path where CobraMod stores the metabolic pathway\n",
    "information. We define the directory for pathway information as `dir_data`. The\n",
    "pathways with the respective reaction, gene and metabolite information are \n",
    "saved here."
   ]
  },
  {
   "cell_type": "code",
   "execution_count": 2,
   "id": "f2e21846",
   "metadata": {
    "execution": {
     "iopub.execute_input": "2021-06-04T09:23:30.608216Z",
     "iopub.status.busy": "2021-06-04T09:23:30.605802Z",
     "iopub.status.idle": "2021-06-04T09:23:33.249873Z",
     "shell.execute_reply": "2021-06-04T09:23:33.249480Z"
    },
    "id": "f2e21846",
    "scrolled": true
   },
   "outputs": [],
   "source": [
    "from pathlib import Path\n",
    "\n",
    "from cobramod import add_pathway\n",
    "from cobramod.test import textbook\n",
    "\n",
    "# Defining system path for data\n",
    "dir_data = Path.cwd().joinpath(\"data\")\n",
    "# Defining model\n",
    "model = textbook.copy()"
   ]
  },
  {
   "cell_type": "markdown",
   "id": "ecca1Ry_7ej0",
   "metadata": {
    "id": "ecca1Ry_7ej0"
   },
   "source": [
    "In the selected study, the authors used a culture medium including glucose and several other metabolites. Since only glucose is included in our core model and for the sake of simplicity we only constrain glucose and oxygen uptake."
   ]
  },
  {
   "cell_type": "code",
   "execution_count": 3,
   "id": "0a93a132",
   "metadata": {
    "id": "0a93a132",
    "scrolled": true
   },
   "outputs": [],
   "source": [
    "# limiting glucose\n",
    "model.exchanges.EX_glc__D_e.bounds = ( -10, 0)\n",
    "# limiting oxygen\n",
    "model.exchanges.EX_o2_e.bounds = (0, 0)"
   ]
  },
  {
   "cell_type": "markdown",
   "id": "4fb87bd2",
   "metadata": {
    "id": "4fb87bd2"
   },
   "source": [
    "## Adding the shikimate pathways\n",
    "\n",
    "To add a pathway to the model we use the function [add_pathway()](\n",
    "module/cobramod/index.html#cobramod.add_pathway\n",
    "). To do so, the first argument `model` is the respective model to extend. The\n",
    "argument `pathway` is the respective database-specific identifier for the pathway (`PWY-6164` and `PWY-6163`) followed by the database identifier `ECOLI`.\n",
    "We set cytosol (`c`) as the compartment for the reactions and metabolites\n",
    "of the pathways. Because the two added sub-pathways are part of a larger pathway, we use\n",
    "the argument `group` to create a single [cobramod.Pathway](\n",
    "module/cobramod/index.html#cobramod.Pathway\n",
    ") object.\n",
    "\n",
    "CobraMod tries to avoid duplicate reactions and metabolites. In our case, the\n",
    "`textbook` model uses BiGG identifiers and the downloaded data contain EcoCyc identifiers. When downloading pathway information, CobraMod checks the\n",
    "cross-references within these data and searches for corresponding objects in the model. In this example CobraMod warns the user that several metabolites, \n",
    "such as `Pi` (phosphate), `WATER` and `ATP`, are already in the model. Calling the pathway object shows a table summarising the pathway attributes."
   ]
  },
  {
   "cell_type": "code",
   "execution_count": 4,
   "id": "7be52d6e",
   "metadata": {
    "colab": {
     "base_uri": "https://localhost:8080/",
     "height": 1000
    },
    "execution": {
     "iopub.execute_input": "2021-06-04T09:23:33.254331Z",
     "iopub.status.busy": "2021-06-04T09:23:33.253999Z",
     "iopub.status.idle": "2021-06-04T09:23:33.301626Z",
     "shell.execute_reply": "2021-06-04T09:23:33.301876Z"
    },
    "id": "7be52d6e",
    "outputId": "bef9a1af-111b-47ec-f450-de4672773afe",
    "scrolled": true
   },
   "outputs": [
    {
     "name": "stdout",
     "output_type": "stream",
     "text": [
      "Number of       new   | removed entities in\n",
      "*=====================|===================*\n",
      "Reactions        2    |    0              \n",
      "Metabolites      2    |    0              \n",
      "Exchange         0    |    0              \n",
      "Demand           0    |    0              \n",
      "Sinks            2    |    0              \n",
      "Genes            4    |    0              \n",
      "Groups           1    |    0              \n",
      "\n",
      "Number of       new   | removed entities in\n",
      "*=====================|===================*\n",
      "Reactions        5    |    0              \n",
      "Metabolites      5    |    0              \n",
      "Exchange         0    |    0              \n",
      "Demand           0    |    0              \n",
      "Sinks            2    |    1              \n",
      "Genes            6    |    0              \n",
      "Groups           0    |    0              \n",
      "\n"
     ]
    },
    {
     "name": "stderr",
     "output_type": "stream",
     "text": [
      "/home/stefano/work/projects/cobramod/src/cobramod/core/extension.py:211: UserWarning: The model cannot turnover the following metabolites ['3_DEOXY_D_ARABINO_HEPTULOSONATE_7_P_c']. To overcome this, sink reactions were created to simulate their synthesis.\n",
      "  warn(msg)\n",
      "/home/stefano/work/projects/cobramod/src/cobramod/utils.py:354: UserWarning: Auxiliary sink reaction for \"SK_DEHYDROQUINATE_c\" created. Consider removing it and adding the synthesis reactions for the metabolite.\n",
      "  warn(message=msg, category=UserWarning)\n",
      "/home/stefano/work/projects/cobramod/src/cobramod/utils.py:354: UserWarning: Auxiliary sink reaction for \"SK_3_DEOXY_D_ARABINO_HEPTULOSONATE_7_P_c\" created. Consider removing it and adding the synthesis reactions for the metabolite.\n",
      "  warn(message=msg, category=UserWarning)\n",
      "/home/stefano/work/projects/cobramod/src/cobramod/core/extension.py:211: UserWarning: The model cannot turnover the following metabolites ['3_DEHYDRO_SHIKIMATE_c']. To overcome this, sink reactions were created to simulate their synthesis.\n",
      "  warn(msg)\n",
      "/home/stefano/work/projects/cobramod/src/cobramod/core/extension.py:211: UserWarning: The model cannot turnover the following metabolites ['SHIKIMATE_c']. To overcome this, sink reactions were created to simulate their synthesis.\n",
      "  warn(msg)\n",
      "/home/stefano/work/projects/cobramod/src/cobramod/core/extension.py:211: UserWarning: The model cannot turnover the following metabolites ['SHIKIMATE_5P_c']. To overcome this, sink reactions were created to simulate their synthesis.\n",
      "  warn(msg)\n",
      "/home/stefano/work/projects/cobramod/src/cobramod/core/extension.py:211: UserWarning: The model cannot turnover the following metabolites ['3_ENOLPYRUVYL_SHIKIMATE_5P_c']. To overcome this, sink reactions were created to simulate their synthesis.\n",
      "  warn(msg)\n",
      "/home/stefano/work/projects/cobramod/src/cobramod/utils.py:354: UserWarning: Auxiliary sink reaction for \"SK_CHORISMATE_c\" created. Consider removing it and adding the synthesis reactions for the metabolite.\n",
      "  warn(message=msg, category=UserWarning)\n",
      "/home/stefano/work/projects/cobramod/src/cobramod/utils.py:354: UserWarning: Auxiliary sink reaction for \"SK_3_ENOLPYRUVYL_SHIKIMATE_5P_c\" created. Consider removing it and adding the synthesis reactions for the metabolite.\n",
      "  warn(message=msg, category=UserWarning)\n"
     ]
    },
    {
     "data": {
      "text/html": [
       "\n",
       "<table> <tbody> <tr> <td><strong>Pathway identifier</strong></td>\n",
       "<td>PWY-SHIKIMATE</td> </tr> <tr> <td><strong>Name</strong></td>\n",
       "<td></td> </tr> <tr> <td><strong>Memory address</strong></td>\n",
       "<td>0x0137113100185376</td> </tr> <tr> <td><strong>Reactions involved</strong></td>\n",
       "<td> <p>3_DEHYDROQUINATE_DEHYDRATASE_RXN_c, SHIKIMATE_5_DEHYDROGENASE_RXN_c, SHIKIMATE_KINASE_RXN_c, DAHPSYN_RXN_c, 2.5.1.19_RXN_c, CHORISMATE_SYNTHASE_RXN_c, 3_DEHYDROQUINATE_SYNTHASE_RXN_c</p> </td> </tr> <tr>\n",
       "<td><strong>Genes involved<br /></strong></td> <td> <p>EG10076, EG10077, EG10082, EG10081, EG10079, EG10080, EG10078, EG10073, EG10075, EG10074</p> </td> </tr> <tr>\n",
       "<td><strong>Visualization attributes</strong></td> <td> <ul> <li>vertical =\n",
       "False</li> <li>color_negative = None</li>\n",
       "<li>color_positive = None</li> <li>color_quantile =\n",
       "False</li> </ul> </td> </tr> </tbody> </table> <p>&nbsp;</p>"
      ],
      "text/plain": [
       "<Pathway PWY-SHIKIMATE at 0x7cb421a16f20>"
      ]
     },
     "execution_count": 4,
     "metadata": {},
     "output_type": "execute_result"
    }
   ],
   "source": [
    "# first pathway\n",
    "add_pathway(\n",
    "    model=model,\n",
    "    pathway=\"PWY-6164\",\n",
    "    database=\"ECOLI\",\n",
    "    compartment=\"c\",\n",
    "    group=\"PWY-SHIKIMATE\",\n",
    "    directory=dir_data,\n",
    ")\n",
    "\n",
    "# second pathway\n",
    "add_pathway(\n",
    "    model=model,\n",
    "    pathway=\"PWY-6163\",\n",
    "    database=\"ECOLI\",\n",
    "    compartment=\"c\",\n",
    "    group=\"PWY-SHIKIMATE\",\n",
    "    directory=dir_data,\n",
    ")\n",
    "\n",
    "# Show attributes\n",
    "model.groups.get_by_id(\"PWY-SHIKIMATE\")"
   ]
  },
  {
   "cell_type": "markdown",
   "id": "1jlXNBHmQQwZ",
   "metadata": {
    "id": "1jlXNBHmQQwZ"
   },
   "source": [
    "CobraMod does not automatically merge sub-pathways in the visualization. When we call\n",
    "the function [Pathway.visualize()](\n",
    "module/cobramod/core/pathway/index.html#cobramod.core.pathway.Pathway.visualize\n",
    "), CobraMod shows both sub-pathways one above the other, instead of a single linear pathway.\n",
    "To change this, we use the method [Pathway.modify_graph()](\n",
    "module/cobramod/core/pathway/index.html#cobramod.core.pathway.Pathway.modify_graph\n",
    "). This function merges the two sub-pathways by connecting two reactions in the \n",
    "visualization. Here, the argument `reaction` specifies the last reaction of the first sub-pathway and the argument `next_reaction` specifies the subsequent reaction of the second sub-pathway.\n",
    "\n",
    "In the first visualization, `3_DEHYDROQUINATE_SYNTHASE_RXN_c` and\n",
    "`3_DEHYDROQUINATE_DEHYDRATASE_RXN_c` are not connected. We use\n",
    "the `modify_graph` method to join both reactions. When we now\n",
    "visualize the pathway, we obtain one linear pathway."
   ]
  },
  {
   "cell_type": "code",
   "execution_count": 5,
   "id": "cFSK-j5rQQai",
   "metadata": {
    "colab": {
     "base_uri": "https://localhost:8080/",
     "height": 17,
     "referenced_widgets": [
      "d6240177b4e345ca83b70ed6b0e57a6f",
      "aaeee1e20c184e83beaa2124a2222306",
      "bc6b2507f417485293f7010ec0c99b36",
      "12f27afa71464a789ad428b3308050b2"
     ]
    },
    "id": "cFSK-j5rQQai",
    "outputId": "6487c034-c2fa-47f1-b182-5dc9c9b1a576"
   },
   "outputs": [
    {
     "data": {
      "application/vnd.jupyter.widget-view+json": {
       "model_id": "9eade03a994d4afc8964e3ffe5430fb1",
       "version_major": 2,
       "version_minor": 0
      },
      "text/plain": [
       "Builder(never_ask_before_quit=True, reaction_scale={}, reaction_styles=['color', 'text'])"
      ]
     },
     "metadata": {},
     "output_type": "display_data"
    },
    {
     "data": {
      "application/vnd.jupyter.widget-view+json": {
       "model_id": "544ad1db4bd44d32a84c0ca8885f4935",
       "version_major": 2,
       "version_minor": 0
      },
      "text/plain": [
       "Builder(never_ask_before_quit=True, reaction_scale={}, reaction_styles=['color', 'text'])"
      ]
     },
     "metadata": {},
     "output_type": "display_data"
    }
   ],
   "source": [
    "# Show pathway map\n",
    "display(model.groups.get_by_id(\"PWY-SHIKIMATE\").visualize())\n",
    "# Merge reactions of the sub-pathways\n",
    "model.groups.get_by_id(\"PWY-SHIKIMATE\").modify_graph(\n",
    "    reaction=\"3_DEHYDROQUINATE_SYNTHASE_RXN_c\",\n",
    "    next_reaction=\"3_DEHYDROQUINATE_DEHYDRATASE_RXN_c\"\n",
    ")\n",
    "# Show pathway map\n",
    "model.groups.get_by_id(\"PWY-SHIKIMATE\").visualize()"
   ]
  },
  {
   "cell_type": "markdown",
   "id": "103e1713",
   "metadata": {
    "id": "103e1713"
   },
   "source": [
    "## Creating biomass reactions for the two *E. coli* strains\n",
    "\n",
    "Our reference [article](\n",
    "https://doi.org/10.1016/j.biortech.2014.05.035) lists the following values for biomass an shikimate for the two strains of interest:\n",
    "\n",
    "<table style=\"border-collapse: collapse; width: 100%;\" border=\"1\">\n",
    "<tbody>\n",
    "<tr>\n",
    "<td style=\"width: 33.3333%;\"><strong>Strains</strong></td>\n",
    "<td style=\"width: 33.3333%;\"><strong>Biomass (g/L)</strong></td>\n",
    "<td style=\"width: 33.3333%;\"><strong>Shikimate (mg/L)</strong></td>\n",
    "</tr>\n",
    "<tr>\n",
    "<td style=\"width: 33.3333%;\">W3110</td>\n",
    "<td style=\"width: 33.3333%;\">3.42 &plusmn; 0.26</td>\n",
    "<td style=\"width: 33.3333%;\">1.31 &plusmn; 0.12</td>\n",
    "</tr>\n",
    "<tr>\n",
    "<td style=\"width: 33.3333%;\">SA3</td>\n",
    "<td style=\"width: 33.3333%;\">5.24 &plusmn; 0.34</td>\n",
    "<td style=\"width: 33.3333%;\">417.20 &plusmn; 50.01</td>\n",
    "</tr>\n",
    "</tbody>\n",
    "</table>\n",
    "\n",
    "We use this data to update the biomass equation of our core model by including the contribution of shikimate to the overall biomass composition. For the sake of our tutorial we make some simplifying assumptions (e.g. the ratios of the other biomass components do not change, shikimate productions is coupled to growth) and use the following relationship:\n"
   ]
  },
  {
   "cell_type": "code",
   "execution_count": 6,
   "id": "_RAbEPDAeaW4",
   "metadata": {
    "colab": {
     "base_uri": "https://localhost:8080/"
    },
    "id": "_RAbEPDAeaW4",
    "outputId": "555ba483-d279-4f58-daae-0ad2e15fbf6b"
   },
   "outputs": [
    {
     "data": {
      "text/plain": [
       "{'W3110': 0.00038304093567251464, 'SA3': 0.07961832061068702}"
      ]
     },
     "execution_count": 6,
     "metadata": {},
     "output_type": "execute_result"
    }
   ],
   "source": [
    "# Calculate ratios for the strains\n",
    "shikimate_ratio = {\n",
    "    \"W3110\": (1.31 / 1000) / 3.42,\n",
    "    \"SA3\": (417.20 / 1000) / 5.24\n",
    "}\n",
    "shikimate_ratio"
   ]
  },
  {
   "cell_type": "markdown",
   "id": "tLg-hl9blOo1",
   "metadata": {
    "id": "tLg-hl9blOo1"
   },
   "source": [
    "\n",
    "We calculate the new coefficients for the biomass reactions which include\n",
    "shikimate. The detailed calculations are listed in the\n",
    "[supplementary information](#Supplementary-Information:-Approximation-of-biomass-compositions) at the\n",
    "bottom of this page. We obtain the following new biomass equations:"
   ]
  },
  {
   "cell_type": "code",
   "execution_count": 10,
   "id": "g8tfsGuNodRM",
   "metadata": {
    "colab": {
     "base_uri": "https://localhost:8080/",
     "height": 1000
    },
    "id": "g8tfsGuNodRM",
    "outputId": "595f70f3-fd1d-4b8d-ae9f-098e147af647",
    "tags": [
     "=>A"
    ]
   },
   "outputs": [
    {
     "name": "stdout",
     "output_type": "stream",
     "text": [
      "New coefficients for W3110 strain:\n"
     ]
    },
    {
     "data": {
      "text/html": [
       "<div>\n",
       "<style scoped>\n",
       "    .dataframe tbody tr th:only-of-type {\n",
       "        vertical-align: middle;\n",
       "    }\n",
       "\n",
       "    .dataframe tbody tr th {\n",
       "        vertical-align: top;\n",
       "    }\n",
       "\n",
       "    .dataframe thead th {\n",
       "        text-align: right;\n",
       "    }\n",
       "</style>\n",
       "<table border=\"1\" class=\"dataframe\">\n",
       "  <thead>\n",
       "    <tr style=\"text-align: right;\">\n",
       "      <th></th>\n",
       "      <th>identifier</th>\n",
       "      <th>new_coefficient</th>\n",
       "    </tr>\n",
       "  </thead>\n",
       "  <tbody>\n",
       "    <tr>\n",
       "      <th>0</th>\n",
       "      <td>3pg_c</td>\n",
       "      <td>-1.495427</td>\n",
       "    </tr>\n",
       "    <tr>\n",
       "      <th>1</th>\n",
       "      <td>accoa_c</td>\n",
       "      <td>-3.746364</td>\n",
       "    </tr>\n",
       "    <tr>\n",
       "      <th>2</th>\n",
       "      <td>atp_c</td>\n",
       "      <td>-59.78709</td>\n",
       "    </tr>\n",
       "    <tr>\n",
       "      <th>3</th>\n",
       "      <td>e4p_c</td>\n",
       "      <td>-0.360862</td>\n",
       "    </tr>\n",
       "    <tr>\n",
       "      <th>4</th>\n",
       "      <td>f6p_c</td>\n",
       "      <td>-0.070873</td>\n",
       "    </tr>\n",
       "    <tr>\n",
       "      <th>5</th>\n",
       "      <td>g3p_c</td>\n",
       "      <td>-0.128951</td>\n",
       "    </tr>\n",
       "    <tr>\n",
       "      <th>6</th>\n",
       "      <td>g6p_c</td>\n",
       "      <td>-0.204921</td>\n",
       "    </tr>\n",
       "    <tr>\n",
       "      <th>7</th>\n",
       "      <td>gln__L_c</td>\n",
       "      <td>-0.255602</td>\n",
       "    </tr>\n",
       "    <tr>\n",
       "      <th>8</th>\n",
       "      <td>glu__L_c</td>\n",
       "      <td>-4.939507</td>\n",
       "    </tr>\n",
       "    <tr>\n",
       "      <th>9</th>\n",
       "      <td>h2o_c</td>\n",
       "      <td>-59.78709</td>\n",
       "    </tr>\n",
       "    <tr>\n",
       "      <th>10</th>\n",
       "      <td>nad_c</td>\n",
       "      <td>-3.545641</td>\n",
       "    </tr>\n",
       "    <tr>\n",
       "      <th>11</th>\n",
       "      <td>nadph_c</td>\n",
       "      <td>-13.02291</td>\n",
       "    </tr>\n",
       "    <tr>\n",
       "      <th>12</th>\n",
       "      <td>oaa_c</td>\n",
       "      <td>-1.786016</td>\n",
       "    </tr>\n",
       "    <tr>\n",
       "      <th>13</th>\n",
       "      <td>pep_c</td>\n",
       "      <td>-0.518901</td>\n",
       "    </tr>\n",
       "    <tr>\n",
       "      <th>14</th>\n",
       "      <td>pyr_c</td>\n",
       "      <td>-2.831715</td>\n",
       "    </tr>\n",
       "    <tr>\n",
       "      <th>15</th>\n",
       "      <td>r5p_c</td>\n",
       "      <td>-0.897356</td>\n",
       "    </tr>\n",
       "    <tr>\n",
       "      <th>16</th>\n",
       "      <td>SHIKIMATE_c</td>\n",
       "      <td>-0.106557</td>\n",
       "    </tr>\n",
       "    <tr>\n",
       "      <th>17</th>\n",
       "      <td>adp_c</td>\n",
       "      <td>59.78709</td>\n",
       "    </tr>\n",
       "    <tr>\n",
       "      <th>18</th>\n",
       "      <td>akg_c</td>\n",
       "      <td>4.1182</td>\n",
       "    </tr>\n",
       "    <tr>\n",
       "      <th>19</th>\n",
       "      <td>coa_c</td>\n",
       "      <td>3.746364</td>\n",
       "    </tr>\n",
       "    <tr>\n",
       "      <th>20</th>\n",
       "      <td>h_c</td>\n",
       "      <td>59.78709</td>\n",
       "    </tr>\n",
       "    <tr>\n",
       "      <th>21</th>\n",
       "      <td>nadh_c</td>\n",
       "      <td>3.545641</td>\n",
       "    </tr>\n",
       "    <tr>\n",
       "      <th>22</th>\n",
       "      <td>nadp_c</td>\n",
       "      <td>13.02291</td>\n",
       "    </tr>\n",
       "    <tr>\n",
       "      <th>23</th>\n",
       "      <td>pi_c</td>\n",
       "      <td>59.78709</td>\n",
       "    </tr>\n",
       "  </tbody>\n",
       "</table>\n",
       "</div>"
      ],
      "text/plain": [
       "     identifier new_coefficient\n",
       "0         3pg_c       -1.495427\n",
       "1       accoa_c       -3.746364\n",
       "2         atp_c       -59.78709\n",
       "3         e4p_c       -0.360862\n",
       "4         f6p_c       -0.070873\n",
       "5         g3p_c       -0.128951\n",
       "6         g6p_c       -0.204921\n",
       "7      gln__L_c       -0.255602\n",
       "8      glu__L_c       -4.939507\n",
       "9         h2o_c       -59.78709\n",
       "10        nad_c       -3.545641\n",
       "11      nadph_c       -13.02291\n",
       "12        oaa_c       -1.786016\n",
       "13        pep_c       -0.518901\n",
       "14        pyr_c       -2.831715\n",
       "15        r5p_c       -0.897356\n",
       "16  SHIKIMATE_c       -0.106557\n",
       "17        adp_c        59.78709\n",
       "18        akg_c          4.1182\n",
       "19        coa_c        3.746364\n",
       "20          h_c        59.78709\n",
       "21       nadh_c        3.545641\n",
       "22       nadp_c        13.02291\n",
       "23         pi_c        59.78709"
      ]
     },
     "metadata": {},
     "output_type": "display_data"
    },
    {
     "name": "stdout",
     "output_type": "stream",
     "text": [
      "New coefficients for SA3 strain:\n"
     ]
    },
    {
     "data": {
      "text/html": [
       "<div>\n",
       "<style scoped>\n",
       "    .dataframe tbody tr th:only-of-type {\n",
       "        vertical-align: middle;\n",
       "    }\n",
       "\n",
       "    .dataframe tbody tr th {\n",
       "        vertical-align: top;\n",
       "    }\n",
       "\n",
       "    .dataframe thead th {\n",
       "        text-align: right;\n",
       "    }\n",
       "</style>\n",
       "<table border=\"1\" class=\"dataframe\">\n",
       "  <thead>\n",
       "    <tr style=\"text-align: right;\">\n",
       "      <th></th>\n",
       "      <th>identifier</th>\n",
       "      <th>new_coefficient</th>\n",
       "    </tr>\n",
       "  </thead>\n",
       "  <tbody>\n",
       "    <tr>\n",
       "      <th>0</th>\n",
       "      <td>3pg_c</td>\n",
       "      <td>-1.376891</td>\n",
       "    </tr>\n",
       "    <tr>\n",
       "      <th>1</th>\n",
       "      <td>accoa_c</td>\n",
       "      <td>-3.449406</td>\n",
       "    </tr>\n",
       "    <tr>\n",
       "      <th>2</th>\n",
       "      <td>atp_c</td>\n",
       "      <td>-55.048028</td>\n",
       "    </tr>\n",
       "    <tr>\n",
       "      <th>3</th>\n",
       "      <td>e4p_c</td>\n",
       "      <td>-0.332258</td>\n",
       "    </tr>\n",
       "    <tr>\n",
       "      <th>4</th>\n",
       "      <td>f6p_c</td>\n",
       "      <td>-0.065255</td>\n",
       "    </tr>\n",
       "    <tr>\n",
       "      <th>5</th>\n",
       "      <td>g3p_c</td>\n",
       "      <td>-0.118729</td>\n",
       "    </tr>\n",
       "    <tr>\n",
       "      <th>6</th>\n",
       "      <td>g6p_c</td>\n",
       "      <td>-0.188678</td>\n",
       "    </tr>\n",
       "    <tr>\n",
       "      <th>7</th>\n",
       "      <td>gln__L_c</td>\n",
       "      <td>-0.235342</td>\n",
       "    </tr>\n",
       "    <tr>\n",
       "      <th>8</th>\n",
       "      <td>glu__L_c</td>\n",
       "      <td>-4.547974</td>\n",
       "    </tr>\n",
       "    <tr>\n",
       "      <th>9</th>\n",
       "      <td>h2o_c</td>\n",
       "      <td>-55.048028</td>\n",
       "    </tr>\n",
       "    <tr>\n",
       "      <th>10</th>\n",
       "      <td>nad_c</td>\n",
       "      <td>-3.264594</td>\n",
       "    </tr>\n",
       "    <tr>\n",
       "      <th>11</th>\n",
       "      <td>nadph_c</td>\n",
       "      <td>-11.99064</td>\n",
       "    </tr>\n",
       "    <tr>\n",
       "      <th>12</th>\n",
       "      <td>oaa_c</td>\n",
       "      <td>-1.644446</td>\n",
       "    </tr>\n",
       "    <tr>\n",
       "      <th>13</th>\n",
       "      <td>pep_c</td>\n",
       "      <td>-0.47777</td>\n",
       "    </tr>\n",
       "    <tr>\n",
       "      <th>14</th>\n",
       "      <td>pyr_c</td>\n",
       "      <td>-2.607257</td>\n",
       "    </tr>\n",
       "    <tr>\n",
       "      <th>15</th>\n",
       "      <td>r5p_c</td>\n",
       "      <td>-0.826227</td>\n",
       "    </tr>\n",
       "    <tr>\n",
       "      <th>16</th>\n",
       "      <td>SHIKIMATE_c</td>\n",
       "      <td>-22.148743</td>\n",
       "    </tr>\n",
       "    <tr>\n",
       "      <th>17</th>\n",
       "      <td>adp_c</td>\n",
       "      <td>55.048028</td>\n",
       "    </tr>\n",
       "    <tr>\n",
       "      <th>18</th>\n",
       "      <td>akg_c</td>\n",
       "      <td>4.1182</td>\n",
       "    </tr>\n",
       "    <tr>\n",
       "      <th>19</th>\n",
       "      <td>coa_c</td>\n",
       "      <td>3.449406</td>\n",
       "    </tr>\n",
       "    <tr>\n",
       "      <th>20</th>\n",
       "      <td>h_c</td>\n",
       "      <td>55.048028</td>\n",
       "    </tr>\n",
       "    <tr>\n",
       "      <th>21</th>\n",
       "      <td>nadh_c</td>\n",
       "      <td>3.264594</td>\n",
       "    </tr>\n",
       "    <tr>\n",
       "      <th>22</th>\n",
       "      <td>nadp_c</td>\n",
       "      <td>11.99064</td>\n",
       "    </tr>\n",
       "    <tr>\n",
       "      <th>23</th>\n",
       "      <td>pi_c</td>\n",
       "      <td>55.048028</td>\n",
       "    </tr>\n",
       "  </tbody>\n",
       "</table>\n",
       "</div>"
      ],
      "text/plain": [
       "     identifier new_coefficient\n",
       "0         3pg_c       -1.376891\n",
       "1       accoa_c       -3.449406\n",
       "2         atp_c      -55.048028\n",
       "3         e4p_c       -0.332258\n",
       "4         f6p_c       -0.065255\n",
       "5         g3p_c       -0.118729\n",
       "6         g6p_c       -0.188678\n",
       "7      gln__L_c       -0.235342\n",
       "8      glu__L_c       -4.547974\n",
       "9         h2o_c      -55.048028\n",
       "10        nad_c       -3.264594\n",
       "11      nadph_c       -11.99064\n",
       "12        oaa_c       -1.644446\n",
       "13        pep_c        -0.47777\n",
       "14        pyr_c       -2.607257\n",
       "15        r5p_c       -0.826227\n",
       "16  SHIKIMATE_c      -22.148743\n",
       "17        adp_c       55.048028\n",
       "18        akg_c          4.1182\n",
       "19        coa_c        3.449406\n",
       "20          h_c       55.048028\n",
       "21       nadh_c        3.264594\n",
       "22       nadp_c        11.99064\n",
       "23         pi_c       55.048028"
      ]
     },
     "metadata": {},
     "output_type": "display_data"
    }
   ],
   "source": [
    "W3110_df = pd.concat(\n",
    "    [\n",
    "        W3110_df_negative.loc[:, [\"identifier\", \"new_coefficient\"]],\n",
    "        W3110_df_positive.loc[:, [\"identifier\", \"new_coefficient\"]],\n",
    "    ]\n",
    ")\n",
    "W3110_df = W3110_df.reset_index(drop=True)\n",
    "print(\"New coefficients for W3110 strain:\")\n",
    "display(W3110_df)\n",
    "\n",
    "SA3_df = pd.concat(\n",
    "    [\n",
    "        SA3_df_negative.loc[:, [\"identifier\", \"new_coefficient\"]],\n",
    "        SA3_df_positive.loc[:, [\"identifier\", \"new_coefficient\"]],\n",
    "    ]\n",
    ")\n",
    "SA3_df = SA3_df.reset_index(drop=True)\n",
    "print(\"New coefficients for SA3 strain:\")\n",
    "display(SA3_df)"
   ]
  },
  {
   "cell_type": "markdown",
   "id": "dCs4IkKTuO2l",
   "metadata": {
    "id": "dCs4IkKTuO2l"
   },
   "source": [
    "Finally, we create a function that uses these value to generate the updated strain-specific biomass equations and add it to the model."
   ]
  },
  {
   "cell_type": "code",
   "execution_count": 11,
   "id": "67c6b272",
   "metadata": {
    "colab": {
     "base_uri": "https://localhost:8080/",
     "height": 460
    },
    "id": "67c6b272",
    "outputId": "70b1fef6-4948-4c6f-d5fc-f434e1aa346e"
   },
   "outputs": [
    {
     "data": {
      "text/html": [
       "\n",
       "        <table>\n",
       "            <tr>\n",
       "                <td><strong>Reaction identifier</strong></td><td>W3110_biomass</td>\n",
       "            </tr><tr>\n",
       "                <td><strong>Name</strong></td><td></td>\n",
       "            </tr><tr>\n",
       "                <td><strong>Memory address</strong></td>\n",
       "                <td>0x7cb421eee650</td>\n",
       "            </tr><tr>\n",
       "                <td><strong>Stoichiometry</strong></td>\n",
       "                <td>\n",
       "                    <p style='text-align:right'>1.495426970760234 3pg_c + 0.10655682044443099 SHIKIMATE_c + 3.746364439181286 accoa_c + 59.78709032163742 atp_c + 0.3608617222222222 e4p_c + 0.07087284239766083 f6p_c + 0.12895058771929824 g3p_c +...</p>\n",
       "                    <p style='text-align:right'>1.495426970760234 3-Phospho-D-glycerate + 0.10655682044443099 shikimate + 3.746364439181286 Acetyl-CoA + 59.78709032163742 ATP + 0.3608617222222222 D-Erythrose 4-phosphate + 0.07087284239766083...</p>\n",
       "                </td>\n",
       "            </tr><tr>\n",
       "                <td><strong>GPR</strong></td><td></td>\n",
       "            </tr><tr>\n",
       "                <td><strong>Lower bound</strong></td><td>0.0</td>\n",
       "            </tr><tr>\n",
       "                <td><strong>Upper bound</strong></td><td>1000.0</td>\n",
       "            </tr>\n",
       "        </table>\n",
       "        "
      ],
      "text/plain": [
       "<Reaction W3110_biomass at 0x7cb421eee650>"
      ]
     },
     "metadata": {},
     "output_type": "display_data"
    },
    {
     "data": {
      "text/html": [
       "\n",
       "        <table>\n",
       "            <tr>\n",
       "                <td><strong>Reaction identifier</strong></td><td>SA3_biomass</td>\n",
       "            </tr><tr>\n",
       "                <td><strong>Name</strong></td><td></td>\n",
       "            </tr><tr>\n",
       "                <td><strong>Memory address</strong></td>\n",
       "                <td>0x7cb421eeea70</td>\n",
       "            </tr><tr>\n",
       "                <td><strong>Stoichiometry</strong></td>\n",
       "                <td>\n",
       "                    <p style='text-align:right'>1.376890992366412 3pg_c + 22.148742610250682 SHIKIMATE_c + 3.4494064580152664 accoa_c + 55.0480282442748 atp_c + 0.33225778625954194 e4p_c + 0.06525506106870228 f6p_c + 0.11872923664122137 g3p_c +...</p>\n",
       "                    <p style='text-align:right'>1.376890992366412 3-Phospho-D-glycerate + 22.148742610250682 shikimate + 3.4494064580152664 Acetyl-CoA + 55.0480282442748 ATP + 0.33225778625954194 D-Erythrose 4-phosphate + 0.06525506106870228...</p>\n",
       "                </td>\n",
       "            </tr><tr>\n",
       "                <td><strong>GPR</strong></td><td></td>\n",
       "            </tr><tr>\n",
       "                <td><strong>Lower bound</strong></td><td>0.0</td>\n",
       "            </tr><tr>\n",
       "                <td><strong>Upper bound</strong></td><td>1000.0</td>\n",
       "            </tr>\n",
       "        </table>\n",
       "        "
      ],
      "text/plain": [
       "<Reaction SA3_biomass at 0x7cb421eeea70>"
      ]
     },
     "metadata": {},
     "output_type": "display_data"
    }
   ],
   "source": [
    "from cobra import Reaction\n",
    "\n",
    "\n",
    "def create_biomass(df: pd.DataFrame, identifier: str):\n",
    "    \"\"\"\n",
    "    Creates a Reaction from the reactant and product DataFrame with new\n",
    "    coefficients.\n",
    "    \"\"\"\n",
    "    reaction = Reaction(id=identifier)\n",
    "    # Iterate over dataframe\n",
    "    for index, row in df.iterrows():\n",
    "        reaction.add_metabolites(\n",
    "            {\n",
    "                model.metabolites.get_by_id(row[\"identifier\"]): row[\n",
    "                    \"new_coefficient\"\n",
    "                ]\n",
    "            }\n",
    "        )\n",
    "    return reaction\n",
    "\n",
    "\n",
    "biomass_W3110 = create_biomass(W3110_df, \"W3110_biomass\")\n",
    "\n",
    "biomass_SA3 = create_biomass(SA3_df, \"SA3_biomass\")\n",
    "# Show new reactions\n",
    "display(biomass_W3110)\n",
    "display(biomass_SA3)\n",
    "\n",
    "# Add to model\n",
    "model.add_reactions([biomass_W3110, biomass_SA3])"
   ]
  },
  {
   "cell_type": "markdown",
   "id": "33db9895",
   "metadata": {
    "id": "33db9895"
   },
   "source": [
    "## Simulating shikimate production in the two *E. coli* strains\n",
    "\n",
    "We use COBRApy to run flux balance analysis for the two strains. Using the COBRApy method\n",
    "[cobra.model.optimize()](\n",
    "  https://cobrapy.readthedocs.io/en/latest/autoapi/cobra/core/model/index.html#cobra.core.model.Model.optimize\n",
    ") we get two [solutions objects](\n",
    "  https://cobrapy.readthedocs.io/en/latest/autoapi/cobra/core/solution/index.html#cobra.core.solution.Solution\n",
    "). \n",
    "We can see that the solution for the W3110 strain has a higher objective value\n",
    "(0.2105) than the SA3 strain objective value (0.0995) which is caused by the different shikimate ratios in the biomass equation.\n"
   ]
  },
  {
   "cell_type": "code",
   "execution_count": 12,
   "id": "2cf9f942",
   "metadata": {
    "colab": {
     "base_uri": "https://localhost:8080/",
     "height": 991
    },
    "id": "2cf9f942",
    "outputId": "70ec3db9-dc31-4d66-998e-664d451a7093",
    "scrolled": true
   },
   "outputs": [
    {
     "data": {
      "text/html": [
       "<h3>Objective</h3><p>1.0 W3110_biomass = 1.3166970006837229</p><h4>Uptake</h4><table border=\"1\" class=\"dataframe\">\n",
       "  <thead>\n",
       "    <tr style=\"text-align: right;\">\n",
       "      <th>Metabolite</th>\n",
       "      <th>Reaction</th>\n",
       "      <th>Flux</th>\n",
       "      <th>C-Number</th>\n",
       "      <th>C-Flux</th>\n",
       "    </tr>\n",
       "  </thead>\n",
       "  <tbody>\n",
       "    <tr>\n",
       "      <td>co2_e</td>\n",
       "      <td>EX_co2_e</td>\n",
       "      <td>0.8114</td>\n",
       "      <td>1</td>\n",
       "      <td>0.01%</td>\n",
       "    </tr>\n",
       "    <tr>\n",
       "      <td>glc__D_e</td>\n",
       "      <td>EX_glc__D_e</td>\n",
       "      <td>10</td>\n",
       "      <td>6</td>\n",
       "      <td>0.60%</td>\n",
       "    </tr>\n",
       "    <tr>\n",
       "      <td>nh4_e</td>\n",
       "      <td>EX_nh4_e</td>\n",
       "      <td>7.177</td>\n",
       "      <td>0</td>\n",
       "      <td>0.00%</td>\n",
       "    </tr>\n",
       "    <tr>\n",
       "      <td>3_DEOXY_D_ARABINO_HEPTULOSONATE_7_P_c</td>\n",
       "      <td>SK_3_DEOXY_D_ARABINO_HEPTULOSONATE_7_P_c</td>\n",
       "      <td>0.1403</td>\n",
       "      <td>7</td>\n",
       "      <td>0.01%</td>\n",
       "    </tr>\n",
       "    <tr>\n",
       "      <td>3_ENOLPYRUVYL_SHIKIMATE_5P_c</td>\n",
       "      <td>SK_3_ENOLPYRUVYL_SHIKIMATE_5P_c</td>\n",
       "      <td>1000</td>\n",
       "      <td>10</td>\n",
       "      <td>99.39%</td>\n",
       "    </tr>\n",
       "  </tbody>\n",
       "</table><h4>Secretion</h4><table border=\"1\" class=\"dataframe\">\n",
       "  <thead>\n",
       "    <tr style=\"text-align: right;\">\n",
       "      <th>Metabolite</th>\n",
       "      <th>Reaction</th>\n",
       "      <th>Flux</th>\n",
       "      <th>C-Number</th>\n",
       "      <th>C-Flux</th>\n",
       "    </tr>\n",
       "  </thead>\n",
       "  <tbody>\n",
       "    <tr>\n",
       "      <td>for_e</td>\n",
       "      <td>EX_for_e</td>\n",
       "      <td>-4.811</td>\n",
       "      <td>1</td>\n",
       "      <td>0.05%</td>\n",
       "    </tr>\n",
       "    <tr>\n",
       "      <td>h2o_e</td>\n",
       "      <td>EX_h2o_e</td>\n",
       "      <td>-8.772</td>\n",
       "      <td>0</td>\n",
       "      <td>0.00%</td>\n",
       "    </tr>\n",
       "    <tr>\n",
       "      <td>h_e</td>\n",
       "      <td>EX_h_e</td>\n",
       "      <td>-31.21</td>\n",
       "      <td>0</td>\n",
       "      <td>0.00%</td>\n",
       "    </tr>\n",
       "    <tr>\n",
       "      <td>pi_e</td>\n",
       "      <td>EX_pi_e</td>\n",
       "      <td>-995.3</td>\n",
       "      <td>0</td>\n",
       "      <td>0.00%</td>\n",
       "    </tr>\n",
       "    <tr>\n",
       "      <td>CHORISMATE_c</td>\n",
       "      <td>SK_CHORISMATE_c</td>\n",
       "      <td>-1000</td>\n",
       "      <td>10</td>\n",
       "      <td>99.95%</td>\n",
       "    </tr>\n",
       "  </tbody>\n",
       "</table>"
      ],
      "text/plain": [
       "<cobra.summary.model_summary.ModelSummary at 0x7cb421fd29e0>"
      ]
     },
     "metadata": {},
     "output_type": "display_data"
    },
    {
     "data": {
      "text/html": [
       "<h3>Objective</h3><p>1.0 SA3_biomass = 1.2001394453983845</p><h4>Uptake</h4><table border=\"1\" class=\"dataframe\">\n",
       "  <thead>\n",
       "    <tr style=\"text-align: right;\">\n",
       "      <th>Metabolite</th>\n",
       "      <th>Reaction</th>\n",
       "      <th>Flux</th>\n",
       "      <th>C-Number</th>\n",
       "      <th>C-Flux</th>\n",
       "    </tr>\n",
       "  </thead>\n",
       "  <tbody>\n",
       "    <tr>\n",
       "      <td>glc__D_e</td>\n",
       "      <td>EX_glc__D_e</td>\n",
       "      <td>10</td>\n",
       "      <td>6</td>\n",
       "      <td>0.60%</td>\n",
       "    </tr>\n",
       "    <tr>\n",
       "      <td>nh4_e</td>\n",
       "      <td>EX_nh4_e</td>\n",
       "      <td>6.023</td>\n",
       "      <td>0</td>\n",
       "      <td>0.00%</td>\n",
       "    </tr>\n",
       "    <tr>\n",
       "      <td>3_DEOXY_D_ARABINO_HEPTULOSONATE_7_P_c</td>\n",
       "      <td>SK_3_DEOXY_D_ARABINO_HEPTULOSONATE_7_P_c</td>\n",
       "      <td>26.58</td>\n",
       "      <td>7</td>\n",
       "      <td>1.86%</td>\n",
       "    </tr>\n",
       "    <tr>\n",
       "      <td>3_ENOLPYRUVYL_SHIKIMATE_5P_c</td>\n",
       "      <td>SK_3_ENOLPYRUVYL_SHIKIMATE_5P_c</td>\n",
       "      <td>977.5</td>\n",
       "      <td>10</td>\n",
       "      <td>97.54%</td>\n",
       "    </tr>\n",
       "  </tbody>\n",
       "</table><h4>Secretion</h4><table border=\"1\" class=\"dataframe\">\n",
       "  <thead>\n",
       "    <tr style=\"text-align: right;\">\n",
       "      <th>Metabolite</th>\n",
       "      <th>Reaction</th>\n",
       "      <th>Flux</th>\n",
       "      <th>C-Number</th>\n",
       "      <th>C-Flux</th>\n",
       "    </tr>\n",
       "  </thead>\n",
       "  <tbody>\n",
       "    <tr>\n",
       "      <td>co2_e</td>\n",
       "      <td>EX_co2_e</td>\n",
       "      <td>-14.96</td>\n",
       "      <td>1</td>\n",
       "      <td>0.15%</td>\n",
       "    </tr>\n",
       "    <tr>\n",
       "      <td>h2o_e</td>\n",
       "      <td>EX_h2o_e</td>\n",
       "      <td>-22.22</td>\n",
       "      <td>0</td>\n",
       "      <td>0.00%</td>\n",
       "    </tr>\n",
       "    <tr>\n",
       "      <td>h_e</td>\n",
       "      <td>EX_h_e</td>\n",
       "      <td>-21.37</td>\n",
       "      <td>0</td>\n",
       "      <td>0.00%</td>\n",
       "    </tr>\n",
       "    <tr>\n",
       "      <td>pi_e</td>\n",
       "      <td>EX_pi_e</td>\n",
       "      <td>-1000</td>\n",
       "      <td>0</td>\n",
       "      <td>0.00%</td>\n",
       "    </tr>\n",
       "    <tr>\n",
       "      <td>CHORISMATE_c</td>\n",
       "      <td>SK_CHORISMATE_c</td>\n",
       "      <td>-977.5</td>\n",
       "      <td>10</td>\n",
       "      <td>99.85%</td>\n",
       "    </tr>\n",
       "  </tbody>\n",
       "</table>"
      ],
      "text/plain": [
       "<cobra.summary.model_summary.ModelSummary at 0x7cb421d20d30>"
      ]
     },
     "metadata": {},
     "output_type": "display_data"
    }
   ],
   "source": [
    "# W3110 type\n",
    "model.objective = \"W3110_biomass\"\n",
    "\n",
    "solution_W3110 = model.optimize()\n",
    "display(model.summary(solution=solution_W3110))\n",
    "\n",
    "# SA3 strain\n",
    "model.objective = \"SA3_biomass\"\n",
    "solution_SA3 = model.optimize()\n",
    "display(model.summary(solution=solution_SA3))"
   ]
  },
  {
   "cell_type": "markdown",
   "id": "d4db6f31",
   "metadata": {
    "id": "d4db6f31"
   },
   "source": [
    "## Visualization with Escher\n",
    "\n",
    "The object [cobramod.Pathway](\n",
    "module/cobramod/core/pathway/index.html#cobramod.core.pathway.Pathway\n",
    ") has a method for visualizing metabolic pathway using the pathway visualization tool [Escher](\n",
    "https://escher.readthedocs.io/en/latest/\n",
    ").\n",
    "The function\n",
    "[Pathway.visualize()](\n",
    "module/cobramod/core/pathway/index.html#cobramod.core.pathway.Pathway.visualize\n",
    ") generates pathway maps which can be\n",
    "easily customized with user-defined colors, flux ranges and gradient settings."
   ]
  },
  {
   "cell_type": "code",
   "execution_count": 13,
   "id": "8f8282d4",
   "metadata": {
    "colab": {
     "base_uri": "https://localhost:8080/",
     "height": 17,
     "referenced_widgets": [
      "a2fd8ee947bf4b08a72a5115e027ac59",
      "a9c0c8ac37f842fea13c14bb21c1b04f"
     ]
    },
    "id": "8f8282d4",
    "outputId": "94a59895-68bf-4597-f765-da532214509a",
    "scrolled": false
   },
   "outputs": [
    {
     "data": {
      "application/vnd.jupyter.widget-view+json": {
       "model_id": "d167470c5b274eea85f549e7577b2f4c",
       "version_major": 2,
       "version_minor": 0
      },
      "text/plain": [
       "Builder(never_ask_before_quit=True, reaction_scale={}, reaction_styles=['color', 'text'])"
      ]
     },
     "metadata": {},
     "output_type": "display_data"
    }
   ],
   "source": [
    "model.groups.get_by_id(\"PWY-SHIKIMATE\").visualize()"
   ]
  },
  {
   "cell_type": "markdown",
   "id": "tKeliuyeOZRS",
   "metadata": {
    "id": "tKeliuyeOZRS"
   },
   "source": [
    "To visually compare our results we set the colors for positive and\n",
    "negative fluxes to blue and red, respectively (By default, all color gradients use grey tones around zero, i.e. more saturated colors indicate larger absolute flux values). We set the map orientation to horizontal. To be able to compare the two flux simulations we set the bounds for the color gradient (`color_min_max`) to -3 and 3. The coloring of the arrows represents the values of the flux solution. To visualize the solution, we use the argument `solution_fluxes`.\n",
    "The first visualization displays the flux distributions for the\n",
    "W3110 strain. In this example, the flux values are close to 0 and thus the colors are pale. The second visualization displays the flux distributions for the SA3 strain which has higher fluxes and thus more saturated colors. Note that\n",
    "the reaction `SHIKIMATE_5_DEHYDROGENASE_RXN_c` has a\n",
    "negative flux because it is operating in the backwards direction ([reaction information](\n",
    "  https://biocyc.org/ECOLI/NEW-IMAGE?type=REACTION&object=SHIKIMATE-5-DEHYDROGENASE-RXN\n",
    "))."
   ]
  },
  {
   "cell_type": "code",
   "execution_count": 14,
   "id": "_Kv7Z89emppB",
   "metadata": {
    "colab": {
     "base_uri": "https://localhost:8080/",
     "height": 17,
     "referenced_widgets": [
      "1e5d73af432e465ca2cee79fc93305fd",
      "3c2ab75926ab40c3a5415b586cfc4458",
      "ed498c8ce30c4c36a0d3c2c7ae84fee7",
      "e494ff28cf924dd6afd140de4f49e7a1"
     ]
    },
    "id": "_Kv7Z89emppB",
    "outputId": "b1d6d0b9-8487-4c80-c2be-df6daf09f564"
   },
   "outputs": [
    {
     "data": {
      "application/vnd.jupyter.widget-view+json": {
       "model_id": "f9c5da73ccb84bad8ed321b4d92a707e",
       "version_major": 2,
       "version_minor": 0
      },
      "text/plain": [
       "Builder(never_ask_before_quit=True, reaction_data={'ACALD': 0.0, 'ACALDt': 0.0, 'ACKr': 0.0, 'ACONTa': 1.41796…"
      ]
     },
     "metadata": {},
     "output_type": "display_data"
    },
    {
     "data": {
      "application/vnd.jupyter.widget-view+json": {
       "model_id": "ba2691ef1724424b828c1011aca6030c",
       "version_major": 2,
       "version_minor": 0
      },
      "text/plain": [
       "Builder(never_ask_before_quit=True, reaction_data={'ACALD': 0.0, 'ACALDt': 0.0, 'ACKr': 0.0, 'ACONTa': 0.79823…"
      ]
     },
     "metadata": {},
     "output_type": "display_data"
    }
   ],
   "source": [
    "# Customize pathway\n",
    "model.groups.get_by_id(\"PWY-SHIKIMATE\").vertical = False\n",
    "model.groups.get_by_id(\"PWY-SHIKIMATE\").color_positive = \"blue\"\n",
    "model.groups.get_by_id(\"PWY-SHIKIMATE\").color_negative = \"red\"\n",
    "model.groups.get_by_id(\"PWY-SHIKIMATE\").color_min_max = [-3, 3]\n",
    "\n",
    "# Visualize pathway with solutions\n",
    "display(model.groups.get_by_id(\"PWY-SHIKIMATE\").visualize(\n",
    "    solution_fluxes=solution_W3110)\n",
    ")\n",
    "display(model.groups.get_by_id(\"PWY-SHIKIMATE\").visualize(\n",
    "    solution_fluxes=solution_SA3)\n",
    ")"
   ]
  },
  {
   "cell_type": "markdown",
   "id": "t0TnIORYOyDf",
   "metadata": {
    "id": "t0TnIORYOyDf"
   },
   "source": [
    "## Supplementary Information: Approximation of biomass compositions\n",
    "\n",
    "To add shikimate to the biomass reactions, we calculate the shikimate\n",
    "contribution and the contribution of the other metabolite to biomass."
   ]
  },
  {
   "cell_type": "code",
   "execution_count": 18,
   "id": "c7dc2c63",
   "metadata": {
    "colab": {
     "base_uri": "https://localhost:8080/"
    },
    "id": "c7dc2c63",
    "outputId": "b2a043c4-b44c-44c2-a5de-01186b1b36c4",
    "tags": [
     "#C"
    ]
   },
   "outputs": [
    {
     "name": "stdout",
     "output_type": "stream",
     "text": [
      "Sum of contribution for negative coefficients: -48165.2120532678\n",
      "Sum of contribution for positive coefficients: 46624.4458868131\n"
     ]
    }
   ],
   "source": [
    "import pandas as pd\n",
    "\n",
    "# Building dataframe from Biomass\n",
    "biomass_df = pd.DataFrame(\n",
    "    [metabolite.id, metabolite.formula, metabolite.formula_weight, value]\n",
    "    for metabolite, value in model.reactions.get_by_id(\n",
    "        \"Biomass_Ecoli_core\"\n",
    "    ).metabolites.items()\n",
    ")\n",
    "biomass_df.columns = [\"identifier\", \"formula\", \"mol_weight\", \"coefficient\"]\n",
    "biomass_df[\"mol_weight*coefficient\"] = (\n",
    "    biomass_df[\"mol_weight\"] * biomass_df[\"coefficient\"]\n",
    ")\n",
    "# display(biomass_df)\n",
    "\n",
    "# Calculate Sum of coefficients multiplied by constants\n",
    "sum_mol_coefficient_negative = biomass_df[\"mol_weight*coefficient\"][\n",
    "    biomass_df[\"mol_weight*coefficient\"] < 0\n",
    "].sum()\n",
    "sum_mol_coefficient_positive = biomass_df[\"mol_weight*coefficient\"][\n",
    "    biomass_df[\"mol_weight*coefficient\"] > 0\n",
    "].sum()\n",
    "print(\n",
    "    \"Sum of contribution for negative coefficients: \"\n",
    "    + f\"{sum_mol_coefficient_negative}\"\n",
    ")\n",
    "print(\n",
    "    \"Sum of contribution for positive coefficients: \"\n",
    "    + f\"{sum_mol_coefficient_positive}\"\n",
    ")"
   ]
  },
  {
   "cell_type": "markdown",
   "id": "VxBYL872QuIq",
   "metadata": {
    "id": "VxBYL872QuIq"
   },
   "source": [
    "We created a function that returns a table with the updated negative biomass coefficients. In the first part we calculate the contribution of\n",
    "shikimate (`shikimate_mol_weight_coefficient`) to the biomass followed by the calculations for the remaining metabolites. Finally, we divide the values by the molecular weight of the respective metabolite which gives us the new biomass coefficients.\n",
    "\n",
    "The two tables below show the new coefficients (`new_coefficient`) for the two \n",
    "strains."
   ]
  },
  {
   "cell_type": "code",
   "execution_count": 19,
   "id": "yq_O6zL-mEsN",
   "metadata": {
    "colab": {
     "base_uri": "https://localhost:8080/",
     "height": 1000
    },
    "id": "yq_O6zL-mEsN",
    "outputId": "98f9f7f8-49b3-47c3-c89a-457aec84d96a",
    "tags": [
     "#B",
     "=>C"
    ]
   },
   "outputs": [
    {
     "name": "stdout",
     "output_type": "stream",
     "text": [
      "Table with new negative coefficients for W3110 strain\n"
     ]
    },
    {
     "data": {
      "text/html": [
       "<div>\n",
       "<style scoped>\n",
       "    .dataframe tbody tr th:only-of-type {\n",
       "        vertical-align: middle;\n",
       "    }\n",
       "\n",
       "    .dataframe tbody tr th {\n",
       "        vertical-align: top;\n",
       "    }\n",
       "\n",
       "    .dataframe thead th {\n",
       "        text-align: right;\n",
       "    }\n",
       "</style>\n",
       "<table border=\"1\" class=\"dataframe\">\n",
       "  <thead>\n",
       "    <tr style=\"text-align: right;\">\n",
       "      <th></th>\n",
       "      <th>identifier</th>\n",
       "      <th>new_coefficient</th>\n",
       "    </tr>\n",
       "  </thead>\n",
       "  <tbody>\n",
       "    <tr>\n",
       "      <th>0</th>\n",
       "      <td>3pg_c</td>\n",
       "      <td>-1.495427</td>\n",
       "    </tr>\n",
       "    <tr>\n",
       "      <th>1</th>\n",
       "      <td>accoa_c</td>\n",
       "      <td>-3.746364</td>\n",
       "    </tr>\n",
       "    <tr>\n",
       "      <th>2</th>\n",
       "      <td>atp_c</td>\n",
       "      <td>-59.78709</td>\n",
       "    </tr>\n",
       "    <tr>\n",
       "      <th>3</th>\n",
       "      <td>e4p_c</td>\n",
       "      <td>-0.360862</td>\n",
       "    </tr>\n",
       "    <tr>\n",
       "      <th>4</th>\n",
       "      <td>f6p_c</td>\n",
       "      <td>-0.070873</td>\n",
       "    </tr>\n",
       "    <tr>\n",
       "      <th>5</th>\n",
       "      <td>g3p_c</td>\n",
       "      <td>-0.128951</td>\n",
       "    </tr>\n",
       "    <tr>\n",
       "      <th>6</th>\n",
       "      <td>g6p_c</td>\n",
       "      <td>-0.204921</td>\n",
       "    </tr>\n",
       "    <tr>\n",
       "      <th>7</th>\n",
       "      <td>gln__L_c</td>\n",
       "      <td>-0.255602</td>\n",
       "    </tr>\n",
       "    <tr>\n",
       "      <th>8</th>\n",
       "      <td>glu__L_c</td>\n",
       "      <td>-4.939507</td>\n",
       "    </tr>\n",
       "    <tr>\n",
       "      <th>9</th>\n",
       "      <td>h2o_c</td>\n",
       "      <td>-59.78709</td>\n",
       "    </tr>\n",
       "    <tr>\n",
       "      <th>10</th>\n",
       "      <td>nad_c</td>\n",
       "      <td>-3.545641</td>\n",
       "    </tr>\n",
       "    <tr>\n",
       "      <th>11</th>\n",
       "      <td>nadph_c</td>\n",
       "      <td>-13.02291</td>\n",
       "    </tr>\n",
       "    <tr>\n",
       "      <th>12</th>\n",
       "      <td>oaa_c</td>\n",
       "      <td>-1.786016</td>\n",
       "    </tr>\n",
       "    <tr>\n",
       "      <th>13</th>\n",
       "      <td>pep_c</td>\n",
       "      <td>-0.518901</td>\n",
       "    </tr>\n",
       "    <tr>\n",
       "      <th>14</th>\n",
       "      <td>pyr_c</td>\n",
       "      <td>-2.831715</td>\n",
       "    </tr>\n",
       "    <tr>\n",
       "      <th>15</th>\n",
       "      <td>r5p_c</td>\n",
       "      <td>-0.897356</td>\n",
       "    </tr>\n",
       "    <tr>\n",
       "      <th>16</th>\n",
       "      <td>SHIKIMATE_c</td>\n",
       "      <td>-0.106557</td>\n",
       "    </tr>\n",
       "  </tbody>\n",
       "</table>\n",
       "</div>"
      ],
      "text/plain": [
       "     identifier new_coefficient\n",
       "0         3pg_c       -1.495427\n",
       "1       accoa_c       -3.746364\n",
       "2         atp_c       -59.78709\n",
       "3         e4p_c       -0.360862\n",
       "4         f6p_c       -0.070873\n",
       "5         g3p_c       -0.128951\n",
       "6         g6p_c       -0.204921\n",
       "7      gln__L_c       -0.255602\n",
       "8      glu__L_c       -4.939507\n",
       "9         h2o_c       -59.78709\n",
       "10        nad_c       -3.545641\n",
       "11      nadph_c       -13.02291\n",
       "12        oaa_c       -1.786016\n",
       "13        pep_c       -0.518901\n",
       "14        pyr_c       -2.831715\n",
       "15        r5p_c       -0.897356\n",
       "16  SHIKIMATE_c       -0.106557"
      ]
     },
     "metadata": {},
     "output_type": "display_data"
    },
    {
     "name": "stdout",
     "output_type": "stream",
     "text": [
      "Table with new negative coefficients for SA3 strain\n"
     ]
    },
    {
     "data": {
      "text/html": [
       "<div>\n",
       "<style scoped>\n",
       "    .dataframe tbody tr th:only-of-type {\n",
       "        vertical-align: middle;\n",
       "    }\n",
       "\n",
       "    .dataframe tbody tr th {\n",
       "        vertical-align: top;\n",
       "    }\n",
       "\n",
       "    .dataframe thead th {\n",
       "        text-align: right;\n",
       "    }\n",
       "</style>\n",
       "<table border=\"1\" class=\"dataframe\">\n",
       "  <thead>\n",
       "    <tr style=\"text-align: right;\">\n",
       "      <th></th>\n",
       "      <th>identifier</th>\n",
       "      <th>new_coefficient</th>\n",
       "    </tr>\n",
       "  </thead>\n",
       "  <tbody>\n",
       "    <tr>\n",
       "      <th>0</th>\n",
       "      <td>3pg_c</td>\n",
       "      <td>-1.376891</td>\n",
       "    </tr>\n",
       "    <tr>\n",
       "      <th>1</th>\n",
       "      <td>accoa_c</td>\n",
       "      <td>-3.449406</td>\n",
       "    </tr>\n",
       "    <tr>\n",
       "      <th>2</th>\n",
       "      <td>atp_c</td>\n",
       "      <td>-55.048028</td>\n",
       "    </tr>\n",
       "    <tr>\n",
       "      <th>3</th>\n",
       "      <td>e4p_c</td>\n",
       "      <td>-0.332258</td>\n",
       "    </tr>\n",
       "    <tr>\n",
       "      <th>4</th>\n",
       "      <td>f6p_c</td>\n",
       "      <td>-0.065255</td>\n",
       "    </tr>\n",
       "    <tr>\n",
       "      <th>5</th>\n",
       "      <td>g3p_c</td>\n",
       "      <td>-0.118729</td>\n",
       "    </tr>\n",
       "    <tr>\n",
       "      <th>6</th>\n",
       "      <td>g6p_c</td>\n",
       "      <td>-0.188678</td>\n",
       "    </tr>\n",
       "    <tr>\n",
       "      <th>7</th>\n",
       "      <td>gln__L_c</td>\n",
       "      <td>-0.235342</td>\n",
       "    </tr>\n",
       "    <tr>\n",
       "      <th>8</th>\n",
       "      <td>glu__L_c</td>\n",
       "      <td>-4.547974</td>\n",
       "    </tr>\n",
       "    <tr>\n",
       "      <th>9</th>\n",
       "      <td>h2o_c</td>\n",
       "      <td>-55.048028</td>\n",
       "    </tr>\n",
       "    <tr>\n",
       "      <th>10</th>\n",
       "      <td>nad_c</td>\n",
       "      <td>-3.264594</td>\n",
       "    </tr>\n",
       "    <tr>\n",
       "      <th>11</th>\n",
       "      <td>nadph_c</td>\n",
       "      <td>-11.99064</td>\n",
       "    </tr>\n",
       "    <tr>\n",
       "      <th>12</th>\n",
       "      <td>oaa_c</td>\n",
       "      <td>-1.644446</td>\n",
       "    </tr>\n",
       "    <tr>\n",
       "      <th>13</th>\n",
       "      <td>pep_c</td>\n",
       "      <td>-0.47777</td>\n",
       "    </tr>\n",
       "    <tr>\n",
       "      <th>14</th>\n",
       "      <td>pyr_c</td>\n",
       "      <td>-2.607257</td>\n",
       "    </tr>\n",
       "    <tr>\n",
       "      <th>15</th>\n",
       "      <td>r5p_c</td>\n",
       "      <td>-0.826227</td>\n",
       "    </tr>\n",
       "    <tr>\n",
       "      <th>16</th>\n",
       "      <td>SHIKIMATE_c</td>\n",
       "      <td>-22.148743</td>\n",
       "    </tr>\n",
       "  </tbody>\n",
       "</table>\n",
       "</div>"
      ],
      "text/plain": [
       "     identifier new_coefficient\n",
       "0         3pg_c       -1.376891\n",
       "1       accoa_c       -3.449406\n",
       "2         atp_c      -55.048028\n",
       "3         e4p_c       -0.332258\n",
       "4         f6p_c       -0.065255\n",
       "5         g3p_c       -0.118729\n",
       "6         g6p_c       -0.188678\n",
       "7      gln__L_c       -0.235342\n",
       "8      glu__L_c       -4.547974\n",
       "9         h2o_c      -55.048028\n",
       "10        nad_c       -3.264594\n",
       "11      nadph_c       -11.99064\n",
       "12        oaa_c       -1.644446\n",
       "13        pep_c        -0.47777\n",
       "14        pyr_c       -2.607257\n",
       "15        r5p_c       -0.826227\n",
       "16  SHIKIMATE_c      -22.148743"
      ]
     },
     "execution_count": 19,
     "metadata": {},
     "output_type": "execute_result"
    }
   ],
   "source": [
    "def new_coefficient(ratio: float):\n",
    "    \"\"\"\n",
    "    Returns the a dataframe with the new coefficient for reactants of the biomass\n",
    "    equation.\n",
    "    \"\"\"\n",
    "    SHIKIMATE_MOL_WEIGHT = 173.14\n",
    "    shikimate_mol_weight_coefficient = sum_mol_coefficient_negative * ratio\n",
    "    # Calculating new multiplication between the coefficients and constants\n",
    "    new_mol_weight_coefficient = biomass_df[\"mol_weight*coefficient\"][\n",
    "        biomass_df[\"mol_weight*coefficient\"] < 0\n",
    "    ] * (1 - ratio)\n",
    "    new_mol_weight_coefficient[\n",
    "        len(new_mol_weight_coefficient)\n",
    "    ] = shikimate_mol_weight_coefficient\n",
    "    # Verify that the sums are the same\n",
    "    assert round(new_mol_weight_coefficient.sum(), 4) == round(\n",
    "        sum_mol_coefficient_negative, 4\n",
    "    )\n",
    "\n",
    "    # Creating series with names of metabolites\n",
    "    identifiers = biomass_df[\"identifier\"][\n",
    "        biomass_df[\"mol_weight*coefficient\"] < 0\n",
    "    ]\n",
    "    identifiers[len(identifiers)] = \"SHIKIMATE_c\"\n",
    "\n",
    "    # Creating series with molecular weight of metabolites\n",
    "    mol_weight = biomass_df[\"mol_weight\"][\n",
    "        biomass_df[\"mol_weight*coefficient\"] < 0\n",
    "    ]\n",
    "    mol_weight[len(mol_weight)] = SHIKIMATE_MOL_WEIGHT\n",
    "\n",
    "    # Building new dataframe\n",
    "    new_coefficient_df = pd.DataFrame(\n",
    "        [identifiers, new_mol_weight_coefficient]\n",
    "    ).transpose()\n",
    "    new_coefficient_df[\"new_coefficient\"] = new_coefficient_df[\n",
    "        \"mol_weight*coefficient\"\n",
    "    ].divide(mol_weight)\n",
    "\n",
    "    # Appending old coefficients\n",
    "    new_coefficient_df[\"old_coefficient\"] = biomass_df[\"coefficient\"][\n",
    "        biomass_df[\"mol_weight*coefficient\"] < 0\n",
    "    ]\n",
    "    return new_coefficient_df\n",
    "\n",
    "W3110_df_negative = new_coefficient(ratio=shikimate_ratio[\"W3110\"])\n",
    "SA3_df_negative = new_coefficient(ratio=shikimate_ratio[\"SA3\"])\n",
    "\n",
    "# Display and format only relevant information\n",
    "print(\"Table with new negative coefficients for W3110 strain\")\n",
    "display(W3110_df_negative.loc[:,[\"identifier\",\"new_coefficient\"]])\n",
    "print(\"Table with new negative coefficients for SA3 strain\")\n",
    "SA3_df_negative.loc[:,[\"identifier\",\"new_coefficient\"]]"
   ]
  },
  {
   "cell_type": "markdown",
   "id": "AlsGM2Y3k8oU",
   "metadata": {
    "id": "AlsGM2Y3k8oU"
   },
   "source": [
    "Next, we calculate the updated positive coefficients for the biomass equations.\n",
    "In the biomass equation are maintenance related metabolites such as `adp_c` and  `atp_c` for which we assign the absolute value of their respective counterpart. The only exception is `akg_c` and for the sake of simplicity for this tutorial, we use the same coefficient for this metabolite.\n",
    "\n",
    "We create a function that returns a data frame with the new positive coefficient.\n",
    "The tables below shows the updated positive coefficients for both strains."
   ]
  },
  {
   "cell_type": "code",
   "execution_count": 20,
   "id": "-ME-2_JOhI2q",
   "metadata": {
    "colab": {
     "base_uri": "https://localhost:8080/",
     "height": 562
    },
    "id": "-ME-2_JOhI2q",
    "outputId": "2cbee37c-db57-4c85-96ac-84b4dba0d1ad",
    "tags": [
     "#A",
     "=>B"
    ]
   },
   "outputs": [
    {
     "name": "stdout",
     "output_type": "stream",
     "text": [
      "Table with new positive coefficients for W3110 strain\n"
     ]
    },
    {
     "data": {
      "text/html": [
       "<div>\n",
       "<style scoped>\n",
       "    .dataframe tbody tr th:only-of-type {\n",
       "        vertical-align: middle;\n",
       "    }\n",
       "\n",
       "    .dataframe tbody tr th {\n",
       "        vertical-align: top;\n",
       "    }\n",
       "\n",
       "    .dataframe thead th {\n",
       "        text-align: right;\n",
       "    }\n",
       "</style>\n",
       "<table border=\"1\" class=\"dataframe\">\n",
       "  <thead>\n",
       "    <tr style=\"text-align: right;\">\n",
       "      <th></th>\n",
       "      <th>identifier</th>\n",
       "      <th>new_coefficient</th>\n",
       "    </tr>\n",
       "  </thead>\n",
       "  <tbody>\n",
       "    <tr>\n",
       "      <th>0</th>\n",
       "      <td>adp_c</td>\n",
       "      <td>59.787090</td>\n",
       "    </tr>\n",
       "    <tr>\n",
       "      <th>1</th>\n",
       "      <td>akg_c</td>\n",
       "      <td>4.118200</td>\n",
       "    </tr>\n",
       "    <tr>\n",
       "      <th>2</th>\n",
       "      <td>coa_c</td>\n",
       "      <td>3.746364</td>\n",
       "    </tr>\n",
       "    <tr>\n",
       "      <th>3</th>\n",
       "      <td>h_c</td>\n",
       "      <td>59.787090</td>\n",
       "    </tr>\n",
       "    <tr>\n",
       "      <th>4</th>\n",
       "      <td>nadh_c</td>\n",
       "      <td>3.545641</td>\n",
       "    </tr>\n",
       "    <tr>\n",
       "      <th>5</th>\n",
       "      <td>nadp_c</td>\n",
       "      <td>13.022910</td>\n",
       "    </tr>\n",
       "    <tr>\n",
       "      <th>6</th>\n",
       "      <td>pi_c</td>\n",
       "      <td>59.787090</td>\n",
       "    </tr>\n",
       "  </tbody>\n",
       "</table>\n",
       "</div>"
      ],
      "text/plain": [
       "  identifier  new_coefficient\n",
       "0      adp_c        59.787090\n",
       "1      akg_c         4.118200\n",
       "2      coa_c         3.746364\n",
       "3        h_c        59.787090\n",
       "4     nadh_c         3.545641\n",
       "5     nadp_c        13.022910\n",
       "6       pi_c        59.787090"
      ]
     },
     "metadata": {},
     "output_type": "display_data"
    },
    {
     "name": "stdout",
     "output_type": "stream",
     "text": [
      "Table with new positive coefficients for SA3 strain\n"
     ]
    },
    {
     "data": {
      "text/html": [
       "<div>\n",
       "<style scoped>\n",
       "    .dataframe tbody tr th:only-of-type {\n",
       "        vertical-align: middle;\n",
       "    }\n",
       "\n",
       "    .dataframe tbody tr th {\n",
       "        vertical-align: top;\n",
       "    }\n",
       "\n",
       "    .dataframe thead th {\n",
       "        text-align: right;\n",
       "    }\n",
       "</style>\n",
       "<table border=\"1\" class=\"dataframe\">\n",
       "  <thead>\n",
       "    <tr style=\"text-align: right;\">\n",
       "      <th></th>\n",
       "      <th>identifier</th>\n",
       "      <th>new_coefficient</th>\n",
       "    </tr>\n",
       "  </thead>\n",
       "  <tbody>\n",
       "    <tr>\n",
       "      <th>0</th>\n",
       "      <td>adp_c</td>\n",
       "      <td>55.048028</td>\n",
       "    </tr>\n",
       "    <tr>\n",
       "      <th>1</th>\n",
       "      <td>akg_c</td>\n",
       "      <td>4.118200</td>\n",
       "    </tr>\n",
       "    <tr>\n",
       "      <th>2</th>\n",
       "      <td>coa_c</td>\n",
       "      <td>3.449406</td>\n",
       "    </tr>\n",
       "    <tr>\n",
       "      <th>3</th>\n",
       "      <td>h_c</td>\n",
       "      <td>55.048028</td>\n",
       "    </tr>\n",
       "    <tr>\n",
       "      <th>4</th>\n",
       "      <td>nadh_c</td>\n",
       "      <td>3.264594</td>\n",
       "    </tr>\n",
       "    <tr>\n",
       "      <th>5</th>\n",
       "      <td>nadp_c</td>\n",
       "      <td>11.990640</td>\n",
       "    </tr>\n",
       "    <tr>\n",
       "      <th>6</th>\n",
       "      <td>pi_c</td>\n",
       "      <td>55.048028</td>\n",
       "    </tr>\n",
       "  </tbody>\n",
       "</table>\n",
       "</div>"
      ],
      "text/plain": [
       "  identifier  new_coefficient\n",
       "0      adp_c        55.048028\n",
       "1      akg_c         4.118200\n",
       "2      coa_c         3.449406\n",
       "3        h_c        55.048028\n",
       "4     nadh_c         3.264594\n",
       "5     nadp_c        11.990640\n",
       "6       pi_c        55.048028"
      ]
     },
     "metadata": {},
     "output_type": "display_data"
    }
   ],
   "source": [
    "def new_positive_coefficient(df: pd.DataFrame):\n",
    "    \"\"\"\n",
    "    Returns a DataFrame with the new coefficients for the products of the\n",
    "    biomass reaction. The input dataframe is the dataframe with the new\n",
    "    coefficients for the reactants.\n",
    "    \"\"\"\n",
    "    # Copy original biomass df and remove columns\n",
    "    products = biomass_df[biomass_df[\"mol_weight*coefficient\"] > 0].copy()\n",
    "    del products[\"formula\"]\n",
    "    del products[\"mol_weight*coefficient\"]\n",
    "    products.columns = products.columns.str.replace(\n",
    "        \"coefficient\", \"old_coefficient\"\n",
    "    )   \n",
    "\n",
    "    # Create new column with the equivalent new coefficients\n",
    "    products[\"new_coefficient\"] = [\n",
    "        df[\"new_coefficient\"][2],\n",
    "        -4.1182,\n",
    "        df[\"new_coefficient\"][1],\n",
    "        df[\"new_coefficient\"][2],\n",
    "        df[\"new_coefficient\"][10],\n",
    "        df[\"new_coefficient\"][11],\n",
    "        df[\"new_coefficient\"][2],\n",
    "    ]\n",
    "    # Update index and convert to absolute value\n",
    "    products.index = range(0, len(products[\"new_coefficient\"]))\n",
    "    products[\"new_coefficient\"] = products[\"new_coefficient\"] * -1\n",
    "    return products\n",
    "\n",
    "W3110_df_positive = new_positive_coefficient(W3110_df_negative)\n",
    "SA3_df_positive = new_positive_coefficient(SA3_df_negative)\n",
    "\n",
    "# Display and format only relevant information\n",
    "print(\"Table with new positive coefficients for W3110 strain\")\n",
    "display(W3110_df_positive.loc[:,[\"identifier\",\"new_coefficient\"]])\n",
    "\n",
    "print(\"Table with new positive coefficients for SA3 strain\")\n",
    "display(SA3_df_positive.loc[:,[\"identifier\",\"new_coefficient\"]])"
   ]
  },
  {
   "cell_type": "markdown",
   "id": "a7faacdb",
   "metadata": {
    "id": "a7faacdb"
   },
   "source": [
    "## References\n",
    "\n",
    "1. Orth, Jeffrey D., R. M. T. Fleming, and Bernhard Ø. Palsson. “Reconstruction and Use of Microbial Metabolic Networks: The Core Escherichia Coli Metabolic Model as an Educational Guide.” EcoSal Plus 4, no. 1 (February 1, 2010). https://doi.org/10.1128/ecosalplus.10.2.1.\n",
    "2. Chen, Xianzhong, Mingming Li, Li Zhou, Wei Shen, Govender Algasan, You Fan, and Zhengxiang Wang. “Metabolic Engineering of Escherichia Coli for Improving Shikimate Synthesis from Glucose.” Bioresource Technology 166 (August 1, 2014): 64–71. https://doi.org/10.1016/j.biortech.2014.05.035.\n"
   ]
  }
 ],
 "metadata": {
  "celltoolbar": "Tags",
  "colab": {
   "collapsed_sections": [
    "c25b3164"
   ],
   "name": "shikimate.ipynb",
   "provenance": []
  },
  "jupytext": {
   "formats": "ipynb,md"
  },
  "kernelspec": {
   "display_name": "Python 3 (ipykernel)",
   "language": "python",
   "name": "python3"
  },
  "language_info": {
   "codemirror_mode": {
    "name": "ipython",
    "version": 3
   },
   "file_extension": ".py",
   "mimetype": "text/x-python",
   "name": "python",
   "nbconvert_exporter": "python",
   "pygments_lexer": "ipython3",
   "version": "3.10.13"
  },
  "widgets": {
   "application/vnd.jupyter.widget-state+json": {
    "state": {
     "142cafd8e6034312bab14b11d5df4126": {
      "model_module": "@jupyter-widgets/base",
      "model_module_version": "1.2.0",
      "model_name": "LayoutModel",
      "state": {}
     },
     "2900bdb4bcd24f7da73cf004a08265a2": {
      "model_module": "@jupyter-widgets/base",
      "model_module_version": "1.2.0",
      "model_name": "LayoutModel",
      "state": {}
     },
     "2f43ae0f3ab64a41a44eefa589f45762": {
      "model_module": "@jupyter-widgets/base",
      "model_module_version": "1.2.0",
      "model_name": "LayoutModel",
      "state": {}
     },
     "38b194260a48475eb4a35899ae0cab5c": {
      "model_module": "@jupyter-widgets/base",
      "model_module_version": "1.2.0",
      "model_name": "LayoutModel",
      "state": {}
     },
     "44138fec5c0d4495a5eaef68905cb592": {
      "model_module": "escher",
      "model_module_version": "1.7.3",
      "model_name": "EscherMapModel",
      "state": {
       "_loaded_map_json": "[{\"map_name\": \"\", \"map_id\": \"\", \"map_description\": \"\", \"homepage\": \"\", \"schema\": \"https://escher.github.io/escher/jsonschema/1-0-0#\"}, {\"reactions\": {\"0\": {\"name\": \"DAHPSYN_RXN_c\", \"bigg_id\": \"DAHPSYN_RXN_c\", \"reversibility\": true, \"label_x\": 208.0, \"label_y\": 45.0, \"gene_reaction_rule\": \"\", \"genes\": [], \"segments\": {\"0\": {\"from_node_id\": \"5\", \"to_node_id\": \"6\", \"b1\": null, \"b2\": null}, \"1\": {\"from_node_id\": \"7\", \"to_node_id\": \"6\", \"b1\": null, \"b2\": null}, \"2\": {\"from_node_id\": \"0\", \"to_node_id\": \"5\", \"b1\": null, \"b2\": null}, \"3\": {\"from_node_id\": \"1\", \"to_node_id\": \"5\", \"b1\": null, \"b2\": null}, \"4\": {\"from_node_id\": \"2\", \"to_node_id\": \"5\", \"b1\": null, \"b2\": null}, \"5\": {\"from_node_id\": \"3\", \"to_node_id\": \"7\", \"b1\": null, \"b2\": null}, \"6\": {\"from_node_id\": \"4\", \"to_node_id\": \"7\", \"b1\": null, \"b2\": null}}, \"metabolites\": [{\"bigg_id\": \"e4p_c\", \"coefficient\": -1.0}, {\"bigg_id\": \"h2o_c\", \"coefficient\": -1.0}, {\"bigg_id\": \"pep_c\", \"coefficient\": -1.0}, {\"bigg_id\": \"3_DEOXY_D_ARABINO_HEPTULOSONATE_7_P_c\", \"coefficient\": 1.0}, {\"bigg_id\": \"pi_c\", \"coefficient\": 1.0}]}, \"1\": {\"name\": \"3_DEHYDROQUINATE_SYNTHASE_RXN_c\", \"bigg_id\": \"3_DEHYDROQUINATE_SYNTHASE_RXN_c\", \"reversibility\": true, \"label_x\": 696.0, \"label_y\": 45.0, \"gene_reaction_rule\": \"\", \"genes\": [], \"segments\": {\"7\": {\"from_node_id\": \"10\", \"to_node_id\": \"11\", \"b1\": null, \"b2\": null}, \"8\": {\"from_node_id\": \"12\", \"to_node_id\": \"11\", \"b1\": null, \"b2\": null}, \"9\": {\"from_node_id\": \"3\", \"to_node_id\": \"10\", \"b1\": null, \"b2\": null}, \"10\": {\"from_node_id\": \"8\", \"to_node_id\": \"12\", \"b1\": null, \"b2\": null}, \"11\": {\"from_node_id\": \"9\", \"to_node_id\": \"12\", \"b1\": null, \"b2\": null}}, \"metabolites\": [{\"bigg_id\": \"3_DEOXY_D_ARABINO_HEPTULOSONATE_7_P_c\", \"coefficient\": -1.0}, {\"bigg_id\": \"DEHYDROQUINATE_c\", \"coefficient\": 1.0}, {\"bigg_id\": \"pi_c\", \"coefficient\": 1.0}]}, \"2\": {\"name\": \"3_DEHYDROQUINATE_DEHYDRATASE_RXN_c\", \"bigg_id\": \"3_DEHYDROQUINATE_DEHYDRATASE_RXN_c\", \"reversibility\": true, \"label_x\": 1319.0, \"label_y\": 45.0, \"gene_reaction_rule\": \"\", \"genes\": [], \"segments\": {\"12\": {\"from_node_id\": \"15\", \"to_node_id\": \"16\", \"b1\": null, \"b2\": null}, \"13\": {\"from_node_id\": \"17\", \"to_node_id\": \"16\", \"b1\": null, \"b2\": null}, \"14\": {\"from_node_id\": \"8\", \"to_node_id\": \"15\", \"b1\": null, \"b2\": null}, \"15\": {\"from_node_id\": \"13\", \"to_node_id\": \"17\", \"b1\": null, \"b2\": null}, \"16\": {\"from_node_id\": \"14\", \"to_node_id\": \"17\", \"b1\": null, \"b2\": null}}, \"metabolites\": [{\"bigg_id\": \"DEHYDROQUINATE_c\", \"coefficient\": -1.0}, {\"bigg_id\": \"3_DEHYDRO_SHIKIMATE_c\", \"coefficient\": 1.0}, {\"bigg_id\": \"h2o_c\", \"coefficient\": 1.0}]}, \"3\": {\"name\": \"SHIKIMATE_5_DEHYDROGENASE_RXN_c\", \"bigg_id\": \"SHIKIMATE_5_DEHYDROGENASE_RXN_c\", \"reversibility\": true, \"label_x\": 1996.0, \"label_y\": 45.0, \"gene_reaction_rule\": \"\", \"genes\": [], \"segments\": {\"17\": {\"from_node_id\": \"23\", \"to_node_id\": \"24\", \"b1\": null, \"b2\": null}, \"18\": {\"from_node_id\": \"25\", \"to_node_id\": \"24\", \"b1\": null, \"b2\": null}, \"19\": {\"from_node_id\": \"18\", \"to_node_id\": \"23\", \"b1\": null, \"b2\": null}, \"20\": {\"from_node_id\": \"19\", \"to_node_id\": \"23\", \"b1\": null, \"b2\": null}, \"21\": {\"from_node_id\": \"20\", \"to_node_id\": \"25\", \"b1\": null, \"b2\": null}, \"22\": {\"from_node_id\": \"21\", \"to_node_id\": \"25\", \"b1\": null, \"b2\": null}, \"23\": {\"from_node_id\": \"22\", \"to_node_id\": \"25\", \"b1\": null, \"b2\": null}}, \"metabolites\": [{\"bigg_id\": \"SHIKIMATE_c\", \"coefficient\": -1.0}, {\"bigg_id\": \"nadp_c\", \"coefficient\": -1.0}, {\"bigg_id\": \"3_DEHYDRO_SHIKIMATE_c\", \"coefficient\": 1.0}, {\"bigg_id\": \"h_c\", \"coefficient\": 1.0}, {\"bigg_id\": \"nadph_c\", \"coefficient\": 1.0}]}, \"4\": {\"name\": \"SHIKIMATE_KINASE_RXN_c\", \"bigg_id\": \"SHIKIMATE_KINASE_RXN_c\", \"reversibility\": true, \"label_x\": 2727.0, \"label_y\": 45.0, \"gene_reaction_rule\": \"\", \"genes\": [], \"segments\": {\"24\": {\"from_node_id\": \"31\", \"to_node_id\": \"32\", \"b1\": null, \"b2\": null}, \"25\": {\"from_node_id\": \"33\", \"to_node_id\": \"32\", \"b1\": null, \"b2\": null}, \"26\": {\"from_node_id\": \"26\", \"to_node_id\": \"31\", \"b1\": null, \"b2\": null}, \"27\": {\"from_node_id\": \"27\", \"to_node_id\": \"31\", \"b1\": null, \"b2\": null}, \"28\": {\"from_node_id\": \"28\", \"to_node_id\": \"33\", \"b1\": null, \"b2\": null}, \"29\": {\"from_node_id\": \"29\", \"to_node_id\": \"33\", \"b1\": null, \"b2\": null}, \"30\": {\"from_node_id\": \"30\", \"to_node_id\": \"33\", \"b1\": null, \"b2\": null}}, \"metabolites\": [{\"bigg_id\": \"SHIKIMATE_c\", \"coefficient\": -1.0}, {\"bigg_id\": \"atp_c\", \"coefficient\": -1.0}, {\"bigg_id\": \"SHIKIMATE_5P_c\", \"coefficient\": 1.0}, {\"bigg_id\": \"adp_c\", \"coefficient\": 1.0}, {\"bigg_id\": \"h_c\", \"coefficient\": 1.0}]}, \"5\": {\"name\": \"2.5.1.19_RXN_c\", \"bigg_id\": \"2.5.1.19_RXN_c\", \"reversibility\": true, \"label_x\": 3449.0, \"label_y\": 45.0, \"gene_reaction_rule\": \"\", \"genes\": [], \"segments\": {\"31\": {\"from_node_id\": \"37\", \"to_node_id\": \"38\", \"b1\": null, \"b2\": null}, \"32\": {\"from_node_id\": \"39\", \"to_node_id\": \"38\", \"b1\": null, \"b2\": null}, \"33\": {\"from_node_id\": \"28\", \"to_node_id\": \"37\", \"b1\": null, \"b2\": null}, \"34\": {\"from_node_id\": \"34\", \"to_node_id\": \"37\", \"b1\": null, \"b2\": null}, \"35\": {\"from_node_id\": \"35\", \"to_node_id\": \"39\", \"b1\": null, \"b2\": null}, \"36\": {\"from_node_id\": \"36\", \"to_node_id\": \"39\", \"b1\": null, \"b2\": null}}, \"metabolites\": [{\"bigg_id\": \"SHIKIMATE_5P_c\", \"coefficient\": -1.0}, {\"bigg_id\": \"pep_c\", \"coefficient\": -1.0}, {\"bigg_id\": \"3_ENOLPYRUVYL_SHIKIMATE_5P_c\", \"coefficient\": 1.0}, {\"bigg_id\": \"pi_c\", \"coefficient\": 1.0}]}, \"6\": {\"name\": \"CHORISMATE_SYNTHASE_RXN_c\", \"bigg_id\": \"CHORISMATE_SYNTHASE_RXN_c\", \"reversibility\": true, \"label_x\": 4000.0, \"label_y\": 45.0, \"gene_reaction_rule\": \"\", \"genes\": [], \"segments\": {\"37\": {\"from_node_id\": \"42\", \"to_node_id\": \"43\", \"b1\": null, \"b2\": null}, \"38\": {\"from_node_id\": \"44\", \"to_node_id\": \"43\", \"b1\": null, \"b2\": null}, \"39\": {\"from_node_id\": \"35\", \"to_node_id\": \"42\", \"b1\": null, \"b2\": null}, \"40\": {\"from_node_id\": \"40\", \"to_node_id\": \"44\", \"b1\": null, \"b2\": null}, \"41\": {\"from_node_id\": \"41\", \"to_node_id\": \"44\", \"b1\": null, \"b2\": null}}, \"metabolites\": [{\"bigg_id\": \"3_ENOLPYRUVYL_SHIKIMATE_5P_c\", \"coefficient\": -1.0}, {\"bigg_id\": \"CHORISMATE_c\", \"coefficient\": 1.0}, {\"bigg_id\": \"pi_c\", \"coefficient\": 1.0}]}}, \"nodes\": {\"0\": {\"node_type\": \"metabolite\", \"x\": 30.0, \"y\": 112.5, \"label_x\": 0.0, \"label_y\": 92.5, \"bigg_id\": \"e4p_c\", \"name\": \"e4p_c\", \"node_is_primary\": false}, \"1\": {\"node_type\": \"metabolite\", \"x\": 30.0, \"y\": 225.0, \"label_x\": 0.0, \"label_y\": 205.0, \"bigg_id\": \"h2o_c\", \"name\": \"h2o_c\", \"node_is_primary\": false}, \"2\": {\"node_type\": \"metabolite\", \"x\": 30.0, \"y\": 337.5, \"label_x\": 0.0, \"label_y\": 317.5, \"bigg_id\": \"pep_c\", \"name\": \"pep_c\", \"node_is_primary\": false}, \"3\": {\"node_type\": \"metabolite\", \"x\": 550.0, \"y\": 150.0, \"label_x\": 520.0, \"label_y\": 130.0, \"bigg_id\": \"3_DEOXY_D_ARABINO_HEPTULOSONATE_7_P_c\", \"name\": \"3_DEOXY_D_ARABINO_HEPTULOSONATE_7_P_c\", \"node_is_primary\": false}, \"4\": {\"node_type\": \"metabolite\", \"x\": 550.0, \"y\": 300.0, \"label_x\": 520.0, \"label_y\": 280.0, \"bigg_id\": \"pi_c\", \"name\": \"pi_c\", \"node_is_primary\": false}, \"5\": {\"node_type\": \"multimarker\", \"x\": 335.0, \"y\": 225.0}, \"6\": {\"node_type\": \"midmarker\", \"x\": 355.0, \"y\": 225.0}, \"7\": {\"node_type\": \"multimarker\", \"x\": 375.0, \"y\": 225.0}, \"8\": {\"node_type\": \"metabolite\", \"x\": 1200.0, \"y\": 150.0, \"label_x\": 1170.0, \"label_y\": 130.0, \"bigg_id\": \"DEHYDROQUINATE_c\", \"name\": \"DEHYDROQUINATE_c\", \"node_is_primary\": false}, \"9\": {\"node_type\": \"metabolite\", \"x\": 1200.0, \"y\": 300.0, \"label_x\": 1170.0, \"label_y\": 280.0, \"bigg_id\": \"pi_c\", \"name\": \"pi_c\", \"node_is_primary\": false}, \"10\": {\"node_type\": \"multimarker\", \"x\": 985.0, \"y\": 225.0}, \"11\": {\"node_type\": \"midmarker\", \"x\": 1005.0, \"y\": 225.0}, \"12\": {\"node_type\": \"multimarker\", \"x\": 1025.0, \"y\": 225.0}, \"13\": {\"node_type\": \"metabolite\", \"x\": 1850.0, \"y\": 150.0, \"label_x\": 1820.0, \"label_y\": 130.0, \"bigg_id\": \"3_DEHYDRO_SHIKIMATE_c\", \"name\": \"3_DEHYDRO_SHIKIMATE_c\", \"node_is_primary\": false}, \"14\": {\"node_type\": \"metabolite\", \"x\": 1850.0, \"y\": 300.0, \"label_x\": 1820.0, \"label_y\": 280.0, \"bigg_id\": \"h2o_c\", \"name\": \"h2o_c\", \"node_is_primary\": false}, \"15\": {\"node_type\": \"multimarker\", \"x\": 1635.0, \"y\": 225.0}, \"16\": {\"node_type\": \"midmarker\", \"x\": 1655.0, \"y\": 225.0}, \"17\": {\"node_type\": \"multimarker\", \"x\": 1675.0, \"y\": 225.0}, \"18\": {\"node_type\": \"metabolite\", \"x\": 1980.0, \"y\": 150.0, \"label_x\": 1950.0, \"label_y\": 130.0, \"bigg_id\": \"SHIKIMATE_c\", \"name\": \"SHIKIMATE_c\", \"node_is_primary\": false}, \"19\": {\"node_type\": \"metabolite\", \"x\": 1980.0, \"y\": 300.0, \"label_x\": 1950.0, \"label_y\": 280.0, \"bigg_id\": \"nadp_c\", \"name\": \"nadp_c\", \"node_is_primary\": false}, \"20\": {\"node_type\": \"metabolite\", \"x\": 2500.0, \"y\": 112.5, \"label_x\": 2470.0, \"label_y\": 92.5, \"bigg_id\": \"3_DEHYDRO_SHIKIMATE_c\", \"name\": \"3_DEHYDRO_SHIKIMATE_c\", \"node_is_primary\": false}, \"21\": {\"node_type\": \"metabolite\", \"x\": 2500.0, \"y\": 225.0, \"label_x\": 2470.0, \"label_y\": 205.0, \"bigg_id\": \"h_c\", \"name\": \"h_c\", \"node_is_primary\": false}, \"22\": {\"node_type\": \"metabolite\", \"x\": 2500.0, \"y\": 337.5, \"label_x\": 2470.0, \"label_y\": 317.5, \"bigg_id\": \"nadph_c\", \"name\": \"nadph_c\", \"node_is_primary\": false}, \"23\": {\"node_type\": \"multimarker\", \"x\": 2285.0, \"y\": 225.0}, \"24\": {\"node_type\": \"midmarker\", \"x\": 2305.0, \"y\": 225.0}, \"25\": {\"node_type\": \"multimarker\", \"x\": 2325.0, \"y\": 225.0}, \"26\": {\"node_type\": \"metabolite\", \"x\": 2630.0, \"y\": 150.0, \"label_x\": 2600.0, \"label_y\": 130.0, \"bigg_id\": \"SHIKIMATE_c\", \"name\": \"SHIKIMATE_c\", \"node_is_primary\": false}, \"27\": {\"node_type\": \"metabolite\", \"x\": 2630.0, \"y\": 300.0, \"label_x\": 2600.0, \"label_y\": 280.0, \"bigg_id\": \"atp_c\", \"name\": \"atp_c\", \"node_is_primary\": false}, \"28\": {\"node_type\": \"metabolite\", \"x\": 3150.0, \"y\": 112.5, \"label_x\": 3120.0, \"label_y\": 92.5, \"bigg_id\": \"SHIKIMATE_5P_c\", \"name\": \"SHIKIMATE_5P_c\", \"node_is_primary\": false}, \"29\": {\"node_type\": \"metabolite\", \"x\": 3150.0, \"y\": 225.0, \"label_x\": 3120.0, \"label_y\": 205.0, \"bigg_id\": \"adp_c\", \"name\": \"adp_c\", \"node_is_primary\": false}, \"30\": {\"node_type\": \"metabolite\", \"x\": 3150.0, \"y\": 337.5, \"label_x\": 3120.0, \"label_y\": 317.5, \"bigg_id\": \"h_c\", \"name\": \"h_c\", \"node_is_primary\": false}, \"31\": {\"node_type\": \"multimarker\", \"x\": 2935.0, \"y\": 225.0}, \"32\": {\"node_type\": \"midmarker\", \"x\": 2955.0, \"y\": 225.0}, \"33\": {\"node_type\": \"multimarker\", \"x\": 2975.0, \"y\": 225.0}, \"34\": {\"node_type\": \"metabolite\", \"x\": 3280.0, \"y\": 300.0, \"label_x\": 3250.0, \"label_y\": 280.0, \"bigg_id\": \"pep_c\", \"name\": \"pep_c\", \"node_is_primary\": false}, \"35\": {\"node_type\": \"metabolite\", \"x\": 3800.0, \"y\": 150.0, \"label_x\": 3770.0, \"label_y\": 130.0, \"bigg_id\": \"3_ENOLPYRUVYL_SHIKIMATE_5P_c\", \"name\": \"3_ENOLPYRUVYL_SHIKIMATE_5P_c\", \"node_is_primary\": false}, \"36\": {\"node_type\": \"metabolite\", \"x\": 3800.0, \"y\": 300.0, \"label_x\": 3770.0, \"label_y\": 280.0, \"bigg_id\": \"pi_c\", \"name\": \"pi_c\", \"node_is_primary\": false}, \"37\": {\"node_type\": \"multimarker\", \"x\": 3585.0, \"y\": 225.0}, \"38\": {\"node_type\": \"midmarker\", \"x\": 3605.0, \"y\": 225.0}, \"39\": {\"node_type\": \"multimarker\", \"x\": 3625.0, \"y\": 225.0}, \"40\": {\"node_type\": \"metabolite\", \"x\": 4450.0, \"y\": 150.0, \"label_x\": 4420.0, \"label_y\": 130.0, \"bigg_id\": \"CHORISMATE_c\", \"name\": \"CHORISMATE_c\", \"node_is_primary\": false}, \"41\": {\"node_type\": \"metabolite\", \"x\": 4450.0, \"y\": 300.0, \"label_x\": 4420.0, \"label_y\": 280.0, \"bigg_id\": \"pi_c\", \"name\": \"pi_c\", \"node_is_primary\": false}, \"42\": {\"node_type\": \"multimarker\", \"x\": 4235.0, \"y\": 225.0}, \"43\": {\"node_type\": \"midmarker\", \"x\": 4255.0, \"y\": 225.0}, \"44\": {\"node_type\": \"multimarker\", \"x\": 4275.0, \"y\": 225.0}}, \"text_labels\": {}, \"canvas\": {\"x\": 0, \"y\": 0, \"width\": 4550, \"height\": 450}}]",
       "_loaded_model_json": null,
       "allow_building_duplicate_reactions": false,
       "and_method_in_gene_reaction_rule": "mean",
       "canvas_size_and_loc": null,
       "cofactors": [
        "atp",
        "adp",
        "nad",
        "nadh",
        "nadp",
        "nadph",
        "gtp",
        "gdp",
        "h",
        "coa",
        "ump",
        "h2o",
        "ppi"
       ],
       "disabled_buttons": [
        "Clear reaction data",
        "Clear gene data",
        "Clear metabolite data"
       ],
       "embedded_css": null,
       "enable_editing": true,
       "enable_keys": false,
       "enable_keys_with_tooltip": true,
       "enable_search": true,
       "enable_tooltips": false,
       "full_screen_button": {
        "enable_editing": true,
        "enable_keys": true,
        "enable_tooltips": [
         "label"
        ],
        "menu": "all",
        "scroll_behavior": "pan"
       },
       "gene_data": null,
       "gene_font_size": 18,
       "height": 500,
       "hide_all_labels": false,
       "hide_secondary_metabolites": false,
       "highlight_missing": false,
       "identifiers_on_map": "bigg_id",
       "layout": "IPY_MODEL_fc32836b602d4eff928a59bcdd9365be",
       "marker_radius": 5,
       "menu": "all",
       "metabolite_compare_style": "log2_fold",
       "metabolite_data": null,
       "metabolite_no_data_color": "#ffffff",
       "metabolite_no_data_size": 10,
       "metabolite_scale": [
        {
         "color": "#fffaf0",
         "size": 20,
         "type": "min"
        },
        {
         "color": "#f1c470",
         "size": 30,
         "type": "median"
        },
        {
         "color": "#800000",
         "size": 40,
         "type": "max"
        }
       ],
       "metabolite_scale_preset": "WhYlRd",
       "metabolite_styles": [
        "color",
        "size",
        "text"
       ],
       "never_ask_before_quit": true,
       "primary_metabolite_radius": 20,
       "reaction_compare_style": "log2_fold",
       "reaction_data": null,
       "reaction_no_data_color": "#dcdcdc",
       "reaction_no_data_size": 8,
       "reaction_scale": {},
       "reaction_scale_preset": null,
       "reaction_styles": [
        "color",
        "text"
       ],
       "scroll_behavior": "none",
       "secondary_metabolite_radius": 10,
       "semantic_zoom": null,
       "show_gene_reaction_rules": false,
       "starting_reaction": null,
       "use_3d_transform": false,
       "zoom_to_element": null
      }
     },
     "45addec7a4c04cc195f7c892c216c438": {
      "model_module": "@jupyter-widgets/base",
      "model_module_version": "1.2.0",
      "model_name": "LayoutModel",
      "state": {}
     },
     "462718ab22d04b988516fded32b97c0e": {
      "model_module": "escher",
      "model_module_version": "1.7.3",
      "model_name": "EscherMapModel",
      "state": {
       "_loaded_map_json": "[{\"map_name\": \"\", \"map_id\": \"\", \"map_description\": \"\", \"homepage\": \"\", \"schema\": \"https://escher.github.io/escher/jsonschema/1-0-0#\"}, {\"reactions\": {\"0\": {\"name\": \"3_DEHYDROQUINATE_DEHYDRATASE_RXN_c\", \"bigg_id\": \"3_DEHYDROQUINATE_DEHYDRATASE_RXN_c\", \"reversibility\": true, \"label_x\": 19.0, \"label_y\": 45.0, \"gene_reaction_rule\": \"\", \"genes\": [], \"segments\": {\"0\": {\"from_node_id\": \"3\", \"to_node_id\": \"4\", \"b1\": null, \"b2\": null}, \"1\": {\"from_node_id\": \"5\", \"to_node_id\": \"4\", \"b1\": null, \"b2\": null}, \"2\": {\"from_node_id\": \"0\", \"to_node_id\": \"3\", \"b1\": null, \"b2\": null}, \"3\": {\"from_node_id\": \"1\", \"to_node_id\": \"5\", \"b1\": null, \"b2\": null}, \"4\": {\"from_node_id\": \"2\", \"to_node_id\": \"5\", \"b1\": null, \"b2\": null}}, \"metabolites\": [{\"bigg_id\": \"DEHYDROQUINATE_c\", \"coefficient\": -1.0}, {\"bigg_id\": \"3_DEHYDRO_SHIKIMATE_c\", \"coefficient\": 1.0}, {\"bigg_id\": \"h2o_c\", \"coefficient\": 1.0}]}, \"1\": {\"name\": \"SHIKIMATE_5_DEHYDROGENASE_RXN_c\", \"bigg_id\": \"SHIKIMATE_5_DEHYDROGENASE_RXN_c\", \"reversibility\": true, \"label_x\": 696.0, \"label_y\": 45.0, \"gene_reaction_rule\": \"\", \"genes\": [], \"segments\": {\"5\": {\"from_node_id\": \"11\", \"to_node_id\": \"12\", \"b1\": null, \"b2\": null}, \"6\": {\"from_node_id\": \"13\", \"to_node_id\": \"12\", \"b1\": null, \"b2\": null}, \"7\": {\"from_node_id\": \"6\", \"to_node_id\": \"11\", \"b1\": null, \"b2\": null}, \"8\": {\"from_node_id\": \"7\", \"to_node_id\": \"11\", \"b1\": null, \"b2\": null}, \"9\": {\"from_node_id\": \"8\", \"to_node_id\": \"13\", \"b1\": null, \"b2\": null}, \"10\": {\"from_node_id\": \"9\", \"to_node_id\": \"13\", \"b1\": null, \"b2\": null}, \"11\": {\"from_node_id\": \"10\", \"to_node_id\": \"13\", \"b1\": null, \"b2\": null}}, \"metabolites\": [{\"bigg_id\": \"SHIKIMATE_c\", \"coefficient\": -1.0}, {\"bigg_id\": \"nadp_c\", \"coefficient\": -1.0}, {\"bigg_id\": \"3_DEHYDRO_SHIKIMATE_c\", \"coefficient\": 1.0}, {\"bigg_id\": \"h_c\", \"coefficient\": 1.0}, {\"bigg_id\": \"nadph_c\", \"coefficient\": 1.0}]}, \"2\": {\"name\": \"SHIKIMATE_KINASE_RXN_c\", \"bigg_id\": \"SHIKIMATE_KINASE_RXN_c\", \"reversibility\": true, \"label_x\": 1427.0, \"label_y\": 45.0, \"gene_reaction_rule\": \"\", \"genes\": [], \"segments\": {\"12\": {\"from_node_id\": \"19\", \"to_node_id\": \"20\", \"b1\": null, \"b2\": null}, \"13\": {\"from_node_id\": \"21\", \"to_node_id\": \"20\", \"b1\": null, \"b2\": null}, \"14\": {\"from_node_id\": \"14\", \"to_node_id\": \"19\", \"b1\": null, \"b2\": null}, \"15\": {\"from_node_id\": \"15\", \"to_node_id\": \"19\", \"b1\": null, \"b2\": null}, \"16\": {\"from_node_id\": \"16\", \"to_node_id\": \"21\", \"b1\": null, \"b2\": null}, \"17\": {\"from_node_id\": \"17\", \"to_node_id\": \"21\", \"b1\": null, \"b2\": null}, \"18\": {\"from_node_id\": \"18\", \"to_node_id\": \"21\", \"b1\": null, \"b2\": null}}, \"metabolites\": [{\"bigg_id\": \"SHIKIMATE_c\", \"coefficient\": -1.0}, {\"bigg_id\": \"atp_c\", \"coefficient\": -1.0}, {\"bigg_id\": \"SHIKIMATE_5P_c\", \"coefficient\": 1.0}, {\"bigg_id\": \"adp_c\", \"coefficient\": 1.0}, {\"bigg_id\": \"h_c\", \"coefficient\": 1.0}]}, \"3\": {\"name\": \"2.5.1.19_RXN_c\", \"bigg_id\": \"2.5.1.19_RXN_c\", \"reversibility\": true, \"label_x\": 2149.0, \"label_y\": 45.0, \"gene_reaction_rule\": \"\", \"genes\": [], \"segments\": {\"19\": {\"from_node_id\": \"25\", \"to_node_id\": \"26\", \"b1\": null, \"b2\": null}, \"20\": {\"from_node_id\": \"27\", \"to_node_id\": \"26\", \"b1\": null, \"b2\": null}, \"21\": {\"from_node_id\": \"16\", \"to_node_id\": \"25\", \"b1\": null, \"b2\": null}, \"22\": {\"from_node_id\": \"22\", \"to_node_id\": \"25\", \"b1\": null, \"b2\": null}, \"23\": {\"from_node_id\": \"23\", \"to_node_id\": \"27\", \"b1\": null, \"b2\": null}, \"24\": {\"from_node_id\": \"24\", \"to_node_id\": \"27\", \"b1\": null, \"b2\": null}}, \"metabolites\": [{\"bigg_id\": \"SHIKIMATE_5P_c\", \"coefficient\": -1.0}, {\"bigg_id\": \"pep_c\", \"coefficient\": -1.0}, {\"bigg_id\": \"3_ENOLPYRUVYL_SHIKIMATE_5P_c\", \"coefficient\": 1.0}, {\"bigg_id\": \"pi_c\", \"coefficient\": 1.0}]}, \"4\": {\"name\": \"CHORISMATE_SYNTHASE_RXN_c\", \"bigg_id\": \"CHORISMATE_SYNTHASE_RXN_c\", \"reversibility\": true, \"label_x\": 2700.0, \"label_y\": 45.0, \"gene_reaction_rule\": \"\", \"genes\": [], \"segments\": {\"25\": {\"from_node_id\": \"30\", \"to_node_id\": \"31\", \"b1\": null, \"b2\": null}, \"26\": {\"from_node_id\": \"32\", \"to_node_id\": \"31\", \"b1\": null, \"b2\": null}, \"27\": {\"from_node_id\": \"23\", \"to_node_id\": \"30\", \"b1\": null, \"b2\": null}, \"28\": {\"from_node_id\": \"28\", \"to_node_id\": \"32\", \"b1\": null, \"b2\": null}, \"29\": {\"from_node_id\": \"29\", \"to_node_id\": \"32\", \"b1\": null, \"b2\": null}}, \"metabolites\": [{\"bigg_id\": \"3_ENOLPYRUVYL_SHIKIMATE_5P_c\", \"coefficient\": -1.0}, {\"bigg_id\": \"CHORISMATE_c\", \"coefficient\": 1.0}, {\"bigg_id\": \"pi_c\", \"coefficient\": 1.0}]}, \"5\": {\"name\": \"DAHPSYN_RXN_c\", \"bigg_id\": \"DAHPSYN_RXN_c\", \"reversibility\": true, \"label_x\": 208.0, \"label_y\": 495.0, \"gene_reaction_rule\": \"\", \"genes\": [], \"segments\": {\"30\": {\"from_node_id\": \"37\", \"to_node_id\": \"38\", \"b1\": null, \"b2\": null}, \"31\": {\"from_node_id\": \"39\", \"to_node_id\": \"38\", \"b1\": null, \"b2\": null}, \"32\": {\"from_node_id\": \"33\", \"to_node_id\": \"37\", \"b1\": null, \"b2\": null}, \"33\": {\"from_node_id\": \"2\", \"to_node_id\": \"37\", \"b1\": null, \"b2\": null}, \"34\": {\"from_node_id\": \"34\", \"to_node_id\": \"37\", \"b1\": null, \"b2\": null}, \"35\": {\"from_node_id\": \"35\", \"to_node_id\": \"39\", \"b1\": null, \"b2\": null}, \"36\": {\"from_node_id\": \"36\", \"to_node_id\": \"39\", \"b1\": null, \"b2\": null}}, \"metabolites\": [{\"bigg_id\": \"e4p_c\", \"coefficient\": -1.0}, {\"bigg_id\": \"h2o_c\", \"coefficient\": -1.0}, {\"bigg_id\": \"pep_c\", \"coefficient\": -1.0}, {\"bigg_id\": \"3_DEOXY_D_ARABINO_HEPTULOSONATE_7_P_c\", \"coefficient\": 1.0}, {\"bigg_id\": \"pi_c\", \"coefficient\": 1.0}]}, \"6\": {\"name\": \"3_DEHYDROQUINATE_SYNTHASE_RXN_c\", \"bigg_id\": \"3_DEHYDROQUINATE_SYNTHASE_RXN_c\", \"reversibility\": true, \"label_x\": 696.0, \"label_y\": 495.0, \"gene_reaction_rule\": \"\", \"genes\": [], \"segments\": {\"37\": {\"from_node_id\": \"42\", \"to_node_id\": \"43\", \"b1\": null, \"b2\": null}, \"38\": {\"from_node_id\": \"44\", \"to_node_id\": \"43\", \"b1\": null, \"b2\": null}, \"39\": {\"from_node_id\": \"35\", \"to_node_id\": \"42\", \"b1\": null, \"b2\": null}, \"40\": {\"from_node_id\": \"40\", \"to_node_id\": \"44\", \"b1\": null, \"b2\": null}, \"41\": {\"from_node_id\": \"41\", \"to_node_id\": \"44\", \"b1\": null, \"b2\": null}}, \"metabolites\": [{\"bigg_id\": \"3_DEOXY_D_ARABINO_HEPTULOSONATE_7_P_c\", \"coefficient\": -1.0}, {\"bigg_id\": \"DEHYDROQUINATE_c\", \"coefficient\": 1.0}, {\"bigg_id\": \"pi_c\", \"coefficient\": 1.0}]}}, \"nodes\": {\"0\": {\"node_type\": \"metabolite\", \"x\": 30.0, \"y\": 225.0, \"label_x\": 0.0, \"label_y\": 205.0, \"bigg_id\": \"DEHYDROQUINATE_c\", \"name\": \"DEHYDROQUINATE_c\", \"node_is_primary\": false}, \"1\": {\"node_type\": \"metabolite\", \"x\": 550.0, \"y\": 150.0, \"label_x\": 520.0, \"label_y\": 130.0, \"bigg_id\": \"3_DEHYDRO_SHIKIMATE_c\", \"name\": \"3_DEHYDRO_SHIKIMATE_c\", \"node_is_primary\": false}, \"2\": {\"node_type\": \"metabolite\", \"x\": 550.0, \"y\": 300.0, \"label_x\": 520.0, \"label_y\": 280.0, \"bigg_id\": \"h2o_c\", \"name\": \"h2o_c\", \"node_is_primary\": false}, \"3\": {\"node_type\": \"multimarker\", \"x\": 335.0, \"y\": 225.0}, \"4\": {\"node_type\": \"midmarker\", \"x\": 355.0, \"y\": 225.0}, \"5\": {\"node_type\": \"multimarker\", \"x\": 375.0, \"y\": 225.0}, \"6\": {\"node_type\": \"metabolite\", \"x\": 680.0, \"y\": 150.0, \"label_x\": 650.0, \"label_y\": 130.0, \"bigg_id\": \"SHIKIMATE_c\", \"name\": \"SHIKIMATE_c\", \"node_is_primary\": false}, \"7\": {\"node_type\": \"metabolite\", \"x\": 680.0, \"y\": 300.0, \"label_x\": 650.0, \"label_y\": 280.0, \"bigg_id\": \"nadp_c\", \"name\": \"nadp_c\", \"node_is_primary\": false}, \"8\": {\"node_type\": \"metabolite\", \"x\": 1200.0, \"y\": 112.5, \"label_x\": 1170.0, \"label_y\": 92.5, \"bigg_id\": \"3_DEHYDRO_SHIKIMATE_c\", \"name\": \"3_DEHYDRO_SHIKIMATE_c\", \"node_is_primary\": false}, \"9\": {\"node_type\": \"metabolite\", \"x\": 1200.0, \"y\": 225.0, \"label_x\": 1170.0, \"label_y\": 205.0, \"bigg_id\": \"h_c\", \"name\": \"h_c\", \"node_is_primary\": false}, \"10\": {\"node_type\": \"metabolite\", \"x\": 1200.0, \"y\": 337.5, \"label_x\": 1170.0, \"label_y\": 317.5, \"bigg_id\": \"nadph_c\", \"name\": \"nadph_c\", \"node_is_primary\": false}, \"11\": {\"node_type\": \"multimarker\", \"x\": 985.0, \"y\": 225.0}, \"12\": {\"node_type\": \"midmarker\", \"x\": 1005.0, \"y\": 225.0}, \"13\": {\"node_type\": \"multimarker\", \"x\": 1025.0, \"y\": 225.0}, \"14\": {\"node_type\": \"metabolite\", \"x\": 1330.0, \"y\": 150.0, \"label_x\": 1300.0, \"label_y\": 130.0, \"bigg_id\": \"SHIKIMATE_c\", \"name\": \"SHIKIMATE_c\", \"node_is_primary\": false}, \"15\": {\"node_type\": \"metabolite\", \"x\": 1330.0, \"y\": 300.0, \"label_x\": 1300.0, \"label_y\": 280.0, \"bigg_id\": \"atp_c\", \"name\": \"atp_c\", \"node_is_primary\": false}, \"16\": {\"node_type\": \"metabolite\", \"x\": 1850.0, \"y\": 112.5, \"label_x\": 1820.0, \"label_y\": 92.5, \"bigg_id\": \"SHIKIMATE_5P_c\", \"name\": \"SHIKIMATE_5P_c\", \"node_is_primary\": false}, \"17\": {\"node_type\": \"metabolite\", \"x\": 1850.0, \"y\": 225.0, \"label_x\": 1820.0, \"label_y\": 205.0, \"bigg_id\": \"adp_c\", \"name\": \"adp_c\", \"node_is_primary\": false}, \"18\": {\"node_type\": \"metabolite\", \"x\": 1850.0, \"y\": 337.5, \"label_x\": 1820.0, \"label_y\": 317.5, \"bigg_id\": \"h_c\", \"name\": \"h_c\", \"node_is_primary\": false}, \"19\": {\"node_type\": \"multimarker\", \"x\": 1635.0, \"y\": 225.0}, \"20\": {\"node_type\": \"midmarker\", \"x\": 1655.0, \"y\": 225.0}, \"21\": {\"node_type\": \"multimarker\", \"x\": 1675.0, \"y\": 225.0}, \"22\": {\"node_type\": \"metabolite\", \"x\": 1980.0, \"y\": 300.0, \"label_x\": 1950.0, \"label_y\": 280.0, \"bigg_id\": \"pep_c\", \"name\": \"pep_c\", \"node_is_primary\": false}, \"23\": {\"node_type\": \"metabolite\", \"x\": 2500.0, \"y\": 150.0, \"label_x\": 2470.0, \"label_y\": 130.0, \"bigg_id\": \"3_ENOLPYRUVYL_SHIKIMATE_5P_c\", \"name\": \"3_ENOLPYRUVYL_SHIKIMATE_5P_c\", \"node_is_primary\": false}, \"24\": {\"node_type\": \"metabolite\", \"x\": 2500.0, \"y\": 300.0, \"label_x\": 2470.0, \"label_y\": 280.0, \"bigg_id\": \"pi_c\", \"name\": \"pi_c\", \"node_is_primary\": false}, \"25\": {\"node_type\": \"multimarker\", \"x\": 2285.0, \"y\": 225.0}, \"26\": {\"node_type\": \"midmarker\", \"x\": 2305.0, \"y\": 225.0}, \"27\": {\"node_type\": \"multimarker\", \"x\": 2325.0, \"y\": 225.0}, \"28\": {\"node_type\": \"metabolite\", \"x\": 3150.0, \"y\": 150.0, \"label_x\": 3120.0, \"label_y\": 130.0, \"bigg_id\": \"CHORISMATE_c\", \"name\": \"CHORISMATE_c\", \"node_is_primary\": false}, \"29\": {\"node_type\": \"metabolite\", \"x\": 3150.0, \"y\": 300.0, \"label_x\": 3120.0, \"label_y\": 280.0, \"bigg_id\": \"pi_c\", \"name\": \"pi_c\", \"node_is_primary\": false}, \"30\": {\"node_type\": \"multimarker\", \"x\": 2935.0, \"y\": 225.0}, \"31\": {\"node_type\": \"midmarker\", \"x\": 2955.0, \"y\": 225.0}, \"32\": {\"node_type\": \"multimarker\", \"x\": 2975.0, \"y\": 225.0}, \"33\": {\"node_type\": \"metabolite\", \"x\": 30.0, \"y\": 562.5, \"label_x\": 0.0, \"label_y\": 542.5, \"bigg_id\": \"e4p_c\", \"name\": \"e4p_c\", \"node_is_primary\": false}, \"34\": {\"node_type\": \"metabolite\", \"x\": 30.0, \"y\": 787.5, \"label_x\": 0.0, \"label_y\": 767.5, \"bigg_id\": \"pep_c\", \"name\": \"pep_c\", \"node_is_primary\": false}, \"35\": {\"node_type\": \"metabolite\", \"x\": 550.0, \"y\": 600.0, \"label_x\": 520.0, \"label_y\": 580.0, \"bigg_id\": \"3_DEOXY_D_ARABINO_HEPTULOSONATE_7_P_c\", \"name\": \"3_DEOXY_D_ARABINO_HEPTULOSONATE_7_P_c\", \"node_is_primary\": false}, \"36\": {\"node_type\": \"metabolite\", \"x\": 550.0, \"y\": 750.0, \"label_x\": 520.0, \"label_y\": 730.0, \"bigg_id\": \"pi_c\", \"name\": \"pi_c\", \"node_is_primary\": false}, \"37\": {\"node_type\": \"multimarker\", \"x\": 335.0, \"y\": 675.0}, \"38\": {\"node_type\": \"midmarker\", \"x\": 355.0, \"y\": 675.0}, \"39\": {\"node_type\": \"multimarker\", \"x\": 375.0, \"y\": 675.0}, \"40\": {\"node_type\": \"metabolite\", \"x\": 1200.0, \"y\": 600.0, \"label_x\": 1170.0, \"label_y\": 580.0, \"bigg_id\": \"DEHYDROQUINATE_c\", \"name\": \"DEHYDROQUINATE_c\", \"node_is_primary\": false}, \"41\": {\"node_type\": \"metabolite\", \"x\": 1200.0, \"y\": 750.0, \"label_x\": 1170.0, \"label_y\": 730.0, \"bigg_id\": \"pi_c\", \"name\": \"pi_c\", \"node_is_primary\": false}, \"42\": {\"node_type\": \"multimarker\", \"x\": 985.0, \"y\": 675.0}, \"43\": {\"node_type\": \"midmarker\", \"x\": 1005.0, \"y\": 675.0}, \"44\": {\"node_type\": \"multimarker\", \"x\": 1025.0, \"y\": 675.0}}, \"text_labels\": {}, \"canvas\": {\"x\": 0, \"y\": 0, \"width\": 3250, \"height\": 900}}]",
       "_loaded_model_json": null,
       "allow_building_duplicate_reactions": false,
       "and_method_in_gene_reaction_rule": "mean",
       "canvas_size_and_loc": null,
       "cofactors": [
        "atp",
        "adp",
        "nad",
        "nadh",
        "nadp",
        "nadph",
        "gtp",
        "gdp",
        "h",
        "coa",
        "ump",
        "h2o",
        "ppi"
       ],
       "disabled_buttons": [
        "Clear reaction data",
        "Clear gene data",
        "Clear metabolite data"
       ],
       "embedded_css": null,
       "enable_editing": true,
       "enable_keys": false,
       "enable_keys_with_tooltip": true,
       "enable_search": true,
       "enable_tooltips": false,
       "full_screen_button": {
        "enable_editing": true,
        "enable_keys": true,
        "enable_tooltips": [
         "label"
        ],
        "menu": "all",
        "scroll_behavior": "pan"
       },
       "gene_data": null,
       "gene_font_size": 18,
       "height": 500,
       "hide_all_labels": false,
       "hide_secondary_metabolites": false,
       "highlight_missing": false,
       "identifiers_on_map": "bigg_id",
       "layout": "IPY_MODEL_e349a2d82a254bd8a4d4e5145893f12f",
       "marker_radius": 5,
       "menu": "all",
       "metabolite_compare_style": "log2_fold",
       "metabolite_data": null,
       "metabolite_no_data_color": "#ffffff",
       "metabolite_no_data_size": 10,
       "metabolite_scale": [
        {
         "color": "#fffaf0",
         "size": 20,
         "type": "min"
        },
        {
         "color": "#f1c470",
         "size": 30,
         "type": "median"
        },
        {
         "color": "#800000",
         "size": 40,
         "type": "max"
        }
       ],
       "metabolite_scale_preset": "WhYlRd",
       "metabolite_styles": [
        "color",
        "size",
        "text"
       ],
       "never_ask_before_quit": true,
       "primary_metabolite_radius": 20,
       "reaction_compare_style": "log2_fold",
       "reaction_data": null,
       "reaction_no_data_color": "#dcdcdc",
       "reaction_no_data_size": 8,
       "reaction_scale": {},
       "reaction_scale_preset": null,
       "reaction_styles": [
        "color",
        "text"
       ],
       "scroll_behavior": "none",
       "secondary_metabolite_radius": 10,
       "semantic_zoom": null,
       "show_gene_reaction_rules": false,
       "starting_reaction": null,
       "use_3d_transform": false,
       "zoom_to_element": null
      }
     },
     "474bce1f325f4462b97639df931efb63": {
      "model_module": "@jupyter-widgets/base",
      "model_module_version": "1.2.0",
      "model_name": "LayoutModel",
      "state": {}
     },
     "52bc7dac0a6e411db496c262a62cc9b6": {
      "model_module": "escher",
      "model_module_version": "1.7.3",
      "model_name": "EscherMapModel",
      "state": {
       "_loaded_map_json": "[{\"map_name\": \"\", \"map_id\": \"\", \"map_description\": \"\", \"homepage\": \"\", \"schema\": \"https://escher.github.io/escher/jsonschema/1-0-0#\"}, {\"reactions\": {\"0\": {\"name\": \"DAHPSYN_RXN_c\", \"bigg_id\": \"DAHPSYN_RXN_c\", \"reversibility\": true, \"label_x\": 208.0, \"label_y\": 45.0, \"gene_reaction_rule\": \"\", \"genes\": [], \"segments\": {\"0\": {\"from_node_id\": \"5\", \"to_node_id\": \"6\", \"b1\": null, \"b2\": null}, \"1\": {\"from_node_id\": \"7\", \"to_node_id\": \"6\", \"b1\": null, \"b2\": null}, \"2\": {\"from_node_id\": \"0\", \"to_node_id\": \"5\", \"b1\": null, \"b2\": null}, \"3\": {\"from_node_id\": \"1\", \"to_node_id\": \"5\", \"b1\": null, \"b2\": null}, \"4\": {\"from_node_id\": \"2\", \"to_node_id\": \"5\", \"b1\": null, \"b2\": null}, \"5\": {\"from_node_id\": \"3\", \"to_node_id\": \"7\", \"b1\": null, \"b2\": null}, \"6\": {\"from_node_id\": \"4\", \"to_node_id\": \"7\", \"b1\": null, \"b2\": null}}, \"metabolites\": [{\"bigg_id\": \"e4p_c\", \"coefficient\": -1.0}, {\"bigg_id\": \"h2o_c\", \"coefficient\": -1.0}, {\"bigg_id\": \"pep_c\", \"coefficient\": -1.0}, {\"bigg_id\": \"3_DEOXY_D_ARABINO_HEPTULOSONATE_7_P_c\", \"coefficient\": 1.0}, {\"bigg_id\": \"pi_c\", \"coefficient\": 1.0}]}, \"1\": {\"name\": \"3_DEHYDROQUINATE_SYNTHASE_RXN_c\", \"bigg_id\": \"3_DEHYDROQUINATE_SYNTHASE_RXN_c\", \"reversibility\": true, \"label_x\": 696.0, \"label_y\": 45.0, \"gene_reaction_rule\": \"\", \"genes\": [], \"segments\": {\"7\": {\"from_node_id\": \"10\", \"to_node_id\": \"11\", \"b1\": null, \"b2\": null}, \"8\": {\"from_node_id\": \"12\", \"to_node_id\": \"11\", \"b1\": null, \"b2\": null}, \"9\": {\"from_node_id\": \"3\", \"to_node_id\": \"10\", \"b1\": null, \"b2\": null}, \"10\": {\"from_node_id\": \"8\", \"to_node_id\": \"12\", \"b1\": null, \"b2\": null}, \"11\": {\"from_node_id\": \"9\", \"to_node_id\": \"12\", \"b1\": null, \"b2\": null}}, \"metabolites\": [{\"bigg_id\": \"3_DEOXY_D_ARABINO_HEPTULOSONATE_7_P_c\", \"coefficient\": -1.0}, {\"bigg_id\": \"DEHYDROQUINATE_c\", \"coefficient\": 1.0}, {\"bigg_id\": \"pi_c\", \"coefficient\": 1.0}]}, \"2\": {\"name\": \"3_DEHYDROQUINATE_DEHYDRATASE_RXN_c\", \"bigg_id\": \"3_DEHYDROQUINATE_DEHYDRATASE_RXN_c\", \"reversibility\": true, \"label_x\": 1319.0, \"label_y\": 45.0, \"gene_reaction_rule\": \"\", \"genes\": [], \"segments\": {\"12\": {\"from_node_id\": \"15\", \"to_node_id\": \"16\", \"b1\": null, \"b2\": null}, \"13\": {\"from_node_id\": \"17\", \"to_node_id\": \"16\", \"b1\": null, \"b2\": null}, \"14\": {\"from_node_id\": \"8\", \"to_node_id\": \"15\", \"b1\": null, \"b2\": null}, \"15\": {\"from_node_id\": \"13\", \"to_node_id\": \"17\", \"b1\": null, \"b2\": null}, \"16\": {\"from_node_id\": \"14\", \"to_node_id\": \"17\", \"b1\": null, \"b2\": null}}, \"metabolites\": [{\"bigg_id\": \"DEHYDROQUINATE_c\", \"coefficient\": -1.0}, {\"bigg_id\": \"3_DEHYDRO_SHIKIMATE_c\", \"coefficient\": 1.0}, {\"bigg_id\": \"h2o_c\", \"coefficient\": 1.0}]}, \"3\": {\"name\": \"SHIKIMATE_5_DEHYDROGENASE_RXN_c\", \"bigg_id\": \"SHIKIMATE_5_DEHYDROGENASE_RXN_c\", \"reversibility\": true, \"label_x\": 1996.0, \"label_y\": 45.0, \"gene_reaction_rule\": \"\", \"genes\": [], \"segments\": {\"17\": {\"from_node_id\": \"23\", \"to_node_id\": \"24\", \"b1\": null, \"b2\": null}, \"18\": {\"from_node_id\": \"25\", \"to_node_id\": \"24\", \"b1\": null, \"b2\": null}, \"19\": {\"from_node_id\": \"18\", \"to_node_id\": \"23\", \"b1\": null, \"b2\": null}, \"20\": {\"from_node_id\": \"19\", \"to_node_id\": \"23\", \"b1\": null, \"b2\": null}, \"21\": {\"from_node_id\": \"20\", \"to_node_id\": \"25\", \"b1\": null, \"b2\": null}, \"22\": {\"from_node_id\": \"21\", \"to_node_id\": \"25\", \"b1\": null, \"b2\": null}, \"23\": {\"from_node_id\": \"22\", \"to_node_id\": \"25\", \"b1\": null, \"b2\": null}}, \"metabolites\": [{\"bigg_id\": \"SHIKIMATE_c\", \"coefficient\": -1.0}, {\"bigg_id\": \"nadp_c\", \"coefficient\": -1.0}, {\"bigg_id\": \"3_DEHYDRO_SHIKIMATE_c\", \"coefficient\": 1.0}, {\"bigg_id\": \"h_c\", \"coefficient\": 1.0}, {\"bigg_id\": \"nadph_c\", \"coefficient\": 1.0}]}, \"4\": {\"name\": \"SHIKIMATE_KINASE_RXN_c\", \"bigg_id\": \"SHIKIMATE_KINASE_RXN_c\", \"reversibility\": true, \"label_x\": 2727.0, \"label_y\": 45.0, \"gene_reaction_rule\": \"\", \"genes\": [], \"segments\": {\"24\": {\"from_node_id\": \"31\", \"to_node_id\": \"32\", \"b1\": null, \"b2\": null}, \"25\": {\"from_node_id\": \"33\", \"to_node_id\": \"32\", \"b1\": null, \"b2\": null}, \"26\": {\"from_node_id\": \"26\", \"to_node_id\": \"31\", \"b1\": null, \"b2\": null}, \"27\": {\"from_node_id\": \"27\", \"to_node_id\": \"31\", \"b1\": null, \"b2\": null}, \"28\": {\"from_node_id\": \"28\", \"to_node_id\": \"33\", \"b1\": null, \"b2\": null}, \"29\": {\"from_node_id\": \"29\", \"to_node_id\": \"33\", \"b1\": null, \"b2\": null}, \"30\": {\"from_node_id\": \"30\", \"to_node_id\": \"33\", \"b1\": null, \"b2\": null}}, \"metabolites\": [{\"bigg_id\": \"SHIKIMATE_c\", \"coefficient\": -1.0}, {\"bigg_id\": \"atp_c\", \"coefficient\": -1.0}, {\"bigg_id\": \"SHIKIMATE_5P_c\", \"coefficient\": 1.0}, {\"bigg_id\": \"adp_c\", \"coefficient\": 1.0}, {\"bigg_id\": \"h_c\", \"coefficient\": 1.0}]}, \"5\": {\"name\": \"2.5.1.19_RXN_c\", \"bigg_id\": \"2.5.1.19_RXN_c\", \"reversibility\": true, \"label_x\": 3449.0, \"label_y\": 45.0, \"gene_reaction_rule\": \"\", \"genes\": [], \"segments\": {\"31\": {\"from_node_id\": \"37\", \"to_node_id\": \"38\", \"b1\": null, \"b2\": null}, \"32\": {\"from_node_id\": \"39\", \"to_node_id\": \"38\", \"b1\": null, \"b2\": null}, \"33\": {\"from_node_id\": \"28\", \"to_node_id\": \"37\", \"b1\": null, \"b2\": null}, \"34\": {\"from_node_id\": \"34\", \"to_node_id\": \"37\", \"b1\": null, \"b2\": null}, \"35\": {\"from_node_id\": \"35\", \"to_node_id\": \"39\", \"b1\": null, \"b2\": null}, \"36\": {\"from_node_id\": \"36\", \"to_node_id\": \"39\", \"b1\": null, \"b2\": null}}, \"metabolites\": [{\"bigg_id\": \"SHIKIMATE_5P_c\", \"coefficient\": -1.0}, {\"bigg_id\": \"pep_c\", \"coefficient\": -1.0}, {\"bigg_id\": \"3_ENOLPYRUVYL_SHIKIMATE_5P_c\", \"coefficient\": 1.0}, {\"bigg_id\": \"pi_c\", \"coefficient\": 1.0}]}, \"6\": {\"name\": \"CHORISMATE_SYNTHASE_RXN_c\", \"bigg_id\": \"CHORISMATE_SYNTHASE_RXN_c\", \"reversibility\": true, \"label_x\": 4000.0, \"label_y\": 45.0, \"gene_reaction_rule\": \"\", \"genes\": [], \"segments\": {\"37\": {\"from_node_id\": \"42\", \"to_node_id\": \"43\", \"b1\": null, \"b2\": null}, \"38\": {\"from_node_id\": \"44\", \"to_node_id\": \"43\", \"b1\": null, \"b2\": null}, \"39\": {\"from_node_id\": \"35\", \"to_node_id\": \"42\", \"b1\": null, \"b2\": null}, \"40\": {\"from_node_id\": \"40\", \"to_node_id\": \"44\", \"b1\": null, \"b2\": null}, \"41\": {\"from_node_id\": \"41\", \"to_node_id\": \"44\", \"b1\": null, \"b2\": null}}, \"metabolites\": [{\"bigg_id\": \"3_ENOLPYRUVYL_SHIKIMATE_5P_c\", \"coefficient\": -1.0}, {\"bigg_id\": \"CHORISMATE_c\", \"coefficient\": 1.0}, {\"bigg_id\": \"pi_c\", \"coefficient\": 1.0}]}}, \"nodes\": {\"0\": {\"node_type\": \"metabolite\", \"x\": 30.0, \"y\": 112.5, \"label_x\": 0.0, \"label_y\": 92.5, \"bigg_id\": \"e4p_c\", \"name\": \"e4p_c\", \"node_is_primary\": false}, \"1\": {\"node_type\": \"metabolite\", \"x\": 30.0, \"y\": 225.0, \"label_x\": 0.0, \"label_y\": 205.0, \"bigg_id\": \"h2o_c\", \"name\": \"h2o_c\", \"node_is_primary\": false}, \"2\": {\"node_type\": \"metabolite\", \"x\": 30.0, \"y\": 337.5, \"label_x\": 0.0, \"label_y\": 317.5, \"bigg_id\": \"pep_c\", \"name\": \"pep_c\", \"node_is_primary\": false}, \"3\": {\"node_type\": \"metabolite\", \"x\": 550.0, \"y\": 150.0, \"label_x\": 520.0, \"label_y\": 130.0, \"bigg_id\": \"3_DEOXY_D_ARABINO_HEPTULOSONATE_7_P_c\", \"name\": \"3_DEOXY_D_ARABINO_HEPTULOSONATE_7_P_c\", \"node_is_primary\": false}, \"4\": {\"node_type\": \"metabolite\", \"x\": 550.0, \"y\": 300.0, \"label_x\": 520.0, \"label_y\": 280.0, \"bigg_id\": \"pi_c\", \"name\": \"pi_c\", \"node_is_primary\": false}, \"5\": {\"node_type\": \"multimarker\", \"x\": 335.0, \"y\": 225.0}, \"6\": {\"node_type\": \"midmarker\", \"x\": 355.0, \"y\": 225.0}, \"7\": {\"node_type\": \"multimarker\", \"x\": 375.0, \"y\": 225.0}, \"8\": {\"node_type\": \"metabolite\", \"x\": 1200.0, \"y\": 150.0, \"label_x\": 1170.0, \"label_y\": 130.0, \"bigg_id\": \"DEHYDROQUINATE_c\", \"name\": \"DEHYDROQUINATE_c\", \"node_is_primary\": false}, \"9\": {\"node_type\": \"metabolite\", \"x\": 1200.0, \"y\": 300.0, \"label_x\": 1170.0, \"label_y\": 280.0, \"bigg_id\": \"pi_c\", \"name\": \"pi_c\", \"node_is_primary\": false}, \"10\": {\"node_type\": \"multimarker\", \"x\": 985.0, \"y\": 225.0}, \"11\": {\"node_type\": \"midmarker\", \"x\": 1005.0, \"y\": 225.0}, \"12\": {\"node_type\": \"multimarker\", \"x\": 1025.0, \"y\": 225.0}, \"13\": {\"node_type\": \"metabolite\", \"x\": 1850.0, \"y\": 150.0, \"label_x\": 1820.0, \"label_y\": 130.0, \"bigg_id\": \"3_DEHYDRO_SHIKIMATE_c\", \"name\": \"3_DEHYDRO_SHIKIMATE_c\", \"node_is_primary\": false}, \"14\": {\"node_type\": \"metabolite\", \"x\": 1850.0, \"y\": 300.0, \"label_x\": 1820.0, \"label_y\": 280.0, \"bigg_id\": \"h2o_c\", \"name\": \"h2o_c\", \"node_is_primary\": false}, \"15\": {\"node_type\": \"multimarker\", \"x\": 1635.0, \"y\": 225.0}, \"16\": {\"node_type\": \"midmarker\", \"x\": 1655.0, \"y\": 225.0}, \"17\": {\"node_type\": \"multimarker\", \"x\": 1675.0, \"y\": 225.0}, \"18\": {\"node_type\": \"metabolite\", \"x\": 1980.0, \"y\": 150.0, \"label_x\": 1950.0, \"label_y\": 130.0, \"bigg_id\": \"SHIKIMATE_c\", \"name\": \"SHIKIMATE_c\", \"node_is_primary\": false}, \"19\": {\"node_type\": \"metabolite\", \"x\": 1980.0, \"y\": 300.0, \"label_x\": 1950.0, \"label_y\": 280.0, \"bigg_id\": \"nadp_c\", \"name\": \"nadp_c\", \"node_is_primary\": false}, \"20\": {\"node_type\": \"metabolite\", \"x\": 2500.0, \"y\": 112.5, \"label_x\": 2470.0, \"label_y\": 92.5, \"bigg_id\": \"3_DEHYDRO_SHIKIMATE_c\", \"name\": \"3_DEHYDRO_SHIKIMATE_c\", \"node_is_primary\": false}, \"21\": {\"node_type\": \"metabolite\", \"x\": 2500.0, \"y\": 225.0, \"label_x\": 2470.0, \"label_y\": 205.0, \"bigg_id\": \"h_c\", \"name\": \"h_c\", \"node_is_primary\": false}, \"22\": {\"node_type\": \"metabolite\", \"x\": 2500.0, \"y\": 337.5, \"label_x\": 2470.0, \"label_y\": 317.5, \"bigg_id\": \"nadph_c\", \"name\": \"nadph_c\", \"node_is_primary\": false}, \"23\": {\"node_type\": \"multimarker\", \"x\": 2285.0, \"y\": 225.0}, \"24\": {\"node_type\": \"midmarker\", \"x\": 2305.0, \"y\": 225.0}, \"25\": {\"node_type\": \"multimarker\", \"x\": 2325.0, \"y\": 225.0}, \"26\": {\"node_type\": \"metabolite\", \"x\": 2630.0, \"y\": 150.0, \"label_x\": 2600.0, \"label_y\": 130.0, \"bigg_id\": \"SHIKIMATE_c\", \"name\": \"SHIKIMATE_c\", \"node_is_primary\": false}, \"27\": {\"node_type\": \"metabolite\", \"x\": 2630.0, \"y\": 300.0, \"label_x\": 2600.0, \"label_y\": 280.0, \"bigg_id\": \"atp_c\", \"name\": \"atp_c\", \"node_is_primary\": false}, \"28\": {\"node_type\": \"metabolite\", \"x\": 3150.0, \"y\": 112.5, \"label_x\": 3120.0, \"label_y\": 92.5, \"bigg_id\": \"SHIKIMATE_5P_c\", \"name\": \"SHIKIMATE_5P_c\", \"node_is_primary\": false}, \"29\": {\"node_type\": \"metabolite\", \"x\": 3150.0, \"y\": 225.0, \"label_x\": 3120.0, \"label_y\": 205.0, \"bigg_id\": \"adp_c\", \"name\": \"adp_c\", \"node_is_primary\": false}, \"30\": {\"node_type\": \"metabolite\", \"x\": 3150.0, \"y\": 337.5, \"label_x\": 3120.0, \"label_y\": 317.5, \"bigg_id\": \"h_c\", \"name\": \"h_c\", \"node_is_primary\": false}, \"31\": {\"node_type\": \"multimarker\", \"x\": 2935.0, \"y\": 225.0}, \"32\": {\"node_type\": \"midmarker\", \"x\": 2955.0, \"y\": 225.0}, \"33\": {\"node_type\": \"multimarker\", \"x\": 2975.0, \"y\": 225.0}, \"34\": {\"node_type\": \"metabolite\", \"x\": 3280.0, \"y\": 300.0, \"label_x\": 3250.0, \"label_y\": 280.0, \"bigg_id\": \"pep_c\", \"name\": \"pep_c\", \"node_is_primary\": false}, \"35\": {\"node_type\": \"metabolite\", \"x\": 3800.0, \"y\": 150.0, \"label_x\": 3770.0, \"label_y\": 130.0, \"bigg_id\": \"3_ENOLPYRUVYL_SHIKIMATE_5P_c\", \"name\": \"3_ENOLPYRUVYL_SHIKIMATE_5P_c\", \"node_is_primary\": false}, \"36\": {\"node_type\": \"metabolite\", \"x\": 3800.0, \"y\": 300.0, \"label_x\": 3770.0, \"label_y\": 280.0, \"bigg_id\": \"pi_c\", \"name\": \"pi_c\", \"node_is_primary\": false}, \"37\": {\"node_type\": \"multimarker\", \"x\": 3585.0, \"y\": 225.0}, \"38\": {\"node_type\": \"midmarker\", \"x\": 3605.0, \"y\": 225.0}, \"39\": {\"node_type\": \"multimarker\", \"x\": 3625.0, \"y\": 225.0}, \"40\": {\"node_type\": \"metabolite\", \"x\": 4450.0, \"y\": 150.0, \"label_x\": 4420.0, \"label_y\": 130.0, \"bigg_id\": \"CHORISMATE_c\", \"name\": \"CHORISMATE_c\", \"node_is_primary\": false}, \"41\": {\"node_type\": \"metabolite\", \"x\": 4450.0, \"y\": 300.0, \"label_x\": 4420.0, \"label_y\": 280.0, \"bigg_id\": \"pi_c\", \"name\": \"pi_c\", \"node_is_primary\": false}, \"42\": {\"node_type\": \"multimarker\", \"x\": 4235.0, \"y\": 225.0}, \"43\": {\"node_type\": \"midmarker\", \"x\": 4255.0, \"y\": 225.0}, \"44\": {\"node_type\": \"multimarker\", \"x\": 4275.0, \"y\": 225.0}}, \"text_labels\": {}, \"canvas\": {\"x\": 0, \"y\": 0, \"width\": 4550, \"height\": 450}}]",
       "_loaded_model_json": null,
       "allow_building_duplicate_reactions": false,
       "and_method_in_gene_reaction_rule": "mean",
       "canvas_size_and_loc": null,
       "cofactors": [
        "atp",
        "adp",
        "nad",
        "nadh",
        "nadp",
        "nadph",
        "gtp",
        "gdp",
        "h",
        "coa",
        "ump",
        "h2o",
        "ppi"
       ],
       "disabled_buttons": [
        "Clear reaction data",
        "Clear gene data",
        "Clear metabolite data"
       ],
       "embedded_css": null,
       "enable_editing": true,
       "enable_keys": false,
       "enable_keys_with_tooltip": true,
       "enable_search": true,
       "enable_tooltips": false,
       "full_screen_button": {
        "enable_editing": true,
        "enable_keys": true,
        "enable_tooltips": [
         "label"
        ],
        "menu": "all",
        "scroll_behavior": "pan"
       },
       "gene_data": null,
       "gene_font_size": 18,
       "height": 500,
       "hide_all_labels": false,
       "hide_secondary_metabolites": false,
       "highlight_missing": false,
       "identifiers_on_map": "bigg_id",
       "layout": "IPY_MODEL_f58caef6e1d8420eae75461ce4ec82bd",
       "marker_radius": 5,
       "menu": "all",
       "metabolite_compare_style": "log2_fold",
       "metabolite_data": null,
       "metabolite_no_data_color": "#ffffff",
       "metabolite_no_data_size": 10,
       "metabolite_scale": [
        {
         "color": "#fffaf0",
         "size": 20,
         "type": "min"
        },
        {
         "color": "#f1c470",
         "size": 30,
         "type": "median"
        },
        {
         "color": "#800000",
         "size": 40,
         "type": "max"
        }
       ],
       "metabolite_scale_preset": "WhYlRd",
       "metabolite_styles": [
        "color",
        "size",
        "text"
       ],
       "never_ask_before_quit": true,
       "primary_metabolite_radius": 20,
       "reaction_compare_style": "log2_fold",
       "reaction_data": null,
       "reaction_no_data_color": "#dcdcdc",
       "reaction_no_data_size": 8,
       "reaction_scale": {},
       "reaction_scale_preset": null,
       "reaction_styles": [
        "color",
        "text"
       ],
       "scroll_behavior": "none",
       "secondary_metabolite_radius": 10,
       "semantic_zoom": null,
       "show_gene_reaction_rules": false,
       "starting_reaction": null,
       "use_3d_transform": false,
       "zoom_to_element": null
      }
     },
     "544ad1db4bd44d32a84c0ca8885f4935": {
      "model_module": "escher",
      "model_module_version": "1.7.3",
      "model_name": "EscherMapModel",
      "state": {
       "_loaded_map_json": "[{\"map_name\": \"\", \"map_id\": \"\", \"map_description\": \"\", \"homepage\": \"\", \"schema\": \"https://escher.github.io/escher/jsonschema/1-0-0#\"}, {\"reactions\": {\"0\": {\"name\": \"DAHPSYN_RXN_c\", \"bigg_id\": \"DAHPSYN_RXN_c\", \"reversibility\": true, \"label_x\": 208.0, \"label_y\": 45.0, \"gene_reaction_rule\": \"\", \"genes\": [], \"segments\": {\"0\": {\"from_node_id\": \"5\", \"to_node_id\": \"6\", \"b1\": null, \"b2\": null}, \"1\": {\"from_node_id\": \"7\", \"to_node_id\": \"6\", \"b1\": null, \"b2\": null}, \"2\": {\"from_node_id\": \"0\", \"to_node_id\": \"5\", \"b1\": null, \"b2\": null}, \"3\": {\"from_node_id\": \"1\", \"to_node_id\": \"5\", \"b1\": null, \"b2\": null}, \"4\": {\"from_node_id\": \"2\", \"to_node_id\": \"5\", \"b1\": null, \"b2\": null}, \"5\": {\"from_node_id\": \"3\", \"to_node_id\": \"7\", \"b1\": null, \"b2\": null}, \"6\": {\"from_node_id\": \"4\", \"to_node_id\": \"7\", \"b1\": null, \"b2\": null}}, \"metabolites\": [{\"bigg_id\": \"e4p_c\", \"coefficient\": -1.0}, {\"bigg_id\": \"h2o_c\", \"coefficient\": -1.0}, {\"bigg_id\": \"pep_c\", \"coefficient\": -1.0}, {\"bigg_id\": \"3_DEOXY_D_ARABINO_HEPTULOSONATE_7_P_c\", \"coefficient\": 1.0}, {\"bigg_id\": \"pi_c\", \"coefficient\": 1.0}]}, \"1\": {\"name\": \"3_DEHYDROQUINATE_SYNTHASE_RXN_c\", \"bigg_id\": \"3_DEHYDROQUINATE_SYNTHASE_RXN_c\", \"reversibility\": true, \"label_x\": 696.0, \"label_y\": 45.0, \"gene_reaction_rule\": \"\", \"genes\": [], \"segments\": {\"7\": {\"from_node_id\": \"10\", \"to_node_id\": \"11\", \"b1\": null, \"b2\": null}, \"8\": {\"from_node_id\": \"12\", \"to_node_id\": \"11\", \"b1\": null, \"b2\": null}, \"9\": {\"from_node_id\": \"3\", \"to_node_id\": \"10\", \"b1\": null, \"b2\": null}, \"10\": {\"from_node_id\": \"8\", \"to_node_id\": \"12\", \"b1\": null, \"b2\": null}, \"11\": {\"from_node_id\": \"9\", \"to_node_id\": \"12\", \"b1\": null, \"b2\": null}}, \"metabolites\": [{\"bigg_id\": \"3_DEOXY_D_ARABINO_HEPTULOSONATE_7_P_c\", \"coefficient\": -1.0}, {\"bigg_id\": \"DEHYDROQUINATE_c\", \"coefficient\": 1.0}, {\"bigg_id\": \"pi_c\", \"coefficient\": 1.0}]}, \"2\": {\"name\": \"3_DEHYDROQUINATE_DEHYDRATASE_RXN_c\", \"bigg_id\": \"3_DEHYDROQUINATE_DEHYDRATASE_RXN_c\", \"reversibility\": true, \"label_x\": 1319.0, \"label_y\": 45.0, \"gene_reaction_rule\": \"\", \"genes\": [], \"segments\": {\"12\": {\"from_node_id\": \"15\", \"to_node_id\": \"16\", \"b1\": null, \"b2\": null}, \"13\": {\"from_node_id\": \"17\", \"to_node_id\": \"16\", \"b1\": null, \"b2\": null}, \"14\": {\"from_node_id\": \"8\", \"to_node_id\": \"15\", \"b1\": null, \"b2\": null}, \"15\": {\"from_node_id\": \"13\", \"to_node_id\": \"17\", \"b1\": null, \"b2\": null}, \"16\": {\"from_node_id\": \"14\", \"to_node_id\": \"17\", \"b1\": null, \"b2\": null}}, \"metabolites\": [{\"bigg_id\": \"DEHYDROQUINATE_c\", \"coefficient\": -1.0}, {\"bigg_id\": \"3_DEHYDRO_SHIKIMATE_c\", \"coefficient\": 1.0}, {\"bigg_id\": \"h2o_c\", \"coefficient\": 1.0}]}, \"3\": {\"name\": \"SHIKIMATE_5_DEHYDROGENASE_RXN_c\", \"bigg_id\": \"SHIKIMATE_5_DEHYDROGENASE_RXN_c\", \"reversibility\": true, \"label_x\": 1996.0, \"label_y\": 45.0, \"gene_reaction_rule\": \"\", \"genes\": [], \"segments\": {\"17\": {\"from_node_id\": \"23\", \"to_node_id\": \"24\", \"b1\": null, \"b2\": null}, \"18\": {\"from_node_id\": \"25\", \"to_node_id\": \"24\", \"b1\": null, \"b2\": null}, \"19\": {\"from_node_id\": \"18\", \"to_node_id\": \"23\", \"b1\": null, \"b2\": null}, \"20\": {\"from_node_id\": \"19\", \"to_node_id\": \"23\", \"b1\": null, \"b2\": null}, \"21\": {\"from_node_id\": \"20\", \"to_node_id\": \"25\", \"b1\": null, \"b2\": null}, \"22\": {\"from_node_id\": \"21\", \"to_node_id\": \"25\", \"b1\": null, \"b2\": null}, \"23\": {\"from_node_id\": \"22\", \"to_node_id\": \"25\", \"b1\": null, \"b2\": null}}, \"metabolites\": [{\"bigg_id\": \"SHIKIMATE_c\", \"coefficient\": -1.0}, {\"bigg_id\": \"nadp_c\", \"coefficient\": -1.0}, {\"bigg_id\": \"3_DEHYDRO_SHIKIMATE_c\", \"coefficient\": 1.0}, {\"bigg_id\": \"h_c\", \"coefficient\": 1.0}, {\"bigg_id\": \"nadph_c\", \"coefficient\": 1.0}]}, \"4\": {\"name\": \"SHIKIMATE_KINASE_RXN_c\", \"bigg_id\": \"SHIKIMATE_KINASE_RXN_c\", \"reversibility\": true, \"label_x\": 2727.0, \"label_y\": 45.0, \"gene_reaction_rule\": \"\", \"genes\": [], \"segments\": {\"24\": {\"from_node_id\": \"31\", \"to_node_id\": \"32\", \"b1\": null, \"b2\": null}, \"25\": {\"from_node_id\": \"33\", \"to_node_id\": \"32\", \"b1\": null, \"b2\": null}, \"26\": {\"from_node_id\": \"26\", \"to_node_id\": \"31\", \"b1\": null, \"b2\": null}, \"27\": {\"from_node_id\": \"27\", \"to_node_id\": \"31\", \"b1\": null, \"b2\": null}, \"28\": {\"from_node_id\": \"28\", \"to_node_id\": \"33\", \"b1\": null, \"b2\": null}, \"29\": {\"from_node_id\": \"29\", \"to_node_id\": \"33\", \"b1\": null, \"b2\": null}, \"30\": {\"from_node_id\": \"30\", \"to_node_id\": \"33\", \"b1\": null, \"b2\": null}}, \"metabolites\": [{\"bigg_id\": \"SHIKIMATE_c\", \"coefficient\": -1.0}, {\"bigg_id\": \"atp_c\", \"coefficient\": -1.0}, {\"bigg_id\": \"SHIKIMATE_5P_c\", \"coefficient\": 1.0}, {\"bigg_id\": \"adp_c\", \"coefficient\": 1.0}, {\"bigg_id\": \"h_c\", \"coefficient\": 1.0}]}, \"5\": {\"name\": \"2.5.1.19_RXN_c\", \"bigg_id\": \"2.5.1.19_RXN_c\", \"reversibility\": true, \"label_x\": 3449.0, \"label_y\": 45.0, \"gene_reaction_rule\": \"\", \"genes\": [], \"segments\": {\"31\": {\"from_node_id\": \"37\", \"to_node_id\": \"38\", \"b1\": null, \"b2\": null}, \"32\": {\"from_node_id\": \"39\", \"to_node_id\": \"38\", \"b1\": null, \"b2\": null}, \"33\": {\"from_node_id\": \"28\", \"to_node_id\": \"37\", \"b1\": null, \"b2\": null}, \"34\": {\"from_node_id\": \"34\", \"to_node_id\": \"37\", \"b1\": null, \"b2\": null}, \"35\": {\"from_node_id\": \"35\", \"to_node_id\": \"39\", \"b1\": null, \"b2\": null}, \"36\": {\"from_node_id\": \"36\", \"to_node_id\": \"39\", \"b1\": null, \"b2\": null}}, \"metabolites\": [{\"bigg_id\": \"SHIKIMATE_5P_c\", \"coefficient\": -1.0}, {\"bigg_id\": \"pep_c\", \"coefficient\": -1.0}, {\"bigg_id\": \"3_ENOLPYRUVYL_SHIKIMATE_5P_c\", \"coefficient\": 1.0}, {\"bigg_id\": \"pi_c\", \"coefficient\": 1.0}]}, \"6\": {\"name\": \"CHORISMATE_SYNTHASE_RXN_c\", \"bigg_id\": \"CHORISMATE_SYNTHASE_RXN_c\", \"reversibility\": true, \"label_x\": 4000.0, \"label_y\": 45.0, \"gene_reaction_rule\": \"\", \"genes\": [], \"segments\": {\"37\": {\"from_node_id\": \"42\", \"to_node_id\": \"43\", \"b1\": null, \"b2\": null}, \"38\": {\"from_node_id\": \"44\", \"to_node_id\": \"43\", \"b1\": null, \"b2\": null}, \"39\": {\"from_node_id\": \"35\", \"to_node_id\": \"42\", \"b1\": null, \"b2\": null}, \"40\": {\"from_node_id\": \"40\", \"to_node_id\": \"44\", \"b1\": null, \"b2\": null}, \"41\": {\"from_node_id\": \"41\", \"to_node_id\": \"44\", \"b1\": null, \"b2\": null}}, \"metabolites\": [{\"bigg_id\": \"3_ENOLPYRUVYL_SHIKIMATE_5P_c\", \"coefficient\": -1.0}, {\"bigg_id\": \"CHORISMATE_c\", \"coefficient\": 1.0}, {\"bigg_id\": \"pi_c\", \"coefficient\": 1.0}]}}, \"nodes\": {\"0\": {\"node_type\": \"metabolite\", \"x\": 30.0, \"y\": 112.5, \"label_x\": 0.0, \"label_y\": 92.5, \"bigg_id\": \"e4p_c\", \"name\": \"e4p_c\", \"node_is_primary\": false}, \"1\": {\"node_type\": \"metabolite\", \"x\": 30.0, \"y\": 225.0, \"label_x\": 0.0, \"label_y\": 205.0, \"bigg_id\": \"h2o_c\", \"name\": \"h2o_c\", \"node_is_primary\": false}, \"2\": {\"node_type\": \"metabolite\", \"x\": 30.0, \"y\": 337.5, \"label_x\": 0.0, \"label_y\": 317.5, \"bigg_id\": \"pep_c\", \"name\": \"pep_c\", \"node_is_primary\": false}, \"3\": {\"node_type\": \"metabolite\", \"x\": 550.0, \"y\": 150.0, \"label_x\": 520.0, \"label_y\": 130.0, \"bigg_id\": \"3_DEOXY_D_ARABINO_HEPTULOSONATE_7_P_c\", \"name\": \"3_DEOXY_D_ARABINO_HEPTULOSONATE_7_P_c\", \"node_is_primary\": false}, \"4\": {\"node_type\": \"metabolite\", \"x\": 550.0, \"y\": 300.0, \"label_x\": 520.0, \"label_y\": 280.0, \"bigg_id\": \"pi_c\", \"name\": \"pi_c\", \"node_is_primary\": false}, \"5\": {\"node_type\": \"multimarker\", \"x\": 335.0, \"y\": 225.0}, \"6\": {\"node_type\": \"midmarker\", \"x\": 355.0, \"y\": 225.0}, \"7\": {\"node_type\": \"multimarker\", \"x\": 375.0, \"y\": 225.0}, \"8\": {\"node_type\": \"metabolite\", \"x\": 1200.0, \"y\": 150.0, \"label_x\": 1170.0, \"label_y\": 130.0, \"bigg_id\": \"DEHYDROQUINATE_c\", \"name\": \"DEHYDROQUINATE_c\", \"node_is_primary\": false}, \"9\": {\"node_type\": \"metabolite\", \"x\": 1200.0, \"y\": 300.0, \"label_x\": 1170.0, \"label_y\": 280.0, \"bigg_id\": \"pi_c\", \"name\": \"pi_c\", \"node_is_primary\": false}, \"10\": {\"node_type\": \"multimarker\", \"x\": 985.0, \"y\": 225.0}, \"11\": {\"node_type\": \"midmarker\", \"x\": 1005.0, \"y\": 225.0}, \"12\": {\"node_type\": \"multimarker\", \"x\": 1025.0, \"y\": 225.0}, \"13\": {\"node_type\": \"metabolite\", \"x\": 1850.0, \"y\": 150.0, \"label_x\": 1820.0, \"label_y\": 130.0, \"bigg_id\": \"3_DEHYDRO_SHIKIMATE_c\", \"name\": \"3_DEHYDRO_SHIKIMATE_c\", \"node_is_primary\": false}, \"14\": {\"node_type\": \"metabolite\", \"x\": 1850.0, \"y\": 300.0, \"label_x\": 1820.0, \"label_y\": 280.0, \"bigg_id\": \"h2o_c\", \"name\": \"h2o_c\", \"node_is_primary\": false}, \"15\": {\"node_type\": \"multimarker\", \"x\": 1635.0, \"y\": 225.0}, \"16\": {\"node_type\": \"midmarker\", \"x\": 1655.0, \"y\": 225.0}, \"17\": {\"node_type\": \"multimarker\", \"x\": 1675.0, \"y\": 225.0}, \"18\": {\"node_type\": \"metabolite\", \"x\": 1980.0, \"y\": 150.0, \"label_x\": 1950.0, \"label_y\": 130.0, \"bigg_id\": \"SHIKIMATE_c\", \"name\": \"SHIKIMATE_c\", \"node_is_primary\": false}, \"19\": {\"node_type\": \"metabolite\", \"x\": 1980.0, \"y\": 300.0, \"label_x\": 1950.0, \"label_y\": 280.0, \"bigg_id\": \"nadp_c\", \"name\": \"nadp_c\", \"node_is_primary\": false}, \"20\": {\"node_type\": \"metabolite\", \"x\": 2500.0, \"y\": 112.5, \"label_x\": 2470.0, \"label_y\": 92.5, \"bigg_id\": \"3_DEHYDRO_SHIKIMATE_c\", \"name\": \"3_DEHYDRO_SHIKIMATE_c\", \"node_is_primary\": false}, \"21\": {\"node_type\": \"metabolite\", \"x\": 2500.0, \"y\": 225.0, \"label_x\": 2470.0, \"label_y\": 205.0, \"bigg_id\": \"h_c\", \"name\": \"h_c\", \"node_is_primary\": false}, \"22\": {\"node_type\": \"metabolite\", \"x\": 2500.0, \"y\": 337.5, \"label_x\": 2470.0, \"label_y\": 317.5, \"bigg_id\": \"nadph_c\", \"name\": \"nadph_c\", \"node_is_primary\": false}, \"23\": {\"node_type\": \"multimarker\", \"x\": 2285.0, \"y\": 225.0}, \"24\": {\"node_type\": \"midmarker\", \"x\": 2305.0, \"y\": 225.0}, \"25\": {\"node_type\": \"multimarker\", \"x\": 2325.0, \"y\": 225.0}, \"26\": {\"node_type\": \"metabolite\", \"x\": 2630.0, \"y\": 150.0, \"label_x\": 2600.0, \"label_y\": 130.0, \"bigg_id\": \"SHIKIMATE_c\", \"name\": \"SHIKIMATE_c\", \"node_is_primary\": false}, \"27\": {\"node_type\": \"metabolite\", \"x\": 2630.0, \"y\": 300.0, \"label_x\": 2600.0, \"label_y\": 280.0, \"bigg_id\": \"atp_c\", \"name\": \"atp_c\", \"node_is_primary\": false}, \"28\": {\"node_type\": \"metabolite\", \"x\": 3150.0, \"y\": 112.5, \"label_x\": 3120.0, \"label_y\": 92.5, \"bigg_id\": \"SHIKIMATE_5P_c\", \"name\": \"SHIKIMATE_5P_c\", \"node_is_primary\": false}, \"29\": {\"node_type\": \"metabolite\", \"x\": 3150.0, \"y\": 225.0, \"label_x\": 3120.0, \"label_y\": 205.0, \"bigg_id\": \"adp_c\", \"name\": \"adp_c\", \"node_is_primary\": false}, \"30\": {\"node_type\": \"metabolite\", \"x\": 3150.0, \"y\": 337.5, \"label_x\": 3120.0, \"label_y\": 317.5, \"bigg_id\": \"h_c\", \"name\": \"h_c\", \"node_is_primary\": false}, \"31\": {\"node_type\": \"multimarker\", \"x\": 2935.0, \"y\": 225.0}, \"32\": {\"node_type\": \"midmarker\", \"x\": 2955.0, \"y\": 225.0}, \"33\": {\"node_type\": \"multimarker\", \"x\": 2975.0, \"y\": 225.0}, \"34\": {\"node_type\": \"metabolite\", \"x\": 3280.0, \"y\": 300.0, \"label_x\": 3250.0, \"label_y\": 280.0, \"bigg_id\": \"pep_c\", \"name\": \"pep_c\", \"node_is_primary\": false}, \"35\": {\"node_type\": \"metabolite\", \"x\": 3800.0, \"y\": 150.0, \"label_x\": 3770.0, \"label_y\": 130.0, \"bigg_id\": \"3_ENOLPYRUVYL_SHIKIMATE_5P_c\", \"name\": \"3_ENOLPYRUVYL_SHIKIMATE_5P_c\", \"node_is_primary\": false}, \"36\": {\"node_type\": \"metabolite\", \"x\": 3800.0, \"y\": 300.0, \"label_x\": 3770.0, \"label_y\": 280.0, \"bigg_id\": \"pi_c\", \"name\": \"pi_c\", \"node_is_primary\": false}, \"37\": {\"node_type\": \"multimarker\", \"x\": 3585.0, \"y\": 225.0}, \"38\": {\"node_type\": \"midmarker\", \"x\": 3605.0, \"y\": 225.0}, \"39\": {\"node_type\": \"multimarker\", \"x\": 3625.0, \"y\": 225.0}, \"40\": {\"node_type\": \"metabolite\", \"x\": 4450.0, \"y\": 150.0, \"label_x\": 4420.0, \"label_y\": 130.0, \"bigg_id\": \"CHORISMATE_c\", \"name\": \"CHORISMATE_c\", \"node_is_primary\": false}, \"41\": {\"node_type\": \"metabolite\", \"x\": 4450.0, \"y\": 300.0, \"label_x\": 4420.0, \"label_y\": 280.0, \"bigg_id\": \"pi_c\", \"name\": \"pi_c\", \"node_is_primary\": false}, \"42\": {\"node_type\": \"multimarker\", \"x\": 4235.0, \"y\": 225.0}, \"43\": {\"node_type\": \"midmarker\", \"x\": 4255.0, \"y\": 225.0}, \"44\": {\"node_type\": \"multimarker\", \"x\": 4275.0, \"y\": 225.0}}, \"text_labels\": {}, \"canvas\": {\"x\": 0, \"y\": 0, \"width\": 4550, \"height\": 450}}]",
       "_loaded_model_json": null,
       "allow_building_duplicate_reactions": false,
       "and_method_in_gene_reaction_rule": "mean",
       "canvas_size_and_loc": null,
       "cofactors": [
        "atp",
        "adp",
        "nad",
        "nadh",
        "nadp",
        "nadph",
        "gtp",
        "gdp",
        "h",
        "coa",
        "ump",
        "h2o",
        "ppi"
       ],
       "disabled_buttons": [
        "Clear reaction data",
        "Clear gene data",
        "Clear metabolite data"
       ],
       "embedded_css": null,
       "enable_editing": true,
       "enable_keys": false,
       "enable_keys_with_tooltip": true,
       "enable_search": true,
       "enable_tooltips": false,
       "full_screen_button": {
        "enable_editing": true,
        "enable_keys": true,
        "enable_tooltips": [
         "label"
        ],
        "menu": "all",
        "scroll_behavior": "pan"
       },
       "gene_data": null,
       "gene_font_size": 18,
       "height": 500,
       "hide_all_labels": false,
       "hide_secondary_metabolites": false,
       "highlight_missing": false,
       "identifiers_on_map": "bigg_id",
       "layout": "IPY_MODEL_bebda39ead6d40999fabd99b66b71a57",
       "marker_radius": 5,
       "menu": "all",
       "metabolite_compare_style": "log2_fold",
       "metabolite_data": null,
       "metabolite_no_data_color": "#ffffff",
       "metabolite_no_data_size": 10,
       "metabolite_scale": [
        {
         "color": "#fffaf0",
         "size": 20,
         "type": "min"
        },
        {
         "color": "#f1c470",
         "size": 30,
         "type": "median"
        },
        {
         "color": "#800000",
         "size": 40,
         "type": "max"
        }
       ],
       "metabolite_scale_preset": "WhYlRd",
       "metabolite_styles": [
        "color",
        "size",
        "text"
       ],
       "never_ask_before_quit": true,
       "primary_metabolite_radius": 20,
       "reaction_compare_style": "log2_fold",
       "reaction_data": null,
       "reaction_no_data_color": "#dcdcdc",
       "reaction_no_data_size": 8,
       "reaction_scale": {},
       "reaction_scale_preset": null,
       "reaction_styles": [
        "color",
        "text"
       ],
       "scroll_behavior": "none",
       "secondary_metabolite_radius": 10,
       "semantic_zoom": null,
       "show_gene_reaction_rules": false,
       "starting_reaction": null,
       "use_3d_transform": false,
       "zoom_to_element": null
      }
     },
     "5d4607ce515f4a5bb3f461bc948cad07": {
      "model_module": "escher",
      "model_module_version": "1.7.3",
      "model_name": "EscherMapModel",
      "state": {
       "_loaded_map_json": "[{\"map_name\": \"\", \"map_id\": \"\", \"map_description\": \"\", \"homepage\": \"\", \"schema\": \"https://escher.github.io/escher/jsonschema/1-0-0#\"}, {\"reactions\": {\"0\": {\"name\": \"DAHPSYN_RXN_c\", \"bigg_id\": \"DAHPSYN_RXN_c\", \"reversibility\": true, \"label_x\": 208.0, \"label_y\": 45.0, \"gene_reaction_rule\": \"\", \"genes\": [], \"segments\": {\"0\": {\"from_node_id\": \"5\", \"to_node_id\": \"6\", \"b1\": null, \"b2\": null}, \"1\": {\"from_node_id\": \"7\", \"to_node_id\": \"6\", \"b1\": null, \"b2\": null}, \"2\": {\"from_node_id\": \"0\", \"to_node_id\": \"5\", \"b1\": null, \"b2\": null}, \"3\": {\"from_node_id\": \"1\", \"to_node_id\": \"5\", \"b1\": null, \"b2\": null}, \"4\": {\"from_node_id\": \"2\", \"to_node_id\": \"5\", \"b1\": null, \"b2\": null}, \"5\": {\"from_node_id\": \"3\", \"to_node_id\": \"7\", \"b1\": null, \"b2\": null}, \"6\": {\"from_node_id\": \"4\", \"to_node_id\": \"7\", \"b1\": null, \"b2\": null}}, \"metabolites\": [{\"bigg_id\": \"e4p_c\", \"coefficient\": -1.0}, {\"bigg_id\": \"h2o_c\", \"coefficient\": -1.0}, {\"bigg_id\": \"pep_c\", \"coefficient\": -1.0}, {\"bigg_id\": \"3_DEOXY_D_ARABINO_HEPTULOSONATE_7_P_c\", \"coefficient\": 1.0}, {\"bigg_id\": \"pi_c\", \"coefficient\": 1.0}]}, \"1\": {\"name\": \"3_DEHYDROQUINATE_SYNTHASE_RXN_c\", \"bigg_id\": \"3_DEHYDROQUINATE_SYNTHASE_RXN_c\", \"reversibility\": true, \"label_x\": 696.0, \"label_y\": 45.0, \"gene_reaction_rule\": \"\", \"genes\": [], \"segments\": {\"7\": {\"from_node_id\": \"10\", \"to_node_id\": \"11\", \"b1\": null, \"b2\": null}, \"8\": {\"from_node_id\": \"12\", \"to_node_id\": \"11\", \"b1\": null, \"b2\": null}, \"9\": {\"from_node_id\": \"3\", \"to_node_id\": \"10\", \"b1\": null, \"b2\": null}, \"10\": {\"from_node_id\": \"8\", \"to_node_id\": \"12\", \"b1\": null, \"b2\": null}, \"11\": {\"from_node_id\": \"9\", \"to_node_id\": \"12\", \"b1\": null, \"b2\": null}}, \"metabolites\": [{\"bigg_id\": \"3_DEOXY_D_ARABINO_HEPTULOSONATE_7_P_c\", \"coefficient\": -1.0}, {\"bigg_id\": \"DEHYDROQUINATE_c\", \"coefficient\": 1.0}, {\"bigg_id\": \"pi_c\", \"coefficient\": 1.0}]}, \"2\": {\"name\": \"3_DEHYDROQUINATE_DEHYDRATASE_RXN_c\", \"bigg_id\": \"3_DEHYDROQUINATE_DEHYDRATASE_RXN_c\", \"reversibility\": true, \"label_x\": 1319.0, \"label_y\": 45.0, \"gene_reaction_rule\": \"\", \"genes\": [], \"segments\": {\"12\": {\"from_node_id\": \"15\", \"to_node_id\": \"16\", \"b1\": null, \"b2\": null}, \"13\": {\"from_node_id\": \"17\", \"to_node_id\": \"16\", \"b1\": null, \"b2\": null}, \"14\": {\"from_node_id\": \"8\", \"to_node_id\": \"15\", \"b1\": null, \"b2\": null}, \"15\": {\"from_node_id\": \"13\", \"to_node_id\": \"17\", \"b1\": null, \"b2\": null}, \"16\": {\"from_node_id\": \"14\", \"to_node_id\": \"17\", \"b1\": null, \"b2\": null}}, \"metabolites\": [{\"bigg_id\": \"DEHYDROQUINATE_c\", \"coefficient\": -1.0}, {\"bigg_id\": \"3_DEHYDRO_SHIKIMATE_c\", \"coefficient\": 1.0}, {\"bigg_id\": \"h2o_c\", \"coefficient\": 1.0}]}, \"3\": {\"name\": \"SHIKIMATE_5_DEHYDROGENASE_RXN_c\", \"bigg_id\": \"SHIKIMATE_5_DEHYDROGENASE_RXN_c\", \"reversibility\": true, \"label_x\": 1996.0, \"label_y\": 45.0, \"gene_reaction_rule\": \"\", \"genes\": [], \"segments\": {\"17\": {\"from_node_id\": \"23\", \"to_node_id\": \"24\", \"b1\": null, \"b2\": null}, \"18\": {\"from_node_id\": \"25\", \"to_node_id\": \"24\", \"b1\": null, \"b2\": null}, \"19\": {\"from_node_id\": \"18\", \"to_node_id\": \"23\", \"b1\": null, \"b2\": null}, \"20\": {\"from_node_id\": \"19\", \"to_node_id\": \"23\", \"b1\": null, \"b2\": null}, \"21\": {\"from_node_id\": \"20\", \"to_node_id\": \"25\", \"b1\": null, \"b2\": null}, \"22\": {\"from_node_id\": \"21\", \"to_node_id\": \"25\", \"b1\": null, \"b2\": null}, \"23\": {\"from_node_id\": \"22\", \"to_node_id\": \"25\", \"b1\": null, \"b2\": null}}, \"metabolites\": [{\"bigg_id\": \"SHIKIMATE_c\", \"coefficient\": -1.0}, {\"bigg_id\": \"nadp_c\", \"coefficient\": -1.0}, {\"bigg_id\": \"3_DEHYDRO_SHIKIMATE_c\", \"coefficient\": 1.0}, {\"bigg_id\": \"h_c\", \"coefficient\": 1.0}, {\"bigg_id\": \"nadph_c\", \"coefficient\": 1.0}]}, \"4\": {\"name\": \"SHIKIMATE_KINASE_RXN_c\", \"bigg_id\": \"SHIKIMATE_KINASE_RXN_c\", \"reversibility\": true, \"label_x\": 2727.0, \"label_y\": 45.0, \"gene_reaction_rule\": \"\", \"genes\": [], \"segments\": {\"24\": {\"from_node_id\": \"31\", \"to_node_id\": \"32\", \"b1\": null, \"b2\": null}, \"25\": {\"from_node_id\": \"33\", \"to_node_id\": \"32\", \"b1\": null, \"b2\": null}, \"26\": {\"from_node_id\": \"26\", \"to_node_id\": \"31\", \"b1\": null, \"b2\": null}, \"27\": {\"from_node_id\": \"27\", \"to_node_id\": \"31\", \"b1\": null, \"b2\": null}, \"28\": {\"from_node_id\": \"28\", \"to_node_id\": \"33\", \"b1\": null, \"b2\": null}, \"29\": {\"from_node_id\": \"29\", \"to_node_id\": \"33\", \"b1\": null, \"b2\": null}, \"30\": {\"from_node_id\": \"30\", \"to_node_id\": \"33\", \"b1\": null, \"b2\": null}}, \"metabolites\": [{\"bigg_id\": \"SHIKIMATE_c\", \"coefficient\": -1.0}, {\"bigg_id\": \"atp_c\", \"coefficient\": -1.0}, {\"bigg_id\": \"SHIKIMATE_5P_c\", \"coefficient\": 1.0}, {\"bigg_id\": \"adp_c\", \"coefficient\": 1.0}, {\"bigg_id\": \"h_c\", \"coefficient\": 1.0}]}, \"5\": {\"name\": \"2.5.1.19_RXN_c\", \"bigg_id\": \"2.5.1.19_RXN_c\", \"reversibility\": true, \"label_x\": 3449.0, \"label_y\": 45.0, \"gene_reaction_rule\": \"\", \"genes\": [], \"segments\": {\"31\": {\"from_node_id\": \"37\", \"to_node_id\": \"38\", \"b1\": null, \"b2\": null}, \"32\": {\"from_node_id\": \"39\", \"to_node_id\": \"38\", \"b1\": null, \"b2\": null}, \"33\": {\"from_node_id\": \"28\", \"to_node_id\": \"37\", \"b1\": null, \"b2\": null}, \"34\": {\"from_node_id\": \"34\", \"to_node_id\": \"37\", \"b1\": null, \"b2\": null}, \"35\": {\"from_node_id\": \"35\", \"to_node_id\": \"39\", \"b1\": null, \"b2\": null}, \"36\": {\"from_node_id\": \"36\", \"to_node_id\": \"39\", \"b1\": null, \"b2\": null}}, \"metabolites\": [{\"bigg_id\": \"SHIKIMATE_5P_c\", \"coefficient\": -1.0}, {\"bigg_id\": \"pep_c\", \"coefficient\": -1.0}, {\"bigg_id\": \"3_ENOLPYRUVYL_SHIKIMATE_5P_c\", \"coefficient\": 1.0}, {\"bigg_id\": \"pi_c\", \"coefficient\": 1.0}]}, \"6\": {\"name\": \"CHORISMATE_SYNTHASE_RXN_c\", \"bigg_id\": \"CHORISMATE_SYNTHASE_RXN_c\", \"reversibility\": true, \"label_x\": 4000.0, \"label_y\": 45.0, \"gene_reaction_rule\": \"\", \"genes\": [], \"segments\": {\"37\": {\"from_node_id\": \"42\", \"to_node_id\": \"43\", \"b1\": null, \"b2\": null}, \"38\": {\"from_node_id\": \"44\", \"to_node_id\": \"43\", \"b1\": null, \"b2\": null}, \"39\": {\"from_node_id\": \"35\", \"to_node_id\": \"42\", \"b1\": null, \"b2\": null}, \"40\": {\"from_node_id\": \"40\", \"to_node_id\": \"44\", \"b1\": null, \"b2\": null}, \"41\": {\"from_node_id\": \"41\", \"to_node_id\": \"44\", \"b1\": null, \"b2\": null}}, \"metabolites\": [{\"bigg_id\": \"3_ENOLPYRUVYL_SHIKIMATE_5P_c\", \"coefficient\": -1.0}, {\"bigg_id\": \"CHORISMATE_c\", \"coefficient\": 1.0}, {\"bigg_id\": \"pi_c\", \"coefficient\": 1.0}]}}, \"nodes\": {\"0\": {\"node_type\": \"metabolite\", \"x\": 30.0, \"y\": 112.5, \"label_x\": 0.0, \"label_y\": 92.5, \"bigg_id\": \"e4p_c\", \"name\": \"e4p_c\", \"node_is_primary\": false}, \"1\": {\"node_type\": \"metabolite\", \"x\": 30.0, \"y\": 225.0, \"label_x\": 0.0, \"label_y\": 205.0, \"bigg_id\": \"h2o_c\", \"name\": \"h2o_c\", \"node_is_primary\": false}, \"2\": {\"node_type\": \"metabolite\", \"x\": 30.0, \"y\": 337.5, \"label_x\": 0.0, \"label_y\": 317.5, \"bigg_id\": \"pep_c\", \"name\": \"pep_c\", \"node_is_primary\": false}, \"3\": {\"node_type\": \"metabolite\", \"x\": 550.0, \"y\": 150.0, \"label_x\": 520.0, \"label_y\": 130.0, \"bigg_id\": \"3_DEOXY_D_ARABINO_HEPTULOSONATE_7_P_c\", \"name\": \"3_DEOXY_D_ARABINO_HEPTULOSONATE_7_P_c\", \"node_is_primary\": false}, \"4\": {\"node_type\": \"metabolite\", \"x\": 550.0, \"y\": 300.0, \"label_x\": 520.0, \"label_y\": 280.0, \"bigg_id\": \"pi_c\", \"name\": \"pi_c\", \"node_is_primary\": false}, \"5\": {\"node_type\": \"multimarker\", \"x\": 335.0, \"y\": 225.0}, \"6\": {\"node_type\": \"midmarker\", \"x\": 355.0, \"y\": 225.0}, \"7\": {\"node_type\": \"multimarker\", \"x\": 375.0, \"y\": 225.0}, \"8\": {\"node_type\": \"metabolite\", \"x\": 1200.0, \"y\": 150.0, \"label_x\": 1170.0, \"label_y\": 130.0, \"bigg_id\": \"DEHYDROQUINATE_c\", \"name\": \"DEHYDROQUINATE_c\", \"node_is_primary\": false}, \"9\": {\"node_type\": \"metabolite\", \"x\": 1200.0, \"y\": 300.0, \"label_x\": 1170.0, \"label_y\": 280.0, \"bigg_id\": \"pi_c\", \"name\": \"pi_c\", \"node_is_primary\": false}, \"10\": {\"node_type\": \"multimarker\", \"x\": 985.0, \"y\": 225.0}, \"11\": {\"node_type\": \"midmarker\", \"x\": 1005.0, \"y\": 225.0}, \"12\": {\"node_type\": \"multimarker\", \"x\": 1025.0, \"y\": 225.0}, \"13\": {\"node_type\": \"metabolite\", \"x\": 1850.0, \"y\": 150.0, \"label_x\": 1820.0, \"label_y\": 130.0, \"bigg_id\": \"3_DEHYDRO_SHIKIMATE_c\", \"name\": \"3_DEHYDRO_SHIKIMATE_c\", \"node_is_primary\": false}, \"14\": {\"node_type\": \"metabolite\", \"x\": 1850.0, \"y\": 300.0, \"label_x\": 1820.0, \"label_y\": 280.0, \"bigg_id\": \"h2o_c\", \"name\": \"h2o_c\", \"node_is_primary\": false}, \"15\": {\"node_type\": \"multimarker\", \"x\": 1635.0, \"y\": 225.0}, \"16\": {\"node_type\": \"midmarker\", \"x\": 1655.0, \"y\": 225.0}, \"17\": {\"node_type\": \"multimarker\", \"x\": 1675.0, \"y\": 225.0}, \"18\": {\"node_type\": \"metabolite\", \"x\": 1980.0, \"y\": 150.0, \"label_x\": 1950.0, \"label_y\": 130.0, \"bigg_id\": \"SHIKIMATE_c\", \"name\": \"SHIKIMATE_c\", \"node_is_primary\": false}, \"19\": {\"node_type\": \"metabolite\", \"x\": 1980.0, \"y\": 300.0, \"label_x\": 1950.0, \"label_y\": 280.0, \"bigg_id\": \"nadp_c\", \"name\": \"nadp_c\", \"node_is_primary\": false}, \"20\": {\"node_type\": \"metabolite\", \"x\": 2500.0, \"y\": 112.5, \"label_x\": 2470.0, \"label_y\": 92.5, \"bigg_id\": \"3_DEHYDRO_SHIKIMATE_c\", \"name\": \"3_DEHYDRO_SHIKIMATE_c\", \"node_is_primary\": false}, \"21\": {\"node_type\": \"metabolite\", \"x\": 2500.0, \"y\": 225.0, \"label_x\": 2470.0, \"label_y\": 205.0, \"bigg_id\": \"h_c\", \"name\": \"h_c\", \"node_is_primary\": false}, \"22\": {\"node_type\": \"metabolite\", \"x\": 2500.0, \"y\": 337.5, \"label_x\": 2470.0, \"label_y\": 317.5, \"bigg_id\": \"nadph_c\", \"name\": \"nadph_c\", \"node_is_primary\": false}, \"23\": {\"node_type\": \"multimarker\", \"x\": 2285.0, \"y\": 225.0}, \"24\": {\"node_type\": \"midmarker\", \"x\": 2305.0, \"y\": 225.0}, \"25\": {\"node_type\": \"multimarker\", \"x\": 2325.0, \"y\": 225.0}, \"26\": {\"node_type\": \"metabolite\", \"x\": 2630.0, \"y\": 150.0, \"label_x\": 2600.0, \"label_y\": 130.0, \"bigg_id\": \"SHIKIMATE_c\", \"name\": \"SHIKIMATE_c\", \"node_is_primary\": false}, \"27\": {\"node_type\": \"metabolite\", \"x\": 2630.0, \"y\": 300.0, \"label_x\": 2600.0, \"label_y\": 280.0, \"bigg_id\": \"atp_c\", \"name\": \"atp_c\", \"node_is_primary\": false}, \"28\": {\"node_type\": \"metabolite\", \"x\": 3150.0, \"y\": 112.5, \"label_x\": 3120.0, \"label_y\": 92.5, \"bigg_id\": \"SHIKIMATE_5P_c\", \"name\": \"SHIKIMATE_5P_c\", \"node_is_primary\": false}, \"29\": {\"node_type\": \"metabolite\", \"x\": 3150.0, \"y\": 225.0, \"label_x\": 3120.0, \"label_y\": 205.0, \"bigg_id\": \"adp_c\", \"name\": \"adp_c\", \"node_is_primary\": false}, \"30\": {\"node_type\": \"metabolite\", \"x\": 3150.0, \"y\": 337.5, \"label_x\": 3120.0, \"label_y\": 317.5, \"bigg_id\": \"h_c\", \"name\": \"h_c\", \"node_is_primary\": false}, \"31\": {\"node_type\": \"multimarker\", \"x\": 2935.0, \"y\": 225.0}, \"32\": {\"node_type\": \"midmarker\", \"x\": 2955.0, \"y\": 225.0}, \"33\": {\"node_type\": \"multimarker\", \"x\": 2975.0, \"y\": 225.0}, \"34\": {\"node_type\": \"metabolite\", \"x\": 3280.0, \"y\": 300.0, \"label_x\": 3250.0, \"label_y\": 280.0, \"bigg_id\": \"pep_c\", \"name\": \"pep_c\", \"node_is_primary\": false}, \"35\": {\"node_type\": \"metabolite\", \"x\": 3800.0, \"y\": 150.0, \"label_x\": 3770.0, \"label_y\": 130.0, \"bigg_id\": \"3_ENOLPYRUVYL_SHIKIMATE_5P_c\", \"name\": \"3_ENOLPYRUVYL_SHIKIMATE_5P_c\", \"node_is_primary\": false}, \"36\": {\"node_type\": \"metabolite\", \"x\": 3800.0, \"y\": 300.0, \"label_x\": 3770.0, \"label_y\": 280.0, \"bigg_id\": \"pi_c\", \"name\": \"pi_c\", \"node_is_primary\": false}, \"37\": {\"node_type\": \"multimarker\", \"x\": 3585.0, \"y\": 225.0}, \"38\": {\"node_type\": \"midmarker\", \"x\": 3605.0, \"y\": 225.0}, \"39\": {\"node_type\": \"multimarker\", \"x\": 3625.0, \"y\": 225.0}, \"40\": {\"node_type\": \"metabolite\", \"x\": 4450.0, \"y\": 150.0, \"label_x\": 4420.0, \"label_y\": 130.0, \"bigg_id\": \"CHORISMATE_c\", \"name\": \"CHORISMATE_c\", \"node_is_primary\": false}, \"41\": {\"node_type\": \"metabolite\", \"x\": 4450.0, \"y\": 300.0, \"label_x\": 4420.0, \"label_y\": 280.0, \"bigg_id\": \"pi_c\", \"name\": \"pi_c\", \"node_is_primary\": false}, \"42\": {\"node_type\": \"multimarker\", \"x\": 4235.0, \"y\": 225.0}, \"43\": {\"node_type\": \"midmarker\", \"x\": 4255.0, \"y\": 225.0}, \"44\": {\"node_type\": \"multimarker\", \"x\": 4275.0, \"y\": 225.0}}, \"text_labels\": {}, \"canvas\": {\"x\": 0, \"y\": 0, \"width\": 4550, \"height\": 450}}]",
       "_loaded_model_json": null,
       "allow_building_duplicate_reactions": false,
       "and_method_in_gene_reaction_rule": "mean",
       "canvas_size_and_loc": null,
       "cofactors": [
        "atp",
        "adp",
        "nad",
        "nadh",
        "nadp",
        "nadph",
        "gtp",
        "gdp",
        "h",
        "coa",
        "ump",
        "h2o",
        "ppi"
       ],
       "disabled_buttons": [
        "Clear reaction data",
        "Clear gene data",
        "Clear metabolite data"
       ],
       "embedded_css": null,
       "enable_editing": true,
       "enable_keys": false,
       "enable_keys_with_tooltip": true,
       "enable_search": true,
       "enable_tooltips": false,
       "full_screen_button": {
        "enable_editing": true,
        "enable_keys": true,
        "enable_tooltips": [
         "label"
        ],
        "menu": "all",
        "scroll_behavior": "pan"
       },
       "gene_data": null,
       "gene_font_size": 18,
       "height": 500,
       "hide_all_labels": false,
       "hide_secondary_metabolites": false,
       "highlight_missing": false,
       "identifiers_on_map": "bigg_id",
       "layout": "IPY_MODEL_9cabf526710a46a5a5872f0bebf8015e",
       "marker_radius": 5,
       "menu": "all",
       "metabolite_compare_style": "log2_fold",
       "metabolite_data": null,
       "metabolite_no_data_color": "#ffffff",
       "metabolite_no_data_size": 10,
       "metabolite_scale": [
        {
         "color": "#fffaf0",
         "size": 20,
         "type": "min"
        },
        {
         "color": "#f1c470",
         "size": 30,
         "type": "median"
        },
        {
         "color": "#800000",
         "size": 40,
         "type": "max"
        }
       ],
       "metabolite_scale_preset": "WhYlRd",
       "metabolite_styles": [
        "color",
        "size",
        "text"
       ],
       "never_ask_before_quit": true,
       "primary_metabolite_radius": 20,
       "reaction_compare_style": "log2_fold",
       "reaction_data": null,
       "reaction_no_data_color": "#dcdcdc",
       "reaction_no_data_size": 8,
       "reaction_scale": {},
       "reaction_scale_preset": null,
       "reaction_styles": [
        "color",
        "text"
       ],
       "scroll_behavior": "none",
       "secondary_metabolite_radius": 10,
       "semantic_zoom": null,
       "show_gene_reaction_rules": false,
       "starting_reaction": null,
       "use_3d_transform": false,
       "zoom_to_element": null
      }
     },
     "70525e7c564240e1823d512b0a6d017d": {
      "model_module": "@jupyter-widgets/base",
      "model_module_version": "1.2.0",
      "model_name": "LayoutModel",
      "state": {}
     },
     "723f64e1097f4f73a7777bb112ff0f41": {
      "model_module": "escher",
      "model_module_version": "1.7.3",
      "model_name": "EscherMapModel",
      "state": {
       "_loaded_map_json": "[{\"map_name\": \"\", \"map_id\": \"\", \"map_description\": \"\", \"homepage\": \"\", \"schema\": \"https://escher.github.io/escher/jsonschema/1-0-0#\"}, {\"reactions\": {\"0\": {\"name\": \"DAHPSYN_RXN_c\", \"bigg_id\": \"DAHPSYN_RXN_c\", \"reversibility\": true, \"label_x\": 265.0, \"label_y\": 325.0, \"gene_reaction_rule\": \"\", \"genes\": [], \"segments\": {\"0\": {\"from_node_id\": \"5\", \"to_node_id\": \"6\", \"b1\": null, \"b2\": null}, \"1\": {\"from_node_id\": \"7\", \"to_node_id\": \"6\", \"b1\": null, \"b2\": null}, \"2\": {\"from_node_id\": \"0\", \"to_node_id\": \"5\", \"b1\": null, \"b2\": null}, \"3\": {\"from_node_id\": \"1\", \"to_node_id\": \"5\", \"b1\": null, \"b2\": null}, \"4\": {\"from_node_id\": \"2\", \"to_node_id\": \"5\", \"b1\": null, \"b2\": null}, \"5\": {\"from_node_id\": \"3\", \"to_node_id\": \"7\", \"b1\": null, \"b2\": null}, \"6\": {\"from_node_id\": \"4\", \"to_node_id\": \"7\", \"b1\": null, \"b2\": null}}, \"metabolites\": [{\"bigg_id\": \"e4p_c\", \"coefficient\": -1.0}, {\"bigg_id\": \"h2o_c\", \"coefficient\": -1.0}, {\"bigg_id\": \"pep_c\", \"coefficient\": -1.0}, {\"bigg_id\": \"3_DEOXY_D_ARABINO_HEPTULOSONATE_7_P_c\", \"coefficient\": 1.0}, {\"bigg_id\": \"pi_c\", \"coefficient\": 1.0}]}, \"1\": {\"name\": \"3_DEHYDROQUINATE_SYNTHASE_RXN_c\", \"bigg_id\": \"3_DEHYDROQUINATE_SYNTHASE_RXN_c\", \"reversibility\": true, \"label_x\": 265.0, \"label_y\": 975.0, \"gene_reaction_rule\": \"\", \"genes\": [], \"segments\": {\"7\": {\"from_node_id\": \"10\", \"to_node_id\": \"11\", \"b1\": null, \"b2\": null}, \"8\": {\"from_node_id\": \"12\", \"to_node_id\": \"11\", \"b1\": null, \"b2\": null}, \"9\": {\"from_node_id\": \"3\", \"to_node_id\": \"10\", \"b1\": null, \"b2\": null}, \"10\": {\"from_node_id\": \"8\", \"to_node_id\": \"12\", \"b1\": null, \"b2\": null}, \"11\": {\"from_node_id\": \"9\", \"to_node_id\": \"12\", \"b1\": null, \"b2\": null}}, \"metabolites\": [{\"bigg_id\": \"3_DEOXY_D_ARABINO_HEPTULOSONATE_7_P_c\", \"coefficient\": -1.0}, {\"bigg_id\": \"DEHYDROQUINATE_c\", \"coefficient\": 1.0}, {\"bigg_id\": \"pi_c\", \"coefficient\": 1.0}]}, \"2\": {\"name\": \"3_DEHYDROQUINATE_DEHYDRATASE_RXN_c\", \"bigg_id\": \"3_DEHYDROQUINATE_DEHYDRATASE_RXN_c\", \"reversibility\": true, \"label_x\": 265.0, \"label_y\": 1625.0, \"gene_reaction_rule\": \"\", \"genes\": [], \"segments\": {\"12\": {\"from_node_id\": \"15\", \"to_node_id\": \"16\", \"b1\": null, \"b2\": null}, \"13\": {\"from_node_id\": \"17\", \"to_node_id\": \"16\", \"b1\": null, \"b2\": null}, \"14\": {\"from_node_id\": \"8\", \"to_node_id\": \"15\", \"b1\": null, \"b2\": null}, \"15\": {\"from_node_id\": \"13\", \"to_node_id\": \"17\", \"b1\": null, \"b2\": null}, \"16\": {\"from_node_id\": \"14\", \"to_node_id\": \"17\", \"b1\": null, \"b2\": null}}, \"metabolites\": [{\"bigg_id\": \"DEHYDROQUINATE_c\", \"coefficient\": -1.0}, {\"bigg_id\": \"3_DEHYDRO_SHIKIMATE_c\", \"coefficient\": 1.0}, {\"bigg_id\": \"h2o_c\", \"coefficient\": 1.0}]}, \"3\": {\"name\": \"SHIKIMATE_5_DEHYDROGENASE_RXN_c\", \"bigg_id\": \"SHIKIMATE_5_DEHYDROGENASE_RXN_c\", \"reversibility\": true, \"label_x\": 265.0, \"label_y\": 2275.0, \"gene_reaction_rule\": \"\", \"genes\": [], \"segments\": {\"17\": {\"from_node_id\": \"23\", \"to_node_id\": \"24\", \"b1\": null, \"b2\": null}, \"18\": {\"from_node_id\": \"25\", \"to_node_id\": \"24\", \"b1\": null, \"b2\": null}, \"19\": {\"from_node_id\": \"18\", \"to_node_id\": \"23\", \"b1\": null, \"b2\": null}, \"20\": {\"from_node_id\": \"19\", \"to_node_id\": \"23\", \"b1\": null, \"b2\": null}, \"21\": {\"from_node_id\": \"20\", \"to_node_id\": \"25\", \"b1\": null, \"b2\": null}, \"22\": {\"from_node_id\": \"21\", \"to_node_id\": \"25\", \"b1\": null, \"b2\": null}, \"23\": {\"from_node_id\": \"22\", \"to_node_id\": \"25\", \"b1\": null, \"b2\": null}}, \"metabolites\": [{\"bigg_id\": \"SHIKIMATE_c\", \"coefficient\": -1.0}, {\"bigg_id\": \"nadp_c\", \"coefficient\": -1.0}, {\"bigg_id\": \"3_DEHYDRO_SHIKIMATE_c\", \"coefficient\": 1.0}, {\"bigg_id\": \"h_c\", \"coefficient\": 1.0}, {\"bigg_id\": \"nadph_c\", \"coefficient\": 1.0}]}, \"4\": {\"name\": \"SHIKIMATE_KINASE_RXN_c\", \"bigg_id\": \"SHIKIMATE_KINASE_RXN_c\", \"reversibility\": true, \"label_x\": 265.0, \"label_y\": 2925.0, \"gene_reaction_rule\": \"\", \"genes\": [], \"segments\": {\"24\": {\"from_node_id\": \"31\", \"to_node_id\": \"32\", \"b1\": null, \"b2\": null}, \"25\": {\"from_node_id\": \"33\", \"to_node_id\": \"32\", \"b1\": null, \"b2\": null}, \"26\": {\"from_node_id\": \"26\", \"to_node_id\": \"31\", \"b1\": null, \"b2\": null}, \"27\": {\"from_node_id\": \"27\", \"to_node_id\": \"31\", \"b1\": null, \"b2\": null}, \"28\": {\"from_node_id\": \"28\", \"to_node_id\": \"33\", \"b1\": null, \"b2\": null}, \"29\": {\"from_node_id\": \"29\", \"to_node_id\": \"33\", \"b1\": null, \"b2\": null}, \"30\": {\"from_node_id\": \"30\", \"to_node_id\": \"33\", \"b1\": null, \"b2\": null}}, \"metabolites\": [{\"bigg_id\": \"SHIKIMATE_c\", \"coefficient\": -1.0}, {\"bigg_id\": \"atp_c\", \"coefficient\": -1.0}, {\"bigg_id\": \"SHIKIMATE_5P_c\", \"coefficient\": 1.0}, {\"bigg_id\": \"adp_c\", \"coefficient\": 1.0}, {\"bigg_id\": \"h_c\", \"coefficient\": 1.0}]}, \"5\": {\"name\": \"2.5.1.19_RXN_c\", \"bigg_id\": \"2.5.1.19_RXN_c\", \"reversibility\": true, \"label_x\": 265.0, \"label_y\": 3575.0, \"gene_reaction_rule\": \"\", \"genes\": [], \"segments\": {\"31\": {\"from_node_id\": \"37\", \"to_node_id\": \"38\", \"b1\": null, \"b2\": null}, \"32\": {\"from_node_id\": \"39\", \"to_node_id\": \"38\", \"b1\": null, \"b2\": null}, \"33\": {\"from_node_id\": \"28\", \"to_node_id\": \"37\", \"b1\": null, \"b2\": null}, \"34\": {\"from_node_id\": \"34\", \"to_node_id\": \"37\", \"b1\": null, \"b2\": null}, \"35\": {\"from_node_id\": \"35\", \"to_node_id\": \"39\", \"b1\": null, \"b2\": null}, \"36\": {\"from_node_id\": \"36\", \"to_node_id\": \"39\", \"b1\": null, \"b2\": null}}, \"metabolites\": [{\"bigg_id\": \"SHIKIMATE_5P_c\", \"coefficient\": -1.0}, {\"bigg_id\": \"pep_c\", \"coefficient\": -1.0}, {\"bigg_id\": \"3_ENOLPYRUVYL_SHIKIMATE_5P_c\", \"coefficient\": 1.0}, {\"bigg_id\": \"pi_c\", \"coefficient\": 1.0}]}, \"6\": {\"name\": \"CHORISMATE_SYNTHASE_RXN_c\", \"bigg_id\": \"CHORISMATE_SYNTHASE_RXN_c\", \"reversibility\": true, \"label_x\": 265.0, \"label_y\": 4225.0, \"gene_reaction_rule\": \"\", \"genes\": [], \"segments\": {\"37\": {\"from_node_id\": \"42\", \"to_node_id\": \"43\", \"b1\": null, \"b2\": null}, \"38\": {\"from_node_id\": \"44\", \"to_node_id\": \"43\", \"b1\": null, \"b2\": null}, \"39\": {\"from_node_id\": \"35\", \"to_node_id\": \"42\", \"b1\": null, \"b2\": null}, \"40\": {\"from_node_id\": \"40\", \"to_node_id\": \"44\", \"b1\": null, \"b2\": null}, \"41\": {\"from_node_id\": \"41\", \"to_node_id\": \"44\", \"b1\": null, \"b2\": null}}, \"metabolites\": [{\"bigg_id\": \"3_ENOLPYRUVYL_SHIKIMATE_5P_c\", \"coefficient\": -1.0}, {\"bigg_id\": \"CHORISMATE_c\", \"coefficient\": 1.0}, {\"bigg_id\": \"pi_c\", \"coefficient\": 1.0}]}}, \"nodes\": {\"0\": {\"node_type\": \"metabolite\", \"x\": 112.5, \"y\": 30.0, \"label_x\": 122.5, \"label_y\": 20.0, \"bigg_id\": \"e4p_c\", \"name\": \"e4p_c\", \"node_is_primary\": false}, \"1\": {\"node_type\": \"metabolite\", \"x\": 225.0, \"y\": 30.0, \"label_x\": 235.0, \"label_y\": 20.0, \"bigg_id\": \"h2o_c\", \"name\": \"h2o_c\", \"node_is_primary\": false}, \"2\": {\"node_type\": \"metabolite\", \"x\": 337.5, \"y\": 30.0, \"label_x\": 347.5, \"label_y\": 20.0, \"bigg_id\": \"pep_c\", \"name\": \"pep_c\", \"node_is_primary\": false}, \"3\": {\"node_type\": \"metabolite\", \"x\": 150.0, \"y\": 550.0, \"label_x\": 160.0, \"label_y\": 580.0, \"bigg_id\": \"3_DEOXY_D_ARABINO_HEPTULOSONATE_7_P_c\", \"name\": \"3_DEOXY_D_ARABINO_HEPTULOSONATE_7_P_c\", \"node_is_primary\": false}, \"4\": {\"node_type\": \"metabolite\", \"x\": 300.0, \"y\": 550.0, \"label_x\": 310.0, \"label_y\": 580.0, \"bigg_id\": \"pi_c\", \"name\": \"pi_c\", \"node_is_primary\": false}, \"5\": {\"node_type\": \"multimarker\", \"x\": 225.0, \"y\": 305.0}, \"6\": {\"node_type\": \"midmarker\", \"x\": 225.0, \"y\": 325.0}, \"7\": {\"node_type\": \"multimarker\", \"x\": 225.0, \"y\": 345.0}, \"8\": {\"node_type\": \"metabolite\", \"x\": 150.0, \"y\": 1200.0, \"label_x\": 160.0, \"label_y\": 1230.0, \"bigg_id\": \"DEHYDROQUINATE_c\", \"name\": \"DEHYDROQUINATE_c\", \"node_is_primary\": false}, \"9\": {\"node_type\": \"metabolite\", \"x\": 300.0, \"y\": 1200.0, \"label_x\": 310.0, \"label_y\": 1230.0, \"bigg_id\": \"pi_c\", \"name\": \"pi_c\", \"node_is_primary\": false}, \"10\": {\"node_type\": \"multimarker\", \"x\": 225.0, \"y\": 955.0}, \"11\": {\"node_type\": \"midmarker\", \"x\": 225.0, \"y\": 975.0}, \"12\": {\"node_type\": \"multimarker\", \"x\": 225.0, \"y\": 995.0}, \"13\": {\"node_type\": \"metabolite\", \"x\": 150.0, \"y\": 1850.0, \"label_x\": 160.0, \"label_y\": 1880.0, \"bigg_id\": \"3_DEHYDRO_SHIKIMATE_c\", \"name\": \"3_DEHYDRO_SHIKIMATE_c\", \"node_is_primary\": false}, \"14\": {\"node_type\": \"metabolite\", \"x\": 300.0, \"y\": 1850.0, \"label_x\": 310.0, \"label_y\": 1880.0, \"bigg_id\": \"h2o_c\", \"name\": \"h2o_c\", \"node_is_primary\": false}, \"15\": {\"node_type\": \"multimarker\", \"x\": 225.0, \"y\": 1605.0}, \"16\": {\"node_type\": \"midmarker\", \"x\": 225.0, \"y\": 1625.0}, \"17\": {\"node_type\": \"multimarker\", \"x\": 225.0, \"y\": 1645.0}, \"18\": {\"node_type\": \"metabolite\", \"x\": 150.0, \"y\": 1980.0, \"label_x\": 160.0, \"label_y\": 1970.0, \"bigg_id\": \"SHIKIMATE_c\", \"name\": \"SHIKIMATE_c\", \"node_is_primary\": false}, \"19\": {\"node_type\": \"metabolite\", \"x\": 300.0, \"y\": 1980.0, \"label_x\": 310.0, \"label_y\": 1970.0, \"bigg_id\": \"nadp_c\", \"name\": \"nadp_c\", \"node_is_primary\": false}, \"20\": {\"node_type\": \"metabolite\", \"x\": 112.5, \"y\": 2500.0, \"label_x\": 122.5, \"label_y\": 2530.0, \"bigg_id\": \"3_DEHYDRO_SHIKIMATE_c\", \"name\": \"3_DEHYDRO_SHIKIMATE_c\", \"node_is_primary\": false}, \"21\": {\"node_type\": \"metabolite\", \"x\": 225.0, \"y\": 2500.0, \"label_x\": 235.0, \"label_y\": 2530.0, \"bigg_id\": \"h_c\", \"name\": \"h_c\", \"node_is_primary\": false}, \"22\": {\"node_type\": \"metabolite\", \"x\": 337.5, \"y\": 2500.0, \"label_x\": 347.5, \"label_y\": 2530.0, \"bigg_id\": \"nadph_c\", \"name\": \"nadph_c\", \"node_is_primary\": false}, \"23\": {\"node_type\": \"multimarker\", \"x\": 225.0, \"y\": 2255.0}, \"24\": {\"node_type\": \"midmarker\", \"x\": 225.0, \"y\": 2275.0}, \"25\": {\"node_type\": \"multimarker\", \"x\": 225.0, \"y\": 2295.0}, \"26\": {\"node_type\": \"metabolite\", \"x\": 150.0, \"y\": 2630.0, \"label_x\": 160.0, \"label_y\": 2620.0, \"bigg_id\": \"SHIKIMATE_c\", \"name\": \"SHIKIMATE_c\", \"node_is_primary\": false}, \"27\": {\"node_type\": \"metabolite\", \"x\": 300.0, \"y\": 2630.0, \"label_x\": 310.0, \"label_y\": 2620.0, \"bigg_id\": \"atp_c\", \"name\": \"atp_c\", \"node_is_primary\": false}, \"28\": {\"node_type\": \"metabolite\", \"x\": 112.5, \"y\": 3150.0, \"label_x\": 122.5, \"label_y\": 3180.0, \"bigg_id\": \"SHIKIMATE_5P_c\", \"name\": \"SHIKIMATE_5P_c\", \"node_is_primary\": false}, \"29\": {\"node_type\": \"metabolite\", \"x\": 225.0, \"y\": 3150.0, \"label_x\": 235.0, \"label_y\": 3180.0, \"bigg_id\": \"adp_c\", \"name\": \"adp_c\", \"node_is_primary\": false}, \"30\": {\"node_type\": \"metabolite\", \"x\": 337.5, \"y\": 3150.0, \"label_x\": 347.5, \"label_y\": 3180.0, \"bigg_id\": \"h_c\", \"name\": \"h_c\", \"node_is_primary\": false}, \"31\": {\"node_type\": \"multimarker\", \"x\": 225.0, \"y\": 2905.0}, \"32\": {\"node_type\": \"midmarker\", \"x\": 225.0, \"y\": 2925.0}, \"33\": {\"node_type\": \"multimarker\", \"x\": 225.0, \"y\": 2945.0}, \"34\": {\"node_type\": \"metabolite\", \"x\": 300.0, \"y\": 3280.0, \"label_x\": 310.0, \"label_y\": 3270.0, \"bigg_id\": \"pep_c\", \"name\": \"pep_c\", \"node_is_primary\": false}, \"35\": {\"node_type\": \"metabolite\", \"x\": 150.0, \"y\": 3800.0, \"label_x\": 160.0, \"label_y\": 3830.0, \"bigg_id\": \"3_ENOLPYRUVYL_SHIKIMATE_5P_c\", \"name\": \"3_ENOLPYRUVYL_SHIKIMATE_5P_c\", \"node_is_primary\": false}, \"36\": {\"node_type\": \"metabolite\", \"x\": 300.0, \"y\": 3800.0, \"label_x\": 310.0, \"label_y\": 3830.0, \"bigg_id\": \"pi_c\", \"name\": \"pi_c\", \"node_is_primary\": false}, \"37\": {\"node_type\": \"multimarker\", \"x\": 225.0, \"y\": 3555.0}, \"38\": {\"node_type\": \"midmarker\", \"x\": 225.0, \"y\": 3575.0}, \"39\": {\"node_type\": \"multimarker\", \"x\": 225.0, \"y\": 3595.0}, \"40\": {\"node_type\": \"metabolite\", \"x\": 150.0, \"y\": 4450.0, \"label_x\": 160.0, \"label_y\": 4480.0, \"bigg_id\": \"CHORISMATE_c\", \"name\": \"CHORISMATE_c\", \"node_is_primary\": false}, \"41\": {\"node_type\": \"metabolite\", \"x\": 300.0, \"y\": 4450.0, \"label_x\": 310.0, \"label_y\": 4480.0, \"bigg_id\": \"pi_c\", \"name\": \"pi_c\", \"node_is_primary\": false}, \"42\": {\"node_type\": \"multimarker\", \"x\": 225.0, \"y\": 4205.0}, \"43\": {\"node_type\": \"midmarker\", \"x\": 225.0, \"y\": 4225.0}, \"44\": {\"node_type\": \"multimarker\", \"x\": 225.0, \"y\": 4245.0}}, \"text_labels\": {}, \"canvas\": {\"x\": 0, \"y\": 0, \"width\": 450, \"height\": 4550}}]",
       "_loaded_model_json": null,
       "allow_building_duplicate_reactions": false,
       "and_method_in_gene_reaction_rule": "mean",
       "canvas_size_and_loc": null,
       "cofactors": [
        "atp",
        "adp",
        "nad",
        "nadh",
        "nadp",
        "nadph",
        "gtp",
        "gdp",
        "h",
        "coa",
        "ump",
        "h2o",
        "ppi"
       ],
       "disabled_buttons": [
        "Clear gene data",
        "Clear metabolite data"
       ],
       "embedded_css": null,
       "enable_editing": true,
       "enable_keys": false,
       "enable_keys_with_tooltip": true,
       "enable_search": true,
       "enable_tooltips": false,
       "full_screen_button": {
        "enable_editing": true,
        "enable_keys": true,
        "enable_tooltips": [
         "label"
        ],
        "menu": "all",
        "scroll_behavior": "pan"
       },
       "gene_data": null,
       "gene_font_size": 18,
       "height": 500,
       "hide_all_labels": false,
       "hide_secondary_metabolites": false,
       "highlight_missing": false,
       "identifiers_on_map": "bigg_id",
       "layout": "IPY_MODEL_38b194260a48475eb4a35899ae0cab5c",
       "marker_radius": 5,
       "menu": "all",
       "metabolite_compare_style": "log2_fold",
       "metabolite_data": null,
       "metabolite_no_data_color": "#ffffff",
       "metabolite_no_data_size": 10,
       "metabolite_scale": [
        {
         "color": "#fffaf0",
         "size": 20,
         "type": "min"
        },
        {
         "color": "#f1c470",
         "size": 30,
         "type": "median"
        },
        {
         "color": "#800000",
         "size": 40,
         "type": "max"
        }
       ],
       "metabolite_scale_preset": "WhYlRd",
       "metabolite_styles": [
        "color",
        "size",
        "text"
       ],
       "never_ask_before_quit": true,
       "primary_metabolite_radius": 20,
       "reaction_compare_style": "log2_fold",
       "reaction_data": {
        "2.5.1.19_RXN_c": 0,
        "3_DEHYDROQUINATE_DEHYDRATASE_RXN_c": 2.20572222557515,
        "3_DEHYDROQUINATE_SYNTHASE_RXN_c": 2.2057222255751507,
        "ACALD": -6.665271699160732,
        "ACALDt": 7.974106629308508e-16,
        "ACKr": -6.860287003405108,
        "ACONTa": 0.06623673156351445,
        "ACONTb": 0.06623673156351446,
        "ACt2r": -6.860287003405108,
        "ADK1": 0,
        "AKGDH": 0,
        "AKGt2r": 0,
        "ALCD2x": -6.665271699160733,
        "ATPM": 8.39,
        "ATPS4r": -4.8015484457073745,
        "Biomass_Ecoli_core": 0,
        "CHORISMATE_SYNTHASE_RXN_c": 0,
        "CO2t": 0.16376509659814453,
        "CS": 0.06623673156351445,
        "CYTBD": 0,
        "DAHPSYN_RXN_c": 2.2057222255751507,
        "D_LACt2": 0,
        "ENO": 16.67826278910187,
        "ETOHt2r": -6.6652716991607335,
        "EX_ac_e": 6.860287003405108,
        "EX_acald_e": 0,
        "EX_akg_e": 0,
        "EX_co2_e": -0.16376509659814453,
        "EX_etoh_e": 6.6652716991607335,
        "EX_for_e": 13.935310757927711,
        "EX_fru_e": 0,
        "EX_fum_e": 0,
        "EX_glc__D_e": -10,
        "EX_gln__L_e": 0,
        "EX_glu__L_e": 0,
        "EX_h2o_e": -1.815225701753398,
        "EX_h_e": 24.774670772651554,
        "EX_lac__D_e": 0,
        "EX_mal__L_e": 0,
        "EX_nh4_e": -0.4997919733197377,
        "EX_o2_e": 0,
        "EX_pi_e": -0.3371817657444329,
        "EX_pyr_e": 0,
        "EX_succ_e": 0,
        "FBA": 9.173587185837121,
        "FBP": 0,
        "FORt2": 0,
        "FORti": 13.935310757927711,
        "FRD7": 0,
        "FRUpts2": 0,
        "FUM": 0,
        "FUMt2_2": 0,
        "G6PDH2r": 0,
        "GAPD": 16.815382946101266,
        "GLCpts": 9.99999999999985,
        "GLNS": 0.023436914535258525,
        "GLNabc": 0,
        "GLUDy": -0.4763550587844822,
        "GLUN": 0,
        "GLUSy": 0,
        "GLUt2r": -1.0466628741250758e-14,
        "GND": 0,
        "H2Ot": 1.815225701753398,
        "ICDHyr": 0.06623673156351445,
        "ICL": 0,
        "LDH_D": 0,
        "MALS": 0,
        "MALt2_2": 0,
        "MDH": 0,
        "ME1": 0,
        "ME2": 0,
        "NADH16": 0,
        "NADTRHD": 0,
        "NH4t": 0.49979197331973774,
        "O2t": 0,
        "PDH": 0,
        "PFK": 9.173587185837121,
        "PFL": 13.93531075792771,
        "PGI": 9.98121013891369,
        "PGK": -16.815382946101266,
        "PGL": 0,
        "PGM": -16.67826278910187,
        "PIt2r": 0.3371817657444329,
        "PPC": 0.23000182816166218,
        "PPCK": 0,
        "PPS": 0,
        "PTAr": 6.860287003405108,
        "PYK": 4.194959140780723,
        "PYRt2": 0,
        "RPE": -0.8011244108765446,
        "RPI": -0.8011244108765426,
        "SA3_biomass": 0.09958679209872245,
        "SHIKIMATE_5_DEHYDROGENASE_RXN_c": -2.2057222255751743,
        "SHIKIMATE_KINASE_RXN_c": 0,
        "SK_CHORISMATE_c": 0,
        "SUCCt2_2": 0,
        "SUCCt3": 0,
        "SUCDi": 0,
        "SUCOAS": 0,
        "TALA": 0.7188431508910131,
        "THD2": 3.8099499734996525,
        "TKT1": 0.7188431508910084,
        "TKT2": -1.5199675617675494,
        "TPI": 9.173587185837121,
        "W3110_biomass": 0
       },
       "reaction_no_data_color": "#dcdcdc",
       "reaction_no_data_size": 8,
       "reaction_scale": [
        {
         "color": "rgb(207,207,221)",
         "type": "value",
         "value": 0.16666666666666666
        },
        {
         "color": "rgb(195,195,223)",
         "type": "value",
         "value": 0.33333333333333337
        },
        {
         "color": "rgb(183,183,225)",
         "type": "value",
         "value": 0.5
        },
        {
         "color": "rgb(171,171,227)",
         "type": "value",
         "value": 0.6666666666666666
        },
        {
         "color": "rgb(158,158,229)",
         "type": "value",
         "value": 0.8333333333333334
        },
        {
         "color": "rgb(146,146,231)",
         "type": "value",
         "value": 1.0000000000000002
        },
        {
         "color": "rgb(134,134,233)",
         "type": "value",
         "value": 1.1666666666666667
        },
        {
         "color": "rgb(122,122,235)",
         "type": "value",
         "value": 1.3333333333333335
        },
        {
         "color": "rgb(109,109,237)",
         "type": "value",
         "value": 1.5000000000000002
        },
        {
         "color": "rgb(97,97,239)",
         "type": "value",
         "value": 1.666666666666667
        },
        {
         "color": "rgb(85,85,241)",
         "type": "value",
         "value": 1.8333333333333337
        },
        {
         "color": "rgb(73,73,243)",
         "type": "value",
         "value": 2
        },
        {
         "color": "rgb(61,61,245)",
         "type": "value",
         "value": 2.1666666666666665
        },
        {
         "color": "rgb(48,48,247)",
         "type": "value",
         "value": 2.3333333333333335
        },
        {
         "color": "rgb(36,36,249)",
         "type": "value",
         "value": 2.5
        },
        {
         "color": "rgb(24,24,251)",
         "type": "value",
         "value": 2.666666666666667
        },
        {
         "color": "rgb(12,12,253)",
         "type": "value",
         "value": 2.8333333333333335
        },
        {
         "color": "rgb(0,0,254)",
         "type": "value",
         "value": 3
        },
        {
         "color": "rgb(220,220,220)",
         "type": "value",
         "value": 0
        },
        {
         "color": "rgb(223,200,200)",
         "type": "value",
         "value": -0.2727272727272727
        },
        {
         "color": "rgb(226,180,180)",
         "type": "value",
         "value": -0.5454545454545454
        },
        {
         "color": "rgb(229,160,160)",
         "type": "value",
         "value": -0.8181818181818182
        },
        {
         "color": "rgb(232,140,140)",
         "type": "value",
         "value": -1.090909090909091
        },
        {
         "color": "rgb(235,120,120)",
         "type": "value",
         "value": -1.3636363636363638
        },
        {
         "color": "rgb(239,100,100)",
         "type": "value",
         "value": -1.6363636363636365
        },
        {
         "color": "rgb(242,80,80)",
         "type": "value",
         "value": -1.9090909090909094
        },
        {
         "color": "rgb(245,60,60)",
         "type": "value",
         "value": -2.181818181818182
        },
        {
         "color": "rgb(248,40,40)",
         "type": "value",
         "value": -2.454545454545455
        },
        {
         "color": "rgb(251,20,20)",
         "type": "value",
         "value": -2.7272727272727275
        },
        {
         "color": "rgb(255,0,0)",
         "type": "value",
         "value": -3
        }
       ],
       "reaction_scale_preset": null,
       "reaction_styles": [
        "color",
        "text"
       ],
       "scroll_behavior": "none",
       "secondary_metabolite_radius": 10,
       "semantic_zoom": null,
       "show_gene_reaction_rules": false,
       "starting_reaction": null,
       "use_3d_transform": false,
       "zoom_to_element": null
      }
     },
     "8be8205e76994e72bcbfe9d858b63abf": {
      "model_module": "@jupyter-widgets/base",
      "model_module_version": "1.2.0",
      "model_name": "LayoutModel",
      "state": {}
     },
     "9cabf526710a46a5a5872f0bebf8015e": {
      "model_module": "@jupyter-widgets/base",
      "model_module_version": "1.2.0",
      "model_name": "LayoutModel",
      "state": {}
     },
     "9d67b009d4494dc193265507da869d50": {
      "model_module": "escher",
      "model_module_version": "1.7.3",
      "model_name": "EscherMapModel",
      "state": {
       "_loaded_map_json": "[{\"map_name\": \"\", \"map_id\": \"\", \"map_description\": \"\", \"homepage\": \"\", \"schema\": \"https://escher.github.io/escher/jsonschema/1-0-0#\"}, {\"reactions\": {\"0\": {\"name\": \"DAHPSYN_RXN_c\", \"bigg_id\": \"DAHPSYN_RXN_c\", \"reversibility\": true, \"label_x\": 208.0, \"label_y\": 45.0, \"gene_reaction_rule\": \"\", \"genes\": [], \"segments\": {\"0\": {\"from_node_id\": \"5\", \"to_node_id\": \"6\", \"b1\": null, \"b2\": null}, \"1\": {\"from_node_id\": \"7\", \"to_node_id\": \"6\", \"b1\": null, \"b2\": null}, \"2\": {\"from_node_id\": \"0\", \"to_node_id\": \"5\", \"b1\": null, \"b2\": null}, \"3\": {\"from_node_id\": \"1\", \"to_node_id\": \"5\", \"b1\": null, \"b2\": null}, \"4\": {\"from_node_id\": \"2\", \"to_node_id\": \"5\", \"b1\": null, \"b2\": null}, \"5\": {\"from_node_id\": \"3\", \"to_node_id\": \"7\", \"b1\": null, \"b2\": null}, \"6\": {\"from_node_id\": \"4\", \"to_node_id\": \"7\", \"b1\": null, \"b2\": null}}, \"metabolites\": [{\"bigg_id\": \"e4p_c\", \"coefficient\": -1.0}, {\"bigg_id\": \"h2o_c\", \"coefficient\": -1.0}, {\"bigg_id\": \"pep_c\", \"coefficient\": -1.0}, {\"bigg_id\": \"3_DEOXY_D_ARABINO_HEPTULOSONATE_7_P_c\", \"coefficient\": 1.0}, {\"bigg_id\": \"pi_c\", \"coefficient\": 1.0}]}, \"1\": {\"name\": \"3_DEHYDROQUINATE_SYNTHASE_RXN_c\", \"bigg_id\": \"3_DEHYDROQUINATE_SYNTHASE_RXN_c\", \"reversibility\": true, \"label_x\": 696.0, \"label_y\": 45.0, \"gene_reaction_rule\": \"\", \"genes\": [], \"segments\": {\"7\": {\"from_node_id\": \"10\", \"to_node_id\": \"11\", \"b1\": null, \"b2\": null}, \"8\": {\"from_node_id\": \"12\", \"to_node_id\": \"11\", \"b1\": null, \"b2\": null}, \"9\": {\"from_node_id\": \"3\", \"to_node_id\": \"10\", \"b1\": null, \"b2\": null}, \"10\": {\"from_node_id\": \"8\", \"to_node_id\": \"12\", \"b1\": null, \"b2\": null}, \"11\": {\"from_node_id\": \"9\", \"to_node_id\": \"12\", \"b1\": null, \"b2\": null}}, \"metabolites\": [{\"bigg_id\": \"3_DEOXY_D_ARABINO_HEPTULOSONATE_7_P_c\", \"coefficient\": -1.0}, {\"bigg_id\": \"DEHYDROQUINATE_c\", \"coefficient\": 1.0}, {\"bigg_id\": \"pi_c\", \"coefficient\": 1.0}]}, \"2\": {\"name\": \"3_DEHYDROQUINATE_DEHYDRATASE_RXN_c\", \"bigg_id\": \"3_DEHYDROQUINATE_DEHYDRATASE_RXN_c\", \"reversibility\": true, \"label_x\": 1319.0, \"label_y\": 45.0, \"gene_reaction_rule\": \"\", \"genes\": [], \"segments\": {\"12\": {\"from_node_id\": \"15\", \"to_node_id\": \"16\", \"b1\": null, \"b2\": null}, \"13\": {\"from_node_id\": \"17\", \"to_node_id\": \"16\", \"b1\": null, \"b2\": null}, \"14\": {\"from_node_id\": \"8\", \"to_node_id\": \"15\", \"b1\": null, \"b2\": null}, \"15\": {\"from_node_id\": \"13\", \"to_node_id\": \"17\", \"b1\": null, \"b2\": null}, \"16\": {\"from_node_id\": \"14\", \"to_node_id\": \"17\", \"b1\": null, \"b2\": null}}, \"metabolites\": [{\"bigg_id\": \"DEHYDROQUINATE_c\", \"coefficient\": -1.0}, {\"bigg_id\": \"3_DEHYDRO_SHIKIMATE_c\", \"coefficient\": 1.0}, {\"bigg_id\": \"h2o_c\", \"coefficient\": 1.0}]}, \"3\": {\"name\": \"SHIKIMATE_5_DEHYDROGENASE_RXN_c\", \"bigg_id\": \"SHIKIMATE_5_DEHYDROGENASE_RXN_c\", \"reversibility\": true, \"label_x\": 1996.0, \"label_y\": 45.0, \"gene_reaction_rule\": \"\", \"genes\": [], \"segments\": {\"17\": {\"from_node_id\": \"23\", \"to_node_id\": \"24\", \"b1\": null, \"b2\": null}, \"18\": {\"from_node_id\": \"25\", \"to_node_id\": \"24\", \"b1\": null, \"b2\": null}, \"19\": {\"from_node_id\": \"18\", \"to_node_id\": \"23\", \"b1\": null, \"b2\": null}, \"20\": {\"from_node_id\": \"19\", \"to_node_id\": \"23\", \"b1\": null, \"b2\": null}, \"21\": {\"from_node_id\": \"20\", \"to_node_id\": \"25\", \"b1\": null, \"b2\": null}, \"22\": {\"from_node_id\": \"21\", \"to_node_id\": \"25\", \"b1\": null, \"b2\": null}, \"23\": {\"from_node_id\": \"22\", \"to_node_id\": \"25\", \"b1\": null, \"b2\": null}}, \"metabolites\": [{\"bigg_id\": \"SHIKIMATE_c\", \"coefficient\": -1.0}, {\"bigg_id\": \"nadp_c\", \"coefficient\": -1.0}, {\"bigg_id\": \"3_DEHYDRO_SHIKIMATE_c\", \"coefficient\": 1.0}, {\"bigg_id\": \"h_c\", \"coefficient\": 1.0}, {\"bigg_id\": \"nadph_c\", \"coefficient\": 1.0}]}, \"4\": {\"name\": \"SHIKIMATE_KINASE_RXN_c\", \"bigg_id\": \"SHIKIMATE_KINASE_RXN_c\", \"reversibility\": true, \"label_x\": 2727.0, \"label_y\": 45.0, \"gene_reaction_rule\": \"\", \"genes\": [], \"segments\": {\"24\": {\"from_node_id\": \"31\", \"to_node_id\": \"32\", \"b1\": null, \"b2\": null}, \"25\": {\"from_node_id\": \"33\", \"to_node_id\": \"32\", \"b1\": null, \"b2\": null}, \"26\": {\"from_node_id\": \"26\", \"to_node_id\": \"31\", \"b1\": null, \"b2\": null}, \"27\": {\"from_node_id\": \"27\", \"to_node_id\": \"31\", \"b1\": null, \"b2\": null}, \"28\": {\"from_node_id\": \"28\", \"to_node_id\": \"33\", \"b1\": null, \"b2\": null}, \"29\": {\"from_node_id\": \"29\", \"to_node_id\": \"33\", \"b1\": null, \"b2\": null}, \"30\": {\"from_node_id\": \"30\", \"to_node_id\": \"33\", \"b1\": null, \"b2\": null}}, \"metabolites\": [{\"bigg_id\": \"SHIKIMATE_c\", \"coefficient\": -1.0}, {\"bigg_id\": \"atp_c\", \"coefficient\": -1.0}, {\"bigg_id\": \"SHIKIMATE_5P_c\", \"coefficient\": 1.0}, {\"bigg_id\": \"adp_c\", \"coefficient\": 1.0}, {\"bigg_id\": \"h_c\", \"coefficient\": 1.0}]}, \"5\": {\"name\": \"2.5.1.19_RXN_c\", \"bigg_id\": \"2.5.1.19_RXN_c\", \"reversibility\": true, \"label_x\": 3449.0, \"label_y\": 45.0, \"gene_reaction_rule\": \"\", \"genes\": [], \"segments\": {\"31\": {\"from_node_id\": \"37\", \"to_node_id\": \"38\", \"b1\": null, \"b2\": null}, \"32\": {\"from_node_id\": \"39\", \"to_node_id\": \"38\", \"b1\": null, \"b2\": null}, \"33\": {\"from_node_id\": \"28\", \"to_node_id\": \"37\", \"b1\": null, \"b2\": null}, \"34\": {\"from_node_id\": \"34\", \"to_node_id\": \"37\", \"b1\": null, \"b2\": null}, \"35\": {\"from_node_id\": \"35\", \"to_node_id\": \"39\", \"b1\": null, \"b2\": null}, \"36\": {\"from_node_id\": \"36\", \"to_node_id\": \"39\", \"b1\": null, \"b2\": null}}, \"metabolites\": [{\"bigg_id\": \"SHIKIMATE_5P_c\", \"coefficient\": -1.0}, {\"bigg_id\": \"pep_c\", \"coefficient\": -1.0}, {\"bigg_id\": \"3_ENOLPYRUVYL_SHIKIMATE_5P_c\", \"coefficient\": 1.0}, {\"bigg_id\": \"pi_c\", \"coefficient\": 1.0}]}, \"6\": {\"name\": \"CHORISMATE_SYNTHASE_RXN_c\", \"bigg_id\": \"CHORISMATE_SYNTHASE_RXN_c\", \"reversibility\": true, \"label_x\": 4000.0, \"label_y\": 45.0, \"gene_reaction_rule\": \"\", \"genes\": [], \"segments\": {\"37\": {\"from_node_id\": \"42\", \"to_node_id\": \"43\", \"b1\": null, \"b2\": null}, \"38\": {\"from_node_id\": \"44\", \"to_node_id\": \"43\", \"b1\": null, \"b2\": null}, \"39\": {\"from_node_id\": \"35\", \"to_node_id\": \"42\", \"b1\": null, \"b2\": null}, \"40\": {\"from_node_id\": \"40\", \"to_node_id\": \"44\", \"b1\": null, \"b2\": null}, \"41\": {\"from_node_id\": \"41\", \"to_node_id\": \"44\", \"b1\": null, \"b2\": null}}, \"metabolites\": [{\"bigg_id\": \"3_ENOLPYRUVYL_SHIKIMATE_5P_c\", \"coefficient\": -1.0}, {\"bigg_id\": \"CHORISMATE_c\", \"coefficient\": 1.0}, {\"bigg_id\": \"pi_c\", \"coefficient\": 1.0}]}}, \"nodes\": {\"0\": {\"node_type\": \"metabolite\", \"x\": 30.0, \"y\": 112.5, \"label_x\": 0.0, \"label_y\": 92.5, \"bigg_id\": \"e4p_c\", \"name\": \"e4p_c\", \"node_is_primary\": false}, \"1\": {\"node_type\": \"metabolite\", \"x\": 30.0, \"y\": 225.0, \"label_x\": 0.0, \"label_y\": 205.0, \"bigg_id\": \"h2o_c\", \"name\": \"h2o_c\", \"node_is_primary\": false}, \"2\": {\"node_type\": \"metabolite\", \"x\": 30.0, \"y\": 337.5, \"label_x\": 0.0, \"label_y\": 317.5, \"bigg_id\": \"pep_c\", \"name\": \"pep_c\", \"node_is_primary\": false}, \"3\": {\"node_type\": \"metabolite\", \"x\": 550.0, \"y\": 150.0, \"label_x\": 520.0, \"label_y\": 130.0, \"bigg_id\": \"3_DEOXY_D_ARABINO_HEPTULOSONATE_7_P_c\", \"name\": \"3_DEOXY_D_ARABINO_HEPTULOSONATE_7_P_c\", \"node_is_primary\": false}, \"4\": {\"node_type\": \"metabolite\", \"x\": 550.0, \"y\": 300.0, \"label_x\": 520.0, \"label_y\": 280.0, \"bigg_id\": \"pi_c\", \"name\": \"pi_c\", \"node_is_primary\": false}, \"5\": {\"node_type\": \"multimarker\", \"x\": 335.0, \"y\": 225.0}, \"6\": {\"node_type\": \"midmarker\", \"x\": 355.0, \"y\": 225.0}, \"7\": {\"node_type\": \"multimarker\", \"x\": 375.0, \"y\": 225.0}, \"8\": {\"node_type\": \"metabolite\", \"x\": 1200.0, \"y\": 150.0, \"label_x\": 1170.0, \"label_y\": 130.0, \"bigg_id\": \"DEHYDROQUINATE_c\", \"name\": \"DEHYDROQUINATE_c\", \"node_is_primary\": false}, \"9\": {\"node_type\": \"metabolite\", \"x\": 1200.0, \"y\": 300.0, \"label_x\": 1170.0, \"label_y\": 280.0, \"bigg_id\": \"pi_c\", \"name\": \"pi_c\", \"node_is_primary\": false}, \"10\": {\"node_type\": \"multimarker\", \"x\": 985.0, \"y\": 225.0}, \"11\": {\"node_type\": \"midmarker\", \"x\": 1005.0, \"y\": 225.0}, \"12\": {\"node_type\": \"multimarker\", \"x\": 1025.0, \"y\": 225.0}, \"13\": {\"node_type\": \"metabolite\", \"x\": 1850.0, \"y\": 150.0, \"label_x\": 1820.0, \"label_y\": 130.0, \"bigg_id\": \"3_DEHYDRO_SHIKIMATE_c\", \"name\": \"3_DEHYDRO_SHIKIMATE_c\", \"node_is_primary\": false}, \"14\": {\"node_type\": \"metabolite\", \"x\": 1850.0, \"y\": 300.0, \"label_x\": 1820.0, \"label_y\": 280.0, \"bigg_id\": \"h2o_c\", \"name\": \"h2o_c\", \"node_is_primary\": false}, \"15\": {\"node_type\": \"multimarker\", \"x\": 1635.0, \"y\": 225.0}, \"16\": {\"node_type\": \"midmarker\", \"x\": 1655.0, \"y\": 225.0}, \"17\": {\"node_type\": \"multimarker\", \"x\": 1675.0, \"y\": 225.0}, \"18\": {\"node_type\": \"metabolite\", \"x\": 1980.0, \"y\": 150.0, \"label_x\": 1950.0, \"label_y\": 130.0, \"bigg_id\": \"SHIKIMATE_c\", \"name\": \"SHIKIMATE_c\", \"node_is_primary\": false}, \"19\": {\"node_type\": \"metabolite\", \"x\": 1980.0, \"y\": 300.0, \"label_x\": 1950.0, \"label_y\": 280.0, \"bigg_id\": \"nadp_c\", \"name\": \"nadp_c\", \"node_is_primary\": false}, \"20\": {\"node_type\": \"metabolite\", \"x\": 2500.0, \"y\": 112.5, \"label_x\": 2470.0, \"label_y\": 92.5, \"bigg_id\": \"3_DEHYDRO_SHIKIMATE_c\", \"name\": \"3_DEHYDRO_SHIKIMATE_c\", \"node_is_primary\": false}, \"21\": {\"node_type\": \"metabolite\", \"x\": 2500.0, \"y\": 225.0, \"label_x\": 2470.0, \"label_y\": 205.0, \"bigg_id\": \"h_c\", \"name\": \"h_c\", \"node_is_primary\": false}, \"22\": {\"node_type\": \"metabolite\", \"x\": 2500.0, \"y\": 337.5, \"label_x\": 2470.0, \"label_y\": 317.5, \"bigg_id\": \"nadph_c\", \"name\": \"nadph_c\", \"node_is_primary\": false}, \"23\": {\"node_type\": \"multimarker\", \"x\": 2285.0, \"y\": 225.0}, \"24\": {\"node_type\": \"midmarker\", \"x\": 2305.0, \"y\": 225.0}, \"25\": {\"node_type\": \"multimarker\", \"x\": 2325.0, \"y\": 225.0}, \"26\": {\"node_type\": \"metabolite\", \"x\": 2630.0, \"y\": 150.0, \"label_x\": 2600.0, \"label_y\": 130.0, \"bigg_id\": \"SHIKIMATE_c\", \"name\": \"SHIKIMATE_c\", \"node_is_primary\": false}, \"27\": {\"node_type\": \"metabolite\", \"x\": 2630.0, \"y\": 300.0, \"label_x\": 2600.0, \"label_y\": 280.0, \"bigg_id\": \"atp_c\", \"name\": \"atp_c\", \"node_is_primary\": false}, \"28\": {\"node_type\": \"metabolite\", \"x\": 3150.0, \"y\": 112.5, \"label_x\": 3120.0, \"label_y\": 92.5, \"bigg_id\": \"SHIKIMATE_5P_c\", \"name\": \"SHIKIMATE_5P_c\", \"node_is_primary\": false}, \"29\": {\"node_type\": \"metabolite\", \"x\": 3150.0, \"y\": 225.0, \"label_x\": 3120.0, \"label_y\": 205.0, \"bigg_id\": \"adp_c\", \"name\": \"adp_c\", \"node_is_primary\": false}, \"30\": {\"node_type\": \"metabolite\", \"x\": 3150.0, \"y\": 337.5, \"label_x\": 3120.0, \"label_y\": 317.5, \"bigg_id\": \"h_c\", \"name\": \"h_c\", \"node_is_primary\": false}, \"31\": {\"node_type\": \"multimarker\", \"x\": 2935.0, \"y\": 225.0}, \"32\": {\"node_type\": \"midmarker\", \"x\": 2955.0, \"y\": 225.0}, \"33\": {\"node_type\": \"multimarker\", \"x\": 2975.0, \"y\": 225.0}, \"34\": {\"node_type\": \"metabolite\", \"x\": 3280.0, \"y\": 300.0, \"label_x\": 3250.0, \"label_y\": 280.0, \"bigg_id\": \"pep_c\", \"name\": \"pep_c\", \"node_is_primary\": false}, \"35\": {\"node_type\": \"metabolite\", \"x\": 3800.0, \"y\": 150.0, \"label_x\": 3770.0, \"label_y\": 130.0, \"bigg_id\": \"3_ENOLPYRUVYL_SHIKIMATE_5P_c\", \"name\": \"3_ENOLPYRUVYL_SHIKIMATE_5P_c\", \"node_is_primary\": false}, \"36\": {\"node_type\": \"metabolite\", \"x\": 3800.0, \"y\": 300.0, \"label_x\": 3770.0, \"label_y\": 280.0, \"bigg_id\": \"pi_c\", \"name\": \"pi_c\", \"node_is_primary\": false}, \"37\": {\"node_type\": \"multimarker\", \"x\": 3585.0, \"y\": 225.0}, \"38\": {\"node_type\": \"midmarker\", \"x\": 3605.0, \"y\": 225.0}, \"39\": {\"node_type\": \"multimarker\", \"x\": 3625.0, \"y\": 225.0}, \"40\": {\"node_type\": \"metabolite\", \"x\": 4450.0, \"y\": 150.0, \"label_x\": 4420.0, \"label_y\": 130.0, \"bigg_id\": \"CHORISMATE_c\", \"name\": \"CHORISMATE_c\", \"node_is_primary\": false}, \"41\": {\"node_type\": \"metabolite\", \"x\": 4450.0, \"y\": 300.0, \"label_x\": 4420.0, \"label_y\": 280.0, \"bigg_id\": \"pi_c\", \"name\": \"pi_c\", \"node_is_primary\": false}, \"42\": {\"node_type\": \"multimarker\", \"x\": 4235.0, \"y\": 225.0}, \"43\": {\"node_type\": \"midmarker\", \"x\": 4255.0, \"y\": 225.0}, \"44\": {\"node_type\": \"multimarker\", \"x\": 4275.0, \"y\": 225.0}}, \"text_labels\": {}, \"canvas\": {\"x\": 0, \"y\": 0, \"width\": 4550, \"height\": 450}}]",
       "_loaded_model_json": null,
       "allow_building_duplicate_reactions": false,
       "and_method_in_gene_reaction_rule": "mean",
       "canvas_size_and_loc": null,
       "cofactors": [
        "atp",
        "adp",
        "nad",
        "nadh",
        "nadp",
        "nadph",
        "gtp",
        "gdp",
        "h",
        "coa",
        "ump",
        "h2o",
        "ppi"
       ],
       "disabled_buttons": [
        "Clear gene data",
        "Clear metabolite data"
       ],
       "embedded_css": null,
       "enable_editing": true,
       "enable_keys": false,
       "enable_keys_with_tooltip": true,
       "enable_search": true,
       "enable_tooltips": false,
       "full_screen_button": {
        "enable_editing": true,
        "enable_keys": true,
        "enable_tooltips": [
         "label"
        ],
        "menu": "all",
        "scroll_behavior": "pan"
       },
       "gene_data": null,
       "gene_font_size": 18,
       "height": 500,
       "hide_all_labels": false,
       "hide_secondary_metabolites": false,
       "highlight_missing": false,
       "identifiers_on_map": "bigg_id",
       "layout": "IPY_MODEL_70525e7c564240e1823d512b0a6d017d",
       "marker_radius": 5,
       "menu": "all",
       "metabolite_compare_style": "log2_fold",
       "metabolite_data": null,
       "metabolite_no_data_color": "#ffffff",
       "metabolite_no_data_size": 10,
       "metabolite_scale": [
        {
         "color": "#fffaf0",
         "size": 20,
         "type": "min"
        },
        {
         "color": "#f1c470",
         "size": 30,
         "type": "median"
        },
        {
         "color": "#800000",
         "size": 40,
         "type": "max"
        }
       ],
       "metabolite_scale_preset": "WhYlRd",
       "metabolite_styles": [
        "color",
        "size",
        "text"
       ],
       "never_ask_before_quit": true,
       "primary_metabolite_radius": 20,
       "reaction_compare_style": "log2_fold",
       "reaction_data": {
        "2.5.1.19_RXN_c": 0,
        "3_DEHYDROQUINATE_DEHYDRATASE_RXN_c": 2.20572222557515,
        "3_DEHYDROQUINATE_SYNTHASE_RXN_c": 2.2057222255751507,
        "ACALD": -6.665271699160732,
        "ACALDt": 7.974106629308508e-16,
        "ACKr": -6.860287003405108,
        "ACONTa": 0.06623673156351445,
        "ACONTb": 0.06623673156351446,
        "ACt2r": -6.860287003405108,
        "ADK1": 0,
        "AKGDH": 0,
        "AKGt2r": 0,
        "ALCD2x": -6.665271699160733,
        "ATPM": 8.39,
        "ATPS4r": -4.8015484457073745,
        "Biomass_Ecoli_core": 0,
        "CHORISMATE_SYNTHASE_RXN_c": 0,
        "CO2t": 0.16376509659814453,
        "CS": 0.06623673156351445,
        "CYTBD": 0,
        "DAHPSYN_RXN_c": 2.2057222255751507,
        "D_LACt2": 0,
        "ENO": 16.67826278910187,
        "ETOHt2r": -6.6652716991607335,
        "EX_ac_e": 6.860287003405108,
        "EX_acald_e": 0,
        "EX_akg_e": 0,
        "EX_co2_e": -0.16376509659814453,
        "EX_etoh_e": 6.6652716991607335,
        "EX_for_e": 13.935310757927711,
        "EX_fru_e": 0,
        "EX_fum_e": 0,
        "EX_glc__D_e": -10,
        "EX_gln__L_e": 0,
        "EX_glu__L_e": 0,
        "EX_h2o_e": -1.815225701753398,
        "EX_h_e": 24.774670772651554,
        "EX_lac__D_e": 0,
        "EX_mal__L_e": 0,
        "EX_nh4_e": -0.4997919733197377,
        "EX_o2_e": 0,
        "EX_pi_e": -0.3371817657444329,
        "EX_pyr_e": 0,
        "EX_succ_e": 0,
        "FBA": 9.173587185837121,
        "FBP": 0,
        "FORt2": 0,
        "FORti": 13.935310757927711,
        "FRD7": 0,
        "FRUpts2": 0,
        "FUM": 0,
        "FUMt2_2": 0,
        "G6PDH2r": 0,
        "GAPD": 16.815382946101266,
        "GLCpts": 9.99999999999985,
        "GLNS": 0.023436914535258525,
        "GLNabc": 0,
        "GLUDy": -0.4763550587844822,
        "GLUN": 0,
        "GLUSy": 0,
        "GLUt2r": -1.0466628741250758e-14,
        "GND": 0,
        "H2Ot": 1.815225701753398,
        "ICDHyr": 0.06623673156351445,
        "ICL": 0,
        "LDH_D": 0,
        "MALS": 0,
        "MALt2_2": 0,
        "MDH": 0,
        "ME1": 0,
        "ME2": 0,
        "NADH16": 0,
        "NADTRHD": 0,
        "NH4t": 0.49979197331973774,
        "O2t": 0,
        "PDH": 0,
        "PFK": 9.173587185837121,
        "PFL": 13.93531075792771,
        "PGI": 9.98121013891369,
        "PGK": -16.815382946101266,
        "PGL": 0,
        "PGM": -16.67826278910187,
        "PIt2r": 0.3371817657444329,
        "PPC": 0.23000182816166218,
        "PPCK": 0,
        "PPS": 0,
        "PTAr": 6.860287003405108,
        "PYK": 4.194959140780723,
        "PYRt2": 0,
        "RPE": -0.8011244108765446,
        "RPI": -0.8011244108765426,
        "SA3_biomass": 0.09958679209872245,
        "SHIKIMATE_5_DEHYDROGENASE_RXN_c": -2.2057222255751743,
        "SHIKIMATE_KINASE_RXN_c": 0,
        "SK_CHORISMATE_c": 0,
        "SUCCt2_2": 0,
        "SUCCt3": 0,
        "SUCDi": 0,
        "SUCOAS": 0,
        "TALA": 0.7188431508910131,
        "THD2": 3.8099499734996525,
        "TKT1": 0.7188431508910084,
        "TKT2": -1.5199675617675494,
        "TPI": 9.173587185837121,
        "W3110_biomass": 0
       },
       "reaction_no_data_color": "#dcdcdc",
       "reaction_no_data_size": 8,
       "reaction_scale": [
        {
         "color": "rgb(207,207,221)",
         "type": "value",
         "value": 0.16666666666666666
        },
        {
         "color": "rgb(195,195,223)",
         "type": "value",
         "value": 0.33333333333333337
        },
        {
         "color": "rgb(183,183,225)",
         "type": "value",
         "value": 0.5
        },
        {
         "color": "rgb(171,171,227)",
         "type": "value",
         "value": 0.6666666666666666
        },
        {
         "color": "rgb(158,158,229)",
         "type": "value",
         "value": 0.8333333333333334
        },
        {
         "color": "rgb(146,146,231)",
         "type": "value",
         "value": 1.0000000000000002
        },
        {
         "color": "rgb(134,134,233)",
         "type": "value",
         "value": 1.1666666666666667
        },
        {
         "color": "rgb(122,122,235)",
         "type": "value",
         "value": 1.3333333333333335
        },
        {
         "color": "rgb(109,109,237)",
         "type": "value",
         "value": 1.5000000000000002
        },
        {
         "color": "rgb(97,97,239)",
         "type": "value",
         "value": 1.666666666666667
        },
        {
         "color": "rgb(85,85,241)",
         "type": "value",
         "value": 1.8333333333333337
        },
        {
         "color": "rgb(73,73,243)",
         "type": "value",
         "value": 2
        },
        {
         "color": "rgb(61,61,245)",
         "type": "value",
         "value": 2.1666666666666665
        },
        {
         "color": "rgb(48,48,247)",
         "type": "value",
         "value": 2.3333333333333335
        },
        {
         "color": "rgb(36,36,249)",
         "type": "value",
         "value": 2.5
        },
        {
         "color": "rgb(24,24,251)",
         "type": "value",
         "value": 2.666666666666667
        },
        {
         "color": "rgb(12,12,253)",
         "type": "value",
         "value": 2.8333333333333335
        },
        {
         "color": "rgb(0,0,254)",
         "type": "value",
         "value": 3
        },
        {
         "color": "rgb(220,220,220)",
         "type": "value",
         "value": 0
        },
        {
         "color": "rgb(223,200,200)",
         "type": "value",
         "value": -0.2727272727272727
        },
        {
         "color": "rgb(226,180,180)",
         "type": "value",
         "value": -0.5454545454545454
        },
        {
         "color": "rgb(229,160,160)",
         "type": "value",
         "value": -0.8181818181818182
        },
        {
         "color": "rgb(232,140,140)",
         "type": "value",
         "value": -1.090909090909091
        },
        {
         "color": "rgb(235,120,120)",
         "type": "value",
         "value": -1.3636363636363638
        },
        {
         "color": "rgb(239,100,100)",
         "type": "value",
         "value": -1.6363636363636365
        },
        {
         "color": "rgb(242,80,80)",
         "type": "value",
         "value": -1.9090909090909094
        },
        {
         "color": "rgb(245,60,60)",
         "type": "value",
         "value": -2.181818181818182
        },
        {
         "color": "rgb(248,40,40)",
         "type": "value",
         "value": -2.454545454545455
        },
        {
         "color": "rgb(251,20,20)",
         "type": "value",
         "value": -2.7272727272727275
        },
        {
         "color": "rgb(255,0,0)",
         "type": "value",
         "value": -3
        }
       ],
       "reaction_scale_preset": null,
       "reaction_styles": [
        "color",
        "text"
       ],
       "scroll_behavior": "none",
       "secondary_metabolite_radius": 10,
       "semantic_zoom": null,
       "show_gene_reaction_rules": false,
       "starting_reaction": null,
       "use_3d_transform": false,
       "zoom_to_element": null
      }
     },
     "9eade03a994d4afc8964e3ffe5430fb1": {
      "model_module": "escher",
      "model_module_version": "1.7.3",
      "model_name": "EscherMapModel",
      "state": {
       "_loaded_map_json": "[{\"map_name\": \"\", \"map_id\": \"\", \"map_description\": \"\", \"homepage\": \"\", \"schema\": \"https://escher.github.io/escher/jsonschema/1-0-0#\"}, {\"reactions\": {\"0\": {\"name\": \"3_DEHYDROQUINATE_DEHYDRATASE_RXN_c\", \"bigg_id\": \"3_DEHYDROQUINATE_DEHYDRATASE_RXN_c\", \"reversibility\": true, \"label_x\": 19.0, \"label_y\": 45.0, \"gene_reaction_rule\": \"\", \"genes\": [], \"segments\": {\"0\": {\"from_node_id\": \"3\", \"to_node_id\": \"4\", \"b1\": null, \"b2\": null}, \"1\": {\"from_node_id\": \"5\", \"to_node_id\": \"4\", \"b1\": null, \"b2\": null}, \"2\": {\"from_node_id\": \"0\", \"to_node_id\": \"3\", \"b1\": null, \"b2\": null}, \"3\": {\"from_node_id\": \"1\", \"to_node_id\": \"5\", \"b1\": null, \"b2\": null}, \"4\": {\"from_node_id\": \"2\", \"to_node_id\": \"5\", \"b1\": null, \"b2\": null}}, \"metabolites\": [{\"bigg_id\": \"DEHYDROQUINATE_c\", \"coefficient\": -1.0}, {\"bigg_id\": \"3_DEHYDRO_SHIKIMATE_c\", \"coefficient\": 1.0}, {\"bigg_id\": \"h2o_c\", \"coefficient\": 1.0}]}, \"1\": {\"name\": \"SHIKIMATE_5_DEHYDROGENASE_RXN_c\", \"bigg_id\": \"SHIKIMATE_5_DEHYDROGENASE_RXN_c\", \"reversibility\": true, \"label_x\": 696.0, \"label_y\": 45.0, \"gene_reaction_rule\": \"\", \"genes\": [], \"segments\": {\"5\": {\"from_node_id\": \"11\", \"to_node_id\": \"12\", \"b1\": null, \"b2\": null}, \"6\": {\"from_node_id\": \"13\", \"to_node_id\": \"12\", \"b1\": null, \"b2\": null}, \"7\": {\"from_node_id\": \"6\", \"to_node_id\": \"11\", \"b1\": null, \"b2\": null}, \"8\": {\"from_node_id\": \"7\", \"to_node_id\": \"11\", \"b1\": null, \"b2\": null}, \"9\": {\"from_node_id\": \"8\", \"to_node_id\": \"13\", \"b1\": null, \"b2\": null}, \"10\": {\"from_node_id\": \"9\", \"to_node_id\": \"13\", \"b1\": null, \"b2\": null}, \"11\": {\"from_node_id\": \"10\", \"to_node_id\": \"13\", \"b1\": null, \"b2\": null}}, \"metabolites\": [{\"bigg_id\": \"SHIKIMATE_c\", \"coefficient\": -1.0}, {\"bigg_id\": \"nadp_c\", \"coefficient\": -1.0}, {\"bigg_id\": \"3_DEHYDRO_SHIKIMATE_c\", \"coefficient\": 1.0}, {\"bigg_id\": \"h_c\", \"coefficient\": 1.0}, {\"bigg_id\": \"nadph_c\", \"coefficient\": 1.0}]}, \"2\": {\"name\": \"SHIKIMATE_KINASE_RXN_c\", \"bigg_id\": \"SHIKIMATE_KINASE_RXN_c\", \"reversibility\": true, \"label_x\": 1427.0, \"label_y\": 45.0, \"gene_reaction_rule\": \"\", \"genes\": [], \"segments\": {\"12\": {\"from_node_id\": \"19\", \"to_node_id\": \"20\", \"b1\": null, \"b2\": null}, \"13\": {\"from_node_id\": \"21\", \"to_node_id\": \"20\", \"b1\": null, \"b2\": null}, \"14\": {\"from_node_id\": \"14\", \"to_node_id\": \"19\", \"b1\": null, \"b2\": null}, \"15\": {\"from_node_id\": \"15\", \"to_node_id\": \"19\", \"b1\": null, \"b2\": null}, \"16\": {\"from_node_id\": \"16\", \"to_node_id\": \"21\", \"b1\": null, \"b2\": null}, \"17\": {\"from_node_id\": \"17\", \"to_node_id\": \"21\", \"b1\": null, \"b2\": null}, \"18\": {\"from_node_id\": \"18\", \"to_node_id\": \"21\", \"b1\": null, \"b2\": null}}, \"metabolites\": [{\"bigg_id\": \"SHIKIMATE_c\", \"coefficient\": -1.0}, {\"bigg_id\": \"atp_c\", \"coefficient\": -1.0}, {\"bigg_id\": \"SHIKIMATE_5P_c\", \"coefficient\": 1.0}, {\"bigg_id\": \"adp_c\", \"coefficient\": 1.0}, {\"bigg_id\": \"h_c\", \"coefficient\": 1.0}]}, \"3\": {\"name\": \"2.5.1.19_RXN_c\", \"bigg_id\": \"2.5.1.19_RXN_c\", \"reversibility\": true, \"label_x\": 2149.0, \"label_y\": 45.0, \"gene_reaction_rule\": \"\", \"genes\": [], \"segments\": {\"19\": {\"from_node_id\": \"25\", \"to_node_id\": \"26\", \"b1\": null, \"b2\": null}, \"20\": {\"from_node_id\": \"27\", \"to_node_id\": \"26\", \"b1\": null, \"b2\": null}, \"21\": {\"from_node_id\": \"16\", \"to_node_id\": \"25\", \"b1\": null, \"b2\": null}, \"22\": {\"from_node_id\": \"22\", \"to_node_id\": \"25\", \"b1\": null, \"b2\": null}, \"23\": {\"from_node_id\": \"23\", \"to_node_id\": \"27\", \"b1\": null, \"b2\": null}, \"24\": {\"from_node_id\": \"24\", \"to_node_id\": \"27\", \"b1\": null, \"b2\": null}}, \"metabolites\": [{\"bigg_id\": \"SHIKIMATE_5P_c\", \"coefficient\": -1.0}, {\"bigg_id\": \"pep_c\", \"coefficient\": -1.0}, {\"bigg_id\": \"3_ENOLPYRUVYL_SHIKIMATE_5P_c\", \"coefficient\": 1.0}, {\"bigg_id\": \"pi_c\", \"coefficient\": 1.0}]}, \"4\": {\"name\": \"CHORISMATE_SYNTHASE_RXN_c\", \"bigg_id\": \"CHORISMATE_SYNTHASE_RXN_c\", \"reversibility\": true, \"label_x\": 2700.0, \"label_y\": 45.0, \"gene_reaction_rule\": \"\", \"genes\": [], \"segments\": {\"25\": {\"from_node_id\": \"30\", \"to_node_id\": \"31\", \"b1\": null, \"b2\": null}, \"26\": {\"from_node_id\": \"32\", \"to_node_id\": \"31\", \"b1\": null, \"b2\": null}, \"27\": {\"from_node_id\": \"23\", \"to_node_id\": \"30\", \"b1\": null, \"b2\": null}, \"28\": {\"from_node_id\": \"28\", \"to_node_id\": \"32\", \"b1\": null, \"b2\": null}, \"29\": {\"from_node_id\": \"29\", \"to_node_id\": \"32\", \"b1\": null, \"b2\": null}}, \"metabolites\": [{\"bigg_id\": \"3_ENOLPYRUVYL_SHIKIMATE_5P_c\", \"coefficient\": -1.0}, {\"bigg_id\": \"CHORISMATE_c\", \"coefficient\": 1.0}, {\"bigg_id\": \"pi_c\", \"coefficient\": 1.0}]}, \"5\": {\"name\": \"DAHPSYN_RXN_c\", \"bigg_id\": \"DAHPSYN_RXN_c\", \"reversibility\": true, \"label_x\": 208.0, \"label_y\": 495.0, \"gene_reaction_rule\": \"\", \"genes\": [], \"segments\": {\"30\": {\"from_node_id\": \"37\", \"to_node_id\": \"38\", \"b1\": null, \"b2\": null}, \"31\": {\"from_node_id\": \"39\", \"to_node_id\": \"38\", \"b1\": null, \"b2\": null}, \"32\": {\"from_node_id\": \"33\", \"to_node_id\": \"37\", \"b1\": null, \"b2\": null}, \"33\": {\"from_node_id\": \"2\", \"to_node_id\": \"37\", \"b1\": null, \"b2\": null}, \"34\": {\"from_node_id\": \"34\", \"to_node_id\": \"37\", \"b1\": null, \"b2\": null}, \"35\": {\"from_node_id\": \"35\", \"to_node_id\": \"39\", \"b1\": null, \"b2\": null}, \"36\": {\"from_node_id\": \"36\", \"to_node_id\": \"39\", \"b1\": null, \"b2\": null}}, \"metabolites\": [{\"bigg_id\": \"e4p_c\", \"coefficient\": -1.0}, {\"bigg_id\": \"h2o_c\", \"coefficient\": -1.0}, {\"bigg_id\": \"pep_c\", \"coefficient\": -1.0}, {\"bigg_id\": \"3_DEOXY_D_ARABINO_HEPTULOSONATE_7_P_c\", \"coefficient\": 1.0}, {\"bigg_id\": \"pi_c\", \"coefficient\": 1.0}]}, \"6\": {\"name\": \"3_DEHYDROQUINATE_SYNTHASE_RXN_c\", \"bigg_id\": \"3_DEHYDROQUINATE_SYNTHASE_RXN_c\", \"reversibility\": true, \"label_x\": 696.0, \"label_y\": 495.0, \"gene_reaction_rule\": \"\", \"genes\": [], \"segments\": {\"37\": {\"from_node_id\": \"42\", \"to_node_id\": \"43\", \"b1\": null, \"b2\": null}, \"38\": {\"from_node_id\": \"44\", \"to_node_id\": \"43\", \"b1\": null, \"b2\": null}, \"39\": {\"from_node_id\": \"35\", \"to_node_id\": \"42\", \"b1\": null, \"b2\": null}, \"40\": {\"from_node_id\": \"40\", \"to_node_id\": \"44\", \"b1\": null, \"b2\": null}, \"41\": {\"from_node_id\": \"41\", \"to_node_id\": \"44\", \"b1\": null, \"b2\": null}}, \"metabolites\": [{\"bigg_id\": \"3_DEOXY_D_ARABINO_HEPTULOSONATE_7_P_c\", \"coefficient\": -1.0}, {\"bigg_id\": \"DEHYDROQUINATE_c\", \"coefficient\": 1.0}, {\"bigg_id\": \"pi_c\", \"coefficient\": 1.0}]}}, \"nodes\": {\"0\": {\"node_type\": \"metabolite\", \"x\": 30.0, \"y\": 225.0, \"label_x\": 0.0, \"label_y\": 205.0, \"bigg_id\": \"DEHYDROQUINATE_c\", \"name\": \"DEHYDROQUINATE_c\", \"node_is_primary\": false}, \"1\": {\"node_type\": \"metabolite\", \"x\": 550.0, \"y\": 150.0, \"label_x\": 520.0, \"label_y\": 130.0, \"bigg_id\": \"3_DEHYDRO_SHIKIMATE_c\", \"name\": \"3_DEHYDRO_SHIKIMATE_c\", \"node_is_primary\": false}, \"2\": {\"node_type\": \"metabolite\", \"x\": 550.0, \"y\": 300.0, \"label_x\": 520.0, \"label_y\": 280.0, \"bigg_id\": \"h2o_c\", \"name\": \"h2o_c\", \"node_is_primary\": false}, \"3\": {\"node_type\": \"multimarker\", \"x\": 335.0, \"y\": 225.0}, \"4\": {\"node_type\": \"midmarker\", \"x\": 355.0, \"y\": 225.0}, \"5\": {\"node_type\": \"multimarker\", \"x\": 375.0, \"y\": 225.0}, \"6\": {\"node_type\": \"metabolite\", \"x\": 680.0, \"y\": 150.0, \"label_x\": 650.0, \"label_y\": 130.0, \"bigg_id\": \"SHIKIMATE_c\", \"name\": \"SHIKIMATE_c\", \"node_is_primary\": false}, \"7\": {\"node_type\": \"metabolite\", \"x\": 680.0, \"y\": 300.0, \"label_x\": 650.0, \"label_y\": 280.0, \"bigg_id\": \"nadp_c\", \"name\": \"nadp_c\", \"node_is_primary\": false}, \"8\": {\"node_type\": \"metabolite\", \"x\": 1200.0, \"y\": 112.5, \"label_x\": 1170.0, \"label_y\": 92.5, \"bigg_id\": \"3_DEHYDRO_SHIKIMATE_c\", \"name\": \"3_DEHYDRO_SHIKIMATE_c\", \"node_is_primary\": false}, \"9\": {\"node_type\": \"metabolite\", \"x\": 1200.0, \"y\": 225.0, \"label_x\": 1170.0, \"label_y\": 205.0, \"bigg_id\": \"h_c\", \"name\": \"h_c\", \"node_is_primary\": false}, \"10\": {\"node_type\": \"metabolite\", \"x\": 1200.0, \"y\": 337.5, \"label_x\": 1170.0, \"label_y\": 317.5, \"bigg_id\": \"nadph_c\", \"name\": \"nadph_c\", \"node_is_primary\": false}, \"11\": {\"node_type\": \"multimarker\", \"x\": 985.0, \"y\": 225.0}, \"12\": {\"node_type\": \"midmarker\", \"x\": 1005.0, \"y\": 225.0}, \"13\": {\"node_type\": \"multimarker\", \"x\": 1025.0, \"y\": 225.0}, \"14\": {\"node_type\": \"metabolite\", \"x\": 1330.0, \"y\": 150.0, \"label_x\": 1300.0, \"label_y\": 130.0, \"bigg_id\": \"SHIKIMATE_c\", \"name\": \"SHIKIMATE_c\", \"node_is_primary\": false}, \"15\": {\"node_type\": \"metabolite\", \"x\": 1330.0, \"y\": 300.0, \"label_x\": 1300.0, \"label_y\": 280.0, \"bigg_id\": \"atp_c\", \"name\": \"atp_c\", \"node_is_primary\": false}, \"16\": {\"node_type\": \"metabolite\", \"x\": 1850.0, \"y\": 112.5, \"label_x\": 1820.0, \"label_y\": 92.5, \"bigg_id\": \"SHIKIMATE_5P_c\", \"name\": \"SHIKIMATE_5P_c\", \"node_is_primary\": false}, \"17\": {\"node_type\": \"metabolite\", \"x\": 1850.0, \"y\": 225.0, \"label_x\": 1820.0, \"label_y\": 205.0, \"bigg_id\": \"adp_c\", \"name\": \"adp_c\", \"node_is_primary\": false}, \"18\": {\"node_type\": \"metabolite\", \"x\": 1850.0, \"y\": 337.5, \"label_x\": 1820.0, \"label_y\": 317.5, \"bigg_id\": \"h_c\", \"name\": \"h_c\", \"node_is_primary\": false}, \"19\": {\"node_type\": \"multimarker\", \"x\": 1635.0, \"y\": 225.0}, \"20\": {\"node_type\": \"midmarker\", \"x\": 1655.0, \"y\": 225.0}, \"21\": {\"node_type\": \"multimarker\", \"x\": 1675.0, \"y\": 225.0}, \"22\": {\"node_type\": \"metabolite\", \"x\": 1980.0, \"y\": 300.0, \"label_x\": 1950.0, \"label_y\": 280.0, \"bigg_id\": \"pep_c\", \"name\": \"pep_c\", \"node_is_primary\": false}, \"23\": {\"node_type\": \"metabolite\", \"x\": 2500.0, \"y\": 150.0, \"label_x\": 2470.0, \"label_y\": 130.0, \"bigg_id\": \"3_ENOLPYRUVYL_SHIKIMATE_5P_c\", \"name\": \"3_ENOLPYRUVYL_SHIKIMATE_5P_c\", \"node_is_primary\": false}, \"24\": {\"node_type\": \"metabolite\", \"x\": 2500.0, \"y\": 300.0, \"label_x\": 2470.0, \"label_y\": 280.0, \"bigg_id\": \"pi_c\", \"name\": \"pi_c\", \"node_is_primary\": false}, \"25\": {\"node_type\": \"multimarker\", \"x\": 2285.0, \"y\": 225.0}, \"26\": {\"node_type\": \"midmarker\", \"x\": 2305.0, \"y\": 225.0}, \"27\": {\"node_type\": \"multimarker\", \"x\": 2325.0, \"y\": 225.0}, \"28\": {\"node_type\": \"metabolite\", \"x\": 3150.0, \"y\": 150.0, \"label_x\": 3120.0, \"label_y\": 130.0, \"bigg_id\": \"CHORISMATE_c\", \"name\": \"CHORISMATE_c\", \"node_is_primary\": false}, \"29\": {\"node_type\": \"metabolite\", \"x\": 3150.0, \"y\": 300.0, \"label_x\": 3120.0, \"label_y\": 280.0, \"bigg_id\": \"pi_c\", \"name\": \"pi_c\", \"node_is_primary\": false}, \"30\": {\"node_type\": \"multimarker\", \"x\": 2935.0, \"y\": 225.0}, \"31\": {\"node_type\": \"midmarker\", \"x\": 2955.0, \"y\": 225.0}, \"32\": {\"node_type\": \"multimarker\", \"x\": 2975.0, \"y\": 225.0}, \"33\": {\"node_type\": \"metabolite\", \"x\": 30.0, \"y\": 562.5, \"label_x\": 0.0, \"label_y\": 542.5, \"bigg_id\": \"e4p_c\", \"name\": \"e4p_c\", \"node_is_primary\": false}, \"34\": {\"node_type\": \"metabolite\", \"x\": 30.0, \"y\": 787.5, \"label_x\": 0.0, \"label_y\": 767.5, \"bigg_id\": \"pep_c\", \"name\": \"pep_c\", \"node_is_primary\": false}, \"35\": {\"node_type\": \"metabolite\", \"x\": 550.0, \"y\": 600.0, \"label_x\": 520.0, \"label_y\": 580.0, \"bigg_id\": \"3_DEOXY_D_ARABINO_HEPTULOSONATE_7_P_c\", \"name\": \"3_DEOXY_D_ARABINO_HEPTULOSONATE_7_P_c\", \"node_is_primary\": false}, \"36\": {\"node_type\": \"metabolite\", \"x\": 550.0, \"y\": 750.0, \"label_x\": 520.0, \"label_y\": 730.0, \"bigg_id\": \"pi_c\", \"name\": \"pi_c\", \"node_is_primary\": false}, \"37\": {\"node_type\": \"multimarker\", \"x\": 335.0, \"y\": 675.0}, \"38\": {\"node_type\": \"midmarker\", \"x\": 355.0, \"y\": 675.0}, \"39\": {\"node_type\": \"multimarker\", \"x\": 375.0, \"y\": 675.0}, \"40\": {\"node_type\": \"metabolite\", \"x\": 1200.0, \"y\": 600.0, \"label_x\": 1170.0, \"label_y\": 580.0, \"bigg_id\": \"DEHYDROQUINATE_c\", \"name\": \"DEHYDROQUINATE_c\", \"node_is_primary\": false}, \"41\": {\"node_type\": \"metabolite\", \"x\": 1200.0, \"y\": 750.0, \"label_x\": 1170.0, \"label_y\": 730.0, \"bigg_id\": \"pi_c\", \"name\": \"pi_c\", \"node_is_primary\": false}, \"42\": {\"node_type\": \"multimarker\", \"x\": 985.0, \"y\": 675.0}, \"43\": {\"node_type\": \"midmarker\", \"x\": 1005.0, \"y\": 675.0}, \"44\": {\"node_type\": \"multimarker\", \"x\": 1025.0, \"y\": 675.0}}, \"text_labels\": {}, \"canvas\": {\"x\": 0, \"y\": 0, \"width\": 3250, \"height\": 900}}]",
       "_loaded_model_json": null,
       "allow_building_duplicate_reactions": false,
       "and_method_in_gene_reaction_rule": "mean",
       "canvas_size_and_loc": null,
       "cofactors": [
        "atp",
        "adp",
        "nad",
        "nadh",
        "nadp",
        "nadph",
        "gtp",
        "gdp",
        "h",
        "coa",
        "ump",
        "h2o",
        "ppi"
       ],
       "disabled_buttons": [
        "Clear reaction data",
        "Clear gene data",
        "Clear metabolite data"
       ],
       "embedded_css": null,
       "enable_editing": true,
       "enable_keys": false,
       "enable_keys_with_tooltip": true,
       "enable_search": true,
       "enable_tooltips": false,
       "full_screen_button": {
        "enable_editing": true,
        "enable_keys": true,
        "enable_tooltips": [
         "label"
        ],
        "menu": "all",
        "scroll_behavior": "pan"
       },
       "gene_data": null,
       "gene_font_size": 18,
       "height": 500,
       "hide_all_labels": false,
       "hide_secondary_metabolites": false,
       "highlight_missing": false,
       "identifiers_on_map": "bigg_id",
       "layout": "IPY_MODEL_adf63a9b4e4e495891bf7860a0f8f946",
       "marker_radius": 5,
       "menu": "all",
       "metabolite_compare_style": "log2_fold",
       "metabolite_data": null,
       "metabolite_no_data_color": "#ffffff",
       "metabolite_no_data_size": 10,
       "metabolite_scale": [
        {
         "color": "#fffaf0",
         "size": 20,
         "type": "min"
        },
        {
         "color": "#f1c470",
         "size": 30,
         "type": "median"
        },
        {
         "color": "#800000",
         "size": 40,
         "type": "max"
        }
       ],
       "metabolite_scale_preset": "WhYlRd",
       "metabolite_styles": [
        "color",
        "size",
        "text"
       ],
       "never_ask_before_quit": true,
       "primary_metabolite_radius": 20,
       "reaction_compare_style": "log2_fold",
       "reaction_data": null,
       "reaction_no_data_color": "#dcdcdc",
       "reaction_no_data_size": 8,
       "reaction_scale": {},
       "reaction_scale_preset": null,
       "reaction_styles": [
        "color",
        "text"
       ],
       "scroll_behavior": "none",
       "secondary_metabolite_radius": 10,
       "semantic_zoom": null,
       "show_gene_reaction_rules": false,
       "starting_reaction": null,
       "use_3d_transform": false,
       "zoom_to_element": null
      }
     },
     "abdad179e142474ca696742dfae2cb79": {
      "model_module": "escher",
      "model_module_version": "1.7.3",
      "model_name": "EscherMapModel",
      "state": {
       "_loaded_map_json": "[{\"map_name\": \"\", \"map_id\": \"\", \"map_description\": \"\", \"homepage\": \"\", \"schema\": \"https://escher.github.io/escher/jsonschema/1-0-0#\"}, {\"reactions\": {\"0\": {\"name\": \"DAHPSYN_RXN_c\", \"bigg_id\": \"DAHPSYN_RXN_c\", \"reversibility\": true, \"label_x\": 208.0, \"label_y\": 45.0, \"gene_reaction_rule\": \"\", \"genes\": [], \"segments\": {\"0\": {\"from_node_id\": \"5\", \"to_node_id\": \"6\", \"b1\": null, \"b2\": null}, \"1\": {\"from_node_id\": \"7\", \"to_node_id\": \"6\", \"b1\": null, \"b2\": null}, \"2\": {\"from_node_id\": \"0\", \"to_node_id\": \"5\", \"b1\": null, \"b2\": null}, \"3\": {\"from_node_id\": \"1\", \"to_node_id\": \"5\", \"b1\": null, \"b2\": null}, \"4\": {\"from_node_id\": \"2\", \"to_node_id\": \"5\", \"b1\": null, \"b2\": null}, \"5\": {\"from_node_id\": \"3\", \"to_node_id\": \"7\", \"b1\": null, \"b2\": null}, \"6\": {\"from_node_id\": \"4\", \"to_node_id\": \"7\", \"b1\": null, \"b2\": null}}, \"metabolites\": [{\"bigg_id\": \"e4p_c\", \"coefficient\": -1.0}, {\"bigg_id\": \"h2o_c\", \"coefficient\": -1.0}, {\"bigg_id\": \"pep_c\", \"coefficient\": -1.0}, {\"bigg_id\": \"3_DEOXY_D_ARABINO_HEPTULOSONATE_7_P_c\", \"coefficient\": 1.0}, {\"bigg_id\": \"pi_c\", \"coefficient\": 1.0}]}, \"1\": {\"name\": \"3_DEHYDROQUINATE_SYNTHASE_RXN_c\", \"bigg_id\": \"3_DEHYDROQUINATE_SYNTHASE_RXN_c\", \"reversibility\": true, \"label_x\": 696.0, \"label_y\": 45.0, \"gene_reaction_rule\": \"\", \"genes\": [], \"segments\": {\"7\": {\"from_node_id\": \"10\", \"to_node_id\": \"11\", \"b1\": null, \"b2\": null}, \"8\": {\"from_node_id\": \"12\", \"to_node_id\": \"11\", \"b1\": null, \"b2\": null}, \"9\": {\"from_node_id\": \"3\", \"to_node_id\": \"10\", \"b1\": null, \"b2\": null}, \"10\": {\"from_node_id\": \"8\", \"to_node_id\": \"12\", \"b1\": null, \"b2\": null}, \"11\": {\"from_node_id\": \"9\", \"to_node_id\": \"12\", \"b1\": null, \"b2\": null}}, \"metabolites\": [{\"bigg_id\": \"3_DEOXY_D_ARABINO_HEPTULOSONATE_7_P_c\", \"coefficient\": -1.0}, {\"bigg_id\": \"DEHYDROQUINATE_c\", \"coefficient\": 1.0}, {\"bigg_id\": \"pi_c\", \"coefficient\": 1.0}]}, \"2\": {\"name\": \"3_DEHYDROQUINATE_DEHYDRATASE_RXN_c\", \"bigg_id\": \"3_DEHYDROQUINATE_DEHYDRATASE_RXN_c\", \"reversibility\": true, \"label_x\": 1319.0, \"label_y\": 45.0, \"gene_reaction_rule\": \"\", \"genes\": [], \"segments\": {\"12\": {\"from_node_id\": \"15\", \"to_node_id\": \"16\", \"b1\": null, \"b2\": null}, \"13\": {\"from_node_id\": \"17\", \"to_node_id\": \"16\", \"b1\": null, \"b2\": null}, \"14\": {\"from_node_id\": \"8\", \"to_node_id\": \"15\", \"b1\": null, \"b2\": null}, \"15\": {\"from_node_id\": \"13\", \"to_node_id\": \"17\", \"b1\": null, \"b2\": null}, \"16\": {\"from_node_id\": \"14\", \"to_node_id\": \"17\", \"b1\": null, \"b2\": null}}, \"metabolites\": [{\"bigg_id\": \"DEHYDROQUINATE_c\", \"coefficient\": -1.0}, {\"bigg_id\": \"3_DEHYDRO_SHIKIMATE_c\", \"coefficient\": 1.0}, {\"bigg_id\": \"h2o_c\", \"coefficient\": 1.0}]}, \"3\": {\"name\": \"SHIKIMATE_5_DEHYDROGENASE_RXN_c\", \"bigg_id\": \"SHIKIMATE_5_DEHYDROGENASE_RXN_c\", \"reversibility\": true, \"label_x\": 1996.0, \"label_y\": 45.0, \"gene_reaction_rule\": \"\", \"genes\": [], \"segments\": {\"17\": {\"from_node_id\": \"23\", \"to_node_id\": \"24\", \"b1\": null, \"b2\": null}, \"18\": {\"from_node_id\": \"25\", \"to_node_id\": \"24\", \"b1\": null, \"b2\": null}, \"19\": {\"from_node_id\": \"18\", \"to_node_id\": \"23\", \"b1\": null, \"b2\": null}, \"20\": {\"from_node_id\": \"19\", \"to_node_id\": \"23\", \"b1\": null, \"b2\": null}, \"21\": {\"from_node_id\": \"20\", \"to_node_id\": \"25\", \"b1\": null, \"b2\": null}, \"22\": {\"from_node_id\": \"21\", \"to_node_id\": \"25\", \"b1\": null, \"b2\": null}, \"23\": {\"from_node_id\": \"22\", \"to_node_id\": \"25\", \"b1\": null, \"b2\": null}}, \"metabolites\": [{\"bigg_id\": \"SHIKIMATE_c\", \"coefficient\": -1.0}, {\"bigg_id\": \"nadp_c\", \"coefficient\": -1.0}, {\"bigg_id\": \"3_DEHYDRO_SHIKIMATE_c\", \"coefficient\": 1.0}, {\"bigg_id\": \"h_c\", \"coefficient\": 1.0}, {\"bigg_id\": \"nadph_c\", \"coefficient\": 1.0}]}, \"4\": {\"name\": \"SHIKIMATE_KINASE_RXN_c\", \"bigg_id\": \"SHIKIMATE_KINASE_RXN_c\", \"reversibility\": true, \"label_x\": 2727.0, \"label_y\": 45.0, \"gene_reaction_rule\": \"\", \"genes\": [], \"segments\": {\"24\": {\"from_node_id\": \"31\", \"to_node_id\": \"32\", \"b1\": null, \"b2\": null}, \"25\": {\"from_node_id\": \"33\", \"to_node_id\": \"32\", \"b1\": null, \"b2\": null}, \"26\": {\"from_node_id\": \"26\", \"to_node_id\": \"31\", \"b1\": null, \"b2\": null}, \"27\": {\"from_node_id\": \"27\", \"to_node_id\": \"31\", \"b1\": null, \"b2\": null}, \"28\": {\"from_node_id\": \"28\", \"to_node_id\": \"33\", \"b1\": null, \"b2\": null}, \"29\": {\"from_node_id\": \"29\", \"to_node_id\": \"33\", \"b1\": null, \"b2\": null}, \"30\": {\"from_node_id\": \"30\", \"to_node_id\": \"33\", \"b1\": null, \"b2\": null}}, \"metabolites\": [{\"bigg_id\": \"SHIKIMATE_c\", \"coefficient\": -1.0}, {\"bigg_id\": \"atp_c\", \"coefficient\": -1.0}, {\"bigg_id\": \"SHIKIMATE_5P_c\", \"coefficient\": 1.0}, {\"bigg_id\": \"adp_c\", \"coefficient\": 1.0}, {\"bigg_id\": \"h_c\", \"coefficient\": 1.0}]}, \"5\": {\"name\": \"2.5.1.19_RXN_c\", \"bigg_id\": \"2.5.1.19_RXN_c\", \"reversibility\": true, \"label_x\": 3449.0, \"label_y\": 45.0, \"gene_reaction_rule\": \"\", \"genes\": [], \"segments\": {\"31\": {\"from_node_id\": \"37\", \"to_node_id\": \"38\", \"b1\": null, \"b2\": null}, \"32\": {\"from_node_id\": \"39\", \"to_node_id\": \"38\", \"b1\": null, \"b2\": null}, \"33\": {\"from_node_id\": \"28\", \"to_node_id\": \"37\", \"b1\": null, \"b2\": null}, \"34\": {\"from_node_id\": \"34\", \"to_node_id\": \"37\", \"b1\": null, \"b2\": null}, \"35\": {\"from_node_id\": \"35\", \"to_node_id\": \"39\", \"b1\": null, \"b2\": null}, \"36\": {\"from_node_id\": \"36\", \"to_node_id\": \"39\", \"b1\": null, \"b2\": null}}, \"metabolites\": [{\"bigg_id\": \"SHIKIMATE_5P_c\", \"coefficient\": -1.0}, {\"bigg_id\": \"pep_c\", \"coefficient\": -1.0}, {\"bigg_id\": \"3_ENOLPYRUVYL_SHIKIMATE_5P_c\", \"coefficient\": 1.0}, {\"bigg_id\": \"pi_c\", \"coefficient\": 1.0}]}, \"6\": {\"name\": \"CHORISMATE_SYNTHASE_RXN_c\", \"bigg_id\": \"CHORISMATE_SYNTHASE_RXN_c\", \"reversibility\": true, \"label_x\": 4000.0, \"label_y\": 45.0, \"gene_reaction_rule\": \"\", \"genes\": [], \"segments\": {\"37\": {\"from_node_id\": \"42\", \"to_node_id\": \"43\", \"b1\": null, \"b2\": null}, \"38\": {\"from_node_id\": \"44\", \"to_node_id\": \"43\", \"b1\": null, \"b2\": null}, \"39\": {\"from_node_id\": \"35\", \"to_node_id\": \"42\", \"b1\": null, \"b2\": null}, \"40\": {\"from_node_id\": \"40\", \"to_node_id\": \"44\", \"b1\": null, \"b2\": null}, \"41\": {\"from_node_id\": \"41\", \"to_node_id\": \"44\", \"b1\": null, \"b2\": null}}, \"metabolites\": [{\"bigg_id\": \"3_ENOLPYRUVYL_SHIKIMATE_5P_c\", \"coefficient\": -1.0}, {\"bigg_id\": \"CHORISMATE_c\", \"coefficient\": 1.0}, {\"bigg_id\": \"pi_c\", \"coefficient\": 1.0}]}}, \"nodes\": {\"0\": {\"node_type\": \"metabolite\", \"x\": 30.0, \"y\": 112.5, \"label_x\": 0.0, \"label_y\": 92.5, \"bigg_id\": \"e4p_c\", \"name\": \"e4p_c\", \"node_is_primary\": false}, \"1\": {\"node_type\": \"metabolite\", \"x\": 30.0, \"y\": 225.0, \"label_x\": 0.0, \"label_y\": 205.0, \"bigg_id\": \"h2o_c\", \"name\": \"h2o_c\", \"node_is_primary\": false}, \"2\": {\"node_type\": \"metabolite\", \"x\": 30.0, \"y\": 337.5, \"label_x\": 0.0, \"label_y\": 317.5, \"bigg_id\": \"pep_c\", \"name\": \"pep_c\", \"node_is_primary\": false}, \"3\": {\"node_type\": \"metabolite\", \"x\": 550.0, \"y\": 150.0, \"label_x\": 520.0, \"label_y\": 130.0, \"bigg_id\": \"3_DEOXY_D_ARABINO_HEPTULOSONATE_7_P_c\", \"name\": \"3_DEOXY_D_ARABINO_HEPTULOSONATE_7_P_c\", \"node_is_primary\": false}, \"4\": {\"node_type\": \"metabolite\", \"x\": 550.0, \"y\": 300.0, \"label_x\": 520.0, \"label_y\": 280.0, \"bigg_id\": \"pi_c\", \"name\": \"pi_c\", \"node_is_primary\": false}, \"5\": {\"node_type\": \"multimarker\", \"x\": 335.0, \"y\": 225.0}, \"6\": {\"node_type\": \"midmarker\", \"x\": 355.0, \"y\": 225.0}, \"7\": {\"node_type\": \"multimarker\", \"x\": 375.0, \"y\": 225.0}, \"8\": {\"node_type\": \"metabolite\", \"x\": 1200.0, \"y\": 150.0, \"label_x\": 1170.0, \"label_y\": 130.0, \"bigg_id\": \"DEHYDROQUINATE_c\", \"name\": \"DEHYDROQUINATE_c\", \"node_is_primary\": false}, \"9\": {\"node_type\": \"metabolite\", \"x\": 1200.0, \"y\": 300.0, \"label_x\": 1170.0, \"label_y\": 280.0, \"bigg_id\": \"pi_c\", \"name\": \"pi_c\", \"node_is_primary\": false}, \"10\": {\"node_type\": \"multimarker\", \"x\": 985.0, \"y\": 225.0}, \"11\": {\"node_type\": \"midmarker\", \"x\": 1005.0, \"y\": 225.0}, \"12\": {\"node_type\": \"multimarker\", \"x\": 1025.0, \"y\": 225.0}, \"13\": {\"node_type\": \"metabolite\", \"x\": 1850.0, \"y\": 150.0, \"label_x\": 1820.0, \"label_y\": 130.0, \"bigg_id\": \"3_DEHYDRO_SHIKIMATE_c\", \"name\": \"3_DEHYDRO_SHIKIMATE_c\", \"node_is_primary\": false}, \"14\": {\"node_type\": \"metabolite\", \"x\": 1850.0, \"y\": 300.0, \"label_x\": 1820.0, \"label_y\": 280.0, \"bigg_id\": \"h2o_c\", \"name\": \"h2o_c\", \"node_is_primary\": false}, \"15\": {\"node_type\": \"multimarker\", \"x\": 1635.0, \"y\": 225.0}, \"16\": {\"node_type\": \"midmarker\", \"x\": 1655.0, \"y\": 225.0}, \"17\": {\"node_type\": \"multimarker\", \"x\": 1675.0, \"y\": 225.0}, \"18\": {\"node_type\": \"metabolite\", \"x\": 1980.0, \"y\": 150.0, \"label_x\": 1950.0, \"label_y\": 130.0, \"bigg_id\": \"SHIKIMATE_c\", \"name\": \"SHIKIMATE_c\", \"node_is_primary\": false}, \"19\": {\"node_type\": \"metabolite\", \"x\": 1980.0, \"y\": 300.0, \"label_x\": 1950.0, \"label_y\": 280.0, \"bigg_id\": \"nadp_c\", \"name\": \"nadp_c\", \"node_is_primary\": false}, \"20\": {\"node_type\": \"metabolite\", \"x\": 2500.0, \"y\": 112.5, \"label_x\": 2470.0, \"label_y\": 92.5, \"bigg_id\": \"3_DEHYDRO_SHIKIMATE_c\", \"name\": \"3_DEHYDRO_SHIKIMATE_c\", \"node_is_primary\": false}, \"21\": {\"node_type\": \"metabolite\", \"x\": 2500.0, \"y\": 225.0, \"label_x\": 2470.0, \"label_y\": 205.0, \"bigg_id\": \"h_c\", \"name\": \"h_c\", \"node_is_primary\": false}, \"22\": {\"node_type\": \"metabolite\", \"x\": 2500.0, \"y\": 337.5, \"label_x\": 2470.0, \"label_y\": 317.5, \"bigg_id\": \"nadph_c\", \"name\": \"nadph_c\", \"node_is_primary\": false}, \"23\": {\"node_type\": \"multimarker\", \"x\": 2285.0, \"y\": 225.0}, \"24\": {\"node_type\": \"midmarker\", \"x\": 2305.0, \"y\": 225.0}, \"25\": {\"node_type\": \"multimarker\", \"x\": 2325.0, \"y\": 225.0}, \"26\": {\"node_type\": \"metabolite\", \"x\": 2630.0, \"y\": 150.0, \"label_x\": 2600.0, \"label_y\": 130.0, \"bigg_id\": \"SHIKIMATE_c\", \"name\": \"SHIKIMATE_c\", \"node_is_primary\": false}, \"27\": {\"node_type\": \"metabolite\", \"x\": 2630.0, \"y\": 300.0, \"label_x\": 2600.0, \"label_y\": 280.0, \"bigg_id\": \"atp_c\", \"name\": \"atp_c\", \"node_is_primary\": false}, \"28\": {\"node_type\": \"metabolite\", \"x\": 3150.0, \"y\": 112.5, \"label_x\": 3120.0, \"label_y\": 92.5, \"bigg_id\": \"SHIKIMATE_5P_c\", \"name\": \"SHIKIMATE_5P_c\", \"node_is_primary\": false}, \"29\": {\"node_type\": \"metabolite\", \"x\": 3150.0, \"y\": 225.0, \"label_x\": 3120.0, \"label_y\": 205.0, \"bigg_id\": \"adp_c\", \"name\": \"adp_c\", \"node_is_primary\": false}, \"30\": {\"node_type\": \"metabolite\", \"x\": 3150.0, \"y\": 337.5, \"label_x\": 3120.0, \"label_y\": 317.5, \"bigg_id\": \"h_c\", \"name\": \"h_c\", \"node_is_primary\": false}, \"31\": {\"node_type\": \"multimarker\", \"x\": 2935.0, \"y\": 225.0}, \"32\": {\"node_type\": \"midmarker\", \"x\": 2955.0, \"y\": 225.0}, \"33\": {\"node_type\": \"multimarker\", \"x\": 2975.0, \"y\": 225.0}, \"34\": {\"node_type\": \"metabolite\", \"x\": 3280.0, \"y\": 300.0, \"label_x\": 3250.0, \"label_y\": 280.0, \"bigg_id\": \"pep_c\", \"name\": \"pep_c\", \"node_is_primary\": false}, \"35\": {\"node_type\": \"metabolite\", \"x\": 3800.0, \"y\": 150.0, \"label_x\": 3770.0, \"label_y\": 130.0, \"bigg_id\": \"3_ENOLPYRUVYL_SHIKIMATE_5P_c\", \"name\": \"3_ENOLPYRUVYL_SHIKIMATE_5P_c\", \"node_is_primary\": false}, \"36\": {\"node_type\": \"metabolite\", \"x\": 3800.0, \"y\": 300.0, \"label_x\": 3770.0, \"label_y\": 280.0, \"bigg_id\": \"pi_c\", \"name\": \"pi_c\", \"node_is_primary\": false}, \"37\": {\"node_type\": \"multimarker\", \"x\": 3585.0, \"y\": 225.0}, \"38\": {\"node_type\": \"midmarker\", \"x\": 3605.0, \"y\": 225.0}, \"39\": {\"node_type\": \"multimarker\", \"x\": 3625.0, \"y\": 225.0}, \"40\": {\"node_type\": \"metabolite\", \"x\": 4450.0, \"y\": 150.0, \"label_x\": 4420.0, \"label_y\": 130.0, \"bigg_id\": \"CHORISMATE_c\", \"name\": \"CHORISMATE_c\", \"node_is_primary\": false}, \"41\": {\"node_type\": \"metabolite\", \"x\": 4450.0, \"y\": 300.0, \"label_x\": 4420.0, \"label_y\": 280.0, \"bigg_id\": \"pi_c\", \"name\": \"pi_c\", \"node_is_primary\": false}, \"42\": {\"node_type\": \"multimarker\", \"x\": 4235.0, \"y\": 225.0}, \"43\": {\"node_type\": \"midmarker\", \"x\": 4255.0, \"y\": 225.0}, \"44\": {\"node_type\": \"multimarker\", \"x\": 4275.0, \"y\": 225.0}}, \"text_labels\": {}, \"canvas\": {\"x\": 0, \"y\": 0, \"width\": 4550, \"height\": 450}}]",
       "_loaded_model_json": null,
       "allow_building_duplicate_reactions": false,
       "and_method_in_gene_reaction_rule": "mean",
       "canvas_size_and_loc": null,
       "cofactors": [
        "atp",
        "adp",
        "nad",
        "nadh",
        "nadp",
        "nadph",
        "gtp",
        "gdp",
        "h",
        "coa",
        "ump",
        "h2o",
        "ppi"
       ],
       "disabled_buttons": [
        "Clear gene data",
        "Clear metabolite data"
       ],
       "embedded_css": null,
       "enable_editing": true,
       "enable_keys": false,
       "enable_keys_with_tooltip": true,
       "enable_search": true,
       "enable_tooltips": false,
       "full_screen_button": {
        "enable_editing": true,
        "enable_keys": true,
        "enable_tooltips": [
         "label"
        ],
        "menu": "all",
        "scroll_behavior": "pan"
       },
       "gene_data": null,
       "gene_font_size": 18,
       "height": 500,
       "hide_all_labels": false,
       "hide_secondary_metabolites": false,
       "highlight_missing": false,
       "identifiers_on_map": "bigg_id",
       "layout": "IPY_MODEL_474bce1f325f4462b97639df931efb63",
       "marker_radius": 5,
       "menu": "all",
       "metabolite_compare_style": "log2_fold",
       "metabolite_data": null,
       "metabolite_no_data_color": "#ffffff",
       "metabolite_no_data_size": 10,
       "metabolite_scale": [
        {
         "color": "#fffaf0",
         "size": 20,
         "type": "min"
        },
        {
         "color": "#f1c470",
         "size": 30,
         "type": "median"
        },
        {
         "color": "#800000",
         "size": 40,
         "type": "max"
        }
       ],
       "metabolite_scale_preset": "WhYlRd",
       "metabolite_styles": [
        "color",
        "size",
        "text"
       ],
       "never_ask_before_quit": true,
       "primary_metabolite_radius": 20,
       "reaction_compare_style": "log2_fold",
       "reaction_data": {
        "2.5.1.19_RXN_c": 0,
        "3_DEHYDROQUINATE_DEHYDRATASE_RXN_c": 0.022432673328561772,
        "3_DEHYDROQUINATE_SYNTHASE_RXN_c": 0.022432673328562934,
        "ACALD": -8.263038782423768,
        "ACALDt": 1.5948213258617017e-15,
        "ACKr": -8.486872578172065,
        "ACONTa": 0.22671429557222347,
        "ACONTb": 0.2267142955722235,
        "ACt2r": -8.486872578172065,
        "ADK1": 0,
        "AKGDH": 0,
        "AKGt2r": 0,
        "ALCD2x": -8.26303878242377,
        "ATPM": 8.39,
        "ATPS4r": -5.445436808740587,
        "Biomass_Ecoli_core": 0,
        "CHORISMATE_SYNTHASE_RXN_c": 0,
        "CO2t": 0.3759975646149865,
        "CS": 0.22671429557222347,
        "CYTBD": 0,
        "DAHPSYN_RXN_c": 0.022432673328562934,
        "D_LACt2": 0,
        "ENO": 19.0958486077154,
        "ETOHt2r": -8.26303878242377,
        "EX_ac_e": 8.486872578172065,
        "EX_acald_e": 0,
        "EX_akg_e": 0,
        "EX_co2_e": -0.3759975646149865,
        "EX_etoh_e": 8.26303878242377,
        "EX_for_e": 17.765321952504344,
        "EX_fru_e": 0,
        "EX_fum_e": 0,
        "EX_glc__D_e": -10,
        "EX_gln__L_e": 0,
        "EX_glu__L_e": 0,
        "EX_h2o_e": -7.061888032590192,
        "EX_h_e": 30.49543901631155,
        "EX_lac__D_e": 0,
        "EX_mal__L_e": 0,
        "EX_nh4_e": -1.1475007109937851,
        "EX_o2_e": 0,
        "EX_pi_e": -0.774154721525229,
        "EX_pyr_e": 0,
        "EX_succ_e": 0,
        "FBA": 9.783195315385212,
        "FBP": 0,
        "FORt2": 0,
        "FORti": 17.765321952504344,
        "FRD7": 0,
        "FRUpts2": 0,
        "FUM": 0,
        "FUMt2_2": 0,
        "G6PDH2r": 0,
        "GAPD": 19.41067054573746,
        "GLCpts": 10.000000000000002,
        "GLNS": 0.05381014007502777,
        "GLNabc": 0,
        "GLUDy": -1.093690570918758,
        "GLUN": 0,
        "GLUSy": 0,
        "GLUt2r": 1.4272675556251035e-15,
        "GND": 0,
        "H2Ot": 7.061888032590192,
        "ICDHyr": 0.2267142955722235,
        "ICL": 0,
        "LDH_D": 0,
        "MALS": 0,
        "MALt2_2": 0,
        "MDH": 2.2939216227163105e-15,
        "ME1": 0,
        "ME2": 0,
        "NADH16": 0,
        "NADTRHD": 0,
        "NH4t": 1.147500710993785,
        "O2t": 0,
        "PDH": 0,
        "PFK": 9.783195315385212,
        "PFL": 17.76532195250434,
        "PGI": 9.956859293252325,
        "PGK": -19.410670545737464,
        "PGL": 0,
        "PGM": -19.0958486077154,
        "PIt2r": 0.774154721525229,
        "PPC": 0.6027118601872098,
        "PPCK": 0,
        "PPS": 0,
        "PTAr": 8.486872578172065,
        "PYK": 8.361463387015633,
        "PYRt2": 0,
        "RPE": -0.15874360660657472,
        "RPI": -0.15874360660657458,
        "SA3_biomass": 0,
        "SHIKIMATE_5_DEHYDROGENASE_RXN_c": -0.022432673328564585,
        "SHIKIMATE_KINASE_RXN_c": 0,
        "SK_CHORISMATE_c": 0,
        "SUCCt2_2": 0,
        "SUCCt3": 0,
        "SUCDi": 0,
        "SUCOAS": 0,
        "TALA": -0.03017060045385774,
        "THD2": 3.631032428860685,
        "TKT1": -0.030170600453857284,
        "TKT2": -0.128573006152718,
        "TPI": 9.783195315385212,
        "W3110_biomass": 0.21052311090926515
       },
       "reaction_no_data_color": "#dcdcdc",
       "reaction_no_data_size": 8,
       "reaction_scale": [
        {
         "color": "rgb(207,207,222)",
         "type": "value",
         "value": 0.17647058823529413
        },
        {
         "color": "rgb(194,194,224)",
         "type": "value",
         "value": 0.35294117647058826
        },
        {
         "color": "rgb(181,181,226)",
         "type": "value",
         "value": 0.5294117647058824
        },
        {
         "color": "rgb(168,168,228)",
         "type": "value",
         "value": 0.7058823529411765
        },
        {
         "color": "rgb(155,155,230)",
         "type": "value",
         "value": 0.8823529411764707
        },
        {
         "color": "rgb(142,142,232)",
         "type": "value",
         "value": 1.0588235294117647
        },
        {
         "color": "rgb(129,129,234)",
         "type": "value",
         "value": 1.2352941176470589
        },
        {
         "color": "rgb(116,116,236)",
         "type": "value",
         "value": 1.411764705882353
        },
        {
         "color": "rgb(103,103,238)",
         "type": "value",
         "value": 1.5882352941176472
        },
        {
         "color": "rgb(90,90,240)",
         "type": "value",
         "value": 1.7647058823529413
        },
        {
         "color": "rgb(77,77,242)",
         "type": "value",
         "value": 1.9411764705882355
        },
        {
         "color": "rgb(64,64,244)",
         "type": "value",
         "value": 2.1176470588235294
        },
        {
         "color": "rgb(51,51,246)",
         "type": "value",
         "value": 2.2941176470588234
        },
        {
         "color": "rgb(38,38,248)",
         "type": "value",
         "value": 2.4705882352941178
        },
        {
         "color": "rgb(25,25,250)",
         "type": "value",
         "value": 2.6470588235294117
        },
        {
         "color": "rgb(12,12,252)",
         "type": "value",
         "value": 2.823529411764706
        },
        {
         "color": "rgb(0,0,254)",
         "type": "value",
         "value": 3
        },
        {
         "color": "rgb(220,220,220)",
         "type": "value",
         "value": 0
        },
        {
         "color": "rgb(223,200,200)",
         "type": "value",
         "value": -0.2727272727272727
        },
        {
         "color": "rgb(226,180,180)",
         "type": "value",
         "value": -0.5454545454545454
        },
        {
         "color": "rgb(229,160,160)",
         "type": "value",
         "value": -0.8181818181818182
        },
        {
         "color": "rgb(232,140,140)",
         "type": "value",
         "value": -1.090909090909091
        },
        {
         "color": "rgb(235,120,120)",
         "type": "value",
         "value": -1.3636363636363638
        },
        {
         "color": "rgb(239,100,100)",
         "type": "value",
         "value": -1.6363636363636365
        },
        {
         "color": "rgb(242,80,80)",
         "type": "value",
         "value": -1.9090909090909094
        },
        {
         "color": "rgb(245,60,60)",
         "type": "value",
         "value": -2.181818181818182
        },
        {
         "color": "rgb(248,40,40)",
         "type": "value",
         "value": -2.454545454545455
        },
        {
         "color": "rgb(251,20,20)",
         "type": "value",
         "value": -2.7272727272727275
        },
        {
         "color": "rgb(255,0,0)",
         "type": "value",
         "value": -3
        }
       ],
       "reaction_scale_preset": null,
       "reaction_styles": [
        "color",
        "text"
       ],
       "scroll_behavior": "none",
       "secondary_metabolite_radius": 10,
       "semantic_zoom": null,
       "show_gene_reaction_rules": false,
       "starting_reaction": null,
       "use_3d_transform": false,
       "zoom_to_element": null
      }
     },
     "ad774fc7c6d3418ca7987346ddc99bc8": {
      "model_module": "@jupyter-widgets/base",
      "model_module_version": "1.2.0",
      "model_name": "LayoutModel",
      "state": {}
     },
     "adf63a9b4e4e495891bf7860a0f8f946": {
      "model_module": "@jupyter-widgets/base",
      "model_module_version": "1.2.0",
      "model_name": "LayoutModel",
      "state": {}
     },
     "ae7346c99f4d42919cf623aa0856159a": {
      "model_module": "@jupyter-widgets/base",
      "model_module_version": "1.2.0",
      "model_name": "LayoutModel",
      "state": {}
     },
     "b53accf87cf745d6a5f2c775a3ad942c": {
      "model_module": "escher",
      "model_module_version": "1.7.3",
      "model_name": "EscherMapModel",
      "state": {
       "_loaded_map_json": "[{\"map_name\": \"\", \"map_id\": \"\", \"map_description\": \"\", \"homepage\": \"\", \"schema\": \"https://escher.github.io/escher/jsonschema/1-0-0#\"}, {\"reactions\": {\"0\": {\"name\": \"DAHPSYN_RXN_c\", \"bigg_id\": \"DAHPSYN_RXN_c\", \"reversibility\": true, \"label_x\": 208.0, \"label_y\": 45.0, \"gene_reaction_rule\": \"\", \"genes\": [], \"segments\": {\"0\": {\"from_node_id\": \"5\", \"to_node_id\": \"6\", \"b1\": null, \"b2\": null}, \"1\": {\"from_node_id\": \"7\", \"to_node_id\": \"6\", \"b1\": null, \"b2\": null}, \"2\": {\"from_node_id\": \"0\", \"to_node_id\": \"5\", \"b1\": null, \"b2\": null}, \"3\": {\"from_node_id\": \"1\", \"to_node_id\": \"5\", \"b1\": null, \"b2\": null}, \"4\": {\"from_node_id\": \"2\", \"to_node_id\": \"5\", \"b1\": null, \"b2\": null}, \"5\": {\"from_node_id\": \"3\", \"to_node_id\": \"7\", \"b1\": null, \"b2\": null}, \"6\": {\"from_node_id\": \"4\", \"to_node_id\": \"7\", \"b1\": null, \"b2\": null}}, \"metabolites\": [{\"bigg_id\": \"e4p_c\", \"coefficient\": -1.0}, {\"bigg_id\": \"h2o_c\", \"coefficient\": -1.0}, {\"bigg_id\": \"pep_c\", \"coefficient\": -1.0}, {\"bigg_id\": \"3_DEOXY_D_ARABINO_HEPTULOSONATE_7_P_c\", \"coefficient\": 1.0}, {\"bigg_id\": \"pi_c\", \"coefficient\": 1.0}]}, \"1\": {\"name\": \"3_DEHYDROQUINATE_SYNTHASE_RXN_c\", \"bigg_id\": \"3_DEHYDROQUINATE_SYNTHASE_RXN_c\", \"reversibility\": true, \"label_x\": 696.0, \"label_y\": 45.0, \"gene_reaction_rule\": \"\", \"genes\": [], \"segments\": {\"7\": {\"from_node_id\": \"10\", \"to_node_id\": \"11\", \"b1\": null, \"b2\": null}, \"8\": {\"from_node_id\": \"12\", \"to_node_id\": \"11\", \"b1\": null, \"b2\": null}, \"9\": {\"from_node_id\": \"3\", \"to_node_id\": \"10\", \"b1\": null, \"b2\": null}, \"10\": {\"from_node_id\": \"8\", \"to_node_id\": \"12\", \"b1\": null, \"b2\": null}, \"11\": {\"from_node_id\": \"9\", \"to_node_id\": \"12\", \"b1\": null, \"b2\": null}}, \"metabolites\": [{\"bigg_id\": \"3_DEOXY_D_ARABINO_HEPTULOSONATE_7_P_c\", \"coefficient\": -1.0}, {\"bigg_id\": \"DEHYDROQUINATE_c\", \"coefficient\": 1.0}, {\"bigg_id\": \"pi_c\", \"coefficient\": 1.0}]}, \"2\": {\"name\": \"3_DEHYDROQUINATE_DEHYDRATASE_RXN_c\", \"bigg_id\": \"3_DEHYDROQUINATE_DEHYDRATASE_RXN_c\", \"reversibility\": true, \"label_x\": 1319.0, \"label_y\": 45.0, \"gene_reaction_rule\": \"\", \"genes\": [], \"segments\": {\"12\": {\"from_node_id\": \"15\", \"to_node_id\": \"16\", \"b1\": null, \"b2\": null}, \"13\": {\"from_node_id\": \"17\", \"to_node_id\": \"16\", \"b1\": null, \"b2\": null}, \"14\": {\"from_node_id\": \"8\", \"to_node_id\": \"15\", \"b1\": null, \"b2\": null}, \"15\": {\"from_node_id\": \"13\", \"to_node_id\": \"17\", \"b1\": null, \"b2\": null}, \"16\": {\"from_node_id\": \"14\", \"to_node_id\": \"17\", \"b1\": null, \"b2\": null}}, \"metabolites\": [{\"bigg_id\": \"DEHYDROQUINATE_c\", \"coefficient\": -1.0}, {\"bigg_id\": \"3_DEHYDRO_SHIKIMATE_c\", \"coefficient\": 1.0}, {\"bigg_id\": \"h2o_c\", \"coefficient\": 1.0}]}, \"3\": {\"name\": \"SHIKIMATE_5_DEHYDROGENASE_RXN_c\", \"bigg_id\": \"SHIKIMATE_5_DEHYDROGENASE_RXN_c\", \"reversibility\": true, \"label_x\": 1996.0, \"label_y\": 45.0, \"gene_reaction_rule\": \"\", \"genes\": [], \"segments\": {\"17\": {\"from_node_id\": \"23\", \"to_node_id\": \"24\", \"b1\": null, \"b2\": null}, \"18\": {\"from_node_id\": \"25\", \"to_node_id\": \"24\", \"b1\": null, \"b2\": null}, \"19\": {\"from_node_id\": \"18\", \"to_node_id\": \"23\", \"b1\": null, \"b2\": null}, \"20\": {\"from_node_id\": \"19\", \"to_node_id\": \"23\", \"b1\": null, \"b2\": null}, \"21\": {\"from_node_id\": \"20\", \"to_node_id\": \"25\", \"b1\": null, \"b2\": null}, \"22\": {\"from_node_id\": \"21\", \"to_node_id\": \"25\", \"b1\": null, \"b2\": null}, \"23\": {\"from_node_id\": \"22\", \"to_node_id\": \"25\", \"b1\": null, \"b2\": null}}, \"metabolites\": [{\"bigg_id\": \"SHIKIMATE_c\", \"coefficient\": -1.0}, {\"bigg_id\": \"nadp_c\", \"coefficient\": -1.0}, {\"bigg_id\": \"3_DEHYDRO_SHIKIMATE_c\", \"coefficient\": 1.0}, {\"bigg_id\": \"h_c\", \"coefficient\": 1.0}, {\"bigg_id\": \"nadph_c\", \"coefficient\": 1.0}]}, \"4\": {\"name\": \"SHIKIMATE_KINASE_RXN_c\", \"bigg_id\": \"SHIKIMATE_KINASE_RXN_c\", \"reversibility\": true, \"label_x\": 2727.0, \"label_y\": 45.0, \"gene_reaction_rule\": \"\", \"genes\": [], \"segments\": {\"24\": {\"from_node_id\": \"31\", \"to_node_id\": \"32\", \"b1\": null, \"b2\": null}, \"25\": {\"from_node_id\": \"33\", \"to_node_id\": \"32\", \"b1\": null, \"b2\": null}, \"26\": {\"from_node_id\": \"26\", \"to_node_id\": \"31\", \"b1\": null, \"b2\": null}, \"27\": {\"from_node_id\": \"27\", \"to_node_id\": \"31\", \"b1\": null, \"b2\": null}, \"28\": {\"from_node_id\": \"28\", \"to_node_id\": \"33\", \"b1\": null, \"b2\": null}, \"29\": {\"from_node_id\": \"29\", \"to_node_id\": \"33\", \"b1\": null, \"b2\": null}, \"30\": {\"from_node_id\": \"30\", \"to_node_id\": \"33\", \"b1\": null, \"b2\": null}}, \"metabolites\": [{\"bigg_id\": \"SHIKIMATE_c\", \"coefficient\": -1.0}, {\"bigg_id\": \"atp_c\", \"coefficient\": -1.0}, {\"bigg_id\": \"SHIKIMATE_5P_c\", \"coefficient\": 1.0}, {\"bigg_id\": \"adp_c\", \"coefficient\": 1.0}, {\"bigg_id\": \"h_c\", \"coefficient\": 1.0}]}, \"5\": {\"name\": \"2.5.1.19_RXN_c\", \"bigg_id\": \"2.5.1.19_RXN_c\", \"reversibility\": true, \"label_x\": 3449.0, \"label_y\": 45.0, \"gene_reaction_rule\": \"\", \"genes\": [], \"segments\": {\"31\": {\"from_node_id\": \"37\", \"to_node_id\": \"38\", \"b1\": null, \"b2\": null}, \"32\": {\"from_node_id\": \"39\", \"to_node_id\": \"38\", \"b1\": null, \"b2\": null}, \"33\": {\"from_node_id\": \"28\", \"to_node_id\": \"37\", \"b1\": null, \"b2\": null}, \"34\": {\"from_node_id\": \"34\", \"to_node_id\": \"37\", \"b1\": null, \"b2\": null}, \"35\": {\"from_node_id\": \"35\", \"to_node_id\": \"39\", \"b1\": null, \"b2\": null}, \"36\": {\"from_node_id\": \"36\", \"to_node_id\": \"39\", \"b1\": null, \"b2\": null}}, \"metabolites\": [{\"bigg_id\": \"SHIKIMATE_5P_c\", \"coefficient\": -1.0}, {\"bigg_id\": \"pep_c\", \"coefficient\": -1.0}, {\"bigg_id\": \"3_ENOLPYRUVYL_SHIKIMATE_5P_c\", \"coefficient\": 1.0}, {\"bigg_id\": \"pi_c\", \"coefficient\": 1.0}]}, \"6\": {\"name\": \"CHORISMATE_SYNTHASE_RXN_c\", \"bigg_id\": \"CHORISMATE_SYNTHASE_RXN_c\", \"reversibility\": true, \"label_x\": 4000.0, \"label_y\": 45.0, \"gene_reaction_rule\": \"\", \"genes\": [], \"segments\": {\"37\": {\"from_node_id\": \"42\", \"to_node_id\": \"43\", \"b1\": null, \"b2\": null}, \"38\": {\"from_node_id\": \"44\", \"to_node_id\": \"43\", \"b1\": null, \"b2\": null}, \"39\": {\"from_node_id\": \"35\", \"to_node_id\": \"42\", \"b1\": null, \"b2\": null}, \"40\": {\"from_node_id\": \"40\", \"to_node_id\": \"44\", \"b1\": null, \"b2\": null}, \"41\": {\"from_node_id\": \"41\", \"to_node_id\": \"44\", \"b1\": null, \"b2\": null}}, \"metabolites\": [{\"bigg_id\": \"3_ENOLPYRUVYL_SHIKIMATE_5P_c\", \"coefficient\": -1.0}, {\"bigg_id\": \"CHORISMATE_c\", \"coefficient\": 1.0}, {\"bigg_id\": \"pi_c\", \"coefficient\": 1.0}]}}, \"nodes\": {\"0\": {\"node_type\": \"metabolite\", \"x\": 30.0, \"y\": 112.5, \"label_x\": 0.0, \"label_y\": 92.5, \"bigg_id\": \"e4p_c\", \"name\": \"e4p_c\", \"node_is_primary\": false}, \"1\": {\"node_type\": \"metabolite\", \"x\": 30.0, \"y\": 225.0, \"label_x\": 0.0, \"label_y\": 205.0, \"bigg_id\": \"h2o_c\", \"name\": \"h2o_c\", \"node_is_primary\": false}, \"2\": {\"node_type\": \"metabolite\", \"x\": 30.0, \"y\": 337.5, \"label_x\": 0.0, \"label_y\": 317.5, \"bigg_id\": \"pep_c\", \"name\": \"pep_c\", \"node_is_primary\": false}, \"3\": {\"node_type\": \"metabolite\", \"x\": 550.0, \"y\": 150.0, \"label_x\": 520.0, \"label_y\": 130.0, \"bigg_id\": \"3_DEOXY_D_ARABINO_HEPTULOSONATE_7_P_c\", \"name\": \"3_DEOXY_D_ARABINO_HEPTULOSONATE_7_P_c\", \"node_is_primary\": false}, \"4\": {\"node_type\": \"metabolite\", \"x\": 550.0, \"y\": 300.0, \"label_x\": 520.0, \"label_y\": 280.0, \"bigg_id\": \"pi_c\", \"name\": \"pi_c\", \"node_is_primary\": false}, \"5\": {\"node_type\": \"multimarker\", \"x\": 335.0, \"y\": 225.0}, \"6\": {\"node_type\": \"midmarker\", \"x\": 355.0, \"y\": 225.0}, \"7\": {\"node_type\": \"multimarker\", \"x\": 375.0, \"y\": 225.0}, \"8\": {\"node_type\": \"metabolite\", \"x\": 1200.0, \"y\": 150.0, \"label_x\": 1170.0, \"label_y\": 130.0, \"bigg_id\": \"DEHYDROQUINATE_c\", \"name\": \"DEHYDROQUINATE_c\", \"node_is_primary\": false}, \"9\": {\"node_type\": \"metabolite\", \"x\": 1200.0, \"y\": 300.0, \"label_x\": 1170.0, \"label_y\": 280.0, \"bigg_id\": \"pi_c\", \"name\": \"pi_c\", \"node_is_primary\": false}, \"10\": {\"node_type\": \"multimarker\", \"x\": 985.0, \"y\": 225.0}, \"11\": {\"node_type\": \"midmarker\", \"x\": 1005.0, \"y\": 225.0}, \"12\": {\"node_type\": \"multimarker\", \"x\": 1025.0, \"y\": 225.0}, \"13\": {\"node_type\": \"metabolite\", \"x\": 1850.0, \"y\": 150.0, \"label_x\": 1820.0, \"label_y\": 130.0, \"bigg_id\": \"3_DEHYDRO_SHIKIMATE_c\", \"name\": \"3_DEHYDRO_SHIKIMATE_c\", \"node_is_primary\": false}, \"14\": {\"node_type\": \"metabolite\", \"x\": 1850.0, \"y\": 300.0, \"label_x\": 1820.0, \"label_y\": 280.0, \"bigg_id\": \"h2o_c\", \"name\": \"h2o_c\", \"node_is_primary\": false}, \"15\": {\"node_type\": \"multimarker\", \"x\": 1635.0, \"y\": 225.0}, \"16\": {\"node_type\": \"midmarker\", \"x\": 1655.0, \"y\": 225.0}, \"17\": {\"node_type\": \"multimarker\", \"x\": 1675.0, \"y\": 225.0}, \"18\": {\"node_type\": \"metabolite\", \"x\": 1980.0, \"y\": 150.0, \"label_x\": 1950.0, \"label_y\": 130.0, \"bigg_id\": \"SHIKIMATE_c\", \"name\": \"SHIKIMATE_c\", \"node_is_primary\": false}, \"19\": {\"node_type\": \"metabolite\", \"x\": 1980.0, \"y\": 300.0, \"label_x\": 1950.0, \"label_y\": 280.0, \"bigg_id\": \"nadp_c\", \"name\": \"nadp_c\", \"node_is_primary\": false}, \"20\": {\"node_type\": \"metabolite\", \"x\": 2500.0, \"y\": 112.5, \"label_x\": 2470.0, \"label_y\": 92.5, \"bigg_id\": \"3_DEHYDRO_SHIKIMATE_c\", \"name\": \"3_DEHYDRO_SHIKIMATE_c\", \"node_is_primary\": false}, \"21\": {\"node_type\": \"metabolite\", \"x\": 2500.0, \"y\": 225.0, \"label_x\": 2470.0, \"label_y\": 205.0, \"bigg_id\": \"h_c\", \"name\": \"h_c\", \"node_is_primary\": false}, \"22\": {\"node_type\": \"metabolite\", \"x\": 2500.0, \"y\": 337.5, \"label_x\": 2470.0, \"label_y\": 317.5, \"bigg_id\": \"nadph_c\", \"name\": \"nadph_c\", \"node_is_primary\": false}, \"23\": {\"node_type\": \"multimarker\", \"x\": 2285.0, \"y\": 225.0}, \"24\": {\"node_type\": \"midmarker\", \"x\": 2305.0, \"y\": 225.0}, \"25\": {\"node_type\": \"multimarker\", \"x\": 2325.0, \"y\": 225.0}, \"26\": {\"node_type\": \"metabolite\", \"x\": 2630.0, \"y\": 150.0, \"label_x\": 2600.0, \"label_y\": 130.0, \"bigg_id\": \"SHIKIMATE_c\", \"name\": \"SHIKIMATE_c\", \"node_is_primary\": false}, \"27\": {\"node_type\": \"metabolite\", \"x\": 2630.0, \"y\": 300.0, \"label_x\": 2600.0, \"label_y\": 280.0, \"bigg_id\": \"atp_c\", \"name\": \"atp_c\", \"node_is_primary\": false}, \"28\": {\"node_type\": \"metabolite\", \"x\": 3150.0, \"y\": 112.5, \"label_x\": 3120.0, \"label_y\": 92.5, \"bigg_id\": \"SHIKIMATE_5P_c\", \"name\": \"SHIKIMATE_5P_c\", \"node_is_primary\": false}, \"29\": {\"node_type\": \"metabolite\", \"x\": 3150.0, \"y\": 225.0, \"label_x\": 3120.0, \"label_y\": 205.0, \"bigg_id\": \"adp_c\", \"name\": \"adp_c\", \"node_is_primary\": false}, \"30\": {\"node_type\": \"metabolite\", \"x\": 3150.0, \"y\": 337.5, \"label_x\": 3120.0, \"label_y\": 317.5, \"bigg_id\": \"h_c\", \"name\": \"h_c\", \"node_is_primary\": false}, \"31\": {\"node_type\": \"multimarker\", \"x\": 2935.0, \"y\": 225.0}, \"32\": {\"node_type\": \"midmarker\", \"x\": 2955.0, \"y\": 225.0}, \"33\": {\"node_type\": \"multimarker\", \"x\": 2975.0, \"y\": 225.0}, \"34\": {\"node_type\": \"metabolite\", \"x\": 3280.0, \"y\": 300.0, \"label_x\": 3250.0, \"label_y\": 280.0, \"bigg_id\": \"pep_c\", \"name\": \"pep_c\", \"node_is_primary\": false}, \"35\": {\"node_type\": \"metabolite\", \"x\": 3800.0, \"y\": 150.0, \"label_x\": 3770.0, \"label_y\": 130.0, \"bigg_id\": \"3_ENOLPYRUVYL_SHIKIMATE_5P_c\", \"name\": \"3_ENOLPYRUVYL_SHIKIMATE_5P_c\", \"node_is_primary\": false}, \"36\": {\"node_type\": \"metabolite\", \"x\": 3800.0, \"y\": 300.0, \"label_x\": 3770.0, \"label_y\": 280.0, \"bigg_id\": \"pi_c\", \"name\": \"pi_c\", \"node_is_primary\": false}, \"37\": {\"node_type\": \"multimarker\", \"x\": 3585.0, \"y\": 225.0}, \"38\": {\"node_type\": \"midmarker\", \"x\": 3605.0, \"y\": 225.0}, \"39\": {\"node_type\": \"multimarker\", \"x\": 3625.0, \"y\": 225.0}, \"40\": {\"node_type\": \"metabolite\", \"x\": 4450.0, \"y\": 150.0, \"label_x\": 4420.0, \"label_y\": 130.0, \"bigg_id\": \"CHORISMATE_c\", \"name\": \"CHORISMATE_c\", \"node_is_primary\": false}, \"41\": {\"node_type\": \"metabolite\", \"x\": 4450.0, \"y\": 300.0, \"label_x\": 4420.0, \"label_y\": 280.0, \"bigg_id\": \"pi_c\", \"name\": \"pi_c\", \"node_is_primary\": false}, \"42\": {\"node_type\": \"multimarker\", \"x\": 4235.0, \"y\": 225.0}, \"43\": {\"node_type\": \"midmarker\", \"x\": 4255.0, \"y\": 225.0}, \"44\": {\"node_type\": \"multimarker\", \"x\": 4275.0, \"y\": 225.0}}, \"text_labels\": {}, \"canvas\": {\"x\": 0, \"y\": 0, \"width\": 4550, \"height\": 450}}]",
       "_loaded_model_json": null,
       "allow_building_duplicate_reactions": false,
       "and_method_in_gene_reaction_rule": "mean",
       "canvas_size_and_loc": null,
       "cofactors": [
        "atp",
        "adp",
        "nad",
        "nadh",
        "nadp",
        "nadph",
        "gtp",
        "gdp",
        "h",
        "coa",
        "ump",
        "h2o",
        "ppi"
       ],
       "disabled_buttons": [
        "Clear reaction data",
        "Clear gene data",
        "Clear metabolite data"
       ],
       "embedded_css": null,
       "enable_editing": true,
       "enable_keys": false,
       "enable_keys_with_tooltip": true,
       "enable_search": true,
       "enable_tooltips": false,
       "full_screen_button": {
        "enable_editing": true,
        "enable_keys": true,
        "enable_tooltips": [
         "label"
        ],
        "menu": "all",
        "scroll_behavior": "pan"
       },
       "gene_data": null,
       "gene_font_size": 18,
       "height": 500,
       "hide_all_labels": false,
       "hide_secondary_metabolites": false,
       "highlight_missing": false,
       "identifiers_on_map": "bigg_id",
       "layout": "IPY_MODEL_2f43ae0f3ab64a41a44eefa589f45762",
       "marker_radius": 5,
       "menu": "all",
       "metabolite_compare_style": "log2_fold",
       "metabolite_data": null,
       "metabolite_no_data_color": "#ffffff",
       "metabolite_no_data_size": 10,
       "metabolite_scale": [
        {
         "color": "#fffaf0",
         "size": 20,
         "type": "min"
        },
        {
         "color": "#f1c470",
         "size": 30,
         "type": "median"
        },
        {
         "color": "#800000",
         "size": 40,
         "type": "max"
        }
       ],
       "metabolite_scale_preset": "WhYlRd",
       "metabolite_styles": [
        "color",
        "size",
        "text"
       ],
       "never_ask_before_quit": true,
       "primary_metabolite_radius": 20,
       "reaction_compare_style": "log2_fold",
       "reaction_data": null,
       "reaction_no_data_color": "#dcdcdc",
       "reaction_no_data_size": 8,
       "reaction_scale": {},
       "reaction_scale_preset": null,
       "reaction_styles": [
        "color",
        "text"
       ],
       "scroll_behavior": "none",
       "secondary_metabolite_radius": 10,
       "semantic_zoom": null,
       "show_gene_reaction_rules": false,
       "starting_reaction": null,
       "use_3d_transform": false,
       "zoom_to_element": null
      }
     },
     "ba2691ef1724424b828c1011aca6030c": {
      "model_module": "escher",
      "model_module_version": "1.7.3",
      "model_name": "EscherMapModel",
      "state": {
       "_loaded_map_json": "[{\"map_name\": \"\", \"map_id\": \"\", \"map_description\": \"\", \"homepage\": \"\", \"schema\": \"https://escher.github.io/escher/jsonschema/1-0-0#\"}, {\"reactions\": {\"0\": {\"name\": \"DAHPSYN_RXN_c\", \"bigg_id\": \"DAHPSYN_RXN_c\", \"reversibility\": true, \"label_x\": 208.0, \"label_y\": 45.0, \"gene_reaction_rule\": \"\", \"genes\": [], \"segments\": {\"0\": {\"from_node_id\": \"5\", \"to_node_id\": \"6\", \"b1\": null, \"b2\": null}, \"1\": {\"from_node_id\": \"7\", \"to_node_id\": \"6\", \"b1\": null, \"b2\": null}, \"2\": {\"from_node_id\": \"0\", \"to_node_id\": \"5\", \"b1\": null, \"b2\": null}, \"3\": {\"from_node_id\": \"1\", \"to_node_id\": \"5\", \"b1\": null, \"b2\": null}, \"4\": {\"from_node_id\": \"2\", \"to_node_id\": \"5\", \"b1\": null, \"b2\": null}, \"5\": {\"from_node_id\": \"3\", \"to_node_id\": \"7\", \"b1\": null, \"b2\": null}, \"6\": {\"from_node_id\": \"4\", \"to_node_id\": \"7\", \"b1\": null, \"b2\": null}}, \"metabolites\": [{\"bigg_id\": \"e4p_c\", \"coefficient\": -1.0}, {\"bigg_id\": \"h2o_c\", \"coefficient\": -1.0}, {\"bigg_id\": \"pep_c\", \"coefficient\": -1.0}, {\"bigg_id\": \"3_DEOXY_D_ARABINO_HEPTULOSONATE_7_P_c\", \"coefficient\": 1.0}, {\"bigg_id\": \"pi_c\", \"coefficient\": 1.0}]}, \"1\": {\"name\": \"3_DEHYDROQUINATE_SYNTHASE_RXN_c\", \"bigg_id\": \"3_DEHYDROQUINATE_SYNTHASE_RXN_c\", \"reversibility\": true, \"label_x\": 696.0, \"label_y\": 45.0, \"gene_reaction_rule\": \"\", \"genes\": [], \"segments\": {\"7\": {\"from_node_id\": \"10\", \"to_node_id\": \"11\", \"b1\": null, \"b2\": null}, \"8\": {\"from_node_id\": \"12\", \"to_node_id\": \"11\", \"b1\": null, \"b2\": null}, \"9\": {\"from_node_id\": \"3\", \"to_node_id\": \"10\", \"b1\": null, \"b2\": null}, \"10\": {\"from_node_id\": \"8\", \"to_node_id\": \"12\", \"b1\": null, \"b2\": null}, \"11\": {\"from_node_id\": \"9\", \"to_node_id\": \"12\", \"b1\": null, \"b2\": null}}, \"metabolites\": [{\"bigg_id\": \"3_DEOXY_D_ARABINO_HEPTULOSONATE_7_P_c\", \"coefficient\": -1.0}, {\"bigg_id\": \"DEHYDROQUINATE_c\", \"coefficient\": 1.0}, {\"bigg_id\": \"pi_c\", \"coefficient\": 1.0}]}, \"2\": {\"name\": \"3_DEHYDROQUINATE_DEHYDRATASE_RXN_c\", \"bigg_id\": \"3_DEHYDROQUINATE_DEHYDRATASE_RXN_c\", \"reversibility\": true, \"label_x\": 1319.0, \"label_y\": 45.0, \"gene_reaction_rule\": \"\", \"genes\": [], \"segments\": {\"12\": {\"from_node_id\": \"15\", \"to_node_id\": \"16\", \"b1\": null, \"b2\": null}, \"13\": {\"from_node_id\": \"17\", \"to_node_id\": \"16\", \"b1\": null, \"b2\": null}, \"14\": {\"from_node_id\": \"8\", \"to_node_id\": \"15\", \"b1\": null, \"b2\": null}, \"15\": {\"from_node_id\": \"13\", \"to_node_id\": \"17\", \"b1\": null, \"b2\": null}, \"16\": {\"from_node_id\": \"14\", \"to_node_id\": \"17\", \"b1\": null, \"b2\": null}}, \"metabolites\": [{\"bigg_id\": \"DEHYDROQUINATE_c\", \"coefficient\": -1.0}, {\"bigg_id\": \"3_DEHYDRO_SHIKIMATE_c\", \"coefficient\": 1.0}, {\"bigg_id\": \"h2o_c\", \"coefficient\": 1.0}]}, \"3\": {\"name\": \"SHIKIMATE_5_DEHYDROGENASE_RXN_c\", \"bigg_id\": \"SHIKIMATE_5_DEHYDROGENASE_RXN_c\", \"reversibility\": true, \"label_x\": 1996.0, \"label_y\": 45.0, \"gene_reaction_rule\": \"\", \"genes\": [], \"segments\": {\"17\": {\"from_node_id\": \"23\", \"to_node_id\": \"24\", \"b1\": null, \"b2\": null}, \"18\": {\"from_node_id\": \"25\", \"to_node_id\": \"24\", \"b1\": null, \"b2\": null}, \"19\": {\"from_node_id\": \"18\", \"to_node_id\": \"23\", \"b1\": null, \"b2\": null}, \"20\": {\"from_node_id\": \"19\", \"to_node_id\": \"23\", \"b1\": null, \"b2\": null}, \"21\": {\"from_node_id\": \"20\", \"to_node_id\": \"25\", \"b1\": null, \"b2\": null}, \"22\": {\"from_node_id\": \"21\", \"to_node_id\": \"25\", \"b1\": null, \"b2\": null}, \"23\": {\"from_node_id\": \"22\", \"to_node_id\": \"25\", \"b1\": null, \"b2\": null}}, \"metabolites\": [{\"bigg_id\": \"SHIKIMATE_c\", \"coefficient\": -1.0}, {\"bigg_id\": \"nadp_c\", \"coefficient\": -1.0}, {\"bigg_id\": \"3_DEHYDRO_SHIKIMATE_c\", \"coefficient\": 1.0}, {\"bigg_id\": \"h_c\", \"coefficient\": 1.0}, {\"bigg_id\": \"nadph_c\", \"coefficient\": 1.0}]}, \"4\": {\"name\": \"SHIKIMATE_KINASE_RXN_c\", \"bigg_id\": \"SHIKIMATE_KINASE_RXN_c\", \"reversibility\": true, \"label_x\": 2727.0, \"label_y\": 45.0, \"gene_reaction_rule\": \"\", \"genes\": [], \"segments\": {\"24\": {\"from_node_id\": \"31\", \"to_node_id\": \"32\", \"b1\": null, \"b2\": null}, \"25\": {\"from_node_id\": \"33\", \"to_node_id\": \"32\", \"b1\": null, \"b2\": null}, \"26\": {\"from_node_id\": \"26\", \"to_node_id\": \"31\", \"b1\": null, \"b2\": null}, \"27\": {\"from_node_id\": \"27\", \"to_node_id\": \"31\", \"b1\": null, \"b2\": null}, \"28\": {\"from_node_id\": \"28\", \"to_node_id\": \"33\", \"b1\": null, \"b2\": null}, \"29\": {\"from_node_id\": \"29\", \"to_node_id\": \"33\", \"b1\": null, \"b2\": null}, \"30\": {\"from_node_id\": \"30\", \"to_node_id\": \"33\", \"b1\": null, \"b2\": null}}, \"metabolites\": [{\"bigg_id\": \"SHIKIMATE_c\", \"coefficient\": -1.0}, {\"bigg_id\": \"atp_c\", \"coefficient\": -1.0}, {\"bigg_id\": \"SHIKIMATE_5P_c\", \"coefficient\": 1.0}, {\"bigg_id\": \"adp_c\", \"coefficient\": 1.0}, {\"bigg_id\": \"h_c\", \"coefficient\": 1.0}]}, \"5\": {\"name\": \"2.5.1.19_RXN_c\", \"bigg_id\": \"2.5.1.19_RXN_c\", \"reversibility\": true, \"label_x\": 3449.0, \"label_y\": 45.0, \"gene_reaction_rule\": \"\", \"genes\": [], \"segments\": {\"31\": {\"from_node_id\": \"37\", \"to_node_id\": \"38\", \"b1\": null, \"b2\": null}, \"32\": {\"from_node_id\": \"39\", \"to_node_id\": \"38\", \"b1\": null, \"b2\": null}, \"33\": {\"from_node_id\": \"28\", \"to_node_id\": \"37\", \"b1\": null, \"b2\": null}, \"34\": {\"from_node_id\": \"34\", \"to_node_id\": \"37\", \"b1\": null, \"b2\": null}, \"35\": {\"from_node_id\": \"35\", \"to_node_id\": \"39\", \"b1\": null, \"b2\": null}, \"36\": {\"from_node_id\": \"36\", \"to_node_id\": \"39\", \"b1\": null, \"b2\": null}}, \"metabolites\": [{\"bigg_id\": \"SHIKIMATE_5P_c\", \"coefficient\": -1.0}, {\"bigg_id\": \"pep_c\", \"coefficient\": -1.0}, {\"bigg_id\": \"3_ENOLPYRUVYL_SHIKIMATE_5P_c\", \"coefficient\": 1.0}, {\"bigg_id\": \"pi_c\", \"coefficient\": 1.0}]}, \"6\": {\"name\": \"CHORISMATE_SYNTHASE_RXN_c\", \"bigg_id\": \"CHORISMATE_SYNTHASE_RXN_c\", \"reversibility\": true, \"label_x\": 4000.0, \"label_y\": 45.0, \"gene_reaction_rule\": \"\", \"genes\": [], \"segments\": {\"37\": {\"from_node_id\": \"42\", \"to_node_id\": \"43\", \"b1\": null, \"b2\": null}, \"38\": {\"from_node_id\": \"44\", \"to_node_id\": \"43\", \"b1\": null, \"b2\": null}, \"39\": {\"from_node_id\": \"35\", \"to_node_id\": \"42\", \"b1\": null, \"b2\": null}, \"40\": {\"from_node_id\": \"40\", \"to_node_id\": \"44\", \"b1\": null, \"b2\": null}, \"41\": {\"from_node_id\": \"41\", \"to_node_id\": \"44\", \"b1\": null, \"b2\": null}}, \"metabolites\": [{\"bigg_id\": \"3_ENOLPYRUVYL_SHIKIMATE_5P_c\", \"coefficient\": -1.0}, {\"bigg_id\": \"CHORISMATE_c\", \"coefficient\": 1.0}, {\"bigg_id\": \"pi_c\", \"coefficient\": 1.0}]}}, \"nodes\": {\"0\": {\"node_type\": \"metabolite\", \"x\": 30.0, \"y\": 112.5, \"label_x\": 0.0, \"label_y\": 92.5, \"bigg_id\": \"e4p_c\", \"name\": \"e4p_c\", \"node_is_primary\": false}, \"1\": {\"node_type\": \"metabolite\", \"x\": 30.0, \"y\": 225.0, \"label_x\": 0.0, \"label_y\": 205.0, \"bigg_id\": \"h2o_c\", \"name\": \"h2o_c\", \"node_is_primary\": false}, \"2\": {\"node_type\": \"metabolite\", \"x\": 30.0, \"y\": 337.5, \"label_x\": 0.0, \"label_y\": 317.5, \"bigg_id\": \"pep_c\", \"name\": \"pep_c\", \"node_is_primary\": false}, \"3\": {\"node_type\": \"metabolite\", \"x\": 550.0, \"y\": 150.0, \"label_x\": 520.0, \"label_y\": 130.0, \"bigg_id\": \"3_DEOXY_D_ARABINO_HEPTULOSONATE_7_P_c\", \"name\": \"3_DEOXY_D_ARABINO_HEPTULOSONATE_7_P_c\", \"node_is_primary\": false}, \"4\": {\"node_type\": \"metabolite\", \"x\": 550.0, \"y\": 300.0, \"label_x\": 520.0, \"label_y\": 280.0, \"bigg_id\": \"pi_c\", \"name\": \"pi_c\", \"node_is_primary\": false}, \"5\": {\"node_type\": \"multimarker\", \"x\": 335.0, \"y\": 225.0}, \"6\": {\"node_type\": \"midmarker\", \"x\": 355.0, \"y\": 225.0}, \"7\": {\"node_type\": \"multimarker\", \"x\": 375.0, \"y\": 225.0}, \"8\": {\"node_type\": \"metabolite\", \"x\": 1200.0, \"y\": 150.0, \"label_x\": 1170.0, \"label_y\": 130.0, \"bigg_id\": \"DEHYDROQUINATE_c\", \"name\": \"DEHYDROQUINATE_c\", \"node_is_primary\": false}, \"9\": {\"node_type\": \"metabolite\", \"x\": 1200.0, \"y\": 300.0, \"label_x\": 1170.0, \"label_y\": 280.0, \"bigg_id\": \"pi_c\", \"name\": \"pi_c\", \"node_is_primary\": false}, \"10\": {\"node_type\": \"multimarker\", \"x\": 985.0, \"y\": 225.0}, \"11\": {\"node_type\": \"midmarker\", \"x\": 1005.0, \"y\": 225.0}, \"12\": {\"node_type\": \"multimarker\", \"x\": 1025.0, \"y\": 225.0}, \"13\": {\"node_type\": \"metabolite\", \"x\": 1850.0, \"y\": 150.0, \"label_x\": 1820.0, \"label_y\": 130.0, \"bigg_id\": \"3_DEHYDRO_SHIKIMATE_c\", \"name\": \"3_DEHYDRO_SHIKIMATE_c\", \"node_is_primary\": false}, \"14\": {\"node_type\": \"metabolite\", \"x\": 1850.0, \"y\": 300.0, \"label_x\": 1820.0, \"label_y\": 280.0, \"bigg_id\": \"h2o_c\", \"name\": \"h2o_c\", \"node_is_primary\": false}, \"15\": {\"node_type\": \"multimarker\", \"x\": 1635.0, \"y\": 225.0}, \"16\": {\"node_type\": \"midmarker\", \"x\": 1655.0, \"y\": 225.0}, \"17\": {\"node_type\": \"multimarker\", \"x\": 1675.0, \"y\": 225.0}, \"18\": {\"node_type\": \"metabolite\", \"x\": 1980.0, \"y\": 150.0, \"label_x\": 1950.0, \"label_y\": 130.0, \"bigg_id\": \"SHIKIMATE_c\", \"name\": \"SHIKIMATE_c\", \"node_is_primary\": false}, \"19\": {\"node_type\": \"metabolite\", \"x\": 1980.0, \"y\": 300.0, \"label_x\": 1950.0, \"label_y\": 280.0, \"bigg_id\": \"nadp_c\", \"name\": \"nadp_c\", \"node_is_primary\": false}, \"20\": {\"node_type\": \"metabolite\", \"x\": 2500.0, \"y\": 112.5, \"label_x\": 2470.0, \"label_y\": 92.5, \"bigg_id\": \"3_DEHYDRO_SHIKIMATE_c\", \"name\": \"3_DEHYDRO_SHIKIMATE_c\", \"node_is_primary\": false}, \"21\": {\"node_type\": \"metabolite\", \"x\": 2500.0, \"y\": 225.0, \"label_x\": 2470.0, \"label_y\": 205.0, \"bigg_id\": \"h_c\", \"name\": \"h_c\", \"node_is_primary\": false}, \"22\": {\"node_type\": \"metabolite\", \"x\": 2500.0, \"y\": 337.5, \"label_x\": 2470.0, \"label_y\": 317.5, \"bigg_id\": \"nadph_c\", \"name\": \"nadph_c\", \"node_is_primary\": false}, \"23\": {\"node_type\": \"multimarker\", \"x\": 2285.0, \"y\": 225.0}, \"24\": {\"node_type\": \"midmarker\", \"x\": 2305.0, \"y\": 225.0}, \"25\": {\"node_type\": \"multimarker\", \"x\": 2325.0, \"y\": 225.0}, \"26\": {\"node_type\": \"metabolite\", \"x\": 2630.0, \"y\": 150.0, \"label_x\": 2600.0, \"label_y\": 130.0, \"bigg_id\": \"SHIKIMATE_c\", \"name\": \"SHIKIMATE_c\", \"node_is_primary\": false}, \"27\": {\"node_type\": \"metabolite\", \"x\": 2630.0, \"y\": 300.0, \"label_x\": 2600.0, \"label_y\": 280.0, \"bigg_id\": \"atp_c\", \"name\": \"atp_c\", \"node_is_primary\": false}, \"28\": {\"node_type\": \"metabolite\", \"x\": 3150.0, \"y\": 112.5, \"label_x\": 3120.0, \"label_y\": 92.5, \"bigg_id\": \"SHIKIMATE_5P_c\", \"name\": \"SHIKIMATE_5P_c\", \"node_is_primary\": false}, \"29\": {\"node_type\": \"metabolite\", \"x\": 3150.0, \"y\": 225.0, \"label_x\": 3120.0, \"label_y\": 205.0, \"bigg_id\": \"adp_c\", \"name\": \"adp_c\", \"node_is_primary\": false}, \"30\": {\"node_type\": \"metabolite\", \"x\": 3150.0, \"y\": 337.5, \"label_x\": 3120.0, \"label_y\": 317.5, \"bigg_id\": \"h_c\", \"name\": \"h_c\", \"node_is_primary\": false}, \"31\": {\"node_type\": \"multimarker\", \"x\": 2935.0, \"y\": 225.0}, \"32\": {\"node_type\": \"midmarker\", \"x\": 2955.0, \"y\": 225.0}, \"33\": {\"node_type\": \"multimarker\", \"x\": 2975.0, \"y\": 225.0}, \"34\": {\"node_type\": \"metabolite\", \"x\": 3280.0, \"y\": 300.0, \"label_x\": 3250.0, \"label_y\": 280.0, \"bigg_id\": \"pep_c\", \"name\": \"pep_c\", \"node_is_primary\": false}, \"35\": {\"node_type\": \"metabolite\", \"x\": 3800.0, \"y\": 150.0, \"label_x\": 3770.0, \"label_y\": 130.0, \"bigg_id\": \"3_ENOLPYRUVYL_SHIKIMATE_5P_c\", \"name\": \"3_ENOLPYRUVYL_SHIKIMATE_5P_c\", \"node_is_primary\": false}, \"36\": {\"node_type\": \"metabolite\", \"x\": 3800.0, \"y\": 300.0, \"label_x\": 3770.0, \"label_y\": 280.0, \"bigg_id\": \"pi_c\", \"name\": \"pi_c\", \"node_is_primary\": false}, \"37\": {\"node_type\": \"multimarker\", \"x\": 3585.0, \"y\": 225.0}, \"38\": {\"node_type\": \"midmarker\", \"x\": 3605.0, \"y\": 225.0}, \"39\": {\"node_type\": \"multimarker\", \"x\": 3625.0, \"y\": 225.0}, \"40\": {\"node_type\": \"metabolite\", \"x\": 4450.0, \"y\": 150.0, \"label_x\": 4420.0, \"label_y\": 130.0, \"bigg_id\": \"CHORISMATE_c\", \"name\": \"CHORISMATE_c\", \"node_is_primary\": false}, \"41\": {\"node_type\": \"metabolite\", \"x\": 4450.0, \"y\": 300.0, \"label_x\": 4420.0, \"label_y\": 280.0, \"bigg_id\": \"pi_c\", \"name\": \"pi_c\", \"node_is_primary\": false}, \"42\": {\"node_type\": \"multimarker\", \"x\": 4235.0, \"y\": 225.0}, \"43\": {\"node_type\": \"midmarker\", \"x\": 4255.0, \"y\": 225.0}, \"44\": {\"node_type\": \"multimarker\", \"x\": 4275.0, \"y\": 225.0}}, \"text_labels\": {}, \"canvas\": {\"x\": 0, \"y\": 0, \"width\": 4550, \"height\": 450}}]",
       "_loaded_model_json": null,
       "allow_building_duplicate_reactions": false,
       "and_method_in_gene_reaction_rule": "mean",
       "canvas_size_and_loc": null,
       "cofactors": [
        "atp",
        "adp",
        "nad",
        "nadh",
        "nadp",
        "nadph",
        "gtp",
        "gdp",
        "h",
        "coa",
        "ump",
        "h2o",
        "ppi"
       ],
       "disabled_buttons": [
        "Clear gene data",
        "Clear metabolite data"
       ],
       "embedded_css": null,
       "enable_editing": true,
       "enable_keys": false,
       "enable_keys_with_tooltip": true,
       "enable_search": true,
       "enable_tooltips": false,
       "full_screen_button": {
        "enable_editing": true,
        "enable_keys": true,
        "enable_tooltips": [
         "label"
        ],
        "menu": "all",
        "scroll_behavior": "pan"
       },
       "gene_data": null,
       "gene_font_size": 18,
       "height": 500,
       "hide_all_labels": false,
       "hide_secondary_metabolites": false,
       "highlight_missing": false,
       "identifiers_on_map": "bigg_id",
       "layout": "IPY_MODEL_2900bdb4bcd24f7da73cf004a08265a2",
       "marker_radius": 5,
       "menu": "all",
       "metabolite_compare_style": "log2_fold",
       "metabolite_data": null,
       "metabolite_no_data_color": "#ffffff",
       "metabolite_no_data_size": 10,
       "metabolite_scale": [
        {
         "color": "#fffaf0",
         "size": 20,
         "type": "min"
        },
        {
         "color": "#f1c470",
         "size": 30,
         "type": "median"
        },
        {
         "color": "#800000",
         "size": 40,
         "type": "max"
        }
       ],
       "metabolite_scale_preset": "WhYlRd",
       "metabolite_styles": [
        "color",
        "size",
        "text"
       ],
       "never_ask_before_quit": true,
       "primary_metabolite_radius": 20,
       "reaction_compare_style": "log2_fold",
       "reaction_data": {
        "2.5.1.19_RXN_c": 0,
        "3_DEHYDROQUINATE_DEHYDRATASE_RXN_c": 26.581579672537828,
        "3_DEHYDROQUINATE_SYNTHASE_RXN_c": 26.581579672537824,
        "ACALD": 0,
        "ACALDt": 0,
        "ACKr": 0,
        "ACONTa": 0.7982314984584715,
        "ACONTb": 0.7982314984584715,
        "ACt2r": 0,
        "ADK1": 1.9329275123948777,
        "AKGDH": 0,
        "AKGt2r": 5.904468031585607e-14,
        "ALCD2x": 0,
        "ATPM": 171.64571083174383,
        "ATPS4r": 233.69690854129425,
        "Biomass_Ecoli_core": 0,
        "CHORISMATE_SYNTHASE_RXN_c": 977.4818621635828,
        "CO2t": -14.961308848515216,
        "CS": 0.7982314984584717,
        "CYTBD": 0,
        "DAHPSYN_RXN_c": 0,
        "D_LACt2": 0,
        "ENO": 11.41225921093286,
        "ETOHt2r": 0,
        "EX_ac_e": 0,
        "EX_acald_e": 0,
        "EX_akg_e": 0,
        "EX_co2_e": 14.961308848515,
        "EX_etoh_e": 0,
        "EX_for_e": 0,
        "EX_fru_e": 0,
        "EX_fum_e": 0,
        "EX_glc__D_e": -10,
        "EX_gln__L_e": 0,
        "EX_glu__L_e": 0,
        "EX_h2o_e": 22.220544269672118,
        "EX_h_e": 21.37098889970715,
        "EX_lac__D_e": 0,
        "EX_mal__L_e": 0,
        "EX_nh4_e": -6.023088494304445,
        "EX_o2_e": 0,
        "EX_pi_e": 1000,
        "EX_pyr_e": 0,
        "EX_succ_e": 0,
        "FBA": 4.902310268482069,
        "FBP": 0,
        "FORt2": 0,
        "FORti": 0,
        "FRD7": 0,
        "FRUpts2": 0,
        "FUM": 0,
        "FUMt2_2": 0,
        "G6PDH2r": 11.996873042878708,
        "GAPD": 13.064720402885516,
        "GLCpts": 10,
        "GLNS": 0.2824427318063465,
        "GLNabc": 0,
        "GLUDy": -5.740645762498098,
        "GLUN": 0,
        "GLUSy": 0,
        "GLUt2r": 0,
        "GND": 11.996873042878708,
        "H2Ot": -22.220544269672118,
        "ICDHyr": 0.7982314984584715,
        "ICL": 0,
        "LDH_D": 0,
        "MALS": 0,
        "MALt2_2": 0,
        "MDH": 0,
        "ME1": 0,
        "ME2": 0,
        "NADH16": 0,
        "NADTRHD": 0,
        "NH4t": 6.023088494304445,
        "O2t": 0,
        "PDH": 4.938000251934474,
        "PFK": 4.902310268482069,
        "PFL": 0,
        "PGI": -2.2233132463214176,
        "PGK": -13.064720402885515,
        "PGL": 11.996873042878708,
        "PGM": -11.41225921093286,
        "PIt2r": -1000.0000000000001,
        "PPC": 2.771795944756475,
        "PPCK": 0,
        "PPS": 1.9329275123948775,
        "PTAr": 0,
        "PYK": 0,
        "PYRt2": 0,
        "RPE": 7.203938687603914,
        "RPI": -4.792934355274793,
        "SA3_biomass": 1.2001394453983845,
        "SHIKIMATE_5_DEHYDROGENASE_RXN_c": -26.581579672537824,
        "SHIKIMATE_KINASE_RXN_c": 0,
        "SK_3_DEOXY_D_ARABINO_HEPTULOSONATE_7_P_c": -26.581579672537824,
        "SK_3_ENOLPYRUVYL_SHIKIMATE_5P_c": -977.4818621635828,
        "SK_CHORISMATE_c": 977.4818621635828,
        "SUCCt2_2": 0,
        "SUCCt3": 0,
        "SUCDi": 0,
        "SUCOAS": 0,
        "TALA": 3.8013471814673676,
        "THD2": 21.920688467558012,
        "TKT1": 3.801347181467368,
        "TKT2": 3.402591506136546,
        "TPI": 4.902310268482069,
        "W3110_biomass": 0
       },
       "reaction_no_data_color": "#dcdcdc",
       "reaction_no_data_size": 8,
       "reaction_scale": [
        {
         "color": "rgb(200,200,223)",
         "type": "value",
         "value": 0.2727272727272727
        },
        {
         "color": "rgb(180,180,226)",
         "type": "value",
         "value": 0.5454545454545454
        },
        {
         "color": "rgb(160,160,229)",
         "type": "value",
         "value": 0.8181818181818182
        },
        {
         "color": "rgb(140,140,232)",
         "type": "value",
         "value": 1.090909090909091
        },
        {
         "color": "rgb(120,120,235)",
         "type": "value",
         "value": 1.3636363636363638
        },
        {
         "color": "rgb(100,100,239)",
         "type": "value",
         "value": 1.6363636363636365
        },
        {
         "color": "rgb(80,80,242)",
         "type": "value",
         "value": 1.9090909090909094
        },
        {
         "color": "rgb(60,60,245)",
         "type": "value",
         "value": 2.181818181818182
        },
        {
         "color": "rgb(40,40,248)",
         "type": "value",
         "value": 2.454545454545455
        },
        {
         "color": "rgb(20,20,251)",
         "type": "value",
         "value": 2.7272727272727275
        },
        {
         "color": "rgb(0,0,255)",
         "type": "value",
         "value": 3
        },
        {
         "color": "rgb(220,220,220)",
         "type": "value",
         "value": 0
        },
        {
         "color": "rgb(237,110,110)",
         "type": "value",
         "value": -1.5
        },
        {
         "color": "rgb(255,0,0)",
         "type": "value",
         "value": -3
        }
       ],
       "reaction_scale_preset": null,
       "reaction_styles": [
        "color",
        "text"
       ],
       "scroll_behavior": "none",
       "secondary_metabolite_radius": 10,
       "semantic_zoom": null,
       "show_gene_reaction_rules": false,
       "starting_reaction": null,
       "use_3d_transform": false,
       "zoom_to_element": null
      }
     },
     "bd8eedea0a6e495a8418387a6a81f30f": {
      "model_module": "escher",
      "model_module_version": "1.7.3",
      "model_name": "EscherMapModel",
      "state": {
       "_loaded_map_json": "[{\"map_name\": \"\", \"map_id\": \"\", \"map_description\": \"\", \"homepage\": \"\", \"schema\": \"https://escher.github.io/escher/jsonschema/1-0-0#\"}, {\"reactions\": {\"0\": {\"name\": \"DAHPSYN_RXN_c\", \"bigg_id\": \"DAHPSYN_RXN_c\", \"reversibility\": true, \"label_x\": 208.0, \"label_y\": 45.0, \"gene_reaction_rule\": \"\", \"genes\": [], \"segments\": {\"0\": {\"from_node_id\": \"5\", \"to_node_id\": \"6\", \"b1\": null, \"b2\": null}, \"1\": {\"from_node_id\": \"7\", \"to_node_id\": \"6\", \"b1\": null, \"b2\": null}, \"2\": {\"from_node_id\": \"0\", \"to_node_id\": \"5\", \"b1\": null, \"b2\": null}, \"3\": {\"from_node_id\": \"1\", \"to_node_id\": \"5\", \"b1\": null, \"b2\": null}, \"4\": {\"from_node_id\": \"2\", \"to_node_id\": \"5\", \"b1\": null, \"b2\": null}, \"5\": {\"from_node_id\": \"3\", \"to_node_id\": \"7\", \"b1\": null, \"b2\": null}, \"6\": {\"from_node_id\": \"4\", \"to_node_id\": \"7\", \"b1\": null, \"b2\": null}}, \"metabolites\": [{\"bigg_id\": \"e4p_c\", \"coefficient\": -1.0}, {\"bigg_id\": \"h2o_c\", \"coefficient\": -1.0}, {\"bigg_id\": \"pep_c\", \"coefficient\": -1.0}, {\"bigg_id\": \"3_DEOXY_D_ARABINO_HEPTULOSONATE_7_P_c\", \"coefficient\": 1.0}, {\"bigg_id\": \"pi_c\", \"coefficient\": 1.0}]}, \"1\": {\"name\": \"3_DEHYDROQUINATE_SYNTHASE_RXN_c\", \"bigg_id\": \"3_DEHYDROQUINATE_SYNTHASE_RXN_c\", \"reversibility\": true, \"label_x\": 696.0, \"label_y\": 45.0, \"gene_reaction_rule\": \"\", \"genes\": [], \"segments\": {\"7\": {\"from_node_id\": \"10\", \"to_node_id\": \"11\", \"b1\": null, \"b2\": null}, \"8\": {\"from_node_id\": \"12\", \"to_node_id\": \"11\", \"b1\": null, \"b2\": null}, \"9\": {\"from_node_id\": \"3\", \"to_node_id\": \"10\", \"b1\": null, \"b2\": null}, \"10\": {\"from_node_id\": \"8\", \"to_node_id\": \"12\", \"b1\": null, \"b2\": null}, \"11\": {\"from_node_id\": \"9\", \"to_node_id\": \"12\", \"b1\": null, \"b2\": null}}, \"metabolites\": [{\"bigg_id\": \"3_DEOXY_D_ARABINO_HEPTULOSONATE_7_P_c\", \"coefficient\": -1.0}, {\"bigg_id\": \"DEHYDROQUINATE_c\", \"coefficient\": 1.0}, {\"bigg_id\": \"pi_c\", \"coefficient\": 1.0}]}, \"2\": {\"name\": \"3_DEHYDROQUINATE_DEHYDRATASE_RXN_c\", \"bigg_id\": \"3_DEHYDROQUINATE_DEHYDRATASE_RXN_c\", \"reversibility\": true, \"label_x\": 1319.0, \"label_y\": 45.0, \"gene_reaction_rule\": \"\", \"genes\": [], \"segments\": {\"12\": {\"from_node_id\": \"15\", \"to_node_id\": \"16\", \"b1\": null, \"b2\": null}, \"13\": {\"from_node_id\": \"17\", \"to_node_id\": \"16\", \"b1\": null, \"b2\": null}, \"14\": {\"from_node_id\": \"8\", \"to_node_id\": \"15\", \"b1\": null, \"b2\": null}, \"15\": {\"from_node_id\": \"13\", \"to_node_id\": \"17\", \"b1\": null, \"b2\": null}, \"16\": {\"from_node_id\": \"14\", \"to_node_id\": \"17\", \"b1\": null, \"b2\": null}}, \"metabolites\": [{\"bigg_id\": \"DEHYDROQUINATE_c\", \"coefficient\": -1.0}, {\"bigg_id\": \"3_DEHYDRO_SHIKIMATE_c\", \"coefficient\": 1.0}, {\"bigg_id\": \"h2o_c\", \"coefficient\": 1.0}]}, \"3\": {\"name\": \"SHIKIMATE_5_DEHYDROGENASE_RXN_c\", \"bigg_id\": \"SHIKIMATE_5_DEHYDROGENASE_RXN_c\", \"reversibility\": true, \"label_x\": 1996.0, \"label_y\": 45.0, \"gene_reaction_rule\": \"\", \"genes\": [], \"segments\": {\"17\": {\"from_node_id\": \"23\", \"to_node_id\": \"24\", \"b1\": null, \"b2\": null}, \"18\": {\"from_node_id\": \"25\", \"to_node_id\": \"24\", \"b1\": null, \"b2\": null}, \"19\": {\"from_node_id\": \"18\", \"to_node_id\": \"23\", \"b1\": null, \"b2\": null}, \"20\": {\"from_node_id\": \"19\", \"to_node_id\": \"23\", \"b1\": null, \"b2\": null}, \"21\": {\"from_node_id\": \"20\", \"to_node_id\": \"25\", \"b1\": null, \"b2\": null}, \"22\": {\"from_node_id\": \"21\", \"to_node_id\": \"25\", \"b1\": null, \"b2\": null}, \"23\": {\"from_node_id\": \"22\", \"to_node_id\": \"25\", \"b1\": null, \"b2\": null}}, \"metabolites\": [{\"bigg_id\": \"SHIKIMATE_c\", \"coefficient\": -1.0}, {\"bigg_id\": \"nadp_c\", \"coefficient\": -1.0}, {\"bigg_id\": \"3_DEHYDRO_SHIKIMATE_c\", \"coefficient\": 1.0}, {\"bigg_id\": \"h_c\", \"coefficient\": 1.0}, {\"bigg_id\": \"nadph_c\", \"coefficient\": 1.0}]}, \"4\": {\"name\": \"SHIKIMATE_KINASE_RXN_c\", \"bigg_id\": \"SHIKIMATE_KINASE_RXN_c\", \"reversibility\": true, \"label_x\": 2727.0, \"label_y\": 45.0, \"gene_reaction_rule\": \"\", \"genes\": [], \"segments\": {\"24\": {\"from_node_id\": \"31\", \"to_node_id\": \"32\", \"b1\": null, \"b2\": null}, \"25\": {\"from_node_id\": \"33\", \"to_node_id\": \"32\", \"b1\": null, \"b2\": null}, \"26\": {\"from_node_id\": \"26\", \"to_node_id\": \"31\", \"b1\": null, \"b2\": null}, \"27\": {\"from_node_id\": \"27\", \"to_node_id\": \"31\", \"b1\": null, \"b2\": null}, \"28\": {\"from_node_id\": \"28\", \"to_node_id\": \"33\", \"b1\": null, \"b2\": null}, \"29\": {\"from_node_id\": \"29\", \"to_node_id\": \"33\", \"b1\": null, \"b2\": null}, \"30\": {\"from_node_id\": \"30\", \"to_node_id\": \"33\", \"b1\": null, \"b2\": null}}, \"metabolites\": [{\"bigg_id\": \"SHIKIMATE_c\", \"coefficient\": -1.0}, {\"bigg_id\": \"atp_c\", \"coefficient\": -1.0}, {\"bigg_id\": \"SHIKIMATE_5P_c\", \"coefficient\": 1.0}, {\"bigg_id\": \"adp_c\", \"coefficient\": 1.0}, {\"bigg_id\": \"h_c\", \"coefficient\": 1.0}]}, \"5\": {\"name\": \"2.5.1.19_RXN_c\", \"bigg_id\": \"2.5.1.19_RXN_c\", \"reversibility\": true, \"label_x\": 3449.0, \"label_y\": 45.0, \"gene_reaction_rule\": \"\", \"genes\": [], \"segments\": {\"31\": {\"from_node_id\": \"37\", \"to_node_id\": \"38\", \"b1\": null, \"b2\": null}, \"32\": {\"from_node_id\": \"39\", \"to_node_id\": \"38\", \"b1\": null, \"b2\": null}, \"33\": {\"from_node_id\": \"28\", \"to_node_id\": \"37\", \"b1\": null, \"b2\": null}, \"34\": {\"from_node_id\": \"34\", \"to_node_id\": \"37\", \"b1\": null, \"b2\": null}, \"35\": {\"from_node_id\": \"35\", \"to_node_id\": \"39\", \"b1\": null, \"b2\": null}, \"36\": {\"from_node_id\": \"36\", \"to_node_id\": \"39\", \"b1\": null, \"b2\": null}}, \"metabolites\": [{\"bigg_id\": \"SHIKIMATE_5P_c\", \"coefficient\": -1.0}, {\"bigg_id\": \"pep_c\", \"coefficient\": -1.0}, {\"bigg_id\": \"3_ENOLPYRUVYL_SHIKIMATE_5P_c\", \"coefficient\": 1.0}, {\"bigg_id\": \"pi_c\", \"coefficient\": 1.0}]}, \"6\": {\"name\": \"CHORISMATE_SYNTHASE_RXN_c\", \"bigg_id\": \"CHORISMATE_SYNTHASE_RXN_c\", \"reversibility\": true, \"label_x\": 4000.0, \"label_y\": 45.0, \"gene_reaction_rule\": \"\", \"genes\": [], \"segments\": {\"37\": {\"from_node_id\": \"42\", \"to_node_id\": \"43\", \"b1\": null, \"b2\": null}, \"38\": {\"from_node_id\": \"44\", \"to_node_id\": \"43\", \"b1\": null, \"b2\": null}, \"39\": {\"from_node_id\": \"35\", \"to_node_id\": \"42\", \"b1\": null, \"b2\": null}, \"40\": {\"from_node_id\": \"40\", \"to_node_id\": \"44\", \"b1\": null, \"b2\": null}, \"41\": {\"from_node_id\": \"41\", \"to_node_id\": \"44\", \"b1\": null, \"b2\": null}}, \"metabolites\": [{\"bigg_id\": \"3_ENOLPYRUVYL_SHIKIMATE_5P_c\", \"coefficient\": -1.0}, {\"bigg_id\": \"CHORISMATE_c\", \"coefficient\": 1.0}, {\"bigg_id\": \"pi_c\", \"coefficient\": 1.0}]}}, \"nodes\": {\"0\": {\"node_type\": \"metabolite\", \"x\": 30.0, \"y\": 112.5, \"label_x\": 0.0, \"label_y\": 92.5, \"bigg_id\": \"e4p_c\", \"name\": \"e4p_c\", \"node_is_primary\": false}, \"1\": {\"node_type\": \"metabolite\", \"x\": 30.0, \"y\": 225.0, \"label_x\": 0.0, \"label_y\": 205.0, \"bigg_id\": \"h2o_c\", \"name\": \"h2o_c\", \"node_is_primary\": false}, \"2\": {\"node_type\": \"metabolite\", \"x\": 30.0, \"y\": 337.5, \"label_x\": 0.0, \"label_y\": 317.5, \"bigg_id\": \"pep_c\", \"name\": \"pep_c\", \"node_is_primary\": false}, \"3\": {\"node_type\": \"metabolite\", \"x\": 550.0, \"y\": 150.0, \"label_x\": 520.0, \"label_y\": 130.0, \"bigg_id\": \"3_DEOXY_D_ARABINO_HEPTULOSONATE_7_P_c\", \"name\": \"3_DEOXY_D_ARABINO_HEPTULOSONATE_7_P_c\", \"node_is_primary\": false}, \"4\": {\"node_type\": \"metabolite\", \"x\": 550.0, \"y\": 300.0, \"label_x\": 520.0, \"label_y\": 280.0, \"bigg_id\": \"pi_c\", \"name\": \"pi_c\", \"node_is_primary\": false}, \"5\": {\"node_type\": \"multimarker\", \"x\": 335.0, \"y\": 225.0}, \"6\": {\"node_type\": \"midmarker\", \"x\": 355.0, \"y\": 225.0}, \"7\": {\"node_type\": \"multimarker\", \"x\": 375.0, \"y\": 225.0}, \"8\": {\"node_type\": \"metabolite\", \"x\": 1200.0, \"y\": 150.0, \"label_x\": 1170.0, \"label_y\": 130.0, \"bigg_id\": \"DEHYDROQUINATE_c\", \"name\": \"DEHYDROQUINATE_c\", \"node_is_primary\": false}, \"9\": {\"node_type\": \"metabolite\", \"x\": 1200.0, \"y\": 300.0, \"label_x\": 1170.0, \"label_y\": 280.0, \"bigg_id\": \"pi_c\", \"name\": \"pi_c\", \"node_is_primary\": false}, \"10\": {\"node_type\": \"multimarker\", \"x\": 985.0, \"y\": 225.0}, \"11\": {\"node_type\": \"midmarker\", \"x\": 1005.0, \"y\": 225.0}, \"12\": {\"node_type\": \"multimarker\", \"x\": 1025.0, \"y\": 225.0}, \"13\": {\"node_type\": \"metabolite\", \"x\": 1850.0, \"y\": 150.0, \"label_x\": 1820.0, \"label_y\": 130.0, \"bigg_id\": \"3_DEHYDRO_SHIKIMATE_c\", \"name\": \"3_DEHYDRO_SHIKIMATE_c\", \"node_is_primary\": false}, \"14\": {\"node_type\": \"metabolite\", \"x\": 1850.0, \"y\": 300.0, \"label_x\": 1820.0, \"label_y\": 280.0, \"bigg_id\": \"h2o_c\", \"name\": \"h2o_c\", \"node_is_primary\": false}, \"15\": {\"node_type\": \"multimarker\", \"x\": 1635.0, \"y\": 225.0}, \"16\": {\"node_type\": \"midmarker\", \"x\": 1655.0, \"y\": 225.0}, \"17\": {\"node_type\": \"multimarker\", \"x\": 1675.0, \"y\": 225.0}, \"18\": {\"node_type\": \"metabolite\", \"x\": 1980.0, \"y\": 150.0, \"label_x\": 1950.0, \"label_y\": 130.0, \"bigg_id\": \"SHIKIMATE_c\", \"name\": \"SHIKIMATE_c\", \"node_is_primary\": false}, \"19\": {\"node_type\": \"metabolite\", \"x\": 1980.0, \"y\": 300.0, \"label_x\": 1950.0, \"label_y\": 280.0, \"bigg_id\": \"nadp_c\", \"name\": \"nadp_c\", \"node_is_primary\": false}, \"20\": {\"node_type\": \"metabolite\", \"x\": 2500.0, \"y\": 112.5, \"label_x\": 2470.0, \"label_y\": 92.5, \"bigg_id\": \"3_DEHYDRO_SHIKIMATE_c\", \"name\": \"3_DEHYDRO_SHIKIMATE_c\", \"node_is_primary\": false}, \"21\": {\"node_type\": \"metabolite\", \"x\": 2500.0, \"y\": 225.0, \"label_x\": 2470.0, \"label_y\": 205.0, \"bigg_id\": \"h_c\", \"name\": \"h_c\", \"node_is_primary\": false}, \"22\": {\"node_type\": \"metabolite\", \"x\": 2500.0, \"y\": 337.5, \"label_x\": 2470.0, \"label_y\": 317.5, \"bigg_id\": \"nadph_c\", \"name\": \"nadph_c\", \"node_is_primary\": false}, \"23\": {\"node_type\": \"multimarker\", \"x\": 2285.0, \"y\": 225.0}, \"24\": {\"node_type\": \"midmarker\", \"x\": 2305.0, \"y\": 225.0}, \"25\": {\"node_type\": \"multimarker\", \"x\": 2325.0, \"y\": 225.0}, \"26\": {\"node_type\": \"metabolite\", \"x\": 2630.0, \"y\": 150.0, \"label_x\": 2600.0, \"label_y\": 130.0, \"bigg_id\": \"SHIKIMATE_c\", \"name\": \"SHIKIMATE_c\", \"node_is_primary\": false}, \"27\": {\"node_type\": \"metabolite\", \"x\": 2630.0, \"y\": 300.0, \"label_x\": 2600.0, \"label_y\": 280.0, \"bigg_id\": \"atp_c\", \"name\": \"atp_c\", \"node_is_primary\": false}, \"28\": {\"node_type\": \"metabolite\", \"x\": 3150.0, \"y\": 112.5, \"label_x\": 3120.0, \"label_y\": 92.5, \"bigg_id\": \"SHIKIMATE_5P_c\", \"name\": \"SHIKIMATE_5P_c\", \"node_is_primary\": false}, \"29\": {\"node_type\": \"metabolite\", \"x\": 3150.0, \"y\": 225.0, \"label_x\": 3120.0, \"label_y\": 205.0, \"bigg_id\": \"adp_c\", \"name\": \"adp_c\", \"node_is_primary\": false}, \"30\": {\"node_type\": \"metabolite\", \"x\": 3150.0, \"y\": 337.5, \"label_x\": 3120.0, \"label_y\": 317.5, \"bigg_id\": \"h_c\", \"name\": \"h_c\", \"node_is_primary\": false}, \"31\": {\"node_type\": \"multimarker\", \"x\": 2935.0, \"y\": 225.0}, \"32\": {\"node_type\": \"midmarker\", \"x\": 2955.0, \"y\": 225.0}, \"33\": {\"node_type\": \"multimarker\", \"x\": 2975.0, \"y\": 225.0}, \"34\": {\"node_type\": \"metabolite\", \"x\": 3280.0, \"y\": 300.0, \"label_x\": 3250.0, \"label_y\": 280.0, \"bigg_id\": \"pep_c\", \"name\": \"pep_c\", \"node_is_primary\": false}, \"35\": {\"node_type\": \"metabolite\", \"x\": 3800.0, \"y\": 150.0, \"label_x\": 3770.0, \"label_y\": 130.0, \"bigg_id\": \"3_ENOLPYRUVYL_SHIKIMATE_5P_c\", \"name\": \"3_ENOLPYRUVYL_SHIKIMATE_5P_c\", \"node_is_primary\": false}, \"36\": {\"node_type\": \"metabolite\", \"x\": 3800.0, \"y\": 300.0, \"label_x\": 3770.0, \"label_y\": 280.0, \"bigg_id\": \"pi_c\", \"name\": \"pi_c\", \"node_is_primary\": false}, \"37\": {\"node_type\": \"multimarker\", \"x\": 3585.0, \"y\": 225.0}, \"38\": {\"node_type\": \"midmarker\", \"x\": 3605.0, \"y\": 225.0}, \"39\": {\"node_type\": \"multimarker\", \"x\": 3625.0, \"y\": 225.0}, \"40\": {\"node_type\": \"metabolite\", \"x\": 4450.0, \"y\": 150.0, \"label_x\": 4420.0, \"label_y\": 130.0, \"bigg_id\": \"CHORISMATE_c\", \"name\": \"CHORISMATE_c\", \"node_is_primary\": false}, \"41\": {\"node_type\": \"metabolite\", \"x\": 4450.0, \"y\": 300.0, \"label_x\": 4420.0, \"label_y\": 280.0, \"bigg_id\": \"pi_c\", \"name\": \"pi_c\", \"node_is_primary\": false}, \"42\": {\"node_type\": \"multimarker\", \"x\": 4235.0, \"y\": 225.0}, \"43\": {\"node_type\": \"midmarker\", \"x\": 4255.0, \"y\": 225.0}, \"44\": {\"node_type\": \"multimarker\", \"x\": 4275.0, \"y\": 225.0}}, \"text_labels\": {}, \"canvas\": {\"x\": 0, \"y\": 0, \"width\": 4550, \"height\": 450}}]",
       "_loaded_model_json": null,
       "allow_building_duplicate_reactions": false,
       "and_method_in_gene_reaction_rule": "mean",
       "canvas_size_and_loc": null,
       "cofactors": [
        "atp",
        "adp",
        "nad",
        "nadh",
        "nadp",
        "nadph",
        "gtp",
        "gdp",
        "h",
        "coa",
        "ump",
        "h2o",
        "ppi"
       ],
       "disabled_buttons": [
        "Clear reaction data",
        "Clear gene data",
        "Clear metabolite data"
       ],
       "embedded_css": null,
       "enable_editing": true,
       "enable_keys": false,
       "enable_keys_with_tooltip": true,
       "enable_search": true,
       "enable_tooltips": false,
       "full_screen_button": {
        "enable_editing": true,
        "enable_keys": true,
        "enable_tooltips": [
         "label"
        ],
        "menu": "all",
        "scroll_behavior": "pan"
       },
       "gene_data": null,
       "gene_font_size": 18,
       "height": 500,
       "hide_all_labels": false,
       "hide_secondary_metabolites": false,
       "highlight_missing": false,
       "identifiers_on_map": "bigg_id",
       "layout": "IPY_MODEL_45addec7a4c04cc195f7c892c216c438",
       "marker_radius": 5,
       "menu": "all",
       "metabolite_compare_style": "log2_fold",
       "metabolite_data": null,
       "metabolite_no_data_color": "#ffffff",
       "metabolite_no_data_size": 10,
       "metabolite_scale": [
        {
         "color": "#fffaf0",
         "size": 20,
         "type": "min"
        },
        {
         "color": "#f1c470",
         "size": 30,
         "type": "median"
        },
        {
         "color": "#800000",
         "size": 40,
         "type": "max"
        }
       ],
       "metabolite_scale_preset": "WhYlRd",
       "metabolite_styles": [
        "color",
        "size",
        "text"
       ],
       "never_ask_before_quit": true,
       "primary_metabolite_radius": 20,
       "reaction_compare_style": "log2_fold",
       "reaction_data": null,
       "reaction_no_data_color": "#dcdcdc",
       "reaction_no_data_size": 8,
       "reaction_scale": {},
       "reaction_scale_preset": null,
       "reaction_styles": [
        "color",
        "text"
       ],
       "scroll_behavior": "none",
       "secondary_metabolite_radius": 10,
       "semantic_zoom": null,
       "show_gene_reaction_rules": false,
       "starting_reaction": null,
       "use_3d_transform": false,
       "zoom_to_element": null
      }
     },
     "bebda39ead6d40999fabd99b66b71a57": {
      "model_module": "@jupyter-widgets/base",
      "model_module_version": "1.2.0",
      "model_name": "LayoutModel",
      "state": {}
     },
     "c5b459d4440743e29a399ec56cef2eb0": {
      "model_module": "@jupyter-widgets/base",
      "model_module_version": "1.2.0",
      "model_name": "LayoutModel",
      "state": {}
     },
     "c78da44c8d574e17bb014a0b6e63b93b": {
      "model_module": "escher",
      "model_module_version": "1.7.3",
      "model_name": "EscherMapModel",
      "state": {
       "_loaded_map_json": "[{\"map_name\": \"\", \"map_id\": \"\", \"map_description\": \"\", \"homepage\": \"\", \"schema\": \"https://escher.github.io/escher/jsonschema/1-0-0#\"}, {\"reactions\": {\"0\": {\"name\": \"3_DEHYDROQUINATE_DEHYDRATASE_RXN_c\", \"bigg_id\": \"3_DEHYDROQUINATE_DEHYDRATASE_RXN_c\", \"reversibility\": true, \"label_x\": 19.0, \"label_y\": 45.0, \"gene_reaction_rule\": \"\", \"genes\": [], \"segments\": {\"0\": {\"from_node_id\": \"3\", \"to_node_id\": \"4\", \"b1\": null, \"b2\": null}, \"1\": {\"from_node_id\": \"5\", \"to_node_id\": \"4\", \"b1\": null, \"b2\": null}, \"2\": {\"from_node_id\": \"0\", \"to_node_id\": \"3\", \"b1\": null, \"b2\": null}, \"3\": {\"from_node_id\": \"1\", \"to_node_id\": \"5\", \"b1\": null, \"b2\": null}, \"4\": {\"from_node_id\": \"2\", \"to_node_id\": \"5\", \"b1\": null, \"b2\": null}}, \"metabolites\": [{\"bigg_id\": \"DEHYDROQUINATE_c\", \"coefficient\": -1.0}, {\"bigg_id\": \"3_DEHYDRO_SHIKIMATE_c\", \"coefficient\": 1.0}, {\"bigg_id\": \"h2o_c\", \"coefficient\": 1.0}]}, \"1\": {\"name\": \"SHIKIMATE_5_DEHYDROGENASE_RXN_c\", \"bigg_id\": \"SHIKIMATE_5_DEHYDROGENASE_RXN_c\", \"reversibility\": true, \"label_x\": 696.0, \"label_y\": 45.0, \"gene_reaction_rule\": \"\", \"genes\": [], \"segments\": {\"5\": {\"from_node_id\": \"11\", \"to_node_id\": \"12\", \"b1\": null, \"b2\": null}, \"6\": {\"from_node_id\": \"13\", \"to_node_id\": \"12\", \"b1\": null, \"b2\": null}, \"7\": {\"from_node_id\": \"6\", \"to_node_id\": \"11\", \"b1\": null, \"b2\": null}, \"8\": {\"from_node_id\": \"7\", \"to_node_id\": \"11\", \"b1\": null, \"b2\": null}, \"9\": {\"from_node_id\": \"8\", \"to_node_id\": \"13\", \"b1\": null, \"b2\": null}, \"10\": {\"from_node_id\": \"9\", \"to_node_id\": \"13\", \"b1\": null, \"b2\": null}, \"11\": {\"from_node_id\": \"10\", \"to_node_id\": \"13\", \"b1\": null, \"b2\": null}}, \"metabolites\": [{\"bigg_id\": \"SHIKIMATE_c\", \"coefficient\": -1.0}, {\"bigg_id\": \"nadp_c\", \"coefficient\": -1.0}, {\"bigg_id\": \"3_DEHYDRO_SHIKIMATE_c\", \"coefficient\": 1.0}, {\"bigg_id\": \"h_c\", \"coefficient\": 1.0}, {\"bigg_id\": \"nadph_c\", \"coefficient\": 1.0}]}, \"2\": {\"name\": \"SHIKIMATE_KINASE_RXN_c\", \"bigg_id\": \"SHIKIMATE_KINASE_RXN_c\", \"reversibility\": true, \"label_x\": 1427.0, \"label_y\": 45.0, \"gene_reaction_rule\": \"\", \"genes\": [], \"segments\": {\"12\": {\"from_node_id\": \"19\", \"to_node_id\": \"20\", \"b1\": null, \"b2\": null}, \"13\": {\"from_node_id\": \"21\", \"to_node_id\": \"20\", \"b1\": null, \"b2\": null}, \"14\": {\"from_node_id\": \"14\", \"to_node_id\": \"19\", \"b1\": null, \"b2\": null}, \"15\": {\"from_node_id\": \"15\", \"to_node_id\": \"19\", \"b1\": null, \"b2\": null}, \"16\": {\"from_node_id\": \"16\", \"to_node_id\": \"21\", \"b1\": null, \"b2\": null}, \"17\": {\"from_node_id\": \"17\", \"to_node_id\": \"21\", \"b1\": null, \"b2\": null}, \"18\": {\"from_node_id\": \"18\", \"to_node_id\": \"21\", \"b1\": null, \"b2\": null}}, \"metabolites\": [{\"bigg_id\": \"SHIKIMATE_c\", \"coefficient\": -1.0}, {\"bigg_id\": \"atp_c\", \"coefficient\": -1.0}, {\"bigg_id\": \"SHIKIMATE_5P_c\", \"coefficient\": 1.0}, {\"bigg_id\": \"adp_c\", \"coefficient\": 1.0}, {\"bigg_id\": \"h_c\", \"coefficient\": 1.0}]}, \"3\": {\"name\": \"2.5.1.19_RXN_c\", \"bigg_id\": \"2.5.1.19_RXN_c\", \"reversibility\": true, \"label_x\": 2149.0, \"label_y\": 45.0, \"gene_reaction_rule\": \"\", \"genes\": [], \"segments\": {\"19\": {\"from_node_id\": \"25\", \"to_node_id\": \"26\", \"b1\": null, \"b2\": null}, \"20\": {\"from_node_id\": \"27\", \"to_node_id\": \"26\", \"b1\": null, \"b2\": null}, \"21\": {\"from_node_id\": \"16\", \"to_node_id\": \"25\", \"b1\": null, \"b2\": null}, \"22\": {\"from_node_id\": \"22\", \"to_node_id\": \"25\", \"b1\": null, \"b2\": null}, \"23\": {\"from_node_id\": \"23\", \"to_node_id\": \"27\", \"b1\": null, \"b2\": null}, \"24\": {\"from_node_id\": \"24\", \"to_node_id\": \"27\", \"b1\": null, \"b2\": null}}, \"metabolites\": [{\"bigg_id\": \"SHIKIMATE_5P_c\", \"coefficient\": -1.0}, {\"bigg_id\": \"pep_c\", \"coefficient\": -1.0}, {\"bigg_id\": \"3_ENOLPYRUVYL_SHIKIMATE_5P_c\", \"coefficient\": 1.0}, {\"bigg_id\": \"pi_c\", \"coefficient\": 1.0}]}, \"4\": {\"name\": \"CHORISMATE_SYNTHASE_RXN_c\", \"bigg_id\": \"CHORISMATE_SYNTHASE_RXN_c\", \"reversibility\": true, \"label_x\": 2700.0, \"label_y\": 45.0, \"gene_reaction_rule\": \"\", \"genes\": [], \"segments\": {\"25\": {\"from_node_id\": \"30\", \"to_node_id\": \"31\", \"b1\": null, \"b2\": null}, \"26\": {\"from_node_id\": \"32\", \"to_node_id\": \"31\", \"b1\": null, \"b2\": null}, \"27\": {\"from_node_id\": \"23\", \"to_node_id\": \"30\", \"b1\": null, \"b2\": null}, \"28\": {\"from_node_id\": \"28\", \"to_node_id\": \"32\", \"b1\": null, \"b2\": null}, \"29\": {\"from_node_id\": \"29\", \"to_node_id\": \"32\", \"b1\": null, \"b2\": null}}, \"metabolites\": [{\"bigg_id\": \"3_ENOLPYRUVYL_SHIKIMATE_5P_c\", \"coefficient\": -1.0}, {\"bigg_id\": \"CHORISMATE_c\", \"coefficient\": 1.0}, {\"bigg_id\": \"pi_c\", \"coefficient\": 1.0}]}, \"5\": {\"name\": \"DAHPSYN_RXN_c\", \"bigg_id\": \"DAHPSYN_RXN_c\", \"reversibility\": true, \"label_x\": 208.0, \"label_y\": 495.0, \"gene_reaction_rule\": \"\", \"genes\": [], \"segments\": {\"30\": {\"from_node_id\": \"37\", \"to_node_id\": \"38\", \"b1\": null, \"b2\": null}, \"31\": {\"from_node_id\": \"39\", \"to_node_id\": \"38\", \"b1\": null, \"b2\": null}, \"32\": {\"from_node_id\": \"33\", \"to_node_id\": \"37\", \"b1\": null, \"b2\": null}, \"33\": {\"from_node_id\": \"2\", \"to_node_id\": \"37\", \"b1\": null, \"b2\": null}, \"34\": {\"from_node_id\": \"34\", \"to_node_id\": \"37\", \"b1\": null, \"b2\": null}, \"35\": {\"from_node_id\": \"35\", \"to_node_id\": \"39\", \"b1\": null, \"b2\": null}, \"36\": {\"from_node_id\": \"36\", \"to_node_id\": \"39\", \"b1\": null, \"b2\": null}}, \"metabolites\": [{\"bigg_id\": \"e4p_c\", \"coefficient\": -1.0}, {\"bigg_id\": \"h2o_c\", \"coefficient\": -1.0}, {\"bigg_id\": \"pep_c\", \"coefficient\": -1.0}, {\"bigg_id\": \"3_DEOXY_D_ARABINO_HEPTULOSONATE_7_P_c\", \"coefficient\": 1.0}, {\"bigg_id\": \"pi_c\", \"coefficient\": 1.0}]}, \"6\": {\"name\": \"3_DEHYDROQUINATE_SYNTHASE_RXN_c\", \"bigg_id\": \"3_DEHYDROQUINATE_SYNTHASE_RXN_c\", \"reversibility\": true, \"label_x\": 696.0, \"label_y\": 495.0, \"gene_reaction_rule\": \"\", \"genes\": [], \"segments\": {\"37\": {\"from_node_id\": \"42\", \"to_node_id\": \"43\", \"b1\": null, \"b2\": null}, \"38\": {\"from_node_id\": \"44\", \"to_node_id\": \"43\", \"b1\": null, \"b2\": null}, \"39\": {\"from_node_id\": \"35\", \"to_node_id\": \"42\", \"b1\": null, \"b2\": null}, \"40\": {\"from_node_id\": \"40\", \"to_node_id\": \"44\", \"b1\": null, \"b2\": null}, \"41\": {\"from_node_id\": \"41\", \"to_node_id\": \"44\", \"b1\": null, \"b2\": null}}, \"metabolites\": [{\"bigg_id\": \"3_DEOXY_D_ARABINO_HEPTULOSONATE_7_P_c\", \"coefficient\": -1.0}, {\"bigg_id\": \"DEHYDROQUINATE_c\", \"coefficient\": 1.0}, {\"bigg_id\": \"pi_c\", \"coefficient\": 1.0}]}}, \"nodes\": {\"0\": {\"node_type\": \"metabolite\", \"x\": 30.0, \"y\": 225.0, \"label_x\": 0.0, \"label_y\": 205.0, \"bigg_id\": \"DEHYDROQUINATE_c\", \"name\": \"DEHYDROQUINATE_c\", \"node_is_primary\": false}, \"1\": {\"node_type\": \"metabolite\", \"x\": 550.0, \"y\": 150.0, \"label_x\": 520.0, \"label_y\": 130.0, \"bigg_id\": \"3_DEHYDRO_SHIKIMATE_c\", \"name\": \"3_DEHYDRO_SHIKIMATE_c\", \"node_is_primary\": false}, \"2\": {\"node_type\": \"metabolite\", \"x\": 550.0, \"y\": 300.0, \"label_x\": 520.0, \"label_y\": 280.0, \"bigg_id\": \"h2o_c\", \"name\": \"h2o_c\", \"node_is_primary\": false}, \"3\": {\"node_type\": \"multimarker\", \"x\": 335.0, \"y\": 225.0}, \"4\": {\"node_type\": \"midmarker\", \"x\": 355.0, \"y\": 225.0}, \"5\": {\"node_type\": \"multimarker\", \"x\": 375.0, \"y\": 225.0}, \"6\": {\"node_type\": \"metabolite\", \"x\": 680.0, \"y\": 150.0, \"label_x\": 650.0, \"label_y\": 130.0, \"bigg_id\": \"SHIKIMATE_c\", \"name\": \"SHIKIMATE_c\", \"node_is_primary\": false}, \"7\": {\"node_type\": \"metabolite\", \"x\": 680.0, \"y\": 300.0, \"label_x\": 650.0, \"label_y\": 280.0, \"bigg_id\": \"nadp_c\", \"name\": \"nadp_c\", \"node_is_primary\": false}, \"8\": {\"node_type\": \"metabolite\", \"x\": 1200.0, \"y\": 112.5, \"label_x\": 1170.0, \"label_y\": 92.5, \"bigg_id\": \"3_DEHYDRO_SHIKIMATE_c\", \"name\": \"3_DEHYDRO_SHIKIMATE_c\", \"node_is_primary\": false}, \"9\": {\"node_type\": \"metabolite\", \"x\": 1200.0, \"y\": 225.0, \"label_x\": 1170.0, \"label_y\": 205.0, \"bigg_id\": \"h_c\", \"name\": \"h_c\", \"node_is_primary\": false}, \"10\": {\"node_type\": \"metabolite\", \"x\": 1200.0, \"y\": 337.5, \"label_x\": 1170.0, \"label_y\": 317.5, \"bigg_id\": \"nadph_c\", \"name\": \"nadph_c\", \"node_is_primary\": false}, \"11\": {\"node_type\": \"multimarker\", \"x\": 985.0, \"y\": 225.0}, \"12\": {\"node_type\": \"midmarker\", \"x\": 1005.0, \"y\": 225.0}, \"13\": {\"node_type\": \"multimarker\", \"x\": 1025.0, \"y\": 225.0}, \"14\": {\"node_type\": \"metabolite\", \"x\": 1330.0, \"y\": 150.0, \"label_x\": 1300.0, \"label_y\": 130.0, \"bigg_id\": \"SHIKIMATE_c\", \"name\": \"SHIKIMATE_c\", \"node_is_primary\": false}, \"15\": {\"node_type\": \"metabolite\", \"x\": 1330.0, \"y\": 300.0, \"label_x\": 1300.0, \"label_y\": 280.0, \"bigg_id\": \"atp_c\", \"name\": \"atp_c\", \"node_is_primary\": false}, \"16\": {\"node_type\": \"metabolite\", \"x\": 1850.0, \"y\": 112.5, \"label_x\": 1820.0, \"label_y\": 92.5, \"bigg_id\": \"SHIKIMATE_5P_c\", \"name\": \"SHIKIMATE_5P_c\", \"node_is_primary\": false}, \"17\": {\"node_type\": \"metabolite\", \"x\": 1850.0, \"y\": 225.0, \"label_x\": 1820.0, \"label_y\": 205.0, \"bigg_id\": \"adp_c\", \"name\": \"adp_c\", \"node_is_primary\": false}, \"18\": {\"node_type\": \"metabolite\", \"x\": 1850.0, \"y\": 337.5, \"label_x\": 1820.0, \"label_y\": 317.5, \"bigg_id\": \"h_c\", \"name\": \"h_c\", \"node_is_primary\": false}, \"19\": {\"node_type\": \"multimarker\", \"x\": 1635.0, \"y\": 225.0}, \"20\": {\"node_type\": \"midmarker\", \"x\": 1655.0, \"y\": 225.0}, \"21\": {\"node_type\": \"multimarker\", \"x\": 1675.0, \"y\": 225.0}, \"22\": {\"node_type\": \"metabolite\", \"x\": 1980.0, \"y\": 300.0, \"label_x\": 1950.0, \"label_y\": 280.0, \"bigg_id\": \"pep_c\", \"name\": \"pep_c\", \"node_is_primary\": false}, \"23\": {\"node_type\": \"metabolite\", \"x\": 2500.0, \"y\": 150.0, \"label_x\": 2470.0, \"label_y\": 130.0, \"bigg_id\": \"3_ENOLPYRUVYL_SHIKIMATE_5P_c\", \"name\": \"3_ENOLPYRUVYL_SHIKIMATE_5P_c\", \"node_is_primary\": false}, \"24\": {\"node_type\": \"metabolite\", \"x\": 2500.0, \"y\": 300.0, \"label_x\": 2470.0, \"label_y\": 280.0, \"bigg_id\": \"pi_c\", \"name\": \"pi_c\", \"node_is_primary\": false}, \"25\": {\"node_type\": \"multimarker\", \"x\": 2285.0, \"y\": 225.0}, \"26\": {\"node_type\": \"midmarker\", \"x\": 2305.0, \"y\": 225.0}, \"27\": {\"node_type\": \"multimarker\", \"x\": 2325.0, \"y\": 225.0}, \"28\": {\"node_type\": \"metabolite\", \"x\": 3150.0, \"y\": 150.0, \"label_x\": 3120.0, \"label_y\": 130.0, \"bigg_id\": \"CHORISMATE_c\", \"name\": \"CHORISMATE_c\", \"node_is_primary\": false}, \"29\": {\"node_type\": \"metabolite\", \"x\": 3150.0, \"y\": 300.0, \"label_x\": 3120.0, \"label_y\": 280.0, \"bigg_id\": \"pi_c\", \"name\": \"pi_c\", \"node_is_primary\": false}, \"30\": {\"node_type\": \"multimarker\", \"x\": 2935.0, \"y\": 225.0}, \"31\": {\"node_type\": \"midmarker\", \"x\": 2955.0, \"y\": 225.0}, \"32\": {\"node_type\": \"multimarker\", \"x\": 2975.0, \"y\": 225.0}, \"33\": {\"node_type\": \"metabolite\", \"x\": 30.0, \"y\": 562.5, \"label_x\": 0.0, \"label_y\": 542.5, \"bigg_id\": \"e4p_c\", \"name\": \"e4p_c\", \"node_is_primary\": false}, \"34\": {\"node_type\": \"metabolite\", \"x\": 30.0, \"y\": 787.5, \"label_x\": 0.0, \"label_y\": 767.5, \"bigg_id\": \"pep_c\", \"name\": \"pep_c\", \"node_is_primary\": false}, \"35\": {\"node_type\": \"metabolite\", \"x\": 550.0, \"y\": 600.0, \"label_x\": 520.0, \"label_y\": 580.0, \"bigg_id\": \"3_DEOXY_D_ARABINO_HEPTULOSONATE_7_P_c\", \"name\": \"3_DEOXY_D_ARABINO_HEPTULOSONATE_7_P_c\", \"node_is_primary\": false}, \"36\": {\"node_type\": \"metabolite\", \"x\": 550.0, \"y\": 750.0, \"label_x\": 520.0, \"label_y\": 730.0, \"bigg_id\": \"pi_c\", \"name\": \"pi_c\", \"node_is_primary\": false}, \"37\": {\"node_type\": \"multimarker\", \"x\": 335.0, \"y\": 675.0}, \"38\": {\"node_type\": \"midmarker\", \"x\": 355.0, \"y\": 675.0}, \"39\": {\"node_type\": \"multimarker\", \"x\": 375.0, \"y\": 675.0}, \"40\": {\"node_type\": \"metabolite\", \"x\": 1200.0, \"y\": 600.0, \"label_x\": 1170.0, \"label_y\": 580.0, \"bigg_id\": \"DEHYDROQUINATE_c\", \"name\": \"DEHYDROQUINATE_c\", \"node_is_primary\": false}, \"41\": {\"node_type\": \"metabolite\", \"x\": 1200.0, \"y\": 750.0, \"label_x\": 1170.0, \"label_y\": 730.0, \"bigg_id\": \"pi_c\", \"name\": \"pi_c\", \"node_is_primary\": false}, \"42\": {\"node_type\": \"multimarker\", \"x\": 985.0, \"y\": 675.0}, \"43\": {\"node_type\": \"midmarker\", \"x\": 1005.0, \"y\": 675.0}, \"44\": {\"node_type\": \"multimarker\", \"x\": 1025.0, \"y\": 675.0}}, \"text_labels\": {}, \"canvas\": {\"x\": 0, \"y\": 0, \"width\": 3250, \"height\": 900}}]",
       "_loaded_model_json": null,
       "allow_building_duplicate_reactions": false,
       "and_method_in_gene_reaction_rule": "mean",
       "canvas_size_and_loc": null,
       "cofactors": [
        "atp",
        "adp",
        "nad",
        "nadh",
        "nadp",
        "nadph",
        "gtp",
        "gdp",
        "h",
        "coa",
        "ump",
        "h2o",
        "ppi"
       ],
       "disabled_buttons": [
        "Clear reaction data",
        "Clear gene data",
        "Clear metabolite data"
       ],
       "embedded_css": null,
       "enable_editing": true,
       "enable_keys": false,
       "enable_keys_with_tooltip": true,
       "enable_search": true,
       "enable_tooltips": false,
       "full_screen_button": {
        "enable_editing": true,
        "enable_keys": true,
        "enable_tooltips": [
         "label"
        ],
        "menu": "all",
        "scroll_behavior": "pan"
       },
       "gene_data": null,
       "gene_font_size": 18,
       "height": 500,
       "hide_all_labels": false,
       "hide_secondary_metabolites": false,
       "highlight_missing": false,
       "identifiers_on_map": "bigg_id",
       "layout": "IPY_MODEL_142cafd8e6034312bab14b11d5df4126",
       "marker_radius": 5,
       "menu": "all",
       "metabolite_compare_style": "log2_fold",
       "metabolite_data": null,
       "metabolite_no_data_color": "#ffffff",
       "metabolite_no_data_size": 10,
       "metabolite_scale": [
        {
         "color": "#fffaf0",
         "size": 20,
         "type": "min"
        },
        {
         "color": "#f1c470",
         "size": 30,
         "type": "median"
        },
        {
         "color": "#800000",
         "size": 40,
         "type": "max"
        }
       ],
       "metabolite_scale_preset": "WhYlRd",
       "metabolite_styles": [
        "color",
        "size",
        "text"
       ],
       "never_ask_before_quit": true,
       "primary_metabolite_radius": 20,
       "reaction_compare_style": "log2_fold",
       "reaction_data": null,
       "reaction_no_data_color": "#dcdcdc",
       "reaction_no_data_size": 8,
       "reaction_scale": {},
       "reaction_scale_preset": null,
       "reaction_styles": [
        "color",
        "text"
       ],
       "scroll_behavior": "none",
       "secondary_metabolite_radius": 10,
       "semantic_zoom": null,
       "show_gene_reaction_rules": false,
       "starting_reaction": null,
       "use_3d_transform": false,
       "zoom_to_element": null
      }
     },
     "d167470c5b274eea85f549e7577b2f4c": {
      "model_module": "escher",
      "model_module_version": "1.7.3",
      "model_name": "EscherMapModel",
      "state": {
       "_loaded_map_json": "[{\"map_name\": \"\", \"map_id\": \"\", \"map_description\": \"\", \"homepage\": \"\", \"schema\": \"https://escher.github.io/escher/jsonschema/1-0-0#\"}, {\"reactions\": {\"0\": {\"name\": \"DAHPSYN_RXN_c\", \"bigg_id\": \"DAHPSYN_RXN_c\", \"reversibility\": true, \"label_x\": 208.0, \"label_y\": 45.0, \"gene_reaction_rule\": \"\", \"genes\": [], \"segments\": {\"0\": {\"from_node_id\": \"5\", \"to_node_id\": \"6\", \"b1\": null, \"b2\": null}, \"1\": {\"from_node_id\": \"7\", \"to_node_id\": \"6\", \"b1\": null, \"b2\": null}, \"2\": {\"from_node_id\": \"0\", \"to_node_id\": \"5\", \"b1\": null, \"b2\": null}, \"3\": {\"from_node_id\": \"1\", \"to_node_id\": \"5\", \"b1\": null, \"b2\": null}, \"4\": {\"from_node_id\": \"2\", \"to_node_id\": \"5\", \"b1\": null, \"b2\": null}, \"5\": {\"from_node_id\": \"3\", \"to_node_id\": \"7\", \"b1\": null, \"b2\": null}, \"6\": {\"from_node_id\": \"4\", \"to_node_id\": \"7\", \"b1\": null, \"b2\": null}}, \"metabolites\": [{\"bigg_id\": \"e4p_c\", \"coefficient\": -1.0}, {\"bigg_id\": \"h2o_c\", \"coefficient\": -1.0}, {\"bigg_id\": \"pep_c\", \"coefficient\": -1.0}, {\"bigg_id\": \"3_DEOXY_D_ARABINO_HEPTULOSONATE_7_P_c\", \"coefficient\": 1.0}, {\"bigg_id\": \"pi_c\", \"coefficient\": 1.0}]}, \"1\": {\"name\": \"3_DEHYDROQUINATE_SYNTHASE_RXN_c\", \"bigg_id\": \"3_DEHYDROQUINATE_SYNTHASE_RXN_c\", \"reversibility\": true, \"label_x\": 696.0, \"label_y\": 45.0, \"gene_reaction_rule\": \"\", \"genes\": [], \"segments\": {\"7\": {\"from_node_id\": \"10\", \"to_node_id\": \"11\", \"b1\": null, \"b2\": null}, \"8\": {\"from_node_id\": \"12\", \"to_node_id\": \"11\", \"b1\": null, \"b2\": null}, \"9\": {\"from_node_id\": \"3\", \"to_node_id\": \"10\", \"b1\": null, \"b2\": null}, \"10\": {\"from_node_id\": \"8\", \"to_node_id\": \"12\", \"b1\": null, \"b2\": null}, \"11\": {\"from_node_id\": \"9\", \"to_node_id\": \"12\", \"b1\": null, \"b2\": null}}, \"metabolites\": [{\"bigg_id\": \"3_DEOXY_D_ARABINO_HEPTULOSONATE_7_P_c\", \"coefficient\": -1.0}, {\"bigg_id\": \"DEHYDROQUINATE_c\", \"coefficient\": 1.0}, {\"bigg_id\": \"pi_c\", \"coefficient\": 1.0}]}, \"2\": {\"name\": \"3_DEHYDROQUINATE_DEHYDRATASE_RXN_c\", \"bigg_id\": \"3_DEHYDROQUINATE_DEHYDRATASE_RXN_c\", \"reversibility\": true, \"label_x\": 1319.0, \"label_y\": 45.0, \"gene_reaction_rule\": \"\", \"genes\": [], \"segments\": {\"12\": {\"from_node_id\": \"15\", \"to_node_id\": \"16\", \"b1\": null, \"b2\": null}, \"13\": {\"from_node_id\": \"17\", \"to_node_id\": \"16\", \"b1\": null, \"b2\": null}, \"14\": {\"from_node_id\": \"8\", \"to_node_id\": \"15\", \"b1\": null, \"b2\": null}, \"15\": {\"from_node_id\": \"13\", \"to_node_id\": \"17\", \"b1\": null, \"b2\": null}, \"16\": {\"from_node_id\": \"14\", \"to_node_id\": \"17\", \"b1\": null, \"b2\": null}}, \"metabolites\": [{\"bigg_id\": \"DEHYDROQUINATE_c\", \"coefficient\": -1.0}, {\"bigg_id\": \"3_DEHYDRO_SHIKIMATE_c\", \"coefficient\": 1.0}, {\"bigg_id\": \"h2o_c\", \"coefficient\": 1.0}]}, \"3\": {\"name\": \"SHIKIMATE_5_DEHYDROGENASE_RXN_c\", \"bigg_id\": \"SHIKIMATE_5_DEHYDROGENASE_RXN_c\", \"reversibility\": true, \"label_x\": 1996.0, \"label_y\": 45.0, \"gene_reaction_rule\": \"\", \"genes\": [], \"segments\": {\"17\": {\"from_node_id\": \"23\", \"to_node_id\": \"24\", \"b1\": null, \"b2\": null}, \"18\": {\"from_node_id\": \"25\", \"to_node_id\": \"24\", \"b1\": null, \"b2\": null}, \"19\": {\"from_node_id\": \"18\", \"to_node_id\": \"23\", \"b1\": null, \"b2\": null}, \"20\": {\"from_node_id\": \"19\", \"to_node_id\": \"23\", \"b1\": null, \"b2\": null}, \"21\": {\"from_node_id\": \"20\", \"to_node_id\": \"25\", \"b1\": null, \"b2\": null}, \"22\": {\"from_node_id\": \"21\", \"to_node_id\": \"25\", \"b1\": null, \"b2\": null}, \"23\": {\"from_node_id\": \"22\", \"to_node_id\": \"25\", \"b1\": null, \"b2\": null}}, \"metabolites\": [{\"bigg_id\": \"SHIKIMATE_c\", \"coefficient\": -1.0}, {\"bigg_id\": \"nadp_c\", \"coefficient\": -1.0}, {\"bigg_id\": \"3_DEHYDRO_SHIKIMATE_c\", \"coefficient\": 1.0}, {\"bigg_id\": \"h_c\", \"coefficient\": 1.0}, {\"bigg_id\": \"nadph_c\", \"coefficient\": 1.0}]}, \"4\": {\"name\": \"SHIKIMATE_KINASE_RXN_c\", \"bigg_id\": \"SHIKIMATE_KINASE_RXN_c\", \"reversibility\": true, \"label_x\": 2727.0, \"label_y\": 45.0, \"gene_reaction_rule\": \"\", \"genes\": [], \"segments\": {\"24\": {\"from_node_id\": \"31\", \"to_node_id\": \"32\", \"b1\": null, \"b2\": null}, \"25\": {\"from_node_id\": \"33\", \"to_node_id\": \"32\", \"b1\": null, \"b2\": null}, \"26\": {\"from_node_id\": \"26\", \"to_node_id\": \"31\", \"b1\": null, \"b2\": null}, \"27\": {\"from_node_id\": \"27\", \"to_node_id\": \"31\", \"b1\": null, \"b2\": null}, \"28\": {\"from_node_id\": \"28\", \"to_node_id\": \"33\", \"b1\": null, \"b2\": null}, \"29\": {\"from_node_id\": \"29\", \"to_node_id\": \"33\", \"b1\": null, \"b2\": null}, \"30\": {\"from_node_id\": \"30\", \"to_node_id\": \"33\", \"b1\": null, \"b2\": null}}, \"metabolites\": [{\"bigg_id\": \"SHIKIMATE_c\", \"coefficient\": -1.0}, {\"bigg_id\": \"atp_c\", \"coefficient\": -1.0}, {\"bigg_id\": \"SHIKIMATE_5P_c\", \"coefficient\": 1.0}, {\"bigg_id\": \"adp_c\", \"coefficient\": 1.0}, {\"bigg_id\": \"h_c\", \"coefficient\": 1.0}]}, \"5\": {\"name\": \"2.5.1.19_RXN_c\", \"bigg_id\": \"2.5.1.19_RXN_c\", \"reversibility\": true, \"label_x\": 3449.0, \"label_y\": 45.0, \"gene_reaction_rule\": \"\", \"genes\": [], \"segments\": {\"31\": {\"from_node_id\": \"37\", \"to_node_id\": \"38\", \"b1\": null, \"b2\": null}, \"32\": {\"from_node_id\": \"39\", \"to_node_id\": \"38\", \"b1\": null, \"b2\": null}, \"33\": {\"from_node_id\": \"28\", \"to_node_id\": \"37\", \"b1\": null, \"b2\": null}, \"34\": {\"from_node_id\": \"34\", \"to_node_id\": \"37\", \"b1\": null, \"b2\": null}, \"35\": {\"from_node_id\": \"35\", \"to_node_id\": \"39\", \"b1\": null, \"b2\": null}, \"36\": {\"from_node_id\": \"36\", \"to_node_id\": \"39\", \"b1\": null, \"b2\": null}}, \"metabolites\": [{\"bigg_id\": \"SHIKIMATE_5P_c\", \"coefficient\": -1.0}, {\"bigg_id\": \"pep_c\", \"coefficient\": -1.0}, {\"bigg_id\": \"3_ENOLPYRUVYL_SHIKIMATE_5P_c\", \"coefficient\": 1.0}, {\"bigg_id\": \"pi_c\", \"coefficient\": 1.0}]}, \"6\": {\"name\": \"CHORISMATE_SYNTHASE_RXN_c\", \"bigg_id\": \"CHORISMATE_SYNTHASE_RXN_c\", \"reversibility\": true, \"label_x\": 4000.0, \"label_y\": 45.0, \"gene_reaction_rule\": \"\", \"genes\": [], \"segments\": {\"37\": {\"from_node_id\": \"42\", \"to_node_id\": \"43\", \"b1\": null, \"b2\": null}, \"38\": {\"from_node_id\": \"44\", \"to_node_id\": \"43\", \"b1\": null, \"b2\": null}, \"39\": {\"from_node_id\": \"35\", \"to_node_id\": \"42\", \"b1\": null, \"b2\": null}, \"40\": {\"from_node_id\": \"40\", \"to_node_id\": \"44\", \"b1\": null, \"b2\": null}, \"41\": {\"from_node_id\": \"41\", \"to_node_id\": \"44\", \"b1\": null, \"b2\": null}}, \"metabolites\": [{\"bigg_id\": \"3_ENOLPYRUVYL_SHIKIMATE_5P_c\", \"coefficient\": -1.0}, {\"bigg_id\": \"CHORISMATE_c\", \"coefficient\": 1.0}, {\"bigg_id\": \"pi_c\", \"coefficient\": 1.0}]}}, \"nodes\": {\"0\": {\"node_type\": \"metabolite\", \"x\": 30.0, \"y\": 112.5, \"label_x\": 0.0, \"label_y\": 92.5, \"bigg_id\": \"e4p_c\", \"name\": \"e4p_c\", \"node_is_primary\": false}, \"1\": {\"node_type\": \"metabolite\", \"x\": 30.0, \"y\": 225.0, \"label_x\": 0.0, \"label_y\": 205.0, \"bigg_id\": \"h2o_c\", \"name\": \"h2o_c\", \"node_is_primary\": false}, \"2\": {\"node_type\": \"metabolite\", \"x\": 30.0, \"y\": 337.5, \"label_x\": 0.0, \"label_y\": 317.5, \"bigg_id\": \"pep_c\", \"name\": \"pep_c\", \"node_is_primary\": false}, \"3\": {\"node_type\": \"metabolite\", \"x\": 550.0, \"y\": 150.0, \"label_x\": 520.0, \"label_y\": 130.0, \"bigg_id\": \"3_DEOXY_D_ARABINO_HEPTULOSONATE_7_P_c\", \"name\": \"3_DEOXY_D_ARABINO_HEPTULOSONATE_7_P_c\", \"node_is_primary\": false}, \"4\": {\"node_type\": \"metabolite\", \"x\": 550.0, \"y\": 300.0, \"label_x\": 520.0, \"label_y\": 280.0, \"bigg_id\": \"pi_c\", \"name\": \"pi_c\", \"node_is_primary\": false}, \"5\": {\"node_type\": \"multimarker\", \"x\": 335.0, \"y\": 225.0}, \"6\": {\"node_type\": \"midmarker\", \"x\": 355.0, \"y\": 225.0}, \"7\": {\"node_type\": \"multimarker\", \"x\": 375.0, \"y\": 225.0}, \"8\": {\"node_type\": \"metabolite\", \"x\": 1200.0, \"y\": 150.0, \"label_x\": 1170.0, \"label_y\": 130.0, \"bigg_id\": \"DEHYDROQUINATE_c\", \"name\": \"DEHYDROQUINATE_c\", \"node_is_primary\": false}, \"9\": {\"node_type\": \"metabolite\", \"x\": 1200.0, \"y\": 300.0, \"label_x\": 1170.0, \"label_y\": 280.0, \"bigg_id\": \"pi_c\", \"name\": \"pi_c\", \"node_is_primary\": false}, \"10\": {\"node_type\": \"multimarker\", \"x\": 985.0, \"y\": 225.0}, \"11\": {\"node_type\": \"midmarker\", \"x\": 1005.0, \"y\": 225.0}, \"12\": {\"node_type\": \"multimarker\", \"x\": 1025.0, \"y\": 225.0}, \"13\": {\"node_type\": \"metabolite\", \"x\": 1850.0, \"y\": 150.0, \"label_x\": 1820.0, \"label_y\": 130.0, \"bigg_id\": \"3_DEHYDRO_SHIKIMATE_c\", \"name\": \"3_DEHYDRO_SHIKIMATE_c\", \"node_is_primary\": false}, \"14\": {\"node_type\": \"metabolite\", \"x\": 1850.0, \"y\": 300.0, \"label_x\": 1820.0, \"label_y\": 280.0, \"bigg_id\": \"h2o_c\", \"name\": \"h2o_c\", \"node_is_primary\": false}, \"15\": {\"node_type\": \"multimarker\", \"x\": 1635.0, \"y\": 225.0}, \"16\": {\"node_type\": \"midmarker\", \"x\": 1655.0, \"y\": 225.0}, \"17\": {\"node_type\": \"multimarker\", \"x\": 1675.0, \"y\": 225.0}, \"18\": {\"node_type\": \"metabolite\", \"x\": 1980.0, \"y\": 150.0, \"label_x\": 1950.0, \"label_y\": 130.0, \"bigg_id\": \"SHIKIMATE_c\", \"name\": \"SHIKIMATE_c\", \"node_is_primary\": false}, \"19\": {\"node_type\": \"metabolite\", \"x\": 1980.0, \"y\": 300.0, \"label_x\": 1950.0, \"label_y\": 280.0, \"bigg_id\": \"nadp_c\", \"name\": \"nadp_c\", \"node_is_primary\": false}, \"20\": {\"node_type\": \"metabolite\", \"x\": 2500.0, \"y\": 112.5, \"label_x\": 2470.0, \"label_y\": 92.5, \"bigg_id\": \"3_DEHYDRO_SHIKIMATE_c\", \"name\": \"3_DEHYDRO_SHIKIMATE_c\", \"node_is_primary\": false}, \"21\": {\"node_type\": \"metabolite\", \"x\": 2500.0, \"y\": 225.0, \"label_x\": 2470.0, \"label_y\": 205.0, \"bigg_id\": \"h_c\", \"name\": \"h_c\", \"node_is_primary\": false}, \"22\": {\"node_type\": \"metabolite\", \"x\": 2500.0, \"y\": 337.5, \"label_x\": 2470.0, \"label_y\": 317.5, \"bigg_id\": \"nadph_c\", \"name\": \"nadph_c\", \"node_is_primary\": false}, \"23\": {\"node_type\": \"multimarker\", \"x\": 2285.0, \"y\": 225.0}, \"24\": {\"node_type\": \"midmarker\", \"x\": 2305.0, \"y\": 225.0}, \"25\": {\"node_type\": \"multimarker\", \"x\": 2325.0, \"y\": 225.0}, \"26\": {\"node_type\": \"metabolite\", \"x\": 2630.0, \"y\": 150.0, \"label_x\": 2600.0, \"label_y\": 130.0, \"bigg_id\": \"SHIKIMATE_c\", \"name\": \"SHIKIMATE_c\", \"node_is_primary\": false}, \"27\": {\"node_type\": \"metabolite\", \"x\": 2630.0, \"y\": 300.0, \"label_x\": 2600.0, \"label_y\": 280.0, \"bigg_id\": \"atp_c\", \"name\": \"atp_c\", \"node_is_primary\": false}, \"28\": {\"node_type\": \"metabolite\", \"x\": 3150.0, \"y\": 112.5, \"label_x\": 3120.0, \"label_y\": 92.5, \"bigg_id\": \"SHIKIMATE_5P_c\", \"name\": \"SHIKIMATE_5P_c\", \"node_is_primary\": false}, \"29\": {\"node_type\": \"metabolite\", \"x\": 3150.0, \"y\": 225.0, \"label_x\": 3120.0, \"label_y\": 205.0, \"bigg_id\": \"adp_c\", \"name\": \"adp_c\", \"node_is_primary\": false}, \"30\": {\"node_type\": \"metabolite\", \"x\": 3150.0, \"y\": 337.5, \"label_x\": 3120.0, \"label_y\": 317.5, \"bigg_id\": \"h_c\", \"name\": \"h_c\", \"node_is_primary\": false}, \"31\": {\"node_type\": \"multimarker\", \"x\": 2935.0, \"y\": 225.0}, \"32\": {\"node_type\": \"midmarker\", \"x\": 2955.0, \"y\": 225.0}, \"33\": {\"node_type\": \"multimarker\", \"x\": 2975.0, \"y\": 225.0}, \"34\": {\"node_type\": \"metabolite\", \"x\": 3280.0, \"y\": 300.0, \"label_x\": 3250.0, \"label_y\": 280.0, \"bigg_id\": \"pep_c\", \"name\": \"pep_c\", \"node_is_primary\": false}, \"35\": {\"node_type\": \"metabolite\", \"x\": 3800.0, \"y\": 150.0, \"label_x\": 3770.0, \"label_y\": 130.0, \"bigg_id\": \"3_ENOLPYRUVYL_SHIKIMATE_5P_c\", \"name\": \"3_ENOLPYRUVYL_SHIKIMATE_5P_c\", \"node_is_primary\": false}, \"36\": {\"node_type\": \"metabolite\", \"x\": 3800.0, \"y\": 300.0, \"label_x\": 3770.0, \"label_y\": 280.0, \"bigg_id\": \"pi_c\", \"name\": \"pi_c\", \"node_is_primary\": false}, \"37\": {\"node_type\": \"multimarker\", \"x\": 3585.0, \"y\": 225.0}, \"38\": {\"node_type\": \"midmarker\", \"x\": 3605.0, \"y\": 225.0}, \"39\": {\"node_type\": \"multimarker\", \"x\": 3625.0, \"y\": 225.0}, \"40\": {\"node_type\": \"metabolite\", \"x\": 4450.0, \"y\": 150.0, \"label_x\": 4420.0, \"label_y\": 130.0, \"bigg_id\": \"CHORISMATE_c\", \"name\": \"CHORISMATE_c\", \"node_is_primary\": false}, \"41\": {\"node_type\": \"metabolite\", \"x\": 4450.0, \"y\": 300.0, \"label_x\": 4420.0, \"label_y\": 280.0, \"bigg_id\": \"pi_c\", \"name\": \"pi_c\", \"node_is_primary\": false}, \"42\": {\"node_type\": \"multimarker\", \"x\": 4235.0, \"y\": 225.0}, \"43\": {\"node_type\": \"midmarker\", \"x\": 4255.0, \"y\": 225.0}, \"44\": {\"node_type\": \"multimarker\", \"x\": 4275.0, \"y\": 225.0}}, \"text_labels\": {}, \"canvas\": {\"x\": 0, \"y\": 0, \"width\": 4550, \"height\": 450}}]",
       "_loaded_model_json": null,
       "allow_building_duplicate_reactions": false,
       "and_method_in_gene_reaction_rule": "mean",
       "canvas_size_and_loc": null,
       "cofactors": [
        "atp",
        "adp",
        "nad",
        "nadh",
        "nadp",
        "nadph",
        "gtp",
        "gdp",
        "h",
        "coa",
        "ump",
        "h2o",
        "ppi"
       ],
       "disabled_buttons": [
        "Clear reaction data",
        "Clear gene data",
        "Clear metabolite data"
       ],
       "embedded_css": null,
       "enable_editing": true,
       "enable_keys": false,
       "enable_keys_with_tooltip": true,
       "enable_search": true,
       "enable_tooltips": false,
       "full_screen_button": {
        "enable_editing": true,
        "enable_keys": true,
        "enable_tooltips": [
         "label"
        ],
        "menu": "all",
        "scroll_behavior": "pan"
       },
       "gene_data": null,
       "gene_font_size": 18,
       "height": 500,
       "hide_all_labels": false,
       "hide_secondary_metabolites": false,
       "highlight_missing": false,
       "identifiers_on_map": "bigg_id",
       "layout": "IPY_MODEL_c5b459d4440743e29a399ec56cef2eb0",
       "marker_radius": 5,
       "menu": "all",
       "metabolite_compare_style": "log2_fold",
       "metabolite_data": null,
       "metabolite_no_data_color": "#ffffff",
       "metabolite_no_data_size": 10,
       "metabolite_scale": [
        {
         "color": "#fffaf0",
         "size": 20,
         "type": "min"
        },
        {
         "color": "#f1c470",
         "size": 30,
         "type": "median"
        },
        {
         "color": "#800000",
         "size": 40,
         "type": "max"
        }
       ],
       "metabolite_scale_preset": "WhYlRd",
       "metabolite_styles": [
        "color",
        "size",
        "text"
       ],
       "never_ask_before_quit": true,
       "primary_metabolite_radius": 20,
       "reaction_compare_style": "log2_fold",
       "reaction_data": null,
       "reaction_no_data_color": "#dcdcdc",
       "reaction_no_data_size": 8,
       "reaction_scale": {},
       "reaction_scale_preset": null,
       "reaction_styles": [
        "color",
        "text"
       ],
       "scroll_behavior": "none",
       "secondary_metabolite_radius": 10,
       "semantic_zoom": null,
       "show_gene_reaction_rules": false,
       "starting_reaction": null,
       "use_3d_transform": false,
       "zoom_to_element": null
      }
     },
     "e349a2d82a254bd8a4d4e5145893f12f": {
      "model_module": "@jupyter-widgets/base",
      "model_module_version": "1.2.0",
      "model_name": "LayoutModel",
      "state": {}
     },
     "e814b649f5a84b3990ec0112d31bb37b": {
      "model_module": "escher",
      "model_module_version": "1.7.3",
      "model_name": "EscherMapModel",
      "state": {
       "_loaded_map_json": "[{\"map_name\": \"\", \"map_id\": \"\", \"map_description\": \"\", \"homepage\": \"\", \"schema\": \"https://escher.github.io/escher/jsonschema/1-0-0#\"}, {\"reactions\": {\"0\": {\"name\": \"DAHPSYN_RXN_c\", \"bigg_id\": \"DAHPSYN_RXN_c\", \"reversibility\": true, \"label_x\": 265.0, \"label_y\": 325.0, \"gene_reaction_rule\": \"\", \"genes\": [], \"segments\": {\"0\": {\"from_node_id\": \"5\", \"to_node_id\": \"6\", \"b1\": null, \"b2\": null}, \"1\": {\"from_node_id\": \"7\", \"to_node_id\": \"6\", \"b1\": null, \"b2\": null}, \"2\": {\"from_node_id\": \"0\", \"to_node_id\": \"5\", \"b1\": null, \"b2\": null}, \"3\": {\"from_node_id\": \"1\", \"to_node_id\": \"5\", \"b1\": null, \"b2\": null}, \"4\": {\"from_node_id\": \"2\", \"to_node_id\": \"5\", \"b1\": null, \"b2\": null}, \"5\": {\"from_node_id\": \"3\", \"to_node_id\": \"7\", \"b1\": null, \"b2\": null}, \"6\": {\"from_node_id\": \"4\", \"to_node_id\": \"7\", \"b1\": null, \"b2\": null}}, \"metabolites\": [{\"bigg_id\": \"e4p_c\", \"coefficient\": -1.0}, {\"bigg_id\": \"h2o_c\", \"coefficient\": -1.0}, {\"bigg_id\": \"pep_c\", \"coefficient\": -1.0}, {\"bigg_id\": \"3_DEOXY_D_ARABINO_HEPTULOSONATE_7_P_c\", \"coefficient\": 1.0}, {\"bigg_id\": \"pi_c\", \"coefficient\": 1.0}]}, \"1\": {\"name\": \"3_DEHYDROQUINATE_SYNTHASE_RXN_c\", \"bigg_id\": \"3_DEHYDROQUINATE_SYNTHASE_RXN_c\", \"reversibility\": true, \"label_x\": 265.0, \"label_y\": 975.0, \"gene_reaction_rule\": \"\", \"genes\": [], \"segments\": {\"7\": {\"from_node_id\": \"10\", \"to_node_id\": \"11\", \"b1\": null, \"b2\": null}, \"8\": {\"from_node_id\": \"12\", \"to_node_id\": \"11\", \"b1\": null, \"b2\": null}, \"9\": {\"from_node_id\": \"3\", \"to_node_id\": \"10\", \"b1\": null, \"b2\": null}, \"10\": {\"from_node_id\": \"8\", \"to_node_id\": \"12\", \"b1\": null, \"b2\": null}, \"11\": {\"from_node_id\": \"9\", \"to_node_id\": \"12\", \"b1\": null, \"b2\": null}}, \"metabolites\": [{\"bigg_id\": \"3_DEOXY_D_ARABINO_HEPTULOSONATE_7_P_c\", \"coefficient\": -1.0}, {\"bigg_id\": \"DEHYDROQUINATE_c\", \"coefficient\": 1.0}, {\"bigg_id\": \"pi_c\", \"coefficient\": 1.0}]}, \"2\": {\"name\": \"3_DEHYDROQUINATE_DEHYDRATASE_RXN_c\", \"bigg_id\": \"3_DEHYDROQUINATE_DEHYDRATASE_RXN_c\", \"reversibility\": true, \"label_x\": 265.0, \"label_y\": 1625.0, \"gene_reaction_rule\": \"\", \"genes\": [], \"segments\": {\"12\": {\"from_node_id\": \"15\", \"to_node_id\": \"16\", \"b1\": null, \"b2\": null}, \"13\": {\"from_node_id\": \"17\", \"to_node_id\": \"16\", \"b1\": null, \"b2\": null}, \"14\": {\"from_node_id\": \"8\", \"to_node_id\": \"15\", \"b1\": null, \"b2\": null}, \"15\": {\"from_node_id\": \"13\", \"to_node_id\": \"17\", \"b1\": null, \"b2\": null}, \"16\": {\"from_node_id\": \"14\", \"to_node_id\": \"17\", \"b1\": null, \"b2\": null}}, \"metabolites\": [{\"bigg_id\": \"DEHYDROQUINATE_c\", \"coefficient\": -1.0}, {\"bigg_id\": \"3_DEHYDRO_SHIKIMATE_c\", \"coefficient\": 1.0}, {\"bigg_id\": \"h2o_c\", \"coefficient\": 1.0}]}, \"3\": {\"name\": \"SHIKIMATE_5_DEHYDROGENASE_RXN_c\", \"bigg_id\": \"SHIKIMATE_5_DEHYDROGENASE_RXN_c\", \"reversibility\": true, \"label_x\": 265.0, \"label_y\": 2275.0, \"gene_reaction_rule\": \"\", \"genes\": [], \"segments\": {\"17\": {\"from_node_id\": \"23\", \"to_node_id\": \"24\", \"b1\": null, \"b2\": null}, \"18\": {\"from_node_id\": \"25\", \"to_node_id\": \"24\", \"b1\": null, \"b2\": null}, \"19\": {\"from_node_id\": \"18\", \"to_node_id\": \"23\", \"b1\": null, \"b2\": null}, \"20\": {\"from_node_id\": \"19\", \"to_node_id\": \"23\", \"b1\": null, \"b2\": null}, \"21\": {\"from_node_id\": \"20\", \"to_node_id\": \"25\", \"b1\": null, \"b2\": null}, \"22\": {\"from_node_id\": \"21\", \"to_node_id\": \"25\", \"b1\": null, \"b2\": null}, \"23\": {\"from_node_id\": \"22\", \"to_node_id\": \"25\", \"b1\": null, \"b2\": null}}, \"metabolites\": [{\"bigg_id\": \"SHIKIMATE_c\", \"coefficient\": -1.0}, {\"bigg_id\": \"nadp_c\", \"coefficient\": -1.0}, {\"bigg_id\": \"3_DEHYDRO_SHIKIMATE_c\", \"coefficient\": 1.0}, {\"bigg_id\": \"h_c\", \"coefficient\": 1.0}, {\"bigg_id\": \"nadph_c\", \"coefficient\": 1.0}]}, \"4\": {\"name\": \"SHIKIMATE_KINASE_RXN_c\", \"bigg_id\": \"SHIKIMATE_KINASE_RXN_c\", \"reversibility\": true, \"label_x\": 265.0, \"label_y\": 2925.0, \"gene_reaction_rule\": \"\", \"genes\": [], \"segments\": {\"24\": {\"from_node_id\": \"31\", \"to_node_id\": \"32\", \"b1\": null, \"b2\": null}, \"25\": {\"from_node_id\": \"33\", \"to_node_id\": \"32\", \"b1\": null, \"b2\": null}, \"26\": {\"from_node_id\": \"26\", \"to_node_id\": \"31\", \"b1\": null, \"b2\": null}, \"27\": {\"from_node_id\": \"27\", \"to_node_id\": \"31\", \"b1\": null, \"b2\": null}, \"28\": {\"from_node_id\": \"28\", \"to_node_id\": \"33\", \"b1\": null, \"b2\": null}, \"29\": {\"from_node_id\": \"29\", \"to_node_id\": \"33\", \"b1\": null, \"b2\": null}, \"30\": {\"from_node_id\": \"30\", \"to_node_id\": \"33\", \"b1\": null, \"b2\": null}}, \"metabolites\": [{\"bigg_id\": \"SHIKIMATE_c\", \"coefficient\": -1.0}, {\"bigg_id\": \"atp_c\", \"coefficient\": -1.0}, {\"bigg_id\": \"SHIKIMATE_5P_c\", \"coefficient\": 1.0}, {\"bigg_id\": \"adp_c\", \"coefficient\": 1.0}, {\"bigg_id\": \"h_c\", \"coefficient\": 1.0}]}, \"5\": {\"name\": \"2.5.1.19_RXN_c\", \"bigg_id\": \"2.5.1.19_RXN_c\", \"reversibility\": true, \"label_x\": 265.0, \"label_y\": 3575.0, \"gene_reaction_rule\": \"\", \"genes\": [], \"segments\": {\"31\": {\"from_node_id\": \"37\", \"to_node_id\": \"38\", \"b1\": null, \"b2\": null}, \"32\": {\"from_node_id\": \"39\", \"to_node_id\": \"38\", \"b1\": null, \"b2\": null}, \"33\": {\"from_node_id\": \"28\", \"to_node_id\": \"37\", \"b1\": null, \"b2\": null}, \"34\": {\"from_node_id\": \"34\", \"to_node_id\": \"37\", \"b1\": null, \"b2\": null}, \"35\": {\"from_node_id\": \"35\", \"to_node_id\": \"39\", \"b1\": null, \"b2\": null}, \"36\": {\"from_node_id\": \"36\", \"to_node_id\": \"39\", \"b1\": null, \"b2\": null}}, \"metabolites\": [{\"bigg_id\": \"SHIKIMATE_5P_c\", \"coefficient\": -1.0}, {\"bigg_id\": \"pep_c\", \"coefficient\": -1.0}, {\"bigg_id\": \"3_ENOLPYRUVYL_SHIKIMATE_5P_c\", \"coefficient\": 1.0}, {\"bigg_id\": \"pi_c\", \"coefficient\": 1.0}]}, \"6\": {\"name\": \"CHORISMATE_SYNTHASE_RXN_c\", \"bigg_id\": \"CHORISMATE_SYNTHASE_RXN_c\", \"reversibility\": true, \"label_x\": 265.0, \"label_y\": 4225.0, \"gene_reaction_rule\": \"\", \"genes\": [], \"segments\": {\"37\": {\"from_node_id\": \"42\", \"to_node_id\": \"43\", \"b1\": null, \"b2\": null}, \"38\": {\"from_node_id\": \"44\", \"to_node_id\": \"43\", \"b1\": null, \"b2\": null}, \"39\": {\"from_node_id\": \"35\", \"to_node_id\": \"42\", \"b1\": null, \"b2\": null}, \"40\": {\"from_node_id\": \"40\", \"to_node_id\": \"44\", \"b1\": null, \"b2\": null}, \"41\": {\"from_node_id\": \"41\", \"to_node_id\": \"44\", \"b1\": null, \"b2\": null}}, \"metabolites\": [{\"bigg_id\": \"3_ENOLPYRUVYL_SHIKIMATE_5P_c\", \"coefficient\": -1.0}, {\"bigg_id\": \"CHORISMATE_c\", \"coefficient\": 1.0}, {\"bigg_id\": \"pi_c\", \"coefficient\": 1.0}]}}, \"nodes\": {\"0\": {\"node_type\": \"metabolite\", \"x\": 112.5, \"y\": 30.0, \"label_x\": 122.5, \"label_y\": 20.0, \"bigg_id\": \"e4p_c\", \"name\": \"e4p_c\", \"node_is_primary\": false}, \"1\": {\"node_type\": \"metabolite\", \"x\": 225.0, \"y\": 30.0, \"label_x\": 235.0, \"label_y\": 20.0, \"bigg_id\": \"h2o_c\", \"name\": \"h2o_c\", \"node_is_primary\": false}, \"2\": {\"node_type\": \"metabolite\", \"x\": 337.5, \"y\": 30.0, \"label_x\": 347.5, \"label_y\": 20.0, \"bigg_id\": \"pep_c\", \"name\": \"pep_c\", \"node_is_primary\": false}, \"3\": {\"node_type\": \"metabolite\", \"x\": 150.0, \"y\": 550.0, \"label_x\": 160.0, \"label_y\": 580.0, \"bigg_id\": \"3_DEOXY_D_ARABINO_HEPTULOSONATE_7_P_c\", \"name\": \"3_DEOXY_D_ARABINO_HEPTULOSONATE_7_P_c\", \"node_is_primary\": false}, \"4\": {\"node_type\": \"metabolite\", \"x\": 300.0, \"y\": 550.0, \"label_x\": 310.0, \"label_y\": 580.0, \"bigg_id\": \"pi_c\", \"name\": \"pi_c\", \"node_is_primary\": false}, \"5\": {\"node_type\": \"multimarker\", \"x\": 225.0, \"y\": 305.0}, \"6\": {\"node_type\": \"midmarker\", \"x\": 225.0, \"y\": 325.0}, \"7\": {\"node_type\": \"multimarker\", \"x\": 225.0, \"y\": 345.0}, \"8\": {\"node_type\": \"metabolite\", \"x\": 150.0, \"y\": 1200.0, \"label_x\": 160.0, \"label_y\": 1230.0, \"bigg_id\": \"DEHYDROQUINATE_c\", \"name\": \"DEHYDROQUINATE_c\", \"node_is_primary\": false}, \"9\": {\"node_type\": \"metabolite\", \"x\": 300.0, \"y\": 1200.0, \"label_x\": 310.0, \"label_y\": 1230.0, \"bigg_id\": \"pi_c\", \"name\": \"pi_c\", \"node_is_primary\": false}, \"10\": {\"node_type\": \"multimarker\", \"x\": 225.0, \"y\": 955.0}, \"11\": {\"node_type\": \"midmarker\", \"x\": 225.0, \"y\": 975.0}, \"12\": {\"node_type\": \"multimarker\", \"x\": 225.0, \"y\": 995.0}, \"13\": {\"node_type\": \"metabolite\", \"x\": 150.0, \"y\": 1850.0, \"label_x\": 160.0, \"label_y\": 1880.0, \"bigg_id\": \"3_DEHYDRO_SHIKIMATE_c\", \"name\": \"3_DEHYDRO_SHIKIMATE_c\", \"node_is_primary\": false}, \"14\": {\"node_type\": \"metabolite\", \"x\": 300.0, \"y\": 1850.0, \"label_x\": 310.0, \"label_y\": 1880.0, \"bigg_id\": \"h2o_c\", \"name\": \"h2o_c\", \"node_is_primary\": false}, \"15\": {\"node_type\": \"multimarker\", \"x\": 225.0, \"y\": 1605.0}, \"16\": {\"node_type\": \"midmarker\", \"x\": 225.0, \"y\": 1625.0}, \"17\": {\"node_type\": \"multimarker\", \"x\": 225.0, \"y\": 1645.0}, \"18\": {\"node_type\": \"metabolite\", \"x\": 150.0, \"y\": 1980.0, \"label_x\": 160.0, \"label_y\": 1970.0, \"bigg_id\": \"SHIKIMATE_c\", \"name\": \"SHIKIMATE_c\", \"node_is_primary\": false}, \"19\": {\"node_type\": \"metabolite\", \"x\": 300.0, \"y\": 1980.0, \"label_x\": 310.0, \"label_y\": 1970.0, \"bigg_id\": \"nadp_c\", \"name\": \"nadp_c\", \"node_is_primary\": false}, \"20\": {\"node_type\": \"metabolite\", \"x\": 112.5, \"y\": 2500.0, \"label_x\": 122.5, \"label_y\": 2530.0, \"bigg_id\": \"3_DEHYDRO_SHIKIMATE_c\", \"name\": \"3_DEHYDRO_SHIKIMATE_c\", \"node_is_primary\": false}, \"21\": {\"node_type\": \"metabolite\", \"x\": 225.0, \"y\": 2500.0, \"label_x\": 235.0, \"label_y\": 2530.0, \"bigg_id\": \"h_c\", \"name\": \"h_c\", \"node_is_primary\": false}, \"22\": {\"node_type\": \"metabolite\", \"x\": 337.5, \"y\": 2500.0, \"label_x\": 347.5, \"label_y\": 2530.0, \"bigg_id\": \"nadph_c\", \"name\": \"nadph_c\", \"node_is_primary\": false}, \"23\": {\"node_type\": \"multimarker\", \"x\": 225.0, \"y\": 2255.0}, \"24\": {\"node_type\": \"midmarker\", \"x\": 225.0, \"y\": 2275.0}, \"25\": {\"node_type\": \"multimarker\", \"x\": 225.0, \"y\": 2295.0}, \"26\": {\"node_type\": \"metabolite\", \"x\": 150.0, \"y\": 2630.0, \"label_x\": 160.0, \"label_y\": 2620.0, \"bigg_id\": \"SHIKIMATE_c\", \"name\": \"SHIKIMATE_c\", \"node_is_primary\": false}, \"27\": {\"node_type\": \"metabolite\", \"x\": 300.0, \"y\": 2630.0, \"label_x\": 310.0, \"label_y\": 2620.0, \"bigg_id\": \"atp_c\", \"name\": \"atp_c\", \"node_is_primary\": false}, \"28\": {\"node_type\": \"metabolite\", \"x\": 112.5, \"y\": 3150.0, \"label_x\": 122.5, \"label_y\": 3180.0, \"bigg_id\": \"SHIKIMATE_5P_c\", \"name\": \"SHIKIMATE_5P_c\", \"node_is_primary\": false}, \"29\": {\"node_type\": \"metabolite\", \"x\": 225.0, \"y\": 3150.0, \"label_x\": 235.0, \"label_y\": 3180.0, \"bigg_id\": \"adp_c\", \"name\": \"adp_c\", \"node_is_primary\": false}, \"30\": {\"node_type\": \"metabolite\", \"x\": 337.5, \"y\": 3150.0, \"label_x\": 347.5, \"label_y\": 3180.0, \"bigg_id\": \"h_c\", \"name\": \"h_c\", \"node_is_primary\": false}, \"31\": {\"node_type\": \"multimarker\", \"x\": 225.0, \"y\": 2905.0}, \"32\": {\"node_type\": \"midmarker\", \"x\": 225.0, \"y\": 2925.0}, \"33\": {\"node_type\": \"multimarker\", \"x\": 225.0, \"y\": 2945.0}, \"34\": {\"node_type\": \"metabolite\", \"x\": 300.0, \"y\": 3280.0, \"label_x\": 310.0, \"label_y\": 3270.0, \"bigg_id\": \"pep_c\", \"name\": \"pep_c\", \"node_is_primary\": false}, \"35\": {\"node_type\": \"metabolite\", \"x\": 150.0, \"y\": 3800.0, \"label_x\": 160.0, \"label_y\": 3830.0, \"bigg_id\": \"3_ENOLPYRUVYL_SHIKIMATE_5P_c\", \"name\": \"3_ENOLPYRUVYL_SHIKIMATE_5P_c\", \"node_is_primary\": false}, \"36\": {\"node_type\": \"metabolite\", \"x\": 300.0, \"y\": 3800.0, \"label_x\": 310.0, \"label_y\": 3830.0, \"bigg_id\": \"pi_c\", \"name\": \"pi_c\", \"node_is_primary\": false}, \"37\": {\"node_type\": \"multimarker\", \"x\": 225.0, \"y\": 3555.0}, \"38\": {\"node_type\": \"midmarker\", \"x\": 225.0, \"y\": 3575.0}, \"39\": {\"node_type\": \"multimarker\", \"x\": 225.0, \"y\": 3595.0}, \"40\": {\"node_type\": \"metabolite\", \"x\": 150.0, \"y\": 4450.0, \"label_x\": 160.0, \"label_y\": 4480.0, \"bigg_id\": \"CHORISMATE_c\", \"name\": \"CHORISMATE_c\", \"node_is_primary\": false}, \"41\": {\"node_type\": \"metabolite\", \"x\": 300.0, \"y\": 4450.0, \"label_x\": 310.0, \"label_y\": 4480.0, \"bigg_id\": \"pi_c\", \"name\": \"pi_c\", \"node_is_primary\": false}, \"42\": {\"node_type\": \"multimarker\", \"x\": 225.0, \"y\": 4205.0}, \"43\": {\"node_type\": \"midmarker\", \"x\": 225.0, \"y\": 4225.0}, \"44\": {\"node_type\": \"multimarker\", \"x\": 225.0, \"y\": 4245.0}}, \"text_labels\": {}, \"canvas\": {\"x\": 0, \"y\": 0, \"width\": 450, \"height\": 4550}}]",
       "_loaded_model_json": null,
       "allow_building_duplicate_reactions": false,
       "and_method_in_gene_reaction_rule": "mean",
       "canvas_size_and_loc": null,
       "cofactors": [
        "atp",
        "adp",
        "nad",
        "nadh",
        "nadp",
        "nadph",
        "gtp",
        "gdp",
        "h",
        "coa",
        "ump",
        "h2o",
        "ppi"
       ],
       "disabled_buttons": [
        "Clear gene data",
        "Clear metabolite data"
       ],
       "embedded_css": null,
       "enable_editing": true,
       "enable_keys": false,
       "enable_keys_with_tooltip": true,
       "enable_search": true,
       "enable_tooltips": false,
       "full_screen_button": {
        "enable_editing": true,
        "enable_keys": true,
        "enable_tooltips": [
         "label"
        ],
        "menu": "all",
        "scroll_behavior": "pan"
       },
       "gene_data": null,
       "gene_font_size": 18,
       "height": 500,
       "hide_all_labels": false,
       "hide_secondary_metabolites": false,
       "highlight_missing": false,
       "identifiers_on_map": "bigg_id",
       "layout": "IPY_MODEL_ad774fc7c6d3418ca7987346ddc99bc8",
       "marker_radius": 5,
       "menu": "all",
       "metabolite_compare_style": "log2_fold",
       "metabolite_data": null,
       "metabolite_no_data_color": "#ffffff",
       "metabolite_no_data_size": 10,
       "metabolite_scale": [
        {
         "color": "#fffaf0",
         "size": 20,
         "type": "min"
        },
        {
         "color": "#f1c470",
         "size": 30,
         "type": "median"
        },
        {
         "color": "#800000",
         "size": 40,
         "type": "max"
        }
       ],
       "metabolite_scale_preset": "WhYlRd",
       "metabolite_styles": [
        "color",
        "size",
        "text"
       ],
       "never_ask_before_quit": true,
       "primary_metabolite_radius": 20,
       "reaction_compare_style": "log2_fold",
       "reaction_data": {
        "2.5.1.19_RXN_c": 0,
        "3_DEHYDROQUINATE_DEHYDRATASE_RXN_c": 0.022432673328561772,
        "3_DEHYDROQUINATE_SYNTHASE_RXN_c": 0.022432673328562934,
        "ACALD": -8.263038782423768,
        "ACALDt": 1.5948213258617017e-15,
        "ACKr": -8.486872578172065,
        "ACONTa": 0.22671429557222347,
        "ACONTb": 0.2267142955722235,
        "ACt2r": -8.486872578172065,
        "ADK1": 0,
        "AKGDH": 0,
        "AKGt2r": 0,
        "ALCD2x": -8.26303878242377,
        "ATPM": 8.39,
        "ATPS4r": -5.445436808740587,
        "Biomass_Ecoli_core": 0,
        "CHORISMATE_SYNTHASE_RXN_c": 0,
        "CO2t": 0.3759975646149865,
        "CS": 0.22671429557222347,
        "CYTBD": 0,
        "DAHPSYN_RXN_c": 0.022432673328562934,
        "D_LACt2": 0,
        "ENO": 19.0958486077154,
        "ETOHt2r": -8.26303878242377,
        "EX_ac_e": 8.486872578172065,
        "EX_acald_e": 0,
        "EX_akg_e": 0,
        "EX_co2_e": -0.3759975646149865,
        "EX_etoh_e": 8.26303878242377,
        "EX_for_e": 17.765321952504344,
        "EX_fru_e": 0,
        "EX_fum_e": 0,
        "EX_glc__D_e": -10,
        "EX_gln__L_e": 0,
        "EX_glu__L_e": 0,
        "EX_h2o_e": -7.061888032590192,
        "EX_h_e": 30.49543901631155,
        "EX_lac__D_e": 0,
        "EX_mal__L_e": 0,
        "EX_nh4_e": -1.1475007109937851,
        "EX_o2_e": 0,
        "EX_pi_e": -0.774154721525229,
        "EX_pyr_e": 0,
        "EX_succ_e": 0,
        "FBA": 9.783195315385212,
        "FBP": 0,
        "FORt2": 0,
        "FORti": 17.765321952504344,
        "FRD7": 0,
        "FRUpts2": 0,
        "FUM": 0,
        "FUMt2_2": 0,
        "G6PDH2r": 0,
        "GAPD": 19.41067054573746,
        "GLCpts": 10.000000000000002,
        "GLNS": 0.05381014007502777,
        "GLNabc": 0,
        "GLUDy": -1.093690570918758,
        "GLUN": 0,
        "GLUSy": 0,
        "GLUt2r": 1.4272675556251035e-15,
        "GND": 0,
        "H2Ot": 7.061888032590192,
        "ICDHyr": 0.2267142955722235,
        "ICL": 0,
        "LDH_D": 0,
        "MALS": 0,
        "MALt2_2": 0,
        "MDH": 2.2939216227163105e-15,
        "ME1": 0,
        "ME2": 0,
        "NADH16": 0,
        "NADTRHD": 0,
        "NH4t": 1.147500710993785,
        "O2t": 0,
        "PDH": 0,
        "PFK": 9.783195315385212,
        "PFL": 17.76532195250434,
        "PGI": 9.956859293252325,
        "PGK": -19.410670545737464,
        "PGL": 0,
        "PGM": -19.0958486077154,
        "PIt2r": 0.774154721525229,
        "PPC": 0.6027118601872098,
        "PPCK": 0,
        "PPS": 0,
        "PTAr": 8.486872578172065,
        "PYK": 8.361463387015633,
        "PYRt2": 0,
        "RPE": -0.15874360660657472,
        "RPI": -0.15874360660657458,
        "SA3_biomass": 0,
        "SHIKIMATE_5_DEHYDROGENASE_RXN_c": -0.022432673328564585,
        "SHIKIMATE_KINASE_RXN_c": 0,
        "SK_CHORISMATE_c": 0,
        "SUCCt2_2": 0,
        "SUCCt3": 0,
        "SUCDi": 0,
        "SUCOAS": 0,
        "TALA": -0.03017060045385774,
        "THD2": 3.631032428860685,
        "TKT1": -0.030170600453857284,
        "TKT2": -0.128573006152718,
        "TPI": 9.783195315385212,
        "W3110_biomass": 0.21052311090926515
       },
       "reaction_no_data_color": "#dcdcdc",
       "reaction_no_data_size": 8,
       "reaction_scale": [
        {
         "color": "rgb(207,207,222)",
         "type": "value",
         "value": 0.17647058823529413
        },
        {
         "color": "rgb(194,194,224)",
         "type": "value",
         "value": 0.35294117647058826
        },
        {
         "color": "rgb(181,181,226)",
         "type": "value",
         "value": 0.5294117647058824
        },
        {
         "color": "rgb(168,168,228)",
         "type": "value",
         "value": 0.7058823529411765
        },
        {
         "color": "rgb(155,155,230)",
         "type": "value",
         "value": 0.8823529411764707
        },
        {
         "color": "rgb(142,142,232)",
         "type": "value",
         "value": 1.0588235294117647
        },
        {
         "color": "rgb(129,129,234)",
         "type": "value",
         "value": 1.2352941176470589
        },
        {
         "color": "rgb(116,116,236)",
         "type": "value",
         "value": 1.411764705882353
        },
        {
         "color": "rgb(103,103,238)",
         "type": "value",
         "value": 1.5882352941176472
        },
        {
         "color": "rgb(90,90,240)",
         "type": "value",
         "value": 1.7647058823529413
        },
        {
         "color": "rgb(77,77,242)",
         "type": "value",
         "value": 1.9411764705882355
        },
        {
         "color": "rgb(64,64,244)",
         "type": "value",
         "value": 2.1176470588235294
        },
        {
         "color": "rgb(51,51,246)",
         "type": "value",
         "value": 2.2941176470588234
        },
        {
         "color": "rgb(38,38,248)",
         "type": "value",
         "value": 2.4705882352941178
        },
        {
         "color": "rgb(25,25,250)",
         "type": "value",
         "value": 2.6470588235294117
        },
        {
         "color": "rgb(12,12,252)",
         "type": "value",
         "value": 2.823529411764706
        },
        {
         "color": "rgb(0,0,254)",
         "type": "value",
         "value": 3
        },
        {
         "color": "rgb(220,220,220)",
         "type": "value",
         "value": 0
        },
        {
         "color": "rgb(223,200,200)",
         "type": "value",
         "value": -0.2727272727272727
        },
        {
         "color": "rgb(226,180,180)",
         "type": "value",
         "value": -0.5454545454545454
        },
        {
         "color": "rgb(229,160,160)",
         "type": "value",
         "value": -0.8181818181818182
        },
        {
         "color": "rgb(232,140,140)",
         "type": "value",
         "value": -1.090909090909091
        },
        {
         "color": "rgb(235,120,120)",
         "type": "value",
         "value": -1.3636363636363638
        },
        {
         "color": "rgb(239,100,100)",
         "type": "value",
         "value": -1.6363636363636365
        },
        {
         "color": "rgb(242,80,80)",
         "type": "value",
         "value": -1.9090909090909094
        },
        {
         "color": "rgb(245,60,60)",
         "type": "value",
         "value": -2.181818181818182
        },
        {
         "color": "rgb(248,40,40)",
         "type": "value",
         "value": -2.454545454545455
        },
        {
         "color": "rgb(251,20,20)",
         "type": "value",
         "value": -2.7272727272727275
        },
        {
         "color": "rgb(255,0,0)",
         "type": "value",
         "value": -3
        }
       ],
       "reaction_scale_preset": null,
       "reaction_styles": [
        "color",
        "text"
       ],
       "scroll_behavior": "none",
       "secondary_metabolite_radius": 10,
       "semantic_zoom": null,
       "show_gene_reaction_rules": false,
       "starting_reaction": null,
       "use_3d_transform": false,
       "zoom_to_element": null
      }
     },
     "f58caef6e1d8420eae75461ce4ec82bd": {
      "model_module": "@jupyter-widgets/base",
      "model_module_version": "1.2.0",
      "model_name": "LayoutModel",
      "state": {}
     },
     "f9c5da73ccb84bad8ed321b4d92a707e": {
      "model_module": "escher",
      "model_module_version": "1.7.3",
      "model_name": "EscherMapModel",
      "state": {
       "_loaded_map_json": "[{\"map_name\": \"\", \"map_id\": \"\", \"map_description\": \"\", \"homepage\": \"\", \"schema\": \"https://escher.github.io/escher/jsonschema/1-0-0#\"}, {\"reactions\": {\"0\": {\"name\": \"DAHPSYN_RXN_c\", \"bigg_id\": \"DAHPSYN_RXN_c\", \"reversibility\": true, \"label_x\": 208.0, \"label_y\": 45.0, \"gene_reaction_rule\": \"\", \"genes\": [], \"segments\": {\"0\": {\"from_node_id\": \"5\", \"to_node_id\": \"6\", \"b1\": null, \"b2\": null}, \"1\": {\"from_node_id\": \"7\", \"to_node_id\": \"6\", \"b1\": null, \"b2\": null}, \"2\": {\"from_node_id\": \"0\", \"to_node_id\": \"5\", \"b1\": null, \"b2\": null}, \"3\": {\"from_node_id\": \"1\", \"to_node_id\": \"5\", \"b1\": null, \"b2\": null}, \"4\": {\"from_node_id\": \"2\", \"to_node_id\": \"5\", \"b1\": null, \"b2\": null}, \"5\": {\"from_node_id\": \"3\", \"to_node_id\": \"7\", \"b1\": null, \"b2\": null}, \"6\": {\"from_node_id\": \"4\", \"to_node_id\": \"7\", \"b1\": null, \"b2\": null}}, \"metabolites\": [{\"bigg_id\": \"e4p_c\", \"coefficient\": -1.0}, {\"bigg_id\": \"h2o_c\", \"coefficient\": -1.0}, {\"bigg_id\": \"pep_c\", \"coefficient\": -1.0}, {\"bigg_id\": \"3_DEOXY_D_ARABINO_HEPTULOSONATE_7_P_c\", \"coefficient\": 1.0}, {\"bigg_id\": \"pi_c\", \"coefficient\": 1.0}]}, \"1\": {\"name\": \"3_DEHYDROQUINATE_SYNTHASE_RXN_c\", \"bigg_id\": \"3_DEHYDROQUINATE_SYNTHASE_RXN_c\", \"reversibility\": true, \"label_x\": 696.0, \"label_y\": 45.0, \"gene_reaction_rule\": \"\", \"genes\": [], \"segments\": {\"7\": {\"from_node_id\": \"10\", \"to_node_id\": \"11\", \"b1\": null, \"b2\": null}, \"8\": {\"from_node_id\": \"12\", \"to_node_id\": \"11\", \"b1\": null, \"b2\": null}, \"9\": {\"from_node_id\": \"3\", \"to_node_id\": \"10\", \"b1\": null, \"b2\": null}, \"10\": {\"from_node_id\": \"8\", \"to_node_id\": \"12\", \"b1\": null, \"b2\": null}, \"11\": {\"from_node_id\": \"9\", \"to_node_id\": \"12\", \"b1\": null, \"b2\": null}}, \"metabolites\": [{\"bigg_id\": \"3_DEOXY_D_ARABINO_HEPTULOSONATE_7_P_c\", \"coefficient\": -1.0}, {\"bigg_id\": \"DEHYDROQUINATE_c\", \"coefficient\": 1.0}, {\"bigg_id\": \"pi_c\", \"coefficient\": 1.0}]}, \"2\": {\"name\": \"3_DEHYDROQUINATE_DEHYDRATASE_RXN_c\", \"bigg_id\": \"3_DEHYDROQUINATE_DEHYDRATASE_RXN_c\", \"reversibility\": true, \"label_x\": 1319.0, \"label_y\": 45.0, \"gene_reaction_rule\": \"\", \"genes\": [], \"segments\": {\"12\": {\"from_node_id\": \"15\", \"to_node_id\": \"16\", \"b1\": null, \"b2\": null}, \"13\": {\"from_node_id\": \"17\", \"to_node_id\": \"16\", \"b1\": null, \"b2\": null}, \"14\": {\"from_node_id\": \"8\", \"to_node_id\": \"15\", \"b1\": null, \"b2\": null}, \"15\": {\"from_node_id\": \"13\", \"to_node_id\": \"17\", \"b1\": null, \"b2\": null}, \"16\": {\"from_node_id\": \"14\", \"to_node_id\": \"17\", \"b1\": null, \"b2\": null}}, \"metabolites\": [{\"bigg_id\": \"DEHYDROQUINATE_c\", \"coefficient\": -1.0}, {\"bigg_id\": \"3_DEHYDRO_SHIKIMATE_c\", \"coefficient\": 1.0}, {\"bigg_id\": \"h2o_c\", \"coefficient\": 1.0}]}, \"3\": {\"name\": \"SHIKIMATE_5_DEHYDROGENASE_RXN_c\", \"bigg_id\": \"SHIKIMATE_5_DEHYDROGENASE_RXN_c\", \"reversibility\": true, \"label_x\": 1996.0, \"label_y\": 45.0, \"gene_reaction_rule\": \"\", \"genes\": [], \"segments\": {\"17\": {\"from_node_id\": \"23\", \"to_node_id\": \"24\", \"b1\": null, \"b2\": null}, \"18\": {\"from_node_id\": \"25\", \"to_node_id\": \"24\", \"b1\": null, \"b2\": null}, \"19\": {\"from_node_id\": \"18\", \"to_node_id\": \"23\", \"b1\": null, \"b2\": null}, \"20\": {\"from_node_id\": \"19\", \"to_node_id\": \"23\", \"b1\": null, \"b2\": null}, \"21\": {\"from_node_id\": \"20\", \"to_node_id\": \"25\", \"b1\": null, \"b2\": null}, \"22\": {\"from_node_id\": \"21\", \"to_node_id\": \"25\", \"b1\": null, \"b2\": null}, \"23\": {\"from_node_id\": \"22\", \"to_node_id\": \"25\", \"b1\": null, \"b2\": null}}, \"metabolites\": [{\"bigg_id\": \"SHIKIMATE_c\", \"coefficient\": -1.0}, {\"bigg_id\": \"nadp_c\", \"coefficient\": -1.0}, {\"bigg_id\": \"3_DEHYDRO_SHIKIMATE_c\", \"coefficient\": 1.0}, {\"bigg_id\": \"h_c\", \"coefficient\": 1.0}, {\"bigg_id\": \"nadph_c\", \"coefficient\": 1.0}]}, \"4\": {\"name\": \"SHIKIMATE_KINASE_RXN_c\", \"bigg_id\": \"SHIKIMATE_KINASE_RXN_c\", \"reversibility\": true, \"label_x\": 2727.0, \"label_y\": 45.0, \"gene_reaction_rule\": \"\", \"genes\": [], \"segments\": {\"24\": {\"from_node_id\": \"31\", \"to_node_id\": \"32\", \"b1\": null, \"b2\": null}, \"25\": {\"from_node_id\": \"33\", \"to_node_id\": \"32\", \"b1\": null, \"b2\": null}, \"26\": {\"from_node_id\": \"26\", \"to_node_id\": \"31\", \"b1\": null, \"b2\": null}, \"27\": {\"from_node_id\": \"27\", \"to_node_id\": \"31\", \"b1\": null, \"b2\": null}, \"28\": {\"from_node_id\": \"28\", \"to_node_id\": \"33\", \"b1\": null, \"b2\": null}, \"29\": {\"from_node_id\": \"29\", \"to_node_id\": \"33\", \"b1\": null, \"b2\": null}, \"30\": {\"from_node_id\": \"30\", \"to_node_id\": \"33\", \"b1\": null, \"b2\": null}}, \"metabolites\": [{\"bigg_id\": \"SHIKIMATE_c\", \"coefficient\": -1.0}, {\"bigg_id\": \"atp_c\", \"coefficient\": -1.0}, {\"bigg_id\": \"SHIKIMATE_5P_c\", \"coefficient\": 1.0}, {\"bigg_id\": \"adp_c\", \"coefficient\": 1.0}, {\"bigg_id\": \"h_c\", \"coefficient\": 1.0}]}, \"5\": {\"name\": \"2.5.1.19_RXN_c\", \"bigg_id\": \"2.5.1.19_RXN_c\", \"reversibility\": true, \"label_x\": 3449.0, \"label_y\": 45.0, \"gene_reaction_rule\": \"\", \"genes\": [], \"segments\": {\"31\": {\"from_node_id\": \"37\", \"to_node_id\": \"38\", \"b1\": null, \"b2\": null}, \"32\": {\"from_node_id\": \"39\", \"to_node_id\": \"38\", \"b1\": null, \"b2\": null}, \"33\": {\"from_node_id\": \"28\", \"to_node_id\": \"37\", \"b1\": null, \"b2\": null}, \"34\": {\"from_node_id\": \"34\", \"to_node_id\": \"37\", \"b1\": null, \"b2\": null}, \"35\": {\"from_node_id\": \"35\", \"to_node_id\": \"39\", \"b1\": null, \"b2\": null}, \"36\": {\"from_node_id\": \"36\", \"to_node_id\": \"39\", \"b1\": null, \"b2\": null}}, \"metabolites\": [{\"bigg_id\": \"SHIKIMATE_5P_c\", \"coefficient\": -1.0}, {\"bigg_id\": \"pep_c\", \"coefficient\": -1.0}, {\"bigg_id\": \"3_ENOLPYRUVYL_SHIKIMATE_5P_c\", \"coefficient\": 1.0}, {\"bigg_id\": \"pi_c\", \"coefficient\": 1.0}]}, \"6\": {\"name\": \"CHORISMATE_SYNTHASE_RXN_c\", \"bigg_id\": \"CHORISMATE_SYNTHASE_RXN_c\", \"reversibility\": true, \"label_x\": 4000.0, \"label_y\": 45.0, \"gene_reaction_rule\": \"\", \"genes\": [], \"segments\": {\"37\": {\"from_node_id\": \"42\", \"to_node_id\": \"43\", \"b1\": null, \"b2\": null}, \"38\": {\"from_node_id\": \"44\", \"to_node_id\": \"43\", \"b1\": null, \"b2\": null}, \"39\": {\"from_node_id\": \"35\", \"to_node_id\": \"42\", \"b1\": null, \"b2\": null}, \"40\": {\"from_node_id\": \"40\", \"to_node_id\": \"44\", \"b1\": null, \"b2\": null}, \"41\": {\"from_node_id\": \"41\", \"to_node_id\": \"44\", \"b1\": null, \"b2\": null}}, \"metabolites\": [{\"bigg_id\": \"3_ENOLPYRUVYL_SHIKIMATE_5P_c\", \"coefficient\": -1.0}, {\"bigg_id\": \"CHORISMATE_c\", \"coefficient\": 1.0}, {\"bigg_id\": \"pi_c\", \"coefficient\": 1.0}]}}, \"nodes\": {\"0\": {\"node_type\": \"metabolite\", \"x\": 30.0, \"y\": 112.5, \"label_x\": 0.0, \"label_y\": 92.5, \"bigg_id\": \"e4p_c\", \"name\": \"e4p_c\", \"node_is_primary\": false}, \"1\": {\"node_type\": \"metabolite\", \"x\": 30.0, \"y\": 225.0, \"label_x\": 0.0, \"label_y\": 205.0, \"bigg_id\": \"h2o_c\", \"name\": \"h2o_c\", \"node_is_primary\": false}, \"2\": {\"node_type\": \"metabolite\", \"x\": 30.0, \"y\": 337.5, \"label_x\": 0.0, \"label_y\": 317.5, \"bigg_id\": \"pep_c\", \"name\": \"pep_c\", \"node_is_primary\": false}, \"3\": {\"node_type\": \"metabolite\", \"x\": 550.0, \"y\": 150.0, \"label_x\": 520.0, \"label_y\": 130.0, \"bigg_id\": \"3_DEOXY_D_ARABINO_HEPTULOSONATE_7_P_c\", \"name\": \"3_DEOXY_D_ARABINO_HEPTULOSONATE_7_P_c\", \"node_is_primary\": false}, \"4\": {\"node_type\": \"metabolite\", \"x\": 550.0, \"y\": 300.0, \"label_x\": 520.0, \"label_y\": 280.0, \"bigg_id\": \"pi_c\", \"name\": \"pi_c\", \"node_is_primary\": false}, \"5\": {\"node_type\": \"multimarker\", \"x\": 335.0, \"y\": 225.0}, \"6\": {\"node_type\": \"midmarker\", \"x\": 355.0, \"y\": 225.0}, \"7\": {\"node_type\": \"multimarker\", \"x\": 375.0, \"y\": 225.0}, \"8\": {\"node_type\": \"metabolite\", \"x\": 1200.0, \"y\": 150.0, \"label_x\": 1170.0, \"label_y\": 130.0, \"bigg_id\": \"DEHYDROQUINATE_c\", \"name\": \"DEHYDROQUINATE_c\", \"node_is_primary\": false}, \"9\": {\"node_type\": \"metabolite\", \"x\": 1200.0, \"y\": 300.0, \"label_x\": 1170.0, \"label_y\": 280.0, \"bigg_id\": \"pi_c\", \"name\": \"pi_c\", \"node_is_primary\": false}, \"10\": {\"node_type\": \"multimarker\", \"x\": 985.0, \"y\": 225.0}, \"11\": {\"node_type\": \"midmarker\", \"x\": 1005.0, \"y\": 225.0}, \"12\": {\"node_type\": \"multimarker\", \"x\": 1025.0, \"y\": 225.0}, \"13\": {\"node_type\": \"metabolite\", \"x\": 1850.0, \"y\": 150.0, \"label_x\": 1820.0, \"label_y\": 130.0, \"bigg_id\": \"3_DEHYDRO_SHIKIMATE_c\", \"name\": \"3_DEHYDRO_SHIKIMATE_c\", \"node_is_primary\": false}, \"14\": {\"node_type\": \"metabolite\", \"x\": 1850.0, \"y\": 300.0, \"label_x\": 1820.0, \"label_y\": 280.0, \"bigg_id\": \"h2o_c\", \"name\": \"h2o_c\", \"node_is_primary\": false}, \"15\": {\"node_type\": \"multimarker\", \"x\": 1635.0, \"y\": 225.0}, \"16\": {\"node_type\": \"midmarker\", \"x\": 1655.0, \"y\": 225.0}, \"17\": {\"node_type\": \"multimarker\", \"x\": 1675.0, \"y\": 225.0}, \"18\": {\"node_type\": \"metabolite\", \"x\": 1980.0, \"y\": 150.0, \"label_x\": 1950.0, \"label_y\": 130.0, \"bigg_id\": \"SHIKIMATE_c\", \"name\": \"SHIKIMATE_c\", \"node_is_primary\": false}, \"19\": {\"node_type\": \"metabolite\", \"x\": 1980.0, \"y\": 300.0, \"label_x\": 1950.0, \"label_y\": 280.0, \"bigg_id\": \"nadp_c\", \"name\": \"nadp_c\", \"node_is_primary\": false}, \"20\": {\"node_type\": \"metabolite\", \"x\": 2500.0, \"y\": 112.5, \"label_x\": 2470.0, \"label_y\": 92.5, \"bigg_id\": \"3_DEHYDRO_SHIKIMATE_c\", \"name\": \"3_DEHYDRO_SHIKIMATE_c\", \"node_is_primary\": false}, \"21\": {\"node_type\": \"metabolite\", \"x\": 2500.0, \"y\": 225.0, \"label_x\": 2470.0, \"label_y\": 205.0, \"bigg_id\": \"h_c\", \"name\": \"h_c\", \"node_is_primary\": false}, \"22\": {\"node_type\": \"metabolite\", \"x\": 2500.0, \"y\": 337.5, \"label_x\": 2470.0, \"label_y\": 317.5, \"bigg_id\": \"nadph_c\", \"name\": \"nadph_c\", \"node_is_primary\": false}, \"23\": {\"node_type\": \"multimarker\", \"x\": 2285.0, \"y\": 225.0}, \"24\": {\"node_type\": \"midmarker\", \"x\": 2305.0, \"y\": 225.0}, \"25\": {\"node_type\": \"multimarker\", \"x\": 2325.0, \"y\": 225.0}, \"26\": {\"node_type\": \"metabolite\", \"x\": 2630.0, \"y\": 150.0, \"label_x\": 2600.0, \"label_y\": 130.0, \"bigg_id\": \"SHIKIMATE_c\", \"name\": \"SHIKIMATE_c\", \"node_is_primary\": false}, \"27\": {\"node_type\": \"metabolite\", \"x\": 2630.0, \"y\": 300.0, \"label_x\": 2600.0, \"label_y\": 280.0, \"bigg_id\": \"atp_c\", \"name\": \"atp_c\", \"node_is_primary\": false}, \"28\": {\"node_type\": \"metabolite\", \"x\": 3150.0, \"y\": 112.5, \"label_x\": 3120.0, \"label_y\": 92.5, \"bigg_id\": \"SHIKIMATE_5P_c\", \"name\": \"SHIKIMATE_5P_c\", \"node_is_primary\": false}, \"29\": {\"node_type\": \"metabolite\", \"x\": 3150.0, \"y\": 225.0, \"label_x\": 3120.0, \"label_y\": 205.0, \"bigg_id\": \"adp_c\", \"name\": \"adp_c\", \"node_is_primary\": false}, \"30\": {\"node_type\": \"metabolite\", \"x\": 3150.0, \"y\": 337.5, \"label_x\": 3120.0, \"label_y\": 317.5, \"bigg_id\": \"h_c\", \"name\": \"h_c\", \"node_is_primary\": false}, \"31\": {\"node_type\": \"multimarker\", \"x\": 2935.0, \"y\": 225.0}, \"32\": {\"node_type\": \"midmarker\", \"x\": 2955.0, \"y\": 225.0}, \"33\": {\"node_type\": \"multimarker\", \"x\": 2975.0, \"y\": 225.0}, \"34\": {\"node_type\": \"metabolite\", \"x\": 3280.0, \"y\": 300.0, \"label_x\": 3250.0, \"label_y\": 280.0, \"bigg_id\": \"pep_c\", \"name\": \"pep_c\", \"node_is_primary\": false}, \"35\": {\"node_type\": \"metabolite\", \"x\": 3800.0, \"y\": 150.0, \"label_x\": 3770.0, \"label_y\": 130.0, \"bigg_id\": \"3_ENOLPYRUVYL_SHIKIMATE_5P_c\", \"name\": \"3_ENOLPYRUVYL_SHIKIMATE_5P_c\", \"node_is_primary\": false}, \"36\": {\"node_type\": \"metabolite\", \"x\": 3800.0, \"y\": 300.0, \"label_x\": 3770.0, \"label_y\": 280.0, \"bigg_id\": \"pi_c\", \"name\": \"pi_c\", \"node_is_primary\": false}, \"37\": {\"node_type\": \"multimarker\", \"x\": 3585.0, \"y\": 225.0}, \"38\": {\"node_type\": \"midmarker\", \"x\": 3605.0, \"y\": 225.0}, \"39\": {\"node_type\": \"multimarker\", \"x\": 3625.0, \"y\": 225.0}, \"40\": {\"node_type\": \"metabolite\", \"x\": 4450.0, \"y\": 150.0, \"label_x\": 4420.0, \"label_y\": 130.0, \"bigg_id\": \"CHORISMATE_c\", \"name\": \"CHORISMATE_c\", \"node_is_primary\": false}, \"41\": {\"node_type\": \"metabolite\", \"x\": 4450.0, \"y\": 300.0, \"label_x\": 4420.0, \"label_y\": 280.0, \"bigg_id\": \"pi_c\", \"name\": \"pi_c\", \"node_is_primary\": false}, \"42\": {\"node_type\": \"multimarker\", \"x\": 4235.0, \"y\": 225.0}, \"43\": {\"node_type\": \"midmarker\", \"x\": 4255.0, \"y\": 225.0}, \"44\": {\"node_type\": \"multimarker\", \"x\": 4275.0, \"y\": 225.0}}, \"text_labels\": {}, \"canvas\": {\"x\": 0, \"y\": 0, \"width\": 4550, \"height\": 450}}]",
       "_loaded_model_json": null,
       "allow_building_duplicate_reactions": false,
       "and_method_in_gene_reaction_rule": "mean",
       "canvas_size_and_loc": null,
       "cofactors": [
        "atp",
        "adp",
        "nad",
        "nadh",
        "nadp",
        "nadph",
        "gtp",
        "gdp",
        "h",
        "coa",
        "ump",
        "h2o",
        "ppi"
       ],
       "disabled_buttons": [
        "Clear gene data",
        "Clear metabolite data"
       ],
       "embedded_css": null,
       "enable_editing": true,
       "enable_keys": false,
       "enable_keys_with_tooltip": true,
       "enable_search": true,
       "enable_tooltips": false,
       "full_screen_button": {
        "enable_editing": true,
        "enable_keys": true,
        "enable_tooltips": [
         "label"
        ],
        "menu": "all",
        "scroll_behavior": "pan"
       },
       "gene_data": null,
       "gene_font_size": 18,
       "height": 500,
       "hide_all_labels": false,
       "hide_secondary_metabolites": false,
       "highlight_missing": false,
       "identifiers_on_map": "bigg_id",
       "layout": "IPY_MODEL_ae7346c99f4d42919cf623aa0856159a",
       "marker_radius": 5,
       "menu": "all",
       "metabolite_compare_style": "log2_fold",
       "metabolite_data": null,
       "metabolite_no_data_color": "#ffffff",
       "metabolite_no_data_size": 10,
       "metabolite_scale": [
        {
         "color": "#fffaf0",
         "size": 20,
         "type": "min"
        },
        {
         "color": "#f1c470",
         "size": 30,
         "type": "median"
        },
        {
         "color": "#800000",
         "size": 40,
         "type": "max"
        }
       ],
       "metabolite_scale_preset": "WhYlRd",
       "metabolite_styles": [
        "color",
        "size",
        "text"
       ],
       "never_ask_before_quit": true,
       "primary_metabolite_radius": 20,
       "reaction_compare_style": "log2_fold",
       "reaction_data": {
        "2.5.1.19_RXN_c": -2.1192621555820733e-16,
        "3_DEHYDROQUINATE_DEHYDRATASE_RXN_c": 0.14030304588157808,
        "3_DEHYDROQUINATE_SYNTHASE_RXN_c": 0.14030304588157805,
        "ACALD": 0,
        "ACALDt": 0,
        "ACKr": 0,
        "ACONTa": 1.417963242623414,
        "ACONTb": 1.4179632426234139,
        "ACt2r": 0,
        "ADK1": 1.6193264619349997e-15,
        "AKGDH": 0,
        "AKGt2r": 0,
        "ALCD2x": 0,
        "ATPM": 158.49897784574108,
        "ATPS4r": 229.66732830123723,
        "Biomass_Ecoli_core": 0,
        "CHORISMATE_SYNTHASE_RXN_c": 999.9999999999999,
        "CO2t": 0.8113909378058973,
        "CS": 1.4179632426234139,
        "CYTBD": 0,
        "DAHPSYN_RXN_c": 0,
        "D_LACt2": 0,
        "ENO": 14.532140866491895,
        "ETOHt2r": 0,
        "EX_ac_e": 0,
        "EX_acald_e": 0,
        "EX_akg_e": 0,
        "EX_co2_e": -0.8113909378058962,
        "EX_etoh_e": 0,
        "EX_for_e": 4.810539589938191,
        "EX_fru_e": 0,
        "EX_fum_e": 0,
        "EX_glc__D_e": -10,
        "EX_gln__L_e": 0,
        "EX_glu__L_e": 0,
        "EX_h2o_e": 8.772128796325806,
        "EX_h_e": 31.209210166822263,
        "EX_lac__D_e": 0,
        "EX_mal__L_e": 0,
        "EX_nh4_e": -7.176935291912712,
        "EX_o2_e": 0,
        "EX_pi_e": 995.2984251375851,
        "EX_pyr_e": 0,
        "EX_succ_e": 0,
        "FBA": 8.69078316922213,
        "FBP": 0,
        "FORt2": 0,
        "FORti": 4.810539589938191,
        "FRD7": 0,
        "FRUpts2": 0,
        "FUM": 0,
        "FUMt2_2": 0,
        "G6PDH2r": 0,
        "GAPD": 16.50116507363344,
        "GLCpts": 10,
        "GLNS": 0.33655046107359154,
        "GLNabc": 0,
        "GLUDy": -6.840384830839122,
        "GLUN": 0,
        "GLUSy": 0,
        "GLUt2r": 0,
        "GND": 0,
        "H2Ot": -8.772128796325806,
        "ICDHyr": 1.4179632426234139,
        "ICL": 0,
        "LDH_D": 0,
        "MALS": -1.959812538561709e-16,
        "MALt2_2": 0,
        "MDH": -1.9598125385617092e-16,
        "ME1": 0,
        "ME2": 0,
        "NADH16": 0,
        "NADTRHD": 0,
        "NH4t": 7.17693529191271,
        "O2t": 0,
        "PDH": 1.54025047322338,
        "PFK": 8.69078316922213,
        "PFL": 4.81053958993819,
        "PGI": 9.73018050637432,
        "PGK": -16.50116507363344,
        "PGL": 0,
        "PGM": -14.532140866491899,
        "PIt2r": -995.2984251375851,
        "PPC": 3.7696046536526917,
        "PPCK": 0,
        "PPS": 0,
        "PTAr": 0,
        "PYK": 0.0793006072729144,
        "PYRt2": 0,
        "RPE": -0.946079278137261,
        "RPI": -0.9460792781372611,
        "SA3_biomass": 0,
        "SHIKIMATE_5_DEHYDROGENASE_RXN_c": -0.14030304588157805,
        "SHIKIMATE_KINASE_RXN_c": 0,
        "SK_3_DEOXY_D_ARABINO_HEPTULOSONATE_7_P_c": -0.14030304588157805,
        "SK_3_ENOLPYRUVYL_SHIKIMATE_5P_c": -999.9999999999999,
        "SK_CHORISMATE_c": 1000,
        "SUCCt2_2": 0,
        "SUCCt3": 0,
        "SUCDi": 0,
        "SUCOAS": 0,
        "TALA": -0.2354668654128492,
        "THD2": 22.709950882907,
        "TKT1": -0.23546686541284922,
        "TKT2": -0.710612412724412,
        "TPI": 8.69078316922213,
        "W3110_biomass": 1.3166970006837229
       },
       "reaction_no_data_color": "#dcdcdc",
       "reaction_no_data_size": 8,
       "reaction_scale": [
        {
         "color": "rgb(203,203,222)",
         "type": "value",
         "value": 0.23076923076923078
        },
        {
         "color": "rgb(186,186,225)",
         "type": "value",
         "value": 0.46153846153846156
        },
        {
         "color": "rgb(169,169,228)",
         "type": "value",
         "value": 0.6923076923076923
        },
        {
         "color": "rgb(152,152,230)",
         "type": "value",
         "value": 0.9230769230769231
        },
        {
         "color": "rgb(135,135,233)",
         "type": "value",
         "value": 1.1538461538461537
        },
        {
         "color": "rgb(118,118,236)",
         "type": "value",
         "value": 1.3846153846153846
        },
        {
         "color": "rgb(101,101,238)",
         "type": "value",
         "value": 1.6153846153846154
        },
        {
         "color": "rgb(84,84,241)",
         "type": "value",
         "value": 1.846153846153846
        },
        {
         "color": "rgb(67,67,244)",
         "type": "value",
         "value": 2.0769230769230766
        },
        {
         "color": "rgb(50,50,246)",
         "type": "value",
         "value": 2.3076923076923075
        },
        {
         "color": "rgb(33,33,249)",
         "type": "value",
         "value": 2.5384615384615383
        },
        {
         "color": "rgb(16,16,252)",
         "type": "value",
         "value": 2.769230769230769
        },
        {
         "color": "rgb(0,0,254)",
         "type": "value",
         "value": 3
        },
        {
         "color": "rgb(220,220,220)",
         "type": "value",
         "value": 0
        },
        {
         "color": "rgb(222,201,201)",
         "type": "value",
         "value": -0.25
        },
        {
         "color": "rgb(225,183,183)",
         "type": "value",
         "value": -0.5
        },
        {
         "color": "rgb(228,165,165)",
         "type": "value",
         "value": -0.75
        },
        {
         "color": "rgb(231,146,146)",
         "type": "value",
         "value": -1
        },
        {
         "color": "rgb(234,128,128)",
         "type": "value",
         "value": -1.25
        },
        {
         "color": "rgb(237,110,110)",
         "type": "value",
         "value": -1.5
        },
        {
         "color": "rgb(240,91,91)",
         "type": "value",
         "value": -1.75
        },
        {
         "color": "rgb(243,73,73)",
         "type": "value",
         "value": -2
        },
        {
         "color": "rgb(246,55,55)",
         "type": "value",
         "value": -2.25
        },
        {
         "color": "rgb(249,36,36)",
         "type": "value",
         "value": -2.5
        },
        {
         "color": "rgb(252,18,18)",
         "type": "value",
         "value": -2.75
        },
        {
         "color": "rgb(255,0,0)",
         "type": "value",
         "value": -3
        }
       ],
       "reaction_scale_preset": null,
       "reaction_styles": [
        "color",
        "text"
       ],
       "scroll_behavior": "none",
       "secondary_metabolite_radius": 10,
       "semantic_zoom": null,
       "show_gene_reaction_rules": false,
       "starting_reaction": null,
       "use_3d_transform": false,
       "zoom_to_element": null
      }
     },
     "fc32836b602d4eff928a59bcdd9365be": {
      "model_module": "@jupyter-widgets/base",
      "model_module_version": "1.2.0",
      "model_name": "LayoutModel",
      "state": {}
     },
     "fe67d039ac874dea96645003b6e3c769": {
      "model_module": "escher",
      "model_module_version": "1.7.3",
      "model_name": "EscherMapModel",
      "state": {
       "_loaded_map_json": "[{\"map_name\": \"\", \"map_id\": \"\", \"map_description\": \"\", \"homepage\": \"\", \"schema\": \"https://escher.github.io/escher/jsonschema/1-0-0#\"}, {\"reactions\": {\"0\": {\"name\": \"3_DEHYDROQUINATE_DEHYDRATASE_RXN_c\", \"bigg_id\": \"3_DEHYDROQUINATE_DEHYDRATASE_RXN_c\", \"reversibility\": true, \"label_x\": 19.0, \"label_y\": 45.0, \"gene_reaction_rule\": \"\", \"genes\": [], \"segments\": {\"0\": {\"from_node_id\": \"3\", \"to_node_id\": \"4\", \"b1\": null, \"b2\": null}, \"1\": {\"from_node_id\": \"5\", \"to_node_id\": \"4\", \"b1\": null, \"b2\": null}, \"2\": {\"from_node_id\": \"0\", \"to_node_id\": \"3\", \"b1\": null, \"b2\": null}, \"3\": {\"from_node_id\": \"1\", \"to_node_id\": \"5\", \"b1\": null, \"b2\": null}, \"4\": {\"from_node_id\": \"2\", \"to_node_id\": \"5\", \"b1\": null, \"b2\": null}}, \"metabolites\": [{\"bigg_id\": \"DEHYDROQUINATE_c\", \"coefficient\": -1.0}, {\"bigg_id\": \"3_DEHYDRO_SHIKIMATE_c\", \"coefficient\": 1.0}, {\"bigg_id\": \"h2o_c\", \"coefficient\": 1.0}]}, \"1\": {\"name\": \"SHIKIMATE_5_DEHYDROGENASE_RXN_c\", \"bigg_id\": \"SHIKIMATE_5_DEHYDROGENASE_RXN_c\", \"reversibility\": true, \"label_x\": 696.0, \"label_y\": 45.0, \"gene_reaction_rule\": \"\", \"genes\": [], \"segments\": {\"5\": {\"from_node_id\": \"11\", \"to_node_id\": \"12\", \"b1\": null, \"b2\": null}, \"6\": {\"from_node_id\": \"13\", \"to_node_id\": \"12\", \"b1\": null, \"b2\": null}, \"7\": {\"from_node_id\": \"6\", \"to_node_id\": \"11\", \"b1\": null, \"b2\": null}, \"8\": {\"from_node_id\": \"7\", \"to_node_id\": \"11\", \"b1\": null, \"b2\": null}, \"9\": {\"from_node_id\": \"8\", \"to_node_id\": \"13\", \"b1\": null, \"b2\": null}, \"10\": {\"from_node_id\": \"9\", \"to_node_id\": \"13\", \"b1\": null, \"b2\": null}, \"11\": {\"from_node_id\": \"10\", \"to_node_id\": \"13\", \"b1\": null, \"b2\": null}}, \"metabolites\": [{\"bigg_id\": \"SHIKIMATE_c\", \"coefficient\": -1.0}, {\"bigg_id\": \"nadp_c\", \"coefficient\": -1.0}, {\"bigg_id\": \"3_DEHYDRO_SHIKIMATE_c\", \"coefficient\": 1.0}, {\"bigg_id\": \"h_c\", \"coefficient\": 1.0}, {\"bigg_id\": \"nadph_c\", \"coefficient\": 1.0}]}, \"2\": {\"name\": \"SHIKIMATE_KINASE_RXN_c\", \"bigg_id\": \"SHIKIMATE_KINASE_RXN_c\", \"reversibility\": true, \"label_x\": 1427.0, \"label_y\": 45.0, \"gene_reaction_rule\": \"\", \"genes\": [], \"segments\": {\"12\": {\"from_node_id\": \"19\", \"to_node_id\": \"20\", \"b1\": null, \"b2\": null}, \"13\": {\"from_node_id\": \"21\", \"to_node_id\": \"20\", \"b1\": null, \"b2\": null}, \"14\": {\"from_node_id\": \"14\", \"to_node_id\": \"19\", \"b1\": null, \"b2\": null}, \"15\": {\"from_node_id\": \"15\", \"to_node_id\": \"19\", \"b1\": null, \"b2\": null}, \"16\": {\"from_node_id\": \"16\", \"to_node_id\": \"21\", \"b1\": null, \"b2\": null}, \"17\": {\"from_node_id\": \"17\", \"to_node_id\": \"21\", \"b1\": null, \"b2\": null}, \"18\": {\"from_node_id\": \"18\", \"to_node_id\": \"21\", \"b1\": null, \"b2\": null}}, \"metabolites\": [{\"bigg_id\": \"SHIKIMATE_c\", \"coefficient\": -1.0}, {\"bigg_id\": \"atp_c\", \"coefficient\": -1.0}, {\"bigg_id\": \"SHIKIMATE_5P_c\", \"coefficient\": 1.0}, {\"bigg_id\": \"adp_c\", \"coefficient\": 1.0}, {\"bigg_id\": \"h_c\", \"coefficient\": 1.0}]}, \"3\": {\"name\": \"2.5.1.19_RXN_c\", \"bigg_id\": \"2.5.1.19_RXN_c\", \"reversibility\": true, \"label_x\": 2149.0, \"label_y\": 45.0, \"gene_reaction_rule\": \"\", \"genes\": [], \"segments\": {\"19\": {\"from_node_id\": \"25\", \"to_node_id\": \"26\", \"b1\": null, \"b2\": null}, \"20\": {\"from_node_id\": \"27\", \"to_node_id\": \"26\", \"b1\": null, \"b2\": null}, \"21\": {\"from_node_id\": \"16\", \"to_node_id\": \"25\", \"b1\": null, \"b2\": null}, \"22\": {\"from_node_id\": \"22\", \"to_node_id\": \"25\", \"b1\": null, \"b2\": null}, \"23\": {\"from_node_id\": \"23\", \"to_node_id\": \"27\", \"b1\": null, \"b2\": null}, \"24\": {\"from_node_id\": \"24\", \"to_node_id\": \"27\", \"b1\": null, \"b2\": null}}, \"metabolites\": [{\"bigg_id\": \"SHIKIMATE_5P_c\", \"coefficient\": -1.0}, {\"bigg_id\": \"pep_c\", \"coefficient\": -1.0}, {\"bigg_id\": \"3_ENOLPYRUVYL_SHIKIMATE_5P_c\", \"coefficient\": 1.0}, {\"bigg_id\": \"pi_c\", \"coefficient\": 1.0}]}, \"4\": {\"name\": \"CHORISMATE_SYNTHASE_RXN_c\", \"bigg_id\": \"CHORISMATE_SYNTHASE_RXN_c\", \"reversibility\": true, \"label_x\": 2700.0, \"label_y\": 45.0, \"gene_reaction_rule\": \"\", \"genes\": [], \"segments\": {\"25\": {\"from_node_id\": \"30\", \"to_node_id\": \"31\", \"b1\": null, \"b2\": null}, \"26\": {\"from_node_id\": \"32\", \"to_node_id\": \"31\", \"b1\": null, \"b2\": null}, \"27\": {\"from_node_id\": \"23\", \"to_node_id\": \"30\", \"b1\": null, \"b2\": null}, \"28\": {\"from_node_id\": \"28\", \"to_node_id\": \"32\", \"b1\": null, \"b2\": null}, \"29\": {\"from_node_id\": \"29\", \"to_node_id\": \"32\", \"b1\": null, \"b2\": null}}, \"metabolites\": [{\"bigg_id\": \"3_ENOLPYRUVYL_SHIKIMATE_5P_c\", \"coefficient\": -1.0}, {\"bigg_id\": \"CHORISMATE_c\", \"coefficient\": 1.0}, {\"bigg_id\": \"pi_c\", \"coefficient\": 1.0}]}, \"5\": {\"name\": \"DAHPSYN_RXN_c\", \"bigg_id\": \"DAHPSYN_RXN_c\", \"reversibility\": true, \"label_x\": 208.0, \"label_y\": 495.0, \"gene_reaction_rule\": \"\", \"genes\": [], \"segments\": {\"30\": {\"from_node_id\": \"37\", \"to_node_id\": \"38\", \"b1\": null, \"b2\": null}, \"31\": {\"from_node_id\": \"39\", \"to_node_id\": \"38\", \"b1\": null, \"b2\": null}, \"32\": {\"from_node_id\": \"33\", \"to_node_id\": \"37\", \"b1\": null, \"b2\": null}, \"33\": {\"from_node_id\": \"2\", \"to_node_id\": \"37\", \"b1\": null, \"b2\": null}, \"34\": {\"from_node_id\": \"34\", \"to_node_id\": \"37\", \"b1\": null, \"b2\": null}, \"35\": {\"from_node_id\": \"35\", \"to_node_id\": \"39\", \"b1\": null, \"b2\": null}, \"36\": {\"from_node_id\": \"36\", \"to_node_id\": \"39\", \"b1\": null, \"b2\": null}}, \"metabolites\": [{\"bigg_id\": \"e4p_c\", \"coefficient\": -1.0}, {\"bigg_id\": \"h2o_c\", \"coefficient\": -1.0}, {\"bigg_id\": \"pep_c\", \"coefficient\": -1.0}, {\"bigg_id\": \"3_DEOXY_D_ARABINO_HEPTULOSONATE_7_P_c\", \"coefficient\": 1.0}, {\"bigg_id\": \"pi_c\", \"coefficient\": 1.0}]}, \"6\": {\"name\": \"3_DEHYDROQUINATE_SYNTHASE_RXN_c\", \"bigg_id\": \"3_DEHYDROQUINATE_SYNTHASE_RXN_c\", \"reversibility\": true, \"label_x\": 696.0, \"label_y\": 495.0, \"gene_reaction_rule\": \"\", \"genes\": [], \"segments\": {\"37\": {\"from_node_id\": \"42\", \"to_node_id\": \"43\", \"b1\": null, \"b2\": null}, \"38\": {\"from_node_id\": \"44\", \"to_node_id\": \"43\", \"b1\": null, \"b2\": null}, \"39\": {\"from_node_id\": \"35\", \"to_node_id\": \"42\", \"b1\": null, \"b2\": null}, \"40\": {\"from_node_id\": \"40\", \"to_node_id\": \"44\", \"b1\": null, \"b2\": null}, \"41\": {\"from_node_id\": \"41\", \"to_node_id\": \"44\", \"b1\": null, \"b2\": null}}, \"metabolites\": [{\"bigg_id\": \"3_DEOXY_D_ARABINO_HEPTULOSONATE_7_P_c\", \"coefficient\": -1.0}, {\"bigg_id\": \"DEHYDROQUINATE_c\", \"coefficient\": 1.0}, {\"bigg_id\": \"pi_c\", \"coefficient\": 1.0}]}}, \"nodes\": {\"0\": {\"node_type\": \"metabolite\", \"x\": 30.0, \"y\": 225.0, \"label_x\": 0.0, \"label_y\": 205.0, \"bigg_id\": \"DEHYDROQUINATE_c\", \"name\": \"DEHYDROQUINATE_c\", \"node_is_primary\": false}, \"1\": {\"node_type\": \"metabolite\", \"x\": 550.0, \"y\": 150.0, \"label_x\": 520.0, \"label_y\": 130.0, \"bigg_id\": \"3_DEHYDRO_SHIKIMATE_c\", \"name\": \"3_DEHYDRO_SHIKIMATE_c\", \"node_is_primary\": false}, \"2\": {\"node_type\": \"metabolite\", \"x\": 550.0, \"y\": 300.0, \"label_x\": 520.0, \"label_y\": 280.0, \"bigg_id\": \"h2o_c\", \"name\": \"h2o_c\", \"node_is_primary\": false}, \"3\": {\"node_type\": \"multimarker\", \"x\": 335.0, \"y\": 225.0}, \"4\": {\"node_type\": \"midmarker\", \"x\": 355.0, \"y\": 225.0}, \"5\": {\"node_type\": \"multimarker\", \"x\": 375.0, \"y\": 225.0}, \"6\": {\"node_type\": \"metabolite\", \"x\": 680.0, \"y\": 150.0, \"label_x\": 650.0, \"label_y\": 130.0, \"bigg_id\": \"SHIKIMATE_c\", \"name\": \"SHIKIMATE_c\", \"node_is_primary\": false}, \"7\": {\"node_type\": \"metabolite\", \"x\": 680.0, \"y\": 300.0, \"label_x\": 650.0, \"label_y\": 280.0, \"bigg_id\": \"nadp_c\", \"name\": \"nadp_c\", \"node_is_primary\": false}, \"8\": {\"node_type\": \"metabolite\", \"x\": 1200.0, \"y\": 112.5, \"label_x\": 1170.0, \"label_y\": 92.5, \"bigg_id\": \"3_DEHYDRO_SHIKIMATE_c\", \"name\": \"3_DEHYDRO_SHIKIMATE_c\", \"node_is_primary\": false}, \"9\": {\"node_type\": \"metabolite\", \"x\": 1200.0, \"y\": 225.0, \"label_x\": 1170.0, \"label_y\": 205.0, \"bigg_id\": \"h_c\", \"name\": \"h_c\", \"node_is_primary\": false}, \"10\": {\"node_type\": \"metabolite\", \"x\": 1200.0, \"y\": 337.5, \"label_x\": 1170.0, \"label_y\": 317.5, \"bigg_id\": \"nadph_c\", \"name\": \"nadph_c\", \"node_is_primary\": false}, \"11\": {\"node_type\": \"multimarker\", \"x\": 985.0, \"y\": 225.0}, \"12\": {\"node_type\": \"midmarker\", \"x\": 1005.0, \"y\": 225.0}, \"13\": {\"node_type\": \"multimarker\", \"x\": 1025.0, \"y\": 225.0}, \"14\": {\"node_type\": \"metabolite\", \"x\": 1330.0, \"y\": 150.0, \"label_x\": 1300.0, \"label_y\": 130.0, \"bigg_id\": \"SHIKIMATE_c\", \"name\": \"SHIKIMATE_c\", \"node_is_primary\": false}, \"15\": {\"node_type\": \"metabolite\", \"x\": 1330.0, \"y\": 300.0, \"label_x\": 1300.0, \"label_y\": 280.0, \"bigg_id\": \"atp_c\", \"name\": \"atp_c\", \"node_is_primary\": false}, \"16\": {\"node_type\": \"metabolite\", \"x\": 1850.0, \"y\": 112.5, \"label_x\": 1820.0, \"label_y\": 92.5, \"bigg_id\": \"SHIKIMATE_5P_c\", \"name\": \"SHIKIMATE_5P_c\", \"node_is_primary\": false}, \"17\": {\"node_type\": \"metabolite\", \"x\": 1850.0, \"y\": 225.0, \"label_x\": 1820.0, \"label_y\": 205.0, \"bigg_id\": \"adp_c\", \"name\": \"adp_c\", \"node_is_primary\": false}, \"18\": {\"node_type\": \"metabolite\", \"x\": 1850.0, \"y\": 337.5, \"label_x\": 1820.0, \"label_y\": 317.5, \"bigg_id\": \"h_c\", \"name\": \"h_c\", \"node_is_primary\": false}, \"19\": {\"node_type\": \"multimarker\", \"x\": 1635.0, \"y\": 225.0}, \"20\": {\"node_type\": \"midmarker\", \"x\": 1655.0, \"y\": 225.0}, \"21\": {\"node_type\": \"multimarker\", \"x\": 1675.0, \"y\": 225.0}, \"22\": {\"node_type\": \"metabolite\", \"x\": 1980.0, \"y\": 300.0, \"label_x\": 1950.0, \"label_y\": 280.0, \"bigg_id\": \"pep_c\", \"name\": \"pep_c\", \"node_is_primary\": false}, \"23\": {\"node_type\": \"metabolite\", \"x\": 2500.0, \"y\": 150.0, \"label_x\": 2470.0, \"label_y\": 130.0, \"bigg_id\": \"3_ENOLPYRUVYL_SHIKIMATE_5P_c\", \"name\": \"3_ENOLPYRUVYL_SHIKIMATE_5P_c\", \"node_is_primary\": false}, \"24\": {\"node_type\": \"metabolite\", \"x\": 2500.0, \"y\": 300.0, \"label_x\": 2470.0, \"label_y\": 280.0, \"bigg_id\": \"pi_c\", \"name\": \"pi_c\", \"node_is_primary\": false}, \"25\": {\"node_type\": \"multimarker\", \"x\": 2285.0, \"y\": 225.0}, \"26\": {\"node_type\": \"midmarker\", \"x\": 2305.0, \"y\": 225.0}, \"27\": {\"node_type\": \"multimarker\", \"x\": 2325.0, \"y\": 225.0}, \"28\": {\"node_type\": \"metabolite\", \"x\": 3150.0, \"y\": 150.0, \"label_x\": 3120.0, \"label_y\": 130.0, \"bigg_id\": \"CHORISMATE_c\", \"name\": \"CHORISMATE_c\", \"node_is_primary\": false}, \"29\": {\"node_type\": \"metabolite\", \"x\": 3150.0, \"y\": 300.0, \"label_x\": 3120.0, \"label_y\": 280.0, \"bigg_id\": \"pi_c\", \"name\": \"pi_c\", \"node_is_primary\": false}, \"30\": {\"node_type\": \"multimarker\", \"x\": 2935.0, \"y\": 225.0}, \"31\": {\"node_type\": \"midmarker\", \"x\": 2955.0, \"y\": 225.0}, \"32\": {\"node_type\": \"multimarker\", \"x\": 2975.0, \"y\": 225.0}, \"33\": {\"node_type\": \"metabolite\", \"x\": 30.0, \"y\": 562.5, \"label_x\": 0.0, \"label_y\": 542.5, \"bigg_id\": \"e4p_c\", \"name\": \"e4p_c\", \"node_is_primary\": false}, \"34\": {\"node_type\": \"metabolite\", \"x\": 30.0, \"y\": 787.5, \"label_x\": 0.0, \"label_y\": 767.5, \"bigg_id\": \"pep_c\", \"name\": \"pep_c\", \"node_is_primary\": false}, \"35\": {\"node_type\": \"metabolite\", \"x\": 550.0, \"y\": 600.0, \"label_x\": 520.0, \"label_y\": 580.0, \"bigg_id\": \"3_DEOXY_D_ARABINO_HEPTULOSONATE_7_P_c\", \"name\": \"3_DEOXY_D_ARABINO_HEPTULOSONATE_7_P_c\", \"node_is_primary\": false}, \"36\": {\"node_type\": \"metabolite\", \"x\": 550.0, \"y\": 750.0, \"label_x\": 520.0, \"label_y\": 730.0, \"bigg_id\": \"pi_c\", \"name\": \"pi_c\", \"node_is_primary\": false}, \"37\": {\"node_type\": \"multimarker\", \"x\": 335.0, \"y\": 675.0}, \"38\": {\"node_type\": \"midmarker\", \"x\": 355.0, \"y\": 675.0}, \"39\": {\"node_type\": \"multimarker\", \"x\": 375.0, \"y\": 675.0}, \"40\": {\"node_type\": \"metabolite\", \"x\": 1200.0, \"y\": 600.0, \"label_x\": 1170.0, \"label_y\": 580.0, \"bigg_id\": \"DEHYDROQUINATE_c\", \"name\": \"DEHYDROQUINATE_c\", \"node_is_primary\": false}, \"41\": {\"node_type\": \"metabolite\", \"x\": 1200.0, \"y\": 750.0, \"label_x\": 1170.0, \"label_y\": 730.0, \"bigg_id\": \"pi_c\", \"name\": \"pi_c\", \"node_is_primary\": false}, \"42\": {\"node_type\": \"multimarker\", \"x\": 985.0, \"y\": 675.0}, \"43\": {\"node_type\": \"midmarker\", \"x\": 1005.0, \"y\": 675.0}, \"44\": {\"node_type\": \"multimarker\", \"x\": 1025.0, \"y\": 675.0}}, \"text_labels\": {}, \"canvas\": {\"x\": 0, \"y\": 0, \"width\": 3250, \"height\": 900}}]",
       "_loaded_model_json": null,
       "allow_building_duplicate_reactions": false,
       "and_method_in_gene_reaction_rule": "mean",
       "canvas_size_and_loc": null,
       "cofactors": [
        "atp",
        "adp",
        "nad",
        "nadh",
        "nadp",
        "nadph",
        "gtp",
        "gdp",
        "h",
        "coa",
        "ump",
        "h2o",
        "ppi"
       ],
       "disabled_buttons": [
        "Clear reaction data",
        "Clear gene data",
        "Clear metabolite data"
       ],
       "embedded_css": null,
       "enable_editing": true,
       "enable_keys": false,
       "enable_keys_with_tooltip": true,
       "enable_search": true,
       "enable_tooltips": false,
       "full_screen_button": {
        "enable_editing": true,
        "enable_keys": true,
        "enable_tooltips": [
         "label"
        ],
        "menu": "all",
        "scroll_behavior": "pan"
       },
       "gene_data": null,
       "gene_font_size": 18,
       "height": 500,
       "hide_all_labels": false,
       "hide_secondary_metabolites": false,
       "highlight_missing": false,
       "identifiers_on_map": "bigg_id",
       "layout": "IPY_MODEL_8be8205e76994e72bcbfe9d858b63abf",
       "marker_radius": 5,
       "menu": "all",
       "metabolite_compare_style": "log2_fold",
       "metabolite_data": null,
       "metabolite_no_data_color": "#ffffff",
       "metabolite_no_data_size": 10,
       "metabolite_scale": [
        {
         "color": "#fffaf0",
         "size": 20,
         "type": "min"
        },
        {
         "color": "#f1c470",
         "size": 30,
         "type": "median"
        },
        {
         "color": "#800000",
         "size": 40,
         "type": "max"
        }
       ],
       "metabolite_scale_preset": "WhYlRd",
       "metabolite_styles": [
        "color",
        "size",
        "text"
       ],
       "never_ask_before_quit": true,
       "primary_metabolite_radius": 20,
       "reaction_compare_style": "log2_fold",
       "reaction_data": null,
       "reaction_no_data_color": "#dcdcdc",
       "reaction_no_data_size": 8,
       "reaction_scale": {},
       "reaction_scale_preset": null,
       "reaction_styles": [
        "color",
        "text"
       ],
       "scroll_behavior": "none",
       "secondary_metabolite_radius": 10,
       "semantic_zoom": null,
       "show_gene_reaction_rules": false,
       "starting_reaction": null,
       "use_3d_transform": false,
       "zoom_to_element": null
      }
     }
    },
    "version_major": 2,
    "version_minor": 0
   }
  }
 },
 "nbformat": 4,
 "nbformat_minor": 5
}
