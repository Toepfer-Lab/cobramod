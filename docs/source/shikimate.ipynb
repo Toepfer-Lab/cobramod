{
 "cells": [
  {
   "cell_type": "code",
   "execution_count": 1,
   "id": "bMOOBVzP9ave",
   "metadata": {
    "colab": {
     "base_uri": "https://localhost:8080/"
    },
    "id": "bMOOBVzP9ave",
    "outputId": "c4e5fe19-711a-4dbf-8f7e-86112ede417c"
   },
   "outputs": [
    {
     "name": "stdout",
     "output_type": "stream",
     "text": [
      "Scaling...\n",
      " A: min|aij| =  1.000e+00  max|aij| =  1.000e+00  ratio =  1.000e+00\n",
      "Problem data seem to be well scaled\n",
      "CobraMod version: 0.5.5-alpha.1\n",
      "COBRApy version: 0.22.1\n"
     ]
    }
   ],
   "source": [
    "from IPython.display import display\n",
    "from cobramod import __version__\n",
    "from cobra import __version__ as cobra_version\n",
    "print(f'CobraMod version: {__version__}')\n",
    "print(f'COBRApy version: {cobra_version}')\n",
    "# From Escher:\n",
    "# This option turns off the warning message if you leave or refresh this page\n",
    "import escher\n",
    "escher.rc['never_ask_before_quit'] = True"
   ]
  },
  {
   "cell_type": "markdown",
   "id": "SLOGRXdE8zOJ",
   "metadata": {
    "id": "SLOGRXdE8zOJ"
   },
   "source": [
    "\n",
    "# Analyising shikimate production using an *E. coli* core model"
   ]
  },
  {
   "cell_type": "markdown",
   "id": "c25b3164",
   "metadata": {
    "id": "c25b3164"
   },
   "source": [
    "## Introduction\n",
    "\n",
    "In this tutorial we use a core model of [*E. coli*](\n",
    "http://bigg.ucsd.edu/models/e_coli_core\n",
    ") [2] and extend it with [shikimate synthesis pathway](\n",
    "  https://biocyc.org/ECOLI/NEW-IMAGE?type=PATHWAY&object=ARO-PWY\n",
    "). Shikimate is an important precursor for aromatic compounds such as\n",
    "phenylalanine, tyrosine, and tryptophan. In [this article](\n",
    "https://doi.org/10.1016/j.biortech.2014.05.035) the authors *in vivo*\n",
    "engineered five *E. coli* strains for shikimate overproduction by deactivating\n",
    "genes for the enzymatic regulation of the shikimate metabolism [1].\n",
    "\n",
    "In our test case, we compare the control strain (`W3110`) with a strain (`SA3`)\n",
    "from the article. We use CobraMod to add the shikimate pathway from the BioCyc\n",
    "sub-database [EcoCyc](\n",
    " https://www.ecocyc.org/\n",
    ") for metabolic pathway information of *E. coli*. We then simulate and\n",
    "visualize shikimate production for the two strains. The shikimate pathway is shown below and is represented by\n",
    "two sub-pathways with the EcoCyc identifiers [PWY-6164](\n",
    "  https://biocyc.org/ECOLI/NEW-IMAGE?type=PATHWAY&object=PWY-6164\n",
    ") and [PWY-6163](\n",
    "  https://biocyc.org/ECOLI/NEW-IMAGE?type=PATHWAY&object=PWY-6163\n",
    "). \n",
    "\n",
    "<img src=\"https://websvc.biocyc.org/ECOLI/diagram-only?type=PATHWAY&object=ARO-PWY&pfontsize=normal&linear=snake\"/>\n",
    "\n",
    "\n",
    "<table style=\"border-collapse: collapse; width: 100%;\" border=\"1\">\n",
    "<tbody>\n",
    "<tr>\n",
    "<td style=\"width: 33.3333%;\"><strong>Pathway identifier</strong></td>\n",
    "<td style=\"width: 33.3333%;\"><strong>Pathway name</strong></td>\n",
    "</tr>\n",
    "<tr>\n",
    "<td style=\"width: 33.3333%;\">PWY-6164</td>\n",
    "<td style=\"width: 33.3333%;\">3-dehydroquinate biosynthesis I</td>\n",
    "</tr>\n",
    "<tr>\n",
    "<td style=\"width: 33.3333%;\">PWY-6163</td>\n",
    "<td style=\"width: 33.3333%;\">chorismate biosynthesis from 3-dehydroquinate</td>\n",
    "</tr>\n",
    "</tbody>\n",
    "</table>\n",
    "\n"
   ]
  },
  {
   "cell_type": "markdown",
   "id": "GVfuxpKy9Twf",
   "metadata": {
    "id": "GVfuxpKy9Twf"
   },
   "source": [
    "\n",
    "## Loading CobraMod and preparing medium for the simulation\n",
    "\n",
    "First, we use the *E. coli* core model from COBRApy as our model. This core model can be found under `cobramod.test.textbook` This core model contains 72\n",
    "metabolites, 95 reactions and 137 genes. We load the function\n",
    "[cobramod.add_pathway()](\n",
    "module/cobramod/index.html#cobramod.add_pathway\n",
    "), and the Python module [pathlib](\n",
    "https://docs.python.org/3/library/pathlib.html\n",
    ") to represent the system path where CobraMod stores the metabolic pathway\n",
    "information. We define the directory for pathway information as `dir_data`. The\n",
    "pathways with the respective reaction, gene and metabolite information are \n",
    "saved here."
   ]
  },
  {
   "cell_type": "code",
   "execution_count": 2,
   "id": "f2e21846",
   "metadata": {
    "execution": {
     "iopub.execute_input": "2021-06-04T09:23:30.608216Z",
     "iopub.status.busy": "2021-06-04T09:23:30.605802Z",
     "iopub.status.idle": "2021-06-04T09:23:33.249873Z",
     "shell.execute_reply": "2021-06-04T09:23:33.249480Z"
    },
    "id": "f2e21846",
    "scrolled": true
   },
   "outputs": [],
   "source": [
    "from pathlib import Path\n",
    "\n",
    "from cobramod import add_pathway\n",
    "from cobramod.test import textbook\n",
    "\n",
    "# Defining system path for data\n",
    "dir_data = Path.cwd().joinpath(\"data\")\n",
    "# Defining model\n",
    "model = textbook.copy()"
   ]
  },
  {
   "cell_type": "markdown",
   "id": "ecca1Ry_7ej0",
   "metadata": {
    "id": "ecca1Ry_7ej0"
   },
   "source": [
    "In the selected study, the authors used a culture medium including glucose and several other metabolites. Since only glucose is included in our core model and for the sake of simplicity we only constrain glucose and oxygen uptake."
   ]
  },
  {
   "cell_type": "code",
   "execution_count": 3,
   "id": "0a93a132",
   "metadata": {
    "id": "0a93a132",
    "scrolled": true
   },
   "outputs": [],
   "source": [
    "# limiting glucose\n",
    "model.exchanges.EX_glc__D_e.bounds = ( -10, 0)\n",
    "# limiting oxygen\n",
    "model.exchanges.EX_o2_e.bounds = (0, 0)"
   ]
  },
  {
   "cell_type": "markdown",
   "id": "4fb87bd2",
   "metadata": {
    "id": "4fb87bd2"
   },
   "source": [
    "## Adding the shikimate pathways\n",
    "\n",
    "To add a pathway to the model we use the function [add_pathway()](\n",
    "module/cobramod/index.html#cobramod.add_pathway\n",
    "). To do so, the first argument `model` is the respective model to extend. The\n",
    "argument `pathway` is the respective database-specific identifier for the pathway (`PWY-6164` and `PWY-6163`) following the database identifier `ECOLI`.\n",
    "We set the cytosol (`c`) as the compartment for the reactions and metabolites\n",
    "of the pathways. Because those sub-pathways are part of a larger pathway, we use\n",
    "the argument `group` to set create a single [cobramod.Pathway](\n",
    "module/cobramod/index.html#cobramod.Pathway\n",
    ") instead of two and merge both pathways.\n",
    "\n",
    "CobraMod tries avoiding duplicates reactions and metabolites. In our case, the\n",
    "`textbook` model uses BiGG identifiers and the downloaded metabolic pathway information use EcoCyc identifiers. When downloading data CobraMod checks the\n",
    "cross-references within the pathway information and searches for corresponding objects in the model. In this example CobraMod warns the user that metabolites\n",
    "such as `Pi` (phosphate), `WATER` and `ATP` are already included in the model.\n",
    "\n",
    "Lastly, calling the pathway object shows a table with its important attributes\n",
    "such as identifier, reactions and genes involved."
   ]
  },
  {
   "cell_type": "code",
   "execution_count": 4,
   "id": "7be52d6e",
   "metadata": {
    "colab": {
     "base_uri": "https://localhost:8080/",
     "height": 1000
    },
    "execution": {
     "iopub.execute_input": "2021-06-04T09:23:33.254331Z",
     "iopub.status.busy": "2021-06-04T09:23:33.253999Z",
     "iopub.status.idle": "2021-06-04T09:23:33.301626Z",
     "shell.execute_reply": "2021-06-04T09:23:33.301876Z"
    },
    "id": "7be52d6e",
    "outputId": "41dbc0c2-0f81-4f04-cb86-dd05844887fb",
    "scrolled": false
   },
   "outputs": [
    {
     "name": "stderr",
     "output_type": "stream",
     "text": [
      "/home/stefano/Documents/cobramod/src/cobramod/core/creation.py:161: UserWarning: Metabolite 'PHOSPHO-ENOL-PYRUVATE' was found as 'pep_c'. Please curate if necessary.\n",
      "  warn(message=msg, category=UserWarning)\n",
      "/home/stefano/Documents/cobramod/src/cobramod/core/creation.py:161: UserWarning: Metabolite 'ERYTHROSE-4P' was found as 'e4p_c'. Please curate if necessary.\n",
      "  warn(message=msg, category=UserWarning)\n",
      "/home/stefano/Documents/cobramod/src/cobramod/core/creation.py:161: UserWarning: Metabolite 'WATER' was found as 'h2o_c'. Please curate if necessary.\n",
      "  warn(message=msg, category=UserWarning)\n",
      "/home/stefano/Documents/cobramod/src/cobramod/core/creation.py:161: UserWarning: Metabolite 'Pi' was found as 'pi_c'. Please curate if necessary.\n",
      "  warn(message=msg, category=UserWarning)\n",
      "/home/stefano/Documents/cobramod/src/cobramod/core/extension.py:573: UserWarning: Auxiliary sink reaction for \"SK_DEHYDROQUINATE_c\" created. Consider removing it and adding the synthesis reactions for the metabolite.\n",
      "  warn(message=msg, category=UserWarning)\n"
     ]
    },
    {
     "name": "stdout",
     "output_type": "stream",
     "text": [
      "Number of       new   | removed entities in\n",
      "*=====================|===================*\n",
      "Reactions        2    |    0              \n",
      "Metabolites      2    |    0              \n",
      "Exchange         0    |    0              \n",
      "Demand           0    |    0              \n",
      "Sinks            1    |    0              \n",
      "Genes            4    |    0              \n",
      "Groups           1    |    0              \n",
      "\n"
     ]
    },
    {
     "name": "stderr",
     "output_type": "stream",
     "text": [
      "/home/stefano/Documents/cobramod/src/cobramod/core/creation.py:161: UserWarning: Metabolite 'NADP' was found as 'nadp_c'. Please curate if necessary.\n",
      "  warn(message=msg, category=UserWarning)\n",
      "/home/stefano/Documents/cobramod/src/cobramod/core/creation.py:161: UserWarning: Metabolite 'PROTON' was found as 'h_c'. Please curate if necessary.\n",
      "  warn(message=msg, category=UserWarning)\n",
      "/home/stefano/Documents/cobramod/src/cobramod/core/creation.py:161: UserWarning: Metabolite 'NADPH' was found as 'nadph_c'. Please curate if necessary.\n",
      "  warn(message=msg, category=UserWarning)\n",
      "/home/stefano/Documents/cobramod/src/cobramod/core/creation.py:161: UserWarning: Metabolite 'ATP' was found as 'atp_c'. Please curate if necessary.\n",
      "  warn(message=msg, category=UserWarning)\n",
      "/home/stefano/Documents/cobramod/src/cobramod/core/creation.py:161: UserWarning: Metabolite 'ADP' was found as 'adp_c'. Please curate if necessary.\n",
      "  warn(message=msg, category=UserWarning)\n"
     ]
    },
    {
     "name": "stdout",
     "output_type": "stream",
     "text": [
      "Number of       new   | removed entities in\n",
      "*=====================|===================*\n",
      "Reactions        5    |    0              \n",
      "Metabolites      5    |    0              \n",
      "Exchange         0    |    0              \n",
      "Demand           0    |    0              \n",
      "Sinks            1    |    1              \n",
      "Genes            6    |    0              \n",
      "Groups           0    |    0              \n",
      "\n"
     ]
    },
    {
     "name": "stderr",
     "output_type": "stream",
     "text": [
      "/home/stefano/Documents/cobramod/src/cobramod/core/extension.py:573: UserWarning: Auxiliary sink reaction for \"SK_CHORISMATE_c\" created. Consider removing it and adding the synthesis reactions for the metabolite.\n",
      "  warn(message=msg, category=UserWarning)\n"
     ]
    },
    {
     "data": {
      "text/html": [
       "\n",
       "<table> <tbody> <tr> <td><strong>Pathway identifier</strong></td>\n",
       "<td>PWY-SHIKIMATE</td> </tr> <tr> <td><strong>Name</strong></td>\n",
       "<td></td> </tr> <tr> <td><strong>Memory address</strong></td>\n",
       "<td>0x0139847409416080</td> </tr> <tr> <td><strong>Reactions involved</strong></td>\n",
       "<td> <p>DAHPSYN_RXN_c, 3_DEHYDROQUINATE_SYNTHASE_RXN_c, 3_DEHYDROQUINATE_DEHYDRATASE_RXN_c, SHIKIMATE_5_DEHYDROGENASE_RXN_c, SHIKIMATE_KINASE_RXN_c, 2.5.1.19_RXN_c, CHORISMATE_SYNTHASE_RXN_c</p> </td> </tr> <tr>\n",
       "<td><strong>Genes involved<br /></strong></td> <td> <p>EG10080, EG10079, EG10078, EG10074, EG10076, EG10077, EG10082, EG10081, EG10073, EG10075</p> </td> </tr> <tr>\n",
       "<td><strong>Visualization attributes</strong></td> <td> <ul> <li>vertical =\n",
       "False</li> <li>color_negative = None</li>\n",
       "<li>color_positive = None</li> <li>color_quantile =\n",
       "False</li> </ul> </td> </tr> </tbody> </table> <p>&nbsp;</p>\n"
      ],
      "text/plain": [
       "<Pathway PWY-SHIKIMATE at 0x7f30c3293790>"
      ]
     },
     "execution_count": 4,
     "metadata": {},
     "output_type": "execute_result"
    }
   ],
   "source": [
    "# first pathway\n",
    "add_pathway(\n",
    "    model=model,\n",
    "    pathway=\"PWY-6164\",\n",
    "    database=\"ECOLI\",\n",
    "    compartment=\"c\",\n",
    "    group=\"PWY-SHIKIMATE\",\n",
    "    directory=dir_data,\n",
    ")\n",
    "\n",
    "# second pathway\n",
    "add_pathway(\n",
    "    model=model,\n",
    "    pathway=\"PWY-6163\",\n",
    "    database=\"ECOLI\",\n",
    "    compartment=\"c\",\n",
    "    group=\"PWY-SHIKIMATE\",\n",
    "    directory=dir_data,\n",
    ")\n",
    "\n",
    "# Show attributes\n",
    "model.groups.get_by_id(\"PWY-SHIKIMATE\")"
   ]
  },
  {
   "cell_type": "markdown",
   "id": "1jlXNBHmQQwZ",
   "metadata": {
    "id": "1jlXNBHmQQwZ"
   },
   "source": [
    "Currently, CobraMod cannot visually merge sub-pathways. The first time we call\n",
    "the function [Pathway.visualize()](\n",
    "module/cobramod/core/pathway/index.html#cobramod.core.pathway.Pathway.visualize\n",
    "), CobraMod shows both pathways one above the other, instead of a single lineal\n",
    "pathway. To fix this, we use the method [Pathway.modify_graph()](\n",
    "module/cobramod/core/pathway/index.html#cobramod.core.pathway.Pathway.modify_graph\n",
    "). This function modifies the pathway by connecting two reactions in the \n",
    "visualization. The argument `reaction` is a reaction which does not have\n",
    "subsequent reaction. The argument `next_reaction` sets the subsequent new reaction.\n",
    "\n",
    "In the first visualization, `3_DEHYDROQUINATE_SYNTHASE_RXN_c` and\n",
    "`3_DEHYDROQUINATE_DEHYDRATASE_RXN_c` are not connected in the pathway. We use\n",
    "the `modify_graph` method to join both reactions. The dehydratase reaction is\n",
    "the subsequent reaction (`next_reaction`) of the synthase (`reaction`). When we\n",
    "visualize the pathway, it shows now a lineal pathway."
   ]
  },
  {
   "cell_type": "code",
   "execution_count": 5,
   "id": "cFSK-j5rQQai",
   "metadata": {
    "colab": {
     "base_uri": "https://localhost:8080/",
     "height": 17,
     "referenced_widgets": [
      "e6b30b65a71a4b198ee747bc8496c75b",
      "d19431d2f6174470a99707dca3004a55"
     ]
    },
    "id": "cFSK-j5rQQai",
    "outputId": "ee371388-6f63-40aa-e6a4-d5e2b2f26f8a"
   },
   "outputs": [
    {
     "data": {
      "application/vnd.jupyter.widget-view+json": {
       "model_id": "87f3f63b9d4c40a28c194596853e7c6f",
       "version_major": 2,
       "version_minor": 0
      },
      "text/plain": [
       "Builder(never_ask_before_quit=True, reaction_scale={}, reaction_styles=['color', 'text'])"
      ]
     },
     "metadata": {},
     "output_type": "display_data"
    },
    {
     "data": {
      "application/vnd.jupyter.widget-view+json": {
       "model_id": "7b91ee36e20a419396414f1c9e8b3027",
       "version_major": 2,
       "version_minor": 0
      },
      "text/plain": [
       "Builder(never_ask_before_quit=True, reaction_scale={}, reaction_styles=['color', 'text'])"
      ]
     },
     "metadata": {},
     "output_type": "display_data"
    }
   ],
   "source": [
    "# Show pathway map\n",
    "display(model.groups.get_by_id(\"PWY-SHIKIMATE\").visualize())\n",
    "# Merge reactions of the sub-pathways\n",
    "model.groups.get_by_id(\"PWY-SHIKIMATE\").modify_graph(\n",
    "    reaction=\"3_DEHYDROQUINATE_SYNTHASE_RXN_c\",\n",
    "    next_reaction=\"3_DEHYDROQUINATE_DEHYDRATASE_RXN_c\"\n",
    ")\n",
    "# Show pathway map\n",
    "model.groups.get_by_id(\"PWY-SHIKIMATE\").visualize()"
   ]
  },
  {
   "cell_type": "markdown",
   "id": "103e1713",
   "metadata": {
    "id": "103e1713"
   },
   "source": [
    "## Creating biomass reactions for the two *E. coli* strains\n",
    "\n",
    "Table 2 of the article shows the biomass and shikimate production for the different *E. coli* strains tested.  For the two strains of interest, these are following values:\n",
    "\n",
    "<table style=\"border-collapse: collapse; width: 100%;\" border=\"1\">\n",
    "<tbody>\n",
    "<tr>\n",
    "<td style=\"width: 33.3333%;\"><strong>Strains</strong></td>\n",
    "<td style=\"width: 33.3333%;\"><strong>Biomass (g/L)</strong></td>\n",
    "<td style=\"width: 33.3333%;\"><strong>Shikimate (mg/L)</strong></td>\n",
    "</tr>\n",
    "<tr>\n",
    "<td style=\"width: 33.3333%;\">W3110</td>\n",
    "<td style=\"width: 33.3333%;\">3.42 &plusmn; 0.26</td>\n",
    "<td style=\"width: 33.3333%;\">1.31 &plusmn; 0.12</td>\n",
    "</tr>\n",
    "<tr>\n",
    "<td style=\"width: 33.3333%;\">SA3</td>\n",
    "<td style=\"width: 33.3333%;\">5.24 &plusmn; 0.34</td>\n",
    "<td style=\"width: 33.3333%;\">417.20 &plusmn; 50.01</td>\n",
    "</tr>\n",
    "</tbody>\n",
    "</table>\n",
    "\n",
    "We use this data to update the biomass equation of our core model by including the contribution of shikimate to the overall biomass composition. For the sake of our tutorial we make some simplifying assumptions (e.g. the ratios of the other biomass components do not change, shikimate productions is coupled to growth) and use the following relationship:\n"
   ]
  },
  {
   "cell_type": "code",
   "execution_count": 6,
   "id": "_RAbEPDAeaW4",
   "metadata": {
    "colab": {
     "base_uri": "https://localhost:8080/"
    },
    "id": "_RAbEPDAeaW4",
    "outputId": "1e8c7103-6d33-4b17-8a95-8a9a3b3af2da"
   },
   "outputs": [
    {
     "data": {
      "text/plain": [
       "{'W3110': 0.00038304093567251464, 'SA3': 0.07961832061068702}"
      ]
     },
     "execution_count": 6,
     "metadata": {},
     "output_type": "execute_result"
    }
   ],
   "source": [
    "# Calculate ratios for the strains\n",
    "shikimate_ratio = {\n",
    "    \"W3110\": (1.31 / 1000) / 3.42,\n",
    "    \"SA3\": (417.20 / 1000) / 5.24\n",
    "}\n",
    "shikimate_ratio"
   ]
  },
  {
   "cell_type": "markdown",
   "id": "t0TnIORYOyDf",
   "metadata": {
    "id": "t0TnIORYOyDf"
   },
   "source": [
    "The next step is to calculate the new coefficients for the biomass reactions \n",
    "that includes shikimate. The table below shows a dataframe with the metabolite\n",
    "identifiers, their formula, molecular weight, their biomass reaction\n",
    "coefficient  and the multiplication between the coefficients and their weights.\n",
    "Metabolites with negative coefficient values are the reactants, while positive\n",
    "coefficient values are products in the biomass reaction.\n",
    "\n",
    "We assume and set the constrain that the sum of the negative coefficients cannot\n",
    "change and shikimate have a specific proportion (`shikimate_ratio`) in this sum."
   ]
  },
  {
   "cell_type": "code",
   "execution_count": 7,
   "id": "c7dc2c63",
   "metadata": {
    "colab": {
     "base_uri": "https://localhost:8080/"
    },
    "id": "c7dc2c63",
    "outputId": "2af9f130-c525-4700-93e7-5861b2d464fb"
   },
   "outputs": [
    {
     "name": "stdout",
     "output_type": "stream",
     "text": [
      "Sum of molecular weight multiplied by negative coefficients: -48165.2120532678\n",
      "Sum of molecular weight multiplied by positive coefficients: 46624.4458868131\n"
     ]
    }
   ],
   "source": [
    "import pandas as pd\n",
    "\n",
    "# Building dataframe from Biomass\n",
    "biomass_df = pd.DataFrame(\n",
    "    [metabolite.id, metabolite.formula, metabolite.formula_weight, value]\n",
    "    for metabolite, value in model.reactions.get_by_id(\n",
    "        \"Biomass_Ecoli_core\"\n",
    "    ).metabolites.items()\n",
    ")\n",
    "biomass_df.columns = [\"identifier\", \"formula\", \"mol_weight\", \"coefficient\"]\n",
    "biomass_df[\"mol_weight*coefficient\"] = (\n",
    "    biomass_df[\"mol_weight\"] * biomass_df[\"coefficient\"]\n",
    ")\n",
    "# display(biomass_df)\n",
    "\n",
    "# Calculate Sum of coefficients multiplied by constants\n",
    "sum_mol_coefficient_negative = biomass_df[\"mol_weight*coefficient\"][\n",
    "    biomass_df[\"mol_weight*coefficient\"] < 0\n",
    "].sum()\n",
    "sum_mol_coefficient_positive = biomass_df[\"mol_weight*coefficient\"][\n",
    "    biomass_df[\"mol_weight*coefficient\"] > 0\n",
    "].sum()\n",
    "print(\n",
    "    \"Sum of molecular weight multiplied by negative coefficients: \"\n",
    "    + f\"{sum_mol_coefficient_negative}\"\n",
    ")\n",
    "print(\n",
    "    \"Sum of molecular weight multiplied by positive coefficients: \"\n",
    "    + f\"{sum_mol_coefficient_positive}\"\n",
    ")"
   ]
  },
  {
   "cell_type": "markdown",
   "id": "VxBYL872QuIq",
   "metadata": {
    "id": "VxBYL872QuIq"
   },
   "source": [
    "We created a function to return a table with the new negative coefficients of \n",
    "the biomass reaction. In the first part we calculate the proportion of\n",
    "shikimate (`shikimate_mol_weight_coefficient`). Then we calculate the proportion\n",
    "for the rest of the metabolites. Finally, we can divided the new proportions\n",
    "of each metabolite by its molecular weight. This results in the respective\n",
    "new coefficient.\n",
    "\n",
    "The two tables below shows the new coefficient (`new_coefficient`) for each \n",
    "strain."
   ]
  },
  {
   "cell_type": "code",
   "execution_count": 8,
   "id": "yq_O6zL-mEsN",
   "metadata": {
    "colab": {
     "base_uri": "https://localhost:8080/",
     "height": 1000
    },
    "id": "yq_O6zL-mEsN",
    "outputId": "d001431c-5b0c-4ab1-b9c0-42203f79ace3"
   },
   "outputs": [
    {
     "name": "stdout",
     "output_type": "stream",
     "text": [
      "Table with new negative coefficients for W3110 strain\n"
     ]
    },
    {
     "data": {
      "text/html": [
       "<div>\n",
       "<style scoped>\n",
       "    .dataframe tbody tr th:only-of-type {\n",
       "        vertical-align: middle;\n",
       "    }\n",
       "\n",
       "    .dataframe tbody tr th {\n",
       "        vertical-align: top;\n",
       "    }\n",
       "\n",
       "    .dataframe thead th {\n",
       "        text-align: right;\n",
       "    }\n",
       "</style>\n",
       "<table border=\"1\" class=\"dataframe\">\n",
       "  <thead>\n",
       "    <tr style=\"text-align: right;\">\n",
       "      <th></th>\n",
       "      <th>identifier</th>\n",
       "      <th>new_coefficient</th>\n",
       "    </tr>\n",
       "  </thead>\n",
       "  <tbody>\n",
       "    <tr>\n",
       "      <th>0</th>\n",
       "      <td>3pg_c</td>\n",
       "      <td>-1.495427</td>\n",
       "    </tr>\n",
       "    <tr>\n",
       "      <th>1</th>\n",
       "      <td>accoa_c</td>\n",
       "      <td>-3.746364</td>\n",
       "    </tr>\n",
       "    <tr>\n",
       "      <th>2</th>\n",
       "      <td>atp_c</td>\n",
       "      <td>-59.78709</td>\n",
       "    </tr>\n",
       "    <tr>\n",
       "      <th>3</th>\n",
       "      <td>e4p_c</td>\n",
       "      <td>-0.360862</td>\n",
       "    </tr>\n",
       "    <tr>\n",
       "      <th>4</th>\n",
       "      <td>f6p_c</td>\n",
       "      <td>-0.070873</td>\n",
       "    </tr>\n",
       "    <tr>\n",
       "      <th>5</th>\n",
       "      <td>g3p_c</td>\n",
       "      <td>-0.128951</td>\n",
       "    </tr>\n",
       "    <tr>\n",
       "      <th>6</th>\n",
       "      <td>g6p_c</td>\n",
       "      <td>-0.204921</td>\n",
       "    </tr>\n",
       "    <tr>\n",
       "      <th>7</th>\n",
       "      <td>gln__L_c</td>\n",
       "      <td>-0.255602</td>\n",
       "    </tr>\n",
       "    <tr>\n",
       "      <th>8</th>\n",
       "      <td>glu__L_c</td>\n",
       "      <td>-4.939507</td>\n",
       "    </tr>\n",
       "    <tr>\n",
       "      <th>9</th>\n",
       "      <td>h2o_c</td>\n",
       "      <td>-59.78709</td>\n",
       "    </tr>\n",
       "    <tr>\n",
       "      <th>10</th>\n",
       "      <td>nad_c</td>\n",
       "      <td>-3.545641</td>\n",
       "    </tr>\n",
       "    <tr>\n",
       "      <th>11</th>\n",
       "      <td>nadph_c</td>\n",
       "      <td>-13.02291</td>\n",
       "    </tr>\n",
       "    <tr>\n",
       "      <th>12</th>\n",
       "      <td>oaa_c</td>\n",
       "      <td>-1.786016</td>\n",
       "    </tr>\n",
       "    <tr>\n",
       "      <th>13</th>\n",
       "      <td>pep_c</td>\n",
       "      <td>-0.518901</td>\n",
       "    </tr>\n",
       "    <tr>\n",
       "      <th>14</th>\n",
       "      <td>pyr_c</td>\n",
       "      <td>-2.831715</td>\n",
       "    </tr>\n",
       "    <tr>\n",
       "      <th>15</th>\n",
       "      <td>r5p_c</td>\n",
       "      <td>-0.897356</td>\n",
       "    </tr>\n",
       "    <tr>\n",
       "      <th>16</th>\n",
       "      <td>SHIKIMATE_c</td>\n",
       "      <td>-0.106557</td>\n",
       "    </tr>\n",
       "  </tbody>\n",
       "</table>\n",
       "</div>"
      ],
      "text/plain": [
       "     identifier new_coefficient\n",
       "0         3pg_c       -1.495427\n",
       "1       accoa_c       -3.746364\n",
       "2         atp_c       -59.78709\n",
       "3         e4p_c       -0.360862\n",
       "4         f6p_c       -0.070873\n",
       "5         g3p_c       -0.128951\n",
       "6         g6p_c       -0.204921\n",
       "7      gln__L_c       -0.255602\n",
       "8      glu__L_c       -4.939507\n",
       "9         h2o_c       -59.78709\n",
       "10        nad_c       -3.545641\n",
       "11      nadph_c       -13.02291\n",
       "12        oaa_c       -1.786016\n",
       "13        pep_c       -0.518901\n",
       "14        pyr_c       -2.831715\n",
       "15        r5p_c       -0.897356\n",
       "16  SHIKIMATE_c       -0.106557"
      ]
     },
     "metadata": {},
     "output_type": "display_data"
    },
    {
     "name": "stdout",
     "output_type": "stream",
     "text": [
      "Table with new negative coefficients for SA3 strain\n"
     ]
    },
    {
     "data": {
      "text/html": [
       "<div>\n",
       "<style scoped>\n",
       "    .dataframe tbody tr th:only-of-type {\n",
       "        vertical-align: middle;\n",
       "    }\n",
       "\n",
       "    .dataframe tbody tr th {\n",
       "        vertical-align: top;\n",
       "    }\n",
       "\n",
       "    .dataframe thead th {\n",
       "        text-align: right;\n",
       "    }\n",
       "</style>\n",
       "<table border=\"1\" class=\"dataframe\">\n",
       "  <thead>\n",
       "    <tr style=\"text-align: right;\">\n",
       "      <th></th>\n",
       "      <th>identifier</th>\n",
       "      <th>new_coefficient</th>\n",
       "    </tr>\n",
       "  </thead>\n",
       "  <tbody>\n",
       "    <tr>\n",
       "      <th>0</th>\n",
       "      <td>3pg_c</td>\n",
       "      <td>-1.376891</td>\n",
       "    </tr>\n",
       "    <tr>\n",
       "      <th>1</th>\n",
       "      <td>accoa_c</td>\n",
       "      <td>-3.449406</td>\n",
       "    </tr>\n",
       "    <tr>\n",
       "      <th>2</th>\n",
       "      <td>atp_c</td>\n",
       "      <td>-55.048028</td>\n",
       "    </tr>\n",
       "    <tr>\n",
       "      <th>3</th>\n",
       "      <td>e4p_c</td>\n",
       "      <td>-0.332258</td>\n",
       "    </tr>\n",
       "    <tr>\n",
       "      <th>4</th>\n",
       "      <td>f6p_c</td>\n",
       "      <td>-0.065255</td>\n",
       "    </tr>\n",
       "    <tr>\n",
       "      <th>5</th>\n",
       "      <td>g3p_c</td>\n",
       "      <td>-0.118729</td>\n",
       "    </tr>\n",
       "    <tr>\n",
       "      <th>6</th>\n",
       "      <td>g6p_c</td>\n",
       "      <td>-0.188678</td>\n",
       "    </tr>\n",
       "    <tr>\n",
       "      <th>7</th>\n",
       "      <td>gln__L_c</td>\n",
       "      <td>-0.235342</td>\n",
       "    </tr>\n",
       "    <tr>\n",
       "      <th>8</th>\n",
       "      <td>glu__L_c</td>\n",
       "      <td>-4.547974</td>\n",
       "    </tr>\n",
       "    <tr>\n",
       "      <th>9</th>\n",
       "      <td>h2o_c</td>\n",
       "      <td>-55.048028</td>\n",
       "    </tr>\n",
       "    <tr>\n",
       "      <th>10</th>\n",
       "      <td>nad_c</td>\n",
       "      <td>-3.264594</td>\n",
       "    </tr>\n",
       "    <tr>\n",
       "      <th>11</th>\n",
       "      <td>nadph_c</td>\n",
       "      <td>-11.99064</td>\n",
       "    </tr>\n",
       "    <tr>\n",
       "      <th>12</th>\n",
       "      <td>oaa_c</td>\n",
       "      <td>-1.644446</td>\n",
       "    </tr>\n",
       "    <tr>\n",
       "      <th>13</th>\n",
       "      <td>pep_c</td>\n",
       "      <td>-0.47777</td>\n",
       "    </tr>\n",
       "    <tr>\n",
       "      <th>14</th>\n",
       "      <td>pyr_c</td>\n",
       "      <td>-2.607257</td>\n",
       "    </tr>\n",
       "    <tr>\n",
       "      <th>15</th>\n",
       "      <td>r5p_c</td>\n",
       "      <td>-0.826227</td>\n",
       "    </tr>\n",
       "    <tr>\n",
       "      <th>16</th>\n",
       "      <td>SHIKIMATE_c</td>\n",
       "      <td>-22.148743</td>\n",
       "    </tr>\n",
       "  </tbody>\n",
       "</table>\n",
       "</div>"
      ],
      "text/plain": [
       "     identifier new_coefficient\n",
       "0         3pg_c       -1.376891\n",
       "1       accoa_c       -3.449406\n",
       "2         atp_c      -55.048028\n",
       "3         e4p_c       -0.332258\n",
       "4         f6p_c       -0.065255\n",
       "5         g3p_c       -0.118729\n",
       "6         g6p_c       -0.188678\n",
       "7      gln__L_c       -0.235342\n",
       "8      glu__L_c       -4.547974\n",
       "9         h2o_c      -55.048028\n",
       "10        nad_c       -3.264594\n",
       "11      nadph_c       -11.99064\n",
       "12        oaa_c       -1.644446\n",
       "13        pep_c        -0.47777\n",
       "14        pyr_c       -2.607257\n",
       "15        r5p_c       -0.826227\n",
       "16  SHIKIMATE_c      -22.148743"
      ]
     },
     "execution_count": 8,
     "metadata": {},
     "output_type": "execute_result"
    }
   ],
   "source": [
    "def new_coefficient(ratio: float):\n",
    "    \"\"\"\n",
    "    Returns the a dataframe with the new coefficient for reactants of the biomass\n",
    "    equation.\n",
    "    \"\"\"\n",
    "    SHIKIMATE_MOL_WEIGHT = 173.14\n",
    "    shikimate_mol_weight_coefficient = sum_mol_coefficient_negative * ratio\n",
    "    # Calculating new multiplication between the coefficients and constants\n",
    "    new_mol_weight_coefficient = biomass_df[\"mol_weight*coefficient\"][\n",
    "        biomass_df[\"mol_weight*coefficient\"] < 0\n",
    "    ] * (1 - ratio)\n",
    "    new_mol_weight_coefficient[\n",
    "        len(new_mol_weight_coefficient)\n",
    "    ] = shikimate_mol_weight_coefficient\n",
    "    # Verify that the sums are the same\n",
    "    assert round(new_mol_weight_coefficient.sum(), 4) == round(\n",
    "        sum_mol_coefficient_negative, 4\n",
    "    )\n",
    "\n",
    "    # Creating series with names of metabolites\n",
    "    identifiers = biomass_df[\"identifier\"][\n",
    "        biomass_df[\"mol_weight*coefficient\"] < 0\n",
    "    ]\n",
    "    identifiers[len(identifiers)] = \"SHIKIMATE_c\"\n",
    "\n",
    "    # Creating series with molecular weight of metabolites\n",
    "    mol_weight = biomass_df[\"mol_weight\"][\n",
    "        biomass_df[\"mol_weight*coefficient\"] < 0\n",
    "    ]\n",
    "    mol_weight[len(mol_weight)] = SHIKIMATE_MOL_WEIGHT\n",
    "\n",
    "    # Building new dataframe\n",
    "    new_coefficient_df = pd.DataFrame(\n",
    "        [identifiers, new_mol_weight_coefficient]\n",
    "    ).transpose()\n",
    "    new_coefficient_df[\"new_coefficient\"] = new_coefficient_df[\n",
    "        \"mol_weight*coefficient\"\n",
    "    ].divide(mol_weight)\n",
    "\n",
    "    # Appending old coefficients\n",
    "    new_coefficient_df[\"old_coefficient\"] = biomass_df[\"coefficient\"][\n",
    "        biomass_df[\"mol_weight*coefficient\"] < 0\n",
    "    ]\n",
    "    return new_coefficient_df\n",
    "\n",
    "W3110_df_negative = new_coefficient(ratio=shikimate_ratio[\"W3110\"])\n",
    "SA3_df_negative = new_coefficient(ratio=shikimate_ratio[\"SA3\"])\n",
    "\n",
    "# Display and format only relevant information\n",
    "print(\"Table with new negative coefficients for W3110 strain\")\n",
    "display(W3110_df_negative.loc[:,[\"identifier\",\"new_coefficient\"]])\n",
    "print(\"Table with new negative coefficients for SA3 strain\")\n",
    "SA3_df_negative.loc[:,[\"identifier\",\"new_coefficient\"]]"
   ]
  },
  {
   "cell_type": "markdown",
   "id": "AlsGM2Y3k8oU",
   "metadata": {
    "id": "AlsGM2Y3k8oU"
   },
   "source": [
    "We also calculate the new positive coefficients for the biomass reactions. In \n",
    "the biomass equation, there are metabolites that share the same value, for \n",
    "example `adp_c` and  `atp_c` with 59.8100. We set the constraint that the sum\n",
    "of the molecular weight multiply by the coefficient cannot change. We use the \n",
    "new coefficients from the previous tables to set the new positive coefficient\n",
    "for the products.\n",
    "\n",
    "We created another function to calculate the new positive coefficients. The \n",
    "first step is to define the new coefficients of the metabolite that share \n",
    "similar values with their counterparts (e.g `adp_c` and `atp_c`). The second\n",
    "step is to calculate the coefficient of the only metabolite that does not\n",
    "have a counterpart (`akg_c`).\n",
    "\n",
    "The tables below shows the new positive coefficients for both strains."
   ]
  },
  {
   "cell_type": "code",
   "execution_count": 9,
   "id": "-ME-2_JOhI2q",
   "metadata": {
    "colab": {
     "base_uri": "https://localhost:8080/",
     "height": 562
    },
    "id": "-ME-2_JOhI2q",
    "outputId": "5a4a0ba6-cdff-446a-d610-2638f4514f3d"
   },
   "outputs": [
    {
     "name": "stdout",
     "output_type": "stream",
     "text": [
      "Table with new positive coefficients for W3110 strain\n"
     ]
    },
    {
     "data": {
      "text/html": [
       "<div>\n",
       "<style scoped>\n",
       "    .dataframe tbody tr th:only-of-type {\n",
       "        vertical-align: middle;\n",
       "    }\n",
       "\n",
       "    .dataframe tbody tr th {\n",
       "        vertical-align: top;\n",
       "    }\n",
       "\n",
       "    .dataframe thead th {\n",
       "        text-align: right;\n",
       "    }\n",
       "</style>\n",
       "<table border=\"1\" class=\"dataframe\">\n",
       "  <thead>\n",
       "    <tr style=\"text-align: right;\">\n",
       "      <th></th>\n",
       "      <th>identifier</th>\n",
       "      <th>new_coefficient</th>\n",
       "    </tr>\n",
       "  </thead>\n",
       "  <tbody>\n",
       "    <tr>\n",
       "      <th>0</th>\n",
       "      <td>adp_c</td>\n",
       "      <td>59.787090</td>\n",
       "    </tr>\n",
       "    <tr>\n",
       "      <th>1</th>\n",
       "      <td>akg_c</td>\n",
       "      <td>4.240573</td>\n",
       "    </tr>\n",
       "    <tr>\n",
       "      <th>2</th>\n",
       "      <td>coa_c</td>\n",
       "      <td>3.746364</td>\n",
       "    </tr>\n",
       "    <tr>\n",
       "      <th>3</th>\n",
       "      <td>h_c</td>\n",
       "      <td>59.787090</td>\n",
       "    </tr>\n",
       "    <tr>\n",
       "      <th>4</th>\n",
       "      <td>nadh_c</td>\n",
       "      <td>3.545641</td>\n",
       "    </tr>\n",
       "    <tr>\n",
       "      <th>5</th>\n",
       "      <td>nadp_c</td>\n",
       "      <td>13.022910</td>\n",
       "    </tr>\n",
       "    <tr>\n",
       "      <th>6</th>\n",
       "      <td>pi_c</td>\n",
       "      <td>59.787090</td>\n",
       "    </tr>\n",
       "  </tbody>\n",
       "</table>\n",
       "</div>"
      ],
      "text/plain": [
       "  identifier  new_coefficient\n",
       "0      adp_c        59.787090\n",
       "1      akg_c         4.240573\n",
       "2      coa_c         3.746364\n",
       "3        h_c        59.787090\n",
       "4     nadh_c         3.545641\n",
       "5     nadp_c        13.022910\n",
       "6       pi_c        59.787090"
      ]
     },
     "metadata": {},
     "output_type": "display_data"
    },
    {
     "name": "stdout",
     "output_type": "stream",
     "text": [
      "Table with new positive coefficients for SA3 strain\n"
     ]
    },
    {
     "data": {
      "text/html": [
       "<div>\n",
       "<style scoped>\n",
       "    .dataframe tbody tr th:only-of-type {\n",
       "        vertical-align: middle;\n",
       "    }\n",
       "\n",
       "    .dataframe tbody tr th {\n",
       "        vertical-align: top;\n",
       "    }\n",
       "\n",
       "    .dataframe thead th {\n",
       "        text-align: right;\n",
       "    }\n",
       "</style>\n",
       "<table border=\"1\" class=\"dataframe\">\n",
       "  <thead>\n",
       "    <tr style=\"text-align: right;\">\n",
       "      <th></th>\n",
       "      <th>identifier</th>\n",
       "      <th>new_coefficient</th>\n",
       "    </tr>\n",
       "  </thead>\n",
       "  <tbody>\n",
       "    <tr>\n",
       "      <th>0</th>\n",
       "      <td>adp_c</td>\n",
       "      <td>55.048028</td>\n",
       "    </tr>\n",
       "    <tr>\n",
       "      <th>1</th>\n",
       "      <td>akg_c</td>\n",
       "      <td>29.554487</td>\n",
       "    </tr>\n",
       "    <tr>\n",
       "      <th>2</th>\n",
       "      <td>coa_c</td>\n",
       "      <td>3.449406</td>\n",
       "    </tr>\n",
       "    <tr>\n",
       "      <th>3</th>\n",
       "      <td>h_c</td>\n",
       "      <td>55.048028</td>\n",
       "    </tr>\n",
       "    <tr>\n",
       "      <th>4</th>\n",
       "      <td>nadh_c</td>\n",
       "      <td>3.264594</td>\n",
       "    </tr>\n",
       "    <tr>\n",
       "      <th>5</th>\n",
       "      <td>nadp_c</td>\n",
       "      <td>11.990640</td>\n",
       "    </tr>\n",
       "    <tr>\n",
       "      <th>6</th>\n",
       "      <td>pi_c</td>\n",
       "      <td>55.048028</td>\n",
       "    </tr>\n",
       "  </tbody>\n",
       "</table>\n",
       "</div>"
      ],
      "text/plain": [
       "  identifier  new_coefficient\n",
       "0      adp_c        55.048028\n",
       "1      akg_c        29.554487\n",
       "2      coa_c         3.449406\n",
       "3        h_c        55.048028\n",
       "4     nadh_c         3.264594\n",
       "5     nadp_c        11.990640\n",
       "6       pi_c        55.048028"
      ]
     },
     "metadata": {},
     "output_type": "display_data"
    }
   ],
   "source": [
    "def new_positive_coefficient(df: pd.DataFrame):\n",
    "    \"\"\"\n",
    "    Returns a DataFrame with the new coefficients for the products of the\n",
    "    biomass reaction. The input dataframe is the dataframe with the new\n",
    "    coefficients for the reactants.\n",
    "    \"\"\"\n",
    "    # Copy original biomass df and remove columns\n",
    "    products = biomass_df[biomass_df[\"mol_weight*coefficient\"] > 0].copy()\n",
    "    del products[\"formula\"]\n",
    "    del products[\"mol_weight*coefficient\"]\n",
    "    products.columns = products.columns.str.replace(\n",
    "        \"coefficient\", \"old_coefficient\"\n",
    "    )   \n",
    "\n",
    "    # Create new column with the equivalent new coefficients\n",
    "    products[\"new_coefficient\"] = [\n",
    "        df[\"new_coefficient\"][2],\n",
    "        0,\n",
    "        df[\"new_coefficient\"][1],\n",
    "        df[\"new_coefficient\"][2],\n",
    "        df[\"new_coefficient\"][10],\n",
    "        df[\"new_coefficient\"][11],\n",
    "        df[\"new_coefficient\"][2],\n",
    "    ]\n",
    "    # Update index and convert to absolute value\n",
    "    products.index = range(0, len(products[\"new_coefficient\"]))\n",
    "    products[\"new_coefficient\"] = products[\"new_coefficient\"] * -1\n",
    "    products[\"mol_weight_coefficient\"] = (\n",
    "        products[\"mol_weight\"].multiply(products[\"new_coefficient\"])\n",
    "    )\n",
    "\n",
    "    # Calculate mol weight coefficient of akg. This is the rest from the\n",
    "    # original sum (sum_mol_coefficient_positive)\n",
    "    akg_mol_weight_coefficient = (\n",
    "        sum_mol_coefficient_positive - products[\"mol_weight_coefficient\"].sum()\n",
    "    )\n",
    "    # Define new value of akg_mol_weight_coefficient\n",
    "    products.loc[1, \"mol_weight_coefficient\"] = akg_mol_weight_coefficient\n",
    "    \n",
    "    # The sum of column must be the same as sum_mol_coefficient_positive\n",
    "    assert round(products[\"mol_weight_coefficient\"].sum(), 4) == round(\n",
    "        sum_mol_coefficient_positive, 4\n",
    "    )\n",
    "\n",
    "    # Calculate back the coefficient of akg\n",
    "    products.loc[1, \"new_coefficient\"] = (\n",
    "        products[\"mol_weight_coefficient\"][1] / products[\"mol_weight\"][1]\n",
    "    )\n",
    "    return products\n",
    "W3110_df_positive = new_positive_coefficient(W3110_df_negative)\n",
    "SA3_df_positive = new_positive_coefficient(SA3_df_negative)\n",
    "\n",
    "# Display and format only relevant information\n",
    "print(\"Table with new positive coefficients for W3110 strain\")\n",
    "display(W3110_df_positive.loc[:,[\"identifier\",\"new_coefficient\"]])\n",
    "print(\"Table with new positive coefficients for SA3 strain\")\n",
    "display(SA3_df_positive.loc[:,[\"identifier\",\"new_coefficient\"]])"
   ]
  },
  {
   "cell_type": "markdown",
   "id": "dCs4IkKTuO2l",
   "metadata": {
    "id": "dCs4IkKTuO2l"
   },
   "source": [
    "Finally, we create a function that uses the tables of the reactants and \n",
    "products and builds a COBRAPy reaction using their coefficients. After creating\n",
    "the reactions we added to the core model."
   ]
  },
  {
   "cell_type": "code",
   "execution_count": 10,
   "id": "67c6b272",
   "metadata": {
    "colab": {
     "base_uri": "https://localhost:8080/",
     "height": 460
    },
    "id": "67c6b272",
    "outputId": "a3f8f406-772e-4578-8817-593815bc24dd"
   },
   "outputs": [
    {
     "data": {
      "text/html": [
       "\n",
       "        <table>\n",
       "            <tr>\n",
       "                <td><strong>Reaction identifier</strong></td><td>W3110_biomass</td>\n",
       "            </tr><tr>\n",
       "                <td><strong>Name</strong></td><td></td>\n",
       "            </tr><tr>\n",
       "                <td><strong>Memory address</strong></td>\n",
       "                <td>0x07f30c3360a90</td>\n",
       "            </tr><tr>\n",
       "                <td><strong>Stoichiometry</strong></td>\n",
       "                <td>\n",
       "                    <p style='text-align:right'>1.495426970760234 3pg_c + 0.10655682044443099 SHIKIMATE_c + 3.746364439181286 accoa_c + 59.78709032163742 atp_c + 0.3608617222222222 e4p_c + 0.07087284239766083 f6p_c + 0.12895058771929824 g3p_c +...</p>\n",
       "                    <p style='text-align:right'>1.495426970760234 3-Phospho-D-glycerate + 0.10655682044443099 shikimate + 3.746364439181286 Acetyl-CoA + 59.78709032163742 ATP + 0.3608617222222222 D-Erythrose 4-phosphate + 0.07087284239766083...</p>\n",
       "                </td>\n",
       "            </tr><tr>\n",
       "                <td><strong>GPR</strong></td><td></td>\n",
       "            </tr><tr>\n",
       "                <td><strong>Lower bound</strong></td><td>0.0</td>\n",
       "            </tr><tr>\n",
       "                <td><strong>Upper bound</strong></td><td>1000.0</td>\n",
       "            </tr>\n",
       "        </table>\n",
       "        "
      ],
      "text/plain": [
       "<Reaction W3110_biomass at 0x7f30c3360a90>"
      ]
     },
     "metadata": {},
     "output_type": "display_data"
    },
    {
     "data": {
      "text/html": [
       "\n",
       "        <table>\n",
       "            <tr>\n",
       "                <td><strong>Reaction identifier</strong></td><td>SA3_biomass</td>\n",
       "            </tr><tr>\n",
       "                <td><strong>Name</strong></td><td></td>\n",
       "            </tr><tr>\n",
       "                <td><strong>Memory address</strong></td>\n",
       "                <td>0x07f30c32ac150</td>\n",
       "            </tr><tr>\n",
       "                <td><strong>Stoichiometry</strong></td>\n",
       "                <td>\n",
       "                    <p style='text-align:right'>1.376890992366412 3pg_c + 22.148742610250682 SHIKIMATE_c + 3.4494064580152664 accoa_c + 55.0480282442748 atp_c + 0.33225778625954194 e4p_c + 0.06525506106870228 f6p_c + 0.11872923664122137 g3p_c +...</p>\n",
       "                    <p style='text-align:right'>1.376890992366412 3-Phospho-D-glycerate + 22.148742610250682 shikimate + 3.4494064580152664 Acetyl-CoA + 55.0480282442748 ATP + 0.33225778625954194 D-Erythrose 4-phosphate + 0.06525506106870228...</p>\n",
       "                </td>\n",
       "            </tr><tr>\n",
       "                <td><strong>GPR</strong></td><td></td>\n",
       "            </tr><tr>\n",
       "                <td><strong>Lower bound</strong></td><td>0.0</td>\n",
       "            </tr><tr>\n",
       "                <td><strong>Upper bound</strong></td><td>1000.0</td>\n",
       "            </tr>\n",
       "        </table>\n",
       "        "
      ],
      "text/plain": [
       "<Reaction SA3_biomass at 0x7f30c32ac150>"
      ]
     },
     "metadata": {},
     "output_type": "display_data"
    }
   ],
   "source": [
    "from cobra import Reaction\n",
    "\n",
    "\n",
    "def create_biomass(\n",
    "    df_reactants: pd.DataFrame, df_products: pd.DataFrame, identifier: str\n",
    "):\n",
    "    \"\"\"\n",
    "    Creates a Reaction from the reactant and product DataFrame with new\n",
    "    coefficients.\n",
    "    \"\"\"\n",
    "    reaction = Reaction(id=identifier)\n",
    "    # Iterate over reactants\n",
    "    for index, row in df_reactants.iterrows():\n",
    "        reaction.add_metabolites(\n",
    "            {\n",
    "                model.metabolites.get_by_id(row[\"identifier\"]): row[\n",
    "                    \"new_coefficient\"\n",
    "                ]\n",
    "            }\n",
    "        )\n",
    "    # Iterate over products\n",
    "    for index, row in df_products.iterrows():\n",
    "        reaction.add_metabolites(\n",
    "            {\n",
    "                model.metabolites.get_by_id(row[\"identifier\"]): row[\n",
    "                    \"new_coefficient\"\n",
    "                ]\n",
    "            }\n",
    "        )\n",
    "    return reaction\n",
    "\n",
    "\n",
    "biomass_W3110 = create_biomass(\n",
    "    W3110_df_negative, W3110_df_positive, \"W3110_biomass\"\n",
    ")\n",
    "\n",
    "biomass_SA3 = create_biomass(\n",
    "    SA3_df_negative, SA3_df_positive, \"SA3_biomass\"\n",
    ")\n",
    "# Show new reactions\n",
    "display(biomass_W3110)\n",
    "display(biomass_SA3)\n",
    "\n",
    "# Add to model\n",
    "model.add_reactions([biomass_W3110, biomass_SA3])"
   ]
  },
  {
   "cell_type": "markdown",
   "id": "33db9895",
   "metadata": {
    "id": "33db9895"
   },
   "source": [
    "## Obtaining solution fluxes\n",
    "\n",
    "To visualize the fluxes for the pathway, we need to optimize our model. Using\n",
    "COBRApy we run flux balance analysis twice and set for each run the respective\n",
    "new biomass reaction as objective function. Using the COBRApy method\n",
    "[cobra.model.optimize()](\n",
    "  https://cobrapy.readthedocs.io/en/latest/autoapi/cobra/core/model/index.html#cobra.core.model.Model.optimize\n",
    ") we get two [solutions objects](\n",
    "  https://cobrapy.readthedocs.io/en/latest/autoapi/cobra/core/solution/index.html#cobra.core.solution.Solution\n",
    "). \n",
    "We can see that the solution for the W3110 strain has a higher objective value\n",
    "(0.2114) than the SA3 strain objective value (0.1058). Because shikimate has\n",
    "a higher proportion in the biomass equation for SA3, this results a penalty\n",
    "in the objective function.\n"
   ]
  },
  {
   "cell_type": "code",
   "execution_count": 11,
   "id": "2cf9f942",
   "metadata": {
    "colab": {
     "base_uri": "https://localhost:8080/",
     "height": 1000
    },
    "id": "2cf9f942",
    "outputId": "55d0da78-1a3d-4454-a09a-24fd1bb089f2",
    "scrolled": true
   },
   "outputs": [
    {
     "data": {
      "text/html": [
       "<h3>Objective</h3><p>1.0 W3110_biomass = 0.21141376337105094</p><h4>Uptake</h4><table border=\"1\" class=\"dataframe\">\n",
       "  <thead>\n",
       "    <tr style=\"text-align: right;\">\n",
       "      <th>Metabolite</th>\n",
       "      <th>Reaction</th>\n",
       "      <th>Flux</th>\n",
       "      <th>C-Number</th>\n",
       "      <th>C-Flux</th>\n",
       "    </tr>\n",
       "  </thead>\n",
       "  <tbody>\n",
       "    <tr>\n",
       "      <td>co2_e</td>\n",
       "      <td>EX_co2_e</td>\n",
       "      <td>0.3776</td>\n",
       "      <td>1</td>\n",
       "      <td>0.63%</td>\n",
       "    </tr>\n",
       "    <tr>\n",
       "      <td>glc__D_e</td>\n",
       "      <td>EX_glc__D_e</td>\n",
       "      <td>10</td>\n",
       "      <td>6</td>\n",
       "      <td>99.37%</td>\n",
       "    </tr>\n",
       "    <tr>\n",
       "      <td>h2o_e</td>\n",
       "      <td>EX_h2o_e</td>\n",
       "      <td>7.088</td>\n",
       "      <td>0</td>\n",
       "      <td>0.00%</td>\n",
       "    </tr>\n",
       "    <tr>\n",
       "      <td>nh4_e</td>\n",
       "      <td>EX_nh4_e</td>\n",
       "      <td>1.152</td>\n",
       "      <td>0</td>\n",
       "      <td>0.00%</td>\n",
       "    </tr>\n",
       "    <tr>\n",
       "      <td>pi_e</td>\n",
       "      <td>EX_pi_e</td>\n",
       "      <td>0.7774</td>\n",
       "      <td>0</td>\n",
       "      <td>0.00%</td>\n",
       "    </tr>\n",
       "  </tbody>\n",
       "</table><h4>Secretion</h4><table border=\"1\" class=\"dataframe\">\n",
       "  <thead>\n",
       "    <tr style=\"text-align: right;\">\n",
       "      <th>Metabolite</th>\n",
       "      <th>Reaction</th>\n",
       "      <th>Flux</th>\n",
       "      <th>C-Number</th>\n",
       "      <th>C-Flux</th>\n",
       "    </tr>\n",
       "  </thead>\n",
       "  <tbody>\n",
       "    <tr>\n",
       "      <td>ac_e</td>\n",
       "      <td>EX_ac_e</td>\n",
       "      <td>-8.545</td>\n",
       "      <td>2</td>\n",
       "      <td>33.28%</td>\n",
       "    </tr>\n",
       "    <tr>\n",
       "      <td>etoh_e</td>\n",
       "      <td>EX_etoh_e</td>\n",
       "      <td>-8.243</td>\n",
       "      <td>2</td>\n",
       "      <td>32.10%</td>\n",
       "    </tr>\n",
       "    <tr>\n",
       "      <td>for_e</td>\n",
       "      <td>EX_for_e</td>\n",
       "      <td>-17.78</td>\n",
       "      <td>1</td>\n",
       "      <td>34.62%</td>\n",
       "    </tr>\n",
       "    <tr>\n",
       "      <td>h_e</td>\n",
       "      <td>EX_h_e</td>\n",
       "      <td>-30.54</td>\n",
       "      <td>0</td>\n",
       "      <td>0.00%</td>\n",
       "    </tr>\n",
       "  </tbody>\n",
       "</table>"
      ],
      "text/plain": [
       "<cobra.summary.model_summary.ModelSummary at 0x7f30c3423950>"
      ]
     },
     "metadata": {},
     "output_type": "display_data"
    },
    {
     "data": {
      "text/html": [
       "<h3>Objective</h3><p>1.0 SA3_biomass = 0.10585777314945927</p><h4>Uptake</h4><table border=\"1\" class=\"dataframe\">\n",
       "  <thead>\n",
       "    <tr style=\"text-align: right;\">\n",
       "      <th>Metabolite</th>\n",
       "      <th>Reaction</th>\n",
       "      <th>Flux</th>\n",
       "      <th>C-Number</th>\n",
       "      <th>C-Flux</th>\n",
       "    </tr>\n",
       "  </thead>\n",
       "  <tbody>\n",
       "    <tr>\n",
       "      <td>glc__D_e</td>\n",
       "      <td>EX_glc__D_e</td>\n",
       "      <td>10</td>\n",
       "      <td>6</td>\n",
       "      <td>100.00%</td>\n",
       "    </tr>\n",
       "    <tr>\n",
       "      <td>h2o_e</td>\n",
       "      <td>EX_h2o_e</td>\n",
       "      <td>2.717</td>\n",
       "      <td>0</td>\n",
       "      <td>0.00%</td>\n",
       "    </tr>\n",
       "    <tr>\n",
       "      <td>nh4_e</td>\n",
       "      <td>EX_nh4_e</td>\n",
       "      <td>0.5313</td>\n",
       "      <td>0</td>\n",
       "      <td>0.00%</td>\n",
       "    </tr>\n",
       "    <tr>\n",
       "      <td>pi_e</td>\n",
       "      <td>EX_pi_e</td>\n",
       "      <td>0.3584</td>\n",
       "      <td>0</td>\n",
       "      <td>0.00%</td>\n",
       "    </tr>\n",
       "  </tbody>\n",
       "</table><h4>Secretion</h4><table border=\"1\" class=\"dataframe\">\n",
       "  <thead>\n",
       "    <tr style=\"text-align: right;\">\n",
       "      <th>Metabolite</th>\n",
       "      <th>Reaction</th>\n",
       "      <th>Flux</th>\n",
       "      <th>C-Number</th>\n",
       "      <th>C-Flux</th>\n",
       "    </tr>\n",
       "  </thead>\n",
       "  <tbody>\n",
       "    <tr>\n",
       "      <td>ac_e</td>\n",
       "      <td>EX_ac_e</td>\n",
       "      <td>-5.527</td>\n",
       "      <td>2</td>\n",
       "      <td>20.83%</td>\n",
       "    </tr>\n",
       "    <tr>\n",
       "      <td>co2_e</td>\n",
       "      <td>EX_co2_e</td>\n",
       "      <td>-2.448</td>\n",
       "      <td>1</td>\n",
       "      <td>4.61%</td>\n",
       "    </tr>\n",
       "    <tr>\n",
       "      <td>etoh_e</td>\n",
       "      <td>EX_etoh_e</td>\n",
       "      <td>-7.731</td>\n",
       "      <td>2</td>\n",
       "      <td>29.13%</td>\n",
       "    </tr>\n",
       "    <tr>\n",
       "      <td>for_e</td>\n",
       "      <td>EX_for_e</td>\n",
       "      <td>-13.62</td>\n",
       "      <td>1</td>\n",
       "      <td>25.67%</td>\n",
       "    </tr>\n",
       "    <tr>\n",
       "      <td>h_e</td>\n",
       "      <td>EX_h_e</td>\n",
       "      <td>-23.24</td>\n",
       "      <td>0</td>\n",
       "      <td>0.00%</td>\n",
       "    </tr>\n",
       "    <tr>\n",
       "      <td>succ_e</td>\n",
       "      <td>EX_succ_e</td>\n",
       "      <td>-2.622</td>\n",
       "      <td>4</td>\n",
       "      <td>19.76%</td>\n",
       "    </tr>\n",
       "  </tbody>\n",
       "</table>"
      ],
      "text/plain": [
       "<cobra.summary.model_summary.ModelSummary at 0x7f30c3264d50>"
      ]
     },
     "metadata": {},
     "output_type": "display_data"
    }
   ],
   "source": [
    "# W3110 type\n",
    "model.objective = \"W3110_biomass\"\n",
    "\n",
    "solution_W3110 = model.optimize()\n",
    "display(model.summary(solution=solution_W3110))\n",
    "\n",
    "# SA3 strain\n",
    "model.objective = \"SA3_biomass\"\n",
    "solution_SA3 = model.optimize()\n",
    "display(model.summary(solution=solution_SA3))"
   ]
  },
  {
   "cell_type": "markdown",
   "id": "d4db6f31",
   "metadata": {
    "id": "d4db6f31"
   },
   "source": [
    "## Visualization with Escher\n",
    "\n",
    "The object [cobramod.Pathway](\n",
    "module/cobramod/core/pathway/index.html#cobramod.core.pathway.Pathway\n",
    ") has a method for visualizing metabolic pathway using [Escher](\n",
    "https://escher.readthedocs.io/en/latest/\n",
    ").\n",
    "Escher is visualization tool capable to display metabolic maps. The function\n",
    "[Pathway.visualize()](\n",
    "module/cobramod/core/pathway/index.html#cobramod.core.pathway.Pathway.visualize\n",
    ") generates a pathway map for the respective pathway. These pathway maps can be\n",
    "easily customized to visualize flux distributions using default or user-defined \n",
    "colors and gradients."
   ]
  },
  {
   "cell_type": "code",
   "execution_count": 12,
   "id": "8f8282d4",
   "metadata": {
    "colab": {
     "base_uri": "https://localhost:8080/",
     "height": 17,
     "referenced_widgets": [
      "9c7f2788295b49c3882f73d0b9aeb607"
     ]
    },
    "id": "8f8282d4",
    "outputId": "c564ce03-11fb-4f19-ac71-c68a1c4e0c33",
    "scrolled": false
   },
   "outputs": [
    {
     "data": {
      "application/vnd.jupyter.widget-view+json": {
       "model_id": "6fbadf5d986b494eaa3f881ef6aaa9f1",
       "version_major": 2,
       "version_minor": 0
      },
      "text/plain": [
       "Builder(never_ask_before_quit=True, reaction_scale={}, reaction_styles=['color', 'text'])"
      ]
     },
     "metadata": {},
     "output_type": "display_data"
    }
   ],
   "source": [
    "model.groups.get_by_id(\"PWY-SHIKIMATE\").visualize()"
   ]
  },
  {
   "cell_type": "markdown",
   "id": "tKeliuyeOZRS",
   "metadata": {
    "id": "tKeliuyeOZRS"
   },
   "source": [
    "To visually compare our results we set the colors of positive and\n",
    "negative fluxes to blue and red, respectively. We set the map orientation to horizontal. To facilitate the comparison we set the bounds for the color \n",
    "gradient (`color_min_max`) to -1 and 1. The coloring of the arrows represents the values of the solution. Flux values near the bounds have a stronger\n",
    "coloring, while flux value near 0 have a pale color. To visualize the solution,\n",
    "we use the argument `solution_fluxes`.\n",
    "\n",
    "We see that the first visualization displays the flux distribution for the\n",
    "W3110 strain. In this example, the the values are very close to 0 and the\n",
    "colors are very pale. The second visualization is the flux distribution for the SA3 strain. In contrast to the first map, the color blue and red are very \n",
    "strong because the flux values surpass the bounds (-1 , 1). Interestingly,\n",
    "the reaction  `SHIKIMATE_5_DEHYDROGENASE_RXN_c` has in both visualization a\n",
    "negative flux because the [reaction information](\n",
    "  https://biocyc.org/ECOLI/NEW-IMAGE?type=REACTION&object=SHIKIMATE-5-DEHYDROGENASE-RXN\n",
    ") shows the direction of the reaction from right to left. "
   ]
  },
  {
   "cell_type": "code",
   "execution_count": 13,
   "id": "_Kv7Z89emppB",
   "metadata": {
    "colab": {
     "base_uri": "https://localhost:8080/",
     "height": 17,
     "referenced_widgets": [
      "498858e638964833a88cb30394a0e365",
      "79ca2adafebe49b78d5c697affe39de7"
     ]
    },
    "id": "_Kv7Z89emppB",
    "outputId": "1ba45f5b-cdcd-4e55-9383-071f9e18362c"
   },
   "outputs": [
    {
     "data": {
      "application/vnd.jupyter.widget-view+json": {
       "model_id": "84f12338570f449499cfc9cbd664e493",
       "version_major": 2,
       "version_minor": 0
      },
      "text/plain": [
       "Builder(never_ask_before_quit=True, reaction_data={'ACALD': -8.242754606813811, 'ACALDt': 1.5948213258617017e-…"
      ]
     },
     "metadata": {},
     "output_type": "display_data"
    },
    {
     "data": {
      "application/vnd.jupyter.widget-view+json": {
       "model_id": "55923d496568427fa4d22f27d297d581",
       "version_major": 2,
       "version_minor": 0
      },
      "text/plain": [
       "Builder(never_ask_before_quit=True, reaction_data={'ACALD': -7.731190549773717, 'ACALDt': 1.5948213258617017e-…"
      ]
     },
     "metadata": {},
     "output_type": "display_data"
    }
   ],
   "source": [
    "# Customize pathway\n",
    "model.groups.get_by_id(\"PWY-SHIKIMATE\").vertical = True\n",
    "model.groups.get_by_id(\"PWY-SHIKIMATE\").color_positive = \"blue\"\n",
    "model.groups.get_by_id(\"PWY-SHIKIMATE\").color_negative = \"red\"\n",
    "model.groups.get_by_id(\"PWY-SHIKIMATE\").color_min_max = [-1, 1]\n",
    "\n",
    "# Visualize pathway with solutions\n",
    "display(model.groups.get_by_id(\"PWY-SHIKIMATE\").visualize(\n",
    "    solution_fluxes=solution_W3110)\n",
    ")\n",
    "display(model.groups.get_by_id(\"PWY-SHIKIMATE\").visualize(\n",
    "    solution_fluxes=solution_SA3)\n",
    ")"
   ]
  },
  {
   "cell_type": "markdown",
   "id": "a7faacdb",
   "metadata": {
    "id": "a7faacdb"
   },
   "source": [
    "## References\n",
    "\n",
    "1. Chen, Xianzhong, Mingming Li, Li Zhou, Wei Shen, Govender Algasan, You Fan, and Zhengxiang Wang. “Metabolic Engineering of Escherichia Coli for Improving Shikimate Synthesis from Glucose.” Bioresource Technology 166 (August 1, 2014): 64–71. https://doi.org/10.1016/j.biortech.2014.05.035.\n",
    "2. Orth, Jeffrey D., R. M. T. Fleming, and Bernhard Ø. Palsson. “Reconstruction and Use of Microbial Metabolic Networks: The Core Escherichia Coli Metabolic Model as an Educational Guide.” EcoSal Plus 4, no. 1 (February 1, 2010). https://doi.org/10.1128/ecosalplus.10.2.1.\n"
   ]
  }
 ],
 "metadata": {
  "colab": {
   "collapsed_sections": [
    "c25b3164",
    "a7faacdb"
   ],
   "name": "shikimate.ipynb",
   "provenance": []
  },
  "jupytext": {
   "formats": "ipynb,md"
  },
  "kernelspec": {
   "display_name": "Python 3 (ipykernel)",
   "language": "python",
   "name": "python3"
  },
  "language_info": {
   "codemirror_mode": {
    "name": "ipython",
    "version": 3
   },
   "file_extension": ".py",
   "mimetype": "text/x-python",
   "name": "python",
   "nbconvert_exporter": "python",
   "pygments_lexer": "ipython3",
   "version": "3.7.4"
  },
  "widgets": {
   "application/vnd.jupyter.widget-state+json": {
    "state": {
     "37581df35cef4c1c84c1910912506e26": {
      "model_module": "@jupyter-widgets/base",
      "model_module_version": "1.2.0",
      "model_name": "LayoutModel",
      "state": {}
     },
     "5080fc6158d74dde93d9b06793304344": {
      "model_module": "@jupyter-widgets/base",
      "model_module_version": "1.2.0",
      "model_name": "LayoutModel",
      "state": {}
     },
     "55923d496568427fa4d22f27d297d581": {
      "model_module": "escher",
      "model_module_version": "1.7.3",
      "model_name": "EscherMapModel",
      "state": {
       "_loaded_map_json": "[{\"map_name\": \"\", \"map_id\": \"\", \"map_description\": \"\", \"homepage\": \"\", \"schema\": \"https://escher.github.io/escher/jsonschema/1-0-0#\"}, {\"reactions\": {\"0\": {\"name\": \"DAHPSYN_RXN_c\", \"bigg_id\": \"DAHPSYN_RXN_c\", \"reversibility\": true, \"label_x\": 265.0, \"label_y\": 325.0, \"gene_reaction_rule\": \"\", \"genes\": [], \"segments\": {\"0\": {\"from_node_id\": \"5\", \"to_node_id\": \"6\", \"b1\": null, \"b2\": null}, \"1\": {\"from_node_id\": \"7\", \"to_node_id\": \"6\", \"b1\": null, \"b2\": null}, \"2\": {\"from_node_id\": \"0\", \"to_node_id\": \"5\", \"b1\": null, \"b2\": null}, \"3\": {\"from_node_id\": \"1\", \"to_node_id\": \"5\", \"b1\": null, \"b2\": null}, \"4\": {\"from_node_id\": \"2\", \"to_node_id\": \"5\", \"b1\": null, \"b2\": null}, \"5\": {\"from_node_id\": \"3\", \"to_node_id\": \"7\", \"b1\": null, \"b2\": null}, \"6\": {\"from_node_id\": \"4\", \"to_node_id\": \"7\", \"b1\": null, \"b2\": null}}, \"metabolites\": [{\"bigg_id\": \"e4p_c\", \"coefficient\": -1.0}, {\"bigg_id\": \"h2o_c\", \"coefficient\": -1.0}, {\"bigg_id\": \"pep_c\", \"coefficient\": -1.0}, {\"bigg_id\": \"3_DEOXY_D_ARABINO_HEPTULOSONATE_7_P_c\", \"coefficient\": 1.0}, {\"bigg_id\": \"pi_c\", \"coefficient\": 1.0}]}, \"1\": {\"name\": \"3_DEHYDROQUINATE_SYNTHASE_RXN_c\", \"bigg_id\": \"3_DEHYDROQUINATE_SYNTHASE_RXN_c\", \"reversibility\": true, \"label_x\": 265.0, \"label_y\": 975.0, \"gene_reaction_rule\": \"\", \"genes\": [], \"segments\": {\"7\": {\"from_node_id\": \"10\", \"to_node_id\": \"11\", \"b1\": null, \"b2\": null}, \"8\": {\"from_node_id\": \"12\", \"to_node_id\": \"11\", \"b1\": null, \"b2\": null}, \"9\": {\"from_node_id\": \"3\", \"to_node_id\": \"10\", \"b1\": null, \"b2\": null}, \"10\": {\"from_node_id\": \"8\", \"to_node_id\": \"12\", \"b1\": null, \"b2\": null}, \"11\": {\"from_node_id\": \"9\", \"to_node_id\": \"12\", \"b1\": null, \"b2\": null}}, \"metabolites\": [{\"bigg_id\": \"3_DEOXY_D_ARABINO_HEPTULOSONATE_7_P_c\", \"coefficient\": -1.0}, {\"bigg_id\": \"DEHYDROQUINATE_c\", \"coefficient\": 1.0}, {\"bigg_id\": \"pi_c\", \"coefficient\": 1.0}]}, \"2\": {\"name\": \"3_DEHYDROQUINATE_DEHYDRATASE_RXN_c\", \"bigg_id\": \"3_DEHYDROQUINATE_DEHYDRATASE_RXN_c\", \"reversibility\": true, \"label_x\": 265.0, \"label_y\": 1625.0, \"gene_reaction_rule\": \"\", \"genes\": [], \"segments\": {\"12\": {\"from_node_id\": \"15\", \"to_node_id\": \"16\", \"b1\": null, \"b2\": null}, \"13\": {\"from_node_id\": \"17\", \"to_node_id\": \"16\", \"b1\": null, \"b2\": null}, \"14\": {\"from_node_id\": \"8\", \"to_node_id\": \"15\", \"b1\": null, \"b2\": null}, \"15\": {\"from_node_id\": \"13\", \"to_node_id\": \"17\", \"b1\": null, \"b2\": null}, \"16\": {\"from_node_id\": \"14\", \"to_node_id\": \"17\", \"b1\": null, \"b2\": null}}, \"metabolites\": [{\"bigg_id\": \"DEHYDROQUINATE_c\", \"coefficient\": -1.0}, {\"bigg_id\": \"3_DEHYDRO_SHIKIMATE_c\", \"coefficient\": 1.0}, {\"bigg_id\": \"h2o_c\", \"coefficient\": 1.0}]}, \"3\": {\"name\": \"SHIKIMATE_5_DEHYDROGENASE_RXN_c\", \"bigg_id\": \"SHIKIMATE_5_DEHYDROGENASE_RXN_c\", \"reversibility\": true, \"label_x\": 265.0, \"label_y\": 2275.0, \"gene_reaction_rule\": \"\", \"genes\": [], \"segments\": {\"17\": {\"from_node_id\": \"23\", \"to_node_id\": \"24\", \"b1\": null, \"b2\": null}, \"18\": {\"from_node_id\": \"25\", \"to_node_id\": \"24\", \"b1\": null, \"b2\": null}, \"19\": {\"from_node_id\": \"18\", \"to_node_id\": \"23\", \"b1\": null, \"b2\": null}, \"20\": {\"from_node_id\": \"19\", \"to_node_id\": \"23\", \"b1\": null, \"b2\": null}, \"21\": {\"from_node_id\": \"20\", \"to_node_id\": \"25\", \"b1\": null, \"b2\": null}, \"22\": {\"from_node_id\": \"21\", \"to_node_id\": \"25\", \"b1\": null, \"b2\": null}, \"23\": {\"from_node_id\": \"22\", \"to_node_id\": \"25\", \"b1\": null, \"b2\": null}}, \"metabolites\": [{\"bigg_id\": \"SHIKIMATE_c\", \"coefficient\": -1.0}, {\"bigg_id\": \"nadp_c\", \"coefficient\": -1.0}, {\"bigg_id\": \"3_DEHYDRO_SHIKIMATE_c\", \"coefficient\": 1.0}, {\"bigg_id\": \"h_c\", \"coefficient\": 1.0}, {\"bigg_id\": \"nadph_c\", \"coefficient\": 1.0}]}, \"4\": {\"name\": \"SHIKIMATE_KINASE_RXN_c\", \"bigg_id\": \"SHIKIMATE_KINASE_RXN_c\", \"reversibility\": true, \"label_x\": 265.0, \"label_y\": 2925.0, \"gene_reaction_rule\": \"\", \"genes\": [], \"segments\": {\"24\": {\"from_node_id\": \"31\", \"to_node_id\": \"32\", \"b1\": null, \"b2\": null}, \"25\": {\"from_node_id\": \"33\", \"to_node_id\": \"32\", \"b1\": null, \"b2\": null}, \"26\": {\"from_node_id\": \"26\", \"to_node_id\": \"31\", \"b1\": null, \"b2\": null}, \"27\": {\"from_node_id\": \"27\", \"to_node_id\": \"31\", \"b1\": null, \"b2\": null}, \"28\": {\"from_node_id\": \"28\", \"to_node_id\": \"33\", \"b1\": null, \"b2\": null}, \"29\": {\"from_node_id\": \"29\", \"to_node_id\": \"33\", \"b1\": null, \"b2\": null}, \"30\": {\"from_node_id\": \"30\", \"to_node_id\": \"33\", \"b1\": null, \"b2\": null}}, \"metabolites\": [{\"bigg_id\": \"SHIKIMATE_c\", \"coefficient\": -1.0}, {\"bigg_id\": \"atp_c\", \"coefficient\": -1.0}, {\"bigg_id\": \"SHIKIMATE_5P_c\", \"coefficient\": 1.0}, {\"bigg_id\": \"adp_c\", \"coefficient\": 1.0}, {\"bigg_id\": \"h_c\", \"coefficient\": 1.0}]}, \"5\": {\"name\": \"2.5.1.19_RXN_c\", \"bigg_id\": \"2.5.1.19_RXN_c\", \"reversibility\": true, \"label_x\": 265.0, \"label_y\": 3575.0, \"gene_reaction_rule\": \"\", \"genes\": [], \"segments\": {\"31\": {\"from_node_id\": \"37\", \"to_node_id\": \"38\", \"b1\": null, \"b2\": null}, \"32\": {\"from_node_id\": \"39\", \"to_node_id\": \"38\", \"b1\": null, \"b2\": null}, \"33\": {\"from_node_id\": \"28\", \"to_node_id\": \"37\", \"b1\": null, \"b2\": null}, \"34\": {\"from_node_id\": \"34\", \"to_node_id\": \"37\", \"b1\": null, \"b2\": null}, \"35\": {\"from_node_id\": \"35\", \"to_node_id\": \"39\", \"b1\": null, \"b2\": null}, \"36\": {\"from_node_id\": \"36\", \"to_node_id\": \"39\", \"b1\": null, \"b2\": null}}, \"metabolites\": [{\"bigg_id\": \"SHIKIMATE_5P_c\", \"coefficient\": -1.0}, {\"bigg_id\": \"pep_c\", \"coefficient\": -1.0}, {\"bigg_id\": \"3_ENOLPYRUVYL_SHIKIMATE_5P_c\", \"coefficient\": 1.0}, {\"bigg_id\": \"pi_c\", \"coefficient\": 1.0}]}, \"6\": {\"name\": \"CHORISMATE_SYNTHASE_RXN_c\", \"bigg_id\": \"CHORISMATE_SYNTHASE_RXN_c\", \"reversibility\": true, \"label_x\": 265.0, \"label_y\": 4225.0, \"gene_reaction_rule\": \"\", \"genes\": [], \"segments\": {\"37\": {\"from_node_id\": \"42\", \"to_node_id\": \"43\", \"b1\": null, \"b2\": null}, \"38\": {\"from_node_id\": \"44\", \"to_node_id\": \"43\", \"b1\": null, \"b2\": null}, \"39\": {\"from_node_id\": \"35\", \"to_node_id\": \"42\", \"b1\": null, \"b2\": null}, \"40\": {\"from_node_id\": \"40\", \"to_node_id\": \"44\", \"b1\": null, \"b2\": null}, \"41\": {\"from_node_id\": \"41\", \"to_node_id\": \"44\", \"b1\": null, \"b2\": null}}, \"metabolites\": [{\"bigg_id\": \"3_ENOLPYRUVYL_SHIKIMATE_5P_c\", \"coefficient\": -1.0}, {\"bigg_id\": \"CHORISMATE_c\", \"coefficient\": 1.0}, {\"bigg_id\": \"pi_c\", \"coefficient\": 1.0}]}}, \"nodes\": {\"0\": {\"node_type\": \"metabolite\", \"x\": 112.5, \"y\": 30.0, \"label_x\": 122.5, \"label_y\": 20.0, \"bigg_id\": \"e4p_c\", \"name\": \"e4p_c\", \"node_is_primary\": false}, \"1\": {\"node_type\": \"metabolite\", \"x\": 225.0, \"y\": 30.0, \"label_x\": 235.0, \"label_y\": 20.0, \"bigg_id\": \"h2o_c\", \"name\": \"h2o_c\", \"node_is_primary\": false}, \"2\": {\"node_type\": \"metabolite\", \"x\": 337.5, \"y\": 30.0, \"label_x\": 347.5, \"label_y\": 20.0, \"bigg_id\": \"pep_c\", \"name\": \"pep_c\", \"node_is_primary\": false}, \"3\": {\"node_type\": \"metabolite\", \"x\": 150.0, \"y\": 550.0, \"label_x\": 160.0, \"label_y\": 580.0, \"bigg_id\": \"3_DEOXY_D_ARABINO_HEPTULOSONATE_7_P_c\", \"name\": \"3_DEOXY_D_ARABINO_HEPTULOSONATE_7_P_c\", \"node_is_primary\": false}, \"4\": {\"node_type\": \"metabolite\", \"x\": 300.0, \"y\": 550.0, \"label_x\": 310.0, \"label_y\": 580.0, \"bigg_id\": \"pi_c\", \"name\": \"pi_c\", \"node_is_primary\": false}, \"5\": {\"node_type\": \"multimarker\", \"x\": 225.0, \"y\": 305.0}, \"6\": {\"node_type\": \"midmarker\", \"x\": 225.0, \"y\": 325.0}, \"7\": {\"node_type\": \"multimarker\", \"x\": 225.0, \"y\": 345.0}, \"8\": {\"node_type\": \"metabolite\", \"x\": 150.0, \"y\": 1200.0, \"label_x\": 160.0, \"label_y\": 1230.0, \"bigg_id\": \"DEHYDROQUINATE_c\", \"name\": \"DEHYDROQUINATE_c\", \"node_is_primary\": false}, \"9\": {\"node_type\": \"metabolite\", \"x\": 300.0, \"y\": 1200.0, \"label_x\": 310.0, \"label_y\": 1230.0, \"bigg_id\": \"pi_c\", \"name\": \"pi_c\", \"node_is_primary\": false}, \"10\": {\"node_type\": \"multimarker\", \"x\": 225.0, \"y\": 955.0}, \"11\": {\"node_type\": \"midmarker\", \"x\": 225.0, \"y\": 975.0}, \"12\": {\"node_type\": \"multimarker\", \"x\": 225.0, \"y\": 995.0}, \"13\": {\"node_type\": \"metabolite\", \"x\": 150.0, \"y\": 1850.0, \"label_x\": 160.0, \"label_y\": 1880.0, \"bigg_id\": \"3_DEHYDRO_SHIKIMATE_c\", \"name\": \"3_DEHYDRO_SHIKIMATE_c\", \"node_is_primary\": false}, \"14\": {\"node_type\": \"metabolite\", \"x\": 300.0, \"y\": 1850.0, \"label_x\": 310.0, \"label_y\": 1880.0, \"bigg_id\": \"h2o_c\", \"name\": \"h2o_c\", \"node_is_primary\": false}, \"15\": {\"node_type\": \"multimarker\", \"x\": 225.0, \"y\": 1605.0}, \"16\": {\"node_type\": \"midmarker\", \"x\": 225.0, \"y\": 1625.0}, \"17\": {\"node_type\": \"multimarker\", \"x\": 225.0, \"y\": 1645.0}, \"18\": {\"node_type\": \"metabolite\", \"x\": 150.0, \"y\": 1980.0, \"label_x\": 160.0, \"label_y\": 1970.0, \"bigg_id\": \"SHIKIMATE_c\", \"name\": \"SHIKIMATE_c\", \"node_is_primary\": false}, \"19\": {\"node_type\": \"metabolite\", \"x\": 300.0, \"y\": 1980.0, \"label_x\": 310.0, \"label_y\": 1970.0, \"bigg_id\": \"nadp_c\", \"name\": \"nadp_c\", \"node_is_primary\": false}, \"20\": {\"node_type\": \"metabolite\", \"x\": 112.5, \"y\": 2500.0, \"label_x\": 122.5, \"label_y\": 2530.0, \"bigg_id\": \"3_DEHYDRO_SHIKIMATE_c\", \"name\": \"3_DEHYDRO_SHIKIMATE_c\", \"node_is_primary\": false}, \"21\": {\"node_type\": \"metabolite\", \"x\": 225.0, \"y\": 2500.0, \"label_x\": 235.0, \"label_y\": 2530.0, \"bigg_id\": \"h_c\", \"name\": \"h_c\", \"node_is_primary\": false}, \"22\": {\"node_type\": \"metabolite\", \"x\": 337.5, \"y\": 2500.0, \"label_x\": 347.5, \"label_y\": 2530.0, \"bigg_id\": \"nadph_c\", \"name\": \"nadph_c\", \"node_is_primary\": false}, \"23\": {\"node_type\": \"multimarker\", \"x\": 225.0, \"y\": 2255.0}, \"24\": {\"node_type\": \"midmarker\", \"x\": 225.0, \"y\": 2275.0}, \"25\": {\"node_type\": \"multimarker\", \"x\": 225.0, \"y\": 2295.0}, \"26\": {\"node_type\": \"metabolite\", \"x\": 150.0, \"y\": 2630.0, \"label_x\": 160.0, \"label_y\": 2620.0, \"bigg_id\": \"SHIKIMATE_c\", \"name\": \"SHIKIMATE_c\", \"node_is_primary\": false}, \"27\": {\"node_type\": \"metabolite\", \"x\": 300.0, \"y\": 2630.0, \"label_x\": 310.0, \"label_y\": 2620.0, \"bigg_id\": \"atp_c\", \"name\": \"atp_c\", \"node_is_primary\": false}, \"28\": {\"node_type\": \"metabolite\", \"x\": 112.5, \"y\": 3150.0, \"label_x\": 122.5, \"label_y\": 3180.0, \"bigg_id\": \"SHIKIMATE_5P_c\", \"name\": \"SHIKIMATE_5P_c\", \"node_is_primary\": false}, \"29\": {\"node_type\": \"metabolite\", \"x\": 225.0, \"y\": 3150.0, \"label_x\": 235.0, \"label_y\": 3180.0, \"bigg_id\": \"adp_c\", \"name\": \"adp_c\", \"node_is_primary\": false}, \"30\": {\"node_type\": \"metabolite\", \"x\": 337.5, \"y\": 3150.0, \"label_x\": 347.5, \"label_y\": 3180.0, \"bigg_id\": \"h_c\", \"name\": \"h_c\", \"node_is_primary\": false}, \"31\": {\"node_type\": \"multimarker\", \"x\": 225.0, \"y\": 2905.0}, \"32\": {\"node_type\": \"midmarker\", \"x\": 225.0, \"y\": 2925.0}, \"33\": {\"node_type\": \"multimarker\", \"x\": 225.0, \"y\": 2945.0}, \"34\": {\"node_type\": \"metabolite\", \"x\": 300.0, \"y\": 3280.0, \"label_x\": 310.0, \"label_y\": 3270.0, \"bigg_id\": \"pep_c\", \"name\": \"pep_c\", \"node_is_primary\": false}, \"35\": {\"node_type\": \"metabolite\", \"x\": 150.0, \"y\": 3800.0, \"label_x\": 160.0, \"label_y\": 3830.0, \"bigg_id\": \"3_ENOLPYRUVYL_SHIKIMATE_5P_c\", \"name\": \"3_ENOLPYRUVYL_SHIKIMATE_5P_c\", \"node_is_primary\": false}, \"36\": {\"node_type\": \"metabolite\", \"x\": 300.0, \"y\": 3800.0, \"label_x\": 310.0, \"label_y\": 3830.0, \"bigg_id\": \"pi_c\", \"name\": \"pi_c\", \"node_is_primary\": false}, \"37\": {\"node_type\": \"multimarker\", \"x\": 225.0, \"y\": 3555.0}, \"38\": {\"node_type\": \"midmarker\", \"x\": 225.0, \"y\": 3575.0}, \"39\": {\"node_type\": \"multimarker\", \"x\": 225.0, \"y\": 3595.0}, \"40\": {\"node_type\": \"metabolite\", \"x\": 150.0, \"y\": 4450.0, \"label_x\": 160.0, \"label_y\": 4480.0, \"bigg_id\": \"CHORISMATE_c\", \"name\": \"CHORISMATE_c\", \"node_is_primary\": false}, \"41\": {\"node_type\": \"metabolite\", \"x\": 300.0, \"y\": 4450.0, \"label_x\": 310.0, \"label_y\": 4480.0, \"bigg_id\": \"pi_c\", \"name\": \"pi_c\", \"node_is_primary\": false}, \"42\": {\"node_type\": \"multimarker\", \"x\": 225.0, \"y\": 4205.0}, \"43\": {\"node_type\": \"midmarker\", \"x\": 225.0, \"y\": 4225.0}, \"44\": {\"node_type\": \"multimarker\", \"x\": 225.0, \"y\": 4245.0}}, \"text_labels\": {}, \"canvas\": {\"x\": 0, \"y\": 0, \"width\": 450, \"height\": 4550}}]",
       "_loaded_model_json": null,
       "allow_building_duplicate_reactions": false,
       "and_method_in_gene_reaction_rule": "mean",
       "canvas_size_and_loc": null,
       "cofactors": [
        "atp",
        "adp",
        "nad",
        "nadh",
        "nadp",
        "nadph",
        "gtp",
        "gdp",
        "h",
        "coa",
        "ump",
        "h2o",
        "ppi"
       ],
       "disabled_buttons": [
        "Clear gene data",
        "Clear metabolite data"
       ],
       "embedded_css": null,
       "enable_editing": true,
       "enable_keys": false,
       "enable_keys_with_tooltip": true,
       "enable_search": true,
       "enable_tooltips": false,
       "full_screen_button": {
        "enable_editing": true,
        "enable_keys": true,
        "enable_tooltips": [
         "label"
        ],
        "menu": "all",
        "scroll_behavior": "pan"
       },
       "gene_data": null,
       "gene_font_size": 18,
       "height": 500,
       "hide_all_labels": false,
       "hide_secondary_metabolites": false,
       "highlight_missing": false,
       "identifiers_on_map": "bigg_id",
       "layout": "IPY_MODEL_37581df35cef4c1c84c1910912506e26",
       "marker_radius": 5,
       "menu": "all",
       "metabolite_compare_style": "log2_fold",
       "metabolite_data": null,
       "metabolite_no_data_color": "#ffffff",
       "metabolite_no_data_size": 10,
       "metabolite_scale": [
        {
         "color": "#fffaf0",
         "size": 20,
         "type": "min"
        },
        {
         "color": "#f1c470",
         "size": 30,
         "type": "median"
        },
        {
         "color": "#800000",
         "size": 40,
         "type": "max"
        }
       ],
       "metabolite_scale_preset": "WhYlRd",
       "metabolite_styles": [
        "color",
        "size",
        "text"
       ],
       "never_ask_before_quit": true,
       "primary_metabolite_radius": 20,
       "reaction_compare_style": "log2_fold",
       "reaction_data": {
        "2.5.1.19_RXN_c": 2.1283534667063508e-16,
        "3_DEHYDROQUINATE_DEHYDRATASE_RXN_c": 2.344616570781679,
        "3_DEHYDROQUINATE_SYNTHASE_RXN_c": 2.34461657078168,
        "ACALD": -7.731190549773717,
        "ACALDt": 1.5948213258617017e-15,
        "ACKr": -5.527487853485789,
        "ACONTa": -4.642119812709002e-15,
        "ACONTb": -1.1184179509184232e-14,
        "ACt2r": -5.527487853485789,
        "ADK1": 0,
        "AKGDH": 2.6222210928649767,
        "AKGt2r": 0,
        "ALCD2x": -7.731190549773719,
        "ATPM": 8.39,
        "ATPS4r": -5.300657477471571,
        "Biomass_Ecoli_core": 0,
        "CHORISMATE_SYNTHASE_RXN_c": 2.1283534667063508e-16,
        "CO2t": -2.448143706896982,
        "CS": 0,
        "CYTBD": 0,
        "DAHPSYN_RXN_c": 2.34461657078168,
        "D_LACt2": 0,
        "ENO": 16.469092971839423,
        "ETOHt2r": -7.731190549773719,
        "EX_ac_e": 5.527487853485789,
        "EX_acald_e": 0,
        "EX_akg_e": 0,
        "EX_co2_e": 2.448143706896983,
        "EX_etoh_e": 7.731190549773717,
        "EX_for_e": 13.623824889592347,
        "EX_fru_e": 0,
        "EX_fum_e": 0,
        "EX_glc__D_e": -10,
        "EX_gln__L_e": 0,
        "EX_glu__L_e": 0,
        "EX_h2o_e": -2.7165524373731427,
        "EX_h_e": 23.2401326938767,
        "EX_lac__D_e": 0,
        "EX_mal__L_e": 0,
        "EX_nh4_e": -0.5312638776551333,
        "EX_o2_e": 0,
        "EX_pi_e": -0.3584141040804405,
        "EX_pyr_e": 0,
        "EX_succ_e": 2.6222210928649763,
        "FBA": 9.121547964686686,
        "FBP": 0,
        "FORt2": 0,
        "FORti": 13.623824889592347,
        "FRD7": 0,
        "FRUpts2": 0,
        "FUM": 0,
        "FUMt2_2": 0,
        "G6PDH2r": 0,
        "GAPD": 16.61484758616088,
        "GLCpts": 9.999999999999966,
        "GLNS": 0.024912737220586546,
        "GLNabc": 0,
        "GLUDy": -0.5063511404344949,
        "GLUN": 0,
        "GLUSy": 0,
        "GLUt2r": 2.8902168001408347e-14,
        "GND": 0,
        "H2Ot": 2.7165524373731427,
        "ICDHyr": -2.277596337749388e-15,
        "ICL": 0,
        "LDH_D": 0,
        "MALS": 0,
        "MALt2_2": 0,
        "MDH": -4.587843245432621e-15,
        "ME1": 0,
        "ME2": 0,
        "NADH16": 0,
        "NADTRHD": 0,
        "NH4t": 0.5312638776550846,
        "O2t": 0,
        "PDH": 0,
        "PFK": 9.121547964686686,
        "PFL": 13.623824889592347,
        "PGI": 9.980026941219286,
        "PGK": -16.61484758616088,
        "PGL": 0,
        "PGM": -16.469092971839423,
        "PIt2r": 0.3584141040804405,
        "PPC": 0.1740773859680241,
        "PPCK": 0,
        "PPS": 0,
        "PTAr": 5.527487853485789,
        "PYK": 3.8998233330748664,
        "PYRt2": 0,
        "RPE": -0.8515712210811506,
        "RPI": -0.851571221081145,
        "SA3_biomass": 0.10585777314945927,
        "SHIKIMATE_5_DEHYDROGENASE_RXN_c": -2.344616570781719,
        "SHIKIMATE_KINASE_RXN_c": 0,
        "SK_CHORISMATE_c": 2.1283534667063508e-16,
        "SUCCt2_2": 0,
        "SUCCt3": 2.6222210928649763,
        "SUCDi": 0,
        "SUCOAS": -2.6222210928649763,
        "TALA": 0.7641087095327692,
        "THD2": 4.120270211161748,
        "TKT1": 0.7641087095327677,
        "TKT2": -1.615679930613914,
        "TPI": 9.121547964686686,
        "W3110_biomass": 0
       },
       "reaction_no_data_color": "#dcdcdc",
       "reaction_no_data_size": 8,
       "reaction_scale": [
        {
         "color": "rgb(203,203,222)",
         "type": "value",
         "value": 0.07692307692307693
        },
        {
         "color": "rgb(186,186,225)",
         "type": "value",
         "value": 0.15384615384615385
        },
        {
         "color": "rgb(169,169,228)",
         "type": "value",
         "value": 0.23076923076923078
        },
        {
         "color": "rgb(152,152,230)",
         "type": "value",
         "value": 0.3076923076923077
        },
        {
         "color": "rgb(135,135,233)",
         "type": "value",
         "value": 0.38461538461538464
        },
        {
         "color": "rgb(118,118,236)",
         "type": "value",
         "value": 0.46153846153846156
        },
        {
         "color": "rgb(101,101,238)",
         "type": "value",
         "value": 0.5384615384615385
        },
        {
         "color": "rgb(84,84,241)",
         "type": "value",
         "value": 0.6153846153846154
        },
        {
         "color": "rgb(67,67,244)",
         "type": "value",
         "value": 0.6923076923076923
        },
        {
         "color": "rgb(50,50,246)",
         "type": "value",
         "value": 0.7692307692307692
        },
        {
         "color": "rgb(33,33,249)",
         "type": "value",
         "value": 0.8461538461538463
        },
        {
         "color": "rgb(16,16,252)",
         "type": "value",
         "value": 0.9230769230769231
        },
        {
         "color": "rgb(0,0,254)",
         "type": "value",
         "value": 1
        },
        {
         "color": "rgb(220,220,220)",
         "type": "value",
         "value": 0
        },
        {
         "color": "rgb(223,198,198)",
         "type": "value",
         "value": -0.1
        },
        {
         "color": "rgb(227,176,176)",
         "type": "value",
         "value": -0.2
        },
        {
         "color": "rgb(230,154,154)",
         "type": "value",
         "value": -0.30000000000000004
        },
        {
         "color": "rgb(234,132,132)",
         "type": "value",
         "value": -0.4
        },
        {
         "color": "rgb(237,110,110)",
         "type": "value",
         "value": -0.5
        },
        {
         "color": "rgb(241,88,88)",
         "type": "value",
         "value": -0.6
        },
        {
         "color": "rgb(244,66,66)",
         "type": "value",
         "value": -0.7000000000000001
        },
        {
         "color": "rgb(248,44,44)",
         "type": "value",
         "value": -0.8
        },
        {
         "color": "rgb(251,22,22)",
         "type": "value",
         "value": -0.9
        },
        {
         "color": "rgb(255,0,0)",
         "type": "value",
         "value": -1
        }
       ],
       "reaction_scale_preset": null,
       "reaction_styles": [
        "color",
        "text"
       ],
       "scroll_behavior": "none",
       "secondary_metabolite_radius": 10,
       "semantic_zoom": null,
       "show_gene_reaction_rules": false,
       "starting_reaction": null,
       "use_3d_transform": false,
       "zoom_to_element": null
      }
     },
     "604b3713d19d43c1bb40fb6be94e81a4": {
      "model_module": "@jupyter-widgets/base",
      "model_module_version": "1.2.0",
      "model_name": "LayoutModel",
      "state": {}
     },
     "6fbadf5d986b494eaa3f881ef6aaa9f1": {
      "model_module": "escher",
      "model_module_version": "1.7.3",
      "model_name": "EscherMapModel",
      "state": {
       "_loaded_map_json": "[{\"map_name\": \"\", \"map_id\": \"\", \"map_description\": \"\", \"homepage\": \"\", \"schema\": \"https://escher.github.io/escher/jsonschema/1-0-0#\"}, {\"reactions\": {\"0\": {\"name\": \"DAHPSYN_RXN_c\", \"bigg_id\": \"DAHPSYN_RXN_c\", \"reversibility\": true, \"label_x\": 208.0, \"label_y\": 45.0, \"gene_reaction_rule\": \"\", \"genes\": [], \"segments\": {\"0\": {\"from_node_id\": \"5\", \"to_node_id\": \"6\", \"b1\": null, \"b2\": null}, \"1\": {\"from_node_id\": \"7\", \"to_node_id\": \"6\", \"b1\": null, \"b2\": null}, \"2\": {\"from_node_id\": \"0\", \"to_node_id\": \"5\", \"b1\": null, \"b2\": null}, \"3\": {\"from_node_id\": \"1\", \"to_node_id\": \"5\", \"b1\": null, \"b2\": null}, \"4\": {\"from_node_id\": \"2\", \"to_node_id\": \"5\", \"b1\": null, \"b2\": null}, \"5\": {\"from_node_id\": \"3\", \"to_node_id\": \"7\", \"b1\": null, \"b2\": null}, \"6\": {\"from_node_id\": \"4\", \"to_node_id\": \"7\", \"b1\": null, \"b2\": null}}, \"metabolites\": [{\"bigg_id\": \"e4p_c\", \"coefficient\": -1.0}, {\"bigg_id\": \"h2o_c\", \"coefficient\": -1.0}, {\"bigg_id\": \"pep_c\", \"coefficient\": -1.0}, {\"bigg_id\": \"3_DEOXY_D_ARABINO_HEPTULOSONATE_7_P_c\", \"coefficient\": 1.0}, {\"bigg_id\": \"pi_c\", \"coefficient\": 1.0}]}, \"1\": {\"name\": \"3_DEHYDROQUINATE_SYNTHASE_RXN_c\", \"bigg_id\": \"3_DEHYDROQUINATE_SYNTHASE_RXN_c\", \"reversibility\": true, \"label_x\": 696.0, \"label_y\": 45.0, \"gene_reaction_rule\": \"\", \"genes\": [], \"segments\": {\"7\": {\"from_node_id\": \"10\", \"to_node_id\": \"11\", \"b1\": null, \"b2\": null}, \"8\": {\"from_node_id\": \"12\", \"to_node_id\": \"11\", \"b1\": null, \"b2\": null}, \"9\": {\"from_node_id\": \"3\", \"to_node_id\": \"10\", \"b1\": null, \"b2\": null}, \"10\": {\"from_node_id\": \"8\", \"to_node_id\": \"12\", \"b1\": null, \"b2\": null}, \"11\": {\"from_node_id\": \"9\", \"to_node_id\": \"12\", \"b1\": null, \"b2\": null}}, \"metabolites\": [{\"bigg_id\": \"3_DEOXY_D_ARABINO_HEPTULOSONATE_7_P_c\", \"coefficient\": -1.0}, {\"bigg_id\": \"DEHYDROQUINATE_c\", \"coefficient\": 1.0}, {\"bigg_id\": \"pi_c\", \"coefficient\": 1.0}]}, \"2\": {\"name\": \"3_DEHYDROQUINATE_DEHYDRATASE_RXN_c\", \"bigg_id\": \"3_DEHYDROQUINATE_DEHYDRATASE_RXN_c\", \"reversibility\": true, \"label_x\": 1319.0, \"label_y\": 45.0, \"gene_reaction_rule\": \"\", \"genes\": [], \"segments\": {\"12\": {\"from_node_id\": \"15\", \"to_node_id\": \"16\", \"b1\": null, \"b2\": null}, \"13\": {\"from_node_id\": \"17\", \"to_node_id\": \"16\", \"b1\": null, \"b2\": null}, \"14\": {\"from_node_id\": \"8\", \"to_node_id\": \"15\", \"b1\": null, \"b2\": null}, \"15\": {\"from_node_id\": \"13\", \"to_node_id\": \"17\", \"b1\": null, \"b2\": null}, \"16\": {\"from_node_id\": \"14\", \"to_node_id\": \"17\", \"b1\": null, \"b2\": null}}, \"metabolites\": [{\"bigg_id\": \"DEHYDROQUINATE_c\", \"coefficient\": -1.0}, {\"bigg_id\": \"3_DEHYDRO_SHIKIMATE_c\", \"coefficient\": 1.0}, {\"bigg_id\": \"h2o_c\", \"coefficient\": 1.0}]}, \"3\": {\"name\": \"SHIKIMATE_5_DEHYDROGENASE_RXN_c\", \"bigg_id\": \"SHIKIMATE_5_DEHYDROGENASE_RXN_c\", \"reversibility\": true, \"label_x\": 1996.0, \"label_y\": 45.0, \"gene_reaction_rule\": \"\", \"genes\": [], \"segments\": {\"17\": {\"from_node_id\": \"23\", \"to_node_id\": \"24\", \"b1\": null, \"b2\": null}, \"18\": {\"from_node_id\": \"25\", \"to_node_id\": \"24\", \"b1\": null, \"b2\": null}, \"19\": {\"from_node_id\": \"18\", \"to_node_id\": \"23\", \"b1\": null, \"b2\": null}, \"20\": {\"from_node_id\": \"19\", \"to_node_id\": \"23\", \"b1\": null, \"b2\": null}, \"21\": {\"from_node_id\": \"20\", \"to_node_id\": \"25\", \"b1\": null, \"b2\": null}, \"22\": {\"from_node_id\": \"21\", \"to_node_id\": \"25\", \"b1\": null, \"b2\": null}, \"23\": {\"from_node_id\": \"22\", \"to_node_id\": \"25\", \"b1\": null, \"b2\": null}}, \"metabolites\": [{\"bigg_id\": \"SHIKIMATE_c\", \"coefficient\": -1.0}, {\"bigg_id\": \"nadp_c\", \"coefficient\": -1.0}, {\"bigg_id\": \"3_DEHYDRO_SHIKIMATE_c\", \"coefficient\": 1.0}, {\"bigg_id\": \"h_c\", \"coefficient\": 1.0}, {\"bigg_id\": \"nadph_c\", \"coefficient\": 1.0}]}, \"4\": {\"name\": \"SHIKIMATE_KINASE_RXN_c\", \"bigg_id\": \"SHIKIMATE_KINASE_RXN_c\", \"reversibility\": true, \"label_x\": 2727.0, \"label_y\": 45.0, \"gene_reaction_rule\": \"\", \"genes\": [], \"segments\": {\"24\": {\"from_node_id\": \"31\", \"to_node_id\": \"32\", \"b1\": null, \"b2\": null}, \"25\": {\"from_node_id\": \"33\", \"to_node_id\": \"32\", \"b1\": null, \"b2\": null}, \"26\": {\"from_node_id\": \"26\", \"to_node_id\": \"31\", \"b1\": null, \"b2\": null}, \"27\": {\"from_node_id\": \"27\", \"to_node_id\": \"31\", \"b1\": null, \"b2\": null}, \"28\": {\"from_node_id\": \"28\", \"to_node_id\": \"33\", \"b1\": null, \"b2\": null}, \"29\": {\"from_node_id\": \"29\", \"to_node_id\": \"33\", \"b1\": null, \"b2\": null}, \"30\": {\"from_node_id\": \"30\", \"to_node_id\": \"33\", \"b1\": null, \"b2\": null}}, \"metabolites\": [{\"bigg_id\": \"SHIKIMATE_c\", \"coefficient\": -1.0}, {\"bigg_id\": \"atp_c\", \"coefficient\": -1.0}, {\"bigg_id\": \"SHIKIMATE_5P_c\", \"coefficient\": 1.0}, {\"bigg_id\": \"adp_c\", \"coefficient\": 1.0}, {\"bigg_id\": \"h_c\", \"coefficient\": 1.0}]}, \"5\": {\"name\": \"2.5.1.19_RXN_c\", \"bigg_id\": \"2.5.1.19_RXN_c\", \"reversibility\": true, \"label_x\": 3449.0, \"label_y\": 45.0, \"gene_reaction_rule\": \"\", \"genes\": [], \"segments\": {\"31\": {\"from_node_id\": \"37\", \"to_node_id\": \"38\", \"b1\": null, \"b2\": null}, \"32\": {\"from_node_id\": \"39\", \"to_node_id\": \"38\", \"b1\": null, \"b2\": null}, \"33\": {\"from_node_id\": \"28\", \"to_node_id\": \"37\", \"b1\": null, \"b2\": null}, \"34\": {\"from_node_id\": \"34\", \"to_node_id\": \"37\", \"b1\": null, \"b2\": null}, \"35\": {\"from_node_id\": \"35\", \"to_node_id\": \"39\", \"b1\": null, \"b2\": null}, \"36\": {\"from_node_id\": \"36\", \"to_node_id\": \"39\", \"b1\": null, \"b2\": null}}, \"metabolites\": [{\"bigg_id\": \"SHIKIMATE_5P_c\", \"coefficient\": -1.0}, {\"bigg_id\": \"pep_c\", \"coefficient\": -1.0}, {\"bigg_id\": \"3_ENOLPYRUVYL_SHIKIMATE_5P_c\", \"coefficient\": 1.0}, {\"bigg_id\": \"pi_c\", \"coefficient\": 1.0}]}, \"6\": {\"name\": \"CHORISMATE_SYNTHASE_RXN_c\", \"bigg_id\": \"CHORISMATE_SYNTHASE_RXN_c\", \"reversibility\": true, \"label_x\": 4000.0, \"label_y\": 45.0, \"gene_reaction_rule\": \"\", \"genes\": [], \"segments\": {\"37\": {\"from_node_id\": \"42\", \"to_node_id\": \"43\", \"b1\": null, \"b2\": null}, \"38\": {\"from_node_id\": \"44\", \"to_node_id\": \"43\", \"b1\": null, \"b2\": null}, \"39\": {\"from_node_id\": \"35\", \"to_node_id\": \"42\", \"b1\": null, \"b2\": null}, \"40\": {\"from_node_id\": \"40\", \"to_node_id\": \"44\", \"b1\": null, \"b2\": null}, \"41\": {\"from_node_id\": \"41\", \"to_node_id\": \"44\", \"b1\": null, \"b2\": null}}, \"metabolites\": [{\"bigg_id\": \"3_ENOLPYRUVYL_SHIKIMATE_5P_c\", \"coefficient\": -1.0}, {\"bigg_id\": \"CHORISMATE_c\", \"coefficient\": 1.0}, {\"bigg_id\": \"pi_c\", \"coefficient\": 1.0}]}}, \"nodes\": {\"0\": {\"node_type\": \"metabolite\", \"x\": 30.0, \"y\": 112.5, \"label_x\": 0.0, \"label_y\": 92.5, \"bigg_id\": \"e4p_c\", \"name\": \"e4p_c\", \"node_is_primary\": false}, \"1\": {\"node_type\": \"metabolite\", \"x\": 30.0, \"y\": 225.0, \"label_x\": 0.0, \"label_y\": 205.0, \"bigg_id\": \"h2o_c\", \"name\": \"h2o_c\", \"node_is_primary\": false}, \"2\": {\"node_type\": \"metabolite\", \"x\": 30.0, \"y\": 337.5, \"label_x\": 0.0, \"label_y\": 317.5, \"bigg_id\": \"pep_c\", \"name\": \"pep_c\", \"node_is_primary\": false}, \"3\": {\"node_type\": \"metabolite\", \"x\": 550.0, \"y\": 150.0, \"label_x\": 520.0, \"label_y\": 130.0, \"bigg_id\": \"3_DEOXY_D_ARABINO_HEPTULOSONATE_7_P_c\", \"name\": \"3_DEOXY_D_ARABINO_HEPTULOSONATE_7_P_c\", \"node_is_primary\": false}, \"4\": {\"node_type\": \"metabolite\", \"x\": 550.0, \"y\": 300.0, \"label_x\": 520.0, \"label_y\": 280.0, \"bigg_id\": \"pi_c\", \"name\": \"pi_c\", \"node_is_primary\": false}, \"5\": {\"node_type\": \"multimarker\", \"x\": 335.0, \"y\": 225.0}, \"6\": {\"node_type\": \"midmarker\", \"x\": 355.0, \"y\": 225.0}, \"7\": {\"node_type\": \"multimarker\", \"x\": 375.0, \"y\": 225.0}, \"8\": {\"node_type\": \"metabolite\", \"x\": 1200.0, \"y\": 150.0, \"label_x\": 1170.0, \"label_y\": 130.0, \"bigg_id\": \"DEHYDROQUINATE_c\", \"name\": \"DEHYDROQUINATE_c\", \"node_is_primary\": false}, \"9\": {\"node_type\": \"metabolite\", \"x\": 1200.0, \"y\": 300.0, \"label_x\": 1170.0, \"label_y\": 280.0, \"bigg_id\": \"pi_c\", \"name\": \"pi_c\", \"node_is_primary\": false}, \"10\": {\"node_type\": \"multimarker\", \"x\": 985.0, \"y\": 225.0}, \"11\": {\"node_type\": \"midmarker\", \"x\": 1005.0, \"y\": 225.0}, \"12\": {\"node_type\": \"multimarker\", \"x\": 1025.0, \"y\": 225.0}, \"13\": {\"node_type\": \"metabolite\", \"x\": 1850.0, \"y\": 150.0, \"label_x\": 1820.0, \"label_y\": 130.0, \"bigg_id\": \"3_DEHYDRO_SHIKIMATE_c\", \"name\": \"3_DEHYDRO_SHIKIMATE_c\", \"node_is_primary\": false}, \"14\": {\"node_type\": \"metabolite\", \"x\": 1850.0, \"y\": 300.0, \"label_x\": 1820.0, \"label_y\": 280.0, \"bigg_id\": \"h2o_c\", \"name\": \"h2o_c\", \"node_is_primary\": false}, \"15\": {\"node_type\": \"multimarker\", \"x\": 1635.0, \"y\": 225.0}, \"16\": {\"node_type\": \"midmarker\", \"x\": 1655.0, \"y\": 225.0}, \"17\": {\"node_type\": \"multimarker\", \"x\": 1675.0, \"y\": 225.0}, \"18\": {\"node_type\": \"metabolite\", \"x\": 1980.0, \"y\": 150.0, \"label_x\": 1950.0, \"label_y\": 130.0, \"bigg_id\": \"SHIKIMATE_c\", \"name\": \"SHIKIMATE_c\", \"node_is_primary\": false}, \"19\": {\"node_type\": \"metabolite\", \"x\": 1980.0, \"y\": 300.0, \"label_x\": 1950.0, \"label_y\": 280.0, \"bigg_id\": \"nadp_c\", \"name\": \"nadp_c\", \"node_is_primary\": false}, \"20\": {\"node_type\": \"metabolite\", \"x\": 2500.0, \"y\": 112.5, \"label_x\": 2470.0, \"label_y\": 92.5, \"bigg_id\": \"3_DEHYDRO_SHIKIMATE_c\", \"name\": \"3_DEHYDRO_SHIKIMATE_c\", \"node_is_primary\": false}, \"21\": {\"node_type\": \"metabolite\", \"x\": 2500.0, \"y\": 225.0, \"label_x\": 2470.0, \"label_y\": 205.0, \"bigg_id\": \"h_c\", \"name\": \"h_c\", \"node_is_primary\": false}, \"22\": {\"node_type\": \"metabolite\", \"x\": 2500.0, \"y\": 337.5, \"label_x\": 2470.0, \"label_y\": 317.5, \"bigg_id\": \"nadph_c\", \"name\": \"nadph_c\", \"node_is_primary\": false}, \"23\": {\"node_type\": \"multimarker\", \"x\": 2285.0, \"y\": 225.0}, \"24\": {\"node_type\": \"midmarker\", \"x\": 2305.0, \"y\": 225.0}, \"25\": {\"node_type\": \"multimarker\", \"x\": 2325.0, \"y\": 225.0}, \"26\": {\"node_type\": \"metabolite\", \"x\": 2630.0, \"y\": 150.0, \"label_x\": 2600.0, \"label_y\": 130.0, \"bigg_id\": \"SHIKIMATE_c\", \"name\": \"SHIKIMATE_c\", \"node_is_primary\": false}, \"27\": {\"node_type\": \"metabolite\", \"x\": 2630.0, \"y\": 300.0, \"label_x\": 2600.0, \"label_y\": 280.0, \"bigg_id\": \"atp_c\", \"name\": \"atp_c\", \"node_is_primary\": false}, \"28\": {\"node_type\": \"metabolite\", \"x\": 3150.0, \"y\": 112.5, \"label_x\": 3120.0, \"label_y\": 92.5, \"bigg_id\": \"SHIKIMATE_5P_c\", \"name\": \"SHIKIMATE_5P_c\", \"node_is_primary\": false}, \"29\": {\"node_type\": \"metabolite\", \"x\": 3150.0, \"y\": 225.0, \"label_x\": 3120.0, \"label_y\": 205.0, \"bigg_id\": \"adp_c\", \"name\": \"adp_c\", \"node_is_primary\": false}, \"30\": {\"node_type\": \"metabolite\", \"x\": 3150.0, \"y\": 337.5, \"label_x\": 3120.0, \"label_y\": 317.5, \"bigg_id\": \"h_c\", \"name\": \"h_c\", \"node_is_primary\": false}, \"31\": {\"node_type\": \"multimarker\", \"x\": 2935.0, \"y\": 225.0}, \"32\": {\"node_type\": \"midmarker\", \"x\": 2955.0, \"y\": 225.0}, \"33\": {\"node_type\": \"multimarker\", \"x\": 2975.0, \"y\": 225.0}, \"34\": {\"node_type\": \"metabolite\", \"x\": 3280.0, \"y\": 300.0, \"label_x\": 3250.0, \"label_y\": 280.0, \"bigg_id\": \"pep_c\", \"name\": \"pep_c\", \"node_is_primary\": false}, \"35\": {\"node_type\": \"metabolite\", \"x\": 3800.0, \"y\": 150.0, \"label_x\": 3770.0, \"label_y\": 130.0, \"bigg_id\": \"3_ENOLPYRUVYL_SHIKIMATE_5P_c\", \"name\": \"3_ENOLPYRUVYL_SHIKIMATE_5P_c\", \"node_is_primary\": false}, \"36\": {\"node_type\": \"metabolite\", \"x\": 3800.0, \"y\": 300.0, \"label_x\": 3770.0, \"label_y\": 280.0, \"bigg_id\": \"pi_c\", \"name\": \"pi_c\", \"node_is_primary\": false}, \"37\": {\"node_type\": \"multimarker\", \"x\": 3585.0, \"y\": 225.0}, \"38\": {\"node_type\": \"midmarker\", \"x\": 3605.0, \"y\": 225.0}, \"39\": {\"node_type\": \"multimarker\", \"x\": 3625.0, \"y\": 225.0}, \"40\": {\"node_type\": \"metabolite\", \"x\": 4450.0, \"y\": 150.0, \"label_x\": 4420.0, \"label_y\": 130.0, \"bigg_id\": \"CHORISMATE_c\", \"name\": \"CHORISMATE_c\", \"node_is_primary\": false}, \"41\": {\"node_type\": \"metabolite\", \"x\": 4450.0, \"y\": 300.0, \"label_x\": 4420.0, \"label_y\": 280.0, \"bigg_id\": \"pi_c\", \"name\": \"pi_c\", \"node_is_primary\": false}, \"42\": {\"node_type\": \"multimarker\", \"x\": 4235.0, \"y\": 225.0}, \"43\": {\"node_type\": \"midmarker\", \"x\": 4255.0, \"y\": 225.0}, \"44\": {\"node_type\": \"multimarker\", \"x\": 4275.0, \"y\": 225.0}}, \"text_labels\": {}, \"canvas\": {\"x\": 0, \"y\": 0, \"width\": 4550, \"height\": 450}}]",
       "_loaded_model_json": null,
       "allow_building_duplicate_reactions": false,
       "and_method_in_gene_reaction_rule": "mean",
       "canvas_size_and_loc": null,
       "cofactors": [
        "atp",
        "adp",
        "nad",
        "nadh",
        "nadp",
        "nadph",
        "gtp",
        "gdp",
        "h",
        "coa",
        "ump",
        "h2o",
        "ppi"
       ],
       "disabled_buttons": [
        "Clear reaction data",
        "Clear gene data",
        "Clear metabolite data"
       ],
       "embedded_css": null,
       "enable_editing": true,
       "enable_keys": false,
       "enable_keys_with_tooltip": true,
       "enable_search": true,
       "enable_tooltips": false,
       "full_screen_button": {
        "enable_editing": true,
        "enable_keys": true,
        "enable_tooltips": [
         "label"
        ],
        "menu": "all",
        "scroll_behavior": "pan"
       },
       "gene_data": null,
       "gene_font_size": 18,
       "height": 500,
       "hide_all_labels": false,
       "hide_secondary_metabolites": false,
       "highlight_missing": false,
       "identifiers_on_map": "bigg_id",
       "layout": "IPY_MODEL_604b3713d19d43c1bb40fb6be94e81a4",
       "marker_radius": 5,
       "menu": "all",
       "metabolite_compare_style": "log2_fold",
       "metabolite_data": null,
       "metabolite_no_data_color": "#ffffff",
       "metabolite_no_data_size": 10,
       "metabolite_scale": [
        {
         "color": "#fffaf0",
         "size": 20,
         "type": "min"
        },
        {
         "color": "#f1c470",
         "size": 30,
         "type": "median"
        },
        {
         "color": "#800000",
         "size": 40,
         "type": "max"
        }
       ],
       "metabolite_scale_preset": "WhYlRd",
       "metabolite_styles": [
        "color",
        "size",
        "text"
       ],
       "never_ask_before_quit": true,
       "primary_metabolite_radius": 20,
       "reaction_compare_style": "log2_fold",
       "reaction_data": null,
       "reaction_no_data_color": "#dcdcdc",
       "reaction_no_data_size": 8,
       "reaction_scale": {},
       "reaction_scale_preset": null,
       "reaction_styles": [
        "color",
        "text"
       ],
       "scroll_behavior": "none",
       "secondary_metabolite_radius": 10,
       "semantic_zoom": null,
       "show_gene_reaction_rules": false,
       "starting_reaction": null,
       "use_3d_transform": false,
       "zoom_to_element": null
      }
     },
     "7b91ee36e20a419396414f1c9e8b3027": {
      "model_module": "escher",
      "model_module_version": "1.7.3",
      "model_name": "EscherMapModel",
      "state": {
       "_loaded_map_json": "[{\"map_name\": \"\", \"map_id\": \"\", \"map_description\": \"\", \"homepage\": \"\", \"schema\": \"https://escher.github.io/escher/jsonschema/1-0-0#\"}, {\"reactions\": {\"0\": {\"name\": \"DAHPSYN_RXN_c\", \"bigg_id\": \"DAHPSYN_RXN_c\", \"reversibility\": true, \"label_x\": 208.0, \"label_y\": 45.0, \"gene_reaction_rule\": \"\", \"genes\": [], \"segments\": {\"0\": {\"from_node_id\": \"5\", \"to_node_id\": \"6\", \"b1\": null, \"b2\": null}, \"1\": {\"from_node_id\": \"7\", \"to_node_id\": \"6\", \"b1\": null, \"b2\": null}, \"2\": {\"from_node_id\": \"0\", \"to_node_id\": \"5\", \"b1\": null, \"b2\": null}, \"3\": {\"from_node_id\": \"1\", \"to_node_id\": \"5\", \"b1\": null, \"b2\": null}, \"4\": {\"from_node_id\": \"2\", \"to_node_id\": \"5\", \"b1\": null, \"b2\": null}, \"5\": {\"from_node_id\": \"3\", \"to_node_id\": \"7\", \"b1\": null, \"b2\": null}, \"6\": {\"from_node_id\": \"4\", \"to_node_id\": \"7\", \"b1\": null, \"b2\": null}}, \"metabolites\": [{\"bigg_id\": \"e4p_c\", \"coefficient\": -1.0}, {\"bigg_id\": \"h2o_c\", \"coefficient\": -1.0}, {\"bigg_id\": \"pep_c\", \"coefficient\": -1.0}, {\"bigg_id\": \"3_DEOXY_D_ARABINO_HEPTULOSONATE_7_P_c\", \"coefficient\": 1.0}, {\"bigg_id\": \"pi_c\", \"coefficient\": 1.0}]}, \"1\": {\"name\": \"3_DEHYDROQUINATE_SYNTHASE_RXN_c\", \"bigg_id\": \"3_DEHYDROQUINATE_SYNTHASE_RXN_c\", \"reversibility\": true, \"label_x\": 696.0, \"label_y\": 45.0, \"gene_reaction_rule\": \"\", \"genes\": [], \"segments\": {\"7\": {\"from_node_id\": \"10\", \"to_node_id\": \"11\", \"b1\": null, \"b2\": null}, \"8\": {\"from_node_id\": \"12\", \"to_node_id\": \"11\", \"b1\": null, \"b2\": null}, \"9\": {\"from_node_id\": \"3\", \"to_node_id\": \"10\", \"b1\": null, \"b2\": null}, \"10\": {\"from_node_id\": \"8\", \"to_node_id\": \"12\", \"b1\": null, \"b2\": null}, \"11\": {\"from_node_id\": \"9\", \"to_node_id\": \"12\", \"b1\": null, \"b2\": null}}, \"metabolites\": [{\"bigg_id\": \"3_DEOXY_D_ARABINO_HEPTULOSONATE_7_P_c\", \"coefficient\": -1.0}, {\"bigg_id\": \"DEHYDROQUINATE_c\", \"coefficient\": 1.0}, {\"bigg_id\": \"pi_c\", \"coefficient\": 1.0}]}, \"2\": {\"name\": \"3_DEHYDROQUINATE_DEHYDRATASE_RXN_c\", \"bigg_id\": \"3_DEHYDROQUINATE_DEHYDRATASE_RXN_c\", \"reversibility\": true, \"label_x\": 1319.0, \"label_y\": 45.0, \"gene_reaction_rule\": \"\", \"genes\": [], \"segments\": {\"12\": {\"from_node_id\": \"15\", \"to_node_id\": \"16\", \"b1\": null, \"b2\": null}, \"13\": {\"from_node_id\": \"17\", \"to_node_id\": \"16\", \"b1\": null, \"b2\": null}, \"14\": {\"from_node_id\": \"8\", \"to_node_id\": \"15\", \"b1\": null, \"b2\": null}, \"15\": {\"from_node_id\": \"13\", \"to_node_id\": \"17\", \"b1\": null, \"b2\": null}, \"16\": {\"from_node_id\": \"14\", \"to_node_id\": \"17\", \"b1\": null, \"b2\": null}}, \"metabolites\": [{\"bigg_id\": \"DEHYDROQUINATE_c\", \"coefficient\": -1.0}, {\"bigg_id\": \"3_DEHYDRO_SHIKIMATE_c\", \"coefficient\": 1.0}, {\"bigg_id\": \"h2o_c\", \"coefficient\": 1.0}]}, \"3\": {\"name\": \"SHIKIMATE_5_DEHYDROGENASE_RXN_c\", \"bigg_id\": \"SHIKIMATE_5_DEHYDROGENASE_RXN_c\", \"reversibility\": true, \"label_x\": 1996.0, \"label_y\": 45.0, \"gene_reaction_rule\": \"\", \"genes\": [], \"segments\": {\"17\": {\"from_node_id\": \"23\", \"to_node_id\": \"24\", \"b1\": null, \"b2\": null}, \"18\": {\"from_node_id\": \"25\", \"to_node_id\": \"24\", \"b1\": null, \"b2\": null}, \"19\": {\"from_node_id\": \"18\", \"to_node_id\": \"23\", \"b1\": null, \"b2\": null}, \"20\": {\"from_node_id\": \"19\", \"to_node_id\": \"23\", \"b1\": null, \"b2\": null}, \"21\": {\"from_node_id\": \"20\", \"to_node_id\": \"25\", \"b1\": null, \"b2\": null}, \"22\": {\"from_node_id\": \"21\", \"to_node_id\": \"25\", \"b1\": null, \"b2\": null}, \"23\": {\"from_node_id\": \"22\", \"to_node_id\": \"25\", \"b1\": null, \"b2\": null}}, \"metabolites\": [{\"bigg_id\": \"SHIKIMATE_c\", \"coefficient\": -1.0}, {\"bigg_id\": \"nadp_c\", \"coefficient\": -1.0}, {\"bigg_id\": \"3_DEHYDRO_SHIKIMATE_c\", \"coefficient\": 1.0}, {\"bigg_id\": \"h_c\", \"coefficient\": 1.0}, {\"bigg_id\": \"nadph_c\", \"coefficient\": 1.0}]}, \"4\": {\"name\": \"SHIKIMATE_KINASE_RXN_c\", \"bigg_id\": \"SHIKIMATE_KINASE_RXN_c\", \"reversibility\": true, \"label_x\": 2727.0, \"label_y\": 45.0, \"gene_reaction_rule\": \"\", \"genes\": [], \"segments\": {\"24\": {\"from_node_id\": \"31\", \"to_node_id\": \"32\", \"b1\": null, \"b2\": null}, \"25\": {\"from_node_id\": \"33\", \"to_node_id\": \"32\", \"b1\": null, \"b2\": null}, \"26\": {\"from_node_id\": \"26\", \"to_node_id\": \"31\", \"b1\": null, \"b2\": null}, \"27\": {\"from_node_id\": \"27\", \"to_node_id\": \"31\", \"b1\": null, \"b2\": null}, \"28\": {\"from_node_id\": \"28\", \"to_node_id\": \"33\", \"b1\": null, \"b2\": null}, \"29\": {\"from_node_id\": \"29\", \"to_node_id\": \"33\", \"b1\": null, \"b2\": null}, \"30\": {\"from_node_id\": \"30\", \"to_node_id\": \"33\", \"b1\": null, \"b2\": null}}, \"metabolites\": [{\"bigg_id\": \"SHIKIMATE_c\", \"coefficient\": -1.0}, {\"bigg_id\": \"atp_c\", \"coefficient\": -1.0}, {\"bigg_id\": \"SHIKIMATE_5P_c\", \"coefficient\": 1.0}, {\"bigg_id\": \"adp_c\", \"coefficient\": 1.0}, {\"bigg_id\": \"h_c\", \"coefficient\": 1.0}]}, \"5\": {\"name\": \"2.5.1.19_RXN_c\", \"bigg_id\": \"2.5.1.19_RXN_c\", \"reversibility\": true, \"label_x\": 3449.0, \"label_y\": 45.0, \"gene_reaction_rule\": \"\", \"genes\": [], \"segments\": {\"31\": {\"from_node_id\": \"37\", \"to_node_id\": \"38\", \"b1\": null, \"b2\": null}, \"32\": {\"from_node_id\": \"39\", \"to_node_id\": \"38\", \"b1\": null, \"b2\": null}, \"33\": {\"from_node_id\": \"28\", \"to_node_id\": \"37\", \"b1\": null, \"b2\": null}, \"34\": {\"from_node_id\": \"34\", \"to_node_id\": \"37\", \"b1\": null, \"b2\": null}, \"35\": {\"from_node_id\": \"35\", \"to_node_id\": \"39\", \"b1\": null, \"b2\": null}, \"36\": {\"from_node_id\": \"36\", \"to_node_id\": \"39\", \"b1\": null, \"b2\": null}}, \"metabolites\": [{\"bigg_id\": \"SHIKIMATE_5P_c\", \"coefficient\": -1.0}, {\"bigg_id\": \"pep_c\", \"coefficient\": -1.0}, {\"bigg_id\": \"3_ENOLPYRUVYL_SHIKIMATE_5P_c\", \"coefficient\": 1.0}, {\"bigg_id\": \"pi_c\", \"coefficient\": 1.0}]}, \"6\": {\"name\": \"CHORISMATE_SYNTHASE_RXN_c\", \"bigg_id\": \"CHORISMATE_SYNTHASE_RXN_c\", \"reversibility\": true, \"label_x\": 4000.0, \"label_y\": 45.0, \"gene_reaction_rule\": \"\", \"genes\": [], \"segments\": {\"37\": {\"from_node_id\": \"42\", \"to_node_id\": \"43\", \"b1\": null, \"b2\": null}, \"38\": {\"from_node_id\": \"44\", \"to_node_id\": \"43\", \"b1\": null, \"b2\": null}, \"39\": {\"from_node_id\": \"35\", \"to_node_id\": \"42\", \"b1\": null, \"b2\": null}, \"40\": {\"from_node_id\": \"40\", \"to_node_id\": \"44\", \"b1\": null, \"b2\": null}, \"41\": {\"from_node_id\": \"41\", \"to_node_id\": \"44\", \"b1\": null, \"b2\": null}}, \"metabolites\": [{\"bigg_id\": \"3_ENOLPYRUVYL_SHIKIMATE_5P_c\", \"coefficient\": -1.0}, {\"bigg_id\": \"CHORISMATE_c\", \"coefficient\": 1.0}, {\"bigg_id\": \"pi_c\", \"coefficient\": 1.0}]}}, \"nodes\": {\"0\": {\"node_type\": \"metabolite\", \"x\": 30.0, \"y\": 112.5, \"label_x\": 0.0, \"label_y\": 92.5, \"bigg_id\": \"e4p_c\", \"name\": \"e4p_c\", \"node_is_primary\": false}, \"1\": {\"node_type\": \"metabolite\", \"x\": 30.0, \"y\": 225.0, \"label_x\": 0.0, \"label_y\": 205.0, \"bigg_id\": \"h2o_c\", \"name\": \"h2o_c\", \"node_is_primary\": false}, \"2\": {\"node_type\": \"metabolite\", \"x\": 30.0, \"y\": 337.5, \"label_x\": 0.0, \"label_y\": 317.5, \"bigg_id\": \"pep_c\", \"name\": \"pep_c\", \"node_is_primary\": false}, \"3\": {\"node_type\": \"metabolite\", \"x\": 550.0, \"y\": 150.0, \"label_x\": 520.0, \"label_y\": 130.0, \"bigg_id\": \"3_DEOXY_D_ARABINO_HEPTULOSONATE_7_P_c\", \"name\": \"3_DEOXY_D_ARABINO_HEPTULOSONATE_7_P_c\", \"node_is_primary\": false}, \"4\": {\"node_type\": \"metabolite\", \"x\": 550.0, \"y\": 300.0, \"label_x\": 520.0, \"label_y\": 280.0, \"bigg_id\": \"pi_c\", \"name\": \"pi_c\", \"node_is_primary\": false}, \"5\": {\"node_type\": \"multimarker\", \"x\": 335.0, \"y\": 225.0}, \"6\": {\"node_type\": \"midmarker\", \"x\": 355.0, \"y\": 225.0}, \"7\": {\"node_type\": \"multimarker\", \"x\": 375.0, \"y\": 225.0}, \"8\": {\"node_type\": \"metabolite\", \"x\": 1200.0, \"y\": 150.0, \"label_x\": 1170.0, \"label_y\": 130.0, \"bigg_id\": \"DEHYDROQUINATE_c\", \"name\": \"DEHYDROQUINATE_c\", \"node_is_primary\": false}, \"9\": {\"node_type\": \"metabolite\", \"x\": 1200.0, \"y\": 300.0, \"label_x\": 1170.0, \"label_y\": 280.0, \"bigg_id\": \"pi_c\", \"name\": \"pi_c\", \"node_is_primary\": false}, \"10\": {\"node_type\": \"multimarker\", \"x\": 985.0, \"y\": 225.0}, \"11\": {\"node_type\": \"midmarker\", \"x\": 1005.0, \"y\": 225.0}, \"12\": {\"node_type\": \"multimarker\", \"x\": 1025.0, \"y\": 225.0}, \"13\": {\"node_type\": \"metabolite\", \"x\": 1850.0, \"y\": 150.0, \"label_x\": 1820.0, \"label_y\": 130.0, \"bigg_id\": \"3_DEHYDRO_SHIKIMATE_c\", \"name\": \"3_DEHYDRO_SHIKIMATE_c\", \"node_is_primary\": false}, \"14\": {\"node_type\": \"metabolite\", \"x\": 1850.0, \"y\": 300.0, \"label_x\": 1820.0, \"label_y\": 280.0, \"bigg_id\": \"h2o_c\", \"name\": \"h2o_c\", \"node_is_primary\": false}, \"15\": {\"node_type\": \"multimarker\", \"x\": 1635.0, \"y\": 225.0}, \"16\": {\"node_type\": \"midmarker\", \"x\": 1655.0, \"y\": 225.0}, \"17\": {\"node_type\": \"multimarker\", \"x\": 1675.0, \"y\": 225.0}, \"18\": {\"node_type\": \"metabolite\", \"x\": 1980.0, \"y\": 150.0, \"label_x\": 1950.0, \"label_y\": 130.0, \"bigg_id\": \"SHIKIMATE_c\", \"name\": \"SHIKIMATE_c\", \"node_is_primary\": false}, \"19\": {\"node_type\": \"metabolite\", \"x\": 1980.0, \"y\": 300.0, \"label_x\": 1950.0, \"label_y\": 280.0, \"bigg_id\": \"nadp_c\", \"name\": \"nadp_c\", \"node_is_primary\": false}, \"20\": {\"node_type\": \"metabolite\", \"x\": 2500.0, \"y\": 112.5, \"label_x\": 2470.0, \"label_y\": 92.5, \"bigg_id\": \"3_DEHYDRO_SHIKIMATE_c\", \"name\": \"3_DEHYDRO_SHIKIMATE_c\", \"node_is_primary\": false}, \"21\": {\"node_type\": \"metabolite\", \"x\": 2500.0, \"y\": 225.0, \"label_x\": 2470.0, \"label_y\": 205.0, \"bigg_id\": \"h_c\", \"name\": \"h_c\", \"node_is_primary\": false}, \"22\": {\"node_type\": \"metabolite\", \"x\": 2500.0, \"y\": 337.5, \"label_x\": 2470.0, \"label_y\": 317.5, \"bigg_id\": \"nadph_c\", \"name\": \"nadph_c\", \"node_is_primary\": false}, \"23\": {\"node_type\": \"multimarker\", \"x\": 2285.0, \"y\": 225.0}, \"24\": {\"node_type\": \"midmarker\", \"x\": 2305.0, \"y\": 225.0}, \"25\": {\"node_type\": \"multimarker\", \"x\": 2325.0, \"y\": 225.0}, \"26\": {\"node_type\": \"metabolite\", \"x\": 2630.0, \"y\": 150.0, \"label_x\": 2600.0, \"label_y\": 130.0, \"bigg_id\": \"SHIKIMATE_c\", \"name\": \"SHIKIMATE_c\", \"node_is_primary\": false}, \"27\": {\"node_type\": \"metabolite\", \"x\": 2630.0, \"y\": 300.0, \"label_x\": 2600.0, \"label_y\": 280.0, \"bigg_id\": \"atp_c\", \"name\": \"atp_c\", \"node_is_primary\": false}, \"28\": {\"node_type\": \"metabolite\", \"x\": 3150.0, \"y\": 112.5, \"label_x\": 3120.0, \"label_y\": 92.5, \"bigg_id\": \"SHIKIMATE_5P_c\", \"name\": \"SHIKIMATE_5P_c\", \"node_is_primary\": false}, \"29\": {\"node_type\": \"metabolite\", \"x\": 3150.0, \"y\": 225.0, \"label_x\": 3120.0, \"label_y\": 205.0, \"bigg_id\": \"adp_c\", \"name\": \"adp_c\", \"node_is_primary\": false}, \"30\": {\"node_type\": \"metabolite\", \"x\": 3150.0, \"y\": 337.5, \"label_x\": 3120.0, \"label_y\": 317.5, \"bigg_id\": \"h_c\", \"name\": \"h_c\", \"node_is_primary\": false}, \"31\": {\"node_type\": \"multimarker\", \"x\": 2935.0, \"y\": 225.0}, \"32\": {\"node_type\": \"midmarker\", \"x\": 2955.0, \"y\": 225.0}, \"33\": {\"node_type\": \"multimarker\", \"x\": 2975.0, \"y\": 225.0}, \"34\": {\"node_type\": \"metabolite\", \"x\": 3280.0, \"y\": 300.0, \"label_x\": 3250.0, \"label_y\": 280.0, \"bigg_id\": \"pep_c\", \"name\": \"pep_c\", \"node_is_primary\": false}, \"35\": {\"node_type\": \"metabolite\", \"x\": 3800.0, \"y\": 150.0, \"label_x\": 3770.0, \"label_y\": 130.0, \"bigg_id\": \"3_ENOLPYRUVYL_SHIKIMATE_5P_c\", \"name\": \"3_ENOLPYRUVYL_SHIKIMATE_5P_c\", \"node_is_primary\": false}, \"36\": {\"node_type\": \"metabolite\", \"x\": 3800.0, \"y\": 300.0, \"label_x\": 3770.0, \"label_y\": 280.0, \"bigg_id\": \"pi_c\", \"name\": \"pi_c\", \"node_is_primary\": false}, \"37\": {\"node_type\": \"multimarker\", \"x\": 3585.0, \"y\": 225.0}, \"38\": {\"node_type\": \"midmarker\", \"x\": 3605.0, \"y\": 225.0}, \"39\": {\"node_type\": \"multimarker\", \"x\": 3625.0, \"y\": 225.0}, \"40\": {\"node_type\": \"metabolite\", \"x\": 4450.0, \"y\": 150.0, \"label_x\": 4420.0, \"label_y\": 130.0, \"bigg_id\": \"CHORISMATE_c\", \"name\": \"CHORISMATE_c\", \"node_is_primary\": false}, \"41\": {\"node_type\": \"metabolite\", \"x\": 4450.0, \"y\": 300.0, \"label_x\": 4420.0, \"label_y\": 280.0, \"bigg_id\": \"pi_c\", \"name\": \"pi_c\", \"node_is_primary\": false}, \"42\": {\"node_type\": \"multimarker\", \"x\": 4235.0, \"y\": 225.0}, \"43\": {\"node_type\": \"midmarker\", \"x\": 4255.0, \"y\": 225.0}, \"44\": {\"node_type\": \"multimarker\", \"x\": 4275.0, \"y\": 225.0}}, \"text_labels\": {}, \"canvas\": {\"x\": 0, \"y\": 0, \"width\": 4550, \"height\": 450}}]",
       "_loaded_model_json": null,
       "allow_building_duplicate_reactions": false,
       "and_method_in_gene_reaction_rule": "mean",
       "canvas_size_and_loc": null,
       "cofactors": [
        "atp",
        "adp",
        "nad",
        "nadh",
        "nadp",
        "nadph",
        "gtp",
        "gdp",
        "h",
        "coa",
        "ump",
        "h2o",
        "ppi"
       ],
       "disabled_buttons": [
        "Clear reaction data",
        "Clear gene data",
        "Clear metabolite data"
       ],
       "embedded_css": null,
       "enable_editing": true,
       "enable_keys": false,
       "enable_keys_with_tooltip": true,
       "enable_search": true,
       "enable_tooltips": false,
       "full_screen_button": {
        "enable_editing": true,
        "enable_keys": true,
        "enable_tooltips": [
         "label"
        ],
        "menu": "all",
        "scroll_behavior": "pan"
       },
       "gene_data": null,
       "gene_font_size": 18,
       "height": 500,
       "hide_all_labels": false,
       "hide_secondary_metabolites": false,
       "highlight_missing": false,
       "identifiers_on_map": "bigg_id",
       "layout": "IPY_MODEL_a0ecca9fe7ef4482b45746c93431c632",
       "marker_radius": 5,
       "menu": "all",
       "metabolite_compare_style": "log2_fold",
       "metabolite_data": null,
       "metabolite_no_data_color": "#ffffff",
       "metabolite_no_data_size": 10,
       "metabolite_scale": [
        {
         "color": "#fffaf0",
         "size": 20,
         "type": "min"
        },
        {
         "color": "#f1c470",
         "size": 30,
         "type": "median"
        },
        {
         "color": "#800000",
         "size": 40,
         "type": "max"
        }
       ],
       "metabolite_scale_preset": "WhYlRd",
       "metabolite_styles": [
        "color",
        "size",
        "text"
       ],
       "never_ask_before_quit": true,
       "primary_metabolite_radius": 20,
       "reaction_compare_style": "log2_fold",
       "reaction_data": null,
       "reaction_no_data_color": "#dcdcdc",
       "reaction_no_data_size": 8,
       "reaction_scale": {},
       "reaction_scale_preset": null,
       "reaction_styles": [
        "color",
        "text"
       ],
       "scroll_behavior": "none",
       "secondary_metabolite_radius": 10,
       "semantic_zoom": null,
       "show_gene_reaction_rules": false,
       "starting_reaction": null,
       "use_3d_transform": false,
       "zoom_to_element": null
      }
     },
     "84f12338570f449499cfc9cbd664e493": {
      "model_module": "escher",
      "model_module_version": "1.7.3",
      "model_name": "EscherMapModel",
      "state": {
       "_loaded_map_json": "[{\"map_name\": \"\", \"map_id\": \"\", \"map_description\": \"\", \"homepage\": \"\", \"schema\": \"https://escher.github.io/escher/jsonschema/1-0-0#\"}, {\"reactions\": {\"0\": {\"name\": \"DAHPSYN_RXN_c\", \"bigg_id\": \"DAHPSYN_RXN_c\", \"reversibility\": true, \"label_x\": 265.0, \"label_y\": 325.0, \"gene_reaction_rule\": \"\", \"genes\": [], \"segments\": {\"0\": {\"from_node_id\": \"5\", \"to_node_id\": \"6\", \"b1\": null, \"b2\": null}, \"1\": {\"from_node_id\": \"7\", \"to_node_id\": \"6\", \"b1\": null, \"b2\": null}, \"2\": {\"from_node_id\": \"0\", \"to_node_id\": \"5\", \"b1\": null, \"b2\": null}, \"3\": {\"from_node_id\": \"1\", \"to_node_id\": \"5\", \"b1\": null, \"b2\": null}, \"4\": {\"from_node_id\": \"2\", \"to_node_id\": \"5\", \"b1\": null, \"b2\": null}, \"5\": {\"from_node_id\": \"3\", \"to_node_id\": \"7\", \"b1\": null, \"b2\": null}, \"6\": {\"from_node_id\": \"4\", \"to_node_id\": \"7\", \"b1\": null, \"b2\": null}}, \"metabolites\": [{\"bigg_id\": \"e4p_c\", \"coefficient\": -1.0}, {\"bigg_id\": \"h2o_c\", \"coefficient\": -1.0}, {\"bigg_id\": \"pep_c\", \"coefficient\": -1.0}, {\"bigg_id\": \"3_DEOXY_D_ARABINO_HEPTULOSONATE_7_P_c\", \"coefficient\": 1.0}, {\"bigg_id\": \"pi_c\", \"coefficient\": 1.0}]}, \"1\": {\"name\": \"3_DEHYDROQUINATE_SYNTHASE_RXN_c\", \"bigg_id\": \"3_DEHYDROQUINATE_SYNTHASE_RXN_c\", \"reversibility\": true, \"label_x\": 265.0, \"label_y\": 975.0, \"gene_reaction_rule\": \"\", \"genes\": [], \"segments\": {\"7\": {\"from_node_id\": \"10\", \"to_node_id\": \"11\", \"b1\": null, \"b2\": null}, \"8\": {\"from_node_id\": \"12\", \"to_node_id\": \"11\", \"b1\": null, \"b2\": null}, \"9\": {\"from_node_id\": \"3\", \"to_node_id\": \"10\", \"b1\": null, \"b2\": null}, \"10\": {\"from_node_id\": \"8\", \"to_node_id\": \"12\", \"b1\": null, \"b2\": null}, \"11\": {\"from_node_id\": \"9\", \"to_node_id\": \"12\", \"b1\": null, \"b2\": null}}, \"metabolites\": [{\"bigg_id\": \"3_DEOXY_D_ARABINO_HEPTULOSONATE_7_P_c\", \"coefficient\": -1.0}, {\"bigg_id\": \"DEHYDROQUINATE_c\", \"coefficient\": 1.0}, {\"bigg_id\": \"pi_c\", \"coefficient\": 1.0}]}, \"2\": {\"name\": \"3_DEHYDROQUINATE_DEHYDRATASE_RXN_c\", \"bigg_id\": \"3_DEHYDROQUINATE_DEHYDRATASE_RXN_c\", \"reversibility\": true, \"label_x\": 265.0, \"label_y\": 1625.0, \"gene_reaction_rule\": \"\", \"genes\": [], \"segments\": {\"12\": {\"from_node_id\": \"15\", \"to_node_id\": \"16\", \"b1\": null, \"b2\": null}, \"13\": {\"from_node_id\": \"17\", \"to_node_id\": \"16\", \"b1\": null, \"b2\": null}, \"14\": {\"from_node_id\": \"8\", \"to_node_id\": \"15\", \"b1\": null, \"b2\": null}, \"15\": {\"from_node_id\": \"13\", \"to_node_id\": \"17\", \"b1\": null, \"b2\": null}, \"16\": {\"from_node_id\": \"14\", \"to_node_id\": \"17\", \"b1\": null, \"b2\": null}}, \"metabolites\": [{\"bigg_id\": \"DEHYDROQUINATE_c\", \"coefficient\": -1.0}, {\"bigg_id\": \"3_DEHYDRO_SHIKIMATE_c\", \"coefficient\": 1.0}, {\"bigg_id\": \"h2o_c\", \"coefficient\": 1.0}]}, \"3\": {\"name\": \"SHIKIMATE_5_DEHYDROGENASE_RXN_c\", \"bigg_id\": \"SHIKIMATE_5_DEHYDROGENASE_RXN_c\", \"reversibility\": true, \"label_x\": 265.0, \"label_y\": 2275.0, \"gene_reaction_rule\": \"\", \"genes\": [], \"segments\": {\"17\": {\"from_node_id\": \"23\", \"to_node_id\": \"24\", \"b1\": null, \"b2\": null}, \"18\": {\"from_node_id\": \"25\", \"to_node_id\": \"24\", \"b1\": null, \"b2\": null}, \"19\": {\"from_node_id\": \"18\", \"to_node_id\": \"23\", \"b1\": null, \"b2\": null}, \"20\": {\"from_node_id\": \"19\", \"to_node_id\": \"23\", \"b1\": null, \"b2\": null}, \"21\": {\"from_node_id\": \"20\", \"to_node_id\": \"25\", \"b1\": null, \"b2\": null}, \"22\": {\"from_node_id\": \"21\", \"to_node_id\": \"25\", \"b1\": null, \"b2\": null}, \"23\": {\"from_node_id\": \"22\", \"to_node_id\": \"25\", \"b1\": null, \"b2\": null}}, \"metabolites\": [{\"bigg_id\": \"SHIKIMATE_c\", \"coefficient\": -1.0}, {\"bigg_id\": \"nadp_c\", \"coefficient\": -1.0}, {\"bigg_id\": \"3_DEHYDRO_SHIKIMATE_c\", \"coefficient\": 1.0}, {\"bigg_id\": \"h_c\", \"coefficient\": 1.0}, {\"bigg_id\": \"nadph_c\", \"coefficient\": 1.0}]}, \"4\": {\"name\": \"SHIKIMATE_KINASE_RXN_c\", \"bigg_id\": \"SHIKIMATE_KINASE_RXN_c\", \"reversibility\": true, \"label_x\": 265.0, \"label_y\": 2925.0, \"gene_reaction_rule\": \"\", \"genes\": [], \"segments\": {\"24\": {\"from_node_id\": \"31\", \"to_node_id\": \"32\", \"b1\": null, \"b2\": null}, \"25\": {\"from_node_id\": \"33\", \"to_node_id\": \"32\", \"b1\": null, \"b2\": null}, \"26\": {\"from_node_id\": \"26\", \"to_node_id\": \"31\", \"b1\": null, \"b2\": null}, \"27\": {\"from_node_id\": \"27\", \"to_node_id\": \"31\", \"b1\": null, \"b2\": null}, \"28\": {\"from_node_id\": \"28\", \"to_node_id\": \"33\", \"b1\": null, \"b2\": null}, \"29\": {\"from_node_id\": \"29\", \"to_node_id\": \"33\", \"b1\": null, \"b2\": null}, \"30\": {\"from_node_id\": \"30\", \"to_node_id\": \"33\", \"b1\": null, \"b2\": null}}, \"metabolites\": [{\"bigg_id\": \"SHIKIMATE_c\", \"coefficient\": -1.0}, {\"bigg_id\": \"atp_c\", \"coefficient\": -1.0}, {\"bigg_id\": \"SHIKIMATE_5P_c\", \"coefficient\": 1.0}, {\"bigg_id\": \"adp_c\", \"coefficient\": 1.0}, {\"bigg_id\": \"h_c\", \"coefficient\": 1.0}]}, \"5\": {\"name\": \"2.5.1.19_RXN_c\", \"bigg_id\": \"2.5.1.19_RXN_c\", \"reversibility\": true, \"label_x\": 265.0, \"label_y\": 3575.0, \"gene_reaction_rule\": \"\", \"genes\": [], \"segments\": {\"31\": {\"from_node_id\": \"37\", \"to_node_id\": \"38\", \"b1\": null, \"b2\": null}, \"32\": {\"from_node_id\": \"39\", \"to_node_id\": \"38\", \"b1\": null, \"b2\": null}, \"33\": {\"from_node_id\": \"28\", \"to_node_id\": \"37\", \"b1\": null, \"b2\": null}, \"34\": {\"from_node_id\": \"34\", \"to_node_id\": \"37\", \"b1\": null, \"b2\": null}, \"35\": {\"from_node_id\": \"35\", \"to_node_id\": \"39\", \"b1\": null, \"b2\": null}, \"36\": {\"from_node_id\": \"36\", \"to_node_id\": \"39\", \"b1\": null, \"b2\": null}}, \"metabolites\": [{\"bigg_id\": \"SHIKIMATE_5P_c\", \"coefficient\": -1.0}, {\"bigg_id\": \"pep_c\", \"coefficient\": -1.0}, {\"bigg_id\": \"3_ENOLPYRUVYL_SHIKIMATE_5P_c\", \"coefficient\": 1.0}, {\"bigg_id\": \"pi_c\", \"coefficient\": 1.0}]}, \"6\": {\"name\": \"CHORISMATE_SYNTHASE_RXN_c\", \"bigg_id\": \"CHORISMATE_SYNTHASE_RXN_c\", \"reversibility\": true, \"label_x\": 265.0, \"label_y\": 4225.0, \"gene_reaction_rule\": \"\", \"genes\": [], \"segments\": {\"37\": {\"from_node_id\": \"42\", \"to_node_id\": \"43\", \"b1\": null, \"b2\": null}, \"38\": {\"from_node_id\": \"44\", \"to_node_id\": \"43\", \"b1\": null, \"b2\": null}, \"39\": {\"from_node_id\": \"35\", \"to_node_id\": \"42\", \"b1\": null, \"b2\": null}, \"40\": {\"from_node_id\": \"40\", \"to_node_id\": \"44\", \"b1\": null, \"b2\": null}, \"41\": {\"from_node_id\": \"41\", \"to_node_id\": \"44\", \"b1\": null, \"b2\": null}}, \"metabolites\": [{\"bigg_id\": \"3_ENOLPYRUVYL_SHIKIMATE_5P_c\", \"coefficient\": -1.0}, {\"bigg_id\": \"CHORISMATE_c\", \"coefficient\": 1.0}, {\"bigg_id\": \"pi_c\", \"coefficient\": 1.0}]}}, \"nodes\": {\"0\": {\"node_type\": \"metabolite\", \"x\": 112.5, \"y\": 30.0, \"label_x\": 122.5, \"label_y\": 20.0, \"bigg_id\": \"e4p_c\", \"name\": \"e4p_c\", \"node_is_primary\": false}, \"1\": {\"node_type\": \"metabolite\", \"x\": 225.0, \"y\": 30.0, \"label_x\": 235.0, \"label_y\": 20.0, \"bigg_id\": \"h2o_c\", \"name\": \"h2o_c\", \"node_is_primary\": false}, \"2\": {\"node_type\": \"metabolite\", \"x\": 337.5, \"y\": 30.0, \"label_x\": 347.5, \"label_y\": 20.0, \"bigg_id\": \"pep_c\", \"name\": \"pep_c\", \"node_is_primary\": false}, \"3\": {\"node_type\": \"metabolite\", \"x\": 150.0, \"y\": 550.0, \"label_x\": 160.0, \"label_y\": 580.0, \"bigg_id\": \"3_DEOXY_D_ARABINO_HEPTULOSONATE_7_P_c\", \"name\": \"3_DEOXY_D_ARABINO_HEPTULOSONATE_7_P_c\", \"node_is_primary\": false}, \"4\": {\"node_type\": \"metabolite\", \"x\": 300.0, \"y\": 550.0, \"label_x\": 310.0, \"label_y\": 580.0, \"bigg_id\": \"pi_c\", \"name\": \"pi_c\", \"node_is_primary\": false}, \"5\": {\"node_type\": \"multimarker\", \"x\": 225.0, \"y\": 305.0}, \"6\": {\"node_type\": \"midmarker\", \"x\": 225.0, \"y\": 325.0}, \"7\": {\"node_type\": \"multimarker\", \"x\": 225.0, \"y\": 345.0}, \"8\": {\"node_type\": \"metabolite\", \"x\": 150.0, \"y\": 1200.0, \"label_x\": 160.0, \"label_y\": 1230.0, \"bigg_id\": \"DEHYDROQUINATE_c\", \"name\": \"DEHYDROQUINATE_c\", \"node_is_primary\": false}, \"9\": {\"node_type\": \"metabolite\", \"x\": 300.0, \"y\": 1200.0, \"label_x\": 310.0, \"label_y\": 1230.0, \"bigg_id\": \"pi_c\", \"name\": \"pi_c\", \"node_is_primary\": false}, \"10\": {\"node_type\": \"multimarker\", \"x\": 225.0, \"y\": 955.0}, \"11\": {\"node_type\": \"midmarker\", \"x\": 225.0, \"y\": 975.0}, \"12\": {\"node_type\": \"multimarker\", \"x\": 225.0, \"y\": 995.0}, \"13\": {\"node_type\": \"metabolite\", \"x\": 150.0, \"y\": 1850.0, \"label_x\": 160.0, \"label_y\": 1880.0, \"bigg_id\": \"3_DEHYDRO_SHIKIMATE_c\", \"name\": \"3_DEHYDRO_SHIKIMATE_c\", \"node_is_primary\": false}, \"14\": {\"node_type\": \"metabolite\", \"x\": 300.0, \"y\": 1850.0, \"label_x\": 310.0, \"label_y\": 1880.0, \"bigg_id\": \"h2o_c\", \"name\": \"h2o_c\", \"node_is_primary\": false}, \"15\": {\"node_type\": \"multimarker\", \"x\": 225.0, \"y\": 1605.0}, \"16\": {\"node_type\": \"midmarker\", \"x\": 225.0, \"y\": 1625.0}, \"17\": {\"node_type\": \"multimarker\", \"x\": 225.0, \"y\": 1645.0}, \"18\": {\"node_type\": \"metabolite\", \"x\": 150.0, \"y\": 1980.0, \"label_x\": 160.0, \"label_y\": 1970.0, \"bigg_id\": \"SHIKIMATE_c\", \"name\": \"SHIKIMATE_c\", \"node_is_primary\": false}, \"19\": {\"node_type\": \"metabolite\", \"x\": 300.0, \"y\": 1980.0, \"label_x\": 310.0, \"label_y\": 1970.0, \"bigg_id\": \"nadp_c\", \"name\": \"nadp_c\", \"node_is_primary\": false}, \"20\": {\"node_type\": \"metabolite\", \"x\": 112.5, \"y\": 2500.0, \"label_x\": 122.5, \"label_y\": 2530.0, \"bigg_id\": \"3_DEHYDRO_SHIKIMATE_c\", \"name\": \"3_DEHYDRO_SHIKIMATE_c\", \"node_is_primary\": false}, \"21\": {\"node_type\": \"metabolite\", \"x\": 225.0, \"y\": 2500.0, \"label_x\": 235.0, \"label_y\": 2530.0, \"bigg_id\": \"h_c\", \"name\": \"h_c\", \"node_is_primary\": false}, \"22\": {\"node_type\": \"metabolite\", \"x\": 337.5, \"y\": 2500.0, \"label_x\": 347.5, \"label_y\": 2530.0, \"bigg_id\": \"nadph_c\", \"name\": \"nadph_c\", \"node_is_primary\": false}, \"23\": {\"node_type\": \"multimarker\", \"x\": 225.0, \"y\": 2255.0}, \"24\": {\"node_type\": \"midmarker\", \"x\": 225.0, \"y\": 2275.0}, \"25\": {\"node_type\": \"multimarker\", \"x\": 225.0, \"y\": 2295.0}, \"26\": {\"node_type\": \"metabolite\", \"x\": 150.0, \"y\": 2630.0, \"label_x\": 160.0, \"label_y\": 2620.0, \"bigg_id\": \"SHIKIMATE_c\", \"name\": \"SHIKIMATE_c\", \"node_is_primary\": false}, \"27\": {\"node_type\": \"metabolite\", \"x\": 300.0, \"y\": 2630.0, \"label_x\": 310.0, \"label_y\": 2620.0, \"bigg_id\": \"atp_c\", \"name\": \"atp_c\", \"node_is_primary\": false}, \"28\": {\"node_type\": \"metabolite\", \"x\": 112.5, \"y\": 3150.0, \"label_x\": 122.5, \"label_y\": 3180.0, \"bigg_id\": \"SHIKIMATE_5P_c\", \"name\": \"SHIKIMATE_5P_c\", \"node_is_primary\": false}, \"29\": {\"node_type\": \"metabolite\", \"x\": 225.0, \"y\": 3150.0, \"label_x\": 235.0, \"label_y\": 3180.0, \"bigg_id\": \"adp_c\", \"name\": \"adp_c\", \"node_is_primary\": false}, \"30\": {\"node_type\": \"metabolite\", \"x\": 337.5, \"y\": 3150.0, \"label_x\": 347.5, \"label_y\": 3180.0, \"bigg_id\": \"h_c\", \"name\": \"h_c\", \"node_is_primary\": false}, \"31\": {\"node_type\": \"multimarker\", \"x\": 225.0, \"y\": 2905.0}, \"32\": {\"node_type\": \"midmarker\", \"x\": 225.0, \"y\": 2925.0}, \"33\": {\"node_type\": \"multimarker\", \"x\": 225.0, \"y\": 2945.0}, \"34\": {\"node_type\": \"metabolite\", \"x\": 300.0, \"y\": 3280.0, \"label_x\": 310.0, \"label_y\": 3270.0, \"bigg_id\": \"pep_c\", \"name\": \"pep_c\", \"node_is_primary\": false}, \"35\": {\"node_type\": \"metabolite\", \"x\": 150.0, \"y\": 3800.0, \"label_x\": 160.0, \"label_y\": 3830.0, \"bigg_id\": \"3_ENOLPYRUVYL_SHIKIMATE_5P_c\", \"name\": \"3_ENOLPYRUVYL_SHIKIMATE_5P_c\", \"node_is_primary\": false}, \"36\": {\"node_type\": \"metabolite\", \"x\": 300.0, \"y\": 3800.0, \"label_x\": 310.0, \"label_y\": 3830.0, \"bigg_id\": \"pi_c\", \"name\": \"pi_c\", \"node_is_primary\": false}, \"37\": {\"node_type\": \"multimarker\", \"x\": 225.0, \"y\": 3555.0}, \"38\": {\"node_type\": \"midmarker\", \"x\": 225.0, \"y\": 3575.0}, \"39\": {\"node_type\": \"multimarker\", \"x\": 225.0, \"y\": 3595.0}, \"40\": {\"node_type\": \"metabolite\", \"x\": 150.0, \"y\": 4450.0, \"label_x\": 160.0, \"label_y\": 4480.0, \"bigg_id\": \"CHORISMATE_c\", \"name\": \"CHORISMATE_c\", \"node_is_primary\": false}, \"41\": {\"node_type\": \"metabolite\", \"x\": 300.0, \"y\": 4450.0, \"label_x\": 310.0, \"label_y\": 4480.0, \"bigg_id\": \"pi_c\", \"name\": \"pi_c\", \"node_is_primary\": false}, \"42\": {\"node_type\": \"multimarker\", \"x\": 225.0, \"y\": 4205.0}, \"43\": {\"node_type\": \"midmarker\", \"x\": 225.0, \"y\": 4225.0}, \"44\": {\"node_type\": \"multimarker\", \"x\": 225.0, \"y\": 4245.0}}, \"text_labels\": {}, \"canvas\": {\"x\": 0, \"y\": 0, \"width\": 450, \"height\": 4550}}]",
       "_loaded_model_json": null,
       "allow_building_duplicate_reactions": false,
       "and_method_in_gene_reaction_rule": "mean",
       "canvas_size_and_loc": null,
       "cofactors": [
        "atp",
        "adp",
        "nad",
        "nadh",
        "nadp",
        "nadph",
        "gtp",
        "gdp",
        "h",
        "coa",
        "ump",
        "h2o",
        "ppi"
       ],
       "disabled_buttons": [
        "Clear gene data",
        "Clear metabolite data"
       ],
       "embedded_css": null,
       "enable_editing": true,
       "enable_keys": false,
       "enable_keys_with_tooltip": true,
       "enable_search": true,
       "enable_tooltips": false,
       "full_screen_button": {
        "enable_editing": true,
        "enable_keys": true,
        "enable_tooltips": [
         "label"
        ],
        "menu": "all",
        "scroll_behavior": "pan"
       },
       "gene_data": null,
       "gene_font_size": 18,
       "height": 500,
       "hide_all_labels": false,
       "hide_secondary_metabolites": false,
       "highlight_missing": false,
       "identifiers_on_map": "bigg_id",
       "layout": "IPY_MODEL_5080fc6158d74dde93d9b06793304344",
       "marker_radius": 5,
       "menu": "all",
       "metabolite_compare_style": "log2_fold",
       "metabolite_data": null,
       "metabolite_no_data_color": "#ffffff",
       "metabolite_no_data_size": 10,
       "metabolite_scale": [
        {
         "color": "#fffaf0",
         "size": 20,
         "type": "min"
        },
        {
         "color": "#f1c470",
         "size": 30,
         "type": "median"
        },
        {
         "color": "#800000",
         "size": 40,
         "type": "max"
        }
       ],
       "metabolite_scale_preset": "WhYlRd",
       "metabolite_styles": [
        "color",
        "size",
        "text"
       ],
       "never_ask_before_quit": true,
       "primary_metabolite_radius": 20,
       "reaction_compare_style": "log2_fold",
       "reaction_data": {
        "2.5.1.19_RXN_c": 3.45412919325017e-16,
        "3_DEHYDROQUINATE_DEHYDRATASE_RXN_c": 0.02252757842301053,
        "3_DEHYDROQUINATE_SYNTHASE_RXN_c": 0.0225275784230109,
        "ACALD": -8.242754606813811,
        "ACALDt": 1.5948213258617017e-15,
        "ACKr": -8.545149430150774,
        "ACONTa": 0.20180209345720918,
        "ACONTb": 0.20180209345720884,
        "ACt2r": -8.545149430150774,
        "ADK1": 0,
        "AKGDH": 0,
        "AKGt2r": 0,
        "ALCD2x": -8.242754606813813,
        "ATPM": 8.39,
        "ATPS4r": -5.467599718788589,
        "Biomass_Ecoli_core": 0,
        "CHORISMATE_SYNTHASE_RXN_c": 3.45412919325017e-16,
        "CO2t": 0.377588283824404,
        "CS": 0.20180209345720915,
        "CYTBD": 0,
        "DAHPSYN_RXN_c": 0.0225275784230109,
        "D_LACt2": 0,
        "ENO": 19.092023447333176,
        "ETOHt2r": -8.242754606813815,
        "EX_ac_e": 8.545149430150774,
        "EX_acald_e": 0,
        "EX_akg_e": 0,
        "EX_co2_e": -0.377588283824404,
        "EX_etoh_e": 8.242754606813815,
        "EX_for_e": 17.781739135468587,
        "EX_fru_e": 0,
        "EX_fum_e": 0,
        "EX_glc__D_e": -10,
        "EX_gln__L_e": 0,
        "EX_glu__L_e": 0,
        "EX_h2o_e": -7.088264900292325,
        "EX_h_e": 30.53634208317103,
        "EX_lac__D_e": 0,
        "EX_mal__L_e": 0,
        "EX_nh4_e": -1.1523554004800551,
        "EX_o2_e": 0,
        "EX_pi_e": -0.7774299097245451,
        "EX_pyr_e": 0,
        "EX_succ_e": 0,
        "FBA": 9.782278087698149,
        "FBP": 0,
        "FORt2": 0,
        "FORti": 17.781739135468587,
        "FRD7": 0,
        "FRUpts2": 0,
        "FUM": 0,
        "FUMt2_2": 0,
        "G6PDH2r": 0,
        "GAPD": 19.408177291068167,
        "GLCpts": 9.999999999999936,
        "GLNS": 0.05403779267582763,
        "GLNabc": 0,
        "GLUDy": -1.0983176078042267,
        "GLUN": 0,
        "GLUSy": 0,
        "GLUt2r": 1.6651454815626205e-15,
        "GND": 0,
        "H2Ot": 7.088264900292325,
        "ICDHyr": 0.20180209345720884,
        "ICL": 0,
        "LDH_D": 0,
        "MALS": 0,
        "MALt2_2": 0,
        "MDH": 0,
        "ME1": 0,
        "ME2": 0,
        "NADH16": 0,
        "NADTRHD": 0,
        "NH4t": 1.1523554004800531,
        "O2t": 0,
        "PDH": 0,
        "PFK": 9.78227808769815,
        "PFL": 17.781739135468584,
        "PGI": 9.956676779434645,
        "PGK": -19.40817729106817,
        "PGL": 0,
        "PGM": -19.092023447333172,
        "PIt2r": 0.7774299097245451,
        "PPC": 0.5793903772816158,
        "PPCK": 0,
        "PPS": 0,
        "PTAr": 8.545149430150772,
        "PYK": 8.380402643845967,
        "PYRt2": 0,
        "RPE": -0.15941519740440346,
        "RPI": -0.15941519740440246,
        "SA3_biomass": 0,
        "SHIKIMATE_5_DEHYDROGENASE_RXN_c": -0.02252757842301338,
        "SHIKIMATE_KINASE_RXN_c": 0,
        "SK_CHORISMATE_c": 3.45412919325017e-16,
        "SUCCt2_2": 0,
        "SUCCt3": 0,
        "SUCDi": 0,
        "SUCOAS": 0,
        "TALA": -0.030298242114916364,
        "THD2": 3.672265459611674,
        "TKT1": -0.03029824211491702,
        "TKT2": -0.12911695528948602,
        "TPI": 9.782278087698149,
        "W3110_biomass": 0.21141376337105094
       },
       "reaction_no_data_color": "#dcdcdc",
       "reaction_no_data_size": 8,
       "reaction_scale": [
        {
         "color": "rgb(207,207,221)",
         "type": "value",
         "value": 0.05555555555555555
        },
        {
         "color": "rgb(195,195,223)",
         "type": "value",
         "value": 0.1111111111111111
        },
        {
         "color": "rgb(183,183,225)",
         "type": "value",
         "value": 0.16666666666666666
        },
        {
         "color": "rgb(171,171,227)",
         "type": "value",
         "value": 0.2222222222222222
        },
        {
         "color": "rgb(158,158,229)",
         "type": "value",
         "value": 0.2777777777777778
        },
        {
         "color": "rgb(146,146,231)",
         "type": "value",
         "value": 0.33333333333333337
        },
        {
         "color": "rgb(134,134,233)",
         "type": "value",
         "value": 0.38888888888888884
        },
        {
         "color": "rgb(122,122,235)",
         "type": "value",
         "value": 0.4444444444444444
        },
        {
         "color": "rgb(109,109,237)",
         "type": "value",
         "value": 0.5
        },
        {
         "color": "rgb(97,97,239)",
         "type": "value",
         "value": 0.5555555555555556
        },
        {
         "color": "rgb(85,85,241)",
         "type": "value",
         "value": 0.6111111111111112
        },
        {
         "color": "rgb(73,73,243)",
         "type": "value",
         "value": 0.6666666666666666
        },
        {
         "color": "rgb(61,61,245)",
         "type": "value",
         "value": 0.7222222222222222
        },
        {
         "color": "rgb(48,48,247)",
         "type": "value",
         "value": 0.7777777777777778
        },
        {
         "color": "rgb(36,36,249)",
         "type": "value",
         "value": 0.8333333333333333
        },
        {
         "color": "rgb(24,24,251)",
         "type": "value",
         "value": 0.8888888888888888
        },
        {
         "color": "rgb(12,12,253)",
         "type": "value",
         "value": 0.9444444444444444
        },
        {
         "color": "rgb(0,0,254)",
         "type": "value",
         "value": 1
        },
        {
         "color": "rgb(220,220,220)",
         "type": "value",
         "value": 0
        },
        {
         "color": "rgb(223,195,195)",
         "type": "value",
         "value": -0.1111111111111111
        },
        {
         "color": "rgb(227,171,171)",
         "type": "value",
         "value": -0.2222222222222222
        },
        {
         "color": "rgb(231,146,146)",
         "type": "value",
         "value": -0.3333333333333333
        },
        {
         "color": "rgb(235,122,122)",
         "type": "value",
         "value": -0.4444444444444444
        },
        {
         "color": "rgb(239,97,97)",
         "type": "value",
         "value": -0.5555555555555556
        },
        {
         "color": "rgb(243,73,73)",
         "type": "value",
         "value": -0.6666666666666667
        },
        {
         "color": "rgb(247,48,48)",
         "type": "value",
         "value": -0.7777777777777777
        },
        {
         "color": "rgb(251,24,24)",
         "type": "value",
         "value": -0.8888888888888888
        },
        {
         "color": "rgb(254,0,0)",
         "type": "value",
         "value": -1
        }
       ],
       "reaction_scale_preset": null,
       "reaction_styles": [
        "color",
        "text"
       ],
       "scroll_behavior": "none",
       "secondary_metabolite_radius": 10,
       "semantic_zoom": null,
       "show_gene_reaction_rules": false,
       "starting_reaction": null,
       "use_3d_transform": false,
       "zoom_to_element": null
      }
     },
     "87f3f63b9d4c40a28c194596853e7c6f": {
      "model_module": "escher",
      "model_module_version": "1.7.3",
      "model_name": "EscherMapModel",
      "state": {
       "_loaded_map_json": "[{\"map_name\": \"\", \"map_id\": \"\", \"map_description\": \"\", \"homepage\": \"\", \"schema\": \"https://escher.github.io/escher/jsonschema/1-0-0#\"}, {\"reactions\": {\"0\": {\"name\": \"3_DEHYDROQUINATE_DEHYDRATASE_RXN_c\", \"bigg_id\": \"3_DEHYDROQUINATE_DEHYDRATASE_RXN_c\", \"reversibility\": true, \"label_x\": 19.0, \"label_y\": 45.0, \"gene_reaction_rule\": \"\", \"genes\": [], \"segments\": {\"0\": {\"from_node_id\": \"3\", \"to_node_id\": \"4\", \"b1\": null, \"b2\": null}, \"1\": {\"from_node_id\": \"5\", \"to_node_id\": \"4\", \"b1\": null, \"b2\": null}, \"2\": {\"from_node_id\": \"0\", \"to_node_id\": \"3\", \"b1\": null, \"b2\": null}, \"3\": {\"from_node_id\": \"1\", \"to_node_id\": \"5\", \"b1\": null, \"b2\": null}, \"4\": {\"from_node_id\": \"2\", \"to_node_id\": \"5\", \"b1\": null, \"b2\": null}}, \"metabolites\": [{\"bigg_id\": \"DEHYDROQUINATE_c\", \"coefficient\": -1.0}, {\"bigg_id\": \"3_DEHYDRO_SHIKIMATE_c\", \"coefficient\": 1.0}, {\"bigg_id\": \"h2o_c\", \"coefficient\": 1.0}]}, \"1\": {\"name\": \"SHIKIMATE_5_DEHYDROGENASE_RXN_c\", \"bigg_id\": \"SHIKIMATE_5_DEHYDROGENASE_RXN_c\", \"reversibility\": true, \"label_x\": 696.0, \"label_y\": 45.0, \"gene_reaction_rule\": \"\", \"genes\": [], \"segments\": {\"5\": {\"from_node_id\": \"11\", \"to_node_id\": \"12\", \"b1\": null, \"b2\": null}, \"6\": {\"from_node_id\": \"13\", \"to_node_id\": \"12\", \"b1\": null, \"b2\": null}, \"7\": {\"from_node_id\": \"6\", \"to_node_id\": \"11\", \"b1\": null, \"b2\": null}, \"8\": {\"from_node_id\": \"7\", \"to_node_id\": \"11\", \"b1\": null, \"b2\": null}, \"9\": {\"from_node_id\": \"8\", \"to_node_id\": \"13\", \"b1\": null, \"b2\": null}, \"10\": {\"from_node_id\": \"9\", \"to_node_id\": \"13\", \"b1\": null, \"b2\": null}, \"11\": {\"from_node_id\": \"10\", \"to_node_id\": \"13\", \"b1\": null, \"b2\": null}}, \"metabolites\": [{\"bigg_id\": \"SHIKIMATE_c\", \"coefficient\": -1.0}, {\"bigg_id\": \"nadp_c\", \"coefficient\": -1.0}, {\"bigg_id\": \"3_DEHYDRO_SHIKIMATE_c\", \"coefficient\": 1.0}, {\"bigg_id\": \"h_c\", \"coefficient\": 1.0}, {\"bigg_id\": \"nadph_c\", \"coefficient\": 1.0}]}, \"2\": {\"name\": \"SHIKIMATE_KINASE_RXN_c\", \"bigg_id\": \"SHIKIMATE_KINASE_RXN_c\", \"reversibility\": true, \"label_x\": 1427.0, \"label_y\": 45.0, \"gene_reaction_rule\": \"\", \"genes\": [], \"segments\": {\"12\": {\"from_node_id\": \"19\", \"to_node_id\": \"20\", \"b1\": null, \"b2\": null}, \"13\": {\"from_node_id\": \"21\", \"to_node_id\": \"20\", \"b1\": null, \"b2\": null}, \"14\": {\"from_node_id\": \"14\", \"to_node_id\": \"19\", \"b1\": null, \"b2\": null}, \"15\": {\"from_node_id\": \"15\", \"to_node_id\": \"19\", \"b1\": null, \"b2\": null}, \"16\": {\"from_node_id\": \"16\", \"to_node_id\": \"21\", \"b1\": null, \"b2\": null}, \"17\": {\"from_node_id\": \"17\", \"to_node_id\": \"21\", \"b1\": null, \"b2\": null}, \"18\": {\"from_node_id\": \"18\", \"to_node_id\": \"21\", \"b1\": null, \"b2\": null}}, \"metabolites\": [{\"bigg_id\": \"SHIKIMATE_c\", \"coefficient\": -1.0}, {\"bigg_id\": \"atp_c\", \"coefficient\": -1.0}, {\"bigg_id\": \"SHIKIMATE_5P_c\", \"coefficient\": 1.0}, {\"bigg_id\": \"adp_c\", \"coefficient\": 1.0}, {\"bigg_id\": \"h_c\", \"coefficient\": 1.0}]}, \"3\": {\"name\": \"2.5.1.19_RXN_c\", \"bigg_id\": \"2.5.1.19_RXN_c\", \"reversibility\": true, \"label_x\": 2149.0, \"label_y\": 45.0, \"gene_reaction_rule\": \"\", \"genes\": [], \"segments\": {\"19\": {\"from_node_id\": \"25\", \"to_node_id\": \"26\", \"b1\": null, \"b2\": null}, \"20\": {\"from_node_id\": \"27\", \"to_node_id\": \"26\", \"b1\": null, \"b2\": null}, \"21\": {\"from_node_id\": \"16\", \"to_node_id\": \"25\", \"b1\": null, \"b2\": null}, \"22\": {\"from_node_id\": \"22\", \"to_node_id\": \"25\", \"b1\": null, \"b2\": null}, \"23\": {\"from_node_id\": \"23\", \"to_node_id\": \"27\", \"b1\": null, \"b2\": null}, \"24\": {\"from_node_id\": \"24\", \"to_node_id\": \"27\", \"b1\": null, \"b2\": null}}, \"metabolites\": [{\"bigg_id\": \"SHIKIMATE_5P_c\", \"coefficient\": -1.0}, {\"bigg_id\": \"pep_c\", \"coefficient\": -1.0}, {\"bigg_id\": \"3_ENOLPYRUVYL_SHIKIMATE_5P_c\", \"coefficient\": 1.0}, {\"bigg_id\": \"pi_c\", \"coefficient\": 1.0}]}, \"4\": {\"name\": \"CHORISMATE_SYNTHASE_RXN_c\", \"bigg_id\": \"CHORISMATE_SYNTHASE_RXN_c\", \"reversibility\": true, \"label_x\": 2700.0, \"label_y\": 45.0, \"gene_reaction_rule\": \"\", \"genes\": [], \"segments\": {\"25\": {\"from_node_id\": \"30\", \"to_node_id\": \"31\", \"b1\": null, \"b2\": null}, \"26\": {\"from_node_id\": \"32\", \"to_node_id\": \"31\", \"b1\": null, \"b2\": null}, \"27\": {\"from_node_id\": \"23\", \"to_node_id\": \"30\", \"b1\": null, \"b2\": null}, \"28\": {\"from_node_id\": \"28\", \"to_node_id\": \"32\", \"b1\": null, \"b2\": null}, \"29\": {\"from_node_id\": \"29\", \"to_node_id\": \"32\", \"b1\": null, \"b2\": null}}, \"metabolites\": [{\"bigg_id\": \"3_ENOLPYRUVYL_SHIKIMATE_5P_c\", \"coefficient\": -1.0}, {\"bigg_id\": \"CHORISMATE_c\", \"coefficient\": 1.0}, {\"bigg_id\": \"pi_c\", \"coefficient\": 1.0}]}, \"5\": {\"name\": \"DAHPSYN_RXN_c\", \"bigg_id\": \"DAHPSYN_RXN_c\", \"reversibility\": true, \"label_x\": 208.0, \"label_y\": 495.0, \"gene_reaction_rule\": \"\", \"genes\": [], \"segments\": {\"30\": {\"from_node_id\": \"37\", \"to_node_id\": \"38\", \"b1\": null, \"b2\": null}, \"31\": {\"from_node_id\": \"39\", \"to_node_id\": \"38\", \"b1\": null, \"b2\": null}, \"32\": {\"from_node_id\": \"33\", \"to_node_id\": \"37\", \"b1\": null, \"b2\": null}, \"33\": {\"from_node_id\": \"2\", \"to_node_id\": \"37\", \"b1\": null, \"b2\": null}, \"34\": {\"from_node_id\": \"34\", \"to_node_id\": \"37\", \"b1\": null, \"b2\": null}, \"35\": {\"from_node_id\": \"35\", \"to_node_id\": \"39\", \"b1\": null, \"b2\": null}, \"36\": {\"from_node_id\": \"36\", \"to_node_id\": \"39\", \"b1\": null, \"b2\": null}}, \"metabolites\": [{\"bigg_id\": \"e4p_c\", \"coefficient\": -1.0}, {\"bigg_id\": \"h2o_c\", \"coefficient\": -1.0}, {\"bigg_id\": \"pep_c\", \"coefficient\": -1.0}, {\"bigg_id\": \"3_DEOXY_D_ARABINO_HEPTULOSONATE_7_P_c\", \"coefficient\": 1.0}, {\"bigg_id\": \"pi_c\", \"coefficient\": 1.0}]}, \"6\": {\"name\": \"3_DEHYDROQUINATE_SYNTHASE_RXN_c\", \"bigg_id\": \"3_DEHYDROQUINATE_SYNTHASE_RXN_c\", \"reversibility\": true, \"label_x\": 696.0, \"label_y\": 495.0, \"gene_reaction_rule\": \"\", \"genes\": [], \"segments\": {\"37\": {\"from_node_id\": \"42\", \"to_node_id\": \"43\", \"b1\": null, \"b2\": null}, \"38\": {\"from_node_id\": \"44\", \"to_node_id\": \"43\", \"b1\": null, \"b2\": null}, \"39\": {\"from_node_id\": \"35\", \"to_node_id\": \"42\", \"b1\": null, \"b2\": null}, \"40\": {\"from_node_id\": \"40\", \"to_node_id\": \"44\", \"b1\": null, \"b2\": null}, \"41\": {\"from_node_id\": \"41\", \"to_node_id\": \"44\", \"b1\": null, \"b2\": null}}, \"metabolites\": [{\"bigg_id\": \"3_DEOXY_D_ARABINO_HEPTULOSONATE_7_P_c\", \"coefficient\": -1.0}, {\"bigg_id\": \"DEHYDROQUINATE_c\", \"coefficient\": 1.0}, {\"bigg_id\": \"pi_c\", \"coefficient\": 1.0}]}}, \"nodes\": {\"0\": {\"node_type\": \"metabolite\", \"x\": 30.0, \"y\": 225.0, \"label_x\": 0.0, \"label_y\": 205.0, \"bigg_id\": \"DEHYDROQUINATE_c\", \"name\": \"DEHYDROQUINATE_c\", \"node_is_primary\": false}, \"1\": {\"node_type\": \"metabolite\", \"x\": 550.0, \"y\": 150.0, \"label_x\": 520.0, \"label_y\": 130.0, \"bigg_id\": \"3_DEHYDRO_SHIKIMATE_c\", \"name\": \"3_DEHYDRO_SHIKIMATE_c\", \"node_is_primary\": false}, \"2\": {\"node_type\": \"metabolite\", \"x\": 550.0, \"y\": 300.0, \"label_x\": 520.0, \"label_y\": 280.0, \"bigg_id\": \"h2o_c\", \"name\": \"h2o_c\", \"node_is_primary\": false}, \"3\": {\"node_type\": \"multimarker\", \"x\": 335.0, \"y\": 225.0}, \"4\": {\"node_type\": \"midmarker\", \"x\": 355.0, \"y\": 225.0}, \"5\": {\"node_type\": \"multimarker\", \"x\": 375.0, \"y\": 225.0}, \"6\": {\"node_type\": \"metabolite\", \"x\": 680.0, \"y\": 150.0, \"label_x\": 650.0, \"label_y\": 130.0, \"bigg_id\": \"SHIKIMATE_c\", \"name\": \"SHIKIMATE_c\", \"node_is_primary\": false}, \"7\": {\"node_type\": \"metabolite\", \"x\": 680.0, \"y\": 300.0, \"label_x\": 650.0, \"label_y\": 280.0, \"bigg_id\": \"nadp_c\", \"name\": \"nadp_c\", \"node_is_primary\": false}, \"8\": {\"node_type\": \"metabolite\", \"x\": 1200.0, \"y\": 112.5, \"label_x\": 1170.0, \"label_y\": 92.5, \"bigg_id\": \"3_DEHYDRO_SHIKIMATE_c\", \"name\": \"3_DEHYDRO_SHIKIMATE_c\", \"node_is_primary\": false}, \"9\": {\"node_type\": \"metabolite\", \"x\": 1200.0, \"y\": 225.0, \"label_x\": 1170.0, \"label_y\": 205.0, \"bigg_id\": \"h_c\", \"name\": \"h_c\", \"node_is_primary\": false}, \"10\": {\"node_type\": \"metabolite\", \"x\": 1200.0, \"y\": 337.5, \"label_x\": 1170.0, \"label_y\": 317.5, \"bigg_id\": \"nadph_c\", \"name\": \"nadph_c\", \"node_is_primary\": false}, \"11\": {\"node_type\": \"multimarker\", \"x\": 985.0, \"y\": 225.0}, \"12\": {\"node_type\": \"midmarker\", \"x\": 1005.0, \"y\": 225.0}, \"13\": {\"node_type\": \"multimarker\", \"x\": 1025.0, \"y\": 225.0}, \"14\": {\"node_type\": \"metabolite\", \"x\": 1330.0, \"y\": 150.0, \"label_x\": 1300.0, \"label_y\": 130.0, \"bigg_id\": \"SHIKIMATE_c\", \"name\": \"SHIKIMATE_c\", \"node_is_primary\": false}, \"15\": {\"node_type\": \"metabolite\", \"x\": 1330.0, \"y\": 300.0, \"label_x\": 1300.0, \"label_y\": 280.0, \"bigg_id\": \"atp_c\", \"name\": \"atp_c\", \"node_is_primary\": false}, \"16\": {\"node_type\": \"metabolite\", \"x\": 1850.0, \"y\": 112.5, \"label_x\": 1820.0, \"label_y\": 92.5, \"bigg_id\": \"SHIKIMATE_5P_c\", \"name\": \"SHIKIMATE_5P_c\", \"node_is_primary\": false}, \"17\": {\"node_type\": \"metabolite\", \"x\": 1850.0, \"y\": 225.0, \"label_x\": 1820.0, \"label_y\": 205.0, \"bigg_id\": \"adp_c\", \"name\": \"adp_c\", \"node_is_primary\": false}, \"18\": {\"node_type\": \"metabolite\", \"x\": 1850.0, \"y\": 337.5, \"label_x\": 1820.0, \"label_y\": 317.5, \"bigg_id\": \"h_c\", \"name\": \"h_c\", \"node_is_primary\": false}, \"19\": {\"node_type\": \"multimarker\", \"x\": 1635.0, \"y\": 225.0}, \"20\": {\"node_type\": \"midmarker\", \"x\": 1655.0, \"y\": 225.0}, \"21\": {\"node_type\": \"multimarker\", \"x\": 1675.0, \"y\": 225.0}, \"22\": {\"node_type\": \"metabolite\", \"x\": 1980.0, \"y\": 300.0, \"label_x\": 1950.0, \"label_y\": 280.0, \"bigg_id\": \"pep_c\", \"name\": \"pep_c\", \"node_is_primary\": false}, \"23\": {\"node_type\": \"metabolite\", \"x\": 2500.0, \"y\": 150.0, \"label_x\": 2470.0, \"label_y\": 130.0, \"bigg_id\": \"3_ENOLPYRUVYL_SHIKIMATE_5P_c\", \"name\": \"3_ENOLPYRUVYL_SHIKIMATE_5P_c\", \"node_is_primary\": false}, \"24\": {\"node_type\": \"metabolite\", \"x\": 2500.0, \"y\": 300.0, \"label_x\": 2470.0, \"label_y\": 280.0, \"bigg_id\": \"pi_c\", \"name\": \"pi_c\", \"node_is_primary\": false}, \"25\": {\"node_type\": \"multimarker\", \"x\": 2285.0, \"y\": 225.0}, \"26\": {\"node_type\": \"midmarker\", \"x\": 2305.0, \"y\": 225.0}, \"27\": {\"node_type\": \"multimarker\", \"x\": 2325.0, \"y\": 225.0}, \"28\": {\"node_type\": \"metabolite\", \"x\": 3150.0, \"y\": 150.0, \"label_x\": 3120.0, \"label_y\": 130.0, \"bigg_id\": \"CHORISMATE_c\", \"name\": \"CHORISMATE_c\", \"node_is_primary\": false}, \"29\": {\"node_type\": \"metabolite\", \"x\": 3150.0, \"y\": 300.0, \"label_x\": 3120.0, \"label_y\": 280.0, \"bigg_id\": \"pi_c\", \"name\": \"pi_c\", \"node_is_primary\": false}, \"30\": {\"node_type\": \"multimarker\", \"x\": 2935.0, \"y\": 225.0}, \"31\": {\"node_type\": \"midmarker\", \"x\": 2955.0, \"y\": 225.0}, \"32\": {\"node_type\": \"multimarker\", \"x\": 2975.0, \"y\": 225.0}, \"33\": {\"node_type\": \"metabolite\", \"x\": 30.0, \"y\": 562.5, \"label_x\": 0.0, \"label_y\": 542.5, \"bigg_id\": \"e4p_c\", \"name\": \"e4p_c\", \"node_is_primary\": false}, \"34\": {\"node_type\": \"metabolite\", \"x\": 30.0, \"y\": 787.5, \"label_x\": 0.0, \"label_y\": 767.5, \"bigg_id\": \"pep_c\", \"name\": \"pep_c\", \"node_is_primary\": false}, \"35\": {\"node_type\": \"metabolite\", \"x\": 550.0, \"y\": 600.0, \"label_x\": 520.0, \"label_y\": 580.0, \"bigg_id\": \"3_DEOXY_D_ARABINO_HEPTULOSONATE_7_P_c\", \"name\": \"3_DEOXY_D_ARABINO_HEPTULOSONATE_7_P_c\", \"node_is_primary\": false}, \"36\": {\"node_type\": \"metabolite\", \"x\": 550.0, \"y\": 750.0, \"label_x\": 520.0, \"label_y\": 730.0, \"bigg_id\": \"pi_c\", \"name\": \"pi_c\", \"node_is_primary\": false}, \"37\": {\"node_type\": \"multimarker\", \"x\": 335.0, \"y\": 675.0}, \"38\": {\"node_type\": \"midmarker\", \"x\": 355.0, \"y\": 675.0}, \"39\": {\"node_type\": \"multimarker\", \"x\": 375.0, \"y\": 675.0}, \"40\": {\"node_type\": \"metabolite\", \"x\": 1200.0, \"y\": 600.0, \"label_x\": 1170.0, \"label_y\": 580.0, \"bigg_id\": \"DEHYDROQUINATE_c\", \"name\": \"DEHYDROQUINATE_c\", \"node_is_primary\": false}, \"41\": {\"node_type\": \"metabolite\", \"x\": 1200.0, \"y\": 750.0, \"label_x\": 1170.0, \"label_y\": 730.0, \"bigg_id\": \"pi_c\", \"name\": \"pi_c\", \"node_is_primary\": false}, \"42\": {\"node_type\": \"multimarker\", \"x\": 985.0, \"y\": 675.0}, \"43\": {\"node_type\": \"midmarker\", \"x\": 1005.0, \"y\": 675.0}, \"44\": {\"node_type\": \"multimarker\", \"x\": 1025.0, \"y\": 675.0}}, \"text_labels\": {}, \"canvas\": {\"x\": 0, \"y\": 0, \"width\": 3250, \"height\": 900}}]",
       "_loaded_model_json": null,
       "allow_building_duplicate_reactions": false,
       "and_method_in_gene_reaction_rule": "mean",
       "canvas_size_and_loc": null,
       "cofactors": [
        "atp",
        "adp",
        "nad",
        "nadh",
        "nadp",
        "nadph",
        "gtp",
        "gdp",
        "h",
        "coa",
        "ump",
        "h2o",
        "ppi"
       ],
       "disabled_buttons": [
        "Clear reaction data",
        "Clear gene data",
        "Clear metabolite data"
       ],
       "embedded_css": null,
       "enable_editing": true,
       "enable_keys": false,
       "enable_keys_with_tooltip": true,
       "enable_search": true,
       "enable_tooltips": false,
       "full_screen_button": {
        "enable_editing": true,
        "enable_keys": true,
        "enable_tooltips": [
         "label"
        ],
        "menu": "all",
        "scroll_behavior": "pan"
       },
       "gene_data": null,
       "gene_font_size": 18,
       "height": 500,
       "hide_all_labels": false,
       "hide_secondary_metabolites": false,
       "highlight_missing": false,
       "identifiers_on_map": "bigg_id",
       "layout": "IPY_MODEL_ba0cd498da5c4090a90f145c261cab7a",
       "marker_radius": 5,
       "menu": "all",
       "metabolite_compare_style": "log2_fold",
       "metabolite_data": null,
       "metabolite_no_data_color": "#ffffff",
       "metabolite_no_data_size": 10,
       "metabolite_scale": [
        {
         "color": "#fffaf0",
         "size": 20,
         "type": "min"
        },
        {
         "color": "#f1c470",
         "size": 30,
         "type": "median"
        },
        {
         "color": "#800000",
         "size": 40,
         "type": "max"
        }
       ],
       "metabolite_scale_preset": "WhYlRd",
       "metabolite_styles": [
        "color",
        "size",
        "text"
       ],
       "never_ask_before_quit": true,
       "primary_metabolite_radius": 20,
       "reaction_compare_style": "log2_fold",
       "reaction_data": null,
       "reaction_no_data_color": "#dcdcdc",
       "reaction_no_data_size": 8,
       "reaction_scale": {},
       "reaction_scale_preset": null,
       "reaction_styles": [
        "color",
        "text"
       ],
       "scroll_behavior": "none",
       "secondary_metabolite_radius": 10,
       "semantic_zoom": null,
       "show_gene_reaction_rules": false,
       "starting_reaction": null,
       "use_3d_transform": false,
       "zoom_to_element": null
      }
     },
     "a0ecca9fe7ef4482b45746c93431c632": {
      "model_module": "@jupyter-widgets/base",
      "model_module_version": "1.2.0",
      "model_name": "LayoutModel",
      "state": {}
     },
     "ba0cd498da5c4090a90f145c261cab7a": {
      "model_module": "@jupyter-widgets/base",
      "model_module_version": "1.2.0",
      "model_name": "LayoutModel",
      "state": {}
     }
    },
    "version_major": 2,
    "version_minor": 0
   }
  }
 },
 "nbformat": 4,
 "nbformat_minor": 5
}
