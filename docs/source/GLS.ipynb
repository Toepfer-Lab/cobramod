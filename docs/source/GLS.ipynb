{
 "cells": [
  {
   "cell_type": "markdown",
   "metadata": {},
   "source": [
    "# Test case: Glucosinolates\n",
    "\n",
    "For this example, we will use the model \"PlantCoreMetabolism_v2_0_0.xml\"\n",
    "derived from the article *Flux balance analysis of metabolism during growth by\n",
    "osmotic cell expansion and its application to tomato fruits*. The model got its\n",
    "metabolites' protonation states removed.\n",
    "\n",
    "-----\n",
    "**GOAL:** We will calculate the metabolic cost for synthesizing three specialized\n",
    "compounds called *glucosinolates*, which give the typical taste for plants from\n",
    "the Brassicacea family.\n",
    "\n",
    "The glucosinolates to insert are:  \n",
    "\n",
    "| Trivial name | Compound name | Biocyc identifier |\n",
    "|-|-|-|\n",
    "| 3-methylsulfinylpropyl | glucoiberin | 3-METHYLSULFINYLPROPYL-GLUCOSINOLATE |\n",
    "| 4-methylthiobutyl | glucoerucin | CPDQT-281 |\n",
    "| 4-methylsulfinylbutyl | glucoraphanin | CPDQT-280 |\n",
    "\n",
    "Glucoerucin and glucoraphanin are derived from dihomomethionine, while glucoiberin\n",
    "is obtained from homomethionine\n",
    "\n",
    "------\n",
    "\n",
    "First, we will load the function read_sbml_model from COBRApy and the native\n",
    "filesystem path module from python. Then, we will load two functions from\n",
    "CobraMod, add_pathway and add_reactions"
   ]
  },
  {
   "cell_type": "code",
   "execution_count": 1,
   "metadata": {
    "scrolled": true
   },
   "outputs": [],
   "source": [
    "from pathlib import Path\n",
    "\n",
    "from cobra.io import read_sbml_model\n",
    "\n",
    "from cobramod import add_pathway, add_reactions, __version__"
   ]
  },
  {
   "cell_type": "code",
   "execution_count": 2,
   "metadata": {
    "scrolled": false
   },
   "outputs": [
    {
     "name": "stdout",
     "output_type": "stream",
     "text": [
      "0.4.2\n"
     ]
    }
   ],
   "source": [
    "print(__version__)"
   ]
  },
  {
   "cell_type": "markdown",
   "metadata": {},
   "source": [
    "We will load the model and save it as `main_model`. However, to avoid overwriting\n",
    "the main model, we will use a copy, which is going to be used throughout the\n",
    "whole file. Additionally, we will define the path for the data and the metabolites\n",
    "that we want to ignore when CobraMod performs the non-zero flux test"
   ]
  },
  {
   "cell_type": "code",
   "execution_count": 3,
   "metadata": {},
   "outputs": [],
   "source": [
    "# this object defines the directory for the data\n",
    "dir_data = Path.cwd().joinpath(\"data\")\n",
    "\n",
    "main_model = read_sbml_model(\n",
    "    str(dir_data.joinpath(\"PlantCoreMetabolism_v2_0_0_deprotonated.sbml\"))\n",
    ")\n",
    "\n",
    "# These metabolites will not be used in the non-zero flux test\n",
    "ignore_list = [\n",
    "    \"WATER_c\", \"PROTON_c\", \"OXYGEN_MOLECULE_c\", \"UDP_c\",\n",
    "    \"Pi_p\", \"ADP_p\"\n",
    "]"
   ]
  },
  {
   "cell_type": "markdown",
   "metadata": {},
   "source": [
    "The next step is to define our enviroment for our model. Since we are working\n",
    "with a generic model of a plant, it is wise to constrain reactions that would\n",
    "prevent an autotrophic enviroment. In our case we have three boundary reactions to modify:  \n",
    "\n",
    "`Sucrose_tx`, `GLC_tx`: Responsible for sugar intake  \n",
    "`Photon_tx`: Amount of light absorbed"
   ]
  },
  {
   "cell_type": "code",
   "execution_count": 4,
   "metadata": {
    "scrolled": false
   },
   "outputs": [
    {
     "data": {
      "text/html": [
       "<div>\n",
       "<style scoped>\n",
       "    .dataframe tbody tr th:only-of-type {\n",
       "        vertical-align: middle;\n",
       "    }\n",
       "\n",
       "    .dataframe tbody tr th {\n",
       "        vertical-align: top;\n",
       "    }\n",
       "\n",
       "    .dataframe thead tr th {\n",
       "        text-align: left;\n",
       "    }\n",
       "</style>\n",
       "<table border=\"1\" class=\"dataframe\">\n",
       "  <thead>\n",
       "    <tr>\n",
       "      <th></th>\n",
       "      <th colspan=\"2\" halign=\"left\">IN_FLUXES</th>\n",
       "      <th colspan=\"2\" halign=\"left\">OUT_FLUXES</th>\n",
       "      <th colspan=\"2\" halign=\"left\">OBJECTIVES</th>\n",
       "    </tr>\n",
       "    <tr>\n",
       "      <th></th>\n",
       "      <th>ID</th>\n",
       "      <th>FLUX</th>\n",
       "      <th>ID</th>\n",
       "      <th>FLUX</th>\n",
       "      <th>ID</th>\n",
       "      <th>FLUX</th>\n",
       "    </tr>\n",
       "  </thead>\n",
       "  <tbody>\n",
       "    <tr>\n",
       "      <th>0</th>\n",
       "      <td>Photon_e</td>\n",
       "      <td>250.000000</td>\n",
       "      <td>OXYGEN_MOLECULE_e</td>\n",
       "      <td>28.430694</td>\n",
       "      <td>AraCore_Biomass_tx</td>\n",
       "      <td>0.310198</td>\n",
       "    </tr>\n",
       "    <tr>\n",
       "      <th>1</th>\n",
       "      <td>CARBON_DIOXIDE_e</td>\n",
       "      <td>26.877550</td>\n",
       "      <td>NaN</td>\n",
       "      <td>NaN</td>\n",
       "      <td>NaN</td>\n",
       "      <td>NaN</td>\n",
       "    </tr>\n",
       "    <tr>\n",
       "      <th>2</th>\n",
       "      <td>WATER_e</td>\n",
       "      <td>20.694835</td>\n",
       "      <td>NaN</td>\n",
       "      <td>NaN</td>\n",
       "      <td>NaN</td>\n",
       "      <td>NaN</td>\n",
       "    </tr>\n",
       "  </tbody>\n",
       "</table>\n",
       "</div>"
      ],
      "text/plain": [
       "<cobra.core.summary.model_summary.ModelSummary at 0x7fd561bf5190>"
      ]
     },
     "execution_count": 4,
     "metadata": {},
     "output_type": "execute_result"
    }
   ],
   "source": [
    "model = main_model.copy()\n",
    "\n",
    "# Defining objective function\n",
    "model.objective = \"AraCore_Biomass_tx\"\n",
    "\n",
    "# Constraining enviroment (autotroph)\n",
    "model.exchanges.Sucrose_tx.bounds = (0,0)\n",
    "model.exchanges.GLC_tx.bounds = (0,0)\n",
    "model.exchanges.Photon_tx.bounds = (0,250)\n",
    "\n",
    "# Saving original solution\n",
    "solution_original = model.optimize()\n",
    "model.summary()"
   ]
  },
  {
   "cell_type": "markdown",
   "metadata": {
    "scrolled": true
   },
   "source": [
    "## Precursors\n",
    "\n",
    "To include some glucosinolates, we not only need to include their pathways, but\n",
    "also to include the synthesis of some metabolites that are used for their\n",
    "biosynthesis. In this scenario, we need to add the following metabolites.\n",
    "\n",
    "- Glutathione\n",
    "- 3'-phosphoadenylyl-sulfate\n",
    "- Adenosine 3',5'-bisphosphate\n",
    "\n",
    "Additionally, we need to add homomethionine and dihomomethionine in order to\n",
    "synthesize the glucosinolates. If these metabolites are not included,\n",
    "CobraMod will create boundary reactions (Sink reactions) for them.\n",
    "If this happens, then some metabolic costs will be neglected.\n",
    "\n",
    "There are multiple way to extend our model with these precursors. To begin with,\n",
    "we will use the function `add_reactions` and pass the path of a file with custom\n",
    "transporter reaction that we need."
   ]
  },
  {
   "cell_type": "code",
   "execution_count": 5,
   "metadata": {},
   "outputs": [
    {
     "name": "stdout",
     "output_type": "stream",
     "text": [
      "cat: reactions.txt: No such file or directory\r\n"
     ]
    },
    {
     "name": "stderr",
     "output_type": "stream",
     "text": [
      "cobramod/utils.py:53 \u001b[1;31mUserWarning\u001b[0m: Reaction \"NADPH_FERRIHEMOPROTEIN_REDUCTASE_RXN_rc\" unbalanced. Following atoms are affected. Please verify:\n",
      "{'H': -2.0}\n"
     ]
    }
   ],
   "source": [
    "!cat reactions.txt\n",
    "\n",
    "add_reactions(\n",
    "    model=model,\n",
    "    # Using a Path object\n",
    "    obj=dir_data.joinpath(\"reactions_GLS.txt\"),\n",
    "    database=\"ARA\",\n",
    "    directory=dir_data,\n",
    ")"
   ]
  },
  {
   "cell_type": "markdown",
   "metadata": {},
   "source": [
    "### Glutathione\n",
    "\n",
    "The glucosinolate-precursor is always converted to a Glutathione-S-conjugate,\n",
    "which can be later hydrolyzed to continue with the synthesis of the glucosinolate\n",
    "Both reactions for this [pathway\n",
    "](https://biocyc.org/META/new-image?object=GLUTATHIONESYN-PWY) are located in\n",
    "the chloroplast. We will use the function `add_pathway` to include the pathway."
   ]
  },
  {
   "cell_type": "code",
   "execution_count": 6,
   "metadata": {},
   "outputs": [
    {
     "name": "stdout",
     "output_type": "stream",
     "text": [
      "Changes:\n",
      "Reactions \t2\n",
      "Metabolites\t1\n",
      "Exchange \t0\n",
      "Demand\t\t0\n",
      "Sinks\t\t0\n",
      "Genes\t\t2\n",
      "Groups\t\t1\n",
      "\n"
     ]
    },
    {
     "data": {
      "text/html": [
       "<strong><em>Optimal</em> solution with objective value 0.310</strong><br><div>\n",
       "<style scoped>\n",
       "    .dataframe tbody tr th:only-of-type {\n",
       "        vertical-align: middle;\n",
       "    }\n",
       "\n",
       "    .dataframe tbody tr th {\n",
       "        vertical-align: top;\n",
       "    }\n",
       "\n",
       "    .dataframe thead th {\n",
       "        text-align: right;\n",
       "    }\n",
       "</style>\n",
       "<table border=\"1\" class=\"dataframe\">\n",
       "  <thead>\n",
       "    <tr style=\"text-align: right;\">\n",
       "      <th></th>\n",
       "      <th>fluxes</th>\n",
       "      <th>reduced_costs</th>\n",
       "    </tr>\n",
       "  </thead>\n",
       "  <tbody>\n",
       "    <tr>\n",
       "      <th>PRO_PROTON_vc</th>\n",
       "      <td>0.000000e+00</td>\n",
       "      <td>-6.938894e-18</td>\n",
       "    </tr>\n",
       "    <tr>\n",
       "      <th>Ca_tx</th>\n",
       "      <td>2.729743e-01</td>\n",
       "      <td>0.000000e+00</td>\n",
       "    </tr>\n",
       "    <tr>\n",
       "      <th>H2O_xc</th>\n",
       "      <td>7.382353e-16</td>\n",
       "      <td>-0.000000e+00</td>\n",
       "    </tr>\n",
       "    <tr>\n",
       "      <th>sCIT_biomass</th>\n",
       "      <td>-8.180567e-02</td>\n",
       "      <td>1.387779e-17</td>\n",
       "    </tr>\n",
       "    <tr>\n",
       "      <th>ACETYLGLUTKIN_RXN_p</th>\n",
       "      <td>7.714903e-02</td>\n",
       "      <td>-1.474515e-17</td>\n",
       "    </tr>\n",
       "    <tr>\n",
       "      <th>...</th>\n",
       "      <td>...</td>\n",
       "      <td>...</td>\n",
       "    </tr>\n",
       "    <tr>\n",
       "      <th>PAPS_pc</th>\n",
       "      <td>0.000000e+00</td>\n",
       "      <td>0.000000e+00</td>\n",
       "    </tr>\n",
       "    <tr>\n",
       "      <th>HOMOMETHIONINE_pc</th>\n",
       "      <td>0.000000e+00</td>\n",
       "      <td>0.000000e+00</td>\n",
       "    </tr>\n",
       "    <tr>\n",
       "      <th>CPDQT_340_pc</th>\n",
       "      <td>0.000000e+00</td>\n",
       "      <td>0.000000e+00</td>\n",
       "    </tr>\n",
       "    <tr>\n",
       "      <th>GLUTCYSLIG_RXN_p</th>\n",
       "      <td>0.000000e+00</td>\n",
       "      <td>-2.350888e-01</td>\n",
       "    </tr>\n",
       "    <tr>\n",
       "      <th>GLUTATHIONE_SYN_RXN_p</th>\n",
       "      <td>0.000000e+00</td>\n",
       "      <td>0.000000e+00</td>\n",
       "    </tr>\n",
       "  </tbody>\n",
       "</table>\n",
       "<p>900 rows × 2 columns</p>\n",
       "</div>"
      ],
      "text/plain": [
       "<Solution 0.310 at 0x7fd561dd8a50>"
      ]
     },
     "execution_count": 6,
     "metadata": {},
     "output_type": "execute_result"
    }
   ],
   "source": [
    "add_pathway(\n",
    "    model=model,\n",
    "    # Using the identifier\n",
    "    pathway=\"GLUTATHIONESYN-PWY\",\n",
    "    # Our model defines 'p' as chloroplast\n",
    "    compartment=\"p\",\n",
    "    database=\"ARA\",\n",
    "    directory=dir_data,\n",
    "    ignore_list=ignore_list,\n",
    ")\n",
    "# We can see at the end of the table, the new reactions\n",
    "model.optimize()"
   ]
  },
  {
   "cell_type": "markdown",
   "metadata": {},
   "source": [
    "We can call the method `visualize` to inspect the reactions for\n",
    "this pathway."
   ]
  },
  {
   "cell_type": "code",
   "execution_count": 7,
   "metadata": {},
   "outputs": [
    {
     "data": {
      "application/vnd.jupyter.widget-view+json": {
       "model_id": "555ce7bf7d4048a792b5fb4482b60d5d",
       "version_major": 2,
       "version_minor": 0
      },
      "text/plain": [
       "Builder(reaction_styles=['text'])"
      ]
     },
     "metadata": {},
     "output_type": "display_data"
    }
   ],
   "source": [
    "model.groups.get_by_id(\"GLUTATHIONESYN-PWY\").visualize()"
   ]
  },
  {
   "cell_type": "markdown",
   "metadata": {},
   "source": [
    "We can see that CobraMod was able to insert these new reactions into\n",
    "our model. With help of Escher we can identify which metabolites are\n",
    "used in the reactions.\n",
    "\n",
    "### 3'-phosphoadenylyl-sulfate\n",
    "\n",
    "In Biocyc, its identifier is PAPS. This compound is used by the enzyme\n",
    "desulfoglucosinolate sulfotransferase to transform the precursors into\n",
    "glucosinolates"
   ]
  },
  {
   "cell_type": "code",
   "execution_count": 8,
   "metadata": {
    "scrolled": false
   },
   "outputs": [
    {
     "name": "stdout",
     "output_type": "stream",
     "text": [
      "Changes:\n",
      "Reactions \t1\n",
      "Metabolites\t0\n",
      "Exchange \t0\n",
      "Demand\t\t0\n",
      "Sinks\t\t0\n",
      "Genes\t\t4\n",
      "Groups\t\t1\n",
      "\n"
     ]
    },
    {
     "data": {
      "text/html": [
       "<strong><em>Optimal</em> solution with objective value 0.310</strong><br><div>\n",
       "<style scoped>\n",
       "    .dataframe tbody tr th:only-of-type {\n",
       "        vertical-align: middle;\n",
       "    }\n",
       "\n",
       "    .dataframe tbody tr th {\n",
       "        vertical-align: top;\n",
       "    }\n",
       "\n",
       "    .dataframe thead th {\n",
       "        text-align: right;\n",
       "    }\n",
       "</style>\n",
       "<table border=\"1\" class=\"dataframe\">\n",
       "  <thead>\n",
       "    <tr style=\"text-align: right;\">\n",
       "      <th></th>\n",
       "      <th>fluxes</th>\n",
       "      <th>reduced_costs</th>\n",
       "    </tr>\n",
       "  </thead>\n",
       "  <tbody>\n",
       "    <tr>\n",
       "      <th>PRO_PROTON_vc</th>\n",
       "      <td>0.000000</td>\n",
       "      <td>-6.938894e-18</td>\n",
       "    </tr>\n",
       "    <tr>\n",
       "      <th>Ca_tx</th>\n",
       "      <td>0.272974</td>\n",
       "      <td>0.000000e+00</td>\n",
       "    </tr>\n",
       "    <tr>\n",
       "      <th>H2O_xc</th>\n",
       "      <td>0.000000</td>\n",
       "      <td>-0.000000e+00</td>\n",
       "    </tr>\n",
       "    <tr>\n",
       "      <th>sCIT_biomass</th>\n",
       "      <td>-0.081806</td>\n",
       "      <td>-0.000000e+00</td>\n",
       "    </tr>\n",
       "    <tr>\n",
       "      <th>ACETYLGLUTKIN_RXN_p</th>\n",
       "      <td>0.077149</td>\n",
       "      <td>3.469447e-18</td>\n",
       "    </tr>\n",
       "    <tr>\n",
       "      <th>...</th>\n",
       "      <td>...</td>\n",
       "      <td>...</td>\n",
       "    </tr>\n",
       "    <tr>\n",
       "      <th>HOMOMETHIONINE_pc</th>\n",
       "      <td>0.000000</td>\n",
       "      <td>0.000000e+00</td>\n",
       "    </tr>\n",
       "    <tr>\n",
       "      <th>CPDQT_340_pc</th>\n",
       "      <td>0.000000</td>\n",
       "      <td>0.000000e+00</td>\n",
       "    </tr>\n",
       "    <tr>\n",
       "      <th>GLUTCYSLIG_RXN_p</th>\n",
       "      <td>0.000000</td>\n",
       "      <td>-2.350888e-01</td>\n",
       "    </tr>\n",
       "    <tr>\n",
       "      <th>GLUTATHIONE_SYN_RXN_p</th>\n",
       "      <td>0.000000</td>\n",
       "      <td>0.000000e+00</td>\n",
       "    </tr>\n",
       "    <tr>\n",
       "      <th>ADENYLYLSULFKIN_RXN_p</th>\n",
       "      <td>0.000000</td>\n",
       "      <td>3.469447e-17</td>\n",
       "    </tr>\n",
       "  </tbody>\n",
       "</table>\n",
       "<p>901 rows × 2 columns</p>\n",
       "</div>"
      ],
      "text/plain": [
       "<Solution 0.310 at 0x7fd56101f410>"
      ]
     },
     "execution_count": 8,
     "metadata": {},
     "output_type": "execute_result"
    }
   ],
   "source": [
    "add_pathway(\n",
    "    model=model,\n",
    "    pathway=\"PWY-5340\",\n",
    "    compartment=\"p\",\n",
    "    database=\"ARA\",\n",
    "    directory=dir_data,\n",
    "    ignore_list=ignore_list,\n",
    ")\n",
    "model.optimize()"
   ]
  },
  {
   "cell_type": "markdown",
   "metadata": {},
   "source": [
    "### Adenosine 3',5'-bisphosphate\n",
    "\n",
    "This compound is a product from the sulfotransferase. Currently, our model\n",
    "does not contain reactions that can reutilize it. Thus, we will include a\n",
    "reaction that can hydrolyze it."
   ]
  },
  {
   "cell_type": "code",
   "execution_count": 9,
   "metadata": {},
   "outputs": [],
   "source": [
    "add_reactions(\n",
    "    model=model,\n",
    "    # This function can use single strings\n",
    "    obj=\"325-BISPHOSPHATE-NUCLEOTIDASE-RXN, c\",\n",
    "    database=\"ARA\",\n",
    "    directory=dir_data,\n",
    ")"
   ]
  },
  {
   "cell_type": "markdown",
   "metadata": {},
   "source": [
    "### Homomethionine\n",
    "\n",
    "The first part of this pathway, i.e. transmination of methionine,\n",
    "occurs in the cytosol. The rest occurs in the chloroplast including its elongation\n",
    "for the synthesis of other glucosinolate precursors such as dihomomethionine.\n",
    "\n",
    "To simulate the different compartments, we will add the first reaction to the cytosol.\n",
    "Then, we need to create a transport reaction to continue with the flow of the pathway:"
   ]
  },
  {
   "cell_type": "code",
   "execution_count": 10,
   "metadata": {},
   "outputs": [
    {
     "name": "stdout",
     "output_type": "stream",
     "text": [
      "Changes:\n",
      "Reactions \t6\n",
      "Metabolites\t5\n",
      "Exchange \t0\n",
      "Demand\t\t0\n",
      "Sinks\t\t0\n",
      "Genes\t\t4\n",
      "Groups\t\t1\n",
      "\n"
     ]
    },
    {
     "data": {
      "text/html": [
       "<strong><em>Optimal</em> solution with objective value 0.310</strong><br><div>\n",
       "<style scoped>\n",
       "    .dataframe tbody tr th:only-of-type {\n",
       "        vertical-align: middle;\n",
       "    }\n",
       "\n",
       "    .dataframe tbody tr th {\n",
       "        vertical-align: top;\n",
       "    }\n",
       "\n",
       "    .dataframe thead th {\n",
       "        text-align: right;\n",
       "    }\n",
       "</style>\n",
       "<table border=\"1\" class=\"dataframe\">\n",
       "  <thead>\n",
       "    <tr style=\"text-align: right;\">\n",
       "      <th></th>\n",
       "      <th>fluxes</th>\n",
       "      <th>reduced_costs</th>\n",
       "    </tr>\n",
       "  </thead>\n",
       "  <tbody>\n",
       "    <tr>\n",
       "      <th>PRO_PROTON_vc</th>\n",
       "      <td>0.000000e+00</td>\n",
       "      <td>-6.938894e-18</td>\n",
       "    </tr>\n",
       "    <tr>\n",
       "      <th>Ca_tx</th>\n",
       "      <td>2.729743e-01</td>\n",
       "      <td>0.000000e+00</td>\n",
       "    </tr>\n",
       "    <tr>\n",
       "      <th>H2O_xc</th>\n",
       "      <td>9.289710e-16</td>\n",
       "      <td>-0.000000e+00</td>\n",
       "    </tr>\n",
       "    <tr>\n",
       "      <th>sCIT_biomass</th>\n",
       "      <td>-8.180567e-02</td>\n",
       "      <td>-0.000000e+00</td>\n",
       "    </tr>\n",
       "    <tr>\n",
       "      <th>ACETYLGLUTKIN_RXN_p</th>\n",
       "      <td>7.714903e-02</td>\n",
       "      <td>-6.071532e-18</td>\n",
       "    </tr>\n",
       "    <tr>\n",
       "      <th>...</th>\n",
       "      <td>...</td>\n",
       "      <td>...</td>\n",
       "    </tr>\n",
       "    <tr>\n",
       "      <th>RXN_18182_p</th>\n",
       "      <td>0.000000e+00</td>\n",
       "      <td>-0.000000e+00</td>\n",
       "    </tr>\n",
       "    <tr>\n",
       "      <th>RXN_18183_p</th>\n",
       "      <td>0.000000e+00</td>\n",
       "      <td>-0.000000e+00</td>\n",
       "    </tr>\n",
       "    <tr>\n",
       "      <th>RXN_2204_p</th>\n",
       "      <td>0.000000e+00</td>\n",
       "      <td>0.000000e+00</td>\n",
       "    </tr>\n",
       "    <tr>\n",
       "      <th>RXN_18198_p</th>\n",
       "      <td>0.000000e+00</td>\n",
       "      <td>0.000000e+00</td>\n",
       "    </tr>\n",
       "    <tr>\n",
       "      <th>RXN_2205_p</th>\n",
       "      <td>0.000000e+00</td>\n",
       "      <td>1.387779e-17</td>\n",
       "    </tr>\n",
       "  </tbody>\n",
       "</table>\n",
       "<p>910 rows × 2 columns</p>\n",
       "</div>"
      ],
      "text/plain": [
       "<Solution 0.310 at 0x7fd561064e90>"
      ]
     },
     "execution_count": 10,
     "metadata": {},
     "output_type": "execute_result"
    }
   ],
   "source": [
    "add_reactions(\n",
    "    model=model,\n",
    "    obj=[\n",
    "        # First reaction of the pathway\n",
    "        \"R15-RXN, c\",\n",
    "        # This is the transport to chloroplast\n",
    "        \"CPD_479_cp, CPD_479_cp| CPD_479_c <-> CPD_479_p\"\n",
    "    ],\n",
    "    database=\"ARA\",\n",
    "    directory=dir_data,\n",
    "    # We have to use non-generic metabolites\n",
    "    replacement={\n",
    "        \"Amino-Acids-20\": \"GLT\",\n",
    "        \"2-Oxo-carboxylates\": \"2-KETOGLUTARATE\",\n",
    "    }\n",
    ")\n",
    "\n",
    "# Continue with the rest of the pathway\n",
    "add_pathway(\n",
    "    model=model,\n",
    "    pathway=\"PWY-1186\",\n",
    "    # The pathway is found in the chloroplast\n",
    "    compartment=\"p\",\n",
    "    database=\"ARA\",\n",
    "    directory=dir_data,\n",
    "    ignore_list=ignore_list,\n",
    "    replacement={\n",
    "        \"Amino-Acids-20\":\"GLT\",\n",
    "        \"2-Oxo-carboxylates\":\"2-KETOGLUTARATE\",\n",
    "    },\n",
    "    # This reaction is added previously but in the cytosol\n",
    "    avoid_list=[\"R15-RXN\"]\n",
    ")\n",
    "\n",
    "model.optimize()"
   ]
  },
  {
   "cell_type": "code",
   "execution_count": 11,
   "metadata": {
    "scrolled": false
   },
   "outputs": [
    {
     "data": {
      "application/vnd.jupyter.widget-view+json": {
       "model_id": "fe5e36c31e184df0b946bf0a487a48b9",
       "version_major": 2,
       "version_minor": 0
      },
      "text/plain": [
       "Builder(reaction_styles=['text'])"
      ]
     },
     "metadata": {},
     "output_type": "display_data"
    }
   ],
   "source": [
    "model.groups.get_by_id(\"PWY-1186\").visualize()"
   ]
  },
  {
   "cell_type": "markdown",
   "metadata": {},
   "source": [
    "### Dihomomethionine\n",
    "\n",
    "Dihomomethionine is synthesized from the [elongantion chain of homomethionine\n",
    "](https://metacyc.org/META/NEW-IMAGE?type=PATHWAY&object=PWYQT-4450&detail-level=2).\n",
    "This pathway is very long and for now, we are only interested in dihomomethionine.\n",
    "For this reason, we will manually include only the reaction that we are interested,\n",
    "which are the first 6 reactions."
   ]
  },
  {
   "cell_type": "code",
   "execution_count": 12,
   "metadata": {
    "scrolled": false
   },
   "outputs": [
    {
     "name": "stdout",
     "output_type": "stream",
     "text": [
      "Changes:\n",
      "Reactions \t6\n",
      "Metabolites\t5\n",
      "Exchange \t0\n",
      "Demand\t\t0\n",
      "Sinks\t\t0\n",
      "Genes\t\t0\n",
      "Groups\t\t1\n",
      "\n"
     ]
    }
   ],
   "source": [
    "add_pathway(\n",
    "    model=model,\n",
    "    # We can pass a list with reaction identifiers as well\n",
    "    pathway=[\n",
    "        \"RXNQT-4163\", \"RXN-18184\", \"RXN-18185\", \"RXN-18208\", \"RXN-18209\", \"RXNQT-4345\"\n",
    "    ],\n",
    "    # We can define a custom name for the pathway\n",
    "    group=\"PWYQT-4450\",\n",
    "    compartment=\"p\",\n",
    "    database=\"ARA\",\n",
    "    directory=dir_data,\n",
    "    ignore_list=ignore_list,\n",
    "    replacement={\n",
    "        \"Amino-Acids-20\":\"GLT\",\n",
    "        \"2-Oxo-carboxylates\":\"2-KETOGLUTARATE\",\n",
    "    },\n",
    ")"
   ]
  },
  {
   "cell_type": "markdown",
   "metadata": {},
   "source": [
    "We can even show our pathway vertically"
   ]
  },
  {
   "cell_type": "code",
   "execution_count": 13,
   "metadata": {},
   "outputs": [
    {
     "data": {
      "application/vnd.jupyter.widget-view+json": {
       "model_id": "5d55bf707c8f4ed484382efa26591a1b",
       "version_major": 2,
       "version_minor": 0
      },
      "text/plain": [
       "Builder(reaction_styles=['text'])"
      ]
     },
     "metadata": {},
     "output_type": "display_data"
    }
   ],
   "source": [
    "model.groups.get_by_id(\"PWYQT-4450\").visualize(vertical=True)"
   ]
  },
  {
   "cell_type": "markdown",
   "metadata": {},
   "source": [
    "## Synthesis from Homomethionine\n",
    "\n",
    "The first steps for the synthesis of [glucoiberin\n",
    "](https://biocyc.org/META/NEW-IMAGE?type=PATHWAY&object=PWY-1187&detail-level=2)\n",
    "are located in the cytosol, though a few hemoproteins are located in the endoplasmatic\n",
    "reticulum. Hence, we will add custom reactions for the first steps to simulate these\n",
    "reactions. Then, we will add the rest of the pathway normally with a few extra arguments."
   ]
  },
  {
   "cell_type": "code",
   "execution_count": 14,
   "metadata": {
    "scrolled": true
   },
   "outputs": [
    {
     "name": "stderr",
     "output_type": "stream",
     "text": [
      "cobramod/utils.py:53 \u001b[1;31mUserWarning\u001b[0m: Reaction \"RXN_2206_rc\" unbalanced. Following atoms are affected. Please verify:\n",
      "{'H': 4.0}\n",
      "cobramod/utils.py:53 \u001b[1;31mUserWarning\u001b[0m: Reaction \"RXN_11414_rc\" unbalanced. Following atoms are affected. Please verify:\n",
      "{'H': 2.0}\n"
     ]
    },
    {
     "name": "stdout",
     "output_type": "stream",
     "text": [
      "Changes:\n",
      "Reactions \t7\n",
      "Metabolites\t7\n",
      "Exchange \t0\n",
      "Demand\t\t0\n",
      "Sinks\t\t1\n",
      "Genes\t\t12\n",
      "Groups\t\t1\n",
      "\n"
     ]
    }
   ],
   "source": [
    "add_reactions(\n",
    "    model=model,\n",
    "    obj=[\n",
    "        # First custom reaction\n",
    "        \"RXN_2206_rc, RXN_2206_rc|\"\n",
    "        +\"HOMOMETHIONINE_c + 2 OXYGEN-MOLECULE_c + 2 Red-NADPH-Hemoprotein-Reductases_r -->\"\n",
    "        +\"3-METHYLTHIOPROPANALDOXIME_c + CARBON-DIOXIDE_c + 2 Ox-NADPH-Hemoprotein-Reductases_r + 3 WATER_c\",\n",
    "\n",
    "        # Second custom reaction\n",
    "        \"RXN_11414_rc, RXN_11414_rc|\"\n",
    "        +\"3-METHYLTHIOPROPANALDOXIME_c + OXYGEN-MOLECULE_c + Red-NADPH-Hemoprotein-Reductases_r <->\"\n",
    "        +\"CPD-12389_c + Ox-NADPH-Hemoprotein-Reductases_r +  WATER_c\"\n",
    "    ],\n",
    "    database=\"ARA\",\n",
    "    directory=dir_data,   \n",
    ")\n",
    "\n",
    "# Continue with rest of the reactions\n",
    "add_pathway(\n",
    "    model=model,\n",
    "    pathway=\"PWY-1187\",\n",
    "    compartment=\"c\",\n",
    "    database=\"ARA\",\n",
    "    directory=dir_data,\n",
    "    ignore_list=ignore_list,\n",
    "    avoid_list=[\n",
    "        # Custom reactions were created already\n",
    "        \"RXN-2206\", \"RXN-11414\",\n",
    "        # These reactions are not needed since we want one specific compound\n",
    "        \"RXN-11438\", \"RXN-2222\", \"RXN-2223\", \"RXN-2224\", \"RXN-11445\"\n",
    "    ],\n",
    "    # We use UDP-GLUCOSE as UDP-α-D-glucose\n",
    "    replacement = {\"CPD-12575\": \"UDP-GLUCOSE\"}\n",
    ")"
   ]
  },
  {
   "cell_type": "code",
   "execution_count": 15,
   "metadata": {
    "scrolled": false
   },
   "outputs": [
    {
     "data": {
      "application/vnd.jupyter.widget-view+json": {
       "model_id": "30182865e31742a38503ea105b0fe9ed",
       "version_major": 2,
       "version_minor": 0
      },
      "text/plain": [
       "Builder(reaction_styles=['text'])"
      ]
     },
     "metadata": {},
     "output_type": "display_data"
    }
   ],
   "source": [
    "model.groups.get_by_id(\"PWY-1187\").visualize()"
   ]
  },
  {
   "cell_type": "markdown",
   "metadata": {},
   "source": [
    "## Synthesis from Dihomomethionine\n",
    "\n",
    "As with homomethionine, the first steps of the [glucosinolates synthesis from\n",
    "dihomomethionine\n",
    "](https://metacyc.org/META/NEW-IMAGE?type=PATHWAY&object=PWYQT-4471&&detail-level=2)\n",
    "are located in the cytosol with hemoproteins in the endoplasmatic reticulum.\n",
    "Thus, we will write custom reactions and then follow the workflow adding a list\n",
    "of reactions."
   ]
  },
  {
   "cell_type": "code",
   "execution_count": 16,
   "metadata": {
    "scrolled": true
   },
   "outputs": [
    {
     "name": "stderr",
     "output_type": "stream",
     "text": [
      "cobramod/utils.py:53 \u001b[1;31mUserWarning\u001b[0m: Reaction \"RXNQT_4309_rc\" unbalanced. Following atoms are affected. Please verify:\n",
      "{'H': 4.0}\n",
      "cobramod/utils.py:53 \u001b[1;31mUserWarning\u001b[0m: Reaction \"RXN_11415_rc\" unbalanced. Following atoms are affected. Please verify:\n",
      "{'H': 2.0}\n"
     ]
    },
    {
     "name": "stdout",
     "output_type": "stream",
     "text": [
      "Changes:\n",
      "Reactions \t7\n",
      "Metabolites\t7\n",
      "Exchange \t0\n",
      "Demand\t\t0\n",
      "Sinks\t\t1\n",
      "Genes\t\t1\n",
      "Groups\t\t1\n",
      "\n"
     ]
    }
   ],
   "source": [
    "add_reactions(\n",
    "    model=model,\n",
    "    obj=[\n",
    "        # First custom reaction\n",
    "        \"RXNQT_4309_rc, RXNQT_4309_rc|\"\n",
    "        +\"CPDQT-340_c + 2 OXYGEN-MOLECULE_c + 2 Red-NADPH-Hemoprotein-Reductases_r <->\"\n",
    "        +\"CARBON-DIOXIDE_c + CPDQT-341_c + 2 Ox-NADPH-Hemoprotein-Reductases_r + 3 WATER_c\",\n",
    "\n",
    "        # Second custom reaction\n",
    "        \"RXN_11415_rc, RXN_11415_rc|\"\n",
    "        +\"CPDQT-341_c + OXYGEN-MOLECULE_c + Red-NADPH-Hemoprotein-Reductases_r <->\"\n",
    "        +\"CPD-12392_c + Ox-NADPH-Hemoprotein-Reductases_r + WATER_c\"\n",
    "    ],\n",
    "    database=\"ARA\",\n",
    "    directory=dir_data,   \n",
    ")\n",
    "\n",
    "# Continue with list\n",
    "add_pathway(\n",
    "    model=model,\n",
    "    # Reactions to synthesize two glucosinolates\n",
    "    pathway=[\n",
    "        'RXN-11423','RXN-11431', 'RXN-19588','RXNQT-4319','RXNQT-4324','RXNQT-4329','RXNQT-4334'\n",
    "    ],\n",
    "    group=\"PWYQT-4471\",\n",
    "    compartment=\"c\",\n",
    "    database=\"ARA\",\n",
    "    directory=dir_data,\n",
    "    ignore_list=ignore_list,\n",
    "    # We use UDP-GLUCOSE as UDP-α-D-glucose\n",
    "    replacement = {\"CPD-12575\": \"UDP-GLUCOSE\"}\n",
    ")\n"
   ]
  },
  {
   "cell_type": "code",
   "execution_count": 17,
   "metadata": {},
   "outputs": [
    {
     "data": {
      "application/vnd.jupyter.widget-view+json": {
       "model_id": "993f54436d504f179fe44405cb6b641f",
       "version_major": 2,
       "version_minor": 0
      },
      "text/plain": [
       "Builder(reaction_styles=['text'])"
      ]
     },
     "metadata": {},
     "output_type": "display_data"
    }
   ],
   "source": [
    "model.groups.get_by_id(\"PWYQT-4471\").visualize()"
   ]
  },
  {
   "cell_type": "markdown",
   "metadata": {},
   "source": [
    "## Calculating costs\n",
    "\n",
    "By default, CobraMod will create boundary reactions (in this case, called\n",
    "sink reactions) during the non-zero test for metabolites that only have\n",
    "one reaction. Since glucoraphanin and glucoiberin are the end produts of\n",
    "these pathways, CobraMod built for them extra reactions. On the other hand,\n",
    "Glucoerucin is a precursor of glucoraphanin, so no boundary reaction was needed."
   ]
  },
  {
   "cell_type": "code",
   "execution_count": 18,
   "metadata": {
    "scrolled": false
   },
   "outputs": [
    {
     "data": {
      "text/plain": [
       "[<Reaction SK_3_METHYLSULFINYLPROPYL_GLUCOSINOLATE_c at 0x7fd560fc7710>,\n",
       " <Reaction SK_CPDQT_280_c at 0x7fd560f24310>]"
      ]
     },
     "execution_count": 18,
     "metadata": {},
     "output_type": "execute_result"
    }
   ],
   "source": [
    "model.sinks"
   ]
  },
  {
   "cell_type": "markdown",
   "metadata": {},
   "source": [
    "To calculate te metabolic costs of these 3 glucosinolates, we need to\n",
    "set the amount of glucosinolates that we require. We use the values according\n",
    "to [this paper](https://doi.org/10.1016/s0031-9422(02)00549-6). We will use the\n",
    "data from Table 2, specifically for the rosette leaves at a vegetative stage.\n",
    "The unit used for the glucosinolates are $\\mu mol/gDW$\n",
    "\n",
    "Using a copy of the model will avoid overwriting the model. Then, we will remove\n",
    "the extra boundary reactions and define the amount of glucosinolates. Lastly,\n",
    "a 'for loop' can be use to create demand reactions for these compounds."
   ]
  },
  {
   "cell_type": "code",
   "execution_count": 19,
   "metadata": {
    "scrolled": true
   },
   "outputs": [
    {
     "data": {
      "text/html": [
       "<div>\n",
       "<style scoped>\n",
       "    .dataframe tbody tr th:only-of-type {\n",
       "        vertical-align: middle;\n",
       "    }\n",
       "\n",
       "    .dataframe tbody tr th {\n",
       "        vertical-align: top;\n",
       "    }\n",
       "\n",
       "    .dataframe thead tr th {\n",
       "        text-align: left;\n",
       "    }\n",
       "</style>\n",
       "<table border=\"1\" class=\"dataframe\">\n",
       "  <thead>\n",
       "    <tr>\n",
       "      <th></th>\n",
       "      <th colspan=\"2\" halign=\"left\">IN_FLUXES</th>\n",
       "      <th colspan=\"2\" halign=\"left\">OUT_FLUXES</th>\n",
       "      <th colspan=\"2\" halign=\"left\">OBJECTIVES</th>\n",
       "    </tr>\n",
       "    <tr>\n",
       "      <th></th>\n",
       "      <th>ID</th>\n",
       "      <th>FLUX</th>\n",
       "      <th>ID</th>\n",
       "      <th>FLUX</th>\n",
       "      <th>ID</th>\n",
       "      <th>FLUX</th>\n",
       "    </tr>\n",
       "  </thead>\n",
       "  <tbody>\n",
       "    <tr>\n",
       "      <th>0</th>\n",
       "      <td>Photon_e</td>\n",
       "      <td>250.000000</td>\n",
       "      <td>OXYGEN_MOLECULE_e</td>\n",
       "      <td>28.373539</td>\n",
       "      <td>AraCore_Biomass_tx</td>\n",
       "      <td>0.30725</td>\n",
       "    </tr>\n",
       "    <tr>\n",
       "      <th>1</th>\n",
       "      <td>CARBON_DIOXIDE_e</td>\n",
       "      <td>26.776882</td>\n",
       "      <td>NaN</td>\n",
       "      <td>NaN</td>\n",
       "      <td>NaN</td>\n",
       "      <td>NaN</td>\n",
       "    </tr>\n",
       "    <tr>\n",
       "      <th>2</th>\n",
       "      <td>WATER_e</td>\n",
       "      <td>20.587784</td>\n",
       "      <td>NaN</td>\n",
       "      <td>NaN</td>\n",
       "      <td>NaN</td>\n",
       "      <td>NaN</td>\n",
       "    </tr>\n",
       "    <tr>\n",
       "      <th>3</th>\n",
       "      <td>AMMONIUM_e</td>\n",
       "      <td>2.348607</td>\n",
       "      <td>NaN</td>\n",
       "      <td>NaN</td>\n",
       "      <td>NaN</td>\n",
       "      <td>NaN</td>\n",
       "    </tr>\n",
       "    <tr>\n",
       "      <th>4</th>\n",
       "      <td>KI_e</td>\n",
       "      <td>0.553049</td>\n",
       "      <td>NaN</td>\n",
       "      <td>NaN</td>\n",
       "      <td>NaN</td>\n",
       "      <td>NaN</td>\n",
       "    </tr>\n",
       "    <tr>\n",
       "      <th>5</th>\n",
       "      <td>CAII_e</td>\n",
       "      <td>0.270380</td>\n",
       "      <td>NaN</td>\n",
       "      <td>NaN</td>\n",
       "      <td>NaN</td>\n",
       "      <td>NaN</td>\n",
       "    </tr>\n",
       "    <tr>\n",
       "      <th>6</th>\n",
       "      <td>MGII_e</td>\n",
       "      <td>0.178205</td>\n",
       "      <td>NaN</td>\n",
       "      <td>NaN</td>\n",
       "      <td>NaN</td>\n",
       "      <td>NaN</td>\n",
       "    </tr>\n",
       "    <tr>\n",
       "      <th>7</th>\n",
       "      <td>Pi_e</td>\n",
       "      <td>0.108314</td>\n",
       "      <td>NaN</td>\n",
       "      <td>NaN</td>\n",
       "      <td>NaN</td>\n",
       "      <td>NaN</td>\n",
       "    </tr>\n",
       "    <tr>\n",
       "      <th>8</th>\n",
       "      <td>SULFATE_e</td>\n",
       "      <td>0.072483</td>\n",
       "      <td>NaN</td>\n",
       "      <td>NaN</td>\n",
       "      <td>NaN</td>\n",
       "      <td>NaN</td>\n",
       "    </tr>\n",
       "  </tbody>\n",
       "</table>\n",
       "</div>"
      ],
      "text/plain": [
       "<cobra.core.summary.model_summary.ModelSummary at 0x7fd560b042d0>"
      ]
     },
     "execution_count": 19,
     "metadata": {},
     "output_type": "execute_result"
    }
   ],
   "source": [
    "model2 = model.copy()\n",
    "# Removing default sinks\n",
    "model2.remove_reactions(reactions=model2.sinks)\n",
    "\n",
    "amount = {\n",
    "    \"3_METHYLSULFINYLPROPYL_GLUCOSINOLATE_c\": 1.56 / 1000,\n",
    "    \"CPDQT_280_c\": 10.63 / 1000,\n",
    "    \"CPDQT_281_c\": 0.84 / 1000\n",
    "}\n",
    "\n",
    "# Creating a demand for each glucosinolate with its corresponding quantity\n",
    "for glucosinolate in amount.keys():\n",
    "    model2.add_boundary(model2.metabolites.get_by_id(glucosinolate), \"demand\")\n",
    "    model2.reactions.get_by_id(f'DM_{glucosinolate}').bounds = (amount[glucosinolate], 1000)\n",
    "\n",
    "# Defining new solution\n",
    "solution_glucosinolate = model2.optimize()\n",
    "model2.summary(solution=solution_glucosinolate, threshold=0.00001)"
   ]
  },
  {
   "cell_type": "markdown",
   "metadata": {},
   "source": [
    "We can see the summary of the original solution saved as `solution_original`."
   ]
  },
  {
   "cell_type": "code",
   "execution_count": 20,
   "metadata": {
    "scrolled": true
   },
   "outputs": [
    {
     "data": {
      "text/html": [
       "<div>\n",
       "<style scoped>\n",
       "    .dataframe tbody tr th:only-of-type {\n",
       "        vertical-align: middle;\n",
       "    }\n",
       "\n",
       "    .dataframe tbody tr th {\n",
       "        vertical-align: top;\n",
       "    }\n",
       "\n",
       "    .dataframe thead tr th {\n",
       "        text-align: left;\n",
       "    }\n",
       "</style>\n",
       "<table border=\"1\" class=\"dataframe\">\n",
       "  <thead>\n",
       "    <tr>\n",
       "      <th></th>\n",
       "      <th colspan=\"2\" halign=\"left\">IN_FLUXES</th>\n",
       "      <th colspan=\"2\" halign=\"left\">OUT_FLUXES</th>\n",
       "      <th colspan=\"2\" halign=\"left\">OBJECTIVES</th>\n",
       "    </tr>\n",
       "    <tr>\n",
       "      <th></th>\n",
       "      <th>ID</th>\n",
       "      <th>FLUX</th>\n",
       "      <th>ID</th>\n",
       "      <th>FLUX</th>\n",
       "      <th>ID</th>\n",
       "      <th>FLUX</th>\n",
       "    </tr>\n",
       "  </thead>\n",
       "  <tbody>\n",
       "    <tr>\n",
       "      <th>0</th>\n",
       "      <td>Photon_e</td>\n",
       "      <td>250.000000</td>\n",
       "      <td>OXYGEN_MOLECULE_e</td>\n",
       "      <td>28.430694</td>\n",
       "      <td>AraCore_Biomass_tx</td>\n",
       "      <td>0.310198</td>\n",
       "    </tr>\n",
       "    <tr>\n",
       "      <th>1</th>\n",
       "      <td>CARBON_DIOXIDE_e</td>\n",
       "      <td>26.877550</td>\n",
       "      <td>NaN</td>\n",
       "      <td>NaN</td>\n",
       "      <td>NaN</td>\n",
       "      <td>NaN</td>\n",
       "    </tr>\n",
       "    <tr>\n",
       "      <th>2</th>\n",
       "      <td>WATER_e</td>\n",
       "      <td>20.694835</td>\n",
       "      <td>NaN</td>\n",
       "      <td>NaN</td>\n",
       "      <td>NaN</td>\n",
       "      <td>NaN</td>\n",
       "    </tr>\n",
       "    <tr>\n",
       "      <th>3</th>\n",
       "      <td>AMMONIUM_e</td>\n",
       "      <td>2.357989</td>\n",
       "      <td>NaN</td>\n",
       "      <td>NaN</td>\n",
       "      <td>NaN</td>\n",
       "      <td>NaN</td>\n",
       "    </tr>\n",
       "    <tr>\n",
       "      <th>4</th>\n",
       "      <td>KI_e</td>\n",
       "      <td>0.558357</td>\n",
       "      <td>NaN</td>\n",
       "      <td>NaN</td>\n",
       "      <td>NaN</td>\n",
       "      <td>NaN</td>\n",
       "    </tr>\n",
       "    <tr>\n",
       "      <th>5</th>\n",
       "      <td>CAII_e</td>\n",
       "      <td>0.272974</td>\n",
       "      <td>NaN</td>\n",
       "      <td>NaN</td>\n",
       "      <td>NaN</td>\n",
       "      <td>NaN</td>\n",
       "    </tr>\n",
       "    <tr>\n",
       "      <th>6</th>\n",
       "      <td>MGII_e</td>\n",
       "      <td>0.179915</td>\n",
       "      <td>NaN</td>\n",
       "      <td>NaN</td>\n",
       "      <td>NaN</td>\n",
       "      <td>NaN</td>\n",
       "    </tr>\n",
       "    <tr>\n",
       "      <th>7</th>\n",
       "      <td>Pi_e</td>\n",
       "      <td>0.109353</td>\n",
       "      <td>NaN</td>\n",
       "      <td>NaN</td>\n",
       "      <td>NaN</td>\n",
       "      <td>NaN</td>\n",
       "    </tr>\n",
       "    <tr>\n",
       "      <th>8</th>\n",
       "      <td>SULFATE_e</td>\n",
       "      <td>0.033714</td>\n",
       "      <td>NaN</td>\n",
       "      <td>NaN</td>\n",
       "      <td>NaN</td>\n",
       "      <td>NaN</td>\n",
       "    </tr>\n",
       "  </tbody>\n",
       "</table>\n",
       "</div>"
      ],
      "text/plain": [
       "<cobra.core.summary.model_summary.ModelSummary at 0x7fd560f38610>"
      ]
     },
     "execution_count": 20,
     "metadata": {},
     "output_type": "execute_result"
    }
   ],
   "source": [
    "model.summary(solution=solution_original, threshold=0.00001)"
   ]
  },
  {
   "cell_type": "markdown",
   "metadata": {},
   "source": [
    "We can now calculate the $\\Delta$ of the objective function and comparate it\n",
    "to the original value of 0.310198"
   ]
  },
  {
   "cell_type": "code",
   "execution_count": 21,
   "metadata": {},
   "outputs": [
    {
     "data": {
      "text/plain": [
       "0.9504861333319434"
      ]
     },
     "execution_count": 21,
     "metadata": {},
     "output_type": "execute_result"
    }
   ],
   "source": [
    "(solution_original.objective_value - solution_glucosinolate.objective_value)/solution_original.objective_value*100"
   ]
  },
  {
   "cell_type": "markdown",
   "metadata": {},
   "source": [
    "Synthesizing three glucosinolates in our model results in a growth penalty\n",
    "of 0.95%. This value is likely to grow the more metabolites incorporated\n",
    "to the model."
   ]
  },
  {
   "cell_type": "code",
   "execution_count": null,
   "metadata": {},
   "outputs": [],
   "source": []
  }
 ],
 "metadata": {
  "kernelspec": {
   "display_name": "Python 3",
   "language": "python",
   "name": "python3"
  },
  "language_info": {
   "codemirror_mode": {
    "name": "ipython",
    "version": 3
   },
   "file_extension": ".py",
   "mimetype": "text/x-python",
   "name": "python",
   "nbconvert_exporter": "python",
   "pygments_lexer": "ipython3",
   "version": "3.7.4"
  },
  "widgets": {
   "application/vnd.jupyter.widget-state+json": {
    "state": {
     "238e1f89f6064118a36d85a87f282456": {
      "model_module": "@jupyter-widgets/base",
      "model_module_version": "1.2.0",
      "model_name": "LayoutModel",
      "state": {}
     },
     "30182865e31742a38503ea105b0fe9ed": {
      "model_module": "escher",
      "model_module_version": "1.7.3",
      "model_name": "EscherMapModel",
      "state": {
       "_loaded_map_json": "[{\"map_name\": \"\", \"map_id\": \"\", \"map_description\": \"\", \"homepage\": \"\", \"schema\": \"https://escher.github.io/escher/jsonschema/1-0-0#\"}, {\"reactions\": {\"0\": {\"name\": \"RXN_11422_c\", \"bigg_id\": \"RXN_11422_c\", \"reversibility\": true, \"label_x\": 226.0, \"label_y\": 45.0, \"gene_reaction_rule\": \"\", \"genes\": [], \"segments\": {\"0\": {\"from_node_id\": \"4\", \"to_node_id\": \"5\", \"b1\": null, \"b2\": null}, \"1\": {\"from_node_id\": \"6\", \"to_node_id\": \"5\", \"b1\": null, \"b2\": null}, \"2\": {\"from_node_id\": \"0\", \"to_node_id\": \"4\", \"b1\": null, \"b2\": null}, \"3\": {\"from_node_id\": \"1\", \"to_node_id\": \"4\", \"b1\": null, \"b2\": null}, \"4\": {\"from_node_id\": \"2\", \"to_node_id\": \"6\", \"b1\": null, \"b2\": null}, \"5\": {\"from_node_id\": \"3\", \"to_node_id\": \"6\", \"b1\": null, \"b2\": null}}, \"metabolites\": [{\"bigg_id\": \"CPD_12389_c\", \"coefficient\": -1.0}, {\"bigg_id\": \"GLUTATHIONE_c\", \"coefficient\": -1.0}, {\"bigg_id\": \"CPD_12390_c\", \"coefficient\": 1.0}, {\"bigg_id\": \"WATER_c\", \"coefficient\": 1.0}]}, \"1\": {\"name\": \"RXN_11430_c\", \"bigg_id\": \"RXN_11430_c\", \"reversibility\": true, \"label_x\": 876.0, \"label_y\": 45.0, \"gene_reaction_rule\": \"\", \"genes\": [], \"segments\": {\"6\": {\"from_node_id\": \"9\", \"to_node_id\": \"10\", \"b1\": null, \"b2\": null}, \"7\": {\"from_node_id\": \"11\", \"to_node_id\": \"10\", \"b1\": null, \"b2\": null}, \"8\": {\"from_node_id\": \"2\", \"to_node_id\": \"9\", \"b1\": null, \"b2\": null}, \"9\": {\"from_node_id\": \"3\", \"to_node_id\": \"9\", \"b1\": null, \"b2\": null}, \"10\": {\"from_node_id\": \"7\", \"to_node_id\": \"11\", \"b1\": null, \"b2\": null}, \"11\": {\"from_node_id\": \"8\", \"to_node_id\": \"11\", \"b1\": null, \"b2\": null}}, \"metabolites\": [{\"bigg_id\": \"CPD_12390_c\", \"coefficient\": -1.0}, {\"bigg_id\": \"WATER_c\", \"coefficient\": -1.0}, {\"bigg_id\": \"CPD_12391_c\", \"coefficient\": 1.0}, {\"bigg_id\": \"GLT_c\", \"coefficient\": 1.0}]}, \"2\": {\"name\": \"RXN_19589_c\", \"bigg_id\": \"RXN_19589_c\", \"reversibility\": true, \"label_x\": 1526.0, \"label_y\": 45.0, \"gene_reaction_rule\": \"\", \"genes\": [], \"segments\": {\"12\": {\"from_node_id\": \"15\", \"to_node_id\": \"16\", \"b1\": null, \"b2\": null}, \"13\": {\"from_node_id\": \"17\", \"to_node_id\": \"16\", \"b1\": null, \"b2\": null}, \"14\": {\"from_node_id\": \"7\", \"to_node_id\": \"15\", \"b1\": null, \"b2\": null}, \"15\": {\"from_node_id\": \"12\", \"to_node_id\": \"15\", \"b1\": null, \"b2\": null}, \"16\": {\"from_node_id\": \"13\", \"to_node_id\": \"17\", \"b1\": null, \"b2\": null}, \"17\": {\"from_node_id\": \"14\", \"to_node_id\": \"17\", \"b1\": null, \"b2\": null}}, \"metabolites\": [{\"bigg_id\": \"CPD_12391_c\", \"coefficient\": -1.0}, {\"bigg_id\": \"WATER_c\", \"coefficient\": -1.0}, {\"bigg_id\": \"CPD_7546_c\", \"coefficient\": 1.0}, {\"bigg_id\": \"GLY_c\", \"coefficient\": 1.0}]}, \"3\": {\"name\": \"RXN_8052_c\", \"bigg_id\": \"RXN_8052_c\", \"reversibility\": true, \"label_x\": 2185.0, \"label_y\": 45.0, \"gene_reaction_rule\": \"\", \"genes\": [], \"segments\": {\"18\": {\"from_node_id\": \"22\", \"to_node_id\": \"23\", \"b1\": null, \"b2\": null}, \"19\": {\"from_node_id\": \"24\", \"to_node_id\": \"23\", \"b1\": null, \"b2\": null}, \"20\": {\"from_node_id\": \"13\", \"to_node_id\": \"22\", \"b1\": null, \"b2\": null}, \"21\": {\"from_node_id\": \"18\", \"to_node_id\": \"22\", \"b1\": null, \"b2\": null}, \"22\": {\"from_node_id\": \"19\", \"to_node_id\": \"24\", \"b1\": null, \"b2\": null}, \"23\": {\"from_node_id\": \"20\", \"to_node_id\": \"24\", \"b1\": null, \"b2\": null}, \"24\": {\"from_node_id\": \"21\", \"to_node_id\": \"24\", \"b1\": null, \"b2\": null}}, \"metabolites\": [{\"bigg_id\": \"CPD_7546_c\", \"coefficient\": -1.0}, {\"bigg_id\": \"WATER_c\", \"coefficient\": -1.0}, {\"bigg_id\": \"3_METHYLTHIOPROPYLHYDROXAMIC_ACID_c\", \"coefficient\": 1.0}, {\"bigg_id\": \"AMMONIUM_c\", \"coefficient\": 1.0}, {\"bigg_id\": \"PYRUVATE_c\", \"coefficient\": 1.0}]}, \"4\": {\"name\": \"RXN_2208_c\", \"bigg_id\": \"RXN_2208_c\", \"reversibility\": true, \"label_x\": 2835.0, \"label_y\": 45.0, \"gene_reaction_rule\": \"\", \"genes\": [], \"segments\": {\"25\": {\"from_node_id\": \"29\", \"to_node_id\": \"30\", \"b1\": null, \"b2\": null}, \"26\": {\"from_node_id\": \"31\", \"to_node_id\": \"30\", \"b1\": null, \"b2\": null}, \"27\": {\"from_node_id\": \"19\", \"to_node_id\": \"29\", \"b1\": null, \"b2\": null}, \"28\": {\"from_node_id\": \"25\", \"to_node_id\": \"29\", \"b1\": null, \"b2\": null}, \"29\": {\"from_node_id\": \"26\", \"to_node_id\": \"31\", \"b1\": null, \"b2\": null}, \"30\": {\"from_node_id\": \"27\", \"to_node_id\": \"31\", \"b1\": null, \"b2\": null}, \"31\": {\"from_node_id\": \"28\", \"to_node_id\": \"31\", \"b1\": null, \"b2\": null}}, \"metabolites\": [{\"bigg_id\": \"3_METHYLTHIOPROPYLHYDROXAMIC_ACID_c\", \"coefficient\": -1.0}, {\"bigg_id\": \"UDP_GLUCOSE_c\", \"coefficient\": -1.0}, {\"bigg_id\": \"3_METHYLTHIOPROPYL_DESULFO_GLUCOSINOLATE_c\", \"coefficient\": 1.0}, {\"bigg_id\": \"PROTON_c\", \"coefficient\": 1.0}, {\"bigg_id\": \"UDP_c\", \"coefficient\": 1.0}]}, \"5\": {\"name\": \"RXN_2209_c\", \"bigg_id\": \"RXN_2209_c\", \"reversibility\": true, \"label_x\": 3485.0, \"label_y\": 45.0, \"gene_reaction_rule\": \"\", \"genes\": [], \"segments\": {\"32\": {\"from_node_id\": \"36\", \"to_node_id\": \"37\", \"b1\": null, \"b2\": null}, \"33\": {\"from_node_id\": \"38\", \"to_node_id\": \"37\", \"b1\": null, \"b2\": null}, \"34\": {\"from_node_id\": \"26\", \"to_node_id\": \"36\", \"b1\": null, \"b2\": null}, \"35\": {\"from_node_id\": \"32\", \"to_node_id\": \"36\", \"b1\": null, \"b2\": null}, \"36\": {\"from_node_id\": \"33\", \"to_node_id\": \"38\", \"b1\": null, \"b2\": null}, \"37\": {\"from_node_id\": \"34\", \"to_node_id\": \"38\", \"b1\": null, \"b2\": null}, \"38\": {\"from_node_id\": \"35\", \"to_node_id\": \"38\", \"b1\": null, \"b2\": null}}, \"metabolites\": [{\"bigg_id\": \"3_METHYLTHIOPROPYL_DESULFO_GLUCOSINOLATE_c\", \"coefficient\": -1.0}, {\"bigg_id\": \"PAPS_c\", \"coefficient\": -1.0}, {\"bigg_id\": \"3_5_ADP_c\", \"coefficient\": 1.0}, {\"bigg_id\": \"3_METHYLTHIOPROPYL_GLUCOSINOLATE_c\", \"coefficient\": 1.0}, {\"bigg_id\": \"PROTON_c\", \"coefficient\": 1.0}]}, \"6\": {\"name\": \"RXN_2221_c\", \"bigg_id\": \"RXN_2221_c\", \"reversibility\": true, \"label_x\": 4135.0, \"label_y\": 45.0, \"gene_reaction_rule\": \"\", \"genes\": [], \"segments\": {\"39\": {\"from_node_id\": \"44\", \"to_node_id\": \"45\", \"b1\": null, \"b2\": null}, \"40\": {\"from_node_id\": \"46\", \"to_node_id\": \"45\", \"b1\": null, \"b2\": null}, \"41\": {\"from_node_id\": \"34\", \"to_node_id\": \"44\", \"b1\": null, \"b2\": null}, \"42\": {\"from_node_id\": \"39\", \"to_node_id\": \"44\", \"b1\": null, \"b2\": null}, \"43\": {\"from_node_id\": \"40\", \"to_node_id\": \"44\", \"b1\": null, \"b2\": null}, \"44\": {\"from_node_id\": \"35\", \"to_node_id\": \"44\", \"b1\": null, \"b2\": null}, \"45\": {\"from_node_id\": \"41\", \"to_node_id\": \"46\", \"b1\": null, \"b2\": null}, \"46\": {\"from_node_id\": \"42\", \"to_node_id\": \"46\", \"b1\": null, \"b2\": null}, \"47\": {\"from_node_id\": \"43\", \"to_node_id\": \"46\", \"b1\": null, \"b2\": null}}, \"metabolites\": [{\"bigg_id\": \"3_METHYLTHIOPROPYL_GLUCOSINOLATE_c\", \"coefficient\": -1.0}, {\"bigg_id\": \"NADPH_c\", \"coefficient\": -1.0}, {\"bigg_id\": \"OXYGEN_MOLECULE_c\", \"coefficient\": -1.0}, {\"bigg_id\": \"PROTON_c\", \"coefficient\": -1.0}, {\"bigg_id\": \"3_METHYLSULFINYLPROPYL_GLUCOSINOLATE_c\", \"coefficient\": 1.0}, {\"bigg_id\": \"NADP_c\", \"coefficient\": 1.0}, {\"bigg_id\": \"WATER_c\", \"coefficient\": 1.0}]}}, \"nodes\": {\"0\": {\"node_type\": \"metabolite\", \"x\": 30.0, \"y\": 150.0, \"label_x\": 0.0, \"label_y\": 130.0, \"bigg_id\": \"CPD_12389_c\", \"name\": \"CPD_12389_c\", \"node_is_primary\": false}, \"1\": {\"node_type\": \"metabolite\", \"x\": 30.0, \"y\": 300.0, \"label_x\": 0.0, \"label_y\": 280.0, \"bigg_id\": \"GLUTATHIONE_c\", \"name\": \"GLUTATHIONE_c\", \"node_is_primary\": false}, \"2\": {\"node_type\": \"metabolite\", \"x\": 550.0, \"y\": 150.0, \"label_x\": 520.0, \"label_y\": 130.0, \"bigg_id\": \"CPD_12390_c\", \"name\": \"CPD_12390_c\", \"node_is_primary\": false}, \"3\": {\"node_type\": \"metabolite\", \"x\": 550.0, \"y\": 300.0, \"label_x\": 520.0, \"label_y\": 280.0, \"bigg_id\": \"WATER_c\", \"name\": \"WATER_c\", \"node_is_primary\": false}, \"4\": {\"node_type\": \"multimarker\", \"x\": 335.0, \"y\": 225.0}, \"5\": {\"node_type\": \"midmarker\", \"x\": 355.0, \"y\": 225.0}, \"6\": {\"node_type\": \"multimarker\", \"x\": 375.0, \"y\": 225.0}, \"7\": {\"node_type\": \"metabolite\", \"x\": 1200.0, \"y\": 150.0, \"label_x\": 1170.0, \"label_y\": 130.0, \"bigg_id\": \"CPD_12391_c\", \"name\": \"CPD_12391_c\", \"node_is_primary\": false}, \"8\": {\"node_type\": \"metabolite\", \"x\": 1200.0, \"y\": 300.0, \"label_x\": 1170.0, \"label_y\": 280.0, \"bigg_id\": \"GLT_c\", \"name\": \"GLT_c\", \"node_is_primary\": false}, \"9\": {\"node_type\": \"multimarker\", \"x\": 985.0, \"y\": 225.0}, \"10\": {\"node_type\": \"midmarker\", \"x\": 1005.0, \"y\": 225.0}, \"11\": {\"node_type\": \"multimarker\", \"x\": 1025.0, \"y\": 225.0}, \"12\": {\"node_type\": \"metabolite\", \"x\": 1330.0, \"y\": 300.0, \"label_x\": 1300.0, \"label_y\": 280.0, \"bigg_id\": \"WATER_c\", \"name\": \"WATER_c\", \"node_is_primary\": false}, \"13\": {\"node_type\": \"metabolite\", \"x\": 1850.0, \"y\": 150.0, \"label_x\": 1820.0, \"label_y\": 130.0, \"bigg_id\": \"CPD_7546_c\", \"name\": \"CPD_7546_c\", \"node_is_primary\": false}, \"14\": {\"node_type\": \"metabolite\", \"x\": 1850.0, \"y\": 300.0, \"label_x\": 1820.0, \"label_y\": 280.0, \"bigg_id\": \"GLY_c\", \"name\": \"GLY_c\", \"node_is_primary\": false}, \"15\": {\"node_type\": \"multimarker\", \"x\": 1635.0, \"y\": 225.0}, \"16\": {\"node_type\": \"midmarker\", \"x\": 1655.0, \"y\": 225.0}, \"17\": {\"node_type\": \"multimarker\", \"x\": 1675.0, \"y\": 225.0}, \"18\": {\"node_type\": \"metabolite\", \"x\": 1980.0, \"y\": 300.0, \"label_x\": 1950.0, \"label_y\": 280.0, \"bigg_id\": \"WATER_c\", \"name\": \"WATER_c\", \"node_is_primary\": false}, \"19\": {\"node_type\": \"metabolite\", \"x\": 2500.0, \"y\": 112.5, \"label_x\": 2470.0, \"label_y\": 92.5, \"bigg_id\": \"3_METHYLTHIOPROPYLHYDROXAMIC_ACID_c\", \"name\": \"3_METHYLTHIOPROPYLHYDROXAMIC_ACID_c\", \"node_is_primary\": false}, \"20\": {\"node_type\": \"metabolite\", \"x\": 2500.0, \"y\": 225.0, \"label_x\": 2470.0, \"label_y\": 205.0, \"bigg_id\": \"AMMONIUM_c\", \"name\": \"AMMONIUM_c\", \"node_is_primary\": false}, \"21\": {\"node_type\": \"metabolite\", \"x\": 2500.0, \"y\": 337.5, \"label_x\": 2470.0, \"label_y\": 317.5, \"bigg_id\": \"PYRUVATE_c\", \"name\": \"PYRUVATE_c\", \"node_is_primary\": false}, \"22\": {\"node_type\": \"multimarker\", \"x\": 2285.0, \"y\": 225.0}, \"23\": {\"node_type\": \"midmarker\", \"x\": 2305.0, \"y\": 225.0}, \"24\": {\"node_type\": \"multimarker\", \"x\": 2325.0, \"y\": 225.0}, \"25\": {\"node_type\": \"metabolite\", \"x\": 2630.0, \"y\": 300.0, \"label_x\": 2600.0, \"label_y\": 280.0, \"bigg_id\": \"UDP_GLUCOSE_c\", \"name\": \"UDP_GLUCOSE_c\", \"node_is_primary\": false}, \"26\": {\"node_type\": \"metabolite\", \"x\": 3150.0, \"y\": 112.5, \"label_x\": 3120.0, \"label_y\": 92.5, \"bigg_id\": \"3_METHYLTHIOPROPYL_DESULFO_GLUCOSINOLATE_c\", \"name\": \"3_METHYLTHIOPROPYL_DESULFO_GLUCOSINOLATE_c\", \"node_is_primary\": false}, \"27\": {\"node_type\": \"metabolite\", \"x\": 3150.0, \"y\": 225.0, \"label_x\": 3120.0, \"label_y\": 205.0, \"bigg_id\": \"PROTON_c\", \"name\": \"PROTON_c\", \"node_is_primary\": false}, \"28\": {\"node_type\": \"metabolite\", \"x\": 3150.0, \"y\": 337.5, \"label_x\": 3120.0, \"label_y\": 317.5, \"bigg_id\": \"UDP_c\", \"name\": \"UDP_c\", \"node_is_primary\": false}, \"29\": {\"node_type\": \"multimarker\", \"x\": 2935.0, \"y\": 225.0}, \"30\": {\"node_type\": \"midmarker\", \"x\": 2955.0, \"y\": 225.0}, \"31\": {\"node_type\": \"multimarker\", \"x\": 2975.0, \"y\": 225.0}, \"32\": {\"node_type\": \"metabolite\", \"x\": 3280.0, \"y\": 300.0, \"label_x\": 3250.0, \"label_y\": 280.0, \"bigg_id\": \"PAPS_c\", \"name\": \"PAPS_c\", \"node_is_primary\": false}, \"33\": {\"node_type\": \"metabolite\", \"x\": 3800.0, \"y\": 112.5, \"label_x\": 3770.0, \"label_y\": 92.5, \"bigg_id\": \"3_5_ADP_c\", \"name\": \"3_5_ADP_c\", \"node_is_primary\": false}, \"34\": {\"node_type\": \"metabolite\", \"x\": 3800.0, \"y\": 225.0, \"label_x\": 3770.0, \"label_y\": 205.0, \"bigg_id\": \"3_METHYLTHIOPROPYL_GLUCOSINOLATE_c\", \"name\": \"3_METHYLTHIOPROPYL_GLUCOSINOLATE_c\", \"node_is_primary\": false}, \"35\": {\"node_type\": \"metabolite\", \"x\": 3800.0, \"y\": 337.5, \"label_x\": 3770.0, \"label_y\": 317.5, \"bigg_id\": \"PROTON_c\", \"name\": \"PROTON_c\", \"node_is_primary\": false}, \"36\": {\"node_type\": \"multimarker\", \"x\": 3585.0, \"y\": 225.0}, \"37\": {\"node_type\": \"midmarker\", \"x\": 3605.0, \"y\": 225.0}, \"38\": {\"node_type\": \"multimarker\", \"x\": 3625.0, \"y\": 225.0}, \"39\": {\"node_type\": \"metabolite\", \"x\": 3930.0, \"y\": 180.0, \"label_x\": 3900.0, \"label_y\": 160.0, \"bigg_id\": \"NADPH_c\", \"name\": \"NADPH_c\", \"node_is_primary\": false}, \"40\": {\"node_type\": \"metabolite\", \"x\": 3930.0, \"y\": 270.0, \"label_x\": 3900.0, \"label_y\": 250.0, \"bigg_id\": \"OXYGEN_MOLECULE_c\", \"name\": \"OXYGEN_MOLECULE_c\", \"node_is_primary\": false}, \"41\": {\"node_type\": \"metabolite\", \"x\": 4450.0, \"y\": 112.5, \"label_x\": 4420.0, \"label_y\": 92.5, \"bigg_id\": \"3_METHYLSULFINYLPROPYL_GLUCOSINOLATE_c\", \"name\": \"3_METHYLSULFINYLPROPYL_GLUCOSINOLATE_c\", \"node_is_primary\": false}, \"42\": {\"node_type\": \"metabolite\", \"x\": 4450.0, \"y\": 225.0, \"label_x\": 4420.0, \"label_y\": 205.0, \"bigg_id\": \"NADP_c\", \"name\": \"NADP_c\", \"node_is_primary\": false}, \"43\": {\"node_type\": \"metabolite\", \"x\": 4450.0, \"y\": 337.5, \"label_x\": 4420.0, \"label_y\": 317.5, \"bigg_id\": \"WATER_c\", \"name\": \"WATER_c\", \"node_is_primary\": false}, \"44\": {\"node_type\": \"multimarker\", \"x\": 4235.0, \"y\": 225.0}, \"45\": {\"node_type\": \"midmarker\", \"x\": 4255.0, \"y\": 225.0}, \"46\": {\"node_type\": \"multimarker\", \"x\": 4275.0, \"y\": 225.0}}, \"text_labels\": {}, \"canvas\": {\"x\": 0, \"y\": 0, \"width\": 4550, \"height\": 450}}]",
       "_loaded_model_json": null,
       "allow_building_duplicate_reactions": false,
       "and_method_in_gene_reaction_rule": "mean",
       "canvas_size_and_loc": null,
       "cofactors": [
        "atp",
        "adp",
        "nad",
        "nadh",
        "nadp",
        "nadph",
        "gtp",
        "gdp",
        "h",
        "coa",
        "ump",
        "h2o",
        "ppi"
       ],
       "disabled_buttons": [
        "Clear reaction data",
        "Clear gene data",
        "Clear metabolite data"
       ],
       "embedded_css": null,
       "enable_editing": true,
       "enable_keys": false,
       "enable_keys_with_tooltip": true,
       "enable_search": true,
       "enable_tooltips": false,
       "full_screen_button": {
        "enable_editing": true,
        "enable_keys": true,
        "enable_tooltips": [
         "label"
        ],
        "menu": "all",
        "scroll_behavior": "pan"
       },
       "gene_data": null,
       "gene_font_size": 18,
       "height": 500,
       "hide_all_labels": false,
       "hide_secondary_metabolites": false,
       "highlight_missing": false,
       "identifiers_on_map": "bigg_id",
       "layout": "IPY_MODEL_da9c56899004479d9cce998fd7327f44",
       "marker_radius": 5,
       "menu": "all",
       "metabolite_compare_style": "log2_fold",
       "metabolite_data": null,
       "metabolite_no_data_color": "#ffffff",
       "metabolite_no_data_size": 10,
       "metabolite_scale": [
        {
         "color": "#fffaf0",
         "size": 20,
         "type": "min"
        },
        {
         "color": "#f1c470",
         "size": 30,
         "type": "median"
        },
        {
         "color": "#800000",
         "size": 40,
         "type": "max"
        }
       ],
       "metabolite_scale_preset": "WhYlRd",
       "metabolite_styles": [
        "color",
        "size",
        "text"
       ],
       "never_ask_before_quit": false,
       "primary_metabolite_radius": 20,
       "reaction_compare_style": "log2_fold",
       "reaction_data": null,
       "reaction_no_data_color": "#dcdcdc",
       "reaction_no_data_size": 8,
       "reaction_scale": [
        {
         "color": "#c8c8c8",
         "size": 12,
         "type": "min"
        },
        {
         "color": "#9696ff",
         "size": 16,
         "type": "value",
         "value": 0.01
        },
        {
         "color": "#209123",
         "size": 20,
         "type": "value",
         "value": 20
        },
        {
         "color": "#ff0000",
         "size": 25,
         "type": "max"
        }
       ],
       "reaction_scale_preset": "GaBuGeRd",
       "reaction_styles": [
        "text"
       ],
       "scroll_behavior": "none",
       "secondary_metabolite_radius": 10,
       "semantic_zoom": null,
       "show_gene_reaction_rules": false,
       "starting_reaction": null,
       "use_3d_transform": false,
       "zoom_to_element": null
      }
     },
     "4ba75e901a374108af2fd11d68f9631f": {
      "model_module": "@jupyter-widgets/base",
      "model_module_version": "1.2.0",
      "model_name": "LayoutModel",
      "state": {}
     },
     "555ce7bf7d4048a792b5fb4482b60d5d": {
      "model_module": "escher",
      "model_module_version": "1.7.3",
      "model_name": "EscherMapModel",
      "state": {
       "_loaded_map_json": "[{\"map_name\": \"\", \"map_id\": \"\", \"map_description\": \"\", \"homepage\": \"\", \"schema\": \"https://escher.github.io/escher/jsonschema/1-0-0#\"}, {\"reactions\": {\"0\": {\"name\": \"GLUTCYSLIG_RXN_p\", \"bigg_id\": \"GLUTCYSLIG_RXN_p\", \"reversibility\": true, \"label_x\": 181.0, \"label_y\": 45.0, \"gene_reaction_rule\": \"\", \"genes\": [], \"segments\": {\"0\": {\"from_node_id\": \"7\", \"to_node_id\": \"8\", \"b1\": null, \"b2\": null}, \"1\": {\"from_node_id\": \"9\", \"to_node_id\": \"8\", \"b1\": null, \"b2\": null}, \"2\": {\"from_node_id\": \"0\", \"to_node_id\": \"7\", \"b1\": null, \"b2\": null}, \"3\": {\"from_node_id\": \"1\", \"to_node_id\": \"7\", \"b1\": null, \"b2\": null}, \"4\": {\"from_node_id\": \"2\", \"to_node_id\": \"7\", \"b1\": null, \"b2\": null}, \"5\": {\"from_node_id\": \"3\", \"to_node_id\": \"9\", \"b1\": null, \"b2\": null}, \"6\": {\"from_node_id\": \"4\", \"to_node_id\": \"9\", \"b1\": null, \"b2\": null}, \"7\": {\"from_node_id\": \"5\", \"to_node_id\": \"9\", \"b1\": null, \"b2\": null}, \"8\": {\"from_node_id\": \"6\", \"to_node_id\": \"9\", \"b1\": null, \"b2\": null}}, \"metabolites\": [{\"bigg_id\": \"ATP_p\", \"coefficient\": -1.0}, {\"bigg_id\": \"CYS_p\", \"coefficient\": -1.0}, {\"bigg_id\": \"GLT_p\", \"coefficient\": -1.0}, {\"bigg_id\": \"ADP_p\", \"coefficient\": 1.0}, {\"bigg_id\": \"L_GAMMA_GLUTAMYLCYSTEINE_p\", \"coefficient\": 1.0}, {\"bigg_id\": \"PROTON_p\", \"coefficient\": 1.0}, {\"bigg_id\": \"Pi_p\", \"coefficient\": 1.0}]}, \"1\": {\"name\": \"GLUTATHIONE_SYN_RXN_p\", \"bigg_id\": \"GLUTATHIONE_SYN_RXN_p\", \"reversibility\": true, \"label_x\": 786.0, \"label_y\": 45.0, \"gene_reaction_rule\": \"\", \"genes\": [], \"segments\": {\"9\": {\"from_node_id\": \"16\", \"to_node_id\": \"17\", \"b1\": null, \"b2\": null}, \"10\": {\"from_node_id\": \"18\", \"to_node_id\": \"17\", \"b1\": null, \"b2\": null}, \"11\": {\"from_node_id\": \"10\", \"to_node_id\": \"16\", \"b1\": null, \"b2\": null}, \"12\": {\"from_node_id\": \"11\", \"to_node_id\": \"16\", \"b1\": null, \"b2\": null}, \"13\": {\"from_node_id\": \"4\", \"to_node_id\": \"16\", \"b1\": null, \"b2\": null}, \"14\": {\"from_node_id\": \"12\", \"to_node_id\": \"18\", \"b1\": null, \"b2\": null}, \"15\": {\"from_node_id\": \"13\", \"to_node_id\": \"18\", \"b1\": null, \"b2\": null}, \"16\": {\"from_node_id\": \"14\", \"to_node_id\": \"18\", \"b1\": null, \"b2\": null}, \"17\": {\"from_node_id\": \"15\", \"to_node_id\": \"18\", \"b1\": null, \"b2\": null}}, \"metabolites\": [{\"bigg_id\": \"ATP_p\", \"coefficient\": -1.0}, {\"bigg_id\": \"GLY_p\", \"coefficient\": -1.0}, {\"bigg_id\": \"L_GAMMA_GLUTAMYLCYSTEINE_p\", \"coefficient\": -1.0}, {\"bigg_id\": \"ADP_p\", \"coefficient\": 1.0}, {\"bigg_id\": \"GLUTATHIONE_p\", \"coefficient\": 1.0}, {\"bigg_id\": \"PROTON_p\", \"coefficient\": 1.0}, {\"bigg_id\": \"Pi_p\", \"coefficient\": 1.0}]}}, \"nodes\": {\"0\": {\"node_type\": \"metabolite\", \"x\": 30.0, \"y\": 112.5, \"label_x\": 0.0, \"label_y\": 92.5, \"bigg_id\": \"ATP_p\", \"name\": \"ATP_p\", \"node_is_primary\": false}, \"1\": {\"node_type\": \"metabolite\", \"x\": 30.0, \"y\": 225.0, \"label_x\": 0.0, \"label_y\": 205.0, \"bigg_id\": \"CYS_p\", \"name\": \"CYS_p\", \"node_is_primary\": false}, \"2\": {\"node_type\": \"metabolite\", \"x\": 30.0, \"y\": 337.5, \"label_x\": 0.0, \"label_y\": 317.5, \"bigg_id\": \"GLT_p\", \"name\": \"GLT_p\", \"node_is_primary\": false}, \"3\": {\"node_type\": \"metabolite\", \"x\": 550.0, \"y\": 90.0, \"label_x\": 520.0, \"label_y\": 70.0, \"bigg_id\": \"ADP_p\", \"name\": \"ADP_p\", \"node_is_primary\": false}, \"4\": {\"node_type\": \"metabolite\", \"x\": 550.0, \"y\": 180.0, \"label_x\": 520.0, \"label_y\": 160.0, \"bigg_id\": \"L_GAMMA_GLUTAMYLCYSTEINE_p\", \"name\": \"L_GAMMA_GLUTAMYLCYSTEINE_p\", \"node_is_primary\": false}, \"5\": {\"node_type\": \"metabolite\", \"x\": 550.0, \"y\": 270.0, \"label_x\": 520.0, \"label_y\": 250.0, \"bigg_id\": \"PROTON_p\", \"name\": \"PROTON_p\", \"node_is_primary\": false}, \"6\": {\"node_type\": \"metabolite\", \"x\": 550.0, \"y\": 360.0, \"label_x\": 520.0, \"label_y\": 340.0, \"bigg_id\": \"Pi_p\", \"name\": \"Pi_p\", \"node_is_primary\": false}, \"7\": {\"node_type\": \"multimarker\", \"x\": 335.0, \"y\": 225.0}, \"8\": {\"node_type\": \"midmarker\", \"x\": 355.0, \"y\": 225.0}, \"9\": {\"node_type\": \"multimarker\", \"x\": 375.0, \"y\": 225.0}, \"10\": {\"node_type\": \"metabolite\", \"x\": 680.0, \"y\": 112.5, \"label_x\": 650.0, \"label_y\": 92.5, \"bigg_id\": \"ATP_p\", \"name\": \"ATP_p\", \"node_is_primary\": false}, \"11\": {\"node_type\": \"metabolite\", \"x\": 680.0, \"y\": 225.0, \"label_x\": 650.0, \"label_y\": 205.0, \"bigg_id\": \"GLY_p\", \"name\": \"GLY_p\", \"node_is_primary\": false}, \"12\": {\"node_type\": \"metabolite\", \"x\": 1200.0, \"y\": 90.0, \"label_x\": 1170.0, \"label_y\": 70.0, \"bigg_id\": \"ADP_p\", \"name\": \"ADP_p\", \"node_is_primary\": false}, \"13\": {\"node_type\": \"metabolite\", \"x\": 1200.0, \"y\": 180.0, \"label_x\": 1170.0, \"label_y\": 160.0, \"bigg_id\": \"GLUTATHIONE_p\", \"name\": \"GLUTATHIONE_p\", \"node_is_primary\": false}, \"14\": {\"node_type\": \"metabolite\", \"x\": 1200.0, \"y\": 270.0, \"label_x\": 1170.0, \"label_y\": 250.0, \"bigg_id\": \"PROTON_p\", \"name\": \"PROTON_p\", \"node_is_primary\": false}, \"15\": {\"node_type\": \"metabolite\", \"x\": 1200.0, \"y\": 360.0, \"label_x\": 1170.0, \"label_y\": 340.0, \"bigg_id\": \"Pi_p\", \"name\": \"Pi_p\", \"node_is_primary\": false}, \"16\": {\"node_type\": \"multimarker\", \"x\": 985.0, \"y\": 225.0}, \"17\": {\"node_type\": \"midmarker\", \"x\": 1005.0, \"y\": 225.0}, \"18\": {\"node_type\": \"multimarker\", \"x\": 1025.0, \"y\": 225.0}}, \"text_labels\": {}, \"canvas\": {\"x\": 0, \"y\": 0, \"width\": 1300, \"height\": 450}}]",
       "_loaded_model_json": null,
       "allow_building_duplicate_reactions": false,
       "and_method_in_gene_reaction_rule": "mean",
       "canvas_size_and_loc": null,
       "cofactors": [
        "atp",
        "adp",
        "nad",
        "nadh",
        "nadp",
        "nadph",
        "gtp",
        "gdp",
        "h",
        "coa",
        "ump",
        "h2o",
        "ppi"
       ],
       "disabled_buttons": [
        "Clear reaction data",
        "Clear gene data",
        "Clear metabolite data"
       ],
       "embedded_css": null,
       "enable_editing": true,
       "enable_keys": false,
       "enable_keys_with_tooltip": true,
       "enable_search": true,
       "enable_tooltips": false,
       "full_screen_button": {
        "enable_editing": true,
        "enable_keys": true,
        "enable_tooltips": [
         "label"
        ],
        "menu": "all",
        "scroll_behavior": "pan"
       },
       "gene_data": null,
       "gene_font_size": 18,
       "height": 500,
       "hide_all_labels": false,
       "hide_secondary_metabolites": false,
       "highlight_missing": false,
       "identifiers_on_map": "bigg_id",
       "layout": "IPY_MODEL_238e1f89f6064118a36d85a87f282456",
       "marker_radius": 5,
       "menu": "all",
       "metabolite_compare_style": "log2_fold",
       "metabolite_data": null,
       "metabolite_no_data_color": "#ffffff",
       "metabolite_no_data_size": 10,
       "metabolite_scale": [
        {
         "color": "#fffaf0",
         "size": 20,
         "type": "min"
        },
        {
         "color": "#f1c470",
         "size": 30,
         "type": "median"
        },
        {
         "color": "#800000",
         "size": 40,
         "type": "max"
        }
       ],
       "metabolite_scale_preset": "WhYlRd",
       "metabolite_styles": [
        "color",
        "size",
        "text"
       ],
       "never_ask_before_quit": false,
       "primary_metabolite_radius": 20,
       "reaction_compare_style": "log2_fold",
       "reaction_data": null,
       "reaction_no_data_color": "#dcdcdc",
       "reaction_no_data_size": 8,
       "reaction_scale": [
        {
         "color": "#c8c8c8",
         "size": 12,
         "type": "min"
        },
        {
         "color": "#9696ff",
         "size": 16,
         "type": "value",
         "value": 0.01
        },
        {
         "color": "#209123",
         "size": 20,
         "type": "value",
         "value": 20
        },
        {
         "color": "#ff0000",
         "size": 25,
         "type": "max"
        }
       ],
       "reaction_scale_preset": "GaBuGeRd",
       "reaction_styles": [
        "text"
       ],
       "scroll_behavior": "none",
       "secondary_metabolite_radius": 10,
       "semantic_zoom": null,
       "show_gene_reaction_rules": false,
       "starting_reaction": null,
       "use_3d_transform": false,
       "zoom_to_element": null
      }
     },
     "5d55bf707c8f4ed484382efa26591a1b": {
      "model_module": "escher",
      "model_module_version": "1.7.3",
      "model_name": "EscherMapModel",
      "state": {
       "_loaded_map_json": "[{\"map_name\": \"\", \"map_id\": \"\", \"map_description\": \"\", \"homepage\": \"\", \"schema\": \"https://escher.github.io/escher/jsonschema/1-0-0#\"}, {\"reactions\": {\"0\": {\"name\": \"RXNQT_4163_p\", \"bigg_id\": \"RXNQT_4163_p\", \"reversibility\": true, \"label_x\": 265.0, \"label_y\": 325.0, \"gene_reaction_rule\": \"\", \"genes\": [], \"segments\": {\"0\": {\"from_node_id\": \"6\", \"to_node_id\": \"7\", \"b1\": null, \"b2\": null}, \"1\": {\"from_node_id\": \"8\", \"to_node_id\": \"7\", \"b1\": null, \"b2\": null}, \"2\": {\"from_node_id\": \"0\", \"to_node_id\": \"6\", \"b1\": null, \"b2\": null}, \"3\": {\"from_node_id\": \"1\", \"to_node_id\": \"6\", \"b1\": null, \"b2\": null}, \"4\": {\"from_node_id\": \"2\", \"to_node_id\": \"6\", \"b1\": null, \"b2\": null}, \"5\": {\"from_node_id\": \"3\", \"to_node_id\": \"8\", \"b1\": null, \"b2\": null}, \"6\": {\"from_node_id\": \"4\", \"to_node_id\": \"8\", \"b1\": null, \"b2\": null}, \"7\": {\"from_node_id\": \"5\", \"to_node_id\": \"8\", \"b1\": null, \"b2\": null}}, \"metabolites\": [{\"bigg_id\": \"2_OXO_5_METHYLTHIOPENTANOIC_ACID_p\", \"coefficient\": -1.0}, {\"bigg_id\": \"ACETYL_COA_p\", \"coefficient\": -1.0}, {\"bigg_id\": \"WATER_p\", \"coefficient\": -1.0}, {\"bigg_id\": \"CO_A_p\", \"coefficient\": 1.0}, {\"bigg_id\": \"CPDQT_31_p\", \"coefficient\": 1.0}, {\"bigg_id\": \"PROTON_p\", \"coefficient\": 1.0}]}, \"1\": {\"name\": \"RXN_18184_p\", \"bigg_id\": \"RXN_18184_p\", \"reversibility\": true, \"label_x\": 265.0, \"label_y\": 975.0, \"gene_reaction_rule\": \"\", \"genes\": [], \"segments\": {\"8\": {\"from_node_id\": \"11\", \"to_node_id\": \"12\", \"b1\": null, \"b2\": null}, \"9\": {\"from_node_id\": \"13\", \"to_node_id\": \"12\", \"b1\": null, \"b2\": null}, \"10\": {\"from_node_id\": \"4\", \"to_node_id\": \"11\", \"b1\": null, \"b2\": null}, \"11\": {\"from_node_id\": \"9\", \"to_node_id\": \"13\", \"b1\": null, \"b2\": null}, \"12\": {\"from_node_id\": \"10\", \"to_node_id\": \"13\", \"b1\": null, \"b2\": null}}, \"metabolites\": [{\"bigg_id\": \"CPDQT_31_p\", \"coefficient\": -1.0}, {\"bigg_id\": \"CPD_19477_p\", \"coefficient\": 1.0}, {\"bigg_id\": \"WATER_p\", \"coefficient\": 1.0}]}, \"2\": {\"name\": \"RXN_18185_p\", \"bigg_id\": \"RXN_18185_p\", \"reversibility\": true, \"label_x\": 265.0, \"label_y\": 1625.0, \"gene_reaction_rule\": \"\", \"genes\": [], \"segments\": {\"13\": {\"from_node_id\": \"15\", \"to_node_id\": \"16\", \"b1\": null, \"b2\": null}, \"14\": {\"from_node_id\": \"17\", \"to_node_id\": \"16\", \"b1\": null, \"b2\": null}, \"15\": {\"from_node_id\": \"9\", \"to_node_id\": \"15\", \"b1\": null, \"b2\": null}, \"16\": {\"from_node_id\": \"10\", \"to_node_id\": \"15\", \"b1\": null, \"b2\": null}, \"17\": {\"from_node_id\": \"14\", \"to_node_id\": \"17\", \"b1\": null, \"b2\": null}}, \"metabolites\": [{\"bigg_id\": \"CPD_19477_p\", \"coefficient\": -1.0}, {\"bigg_id\": \"WATER_p\", \"coefficient\": -1.0}, {\"bigg_id\": \"CPDQT_36_p\", \"coefficient\": 1.0}]}, \"3\": {\"name\": \"RXN_18208_p\", \"bigg_id\": \"RXN_18208_p\", \"reversibility\": true, \"label_x\": 265.0, \"label_y\": 2275.0, \"gene_reaction_rule\": \"\", \"genes\": [], \"segments\": {\"18\": {\"from_node_id\": \"22\", \"to_node_id\": \"23\", \"b1\": null, \"b2\": null}, \"19\": {\"from_node_id\": \"24\", \"to_node_id\": \"23\", \"b1\": null, \"b2\": null}, \"20\": {\"from_node_id\": \"14\", \"to_node_id\": \"22\", \"b1\": null, \"b2\": null}, \"21\": {\"from_node_id\": \"18\", \"to_node_id\": \"22\", \"b1\": null, \"b2\": null}, \"22\": {\"from_node_id\": \"19\", \"to_node_id\": \"24\", \"b1\": null, \"b2\": null}, \"23\": {\"from_node_id\": \"20\", \"to_node_id\": \"24\", \"b1\": null, \"b2\": null}, \"24\": {\"from_node_id\": \"21\", \"to_node_id\": \"24\", \"b1\": null, \"b2\": null}}, \"metabolites\": [{\"bigg_id\": \"CPDQT_36_p\", \"coefficient\": -1.0}, {\"bigg_id\": \"NAD_p\", \"coefficient\": -1.0}, {\"bigg_id\": \"CPD_19491_p\", \"coefficient\": 1.0}, {\"bigg_id\": \"NADH_p\", \"coefficient\": 1.0}, {\"bigg_id\": \"PROTON_p\", \"coefficient\": 1.0}]}, \"4\": {\"name\": \"RXN_18209_p\", \"bigg_id\": \"RXN_18209_p\", \"reversibility\": true, \"label_x\": 265.0, \"label_y\": 2925.0, \"gene_reaction_rule\": \"\", \"genes\": [], \"segments\": {\"25\": {\"from_node_id\": \"27\", \"to_node_id\": \"28\", \"b1\": null, \"b2\": null}, \"26\": {\"from_node_id\": \"29\", \"to_node_id\": \"28\", \"b1\": null, \"b2\": null}, \"27\": {\"from_node_id\": \"19\", \"to_node_id\": \"27\", \"b1\": null, \"b2\": null}, \"28\": {\"from_node_id\": \"21\", \"to_node_id\": \"27\", \"b1\": null, \"b2\": null}, \"29\": {\"from_node_id\": \"25\", \"to_node_id\": \"29\", \"b1\": null, \"b2\": null}, \"30\": {\"from_node_id\": \"26\", \"to_node_id\": \"29\", \"b1\": null, \"b2\": null}}, \"metabolites\": [{\"bigg_id\": \"CPD_19491_p\", \"coefficient\": -1.0}, {\"bigg_id\": \"PROTON_p\", \"coefficient\": -1.0}, {\"bigg_id\": \"CARBON_DIOXIDE_p\", \"coefficient\": 1.0}, {\"bigg_id\": \"CPDQT_27_p\", \"coefficient\": 1.0}]}, \"5\": {\"name\": \"RXNQT_4345_p\", \"bigg_id\": \"RXNQT_4345_p\", \"reversibility\": true, \"label_x\": 265.0, \"label_y\": 3575.0, \"gene_reaction_rule\": \"\", \"genes\": [], \"segments\": {\"31\": {\"from_node_id\": \"33\", \"to_node_id\": \"34\", \"b1\": null, \"b2\": null}, \"32\": {\"from_node_id\": \"35\", \"to_node_id\": \"34\", \"b1\": null, \"b2\": null}, \"33\": {\"from_node_id\": \"26\", \"to_node_id\": \"33\", \"b1\": null, \"b2\": null}, \"34\": {\"from_node_id\": \"30\", \"to_node_id\": \"33\", \"b1\": null, \"b2\": null}, \"35\": {\"from_node_id\": \"31\", \"to_node_id\": \"35\", \"b1\": null, \"b2\": null}, \"36\": {\"from_node_id\": \"32\", \"to_node_id\": \"35\", \"b1\": null, \"b2\": null}}, \"metabolites\": [{\"bigg_id\": \"CPDQT_27_p\", \"coefficient\": -1.0}, {\"bigg_id\": \"GLT_p\", \"coefficient\": -1.0}, {\"bigg_id\": \"2_KETOGLUTARATE_p\", \"coefficient\": 1.0}, {\"bigg_id\": \"CPDQT_340_p\", \"coefficient\": 1.0}]}}, \"nodes\": {\"0\": {\"node_type\": \"metabolite\", \"x\": 112.5, \"y\": 30.0, \"label_x\": 122.5, \"label_y\": 20.0, \"bigg_id\": \"2_OXO_5_METHYLTHIOPENTANOIC_ACID_p\", \"name\": \"2_OXO_5_METHYLTHIOPENTANOIC_ACID_p\", \"node_is_primary\": false}, \"1\": {\"node_type\": \"metabolite\", \"x\": 225.0, \"y\": 30.0, \"label_x\": 235.0, \"label_y\": 20.0, \"bigg_id\": \"ACETYL_COA_p\", \"name\": \"ACETYL_COA_p\", \"node_is_primary\": false}, \"2\": {\"node_type\": \"metabolite\", \"x\": 337.5, \"y\": 30.0, \"label_x\": 347.5, \"label_y\": 20.0, \"bigg_id\": \"WATER_p\", \"name\": \"WATER_p\", \"node_is_primary\": false}, \"3\": {\"node_type\": \"metabolite\", \"x\": 112.5, \"y\": 550.0, \"label_x\": 122.5, \"label_y\": 580.0, \"bigg_id\": \"CO_A_p\", \"name\": \"CO_A_p\", \"node_is_primary\": false}, \"4\": {\"node_type\": \"metabolite\", \"x\": 225.0, \"y\": 550.0, \"label_x\": 235.0, \"label_y\": 580.0, \"bigg_id\": \"CPDQT_31_p\", \"name\": \"CPDQT_31_p\", \"node_is_primary\": false}, \"5\": {\"node_type\": \"metabolite\", \"x\": 337.5, \"y\": 550.0, \"label_x\": 347.5, \"label_y\": 580.0, \"bigg_id\": \"PROTON_p\", \"name\": \"PROTON_p\", \"node_is_primary\": false}, \"6\": {\"node_type\": \"multimarker\", \"x\": 225.0, \"y\": 305.0}, \"7\": {\"node_type\": \"midmarker\", \"x\": 225.0, \"y\": 325.0}, \"8\": {\"node_type\": \"multimarker\", \"x\": 225.0, \"y\": 345.0}, \"9\": {\"node_type\": \"metabolite\", \"x\": 150.0, \"y\": 1200.0, \"label_x\": 160.0, \"label_y\": 1230.0, \"bigg_id\": \"CPD_19477_p\", \"name\": \"CPD_19477_p\", \"node_is_primary\": false}, \"10\": {\"node_type\": \"metabolite\", \"x\": 300.0, \"y\": 1200.0, \"label_x\": 310.0, \"label_y\": 1230.0, \"bigg_id\": \"WATER_p\", \"name\": \"WATER_p\", \"node_is_primary\": false}, \"11\": {\"node_type\": \"multimarker\", \"x\": 225.0, \"y\": 955.0}, \"12\": {\"node_type\": \"midmarker\", \"x\": 225.0, \"y\": 975.0}, \"13\": {\"node_type\": \"multimarker\", \"x\": 225.0, \"y\": 995.0}, \"14\": {\"node_type\": \"metabolite\", \"x\": 225.0, \"y\": 1850.0, \"label_x\": 235.0, \"label_y\": 1880.0, \"bigg_id\": \"CPDQT_36_p\", \"name\": \"CPDQT_36_p\", \"node_is_primary\": false}, \"15\": {\"node_type\": \"multimarker\", \"x\": 225.0, \"y\": 1605.0}, \"16\": {\"node_type\": \"midmarker\", \"x\": 225.0, \"y\": 1625.0}, \"17\": {\"node_type\": \"multimarker\", \"x\": 225.0, \"y\": 1645.0}, \"18\": {\"node_type\": \"metabolite\", \"x\": 300.0, \"y\": 1980.0, \"label_x\": 310.0, \"label_y\": 1970.0, \"bigg_id\": \"NAD_p\", \"name\": \"NAD_p\", \"node_is_primary\": false}, \"19\": {\"node_type\": \"metabolite\", \"x\": 112.5, \"y\": 2500.0, \"label_x\": 122.5, \"label_y\": 2530.0, \"bigg_id\": \"CPD_19491_p\", \"name\": \"CPD_19491_p\", \"node_is_primary\": false}, \"20\": {\"node_type\": \"metabolite\", \"x\": 225.0, \"y\": 2500.0, \"label_x\": 235.0, \"label_y\": 2530.0, \"bigg_id\": \"NADH_p\", \"name\": \"NADH_p\", \"node_is_primary\": false}, \"21\": {\"node_type\": \"metabolite\", \"x\": 337.5, \"y\": 2500.0, \"label_x\": 347.5, \"label_y\": 2530.0, \"bigg_id\": \"PROTON_p\", \"name\": \"PROTON_p\", \"node_is_primary\": false}, \"22\": {\"node_type\": \"multimarker\", \"x\": 225.0, \"y\": 2255.0}, \"23\": {\"node_type\": \"midmarker\", \"x\": 225.0, \"y\": 2275.0}, \"24\": {\"node_type\": \"multimarker\", \"x\": 225.0, \"y\": 2295.0}, \"25\": {\"node_type\": \"metabolite\", \"x\": 150.0, \"y\": 3150.0, \"label_x\": 160.0, \"label_y\": 3180.0, \"bigg_id\": \"CARBON_DIOXIDE_p\", \"name\": \"CARBON_DIOXIDE_p\", \"node_is_primary\": false}, \"26\": {\"node_type\": \"metabolite\", \"x\": 300.0, \"y\": 3150.0, \"label_x\": 310.0, \"label_y\": 3180.0, \"bigg_id\": \"CPDQT_27_p\", \"name\": \"CPDQT_27_p\", \"node_is_primary\": false}, \"27\": {\"node_type\": \"multimarker\", \"x\": 225.0, \"y\": 2905.0}, \"28\": {\"node_type\": \"midmarker\", \"x\": 225.0, \"y\": 2925.0}, \"29\": {\"node_type\": \"multimarker\", \"x\": 225.0, \"y\": 2945.0}, \"30\": {\"node_type\": \"metabolite\", \"x\": 300.0, \"y\": 3280.0, \"label_x\": 310.0, \"label_y\": 3270.0, \"bigg_id\": \"GLT_p\", \"name\": \"GLT_p\", \"node_is_primary\": false}, \"31\": {\"node_type\": \"metabolite\", \"x\": 150.0, \"y\": 3800.0, \"label_x\": 160.0, \"label_y\": 3830.0, \"bigg_id\": \"2_KETOGLUTARATE_p\", \"name\": \"2_KETOGLUTARATE_p\", \"node_is_primary\": false}, \"32\": {\"node_type\": \"metabolite\", \"x\": 300.0, \"y\": 3800.0, \"label_x\": 310.0, \"label_y\": 3830.0, \"bigg_id\": \"CPDQT_340_p\", \"name\": \"CPDQT_340_p\", \"node_is_primary\": false}, \"33\": {\"node_type\": \"multimarker\", \"x\": 225.0, \"y\": 3555.0}, \"34\": {\"node_type\": \"midmarker\", \"x\": 225.0, \"y\": 3575.0}, \"35\": {\"node_type\": \"multimarker\", \"x\": 225.0, \"y\": 3595.0}}, \"text_labels\": {}, \"canvas\": {\"x\": 0, \"y\": 0, \"width\": 450, \"height\": 3900}}]",
       "_loaded_model_json": null,
       "allow_building_duplicate_reactions": false,
       "and_method_in_gene_reaction_rule": "mean",
       "canvas_size_and_loc": null,
       "cofactors": [
        "atp",
        "adp",
        "nad",
        "nadh",
        "nadp",
        "nadph",
        "gtp",
        "gdp",
        "h",
        "coa",
        "ump",
        "h2o",
        "ppi"
       ],
       "disabled_buttons": [
        "Clear reaction data",
        "Clear gene data",
        "Clear metabolite data"
       ],
       "embedded_css": null,
       "enable_editing": true,
       "enable_keys": false,
       "enable_keys_with_tooltip": true,
       "enable_search": true,
       "enable_tooltips": false,
       "full_screen_button": {
        "enable_editing": true,
        "enable_keys": true,
        "enable_tooltips": [
         "label"
        ],
        "menu": "all",
        "scroll_behavior": "pan"
       },
       "gene_data": null,
       "gene_font_size": 18,
       "height": 500,
       "hide_all_labels": false,
       "hide_secondary_metabolites": false,
       "highlight_missing": false,
       "identifiers_on_map": "bigg_id",
       "layout": "IPY_MODEL_ec58b757eeeb4127839ebe616c1b4a87",
       "marker_radius": 5,
       "menu": "all",
       "metabolite_compare_style": "log2_fold",
       "metabolite_data": null,
       "metabolite_no_data_color": "#ffffff",
       "metabolite_no_data_size": 10,
       "metabolite_scale": [
        {
         "color": "#fffaf0",
         "size": 20,
         "type": "min"
        },
        {
         "color": "#f1c470",
         "size": 30,
         "type": "median"
        },
        {
         "color": "#800000",
         "size": 40,
         "type": "max"
        }
       ],
       "metabolite_scale_preset": "WhYlRd",
       "metabolite_styles": [
        "color",
        "size",
        "text"
       ],
       "never_ask_before_quit": false,
       "primary_metabolite_radius": 20,
       "reaction_compare_style": "log2_fold",
       "reaction_data": null,
       "reaction_no_data_color": "#dcdcdc",
       "reaction_no_data_size": 8,
       "reaction_scale": [
        {
         "color": "#c8c8c8",
         "size": 12,
         "type": "min"
        },
        {
         "color": "#9696ff",
         "size": 16,
         "type": "value",
         "value": 0.01
        },
        {
         "color": "#209123",
         "size": 20,
         "type": "value",
         "value": 20
        },
        {
         "color": "#ff0000",
         "size": 25,
         "type": "max"
        }
       ],
       "reaction_scale_preset": "GaBuGeRd",
       "reaction_styles": [
        "text"
       ],
       "scroll_behavior": "none",
       "secondary_metabolite_radius": 10,
       "semantic_zoom": null,
       "show_gene_reaction_rules": false,
       "starting_reaction": null,
       "use_3d_transform": false,
       "zoom_to_element": null
      }
     },
     "993f54436d504f179fe44405cb6b641f": {
      "model_module": "escher",
      "model_module_version": "1.7.3",
      "model_name": "EscherMapModel",
      "state": {
       "_loaded_map_json": "[{\"map_name\": \"\", \"map_id\": \"\", \"map_description\": \"\", \"homepage\": \"\", \"schema\": \"https://escher.github.io/escher/jsonschema/1-0-0#\"}, {\"reactions\": {\"0\": {\"name\": \"RXN_11423_c\", \"bigg_id\": \"RXN_11423_c\", \"reversibility\": true, \"label_x\": 226.0, \"label_y\": 45.0, \"gene_reaction_rule\": \"\", \"genes\": [], \"segments\": {\"0\": {\"from_node_id\": \"4\", \"to_node_id\": \"5\", \"b1\": null, \"b2\": null}, \"1\": {\"from_node_id\": \"6\", \"to_node_id\": \"5\", \"b1\": null, \"b2\": null}, \"2\": {\"from_node_id\": \"0\", \"to_node_id\": \"4\", \"b1\": null, \"b2\": null}, \"3\": {\"from_node_id\": \"1\", \"to_node_id\": \"4\", \"b1\": null, \"b2\": null}, \"4\": {\"from_node_id\": \"2\", \"to_node_id\": \"6\", \"b1\": null, \"b2\": null}, \"5\": {\"from_node_id\": \"3\", \"to_node_id\": \"6\", \"b1\": null, \"b2\": null}}, \"metabolites\": [{\"bigg_id\": \"CPD_12392_c\", \"coefficient\": -1.0}, {\"bigg_id\": \"GLUTATHIONE_c\", \"coefficient\": -1.0}, {\"bigg_id\": \"CPD_12393_c\", \"coefficient\": 1.0}, {\"bigg_id\": \"WATER_c\", \"coefficient\": 1.0}]}, \"1\": {\"name\": \"RXN_11431_c\", \"bigg_id\": \"RXN_11431_c\", \"reversibility\": true, \"label_x\": 876.0, \"label_y\": 45.0, \"gene_reaction_rule\": \"\", \"genes\": [], \"segments\": {\"6\": {\"from_node_id\": \"9\", \"to_node_id\": \"10\", \"b1\": null, \"b2\": null}, \"7\": {\"from_node_id\": \"11\", \"to_node_id\": \"10\", \"b1\": null, \"b2\": null}, \"8\": {\"from_node_id\": \"2\", \"to_node_id\": \"9\", \"b1\": null, \"b2\": null}, \"9\": {\"from_node_id\": \"3\", \"to_node_id\": \"9\", \"b1\": null, \"b2\": null}, \"10\": {\"from_node_id\": \"7\", \"to_node_id\": \"11\", \"b1\": null, \"b2\": null}, \"11\": {\"from_node_id\": \"8\", \"to_node_id\": \"11\", \"b1\": null, \"b2\": null}}, \"metabolites\": [{\"bigg_id\": \"CPD_12393_c\", \"coefficient\": -1.0}, {\"bigg_id\": \"WATER_c\", \"coefficient\": -1.0}, {\"bigg_id\": \"CPD_12394_c\", \"coefficient\": 1.0}, {\"bigg_id\": \"GLT_c\", \"coefficient\": 1.0}]}, \"2\": {\"name\": \"RXN_19588_c\", \"bigg_id\": \"RXN_19588_c\", \"reversibility\": true, \"label_x\": 1526.0, \"label_y\": 45.0, \"gene_reaction_rule\": \"\", \"genes\": [], \"segments\": {\"12\": {\"from_node_id\": \"15\", \"to_node_id\": \"16\", \"b1\": null, \"b2\": null}, \"13\": {\"from_node_id\": \"17\", \"to_node_id\": \"16\", \"b1\": null, \"b2\": null}, \"14\": {\"from_node_id\": \"7\", \"to_node_id\": \"15\", \"b1\": null, \"b2\": null}, \"15\": {\"from_node_id\": \"12\", \"to_node_id\": \"15\", \"b1\": null, \"b2\": null}, \"16\": {\"from_node_id\": \"13\", \"to_node_id\": \"17\", \"b1\": null, \"b2\": null}, \"17\": {\"from_node_id\": \"14\", \"to_node_id\": \"17\", \"b1\": null, \"b2\": null}}, \"metabolites\": [{\"bigg_id\": \"CPD_12394_c\", \"coefficient\": -1.0}, {\"bigg_id\": \"WATER_c\", \"coefficient\": -1.0}, {\"bigg_id\": \"CPDQT_406_c\", \"coefficient\": 1.0}, {\"bigg_id\": \"GLY_c\", \"coefficient\": 1.0}]}, \"3\": {\"name\": \"RXNQT_4319_c\", \"bigg_id\": \"RXNQT_4319_c\", \"reversibility\": true, \"label_x\": 2167.0, \"label_y\": 45.0, \"gene_reaction_rule\": \"\", \"genes\": [], \"segments\": {\"18\": {\"from_node_id\": \"22\", \"to_node_id\": \"23\", \"b1\": null, \"b2\": null}, \"19\": {\"from_node_id\": \"24\", \"to_node_id\": \"23\", \"b1\": null, \"b2\": null}, \"20\": {\"from_node_id\": \"13\", \"to_node_id\": \"22\", \"b1\": null, \"b2\": null}, \"21\": {\"from_node_id\": \"18\", \"to_node_id\": \"22\", \"b1\": null, \"b2\": null}, \"22\": {\"from_node_id\": \"19\", \"to_node_id\": \"24\", \"b1\": null, \"b2\": null}, \"23\": {\"from_node_id\": \"20\", \"to_node_id\": \"24\", \"b1\": null, \"b2\": null}, \"24\": {\"from_node_id\": \"21\", \"to_node_id\": \"24\", \"b1\": null, \"b2\": null}}, \"metabolites\": [{\"bigg_id\": \"CPDQT_406_c\", \"coefficient\": -1.0}, {\"bigg_id\": \"WATER_c\", \"coefficient\": -1.0}, {\"bigg_id\": \"AMMONIUM_c\", \"coefficient\": 1.0}, {\"bigg_id\": \"CPDQT_411_c\", \"coefficient\": 1.0}, {\"bigg_id\": \"PYRUVATE_c\", \"coefficient\": 1.0}]}, \"4\": {\"name\": \"RXNQT_4324_c\", \"bigg_id\": \"RXNQT_4324_c\", \"reversibility\": true, \"label_x\": 2817.0, \"label_y\": 45.0, \"gene_reaction_rule\": \"\", \"genes\": [], \"segments\": {\"25\": {\"from_node_id\": \"29\", \"to_node_id\": \"30\", \"b1\": null, \"b2\": null}, \"26\": {\"from_node_id\": \"31\", \"to_node_id\": \"30\", \"b1\": null, \"b2\": null}, \"27\": {\"from_node_id\": \"20\", \"to_node_id\": \"29\", \"b1\": null, \"b2\": null}, \"28\": {\"from_node_id\": \"25\", \"to_node_id\": \"29\", \"b1\": null, \"b2\": null}, \"29\": {\"from_node_id\": \"26\", \"to_node_id\": \"31\", \"b1\": null, \"b2\": null}, \"30\": {\"from_node_id\": \"27\", \"to_node_id\": \"31\", \"b1\": null, \"b2\": null}, \"31\": {\"from_node_id\": \"28\", \"to_node_id\": \"31\", \"b1\": null, \"b2\": null}}, \"metabolites\": [{\"bigg_id\": \"CPDQT_411_c\", \"coefficient\": -1.0}, {\"bigg_id\": \"UDP_GLUCOSE_c\", \"coefficient\": -1.0}, {\"bigg_id\": \"CPDQT_416_c\", \"coefficient\": 1.0}, {\"bigg_id\": \"PROTON_c\", \"coefficient\": 1.0}, {\"bigg_id\": \"UDP_c\", \"coefficient\": 1.0}]}, \"5\": {\"name\": \"RXNQT_4329_c\", \"bigg_id\": \"RXNQT_4329_c\", \"reversibility\": true, \"label_x\": 3467.0, \"label_y\": 45.0, \"gene_reaction_rule\": \"\", \"genes\": [], \"segments\": {\"32\": {\"from_node_id\": \"36\", \"to_node_id\": \"37\", \"b1\": null, \"b2\": null}, \"33\": {\"from_node_id\": \"38\", \"to_node_id\": \"37\", \"b1\": null, \"b2\": null}, \"34\": {\"from_node_id\": \"26\", \"to_node_id\": \"36\", \"b1\": null, \"b2\": null}, \"35\": {\"from_node_id\": \"32\", \"to_node_id\": \"36\", \"b1\": null, \"b2\": null}, \"36\": {\"from_node_id\": \"33\", \"to_node_id\": \"38\", \"b1\": null, \"b2\": null}, \"37\": {\"from_node_id\": \"34\", \"to_node_id\": \"38\", \"b1\": null, \"b2\": null}, \"38\": {\"from_node_id\": \"35\", \"to_node_id\": \"38\", \"b1\": null, \"b2\": null}}, \"metabolites\": [{\"bigg_id\": \"CPDQT_416_c\", \"coefficient\": -1.0}, {\"bigg_id\": \"PAPS_c\", \"coefficient\": -1.0}, {\"bigg_id\": \"3_5_ADP_c\", \"coefficient\": 1.0}, {\"bigg_id\": \"CPDQT_281_c\", \"coefficient\": 1.0}, {\"bigg_id\": \"PROTON_c\", \"coefficient\": 1.0}]}, \"6\": {\"name\": \"RXNQT_4334_c\", \"bigg_id\": \"RXNQT_4334_c\", \"reversibility\": true, \"label_x\": 4117.0, \"label_y\": 45.0, \"gene_reaction_rule\": \"\", \"genes\": [], \"segments\": {\"39\": {\"from_node_id\": \"44\", \"to_node_id\": \"45\", \"b1\": null, \"b2\": null}, \"40\": {\"from_node_id\": \"46\", \"to_node_id\": \"45\", \"b1\": null, \"b2\": null}, \"41\": {\"from_node_id\": \"34\", \"to_node_id\": \"44\", \"b1\": null, \"b2\": null}, \"42\": {\"from_node_id\": \"39\", \"to_node_id\": \"44\", \"b1\": null, \"b2\": null}, \"43\": {\"from_node_id\": \"40\", \"to_node_id\": \"44\", \"b1\": null, \"b2\": null}, \"44\": {\"from_node_id\": \"35\", \"to_node_id\": \"44\", \"b1\": null, \"b2\": null}, \"45\": {\"from_node_id\": \"41\", \"to_node_id\": \"46\", \"b1\": null, \"b2\": null}, \"46\": {\"from_node_id\": \"42\", \"to_node_id\": \"46\", \"b1\": null, \"b2\": null}, \"47\": {\"from_node_id\": \"43\", \"to_node_id\": \"46\", \"b1\": null, \"b2\": null}}, \"metabolites\": [{\"bigg_id\": \"CPDQT_281_c\", \"coefficient\": -1.0}, {\"bigg_id\": \"NADPH_c\", \"coefficient\": -1.0}, {\"bigg_id\": \"OXYGEN_MOLECULE_c\", \"coefficient\": -1.0}, {\"bigg_id\": \"PROTON_c\", \"coefficient\": -1.0}, {\"bigg_id\": \"CPDQT_280_c\", \"coefficient\": 1.0}, {\"bigg_id\": \"NADP_c\", \"coefficient\": 1.0}, {\"bigg_id\": \"WATER_c\", \"coefficient\": 1.0}]}}, \"nodes\": {\"0\": {\"node_type\": \"metabolite\", \"x\": 30.0, \"y\": 150.0, \"label_x\": 0.0, \"label_y\": 130.0, \"bigg_id\": \"CPD_12392_c\", \"name\": \"CPD_12392_c\", \"node_is_primary\": false}, \"1\": {\"node_type\": \"metabolite\", \"x\": 30.0, \"y\": 300.0, \"label_x\": 0.0, \"label_y\": 280.0, \"bigg_id\": \"GLUTATHIONE_c\", \"name\": \"GLUTATHIONE_c\", \"node_is_primary\": false}, \"2\": {\"node_type\": \"metabolite\", \"x\": 550.0, \"y\": 150.0, \"label_x\": 520.0, \"label_y\": 130.0, \"bigg_id\": \"CPD_12393_c\", \"name\": \"CPD_12393_c\", \"node_is_primary\": false}, \"3\": {\"node_type\": \"metabolite\", \"x\": 550.0, \"y\": 300.0, \"label_x\": 520.0, \"label_y\": 280.0, \"bigg_id\": \"WATER_c\", \"name\": \"WATER_c\", \"node_is_primary\": false}, \"4\": {\"node_type\": \"multimarker\", \"x\": 335.0, \"y\": 225.0}, \"5\": {\"node_type\": \"midmarker\", \"x\": 355.0, \"y\": 225.0}, \"6\": {\"node_type\": \"multimarker\", \"x\": 375.0, \"y\": 225.0}, \"7\": {\"node_type\": \"metabolite\", \"x\": 1200.0, \"y\": 150.0, \"label_x\": 1170.0, \"label_y\": 130.0, \"bigg_id\": \"CPD_12394_c\", \"name\": \"CPD_12394_c\", \"node_is_primary\": false}, \"8\": {\"node_type\": \"metabolite\", \"x\": 1200.0, \"y\": 300.0, \"label_x\": 1170.0, \"label_y\": 280.0, \"bigg_id\": \"GLT_c\", \"name\": \"GLT_c\", \"node_is_primary\": false}, \"9\": {\"node_type\": \"multimarker\", \"x\": 985.0, \"y\": 225.0}, \"10\": {\"node_type\": \"midmarker\", \"x\": 1005.0, \"y\": 225.0}, \"11\": {\"node_type\": \"multimarker\", \"x\": 1025.0, \"y\": 225.0}, \"12\": {\"node_type\": \"metabolite\", \"x\": 1330.0, \"y\": 300.0, \"label_x\": 1300.0, \"label_y\": 280.0, \"bigg_id\": \"WATER_c\", \"name\": \"WATER_c\", \"node_is_primary\": false}, \"13\": {\"node_type\": \"metabolite\", \"x\": 1850.0, \"y\": 150.0, \"label_x\": 1820.0, \"label_y\": 130.0, \"bigg_id\": \"CPDQT_406_c\", \"name\": \"CPDQT_406_c\", \"node_is_primary\": false}, \"14\": {\"node_type\": \"metabolite\", \"x\": 1850.0, \"y\": 300.0, \"label_x\": 1820.0, \"label_y\": 280.0, \"bigg_id\": \"GLY_c\", \"name\": \"GLY_c\", \"node_is_primary\": false}, \"15\": {\"node_type\": \"multimarker\", \"x\": 1635.0, \"y\": 225.0}, \"16\": {\"node_type\": \"midmarker\", \"x\": 1655.0, \"y\": 225.0}, \"17\": {\"node_type\": \"multimarker\", \"x\": 1675.0, \"y\": 225.0}, \"18\": {\"node_type\": \"metabolite\", \"x\": 1980.0, \"y\": 300.0, \"label_x\": 1950.0, \"label_y\": 280.0, \"bigg_id\": \"WATER_c\", \"name\": \"WATER_c\", \"node_is_primary\": false}, \"19\": {\"node_type\": \"metabolite\", \"x\": 2500.0, \"y\": 112.5, \"label_x\": 2470.0, \"label_y\": 92.5, \"bigg_id\": \"AMMONIUM_c\", \"name\": \"AMMONIUM_c\", \"node_is_primary\": false}, \"20\": {\"node_type\": \"metabolite\", \"x\": 2500.0, \"y\": 225.0, \"label_x\": 2470.0, \"label_y\": 205.0, \"bigg_id\": \"CPDQT_411_c\", \"name\": \"CPDQT_411_c\", \"node_is_primary\": false}, \"21\": {\"node_type\": \"metabolite\", \"x\": 2500.0, \"y\": 337.5, \"label_x\": 2470.0, \"label_y\": 317.5, \"bigg_id\": \"PYRUVATE_c\", \"name\": \"PYRUVATE_c\", \"node_is_primary\": false}, \"22\": {\"node_type\": \"multimarker\", \"x\": 2285.0, \"y\": 225.0}, \"23\": {\"node_type\": \"midmarker\", \"x\": 2305.0, \"y\": 225.0}, \"24\": {\"node_type\": \"multimarker\", \"x\": 2325.0, \"y\": 225.0}, \"25\": {\"node_type\": \"metabolite\", \"x\": 2630.0, \"y\": 300.0, \"label_x\": 2600.0, \"label_y\": 280.0, \"bigg_id\": \"UDP_GLUCOSE_c\", \"name\": \"UDP_GLUCOSE_c\", \"node_is_primary\": false}, \"26\": {\"node_type\": \"metabolite\", \"x\": 3150.0, \"y\": 112.5, \"label_x\": 3120.0, \"label_y\": 92.5, \"bigg_id\": \"CPDQT_416_c\", \"name\": \"CPDQT_416_c\", \"node_is_primary\": false}, \"27\": {\"node_type\": \"metabolite\", \"x\": 3150.0, \"y\": 225.0, \"label_x\": 3120.0, \"label_y\": 205.0, \"bigg_id\": \"PROTON_c\", \"name\": \"PROTON_c\", \"node_is_primary\": false}, \"28\": {\"node_type\": \"metabolite\", \"x\": 3150.0, \"y\": 337.5, \"label_x\": 3120.0, \"label_y\": 317.5, \"bigg_id\": \"UDP_c\", \"name\": \"UDP_c\", \"node_is_primary\": false}, \"29\": {\"node_type\": \"multimarker\", \"x\": 2935.0, \"y\": 225.0}, \"30\": {\"node_type\": \"midmarker\", \"x\": 2955.0, \"y\": 225.0}, \"31\": {\"node_type\": \"multimarker\", \"x\": 2975.0, \"y\": 225.0}, \"32\": {\"node_type\": \"metabolite\", \"x\": 3280.0, \"y\": 300.0, \"label_x\": 3250.0, \"label_y\": 280.0, \"bigg_id\": \"PAPS_c\", \"name\": \"PAPS_c\", \"node_is_primary\": false}, \"33\": {\"node_type\": \"metabolite\", \"x\": 3800.0, \"y\": 112.5, \"label_x\": 3770.0, \"label_y\": 92.5, \"bigg_id\": \"3_5_ADP_c\", \"name\": \"3_5_ADP_c\", \"node_is_primary\": false}, \"34\": {\"node_type\": \"metabolite\", \"x\": 3800.0, \"y\": 225.0, \"label_x\": 3770.0, \"label_y\": 205.0, \"bigg_id\": \"CPDQT_281_c\", \"name\": \"CPDQT_281_c\", \"node_is_primary\": false}, \"35\": {\"node_type\": \"metabolite\", \"x\": 3800.0, \"y\": 337.5, \"label_x\": 3770.0, \"label_y\": 317.5, \"bigg_id\": \"PROTON_c\", \"name\": \"PROTON_c\", \"node_is_primary\": false}, \"36\": {\"node_type\": \"multimarker\", \"x\": 3585.0, \"y\": 225.0}, \"37\": {\"node_type\": \"midmarker\", \"x\": 3605.0, \"y\": 225.0}, \"38\": {\"node_type\": \"multimarker\", \"x\": 3625.0, \"y\": 225.0}, \"39\": {\"node_type\": \"metabolite\", \"x\": 3930.0, \"y\": 180.0, \"label_x\": 3900.0, \"label_y\": 160.0, \"bigg_id\": \"NADPH_c\", \"name\": \"NADPH_c\", \"node_is_primary\": false}, \"40\": {\"node_type\": \"metabolite\", \"x\": 3930.0, \"y\": 270.0, \"label_x\": 3900.0, \"label_y\": 250.0, \"bigg_id\": \"OXYGEN_MOLECULE_c\", \"name\": \"OXYGEN_MOLECULE_c\", \"node_is_primary\": false}, \"41\": {\"node_type\": \"metabolite\", \"x\": 4450.0, \"y\": 112.5, \"label_x\": 4420.0, \"label_y\": 92.5, \"bigg_id\": \"CPDQT_280_c\", \"name\": \"CPDQT_280_c\", \"node_is_primary\": false}, \"42\": {\"node_type\": \"metabolite\", \"x\": 4450.0, \"y\": 225.0, \"label_x\": 4420.0, \"label_y\": 205.0, \"bigg_id\": \"NADP_c\", \"name\": \"NADP_c\", \"node_is_primary\": false}, \"43\": {\"node_type\": \"metabolite\", \"x\": 4450.0, \"y\": 337.5, \"label_x\": 4420.0, \"label_y\": 317.5, \"bigg_id\": \"WATER_c\", \"name\": \"WATER_c\", \"node_is_primary\": false}, \"44\": {\"node_type\": \"multimarker\", \"x\": 4235.0, \"y\": 225.0}, \"45\": {\"node_type\": \"midmarker\", \"x\": 4255.0, \"y\": 225.0}, \"46\": {\"node_type\": \"multimarker\", \"x\": 4275.0, \"y\": 225.0}}, \"text_labels\": {}, \"canvas\": {\"x\": 0, \"y\": 0, \"width\": 4550, \"height\": 450}}]",
       "_loaded_model_json": null,
       "allow_building_duplicate_reactions": false,
       "and_method_in_gene_reaction_rule": "mean",
       "canvas_size_and_loc": null,
       "cofactors": [
        "atp",
        "adp",
        "nad",
        "nadh",
        "nadp",
        "nadph",
        "gtp",
        "gdp",
        "h",
        "coa",
        "ump",
        "h2o",
        "ppi"
       ],
       "disabled_buttons": [
        "Clear reaction data",
        "Clear gene data",
        "Clear metabolite data"
       ],
       "embedded_css": null,
       "enable_editing": true,
       "enable_keys": false,
       "enable_keys_with_tooltip": true,
       "enable_search": true,
       "enable_tooltips": false,
       "full_screen_button": {
        "enable_editing": true,
        "enable_keys": true,
        "enable_tooltips": [
         "label"
        ],
        "menu": "all",
        "scroll_behavior": "pan"
       },
       "gene_data": null,
       "gene_font_size": 18,
       "height": 500,
       "hide_all_labels": false,
       "hide_secondary_metabolites": false,
       "highlight_missing": false,
       "identifiers_on_map": "bigg_id",
       "layout": "IPY_MODEL_c85797b09cae4e9c9c13714599477ddc",
       "marker_radius": 5,
       "menu": "all",
       "metabolite_compare_style": "log2_fold",
       "metabolite_data": null,
       "metabolite_no_data_color": "#ffffff",
       "metabolite_no_data_size": 10,
       "metabolite_scale": [
        {
         "color": "#fffaf0",
         "size": 20,
         "type": "min"
        },
        {
         "color": "#f1c470",
         "size": 30,
         "type": "median"
        },
        {
         "color": "#800000",
         "size": 40,
         "type": "max"
        }
       ],
       "metabolite_scale_preset": "WhYlRd",
       "metabolite_styles": [
        "color",
        "size",
        "text"
       ],
       "never_ask_before_quit": false,
       "primary_metabolite_radius": 20,
       "reaction_compare_style": "log2_fold",
       "reaction_data": null,
       "reaction_no_data_color": "#dcdcdc",
       "reaction_no_data_size": 8,
       "reaction_scale": [
        {
         "color": "#c8c8c8",
         "size": 12,
         "type": "min"
        },
        {
         "color": "#9696ff",
         "size": 16,
         "type": "value",
         "value": 0.01
        },
        {
         "color": "#209123",
         "size": 20,
         "type": "value",
         "value": 20
        },
        {
         "color": "#ff0000",
         "size": 25,
         "type": "max"
        }
       ],
       "reaction_scale_preset": "GaBuGeRd",
       "reaction_styles": [
        "text"
       ],
       "scroll_behavior": "none",
       "secondary_metabolite_radius": 10,
       "semantic_zoom": null,
       "show_gene_reaction_rules": false,
       "starting_reaction": null,
       "use_3d_transform": false,
       "zoom_to_element": null
      }
     },
     "c85797b09cae4e9c9c13714599477ddc": {
      "model_module": "@jupyter-widgets/base",
      "model_module_version": "1.2.0",
      "model_name": "LayoutModel",
      "state": {}
     },
     "da9c56899004479d9cce998fd7327f44": {
      "model_module": "@jupyter-widgets/base",
      "model_module_version": "1.2.0",
      "model_name": "LayoutModel",
      "state": {}
     },
     "ec58b757eeeb4127839ebe616c1b4a87": {
      "model_module": "@jupyter-widgets/base",
      "model_module_version": "1.2.0",
      "model_name": "LayoutModel",
      "state": {}
     },
     "fe5e36c31e184df0b946bf0a487a48b9": {
      "model_module": "escher",
      "model_module_version": "1.7.3",
      "model_name": "EscherMapModel",
      "state": {
       "_loaded_map_json": "[{\"map_name\": \"\", \"map_id\": \"\", \"map_description\": \"\", \"homepage\": \"\", \"schema\": \"https://escher.github.io/escher/jsonschema/1-0-0#\"}, {\"reactions\": {\"0\": {\"name\": \"RXN_2202_p\", \"bigg_id\": \"RXN_2202_p\", \"reversibility\": true, \"label_x\": 235.0, \"label_y\": 45.0, \"gene_reaction_rule\": \"\", \"genes\": [], \"segments\": {\"0\": {\"from_node_id\": \"6\", \"to_node_id\": \"7\", \"b1\": null, \"b2\": null}, \"1\": {\"from_node_id\": \"8\", \"to_node_id\": \"7\", \"b1\": null, \"b2\": null}, \"2\": {\"from_node_id\": \"0\", \"to_node_id\": \"6\", \"b1\": null, \"b2\": null}, \"3\": {\"from_node_id\": \"1\", \"to_node_id\": \"6\", \"b1\": null, \"b2\": null}, \"4\": {\"from_node_id\": \"2\", \"to_node_id\": \"6\", \"b1\": null, \"b2\": null}, \"5\": {\"from_node_id\": \"3\", \"to_node_id\": \"8\", \"b1\": null, \"b2\": null}, \"6\": {\"from_node_id\": \"4\", \"to_node_id\": \"8\", \"b1\": null, \"b2\": null}, \"7\": {\"from_node_id\": \"5\", \"to_node_id\": \"8\", \"b1\": null, \"b2\": null}}, \"metabolites\": [{\"bigg_id\": \"ACETYL_COA_p\", \"coefficient\": -1.0}, {\"bigg_id\": \"CPD_479_p\", \"coefficient\": -1.0}, {\"bigg_id\": \"WATER_p\", \"coefficient\": -1.0}, {\"bigg_id\": \"2_2_METHYLTHIOETHYLMALIC_ACID_p\", \"coefficient\": 1.0}, {\"bigg_id\": \"CO_A_p\", \"coefficient\": 1.0}, {\"bigg_id\": \"PROTON_p\", \"coefficient\": 1.0}]}, \"1\": {\"name\": \"RXN_18182_p\", \"bigg_id\": \"RXN_18182_p\", \"reversibility\": true, \"label_x\": 876.0, \"label_y\": 45.0, \"gene_reaction_rule\": \"\", \"genes\": [], \"segments\": {\"8\": {\"from_node_id\": \"11\", \"to_node_id\": \"12\", \"b1\": null, \"b2\": null}, \"9\": {\"from_node_id\": \"13\", \"to_node_id\": \"12\", \"b1\": null, \"b2\": null}, \"10\": {\"from_node_id\": \"3\", \"to_node_id\": \"11\", \"b1\": null, \"b2\": null}, \"11\": {\"from_node_id\": \"9\", \"to_node_id\": \"13\", \"b1\": null, \"b2\": null}, \"12\": {\"from_node_id\": \"10\", \"to_node_id\": \"13\", \"b1\": null, \"b2\": null}}, \"metabolites\": [{\"bigg_id\": \"2_2_METHYLTHIOETHYLMALIC_ACID_p\", \"coefficient\": -1.0}, {\"bigg_id\": \"CPD_19476_p\", \"coefficient\": 1.0}, {\"bigg_id\": \"WATER_p\", \"coefficient\": 1.0}]}, \"2\": {\"name\": \"RXN_18183_p\", \"bigg_id\": \"RXN_18183_p\", \"reversibility\": true, \"label_x\": 1526.0, \"label_y\": 45.0, \"gene_reaction_rule\": \"\", \"genes\": [], \"segments\": {\"13\": {\"from_node_id\": \"15\", \"to_node_id\": \"16\", \"b1\": null, \"b2\": null}, \"14\": {\"from_node_id\": \"17\", \"to_node_id\": \"16\", \"b1\": null, \"b2\": null}, \"15\": {\"from_node_id\": \"9\", \"to_node_id\": \"15\", \"b1\": null, \"b2\": null}, \"16\": {\"from_node_id\": \"10\", \"to_node_id\": \"15\", \"b1\": null, \"b2\": null}, \"17\": {\"from_node_id\": \"14\", \"to_node_id\": \"17\", \"b1\": null, \"b2\": null}}, \"metabolites\": [{\"bigg_id\": \"CPD_19476_p\", \"coefficient\": -1.0}, {\"bigg_id\": \"WATER_p\", \"coefficient\": -1.0}, {\"bigg_id\": \"3_2_METHYLTHIOETHYLMALIC_ACID_p\", \"coefficient\": 1.0}]}, \"3\": {\"name\": \"RXN_2204_p\", \"bigg_id\": \"RXN_2204_p\", \"reversibility\": true, \"label_x\": 2185.0, \"label_y\": 45.0, \"gene_reaction_rule\": \"\", \"genes\": [], \"segments\": {\"18\": {\"from_node_id\": \"22\", \"to_node_id\": \"23\", \"b1\": null, \"b2\": null}, \"19\": {\"from_node_id\": \"24\", \"to_node_id\": \"23\", \"b1\": null, \"b2\": null}, \"20\": {\"from_node_id\": \"14\", \"to_node_id\": \"22\", \"b1\": null, \"b2\": null}, \"21\": {\"from_node_id\": \"18\", \"to_node_id\": \"22\", \"b1\": null, \"b2\": null}, \"22\": {\"from_node_id\": \"19\", \"to_node_id\": \"24\", \"b1\": null, \"b2\": null}, \"23\": {\"from_node_id\": \"20\", \"to_node_id\": \"24\", \"b1\": null, \"b2\": null}, \"24\": {\"from_node_id\": \"21\", \"to_node_id\": \"24\", \"b1\": null, \"b2\": null}}, \"metabolites\": [{\"bigg_id\": \"3_2_METHYLTHIOETHYLMALIC_ACID_p\", \"coefficient\": -1.0}, {\"bigg_id\": \"NAD_p\", \"coefficient\": -1.0}, {\"bigg_id\": \"CPD_19486_p\", \"coefficient\": 1.0}, {\"bigg_id\": \"NADH_p\", \"coefficient\": 1.0}, {\"bigg_id\": \"PROTON_p\", \"coefficient\": 1.0}]}, \"4\": {\"name\": \"RXN_18198_p\", \"bigg_id\": \"RXN_18198_p\", \"reversibility\": true, \"label_x\": 2826.0, \"label_y\": 45.0, \"gene_reaction_rule\": \"\", \"genes\": [], \"segments\": {\"25\": {\"from_node_id\": \"27\", \"to_node_id\": \"28\", \"b1\": null, \"b2\": null}, \"26\": {\"from_node_id\": \"29\", \"to_node_id\": \"28\", \"b1\": null, \"b2\": null}, \"27\": {\"from_node_id\": \"19\", \"to_node_id\": \"27\", \"b1\": null, \"b2\": null}, \"28\": {\"from_node_id\": \"21\", \"to_node_id\": \"27\", \"b1\": null, \"b2\": null}, \"29\": {\"from_node_id\": \"25\", \"to_node_id\": \"29\", \"b1\": null, \"b2\": null}, \"30\": {\"from_node_id\": \"26\", \"to_node_id\": \"29\", \"b1\": null, \"b2\": null}}, \"metabolites\": [{\"bigg_id\": \"CPD_19486_p\", \"coefficient\": -1.0}, {\"bigg_id\": \"PROTON_p\", \"coefficient\": -1.0}, {\"bigg_id\": \"2_OXO_5_METHYLTHIOPENTANOIC_ACID_p\", \"coefficient\": 1.0}, {\"bigg_id\": \"CARBON_DIOXIDE_p\", \"coefficient\": 1.0}]}, \"5\": {\"name\": \"RXN_2205_p\", \"bigg_id\": \"RXN_2205_p\", \"reversibility\": true, \"label_x\": 3485.0, \"label_y\": 45.0, \"gene_reaction_rule\": \"\", \"genes\": [], \"segments\": {\"31\": {\"from_node_id\": \"33\", \"to_node_id\": \"34\", \"b1\": null, \"b2\": null}, \"32\": {\"from_node_id\": \"35\", \"to_node_id\": \"34\", \"b1\": null, \"b2\": null}, \"33\": {\"from_node_id\": \"25\", \"to_node_id\": \"33\", \"b1\": null, \"b2\": null}, \"34\": {\"from_node_id\": \"30\", \"to_node_id\": \"33\", \"b1\": null, \"b2\": null}, \"35\": {\"from_node_id\": \"31\", \"to_node_id\": \"35\", \"b1\": null, \"b2\": null}, \"36\": {\"from_node_id\": \"32\", \"to_node_id\": \"35\", \"b1\": null, \"b2\": null}}, \"metabolites\": [{\"bigg_id\": \"2_OXO_5_METHYLTHIOPENTANOIC_ACID_p\", \"coefficient\": -1.0}, {\"bigg_id\": \"GLT_p\", \"coefficient\": -1.0}, {\"bigg_id\": \"2_KETOGLUTARATE_p\", \"coefficient\": 1.0}, {\"bigg_id\": \"HOMOMETHIONINE_p\", \"coefficient\": 1.0}]}}, \"nodes\": {\"0\": {\"node_type\": \"metabolite\", \"x\": 30.0, \"y\": 112.5, \"label_x\": 0.0, \"label_y\": 92.5, \"bigg_id\": \"ACETYL_COA_p\", \"name\": \"ACETYL_COA_p\", \"node_is_primary\": false}, \"1\": {\"node_type\": \"metabolite\", \"x\": 30.0, \"y\": 225.0, \"label_x\": 0.0, \"label_y\": 205.0, \"bigg_id\": \"CPD_479_p\", \"name\": \"CPD_479_p\", \"node_is_primary\": false}, \"2\": {\"node_type\": \"metabolite\", \"x\": 30.0, \"y\": 337.5, \"label_x\": 0.0, \"label_y\": 317.5, \"bigg_id\": \"WATER_p\", \"name\": \"WATER_p\", \"node_is_primary\": false}, \"3\": {\"node_type\": \"metabolite\", \"x\": 550.0, \"y\": 112.5, \"label_x\": 520.0, \"label_y\": 92.5, \"bigg_id\": \"2_2_METHYLTHIOETHYLMALIC_ACID_p\", \"name\": \"2_2_METHYLTHIOETHYLMALIC_ACID_p\", \"node_is_primary\": false}, \"4\": {\"node_type\": \"metabolite\", \"x\": 550.0, \"y\": 225.0, \"label_x\": 520.0, \"label_y\": 205.0, \"bigg_id\": \"CO_A_p\", \"name\": \"CO_A_p\", \"node_is_primary\": false}, \"5\": {\"node_type\": \"metabolite\", \"x\": 550.0, \"y\": 337.5, \"label_x\": 520.0, \"label_y\": 317.5, \"bigg_id\": \"PROTON_p\", \"name\": \"PROTON_p\", \"node_is_primary\": false}, \"6\": {\"node_type\": \"multimarker\", \"x\": 335.0, \"y\": 225.0}, \"7\": {\"node_type\": \"midmarker\", \"x\": 355.0, \"y\": 225.0}, \"8\": {\"node_type\": \"multimarker\", \"x\": 375.0, \"y\": 225.0}, \"9\": {\"node_type\": \"metabolite\", \"x\": 1200.0, \"y\": 150.0, \"label_x\": 1170.0, \"label_y\": 130.0, \"bigg_id\": \"CPD_19476_p\", \"name\": \"CPD_19476_p\", \"node_is_primary\": false}, \"10\": {\"node_type\": \"metabolite\", \"x\": 1200.0, \"y\": 300.0, \"label_x\": 1170.0, \"label_y\": 280.0, \"bigg_id\": \"WATER_p\", \"name\": \"WATER_p\", \"node_is_primary\": false}, \"11\": {\"node_type\": \"multimarker\", \"x\": 985.0, \"y\": 225.0}, \"12\": {\"node_type\": \"midmarker\", \"x\": 1005.0, \"y\": 225.0}, \"13\": {\"node_type\": \"multimarker\", \"x\": 1025.0, \"y\": 225.0}, \"14\": {\"node_type\": \"metabolite\", \"x\": 1850.0, \"y\": 225.0, \"label_x\": 1820.0, \"label_y\": 205.0, \"bigg_id\": \"3_2_METHYLTHIOETHYLMALIC_ACID_p\", \"name\": \"3_2_METHYLTHIOETHYLMALIC_ACID_p\", \"node_is_primary\": false}, \"15\": {\"node_type\": \"multimarker\", \"x\": 1635.0, \"y\": 225.0}, \"16\": {\"node_type\": \"midmarker\", \"x\": 1655.0, \"y\": 225.0}, \"17\": {\"node_type\": \"multimarker\", \"x\": 1675.0, \"y\": 225.0}, \"18\": {\"node_type\": \"metabolite\", \"x\": 1980.0, \"y\": 300.0, \"label_x\": 1950.0, \"label_y\": 280.0, \"bigg_id\": \"NAD_p\", \"name\": \"NAD_p\", \"node_is_primary\": false}, \"19\": {\"node_type\": \"metabolite\", \"x\": 2500.0, \"y\": 112.5, \"label_x\": 2470.0, \"label_y\": 92.5, \"bigg_id\": \"CPD_19486_p\", \"name\": \"CPD_19486_p\", \"node_is_primary\": false}, \"20\": {\"node_type\": \"metabolite\", \"x\": 2500.0, \"y\": 225.0, \"label_x\": 2470.0, \"label_y\": 205.0, \"bigg_id\": \"NADH_p\", \"name\": \"NADH_p\", \"node_is_primary\": false}, \"21\": {\"node_type\": \"metabolite\", \"x\": 2500.0, \"y\": 337.5, \"label_x\": 2470.0, \"label_y\": 317.5, \"bigg_id\": \"PROTON_p\", \"name\": \"PROTON_p\", \"node_is_primary\": false}, \"22\": {\"node_type\": \"multimarker\", \"x\": 2285.0, \"y\": 225.0}, \"23\": {\"node_type\": \"midmarker\", \"x\": 2305.0, \"y\": 225.0}, \"24\": {\"node_type\": \"multimarker\", \"x\": 2325.0, \"y\": 225.0}, \"25\": {\"node_type\": \"metabolite\", \"x\": 3150.0, \"y\": 150.0, \"label_x\": 3120.0, \"label_y\": 130.0, \"bigg_id\": \"2_OXO_5_METHYLTHIOPENTANOIC_ACID_p\", \"name\": \"2_OXO_5_METHYLTHIOPENTANOIC_ACID_p\", \"node_is_primary\": false}, \"26\": {\"node_type\": \"metabolite\", \"x\": 3150.0, \"y\": 300.0, \"label_x\": 3120.0, \"label_y\": 280.0, \"bigg_id\": \"CARBON_DIOXIDE_p\", \"name\": \"CARBON_DIOXIDE_p\", \"node_is_primary\": false}, \"27\": {\"node_type\": \"multimarker\", \"x\": 2935.0, \"y\": 225.0}, \"28\": {\"node_type\": \"midmarker\", \"x\": 2955.0, \"y\": 225.0}, \"29\": {\"node_type\": \"multimarker\", \"x\": 2975.0, \"y\": 225.0}, \"30\": {\"node_type\": \"metabolite\", \"x\": 3280.0, \"y\": 300.0, \"label_x\": 3250.0, \"label_y\": 280.0, \"bigg_id\": \"GLT_p\", \"name\": \"GLT_p\", \"node_is_primary\": false}, \"31\": {\"node_type\": \"metabolite\", \"x\": 3800.0, \"y\": 150.0, \"label_x\": 3770.0, \"label_y\": 130.0, \"bigg_id\": \"2_KETOGLUTARATE_p\", \"name\": \"2_KETOGLUTARATE_p\", \"node_is_primary\": false}, \"32\": {\"node_type\": \"metabolite\", \"x\": 3800.0, \"y\": 300.0, \"label_x\": 3770.0, \"label_y\": 280.0, \"bigg_id\": \"HOMOMETHIONINE_p\", \"name\": \"HOMOMETHIONINE_p\", \"node_is_primary\": false}, \"33\": {\"node_type\": \"multimarker\", \"x\": 3585.0, \"y\": 225.0}, \"34\": {\"node_type\": \"midmarker\", \"x\": 3605.0, \"y\": 225.0}, \"35\": {\"node_type\": \"multimarker\", \"x\": 3625.0, \"y\": 225.0}}, \"text_labels\": {}, \"canvas\": {\"x\": 0, \"y\": 0, \"width\": 3900, \"height\": 450}}]",
       "_loaded_model_json": null,
       "allow_building_duplicate_reactions": false,
       "and_method_in_gene_reaction_rule": "mean",
       "canvas_size_and_loc": null,
       "cofactors": [
        "atp",
        "adp",
        "nad",
        "nadh",
        "nadp",
        "nadph",
        "gtp",
        "gdp",
        "h",
        "coa",
        "ump",
        "h2o",
        "ppi"
       ],
       "disabled_buttons": [
        "Clear reaction data",
        "Clear gene data",
        "Clear metabolite data"
       ],
       "embedded_css": null,
       "enable_editing": true,
       "enable_keys": false,
       "enable_keys_with_tooltip": true,
       "enable_search": true,
       "enable_tooltips": false,
       "full_screen_button": {
        "enable_editing": true,
        "enable_keys": true,
        "enable_tooltips": [
         "label"
        ],
        "menu": "all",
        "scroll_behavior": "pan"
       },
       "gene_data": null,
       "gene_font_size": 18,
       "height": 500,
       "hide_all_labels": false,
       "hide_secondary_metabolites": false,
       "highlight_missing": false,
       "identifiers_on_map": "bigg_id",
       "layout": "IPY_MODEL_4ba75e901a374108af2fd11d68f9631f",
       "marker_radius": 5,
       "menu": "all",
       "metabolite_compare_style": "log2_fold",
       "metabolite_data": null,
       "metabolite_no_data_color": "#ffffff",
       "metabolite_no_data_size": 10,
       "metabolite_scale": [
        {
         "color": "#fffaf0",
         "size": 20,
         "type": "min"
        },
        {
         "color": "#f1c470",
         "size": 30,
         "type": "median"
        },
        {
         "color": "#800000",
         "size": 40,
         "type": "max"
        }
       ],
       "metabolite_scale_preset": "WhYlRd",
       "metabolite_styles": [
        "color",
        "size",
        "text"
       ],
       "never_ask_before_quit": false,
       "primary_metabolite_radius": 20,
       "reaction_compare_style": "log2_fold",
       "reaction_data": null,
       "reaction_no_data_color": "#dcdcdc",
       "reaction_no_data_size": 8,
       "reaction_scale": [
        {
         "color": "#c8c8c8",
         "size": 12,
         "type": "min"
        },
        {
         "color": "#9696ff",
         "size": 16,
         "type": "value",
         "value": 0.01
        },
        {
         "color": "#209123",
         "size": 20,
         "type": "value",
         "value": 20
        },
        {
         "color": "#ff0000",
         "size": 25,
         "type": "max"
        }
       ],
       "reaction_scale_preset": "GaBuGeRd",
       "reaction_styles": [
        "text"
       ],
       "scroll_behavior": "none",
       "secondary_metabolite_radius": 10,
       "semantic_zoom": null,
       "show_gene_reaction_rules": false,
       "starting_reaction": null,
       "use_3d_transform": false,
       "zoom_to_element": null
      }
     }
    },
    "version_major": 2,
    "version_minor": 0
   }
  }
 },
 "nbformat": 4,
 "nbformat_minor": 4
}
