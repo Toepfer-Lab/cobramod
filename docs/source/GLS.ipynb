{
 "cells": [
  {
   "cell_type": "markdown",
   "metadata": {
    "id": "6HYfxAbMWEe9"
   },
   "source": [
    "# Test case: Glucosinolates\n",
    "\n",
    "For this example, we will use the model \"PlantCoreMetabolism_v2_0_0.xml\"\n",
    "derived from the article *Flux balance analysis of metabolism during growth by\n",
    "osmotic cell expansion and its application to tomato fruits*. The model got its\n",
    "metabolites' protonation states removed.\n",
    "\n",
    "-----\n",
    "**GOAL:** We will calculate the metabolic cost for synthesizing three specialized\n",
    "compounds called *glucosinolates*, which give the typical taste for plants from\n",
    "the Brassicacea family.\n",
    "\n",
    "The glucosinolates to insert are:  \n",
    "\n",
    "<table>\n",
    "<thead>\n",
    "<tr>\n",
    "<th>Trivial name</th>\n",
    "<th>Compound name</th>\n",
    "<th>Biocyc identifier</th>\n",
    "</tr>\n",
    "</thead>\n",
    "<tbody>\n",
    "<tr>\n",
    "<td>3-methylsulfinylpropyl</td>\n",
    "<td>glucoiberin</td>\n",
    "<td>3-METHYLSULFINYLPROPYL-GLUCOSINOLATE</td>\n",
    "</tr>\n",
    "<tr>\n",
    "<td>4-methylthiobutyl</td>\n",
    "<td>glucoerucin</td>\n",
    "<td>CPDQT-281</td>\n",
    "</tr>\n",
    "<tr>\n",
    "<td>4-methylsulfinylbutyl</td>\n",
    "<td>glucoraphanin</td>\n",
    "<td>CPDQT-280</td>\n",
    "</tr>\n",
    "</tbody>\n",
    "</table>\n",
    "\n",
    "\n",
    "Glucoerucin and glucoraphanin are derived from dihomomethionine, while glucoiberin\n",
    "is obtained from homomethionine\n",
    "\n",
    "------\n",
    "\n",
    "First, we will load the function read_sbml_model from COBRApy and the native\n",
    "filesystem path module from python. Then, we will load two functions from\n",
    "CobraMod, add_pathway and add_reactions"
   ]
  },
  {
   "cell_type": "code",
   "execution_count": 1,
   "metadata": {
    "id": "vtxNQgFcWEe_",
    "scrolled": true
   },
   "outputs": [
    {
     "name": "stdout",
     "output_type": "stream",
     "text": [
      "Scaling...\n",
      " A: min|aij| =  1.000e+00  max|aij| =  1.000e+00  ratio =  1.000e+00\n",
      "Problem data seem to be well scaled\n"
     ]
    }
   ],
   "source": [
    "from pathlib import Path\n",
    "\n",
    "from cobra.io import read_sbml_model\n",
    "\n",
    "from cobramod import add_pathway, add_reactions, __version__"
   ]
  },
  {
   "cell_type": "code",
   "execution_count": 2,
   "metadata": {
    "colab": {
     "base_uri": "https://localhost:8080/"
    },
    "id": "R9ERmeJOWEfB",
    "outputId": "2a720624-dc69-4b1d-9d63-0c9058386ba0",
    "scrolled": false
   },
   "outputs": [
    {
     "name": "stdout",
     "output_type": "stream",
     "text": [
      "0.5.4\n"
     ]
    }
   ],
   "source": [
    "print(__version__)"
   ]
  },
  {
   "cell_type": "markdown",
   "metadata": {
    "id": "RIOYgCh9WEfC"
   },
   "source": [
    "We will load the model and save it as `main_model`. However, to avoid overwriting\n",
    "the main model, we will use a copy, which is going to be used throughout the\n",
    "whole file. Additionally, we will define the path for the data and the metabolites\n",
    "that we want to ignore when CobraMod performs the non-zero flux test"
   ]
  },
  {
   "cell_type": "code",
   "execution_count": 3,
   "metadata": {
    "id": "cIB0oqDAWEfD"
   },
   "outputs": [],
   "source": [
    "# this object defines the directory for the data\n",
    "dir_data = Path.cwd().joinpath(\"data\")\n",
    "\n",
    "main_model = read_sbml_model(\n",
    "    str(dir_data.joinpath(\"PlantCoreMetabolism_v2_0_0_deprotonated.sbml\"))\n",
    ")\n",
    "\n",
    "# These metabolites will not be used in the non-zero flux test\n",
    "ignore_list = [\n",
    "    \"WATER_c\", \"PROTON_c\", \"OXYGEN_MOLECULE_c\", \"UDP_c\",\n",
    "    \"Pi_p\", \"ADP_p\"\n",
    "]"
   ]
  },
  {
   "cell_type": "markdown",
   "metadata": {
    "id": "iGje0k5EWEfE"
   },
   "source": [
    "The next step is to define our enviroment for our model. Since we are working\n",
    "with a generic model of a plant, it is wise to constrain reactions that would\n",
    "prevent an autotrophic enviroment. In our case we have three boundary reactions to modify:  \n",
    "\n",
    "`Sucrose_tx`, `GLC_tx`: Responsible for sugar intake  \n",
    "`Photon_tx`: Amount of light absorbed"
   ]
  },
  {
   "cell_type": "code",
   "execution_count": 4,
   "metadata": {
    "colab": {
     "base_uri": "https://localhost:8080/",
     "height": 175
    },
    "id": "Mh-P2OTIWEfE",
    "outputId": "d42521cf-5846-4f58-9d0f-d5e5bdf6f967",
    "scrolled": false
   },
   "outputs": [
    {
     "data": {
      "text/html": [
       "<h3>Objective</h3><p>1.0 AraCore_Biomass_tx = 0.31019808176381575</p><h4>Uptake</h4><table border=\"1\" class=\"dataframe\">\n",
       "  <thead>\n",
       "    <tr style=\"text-align: right;\">\n",
       "      <th>Metabolite</th>\n",
       "      <th>Reaction</th>\n",
       "      <th>Flux</th>\n",
       "      <th>C-Number</th>\n",
       "      <th>C-Flux</th>\n",
       "    </tr>\n",
       "  </thead>\n",
       "  <tbody>\n",
       "    <tr>\n",
       "      <td>CARBON_DIOXIDE_e</td>\n",
       "      <td>CO2_tx</td>\n",
       "      <td>26.88</td>\n",
       "      <td>1</td>\n",
       "      <td>100.00%</td>\n",
       "    </tr>\n",
       "    <tr>\n",
       "      <td>CAII_e</td>\n",
       "      <td>Ca_tx</td>\n",
       "      <td>0.273</td>\n",
       "      <td>0</td>\n",
       "      <td>0.00%</td>\n",
       "    </tr>\n",
       "    <tr>\n",
       "      <td>WATER_e</td>\n",
       "      <td>H2O_tx</td>\n",
       "      <td>20.69</td>\n",
       "      <td>0</td>\n",
       "      <td>0.00%</td>\n",
       "    </tr>\n",
       "    <tr>\n",
       "      <td>KI_e</td>\n",
       "      <td>K_tx</td>\n",
       "      <td>0.5584</td>\n",
       "      <td>0</td>\n",
       "      <td>0.00%</td>\n",
       "    </tr>\n",
       "    <tr>\n",
       "      <td>MGII_e</td>\n",
       "      <td>Mg_tx</td>\n",
       "      <td>0.1799</td>\n",
       "      <td>0</td>\n",
       "      <td>0.00%</td>\n",
       "    </tr>\n",
       "    <tr>\n",
       "      <td>AMMONIUM_e</td>\n",
       "      <td>NH4_tx</td>\n",
       "      <td>2.358</td>\n",
       "      <td>0</td>\n",
       "      <td>0.00%</td>\n",
       "    </tr>\n",
       "    <tr>\n",
       "      <td>Photon_e</td>\n",
       "      <td>Photon_tx</td>\n",
       "      <td>250</td>\n",
       "      <td>0</td>\n",
       "      <td>0.00%</td>\n",
       "    </tr>\n",
       "    <tr>\n",
       "      <td>Pi_e</td>\n",
       "      <td>Pi_tx</td>\n",
       "      <td>0.1094</td>\n",
       "      <td>0</td>\n",
       "      <td>0.00%</td>\n",
       "    </tr>\n",
       "    <tr>\n",
       "      <td>SULFATE_e</td>\n",
       "      <td>SO4_tx</td>\n",
       "      <td>0.03371</td>\n",
       "      <td>0</td>\n",
       "      <td>0.00%</td>\n",
       "    </tr>\n",
       "    <tr>\n",
       "      <td>PROTON_c</td>\n",
       "      <td>unlProtHYPO_c</td>\n",
       "      <td>24.47</td>\n",
       "      <td>0</td>\n",
       "      <td>0.00%</td>\n",
       "    </tr>\n",
       "  </tbody>\n",
       "</table><h4>Secretion</h4><table border=\"1\" class=\"dataframe\">\n",
       "  <thead>\n",
       "    <tr style=\"text-align: right;\">\n",
       "      <th>Metabolite</th>\n",
       "      <th>Reaction</th>\n",
       "      <th>Flux</th>\n",
       "      <th>C-Number</th>\n",
       "      <th>C-Flux</th>\n",
       "    </tr>\n",
       "  </thead>\n",
       "  <tbody>\n",
       "    <tr>\n",
       "      <td>OXYGEN_MOLECULE_e</td>\n",
       "      <td>O2_tx</td>\n",
       "      <td>-28.43</td>\n",
       "      <td>0</td>\n",
       "      <td>0.00%</td>\n",
       "    </tr>\n",
       "  </tbody>\n",
       "</table>"
      ],
      "text/plain": [
       "<cobra.summary.model_summary.ModelSummary at 0x7ff4d3ed7810>"
      ]
     },
     "execution_count": 4,
     "metadata": {},
     "output_type": "execute_result"
    }
   ],
   "source": [
    "model = main_model.copy()\n",
    "\n",
    "# Defining objective function\n",
    "model.objective = \"AraCore_Biomass_tx\"\n",
    "\n",
    "# Constraining enviroment (autotroph)\n",
    "model.exchanges.Sucrose_tx.bounds = (0,0)\n",
    "model.exchanges.GLC_tx.bounds = (0,0)\n",
    "model.exchanges.Photon_tx.bounds = (0,250)\n",
    "\n",
    "# Original solution\n",
    "model.summary()"
   ]
  },
  {
   "cell_type": "markdown",
   "metadata": {
    "id": "i_xjkhOXWEfF",
    "scrolled": true
   },
   "source": [
    "## Precursors\n",
    "\n",
    "To include some glucosinolates, we not only need to include their pathways, but\n",
    "also to include the synthesis of some metabolites that are used for their\n",
    "biosynthesis. In this scenario, we need to add the following metabolites.\n",
    "\n",
    "- Glutathione\n",
    "- 3'-phosphoadenylyl-sulfate\n",
    "- Adenosine 3',5'-bisphosphate\n",
    "\n",
    "Additionally, we need to add homomethionine and dihomomethionine in order to\n",
    "synthesize the glucosinolates. If these metabolites are not included,\n",
    "CobraMod will create boundary reactions (Sink reactions) for them.\n",
    "If this happens, then some metabolic costs will be neglected.\n",
    "\n",
    "There are multiple way to extend our model with these precursors. To begin with,\n",
    "we will use the function `add_reactions` and pass the path of a file with custom\n",
    "transporter reaction that we need."
   ]
  },
  {
   "cell_type": "code",
   "execution_count": 5,
   "metadata": {
    "colab": {
     "base_uri": "https://localhost:8080/"
    },
    "id": "eDdSk99NWEfG",
    "outputId": "5082690f-b7e7-4ec6-a319-719b9e10091e"
   },
   "outputs": [
    {
     "name": "stdout",
     "output_type": "stream",
     "text": [
      "cat: reactions.txt: No such file or directory\r\n"
     ]
    },
    {
     "name": "stderr",
     "output_type": "stream",
     "text": [
      "/home/stefano/Documents/cobramod/src/cobramod/parsing/biocyc.py:110: UserWarning: Sum formula for the metabolite \"Ox-NADPH-Hemoprotein-Reductases\" from BioCyc could not be found. Formula set to \"X\" and charge to 0. Please curate.\n",
      "  warn(msg)\n",
      "/home/stefano/Documents/cobramod/src/cobramod/parsing/biocyc.py:110: UserWarning: Sum formula for the metabolite \"Red-NADPH-Hemoprotein-Reductases\" from BioCyc could not be found. Formula set to \"X\" and charge to 0. Please curate.\n",
      "  warn(msg)\n",
      "/home/stefano/Documents/cobramod/src/cobramod/utils.py:53: UserWarning: Reaction \"NADPH_FERRIHEMOPROTEIN_REDUCTASE_RXN_rc\" unbalanced. Following atoms are affected. Please verify:\n",
      "{'H': -2.0}\n",
      "  warn(message=msg, category=UserWarning)\n"
     ]
    }
   ],
   "source": [
    "!cat reactions.txt\n",
    "\n",
    "add_reactions(\n",
    "    model=model,\n",
    "    # Using a Path object\n",
    "    obj=dir_data.joinpath(\"reactions_GLS.txt\"),\n",
    "    database=\"ARA\",\n",
    "    directory=dir_data,\n",
    ")"
   ]
  },
  {
   "cell_type": "markdown",
   "metadata": {
    "id": "Kanf_VkDWEfH"
   },
   "source": [
    "### Glutathione\n",
    "\n",
    "The glucosinolate-precursor is always converted to a Glutathione-S-conjugate,\n",
    "which can be later hydrolyzed to continue with the synthesis of the glucosinolate\n",
    "Both reactions for this [pathway\n",
    "](https://biocyc.org/META/new-image?object=GLUTATHIONESYN-PWY) are located in\n",
    "the chloroplast. We will use the function `add_pathway` to include the pathway."
   ]
  },
  {
   "cell_type": "code",
   "execution_count": 6,
   "metadata": {
    "colab": {
     "base_uri": "https://localhost:8080/",
     "height": 686
    },
    "id": "V7bwrmJBWEfH",
    "outputId": "10d4f8f0-137a-4546-f5b8-7452df5a579a"
   },
   "outputs": [
    {
     "name": "stderr",
     "output_type": "stream",
     "text": [
      "/home/stefano/Documents/cobramod/src/cobramod/core/creation.py:160: UserWarning: Metabolite 'ATP' was found as 'ATP_p'. Please curate if necessary.\n",
      "  warn(message=msg, category=UserWarning)\n",
      "/home/stefano/Documents/cobramod/src/cobramod/core/creation.py:160: UserWarning: Metabolite 'ADP' was found as 'ADP_p'. Please curate if necessary.\n",
      "  warn(message=msg, category=UserWarning)\n"
     ]
    },
    {
     "name": "stdout",
     "output_type": "stream",
     "text": [
      "Quantity of     new   | removed entities in\n",
      "*=====================|===================*\n",
      "Reactions        2    |    0              \n",
      "Metabolites      1    |    0              \n",
      "Exchange         0    |    0              \n",
      "Demand           0    |    0              \n",
      "Sinks            0    |    0              \n",
      "Genes            2    |    0              \n",
      "Groups           1    |    0              \n",
      "\n"
     ]
    },
    {
     "data": {
      "text/html": [
       "<strong><em>Optimal</em> solution with objective value 0.310</strong><br><div>\n",
       "<style scoped>\n",
       "    .dataframe tbody tr th:only-of-type {\n",
       "        vertical-align: middle;\n",
       "    }\n",
       "\n",
       "    .dataframe tbody tr th {\n",
       "        vertical-align: top;\n",
       "    }\n",
       "\n",
       "    .dataframe thead th {\n",
       "        text-align: right;\n",
       "    }\n",
       "</style>\n",
       "<table border=\"1\" class=\"dataframe\">\n",
       "  <thead>\n",
       "    <tr style=\"text-align: right;\">\n",
       "      <th></th>\n",
       "      <th>fluxes</th>\n",
       "      <th>reduced_costs</th>\n",
       "    </tr>\n",
       "  </thead>\n",
       "  <tbody>\n",
       "    <tr>\n",
       "      <th>PRO_PROTON_vc</th>\n",
       "      <td>0.000000e+00</td>\n",
       "      <td>-6.938894e-18</td>\n",
       "    </tr>\n",
       "    <tr>\n",
       "      <th>Ca_tx</th>\n",
       "      <td>2.729743e-01</td>\n",
       "      <td>0.000000e+00</td>\n",
       "    </tr>\n",
       "    <tr>\n",
       "      <th>H2O_xc</th>\n",
       "      <td>7.382353e-16</td>\n",
       "      <td>-0.000000e+00</td>\n",
       "    </tr>\n",
       "    <tr>\n",
       "      <th>sCIT_biomass</th>\n",
       "      <td>-8.180567e-02</td>\n",
       "      <td>1.387779e-17</td>\n",
       "    </tr>\n",
       "    <tr>\n",
       "      <th>ACETYLGLUTKIN_RXN_p</th>\n",
       "      <td>7.714903e-02</td>\n",
       "      <td>-1.474515e-17</td>\n",
       "    </tr>\n",
       "    <tr>\n",
       "      <th>...</th>\n",
       "      <td>...</td>\n",
       "      <td>...</td>\n",
       "    </tr>\n",
       "    <tr>\n",
       "      <th>PAPS_pc</th>\n",
       "      <td>0.000000e+00</td>\n",
       "      <td>0.000000e+00</td>\n",
       "    </tr>\n",
       "    <tr>\n",
       "      <th>HOMOMETHIONINE_pc</th>\n",
       "      <td>0.000000e+00</td>\n",
       "      <td>0.000000e+00</td>\n",
       "    </tr>\n",
       "    <tr>\n",
       "      <th>CPDQT_340_pc</th>\n",
       "      <td>0.000000e+00</td>\n",
       "      <td>0.000000e+00</td>\n",
       "    </tr>\n",
       "    <tr>\n",
       "      <th>GLUTCYSLIG_RXN_p</th>\n",
       "      <td>0.000000e+00</td>\n",
       "      <td>-2.350888e-01</td>\n",
       "    </tr>\n",
       "    <tr>\n",
       "      <th>GLUTATHIONE_SYN_RXN_p</th>\n",
       "      <td>0.000000e+00</td>\n",
       "      <td>0.000000e+00</td>\n",
       "    </tr>\n",
       "  </tbody>\n",
       "</table>\n",
       "<p>900 rows × 2 columns</p>\n",
       "</div>"
      ],
      "text/plain": [
       "<Solution 0.310 at 0x7ff4f09a64d0>"
      ]
     },
     "execution_count": 6,
     "metadata": {},
     "output_type": "execute_result"
    }
   ],
   "source": [
    "add_pathway(\n",
    "    model=model,\n",
    "    # Using the identifier\n",
    "    pathway=\"GLUTATHIONESYN-PWY\",\n",
    "    # Our model defines 'p' as chloroplast\n",
    "    compartment=\"p\",\n",
    "    database=\"ARA\",\n",
    "    directory=dir_data,\n",
    "    ignore_list=ignore_list,\n",
    ")\n",
    "# We can see at the end of the table, the new reactions\n",
    "model.optimize()"
   ]
  },
  {
   "cell_type": "markdown",
   "metadata": {
    "id": "41dBRAdfWEfI"
   },
   "source": [
    "We can call the method `visualize` to inspect the reactions for\n",
    "this pathway."
   ]
  },
  {
   "cell_type": "code",
   "execution_count": 7,
   "metadata": {
    "colab": {
     "base_uri": "https://localhost:8080/",
     "height": 17,
     "referenced_widgets": [
      "d8c7accdebb9417b83a2b534a0355c0f"
     ]
    },
    "id": "Ew8LcqMUWEfI",
    "outputId": "83b922a7-5de0-4f3d-d2b0-e78d2c2c7e80"
   },
   "outputs": [
    {
     "data": {
      "application/vnd.jupyter.widget-view+json": {
       "model_id": "ce67145d1284412087cf23dc8883c110",
       "version_major": 2,
       "version_minor": 0
      },
      "text/plain": [
       "Builder(reaction_scale={}, reaction_styles=['color', 'text'])"
      ]
     },
     "metadata": {},
     "output_type": "display_data"
    }
   ],
   "source": [
    "model.groups.get_by_id(\"GLUTATHIONESYN-PWY\").visualize()"
   ]
  },
  {
   "cell_type": "markdown",
   "metadata": {
    "id": "Zpql9BbMWEfJ"
   },
   "source": [
    "We can see that CobraMod was able to insert these new reactions into\n",
    "our model. With help of Escher we can identify which metabolites are\n",
    "used in the reactions.\n",
    "\n",
    "### 3'-phosphoadenylyl-sulfate\n",
    "\n",
    "In Biocyc, its identifier is PAPS. This compound is used by the enzyme\n",
    "desulfoglucosinolate sulfotransferase to transform the precursors into\n",
    "glucosinolates"
   ]
  },
  {
   "cell_type": "code",
   "execution_count": 8,
   "metadata": {
    "colab": {
     "base_uri": "https://localhost:8080/",
     "height": 686
    },
    "id": "ywtFEdI1WEfJ",
    "outputId": "ee825a3a-9ece-4fea-d9e6-2af8ef2aa98e",
    "scrolled": false
   },
   "outputs": [
    {
     "name": "stdout",
     "output_type": "stream",
     "text": [
      "Quantity of     new   | removed entities in\n",
      "*=====================|===================*\n",
      "Reactions        1    |    0              \n",
      "Metabolites      0    |    0              \n",
      "Exchange         0    |    0              \n",
      "Demand           0    |    0              \n",
      "Sinks            0    |    0              \n",
      "Genes            4    |    0              \n",
      "Groups           1    |    0              \n",
      "\n"
     ]
    },
    {
     "data": {
      "text/html": [
       "<strong><em>Optimal</em> solution with objective value 0.310</strong><br><div>\n",
       "<style scoped>\n",
       "    .dataframe tbody tr th:only-of-type {\n",
       "        vertical-align: middle;\n",
       "    }\n",
       "\n",
       "    .dataframe tbody tr th {\n",
       "        vertical-align: top;\n",
       "    }\n",
       "\n",
       "    .dataframe thead th {\n",
       "        text-align: right;\n",
       "    }\n",
       "</style>\n",
       "<table border=\"1\" class=\"dataframe\">\n",
       "  <thead>\n",
       "    <tr style=\"text-align: right;\">\n",
       "      <th></th>\n",
       "      <th>fluxes</th>\n",
       "      <th>reduced_costs</th>\n",
       "    </tr>\n",
       "  </thead>\n",
       "  <tbody>\n",
       "    <tr>\n",
       "      <th>PRO_PROTON_vc</th>\n",
       "      <td>0.000000</td>\n",
       "      <td>-6.938894e-18</td>\n",
       "    </tr>\n",
       "    <tr>\n",
       "      <th>Ca_tx</th>\n",
       "      <td>0.272974</td>\n",
       "      <td>0.000000e+00</td>\n",
       "    </tr>\n",
       "    <tr>\n",
       "      <th>H2O_xc</th>\n",
       "      <td>0.000000</td>\n",
       "      <td>-0.000000e+00</td>\n",
       "    </tr>\n",
       "    <tr>\n",
       "      <th>sCIT_biomass</th>\n",
       "      <td>-0.081806</td>\n",
       "      <td>-0.000000e+00</td>\n",
       "    </tr>\n",
       "    <tr>\n",
       "      <th>ACETYLGLUTKIN_RXN_p</th>\n",
       "      <td>0.077149</td>\n",
       "      <td>2.949030e-17</td>\n",
       "    </tr>\n",
       "    <tr>\n",
       "      <th>...</th>\n",
       "      <td>...</td>\n",
       "      <td>...</td>\n",
       "    </tr>\n",
       "    <tr>\n",
       "      <th>HOMOMETHIONINE_pc</th>\n",
       "      <td>0.000000</td>\n",
       "      <td>0.000000e+00</td>\n",
       "    </tr>\n",
       "    <tr>\n",
       "      <th>CPDQT_340_pc</th>\n",
       "      <td>0.000000</td>\n",
       "      <td>0.000000e+00</td>\n",
       "    </tr>\n",
       "    <tr>\n",
       "      <th>GLUTCYSLIG_RXN_p</th>\n",
       "      <td>0.000000</td>\n",
       "      <td>-2.350888e-01</td>\n",
       "    </tr>\n",
       "    <tr>\n",
       "      <th>GLUTATHIONE_SYN_RXN_p</th>\n",
       "      <td>0.000000</td>\n",
       "      <td>-3.469447e-18</td>\n",
       "    </tr>\n",
       "    <tr>\n",
       "      <th>ADENYLYLSULFKIN_RXN_p</th>\n",
       "      <td>0.000000</td>\n",
       "      <td>-2.235081e-01</td>\n",
       "    </tr>\n",
       "  </tbody>\n",
       "</table>\n",
       "<p>901 rows × 2 columns</p>\n",
       "</div>"
      ],
      "text/plain": [
       "<Solution 0.310 at 0x7ff4f09ae710>"
      ]
     },
     "execution_count": 8,
     "metadata": {},
     "output_type": "execute_result"
    }
   ],
   "source": [
    "add_pathway(\n",
    "    model=model,\n",
    "    pathway=\"PWY-5340\",\n",
    "    compartment=\"p\",\n",
    "    database=\"ARA\",\n",
    "    directory=dir_data,\n",
    "    ignore_list=ignore_list,\n",
    ")\n",
    "model.optimize()"
   ]
  },
  {
   "cell_type": "markdown",
   "metadata": {
    "id": "tnvYlAgcWEfK"
   },
   "source": [
    "### Adenosine 3',5'-bisphosphate\n",
    "\n",
    "This compound is a product from the sulfotransferase. Currently, our model\n",
    "does not contain reactions that can reutilize it. Thus, we will include a\n",
    "reaction that can hydrolyze it."
   ]
  },
  {
   "cell_type": "code",
   "execution_count": 9,
   "metadata": {
    "colab": {
     "base_uri": "https://localhost:8080/"
    },
    "id": "QgL_M8eHWEfK",
    "outputId": "b12d3506-00a6-416c-e489-0b3112c5ee3d"
   },
   "outputs": [
    {
     "name": "stderr",
     "output_type": "stream",
     "text": [
      "/home/stefano/Documents/cobramod/src/cobramod/core/creation.py:160: UserWarning: Metabolite 'AMP' was found as 'AMP_c'. Please curate if necessary.\n",
      "  warn(message=msg, category=UserWarning)\n"
     ]
    }
   ],
   "source": [
    "add_reactions(\n",
    "    model=model,\n",
    "    # This function can use single strings\n",
    "    obj=\"325-BISPHOSPHATE-NUCLEOTIDASE-RXN, c\",\n",
    "    database=\"ARA\",\n",
    "    directory=dir_data,\n",
    ")"
   ]
  },
  {
   "cell_type": "markdown",
   "metadata": {
    "id": "hTrChSojWEfK"
   },
   "source": [
    "### Homomethionine\n",
    "\n",
    "The first part of this pathway, i.e. transmination of methionine,\n",
    "occurs in the cytosol. The rest occurs in the chloroplast including its elongation\n",
    "for the synthesis of other glucosinolate precursors such as dihomomethionine.\n",
    "\n",
    "To simulate the different compartments, we will add the first reaction to the cytosol.\n",
    "Then, we need to create a transport reaction to continue with the flow of the pathway:"
   ]
  },
  {
   "cell_type": "code",
   "execution_count": 10,
   "metadata": {
    "colab": {
     "base_uri": "https://localhost:8080/",
     "height": 746
    },
    "id": "1LFF3q32WEfL",
    "outputId": "f2ff7ed3-b342-4eb5-a435-46d881ae8faf"
   },
   "outputs": [
    {
     "name": "stderr",
     "output_type": "stream",
     "text": [
      "/home/stefano/Documents/cobramod/src/cobramod/core/creation.py:629: UserWarning: Manually-curated metabolite \"CPD_479_c\" does not have a chemical formula and charge. Please modify the values manually. Charge set to 0, and formula to \"X\".\n",
      "  warn(message=msg, category=UserWarning)\n",
      "/home/stefano/Documents/cobramod/src/cobramod/core/creation.py:629: UserWarning: Manually-curated metabolite \"CPD_479_p\" does not have a chemical formula and charge. Please modify the values manually. Charge set to 0, and formula to \"X\".\n",
      "  warn(message=msg, category=UserWarning)\n",
      "/home/stefano/Documents/cobramod/src/cobramod/core/extension.py:457: UserWarning: Reaction \"R15-RXN\" was found in \"avoid_list\". Reaction R15-RXN will not be added to the model.\n",
      "  warn(message=msg, category=UserWarning)\n",
      "/home/stefano/Documents/cobramod/src/cobramod/core/creation.py:160: UserWarning: Metabolite 'NADH' was found as 'NADH_p'. Please curate if necessary.\n",
      "  warn(message=msg, category=UserWarning)\n"
     ]
    },
    {
     "name": "stdout",
     "output_type": "stream",
     "text": [
      "Quantity of     new   | removed entities in\n",
      "*=====================|===================*\n",
      "Reactions        6    |    0              \n",
      "Metabolites      5    |    0              \n",
      "Exchange         0    |    0              \n",
      "Demand           0    |    0              \n",
      "Sinks            0    |    0              \n",
      "Genes            4    |    0              \n",
      "Groups           1    |    0              \n",
      "\n"
     ]
    },
    {
     "data": {
      "text/html": [
       "<strong><em>Optimal</em> solution with objective value 0.310</strong><br><div>\n",
       "<style scoped>\n",
       "    .dataframe tbody tr th:only-of-type {\n",
       "        vertical-align: middle;\n",
       "    }\n",
       "\n",
       "    .dataframe tbody tr th {\n",
       "        vertical-align: top;\n",
       "    }\n",
       "\n",
       "    .dataframe thead th {\n",
       "        text-align: right;\n",
       "    }\n",
       "</style>\n",
       "<table border=\"1\" class=\"dataframe\">\n",
       "  <thead>\n",
       "    <tr style=\"text-align: right;\">\n",
       "      <th></th>\n",
       "      <th>fluxes</th>\n",
       "      <th>reduced_costs</th>\n",
       "    </tr>\n",
       "  </thead>\n",
       "  <tbody>\n",
       "    <tr>\n",
       "      <th>PRO_PROTON_vc</th>\n",
       "      <td>0.000000e+00</td>\n",
       "      <td>-6.938894e-18</td>\n",
       "    </tr>\n",
       "    <tr>\n",
       "      <th>Ca_tx</th>\n",
       "      <td>2.729743e-01</td>\n",
       "      <td>0.000000e+00</td>\n",
       "    </tr>\n",
       "    <tr>\n",
       "      <th>H2O_xc</th>\n",
       "      <td>9.289710e-16</td>\n",
       "      <td>-0.000000e+00</td>\n",
       "    </tr>\n",
       "    <tr>\n",
       "      <th>sCIT_biomass</th>\n",
       "      <td>-8.180567e-02</td>\n",
       "      <td>-0.000000e+00</td>\n",
       "    </tr>\n",
       "    <tr>\n",
       "      <th>ACETYLGLUTKIN_RXN_p</th>\n",
       "      <td>7.714903e-02</td>\n",
       "      <td>-6.071532e-18</td>\n",
       "    </tr>\n",
       "    <tr>\n",
       "      <th>...</th>\n",
       "      <td>...</td>\n",
       "      <td>...</td>\n",
       "    </tr>\n",
       "    <tr>\n",
       "      <th>RXN_18182_p</th>\n",
       "      <td>0.000000e+00</td>\n",
       "      <td>-0.000000e+00</td>\n",
       "    </tr>\n",
       "    <tr>\n",
       "      <th>RXN_18183_p</th>\n",
       "      <td>0.000000e+00</td>\n",
       "      <td>-0.000000e+00</td>\n",
       "    </tr>\n",
       "    <tr>\n",
       "      <th>RXN_2204_p</th>\n",
       "      <td>0.000000e+00</td>\n",
       "      <td>0.000000e+00</td>\n",
       "    </tr>\n",
       "    <tr>\n",
       "      <th>RXN_18198_p</th>\n",
       "      <td>0.000000e+00</td>\n",
       "      <td>0.000000e+00</td>\n",
       "    </tr>\n",
       "    <tr>\n",
       "      <th>RXN_2205_p</th>\n",
       "      <td>0.000000e+00</td>\n",
       "      <td>1.387779e-17</td>\n",
       "    </tr>\n",
       "  </tbody>\n",
       "</table>\n",
       "<p>910 rows × 2 columns</p>\n",
       "</div>"
      ],
      "text/plain": [
       "<Solution 0.310 at 0x7ff4d0ecc550>"
      ]
     },
     "execution_count": 10,
     "metadata": {},
     "output_type": "execute_result"
    }
   ],
   "source": [
    "add_reactions(\n",
    "    model=model,\n",
    "    obj=[\n",
    "        # First reaction of the pathway\n",
    "        \"R15-RXN, c\",\n",
    "        # This is the transport to chloroplast\n",
    "        \"CPD_479_cp, CPD_479_cp| CPD_479_c <-> CPD_479_p\"\n",
    "    ],\n",
    "    database=\"ARA\",\n",
    "    directory=dir_data,\n",
    "    # We have to use non-generic metabolites\n",
    "    replacement={\n",
    "        \"Amino-Acids-20\": \"GLT\",\n",
    "        \"2-Oxo-carboxylates\": \"2-KETOGLUTARATE\",\n",
    "    }\n",
    ")\n",
    "\n",
    "# Continue with the rest of the pathway\n",
    "add_pathway(\n",
    "    model=model,\n",
    "    pathway=\"PWY-1186\",\n",
    "    # The pathway is found in the chloroplast\n",
    "    compartment=\"p\",\n",
    "    database=\"ARA\",\n",
    "    directory=dir_data,\n",
    "    ignore_list=ignore_list,\n",
    "    replacement={\n",
    "        \"Amino-Acids-20\":\"GLT\",\n",
    "        \"2-Oxo-carboxylates\":\"2-KETOGLUTARATE\",\n",
    "    },\n",
    "    # This reaction is added previously but in the cytosol\n",
    "    avoid_list=[\"R15-RXN\"]\n",
    ")\n",
    "\n",
    "model.optimize()"
   ]
  },
  {
   "cell_type": "code",
   "execution_count": 11,
   "metadata": {
    "colab": {
     "base_uri": "https://localhost:8080/",
     "height": 17,
     "referenced_widgets": [
      "e6768d2c26a24a629738b8e5f3ea0851"
     ]
    },
    "id": "2ZfVXihoWEfM",
    "outputId": "b77300d1-e4a6-4645-c653-6e57b49c0f31",
    "scrolled": false
   },
   "outputs": [
    {
     "data": {
      "application/vnd.jupyter.widget-view+json": {
       "model_id": "f9518d9802b14b29b9a340f4092d4a90",
       "version_major": 2,
       "version_minor": 0
      },
      "text/plain": [
       "Builder(reaction_scale={}, reaction_styles=['color', 'text'])"
      ]
     },
     "metadata": {},
     "output_type": "display_data"
    }
   ],
   "source": [
    "model.groups.get_by_id(\"PWY-1186\").visualize()"
   ]
  },
  {
   "cell_type": "markdown",
   "metadata": {
    "id": "wDeUPQz0WEfM"
   },
   "source": [
    "### Dihomomethionine\n",
    "\n",
    "Dihomomethionine is synthesized from the [elongantion chain of homomethionine\n",
    "](https://metacyc.org/META/NEW-IMAGE?type=PATHWAY&object=PWYQT-4450&detail-level=2).\n",
    "This pathway is very long and for now, we are only interested in dihomomethionine.\n",
    "For this reason, we will manually include only the reaction that we are interested,\n",
    "which are the first 6 reactions."
   ]
  },
  {
   "cell_type": "code",
   "execution_count": 12,
   "metadata": {
    "colab": {
     "base_uri": "https://localhost:8080/"
    },
    "id": "uRKZWTMzWEfM",
    "outputId": "55b874ba-048b-4765-a8ce-dc26a0a24ee6",
    "scrolled": false
   },
   "outputs": [
    {
     "name": "stdout",
     "output_type": "stream",
     "text": [
      "Quantity of     new   | removed entities in\n",
      "*=====================|===================*\n",
      "Reactions        6    |    0              \n",
      "Metabolites      5    |    0              \n",
      "Exchange         0    |    0              \n",
      "Demand           0    |    0              \n",
      "Sinks            0    |    0              \n",
      "Genes            0    |    0              \n",
      "Groups           1    |    0              \n",
      "\n"
     ]
    }
   ],
   "source": [
    "add_pathway(\n",
    "    model=model,\n",
    "    # We can pass a list with reaction identifiers as well\n",
    "    pathway=[\n",
    "        \"RXNQT-4163\",\n",
    "        \"RXN-18184\",\n",
    "        \"RXN-18185\",\n",
    "        \"RXN-18208\",\n",
    "        \"RXN-18209\",\n",
    "        \"RXNQT-4345\",\n",
    "    ],\n",
    "    # We can define a custom name for the pathway\n",
    "    group=\"PWYQT-4450\",\n",
    "    compartment=\"p\",\n",
    "    database=\"ARA\",\n",
    "    directory=dir_data,\n",
    "    ignore_list=ignore_list,\n",
    "    replacement={\n",
    "        \"Amino-Acids-20\":\"GLT\",\n",
    "        \"2-Oxo-carboxylates\":\"2-KETOGLUTARATE\",\n",
    "    },\n",
    ")"
   ]
  },
  {
   "cell_type": "markdown",
   "metadata": {
    "id": "EK3UCClvWEfN"
   },
   "source": [
    "We can even show our pathway vertically"
   ]
  },
  {
   "cell_type": "code",
   "execution_count": 13,
   "metadata": {
    "colab": {
     "base_uri": "https://localhost:8080/",
     "height": 17,
     "referenced_widgets": [
      "e5d93751e6a24c06b99aafb05f5200b8"
     ]
    },
    "id": "fKNNqAuvWEfN",
    "outputId": "97d85a41-d6cc-4718-b120-484fbf1f4edf"
   },
   "outputs": [
    {
     "data": {
      "application/vnd.jupyter.widget-view+json": {
       "model_id": "83d05b0552a94bb3b4b5a2e07ec0e8b5",
       "version_major": 2,
       "version_minor": 0
      },
      "text/plain": [
       "Builder(reaction_scale={}, reaction_styles=['color', 'text'])"
      ]
     },
     "metadata": {},
     "output_type": "display_data"
    }
   ],
   "source": [
    "model.groups.get_by_id(\"PWYQT-4450\").vertical = True\n",
    "model.groups.get_by_id(\"PWYQT-4450\").visualize()"
   ]
  },
  {
   "cell_type": "markdown",
   "metadata": {
    "id": "RcgEZy_PWEfN"
   },
   "source": [
    "## Synthesis from Homomethionine\n",
    "\n",
    "The first steps for the synthesis of [glucoiberin\n",
    "](https://biocyc.org/META/NEW-IMAGE?type=PATHWAY&object=PWY-1187&detail-level=2)\n",
    "are located in the cytosol, though a few hemoproteins are located in the endoplasmatic\n",
    "reticulum. Hence, we will add custom reactions for the first steps to simulate these\n",
    "reactions. Then, we will add the rest of the pathway normally with a few extra arguments."
   ]
  },
  {
   "cell_type": "code",
   "execution_count": 14,
   "metadata": {
    "colab": {
     "base_uri": "https://localhost:8080/"
    },
    "id": "E3ORBVDZWEfO",
    "outputId": "9dbff89e-bfc7-49c7-ccbe-988fd46a01b8",
    "scrolled": true
   },
   "outputs": [
    {
     "name": "stderr",
     "output_type": "stream",
     "text": [
      "/home/stefano/Documents/cobramod/src/cobramod/utils.py:53: UserWarning: Reaction \"RXN_2206_rc\" unbalanced. Following atoms are affected. Please verify:\n",
      "{'H': 4.0}\n",
      "  warn(message=msg, category=UserWarning)\n",
      "/home/stefano/Documents/cobramod/src/cobramod/utils.py:53: UserWarning: Reaction \"RXN_11414_rc\" unbalanced. Following atoms are affected. Please verify:\n",
      "{'H': 2.0}\n",
      "  warn(message=msg, category=UserWarning)\n",
      "/home/stefano/Documents/cobramod/src/cobramod/core/extension.py:457: UserWarning: Reaction \"RXN-2206\" was found in \"avoid_list\". Reaction RXN-2206 will not be added to the model.\n",
      "  warn(message=msg, category=UserWarning)\n",
      "/home/stefano/Documents/cobramod/src/cobramod/core/extension.py:457: UserWarning: Reaction \"RXN-11414\" was found in \"avoid_list\". Reaction RXN-11414 will not be added to the model.\n",
      "  warn(message=msg, category=UserWarning)\n",
      "/home/stefano/Documents/cobramod/src/cobramod/core/extension.py:457: UserWarning: Reaction \"RXN-2223\" was found in \"avoid_list\". Reaction RXN-2223 will not be added to the model.\n",
      "  warn(message=msg, category=UserWarning)\n",
      "/home/stefano/Documents/cobramod/src/cobramod/core/extension.py:457: UserWarning: Reaction \"RXN-2224\" was found in \"avoid_list\". Reaction RXN-2224 will not be added to the model.\n",
      "  warn(message=msg, category=UserWarning)\n",
      "/home/stefano/Documents/cobramod/src/cobramod/core/creation.py:160: UserWarning: Metabolite 'UDP' was found as 'UDP_c'. Please curate if necessary.\n",
      "  warn(message=msg, category=UserWarning)\n",
      "/home/stefano/Documents/cobramod/src/cobramod/core/creation.py:160: UserWarning: Metabolite 'NADPH' was found as 'NADPH_c'. Please curate if necessary.\n",
      "  warn(message=msg, category=UserWarning)\n"
     ]
    },
    {
     "name": "stdout",
     "output_type": "stream",
     "text": [
      "Quantity of     new   | removed entities in\n",
      "*=====================|===================*\n",
      "Reactions        7    |    0              \n",
      "Metabolites      7    |    0              \n",
      "Exchange         0    |    0              \n",
      "Demand           0    |    0              \n",
      "Sinks            1    |    0              \n",
      "Genes           12    |    0              \n",
      "Groups           1    |    0              \n",
      "\n"
     ]
    },
    {
     "name": "stderr",
     "output_type": "stream",
     "text": [
      "/home/stefano/Documents/cobramod/src/cobramod/core/extension.py:457: UserWarning: Reaction \"RXN-11438\" was found in \"avoid_list\". Reaction RXN-11438 will not be added to the model.\n",
      "  warn(message=msg, category=UserWarning)\n",
      "/home/stefano/Documents/cobramod/src/cobramod/core/extension.py:457: UserWarning: Reaction \"RXN-2222\" was found in \"avoid_list\". Reaction RXN-2222 will not be added to the model.\n",
      "  warn(message=msg, category=UserWarning)\n",
      "/home/stefano/Documents/cobramod/src/cobramod/core/extension.py:457: UserWarning: Reaction \"RXN-11445\" was found in \"avoid_list\". Reaction RXN-11445 will not be added to the model.\n",
      "  warn(message=msg, category=UserWarning)\n",
      "/home/stefano/Documents/cobramod/src/cobramod/core/extension.py:573: UserWarning: Auxiliary sink reaction for \"SK_3_METHYLSULFINYLPROPYL_GLUCOSINOLATE_c\" created. Consider removing it and adding the synthesis reactions for the metabolite.\n",
      "  warn(message=msg, category=UserWarning)\n"
     ]
    }
   ],
   "source": [
    "add_reactions(\n",
    "    model=model,\n",
    "    obj=[\n",
    "        # First custom reaction\n",
    "        \"RXN_2206_rc, RXN_2206_rc|\"\n",
    "        +\"HOMOMETHIONINE_c + 2 OXYGEN-MOLECULE_c + 2 Red-NADPH-Hemoprotein-Reductases_r -->\"\n",
    "        +\"3-METHYLTHIOPROPANALDOXIME_c + CARBON-DIOXIDE_c + 2 Ox-NADPH-Hemoprotein-Reductases_r + 3 WATER_c\",\n",
    "\n",
    "        # Second custom reaction\n",
    "        \"RXN_11414_rc, RXN_11414_rc|\"\n",
    "        +\"3-METHYLTHIOPROPANALDOXIME_c + OXYGEN-MOLECULE_c + Red-NADPH-Hemoprotein-Reductases_r <->\"\n",
    "        +\"CPD-12389_c + Ox-NADPH-Hemoprotein-Reductases_r +  WATER_c\"\n",
    "    ],\n",
    "    database=\"ARA\",\n",
    "    directory=dir_data,   \n",
    ")\n",
    "\n",
    "# Continue with rest of the reactions\n",
    "add_pathway(\n",
    "    model=model,\n",
    "    pathway=\"PWY-1187\",\n",
    "    compartment=\"c\",\n",
    "    database=\"ARA\",\n",
    "    directory=dir_data,\n",
    "    ignore_list=ignore_list,\n",
    "    avoid_list=[\n",
    "        # Custom reactions were created already\n",
    "        \"RXN-2206\", \"RXN-11414\",\n",
    "        # These reactions are not needed since we want one specific compound\n",
    "        \"RXN-11438\", \"RXN-2222\", \"RXN-2223\", \"RXN-2224\", \"RXN-11445\"\n",
    "    ],\n",
    "    # We use UDP-GLUCOSE as UDP-α-D-glucose\n",
    "    replacement = {\"CPD-12575\": \"UDP-GLUCOSE\"}\n",
    ")"
   ]
  },
  {
   "cell_type": "code",
   "execution_count": 15,
   "metadata": {
    "colab": {
     "base_uri": "https://localhost:8080/",
     "height": 17,
     "referenced_widgets": [
      "005bfe13edff4cf5b484c3fd668438e7"
     ]
    },
    "id": "hFwfWvt1WEfO",
    "outputId": "32c1d7c0-b9c4-447c-f287-763e4d0b22e6",
    "scrolled": false
   },
   "outputs": [
    {
     "data": {
      "application/vnd.jupyter.widget-view+json": {
       "model_id": "80469b28072046a0a969669aae455531",
       "version_major": 2,
       "version_minor": 0
      },
      "text/plain": [
       "Builder(reaction_scale={}, reaction_styles=['color', 'text'])"
      ]
     },
     "metadata": {},
     "output_type": "display_data"
    }
   ],
   "source": [
    "model.groups.get_by_id(\"PWY-1187\").visualize()"
   ]
  },
  {
   "cell_type": "markdown",
   "metadata": {
    "id": "XAFBQ259WEfP"
   },
   "source": [
    "## Synthesis from Dihomomethionine\n",
    "\n",
    "As with homomethionine, the first steps of the [glucosinolates synthesis from\n",
    "dihomomethionine\n",
    "](https://metacyc.org/META/NEW-IMAGE?type=PATHWAY&object=PWYQT-4471&&detail-level=2)\n",
    "are located in the cytosol with hemoproteins in the endoplasmatic reticulum.\n",
    "Thus, we will write custom reactions and then follow the workflow adding a list\n",
    "of reactions."
   ]
  },
  {
   "cell_type": "code",
   "execution_count": 16,
   "metadata": {
    "colab": {
     "base_uri": "https://localhost:8080/"
    },
    "id": "rc0fMzTBWEfP",
    "outputId": "0c4c51ee-c3a7-40e3-90fb-d82bcf8b7209",
    "scrolled": true
   },
   "outputs": [
    {
     "name": "stderr",
     "output_type": "stream",
     "text": [
      "/home/stefano/Documents/cobramod/src/cobramod/utils.py:53: UserWarning: Reaction \"RXNQT_4309_rc\" unbalanced. Following atoms are affected. Please verify:\n",
      "{'H': 4.0}\n",
      "  warn(message=msg, category=UserWarning)\n",
      "/home/stefano/Documents/cobramod/src/cobramod/utils.py:53: UserWarning: Reaction \"RXN_11415_rc\" unbalanced. Following atoms are affected. Please verify:\n",
      "{'H': 2.0}\n",
      "  warn(message=msg, category=UserWarning)\n"
     ]
    },
    {
     "name": "stdout",
     "output_type": "stream",
     "text": [
      "Quantity of     new   | removed entities in\n",
      "*=====================|===================*\n",
      "Reactions        7    |    0              \n",
      "Metabolites      7    |    0              \n",
      "Exchange         0    |    0              \n",
      "Demand           0    |    0              \n",
      "Sinks            1    |    0              \n",
      "Genes            1    |    0              \n",
      "Groups           1    |    0              \n",
      "\n"
     ]
    },
    {
     "name": "stderr",
     "output_type": "stream",
     "text": [
      "/home/stefano/Documents/cobramod/src/cobramod/core/extension.py:685: UserWarning: Auxiliary sink reaction for \"SK_CPDQT_280_c\" created. Consider removing it and adding the synthesis reactions for the metabolite.\n",
      "  warn(message=msg, category=UserWarning)\n"
     ]
    }
   ],
   "source": [
    "add_reactions(\n",
    "    model=model,\n",
    "    obj=[\n",
    "        # First custom reaction\n",
    "        \"RXNQT_4309_rc, RXNQT_4309_rc|\"\n",
    "        +\"CPDQT-340_c + 2 OXYGEN-MOLECULE_c + 2 Red-NADPH-Hemoprotein-Reductases_r <->\"\n",
    "        +\"CARBON-DIOXIDE_c + CPDQT-341_c + 2 Ox-NADPH-Hemoprotein-Reductases_r + 3 WATER_c\",\n",
    "\n",
    "        # Second custom reaction\n",
    "        \"RXN_11415_rc, RXN_11415_rc|\"\n",
    "        +\"CPDQT-341_c + OXYGEN-MOLECULE_c + Red-NADPH-Hemoprotein-Reductases_r <->\"\n",
    "        +\"CPD-12392_c + Ox-NADPH-Hemoprotein-Reductases_r + WATER_c\"\n",
    "    ],\n",
    "    database=\"ARA\",\n",
    "    directory=dir_data,   \n",
    ")\n",
    "\n",
    "# Continue with list\n",
    "add_pathway(\n",
    "    model=model,\n",
    "    # Reactions to synthesize two glucosinolates\n",
    "    pathway=[\n",
    "        'RXN-11423','RXN-11431', 'RXN-19588','RXNQT-4319','RXNQT-4324','RXNQT-4329','RXNQT-4334'\n",
    "    ],\n",
    "    group=\"PWYQT-4471\",\n",
    "    compartment=\"c\",\n",
    "    database=\"ARA\",\n",
    "    directory=dir_data,\n",
    "    ignore_list=ignore_list,\n",
    "    # We use UDP-GLUCOSE as UDP-α-D-glucose\n",
    "    replacement = {\"CPD-12575\": \"UDP-GLUCOSE\"}\n",
    ")\n"
   ]
  },
  {
   "cell_type": "code",
   "execution_count": 17,
   "metadata": {
    "colab": {
     "base_uri": "https://localhost:8080/",
     "height": 17,
     "referenced_widgets": [
      "72ad288cecf64703a77ba6da03fe0c97"
     ]
    },
    "id": "YPSJF5GkWEfP",
    "outputId": "631fae4f-ad46-4040-f81d-6afe6a7f6e08"
   },
   "outputs": [
    {
     "data": {
      "application/vnd.jupyter.widget-view+json": {
       "model_id": "10f98f09d8344ac5bfcfab85900d497d",
       "version_major": 2,
       "version_minor": 0
      },
      "text/plain": [
       "Builder(reaction_scale={}, reaction_styles=['color', 'text'])"
      ]
     },
     "metadata": {},
     "output_type": "display_data"
    }
   ],
   "source": [
    "model.groups.get_by_id(\"PWYQT-4471\").visualize()"
   ]
  },
  {
   "cell_type": "markdown",
   "metadata": {
    "id": "ib9nkhDjWEfQ"
   },
   "source": [
    "## Calculating costs\n",
    "\n",
    "By default, CobraMod will create boundary reactions (in this case, called\n",
    "sink reactions) during the non-zero test for metabolites that only have\n",
    "one reaction. Since glucoraphanin and glucoiberin are the end produts of\n",
    "these pathways, CobraMod built for them extra reactions. On the other hand,\n",
    "Glucoerucin is a precursor of glucoraphanin, so no boundary reaction was needed."
   ]
  },
  {
   "cell_type": "code",
   "execution_count": 18,
   "metadata": {
    "colab": {
     "base_uri": "https://localhost:8080/"
    },
    "id": "IRbrpapIWEfQ",
    "outputId": "6df7058c-f04a-4275-f47a-71c0ace2aad3",
    "scrolled": false
   },
   "outputs": [
    {
     "data": {
      "text/plain": [
       "[<Reaction SK_3_METHYLSULFINYLPROPYL_GLUCOSINOLATE_c at 0x7ff4d0ee0290>,\n",
       " <Reaction SK_CPDQT_280_c at 0x7ff4f092cd90>]"
      ]
     },
     "execution_count": 18,
     "metadata": {},
     "output_type": "execute_result"
    }
   ],
   "source": [
    "model.sinks"
   ]
  },
  {
   "cell_type": "markdown",
   "metadata": {
    "id": "W0CxBvCXWEfQ"
   },
   "source": [
    "To calculate te metabolic costs of these 3 glucosinolates, we need to\n",
    "set the amount of glucosinolates that we require. We use the values according\n",
    "to [this paper](https://doi.org/10.1016/s0031-9422(02)00549-6). We will use the\n",
    "data from Table 2, specifically for the rosette leaves at a vegetative stage.\n",
    "The unit used for the glucosinolates are $\\mu mol/gDW$\n",
    "\n",
    "Using a copy of the model will avoid overwriting the model. Then, we will remove\n",
    "the extra boundary reactions and define the amount of glucosinolates. Lastly,\n",
    "a 'for loop' can be use to create demand reactions for these compounds."
   ]
  },
  {
   "cell_type": "code",
   "execution_count": 19,
   "metadata": {
    "colab": {
     "base_uri": "https://localhost:8080/",
     "height": 363
    },
    "id": "Xcpli8WfWEfQ",
    "outputId": "95e87619-3565-4b1e-b9eb-f4129a68be83",
    "scrolled": false
   },
   "outputs": [
    {
     "data": {
      "text/html": [
       "<h3>Objective</h3><p>1.0 AraCore_Biomass_tx = 0.3072496920107885</p><h4>Uptake</h4><table border=\"1\" class=\"dataframe\">\n",
       "  <thead>\n",
       "    <tr style=\"text-align: right;\">\n",
       "      <th>Metabolite</th>\n",
       "      <th>Reaction</th>\n",
       "      <th>Flux</th>\n",
       "      <th>C-Number</th>\n",
       "      <th>C-Flux</th>\n",
       "    </tr>\n",
       "  </thead>\n",
       "  <tbody>\n",
       "    <tr>\n",
       "      <td>CARBON_DIOXIDE_e</td>\n",
       "      <td>CO2_tx</td>\n",
       "      <td>26.78</td>\n",
       "      <td>1</td>\n",
       "      <td>100.00%</td>\n",
       "    </tr>\n",
       "    <tr>\n",
       "      <td>CAII_e</td>\n",
       "      <td>Ca_tx</td>\n",
       "      <td>0.2704</td>\n",
       "      <td>0</td>\n",
       "      <td>0.00%</td>\n",
       "    </tr>\n",
       "    <tr>\n",
       "      <td>WATER_e</td>\n",
       "      <td>H2O_tx</td>\n",
       "      <td>20.59</td>\n",
       "      <td>0</td>\n",
       "      <td>0.00%</td>\n",
       "    </tr>\n",
       "    <tr>\n",
       "      <td>KI_e</td>\n",
       "      <td>K_tx</td>\n",
       "      <td>0.553</td>\n",
       "      <td>0</td>\n",
       "      <td>0.00%</td>\n",
       "    </tr>\n",
       "    <tr>\n",
       "      <td>MGII_e</td>\n",
       "      <td>Mg_tx</td>\n",
       "      <td>0.1782</td>\n",
       "      <td>0</td>\n",
       "      <td>0.00%</td>\n",
       "    </tr>\n",
       "    <tr>\n",
       "      <td>AMMONIUM_e</td>\n",
       "      <td>NH4_tx</td>\n",
       "      <td>2.349</td>\n",
       "      <td>0</td>\n",
       "      <td>0.00%</td>\n",
       "    </tr>\n",
       "    <tr>\n",
       "      <td>Photon_e</td>\n",
       "      <td>Photon_tx</td>\n",
       "      <td>250</td>\n",
       "      <td>0</td>\n",
       "      <td>0.00%</td>\n",
       "    </tr>\n",
       "    <tr>\n",
       "      <td>Pi_e</td>\n",
       "      <td>Pi_tx</td>\n",
       "      <td>0.1083</td>\n",
       "      <td>0</td>\n",
       "      <td>0.00%</td>\n",
       "    </tr>\n",
       "    <tr>\n",
       "      <td>SULFATE_e</td>\n",
       "      <td>SO4_tx</td>\n",
       "      <td>0.07248</td>\n",
       "      <td>0</td>\n",
       "      <td>0.00%</td>\n",
       "    </tr>\n",
       "    <tr>\n",
       "      <td>PROTON_c</td>\n",
       "      <td>unlProtHYPO_c</td>\n",
       "      <td>22.84</td>\n",
       "      <td>0</td>\n",
       "      <td>0.00%</td>\n",
       "    </tr>\n",
       "  </tbody>\n",
       "</table><h4>Secretion</h4><table border=\"1\" class=\"dataframe\">\n",
       "  <thead>\n",
       "    <tr style=\"text-align: right;\">\n",
       "      <th>Metabolite</th>\n",
       "      <th>Reaction</th>\n",
       "      <th>Flux</th>\n",
       "      <th>C-Number</th>\n",
       "      <th>C-Flux</th>\n",
       "    </tr>\n",
       "  </thead>\n",
       "  <tbody>\n",
       "    <tr>\n",
       "      <td>3_METHYLSULFINYLPROPYL_GLUCOSINOLATE_c</td>\n",
       "      <td>DM_3_METHYLSULFINYLPROPYL_GLUCOSINOLATE_c</td>\n",
       "      <td>-0.00156</td>\n",
       "      <td>11</td>\n",
       "      <td>11.09%</td>\n",
       "    </tr>\n",
       "    <tr>\n",
       "      <td>CPDQT_280_c</td>\n",
       "      <td>DM_CPDQT_280_c</td>\n",
       "      <td>-0.01063</td>\n",
       "      <td>12</td>\n",
       "      <td>82.40%</td>\n",
       "    </tr>\n",
       "    <tr>\n",
       "      <td>CPDQT_281_c</td>\n",
       "      <td>DM_CPDQT_281_c</td>\n",
       "      <td>-0.00084</td>\n",
       "      <td>12</td>\n",
       "      <td>6.51%</td>\n",
       "    </tr>\n",
       "    <tr>\n",
       "      <td>OXYGEN_MOLECULE_e</td>\n",
       "      <td>O2_tx</td>\n",
       "      <td>-28.37</td>\n",
       "      <td>0</td>\n",
       "      <td>0.00%</td>\n",
       "    </tr>\n",
       "  </tbody>\n",
       "</table>"
      ],
      "text/plain": [
       "<cobra.summary.model_summary.ModelSummary at 0x7ff4f08eb110>"
      ]
     },
     "execution_count": 19,
     "metadata": {},
     "output_type": "execute_result"
    }
   ],
   "source": [
    "# Original solution\n",
    "solution_original = model.optimize()\n",
    "\n",
    "model2 = model.copy()\n",
    "# Removing default sinks\n",
    "model2.remove_reactions(reactions=model2.sinks)\n",
    "\n",
    "amount = {\n",
    "    \"3_METHYLSULFINYLPROPYL_GLUCOSINOLATE_c\": 1.56 / 1000,\n",
    "    \"CPDQT_280_c\": 10.63 / 1000,\n",
    "    \"CPDQT_281_c\": 0.84 / 1000\n",
    "}\n",
    "\n",
    "# Creating a demand for each glucosinolate with its corresponding quantity\n",
    "for glucosinolate in amount.keys():\n",
    "    model2.add_boundary(model2.metabolites.get_by_id(glucosinolate), \"demand\")\n",
    "    model2.reactions.get_by_id(f'DM_{glucosinolate}').bounds = (amount[glucosinolate], 1000)\n",
    "\n",
    "# Defining new solution\n",
    "solution_glucosinolate = model2.optimize()\n",
    "model2.summary(solution=solution_glucosinolate)"
   ]
  },
  {
   "cell_type": "markdown",
   "metadata": {
    "id": "lJc2L65OWEfR"
   },
   "source": [
    "We can see the summary of the original solution saved as `solution_original`."
   ]
  },
  {
   "cell_type": "code",
   "execution_count": 20,
   "metadata": {
    "colab": {
     "base_uri": "https://localhost:8080/",
     "height": 363
    },
    "id": "NDcUh1zhWEfR",
    "outputId": "6fd5833c-0286-423e-f40c-027315630bb9",
    "scrolled": false
   },
   "outputs": [
    {
     "data": {
      "text/html": [
       "<h3>Objective</h3><p>1.0 AraCore_Biomass_tx = 0.31019808176381924</p><h4>Uptake</h4><table border=\"1\" class=\"dataframe\">\n",
       "  <thead>\n",
       "    <tr style=\"text-align: right;\">\n",
       "      <th>Metabolite</th>\n",
       "      <th>Reaction</th>\n",
       "      <th>Flux</th>\n",
       "      <th>C-Number</th>\n",
       "      <th>C-Flux</th>\n",
       "    </tr>\n",
       "  </thead>\n",
       "  <tbody>\n",
       "    <tr>\n",
       "      <td>CARBON_DIOXIDE_e</td>\n",
       "      <td>CO2_tx</td>\n",
       "      <td>26.88</td>\n",
       "      <td>1</td>\n",
       "      <td>100.00%</td>\n",
       "    </tr>\n",
       "    <tr>\n",
       "      <td>CAII_e</td>\n",
       "      <td>Ca_tx</td>\n",
       "      <td>0.273</td>\n",
       "      <td>0</td>\n",
       "      <td>0.00%</td>\n",
       "    </tr>\n",
       "    <tr>\n",
       "      <td>WATER_e</td>\n",
       "      <td>H2O_tx</td>\n",
       "      <td>20.69</td>\n",
       "      <td>0</td>\n",
       "      <td>0.00%</td>\n",
       "    </tr>\n",
       "    <tr>\n",
       "      <td>KI_e</td>\n",
       "      <td>K_tx</td>\n",
       "      <td>0.5584</td>\n",
       "      <td>0</td>\n",
       "      <td>0.00%</td>\n",
       "    </tr>\n",
       "    <tr>\n",
       "      <td>MGII_e</td>\n",
       "      <td>Mg_tx</td>\n",
       "      <td>0.1799</td>\n",
       "      <td>0</td>\n",
       "      <td>0.00%</td>\n",
       "    </tr>\n",
       "    <tr>\n",
       "      <td>AMMONIUM_e</td>\n",
       "      <td>NH4_tx</td>\n",
       "      <td>2.358</td>\n",
       "      <td>0</td>\n",
       "      <td>0.00%</td>\n",
       "    </tr>\n",
       "    <tr>\n",
       "      <td>Photon_e</td>\n",
       "      <td>Photon_tx</td>\n",
       "      <td>250</td>\n",
       "      <td>0</td>\n",
       "      <td>0.00%</td>\n",
       "    </tr>\n",
       "    <tr>\n",
       "      <td>Pi_e</td>\n",
       "      <td>Pi_tx</td>\n",
       "      <td>0.1094</td>\n",
       "      <td>0</td>\n",
       "      <td>0.00%</td>\n",
       "    </tr>\n",
       "    <tr>\n",
       "      <td>SULFATE_e</td>\n",
       "      <td>SO4_tx</td>\n",
       "      <td>0.03371</td>\n",
       "      <td>0</td>\n",
       "      <td>0.00%</td>\n",
       "    </tr>\n",
       "    <tr>\n",
       "      <td>PROTON_c</td>\n",
       "      <td>unlProtHYPO_c</td>\n",
       "      <td>22.84</td>\n",
       "      <td>0</td>\n",
       "      <td>0.00%</td>\n",
       "    </tr>\n",
       "  </tbody>\n",
       "</table><h4>Secretion</h4><table border=\"1\" class=\"dataframe\">\n",
       "  <thead>\n",
       "    <tr style=\"text-align: right;\">\n",
       "      <th>Metabolite</th>\n",
       "      <th>Reaction</th>\n",
       "      <th>Flux</th>\n",
       "      <th>C-Number</th>\n",
       "      <th>C-Flux</th>\n",
       "    </tr>\n",
       "  </thead>\n",
       "  <tbody>\n",
       "    <tr>\n",
       "      <td>OXYGEN_MOLECULE_e</td>\n",
       "      <td>O2_tx</td>\n",
       "      <td>-28.43</td>\n",
       "      <td>0</td>\n",
       "      <td>0.00%</td>\n",
       "    </tr>\n",
       "  </tbody>\n",
       "</table>"
      ],
      "text/plain": [
       "<cobra.summary.model_summary.ModelSummary at 0x7ff4d0ef0d90>"
      ]
     },
     "execution_count": 20,
     "metadata": {},
     "output_type": "execute_result"
    }
   ],
   "source": [
    "model.summary(solution=solution_original)"
   ]
  },
  {
   "cell_type": "markdown",
   "metadata": {
    "id": "5S-LWCJ2WEfR"
   },
   "source": [
    "We can now calculate the $\\Delta$ of the objective function and comparate it\n",
    "to the original value of 0.310198"
   ]
  },
  {
   "cell_type": "code",
   "execution_count": 21,
   "metadata": {
    "colab": {
     "base_uri": "https://localhost:8080/"
    },
    "id": "mLMhupA5WEfR",
    "outputId": "afafecd6-7fd3-41c8-c300-99b1090eeee4"
   },
   "outputs": [
    {
     "data": {
      "text/plain": [
       "0.9504861333332196"
      ]
     },
     "execution_count": 21,
     "metadata": {},
     "output_type": "execute_result"
    }
   ],
   "source": [
    "(solution_original.objective_value - solution_glucosinolate.objective_value)/solution_original.objective_value*100"
   ]
  },
  {
   "cell_type": "markdown",
   "metadata": {
    "id": "N-4zxHvoWEfS"
   },
   "source": [
    "Synthesizing three glucosinolates in our model results in a growth penalty\n",
    "of 0.95%. This value is likely to grow the more metabolites incorporated\n",
    "to the model."
   ]
  }
 ],
 "metadata": {
  "colab": {
   "collapsed_sections": [],
   "name": "GLS.ipynb",
   "provenance": []
  },
  "kernelspec": {
   "display_name": "Python 3 (ipykernel)",
   "language": "python",
   "name": "python3"
  },
  "language_info": {
   "codemirror_mode": {
    "name": "ipython",
    "version": 3
   },
   "file_extension": ".py",
   "mimetype": "text/x-python",
   "name": "python",
   "nbconvert_exporter": "python",
   "pygments_lexer": "ipython3",
   "version": "3.7.4"
  },
  "widgets": {
   "application/vnd.jupyter.widget-state+json": {
    "state": {
     "0824f0f4d2f44f8f8dc99da21dd847ed": {
      "model_module": "escher",
      "model_module_version": "1.7.3",
      "model_name": "EscherMapModel",
      "state": {
       "_loaded_map_json": "[{\"map_name\": \"\", \"map_id\": \"\", \"map_description\": \"\", \"homepage\": \"\", \"schema\": \"https://escher.github.io/escher/jsonschema/1-0-0#\"}, {\"reactions\": {\"0\": {\"name\": \"RXNQT_4163_p\", \"bigg_id\": \"RXNQT_4163_p\", \"reversibility\": true, \"label_x\": 265.0, \"label_y\": 325.0, \"gene_reaction_rule\": \"\", \"genes\": [], \"segments\": {\"0\": {\"from_node_id\": \"6\", \"to_node_id\": \"7\", \"b1\": null, \"b2\": null}, \"1\": {\"from_node_id\": \"8\", \"to_node_id\": \"7\", \"b1\": null, \"b2\": null}, \"2\": {\"from_node_id\": \"0\", \"to_node_id\": \"6\", \"b1\": null, \"b2\": null}, \"3\": {\"from_node_id\": \"1\", \"to_node_id\": \"6\", \"b1\": null, \"b2\": null}, \"4\": {\"from_node_id\": \"2\", \"to_node_id\": \"6\", \"b1\": null, \"b2\": null}, \"5\": {\"from_node_id\": \"3\", \"to_node_id\": \"8\", \"b1\": null, \"b2\": null}, \"6\": {\"from_node_id\": \"4\", \"to_node_id\": \"8\", \"b1\": null, \"b2\": null}, \"7\": {\"from_node_id\": \"5\", \"to_node_id\": \"8\", \"b1\": null, \"b2\": null}}, \"metabolites\": [{\"bigg_id\": \"2_OXO_5_METHYLTHIOPENTANOIC_ACID_p\", \"coefficient\": -1.0}, {\"bigg_id\": \"ACETYL_COA_p\", \"coefficient\": -1.0}, {\"bigg_id\": \"WATER_p\", \"coefficient\": -1.0}, {\"bigg_id\": \"CO_A_p\", \"coefficient\": 1.0}, {\"bigg_id\": \"CPDQT_31_p\", \"coefficient\": 1.0}, {\"bigg_id\": \"PROTON_p\", \"coefficient\": 1.0}]}, \"1\": {\"name\": \"RXN_18184_p\", \"bigg_id\": \"RXN_18184_p\", \"reversibility\": true, \"label_x\": 265.0, \"label_y\": 975.0, \"gene_reaction_rule\": \"\", \"genes\": [], \"segments\": {\"8\": {\"from_node_id\": \"11\", \"to_node_id\": \"12\", \"b1\": null, \"b2\": null}, \"9\": {\"from_node_id\": \"13\", \"to_node_id\": \"12\", \"b1\": null, \"b2\": null}, \"10\": {\"from_node_id\": \"4\", \"to_node_id\": \"11\", \"b1\": null, \"b2\": null}, \"11\": {\"from_node_id\": \"9\", \"to_node_id\": \"13\", \"b1\": null, \"b2\": null}, \"12\": {\"from_node_id\": \"10\", \"to_node_id\": \"13\", \"b1\": null, \"b2\": null}}, \"metabolites\": [{\"bigg_id\": \"CPDQT_31_p\", \"coefficient\": -1.0}, {\"bigg_id\": \"CPD_19477_p\", \"coefficient\": 1.0}, {\"bigg_id\": \"WATER_p\", \"coefficient\": 1.0}]}, \"2\": {\"name\": \"RXN_18185_p\", \"bigg_id\": \"RXN_18185_p\", \"reversibility\": true, \"label_x\": 265.0, \"label_y\": 1625.0, \"gene_reaction_rule\": \"\", \"genes\": [], \"segments\": {\"13\": {\"from_node_id\": \"15\", \"to_node_id\": \"16\", \"b1\": null, \"b2\": null}, \"14\": {\"from_node_id\": \"17\", \"to_node_id\": \"16\", \"b1\": null, \"b2\": null}, \"15\": {\"from_node_id\": \"9\", \"to_node_id\": \"15\", \"b1\": null, \"b2\": null}, \"16\": {\"from_node_id\": \"10\", \"to_node_id\": \"15\", \"b1\": null, \"b2\": null}, \"17\": {\"from_node_id\": \"14\", \"to_node_id\": \"17\", \"b1\": null, \"b2\": null}}, \"metabolites\": [{\"bigg_id\": \"CPD_19477_p\", \"coefficient\": -1.0}, {\"bigg_id\": \"WATER_p\", \"coefficient\": -1.0}, {\"bigg_id\": \"CPDQT_36_p\", \"coefficient\": 1.0}]}, \"3\": {\"name\": \"RXN_18208_p\", \"bigg_id\": \"RXN_18208_p\", \"reversibility\": true, \"label_x\": 265.0, \"label_y\": 2275.0, \"gene_reaction_rule\": \"\", \"genes\": [], \"segments\": {\"18\": {\"from_node_id\": \"22\", \"to_node_id\": \"23\", \"b1\": null, \"b2\": null}, \"19\": {\"from_node_id\": \"24\", \"to_node_id\": \"23\", \"b1\": null, \"b2\": null}, \"20\": {\"from_node_id\": \"14\", \"to_node_id\": \"22\", \"b1\": null, \"b2\": null}, \"21\": {\"from_node_id\": \"18\", \"to_node_id\": \"22\", \"b1\": null, \"b2\": null}, \"22\": {\"from_node_id\": \"19\", \"to_node_id\": \"24\", \"b1\": null, \"b2\": null}, \"23\": {\"from_node_id\": \"20\", \"to_node_id\": \"24\", \"b1\": null, \"b2\": null}, \"24\": {\"from_node_id\": \"21\", \"to_node_id\": \"24\", \"b1\": null, \"b2\": null}}, \"metabolites\": [{\"bigg_id\": \"CPDQT_36_p\", \"coefficient\": -1.0}, {\"bigg_id\": \"NAD_p\", \"coefficient\": -1.0}, {\"bigg_id\": \"CPD_19491_p\", \"coefficient\": 1.0}, {\"bigg_id\": \"NADH_p\", \"coefficient\": 1.0}, {\"bigg_id\": \"PROTON_p\", \"coefficient\": 1.0}]}, \"4\": {\"name\": \"RXN_18209_p\", \"bigg_id\": \"RXN_18209_p\", \"reversibility\": true, \"label_x\": 265.0, \"label_y\": 2925.0, \"gene_reaction_rule\": \"\", \"genes\": [], \"segments\": {\"25\": {\"from_node_id\": \"27\", \"to_node_id\": \"28\", \"b1\": null, \"b2\": null}, \"26\": {\"from_node_id\": \"29\", \"to_node_id\": \"28\", \"b1\": null, \"b2\": null}, \"27\": {\"from_node_id\": \"19\", \"to_node_id\": \"27\", \"b1\": null, \"b2\": null}, \"28\": {\"from_node_id\": \"21\", \"to_node_id\": \"27\", \"b1\": null, \"b2\": null}, \"29\": {\"from_node_id\": \"25\", \"to_node_id\": \"29\", \"b1\": null, \"b2\": null}, \"30\": {\"from_node_id\": \"26\", \"to_node_id\": \"29\", \"b1\": null, \"b2\": null}}, \"metabolites\": [{\"bigg_id\": \"CPD_19491_p\", \"coefficient\": -1.0}, {\"bigg_id\": \"PROTON_p\", \"coefficient\": -1.0}, {\"bigg_id\": \"CARBON_DIOXIDE_p\", \"coefficient\": 1.0}, {\"bigg_id\": \"CPDQT_27_p\", \"coefficient\": 1.0}]}, \"5\": {\"name\": \"RXNQT_4345_p\", \"bigg_id\": \"RXNQT_4345_p\", \"reversibility\": true, \"label_x\": 265.0, \"label_y\": 3575.0, \"gene_reaction_rule\": \"\", \"genes\": [], \"segments\": {\"31\": {\"from_node_id\": \"33\", \"to_node_id\": \"34\", \"b1\": null, \"b2\": null}, \"32\": {\"from_node_id\": \"35\", \"to_node_id\": \"34\", \"b1\": null, \"b2\": null}, \"33\": {\"from_node_id\": \"26\", \"to_node_id\": \"33\", \"b1\": null, \"b2\": null}, \"34\": {\"from_node_id\": \"30\", \"to_node_id\": \"33\", \"b1\": null, \"b2\": null}, \"35\": {\"from_node_id\": \"31\", \"to_node_id\": \"35\", \"b1\": null, \"b2\": null}, \"36\": {\"from_node_id\": \"32\", \"to_node_id\": \"35\", \"b1\": null, \"b2\": null}}, \"metabolites\": [{\"bigg_id\": \"CPDQT_27_p\", \"coefficient\": -1.0}, {\"bigg_id\": \"GLT_p\", \"coefficient\": -1.0}, {\"bigg_id\": \"2_KETOGLUTARATE_p\", \"coefficient\": 1.0}, {\"bigg_id\": \"CPDQT_340_p\", \"coefficient\": 1.0}]}}, \"nodes\": {\"0\": {\"node_type\": \"metabolite\", \"x\": 112.5, \"y\": 30.0, \"label_x\": 122.5, \"label_y\": 20.0, \"bigg_id\": \"2_OXO_5_METHYLTHIOPENTANOIC_ACID_p\", \"name\": \"2_OXO_5_METHYLTHIOPENTANOIC_ACID_p\", \"node_is_primary\": false}, \"1\": {\"node_type\": \"metabolite\", \"x\": 225.0, \"y\": 30.0, \"label_x\": 235.0, \"label_y\": 20.0, \"bigg_id\": \"ACETYL_COA_p\", \"name\": \"ACETYL_COA_p\", \"node_is_primary\": false}, \"2\": {\"node_type\": \"metabolite\", \"x\": 337.5, \"y\": 30.0, \"label_x\": 347.5, \"label_y\": 20.0, \"bigg_id\": \"WATER_p\", \"name\": \"WATER_p\", \"node_is_primary\": false}, \"3\": {\"node_type\": \"metabolite\", \"x\": 112.5, \"y\": 550.0, \"label_x\": 122.5, \"label_y\": 580.0, \"bigg_id\": \"CO_A_p\", \"name\": \"CO_A_p\", \"node_is_primary\": false}, \"4\": {\"node_type\": \"metabolite\", \"x\": 225.0, \"y\": 550.0, \"label_x\": 235.0, \"label_y\": 580.0, \"bigg_id\": \"CPDQT_31_p\", \"name\": \"CPDQT_31_p\", \"node_is_primary\": false}, \"5\": {\"node_type\": \"metabolite\", \"x\": 337.5, \"y\": 550.0, \"label_x\": 347.5, \"label_y\": 580.0, \"bigg_id\": \"PROTON_p\", \"name\": \"PROTON_p\", \"node_is_primary\": false}, \"6\": {\"node_type\": \"multimarker\", \"x\": 225.0, \"y\": 305.0}, \"7\": {\"node_type\": \"midmarker\", \"x\": 225.0, \"y\": 325.0}, \"8\": {\"node_type\": \"multimarker\", \"x\": 225.0, \"y\": 345.0}, \"9\": {\"node_type\": \"metabolite\", \"x\": 150.0, \"y\": 1200.0, \"label_x\": 160.0, \"label_y\": 1230.0, \"bigg_id\": \"CPD_19477_p\", \"name\": \"CPD_19477_p\", \"node_is_primary\": false}, \"10\": {\"node_type\": \"metabolite\", \"x\": 300.0, \"y\": 1200.0, \"label_x\": 310.0, \"label_y\": 1230.0, \"bigg_id\": \"WATER_p\", \"name\": \"WATER_p\", \"node_is_primary\": false}, \"11\": {\"node_type\": \"multimarker\", \"x\": 225.0, \"y\": 955.0}, \"12\": {\"node_type\": \"midmarker\", \"x\": 225.0, \"y\": 975.0}, \"13\": {\"node_type\": \"multimarker\", \"x\": 225.0, \"y\": 995.0}, \"14\": {\"node_type\": \"metabolite\", \"x\": 225.0, \"y\": 1850.0, \"label_x\": 235.0, \"label_y\": 1880.0, \"bigg_id\": \"CPDQT_36_p\", \"name\": \"CPDQT_36_p\", \"node_is_primary\": false}, \"15\": {\"node_type\": \"multimarker\", \"x\": 225.0, \"y\": 1605.0}, \"16\": {\"node_type\": \"midmarker\", \"x\": 225.0, \"y\": 1625.0}, \"17\": {\"node_type\": \"multimarker\", \"x\": 225.0, \"y\": 1645.0}, \"18\": {\"node_type\": \"metabolite\", \"x\": 300.0, \"y\": 1980.0, \"label_x\": 310.0, \"label_y\": 1970.0, \"bigg_id\": \"NAD_p\", \"name\": \"NAD_p\", \"node_is_primary\": false}, \"19\": {\"node_type\": \"metabolite\", \"x\": 112.5, \"y\": 2500.0, \"label_x\": 122.5, \"label_y\": 2530.0, \"bigg_id\": \"CPD_19491_p\", \"name\": \"CPD_19491_p\", \"node_is_primary\": false}, \"20\": {\"node_type\": \"metabolite\", \"x\": 225.0, \"y\": 2500.0, \"label_x\": 235.0, \"label_y\": 2530.0, \"bigg_id\": \"NADH_p\", \"name\": \"NADH_p\", \"node_is_primary\": false}, \"21\": {\"node_type\": \"metabolite\", \"x\": 337.5, \"y\": 2500.0, \"label_x\": 347.5, \"label_y\": 2530.0, \"bigg_id\": \"PROTON_p\", \"name\": \"PROTON_p\", \"node_is_primary\": false}, \"22\": {\"node_type\": \"multimarker\", \"x\": 225.0, \"y\": 2255.0}, \"23\": {\"node_type\": \"midmarker\", \"x\": 225.0, \"y\": 2275.0}, \"24\": {\"node_type\": \"multimarker\", \"x\": 225.0, \"y\": 2295.0}, \"25\": {\"node_type\": \"metabolite\", \"x\": 150.0, \"y\": 3150.0, \"label_x\": 160.0, \"label_y\": 3180.0, \"bigg_id\": \"CARBON_DIOXIDE_p\", \"name\": \"CARBON_DIOXIDE_p\", \"node_is_primary\": false}, \"26\": {\"node_type\": \"metabolite\", \"x\": 300.0, \"y\": 3150.0, \"label_x\": 310.0, \"label_y\": 3180.0, \"bigg_id\": \"CPDQT_27_p\", \"name\": \"CPDQT_27_p\", \"node_is_primary\": false}, \"27\": {\"node_type\": \"multimarker\", \"x\": 225.0, \"y\": 2905.0}, \"28\": {\"node_type\": \"midmarker\", \"x\": 225.0, \"y\": 2925.0}, \"29\": {\"node_type\": \"multimarker\", \"x\": 225.0, \"y\": 2945.0}, \"30\": {\"node_type\": \"metabolite\", \"x\": 300.0, \"y\": 3280.0, \"label_x\": 310.0, \"label_y\": 3270.0, \"bigg_id\": \"GLT_p\", \"name\": \"GLT_p\", \"node_is_primary\": false}, \"31\": {\"node_type\": \"metabolite\", \"x\": 150.0, \"y\": 3800.0, \"label_x\": 160.0, \"label_y\": 3830.0, \"bigg_id\": \"2_KETOGLUTARATE_p\", \"name\": \"2_KETOGLUTARATE_p\", \"node_is_primary\": false}, \"32\": {\"node_type\": \"metabolite\", \"x\": 300.0, \"y\": 3800.0, \"label_x\": 310.0, \"label_y\": 3830.0, \"bigg_id\": \"CPDQT_340_p\", \"name\": \"CPDQT_340_p\", \"node_is_primary\": false}, \"33\": {\"node_type\": \"multimarker\", \"x\": 225.0, \"y\": 3555.0}, \"34\": {\"node_type\": \"midmarker\", \"x\": 225.0, \"y\": 3575.0}, \"35\": {\"node_type\": \"multimarker\", \"x\": 225.0, \"y\": 3595.0}}, \"text_labels\": {}, \"canvas\": {\"x\": 0, \"y\": 0, \"width\": 450, \"height\": 3900}}]",
       "_loaded_model_json": null,
       "allow_building_duplicate_reactions": false,
       "and_method_in_gene_reaction_rule": "mean",
       "canvas_size_and_loc": null,
       "cofactors": [
        "atp",
        "adp",
        "nad",
        "nadh",
        "nadp",
        "nadph",
        "gtp",
        "gdp",
        "h",
        "coa",
        "ump",
        "h2o",
        "ppi"
       ],
       "disabled_buttons": [
        "Clear reaction data",
        "Clear gene data",
        "Clear metabolite data"
       ],
       "embedded_css": null,
       "enable_editing": true,
       "enable_keys": false,
       "enable_keys_with_tooltip": true,
       "enable_search": true,
       "enable_tooltips": false,
       "full_screen_button": {
        "enable_editing": true,
        "enable_keys": true,
        "enable_tooltips": [
         "label"
        ],
        "menu": "all",
        "scroll_behavior": "pan"
       },
       "gene_data": null,
       "gene_font_size": 18,
       "height": 500,
       "hide_all_labels": false,
       "hide_secondary_metabolites": false,
       "highlight_missing": false,
       "identifiers_on_map": "bigg_id",
       "layout": "IPY_MODEL_5b175f7bf2564a8cb7bce2ff25703841",
       "marker_radius": 5,
       "menu": "all",
       "metabolite_compare_style": "log2_fold",
       "metabolite_data": null,
       "metabolite_no_data_color": "#ffffff",
       "metabolite_no_data_size": 10,
       "metabolite_scale": [
        {
         "color": "#fffaf0",
         "size": 20,
         "type": "min"
        },
        {
         "color": "#f1c470",
         "size": 30,
         "type": "median"
        },
        {
         "color": "#800000",
         "size": 40,
         "type": "max"
        }
       ],
       "metabolite_scale_preset": "WhYlRd",
       "metabolite_styles": [
        "color",
        "size",
        "text"
       ],
       "never_ask_before_quit": false,
       "primary_metabolite_radius": 20,
       "reaction_compare_style": "log2_fold",
       "reaction_data": null,
       "reaction_no_data_color": "#dcdcdc",
       "reaction_no_data_size": 8,
       "reaction_scale": [
        {
         "color": "rgb(220,220,220)",
         "type": "value",
         "value": 0
        }
       ],
       "reaction_scale_preset": null,
       "reaction_styles": [
        "color",
        "text"
       ],
       "scroll_behavior": "none",
       "secondary_metabolite_radius": 10,
       "semantic_zoom": null,
       "show_gene_reaction_rules": false,
       "starting_reaction": null,
       "use_3d_transform": false,
       "zoom_to_element": null
      }
     },
     "0c1e6d9c0f9a469fab0feec8a958f1b1": {
      "model_module": "escher",
      "model_module_version": "1.7.3",
      "model_name": "EscherMapModel",
      "state": {
       "_loaded_map_json": "[{\"map_name\": \"\", \"map_id\": \"\", \"map_description\": \"\", \"homepage\": \"\", \"schema\": \"https://escher.github.io/escher/jsonschema/1-0-0#\"}, {\"reactions\": {\"0\": {\"name\": \"RXN_11423_c\", \"bigg_id\": \"RXN_11423_c\", \"reversibility\": true, \"label_x\": 226.0, \"label_y\": 45.0, \"gene_reaction_rule\": \"\", \"genes\": [], \"segments\": {\"0\": {\"from_node_id\": \"4\", \"to_node_id\": \"5\", \"b1\": null, \"b2\": null}, \"1\": {\"from_node_id\": \"6\", \"to_node_id\": \"5\", \"b1\": null, \"b2\": null}, \"2\": {\"from_node_id\": \"0\", \"to_node_id\": \"4\", \"b1\": null, \"b2\": null}, \"3\": {\"from_node_id\": \"1\", \"to_node_id\": \"4\", \"b1\": null, \"b2\": null}, \"4\": {\"from_node_id\": \"2\", \"to_node_id\": \"6\", \"b1\": null, \"b2\": null}, \"5\": {\"from_node_id\": \"3\", \"to_node_id\": \"6\", \"b1\": null, \"b2\": null}}, \"metabolites\": [{\"bigg_id\": \"CPD_12392_c\", \"coefficient\": -1.0}, {\"bigg_id\": \"GLUTATHIONE_c\", \"coefficient\": -1.0}, {\"bigg_id\": \"CPD_12393_c\", \"coefficient\": 1.0}, {\"bigg_id\": \"WATER_c\", \"coefficient\": 1.0}]}, \"1\": {\"name\": \"RXN_11431_c\", \"bigg_id\": \"RXN_11431_c\", \"reversibility\": true, \"label_x\": 876.0, \"label_y\": 45.0, \"gene_reaction_rule\": \"\", \"genes\": [], \"segments\": {\"6\": {\"from_node_id\": \"9\", \"to_node_id\": \"10\", \"b1\": null, \"b2\": null}, \"7\": {\"from_node_id\": \"11\", \"to_node_id\": \"10\", \"b1\": null, \"b2\": null}, \"8\": {\"from_node_id\": \"2\", \"to_node_id\": \"9\", \"b1\": null, \"b2\": null}, \"9\": {\"from_node_id\": \"3\", \"to_node_id\": \"9\", \"b1\": null, \"b2\": null}, \"10\": {\"from_node_id\": \"7\", \"to_node_id\": \"11\", \"b1\": null, \"b2\": null}, \"11\": {\"from_node_id\": \"8\", \"to_node_id\": \"11\", \"b1\": null, \"b2\": null}}, \"metabolites\": [{\"bigg_id\": \"CPD_12393_c\", \"coefficient\": -1.0}, {\"bigg_id\": \"WATER_c\", \"coefficient\": -1.0}, {\"bigg_id\": \"CPD_12394_c\", \"coefficient\": 1.0}, {\"bigg_id\": \"GLT_c\", \"coefficient\": 1.0}]}, \"2\": {\"name\": \"RXN_19588_c\", \"bigg_id\": \"RXN_19588_c\", \"reversibility\": true, \"label_x\": 1526.0, \"label_y\": 45.0, \"gene_reaction_rule\": \"\", \"genes\": [], \"segments\": {\"12\": {\"from_node_id\": \"15\", \"to_node_id\": \"16\", \"b1\": null, \"b2\": null}, \"13\": {\"from_node_id\": \"17\", \"to_node_id\": \"16\", \"b1\": null, \"b2\": null}, \"14\": {\"from_node_id\": \"7\", \"to_node_id\": \"15\", \"b1\": null, \"b2\": null}, \"15\": {\"from_node_id\": \"12\", \"to_node_id\": \"15\", \"b1\": null, \"b2\": null}, \"16\": {\"from_node_id\": \"13\", \"to_node_id\": \"17\", \"b1\": null, \"b2\": null}, \"17\": {\"from_node_id\": \"14\", \"to_node_id\": \"17\", \"b1\": null, \"b2\": null}}, \"metabolites\": [{\"bigg_id\": \"CPD_12394_c\", \"coefficient\": -1.0}, {\"bigg_id\": \"WATER_c\", \"coefficient\": -1.0}, {\"bigg_id\": \"CPDQT_406_c\", \"coefficient\": 1.0}, {\"bigg_id\": \"GLY_c\", \"coefficient\": 1.0}]}, \"3\": {\"name\": \"RXNQT_4319_c\", \"bigg_id\": \"RXNQT_4319_c\", \"reversibility\": true, \"label_x\": 2167.0, \"label_y\": 45.0, \"gene_reaction_rule\": \"\", \"genes\": [], \"segments\": {\"18\": {\"from_node_id\": \"22\", \"to_node_id\": \"23\", \"b1\": null, \"b2\": null}, \"19\": {\"from_node_id\": \"24\", \"to_node_id\": \"23\", \"b1\": null, \"b2\": null}, \"20\": {\"from_node_id\": \"13\", \"to_node_id\": \"22\", \"b1\": null, \"b2\": null}, \"21\": {\"from_node_id\": \"18\", \"to_node_id\": \"22\", \"b1\": null, \"b2\": null}, \"22\": {\"from_node_id\": \"19\", \"to_node_id\": \"24\", \"b1\": null, \"b2\": null}, \"23\": {\"from_node_id\": \"20\", \"to_node_id\": \"24\", \"b1\": null, \"b2\": null}, \"24\": {\"from_node_id\": \"21\", \"to_node_id\": \"24\", \"b1\": null, \"b2\": null}}, \"metabolites\": [{\"bigg_id\": \"CPDQT_406_c\", \"coefficient\": -1.0}, {\"bigg_id\": \"WATER_c\", \"coefficient\": -1.0}, {\"bigg_id\": \"AMMONIUM_c\", \"coefficient\": 1.0}, {\"bigg_id\": \"CPDQT_411_c\", \"coefficient\": 1.0}, {\"bigg_id\": \"PYRUVATE_c\", \"coefficient\": 1.0}]}, \"4\": {\"name\": \"RXNQT_4324_c\", \"bigg_id\": \"RXNQT_4324_c\", \"reversibility\": true, \"label_x\": 2817.0, \"label_y\": 45.0, \"gene_reaction_rule\": \"\", \"genes\": [], \"segments\": {\"25\": {\"from_node_id\": \"29\", \"to_node_id\": \"30\", \"b1\": null, \"b2\": null}, \"26\": {\"from_node_id\": \"31\", \"to_node_id\": \"30\", \"b1\": null, \"b2\": null}, \"27\": {\"from_node_id\": \"20\", \"to_node_id\": \"29\", \"b1\": null, \"b2\": null}, \"28\": {\"from_node_id\": \"25\", \"to_node_id\": \"29\", \"b1\": null, \"b2\": null}, \"29\": {\"from_node_id\": \"26\", \"to_node_id\": \"31\", \"b1\": null, \"b2\": null}, \"30\": {\"from_node_id\": \"27\", \"to_node_id\": \"31\", \"b1\": null, \"b2\": null}, \"31\": {\"from_node_id\": \"28\", \"to_node_id\": \"31\", \"b1\": null, \"b2\": null}}, \"metabolites\": [{\"bigg_id\": \"CPDQT_411_c\", \"coefficient\": -1.0}, {\"bigg_id\": \"UDP_GLUCOSE_c\", \"coefficient\": -1.0}, {\"bigg_id\": \"CPDQT_416_c\", \"coefficient\": 1.0}, {\"bigg_id\": \"PROTON_c\", \"coefficient\": 1.0}, {\"bigg_id\": \"UDP_c\", \"coefficient\": 1.0}]}, \"5\": {\"name\": \"RXNQT_4329_c\", \"bigg_id\": \"RXNQT_4329_c\", \"reversibility\": true, \"label_x\": 3467.0, \"label_y\": 45.0, \"gene_reaction_rule\": \"\", \"genes\": [], \"segments\": {\"32\": {\"from_node_id\": \"36\", \"to_node_id\": \"37\", \"b1\": null, \"b2\": null}, \"33\": {\"from_node_id\": \"38\", \"to_node_id\": \"37\", \"b1\": null, \"b2\": null}, \"34\": {\"from_node_id\": \"26\", \"to_node_id\": \"36\", \"b1\": null, \"b2\": null}, \"35\": {\"from_node_id\": \"32\", \"to_node_id\": \"36\", \"b1\": null, \"b2\": null}, \"36\": {\"from_node_id\": \"33\", \"to_node_id\": \"38\", \"b1\": null, \"b2\": null}, \"37\": {\"from_node_id\": \"34\", \"to_node_id\": \"38\", \"b1\": null, \"b2\": null}, \"38\": {\"from_node_id\": \"35\", \"to_node_id\": \"38\", \"b1\": null, \"b2\": null}}, \"metabolites\": [{\"bigg_id\": \"CPDQT_416_c\", \"coefficient\": -1.0}, {\"bigg_id\": \"PAPS_c\", \"coefficient\": -1.0}, {\"bigg_id\": \"3_5_ADP_c\", \"coefficient\": 1.0}, {\"bigg_id\": \"CPDQT_281_c\", \"coefficient\": 1.0}, {\"bigg_id\": \"PROTON_c\", \"coefficient\": 1.0}]}, \"6\": {\"name\": \"RXNQT_4334_c\", \"bigg_id\": \"RXNQT_4334_c\", \"reversibility\": true, \"label_x\": 4117.0, \"label_y\": 45.0, \"gene_reaction_rule\": \"\", \"genes\": [], \"segments\": {\"39\": {\"from_node_id\": \"44\", \"to_node_id\": \"45\", \"b1\": null, \"b2\": null}, \"40\": {\"from_node_id\": \"46\", \"to_node_id\": \"45\", \"b1\": null, \"b2\": null}, \"41\": {\"from_node_id\": \"34\", \"to_node_id\": \"44\", \"b1\": null, \"b2\": null}, \"42\": {\"from_node_id\": \"39\", \"to_node_id\": \"44\", \"b1\": null, \"b2\": null}, \"43\": {\"from_node_id\": \"40\", \"to_node_id\": \"44\", \"b1\": null, \"b2\": null}, \"44\": {\"from_node_id\": \"35\", \"to_node_id\": \"44\", \"b1\": null, \"b2\": null}, \"45\": {\"from_node_id\": \"41\", \"to_node_id\": \"46\", \"b1\": null, \"b2\": null}, \"46\": {\"from_node_id\": \"42\", \"to_node_id\": \"46\", \"b1\": null, \"b2\": null}, \"47\": {\"from_node_id\": \"43\", \"to_node_id\": \"46\", \"b1\": null, \"b2\": null}}, \"metabolites\": [{\"bigg_id\": \"CPDQT_281_c\", \"coefficient\": -1.0}, {\"bigg_id\": \"NADPH_c\", \"coefficient\": -1.0}, {\"bigg_id\": \"OXYGEN_MOLECULE_c\", \"coefficient\": -1.0}, {\"bigg_id\": \"PROTON_c\", \"coefficient\": -1.0}, {\"bigg_id\": \"CPDQT_280_c\", \"coefficient\": 1.0}, {\"bigg_id\": \"NADP_c\", \"coefficient\": 1.0}, {\"bigg_id\": \"WATER_c\", \"coefficient\": 1.0}]}}, \"nodes\": {\"0\": {\"node_type\": \"metabolite\", \"x\": 30.0, \"y\": 150.0, \"label_x\": 0.0, \"label_y\": 130.0, \"bigg_id\": \"CPD_12392_c\", \"name\": \"CPD_12392_c\", \"node_is_primary\": false}, \"1\": {\"node_type\": \"metabolite\", \"x\": 30.0, \"y\": 300.0, \"label_x\": 0.0, \"label_y\": 280.0, \"bigg_id\": \"GLUTATHIONE_c\", \"name\": \"GLUTATHIONE_c\", \"node_is_primary\": false}, \"2\": {\"node_type\": \"metabolite\", \"x\": 550.0, \"y\": 150.0, \"label_x\": 520.0, \"label_y\": 130.0, \"bigg_id\": \"CPD_12393_c\", \"name\": \"CPD_12393_c\", \"node_is_primary\": false}, \"3\": {\"node_type\": \"metabolite\", \"x\": 550.0, \"y\": 300.0, \"label_x\": 520.0, \"label_y\": 280.0, \"bigg_id\": \"WATER_c\", \"name\": \"WATER_c\", \"node_is_primary\": false}, \"4\": {\"node_type\": \"multimarker\", \"x\": 335.0, \"y\": 225.0}, \"5\": {\"node_type\": \"midmarker\", \"x\": 355.0, \"y\": 225.0}, \"6\": {\"node_type\": \"multimarker\", \"x\": 375.0, \"y\": 225.0}, \"7\": {\"node_type\": \"metabolite\", \"x\": 1200.0, \"y\": 150.0, \"label_x\": 1170.0, \"label_y\": 130.0, \"bigg_id\": \"CPD_12394_c\", \"name\": \"CPD_12394_c\", \"node_is_primary\": false}, \"8\": {\"node_type\": \"metabolite\", \"x\": 1200.0, \"y\": 300.0, \"label_x\": 1170.0, \"label_y\": 280.0, \"bigg_id\": \"GLT_c\", \"name\": \"GLT_c\", \"node_is_primary\": false}, \"9\": {\"node_type\": \"multimarker\", \"x\": 985.0, \"y\": 225.0}, \"10\": {\"node_type\": \"midmarker\", \"x\": 1005.0, \"y\": 225.0}, \"11\": {\"node_type\": \"multimarker\", \"x\": 1025.0, \"y\": 225.0}, \"12\": {\"node_type\": \"metabolite\", \"x\": 1330.0, \"y\": 300.0, \"label_x\": 1300.0, \"label_y\": 280.0, \"bigg_id\": \"WATER_c\", \"name\": \"WATER_c\", \"node_is_primary\": false}, \"13\": {\"node_type\": \"metabolite\", \"x\": 1850.0, \"y\": 150.0, \"label_x\": 1820.0, \"label_y\": 130.0, \"bigg_id\": \"CPDQT_406_c\", \"name\": \"CPDQT_406_c\", \"node_is_primary\": false}, \"14\": {\"node_type\": \"metabolite\", \"x\": 1850.0, \"y\": 300.0, \"label_x\": 1820.0, \"label_y\": 280.0, \"bigg_id\": \"GLY_c\", \"name\": \"GLY_c\", \"node_is_primary\": false}, \"15\": {\"node_type\": \"multimarker\", \"x\": 1635.0, \"y\": 225.0}, \"16\": {\"node_type\": \"midmarker\", \"x\": 1655.0, \"y\": 225.0}, \"17\": {\"node_type\": \"multimarker\", \"x\": 1675.0, \"y\": 225.0}, \"18\": {\"node_type\": \"metabolite\", \"x\": 1980.0, \"y\": 300.0, \"label_x\": 1950.0, \"label_y\": 280.0, \"bigg_id\": \"WATER_c\", \"name\": \"WATER_c\", \"node_is_primary\": false}, \"19\": {\"node_type\": \"metabolite\", \"x\": 2500.0, \"y\": 112.5, \"label_x\": 2470.0, \"label_y\": 92.5, \"bigg_id\": \"AMMONIUM_c\", \"name\": \"AMMONIUM_c\", \"node_is_primary\": false}, \"20\": {\"node_type\": \"metabolite\", \"x\": 2500.0, \"y\": 225.0, \"label_x\": 2470.0, \"label_y\": 205.0, \"bigg_id\": \"CPDQT_411_c\", \"name\": \"CPDQT_411_c\", \"node_is_primary\": false}, \"21\": {\"node_type\": \"metabolite\", \"x\": 2500.0, \"y\": 337.5, \"label_x\": 2470.0, \"label_y\": 317.5, \"bigg_id\": \"PYRUVATE_c\", \"name\": \"PYRUVATE_c\", \"node_is_primary\": false}, \"22\": {\"node_type\": \"multimarker\", \"x\": 2285.0, \"y\": 225.0}, \"23\": {\"node_type\": \"midmarker\", \"x\": 2305.0, \"y\": 225.0}, \"24\": {\"node_type\": \"multimarker\", \"x\": 2325.0, \"y\": 225.0}, \"25\": {\"node_type\": \"metabolite\", \"x\": 2630.0, \"y\": 300.0, \"label_x\": 2600.0, \"label_y\": 280.0, \"bigg_id\": \"UDP_GLUCOSE_c\", \"name\": \"UDP_GLUCOSE_c\", \"node_is_primary\": false}, \"26\": {\"node_type\": \"metabolite\", \"x\": 3150.0, \"y\": 112.5, \"label_x\": 3120.0, \"label_y\": 92.5, \"bigg_id\": \"CPDQT_416_c\", \"name\": \"CPDQT_416_c\", \"node_is_primary\": false}, \"27\": {\"node_type\": \"metabolite\", \"x\": 3150.0, \"y\": 225.0, \"label_x\": 3120.0, \"label_y\": 205.0, \"bigg_id\": \"PROTON_c\", \"name\": \"PROTON_c\", \"node_is_primary\": false}, \"28\": {\"node_type\": \"metabolite\", \"x\": 3150.0, \"y\": 337.5, \"label_x\": 3120.0, \"label_y\": 317.5, \"bigg_id\": \"UDP_c\", \"name\": \"UDP_c\", \"node_is_primary\": false}, \"29\": {\"node_type\": \"multimarker\", \"x\": 2935.0, \"y\": 225.0}, \"30\": {\"node_type\": \"midmarker\", \"x\": 2955.0, \"y\": 225.0}, \"31\": {\"node_type\": \"multimarker\", \"x\": 2975.0, \"y\": 225.0}, \"32\": {\"node_type\": \"metabolite\", \"x\": 3280.0, \"y\": 300.0, \"label_x\": 3250.0, \"label_y\": 280.0, \"bigg_id\": \"PAPS_c\", \"name\": \"PAPS_c\", \"node_is_primary\": false}, \"33\": {\"node_type\": \"metabolite\", \"x\": 3800.0, \"y\": 112.5, \"label_x\": 3770.0, \"label_y\": 92.5, \"bigg_id\": \"3_5_ADP_c\", \"name\": \"3_5_ADP_c\", \"node_is_primary\": false}, \"34\": {\"node_type\": \"metabolite\", \"x\": 3800.0, \"y\": 225.0, \"label_x\": 3770.0, \"label_y\": 205.0, \"bigg_id\": \"CPDQT_281_c\", \"name\": \"CPDQT_281_c\", \"node_is_primary\": false}, \"35\": {\"node_type\": \"metabolite\", \"x\": 3800.0, \"y\": 337.5, \"label_x\": 3770.0, \"label_y\": 317.5, \"bigg_id\": \"PROTON_c\", \"name\": \"PROTON_c\", \"node_is_primary\": false}, \"36\": {\"node_type\": \"multimarker\", \"x\": 3585.0, \"y\": 225.0}, \"37\": {\"node_type\": \"midmarker\", \"x\": 3605.0, \"y\": 225.0}, \"38\": {\"node_type\": \"multimarker\", \"x\": 3625.0, \"y\": 225.0}, \"39\": {\"node_type\": \"metabolite\", \"x\": 3930.0, \"y\": 180.0, \"label_x\": 3900.0, \"label_y\": 160.0, \"bigg_id\": \"NADPH_c\", \"name\": \"NADPH_c\", \"node_is_primary\": false}, \"40\": {\"node_type\": \"metabolite\", \"x\": 3930.0, \"y\": 270.0, \"label_x\": 3900.0, \"label_y\": 250.0, \"bigg_id\": \"OXYGEN_MOLECULE_c\", \"name\": \"OXYGEN_MOLECULE_c\", \"node_is_primary\": false}, \"41\": {\"node_type\": \"metabolite\", \"x\": 4450.0, \"y\": 112.5, \"label_x\": 4420.0, \"label_y\": 92.5, \"bigg_id\": \"CPDQT_280_c\", \"name\": \"CPDQT_280_c\", \"node_is_primary\": false}, \"42\": {\"node_type\": \"metabolite\", \"x\": 4450.0, \"y\": 225.0, \"label_x\": 4420.0, \"label_y\": 205.0, \"bigg_id\": \"NADP_c\", \"name\": \"NADP_c\", \"node_is_primary\": false}, \"43\": {\"node_type\": \"metabolite\", \"x\": 4450.0, \"y\": 337.5, \"label_x\": 4420.0, \"label_y\": 317.5, \"bigg_id\": \"WATER_c\", \"name\": \"WATER_c\", \"node_is_primary\": false}, \"44\": {\"node_type\": \"multimarker\", \"x\": 4235.0, \"y\": 225.0}, \"45\": {\"node_type\": \"midmarker\", \"x\": 4255.0, \"y\": 225.0}, \"46\": {\"node_type\": \"multimarker\", \"x\": 4275.0, \"y\": 225.0}}, \"text_labels\": {}, \"canvas\": {\"x\": 0, \"y\": 0, \"width\": 4550, \"height\": 450}}]",
       "_loaded_model_json": null,
       "allow_building_duplicate_reactions": false,
       "and_method_in_gene_reaction_rule": "mean",
       "canvas_size_and_loc": null,
       "cofactors": [
        "atp",
        "adp",
        "nad",
        "nadh",
        "nadp",
        "nadph",
        "gtp",
        "gdp",
        "h",
        "coa",
        "ump",
        "h2o",
        "ppi"
       ],
       "disabled_buttons": [
        "Clear reaction data",
        "Clear gene data",
        "Clear metabolite data"
       ],
       "embedded_css": null,
       "enable_editing": true,
       "enable_keys": false,
       "enable_keys_with_tooltip": true,
       "enable_search": true,
       "enable_tooltips": false,
       "full_screen_button": {
        "enable_editing": true,
        "enable_keys": true,
        "enable_tooltips": [
         "label"
        ],
        "menu": "all",
        "scroll_behavior": "pan"
       },
       "gene_data": null,
       "gene_font_size": 18,
       "height": 500,
       "hide_all_labels": false,
       "hide_secondary_metabolites": false,
       "highlight_missing": false,
       "identifiers_on_map": "bigg_id",
       "layout": "IPY_MODEL_826482729a1e4082806bffcec95278c0",
       "marker_radius": 5,
       "menu": "all",
       "metabolite_compare_style": "log2_fold",
       "metabolite_data": null,
       "metabolite_no_data_color": "#ffffff",
       "metabolite_no_data_size": 10,
       "metabolite_scale": [
        {
         "color": "#fffaf0",
         "size": 20,
         "type": "min"
        },
        {
         "color": "#f1c470",
         "size": 30,
         "type": "median"
        },
        {
         "color": "#800000",
         "size": 40,
         "type": "max"
        }
       ],
       "metabolite_scale_preset": "WhYlRd",
       "metabolite_styles": [
        "color",
        "size",
        "text"
       ],
       "never_ask_before_quit": false,
       "primary_metabolite_radius": 20,
       "reaction_compare_style": "log2_fold",
       "reaction_data": null,
       "reaction_no_data_color": "#dcdcdc",
       "reaction_no_data_size": 8,
       "reaction_scale": [
        {
         "color": "rgb(220,220,220)",
         "type": "value",
         "value": 0
        }
       ],
       "reaction_scale_preset": null,
       "reaction_styles": [
        "color",
        "text"
       ],
       "scroll_behavior": "none",
       "secondary_metabolite_radius": 10,
       "semantic_zoom": null,
       "show_gene_reaction_rules": false,
       "starting_reaction": null,
       "use_3d_transform": false,
       "zoom_to_element": null
      }
     },
     "0d4fe0e68bed441693aae7fde2b02db8": {
      "model_module": "@jupyter-widgets/base",
      "model_module_version": "1.2.0",
      "model_name": "LayoutModel",
      "state": {}
     },
     "0ff4c425729d4336abb91ec55fd2ade8": {
      "model_module": "escher",
      "model_module_version": "1.7.3",
      "model_name": "EscherMapModel",
      "state": {
       "_loaded_map_json": "[{\"map_name\": \"\", \"map_id\": \"\", \"map_description\": \"\", \"homepage\": \"\", \"schema\": \"https://escher.github.io/escher/jsonschema/1-0-0#\"}, {\"reactions\": {\"0\": {\"name\": \"RXN_2202_p\", \"bigg_id\": \"RXN_2202_p\", \"reversibility\": true, \"label_x\": 235.0, \"label_y\": 45.0, \"gene_reaction_rule\": \"\", \"genes\": [], \"segments\": {\"0\": {\"from_node_id\": \"6\", \"to_node_id\": \"7\", \"b1\": null, \"b2\": null}, \"1\": {\"from_node_id\": \"8\", \"to_node_id\": \"7\", \"b1\": null, \"b2\": null}, \"2\": {\"from_node_id\": \"0\", \"to_node_id\": \"6\", \"b1\": null, \"b2\": null}, \"3\": {\"from_node_id\": \"1\", \"to_node_id\": \"6\", \"b1\": null, \"b2\": null}, \"4\": {\"from_node_id\": \"2\", \"to_node_id\": \"6\", \"b1\": null, \"b2\": null}, \"5\": {\"from_node_id\": \"3\", \"to_node_id\": \"8\", \"b1\": null, \"b2\": null}, \"6\": {\"from_node_id\": \"4\", \"to_node_id\": \"8\", \"b1\": null, \"b2\": null}, \"7\": {\"from_node_id\": \"5\", \"to_node_id\": \"8\", \"b1\": null, \"b2\": null}}, \"metabolites\": [{\"bigg_id\": \"ACETYL_COA_p\", \"coefficient\": -1.0}, {\"bigg_id\": \"CPD_479_p\", \"coefficient\": -1.0}, {\"bigg_id\": \"WATER_p\", \"coefficient\": -1.0}, {\"bigg_id\": \"2_2_METHYLTHIOETHYLMALIC_ACID_p\", \"coefficient\": 1.0}, {\"bigg_id\": \"CO_A_p\", \"coefficient\": 1.0}, {\"bigg_id\": \"PROTON_p\", \"coefficient\": 1.0}]}, \"1\": {\"name\": \"RXN_18182_p\", \"bigg_id\": \"RXN_18182_p\", \"reversibility\": true, \"label_x\": 876.0, \"label_y\": 45.0, \"gene_reaction_rule\": \"\", \"genes\": [], \"segments\": {\"8\": {\"from_node_id\": \"11\", \"to_node_id\": \"12\", \"b1\": null, \"b2\": null}, \"9\": {\"from_node_id\": \"13\", \"to_node_id\": \"12\", \"b1\": null, \"b2\": null}, \"10\": {\"from_node_id\": \"3\", \"to_node_id\": \"11\", \"b1\": null, \"b2\": null}, \"11\": {\"from_node_id\": \"9\", \"to_node_id\": \"13\", \"b1\": null, \"b2\": null}, \"12\": {\"from_node_id\": \"10\", \"to_node_id\": \"13\", \"b1\": null, \"b2\": null}}, \"metabolites\": [{\"bigg_id\": \"2_2_METHYLTHIOETHYLMALIC_ACID_p\", \"coefficient\": -1.0}, {\"bigg_id\": \"CPD_19476_p\", \"coefficient\": 1.0}, {\"bigg_id\": \"WATER_p\", \"coefficient\": 1.0}]}, \"2\": {\"name\": \"RXN_18183_p\", \"bigg_id\": \"RXN_18183_p\", \"reversibility\": true, \"label_x\": 1526.0, \"label_y\": 45.0, \"gene_reaction_rule\": \"\", \"genes\": [], \"segments\": {\"13\": {\"from_node_id\": \"15\", \"to_node_id\": \"16\", \"b1\": null, \"b2\": null}, \"14\": {\"from_node_id\": \"17\", \"to_node_id\": \"16\", \"b1\": null, \"b2\": null}, \"15\": {\"from_node_id\": \"9\", \"to_node_id\": \"15\", \"b1\": null, \"b2\": null}, \"16\": {\"from_node_id\": \"10\", \"to_node_id\": \"15\", \"b1\": null, \"b2\": null}, \"17\": {\"from_node_id\": \"14\", \"to_node_id\": \"17\", \"b1\": null, \"b2\": null}}, \"metabolites\": [{\"bigg_id\": \"CPD_19476_p\", \"coefficient\": -1.0}, {\"bigg_id\": \"WATER_p\", \"coefficient\": -1.0}, {\"bigg_id\": \"3_2_METHYLTHIOETHYLMALIC_ACID_p\", \"coefficient\": 1.0}]}, \"3\": {\"name\": \"RXN_2204_p\", \"bigg_id\": \"RXN_2204_p\", \"reversibility\": true, \"label_x\": 2185.0, \"label_y\": 45.0, \"gene_reaction_rule\": \"\", \"genes\": [], \"segments\": {\"18\": {\"from_node_id\": \"22\", \"to_node_id\": \"23\", \"b1\": null, \"b2\": null}, \"19\": {\"from_node_id\": \"24\", \"to_node_id\": \"23\", \"b1\": null, \"b2\": null}, \"20\": {\"from_node_id\": \"14\", \"to_node_id\": \"22\", \"b1\": null, \"b2\": null}, \"21\": {\"from_node_id\": \"18\", \"to_node_id\": \"22\", \"b1\": null, \"b2\": null}, \"22\": {\"from_node_id\": \"19\", \"to_node_id\": \"24\", \"b1\": null, \"b2\": null}, \"23\": {\"from_node_id\": \"20\", \"to_node_id\": \"24\", \"b1\": null, \"b2\": null}, \"24\": {\"from_node_id\": \"21\", \"to_node_id\": \"24\", \"b1\": null, \"b2\": null}}, \"metabolites\": [{\"bigg_id\": \"3_2_METHYLTHIOETHYLMALIC_ACID_p\", \"coefficient\": -1.0}, {\"bigg_id\": \"NAD_p\", \"coefficient\": -1.0}, {\"bigg_id\": \"CPD_19486_p\", \"coefficient\": 1.0}, {\"bigg_id\": \"NADH_p\", \"coefficient\": 1.0}, {\"bigg_id\": \"PROTON_p\", \"coefficient\": 1.0}]}, \"4\": {\"name\": \"RXN_18198_p\", \"bigg_id\": \"RXN_18198_p\", \"reversibility\": true, \"label_x\": 2826.0, \"label_y\": 45.0, \"gene_reaction_rule\": \"\", \"genes\": [], \"segments\": {\"25\": {\"from_node_id\": \"27\", \"to_node_id\": \"28\", \"b1\": null, \"b2\": null}, \"26\": {\"from_node_id\": \"29\", \"to_node_id\": \"28\", \"b1\": null, \"b2\": null}, \"27\": {\"from_node_id\": \"19\", \"to_node_id\": \"27\", \"b1\": null, \"b2\": null}, \"28\": {\"from_node_id\": \"21\", \"to_node_id\": \"27\", \"b1\": null, \"b2\": null}, \"29\": {\"from_node_id\": \"25\", \"to_node_id\": \"29\", \"b1\": null, \"b2\": null}, \"30\": {\"from_node_id\": \"26\", \"to_node_id\": \"29\", \"b1\": null, \"b2\": null}}, \"metabolites\": [{\"bigg_id\": \"CPD_19486_p\", \"coefficient\": -1.0}, {\"bigg_id\": \"PROTON_p\", \"coefficient\": -1.0}, {\"bigg_id\": \"2_OXO_5_METHYLTHIOPENTANOIC_ACID_p\", \"coefficient\": 1.0}, {\"bigg_id\": \"CARBON_DIOXIDE_p\", \"coefficient\": 1.0}]}, \"5\": {\"name\": \"RXN_2205_p\", \"bigg_id\": \"RXN_2205_p\", \"reversibility\": true, \"label_x\": 3485.0, \"label_y\": 45.0, \"gene_reaction_rule\": \"\", \"genes\": [], \"segments\": {\"31\": {\"from_node_id\": \"33\", \"to_node_id\": \"34\", \"b1\": null, \"b2\": null}, \"32\": {\"from_node_id\": \"35\", \"to_node_id\": \"34\", \"b1\": null, \"b2\": null}, \"33\": {\"from_node_id\": \"25\", \"to_node_id\": \"33\", \"b1\": null, \"b2\": null}, \"34\": {\"from_node_id\": \"30\", \"to_node_id\": \"33\", \"b1\": null, \"b2\": null}, \"35\": {\"from_node_id\": \"31\", \"to_node_id\": \"35\", \"b1\": null, \"b2\": null}, \"36\": {\"from_node_id\": \"32\", \"to_node_id\": \"35\", \"b1\": null, \"b2\": null}}, \"metabolites\": [{\"bigg_id\": \"2_OXO_5_METHYLTHIOPENTANOIC_ACID_p\", \"coefficient\": -1.0}, {\"bigg_id\": \"GLT_p\", \"coefficient\": -1.0}, {\"bigg_id\": \"2_KETOGLUTARATE_p\", \"coefficient\": 1.0}, {\"bigg_id\": \"HOMOMETHIONINE_p\", \"coefficient\": 1.0}]}}, \"nodes\": {\"0\": {\"node_type\": \"metabolite\", \"x\": 30.0, \"y\": 112.5, \"label_x\": 0.0, \"label_y\": 92.5, \"bigg_id\": \"ACETYL_COA_p\", \"name\": \"ACETYL_COA_p\", \"node_is_primary\": false}, \"1\": {\"node_type\": \"metabolite\", \"x\": 30.0, \"y\": 225.0, \"label_x\": 0.0, \"label_y\": 205.0, \"bigg_id\": \"CPD_479_p\", \"name\": \"CPD_479_p\", \"node_is_primary\": false}, \"2\": {\"node_type\": \"metabolite\", \"x\": 30.0, \"y\": 337.5, \"label_x\": 0.0, \"label_y\": 317.5, \"bigg_id\": \"WATER_p\", \"name\": \"WATER_p\", \"node_is_primary\": false}, \"3\": {\"node_type\": \"metabolite\", \"x\": 550.0, \"y\": 112.5, \"label_x\": 520.0, \"label_y\": 92.5, \"bigg_id\": \"2_2_METHYLTHIOETHYLMALIC_ACID_p\", \"name\": \"2_2_METHYLTHIOETHYLMALIC_ACID_p\", \"node_is_primary\": false}, \"4\": {\"node_type\": \"metabolite\", \"x\": 550.0, \"y\": 225.0, \"label_x\": 520.0, \"label_y\": 205.0, \"bigg_id\": \"CO_A_p\", \"name\": \"CO_A_p\", \"node_is_primary\": false}, \"5\": {\"node_type\": \"metabolite\", \"x\": 550.0, \"y\": 337.5, \"label_x\": 520.0, \"label_y\": 317.5, \"bigg_id\": \"PROTON_p\", \"name\": \"PROTON_p\", \"node_is_primary\": false}, \"6\": {\"node_type\": \"multimarker\", \"x\": 335.0, \"y\": 225.0}, \"7\": {\"node_type\": \"midmarker\", \"x\": 355.0, \"y\": 225.0}, \"8\": {\"node_type\": \"multimarker\", \"x\": 375.0, \"y\": 225.0}, \"9\": {\"node_type\": \"metabolite\", \"x\": 1200.0, \"y\": 150.0, \"label_x\": 1170.0, \"label_y\": 130.0, \"bigg_id\": \"CPD_19476_p\", \"name\": \"CPD_19476_p\", \"node_is_primary\": false}, \"10\": {\"node_type\": \"metabolite\", \"x\": 1200.0, \"y\": 300.0, \"label_x\": 1170.0, \"label_y\": 280.0, \"bigg_id\": \"WATER_p\", \"name\": \"WATER_p\", \"node_is_primary\": false}, \"11\": {\"node_type\": \"multimarker\", \"x\": 985.0, \"y\": 225.0}, \"12\": {\"node_type\": \"midmarker\", \"x\": 1005.0, \"y\": 225.0}, \"13\": {\"node_type\": \"multimarker\", \"x\": 1025.0, \"y\": 225.0}, \"14\": {\"node_type\": \"metabolite\", \"x\": 1850.0, \"y\": 225.0, \"label_x\": 1820.0, \"label_y\": 205.0, \"bigg_id\": \"3_2_METHYLTHIOETHYLMALIC_ACID_p\", \"name\": \"3_2_METHYLTHIOETHYLMALIC_ACID_p\", \"node_is_primary\": false}, \"15\": {\"node_type\": \"multimarker\", \"x\": 1635.0, \"y\": 225.0}, \"16\": {\"node_type\": \"midmarker\", \"x\": 1655.0, \"y\": 225.0}, \"17\": {\"node_type\": \"multimarker\", \"x\": 1675.0, \"y\": 225.0}, \"18\": {\"node_type\": \"metabolite\", \"x\": 1980.0, \"y\": 300.0, \"label_x\": 1950.0, \"label_y\": 280.0, \"bigg_id\": \"NAD_p\", \"name\": \"NAD_p\", \"node_is_primary\": false}, \"19\": {\"node_type\": \"metabolite\", \"x\": 2500.0, \"y\": 112.5, \"label_x\": 2470.0, \"label_y\": 92.5, \"bigg_id\": \"CPD_19486_p\", \"name\": \"CPD_19486_p\", \"node_is_primary\": false}, \"20\": {\"node_type\": \"metabolite\", \"x\": 2500.0, \"y\": 225.0, \"label_x\": 2470.0, \"label_y\": 205.0, \"bigg_id\": \"NADH_p\", \"name\": \"NADH_p\", \"node_is_primary\": false}, \"21\": {\"node_type\": \"metabolite\", \"x\": 2500.0, \"y\": 337.5, \"label_x\": 2470.0, \"label_y\": 317.5, \"bigg_id\": \"PROTON_p\", \"name\": \"PROTON_p\", \"node_is_primary\": false}, \"22\": {\"node_type\": \"multimarker\", \"x\": 2285.0, \"y\": 225.0}, \"23\": {\"node_type\": \"midmarker\", \"x\": 2305.0, \"y\": 225.0}, \"24\": {\"node_type\": \"multimarker\", \"x\": 2325.0, \"y\": 225.0}, \"25\": {\"node_type\": \"metabolite\", \"x\": 3150.0, \"y\": 150.0, \"label_x\": 3120.0, \"label_y\": 130.0, \"bigg_id\": \"2_OXO_5_METHYLTHIOPENTANOIC_ACID_p\", \"name\": \"2_OXO_5_METHYLTHIOPENTANOIC_ACID_p\", \"node_is_primary\": false}, \"26\": {\"node_type\": \"metabolite\", \"x\": 3150.0, \"y\": 300.0, \"label_x\": 3120.0, \"label_y\": 280.0, \"bigg_id\": \"CARBON_DIOXIDE_p\", \"name\": \"CARBON_DIOXIDE_p\", \"node_is_primary\": false}, \"27\": {\"node_type\": \"multimarker\", \"x\": 2935.0, \"y\": 225.0}, \"28\": {\"node_type\": \"midmarker\", \"x\": 2955.0, \"y\": 225.0}, \"29\": {\"node_type\": \"multimarker\", \"x\": 2975.0, \"y\": 225.0}, \"30\": {\"node_type\": \"metabolite\", \"x\": 3280.0, \"y\": 300.0, \"label_x\": 3250.0, \"label_y\": 280.0, \"bigg_id\": \"GLT_p\", \"name\": \"GLT_p\", \"node_is_primary\": false}, \"31\": {\"node_type\": \"metabolite\", \"x\": 3800.0, \"y\": 150.0, \"label_x\": 3770.0, \"label_y\": 130.0, \"bigg_id\": \"2_KETOGLUTARATE_p\", \"name\": \"2_KETOGLUTARATE_p\", \"node_is_primary\": false}, \"32\": {\"node_type\": \"metabolite\", \"x\": 3800.0, \"y\": 300.0, \"label_x\": 3770.0, \"label_y\": 280.0, \"bigg_id\": \"HOMOMETHIONINE_p\", \"name\": \"HOMOMETHIONINE_p\", \"node_is_primary\": false}, \"33\": {\"node_type\": \"multimarker\", \"x\": 3585.0, \"y\": 225.0}, \"34\": {\"node_type\": \"midmarker\", \"x\": 3605.0, \"y\": 225.0}, \"35\": {\"node_type\": \"multimarker\", \"x\": 3625.0, \"y\": 225.0}}, \"text_labels\": {}, \"canvas\": {\"x\": 0, \"y\": 0, \"width\": 3900, \"height\": 450}}]",
       "_loaded_model_json": null,
       "allow_building_duplicate_reactions": false,
       "and_method_in_gene_reaction_rule": "mean",
       "canvas_size_and_loc": null,
       "cofactors": [
        "atp",
        "adp",
        "nad",
        "nadh",
        "nadp",
        "nadph",
        "gtp",
        "gdp",
        "h",
        "coa",
        "ump",
        "h2o",
        "ppi"
       ],
       "disabled_buttons": [
        "Clear reaction data",
        "Clear gene data",
        "Clear metabolite data"
       ],
       "embedded_css": null,
       "enable_editing": true,
       "enable_keys": false,
       "enable_keys_with_tooltip": true,
       "enable_search": true,
       "enable_tooltips": false,
       "full_screen_button": {
        "enable_editing": true,
        "enable_keys": true,
        "enable_tooltips": [
         "label"
        ],
        "menu": "all",
        "scroll_behavior": "pan"
       },
       "gene_data": null,
       "gene_font_size": 18,
       "height": 500,
       "hide_all_labels": false,
       "hide_secondary_metabolites": false,
       "highlight_missing": false,
       "identifiers_on_map": "bigg_id",
       "layout": "IPY_MODEL_2892ce43364e46cbb7ad7097050003cd",
       "marker_radius": 5,
       "menu": "all",
       "metabolite_compare_style": "log2_fold",
       "metabolite_data": null,
       "metabolite_no_data_color": "#ffffff",
       "metabolite_no_data_size": 10,
       "metabolite_scale": [
        {
         "color": "#fffaf0",
         "size": 20,
         "type": "min"
        },
        {
         "color": "#f1c470",
         "size": 30,
         "type": "median"
        },
        {
         "color": "#800000",
         "size": 40,
         "type": "max"
        }
       ],
       "metabolite_scale_preset": "WhYlRd",
       "metabolite_styles": [
        "color",
        "size",
        "text"
       ],
       "never_ask_before_quit": false,
       "primary_metabolite_radius": 20,
       "reaction_compare_style": "log2_fold",
       "reaction_data": null,
       "reaction_no_data_color": "#dcdcdc",
       "reaction_no_data_size": 8,
       "reaction_scale": [
        {
         "color": "rgb(220,220,220)",
         "type": "value",
         "value": 0
        }
       ],
       "reaction_scale_preset": null,
       "reaction_styles": [
        "color",
        "text"
       ],
       "scroll_behavior": "none",
       "secondary_metabolite_radius": 10,
       "semantic_zoom": null,
       "show_gene_reaction_rules": false,
       "starting_reaction": null,
       "use_3d_transform": false,
       "zoom_to_element": null
      }
     },
     "10f98f09d8344ac5bfcfab85900d497d": {
      "model_module": "escher",
      "model_module_version": "1.7.3",
      "model_name": "EscherMapModel",
      "state": {
       "_loaded_map_json": "[{\"map_name\": \"\", \"map_id\": \"\", \"map_description\": \"\", \"homepage\": \"\", \"schema\": \"https://escher.github.io/escher/jsonschema/1-0-0#\"}, {\"reactions\": {\"0\": {\"name\": \"RXN_11423_c\", \"bigg_id\": \"RXN_11423_c\", \"reversibility\": true, \"label_x\": 226.0, \"label_y\": 45.0, \"gene_reaction_rule\": \"\", \"genes\": [], \"segments\": {\"0\": {\"from_node_id\": \"4\", \"to_node_id\": \"5\", \"b1\": null, \"b2\": null}, \"1\": {\"from_node_id\": \"6\", \"to_node_id\": \"5\", \"b1\": null, \"b2\": null}, \"2\": {\"from_node_id\": \"0\", \"to_node_id\": \"4\", \"b1\": null, \"b2\": null}, \"3\": {\"from_node_id\": \"1\", \"to_node_id\": \"4\", \"b1\": null, \"b2\": null}, \"4\": {\"from_node_id\": \"2\", \"to_node_id\": \"6\", \"b1\": null, \"b2\": null}, \"5\": {\"from_node_id\": \"3\", \"to_node_id\": \"6\", \"b1\": null, \"b2\": null}}, \"metabolites\": [{\"bigg_id\": \"CPD_12392_c\", \"coefficient\": -1.0}, {\"bigg_id\": \"GLUTATHIONE_c\", \"coefficient\": -1.0}, {\"bigg_id\": \"CPD_12393_c\", \"coefficient\": 1.0}, {\"bigg_id\": \"WATER_c\", \"coefficient\": 1.0}]}, \"1\": {\"name\": \"RXN_11431_c\", \"bigg_id\": \"RXN_11431_c\", \"reversibility\": true, \"label_x\": 876.0, \"label_y\": 45.0, \"gene_reaction_rule\": \"\", \"genes\": [], \"segments\": {\"6\": {\"from_node_id\": \"9\", \"to_node_id\": \"10\", \"b1\": null, \"b2\": null}, \"7\": {\"from_node_id\": \"11\", \"to_node_id\": \"10\", \"b1\": null, \"b2\": null}, \"8\": {\"from_node_id\": \"2\", \"to_node_id\": \"9\", \"b1\": null, \"b2\": null}, \"9\": {\"from_node_id\": \"3\", \"to_node_id\": \"9\", \"b1\": null, \"b2\": null}, \"10\": {\"from_node_id\": \"7\", \"to_node_id\": \"11\", \"b1\": null, \"b2\": null}, \"11\": {\"from_node_id\": \"8\", \"to_node_id\": \"11\", \"b1\": null, \"b2\": null}}, \"metabolites\": [{\"bigg_id\": \"CPD_12393_c\", \"coefficient\": -1.0}, {\"bigg_id\": \"WATER_c\", \"coefficient\": -1.0}, {\"bigg_id\": \"CPD_12394_c\", \"coefficient\": 1.0}, {\"bigg_id\": \"GLT_c\", \"coefficient\": 1.0}]}, \"2\": {\"name\": \"RXN_19588_c\", \"bigg_id\": \"RXN_19588_c\", \"reversibility\": true, \"label_x\": 1526.0, \"label_y\": 45.0, \"gene_reaction_rule\": \"\", \"genes\": [], \"segments\": {\"12\": {\"from_node_id\": \"15\", \"to_node_id\": \"16\", \"b1\": null, \"b2\": null}, \"13\": {\"from_node_id\": \"17\", \"to_node_id\": \"16\", \"b1\": null, \"b2\": null}, \"14\": {\"from_node_id\": \"7\", \"to_node_id\": \"15\", \"b1\": null, \"b2\": null}, \"15\": {\"from_node_id\": \"12\", \"to_node_id\": \"15\", \"b1\": null, \"b2\": null}, \"16\": {\"from_node_id\": \"13\", \"to_node_id\": \"17\", \"b1\": null, \"b2\": null}, \"17\": {\"from_node_id\": \"14\", \"to_node_id\": \"17\", \"b1\": null, \"b2\": null}}, \"metabolites\": [{\"bigg_id\": \"CPD_12394_c\", \"coefficient\": -1.0}, {\"bigg_id\": \"WATER_c\", \"coefficient\": -1.0}, {\"bigg_id\": \"CPDQT_406_c\", \"coefficient\": 1.0}, {\"bigg_id\": \"GLY_c\", \"coefficient\": 1.0}]}, \"3\": {\"name\": \"RXNQT_4319_c\", \"bigg_id\": \"RXNQT_4319_c\", \"reversibility\": true, \"label_x\": 2167.0, \"label_y\": 45.0, \"gene_reaction_rule\": \"\", \"genes\": [], \"segments\": {\"18\": {\"from_node_id\": \"22\", \"to_node_id\": \"23\", \"b1\": null, \"b2\": null}, \"19\": {\"from_node_id\": \"24\", \"to_node_id\": \"23\", \"b1\": null, \"b2\": null}, \"20\": {\"from_node_id\": \"13\", \"to_node_id\": \"22\", \"b1\": null, \"b2\": null}, \"21\": {\"from_node_id\": \"18\", \"to_node_id\": \"22\", \"b1\": null, \"b2\": null}, \"22\": {\"from_node_id\": \"19\", \"to_node_id\": \"24\", \"b1\": null, \"b2\": null}, \"23\": {\"from_node_id\": \"20\", \"to_node_id\": \"24\", \"b1\": null, \"b2\": null}, \"24\": {\"from_node_id\": \"21\", \"to_node_id\": \"24\", \"b1\": null, \"b2\": null}}, \"metabolites\": [{\"bigg_id\": \"CPDQT_406_c\", \"coefficient\": -1.0}, {\"bigg_id\": \"WATER_c\", \"coefficient\": -1.0}, {\"bigg_id\": \"AMMONIUM_c\", \"coefficient\": 1.0}, {\"bigg_id\": \"CPDQT_411_c\", \"coefficient\": 1.0}, {\"bigg_id\": \"PYRUVATE_c\", \"coefficient\": 1.0}]}, \"4\": {\"name\": \"RXNQT_4324_c\", \"bigg_id\": \"RXNQT_4324_c\", \"reversibility\": true, \"label_x\": 2817.0, \"label_y\": 45.0, \"gene_reaction_rule\": \"\", \"genes\": [], \"segments\": {\"25\": {\"from_node_id\": \"29\", \"to_node_id\": \"30\", \"b1\": null, \"b2\": null}, \"26\": {\"from_node_id\": \"31\", \"to_node_id\": \"30\", \"b1\": null, \"b2\": null}, \"27\": {\"from_node_id\": \"20\", \"to_node_id\": \"29\", \"b1\": null, \"b2\": null}, \"28\": {\"from_node_id\": \"25\", \"to_node_id\": \"29\", \"b1\": null, \"b2\": null}, \"29\": {\"from_node_id\": \"26\", \"to_node_id\": \"31\", \"b1\": null, \"b2\": null}, \"30\": {\"from_node_id\": \"27\", \"to_node_id\": \"31\", \"b1\": null, \"b2\": null}, \"31\": {\"from_node_id\": \"28\", \"to_node_id\": \"31\", \"b1\": null, \"b2\": null}}, \"metabolites\": [{\"bigg_id\": \"CPDQT_411_c\", \"coefficient\": -1.0}, {\"bigg_id\": \"UDP_GLUCOSE_c\", \"coefficient\": -1.0}, {\"bigg_id\": \"CPDQT_416_c\", \"coefficient\": 1.0}, {\"bigg_id\": \"PROTON_c\", \"coefficient\": 1.0}, {\"bigg_id\": \"UDP_c\", \"coefficient\": 1.0}]}, \"5\": {\"name\": \"RXNQT_4329_c\", \"bigg_id\": \"RXNQT_4329_c\", \"reversibility\": true, \"label_x\": 3467.0, \"label_y\": 45.0, \"gene_reaction_rule\": \"\", \"genes\": [], \"segments\": {\"32\": {\"from_node_id\": \"36\", \"to_node_id\": \"37\", \"b1\": null, \"b2\": null}, \"33\": {\"from_node_id\": \"38\", \"to_node_id\": \"37\", \"b1\": null, \"b2\": null}, \"34\": {\"from_node_id\": \"26\", \"to_node_id\": \"36\", \"b1\": null, \"b2\": null}, \"35\": {\"from_node_id\": \"32\", \"to_node_id\": \"36\", \"b1\": null, \"b2\": null}, \"36\": {\"from_node_id\": \"33\", \"to_node_id\": \"38\", \"b1\": null, \"b2\": null}, \"37\": {\"from_node_id\": \"34\", \"to_node_id\": \"38\", \"b1\": null, \"b2\": null}, \"38\": {\"from_node_id\": \"35\", \"to_node_id\": \"38\", \"b1\": null, \"b2\": null}}, \"metabolites\": [{\"bigg_id\": \"CPDQT_416_c\", \"coefficient\": -1.0}, {\"bigg_id\": \"PAPS_c\", \"coefficient\": -1.0}, {\"bigg_id\": \"3_5_ADP_c\", \"coefficient\": 1.0}, {\"bigg_id\": \"CPDQT_281_c\", \"coefficient\": 1.0}, {\"bigg_id\": \"PROTON_c\", \"coefficient\": 1.0}]}, \"6\": {\"name\": \"RXNQT_4334_c\", \"bigg_id\": \"RXNQT_4334_c\", \"reversibility\": true, \"label_x\": 4117.0, \"label_y\": 45.0, \"gene_reaction_rule\": \"\", \"genes\": [], \"segments\": {\"39\": {\"from_node_id\": \"44\", \"to_node_id\": \"45\", \"b1\": null, \"b2\": null}, \"40\": {\"from_node_id\": \"46\", \"to_node_id\": \"45\", \"b1\": null, \"b2\": null}, \"41\": {\"from_node_id\": \"34\", \"to_node_id\": \"44\", \"b1\": null, \"b2\": null}, \"42\": {\"from_node_id\": \"39\", \"to_node_id\": \"44\", \"b1\": null, \"b2\": null}, \"43\": {\"from_node_id\": \"40\", \"to_node_id\": \"44\", \"b1\": null, \"b2\": null}, \"44\": {\"from_node_id\": \"35\", \"to_node_id\": \"44\", \"b1\": null, \"b2\": null}, \"45\": {\"from_node_id\": \"41\", \"to_node_id\": \"46\", \"b1\": null, \"b2\": null}, \"46\": {\"from_node_id\": \"42\", \"to_node_id\": \"46\", \"b1\": null, \"b2\": null}, \"47\": {\"from_node_id\": \"43\", \"to_node_id\": \"46\", \"b1\": null, \"b2\": null}}, \"metabolites\": [{\"bigg_id\": \"CPDQT_281_c\", \"coefficient\": -1.0}, {\"bigg_id\": \"NADPH_c\", \"coefficient\": -1.0}, {\"bigg_id\": \"OXYGEN_MOLECULE_c\", \"coefficient\": -1.0}, {\"bigg_id\": \"PROTON_c\", \"coefficient\": -1.0}, {\"bigg_id\": \"CPDQT_280_c\", \"coefficient\": 1.0}, {\"bigg_id\": \"NADP_c\", \"coefficient\": 1.0}, {\"bigg_id\": \"WATER_c\", \"coefficient\": 1.0}]}}, \"nodes\": {\"0\": {\"node_type\": \"metabolite\", \"x\": 30.0, \"y\": 150.0, \"label_x\": 0.0, \"label_y\": 130.0, \"bigg_id\": \"CPD_12392_c\", \"name\": \"CPD_12392_c\", \"node_is_primary\": false}, \"1\": {\"node_type\": \"metabolite\", \"x\": 30.0, \"y\": 300.0, \"label_x\": 0.0, \"label_y\": 280.0, \"bigg_id\": \"GLUTATHIONE_c\", \"name\": \"GLUTATHIONE_c\", \"node_is_primary\": false}, \"2\": {\"node_type\": \"metabolite\", \"x\": 550.0, \"y\": 150.0, \"label_x\": 520.0, \"label_y\": 130.0, \"bigg_id\": \"CPD_12393_c\", \"name\": \"CPD_12393_c\", \"node_is_primary\": false}, \"3\": {\"node_type\": \"metabolite\", \"x\": 550.0, \"y\": 300.0, \"label_x\": 520.0, \"label_y\": 280.0, \"bigg_id\": \"WATER_c\", \"name\": \"WATER_c\", \"node_is_primary\": false}, \"4\": {\"node_type\": \"multimarker\", \"x\": 335.0, \"y\": 225.0}, \"5\": {\"node_type\": \"midmarker\", \"x\": 355.0, \"y\": 225.0}, \"6\": {\"node_type\": \"multimarker\", \"x\": 375.0, \"y\": 225.0}, \"7\": {\"node_type\": \"metabolite\", \"x\": 1200.0, \"y\": 150.0, \"label_x\": 1170.0, \"label_y\": 130.0, \"bigg_id\": \"CPD_12394_c\", \"name\": \"CPD_12394_c\", \"node_is_primary\": false}, \"8\": {\"node_type\": \"metabolite\", \"x\": 1200.0, \"y\": 300.0, \"label_x\": 1170.0, \"label_y\": 280.0, \"bigg_id\": \"GLT_c\", \"name\": \"GLT_c\", \"node_is_primary\": false}, \"9\": {\"node_type\": \"multimarker\", \"x\": 985.0, \"y\": 225.0}, \"10\": {\"node_type\": \"midmarker\", \"x\": 1005.0, \"y\": 225.0}, \"11\": {\"node_type\": \"multimarker\", \"x\": 1025.0, \"y\": 225.0}, \"12\": {\"node_type\": \"metabolite\", \"x\": 1330.0, \"y\": 300.0, \"label_x\": 1300.0, \"label_y\": 280.0, \"bigg_id\": \"WATER_c\", \"name\": \"WATER_c\", \"node_is_primary\": false}, \"13\": {\"node_type\": \"metabolite\", \"x\": 1850.0, \"y\": 150.0, \"label_x\": 1820.0, \"label_y\": 130.0, \"bigg_id\": \"CPDQT_406_c\", \"name\": \"CPDQT_406_c\", \"node_is_primary\": false}, \"14\": {\"node_type\": \"metabolite\", \"x\": 1850.0, \"y\": 300.0, \"label_x\": 1820.0, \"label_y\": 280.0, \"bigg_id\": \"GLY_c\", \"name\": \"GLY_c\", \"node_is_primary\": false}, \"15\": {\"node_type\": \"multimarker\", \"x\": 1635.0, \"y\": 225.0}, \"16\": {\"node_type\": \"midmarker\", \"x\": 1655.0, \"y\": 225.0}, \"17\": {\"node_type\": \"multimarker\", \"x\": 1675.0, \"y\": 225.0}, \"18\": {\"node_type\": \"metabolite\", \"x\": 1980.0, \"y\": 300.0, \"label_x\": 1950.0, \"label_y\": 280.0, \"bigg_id\": \"WATER_c\", \"name\": \"WATER_c\", \"node_is_primary\": false}, \"19\": {\"node_type\": \"metabolite\", \"x\": 2500.0, \"y\": 112.5, \"label_x\": 2470.0, \"label_y\": 92.5, \"bigg_id\": \"AMMONIUM_c\", \"name\": \"AMMONIUM_c\", \"node_is_primary\": false}, \"20\": {\"node_type\": \"metabolite\", \"x\": 2500.0, \"y\": 225.0, \"label_x\": 2470.0, \"label_y\": 205.0, \"bigg_id\": \"CPDQT_411_c\", \"name\": \"CPDQT_411_c\", \"node_is_primary\": false}, \"21\": {\"node_type\": \"metabolite\", \"x\": 2500.0, \"y\": 337.5, \"label_x\": 2470.0, \"label_y\": 317.5, \"bigg_id\": \"PYRUVATE_c\", \"name\": \"PYRUVATE_c\", \"node_is_primary\": false}, \"22\": {\"node_type\": \"multimarker\", \"x\": 2285.0, \"y\": 225.0}, \"23\": {\"node_type\": \"midmarker\", \"x\": 2305.0, \"y\": 225.0}, \"24\": {\"node_type\": \"multimarker\", \"x\": 2325.0, \"y\": 225.0}, \"25\": {\"node_type\": \"metabolite\", \"x\": 2630.0, \"y\": 300.0, \"label_x\": 2600.0, \"label_y\": 280.0, \"bigg_id\": \"UDP_GLUCOSE_c\", \"name\": \"UDP_GLUCOSE_c\", \"node_is_primary\": false}, \"26\": {\"node_type\": \"metabolite\", \"x\": 3150.0, \"y\": 112.5, \"label_x\": 3120.0, \"label_y\": 92.5, \"bigg_id\": \"CPDQT_416_c\", \"name\": \"CPDQT_416_c\", \"node_is_primary\": false}, \"27\": {\"node_type\": \"metabolite\", \"x\": 3150.0, \"y\": 225.0, \"label_x\": 3120.0, \"label_y\": 205.0, \"bigg_id\": \"PROTON_c\", \"name\": \"PROTON_c\", \"node_is_primary\": false}, \"28\": {\"node_type\": \"metabolite\", \"x\": 3150.0, \"y\": 337.5, \"label_x\": 3120.0, \"label_y\": 317.5, \"bigg_id\": \"UDP_c\", \"name\": \"UDP_c\", \"node_is_primary\": false}, \"29\": {\"node_type\": \"multimarker\", \"x\": 2935.0, \"y\": 225.0}, \"30\": {\"node_type\": \"midmarker\", \"x\": 2955.0, \"y\": 225.0}, \"31\": {\"node_type\": \"multimarker\", \"x\": 2975.0, \"y\": 225.0}, \"32\": {\"node_type\": \"metabolite\", \"x\": 3280.0, \"y\": 300.0, \"label_x\": 3250.0, \"label_y\": 280.0, \"bigg_id\": \"PAPS_c\", \"name\": \"PAPS_c\", \"node_is_primary\": false}, \"33\": {\"node_type\": \"metabolite\", \"x\": 3800.0, \"y\": 112.5, \"label_x\": 3770.0, \"label_y\": 92.5, \"bigg_id\": \"3_5_ADP_c\", \"name\": \"3_5_ADP_c\", \"node_is_primary\": false}, \"34\": {\"node_type\": \"metabolite\", \"x\": 3800.0, \"y\": 225.0, \"label_x\": 3770.0, \"label_y\": 205.0, \"bigg_id\": \"CPDQT_281_c\", \"name\": \"CPDQT_281_c\", \"node_is_primary\": false}, \"35\": {\"node_type\": \"metabolite\", \"x\": 3800.0, \"y\": 337.5, \"label_x\": 3770.0, \"label_y\": 317.5, \"bigg_id\": \"PROTON_c\", \"name\": \"PROTON_c\", \"node_is_primary\": false}, \"36\": {\"node_type\": \"multimarker\", \"x\": 3585.0, \"y\": 225.0}, \"37\": {\"node_type\": \"midmarker\", \"x\": 3605.0, \"y\": 225.0}, \"38\": {\"node_type\": \"multimarker\", \"x\": 3625.0, \"y\": 225.0}, \"39\": {\"node_type\": \"metabolite\", \"x\": 3930.0, \"y\": 180.0, \"label_x\": 3900.0, \"label_y\": 160.0, \"bigg_id\": \"NADPH_c\", \"name\": \"NADPH_c\", \"node_is_primary\": false}, \"40\": {\"node_type\": \"metabolite\", \"x\": 3930.0, \"y\": 270.0, \"label_x\": 3900.0, \"label_y\": 250.0, \"bigg_id\": \"OXYGEN_MOLECULE_c\", \"name\": \"OXYGEN_MOLECULE_c\", \"node_is_primary\": false}, \"41\": {\"node_type\": \"metabolite\", \"x\": 4450.0, \"y\": 112.5, \"label_x\": 4420.0, \"label_y\": 92.5, \"bigg_id\": \"CPDQT_280_c\", \"name\": \"CPDQT_280_c\", \"node_is_primary\": false}, \"42\": {\"node_type\": \"metabolite\", \"x\": 4450.0, \"y\": 225.0, \"label_x\": 4420.0, \"label_y\": 205.0, \"bigg_id\": \"NADP_c\", \"name\": \"NADP_c\", \"node_is_primary\": false}, \"43\": {\"node_type\": \"metabolite\", \"x\": 4450.0, \"y\": 337.5, \"label_x\": 4420.0, \"label_y\": 317.5, \"bigg_id\": \"WATER_c\", \"name\": \"WATER_c\", \"node_is_primary\": false}, \"44\": {\"node_type\": \"multimarker\", \"x\": 4235.0, \"y\": 225.0}, \"45\": {\"node_type\": \"midmarker\", \"x\": 4255.0, \"y\": 225.0}, \"46\": {\"node_type\": \"multimarker\", \"x\": 4275.0, \"y\": 225.0}}, \"text_labels\": {}, \"canvas\": {\"x\": 0, \"y\": 0, \"width\": 4550, \"height\": 450}}]",
       "_loaded_model_json": null,
       "allow_building_duplicate_reactions": false,
       "and_method_in_gene_reaction_rule": "mean",
       "canvas_size_and_loc": null,
       "cofactors": [
        "atp",
        "adp",
        "nad",
        "nadh",
        "nadp",
        "nadph",
        "gtp",
        "gdp",
        "h",
        "coa",
        "ump",
        "h2o",
        "ppi"
       ],
       "disabled_buttons": [
        "Clear reaction data",
        "Clear gene data",
        "Clear metabolite data"
       ],
       "embedded_css": null,
       "enable_editing": true,
       "enable_keys": false,
       "enable_keys_with_tooltip": true,
       "enable_search": true,
       "enable_tooltips": false,
       "full_screen_button": {
        "enable_editing": true,
        "enable_keys": true,
        "enable_tooltips": [
         "label"
        ],
        "menu": "all",
        "scroll_behavior": "pan"
       },
       "gene_data": null,
       "gene_font_size": 18,
       "height": 500,
       "hide_all_labels": false,
       "hide_secondary_metabolites": false,
       "highlight_missing": false,
       "identifiers_on_map": "bigg_id",
       "layout": "IPY_MODEL_a09a06fa642343c5ba43d111c08885c6",
       "marker_radius": 5,
       "menu": "all",
       "metabolite_compare_style": "log2_fold",
       "metabolite_data": null,
       "metabolite_no_data_color": "#ffffff",
       "metabolite_no_data_size": 10,
       "metabolite_scale": [
        {
         "color": "#fffaf0",
         "size": 20,
         "type": "min"
        },
        {
         "color": "#f1c470",
         "size": 30,
         "type": "median"
        },
        {
         "color": "#800000",
         "size": 40,
         "type": "max"
        }
       ],
       "metabolite_scale_preset": "WhYlRd",
       "metabolite_styles": [
        "color",
        "size",
        "text"
       ],
       "never_ask_before_quit": false,
       "primary_metabolite_radius": 20,
       "reaction_compare_style": "log2_fold",
       "reaction_data": null,
       "reaction_no_data_color": "#dcdcdc",
       "reaction_no_data_size": 8,
       "reaction_scale": {},
       "reaction_scale_preset": null,
       "reaction_styles": [
        "color",
        "text"
       ],
       "scroll_behavior": "none",
       "secondary_metabolite_radius": 10,
       "semantic_zoom": null,
       "show_gene_reaction_rules": false,
       "starting_reaction": null,
       "use_3d_transform": false,
       "zoom_to_element": null
      }
     },
     "129e613ddb9940e383323aed651554a7": {
      "model_module": "escher",
      "model_module_version": "1.7.3",
      "model_name": "EscherMapModel",
      "state": {
       "_loaded_map_json": "[{\"map_name\": \"\", \"map_id\": \"\", \"map_description\": \"\", \"homepage\": \"\", \"schema\": \"https://escher.github.io/escher/jsonschema/1-0-0#\"}, {\"reactions\": {\"0\": {\"name\": \"GLUTCYSLIG_RXN_p\", \"bigg_id\": \"GLUTCYSLIG_RXN_p\", \"reversibility\": true, \"label_x\": 181.0, \"label_y\": 45.0, \"gene_reaction_rule\": \"\", \"genes\": [], \"segments\": {\"0\": {\"from_node_id\": \"7\", \"to_node_id\": \"8\", \"b1\": null, \"b2\": null}, \"1\": {\"from_node_id\": \"9\", \"to_node_id\": \"8\", \"b1\": null, \"b2\": null}, \"2\": {\"from_node_id\": \"0\", \"to_node_id\": \"7\", \"b1\": null, \"b2\": null}, \"3\": {\"from_node_id\": \"1\", \"to_node_id\": \"7\", \"b1\": null, \"b2\": null}, \"4\": {\"from_node_id\": \"2\", \"to_node_id\": \"7\", \"b1\": null, \"b2\": null}, \"5\": {\"from_node_id\": \"3\", \"to_node_id\": \"9\", \"b1\": null, \"b2\": null}, \"6\": {\"from_node_id\": \"4\", \"to_node_id\": \"9\", \"b1\": null, \"b2\": null}, \"7\": {\"from_node_id\": \"5\", \"to_node_id\": \"9\", \"b1\": null, \"b2\": null}, \"8\": {\"from_node_id\": \"6\", \"to_node_id\": \"9\", \"b1\": null, \"b2\": null}}, \"metabolites\": [{\"bigg_id\": \"ATP_p\", \"coefficient\": -1.0}, {\"bigg_id\": \"CYS_p\", \"coefficient\": -1.0}, {\"bigg_id\": \"GLT_p\", \"coefficient\": -1.0}, {\"bigg_id\": \"ADP_p\", \"coefficient\": 1.0}, {\"bigg_id\": \"L_GAMMA_GLUTAMYLCYSTEINE_p\", \"coefficient\": 1.0}, {\"bigg_id\": \"PROTON_p\", \"coefficient\": 1.0}, {\"bigg_id\": \"Pi_p\", \"coefficient\": 1.0}]}, \"1\": {\"name\": \"GLUTATHIONE_SYN_RXN_p\", \"bigg_id\": \"GLUTATHIONE_SYN_RXN_p\", \"reversibility\": true, \"label_x\": 786.0, \"label_y\": 45.0, \"gene_reaction_rule\": \"\", \"genes\": [], \"segments\": {\"9\": {\"from_node_id\": \"16\", \"to_node_id\": \"17\", \"b1\": null, \"b2\": null}, \"10\": {\"from_node_id\": \"18\", \"to_node_id\": \"17\", \"b1\": null, \"b2\": null}, \"11\": {\"from_node_id\": \"10\", \"to_node_id\": \"16\", \"b1\": null, \"b2\": null}, \"12\": {\"from_node_id\": \"11\", \"to_node_id\": \"16\", \"b1\": null, \"b2\": null}, \"13\": {\"from_node_id\": \"4\", \"to_node_id\": \"16\", \"b1\": null, \"b2\": null}, \"14\": {\"from_node_id\": \"12\", \"to_node_id\": \"18\", \"b1\": null, \"b2\": null}, \"15\": {\"from_node_id\": \"13\", \"to_node_id\": \"18\", \"b1\": null, \"b2\": null}, \"16\": {\"from_node_id\": \"14\", \"to_node_id\": \"18\", \"b1\": null, \"b2\": null}, \"17\": {\"from_node_id\": \"15\", \"to_node_id\": \"18\", \"b1\": null, \"b2\": null}}, \"metabolites\": [{\"bigg_id\": \"ATP_p\", \"coefficient\": -1.0}, {\"bigg_id\": \"GLY_p\", \"coefficient\": -1.0}, {\"bigg_id\": \"L_GAMMA_GLUTAMYLCYSTEINE_p\", \"coefficient\": -1.0}, {\"bigg_id\": \"ADP_p\", \"coefficient\": 1.0}, {\"bigg_id\": \"GLUTATHIONE_p\", \"coefficient\": 1.0}, {\"bigg_id\": \"PROTON_p\", \"coefficient\": 1.0}, {\"bigg_id\": \"Pi_p\", \"coefficient\": 1.0}]}}, \"nodes\": {\"0\": {\"node_type\": \"metabolite\", \"x\": 30.0, \"y\": 112.5, \"label_x\": 0.0, \"label_y\": 92.5, \"bigg_id\": \"ATP_p\", \"name\": \"ATP_p\", \"node_is_primary\": false}, \"1\": {\"node_type\": \"metabolite\", \"x\": 30.0, \"y\": 225.0, \"label_x\": 0.0, \"label_y\": 205.0, \"bigg_id\": \"CYS_p\", \"name\": \"CYS_p\", \"node_is_primary\": false}, \"2\": {\"node_type\": \"metabolite\", \"x\": 30.0, \"y\": 337.5, \"label_x\": 0.0, \"label_y\": 317.5, \"bigg_id\": \"GLT_p\", \"name\": \"GLT_p\", \"node_is_primary\": false}, \"3\": {\"node_type\": \"metabolite\", \"x\": 550.0, \"y\": 90.0, \"label_x\": 520.0, \"label_y\": 70.0, \"bigg_id\": \"ADP_p\", \"name\": \"ADP_p\", \"node_is_primary\": false}, \"4\": {\"node_type\": \"metabolite\", \"x\": 550.0, \"y\": 180.0, \"label_x\": 520.0, \"label_y\": 160.0, \"bigg_id\": \"L_GAMMA_GLUTAMYLCYSTEINE_p\", \"name\": \"L_GAMMA_GLUTAMYLCYSTEINE_p\", \"node_is_primary\": false}, \"5\": {\"node_type\": \"metabolite\", \"x\": 550.0, \"y\": 270.0, \"label_x\": 520.0, \"label_y\": 250.0, \"bigg_id\": \"PROTON_p\", \"name\": \"PROTON_p\", \"node_is_primary\": false}, \"6\": {\"node_type\": \"metabolite\", \"x\": 550.0, \"y\": 360.0, \"label_x\": 520.0, \"label_y\": 340.0, \"bigg_id\": \"Pi_p\", \"name\": \"Pi_p\", \"node_is_primary\": false}, \"7\": {\"node_type\": \"multimarker\", \"x\": 335.0, \"y\": 225.0}, \"8\": {\"node_type\": \"midmarker\", \"x\": 355.0, \"y\": 225.0}, \"9\": {\"node_type\": \"multimarker\", \"x\": 375.0, \"y\": 225.0}, \"10\": {\"node_type\": \"metabolite\", \"x\": 680.0, \"y\": 112.5, \"label_x\": 650.0, \"label_y\": 92.5, \"bigg_id\": \"ATP_p\", \"name\": \"ATP_p\", \"node_is_primary\": false}, \"11\": {\"node_type\": \"metabolite\", \"x\": 680.0, \"y\": 225.0, \"label_x\": 650.0, \"label_y\": 205.0, \"bigg_id\": \"GLY_p\", \"name\": \"GLY_p\", \"node_is_primary\": false}, \"12\": {\"node_type\": \"metabolite\", \"x\": 1200.0, \"y\": 90.0, \"label_x\": 1170.0, \"label_y\": 70.0, \"bigg_id\": \"ADP_p\", \"name\": \"ADP_p\", \"node_is_primary\": false}, \"13\": {\"node_type\": \"metabolite\", \"x\": 1200.0, \"y\": 180.0, \"label_x\": 1170.0, \"label_y\": 160.0, \"bigg_id\": \"GLUTATHIONE_p\", \"name\": \"GLUTATHIONE_p\", \"node_is_primary\": false}, \"14\": {\"node_type\": \"metabolite\", \"x\": 1200.0, \"y\": 270.0, \"label_x\": 1170.0, \"label_y\": 250.0, \"bigg_id\": \"PROTON_p\", \"name\": \"PROTON_p\", \"node_is_primary\": false}, \"15\": {\"node_type\": \"metabolite\", \"x\": 1200.0, \"y\": 360.0, \"label_x\": 1170.0, \"label_y\": 340.0, \"bigg_id\": \"Pi_p\", \"name\": \"Pi_p\", \"node_is_primary\": false}, \"16\": {\"node_type\": \"multimarker\", \"x\": 985.0, \"y\": 225.0}, \"17\": {\"node_type\": \"midmarker\", \"x\": 1005.0, \"y\": 225.0}, \"18\": {\"node_type\": \"multimarker\", \"x\": 1025.0, \"y\": 225.0}}, \"text_labels\": {}, \"canvas\": {\"x\": 0, \"y\": 0, \"width\": 1300, \"height\": 450}}]",
       "_loaded_model_json": null,
       "allow_building_duplicate_reactions": false,
       "and_method_in_gene_reaction_rule": "mean",
       "canvas_size_and_loc": null,
       "cofactors": [
        "atp",
        "adp",
        "nad",
        "nadh",
        "nadp",
        "nadph",
        "gtp",
        "gdp",
        "h",
        "coa",
        "ump",
        "h2o",
        "ppi"
       ],
       "disabled_buttons": [
        "Clear reaction data",
        "Clear gene data",
        "Clear metabolite data"
       ],
       "embedded_css": null,
       "enable_editing": true,
       "enable_keys": false,
       "enable_keys_with_tooltip": true,
       "enable_search": true,
       "enable_tooltips": false,
       "full_screen_button": {
        "enable_editing": true,
        "enable_keys": true,
        "enable_tooltips": [
         "label"
        ],
        "menu": "all",
        "scroll_behavior": "pan"
       },
       "gene_data": null,
       "gene_font_size": 18,
       "height": 500,
       "hide_all_labels": false,
       "hide_secondary_metabolites": false,
       "highlight_missing": false,
       "identifiers_on_map": "bigg_id",
       "layout": "IPY_MODEL_fbc211ad498847fbad188ac080a981f9",
       "marker_radius": 5,
       "menu": "all",
       "metabolite_compare_style": "log2_fold",
       "metabolite_data": null,
       "metabolite_no_data_color": "#ffffff",
       "metabolite_no_data_size": 10,
       "metabolite_scale": [
        {
         "color": "#fffaf0",
         "size": 20,
         "type": "min"
        },
        {
         "color": "#f1c470",
         "size": 30,
         "type": "median"
        },
        {
         "color": "#800000",
         "size": 40,
         "type": "max"
        }
       ],
       "metabolite_scale_preset": "WhYlRd",
       "metabolite_styles": [
        "color",
        "size",
        "text"
       ],
       "never_ask_before_quit": false,
       "primary_metabolite_radius": 20,
       "reaction_compare_style": "log2_fold",
       "reaction_data": null,
       "reaction_no_data_color": "#dcdcdc",
       "reaction_no_data_size": 8,
       "reaction_scale": [
        {
         "color": "rgb(220,220,220)",
         "type": "value",
         "value": 0
        }
       ],
       "reaction_scale_preset": null,
       "reaction_styles": [
        "color",
        "text"
       ],
       "scroll_behavior": "none",
       "secondary_metabolite_radius": 10,
       "semantic_zoom": null,
       "show_gene_reaction_rules": false,
       "starting_reaction": null,
       "use_3d_transform": false,
       "zoom_to_element": null
      }
     },
     "1cf7e2571b8145de8a0894e2763238f5": {
      "model_module": "@jupyter-widgets/base",
      "model_module_version": "1.2.0",
      "model_name": "LayoutModel",
      "state": {}
     },
     "2892ce43364e46cbb7ad7097050003cd": {
      "model_module": "@jupyter-widgets/base",
      "model_module_version": "1.2.0",
      "model_name": "LayoutModel",
      "state": {}
     },
     "29c7e406d89f4f28a52520f98027f599": {
      "model_module": "escher",
      "model_module_version": "1.7.3",
      "model_name": "EscherMapModel",
      "state": {
       "_loaded_map_json": "[{\"map_name\": \"\", \"map_id\": \"\", \"map_description\": \"\", \"homepage\": \"\", \"schema\": \"https://escher.github.io/escher/jsonschema/1-0-0#\"}, {\"reactions\": {\"0\": {\"name\": \"GLUTCYSLIG_RXN_p\", \"bigg_id\": \"GLUTCYSLIG_RXN_p\", \"reversibility\": true, \"label_x\": 181.0, \"label_y\": 45.0, \"gene_reaction_rule\": \"\", \"genes\": [], \"segments\": {\"0\": {\"from_node_id\": \"7\", \"to_node_id\": \"8\", \"b1\": null, \"b2\": null}, \"1\": {\"from_node_id\": \"9\", \"to_node_id\": \"8\", \"b1\": null, \"b2\": null}, \"2\": {\"from_node_id\": \"0\", \"to_node_id\": \"7\", \"b1\": null, \"b2\": null}, \"3\": {\"from_node_id\": \"1\", \"to_node_id\": \"7\", \"b1\": null, \"b2\": null}, \"4\": {\"from_node_id\": \"2\", \"to_node_id\": \"7\", \"b1\": null, \"b2\": null}, \"5\": {\"from_node_id\": \"3\", \"to_node_id\": \"9\", \"b1\": null, \"b2\": null}, \"6\": {\"from_node_id\": \"4\", \"to_node_id\": \"9\", \"b1\": null, \"b2\": null}, \"7\": {\"from_node_id\": \"5\", \"to_node_id\": \"9\", \"b1\": null, \"b2\": null}, \"8\": {\"from_node_id\": \"6\", \"to_node_id\": \"9\", \"b1\": null, \"b2\": null}}, \"metabolites\": [{\"bigg_id\": \"ATP_p\", \"coefficient\": -1.0}, {\"bigg_id\": \"CYS_p\", \"coefficient\": -1.0}, {\"bigg_id\": \"GLT_p\", \"coefficient\": -1.0}, {\"bigg_id\": \"ADP_p\", \"coefficient\": 1.0}, {\"bigg_id\": \"L_GAMMA_GLUTAMYLCYSTEINE_p\", \"coefficient\": 1.0}, {\"bigg_id\": \"PROTON_p\", \"coefficient\": 1.0}, {\"bigg_id\": \"Pi_p\", \"coefficient\": 1.0}]}, \"1\": {\"name\": \"GLUTATHIONE_SYN_RXN_p\", \"bigg_id\": \"GLUTATHIONE_SYN_RXN_p\", \"reversibility\": true, \"label_x\": 786.0, \"label_y\": 45.0, \"gene_reaction_rule\": \"\", \"genes\": [], \"segments\": {\"9\": {\"from_node_id\": \"16\", \"to_node_id\": \"17\", \"b1\": null, \"b2\": null}, \"10\": {\"from_node_id\": \"18\", \"to_node_id\": \"17\", \"b1\": null, \"b2\": null}, \"11\": {\"from_node_id\": \"10\", \"to_node_id\": \"16\", \"b1\": null, \"b2\": null}, \"12\": {\"from_node_id\": \"11\", \"to_node_id\": \"16\", \"b1\": null, \"b2\": null}, \"13\": {\"from_node_id\": \"4\", \"to_node_id\": \"16\", \"b1\": null, \"b2\": null}, \"14\": {\"from_node_id\": \"12\", \"to_node_id\": \"18\", \"b1\": null, \"b2\": null}, \"15\": {\"from_node_id\": \"13\", \"to_node_id\": \"18\", \"b1\": null, \"b2\": null}, \"16\": {\"from_node_id\": \"14\", \"to_node_id\": \"18\", \"b1\": null, \"b2\": null}, \"17\": {\"from_node_id\": \"15\", \"to_node_id\": \"18\", \"b1\": null, \"b2\": null}}, \"metabolites\": [{\"bigg_id\": \"ATP_p\", \"coefficient\": -1.0}, {\"bigg_id\": \"GLY_p\", \"coefficient\": -1.0}, {\"bigg_id\": \"L_GAMMA_GLUTAMYLCYSTEINE_p\", \"coefficient\": -1.0}, {\"bigg_id\": \"ADP_p\", \"coefficient\": 1.0}, {\"bigg_id\": \"GLUTATHIONE_p\", \"coefficient\": 1.0}, {\"bigg_id\": \"PROTON_p\", \"coefficient\": 1.0}, {\"bigg_id\": \"Pi_p\", \"coefficient\": 1.0}]}}, \"nodes\": {\"0\": {\"node_type\": \"metabolite\", \"x\": 30.0, \"y\": 112.5, \"label_x\": 0.0, \"label_y\": 92.5, \"bigg_id\": \"ATP_p\", \"name\": \"ATP_p\", \"node_is_primary\": false}, \"1\": {\"node_type\": \"metabolite\", \"x\": 30.0, \"y\": 225.0, \"label_x\": 0.0, \"label_y\": 205.0, \"bigg_id\": \"CYS_p\", \"name\": \"CYS_p\", \"node_is_primary\": false}, \"2\": {\"node_type\": \"metabolite\", \"x\": 30.0, \"y\": 337.5, \"label_x\": 0.0, \"label_y\": 317.5, \"bigg_id\": \"GLT_p\", \"name\": \"GLT_p\", \"node_is_primary\": false}, \"3\": {\"node_type\": \"metabolite\", \"x\": 550.0, \"y\": 90.0, \"label_x\": 520.0, \"label_y\": 70.0, \"bigg_id\": \"ADP_p\", \"name\": \"ADP_p\", \"node_is_primary\": false}, \"4\": {\"node_type\": \"metabolite\", \"x\": 550.0, \"y\": 180.0, \"label_x\": 520.0, \"label_y\": 160.0, \"bigg_id\": \"L_GAMMA_GLUTAMYLCYSTEINE_p\", \"name\": \"L_GAMMA_GLUTAMYLCYSTEINE_p\", \"node_is_primary\": false}, \"5\": {\"node_type\": \"metabolite\", \"x\": 550.0, \"y\": 270.0, \"label_x\": 520.0, \"label_y\": 250.0, \"bigg_id\": \"PROTON_p\", \"name\": \"PROTON_p\", \"node_is_primary\": false}, \"6\": {\"node_type\": \"metabolite\", \"x\": 550.0, \"y\": 360.0, \"label_x\": 520.0, \"label_y\": 340.0, \"bigg_id\": \"Pi_p\", \"name\": \"Pi_p\", \"node_is_primary\": false}, \"7\": {\"node_type\": \"multimarker\", \"x\": 335.0, \"y\": 225.0}, \"8\": {\"node_type\": \"midmarker\", \"x\": 355.0, \"y\": 225.0}, \"9\": {\"node_type\": \"multimarker\", \"x\": 375.0, \"y\": 225.0}, \"10\": {\"node_type\": \"metabolite\", \"x\": 680.0, \"y\": 112.5, \"label_x\": 650.0, \"label_y\": 92.5, \"bigg_id\": \"ATP_p\", \"name\": \"ATP_p\", \"node_is_primary\": false}, \"11\": {\"node_type\": \"metabolite\", \"x\": 680.0, \"y\": 225.0, \"label_x\": 650.0, \"label_y\": 205.0, \"bigg_id\": \"GLY_p\", \"name\": \"GLY_p\", \"node_is_primary\": false}, \"12\": {\"node_type\": \"metabolite\", \"x\": 1200.0, \"y\": 90.0, \"label_x\": 1170.0, \"label_y\": 70.0, \"bigg_id\": \"ADP_p\", \"name\": \"ADP_p\", \"node_is_primary\": false}, \"13\": {\"node_type\": \"metabolite\", \"x\": 1200.0, \"y\": 180.0, \"label_x\": 1170.0, \"label_y\": 160.0, \"bigg_id\": \"GLUTATHIONE_p\", \"name\": \"GLUTATHIONE_p\", \"node_is_primary\": false}, \"14\": {\"node_type\": \"metabolite\", \"x\": 1200.0, \"y\": 270.0, \"label_x\": 1170.0, \"label_y\": 250.0, \"bigg_id\": \"PROTON_p\", \"name\": \"PROTON_p\", \"node_is_primary\": false}, \"15\": {\"node_type\": \"metabolite\", \"x\": 1200.0, \"y\": 360.0, \"label_x\": 1170.0, \"label_y\": 340.0, \"bigg_id\": \"Pi_p\", \"name\": \"Pi_p\", \"node_is_primary\": false}, \"16\": {\"node_type\": \"multimarker\", \"x\": 985.0, \"y\": 225.0}, \"17\": {\"node_type\": \"midmarker\", \"x\": 1005.0, \"y\": 225.0}, \"18\": {\"node_type\": \"multimarker\", \"x\": 1025.0, \"y\": 225.0}}, \"text_labels\": {}, \"canvas\": {\"x\": 0, \"y\": 0, \"width\": 1300, \"height\": 450}}]",
       "_loaded_model_json": null,
       "allow_building_duplicate_reactions": false,
       "and_method_in_gene_reaction_rule": "mean",
       "canvas_size_and_loc": null,
       "cofactors": [
        "atp",
        "adp",
        "nad",
        "nadh",
        "nadp",
        "nadph",
        "gtp",
        "gdp",
        "h",
        "coa",
        "ump",
        "h2o",
        "ppi"
       ],
       "disabled_buttons": [
        "Clear reaction data",
        "Clear gene data",
        "Clear metabolite data"
       ],
       "embedded_css": null,
       "enable_editing": true,
       "enable_keys": false,
       "enable_keys_with_tooltip": true,
       "enable_search": true,
       "enable_tooltips": false,
       "full_screen_button": {
        "enable_editing": true,
        "enable_keys": true,
        "enable_tooltips": [
         "label"
        ],
        "menu": "all",
        "scroll_behavior": "pan"
       },
       "gene_data": null,
       "gene_font_size": 18,
       "height": 500,
       "hide_all_labels": false,
       "hide_secondary_metabolites": false,
       "highlight_missing": false,
       "identifiers_on_map": "bigg_id",
       "layout": "IPY_MODEL_ef2accbb302e4154bcf2b2f0da760308",
       "marker_radius": 5,
       "menu": "all",
       "metabolite_compare_style": "log2_fold",
       "metabolite_data": null,
       "metabolite_no_data_color": "#ffffff",
       "metabolite_no_data_size": 10,
       "metabolite_scale": [
        {
         "color": "#fffaf0",
         "size": 20,
         "type": "min"
        },
        {
         "color": "#f1c470",
         "size": 30,
         "type": "median"
        },
        {
         "color": "#800000",
         "size": 40,
         "type": "max"
        }
       ],
       "metabolite_scale_preset": "WhYlRd",
       "metabolite_styles": [
        "color",
        "size",
        "text"
       ],
       "never_ask_before_quit": false,
       "primary_metabolite_radius": 20,
       "reaction_compare_style": "log2_fold",
       "reaction_data": null,
       "reaction_no_data_color": "#dcdcdc",
       "reaction_no_data_size": 8,
       "reaction_scale": [
        {
         "color": "rgb(220,220,220)",
         "type": "value",
         "value": 0
        }
       ],
       "reaction_scale_preset": null,
       "reaction_styles": [
        "color",
        "text"
       ],
       "scroll_behavior": "none",
       "secondary_metabolite_radius": 10,
       "semantic_zoom": null,
       "show_gene_reaction_rules": false,
       "starting_reaction": null,
       "use_3d_transform": false,
       "zoom_to_element": null
      }
     },
     "52398240b26b4c7c97948d5f54755166": {
      "model_module": "escher",
      "model_module_version": "1.7.3",
      "model_name": "EscherMapModel",
      "state": {
       "_loaded_map_json": "[{\"map_name\": \"\", \"map_id\": \"\", \"map_description\": \"\", \"homepage\": \"\", \"schema\": \"https://escher.github.io/escher/jsonschema/1-0-0#\"}, {\"reactions\": {\"0\": {\"name\": \"RXN_2202_p\", \"bigg_id\": \"RXN_2202_p\", \"reversibility\": true, \"label_x\": 235.0, \"label_y\": 45.0, \"gene_reaction_rule\": \"\", \"genes\": [], \"segments\": {\"0\": {\"from_node_id\": \"6\", \"to_node_id\": \"7\", \"b1\": null, \"b2\": null}, \"1\": {\"from_node_id\": \"8\", \"to_node_id\": \"7\", \"b1\": null, \"b2\": null}, \"2\": {\"from_node_id\": \"0\", \"to_node_id\": \"6\", \"b1\": null, \"b2\": null}, \"3\": {\"from_node_id\": \"1\", \"to_node_id\": \"6\", \"b1\": null, \"b2\": null}, \"4\": {\"from_node_id\": \"2\", \"to_node_id\": \"6\", \"b1\": null, \"b2\": null}, \"5\": {\"from_node_id\": \"3\", \"to_node_id\": \"8\", \"b1\": null, \"b2\": null}, \"6\": {\"from_node_id\": \"4\", \"to_node_id\": \"8\", \"b1\": null, \"b2\": null}, \"7\": {\"from_node_id\": \"5\", \"to_node_id\": \"8\", \"b1\": null, \"b2\": null}}, \"metabolites\": [{\"bigg_id\": \"ACETYL_COA_p\", \"coefficient\": -1.0}, {\"bigg_id\": \"CPD_479_p\", \"coefficient\": -1.0}, {\"bigg_id\": \"WATER_p\", \"coefficient\": -1.0}, {\"bigg_id\": \"2_2_METHYLTHIOETHYLMALIC_ACID_p\", \"coefficient\": 1.0}, {\"bigg_id\": \"CO_A_p\", \"coefficient\": 1.0}, {\"bigg_id\": \"PROTON_p\", \"coefficient\": 1.0}]}, \"1\": {\"name\": \"RXN_18182_p\", \"bigg_id\": \"RXN_18182_p\", \"reversibility\": true, \"label_x\": 876.0, \"label_y\": 45.0, \"gene_reaction_rule\": \"\", \"genes\": [], \"segments\": {\"8\": {\"from_node_id\": \"11\", \"to_node_id\": \"12\", \"b1\": null, \"b2\": null}, \"9\": {\"from_node_id\": \"13\", \"to_node_id\": \"12\", \"b1\": null, \"b2\": null}, \"10\": {\"from_node_id\": \"3\", \"to_node_id\": \"11\", \"b1\": null, \"b2\": null}, \"11\": {\"from_node_id\": \"9\", \"to_node_id\": \"13\", \"b1\": null, \"b2\": null}, \"12\": {\"from_node_id\": \"10\", \"to_node_id\": \"13\", \"b1\": null, \"b2\": null}}, \"metabolites\": [{\"bigg_id\": \"2_2_METHYLTHIOETHYLMALIC_ACID_p\", \"coefficient\": -1.0}, {\"bigg_id\": \"CPD_19476_p\", \"coefficient\": 1.0}, {\"bigg_id\": \"WATER_p\", \"coefficient\": 1.0}]}, \"2\": {\"name\": \"RXN_18183_p\", \"bigg_id\": \"RXN_18183_p\", \"reversibility\": true, \"label_x\": 1526.0, \"label_y\": 45.0, \"gene_reaction_rule\": \"\", \"genes\": [], \"segments\": {\"13\": {\"from_node_id\": \"15\", \"to_node_id\": \"16\", \"b1\": null, \"b2\": null}, \"14\": {\"from_node_id\": \"17\", \"to_node_id\": \"16\", \"b1\": null, \"b2\": null}, \"15\": {\"from_node_id\": \"9\", \"to_node_id\": \"15\", \"b1\": null, \"b2\": null}, \"16\": {\"from_node_id\": \"10\", \"to_node_id\": \"15\", \"b1\": null, \"b2\": null}, \"17\": {\"from_node_id\": \"14\", \"to_node_id\": \"17\", \"b1\": null, \"b2\": null}}, \"metabolites\": [{\"bigg_id\": \"CPD_19476_p\", \"coefficient\": -1.0}, {\"bigg_id\": \"WATER_p\", \"coefficient\": -1.0}, {\"bigg_id\": \"3_2_METHYLTHIOETHYLMALIC_ACID_p\", \"coefficient\": 1.0}]}, \"3\": {\"name\": \"RXN_2204_p\", \"bigg_id\": \"RXN_2204_p\", \"reversibility\": true, \"label_x\": 2185.0, \"label_y\": 45.0, \"gene_reaction_rule\": \"\", \"genes\": [], \"segments\": {\"18\": {\"from_node_id\": \"22\", \"to_node_id\": \"23\", \"b1\": null, \"b2\": null}, \"19\": {\"from_node_id\": \"24\", \"to_node_id\": \"23\", \"b1\": null, \"b2\": null}, \"20\": {\"from_node_id\": \"14\", \"to_node_id\": \"22\", \"b1\": null, \"b2\": null}, \"21\": {\"from_node_id\": \"18\", \"to_node_id\": \"22\", \"b1\": null, \"b2\": null}, \"22\": {\"from_node_id\": \"19\", \"to_node_id\": \"24\", \"b1\": null, \"b2\": null}, \"23\": {\"from_node_id\": \"20\", \"to_node_id\": \"24\", \"b1\": null, \"b2\": null}, \"24\": {\"from_node_id\": \"21\", \"to_node_id\": \"24\", \"b1\": null, \"b2\": null}}, \"metabolites\": [{\"bigg_id\": \"3_2_METHYLTHIOETHYLMALIC_ACID_p\", \"coefficient\": -1.0}, {\"bigg_id\": \"NAD_p\", \"coefficient\": -1.0}, {\"bigg_id\": \"CPD_19486_p\", \"coefficient\": 1.0}, {\"bigg_id\": \"NADH_p\", \"coefficient\": 1.0}, {\"bigg_id\": \"PROTON_p\", \"coefficient\": 1.0}]}, \"4\": {\"name\": \"RXN_18198_p\", \"bigg_id\": \"RXN_18198_p\", \"reversibility\": true, \"label_x\": 2826.0, \"label_y\": 45.0, \"gene_reaction_rule\": \"\", \"genes\": [], \"segments\": {\"25\": {\"from_node_id\": \"27\", \"to_node_id\": \"28\", \"b1\": null, \"b2\": null}, \"26\": {\"from_node_id\": \"29\", \"to_node_id\": \"28\", \"b1\": null, \"b2\": null}, \"27\": {\"from_node_id\": \"19\", \"to_node_id\": \"27\", \"b1\": null, \"b2\": null}, \"28\": {\"from_node_id\": \"21\", \"to_node_id\": \"27\", \"b1\": null, \"b2\": null}, \"29\": {\"from_node_id\": \"25\", \"to_node_id\": \"29\", \"b1\": null, \"b2\": null}, \"30\": {\"from_node_id\": \"26\", \"to_node_id\": \"29\", \"b1\": null, \"b2\": null}}, \"metabolites\": [{\"bigg_id\": \"CPD_19486_p\", \"coefficient\": -1.0}, {\"bigg_id\": \"PROTON_p\", \"coefficient\": -1.0}, {\"bigg_id\": \"2_OXO_5_METHYLTHIOPENTANOIC_ACID_p\", \"coefficient\": 1.0}, {\"bigg_id\": \"CARBON_DIOXIDE_p\", \"coefficient\": 1.0}]}, \"5\": {\"name\": \"RXN_2205_p\", \"bigg_id\": \"RXN_2205_p\", \"reversibility\": true, \"label_x\": 3485.0, \"label_y\": 45.0, \"gene_reaction_rule\": \"\", \"genes\": [], \"segments\": {\"31\": {\"from_node_id\": \"33\", \"to_node_id\": \"34\", \"b1\": null, \"b2\": null}, \"32\": {\"from_node_id\": \"35\", \"to_node_id\": \"34\", \"b1\": null, \"b2\": null}, \"33\": {\"from_node_id\": \"25\", \"to_node_id\": \"33\", \"b1\": null, \"b2\": null}, \"34\": {\"from_node_id\": \"30\", \"to_node_id\": \"33\", \"b1\": null, \"b2\": null}, \"35\": {\"from_node_id\": \"31\", \"to_node_id\": \"35\", \"b1\": null, \"b2\": null}, \"36\": {\"from_node_id\": \"32\", \"to_node_id\": \"35\", \"b1\": null, \"b2\": null}}, \"metabolites\": [{\"bigg_id\": \"2_OXO_5_METHYLTHIOPENTANOIC_ACID_p\", \"coefficient\": -1.0}, {\"bigg_id\": \"GLT_p\", \"coefficient\": -1.0}, {\"bigg_id\": \"2_KETOGLUTARATE_p\", \"coefficient\": 1.0}, {\"bigg_id\": \"HOMOMETHIONINE_p\", \"coefficient\": 1.0}]}}, \"nodes\": {\"0\": {\"node_type\": \"metabolite\", \"x\": 30.0, \"y\": 112.5, \"label_x\": 0.0, \"label_y\": 92.5, \"bigg_id\": \"ACETYL_COA_p\", \"name\": \"ACETYL_COA_p\", \"node_is_primary\": false}, \"1\": {\"node_type\": \"metabolite\", \"x\": 30.0, \"y\": 225.0, \"label_x\": 0.0, \"label_y\": 205.0, \"bigg_id\": \"CPD_479_p\", \"name\": \"CPD_479_p\", \"node_is_primary\": false}, \"2\": {\"node_type\": \"metabolite\", \"x\": 30.0, \"y\": 337.5, \"label_x\": 0.0, \"label_y\": 317.5, \"bigg_id\": \"WATER_p\", \"name\": \"WATER_p\", \"node_is_primary\": false}, \"3\": {\"node_type\": \"metabolite\", \"x\": 550.0, \"y\": 112.5, \"label_x\": 520.0, \"label_y\": 92.5, \"bigg_id\": \"2_2_METHYLTHIOETHYLMALIC_ACID_p\", \"name\": \"2_2_METHYLTHIOETHYLMALIC_ACID_p\", \"node_is_primary\": false}, \"4\": {\"node_type\": \"metabolite\", \"x\": 550.0, \"y\": 225.0, \"label_x\": 520.0, \"label_y\": 205.0, \"bigg_id\": \"CO_A_p\", \"name\": \"CO_A_p\", \"node_is_primary\": false}, \"5\": {\"node_type\": \"metabolite\", \"x\": 550.0, \"y\": 337.5, \"label_x\": 520.0, \"label_y\": 317.5, \"bigg_id\": \"PROTON_p\", \"name\": \"PROTON_p\", \"node_is_primary\": false}, \"6\": {\"node_type\": \"multimarker\", \"x\": 335.0, \"y\": 225.0}, \"7\": {\"node_type\": \"midmarker\", \"x\": 355.0, \"y\": 225.0}, \"8\": {\"node_type\": \"multimarker\", \"x\": 375.0, \"y\": 225.0}, \"9\": {\"node_type\": \"metabolite\", \"x\": 1200.0, \"y\": 150.0, \"label_x\": 1170.0, \"label_y\": 130.0, \"bigg_id\": \"CPD_19476_p\", \"name\": \"CPD_19476_p\", \"node_is_primary\": false}, \"10\": {\"node_type\": \"metabolite\", \"x\": 1200.0, \"y\": 300.0, \"label_x\": 1170.0, \"label_y\": 280.0, \"bigg_id\": \"WATER_p\", \"name\": \"WATER_p\", \"node_is_primary\": false}, \"11\": {\"node_type\": \"multimarker\", \"x\": 985.0, \"y\": 225.0}, \"12\": {\"node_type\": \"midmarker\", \"x\": 1005.0, \"y\": 225.0}, \"13\": {\"node_type\": \"multimarker\", \"x\": 1025.0, \"y\": 225.0}, \"14\": {\"node_type\": \"metabolite\", \"x\": 1850.0, \"y\": 225.0, \"label_x\": 1820.0, \"label_y\": 205.0, \"bigg_id\": \"3_2_METHYLTHIOETHYLMALIC_ACID_p\", \"name\": \"3_2_METHYLTHIOETHYLMALIC_ACID_p\", \"node_is_primary\": false}, \"15\": {\"node_type\": \"multimarker\", \"x\": 1635.0, \"y\": 225.0}, \"16\": {\"node_type\": \"midmarker\", \"x\": 1655.0, \"y\": 225.0}, \"17\": {\"node_type\": \"multimarker\", \"x\": 1675.0, \"y\": 225.0}, \"18\": {\"node_type\": \"metabolite\", \"x\": 1980.0, \"y\": 300.0, \"label_x\": 1950.0, \"label_y\": 280.0, \"bigg_id\": \"NAD_p\", \"name\": \"NAD_p\", \"node_is_primary\": false}, \"19\": {\"node_type\": \"metabolite\", \"x\": 2500.0, \"y\": 112.5, \"label_x\": 2470.0, \"label_y\": 92.5, \"bigg_id\": \"CPD_19486_p\", \"name\": \"CPD_19486_p\", \"node_is_primary\": false}, \"20\": {\"node_type\": \"metabolite\", \"x\": 2500.0, \"y\": 225.0, \"label_x\": 2470.0, \"label_y\": 205.0, \"bigg_id\": \"NADH_p\", \"name\": \"NADH_p\", \"node_is_primary\": false}, \"21\": {\"node_type\": \"metabolite\", \"x\": 2500.0, \"y\": 337.5, \"label_x\": 2470.0, \"label_y\": 317.5, \"bigg_id\": \"PROTON_p\", \"name\": \"PROTON_p\", \"node_is_primary\": false}, \"22\": {\"node_type\": \"multimarker\", \"x\": 2285.0, \"y\": 225.0}, \"23\": {\"node_type\": \"midmarker\", \"x\": 2305.0, \"y\": 225.0}, \"24\": {\"node_type\": \"multimarker\", \"x\": 2325.0, \"y\": 225.0}, \"25\": {\"node_type\": \"metabolite\", \"x\": 3150.0, \"y\": 150.0, \"label_x\": 3120.0, \"label_y\": 130.0, \"bigg_id\": \"2_OXO_5_METHYLTHIOPENTANOIC_ACID_p\", \"name\": \"2_OXO_5_METHYLTHIOPENTANOIC_ACID_p\", \"node_is_primary\": false}, \"26\": {\"node_type\": \"metabolite\", \"x\": 3150.0, \"y\": 300.0, \"label_x\": 3120.0, \"label_y\": 280.0, \"bigg_id\": \"CARBON_DIOXIDE_p\", \"name\": \"CARBON_DIOXIDE_p\", \"node_is_primary\": false}, \"27\": {\"node_type\": \"multimarker\", \"x\": 2935.0, \"y\": 225.0}, \"28\": {\"node_type\": \"midmarker\", \"x\": 2955.0, \"y\": 225.0}, \"29\": {\"node_type\": \"multimarker\", \"x\": 2975.0, \"y\": 225.0}, \"30\": {\"node_type\": \"metabolite\", \"x\": 3280.0, \"y\": 300.0, \"label_x\": 3250.0, \"label_y\": 280.0, \"bigg_id\": \"GLT_p\", \"name\": \"GLT_p\", \"node_is_primary\": false}, \"31\": {\"node_type\": \"metabolite\", \"x\": 3800.0, \"y\": 150.0, \"label_x\": 3770.0, \"label_y\": 130.0, \"bigg_id\": \"2_KETOGLUTARATE_p\", \"name\": \"2_KETOGLUTARATE_p\", \"node_is_primary\": false}, \"32\": {\"node_type\": \"metabolite\", \"x\": 3800.0, \"y\": 300.0, \"label_x\": 3770.0, \"label_y\": 280.0, \"bigg_id\": \"HOMOMETHIONINE_p\", \"name\": \"HOMOMETHIONINE_p\", \"node_is_primary\": false}, \"33\": {\"node_type\": \"multimarker\", \"x\": 3585.0, \"y\": 225.0}, \"34\": {\"node_type\": \"midmarker\", \"x\": 3605.0, \"y\": 225.0}, \"35\": {\"node_type\": \"multimarker\", \"x\": 3625.0, \"y\": 225.0}}, \"text_labels\": {}, \"canvas\": {\"x\": 0, \"y\": 0, \"width\": 3900, \"height\": 450}}]",
       "_loaded_model_json": null,
       "allow_building_duplicate_reactions": false,
       "and_method_in_gene_reaction_rule": "mean",
       "canvas_size_and_loc": null,
       "cofactors": [
        "atp",
        "adp",
        "nad",
        "nadh",
        "nadp",
        "nadph",
        "gtp",
        "gdp",
        "h",
        "coa",
        "ump",
        "h2o",
        "ppi"
       ],
       "disabled_buttons": [
        "Clear reaction data",
        "Clear gene data",
        "Clear metabolite data"
       ],
       "embedded_css": null,
       "enable_editing": true,
       "enable_keys": false,
       "enable_keys_with_tooltip": true,
       "enable_search": true,
       "enable_tooltips": false,
       "full_screen_button": {
        "enable_editing": true,
        "enable_keys": true,
        "enable_tooltips": [
         "label"
        ],
        "menu": "all",
        "scroll_behavior": "pan"
       },
       "gene_data": null,
       "gene_font_size": 18,
       "height": 500,
       "hide_all_labels": false,
       "hide_secondary_metabolites": false,
       "highlight_missing": false,
       "identifiers_on_map": "bigg_id",
       "layout": "IPY_MODEL_b04756d4785f45c0a1e9d8221b68007b",
       "marker_radius": 5,
       "menu": "all",
       "metabolite_compare_style": "log2_fold",
       "metabolite_data": null,
       "metabolite_no_data_color": "#ffffff",
       "metabolite_no_data_size": 10,
       "metabolite_scale": [
        {
         "color": "#fffaf0",
         "size": 20,
         "type": "min"
        },
        {
         "color": "#f1c470",
         "size": 30,
         "type": "median"
        },
        {
         "color": "#800000",
         "size": 40,
         "type": "max"
        }
       ],
       "metabolite_scale_preset": "WhYlRd",
       "metabolite_styles": [
        "color",
        "size",
        "text"
       ],
       "never_ask_before_quit": false,
       "primary_metabolite_radius": 20,
       "reaction_compare_style": "log2_fold",
       "reaction_data": null,
       "reaction_no_data_color": "#dcdcdc",
       "reaction_no_data_size": 8,
       "reaction_scale": [
        {
         "color": "rgb(220,220,220)",
         "type": "value",
         "value": 0
        }
       ],
       "reaction_scale_preset": null,
       "reaction_styles": [
        "color",
        "text"
       ],
       "scroll_behavior": "none",
       "secondary_metabolite_radius": 10,
       "semantic_zoom": null,
       "show_gene_reaction_rules": false,
       "starting_reaction": null,
       "use_3d_transform": false,
       "zoom_to_element": null
      }
     },
     "5b175f7bf2564a8cb7bce2ff25703841": {
      "model_module": "@jupyter-widgets/base",
      "model_module_version": "1.2.0",
      "model_name": "LayoutModel",
      "state": {}
     },
     "5ef6fc27aead4ffd8a4d0ab77e909c4b": {
      "model_module": "@jupyter-widgets/base",
      "model_module_version": "1.2.0",
      "model_name": "LayoutModel",
      "state": {}
     },
     "7930bb005d724afe947e4fa01459be0d": {
      "model_module": "escher",
      "model_module_version": "1.7.3",
      "model_name": "EscherMapModel",
      "state": {
       "_loaded_map_json": "[{\"map_name\": \"\", \"map_id\": \"\", \"map_description\": \"\", \"homepage\": \"\", \"schema\": \"https://escher.github.io/escher/jsonschema/1-0-0#\"}, {\"reactions\": {\"0\": {\"name\": \"RXN_11423_c\", \"bigg_id\": \"RXN_11423_c\", \"reversibility\": true, \"label_x\": 226.0, \"label_y\": 45.0, \"gene_reaction_rule\": \"\", \"genes\": [], \"segments\": {\"0\": {\"from_node_id\": \"4\", \"to_node_id\": \"5\", \"b1\": null, \"b2\": null}, \"1\": {\"from_node_id\": \"6\", \"to_node_id\": \"5\", \"b1\": null, \"b2\": null}, \"2\": {\"from_node_id\": \"0\", \"to_node_id\": \"4\", \"b1\": null, \"b2\": null}, \"3\": {\"from_node_id\": \"1\", \"to_node_id\": \"4\", \"b1\": null, \"b2\": null}, \"4\": {\"from_node_id\": \"2\", \"to_node_id\": \"6\", \"b1\": null, \"b2\": null}, \"5\": {\"from_node_id\": \"3\", \"to_node_id\": \"6\", \"b1\": null, \"b2\": null}}, \"metabolites\": [{\"bigg_id\": \"CPD_12392_c\", \"coefficient\": -1.0}, {\"bigg_id\": \"GLUTATHIONE_c\", \"coefficient\": -1.0}, {\"bigg_id\": \"CPD_12393_c\", \"coefficient\": 1.0}, {\"bigg_id\": \"WATER_c\", \"coefficient\": 1.0}]}, \"1\": {\"name\": \"RXN_11431_c\", \"bigg_id\": \"RXN_11431_c\", \"reversibility\": true, \"label_x\": 876.0, \"label_y\": 45.0, \"gene_reaction_rule\": \"\", \"genes\": [], \"segments\": {\"6\": {\"from_node_id\": \"9\", \"to_node_id\": \"10\", \"b1\": null, \"b2\": null}, \"7\": {\"from_node_id\": \"11\", \"to_node_id\": \"10\", \"b1\": null, \"b2\": null}, \"8\": {\"from_node_id\": \"2\", \"to_node_id\": \"9\", \"b1\": null, \"b2\": null}, \"9\": {\"from_node_id\": \"3\", \"to_node_id\": \"9\", \"b1\": null, \"b2\": null}, \"10\": {\"from_node_id\": \"7\", \"to_node_id\": \"11\", \"b1\": null, \"b2\": null}, \"11\": {\"from_node_id\": \"8\", \"to_node_id\": \"11\", \"b1\": null, \"b2\": null}}, \"metabolites\": [{\"bigg_id\": \"CPD_12393_c\", \"coefficient\": -1.0}, {\"bigg_id\": \"WATER_c\", \"coefficient\": -1.0}, {\"bigg_id\": \"CPD_12394_c\", \"coefficient\": 1.0}, {\"bigg_id\": \"GLT_c\", \"coefficient\": 1.0}]}, \"2\": {\"name\": \"RXN_19588_c\", \"bigg_id\": \"RXN_19588_c\", \"reversibility\": true, \"label_x\": 1526.0, \"label_y\": 45.0, \"gene_reaction_rule\": \"\", \"genes\": [], \"segments\": {\"12\": {\"from_node_id\": \"15\", \"to_node_id\": \"16\", \"b1\": null, \"b2\": null}, \"13\": {\"from_node_id\": \"17\", \"to_node_id\": \"16\", \"b1\": null, \"b2\": null}, \"14\": {\"from_node_id\": \"7\", \"to_node_id\": \"15\", \"b1\": null, \"b2\": null}, \"15\": {\"from_node_id\": \"12\", \"to_node_id\": \"15\", \"b1\": null, \"b2\": null}, \"16\": {\"from_node_id\": \"13\", \"to_node_id\": \"17\", \"b1\": null, \"b2\": null}, \"17\": {\"from_node_id\": \"14\", \"to_node_id\": \"17\", \"b1\": null, \"b2\": null}}, \"metabolites\": [{\"bigg_id\": \"CPD_12394_c\", \"coefficient\": -1.0}, {\"bigg_id\": \"WATER_c\", \"coefficient\": -1.0}, {\"bigg_id\": \"CPDQT_406_c\", \"coefficient\": 1.0}, {\"bigg_id\": \"GLY_c\", \"coefficient\": 1.0}]}, \"3\": {\"name\": \"RXNQT_4319_c\", \"bigg_id\": \"RXNQT_4319_c\", \"reversibility\": true, \"label_x\": 2167.0, \"label_y\": 45.0, \"gene_reaction_rule\": \"\", \"genes\": [], \"segments\": {\"18\": {\"from_node_id\": \"22\", \"to_node_id\": \"23\", \"b1\": null, \"b2\": null}, \"19\": {\"from_node_id\": \"24\", \"to_node_id\": \"23\", \"b1\": null, \"b2\": null}, \"20\": {\"from_node_id\": \"13\", \"to_node_id\": \"22\", \"b1\": null, \"b2\": null}, \"21\": {\"from_node_id\": \"18\", \"to_node_id\": \"22\", \"b1\": null, \"b2\": null}, \"22\": {\"from_node_id\": \"19\", \"to_node_id\": \"24\", \"b1\": null, \"b2\": null}, \"23\": {\"from_node_id\": \"20\", \"to_node_id\": \"24\", \"b1\": null, \"b2\": null}, \"24\": {\"from_node_id\": \"21\", \"to_node_id\": \"24\", \"b1\": null, \"b2\": null}}, \"metabolites\": [{\"bigg_id\": \"CPDQT_406_c\", \"coefficient\": -1.0}, {\"bigg_id\": \"WATER_c\", \"coefficient\": -1.0}, {\"bigg_id\": \"AMMONIUM_c\", \"coefficient\": 1.0}, {\"bigg_id\": \"CPDQT_411_c\", \"coefficient\": 1.0}, {\"bigg_id\": \"PYRUVATE_c\", \"coefficient\": 1.0}]}, \"4\": {\"name\": \"RXNQT_4324_c\", \"bigg_id\": \"RXNQT_4324_c\", \"reversibility\": true, \"label_x\": 2817.0, \"label_y\": 45.0, \"gene_reaction_rule\": \"\", \"genes\": [], \"segments\": {\"25\": {\"from_node_id\": \"29\", \"to_node_id\": \"30\", \"b1\": null, \"b2\": null}, \"26\": {\"from_node_id\": \"31\", \"to_node_id\": \"30\", \"b1\": null, \"b2\": null}, \"27\": {\"from_node_id\": \"20\", \"to_node_id\": \"29\", \"b1\": null, \"b2\": null}, \"28\": {\"from_node_id\": \"25\", \"to_node_id\": \"29\", \"b1\": null, \"b2\": null}, \"29\": {\"from_node_id\": \"26\", \"to_node_id\": \"31\", \"b1\": null, \"b2\": null}, \"30\": {\"from_node_id\": \"27\", \"to_node_id\": \"31\", \"b1\": null, \"b2\": null}, \"31\": {\"from_node_id\": \"28\", \"to_node_id\": \"31\", \"b1\": null, \"b2\": null}}, \"metabolites\": [{\"bigg_id\": \"CPDQT_411_c\", \"coefficient\": -1.0}, {\"bigg_id\": \"UDP_GLUCOSE_c\", \"coefficient\": -1.0}, {\"bigg_id\": \"CPDQT_416_c\", \"coefficient\": 1.0}, {\"bigg_id\": \"PROTON_c\", \"coefficient\": 1.0}, {\"bigg_id\": \"UDP_c\", \"coefficient\": 1.0}]}, \"5\": {\"name\": \"RXNQT_4329_c\", \"bigg_id\": \"RXNQT_4329_c\", \"reversibility\": true, \"label_x\": 3467.0, \"label_y\": 45.0, \"gene_reaction_rule\": \"\", \"genes\": [], \"segments\": {\"32\": {\"from_node_id\": \"36\", \"to_node_id\": \"37\", \"b1\": null, \"b2\": null}, \"33\": {\"from_node_id\": \"38\", \"to_node_id\": \"37\", \"b1\": null, \"b2\": null}, \"34\": {\"from_node_id\": \"26\", \"to_node_id\": \"36\", \"b1\": null, \"b2\": null}, \"35\": {\"from_node_id\": \"32\", \"to_node_id\": \"36\", \"b1\": null, \"b2\": null}, \"36\": {\"from_node_id\": \"33\", \"to_node_id\": \"38\", \"b1\": null, \"b2\": null}, \"37\": {\"from_node_id\": \"34\", \"to_node_id\": \"38\", \"b1\": null, \"b2\": null}, \"38\": {\"from_node_id\": \"35\", \"to_node_id\": \"38\", \"b1\": null, \"b2\": null}}, \"metabolites\": [{\"bigg_id\": \"CPDQT_416_c\", \"coefficient\": -1.0}, {\"bigg_id\": \"PAPS_c\", \"coefficient\": -1.0}, {\"bigg_id\": \"3_5_ADP_c\", \"coefficient\": 1.0}, {\"bigg_id\": \"CPDQT_281_c\", \"coefficient\": 1.0}, {\"bigg_id\": \"PROTON_c\", \"coefficient\": 1.0}]}, \"6\": {\"name\": \"RXNQT_4334_c\", \"bigg_id\": \"RXNQT_4334_c\", \"reversibility\": true, \"label_x\": 4117.0, \"label_y\": 45.0, \"gene_reaction_rule\": \"\", \"genes\": [], \"segments\": {\"39\": {\"from_node_id\": \"44\", \"to_node_id\": \"45\", \"b1\": null, \"b2\": null}, \"40\": {\"from_node_id\": \"46\", \"to_node_id\": \"45\", \"b1\": null, \"b2\": null}, \"41\": {\"from_node_id\": \"34\", \"to_node_id\": \"44\", \"b1\": null, \"b2\": null}, \"42\": {\"from_node_id\": \"39\", \"to_node_id\": \"44\", \"b1\": null, \"b2\": null}, \"43\": {\"from_node_id\": \"40\", \"to_node_id\": \"44\", \"b1\": null, \"b2\": null}, \"44\": {\"from_node_id\": \"35\", \"to_node_id\": \"44\", \"b1\": null, \"b2\": null}, \"45\": {\"from_node_id\": \"41\", \"to_node_id\": \"46\", \"b1\": null, \"b2\": null}, \"46\": {\"from_node_id\": \"42\", \"to_node_id\": \"46\", \"b1\": null, \"b2\": null}, \"47\": {\"from_node_id\": \"43\", \"to_node_id\": \"46\", \"b1\": null, \"b2\": null}}, \"metabolites\": [{\"bigg_id\": \"CPDQT_281_c\", \"coefficient\": -1.0}, {\"bigg_id\": \"NADPH_c\", \"coefficient\": -1.0}, {\"bigg_id\": \"OXYGEN_MOLECULE_c\", \"coefficient\": -1.0}, {\"bigg_id\": \"PROTON_c\", \"coefficient\": -1.0}, {\"bigg_id\": \"CPDQT_280_c\", \"coefficient\": 1.0}, {\"bigg_id\": \"NADP_c\", \"coefficient\": 1.0}, {\"bigg_id\": \"WATER_c\", \"coefficient\": 1.0}]}}, \"nodes\": {\"0\": {\"node_type\": \"metabolite\", \"x\": 30.0, \"y\": 150.0, \"label_x\": 0.0, \"label_y\": 130.0, \"bigg_id\": \"CPD_12392_c\", \"name\": \"CPD_12392_c\", \"node_is_primary\": false}, \"1\": {\"node_type\": \"metabolite\", \"x\": 30.0, \"y\": 300.0, \"label_x\": 0.0, \"label_y\": 280.0, \"bigg_id\": \"GLUTATHIONE_c\", \"name\": \"GLUTATHIONE_c\", \"node_is_primary\": false}, \"2\": {\"node_type\": \"metabolite\", \"x\": 550.0, \"y\": 150.0, \"label_x\": 520.0, \"label_y\": 130.0, \"bigg_id\": \"CPD_12393_c\", \"name\": \"CPD_12393_c\", \"node_is_primary\": false}, \"3\": {\"node_type\": \"metabolite\", \"x\": 550.0, \"y\": 300.0, \"label_x\": 520.0, \"label_y\": 280.0, \"bigg_id\": \"WATER_c\", \"name\": \"WATER_c\", \"node_is_primary\": false}, \"4\": {\"node_type\": \"multimarker\", \"x\": 335.0, \"y\": 225.0}, \"5\": {\"node_type\": \"midmarker\", \"x\": 355.0, \"y\": 225.0}, \"6\": {\"node_type\": \"multimarker\", \"x\": 375.0, \"y\": 225.0}, \"7\": {\"node_type\": \"metabolite\", \"x\": 1200.0, \"y\": 150.0, \"label_x\": 1170.0, \"label_y\": 130.0, \"bigg_id\": \"CPD_12394_c\", \"name\": \"CPD_12394_c\", \"node_is_primary\": false}, \"8\": {\"node_type\": \"metabolite\", \"x\": 1200.0, \"y\": 300.0, \"label_x\": 1170.0, \"label_y\": 280.0, \"bigg_id\": \"GLT_c\", \"name\": \"GLT_c\", \"node_is_primary\": false}, \"9\": {\"node_type\": \"multimarker\", \"x\": 985.0, \"y\": 225.0}, \"10\": {\"node_type\": \"midmarker\", \"x\": 1005.0, \"y\": 225.0}, \"11\": {\"node_type\": \"multimarker\", \"x\": 1025.0, \"y\": 225.0}, \"12\": {\"node_type\": \"metabolite\", \"x\": 1330.0, \"y\": 300.0, \"label_x\": 1300.0, \"label_y\": 280.0, \"bigg_id\": \"WATER_c\", \"name\": \"WATER_c\", \"node_is_primary\": false}, \"13\": {\"node_type\": \"metabolite\", \"x\": 1850.0, \"y\": 150.0, \"label_x\": 1820.0, \"label_y\": 130.0, \"bigg_id\": \"CPDQT_406_c\", \"name\": \"CPDQT_406_c\", \"node_is_primary\": false}, \"14\": {\"node_type\": \"metabolite\", \"x\": 1850.0, \"y\": 300.0, \"label_x\": 1820.0, \"label_y\": 280.0, \"bigg_id\": \"GLY_c\", \"name\": \"GLY_c\", \"node_is_primary\": false}, \"15\": {\"node_type\": \"multimarker\", \"x\": 1635.0, \"y\": 225.0}, \"16\": {\"node_type\": \"midmarker\", \"x\": 1655.0, \"y\": 225.0}, \"17\": {\"node_type\": \"multimarker\", \"x\": 1675.0, \"y\": 225.0}, \"18\": {\"node_type\": \"metabolite\", \"x\": 1980.0, \"y\": 300.0, \"label_x\": 1950.0, \"label_y\": 280.0, \"bigg_id\": \"WATER_c\", \"name\": \"WATER_c\", \"node_is_primary\": false}, \"19\": {\"node_type\": \"metabolite\", \"x\": 2500.0, \"y\": 112.5, \"label_x\": 2470.0, \"label_y\": 92.5, \"bigg_id\": \"AMMONIUM_c\", \"name\": \"AMMONIUM_c\", \"node_is_primary\": false}, \"20\": {\"node_type\": \"metabolite\", \"x\": 2500.0, \"y\": 225.0, \"label_x\": 2470.0, \"label_y\": 205.0, \"bigg_id\": \"CPDQT_411_c\", \"name\": \"CPDQT_411_c\", \"node_is_primary\": false}, \"21\": {\"node_type\": \"metabolite\", \"x\": 2500.0, \"y\": 337.5, \"label_x\": 2470.0, \"label_y\": 317.5, \"bigg_id\": \"PYRUVATE_c\", \"name\": \"PYRUVATE_c\", \"node_is_primary\": false}, \"22\": {\"node_type\": \"multimarker\", \"x\": 2285.0, \"y\": 225.0}, \"23\": {\"node_type\": \"midmarker\", \"x\": 2305.0, \"y\": 225.0}, \"24\": {\"node_type\": \"multimarker\", \"x\": 2325.0, \"y\": 225.0}, \"25\": {\"node_type\": \"metabolite\", \"x\": 2630.0, \"y\": 300.0, \"label_x\": 2600.0, \"label_y\": 280.0, \"bigg_id\": \"UDP_GLUCOSE_c\", \"name\": \"UDP_GLUCOSE_c\", \"node_is_primary\": false}, \"26\": {\"node_type\": \"metabolite\", \"x\": 3150.0, \"y\": 112.5, \"label_x\": 3120.0, \"label_y\": 92.5, \"bigg_id\": \"CPDQT_416_c\", \"name\": \"CPDQT_416_c\", \"node_is_primary\": false}, \"27\": {\"node_type\": \"metabolite\", \"x\": 3150.0, \"y\": 225.0, \"label_x\": 3120.0, \"label_y\": 205.0, \"bigg_id\": \"PROTON_c\", \"name\": \"PROTON_c\", \"node_is_primary\": false}, \"28\": {\"node_type\": \"metabolite\", \"x\": 3150.0, \"y\": 337.5, \"label_x\": 3120.0, \"label_y\": 317.5, \"bigg_id\": \"UDP_c\", \"name\": \"UDP_c\", \"node_is_primary\": false}, \"29\": {\"node_type\": \"multimarker\", \"x\": 2935.0, \"y\": 225.0}, \"30\": {\"node_type\": \"midmarker\", \"x\": 2955.0, \"y\": 225.0}, \"31\": {\"node_type\": \"multimarker\", \"x\": 2975.0, \"y\": 225.0}, \"32\": {\"node_type\": \"metabolite\", \"x\": 3280.0, \"y\": 300.0, \"label_x\": 3250.0, \"label_y\": 280.0, \"bigg_id\": \"PAPS_c\", \"name\": \"PAPS_c\", \"node_is_primary\": false}, \"33\": {\"node_type\": \"metabolite\", \"x\": 3800.0, \"y\": 112.5, \"label_x\": 3770.0, \"label_y\": 92.5, \"bigg_id\": \"3_5_ADP_c\", \"name\": \"3_5_ADP_c\", \"node_is_primary\": false}, \"34\": {\"node_type\": \"metabolite\", \"x\": 3800.0, \"y\": 225.0, \"label_x\": 3770.0, \"label_y\": 205.0, \"bigg_id\": \"CPDQT_281_c\", \"name\": \"CPDQT_281_c\", \"node_is_primary\": false}, \"35\": {\"node_type\": \"metabolite\", \"x\": 3800.0, \"y\": 337.5, \"label_x\": 3770.0, \"label_y\": 317.5, \"bigg_id\": \"PROTON_c\", \"name\": \"PROTON_c\", \"node_is_primary\": false}, \"36\": {\"node_type\": \"multimarker\", \"x\": 3585.0, \"y\": 225.0}, \"37\": {\"node_type\": \"midmarker\", \"x\": 3605.0, \"y\": 225.0}, \"38\": {\"node_type\": \"multimarker\", \"x\": 3625.0, \"y\": 225.0}, \"39\": {\"node_type\": \"metabolite\", \"x\": 3930.0, \"y\": 180.0, \"label_x\": 3900.0, \"label_y\": 160.0, \"bigg_id\": \"NADPH_c\", \"name\": \"NADPH_c\", \"node_is_primary\": false}, \"40\": {\"node_type\": \"metabolite\", \"x\": 3930.0, \"y\": 270.0, \"label_x\": 3900.0, \"label_y\": 250.0, \"bigg_id\": \"OXYGEN_MOLECULE_c\", \"name\": \"OXYGEN_MOLECULE_c\", \"node_is_primary\": false}, \"41\": {\"node_type\": \"metabolite\", \"x\": 4450.0, \"y\": 112.5, \"label_x\": 4420.0, \"label_y\": 92.5, \"bigg_id\": \"CPDQT_280_c\", \"name\": \"CPDQT_280_c\", \"node_is_primary\": false}, \"42\": {\"node_type\": \"metabolite\", \"x\": 4450.0, \"y\": 225.0, \"label_x\": 4420.0, \"label_y\": 205.0, \"bigg_id\": \"NADP_c\", \"name\": \"NADP_c\", \"node_is_primary\": false}, \"43\": {\"node_type\": \"metabolite\", \"x\": 4450.0, \"y\": 337.5, \"label_x\": 4420.0, \"label_y\": 317.5, \"bigg_id\": \"WATER_c\", \"name\": \"WATER_c\", \"node_is_primary\": false}, \"44\": {\"node_type\": \"multimarker\", \"x\": 4235.0, \"y\": 225.0}, \"45\": {\"node_type\": \"midmarker\", \"x\": 4255.0, \"y\": 225.0}, \"46\": {\"node_type\": \"multimarker\", \"x\": 4275.0, \"y\": 225.0}}, \"text_labels\": {}, \"canvas\": {\"x\": 0, \"y\": 0, \"width\": 4550, \"height\": 450}}]",
       "_loaded_model_json": null,
       "allow_building_duplicate_reactions": false,
       "and_method_in_gene_reaction_rule": "mean",
       "canvas_size_and_loc": null,
       "cofactors": [
        "atp",
        "adp",
        "nad",
        "nadh",
        "nadp",
        "nadph",
        "gtp",
        "gdp",
        "h",
        "coa",
        "ump",
        "h2o",
        "ppi"
       ],
       "disabled_buttons": [
        "Clear reaction data",
        "Clear gene data",
        "Clear metabolite data"
       ],
       "embedded_css": null,
       "enable_editing": true,
       "enable_keys": false,
       "enable_keys_with_tooltip": true,
       "enable_search": true,
       "enable_tooltips": false,
       "full_screen_button": {
        "enable_editing": true,
        "enable_keys": true,
        "enable_tooltips": [
         "label"
        ],
        "menu": "all",
        "scroll_behavior": "pan"
       },
       "gene_data": null,
       "gene_font_size": 18,
       "height": 500,
       "hide_all_labels": false,
       "hide_secondary_metabolites": false,
       "highlight_missing": false,
       "identifiers_on_map": "bigg_id",
       "layout": "IPY_MODEL_1cf7e2571b8145de8a0894e2763238f5",
       "marker_radius": 5,
       "menu": "all",
       "metabolite_compare_style": "log2_fold",
       "metabolite_data": null,
       "metabolite_no_data_color": "#ffffff",
       "metabolite_no_data_size": 10,
       "metabolite_scale": [
        {
         "color": "#fffaf0",
         "size": 20,
         "type": "min"
        },
        {
         "color": "#f1c470",
         "size": 30,
         "type": "median"
        },
        {
         "color": "#800000",
         "size": 40,
         "type": "max"
        }
       ],
       "metabolite_scale_preset": "WhYlRd",
       "metabolite_styles": [
        "color",
        "size",
        "text"
       ],
       "never_ask_before_quit": false,
       "primary_metabolite_radius": 20,
       "reaction_compare_style": "log2_fold",
       "reaction_data": null,
       "reaction_no_data_color": "#dcdcdc",
       "reaction_no_data_size": 8,
       "reaction_scale": [
        {
         "color": "rgb(220,220,220)",
         "type": "value",
         "value": 0
        }
       ],
       "reaction_scale_preset": null,
       "reaction_styles": [
        "color",
        "text"
       ],
       "scroll_behavior": "none",
       "secondary_metabolite_radius": 10,
       "semantic_zoom": null,
       "show_gene_reaction_rules": false,
       "starting_reaction": null,
       "use_3d_transform": false,
       "zoom_to_element": null
      }
     },
     "7aad8d7672a141d1a1d3fe3912a078ff": {
      "model_module": "escher",
      "model_module_version": "1.7.3",
      "model_name": "EscherMapModel",
      "state": {
       "_loaded_map_json": "[{\"map_name\": \"\", \"map_id\": \"\", \"map_description\": \"\", \"homepage\": \"\", \"schema\": \"https://escher.github.io/escher/jsonschema/1-0-0#\"}, {\"reactions\": {\"0\": {\"name\": \"RXN_11422_c\", \"bigg_id\": \"RXN_11422_c\", \"reversibility\": true, \"label_x\": 226.0, \"label_y\": 45.0, \"gene_reaction_rule\": \"\", \"genes\": [], \"segments\": {\"0\": {\"from_node_id\": \"4\", \"to_node_id\": \"5\", \"b1\": null, \"b2\": null}, \"1\": {\"from_node_id\": \"6\", \"to_node_id\": \"5\", \"b1\": null, \"b2\": null}, \"2\": {\"from_node_id\": \"0\", \"to_node_id\": \"4\", \"b1\": null, \"b2\": null}, \"3\": {\"from_node_id\": \"1\", \"to_node_id\": \"4\", \"b1\": null, \"b2\": null}, \"4\": {\"from_node_id\": \"2\", \"to_node_id\": \"6\", \"b1\": null, \"b2\": null}, \"5\": {\"from_node_id\": \"3\", \"to_node_id\": \"6\", \"b1\": null, \"b2\": null}}, \"metabolites\": [{\"bigg_id\": \"CPD_12389_c\", \"coefficient\": -1.0}, {\"bigg_id\": \"GLUTATHIONE_c\", \"coefficient\": -1.0}, {\"bigg_id\": \"CPD_12390_c\", \"coefficient\": 1.0}, {\"bigg_id\": \"WATER_c\", \"coefficient\": 1.0}]}, \"1\": {\"name\": \"RXN_11430_c\", \"bigg_id\": \"RXN_11430_c\", \"reversibility\": true, \"label_x\": 876.0, \"label_y\": 45.0, \"gene_reaction_rule\": \"\", \"genes\": [], \"segments\": {\"6\": {\"from_node_id\": \"9\", \"to_node_id\": \"10\", \"b1\": null, \"b2\": null}, \"7\": {\"from_node_id\": \"11\", \"to_node_id\": \"10\", \"b1\": null, \"b2\": null}, \"8\": {\"from_node_id\": \"2\", \"to_node_id\": \"9\", \"b1\": null, \"b2\": null}, \"9\": {\"from_node_id\": \"3\", \"to_node_id\": \"9\", \"b1\": null, \"b2\": null}, \"10\": {\"from_node_id\": \"7\", \"to_node_id\": \"11\", \"b1\": null, \"b2\": null}, \"11\": {\"from_node_id\": \"8\", \"to_node_id\": \"11\", \"b1\": null, \"b2\": null}}, \"metabolites\": [{\"bigg_id\": \"CPD_12390_c\", \"coefficient\": -1.0}, {\"bigg_id\": \"WATER_c\", \"coefficient\": -1.0}, {\"bigg_id\": \"CPD_12391_c\", \"coefficient\": 1.0}, {\"bigg_id\": \"GLT_c\", \"coefficient\": 1.0}]}, \"2\": {\"name\": \"RXN_19589_c\", \"bigg_id\": \"RXN_19589_c\", \"reversibility\": true, \"label_x\": 1526.0, \"label_y\": 45.0, \"gene_reaction_rule\": \"\", \"genes\": [], \"segments\": {\"12\": {\"from_node_id\": \"15\", \"to_node_id\": \"16\", \"b1\": null, \"b2\": null}, \"13\": {\"from_node_id\": \"17\", \"to_node_id\": \"16\", \"b1\": null, \"b2\": null}, \"14\": {\"from_node_id\": \"7\", \"to_node_id\": \"15\", \"b1\": null, \"b2\": null}, \"15\": {\"from_node_id\": \"12\", \"to_node_id\": \"15\", \"b1\": null, \"b2\": null}, \"16\": {\"from_node_id\": \"13\", \"to_node_id\": \"17\", \"b1\": null, \"b2\": null}, \"17\": {\"from_node_id\": \"14\", \"to_node_id\": \"17\", \"b1\": null, \"b2\": null}}, \"metabolites\": [{\"bigg_id\": \"CPD_12391_c\", \"coefficient\": -1.0}, {\"bigg_id\": \"WATER_c\", \"coefficient\": -1.0}, {\"bigg_id\": \"CPD_7546_c\", \"coefficient\": 1.0}, {\"bigg_id\": \"GLY_c\", \"coefficient\": 1.0}]}, \"3\": {\"name\": \"RXN_8052_c\", \"bigg_id\": \"RXN_8052_c\", \"reversibility\": true, \"label_x\": 2185.0, \"label_y\": 45.0, \"gene_reaction_rule\": \"\", \"genes\": [], \"segments\": {\"18\": {\"from_node_id\": \"22\", \"to_node_id\": \"23\", \"b1\": null, \"b2\": null}, \"19\": {\"from_node_id\": \"24\", \"to_node_id\": \"23\", \"b1\": null, \"b2\": null}, \"20\": {\"from_node_id\": \"13\", \"to_node_id\": \"22\", \"b1\": null, \"b2\": null}, \"21\": {\"from_node_id\": \"18\", \"to_node_id\": \"22\", \"b1\": null, \"b2\": null}, \"22\": {\"from_node_id\": \"19\", \"to_node_id\": \"24\", \"b1\": null, \"b2\": null}, \"23\": {\"from_node_id\": \"20\", \"to_node_id\": \"24\", \"b1\": null, \"b2\": null}, \"24\": {\"from_node_id\": \"21\", \"to_node_id\": \"24\", \"b1\": null, \"b2\": null}}, \"metabolites\": [{\"bigg_id\": \"CPD_7546_c\", \"coefficient\": -1.0}, {\"bigg_id\": \"WATER_c\", \"coefficient\": -1.0}, {\"bigg_id\": \"3_METHYLTHIOPROPYLHYDROXAMIC_ACID_c\", \"coefficient\": 1.0}, {\"bigg_id\": \"AMMONIUM_c\", \"coefficient\": 1.0}, {\"bigg_id\": \"PYRUVATE_c\", \"coefficient\": 1.0}]}, \"4\": {\"name\": \"RXN_2208_c\", \"bigg_id\": \"RXN_2208_c\", \"reversibility\": true, \"label_x\": 2835.0, \"label_y\": 45.0, \"gene_reaction_rule\": \"\", \"genes\": [], \"segments\": {\"25\": {\"from_node_id\": \"29\", \"to_node_id\": \"30\", \"b1\": null, \"b2\": null}, \"26\": {\"from_node_id\": \"31\", \"to_node_id\": \"30\", \"b1\": null, \"b2\": null}, \"27\": {\"from_node_id\": \"19\", \"to_node_id\": \"29\", \"b1\": null, \"b2\": null}, \"28\": {\"from_node_id\": \"25\", \"to_node_id\": \"29\", \"b1\": null, \"b2\": null}, \"29\": {\"from_node_id\": \"26\", \"to_node_id\": \"31\", \"b1\": null, \"b2\": null}, \"30\": {\"from_node_id\": \"27\", \"to_node_id\": \"31\", \"b1\": null, \"b2\": null}, \"31\": {\"from_node_id\": \"28\", \"to_node_id\": \"31\", \"b1\": null, \"b2\": null}}, \"metabolites\": [{\"bigg_id\": \"3_METHYLTHIOPROPYLHYDROXAMIC_ACID_c\", \"coefficient\": -1.0}, {\"bigg_id\": \"UDP_GLUCOSE_c\", \"coefficient\": -1.0}, {\"bigg_id\": \"3_METHYLTHIOPROPYL_DESULFO_GLUCOSINOLATE_c\", \"coefficient\": 1.0}, {\"bigg_id\": \"PROTON_c\", \"coefficient\": 1.0}, {\"bigg_id\": \"UDP_c\", \"coefficient\": 1.0}]}, \"5\": {\"name\": \"RXN_2209_c\", \"bigg_id\": \"RXN_2209_c\", \"reversibility\": true, \"label_x\": 3485.0, \"label_y\": 45.0, \"gene_reaction_rule\": \"\", \"genes\": [], \"segments\": {\"32\": {\"from_node_id\": \"36\", \"to_node_id\": \"37\", \"b1\": null, \"b2\": null}, \"33\": {\"from_node_id\": \"38\", \"to_node_id\": \"37\", \"b1\": null, \"b2\": null}, \"34\": {\"from_node_id\": \"26\", \"to_node_id\": \"36\", \"b1\": null, \"b2\": null}, \"35\": {\"from_node_id\": \"32\", \"to_node_id\": \"36\", \"b1\": null, \"b2\": null}, \"36\": {\"from_node_id\": \"33\", \"to_node_id\": \"38\", \"b1\": null, \"b2\": null}, \"37\": {\"from_node_id\": \"34\", \"to_node_id\": \"38\", \"b1\": null, \"b2\": null}, \"38\": {\"from_node_id\": \"35\", \"to_node_id\": \"38\", \"b1\": null, \"b2\": null}}, \"metabolites\": [{\"bigg_id\": \"3_METHYLTHIOPROPYL_DESULFO_GLUCOSINOLATE_c\", \"coefficient\": -1.0}, {\"bigg_id\": \"PAPS_c\", \"coefficient\": -1.0}, {\"bigg_id\": \"3_5_ADP_c\", \"coefficient\": 1.0}, {\"bigg_id\": \"3_METHYLTHIOPROPYL_GLUCOSINOLATE_c\", \"coefficient\": 1.0}, {\"bigg_id\": \"PROTON_c\", \"coefficient\": 1.0}]}, \"6\": {\"name\": \"RXN_2221_c\", \"bigg_id\": \"RXN_2221_c\", \"reversibility\": true, \"label_x\": 4135.0, \"label_y\": 45.0, \"gene_reaction_rule\": \"\", \"genes\": [], \"segments\": {\"39\": {\"from_node_id\": \"44\", \"to_node_id\": \"45\", \"b1\": null, \"b2\": null}, \"40\": {\"from_node_id\": \"46\", \"to_node_id\": \"45\", \"b1\": null, \"b2\": null}, \"41\": {\"from_node_id\": \"34\", \"to_node_id\": \"44\", \"b1\": null, \"b2\": null}, \"42\": {\"from_node_id\": \"39\", \"to_node_id\": \"44\", \"b1\": null, \"b2\": null}, \"43\": {\"from_node_id\": \"40\", \"to_node_id\": \"44\", \"b1\": null, \"b2\": null}, \"44\": {\"from_node_id\": \"35\", \"to_node_id\": \"44\", \"b1\": null, \"b2\": null}, \"45\": {\"from_node_id\": \"41\", \"to_node_id\": \"46\", \"b1\": null, \"b2\": null}, \"46\": {\"from_node_id\": \"42\", \"to_node_id\": \"46\", \"b1\": null, \"b2\": null}, \"47\": {\"from_node_id\": \"43\", \"to_node_id\": \"46\", \"b1\": null, \"b2\": null}}, \"metabolites\": [{\"bigg_id\": \"3_METHYLTHIOPROPYL_GLUCOSINOLATE_c\", \"coefficient\": -1.0}, {\"bigg_id\": \"NADPH_c\", \"coefficient\": -1.0}, {\"bigg_id\": \"OXYGEN_MOLECULE_c\", \"coefficient\": -1.0}, {\"bigg_id\": \"PROTON_c\", \"coefficient\": -1.0}, {\"bigg_id\": \"3_METHYLSULFINYLPROPYL_GLUCOSINOLATE_c\", \"coefficient\": 1.0}, {\"bigg_id\": \"NADP_c\", \"coefficient\": 1.0}, {\"bigg_id\": \"WATER_c\", \"coefficient\": 1.0}]}}, \"nodes\": {\"0\": {\"node_type\": \"metabolite\", \"x\": 30.0, \"y\": 150.0, \"label_x\": 0.0, \"label_y\": 130.0, \"bigg_id\": \"CPD_12389_c\", \"name\": \"CPD_12389_c\", \"node_is_primary\": false}, \"1\": {\"node_type\": \"metabolite\", \"x\": 30.0, \"y\": 300.0, \"label_x\": 0.0, \"label_y\": 280.0, \"bigg_id\": \"GLUTATHIONE_c\", \"name\": \"GLUTATHIONE_c\", \"node_is_primary\": false}, \"2\": {\"node_type\": \"metabolite\", \"x\": 550.0, \"y\": 150.0, \"label_x\": 520.0, \"label_y\": 130.0, \"bigg_id\": \"CPD_12390_c\", \"name\": \"CPD_12390_c\", \"node_is_primary\": false}, \"3\": {\"node_type\": \"metabolite\", \"x\": 550.0, \"y\": 300.0, \"label_x\": 520.0, \"label_y\": 280.0, \"bigg_id\": \"WATER_c\", \"name\": \"WATER_c\", \"node_is_primary\": false}, \"4\": {\"node_type\": \"multimarker\", \"x\": 335.0, \"y\": 225.0}, \"5\": {\"node_type\": \"midmarker\", \"x\": 355.0, \"y\": 225.0}, \"6\": {\"node_type\": \"multimarker\", \"x\": 375.0, \"y\": 225.0}, \"7\": {\"node_type\": \"metabolite\", \"x\": 1200.0, \"y\": 150.0, \"label_x\": 1170.0, \"label_y\": 130.0, \"bigg_id\": \"CPD_12391_c\", \"name\": \"CPD_12391_c\", \"node_is_primary\": false}, \"8\": {\"node_type\": \"metabolite\", \"x\": 1200.0, \"y\": 300.0, \"label_x\": 1170.0, \"label_y\": 280.0, \"bigg_id\": \"GLT_c\", \"name\": \"GLT_c\", \"node_is_primary\": false}, \"9\": {\"node_type\": \"multimarker\", \"x\": 985.0, \"y\": 225.0}, \"10\": {\"node_type\": \"midmarker\", \"x\": 1005.0, \"y\": 225.0}, \"11\": {\"node_type\": \"multimarker\", \"x\": 1025.0, \"y\": 225.0}, \"12\": {\"node_type\": \"metabolite\", \"x\": 1330.0, \"y\": 300.0, \"label_x\": 1300.0, \"label_y\": 280.0, \"bigg_id\": \"WATER_c\", \"name\": \"WATER_c\", \"node_is_primary\": false}, \"13\": {\"node_type\": \"metabolite\", \"x\": 1850.0, \"y\": 150.0, \"label_x\": 1820.0, \"label_y\": 130.0, \"bigg_id\": \"CPD_7546_c\", \"name\": \"CPD_7546_c\", \"node_is_primary\": false}, \"14\": {\"node_type\": \"metabolite\", \"x\": 1850.0, \"y\": 300.0, \"label_x\": 1820.0, \"label_y\": 280.0, \"bigg_id\": \"GLY_c\", \"name\": \"GLY_c\", \"node_is_primary\": false}, \"15\": {\"node_type\": \"multimarker\", \"x\": 1635.0, \"y\": 225.0}, \"16\": {\"node_type\": \"midmarker\", \"x\": 1655.0, \"y\": 225.0}, \"17\": {\"node_type\": \"multimarker\", \"x\": 1675.0, \"y\": 225.0}, \"18\": {\"node_type\": \"metabolite\", \"x\": 1980.0, \"y\": 300.0, \"label_x\": 1950.0, \"label_y\": 280.0, \"bigg_id\": \"WATER_c\", \"name\": \"WATER_c\", \"node_is_primary\": false}, \"19\": {\"node_type\": \"metabolite\", \"x\": 2500.0, \"y\": 112.5, \"label_x\": 2470.0, \"label_y\": 92.5, \"bigg_id\": \"3_METHYLTHIOPROPYLHYDROXAMIC_ACID_c\", \"name\": \"3_METHYLTHIOPROPYLHYDROXAMIC_ACID_c\", \"node_is_primary\": false}, \"20\": {\"node_type\": \"metabolite\", \"x\": 2500.0, \"y\": 225.0, \"label_x\": 2470.0, \"label_y\": 205.0, \"bigg_id\": \"AMMONIUM_c\", \"name\": \"AMMONIUM_c\", \"node_is_primary\": false}, \"21\": {\"node_type\": \"metabolite\", \"x\": 2500.0, \"y\": 337.5, \"label_x\": 2470.0, \"label_y\": 317.5, \"bigg_id\": \"PYRUVATE_c\", \"name\": \"PYRUVATE_c\", \"node_is_primary\": false}, \"22\": {\"node_type\": \"multimarker\", \"x\": 2285.0, \"y\": 225.0}, \"23\": {\"node_type\": \"midmarker\", \"x\": 2305.0, \"y\": 225.0}, \"24\": {\"node_type\": \"multimarker\", \"x\": 2325.0, \"y\": 225.0}, \"25\": {\"node_type\": \"metabolite\", \"x\": 2630.0, \"y\": 300.0, \"label_x\": 2600.0, \"label_y\": 280.0, \"bigg_id\": \"UDP_GLUCOSE_c\", \"name\": \"UDP_GLUCOSE_c\", \"node_is_primary\": false}, \"26\": {\"node_type\": \"metabolite\", \"x\": 3150.0, \"y\": 112.5, \"label_x\": 3120.0, \"label_y\": 92.5, \"bigg_id\": \"3_METHYLTHIOPROPYL_DESULFO_GLUCOSINOLATE_c\", \"name\": \"3_METHYLTHIOPROPYL_DESULFO_GLUCOSINOLATE_c\", \"node_is_primary\": false}, \"27\": {\"node_type\": \"metabolite\", \"x\": 3150.0, \"y\": 225.0, \"label_x\": 3120.0, \"label_y\": 205.0, \"bigg_id\": \"PROTON_c\", \"name\": \"PROTON_c\", \"node_is_primary\": false}, \"28\": {\"node_type\": \"metabolite\", \"x\": 3150.0, \"y\": 337.5, \"label_x\": 3120.0, \"label_y\": 317.5, \"bigg_id\": \"UDP_c\", \"name\": \"UDP_c\", \"node_is_primary\": false}, \"29\": {\"node_type\": \"multimarker\", \"x\": 2935.0, \"y\": 225.0}, \"30\": {\"node_type\": \"midmarker\", \"x\": 2955.0, \"y\": 225.0}, \"31\": {\"node_type\": \"multimarker\", \"x\": 2975.0, \"y\": 225.0}, \"32\": {\"node_type\": \"metabolite\", \"x\": 3280.0, \"y\": 300.0, \"label_x\": 3250.0, \"label_y\": 280.0, \"bigg_id\": \"PAPS_c\", \"name\": \"PAPS_c\", \"node_is_primary\": false}, \"33\": {\"node_type\": \"metabolite\", \"x\": 3800.0, \"y\": 112.5, \"label_x\": 3770.0, \"label_y\": 92.5, \"bigg_id\": \"3_5_ADP_c\", \"name\": \"3_5_ADP_c\", \"node_is_primary\": false}, \"34\": {\"node_type\": \"metabolite\", \"x\": 3800.0, \"y\": 225.0, \"label_x\": 3770.0, \"label_y\": 205.0, \"bigg_id\": \"3_METHYLTHIOPROPYL_GLUCOSINOLATE_c\", \"name\": \"3_METHYLTHIOPROPYL_GLUCOSINOLATE_c\", \"node_is_primary\": false}, \"35\": {\"node_type\": \"metabolite\", \"x\": 3800.0, \"y\": 337.5, \"label_x\": 3770.0, \"label_y\": 317.5, \"bigg_id\": \"PROTON_c\", \"name\": \"PROTON_c\", \"node_is_primary\": false}, \"36\": {\"node_type\": \"multimarker\", \"x\": 3585.0, \"y\": 225.0}, \"37\": {\"node_type\": \"midmarker\", \"x\": 3605.0, \"y\": 225.0}, \"38\": {\"node_type\": \"multimarker\", \"x\": 3625.0, \"y\": 225.0}, \"39\": {\"node_type\": \"metabolite\", \"x\": 3930.0, \"y\": 180.0, \"label_x\": 3900.0, \"label_y\": 160.0, \"bigg_id\": \"NADPH_c\", \"name\": \"NADPH_c\", \"node_is_primary\": false}, \"40\": {\"node_type\": \"metabolite\", \"x\": 3930.0, \"y\": 270.0, \"label_x\": 3900.0, \"label_y\": 250.0, \"bigg_id\": \"OXYGEN_MOLECULE_c\", \"name\": \"OXYGEN_MOLECULE_c\", \"node_is_primary\": false}, \"41\": {\"node_type\": \"metabolite\", \"x\": 4450.0, \"y\": 112.5, \"label_x\": 4420.0, \"label_y\": 92.5, \"bigg_id\": \"3_METHYLSULFINYLPROPYL_GLUCOSINOLATE_c\", \"name\": \"3_METHYLSULFINYLPROPYL_GLUCOSINOLATE_c\", \"node_is_primary\": false}, \"42\": {\"node_type\": \"metabolite\", \"x\": 4450.0, \"y\": 225.0, \"label_x\": 4420.0, \"label_y\": 205.0, \"bigg_id\": \"NADP_c\", \"name\": \"NADP_c\", \"node_is_primary\": false}, \"43\": {\"node_type\": \"metabolite\", \"x\": 4450.0, \"y\": 337.5, \"label_x\": 4420.0, \"label_y\": 317.5, \"bigg_id\": \"WATER_c\", \"name\": \"WATER_c\", \"node_is_primary\": false}, \"44\": {\"node_type\": \"multimarker\", \"x\": 4235.0, \"y\": 225.0}, \"45\": {\"node_type\": \"midmarker\", \"x\": 4255.0, \"y\": 225.0}, \"46\": {\"node_type\": \"multimarker\", \"x\": 4275.0, \"y\": 225.0}}, \"text_labels\": {}, \"canvas\": {\"x\": 0, \"y\": 0, \"width\": 4550, \"height\": 450}}]",
       "_loaded_model_json": null,
       "allow_building_duplicate_reactions": false,
       "and_method_in_gene_reaction_rule": "mean",
       "canvas_size_and_loc": null,
       "cofactors": [
        "atp",
        "adp",
        "nad",
        "nadh",
        "nadp",
        "nadph",
        "gtp",
        "gdp",
        "h",
        "coa",
        "ump",
        "h2o",
        "ppi"
       ],
       "disabled_buttons": [
        "Clear reaction data",
        "Clear gene data",
        "Clear metabolite data"
       ],
       "embedded_css": null,
       "enable_editing": true,
       "enable_keys": false,
       "enable_keys_with_tooltip": true,
       "enable_search": true,
       "enable_tooltips": false,
       "full_screen_button": {
        "enable_editing": true,
        "enable_keys": true,
        "enable_tooltips": [
         "label"
        ],
        "menu": "all",
        "scroll_behavior": "pan"
       },
       "gene_data": null,
       "gene_font_size": 18,
       "height": 500,
       "hide_all_labels": false,
       "hide_secondary_metabolites": false,
       "highlight_missing": false,
       "identifiers_on_map": "bigg_id",
       "layout": "IPY_MODEL_fe266d440c534fc09ca111c46f62871a",
       "marker_radius": 5,
       "menu": "all",
       "metabolite_compare_style": "log2_fold",
       "metabolite_data": null,
       "metabolite_no_data_color": "#ffffff",
       "metabolite_no_data_size": 10,
       "metabolite_scale": [
        {
         "color": "#fffaf0",
         "size": 20,
         "type": "min"
        },
        {
         "color": "#f1c470",
         "size": 30,
         "type": "median"
        },
        {
         "color": "#800000",
         "size": 40,
         "type": "max"
        }
       ],
       "metabolite_scale_preset": "WhYlRd",
       "metabolite_styles": [
        "color",
        "size",
        "text"
       ],
       "never_ask_before_quit": false,
       "primary_metabolite_radius": 20,
       "reaction_compare_style": "log2_fold",
       "reaction_data": null,
       "reaction_no_data_color": "#dcdcdc",
       "reaction_no_data_size": 8,
       "reaction_scale": [
        {
         "color": "rgb(220,220,220)",
         "type": "value",
         "value": 0
        }
       ],
       "reaction_scale_preset": null,
       "reaction_styles": [
        "color",
        "text"
       ],
       "scroll_behavior": "none",
       "secondary_metabolite_radius": 10,
       "semantic_zoom": null,
       "show_gene_reaction_rules": false,
       "starting_reaction": null,
       "use_3d_transform": false,
       "zoom_to_element": null
      }
     },
     "80469b28072046a0a969669aae455531": {
      "model_module": "escher",
      "model_module_version": "1.7.3",
      "model_name": "EscherMapModel",
      "state": {
       "_loaded_map_json": "[{\"map_name\": \"\", \"map_id\": \"\", \"map_description\": \"\", \"homepage\": \"\", \"schema\": \"https://escher.github.io/escher/jsonschema/1-0-0#\"}, {\"reactions\": {\"0\": {\"name\": \"RXN_11422_c\", \"bigg_id\": \"RXN_11422_c\", \"reversibility\": true, \"label_x\": 226.0, \"label_y\": 45.0, \"gene_reaction_rule\": \"\", \"genes\": [], \"segments\": {\"0\": {\"from_node_id\": \"4\", \"to_node_id\": \"5\", \"b1\": null, \"b2\": null}, \"1\": {\"from_node_id\": \"6\", \"to_node_id\": \"5\", \"b1\": null, \"b2\": null}, \"2\": {\"from_node_id\": \"0\", \"to_node_id\": \"4\", \"b1\": null, \"b2\": null}, \"3\": {\"from_node_id\": \"1\", \"to_node_id\": \"4\", \"b1\": null, \"b2\": null}, \"4\": {\"from_node_id\": \"2\", \"to_node_id\": \"6\", \"b1\": null, \"b2\": null}, \"5\": {\"from_node_id\": \"3\", \"to_node_id\": \"6\", \"b1\": null, \"b2\": null}}, \"metabolites\": [{\"bigg_id\": \"CPD_12389_c\", \"coefficient\": -1.0}, {\"bigg_id\": \"GLUTATHIONE_c\", \"coefficient\": -1.0}, {\"bigg_id\": \"CPD_12390_c\", \"coefficient\": 1.0}, {\"bigg_id\": \"WATER_c\", \"coefficient\": 1.0}]}, \"1\": {\"name\": \"RXN_11430_c\", \"bigg_id\": \"RXN_11430_c\", \"reversibility\": true, \"label_x\": 876.0, \"label_y\": 45.0, \"gene_reaction_rule\": \"\", \"genes\": [], \"segments\": {\"6\": {\"from_node_id\": \"9\", \"to_node_id\": \"10\", \"b1\": null, \"b2\": null}, \"7\": {\"from_node_id\": \"11\", \"to_node_id\": \"10\", \"b1\": null, \"b2\": null}, \"8\": {\"from_node_id\": \"2\", \"to_node_id\": \"9\", \"b1\": null, \"b2\": null}, \"9\": {\"from_node_id\": \"3\", \"to_node_id\": \"9\", \"b1\": null, \"b2\": null}, \"10\": {\"from_node_id\": \"7\", \"to_node_id\": \"11\", \"b1\": null, \"b2\": null}, \"11\": {\"from_node_id\": \"8\", \"to_node_id\": \"11\", \"b1\": null, \"b2\": null}}, \"metabolites\": [{\"bigg_id\": \"CPD_12390_c\", \"coefficient\": -1.0}, {\"bigg_id\": \"WATER_c\", \"coefficient\": -1.0}, {\"bigg_id\": \"CPD_12391_c\", \"coefficient\": 1.0}, {\"bigg_id\": \"GLT_c\", \"coefficient\": 1.0}]}, \"2\": {\"name\": \"RXN_19589_c\", \"bigg_id\": \"RXN_19589_c\", \"reversibility\": true, \"label_x\": 1526.0, \"label_y\": 45.0, \"gene_reaction_rule\": \"\", \"genes\": [], \"segments\": {\"12\": {\"from_node_id\": \"15\", \"to_node_id\": \"16\", \"b1\": null, \"b2\": null}, \"13\": {\"from_node_id\": \"17\", \"to_node_id\": \"16\", \"b1\": null, \"b2\": null}, \"14\": {\"from_node_id\": \"7\", \"to_node_id\": \"15\", \"b1\": null, \"b2\": null}, \"15\": {\"from_node_id\": \"12\", \"to_node_id\": \"15\", \"b1\": null, \"b2\": null}, \"16\": {\"from_node_id\": \"13\", \"to_node_id\": \"17\", \"b1\": null, \"b2\": null}, \"17\": {\"from_node_id\": \"14\", \"to_node_id\": \"17\", \"b1\": null, \"b2\": null}}, \"metabolites\": [{\"bigg_id\": \"CPD_12391_c\", \"coefficient\": -1.0}, {\"bigg_id\": \"WATER_c\", \"coefficient\": -1.0}, {\"bigg_id\": \"CPD_7546_c\", \"coefficient\": 1.0}, {\"bigg_id\": \"GLY_c\", \"coefficient\": 1.0}]}, \"3\": {\"name\": \"RXN_8052_c\", \"bigg_id\": \"RXN_8052_c\", \"reversibility\": true, \"label_x\": 2185.0, \"label_y\": 45.0, \"gene_reaction_rule\": \"\", \"genes\": [], \"segments\": {\"18\": {\"from_node_id\": \"22\", \"to_node_id\": \"23\", \"b1\": null, \"b2\": null}, \"19\": {\"from_node_id\": \"24\", \"to_node_id\": \"23\", \"b1\": null, \"b2\": null}, \"20\": {\"from_node_id\": \"13\", \"to_node_id\": \"22\", \"b1\": null, \"b2\": null}, \"21\": {\"from_node_id\": \"18\", \"to_node_id\": \"22\", \"b1\": null, \"b2\": null}, \"22\": {\"from_node_id\": \"19\", \"to_node_id\": \"24\", \"b1\": null, \"b2\": null}, \"23\": {\"from_node_id\": \"20\", \"to_node_id\": \"24\", \"b1\": null, \"b2\": null}, \"24\": {\"from_node_id\": \"21\", \"to_node_id\": \"24\", \"b1\": null, \"b2\": null}}, \"metabolites\": [{\"bigg_id\": \"CPD_7546_c\", \"coefficient\": -1.0}, {\"bigg_id\": \"WATER_c\", \"coefficient\": -1.0}, {\"bigg_id\": \"3_METHYLTHIOPROPYLHYDROXAMIC_ACID_c\", \"coefficient\": 1.0}, {\"bigg_id\": \"AMMONIUM_c\", \"coefficient\": 1.0}, {\"bigg_id\": \"PYRUVATE_c\", \"coefficient\": 1.0}]}, \"4\": {\"name\": \"RXN_2208_c\", \"bigg_id\": \"RXN_2208_c\", \"reversibility\": true, \"label_x\": 2835.0, \"label_y\": 45.0, \"gene_reaction_rule\": \"\", \"genes\": [], \"segments\": {\"25\": {\"from_node_id\": \"29\", \"to_node_id\": \"30\", \"b1\": null, \"b2\": null}, \"26\": {\"from_node_id\": \"31\", \"to_node_id\": \"30\", \"b1\": null, \"b2\": null}, \"27\": {\"from_node_id\": \"19\", \"to_node_id\": \"29\", \"b1\": null, \"b2\": null}, \"28\": {\"from_node_id\": \"25\", \"to_node_id\": \"29\", \"b1\": null, \"b2\": null}, \"29\": {\"from_node_id\": \"26\", \"to_node_id\": \"31\", \"b1\": null, \"b2\": null}, \"30\": {\"from_node_id\": \"27\", \"to_node_id\": \"31\", \"b1\": null, \"b2\": null}, \"31\": {\"from_node_id\": \"28\", \"to_node_id\": \"31\", \"b1\": null, \"b2\": null}}, \"metabolites\": [{\"bigg_id\": \"3_METHYLTHIOPROPYLHYDROXAMIC_ACID_c\", \"coefficient\": -1.0}, {\"bigg_id\": \"UDP_GLUCOSE_c\", \"coefficient\": -1.0}, {\"bigg_id\": \"3_METHYLTHIOPROPYL_DESULFO_GLUCOSINOLATE_c\", \"coefficient\": 1.0}, {\"bigg_id\": \"PROTON_c\", \"coefficient\": 1.0}, {\"bigg_id\": \"UDP_c\", \"coefficient\": 1.0}]}, \"5\": {\"name\": \"RXN_2209_c\", \"bigg_id\": \"RXN_2209_c\", \"reversibility\": true, \"label_x\": 3485.0, \"label_y\": 45.0, \"gene_reaction_rule\": \"\", \"genes\": [], \"segments\": {\"32\": {\"from_node_id\": \"36\", \"to_node_id\": \"37\", \"b1\": null, \"b2\": null}, \"33\": {\"from_node_id\": \"38\", \"to_node_id\": \"37\", \"b1\": null, \"b2\": null}, \"34\": {\"from_node_id\": \"26\", \"to_node_id\": \"36\", \"b1\": null, \"b2\": null}, \"35\": {\"from_node_id\": \"32\", \"to_node_id\": \"36\", \"b1\": null, \"b2\": null}, \"36\": {\"from_node_id\": \"33\", \"to_node_id\": \"38\", \"b1\": null, \"b2\": null}, \"37\": {\"from_node_id\": \"34\", \"to_node_id\": \"38\", \"b1\": null, \"b2\": null}, \"38\": {\"from_node_id\": \"35\", \"to_node_id\": \"38\", \"b1\": null, \"b2\": null}}, \"metabolites\": [{\"bigg_id\": \"3_METHYLTHIOPROPYL_DESULFO_GLUCOSINOLATE_c\", \"coefficient\": -1.0}, {\"bigg_id\": \"PAPS_c\", \"coefficient\": -1.0}, {\"bigg_id\": \"3_5_ADP_c\", \"coefficient\": 1.0}, {\"bigg_id\": \"3_METHYLTHIOPROPYL_GLUCOSINOLATE_c\", \"coefficient\": 1.0}, {\"bigg_id\": \"PROTON_c\", \"coefficient\": 1.0}]}, \"6\": {\"name\": \"RXN_2221_c\", \"bigg_id\": \"RXN_2221_c\", \"reversibility\": true, \"label_x\": 4135.0, \"label_y\": 45.0, \"gene_reaction_rule\": \"\", \"genes\": [], \"segments\": {\"39\": {\"from_node_id\": \"44\", \"to_node_id\": \"45\", \"b1\": null, \"b2\": null}, \"40\": {\"from_node_id\": \"46\", \"to_node_id\": \"45\", \"b1\": null, \"b2\": null}, \"41\": {\"from_node_id\": \"34\", \"to_node_id\": \"44\", \"b1\": null, \"b2\": null}, \"42\": {\"from_node_id\": \"39\", \"to_node_id\": \"44\", \"b1\": null, \"b2\": null}, \"43\": {\"from_node_id\": \"40\", \"to_node_id\": \"44\", \"b1\": null, \"b2\": null}, \"44\": {\"from_node_id\": \"35\", \"to_node_id\": \"44\", \"b1\": null, \"b2\": null}, \"45\": {\"from_node_id\": \"41\", \"to_node_id\": \"46\", \"b1\": null, \"b2\": null}, \"46\": {\"from_node_id\": \"42\", \"to_node_id\": \"46\", \"b1\": null, \"b2\": null}, \"47\": {\"from_node_id\": \"43\", \"to_node_id\": \"46\", \"b1\": null, \"b2\": null}}, \"metabolites\": [{\"bigg_id\": \"3_METHYLTHIOPROPYL_GLUCOSINOLATE_c\", \"coefficient\": -1.0}, {\"bigg_id\": \"NADPH_c\", \"coefficient\": -1.0}, {\"bigg_id\": \"OXYGEN_MOLECULE_c\", \"coefficient\": -1.0}, {\"bigg_id\": \"PROTON_c\", \"coefficient\": -1.0}, {\"bigg_id\": \"3_METHYLSULFINYLPROPYL_GLUCOSINOLATE_c\", \"coefficient\": 1.0}, {\"bigg_id\": \"NADP_c\", \"coefficient\": 1.0}, {\"bigg_id\": \"WATER_c\", \"coefficient\": 1.0}]}}, \"nodes\": {\"0\": {\"node_type\": \"metabolite\", \"x\": 30.0, \"y\": 150.0, \"label_x\": 0.0, \"label_y\": 130.0, \"bigg_id\": \"CPD_12389_c\", \"name\": \"CPD_12389_c\", \"node_is_primary\": false}, \"1\": {\"node_type\": \"metabolite\", \"x\": 30.0, \"y\": 300.0, \"label_x\": 0.0, \"label_y\": 280.0, \"bigg_id\": \"GLUTATHIONE_c\", \"name\": \"GLUTATHIONE_c\", \"node_is_primary\": false}, \"2\": {\"node_type\": \"metabolite\", \"x\": 550.0, \"y\": 150.0, \"label_x\": 520.0, \"label_y\": 130.0, \"bigg_id\": \"CPD_12390_c\", \"name\": \"CPD_12390_c\", \"node_is_primary\": false}, \"3\": {\"node_type\": \"metabolite\", \"x\": 550.0, \"y\": 300.0, \"label_x\": 520.0, \"label_y\": 280.0, \"bigg_id\": \"WATER_c\", \"name\": \"WATER_c\", \"node_is_primary\": false}, \"4\": {\"node_type\": \"multimarker\", \"x\": 335.0, \"y\": 225.0}, \"5\": {\"node_type\": \"midmarker\", \"x\": 355.0, \"y\": 225.0}, \"6\": {\"node_type\": \"multimarker\", \"x\": 375.0, \"y\": 225.0}, \"7\": {\"node_type\": \"metabolite\", \"x\": 1200.0, \"y\": 150.0, \"label_x\": 1170.0, \"label_y\": 130.0, \"bigg_id\": \"CPD_12391_c\", \"name\": \"CPD_12391_c\", \"node_is_primary\": false}, \"8\": {\"node_type\": \"metabolite\", \"x\": 1200.0, \"y\": 300.0, \"label_x\": 1170.0, \"label_y\": 280.0, \"bigg_id\": \"GLT_c\", \"name\": \"GLT_c\", \"node_is_primary\": false}, \"9\": {\"node_type\": \"multimarker\", \"x\": 985.0, \"y\": 225.0}, \"10\": {\"node_type\": \"midmarker\", \"x\": 1005.0, \"y\": 225.0}, \"11\": {\"node_type\": \"multimarker\", \"x\": 1025.0, \"y\": 225.0}, \"12\": {\"node_type\": \"metabolite\", \"x\": 1330.0, \"y\": 300.0, \"label_x\": 1300.0, \"label_y\": 280.0, \"bigg_id\": \"WATER_c\", \"name\": \"WATER_c\", \"node_is_primary\": false}, \"13\": {\"node_type\": \"metabolite\", \"x\": 1850.0, \"y\": 150.0, \"label_x\": 1820.0, \"label_y\": 130.0, \"bigg_id\": \"CPD_7546_c\", \"name\": \"CPD_7546_c\", \"node_is_primary\": false}, \"14\": {\"node_type\": \"metabolite\", \"x\": 1850.0, \"y\": 300.0, \"label_x\": 1820.0, \"label_y\": 280.0, \"bigg_id\": \"GLY_c\", \"name\": \"GLY_c\", \"node_is_primary\": false}, \"15\": {\"node_type\": \"multimarker\", \"x\": 1635.0, \"y\": 225.0}, \"16\": {\"node_type\": \"midmarker\", \"x\": 1655.0, \"y\": 225.0}, \"17\": {\"node_type\": \"multimarker\", \"x\": 1675.0, \"y\": 225.0}, \"18\": {\"node_type\": \"metabolite\", \"x\": 1980.0, \"y\": 300.0, \"label_x\": 1950.0, \"label_y\": 280.0, \"bigg_id\": \"WATER_c\", \"name\": \"WATER_c\", \"node_is_primary\": false}, \"19\": {\"node_type\": \"metabolite\", \"x\": 2500.0, \"y\": 112.5, \"label_x\": 2470.0, \"label_y\": 92.5, \"bigg_id\": \"3_METHYLTHIOPROPYLHYDROXAMIC_ACID_c\", \"name\": \"3_METHYLTHIOPROPYLHYDROXAMIC_ACID_c\", \"node_is_primary\": false}, \"20\": {\"node_type\": \"metabolite\", \"x\": 2500.0, \"y\": 225.0, \"label_x\": 2470.0, \"label_y\": 205.0, \"bigg_id\": \"AMMONIUM_c\", \"name\": \"AMMONIUM_c\", \"node_is_primary\": false}, \"21\": {\"node_type\": \"metabolite\", \"x\": 2500.0, \"y\": 337.5, \"label_x\": 2470.0, \"label_y\": 317.5, \"bigg_id\": \"PYRUVATE_c\", \"name\": \"PYRUVATE_c\", \"node_is_primary\": false}, \"22\": {\"node_type\": \"multimarker\", \"x\": 2285.0, \"y\": 225.0}, \"23\": {\"node_type\": \"midmarker\", \"x\": 2305.0, \"y\": 225.0}, \"24\": {\"node_type\": \"multimarker\", \"x\": 2325.0, \"y\": 225.0}, \"25\": {\"node_type\": \"metabolite\", \"x\": 2630.0, \"y\": 300.0, \"label_x\": 2600.0, \"label_y\": 280.0, \"bigg_id\": \"UDP_GLUCOSE_c\", \"name\": \"UDP_GLUCOSE_c\", \"node_is_primary\": false}, \"26\": {\"node_type\": \"metabolite\", \"x\": 3150.0, \"y\": 112.5, \"label_x\": 3120.0, \"label_y\": 92.5, \"bigg_id\": \"3_METHYLTHIOPROPYL_DESULFO_GLUCOSINOLATE_c\", \"name\": \"3_METHYLTHIOPROPYL_DESULFO_GLUCOSINOLATE_c\", \"node_is_primary\": false}, \"27\": {\"node_type\": \"metabolite\", \"x\": 3150.0, \"y\": 225.0, \"label_x\": 3120.0, \"label_y\": 205.0, \"bigg_id\": \"PROTON_c\", \"name\": \"PROTON_c\", \"node_is_primary\": false}, \"28\": {\"node_type\": \"metabolite\", \"x\": 3150.0, \"y\": 337.5, \"label_x\": 3120.0, \"label_y\": 317.5, \"bigg_id\": \"UDP_c\", \"name\": \"UDP_c\", \"node_is_primary\": false}, \"29\": {\"node_type\": \"multimarker\", \"x\": 2935.0, \"y\": 225.0}, \"30\": {\"node_type\": \"midmarker\", \"x\": 2955.0, \"y\": 225.0}, \"31\": {\"node_type\": \"multimarker\", \"x\": 2975.0, \"y\": 225.0}, \"32\": {\"node_type\": \"metabolite\", \"x\": 3280.0, \"y\": 300.0, \"label_x\": 3250.0, \"label_y\": 280.0, \"bigg_id\": \"PAPS_c\", \"name\": \"PAPS_c\", \"node_is_primary\": false}, \"33\": {\"node_type\": \"metabolite\", \"x\": 3800.0, \"y\": 112.5, \"label_x\": 3770.0, \"label_y\": 92.5, \"bigg_id\": \"3_5_ADP_c\", \"name\": \"3_5_ADP_c\", \"node_is_primary\": false}, \"34\": {\"node_type\": \"metabolite\", \"x\": 3800.0, \"y\": 225.0, \"label_x\": 3770.0, \"label_y\": 205.0, \"bigg_id\": \"3_METHYLTHIOPROPYL_GLUCOSINOLATE_c\", \"name\": \"3_METHYLTHIOPROPYL_GLUCOSINOLATE_c\", \"node_is_primary\": false}, \"35\": {\"node_type\": \"metabolite\", \"x\": 3800.0, \"y\": 337.5, \"label_x\": 3770.0, \"label_y\": 317.5, \"bigg_id\": \"PROTON_c\", \"name\": \"PROTON_c\", \"node_is_primary\": false}, \"36\": {\"node_type\": \"multimarker\", \"x\": 3585.0, \"y\": 225.0}, \"37\": {\"node_type\": \"midmarker\", \"x\": 3605.0, \"y\": 225.0}, \"38\": {\"node_type\": \"multimarker\", \"x\": 3625.0, \"y\": 225.0}, \"39\": {\"node_type\": \"metabolite\", \"x\": 3930.0, \"y\": 180.0, \"label_x\": 3900.0, \"label_y\": 160.0, \"bigg_id\": \"NADPH_c\", \"name\": \"NADPH_c\", \"node_is_primary\": false}, \"40\": {\"node_type\": \"metabolite\", \"x\": 3930.0, \"y\": 270.0, \"label_x\": 3900.0, \"label_y\": 250.0, \"bigg_id\": \"OXYGEN_MOLECULE_c\", \"name\": \"OXYGEN_MOLECULE_c\", \"node_is_primary\": false}, \"41\": {\"node_type\": \"metabolite\", \"x\": 4450.0, \"y\": 112.5, \"label_x\": 4420.0, \"label_y\": 92.5, \"bigg_id\": \"3_METHYLSULFINYLPROPYL_GLUCOSINOLATE_c\", \"name\": \"3_METHYLSULFINYLPROPYL_GLUCOSINOLATE_c\", \"node_is_primary\": false}, \"42\": {\"node_type\": \"metabolite\", \"x\": 4450.0, \"y\": 225.0, \"label_x\": 4420.0, \"label_y\": 205.0, \"bigg_id\": \"NADP_c\", \"name\": \"NADP_c\", \"node_is_primary\": false}, \"43\": {\"node_type\": \"metabolite\", \"x\": 4450.0, \"y\": 337.5, \"label_x\": 4420.0, \"label_y\": 317.5, \"bigg_id\": \"WATER_c\", \"name\": \"WATER_c\", \"node_is_primary\": false}, \"44\": {\"node_type\": \"multimarker\", \"x\": 4235.0, \"y\": 225.0}, \"45\": {\"node_type\": \"midmarker\", \"x\": 4255.0, \"y\": 225.0}, \"46\": {\"node_type\": \"multimarker\", \"x\": 4275.0, \"y\": 225.0}}, \"text_labels\": {}, \"canvas\": {\"x\": 0, \"y\": 0, \"width\": 4550, \"height\": 450}}]",
       "_loaded_model_json": null,
       "allow_building_duplicate_reactions": false,
       "and_method_in_gene_reaction_rule": "mean",
       "canvas_size_and_loc": null,
       "cofactors": [
        "atp",
        "adp",
        "nad",
        "nadh",
        "nadp",
        "nadph",
        "gtp",
        "gdp",
        "h",
        "coa",
        "ump",
        "h2o",
        "ppi"
       ],
       "disabled_buttons": [
        "Clear reaction data",
        "Clear gene data",
        "Clear metabolite data"
       ],
       "embedded_css": null,
       "enable_editing": true,
       "enable_keys": false,
       "enable_keys_with_tooltip": true,
       "enable_search": true,
       "enable_tooltips": false,
       "full_screen_button": {
        "enable_editing": true,
        "enable_keys": true,
        "enable_tooltips": [
         "label"
        ],
        "menu": "all",
        "scroll_behavior": "pan"
       },
       "gene_data": null,
       "gene_font_size": 18,
       "height": 500,
       "hide_all_labels": false,
       "hide_secondary_metabolites": false,
       "highlight_missing": false,
       "identifiers_on_map": "bigg_id",
       "layout": "IPY_MODEL_8714d95f2fb840f5be27f090afdac860",
       "marker_radius": 5,
       "menu": "all",
       "metabolite_compare_style": "log2_fold",
       "metabolite_data": null,
       "metabolite_no_data_color": "#ffffff",
       "metabolite_no_data_size": 10,
       "metabolite_scale": [
        {
         "color": "#fffaf0",
         "size": 20,
         "type": "min"
        },
        {
         "color": "#f1c470",
         "size": 30,
         "type": "median"
        },
        {
         "color": "#800000",
         "size": 40,
         "type": "max"
        }
       ],
       "metabolite_scale_preset": "WhYlRd",
       "metabolite_styles": [
        "color",
        "size",
        "text"
       ],
       "never_ask_before_quit": false,
       "primary_metabolite_radius": 20,
       "reaction_compare_style": "log2_fold",
       "reaction_data": null,
       "reaction_no_data_color": "#dcdcdc",
       "reaction_no_data_size": 8,
       "reaction_scale": {},
       "reaction_scale_preset": null,
       "reaction_styles": [
        "color",
        "text"
       ],
       "scroll_behavior": "none",
       "secondary_metabolite_radius": 10,
       "semantic_zoom": null,
       "show_gene_reaction_rules": false,
       "starting_reaction": null,
       "use_3d_transform": false,
       "zoom_to_element": null
      }
     },
     "826482729a1e4082806bffcec95278c0": {
      "model_module": "@jupyter-widgets/base",
      "model_module_version": "1.2.0",
      "model_name": "LayoutModel",
      "state": {}
     },
     "83d05b0552a94bb3b4b5a2e07ec0e8b5": {
      "model_module": "escher",
      "model_module_version": "1.7.3",
      "model_name": "EscherMapModel",
      "state": {
       "_loaded_map_json": "[{\"map_name\": \"\", \"map_id\": \"\", \"map_description\": \"\", \"homepage\": \"\", \"schema\": \"https://escher.github.io/escher/jsonschema/1-0-0#\"}, {\"reactions\": {\"0\": {\"name\": \"RXNQT_4163_p\", \"bigg_id\": \"RXNQT_4163_p\", \"reversibility\": true, \"label_x\": 265.0, \"label_y\": 325.0, \"gene_reaction_rule\": \"\", \"genes\": [], \"segments\": {\"0\": {\"from_node_id\": \"6\", \"to_node_id\": \"7\", \"b1\": null, \"b2\": null}, \"1\": {\"from_node_id\": \"8\", \"to_node_id\": \"7\", \"b1\": null, \"b2\": null}, \"2\": {\"from_node_id\": \"0\", \"to_node_id\": \"6\", \"b1\": null, \"b2\": null}, \"3\": {\"from_node_id\": \"1\", \"to_node_id\": \"6\", \"b1\": null, \"b2\": null}, \"4\": {\"from_node_id\": \"2\", \"to_node_id\": \"6\", \"b1\": null, \"b2\": null}, \"5\": {\"from_node_id\": \"3\", \"to_node_id\": \"8\", \"b1\": null, \"b2\": null}, \"6\": {\"from_node_id\": \"4\", \"to_node_id\": \"8\", \"b1\": null, \"b2\": null}, \"7\": {\"from_node_id\": \"5\", \"to_node_id\": \"8\", \"b1\": null, \"b2\": null}}, \"metabolites\": [{\"bigg_id\": \"2_OXO_5_METHYLTHIOPENTANOIC_ACID_p\", \"coefficient\": -1.0}, {\"bigg_id\": \"ACETYL_COA_p\", \"coefficient\": -1.0}, {\"bigg_id\": \"WATER_p\", \"coefficient\": -1.0}, {\"bigg_id\": \"CO_A_p\", \"coefficient\": 1.0}, {\"bigg_id\": \"CPDQT_31_p\", \"coefficient\": 1.0}, {\"bigg_id\": \"PROTON_p\", \"coefficient\": 1.0}]}, \"1\": {\"name\": \"RXN_18184_p\", \"bigg_id\": \"RXN_18184_p\", \"reversibility\": true, \"label_x\": 265.0, \"label_y\": 975.0, \"gene_reaction_rule\": \"\", \"genes\": [], \"segments\": {\"8\": {\"from_node_id\": \"11\", \"to_node_id\": \"12\", \"b1\": null, \"b2\": null}, \"9\": {\"from_node_id\": \"13\", \"to_node_id\": \"12\", \"b1\": null, \"b2\": null}, \"10\": {\"from_node_id\": \"4\", \"to_node_id\": \"11\", \"b1\": null, \"b2\": null}, \"11\": {\"from_node_id\": \"9\", \"to_node_id\": \"13\", \"b1\": null, \"b2\": null}, \"12\": {\"from_node_id\": \"10\", \"to_node_id\": \"13\", \"b1\": null, \"b2\": null}}, \"metabolites\": [{\"bigg_id\": \"CPDQT_31_p\", \"coefficient\": -1.0}, {\"bigg_id\": \"CPD_19477_p\", \"coefficient\": 1.0}, {\"bigg_id\": \"WATER_p\", \"coefficient\": 1.0}]}, \"2\": {\"name\": \"RXN_18185_p\", \"bigg_id\": \"RXN_18185_p\", \"reversibility\": true, \"label_x\": 265.0, \"label_y\": 1625.0, \"gene_reaction_rule\": \"\", \"genes\": [], \"segments\": {\"13\": {\"from_node_id\": \"15\", \"to_node_id\": \"16\", \"b1\": null, \"b2\": null}, \"14\": {\"from_node_id\": \"17\", \"to_node_id\": \"16\", \"b1\": null, \"b2\": null}, \"15\": {\"from_node_id\": \"9\", \"to_node_id\": \"15\", \"b1\": null, \"b2\": null}, \"16\": {\"from_node_id\": \"10\", \"to_node_id\": \"15\", \"b1\": null, \"b2\": null}, \"17\": {\"from_node_id\": \"14\", \"to_node_id\": \"17\", \"b1\": null, \"b2\": null}}, \"metabolites\": [{\"bigg_id\": \"CPD_19477_p\", \"coefficient\": -1.0}, {\"bigg_id\": \"WATER_p\", \"coefficient\": -1.0}, {\"bigg_id\": \"CPDQT_36_p\", \"coefficient\": 1.0}]}, \"3\": {\"name\": \"RXN_18208_p\", \"bigg_id\": \"RXN_18208_p\", \"reversibility\": true, \"label_x\": 265.0, \"label_y\": 2275.0, \"gene_reaction_rule\": \"\", \"genes\": [], \"segments\": {\"18\": {\"from_node_id\": \"22\", \"to_node_id\": \"23\", \"b1\": null, \"b2\": null}, \"19\": {\"from_node_id\": \"24\", \"to_node_id\": \"23\", \"b1\": null, \"b2\": null}, \"20\": {\"from_node_id\": \"14\", \"to_node_id\": \"22\", \"b1\": null, \"b2\": null}, \"21\": {\"from_node_id\": \"18\", \"to_node_id\": \"22\", \"b1\": null, \"b2\": null}, \"22\": {\"from_node_id\": \"19\", \"to_node_id\": \"24\", \"b1\": null, \"b2\": null}, \"23\": {\"from_node_id\": \"20\", \"to_node_id\": \"24\", \"b1\": null, \"b2\": null}, \"24\": {\"from_node_id\": \"21\", \"to_node_id\": \"24\", \"b1\": null, \"b2\": null}}, \"metabolites\": [{\"bigg_id\": \"CPDQT_36_p\", \"coefficient\": -1.0}, {\"bigg_id\": \"NAD_p\", \"coefficient\": -1.0}, {\"bigg_id\": \"CPD_19491_p\", \"coefficient\": 1.0}, {\"bigg_id\": \"NADH_p\", \"coefficient\": 1.0}, {\"bigg_id\": \"PROTON_p\", \"coefficient\": 1.0}]}, \"4\": {\"name\": \"RXN_18209_p\", \"bigg_id\": \"RXN_18209_p\", \"reversibility\": true, \"label_x\": 265.0, \"label_y\": 2925.0, \"gene_reaction_rule\": \"\", \"genes\": [], \"segments\": {\"25\": {\"from_node_id\": \"27\", \"to_node_id\": \"28\", \"b1\": null, \"b2\": null}, \"26\": {\"from_node_id\": \"29\", \"to_node_id\": \"28\", \"b1\": null, \"b2\": null}, \"27\": {\"from_node_id\": \"19\", \"to_node_id\": \"27\", \"b1\": null, \"b2\": null}, \"28\": {\"from_node_id\": \"21\", \"to_node_id\": \"27\", \"b1\": null, \"b2\": null}, \"29\": {\"from_node_id\": \"25\", \"to_node_id\": \"29\", \"b1\": null, \"b2\": null}, \"30\": {\"from_node_id\": \"26\", \"to_node_id\": \"29\", \"b1\": null, \"b2\": null}}, \"metabolites\": [{\"bigg_id\": \"CPD_19491_p\", \"coefficient\": -1.0}, {\"bigg_id\": \"PROTON_p\", \"coefficient\": -1.0}, {\"bigg_id\": \"CARBON_DIOXIDE_p\", \"coefficient\": 1.0}, {\"bigg_id\": \"CPDQT_27_p\", \"coefficient\": 1.0}]}, \"5\": {\"name\": \"RXNQT_4345_p\", \"bigg_id\": \"RXNQT_4345_p\", \"reversibility\": true, \"label_x\": 265.0, \"label_y\": 3575.0, \"gene_reaction_rule\": \"\", \"genes\": [], \"segments\": {\"31\": {\"from_node_id\": \"33\", \"to_node_id\": \"34\", \"b1\": null, \"b2\": null}, \"32\": {\"from_node_id\": \"35\", \"to_node_id\": \"34\", \"b1\": null, \"b2\": null}, \"33\": {\"from_node_id\": \"26\", \"to_node_id\": \"33\", \"b1\": null, \"b2\": null}, \"34\": {\"from_node_id\": \"30\", \"to_node_id\": \"33\", \"b1\": null, \"b2\": null}, \"35\": {\"from_node_id\": \"31\", \"to_node_id\": \"35\", \"b1\": null, \"b2\": null}, \"36\": {\"from_node_id\": \"32\", \"to_node_id\": \"35\", \"b1\": null, \"b2\": null}}, \"metabolites\": [{\"bigg_id\": \"CPDQT_27_p\", \"coefficient\": -1.0}, {\"bigg_id\": \"GLT_p\", \"coefficient\": -1.0}, {\"bigg_id\": \"2_KETOGLUTARATE_p\", \"coefficient\": 1.0}, {\"bigg_id\": \"CPDQT_340_p\", \"coefficient\": 1.0}]}}, \"nodes\": {\"0\": {\"node_type\": \"metabolite\", \"x\": 112.5, \"y\": 30.0, \"label_x\": 122.5, \"label_y\": 20.0, \"bigg_id\": \"2_OXO_5_METHYLTHIOPENTANOIC_ACID_p\", \"name\": \"2_OXO_5_METHYLTHIOPENTANOIC_ACID_p\", \"node_is_primary\": false}, \"1\": {\"node_type\": \"metabolite\", \"x\": 225.0, \"y\": 30.0, \"label_x\": 235.0, \"label_y\": 20.0, \"bigg_id\": \"ACETYL_COA_p\", \"name\": \"ACETYL_COA_p\", \"node_is_primary\": false}, \"2\": {\"node_type\": \"metabolite\", \"x\": 337.5, \"y\": 30.0, \"label_x\": 347.5, \"label_y\": 20.0, \"bigg_id\": \"WATER_p\", \"name\": \"WATER_p\", \"node_is_primary\": false}, \"3\": {\"node_type\": \"metabolite\", \"x\": 112.5, \"y\": 550.0, \"label_x\": 122.5, \"label_y\": 580.0, \"bigg_id\": \"CO_A_p\", \"name\": \"CO_A_p\", \"node_is_primary\": false}, \"4\": {\"node_type\": \"metabolite\", \"x\": 225.0, \"y\": 550.0, \"label_x\": 235.0, \"label_y\": 580.0, \"bigg_id\": \"CPDQT_31_p\", \"name\": \"CPDQT_31_p\", \"node_is_primary\": false}, \"5\": {\"node_type\": \"metabolite\", \"x\": 337.5, \"y\": 550.0, \"label_x\": 347.5, \"label_y\": 580.0, \"bigg_id\": \"PROTON_p\", \"name\": \"PROTON_p\", \"node_is_primary\": false}, \"6\": {\"node_type\": \"multimarker\", \"x\": 225.0, \"y\": 305.0}, \"7\": {\"node_type\": \"midmarker\", \"x\": 225.0, \"y\": 325.0}, \"8\": {\"node_type\": \"multimarker\", \"x\": 225.0, \"y\": 345.0}, \"9\": {\"node_type\": \"metabolite\", \"x\": 150.0, \"y\": 1200.0, \"label_x\": 160.0, \"label_y\": 1230.0, \"bigg_id\": \"CPD_19477_p\", \"name\": \"CPD_19477_p\", \"node_is_primary\": false}, \"10\": {\"node_type\": \"metabolite\", \"x\": 300.0, \"y\": 1200.0, \"label_x\": 310.0, \"label_y\": 1230.0, \"bigg_id\": \"WATER_p\", \"name\": \"WATER_p\", \"node_is_primary\": false}, \"11\": {\"node_type\": \"multimarker\", \"x\": 225.0, \"y\": 955.0}, \"12\": {\"node_type\": \"midmarker\", \"x\": 225.0, \"y\": 975.0}, \"13\": {\"node_type\": \"multimarker\", \"x\": 225.0, \"y\": 995.0}, \"14\": {\"node_type\": \"metabolite\", \"x\": 225.0, \"y\": 1850.0, \"label_x\": 235.0, \"label_y\": 1880.0, \"bigg_id\": \"CPDQT_36_p\", \"name\": \"CPDQT_36_p\", \"node_is_primary\": false}, \"15\": {\"node_type\": \"multimarker\", \"x\": 225.0, \"y\": 1605.0}, \"16\": {\"node_type\": \"midmarker\", \"x\": 225.0, \"y\": 1625.0}, \"17\": {\"node_type\": \"multimarker\", \"x\": 225.0, \"y\": 1645.0}, \"18\": {\"node_type\": \"metabolite\", \"x\": 300.0, \"y\": 1980.0, \"label_x\": 310.0, \"label_y\": 1970.0, \"bigg_id\": \"NAD_p\", \"name\": \"NAD_p\", \"node_is_primary\": false}, \"19\": {\"node_type\": \"metabolite\", \"x\": 112.5, \"y\": 2500.0, \"label_x\": 122.5, \"label_y\": 2530.0, \"bigg_id\": \"CPD_19491_p\", \"name\": \"CPD_19491_p\", \"node_is_primary\": false}, \"20\": {\"node_type\": \"metabolite\", \"x\": 225.0, \"y\": 2500.0, \"label_x\": 235.0, \"label_y\": 2530.0, \"bigg_id\": \"NADH_p\", \"name\": \"NADH_p\", \"node_is_primary\": false}, \"21\": {\"node_type\": \"metabolite\", \"x\": 337.5, \"y\": 2500.0, \"label_x\": 347.5, \"label_y\": 2530.0, \"bigg_id\": \"PROTON_p\", \"name\": \"PROTON_p\", \"node_is_primary\": false}, \"22\": {\"node_type\": \"multimarker\", \"x\": 225.0, \"y\": 2255.0}, \"23\": {\"node_type\": \"midmarker\", \"x\": 225.0, \"y\": 2275.0}, \"24\": {\"node_type\": \"multimarker\", \"x\": 225.0, \"y\": 2295.0}, \"25\": {\"node_type\": \"metabolite\", \"x\": 150.0, \"y\": 3150.0, \"label_x\": 160.0, \"label_y\": 3180.0, \"bigg_id\": \"CARBON_DIOXIDE_p\", \"name\": \"CARBON_DIOXIDE_p\", \"node_is_primary\": false}, \"26\": {\"node_type\": \"metabolite\", \"x\": 300.0, \"y\": 3150.0, \"label_x\": 310.0, \"label_y\": 3180.0, \"bigg_id\": \"CPDQT_27_p\", \"name\": \"CPDQT_27_p\", \"node_is_primary\": false}, \"27\": {\"node_type\": \"multimarker\", \"x\": 225.0, \"y\": 2905.0}, \"28\": {\"node_type\": \"midmarker\", \"x\": 225.0, \"y\": 2925.0}, \"29\": {\"node_type\": \"multimarker\", \"x\": 225.0, \"y\": 2945.0}, \"30\": {\"node_type\": \"metabolite\", \"x\": 300.0, \"y\": 3280.0, \"label_x\": 310.0, \"label_y\": 3270.0, \"bigg_id\": \"GLT_p\", \"name\": \"GLT_p\", \"node_is_primary\": false}, \"31\": {\"node_type\": \"metabolite\", \"x\": 150.0, \"y\": 3800.0, \"label_x\": 160.0, \"label_y\": 3830.0, \"bigg_id\": \"2_KETOGLUTARATE_p\", \"name\": \"2_KETOGLUTARATE_p\", \"node_is_primary\": false}, \"32\": {\"node_type\": \"metabolite\", \"x\": 300.0, \"y\": 3800.0, \"label_x\": 310.0, \"label_y\": 3830.0, \"bigg_id\": \"CPDQT_340_p\", \"name\": \"CPDQT_340_p\", \"node_is_primary\": false}, \"33\": {\"node_type\": \"multimarker\", \"x\": 225.0, \"y\": 3555.0}, \"34\": {\"node_type\": \"midmarker\", \"x\": 225.0, \"y\": 3575.0}, \"35\": {\"node_type\": \"multimarker\", \"x\": 225.0, \"y\": 3595.0}}, \"text_labels\": {}, \"canvas\": {\"x\": 0, \"y\": 0, \"width\": 450, \"height\": 3900}}]",
       "_loaded_model_json": null,
       "allow_building_duplicate_reactions": false,
       "and_method_in_gene_reaction_rule": "mean",
       "canvas_size_and_loc": null,
       "cofactors": [
        "atp",
        "adp",
        "nad",
        "nadh",
        "nadp",
        "nadph",
        "gtp",
        "gdp",
        "h",
        "coa",
        "ump",
        "h2o",
        "ppi"
       ],
       "disabled_buttons": [
        "Clear reaction data",
        "Clear gene data",
        "Clear metabolite data"
       ],
       "embedded_css": null,
       "enable_editing": true,
       "enable_keys": false,
       "enable_keys_with_tooltip": true,
       "enable_search": true,
       "enable_tooltips": false,
       "full_screen_button": {
        "enable_editing": true,
        "enable_keys": true,
        "enable_tooltips": [
         "label"
        ],
        "menu": "all",
        "scroll_behavior": "pan"
       },
       "gene_data": null,
       "gene_font_size": 18,
       "height": 500,
       "hide_all_labels": false,
       "hide_secondary_metabolites": false,
       "highlight_missing": false,
       "identifiers_on_map": "bigg_id",
       "layout": "IPY_MODEL_8c8e51a7285240938a0bed662261a82b",
       "marker_radius": 5,
       "menu": "all",
       "metabolite_compare_style": "log2_fold",
       "metabolite_data": null,
       "metabolite_no_data_color": "#ffffff",
       "metabolite_no_data_size": 10,
       "metabolite_scale": [
        {
         "color": "#fffaf0",
         "size": 20,
         "type": "min"
        },
        {
         "color": "#f1c470",
         "size": 30,
         "type": "median"
        },
        {
         "color": "#800000",
         "size": 40,
         "type": "max"
        }
       ],
       "metabolite_scale_preset": "WhYlRd",
       "metabolite_styles": [
        "color",
        "size",
        "text"
       ],
       "never_ask_before_quit": false,
       "primary_metabolite_radius": 20,
       "reaction_compare_style": "log2_fold",
       "reaction_data": null,
       "reaction_no_data_color": "#dcdcdc",
       "reaction_no_data_size": 8,
       "reaction_scale": {},
       "reaction_scale_preset": null,
       "reaction_styles": [
        "color",
        "text"
       ],
       "scroll_behavior": "none",
       "secondary_metabolite_radius": 10,
       "semantic_zoom": null,
       "show_gene_reaction_rules": false,
       "starting_reaction": null,
       "use_3d_transform": false,
       "zoom_to_element": null
      }
     },
     "8714d95f2fb840f5be27f090afdac860": {
      "model_module": "@jupyter-widgets/base",
      "model_module_version": "1.2.0",
      "model_name": "LayoutModel",
      "state": {}
     },
     "8c8e51a7285240938a0bed662261a82b": {
      "model_module": "@jupyter-widgets/base",
      "model_module_version": "1.2.0",
      "model_name": "LayoutModel",
      "state": {}
     },
     "963f3ee42afe4bb796739d19f5129c4b": {
      "model_module": "@jupyter-widgets/base",
      "model_module_version": "1.2.0",
      "model_name": "LayoutModel",
      "state": {}
     },
     "a09a06fa642343c5ba43d111c08885c6": {
      "model_module": "@jupyter-widgets/base",
      "model_module_version": "1.2.0",
      "model_name": "LayoutModel",
      "state": {}
     },
     "a73bbc0c0b7544bdb70b13b8e8333af2": {
      "model_module": "escher",
      "model_module_version": "1.7.3",
      "model_name": "EscherMapModel",
      "state": {
       "_loaded_map_json": "[{\"map_name\": \"\", \"map_id\": \"\", \"map_description\": \"\", \"homepage\": \"\", \"schema\": \"https://escher.github.io/escher/jsonschema/1-0-0#\"}, {\"reactions\": {\"0\": {\"name\": \"RXN_11422_c\", \"bigg_id\": \"RXN_11422_c\", \"reversibility\": true, \"label_x\": 226.0, \"label_y\": 45.0, \"gene_reaction_rule\": \"\", \"genes\": [], \"segments\": {\"0\": {\"from_node_id\": \"4\", \"to_node_id\": \"5\", \"b1\": null, \"b2\": null}, \"1\": {\"from_node_id\": \"6\", \"to_node_id\": \"5\", \"b1\": null, \"b2\": null}, \"2\": {\"from_node_id\": \"0\", \"to_node_id\": \"4\", \"b1\": null, \"b2\": null}, \"3\": {\"from_node_id\": \"1\", \"to_node_id\": \"4\", \"b1\": null, \"b2\": null}, \"4\": {\"from_node_id\": \"2\", \"to_node_id\": \"6\", \"b1\": null, \"b2\": null}, \"5\": {\"from_node_id\": \"3\", \"to_node_id\": \"6\", \"b1\": null, \"b2\": null}}, \"metabolites\": [{\"bigg_id\": \"CPD_12389_c\", \"coefficient\": -1.0}, {\"bigg_id\": \"GLUTATHIONE_c\", \"coefficient\": -1.0}, {\"bigg_id\": \"CPD_12390_c\", \"coefficient\": 1.0}, {\"bigg_id\": \"WATER_c\", \"coefficient\": 1.0}]}, \"1\": {\"name\": \"RXN_11430_c\", \"bigg_id\": \"RXN_11430_c\", \"reversibility\": true, \"label_x\": 876.0, \"label_y\": 45.0, \"gene_reaction_rule\": \"\", \"genes\": [], \"segments\": {\"6\": {\"from_node_id\": \"9\", \"to_node_id\": \"10\", \"b1\": null, \"b2\": null}, \"7\": {\"from_node_id\": \"11\", \"to_node_id\": \"10\", \"b1\": null, \"b2\": null}, \"8\": {\"from_node_id\": \"2\", \"to_node_id\": \"9\", \"b1\": null, \"b2\": null}, \"9\": {\"from_node_id\": \"3\", \"to_node_id\": \"9\", \"b1\": null, \"b2\": null}, \"10\": {\"from_node_id\": \"7\", \"to_node_id\": \"11\", \"b1\": null, \"b2\": null}, \"11\": {\"from_node_id\": \"8\", \"to_node_id\": \"11\", \"b1\": null, \"b2\": null}}, \"metabolites\": [{\"bigg_id\": \"CPD_12390_c\", \"coefficient\": -1.0}, {\"bigg_id\": \"WATER_c\", \"coefficient\": -1.0}, {\"bigg_id\": \"CPD_12391_c\", \"coefficient\": 1.0}, {\"bigg_id\": \"GLT_c\", \"coefficient\": 1.0}]}, \"2\": {\"name\": \"RXN_19589_c\", \"bigg_id\": \"RXN_19589_c\", \"reversibility\": true, \"label_x\": 1526.0, \"label_y\": 45.0, \"gene_reaction_rule\": \"\", \"genes\": [], \"segments\": {\"12\": {\"from_node_id\": \"15\", \"to_node_id\": \"16\", \"b1\": null, \"b2\": null}, \"13\": {\"from_node_id\": \"17\", \"to_node_id\": \"16\", \"b1\": null, \"b2\": null}, \"14\": {\"from_node_id\": \"7\", \"to_node_id\": \"15\", \"b1\": null, \"b2\": null}, \"15\": {\"from_node_id\": \"12\", \"to_node_id\": \"15\", \"b1\": null, \"b2\": null}, \"16\": {\"from_node_id\": \"13\", \"to_node_id\": \"17\", \"b1\": null, \"b2\": null}, \"17\": {\"from_node_id\": \"14\", \"to_node_id\": \"17\", \"b1\": null, \"b2\": null}}, \"metabolites\": [{\"bigg_id\": \"CPD_12391_c\", \"coefficient\": -1.0}, {\"bigg_id\": \"WATER_c\", \"coefficient\": -1.0}, {\"bigg_id\": \"CPD_7546_c\", \"coefficient\": 1.0}, {\"bigg_id\": \"GLY_c\", \"coefficient\": 1.0}]}, \"3\": {\"name\": \"RXN_8052_c\", \"bigg_id\": \"RXN_8052_c\", \"reversibility\": true, \"label_x\": 2185.0, \"label_y\": 45.0, \"gene_reaction_rule\": \"\", \"genes\": [], \"segments\": {\"18\": {\"from_node_id\": \"22\", \"to_node_id\": \"23\", \"b1\": null, \"b2\": null}, \"19\": {\"from_node_id\": \"24\", \"to_node_id\": \"23\", \"b1\": null, \"b2\": null}, \"20\": {\"from_node_id\": \"13\", \"to_node_id\": \"22\", \"b1\": null, \"b2\": null}, \"21\": {\"from_node_id\": \"18\", \"to_node_id\": \"22\", \"b1\": null, \"b2\": null}, \"22\": {\"from_node_id\": \"19\", \"to_node_id\": \"24\", \"b1\": null, \"b2\": null}, \"23\": {\"from_node_id\": \"20\", \"to_node_id\": \"24\", \"b1\": null, \"b2\": null}, \"24\": {\"from_node_id\": \"21\", \"to_node_id\": \"24\", \"b1\": null, \"b2\": null}}, \"metabolites\": [{\"bigg_id\": \"CPD_7546_c\", \"coefficient\": -1.0}, {\"bigg_id\": \"WATER_c\", \"coefficient\": -1.0}, {\"bigg_id\": \"3_METHYLTHIOPROPYLHYDROXAMIC_ACID_c\", \"coefficient\": 1.0}, {\"bigg_id\": \"AMMONIUM_c\", \"coefficient\": 1.0}, {\"bigg_id\": \"PYRUVATE_c\", \"coefficient\": 1.0}]}, \"4\": {\"name\": \"RXN_2208_c\", \"bigg_id\": \"RXN_2208_c\", \"reversibility\": true, \"label_x\": 2835.0, \"label_y\": 45.0, \"gene_reaction_rule\": \"\", \"genes\": [], \"segments\": {\"25\": {\"from_node_id\": \"29\", \"to_node_id\": \"30\", \"b1\": null, \"b2\": null}, \"26\": {\"from_node_id\": \"31\", \"to_node_id\": \"30\", \"b1\": null, \"b2\": null}, \"27\": {\"from_node_id\": \"19\", \"to_node_id\": \"29\", \"b1\": null, \"b2\": null}, \"28\": {\"from_node_id\": \"25\", \"to_node_id\": \"29\", \"b1\": null, \"b2\": null}, \"29\": {\"from_node_id\": \"26\", \"to_node_id\": \"31\", \"b1\": null, \"b2\": null}, \"30\": {\"from_node_id\": \"27\", \"to_node_id\": \"31\", \"b1\": null, \"b2\": null}, \"31\": {\"from_node_id\": \"28\", \"to_node_id\": \"31\", \"b1\": null, \"b2\": null}}, \"metabolites\": [{\"bigg_id\": \"3_METHYLTHIOPROPYLHYDROXAMIC_ACID_c\", \"coefficient\": -1.0}, {\"bigg_id\": \"UDP_GLUCOSE_c\", \"coefficient\": -1.0}, {\"bigg_id\": \"3_METHYLTHIOPROPYL_DESULFO_GLUCOSINOLATE_c\", \"coefficient\": 1.0}, {\"bigg_id\": \"PROTON_c\", \"coefficient\": 1.0}, {\"bigg_id\": \"UDP_c\", \"coefficient\": 1.0}]}, \"5\": {\"name\": \"RXN_2209_c\", \"bigg_id\": \"RXN_2209_c\", \"reversibility\": true, \"label_x\": 3485.0, \"label_y\": 45.0, \"gene_reaction_rule\": \"\", \"genes\": [], \"segments\": {\"32\": {\"from_node_id\": \"36\", \"to_node_id\": \"37\", \"b1\": null, \"b2\": null}, \"33\": {\"from_node_id\": \"38\", \"to_node_id\": \"37\", \"b1\": null, \"b2\": null}, \"34\": {\"from_node_id\": \"26\", \"to_node_id\": \"36\", \"b1\": null, \"b2\": null}, \"35\": {\"from_node_id\": \"32\", \"to_node_id\": \"36\", \"b1\": null, \"b2\": null}, \"36\": {\"from_node_id\": \"33\", \"to_node_id\": \"38\", \"b1\": null, \"b2\": null}, \"37\": {\"from_node_id\": \"34\", \"to_node_id\": \"38\", \"b1\": null, \"b2\": null}, \"38\": {\"from_node_id\": \"35\", \"to_node_id\": \"38\", \"b1\": null, \"b2\": null}}, \"metabolites\": [{\"bigg_id\": \"3_METHYLTHIOPROPYL_DESULFO_GLUCOSINOLATE_c\", \"coefficient\": -1.0}, {\"bigg_id\": \"PAPS_c\", \"coefficient\": -1.0}, {\"bigg_id\": \"3_5_ADP_c\", \"coefficient\": 1.0}, {\"bigg_id\": \"3_METHYLTHIOPROPYL_GLUCOSINOLATE_c\", \"coefficient\": 1.0}, {\"bigg_id\": \"PROTON_c\", \"coefficient\": 1.0}]}, \"6\": {\"name\": \"RXN_2221_c\", \"bigg_id\": \"RXN_2221_c\", \"reversibility\": true, \"label_x\": 4135.0, \"label_y\": 45.0, \"gene_reaction_rule\": \"\", \"genes\": [], \"segments\": {\"39\": {\"from_node_id\": \"44\", \"to_node_id\": \"45\", \"b1\": null, \"b2\": null}, \"40\": {\"from_node_id\": \"46\", \"to_node_id\": \"45\", \"b1\": null, \"b2\": null}, \"41\": {\"from_node_id\": \"34\", \"to_node_id\": \"44\", \"b1\": null, \"b2\": null}, \"42\": {\"from_node_id\": \"39\", \"to_node_id\": \"44\", \"b1\": null, \"b2\": null}, \"43\": {\"from_node_id\": \"40\", \"to_node_id\": \"44\", \"b1\": null, \"b2\": null}, \"44\": {\"from_node_id\": \"35\", \"to_node_id\": \"44\", \"b1\": null, \"b2\": null}, \"45\": {\"from_node_id\": \"41\", \"to_node_id\": \"46\", \"b1\": null, \"b2\": null}, \"46\": {\"from_node_id\": \"42\", \"to_node_id\": \"46\", \"b1\": null, \"b2\": null}, \"47\": {\"from_node_id\": \"43\", \"to_node_id\": \"46\", \"b1\": null, \"b2\": null}}, \"metabolites\": [{\"bigg_id\": \"3_METHYLTHIOPROPYL_GLUCOSINOLATE_c\", \"coefficient\": -1.0}, {\"bigg_id\": \"NADPH_c\", \"coefficient\": -1.0}, {\"bigg_id\": \"OXYGEN_MOLECULE_c\", \"coefficient\": -1.0}, {\"bigg_id\": \"PROTON_c\", \"coefficient\": -1.0}, {\"bigg_id\": \"3_METHYLSULFINYLPROPYL_GLUCOSINOLATE_c\", \"coefficient\": 1.0}, {\"bigg_id\": \"NADP_c\", \"coefficient\": 1.0}, {\"bigg_id\": \"WATER_c\", \"coefficient\": 1.0}]}}, \"nodes\": {\"0\": {\"node_type\": \"metabolite\", \"x\": 30.0, \"y\": 150.0, \"label_x\": 0.0, \"label_y\": 130.0, \"bigg_id\": \"CPD_12389_c\", \"name\": \"CPD_12389_c\", \"node_is_primary\": false}, \"1\": {\"node_type\": \"metabolite\", \"x\": 30.0, \"y\": 300.0, \"label_x\": 0.0, \"label_y\": 280.0, \"bigg_id\": \"GLUTATHIONE_c\", \"name\": \"GLUTATHIONE_c\", \"node_is_primary\": false}, \"2\": {\"node_type\": \"metabolite\", \"x\": 550.0, \"y\": 150.0, \"label_x\": 520.0, \"label_y\": 130.0, \"bigg_id\": \"CPD_12390_c\", \"name\": \"CPD_12390_c\", \"node_is_primary\": false}, \"3\": {\"node_type\": \"metabolite\", \"x\": 550.0, \"y\": 300.0, \"label_x\": 520.0, \"label_y\": 280.0, \"bigg_id\": \"WATER_c\", \"name\": \"WATER_c\", \"node_is_primary\": false}, \"4\": {\"node_type\": \"multimarker\", \"x\": 335.0, \"y\": 225.0}, \"5\": {\"node_type\": \"midmarker\", \"x\": 355.0, \"y\": 225.0}, \"6\": {\"node_type\": \"multimarker\", \"x\": 375.0, \"y\": 225.0}, \"7\": {\"node_type\": \"metabolite\", \"x\": 1200.0, \"y\": 150.0, \"label_x\": 1170.0, \"label_y\": 130.0, \"bigg_id\": \"CPD_12391_c\", \"name\": \"CPD_12391_c\", \"node_is_primary\": false}, \"8\": {\"node_type\": \"metabolite\", \"x\": 1200.0, \"y\": 300.0, \"label_x\": 1170.0, \"label_y\": 280.0, \"bigg_id\": \"GLT_c\", \"name\": \"GLT_c\", \"node_is_primary\": false}, \"9\": {\"node_type\": \"multimarker\", \"x\": 985.0, \"y\": 225.0}, \"10\": {\"node_type\": \"midmarker\", \"x\": 1005.0, \"y\": 225.0}, \"11\": {\"node_type\": \"multimarker\", \"x\": 1025.0, \"y\": 225.0}, \"12\": {\"node_type\": \"metabolite\", \"x\": 1330.0, \"y\": 300.0, \"label_x\": 1300.0, \"label_y\": 280.0, \"bigg_id\": \"WATER_c\", \"name\": \"WATER_c\", \"node_is_primary\": false}, \"13\": {\"node_type\": \"metabolite\", \"x\": 1850.0, \"y\": 150.0, \"label_x\": 1820.0, \"label_y\": 130.0, \"bigg_id\": \"CPD_7546_c\", \"name\": \"CPD_7546_c\", \"node_is_primary\": false}, \"14\": {\"node_type\": \"metabolite\", \"x\": 1850.0, \"y\": 300.0, \"label_x\": 1820.0, \"label_y\": 280.0, \"bigg_id\": \"GLY_c\", \"name\": \"GLY_c\", \"node_is_primary\": false}, \"15\": {\"node_type\": \"multimarker\", \"x\": 1635.0, \"y\": 225.0}, \"16\": {\"node_type\": \"midmarker\", \"x\": 1655.0, \"y\": 225.0}, \"17\": {\"node_type\": \"multimarker\", \"x\": 1675.0, \"y\": 225.0}, \"18\": {\"node_type\": \"metabolite\", \"x\": 1980.0, \"y\": 300.0, \"label_x\": 1950.0, \"label_y\": 280.0, \"bigg_id\": \"WATER_c\", \"name\": \"WATER_c\", \"node_is_primary\": false}, \"19\": {\"node_type\": \"metabolite\", \"x\": 2500.0, \"y\": 112.5, \"label_x\": 2470.0, \"label_y\": 92.5, \"bigg_id\": \"3_METHYLTHIOPROPYLHYDROXAMIC_ACID_c\", \"name\": \"3_METHYLTHIOPROPYLHYDROXAMIC_ACID_c\", \"node_is_primary\": false}, \"20\": {\"node_type\": \"metabolite\", \"x\": 2500.0, \"y\": 225.0, \"label_x\": 2470.0, \"label_y\": 205.0, \"bigg_id\": \"AMMONIUM_c\", \"name\": \"AMMONIUM_c\", \"node_is_primary\": false}, \"21\": {\"node_type\": \"metabolite\", \"x\": 2500.0, \"y\": 337.5, \"label_x\": 2470.0, \"label_y\": 317.5, \"bigg_id\": \"PYRUVATE_c\", \"name\": \"PYRUVATE_c\", \"node_is_primary\": false}, \"22\": {\"node_type\": \"multimarker\", \"x\": 2285.0, \"y\": 225.0}, \"23\": {\"node_type\": \"midmarker\", \"x\": 2305.0, \"y\": 225.0}, \"24\": {\"node_type\": \"multimarker\", \"x\": 2325.0, \"y\": 225.0}, \"25\": {\"node_type\": \"metabolite\", \"x\": 2630.0, \"y\": 300.0, \"label_x\": 2600.0, \"label_y\": 280.0, \"bigg_id\": \"UDP_GLUCOSE_c\", \"name\": \"UDP_GLUCOSE_c\", \"node_is_primary\": false}, \"26\": {\"node_type\": \"metabolite\", \"x\": 3150.0, \"y\": 112.5, \"label_x\": 3120.0, \"label_y\": 92.5, \"bigg_id\": \"3_METHYLTHIOPROPYL_DESULFO_GLUCOSINOLATE_c\", \"name\": \"3_METHYLTHIOPROPYL_DESULFO_GLUCOSINOLATE_c\", \"node_is_primary\": false}, \"27\": {\"node_type\": \"metabolite\", \"x\": 3150.0, \"y\": 225.0, \"label_x\": 3120.0, \"label_y\": 205.0, \"bigg_id\": \"PROTON_c\", \"name\": \"PROTON_c\", \"node_is_primary\": false}, \"28\": {\"node_type\": \"metabolite\", \"x\": 3150.0, \"y\": 337.5, \"label_x\": 3120.0, \"label_y\": 317.5, \"bigg_id\": \"UDP_c\", \"name\": \"UDP_c\", \"node_is_primary\": false}, \"29\": {\"node_type\": \"multimarker\", \"x\": 2935.0, \"y\": 225.0}, \"30\": {\"node_type\": \"midmarker\", \"x\": 2955.0, \"y\": 225.0}, \"31\": {\"node_type\": \"multimarker\", \"x\": 2975.0, \"y\": 225.0}, \"32\": {\"node_type\": \"metabolite\", \"x\": 3280.0, \"y\": 300.0, \"label_x\": 3250.0, \"label_y\": 280.0, \"bigg_id\": \"PAPS_c\", \"name\": \"PAPS_c\", \"node_is_primary\": false}, \"33\": {\"node_type\": \"metabolite\", \"x\": 3800.0, \"y\": 112.5, \"label_x\": 3770.0, \"label_y\": 92.5, \"bigg_id\": \"3_5_ADP_c\", \"name\": \"3_5_ADP_c\", \"node_is_primary\": false}, \"34\": {\"node_type\": \"metabolite\", \"x\": 3800.0, \"y\": 225.0, \"label_x\": 3770.0, \"label_y\": 205.0, \"bigg_id\": \"3_METHYLTHIOPROPYL_GLUCOSINOLATE_c\", \"name\": \"3_METHYLTHIOPROPYL_GLUCOSINOLATE_c\", \"node_is_primary\": false}, \"35\": {\"node_type\": \"metabolite\", \"x\": 3800.0, \"y\": 337.5, \"label_x\": 3770.0, \"label_y\": 317.5, \"bigg_id\": \"PROTON_c\", \"name\": \"PROTON_c\", \"node_is_primary\": false}, \"36\": {\"node_type\": \"multimarker\", \"x\": 3585.0, \"y\": 225.0}, \"37\": {\"node_type\": \"midmarker\", \"x\": 3605.0, \"y\": 225.0}, \"38\": {\"node_type\": \"multimarker\", \"x\": 3625.0, \"y\": 225.0}, \"39\": {\"node_type\": \"metabolite\", \"x\": 3930.0, \"y\": 180.0, \"label_x\": 3900.0, \"label_y\": 160.0, \"bigg_id\": \"NADPH_c\", \"name\": \"NADPH_c\", \"node_is_primary\": false}, \"40\": {\"node_type\": \"metabolite\", \"x\": 3930.0, \"y\": 270.0, \"label_x\": 3900.0, \"label_y\": 250.0, \"bigg_id\": \"OXYGEN_MOLECULE_c\", \"name\": \"OXYGEN_MOLECULE_c\", \"node_is_primary\": false}, \"41\": {\"node_type\": \"metabolite\", \"x\": 4450.0, \"y\": 112.5, \"label_x\": 4420.0, \"label_y\": 92.5, \"bigg_id\": \"3_METHYLSULFINYLPROPYL_GLUCOSINOLATE_c\", \"name\": \"3_METHYLSULFINYLPROPYL_GLUCOSINOLATE_c\", \"node_is_primary\": false}, \"42\": {\"node_type\": \"metabolite\", \"x\": 4450.0, \"y\": 225.0, \"label_x\": 4420.0, \"label_y\": 205.0, \"bigg_id\": \"NADP_c\", \"name\": \"NADP_c\", \"node_is_primary\": false}, \"43\": {\"node_type\": \"metabolite\", \"x\": 4450.0, \"y\": 337.5, \"label_x\": 4420.0, \"label_y\": 317.5, \"bigg_id\": \"WATER_c\", \"name\": \"WATER_c\", \"node_is_primary\": false}, \"44\": {\"node_type\": \"multimarker\", \"x\": 4235.0, \"y\": 225.0}, \"45\": {\"node_type\": \"midmarker\", \"x\": 4255.0, \"y\": 225.0}, \"46\": {\"node_type\": \"multimarker\", \"x\": 4275.0, \"y\": 225.0}}, \"text_labels\": {}, \"canvas\": {\"x\": 0, \"y\": 0, \"width\": 4550, \"height\": 450}}]",
       "_loaded_model_json": null,
       "allow_building_duplicate_reactions": false,
       "and_method_in_gene_reaction_rule": "mean",
       "canvas_size_and_loc": null,
       "cofactors": [
        "atp",
        "adp",
        "nad",
        "nadh",
        "nadp",
        "nadph",
        "gtp",
        "gdp",
        "h",
        "coa",
        "ump",
        "h2o",
        "ppi"
       ],
       "disabled_buttons": [
        "Clear reaction data",
        "Clear gene data",
        "Clear metabolite data"
       ],
       "embedded_css": null,
       "enable_editing": true,
       "enable_keys": false,
       "enable_keys_with_tooltip": true,
       "enable_search": true,
       "enable_tooltips": false,
       "full_screen_button": {
        "enable_editing": true,
        "enable_keys": true,
        "enable_tooltips": [
         "label"
        ],
        "menu": "all",
        "scroll_behavior": "pan"
       },
       "gene_data": null,
       "gene_font_size": 18,
       "height": 500,
       "hide_all_labels": false,
       "hide_secondary_metabolites": false,
       "highlight_missing": false,
       "identifiers_on_map": "bigg_id",
       "layout": "IPY_MODEL_0d4fe0e68bed441693aae7fde2b02db8",
       "marker_radius": 5,
       "menu": "all",
       "metabolite_compare_style": "log2_fold",
       "metabolite_data": null,
       "metabolite_no_data_color": "#ffffff",
       "metabolite_no_data_size": 10,
       "metabolite_scale": [
        {
         "color": "#fffaf0",
         "size": 20,
         "type": "min"
        },
        {
         "color": "#f1c470",
         "size": 30,
         "type": "median"
        },
        {
         "color": "#800000",
         "size": 40,
         "type": "max"
        }
       ],
       "metabolite_scale_preset": "WhYlRd",
       "metabolite_styles": [
        "color",
        "size",
        "text"
       ],
       "never_ask_before_quit": false,
       "primary_metabolite_radius": 20,
       "reaction_compare_style": "log2_fold",
       "reaction_data": null,
       "reaction_no_data_color": "#dcdcdc",
       "reaction_no_data_size": 8,
       "reaction_scale": [
        {
         "color": "rgb(220,220,220)",
         "type": "value",
         "value": 0
        }
       ],
       "reaction_scale_preset": null,
       "reaction_styles": [
        "color",
        "text"
       ],
       "scroll_behavior": "none",
       "secondary_metabolite_radius": 10,
       "semantic_zoom": null,
       "show_gene_reaction_rules": false,
       "starting_reaction": null,
       "use_3d_transform": false,
       "zoom_to_element": null
      }
     },
     "b04756d4785f45c0a1e9d8221b68007b": {
      "model_module": "@jupyter-widgets/base",
      "model_module_version": "1.2.0",
      "model_name": "LayoutModel",
      "state": {}
     },
     "b3d4bd991c3a423a8ed09066b00c9ce9": {
      "model_module": "@jupyter-widgets/base",
      "model_module_version": "1.2.0",
      "model_name": "LayoutModel",
      "state": {}
     },
     "ce67145d1284412087cf23dc8883c110": {
      "model_module": "escher",
      "model_module_version": "1.7.3",
      "model_name": "EscherMapModel",
      "state": {
       "_loaded_map_json": "[{\"map_name\": \"\", \"map_id\": \"\", \"map_description\": \"\", \"homepage\": \"\", \"schema\": \"https://escher.github.io/escher/jsonschema/1-0-0#\"}, {\"reactions\": {\"0\": {\"name\": \"GLUTCYSLIG_RXN_p\", \"bigg_id\": \"GLUTCYSLIG_RXN_p\", \"reversibility\": true, \"label_x\": 181.0, \"label_y\": 45.0, \"gene_reaction_rule\": \"\", \"genes\": [], \"segments\": {\"0\": {\"from_node_id\": \"7\", \"to_node_id\": \"8\", \"b1\": null, \"b2\": null}, \"1\": {\"from_node_id\": \"9\", \"to_node_id\": \"8\", \"b1\": null, \"b2\": null}, \"2\": {\"from_node_id\": \"0\", \"to_node_id\": \"7\", \"b1\": null, \"b2\": null}, \"3\": {\"from_node_id\": \"1\", \"to_node_id\": \"7\", \"b1\": null, \"b2\": null}, \"4\": {\"from_node_id\": \"2\", \"to_node_id\": \"7\", \"b1\": null, \"b2\": null}, \"5\": {\"from_node_id\": \"3\", \"to_node_id\": \"9\", \"b1\": null, \"b2\": null}, \"6\": {\"from_node_id\": \"4\", \"to_node_id\": \"9\", \"b1\": null, \"b2\": null}, \"7\": {\"from_node_id\": \"5\", \"to_node_id\": \"9\", \"b1\": null, \"b2\": null}, \"8\": {\"from_node_id\": \"6\", \"to_node_id\": \"9\", \"b1\": null, \"b2\": null}}, \"metabolites\": [{\"bigg_id\": \"ATP_p\", \"coefficient\": -1.0}, {\"bigg_id\": \"CYS_p\", \"coefficient\": -1.0}, {\"bigg_id\": \"GLT_p\", \"coefficient\": -1.0}, {\"bigg_id\": \"ADP_p\", \"coefficient\": 1.0}, {\"bigg_id\": \"L_GAMMA_GLUTAMYLCYSTEINE_p\", \"coefficient\": 1.0}, {\"bigg_id\": \"PROTON_p\", \"coefficient\": 1.0}, {\"bigg_id\": \"Pi_p\", \"coefficient\": 1.0}]}, \"1\": {\"name\": \"GLUTATHIONE_SYN_RXN_p\", \"bigg_id\": \"GLUTATHIONE_SYN_RXN_p\", \"reversibility\": true, \"label_x\": 786.0, \"label_y\": 45.0, \"gene_reaction_rule\": \"\", \"genes\": [], \"segments\": {\"9\": {\"from_node_id\": \"16\", \"to_node_id\": \"17\", \"b1\": null, \"b2\": null}, \"10\": {\"from_node_id\": \"18\", \"to_node_id\": \"17\", \"b1\": null, \"b2\": null}, \"11\": {\"from_node_id\": \"10\", \"to_node_id\": \"16\", \"b1\": null, \"b2\": null}, \"12\": {\"from_node_id\": \"11\", \"to_node_id\": \"16\", \"b1\": null, \"b2\": null}, \"13\": {\"from_node_id\": \"4\", \"to_node_id\": \"16\", \"b1\": null, \"b2\": null}, \"14\": {\"from_node_id\": \"12\", \"to_node_id\": \"18\", \"b1\": null, \"b2\": null}, \"15\": {\"from_node_id\": \"13\", \"to_node_id\": \"18\", \"b1\": null, \"b2\": null}, \"16\": {\"from_node_id\": \"14\", \"to_node_id\": \"18\", \"b1\": null, \"b2\": null}, \"17\": {\"from_node_id\": \"15\", \"to_node_id\": \"18\", \"b1\": null, \"b2\": null}}, \"metabolites\": [{\"bigg_id\": \"ATP_p\", \"coefficient\": -1.0}, {\"bigg_id\": \"GLY_p\", \"coefficient\": -1.0}, {\"bigg_id\": \"L_GAMMA_GLUTAMYLCYSTEINE_p\", \"coefficient\": -1.0}, {\"bigg_id\": \"ADP_p\", \"coefficient\": 1.0}, {\"bigg_id\": \"GLUTATHIONE_p\", \"coefficient\": 1.0}, {\"bigg_id\": \"PROTON_p\", \"coefficient\": 1.0}, {\"bigg_id\": \"Pi_p\", \"coefficient\": 1.0}]}}, \"nodes\": {\"0\": {\"node_type\": \"metabolite\", \"x\": 30.0, \"y\": 112.5, \"label_x\": 0.0, \"label_y\": 92.5, \"bigg_id\": \"ATP_p\", \"name\": \"ATP_p\", \"node_is_primary\": false}, \"1\": {\"node_type\": \"metabolite\", \"x\": 30.0, \"y\": 225.0, \"label_x\": 0.0, \"label_y\": 205.0, \"bigg_id\": \"CYS_p\", \"name\": \"CYS_p\", \"node_is_primary\": false}, \"2\": {\"node_type\": \"metabolite\", \"x\": 30.0, \"y\": 337.5, \"label_x\": 0.0, \"label_y\": 317.5, \"bigg_id\": \"GLT_p\", \"name\": \"GLT_p\", \"node_is_primary\": false}, \"3\": {\"node_type\": \"metabolite\", \"x\": 550.0, \"y\": 90.0, \"label_x\": 520.0, \"label_y\": 70.0, \"bigg_id\": \"ADP_p\", \"name\": \"ADP_p\", \"node_is_primary\": false}, \"4\": {\"node_type\": \"metabolite\", \"x\": 550.0, \"y\": 180.0, \"label_x\": 520.0, \"label_y\": 160.0, \"bigg_id\": \"L_GAMMA_GLUTAMYLCYSTEINE_p\", \"name\": \"L_GAMMA_GLUTAMYLCYSTEINE_p\", \"node_is_primary\": false}, \"5\": {\"node_type\": \"metabolite\", \"x\": 550.0, \"y\": 270.0, \"label_x\": 520.0, \"label_y\": 250.0, \"bigg_id\": \"PROTON_p\", \"name\": \"PROTON_p\", \"node_is_primary\": false}, \"6\": {\"node_type\": \"metabolite\", \"x\": 550.0, \"y\": 360.0, \"label_x\": 520.0, \"label_y\": 340.0, \"bigg_id\": \"Pi_p\", \"name\": \"Pi_p\", \"node_is_primary\": false}, \"7\": {\"node_type\": \"multimarker\", \"x\": 335.0, \"y\": 225.0}, \"8\": {\"node_type\": \"midmarker\", \"x\": 355.0, \"y\": 225.0}, \"9\": {\"node_type\": \"multimarker\", \"x\": 375.0, \"y\": 225.0}, \"10\": {\"node_type\": \"metabolite\", \"x\": 680.0, \"y\": 112.5, \"label_x\": 650.0, \"label_y\": 92.5, \"bigg_id\": \"ATP_p\", \"name\": \"ATP_p\", \"node_is_primary\": false}, \"11\": {\"node_type\": \"metabolite\", \"x\": 680.0, \"y\": 225.0, \"label_x\": 650.0, \"label_y\": 205.0, \"bigg_id\": \"GLY_p\", \"name\": \"GLY_p\", \"node_is_primary\": false}, \"12\": {\"node_type\": \"metabolite\", \"x\": 1200.0, \"y\": 90.0, \"label_x\": 1170.0, \"label_y\": 70.0, \"bigg_id\": \"ADP_p\", \"name\": \"ADP_p\", \"node_is_primary\": false}, \"13\": {\"node_type\": \"metabolite\", \"x\": 1200.0, \"y\": 180.0, \"label_x\": 1170.0, \"label_y\": 160.0, \"bigg_id\": \"GLUTATHIONE_p\", \"name\": \"GLUTATHIONE_p\", \"node_is_primary\": false}, \"14\": {\"node_type\": \"metabolite\", \"x\": 1200.0, \"y\": 270.0, \"label_x\": 1170.0, \"label_y\": 250.0, \"bigg_id\": \"PROTON_p\", \"name\": \"PROTON_p\", \"node_is_primary\": false}, \"15\": {\"node_type\": \"metabolite\", \"x\": 1200.0, \"y\": 360.0, \"label_x\": 1170.0, \"label_y\": 340.0, \"bigg_id\": \"Pi_p\", \"name\": \"Pi_p\", \"node_is_primary\": false}, \"16\": {\"node_type\": \"multimarker\", \"x\": 985.0, \"y\": 225.0}, \"17\": {\"node_type\": \"midmarker\", \"x\": 1005.0, \"y\": 225.0}, \"18\": {\"node_type\": \"multimarker\", \"x\": 1025.0, \"y\": 225.0}}, \"text_labels\": {}, \"canvas\": {\"x\": 0, \"y\": 0, \"width\": 1300, \"height\": 450}}]",
       "_loaded_model_json": null,
       "allow_building_duplicate_reactions": false,
       "and_method_in_gene_reaction_rule": "mean",
       "canvas_size_and_loc": null,
       "cofactors": [
        "atp",
        "adp",
        "nad",
        "nadh",
        "nadp",
        "nadph",
        "gtp",
        "gdp",
        "h",
        "coa",
        "ump",
        "h2o",
        "ppi"
       ],
       "disabled_buttons": [
        "Clear reaction data",
        "Clear gene data",
        "Clear metabolite data"
       ],
       "embedded_css": null,
       "enable_editing": true,
       "enable_keys": false,
       "enable_keys_with_tooltip": true,
       "enable_search": true,
       "enable_tooltips": false,
       "full_screen_button": {
        "enable_editing": true,
        "enable_keys": true,
        "enable_tooltips": [
         "label"
        ],
        "menu": "all",
        "scroll_behavior": "pan"
       },
       "gene_data": null,
       "gene_font_size": 18,
       "height": 500,
       "hide_all_labels": false,
       "hide_secondary_metabolites": false,
       "highlight_missing": false,
       "identifiers_on_map": "bigg_id",
       "layout": "IPY_MODEL_5ef6fc27aead4ffd8a4d0ab77e909c4b",
       "marker_radius": 5,
       "menu": "all",
       "metabolite_compare_style": "log2_fold",
       "metabolite_data": null,
       "metabolite_no_data_color": "#ffffff",
       "metabolite_no_data_size": 10,
       "metabolite_scale": [
        {
         "color": "#fffaf0",
         "size": 20,
         "type": "min"
        },
        {
         "color": "#f1c470",
         "size": 30,
         "type": "median"
        },
        {
         "color": "#800000",
         "size": 40,
         "type": "max"
        }
       ],
       "metabolite_scale_preset": "WhYlRd",
       "metabolite_styles": [
        "color",
        "size",
        "text"
       ],
       "never_ask_before_quit": false,
       "primary_metabolite_radius": 20,
       "reaction_compare_style": "log2_fold",
       "reaction_data": null,
       "reaction_no_data_color": "#dcdcdc",
       "reaction_no_data_size": 8,
       "reaction_scale": {},
       "reaction_scale_preset": null,
       "reaction_styles": [
        "color",
        "text"
       ],
       "scroll_behavior": "none",
       "secondary_metabolite_radius": 10,
       "semantic_zoom": null,
       "show_gene_reaction_rules": false,
       "starting_reaction": null,
       "use_3d_transform": false,
       "zoom_to_element": null
      }
     },
     "e31f2516043d4f42b4e910ba93d0848b": {
      "model_module": "escher",
      "model_module_version": "1.7.3",
      "model_name": "EscherMapModel",
      "state": {
       "_loaded_map_json": "[{\"map_name\": \"\", \"map_id\": \"\", \"map_description\": \"\", \"homepage\": \"\", \"schema\": \"https://escher.github.io/escher/jsonschema/1-0-0#\"}, {\"reactions\": {\"0\": {\"name\": \"RXNQT_4163_p\", \"bigg_id\": \"RXNQT_4163_p\", \"reversibility\": true, \"label_x\": 265.0, \"label_y\": 325.0, \"gene_reaction_rule\": \"\", \"genes\": [], \"segments\": {\"0\": {\"from_node_id\": \"6\", \"to_node_id\": \"7\", \"b1\": null, \"b2\": null}, \"1\": {\"from_node_id\": \"8\", \"to_node_id\": \"7\", \"b1\": null, \"b2\": null}, \"2\": {\"from_node_id\": \"0\", \"to_node_id\": \"6\", \"b1\": null, \"b2\": null}, \"3\": {\"from_node_id\": \"1\", \"to_node_id\": \"6\", \"b1\": null, \"b2\": null}, \"4\": {\"from_node_id\": \"2\", \"to_node_id\": \"6\", \"b1\": null, \"b2\": null}, \"5\": {\"from_node_id\": \"3\", \"to_node_id\": \"8\", \"b1\": null, \"b2\": null}, \"6\": {\"from_node_id\": \"4\", \"to_node_id\": \"8\", \"b1\": null, \"b2\": null}, \"7\": {\"from_node_id\": \"5\", \"to_node_id\": \"8\", \"b1\": null, \"b2\": null}}, \"metabolites\": [{\"bigg_id\": \"2_OXO_5_METHYLTHIOPENTANOIC_ACID_p\", \"coefficient\": -1.0}, {\"bigg_id\": \"ACETYL_COA_p\", \"coefficient\": -1.0}, {\"bigg_id\": \"WATER_p\", \"coefficient\": -1.0}, {\"bigg_id\": \"CO_A_p\", \"coefficient\": 1.0}, {\"bigg_id\": \"CPDQT_31_p\", \"coefficient\": 1.0}, {\"bigg_id\": \"PROTON_p\", \"coefficient\": 1.0}]}, \"1\": {\"name\": \"RXN_18184_p\", \"bigg_id\": \"RXN_18184_p\", \"reversibility\": true, \"label_x\": 265.0, \"label_y\": 975.0, \"gene_reaction_rule\": \"\", \"genes\": [], \"segments\": {\"8\": {\"from_node_id\": \"11\", \"to_node_id\": \"12\", \"b1\": null, \"b2\": null}, \"9\": {\"from_node_id\": \"13\", \"to_node_id\": \"12\", \"b1\": null, \"b2\": null}, \"10\": {\"from_node_id\": \"4\", \"to_node_id\": \"11\", \"b1\": null, \"b2\": null}, \"11\": {\"from_node_id\": \"9\", \"to_node_id\": \"13\", \"b1\": null, \"b2\": null}, \"12\": {\"from_node_id\": \"10\", \"to_node_id\": \"13\", \"b1\": null, \"b2\": null}}, \"metabolites\": [{\"bigg_id\": \"CPDQT_31_p\", \"coefficient\": -1.0}, {\"bigg_id\": \"CPD_19477_p\", \"coefficient\": 1.0}, {\"bigg_id\": \"WATER_p\", \"coefficient\": 1.0}]}, \"2\": {\"name\": \"RXN_18185_p\", \"bigg_id\": \"RXN_18185_p\", \"reversibility\": true, \"label_x\": 265.0, \"label_y\": 1625.0, \"gene_reaction_rule\": \"\", \"genes\": [], \"segments\": {\"13\": {\"from_node_id\": \"15\", \"to_node_id\": \"16\", \"b1\": null, \"b2\": null}, \"14\": {\"from_node_id\": \"17\", \"to_node_id\": \"16\", \"b1\": null, \"b2\": null}, \"15\": {\"from_node_id\": \"9\", \"to_node_id\": \"15\", \"b1\": null, \"b2\": null}, \"16\": {\"from_node_id\": \"10\", \"to_node_id\": \"15\", \"b1\": null, \"b2\": null}, \"17\": {\"from_node_id\": \"14\", \"to_node_id\": \"17\", \"b1\": null, \"b2\": null}}, \"metabolites\": [{\"bigg_id\": \"CPD_19477_p\", \"coefficient\": -1.0}, {\"bigg_id\": \"WATER_p\", \"coefficient\": -1.0}, {\"bigg_id\": \"CPDQT_36_p\", \"coefficient\": 1.0}]}, \"3\": {\"name\": \"RXN_18208_p\", \"bigg_id\": \"RXN_18208_p\", \"reversibility\": true, \"label_x\": 265.0, \"label_y\": 2275.0, \"gene_reaction_rule\": \"\", \"genes\": [], \"segments\": {\"18\": {\"from_node_id\": \"22\", \"to_node_id\": \"23\", \"b1\": null, \"b2\": null}, \"19\": {\"from_node_id\": \"24\", \"to_node_id\": \"23\", \"b1\": null, \"b2\": null}, \"20\": {\"from_node_id\": \"14\", \"to_node_id\": \"22\", \"b1\": null, \"b2\": null}, \"21\": {\"from_node_id\": \"18\", \"to_node_id\": \"22\", \"b1\": null, \"b2\": null}, \"22\": {\"from_node_id\": \"19\", \"to_node_id\": \"24\", \"b1\": null, \"b2\": null}, \"23\": {\"from_node_id\": \"20\", \"to_node_id\": \"24\", \"b1\": null, \"b2\": null}, \"24\": {\"from_node_id\": \"21\", \"to_node_id\": \"24\", \"b1\": null, \"b2\": null}}, \"metabolites\": [{\"bigg_id\": \"CPDQT_36_p\", \"coefficient\": -1.0}, {\"bigg_id\": \"NAD_p\", \"coefficient\": -1.0}, {\"bigg_id\": \"CPD_19491_p\", \"coefficient\": 1.0}, {\"bigg_id\": \"NADH_p\", \"coefficient\": 1.0}, {\"bigg_id\": \"PROTON_p\", \"coefficient\": 1.0}]}, \"4\": {\"name\": \"RXN_18209_p\", \"bigg_id\": \"RXN_18209_p\", \"reversibility\": true, \"label_x\": 265.0, \"label_y\": 2925.0, \"gene_reaction_rule\": \"\", \"genes\": [], \"segments\": {\"25\": {\"from_node_id\": \"27\", \"to_node_id\": \"28\", \"b1\": null, \"b2\": null}, \"26\": {\"from_node_id\": \"29\", \"to_node_id\": \"28\", \"b1\": null, \"b2\": null}, \"27\": {\"from_node_id\": \"19\", \"to_node_id\": \"27\", \"b1\": null, \"b2\": null}, \"28\": {\"from_node_id\": \"21\", \"to_node_id\": \"27\", \"b1\": null, \"b2\": null}, \"29\": {\"from_node_id\": \"25\", \"to_node_id\": \"29\", \"b1\": null, \"b2\": null}, \"30\": {\"from_node_id\": \"26\", \"to_node_id\": \"29\", \"b1\": null, \"b2\": null}}, \"metabolites\": [{\"bigg_id\": \"CPD_19491_p\", \"coefficient\": -1.0}, {\"bigg_id\": \"PROTON_p\", \"coefficient\": -1.0}, {\"bigg_id\": \"CARBON_DIOXIDE_p\", \"coefficient\": 1.0}, {\"bigg_id\": \"CPDQT_27_p\", \"coefficient\": 1.0}]}, \"5\": {\"name\": \"RXNQT_4345_p\", \"bigg_id\": \"RXNQT_4345_p\", \"reversibility\": true, \"label_x\": 265.0, \"label_y\": 3575.0, \"gene_reaction_rule\": \"\", \"genes\": [], \"segments\": {\"31\": {\"from_node_id\": \"33\", \"to_node_id\": \"34\", \"b1\": null, \"b2\": null}, \"32\": {\"from_node_id\": \"35\", \"to_node_id\": \"34\", \"b1\": null, \"b2\": null}, \"33\": {\"from_node_id\": \"26\", \"to_node_id\": \"33\", \"b1\": null, \"b2\": null}, \"34\": {\"from_node_id\": \"30\", \"to_node_id\": \"33\", \"b1\": null, \"b2\": null}, \"35\": {\"from_node_id\": \"31\", \"to_node_id\": \"35\", \"b1\": null, \"b2\": null}, \"36\": {\"from_node_id\": \"32\", \"to_node_id\": \"35\", \"b1\": null, \"b2\": null}}, \"metabolites\": [{\"bigg_id\": \"CPDQT_27_p\", \"coefficient\": -1.0}, {\"bigg_id\": \"GLT_p\", \"coefficient\": -1.0}, {\"bigg_id\": \"2_KETOGLUTARATE_p\", \"coefficient\": 1.0}, {\"bigg_id\": \"CPDQT_340_p\", \"coefficient\": 1.0}]}}, \"nodes\": {\"0\": {\"node_type\": \"metabolite\", \"x\": 112.5, \"y\": 30.0, \"label_x\": 122.5, \"label_y\": 20.0, \"bigg_id\": \"2_OXO_5_METHYLTHIOPENTANOIC_ACID_p\", \"name\": \"2_OXO_5_METHYLTHIOPENTANOIC_ACID_p\", \"node_is_primary\": false}, \"1\": {\"node_type\": \"metabolite\", \"x\": 225.0, \"y\": 30.0, \"label_x\": 235.0, \"label_y\": 20.0, \"bigg_id\": \"ACETYL_COA_p\", \"name\": \"ACETYL_COA_p\", \"node_is_primary\": false}, \"2\": {\"node_type\": \"metabolite\", \"x\": 337.5, \"y\": 30.0, \"label_x\": 347.5, \"label_y\": 20.0, \"bigg_id\": \"WATER_p\", \"name\": \"WATER_p\", \"node_is_primary\": false}, \"3\": {\"node_type\": \"metabolite\", \"x\": 112.5, \"y\": 550.0, \"label_x\": 122.5, \"label_y\": 580.0, \"bigg_id\": \"CO_A_p\", \"name\": \"CO_A_p\", \"node_is_primary\": false}, \"4\": {\"node_type\": \"metabolite\", \"x\": 225.0, \"y\": 550.0, \"label_x\": 235.0, \"label_y\": 580.0, \"bigg_id\": \"CPDQT_31_p\", \"name\": \"CPDQT_31_p\", \"node_is_primary\": false}, \"5\": {\"node_type\": \"metabolite\", \"x\": 337.5, \"y\": 550.0, \"label_x\": 347.5, \"label_y\": 580.0, \"bigg_id\": \"PROTON_p\", \"name\": \"PROTON_p\", \"node_is_primary\": false}, \"6\": {\"node_type\": \"multimarker\", \"x\": 225.0, \"y\": 305.0}, \"7\": {\"node_type\": \"midmarker\", \"x\": 225.0, \"y\": 325.0}, \"8\": {\"node_type\": \"multimarker\", \"x\": 225.0, \"y\": 345.0}, \"9\": {\"node_type\": \"metabolite\", \"x\": 150.0, \"y\": 1200.0, \"label_x\": 160.0, \"label_y\": 1230.0, \"bigg_id\": \"CPD_19477_p\", \"name\": \"CPD_19477_p\", \"node_is_primary\": false}, \"10\": {\"node_type\": \"metabolite\", \"x\": 300.0, \"y\": 1200.0, \"label_x\": 310.0, \"label_y\": 1230.0, \"bigg_id\": \"WATER_p\", \"name\": \"WATER_p\", \"node_is_primary\": false}, \"11\": {\"node_type\": \"multimarker\", \"x\": 225.0, \"y\": 955.0}, \"12\": {\"node_type\": \"midmarker\", \"x\": 225.0, \"y\": 975.0}, \"13\": {\"node_type\": \"multimarker\", \"x\": 225.0, \"y\": 995.0}, \"14\": {\"node_type\": \"metabolite\", \"x\": 225.0, \"y\": 1850.0, \"label_x\": 235.0, \"label_y\": 1880.0, \"bigg_id\": \"CPDQT_36_p\", \"name\": \"CPDQT_36_p\", \"node_is_primary\": false}, \"15\": {\"node_type\": \"multimarker\", \"x\": 225.0, \"y\": 1605.0}, \"16\": {\"node_type\": \"midmarker\", \"x\": 225.0, \"y\": 1625.0}, \"17\": {\"node_type\": \"multimarker\", \"x\": 225.0, \"y\": 1645.0}, \"18\": {\"node_type\": \"metabolite\", \"x\": 300.0, \"y\": 1980.0, \"label_x\": 310.0, \"label_y\": 1970.0, \"bigg_id\": \"NAD_p\", \"name\": \"NAD_p\", \"node_is_primary\": false}, \"19\": {\"node_type\": \"metabolite\", \"x\": 112.5, \"y\": 2500.0, \"label_x\": 122.5, \"label_y\": 2530.0, \"bigg_id\": \"CPD_19491_p\", \"name\": \"CPD_19491_p\", \"node_is_primary\": false}, \"20\": {\"node_type\": \"metabolite\", \"x\": 225.0, \"y\": 2500.0, \"label_x\": 235.0, \"label_y\": 2530.0, \"bigg_id\": \"NADH_p\", \"name\": \"NADH_p\", \"node_is_primary\": false}, \"21\": {\"node_type\": \"metabolite\", \"x\": 337.5, \"y\": 2500.0, \"label_x\": 347.5, \"label_y\": 2530.0, \"bigg_id\": \"PROTON_p\", \"name\": \"PROTON_p\", \"node_is_primary\": false}, \"22\": {\"node_type\": \"multimarker\", \"x\": 225.0, \"y\": 2255.0}, \"23\": {\"node_type\": \"midmarker\", \"x\": 225.0, \"y\": 2275.0}, \"24\": {\"node_type\": \"multimarker\", \"x\": 225.0, \"y\": 2295.0}, \"25\": {\"node_type\": \"metabolite\", \"x\": 150.0, \"y\": 3150.0, \"label_x\": 160.0, \"label_y\": 3180.0, \"bigg_id\": \"CARBON_DIOXIDE_p\", \"name\": \"CARBON_DIOXIDE_p\", \"node_is_primary\": false}, \"26\": {\"node_type\": \"metabolite\", \"x\": 300.0, \"y\": 3150.0, \"label_x\": 310.0, \"label_y\": 3180.0, \"bigg_id\": \"CPDQT_27_p\", \"name\": \"CPDQT_27_p\", \"node_is_primary\": false}, \"27\": {\"node_type\": \"multimarker\", \"x\": 225.0, \"y\": 2905.0}, \"28\": {\"node_type\": \"midmarker\", \"x\": 225.0, \"y\": 2925.0}, \"29\": {\"node_type\": \"multimarker\", \"x\": 225.0, \"y\": 2945.0}, \"30\": {\"node_type\": \"metabolite\", \"x\": 300.0, \"y\": 3280.0, \"label_x\": 310.0, \"label_y\": 3270.0, \"bigg_id\": \"GLT_p\", \"name\": \"GLT_p\", \"node_is_primary\": false}, \"31\": {\"node_type\": \"metabolite\", \"x\": 150.0, \"y\": 3800.0, \"label_x\": 160.0, \"label_y\": 3830.0, \"bigg_id\": \"2_KETOGLUTARATE_p\", \"name\": \"2_KETOGLUTARATE_p\", \"node_is_primary\": false}, \"32\": {\"node_type\": \"metabolite\", \"x\": 300.0, \"y\": 3800.0, \"label_x\": 310.0, \"label_y\": 3830.0, \"bigg_id\": \"CPDQT_340_p\", \"name\": \"CPDQT_340_p\", \"node_is_primary\": false}, \"33\": {\"node_type\": \"multimarker\", \"x\": 225.0, \"y\": 3555.0}, \"34\": {\"node_type\": \"midmarker\", \"x\": 225.0, \"y\": 3575.0}, \"35\": {\"node_type\": \"multimarker\", \"x\": 225.0, \"y\": 3595.0}}, \"text_labels\": {}, \"canvas\": {\"x\": 0, \"y\": 0, \"width\": 450, \"height\": 3900}}]",
       "_loaded_model_json": null,
       "allow_building_duplicate_reactions": false,
       "and_method_in_gene_reaction_rule": "mean",
       "canvas_size_and_loc": null,
       "cofactors": [
        "atp",
        "adp",
        "nad",
        "nadh",
        "nadp",
        "nadph",
        "gtp",
        "gdp",
        "h",
        "coa",
        "ump",
        "h2o",
        "ppi"
       ],
       "disabled_buttons": [
        "Clear reaction data",
        "Clear gene data",
        "Clear metabolite data"
       ],
       "embedded_css": null,
       "enable_editing": true,
       "enable_keys": false,
       "enable_keys_with_tooltip": true,
       "enable_search": true,
       "enable_tooltips": false,
       "full_screen_button": {
        "enable_editing": true,
        "enable_keys": true,
        "enable_tooltips": [
         "label"
        ],
        "menu": "all",
        "scroll_behavior": "pan"
       },
       "gene_data": null,
       "gene_font_size": 18,
       "height": 500,
       "hide_all_labels": false,
       "hide_secondary_metabolites": false,
       "highlight_missing": false,
       "identifiers_on_map": "bigg_id",
       "layout": "IPY_MODEL_b3d4bd991c3a423a8ed09066b00c9ce9",
       "marker_radius": 5,
       "menu": "all",
       "metabolite_compare_style": "log2_fold",
       "metabolite_data": null,
       "metabolite_no_data_color": "#ffffff",
       "metabolite_no_data_size": 10,
       "metabolite_scale": [
        {
         "color": "#fffaf0",
         "size": 20,
         "type": "min"
        },
        {
         "color": "#f1c470",
         "size": 30,
         "type": "median"
        },
        {
         "color": "#800000",
         "size": 40,
         "type": "max"
        }
       ],
       "metabolite_scale_preset": "WhYlRd",
       "metabolite_styles": [
        "color",
        "size",
        "text"
       ],
       "never_ask_before_quit": false,
       "primary_metabolite_radius": 20,
       "reaction_compare_style": "log2_fold",
       "reaction_data": null,
       "reaction_no_data_color": "#dcdcdc",
       "reaction_no_data_size": 8,
       "reaction_scale": [
        {
         "color": "rgb(220,220,220)",
         "type": "value",
         "value": 0
        }
       ],
       "reaction_scale_preset": null,
       "reaction_styles": [
        "color",
        "text"
       ],
       "scroll_behavior": "none",
       "secondary_metabolite_radius": 10,
       "semantic_zoom": null,
       "show_gene_reaction_rules": false,
       "starting_reaction": null,
       "use_3d_transform": false,
       "zoom_to_element": null
      }
     },
     "ef2accbb302e4154bcf2b2f0da760308": {
      "model_module": "@jupyter-widgets/base",
      "model_module_version": "1.2.0",
      "model_name": "LayoutModel",
      "state": {}
     },
     "f9518d9802b14b29b9a340f4092d4a90": {
      "model_module": "escher",
      "model_module_version": "1.7.3",
      "model_name": "EscherMapModel",
      "state": {
       "_loaded_map_json": "[{\"map_name\": \"\", \"map_id\": \"\", \"map_description\": \"\", \"homepage\": \"\", \"schema\": \"https://escher.github.io/escher/jsonschema/1-0-0#\"}, {\"reactions\": {\"0\": {\"name\": \"RXN_2202_p\", \"bigg_id\": \"RXN_2202_p\", \"reversibility\": true, \"label_x\": 235.0, \"label_y\": 45.0, \"gene_reaction_rule\": \"\", \"genes\": [], \"segments\": {\"0\": {\"from_node_id\": \"6\", \"to_node_id\": \"7\", \"b1\": null, \"b2\": null}, \"1\": {\"from_node_id\": \"8\", \"to_node_id\": \"7\", \"b1\": null, \"b2\": null}, \"2\": {\"from_node_id\": \"0\", \"to_node_id\": \"6\", \"b1\": null, \"b2\": null}, \"3\": {\"from_node_id\": \"1\", \"to_node_id\": \"6\", \"b1\": null, \"b2\": null}, \"4\": {\"from_node_id\": \"2\", \"to_node_id\": \"6\", \"b1\": null, \"b2\": null}, \"5\": {\"from_node_id\": \"3\", \"to_node_id\": \"8\", \"b1\": null, \"b2\": null}, \"6\": {\"from_node_id\": \"4\", \"to_node_id\": \"8\", \"b1\": null, \"b2\": null}, \"7\": {\"from_node_id\": \"5\", \"to_node_id\": \"8\", \"b1\": null, \"b2\": null}}, \"metabolites\": [{\"bigg_id\": \"ACETYL_COA_p\", \"coefficient\": -1.0}, {\"bigg_id\": \"CPD_479_p\", \"coefficient\": -1.0}, {\"bigg_id\": \"WATER_p\", \"coefficient\": -1.0}, {\"bigg_id\": \"2_2_METHYLTHIOETHYLMALIC_ACID_p\", \"coefficient\": 1.0}, {\"bigg_id\": \"CO_A_p\", \"coefficient\": 1.0}, {\"bigg_id\": \"PROTON_p\", \"coefficient\": 1.0}]}, \"1\": {\"name\": \"RXN_18182_p\", \"bigg_id\": \"RXN_18182_p\", \"reversibility\": true, \"label_x\": 876.0, \"label_y\": 45.0, \"gene_reaction_rule\": \"\", \"genes\": [], \"segments\": {\"8\": {\"from_node_id\": \"11\", \"to_node_id\": \"12\", \"b1\": null, \"b2\": null}, \"9\": {\"from_node_id\": \"13\", \"to_node_id\": \"12\", \"b1\": null, \"b2\": null}, \"10\": {\"from_node_id\": \"3\", \"to_node_id\": \"11\", \"b1\": null, \"b2\": null}, \"11\": {\"from_node_id\": \"9\", \"to_node_id\": \"13\", \"b1\": null, \"b2\": null}, \"12\": {\"from_node_id\": \"10\", \"to_node_id\": \"13\", \"b1\": null, \"b2\": null}}, \"metabolites\": [{\"bigg_id\": \"2_2_METHYLTHIOETHYLMALIC_ACID_p\", \"coefficient\": -1.0}, {\"bigg_id\": \"CPD_19476_p\", \"coefficient\": 1.0}, {\"bigg_id\": \"WATER_p\", \"coefficient\": 1.0}]}, \"2\": {\"name\": \"RXN_18183_p\", \"bigg_id\": \"RXN_18183_p\", \"reversibility\": true, \"label_x\": 1526.0, \"label_y\": 45.0, \"gene_reaction_rule\": \"\", \"genes\": [], \"segments\": {\"13\": {\"from_node_id\": \"15\", \"to_node_id\": \"16\", \"b1\": null, \"b2\": null}, \"14\": {\"from_node_id\": \"17\", \"to_node_id\": \"16\", \"b1\": null, \"b2\": null}, \"15\": {\"from_node_id\": \"9\", \"to_node_id\": \"15\", \"b1\": null, \"b2\": null}, \"16\": {\"from_node_id\": \"10\", \"to_node_id\": \"15\", \"b1\": null, \"b2\": null}, \"17\": {\"from_node_id\": \"14\", \"to_node_id\": \"17\", \"b1\": null, \"b2\": null}}, \"metabolites\": [{\"bigg_id\": \"CPD_19476_p\", \"coefficient\": -1.0}, {\"bigg_id\": \"WATER_p\", \"coefficient\": -1.0}, {\"bigg_id\": \"3_2_METHYLTHIOETHYLMALIC_ACID_p\", \"coefficient\": 1.0}]}, \"3\": {\"name\": \"RXN_2204_p\", \"bigg_id\": \"RXN_2204_p\", \"reversibility\": true, \"label_x\": 2185.0, \"label_y\": 45.0, \"gene_reaction_rule\": \"\", \"genes\": [], \"segments\": {\"18\": {\"from_node_id\": \"22\", \"to_node_id\": \"23\", \"b1\": null, \"b2\": null}, \"19\": {\"from_node_id\": \"24\", \"to_node_id\": \"23\", \"b1\": null, \"b2\": null}, \"20\": {\"from_node_id\": \"14\", \"to_node_id\": \"22\", \"b1\": null, \"b2\": null}, \"21\": {\"from_node_id\": \"18\", \"to_node_id\": \"22\", \"b1\": null, \"b2\": null}, \"22\": {\"from_node_id\": \"19\", \"to_node_id\": \"24\", \"b1\": null, \"b2\": null}, \"23\": {\"from_node_id\": \"20\", \"to_node_id\": \"24\", \"b1\": null, \"b2\": null}, \"24\": {\"from_node_id\": \"21\", \"to_node_id\": \"24\", \"b1\": null, \"b2\": null}}, \"metabolites\": [{\"bigg_id\": \"3_2_METHYLTHIOETHYLMALIC_ACID_p\", \"coefficient\": -1.0}, {\"bigg_id\": \"NAD_p\", \"coefficient\": -1.0}, {\"bigg_id\": \"CPD_19486_p\", \"coefficient\": 1.0}, {\"bigg_id\": \"NADH_p\", \"coefficient\": 1.0}, {\"bigg_id\": \"PROTON_p\", \"coefficient\": 1.0}]}, \"4\": {\"name\": \"RXN_18198_p\", \"bigg_id\": \"RXN_18198_p\", \"reversibility\": true, \"label_x\": 2826.0, \"label_y\": 45.0, \"gene_reaction_rule\": \"\", \"genes\": [], \"segments\": {\"25\": {\"from_node_id\": \"27\", \"to_node_id\": \"28\", \"b1\": null, \"b2\": null}, \"26\": {\"from_node_id\": \"29\", \"to_node_id\": \"28\", \"b1\": null, \"b2\": null}, \"27\": {\"from_node_id\": \"19\", \"to_node_id\": \"27\", \"b1\": null, \"b2\": null}, \"28\": {\"from_node_id\": \"21\", \"to_node_id\": \"27\", \"b1\": null, \"b2\": null}, \"29\": {\"from_node_id\": \"25\", \"to_node_id\": \"29\", \"b1\": null, \"b2\": null}, \"30\": {\"from_node_id\": \"26\", \"to_node_id\": \"29\", \"b1\": null, \"b2\": null}}, \"metabolites\": [{\"bigg_id\": \"CPD_19486_p\", \"coefficient\": -1.0}, {\"bigg_id\": \"PROTON_p\", \"coefficient\": -1.0}, {\"bigg_id\": \"2_OXO_5_METHYLTHIOPENTANOIC_ACID_p\", \"coefficient\": 1.0}, {\"bigg_id\": \"CARBON_DIOXIDE_p\", \"coefficient\": 1.0}]}, \"5\": {\"name\": \"RXN_2205_p\", \"bigg_id\": \"RXN_2205_p\", \"reversibility\": true, \"label_x\": 3485.0, \"label_y\": 45.0, \"gene_reaction_rule\": \"\", \"genes\": [], \"segments\": {\"31\": {\"from_node_id\": \"33\", \"to_node_id\": \"34\", \"b1\": null, \"b2\": null}, \"32\": {\"from_node_id\": \"35\", \"to_node_id\": \"34\", \"b1\": null, \"b2\": null}, \"33\": {\"from_node_id\": \"25\", \"to_node_id\": \"33\", \"b1\": null, \"b2\": null}, \"34\": {\"from_node_id\": \"30\", \"to_node_id\": \"33\", \"b1\": null, \"b2\": null}, \"35\": {\"from_node_id\": \"31\", \"to_node_id\": \"35\", \"b1\": null, \"b2\": null}, \"36\": {\"from_node_id\": \"32\", \"to_node_id\": \"35\", \"b1\": null, \"b2\": null}}, \"metabolites\": [{\"bigg_id\": \"2_OXO_5_METHYLTHIOPENTANOIC_ACID_p\", \"coefficient\": -1.0}, {\"bigg_id\": \"GLT_p\", \"coefficient\": -1.0}, {\"bigg_id\": \"2_KETOGLUTARATE_p\", \"coefficient\": 1.0}, {\"bigg_id\": \"HOMOMETHIONINE_p\", \"coefficient\": 1.0}]}}, \"nodes\": {\"0\": {\"node_type\": \"metabolite\", \"x\": 30.0, \"y\": 112.5, \"label_x\": 0.0, \"label_y\": 92.5, \"bigg_id\": \"ACETYL_COA_p\", \"name\": \"ACETYL_COA_p\", \"node_is_primary\": false}, \"1\": {\"node_type\": \"metabolite\", \"x\": 30.0, \"y\": 225.0, \"label_x\": 0.0, \"label_y\": 205.0, \"bigg_id\": \"CPD_479_p\", \"name\": \"CPD_479_p\", \"node_is_primary\": false}, \"2\": {\"node_type\": \"metabolite\", \"x\": 30.0, \"y\": 337.5, \"label_x\": 0.0, \"label_y\": 317.5, \"bigg_id\": \"WATER_p\", \"name\": \"WATER_p\", \"node_is_primary\": false}, \"3\": {\"node_type\": \"metabolite\", \"x\": 550.0, \"y\": 112.5, \"label_x\": 520.0, \"label_y\": 92.5, \"bigg_id\": \"2_2_METHYLTHIOETHYLMALIC_ACID_p\", \"name\": \"2_2_METHYLTHIOETHYLMALIC_ACID_p\", \"node_is_primary\": false}, \"4\": {\"node_type\": \"metabolite\", \"x\": 550.0, \"y\": 225.0, \"label_x\": 520.0, \"label_y\": 205.0, \"bigg_id\": \"CO_A_p\", \"name\": \"CO_A_p\", \"node_is_primary\": false}, \"5\": {\"node_type\": \"metabolite\", \"x\": 550.0, \"y\": 337.5, \"label_x\": 520.0, \"label_y\": 317.5, \"bigg_id\": \"PROTON_p\", \"name\": \"PROTON_p\", \"node_is_primary\": false}, \"6\": {\"node_type\": \"multimarker\", \"x\": 335.0, \"y\": 225.0}, \"7\": {\"node_type\": \"midmarker\", \"x\": 355.0, \"y\": 225.0}, \"8\": {\"node_type\": \"multimarker\", \"x\": 375.0, \"y\": 225.0}, \"9\": {\"node_type\": \"metabolite\", \"x\": 1200.0, \"y\": 150.0, \"label_x\": 1170.0, \"label_y\": 130.0, \"bigg_id\": \"CPD_19476_p\", \"name\": \"CPD_19476_p\", \"node_is_primary\": false}, \"10\": {\"node_type\": \"metabolite\", \"x\": 1200.0, \"y\": 300.0, \"label_x\": 1170.0, \"label_y\": 280.0, \"bigg_id\": \"WATER_p\", \"name\": \"WATER_p\", \"node_is_primary\": false}, \"11\": {\"node_type\": \"multimarker\", \"x\": 985.0, \"y\": 225.0}, \"12\": {\"node_type\": \"midmarker\", \"x\": 1005.0, \"y\": 225.0}, \"13\": {\"node_type\": \"multimarker\", \"x\": 1025.0, \"y\": 225.0}, \"14\": {\"node_type\": \"metabolite\", \"x\": 1850.0, \"y\": 225.0, \"label_x\": 1820.0, \"label_y\": 205.0, \"bigg_id\": \"3_2_METHYLTHIOETHYLMALIC_ACID_p\", \"name\": \"3_2_METHYLTHIOETHYLMALIC_ACID_p\", \"node_is_primary\": false}, \"15\": {\"node_type\": \"multimarker\", \"x\": 1635.0, \"y\": 225.0}, \"16\": {\"node_type\": \"midmarker\", \"x\": 1655.0, \"y\": 225.0}, \"17\": {\"node_type\": \"multimarker\", \"x\": 1675.0, \"y\": 225.0}, \"18\": {\"node_type\": \"metabolite\", \"x\": 1980.0, \"y\": 300.0, \"label_x\": 1950.0, \"label_y\": 280.0, \"bigg_id\": \"NAD_p\", \"name\": \"NAD_p\", \"node_is_primary\": false}, \"19\": {\"node_type\": \"metabolite\", \"x\": 2500.0, \"y\": 112.5, \"label_x\": 2470.0, \"label_y\": 92.5, \"bigg_id\": \"CPD_19486_p\", \"name\": \"CPD_19486_p\", \"node_is_primary\": false}, \"20\": {\"node_type\": \"metabolite\", \"x\": 2500.0, \"y\": 225.0, \"label_x\": 2470.0, \"label_y\": 205.0, \"bigg_id\": \"NADH_p\", \"name\": \"NADH_p\", \"node_is_primary\": false}, \"21\": {\"node_type\": \"metabolite\", \"x\": 2500.0, \"y\": 337.5, \"label_x\": 2470.0, \"label_y\": 317.5, \"bigg_id\": \"PROTON_p\", \"name\": \"PROTON_p\", \"node_is_primary\": false}, \"22\": {\"node_type\": \"multimarker\", \"x\": 2285.0, \"y\": 225.0}, \"23\": {\"node_type\": \"midmarker\", \"x\": 2305.0, \"y\": 225.0}, \"24\": {\"node_type\": \"multimarker\", \"x\": 2325.0, \"y\": 225.0}, \"25\": {\"node_type\": \"metabolite\", \"x\": 3150.0, \"y\": 150.0, \"label_x\": 3120.0, \"label_y\": 130.0, \"bigg_id\": \"2_OXO_5_METHYLTHIOPENTANOIC_ACID_p\", \"name\": \"2_OXO_5_METHYLTHIOPENTANOIC_ACID_p\", \"node_is_primary\": false}, \"26\": {\"node_type\": \"metabolite\", \"x\": 3150.0, \"y\": 300.0, \"label_x\": 3120.0, \"label_y\": 280.0, \"bigg_id\": \"CARBON_DIOXIDE_p\", \"name\": \"CARBON_DIOXIDE_p\", \"node_is_primary\": false}, \"27\": {\"node_type\": \"multimarker\", \"x\": 2935.0, \"y\": 225.0}, \"28\": {\"node_type\": \"midmarker\", \"x\": 2955.0, \"y\": 225.0}, \"29\": {\"node_type\": \"multimarker\", \"x\": 2975.0, \"y\": 225.0}, \"30\": {\"node_type\": \"metabolite\", \"x\": 3280.0, \"y\": 300.0, \"label_x\": 3250.0, \"label_y\": 280.0, \"bigg_id\": \"GLT_p\", \"name\": \"GLT_p\", \"node_is_primary\": false}, \"31\": {\"node_type\": \"metabolite\", \"x\": 3800.0, \"y\": 150.0, \"label_x\": 3770.0, \"label_y\": 130.0, \"bigg_id\": \"2_KETOGLUTARATE_p\", \"name\": \"2_KETOGLUTARATE_p\", \"node_is_primary\": false}, \"32\": {\"node_type\": \"metabolite\", \"x\": 3800.0, \"y\": 300.0, \"label_x\": 3770.0, \"label_y\": 280.0, \"bigg_id\": \"HOMOMETHIONINE_p\", \"name\": \"HOMOMETHIONINE_p\", \"node_is_primary\": false}, \"33\": {\"node_type\": \"multimarker\", \"x\": 3585.0, \"y\": 225.0}, \"34\": {\"node_type\": \"midmarker\", \"x\": 3605.0, \"y\": 225.0}, \"35\": {\"node_type\": \"multimarker\", \"x\": 3625.0, \"y\": 225.0}}, \"text_labels\": {}, \"canvas\": {\"x\": 0, \"y\": 0, \"width\": 3900, \"height\": 450}}]",
       "_loaded_model_json": null,
       "allow_building_duplicate_reactions": false,
       "and_method_in_gene_reaction_rule": "mean",
       "canvas_size_and_loc": null,
       "cofactors": [
        "atp",
        "adp",
        "nad",
        "nadh",
        "nadp",
        "nadph",
        "gtp",
        "gdp",
        "h",
        "coa",
        "ump",
        "h2o",
        "ppi"
       ],
       "disabled_buttons": [
        "Clear reaction data",
        "Clear gene data",
        "Clear metabolite data"
       ],
       "embedded_css": null,
       "enable_editing": true,
       "enable_keys": false,
       "enable_keys_with_tooltip": true,
       "enable_search": true,
       "enable_tooltips": false,
       "full_screen_button": {
        "enable_editing": true,
        "enable_keys": true,
        "enable_tooltips": [
         "label"
        ],
        "menu": "all",
        "scroll_behavior": "pan"
       },
       "gene_data": null,
       "gene_font_size": 18,
       "height": 500,
       "hide_all_labels": false,
       "hide_secondary_metabolites": false,
       "highlight_missing": false,
       "identifiers_on_map": "bigg_id",
       "layout": "IPY_MODEL_963f3ee42afe4bb796739d19f5129c4b",
       "marker_radius": 5,
       "menu": "all",
       "metabolite_compare_style": "log2_fold",
       "metabolite_data": null,
       "metabolite_no_data_color": "#ffffff",
       "metabolite_no_data_size": 10,
       "metabolite_scale": [
        {
         "color": "#fffaf0",
         "size": 20,
         "type": "min"
        },
        {
         "color": "#f1c470",
         "size": 30,
         "type": "median"
        },
        {
         "color": "#800000",
         "size": 40,
         "type": "max"
        }
       ],
       "metabolite_scale_preset": "WhYlRd",
       "metabolite_styles": [
        "color",
        "size",
        "text"
       ],
       "never_ask_before_quit": false,
       "primary_metabolite_radius": 20,
       "reaction_compare_style": "log2_fold",
       "reaction_data": null,
       "reaction_no_data_color": "#dcdcdc",
       "reaction_no_data_size": 8,
       "reaction_scale": {},
       "reaction_scale_preset": null,
       "reaction_styles": [
        "color",
        "text"
       ],
       "scroll_behavior": "none",
       "secondary_metabolite_radius": 10,
       "semantic_zoom": null,
       "show_gene_reaction_rules": false,
       "starting_reaction": null,
       "use_3d_transform": false,
       "zoom_to_element": null
      }
     },
     "fbc211ad498847fbad188ac080a981f9": {
      "model_module": "@jupyter-widgets/base",
      "model_module_version": "1.2.0",
      "model_name": "LayoutModel",
      "state": {}
     },
     "fe266d440c534fc09ca111c46f62871a": {
      "model_module": "@jupyter-widgets/base",
      "model_module_version": "1.2.0",
      "model_name": "LayoutModel",
      "state": {}
     }
    },
    "version_major": 2,
    "version_minor": 0
   }
  }
 },
 "nbformat": 4,
 "nbformat_minor": 1
}
