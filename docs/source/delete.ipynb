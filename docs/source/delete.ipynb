{
 "cells": [
  {
   "cell_type": "markdown",
   "id": "e91e65cc",
   "metadata": {
    "id": "e91e65cc"
   },
   "source": [
    "# Removing elements using COBRApy"
   ]
  },
  {
   "cell_type": "markdown",
   "id": "9f3c76d0",
   "metadata": {
    "id": "9f3c76d0"
   },
   "source": [
    "## Removal of reactions/metabolites\n",
    "\n",
    "In the following example we show how individual reactions or metabolites can be removed from the model based on their ID. More information about the function `remove_reactions` can be found [here](https://cobrapy.readthedocs.io/en/latest/autoapi/cobra/core/index.html?highlight=remove%20pathway#cobra.core.Model.remove_reactions) and for function `remove_metabolites` [here](https://cobrapy.readthedocs.io/en/latest/autoapi/cobra/core/index.html?highlight=remove%20pathway#cobra.core.Model.remove_metabolites).\n",
    "\n",
    "For demonstration purposes we add a reaction. The metabolites in this reactions\n",
    "are also added to the model."
   ]
  },
  {
   "cell_type": "code",
   "execution_count": 1,
   "id": "a67246c1",
   "metadata": {
    "colab": {
     "base_uri": "https://localhost:8080/",
     "height": 265
    },
    "id": "a67246c1",
    "outputId": "5b0afb2e-e9fe-4acf-b13d-1c101ab18d8a"
   },
   "outputs": [
    {
     "name": "stderr",
     "output_type": "stream",
     "text": [
      "/home/stefano/work/projects/cobramod/src/cobramod/parsing/kegg.py:226: UserWarning: Nothing was specified in argument \"genome\". Reaction \"R04382\" will not include genes. Please modify if necessary.\n",
      "  warn(message=msg, category=UserWarning)\n",
      "/home/stefano/work/projects/cobramod/src/cobramod/utils.py:311: UserWarning: Reaction \"R04382_c\" is already present in the model. Skipping additions.\n",
      "  warn(message=msg, category=UserWarning)\n"
     ]
    },
    {
     "data": {
      "text/html": [
       "\n",
       "        <table>\n",
       "            <tr>\n",
       "                <td><strong>Reaction identifier</strong></td><td>R04382_c</td>\n",
       "            </tr><tr>\n",
       "                <td><strong>Name</strong></td><td>4-(4-deoxy-alpha-D-galact-4-enuronosyl)-D-galacturonate lyase</td>\n",
       "            </tr><tr>\n",
       "                <td><strong>Memory address</strong></td>\n",
       "                <td>0x79d4883b6f50</td>\n",
       "            </tr><tr>\n",
       "                <td><strong>Stoichiometry</strong></td>\n",
       "                <td>\n",
       "                    <p style='text-align:right'>C06118_c <=> 2.0 C04053_c</p>\n",
       "                    <p style='text-align:right'>Unsaturated digalacturonate <=> 2.0 (4S,5R)-4,5-Dihydroxy-2,6-dioxohexanoate</p>\n",
       "                </td>\n",
       "            </tr><tr>\n",
       "                <td><strong>GPR</strong></td><td></td>\n",
       "            </tr><tr>\n",
       "                <td><strong>Lower bound</strong></td><td>-1000</td>\n",
       "            </tr><tr>\n",
       "                <td><strong>Upper bound</strong></td><td>1000</td>\n",
       "            </tr>\n",
       "        </table>\n",
       "        "
      ],
      "text/plain": [
       "<Reaction R04382_c at 0x79d4883b6f50>"
      ]
     },
     "execution_count": 1,
     "metadata": {},
     "output_type": "execute_result"
    }
   ],
   "source": [
    "from cobramod.test import textbook_kegg\n",
    "from cobramod import add_reactions\n",
    "from pathlib import Path\n",
    "\n",
    "\n",
    "test_model = textbook_kegg.copy()\n",
    "\n",
    "# Defining directory\n",
    "dir_data = Path.cwd().resolve().joinpath(\"memote-model-repository/data\")\n",
    "                                                           \n",
    "add_reactions(\n",
    "    model=test_model,\n",
    "    obj=[\"R04382, c\"],\n",
    "    database=\"KEGG\",\n",
    "    directory=dir_data,\n",
    ")\n",
    "test_model.reactions.get_by_id(\"R04382_c\")"
   ]
  },
  {
   "cell_type": "markdown",
   "id": "1bf508c2",
   "metadata": {
    "id": "1bf508c2"
   },
   "source": [
    "Here, the metabolite with ID \"C04053_c\" will be removed."
   ]
  },
  {
   "cell_type": "code",
   "execution_count": 2,
   "id": "864196fb",
   "metadata": {
    "id": "864196fb",
    "outputId": "96cc8e26-475d-4285-c340-75a499139926"
   },
   "outputs": [
    {
     "data": {
      "text/html": [
       "\n",
       "        <table>\n",
       "            <tr>\n",
       "                <td><strong>Metabolite identifier</strong></td><td>C04053_c</td>\n",
       "            </tr><tr>\n",
       "                <td><strong>Name</strong></td><td>(4S,5R)-4,5-Dihydroxy-2,6-dioxohexanoate</td>\n",
       "            </tr><tr>\n",
       "                <td><strong>Memory address</strong></td>\n",
       "                <td>0x79d488208730</td>\n",
       "            </tr><tr>\n",
       "                <td><strong>Formula</strong></td><td>C6H8O6</td>\n",
       "            </tr><tr>\n",
       "                <td><strong>Compartment</strong></td><td>c</td>\n",
       "            </tr><tr>\n",
       "                <td><strong>In 1 reaction(s)</strong></td><td>\n",
       "                    R04382_c\n",
       "                    </td>\n",
       "            </tr>\n",
       "        </table>"
      ],
      "text/plain": [
       "<Metabolite C04053_c at 0x79d488208730>"
      ]
     },
     "execution_count": 2,
     "metadata": {},
     "output_type": "execute_result"
    }
   ],
   "source": [
    "metabolite_to_be_removed = test_model.metabolites.get_by_id(\"C04053_c\")\n",
    "metabolite_to_be_removed"
   ]
  },
  {
   "cell_type": "code",
   "execution_count": 3,
   "id": "2e78c013",
   "metadata": {
    "id": "2e78c013",
    "outputId": "88aad778-28df-49f0-ed11-4c9f836d0cd6"
   },
   "outputs": [
    {
     "name": "stdout",
     "output_type": "stream",
     "text": [
      "Exception reporting mode: Minimal\n"
     ]
    },
    {
     "ename": "KeyError",
     "evalue": "'C04053_c'",
     "output_type": "error",
     "traceback": [
      "\u001b[0;31mKeyError\u001b[0m\u001b[0;31m:\u001b[0m 'C04053_c'\n"
     ]
    }
   ],
   "source": [
    "%xmode Minimal\n",
    "test_model.remove_metabolites([metabolite_to_be_removed])\n",
    "test_model.metabolites.get_by_id(\"C04053_c\")\n",
    "%xmode Context"
   ]
  },
  {
   "cell_type": "markdown",
   "id": "6c3b48af",
   "metadata": {
    "id": "6c3b48af"
   },
   "source": [
    "Now we remove a reaction. Please note that this reaction contained the previously removed metabolite, which is therefore now absent."
   ]
  },
  {
   "cell_type": "code",
   "execution_count": 4,
   "id": "43dc2d30",
   "metadata": {
    "id": "43dc2d30",
    "outputId": "3e887c5f-7beb-41b4-d16a-9b1dd6ad0a8c",
    "scrolled": true
   },
   "outputs": [
    {
     "data": {
      "text/html": [
       "\n",
       "        <table>\n",
       "            <tr>\n",
       "                <td><strong>Reaction identifier</strong></td><td>R04382_c</td>\n",
       "            </tr><tr>\n",
       "                <td><strong>Name</strong></td><td>4-(4-deoxy-alpha-D-galact-4-enuronosyl)-D-galacturonate lyase</td>\n",
       "            </tr><tr>\n",
       "                <td><strong>Memory address</strong></td>\n",
       "                <td>0x79d4883b6f50</td>\n",
       "            </tr><tr>\n",
       "                <td><strong>Stoichiometry</strong></td>\n",
       "                <td>\n",
       "                    <p style='text-align:right'>C06118_c <=></p>\n",
       "                    <p style='text-align:right'>Unsaturated digalacturonate <=></p>\n",
       "                </td>\n",
       "            </tr><tr>\n",
       "                <td><strong>GPR</strong></td><td></td>\n",
       "            </tr><tr>\n",
       "                <td><strong>Lower bound</strong></td><td>-1000</td>\n",
       "            </tr><tr>\n",
       "                <td><strong>Upper bound</strong></td><td>1000</td>\n",
       "            </tr>\n",
       "        </table>\n",
       "        "
      ],
      "text/plain": [
       "<Reaction R04382_c at 0x79d4883b6f50>"
      ]
     },
     "execution_count": 4,
     "metadata": {},
     "output_type": "execute_result"
    }
   ],
   "source": [
    "reactions_to_be_removed = test_model.reactions.get_by_id(\"R04382_c\")\n",
    "reactions_to_be_removed"
   ]
  },
  {
   "cell_type": "code",
   "execution_count": 5,
   "id": "c1a2b6f8",
   "metadata": {
    "id": "c1a2b6f8",
    "outputId": "143a6bf1-cbe6-426f-82f5-93704ccc222a"
   },
   "outputs": [
    {
     "name": "stdout",
     "output_type": "stream",
     "text": [
      "Exception reporting mode: Minimal\n"
     ]
    },
    {
     "ename": "KeyError",
     "evalue": "'R04382_c'",
     "output_type": "error",
     "traceback": [
      "\u001b[0;31mKeyError\u001b[0m\u001b[0;31m:\u001b[0m 'R04382_c'\n"
     ]
    }
   ],
   "source": [
    "%xmode Minimal\n",
    "test_model.remove_reactions([reactions_to_be_removed], remove_orphans=True)\n",
    "test_model.reactions.get_by_id(\"R04382_c\")\n",
    "%xmode Context"
   ]
  },
  {
   "cell_type": "markdown",
   "id": "2d0a2a91",
   "metadata": {
    "id": "2d0a2a91"
   },
   "source": [
    "## Removal of pathways/groups\n",
    "\n",
    "In the following example,  we show how individual reactions can be removed from the model using their ID. More information about the function `remove_reactions` can be found [here](https://cobrapy.readthedocs.io/en/latest/autoapi/cobra/core/index.html?highlight=remove%20pathway#cobra.core.Model.remove_reactions).\n",
    "\n",
    "> Please note that in Cobrapy reactions are defined as groups. Thus some of the functions in the following use the term 'group' instead of 'pathway'.\n",
    "\n",
    "For demonstration purposes, we add a pathway using CobraMod."
   ]
  },
  {
   "cell_type": "code",
   "execution_count": 6,
   "id": "2d106fee",
   "metadata": {
    "colab": {
     "base_uri": "https://localhost:8080/",
     "height": 651
    },
    "id": "2d106fee",
    "outputId": "7d42e371-ed9e-4617-8ab4-bf38d08daad0",
    "scrolled": false
   },
   "outputs": [
    {
     "name": "stdout",
     "output_type": "stream",
     "text": [
      "Number of reaction prior addition: 95\n",
      "Number of       new   | removed entities in\n",
      "*=====================|===================*\n",
      "Reactions        3    |    0              \n",
      "Metabolites      2    |    0              \n",
      "Exchange         0    |    0              \n",
      "Demand           0    |    0              \n",
      "Sinks            2    |    0              \n",
      "Genes           12    |    0              \n",
      "Groups           1    |    0              \n",
      "\n",
      "Number of reactions after addition: 100\n"
     ]
    },
    {
     "name": "stderr",
     "output_type": "stream",
     "text": [
      "/home/stefano/work/projects/cobramod/src/cobramod/core/extension.py:211: UserWarning: The model cannot turnover the following metabolites ['FORMATE_c']. To overcome this, sink reactions were created to simulate their synthesis.\n",
      "  warn(msg)\n",
      "/home/stefano/work/projects/cobramod/src/cobramod/utils.py:354: UserWarning: Auxiliary sink reaction for \"SK_HYDROGEN_MOLECULE_c\" created. Consider removing it and adding the synthesis reactions for the metabolite.\n",
      "  warn(message=msg, category=UserWarning)\n",
      "/home/stefano/work/projects/cobramod/src/cobramod/utils.py:354: UserWarning: Auxiliary sink reaction for \"SK_FORMATE_c\" created. Consider removing it and adding the synthesis reactions for the metabolite.\n",
      "  warn(message=msg, category=UserWarning)\n"
     ]
    },
    {
     "data": {
      "text/html": [
       "\n",
       "<table> <tbody> <tr> <td><strong>Pathway identifier</strong></td>\n",
       "<td>curated_pathway</td> </tr> <tr> <td><strong>Name</strong></td>\n",
       "<td></td> </tr> <tr> <td><strong>Memory address</strong></td>\n",
       "<td>0x0133953725624240</td> </tr> <tr> <td><strong>Reactions involved</strong></td>\n",
       "<td> <p>PYRUVFORMLY_RXN_c, FHLMULTI_RXN_c, PEPDEPHOS_RXN_c</p> </td> </tr> <tr>\n",
       "<td><strong>Genes involved<br /></strong></td> <td> <p>EG10701, G7627, EG11784, EG10479, EG10476, EG10477, EG10475, EG10478, EG10480, EG10285, EG10804, EG10803</p> </td> </tr> <tr>\n",
       "<td><strong>Visualization attributes</strong></td> <td> <ul> <li>vertical =\n",
       "False</li> <li>color_negative = None</li>\n",
       "<li>color_positive = None</li> <li>color_quantile =\n",
       "False</li> </ul> </td> </tr> </tbody> </table> <p>&nbsp;</p>"
      ],
      "text/plain": [
       "<Pathway curated_pathway at 0x79d4883b6fb0>"
      ]
     },
     "execution_count": 6,
     "metadata": {},
     "output_type": "execute_result"
    }
   ],
   "source": [
    "from pathlib import Path\n",
    "from cobramod import add_pathway\n",
    "from cobramod.test import textbook_biocyc\n",
    "# Defining directory\n",
    "dir_data = Path.cwd().resolve().joinpath(\"memote-model-repository/data\")\n",
    "\n",
    "test_model = textbook_biocyc.copy()\n",
    "# Defining database-specific identifiers\n",
    "sequence = [\"PEPDEPHOS-RXN\", \"PYRUVFORMLY-RXN\", \"FHLMULTI-RXN\"]\n",
    "                                                                \n",
    "print(f'Number of reaction prior addition: {len(test_model.reactions)}')\n",
    "                                                                \n",
    "add_pathway(\n",
    "    model=test_model,\n",
    "    pathway=sequence,\n",
    "    directory=dir_data,\n",
    "    database=\"ECOLI\",\n",
    "    compartment=\"c\",\n",
    "    group=\"curated_pathway\"\n",
    ")\n",
    "\n",
    "print(f'Number of reactions after addition: {len(test_model.reactions)}')\n",
    "# Display in jupyter\n",
    "test_model.groups.get_by_id(\"curated_pathway\")"
   ]
  },
  {
   "cell_type": "markdown",
   "id": "ca8d9393",
   "metadata": {
    "id": "ca8d9393"
   },
   "source": [
    "To remove a pathway completely, all of its members need to be removed first. Otherwise, they would remain in the model but would no longer be associated with the groups."
   ]
  },
  {
   "cell_type": "code",
   "execution_count": 7,
   "id": "c1fbaeb2",
   "metadata": {
    "id": "c1fbaeb2",
    "outputId": "1f601dce-59d5-49fa-8784-3cfab76f6ba8",
    "scrolled": true
   },
   "outputs": [
    {
     "data": {
      "text/html": [
       "\n",
       "<table> <tbody> <tr> <td><strong>Pathway identifier</strong></td>\n",
       "<td>curated_pathway</td> </tr> <tr> <td><strong>Name</strong></td>\n",
       "<td></td> </tr> <tr> <td><strong>Memory address</strong></td>\n",
       "<td>0x0133953725624240</td> </tr> <tr> <td><strong>Reactions involved</strong></td>\n",
       "<td> <p>PYRUVFORMLY_RXN_c, FHLMULTI_RXN_c, PEPDEPHOS_RXN_c</p> </td> </tr> <tr>\n",
       "<td><strong>Genes involved<br /></strong></td> <td> <p>EG10701, G7627, EG11784, EG10479, EG10476, EG10477, EG10475, EG10478, EG10480, EG10285, EG10804, EG10803</p> </td> </tr> <tr>\n",
       "<td><strong>Visualization attributes</strong></td> <td> <ul> <li>vertical =\n",
       "False</li> <li>color_negative = None</li>\n",
       "<li>color_positive = None</li> <li>color_quantile =\n",
       "False</li> </ul> </td> </tr> </tbody> </table> <p>&nbsp;</p>"
      ],
      "text/plain": [
       "<Pathway curated_pathway at 0x79d4883b6fb0>"
      ]
     },
     "execution_count": 7,
     "metadata": {},
     "output_type": "execute_result"
    }
   ],
   "source": [
    "test_model.groups.get_by_id(\"curated_pathway\")"
   ]
  },
  {
   "cell_type": "markdown",
   "id": "8c943e8d",
   "metadata": {
    "id": "8c943e8d"
   },
   "source": [
    "The now-empty group can be removed without further effort and without leaving any elements behind."
   ]
  },
  {
   "cell_type": "code",
   "execution_count": 8,
   "id": "beb055c2",
   "metadata": {
    "id": "beb055c2",
    "outputId": "526bc6e9-5b8c-4569-b676-5c1ee782d3be",
    "scrolled": true
   },
   "outputs": [
    {
     "name": "stdout",
     "output_type": "stream",
     "text": [
      "Exception reporting mode: Minimal\n"
     ]
    },
    {
     "ename": "NameError",
     "evalue": "name 'group_to_be_removed' is not defined",
     "output_type": "error",
     "traceback": [
      "\u001b[0;31mNameError\u001b[0m\u001b[0;31m:\u001b[0m name 'group_to_be_removed' is not defined\n"
     ]
    }
   ],
   "source": [
    "%xmode Minimal\n",
    "\n",
    "test_model.remove_groups([group_to_be_removed])\n",
    "test_model.groups.get_by_id(\"curated_pathway\")\n",
    "%xmode Context"
   ]
  }
 ],
 "metadata": {
  "colab": {
   "name": "delete.ipynb",
   "provenance": []
  },
  "kernelspec": {
   "display_name": "Python 3 (ipykernel)",
   "language": "python",
   "name": "python3"
  },
  "language_info": {
   "codemirror_mode": {
    "name": "ipython",
    "version": 3
   },
   "file_extension": ".py",
   "mimetype": "text/x-python",
   "name": "python",
   "nbconvert_exporter": "python",
   "pygments_lexer": "ipython3",
   "version": "3.10.13"
  }
 },
 "nbformat": 4,
 "nbformat_minor": 5
}
