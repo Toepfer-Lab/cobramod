{
 "cells": [
  {
   "cell_type": "markdown",
   "id": "2d50d540",
   "metadata": {},
   "source": [
    "#  Using the automatic cross-reference expansion"
   ]
  },
  {
   "cell_type": "markdown",
   "id": "413a4b2a",
   "metadata": {},
   "source": [
    "CobraMod contains a function `add_crossreferences` to automatically add missing cross-references to the metabolites and reactions of a model if those contain at least one valid identifier that can be recognised by MetanetX <cite data-cite=\"Moretti2020,Moretti2015,Ganter2013,Bernard2012\">MetaNetX Ref</cite>. These identifiers must either be the object ID or must be included in the object's annotations. By default, when using the function `add_pathway` CobraMod calls `add_crossreferences`, gathers available cross-references, and adds them to the respective object before adding them to the model. Additionally, `add_crossreferences` can be used with metabolites, reactions, and groups that are already in the model. This way reactions, metabolites, groups, and even entire models can be annotated with cross-references as demonstrated below."
   ]
  },
  {
   "cell_type": "markdown",
   "id": "a7b8574a",
   "metadata": {},
   "source": [
    "### The internal cross-referencing procedure \n",
    "\n",
    "Cross-references are retrieved using MetaNetX. The EC number (Enzyme Commission number) are produced using the 'reac_prop' file provided by MetaNetX. This file contains all reactions listed in MetanetX, the corresponding MetaNetX IDs, and their EC numbers. This file is downloaded and cached once per Python instance. MetaNetX.org contains cross-references for the following databases <cite data-cite=\"Moretti2020,Moretti2015,Ganter2013,Bernard2012\">MetaNetX Ref</cite>:"
   ]
  },
  {
   "cell_type": "markdown",
   "id": "e62a28c5",
   "metadata": {},
   "source": [
    "| Database | Metabolites | Reactions |\n",
    "| --- | --- | --- |\n",
    "| BIGG | x | x |\n",
    "| ChEBI | x | |\n",
    "| enviPath | x | |\n",
    "| HMDB | x |  |\n",
    "| KEGG | x | x |\n",
    "| LipidMaps | x | |\n",
    "| MetaCyc | x | x |\n",
    "| Reactome | x | |\n",
    "| Rhea | | x |\n",
    "| SABIO-RK | x | x |\n",
    "| SwissLipids | x | |\n",
    "| The SEED | x | x |"
   ]
  },
  {
   "cell_type": "markdown",
   "id": "fd543dbe",
   "metadata": {},
   "source": [
    "In addition to the references listed in the table, the InChI, the InChIKey and for reactions also the EC numbers are added for metabolites. MetaNetX is also used for this information. If a Metabolite contains an InChIKey, 'pubchem.compound' references are retrieved directly from PubChem <cite data-cite=\"Kim2020\">Kim2020 Ref</cite>. Additionally, Brenda <cite data-cite=\"Chang2020\">Brenda Ref</cite> identifiers are added for reactions that include EC numbers."
   ]
  },
  {
   "cell_type": "markdown",
   "id": "80ed79d6",
   "metadata": {},
   "source": [
    "### Caching\n",
    "\n",
    "To ensure reproducibility of the models and to accelerate the repetition of actions already performed, the cross-reference component of CobraMod has a built-in cache. During the search for missing cross-references, all results obtained get stored in the specified data directory in the XRef folder. Due to performance and compatibility reasons we use the Apache Arrow feather format for these files <cite data-cite=\"arrow\">arrow Ref</cite>. This avoids duplicate retrieval of references and provides a way to share all necessary files to reproduce the original achieved result.\n",
    "\n",
    "The disadvantage of such a cache is that locally stored references are not controlled and could potentially change on the servers. To obtain the latest cross-references the XRef folder can be deleted and CobraMod will create all necessary files and retrieve the newest cross-references."
   ]
  },
  {
   "cell_type": "markdown",
   "id": "8e3609c3",
   "metadata": {},
   "source": [
    "## Extending the annotations of different CobraPy objects.\n",
    "\n",
    "In the following, we first extend a metabolite and then a reaction with 'add_crossreferences'. Then the annotations of the default model provided by Memote are expanded."
   ]
  },
  {
   "cell_type": "markdown",
   "id": "d6aac3ae",
   "metadata": {},
   "source": [
    "### Metabolite"
   ]
  },
  {
   "cell_type": "markdown",
   "id": "81ef7169",
   "metadata": {},
   "source": [
    "First, we generate a metabolite that we want to annotate and look at its existing cross-references."
   ]
  },
  {
   "cell_type": "code",
   "execution_count": 12,
   "id": "de82f58d",
   "metadata": {
    "scrolled": true
   },
   "outputs": [
    {
     "name": "stdout",
     "output_type": "stream",
     "text": [
      "/home/jan/arbeit/memote_test/memote-model-repository_forXRef\n"
     ]
    },
    {
     "data": {
      "text/html": [
       "\n",
       "        <table>\n",
       "            <tr>\n",
       "                <td><strong>Metabolite identifier</strong></td><td>13dpg_c</td>\n",
       "            </tr><tr>\n",
       "                <td><strong>Name</strong></td><td>3-Phospho-D-glyceroyl phosphate</td>\n",
       "            </tr><tr>\n",
       "                <td><strong>Memory address</strong></td>\n",
       "                <td>0x07f1b40fe57d0</td>\n",
       "            </tr><tr>\n",
       "                <td><strong>Formula</strong></td><td>C3H4O10P2</td>\n",
       "            </tr><tr>\n",
       "                <td><strong>Compartment</strong></td><td>c</td>\n",
       "            </tr><tr>\n",
       "                <td><strong>In 2 reaction(s)</strong></td><td>\n",
       "                    PGK, GAPD</td>\n",
       "            </tr>\n",
       "        </table>"
      ],
      "text/plain": [
       "<Metabolite 13dpg_c at 0x7f1b40fe57d0>"
      ]
     },
     "execution_count": 12,
     "metadata": {},
     "output_type": "execute_result"
    }
   ],
   "source": [
    "from cobramod.test import textbook\n",
    "from cobramod.core.crossreferences import add_crossreferences\n",
    "\n",
    "directory = \"/home/jan/arbeit/memote_test/memote-model-repository_forXRef\"\n",
    "%cd $directory\n",
    "\n",
    "model = textbook.copy()\n",
    "metabolite = textbook.metabolites[0]\n",
    "metabolite"
   ]
  },
  {
   "cell_type": "code",
   "execution_count": 2,
   "id": "5585eca0",
   "metadata": {},
   "outputs": [
    {
     "data": {
      "text/plain": [
       "{'bigg.metabolite': '13dpg',\n",
       " 'biocyc': 'DPG',\n",
       " 'chebi': ['CHEBI:16001',\n",
       "  'CHEBI:1658',\n",
       "  'CHEBI:20189',\n",
       "  'CHEBI:57604',\n",
       "  'CHEBI:11881'],\n",
       " 'hmdb': 'HMDB01270',\n",
       " 'kegg.compound': 'C00236',\n",
       " 'pubchem.substance': '3535',\n",
       " 'reactome': 'REACT_29800',\n",
       " 'seed.compound': 'cpd00203',\n",
       " 'unipathway.compound': 'UPC00236'}"
      ]
     },
     "execution_count": 2,
     "metadata": {},
     "output_type": "execute_result"
    }
   ],
   "source": [
    "metabolite.annotation"
   ]
  },
  {
   "cell_type": "markdown",
   "id": "96d0a5b5",
   "metadata": {},
   "source": [
    "Now we execute the function 'add_crossreferences' and display the cross-references again. The argument 'consider_sub_elements' has no influence on the function at this point because unlike reactions and whole models, metabolites do not consist of further reactions or metabolites. The 'include_metanetx_specific_ec' argument specifies whether MetaNetX specific EC numbers should be included or not. Last but not least, the directory argument defines the location of the cache."
   ]
  },
  {
   "cell_type": "code",
   "execution_count": 3,
   "id": "5093e7cb",
   "metadata": {},
   "outputs": [],
   "source": [
    "add_crossreferences(metabolite,\n",
    "                    directory = directory + \"/data\",\n",
    "                    consider_sub_elements: bool = True,\n",
    "                    include_metanetx_specific_ec: bool = False,)"
   ]
  },
  {
   "cell_type": "code",
   "execution_count": 4,
   "id": "b6fedcf4",
   "metadata": {
    "scrolled": false
   },
   "outputs": [
    {
     "data": {
      "text/plain": [
       "{'bigg.metabolite': '13dpg',\n",
       " 'biocyc': 'DPG',\n",
       " 'chebi': ['CHEBI:89363',\n",
       "  'CHEBI:57604',\n",
       "  'CHEBI:1658',\n",
       "  'CHEBI:11881',\n",
       "  'CHEBI:16001',\n",
       "  'CHEBI:20189'],\n",
       " 'hmdb': ['HMDB0062758', 'HMDB01270', 'HMDB62758', 'HMDB0001270'],\n",
       " 'kegg.compound': 'C00236',\n",
       " 'pubchem.substance': '3535',\n",
       " 'reactome': ['REACT_29800', 'R-ALL-29800'],\n",
       " 'seed.compound': 'cpd00203',\n",
       " 'unipathway.compound': 'UPC00236',\n",
       " 'reactomem': 'R-ALL-29800',\n",
       " 'sabiork.compound': ['29', '21215'],\n",
       " 'biggm': ['M_13dpg', '13dpg'],\n",
       " 'sabiorkm': ['29', '21215'],\n",
       " 'keggc': ['M_C00236', 'C00236'],\n",
       " 'metacyc.compound': 'DPG',\n",
       " 'seedm': ['M_cpd00203', 'cpd00203'],\n",
       " 'inchikey': ['LJQLQCAXBUHEAZ-UHFFFAOYSA-N', 'LJQLQCAXBUHEAZ-UWTATZPHSA-J'],\n",
       " 'inchi': ['InChI=1S/C3H8O10P2/c4-2(1-12-14(6,7)8)3(5)13-15(9,10)11/h2,4H,1H2,(H2,6,7,8)(H2,9,10,11)',\n",
       "  'InChI=1S/C3H8O10P2/c4-2(1-12-14(6,7)8)3(5)13-15(9,10)11/h2,4H,1H2,(H2,6,7,8)(H2,9,10,11)/p-4/t2-/m1/s1'],\n",
       " 'metacycm': 'DPG',\n",
       " 'pubchem.compound': ['683', '46878409']}"
      ]
     },
     "execution_count": 4,
     "metadata": {},
     "output_type": "execute_result"
    }
   ],
   "source": [
    "metabolite.annotation"
   ]
  },
  {
   "cell_type": "markdown",
   "id": "73ac1f7e",
   "metadata": {},
   "source": [
    "### Reaction\n",
    "\n",
    "Here we repeat the procedure from before but this time we use a reaction instead of a metabolite."
   ]
  },
  {
   "cell_type": "code",
   "execution_count": 5,
   "id": "40c93b85",
   "metadata": {},
   "outputs": [
    {
     "data": {
      "text/html": [
       "\n",
       "        <table>\n",
       "            <tr>\n",
       "                <td><strong>Reaction identifier</strong></td><td>ACALD</td>\n",
       "            </tr><tr>\n",
       "                <td><strong>Name</strong></td><td>acetaldehyde dehydrogenase (acetylating)</td>\n",
       "            </tr><tr>\n",
       "                <td><strong>Memory address</strong></td>\n",
       "                <td>0x07f1b40d0ffd0</td>\n",
       "            </tr><tr>\n",
       "                <td><strong>Stoichiometry</strong></td>\n",
       "                <td>\n",
       "                    <p style='text-align:right'>acald_c + coa_c + nad_c <=> accoa_c + h_c + nadh_c</p>\n",
       "                    <p style='text-align:right'>Acetaldehyde + Coenzyme A + Nicotinamide adenine dinucleotide <=> Acetyl-CoA + H+ + Nicotinamide adenine dinucleotide - reduced</p>\n",
       "                </td>\n",
       "            </tr><tr>\n",
       "                <td><strong>GPR</strong></td><td>b0351 or b1241</td>\n",
       "            </tr><tr>\n",
       "                <td><strong>Lower bound</strong></td><td>-1000.0</td>\n",
       "            </tr><tr>\n",
       "                <td><strong>Upper bound</strong></td><td>1000.0</td>\n",
       "            </tr>\n",
       "        </table>\n",
       "        "
      ],
      "text/plain": [
       "<Reaction ACALD at 0x7f1b40d0ffd0>"
      ]
     },
     "execution_count": 5,
     "metadata": {},
     "output_type": "execute_result"
    }
   ],
   "source": [
    "reaction = model.reactions[0]\n",
    "reaction"
   ]
  },
  {
   "cell_type": "code",
   "execution_count": 6,
   "id": "2ab53223",
   "metadata": {
    "scrolled": true
   },
   "outputs": [
    {
     "data": {
      "text/plain": [
       "{'bigg.reaction': 'ACALD'}"
      ]
     },
     "execution_count": 6,
     "metadata": {},
     "output_type": "execute_result"
    }
   ],
   "source": [
    "reaction.annotation"
   ]
  },
  {
   "cell_type": "markdown",
   "id": "b9c42f14",
   "metadata": {},
   "source": [
    "This time the argument 'consider_sub_elements' would influence the function since this determines whether the annotations of the metabolites of this reaction should also be expanded."
   ]
  },
  {
   "cell_type": "code",
   "execution_count": 7,
   "id": "3cd15fba",
   "metadata": {},
   "outputs": [
    {
     "data": {
      "text/plain": [
       "{'bigg.reaction': ['ACALDh', 'R_ACALDh', 'R_ACALD', 'ACALD'],\n",
       " 'rhea': ['23288', '23289', '23290', '23291'],\n",
       " 'biggr': ['ACALDh', 'R_ACALD', 'R_ACALDh', 'ACALD'],\n",
       " 'seedr': ['rxn32711', 'rxn27656', 'rxn00171', 'rxn32710'],\n",
       " 'sabiorkr': '163',\n",
       " 'sabiork.reaction': '163',\n",
       " 'metacyc.reaction': 'ACETALD-DEHYDROG-RXN',\n",
       " 'kegg.reaction': 'R00228',\n",
       " 'metacycr': 'ACETALD-DEHYDROG-RXN',\n",
       " 'rhear': ['23288', '23289', '23290', '23291'],\n",
       " 'seed.reaction': ['rxn32711', 'rxn27656', 'rxn00171', 'rxn32710'],\n",
       " 'keggr': 'R00228'}"
      ]
     },
     "execution_count": 7,
     "metadata": {},
     "output_type": "execute_result"
    }
   ],
   "source": [
    "add_crossreferences(reaction,\n",
    "                    directory = directory + \"/data\",\n",
    "                    consider_sub_elements: bool = True,\n",
    "                    include_metanetx_specific_ec: bool = False,)\n",
    "reaction.annotation"
   ]
  },
  {
   "cell_type": "markdown",
   "id": "374dfd79",
   "metadata": {},
   "source": [
    "### Model"
   ]
  },
  {
   "cell_type": "code",
   "execution_count": 21,
   "id": "f585f424",
   "metadata": {},
   "outputs": [
    {
     "name": "stdout",
     "output_type": "stream",
     "text": [
      "/home/jan/arbeit/memote_test/memote-model-repository_forXRef\n"
     ]
    }
   ],
   "source": [
    "directory = \"/home/jan/arbeit/memote_test/memote-model-repository_forXRef\"\n",
    "%cd $directory\n",
    "\n",
    "from cobra.io import write_sbml_model, validate_sbml_model\n",
    "from cobramod.core.crossreferences import add_crossreferences\n",
    "\n",
    "model, errors = validate_sbml_model(\"model.xml\")"
   ]
  },
  {
   "cell_type": "markdown",
   "id": "777d4e7b",
   "metadata": {},
   "source": [
    "Again we run 'add_crossreferes'. This time we get a progress bar because the cross-reference extension of a whole model generally takes some time."
   ]
  },
  {
   "cell_type": "code",
   "execution_count": 22,
   "id": "74553816",
   "metadata": {
    "scrolled": true
   },
   "outputs": [
    {
     "name": "stderr",
     "output_type": "stream",
     "text": [
      "100%|████████████████████████████████████████████████████████████████████████████████████████████████████████████████████████████████████████████████████████████████████████████| 172/172 [02:12<00:00,  1.30it/s]\n"
     ]
    }
   ],
   "source": [
    "add_crossreferences(model,directory + \"/data\")"
   ]
  },
  {
   "cell_type": "code",
   "execution_count": 23,
   "id": "e25f270d",
   "metadata": {},
   "outputs": [],
   "source": [
    "write_sbml_model(model,\"model_with_Xref.xml\")"
   ]
  },
  {
   "cell_type": "markdown",
   "id": "e6adc1b4",
   "metadata": {},
   "source": [
    "Now we use Memote to create a report that compares the model before and after expanding the annotations. We will then display this report."
   ]
  },
  {
   "cell_type": "code",
   "execution_count": 37,
   "id": "6ac79116",
   "metadata": {
    "scrolled": true
   },
   "outputs": [
    {
     "name": "stdout",
     "output_type": "stream",
     "text": [
      "Scaling...\n",
      " A: min|aij| =  1.000e+00  max|aij| =  1.000e+00  ratio =  1.000e+00\n",
      "Problem data seem to be well scaled\n",
      "The current solver interface glpk doesn't support setting the optimality tolerance.\n",
      "The current solver interface glpk doesn't support setting the optimality tolerance.\n",
      "\u001b[33mwarning: \u001b[0mhttps://identifiers.org/inchi/ does not conform to 'http(s)://identifiers.org/collection/id' or'http(s)://identifiers.org/COLLECTION:id\n",
      "\u001b[33mwarning: \u001b[0mhttps://identifiers.org/inchikey/ does not conform to 'http(s)://identifiers.org/collection/id' or'http(s)://identifiers.org/COLLECTION:id\n",
      "\u001b[33mwarning: \u001b[0mhttps://identifiers.org/inchi/ does not conform to 'http(s)://identifiers.org/collection/id' or'http(s)://identifiers.org/COLLECTION:id\n",
      "\u001b[33mwarning: \u001b[0mhttps://identifiers.org/inchikey/ does not conform to 'http(s)://identifiers.org/collection/id' or'http(s)://identifiers.org/COLLECTION:id\n",
      "\u001b[33mwarning: \u001b[0mhttps://identifiers.org/inchi/ does not conform to 'http(s)://identifiers.org/collection/id' or'http(s)://identifiers.org/COLLECTION:id\n",
      "\u001b[33mwarning: \u001b[0mhttps://identifiers.org/inchikey/ does not conform to 'http(s)://identifiers.org/collection/id' or'http(s)://identifiers.org/COLLECTION:id\n",
      "\u001b[33mwarning: \u001b[0mhttps://identifiers.org/inchi/ does not conform to 'http(s)://identifiers.org/collection/id' or'http(s)://identifiers.org/COLLECTION:id\n",
      "\u001b[33mwarning: \u001b[0mhttps://identifiers.org/inchikey/ does not conform to 'http(s)://identifiers.org/collection/id' or'http(s)://identifiers.org/COLLECTION:id\n",
      "\u001b[33mwarning: \u001b[0mhttps://identifiers.org/inchi/ does not conform to 'http(s)://identifiers.org/collection/id' or'http(s)://identifiers.org/COLLECTION:id\n",
      "\u001b[33mwarning: \u001b[0mhttps://identifiers.org/inchikey/ does not conform to 'http(s)://identifiers.org/collection/id' or'http(s)://identifiers.org/COLLECTION:id\n",
      "\u001b[33mwarning: \u001b[0mhttps://identifiers.org/inchi/ does not conform to 'http(s)://identifiers.org/collection/id' or'http(s)://identifiers.org/COLLECTION:id\n",
      "\u001b[33mwarning: \u001b[0mhttps://identifiers.org/inchikey/ does not conform to 'http(s)://identifiers.org/collection/id' or'http(s)://identifiers.org/COLLECTION:id\n",
      "\u001b[33mwarning: \u001b[0mhttps://identifiers.org/inchi/ does not conform to 'http(s)://identifiers.org/collection/id' or'http(s)://identifiers.org/COLLECTION:id\n",
      "\u001b[33mwarning: \u001b[0mhttps://identifiers.org/inchikey/ does not conform to 'http(s)://identifiers.org/collection/id' or'http(s)://identifiers.org/COLLECTION:id\n",
      "\u001b[1m============================= test session starts ==============================\u001b[0m\n",
      "platform linux -- Python 3.7.4, pytest-4.6.11, py-1.10.0, pluggy-0.13.1\n",
      "rootdir: /home/jan\n",
      "plugins: anyio-3.3.0\n",
      "\u001b[1mcollecting ... \u001b[0m\u001b[1m============================= test session starts ==============================\u001b[0m\n",
      "platform linux -- Python 3.7.4, pytest-4.6.11, py-1.10.0, pluggy-0.13.1\n",
      "rootdir: /home/jan\n",
      "plugins: anyio-3.3.0\n",
      "collected 146 items / 1 skipped / 145 selected                                 \u001b[0m\n",
      "\n",
      "collected 146 items / 1 skipped / 145 selected                                 \u001b[0mst_annotation.py \u001b[31mF\u001b[0m\u001b[1m\n",
      "\u001b[36m [  0%]\n",
      "\u001b[0m\n",
      "../../../miniconda3/envs/cobramod/lib/python3.7/site-packages/memote/suite/tests/test_annotation.py \u001b[31mF\u001b[0m\u001b[36m [  0%]\n",
      "\u001b[0m\u001b[31mF\u001b[0m\u001b[31mF\u001b[0m\u001b[31mF\u001b[0m\u001b[31mF\u001b[0m\u001b[31mF\u001b[0m\u001b[31mF\u001b[0m\u001b[31mF\u001b[0m\u001b[31mF\u001b[0m\u001b[31mF\u001b[0m\u001b[31mF\u001b[0m\u001b[31mF\u001b[0m\u001b[31mF\u001b[0m\u001b[31mF\u001b[0m\u001b[31mF\u001b[0m\u001b[31mF\u001b[0m\u001b[31mF\u001b[0m\u001b[31mF\u001b[0m\u001b[31mF\u001b[0m\u001b[31mF\u001b[0m\u001b[31mF\u001b[0m\u001b[31mF\u001b[0m\u001b[31mF\u001b[0m\u001b[31mF\u001b[0m\u001b[31mF\u001b[0m\u001b[31mF\u001b[0m\u001b[31mF\u001b[0m\u001b[31mF\u001b[0m\u001b[31mF\u001b[0m\u001b[31mF\u001b[0m\u001b[31mF\u001b[0m\u001b[31mF\u001b[0m\u001b[31mF\u001b[0m\u001b[31mF\u001b[0m\u001b[31mF\u001b[0m\u001b[31mF\u001b[0m\u001b[31mF\u001b[0m\u001b[31mF\u001b[0m\u001b[31mF\u001b[0m\u001b[31mF\u001b[0m\u001b[31mF\u001b[0m\u001b[31mF\u001b[0m\u001b[31mF\u001b[0m\u001b[31mF\u001b[0m\u001b[31mF\u001b[0m\u001b[31mF\u001b[0m\u001b[31mF\u001b[0m\u001b[31mF\u001b[0m\u001b[31mF\u001b[0m\u001b[31mF\u001b[0m\u001b[31mF\u001b[0m\u001b[31mF\u001b[0m\u001b[31mF\u001b[0m\u001b[31mF\u001b[0m\u001b[31mF\u001b[0m\u001b[31mF\u001b[0m\u001b[31mF\u001b[0m\u001b[31mF\u001b[0m\u001b[31mF\u001b[0m\u001b[31mF\u001b[0m\u001b[31mF\u001b[0m\u001b[31mF\u001b[0m\u001b[31mF\u001b[0m\u001b[31mF\u001b[0m\u001b[31mF\u001b[0m\u001b[31mF\u001b[0m\u001b[32m.\u001b[0m\u001b[31mF\u001b[0m\u001b[32m.\u001b[0m\u001b[32m.\u001b[0m\u001b[32m.\u001b[0m\u001b[32m.\u001b[0m\u001b[31mF\u001b[0m\u001b[31mF\u001b[0m\u001b[32m.\u001b[0m\u001b[31mF\u001b[0m\u001b[31mF\u001b[0m\u001b[32m.\u001b[0m\u001b[32m.\u001b[0m\u001b[32m.\u001b[0m\u001b[32m.\u001b[0m\u001b[32m.\u001b[0m\u001b[32m.\u001b[0m\u001b[31mF\u001b[0m\u001b[32m.\u001b[0m\u001b[32m.\u001b[0m\u001b[32m.\u001b[0m\u001b[31mF\u001b[0m\u001b[32m.\u001b[0m\u001b[32m.\u001b[0m\u001b[32m.\u001b[0m\u001b[31mF\u001b[0m\u001b[32m.\u001b[0m\u001b[32m.\u001b[0m\u001b[31mF\u001b[0m\u001b[32m.\u001b[0m\u001b[31mF\u001b[0m\u001b[32m.\u001b[0m\u001b[32m.\u001b[0m\u001b[32m.\u001b[0m\u001b[32m.\u001b[0m\u001b[31mF\u001b[0m\u001b[31mF\u001b[0m\u001b[32m.\u001b[0m\u001b[32m.\u001b[0m\u001b[32m.\u001b[0m\u001b[31mF\u001b[0m\u001b[31mF\u001b[0m\u001b[32m.\u001b[0m\u001b[32m.\u001b[0m\u001b[32m.\u001b[0m\u001b[31mF\u001b[0m\u001b[32m.\u001b[0m\u001b[31mF\u001b[0m\u001b[32m.\u001b[0m\u001b[31mF\u001b[0m\u001b[31mF\u001b[0m\u001b[32m.\u001b[0m\u001b[32m.\u001b[0m\u001b[31mF\u001b[0m\u001b[32m.\u001b[0m\u001b[31mF\u001b[0m\u001b[32m.\u001b[0m\u001b[31mF\u001b[0m\u001b[32m.\u001b[0m\u001b[36m         [ 44%]\u001b[0m\n",
      "../../../miniconda3/envs/cobramod/lib/python3.7/site-packages/memote/suite/tests/test_basic.py \u001b[32m.\u001b[0m\u001b[36m [ 45%]\n",
      "\u001b[0m\u001b[32m.\u001b[0m\u001b[32m.\u001b[0m\u001b[32m.\u001b[0m\u001b[32m.\u001b[0m\u001b[31mF\u001b[0m\u001b[32m.\u001b[0m\u001b[32m.\u001b[0m\u001b[31mF\u001b[0m\u001b[32m.\u001b[0m\u001b[32m.\u001b[0m\u001b[36m         [ 44%]\u001b[0m\n",
      "../../../miniconda3/envs/cobramod/lib/python3.7/site-packages/memote/suite/tests/test_basic.py \u001b[32m.\u001b[0m\u001b[36m [ 45%]\n",
      "\u001b[0m\u001b[32m.\u001b[0m\u001b[32m.\u001b[0m\u001b[32m.\u001b[0m\u001b[32m.\u001b[0m\u001b[32m.\u001b[0m\u001b[31mF\u001b[0m\u001b[32m.\u001b[0m\u001b[31mF\u001b[0m\u001b[32m.\u001b[0m\u001b[32m.\u001b[0m\u001b[32m.\u001b[0m\u001b[32m.\u001b[0m\u001b[32m.\u001b[0m\u001b[32m.\u001b[0m\u001b[32m.\u001b[0m\u001b[32m.\u001b[0m\u001b[31mF\u001b[0m\u001b[32m.\u001b[0m\u001b[32m.\u001b[0m\u001b[32m.\u001b[0m\u001b[32m.\u001b[0m\u001b[32m.\u001b[0m\u001b[32m.\u001b[0m\u001b[32m.\u001b[0m\u001b[32m.\u001b[0m\u001b[32m.\u001b[0m\u001b[32m.\u001b[0m\u001b[31mF\u001b[0m\u001b[32m.\u001b[0m\u001b[32m.\u001b[0m\u001b[32m.\u001b[0m\u001b[31mF\u001b[0m\u001b[32m.\u001b[0m\u001b[31mF\u001b[0m\u001b[31mF\u001b[0m\u001b[31mF\u001b[0m\u001b[31mF\u001b[0m\u001b[36m                                                   [ 60%]\u001b[0m\n",
      "../../../miniconda3/envs/cobramod/lib/python3.7/site-packages/memote/suite/tests/test_biomass.py \u001b[32m.\u001b[0m\u001b[36m [ 60%]\n",
      "\u001b[0m\u001b[31mF\u001b[0m\u001b[32m.\u001b[0m\u001b[31mF\u001b[0m\u001b[36m                                                   [ 60%]\u001b[0m\n",
      "../../../miniconda3/envs/cobramod/lib/python3.7/site-packages/memote/suite/tests/test_biomass.py \u001b[32m.\u001b[0m\u001b[36m [ 60%]\n",
      "\u001b[0m\u001b[32m.\u001b[0m\u001b[31mF\u001b[0m\u001b[32m.\u001b[0m\u001b[32m.\u001b[0m\u001b[31mF\u001b[0m\u001b[31mF\u001b[0m\u001b[31mF\u001b[0m\u001b[32m.\u001b[0m\u001b[32m.\u001b[0m\u001b[32m.\u001b[0m\u001b[31mF\u001b[0m\u001b[32m.\u001b[0m\u001b[32m.\u001b[0m\u001b[32m.\u001b[0m\u001b[31mF\u001b[0m\u001b[36m                                                                [ 67%]\u001b[0m\n",
      "../../../miniconda3/envs/cobramod/lib/python3.7/site-packages/memote/suite/tests/test_consistency.py \u001b[31mF\u001b[0m\u001b[36m                                                                [ 67%]\u001b[0m\n",
      "../../../miniconda3/envs/cobramod/lib/python3.7/site-packages/memote/suite/tests/test_consistency.py \u001b[32m.\u001b[0m\u001b[36m [ 67%]\n",
      "\u001b[0m\u001b[32m.\u001b[0m\u001b[36m [ 67%]\n",
      "\u001b[0m\u001b[32m.\u001b[0m\u001b[32m.\u001b[0m\u001b[32m.\u001b[0m\u001b[33ms\u001b[0m\u001b[33ms\u001b[0m\u001b[33ms\u001b[0m\u001b[33ms\u001b[0m\u001b[33ms\u001b[0m\u001b[33ms\u001b[0m\u001b[33ms\u001b[0m\u001b[33ms\u001b[0m\u001b[33ms\u001b[0m\u001b[33ms\u001b[0m\u001b[33ms\u001b[0m\u001b[33ms\u001b[0m\u001b[33ms\u001b[0m\u001b[33ms\u001b[0m\u001b[33ms\u001b[0m\u001b[33ms\u001b[0m\u001b[31mF\u001b[0m\u001b[32m.\u001b[0m\u001b[32m.\u001b[0m\u001b[33ms\u001b[0m\u001b[33ms\u001b[0m\u001b[33ms\u001b[0m\u001b[33ms\u001b[0m\u001b[33ms\u001b[0m\u001b[33ms\u001b[0m\u001b[33ms\u001b[0m\u001b[33ms\u001b[0m\u001b[33ms\u001b[0m\u001b[33ms\u001b[0m\u001b[33ms\u001b[0m\u001b[33ms\u001b[0m\u001b[33ms\u001b[0m\u001b[33ms\u001b[0m\u001b[33ms\u001b[0m\u001b[33ms\u001b[0m\u001b[31mF\u001b[0m\u001b[32m.\u001b[0m\u001b[31mF\u001b[0m\u001b[31mF\u001b[0m\u001b[31mF\u001b[0m\u001b[32m.\u001b[0m\u001b[31mF\u001b[0m\u001b[32m.\u001b[0m\u001b[31mF\u001b[0m\u001b[32m.\u001b[0m\u001b[31mF\u001b[0m\u001b[32m.\u001b[0m\u001b[31mF\u001b[0m\u001b[31mF\u001b[0m\u001b[31mF\u001b[0m\u001b[31mF\u001b[0m\u001b[31mF\u001b[0m\u001b[36m                                             [ 86%]\u001b[0m\n",
      "../../../miniconda3/envs/cobramod/lib/python3.7/site-packages/memote/suite/tests/test_essentiality.py \u001b[33ms\u001b[0m\u001b[36m [ 87%]\n",
      "\u001b[0m\u001b[36m                                                                         [ 87%]\u001b[0m\n",
      "../../../miniconda3/envs/cobramod/lib/python3.7/site-packages/memote/suite/tests/test_growth.py \u001b[33ms\u001b[0m\u001b[36m [ 88%]\n",
      "\u001b[0m\u001b[36m                                                                         [ 88%]\u001b[0m\n",
      "../../../miniconda3/envs/cobramod/lib/python3.7/site-packages/memote/suite/tests/test_matrix.py \u001b[32m.\u001b[0m\u001b[36m [ 89%]\n",
      "\u001b[0m\u001b[32m.\u001b[0m\u001b[32m.\u001b[0m\u001b[32m.\u001b[0m\u001b[36m                                                                      [ 91%]\u001b[0m\n",
      "../../../miniconda3/envs/cobramod/lib/python3.7/site-packages/memote/suite/tests/test_sbml.py \u001b[32m.\u001b[0m\u001b[36m [ 91%]\n",
      "\u001b[0m\u001b[32m.\u001b[0m\u001b[36m                                                                        [ 92%]\u001b[0m\n",
      "../../../miniconda3/envs/cobramod/lib/python3.7/site-packages/memote/suite/tests/test_sbo.py \u001b[32m.\u001b[0m\u001b[36m [ 93%]\n",
      "\u001b[0m\u001b[31mF\u001b[0m\u001b[36m                                             [ 86%]\u001b[0m\n",
      "../../../miniconda3/envs/cobramod/lib/python3.7/site-packages/memote/suite/tests/test_essentiality.py \u001b[33ms\u001b[0m\u001b[36m [ 87%]\n",
      "\u001b[0m\u001b[36m                                                                         [ 87%]\u001b[0m\n",
      "../../../miniconda3/envs/cobramod/lib/python3.7/site-packages/memote/suite/tests/test_growth.py \u001b[33ms\u001b[0m\u001b[36m [ 88%]\n",
      "\u001b[0m\u001b[36m                                                                         [ 88%]\u001b[0m\n",
      "../../../miniconda3/envs/cobramod/lib/python3.7/site-packages/memote/suite/tests/test_matrix.py \u001b[32m.\u001b[0m\u001b[36m [ 89%]\n"
     ]
    },
    {
     "name": "stdout",
     "output_type": "stream",
     "text": [
      "\u001b[0m\u001b[31mF\u001b[0m\u001b[32m.\u001b[0m\u001b[32m.\u001b[0m\u001b[32m.\u001b[0m\u001b[32m.\u001b[0m\u001b[32m.\u001b[0m\u001b[32m.\u001b[0m\u001b[32m.\u001b[0m\u001b[32m.\u001b[0m\u001b[36m                                                                      [ 91%]\u001b[0m\n",
      "../../../miniconda3/envs/cobramod/lib/python3.7/site-packages/memote/suite/tests/test_sbml.py \u001b[32m.\u001b[0m\u001b[36m [ 91%]\n",
      "\u001b[0m\u001b[32m.\u001b[0m\u001b[36m                                                                        [ 92%]\u001b[0m\n",
      "../../../miniconda3/envs/cobramod/lib/python3.7/site-packages/memote/suite/tests/test_sbo.py \u001b[32m.\u001b[0m\u001b[36m [ 93%]\n",
      "\u001b[0m\u001b[31mF\u001b[0m\u001b[32m.\u001b[0m\u001b[32m.\u001b[0m\u001b[32m.\u001b[0m\u001b[32m.\u001b[0m\u001b[32m.\u001b[0m\u001b[31mF\u001b[0m\u001b[33ms\u001b[0m\u001b[31mF\u001b[0m\u001b[32m.\u001b[0m\u001b[36m                                                               [100%]\u001b[0m\n",
      "\n",
      "\u001b[31m\u001b[1m=============== 63 failed, 64 passed, 20 skipped in 2.19 seconds ===============\u001b[0m\n",
      "\u001b[31mF\u001b[0m\u001b[33ms\u001b[0m\u001b[31mF\u001b[0m\u001b[32m.\u001b[0m\u001b[36m                                                               [100%]\u001b[0m\n",
      "\n",
      "\u001b[31m\u001b[1m=============== 65 failed, 62 passed, 20 skipped in 2.22 seconds ===============\u001b[0m\n",
      "Writing diff report to '_static/xref.html'.\n"
     ]
    }
   ],
   "source": [
    "!memote report diff --filename _static/xref.html model.xml model_with_Xref.xml "
   ]
  },
  {
   "cell_type": "markdown",
   "id": "4b31b071",
   "metadata": {},
   "source": [
    "We move the file index.html to prevent problems with files that have the same name."
   ]
  },
  {
   "cell_type": "code",
   "execution_count": 1,
   "id": "8358db78",
   "metadata": {},
   "outputs": [
    {
     "data": {
      "text/html": [
       "\n",
       "        <iframe\n",
       "            width=\"100%\"\n",
       "            height=\"800\"\n",
       "            src=\"./_static/xref.html\"\n",
       "            frameborder=\"0\"\n",
       "            allowfullscreen\n",
       "            \n",
       "        ></iframe>\n",
       "        "
      ],
      "text/plain": [
       "<IPython.lib.display.IFrame at 0x7f48000ad490>"
      ]
     },
     "execution_count": 1,
     "metadata": {},
     "output_type": "execute_result"
    }
   ],
   "source": [
    "from IPython.display import IFrame\n",
    "IFrame(src='./_static/xref.html', width=\"100%\", height=800)"
   ]
  },
  {
   "cell_type": "markdown",
   "id": "d4324759",
   "metadata": {},
   "source": [
    "It should be noted that for the \"Metabolite Annotation Conformity Per Database\", both InChI and HMDB can perform poorly. This is because Cobramod adds all available InChIs based on the existing IDs. These could be InChIs consisting of several compounds, which have a common InChI. For HMDB, this poor performance is due to Memote classifying HMDB identifiers with more than five digits as incorrect. However, the current definition of identifiers.org does not limit the number of digits in HMDB identifiers and there are valid identifiers on HMDB with more than five digits. For this reason, CobraMod adds the HMDB IDs even if this lowers the Memote score."
   ]
  },
  {
   "cell_type": "markdown",
   "id": "539d6b8b",
   "metadata": {},
   "source": [
    ".. bibliography::"
   ]
  }
 ],
 "metadata": {
  "kernelspec": {
   "display_name": "Python 3 (ipykernel)",
   "language": "python",
   "name": "python3"
  },
  "language_info": {
   "codemirror_mode": {
    "name": "ipython",
    "version": 3
   },
   "file_extension": ".py",
   "mimetype": "text/x-python",
   "name": "python",
   "nbconvert_exporter": "python",
   "pygments_lexer": "ipython3",
   "version": "3.7.4"
  },
  "latex_envs": {
   "LaTeX_envs_menu_present": true,
   "autoclose": true,
   "autocomplete": true,
   "bibliofile": "biblio.bib",
   "cite_by": "apalike",
   "current_citInitial": 1,
   "eqLabelWithNumbers": true,
   "eqNumInitial": 1,
   "hotkeys": {
    "equation": "Ctrl-E",
    "itemize": "Ctrl-I"
   },
   "labels_anchors": false,
   "latex_user_defs": false,
   "report_style_numbering": false,
   "user_envs_cfg": false
  },
  "widgets": {
   "application/vnd.jupyter.widget-state+json": {
    "state": {},
    "version_major": 2,
    "version_minor": 0
   }
  }
 },
 "nbformat": 4,
 "nbformat_minor": 5
}
