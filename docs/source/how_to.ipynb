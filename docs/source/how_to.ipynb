{
 "cells": [
  {
   "cell_type": "markdown",
   "metadata": {
    "id": "XV2pICiM740l"
   },
   "source": [
    "# Functions"
   ]
  },
  {
   "cell_type": "markdown",
   "metadata": {
    "id": "t3ADoeWMGqCV"
   },
   "source": [
    "## Retrieving biochemical data\n",
    "CobraMod can retrieve data from a list of identifiers. Our package\n",
    "utilizes [pathlib's](https://docs.python.org/3/library/pathlib.html) to create system paths that can be used in multiple operating\n",
    "systems. A single loop can manage to obtain the data from a list. For this example we will use data from MetaCyc:"
   ]
  },
  {
   "cell_type": "code",
   "execution_count": 1,
   "metadata": {
    "id": "RFawmPqO740o"
   },
   "outputs": [
    {
     "name": "stdout",
     "output_type": "stream",
     "text": [
      "Scaling...\n",
      " A: min|aij| =  1.000e+00  max|aij| =  1.000e+00  ratio =  1.000e+00\n",
      "Problem data seem to be well scaled\n"
     ]
    }
   ],
   "source": [
    "from cobramod import get_data\n",
    "from pathlib import Path\n",
    "\n",
    "dir_data = Path.cwd().resolve().joinpath(\"data\")\n",
    "identifiers = [\n",
    "    \"CPD-14074\",\n",
    "    \"CPD-14075\",\n",
    "    \"CPD-14076\",\n",
    "    \"CPD-14553\",\n",
    "    \"CPD-15317\",\n",
    "    \"CPD-15322\",\n",
    "    \"CPD-15323\",\n",
    "    \"CPD-15326\"]\n",
    "\n",
    "for single in identifiers:\n",
    "    get_data(\n",
    "        directory=dir_data,\n",
    "        identifier=single,\n",
    "        database=\"META\"\n",
    "    )"
   ]
  },
  {
   "cell_type": "markdown",
   "metadata": {
    "id": "GL14MNJG740q"
   },
   "source": [
    "The first argument of [cobramod.get_data](\n",
    "module/cobramod/index.html#cobramod.get_data) represents the system path where\n",
    "the data will be stored. We used a [Path](\n",
    "https://docs.python.org/3/library/pathlib.html#pathlib.Path) representation using `pathlib`\n",
    "\n",
    "The next argument indicates the original identifier found in given database\n",
    "(*META*). The last argument corresponds to the abbreviation of the database.\n",
    "\n",
    "CobraMod will create a directory will the name of the database and stored the\n",
    "new data in it. e. g:\n",
    "```\n",
    "data\n",
    "`-- META\n",
    "    |-- CPD-14074.xml\n",
    "    |-- CPD-14075.xml\n",
    "    |-- CPD-14076.xml\n",
    "    |-- CPD-14553.xml\n",
    "    |-- CPD-15317.xml\n",
    "    |-- CPD-15322.xml\n",
    "    |-- CPD-15323.xml\n",
    "    `-- CPD-15326.xml\n",
    "```\n",
    "**NOTE**  \n",
    "Check the section about [databases](#databases) for more information.\n",
    "\n",
    "\n"
   ]
  },
  {
   "cell_type": "markdown",
   "metadata": {
    "id": "CjC8UWKk740t"
   },
   "source": [
    "## Converting data to COBRApy objects\n",
    "\n",
    "To simplify the creation of COBRApy objects users can call the function\n",
    "[cobramod.create_object](module/cobramod/index.html#cobramod.create_object). \n",
    "This function will automatically use the stored data or download the \n",
    "biochemical information."
   ]
  },
  {
   "cell_type": "code",
   "execution_count": 2,
   "metadata": {
    "colab": {
     "base_uri": "https://localhost:8080/"
    },
    "id": "s7osopQo740t",
    "outputId": "bbf6d698-6d46-40fb-db25-e90c82677247"
   },
   "outputs": [
    {
     "data": {
      "text/plain": [
       "cobra.core.metabolite.Metabolite"
      ]
     },
     "execution_count": 2,
     "metadata": {},
     "output_type": "execute_result"
    }
   ],
   "source": [
    "from cobramod import create_object\n",
    "from pathlib import Path\n",
    "                                             \n",
    "dir_data = Path.cwd().resolve().joinpath(\"data\")\n",
    "                                             \n",
    "new_object = create_object(\n",
    "    identifier=\"C00026\",\n",
    "    directory=dir_data,\n",
    "    database=\"KEGG\",\n",
    "    compartment=\"c\"\n",
    ")\n",
    "                                             \n",
    "type(new_object)"
   ]
  },
  {
   "cell_type": "markdown",
   "metadata": {
    "id": "jlw6Vkuy740u"
   },
   "source": [
    "In this example, the KEGG metabolite [C00026](\n",
    "https://www.genome.jp/dbget-bin/www_bget?C00026) (2-Oxoglutarate) is identified\n",
    "as a metabolite and is automatically built as a COBRApy object. \n",
    "\n",
    "## Adding metabolites\n",
    "\n",
    "To add metabolites to a model, users can simply employ the function\n",
    "[cobramod.add_metabolites](\n",
    "module/cobramod/index.html#cobramod.add_metabolites). This function is an \n",
    "extension of the original COBRApy function. Users can now use a simple syntax\n",
    "to create the metabolites.\n",
    "\n",
    "------\n",
    "\n",
    "**SYNTAX**  \n",
    "To retrieve biochemical data from a database:\n",
    "\n",
    "    identifier, compartment\n",
    "\n",
    "Additionally, users are able to create self-curated metabolites:\n",
    "\n",
    "    formatted_identifier, name, compartment, chemical_formula, molecular_charge\n",
    "\n",
    "------\n",
    "\n",
    "The function `add_metabolites` can utilize a single string, a list with strings,\n",
    "a Path object that includes strings or regular Metabolite objects."
   ]
  },
  {
   "cell_type": "code",
   "execution_count": 3,
   "metadata": {
    "colab": {
     "base_uri": "https://localhost:8080/"
    },
    "id": "TgiIWEX3740v",
    "outputId": "4310609b-fb5f-4f3b-cce1-5b31e38d123d"
   },
   "outputs": [
    {
     "data": {
      "text/plain": [
       "cobra.core.metabolite.Metabolite"
      ]
     },
     "execution_count": 3,
     "metadata": {},
     "output_type": "execute_result"
    }
   ],
   "source": [
    "from cobramod import add_metabolites\n",
    "from cobramod.test import textbook_biocyc\n",
    "from pathlib import Path\n",
    "                                                                        \n",
    "dir_data = Path.cwd().resolve().joinpath(\"data\")\n",
    "# Using copy\n",
    "test_model = textbook_biocyc.copy()\n",
    "\n",
    "add_metabolites(\n",
    "    model=test_model,\n",
    "    obj=\"MET, c\",\n",
    "    directory=dir_data,\n",
    "    database=\"META\"\n",
    ")\n",
    "type(test_model.metabolites.get_by_id(\"MET_c\"))"
   ]
  },
  {
   "cell_type": "markdown",
   "metadata": {
    "id": "32whoodj740v"
   },
   "source": [
    "The first argument is the model to extend. The `obj` represents a string with\n",
    "the identifier and the corresponding compartment.\n",
    "\n",
    "Instead of a single string, users can also add a list with strings. In the\n",
    "following example, a list with two identifiers is used for `obj`."
   ]
  },
  {
   "cell_type": "code",
   "execution_count": 4,
   "metadata": {
    "colab": {
     "base_uri": "https://localhost:8080/",
     "height": 188
    },
    "id": "TOWdeeQD740w",
    "outputId": "160ac282-a3c9-4a4f-ff42-61da51fe3a77"
   },
   "outputs": [
    {
     "name": "stdout",
     "output_type": "stream",
     "text": [
      "<class 'cobra.core.metabolite.Metabolite'>\n"
     ]
    },
    {
     "name": "stderr",
     "output_type": "stream",
     "text": [
      "/home/stefano/Documents/cobramod/src/cobramod/core/creation.py:995: UserWarning: Metabolite \"MET_c\" is already present in the model. Skipping addition.\n",
      "  warn(message=msg, category=UserWarning)\n"
     ]
    },
    {
     "data": {
      "text/html": [
       "\n",
       "        <table>\n",
       "            <tr>\n",
       "                <td><strong>Metabolite identifier</strong></td><td>SUCROSE_c</td>\n",
       "            </tr><tr>\n",
       "                <td><strong>Name</strong></td><td>sucrose</td>\n",
       "            </tr><tr>\n",
       "                <td><strong>Memory address</strong></td>\n",
       "                <td>0x07fdaa6e12550</td>\n",
       "            </tr><tr>\n",
       "                <td><strong>Formula</strong></td><td>C12H22O11</td>\n",
       "            </tr><tr>\n",
       "                <td><strong>Compartment</strong></td><td>c</td>\n",
       "            </tr><tr>\n",
       "                <td><strong>In 0 reaction(s)</strong></td><td>\n",
       "                    </td>\n",
       "            </tr>\n",
       "        </table>"
      ],
      "text/plain": [
       "<Metabolite SUCROSE_c at 0x7fdaa6e12550>"
      ]
     },
     "execution_count": 4,
     "metadata": {},
     "output_type": "execute_result"
    }
   ],
   "source": [
    "add_metabolites(\n",
    "    model=test_model,\n",
    "    obj=[\"MET, c\", \"SUCROSE, c\"],\n",
    "    directory=dir_data,\n",
    "    database=\"META\",\n",
    ")\n",
    "print(type(test_model.metabolites.get_by_id(\"MET_c\")))\n",
    "                                                               \n",
    "test_model.metabolites.get_by_id(\"SUCROSE_c\")"
   ]
  },
  {
   "cell_type": "markdown",
   "metadata": {
    "id": "_r-7dIhC740x"
   },
   "source": [
    "In case that metabolites are already found in the model, CobraMod will skip\n",
    "their additions.\n",
    "\n",
    "There is also the option to give the path of a file with text.\n",
    "For instance, given the file *metabolites.txt* in the current working directory\n",
    "with the content:\n",
    "\n",
    "    SUCROSE, c  \n",
    "    MET, c  \n",
    "    MALTOSE_c, MALTOSE[c], c, C12H22O11, 1\n",
    "\n",
    "Users can define `obj` a system path for that specific file:"
   ]
  },
  {
   "cell_type": "code",
   "execution_count": 5,
   "metadata": {
    "colab": {
     "base_uri": "https://localhost:8080/"
    },
    "id": "YfbHsvk0740x",
    "outputId": "8d4cdcc8-f269-4c24-996d-ae0dcc7f7b5f"
   },
   "outputs": [
    {
     "name": "stdout",
     "output_type": "stream",
     "text": [
      "Before: 72\n",
      "After: 75\n"
     ]
    }
   ],
   "source": [
    "# Defining where the data is loaded and saved\n",
    "dir_data = Path.cwd().resolve().joinpath(\"data\")\n",
    "# This is our file\n",
    "file = dir_data.joinpath(\"metabolites.txt\")\n",
    "# Using a copy\n",
    "test_model = textbook_biocyc.copy()\n",
    "\n",
    "print(f'Before: {len(test_model.metabolites)}')\n",
    "                                                                     \n",
    "add_metabolites(\n",
    "    model=test_model,\n",
    "    obj=file,\n",
    "    directory=dir_data,\n",
    "    database=\"META\",\n",
    ")\n",
    "print(f'After: {len(test_model.metabolites)}')"
   ]
  },
  {
   "cell_type": "markdown",
   "metadata": {
    "id": "uNbBaakL740x"
   },
   "source": [
    "Finally, regular COBRApy Metabolites or lists with them are also supported."
   ]
  },
  {
   "cell_type": "code",
   "execution_count": 6,
   "metadata": {
    "colab": {
     "base_uri": "https://localhost:8080/"
    },
    "id": "KN5D_mmH740z",
    "outputId": "d09407fd-6937-4121-c510-ed7ac39f9d09"
   },
   "outputs": [
    {
     "data": {
      "text/plain": [
       "cobra.core.metabolite.Metabolite"
      ]
     },
     "execution_count": 6,
     "metadata": {},
     "output_type": "execute_result"
    }
   ],
   "source": [
    "from cobramod import add_metabolites\n",
    "from cobramod.test import textbook, textbook_biocyc\n",
    "                        \n",
    "# Copying Metabolite from original model\n",
    "metabolite = textbook.metabolites.get_by_id(\"xu5p__D_c\")\n",
    "# Using a copy\n",
    "test_model = textbook_biocyc.copy()\n",
    "add_metabolites(\n",
    "    model=test_model,\n",
    "    obj=metabolite\n",
    ")\n",
    "                                                               \n",
    "type(test_model.metabolites.get_by_id(\"xu5p__D_c\"))"
   ]
  },
  {
   "cell_type": "markdown",
   "metadata": {
    "id": "P6oD20PKuJYu"
   },
   "source": [
    "----------------\n",
    "**NOTES**\n",
    "\n",
    "- Hyphens (\"-\") in identifers will be replace for underscores (\"_\").\n",
    "- When CobraMod encounters large molecules such as enzymes or\n",
    "the data is not complete, the users will receive a warning about its\n",
    "properties: "
   ]
  },
  {
   "cell_type": "code",
   "execution_count": 7,
   "metadata": {
    "colab": {
     "base_uri": "https://localhost:8080/",
     "height": 188
    },
    "id": "z3WOnVwEuJi2",
    "outputId": "2dfedff1-1456-4a53-8143-c9e3806c9a55"
   },
   "outputs": [
    {
     "name": "stderr",
     "output_type": "stream",
     "text": [
      "/home/stefano/Documents/cobramod/src/cobramod/parsing/biocyc.py:110: UserWarning: Sum formula for the metabolite \"Red-NADPH-Hemoprotein-Reductases\" from BioCyc could not be found. Formula set to \"X\" and charge to 0. Please curate.\n",
      "  warn(msg)\n"
     ]
    },
    {
     "data": {
      "text/html": [
       "\n",
       "        <table>\n",
       "            <tr>\n",
       "                <td><strong>Metabolite identifier</strong></td><td>Red_NADPH_Hemoprotein_Reductases_c</td>\n",
       "            </tr><tr>\n",
       "                <td><strong>Name</strong></td><td>Red-NADPH-Hemoprotein-Reductases</td>\n",
       "            </tr><tr>\n",
       "                <td><strong>Memory address</strong></td>\n",
       "                <td>0x07fdaa6c33750</td>\n",
       "            </tr><tr>\n",
       "                <td><strong>Formula</strong></td><td>X</td>\n",
       "            </tr><tr>\n",
       "                <td><strong>Compartment</strong></td><td>c</td>\n",
       "            </tr><tr>\n",
       "                <td><strong>In 0 reaction(s)</strong></td><td>\n",
       "                    </td>\n",
       "            </tr>\n",
       "        </table>"
      ],
      "text/plain": [
       "<Metabolite Red_NADPH_Hemoprotein_Reductases_c at 0x7fdaa6c33750>"
      ]
     },
     "execution_count": 7,
     "metadata": {},
     "output_type": "execute_result"
    }
   ],
   "source": [
    "test_model = textbook_biocyc.copy()\n",
    "add_metabolites(\n",
    "    model=test_model,\n",
    "    obj=\"Red-NADPH-Hemoprotein-Reductases, c\",\n",
    "    directory=dir_data,\n",
    "    database=\"META\",\n",
    ")\n",
    "test_model.metabolites.get_by_id(\"Red_NADPH_Hemoprotein_Reductases_c\")"
   ]
  },
  {
   "cell_type": "markdown",
   "metadata": {
    "id": "7OCkus3m740z"
   },
   "source": [
    "----------------\n",
    "\n",
    "## Adding reactions\n",
    "\n",
    "CobraMod includes the function [cobramod.add_reactions](\n",
    "module/cobramod/index.html#cobramod.add_reactions) that works similar to \n",
    "[cobramod.add_metabolites](\n",
    "module/cobramod/index.html#cobramod.add_metabolites) and its an extension of\n",
    "the original COBRApy method.\n",
    "\n",
    "Our new function can use a string, a list with strings, or a Reaction object.\n",
    "\n",
    "--------\n",
    "\n",
    "**SYNTAX**  \n",
    "Users can use the following syntax to retrieve reactions from a database:\n",
    "\n",
    "    original_identifier, compartment\n",
    "\n",
    "In case of user-curated reactions, the users can specify the identifier and the name of the reaction, following the COBRApy reaction string syntax:\n",
    "\n",
    "    identifier, name | coefficient_1 metabolite_1 <-> coefficient_2 metabolite_2\n",
    "\n",
    "Metabolites need to include its compartment with a suffix, defined by an underscore\n",
    "and a letter: e.g: \n",
    "\n",
    "    TRANS_H2O_ec, Oxygen Transport | 2 OXYGEN-MOLECULE_e <-> 2 OXYGEN_MOLECULE_c\n",
    "\n",
    "-------"
   ]
  },
  {
   "cell_type": "code",
   "execution_count": 8,
   "metadata": {
    "colab": {
     "base_uri": "https://localhost:8080/"
    },
    "id": "Gcf5g4dB740z",
    "outputId": "3b7c400c-fe01-4eca-f226-ff82e8ef19be"
   },
   "outputs": [
    {
     "data": {
      "text/plain": [
       "cobra.core.reaction.Reaction"
      ]
     },
     "execution_count": 8,
     "metadata": {},
     "output_type": "execute_result"
    }
   ],
   "source": [
    "from cobramod.test import textbook_kegg\n",
    "from cobramod import add_reactions\n",
    "from pathlib import Path\n",
    "                                                           \n",
    "dir_data = Path.cwd().resolve().joinpath(\"data\")\n",
    "# Using copy\n",
    "test_model = textbook_kegg.copy()\n",
    "                                                           \n",
    "add_reactions(\n",
    "    model=test_model,\n",
    "    obj=\"R04382, c\",\n",
    "    database=\"KEGG\",\n",
    "    directory=dir_data,\n",
    "    genome=\"ecc\"\n",
    ")\n",
    "                                                           \n",
    "type(test_model.reactions.get_by_id(\"R04382_c\"))"
   ]
  },
  {
   "cell_type": "markdown",
   "metadata": {
    "id": "DgOH_6OQ740z"
   },
   "source": [
    "The first argument represents the model to extend. The argument `obj` can pass \n",
    "a string with the identifier of the reaction and the compartment, where it \n",
    "should take place. Then, the data directory and the database must be\n",
    "passed. \n",
    "Please read the notes below for more information about the argument `genome`.\n",
    "\n",
    "Users can also use a list with multiple string:"
   ]
  },
  {
   "cell_type": "code",
   "execution_count": 9,
   "metadata": {
    "colab": {
     "base_uri": "https://localhost:8080/"
    },
    "id": "5hC8-O3v740z",
    "outputId": "b1fb11af-e3ed-4bfd-e3a5-bca5e23d5b05"
   },
   "outputs": [
    {
     "name": "stderr",
     "output_type": "stream",
     "text": [
      "/home/stefano/Documents/cobramod/src/cobramod/core/creation.py:1106: UserWarning: Reaction \"R04382_c\" is already present in the model. Skipping addition.\n",
      "  warn(message=msg, category=UserWarning)\n"
     ]
    },
    {
     "data": {
      "text/plain": [
       "cobra.core.reaction.Reaction"
      ]
     },
     "execution_count": 9,
     "metadata": {},
     "output_type": "execute_result"
    }
   ],
   "source": [
    "add_reactions(\n",
    "    model=test_model,\n",
    "    obj=[\"R04382, c\", \"R02736 ,c\"],\n",
    "    directory=dir_data,\n",
    "    database=\"KEGG\",\n",
    "    genome=\"ecc\"\n",
    ")\n",
    "                                                            \n",
    "type(test_model.reactions.get_by_id(\"R04382_c\"))"
   ]
  },
  {
   "cell_type": "markdown",
   "metadata": {
    "id": "GYPUKYn27400"
   },
   "source": [
    "Another option is to use the path of a file that includes text. Given the file\n",
    "*reactions.txt* in the current working directory with:\n",
    "\n",
    "    R04382, c  \n",
    "    R02736, c  \n",
    "    C06118_ce, digalacturonate transport | 1 C06118_c <-> 1 C06118_e\n",
    "\n",
    "Users can define `obj` as a system path for that specific file:"
   ]
  },
  {
   "cell_type": "code",
   "execution_count": 10,
   "metadata": {
    "colab": {
     "base_uri": "https://localhost:8080/"
    },
    "id": "KGb5w8FO7400",
    "outputId": "11e21735-c5e3-45f8-afa1-d3b709e3330e"
   },
   "outputs": [
    {
     "name": "stdout",
     "output_type": "stream",
     "text": [
      "Before: 95\n",
      "After: 98\n"
     ]
    }
   ],
   "source": [
    "from cobramod.test import textbook_kegg\n",
    "from cobramod import add_reactions\n",
    "from pathlib import Path\n",
    "                                                                     \n",
    "dir_data = Path.cwd().resolve().joinpath(\"data\")\n",
    "test_model = textbook_kegg.copy()\n",
    "# This is the file with text\n",
    "file = dir_data.joinpath(\"reactions.txt\")\n",
    "                                                                     \n",
    "print(f'Before: {len(test_model.reactions)}')\n",
    "                                                                     \n",
    "add_reactions(\n",
    "    model=test_model,\n",
    "    obj=file,\n",
    "    directory=dir_data,\n",
    "    database=\"KEGG\",\n",
    "    genome=\"ecc\"\n",
    ")\n",
    "\n",
    "print(f'After: {len(test_model.reactions)}')"
   ]
  },
  {
   "cell_type": "markdown",
   "metadata": {
    "id": "4ywVo8-X7400"
   },
   "source": [
    "Finally, regular COBRApy reactions can be added."
   ]
  },
  {
   "cell_type": "code",
   "execution_count": 11,
   "metadata": {
    "colab": {
     "base_uri": "https://localhost:8080/"
    },
    "id": "BheNVhsz7401",
    "outputId": "4a52c2ca-6043-4e99-de65-4e0963105658"
   },
   "outputs": [
    {
     "name": "stderr",
     "output_type": "stream",
     "text": [
      "/home/stefano/Documents/cobramod/src/cobramod/core/creation.py:1106: UserWarning: Reaction \"ACALDt\" is already present in the model. Skipping addition.\n",
      "  warn(message=msg, category=UserWarning)\n"
     ]
    },
    {
     "data": {
      "text/plain": [
       "cobra.core.reaction.Reaction"
      ]
     },
     "execution_count": 11,
     "metadata": {},
     "output_type": "execute_result"
    }
   ],
   "source": [
    "from cobramod.test import textbook_kegg, textbook\n",
    "from cobramod import add_reactions\n",
    "from pathlib import Path\n",
    "                                                                  \n",
    "dir_data = Path.cwd().resolve().joinpath(\"data\")\n",
    "test_model = textbook_kegg.copy()\n",
    "reaction = textbook.reactions.get_by_id(\"ACALDt\")\n",
    "                                                                  \n",
    "add_reactions(model=test_model, obj=reaction, directory=dir_data)\n",
    "type(test_model.reactions.get_by_id(\"ACALDt\"))\n"
   ]
  },
  {
   "cell_type": "markdown",
   "metadata": {
    "id": "0DzULV_Q7401"
   },
   "source": [
    "---\n",
    "**NOTES**\n",
    "\n",
    "- Hyphens (\"-\") in identifers will be replace for underscores (\"_\").\n",
    "- If CobraMod identifies that a reaction or its metabolites are already present\n",
    "in the model under another name, then these already-in-model objects will be\n",
    "used instead. This is a security behaviour to prevent duplicates.\n",
    "- By default, COBRApy ignores in reactions metabolites that appear in\n",
    "both sides of the equation. CobraMod will identify these types of reactions \n",
    "and change the compartment of one of the metabolites to the extracellular space. This behaviour will secure that no metabolites are ignored. A warning is\n",
    "raised for the users. e.g\n"
   ]
  },
  {
   "cell_type": "code",
   "execution_count": 12,
   "metadata": {
    "colab": {
     "base_uri": "https://localhost:8080/",
     "height": 244
    },
    "id": "IA2OwzjmbeZJ",
    "outputId": "a167334e-6236-4e3b-c250-5ed13421282f"
   },
   "outputs": [
    {
     "name": "stderr",
     "output_type": "stream",
     "text": [
      "/home/stefano/Documents/cobramod/src/cobramod/core/creation.py:366: UserWarning: Reaction \"TRANS_RXN_455_c\" has metabolite \"CPD_24335_e\" on both sides of the equation (e.g transport reaction). COBRApy ignores these metabolites. To avoid this, by default, CobraMod will assign one metabolite to the extracellular compartment. Please curate the reaction if necessary.\n",
      "  warn(message=msg, category=UserWarning)\n"
     ]
    },
    {
     "data": {
      "text/html": [
       "\n",
       "        <table>\n",
       "            <tr>\n",
       "                <td><strong>Reaction identifier</strong></td><td>TRANS_RXN_455_c</td>\n",
       "            </tr><tr>\n",
       "                <td><strong>Name</strong></td><td>acetic acid uptake</td>\n",
       "            </tr><tr>\n",
       "                <td><strong>Memory address</strong></td>\n",
       "                <td>0x07fdaa6ac0cd0</td>\n",
       "            </tr><tr>\n",
       "                <td><strong>Stoichiometry</strong></td>\n",
       "                <td>\n",
       "                    <p style='text-align:right'>CPD_24335_e --> CPD_24335_c</p>\n",
       "                    <p style='text-align:right'>acetic+acid --> acetic+acid</p>\n",
       "                </td>\n",
       "            </tr><tr>\n",
       "                <td><strong>GPR</strong></td><td>G3O-32144</td>\n",
       "            </tr><tr>\n",
       "                <td><strong>Lower bound</strong></td><td>0</td>\n",
       "            </tr><tr>\n",
       "                <td><strong>Upper bound</strong></td><td>1000</td>\n",
       "            </tr>\n",
       "        </table>\n",
       "        "
      ],
      "text/plain": [
       "<Reaction TRANS_RXN_455_c at 0x7fdaa6ac0cd0>"
      ]
     },
     "execution_count": 12,
     "metadata": {},
     "output_type": "execute_result"
    }
   ],
   "source": [
    "test_model = textbook_kegg.copy()\n",
    "                                                           \n",
    "add_reactions(\n",
    "    model=test_model,\n",
    "    obj=\"TRANS-RXN-455, c\",\n",
    "    database=\"YEAST\",\n",
    "    directory=dir_data,\n",
    ")\n",
    "# This reaction has \n",
    "test_model.reactions.get_by_id(\"TRANS_RXN_455_c\")"
   ]
  },
  {
   "cell_type": "markdown",
   "metadata": {
    "id": "cMRPH9sNdA33"
   },
   "source": [
    "- The argument `genome` is a special argument that can be used in combination\n",
    "of the database *KEGG*. This argument is responsable for selecting the genes\n",
    "from this database. The complete list is available [here](\n",
    "https://www.genome.jp/kegg/catalog/org_list.html).\n",
    "If no argument is passed then, no genes will be created and\n",
    "a warning will appear as shown below:"
   ]
  },
  {
   "cell_type": "code",
   "execution_count": 13,
   "metadata": {
    "colab": {
     "base_uri": "https://localhost:8080/",
     "height": 244
    },
    "id": "CvDMHPAP7401",
    "outputId": "04d5e648-ffd3-4c44-97c5-9db2abbc3bc5"
   },
   "outputs": [
    {
     "name": "stderr",
     "output_type": "stream",
     "text": [
      "/home/stefano/Documents/cobramod/src/cobramod/parsing/kegg.py:196: UserWarning: Nothing was specified in argument \"genome\". \"Reaction \"R04382\" will not include genes. Please modify if necessary.\n",
      "  warn(message=msg, category=UserWarning)\n"
     ]
    },
    {
     "data": {
      "text/html": [
       "\n",
       "        <table>\n",
       "            <tr>\n",
       "                <td><strong>Reaction identifier</strong></td><td>R04382_c</td>\n",
       "            </tr><tr>\n",
       "                <td><strong>Name</strong></td><td>4-(4-deoxy-alpha-D-galact-4-enuronosyl)-D-galacturonate lyase</td>\n",
       "            </tr><tr>\n",
       "                <td><strong>Memory address</strong></td>\n",
       "                <td>0x07fdaa6b0f910</td>\n",
       "            </tr><tr>\n",
       "                <td><strong>Stoichiometry</strong></td>\n",
       "                <td>\n",
       "                    <p style='text-align:right'>C06118_c <=> 2.0 C04053_c</p>\n",
       "                    <p style='text-align:right'>4-(4-Deoxy-alpha-D-gluc-4-enuronosyl)-D-galacturonate; <=> 2.0 5-Dehydro-4-deoxy-D-glucuronate;</p>\n",
       "                </td>\n",
       "            </tr><tr>\n",
       "                <td><strong>GPR</strong></td><td></td>\n",
       "            </tr><tr>\n",
       "                <td><strong>Lower bound</strong></td><td>-1000</td>\n",
       "            </tr><tr>\n",
       "                <td><strong>Upper bound</strong></td><td>1000</td>\n",
       "            </tr>\n",
       "        </table>\n",
       "        "
      ],
      "text/plain": [
       "<Reaction R04382_c at 0x7fdaa6b0f910>"
      ]
     },
     "execution_count": 13,
     "metadata": {},
     "output_type": "execute_result"
    }
   ],
   "source": [
    "test_model = textbook_kegg.copy()\n",
    "                                                           \n",
    "add_reactions(\n",
    "    model=test_model,\n",
    "    obj=\"R04382, c\",\n",
    "    database=\"KEGG\",\n",
    "    directory=dir_data,\n",
    ")\n",
    "test_model.reactions.get_by_id(\"R04382_c\")"
   ]
  },
  {
   "cell_type": "markdown",
   "metadata": {
    "id": "pbG8COs37402"
   },
   "source": [
    "---\n",
    "## Adding pathways\n",
    "\n",
    "CobraMod can add complete pathways into the metabolic models. Users can use the\n",
    "function [cobramod.add_pathway](\n",
    "module/cobramod/index.html#cobramod.add_pathway) to either add a sequence of\n",
    "reaction identifiers or a pathway identifier. For the first example, the\n",
    "pathway [ACETOACETATE-DEG-PWY](\n",
    "https://biocyc.org/ECOLI/new-image?object=ACETOACETATE-DEG-PWY)\n",
    "(acetoacetate degradation) is used to extend the model:\n",
    "<img src=\n",
    "\"https://websvc.biocyc.org/ECOLI/diagram-only?type=PATHWAY&\n",
    "object=ACETOACETATE-DEG-PWY&pfontsize=normal\"/>\n",
    "\n",
    "This specific pathway has two reactions with six metabolites."
   ]
  },
  {
   "cell_type": "code",
   "execution_count": 14,
   "metadata": {
    "colab": {
     "base_uri": "https://localhost:8080/"
    },
    "id": "L3kAPVwz7403",
    "outputId": "249807d6-5563-4b77-c7f2-f76b99a77410"
   },
   "outputs": [
    {
     "name": "stderr",
     "output_type": "stream",
     "text": [
      "/home/stefano/Documents/cobramod/src/cobramod/core/creation.py:160: UserWarning: Metabolite 'ACETYL-COA' was found as 'accoa_c'. Please curate if necessary.\n",
      "  warn(message=msg, category=UserWarning)\n",
      "/home/stefano/Documents/cobramod/src/cobramod/core/creation.py:160: UserWarning: Metabolite 'ACET' was found as 'ac_c'. Please curate if necessary.\n",
      "  warn(message=msg, category=UserWarning)\n",
      "/home/stefano/Documents/cobramod/src/cobramod/core/creation.py:160: UserWarning: Metabolite 'CO-A' was found as 'coa_c'. Please curate if necessary.\n",
      "  warn(message=msg, category=UserWarning)\n",
      "/home/stefano/Documents/cobramod/src/cobramod/core/extension.py:573: UserWarning: Auxiliary sink reaction for \"SK_3_KETOBUTYRATE_c\" created. Consider removing it and adding the synthesis reactions for the metabolite.\n",
      "  warn(message=msg, category=UserWarning)\n"
     ]
    },
    {
     "name": "stdout",
     "output_type": "stream",
     "text": [
      "Before extension: 0.8739215069684307\n",
      "Quantity of     new   | removed entities in\n",
      "*=====================|===================*\n",
      "Reactions        2    |    0              \n",
      "Metabolites      2    |    0              \n",
      "Exchange         0    |    0              \n",
      "Demand           0    |    0              \n",
      "Sinks            1    |    0              \n",
      "Genes            4    |    0              \n",
      "Groups           1    |    0              \n",
      "\n",
      "After extension: 0.8739215069684307\n"
     ]
    },
    {
     "data": {
      "text/plain": [
       "<Pathway ACETOACETATE-DEG-PWY at 0x7fdaa6903290>"
      ]
     },
     "execution_count": 14,
     "metadata": {},
     "output_type": "execute_result"
    }
   ],
   "source": [
    "from pathlib import Path\n",
    "from cobramod import add_pathway\n",
    "from cobramod.test import textbook\n",
    "\n",
    "dir_data = Path.cwd().resolve().joinpath(\"data\")\n",
    "                                   \n",
    "print(\n",
    "    f'Before extension: {textbook.slim_optimize()}'\n",
    ")\n",
    "                                               \n",
    "test_model = textbook.copy()\n",
    "add_pathway(\n",
    "    model=test_model,\n",
    "    pathway=\"ACETOACETATE-DEG-PWY\",\n",
    "    directory=dir_data,\n",
    "    database=\"ECOLI\",\n",
    "    compartment=\"c\",\n",
    "    filename=\"summary.txt\"\n",
    ")\n",
    "print(\n",
    "    f'After extension: {textbook.slim_optimize()}'\n",
    ")\n",
    "test_model.groups.get_by_id(\"ACETOACETATE-DEG-PWY\")"
   ]
  },
  {
   "cell_type": "markdown",
   "metadata": {
    "id": "37naM0897403"
   },
   "source": [
    "The first argument is the model to extend. The argument `pathway` represents \n",
    "the identifier of the pathway. The directory and the abbreviation of the\n",
    "database must be also included. The argument `compartment` will locate all\n",
    "reaction in that specific location. Users can use the argument `summary` to\n",
    "specify the file where the summary of the changes should be written. Posible\n",
    "options are a text file, a csv or a excel file:"
   ]
  },
  {
   "cell_type": "code",
   "execution_count": 15,
   "metadata": {
    "colab": {
     "base_uri": "https://localhost:8080/"
    },
    "id": "JYMb89t77404",
    "outputId": "03df47e4-fa36-4c93-be89-5e5385488ca7"
   },
   "outputs": [
    {
     "name": "stdout",
     "output_type": "stream",
     "text": [
      "Summary:\r\n",
      "Model identifier: e_coli_core\r\n",
      "Model name:\r\n",
      "\r\n",
      "Reactions:\r\n",
      "['ACALD', 'ACALDt', 'ACKr', 'ACONTa', 'ACONTb', 'ACt2r', 'ADK1', 'AKGDH', 'AKGt2r', 'ALCD2x', 'ATPM', 'ATPS4r', 'Biomass_Ecoli_core', 'CO2t', 'CS', 'CYTBD', 'D_LACt2', 'ENO', 'ETOHt2r', 'FBA', 'FBP', 'FORt2', 'FORti', 'FRD7', 'FRUpts2', 'FUM', 'FUMt2_2', 'G6PDH2r', 'GAPD', 'GLCpts', 'GLNS', 'GLNabc', 'GLUDy', 'GLUN', 'GLUSy', 'GLUt2r', 'GND', 'H2Ot', 'ICDHyr', 'ICL', 'LDH_D', 'MALS', 'MALt2_2', 'MDH', 'ME1', 'ME2', 'NADH16', 'NADTRHD', 'NH4t', 'O2t', 'PDH', 'PFK', 'PFL', 'PGI', 'PGK', 'PGL', 'PGM', 'PIt2r', 'PPC', 'PPCK', 'PPS', 'PTAr', 'PYK', 'PYRt2', 'RPE', 'RPI', 'SUCCt2_2', 'SUCCt3', 'SUCDi', 'SUCOAS', 'TALA', 'THD2', 'TKT1', 'TKT2', 'TPI', 'ACETOACETYL_COA_TRANSFER_RXN_c', 'ACETYL_COA_ACETYLTRANSFER_RXN_c']\r\n",
      "Metabolites:\r\n",
      "['13dpg_c', '2pg_c', '3pg_c', '6pgc_c', '6pgl_c', 'ac_c', 'ac_e', 'acald_c', 'acald_e', 'accoa_c', 'acon_C_c', 'actp_c', 'adp_c', 'akg_c', 'akg_e', 'amp_c', 'atp_c', 'cit_c', 'co2_c', 'co2_e', 'coa_c', 'dhap_c', 'e4p_c', 'etoh_c', 'etoh_e', 'f6p_c', 'fdp_c', 'for_c', 'for_e', 'fru_e', 'fum_c', 'fum_e', 'g3p_c', 'g6p_c', 'glc__D_e', 'gln__L_c', 'gln__L_e', 'glu__L_c', 'glu__L_e', 'glx_c', 'h2o_c', 'h2o_e', 'h_c', 'h_e', 'icit_c', 'lac__D_c', 'lac__D_e', 'mal__L_c', 'mal__L_e', 'nad_c', 'nadh_c', 'nadp_c', 'nadph_c', 'nh4_c', 'nh4_e', 'o2_c', 'o2_e', 'oaa_c', 'pep_c', 'pi_c', 'pi_e', 'pyr_c', 'pyr_e', 'q8_c', 'q8h2_c', 'r5p_c', 'ru5p__D_c', 's7p_c', 'succ_c', 'succ_e', 'succoa_c', 'xu5p__D_c', '3_KETOBUTYRATE_c', 'ACETOACETYL_COA_c']\r\n",
      "Exchange:\r\n",
      "['EX_ac_e', 'EX_acald_e', 'EX_akg_e', 'EX_co2_e', 'EX_etoh_e', 'EX_for_e', 'EX_fru_e', 'EX_fum_e', 'EX_glc__D_e', 'EX_gln__L_e', 'EX_glu__L_e', 'EX_h_e', 'EX_h2o_e', 'EX_lac__D_e', 'EX_mal__L_e', 'EX_nh4_e', 'EX_o2_e', 'EX_pi_e', 'EX_pyr_e', 'EX_succ_e']\r\n",
      "Demand:\r\n",
      "[]\r\n",
      "Sinks:\r\n",
      "['SK_3_KETOBUTYRATE_c']\r\n",
      "Genes:\r\n",
      "['b1241', 'b0351', 's0001', 'b3115', 'b1849', 'b2296', 'b1276', 'b0118', 'b0474', 'b0116', 'b0726', 'b0727', 'b2587', 'b0356', 'b1478', 'b3735', 'b3733', 'b3734', 'b3732', 'b3736', 'b3738', 'b3731', 'b3737', 'b3739', 'b0720', 'b0733', 'b0979', 'b0978', 'b0734', 'b2975', 'b3603', 'b2779', 'b1773', 'b2925', 'b2097', 'b4232', 'b3925', 'b0904', 'b2492', 'b4154', 'b4152', 'b4153', 'b4151', 'b1819', 'b1817', 'b2415', 'b1818', 'b2416', 'b1611', 'b4122', 'b1612', 'b3528', 'b1852', 'b1779', 'b1621', 'b1101', 'b2417', 'b3870', 'b1297', 'b0809', 'b0810', 'b0811', 'b1761', 'b1524', 'b1812', 'b0485', 'b3213', 'b3212', 'b4077', 'b2029', 'b0875', 'b1136', 'b4015', 'b2133', 'b1380', 'b4014', 'b2976', 'b3236', 'b1479', 'b2463', 'b2286', 'b2279', 'b2276', 'b2280', 'b2288', 'b2284', 'b2287', 'b2281', 'b2277', 'b2285', 'b2282', 'b2278', 'b2283', 'b3962', 'b1602', 'b1603', 'b0451', 'b0114', 'b0115', 'b3916', 'b1723', 'b0902', 'b0903', 'b2579', 'b3114', 'b3952', 'b3951', 'b4025', 'b2926', 'b0767', 'b0755', 'b3612', 'b4395', 'b3493', 'b2987', 'b3956', 'b3403', 'b1702', 'b2297', 'b2458', 'b1676', 'b1854', 'b4301', 'b3386', 'b2914', 'b4090', 'b0722', 'b0724', 'b0721', 'b0723', 'b0728', 'b0729', 'b2464', 'b0008', 'b2935', 'b2465', 'b3919', 'EG11669', 'EG12432', 'EG11670', 'EG11672']\r\n",
      "Groups:\r\n",
      "['ACETOACETATE-DEG-PWY']\r\n",
      "\r\n",
      "New:\r\n",
      "Reactions:\r\n",
      "['ACETOACETYL_COA_TRANSFER_RXN_c', 'ACETYL_COA_ACETYLTRANSFER_RXN_c']\r\n",
      "Metabolites:\r\n",
      "['3_KETOBUTYRATE_c', 'ACETOACETYL_COA_c']\r\n",
      "Exchange:\r\n",
      "[]\r\n",
      "Demand:\r\n",
      "[]\r\n",
      "Sinks:\r\n",
      "['SK_3_KETOBUTYRATE_c']\r\n",
      "Genes:\r\n",
      "['EG11669', 'EG12432', 'EG11670', 'EG11672']\r\n",
      "Groups:\r\n",
      "['ACETOACETATE-DEG-PWY']\r\n",
      "\r\n",
      "Removed:\r\n",
      "Reactions:\r\n",
      "[]\r\n",
      "Metabolites:\r\n",
      "[]\r\n",
      "Exchange:\r\n",
      "[]\r\n",
      "Demand:\r\n",
      "[]\r\n",
      "Sinks:\r\n",
      "[]\r\n",
      "Genes:\r\n",
      "[]\r\n",
      "Groups:\r\n",
      "[]\r\n",
      "\r\n"
     ]
    }
   ],
   "source": [
    "%cat summary.txt"
   ]
  },
  {
   "cell_type": "markdown",
   "metadata": {
    "id": "5E3kqIV17406"
   },
   "source": [
    "Similar results can be achieved using a sequence. For this example, three\n",
    "reactions from the [mixed acid fermentation](\n",
    "<https://biocyc.org/META/NEW-IMAGE?type=PATHWAY&object=FERMENTATION-PWY>)\n",
    "pathway from MetaCyc will be added to the metabolic model:"
   ]
  },
  {
   "cell_type": "code",
   "execution_count": 16,
   "metadata": {
    "colab": {
     "base_uri": "https://localhost:8080/"
    },
    "id": "DXh3EVxU7406",
    "outputId": "59903ba3-bf14-4b95-8673-27b30d0c3493"
   },
   "outputs": [
    {
     "name": "stdout",
     "output_type": "stream",
     "text": [
      "Before: 95\n",
      "Quantity of     new   | removed entities in\n",
      "*=====================|===================*\n",
      "Reactions        3    |    0              \n",
      "Metabolites      2    |    0              \n",
      "Exchange         0    |    0              \n",
      "Demand           0    |    0              \n",
      "Sinks            1    |    0              \n",
      "Genes           11    |    0              \n",
      "Groups           1    |    0              \n",
      "\n",
      "After: 99\n"
     ]
    },
    {
     "name": "stderr",
     "output_type": "stream",
     "text": [
      "/home/stefano/Documents/cobramod/src/cobramod/core/creation.py:160: UserWarning: Metabolite 'ATP' was found as 'ATP_c'. Please curate if necessary.\n",
      "  warn(message=msg, category=UserWarning)\n",
      "/home/stefano/Documents/cobramod/src/cobramod/core/creation.py:160: UserWarning: Metabolite 'ADP' was found as 'ADP_c'. Please curate if necessary.\n",
      "  warn(message=msg, category=UserWarning)\n",
      "/home/stefano/Documents/cobramod/src/cobramod/core/extension.py:685: UserWarning: Auxiliary sink reaction for \"SK_HYDROGEN_MOLECULE_c\" created. Consider removing it and adding the synthesis reactions for the metabolite.\n",
      "  warn(message=msg, category=UserWarning)\n"
     ]
    }
   ],
   "source": [
    "from pathlib import Path\n",
    "from cobramod import add_pathway\n",
    "from cobramod.test import textbook_biocyc\n",
    "                                                                \n",
    "dir_data = Path.cwd().resolve().joinpath(\"data\")\n",
    "test_model = textbook_biocyc.copy()\n",
    "sequence = [\"PEPDEPHOS-RXN\", \"PYRUVFORMLY-RXN\", \"FHLMULTI-RXN\"]\n",
    "                                                                \n",
    "print(f'Before: {len(test_model.reactions)}')\n",
    "                                                                \n",
    "add_pathway(\n",
    "    model=test_model,\n",
    "    pathway=sequence,\n",
    "    directory=dir_data,\n",
    "    database=\"ECOLI\",\n",
    "    compartment=\"c\",\n",
    "    group=\"test_group\"\n",
    ")\n",
    "\n",
    "print(f'After: {len(test_model.reactions)}')"
   ]
  },
  {
   "cell_type": "markdown",
   "metadata": {
    "id": "C6Sdazj67406"
   },
   "source": [
    "We defined the argument `group` as *test_group*. This argument will rename\n",
    "the Pathway-object with the specified name. If we search for that identifier in\n",
    "the model we will find the new group with these reactions as members:"
   ]
  },
  {
   "cell_type": "code",
   "execution_count": 17,
   "metadata": {
    "colab": {
     "base_uri": "https://localhost:8080/"
    },
    "id": "Rjmgx4qi7407",
    "outputId": "834d33f0-8cfd-4e81-960d-236697d57971",
    "scrolled": false
   },
   "outputs": [
    {
     "data": {
      "text/plain": [
       "[<Reaction PEPDEPHOS_RXN_c at 0x7fdaa6ac7210>,\n",
       " <Reaction PYRUVFORMLY_RXN_c at 0x7fdaa67c3c90>,\n",
       " <Reaction FHLMULTI_RXN_c at 0x7fdaa6854cd0>]"
      ]
     },
     "execution_count": 17,
     "metadata": {},
     "output_type": "execute_result"
    }
   ],
   "source": [
    "test_model.groups.get_by_id(\"test_group\").members"
   ]
  },
  {
   "cell_type": "markdown",
   "metadata": {
    "id": "wYJWosLv7407"
   },
   "source": [
    "--------------------\n",
    "\n",
    "**NOTES**\n",
    "\n",
    "- Because a Pathway is set of multiple reactions, the comments above also\n",
    "apply when adding a pathway. i. e. duplicate elements, transport reactions and\n",
    "the argument `genome` for KEGG.\n",
    "- It is possible to merge to pathways. Users can define in multiple pathways to\n",
    "the argument `group` and CobraMod will automatically join the pathways. This is\n",
    "useful when encountering multiple sub-pathways.\n",
    "- Each reaction will be tested for the capability to carry a non-zero flux. Read\n",
    "the section about it for more information.\n",
    "\n",
    "--------------------\n",
    "\n",
    "## Visualization with Escher\n",
    "\n",
    "This group is a special type of COBRApy Group. It is called [Pathway](\n",
    "module/cobramod/index.html#cobramod.Pathway), and it\n",
    "is able to show through Escher, their participants and if given, its flux\n",
    "distribution with the method [Pathway.visualize()](\n",
    "module/cobramod/core/pathway/index.html#cobramod.core.pathway.Pathway.visualize):"
   ]
  },
  {
   "cell_type": "code",
   "execution_count": 18,
   "metadata": {
    "colab": {
     "base_uri": "https://localhost:8080/",
     "height": 17,
     "referenced_widgets": [
      "6d7474ceefc5438c8dabe9743d8404a1"
     ]
    },
    "id": "vEeMnrkK7407",
    "outputId": "b1955deb-2668-4fb9-b116-57638e7760c0",
    "scrolled": false
   },
   "outputs": [
    {
     "data": {
      "application/vnd.jupyter.widget-view+json": {
       "model_id": "11494c626fde49a2a0a46c6b9910d55b",
       "version_major": 2,
       "version_minor": 0
      },
      "text/plain": [
       "Builder(reaction_scale={}, reaction_styles=['color', 'text'])"
      ]
     },
     "metadata": {},
     "output_type": "display_data"
    }
   ],
   "source": [
    "test_model.groups.get_by_id(\"test_group\").visualize()"
   ]
  },
  {
   "cell_type": "markdown",
   "metadata": {
    "id": "uBCHBBzkp3NV"
   },
   "source": [
    "The Pathway-objects can be easily modified in order to show a vertical\n",
    "orientation, flux distributions using defaults or user-defined colors\n",
    "changes the colors of the flux gradients (linear or quantile normalized).\n"
   ]
  },
  {
   "cell_type": "code",
   "execution_count": 19,
   "metadata": {
    "colab": {
     "base_uri": "https://localhost:8080/",
     "height": 17,
     "referenced_widgets": [
      "02f7014c5b31446eaaae2b27b38ad0b7"
     ]
    },
    "id": "iBJJokl0pz7R",
    "outputId": "2176da34-423f-4d92-e945-c37b63b2162d"
   },
   "outputs": [
    {
     "data": {
      "application/vnd.jupyter.widget-view+json": {
       "model_id": "2383b9933862498ca278102f173019a9",
       "version_major": 2,
       "version_minor": 0
      },
      "text/plain": [
       "Builder(reaction_data={'PEPDEPHOS_RXN_c': -2, 'PYRUVFORMLY_RXN_c': -2, 'FHLMULTI_RXN_c': 0.4}, reaction_scale=…"
      ]
     },
     "metadata": {},
     "output_type": "display_data"
    }
   ],
   "source": [
    "# For flux visualization of the group\n",
    "solution =  {\n",
    "    \"PEPDEPHOS_RXN_c\": -2, \"PYRUVFORMLY_RXN_c\": -2, \"FHLMULTI_RXN_c\": 0.4\n",
    "}\n",
    "# Modifying attributes\n",
    "test_model.groups.get_by_id(\"test_group\").vertical = True\n",
    "test_model.groups.get_by_id(\"test_group\").color_negative = \"red\"\n",
    "test_model.groups.get_by_id(\"test_group\").color_positive = \"green\"\n",
    "test_model.groups.get_by_id(\"test_group\").color_quantile = True\n",
    "test_model.groups.get_by_id(\"test_group\").visualize(solution_fluxes=solution)"
   ]
  },
  {
   "cell_type": "markdown",
   "metadata": {
    "id": "WZ78z82Mgbdl"
   },
   "source": [
    "--------------------\n",
    "\n",
    "**NOTES**\n",
    "- Calling the `visualize()` method without a flux solution, will display only\n",
    "the map without colors.\n",
    "- Users can pass in the argument `solution_fluxes` either a Solution object or\n",
    "a dictionary with the fluxes for each reaction.\n",
    "- The pathways will be always saved as a html. The default name\n",
    "is *pathway.html*. Users can customize the name of the file.\n",
    "\n",
    "--------------------\n",
    "## Non-zero flux test\n",
    "\n",
    "When using the function `add_pathway`, all the new reaction will be test for\n",
    "their capability to carry non-zero fluxes. Additionally, users can run the\n",
    "function for single reactions using `test_non_zero_flux`.\n",
    "\n",
    "In this test, CobraMod verifies that the metabolites of the reactions can be \n",
    "turned over in the model. In the case that a reaction fail, auxiliary sink \n",
    "reactions will be added. CobraMod will raise warnings for the users and suggest\n",
    "manual curation. Otherwise, if nothing appears, the test is passed."
   ]
  },
  {
   "cell_type": "code",
   "execution_count": 20,
   "metadata": {
    "id": "qLdm4fR2knC3"
   },
   "outputs": [],
   "source": [
    "from cobramod import test_non_zero_flux\n",
    "\n",
    "test_non_zero_flux(model=test_model, reaction=\"PEPDEPHOS_RXN_c\")"
   ]
  },
  {
   "cell_type": "markdown",
   "metadata": {
    "id": "XMVGghQRW0dt"
   },
   "source": [
    "## Curation process\n",
    "\n",
    "Using the multiple functions from above, CobraMod will download the biochemical\n",
    "information and parse it to create the corresponding COBRApy objects. During\n",
    "this process, every single object will be tested for multiple criteria.\n",
    "\n",
    "1. CobraMod will try to identify if metabolites are included into the model\n",
    "with different names.\n",
    "2. Every time a Metabolite is created, CobraMod will read the metadata\n",
    "of the files and will try to find duplicates in the model.\n",
    "3. If CobraMod encounters large molecules or data with missing properties,\n",
    "users will be warned about them.\n",
    "4. Every time a Reaction is created, CobraMod will check if the reaction is\n",
    "already in the model, to avoid adding duplicates.\n",
    "5. CobraMod will use the COBRApy method `check_mass_balance` and will return\n",
    "warning if imbalances are found.\n",
    "6. This package will always respect the reaction reversibility stated in the\n",
    "biochemical data of the reaction. In case that the reversibility is missing, a\n",
    "warning will be raised.\n",
    "7. When CobraMod adds pathway, every single reaction will undergo through a\n",
    "\"non-zero flux test\". This test will ensure that the added reactions can carry a\n",
    "non-zero flux. In case that a reaction encounter problems, CobraMod will create\n",
    "auxiliary sink reactions and will suggest manual curation steps based on these\n",
    "auxiliary modifications.\n",
    "8. All the information about the download, the creation of every single object,\n",
    "the warnings and exceptions will be written in a log file with the name\n",
    "`debug.log`. This file should help users keep track of the changes of the model."
   ]
  },
  {
   "cell_type": "code",
   "execution_count": 21,
   "metadata": {
    "colab": {
     "base_uri": "https://localhost:8080/"
    },
    "id": "git3aYmj-wK7",
    "outputId": "1a68ae45-4d29-4122-c9fa-d31c68a92ee4"
   },
   "outputs": [
    {
     "name": "stdout",
     "output_type": "stream",
     "text": [
      "2021-07-14 14:48:30,574 INFO Reaction \"PYRUVFORMLY_RXN_c\" passed the non-zero flux test.\r\n",
      "2021-07-14 14:48:30,574 WARNING Auxiliary demand reaction for \"FORMATE_c\" removed.\r\n",
      "2021-07-14 14:48:30,575 INFO Reaction \"PYRUVFORMLY_RXN_c\" added to group \"test_group\".\r\n",
      "2021-07-14 14:48:30,576 INFO Reaction \"FHLMULTI_RXN_c\" was added to model.\r\n",
      "2021-07-14 14:48:30,576 INFO Test to carry non-zero fluxes for \"FHLMULTI_RXN_c\" started\r\n",
      "2021-07-14 14:48:30,577 INFO Reaction \"FHLMULTI_RXN_c\" passed the non-zero flux test.\r\n",
      "2021-07-14 14:48:30,577 WARNING Auxiliary demand reaction for \"HYDROGEN_MOLECULE_c\" removed.\r\n",
      "2021-07-14 14:48:30,577 WARNING Auxiliary sink reaction for \"FORMATE_c\" removed.\r\n",
      "2021-07-14 14:48:30,578 INFO Reaction \"FHLMULTI_RXN_c\" added to group \"test_group\".\r\n",
      "2021-07-14 14:48:30,578 INFO Pathway \"test_group\" added to Model.\r\n",
      "2021-07-14 14:48:30,580 WARNING Auxiliary sink reaction for \"SK_HYDROGEN_MOLECULE_c\" created. Consider removing it and adding the synthesis reactions for the metabolite.\r\n",
      "2021-07-14 14:48:30,589 INFO Data for \"PEPDEPHOS-RXN\" retrieved from \"ECOLI\".\r\n",
      "2021-07-14 14:48:30,589 WARNING Gene-reaction rule for reaction \"PEPDEPHOS-RXN\" set to \"OR\". Please modify it if necessary.\r\n",
      "2021-07-14 14:48:30,598 INFO Data for \"PYRUVFORMLY-RXN\" retrieved from \"ECOLI\".\r\n",
      "2021-07-14 14:48:30,599 WARNING Gene-reaction rule for reaction \"PYRUVFORMLY-RXN\" set to \"OR\". Please modify it if necessary.\r\n",
      "2021-07-14 14:48:30,608 INFO Data for \"FHLMULTI-RXN\" retrieved from \"ECOLI\".\r\n",
      "2021-07-14 14:48:30,609 WARNING Gene-reaction rule for reaction \"FHLMULTI-RXN\" set to \"OR\". Please modify it if necessary.\r\n",
      "2021-07-14 14:48:30,661 INFO Test to carry non-zero fluxes for \"PEPDEPHOS_RXN_c\" started\r\n",
      "2021-07-14 14:48:30,663 INFO Reaction \"PEPDEPHOS_RXN_c\" passed the non-zero flux test.\r\n",
      "2021-07-14 14:48:30,663 WARNING Auxiliary demand reaction for \"PYRUVATE_c\" removed.\r\n"
     ]
    }
   ],
   "source": [
    "!tail debug.log -n 20"
   ]
  },
  {
   "cell_type": "markdown",
   "metadata": {
    "id": "lndble907408"
   },
   "source": [
    "## Converting Group back to Pathway\n",
    "\n",
    "When reloading a model or the new model/copy will convert the\n",
    "`Pathway` to `Group`. To convert it back\n",
    "we only need the function [cobramod.model_convert()](\n",
    "module/cobramod/core/pathway/index.html#model_convert)"
   ]
  },
  {
   "cell_type": "code",
   "execution_count": 22,
   "metadata": {
    "colab": {
     "base_uri": "https://localhost:8080/"
    },
    "id": "wu5oKFEe7408",
    "outputId": "f3decee8-2b4f-4d31-9c44-a639130306a7"
   },
   "outputs": [
    {
     "data": {
      "text/plain": [
       "cobramod.core.pathway.Pathway"
      ]
     },
     "execution_count": 22,
     "metadata": {},
     "output_type": "execute_result"
    }
   ],
   "source": [
    "from cobramod import model_convert\n",
    "from cobramod.test import textbook_biocyc\n",
    "from cobra.core.group import Group\n",
    "\n",
    "new_model = textbook_biocyc.copy()\n",
    "test_group = Group(id=\"test\")\n",
    "for reaction in (\"GLCpts\", \"G6PDH2r\", \"PGL\", \"GND\"):\n",
    "    test_group.add_members([new_model.reactions.get_by_id(reaction)])\n",
    "new_model.add_groups([test_group])\n",
    "\n",
    "model_convert(model=new_model)\n",
    "type(new_model.groups[-1])"
   ]
  },
  {
   "cell_type": "markdown",
   "metadata": {
    "id": "tjphNJOQF7B3"
   },
   "source": [
    "## Databases\n",
    "\n",
    "CobraMod supports all databases from the BioCyc collection, the KEGG database and the BiGG Models repository. Users can load `cobramod.available_databases` and print its message."
   ]
  },
  {
   "cell_type": "code",
   "execution_count": 23,
   "metadata": {
    "colab": {
     "base_uri": "https://localhost:8080/"
    },
    "id": "FKwfLSf07408",
    "outputId": "995ad1b8-bfa4-4df3-fe1f-ad011d852715"
   },
   "outputs": [
    {
     "name": "stdout",
     "output_type": "stream",
     "text": [
      "Biocyc includes around 18.000 sub-databases. The complete list can be found in 'https://biocyc.org/biocyc-pgdb-list.shtml'. Please use the corresponding object identifier. e.g: 'ARA', 'GCF_000963925'\n"
     ]
    },
    {
     "data": {
      "text/plain": [
       "['META', 'PLANT', 'KEGG', 'BIGG']"
      ]
     },
     "execution_count": 23,
     "metadata": {},
     "output_type": "execute_result"
    }
   ],
   "source": [
    "from cobramod import available_databases\n",
    "                                         \n",
    "available_databases"
   ]
  }
 ],
 "metadata": {
  "colab": {
   "collapsed_sections": [
    "CjC8UWKk740t"
   ],
   "name": "how_to.ipynb",
   "provenance": []
  },
  "kernelspec": {
   "display_name": "Python 3 (ipykernel)",
   "language": "python",
   "name": "python3"
  },
  "language_info": {
   "codemirror_mode": {
    "name": "ipython",
    "version": 3
   },
   "file_extension": ".py",
   "mimetype": "text/x-python",
   "name": "python",
   "nbconvert_exporter": "python",
   "pygments_lexer": "ipython3",
   "version": "3.7.4"
  },
  "widgets": {
   "application/vnd.jupyter.widget-state+json": {
    "state": {
     "0328abc8613a4ad8bbd20003b7bbffe6": {
      "model_module": "escher",
      "model_module_version": "1.7.3",
      "model_name": "EscherMapModel",
      "state": {
       "_loaded_map_json": "[{\"map_name\": \"\", \"map_id\": \"\", \"map_description\": \"\", \"homepage\": \"\", \"schema\": \"https://escher.github.io/escher/jsonschema/1-0-0#\"}, {\"reactions\": {\"0\": {\"name\": \"PEPDEPHOS_RXN_c\", \"bigg_id\": \"PEPDEPHOS_RXN_c\", \"reversibility\": true, \"label_x\": 265.0, \"label_y\": 325.0, \"gene_reaction_rule\": \"\", \"genes\": [], \"segments\": {\"0\": {\"from_node_id\": \"5\", \"to_node_id\": \"6\", \"b1\": null, \"b2\": null}, \"1\": {\"from_node_id\": \"7\", \"to_node_id\": \"6\", \"b1\": null, \"b2\": null}, \"2\": {\"from_node_id\": \"0\", \"to_node_id\": \"5\", \"b1\": null, \"b2\": null}, \"3\": {\"from_node_id\": \"1\", \"to_node_id\": \"5\", \"b1\": null, \"b2\": null}, \"4\": {\"from_node_id\": \"2\", \"to_node_id\": \"7\", \"b1\": null, \"b2\": null}, \"5\": {\"from_node_id\": \"3\", \"to_node_id\": \"7\", \"b1\": null, \"b2\": null}, \"6\": {\"from_node_id\": \"4\", \"to_node_id\": \"7\", \"b1\": null, \"b2\": null}}, \"metabolites\": [{\"bigg_id\": \"ATP_c\", \"coefficient\": -1.0}, {\"bigg_id\": \"PYRUVATE_c\", \"coefficient\": -1.0}, {\"bigg_id\": \"ADP_c\", \"coefficient\": 1.0}, {\"bigg_id\": \"PHOSPHO_ENOL_PYRUVATE_c\", \"coefficient\": 1.0}, {\"bigg_id\": \"PROTON_c\", \"coefficient\": 1.0}]}, \"1\": {\"name\": \"PYRUVFORMLY_RXN_c\", \"bigg_id\": \"PYRUVFORMLY_RXN_c\", \"reversibility\": true, \"label_x\": 265.0, \"label_y\": 975.0, \"gene_reaction_rule\": \"\", \"genes\": [], \"segments\": {\"7\": {\"from_node_id\": \"12\", \"to_node_id\": \"13\", \"b1\": null, \"b2\": null}, \"8\": {\"from_node_id\": \"14\", \"to_node_id\": \"13\", \"b1\": null, \"b2\": null}, \"9\": {\"from_node_id\": \"8\", \"to_node_id\": \"12\", \"b1\": null, \"b2\": null}, \"10\": {\"from_node_id\": \"9\", \"to_node_id\": \"12\", \"b1\": null, \"b2\": null}, \"11\": {\"from_node_id\": \"10\", \"to_node_id\": \"14\", \"b1\": null, \"b2\": null}, \"12\": {\"from_node_id\": \"11\", \"to_node_id\": \"14\", \"b1\": null, \"b2\": null}}, \"metabolites\": [{\"bigg_id\": \"ACETYL_COA_c\", \"coefficient\": -1.0}, {\"bigg_id\": \"FORMATE_c\", \"coefficient\": -1.0}, {\"bigg_id\": \"CO_A_c\", \"coefficient\": 1.0}, {\"bigg_id\": \"PYRUVATE_c\", \"coefficient\": 1.0}]}, \"2\": {\"name\": \"FHLMULTI_RXN_c\", \"bigg_id\": \"FHLMULTI_RXN_c\", \"reversibility\": true, \"label_x\": 265.0, \"label_y\": 1625.0, \"gene_reaction_rule\": \"\", \"genes\": [], \"segments\": {\"13\": {\"from_node_id\": \"19\", \"to_node_id\": \"20\", \"b1\": null, \"b2\": null}, \"14\": {\"from_node_id\": \"21\", \"to_node_id\": \"20\", \"b1\": null, \"b2\": null}, \"15\": {\"from_node_id\": \"15\", \"to_node_id\": \"19\", \"b1\": null, \"b2\": null}, \"16\": {\"from_node_id\": \"16\", \"to_node_id\": \"19\", \"b1\": null, \"b2\": null}, \"17\": {\"from_node_id\": \"17\", \"to_node_id\": \"21\", \"b1\": null, \"b2\": null}, \"18\": {\"from_node_id\": \"18\", \"to_node_id\": \"21\", \"b1\": null, \"b2\": null}}, \"metabolites\": [{\"bigg_id\": \"FORMATE_c\", \"coefficient\": -1.0}, {\"bigg_id\": \"PROTON_c\", \"coefficient\": -1.0}, {\"bigg_id\": \"CARBON_DIOXIDE_c\", \"coefficient\": 1.0}, {\"bigg_id\": \"HYDROGEN_MOLECULE_c\", \"coefficient\": 1.0}]}}, \"nodes\": {\"0\": {\"node_type\": \"metabolite\", \"x\": 150.0, \"y\": 30.0, \"label_x\": 160.0, \"label_y\": 20.0, \"bigg_id\": \"ATP_c\", \"name\": \"ATP_c\", \"node_is_primary\": false}, \"1\": {\"node_type\": \"metabolite\", \"x\": 300.0, \"y\": 30.0, \"label_x\": 310.0, \"label_y\": 20.0, \"bigg_id\": \"PYRUVATE_c\", \"name\": \"PYRUVATE_c\", \"node_is_primary\": false}, \"2\": {\"node_type\": \"metabolite\", \"x\": 112.5, \"y\": 550.0, \"label_x\": 122.5, \"label_y\": 580.0, \"bigg_id\": \"ADP_c\", \"name\": \"ADP_c\", \"node_is_primary\": false}, \"3\": {\"node_type\": \"metabolite\", \"x\": 225.0, \"y\": 550.0, \"label_x\": 235.0, \"label_y\": 580.0, \"bigg_id\": \"PHOSPHO_ENOL_PYRUVATE_c\", \"name\": \"PHOSPHO_ENOL_PYRUVATE_c\", \"node_is_primary\": false}, \"4\": {\"node_type\": \"metabolite\", \"x\": 337.5, \"y\": 550.0, \"label_x\": 347.5, \"label_y\": 580.0, \"bigg_id\": \"PROTON_c\", \"name\": \"PROTON_c\", \"node_is_primary\": false}, \"5\": {\"node_type\": \"multimarker\", \"x\": 225.0, \"y\": 305.0}, \"6\": {\"node_type\": \"midmarker\", \"x\": 225.0, \"y\": 325.0}, \"7\": {\"node_type\": \"multimarker\", \"x\": 225.0, \"y\": 345.0}, \"8\": {\"node_type\": \"metabolite\", \"x\": 150.0, \"y\": 680.0, \"label_x\": 160.0, \"label_y\": 670.0, \"bigg_id\": \"ACETYL_COA_c\", \"name\": \"ACETYL_COA_c\", \"node_is_primary\": false}, \"9\": {\"node_type\": \"metabolite\", \"x\": 300.0, \"y\": 680.0, \"label_x\": 310.0, \"label_y\": 670.0, \"bigg_id\": \"FORMATE_c\", \"name\": \"FORMATE_c\", \"node_is_primary\": false}, \"10\": {\"node_type\": \"metabolite\", \"x\": 150.0, \"y\": 1200.0, \"label_x\": 160.0, \"label_y\": 1230.0, \"bigg_id\": \"CO_A_c\", \"name\": \"CO_A_c\", \"node_is_primary\": false}, \"11\": {\"node_type\": \"metabolite\", \"x\": 300.0, \"y\": 1200.0, \"label_x\": 310.0, \"label_y\": 1230.0, \"bigg_id\": \"PYRUVATE_c\", \"name\": \"PYRUVATE_c\", \"node_is_primary\": false}, \"12\": {\"node_type\": \"multimarker\", \"x\": 225.0, \"y\": 955.0}, \"13\": {\"node_type\": \"midmarker\", \"x\": 225.0, \"y\": 975.0}, \"14\": {\"node_type\": \"multimarker\", \"x\": 225.0, \"y\": 995.0}, \"15\": {\"node_type\": \"metabolite\", \"x\": 150.0, \"y\": 1330.0, \"label_x\": 160.0, \"label_y\": 1320.0, \"bigg_id\": \"FORMATE_c\", \"name\": \"FORMATE_c\", \"node_is_primary\": false}, \"16\": {\"node_type\": \"metabolite\", \"x\": 300.0, \"y\": 1330.0, \"label_x\": 310.0, \"label_y\": 1320.0, \"bigg_id\": \"PROTON_c\", \"name\": \"PROTON_c\", \"node_is_primary\": false}, \"17\": {\"node_type\": \"metabolite\", \"x\": 150.0, \"y\": 1850.0, \"label_x\": 160.0, \"label_y\": 1880.0, \"bigg_id\": \"CARBON_DIOXIDE_c\", \"name\": \"CARBON_DIOXIDE_c\", \"node_is_primary\": false}, \"18\": {\"node_type\": \"metabolite\", \"x\": 300.0, \"y\": 1850.0, \"label_x\": 310.0, \"label_y\": 1880.0, \"bigg_id\": \"HYDROGEN_MOLECULE_c\", \"name\": \"HYDROGEN_MOLECULE_c\", \"node_is_primary\": false}, \"19\": {\"node_type\": \"multimarker\", \"x\": 225.0, \"y\": 1605.0}, \"20\": {\"node_type\": \"midmarker\", \"x\": 225.0, \"y\": 1625.0}, \"21\": {\"node_type\": \"multimarker\", \"x\": 225.0, \"y\": 1645.0}}, \"text_labels\": {}, \"canvas\": {\"x\": 0, \"y\": 0, \"width\": 450, \"height\": 1950}}]",
       "_loaded_model_json": null,
       "allow_building_duplicate_reactions": false,
       "and_method_in_gene_reaction_rule": "mean",
       "canvas_size_and_loc": null,
       "cofactors": [
        "atp",
        "adp",
        "nad",
        "nadh",
        "nadp",
        "nadph",
        "gtp",
        "gdp",
        "h",
        "coa",
        "ump",
        "h2o",
        "ppi"
       ],
       "disabled_buttons": [
        "Clear gene data",
        "Clear metabolite data"
       ],
       "embedded_css": null,
       "enable_editing": true,
       "enable_keys": false,
       "enable_keys_with_tooltip": true,
       "enable_search": true,
       "enable_tooltips": false,
       "full_screen_button": {
        "enable_editing": true,
        "enable_keys": true,
        "enable_tooltips": [
         "label"
        ],
        "menu": "all",
        "scroll_behavior": "pan"
       },
       "gene_data": null,
       "gene_font_size": 18,
       "height": 500,
       "hide_all_labels": false,
       "hide_secondary_metabolites": false,
       "highlight_missing": false,
       "identifiers_on_map": "bigg_id",
       "layout": "IPY_MODEL_742b704ea6cc4415ac5ea9d96d9b6891",
       "marker_radius": 5,
       "menu": "all",
       "metabolite_compare_style": "log2_fold",
       "metabolite_data": null,
       "metabolite_no_data_color": "#ffffff",
       "metabolite_no_data_size": 10,
       "metabolite_scale": [
        {
         "color": "#fffaf0",
         "size": 20,
         "type": "min"
        },
        {
         "color": "#f1c470",
         "size": 30,
         "type": "median"
        },
        {
         "color": "#800000",
         "size": 40,
         "type": "max"
        }
       ],
       "metabolite_scale_preset": "WhYlRd",
       "metabolite_styles": [
        "color",
        "size",
        "text"
       ],
       "never_ask_before_quit": false,
       "primary_metabolite_radius": 20,
       "reaction_compare_style": "log2_fold",
       "reaction_data": {
        "FHLMULTI_RXN_c": 0.4,
        "PEPDEPHOS_RXN_c": -2,
        "PYRUVFORMLY_RXN_c": -2
       },
       "reaction_no_data_color": "#dcdcdc",
       "reaction_no_data_size": 8,
       "reaction_scale": [
        {
         "color": "rgb(255,0,0)",
         "type": "value",
         "value": 0.4
        },
        {
         "color": "rgb(220,220,220)",
         "type": "value",
         "value": 0
        },
        {
         "color": "rgb(110,174,110)",
         "type": "value",
         "value": -2
        },
        {
         "color": "rgb(0,128,0)",
         "type": "value",
         "value": -2
        }
       ],
       "reaction_scale_preset": null,
       "reaction_styles": [
        "color",
        "text"
       ],
       "scroll_behavior": "none",
       "secondary_metabolite_radius": 10,
       "semantic_zoom": null,
       "show_gene_reaction_rules": false,
       "starting_reaction": null,
       "use_3d_transform": false,
       "zoom_to_element": null
      }
     },
     "11494c626fde49a2a0a46c6b9910d55b": {
      "model_module": "escher",
      "model_module_version": "1.7.3",
      "model_name": "EscherMapModel",
      "state": {
       "_loaded_map_json": "[{\"map_name\": \"\", \"map_id\": \"\", \"map_description\": \"\", \"homepage\": \"\", \"schema\": \"https://escher.github.io/escher/jsonschema/1-0-0#\"}, {\"reactions\": {\"0\": {\"name\": \"PEPDEPHOS_RXN_c\", \"bigg_id\": \"PEPDEPHOS_RXN_c\", \"reversibility\": true, \"label_x\": 190.0, \"label_y\": 45.0, \"gene_reaction_rule\": \"\", \"genes\": [], \"segments\": {\"0\": {\"from_node_id\": \"5\", \"to_node_id\": \"6\", \"b1\": null, \"b2\": null}, \"1\": {\"from_node_id\": \"7\", \"to_node_id\": \"6\", \"b1\": null, \"b2\": null}, \"2\": {\"from_node_id\": \"0\", \"to_node_id\": \"5\", \"b1\": null, \"b2\": null}, \"3\": {\"from_node_id\": \"1\", \"to_node_id\": \"5\", \"b1\": null, \"b2\": null}, \"4\": {\"from_node_id\": \"2\", \"to_node_id\": \"7\", \"b1\": null, \"b2\": null}, \"5\": {\"from_node_id\": \"3\", \"to_node_id\": \"7\", \"b1\": null, \"b2\": null}, \"6\": {\"from_node_id\": \"4\", \"to_node_id\": \"7\", \"b1\": null, \"b2\": null}}, \"metabolites\": [{\"bigg_id\": \"ATP_c\", \"coefficient\": -1.0}, {\"bigg_id\": \"PYRUVATE_c\", \"coefficient\": -1.0}, {\"bigg_id\": \"ADP_c\", \"coefficient\": 1.0}, {\"bigg_id\": \"PHOSPHO_ENOL_PYRUVATE_c\", \"coefficient\": 1.0}, {\"bigg_id\": \"PROTON_c\", \"coefficient\": 1.0}]}, \"1\": {\"name\": \"PYRUVFORMLY_RXN_c\", \"bigg_id\": \"PYRUVFORMLY_RXN_c\", \"reversibility\": true, \"label_x\": 822.0, \"label_y\": 45.0, \"gene_reaction_rule\": \"\", \"genes\": [], \"segments\": {\"7\": {\"from_node_id\": \"12\", \"to_node_id\": \"13\", \"b1\": null, \"b2\": null}, \"8\": {\"from_node_id\": \"14\", \"to_node_id\": \"13\", \"b1\": null, \"b2\": null}, \"9\": {\"from_node_id\": \"8\", \"to_node_id\": \"12\", \"b1\": null, \"b2\": null}, \"10\": {\"from_node_id\": \"9\", \"to_node_id\": \"12\", \"b1\": null, \"b2\": null}, \"11\": {\"from_node_id\": \"10\", \"to_node_id\": \"14\", \"b1\": null, \"b2\": null}, \"12\": {\"from_node_id\": \"11\", \"to_node_id\": \"14\", \"b1\": null, \"b2\": null}}, \"metabolites\": [{\"bigg_id\": \"ACETYL_COA_c\", \"coefficient\": -1.0}, {\"bigg_id\": \"FORMATE_c\", \"coefficient\": -1.0}, {\"bigg_id\": \"CO_A_c\", \"coefficient\": 1.0}, {\"bigg_id\": \"PYRUVATE_c\", \"coefficient\": 1.0}]}, \"2\": {\"name\": \"FHLMULTI_RXN_c\", \"bigg_id\": \"FHLMULTI_RXN_c\", \"reversibility\": true, \"label_x\": 1499.0, \"label_y\": 45.0, \"gene_reaction_rule\": \"\", \"genes\": [], \"segments\": {\"13\": {\"from_node_id\": \"19\", \"to_node_id\": \"20\", \"b1\": null, \"b2\": null}, \"14\": {\"from_node_id\": \"21\", \"to_node_id\": \"20\", \"b1\": null, \"b2\": null}, \"15\": {\"from_node_id\": \"15\", \"to_node_id\": \"19\", \"b1\": null, \"b2\": null}, \"16\": {\"from_node_id\": \"16\", \"to_node_id\": \"19\", \"b1\": null, \"b2\": null}, \"17\": {\"from_node_id\": \"17\", \"to_node_id\": \"21\", \"b1\": null, \"b2\": null}, \"18\": {\"from_node_id\": \"18\", \"to_node_id\": \"21\", \"b1\": null, \"b2\": null}}, \"metabolites\": [{\"bigg_id\": \"FORMATE_c\", \"coefficient\": -1.0}, {\"bigg_id\": \"PROTON_c\", \"coefficient\": -1.0}, {\"bigg_id\": \"CARBON_DIOXIDE_c\", \"coefficient\": 1.0}, {\"bigg_id\": \"HYDROGEN_MOLECULE_c\", \"coefficient\": 1.0}]}}, \"nodes\": {\"0\": {\"node_type\": \"metabolite\", \"x\": 30.0, \"y\": 150.0, \"label_x\": 0.0, \"label_y\": 130.0, \"bigg_id\": \"ATP_c\", \"name\": \"ATP_c\", \"node_is_primary\": false}, \"1\": {\"node_type\": \"metabolite\", \"x\": 30.0, \"y\": 300.0, \"label_x\": 0.0, \"label_y\": 280.0, \"bigg_id\": \"PYRUVATE_c\", \"name\": \"PYRUVATE_c\", \"node_is_primary\": false}, \"2\": {\"node_type\": \"metabolite\", \"x\": 550.0, \"y\": 112.5, \"label_x\": 520.0, \"label_y\": 92.5, \"bigg_id\": \"ADP_c\", \"name\": \"ADP_c\", \"node_is_primary\": false}, \"3\": {\"node_type\": \"metabolite\", \"x\": 550.0, \"y\": 225.0, \"label_x\": 520.0, \"label_y\": 205.0, \"bigg_id\": \"PHOSPHO_ENOL_PYRUVATE_c\", \"name\": \"PHOSPHO_ENOL_PYRUVATE_c\", \"node_is_primary\": false}, \"4\": {\"node_type\": \"metabolite\", \"x\": 550.0, \"y\": 337.5, \"label_x\": 520.0, \"label_y\": 317.5, \"bigg_id\": \"PROTON_c\", \"name\": \"PROTON_c\", \"node_is_primary\": false}, \"5\": {\"node_type\": \"multimarker\", \"x\": 335.0, \"y\": 225.0}, \"6\": {\"node_type\": \"midmarker\", \"x\": 355.0, \"y\": 225.0}, \"7\": {\"node_type\": \"multimarker\", \"x\": 375.0, \"y\": 225.0}, \"8\": {\"node_type\": \"metabolite\", \"x\": 680.0, \"y\": 150.0, \"label_x\": 650.0, \"label_y\": 130.0, \"bigg_id\": \"ACETYL_COA_c\", \"name\": \"ACETYL_COA_c\", \"node_is_primary\": false}, \"9\": {\"node_type\": \"metabolite\", \"x\": 680.0, \"y\": 300.0, \"label_x\": 650.0, \"label_y\": 280.0, \"bigg_id\": \"FORMATE_c\", \"name\": \"FORMATE_c\", \"node_is_primary\": false}, \"10\": {\"node_type\": \"metabolite\", \"x\": 1200.0, \"y\": 150.0, \"label_x\": 1170.0, \"label_y\": 130.0, \"bigg_id\": \"CO_A_c\", \"name\": \"CO_A_c\", \"node_is_primary\": false}, \"11\": {\"node_type\": \"metabolite\", \"x\": 1200.0, \"y\": 300.0, \"label_x\": 1170.0, \"label_y\": 280.0, \"bigg_id\": \"PYRUVATE_c\", \"name\": \"PYRUVATE_c\", \"node_is_primary\": false}, \"12\": {\"node_type\": \"multimarker\", \"x\": 985.0, \"y\": 225.0}, \"13\": {\"node_type\": \"midmarker\", \"x\": 1005.0, \"y\": 225.0}, \"14\": {\"node_type\": \"multimarker\", \"x\": 1025.0, \"y\": 225.0}, \"15\": {\"node_type\": \"metabolite\", \"x\": 1330.0, \"y\": 150.0, \"label_x\": 1300.0, \"label_y\": 130.0, \"bigg_id\": \"FORMATE_c\", \"name\": \"FORMATE_c\", \"node_is_primary\": false}, \"16\": {\"node_type\": \"metabolite\", \"x\": 1330.0, \"y\": 300.0, \"label_x\": 1300.0, \"label_y\": 280.0, \"bigg_id\": \"PROTON_c\", \"name\": \"PROTON_c\", \"node_is_primary\": false}, \"17\": {\"node_type\": \"metabolite\", \"x\": 1850.0, \"y\": 150.0, \"label_x\": 1820.0, \"label_y\": 130.0, \"bigg_id\": \"CARBON_DIOXIDE_c\", \"name\": \"CARBON_DIOXIDE_c\", \"node_is_primary\": false}, \"18\": {\"node_type\": \"metabolite\", \"x\": 1850.0, \"y\": 300.0, \"label_x\": 1820.0, \"label_y\": 280.0, \"bigg_id\": \"HYDROGEN_MOLECULE_c\", \"name\": \"HYDROGEN_MOLECULE_c\", \"node_is_primary\": false}, \"19\": {\"node_type\": \"multimarker\", \"x\": 1635.0, \"y\": 225.0}, \"20\": {\"node_type\": \"midmarker\", \"x\": 1655.0, \"y\": 225.0}, \"21\": {\"node_type\": \"multimarker\", \"x\": 1675.0, \"y\": 225.0}}, \"text_labels\": {}, \"canvas\": {\"x\": 0, \"y\": 0, \"width\": 1950, \"height\": 450}}]",
       "_loaded_model_json": null,
       "allow_building_duplicate_reactions": false,
       "and_method_in_gene_reaction_rule": "mean",
       "canvas_size_and_loc": null,
       "cofactors": [
        "atp",
        "adp",
        "nad",
        "nadh",
        "nadp",
        "nadph",
        "gtp",
        "gdp",
        "h",
        "coa",
        "ump",
        "h2o",
        "ppi"
       ],
       "disabled_buttons": [
        "Clear reaction data",
        "Clear gene data",
        "Clear metabolite data"
       ],
       "embedded_css": null,
       "enable_editing": true,
       "enable_keys": false,
       "enable_keys_with_tooltip": true,
       "enable_search": true,
       "enable_tooltips": false,
       "full_screen_button": {
        "enable_editing": true,
        "enable_keys": true,
        "enable_tooltips": [
         "label"
        ],
        "menu": "all",
        "scroll_behavior": "pan"
       },
       "gene_data": null,
       "gene_font_size": 18,
       "height": 500,
       "hide_all_labels": false,
       "hide_secondary_metabolites": false,
       "highlight_missing": false,
       "identifiers_on_map": "bigg_id",
       "layout": "IPY_MODEL_341dac06033c4fdfb659b3b9f68c4441",
       "marker_radius": 5,
       "menu": "all",
       "metabolite_compare_style": "log2_fold",
       "metabolite_data": null,
       "metabolite_no_data_color": "#ffffff",
       "metabolite_no_data_size": 10,
       "metabolite_scale": [
        {
         "color": "#fffaf0",
         "size": 20,
         "type": "min"
        },
        {
         "color": "#f1c470",
         "size": 30,
         "type": "median"
        },
        {
         "color": "#800000",
         "size": 40,
         "type": "max"
        }
       ],
       "metabolite_scale_preset": "WhYlRd",
       "metabolite_styles": [
        "color",
        "size",
        "text"
       ],
       "never_ask_before_quit": false,
       "primary_metabolite_radius": 20,
       "reaction_compare_style": "log2_fold",
       "reaction_data": null,
       "reaction_no_data_color": "#dcdcdc",
       "reaction_no_data_size": 8,
       "reaction_scale": {},
       "reaction_scale_preset": null,
       "reaction_styles": [
        "color",
        "text"
       ],
       "scroll_behavior": "none",
       "secondary_metabolite_radius": 10,
       "semantic_zoom": null,
       "show_gene_reaction_rules": false,
       "starting_reaction": null,
       "use_3d_transform": false,
       "zoom_to_element": null
      }
     },
     "18e0e463dced4983ae8a42d8e9661243": {
      "model_module": "escher",
      "model_module_version": "1.7.3",
      "model_name": "EscherMapModel",
      "state": {
       "_loaded_map_json": "[{\"map_name\": \"\", \"map_id\": \"\", \"map_description\": \"\", \"homepage\": \"\", \"schema\": \"https://escher.github.io/escher/jsonschema/1-0-0#\"}, {\"reactions\": {\"0\": {\"name\": \"PEPDEPHOS_RXN_c\", \"bigg_id\": \"PEPDEPHOS_RXN_c\", \"reversibility\": true, \"label_x\": 265.0, \"label_y\": 325.0, \"gene_reaction_rule\": \"\", \"genes\": [], \"segments\": {\"0\": {\"from_node_id\": \"5\", \"to_node_id\": \"6\", \"b1\": null, \"b2\": null}, \"1\": {\"from_node_id\": \"7\", \"to_node_id\": \"6\", \"b1\": null, \"b2\": null}, \"2\": {\"from_node_id\": \"0\", \"to_node_id\": \"5\", \"b1\": null, \"b2\": null}, \"3\": {\"from_node_id\": \"1\", \"to_node_id\": \"5\", \"b1\": null, \"b2\": null}, \"4\": {\"from_node_id\": \"2\", \"to_node_id\": \"7\", \"b1\": null, \"b2\": null}, \"5\": {\"from_node_id\": \"3\", \"to_node_id\": \"7\", \"b1\": null, \"b2\": null}, \"6\": {\"from_node_id\": \"4\", \"to_node_id\": \"7\", \"b1\": null, \"b2\": null}}, \"metabolites\": [{\"bigg_id\": \"ATP_c\", \"coefficient\": -1.0}, {\"bigg_id\": \"PYRUVATE_c\", \"coefficient\": -1.0}, {\"bigg_id\": \"ADP_c\", \"coefficient\": 1.0}, {\"bigg_id\": \"PHOSPHO_ENOL_PYRUVATE_c\", \"coefficient\": 1.0}, {\"bigg_id\": \"PROTON_c\", \"coefficient\": 1.0}]}, \"1\": {\"name\": \"PYRUVFORMLY_RXN_c\", \"bigg_id\": \"PYRUVFORMLY_RXN_c\", \"reversibility\": true, \"label_x\": 265.0, \"label_y\": 975.0, \"gene_reaction_rule\": \"\", \"genes\": [], \"segments\": {\"7\": {\"from_node_id\": \"12\", \"to_node_id\": \"13\", \"b1\": null, \"b2\": null}, \"8\": {\"from_node_id\": \"14\", \"to_node_id\": \"13\", \"b1\": null, \"b2\": null}, \"9\": {\"from_node_id\": \"8\", \"to_node_id\": \"12\", \"b1\": null, \"b2\": null}, \"10\": {\"from_node_id\": \"9\", \"to_node_id\": \"12\", \"b1\": null, \"b2\": null}, \"11\": {\"from_node_id\": \"10\", \"to_node_id\": \"14\", \"b1\": null, \"b2\": null}, \"12\": {\"from_node_id\": \"11\", \"to_node_id\": \"14\", \"b1\": null, \"b2\": null}}, \"metabolites\": [{\"bigg_id\": \"ACETYL_COA_c\", \"coefficient\": -1.0}, {\"bigg_id\": \"FORMATE_c\", \"coefficient\": -1.0}, {\"bigg_id\": \"CO_A_c\", \"coefficient\": 1.0}, {\"bigg_id\": \"PYRUVATE_c\", \"coefficient\": 1.0}]}, \"2\": {\"name\": \"FHLMULTI_RXN_c\", \"bigg_id\": \"FHLMULTI_RXN_c\", \"reversibility\": true, \"label_x\": 265.0, \"label_y\": 1625.0, \"gene_reaction_rule\": \"\", \"genes\": [], \"segments\": {\"13\": {\"from_node_id\": \"19\", \"to_node_id\": \"20\", \"b1\": null, \"b2\": null}, \"14\": {\"from_node_id\": \"21\", \"to_node_id\": \"20\", \"b1\": null, \"b2\": null}, \"15\": {\"from_node_id\": \"15\", \"to_node_id\": \"19\", \"b1\": null, \"b2\": null}, \"16\": {\"from_node_id\": \"16\", \"to_node_id\": \"19\", \"b1\": null, \"b2\": null}, \"17\": {\"from_node_id\": \"17\", \"to_node_id\": \"21\", \"b1\": null, \"b2\": null}, \"18\": {\"from_node_id\": \"18\", \"to_node_id\": \"21\", \"b1\": null, \"b2\": null}}, \"metabolites\": [{\"bigg_id\": \"FORMATE_c\", \"coefficient\": -1.0}, {\"bigg_id\": \"PROTON_c\", \"coefficient\": -1.0}, {\"bigg_id\": \"CARBON_DIOXIDE_c\", \"coefficient\": 1.0}, {\"bigg_id\": \"HYDROGEN_MOLECULE_c\", \"coefficient\": 1.0}]}}, \"nodes\": {\"0\": {\"node_type\": \"metabolite\", \"x\": 150.0, \"y\": 30.0, \"label_x\": 160.0, \"label_y\": 20.0, \"bigg_id\": \"ATP_c\", \"name\": \"ATP_c\", \"node_is_primary\": false}, \"1\": {\"node_type\": \"metabolite\", \"x\": 300.0, \"y\": 30.0, \"label_x\": 310.0, \"label_y\": 20.0, \"bigg_id\": \"PYRUVATE_c\", \"name\": \"PYRUVATE_c\", \"node_is_primary\": false}, \"2\": {\"node_type\": \"metabolite\", \"x\": 112.5, \"y\": 550.0, \"label_x\": 122.5, \"label_y\": 580.0, \"bigg_id\": \"ADP_c\", \"name\": \"ADP_c\", \"node_is_primary\": false}, \"3\": {\"node_type\": \"metabolite\", \"x\": 225.0, \"y\": 550.0, \"label_x\": 235.0, \"label_y\": 580.0, \"bigg_id\": \"PHOSPHO_ENOL_PYRUVATE_c\", \"name\": \"PHOSPHO_ENOL_PYRUVATE_c\", \"node_is_primary\": false}, \"4\": {\"node_type\": \"metabolite\", \"x\": 337.5, \"y\": 550.0, \"label_x\": 347.5, \"label_y\": 580.0, \"bigg_id\": \"PROTON_c\", \"name\": \"PROTON_c\", \"node_is_primary\": false}, \"5\": {\"node_type\": \"multimarker\", \"x\": 225.0, \"y\": 305.0}, \"6\": {\"node_type\": \"midmarker\", \"x\": 225.0, \"y\": 325.0}, \"7\": {\"node_type\": \"multimarker\", \"x\": 225.0, \"y\": 345.0}, \"8\": {\"node_type\": \"metabolite\", \"x\": 150.0, \"y\": 680.0, \"label_x\": 160.0, \"label_y\": 670.0, \"bigg_id\": \"ACETYL_COA_c\", \"name\": \"ACETYL_COA_c\", \"node_is_primary\": false}, \"9\": {\"node_type\": \"metabolite\", \"x\": 300.0, \"y\": 680.0, \"label_x\": 310.0, \"label_y\": 670.0, \"bigg_id\": \"FORMATE_c\", \"name\": \"FORMATE_c\", \"node_is_primary\": false}, \"10\": {\"node_type\": \"metabolite\", \"x\": 150.0, \"y\": 1200.0, \"label_x\": 160.0, \"label_y\": 1230.0, \"bigg_id\": \"CO_A_c\", \"name\": \"CO_A_c\", \"node_is_primary\": false}, \"11\": {\"node_type\": \"metabolite\", \"x\": 300.0, \"y\": 1200.0, \"label_x\": 310.0, \"label_y\": 1230.0, \"bigg_id\": \"PYRUVATE_c\", \"name\": \"PYRUVATE_c\", \"node_is_primary\": false}, \"12\": {\"node_type\": \"multimarker\", \"x\": 225.0, \"y\": 955.0}, \"13\": {\"node_type\": \"midmarker\", \"x\": 225.0, \"y\": 975.0}, \"14\": {\"node_type\": \"multimarker\", \"x\": 225.0, \"y\": 995.0}, \"15\": {\"node_type\": \"metabolite\", \"x\": 150.0, \"y\": 1330.0, \"label_x\": 160.0, \"label_y\": 1320.0, \"bigg_id\": \"FORMATE_c\", \"name\": \"FORMATE_c\", \"node_is_primary\": false}, \"16\": {\"node_type\": \"metabolite\", \"x\": 300.0, \"y\": 1330.0, \"label_x\": 310.0, \"label_y\": 1320.0, \"bigg_id\": \"PROTON_c\", \"name\": \"PROTON_c\", \"node_is_primary\": false}, \"17\": {\"node_type\": \"metabolite\", \"x\": 150.0, \"y\": 1850.0, \"label_x\": 160.0, \"label_y\": 1880.0, \"bigg_id\": \"CARBON_DIOXIDE_c\", \"name\": \"CARBON_DIOXIDE_c\", \"node_is_primary\": false}, \"18\": {\"node_type\": \"metabolite\", \"x\": 300.0, \"y\": 1850.0, \"label_x\": 310.0, \"label_y\": 1880.0, \"bigg_id\": \"HYDROGEN_MOLECULE_c\", \"name\": \"HYDROGEN_MOLECULE_c\", \"node_is_primary\": false}, \"19\": {\"node_type\": \"multimarker\", \"x\": 225.0, \"y\": 1605.0}, \"20\": {\"node_type\": \"midmarker\", \"x\": 225.0, \"y\": 1625.0}, \"21\": {\"node_type\": \"multimarker\", \"x\": 225.0, \"y\": 1645.0}}, \"text_labels\": {}, \"canvas\": {\"x\": 0, \"y\": 0, \"width\": 450, \"height\": 1950}}]",
       "_loaded_model_json": null,
       "allow_building_duplicate_reactions": false,
       "and_method_in_gene_reaction_rule": "mean",
       "canvas_size_and_loc": null,
       "cofactors": [
        "atp",
        "adp",
        "nad",
        "nadh",
        "nadp",
        "nadph",
        "gtp",
        "gdp",
        "h",
        "coa",
        "ump",
        "h2o",
        "ppi"
       ],
       "disabled_buttons": [
        "Clear gene data",
        "Clear metabolite data"
       ],
       "embedded_css": null,
       "enable_editing": true,
       "enable_keys": false,
       "enable_keys_with_tooltip": true,
       "enable_search": true,
       "enable_tooltips": false,
       "full_screen_button": {
        "enable_editing": true,
        "enable_keys": true,
        "enable_tooltips": [
         "label"
        ],
        "menu": "all",
        "scroll_behavior": "pan"
       },
       "gene_data": null,
       "gene_font_size": 18,
       "height": 500,
       "hide_all_labels": false,
       "hide_secondary_metabolites": false,
       "highlight_missing": false,
       "identifiers_on_map": "bigg_id",
       "layout": "IPY_MODEL_4cc3ebaa0162408d816cd9deac37c81b",
       "marker_radius": 5,
       "menu": "all",
       "metabolite_compare_style": "log2_fold",
       "metabolite_data": null,
       "metabolite_no_data_color": "#ffffff",
       "metabolite_no_data_size": 10,
       "metabolite_scale": [
        {
         "color": "#fffaf0",
         "size": 20,
         "type": "min"
        },
        {
         "color": "#f1c470",
         "size": 30,
         "type": "median"
        },
        {
         "color": "#800000",
         "size": 40,
         "type": "max"
        }
       ],
       "metabolite_scale_preset": "WhYlRd",
       "metabolite_styles": [
        "color",
        "size",
        "text"
       ],
       "never_ask_before_quit": false,
       "primary_metabolite_radius": 20,
       "reaction_compare_style": "log2_fold",
       "reaction_data": {
        "FHLMULTI_RXN_c": 0.4,
        "PEPDEPHOS_RXN_c": -2,
        "PYRUVFORMLY_RXN_c": -2
       },
       "reaction_no_data_color": "#dcdcdc",
       "reaction_no_data_size": 8,
       "reaction_scale": [
        {
         "color": "rgb(255,0,0)",
         "type": "value",
         "value": 0.4
        },
        {
         "color": "rgb(220,220,220)",
         "type": "value",
         "value": 0
        },
        {
         "color": "rgb(110,174,110)",
         "type": "value",
         "value": -2
        },
        {
         "color": "rgb(0,128,0)",
         "type": "value",
         "value": -2
        }
       ],
       "reaction_scale_preset": null,
       "reaction_styles": [
        "color",
        "text"
       ],
       "scroll_behavior": "none",
       "secondary_metabolite_radius": 10,
       "semantic_zoom": null,
       "show_gene_reaction_rules": false,
       "starting_reaction": null,
       "use_3d_transform": false,
       "zoom_to_element": null
      }
     },
     "1aea3c0fe89647879fbb35eef856d6ae": {
      "model_module": "@jupyter-widgets/base",
      "model_module_version": "1.2.0",
      "model_name": "LayoutModel",
      "state": {}
     },
     "1e602ac730d74ca78b3c599cb9545bae": {
      "model_module": "@jupyter-widgets/base",
      "model_module_version": "1.2.0",
      "model_name": "LayoutModel",
      "state": {}
     },
     "2383b9933862498ca278102f173019a9": {
      "model_module": "escher",
      "model_module_version": "1.7.3",
      "model_name": "EscherMapModel",
      "state": {
       "_loaded_map_json": "[{\"map_name\": \"\", \"map_id\": \"\", \"map_description\": \"\", \"homepage\": \"\", \"schema\": \"https://escher.github.io/escher/jsonschema/1-0-0#\"}, {\"reactions\": {\"0\": {\"name\": \"PEPDEPHOS_RXN_c\", \"bigg_id\": \"PEPDEPHOS_RXN_c\", \"reversibility\": true, \"label_x\": 265.0, \"label_y\": 325.0, \"gene_reaction_rule\": \"\", \"genes\": [], \"segments\": {\"0\": {\"from_node_id\": \"5\", \"to_node_id\": \"6\", \"b1\": null, \"b2\": null}, \"1\": {\"from_node_id\": \"7\", \"to_node_id\": \"6\", \"b1\": null, \"b2\": null}, \"2\": {\"from_node_id\": \"0\", \"to_node_id\": \"5\", \"b1\": null, \"b2\": null}, \"3\": {\"from_node_id\": \"1\", \"to_node_id\": \"5\", \"b1\": null, \"b2\": null}, \"4\": {\"from_node_id\": \"2\", \"to_node_id\": \"7\", \"b1\": null, \"b2\": null}, \"5\": {\"from_node_id\": \"3\", \"to_node_id\": \"7\", \"b1\": null, \"b2\": null}, \"6\": {\"from_node_id\": \"4\", \"to_node_id\": \"7\", \"b1\": null, \"b2\": null}}, \"metabolites\": [{\"bigg_id\": \"ATP_c\", \"coefficient\": -1.0}, {\"bigg_id\": \"PYRUVATE_c\", \"coefficient\": -1.0}, {\"bigg_id\": \"ADP_c\", \"coefficient\": 1.0}, {\"bigg_id\": \"PHOSPHO_ENOL_PYRUVATE_c\", \"coefficient\": 1.0}, {\"bigg_id\": \"PROTON_c\", \"coefficient\": 1.0}]}, \"1\": {\"name\": \"PYRUVFORMLY_RXN_c\", \"bigg_id\": \"PYRUVFORMLY_RXN_c\", \"reversibility\": true, \"label_x\": 265.0, \"label_y\": 975.0, \"gene_reaction_rule\": \"\", \"genes\": [], \"segments\": {\"7\": {\"from_node_id\": \"12\", \"to_node_id\": \"13\", \"b1\": null, \"b2\": null}, \"8\": {\"from_node_id\": \"14\", \"to_node_id\": \"13\", \"b1\": null, \"b2\": null}, \"9\": {\"from_node_id\": \"8\", \"to_node_id\": \"12\", \"b1\": null, \"b2\": null}, \"10\": {\"from_node_id\": \"9\", \"to_node_id\": \"12\", \"b1\": null, \"b2\": null}, \"11\": {\"from_node_id\": \"10\", \"to_node_id\": \"14\", \"b1\": null, \"b2\": null}, \"12\": {\"from_node_id\": \"11\", \"to_node_id\": \"14\", \"b1\": null, \"b2\": null}}, \"metabolites\": [{\"bigg_id\": \"ACETYL_COA_c\", \"coefficient\": -1.0}, {\"bigg_id\": \"FORMATE_c\", \"coefficient\": -1.0}, {\"bigg_id\": \"CO_A_c\", \"coefficient\": 1.0}, {\"bigg_id\": \"PYRUVATE_c\", \"coefficient\": 1.0}]}, \"2\": {\"name\": \"FHLMULTI_RXN_c\", \"bigg_id\": \"FHLMULTI_RXN_c\", \"reversibility\": true, \"label_x\": 265.0, \"label_y\": 1625.0, \"gene_reaction_rule\": \"\", \"genes\": [], \"segments\": {\"13\": {\"from_node_id\": \"19\", \"to_node_id\": \"20\", \"b1\": null, \"b2\": null}, \"14\": {\"from_node_id\": \"21\", \"to_node_id\": \"20\", \"b1\": null, \"b2\": null}, \"15\": {\"from_node_id\": \"15\", \"to_node_id\": \"19\", \"b1\": null, \"b2\": null}, \"16\": {\"from_node_id\": \"16\", \"to_node_id\": \"19\", \"b1\": null, \"b2\": null}, \"17\": {\"from_node_id\": \"17\", \"to_node_id\": \"21\", \"b1\": null, \"b2\": null}, \"18\": {\"from_node_id\": \"18\", \"to_node_id\": \"21\", \"b1\": null, \"b2\": null}}, \"metabolites\": [{\"bigg_id\": \"FORMATE_c\", \"coefficient\": -1.0}, {\"bigg_id\": \"PROTON_c\", \"coefficient\": -1.0}, {\"bigg_id\": \"CARBON_DIOXIDE_c\", \"coefficient\": 1.0}, {\"bigg_id\": \"HYDROGEN_MOLECULE_c\", \"coefficient\": 1.0}]}}, \"nodes\": {\"0\": {\"node_type\": \"metabolite\", \"x\": 150.0, \"y\": 30.0, \"label_x\": 160.0, \"label_y\": 20.0, \"bigg_id\": \"ATP_c\", \"name\": \"ATP_c\", \"node_is_primary\": false}, \"1\": {\"node_type\": \"metabolite\", \"x\": 300.0, \"y\": 30.0, \"label_x\": 310.0, \"label_y\": 20.0, \"bigg_id\": \"PYRUVATE_c\", \"name\": \"PYRUVATE_c\", \"node_is_primary\": false}, \"2\": {\"node_type\": \"metabolite\", \"x\": 112.5, \"y\": 550.0, \"label_x\": 122.5, \"label_y\": 580.0, \"bigg_id\": \"ADP_c\", \"name\": \"ADP_c\", \"node_is_primary\": false}, \"3\": {\"node_type\": \"metabolite\", \"x\": 225.0, \"y\": 550.0, \"label_x\": 235.0, \"label_y\": 580.0, \"bigg_id\": \"PHOSPHO_ENOL_PYRUVATE_c\", \"name\": \"PHOSPHO_ENOL_PYRUVATE_c\", \"node_is_primary\": false}, \"4\": {\"node_type\": \"metabolite\", \"x\": 337.5, \"y\": 550.0, \"label_x\": 347.5, \"label_y\": 580.0, \"bigg_id\": \"PROTON_c\", \"name\": \"PROTON_c\", \"node_is_primary\": false}, \"5\": {\"node_type\": \"multimarker\", \"x\": 225.0, \"y\": 305.0}, \"6\": {\"node_type\": \"midmarker\", \"x\": 225.0, \"y\": 325.0}, \"7\": {\"node_type\": \"multimarker\", \"x\": 225.0, \"y\": 345.0}, \"8\": {\"node_type\": \"metabolite\", \"x\": 150.0, \"y\": 680.0, \"label_x\": 160.0, \"label_y\": 670.0, \"bigg_id\": \"ACETYL_COA_c\", \"name\": \"ACETYL_COA_c\", \"node_is_primary\": false}, \"9\": {\"node_type\": \"metabolite\", \"x\": 300.0, \"y\": 680.0, \"label_x\": 310.0, \"label_y\": 670.0, \"bigg_id\": \"FORMATE_c\", \"name\": \"FORMATE_c\", \"node_is_primary\": false}, \"10\": {\"node_type\": \"metabolite\", \"x\": 150.0, \"y\": 1200.0, \"label_x\": 160.0, \"label_y\": 1230.0, \"bigg_id\": \"CO_A_c\", \"name\": \"CO_A_c\", \"node_is_primary\": false}, \"11\": {\"node_type\": \"metabolite\", \"x\": 300.0, \"y\": 1200.0, \"label_x\": 310.0, \"label_y\": 1230.0, \"bigg_id\": \"PYRUVATE_c\", \"name\": \"PYRUVATE_c\", \"node_is_primary\": false}, \"12\": {\"node_type\": \"multimarker\", \"x\": 225.0, \"y\": 955.0}, \"13\": {\"node_type\": \"midmarker\", \"x\": 225.0, \"y\": 975.0}, \"14\": {\"node_type\": \"multimarker\", \"x\": 225.0, \"y\": 995.0}, \"15\": {\"node_type\": \"metabolite\", \"x\": 150.0, \"y\": 1330.0, \"label_x\": 160.0, \"label_y\": 1320.0, \"bigg_id\": \"FORMATE_c\", \"name\": \"FORMATE_c\", \"node_is_primary\": false}, \"16\": {\"node_type\": \"metabolite\", \"x\": 300.0, \"y\": 1330.0, \"label_x\": 310.0, \"label_y\": 1320.0, \"bigg_id\": \"PROTON_c\", \"name\": \"PROTON_c\", \"node_is_primary\": false}, \"17\": {\"node_type\": \"metabolite\", \"x\": 150.0, \"y\": 1850.0, \"label_x\": 160.0, \"label_y\": 1880.0, \"bigg_id\": \"CARBON_DIOXIDE_c\", \"name\": \"CARBON_DIOXIDE_c\", \"node_is_primary\": false}, \"18\": {\"node_type\": \"metabolite\", \"x\": 300.0, \"y\": 1850.0, \"label_x\": 310.0, \"label_y\": 1880.0, \"bigg_id\": \"HYDROGEN_MOLECULE_c\", \"name\": \"HYDROGEN_MOLECULE_c\", \"node_is_primary\": false}, \"19\": {\"node_type\": \"multimarker\", \"x\": 225.0, \"y\": 1605.0}, \"20\": {\"node_type\": \"midmarker\", \"x\": 225.0, \"y\": 1625.0}, \"21\": {\"node_type\": \"multimarker\", \"x\": 225.0, \"y\": 1645.0}}, \"text_labels\": {}, \"canvas\": {\"x\": 0, \"y\": 0, \"width\": 450, \"height\": 1950}}]",
       "_loaded_model_json": null,
       "allow_building_duplicate_reactions": false,
       "and_method_in_gene_reaction_rule": "mean",
       "canvas_size_and_loc": null,
       "cofactors": [
        "atp",
        "adp",
        "nad",
        "nadh",
        "nadp",
        "nadph",
        "gtp",
        "gdp",
        "h",
        "coa",
        "ump",
        "h2o",
        "ppi"
       ],
       "disabled_buttons": [
        "Clear gene data",
        "Clear metabolite data"
       ],
       "embedded_css": null,
       "enable_editing": true,
       "enable_keys": false,
       "enable_keys_with_tooltip": true,
       "enable_search": true,
       "enable_tooltips": false,
       "full_screen_button": {
        "enable_editing": true,
        "enable_keys": true,
        "enable_tooltips": [
         "label"
        ],
        "menu": "all",
        "scroll_behavior": "pan"
       },
       "gene_data": null,
       "gene_font_size": 18,
       "height": 500,
       "hide_all_labels": false,
       "hide_secondary_metabolites": false,
       "highlight_missing": false,
       "identifiers_on_map": "bigg_id",
       "layout": "IPY_MODEL_b52c20488a7f486bb985b4f4db2ae467",
       "marker_radius": 5,
       "menu": "all",
       "metabolite_compare_style": "log2_fold",
       "metabolite_data": null,
       "metabolite_no_data_color": "#ffffff",
       "metabolite_no_data_size": 10,
       "metabolite_scale": [
        {
         "color": "#fffaf0",
         "size": 20,
         "type": "min"
        },
        {
         "color": "#f1c470",
         "size": 30,
         "type": "median"
        },
        {
         "color": "#800000",
         "size": 40,
         "type": "max"
        }
       ],
       "metabolite_scale_preset": "WhYlRd",
       "metabolite_styles": [
        "color",
        "size",
        "text"
       ],
       "never_ask_before_quit": false,
       "primary_metabolite_radius": 20,
       "reaction_compare_style": "log2_fold",
       "reaction_data": {
        "FHLMULTI_RXN_c": 0.4,
        "PEPDEPHOS_RXN_c": -2,
        "PYRUVFORMLY_RXN_c": -2
       },
       "reaction_no_data_color": "#dcdcdc",
       "reaction_no_data_size": 8,
       "reaction_scale": [
        {
         "color": "rgb(255,0,0)",
         "type": "value",
         "value": 0.4
        },
        {
         "color": "rgb(220,220,220)",
         "type": "value",
         "value": 0
        },
        {
         "color": "rgb(110,174,110)",
         "type": "value",
         "value": -2
        },
        {
         "color": "rgb(0,128,0)",
         "type": "value",
         "value": -2
        }
       ],
       "reaction_scale_preset": null,
       "reaction_styles": [
        "color",
        "text"
       ],
       "scroll_behavior": "none",
       "secondary_metabolite_radius": 10,
       "semantic_zoom": null,
       "show_gene_reaction_rules": false,
       "starting_reaction": null,
       "use_3d_transform": false,
       "zoom_to_element": null
      }
     },
     "341dac06033c4fdfb659b3b9f68c4441": {
      "model_module": "@jupyter-widgets/base",
      "model_module_version": "1.2.0",
      "model_name": "LayoutModel",
      "state": {}
     },
     "363168a0031d485b8f7a96d5c4fc16ef": {
      "model_module": "escher",
      "model_module_version": "1.7.3",
      "model_name": "EscherMapModel",
      "state": {
       "_loaded_map_json": "[{\"map_name\": \"\", \"map_id\": \"\", \"map_description\": \"\", \"homepage\": \"\", \"schema\": \"https://escher.github.io/escher/jsonschema/1-0-0#\"}, {\"reactions\": {\"0\": {\"name\": \"PEPDEPHOS_RXN_c\", \"bigg_id\": \"PEPDEPHOS_RXN_c\", \"reversibility\": true, \"label_x\": 190.0, \"label_y\": 45.0, \"gene_reaction_rule\": \"\", \"genes\": [], \"segments\": {\"0\": {\"from_node_id\": \"5\", \"to_node_id\": \"6\", \"b1\": null, \"b2\": null}, \"1\": {\"from_node_id\": \"7\", \"to_node_id\": \"6\", \"b1\": null, \"b2\": null}, \"2\": {\"from_node_id\": \"0\", \"to_node_id\": \"5\", \"b1\": null, \"b2\": null}, \"3\": {\"from_node_id\": \"1\", \"to_node_id\": \"5\", \"b1\": null, \"b2\": null}, \"4\": {\"from_node_id\": \"2\", \"to_node_id\": \"7\", \"b1\": null, \"b2\": null}, \"5\": {\"from_node_id\": \"3\", \"to_node_id\": \"7\", \"b1\": null, \"b2\": null}, \"6\": {\"from_node_id\": \"4\", \"to_node_id\": \"7\", \"b1\": null, \"b2\": null}}, \"metabolites\": [{\"bigg_id\": \"ATP_c\", \"coefficient\": -1.0}, {\"bigg_id\": \"PYRUVATE_c\", \"coefficient\": -1.0}, {\"bigg_id\": \"ADP_c\", \"coefficient\": 1.0}, {\"bigg_id\": \"PHOSPHO_ENOL_PYRUVATE_c\", \"coefficient\": 1.0}, {\"bigg_id\": \"PROTON_c\", \"coefficient\": 1.0}]}, \"1\": {\"name\": \"PYRUVFORMLY_RXN_c\", \"bigg_id\": \"PYRUVFORMLY_RXN_c\", \"reversibility\": true, \"label_x\": 822.0, \"label_y\": 45.0, \"gene_reaction_rule\": \"\", \"genes\": [], \"segments\": {\"7\": {\"from_node_id\": \"12\", \"to_node_id\": \"13\", \"b1\": null, \"b2\": null}, \"8\": {\"from_node_id\": \"14\", \"to_node_id\": \"13\", \"b1\": null, \"b2\": null}, \"9\": {\"from_node_id\": \"8\", \"to_node_id\": \"12\", \"b1\": null, \"b2\": null}, \"10\": {\"from_node_id\": \"9\", \"to_node_id\": \"12\", \"b1\": null, \"b2\": null}, \"11\": {\"from_node_id\": \"10\", \"to_node_id\": \"14\", \"b1\": null, \"b2\": null}, \"12\": {\"from_node_id\": \"11\", \"to_node_id\": \"14\", \"b1\": null, \"b2\": null}}, \"metabolites\": [{\"bigg_id\": \"ACETYL_COA_c\", \"coefficient\": -1.0}, {\"bigg_id\": \"FORMATE_c\", \"coefficient\": -1.0}, {\"bigg_id\": \"CO_A_c\", \"coefficient\": 1.0}, {\"bigg_id\": \"PYRUVATE_c\", \"coefficient\": 1.0}]}, \"2\": {\"name\": \"FHLMULTI_RXN_c\", \"bigg_id\": \"FHLMULTI_RXN_c\", \"reversibility\": true, \"label_x\": 1499.0, \"label_y\": 45.0, \"gene_reaction_rule\": \"\", \"genes\": [], \"segments\": {\"13\": {\"from_node_id\": \"19\", \"to_node_id\": \"20\", \"b1\": null, \"b2\": null}, \"14\": {\"from_node_id\": \"21\", \"to_node_id\": \"20\", \"b1\": null, \"b2\": null}, \"15\": {\"from_node_id\": \"15\", \"to_node_id\": \"19\", \"b1\": null, \"b2\": null}, \"16\": {\"from_node_id\": \"16\", \"to_node_id\": \"19\", \"b1\": null, \"b2\": null}, \"17\": {\"from_node_id\": \"17\", \"to_node_id\": \"21\", \"b1\": null, \"b2\": null}, \"18\": {\"from_node_id\": \"18\", \"to_node_id\": \"21\", \"b1\": null, \"b2\": null}}, \"metabolites\": [{\"bigg_id\": \"FORMATE_c\", \"coefficient\": -1.0}, {\"bigg_id\": \"PROTON_c\", \"coefficient\": -1.0}, {\"bigg_id\": \"CARBON_DIOXIDE_c\", \"coefficient\": 1.0}, {\"bigg_id\": \"HYDROGEN_MOLECULE_c\", \"coefficient\": 1.0}]}}, \"nodes\": {\"0\": {\"node_type\": \"metabolite\", \"x\": 30.0, \"y\": 150.0, \"label_x\": 0.0, \"label_y\": 130.0, \"bigg_id\": \"ATP_c\", \"name\": \"ATP_c\", \"node_is_primary\": false}, \"1\": {\"node_type\": \"metabolite\", \"x\": 30.0, \"y\": 300.0, \"label_x\": 0.0, \"label_y\": 280.0, \"bigg_id\": \"PYRUVATE_c\", \"name\": \"PYRUVATE_c\", \"node_is_primary\": false}, \"2\": {\"node_type\": \"metabolite\", \"x\": 550.0, \"y\": 112.5, \"label_x\": 520.0, \"label_y\": 92.5, \"bigg_id\": \"ADP_c\", \"name\": \"ADP_c\", \"node_is_primary\": false}, \"3\": {\"node_type\": \"metabolite\", \"x\": 550.0, \"y\": 225.0, \"label_x\": 520.0, \"label_y\": 205.0, \"bigg_id\": \"PHOSPHO_ENOL_PYRUVATE_c\", \"name\": \"PHOSPHO_ENOL_PYRUVATE_c\", \"node_is_primary\": false}, \"4\": {\"node_type\": \"metabolite\", \"x\": 550.0, \"y\": 337.5, \"label_x\": 520.0, \"label_y\": 317.5, \"bigg_id\": \"PROTON_c\", \"name\": \"PROTON_c\", \"node_is_primary\": false}, \"5\": {\"node_type\": \"multimarker\", \"x\": 335.0, \"y\": 225.0}, \"6\": {\"node_type\": \"midmarker\", \"x\": 355.0, \"y\": 225.0}, \"7\": {\"node_type\": \"multimarker\", \"x\": 375.0, \"y\": 225.0}, \"8\": {\"node_type\": \"metabolite\", \"x\": 680.0, \"y\": 150.0, \"label_x\": 650.0, \"label_y\": 130.0, \"bigg_id\": \"ACETYL_COA_c\", \"name\": \"ACETYL_COA_c\", \"node_is_primary\": false}, \"9\": {\"node_type\": \"metabolite\", \"x\": 680.0, \"y\": 300.0, \"label_x\": 650.0, \"label_y\": 280.0, \"bigg_id\": \"FORMATE_c\", \"name\": \"FORMATE_c\", \"node_is_primary\": false}, \"10\": {\"node_type\": \"metabolite\", \"x\": 1200.0, \"y\": 150.0, \"label_x\": 1170.0, \"label_y\": 130.0, \"bigg_id\": \"CO_A_c\", \"name\": \"CO_A_c\", \"node_is_primary\": false}, \"11\": {\"node_type\": \"metabolite\", \"x\": 1200.0, \"y\": 300.0, \"label_x\": 1170.0, \"label_y\": 280.0, \"bigg_id\": \"PYRUVATE_c\", \"name\": \"PYRUVATE_c\", \"node_is_primary\": false}, \"12\": {\"node_type\": \"multimarker\", \"x\": 985.0, \"y\": 225.0}, \"13\": {\"node_type\": \"midmarker\", \"x\": 1005.0, \"y\": 225.0}, \"14\": {\"node_type\": \"multimarker\", \"x\": 1025.0, \"y\": 225.0}, \"15\": {\"node_type\": \"metabolite\", \"x\": 1330.0, \"y\": 150.0, \"label_x\": 1300.0, \"label_y\": 130.0, \"bigg_id\": \"FORMATE_c\", \"name\": \"FORMATE_c\", \"node_is_primary\": false}, \"16\": {\"node_type\": \"metabolite\", \"x\": 1330.0, \"y\": 300.0, \"label_x\": 1300.0, \"label_y\": 280.0, \"bigg_id\": \"PROTON_c\", \"name\": \"PROTON_c\", \"node_is_primary\": false}, \"17\": {\"node_type\": \"metabolite\", \"x\": 1850.0, \"y\": 150.0, \"label_x\": 1820.0, \"label_y\": 130.0, \"bigg_id\": \"CARBON_DIOXIDE_c\", \"name\": \"CARBON_DIOXIDE_c\", \"node_is_primary\": false}, \"18\": {\"node_type\": \"metabolite\", \"x\": 1850.0, \"y\": 300.0, \"label_x\": 1820.0, \"label_y\": 280.0, \"bigg_id\": \"HYDROGEN_MOLECULE_c\", \"name\": \"HYDROGEN_MOLECULE_c\", \"node_is_primary\": false}, \"19\": {\"node_type\": \"multimarker\", \"x\": 1635.0, \"y\": 225.0}, \"20\": {\"node_type\": \"midmarker\", \"x\": 1655.0, \"y\": 225.0}, \"21\": {\"node_type\": \"multimarker\", \"x\": 1675.0, \"y\": 225.0}}, \"text_labels\": {}, \"canvas\": {\"x\": 0, \"y\": 0, \"width\": 1950, \"height\": 450}}]",
       "_loaded_model_json": null,
       "allow_building_duplicate_reactions": false,
       "and_method_in_gene_reaction_rule": "mean",
       "canvas_size_and_loc": null,
       "cofactors": [
        "atp",
        "adp",
        "nad",
        "nadh",
        "nadp",
        "nadph",
        "gtp",
        "gdp",
        "h",
        "coa",
        "ump",
        "h2o",
        "ppi"
       ],
       "disabled_buttons": [
        "Clear reaction data",
        "Clear gene data",
        "Clear metabolite data"
       ],
       "embedded_css": null,
       "enable_editing": true,
       "enable_keys": false,
       "enable_keys_with_tooltip": true,
       "enable_search": true,
       "enable_tooltips": false,
       "full_screen_button": {
        "enable_editing": true,
        "enable_keys": true,
        "enable_tooltips": [
         "label"
        ],
        "menu": "all",
        "scroll_behavior": "pan"
       },
       "gene_data": null,
       "gene_font_size": 18,
       "height": 500,
       "hide_all_labels": false,
       "hide_secondary_metabolites": false,
       "highlight_missing": false,
       "identifiers_on_map": "bigg_id",
       "layout": "IPY_MODEL_616b3bb2b5654bbdba02dcef332c04c1",
       "marker_radius": 5,
       "menu": "all",
       "metabolite_compare_style": "log2_fold",
       "metabolite_data": null,
       "metabolite_no_data_color": "#ffffff",
       "metabolite_no_data_size": 10,
       "metabolite_scale": [
        {
         "color": "#fffaf0",
         "size": 20,
         "type": "min"
        },
        {
         "color": "#f1c470",
         "size": 30,
         "type": "median"
        },
        {
         "color": "#800000",
         "size": 40,
         "type": "max"
        }
       ],
       "metabolite_scale_preset": "WhYlRd",
       "metabolite_styles": [
        "color",
        "size",
        "text"
       ],
       "never_ask_before_quit": false,
       "primary_metabolite_radius": 20,
       "reaction_compare_style": "log2_fold",
       "reaction_data": null,
       "reaction_no_data_color": "#dcdcdc",
       "reaction_no_data_size": 8,
       "reaction_scale": {},
       "reaction_scale_preset": null,
       "reaction_styles": [
        "color",
        "text"
       ],
       "scroll_behavior": "none",
       "secondary_metabolite_radius": 10,
       "semantic_zoom": null,
       "show_gene_reaction_rules": false,
       "starting_reaction": null,
       "use_3d_transform": false,
       "zoom_to_element": null
      }
     },
     "3a73cba856184a4bbc8e6f5a16b8742a": {
      "model_module": "@jupyter-widgets/base",
      "model_module_version": "1.2.0",
      "model_name": "LayoutModel",
      "state": {}
     },
     "47869877100f4a95917cdf0ccd43c9e2": {
      "model_module": "escher",
      "model_module_version": "1.7.3",
      "model_name": "EscherMapModel",
      "state": {
       "_loaded_map_json": "[{\"map_name\": \"\", \"map_id\": \"\", \"map_description\": \"\", \"homepage\": \"\", \"schema\": \"https://escher.github.io/escher/jsonschema/1-0-0#\"}, {\"reactions\": {\"0\": {\"name\": \"PEPDEPHOS_RXN_c\", \"bigg_id\": \"PEPDEPHOS_RXN_c\", \"reversibility\": true, \"label_x\": 190.0, \"label_y\": 45.0, \"gene_reaction_rule\": \"\", \"genes\": [], \"segments\": {\"0\": {\"from_node_id\": \"5\", \"to_node_id\": \"6\", \"b1\": null, \"b2\": null}, \"1\": {\"from_node_id\": \"7\", \"to_node_id\": \"6\", \"b1\": null, \"b2\": null}, \"2\": {\"from_node_id\": \"0\", \"to_node_id\": \"5\", \"b1\": null, \"b2\": null}, \"3\": {\"from_node_id\": \"1\", \"to_node_id\": \"5\", \"b1\": null, \"b2\": null}, \"4\": {\"from_node_id\": \"2\", \"to_node_id\": \"7\", \"b1\": null, \"b2\": null}, \"5\": {\"from_node_id\": \"3\", \"to_node_id\": \"7\", \"b1\": null, \"b2\": null}, \"6\": {\"from_node_id\": \"4\", \"to_node_id\": \"7\", \"b1\": null, \"b2\": null}}, \"metabolites\": [{\"bigg_id\": \"ATP_c\", \"coefficient\": -1.0}, {\"bigg_id\": \"PYRUVATE_c\", \"coefficient\": -1.0}, {\"bigg_id\": \"ADP_c\", \"coefficient\": 1.0}, {\"bigg_id\": \"PHOSPHO_ENOL_PYRUVATE_c\", \"coefficient\": 1.0}, {\"bigg_id\": \"PROTON_c\", \"coefficient\": 1.0}]}, \"1\": {\"name\": \"PYRUVFORMLY_RXN_c\", \"bigg_id\": \"PYRUVFORMLY_RXN_c\", \"reversibility\": true, \"label_x\": 822.0, \"label_y\": 45.0, \"gene_reaction_rule\": \"\", \"genes\": [], \"segments\": {\"7\": {\"from_node_id\": \"12\", \"to_node_id\": \"13\", \"b1\": null, \"b2\": null}, \"8\": {\"from_node_id\": \"14\", \"to_node_id\": \"13\", \"b1\": null, \"b2\": null}, \"9\": {\"from_node_id\": \"8\", \"to_node_id\": \"12\", \"b1\": null, \"b2\": null}, \"10\": {\"from_node_id\": \"9\", \"to_node_id\": \"12\", \"b1\": null, \"b2\": null}, \"11\": {\"from_node_id\": \"10\", \"to_node_id\": \"14\", \"b1\": null, \"b2\": null}, \"12\": {\"from_node_id\": \"11\", \"to_node_id\": \"14\", \"b1\": null, \"b2\": null}}, \"metabolites\": [{\"bigg_id\": \"ACETYL_COA_c\", \"coefficient\": -1.0}, {\"bigg_id\": \"FORMATE_c\", \"coefficient\": -1.0}, {\"bigg_id\": \"CO_A_c\", \"coefficient\": 1.0}, {\"bigg_id\": \"PYRUVATE_c\", \"coefficient\": 1.0}]}, \"2\": {\"name\": \"FHLMULTI_RXN_c\", \"bigg_id\": \"FHLMULTI_RXN_c\", \"reversibility\": true, \"label_x\": 1499.0, \"label_y\": 45.0, \"gene_reaction_rule\": \"\", \"genes\": [], \"segments\": {\"13\": {\"from_node_id\": \"19\", \"to_node_id\": \"20\", \"b1\": null, \"b2\": null}, \"14\": {\"from_node_id\": \"21\", \"to_node_id\": \"20\", \"b1\": null, \"b2\": null}, \"15\": {\"from_node_id\": \"15\", \"to_node_id\": \"19\", \"b1\": null, \"b2\": null}, \"16\": {\"from_node_id\": \"16\", \"to_node_id\": \"19\", \"b1\": null, \"b2\": null}, \"17\": {\"from_node_id\": \"17\", \"to_node_id\": \"21\", \"b1\": null, \"b2\": null}, \"18\": {\"from_node_id\": \"18\", \"to_node_id\": \"21\", \"b1\": null, \"b2\": null}}, \"metabolites\": [{\"bigg_id\": \"FORMATE_c\", \"coefficient\": -1.0}, {\"bigg_id\": \"PROTON_c\", \"coefficient\": -1.0}, {\"bigg_id\": \"CARBON_DIOXIDE_c\", \"coefficient\": 1.0}, {\"bigg_id\": \"HYDROGEN_MOLECULE_c\", \"coefficient\": 1.0}]}}, \"nodes\": {\"0\": {\"node_type\": \"metabolite\", \"x\": 30.0, \"y\": 150.0, \"label_x\": 0.0, \"label_y\": 130.0, \"bigg_id\": \"ATP_c\", \"name\": \"ATP_c\", \"node_is_primary\": false}, \"1\": {\"node_type\": \"metabolite\", \"x\": 30.0, \"y\": 300.0, \"label_x\": 0.0, \"label_y\": 280.0, \"bigg_id\": \"PYRUVATE_c\", \"name\": \"PYRUVATE_c\", \"node_is_primary\": false}, \"2\": {\"node_type\": \"metabolite\", \"x\": 550.0, \"y\": 112.5, \"label_x\": 520.0, \"label_y\": 92.5, \"bigg_id\": \"ADP_c\", \"name\": \"ADP_c\", \"node_is_primary\": false}, \"3\": {\"node_type\": \"metabolite\", \"x\": 550.0, \"y\": 225.0, \"label_x\": 520.0, \"label_y\": 205.0, \"bigg_id\": \"PHOSPHO_ENOL_PYRUVATE_c\", \"name\": \"PHOSPHO_ENOL_PYRUVATE_c\", \"node_is_primary\": false}, \"4\": {\"node_type\": \"metabolite\", \"x\": 550.0, \"y\": 337.5, \"label_x\": 520.0, \"label_y\": 317.5, \"bigg_id\": \"PROTON_c\", \"name\": \"PROTON_c\", \"node_is_primary\": false}, \"5\": {\"node_type\": \"multimarker\", \"x\": 335.0, \"y\": 225.0}, \"6\": {\"node_type\": \"midmarker\", \"x\": 355.0, \"y\": 225.0}, \"7\": {\"node_type\": \"multimarker\", \"x\": 375.0, \"y\": 225.0}, \"8\": {\"node_type\": \"metabolite\", \"x\": 680.0, \"y\": 150.0, \"label_x\": 650.0, \"label_y\": 130.0, \"bigg_id\": \"ACETYL_COA_c\", \"name\": \"ACETYL_COA_c\", \"node_is_primary\": false}, \"9\": {\"node_type\": \"metabolite\", \"x\": 680.0, \"y\": 300.0, \"label_x\": 650.0, \"label_y\": 280.0, \"bigg_id\": \"FORMATE_c\", \"name\": \"FORMATE_c\", \"node_is_primary\": false}, \"10\": {\"node_type\": \"metabolite\", \"x\": 1200.0, \"y\": 150.0, \"label_x\": 1170.0, \"label_y\": 130.0, \"bigg_id\": \"CO_A_c\", \"name\": \"CO_A_c\", \"node_is_primary\": false}, \"11\": {\"node_type\": \"metabolite\", \"x\": 1200.0, \"y\": 300.0, \"label_x\": 1170.0, \"label_y\": 280.0, \"bigg_id\": \"PYRUVATE_c\", \"name\": \"PYRUVATE_c\", \"node_is_primary\": false}, \"12\": {\"node_type\": \"multimarker\", \"x\": 985.0, \"y\": 225.0}, \"13\": {\"node_type\": \"midmarker\", \"x\": 1005.0, \"y\": 225.0}, \"14\": {\"node_type\": \"multimarker\", \"x\": 1025.0, \"y\": 225.0}, \"15\": {\"node_type\": \"metabolite\", \"x\": 1330.0, \"y\": 150.0, \"label_x\": 1300.0, \"label_y\": 130.0, \"bigg_id\": \"FORMATE_c\", \"name\": \"FORMATE_c\", \"node_is_primary\": false}, \"16\": {\"node_type\": \"metabolite\", \"x\": 1330.0, \"y\": 300.0, \"label_x\": 1300.0, \"label_y\": 280.0, \"bigg_id\": \"PROTON_c\", \"name\": \"PROTON_c\", \"node_is_primary\": false}, \"17\": {\"node_type\": \"metabolite\", \"x\": 1850.0, \"y\": 150.0, \"label_x\": 1820.0, \"label_y\": 130.0, \"bigg_id\": \"CARBON_DIOXIDE_c\", \"name\": \"CARBON_DIOXIDE_c\", \"node_is_primary\": false}, \"18\": {\"node_type\": \"metabolite\", \"x\": 1850.0, \"y\": 300.0, \"label_x\": 1820.0, \"label_y\": 280.0, \"bigg_id\": \"HYDROGEN_MOLECULE_c\", \"name\": \"HYDROGEN_MOLECULE_c\", \"node_is_primary\": false}, \"19\": {\"node_type\": \"multimarker\", \"x\": 1635.0, \"y\": 225.0}, \"20\": {\"node_type\": \"midmarker\", \"x\": 1655.0, \"y\": 225.0}, \"21\": {\"node_type\": \"multimarker\", \"x\": 1675.0, \"y\": 225.0}}, \"text_labels\": {}, \"canvas\": {\"x\": 0, \"y\": 0, \"width\": 1950, \"height\": 450}}]",
       "_loaded_model_json": null,
       "allow_building_duplicate_reactions": false,
       "and_method_in_gene_reaction_rule": "mean",
       "canvas_size_and_loc": null,
       "cofactors": [
        "atp",
        "adp",
        "nad",
        "nadh",
        "nadp",
        "nadph",
        "gtp",
        "gdp",
        "h",
        "coa",
        "ump",
        "h2o",
        "ppi"
       ],
       "disabled_buttons": [
        "Clear reaction data",
        "Clear gene data",
        "Clear metabolite data"
       ],
       "embedded_css": null,
       "enable_editing": true,
       "enable_keys": false,
       "enable_keys_with_tooltip": true,
       "enable_search": true,
       "enable_tooltips": false,
       "full_screen_button": {
        "enable_editing": true,
        "enable_keys": true,
        "enable_tooltips": [
         "label"
        ],
        "menu": "all",
        "scroll_behavior": "pan"
       },
       "gene_data": null,
       "gene_font_size": 18,
       "height": 500,
       "hide_all_labels": false,
       "hide_secondary_metabolites": false,
       "highlight_missing": false,
       "identifiers_on_map": "bigg_id",
       "layout": "IPY_MODEL_8d0eba122b3a43d28263fbc92a08f4ac",
       "marker_radius": 5,
       "menu": "all",
       "metabolite_compare_style": "log2_fold",
       "metabolite_data": null,
       "metabolite_no_data_color": "#ffffff",
       "metabolite_no_data_size": 10,
       "metabolite_scale": [
        {
         "color": "#fffaf0",
         "size": 20,
         "type": "min"
        },
        {
         "color": "#f1c470",
         "size": 30,
         "type": "median"
        },
        {
         "color": "#800000",
         "size": 40,
         "type": "max"
        }
       ],
       "metabolite_scale_preset": "WhYlRd",
       "metabolite_styles": [
        "color",
        "size",
        "text"
       ],
       "never_ask_before_quit": false,
       "primary_metabolite_radius": 20,
       "reaction_compare_style": "log2_fold",
       "reaction_data": null,
       "reaction_no_data_color": "#dcdcdc",
       "reaction_no_data_size": 8,
       "reaction_scale": [
        {
         "color": "rgb(220,220,220)",
         "type": "value",
         "value": 0
        }
       ],
       "reaction_scale_preset": null,
       "reaction_styles": [
        "color",
        "text"
       ],
       "scroll_behavior": "none",
       "secondary_metabolite_radius": 10,
       "semantic_zoom": null,
       "show_gene_reaction_rules": false,
       "starting_reaction": null,
       "use_3d_transform": false,
       "zoom_to_element": null
      }
     },
     "4cc3ebaa0162408d816cd9deac37c81b": {
      "model_module": "@jupyter-widgets/base",
      "model_module_version": "1.2.0",
      "model_name": "LayoutModel",
      "state": {}
     },
     "529021d7735b4bc2bfbef97c3ffb90a0": {
      "model_module": "escher",
      "model_module_version": "1.7.3",
      "model_name": "EscherMapModel",
      "state": {
       "_loaded_map_json": "[{\"map_name\": \"\", \"map_id\": \"\", \"map_description\": \"\", \"homepage\": \"\", \"schema\": \"https://escher.github.io/escher/jsonschema/1-0-0#\"}, {\"reactions\": {\"0\": {\"name\": \"PEPDEPHOS_RXN_c\", \"bigg_id\": \"PEPDEPHOS_RXN_c\", \"reversibility\": true, \"label_x\": 265.0, \"label_y\": 325.0, \"gene_reaction_rule\": \"\", \"genes\": [], \"segments\": {\"0\": {\"from_node_id\": \"5\", \"to_node_id\": \"6\", \"b1\": null, \"b2\": null}, \"1\": {\"from_node_id\": \"7\", \"to_node_id\": \"6\", \"b1\": null, \"b2\": null}, \"2\": {\"from_node_id\": \"0\", \"to_node_id\": \"5\", \"b1\": null, \"b2\": null}, \"3\": {\"from_node_id\": \"1\", \"to_node_id\": \"5\", \"b1\": null, \"b2\": null}, \"4\": {\"from_node_id\": \"2\", \"to_node_id\": \"7\", \"b1\": null, \"b2\": null}, \"5\": {\"from_node_id\": \"3\", \"to_node_id\": \"7\", \"b1\": null, \"b2\": null}, \"6\": {\"from_node_id\": \"4\", \"to_node_id\": \"7\", \"b1\": null, \"b2\": null}}, \"metabolites\": [{\"bigg_id\": \"ATP_c\", \"coefficient\": -1.0}, {\"bigg_id\": \"PYRUVATE_c\", \"coefficient\": -1.0}, {\"bigg_id\": \"ADP_c\", \"coefficient\": 1.0}, {\"bigg_id\": \"PHOSPHO_ENOL_PYRUVATE_c\", \"coefficient\": 1.0}, {\"bigg_id\": \"PROTON_c\", \"coefficient\": 1.0}]}, \"1\": {\"name\": \"PYRUVFORMLY_RXN_c\", \"bigg_id\": \"PYRUVFORMLY_RXN_c\", \"reversibility\": true, \"label_x\": 265.0, \"label_y\": 975.0, \"gene_reaction_rule\": \"\", \"genes\": [], \"segments\": {\"7\": {\"from_node_id\": \"12\", \"to_node_id\": \"13\", \"b1\": null, \"b2\": null}, \"8\": {\"from_node_id\": \"14\", \"to_node_id\": \"13\", \"b1\": null, \"b2\": null}, \"9\": {\"from_node_id\": \"8\", \"to_node_id\": \"12\", \"b1\": null, \"b2\": null}, \"10\": {\"from_node_id\": \"9\", \"to_node_id\": \"12\", \"b1\": null, \"b2\": null}, \"11\": {\"from_node_id\": \"10\", \"to_node_id\": \"14\", \"b1\": null, \"b2\": null}, \"12\": {\"from_node_id\": \"11\", \"to_node_id\": \"14\", \"b1\": null, \"b2\": null}}, \"metabolites\": [{\"bigg_id\": \"ACETYL_COA_c\", \"coefficient\": -1.0}, {\"bigg_id\": \"FORMATE_c\", \"coefficient\": -1.0}, {\"bigg_id\": \"CO_A_c\", \"coefficient\": 1.0}, {\"bigg_id\": \"PYRUVATE_c\", \"coefficient\": 1.0}]}, \"2\": {\"name\": \"FHLMULTI_RXN_c\", \"bigg_id\": \"FHLMULTI_RXN_c\", \"reversibility\": true, \"label_x\": 265.0, \"label_y\": 1625.0, \"gene_reaction_rule\": \"\", \"genes\": [], \"segments\": {\"13\": {\"from_node_id\": \"19\", \"to_node_id\": \"20\", \"b1\": null, \"b2\": null}, \"14\": {\"from_node_id\": \"21\", \"to_node_id\": \"20\", \"b1\": null, \"b2\": null}, \"15\": {\"from_node_id\": \"15\", \"to_node_id\": \"19\", \"b1\": null, \"b2\": null}, \"16\": {\"from_node_id\": \"16\", \"to_node_id\": \"19\", \"b1\": null, \"b2\": null}, \"17\": {\"from_node_id\": \"17\", \"to_node_id\": \"21\", \"b1\": null, \"b2\": null}, \"18\": {\"from_node_id\": \"18\", \"to_node_id\": \"21\", \"b1\": null, \"b2\": null}}, \"metabolites\": [{\"bigg_id\": \"FORMATE_c\", \"coefficient\": -1.0}, {\"bigg_id\": \"PROTON_c\", \"coefficient\": -1.0}, {\"bigg_id\": \"CARBON_DIOXIDE_c\", \"coefficient\": 1.0}, {\"bigg_id\": \"HYDROGEN_MOLECULE_c\", \"coefficient\": 1.0}]}}, \"nodes\": {\"0\": {\"node_type\": \"metabolite\", \"x\": 150.0, \"y\": 30.0, \"label_x\": 160.0, \"label_y\": 20.0, \"bigg_id\": \"ATP_c\", \"name\": \"ATP_c\", \"node_is_primary\": false}, \"1\": {\"node_type\": \"metabolite\", \"x\": 300.0, \"y\": 30.0, \"label_x\": 310.0, \"label_y\": 20.0, \"bigg_id\": \"PYRUVATE_c\", \"name\": \"PYRUVATE_c\", \"node_is_primary\": false}, \"2\": {\"node_type\": \"metabolite\", \"x\": 112.5, \"y\": 550.0, \"label_x\": 122.5, \"label_y\": 580.0, \"bigg_id\": \"ADP_c\", \"name\": \"ADP_c\", \"node_is_primary\": false}, \"3\": {\"node_type\": \"metabolite\", \"x\": 225.0, \"y\": 550.0, \"label_x\": 235.0, \"label_y\": 580.0, \"bigg_id\": \"PHOSPHO_ENOL_PYRUVATE_c\", \"name\": \"PHOSPHO_ENOL_PYRUVATE_c\", \"node_is_primary\": false}, \"4\": {\"node_type\": \"metabolite\", \"x\": 337.5, \"y\": 550.0, \"label_x\": 347.5, \"label_y\": 580.0, \"bigg_id\": \"PROTON_c\", \"name\": \"PROTON_c\", \"node_is_primary\": false}, \"5\": {\"node_type\": \"multimarker\", \"x\": 225.0, \"y\": 305.0}, \"6\": {\"node_type\": \"midmarker\", \"x\": 225.0, \"y\": 325.0}, \"7\": {\"node_type\": \"multimarker\", \"x\": 225.0, \"y\": 345.0}, \"8\": {\"node_type\": \"metabolite\", \"x\": 150.0, \"y\": 680.0, \"label_x\": 160.0, \"label_y\": 670.0, \"bigg_id\": \"ACETYL_COA_c\", \"name\": \"ACETYL_COA_c\", \"node_is_primary\": false}, \"9\": {\"node_type\": \"metabolite\", \"x\": 300.0, \"y\": 680.0, \"label_x\": 310.0, \"label_y\": 670.0, \"bigg_id\": \"FORMATE_c\", \"name\": \"FORMATE_c\", \"node_is_primary\": false}, \"10\": {\"node_type\": \"metabolite\", \"x\": 150.0, \"y\": 1200.0, \"label_x\": 160.0, \"label_y\": 1230.0, \"bigg_id\": \"CO_A_c\", \"name\": \"CO_A_c\", \"node_is_primary\": false}, \"11\": {\"node_type\": \"metabolite\", \"x\": 300.0, \"y\": 1200.0, \"label_x\": 310.0, \"label_y\": 1230.0, \"bigg_id\": \"PYRUVATE_c\", \"name\": \"PYRUVATE_c\", \"node_is_primary\": false}, \"12\": {\"node_type\": \"multimarker\", \"x\": 225.0, \"y\": 955.0}, \"13\": {\"node_type\": \"midmarker\", \"x\": 225.0, \"y\": 975.0}, \"14\": {\"node_type\": \"multimarker\", \"x\": 225.0, \"y\": 995.0}, \"15\": {\"node_type\": \"metabolite\", \"x\": 150.0, \"y\": 1330.0, \"label_x\": 160.0, \"label_y\": 1320.0, \"bigg_id\": \"FORMATE_c\", \"name\": \"FORMATE_c\", \"node_is_primary\": false}, \"16\": {\"node_type\": \"metabolite\", \"x\": 300.0, \"y\": 1330.0, \"label_x\": 310.0, \"label_y\": 1320.0, \"bigg_id\": \"PROTON_c\", \"name\": \"PROTON_c\", \"node_is_primary\": false}, \"17\": {\"node_type\": \"metabolite\", \"x\": 150.0, \"y\": 1850.0, \"label_x\": 160.0, \"label_y\": 1880.0, \"bigg_id\": \"CARBON_DIOXIDE_c\", \"name\": \"CARBON_DIOXIDE_c\", \"node_is_primary\": false}, \"18\": {\"node_type\": \"metabolite\", \"x\": 300.0, \"y\": 1850.0, \"label_x\": 310.0, \"label_y\": 1880.0, \"bigg_id\": \"HYDROGEN_MOLECULE_c\", \"name\": \"HYDROGEN_MOLECULE_c\", \"node_is_primary\": false}, \"19\": {\"node_type\": \"multimarker\", \"x\": 225.0, \"y\": 1605.0}, \"20\": {\"node_type\": \"midmarker\", \"x\": 225.0, \"y\": 1625.0}, \"21\": {\"node_type\": \"multimarker\", \"x\": 225.0, \"y\": 1645.0}}, \"text_labels\": {}, \"canvas\": {\"x\": 0, \"y\": 0, \"width\": 450, \"height\": 1950}}]",
       "_loaded_model_json": null,
       "allow_building_duplicate_reactions": null,
       "and_method_in_gene_reaction_rule": null,
       "canvas_size_and_loc": null,
       "cofactors": null,
       "disabled_buttons": null,
       "embedded_css": null,
       "enable_editing": null,
       "enable_keys": false,
       "enable_keys_with_tooltip": null,
       "enable_search": null,
       "enable_tooltips": false,
       "full_screen_button": {
        "enable_editing": true,
        "enable_keys": true,
        "enable_tooltips": [
         "label"
        ],
        "menu": "all",
        "scroll_behavior": "pan"
       },
       "gene_data": null,
       "gene_font_size": null,
       "height": 500,
       "hide_all_labels": null,
       "hide_secondary_metabolites": null,
       "highlight_missing": null,
       "identifiers_on_map": null,
       "layout": "IPY_MODEL_1e602ac730d74ca78b3c599cb9545bae",
       "marker_radius": null,
       "menu": null,
       "metabolite_compare_style": null,
       "metabolite_data": null,
       "metabolite_no_data_color": null,
       "metabolite_no_data_size": null,
       "metabolite_scale": null,
       "metabolite_scale_preset": null,
       "metabolite_styles": null,
       "never_ask_before_quit": null,
       "primary_metabolite_radius": null,
       "reaction_compare_style": null,
       "reaction_data": {
        "FHLMULTI_RXN_c": 0.4,
        "PEPDEPHOS_RXN_c": -2,
        "PYRUVFORMLY_RXN_c": -2
       },
       "reaction_no_data_color": null,
       "reaction_no_data_size": null,
       "reaction_scale": [
        {
         "color": "rgb(255,0,0)",
         "type": "value",
         "value": 0.4
        },
        {
         "color": "rgb(220,220,220)",
         "type": "value",
         "value": 0
        },
        {
         "color": "rgb(110,174,110)",
         "type": "value",
         "value": -2
        },
        {
         "color": "rgb(0,128,0)",
         "type": "value",
         "value": -2
        }
       ],
       "reaction_scale_preset": null,
       "reaction_styles": [
        "color",
        "text"
       ],
       "scroll_behavior": "none",
       "secondary_metabolite_radius": null,
       "semantic_zoom": null,
       "show_gene_reaction_rules": null,
       "starting_reaction": null,
       "use_3d_transform": null,
       "zoom_to_element": null
      }
     },
     "616b3bb2b5654bbdba02dcef332c04c1": {
      "model_module": "@jupyter-widgets/base",
      "model_module_version": "1.2.0",
      "model_name": "LayoutModel",
      "state": {}
     },
     "742b704ea6cc4415ac5ea9d96d9b6891": {
      "model_module": "@jupyter-widgets/base",
      "model_module_version": "1.2.0",
      "model_name": "LayoutModel",
      "state": {}
     },
     "74df90093e2f44b8b2936a4127936455": {
      "model_module": "@jupyter-widgets/base",
      "model_module_version": "1.2.0",
      "model_name": "LayoutModel",
      "state": {}
     },
     "7e7ef61e9e844373af6c44a461ad6ca7": {
      "model_module": "escher",
      "model_module_version": "1.7.3",
      "model_name": "EscherMapModel",
      "state": {
       "_loaded_map_json": "[{\"map_name\": \"\", \"map_id\": \"\", \"map_description\": \"\", \"homepage\": \"\", \"schema\": \"https://escher.github.io/escher/jsonschema/1-0-0#\"}, {\"reactions\": {\"0\": {\"name\": \"PEPDEPHOS_RXN_c\", \"bigg_id\": \"PEPDEPHOS_RXN_c\", \"reversibility\": true, \"label_x\": 265.0, \"label_y\": 325.0, \"gene_reaction_rule\": \"\", \"genes\": [], \"segments\": {\"0\": {\"from_node_id\": \"5\", \"to_node_id\": \"6\", \"b1\": null, \"b2\": null}, \"1\": {\"from_node_id\": \"7\", \"to_node_id\": \"6\", \"b1\": null, \"b2\": null}, \"2\": {\"from_node_id\": \"0\", \"to_node_id\": \"5\", \"b1\": null, \"b2\": null}, \"3\": {\"from_node_id\": \"1\", \"to_node_id\": \"5\", \"b1\": null, \"b2\": null}, \"4\": {\"from_node_id\": \"2\", \"to_node_id\": \"7\", \"b1\": null, \"b2\": null}, \"5\": {\"from_node_id\": \"3\", \"to_node_id\": \"7\", \"b1\": null, \"b2\": null}, \"6\": {\"from_node_id\": \"4\", \"to_node_id\": \"7\", \"b1\": null, \"b2\": null}}, \"metabolites\": [{\"bigg_id\": \"ATP_c\", \"coefficient\": -1.0}, {\"bigg_id\": \"PYRUVATE_c\", \"coefficient\": -1.0}, {\"bigg_id\": \"ADP_c\", \"coefficient\": 1.0}, {\"bigg_id\": \"PHOSPHO_ENOL_PYRUVATE_c\", \"coefficient\": 1.0}, {\"bigg_id\": \"PROTON_c\", \"coefficient\": 1.0}]}, \"1\": {\"name\": \"PYRUVFORMLY_RXN_c\", \"bigg_id\": \"PYRUVFORMLY_RXN_c\", \"reversibility\": true, \"label_x\": 265.0, \"label_y\": 975.0, \"gene_reaction_rule\": \"\", \"genes\": [], \"segments\": {\"7\": {\"from_node_id\": \"12\", \"to_node_id\": \"13\", \"b1\": null, \"b2\": null}, \"8\": {\"from_node_id\": \"14\", \"to_node_id\": \"13\", \"b1\": null, \"b2\": null}, \"9\": {\"from_node_id\": \"8\", \"to_node_id\": \"12\", \"b1\": null, \"b2\": null}, \"10\": {\"from_node_id\": \"9\", \"to_node_id\": \"12\", \"b1\": null, \"b2\": null}, \"11\": {\"from_node_id\": \"10\", \"to_node_id\": \"14\", \"b1\": null, \"b2\": null}, \"12\": {\"from_node_id\": \"11\", \"to_node_id\": \"14\", \"b1\": null, \"b2\": null}}, \"metabolites\": [{\"bigg_id\": \"ACETYL_COA_c\", \"coefficient\": -1.0}, {\"bigg_id\": \"FORMATE_c\", \"coefficient\": -1.0}, {\"bigg_id\": \"CO_A_c\", \"coefficient\": 1.0}, {\"bigg_id\": \"PYRUVATE_c\", \"coefficient\": 1.0}]}, \"2\": {\"name\": \"FHLMULTI_RXN_c\", \"bigg_id\": \"FHLMULTI_RXN_c\", \"reversibility\": true, \"label_x\": 265.0, \"label_y\": 1625.0, \"gene_reaction_rule\": \"\", \"genes\": [], \"segments\": {\"13\": {\"from_node_id\": \"19\", \"to_node_id\": \"20\", \"b1\": null, \"b2\": null}, \"14\": {\"from_node_id\": \"21\", \"to_node_id\": \"20\", \"b1\": null, \"b2\": null}, \"15\": {\"from_node_id\": \"15\", \"to_node_id\": \"19\", \"b1\": null, \"b2\": null}, \"16\": {\"from_node_id\": \"16\", \"to_node_id\": \"19\", \"b1\": null, \"b2\": null}, \"17\": {\"from_node_id\": \"17\", \"to_node_id\": \"21\", \"b1\": null, \"b2\": null}, \"18\": {\"from_node_id\": \"18\", \"to_node_id\": \"21\", \"b1\": null, \"b2\": null}}, \"metabolites\": [{\"bigg_id\": \"FORMATE_c\", \"coefficient\": -1.0}, {\"bigg_id\": \"PROTON_c\", \"coefficient\": -1.0}, {\"bigg_id\": \"CARBON_DIOXIDE_c\", \"coefficient\": 1.0}, {\"bigg_id\": \"HYDROGEN_MOLECULE_c\", \"coefficient\": 1.0}]}}, \"nodes\": {\"0\": {\"node_type\": \"metabolite\", \"x\": 150.0, \"y\": 30.0, \"label_x\": 160.0, \"label_y\": 20.0, \"bigg_id\": \"ATP_c\", \"name\": \"ATP_c\", \"node_is_primary\": false}, \"1\": {\"node_type\": \"metabolite\", \"x\": 300.0, \"y\": 30.0, \"label_x\": 310.0, \"label_y\": 20.0, \"bigg_id\": \"PYRUVATE_c\", \"name\": \"PYRUVATE_c\", \"node_is_primary\": false}, \"2\": {\"node_type\": \"metabolite\", \"x\": 112.5, \"y\": 550.0, \"label_x\": 122.5, \"label_y\": 580.0, \"bigg_id\": \"ADP_c\", \"name\": \"ADP_c\", \"node_is_primary\": false}, \"3\": {\"node_type\": \"metabolite\", \"x\": 225.0, \"y\": 550.0, \"label_x\": 235.0, \"label_y\": 580.0, \"bigg_id\": \"PHOSPHO_ENOL_PYRUVATE_c\", \"name\": \"PHOSPHO_ENOL_PYRUVATE_c\", \"node_is_primary\": false}, \"4\": {\"node_type\": \"metabolite\", \"x\": 337.5, \"y\": 550.0, \"label_x\": 347.5, \"label_y\": 580.0, \"bigg_id\": \"PROTON_c\", \"name\": \"PROTON_c\", \"node_is_primary\": false}, \"5\": {\"node_type\": \"multimarker\", \"x\": 225.0, \"y\": 305.0}, \"6\": {\"node_type\": \"midmarker\", \"x\": 225.0, \"y\": 325.0}, \"7\": {\"node_type\": \"multimarker\", \"x\": 225.0, \"y\": 345.0}, \"8\": {\"node_type\": \"metabolite\", \"x\": 150.0, \"y\": 680.0, \"label_x\": 160.0, \"label_y\": 670.0, \"bigg_id\": \"ACETYL_COA_c\", \"name\": \"ACETYL_COA_c\", \"node_is_primary\": false}, \"9\": {\"node_type\": \"metabolite\", \"x\": 300.0, \"y\": 680.0, \"label_x\": 310.0, \"label_y\": 670.0, \"bigg_id\": \"FORMATE_c\", \"name\": \"FORMATE_c\", \"node_is_primary\": false}, \"10\": {\"node_type\": \"metabolite\", \"x\": 150.0, \"y\": 1200.0, \"label_x\": 160.0, \"label_y\": 1230.0, \"bigg_id\": \"CO_A_c\", \"name\": \"CO_A_c\", \"node_is_primary\": false}, \"11\": {\"node_type\": \"metabolite\", \"x\": 300.0, \"y\": 1200.0, \"label_x\": 310.0, \"label_y\": 1230.0, \"bigg_id\": \"PYRUVATE_c\", \"name\": \"PYRUVATE_c\", \"node_is_primary\": false}, \"12\": {\"node_type\": \"multimarker\", \"x\": 225.0, \"y\": 955.0}, \"13\": {\"node_type\": \"midmarker\", \"x\": 225.0, \"y\": 975.0}, \"14\": {\"node_type\": \"multimarker\", \"x\": 225.0, \"y\": 995.0}, \"15\": {\"node_type\": \"metabolite\", \"x\": 150.0, \"y\": 1330.0, \"label_x\": 160.0, \"label_y\": 1320.0, \"bigg_id\": \"FORMATE_c\", \"name\": \"FORMATE_c\", \"node_is_primary\": false}, \"16\": {\"node_type\": \"metabolite\", \"x\": 300.0, \"y\": 1330.0, \"label_x\": 310.0, \"label_y\": 1320.0, \"bigg_id\": \"PROTON_c\", \"name\": \"PROTON_c\", \"node_is_primary\": false}, \"17\": {\"node_type\": \"metabolite\", \"x\": 150.0, \"y\": 1850.0, \"label_x\": 160.0, \"label_y\": 1880.0, \"bigg_id\": \"CARBON_DIOXIDE_c\", \"name\": \"CARBON_DIOXIDE_c\", \"node_is_primary\": false}, \"18\": {\"node_type\": \"metabolite\", \"x\": 300.0, \"y\": 1850.0, \"label_x\": 310.0, \"label_y\": 1880.0, \"bigg_id\": \"HYDROGEN_MOLECULE_c\", \"name\": \"HYDROGEN_MOLECULE_c\", \"node_is_primary\": false}, \"19\": {\"node_type\": \"multimarker\", \"x\": 225.0, \"y\": 1605.0}, \"20\": {\"node_type\": \"midmarker\", \"x\": 225.0, \"y\": 1625.0}, \"21\": {\"node_type\": \"multimarker\", \"x\": 225.0, \"y\": 1645.0}}, \"text_labels\": {}, \"canvas\": {\"x\": 0, \"y\": 0, \"width\": 450, \"height\": 1950}}]",
       "_loaded_model_json": null,
       "allow_building_duplicate_reactions": false,
       "and_method_in_gene_reaction_rule": "mean",
       "canvas_size_and_loc": null,
       "cofactors": [
        "atp",
        "adp",
        "nad",
        "nadh",
        "nadp",
        "nadph",
        "gtp",
        "gdp",
        "h",
        "coa",
        "ump",
        "h2o",
        "ppi"
       ],
       "disabled_buttons": [
        "Clear gene data",
        "Clear metabolite data"
       ],
       "embedded_css": null,
       "enable_editing": true,
       "enable_keys": false,
       "enable_keys_with_tooltip": true,
       "enable_search": true,
       "enable_tooltips": false,
       "full_screen_button": {
        "enable_editing": true,
        "enable_keys": true,
        "enable_tooltips": [
         "label"
        ],
        "menu": "all",
        "scroll_behavior": "pan"
       },
       "gene_data": null,
       "gene_font_size": 18,
       "height": 500,
       "hide_all_labels": false,
       "hide_secondary_metabolites": false,
       "highlight_missing": false,
       "identifiers_on_map": "bigg_id",
       "layout": "IPY_MODEL_3a73cba856184a4bbc8e6f5a16b8742a",
       "marker_radius": 5,
       "menu": "all",
       "metabolite_compare_style": "log2_fold",
       "metabolite_data": null,
       "metabolite_no_data_color": "#ffffff",
       "metabolite_no_data_size": 10,
       "metabolite_scale": [
        {
         "color": "#fffaf0",
         "size": 20,
         "type": "min"
        },
        {
         "color": "#f1c470",
         "size": 30,
         "type": "median"
        },
        {
         "color": "#800000",
         "size": 40,
         "type": "max"
        }
       ],
       "metabolite_scale_preset": "WhYlRd",
       "metabolite_styles": [
        "color",
        "size",
        "text"
       ],
       "never_ask_before_quit": false,
       "primary_metabolite_radius": 20,
       "reaction_compare_style": "log2_fold",
       "reaction_data": {
        "FHLMULTI_RXN_c": 0.4,
        "PEPDEPHOS_RXN_c": -2,
        "PYRUVFORMLY_RXN_c": -2
       },
       "reaction_no_data_color": "#dcdcdc",
       "reaction_no_data_size": 8,
       "reaction_scale": [
        {
         "color": "rgb(255,0,0)",
         "type": "value",
         "value": 0.4
        },
        {
         "color": "rgb(220,220,220)",
         "type": "value",
         "value": 0
        },
        {
         "color": "rgb(110,174,110)",
         "type": "value",
         "value": -2
        },
        {
         "color": "rgb(0,128,0)",
         "type": "value",
         "value": -2
        }
       ],
       "reaction_scale_preset": null,
       "reaction_styles": [
        "color",
        "text"
       ],
       "scroll_behavior": "none",
       "secondary_metabolite_radius": 10,
       "semantic_zoom": null,
       "show_gene_reaction_rules": false,
       "starting_reaction": null,
       "use_3d_transform": false,
       "zoom_to_element": null
      }
     },
     "82b1220fb705410b80065469e403a269": {
      "model_module": "escher",
      "model_module_version": "1.7.3",
      "model_name": "EscherMapModel",
      "state": {
       "_loaded_map_json": "[{\"map_name\": \"\", \"map_id\": \"\", \"map_description\": \"\", \"homepage\": \"\", \"schema\": \"https://escher.github.io/escher/jsonschema/1-0-0#\"}, {\"reactions\": {\"0\": {\"name\": \"PEPDEPHOS_RXN_c\", \"bigg_id\": \"PEPDEPHOS_RXN_c\", \"reversibility\": true, \"label_x\": 265.0, \"label_y\": 325.0, \"gene_reaction_rule\": \"\", \"genes\": [], \"segments\": {\"0\": {\"from_node_id\": \"5\", \"to_node_id\": \"6\", \"b1\": null, \"b2\": null}, \"1\": {\"from_node_id\": \"7\", \"to_node_id\": \"6\", \"b1\": null, \"b2\": null}, \"2\": {\"from_node_id\": \"0\", \"to_node_id\": \"5\", \"b1\": null, \"b2\": null}, \"3\": {\"from_node_id\": \"1\", \"to_node_id\": \"5\", \"b1\": null, \"b2\": null}, \"4\": {\"from_node_id\": \"2\", \"to_node_id\": \"7\", \"b1\": null, \"b2\": null}, \"5\": {\"from_node_id\": \"3\", \"to_node_id\": \"7\", \"b1\": null, \"b2\": null}, \"6\": {\"from_node_id\": \"4\", \"to_node_id\": \"7\", \"b1\": null, \"b2\": null}}, \"metabolites\": [{\"bigg_id\": \"ATP_c\", \"coefficient\": -1.0}, {\"bigg_id\": \"PYRUVATE_c\", \"coefficient\": -1.0}, {\"bigg_id\": \"ADP_c\", \"coefficient\": 1.0}, {\"bigg_id\": \"PHOSPHO_ENOL_PYRUVATE_c\", \"coefficient\": 1.0}, {\"bigg_id\": \"PROTON_c\", \"coefficient\": 1.0}]}, \"1\": {\"name\": \"PYRUVFORMLY_RXN_c\", \"bigg_id\": \"PYRUVFORMLY_RXN_c\", \"reversibility\": true, \"label_x\": 265.0, \"label_y\": 975.0, \"gene_reaction_rule\": \"\", \"genes\": [], \"segments\": {\"7\": {\"from_node_id\": \"12\", \"to_node_id\": \"13\", \"b1\": null, \"b2\": null}, \"8\": {\"from_node_id\": \"14\", \"to_node_id\": \"13\", \"b1\": null, \"b2\": null}, \"9\": {\"from_node_id\": \"8\", \"to_node_id\": \"12\", \"b1\": null, \"b2\": null}, \"10\": {\"from_node_id\": \"9\", \"to_node_id\": \"12\", \"b1\": null, \"b2\": null}, \"11\": {\"from_node_id\": \"10\", \"to_node_id\": \"14\", \"b1\": null, \"b2\": null}, \"12\": {\"from_node_id\": \"11\", \"to_node_id\": \"14\", \"b1\": null, \"b2\": null}}, \"metabolites\": [{\"bigg_id\": \"ACETYL_COA_c\", \"coefficient\": -1.0}, {\"bigg_id\": \"FORMATE_c\", \"coefficient\": -1.0}, {\"bigg_id\": \"CO_A_c\", \"coefficient\": 1.0}, {\"bigg_id\": \"PYRUVATE_c\", \"coefficient\": 1.0}]}, \"2\": {\"name\": \"FHLMULTI_RXN_c\", \"bigg_id\": \"FHLMULTI_RXN_c\", \"reversibility\": true, \"label_x\": 265.0, \"label_y\": 1625.0, \"gene_reaction_rule\": \"\", \"genes\": [], \"segments\": {\"13\": {\"from_node_id\": \"19\", \"to_node_id\": \"20\", \"b1\": null, \"b2\": null}, \"14\": {\"from_node_id\": \"21\", \"to_node_id\": \"20\", \"b1\": null, \"b2\": null}, \"15\": {\"from_node_id\": \"15\", \"to_node_id\": \"19\", \"b1\": null, \"b2\": null}, \"16\": {\"from_node_id\": \"16\", \"to_node_id\": \"19\", \"b1\": null, \"b2\": null}, \"17\": {\"from_node_id\": \"17\", \"to_node_id\": \"21\", \"b1\": null, \"b2\": null}, \"18\": {\"from_node_id\": \"18\", \"to_node_id\": \"21\", \"b1\": null, \"b2\": null}}, \"metabolites\": [{\"bigg_id\": \"FORMATE_c\", \"coefficient\": -1.0}, {\"bigg_id\": \"PROTON_c\", \"coefficient\": -1.0}, {\"bigg_id\": \"CARBON_DIOXIDE_c\", \"coefficient\": 1.0}, {\"bigg_id\": \"HYDROGEN_MOLECULE_c\", \"coefficient\": 1.0}]}}, \"nodes\": {\"0\": {\"node_type\": \"metabolite\", \"x\": 150.0, \"y\": 30.0, \"label_x\": 160.0, \"label_y\": 20.0, \"bigg_id\": \"ATP_c\", \"name\": \"ATP_c\", \"node_is_primary\": false}, \"1\": {\"node_type\": \"metabolite\", \"x\": 300.0, \"y\": 30.0, \"label_x\": 310.0, \"label_y\": 20.0, \"bigg_id\": \"PYRUVATE_c\", \"name\": \"PYRUVATE_c\", \"node_is_primary\": false}, \"2\": {\"node_type\": \"metabolite\", \"x\": 112.5, \"y\": 550.0, \"label_x\": 122.5, \"label_y\": 580.0, \"bigg_id\": \"ADP_c\", \"name\": \"ADP_c\", \"node_is_primary\": false}, \"3\": {\"node_type\": \"metabolite\", \"x\": 225.0, \"y\": 550.0, \"label_x\": 235.0, \"label_y\": 580.0, \"bigg_id\": \"PHOSPHO_ENOL_PYRUVATE_c\", \"name\": \"PHOSPHO_ENOL_PYRUVATE_c\", \"node_is_primary\": false}, \"4\": {\"node_type\": \"metabolite\", \"x\": 337.5, \"y\": 550.0, \"label_x\": 347.5, \"label_y\": 580.0, \"bigg_id\": \"PROTON_c\", \"name\": \"PROTON_c\", \"node_is_primary\": false}, \"5\": {\"node_type\": \"multimarker\", \"x\": 225.0, \"y\": 305.0}, \"6\": {\"node_type\": \"midmarker\", \"x\": 225.0, \"y\": 325.0}, \"7\": {\"node_type\": \"multimarker\", \"x\": 225.0, \"y\": 345.0}, \"8\": {\"node_type\": \"metabolite\", \"x\": 150.0, \"y\": 680.0, \"label_x\": 160.0, \"label_y\": 670.0, \"bigg_id\": \"ACETYL_COA_c\", \"name\": \"ACETYL_COA_c\", \"node_is_primary\": false}, \"9\": {\"node_type\": \"metabolite\", \"x\": 300.0, \"y\": 680.0, \"label_x\": 310.0, \"label_y\": 670.0, \"bigg_id\": \"FORMATE_c\", \"name\": \"FORMATE_c\", \"node_is_primary\": false}, \"10\": {\"node_type\": \"metabolite\", \"x\": 150.0, \"y\": 1200.0, \"label_x\": 160.0, \"label_y\": 1230.0, \"bigg_id\": \"CO_A_c\", \"name\": \"CO_A_c\", \"node_is_primary\": false}, \"11\": {\"node_type\": \"metabolite\", \"x\": 300.0, \"y\": 1200.0, \"label_x\": 310.0, \"label_y\": 1230.0, \"bigg_id\": \"PYRUVATE_c\", \"name\": \"PYRUVATE_c\", \"node_is_primary\": false}, \"12\": {\"node_type\": \"multimarker\", \"x\": 225.0, \"y\": 955.0}, \"13\": {\"node_type\": \"midmarker\", \"x\": 225.0, \"y\": 975.0}, \"14\": {\"node_type\": \"multimarker\", \"x\": 225.0, \"y\": 995.0}, \"15\": {\"node_type\": \"metabolite\", \"x\": 150.0, \"y\": 1330.0, \"label_x\": 160.0, \"label_y\": 1320.0, \"bigg_id\": \"FORMATE_c\", \"name\": \"FORMATE_c\", \"node_is_primary\": false}, \"16\": {\"node_type\": \"metabolite\", \"x\": 300.0, \"y\": 1330.0, \"label_x\": 310.0, \"label_y\": 1320.0, \"bigg_id\": \"PROTON_c\", \"name\": \"PROTON_c\", \"node_is_primary\": false}, \"17\": {\"node_type\": \"metabolite\", \"x\": 150.0, \"y\": 1850.0, \"label_x\": 160.0, \"label_y\": 1880.0, \"bigg_id\": \"CARBON_DIOXIDE_c\", \"name\": \"CARBON_DIOXIDE_c\", \"node_is_primary\": false}, \"18\": {\"node_type\": \"metabolite\", \"x\": 300.0, \"y\": 1850.0, \"label_x\": 310.0, \"label_y\": 1880.0, \"bigg_id\": \"HYDROGEN_MOLECULE_c\", \"name\": \"HYDROGEN_MOLECULE_c\", \"node_is_primary\": false}, \"19\": {\"node_type\": \"multimarker\", \"x\": 225.0, \"y\": 1605.0}, \"20\": {\"node_type\": \"midmarker\", \"x\": 225.0, \"y\": 1625.0}, \"21\": {\"node_type\": \"multimarker\", \"x\": 225.0, \"y\": 1645.0}}, \"text_labels\": {}, \"canvas\": {\"x\": 0, \"y\": 0, \"width\": 450, \"height\": 1950}}]",
       "_loaded_model_json": null,
       "allow_building_duplicate_reactions": false,
       "and_method_in_gene_reaction_rule": "mean",
       "canvas_size_and_loc": null,
       "cofactors": [
        "atp",
        "adp",
        "nad",
        "nadh",
        "nadp",
        "nadph",
        "gtp",
        "gdp",
        "h",
        "coa",
        "ump",
        "h2o",
        "ppi"
       ],
       "disabled_buttons": [
        "Clear gene data",
        "Clear metabolite data"
       ],
       "embedded_css": null,
       "enable_editing": true,
       "enable_keys": false,
       "enable_keys_with_tooltip": true,
       "enable_search": true,
       "enable_tooltips": false,
       "full_screen_button": {
        "enable_editing": true,
        "enable_keys": true,
        "enable_tooltips": [
         "label"
        ],
        "menu": "all",
        "scroll_behavior": "pan"
       },
       "gene_data": null,
       "gene_font_size": 18,
       "height": 500,
       "hide_all_labels": false,
       "hide_secondary_metabolites": false,
       "highlight_missing": false,
       "identifiers_on_map": "bigg_id",
       "layout": "IPY_MODEL_bfe539753c15487fb490bed565b5a153",
       "marker_radius": 5,
       "menu": "all",
       "metabolite_compare_style": "log2_fold",
       "metabolite_data": null,
       "metabolite_no_data_color": "#ffffff",
       "metabolite_no_data_size": 10,
       "metabolite_scale": [
        {
         "color": "#fffaf0",
         "size": 20,
         "type": "min"
        },
        {
         "color": "#f1c470",
         "size": 30,
         "type": "median"
        },
        {
         "color": "#800000",
         "size": 40,
         "type": "max"
        }
       ],
       "metabolite_scale_preset": "WhYlRd",
       "metabolite_styles": [
        "color",
        "size",
        "text"
       ],
       "never_ask_before_quit": false,
       "primary_metabolite_radius": 20,
       "reaction_compare_style": "log2_fold",
       "reaction_data": {
        "FHLMULTI_RXN_c": 0.4,
        "PEPDEPHOS_RXN_c": -2,
        "PYRUVFORMLY_RXN_c": -2
       },
       "reaction_no_data_color": "#dcdcdc",
       "reaction_no_data_size": 8,
       "reaction_scale": [
        {
         "color": "rgb(255,0,0)",
         "type": "value",
         "value": 0.4
        },
        {
         "color": "rgb(220,220,220)",
         "type": "value",
         "value": 0
        },
        {
         "color": "rgb(110,174,110)",
         "type": "value",
         "value": -2
        },
        {
         "color": "rgb(0,128,0)",
         "type": "value",
         "value": -2
        }
       ],
       "reaction_scale_preset": null,
       "reaction_styles": [
        "color",
        "text"
       ],
       "scroll_behavior": "none",
       "secondary_metabolite_radius": 10,
       "semantic_zoom": null,
       "show_gene_reaction_rules": false,
       "starting_reaction": null,
       "use_3d_transform": false,
       "zoom_to_element": null
      }
     },
     "8b1bcb42f91847f29281ff4f7e1c9757": {
      "model_module": "escher",
      "model_module_version": "1.7.3",
      "model_name": "EscherMapModel",
      "state": {
       "_loaded_map_json": "[{\"map_name\": \"\", \"map_id\": \"\", \"map_description\": \"\", \"homepage\": \"\", \"schema\": \"https://escher.github.io/escher/jsonschema/1-0-0#\"}, {\"reactions\": {\"0\": {\"name\": \"PEPDEPHOS_RXN_c\", \"bigg_id\": \"PEPDEPHOS_RXN_c\", \"reversibility\": true, \"label_x\": 190.0, \"label_y\": 45.0, \"gene_reaction_rule\": \"\", \"genes\": [], \"segments\": {\"0\": {\"from_node_id\": \"5\", \"to_node_id\": \"6\", \"b1\": null, \"b2\": null}, \"1\": {\"from_node_id\": \"7\", \"to_node_id\": \"6\", \"b1\": null, \"b2\": null}, \"2\": {\"from_node_id\": \"0\", \"to_node_id\": \"5\", \"b1\": null, \"b2\": null}, \"3\": {\"from_node_id\": \"1\", \"to_node_id\": \"5\", \"b1\": null, \"b2\": null}, \"4\": {\"from_node_id\": \"2\", \"to_node_id\": \"7\", \"b1\": null, \"b2\": null}, \"5\": {\"from_node_id\": \"3\", \"to_node_id\": \"7\", \"b1\": null, \"b2\": null}, \"6\": {\"from_node_id\": \"4\", \"to_node_id\": \"7\", \"b1\": null, \"b2\": null}}, \"metabolites\": [{\"bigg_id\": \"ATP_c\", \"coefficient\": -1.0}, {\"bigg_id\": \"PYRUVATE_c\", \"coefficient\": -1.0}, {\"bigg_id\": \"ADP_c\", \"coefficient\": 1.0}, {\"bigg_id\": \"PHOSPHO_ENOL_PYRUVATE_c\", \"coefficient\": 1.0}, {\"bigg_id\": \"PROTON_c\", \"coefficient\": 1.0}]}, \"1\": {\"name\": \"PYRUVFORMLY_RXN_c\", \"bigg_id\": \"PYRUVFORMLY_RXN_c\", \"reversibility\": true, \"label_x\": 822.0, \"label_y\": 45.0, \"gene_reaction_rule\": \"\", \"genes\": [], \"segments\": {\"7\": {\"from_node_id\": \"12\", \"to_node_id\": \"13\", \"b1\": null, \"b2\": null}, \"8\": {\"from_node_id\": \"14\", \"to_node_id\": \"13\", \"b1\": null, \"b2\": null}, \"9\": {\"from_node_id\": \"8\", \"to_node_id\": \"12\", \"b1\": null, \"b2\": null}, \"10\": {\"from_node_id\": \"9\", \"to_node_id\": \"12\", \"b1\": null, \"b2\": null}, \"11\": {\"from_node_id\": \"10\", \"to_node_id\": \"14\", \"b1\": null, \"b2\": null}, \"12\": {\"from_node_id\": \"11\", \"to_node_id\": \"14\", \"b1\": null, \"b2\": null}}, \"metabolites\": [{\"bigg_id\": \"ACETYL_COA_c\", \"coefficient\": -1.0}, {\"bigg_id\": \"FORMATE_c\", \"coefficient\": -1.0}, {\"bigg_id\": \"CO_A_c\", \"coefficient\": 1.0}, {\"bigg_id\": \"PYRUVATE_c\", \"coefficient\": 1.0}]}, \"2\": {\"name\": \"FHLMULTI_RXN_c\", \"bigg_id\": \"FHLMULTI_RXN_c\", \"reversibility\": true, \"label_x\": 1499.0, \"label_y\": 45.0, \"gene_reaction_rule\": \"\", \"genes\": [], \"segments\": {\"13\": {\"from_node_id\": \"19\", \"to_node_id\": \"20\", \"b1\": null, \"b2\": null}, \"14\": {\"from_node_id\": \"21\", \"to_node_id\": \"20\", \"b1\": null, \"b2\": null}, \"15\": {\"from_node_id\": \"15\", \"to_node_id\": \"19\", \"b1\": null, \"b2\": null}, \"16\": {\"from_node_id\": \"16\", \"to_node_id\": \"19\", \"b1\": null, \"b2\": null}, \"17\": {\"from_node_id\": \"17\", \"to_node_id\": \"21\", \"b1\": null, \"b2\": null}, \"18\": {\"from_node_id\": \"18\", \"to_node_id\": \"21\", \"b1\": null, \"b2\": null}}, \"metabolites\": [{\"bigg_id\": \"FORMATE_c\", \"coefficient\": -1.0}, {\"bigg_id\": \"PROTON_c\", \"coefficient\": -1.0}, {\"bigg_id\": \"CARBON_DIOXIDE_c\", \"coefficient\": 1.0}, {\"bigg_id\": \"HYDROGEN_MOLECULE_c\", \"coefficient\": 1.0}]}}, \"nodes\": {\"0\": {\"node_type\": \"metabolite\", \"x\": 30.0, \"y\": 150.0, \"label_x\": 0.0, \"label_y\": 130.0, \"bigg_id\": \"ATP_c\", \"name\": \"ATP_c\", \"node_is_primary\": false}, \"1\": {\"node_type\": \"metabolite\", \"x\": 30.0, \"y\": 300.0, \"label_x\": 0.0, \"label_y\": 280.0, \"bigg_id\": \"PYRUVATE_c\", \"name\": \"PYRUVATE_c\", \"node_is_primary\": false}, \"2\": {\"node_type\": \"metabolite\", \"x\": 550.0, \"y\": 112.5, \"label_x\": 520.0, \"label_y\": 92.5, \"bigg_id\": \"ADP_c\", \"name\": \"ADP_c\", \"node_is_primary\": false}, \"3\": {\"node_type\": \"metabolite\", \"x\": 550.0, \"y\": 225.0, \"label_x\": 520.0, \"label_y\": 205.0, \"bigg_id\": \"PHOSPHO_ENOL_PYRUVATE_c\", \"name\": \"PHOSPHO_ENOL_PYRUVATE_c\", \"node_is_primary\": false}, \"4\": {\"node_type\": \"metabolite\", \"x\": 550.0, \"y\": 337.5, \"label_x\": 520.0, \"label_y\": 317.5, \"bigg_id\": \"PROTON_c\", \"name\": \"PROTON_c\", \"node_is_primary\": false}, \"5\": {\"node_type\": \"multimarker\", \"x\": 335.0, \"y\": 225.0}, \"6\": {\"node_type\": \"midmarker\", \"x\": 355.0, \"y\": 225.0}, \"7\": {\"node_type\": \"multimarker\", \"x\": 375.0, \"y\": 225.0}, \"8\": {\"node_type\": \"metabolite\", \"x\": 680.0, \"y\": 150.0, \"label_x\": 650.0, \"label_y\": 130.0, \"bigg_id\": \"ACETYL_COA_c\", \"name\": \"ACETYL_COA_c\", \"node_is_primary\": false}, \"9\": {\"node_type\": \"metabolite\", \"x\": 680.0, \"y\": 300.0, \"label_x\": 650.0, \"label_y\": 280.0, \"bigg_id\": \"FORMATE_c\", \"name\": \"FORMATE_c\", \"node_is_primary\": false}, \"10\": {\"node_type\": \"metabolite\", \"x\": 1200.0, \"y\": 150.0, \"label_x\": 1170.0, \"label_y\": 130.0, \"bigg_id\": \"CO_A_c\", \"name\": \"CO_A_c\", \"node_is_primary\": false}, \"11\": {\"node_type\": \"metabolite\", \"x\": 1200.0, \"y\": 300.0, \"label_x\": 1170.0, \"label_y\": 280.0, \"bigg_id\": \"PYRUVATE_c\", \"name\": \"PYRUVATE_c\", \"node_is_primary\": false}, \"12\": {\"node_type\": \"multimarker\", \"x\": 985.0, \"y\": 225.0}, \"13\": {\"node_type\": \"midmarker\", \"x\": 1005.0, \"y\": 225.0}, \"14\": {\"node_type\": \"multimarker\", \"x\": 1025.0, \"y\": 225.0}, \"15\": {\"node_type\": \"metabolite\", \"x\": 1330.0, \"y\": 150.0, \"label_x\": 1300.0, \"label_y\": 130.0, \"bigg_id\": \"FORMATE_c\", \"name\": \"FORMATE_c\", \"node_is_primary\": false}, \"16\": {\"node_type\": \"metabolite\", \"x\": 1330.0, \"y\": 300.0, \"label_x\": 1300.0, \"label_y\": 280.0, \"bigg_id\": \"PROTON_c\", \"name\": \"PROTON_c\", \"node_is_primary\": false}, \"17\": {\"node_type\": \"metabolite\", \"x\": 1850.0, \"y\": 150.0, \"label_x\": 1820.0, \"label_y\": 130.0, \"bigg_id\": \"CARBON_DIOXIDE_c\", \"name\": \"CARBON_DIOXIDE_c\", \"node_is_primary\": false}, \"18\": {\"node_type\": \"metabolite\", \"x\": 1850.0, \"y\": 300.0, \"label_x\": 1820.0, \"label_y\": 280.0, \"bigg_id\": \"HYDROGEN_MOLECULE_c\", \"name\": \"HYDROGEN_MOLECULE_c\", \"node_is_primary\": false}, \"19\": {\"node_type\": \"multimarker\", \"x\": 1635.0, \"y\": 225.0}, \"20\": {\"node_type\": \"midmarker\", \"x\": 1655.0, \"y\": 225.0}, \"21\": {\"node_type\": \"multimarker\", \"x\": 1675.0, \"y\": 225.0}}, \"text_labels\": {}, \"canvas\": {\"x\": 0, \"y\": 0, \"width\": 1950, \"height\": 450}}]",
       "_loaded_model_json": null,
       "allow_building_duplicate_reactions": null,
       "and_method_in_gene_reaction_rule": null,
       "canvas_size_and_loc": null,
       "cofactors": null,
       "disabled_buttons": null,
       "embedded_css": null,
       "enable_editing": null,
       "enable_keys": false,
       "enable_keys_with_tooltip": null,
       "enable_search": null,
       "enable_tooltips": false,
       "full_screen_button": {
        "enable_editing": true,
        "enable_keys": true,
        "enable_tooltips": [
         "label"
        ],
        "menu": "all",
        "scroll_behavior": "pan"
       },
       "gene_data": null,
       "gene_font_size": null,
       "height": 500,
       "hide_all_labels": null,
       "hide_secondary_metabolites": null,
       "highlight_missing": null,
       "identifiers_on_map": null,
       "layout": "IPY_MODEL_f5d82eca60d84eec98e6066ad0091957",
       "marker_radius": null,
       "menu": null,
       "metabolite_compare_style": null,
       "metabolite_data": null,
       "metabolite_no_data_color": null,
       "metabolite_no_data_size": null,
       "metabolite_scale": null,
       "metabolite_scale_preset": null,
       "metabolite_styles": null,
       "never_ask_before_quit": null,
       "primary_metabolite_radius": null,
       "reaction_compare_style": null,
       "reaction_data": null,
       "reaction_no_data_color": null,
       "reaction_no_data_size": null,
       "reaction_scale": {},
       "reaction_scale_preset": null,
       "reaction_styles": [
        "color",
        "text"
       ],
       "scroll_behavior": "none",
       "secondary_metabolite_radius": null,
       "semantic_zoom": null,
       "show_gene_reaction_rules": null,
       "starting_reaction": null,
       "use_3d_transform": null,
       "zoom_to_element": null
      }
     },
     "8d0eba122b3a43d28263fbc92a08f4ac": {
      "model_module": "@jupyter-widgets/base",
      "model_module_version": "1.2.0",
      "model_name": "LayoutModel",
      "state": {}
     },
     "b52c20488a7f486bb985b4f4db2ae467": {
      "model_module": "@jupyter-widgets/base",
      "model_module_version": "1.2.0",
      "model_name": "LayoutModel",
      "state": {}
     },
     "bfe539753c15487fb490bed565b5a153": {
      "model_module": "@jupyter-widgets/base",
      "model_module_version": "1.2.0",
      "model_name": "LayoutModel",
      "state": {}
     },
     "d2eb37a1227a4d5dab35eb9eb00ebb5a": {
      "model_module": "escher",
      "model_module_version": "1.7.3",
      "model_name": "EscherMapModel",
      "state": {
       "_loaded_map_json": "[{\"map_name\": \"\", \"map_id\": \"\", \"map_description\": \"\", \"homepage\": \"\", \"schema\": \"https://escher.github.io/escher/jsonschema/1-0-0#\"}, {\"reactions\": {\"0\": {\"name\": \"PEPDEPHOS_RXN_c\", \"bigg_id\": \"PEPDEPHOS_RXN_c\", \"reversibility\": true, \"label_x\": 190.0, \"label_y\": 45.0, \"gene_reaction_rule\": \"\", \"genes\": [], \"segments\": {\"0\": {\"from_node_id\": \"5\", \"to_node_id\": \"6\", \"b1\": null, \"b2\": null}, \"1\": {\"from_node_id\": \"7\", \"to_node_id\": \"6\", \"b1\": null, \"b2\": null}, \"2\": {\"from_node_id\": \"0\", \"to_node_id\": \"5\", \"b1\": null, \"b2\": null}, \"3\": {\"from_node_id\": \"1\", \"to_node_id\": \"5\", \"b1\": null, \"b2\": null}, \"4\": {\"from_node_id\": \"2\", \"to_node_id\": \"7\", \"b1\": null, \"b2\": null}, \"5\": {\"from_node_id\": \"3\", \"to_node_id\": \"7\", \"b1\": null, \"b2\": null}, \"6\": {\"from_node_id\": \"4\", \"to_node_id\": \"7\", \"b1\": null, \"b2\": null}}, \"metabolites\": [{\"bigg_id\": \"ATP_c\", \"coefficient\": -1.0}, {\"bigg_id\": \"PYRUVATE_c\", \"coefficient\": -1.0}, {\"bigg_id\": \"ADP_c\", \"coefficient\": 1.0}, {\"bigg_id\": \"PHOSPHO_ENOL_PYRUVATE_c\", \"coefficient\": 1.0}, {\"bigg_id\": \"PROTON_c\", \"coefficient\": 1.0}]}, \"1\": {\"name\": \"PYRUVFORMLY_RXN_c\", \"bigg_id\": \"PYRUVFORMLY_RXN_c\", \"reversibility\": true, \"label_x\": 822.0, \"label_y\": 45.0, \"gene_reaction_rule\": \"\", \"genes\": [], \"segments\": {\"7\": {\"from_node_id\": \"12\", \"to_node_id\": \"13\", \"b1\": null, \"b2\": null}, \"8\": {\"from_node_id\": \"14\", \"to_node_id\": \"13\", \"b1\": null, \"b2\": null}, \"9\": {\"from_node_id\": \"8\", \"to_node_id\": \"12\", \"b1\": null, \"b2\": null}, \"10\": {\"from_node_id\": \"9\", \"to_node_id\": \"12\", \"b1\": null, \"b2\": null}, \"11\": {\"from_node_id\": \"10\", \"to_node_id\": \"14\", \"b1\": null, \"b2\": null}, \"12\": {\"from_node_id\": \"11\", \"to_node_id\": \"14\", \"b1\": null, \"b2\": null}}, \"metabolites\": [{\"bigg_id\": \"ACETYL_COA_c\", \"coefficient\": -1.0}, {\"bigg_id\": \"FORMATE_c\", \"coefficient\": -1.0}, {\"bigg_id\": \"CO_A_c\", \"coefficient\": 1.0}, {\"bigg_id\": \"PYRUVATE_c\", \"coefficient\": 1.0}]}, \"2\": {\"name\": \"FHLMULTI_RXN_c\", \"bigg_id\": \"FHLMULTI_RXN_c\", \"reversibility\": true, \"label_x\": 1499.0, \"label_y\": 45.0, \"gene_reaction_rule\": \"\", \"genes\": [], \"segments\": {\"13\": {\"from_node_id\": \"19\", \"to_node_id\": \"20\", \"b1\": null, \"b2\": null}, \"14\": {\"from_node_id\": \"21\", \"to_node_id\": \"20\", \"b1\": null, \"b2\": null}, \"15\": {\"from_node_id\": \"15\", \"to_node_id\": \"19\", \"b1\": null, \"b2\": null}, \"16\": {\"from_node_id\": \"16\", \"to_node_id\": \"19\", \"b1\": null, \"b2\": null}, \"17\": {\"from_node_id\": \"17\", \"to_node_id\": \"21\", \"b1\": null, \"b2\": null}, \"18\": {\"from_node_id\": \"18\", \"to_node_id\": \"21\", \"b1\": null, \"b2\": null}}, \"metabolites\": [{\"bigg_id\": \"FORMATE_c\", \"coefficient\": -1.0}, {\"bigg_id\": \"PROTON_c\", \"coefficient\": -1.0}, {\"bigg_id\": \"CARBON_DIOXIDE_c\", \"coefficient\": 1.0}, {\"bigg_id\": \"HYDROGEN_MOLECULE_c\", \"coefficient\": 1.0}]}}, \"nodes\": {\"0\": {\"node_type\": \"metabolite\", \"x\": 30.0, \"y\": 150.0, \"label_x\": 0.0, \"label_y\": 130.0, \"bigg_id\": \"ATP_c\", \"name\": \"ATP_c\", \"node_is_primary\": false}, \"1\": {\"node_type\": \"metabolite\", \"x\": 30.0, \"y\": 300.0, \"label_x\": 0.0, \"label_y\": 280.0, \"bigg_id\": \"PYRUVATE_c\", \"name\": \"PYRUVATE_c\", \"node_is_primary\": false}, \"2\": {\"node_type\": \"metabolite\", \"x\": 550.0, \"y\": 112.5, \"label_x\": 520.0, \"label_y\": 92.5, \"bigg_id\": \"ADP_c\", \"name\": \"ADP_c\", \"node_is_primary\": false}, \"3\": {\"node_type\": \"metabolite\", \"x\": 550.0, \"y\": 225.0, \"label_x\": 520.0, \"label_y\": 205.0, \"bigg_id\": \"PHOSPHO_ENOL_PYRUVATE_c\", \"name\": \"PHOSPHO_ENOL_PYRUVATE_c\", \"node_is_primary\": false}, \"4\": {\"node_type\": \"metabolite\", \"x\": 550.0, \"y\": 337.5, \"label_x\": 520.0, \"label_y\": 317.5, \"bigg_id\": \"PROTON_c\", \"name\": \"PROTON_c\", \"node_is_primary\": false}, \"5\": {\"node_type\": \"multimarker\", \"x\": 335.0, \"y\": 225.0}, \"6\": {\"node_type\": \"midmarker\", \"x\": 355.0, \"y\": 225.0}, \"7\": {\"node_type\": \"multimarker\", \"x\": 375.0, \"y\": 225.0}, \"8\": {\"node_type\": \"metabolite\", \"x\": 680.0, \"y\": 150.0, \"label_x\": 650.0, \"label_y\": 130.0, \"bigg_id\": \"ACETYL_COA_c\", \"name\": \"ACETYL_COA_c\", \"node_is_primary\": false}, \"9\": {\"node_type\": \"metabolite\", \"x\": 680.0, \"y\": 300.0, \"label_x\": 650.0, \"label_y\": 280.0, \"bigg_id\": \"FORMATE_c\", \"name\": \"FORMATE_c\", \"node_is_primary\": false}, \"10\": {\"node_type\": \"metabolite\", \"x\": 1200.0, \"y\": 150.0, \"label_x\": 1170.0, \"label_y\": 130.0, \"bigg_id\": \"CO_A_c\", \"name\": \"CO_A_c\", \"node_is_primary\": false}, \"11\": {\"node_type\": \"metabolite\", \"x\": 1200.0, \"y\": 300.0, \"label_x\": 1170.0, \"label_y\": 280.0, \"bigg_id\": \"PYRUVATE_c\", \"name\": \"PYRUVATE_c\", \"node_is_primary\": false}, \"12\": {\"node_type\": \"multimarker\", \"x\": 985.0, \"y\": 225.0}, \"13\": {\"node_type\": \"midmarker\", \"x\": 1005.0, \"y\": 225.0}, \"14\": {\"node_type\": \"multimarker\", \"x\": 1025.0, \"y\": 225.0}, \"15\": {\"node_type\": \"metabolite\", \"x\": 1330.0, \"y\": 150.0, \"label_x\": 1300.0, \"label_y\": 130.0, \"bigg_id\": \"FORMATE_c\", \"name\": \"FORMATE_c\", \"node_is_primary\": false}, \"16\": {\"node_type\": \"metabolite\", \"x\": 1330.0, \"y\": 300.0, \"label_x\": 1300.0, \"label_y\": 280.0, \"bigg_id\": \"PROTON_c\", \"name\": \"PROTON_c\", \"node_is_primary\": false}, \"17\": {\"node_type\": \"metabolite\", \"x\": 1850.0, \"y\": 150.0, \"label_x\": 1820.0, \"label_y\": 130.0, \"bigg_id\": \"CARBON_DIOXIDE_c\", \"name\": \"CARBON_DIOXIDE_c\", \"node_is_primary\": false}, \"18\": {\"node_type\": \"metabolite\", \"x\": 1850.0, \"y\": 300.0, \"label_x\": 1820.0, \"label_y\": 280.0, \"bigg_id\": \"HYDROGEN_MOLECULE_c\", \"name\": \"HYDROGEN_MOLECULE_c\", \"node_is_primary\": false}, \"19\": {\"node_type\": \"multimarker\", \"x\": 1635.0, \"y\": 225.0}, \"20\": {\"node_type\": \"midmarker\", \"x\": 1655.0, \"y\": 225.0}, \"21\": {\"node_type\": \"multimarker\", \"x\": 1675.0, \"y\": 225.0}}, \"text_labels\": {}, \"canvas\": {\"x\": 0, \"y\": 0, \"width\": 1950, \"height\": 450}}]",
       "_loaded_model_json": null,
       "allow_building_duplicate_reactions": false,
       "and_method_in_gene_reaction_rule": "mean",
       "canvas_size_and_loc": null,
       "cofactors": [
        "atp",
        "adp",
        "nad",
        "nadh",
        "nadp",
        "nadph",
        "gtp",
        "gdp",
        "h",
        "coa",
        "ump",
        "h2o",
        "ppi"
       ],
       "disabled_buttons": [
        "Clear reaction data",
        "Clear gene data",
        "Clear metabolite data"
       ],
       "embedded_css": null,
       "enable_editing": true,
       "enable_keys": false,
       "enable_keys_with_tooltip": true,
       "enable_search": true,
       "enable_tooltips": false,
       "full_screen_button": {
        "enable_editing": true,
        "enable_keys": true,
        "enable_tooltips": [
         "label"
        ],
        "menu": "all",
        "scroll_behavior": "pan"
       },
       "gene_data": null,
       "gene_font_size": 18,
       "height": 500,
       "hide_all_labels": false,
       "hide_secondary_metabolites": false,
       "highlight_missing": false,
       "identifiers_on_map": "bigg_id",
       "layout": "IPY_MODEL_74df90093e2f44b8b2936a4127936455",
       "marker_radius": 5,
       "menu": "all",
       "metabolite_compare_style": "log2_fold",
       "metabolite_data": null,
       "metabolite_no_data_color": "#ffffff",
       "metabolite_no_data_size": 10,
       "metabolite_scale": [
        {
         "color": "#fffaf0",
         "size": 20,
         "type": "min"
        },
        {
         "color": "#f1c470",
         "size": 30,
         "type": "median"
        },
        {
         "color": "#800000",
         "size": 40,
         "type": "max"
        }
       ],
       "metabolite_scale_preset": "WhYlRd",
       "metabolite_styles": [
        "color",
        "size",
        "text"
       ],
       "never_ask_before_quit": false,
       "primary_metabolite_radius": 20,
       "reaction_compare_style": "log2_fold",
       "reaction_data": null,
       "reaction_no_data_color": "#dcdcdc",
       "reaction_no_data_size": 8,
       "reaction_scale": [
        {
         "color": "rgb(220,220,220)",
         "type": "value",
         "value": 0
        }
       ],
       "reaction_scale_preset": null,
       "reaction_styles": [
        "color",
        "text"
       ],
       "scroll_behavior": "none",
       "secondary_metabolite_radius": 10,
       "semantic_zoom": null,
       "show_gene_reaction_rules": false,
       "starting_reaction": null,
       "use_3d_transform": false,
       "zoom_to_element": null
      }
     },
     "f5d82eca60d84eec98e6066ad0091957": {
      "model_module": "@jupyter-widgets/base",
      "model_module_version": "1.2.0",
      "model_name": "LayoutModel",
      "state": {}
     },
     "f8e6c6c04189445493df29e47371ba03": {
      "model_module": "escher",
      "model_module_version": "1.7.3",
      "model_name": "EscherMapModel",
      "state": {
       "_loaded_map_json": "[{\"map_name\": \"\", \"map_id\": \"\", \"map_description\": \"\", \"homepage\": \"\", \"schema\": \"https://escher.github.io/escher/jsonschema/1-0-0#\"}, {\"reactions\": {\"0\": {\"name\": \"PEPDEPHOS_RXN_c\", \"bigg_id\": \"PEPDEPHOS_RXN_c\", \"reversibility\": true, \"label_x\": 190.0, \"label_y\": 45.0, \"gene_reaction_rule\": \"\", \"genes\": [], \"segments\": {\"0\": {\"from_node_id\": \"5\", \"to_node_id\": \"6\", \"b1\": null, \"b2\": null}, \"1\": {\"from_node_id\": \"7\", \"to_node_id\": \"6\", \"b1\": null, \"b2\": null}, \"2\": {\"from_node_id\": \"0\", \"to_node_id\": \"5\", \"b1\": null, \"b2\": null}, \"3\": {\"from_node_id\": \"1\", \"to_node_id\": \"5\", \"b1\": null, \"b2\": null}, \"4\": {\"from_node_id\": \"2\", \"to_node_id\": \"7\", \"b1\": null, \"b2\": null}, \"5\": {\"from_node_id\": \"3\", \"to_node_id\": \"7\", \"b1\": null, \"b2\": null}, \"6\": {\"from_node_id\": \"4\", \"to_node_id\": \"7\", \"b1\": null, \"b2\": null}}, \"metabolites\": [{\"bigg_id\": \"ATP_c\", \"coefficient\": -1.0}, {\"bigg_id\": \"PYRUVATE_c\", \"coefficient\": -1.0}, {\"bigg_id\": \"ADP_c\", \"coefficient\": 1.0}, {\"bigg_id\": \"PHOSPHO_ENOL_PYRUVATE_c\", \"coefficient\": 1.0}, {\"bigg_id\": \"PROTON_c\", \"coefficient\": 1.0}]}, \"1\": {\"name\": \"PYRUVFORMLY_RXN_c\", \"bigg_id\": \"PYRUVFORMLY_RXN_c\", \"reversibility\": true, \"label_x\": 822.0, \"label_y\": 45.0, \"gene_reaction_rule\": \"\", \"genes\": [], \"segments\": {\"7\": {\"from_node_id\": \"12\", \"to_node_id\": \"13\", \"b1\": null, \"b2\": null}, \"8\": {\"from_node_id\": \"14\", \"to_node_id\": \"13\", \"b1\": null, \"b2\": null}, \"9\": {\"from_node_id\": \"8\", \"to_node_id\": \"12\", \"b1\": null, \"b2\": null}, \"10\": {\"from_node_id\": \"9\", \"to_node_id\": \"12\", \"b1\": null, \"b2\": null}, \"11\": {\"from_node_id\": \"10\", \"to_node_id\": \"14\", \"b1\": null, \"b2\": null}, \"12\": {\"from_node_id\": \"11\", \"to_node_id\": \"14\", \"b1\": null, \"b2\": null}}, \"metabolites\": [{\"bigg_id\": \"ACETYL_COA_c\", \"coefficient\": -1.0}, {\"bigg_id\": \"FORMATE_c\", \"coefficient\": -1.0}, {\"bigg_id\": \"CO_A_c\", \"coefficient\": 1.0}, {\"bigg_id\": \"PYRUVATE_c\", \"coefficient\": 1.0}]}, \"2\": {\"name\": \"FHLMULTI_RXN_c\", \"bigg_id\": \"FHLMULTI_RXN_c\", \"reversibility\": true, \"label_x\": 1499.0, \"label_y\": 45.0, \"gene_reaction_rule\": \"\", \"genes\": [], \"segments\": {\"13\": {\"from_node_id\": \"19\", \"to_node_id\": \"20\", \"b1\": null, \"b2\": null}, \"14\": {\"from_node_id\": \"21\", \"to_node_id\": \"20\", \"b1\": null, \"b2\": null}, \"15\": {\"from_node_id\": \"15\", \"to_node_id\": \"19\", \"b1\": null, \"b2\": null}, \"16\": {\"from_node_id\": \"16\", \"to_node_id\": \"19\", \"b1\": null, \"b2\": null}, \"17\": {\"from_node_id\": \"17\", \"to_node_id\": \"21\", \"b1\": null, \"b2\": null}, \"18\": {\"from_node_id\": \"18\", \"to_node_id\": \"21\", \"b1\": null, \"b2\": null}}, \"metabolites\": [{\"bigg_id\": \"FORMATE_c\", \"coefficient\": -1.0}, {\"bigg_id\": \"PROTON_c\", \"coefficient\": -1.0}, {\"bigg_id\": \"CARBON_DIOXIDE_c\", \"coefficient\": 1.0}, {\"bigg_id\": \"HYDROGEN_MOLECULE_c\", \"coefficient\": 1.0}]}}, \"nodes\": {\"0\": {\"node_type\": \"metabolite\", \"x\": 30.0, \"y\": 150.0, \"label_x\": 0.0, \"label_y\": 130.0, \"bigg_id\": \"ATP_c\", \"name\": \"ATP_c\", \"node_is_primary\": false}, \"1\": {\"node_type\": \"metabolite\", \"x\": 30.0, \"y\": 300.0, \"label_x\": 0.0, \"label_y\": 280.0, \"bigg_id\": \"PYRUVATE_c\", \"name\": \"PYRUVATE_c\", \"node_is_primary\": false}, \"2\": {\"node_type\": \"metabolite\", \"x\": 550.0, \"y\": 112.5, \"label_x\": 520.0, \"label_y\": 92.5, \"bigg_id\": \"ADP_c\", \"name\": \"ADP_c\", \"node_is_primary\": false}, \"3\": {\"node_type\": \"metabolite\", \"x\": 550.0, \"y\": 225.0, \"label_x\": 520.0, \"label_y\": 205.0, \"bigg_id\": \"PHOSPHO_ENOL_PYRUVATE_c\", \"name\": \"PHOSPHO_ENOL_PYRUVATE_c\", \"node_is_primary\": false}, \"4\": {\"node_type\": \"metabolite\", \"x\": 550.0, \"y\": 337.5, \"label_x\": 520.0, \"label_y\": 317.5, \"bigg_id\": \"PROTON_c\", \"name\": \"PROTON_c\", \"node_is_primary\": false}, \"5\": {\"node_type\": \"multimarker\", \"x\": 335.0, \"y\": 225.0}, \"6\": {\"node_type\": \"midmarker\", \"x\": 355.0, \"y\": 225.0}, \"7\": {\"node_type\": \"multimarker\", \"x\": 375.0, \"y\": 225.0}, \"8\": {\"node_type\": \"metabolite\", \"x\": 680.0, \"y\": 150.0, \"label_x\": 650.0, \"label_y\": 130.0, \"bigg_id\": \"ACETYL_COA_c\", \"name\": \"ACETYL_COA_c\", \"node_is_primary\": false}, \"9\": {\"node_type\": \"metabolite\", \"x\": 680.0, \"y\": 300.0, \"label_x\": 650.0, \"label_y\": 280.0, \"bigg_id\": \"FORMATE_c\", \"name\": \"FORMATE_c\", \"node_is_primary\": false}, \"10\": {\"node_type\": \"metabolite\", \"x\": 1200.0, \"y\": 150.0, \"label_x\": 1170.0, \"label_y\": 130.0, \"bigg_id\": \"CO_A_c\", \"name\": \"CO_A_c\", \"node_is_primary\": false}, \"11\": {\"node_type\": \"metabolite\", \"x\": 1200.0, \"y\": 300.0, \"label_x\": 1170.0, \"label_y\": 280.0, \"bigg_id\": \"PYRUVATE_c\", \"name\": \"PYRUVATE_c\", \"node_is_primary\": false}, \"12\": {\"node_type\": \"multimarker\", \"x\": 985.0, \"y\": 225.0}, \"13\": {\"node_type\": \"midmarker\", \"x\": 1005.0, \"y\": 225.0}, \"14\": {\"node_type\": \"multimarker\", \"x\": 1025.0, \"y\": 225.0}, \"15\": {\"node_type\": \"metabolite\", \"x\": 1330.0, \"y\": 150.0, \"label_x\": 1300.0, \"label_y\": 130.0, \"bigg_id\": \"FORMATE_c\", \"name\": \"FORMATE_c\", \"node_is_primary\": false}, \"16\": {\"node_type\": \"metabolite\", \"x\": 1330.0, \"y\": 300.0, \"label_x\": 1300.0, \"label_y\": 280.0, \"bigg_id\": \"PROTON_c\", \"name\": \"PROTON_c\", \"node_is_primary\": false}, \"17\": {\"node_type\": \"metabolite\", \"x\": 1850.0, \"y\": 150.0, \"label_x\": 1820.0, \"label_y\": 130.0, \"bigg_id\": \"CARBON_DIOXIDE_c\", \"name\": \"CARBON_DIOXIDE_c\", \"node_is_primary\": false}, \"18\": {\"node_type\": \"metabolite\", \"x\": 1850.0, \"y\": 300.0, \"label_x\": 1820.0, \"label_y\": 280.0, \"bigg_id\": \"HYDROGEN_MOLECULE_c\", \"name\": \"HYDROGEN_MOLECULE_c\", \"node_is_primary\": false}, \"19\": {\"node_type\": \"multimarker\", \"x\": 1635.0, \"y\": 225.0}, \"20\": {\"node_type\": \"midmarker\", \"x\": 1655.0, \"y\": 225.0}, \"21\": {\"node_type\": \"multimarker\", \"x\": 1675.0, \"y\": 225.0}}, \"text_labels\": {}, \"canvas\": {\"x\": 0, \"y\": 0, \"width\": 1950, \"height\": 450}}]",
       "_loaded_model_json": null,
       "allow_building_duplicate_reactions": false,
       "and_method_in_gene_reaction_rule": "mean",
       "canvas_size_and_loc": null,
       "cofactors": [
        "atp",
        "adp",
        "nad",
        "nadh",
        "nadp",
        "nadph",
        "gtp",
        "gdp",
        "h",
        "coa",
        "ump",
        "h2o",
        "ppi"
       ],
       "disabled_buttons": [
        "Clear reaction data",
        "Clear gene data",
        "Clear metabolite data"
       ],
       "embedded_css": null,
       "enable_editing": true,
       "enable_keys": false,
       "enable_keys_with_tooltip": true,
       "enable_search": true,
       "enable_tooltips": false,
       "full_screen_button": {
        "enable_editing": true,
        "enable_keys": true,
        "enable_tooltips": [
         "label"
        ],
        "menu": "all",
        "scroll_behavior": "pan"
       },
       "gene_data": null,
       "gene_font_size": 18,
       "height": 500,
       "hide_all_labels": false,
       "hide_secondary_metabolites": false,
       "highlight_missing": false,
       "identifiers_on_map": "bigg_id",
       "layout": "IPY_MODEL_1aea3c0fe89647879fbb35eef856d6ae",
       "marker_radius": 5,
       "menu": "all",
       "metabolite_compare_style": "log2_fold",
       "metabolite_data": null,
       "metabolite_no_data_color": "#ffffff",
       "metabolite_no_data_size": 10,
       "metabolite_scale": [
        {
         "color": "#fffaf0",
         "size": 20,
         "type": "min"
        },
        {
         "color": "#f1c470",
         "size": 30,
         "type": "median"
        },
        {
         "color": "#800000",
         "size": 40,
         "type": "max"
        }
       ],
       "metabolite_scale_preset": "WhYlRd",
       "metabolite_styles": [
        "color",
        "size",
        "text"
       ],
       "never_ask_before_quit": false,
       "primary_metabolite_radius": 20,
       "reaction_compare_style": "log2_fold",
       "reaction_data": null,
       "reaction_no_data_color": "#dcdcdc",
       "reaction_no_data_size": 8,
       "reaction_scale": [
        {
         "color": "rgb(220,220,220)",
         "type": "value",
         "value": 0
        }
       ],
       "reaction_scale_preset": null,
       "reaction_styles": [
        "color",
        "text"
       ],
       "scroll_behavior": "none",
       "secondary_metabolite_radius": 10,
       "semantic_zoom": null,
       "show_gene_reaction_rules": false,
       "starting_reaction": null,
       "use_3d_transform": false,
       "zoom_to_element": null
      }
     }
    },
    "version_major": 2,
    "version_minor": 0
   }
  }
 },
 "nbformat": 4,
 "nbformat_minor": 1
}
