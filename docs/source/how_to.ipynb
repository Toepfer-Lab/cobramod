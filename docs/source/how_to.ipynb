{
 "cells": [
  {
   "cell_type": "code",
   "execution_count": 1,
   "metadata": {
    "colab": {
     "base_uri": "https://localhost:8080/"
    },
    "id": "jObtNBXPw30t",
    "outputId": "723b895d-f149-4f89-db70-555e785266ab"
   },
   "outputs": [
    {
     "name": "stdout",
     "output_type": "stream",
     "text": [
      "Scaling...\n",
      " A: min|aij| =  1.000e+00  max|aij| =  1.000e+00  ratio =  1.000e+00\n",
      "Problem data seem to be well scaled\n",
      "0.5.5-alpha.1\n"
     ]
    }
   ],
   "source": [
    "from IPython.display import display\n",
    "from cobramod import __version__\n",
    "print(__version__)\n",
    "# From Escher:\n",
    "# This option turns off the warning message if you leave or refresh this page\n",
    "import escher\n",
    "escher.rc['never_ask_before_quit'] = True"
   ]
  },
  {
   "cell_type": "markdown",
   "metadata": {
    "id": "XV2pICiM740l"
   },
   "source": [
    "# Functions"
   ]
  },
  {
   "cell_type": "markdown",
   "metadata": {
    "id": "tjphNJOQF7B3"
   },
   "source": [
    "## Retrieving metabolic pathway information\n",
    "\n",
    "CobraMod can obtain metabolic pathway information (metabolites, reactions or pathways) from various databases by using database-specific identifiers. It supports all databases from the [BioCyc collection](\n",
    "https://biocyc.org/\n",
    "), [Plant Metabolic Network (PMN)](\n",
    "https://pmn.plantcyc.org/\n",
    "), [the KEGG database](\n",
    "https://www.genome.jp/kegg/\n",
    ") and [the BiGG Models repository](\n",
    "http://bigg.ucsd.edu/\n",
    "). Call `cobramod.available_databases` to see all supported databases."
   ]
  },
  {
   "cell_type": "code",
   "execution_count": 2,
   "metadata": {
    "colab": {
     "base_uri": "https://localhost:8080/",
     "height": 339
    },
    "id": "FKwfLSf07408",
    "outputId": "b81e0726-b6f6-4406-aede-009be86a9e33"
   },
   "outputs": [
    {
     "data": {
      "text/html": [
       "<p>CobraMod supports Biocyc, the Plant Metabolic Network (PMN), KEGG and BiGG Models repository. Biocyc includes around 18.000 sub-databases and a complete list for BioCyc can be found at 'https://biocyc.org/biocyc-pgdb-list.shtml'. The database-specific identifiers can be found in the URL of the respective data. For instance, for \"diphosphate\" this is:</p>\n",
       "<table style=\"width: 100%; border-collapse: collapse; float: left;\" border=\"1\">\n",
       "<tbody> <tr> <td style=\"width: 50%;\"> <h3>Database</h3> </td> <td style=\"width:\n",
       "50%;\"> <h3>URL with identifier (bold)</h3> </td> </tr> <tr> <td style=\"width:\n",
       "50%;\">BioCyc, sub-database ECOLI</td> <td style=\"width:\n",
       "50%;\">https://biocyc.org/compound?orgid=ECOLI&amp;id=<strong>PPI</strong></td>\n",
       "</tr> <tr> <td style=\"width: 50%;\">Plant Metabolic Network, sub-database\n",
       "CORN</td> <td style=\"width:\n",
       "50%;\">https://pmn.plantcyc.org/compound?orgid=CORN&amp;id=<strong>PPI</strong></td>\n",
       "</tr> <tr> <td style=\"width: 50%;\">KEGG</td> <td style=\"width:\n",
       "50%;\">https://www.genome.jp/entry/<strong>C00013</strong></td> </tr> <tr> <td\n",
       "style=\"width: 50%;\">BiGG Models Repository, universal model</td> <td\n",
       "style=\"width:\n",
       "50%;\">http://bigg.ucsd.edu/universal/metabolites/<strong>ppi</strong></td>\n",
       "</tr> </tbody> </table> <p>CobraMod uses abbreviations to represent the\n",
       "databases or sub-databases:</p> <table style=\"width: 100%; border-collapse:\n",
       "collapse; float: left;\" border=\"1\"> <tbody> <tr> <td style=\"width: 50%;\">\n",
       "<h3>Database</h3> </td> <td style=\"width: 50%;\"> <h3>Abbreviation</h3> </td>\n",
       "</tr> <tr> <td style=\"width: 50%;\">BioCyc</td> <td style=\"width: 50%;\">META or\n",
       "identifier of sub-database e.g: ECOLI, ARA, GCF_000010885</td> </tr> <tr> <td\n",
       "style=\"width: 50%;\">Plant Metabolic Network</td> <td style=\"width: 50%;\">Prefix\n",
       "\"pmn:\" with the sub-database identifier, e.g pmn:PLANT, pmn:ARA, pmn:CORN</td>\n",
       "</tr> <tr> <td style=\"width: 50%;\">KEGG</td> <td style=\"width: 50%;\">KEGG</td>\n",
       "</tr> <tr> <td style=\"width: 50%;\">BiGG Models Repository</td> <td\n",
       "style=\"width: 50%;\">BIGG</td> </tr> </tbody> </table>\n"
      ],
      "text/plain": [
       "CobraMod supports Biocyc, the Plant Metabolic Network (PMN), KEGG and BiGG Models repository. Biocyc includes around 18.000 sub-databases and a complete list for BioCyc can be found at 'https://biocyc.org/biocyc-pgdb-list.shtml'. The database-specific identifiers can be found in the URL of the respective data. For instance, for \"diphosphate\" this is:\n",
       "\n",
       "BioCyc, sub-database ECOLI -> https://biocyc.org/compound?orgid=ECOLI&id=PPI ->\n",
       "PPI\n",
       "Plant Metabolic Network, sub-database CORN ->\n",
       "https://pmn.plantcyc.org/compound?orgid=CORN&id=PPI -> PPI\n",
       "KEGG ->\n",
       "https://www.genome.jp/entry/C00013 -> C00013\n",
       "BiGG Models Repository,\n",
       "universal model -> http://bigg.ucsd.edu/universal/metabolites/ppi -> ppi\n",
       "\n",
       "CobraMod uses abbreviations to represent the databases or sub-databases:\n",
       "\n",
       "Database -> Abbreviation\n",
       "BioCyc -> META or identifier of sub-database e.g:\n",
       "ECOLI, ARA, GCF_000010885\n",
       "Plant Metabolic Network -> pmn:PLANT or identifier\n",
       "of sub-database e.g pmn:ARA, pmn:CORN\n",
       "KEGG -> KEGG\n",
       "BiGG Models Repository ->\n",
       "BIGG\n",
       "        "
      ]
     },
     "execution_count": 2,
     "metadata": {},
     "output_type": "execute_result"
    }
   ],
   "source": [
    "from cobramod import available_databases\n",
    "                                         \n",
    "available_databases"
   ]
  },
  {
   "cell_type": "markdown",
   "metadata": {
    "id": "t3ADoeWMGqCV"
   },
   "source": [
    "\n",
    "\n",
    "The user can download the metabolic pathway information using the\n",
    "`cobramod.get_data` function. In this example we download information from \n",
    "BioCyc sub-database for yeast.\n"
   ]
  },
  {
   "cell_type": "code",
   "execution_count": 3,
   "metadata": {
    "id": "RFawmPqO740o"
   },
   "outputs": [],
   "source": [
    "from cobramod import get_data\n",
    "from pathlib import Path\n",
    "\n",
    "dir_data = Path.cwd().resolve().joinpath(\"data\")\n",
    "identifiers = [\n",
    "    \"CPD-14074\",\n",
    "    \"CPD-14075\",\n",
    "    \"CPD-14076\",\n",
    "    \"CPD-14553\",\n",
    "    \"CPD-15317\",\n",
    "    \"CPD-15322\",\n",
    "    \"CPD-15323\",\n",
    "]\n",
    "\n",
    "for metabolite in identifiers:\n",
    "    get_data(\n",
    "        directory=dir_data,\n",
    "        identifier=metabolite,\n",
    "        database=\"YEAST\"\n",
    "    )"
   ]
  },
  {
   "cell_type": "markdown",
   "metadata": {
    "id": "GL14MNJG740q"
   },
   "source": [
    "The first argument in [cobramod.get_data()](\n",
    "module/cobramod/index.html#cobramod.get_data) is the system path where\n",
    "CobraMod stores the metabolic pathway information. CobraMod uses [pathlib](\n",
    "https://docs.python.org/3/library/pathlib.html#pathlib.Path) for path \n",
    "representation. The second argument is the original identifier used in the respective database. In this example we retrieve data from BioCyc \n",
    "sub-database `YEAST` The last argument is the abbreviation of the database. \n",
    "\n",
    "CobraMod creates a directory with the name of the database and stores the\n",
    "metabolic pathway information in it:\n",
    "\n",
    "```\n",
    "data\n",
    "`-- YEAST\n",
    "    |-- CPD-14074.xml\n",
    "    |-- CPD-14075.xml\n",
    "    |-- CPD-14076.xml\n",
    "    |-- CPD-14553.xml\n",
    "    |-- CPD-15317.xml\n",
    "    |-- CPD-15322.xml\n",
    "    `-- CPD-15323.xml\n",
    "```"
   ]
  },
  {
   "cell_type": "markdown",
   "metadata": {
    "id": "CjC8UWKk740t"
   },
   "source": [
    "## Converting stored-data into COBRApy objects\n",
    "\n",
    "CobraMod can convert metabolic pathway information (metabolites, reactions, pathways) into COBRApy objects ([cobra.Reaction](\n",
    "  https://cobrapy.readthedocs.io/en/latest/autoapi/cobra/index.html#cobra.Reaction\n",
    ") and [cobra.Metabolite](\n",
    "  https://cobrapy.readthedocs.io/en/latest/autoapi/cobra/index.html#cobra.Metabolite\n",
    ")). It can thus be seamlessly integrated with a COBRApy workflow.\n",
    "\n",
    "The function [cobramod.create_object()](\n",
    "module/cobramod/index.html#cobramod.create_object) creates COBRApy objects from metabolic pathway data retrieved by [cobramod.get_data()](\n",
    "module/cobramod/index.html#cobramod.get_data). If no pathway information was downloaded [cobramod.create_object()]( module/cobramod/index.html#cobramod.create_object) retrieves it automatically.\n",
    "\n",
    "In this example, we convert the metabolite *2-Oxoglutarate* with the\n",
    "KEGG identifier [C00026](\n",
    "https://www.genome.jp/dbget-bin/www_bget?C00026) into a COBRApy object.\n",
    "CobraMod automatically identifies the KEGG entry as a metabolite and converts it into the corresponding COBRApy Metabolite.\n",
    "\n",
    "The first argument is the database-specific identifier (`C00026`) followed by\n",
    "the database abbreviation (`KEGG`). The third argument is the path \n",
    "representation for the directory of the metabolic pathway information. CobraMod\n",
    "downloads the metabolic pathway information into this directory and will always\n",
    "utilize it instead of downloading it again. The last argument is the\n",
    "compartment of the reaction (`c` for cytosol)."
   ]
  },
  {
   "cell_type": "code",
   "execution_count": 4,
   "metadata": {
    "colab": {
     "base_uri": "https://localhost:8080/",
     "height": 168
    },
    "id": "s7osopQo740t",
    "outputId": "e5e58e24-1760-4b3a-c511-86838a1d8c83"
   },
   "outputs": [
    {
     "name": "stdout",
     "output_type": "stream",
     "text": [
      "<class 'cobra.core.metabolite.Metabolite'>\n"
     ]
    },
    {
     "data": {
      "text/html": [
       "\n",
       "        <table>\n",
       "            <tr>\n",
       "                <td><strong>Metabolite identifier</strong></td><td>C00026_c</td>\n",
       "            </tr><tr>\n",
       "                <td><strong>Name</strong></td><td>2-Oxoglutarate;</td>\n",
       "            </tr><tr>\n",
       "                <td><strong>Memory address</strong></td>\n",
       "                <td>0x07f835392c790</td>\n",
       "            </tr><tr>\n",
       "                <td><strong>Formula</strong></td><td>C5H6O5</td>\n",
       "            </tr><tr>\n",
       "                <td><strong>Compartment</strong></td><td>c</td>\n",
       "            </tr><tr>\n",
       "                <td><strong>In 0 reaction(s)</strong></td><td>\n",
       "                    </td>\n",
       "            </tr>\n",
       "        </table>"
      ],
      "text/plain": [
       "<Metabolite C00026_c at 0x7f835392c790>"
      ]
     },
     "execution_count": 4,
     "metadata": {},
     "output_type": "execute_result"
    }
   ],
   "source": [
    "from cobramod import create_object\n",
    "from pathlib import Path\n",
    "\n",
    "# Path for the metabolic pathway information directory                                                                        \n",
    "dir_data = Path.cwd().resolve().joinpath(\"data\")\n",
    "\n",
    "new_object = create_object(\n",
    "    identifier=\"C00026\",\n",
    "    database=\"KEGG\",\n",
    "    directory=dir_data,\n",
    "    compartment=\"c\"\n",
    ")\n",
    "                                             \n",
    "print(type(new_object))\n",
    "new_object"
   ]
  },
  {
   "cell_type": "markdown",
   "metadata": {
    "id": "N-0zvhHTJfAz"
   },
   "source": [
    "In the second example below, we convert the reaction [RXN-11502](\n",
    "https://pmn.plantcyc.org/CORN/NEW-IMAGE?object=RXN-11502) from the PMN sub-database CORN into a COBRApy reaction. The\n",
    "first argument is the database-specific identifier (`RXN-11502`) followed by\n",
    "the database identifier (`pmn:CORN`). CobraMod automatically takes \n",
    "reversibility and gene information from the database entry and adds it to the reaction object."
   ]
  },
  {
   "cell_type": "code",
   "execution_count": 5,
   "metadata": {
    "colab": {
     "base_uri": "https://localhost:8080/",
     "height": 285
    },
    "id": "60lBmpkt8qtF",
    "outputId": "6a4ebc41-3023-4a03-a4eb-a5e295820614"
   },
   "outputs": [
    {
     "name": "stdout",
     "output_type": "stream",
     "text": [
      "<class 'cobra.core.reaction.Reaction'>\n"
     ]
    },
    {
     "data": {
      "text/html": [
       "\n",
       "        <table>\n",
       "            <tr>\n",
       "                <td><strong>Reaction identifier</strong></td><td>RXN_11501_c</td>\n",
       "            </tr><tr>\n",
       "                <td><strong>Name</strong></td><td>alkaline &alpha;- galactosidase</td>\n",
       "            </tr><tr>\n",
       "                <td><strong>Memory address</strong></td>\n",
       "                <td>0x07f8353912fd0</td>\n",
       "            </tr><tr>\n",
       "                <td><strong>Stoichiometry</strong></td>\n",
       "                <td>\n",
       "                    <p style='text-align:right'>CPD_170_c + WATER_c --> ALPHA_D_GALACTOSE_c + CPD_1099_c</p>\n",
       "                    <p style='text-align:right'>stachyose + H2O --> alpha-D-galactopyranose + raffinose</p>\n",
       "                </td>\n",
       "            </tr><tr>\n",
       "                <td><strong>GPR</strong></td><td>ZM00001D031300 or ZM00001D031303 or ZM00001D003279</td>\n",
       "            </tr><tr>\n",
       "                <td><strong>Lower bound</strong></td><td>0</td>\n",
       "            </tr><tr>\n",
       "                <td><strong>Upper bound</strong></td><td>1000</td>\n",
       "            </tr>\n",
       "        </table>\n",
       "        "
      ],
      "text/plain": [
       "<Reaction RXN_11501_c at 0x7f8353912fd0>"
      ]
     },
     "metadata": {},
     "output_type": "display_data"
    },
    {
     "data": {
      "text/plain": [
       "frozenset({<Gene ZM00001D003279 at 0x7f83538df190>,\n",
       "           <Gene ZM00001D031300 at 0x7f83538dfe10>,\n",
       "           <Gene ZM00001D031303 at 0x7f83538df650>})"
      ]
     },
     "execution_count": 5,
     "metadata": {},
     "output_type": "execute_result"
    }
   ],
   "source": [
    "new_object = create_object(\n",
    "    identifier=\"RXN-11501\",\n",
    "    database=\"pmn:CORN\",\n",
    "    directory=dir_data,\n",
    "    compartment=\"c\"\n",
    ")\n",
    "                                             \n",
    "print(type(new_object))\n",
    "display(new_object)\n",
    "new_object.genes"
   ]
  },
  {
   "cell_type": "markdown",
   "metadata": {
    "id": "jlw6Vkuy740u"
   },
   "source": [
    "\n",
    "## Adding metabolites\n",
    "\n",
    "The function [cobramod.add_metabolites()](\n",
    "module/cobramod/index.html#cobramod.add_metabolites)\n",
    "extends the COBRApy function [model.add_metabolites()](\n",
    "https://cobrapy.readthedocs.io/en/latest/autoapi/cobra/core/model/index.html#cobra.core.model.Model.add_metabolites\n",
    ") and can be used with a simple syntax. It can utilize a single string, a list of strings, a file path or a COBRAPy metabolite object. In the next\n",
    "examples we showcase these options. We use the *E. coli* core model from COBRApy as test model. This core model can be found under `cobramod.test.textbook`. If the argument `obj` is used as a string, it can be the database-specific identifier of the respective metabolite and its compartment or a user-defined metabolite. It uses the following syntax:\n",
    "\n",
    "------\n",
    "\n",
    "**SYNTAX**  \n",
    "\n",
    "To add metabolite information from a database:\n",
    "\n",
    "    database-specific_identifier, compartment\n",
    "\n",
    "To add user-curated metabolites:\n",
    "\n",
    "    user-curated_identifier, name, compartment, chemical_formula, molecular_charge\n",
    "\n",
    "------\n",
    "\n",
    "In the first example, we add the metabolite *L-methionine* with the MetaCyc\n",
    "identifier [MET](\n",
    "https://metacyc.org/compound?orgid=META&id=MET) to the test model. The first\n",
    "argument is the model name. The argument `obj` contains the identifier\n",
    "`MET` and the compartment `c`. The second argument is the database identifier\n",
    "(`META`) and the third argument is the directory where CobraMod stores the metabolite information.\n"
   ]
  },
  {
   "cell_type": "code",
   "execution_count": 6,
   "metadata": {
    "colab": {
     "base_uri": "https://localhost:8080/",
     "height": 168
    },
    "id": "TgiIWEX3740v",
    "outputId": "0d862e96-bcdc-4669-c623-55a7beec99e2"
   },
   "outputs": [
    {
     "name": "stdout",
     "output_type": "stream",
     "text": [
      "<class 'cobra.core.metabolite.Metabolite'>\n"
     ]
    },
    {
     "data": {
      "text/html": [
       "\n",
       "        <table>\n",
       "            <tr>\n",
       "                <td><strong>Metabolite identifier</strong></td><td>MET_c</td>\n",
       "            </tr><tr>\n",
       "                <td><strong>Name</strong></td><td>L-methionine</td>\n",
       "            </tr><tr>\n",
       "                <td><strong>Memory address</strong></td>\n",
       "                <td>0x07f8353221e10</td>\n",
       "            </tr><tr>\n",
       "                <td><strong>Formula</strong></td><td>C5H11N1O2S1</td>\n",
       "            </tr><tr>\n",
       "                <td><strong>Compartment</strong></td><td>c</td>\n",
       "            </tr><tr>\n",
       "                <td><strong>In 0 reaction(s)</strong></td><td>\n",
       "                    </td>\n",
       "            </tr>\n",
       "        </table>"
      ],
      "text/plain": [
       "<Metabolite MET_c at 0x7f8353221e10>"
      ]
     },
     "execution_count": 6,
     "metadata": {},
     "output_type": "execute_result"
    }
   ],
   "source": [
    "from cobramod import add_metabolites\n",
    "from cobramod.test import textbook_biocyc\n",
    "from pathlib import Path\n",
    "\n",
    "# Path for the metabolic pathway information directory                                                                        \n",
    "dir_data = Path.cwd().resolve().joinpath(\"data\")\n",
    "# Using copy\n",
    "test_model = textbook_biocyc.copy()\n",
    "\n",
    "add_metabolites(\n",
    "    model=test_model,\n",
    "    obj=\"MET, c\",\n",
    "    database=\"META\",\n",
    "    directory=dir_data,\n",
    ")\n",
    "print(type(test_model.metabolites.get_by_id(\"MET_c\")))\n",
    "test_model.metabolites.get_by_id(\"MET_c\")"
   ]
  },
  {
   "cell_type": "markdown",
   "metadata": {
    "id": "32whoodj740v"
   },
   "source": [
    "In the second example, we add two metabolites ([methionine](\n",
    "https://metacyc.org/compound?orgid=META&id=MET) and [sucrose](\n",
    "https://metacyc.org/compound?orgid=META&id=SUCROSE\n",
    ")) from MetaCyc. In the argument `obj` we define a list with the database-specific metabolite identifiers and the respecitive compartments. \n",
    "The rest of the arguments remains the same as in the previous example. \n",
    "CobraMod skips adding metabolites which are already in the model and prints \n",
    "a warning. The metabolite information contains multiple cross-references \n",
    "database entries. If an entry is found in the model, then CobraMod uses it\n",
    "instead of creating a new COBRApy metabolite."
   ]
  },
  {
   "cell_type": "code",
   "execution_count": 7,
   "metadata": {
    "colab": {
     "base_uri": "https://localhost:8080/",
     "height": 318
    },
    "id": "TOWdeeQD740w",
    "outputId": "b4407f10-98dd-4cd0-bb9a-da5aff2785f5"
   },
   "outputs": [
    {
     "name": "stderr",
     "output_type": "stream",
     "text": [
      "/home/stefano/Documents/cobramod/src/cobramod/core/creation.py:1005: UserWarning: Metabolite \"MET_c\" is already present in the model. Skipping addition.\n",
      "  warn(message=msg, category=UserWarning)\n"
     ]
    },
    {
     "data": {
      "text/html": [
       "\n",
       "        <table>\n",
       "            <tr>\n",
       "                <td><strong>Metabolite identifier</strong></td><td>MET_c</td>\n",
       "            </tr><tr>\n",
       "                <td><strong>Name</strong></td><td>L-methionine</td>\n",
       "            </tr><tr>\n",
       "                <td><strong>Memory address</strong></td>\n",
       "                <td>0x07f8353221e10</td>\n",
       "            </tr><tr>\n",
       "                <td><strong>Formula</strong></td><td>C5H11N1O2S1</td>\n",
       "            </tr><tr>\n",
       "                <td><strong>Compartment</strong></td><td>c</td>\n",
       "            </tr><tr>\n",
       "                <td><strong>In 0 reaction(s)</strong></td><td>\n",
       "                    </td>\n",
       "            </tr>\n",
       "        </table>"
      ],
      "text/plain": [
       "<Metabolite MET_c at 0x7f8353221e10>"
      ]
     },
     "metadata": {},
     "output_type": "display_data"
    },
    {
     "data": {
      "text/html": [
       "\n",
       "        <table>\n",
       "            <tr>\n",
       "                <td><strong>Metabolite identifier</strong></td><td>SUCROSE_c</td>\n",
       "            </tr><tr>\n",
       "                <td><strong>Name</strong></td><td>sucrose</td>\n",
       "            </tr><tr>\n",
       "                <td><strong>Memory address</strong></td>\n",
       "                <td>0x07f835327b3d0</td>\n",
       "            </tr><tr>\n",
       "                <td><strong>Formula</strong></td><td>C12H22O11</td>\n",
       "            </tr><tr>\n",
       "                <td><strong>Compartment</strong></td><td>c</td>\n",
       "            </tr><tr>\n",
       "                <td><strong>In 0 reaction(s)</strong></td><td>\n",
       "                    </td>\n",
       "            </tr>\n",
       "        </table>"
      ],
      "text/plain": [
       "<Metabolite SUCROSE_c at 0x7f835327b3d0>"
      ]
     },
     "execution_count": 7,
     "metadata": {},
     "output_type": "execute_result"
    }
   ],
   "source": [
    "add_metabolites(\n",
    "    model=test_model,\n",
    "    obj=[\"MET, c\", \"SUCROSE, c\"],\n",
    "    database=\"META\",\n",
    "    directory=dir_data,\n",
    ")\n",
    "# Show metabolites in jupyter\n",
    "display(test_model.metabolites.get_by_id(\"MET_c\"))  \n",
    "test_model.metabolites.get_by_id(\"SUCROSE_c\")"
   ]
  },
  {
   "cell_type": "markdown",
   "metadata": {
    "id": "_r-7dIhC740x"
   },
   "source": [
    "In the third example, we use a text file to add metabolites to the test\n",
    "model. We use the file *metabolites.txt* in the current working directory with the following content:\n",
    "\n",
    "    SUCROSE, c  \n",
    "    MET, c  \n",
    "    MALTOSE_c, MALTOSE[c], c, C12H22O11, 1\n",
    "\n",
    "In this example, CobraMod downloads the first two metabolites from MetaCyc, while `MALTOSE_c` is a user-defined metabolite.  The user can specify the path to this file in the `obj` argument. The remaining arguments are the same as in the previous examples. We added two print statements to show that CobraMod adds the metabolites to the model."
   ]
  },
  {
   "cell_type": "code",
   "execution_count": 8,
   "metadata": {
    "colab": {
     "base_uri": "https://localhost:8080/",
     "height": 448
    },
    "id": "YfbHsvk0740x",
    "outputId": "09cf4bf0-9d99-4c92-e5a2-e7d33f2032a8"
   },
   "outputs": [
    {
     "name": "stdout",
     "output_type": "stream",
     "text": [
      "Number of metabolites prior addition: 72\n",
      "Number of metabolites after addition: 75\n"
     ]
    },
    {
     "data": {
      "text/html": [
       "\n",
       "        <table>\n",
       "            <tr>\n",
       "                <td><strong>Metabolite identifier</strong></td><td>MET_c</td>\n",
       "            </tr><tr>\n",
       "                <td><strong>Name</strong></td><td>L-methionine</td>\n",
       "            </tr><tr>\n",
       "                <td><strong>Memory address</strong></td>\n",
       "                <td>0x07f835315a8d0</td>\n",
       "            </tr><tr>\n",
       "                <td><strong>Formula</strong></td><td>C5H11N1O2S1</td>\n",
       "            </tr><tr>\n",
       "                <td><strong>Compartment</strong></td><td>c</td>\n",
       "            </tr><tr>\n",
       "                <td><strong>In 0 reaction(s)</strong></td><td>\n",
       "                    </td>\n",
       "            </tr>\n",
       "        </table>"
      ],
      "text/plain": [
       "<Metabolite MET_c at 0x7f835315a8d0>"
      ]
     },
     "metadata": {},
     "output_type": "display_data"
    },
    {
     "data": {
      "text/html": [
       "\n",
       "        <table>\n",
       "            <tr>\n",
       "                <td><strong>Metabolite identifier</strong></td><td>SUCROSE_c</td>\n",
       "            </tr><tr>\n",
       "                <td><strong>Name</strong></td><td>sucrose</td>\n",
       "            </tr><tr>\n",
       "                <td><strong>Memory address</strong></td>\n",
       "                <td>0x07f8353239ed0</td>\n",
       "            </tr><tr>\n",
       "                <td><strong>Formula</strong></td><td>C12H22O11</td>\n",
       "            </tr><tr>\n",
       "                <td><strong>Compartment</strong></td><td>c</td>\n",
       "            </tr><tr>\n",
       "                <td><strong>In 0 reaction(s)</strong></td><td>\n",
       "                    </td>\n",
       "            </tr>\n",
       "        </table>"
      ],
      "text/plain": [
       "<Metabolite SUCROSE_c at 0x7f8353239ed0>"
      ]
     },
     "metadata": {},
     "output_type": "display_data"
    },
    {
     "data": {
      "text/html": [
       "\n",
       "        <table>\n",
       "            <tr>\n",
       "                <td><strong>Metabolite identifier</strong></td><td>MALTOSE_c</td>\n",
       "            </tr><tr>\n",
       "                <td><strong>Name</strong></td><td>MALTOSE[c]</td>\n",
       "            </tr><tr>\n",
       "                <td><strong>Memory address</strong></td>\n",
       "                <td>0x07f835315af90</td>\n",
       "            </tr><tr>\n",
       "                <td><strong>Formula</strong></td><td>C12H22O11</td>\n",
       "            </tr><tr>\n",
       "                <td><strong>Compartment</strong></td><td>c</td>\n",
       "            </tr><tr>\n",
       "                <td><strong>In 0 reaction(s)</strong></td><td>\n",
       "                    </td>\n",
       "            </tr>\n",
       "        </table>"
      ],
      "text/plain": [
       "<Metabolite MALTOSE_c at 0x7f835315af90>"
      ]
     },
     "execution_count": 8,
     "metadata": {},
     "output_type": "execute_result"
    }
   ],
   "source": [
    "# Path for the metabolic pathway information directory\n",
    "dir_data = Path.cwd().resolve().joinpath(\"data\")\n",
    "# This is our file\n",
    "file = dir_data.joinpath(\"metabolites.txt\")\n",
    "# Using a copy\n",
    "test_model = textbook_biocyc.copy()\n",
    "\n",
    "print(f'Number of metabolites prior addition: {len(test_model.metabolites)}')\n",
    "# Using CobraMod\n",
    "add_metabolites(\n",
    "    model=test_model,\n",
    "    obj=file,\n",
    "    directory=dir_data,\n",
    "    database=\"META\",\n",
    ")\n",
    "print(f'Number of metabolites after addition: {len(test_model.metabolites)}')\n",
    "# Show metabolites in jupyter\n",
    "display(test_model.metabolites.get_by_id(\"MET_c\"))\n",
    "display(test_model.metabolites.get_by_id(\"SUCROSE_c\"))\n",
    "test_model.metabolites.get_by_id(\"MALTOSE_c\")"
   ]
  },
  {
   "cell_type": "markdown",
   "metadata": {
    "id": "uNbBaakL740x"
   },
   "source": [
    "Since [cobramod.add_metabolites()](\n",
    "module/cobramod/index.html#cobramod.add_metabolites)\n",
    "is an extension of the COBRApy function\n",
    "[model.add_metabolites()](\n",
    "https://cobrapy.readthedocs.io/en/latest/autoapi/cobra/core/model/index.html#cobra.core.model.Model.add_metabolites)\n",
    "the user can also utilize COBRApy metabolites. In the following example, we use a variation of the test model (`textbook_biocyc`) which uses\n",
    "BioCyc metabolite identifiers. We copy a COBRApy metabolite from\n",
    "the test model and add it to the BioCyc-test model. "
   ]
  },
  {
   "cell_type": "code",
   "execution_count": 9,
   "metadata": {
    "colab": {
     "base_uri": "https://localhost:8080/",
     "height": 147
    },
    "id": "KN5D_mmH740z",
    "outputId": "f18eee40-53a7-44f7-817b-d532700cbf16"
   },
   "outputs": [
    {
     "data": {
      "text/html": [
       "\n",
       "        <table>\n",
       "            <tr>\n",
       "                <td><strong>Metabolite identifier</strong></td><td>xu5p__D_c</td>\n",
       "            </tr><tr>\n",
       "                <td><strong>Name</strong></td><td>D-Xylulose 5-phosphate</td>\n",
       "            </tr><tr>\n",
       "                <td><strong>Memory address</strong></td>\n",
       "                <td>0x07f83536e4590</td>\n",
       "            </tr><tr>\n",
       "                <td><strong>Formula</strong></td><td>C5H9O8P</td>\n",
       "            </tr><tr>\n",
       "                <td><strong>Compartment</strong></td><td>c</td>\n",
       "            </tr><tr>\n",
       "                <td><strong>In 3 reaction(s)</strong></td><td>\n",
       "                    TKT1, TKT2, RPE</td>\n",
       "            </tr>\n",
       "        </table>"
      ],
      "text/plain": [
       "<Metabolite xu5p__D_c at 0x7f83536e4590>"
      ]
     },
     "execution_count": 9,
     "metadata": {},
     "output_type": "execute_result"
    }
   ],
   "source": [
    "from cobramod import add_metabolites\n",
    "from cobramod.test import textbook, textbook_biocyc\n",
    "                        \n",
    "# Copying Metabolite from original model\n",
    "metabolite = textbook.metabolites.get_by_id(\"xu5p__D_c\")\n",
    "# Using a copy\n",
    "test_model = textbook_biocyc.copy()\n",
    "add_metabolites(\n",
    "    model=test_model,\n",
    "    obj=metabolite\n",
    ")\n",
    "                                                               \n",
    "test_model.metabolites.get_by_id(\"xu5p__D_c\")"
   ]
  },
  {
   "cell_type": "markdown",
   "metadata": {
    "id": "P6oD20PKuJYu"
   },
   "source": [
    "If CobraMod detects large molecules (e.g.  enzymes) or if the metabolite information does not include a chemical formula the user receives a warning. In this example, we use the enzyme with the MetaCyc identifier `Red-NADPH-Hemoprotein-Reductases` and add it to the test model. CobraMod raises a warning due to the missing chemical formula."
   ]
  },
  {
   "cell_type": "code",
   "execution_count": 10,
   "metadata": {
    "colab": {
     "base_uri": "https://localhost:8080/",
     "height": 208
    },
    "id": "z3WOnVwEuJi2",
    "outputId": "d00f6447-75a8-45f8-ea39-178aa719fb28"
   },
   "outputs": [
    {
     "name": "stderr",
     "output_type": "stream",
     "text": [
      "/home/stefano/Documents/cobramod/src/cobramod/parsing/biocyc.py:110: UserWarning: Sum formula for the metabolite \"Red-NADPH-Hemoprotein-Reductases\" from BioCyc could not be found. Formula set to \"X\" and charge to 0. Please curate.\n",
      "  warn(msg)\n"
     ]
    },
    {
     "data": {
      "text/html": [
       "\n",
       "        <table>\n",
       "            <tr>\n",
       "                <td><strong>Metabolite identifier</strong></td><td>Red_NADPH_Hemoprotein_Reductases_c</td>\n",
       "            </tr><tr>\n",
       "                <td><strong>Name</strong></td><td>Red-NADPH-Hemoprotein-Reductases</td>\n",
       "            </tr><tr>\n",
       "                <td><strong>Memory address</strong></td>\n",
       "                <td>0x07f835313c2d0</td>\n",
       "            </tr><tr>\n",
       "                <td><strong>Formula</strong></td><td>X</td>\n",
       "            </tr><tr>\n",
       "                <td><strong>Compartment</strong></td><td>c</td>\n",
       "            </tr><tr>\n",
       "                <td><strong>In 0 reaction(s)</strong></td><td>\n",
       "                    </td>\n",
       "            </tr>\n",
       "        </table>"
      ],
      "text/plain": [
       "<Metabolite Red_NADPH_Hemoprotein_Reductases_c at 0x7f835313c2d0>"
      ]
     },
     "execution_count": 10,
     "metadata": {},
     "output_type": "execute_result"
    }
   ],
   "source": [
    "# Using a copy\n",
    "test_model = textbook.copy()\n",
    "\n",
    "add_metabolites(\n",
    "    model=test_model,\n",
    "    obj=\"Red-NADPH-Hemoprotein-Reductases, c\",\n",
    "    directory=dir_data,\n",
    "    database=\"META\",\n",
    ")\n",
    "test_model.metabolites.get_by_id(\"Red_NADPH_Hemoprotein_Reductases_c\")"
   ]
  },
  {
   "cell_type": "markdown",
   "metadata": {
    "id": "7OCkus3m740z"
   },
   "source": [
    "----------------\n",
    "\n",
    "**NOTES**\n",
    "\n",
    "- CobraMod replaces hyphens (`-`) with underscores (`_`) in the identifiers when\n",
    "creating COBRApy metabolites.\n",
    "- When adding several metabolites the user can only specify one database identifier (It is not possible to use two databases within the same\n",
    "function call) or alternatively should call the function twice.\n",
    "\n",
    "----------------\n",
    "\n",
    "## Adding reactions\n",
    "\n",
    "The function [cobramod.add_reactions()](\n",
    "module/cobramod/index.html#cobramod.add_reactions) extends the COBRApy\n",
    "function [model.add_reactions()](\n",
    "https://cobrapy.readthedocs.io/en/latest/autoapi/cobra/index.html?highlight=optimize#cobra.Model.add_reactions\n",
    ") and can be used with a simple syntax. It can utilize a single string, a \n",
    "list of string, a file path or a COBRApy reaction object. In the examples we\n",
    "showcase these options. Again, we use the *E. coli* core model from COBRApy as test model. \n",
    " \n",
    "If the argument `obj` is used as a string, it can be the\n",
    "database-specific identifier of the respective reaction and its\n",
    "compartment or a user-curated reaction. It uses the following syntax:\n",
    "\n",
    "--------\n",
    "\n",
    "**SYNTAX**  \n",
    "\n",
    "To add reaction information from a database:\n",
    "\n",
    "    database-specific_identifier, compartment\n",
    "\n",
    "To add user-curated reactions, the user should write the identifier and name of the reaction following the [COBRApy reaction string syntax](\n",
    "  https://cobrapy.readthedocs.io/en/latest/autoapi/cobra/core/reaction/index.html#cobra.core.reaction.Reaction.build_reaction_from_string\n",
    "):\n",
    "\n",
    "    user-curated_identifier, name | coefficient_1 metabolite_1 <-> coefficient_2 metabolite_2\n",
    "\n",
    "Metabolites must contain a suffix which specifies the compartment. This is given by an underscore (`_`) followed by the compartment-abbreviation. In this case we create a transport of oxygen between the external comparment \n",
    "(`e`) and cytosol (`c`): \n",
    "\n",
    "    TRANS_H2O_ec, Oxygen Transport | 2 OXYGEN-MOLECULE_e <-> 2 OXYGEN_MOLECULE_c\n",
    "\n",
    "-------\n",
    "\n",
    "In the first example we add the KEGG reaction [R04382](https://www.kegg.jp/dbget-bin/www_bget?rn:R04382) to the test model. The first argument is the model to extend. The `obj` argument use the identifier `R04382` and the compartment `c`. The next argument is the database identifier (`KEGG`) and finally the directory where CobraMod stores and uses the metabolic pathway information. The argument `genome` is a  KEGG-specific argument. Please read the notes below for more information about it.\n",
    "\n",
    "CobraMod parses the reaction information for gene identifiers and automatically adds them to the COBRApy reaction. In this example, CobraMod creates the gene `c0319` and adds it to the reaction."
   ]
  },
  {
   "cell_type": "code",
   "execution_count": 11,
   "metadata": {
    "colab": {
     "base_uri": "https://localhost:8080/",
     "height": 224
    },
    "id": "Gcf5g4dB740z",
    "outputId": "a04e69f7-ebe7-4443-bddf-4e2e495d9e68"
   },
   "outputs": [
    {
     "data": {
      "text/html": [
       "\n",
       "        <table>\n",
       "            <tr>\n",
       "                <td><strong>Reaction identifier</strong></td><td>R04382_c</td>\n",
       "            </tr><tr>\n",
       "                <td><strong>Name</strong></td><td>4-(4-deoxy-alpha-D-galact-4-enuronosyl)-D-galacturonate lyase</td>\n",
       "            </tr><tr>\n",
       "                <td><strong>Memory address</strong></td>\n",
       "                <td>0x07f8352fde350</td>\n",
       "            </tr><tr>\n",
       "                <td><strong>Stoichiometry</strong></td>\n",
       "                <td>\n",
       "                    <p style='text-align:right'>C06118_c <=> 2.0 C04053_c</p>\n",
       "                    <p style='text-align:right'>4-(4-Deoxy-alpha-D-gluc-4-enuronosyl)-D-galacturonate; <=> 2.0 5-Dehydro-4-deoxy-D-glucuronate;</p>\n",
       "                </td>\n",
       "            </tr><tr>\n",
       "                <td><strong>GPR</strong></td><td>c0319</td>\n",
       "            </tr><tr>\n",
       "                <td><strong>Lower bound</strong></td><td>-1000</td>\n",
       "            </tr><tr>\n",
       "                <td><strong>Upper bound</strong></td><td>1000</td>\n",
       "            </tr>\n",
       "        </table>\n",
       "        "
      ],
      "text/plain": [
       "<Reaction R04382_c at 0x7f8352fde350>"
      ]
     },
     "metadata": {},
     "output_type": "display_data"
    },
    {
     "name": "stdout",
     "output_type": "stream",
     "text": [
      "frozenset({<Gene c0319 at 0x7f83533dca90>})\n"
     ]
    }
   ],
   "source": [
    "from cobramod.test import textbook_kegg\n",
    "from cobramod import add_reactions\n",
    "from pathlib import Path\n",
    "                                                           \n",
    "dir_data = Path.cwd().resolve().joinpath(\"data\")\n",
    "# Using copy\n",
    "test_model = textbook_kegg.copy()\n",
    "                                                           \n",
    "add_reactions(\n",
    "    model=test_model,\n",
    "    obj=\"R04382, c\",\n",
    "    database=\"KEGG\",\n",
    "    directory=dir_data,\n",
    "    genome=\"ecc\"\n",
    ")\n",
    "                                                           \n",
    "display(test_model.reactions.get_by_id(\"R04382_c\"))\n",
    "print(test_model.reactions.get_by_id(\"R04382_c\").genes)"
   ]
  },
  {
   "cell_type": "markdown",
   "metadata": {
    "id": "DgOH_6OQ740z"
   },
   "source": [
    "In the second example, we add two reactions ([R04382](\n",
    "  https://www.kegg.jp/entry/R04382\n",
    ") and [R02736](\n",
    "  https://www.kegg.jp/entry/R02736\n",
    " )) from KEGG. We introduce in the argument\n",
    "`obj` a list with the database-specific identifier and their compartments. The\n",
    "rest of the arguments remain the same as the previous example. CobraMod skips\n",
    "the addition of reactions that are already included into the model and shows\n",
    "a warning. The reaction information contains multiple cross-references database entries. If an entry is found in the model, then CobraMod uses it instead of creating a new COBRApy Reaction."
   ]
  },
  {
   "cell_type": "code",
   "execution_count": 12,
   "metadata": {
    "colab": {
     "base_uri": "https://localhost:8080/",
     "height": 432
    },
    "id": "5hC8-O3v740z",
    "outputId": "065dd37d-a931-4755-d09a-33621eeaacba"
   },
   "outputs": [
    {
     "name": "stderr",
     "output_type": "stream",
     "text": [
      "/home/stefano/Documents/cobramod/src/cobramod/core/creation.py:1116: UserWarning: Reaction \"R04382_c\" is already present in the model. Skipping addition.\n",
      "  warn(message=msg, category=UserWarning)\n"
     ]
    },
    {
     "data": {
      "text/html": [
       "\n",
       "        <table>\n",
       "            <tr>\n",
       "                <td><strong>Reaction identifier</strong></td><td>R04382_c</td>\n",
       "            </tr><tr>\n",
       "                <td><strong>Name</strong></td><td>4-(4-deoxy-alpha-D-galact-4-enuronosyl)-D-galacturonate lyase</td>\n",
       "            </tr><tr>\n",
       "                <td><strong>Memory address</strong></td>\n",
       "                <td>0x07f8352fde350</td>\n",
       "            </tr><tr>\n",
       "                <td><strong>Stoichiometry</strong></td>\n",
       "                <td>\n",
       "                    <p style='text-align:right'>C06118_c <=> 2.0 C04053_c</p>\n",
       "                    <p style='text-align:right'>4-(4-Deoxy-alpha-D-gluc-4-enuronosyl)-D-galacturonate; <=> 2.0 5-Dehydro-4-deoxy-D-glucuronate;</p>\n",
       "                </td>\n",
       "            </tr><tr>\n",
       "                <td><strong>GPR</strong></td><td>c0319</td>\n",
       "            </tr><tr>\n",
       "                <td><strong>Lower bound</strong></td><td>-1000</td>\n",
       "            </tr><tr>\n",
       "                <td><strong>Upper bound</strong></td><td>1000</td>\n",
       "            </tr>\n",
       "        </table>\n",
       "        "
      ],
      "text/plain": [
       "<Reaction R04382_c at 0x7f8352fde350>"
      ]
     },
     "metadata": {},
     "output_type": "display_data"
    },
    {
     "data": {
      "text/html": [
       "\n",
       "        <table>\n",
       "            <tr>\n",
       "                <td><strong>Reaction identifier</strong></td><td>R02736_c</td>\n",
       "            </tr><tr>\n",
       "                <td><strong>Name</strong></td><td>beta-D-glucose-6-phosphate:NADP+ 1-oxoreductase</td>\n",
       "            </tr><tr>\n",
       "                <td><strong>Memory address</strong></td>\n",
       "                <td>0x07f8380127e10</td>\n",
       "            </tr><tr>\n",
       "                <td><strong>Stoichiometry</strong></td>\n",
       "                <td>\n",
       "                    <p style='text-align:right'>C00006_c + C01172_c --> C00005_c + C00080_c + C01236_c</p>\n",
       "                    <p style='text-align:right'>Nicotinamide adenine dinucleotide phosphate + beta-D-Glucose 6-phosphate --> Nicotinamide adenine dinucleotide phosphate - reduced + H+ + 6-phospho-D-glucono-1,5-lactone</p>\n",
       "                </td>\n",
       "            </tr><tr>\n",
       "                <td><strong>GPR</strong></td><td>c2265</td>\n",
       "            </tr><tr>\n",
       "                <td><strong>Lower bound</strong></td><td>0</td>\n",
       "            </tr><tr>\n",
       "                <td><strong>Upper bound</strong></td><td>1000</td>\n",
       "            </tr>\n",
       "        </table>\n",
       "        "
      ],
      "text/plain": [
       "<Reaction R02736_c at 0x7f8380127e10>"
      ]
     },
     "execution_count": 12,
     "metadata": {},
     "output_type": "execute_result"
    }
   ],
   "source": [
    "add_reactions(\n",
    "    model=test_model,\n",
    "    obj=[\"R04382, c\", \"R02736 ,c\"],\n",
    "    directory=dir_data,\n",
    "    database=\"KEGG\",\n",
    "    genome=\"ecc\"\n",
    ")\n",
    "                                                            \n",
    "display(test_model.reactions.get_by_id(\"R04382_c\"))\n",
    "test_model.reactions.get_by_id(\"R02736_c\")"
   ]
  },
  {
   "cell_type": "markdown",
   "metadata": {
    "id": "GYPUKYn27400"
   },
   "source": [
    "In the following example, we use a text file to add reactions to the test model.\n",
    "We have the file *reactions.txt* in the current working directory with:\n",
    "\n",
    "    R04382, c  \n",
    "    R02736, c  \n",
    "    C06118_ce, digalacturonate transport | 1 C06118_c <-> 1 C06118_e\n",
    "\n",
    "CobraMod downloads the first two reactions from KEGG, while `C06118_ce` is a\n",
    "user-defined reaction.\n",
    "\n",
    "The user can utilize the file path for this file in the `obj` argument to add\n",
    "the reactions to the test model. The next arguments are the same as in the\n",
    "previous examples. We added two print statements to show that CobraMod adds\n",
    "the reaction to the model."
   ]
  },
  {
   "cell_type": "code",
   "execution_count": 13,
   "metadata": {
    "colab": {
     "base_uri": "https://localhost:8080/",
     "height": 619
    },
    "id": "KGb5w8FO7400",
    "outputId": "81a0dcf9-02ea-47e8-ef1f-5b1e503f9df9"
   },
   "outputs": [
    {
     "name": "stdout",
     "output_type": "stream",
     "text": [
      "Number of reactions prior addition: 95\n",
      "Number of reactions after addition: 98\n"
     ]
    },
    {
     "data": {
      "text/html": [
       "\n",
       "        <table>\n",
       "            <tr>\n",
       "                <td><strong>Reaction identifier</strong></td><td>R04382_c</td>\n",
       "            </tr><tr>\n",
       "                <td><strong>Name</strong></td><td>4-(4-deoxy-alpha-D-galact-4-enuronosyl)-D-galacturonate lyase</td>\n",
       "            </tr><tr>\n",
       "                <td><strong>Memory address</strong></td>\n",
       "                <td>0x07f8353039150</td>\n",
       "            </tr><tr>\n",
       "                <td><strong>Stoichiometry</strong></td>\n",
       "                <td>\n",
       "                    <p style='text-align:right'>C06118_c <=> 2.0 C04053_c</p>\n",
       "                    <p style='text-align:right'>4-(4-Deoxy-alpha-D-gluc-4-enuronosyl)-D-galacturonate; <=> 2.0 5-Dehydro-4-deoxy-D-glucuronate;</p>\n",
       "                </td>\n",
       "            </tr><tr>\n",
       "                <td><strong>GPR</strong></td><td>c0319</td>\n",
       "            </tr><tr>\n",
       "                <td><strong>Lower bound</strong></td><td>-1000</td>\n",
       "            </tr><tr>\n",
       "                <td><strong>Upper bound</strong></td><td>1000</td>\n",
       "            </tr>\n",
       "        </table>\n",
       "        "
      ],
      "text/plain": [
       "<Reaction R04382_c at 0x7f8353039150>"
      ]
     },
     "metadata": {},
     "output_type": "display_data"
    },
    {
     "data": {
      "text/html": [
       "\n",
       "        <table>\n",
       "            <tr>\n",
       "                <td><strong>Reaction identifier</strong></td><td>R02736_c</td>\n",
       "            </tr><tr>\n",
       "                <td><strong>Name</strong></td><td>beta-D-glucose-6-phosphate:NADP+ 1-oxoreductase</td>\n",
       "            </tr><tr>\n",
       "                <td><strong>Memory address</strong></td>\n",
       "                <td>0x07f8352fded90</td>\n",
       "            </tr><tr>\n",
       "                <td><strong>Stoichiometry</strong></td>\n",
       "                <td>\n",
       "                    <p style='text-align:right'>C00006_c + C01172_c --> C00005_c + C00080_c + C01236_c</p>\n",
       "                    <p style='text-align:right'>Nicotinamide adenine dinucleotide phosphate + beta-D-Glucose 6-phosphate --> Nicotinamide adenine dinucleotide phosphate - reduced + H+ + 6-phospho-D-glucono-1,5-lactone</p>\n",
       "                </td>\n",
       "            </tr><tr>\n",
       "                <td><strong>GPR</strong></td><td>c2265</td>\n",
       "            </tr><tr>\n",
       "                <td><strong>Lower bound</strong></td><td>0</td>\n",
       "            </tr><tr>\n",
       "                <td><strong>Upper bound</strong></td><td>1000</td>\n",
       "            </tr>\n",
       "        </table>\n",
       "        "
      ],
      "text/plain": [
       "<Reaction R02736_c at 0x7f8352fded90>"
      ]
     },
     "metadata": {},
     "output_type": "display_data"
    },
    {
     "data": {
      "text/html": [
       "\n",
       "        <table>\n",
       "            <tr>\n",
       "                <td><strong>Reaction identifier</strong></td><td>C06118_ce</td>\n",
       "            </tr><tr>\n",
       "                <td><strong>Name</strong></td><td>digalacturonate transport</td>\n",
       "            </tr><tr>\n",
       "                <td><strong>Memory address</strong></td>\n",
       "                <td>0x07f8352fdeb50</td>\n",
       "            </tr><tr>\n",
       "                <td><strong>Stoichiometry</strong></td>\n",
       "                <td>\n",
       "                    <p style='text-align:right'>C06118_c <=> C06118_e</p>\n",
       "                    <p style='text-align:right'>4-(4-Deoxy-alpha-D-gluc-4-enuronosyl)-D-galacturonate; <=> 4-(4-Deoxy-alpha-D-gluc-4-enuronosyl)-D-galacturonate;</p>\n",
       "                </td>\n",
       "            </tr><tr>\n",
       "                <td><strong>GPR</strong></td><td></td>\n",
       "            </tr><tr>\n",
       "                <td><strong>Lower bound</strong></td><td>-1000</td>\n",
       "            </tr><tr>\n",
       "                <td><strong>Upper bound</strong></td><td>1000</td>\n",
       "            </tr>\n",
       "        </table>\n",
       "        "
      ],
      "text/plain": [
       "<Reaction C06118_ce at 0x7f8352fdeb50>"
      ]
     },
     "execution_count": 13,
     "metadata": {},
     "output_type": "execute_result"
    }
   ],
   "source": [
    "from cobramod.test import textbook_kegg\n",
    "from cobramod import add_reactions\n",
    "from pathlib import Path\n",
    "                                                                     \n",
    "dir_data = Path.cwd().resolve().joinpath(\"data\")\n",
    "test_model = textbook_kegg.copy()\n",
    "# This is the file with text\n",
    "file = dir_data.joinpath(\"reactions.txt\")\n",
    "\n",
    "print(f'Number of reactions prior addition: {len(test_model.reactions)}')\n",
    "                                                                     \n",
    "add_reactions(\n",
    "    model=test_model,\n",
    "    obj=file,\n",
    "    directory=dir_data,\n",
    "    database=\"KEGG\",\n",
    "    genome=\"ecc\"\n",
    ")\n",
    "\n",
    "print(f'Number of reactions after addition: {len(test_model.reactions)}')\n",
    "# Show in jupyter\n",
    "display(test_model.reactions.get_by_id(\"R04382_c\"))\n",
    "display(test_model.reactions.get_by_id(\"R02736_c\"))\n",
    "test_model.reactions.get_by_id(\"C06118_ce\")"
   ]
  },
  {
   "cell_type": "markdown",
   "metadata": {
    "id": "4ywVo8-X7400"
   },
   "source": [
    "Since [cobramod.add_reactions()](\n",
    "module/cobramod/index.html#cobramod.add_reactions\n",
    ") is an extension of the original COBRApy function\n",
    "[model.add_reactions()](https://cobrapy.readthedocs.io/en/latest/autoapi/cobra/index.html?highlight=optimize#cobra.Model.add_reactions) the user can also\n",
    "utilize COBRApy reactions. In this example, we use a variation of the test model\n",
    "(`textbook_kegg`) which uses KEGG identifiers for their metabolites. We copy a\n",
    "COBRApy Reaction from the test model and then add it to the KEGG-test model."
   ]
  },
  {
   "cell_type": "code",
   "execution_count": 14,
   "metadata": {
    "colab": {
     "base_uri": "https://localhost:8080/",
     "height": 245
    },
    "id": "BheNVhsz7401",
    "outputId": "100526d2-470b-40fb-e452-49669a947791"
   },
   "outputs": [
    {
     "name": "stderr",
     "output_type": "stream",
     "text": [
      "/home/stefano/Documents/cobramod/src/cobramod/core/creation.py:1116: UserWarning: Reaction \"ACALDt\" is already present in the model. Skipping addition.\n",
      "  warn(message=msg, category=UserWarning)\n"
     ]
    },
    {
     "data": {
      "text/html": [
       "\n",
       "        <table>\n",
       "            <tr>\n",
       "                <td><strong>Reaction identifier</strong></td><td>ACALDt</td>\n",
       "            </tr><tr>\n",
       "                <td><strong>Name</strong></td><td>R acetaldehyde reversible - transport</td>\n",
       "            </tr><tr>\n",
       "                <td><strong>Memory address</strong></td>\n",
       "                <td>0x07f8353039310</td>\n",
       "            </tr><tr>\n",
       "                <td><strong>Stoichiometry</strong></td>\n",
       "                <td>\n",
       "                    <p style='text-align:right'>C00084_e <=> C00084_c</p>\n",
       "                    <p style='text-align:right'>Acetaldehyde <=> Acetaldehyde</p>\n",
       "                </td>\n",
       "            </tr><tr>\n",
       "                <td><strong>GPR</strong></td><td>s0001</td>\n",
       "            </tr><tr>\n",
       "                <td><strong>Lower bound</strong></td><td>-1000.0</td>\n",
       "            </tr><tr>\n",
       "                <td><strong>Upper bound</strong></td><td>1000.0</td>\n",
       "            </tr>\n",
       "        </table>\n",
       "        "
      ],
      "text/plain": [
       "<Reaction ACALDt at 0x7f8353039310>"
      ]
     },
     "execution_count": 14,
     "metadata": {},
     "output_type": "execute_result"
    }
   ],
   "source": [
    "from cobramod.test import textbook_kegg, textbook\n",
    "from cobramod import add_reactions\n",
    "from pathlib import Path\n",
    "\n",
    "# Using copy of test model\n",
    "test_model = textbook_kegg.copy()\n",
    "# Obtaining a reaction\n",
    "reaction = textbook.reactions.get_by_id(\"ACALDt\")\n",
    "                                                                  \n",
    "add_reactions(model=test_model, obj=reaction)\n",
    "\n",
    "test_model.reactions.get_by_id(\"ACALDt\")"
   ]
  },
  {
   "cell_type": "markdown",
   "metadata": {
    "id": "1SkvGCvLnK-9"
   },
   "source": [
    " By default, COBRApy ignores metabolites that appear on\n",
    "both sides of a reaction equation. CobraMod identifies such reactions and assigns one of these metabolites to the extracellular compartment and raises a\n",
    "warning expecting the user to manual curate it. In the following example, we\n",
    "add a\n",
    "[transport reaction for acetic acid](\n",
    "https://biocyc.org/META/new-image?object=TRANS-RXN-455\n",
    ") from BioCyc sub-database `YEAST` to the test model."
   ]
  },
  {
   "cell_type": "code",
   "execution_count": 15,
   "metadata": {
    "colab": {
     "base_uri": "https://localhost:8080/",
     "height": 265
    },
    "id": "IA2OwzjmbeZJ",
    "outputId": "82a99d83-9a0d-4dcb-f24f-80575176b657"
   },
   "outputs": [
    {
     "name": "stderr",
     "output_type": "stream",
     "text": [
      "/home/stefano/Documents/cobramod/src/cobramod/core/creation.py:376: UserWarning: Reaction \"TRANS_RXN_455_c\" has metabolite \"CPD_24335_e\" on both sides of the equation (e.g transport reaction). COBRApy ignores these metabolites. To avoid this, by default, CobraMod will assign one metabolite to the extracellular compartment. Please curate the reaction if necessary.\n",
      "  warn(message=msg, category=UserWarning)\n"
     ]
    },
    {
     "data": {
      "text/html": [
       "\n",
       "        <table>\n",
       "            <tr>\n",
       "                <td><strong>Reaction identifier</strong></td><td>TRANS_RXN_455_c</td>\n",
       "            </tr><tr>\n",
       "                <td><strong>Name</strong></td><td>acetic acid uptake</td>\n",
       "            </tr><tr>\n",
       "                <td><strong>Memory address</strong></td>\n",
       "                <td>0x07f8352e48650</td>\n",
       "            </tr><tr>\n",
       "                <td><strong>Stoichiometry</strong></td>\n",
       "                <td>\n",
       "                    <p style='text-align:right'>CPD_24335_e --> CPD_24335_c</p>\n",
       "                    <p style='text-align:right'>acetic+acid --> acetic+acid</p>\n",
       "                </td>\n",
       "            </tr><tr>\n",
       "                <td><strong>GPR</strong></td><td>G3O-32144</td>\n",
       "            </tr><tr>\n",
       "                <td><strong>Lower bound</strong></td><td>0</td>\n",
       "            </tr><tr>\n",
       "                <td><strong>Upper bound</strong></td><td>1000</td>\n",
       "            </tr>\n",
       "        </table>\n",
       "        "
      ],
      "text/plain": [
       "<Reaction TRANS_RXN_455_c at 0x7f8352e48650>"
      ]
     },
     "execution_count": 15,
     "metadata": {},
     "output_type": "execute_result"
    }
   ],
   "source": [
    "test_model = textbook_kegg.copy()\n",
    "                                                           \n",
    "add_reactions(\n",
    "    model=test_model,\n",
    "    obj=\"TRANS-RXN-455, c\",\n",
    "    database=\"YEAST\",\n",
    "    directory=dir_data,\n",
    ")\n",
    "# Show in jupyter\n",
    "test_model.reactions.get_by_id(\"TRANS_RXN_455_c\")"
   ]
  },
  {
   "cell_type": "markdown",
   "metadata": {
    "id": "0DzULV_Q7401"
   },
   "source": [
    "---\n",
    "\n",
    "**NOTES**\n",
    "\n",
    "- CobraMod replaces hyphens (`-`) to underscores (`_`) in the identifiers when\n",
    "creating COBRApy reactions.\n",
    "- When adding several reactions the user can only specify one database identifier (It is not possible to use two databases within the same function call) or alternatively should call the function twice.\n",
    "- CobraMod tries to identify reactions or metabolites that are already present\n",
    "in the model. The metabolic pathway information contains multiple\n",
    "cross-references database entries. If an entry is found in the model, then\n",
    "CobraMod uses it instead of creating the COBRApy objects.\n",
    "- The argument `genome` can be used with the database `KEGG` and specifies the genome for which gene information will be retrieved. The complete list of all available genomes can be found [here](\n",
    "https://www.genome.jp/kegg/catalog/org_list.html).\n",
    "If no genome is specified, no gene information will be retrieved and\n",
    "a warning is printed as shown below:"
   ]
  },
  {
   "cell_type": "code",
   "execution_count": 16,
   "metadata": {
    "colab": {
     "base_uri": "https://localhost:8080/",
     "height": 265
    },
    "id": "CvDMHPAP7401",
    "outputId": "0be54231-fbb3-41de-a034-85b8c8618da1"
   },
   "outputs": [
    {
     "name": "stderr",
     "output_type": "stream",
     "text": [
      "/home/stefano/Documents/cobramod/src/cobramod/parsing/kegg.py:196: UserWarning: Nothing was specified in argument \"genome\". Reaction \"R04382\" will not include genes. Please modify if necessary.\n",
      "  warn(message=msg, category=UserWarning)\n"
     ]
    },
    {
     "data": {
      "text/html": [
       "\n",
       "        <table>\n",
       "            <tr>\n",
       "                <td><strong>Reaction identifier</strong></td><td>R04382_c</td>\n",
       "            </tr><tr>\n",
       "                <td><strong>Name</strong></td><td>4-(4-deoxy-alpha-D-galact-4-enuronosyl)-D-galacturonate lyase</td>\n",
       "            </tr><tr>\n",
       "                <td><strong>Memory address</strong></td>\n",
       "                <td>0x07f8352de8090</td>\n",
       "            </tr><tr>\n",
       "                <td><strong>Stoichiometry</strong></td>\n",
       "                <td>\n",
       "                    <p style='text-align:right'>C06118_c <=> 2.0 C04053_c</p>\n",
       "                    <p style='text-align:right'>4-(4-Deoxy-alpha-D-gluc-4-enuronosyl)-D-galacturonate; <=> 2.0 5-Dehydro-4-deoxy-D-glucuronate;</p>\n",
       "                </td>\n",
       "            </tr><tr>\n",
       "                <td><strong>GPR</strong></td><td></td>\n",
       "            </tr><tr>\n",
       "                <td><strong>Lower bound</strong></td><td>-1000</td>\n",
       "            </tr><tr>\n",
       "                <td><strong>Upper bound</strong></td><td>1000</td>\n",
       "            </tr>\n",
       "        </table>\n",
       "        "
      ],
      "text/plain": [
       "<Reaction R04382_c at 0x7f8352de8090>"
      ]
     },
     "execution_count": 16,
     "metadata": {},
     "output_type": "execute_result"
    }
   ],
   "source": [
    "test_model = textbook_kegg.copy()\n",
    "                                                           \n",
    "add_reactions(\n",
    "    model=test_model,\n",
    "    obj=\"R04382, c\",\n",
    "    database=\"KEGG\",\n",
    "    directory=dir_data,\n",
    ")\n",
    "test_model.reactions.get_by_id(\"R04382_c\")"
   ]
  },
  {
   "cell_type": "markdown",
   "metadata": {
    "id": "pbG8COs37402"
   },
   "source": [
    "---\n",
    "\n",
    "## Adding pathways\n",
    " \n",
    "CobraMod can add metabolic pathways to a given model. The function\n",
    "[cobramod.add_pathway()](\n",
    "module/cobramod/index.html#cobramod.add_pathway) can handle either a sequence \n",
    "of database-specific reaction identifiers or a single pathway identifier as an \n",
    "argument. It is recommended to add a pathways singlely. The user should curate\n",
    "the model after adding a pathway if necessary. In the examples below we\n",
    "showcase these two options. Again, we use the *E. coli* core model from COBRApy\n",
    "as test model.\n",
    "\n",
    "In the first example, we add the [acetoacetate degradation pathway](\n",
    "https://biocyc.org/ECOLI/new-image?object=ACETOACETATE-DEG-PWY\n",
    ") from the BioCyc sub-database `ECOLI` to the test model. This pathway contains two reactions and six metabolites.\n",
    "\n",
    "<img src=\"https://websvc.biocyc.org/ECOLI/diagram-only?type=PATHWAY&object=ACETOACETATE-DEG-PWY&pfontsize=normal\"/>\n",
    "\n"
   ]
  },
  {
   "cell_type": "markdown",
   "metadata": {
    "id": "Ek9jKTGcx5Bq"
   },
   "source": [
    "In the following example, the first argument is the model to extend. The `pathway` argument uses the database-specific identifier `ACETOACETATE-DEG-PWY` and the database identifier `ECOLI`. We define the compartment as `c` (cytosol), i.e. all metabolites and reactions will be assigned to the cytosol. With the argument `filename` the user can specify a file to which the summary of the changes is written. All COBRApy reactions included in the pathway are tested for their capacity to cary a non-zero flux. Read more about it in the\n",
    "[non-zero flux test](#Non-zero-flux-test) section. The function shows a summary\n",
    "of the additions and deletions for extending the model with a pathway.\n",
    "\n",
    "\n",
    "Additionally, calling [cobramod.Pathway](\n",
    "module/cobramod/index.html#cobramod.Pathway\n",
    ") outputs a table with the main attributes of the object.\n"
   ]
  },
  {
   "cell_type": "code",
   "execution_count": 17,
   "metadata": {
    "colab": {
     "base_uri": "https://localhost:8080/",
     "height": 651
    },
    "id": "L3kAPVwz7403",
    "outputId": "4c22f301-6bfc-4803-bbf8-94b4ac93d5fd"
   },
   "outputs": [
    {
     "name": "stderr",
     "output_type": "stream",
     "text": [
      "/home/stefano/Documents/cobramod/src/cobramod/core/creation.py:161: UserWarning: Metabolite 'ACETYL-COA' was found as 'accoa_c'. Please curate if necessary.\n",
      "  warn(message=msg, category=UserWarning)\n",
      "/home/stefano/Documents/cobramod/src/cobramod/core/creation.py:161: UserWarning: Metabolite 'ACET' was found as 'ac_c'. Please curate if necessary.\n",
      "  warn(message=msg, category=UserWarning)\n",
      "/home/stefano/Documents/cobramod/src/cobramod/core/creation.py:161: UserWarning: Metabolite 'CO-A' was found as 'coa_c'. Please curate if necessary.\n",
      "  warn(message=msg, category=UserWarning)\n"
     ]
    },
    {
     "name": "stdout",
     "output_type": "stream",
     "text": [
      "0.0\n",
      "1.059145798596649e-14\n"
     ]
    },
    {
     "ename": "NotInRangeError",
     "evalue": "The following reaction \"ACETOACETYL_COA_TRANSFER_RXN_c\" failed the non-zero flux test multiple times. Flux values are below solver tolerance. It it possible that one of the metabolites participates in a cycle. For example, NADP to NADPH and viceversa. Please make sure that those reactions have a correct equation and that their metabolites can be turnover.",
     "output_type": "error",
     "traceback": [
      "\u001b[0;31m---------------------------------------------------------------------------\u001b[0m",
      "\u001b[0;31mOptimizationError\u001b[0m                         Traceback (most recent call last)",
      "\u001b[0;32m~/Documents/cobramod/src/cobramod/core/extension.py\u001b[0m in \u001b[0;36mtest_non_zero_flux\u001b[0;34m(model, reaction, times, ignore_list)\u001b[0m\n\u001b[1;32m    353\u001b[0m         \u001b[0;31m# model.slim_optimize(error_value=None)\u001b[0m\u001b[0;34m\u001b[0m\u001b[0;34m\u001b[0m\u001b[0;34m\u001b[0m\u001b[0m\n\u001b[0;32m--> 354\u001b[0;31m         \u001b[0msolution\u001b[0m \u001b[0;34m=\u001b[0m \u001b[0mmodel\u001b[0m\u001b[0;34m.\u001b[0m\u001b[0moptimize\u001b[0m\u001b[0;34m(\u001b[0m\u001b[0mraise_error\u001b[0m\u001b[0;34m=\u001b[0m\u001b[0;32mTrue\u001b[0m\u001b[0;34m)\u001b[0m\u001b[0;34m\u001b[0m\u001b[0;34m\u001b[0m\u001b[0m\n\u001b[0m\u001b[1;32m    355\u001b[0m         \u001b[0mprint\u001b[0m\u001b[0;34m(\u001b[0m\u001b[0msolution\u001b[0m\u001b[0;34m[\u001b[0m\u001b[0mreaction\u001b[0m\u001b[0;34m]\u001b[0m\u001b[0;34m)\u001b[0m\u001b[0;34m\u001b[0m\u001b[0;34m\u001b[0m\u001b[0m\n",
      "\u001b[0;32m~/miniconda3/envs/cobramod/lib/python3.7/site-packages/cobra/core/model.py\u001b[0m in \u001b[0;36moptimize\u001b[0;34m(self, objective_sense, raise_error)\u001b[0m\n\u001b[1;32m   1090\u001b[0m         \u001b[0mself\u001b[0m\u001b[0;34m.\u001b[0m\u001b[0mslim_optimize\u001b[0m\u001b[0;34m(\u001b[0m\u001b[0;34m)\u001b[0m\u001b[0;34m\u001b[0m\u001b[0;34m\u001b[0m\u001b[0m\n\u001b[0;32m-> 1091\u001b[0;31m         \u001b[0msolution\u001b[0m \u001b[0;34m=\u001b[0m \u001b[0mget_solution\u001b[0m\u001b[0;34m(\u001b[0m\u001b[0mself\u001b[0m\u001b[0;34m,\u001b[0m \u001b[0mraise_error\u001b[0m\u001b[0;34m=\u001b[0m\u001b[0mraise_error\u001b[0m\u001b[0;34m)\u001b[0m\u001b[0;34m\u001b[0m\u001b[0;34m\u001b[0m\u001b[0m\n\u001b[0m\u001b[1;32m   1092\u001b[0m         \u001b[0mself\u001b[0m\u001b[0;34m.\u001b[0m\u001b[0mobjective\u001b[0m\u001b[0;34m.\u001b[0m\u001b[0mdirection\u001b[0m \u001b[0;34m=\u001b[0m \u001b[0moriginal_direction\u001b[0m\u001b[0;34m\u001b[0m\u001b[0;34m\u001b[0m\u001b[0m\n",
      "\u001b[0;32m~/miniconda3/envs/cobramod/lib/python3.7/site-packages/cobra/core/solution.py\u001b[0m in \u001b[0;36mget_solution\u001b[0;34m(model, reactions, metabolites, raise_error)\u001b[0m\n\u001b[1;32m    235\u001b[0m     \"\"\"\n\u001b[0;32m--> 236\u001b[0;31m     \u001b[0mcheck_solver_status\u001b[0m\u001b[0;34m(\u001b[0m\u001b[0mmodel\u001b[0m\u001b[0;34m.\u001b[0m\u001b[0msolver\u001b[0m\u001b[0;34m.\u001b[0m\u001b[0mstatus\u001b[0m\u001b[0;34m,\u001b[0m \u001b[0mraise_error\u001b[0m\u001b[0;34m=\u001b[0m\u001b[0mraise_error\u001b[0m\u001b[0;34m)\u001b[0m\u001b[0;34m\u001b[0m\u001b[0;34m\u001b[0m\u001b[0m\n\u001b[0m\u001b[1;32m    237\u001b[0m     \u001b[0;32mif\u001b[0m \u001b[0mreactions\u001b[0m \u001b[0;32mis\u001b[0m \u001b[0;32mNone\u001b[0m\u001b[0;34m:\u001b[0m\u001b[0;34m\u001b[0m\u001b[0;34m\u001b[0m\u001b[0m\n",
      "\u001b[0;32m~/miniconda3/envs/cobramod/lib/python3.7/site-packages/cobra/util/solver.py\u001b[0m in \u001b[0;36mcheck_solver_status\u001b[0;34m(status, raise_error)\u001b[0m\n\u001b[1;32m    559\u001b[0m     \u001b[0;32melse\u001b[0m\u001b[0;34m:\u001b[0m\u001b[0;34m\u001b[0m\u001b[0;34m\u001b[0m\u001b[0m\n\u001b[0;32m--> 560\u001b[0;31m         \u001b[0;32mraise\u001b[0m \u001b[0mOptimizationError\u001b[0m\u001b[0;34m(\u001b[0m\u001b[0;34mf\"Solver status is '{status}'.\"\u001b[0m\u001b[0;34m)\u001b[0m\u001b[0;34m\u001b[0m\u001b[0;34m\u001b[0m\u001b[0m\n\u001b[0m\u001b[1;32m    561\u001b[0m \u001b[0;34m\u001b[0m\u001b[0m\n",
      "\u001b[0;31mOptimizationError\u001b[0m: Solver status is 'infeasible'.",
      "\nDuring handling of the above exception, another exception occurred:\n",
      "\u001b[0;31mOptimizationError\u001b[0m                         Traceback (most recent call last)",
      "\u001b[0;32m~/Documents/cobramod/src/cobramod/core/extension.py\u001b[0m in \u001b[0;36mtest_non_zero_flux\u001b[0;34m(model, reaction, times, ignore_list)\u001b[0m\n\u001b[1;32m    356\u001b[0m         \u001b[0;32mif\u001b[0m \u001b[0;32mnot\u001b[0m \u001b[0mabs\u001b[0m\u001b[0;34m(\u001b[0m\u001b[0msolution\u001b[0m\u001b[0;34m[\u001b[0m\u001b[0mreaction\u001b[0m\u001b[0;34m]\u001b[0m\u001b[0;34m)\u001b[0m \u001b[0;34m>\u001b[0m \u001b[0mabs\u001b[0m\u001b[0;34m(\u001b[0m\u001b[0mcobra_tolerance\u001b[0m\u001b[0;34m)\u001b[0m\u001b[0;34m:\u001b[0m\u001b[0;34m\u001b[0m\u001b[0;34m\u001b[0m\u001b[0m\n\u001b[0;32m--> 357\u001b[0;31m             \u001b[0;32mraise\u001b[0m \u001b[0mOptimizationError\u001b[0m\u001b[0;34m(\u001b[0m\u001b[0mmessage\u001b[0m\u001b[0;34m=\u001b[0m\u001b[0;34m\"test\"\u001b[0m\u001b[0;34m)\u001b[0m\u001b[0;34m\u001b[0m\u001b[0;34m\u001b[0m\u001b[0m\n\u001b[0m\u001b[1;32m    358\u001b[0m         \u001b[0;31m# if works, pass and return old objective\u001b[0m\u001b[0;34m\u001b[0m\u001b[0;34m\u001b[0m\u001b[0;34m\u001b[0m\u001b[0m\n",
      "\u001b[0;31mOptimizationError\u001b[0m: test",
      "\nDuring handling of the above exception, another exception occurred:\n",
      "\u001b[0;31mOptimizationError\u001b[0m                         Traceback (most recent call last)",
      "\u001b[0;32m~/Documents/cobramod/src/cobramod/core/extension.py\u001b[0m in \u001b[0;36mtest_non_zero_flux\u001b[0;34m(model, reaction, times, ignore_list)\u001b[0m\n\u001b[1;32m    353\u001b[0m         \u001b[0;31m# model.slim_optimize(error_value=None)\u001b[0m\u001b[0;34m\u001b[0m\u001b[0;34m\u001b[0m\u001b[0;34m\u001b[0m\u001b[0m\n\u001b[0;32m--> 354\u001b[0;31m         \u001b[0msolution\u001b[0m \u001b[0;34m=\u001b[0m \u001b[0mmodel\u001b[0m\u001b[0;34m.\u001b[0m\u001b[0moptimize\u001b[0m\u001b[0;34m(\u001b[0m\u001b[0mraise_error\u001b[0m\u001b[0;34m=\u001b[0m\u001b[0;32mTrue\u001b[0m\u001b[0;34m)\u001b[0m\u001b[0;34m\u001b[0m\u001b[0;34m\u001b[0m\u001b[0m\n\u001b[0m\u001b[1;32m    355\u001b[0m         \u001b[0mprint\u001b[0m\u001b[0;34m(\u001b[0m\u001b[0msolution\u001b[0m\u001b[0;34m[\u001b[0m\u001b[0mreaction\u001b[0m\u001b[0;34m]\u001b[0m\u001b[0;34m)\u001b[0m\u001b[0;34m\u001b[0m\u001b[0;34m\u001b[0m\u001b[0m\n",
      "\u001b[0;32m~/miniconda3/envs/cobramod/lib/python3.7/site-packages/cobra/core/model.py\u001b[0m in \u001b[0;36moptimize\u001b[0;34m(self, objective_sense, raise_error)\u001b[0m\n\u001b[1;32m   1090\u001b[0m         \u001b[0mself\u001b[0m\u001b[0;34m.\u001b[0m\u001b[0mslim_optimize\u001b[0m\u001b[0;34m(\u001b[0m\u001b[0;34m)\u001b[0m\u001b[0;34m\u001b[0m\u001b[0;34m\u001b[0m\u001b[0m\n\u001b[0;32m-> 1091\u001b[0;31m         \u001b[0msolution\u001b[0m \u001b[0;34m=\u001b[0m \u001b[0mget_solution\u001b[0m\u001b[0;34m(\u001b[0m\u001b[0mself\u001b[0m\u001b[0;34m,\u001b[0m \u001b[0mraise_error\u001b[0m\u001b[0;34m=\u001b[0m\u001b[0mraise_error\u001b[0m\u001b[0;34m)\u001b[0m\u001b[0;34m\u001b[0m\u001b[0;34m\u001b[0m\u001b[0m\n\u001b[0m\u001b[1;32m   1092\u001b[0m         \u001b[0mself\u001b[0m\u001b[0;34m.\u001b[0m\u001b[0mobjective\u001b[0m\u001b[0;34m.\u001b[0m\u001b[0mdirection\u001b[0m \u001b[0;34m=\u001b[0m \u001b[0moriginal_direction\u001b[0m\u001b[0;34m\u001b[0m\u001b[0;34m\u001b[0m\u001b[0m\n",
      "\u001b[0;32m~/miniconda3/envs/cobramod/lib/python3.7/site-packages/cobra/core/solution.py\u001b[0m in \u001b[0;36mget_solution\u001b[0;34m(model, reactions, metabolites, raise_error)\u001b[0m\n\u001b[1;32m    235\u001b[0m     \"\"\"\n\u001b[0;32m--> 236\u001b[0;31m     \u001b[0mcheck_solver_status\u001b[0m\u001b[0;34m(\u001b[0m\u001b[0mmodel\u001b[0m\u001b[0;34m.\u001b[0m\u001b[0msolver\u001b[0m\u001b[0;34m.\u001b[0m\u001b[0mstatus\u001b[0m\u001b[0;34m,\u001b[0m \u001b[0mraise_error\u001b[0m\u001b[0;34m=\u001b[0m\u001b[0mraise_error\u001b[0m\u001b[0;34m)\u001b[0m\u001b[0;34m\u001b[0m\u001b[0;34m\u001b[0m\u001b[0m\n\u001b[0m\u001b[1;32m    237\u001b[0m     \u001b[0;32mif\u001b[0m \u001b[0mreactions\u001b[0m \u001b[0;32mis\u001b[0m \u001b[0;32mNone\u001b[0m\u001b[0;34m:\u001b[0m\u001b[0;34m\u001b[0m\u001b[0;34m\u001b[0m\u001b[0m\n",
      "\u001b[0;32m~/miniconda3/envs/cobramod/lib/python3.7/site-packages/cobra/util/solver.py\u001b[0m in \u001b[0;36mcheck_solver_status\u001b[0;34m(status, raise_error)\u001b[0m\n\u001b[1;32m    559\u001b[0m     \u001b[0;32melse\u001b[0m\u001b[0;34m:\u001b[0m\u001b[0;34m\u001b[0m\u001b[0;34m\u001b[0m\u001b[0m\n\u001b[0;32m--> 560\u001b[0;31m         \u001b[0;32mraise\u001b[0m \u001b[0mOptimizationError\u001b[0m\u001b[0;34m(\u001b[0m\u001b[0;34mf\"Solver status is '{status}'.\"\u001b[0m\u001b[0;34m)\u001b[0m\u001b[0;34m\u001b[0m\u001b[0;34m\u001b[0m\u001b[0m\n\u001b[0m\u001b[1;32m    561\u001b[0m \u001b[0;34m\u001b[0m\u001b[0m\n",
      "\u001b[0;31mOptimizationError\u001b[0m: Solver status is 'infeasible'.",
      "\nDuring handling of the above exception, another exception occurred:\n",
      "\u001b[0;31mOptimizationError\u001b[0m                         Traceback (most recent call last)",
      "\u001b[0;32m~/Documents/cobramod/src/cobramod/core/extension.py\u001b[0m in \u001b[0;36mtest_non_zero_flux\u001b[0;34m(model, reaction, times, ignore_list)\u001b[0m\n\u001b[1;32m    356\u001b[0m         \u001b[0;32mif\u001b[0m \u001b[0;32mnot\u001b[0m \u001b[0mabs\u001b[0m\u001b[0;34m(\u001b[0m\u001b[0msolution\u001b[0m\u001b[0;34m[\u001b[0m\u001b[0mreaction\u001b[0m\u001b[0;34m]\u001b[0m\u001b[0;34m)\u001b[0m \u001b[0;34m>\u001b[0m \u001b[0mabs\u001b[0m\u001b[0;34m(\u001b[0m\u001b[0mcobra_tolerance\u001b[0m\u001b[0;34m)\u001b[0m\u001b[0;34m:\u001b[0m\u001b[0;34m\u001b[0m\u001b[0;34m\u001b[0m\u001b[0m\n\u001b[0;32m--> 357\u001b[0;31m             \u001b[0;32mraise\u001b[0m \u001b[0mOptimizationError\u001b[0m\u001b[0;34m(\u001b[0m\u001b[0mmessage\u001b[0m\u001b[0;34m=\u001b[0m\u001b[0;34m\"test\"\u001b[0m\u001b[0;34m)\u001b[0m\u001b[0;34m\u001b[0m\u001b[0;34m\u001b[0m\u001b[0m\n\u001b[0m\u001b[1;32m    358\u001b[0m         \u001b[0;31m# if works, pass and return old objective\u001b[0m\u001b[0;34m\u001b[0m\u001b[0;34m\u001b[0m\u001b[0;34m\u001b[0m\u001b[0m\n",
      "\u001b[0;31mOptimizationError\u001b[0m: test",
      "\nDuring handling of the above exception, another exception occurred:\n",
      "\u001b[0;31mNotInRangeError\u001b[0m                           Traceback (most recent call last)",
      "\u001b[0;32m/tmp/ipykernel_107626/2070324307.py\u001b[0m in \u001b[0;36m<module>\u001b[0;34m\u001b[0m\n\u001b[1;32m     14\u001b[0m     \u001b[0mcompartment\u001b[0m\u001b[0;34m=\u001b[0m\u001b[0;34m\"c\"\u001b[0m\u001b[0;34m,\u001b[0m\u001b[0;34m\u001b[0m\u001b[0;34m\u001b[0m\u001b[0m\n\u001b[1;32m     15\u001b[0m     \u001b[0mfilename\u001b[0m\u001b[0;34m=\u001b[0m\u001b[0;34m\"summary.txt\"\u001b[0m\u001b[0;34m,\u001b[0m\u001b[0;34m\u001b[0m\u001b[0;34m\u001b[0m\u001b[0m\n\u001b[0;32m---> 16\u001b[0;31m     \u001b[0mdirectory\u001b[0m\u001b[0;34m=\u001b[0m\u001b[0mdir_data\u001b[0m\u001b[0;34m,\u001b[0m\u001b[0;34m\u001b[0m\u001b[0;34m\u001b[0m\u001b[0m\n\u001b[0m\u001b[1;32m     17\u001b[0m )\n\u001b[1;32m     18\u001b[0m \u001b[0;34m\u001b[0m\u001b[0m\n",
      "\u001b[0;32m~/Documents/cobramod/src/cobramod/core/extension.py\u001b[0m in \u001b[0;36madd_pathway\u001b[0;34m(model, pathway, directory, database, compartment, group, avoid_list, replacement, ignore_list, filename, stop_imbalance, show_imbalance, model_id, genome)\u001b[0m\n\u001b[1;32m    798\u001b[0m             \u001b[0mmodel_id\u001b[0m\u001b[0;34m=\u001b[0m\u001b[0mmodel_id\u001b[0m\u001b[0;34m,\u001b[0m\u001b[0;34m\u001b[0m\u001b[0;34m\u001b[0m\u001b[0m\n\u001b[1;32m    799\u001b[0m             \u001b[0mgenome\u001b[0m\u001b[0;34m=\u001b[0m\u001b[0mgenome\u001b[0m\u001b[0;34m,\u001b[0m\u001b[0;34m\u001b[0m\u001b[0;34m\u001b[0m\u001b[0m\n\u001b[0;32m--> 800\u001b[0;31m             \u001b[0mgroup\u001b[0m\u001b[0;34m=\u001b[0m\u001b[0mgroup\u001b[0m\u001b[0;34m,\u001b[0m\u001b[0;34m\u001b[0m\u001b[0;34m\u001b[0m\u001b[0m\n\u001b[0m\u001b[1;32m    801\u001b[0m         )\n\u001b[1;32m    802\u001b[0m     \u001b[0;32melif\u001b[0m \u001b[0misinstance\u001b[0m\u001b[0;34m(\u001b[0m\u001b[0mpathway\u001b[0m\u001b[0;34m,\u001b[0m \u001b[0mlist\u001b[0m\u001b[0;34m)\u001b[0m\u001b[0;34m:\u001b[0m\u001b[0;34m\u001b[0m\u001b[0;34m\u001b[0m\u001b[0m\n",
      "\u001b[0;32m~/Documents/cobramod/src/cobramod/core/extension.py\u001b[0m in \u001b[0;36m_from_data\u001b[0;34m(model, data_dict, group, directory, database, compartment, avoid_list, replacement, ignore_list, stop_imbalance, show_imbalance, model_id, genome)\u001b[0m\n\u001b[1;32m    563\u001b[0m             \u001b[0mpathway\u001b[0m\u001b[0;34m=\u001b[0m\u001b[0mpathway\u001b[0m\u001b[0;34m,\u001b[0m\u001b[0;34m\u001b[0m\u001b[0;34m\u001b[0m\u001b[0m\n\u001b[1;32m    564\u001b[0m             \u001b[0msequence\u001b[0m\u001b[0;34m=\u001b[0m\u001b[0msequence\u001b[0m\u001b[0;34m,\u001b[0m\u001b[0;34m\u001b[0m\u001b[0;34m\u001b[0m\u001b[0m\n\u001b[0;32m--> 565\u001b[0;31m             \u001b[0mignore_list\u001b[0m\u001b[0;34m=\u001b[0m\u001b[0mignore_list\u001b[0m\u001b[0;34m,\u001b[0m\u001b[0;34m\u001b[0m\u001b[0;34m\u001b[0m\u001b[0m\n\u001b[0m\u001b[1;32m    566\u001b[0m         )\n\u001b[1;32m    567\u001b[0m     \u001b[0;31m# Inform about sinks\u001b[0m\u001b[0;34m\u001b[0m\u001b[0;34m\u001b[0m\u001b[0;34m\u001b[0m\u001b[0m\n",
      "\u001b[0;32m~/Documents/cobramod/src/cobramod/core/extension.py\u001b[0m in \u001b[0;36m_add_sequence\u001b[0;34m(model, pathway, sequence, ignore_list)\u001b[0m\n\u001b[1;32m    412\u001b[0m         \u001b[0;32mif\u001b[0m \u001b[0mreaction\u001b[0m\u001b[0;34m.\u001b[0m\u001b[0mid\u001b[0m \u001b[0;32mnot\u001b[0m \u001b[0;32min\u001b[0m \u001b[0mignore_list\u001b[0m\u001b[0;34m:\u001b[0m\u001b[0;34m\u001b[0m\u001b[0;34m\u001b[0m\u001b[0m\n\u001b[1;32m    413\u001b[0m             test_non_zero_flux(\n\u001b[0;32m--> 414\u001b[0;31m                 \u001b[0mmodel\u001b[0m\u001b[0;34m=\u001b[0m\u001b[0mmodel\u001b[0m\u001b[0;34m,\u001b[0m \u001b[0mreaction\u001b[0m\u001b[0;34m=\u001b[0m\u001b[0mreaction\u001b[0m\u001b[0;34m.\u001b[0m\u001b[0mid\u001b[0m\u001b[0;34m,\u001b[0m \u001b[0mignore_list\u001b[0m\u001b[0;34m=\u001b[0m\u001b[0mignore_list\u001b[0m\u001b[0;34m\u001b[0m\u001b[0;34m\u001b[0m\u001b[0m\n\u001b[0m\u001b[1;32m    415\u001b[0m             )\n\u001b[1;32m    416\u001b[0m         \u001b[0;32melse\u001b[0m\u001b[0;34m:\u001b[0m\u001b[0;34m\u001b[0m\u001b[0;34m\u001b[0m\u001b[0m\n",
      "\u001b[0;32m~/Documents/cobramod/src/cobramod/core/extension.py\u001b[0m in \u001b[0;36mtest_non_zero_flux\u001b[0;34m(model, reaction, times, ignore_list)\u001b[0m\n\u001b[1;32m    376\u001b[0m             \u001b[0mreaction\u001b[0m\u001b[0;34m=\u001b[0m\u001b[0mreaction\u001b[0m\u001b[0;34m,\u001b[0m\u001b[0;34m\u001b[0m\u001b[0;34m\u001b[0m\u001b[0m\n\u001b[1;32m    377\u001b[0m             \u001b[0mtimes\u001b[0m\u001b[0;34m=\u001b[0m\u001b[0mtimes\u001b[0m \u001b[0;34m+\u001b[0m \u001b[0;36m1\u001b[0m\u001b[0;34m,\u001b[0m\u001b[0;34m\u001b[0m\u001b[0;34m\u001b[0m\u001b[0m\n\u001b[0;32m--> 378\u001b[0;31m             \u001b[0mignore_list\u001b[0m\u001b[0;34m=\u001b[0m\u001b[0mignore_list\u001b[0m\u001b[0;34m,\u001b[0m\u001b[0;34m\u001b[0m\u001b[0;34m\u001b[0m\u001b[0m\n\u001b[0m\u001b[1;32m    379\u001b[0m         )\n\u001b[1;32m    380\u001b[0m \u001b[0;34m\u001b[0m\u001b[0m\n",
      "\u001b[0;32m~/Documents/cobramod/src/cobramod/core/extension.py\u001b[0m in \u001b[0;36mtest_non_zero_flux\u001b[0;34m(model, reaction, times, ignore_list)\u001b[0m\n\u001b[1;32m    376\u001b[0m             \u001b[0mreaction\u001b[0m\u001b[0;34m=\u001b[0m\u001b[0mreaction\u001b[0m\u001b[0;34m,\u001b[0m\u001b[0;34m\u001b[0m\u001b[0;34m\u001b[0m\u001b[0m\n\u001b[1;32m    377\u001b[0m             \u001b[0mtimes\u001b[0m\u001b[0;34m=\u001b[0m\u001b[0mtimes\u001b[0m \u001b[0;34m+\u001b[0m \u001b[0;36m1\u001b[0m\u001b[0;34m,\u001b[0m\u001b[0;34m\u001b[0m\u001b[0;34m\u001b[0m\u001b[0m\n\u001b[0;32m--> 378\u001b[0;31m             \u001b[0mignore_list\u001b[0m\u001b[0;34m=\u001b[0m\u001b[0mignore_list\u001b[0m\u001b[0;34m,\u001b[0m\u001b[0;34m\u001b[0m\u001b[0;34m\u001b[0m\u001b[0m\n\u001b[0m\u001b[1;32m    379\u001b[0m         )\n\u001b[1;32m    380\u001b[0m \u001b[0;34m\u001b[0m\u001b[0m\n",
      "\u001b[0;32m~/Documents/cobramod/src/cobramod/core/extension.py\u001b[0m in \u001b[0;36mtest_non_zero_flux\u001b[0;34m(model, reaction, times, ignore_list)\u001b[0m\n\u001b[1;32m    376\u001b[0m             \u001b[0mreaction\u001b[0m\u001b[0;34m=\u001b[0m\u001b[0mreaction\u001b[0m\u001b[0;34m,\u001b[0m\u001b[0;34m\u001b[0m\u001b[0;34m\u001b[0m\u001b[0m\n\u001b[1;32m    377\u001b[0m             \u001b[0mtimes\u001b[0m\u001b[0;34m=\u001b[0m\u001b[0mtimes\u001b[0m \u001b[0;34m+\u001b[0m \u001b[0;36m1\u001b[0m\u001b[0;34m,\u001b[0m\u001b[0;34m\u001b[0m\u001b[0;34m\u001b[0m\u001b[0m\n\u001b[0;32m--> 378\u001b[0;31m             \u001b[0mignore_list\u001b[0m\u001b[0;34m=\u001b[0m\u001b[0mignore_list\u001b[0m\u001b[0;34m,\u001b[0m\u001b[0;34m\u001b[0m\u001b[0;34m\u001b[0m\u001b[0m\n\u001b[0m\u001b[1;32m    379\u001b[0m         )\n\u001b[1;32m    380\u001b[0m \u001b[0;34m\u001b[0m\u001b[0m\n",
      "\u001b[0;32m~/Documents/cobramod/src/cobramod/core/extension.py\u001b[0m in \u001b[0;36mtest_non_zero_flux\u001b[0;34m(model, reaction, times, ignore_list)\u001b[0m\n\u001b[1;32m    376\u001b[0m             \u001b[0mreaction\u001b[0m\u001b[0;34m=\u001b[0m\u001b[0mreaction\u001b[0m\u001b[0;34m,\u001b[0m\u001b[0;34m\u001b[0m\u001b[0;34m\u001b[0m\u001b[0m\n\u001b[1;32m    377\u001b[0m             \u001b[0mtimes\u001b[0m\u001b[0;34m=\u001b[0m\u001b[0mtimes\u001b[0m \u001b[0;34m+\u001b[0m \u001b[0;36m1\u001b[0m\u001b[0;34m,\u001b[0m\u001b[0;34m\u001b[0m\u001b[0;34m\u001b[0m\u001b[0m\n\u001b[0;32m--> 378\u001b[0;31m             \u001b[0mignore_list\u001b[0m\u001b[0;34m=\u001b[0m\u001b[0mignore_list\u001b[0m\u001b[0;34m,\u001b[0m\u001b[0;34m\u001b[0m\u001b[0;34m\u001b[0m\u001b[0m\n\u001b[0m\u001b[1;32m    379\u001b[0m         )\n\u001b[1;32m    380\u001b[0m \u001b[0;34m\u001b[0m\u001b[0m\n",
      "\u001b[0;32m~/Documents/cobramod/src/cobramod/core/extension.py\u001b[0m in \u001b[0;36mtest_non_zero_flux\u001b[0;34m(model, reaction, times, ignore_list)\u001b[0m\n\u001b[1;32m    347\u001b[0m     \u001b[0;31m# Setting maximum times for recursion\u001b[0m\u001b[0;34m\u001b[0m\u001b[0;34m\u001b[0m\u001b[0;34m\u001b[0m\u001b[0m\n\u001b[1;32m    348\u001b[0m     \u001b[0;32mif\u001b[0m \u001b[0mtimes\u001b[0m \u001b[0;34m==\u001b[0m \u001b[0mlen\u001b[0m\u001b[0;34m(\u001b[0m\u001b[0mmodel\u001b[0m\u001b[0;34m.\u001b[0m\u001b[0mreactions\u001b[0m\u001b[0;34m.\u001b[0m\u001b[0mget_by_id\u001b[0m\u001b[0;34m(\u001b[0m\u001b[0mreaction\u001b[0m\u001b[0;34m)\u001b[0m\u001b[0;34m.\u001b[0m\u001b[0mmetabolites\u001b[0m\u001b[0;34m)\u001b[0m\u001b[0;34m:\u001b[0m\u001b[0;34m\u001b[0m\u001b[0;34m\u001b[0m\u001b[0m\n\u001b[0;32m--> 349\u001b[0;31m         \u001b[0;32mraise\u001b[0m \u001b[0mNotInRangeError\u001b[0m\u001b[0;34m(\u001b[0m\u001b[0mreaction\u001b[0m\u001b[0;34m=\u001b[0m\u001b[0mmodel\u001b[0m\u001b[0;34m.\u001b[0m\u001b[0mreactions\u001b[0m\u001b[0;34m.\u001b[0m\u001b[0mget_by_id\u001b[0m\u001b[0;34m(\u001b[0m\u001b[0mreaction\u001b[0m\u001b[0;34m)\u001b[0m\u001b[0;34m)\u001b[0m\u001b[0;34m\u001b[0m\u001b[0;34m\u001b[0m\u001b[0m\n\u001b[0m\u001b[1;32m    350\u001b[0m     \u001b[0;31m# answer must be reasonable\u001b[0m\u001b[0;34m\u001b[0m\u001b[0;34m\u001b[0m\u001b[0;34m\u001b[0m\u001b[0m\n\u001b[1;32m    351\u001b[0m     \u001b[0;31m# comparison must be using absolute values\u001b[0m\u001b[0;34m\u001b[0m\u001b[0;34m\u001b[0m\u001b[0;34m\u001b[0m\u001b[0m\n",
      "\u001b[0;31mNotInRangeError\u001b[0m: The following reaction \"ACETOACETYL_COA_TRANSFER_RXN_c\" failed the non-zero flux test multiple times. Flux values are below solver tolerance. It it possible that one of the metabolites participates in a cycle. For example, NADP to NADPH and viceversa. Please make sure that those reactions have a correct equation and that their metabolites can be turnover."
     ]
    }
   ],
   "source": [
    "from pathlib import Path\n",
    "from cobramod import add_pathway\n",
    "from cobramod.test import textbook\n",
    "# Defining directory\n",
    "dir_data = Path.cwd().resolve().joinpath(\"data\")\n",
    "                                   \n",
    "# Using copy of test model\n",
    "test_model = textbook.copy()\n",
    "\n",
    "add_pathway(\n",
    "    model=test_model,\n",
    "    pathway=\"ACETOACETATE-DEG-PWY\",\n",
    "    database=\"ECOLI\",\n",
    "    compartment=\"c\",\n",
    "    filename=\"summary.txt\",\n",
    "    directory=dir_data,\n",
    ")\n",
    "\n",
    "# Display in jupyter\n",
    "test_model.groups.get_by_id(\"ACETOACETATE-DEG-PWY\")"
   ]
  },
  {
   "cell_type": "markdown",
   "metadata": {
    "id": "37naM0897403"
   },
   "source": [
    "Below is an example of the summary in form of a text file. The first\n",
    "part lists names of all reactions, metabolites, exchange reactions,\n",
    "auxiliary demand and sink reactions, genes, and groups in the model. The second part of the summary lists all elements that were added or removed by the function call `add_pathway()`."
   ]
  },
  {
   "cell_type": "code",
   "execution_count": null,
   "metadata": {
    "colab": {
     "base_uri": "https://localhost:8080/"
    },
    "id": "JYMb89t77404",
    "outputId": "ac5a4cb9-70d7-412d-97ab-0540dba0b49e"
   },
   "outputs": [],
   "source": [
    "%cat summary.txt"
   ]
  },
  {
   "cell_type": "markdown",
   "metadata": {
    "id": "5E3kqIV17406"
   },
   "source": [
    "In the next example, we use a list of database-specific reaction identifiers as `pathway` argument. We use the database identifier `ECOLI` and the\n",
    "compartment `c` (cytosol). Additionally, we define a pathway name by using the argument `group`. The user can also use this argument to merge pathways by using the same group names."
   ]
  },
  {
   "cell_type": "code",
   "execution_count": null,
   "metadata": {
    "colab": {
     "base_uri": "https://localhost:8080/",
     "height": 651
    },
    "id": "DXh3EVxU7406",
    "outputId": "4dc33e3e-a6b7-44e6-e259-6349fbe6047c"
   },
   "outputs": [],
   "source": [
    "from pathlib import Path\n",
    "from cobramod import add_pathway\n",
    "from cobramod.test import textbook_biocyc\n",
    "# Defining directory\n",
    "dir_data = Path.cwd().resolve().joinpath(\"data\")\n",
    "\n",
    "test_model = textbook_biocyc.copy()\n",
    "# Defining database-specific identifiers\n",
    "sequence = [\"PEPDEPHOS-RXN\", \"PYRUVFORMLY-RXN\", \"FHLMULTI-RXN\"]\n",
    "                                                                \n",
    "print(f'Number of reaction prior addition: {len(test_model.reactions)}')\n",
    "                                                                \n",
    "add_pathway(\n",
    "    model=test_model,\n",
    "    pathway=sequence,\n",
    "    directory=dir_data,\n",
    "    database=\"ECOLI\",\n",
    "    compartment=\"c\",\n",
    "    group=\"curated_pathway\"\n",
    ")\n",
    "\n",
    "print(f'Number of reactions after addition: {len(test_model.reactions)}')\n",
    "# Display in jupyter\n",
    "test_model.groups.get_by_id(\"curated_pathway\")"
   ]
  },
  {
   "cell_type": "markdown",
   "metadata": {
    "id": "wYJWosLv7407"
   },
   "source": [
    "--------------------\n",
    "\n",
    "**NOTES**\n",
    "\n",
    "- A pathway is a set of COBRApy reactions. All the notes listed for `add_metabolites()` and `add_reactions()` also apply to pathways, i. e., handling of duplicate elements, transport reactions and the argument `genome` for KEGG.\n",
    "\n",
    "--------------------\n"
   ]
  },
  {
   "cell_type": "markdown",
   "metadata": {
    "id": "WZ78z82Mgbdl"
   },
   "source": [
    "## Non-zero flux test\n",
    "\n",
    "When calling the function `add_pathway()`, CobraMod tests each reaction of the `Pathway` object for its capability to carry a non-zero flux, i.e., if the involved metabolites can be turned over. Additionally, the user can test individual COBRApy reactions for their capability to cary a non-zero flux by using the function [cobramod.test_non_zero_flux()](\n",
    "module/cobramod/index.html#cobramod.test_non_zero_flux\n",
    ").\n",
    "\n",
    "\n",
    "During the test, CobraMod selects one of the metabolites in the reaction and\n",
    "creates a [demand reaction](\n",
    "  https://cobrapy.readthedocs.io/en/latest/building_model.html#Exchanges,-Sinks-and-Demands\n",
    ") to force a flux in the reaction that is tested. CobraMod checks that the\n",
    "metabolites of the reaction can be turnover by counting the \n",
    "number of reactions related to each metabolite. Each metabolite must participate in at least one reaction besides the one that is tested. If the\n",
    "test initially fails, auxiliary [sink reactions](\n",
    "  https://cobrapy.readthedocs.io/en/latest/building_model.html#Exchanges,-Sinks-and-Demands\n",
    ") are added to the model and CobraMod raises an error suggesting a manual intervention. Otherwise, if no message is printed, the test is passed and the\n",
    "demand reaction is removed. The user can also use the argument `ignore_list` to\n",
    "specify metabolites that should not have a auxiliary sink reaction created.\n",
    "\n",
    "In the following example, we test the glutathione synthase reaction\n",
    "(`GLUTATHIONE-SYN-RXN`) in the comparment plastid (`p`) for its capability to\n",
    "carry a non-zero flux. This reaction has the following equation:\n",
    "\n",
    "    ATP_p + GLY_p + L_GAMMA_GLUTAMYLCYSTEINE_p --> ADP_p + GLUTATHIONE_p + PROTON_p + Pi_p\n",
    "\n",
    "The test model has only reactions and metabolites in the cytosol compartment.\n",
    "Because we test a reaction from another compartment, CobraMod creates auxiliary\n",
    "sink reactions for those metabolites. To showcase the error, we ignore\n",
    "the metabolite `PROTON_p` using the `ignore_list` argument. CobraMod does not\n",
    "create a auxiliary sink reaction for it. \n",
    "\n",
    "We use the function `cobramod.add_reactions()` to add the respective reaction\n",
    "and some\n",
    "tranport reactions for its metabolites excluding `PROTON_p`. Then we run\n",
    "the [test_non_zero_flux()](\n",
    "module/cobramod/index.html#cobramod.test_non_zero_flux()\n",
    ") with the argument `ignore_list`. Because `PROTON_p` cannot be turnover, the\n",
    "model cannot fullfill the demand reaction of the test. The model becomes\n",
    "infeasible and the user sees an error suggesting manual curation.\n"
   ]
  },
  {
   "cell_type": "code",
   "execution_count": null,
   "metadata": {
    "colab": {
     "base_uri": "https://localhost:8080/",
     "height": 1000
    },
    "id": "1eLXkls4qmph",
    "outputId": "db09f429-b01e-4a91-c1c7-5a0245ff2a47",
    "tags": [
     "raises-exception"
    ]
   },
   "outputs": [],
   "source": [
    "from cobramod import test_non_zero_flux, add_reactions\n",
    "from cobramod.test import textbook_biocyc\n",
    "\n",
    "test_model = textbook_biocyc.copy()\n",
    "\n",
    "add_reactions(\n",
    "    model=test_model,\n",
    "    # These reactions will break the model and raise errors\n",
    "    obj=[\n",
    "        \"Redox_ADP_ATP_p, Redox_ADP_ATP_p | ADP_p <-> ATP_p\",\n",
    "        \"TRANS_Pi_cp, Transport Phosphate_cp | Pi_c <-> Pi_p\",\n",
    "        \"TRANS_GLUTATHIONE_cp, Transport GLUTATHIONE_cp | \"\n",
    "        + \"GLUTATHIONE_c <-> GLUTATHIONE_p\",\n",
    "        \"GLUTATHIONE-SYN-RXN, p\",\n",
    "    ],\n",
    "    directory=dir_data,\n",
    "    database=\"ECOLI\",\n",
    "    replacement={},\n",
    ")\n",
    "test_non_zero_flux(\n",
    "    model=test_model,\n",
    "    reaction=\"GLUTATHIONE_SYN_RXN_p\",\n",
    "    ignore_list=[\"PROTON_p\"],\n",
    ")\n"
   ]
  },
  {
   "cell_type": "markdown",
   "metadata": {
    "id": "XMVGghQRW0dt"
   },
   "source": [
    "## Curation process\n",
    "\n",
    "CobraMod automatically performs the following curation steps suring the creation of COBRApy reaction and metabolite objects and CobraMod \n",
    "pathway objects:\n",
    "\n",
    "\n",
    "1. If CobraMod encounters large molecules or data objects with missing entries,\n",
    "it prints a warning.\n",
    "2. CobraMod tries to identify COBRApy reactions and metabolites that are\n",
    "already in the model instead of creating them. The reaction and metabolite\n",
    "information contains multiple cross-references database entries. If an entry is \n",
    "found in the model, then CobraMod uses it instead of creating the COBRApy \n",
    "objects.\n",
    "3. CobraMod utilizes the COBRApy method [cobra.Reaction.check_mass_balance()](\n",
    "https://cobrapy.readthedocs.io/en/latest/autoapi/cobra/core/reaction/index.html#cobra.core.reaction.Reaction.check_mass_balance \n",
    ") and returns a warning if imbalances are found.\n",
    "4. This package uses the reaction reversibility information provided with the\n",
    "obtained reaction data. If reversibility information is missing, CobraMod raises a warning.\n",
    "5. When CobraMod adds a pathway, every pathway reaction undergos a *non-zero flux test*. If a reaction cannot carry a non-zero flux, CobraMod adds\n",
    "auxiliary sink reactions to unblock the reaction and suggests manual curation steps based on these auxiliary modifications.\n",
    "6. All information about downloads, the creation of objects, warnings and exceptions are written to the log file `debug.log`. As an example, below we show part of such a log file."
   ]
  },
  {
   "cell_type": "code",
   "execution_count": null,
   "metadata": {
    "id": "git3aYmj-wK7"
   },
   "outputs": [],
   "source": [
    "!head debug.log -n 20"
   ]
  },
  {
   "cell_type": "markdown",
   "metadata": {
    "id": "lndble907408"
   },
   "source": [
    "## Converting COBRApy Groups back to CobraMod Pathways \n",
    "\n",
    "The COBRApy function [cobra.io.write_sbml_model()](\n",
    "  https://cobrapy.readthedocs.io/en/latest/autoapi/cobra/io/index.html#cobra.io.write_sbml_model\n",
    ") writes cobra models to sbml files. If a model contains a [cobramod.Pathway](\n",
    "module/cobramod/index.html#cobramod.Pathway\n",
    ")\n",
    "and the user calls the function `write_sbml_model`, they are saved\n",
    "as a [COBRApy Group](\n",
    "  https://cobrapy.readthedocs.io/en/latest/autoapi/cobra/core/group/index.html#cobra.core.group.Group\n",
    "). If the user loads the written model using the COBRApy function\n",
    "[cobra.io.read_sbml_model()](\n",
    "  https://cobrapy.readthedocs.io/en/latest/autoapi/cobra/io/index.html#cobra.io.read_sbml_model\n",
    "), the model creates COBRApy groups object instead of the CobraMod pathway\n",
    "objects.\n",
    "\n",
    "To overcome this problem, we created the function [cobramod.model_convert()](\n",
    "module/cobramod/core/pathway/index.html#cobramod.core.pathway.model_convert\n",
    ") which converts the COBRApy group objects into CobraMod pathway objects.\n",
    "\n",
    "In the following example, we create a `Group` and add four reactions to \n",
    "it. We add this group to the model to simulate loading a model with groups. The\n",
    "only argument for this function is `model` which is the respective model\n",
    "with groups instead of pathway objects. \n",
    " \n",
    "Finally, we call the respective CobraMod pathway object to make sure it is a\n",
    "pathway object."
   ]
  },
  {
   "cell_type": "code",
   "execution_count": null,
   "metadata": {
    "colab": {
     "base_uri": "https://localhost:8080/",
     "height": 265
    },
    "id": "wu5oKFEe7408",
    "outputId": "254b59cc-3f50-4346-99cd-f6c70d1579bd"
   },
   "outputs": [],
   "source": [
    "from cobramod import model_convert\n",
    "from cobramod.test import textbook_biocyc\n",
    "from cobra.core.group import Group\n",
    "\n",
    "test_model = textbook_biocyc.copy()\n",
    "# Creation of group\n",
    "test_group = Group(id=\"curated_pathway\")\n",
    "for reaction in (\"GLCpts\", \"G6PDH2r\", \"PGL\", \"GND\"):\n",
    "    test_group.add_members([test_model.reactions.get_by_id(reaction)])\n",
    "test_model.add_groups([test_group])\n",
    "\n",
    "# Conversion to a Pathway\n",
    "model_convert(model=test_model)\n",
    "# Display to Jupyter\n",
    "test_model.groups.get_by_id(\"curated_pathway\")"
   ]
  },
  {
   "cell_type": "markdown",
   "metadata": {
    "id": "cKNlZylSvsis"
   },
   "source": [
    "## Visualization with Escher\n",
    "\n",
    "CobraMod uses [Escher](https://escher.readthedocs.io/en/latest/) to visualize\n",
    "pathways and fluxes. Each CobraMod pathway includes a visualization method\n",
    "[Pathway.visualize()](\n",
    "module/cobramod/core/pathway/index.html#cobramod.core.pathway.Pathway.visualize\n",
    ") which automatically generates pathway maps of the respective set of\n",
    "reactions. These pathway maps can be easily customized to visualize flux\n",
    "distributions using default or user-defined colors and gradients (linear or\n",
    "quantile normalized).\n",
    "\n",
    "In the following example, we call the function `visualize` without any arguments."
   ]
  },
  {
   "cell_type": "code",
   "execution_count": null,
   "metadata": {
    "id": "vEeMnrkK7407",
    "scrolled": false
   },
   "outputs": [],
   "source": [
    "test_model.groups.get_by_id(\"curated_pathway\").visualize()"
   ]
  },
  {
   "cell_type": "markdown",
   "metadata": {
    "id": "Tv6AKMMC6DYq"
   },
   "source": [
    "We can modify the orientation of our pathway by changing the attribute \n",
    "`vertical` to `True`."
   ]
  },
  {
   "cell_type": "code",
   "execution_count": null,
   "metadata": {
    "id": "g2brjcEp6DHR"
   },
   "outputs": [],
   "source": [
    "test_model.groups.get_by_id(\"curated_pathway\").vertical = True\n",
    "test_model.groups.get_by_id(\"curated_pathway\").visualize()"
   ]
  },
  {
   "cell_type": "markdown",
   "metadata": {
    "id": "uBCHBBzkp3NV"
   },
   "source": [
    "The visualization method can also be called with the argument `solution_fluxes`.\n",
    "This argument can be a dictionary with the fluxes of the reactions\n",
    "or a [COBRApy Solution](\n",
    "https://cobrapy.readthedocs.io/en/latest/autoapi/cobra/core/solution/index.html#cobra.core.solution.Solution\n",
    "). CobraMod assigns colors to the fluxes values based on the chosen normalizaton method. By default, smaller absolute fluxes (positive and negative) get a paler coloring with zero flux values colored in grey. By default, the visualization method uses the minimal and maximum bounds\n",
    "from the argument `solution_flux` to show stronger coloring. CobraMod uses\n",
    "these bounds to equally distribute the color gradient.\n",
    "\n",
    "In the following example, we create a dictionary with fluxes and we pass it to the visualization method."
   ]
  },
  {
   "cell_type": "code",
   "execution_count": null,
   "metadata": {
    "id": "iBJJokl0pz7R"
   },
   "outputs": [],
   "source": [
    "# For flux visualization of the group\n",
    "solution =  {\n",
    "    \"GLCpts\": -2, \"G6PDH2r\": -2, \"PGL\": 0.4, \"GND\": 1\n",
    "}\n",
    "# Modifying attributes\n",
    "test_model.groups.get_by_id(\"curated_pathway\").visualize(\n",
    "    solution_fluxes=solution\n",
    ")"
   ]
  },
  {
   "cell_type": "markdown",
   "metadata": {
    "id": "yi4qsx037csv"
   },
   "source": [
    "We can change the colors of the fluxes by changing the attribute \n",
    "`color_negative` and `color_positive`. In this example, we use the red color for\n",
    "negative fluxes and green for positive fluxes."
   ]
  },
  {
   "cell_type": "code",
   "execution_count": null,
   "metadata": {
    "id": "1GmD6-He7U0y"
   },
   "outputs": [],
   "source": [
    "# Modifying attributes\n",
    "test_model.groups.get_by_id(\"curated_pathway\").color_negative = \"red\"\n",
    "test_model.groups.get_by_id(\"curated_pathway\").color_positive = \"green\"\n",
    "test_model.groups.get_by_id(\"curated_pathway\").visualize(\n",
    "    solution_fluxes=solution\n",
    ")"
   ]
  },
  {
   "cell_type": "markdown",
   "metadata": {
    "id": "zC-70eboHpts"
   },
   "source": [
    "The user can also set the bounds of the coloring by modifying the CobraMod\n",
    "patway attribute `color_min_max`. In this example we change the bounds to -10 \n",
    "and 10. The color of fluxes result in pale colors because the value of the \n",
    "fluxes are not near the bounds. This option is useful when the user wants to\n",
    "compare a specific range of values. For instance, comparing either only positive\n",
    "or negative values between multiple pathways."
   ]
  },
  {
   "cell_type": "code",
   "execution_count": null,
   "metadata": {
    "id": "ZBSnF5SPHpVb"
   },
   "outputs": [],
   "source": [
    "test_model.groups.get_by_id(\"curated_pathway\").color_min_max = [-10, 10]\n",
    "test_model.groups.get_by_id(\"curated_pathway\").visualize(\n",
    "    solution_fluxes=solution\n",
    ")"
   ]
  },
  {
   "cell_type": "markdown",
   "metadata": {
    "id": "Y2fjw7lk8-lI"
   },
   "source": [
    "In the next example, we use the default behavior of the bounds by setting the \n",
    "`color_min_max` attribute to `None` and change the colors to orange for\n",
    "negative flux values and light blue for positive flux values. Available colors\n",
    "can be found [here](\n",
    "https://www.w3schools.com/cssref/css_colors.asp\n",
    ")"
   ]
  },
  {
   "cell_type": "code",
   "execution_count": null,
   "metadata": {
    "colab": {
     "base_uri": "https://localhost:8080/",
     "height": 17,
     "referenced_widgets": [
      "a36420947dff4528a676e70c35530eb7"
     ]
    },
    "id": "7CgOK9vN89dW",
    "outputId": "b54d8932-7797-4fbf-d114-19a58d7d1db4"
   },
   "outputs": [],
   "source": [
    "# New flux with high value\n",
    "solution =  {\n",
    "    \"GLCpts\": -2, \"G6PDH2r\": -2, \"PGL\": 0.4, \"GND\": 1, \"Other\": 1000\n",
    "}\n",
    "# Using defaults\n",
    "test_model.groups.get_by_id(\"curated_pathway\").color_min_max = None\n",
    "\n",
    "test_model.groups.get_by_id(\"curated_pathway\").color_negative = \"orange\"\n",
    "test_model.groups.get_by_id(\"curated_pathway\").color_positive = \"lightskyblue\"\n",
    "test_model.groups.get_by_id(\"curated_pathway\").visualize(\n",
    "    solution_fluxes=solution\n",
    ")"
   ]
  },
  {
   "cell_type": "markdown",
   "metadata": {
    "id": "zpUBhsNj98gp"
   },
   "source": [
    "The user can change the color gradient to a quantile normalization. This means\n",
    "that the color gradient is determined by the quantiles of the\n",
    "`solution_fluxes` argument, rather than the maximum und minimum bounds. \n",
    "The user can activate this option by changing the attribute `color_quantile` to\n",
    "`True`. This is for example useful when the fluxes values vary by several orders of magnitude. For instance, in the previous example, we added a reaction to the dictionary with a flux value of 1000. We can see that the positive colors are quite pale. Thus, in the next example we change the attribute `color_quantile` and now the colors are much brighter."
   ]
  },
  {
   "cell_type": "code",
   "execution_count": null,
   "metadata": {
    "id": "Ge1BuOUc99C2"
   },
   "outputs": [],
   "source": [
    "test_model.groups.get_by_id(\"curated_pathway\").color_quantile = True\n",
    "test_model.groups.get_by_id(\"curated_pathway\").visualize(\n",
    "    solution_fluxes=solution\n",
    ")"
   ]
  },
  {
   "cell_type": "markdown",
   "metadata": {
    "id": "tdouxbsr_kg_"
   },
   "source": [
    "The user can call the `Pathway` for a summary of the current \n",
    "attributes."
   ]
  },
  {
   "cell_type": "code",
   "execution_count": null,
   "metadata": {
    "id": "Pteu2RW29Kod"
   },
   "outputs": [],
   "source": [
    "test_model.groups.get_by_id(\"curated_pathway\")"
   ]
  },
  {
   "cell_type": "markdown",
   "metadata": {
    "id": "ljWird8j1UJi"
   },
   "source": [
    "CobraMod pathway maps are saved as  HTML files with the default name\n",
    "`pathway.html`. The user can specify the file name with the argument `filename`. In the following example, we name the file `curated_pathway.html`.\n"
   ]
  },
  {
   "cell_type": "code",
   "execution_count": null,
   "metadata": {
    "id": "kp99_Vsj8TVc"
   },
   "outputs": [],
   "source": [
    "test_model.groups.get_by_id(\"curated_pathway\").visualize(\n",
    "    solution_fluxes=solution, filename = \"curated_pathway.html\"\n",
    ")"
   ]
  },
  {
   "cell_type": "markdown",
   "metadata": {
    "id": "rqP6-WVU8iPV"
   },
   "source": [
    "We can verify that the file exists by using the `ls` command.\n"
   ]
  },
  {
   "cell_type": "code",
   "execution_count": null,
   "metadata": {
    "colab": {
     "base_uri": "https://localhost:8080/"
    },
    "id": "lwunVyzE8dnW",
    "outputId": "14537022-e3ed-42b6-90cc-2cf55ddb1dfd"
   },
   "outputs": [],
   "source": [
    "!ls curated_pathway.html"
   ]
  }
 ],
 "metadata": {
  "colab": {
   "collapsed_sections": [],
   "name": "how_to.ipynb",
   "provenance": []
  },
  "kernelspec": {
   "display_name": "Python 3 (ipykernel)",
   "language": "python",
   "name": "python3"
  },
  "language_info": {
   "codemirror_mode": {
    "name": "ipython",
    "version": 3
   },
   "file_extension": ".py",
   "mimetype": "text/x-python",
   "name": "python",
   "nbconvert_exporter": "python",
   "pygments_lexer": "ipython3",
   "version": "3.7.4"
  },
  "widgets": {
   "application/vnd.jupyter.widget-state+json": {
    "state": {
     "0185cdc0b9e54a55884d144bccfe3a91": {
      "model_module": "@jupyter-widgets/base",
      "model_module_version": "1.2.0",
      "model_name": "LayoutModel",
      "state": {}
     },
     "0717335909964420b0b74b6dc5f0b745": {
      "model_module": "escher",
      "model_module_version": "1.7.3",
      "model_name": "EscherMapModel",
      "state": {
       "_loaded_map_json": "[{\"map_name\": \"\", \"map_id\": \"\", \"map_description\": \"\", \"homepage\": \"\", \"schema\": \"https://escher.github.io/escher/jsonschema/1-0-0#\"}, {\"reactions\": {\"0\": {\"name\": \"GLCpts\", \"bigg_id\": \"GLCpts\", \"reversibility\": true, \"label_x\": 265.0, \"label_y\": 325.0, \"gene_reaction_rule\": \"\", \"genes\": [], \"segments\": {\"0\": {\"from_node_id\": \"4\", \"to_node_id\": \"5\", \"b1\": null, \"b2\": null}, \"1\": {\"from_node_id\": \"6\", \"to_node_id\": \"5\", \"b1\": null, \"b2\": null}, \"2\": {\"from_node_id\": \"0\", \"to_node_id\": \"4\", \"b1\": null, \"b2\": null}, \"3\": {\"from_node_id\": \"1\", \"to_node_id\": \"4\", \"b1\": null, \"b2\": null}, \"4\": {\"from_node_id\": \"2\", \"to_node_id\": \"6\", \"b1\": null, \"b2\": null}, \"5\": {\"from_node_id\": \"3\", \"to_node_id\": \"6\", \"b1\": null, \"b2\": null}}, \"metabolites\": [{\"bigg_id\": \"Glucopyranose_e\", \"coefficient\": -1.0}, {\"bigg_id\": \"PHOSPHO_ENOL_PYRUVATE_c\", \"coefficient\": -1.0}, {\"bigg_id\": \"D_glucopyranose_6_phosphate_c\", \"coefficient\": 1.0}, {\"bigg_id\": \"PYRUVATE_c\", \"coefficient\": 1.0}]}, \"1\": {\"name\": \"G6PDH2r\", \"bigg_id\": \"G6PDH2r\", \"reversibility\": true, \"label_x\": 265.0, \"label_y\": 975.0, \"gene_reaction_rule\": \"\", \"genes\": [], \"segments\": {\"6\": {\"from_node_id\": \"11\", \"to_node_id\": \"12\", \"b1\": null, \"b2\": null}, \"7\": {\"from_node_id\": \"13\", \"to_node_id\": \"12\", \"b1\": null, \"b2\": null}, \"8\": {\"from_node_id\": \"2\", \"to_node_id\": \"11\", \"b1\": null, \"b2\": null}, \"9\": {\"from_node_id\": \"7\", \"to_node_id\": \"11\", \"b1\": null, \"b2\": null}, \"10\": {\"from_node_id\": \"8\", \"to_node_id\": \"13\", \"b1\": null, \"b2\": null}, \"11\": {\"from_node_id\": \"9\", \"to_node_id\": \"13\", \"b1\": null, \"b2\": null}, \"12\": {\"from_node_id\": \"10\", \"to_node_id\": \"13\", \"b1\": null, \"b2\": null}}, \"metabolites\": [{\"bigg_id\": \"D_glucopyranose_6_phosphate_c\", \"coefficient\": -1.0}, {\"bigg_id\": \"NADP_c\", \"coefficient\": -1.0}, {\"bigg_id\": \"D_6_P_GLUCONO_DELTA_LACTONE_c\", \"coefficient\": 1.0}, {\"bigg_id\": \"NADPH_c\", \"coefficient\": 1.0}, {\"bigg_id\": \"PROTON_c\", \"coefficient\": 1.0}]}, \"2\": {\"name\": \"PGL\", \"bigg_id\": \"PGL\", \"reversibility\": true, \"label_x\": 265.0, \"label_y\": 1625.0, \"gene_reaction_rule\": \"\", \"genes\": [], \"segments\": {\"13\": {\"from_node_id\": \"17\", \"to_node_id\": \"18\", \"b1\": null, \"b2\": null}, \"14\": {\"from_node_id\": \"19\", \"to_node_id\": \"18\", \"b1\": null, \"b2\": null}, \"15\": {\"from_node_id\": \"14\", \"to_node_id\": \"17\", \"b1\": null, \"b2\": null}, \"16\": {\"from_node_id\": \"8\", \"to_node_id\": \"17\", \"b1\": null, \"b2\": null}, \"17\": {\"from_node_id\": \"15\", \"to_node_id\": \"19\", \"b1\": null, \"b2\": null}, \"18\": {\"from_node_id\": \"16\", \"to_node_id\": \"19\", \"b1\": null, \"b2\": null}}, \"metabolites\": [{\"bigg_id\": \"CPD_15815_c\", \"coefficient\": -1.0}, {\"bigg_id\": \"D_6_P_GLUCONO_DELTA_LACTONE_c\", \"coefficient\": -1.0}, {\"bigg_id\": \"CPD_2961_c\", \"coefficient\": 1.0}, {\"bigg_id\": \"PROTON_c\", \"coefficient\": 1.0}]}, \"3\": {\"name\": \"GND\", \"bigg_id\": \"GND\", \"reversibility\": true, \"label_x\": 265.0, \"label_y\": 2275.0, \"gene_reaction_rule\": \"\", \"genes\": [], \"segments\": {\"19\": {\"from_node_id\": \"24\", \"to_node_id\": \"25\", \"b1\": null, \"b2\": null}, \"20\": {\"from_node_id\": \"26\", \"to_node_id\": \"25\", \"b1\": null, \"b2\": null}, \"21\": {\"from_node_id\": \"15\", \"to_node_id\": \"24\", \"b1\": null, \"b2\": null}, \"22\": {\"from_node_id\": \"20\", \"to_node_id\": \"24\", \"b1\": null, \"b2\": null}, \"23\": {\"from_node_id\": \"21\", \"to_node_id\": \"26\", \"b1\": null, \"b2\": null}, \"24\": {\"from_node_id\": \"22\", \"to_node_id\": \"26\", \"b1\": null, \"b2\": null}, \"25\": {\"from_node_id\": \"23\", \"to_node_id\": \"26\", \"b1\": null, \"b2\": null}}, \"metabolites\": [{\"bigg_id\": \"CPD_2961_c\", \"coefficient\": -1.0}, {\"bigg_id\": \"NADP_c\", \"coefficient\": -1.0}, {\"bigg_id\": \"CARBON_DIOXIDE_c\", \"coefficient\": 1.0}, {\"bigg_id\": \"NADPH_c\", \"coefficient\": 1.0}, {\"bigg_id\": \"RIBULOSE_5P_c\", \"coefficient\": 1.0}]}}, \"nodes\": {\"0\": {\"node_type\": \"metabolite\", \"x\": 150.0, \"y\": 30.0, \"label_x\": 160.0, \"label_y\": 20.0, \"bigg_id\": \"Glucopyranose_e\", \"name\": \"Glucopyranose_e\", \"node_is_primary\": false}, \"1\": {\"node_type\": \"metabolite\", \"x\": 300.0, \"y\": 30.0, \"label_x\": 310.0, \"label_y\": 20.0, \"bigg_id\": \"PHOSPHO_ENOL_PYRUVATE_c\", \"name\": \"PHOSPHO_ENOL_PYRUVATE_c\", \"node_is_primary\": false}, \"2\": {\"node_type\": \"metabolite\", \"x\": 150.0, \"y\": 550.0, \"label_x\": 160.0, \"label_y\": 580.0, \"bigg_id\": \"D_glucopyranose_6_phosphate_c\", \"name\": \"D_glucopyranose_6_phosphate_c\", \"node_is_primary\": false}, \"3\": {\"node_type\": \"metabolite\", \"x\": 300.0, \"y\": 550.0, \"label_x\": 310.0, \"label_y\": 580.0, \"bigg_id\": \"PYRUVATE_c\", \"name\": \"PYRUVATE_c\", \"node_is_primary\": false}, \"4\": {\"node_type\": \"multimarker\", \"x\": 225.0, \"y\": 305.0}, \"5\": {\"node_type\": \"midmarker\", \"x\": 225.0, \"y\": 325.0}, \"6\": {\"node_type\": \"multimarker\", \"x\": 225.0, \"y\": 345.0}, \"7\": {\"node_type\": \"metabolite\", \"x\": 300.0, \"y\": 680.0, \"label_x\": 310.0, \"label_y\": 670.0, \"bigg_id\": \"NADP_c\", \"name\": \"NADP_c\", \"node_is_primary\": false}, \"8\": {\"node_type\": \"metabolite\", \"x\": 112.5, \"y\": 1200.0, \"label_x\": 122.5, \"label_y\": 1230.0, \"bigg_id\": \"D_6_P_GLUCONO_DELTA_LACTONE_c\", \"name\": \"D_6_P_GLUCONO_DELTA_LACTONE_c\", \"node_is_primary\": false}, \"9\": {\"node_type\": \"metabolite\", \"x\": 225.0, \"y\": 1200.0, \"label_x\": 235.0, \"label_y\": 1230.0, \"bigg_id\": \"NADPH_c\", \"name\": \"NADPH_c\", \"node_is_primary\": false}, \"10\": {\"node_type\": \"metabolite\", \"x\": 337.5, \"y\": 1200.0, \"label_x\": 347.5, \"label_y\": 1230.0, \"bigg_id\": \"PROTON_c\", \"name\": \"PROTON_c\", \"node_is_primary\": false}, \"11\": {\"node_type\": \"multimarker\", \"x\": 225.0, \"y\": 955.0}, \"12\": {\"node_type\": \"midmarker\", \"x\": 225.0, \"y\": 975.0}, \"13\": {\"node_type\": \"multimarker\", \"x\": 225.0, \"y\": 995.0}, \"14\": {\"node_type\": \"metabolite\", \"x\": 150.0, \"y\": 1330.0, \"label_x\": 160.0, \"label_y\": 1320.0, \"bigg_id\": \"CPD_15815_c\", \"name\": \"CPD_15815_c\", \"node_is_primary\": false}, \"15\": {\"node_type\": \"metabolite\", \"x\": 150.0, \"y\": 1850.0, \"label_x\": 160.0, \"label_y\": 1880.0, \"bigg_id\": \"CPD_2961_c\", \"name\": \"CPD_2961_c\", \"node_is_primary\": false}, \"16\": {\"node_type\": \"metabolite\", \"x\": 300.0, \"y\": 1850.0, \"label_x\": 310.0, \"label_y\": 1880.0, \"bigg_id\": \"PROTON_c\", \"name\": \"PROTON_c\", \"node_is_primary\": false}, \"17\": {\"node_type\": \"multimarker\", \"x\": 225.0, \"y\": 1605.0}, \"18\": {\"node_type\": \"midmarker\", \"x\": 225.0, \"y\": 1625.0}, \"19\": {\"node_type\": \"multimarker\", \"x\": 225.0, \"y\": 1645.0}, \"20\": {\"node_type\": \"metabolite\", \"x\": 300.0, \"y\": 1980.0, \"label_x\": 310.0, \"label_y\": 1970.0, \"bigg_id\": \"NADP_c\", \"name\": \"NADP_c\", \"node_is_primary\": false}, \"21\": {\"node_type\": \"metabolite\", \"x\": 112.5, \"y\": 2500.0, \"label_x\": 122.5, \"label_y\": 2530.0, \"bigg_id\": \"CARBON_DIOXIDE_c\", \"name\": \"CARBON_DIOXIDE_c\", \"node_is_primary\": false}, \"22\": {\"node_type\": \"metabolite\", \"x\": 225.0, \"y\": 2500.0, \"label_x\": 235.0, \"label_y\": 2530.0, \"bigg_id\": \"NADPH_c\", \"name\": \"NADPH_c\", \"node_is_primary\": false}, \"23\": {\"node_type\": \"metabolite\", \"x\": 337.5, \"y\": 2500.0, \"label_x\": 347.5, \"label_y\": 2530.0, \"bigg_id\": \"RIBULOSE_5P_c\", \"name\": \"RIBULOSE_5P_c\", \"node_is_primary\": false}, \"24\": {\"node_type\": \"multimarker\", \"x\": 225.0, \"y\": 2255.0}, \"25\": {\"node_type\": \"midmarker\", \"x\": 225.0, \"y\": 2275.0}, \"26\": {\"node_type\": \"multimarker\", \"x\": 225.0, \"y\": 2295.0}}, \"text_labels\": {}, \"canvas\": {\"x\": 0, \"y\": 0, \"width\": 450, \"height\": 2600}}]",
       "_loaded_model_json": null,
       "allow_building_duplicate_reactions": false,
       "and_method_in_gene_reaction_rule": "mean",
       "canvas_size_and_loc": null,
       "cofactors": [
        "atp",
        "adp",
        "nad",
        "nadh",
        "nadp",
        "nadph",
        "gtp",
        "gdp",
        "h",
        "coa",
        "ump",
        "h2o",
        "ppi"
       ],
       "disabled_buttons": [
        "Clear gene data",
        "Clear metabolite data"
       ],
       "embedded_css": null,
       "enable_editing": true,
       "enable_keys": false,
       "enable_keys_with_tooltip": true,
       "enable_search": true,
       "enable_tooltips": false,
       "full_screen_button": {
        "enable_editing": true,
        "enable_keys": true,
        "enable_tooltips": [
         "label"
        ],
        "menu": "all",
        "scroll_behavior": "pan"
       },
       "gene_data": null,
       "gene_font_size": 18,
       "height": 500,
       "hide_all_labels": false,
       "hide_secondary_metabolites": false,
       "highlight_missing": false,
       "identifiers_on_map": "bigg_id",
       "layout": "IPY_MODEL_368481e373b8407e9f95a1b825087dd0",
       "marker_radius": 5,
       "menu": "all",
       "metabolite_compare_style": "log2_fold",
       "metabolite_data": null,
       "metabolite_no_data_color": "#ffffff",
       "metabolite_no_data_size": 10,
       "metabolite_scale": [
        {
         "color": "#fffaf0",
         "size": 20,
         "type": "min"
        },
        {
         "color": "#f1c470",
         "size": 30,
         "type": "median"
        },
        {
         "color": "#800000",
         "size": 40,
         "type": "max"
        }
       ],
       "metabolite_scale_preset": "WhYlRd",
       "metabolite_styles": [
        "color",
        "size",
        "text"
       ],
       "never_ask_before_quit": true,
       "primary_metabolite_radius": 20,
       "reaction_compare_style": "log2_fold",
       "reaction_data": {
        "G6PDH2r": -2,
        "GLCpts": -2,
        "GND": 1,
        "PGL": 0.4
       },
       "reaction_no_data_color": "#dcdcdc",
       "reaction_no_data_size": 8,
       "reaction_scale": [
        {
         "color": "rgb(220,220,220)",
         "type": "value",
         "value": 0.5
        },
        {
         "color": "rgb(220,220,220)",
         "type": "value",
         "value": 1
        },
        {
         "color": "rgb(220,220,220)",
         "type": "value",
         "value": 0
        },
        {
         "color": "rgb(220,220,220)",
         "type": "value",
         "value": -1
        },
        {
         "color": "rgb(220,220,220)",
         "type": "value",
         "value": -2
        }
       ],
       "reaction_scale_preset": null,
       "reaction_styles": [
        "color",
        "text"
       ],
       "scroll_behavior": "none",
       "secondary_metabolite_radius": 10,
       "semantic_zoom": null,
       "show_gene_reaction_rules": false,
       "starting_reaction": null,
       "use_3d_transform": false,
       "zoom_to_element": null
      }
     },
     "09a7b81471b74c8c9312ba6467574bdf": {
      "model_module": "escher",
      "model_module_version": "1.7.3",
      "model_name": "EscherMapModel",
      "state": {
       "_loaded_map_json": "[{\"map_name\": \"\", \"map_id\": \"\", \"map_description\": \"\", \"homepage\": \"\", \"schema\": \"https://escher.github.io/escher/jsonschema/1-0-0#\"}, {\"reactions\": {\"0\": {\"name\": \"GLCpts\", \"bigg_id\": \"GLCpts\", \"reversibility\": true, \"label_x\": 265.0, \"label_y\": 325.0, \"gene_reaction_rule\": \"\", \"genes\": [], \"segments\": {\"0\": {\"from_node_id\": \"4\", \"to_node_id\": \"5\", \"b1\": null, \"b2\": null}, \"1\": {\"from_node_id\": \"6\", \"to_node_id\": \"5\", \"b1\": null, \"b2\": null}, \"2\": {\"from_node_id\": \"0\", \"to_node_id\": \"4\", \"b1\": null, \"b2\": null}, \"3\": {\"from_node_id\": \"1\", \"to_node_id\": \"4\", \"b1\": null, \"b2\": null}, \"4\": {\"from_node_id\": \"2\", \"to_node_id\": \"6\", \"b1\": null, \"b2\": null}, \"5\": {\"from_node_id\": \"3\", \"to_node_id\": \"6\", \"b1\": null, \"b2\": null}}, \"metabolites\": [{\"bigg_id\": \"Glucopyranose_e\", \"coefficient\": -1.0}, {\"bigg_id\": \"PHOSPHO_ENOL_PYRUVATE_c\", \"coefficient\": -1.0}, {\"bigg_id\": \"D_glucopyranose_6_phosphate_c\", \"coefficient\": 1.0}, {\"bigg_id\": \"PYRUVATE_c\", \"coefficient\": 1.0}]}, \"1\": {\"name\": \"G6PDH2r\", \"bigg_id\": \"G6PDH2r\", \"reversibility\": true, \"label_x\": 265.0, \"label_y\": 975.0, \"gene_reaction_rule\": \"\", \"genes\": [], \"segments\": {\"6\": {\"from_node_id\": \"11\", \"to_node_id\": \"12\", \"b1\": null, \"b2\": null}, \"7\": {\"from_node_id\": \"13\", \"to_node_id\": \"12\", \"b1\": null, \"b2\": null}, \"8\": {\"from_node_id\": \"2\", \"to_node_id\": \"11\", \"b1\": null, \"b2\": null}, \"9\": {\"from_node_id\": \"7\", \"to_node_id\": \"11\", \"b1\": null, \"b2\": null}, \"10\": {\"from_node_id\": \"8\", \"to_node_id\": \"13\", \"b1\": null, \"b2\": null}, \"11\": {\"from_node_id\": \"9\", \"to_node_id\": \"13\", \"b1\": null, \"b2\": null}, \"12\": {\"from_node_id\": \"10\", \"to_node_id\": \"13\", \"b1\": null, \"b2\": null}}, \"metabolites\": [{\"bigg_id\": \"D_glucopyranose_6_phosphate_c\", \"coefficient\": -1.0}, {\"bigg_id\": \"NADP_c\", \"coefficient\": -1.0}, {\"bigg_id\": \"D_6_P_GLUCONO_DELTA_LACTONE_c\", \"coefficient\": 1.0}, {\"bigg_id\": \"NADPH_c\", \"coefficient\": 1.0}, {\"bigg_id\": \"PROTON_c\", \"coefficient\": 1.0}]}, \"2\": {\"name\": \"PGL\", \"bigg_id\": \"PGL\", \"reversibility\": true, \"label_x\": 265.0, \"label_y\": 1625.0, \"gene_reaction_rule\": \"\", \"genes\": [], \"segments\": {\"13\": {\"from_node_id\": \"17\", \"to_node_id\": \"18\", \"b1\": null, \"b2\": null}, \"14\": {\"from_node_id\": \"19\", \"to_node_id\": \"18\", \"b1\": null, \"b2\": null}, \"15\": {\"from_node_id\": \"14\", \"to_node_id\": \"17\", \"b1\": null, \"b2\": null}, \"16\": {\"from_node_id\": \"8\", \"to_node_id\": \"17\", \"b1\": null, \"b2\": null}, \"17\": {\"from_node_id\": \"15\", \"to_node_id\": \"19\", \"b1\": null, \"b2\": null}, \"18\": {\"from_node_id\": \"16\", \"to_node_id\": \"19\", \"b1\": null, \"b2\": null}}, \"metabolites\": [{\"bigg_id\": \"CPD_15815_c\", \"coefficient\": -1.0}, {\"bigg_id\": \"D_6_P_GLUCONO_DELTA_LACTONE_c\", \"coefficient\": -1.0}, {\"bigg_id\": \"CPD_2961_c\", \"coefficient\": 1.0}, {\"bigg_id\": \"PROTON_c\", \"coefficient\": 1.0}]}, \"3\": {\"name\": \"GND\", \"bigg_id\": \"GND\", \"reversibility\": true, \"label_x\": 265.0, \"label_y\": 2275.0, \"gene_reaction_rule\": \"\", \"genes\": [], \"segments\": {\"19\": {\"from_node_id\": \"24\", \"to_node_id\": \"25\", \"b1\": null, \"b2\": null}, \"20\": {\"from_node_id\": \"26\", \"to_node_id\": \"25\", \"b1\": null, \"b2\": null}, \"21\": {\"from_node_id\": \"15\", \"to_node_id\": \"24\", \"b1\": null, \"b2\": null}, \"22\": {\"from_node_id\": \"20\", \"to_node_id\": \"24\", \"b1\": null, \"b2\": null}, \"23\": {\"from_node_id\": \"21\", \"to_node_id\": \"26\", \"b1\": null, \"b2\": null}, \"24\": {\"from_node_id\": \"22\", \"to_node_id\": \"26\", \"b1\": null, \"b2\": null}, \"25\": {\"from_node_id\": \"23\", \"to_node_id\": \"26\", \"b1\": null, \"b2\": null}}, \"metabolites\": [{\"bigg_id\": \"CPD_2961_c\", \"coefficient\": -1.0}, {\"bigg_id\": \"NADP_c\", \"coefficient\": -1.0}, {\"bigg_id\": \"CARBON_DIOXIDE_c\", \"coefficient\": 1.0}, {\"bigg_id\": \"NADPH_c\", \"coefficient\": 1.0}, {\"bigg_id\": \"RIBULOSE_5P_c\", \"coefficient\": 1.0}]}}, \"nodes\": {\"0\": {\"node_type\": \"metabolite\", \"x\": 150.0, \"y\": 30.0, \"label_x\": 160.0, \"label_y\": 20.0, \"bigg_id\": \"Glucopyranose_e\", \"name\": \"Glucopyranose_e\", \"node_is_primary\": false}, \"1\": {\"node_type\": \"metabolite\", \"x\": 300.0, \"y\": 30.0, \"label_x\": 310.0, \"label_y\": 20.0, \"bigg_id\": \"PHOSPHO_ENOL_PYRUVATE_c\", \"name\": \"PHOSPHO_ENOL_PYRUVATE_c\", \"node_is_primary\": false}, \"2\": {\"node_type\": \"metabolite\", \"x\": 150.0, \"y\": 550.0, \"label_x\": 160.0, \"label_y\": 580.0, \"bigg_id\": \"D_glucopyranose_6_phosphate_c\", \"name\": \"D_glucopyranose_6_phosphate_c\", \"node_is_primary\": false}, \"3\": {\"node_type\": \"metabolite\", \"x\": 300.0, \"y\": 550.0, \"label_x\": 310.0, \"label_y\": 580.0, \"bigg_id\": \"PYRUVATE_c\", \"name\": \"PYRUVATE_c\", \"node_is_primary\": false}, \"4\": {\"node_type\": \"multimarker\", \"x\": 225.0, \"y\": 305.0}, \"5\": {\"node_type\": \"midmarker\", \"x\": 225.0, \"y\": 325.0}, \"6\": {\"node_type\": \"multimarker\", \"x\": 225.0, \"y\": 345.0}, \"7\": {\"node_type\": \"metabolite\", \"x\": 300.0, \"y\": 680.0, \"label_x\": 310.0, \"label_y\": 670.0, \"bigg_id\": \"NADP_c\", \"name\": \"NADP_c\", \"node_is_primary\": false}, \"8\": {\"node_type\": \"metabolite\", \"x\": 112.5, \"y\": 1200.0, \"label_x\": 122.5, \"label_y\": 1230.0, \"bigg_id\": \"D_6_P_GLUCONO_DELTA_LACTONE_c\", \"name\": \"D_6_P_GLUCONO_DELTA_LACTONE_c\", \"node_is_primary\": false}, \"9\": {\"node_type\": \"metabolite\", \"x\": 225.0, \"y\": 1200.0, \"label_x\": 235.0, \"label_y\": 1230.0, \"bigg_id\": \"NADPH_c\", \"name\": \"NADPH_c\", \"node_is_primary\": false}, \"10\": {\"node_type\": \"metabolite\", \"x\": 337.5, \"y\": 1200.0, \"label_x\": 347.5, \"label_y\": 1230.0, \"bigg_id\": \"PROTON_c\", \"name\": \"PROTON_c\", \"node_is_primary\": false}, \"11\": {\"node_type\": \"multimarker\", \"x\": 225.0, \"y\": 955.0}, \"12\": {\"node_type\": \"midmarker\", \"x\": 225.0, \"y\": 975.0}, \"13\": {\"node_type\": \"multimarker\", \"x\": 225.0, \"y\": 995.0}, \"14\": {\"node_type\": \"metabolite\", \"x\": 150.0, \"y\": 1330.0, \"label_x\": 160.0, \"label_y\": 1320.0, \"bigg_id\": \"CPD_15815_c\", \"name\": \"CPD_15815_c\", \"node_is_primary\": false}, \"15\": {\"node_type\": \"metabolite\", \"x\": 150.0, \"y\": 1850.0, \"label_x\": 160.0, \"label_y\": 1880.0, \"bigg_id\": \"CPD_2961_c\", \"name\": \"CPD_2961_c\", \"node_is_primary\": false}, \"16\": {\"node_type\": \"metabolite\", \"x\": 300.0, \"y\": 1850.0, \"label_x\": 310.0, \"label_y\": 1880.0, \"bigg_id\": \"PROTON_c\", \"name\": \"PROTON_c\", \"node_is_primary\": false}, \"17\": {\"node_type\": \"multimarker\", \"x\": 225.0, \"y\": 1605.0}, \"18\": {\"node_type\": \"midmarker\", \"x\": 225.0, \"y\": 1625.0}, \"19\": {\"node_type\": \"multimarker\", \"x\": 225.0, \"y\": 1645.0}, \"20\": {\"node_type\": \"metabolite\", \"x\": 300.0, \"y\": 1980.0, \"label_x\": 310.0, \"label_y\": 1970.0, \"bigg_id\": \"NADP_c\", \"name\": \"NADP_c\", \"node_is_primary\": false}, \"21\": {\"node_type\": \"metabolite\", \"x\": 112.5, \"y\": 2500.0, \"label_x\": 122.5, \"label_y\": 2530.0, \"bigg_id\": \"CARBON_DIOXIDE_c\", \"name\": \"CARBON_DIOXIDE_c\", \"node_is_primary\": false}, \"22\": {\"node_type\": \"metabolite\", \"x\": 225.0, \"y\": 2500.0, \"label_x\": 235.0, \"label_y\": 2530.0, \"bigg_id\": \"NADPH_c\", \"name\": \"NADPH_c\", \"node_is_primary\": false}, \"23\": {\"node_type\": \"metabolite\", \"x\": 337.5, \"y\": 2500.0, \"label_x\": 347.5, \"label_y\": 2530.0, \"bigg_id\": \"RIBULOSE_5P_c\", \"name\": \"RIBULOSE_5P_c\", \"node_is_primary\": false}, \"24\": {\"node_type\": \"multimarker\", \"x\": 225.0, \"y\": 2255.0}, \"25\": {\"node_type\": \"midmarker\", \"x\": 225.0, \"y\": 2275.0}, \"26\": {\"node_type\": \"multimarker\", \"x\": 225.0, \"y\": 2295.0}}, \"text_labels\": {}, \"canvas\": {\"x\": 0, \"y\": 0, \"width\": 450, \"height\": 2600}}]",
       "_loaded_model_json": null,
       "allow_building_duplicate_reactions": false,
       "and_method_in_gene_reaction_rule": "mean",
       "canvas_size_and_loc": null,
       "cofactors": [
        "atp",
        "adp",
        "nad",
        "nadh",
        "nadp",
        "nadph",
        "gtp",
        "gdp",
        "h",
        "coa",
        "ump",
        "h2o",
        "ppi"
       ],
       "disabled_buttons": [
        "Clear gene data",
        "Clear metabolite data"
       ],
       "embedded_css": null,
       "enable_editing": true,
       "enable_keys": false,
       "enable_keys_with_tooltip": true,
       "enable_search": true,
       "enable_tooltips": false,
       "full_screen_button": {
        "enable_editing": true,
        "enable_keys": true,
        "enable_tooltips": [
         "label"
        ],
        "menu": "all",
        "scroll_behavior": "pan"
       },
       "gene_data": null,
       "gene_font_size": 18,
       "height": 500,
       "hide_all_labels": false,
       "hide_secondary_metabolites": false,
       "highlight_missing": false,
       "identifiers_on_map": "bigg_id",
       "layout": "IPY_MODEL_2d33c1de555c4dbe8503d941aadcc4d5",
       "marker_radius": 5,
       "menu": "all",
       "metabolite_compare_style": "log2_fold",
       "metabolite_data": null,
       "metabolite_no_data_color": "#ffffff",
       "metabolite_no_data_size": 10,
       "metabolite_scale": [
        {
         "color": "#fffaf0",
         "size": 20,
         "type": "min"
        },
        {
         "color": "#f1c470",
         "size": 30,
         "type": "median"
        },
        {
         "color": "#800000",
         "size": 40,
         "type": "max"
        }
       ],
       "metabolite_scale_preset": "WhYlRd",
       "metabolite_styles": [
        "color",
        "size",
        "text"
       ],
       "never_ask_before_quit": true,
       "primary_metabolite_radius": 20,
       "reaction_compare_style": "log2_fold",
       "reaction_data": {
        "G6PDH2r": -2,
        "GLCpts": -2,
        "GND": 1,
        "PGL": 0.4
       },
       "reaction_no_data_color": "#dcdcdc",
       "reaction_no_data_size": 8,
       "reaction_scale": [
        {
         "color": "rgb(146,189,146)",
         "type": "value",
         "value": 3.3333333333333335
        },
        {
         "color": "rgb(73,158,73)",
         "type": "value",
         "value": 6.666666666666666
        },
        {
         "color": "rgb(0,127,0)",
         "type": "value",
         "value": 10
        },
        {
         "color": "rgb(220,220,220)",
         "type": "value",
         "value": 0
        },
        {
         "color": "rgb(231,146,146)",
         "type": "value",
         "value": -3.3333333333333335
        },
        {
         "color": "rgb(243,73,73)",
         "type": "value",
         "value": -6.666666666666666
        },
        {
         "color": "rgb(255,0,0)",
         "type": "value",
         "value": -10
        }
       ],
       "reaction_scale_preset": null,
       "reaction_styles": [
        "color",
        "text"
       ],
       "scroll_behavior": "none",
       "secondary_metabolite_radius": 10,
       "semantic_zoom": null,
       "show_gene_reaction_rules": false,
       "starting_reaction": null,
       "use_3d_transform": false,
       "zoom_to_element": null
      }
     },
     "0a5da803371d42d59b4c8d294c64ce08": {
      "model_module": "escher",
      "model_module_version": "1.7.3",
      "model_name": "EscherMapModel",
      "state": {
       "_loaded_map_json": "[{\"map_name\": \"\", \"map_id\": \"\", \"map_description\": \"\", \"homepage\": \"\", \"schema\": \"https://escher.github.io/escher/jsonschema/1-0-0#\"}, {\"reactions\": {\"0\": {\"name\": \"GLCpts\", \"bigg_id\": \"GLCpts\", \"reversibility\": true, \"label_x\": 265.0, \"label_y\": 325.0, \"gene_reaction_rule\": \"\", \"genes\": [], \"segments\": {\"0\": {\"from_node_id\": \"4\", \"to_node_id\": \"5\", \"b1\": null, \"b2\": null}, \"1\": {\"from_node_id\": \"6\", \"to_node_id\": \"5\", \"b1\": null, \"b2\": null}, \"2\": {\"from_node_id\": \"0\", \"to_node_id\": \"4\", \"b1\": null, \"b2\": null}, \"3\": {\"from_node_id\": \"1\", \"to_node_id\": \"4\", \"b1\": null, \"b2\": null}, \"4\": {\"from_node_id\": \"2\", \"to_node_id\": \"6\", \"b1\": null, \"b2\": null}, \"5\": {\"from_node_id\": \"3\", \"to_node_id\": \"6\", \"b1\": null, \"b2\": null}}, \"metabolites\": [{\"bigg_id\": \"Glucopyranose_e\", \"coefficient\": -1.0}, {\"bigg_id\": \"PHOSPHO_ENOL_PYRUVATE_c\", \"coefficient\": -1.0}, {\"bigg_id\": \"D_glucopyranose_6_phosphate_c\", \"coefficient\": 1.0}, {\"bigg_id\": \"PYRUVATE_c\", \"coefficient\": 1.0}]}, \"1\": {\"name\": \"G6PDH2r\", \"bigg_id\": \"G6PDH2r\", \"reversibility\": true, \"label_x\": 265.0, \"label_y\": 975.0, \"gene_reaction_rule\": \"\", \"genes\": [], \"segments\": {\"6\": {\"from_node_id\": \"11\", \"to_node_id\": \"12\", \"b1\": null, \"b2\": null}, \"7\": {\"from_node_id\": \"13\", \"to_node_id\": \"12\", \"b1\": null, \"b2\": null}, \"8\": {\"from_node_id\": \"2\", \"to_node_id\": \"11\", \"b1\": null, \"b2\": null}, \"9\": {\"from_node_id\": \"7\", \"to_node_id\": \"11\", \"b1\": null, \"b2\": null}, \"10\": {\"from_node_id\": \"8\", \"to_node_id\": \"13\", \"b1\": null, \"b2\": null}, \"11\": {\"from_node_id\": \"9\", \"to_node_id\": \"13\", \"b1\": null, \"b2\": null}, \"12\": {\"from_node_id\": \"10\", \"to_node_id\": \"13\", \"b1\": null, \"b2\": null}}, \"metabolites\": [{\"bigg_id\": \"D_glucopyranose_6_phosphate_c\", \"coefficient\": -1.0}, {\"bigg_id\": \"NADP_c\", \"coefficient\": -1.0}, {\"bigg_id\": \"D_6_P_GLUCONO_DELTA_LACTONE_c\", \"coefficient\": 1.0}, {\"bigg_id\": \"NADPH_c\", \"coefficient\": 1.0}, {\"bigg_id\": \"PROTON_c\", \"coefficient\": 1.0}]}, \"2\": {\"name\": \"PGL\", \"bigg_id\": \"PGL\", \"reversibility\": true, \"label_x\": 265.0, \"label_y\": 1625.0, \"gene_reaction_rule\": \"\", \"genes\": [], \"segments\": {\"13\": {\"from_node_id\": \"17\", \"to_node_id\": \"18\", \"b1\": null, \"b2\": null}, \"14\": {\"from_node_id\": \"19\", \"to_node_id\": \"18\", \"b1\": null, \"b2\": null}, \"15\": {\"from_node_id\": \"14\", \"to_node_id\": \"17\", \"b1\": null, \"b2\": null}, \"16\": {\"from_node_id\": \"8\", \"to_node_id\": \"17\", \"b1\": null, \"b2\": null}, \"17\": {\"from_node_id\": \"15\", \"to_node_id\": \"19\", \"b1\": null, \"b2\": null}, \"18\": {\"from_node_id\": \"16\", \"to_node_id\": \"19\", \"b1\": null, \"b2\": null}}, \"metabolites\": [{\"bigg_id\": \"CPD_15815_c\", \"coefficient\": -1.0}, {\"bigg_id\": \"D_6_P_GLUCONO_DELTA_LACTONE_c\", \"coefficient\": -1.0}, {\"bigg_id\": \"CPD_2961_c\", \"coefficient\": 1.0}, {\"bigg_id\": \"PROTON_c\", \"coefficient\": 1.0}]}, \"3\": {\"name\": \"GND\", \"bigg_id\": \"GND\", \"reversibility\": true, \"label_x\": 265.0, \"label_y\": 2275.0, \"gene_reaction_rule\": \"\", \"genes\": [], \"segments\": {\"19\": {\"from_node_id\": \"24\", \"to_node_id\": \"25\", \"b1\": null, \"b2\": null}, \"20\": {\"from_node_id\": \"26\", \"to_node_id\": \"25\", \"b1\": null, \"b2\": null}, \"21\": {\"from_node_id\": \"15\", \"to_node_id\": \"24\", \"b1\": null, \"b2\": null}, \"22\": {\"from_node_id\": \"20\", \"to_node_id\": \"24\", \"b1\": null, \"b2\": null}, \"23\": {\"from_node_id\": \"21\", \"to_node_id\": \"26\", \"b1\": null, \"b2\": null}, \"24\": {\"from_node_id\": \"22\", \"to_node_id\": \"26\", \"b1\": null, \"b2\": null}, \"25\": {\"from_node_id\": \"23\", \"to_node_id\": \"26\", \"b1\": null, \"b2\": null}}, \"metabolites\": [{\"bigg_id\": \"CPD_2961_c\", \"coefficient\": -1.0}, {\"bigg_id\": \"NADP_c\", \"coefficient\": -1.0}, {\"bigg_id\": \"CARBON_DIOXIDE_c\", \"coefficient\": 1.0}, {\"bigg_id\": \"NADPH_c\", \"coefficient\": 1.0}, {\"bigg_id\": \"RIBULOSE_5P_c\", \"coefficient\": 1.0}]}}, \"nodes\": {\"0\": {\"node_type\": \"metabolite\", \"x\": 150.0, \"y\": 30.0, \"label_x\": 160.0, \"label_y\": 20.0, \"bigg_id\": \"Glucopyranose_e\", \"name\": \"Glucopyranose_e\", \"node_is_primary\": false}, \"1\": {\"node_type\": \"metabolite\", \"x\": 300.0, \"y\": 30.0, \"label_x\": 310.0, \"label_y\": 20.0, \"bigg_id\": \"PHOSPHO_ENOL_PYRUVATE_c\", \"name\": \"PHOSPHO_ENOL_PYRUVATE_c\", \"node_is_primary\": false}, \"2\": {\"node_type\": \"metabolite\", \"x\": 150.0, \"y\": 550.0, \"label_x\": 160.0, \"label_y\": 580.0, \"bigg_id\": \"D_glucopyranose_6_phosphate_c\", \"name\": \"D_glucopyranose_6_phosphate_c\", \"node_is_primary\": false}, \"3\": {\"node_type\": \"metabolite\", \"x\": 300.0, \"y\": 550.0, \"label_x\": 310.0, \"label_y\": 580.0, \"bigg_id\": \"PYRUVATE_c\", \"name\": \"PYRUVATE_c\", \"node_is_primary\": false}, \"4\": {\"node_type\": \"multimarker\", \"x\": 225.0, \"y\": 305.0}, \"5\": {\"node_type\": \"midmarker\", \"x\": 225.0, \"y\": 325.0}, \"6\": {\"node_type\": \"multimarker\", \"x\": 225.0, \"y\": 345.0}, \"7\": {\"node_type\": \"metabolite\", \"x\": 300.0, \"y\": 680.0, \"label_x\": 310.0, \"label_y\": 670.0, \"bigg_id\": \"NADP_c\", \"name\": \"NADP_c\", \"node_is_primary\": false}, \"8\": {\"node_type\": \"metabolite\", \"x\": 112.5, \"y\": 1200.0, \"label_x\": 122.5, \"label_y\": 1230.0, \"bigg_id\": \"D_6_P_GLUCONO_DELTA_LACTONE_c\", \"name\": \"D_6_P_GLUCONO_DELTA_LACTONE_c\", \"node_is_primary\": false}, \"9\": {\"node_type\": \"metabolite\", \"x\": 225.0, \"y\": 1200.0, \"label_x\": 235.0, \"label_y\": 1230.0, \"bigg_id\": \"NADPH_c\", \"name\": \"NADPH_c\", \"node_is_primary\": false}, \"10\": {\"node_type\": \"metabolite\", \"x\": 337.5, \"y\": 1200.0, \"label_x\": 347.5, \"label_y\": 1230.0, \"bigg_id\": \"PROTON_c\", \"name\": \"PROTON_c\", \"node_is_primary\": false}, \"11\": {\"node_type\": \"multimarker\", \"x\": 225.0, \"y\": 955.0}, \"12\": {\"node_type\": \"midmarker\", \"x\": 225.0, \"y\": 975.0}, \"13\": {\"node_type\": \"multimarker\", \"x\": 225.0, \"y\": 995.0}, \"14\": {\"node_type\": \"metabolite\", \"x\": 150.0, \"y\": 1330.0, \"label_x\": 160.0, \"label_y\": 1320.0, \"bigg_id\": \"CPD_15815_c\", \"name\": \"CPD_15815_c\", \"node_is_primary\": false}, \"15\": {\"node_type\": \"metabolite\", \"x\": 150.0, \"y\": 1850.0, \"label_x\": 160.0, \"label_y\": 1880.0, \"bigg_id\": \"CPD_2961_c\", \"name\": \"CPD_2961_c\", \"node_is_primary\": false}, \"16\": {\"node_type\": \"metabolite\", \"x\": 300.0, \"y\": 1850.0, \"label_x\": 310.0, \"label_y\": 1880.0, \"bigg_id\": \"PROTON_c\", \"name\": \"PROTON_c\", \"node_is_primary\": false}, \"17\": {\"node_type\": \"multimarker\", \"x\": 225.0, \"y\": 1605.0}, \"18\": {\"node_type\": \"midmarker\", \"x\": 225.0, \"y\": 1625.0}, \"19\": {\"node_type\": \"multimarker\", \"x\": 225.0, \"y\": 1645.0}, \"20\": {\"node_type\": \"metabolite\", \"x\": 300.0, \"y\": 1980.0, \"label_x\": 310.0, \"label_y\": 1970.0, \"bigg_id\": \"NADP_c\", \"name\": \"NADP_c\", \"node_is_primary\": false}, \"21\": {\"node_type\": \"metabolite\", \"x\": 112.5, \"y\": 2500.0, \"label_x\": 122.5, \"label_y\": 2530.0, \"bigg_id\": \"CARBON_DIOXIDE_c\", \"name\": \"CARBON_DIOXIDE_c\", \"node_is_primary\": false}, \"22\": {\"node_type\": \"metabolite\", \"x\": 225.0, \"y\": 2500.0, \"label_x\": 235.0, \"label_y\": 2530.0, \"bigg_id\": \"NADPH_c\", \"name\": \"NADPH_c\", \"node_is_primary\": false}, \"23\": {\"node_type\": \"metabolite\", \"x\": 337.5, \"y\": 2500.0, \"label_x\": 347.5, \"label_y\": 2530.0, \"bigg_id\": \"RIBULOSE_5P_c\", \"name\": \"RIBULOSE_5P_c\", \"node_is_primary\": false}, \"24\": {\"node_type\": \"multimarker\", \"x\": 225.0, \"y\": 2255.0}, \"25\": {\"node_type\": \"midmarker\", \"x\": 225.0, \"y\": 2275.0}, \"26\": {\"node_type\": \"multimarker\", \"x\": 225.0, \"y\": 2295.0}}, \"text_labels\": {}, \"canvas\": {\"x\": 0, \"y\": 0, \"width\": 450, \"height\": 2600}}]",
       "_loaded_model_json": null,
       "allow_building_duplicate_reactions": false,
       "and_method_in_gene_reaction_rule": "mean",
       "canvas_size_and_loc": null,
       "cofactors": [
        "atp",
        "adp",
        "nad",
        "nadh",
        "nadp",
        "nadph",
        "gtp",
        "gdp",
        "h",
        "coa",
        "ump",
        "h2o",
        "ppi"
       ],
       "disabled_buttons": [
        "Clear gene data",
        "Clear metabolite data"
       ],
       "embedded_css": null,
       "enable_editing": true,
       "enable_keys": false,
       "enable_keys_with_tooltip": true,
       "enable_search": true,
       "enable_tooltips": false,
       "full_screen_button": {
        "enable_editing": true,
        "enable_keys": true,
        "enable_tooltips": [
         "label"
        ],
        "menu": "all",
        "scroll_behavior": "pan"
       },
       "gene_data": null,
       "gene_font_size": 18,
       "height": 500,
       "hide_all_labels": false,
       "hide_secondary_metabolites": false,
       "highlight_missing": false,
       "identifiers_on_map": "bigg_id",
       "layout": "IPY_MODEL_9248aed5b29a4efeb01001134ea5bbaa",
       "marker_radius": 5,
       "menu": "all",
       "metabolite_compare_style": "log2_fold",
       "metabolite_data": null,
       "metabolite_no_data_color": "#ffffff",
       "metabolite_no_data_size": 10,
       "metabolite_scale": [
        {
         "color": "#fffaf0",
         "size": 20,
         "type": "min"
        },
        {
         "color": "#f1c470",
         "size": 30,
         "type": "median"
        },
        {
         "color": "#800000",
         "size": 40,
         "type": "max"
        }
       ],
       "metabolite_scale_preset": "WhYlRd",
       "metabolite_styles": [
        "color",
        "size",
        "text"
       ],
       "never_ask_before_quit": true,
       "primary_metabolite_radius": 20,
       "reaction_compare_style": "log2_fold",
       "reaction_data": {
        "G6PDH2r": -2,
        "GLCpts": -2,
        "GND": 1,
        "Other": 1000,
        "PGL": 0.4
       },
       "reaction_no_data_color": "#dcdcdc",
       "reaction_no_data_size": 8,
       "reaction_scale": [
        {
         "color": "rgb(191,215,230)",
         "type": "value",
         "value": 0.4
        },
        {
         "color": "rgb(163,210,240)",
         "type": "value",
         "value": 1
        },
        {
         "color": "rgb(135,205,250)",
         "type": "value",
         "value": 1000
        },
        {
         "color": "rgb(220,220,220)",
         "type": "value",
         "value": 0
        },
        {
         "color": "rgb(237,192,110)",
         "type": "value",
         "value": -2
        },
        {
         "color": "rgb(255,165,0)",
         "type": "value",
         "value": -2
        }
       ],
       "reaction_scale_preset": null,
       "reaction_styles": [
        "color",
        "text"
       ],
       "scroll_behavior": "none",
       "secondary_metabolite_radius": 10,
       "semantic_zoom": null,
       "show_gene_reaction_rules": false,
       "starting_reaction": null,
       "use_3d_transform": false,
       "zoom_to_element": null
      }
     },
     "0f72df7055df43a7ac551850fc87aa17": {
      "model_module": "@jupyter-widgets/base",
      "model_module_version": "1.2.0",
      "model_name": "LayoutModel",
      "state": {}
     },
     "127fc501282c40a1857d7c6f6f542516": {
      "model_module": "@jupyter-widgets/base",
      "model_module_version": "1.2.0",
      "model_name": "LayoutModel",
      "state": {}
     },
     "12eadf78e1cd4e039719864b3f5aa54a": {
      "model_module": "@jupyter-widgets/base",
      "model_module_version": "1.2.0",
      "model_name": "LayoutModel",
      "state": {}
     },
     "1a8715d9036e4f5794f4e6613577890f": {
      "model_module": "escher",
      "model_module_version": "1.7.3",
      "model_name": "EscherMapModel",
      "state": {
       "_loaded_map_json": "[{\"map_name\": \"\", \"map_id\": \"\", \"map_description\": \"\", \"homepage\": \"\", \"schema\": \"https://escher.github.io/escher/jsonschema/1-0-0#\"}, {\"reactions\": {\"0\": {\"name\": \"GLCpts\", \"bigg_id\": \"GLCpts\", \"reversibility\": true, \"label_x\": 265.0, \"label_y\": 325.0, \"gene_reaction_rule\": \"\", \"genes\": [], \"segments\": {\"0\": {\"from_node_id\": \"4\", \"to_node_id\": \"5\", \"b1\": null, \"b2\": null}, \"1\": {\"from_node_id\": \"6\", \"to_node_id\": \"5\", \"b1\": null, \"b2\": null}, \"2\": {\"from_node_id\": \"0\", \"to_node_id\": \"4\", \"b1\": null, \"b2\": null}, \"3\": {\"from_node_id\": \"1\", \"to_node_id\": \"4\", \"b1\": null, \"b2\": null}, \"4\": {\"from_node_id\": \"2\", \"to_node_id\": \"6\", \"b1\": null, \"b2\": null}, \"5\": {\"from_node_id\": \"3\", \"to_node_id\": \"6\", \"b1\": null, \"b2\": null}}, \"metabolites\": [{\"bigg_id\": \"Glucopyranose_e\", \"coefficient\": -1.0}, {\"bigg_id\": \"PHOSPHO_ENOL_PYRUVATE_c\", \"coefficient\": -1.0}, {\"bigg_id\": \"D_glucopyranose_6_phosphate_c\", \"coefficient\": 1.0}, {\"bigg_id\": \"PYRUVATE_c\", \"coefficient\": 1.0}]}, \"1\": {\"name\": \"G6PDH2r\", \"bigg_id\": \"G6PDH2r\", \"reversibility\": true, \"label_x\": 265.0, \"label_y\": 975.0, \"gene_reaction_rule\": \"\", \"genes\": [], \"segments\": {\"6\": {\"from_node_id\": \"11\", \"to_node_id\": \"12\", \"b1\": null, \"b2\": null}, \"7\": {\"from_node_id\": \"13\", \"to_node_id\": \"12\", \"b1\": null, \"b2\": null}, \"8\": {\"from_node_id\": \"2\", \"to_node_id\": \"11\", \"b1\": null, \"b2\": null}, \"9\": {\"from_node_id\": \"7\", \"to_node_id\": \"11\", \"b1\": null, \"b2\": null}, \"10\": {\"from_node_id\": \"8\", \"to_node_id\": \"13\", \"b1\": null, \"b2\": null}, \"11\": {\"from_node_id\": \"9\", \"to_node_id\": \"13\", \"b1\": null, \"b2\": null}, \"12\": {\"from_node_id\": \"10\", \"to_node_id\": \"13\", \"b1\": null, \"b2\": null}}, \"metabolites\": [{\"bigg_id\": \"D_glucopyranose_6_phosphate_c\", \"coefficient\": -1.0}, {\"bigg_id\": \"NADP_c\", \"coefficient\": -1.0}, {\"bigg_id\": \"D_6_P_GLUCONO_DELTA_LACTONE_c\", \"coefficient\": 1.0}, {\"bigg_id\": \"NADPH_c\", \"coefficient\": 1.0}, {\"bigg_id\": \"PROTON_c\", \"coefficient\": 1.0}]}, \"2\": {\"name\": \"PGL\", \"bigg_id\": \"PGL\", \"reversibility\": true, \"label_x\": 265.0, \"label_y\": 1625.0, \"gene_reaction_rule\": \"\", \"genes\": [], \"segments\": {\"13\": {\"from_node_id\": \"17\", \"to_node_id\": \"18\", \"b1\": null, \"b2\": null}, \"14\": {\"from_node_id\": \"19\", \"to_node_id\": \"18\", \"b1\": null, \"b2\": null}, \"15\": {\"from_node_id\": \"14\", \"to_node_id\": \"17\", \"b1\": null, \"b2\": null}, \"16\": {\"from_node_id\": \"8\", \"to_node_id\": \"17\", \"b1\": null, \"b2\": null}, \"17\": {\"from_node_id\": \"15\", \"to_node_id\": \"19\", \"b1\": null, \"b2\": null}, \"18\": {\"from_node_id\": \"16\", \"to_node_id\": \"19\", \"b1\": null, \"b2\": null}}, \"metabolites\": [{\"bigg_id\": \"CPD_15815_c\", \"coefficient\": -1.0}, {\"bigg_id\": \"D_6_P_GLUCONO_DELTA_LACTONE_c\", \"coefficient\": -1.0}, {\"bigg_id\": \"CPD_2961_c\", \"coefficient\": 1.0}, {\"bigg_id\": \"PROTON_c\", \"coefficient\": 1.0}]}, \"3\": {\"name\": \"GND\", \"bigg_id\": \"GND\", \"reversibility\": true, \"label_x\": 265.0, \"label_y\": 2275.0, \"gene_reaction_rule\": \"\", \"genes\": [], \"segments\": {\"19\": {\"from_node_id\": \"24\", \"to_node_id\": \"25\", \"b1\": null, \"b2\": null}, \"20\": {\"from_node_id\": \"26\", \"to_node_id\": \"25\", \"b1\": null, \"b2\": null}, \"21\": {\"from_node_id\": \"15\", \"to_node_id\": \"24\", \"b1\": null, \"b2\": null}, \"22\": {\"from_node_id\": \"20\", \"to_node_id\": \"24\", \"b1\": null, \"b2\": null}, \"23\": {\"from_node_id\": \"21\", \"to_node_id\": \"26\", \"b1\": null, \"b2\": null}, \"24\": {\"from_node_id\": \"22\", \"to_node_id\": \"26\", \"b1\": null, \"b2\": null}, \"25\": {\"from_node_id\": \"23\", \"to_node_id\": \"26\", \"b1\": null, \"b2\": null}}, \"metabolites\": [{\"bigg_id\": \"CPD_2961_c\", \"coefficient\": -1.0}, {\"bigg_id\": \"NADP_c\", \"coefficient\": -1.0}, {\"bigg_id\": \"CARBON_DIOXIDE_c\", \"coefficient\": 1.0}, {\"bigg_id\": \"NADPH_c\", \"coefficient\": 1.0}, {\"bigg_id\": \"RIBULOSE_5P_c\", \"coefficient\": 1.0}]}}, \"nodes\": {\"0\": {\"node_type\": \"metabolite\", \"x\": 150.0, \"y\": 30.0, \"label_x\": 160.0, \"label_y\": 20.0, \"bigg_id\": \"Glucopyranose_e\", \"name\": \"Glucopyranose_e\", \"node_is_primary\": false}, \"1\": {\"node_type\": \"metabolite\", \"x\": 300.0, \"y\": 30.0, \"label_x\": 310.0, \"label_y\": 20.0, \"bigg_id\": \"PHOSPHO_ENOL_PYRUVATE_c\", \"name\": \"PHOSPHO_ENOL_PYRUVATE_c\", \"node_is_primary\": false}, \"2\": {\"node_type\": \"metabolite\", \"x\": 150.0, \"y\": 550.0, \"label_x\": 160.0, \"label_y\": 580.0, \"bigg_id\": \"D_glucopyranose_6_phosphate_c\", \"name\": \"D_glucopyranose_6_phosphate_c\", \"node_is_primary\": false}, \"3\": {\"node_type\": \"metabolite\", \"x\": 300.0, \"y\": 550.0, \"label_x\": 310.0, \"label_y\": 580.0, \"bigg_id\": \"PYRUVATE_c\", \"name\": \"PYRUVATE_c\", \"node_is_primary\": false}, \"4\": {\"node_type\": \"multimarker\", \"x\": 225.0, \"y\": 305.0}, \"5\": {\"node_type\": \"midmarker\", \"x\": 225.0, \"y\": 325.0}, \"6\": {\"node_type\": \"multimarker\", \"x\": 225.0, \"y\": 345.0}, \"7\": {\"node_type\": \"metabolite\", \"x\": 300.0, \"y\": 680.0, \"label_x\": 310.0, \"label_y\": 670.0, \"bigg_id\": \"NADP_c\", \"name\": \"NADP_c\", \"node_is_primary\": false}, \"8\": {\"node_type\": \"metabolite\", \"x\": 112.5, \"y\": 1200.0, \"label_x\": 122.5, \"label_y\": 1230.0, \"bigg_id\": \"D_6_P_GLUCONO_DELTA_LACTONE_c\", \"name\": \"D_6_P_GLUCONO_DELTA_LACTONE_c\", \"node_is_primary\": false}, \"9\": {\"node_type\": \"metabolite\", \"x\": 225.0, \"y\": 1200.0, \"label_x\": 235.0, \"label_y\": 1230.0, \"bigg_id\": \"NADPH_c\", \"name\": \"NADPH_c\", \"node_is_primary\": false}, \"10\": {\"node_type\": \"metabolite\", \"x\": 337.5, \"y\": 1200.0, \"label_x\": 347.5, \"label_y\": 1230.0, \"bigg_id\": \"PROTON_c\", \"name\": \"PROTON_c\", \"node_is_primary\": false}, \"11\": {\"node_type\": \"multimarker\", \"x\": 225.0, \"y\": 955.0}, \"12\": {\"node_type\": \"midmarker\", \"x\": 225.0, \"y\": 975.0}, \"13\": {\"node_type\": \"multimarker\", \"x\": 225.0, \"y\": 995.0}, \"14\": {\"node_type\": \"metabolite\", \"x\": 150.0, \"y\": 1330.0, \"label_x\": 160.0, \"label_y\": 1320.0, \"bigg_id\": \"CPD_15815_c\", \"name\": \"CPD_15815_c\", \"node_is_primary\": false}, \"15\": {\"node_type\": \"metabolite\", \"x\": 150.0, \"y\": 1850.0, \"label_x\": 160.0, \"label_y\": 1880.0, \"bigg_id\": \"CPD_2961_c\", \"name\": \"CPD_2961_c\", \"node_is_primary\": false}, \"16\": {\"node_type\": \"metabolite\", \"x\": 300.0, \"y\": 1850.0, \"label_x\": 310.0, \"label_y\": 1880.0, \"bigg_id\": \"PROTON_c\", \"name\": \"PROTON_c\", \"node_is_primary\": false}, \"17\": {\"node_type\": \"multimarker\", \"x\": 225.0, \"y\": 1605.0}, \"18\": {\"node_type\": \"midmarker\", \"x\": 225.0, \"y\": 1625.0}, \"19\": {\"node_type\": \"multimarker\", \"x\": 225.0, \"y\": 1645.0}, \"20\": {\"node_type\": \"metabolite\", \"x\": 300.0, \"y\": 1980.0, \"label_x\": 310.0, \"label_y\": 1970.0, \"bigg_id\": \"NADP_c\", \"name\": \"NADP_c\", \"node_is_primary\": false}, \"21\": {\"node_type\": \"metabolite\", \"x\": 112.5, \"y\": 2500.0, \"label_x\": 122.5, \"label_y\": 2530.0, \"bigg_id\": \"CARBON_DIOXIDE_c\", \"name\": \"CARBON_DIOXIDE_c\", \"node_is_primary\": false}, \"22\": {\"node_type\": \"metabolite\", \"x\": 225.0, \"y\": 2500.0, \"label_x\": 235.0, \"label_y\": 2530.0, \"bigg_id\": \"NADPH_c\", \"name\": \"NADPH_c\", \"node_is_primary\": false}, \"23\": {\"node_type\": \"metabolite\", \"x\": 337.5, \"y\": 2500.0, \"label_x\": 347.5, \"label_y\": 2530.0, \"bigg_id\": \"RIBULOSE_5P_c\", \"name\": \"RIBULOSE_5P_c\", \"node_is_primary\": false}, \"24\": {\"node_type\": \"multimarker\", \"x\": 225.0, \"y\": 2255.0}, \"25\": {\"node_type\": \"midmarker\", \"x\": 225.0, \"y\": 2275.0}, \"26\": {\"node_type\": \"multimarker\", \"x\": 225.0, \"y\": 2295.0}}, \"text_labels\": {}, \"canvas\": {\"x\": 0, \"y\": 0, \"width\": 450, \"height\": 2600}}]",
       "_loaded_model_json": null,
       "allow_building_duplicate_reactions": false,
       "and_method_in_gene_reaction_rule": "mean",
       "canvas_size_and_loc": null,
       "cofactors": [
        "atp",
        "adp",
        "nad",
        "nadh",
        "nadp",
        "nadph",
        "gtp",
        "gdp",
        "h",
        "coa",
        "ump",
        "h2o",
        "ppi"
       ],
       "disabled_buttons": [
        "Clear gene data",
        "Clear metabolite data"
       ],
       "embedded_css": null,
       "enable_editing": true,
       "enable_keys": false,
       "enable_keys_with_tooltip": true,
       "enable_search": true,
       "enable_tooltips": false,
       "full_screen_button": {
        "enable_editing": true,
        "enable_keys": true,
        "enable_tooltips": [
         "label"
        ],
        "menu": "all",
        "scroll_behavior": "pan"
       },
       "gene_data": null,
       "gene_font_size": 18,
       "height": 500,
       "hide_all_labels": false,
       "hide_secondary_metabolites": false,
       "highlight_missing": false,
       "identifiers_on_map": "bigg_id",
       "layout": "IPY_MODEL_9b10cc091cdf41e99650f52c54c29fef",
       "marker_radius": 5,
       "menu": "all",
       "metabolite_compare_style": "log2_fold",
       "metabolite_data": null,
       "metabolite_no_data_color": "#ffffff",
       "metabolite_no_data_size": 10,
       "metabolite_scale": [
        {
         "color": "#fffaf0",
         "size": 20,
         "type": "min"
        },
        {
         "color": "#f1c470",
         "size": 30,
         "type": "median"
        },
        {
         "color": "#800000",
         "size": 40,
         "type": "max"
        }
       ],
       "metabolite_scale_preset": "WhYlRd",
       "metabolite_styles": [
        "color",
        "size",
        "text"
       ],
       "never_ask_before_quit": true,
       "primary_metabolite_radius": 20,
       "reaction_compare_style": "log2_fold",
       "reaction_data": {
        "G6PDH2r": -2,
        "GLCpts": -2,
        "GND": 1,
        "PGL": 0.4
       },
       "reaction_no_data_color": "#dcdcdc",
       "reaction_no_data_size": 8,
       "reaction_scale": [
        {
         "color": "rgb(220,220,220)",
         "type": "value",
         "value": 0.5
        },
        {
         "color": "rgb(220,220,220)",
         "type": "value",
         "value": 1
        },
        {
         "color": "rgb(220,220,220)",
         "type": "value",
         "value": 0
        },
        {
         "color": "rgb(220,220,220)",
         "type": "value",
         "value": -1
        },
        {
         "color": "rgb(220,220,220)",
         "type": "value",
         "value": -2
        }
       ],
       "reaction_scale_preset": null,
       "reaction_styles": [
        "color",
        "text"
       ],
       "scroll_behavior": "none",
       "secondary_metabolite_radius": 10,
       "semantic_zoom": null,
       "show_gene_reaction_rules": false,
       "starting_reaction": null,
       "use_3d_transform": false,
       "zoom_to_element": null
      }
     },
     "1bcff55cd87045efb614314c8fec4461": {
      "model_module": "@jupyter-widgets/base",
      "model_module_version": "1.2.0",
      "model_name": "LayoutModel",
      "state": {}
     },
     "1f68aee5ae38499a8ee9d2ba5123cfc6": {
      "model_module": "@jupyter-widgets/base",
      "model_module_version": "1.2.0",
      "model_name": "LayoutModel",
      "state": {}
     },
     "20e8114d39d14d939cf924a0ebfa6916": {
      "model_module": "@jupyter-widgets/base",
      "model_module_version": "1.2.0",
      "model_name": "LayoutModel",
      "state": {}
     },
     "2101b0e0b6284065af80e094cb432ee1": {
      "model_module": "@jupyter-widgets/base",
      "model_module_version": "1.2.0",
      "model_name": "LayoutModel",
      "state": {}
     },
     "24530ebcf0ae4ceb93f74332ac62d57f": {
      "model_module": "@jupyter-widgets/base",
      "model_module_version": "1.2.0",
      "model_name": "LayoutModel",
      "state": {}
     },
     "27f718bc4a6641afa40bb5375d99ab34": {
      "model_module": "escher",
      "model_module_version": "1.7.3",
      "model_name": "EscherMapModel",
      "state": {
       "_loaded_map_json": "[{\"map_name\": \"\", \"map_id\": \"\", \"map_description\": \"\", \"homepage\": \"\", \"schema\": \"https://escher.github.io/escher/jsonschema/1-0-0#\"}, {\"reactions\": {\"0\": {\"name\": \"GLCpts\", \"bigg_id\": \"GLCpts\", \"reversibility\": true, \"label_x\": 271.0, \"label_y\": 45.0, \"gene_reaction_rule\": \"\", \"genes\": [], \"segments\": {\"0\": {\"from_node_id\": \"4\", \"to_node_id\": \"5\", \"b1\": null, \"b2\": null}, \"1\": {\"from_node_id\": \"6\", \"to_node_id\": \"5\", \"b1\": null, \"b2\": null}, \"2\": {\"from_node_id\": \"0\", \"to_node_id\": \"4\", \"b1\": null, \"b2\": null}, \"3\": {\"from_node_id\": \"1\", \"to_node_id\": \"4\", \"b1\": null, \"b2\": null}, \"4\": {\"from_node_id\": \"2\", \"to_node_id\": \"6\", \"b1\": null, \"b2\": null}, \"5\": {\"from_node_id\": \"3\", \"to_node_id\": \"6\", \"b1\": null, \"b2\": null}}, \"metabolites\": [{\"bigg_id\": \"Glucopyranose_e\", \"coefficient\": -1.0}, {\"bigg_id\": \"PHOSPHO_ENOL_PYRUVATE_c\", \"coefficient\": -1.0}, {\"bigg_id\": \"D_glucopyranose_6_phosphate_c\", \"coefficient\": 1.0}, {\"bigg_id\": \"PYRUVATE_c\", \"coefficient\": 1.0}]}, \"1\": {\"name\": \"G6PDH2r\", \"bigg_id\": \"G6PDH2r\", \"reversibility\": true, \"label_x\": 912.0, \"label_y\": 45.0, \"gene_reaction_rule\": \"\", \"genes\": [], \"segments\": {\"6\": {\"from_node_id\": \"11\", \"to_node_id\": \"12\", \"b1\": null, \"b2\": null}, \"7\": {\"from_node_id\": \"13\", \"to_node_id\": \"12\", \"b1\": null, \"b2\": null}, \"8\": {\"from_node_id\": \"2\", \"to_node_id\": \"11\", \"b1\": null, \"b2\": null}, \"9\": {\"from_node_id\": \"7\", \"to_node_id\": \"11\", \"b1\": null, \"b2\": null}, \"10\": {\"from_node_id\": \"8\", \"to_node_id\": \"13\", \"b1\": null, \"b2\": null}, \"11\": {\"from_node_id\": \"9\", \"to_node_id\": \"13\", \"b1\": null, \"b2\": null}, \"12\": {\"from_node_id\": \"10\", \"to_node_id\": \"13\", \"b1\": null, \"b2\": null}}, \"metabolites\": [{\"bigg_id\": \"D_glucopyranose_6_phosphate_c\", \"coefficient\": -1.0}, {\"bigg_id\": \"NADP_c\", \"coefficient\": -1.0}, {\"bigg_id\": \"D_6_P_GLUCONO_DELTA_LACTONE_c\", \"coefficient\": 1.0}, {\"bigg_id\": \"NADPH_c\", \"coefficient\": 1.0}, {\"bigg_id\": \"PROTON_c\", \"coefficient\": 1.0}]}, \"2\": {\"name\": \"PGL\", \"bigg_id\": \"PGL\", \"reversibility\": true, \"label_x\": 1598.0, \"label_y\": 45.0, \"gene_reaction_rule\": \"\", \"genes\": [], \"segments\": {\"13\": {\"from_node_id\": \"17\", \"to_node_id\": \"18\", \"b1\": null, \"b2\": null}, \"14\": {\"from_node_id\": \"19\", \"to_node_id\": \"18\", \"b1\": null, \"b2\": null}, \"15\": {\"from_node_id\": \"14\", \"to_node_id\": \"17\", \"b1\": null, \"b2\": null}, \"16\": {\"from_node_id\": \"8\", \"to_node_id\": \"17\", \"b1\": null, \"b2\": null}, \"17\": {\"from_node_id\": \"15\", \"to_node_id\": \"19\", \"b1\": null, \"b2\": null}, \"18\": {\"from_node_id\": \"16\", \"to_node_id\": \"19\", \"b1\": null, \"b2\": null}}, \"metabolites\": [{\"bigg_id\": \"CPD_15815_c\", \"coefficient\": -1.0}, {\"bigg_id\": \"D_6_P_GLUCONO_DELTA_LACTONE_c\", \"coefficient\": -1.0}, {\"bigg_id\": \"CPD_2961_c\", \"coefficient\": 1.0}, {\"bigg_id\": \"PROTON_c\", \"coefficient\": 1.0}]}, \"3\": {\"name\": \"GND\", \"bigg_id\": \"GND\", \"reversibility\": true, \"label_x\": 2248.0, \"label_y\": 45.0, \"gene_reaction_rule\": \"\", \"genes\": [], \"segments\": {\"19\": {\"from_node_id\": \"24\", \"to_node_id\": \"25\", \"b1\": null, \"b2\": null}, \"20\": {\"from_node_id\": \"26\", \"to_node_id\": \"25\", \"b1\": null, \"b2\": null}, \"21\": {\"from_node_id\": \"15\", \"to_node_id\": \"24\", \"b1\": null, \"b2\": null}, \"22\": {\"from_node_id\": \"20\", \"to_node_id\": \"24\", \"b1\": null, \"b2\": null}, \"23\": {\"from_node_id\": \"21\", \"to_node_id\": \"26\", \"b1\": null, \"b2\": null}, \"24\": {\"from_node_id\": \"22\", \"to_node_id\": \"26\", \"b1\": null, \"b2\": null}, \"25\": {\"from_node_id\": \"23\", \"to_node_id\": \"26\", \"b1\": null, \"b2\": null}}, \"metabolites\": [{\"bigg_id\": \"CPD_2961_c\", \"coefficient\": -1.0}, {\"bigg_id\": \"NADP_c\", \"coefficient\": -1.0}, {\"bigg_id\": \"CARBON_DIOXIDE_c\", \"coefficient\": 1.0}, {\"bigg_id\": \"NADPH_c\", \"coefficient\": 1.0}, {\"bigg_id\": \"RIBULOSE_5P_c\", \"coefficient\": 1.0}]}}, \"nodes\": {\"0\": {\"node_type\": \"metabolite\", \"x\": 30.0, \"y\": 150.0, \"label_x\": 0.0, \"label_y\": 130.0, \"bigg_id\": \"Glucopyranose_e\", \"name\": \"Glucopyranose_e\", \"node_is_primary\": false}, \"1\": {\"node_type\": \"metabolite\", \"x\": 30.0, \"y\": 300.0, \"label_x\": 0.0, \"label_y\": 280.0, \"bigg_id\": \"PHOSPHO_ENOL_PYRUVATE_c\", \"name\": \"PHOSPHO_ENOL_PYRUVATE_c\", \"node_is_primary\": false}, \"2\": {\"node_type\": \"metabolite\", \"x\": 550.0, \"y\": 150.0, \"label_x\": 520.0, \"label_y\": 130.0, \"bigg_id\": \"D_glucopyranose_6_phosphate_c\", \"name\": \"D_glucopyranose_6_phosphate_c\", \"node_is_primary\": false}, \"3\": {\"node_type\": \"metabolite\", \"x\": 550.0, \"y\": 300.0, \"label_x\": 520.0, \"label_y\": 280.0, \"bigg_id\": \"PYRUVATE_c\", \"name\": \"PYRUVATE_c\", \"node_is_primary\": false}, \"4\": {\"node_type\": \"multimarker\", \"x\": 335.0, \"y\": 225.0}, \"5\": {\"node_type\": \"midmarker\", \"x\": 355.0, \"y\": 225.0}, \"6\": {\"node_type\": \"multimarker\", \"x\": 375.0, \"y\": 225.0}, \"7\": {\"node_type\": \"metabolite\", \"x\": 680.0, \"y\": 300.0, \"label_x\": 650.0, \"label_y\": 280.0, \"bigg_id\": \"NADP_c\", \"name\": \"NADP_c\", \"node_is_primary\": false}, \"8\": {\"node_type\": \"metabolite\", \"x\": 1200.0, \"y\": 112.5, \"label_x\": 1170.0, \"label_y\": 92.5, \"bigg_id\": \"D_6_P_GLUCONO_DELTA_LACTONE_c\", \"name\": \"D_6_P_GLUCONO_DELTA_LACTONE_c\", \"node_is_primary\": false}, \"9\": {\"node_type\": \"metabolite\", \"x\": 1200.0, \"y\": 225.0, \"label_x\": 1170.0, \"label_y\": 205.0, \"bigg_id\": \"NADPH_c\", \"name\": \"NADPH_c\", \"node_is_primary\": false}, \"10\": {\"node_type\": \"metabolite\", \"x\": 1200.0, \"y\": 337.5, \"label_x\": 1170.0, \"label_y\": 317.5, \"bigg_id\": \"PROTON_c\", \"name\": \"PROTON_c\", \"node_is_primary\": false}, \"11\": {\"node_type\": \"multimarker\", \"x\": 985.0, \"y\": 225.0}, \"12\": {\"node_type\": \"midmarker\", \"x\": 1005.0, \"y\": 225.0}, \"13\": {\"node_type\": \"multimarker\", \"x\": 1025.0, \"y\": 225.0}, \"14\": {\"node_type\": \"metabolite\", \"x\": 1330.0, \"y\": 150.0, \"label_x\": 1300.0, \"label_y\": 130.0, \"bigg_id\": \"CPD_15815_c\", \"name\": \"CPD_15815_c\", \"node_is_primary\": false}, \"15\": {\"node_type\": \"metabolite\", \"x\": 1850.0, \"y\": 150.0, \"label_x\": 1820.0, \"label_y\": 130.0, \"bigg_id\": \"CPD_2961_c\", \"name\": \"CPD_2961_c\", \"node_is_primary\": false}, \"16\": {\"node_type\": \"metabolite\", \"x\": 1850.0, \"y\": 300.0, \"label_x\": 1820.0, \"label_y\": 280.0, \"bigg_id\": \"PROTON_c\", \"name\": \"PROTON_c\", \"node_is_primary\": false}, \"17\": {\"node_type\": \"multimarker\", \"x\": 1635.0, \"y\": 225.0}, \"18\": {\"node_type\": \"midmarker\", \"x\": 1655.0, \"y\": 225.0}, \"19\": {\"node_type\": \"multimarker\", \"x\": 1675.0, \"y\": 225.0}, \"20\": {\"node_type\": \"metabolite\", \"x\": 1980.0, \"y\": 300.0, \"label_x\": 1950.0, \"label_y\": 280.0, \"bigg_id\": \"NADP_c\", \"name\": \"NADP_c\", \"node_is_primary\": false}, \"21\": {\"node_type\": \"metabolite\", \"x\": 2500.0, \"y\": 112.5, \"label_x\": 2470.0, \"label_y\": 92.5, \"bigg_id\": \"CARBON_DIOXIDE_c\", \"name\": \"CARBON_DIOXIDE_c\", \"node_is_primary\": false}, \"22\": {\"node_type\": \"metabolite\", \"x\": 2500.0, \"y\": 225.0, \"label_x\": 2470.0, \"label_y\": 205.0, \"bigg_id\": \"NADPH_c\", \"name\": \"NADPH_c\", \"node_is_primary\": false}, \"23\": {\"node_type\": \"metabolite\", \"x\": 2500.0, \"y\": 337.5, \"label_x\": 2470.0, \"label_y\": 317.5, \"bigg_id\": \"RIBULOSE_5P_c\", \"name\": \"RIBULOSE_5P_c\", \"node_is_primary\": false}, \"24\": {\"node_type\": \"multimarker\", \"x\": 2285.0, \"y\": 225.0}, \"25\": {\"node_type\": \"midmarker\", \"x\": 2305.0, \"y\": 225.0}, \"26\": {\"node_type\": \"multimarker\", \"x\": 2325.0, \"y\": 225.0}}, \"text_labels\": {}, \"canvas\": {\"x\": 0, \"y\": 0, \"width\": 2600, \"height\": 450}}]",
       "_loaded_model_json": null,
       "allow_building_duplicate_reactions": false,
       "and_method_in_gene_reaction_rule": "mean",
       "canvas_size_and_loc": null,
       "cofactors": [
        "atp",
        "adp",
        "nad",
        "nadh",
        "nadp",
        "nadph",
        "gtp",
        "gdp",
        "h",
        "coa",
        "ump",
        "h2o",
        "ppi"
       ],
       "disabled_buttons": [
        "Clear reaction data",
        "Clear gene data",
        "Clear metabolite data"
       ],
       "embedded_css": null,
       "enable_editing": true,
       "enable_keys": false,
       "enable_keys_with_tooltip": true,
       "enable_search": true,
       "enable_tooltips": false,
       "full_screen_button": {
        "enable_editing": true,
        "enable_keys": true,
        "enable_tooltips": [
         "label"
        ],
        "menu": "all",
        "scroll_behavior": "pan"
       },
       "gene_data": null,
       "gene_font_size": 18,
       "height": 500,
       "hide_all_labels": false,
       "hide_secondary_metabolites": false,
       "highlight_missing": false,
       "identifiers_on_map": "bigg_id",
       "layout": "IPY_MODEL_775ea259728042abbccdf1af6e7965b8",
       "marker_radius": 5,
       "menu": "all",
       "metabolite_compare_style": "log2_fold",
       "metabolite_data": null,
       "metabolite_no_data_color": "#ffffff",
       "metabolite_no_data_size": 10,
       "metabolite_scale": [
        {
         "color": "#fffaf0",
         "size": 20,
         "type": "min"
        },
        {
         "color": "#f1c470",
         "size": 30,
         "type": "median"
        },
        {
         "color": "#800000",
         "size": 40,
         "type": "max"
        }
       ],
       "metabolite_scale_preset": "WhYlRd",
       "metabolite_styles": [
        "color",
        "size",
        "text"
       ],
       "never_ask_before_quit": true,
       "primary_metabolite_radius": 20,
       "reaction_compare_style": "log2_fold",
       "reaction_data": null,
       "reaction_no_data_color": "#dcdcdc",
       "reaction_no_data_size": 8,
       "reaction_scale": {},
       "reaction_scale_preset": null,
       "reaction_styles": [
        "color",
        "text"
       ],
       "scroll_behavior": "none",
       "secondary_metabolite_radius": 10,
       "semantic_zoom": null,
       "show_gene_reaction_rules": false,
       "starting_reaction": null,
       "use_3d_transform": false,
       "zoom_to_element": null
      }
     },
     "2c6f3ca395444e8185d94e651e521206": {
      "model_module": "escher",
      "model_module_version": "1.7.3",
      "model_name": "EscherMapModel",
      "state": {
       "_loaded_map_json": "[{\"map_name\": \"\", \"map_id\": \"\", \"map_description\": \"\", \"homepage\": \"\", \"schema\": \"https://escher.github.io/escher/jsonschema/1-0-0#\"}, {\"reactions\": {\"0\": {\"name\": \"GLCpts\", \"bigg_id\": \"GLCpts\", \"reversibility\": true, \"label_x\": 265.0, \"label_y\": 325.0, \"gene_reaction_rule\": \"\", \"genes\": [], \"segments\": {\"0\": {\"from_node_id\": \"4\", \"to_node_id\": \"5\", \"b1\": null, \"b2\": null}, \"1\": {\"from_node_id\": \"6\", \"to_node_id\": \"5\", \"b1\": null, \"b2\": null}, \"2\": {\"from_node_id\": \"0\", \"to_node_id\": \"4\", \"b1\": null, \"b2\": null}, \"3\": {\"from_node_id\": \"1\", \"to_node_id\": \"4\", \"b1\": null, \"b2\": null}, \"4\": {\"from_node_id\": \"2\", \"to_node_id\": \"6\", \"b1\": null, \"b2\": null}, \"5\": {\"from_node_id\": \"3\", \"to_node_id\": \"6\", \"b1\": null, \"b2\": null}}, \"metabolites\": [{\"bigg_id\": \"Glucopyranose_e\", \"coefficient\": -1.0}, {\"bigg_id\": \"PHOSPHO_ENOL_PYRUVATE_c\", \"coefficient\": -1.0}, {\"bigg_id\": \"D_glucopyranose_6_phosphate_c\", \"coefficient\": 1.0}, {\"bigg_id\": \"PYRUVATE_c\", \"coefficient\": 1.0}]}, \"1\": {\"name\": \"G6PDH2r\", \"bigg_id\": \"G6PDH2r\", \"reversibility\": true, \"label_x\": 265.0, \"label_y\": 975.0, \"gene_reaction_rule\": \"\", \"genes\": [], \"segments\": {\"6\": {\"from_node_id\": \"11\", \"to_node_id\": \"12\", \"b1\": null, \"b2\": null}, \"7\": {\"from_node_id\": \"13\", \"to_node_id\": \"12\", \"b1\": null, \"b2\": null}, \"8\": {\"from_node_id\": \"2\", \"to_node_id\": \"11\", \"b1\": null, \"b2\": null}, \"9\": {\"from_node_id\": \"7\", \"to_node_id\": \"11\", \"b1\": null, \"b2\": null}, \"10\": {\"from_node_id\": \"8\", \"to_node_id\": \"13\", \"b1\": null, \"b2\": null}, \"11\": {\"from_node_id\": \"9\", \"to_node_id\": \"13\", \"b1\": null, \"b2\": null}, \"12\": {\"from_node_id\": \"10\", \"to_node_id\": \"13\", \"b1\": null, \"b2\": null}}, \"metabolites\": [{\"bigg_id\": \"D_glucopyranose_6_phosphate_c\", \"coefficient\": -1.0}, {\"bigg_id\": \"NADP_c\", \"coefficient\": -1.0}, {\"bigg_id\": \"D_6_P_GLUCONO_DELTA_LACTONE_c\", \"coefficient\": 1.0}, {\"bigg_id\": \"NADPH_c\", \"coefficient\": 1.0}, {\"bigg_id\": \"PROTON_c\", \"coefficient\": 1.0}]}, \"2\": {\"name\": \"PGL\", \"bigg_id\": \"PGL\", \"reversibility\": true, \"label_x\": 265.0, \"label_y\": 1625.0, \"gene_reaction_rule\": \"\", \"genes\": [], \"segments\": {\"13\": {\"from_node_id\": \"17\", \"to_node_id\": \"18\", \"b1\": null, \"b2\": null}, \"14\": {\"from_node_id\": \"19\", \"to_node_id\": \"18\", \"b1\": null, \"b2\": null}, \"15\": {\"from_node_id\": \"14\", \"to_node_id\": \"17\", \"b1\": null, \"b2\": null}, \"16\": {\"from_node_id\": \"8\", \"to_node_id\": \"17\", \"b1\": null, \"b2\": null}, \"17\": {\"from_node_id\": \"15\", \"to_node_id\": \"19\", \"b1\": null, \"b2\": null}, \"18\": {\"from_node_id\": \"16\", \"to_node_id\": \"19\", \"b1\": null, \"b2\": null}}, \"metabolites\": [{\"bigg_id\": \"CPD_15815_c\", \"coefficient\": -1.0}, {\"bigg_id\": \"D_6_P_GLUCONO_DELTA_LACTONE_c\", \"coefficient\": -1.0}, {\"bigg_id\": \"CPD_2961_c\", \"coefficient\": 1.0}, {\"bigg_id\": \"PROTON_c\", \"coefficient\": 1.0}]}, \"3\": {\"name\": \"GND\", \"bigg_id\": \"GND\", \"reversibility\": true, \"label_x\": 265.0, \"label_y\": 2275.0, \"gene_reaction_rule\": \"\", \"genes\": [], \"segments\": {\"19\": {\"from_node_id\": \"24\", \"to_node_id\": \"25\", \"b1\": null, \"b2\": null}, \"20\": {\"from_node_id\": \"26\", \"to_node_id\": \"25\", \"b1\": null, \"b2\": null}, \"21\": {\"from_node_id\": \"15\", \"to_node_id\": \"24\", \"b1\": null, \"b2\": null}, \"22\": {\"from_node_id\": \"20\", \"to_node_id\": \"24\", \"b1\": null, \"b2\": null}, \"23\": {\"from_node_id\": \"21\", \"to_node_id\": \"26\", \"b1\": null, \"b2\": null}, \"24\": {\"from_node_id\": \"22\", \"to_node_id\": \"26\", \"b1\": null, \"b2\": null}, \"25\": {\"from_node_id\": \"23\", \"to_node_id\": \"26\", \"b1\": null, \"b2\": null}}, \"metabolites\": [{\"bigg_id\": \"CPD_2961_c\", \"coefficient\": -1.0}, {\"bigg_id\": \"NADP_c\", \"coefficient\": -1.0}, {\"bigg_id\": \"CARBON_DIOXIDE_c\", \"coefficient\": 1.0}, {\"bigg_id\": \"NADPH_c\", \"coefficient\": 1.0}, {\"bigg_id\": \"RIBULOSE_5P_c\", \"coefficient\": 1.0}]}}, \"nodes\": {\"0\": {\"node_type\": \"metabolite\", \"x\": 150.0, \"y\": 30.0, \"label_x\": 160.0, \"label_y\": 20.0, \"bigg_id\": \"Glucopyranose_e\", \"name\": \"Glucopyranose_e\", \"node_is_primary\": false}, \"1\": {\"node_type\": \"metabolite\", \"x\": 300.0, \"y\": 30.0, \"label_x\": 310.0, \"label_y\": 20.0, \"bigg_id\": \"PHOSPHO_ENOL_PYRUVATE_c\", \"name\": \"PHOSPHO_ENOL_PYRUVATE_c\", \"node_is_primary\": false}, \"2\": {\"node_type\": \"metabolite\", \"x\": 150.0, \"y\": 550.0, \"label_x\": 160.0, \"label_y\": 580.0, \"bigg_id\": \"D_glucopyranose_6_phosphate_c\", \"name\": \"D_glucopyranose_6_phosphate_c\", \"node_is_primary\": false}, \"3\": {\"node_type\": \"metabolite\", \"x\": 300.0, \"y\": 550.0, \"label_x\": 310.0, \"label_y\": 580.0, \"bigg_id\": \"PYRUVATE_c\", \"name\": \"PYRUVATE_c\", \"node_is_primary\": false}, \"4\": {\"node_type\": \"multimarker\", \"x\": 225.0, \"y\": 305.0}, \"5\": {\"node_type\": \"midmarker\", \"x\": 225.0, \"y\": 325.0}, \"6\": {\"node_type\": \"multimarker\", \"x\": 225.0, \"y\": 345.0}, \"7\": {\"node_type\": \"metabolite\", \"x\": 300.0, \"y\": 680.0, \"label_x\": 310.0, \"label_y\": 670.0, \"bigg_id\": \"NADP_c\", \"name\": \"NADP_c\", \"node_is_primary\": false}, \"8\": {\"node_type\": \"metabolite\", \"x\": 112.5, \"y\": 1200.0, \"label_x\": 122.5, \"label_y\": 1230.0, \"bigg_id\": \"D_6_P_GLUCONO_DELTA_LACTONE_c\", \"name\": \"D_6_P_GLUCONO_DELTA_LACTONE_c\", \"node_is_primary\": false}, \"9\": {\"node_type\": \"metabolite\", \"x\": 225.0, \"y\": 1200.0, \"label_x\": 235.0, \"label_y\": 1230.0, \"bigg_id\": \"NADPH_c\", \"name\": \"NADPH_c\", \"node_is_primary\": false}, \"10\": {\"node_type\": \"metabolite\", \"x\": 337.5, \"y\": 1200.0, \"label_x\": 347.5, \"label_y\": 1230.0, \"bigg_id\": \"PROTON_c\", \"name\": \"PROTON_c\", \"node_is_primary\": false}, \"11\": {\"node_type\": \"multimarker\", \"x\": 225.0, \"y\": 955.0}, \"12\": {\"node_type\": \"midmarker\", \"x\": 225.0, \"y\": 975.0}, \"13\": {\"node_type\": \"multimarker\", \"x\": 225.0, \"y\": 995.0}, \"14\": {\"node_type\": \"metabolite\", \"x\": 150.0, \"y\": 1330.0, \"label_x\": 160.0, \"label_y\": 1320.0, \"bigg_id\": \"CPD_15815_c\", \"name\": \"CPD_15815_c\", \"node_is_primary\": false}, \"15\": {\"node_type\": \"metabolite\", \"x\": 150.0, \"y\": 1850.0, \"label_x\": 160.0, \"label_y\": 1880.0, \"bigg_id\": \"CPD_2961_c\", \"name\": \"CPD_2961_c\", \"node_is_primary\": false}, \"16\": {\"node_type\": \"metabolite\", \"x\": 300.0, \"y\": 1850.0, \"label_x\": 310.0, \"label_y\": 1880.0, \"bigg_id\": \"PROTON_c\", \"name\": \"PROTON_c\", \"node_is_primary\": false}, \"17\": {\"node_type\": \"multimarker\", \"x\": 225.0, \"y\": 1605.0}, \"18\": {\"node_type\": \"midmarker\", \"x\": 225.0, \"y\": 1625.0}, \"19\": {\"node_type\": \"multimarker\", \"x\": 225.0, \"y\": 1645.0}, \"20\": {\"node_type\": \"metabolite\", \"x\": 300.0, \"y\": 1980.0, \"label_x\": 310.0, \"label_y\": 1970.0, \"bigg_id\": \"NADP_c\", \"name\": \"NADP_c\", \"node_is_primary\": false}, \"21\": {\"node_type\": \"metabolite\", \"x\": 112.5, \"y\": 2500.0, \"label_x\": 122.5, \"label_y\": 2530.0, \"bigg_id\": \"CARBON_DIOXIDE_c\", \"name\": \"CARBON_DIOXIDE_c\", \"node_is_primary\": false}, \"22\": {\"node_type\": \"metabolite\", \"x\": 225.0, \"y\": 2500.0, \"label_x\": 235.0, \"label_y\": 2530.0, \"bigg_id\": \"NADPH_c\", \"name\": \"NADPH_c\", \"node_is_primary\": false}, \"23\": {\"node_type\": \"metabolite\", \"x\": 337.5, \"y\": 2500.0, \"label_x\": 347.5, \"label_y\": 2530.0, \"bigg_id\": \"RIBULOSE_5P_c\", \"name\": \"RIBULOSE_5P_c\", \"node_is_primary\": false}, \"24\": {\"node_type\": \"multimarker\", \"x\": 225.0, \"y\": 2255.0}, \"25\": {\"node_type\": \"midmarker\", \"x\": 225.0, \"y\": 2275.0}, \"26\": {\"node_type\": \"multimarker\", \"x\": 225.0, \"y\": 2295.0}}, \"text_labels\": {}, \"canvas\": {\"x\": 0, \"y\": 0, \"width\": 450, \"height\": 2600}}]",
       "_loaded_model_json": null,
       "allow_building_duplicate_reactions": false,
       "and_method_in_gene_reaction_rule": "mean",
       "canvas_size_and_loc": null,
       "cofactors": [
        "atp",
        "adp",
        "nad",
        "nadh",
        "nadp",
        "nadph",
        "gtp",
        "gdp",
        "h",
        "coa",
        "ump",
        "h2o",
        "ppi"
       ],
       "disabled_buttons": [
        "Clear gene data",
        "Clear metabolite data"
       ],
       "embedded_css": null,
       "enable_editing": true,
       "enable_keys": false,
       "enable_keys_with_tooltip": true,
       "enable_search": true,
       "enable_tooltips": false,
       "full_screen_button": {
        "enable_editing": true,
        "enable_keys": true,
        "enable_tooltips": [
         "label"
        ],
        "menu": "all",
        "scroll_behavior": "pan"
       },
       "gene_data": null,
       "gene_font_size": 18,
       "height": 500,
       "hide_all_labels": false,
       "hide_secondary_metabolites": false,
       "highlight_missing": false,
       "identifiers_on_map": "bigg_id",
       "layout": "IPY_MODEL_6b7c7e28793d45f1876f3212ae896e40",
       "marker_radius": 5,
       "menu": "all",
       "metabolite_compare_style": "log2_fold",
       "metabolite_data": null,
       "metabolite_no_data_color": "#ffffff",
       "metabolite_no_data_size": 10,
       "metabolite_scale": [
        {
         "color": "#fffaf0",
         "size": 20,
         "type": "min"
        },
        {
         "color": "#f1c470",
         "size": 30,
         "type": "median"
        },
        {
         "color": "#800000",
         "size": 40,
         "type": "max"
        }
       ],
       "metabolite_scale_preset": "WhYlRd",
       "metabolite_styles": [
        "color",
        "size",
        "text"
       ],
       "never_ask_before_quit": true,
       "primary_metabolite_radius": 20,
       "reaction_compare_style": "log2_fold",
       "reaction_data": {
        "G6PDH2r": -2,
        "GLCpts": -2,
        "GND": 1,
        "Other": 1000,
        "PGL": 0.4
       },
       "reaction_no_data_color": "#dcdcdc",
       "reaction_no_data_size": 8,
       "reaction_scale": [
        {
         "color": "rgb(191,215,230)",
         "type": "value",
         "value": 333.3333333333333
        },
        {
         "color": "rgb(163,210,240)",
         "type": "value",
         "value": 666.6666666666667
        },
        {
         "color": "rgb(135,205,250)",
         "type": "value",
         "value": 1000
        },
        {
         "color": "rgb(220,220,220)",
         "type": "value",
         "value": 0
        },
        {
         "color": "rgb(237,192,110)",
         "type": "value",
         "value": -1
        },
        {
         "color": "rgb(255,165,0)",
         "type": "value",
         "value": -2
        }
       ],
       "reaction_scale_preset": null,
       "reaction_styles": [
        "color",
        "text"
       ],
       "scroll_behavior": "none",
       "secondary_metabolite_radius": 10,
       "semantic_zoom": null,
       "show_gene_reaction_rules": false,
       "starting_reaction": null,
       "use_3d_transform": false,
       "zoom_to_element": null
      }
     },
     "2d33c1de555c4dbe8503d941aadcc4d5": {
      "model_module": "@jupyter-widgets/base",
      "model_module_version": "1.2.0",
      "model_name": "LayoutModel",
      "state": {}
     },
     "368481e373b8407e9f95a1b825087dd0": {
      "model_module": "@jupyter-widgets/base",
      "model_module_version": "1.2.0",
      "model_name": "LayoutModel",
      "state": {}
     },
     "3821f7dae09d4516bbe91c5c65bf188a": {
      "model_module": "escher",
      "model_module_version": "1.7.3",
      "model_name": "EscherMapModel",
      "state": {
       "_loaded_map_json": "[{\"map_name\": \"\", \"map_id\": \"\", \"map_description\": \"\", \"homepage\": \"\", \"schema\": \"https://escher.github.io/escher/jsonschema/1-0-0#\"}, {\"reactions\": {\"0\": {\"name\": \"GLCpts\", \"bigg_id\": \"GLCpts\", \"reversibility\": true, \"label_x\": 265.0, \"label_y\": 325.0, \"gene_reaction_rule\": \"\", \"genes\": [], \"segments\": {\"0\": {\"from_node_id\": \"4\", \"to_node_id\": \"5\", \"b1\": null, \"b2\": null}, \"1\": {\"from_node_id\": \"6\", \"to_node_id\": \"5\", \"b1\": null, \"b2\": null}, \"2\": {\"from_node_id\": \"0\", \"to_node_id\": \"4\", \"b1\": null, \"b2\": null}, \"3\": {\"from_node_id\": \"1\", \"to_node_id\": \"4\", \"b1\": null, \"b2\": null}, \"4\": {\"from_node_id\": \"2\", \"to_node_id\": \"6\", \"b1\": null, \"b2\": null}, \"5\": {\"from_node_id\": \"3\", \"to_node_id\": \"6\", \"b1\": null, \"b2\": null}}, \"metabolites\": [{\"bigg_id\": \"Glucopyranose_e\", \"coefficient\": -1.0}, {\"bigg_id\": \"PHOSPHO_ENOL_PYRUVATE_c\", \"coefficient\": -1.0}, {\"bigg_id\": \"D_glucopyranose_6_phosphate_c\", \"coefficient\": 1.0}, {\"bigg_id\": \"PYRUVATE_c\", \"coefficient\": 1.0}]}, \"1\": {\"name\": \"G6PDH2r\", \"bigg_id\": \"G6PDH2r\", \"reversibility\": true, \"label_x\": 265.0, \"label_y\": 975.0, \"gene_reaction_rule\": \"\", \"genes\": [], \"segments\": {\"6\": {\"from_node_id\": \"11\", \"to_node_id\": \"12\", \"b1\": null, \"b2\": null}, \"7\": {\"from_node_id\": \"13\", \"to_node_id\": \"12\", \"b1\": null, \"b2\": null}, \"8\": {\"from_node_id\": \"2\", \"to_node_id\": \"11\", \"b1\": null, \"b2\": null}, \"9\": {\"from_node_id\": \"7\", \"to_node_id\": \"11\", \"b1\": null, \"b2\": null}, \"10\": {\"from_node_id\": \"8\", \"to_node_id\": \"13\", \"b1\": null, \"b2\": null}, \"11\": {\"from_node_id\": \"9\", \"to_node_id\": \"13\", \"b1\": null, \"b2\": null}, \"12\": {\"from_node_id\": \"10\", \"to_node_id\": \"13\", \"b1\": null, \"b2\": null}}, \"metabolites\": [{\"bigg_id\": \"D_glucopyranose_6_phosphate_c\", \"coefficient\": -1.0}, {\"bigg_id\": \"NADP_c\", \"coefficient\": -1.0}, {\"bigg_id\": \"D_6_P_GLUCONO_DELTA_LACTONE_c\", \"coefficient\": 1.0}, {\"bigg_id\": \"NADPH_c\", \"coefficient\": 1.0}, {\"bigg_id\": \"PROTON_c\", \"coefficient\": 1.0}]}, \"2\": {\"name\": \"PGL\", \"bigg_id\": \"PGL\", \"reversibility\": true, \"label_x\": 265.0, \"label_y\": 1625.0, \"gene_reaction_rule\": \"\", \"genes\": [], \"segments\": {\"13\": {\"from_node_id\": \"17\", \"to_node_id\": \"18\", \"b1\": null, \"b2\": null}, \"14\": {\"from_node_id\": \"19\", \"to_node_id\": \"18\", \"b1\": null, \"b2\": null}, \"15\": {\"from_node_id\": \"14\", \"to_node_id\": \"17\", \"b1\": null, \"b2\": null}, \"16\": {\"from_node_id\": \"8\", \"to_node_id\": \"17\", \"b1\": null, \"b2\": null}, \"17\": {\"from_node_id\": \"15\", \"to_node_id\": \"19\", \"b1\": null, \"b2\": null}, \"18\": {\"from_node_id\": \"16\", \"to_node_id\": \"19\", \"b1\": null, \"b2\": null}}, \"metabolites\": [{\"bigg_id\": \"CPD_15815_c\", \"coefficient\": -1.0}, {\"bigg_id\": \"D_6_P_GLUCONO_DELTA_LACTONE_c\", \"coefficient\": -1.0}, {\"bigg_id\": \"CPD_2961_c\", \"coefficient\": 1.0}, {\"bigg_id\": \"PROTON_c\", \"coefficient\": 1.0}]}, \"3\": {\"name\": \"GND\", \"bigg_id\": \"GND\", \"reversibility\": true, \"label_x\": 265.0, \"label_y\": 2275.0, \"gene_reaction_rule\": \"\", \"genes\": [], \"segments\": {\"19\": {\"from_node_id\": \"24\", \"to_node_id\": \"25\", \"b1\": null, \"b2\": null}, \"20\": {\"from_node_id\": \"26\", \"to_node_id\": \"25\", \"b1\": null, \"b2\": null}, \"21\": {\"from_node_id\": \"15\", \"to_node_id\": \"24\", \"b1\": null, \"b2\": null}, \"22\": {\"from_node_id\": \"20\", \"to_node_id\": \"24\", \"b1\": null, \"b2\": null}, \"23\": {\"from_node_id\": \"21\", \"to_node_id\": \"26\", \"b1\": null, \"b2\": null}, \"24\": {\"from_node_id\": \"22\", \"to_node_id\": \"26\", \"b1\": null, \"b2\": null}, \"25\": {\"from_node_id\": \"23\", \"to_node_id\": \"26\", \"b1\": null, \"b2\": null}}, \"metabolites\": [{\"bigg_id\": \"CPD_2961_c\", \"coefficient\": -1.0}, {\"bigg_id\": \"NADP_c\", \"coefficient\": -1.0}, {\"bigg_id\": \"CARBON_DIOXIDE_c\", \"coefficient\": 1.0}, {\"bigg_id\": \"NADPH_c\", \"coefficient\": 1.0}, {\"bigg_id\": \"RIBULOSE_5P_c\", \"coefficient\": 1.0}]}}, \"nodes\": {\"0\": {\"node_type\": \"metabolite\", \"x\": 150.0, \"y\": 30.0, \"label_x\": 160.0, \"label_y\": 20.0, \"bigg_id\": \"Glucopyranose_e\", \"name\": \"Glucopyranose_e\", \"node_is_primary\": false}, \"1\": {\"node_type\": \"metabolite\", \"x\": 300.0, \"y\": 30.0, \"label_x\": 310.0, \"label_y\": 20.0, \"bigg_id\": \"PHOSPHO_ENOL_PYRUVATE_c\", \"name\": \"PHOSPHO_ENOL_PYRUVATE_c\", \"node_is_primary\": false}, \"2\": {\"node_type\": \"metabolite\", \"x\": 150.0, \"y\": 550.0, \"label_x\": 160.0, \"label_y\": 580.0, \"bigg_id\": \"D_glucopyranose_6_phosphate_c\", \"name\": \"D_glucopyranose_6_phosphate_c\", \"node_is_primary\": false}, \"3\": {\"node_type\": \"metabolite\", \"x\": 300.0, \"y\": 550.0, \"label_x\": 310.0, \"label_y\": 580.0, \"bigg_id\": \"PYRUVATE_c\", \"name\": \"PYRUVATE_c\", \"node_is_primary\": false}, \"4\": {\"node_type\": \"multimarker\", \"x\": 225.0, \"y\": 305.0}, \"5\": {\"node_type\": \"midmarker\", \"x\": 225.0, \"y\": 325.0}, \"6\": {\"node_type\": \"multimarker\", \"x\": 225.0, \"y\": 345.0}, \"7\": {\"node_type\": \"metabolite\", \"x\": 300.0, \"y\": 680.0, \"label_x\": 310.0, \"label_y\": 670.0, \"bigg_id\": \"NADP_c\", \"name\": \"NADP_c\", \"node_is_primary\": false}, \"8\": {\"node_type\": \"metabolite\", \"x\": 112.5, \"y\": 1200.0, \"label_x\": 122.5, \"label_y\": 1230.0, \"bigg_id\": \"D_6_P_GLUCONO_DELTA_LACTONE_c\", \"name\": \"D_6_P_GLUCONO_DELTA_LACTONE_c\", \"node_is_primary\": false}, \"9\": {\"node_type\": \"metabolite\", \"x\": 225.0, \"y\": 1200.0, \"label_x\": 235.0, \"label_y\": 1230.0, \"bigg_id\": \"NADPH_c\", \"name\": \"NADPH_c\", \"node_is_primary\": false}, \"10\": {\"node_type\": \"metabolite\", \"x\": 337.5, \"y\": 1200.0, \"label_x\": 347.5, \"label_y\": 1230.0, \"bigg_id\": \"PROTON_c\", \"name\": \"PROTON_c\", \"node_is_primary\": false}, \"11\": {\"node_type\": \"multimarker\", \"x\": 225.0, \"y\": 955.0}, \"12\": {\"node_type\": \"midmarker\", \"x\": 225.0, \"y\": 975.0}, \"13\": {\"node_type\": \"multimarker\", \"x\": 225.0, \"y\": 995.0}, \"14\": {\"node_type\": \"metabolite\", \"x\": 150.0, \"y\": 1330.0, \"label_x\": 160.0, \"label_y\": 1320.0, \"bigg_id\": \"CPD_15815_c\", \"name\": \"CPD_15815_c\", \"node_is_primary\": false}, \"15\": {\"node_type\": \"metabolite\", \"x\": 150.0, \"y\": 1850.0, \"label_x\": 160.0, \"label_y\": 1880.0, \"bigg_id\": \"CPD_2961_c\", \"name\": \"CPD_2961_c\", \"node_is_primary\": false}, \"16\": {\"node_type\": \"metabolite\", \"x\": 300.0, \"y\": 1850.0, \"label_x\": 310.0, \"label_y\": 1880.0, \"bigg_id\": \"PROTON_c\", \"name\": \"PROTON_c\", \"node_is_primary\": false}, \"17\": {\"node_type\": \"multimarker\", \"x\": 225.0, \"y\": 1605.0}, \"18\": {\"node_type\": \"midmarker\", \"x\": 225.0, \"y\": 1625.0}, \"19\": {\"node_type\": \"multimarker\", \"x\": 225.0, \"y\": 1645.0}, \"20\": {\"node_type\": \"metabolite\", \"x\": 300.0, \"y\": 1980.0, \"label_x\": 310.0, \"label_y\": 1970.0, \"bigg_id\": \"NADP_c\", \"name\": \"NADP_c\", \"node_is_primary\": false}, \"21\": {\"node_type\": \"metabolite\", \"x\": 112.5, \"y\": 2500.0, \"label_x\": 122.5, \"label_y\": 2530.0, \"bigg_id\": \"CARBON_DIOXIDE_c\", \"name\": \"CARBON_DIOXIDE_c\", \"node_is_primary\": false}, \"22\": {\"node_type\": \"metabolite\", \"x\": 225.0, \"y\": 2500.0, \"label_x\": 235.0, \"label_y\": 2530.0, \"bigg_id\": \"NADPH_c\", \"name\": \"NADPH_c\", \"node_is_primary\": false}, \"23\": {\"node_type\": \"metabolite\", \"x\": 337.5, \"y\": 2500.0, \"label_x\": 347.5, \"label_y\": 2530.0, \"bigg_id\": \"RIBULOSE_5P_c\", \"name\": \"RIBULOSE_5P_c\", \"node_is_primary\": false}, \"24\": {\"node_type\": \"multimarker\", \"x\": 225.0, \"y\": 2255.0}, \"25\": {\"node_type\": \"midmarker\", \"x\": 225.0, \"y\": 2275.0}, \"26\": {\"node_type\": \"multimarker\", \"x\": 225.0, \"y\": 2295.0}}, \"text_labels\": {}, \"canvas\": {\"x\": 0, \"y\": 0, \"width\": 450, \"height\": 2600}}]",
       "_loaded_model_json": null,
       "allow_building_duplicate_reactions": false,
       "and_method_in_gene_reaction_rule": "mean",
       "canvas_size_and_loc": null,
       "cofactors": [
        "atp",
        "adp",
        "nad",
        "nadh",
        "nadp",
        "nadph",
        "gtp",
        "gdp",
        "h",
        "coa",
        "ump",
        "h2o",
        "ppi"
       ],
       "disabled_buttons": [
        "Clear reaction data",
        "Clear gene data",
        "Clear metabolite data"
       ],
       "embedded_css": null,
       "enable_editing": true,
       "enable_keys": false,
       "enable_keys_with_tooltip": true,
       "enable_search": true,
       "enable_tooltips": false,
       "full_screen_button": {
        "enable_editing": true,
        "enable_keys": true,
        "enable_tooltips": [
         "label"
        ],
        "menu": "all",
        "scroll_behavior": "pan"
       },
       "gene_data": null,
       "gene_font_size": 18,
       "height": 500,
       "hide_all_labels": false,
       "hide_secondary_metabolites": false,
       "highlight_missing": false,
       "identifiers_on_map": "bigg_id",
       "layout": "IPY_MODEL_f427b761ea0e4e3bbf5d7c889cf631f9",
       "marker_radius": 5,
       "menu": "all",
       "metabolite_compare_style": "log2_fold",
       "metabolite_data": null,
       "metabolite_no_data_color": "#ffffff",
       "metabolite_no_data_size": 10,
       "metabolite_scale": [
        {
         "color": "#fffaf0",
         "size": 20,
         "type": "min"
        },
        {
         "color": "#f1c470",
         "size": 30,
         "type": "median"
        },
        {
         "color": "#800000",
         "size": 40,
         "type": "max"
        }
       ],
       "metabolite_scale_preset": "WhYlRd",
       "metabolite_styles": [
        "color",
        "size",
        "text"
       ],
       "never_ask_before_quit": true,
       "primary_metabolite_radius": 20,
       "reaction_compare_style": "log2_fold",
       "reaction_data": null,
       "reaction_no_data_color": "#dcdcdc",
       "reaction_no_data_size": 8,
       "reaction_scale": {},
       "reaction_scale_preset": null,
       "reaction_styles": [
        "color",
        "text"
       ],
       "scroll_behavior": "none",
       "secondary_metabolite_radius": 10,
       "semantic_zoom": null,
       "show_gene_reaction_rules": false,
       "starting_reaction": null,
       "use_3d_transform": false,
       "zoom_to_element": null
      }
     },
     "4036a3166d1f40fd9d6e2a2034074124": {
      "model_module": "@jupyter-widgets/base",
      "model_module_version": "1.2.0",
      "model_name": "LayoutModel",
      "state": {}
     },
     "417586f1c6ca43f1a97566bad2ee9076": {
      "model_module": "@jupyter-widgets/base",
      "model_module_version": "1.2.0",
      "model_name": "LayoutModel",
      "state": {}
     },
     "497c929f7bda4623a92d86c1c923d15d": {
      "model_module": "escher",
      "model_module_version": "1.7.3",
      "model_name": "EscherMapModel",
      "state": {
       "_loaded_map_json": "[{\"map_name\": \"\", \"map_id\": \"\", \"map_description\": \"\", \"homepage\": \"\", \"schema\": \"https://escher.github.io/escher/jsonschema/1-0-0#\"}, {\"reactions\": {\"0\": {\"name\": \"GLCpts\", \"bigg_id\": \"GLCpts\", \"reversibility\": true, \"label_x\": 265.0, \"label_y\": 325.0, \"gene_reaction_rule\": \"\", \"genes\": [], \"segments\": {\"0\": {\"from_node_id\": \"4\", \"to_node_id\": \"5\", \"b1\": null, \"b2\": null}, \"1\": {\"from_node_id\": \"6\", \"to_node_id\": \"5\", \"b1\": null, \"b2\": null}, \"2\": {\"from_node_id\": \"0\", \"to_node_id\": \"4\", \"b1\": null, \"b2\": null}, \"3\": {\"from_node_id\": \"1\", \"to_node_id\": \"4\", \"b1\": null, \"b2\": null}, \"4\": {\"from_node_id\": \"2\", \"to_node_id\": \"6\", \"b1\": null, \"b2\": null}, \"5\": {\"from_node_id\": \"3\", \"to_node_id\": \"6\", \"b1\": null, \"b2\": null}}, \"metabolites\": [{\"bigg_id\": \"Glucopyranose_e\", \"coefficient\": -1.0}, {\"bigg_id\": \"PHOSPHO_ENOL_PYRUVATE_c\", \"coefficient\": -1.0}, {\"bigg_id\": \"D_glucopyranose_6_phosphate_c\", \"coefficient\": 1.0}, {\"bigg_id\": \"PYRUVATE_c\", \"coefficient\": 1.0}]}, \"1\": {\"name\": \"G6PDH2r\", \"bigg_id\": \"G6PDH2r\", \"reversibility\": true, \"label_x\": 265.0, \"label_y\": 975.0, \"gene_reaction_rule\": \"\", \"genes\": [], \"segments\": {\"6\": {\"from_node_id\": \"11\", \"to_node_id\": \"12\", \"b1\": null, \"b2\": null}, \"7\": {\"from_node_id\": \"13\", \"to_node_id\": \"12\", \"b1\": null, \"b2\": null}, \"8\": {\"from_node_id\": \"2\", \"to_node_id\": \"11\", \"b1\": null, \"b2\": null}, \"9\": {\"from_node_id\": \"7\", \"to_node_id\": \"11\", \"b1\": null, \"b2\": null}, \"10\": {\"from_node_id\": \"8\", \"to_node_id\": \"13\", \"b1\": null, \"b2\": null}, \"11\": {\"from_node_id\": \"9\", \"to_node_id\": \"13\", \"b1\": null, \"b2\": null}, \"12\": {\"from_node_id\": \"10\", \"to_node_id\": \"13\", \"b1\": null, \"b2\": null}}, \"metabolites\": [{\"bigg_id\": \"D_glucopyranose_6_phosphate_c\", \"coefficient\": -1.0}, {\"bigg_id\": \"NADP_c\", \"coefficient\": -1.0}, {\"bigg_id\": \"D_6_P_GLUCONO_DELTA_LACTONE_c\", \"coefficient\": 1.0}, {\"bigg_id\": \"NADPH_c\", \"coefficient\": 1.0}, {\"bigg_id\": \"PROTON_c\", \"coefficient\": 1.0}]}, \"2\": {\"name\": \"PGL\", \"bigg_id\": \"PGL\", \"reversibility\": true, \"label_x\": 265.0, \"label_y\": 1625.0, \"gene_reaction_rule\": \"\", \"genes\": [], \"segments\": {\"13\": {\"from_node_id\": \"17\", \"to_node_id\": \"18\", \"b1\": null, \"b2\": null}, \"14\": {\"from_node_id\": \"19\", \"to_node_id\": \"18\", \"b1\": null, \"b2\": null}, \"15\": {\"from_node_id\": \"14\", \"to_node_id\": \"17\", \"b1\": null, \"b2\": null}, \"16\": {\"from_node_id\": \"8\", \"to_node_id\": \"17\", \"b1\": null, \"b2\": null}, \"17\": {\"from_node_id\": \"15\", \"to_node_id\": \"19\", \"b1\": null, \"b2\": null}, \"18\": {\"from_node_id\": \"16\", \"to_node_id\": \"19\", \"b1\": null, \"b2\": null}}, \"metabolites\": [{\"bigg_id\": \"CPD_15815_c\", \"coefficient\": -1.0}, {\"bigg_id\": \"D_6_P_GLUCONO_DELTA_LACTONE_c\", \"coefficient\": -1.0}, {\"bigg_id\": \"CPD_2961_c\", \"coefficient\": 1.0}, {\"bigg_id\": \"PROTON_c\", \"coefficient\": 1.0}]}, \"3\": {\"name\": \"GND\", \"bigg_id\": \"GND\", \"reversibility\": true, \"label_x\": 265.0, \"label_y\": 2275.0, \"gene_reaction_rule\": \"\", \"genes\": [], \"segments\": {\"19\": {\"from_node_id\": \"24\", \"to_node_id\": \"25\", \"b1\": null, \"b2\": null}, \"20\": {\"from_node_id\": \"26\", \"to_node_id\": \"25\", \"b1\": null, \"b2\": null}, \"21\": {\"from_node_id\": \"15\", \"to_node_id\": \"24\", \"b1\": null, \"b2\": null}, \"22\": {\"from_node_id\": \"20\", \"to_node_id\": \"24\", \"b1\": null, \"b2\": null}, \"23\": {\"from_node_id\": \"21\", \"to_node_id\": \"26\", \"b1\": null, \"b2\": null}, \"24\": {\"from_node_id\": \"22\", \"to_node_id\": \"26\", \"b1\": null, \"b2\": null}, \"25\": {\"from_node_id\": \"23\", \"to_node_id\": \"26\", \"b1\": null, \"b2\": null}}, \"metabolites\": [{\"bigg_id\": \"CPD_2961_c\", \"coefficient\": -1.0}, {\"bigg_id\": \"NADP_c\", \"coefficient\": -1.0}, {\"bigg_id\": \"CARBON_DIOXIDE_c\", \"coefficient\": 1.0}, {\"bigg_id\": \"NADPH_c\", \"coefficient\": 1.0}, {\"bigg_id\": \"RIBULOSE_5P_c\", \"coefficient\": 1.0}]}}, \"nodes\": {\"0\": {\"node_type\": \"metabolite\", \"x\": 150.0, \"y\": 30.0, \"label_x\": 160.0, \"label_y\": 20.0, \"bigg_id\": \"Glucopyranose_e\", \"name\": \"Glucopyranose_e\", \"node_is_primary\": false}, \"1\": {\"node_type\": \"metabolite\", \"x\": 300.0, \"y\": 30.0, \"label_x\": 310.0, \"label_y\": 20.0, \"bigg_id\": \"PHOSPHO_ENOL_PYRUVATE_c\", \"name\": \"PHOSPHO_ENOL_PYRUVATE_c\", \"node_is_primary\": false}, \"2\": {\"node_type\": \"metabolite\", \"x\": 150.0, \"y\": 550.0, \"label_x\": 160.0, \"label_y\": 580.0, \"bigg_id\": \"D_glucopyranose_6_phosphate_c\", \"name\": \"D_glucopyranose_6_phosphate_c\", \"node_is_primary\": false}, \"3\": {\"node_type\": \"metabolite\", \"x\": 300.0, \"y\": 550.0, \"label_x\": 310.0, \"label_y\": 580.0, \"bigg_id\": \"PYRUVATE_c\", \"name\": \"PYRUVATE_c\", \"node_is_primary\": false}, \"4\": {\"node_type\": \"multimarker\", \"x\": 225.0, \"y\": 305.0}, \"5\": {\"node_type\": \"midmarker\", \"x\": 225.0, \"y\": 325.0}, \"6\": {\"node_type\": \"multimarker\", \"x\": 225.0, \"y\": 345.0}, \"7\": {\"node_type\": \"metabolite\", \"x\": 300.0, \"y\": 680.0, \"label_x\": 310.0, \"label_y\": 670.0, \"bigg_id\": \"NADP_c\", \"name\": \"NADP_c\", \"node_is_primary\": false}, \"8\": {\"node_type\": \"metabolite\", \"x\": 112.5, \"y\": 1200.0, \"label_x\": 122.5, \"label_y\": 1230.0, \"bigg_id\": \"D_6_P_GLUCONO_DELTA_LACTONE_c\", \"name\": \"D_6_P_GLUCONO_DELTA_LACTONE_c\", \"node_is_primary\": false}, \"9\": {\"node_type\": \"metabolite\", \"x\": 225.0, \"y\": 1200.0, \"label_x\": 235.0, \"label_y\": 1230.0, \"bigg_id\": \"NADPH_c\", \"name\": \"NADPH_c\", \"node_is_primary\": false}, \"10\": {\"node_type\": \"metabolite\", \"x\": 337.5, \"y\": 1200.0, \"label_x\": 347.5, \"label_y\": 1230.0, \"bigg_id\": \"PROTON_c\", \"name\": \"PROTON_c\", \"node_is_primary\": false}, \"11\": {\"node_type\": \"multimarker\", \"x\": 225.0, \"y\": 955.0}, \"12\": {\"node_type\": \"midmarker\", \"x\": 225.0, \"y\": 975.0}, \"13\": {\"node_type\": \"multimarker\", \"x\": 225.0, \"y\": 995.0}, \"14\": {\"node_type\": \"metabolite\", \"x\": 150.0, \"y\": 1330.0, \"label_x\": 160.0, \"label_y\": 1320.0, \"bigg_id\": \"CPD_15815_c\", \"name\": \"CPD_15815_c\", \"node_is_primary\": false}, \"15\": {\"node_type\": \"metabolite\", \"x\": 150.0, \"y\": 1850.0, \"label_x\": 160.0, \"label_y\": 1880.0, \"bigg_id\": \"CPD_2961_c\", \"name\": \"CPD_2961_c\", \"node_is_primary\": false}, \"16\": {\"node_type\": \"metabolite\", \"x\": 300.0, \"y\": 1850.0, \"label_x\": 310.0, \"label_y\": 1880.0, \"bigg_id\": \"PROTON_c\", \"name\": \"PROTON_c\", \"node_is_primary\": false}, \"17\": {\"node_type\": \"multimarker\", \"x\": 225.0, \"y\": 1605.0}, \"18\": {\"node_type\": \"midmarker\", \"x\": 225.0, \"y\": 1625.0}, \"19\": {\"node_type\": \"multimarker\", \"x\": 225.0, \"y\": 1645.0}, \"20\": {\"node_type\": \"metabolite\", \"x\": 300.0, \"y\": 1980.0, \"label_x\": 310.0, \"label_y\": 1970.0, \"bigg_id\": \"NADP_c\", \"name\": \"NADP_c\", \"node_is_primary\": false}, \"21\": {\"node_type\": \"metabolite\", \"x\": 112.5, \"y\": 2500.0, \"label_x\": 122.5, \"label_y\": 2530.0, \"bigg_id\": \"CARBON_DIOXIDE_c\", \"name\": \"CARBON_DIOXIDE_c\", \"node_is_primary\": false}, \"22\": {\"node_type\": \"metabolite\", \"x\": 225.0, \"y\": 2500.0, \"label_x\": 235.0, \"label_y\": 2530.0, \"bigg_id\": \"NADPH_c\", \"name\": \"NADPH_c\", \"node_is_primary\": false}, \"23\": {\"node_type\": \"metabolite\", \"x\": 337.5, \"y\": 2500.0, \"label_x\": 347.5, \"label_y\": 2530.0, \"bigg_id\": \"RIBULOSE_5P_c\", \"name\": \"RIBULOSE_5P_c\", \"node_is_primary\": false}, \"24\": {\"node_type\": \"multimarker\", \"x\": 225.0, \"y\": 2255.0}, \"25\": {\"node_type\": \"midmarker\", \"x\": 225.0, \"y\": 2275.0}, \"26\": {\"node_type\": \"multimarker\", \"x\": 225.0, \"y\": 2295.0}}, \"text_labels\": {}, \"canvas\": {\"x\": 0, \"y\": 0, \"width\": 450, \"height\": 2600}}]",
       "_loaded_model_json": null,
       "allow_building_duplicate_reactions": false,
       "and_method_in_gene_reaction_rule": "mean",
       "canvas_size_and_loc": null,
       "cofactors": [
        "atp",
        "adp",
        "nad",
        "nadh",
        "nadp",
        "nadph",
        "gtp",
        "gdp",
        "h",
        "coa",
        "ump",
        "h2o",
        "ppi"
       ],
       "disabled_buttons": [
        "Clear gene data",
        "Clear metabolite data"
       ],
       "embedded_css": null,
       "enable_editing": true,
       "enable_keys": false,
       "enable_keys_with_tooltip": true,
       "enable_search": true,
       "enable_tooltips": false,
       "full_screen_button": {
        "enable_editing": true,
        "enable_keys": true,
        "enable_tooltips": [
         "label"
        ],
        "menu": "all",
        "scroll_behavior": "pan"
       },
       "gene_data": null,
       "gene_font_size": 18,
       "height": 500,
       "hide_all_labels": false,
       "hide_secondary_metabolites": false,
       "highlight_missing": false,
       "identifiers_on_map": "bigg_id",
       "layout": "IPY_MODEL_9a7abd14d2c54e2599c58c20e5f4c0bf",
       "marker_radius": 5,
       "menu": "all",
       "metabolite_compare_style": "log2_fold",
       "metabolite_data": null,
       "metabolite_no_data_color": "#ffffff",
       "metabolite_no_data_size": 10,
       "metabolite_scale": [
        {
         "color": "#fffaf0",
         "size": 20,
         "type": "min"
        },
        {
         "color": "#f1c470",
         "size": 30,
         "type": "median"
        },
        {
         "color": "#800000",
         "size": 40,
         "type": "max"
        }
       ],
       "metabolite_scale_preset": "WhYlRd",
       "metabolite_styles": [
        "color",
        "size",
        "text"
       ],
       "never_ask_before_quit": true,
       "primary_metabolite_radius": 20,
       "reaction_compare_style": "log2_fold",
       "reaction_data": {
        "G6PDH2r": -2,
        "GLCpts": -2,
        "GND": 1,
        "PGL": 0.4
       },
       "reaction_no_data_color": "#dcdcdc",
       "reaction_no_data_size": 8,
       "reaction_scale": [
        {
         "color": "rgb(110,174,110)",
         "type": "value",
         "value": 0.5
        },
        {
         "color": "rgb(0,128,0)",
         "type": "value",
         "value": 1
        },
        {
         "color": "rgb(220,220,220)",
         "type": "value",
         "value": 0
        },
        {
         "color": "rgb(237,110,110)",
         "type": "value",
         "value": -1
        },
        {
         "color": "rgb(255,0,0)",
         "type": "value",
         "value": -2
        }
       ],
       "reaction_scale_preset": null,
       "reaction_styles": [
        "color",
        "text"
       ],
       "scroll_behavior": "none",
       "secondary_metabolite_radius": 10,
       "semantic_zoom": null,
       "show_gene_reaction_rules": false,
       "starting_reaction": null,
       "use_3d_transform": false,
       "zoom_to_element": null
      }
     },
     "49d2951ee08b49b0a61ccd92741bb43f": {
      "model_module": "@jupyter-widgets/base",
      "model_module_version": "1.2.0",
      "model_name": "LayoutModel",
      "state": {}
     },
     "57c6dfa71d73418a8a1a4c689a45f156": {
      "model_module": "escher",
      "model_module_version": "1.7.3",
      "model_name": "EscherMapModel",
      "state": {
       "_loaded_map_json": "[{\"map_name\": \"\", \"map_id\": \"\", \"map_description\": \"\", \"homepage\": \"\", \"schema\": \"https://escher.github.io/escher/jsonschema/1-0-0#\"}, {\"reactions\": {\"0\": {\"name\": \"GLCpts\", \"bigg_id\": \"GLCpts\", \"reversibility\": true, \"label_x\": 265.0, \"label_y\": 325.0, \"gene_reaction_rule\": \"\", \"genes\": [], \"segments\": {\"0\": {\"from_node_id\": \"4\", \"to_node_id\": \"5\", \"b1\": null, \"b2\": null}, \"1\": {\"from_node_id\": \"6\", \"to_node_id\": \"5\", \"b1\": null, \"b2\": null}, \"2\": {\"from_node_id\": \"0\", \"to_node_id\": \"4\", \"b1\": null, \"b2\": null}, \"3\": {\"from_node_id\": \"1\", \"to_node_id\": \"4\", \"b1\": null, \"b2\": null}, \"4\": {\"from_node_id\": \"2\", \"to_node_id\": \"6\", \"b1\": null, \"b2\": null}, \"5\": {\"from_node_id\": \"3\", \"to_node_id\": \"6\", \"b1\": null, \"b2\": null}}, \"metabolites\": [{\"bigg_id\": \"Glucopyranose_e\", \"coefficient\": -1.0}, {\"bigg_id\": \"PHOSPHO_ENOL_PYRUVATE_c\", \"coefficient\": -1.0}, {\"bigg_id\": \"D_glucopyranose_6_phosphate_c\", \"coefficient\": 1.0}, {\"bigg_id\": \"PYRUVATE_c\", \"coefficient\": 1.0}]}, \"1\": {\"name\": \"G6PDH2r\", \"bigg_id\": \"G6PDH2r\", \"reversibility\": true, \"label_x\": 265.0, \"label_y\": 975.0, \"gene_reaction_rule\": \"\", \"genes\": [], \"segments\": {\"6\": {\"from_node_id\": \"11\", \"to_node_id\": \"12\", \"b1\": null, \"b2\": null}, \"7\": {\"from_node_id\": \"13\", \"to_node_id\": \"12\", \"b1\": null, \"b2\": null}, \"8\": {\"from_node_id\": \"2\", \"to_node_id\": \"11\", \"b1\": null, \"b2\": null}, \"9\": {\"from_node_id\": \"7\", \"to_node_id\": \"11\", \"b1\": null, \"b2\": null}, \"10\": {\"from_node_id\": \"8\", \"to_node_id\": \"13\", \"b1\": null, \"b2\": null}, \"11\": {\"from_node_id\": \"9\", \"to_node_id\": \"13\", \"b1\": null, \"b2\": null}, \"12\": {\"from_node_id\": \"10\", \"to_node_id\": \"13\", \"b1\": null, \"b2\": null}}, \"metabolites\": [{\"bigg_id\": \"D_glucopyranose_6_phosphate_c\", \"coefficient\": -1.0}, {\"bigg_id\": \"NADP_c\", \"coefficient\": -1.0}, {\"bigg_id\": \"D_6_P_GLUCONO_DELTA_LACTONE_c\", \"coefficient\": 1.0}, {\"bigg_id\": \"NADPH_c\", \"coefficient\": 1.0}, {\"bigg_id\": \"PROTON_c\", \"coefficient\": 1.0}]}, \"2\": {\"name\": \"PGL\", \"bigg_id\": \"PGL\", \"reversibility\": true, \"label_x\": 265.0, \"label_y\": 1625.0, \"gene_reaction_rule\": \"\", \"genes\": [], \"segments\": {\"13\": {\"from_node_id\": \"17\", \"to_node_id\": \"18\", \"b1\": null, \"b2\": null}, \"14\": {\"from_node_id\": \"19\", \"to_node_id\": \"18\", \"b1\": null, \"b2\": null}, \"15\": {\"from_node_id\": \"14\", \"to_node_id\": \"17\", \"b1\": null, \"b2\": null}, \"16\": {\"from_node_id\": \"8\", \"to_node_id\": \"17\", \"b1\": null, \"b2\": null}, \"17\": {\"from_node_id\": \"15\", \"to_node_id\": \"19\", \"b1\": null, \"b2\": null}, \"18\": {\"from_node_id\": \"16\", \"to_node_id\": \"19\", \"b1\": null, \"b2\": null}}, \"metabolites\": [{\"bigg_id\": \"CPD_15815_c\", \"coefficient\": -1.0}, {\"bigg_id\": \"D_6_P_GLUCONO_DELTA_LACTONE_c\", \"coefficient\": -1.0}, {\"bigg_id\": \"CPD_2961_c\", \"coefficient\": 1.0}, {\"bigg_id\": \"PROTON_c\", \"coefficient\": 1.0}]}, \"3\": {\"name\": \"GND\", \"bigg_id\": \"GND\", \"reversibility\": true, \"label_x\": 265.0, \"label_y\": 2275.0, \"gene_reaction_rule\": \"\", \"genes\": [], \"segments\": {\"19\": {\"from_node_id\": \"24\", \"to_node_id\": \"25\", \"b1\": null, \"b2\": null}, \"20\": {\"from_node_id\": \"26\", \"to_node_id\": \"25\", \"b1\": null, \"b2\": null}, \"21\": {\"from_node_id\": \"15\", \"to_node_id\": \"24\", \"b1\": null, \"b2\": null}, \"22\": {\"from_node_id\": \"20\", \"to_node_id\": \"24\", \"b1\": null, \"b2\": null}, \"23\": {\"from_node_id\": \"21\", \"to_node_id\": \"26\", \"b1\": null, \"b2\": null}, \"24\": {\"from_node_id\": \"22\", \"to_node_id\": \"26\", \"b1\": null, \"b2\": null}, \"25\": {\"from_node_id\": \"23\", \"to_node_id\": \"26\", \"b1\": null, \"b2\": null}}, \"metabolites\": [{\"bigg_id\": \"CPD_2961_c\", \"coefficient\": -1.0}, {\"bigg_id\": \"NADP_c\", \"coefficient\": -1.0}, {\"bigg_id\": \"CARBON_DIOXIDE_c\", \"coefficient\": 1.0}, {\"bigg_id\": \"NADPH_c\", \"coefficient\": 1.0}, {\"bigg_id\": \"RIBULOSE_5P_c\", \"coefficient\": 1.0}]}}, \"nodes\": {\"0\": {\"node_type\": \"metabolite\", \"x\": 150.0, \"y\": 30.0, \"label_x\": 160.0, \"label_y\": 20.0, \"bigg_id\": \"Glucopyranose_e\", \"name\": \"Glucopyranose_e\", \"node_is_primary\": false}, \"1\": {\"node_type\": \"metabolite\", \"x\": 300.0, \"y\": 30.0, \"label_x\": 310.0, \"label_y\": 20.0, \"bigg_id\": \"PHOSPHO_ENOL_PYRUVATE_c\", \"name\": \"PHOSPHO_ENOL_PYRUVATE_c\", \"node_is_primary\": false}, \"2\": {\"node_type\": \"metabolite\", \"x\": 150.0, \"y\": 550.0, \"label_x\": 160.0, \"label_y\": 580.0, \"bigg_id\": \"D_glucopyranose_6_phosphate_c\", \"name\": \"D_glucopyranose_6_phosphate_c\", \"node_is_primary\": false}, \"3\": {\"node_type\": \"metabolite\", \"x\": 300.0, \"y\": 550.0, \"label_x\": 310.0, \"label_y\": 580.0, \"bigg_id\": \"PYRUVATE_c\", \"name\": \"PYRUVATE_c\", \"node_is_primary\": false}, \"4\": {\"node_type\": \"multimarker\", \"x\": 225.0, \"y\": 305.0}, \"5\": {\"node_type\": \"midmarker\", \"x\": 225.0, \"y\": 325.0}, \"6\": {\"node_type\": \"multimarker\", \"x\": 225.0, \"y\": 345.0}, \"7\": {\"node_type\": \"metabolite\", \"x\": 300.0, \"y\": 680.0, \"label_x\": 310.0, \"label_y\": 670.0, \"bigg_id\": \"NADP_c\", \"name\": \"NADP_c\", \"node_is_primary\": false}, \"8\": {\"node_type\": \"metabolite\", \"x\": 112.5, \"y\": 1200.0, \"label_x\": 122.5, \"label_y\": 1230.0, \"bigg_id\": \"D_6_P_GLUCONO_DELTA_LACTONE_c\", \"name\": \"D_6_P_GLUCONO_DELTA_LACTONE_c\", \"node_is_primary\": false}, \"9\": {\"node_type\": \"metabolite\", \"x\": 225.0, \"y\": 1200.0, \"label_x\": 235.0, \"label_y\": 1230.0, \"bigg_id\": \"NADPH_c\", \"name\": \"NADPH_c\", \"node_is_primary\": false}, \"10\": {\"node_type\": \"metabolite\", \"x\": 337.5, \"y\": 1200.0, \"label_x\": 347.5, \"label_y\": 1230.0, \"bigg_id\": \"PROTON_c\", \"name\": \"PROTON_c\", \"node_is_primary\": false}, \"11\": {\"node_type\": \"multimarker\", \"x\": 225.0, \"y\": 955.0}, \"12\": {\"node_type\": \"midmarker\", \"x\": 225.0, \"y\": 975.0}, \"13\": {\"node_type\": \"multimarker\", \"x\": 225.0, \"y\": 995.0}, \"14\": {\"node_type\": \"metabolite\", \"x\": 150.0, \"y\": 1330.0, \"label_x\": 160.0, \"label_y\": 1320.0, \"bigg_id\": \"CPD_15815_c\", \"name\": \"CPD_15815_c\", \"node_is_primary\": false}, \"15\": {\"node_type\": \"metabolite\", \"x\": 150.0, \"y\": 1850.0, \"label_x\": 160.0, \"label_y\": 1880.0, \"bigg_id\": \"CPD_2961_c\", \"name\": \"CPD_2961_c\", \"node_is_primary\": false}, \"16\": {\"node_type\": \"metabolite\", \"x\": 300.0, \"y\": 1850.0, \"label_x\": 310.0, \"label_y\": 1880.0, \"bigg_id\": \"PROTON_c\", \"name\": \"PROTON_c\", \"node_is_primary\": false}, \"17\": {\"node_type\": \"multimarker\", \"x\": 225.0, \"y\": 1605.0}, \"18\": {\"node_type\": \"midmarker\", \"x\": 225.0, \"y\": 1625.0}, \"19\": {\"node_type\": \"multimarker\", \"x\": 225.0, \"y\": 1645.0}, \"20\": {\"node_type\": \"metabolite\", \"x\": 300.0, \"y\": 1980.0, \"label_x\": 310.0, \"label_y\": 1970.0, \"bigg_id\": \"NADP_c\", \"name\": \"NADP_c\", \"node_is_primary\": false}, \"21\": {\"node_type\": \"metabolite\", \"x\": 112.5, \"y\": 2500.0, \"label_x\": 122.5, \"label_y\": 2530.0, \"bigg_id\": \"CARBON_DIOXIDE_c\", \"name\": \"CARBON_DIOXIDE_c\", \"node_is_primary\": false}, \"22\": {\"node_type\": \"metabolite\", \"x\": 225.0, \"y\": 2500.0, \"label_x\": 235.0, \"label_y\": 2530.0, \"bigg_id\": \"NADPH_c\", \"name\": \"NADPH_c\", \"node_is_primary\": false}, \"23\": {\"node_type\": \"metabolite\", \"x\": 337.5, \"y\": 2500.0, \"label_x\": 347.5, \"label_y\": 2530.0, \"bigg_id\": \"RIBULOSE_5P_c\", \"name\": \"RIBULOSE_5P_c\", \"node_is_primary\": false}, \"24\": {\"node_type\": \"multimarker\", \"x\": 225.0, \"y\": 2255.0}, \"25\": {\"node_type\": \"midmarker\", \"x\": 225.0, \"y\": 2275.0}, \"26\": {\"node_type\": \"multimarker\", \"x\": 225.0, \"y\": 2295.0}}, \"text_labels\": {}, \"canvas\": {\"x\": 0, \"y\": 0, \"width\": 450, \"height\": 2600}}]",
       "_loaded_model_json": null,
       "allow_building_duplicate_reactions": false,
       "and_method_in_gene_reaction_rule": "mean",
       "canvas_size_and_loc": null,
       "cofactors": [
        "atp",
        "adp",
        "nad",
        "nadh",
        "nadp",
        "nadph",
        "gtp",
        "gdp",
        "h",
        "coa",
        "ump",
        "h2o",
        "ppi"
       ],
       "disabled_buttons": [
        "Clear gene data",
        "Clear metabolite data"
       ],
       "embedded_css": null,
       "enable_editing": true,
       "enable_keys": false,
       "enable_keys_with_tooltip": true,
       "enable_search": true,
       "enable_tooltips": false,
       "full_screen_button": {
        "enable_editing": true,
        "enable_keys": true,
        "enable_tooltips": [
         "label"
        ],
        "menu": "all",
        "scroll_behavior": "pan"
       },
       "gene_data": null,
       "gene_font_size": 18,
       "height": 500,
       "hide_all_labels": false,
       "hide_secondary_metabolites": false,
       "highlight_missing": false,
       "identifiers_on_map": "bigg_id",
       "layout": "IPY_MODEL_92ac6382486b4ad88624202f7c82bb77",
       "marker_radius": 5,
       "menu": "all",
       "metabolite_compare_style": "log2_fold",
       "metabolite_data": null,
       "metabolite_no_data_color": "#ffffff",
       "metabolite_no_data_size": 10,
       "metabolite_scale": [
        {
         "color": "#fffaf0",
         "size": 20,
         "type": "min"
        },
        {
         "color": "#f1c470",
         "size": 30,
         "type": "median"
        },
        {
         "color": "#800000",
         "size": 40,
         "type": "max"
        }
       ],
       "metabolite_scale_preset": "WhYlRd",
       "metabolite_styles": [
        "color",
        "size",
        "text"
       ],
       "never_ask_before_quit": true,
       "primary_metabolite_radius": 20,
       "reaction_compare_style": "log2_fold",
       "reaction_data": {
        "G6PDH2r": -2,
        "GLCpts": -2,
        "GND": 1,
        "PGL": 0.4
       },
       "reaction_no_data_color": "#dcdcdc",
       "reaction_no_data_size": 8,
       "reaction_scale": [
        {
         "color": "rgb(146,189,146)",
         "type": "value",
         "value": 3.3333333333333335
        },
        {
         "color": "rgb(73,158,73)",
         "type": "value",
         "value": 6.666666666666666
        },
        {
         "color": "rgb(0,127,0)",
         "type": "value",
         "value": 10
        },
        {
         "color": "rgb(220,220,220)",
         "type": "value",
         "value": 0
        },
        {
         "color": "rgb(231,146,146)",
         "type": "value",
         "value": -3.3333333333333335
        },
        {
         "color": "rgb(243,73,73)",
         "type": "value",
         "value": -6.666666666666666
        },
        {
         "color": "rgb(255,0,0)",
         "type": "value",
         "value": -10
        }
       ],
       "reaction_scale_preset": null,
       "reaction_styles": [
        "color",
        "text"
       ],
       "scroll_behavior": "none",
       "secondary_metabolite_radius": 10,
       "semantic_zoom": null,
       "show_gene_reaction_rules": false,
       "starting_reaction": null,
       "use_3d_transform": false,
       "zoom_to_element": null
      }
     },
     "610abf76245b4bada017a38732726102": {
      "model_module": "@jupyter-widgets/base",
      "model_module_version": "1.2.0",
      "model_name": "LayoutModel",
      "state": {}
     },
     "673950f465b442df8a037853d1c3e622": {
      "model_module": "@jupyter-widgets/base",
      "model_module_version": "1.2.0",
      "model_name": "LayoutModel",
      "state": {}
     },
     "6b7c7e28793d45f1876f3212ae896e40": {
      "model_module": "@jupyter-widgets/base",
      "model_module_version": "1.2.0",
      "model_name": "LayoutModel",
      "state": {}
     },
     "6ba1a2ae786d4ef286b20fa16384bb0c": {
      "model_module": "escher",
      "model_module_version": "1.7.3",
      "model_name": "EscherMapModel",
      "state": {
       "_loaded_map_json": "[{\"map_name\": \"\", \"map_id\": \"\", \"map_description\": \"\", \"homepage\": \"\", \"schema\": \"https://escher.github.io/escher/jsonschema/1-0-0#\"}, {\"reactions\": {\"0\": {\"name\": \"GLCpts\", \"bigg_id\": \"GLCpts\", \"reversibility\": true, \"label_x\": 265.0, \"label_y\": 325.0, \"gene_reaction_rule\": \"\", \"genes\": [], \"segments\": {\"0\": {\"from_node_id\": \"4\", \"to_node_id\": \"5\", \"b1\": null, \"b2\": null}, \"1\": {\"from_node_id\": \"6\", \"to_node_id\": \"5\", \"b1\": null, \"b2\": null}, \"2\": {\"from_node_id\": \"0\", \"to_node_id\": \"4\", \"b1\": null, \"b2\": null}, \"3\": {\"from_node_id\": \"1\", \"to_node_id\": \"4\", \"b1\": null, \"b2\": null}, \"4\": {\"from_node_id\": \"2\", \"to_node_id\": \"6\", \"b1\": null, \"b2\": null}, \"5\": {\"from_node_id\": \"3\", \"to_node_id\": \"6\", \"b1\": null, \"b2\": null}}, \"metabolites\": [{\"bigg_id\": \"Glucopyranose_e\", \"coefficient\": -1.0}, {\"bigg_id\": \"PHOSPHO_ENOL_PYRUVATE_c\", \"coefficient\": -1.0}, {\"bigg_id\": \"D_glucopyranose_6_phosphate_c\", \"coefficient\": 1.0}, {\"bigg_id\": \"PYRUVATE_c\", \"coefficient\": 1.0}]}, \"1\": {\"name\": \"G6PDH2r\", \"bigg_id\": \"G6PDH2r\", \"reversibility\": true, \"label_x\": 265.0, \"label_y\": 975.0, \"gene_reaction_rule\": \"\", \"genes\": [], \"segments\": {\"6\": {\"from_node_id\": \"11\", \"to_node_id\": \"12\", \"b1\": null, \"b2\": null}, \"7\": {\"from_node_id\": \"13\", \"to_node_id\": \"12\", \"b1\": null, \"b2\": null}, \"8\": {\"from_node_id\": \"2\", \"to_node_id\": \"11\", \"b1\": null, \"b2\": null}, \"9\": {\"from_node_id\": \"7\", \"to_node_id\": \"11\", \"b1\": null, \"b2\": null}, \"10\": {\"from_node_id\": \"8\", \"to_node_id\": \"13\", \"b1\": null, \"b2\": null}, \"11\": {\"from_node_id\": \"9\", \"to_node_id\": \"13\", \"b1\": null, \"b2\": null}, \"12\": {\"from_node_id\": \"10\", \"to_node_id\": \"13\", \"b1\": null, \"b2\": null}}, \"metabolites\": [{\"bigg_id\": \"D_glucopyranose_6_phosphate_c\", \"coefficient\": -1.0}, {\"bigg_id\": \"NADP_c\", \"coefficient\": -1.0}, {\"bigg_id\": \"D_6_P_GLUCONO_DELTA_LACTONE_c\", \"coefficient\": 1.0}, {\"bigg_id\": \"NADPH_c\", \"coefficient\": 1.0}, {\"bigg_id\": \"PROTON_c\", \"coefficient\": 1.0}]}, \"2\": {\"name\": \"PGL\", \"bigg_id\": \"PGL\", \"reversibility\": true, \"label_x\": 265.0, \"label_y\": 1625.0, \"gene_reaction_rule\": \"\", \"genes\": [], \"segments\": {\"13\": {\"from_node_id\": \"17\", \"to_node_id\": \"18\", \"b1\": null, \"b2\": null}, \"14\": {\"from_node_id\": \"19\", \"to_node_id\": \"18\", \"b1\": null, \"b2\": null}, \"15\": {\"from_node_id\": \"14\", \"to_node_id\": \"17\", \"b1\": null, \"b2\": null}, \"16\": {\"from_node_id\": \"8\", \"to_node_id\": \"17\", \"b1\": null, \"b2\": null}, \"17\": {\"from_node_id\": \"15\", \"to_node_id\": \"19\", \"b1\": null, \"b2\": null}, \"18\": {\"from_node_id\": \"16\", \"to_node_id\": \"19\", \"b1\": null, \"b2\": null}}, \"metabolites\": [{\"bigg_id\": \"CPD_15815_c\", \"coefficient\": -1.0}, {\"bigg_id\": \"D_6_P_GLUCONO_DELTA_LACTONE_c\", \"coefficient\": -1.0}, {\"bigg_id\": \"CPD_2961_c\", \"coefficient\": 1.0}, {\"bigg_id\": \"PROTON_c\", \"coefficient\": 1.0}]}, \"3\": {\"name\": \"GND\", \"bigg_id\": \"GND\", \"reversibility\": true, \"label_x\": 265.0, \"label_y\": 2275.0, \"gene_reaction_rule\": \"\", \"genes\": [], \"segments\": {\"19\": {\"from_node_id\": \"24\", \"to_node_id\": \"25\", \"b1\": null, \"b2\": null}, \"20\": {\"from_node_id\": \"26\", \"to_node_id\": \"25\", \"b1\": null, \"b2\": null}, \"21\": {\"from_node_id\": \"15\", \"to_node_id\": \"24\", \"b1\": null, \"b2\": null}, \"22\": {\"from_node_id\": \"20\", \"to_node_id\": \"24\", \"b1\": null, \"b2\": null}, \"23\": {\"from_node_id\": \"21\", \"to_node_id\": \"26\", \"b1\": null, \"b2\": null}, \"24\": {\"from_node_id\": \"22\", \"to_node_id\": \"26\", \"b1\": null, \"b2\": null}, \"25\": {\"from_node_id\": \"23\", \"to_node_id\": \"26\", \"b1\": null, \"b2\": null}}, \"metabolites\": [{\"bigg_id\": \"CPD_2961_c\", \"coefficient\": -1.0}, {\"bigg_id\": \"NADP_c\", \"coefficient\": -1.0}, {\"bigg_id\": \"CARBON_DIOXIDE_c\", \"coefficient\": 1.0}, {\"bigg_id\": \"NADPH_c\", \"coefficient\": 1.0}, {\"bigg_id\": \"RIBULOSE_5P_c\", \"coefficient\": 1.0}]}}, \"nodes\": {\"0\": {\"node_type\": \"metabolite\", \"x\": 150.0, \"y\": 30.0, \"label_x\": 160.0, \"label_y\": 20.0, \"bigg_id\": \"Glucopyranose_e\", \"name\": \"Glucopyranose_e\", \"node_is_primary\": false}, \"1\": {\"node_type\": \"metabolite\", \"x\": 300.0, \"y\": 30.0, \"label_x\": 310.0, \"label_y\": 20.0, \"bigg_id\": \"PHOSPHO_ENOL_PYRUVATE_c\", \"name\": \"PHOSPHO_ENOL_PYRUVATE_c\", \"node_is_primary\": false}, \"2\": {\"node_type\": \"metabolite\", \"x\": 150.0, \"y\": 550.0, \"label_x\": 160.0, \"label_y\": 580.0, \"bigg_id\": \"D_glucopyranose_6_phosphate_c\", \"name\": \"D_glucopyranose_6_phosphate_c\", \"node_is_primary\": false}, \"3\": {\"node_type\": \"metabolite\", \"x\": 300.0, \"y\": 550.0, \"label_x\": 310.0, \"label_y\": 580.0, \"bigg_id\": \"PYRUVATE_c\", \"name\": \"PYRUVATE_c\", \"node_is_primary\": false}, \"4\": {\"node_type\": \"multimarker\", \"x\": 225.0, \"y\": 305.0}, \"5\": {\"node_type\": \"midmarker\", \"x\": 225.0, \"y\": 325.0}, \"6\": {\"node_type\": \"multimarker\", \"x\": 225.0, \"y\": 345.0}, \"7\": {\"node_type\": \"metabolite\", \"x\": 300.0, \"y\": 680.0, \"label_x\": 310.0, \"label_y\": 670.0, \"bigg_id\": \"NADP_c\", \"name\": \"NADP_c\", \"node_is_primary\": false}, \"8\": {\"node_type\": \"metabolite\", \"x\": 112.5, \"y\": 1200.0, \"label_x\": 122.5, \"label_y\": 1230.0, \"bigg_id\": \"D_6_P_GLUCONO_DELTA_LACTONE_c\", \"name\": \"D_6_P_GLUCONO_DELTA_LACTONE_c\", \"node_is_primary\": false}, \"9\": {\"node_type\": \"metabolite\", \"x\": 225.0, \"y\": 1200.0, \"label_x\": 235.0, \"label_y\": 1230.0, \"bigg_id\": \"NADPH_c\", \"name\": \"NADPH_c\", \"node_is_primary\": false}, \"10\": {\"node_type\": \"metabolite\", \"x\": 337.5, \"y\": 1200.0, \"label_x\": 347.5, \"label_y\": 1230.0, \"bigg_id\": \"PROTON_c\", \"name\": \"PROTON_c\", \"node_is_primary\": false}, \"11\": {\"node_type\": \"multimarker\", \"x\": 225.0, \"y\": 955.0}, \"12\": {\"node_type\": \"midmarker\", \"x\": 225.0, \"y\": 975.0}, \"13\": {\"node_type\": \"multimarker\", \"x\": 225.0, \"y\": 995.0}, \"14\": {\"node_type\": \"metabolite\", \"x\": 150.0, \"y\": 1330.0, \"label_x\": 160.0, \"label_y\": 1320.0, \"bigg_id\": \"CPD_15815_c\", \"name\": \"CPD_15815_c\", \"node_is_primary\": false}, \"15\": {\"node_type\": \"metabolite\", \"x\": 150.0, \"y\": 1850.0, \"label_x\": 160.0, \"label_y\": 1880.0, \"bigg_id\": \"CPD_2961_c\", \"name\": \"CPD_2961_c\", \"node_is_primary\": false}, \"16\": {\"node_type\": \"metabolite\", \"x\": 300.0, \"y\": 1850.0, \"label_x\": 310.0, \"label_y\": 1880.0, \"bigg_id\": \"PROTON_c\", \"name\": \"PROTON_c\", \"node_is_primary\": false}, \"17\": {\"node_type\": \"multimarker\", \"x\": 225.0, \"y\": 1605.0}, \"18\": {\"node_type\": \"midmarker\", \"x\": 225.0, \"y\": 1625.0}, \"19\": {\"node_type\": \"multimarker\", \"x\": 225.0, \"y\": 1645.0}, \"20\": {\"node_type\": \"metabolite\", \"x\": 300.0, \"y\": 1980.0, \"label_x\": 310.0, \"label_y\": 1970.0, \"bigg_id\": \"NADP_c\", \"name\": \"NADP_c\", \"node_is_primary\": false}, \"21\": {\"node_type\": \"metabolite\", \"x\": 112.5, \"y\": 2500.0, \"label_x\": 122.5, \"label_y\": 2530.0, \"bigg_id\": \"CARBON_DIOXIDE_c\", \"name\": \"CARBON_DIOXIDE_c\", \"node_is_primary\": false}, \"22\": {\"node_type\": \"metabolite\", \"x\": 225.0, \"y\": 2500.0, \"label_x\": 235.0, \"label_y\": 2530.0, \"bigg_id\": \"NADPH_c\", \"name\": \"NADPH_c\", \"node_is_primary\": false}, \"23\": {\"node_type\": \"metabolite\", \"x\": 337.5, \"y\": 2500.0, \"label_x\": 347.5, \"label_y\": 2530.0, \"bigg_id\": \"RIBULOSE_5P_c\", \"name\": \"RIBULOSE_5P_c\", \"node_is_primary\": false}, \"24\": {\"node_type\": \"multimarker\", \"x\": 225.0, \"y\": 2255.0}, \"25\": {\"node_type\": \"midmarker\", \"x\": 225.0, \"y\": 2275.0}, \"26\": {\"node_type\": \"multimarker\", \"x\": 225.0, \"y\": 2295.0}}, \"text_labels\": {}, \"canvas\": {\"x\": 0, \"y\": 0, \"width\": 450, \"height\": 2600}}]",
       "_loaded_model_json": null,
       "allow_building_duplicate_reactions": false,
       "and_method_in_gene_reaction_rule": "mean",
       "canvas_size_and_loc": null,
       "cofactors": [
        "atp",
        "adp",
        "nad",
        "nadh",
        "nadp",
        "nadph",
        "gtp",
        "gdp",
        "h",
        "coa",
        "ump",
        "h2o",
        "ppi"
       ],
       "disabled_buttons": [
        "Clear gene data",
        "Clear metabolite data"
       ],
       "embedded_css": null,
       "enable_editing": true,
       "enable_keys": false,
       "enable_keys_with_tooltip": true,
       "enable_search": true,
       "enable_tooltips": false,
       "full_screen_button": {
        "enable_editing": true,
        "enable_keys": true,
        "enable_tooltips": [
         "label"
        ],
        "menu": "all",
        "scroll_behavior": "pan"
       },
       "gene_data": null,
       "gene_font_size": 18,
       "height": 500,
       "hide_all_labels": false,
       "hide_secondary_metabolites": false,
       "highlight_missing": false,
       "identifiers_on_map": "bigg_id",
       "layout": "IPY_MODEL_0f72df7055df43a7ac551850fc87aa17",
       "marker_radius": 5,
       "menu": "all",
       "metabolite_compare_style": "log2_fold",
       "metabolite_data": null,
       "metabolite_no_data_color": "#ffffff",
       "metabolite_no_data_size": 10,
       "metabolite_scale": [
        {
         "color": "#fffaf0",
         "size": 20,
         "type": "min"
        },
        {
         "color": "#f1c470",
         "size": 30,
         "type": "median"
        },
        {
         "color": "#800000",
         "size": 40,
         "type": "max"
        }
       ],
       "metabolite_scale_preset": "WhYlRd",
       "metabolite_styles": [
        "color",
        "size",
        "text"
       ],
       "never_ask_before_quit": true,
       "primary_metabolite_radius": 20,
       "reaction_compare_style": "log2_fold",
       "reaction_data": {
        "G6PDH2r": -2,
        "GLCpts": -2,
        "GND": 1,
        "Other": 1000,
        "PGL": 0.4
       },
       "reaction_no_data_color": "#dcdcdc",
       "reaction_no_data_size": 8,
       "reaction_scale": [
        {
         "color": "rgb(191,215,230)",
         "type": "value",
         "value": 0.4
        },
        {
         "color": "rgb(163,210,240)",
         "type": "value",
         "value": 1
        },
        {
         "color": "rgb(135,205,250)",
         "type": "value",
         "value": 1000
        },
        {
         "color": "rgb(220,220,220)",
         "type": "value",
         "value": 0
        },
        {
         "color": "rgb(237,192,110)",
         "type": "value",
         "value": -2
        },
        {
         "color": "rgb(255,165,0)",
         "type": "value",
         "value": -2
        }
       ],
       "reaction_scale_preset": null,
       "reaction_styles": [
        "color",
        "text"
       ],
       "scroll_behavior": "none",
       "secondary_metabolite_radius": 10,
       "semantic_zoom": null,
       "show_gene_reaction_rules": false,
       "starting_reaction": null,
       "use_3d_transform": false,
       "zoom_to_element": null
      }
     },
     "6bc7b5a056e24f1b9a70d5b849a725b0": {
      "model_module": "escher",
      "model_module_version": "1.7.3",
      "model_name": "EscherMapModel",
      "state": {
       "_loaded_map_json": "[{\"map_name\": \"\", \"map_id\": \"\", \"map_description\": \"\", \"homepage\": \"\", \"schema\": \"https://escher.github.io/escher/jsonschema/1-0-0#\"}, {\"reactions\": {\"0\": {\"name\": \"GLCpts\", \"bigg_id\": \"GLCpts\", \"reversibility\": true, \"label_x\": 265.0, \"label_y\": 325.0, \"gene_reaction_rule\": \"\", \"genes\": [], \"segments\": {\"0\": {\"from_node_id\": \"4\", \"to_node_id\": \"5\", \"b1\": null, \"b2\": null}, \"1\": {\"from_node_id\": \"6\", \"to_node_id\": \"5\", \"b1\": null, \"b2\": null}, \"2\": {\"from_node_id\": \"0\", \"to_node_id\": \"4\", \"b1\": null, \"b2\": null}, \"3\": {\"from_node_id\": \"1\", \"to_node_id\": \"4\", \"b1\": null, \"b2\": null}, \"4\": {\"from_node_id\": \"2\", \"to_node_id\": \"6\", \"b1\": null, \"b2\": null}, \"5\": {\"from_node_id\": \"3\", \"to_node_id\": \"6\", \"b1\": null, \"b2\": null}}, \"metabolites\": [{\"bigg_id\": \"Glucopyranose_e\", \"coefficient\": -1.0}, {\"bigg_id\": \"PHOSPHO_ENOL_PYRUVATE_c\", \"coefficient\": -1.0}, {\"bigg_id\": \"D_glucopyranose_6_phosphate_c\", \"coefficient\": 1.0}, {\"bigg_id\": \"PYRUVATE_c\", \"coefficient\": 1.0}]}, \"1\": {\"name\": \"G6PDH2r\", \"bigg_id\": \"G6PDH2r\", \"reversibility\": true, \"label_x\": 265.0, \"label_y\": 975.0, \"gene_reaction_rule\": \"\", \"genes\": [], \"segments\": {\"6\": {\"from_node_id\": \"11\", \"to_node_id\": \"12\", \"b1\": null, \"b2\": null}, \"7\": {\"from_node_id\": \"13\", \"to_node_id\": \"12\", \"b1\": null, \"b2\": null}, \"8\": {\"from_node_id\": \"2\", \"to_node_id\": \"11\", \"b1\": null, \"b2\": null}, \"9\": {\"from_node_id\": \"7\", \"to_node_id\": \"11\", \"b1\": null, \"b2\": null}, \"10\": {\"from_node_id\": \"8\", \"to_node_id\": \"13\", \"b1\": null, \"b2\": null}, \"11\": {\"from_node_id\": \"9\", \"to_node_id\": \"13\", \"b1\": null, \"b2\": null}, \"12\": {\"from_node_id\": \"10\", \"to_node_id\": \"13\", \"b1\": null, \"b2\": null}}, \"metabolites\": [{\"bigg_id\": \"D_glucopyranose_6_phosphate_c\", \"coefficient\": -1.0}, {\"bigg_id\": \"NADP_c\", \"coefficient\": -1.0}, {\"bigg_id\": \"D_6_P_GLUCONO_DELTA_LACTONE_c\", \"coefficient\": 1.0}, {\"bigg_id\": \"NADPH_c\", \"coefficient\": 1.0}, {\"bigg_id\": \"PROTON_c\", \"coefficient\": 1.0}]}, \"2\": {\"name\": \"PGL\", \"bigg_id\": \"PGL\", \"reversibility\": true, \"label_x\": 265.0, \"label_y\": 1625.0, \"gene_reaction_rule\": \"\", \"genes\": [], \"segments\": {\"13\": {\"from_node_id\": \"17\", \"to_node_id\": \"18\", \"b1\": null, \"b2\": null}, \"14\": {\"from_node_id\": \"19\", \"to_node_id\": \"18\", \"b1\": null, \"b2\": null}, \"15\": {\"from_node_id\": \"14\", \"to_node_id\": \"17\", \"b1\": null, \"b2\": null}, \"16\": {\"from_node_id\": \"8\", \"to_node_id\": \"17\", \"b1\": null, \"b2\": null}, \"17\": {\"from_node_id\": \"15\", \"to_node_id\": \"19\", \"b1\": null, \"b2\": null}, \"18\": {\"from_node_id\": \"16\", \"to_node_id\": \"19\", \"b1\": null, \"b2\": null}}, \"metabolites\": [{\"bigg_id\": \"CPD_15815_c\", \"coefficient\": -1.0}, {\"bigg_id\": \"D_6_P_GLUCONO_DELTA_LACTONE_c\", \"coefficient\": -1.0}, {\"bigg_id\": \"CPD_2961_c\", \"coefficient\": 1.0}, {\"bigg_id\": \"PROTON_c\", \"coefficient\": 1.0}]}, \"3\": {\"name\": \"GND\", \"bigg_id\": \"GND\", \"reversibility\": true, \"label_x\": 265.0, \"label_y\": 2275.0, \"gene_reaction_rule\": \"\", \"genes\": [], \"segments\": {\"19\": {\"from_node_id\": \"24\", \"to_node_id\": \"25\", \"b1\": null, \"b2\": null}, \"20\": {\"from_node_id\": \"26\", \"to_node_id\": \"25\", \"b1\": null, \"b2\": null}, \"21\": {\"from_node_id\": \"15\", \"to_node_id\": \"24\", \"b1\": null, \"b2\": null}, \"22\": {\"from_node_id\": \"20\", \"to_node_id\": \"24\", \"b1\": null, \"b2\": null}, \"23\": {\"from_node_id\": \"21\", \"to_node_id\": \"26\", \"b1\": null, \"b2\": null}, \"24\": {\"from_node_id\": \"22\", \"to_node_id\": \"26\", \"b1\": null, \"b2\": null}, \"25\": {\"from_node_id\": \"23\", \"to_node_id\": \"26\", \"b1\": null, \"b2\": null}}, \"metabolites\": [{\"bigg_id\": \"CPD_2961_c\", \"coefficient\": -1.0}, {\"bigg_id\": \"NADP_c\", \"coefficient\": -1.0}, {\"bigg_id\": \"CARBON_DIOXIDE_c\", \"coefficient\": 1.0}, {\"bigg_id\": \"NADPH_c\", \"coefficient\": 1.0}, {\"bigg_id\": \"RIBULOSE_5P_c\", \"coefficient\": 1.0}]}}, \"nodes\": {\"0\": {\"node_type\": \"metabolite\", \"x\": 150.0, \"y\": 30.0, \"label_x\": 160.0, \"label_y\": 20.0, \"bigg_id\": \"Glucopyranose_e\", \"name\": \"Glucopyranose_e\", \"node_is_primary\": false}, \"1\": {\"node_type\": \"metabolite\", \"x\": 300.0, \"y\": 30.0, \"label_x\": 310.0, \"label_y\": 20.0, \"bigg_id\": \"PHOSPHO_ENOL_PYRUVATE_c\", \"name\": \"PHOSPHO_ENOL_PYRUVATE_c\", \"node_is_primary\": false}, \"2\": {\"node_type\": \"metabolite\", \"x\": 150.0, \"y\": 550.0, \"label_x\": 160.0, \"label_y\": 580.0, \"bigg_id\": \"D_glucopyranose_6_phosphate_c\", \"name\": \"D_glucopyranose_6_phosphate_c\", \"node_is_primary\": false}, \"3\": {\"node_type\": \"metabolite\", \"x\": 300.0, \"y\": 550.0, \"label_x\": 310.0, \"label_y\": 580.0, \"bigg_id\": \"PYRUVATE_c\", \"name\": \"PYRUVATE_c\", \"node_is_primary\": false}, \"4\": {\"node_type\": \"multimarker\", \"x\": 225.0, \"y\": 305.0}, \"5\": {\"node_type\": \"midmarker\", \"x\": 225.0, \"y\": 325.0}, \"6\": {\"node_type\": \"multimarker\", \"x\": 225.0, \"y\": 345.0}, \"7\": {\"node_type\": \"metabolite\", \"x\": 300.0, \"y\": 680.0, \"label_x\": 310.0, \"label_y\": 670.0, \"bigg_id\": \"NADP_c\", \"name\": \"NADP_c\", \"node_is_primary\": false}, \"8\": {\"node_type\": \"metabolite\", \"x\": 112.5, \"y\": 1200.0, \"label_x\": 122.5, \"label_y\": 1230.0, \"bigg_id\": \"D_6_P_GLUCONO_DELTA_LACTONE_c\", \"name\": \"D_6_P_GLUCONO_DELTA_LACTONE_c\", \"node_is_primary\": false}, \"9\": {\"node_type\": \"metabolite\", \"x\": 225.0, \"y\": 1200.0, \"label_x\": 235.0, \"label_y\": 1230.0, \"bigg_id\": \"NADPH_c\", \"name\": \"NADPH_c\", \"node_is_primary\": false}, \"10\": {\"node_type\": \"metabolite\", \"x\": 337.5, \"y\": 1200.0, \"label_x\": 347.5, \"label_y\": 1230.0, \"bigg_id\": \"PROTON_c\", \"name\": \"PROTON_c\", \"node_is_primary\": false}, \"11\": {\"node_type\": \"multimarker\", \"x\": 225.0, \"y\": 955.0}, \"12\": {\"node_type\": \"midmarker\", \"x\": 225.0, \"y\": 975.0}, \"13\": {\"node_type\": \"multimarker\", \"x\": 225.0, \"y\": 995.0}, \"14\": {\"node_type\": \"metabolite\", \"x\": 150.0, \"y\": 1330.0, \"label_x\": 160.0, \"label_y\": 1320.0, \"bigg_id\": \"CPD_15815_c\", \"name\": \"CPD_15815_c\", \"node_is_primary\": false}, \"15\": {\"node_type\": \"metabolite\", \"x\": 150.0, \"y\": 1850.0, \"label_x\": 160.0, \"label_y\": 1880.0, \"bigg_id\": \"CPD_2961_c\", \"name\": \"CPD_2961_c\", \"node_is_primary\": false}, \"16\": {\"node_type\": \"metabolite\", \"x\": 300.0, \"y\": 1850.0, \"label_x\": 310.0, \"label_y\": 1880.0, \"bigg_id\": \"PROTON_c\", \"name\": \"PROTON_c\", \"node_is_primary\": false}, \"17\": {\"node_type\": \"multimarker\", \"x\": 225.0, \"y\": 1605.0}, \"18\": {\"node_type\": \"midmarker\", \"x\": 225.0, \"y\": 1625.0}, \"19\": {\"node_type\": \"multimarker\", \"x\": 225.0, \"y\": 1645.0}, \"20\": {\"node_type\": \"metabolite\", \"x\": 300.0, \"y\": 1980.0, \"label_x\": 310.0, \"label_y\": 1970.0, \"bigg_id\": \"NADP_c\", \"name\": \"NADP_c\", \"node_is_primary\": false}, \"21\": {\"node_type\": \"metabolite\", \"x\": 112.5, \"y\": 2500.0, \"label_x\": 122.5, \"label_y\": 2530.0, \"bigg_id\": \"CARBON_DIOXIDE_c\", \"name\": \"CARBON_DIOXIDE_c\", \"node_is_primary\": false}, \"22\": {\"node_type\": \"metabolite\", \"x\": 225.0, \"y\": 2500.0, \"label_x\": 235.0, \"label_y\": 2530.0, \"bigg_id\": \"NADPH_c\", \"name\": \"NADPH_c\", \"node_is_primary\": false}, \"23\": {\"node_type\": \"metabolite\", \"x\": 337.5, \"y\": 2500.0, \"label_x\": 347.5, \"label_y\": 2530.0, \"bigg_id\": \"RIBULOSE_5P_c\", \"name\": \"RIBULOSE_5P_c\", \"node_is_primary\": false}, \"24\": {\"node_type\": \"multimarker\", \"x\": 225.0, \"y\": 2255.0}, \"25\": {\"node_type\": \"midmarker\", \"x\": 225.0, \"y\": 2275.0}, \"26\": {\"node_type\": \"multimarker\", \"x\": 225.0, \"y\": 2295.0}}, \"text_labels\": {}, \"canvas\": {\"x\": 0, \"y\": 0, \"width\": 450, \"height\": 2600}}]",
       "_loaded_model_json": null,
       "allow_building_duplicate_reactions": false,
       "and_method_in_gene_reaction_rule": "mean",
       "canvas_size_and_loc": null,
       "cofactors": [
        "atp",
        "adp",
        "nad",
        "nadh",
        "nadp",
        "nadph",
        "gtp",
        "gdp",
        "h",
        "coa",
        "ump",
        "h2o",
        "ppi"
       ],
       "disabled_buttons": [
        "Clear gene data",
        "Clear metabolite data"
       ],
       "embedded_css": null,
       "enable_editing": true,
       "enable_keys": false,
       "enable_keys_with_tooltip": true,
       "enable_search": true,
       "enable_tooltips": false,
       "full_screen_button": {
        "enable_editing": true,
        "enable_keys": true,
        "enable_tooltips": [
         "label"
        ],
        "menu": "all",
        "scroll_behavior": "pan"
       },
       "gene_data": null,
       "gene_font_size": 18,
       "height": 500,
       "hide_all_labels": false,
       "hide_secondary_metabolites": false,
       "highlight_missing": false,
       "identifiers_on_map": "bigg_id",
       "layout": "IPY_MODEL_d426d1690434406e962692ab3cd64eb8",
       "marker_radius": 5,
       "menu": "all",
       "metabolite_compare_style": "log2_fold",
       "metabolite_data": null,
       "metabolite_no_data_color": "#ffffff",
       "metabolite_no_data_size": 10,
       "metabolite_scale": [
        {
         "color": "#fffaf0",
         "size": 20,
         "type": "min"
        },
        {
         "color": "#f1c470",
         "size": 30,
         "type": "median"
        },
        {
         "color": "#800000",
         "size": 40,
         "type": "max"
        }
       ],
       "metabolite_scale_preset": "WhYlRd",
       "metabolite_styles": [
        "color",
        "size",
        "text"
       ],
       "never_ask_before_quit": true,
       "primary_metabolite_radius": 20,
       "reaction_compare_style": "log2_fold",
       "reaction_data": {
        "G6PDH2r": -2,
        "GLCpts": -2,
        "GND": 1,
        "Other": 1000,
        "PGL": 0.4
       },
       "reaction_no_data_color": "#dcdcdc",
       "reaction_no_data_size": 8,
       "reaction_scale": [
        {
         "color": "rgb(191,215,230)",
         "type": "value",
         "value": 0.4
        },
        {
         "color": "rgb(163,210,240)",
         "type": "value",
         "value": 1
        },
        {
         "color": "rgb(135,205,250)",
         "type": "value",
         "value": 1000
        },
        {
         "color": "rgb(220,220,220)",
         "type": "value",
         "value": 0
        },
        {
         "color": "rgb(237,192,110)",
         "type": "value",
         "value": -2
        },
        {
         "color": "rgb(255,165,0)",
         "type": "value",
         "value": -2
        }
       ],
       "reaction_scale_preset": null,
       "reaction_styles": [
        "color",
        "text"
       ],
       "scroll_behavior": "none",
       "secondary_metabolite_radius": 10,
       "semantic_zoom": null,
       "show_gene_reaction_rules": false,
       "starting_reaction": null,
       "use_3d_transform": false,
       "zoom_to_element": null
      }
     },
     "6dd46014013a4ed4a9e4ab25dde5868b": {
      "model_module": "@jupyter-widgets/base",
      "model_module_version": "1.2.0",
      "model_name": "LayoutModel",
      "state": {}
     },
     "746bcd44546841a7aebeea5c3226cea1": {
      "model_module": "escher",
      "model_module_version": "1.7.3",
      "model_name": "EscherMapModel",
      "state": {
       "_loaded_map_json": "[{\"map_name\": \"\", \"map_id\": \"\", \"map_description\": \"\", \"homepage\": \"\", \"schema\": \"https://escher.github.io/escher/jsonschema/1-0-0#\"}, {\"reactions\": {\"0\": {\"name\": \"GLCpts\", \"bigg_id\": \"GLCpts\", \"reversibility\": true, \"label_x\": 265.0, \"label_y\": 325.0, \"gene_reaction_rule\": \"\", \"genes\": [], \"segments\": {\"0\": {\"from_node_id\": \"4\", \"to_node_id\": \"5\", \"b1\": null, \"b2\": null}, \"1\": {\"from_node_id\": \"6\", \"to_node_id\": \"5\", \"b1\": null, \"b2\": null}, \"2\": {\"from_node_id\": \"0\", \"to_node_id\": \"4\", \"b1\": null, \"b2\": null}, \"3\": {\"from_node_id\": \"1\", \"to_node_id\": \"4\", \"b1\": null, \"b2\": null}, \"4\": {\"from_node_id\": \"2\", \"to_node_id\": \"6\", \"b1\": null, \"b2\": null}, \"5\": {\"from_node_id\": \"3\", \"to_node_id\": \"6\", \"b1\": null, \"b2\": null}}, \"metabolites\": [{\"bigg_id\": \"Glucopyranose_e\", \"coefficient\": -1.0}, {\"bigg_id\": \"PHOSPHO_ENOL_PYRUVATE_c\", \"coefficient\": -1.0}, {\"bigg_id\": \"D_glucopyranose_6_phosphate_c\", \"coefficient\": 1.0}, {\"bigg_id\": \"PYRUVATE_c\", \"coefficient\": 1.0}]}, \"1\": {\"name\": \"G6PDH2r\", \"bigg_id\": \"G6PDH2r\", \"reversibility\": true, \"label_x\": 265.0, \"label_y\": 975.0, \"gene_reaction_rule\": \"\", \"genes\": [], \"segments\": {\"6\": {\"from_node_id\": \"11\", \"to_node_id\": \"12\", \"b1\": null, \"b2\": null}, \"7\": {\"from_node_id\": \"13\", \"to_node_id\": \"12\", \"b1\": null, \"b2\": null}, \"8\": {\"from_node_id\": \"2\", \"to_node_id\": \"11\", \"b1\": null, \"b2\": null}, \"9\": {\"from_node_id\": \"7\", \"to_node_id\": \"11\", \"b1\": null, \"b2\": null}, \"10\": {\"from_node_id\": \"8\", \"to_node_id\": \"13\", \"b1\": null, \"b2\": null}, \"11\": {\"from_node_id\": \"9\", \"to_node_id\": \"13\", \"b1\": null, \"b2\": null}, \"12\": {\"from_node_id\": \"10\", \"to_node_id\": \"13\", \"b1\": null, \"b2\": null}}, \"metabolites\": [{\"bigg_id\": \"D_glucopyranose_6_phosphate_c\", \"coefficient\": -1.0}, {\"bigg_id\": \"NADP_c\", \"coefficient\": -1.0}, {\"bigg_id\": \"D_6_P_GLUCONO_DELTA_LACTONE_c\", \"coefficient\": 1.0}, {\"bigg_id\": \"NADPH_c\", \"coefficient\": 1.0}, {\"bigg_id\": \"PROTON_c\", \"coefficient\": 1.0}]}, \"2\": {\"name\": \"PGL\", \"bigg_id\": \"PGL\", \"reversibility\": true, \"label_x\": 265.0, \"label_y\": 1625.0, \"gene_reaction_rule\": \"\", \"genes\": [], \"segments\": {\"13\": {\"from_node_id\": \"17\", \"to_node_id\": \"18\", \"b1\": null, \"b2\": null}, \"14\": {\"from_node_id\": \"19\", \"to_node_id\": \"18\", \"b1\": null, \"b2\": null}, \"15\": {\"from_node_id\": \"14\", \"to_node_id\": \"17\", \"b1\": null, \"b2\": null}, \"16\": {\"from_node_id\": \"8\", \"to_node_id\": \"17\", \"b1\": null, \"b2\": null}, \"17\": {\"from_node_id\": \"15\", \"to_node_id\": \"19\", \"b1\": null, \"b2\": null}, \"18\": {\"from_node_id\": \"16\", \"to_node_id\": \"19\", \"b1\": null, \"b2\": null}}, \"metabolites\": [{\"bigg_id\": \"CPD_15815_c\", \"coefficient\": -1.0}, {\"bigg_id\": \"D_6_P_GLUCONO_DELTA_LACTONE_c\", \"coefficient\": -1.0}, {\"bigg_id\": \"CPD_2961_c\", \"coefficient\": 1.0}, {\"bigg_id\": \"PROTON_c\", \"coefficient\": 1.0}]}, \"3\": {\"name\": \"GND\", \"bigg_id\": \"GND\", \"reversibility\": true, \"label_x\": 265.0, \"label_y\": 2275.0, \"gene_reaction_rule\": \"\", \"genes\": [], \"segments\": {\"19\": {\"from_node_id\": \"24\", \"to_node_id\": \"25\", \"b1\": null, \"b2\": null}, \"20\": {\"from_node_id\": \"26\", \"to_node_id\": \"25\", \"b1\": null, \"b2\": null}, \"21\": {\"from_node_id\": \"15\", \"to_node_id\": \"24\", \"b1\": null, \"b2\": null}, \"22\": {\"from_node_id\": \"20\", \"to_node_id\": \"24\", \"b1\": null, \"b2\": null}, \"23\": {\"from_node_id\": \"21\", \"to_node_id\": \"26\", \"b1\": null, \"b2\": null}, \"24\": {\"from_node_id\": \"22\", \"to_node_id\": \"26\", \"b1\": null, \"b2\": null}, \"25\": {\"from_node_id\": \"23\", \"to_node_id\": \"26\", \"b1\": null, \"b2\": null}}, \"metabolites\": [{\"bigg_id\": \"CPD_2961_c\", \"coefficient\": -1.0}, {\"bigg_id\": \"NADP_c\", \"coefficient\": -1.0}, {\"bigg_id\": \"CARBON_DIOXIDE_c\", \"coefficient\": 1.0}, {\"bigg_id\": \"NADPH_c\", \"coefficient\": 1.0}, {\"bigg_id\": \"RIBULOSE_5P_c\", \"coefficient\": 1.0}]}}, \"nodes\": {\"0\": {\"node_type\": \"metabolite\", \"x\": 150.0, \"y\": 30.0, \"label_x\": 160.0, \"label_y\": 20.0, \"bigg_id\": \"Glucopyranose_e\", \"name\": \"Glucopyranose_e\", \"node_is_primary\": false}, \"1\": {\"node_type\": \"metabolite\", \"x\": 300.0, \"y\": 30.0, \"label_x\": 310.0, \"label_y\": 20.0, \"bigg_id\": \"PHOSPHO_ENOL_PYRUVATE_c\", \"name\": \"PHOSPHO_ENOL_PYRUVATE_c\", \"node_is_primary\": false}, \"2\": {\"node_type\": \"metabolite\", \"x\": 150.0, \"y\": 550.0, \"label_x\": 160.0, \"label_y\": 580.0, \"bigg_id\": \"D_glucopyranose_6_phosphate_c\", \"name\": \"D_glucopyranose_6_phosphate_c\", \"node_is_primary\": false}, \"3\": {\"node_type\": \"metabolite\", \"x\": 300.0, \"y\": 550.0, \"label_x\": 310.0, \"label_y\": 580.0, \"bigg_id\": \"PYRUVATE_c\", \"name\": \"PYRUVATE_c\", \"node_is_primary\": false}, \"4\": {\"node_type\": \"multimarker\", \"x\": 225.0, \"y\": 305.0}, \"5\": {\"node_type\": \"midmarker\", \"x\": 225.0, \"y\": 325.0}, \"6\": {\"node_type\": \"multimarker\", \"x\": 225.0, \"y\": 345.0}, \"7\": {\"node_type\": \"metabolite\", \"x\": 300.0, \"y\": 680.0, \"label_x\": 310.0, \"label_y\": 670.0, \"bigg_id\": \"NADP_c\", \"name\": \"NADP_c\", \"node_is_primary\": false}, \"8\": {\"node_type\": \"metabolite\", \"x\": 112.5, \"y\": 1200.0, \"label_x\": 122.5, \"label_y\": 1230.0, \"bigg_id\": \"D_6_P_GLUCONO_DELTA_LACTONE_c\", \"name\": \"D_6_P_GLUCONO_DELTA_LACTONE_c\", \"node_is_primary\": false}, \"9\": {\"node_type\": \"metabolite\", \"x\": 225.0, \"y\": 1200.0, \"label_x\": 235.0, \"label_y\": 1230.0, \"bigg_id\": \"NADPH_c\", \"name\": \"NADPH_c\", \"node_is_primary\": false}, \"10\": {\"node_type\": \"metabolite\", \"x\": 337.5, \"y\": 1200.0, \"label_x\": 347.5, \"label_y\": 1230.0, \"bigg_id\": \"PROTON_c\", \"name\": \"PROTON_c\", \"node_is_primary\": false}, \"11\": {\"node_type\": \"multimarker\", \"x\": 225.0, \"y\": 955.0}, \"12\": {\"node_type\": \"midmarker\", \"x\": 225.0, \"y\": 975.0}, \"13\": {\"node_type\": \"multimarker\", \"x\": 225.0, \"y\": 995.0}, \"14\": {\"node_type\": \"metabolite\", \"x\": 150.0, \"y\": 1330.0, \"label_x\": 160.0, \"label_y\": 1320.0, \"bigg_id\": \"CPD_15815_c\", \"name\": \"CPD_15815_c\", \"node_is_primary\": false}, \"15\": {\"node_type\": \"metabolite\", \"x\": 150.0, \"y\": 1850.0, \"label_x\": 160.0, \"label_y\": 1880.0, \"bigg_id\": \"CPD_2961_c\", \"name\": \"CPD_2961_c\", \"node_is_primary\": false}, \"16\": {\"node_type\": \"metabolite\", \"x\": 300.0, \"y\": 1850.0, \"label_x\": 310.0, \"label_y\": 1880.0, \"bigg_id\": \"PROTON_c\", \"name\": \"PROTON_c\", \"node_is_primary\": false}, \"17\": {\"node_type\": \"multimarker\", \"x\": 225.0, \"y\": 1605.0}, \"18\": {\"node_type\": \"midmarker\", \"x\": 225.0, \"y\": 1625.0}, \"19\": {\"node_type\": \"multimarker\", \"x\": 225.0, \"y\": 1645.0}, \"20\": {\"node_type\": \"metabolite\", \"x\": 300.0, \"y\": 1980.0, \"label_x\": 310.0, \"label_y\": 1970.0, \"bigg_id\": \"NADP_c\", \"name\": \"NADP_c\", \"node_is_primary\": false}, \"21\": {\"node_type\": \"metabolite\", \"x\": 112.5, \"y\": 2500.0, \"label_x\": 122.5, \"label_y\": 2530.0, \"bigg_id\": \"CARBON_DIOXIDE_c\", \"name\": \"CARBON_DIOXIDE_c\", \"node_is_primary\": false}, \"22\": {\"node_type\": \"metabolite\", \"x\": 225.0, \"y\": 2500.0, \"label_x\": 235.0, \"label_y\": 2530.0, \"bigg_id\": \"NADPH_c\", \"name\": \"NADPH_c\", \"node_is_primary\": false}, \"23\": {\"node_type\": \"metabolite\", \"x\": 337.5, \"y\": 2500.0, \"label_x\": 347.5, \"label_y\": 2530.0, \"bigg_id\": \"RIBULOSE_5P_c\", \"name\": \"RIBULOSE_5P_c\", \"node_is_primary\": false}, \"24\": {\"node_type\": \"multimarker\", \"x\": 225.0, \"y\": 2255.0}, \"25\": {\"node_type\": \"midmarker\", \"x\": 225.0, \"y\": 2275.0}, \"26\": {\"node_type\": \"multimarker\", \"x\": 225.0, \"y\": 2295.0}}, \"text_labels\": {}, \"canvas\": {\"x\": 0, \"y\": 0, \"width\": 450, \"height\": 2600}}]",
       "_loaded_model_json": null,
       "allow_building_duplicate_reactions": false,
       "and_method_in_gene_reaction_rule": "mean",
       "canvas_size_and_loc": null,
       "cofactors": [
        "atp",
        "adp",
        "nad",
        "nadh",
        "nadp",
        "nadph",
        "gtp",
        "gdp",
        "h",
        "coa",
        "ump",
        "h2o",
        "ppi"
       ],
       "disabled_buttons": [
        "Clear gene data",
        "Clear metabolite data"
       ],
       "embedded_css": null,
       "enable_editing": true,
       "enable_keys": false,
       "enable_keys_with_tooltip": true,
       "enable_search": true,
       "enable_tooltips": false,
       "full_screen_button": {
        "enable_editing": true,
        "enable_keys": true,
        "enable_tooltips": [
         "label"
        ],
        "menu": "all",
        "scroll_behavior": "pan"
       },
       "gene_data": null,
       "gene_font_size": 18,
       "height": 500,
       "hide_all_labels": false,
       "hide_secondary_metabolites": false,
       "highlight_missing": false,
       "identifiers_on_map": "bigg_id",
       "layout": "IPY_MODEL_e0e30dfc932a451e97467fdaf51cf816",
       "marker_radius": 5,
       "menu": "all",
       "metabolite_compare_style": "log2_fold",
       "metabolite_data": null,
       "metabolite_no_data_color": "#ffffff",
       "metabolite_no_data_size": 10,
       "metabolite_scale": [
        {
         "color": "#fffaf0",
         "size": 20,
         "type": "min"
        },
        {
         "color": "#f1c470",
         "size": 30,
         "type": "median"
        },
        {
         "color": "#800000",
         "size": 40,
         "type": "max"
        }
       ],
       "metabolite_scale_preset": "WhYlRd",
       "metabolite_styles": [
        "color",
        "size",
        "text"
       ],
       "never_ask_before_quit": true,
       "primary_metabolite_radius": 20,
       "reaction_compare_style": "log2_fold",
       "reaction_data": {
        "G6PDH2r": -2,
        "GLCpts": -2,
        "GND": 1,
        "PGL": 0.4
       },
       "reaction_no_data_color": "#dcdcdc",
       "reaction_no_data_size": 8,
       "reaction_scale": [
        {
         "color": "rgb(220,220,220)",
         "type": "value",
         "value": 0.5
        },
        {
         "color": "rgb(220,220,220)",
         "type": "value",
         "value": 1
        },
        {
         "color": "rgb(220,220,220)",
         "type": "value",
         "value": 0
        },
        {
         "color": "rgb(220,220,220)",
         "type": "value",
         "value": -1
        },
        {
         "color": "rgb(220,220,220)",
         "type": "value",
         "value": -2
        }
       ],
       "reaction_scale_preset": null,
       "reaction_styles": [
        "color",
        "text"
       ],
       "scroll_behavior": "none",
       "secondary_metabolite_radius": 10,
       "semantic_zoom": null,
       "show_gene_reaction_rules": false,
       "starting_reaction": null,
       "use_3d_transform": false,
       "zoom_to_element": null
      }
     },
     "775ea259728042abbccdf1af6e7965b8": {
      "model_module": "@jupyter-widgets/base",
      "model_module_version": "1.2.0",
      "model_name": "LayoutModel",
      "state": {}
     },
     "790deee363cb47d39b02127bbc5839df": {
      "model_module": "@jupyter-widgets/base",
      "model_module_version": "1.2.0",
      "model_name": "LayoutModel",
      "state": {}
     },
     "795076e1f838451abc53f33a0e4ae4a4": {
      "model_module": "escher",
      "model_module_version": "1.7.3",
      "model_name": "EscherMapModel",
      "state": {
       "_loaded_map_json": "[{\"map_name\": \"\", \"map_id\": \"\", \"map_description\": \"\", \"homepage\": \"\", \"schema\": \"https://escher.github.io/escher/jsonschema/1-0-0#\"}, {\"reactions\": {\"0\": {\"name\": \"GLCpts\", \"bigg_id\": \"GLCpts\", \"reversibility\": true, \"label_x\": 265.0, \"label_y\": 325.0, \"gene_reaction_rule\": \"\", \"genes\": [], \"segments\": {\"0\": {\"from_node_id\": \"4\", \"to_node_id\": \"5\", \"b1\": null, \"b2\": null}, \"1\": {\"from_node_id\": \"6\", \"to_node_id\": \"5\", \"b1\": null, \"b2\": null}, \"2\": {\"from_node_id\": \"0\", \"to_node_id\": \"4\", \"b1\": null, \"b2\": null}, \"3\": {\"from_node_id\": \"1\", \"to_node_id\": \"4\", \"b1\": null, \"b2\": null}, \"4\": {\"from_node_id\": \"2\", \"to_node_id\": \"6\", \"b1\": null, \"b2\": null}, \"5\": {\"from_node_id\": \"3\", \"to_node_id\": \"6\", \"b1\": null, \"b2\": null}}, \"metabolites\": [{\"bigg_id\": \"Glucopyranose_e\", \"coefficient\": -1.0}, {\"bigg_id\": \"PHOSPHO_ENOL_PYRUVATE_c\", \"coefficient\": -1.0}, {\"bigg_id\": \"D_glucopyranose_6_phosphate_c\", \"coefficient\": 1.0}, {\"bigg_id\": \"PYRUVATE_c\", \"coefficient\": 1.0}]}, \"1\": {\"name\": \"G6PDH2r\", \"bigg_id\": \"G6PDH2r\", \"reversibility\": true, \"label_x\": 265.0, \"label_y\": 975.0, \"gene_reaction_rule\": \"\", \"genes\": [], \"segments\": {\"6\": {\"from_node_id\": \"11\", \"to_node_id\": \"12\", \"b1\": null, \"b2\": null}, \"7\": {\"from_node_id\": \"13\", \"to_node_id\": \"12\", \"b1\": null, \"b2\": null}, \"8\": {\"from_node_id\": \"2\", \"to_node_id\": \"11\", \"b1\": null, \"b2\": null}, \"9\": {\"from_node_id\": \"7\", \"to_node_id\": \"11\", \"b1\": null, \"b2\": null}, \"10\": {\"from_node_id\": \"8\", \"to_node_id\": \"13\", \"b1\": null, \"b2\": null}, \"11\": {\"from_node_id\": \"9\", \"to_node_id\": \"13\", \"b1\": null, \"b2\": null}, \"12\": {\"from_node_id\": \"10\", \"to_node_id\": \"13\", \"b1\": null, \"b2\": null}}, \"metabolites\": [{\"bigg_id\": \"D_glucopyranose_6_phosphate_c\", \"coefficient\": -1.0}, {\"bigg_id\": \"NADP_c\", \"coefficient\": -1.0}, {\"bigg_id\": \"D_6_P_GLUCONO_DELTA_LACTONE_c\", \"coefficient\": 1.0}, {\"bigg_id\": \"NADPH_c\", \"coefficient\": 1.0}, {\"bigg_id\": \"PROTON_c\", \"coefficient\": 1.0}]}, \"2\": {\"name\": \"PGL\", \"bigg_id\": \"PGL\", \"reversibility\": true, \"label_x\": 265.0, \"label_y\": 1625.0, \"gene_reaction_rule\": \"\", \"genes\": [], \"segments\": {\"13\": {\"from_node_id\": \"17\", \"to_node_id\": \"18\", \"b1\": null, \"b2\": null}, \"14\": {\"from_node_id\": \"19\", \"to_node_id\": \"18\", \"b1\": null, \"b2\": null}, \"15\": {\"from_node_id\": \"14\", \"to_node_id\": \"17\", \"b1\": null, \"b2\": null}, \"16\": {\"from_node_id\": \"8\", \"to_node_id\": \"17\", \"b1\": null, \"b2\": null}, \"17\": {\"from_node_id\": \"15\", \"to_node_id\": \"19\", \"b1\": null, \"b2\": null}, \"18\": {\"from_node_id\": \"16\", \"to_node_id\": \"19\", \"b1\": null, \"b2\": null}}, \"metabolites\": [{\"bigg_id\": \"CPD_15815_c\", \"coefficient\": -1.0}, {\"bigg_id\": \"D_6_P_GLUCONO_DELTA_LACTONE_c\", \"coefficient\": -1.0}, {\"bigg_id\": \"CPD_2961_c\", \"coefficient\": 1.0}, {\"bigg_id\": \"PROTON_c\", \"coefficient\": 1.0}]}, \"3\": {\"name\": \"GND\", \"bigg_id\": \"GND\", \"reversibility\": true, \"label_x\": 265.0, \"label_y\": 2275.0, \"gene_reaction_rule\": \"\", \"genes\": [], \"segments\": {\"19\": {\"from_node_id\": \"24\", \"to_node_id\": \"25\", \"b1\": null, \"b2\": null}, \"20\": {\"from_node_id\": \"26\", \"to_node_id\": \"25\", \"b1\": null, \"b2\": null}, \"21\": {\"from_node_id\": \"15\", \"to_node_id\": \"24\", \"b1\": null, \"b2\": null}, \"22\": {\"from_node_id\": \"20\", \"to_node_id\": \"24\", \"b1\": null, \"b2\": null}, \"23\": {\"from_node_id\": \"21\", \"to_node_id\": \"26\", \"b1\": null, \"b2\": null}, \"24\": {\"from_node_id\": \"22\", \"to_node_id\": \"26\", \"b1\": null, \"b2\": null}, \"25\": {\"from_node_id\": \"23\", \"to_node_id\": \"26\", \"b1\": null, \"b2\": null}}, \"metabolites\": [{\"bigg_id\": \"CPD_2961_c\", \"coefficient\": -1.0}, {\"bigg_id\": \"NADP_c\", \"coefficient\": -1.0}, {\"bigg_id\": \"CARBON_DIOXIDE_c\", \"coefficient\": 1.0}, {\"bigg_id\": \"NADPH_c\", \"coefficient\": 1.0}, {\"bigg_id\": \"RIBULOSE_5P_c\", \"coefficient\": 1.0}]}}, \"nodes\": {\"0\": {\"node_type\": \"metabolite\", \"x\": 150.0, \"y\": 30.0, \"label_x\": 160.0, \"label_y\": 20.0, \"bigg_id\": \"Glucopyranose_e\", \"name\": \"Glucopyranose_e\", \"node_is_primary\": false}, \"1\": {\"node_type\": \"metabolite\", \"x\": 300.0, \"y\": 30.0, \"label_x\": 310.0, \"label_y\": 20.0, \"bigg_id\": \"PHOSPHO_ENOL_PYRUVATE_c\", \"name\": \"PHOSPHO_ENOL_PYRUVATE_c\", \"node_is_primary\": false}, \"2\": {\"node_type\": \"metabolite\", \"x\": 150.0, \"y\": 550.0, \"label_x\": 160.0, \"label_y\": 580.0, \"bigg_id\": \"D_glucopyranose_6_phosphate_c\", \"name\": \"D_glucopyranose_6_phosphate_c\", \"node_is_primary\": false}, \"3\": {\"node_type\": \"metabolite\", \"x\": 300.0, \"y\": 550.0, \"label_x\": 310.0, \"label_y\": 580.0, \"bigg_id\": \"PYRUVATE_c\", \"name\": \"PYRUVATE_c\", \"node_is_primary\": false}, \"4\": {\"node_type\": \"multimarker\", \"x\": 225.0, \"y\": 305.0}, \"5\": {\"node_type\": \"midmarker\", \"x\": 225.0, \"y\": 325.0}, \"6\": {\"node_type\": \"multimarker\", \"x\": 225.0, \"y\": 345.0}, \"7\": {\"node_type\": \"metabolite\", \"x\": 300.0, \"y\": 680.0, \"label_x\": 310.0, \"label_y\": 670.0, \"bigg_id\": \"NADP_c\", \"name\": \"NADP_c\", \"node_is_primary\": false}, \"8\": {\"node_type\": \"metabolite\", \"x\": 112.5, \"y\": 1200.0, \"label_x\": 122.5, \"label_y\": 1230.0, \"bigg_id\": \"D_6_P_GLUCONO_DELTA_LACTONE_c\", \"name\": \"D_6_P_GLUCONO_DELTA_LACTONE_c\", \"node_is_primary\": false}, \"9\": {\"node_type\": \"metabolite\", \"x\": 225.0, \"y\": 1200.0, \"label_x\": 235.0, \"label_y\": 1230.0, \"bigg_id\": \"NADPH_c\", \"name\": \"NADPH_c\", \"node_is_primary\": false}, \"10\": {\"node_type\": \"metabolite\", \"x\": 337.5, \"y\": 1200.0, \"label_x\": 347.5, \"label_y\": 1230.0, \"bigg_id\": \"PROTON_c\", \"name\": \"PROTON_c\", \"node_is_primary\": false}, \"11\": {\"node_type\": \"multimarker\", \"x\": 225.0, \"y\": 955.0}, \"12\": {\"node_type\": \"midmarker\", \"x\": 225.0, \"y\": 975.0}, \"13\": {\"node_type\": \"multimarker\", \"x\": 225.0, \"y\": 995.0}, \"14\": {\"node_type\": \"metabolite\", \"x\": 150.0, \"y\": 1330.0, \"label_x\": 160.0, \"label_y\": 1320.0, \"bigg_id\": \"CPD_15815_c\", \"name\": \"CPD_15815_c\", \"node_is_primary\": false}, \"15\": {\"node_type\": \"metabolite\", \"x\": 150.0, \"y\": 1850.0, \"label_x\": 160.0, \"label_y\": 1880.0, \"bigg_id\": \"CPD_2961_c\", \"name\": \"CPD_2961_c\", \"node_is_primary\": false}, \"16\": {\"node_type\": \"metabolite\", \"x\": 300.0, \"y\": 1850.0, \"label_x\": 310.0, \"label_y\": 1880.0, \"bigg_id\": \"PROTON_c\", \"name\": \"PROTON_c\", \"node_is_primary\": false}, \"17\": {\"node_type\": \"multimarker\", \"x\": 225.0, \"y\": 1605.0}, \"18\": {\"node_type\": \"midmarker\", \"x\": 225.0, \"y\": 1625.0}, \"19\": {\"node_type\": \"multimarker\", \"x\": 225.0, \"y\": 1645.0}, \"20\": {\"node_type\": \"metabolite\", \"x\": 300.0, \"y\": 1980.0, \"label_x\": 310.0, \"label_y\": 1970.0, \"bigg_id\": \"NADP_c\", \"name\": \"NADP_c\", \"node_is_primary\": false}, \"21\": {\"node_type\": \"metabolite\", \"x\": 112.5, \"y\": 2500.0, \"label_x\": 122.5, \"label_y\": 2530.0, \"bigg_id\": \"CARBON_DIOXIDE_c\", \"name\": \"CARBON_DIOXIDE_c\", \"node_is_primary\": false}, \"22\": {\"node_type\": \"metabolite\", \"x\": 225.0, \"y\": 2500.0, \"label_x\": 235.0, \"label_y\": 2530.0, \"bigg_id\": \"NADPH_c\", \"name\": \"NADPH_c\", \"node_is_primary\": false}, \"23\": {\"node_type\": \"metabolite\", \"x\": 337.5, \"y\": 2500.0, \"label_x\": 347.5, \"label_y\": 2530.0, \"bigg_id\": \"RIBULOSE_5P_c\", \"name\": \"RIBULOSE_5P_c\", \"node_is_primary\": false}, \"24\": {\"node_type\": \"multimarker\", \"x\": 225.0, \"y\": 2255.0}, \"25\": {\"node_type\": \"midmarker\", \"x\": 225.0, \"y\": 2275.0}, \"26\": {\"node_type\": \"multimarker\", \"x\": 225.0, \"y\": 2295.0}}, \"text_labels\": {}, \"canvas\": {\"x\": 0, \"y\": 0, \"width\": 450, \"height\": 2600}}]",
       "_loaded_model_json": null,
       "allow_building_duplicate_reactions": false,
       "and_method_in_gene_reaction_rule": "mean",
       "canvas_size_and_loc": null,
       "cofactors": [
        "atp",
        "adp",
        "nad",
        "nadh",
        "nadp",
        "nadph",
        "gtp",
        "gdp",
        "h",
        "coa",
        "ump",
        "h2o",
        "ppi"
       ],
       "disabled_buttons": [
        "Clear gene data",
        "Clear metabolite data"
       ],
       "embedded_css": null,
       "enable_editing": true,
       "enable_keys": false,
       "enable_keys_with_tooltip": true,
       "enable_search": true,
       "enable_tooltips": false,
       "full_screen_button": {
        "enable_editing": true,
        "enable_keys": true,
        "enable_tooltips": [
         "label"
        ],
        "menu": "all",
        "scroll_behavior": "pan"
       },
       "gene_data": null,
       "gene_font_size": 18,
       "height": 500,
       "hide_all_labels": false,
       "hide_secondary_metabolites": false,
       "highlight_missing": false,
       "identifiers_on_map": "bigg_id",
       "layout": "IPY_MODEL_673950f465b442df8a037853d1c3e622",
       "marker_radius": 5,
       "menu": "all",
       "metabolite_compare_style": "log2_fold",
       "metabolite_data": null,
       "metabolite_no_data_color": "#ffffff",
       "metabolite_no_data_size": 10,
       "metabolite_scale": [
        {
         "color": "#fffaf0",
         "size": 20,
         "type": "min"
        },
        {
         "color": "#f1c470",
         "size": 30,
         "type": "median"
        },
        {
         "color": "#800000",
         "size": 40,
         "type": "max"
        }
       ],
       "metabolite_scale_preset": "WhYlRd",
       "metabolite_styles": [
        "color",
        "size",
        "text"
       ],
       "never_ask_before_quit": true,
       "primary_metabolite_radius": 20,
       "reaction_compare_style": "log2_fold",
       "reaction_data": {
        "G6PDH2r": -2,
        "GLCpts": -2,
        "GND": 1,
        "Other": 1000,
        "PGL": 0.4
       },
       "reaction_no_data_color": "#dcdcdc",
       "reaction_no_data_size": 8,
       "reaction_scale": [
        {
         "color": "rgb(191,215,230)",
         "type": "value",
         "value": 0.4
        },
        {
         "color": "rgb(163,210,240)",
         "type": "value",
         "value": 1
        },
        {
         "color": "rgb(135,205,250)",
         "type": "value",
         "value": 1000
        },
        {
         "color": "rgb(220,220,220)",
         "type": "value",
         "value": 0
        },
        {
         "color": "rgb(237,192,110)",
         "type": "value",
         "value": -2
        },
        {
         "color": "rgb(255,165,0)",
         "type": "value",
         "value": -2
        }
       ],
       "reaction_scale_preset": null,
       "reaction_styles": [
        "color",
        "text"
       ],
       "scroll_behavior": "none",
       "secondary_metabolite_radius": 10,
       "semantic_zoom": null,
       "show_gene_reaction_rules": false,
       "starting_reaction": null,
       "use_3d_transform": false,
       "zoom_to_element": null
      }
     },
     "7c3fba08a14f4a919cd35c08e6f81bf5": {
      "model_module": "escher",
      "model_module_version": "1.7.3",
      "model_name": "EscherMapModel",
      "state": {
       "_loaded_map_json": "[{\"map_name\": \"\", \"map_id\": \"\", \"map_description\": \"\", \"homepage\": \"\", \"schema\": \"https://escher.github.io/escher/jsonschema/1-0-0#\"}, {\"reactions\": {\"0\": {\"name\": \"GLCpts\", \"bigg_id\": \"GLCpts\", \"reversibility\": true, \"label_x\": 265.0, \"label_y\": 325.0, \"gene_reaction_rule\": \"\", \"genes\": [], \"segments\": {\"0\": {\"from_node_id\": \"4\", \"to_node_id\": \"5\", \"b1\": null, \"b2\": null}, \"1\": {\"from_node_id\": \"6\", \"to_node_id\": \"5\", \"b1\": null, \"b2\": null}, \"2\": {\"from_node_id\": \"0\", \"to_node_id\": \"4\", \"b1\": null, \"b2\": null}, \"3\": {\"from_node_id\": \"1\", \"to_node_id\": \"4\", \"b1\": null, \"b2\": null}, \"4\": {\"from_node_id\": \"2\", \"to_node_id\": \"6\", \"b1\": null, \"b2\": null}, \"5\": {\"from_node_id\": \"3\", \"to_node_id\": \"6\", \"b1\": null, \"b2\": null}}, \"metabolites\": [{\"bigg_id\": \"Glucopyranose_e\", \"coefficient\": -1.0}, {\"bigg_id\": \"PHOSPHO_ENOL_PYRUVATE_c\", \"coefficient\": -1.0}, {\"bigg_id\": \"D_glucopyranose_6_phosphate_c\", \"coefficient\": 1.0}, {\"bigg_id\": \"PYRUVATE_c\", \"coefficient\": 1.0}]}, \"1\": {\"name\": \"G6PDH2r\", \"bigg_id\": \"G6PDH2r\", \"reversibility\": true, \"label_x\": 265.0, \"label_y\": 975.0, \"gene_reaction_rule\": \"\", \"genes\": [], \"segments\": {\"6\": {\"from_node_id\": \"11\", \"to_node_id\": \"12\", \"b1\": null, \"b2\": null}, \"7\": {\"from_node_id\": \"13\", \"to_node_id\": \"12\", \"b1\": null, \"b2\": null}, \"8\": {\"from_node_id\": \"2\", \"to_node_id\": \"11\", \"b1\": null, \"b2\": null}, \"9\": {\"from_node_id\": \"7\", \"to_node_id\": \"11\", \"b1\": null, \"b2\": null}, \"10\": {\"from_node_id\": \"8\", \"to_node_id\": \"13\", \"b1\": null, \"b2\": null}, \"11\": {\"from_node_id\": \"9\", \"to_node_id\": \"13\", \"b1\": null, \"b2\": null}, \"12\": {\"from_node_id\": \"10\", \"to_node_id\": \"13\", \"b1\": null, \"b2\": null}}, \"metabolites\": [{\"bigg_id\": \"D_glucopyranose_6_phosphate_c\", \"coefficient\": -1.0}, {\"bigg_id\": \"NADP_c\", \"coefficient\": -1.0}, {\"bigg_id\": \"D_6_P_GLUCONO_DELTA_LACTONE_c\", \"coefficient\": 1.0}, {\"bigg_id\": \"NADPH_c\", \"coefficient\": 1.0}, {\"bigg_id\": \"PROTON_c\", \"coefficient\": 1.0}]}, \"2\": {\"name\": \"PGL\", \"bigg_id\": \"PGL\", \"reversibility\": true, \"label_x\": 265.0, \"label_y\": 1625.0, \"gene_reaction_rule\": \"\", \"genes\": [], \"segments\": {\"13\": {\"from_node_id\": \"17\", \"to_node_id\": \"18\", \"b1\": null, \"b2\": null}, \"14\": {\"from_node_id\": \"19\", \"to_node_id\": \"18\", \"b1\": null, \"b2\": null}, \"15\": {\"from_node_id\": \"14\", \"to_node_id\": \"17\", \"b1\": null, \"b2\": null}, \"16\": {\"from_node_id\": \"8\", \"to_node_id\": \"17\", \"b1\": null, \"b2\": null}, \"17\": {\"from_node_id\": \"15\", \"to_node_id\": \"19\", \"b1\": null, \"b2\": null}, \"18\": {\"from_node_id\": \"16\", \"to_node_id\": \"19\", \"b1\": null, \"b2\": null}}, \"metabolites\": [{\"bigg_id\": \"CPD_15815_c\", \"coefficient\": -1.0}, {\"bigg_id\": \"D_6_P_GLUCONO_DELTA_LACTONE_c\", \"coefficient\": -1.0}, {\"bigg_id\": \"CPD_2961_c\", \"coefficient\": 1.0}, {\"bigg_id\": \"PROTON_c\", \"coefficient\": 1.0}]}, \"3\": {\"name\": \"GND\", \"bigg_id\": \"GND\", \"reversibility\": true, \"label_x\": 265.0, \"label_y\": 2275.0, \"gene_reaction_rule\": \"\", \"genes\": [], \"segments\": {\"19\": {\"from_node_id\": \"24\", \"to_node_id\": \"25\", \"b1\": null, \"b2\": null}, \"20\": {\"from_node_id\": \"26\", \"to_node_id\": \"25\", \"b1\": null, \"b2\": null}, \"21\": {\"from_node_id\": \"15\", \"to_node_id\": \"24\", \"b1\": null, \"b2\": null}, \"22\": {\"from_node_id\": \"20\", \"to_node_id\": \"24\", \"b1\": null, \"b2\": null}, \"23\": {\"from_node_id\": \"21\", \"to_node_id\": \"26\", \"b1\": null, \"b2\": null}, \"24\": {\"from_node_id\": \"22\", \"to_node_id\": \"26\", \"b1\": null, \"b2\": null}, \"25\": {\"from_node_id\": \"23\", \"to_node_id\": \"26\", \"b1\": null, \"b2\": null}}, \"metabolites\": [{\"bigg_id\": \"CPD_2961_c\", \"coefficient\": -1.0}, {\"bigg_id\": \"NADP_c\", \"coefficient\": -1.0}, {\"bigg_id\": \"CARBON_DIOXIDE_c\", \"coefficient\": 1.0}, {\"bigg_id\": \"NADPH_c\", \"coefficient\": 1.0}, {\"bigg_id\": \"RIBULOSE_5P_c\", \"coefficient\": 1.0}]}}, \"nodes\": {\"0\": {\"node_type\": \"metabolite\", \"x\": 150.0, \"y\": 30.0, \"label_x\": 160.0, \"label_y\": 20.0, \"bigg_id\": \"Glucopyranose_e\", \"name\": \"Glucopyranose_e\", \"node_is_primary\": false}, \"1\": {\"node_type\": \"metabolite\", \"x\": 300.0, \"y\": 30.0, \"label_x\": 310.0, \"label_y\": 20.0, \"bigg_id\": \"PHOSPHO_ENOL_PYRUVATE_c\", \"name\": \"PHOSPHO_ENOL_PYRUVATE_c\", \"node_is_primary\": false}, \"2\": {\"node_type\": \"metabolite\", \"x\": 150.0, \"y\": 550.0, \"label_x\": 160.0, \"label_y\": 580.0, \"bigg_id\": \"D_glucopyranose_6_phosphate_c\", \"name\": \"D_glucopyranose_6_phosphate_c\", \"node_is_primary\": false}, \"3\": {\"node_type\": \"metabolite\", \"x\": 300.0, \"y\": 550.0, \"label_x\": 310.0, \"label_y\": 580.0, \"bigg_id\": \"PYRUVATE_c\", \"name\": \"PYRUVATE_c\", \"node_is_primary\": false}, \"4\": {\"node_type\": \"multimarker\", \"x\": 225.0, \"y\": 305.0}, \"5\": {\"node_type\": \"midmarker\", \"x\": 225.0, \"y\": 325.0}, \"6\": {\"node_type\": \"multimarker\", \"x\": 225.0, \"y\": 345.0}, \"7\": {\"node_type\": \"metabolite\", \"x\": 300.0, \"y\": 680.0, \"label_x\": 310.0, \"label_y\": 670.0, \"bigg_id\": \"NADP_c\", \"name\": \"NADP_c\", \"node_is_primary\": false}, \"8\": {\"node_type\": \"metabolite\", \"x\": 112.5, \"y\": 1200.0, \"label_x\": 122.5, \"label_y\": 1230.0, \"bigg_id\": \"D_6_P_GLUCONO_DELTA_LACTONE_c\", \"name\": \"D_6_P_GLUCONO_DELTA_LACTONE_c\", \"node_is_primary\": false}, \"9\": {\"node_type\": \"metabolite\", \"x\": 225.0, \"y\": 1200.0, \"label_x\": 235.0, \"label_y\": 1230.0, \"bigg_id\": \"NADPH_c\", \"name\": \"NADPH_c\", \"node_is_primary\": false}, \"10\": {\"node_type\": \"metabolite\", \"x\": 337.5, \"y\": 1200.0, \"label_x\": 347.5, \"label_y\": 1230.0, \"bigg_id\": \"PROTON_c\", \"name\": \"PROTON_c\", \"node_is_primary\": false}, \"11\": {\"node_type\": \"multimarker\", \"x\": 225.0, \"y\": 955.0}, \"12\": {\"node_type\": \"midmarker\", \"x\": 225.0, \"y\": 975.0}, \"13\": {\"node_type\": \"multimarker\", \"x\": 225.0, \"y\": 995.0}, \"14\": {\"node_type\": \"metabolite\", \"x\": 150.0, \"y\": 1330.0, \"label_x\": 160.0, \"label_y\": 1320.0, \"bigg_id\": \"CPD_15815_c\", \"name\": \"CPD_15815_c\", \"node_is_primary\": false}, \"15\": {\"node_type\": \"metabolite\", \"x\": 150.0, \"y\": 1850.0, \"label_x\": 160.0, \"label_y\": 1880.0, \"bigg_id\": \"CPD_2961_c\", \"name\": \"CPD_2961_c\", \"node_is_primary\": false}, \"16\": {\"node_type\": \"metabolite\", \"x\": 300.0, \"y\": 1850.0, \"label_x\": 310.0, \"label_y\": 1880.0, \"bigg_id\": \"PROTON_c\", \"name\": \"PROTON_c\", \"node_is_primary\": false}, \"17\": {\"node_type\": \"multimarker\", \"x\": 225.0, \"y\": 1605.0}, \"18\": {\"node_type\": \"midmarker\", \"x\": 225.0, \"y\": 1625.0}, \"19\": {\"node_type\": \"multimarker\", \"x\": 225.0, \"y\": 1645.0}, \"20\": {\"node_type\": \"metabolite\", \"x\": 300.0, \"y\": 1980.0, \"label_x\": 310.0, \"label_y\": 1970.0, \"bigg_id\": \"NADP_c\", \"name\": \"NADP_c\", \"node_is_primary\": false}, \"21\": {\"node_type\": \"metabolite\", \"x\": 112.5, \"y\": 2500.0, \"label_x\": 122.5, \"label_y\": 2530.0, \"bigg_id\": \"CARBON_DIOXIDE_c\", \"name\": \"CARBON_DIOXIDE_c\", \"node_is_primary\": false}, \"22\": {\"node_type\": \"metabolite\", \"x\": 225.0, \"y\": 2500.0, \"label_x\": 235.0, \"label_y\": 2530.0, \"bigg_id\": \"NADPH_c\", \"name\": \"NADPH_c\", \"node_is_primary\": false}, \"23\": {\"node_type\": \"metabolite\", \"x\": 337.5, \"y\": 2500.0, \"label_x\": 347.5, \"label_y\": 2530.0, \"bigg_id\": \"RIBULOSE_5P_c\", \"name\": \"RIBULOSE_5P_c\", \"node_is_primary\": false}, \"24\": {\"node_type\": \"multimarker\", \"x\": 225.0, \"y\": 2255.0}, \"25\": {\"node_type\": \"midmarker\", \"x\": 225.0, \"y\": 2275.0}, \"26\": {\"node_type\": \"multimarker\", \"x\": 225.0, \"y\": 2295.0}}, \"text_labels\": {}, \"canvas\": {\"x\": 0, \"y\": 0, \"width\": 450, \"height\": 2600}}]",
       "_loaded_model_json": null,
       "allow_building_duplicate_reactions": false,
       "and_method_in_gene_reaction_rule": "mean",
       "canvas_size_and_loc": null,
       "cofactors": [
        "atp",
        "adp",
        "nad",
        "nadh",
        "nadp",
        "nadph",
        "gtp",
        "gdp",
        "h",
        "coa",
        "ump",
        "h2o",
        "ppi"
       ],
       "disabled_buttons": [
        "Clear gene data",
        "Clear metabolite data"
       ],
       "embedded_css": null,
       "enable_editing": true,
       "enable_keys": false,
       "enable_keys_with_tooltip": true,
       "enable_search": true,
       "enable_tooltips": false,
       "full_screen_button": {
        "enable_editing": true,
        "enable_keys": true,
        "enable_tooltips": [
         "label"
        ],
        "menu": "all",
        "scroll_behavior": "pan"
       },
       "gene_data": null,
       "gene_font_size": 18,
       "height": 500,
       "hide_all_labels": false,
       "hide_secondary_metabolites": false,
       "highlight_missing": false,
       "identifiers_on_map": "bigg_id",
       "layout": "IPY_MODEL_8d5a57f54bb74a3a9cb4f9fa5dff9e39",
       "marker_radius": 5,
       "menu": "all",
       "metabolite_compare_style": "log2_fold",
       "metabolite_data": null,
       "metabolite_no_data_color": "#ffffff",
       "metabolite_no_data_size": 10,
       "metabolite_scale": [
        {
         "color": "#fffaf0",
         "size": 20,
         "type": "min"
        },
        {
         "color": "#f1c470",
         "size": 30,
         "type": "median"
        },
        {
         "color": "#800000",
         "size": 40,
         "type": "max"
        }
       ],
       "metabolite_scale_preset": "WhYlRd",
       "metabolite_styles": [
        "color",
        "size",
        "text"
       ],
       "never_ask_before_quit": true,
       "primary_metabolite_radius": 20,
       "reaction_compare_style": "log2_fold",
       "reaction_data": {
        "G6PDH2r": -2,
        "GLCpts": -2,
        "GND": 1,
        "PGL": 0.4
       },
       "reaction_no_data_color": "#dcdcdc",
       "reaction_no_data_size": 8,
       "reaction_scale": [
        {
         "color": "rgb(110,174,110)",
         "type": "value",
         "value": 0.5
        },
        {
         "color": "rgb(0,128,0)",
         "type": "value",
         "value": 1
        },
        {
         "color": "rgb(220,220,220)",
         "type": "value",
         "value": 0
        },
        {
         "color": "rgb(237,110,110)",
         "type": "value",
         "value": -1
        },
        {
         "color": "rgb(255,0,0)",
         "type": "value",
         "value": -2
        }
       ],
       "reaction_scale_preset": null,
       "reaction_styles": [
        "color",
        "text"
       ],
       "scroll_behavior": "none",
       "secondary_metabolite_radius": 10,
       "semantic_zoom": null,
       "show_gene_reaction_rules": false,
       "starting_reaction": null,
       "use_3d_transform": false,
       "zoom_to_element": null
      }
     },
     "8552f082421947488d4be7ac39e874e8": {
      "model_module": "escher",
      "model_module_version": "1.7.3",
      "model_name": "EscherMapModel",
      "state": {
       "_loaded_map_json": "[{\"map_name\": \"\", \"map_id\": \"\", \"map_description\": \"\", \"homepage\": \"\", \"schema\": \"https://escher.github.io/escher/jsonschema/1-0-0#\"}, {\"reactions\": {\"0\": {\"name\": \"GLCpts\", \"bigg_id\": \"GLCpts\", \"reversibility\": true, \"label_x\": 265.0, \"label_y\": 325.0, \"gene_reaction_rule\": \"\", \"genes\": [], \"segments\": {\"0\": {\"from_node_id\": \"4\", \"to_node_id\": \"5\", \"b1\": null, \"b2\": null}, \"1\": {\"from_node_id\": \"6\", \"to_node_id\": \"5\", \"b1\": null, \"b2\": null}, \"2\": {\"from_node_id\": \"0\", \"to_node_id\": \"4\", \"b1\": null, \"b2\": null}, \"3\": {\"from_node_id\": \"1\", \"to_node_id\": \"4\", \"b1\": null, \"b2\": null}, \"4\": {\"from_node_id\": \"2\", \"to_node_id\": \"6\", \"b1\": null, \"b2\": null}, \"5\": {\"from_node_id\": \"3\", \"to_node_id\": \"6\", \"b1\": null, \"b2\": null}}, \"metabolites\": [{\"bigg_id\": \"Glucopyranose_e\", \"coefficient\": -1.0}, {\"bigg_id\": \"PHOSPHO_ENOL_PYRUVATE_c\", \"coefficient\": -1.0}, {\"bigg_id\": \"D_glucopyranose_6_phosphate_c\", \"coefficient\": 1.0}, {\"bigg_id\": \"PYRUVATE_c\", \"coefficient\": 1.0}]}, \"1\": {\"name\": \"G6PDH2r\", \"bigg_id\": \"G6PDH2r\", \"reversibility\": true, \"label_x\": 265.0, \"label_y\": 975.0, \"gene_reaction_rule\": \"\", \"genes\": [], \"segments\": {\"6\": {\"from_node_id\": \"11\", \"to_node_id\": \"12\", \"b1\": null, \"b2\": null}, \"7\": {\"from_node_id\": \"13\", \"to_node_id\": \"12\", \"b1\": null, \"b2\": null}, \"8\": {\"from_node_id\": \"2\", \"to_node_id\": \"11\", \"b1\": null, \"b2\": null}, \"9\": {\"from_node_id\": \"7\", \"to_node_id\": \"11\", \"b1\": null, \"b2\": null}, \"10\": {\"from_node_id\": \"8\", \"to_node_id\": \"13\", \"b1\": null, \"b2\": null}, \"11\": {\"from_node_id\": \"9\", \"to_node_id\": \"13\", \"b1\": null, \"b2\": null}, \"12\": {\"from_node_id\": \"10\", \"to_node_id\": \"13\", \"b1\": null, \"b2\": null}}, \"metabolites\": [{\"bigg_id\": \"D_glucopyranose_6_phosphate_c\", \"coefficient\": -1.0}, {\"bigg_id\": \"NADP_c\", \"coefficient\": -1.0}, {\"bigg_id\": \"D_6_P_GLUCONO_DELTA_LACTONE_c\", \"coefficient\": 1.0}, {\"bigg_id\": \"NADPH_c\", \"coefficient\": 1.0}, {\"bigg_id\": \"PROTON_c\", \"coefficient\": 1.0}]}, \"2\": {\"name\": \"PGL\", \"bigg_id\": \"PGL\", \"reversibility\": true, \"label_x\": 265.0, \"label_y\": 1625.0, \"gene_reaction_rule\": \"\", \"genes\": [], \"segments\": {\"13\": {\"from_node_id\": \"17\", \"to_node_id\": \"18\", \"b1\": null, \"b2\": null}, \"14\": {\"from_node_id\": \"19\", \"to_node_id\": \"18\", \"b1\": null, \"b2\": null}, \"15\": {\"from_node_id\": \"14\", \"to_node_id\": \"17\", \"b1\": null, \"b2\": null}, \"16\": {\"from_node_id\": \"8\", \"to_node_id\": \"17\", \"b1\": null, \"b2\": null}, \"17\": {\"from_node_id\": \"15\", \"to_node_id\": \"19\", \"b1\": null, \"b2\": null}, \"18\": {\"from_node_id\": \"16\", \"to_node_id\": \"19\", \"b1\": null, \"b2\": null}}, \"metabolites\": [{\"bigg_id\": \"CPD_15815_c\", \"coefficient\": -1.0}, {\"bigg_id\": \"D_6_P_GLUCONO_DELTA_LACTONE_c\", \"coefficient\": -1.0}, {\"bigg_id\": \"CPD_2961_c\", \"coefficient\": 1.0}, {\"bigg_id\": \"PROTON_c\", \"coefficient\": 1.0}]}, \"3\": {\"name\": \"GND\", \"bigg_id\": \"GND\", \"reversibility\": true, \"label_x\": 265.0, \"label_y\": 2275.0, \"gene_reaction_rule\": \"\", \"genes\": [], \"segments\": {\"19\": {\"from_node_id\": \"24\", \"to_node_id\": \"25\", \"b1\": null, \"b2\": null}, \"20\": {\"from_node_id\": \"26\", \"to_node_id\": \"25\", \"b1\": null, \"b2\": null}, \"21\": {\"from_node_id\": \"15\", \"to_node_id\": \"24\", \"b1\": null, \"b2\": null}, \"22\": {\"from_node_id\": \"20\", \"to_node_id\": \"24\", \"b1\": null, \"b2\": null}, \"23\": {\"from_node_id\": \"21\", \"to_node_id\": \"26\", \"b1\": null, \"b2\": null}, \"24\": {\"from_node_id\": \"22\", \"to_node_id\": \"26\", \"b1\": null, \"b2\": null}, \"25\": {\"from_node_id\": \"23\", \"to_node_id\": \"26\", \"b1\": null, \"b2\": null}}, \"metabolites\": [{\"bigg_id\": \"CPD_2961_c\", \"coefficient\": -1.0}, {\"bigg_id\": \"NADP_c\", \"coefficient\": -1.0}, {\"bigg_id\": \"CARBON_DIOXIDE_c\", \"coefficient\": 1.0}, {\"bigg_id\": \"NADPH_c\", \"coefficient\": 1.0}, {\"bigg_id\": \"RIBULOSE_5P_c\", \"coefficient\": 1.0}]}}, \"nodes\": {\"0\": {\"node_type\": \"metabolite\", \"x\": 150.0, \"y\": 30.0, \"label_x\": 160.0, \"label_y\": 20.0, \"bigg_id\": \"Glucopyranose_e\", \"name\": \"Glucopyranose_e\", \"node_is_primary\": false}, \"1\": {\"node_type\": \"metabolite\", \"x\": 300.0, \"y\": 30.0, \"label_x\": 310.0, \"label_y\": 20.0, \"bigg_id\": \"PHOSPHO_ENOL_PYRUVATE_c\", \"name\": \"PHOSPHO_ENOL_PYRUVATE_c\", \"node_is_primary\": false}, \"2\": {\"node_type\": \"metabolite\", \"x\": 150.0, \"y\": 550.0, \"label_x\": 160.0, \"label_y\": 580.0, \"bigg_id\": \"D_glucopyranose_6_phosphate_c\", \"name\": \"D_glucopyranose_6_phosphate_c\", \"node_is_primary\": false}, \"3\": {\"node_type\": \"metabolite\", \"x\": 300.0, \"y\": 550.0, \"label_x\": 310.0, \"label_y\": 580.0, \"bigg_id\": \"PYRUVATE_c\", \"name\": \"PYRUVATE_c\", \"node_is_primary\": false}, \"4\": {\"node_type\": \"multimarker\", \"x\": 225.0, \"y\": 305.0}, \"5\": {\"node_type\": \"midmarker\", \"x\": 225.0, \"y\": 325.0}, \"6\": {\"node_type\": \"multimarker\", \"x\": 225.0, \"y\": 345.0}, \"7\": {\"node_type\": \"metabolite\", \"x\": 300.0, \"y\": 680.0, \"label_x\": 310.0, \"label_y\": 670.0, \"bigg_id\": \"NADP_c\", \"name\": \"NADP_c\", \"node_is_primary\": false}, \"8\": {\"node_type\": \"metabolite\", \"x\": 112.5, \"y\": 1200.0, \"label_x\": 122.5, \"label_y\": 1230.0, \"bigg_id\": \"D_6_P_GLUCONO_DELTA_LACTONE_c\", \"name\": \"D_6_P_GLUCONO_DELTA_LACTONE_c\", \"node_is_primary\": false}, \"9\": {\"node_type\": \"metabolite\", \"x\": 225.0, \"y\": 1200.0, \"label_x\": 235.0, \"label_y\": 1230.0, \"bigg_id\": \"NADPH_c\", \"name\": \"NADPH_c\", \"node_is_primary\": false}, \"10\": {\"node_type\": \"metabolite\", \"x\": 337.5, \"y\": 1200.0, \"label_x\": 347.5, \"label_y\": 1230.0, \"bigg_id\": \"PROTON_c\", \"name\": \"PROTON_c\", \"node_is_primary\": false}, \"11\": {\"node_type\": \"multimarker\", \"x\": 225.0, \"y\": 955.0}, \"12\": {\"node_type\": \"midmarker\", \"x\": 225.0, \"y\": 975.0}, \"13\": {\"node_type\": \"multimarker\", \"x\": 225.0, \"y\": 995.0}, \"14\": {\"node_type\": \"metabolite\", \"x\": 150.0, \"y\": 1330.0, \"label_x\": 160.0, \"label_y\": 1320.0, \"bigg_id\": \"CPD_15815_c\", \"name\": \"CPD_15815_c\", \"node_is_primary\": false}, \"15\": {\"node_type\": \"metabolite\", \"x\": 150.0, \"y\": 1850.0, \"label_x\": 160.0, \"label_y\": 1880.0, \"bigg_id\": \"CPD_2961_c\", \"name\": \"CPD_2961_c\", \"node_is_primary\": false}, \"16\": {\"node_type\": \"metabolite\", \"x\": 300.0, \"y\": 1850.0, \"label_x\": 310.0, \"label_y\": 1880.0, \"bigg_id\": \"PROTON_c\", \"name\": \"PROTON_c\", \"node_is_primary\": false}, \"17\": {\"node_type\": \"multimarker\", \"x\": 225.0, \"y\": 1605.0}, \"18\": {\"node_type\": \"midmarker\", \"x\": 225.0, \"y\": 1625.0}, \"19\": {\"node_type\": \"multimarker\", \"x\": 225.0, \"y\": 1645.0}, \"20\": {\"node_type\": \"metabolite\", \"x\": 300.0, \"y\": 1980.0, \"label_x\": 310.0, \"label_y\": 1970.0, \"bigg_id\": \"NADP_c\", \"name\": \"NADP_c\", \"node_is_primary\": false}, \"21\": {\"node_type\": \"metabolite\", \"x\": 112.5, \"y\": 2500.0, \"label_x\": 122.5, \"label_y\": 2530.0, \"bigg_id\": \"CARBON_DIOXIDE_c\", \"name\": \"CARBON_DIOXIDE_c\", \"node_is_primary\": false}, \"22\": {\"node_type\": \"metabolite\", \"x\": 225.0, \"y\": 2500.0, \"label_x\": 235.0, \"label_y\": 2530.0, \"bigg_id\": \"NADPH_c\", \"name\": \"NADPH_c\", \"node_is_primary\": false}, \"23\": {\"node_type\": \"metabolite\", \"x\": 337.5, \"y\": 2500.0, \"label_x\": 347.5, \"label_y\": 2530.0, \"bigg_id\": \"RIBULOSE_5P_c\", \"name\": \"RIBULOSE_5P_c\", \"node_is_primary\": false}, \"24\": {\"node_type\": \"multimarker\", \"x\": 225.0, \"y\": 2255.0}, \"25\": {\"node_type\": \"midmarker\", \"x\": 225.0, \"y\": 2275.0}, \"26\": {\"node_type\": \"multimarker\", \"x\": 225.0, \"y\": 2295.0}}, \"text_labels\": {}, \"canvas\": {\"x\": 0, \"y\": 0, \"width\": 450, \"height\": 2600}}]",
       "_loaded_model_json": null,
       "allow_building_duplicate_reactions": false,
       "and_method_in_gene_reaction_rule": "mean",
       "canvas_size_and_loc": null,
       "cofactors": [
        "atp",
        "adp",
        "nad",
        "nadh",
        "nadp",
        "nadph",
        "gtp",
        "gdp",
        "h",
        "coa",
        "ump",
        "h2o",
        "ppi"
       ],
       "disabled_buttons": [
        "Clear gene data",
        "Clear metabolite data"
       ],
       "embedded_css": null,
       "enable_editing": true,
       "enable_keys": false,
       "enable_keys_with_tooltip": true,
       "enable_search": true,
       "enable_tooltips": false,
       "full_screen_button": {
        "enable_editing": true,
        "enable_keys": true,
        "enable_tooltips": [
         "label"
        ],
        "menu": "all",
        "scroll_behavior": "pan"
       },
       "gene_data": null,
       "gene_font_size": 18,
       "height": 500,
       "hide_all_labels": false,
       "hide_secondary_metabolites": false,
       "highlight_missing": false,
       "identifiers_on_map": "bigg_id",
       "layout": "IPY_MODEL_610abf76245b4bada017a38732726102",
       "marker_radius": 5,
       "menu": "all",
       "metabolite_compare_style": "log2_fold",
       "metabolite_data": null,
       "metabolite_no_data_color": "#ffffff",
       "metabolite_no_data_size": 10,
       "metabolite_scale": [
        {
         "color": "#fffaf0",
         "size": 20,
         "type": "min"
        },
        {
         "color": "#f1c470",
         "size": 30,
         "type": "median"
        },
        {
         "color": "#800000",
         "size": 40,
         "type": "max"
        }
       ],
       "metabolite_scale_preset": "WhYlRd",
       "metabolite_styles": [
        "color",
        "size",
        "text"
       ],
       "never_ask_before_quit": true,
       "primary_metabolite_radius": 20,
       "reaction_compare_style": "log2_fold",
       "reaction_data": {
        "G6PDH2r": -2,
        "GLCpts": -2,
        "GND": 1,
        "Other": 1000,
        "PGL": 0.4
       },
       "reaction_no_data_color": "#dcdcdc",
       "reaction_no_data_size": 8,
       "reaction_scale": [
        {
         "color": "rgb(191,215,230)",
         "type": "value",
         "value": 0.4
        },
        {
         "color": "rgb(163,210,240)",
         "type": "value",
         "value": 1
        },
        {
         "color": "rgb(135,205,250)",
         "type": "value",
         "value": 1000
        },
        {
         "color": "rgb(220,220,220)",
         "type": "value",
         "value": 0
        },
        {
         "color": "rgb(237,192,110)",
         "type": "value",
         "value": -2
        },
        {
         "color": "rgb(255,165,0)",
         "type": "value",
         "value": -2
        }
       ],
       "reaction_scale_preset": null,
       "reaction_styles": [
        "color",
        "text"
       ],
       "scroll_behavior": "none",
       "secondary_metabolite_radius": 10,
       "semantic_zoom": null,
       "show_gene_reaction_rules": false,
       "starting_reaction": null,
       "use_3d_transform": false,
       "zoom_to_element": null
      }
     },
     "8950cfee9e3e44f1b6e01263e08450e7": {
      "model_module": "@jupyter-widgets/base",
      "model_module_version": "1.2.0",
      "model_name": "LayoutModel",
      "state": {}
     },
     "8d5a57f54bb74a3a9cb4f9fa5dff9e39": {
      "model_module": "@jupyter-widgets/base",
      "model_module_version": "1.2.0",
      "model_name": "LayoutModel",
      "state": {}
     },
     "9248aed5b29a4efeb01001134ea5bbaa": {
      "model_module": "@jupyter-widgets/base",
      "model_module_version": "1.2.0",
      "model_name": "LayoutModel",
      "state": {}
     },
     "92ac6382486b4ad88624202f7c82bb77": {
      "model_module": "@jupyter-widgets/base",
      "model_module_version": "1.2.0",
      "model_name": "LayoutModel",
      "state": {}
     },
     "9a7abd14d2c54e2599c58c20e5f4c0bf": {
      "model_module": "@jupyter-widgets/base",
      "model_module_version": "1.2.0",
      "model_name": "LayoutModel",
      "state": {}
     },
     "9b10cc091cdf41e99650f52c54c29fef": {
      "model_module": "@jupyter-widgets/base",
      "model_module_version": "1.2.0",
      "model_name": "LayoutModel",
      "state": {}
     },
     "9b5e4beb202f4954b502e6d94b82aa25": {
      "model_module": "escher",
      "model_module_version": "1.7.3",
      "model_name": "EscherMapModel",
      "state": {
       "_loaded_map_json": "[{\"map_name\": \"\", \"map_id\": \"\", \"map_description\": \"\", \"homepage\": \"\", \"schema\": \"https://escher.github.io/escher/jsonschema/1-0-0#\"}, {\"reactions\": {\"0\": {\"name\": \"GLCpts\", \"bigg_id\": \"GLCpts\", \"reversibility\": true, \"label_x\": 265.0, \"label_y\": 325.0, \"gene_reaction_rule\": \"\", \"genes\": [], \"segments\": {\"0\": {\"from_node_id\": \"4\", \"to_node_id\": \"5\", \"b1\": null, \"b2\": null}, \"1\": {\"from_node_id\": \"6\", \"to_node_id\": \"5\", \"b1\": null, \"b2\": null}, \"2\": {\"from_node_id\": \"0\", \"to_node_id\": \"4\", \"b1\": null, \"b2\": null}, \"3\": {\"from_node_id\": \"1\", \"to_node_id\": \"4\", \"b1\": null, \"b2\": null}, \"4\": {\"from_node_id\": \"2\", \"to_node_id\": \"6\", \"b1\": null, \"b2\": null}, \"5\": {\"from_node_id\": \"3\", \"to_node_id\": \"6\", \"b1\": null, \"b2\": null}}, \"metabolites\": [{\"bigg_id\": \"Glucopyranose_e\", \"coefficient\": -1.0}, {\"bigg_id\": \"PHOSPHO_ENOL_PYRUVATE_c\", \"coefficient\": -1.0}, {\"bigg_id\": \"D_glucopyranose_6_phosphate_c\", \"coefficient\": 1.0}, {\"bigg_id\": \"PYRUVATE_c\", \"coefficient\": 1.0}]}, \"1\": {\"name\": \"G6PDH2r\", \"bigg_id\": \"G6PDH2r\", \"reversibility\": true, \"label_x\": 265.0, \"label_y\": 975.0, \"gene_reaction_rule\": \"\", \"genes\": [], \"segments\": {\"6\": {\"from_node_id\": \"11\", \"to_node_id\": \"12\", \"b1\": null, \"b2\": null}, \"7\": {\"from_node_id\": \"13\", \"to_node_id\": \"12\", \"b1\": null, \"b2\": null}, \"8\": {\"from_node_id\": \"2\", \"to_node_id\": \"11\", \"b1\": null, \"b2\": null}, \"9\": {\"from_node_id\": \"7\", \"to_node_id\": \"11\", \"b1\": null, \"b2\": null}, \"10\": {\"from_node_id\": \"8\", \"to_node_id\": \"13\", \"b1\": null, \"b2\": null}, \"11\": {\"from_node_id\": \"9\", \"to_node_id\": \"13\", \"b1\": null, \"b2\": null}, \"12\": {\"from_node_id\": \"10\", \"to_node_id\": \"13\", \"b1\": null, \"b2\": null}}, \"metabolites\": [{\"bigg_id\": \"D_glucopyranose_6_phosphate_c\", \"coefficient\": -1.0}, {\"bigg_id\": \"NADP_c\", \"coefficient\": -1.0}, {\"bigg_id\": \"D_6_P_GLUCONO_DELTA_LACTONE_c\", \"coefficient\": 1.0}, {\"bigg_id\": \"NADPH_c\", \"coefficient\": 1.0}, {\"bigg_id\": \"PROTON_c\", \"coefficient\": 1.0}]}, \"2\": {\"name\": \"PGL\", \"bigg_id\": \"PGL\", \"reversibility\": true, \"label_x\": 265.0, \"label_y\": 1625.0, \"gene_reaction_rule\": \"\", \"genes\": [], \"segments\": {\"13\": {\"from_node_id\": \"17\", \"to_node_id\": \"18\", \"b1\": null, \"b2\": null}, \"14\": {\"from_node_id\": \"19\", \"to_node_id\": \"18\", \"b1\": null, \"b2\": null}, \"15\": {\"from_node_id\": \"14\", \"to_node_id\": \"17\", \"b1\": null, \"b2\": null}, \"16\": {\"from_node_id\": \"8\", \"to_node_id\": \"17\", \"b1\": null, \"b2\": null}, \"17\": {\"from_node_id\": \"15\", \"to_node_id\": \"19\", \"b1\": null, \"b2\": null}, \"18\": {\"from_node_id\": \"16\", \"to_node_id\": \"19\", \"b1\": null, \"b2\": null}}, \"metabolites\": [{\"bigg_id\": \"CPD_15815_c\", \"coefficient\": -1.0}, {\"bigg_id\": \"D_6_P_GLUCONO_DELTA_LACTONE_c\", \"coefficient\": -1.0}, {\"bigg_id\": \"CPD_2961_c\", \"coefficient\": 1.0}, {\"bigg_id\": \"PROTON_c\", \"coefficient\": 1.0}]}, \"3\": {\"name\": \"GND\", \"bigg_id\": \"GND\", \"reversibility\": true, \"label_x\": 265.0, \"label_y\": 2275.0, \"gene_reaction_rule\": \"\", \"genes\": [], \"segments\": {\"19\": {\"from_node_id\": \"24\", \"to_node_id\": \"25\", \"b1\": null, \"b2\": null}, \"20\": {\"from_node_id\": \"26\", \"to_node_id\": \"25\", \"b1\": null, \"b2\": null}, \"21\": {\"from_node_id\": \"15\", \"to_node_id\": \"24\", \"b1\": null, \"b2\": null}, \"22\": {\"from_node_id\": \"20\", \"to_node_id\": \"24\", \"b1\": null, \"b2\": null}, \"23\": {\"from_node_id\": \"21\", \"to_node_id\": \"26\", \"b1\": null, \"b2\": null}, \"24\": {\"from_node_id\": \"22\", \"to_node_id\": \"26\", \"b1\": null, \"b2\": null}, \"25\": {\"from_node_id\": \"23\", \"to_node_id\": \"26\", \"b1\": null, \"b2\": null}}, \"metabolites\": [{\"bigg_id\": \"CPD_2961_c\", \"coefficient\": -1.0}, {\"bigg_id\": \"NADP_c\", \"coefficient\": -1.0}, {\"bigg_id\": \"CARBON_DIOXIDE_c\", \"coefficient\": 1.0}, {\"bigg_id\": \"NADPH_c\", \"coefficient\": 1.0}, {\"bigg_id\": \"RIBULOSE_5P_c\", \"coefficient\": 1.0}]}}, \"nodes\": {\"0\": {\"node_type\": \"metabolite\", \"x\": 150.0, \"y\": 30.0, \"label_x\": 160.0, \"label_y\": 20.0, \"bigg_id\": \"Glucopyranose_e\", \"name\": \"Glucopyranose_e\", \"node_is_primary\": false}, \"1\": {\"node_type\": \"metabolite\", \"x\": 300.0, \"y\": 30.0, \"label_x\": 310.0, \"label_y\": 20.0, \"bigg_id\": \"PHOSPHO_ENOL_PYRUVATE_c\", \"name\": \"PHOSPHO_ENOL_PYRUVATE_c\", \"node_is_primary\": false}, \"2\": {\"node_type\": \"metabolite\", \"x\": 150.0, \"y\": 550.0, \"label_x\": 160.0, \"label_y\": 580.0, \"bigg_id\": \"D_glucopyranose_6_phosphate_c\", \"name\": \"D_glucopyranose_6_phosphate_c\", \"node_is_primary\": false}, \"3\": {\"node_type\": \"metabolite\", \"x\": 300.0, \"y\": 550.0, \"label_x\": 310.0, \"label_y\": 580.0, \"bigg_id\": \"PYRUVATE_c\", \"name\": \"PYRUVATE_c\", \"node_is_primary\": false}, \"4\": {\"node_type\": \"multimarker\", \"x\": 225.0, \"y\": 305.0}, \"5\": {\"node_type\": \"midmarker\", \"x\": 225.0, \"y\": 325.0}, \"6\": {\"node_type\": \"multimarker\", \"x\": 225.0, \"y\": 345.0}, \"7\": {\"node_type\": \"metabolite\", \"x\": 300.0, \"y\": 680.0, \"label_x\": 310.0, \"label_y\": 670.0, \"bigg_id\": \"NADP_c\", \"name\": \"NADP_c\", \"node_is_primary\": false}, \"8\": {\"node_type\": \"metabolite\", \"x\": 112.5, \"y\": 1200.0, \"label_x\": 122.5, \"label_y\": 1230.0, \"bigg_id\": \"D_6_P_GLUCONO_DELTA_LACTONE_c\", \"name\": \"D_6_P_GLUCONO_DELTA_LACTONE_c\", \"node_is_primary\": false}, \"9\": {\"node_type\": \"metabolite\", \"x\": 225.0, \"y\": 1200.0, \"label_x\": 235.0, \"label_y\": 1230.0, \"bigg_id\": \"NADPH_c\", \"name\": \"NADPH_c\", \"node_is_primary\": false}, \"10\": {\"node_type\": \"metabolite\", \"x\": 337.5, \"y\": 1200.0, \"label_x\": 347.5, \"label_y\": 1230.0, \"bigg_id\": \"PROTON_c\", \"name\": \"PROTON_c\", \"node_is_primary\": false}, \"11\": {\"node_type\": \"multimarker\", \"x\": 225.0, \"y\": 955.0}, \"12\": {\"node_type\": \"midmarker\", \"x\": 225.0, \"y\": 975.0}, \"13\": {\"node_type\": \"multimarker\", \"x\": 225.0, \"y\": 995.0}, \"14\": {\"node_type\": \"metabolite\", \"x\": 150.0, \"y\": 1330.0, \"label_x\": 160.0, \"label_y\": 1320.0, \"bigg_id\": \"CPD_15815_c\", \"name\": \"CPD_15815_c\", \"node_is_primary\": false}, \"15\": {\"node_type\": \"metabolite\", \"x\": 150.0, \"y\": 1850.0, \"label_x\": 160.0, \"label_y\": 1880.0, \"bigg_id\": \"CPD_2961_c\", \"name\": \"CPD_2961_c\", \"node_is_primary\": false}, \"16\": {\"node_type\": \"metabolite\", \"x\": 300.0, \"y\": 1850.0, \"label_x\": 310.0, \"label_y\": 1880.0, \"bigg_id\": \"PROTON_c\", \"name\": \"PROTON_c\", \"node_is_primary\": false}, \"17\": {\"node_type\": \"multimarker\", \"x\": 225.0, \"y\": 1605.0}, \"18\": {\"node_type\": \"midmarker\", \"x\": 225.0, \"y\": 1625.0}, \"19\": {\"node_type\": \"multimarker\", \"x\": 225.0, \"y\": 1645.0}, \"20\": {\"node_type\": \"metabolite\", \"x\": 300.0, \"y\": 1980.0, \"label_x\": 310.0, \"label_y\": 1970.0, \"bigg_id\": \"NADP_c\", \"name\": \"NADP_c\", \"node_is_primary\": false}, \"21\": {\"node_type\": \"metabolite\", \"x\": 112.5, \"y\": 2500.0, \"label_x\": 122.5, \"label_y\": 2530.0, \"bigg_id\": \"CARBON_DIOXIDE_c\", \"name\": \"CARBON_DIOXIDE_c\", \"node_is_primary\": false}, \"22\": {\"node_type\": \"metabolite\", \"x\": 225.0, \"y\": 2500.0, \"label_x\": 235.0, \"label_y\": 2530.0, \"bigg_id\": \"NADPH_c\", \"name\": \"NADPH_c\", \"node_is_primary\": false}, \"23\": {\"node_type\": \"metabolite\", \"x\": 337.5, \"y\": 2500.0, \"label_x\": 347.5, \"label_y\": 2530.0, \"bigg_id\": \"RIBULOSE_5P_c\", \"name\": \"RIBULOSE_5P_c\", \"node_is_primary\": false}, \"24\": {\"node_type\": \"multimarker\", \"x\": 225.0, \"y\": 2255.0}, \"25\": {\"node_type\": \"midmarker\", \"x\": 225.0, \"y\": 2275.0}, \"26\": {\"node_type\": \"multimarker\", \"x\": 225.0, \"y\": 2295.0}}, \"text_labels\": {}, \"canvas\": {\"x\": 0, \"y\": 0, \"width\": 450, \"height\": 2600}}]",
       "_loaded_model_json": null,
       "allow_building_duplicate_reactions": false,
       "and_method_in_gene_reaction_rule": "mean",
       "canvas_size_and_loc": null,
       "cofactors": [
        "atp",
        "adp",
        "nad",
        "nadh",
        "nadp",
        "nadph",
        "gtp",
        "gdp",
        "h",
        "coa",
        "ump",
        "h2o",
        "ppi"
       ],
       "disabled_buttons": [
        "Clear gene data",
        "Clear metabolite data"
       ],
       "embedded_css": null,
       "enable_editing": true,
       "enable_keys": false,
       "enable_keys_with_tooltip": true,
       "enable_search": true,
       "enable_tooltips": false,
       "full_screen_button": {
        "enable_editing": true,
        "enable_keys": true,
        "enable_tooltips": [
         "label"
        ],
        "menu": "all",
        "scroll_behavior": "pan"
       },
       "gene_data": null,
       "gene_font_size": 18,
       "height": 500,
       "hide_all_labels": false,
       "hide_secondary_metabolites": false,
       "highlight_missing": false,
       "identifiers_on_map": "bigg_id",
       "layout": "IPY_MODEL_49d2951ee08b49b0a61ccd92741bb43f",
       "marker_radius": 5,
       "menu": "all",
       "metabolite_compare_style": "log2_fold",
       "metabolite_data": null,
       "metabolite_no_data_color": "#ffffff",
       "metabolite_no_data_size": 10,
       "metabolite_scale": [
        {
         "color": "#fffaf0",
         "size": 20,
         "type": "min"
        },
        {
         "color": "#f1c470",
         "size": 30,
         "type": "median"
        },
        {
         "color": "#800000",
         "size": 40,
         "type": "max"
        }
       ],
       "metabolite_scale_preset": "WhYlRd",
       "metabolite_styles": [
        "color",
        "size",
        "text"
       ],
       "never_ask_before_quit": true,
       "primary_metabolite_radius": 20,
       "reaction_compare_style": "log2_fold",
       "reaction_data": {
        "G6PDH2r": -2,
        "GLCpts": -2,
        "GND": 1,
        "Other": 1000,
        "PGL": 0.4
       },
       "reaction_no_data_color": "#dcdcdc",
       "reaction_no_data_size": 8,
       "reaction_scale": [
        {
         "color": "rgb(191,215,230)",
         "type": "value",
         "value": 333.3333333333333
        },
        {
         "color": "rgb(163,210,240)",
         "type": "value",
         "value": 666.6666666666667
        },
        {
         "color": "rgb(135,205,250)",
         "type": "value",
         "value": 1000
        },
        {
         "color": "rgb(220,220,220)",
         "type": "value",
         "value": 0
        },
        {
         "color": "rgb(237,192,110)",
         "type": "value",
         "value": -1
        },
        {
         "color": "rgb(255,165,0)",
         "type": "value",
         "value": -2
        }
       ],
       "reaction_scale_preset": null,
       "reaction_styles": [
        "color",
        "text"
       ],
       "scroll_behavior": "none",
       "secondary_metabolite_radius": 10,
       "semantic_zoom": null,
       "show_gene_reaction_rules": false,
       "starting_reaction": null,
       "use_3d_transform": false,
       "zoom_to_element": null
      }
     },
     "9b6521eed28f40b4aa84beb0feb3f001": {
      "model_module": "escher",
      "model_module_version": "1.7.3",
      "model_name": "EscherMapModel",
      "state": {
       "_loaded_map_json": "[{\"map_name\": \"\", \"map_id\": \"\", \"map_description\": \"\", \"homepage\": \"\", \"schema\": \"https://escher.github.io/escher/jsonschema/1-0-0#\"}, {\"reactions\": {\"0\": {\"name\": \"GLCpts\", \"bigg_id\": \"GLCpts\", \"reversibility\": true, \"label_x\": 265.0, \"label_y\": 325.0, \"gene_reaction_rule\": \"\", \"genes\": [], \"segments\": {\"0\": {\"from_node_id\": \"4\", \"to_node_id\": \"5\", \"b1\": null, \"b2\": null}, \"1\": {\"from_node_id\": \"6\", \"to_node_id\": \"5\", \"b1\": null, \"b2\": null}, \"2\": {\"from_node_id\": \"0\", \"to_node_id\": \"4\", \"b1\": null, \"b2\": null}, \"3\": {\"from_node_id\": \"1\", \"to_node_id\": \"4\", \"b1\": null, \"b2\": null}, \"4\": {\"from_node_id\": \"2\", \"to_node_id\": \"6\", \"b1\": null, \"b2\": null}, \"5\": {\"from_node_id\": \"3\", \"to_node_id\": \"6\", \"b1\": null, \"b2\": null}}, \"metabolites\": [{\"bigg_id\": \"Glucopyranose_e\", \"coefficient\": -1.0}, {\"bigg_id\": \"PHOSPHO_ENOL_PYRUVATE_c\", \"coefficient\": -1.0}, {\"bigg_id\": \"D_glucopyranose_6_phosphate_c\", \"coefficient\": 1.0}, {\"bigg_id\": \"PYRUVATE_c\", \"coefficient\": 1.0}]}, \"1\": {\"name\": \"G6PDH2r\", \"bigg_id\": \"G6PDH2r\", \"reversibility\": true, \"label_x\": 265.0, \"label_y\": 975.0, \"gene_reaction_rule\": \"\", \"genes\": [], \"segments\": {\"6\": {\"from_node_id\": \"11\", \"to_node_id\": \"12\", \"b1\": null, \"b2\": null}, \"7\": {\"from_node_id\": \"13\", \"to_node_id\": \"12\", \"b1\": null, \"b2\": null}, \"8\": {\"from_node_id\": \"2\", \"to_node_id\": \"11\", \"b1\": null, \"b2\": null}, \"9\": {\"from_node_id\": \"7\", \"to_node_id\": \"11\", \"b1\": null, \"b2\": null}, \"10\": {\"from_node_id\": \"8\", \"to_node_id\": \"13\", \"b1\": null, \"b2\": null}, \"11\": {\"from_node_id\": \"9\", \"to_node_id\": \"13\", \"b1\": null, \"b2\": null}, \"12\": {\"from_node_id\": \"10\", \"to_node_id\": \"13\", \"b1\": null, \"b2\": null}}, \"metabolites\": [{\"bigg_id\": \"D_glucopyranose_6_phosphate_c\", \"coefficient\": -1.0}, {\"bigg_id\": \"NADP_c\", \"coefficient\": -1.0}, {\"bigg_id\": \"D_6_P_GLUCONO_DELTA_LACTONE_c\", \"coefficient\": 1.0}, {\"bigg_id\": \"NADPH_c\", \"coefficient\": 1.0}, {\"bigg_id\": \"PROTON_c\", \"coefficient\": 1.0}]}, \"2\": {\"name\": \"PGL\", \"bigg_id\": \"PGL\", \"reversibility\": true, \"label_x\": 265.0, \"label_y\": 1625.0, \"gene_reaction_rule\": \"\", \"genes\": [], \"segments\": {\"13\": {\"from_node_id\": \"17\", \"to_node_id\": \"18\", \"b1\": null, \"b2\": null}, \"14\": {\"from_node_id\": \"19\", \"to_node_id\": \"18\", \"b1\": null, \"b2\": null}, \"15\": {\"from_node_id\": \"14\", \"to_node_id\": \"17\", \"b1\": null, \"b2\": null}, \"16\": {\"from_node_id\": \"8\", \"to_node_id\": \"17\", \"b1\": null, \"b2\": null}, \"17\": {\"from_node_id\": \"15\", \"to_node_id\": \"19\", \"b1\": null, \"b2\": null}, \"18\": {\"from_node_id\": \"16\", \"to_node_id\": \"19\", \"b1\": null, \"b2\": null}}, \"metabolites\": [{\"bigg_id\": \"CPD_15815_c\", \"coefficient\": -1.0}, {\"bigg_id\": \"D_6_P_GLUCONO_DELTA_LACTONE_c\", \"coefficient\": -1.0}, {\"bigg_id\": \"CPD_2961_c\", \"coefficient\": 1.0}, {\"bigg_id\": \"PROTON_c\", \"coefficient\": 1.0}]}, \"3\": {\"name\": \"GND\", \"bigg_id\": \"GND\", \"reversibility\": true, \"label_x\": 265.0, \"label_y\": 2275.0, \"gene_reaction_rule\": \"\", \"genes\": [], \"segments\": {\"19\": {\"from_node_id\": \"24\", \"to_node_id\": \"25\", \"b1\": null, \"b2\": null}, \"20\": {\"from_node_id\": \"26\", \"to_node_id\": \"25\", \"b1\": null, \"b2\": null}, \"21\": {\"from_node_id\": \"15\", \"to_node_id\": \"24\", \"b1\": null, \"b2\": null}, \"22\": {\"from_node_id\": \"20\", \"to_node_id\": \"24\", \"b1\": null, \"b2\": null}, \"23\": {\"from_node_id\": \"21\", \"to_node_id\": \"26\", \"b1\": null, \"b2\": null}, \"24\": {\"from_node_id\": \"22\", \"to_node_id\": \"26\", \"b1\": null, \"b2\": null}, \"25\": {\"from_node_id\": \"23\", \"to_node_id\": \"26\", \"b1\": null, \"b2\": null}}, \"metabolites\": [{\"bigg_id\": \"CPD_2961_c\", \"coefficient\": -1.0}, {\"bigg_id\": \"NADP_c\", \"coefficient\": -1.0}, {\"bigg_id\": \"CARBON_DIOXIDE_c\", \"coefficient\": 1.0}, {\"bigg_id\": \"NADPH_c\", \"coefficient\": 1.0}, {\"bigg_id\": \"RIBULOSE_5P_c\", \"coefficient\": 1.0}]}}, \"nodes\": {\"0\": {\"node_type\": \"metabolite\", \"x\": 150.0, \"y\": 30.0, \"label_x\": 160.0, \"label_y\": 20.0, \"bigg_id\": \"Glucopyranose_e\", \"name\": \"Glucopyranose_e\", \"node_is_primary\": false}, \"1\": {\"node_type\": \"metabolite\", \"x\": 300.0, \"y\": 30.0, \"label_x\": 310.0, \"label_y\": 20.0, \"bigg_id\": \"PHOSPHO_ENOL_PYRUVATE_c\", \"name\": \"PHOSPHO_ENOL_PYRUVATE_c\", \"node_is_primary\": false}, \"2\": {\"node_type\": \"metabolite\", \"x\": 150.0, \"y\": 550.0, \"label_x\": 160.0, \"label_y\": 580.0, \"bigg_id\": \"D_glucopyranose_6_phosphate_c\", \"name\": \"D_glucopyranose_6_phosphate_c\", \"node_is_primary\": false}, \"3\": {\"node_type\": \"metabolite\", \"x\": 300.0, \"y\": 550.0, \"label_x\": 310.0, \"label_y\": 580.0, \"bigg_id\": \"PYRUVATE_c\", \"name\": \"PYRUVATE_c\", \"node_is_primary\": false}, \"4\": {\"node_type\": \"multimarker\", \"x\": 225.0, \"y\": 305.0}, \"5\": {\"node_type\": \"midmarker\", \"x\": 225.0, \"y\": 325.0}, \"6\": {\"node_type\": \"multimarker\", \"x\": 225.0, \"y\": 345.0}, \"7\": {\"node_type\": \"metabolite\", \"x\": 300.0, \"y\": 680.0, \"label_x\": 310.0, \"label_y\": 670.0, \"bigg_id\": \"NADP_c\", \"name\": \"NADP_c\", \"node_is_primary\": false}, \"8\": {\"node_type\": \"metabolite\", \"x\": 112.5, \"y\": 1200.0, \"label_x\": 122.5, \"label_y\": 1230.0, \"bigg_id\": \"D_6_P_GLUCONO_DELTA_LACTONE_c\", \"name\": \"D_6_P_GLUCONO_DELTA_LACTONE_c\", \"node_is_primary\": false}, \"9\": {\"node_type\": \"metabolite\", \"x\": 225.0, \"y\": 1200.0, \"label_x\": 235.0, \"label_y\": 1230.0, \"bigg_id\": \"NADPH_c\", \"name\": \"NADPH_c\", \"node_is_primary\": false}, \"10\": {\"node_type\": \"metabolite\", \"x\": 337.5, \"y\": 1200.0, \"label_x\": 347.5, \"label_y\": 1230.0, \"bigg_id\": \"PROTON_c\", \"name\": \"PROTON_c\", \"node_is_primary\": false}, \"11\": {\"node_type\": \"multimarker\", \"x\": 225.0, \"y\": 955.0}, \"12\": {\"node_type\": \"midmarker\", \"x\": 225.0, \"y\": 975.0}, \"13\": {\"node_type\": \"multimarker\", \"x\": 225.0, \"y\": 995.0}, \"14\": {\"node_type\": \"metabolite\", \"x\": 150.0, \"y\": 1330.0, \"label_x\": 160.0, \"label_y\": 1320.0, \"bigg_id\": \"CPD_15815_c\", \"name\": \"CPD_15815_c\", \"node_is_primary\": false}, \"15\": {\"node_type\": \"metabolite\", \"x\": 150.0, \"y\": 1850.0, \"label_x\": 160.0, \"label_y\": 1880.0, \"bigg_id\": \"CPD_2961_c\", \"name\": \"CPD_2961_c\", \"node_is_primary\": false}, \"16\": {\"node_type\": \"metabolite\", \"x\": 300.0, \"y\": 1850.0, \"label_x\": 310.0, \"label_y\": 1880.0, \"bigg_id\": \"PROTON_c\", \"name\": \"PROTON_c\", \"node_is_primary\": false}, \"17\": {\"node_type\": \"multimarker\", \"x\": 225.0, \"y\": 1605.0}, \"18\": {\"node_type\": \"midmarker\", \"x\": 225.0, \"y\": 1625.0}, \"19\": {\"node_type\": \"multimarker\", \"x\": 225.0, \"y\": 1645.0}, \"20\": {\"node_type\": \"metabolite\", \"x\": 300.0, \"y\": 1980.0, \"label_x\": 310.0, \"label_y\": 1970.0, \"bigg_id\": \"NADP_c\", \"name\": \"NADP_c\", \"node_is_primary\": false}, \"21\": {\"node_type\": \"metabolite\", \"x\": 112.5, \"y\": 2500.0, \"label_x\": 122.5, \"label_y\": 2530.0, \"bigg_id\": \"CARBON_DIOXIDE_c\", \"name\": \"CARBON_DIOXIDE_c\", \"node_is_primary\": false}, \"22\": {\"node_type\": \"metabolite\", \"x\": 225.0, \"y\": 2500.0, \"label_x\": 235.0, \"label_y\": 2530.0, \"bigg_id\": \"NADPH_c\", \"name\": \"NADPH_c\", \"node_is_primary\": false}, \"23\": {\"node_type\": \"metabolite\", \"x\": 337.5, \"y\": 2500.0, \"label_x\": 347.5, \"label_y\": 2530.0, \"bigg_id\": \"RIBULOSE_5P_c\", \"name\": \"RIBULOSE_5P_c\", \"node_is_primary\": false}, \"24\": {\"node_type\": \"multimarker\", \"x\": 225.0, \"y\": 2255.0}, \"25\": {\"node_type\": \"midmarker\", \"x\": 225.0, \"y\": 2275.0}, \"26\": {\"node_type\": \"multimarker\", \"x\": 225.0, \"y\": 2295.0}}, \"text_labels\": {}, \"canvas\": {\"x\": 0, \"y\": 0, \"width\": 450, \"height\": 2600}}]",
       "_loaded_model_json": null,
       "allow_building_duplicate_reactions": false,
       "and_method_in_gene_reaction_rule": "mean",
       "canvas_size_and_loc": null,
       "cofactors": [
        "atp",
        "adp",
        "nad",
        "nadh",
        "nadp",
        "nadph",
        "gtp",
        "gdp",
        "h",
        "coa",
        "ump",
        "h2o",
        "ppi"
       ],
       "disabled_buttons": [
        "Clear gene data",
        "Clear metabolite data"
       ],
       "embedded_css": null,
       "enable_editing": true,
       "enable_keys": false,
       "enable_keys_with_tooltip": true,
       "enable_search": true,
       "enable_tooltips": false,
       "full_screen_button": {
        "enable_editing": true,
        "enable_keys": true,
        "enable_tooltips": [
         "label"
        ],
        "menu": "all",
        "scroll_behavior": "pan"
       },
       "gene_data": null,
       "gene_font_size": 18,
       "height": 500,
       "hide_all_labels": false,
       "hide_secondary_metabolites": false,
       "highlight_missing": false,
       "identifiers_on_map": "bigg_id",
       "layout": "IPY_MODEL_4036a3166d1f40fd9d6e2a2034074124",
       "marker_radius": 5,
       "menu": "all",
       "metabolite_compare_style": "log2_fold",
       "metabolite_data": null,
       "metabolite_no_data_color": "#ffffff",
       "metabolite_no_data_size": 10,
       "metabolite_scale": [
        {
         "color": "#fffaf0",
         "size": 20,
         "type": "min"
        },
        {
         "color": "#f1c470",
         "size": 30,
         "type": "median"
        },
        {
         "color": "#800000",
         "size": 40,
         "type": "max"
        }
       ],
       "metabolite_scale_preset": "WhYlRd",
       "metabolite_styles": [
        "color",
        "size",
        "text"
       ],
       "never_ask_before_quit": true,
       "primary_metabolite_radius": 20,
       "reaction_compare_style": "log2_fold",
       "reaction_data": {
        "G6PDH2r": -2,
        "GLCpts": -2,
        "GND": 1,
        "Other": 1000,
        "PGL": 0.4
       },
       "reaction_no_data_color": "#dcdcdc",
       "reaction_no_data_size": 8,
       "reaction_scale": [
        {
         "color": "rgb(191,215,230)",
         "type": "value",
         "value": 0.4
        },
        {
         "color": "rgb(163,210,240)",
         "type": "value",
         "value": 1
        },
        {
         "color": "rgb(135,205,250)",
         "type": "value",
         "value": 1000
        },
        {
         "color": "rgb(220,220,220)",
         "type": "value",
         "value": 0
        },
        {
         "color": "rgb(237,192,110)",
         "type": "value",
         "value": -2
        },
        {
         "color": "rgb(255,165,0)",
         "type": "value",
         "value": -2
        }
       ],
       "reaction_scale_preset": null,
       "reaction_styles": [
        "color",
        "text"
       ],
       "scroll_behavior": "none",
       "secondary_metabolite_radius": 10,
       "semantic_zoom": null,
       "show_gene_reaction_rules": false,
       "starting_reaction": null,
       "use_3d_transform": false,
       "zoom_to_element": null
      }
     },
     "9b73de00974c4a55aa1b2638f09e8523": {
      "model_module": "escher",
      "model_module_version": "1.7.3",
      "model_name": "EscherMapModel",
      "state": {
       "_loaded_map_json": "[{\"map_name\": \"\", \"map_id\": \"\", \"map_description\": \"\", \"homepage\": \"\", \"schema\": \"https://escher.github.io/escher/jsonschema/1-0-0#\"}, {\"reactions\": {\"0\": {\"name\": \"GLCpts\", \"bigg_id\": \"GLCpts\", \"reversibility\": true, \"label_x\": 265.0, \"label_y\": 325.0, \"gene_reaction_rule\": \"\", \"genes\": [], \"segments\": {\"0\": {\"from_node_id\": \"4\", \"to_node_id\": \"5\", \"b1\": null, \"b2\": null}, \"1\": {\"from_node_id\": \"6\", \"to_node_id\": \"5\", \"b1\": null, \"b2\": null}, \"2\": {\"from_node_id\": \"0\", \"to_node_id\": \"4\", \"b1\": null, \"b2\": null}, \"3\": {\"from_node_id\": \"1\", \"to_node_id\": \"4\", \"b1\": null, \"b2\": null}, \"4\": {\"from_node_id\": \"2\", \"to_node_id\": \"6\", \"b1\": null, \"b2\": null}, \"5\": {\"from_node_id\": \"3\", \"to_node_id\": \"6\", \"b1\": null, \"b2\": null}}, \"metabolites\": [{\"bigg_id\": \"Glucopyranose_e\", \"coefficient\": -1.0}, {\"bigg_id\": \"PHOSPHO_ENOL_PYRUVATE_c\", \"coefficient\": -1.0}, {\"bigg_id\": \"D_glucopyranose_6_phosphate_c\", \"coefficient\": 1.0}, {\"bigg_id\": \"PYRUVATE_c\", \"coefficient\": 1.0}]}, \"1\": {\"name\": \"G6PDH2r\", \"bigg_id\": \"G6PDH2r\", \"reversibility\": true, \"label_x\": 265.0, \"label_y\": 975.0, \"gene_reaction_rule\": \"\", \"genes\": [], \"segments\": {\"6\": {\"from_node_id\": \"11\", \"to_node_id\": \"12\", \"b1\": null, \"b2\": null}, \"7\": {\"from_node_id\": \"13\", \"to_node_id\": \"12\", \"b1\": null, \"b2\": null}, \"8\": {\"from_node_id\": \"2\", \"to_node_id\": \"11\", \"b1\": null, \"b2\": null}, \"9\": {\"from_node_id\": \"7\", \"to_node_id\": \"11\", \"b1\": null, \"b2\": null}, \"10\": {\"from_node_id\": \"8\", \"to_node_id\": \"13\", \"b1\": null, \"b2\": null}, \"11\": {\"from_node_id\": \"9\", \"to_node_id\": \"13\", \"b1\": null, \"b2\": null}, \"12\": {\"from_node_id\": \"10\", \"to_node_id\": \"13\", \"b1\": null, \"b2\": null}}, \"metabolites\": [{\"bigg_id\": \"D_glucopyranose_6_phosphate_c\", \"coefficient\": -1.0}, {\"bigg_id\": \"NADP_c\", \"coefficient\": -1.0}, {\"bigg_id\": \"D_6_P_GLUCONO_DELTA_LACTONE_c\", \"coefficient\": 1.0}, {\"bigg_id\": \"NADPH_c\", \"coefficient\": 1.0}, {\"bigg_id\": \"PROTON_c\", \"coefficient\": 1.0}]}, \"2\": {\"name\": \"PGL\", \"bigg_id\": \"PGL\", \"reversibility\": true, \"label_x\": 265.0, \"label_y\": 1625.0, \"gene_reaction_rule\": \"\", \"genes\": [], \"segments\": {\"13\": {\"from_node_id\": \"17\", \"to_node_id\": \"18\", \"b1\": null, \"b2\": null}, \"14\": {\"from_node_id\": \"19\", \"to_node_id\": \"18\", \"b1\": null, \"b2\": null}, \"15\": {\"from_node_id\": \"14\", \"to_node_id\": \"17\", \"b1\": null, \"b2\": null}, \"16\": {\"from_node_id\": \"8\", \"to_node_id\": \"17\", \"b1\": null, \"b2\": null}, \"17\": {\"from_node_id\": \"15\", \"to_node_id\": \"19\", \"b1\": null, \"b2\": null}, \"18\": {\"from_node_id\": \"16\", \"to_node_id\": \"19\", \"b1\": null, \"b2\": null}}, \"metabolites\": [{\"bigg_id\": \"CPD_15815_c\", \"coefficient\": -1.0}, {\"bigg_id\": \"D_6_P_GLUCONO_DELTA_LACTONE_c\", \"coefficient\": -1.0}, {\"bigg_id\": \"CPD_2961_c\", \"coefficient\": 1.0}, {\"bigg_id\": \"PROTON_c\", \"coefficient\": 1.0}]}, \"3\": {\"name\": \"GND\", \"bigg_id\": \"GND\", \"reversibility\": true, \"label_x\": 265.0, \"label_y\": 2275.0, \"gene_reaction_rule\": \"\", \"genes\": [], \"segments\": {\"19\": {\"from_node_id\": \"24\", \"to_node_id\": \"25\", \"b1\": null, \"b2\": null}, \"20\": {\"from_node_id\": \"26\", \"to_node_id\": \"25\", \"b1\": null, \"b2\": null}, \"21\": {\"from_node_id\": \"15\", \"to_node_id\": \"24\", \"b1\": null, \"b2\": null}, \"22\": {\"from_node_id\": \"20\", \"to_node_id\": \"24\", \"b1\": null, \"b2\": null}, \"23\": {\"from_node_id\": \"21\", \"to_node_id\": \"26\", \"b1\": null, \"b2\": null}, \"24\": {\"from_node_id\": \"22\", \"to_node_id\": \"26\", \"b1\": null, \"b2\": null}, \"25\": {\"from_node_id\": \"23\", \"to_node_id\": \"26\", \"b1\": null, \"b2\": null}}, \"metabolites\": [{\"bigg_id\": \"CPD_2961_c\", \"coefficient\": -1.0}, {\"bigg_id\": \"NADP_c\", \"coefficient\": -1.0}, {\"bigg_id\": \"CARBON_DIOXIDE_c\", \"coefficient\": 1.0}, {\"bigg_id\": \"NADPH_c\", \"coefficient\": 1.0}, {\"bigg_id\": \"RIBULOSE_5P_c\", \"coefficient\": 1.0}]}}, \"nodes\": {\"0\": {\"node_type\": \"metabolite\", \"x\": 150.0, \"y\": 30.0, \"label_x\": 160.0, \"label_y\": 20.0, \"bigg_id\": \"Glucopyranose_e\", \"name\": \"Glucopyranose_e\", \"node_is_primary\": false}, \"1\": {\"node_type\": \"metabolite\", \"x\": 300.0, \"y\": 30.0, \"label_x\": 310.0, \"label_y\": 20.0, \"bigg_id\": \"PHOSPHO_ENOL_PYRUVATE_c\", \"name\": \"PHOSPHO_ENOL_PYRUVATE_c\", \"node_is_primary\": false}, \"2\": {\"node_type\": \"metabolite\", \"x\": 150.0, \"y\": 550.0, \"label_x\": 160.0, \"label_y\": 580.0, \"bigg_id\": \"D_glucopyranose_6_phosphate_c\", \"name\": \"D_glucopyranose_6_phosphate_c\", \"node_is_primary\": false}, \"3\": {\"node_type\": \"metabolite\", \"x\": 300.0, \"y\": 550.0, \"label_x\": 310.0, \"label_y\": 580.0, \"bigg_id\": \"PYRUVATE_c\", \"name\": \"PYRUVATE_c\", \"node_is_primary\": false}, \"4\": {\"node_type\": \"multimarker\", \"x\": 225.0, \"y\": 305.0}, \"5\": {\"node_type\": \"midmarker\", \"x\": 225.0, \"y\": 325.0}, \"6\": {\"node_type\": \"multimarker\", \"x\": 225.0, \"y\": 345.0}, \"7\": {\"node_type\": \"metabolite\", \"x\": 300.0, \"y\": 680.0, \"label_x\": 310.0, \"label_y\": 670.0, \"bigg_id\": \"NADP_c\", \"name\": \"NADP_c\", \"node_is_primary\": false}, \"8\": {\"node_type\": \"metabolite\", \"x\": 112.5, \"y\": 1200.0, \"label_x\": 122.5, \"label_y\": 1230.0, \"bigg_id\": \"D_6_P_GLUCONO_DELTA_LACTONE_c\", \"name\": \"D_6_P_GLUCONO_DELTA_LACTONE_c\", \"node_is_primary\": false}, \"9\": {\"node_type\": \"metabolite\", \"x\": 225.0, \"y\": 1200.0, \"label_x\": 235.0, \"label_y\": 1230.0, \"bigg_id\": \"NADPH_c\", \"name\": \"NADPH_c\", \"node_is_primary\": false}, \"10\": {\"node_type\": \"metabolite\", \"x\": 337.5, \"y\": 1200.0, \"label_x\": 347.5, \"label_y\": 1230.0, \"bigg_id\": \"PROTON_c\", \"name\": \"PROTON_c\", \"node_is_primary\": false}, \"11\": {\"node_type\": \"multimarker\", \"x\": 225.0, \"y\": 955.0}, \"12\": {\"node_type\": \"midmarker\", \"x\": 225.0, \"y\": 975.0}, \"13\": {\"node_type\": \"multimarker\", \"x\": 225.0, \"y\": 995.0}, \"14\": {\"node_type\": \"metabolite\", \"x\": 150.0, \"y\": 1330.0, \"label_x\": 160.0, \"label_y\": 1320.0, \"bigg_id\": \"CPD_15815_c\", \"name\": \"CPD_15815_c\", \"node_is_primary\": false}, \"15\": {\"node_type\": \"metabolite\", \"x\": 150.0, \"y\": 1850.0, \"label_x\": 160.0, \"label_y\": 1880.0, \"bigg_id\": \"CPD_2961_c\", \"name\": \"CPD_2961_c\", \"node_is_primary\": false}, \"16\": {\"node_type\": \"metabolite\", \"x\": 300.0, \"y\": 1850.0, \"label_x\": 310.0, \"label_y\": 1880.0, \"bigg_id\": \"PROTON_c\", \"name\": \"PROTON_c\", \"node_is_primary\": false}, \"17\": {\"node_type\": \"multimarker\", \"x\": 225.0, \"y\": 1605.0}, \"18\": {\"node_type\": \"midmarker\", \"x\": 225.0, \"y\": 1625.0}, \"19\": {\"node_type\": \"multimarker\", \"x\": 225.0, \"y\": 1645.0}, \"20\": {\"node_type\": \"metabolite\", \"x\": 300.0, \"y\": 1980.0, \"label_x\": 310.0, \"label_y\": 1970.0, \"bigg_id\": \"NADP_c\", \"name\": \"NADP_c\", \"node_is_primary\": false}, \"21\": {\"node_type\": \"metabolite\", \"x\": 112.5, \"y\": 2500.0, \"label_x\": 122.5, \"label_y\": 2530.0, \"bigg_id\": \"CARBON_DIOXIDE_c\", \"name\": \"CARBON_DIOXIDE_c\", \"node_is_primary\": false}, \"22\": {\"node_type\": \"metabolite\", \"x\": 225.0, \"y\": 2500.0, \"label_x\": 235.0, \"label_y\": 2530.0, \"bigg_id\": \"NADPH_c\", \"name\": \"NADPH_c\", \"node_is_primary\": false}, \"23\": {\"node_type\": \"metabolite\", \"x\": 337.5, \"y\": 2500.0, \"label_x\": 347.5, \"label_y\": 2530.0, \"bigg_id\": \"RIBULOSE_5P_c\", \"name\": \"RIBULOSE_5P_c\", \"node_is_primary\": false}, \"24\": {\"node_type\": \"multimarker\", \"x\": 225.0, \"y\": 2255.0}, \"25\": {\"node_type\": \"midmarker\", \"x\": 225.0, \"y\": 2275.0}, \"26\": {\"node_type\": \"multimarker\", \"x\": 225.0, \"y\": 2295.0}}, \"text_labels\": {}, \"canvas\": {\"x\": 0, \"y\": 0, \"width\": 450, \"height\": 2600}}]",
       "_loaded_model_json": null,
       "allow_building_duplicate_reactions": false,
       "and_method_in_gene_reaction_rule": "mean",
       "canvas_size_and_loc": null,
       "cofactors": [
        "atp",
        "adp",
        "nad",
        "nadh",
        "nadp",
        "nadph",
        "gtp",
        "gdp",
        "h",
        "coa",
        "ump",
        "h2o",
        "ppi"
       ],
       "disabled_buttons": [
        "Clear reaction data",
        "Clear gene data",
        "Clear metabolite data"
       ],
       "embedded_css": null,
       "enable_editing": true,
       "enable_keys": false,
       "enable_keys_with_tooltip": true,
       "enable_search": true,
       "enable_tooltips": false,
       "full_screen_button": {
        "enable_editing": true,
        "enable_keys": true,
        "enable_tooltips": [
         "label"
        ],
        "menu": "all",
        "scroll_behavior": "pan"
       },
       "gene_data": null,
       "gene_font_size": 18,
       "height": 500,
       "hide_all_labels": false,
       "hide_secondary_metabolites": false,
       "highlight_missing": false,
       "identifiers_on_map": "bigg_id",
       "layout": "IPY_MODEL_ce14c5f5d11a4a5ebd9b275b5a521e64",
       "marker_radius": 5,
       "menu": "all",
       "metabolite_compare_style": "log2_fold",
       "metabolite_data": null,
       "metabolite_no_data_color": "#ffffff",
       "metabolite_no_data_size": 10,
       "metabolite_scale": [
        {
         "color": "#fffaf0",
         "size": 20,
         "type": "min"
        },
        {
         "color": "#f1c470",
         "size": 30,
         "type": "median"
        },
        {
         "color": "#800000",
         "size": 40,
         "type": "max"
        }
       ],
       "metabolite_scale_preset": "WhYlRd",
       "metabolite_styles": [
        "color",
        "size",
        "text"
       ],
       "never_ask_before_quit": true,
       "primary_metabolite_radius": 20,
       "reaction_compare_style": "log2_fold",
       "reaction_data": null,
       "reaction_no_data_color": "#dcdcdc",
       "reaction_no_data_size": 8,
       "reaction_scale": {},
       "reaction_scale_preset": null,
       "reaction_styles": [
        "color",
        "text"
       ],
       "scroll_behavior": "none",
       "secondary_metabolite_radius": 10,
       "semantic_zoom": null,
       "show_gene_reaction_rules": false,
       "starting_reaction": null,
       "use_3d_transform": false,
       "zoom_to_element": null
      }
     },
     "9bbaec422b8e4cd3bf15c418067cd427": {
      "model_module": "escher",
      "model_module_version": "1.7.3",
      "model_name": "EscherMapModel",
      "state": {
       "_loaded_map_json": "[{\"map_name\": \"\", \"map_id\": \"\", \"map_description\": \"\", \"homepage\": \"\", \"schema\": \"https://escher.github.io/escher/jsonschema/1-0-0#\"}, {\"reactions\": {\"0\": {\"name\": \"GLCpts\", \"bigg_id\": \"GLCpts\", \"reversibility\": true, \"label_x\": 265.0, \"label_y\": 325.0, \"gene_reaction_rule\": \"\", \"genes\": [], \"segments\": {\"0\": {\"from_node_id\": \"4\", \"to_node_id\": \"5\", \"b1\": null, \"b2\": null}, \"1\": {\"from_node_id\": \"6\", \"to_node_id\": \"5\", \"b1\": null, \"b2\": null}, \"2\": {\"from_node_id\": \"0\", \"to_node_id\": \"4\", \"b1\": null, \"b2\": null}, \"3\": {\"from_node_id\": \"1\", \"to_node_id\": \"4\", \"b1\": null, \"b2\": null}, \"4\": {\"from_node_id\": \"2\", \"to_node_id\": \"6\", \"b1\": null, \"b2\": null}, \"5\": {\"from_node_id\": \"3\", \"to_node_id\": \"6\", \"b1\": null, \"b2\": null}}, \"metabolites\": [{\"bigg_id\": \"Glucopyranose_e\", \"coefficient\": -1.0}, {\"bigg_id\": \"PHOSPHO_ENOL_PYRUVATE_c\", \"coefficient\": -1.0}, {\"bigg_id\": \"D_glucopyranose_6_phosphate_c\", \"coefficient\": 1.0}, {\"bigg_id\": \"PYRUVATE_c\", \"coefficient\": 1.0}]}, \"1\": {\"name\": \"G6PDH2r\", \"bigg_id\": \"G6PDH2r\", \"reversibility\": true, \"label_x\": 265.0, \"label_y\": 975.0, \"gene_reaction_rule\": \"\", \"genes\": [], \"segments\": {\"6\": {\"from_node_id\": \"11\", \"to_node_id\": \"12\", \"b1\": null, \"b2\": null}, \"7\": {\"from_node_id\": \"13\", \"to_node_id\": \"12\", \"b1\": null, \"b2\": null}, \"8\": {\"from_node_id\": \"2\", \"to_node_id\": \"11\", \"b1\": null, \"b2\": null}, \"9\": {\"from_node_id\": \"7\", \"to_node_id\": \"11\", \"b1\": null, \"b2\": null}, \"10\": {\"from_node_id\": \"8\", \"to_node_id\": \"13\", \"b1\": null, \"b2\": null}, \"11\": {\"from_node_id\": \"9\", \"to_node_id\": \"13\", \"b1\": null, \"b2\": null}, \"12\": {\"from_node_id\": \"10\", \"to_node_id\": \"13\", \"b1\": null, \"b2\": null}}, \"metabolites\": [{\"bigg_id\": \"D_glucopyranose_6_phosphate_c\", \"coefficient\": -1.0}, {\"bigg_id\": \"NADP_c\", \"coefficient\": -1.0}, {\"bigg_id\": \"D_6_P_GLUCONO_DELTA_LACTONE_c\", \"coefficient\": 1.0}, {\"bigg_id\": \"NADPH_c\", \"coefficient\": 1.0}, {\"bigg_id\": \"PROTON_c\", \"coefficient\": 1.0}]}, \"2\": {\"name\": \"PGL\", \"bigg_id\": \"PGL\", \"reversibility\": true, \"label_x\": 265.0, \"label_y\": 1625.0, \"gene_reaction_rule\": \"\", \"genes\": [], \"segments\": {\"13\": {\"from_node_id\": \"17\", \"to_node_id\": \"18\", \"b1\": null, \"b2\": null}, \"14\": {\"from_node_id\": \"19\", \"to_node_id\": \"18\", \"b1\": null, \"b2\": null}, \"15\": {\"from_node_id\": \"14\", \"to_node_id\": \"17\", \"b1\": null, \"b2\": null}, \"16\": {\"from_node_id\": \"8\", \"to_node_id\": \"17\", \"b1\": null, \"b2\": null}, \"17\": {\"from_node_id\": \"15\", \"to_node_id\": \"19\", \"b1\": null, \"b2\": null}, \"18\": {\"from_node_id\": \"16\", \"to_node_id\": \"19\", \"b1\": null, \"b2\": null}}, \"metabolites\": [{\"bigg_id\": \"CPD_15815_c\", \"coefficient\": -1.0}, {\"bigg_id\": \"D_6_P_GLUCONO_DELTA_LACTONE_c\", \"coefficient\": -1.0}, {\"bigg_id\": \"CPD_2961_c\", \"coefficient\": 1.0}, {\"bigg_id\": \"PROTON_c\", \"coefficient\": 1.0}]}, \"3\": {\"name\": \"GND\", \"bigg_id\": \"GND\", \"reversibility\": true, \"label_x\": 265.0, \"label_y\": 2275.0, \"gene_reaction_rule\": \"\", \"genes\": [], \"segments\": {\"19\": {\"from_node_id\": \"24\", \"to_node_id\": \"25\", \"b1\": null, \"b2\": null}, \"20\": {\"from_node_id\": \"26\", \"to_node_id\": \"25\", \"b1\": null, \"b2\": null}, \"21\": {\"from_node_id\": \"15\", \"to_node_id\": \"24\", \"b1\": null, \"b2\": null}, \"22\": {\"from_node_id\": \"20\", \"to_node_id\": \"24\", \"b1\": null, \"b2\": null}, \"23\": {\"from_node_id\": \"21\", \"to_node_id\": \"26\", \"b1\": null, \"b2\": null}, \"24\": {\"from_node_id\": \"22\", \"to_node_id\": \"26\", \"b1\": null, \"b2\": null}, \"25\": {\"from_node_id\": \"23\", \"to_node_id\": \"26\", \"b1\": null, \"b2\": null}}, \"metabolites\": [{\"bigg_id\": \"CPD_2961_c\", \"coefficient\": -1.0}, {\"bigg_id\": \"NADP_c\", \"coefficient\": -1.0}, {\"bigg_id\": \"CARBON_DIOXIDE_c\", \"coefficient\": 1.0}, {\"bigg_id\": \"NADPH_c\", \"coefficient\": 1.0}, {\"bigg_id\": \"RIBULOSE_5P_c\", \"coefficient\": 1.0}]}}, \"nodes\": {\"0\": {\"node_type\": \"metabolite\", \"x\": 150.0, \"y\": 30.0, \"label_x\": 160.0, \"label_y\": 20.0, \"bigg_id\": \"Glucopyranose_e\", \"name\": \"Glucopyranose_e\", \"node_is_primary\": false}, \"1\": {\"node_type\": \"metabolite\", \"x\": 300.0, \"y\": 30.0, \"label_x\": 310.0, \"label_y\": 20.0, \"bigg_id\": \"PHOSPHO_ENOL_PYRUVATE_c\", \"name\": \"PHOSPHO_ENOL_PYRUVATE_c\", \"node_is_primary\": false}, \"2\": {\"node_type\": \"metabolite\", \"x\": 150.0, \"y\": 550.0, \"label_x\": 160.0, \"label_y\": 580.0, \"bigg_id\": \"D_glucopyranose_6_phosphate_c\", \"name\": \"D_glucopyranose_6_phosphate_c\", \"node_is_primary\": false}, \"3\": {\"node_type\": \"metabolite\", \"x\": 300.0, \"y\": 550.0, \"label_x\": 310.0, \"label_y\": 580.0, \"bigg_id\": \"PYRUVATE_c\", \"name\": \"PYRUVATE_c\", \"node_is_primary\": false}, \"4\": {\"node_type\": \"multimarker\", \"x\": 225.0, \"y\": 305.0}, \"5\": {\"node_type\": \"midmarker\", \"x\": 225.0, \"y\": 325.0}, \"6\": {\"node_type\": \"multimarker\", \"x\": 225.0, \"y\": 345.0}, \"7\": {\"node_type\": \"metabolite\", \"x\": 300.0, \"y\": 680.0, \"label_x\": 310.0, \"label_y\": 670.0, \"bigg_id\": \"NADP_c\", \"name\": \"NADP_c\", \"node_is_primary\": false}, \"8\": {\"node_type\": \"metabolite\", \"x\": 112.5, \"y\": 1200.0, \"label_x\": 122.5, \"label_y\": 1230.0, \"bigg_id\": \"D_6_P_GLUCONO_DELTA_LACTONE_c\", \"name\": \"D_6_P_GLUCONO_DELTA_LACTONE_c\", \"node_is_primary\": false}, \"9\": {\"node_type\": \"metabolite\", \"x\": 225.0, \"y\": 1200.0, \"label_x\": 235.0, \"label_y\": 1230.0, \"bigg_id\": \"NADPH_c\", \"name\": \"NADPH_c\", \"node_is_primary\": false}, \"10\": {\"node_type\": \"metabolite\", \"x\": 337.5, \"y\": 1200.0, \"label_x\": 347.5, \"label_y\": 1230.0, \"bigg_id\": \"PROTON_c\", \"name\": \"PROTON_c\", \"node_is_primary\": false}, \"11\": {\"node_type\": \"multimarker\", \"x\": 225.0, \"y\": 955.0}, \"12\": {\"node_type\": \"midmarker\", \"x\": 225.0, \"y\": 975.0}, \"13\": {\"node_type\": \"multimarker\", \"x\": 225.0, \"y\": 995.0}, \"14\": {\"node_type\": \"metabolite\", \"x\": 150.0, \"y\": 1330.0, \"label_x\": 160.0, \"label_y\": 1320.0, \"bigg_id\": \"CPD_15815_c\", \"name\": \"CPD_15815_c\", \"node_is_primary\": false}, \"15\": {\"node_type\": \"metabolite\", \"x\": 150.0, \"y\": 1850.0, \"label_x\": 160.0, \"label_y\": 1880.0, \"bigg_id\": \"CPD_2961_c\", \"name\": \"CPD_2961_c\", \"node_is_primary\": false}, \"16\": {\"node_type\": \"metabolite\", \"x\": 300.0, \"y\": 1850.0, \"label_x\": 310.0, \"label_y\": 1880.0, \"bigg_id\": \"PROTON_c\", \"name\": \"PROTON_c\", \"node_is_primary\": false}, \"17\": {\"node_type\": \"multimarker\", \"x\": 225.0, \"y\": 1605.0}, \"18\": {\"node_type\": \"midmarker\", \"x\": 225.0, \"y\": 1625.0}, \"19\": {\"node_type\": \"multimarker\", \"x\": 225.0, \"y\": 1645.0}, \"20\": {\"node_type\": \"metabolite\", \"x\": 300.0, \"y\": 1980.0, \"label_x\": 310.0, \"label_y\": 1970.0, \"bigg_id\": \"NADP_c\", \"name\": \"NADP_c\", \"node_is_primary\": false}, \"21\": {\"node_type\": \"metabolite\", \"x\": 112.5, \"y\": 2500.0, \"label_x\": 122.5, \"label_y\": 2530.0, \"bigg_id\": \"CARBON_DIOXIDE_c\", \"name\": \"CARBON_DIOXIDE_c\", \"node_is_primary\": false}, \"22\": {\"node_type\": \"metabolite\", \"x\": 225.0, \"y\": 2500.0, \"label_x\": 235.0, \"label_y\": 2530.0, \"bigg_id\": \"NADPH_c\", \"name\": \"NADPH_c\", \"node_is_primary\": false}, \"23\": {\"node_type\": \"metabolite\", \"x\": 337.5, \"y\": 2500.0, \"label_x\": 347.5, \"label_y\": 2530.0, \"bigg_id\": \"RIBULOSE_5P_c\", \"name\": \"RIBULOSE_5P_c\", \"node_is_primary\": false}, \"24\": {\"node_type\": \"multimarker\", \"x\": 225.0, \"y\": 2255.0}, \"25\": {\"node_type\": \"midmarker\", \"x\": 225.0, \"y\": 2275.0}, \"26\": {\"node_type\": \"multimarker\", \"x\": 225.0, \"y\": 2295.0}}, \"text_labels\": {}, \"canvas\": {\"x\": 0, \"y\": 0, \"width\": 450, \"height\": 2600}}]",
       "_loaded_model_json": null,
       "allow_building_duplicate_reactions": false,
       "and_method_in_gene_reaction_rule": "mean",
       "canvas_size_and_loc": null,
       "cofactors": [
        "atp",
        "adp",
        "nad",
        "nadh",
        "nadp",
        "nadph",
        "gtp",
        "gdp",
        "h",
        "coa",
        "ump",
        "h2o",
        "ppi"
       ],
       "disabled_buttons": [
        "Clear gene data",
        "Clear metabolite data"
       ],
       "embedded_css": null,
       "enable_editing": true,
       "enable_keys": false,
       "enable_keys_with_tooltip": true,
       "enable_search": true,
       "enable_tooltips": false,
       "full_screen_button": {
        "enable_editing": true,
        "enable_keys": true,
        "enable_tooltips": [
         "label"
        ],
        "menu": "all",
        "scroll_behavior": "pan"
       },
       "gene_data": null,
       "gene_font_size": 18,
       "height": 500,
       "hide_all_labels": false,
       "hide_secondary_metabolites": false,
       "highlight_missing": false,
       "identifiers_on_map": "bigg_id",
       "layout": "IPY_MODEL_0185cdc0b9e54a55884d144bccfe3a91",
       "marker_radius": 5,
       "menu": "all",
       "metabolite_compare_style": "log2_fold",
       "metabolite_data": null,
       "metabolite_no_data_color": "#ffffff",
       "metabolite_no_data_size": 10,
       "metabolite_scale": [
        {
         "color": "#fffaf0",
         "size": 20,
         "type": "min"
        },
        {
         "color": "#f1c470",
         "size": 30,
         "type": "median"
        },
        {
         "color": "#800000",
         "size": 40,
         "type": "max"
        }
       ],
       "metabolite_scale_preset": "WhYlRd",
       "metabolite_styles": [
        "color",
        "size",
        "text"
       ],
       "never_ask_before_quit": true,
       "primary_metabolite_radius": 20,
       "reaction_compare_style": "log2_fold",
       "reaction_data": {
        "G6PDH2r": -2,
        "GLCpts": -2,
        "GND": 1,
        "Other": 1000,
        "PGL": 0.4
       },
       "reaction_no_data_color": "#dcdcdc",
       "reaction_no_data_size": 8,
       "reaction_scale": [
        {
         "color": "rgb(191,215,230)",
         "type": "value",
         "value": 0.4
        },
        {
         "color": "rgb(163,210,240)",
         "type": "value",
         "value": 1
        },
        {
         "color": "rgb(135,205,250)",
         "type": "value",
         "value": 1000
        },
        {
         "color": "rgb(220,220,220)",
         "type": "value",
         "value": 0
        },
        {
         "color": "rgb(237,192,110)",
         "type": "value",
         "value": -2
        },
        {
         "color": "rgb(255,165,0)",
         "type": "value",
         "value": -2
        }
       ],
       "reaction_scale_preset": null,
       "reaction_styles": [
        "color",
        "text"
       ],
       "scroll_behavior": "none",
       "secondary_metabolite_radius": 10,
       "semantic_zoom": null,
       "show_gene_reaction_rules": false,
       "starting_reaction": null,
       "use_3d_transform": false,
       "zoom_to_element": null
      }
     },
     "9ce9cdc6f884442f9173a4ea481e2407": {
      "model_module": "escher",
      "model_module_version": "1.7.3",
      "model_name": "EscherMapModel",
      "state": {
       "_loaded_map_json": "[{\"map_name\": \"\", \"map_id\": \"\", \"map_description\": \"\", \"homepage\": \"\", \"schema\": \"https://escher.github.io/escher/jsonschema/1-0-0#\"}, {\"reactions\": {\"0\": {\"name\": \"GLCpts\", \"bigg_id\": \"GLCpts\", \"reversibility\": true, \"label_x\": 265.0, \"label_y\": 325.0, \"gene_reaction_rule\": \"\", \"genes\": [], \"segments\": {\"0\": {\"from_node_id\": \"4\", \"to_node_id\": \"5\", \"b1\": null, \"b2\": null}, \"1\": {\"from_node_id\": \"6\", \"to_node_id\": \"5\", \"b1\": null, \"b2\": null}, \"2\": {\"from_node_id\": \"0\", \"to_node_id\": \"4\", \"b1\": null, \"b2\": null}, \"3\": {\"from_node_id\": \"1\", \"to_node_id\": \"4\", \"b1\": null, \"b2\": null}, \"4\": {\"from_node_id\": \"2\", \"to_node_id\": \"6\", \"b1\": null, \"b2\": null}, \"5\": {\"from_node_id\": \"3\", \"to_node_id\": \"6\", \"b1\": null, \"b2\": null}}, \"metabolites\": [{\"bigg_id\": \"Glucopyranose_e\", \"coefficient\": -1.0}, {\"bigg_id\": \"PHOSPHO_ENOL_PYRUVATE_c\", \"coefficient\": -1.0}, {\"bigg_id\": \"D_glucopyranose_6_phosphate_c\", \"coefficient\": 1.0}, {\"bigg_id\": \"PYRUVATE_c\", \"coefficient\": 1.0}]}, \"1\": {\"name\": \"G6PDH2r\", \"bigg_id\": \"G6PDH2r\", \"reversibility\": true, \"label_x\": 265.0, \"label_y\": 975.0, \"gene_reaction_rule\": \"\", \"genes\": [], \"segments\": {\"6\": {\"from_node_id\": \"11\", \"to_node_id\": \"12\", \"b1\": null, \"b2\": null}, \"7\": {\"from_node_id\": \"13\", \"to_node_id\": \"12\", \"b1\": null, \"b2\": null}, \"8\": {\"from_node_id\": \"2\", \"to_node_id\": \"11\", \"b1\": null, \"b2\": null}, \"9\": {\"from_node_id\": \"7\", \"to_node_id\": \"11\", \"b1\": null, \"b2\": null}, \"10\": {\"from_node_id\": \"8\", \"to_node_id\": \"13\", \"b1\": null, \"b2\": null}, \"11\": {\"from_node_id\": \"9\", \"to_node_id\": \"13\", \"b1\": null, \"b2\": null}, \"12\": {\"from_node_id\": \"10\", \"to_node_id\": \"13\", \"b1\": null, \"b2\": null}}, \"metabolites\": [{\"bigg_id\": \"D_glucopyranose_6_phosphate_c\", \"coefficient\": -1.0}, {\"bigg_id\": \"NADP_c\", \"coefficient\": -1.0}, {\"bigg_id\": \"D_6_P_GLUCONO_DELTA_LACTONE_c\", \"coefficient\": 1.0}, {\"bigg_id\": \"NADPH_c\", \"coefficient\": 1.0}, {\"bigg_id\": \"PROTON_c\", \"coefficient\": 1.0}]}, \"2\": {\"name\": \"PGL\", \"bigg_id\": \"PGL\", \"reversibility\": true, \"label_x\": 265.0, \"label_y\": 1625.0, \"gene_reaction_rule\": \"\", \"genes\": [], \"segments\": {\"13\": {\"from_node_id\": \"17\", \"to_node_id\": \"18\", \"b1\": null, \"b2\": null}, \"14\": {\"from_node_id\": \"19\", \"to_node_id\": \"18\", \"b1\": null, \"b2\": null}, \"15\": {\"from_node_id\": \"14\", \"to_node_id\": \"17\", \"b1\": null, \"b2\": null}, \"16\": {\"from_node_id\": \"8\", \"to_node_id\": \"17\", \"b1\": null, \"b2\": null}, \"17\": {\"from_node_id\": \"15\", \"to_node_id\": \"19\", \"b1\": null, \"b2\": null}, \"18\": {\"from_node_id\": \"16\", \"to_node_id\": \"19\", \"b1\": null, \"b2\": null}}, \"metabolites\": [{\"bigg_id\": \"CPD_15815_c\", \"coefficient\": -1.0}, {\"bigg_id\": \"D_6_P_GLUCONO_DELTA_LACTONE_c\", \"coefficient\": -1.0}, {\"bigg_id\": \"CPD_2961_c\", \"coefficient\": 1.0}, {\"bigg_id\": \"PROTON_c\", \"coefficient\": 1.0}]}, \"3\": {\"name\": \"GND\", \"bigg_id\": \"GND\", \"reversibility\": true, \"label_x\": 265.0, \"label_y\": 2275.0, \"gene_reaction_rule\": \"\", \"genes\": [], \"segments\": {\"19\": {\"from_node_id\": \"24\", \"to_node_id\": \"25\", \"b1\": null, \"b2\": null}, \"20\": {\"from_node_id\": \"26\", \"to_node_id\": \"25\", \"b1\": null, \"b2\": null}, \"21\": {\"from_node_id\": \"15\", \"to_node_id\": \"24\", \"b1\": null, \"b2\": null}, \"22\": {\"from_node_id\": \"20\", \"to_node_id\": \"24\", \"b1\": null, \"b2\": null}, \"23\": {\"from_node_id\": \"21\", \"to_node_id\": \"26\", \"b1\": null, \"b2\": null}, \"24\": {\"from_node_id\": \"22\", \"to_node_id\": \"26\", \"b1\": null, \"b2\": null}, \"25\": {\"from_node_id\": \"23\", \"to_node_id\": \"26\", \"b1\": null, \"b2\": null}}, \"metabolites\": [{\"bigg_id\": \"CPD_2961_c\", \"coefficient\": -1.0}, {\"bigg_id\": \"NADP_c\", \"coefficient\": -1.0}, {\"bigg_id\": \"CARBON_DIOXIDE_c\", \"coefficient\": 1.0}, {\"bigg_id\": \"NADPH_c\", \"coefficient\": 1.0}, {\"bigg_id\": \"RIBULOSE_5P_c\", \"coefficient\": 1.0}]}}, \"nodes\": {\"0\": {\"node_type\": \"metabolite\", \"x\": 150.0, \"y\": 30.0, \"label_x\": 160.0, \"label_y\": 20.0, \"bigg_id\": \"Glucopyranose_e\", \"name\": \"Glucopyranose_e\", \"node_is_primary\": false}, \"1\": {\"node_type\": \"metabolite\", \"x\": 300.0, \"y\": 30.0, \"label_x\": 310.0, \"label_y\": 20.0, \"bigg_id\": \"PHOSPHO_ENOL_PYRUVATE_c\", \"name\": \"PHOSPHO_ENOL_PYRUVATE_c\", \"node_is_primary\": false}, \"2\": {\"node_type\": \"metabolite\", \"x\": 150.0, \"y\": 550.0, \"label_x\": 160.0, \"label_y\": 580.0, \"bigg_id\": \"D_glucopyranose_6_phosphate_c\", \"name\": \"D_glucopyranose_6_phosphate_c\", \"node_is_primary\": false}, \"3\": {\"node_type\": \"metabolite\", \"x\": 300.0, \"y\": 550.0, \"label_x\": 310.0, \"label_y\": 580.0, \"bigg_id\": \"PYRUVATE_c\", \"name\": \"PYRUVATE_c\", \"node_is_primary\": false}, \"4\": {\"node_type\": \"multimarker\", \"x\": 225.0, \"y\": 305.0}, \"5\": {\"node_type\": \"midmarker\", \"x\": 225.0, \"y\": 325.0}, \"6\": {\"node_type\": \"multimarker\", \"x\": 225.0, \"y\": 345.0}, \"7\": {\"node_type\": \"metabolite\", \"x\": 300.0, \"y\": 680.0, \"label_x\": 310.0, \"label_y\": 670.0, \"bigg_id\": \"NADP_c\", \"name\": \"NADP_c\", \"node_is_primary\": false}, \"8\": {\"node_type\": \"metabolite\", \"x\": 112.5, \"y\": 1200.0, \"label_x\": 122.5, \"label_y\": 1230.0, \"bigg_id\": \"D_6_P_GLUCONO_DELTA_LACTONE_c\", \"name\": \"D_6_P_GLUCONO_DELTA_LACTONE_c\", \"node_is_primary\": false}, \"9\": {\"node_type\": \"metabolite\", \"x\": 225.0, \"y\": 1200.0, \"label_x\": 235.0, \"label_y\": 1230.0, \"bigg_id\": \"NADPH_c\", \"name\": \"NADPH_c\", \"node_is_primary\": false}, \"10\": {\"node_type\": \"metabolite\", \"x\": 337.5, \"y\": 1200.0, \"label_x\": 347.5, \"label_y\": 1230.0, \"bigg_id\": \"PROTON_c\", \"name\": \"PROTON_c\", \"node_is_primary\": false}, \"11\": {\"node_type\": \"multimarker\", \"x\": 225.0, \"y\": 955.0}, \"12\": {\"node_type\": \"midmarker\", \"x\": 225.0, \"y\": 975.0}, \"13\": {\"node_type\": \"multimarker\", \"x\": 225.0, \"y\": 995.0}, \"14\": {\"node_type\": \"metabolite\", \"x\": 150.0, \"y\": 1330.0, \"label_x\": 160.0, \"label_y\": 1320.0, \"bigg_id\": \"CPD_15815_c\", \"name\": \"CPD_15815_c\", \"node_is_primary\": false}, \"15\": {\"node_type\": \"metabolite\", \"x\": 150.0, \"y\": 1850.0, \"label_x\": 160.0, \"label_y\": 1880.0, \"bigg_id\": \"CPD_2961_c\", \"name\": \"CPD_2961_c\", \"node_is_primary\": false}, \"16\": {\"node_type\": \"metabolite\", \"x\": 300.0, \"y\": 1850.0, \"label_x\": 310.0, \"label_y\": 1880.0, \"bigg_id\": \"PROTON_c\", \"name\": \"PROTON_c\", \"node_is_primary\": false}, \"17\": {\"node_type\": \"multimarker\", \"x\": 225.0, \"y\": 1605.0}, \"18\": {\"node_type\": \"midmarker\", \"x\": 225.0, \"y\": 1625.0}, \"19\": {\"node_type\": \"multimarker\", \"x\": 225.0, \"y\": 1645.0}, \"20\": {\"node_type\": \"metabolite\", \"x\": 300.0, \"y\": 1980.0, \"label_x\": 310.0, \"label_y\": 1970.0, \"bigg_id\": \"NADP_c\", \"name\": \"NADP_c\", \"node_is_primary\": false}, \"21\": {\"node_type\": \"metabolite\", \"x\": 112.5, \"y\": 2500.0, \"label_x\": 122.5, \"label_y\": 2530.0, \"bigg_id\": \"CARBON_DIOXIDE_c\", \"name\": \"CARBON_DIOXIDE_c\", \"node_is_primary\": false}, \"22\": {\"node_type\": \"metabolite\", \"x\": 225.0, \"y\": 2500.0, \"label_x\": 235.0, \"label_y\": 2530.0, \"bigg_id\": \"NADPH_c\", \"name\": \"NADPH_c\", \"node_is_primary\": false}, \"23\": {\"node_type\": \"metabolite\", \"x\": 337.5, \"y\": 2500.0, \"label_x\": 347.5, \"label_y\": 2530.0, \"bigg_id\": \"RIBULOSE_5P_c\", \"name\": \"RIBULOSE_5P_c\", \"node_is_primary\": false}, \"24\": {\"node_type\": \"multimarker\", \"x\": 225.0, \"y\": 2255.0}, \"25\": {\"node_type\": \"midmarker\", \"x\": 225.0, \"y\": 2275.0}, \"26\": {\"node_type\": \"multimarker\", \"x\": 225.0, \"y\": 2295.0}}, \"text_labels\": {}, \"canvas\": {\"x\": 0, \"y\": 0, \"width\": 450, \"height\": 2600}}]",
       "_loaded_model_json": null,
       "allow_building_duplicate_reactions": false,
       "and_method_in_gene_reaction_rule": "mean",
       "canvas_size_and_loc": null,
       "cofactors": [
        "atp",
        "adp",
        "nad",
        "nadh",
        "nadp",
        "nadph",
        "gtp",
        "gdp",
        "h",
        "coa",
        "ump",
        "h2o",
        "ppi"
       ],
       "disabled_buttons": [
        "Clear gene data",
        "Clear metabolite data"
       ],
       "embedded_css": null,
       "enable_editing": true,
       "enable_keys": false,
       "enable_keys_with_tooltip": true,
       "enable_search": true,
       "enable_tooltips": false,
       "full_screen_button": {
        "enable_editing": true,
        "enable_keys": true,
        "enable_tooltips": [
         "label"
        ],
        "menu": "all",
        "scroll_behavior": "pan"
       },
       "gene_data": null,
       "gene_font_size": 18,
       "height": 500,
       "hide_all_labels": false,
       "hide_secondary_metabolites": false,
       "highlight_missing": false,
       "identifiers_on_map": "bigg_id",
       "layout": "IPY_MODEL_1f68aee5ae38499a8ee9d2ba5123cfc6",
       "marker_radius": 5,
       "menu": "all",
       "metabolite_compare_style": "log2_fold",
       "metabolite_data": null,
       "metabolite_no_data_color": "#ffffff",
       "metabolite_no_data_size": 10,
       "metabolite_scale": [
        {
         "color": "#fffaf0",
         "size": 20,
         "type": "min"
        },
        {
         "color": "#f1c470",
         "size": 30,
         "type": "median"
        },
        {
         "color": "#800000",
         "size": 40,
         "type": "max"
        }
       ],
       "metabolite_scale_preset": "WhYlRd",
       "metabolite_styles": [
        "color",
        "size",
        "text"
       ],
       "never_ask_before_quit": true,
       "primary_metabolite_radius": 20,
       "reaction_compare_style": "log2_fold",
       "reaction_data": {
        "G6PDH2r": -2,
        "GLCpts": -2,
        "GND": 1,
        "Other": 1000,
        "PGL": 0.4
       },
       "reaction_no_data_color": "#dcdcdc",
       "reaction_no_data_size": 8,
       "reaction_scale": [
        {
         "color": "rgb(191,215,230)",
         "type": "value",
         "value": 333.3333333333333
        },
        {
         "color": "rgb(163,210,240)",
         "type": "value",
         "value": 666.6666666666667
        },
        {
         "color": "rgb(135,205,250)",
         "type": "value",
         "value": 1000
        },
        {
         "color": "rgb(220,220,220)",
         "type": "value",
         "value": 0
        },
        {
         "color": "rgb(237,192,110)",
         "type": "value",
         "value": -1
        },
        {
         "color": "rgb(255,165,0)",
         "type": "value",
         "value": -2
        }
       ],
       "reaction_scale_preset": null,
       "reaction_styles": [
        "color",
        "text"
       ],
       "scroll_behavior": "none",
       "secondary_metabolite_radius": 10,
       "semantic_zoom": null,
       "show_gene_reaction_rules": false,
       "starting_reaction": null,
       "use_3d_transform": false,
       "zoom_to_element": null
      }
     },
     "a2620e4d344b45bdbae554debcdce405": {
      "model_module": "escher",
      "model_module_version": "1.7.3",
      "model_name": "EscherMapModel",
      "state": {
       "_loaded_map_json": "[{\"map_name\": \"\", \"map_id\": \"\", \"map_description\": \"\", \"homepage\": \"\", \"schema\": \"https://escher.github.io/escher/jsonschema/1-0-0#\"}, {\"reactions\": {\"0\": {\"name\": \"GLCpts\", \"bigg_id\": \"GLCpts\", \"reversibility\": true, \"label_x\": 265.0, \"label_y\": 325.0, \"gene_reaction_rule\": \"\", \"genes\": [], \"segments\": {\"0\": {\"from_node_id\": \"4\", \"to_node_id\": \"5\", \"b1\": null, \"b2\": null}, \"1\": {\"from_node_id\": \"6\", \"to_node_id\": \"5\", \"b1\": null, \"b2\": null}, \"2\": {\"from_node_id\": \"0\", \"to_node_id\": \"4\", \"b1\": null, \"b2\": null}, \"3\": {\"from_node_id\": \"1\", \"to_node_id\": \"4\", \"b1\": null, \"b2\": null}, \"4\": {\"from_node_id\": \"2\", \"to_node_id\": \"6\", \"b1\": null, \"b2\": null}, \"5\": {\"from_node_id\": \"3\", \"to_node_id\": \"6\", \"b1\": null, \"b2\": null}}, \"metabolites\": [{\"bigg_id\": \"Glucopyranose_e\", \"coefficient\": -1.0}, {\"bigg_id\": \"PHOSPHO_ENOL_PYRUVATE_c\", \"coefficient\": -1.0}, {\"bigg_id\": \"D_glucopyranose_6_phosphate_c\", \"coefficient\": 1.0}, {\"bigg_id\": \"PYRUVATE_c\", \"coefficient\": 1.0}]}, \"1\": {\"name\": \"G6PDH2r\", \"bigg_id\": \"G6PDH2r\", \"reversibility\": true, \"label_x\": 265.0, \"label_y\": 975.0, \"gene_reaction_rule\": \"\", \"genes\": [], \"segments\": {\"6\": {\"from_node_id\": \"11\", \"to_node_id\": \"12\", \"b1\": null, \"b2\": null}, \"7\": {\"from_node_id\": \"13\", \"to_node_id\": \"12\", \"b1\": null, \"b2\": null}, \"8\": {\"from_node_id\": \"2\", \"to_node_id\": \"11\", \"b1\": null, \"b2\": null}, \"9\": {\"from_node_id\": \"7\", \"to_node_id\": \"11\", \"b1\": null, \"b2\": null}, \"10\": {\"from_node_id\": \"8\", \"to_node_id\": \"13\", \"b1\": null, \"b2\": null}, \"11\": {\"from_node_id\": \"9\", \"to_node_id\": \"13\", \"b1\": null, \"b2\": null}, \"12\": {\"from_node_id\": \"10\", \"to_node_id\": \"13\", \"b1\": null, \"b2\": null}}, \"metabolites\": [{\"bigg_id\": \"D_glucopyranose_6_phosphate_c\", \"coefficient\": -1.0}, {\"bigg_id\": \"NADP_c\", \"coefficient\": -1.0}, {\"bigg_id\": \"D_6_P_GLUCONO_DELTA_LACTONE_c\", \"coefficient\": 1.0}, {\"bigg_id\": \"NADPH_c\", \"coefficient\": 1.0}, {\"bigg_id\": \"PROTON_c\", \"coefficient\": 1.0}]}, \"2\": {\"name\": \"PGL\", \"bigg_id\": \"PGL\", \"reversibility\": true, \"label_x\": 265.0, \"label_y\": 1625.0, \"gene_reaction_rule\": \"\", \"genes\": [], \"segments\": {\"13\": {\"from_node_id\": \"17\", \"to_node_id\": \"18\", \"b1\": null, \"b2\": null}, \"14\": {\"from_node_id\": \"19\", \"to_node_id\": \"18\", \"b1\": null, \"b2\": null}, \"15\": {\"from_node_id\": \"14\", \"to_node_id\": \"17\", \"b1\": null, \"b2\": null}, \"16\": {\"from_node_id\": \"8\", \"to_node_id\": \"17\", \"b1\": null, \"b2\": null}, \"17\": {\"from_node_id\": \"15\", \"to_node_id\": \"19\", \"b1\": null, \"b2\": null}, \"18\": {\"from_node_id\": \"16\", \"to_node_id\": \"19\", \"b1\": null, \"b2\": null}}, \"metabolites\": [{\"bigg_id\": \"CPD_15815_c\", \"coefficient\": -1.0}, {\"bigg_id\": \"D_6_P_GLUCONO_DELTA_LACTONE_c\", \"coefficient\": -1.0}, {\"bigg_id\": \"CPD_2961_c\", \"coefficient\": 1.0}, {\"bigg_id\": \"PROTON_c\", \"coefficient\": 1.0}]}, \"3\": {\"name\": \"GND\", \"bigg_id\": \"GND\", \"reversibility\": true, \"label_x\": 265.0, \"label_y\": 2275.0, \"gene_reaction_rule\": \"\", \"genes\": [], \"segments\": {\"19\": {\"from_node_id\": \"24\", \"to_node_id\": \"25\", \"b1\": null, \"b2\": null}, \"20\": {\"from_node_id\": \"26\", \"to_node_id\": \"25\", \"b1\": null, \"b2\": null}, \"21\": {\"from_node_id\": \"15\", \"to_node_id\": \"24\", \"b1\": null, \"b2\": null}, \"22\": {\"from_node_id\": \"20\", \"to_node_id\": \"24\", \"b1\": null, \"b2\": null}, \"23\": {\"from_node_id\": \"21\", \"to_node_id\": \"26\", \"b1\": null, \"b2\": null}, \"24\": {\"from_node_id\": \"22\", \"to_node_id\": \"26\", \"b1\": null, \"b2\": null}, \"25\": {\"from_node_id\": \"23\", \"to_node_id\": \"26\", \"b1\": null, \"b2\": null}}, \"metabolites\": [{\"bigg_id\": \"CPD_2961_c\", \"coefficient\": -1.0}, {\"bigg_id\": \"NADP_c\", \"coefficient\": -1.0}, {\"bigg_id\": \"CARBON_DIOXIDE_c\", \"coefficient\": 1.0}, {\"bigg_id\": \"NADPH_c\", \"coefficient\": 1.0}, {\"bigg_id\": \"RIBULOSE_5P_c\", \"coefficient\": 1.0}]}}, \"nodes\": {\"0\": {\"node_type\": \"metabolite\", \"x\": 150.0, \"y\": 30.0, \"label_x\": 160.0, \"label_y\": 20.0, \"bigg_id\": \"Glucopyranose_e\", \"name\": \"Glucopyranose_e\", \"node_is_primary\": false}, \"1\": {\"node_type\": \"metabolite\", \"x\": 300.0, \"y\": 30.0, \"label_x\": 310.0, \"label_y\": 20.0, \"bigg_id\": \"PHOSPHO_ENOL_PYRUVATE_c\", \"name\": \"PHOSPHO_ENOL_PYRUVATE_c\", \"node_is_primary\": false}, \"2\": {\"node_type\": \"metabolite\", \"x\": 150.0, \"y\": 550.0, \"label_x\": 160.0, \"label_y\": 580.0, \"bigg_id\": \"D_glucopyranose_6_phosphate_c\", \"name\": \"D_glucopyranose_6_phosphate_c\", \"node_is_primary\": false}, \"3\": {\"node_type\": \"metabolite\", \"x\": 300.0, \"y\": 550.0, \"label_x\": 310.0, \"label_y\": 580.0, \"bigg_id\": \"PYRUVATE_c\", \"name\": \"PYRUVATE_c\", \"node_is_primary\": false}, \"4\": {\"node_type\": \"multimarker\", \"x\": 225.0, \"y\": 305.0}, \"5\": {\"node_type\": \"midmarker\", \"x\": 225.0, \"y\": 325.0}, \"6\": {\"node_type\": \"multimarker\", \"x\": 225.0, \"y\": 345.0}, \"7\": {\"node_type\": \"metabolite\", \"x\": 300.0, \"y\": 680.0, \"label_x\": 310.0, \"label_y\": 670.0, \"bigg_id\": \"NADP_c\", \"name\": \"NADP_c\", \"node_is_primary\": false}, \"8\": {\"node_type\": \"metabolite\", \"x\": 112.5, \"y\": 1200.0, \"label_x\": 122.5, \"label_y\": 1230.0, \"bigg_id\": \"D_6_P_GLUCONO_DELTA_LACTONE_c\", \"name\": \"D_6_P_GLUCONO_DELTA_LACTONE_c\", \"node_is_primary\": false}, \"9\": {\"node_type\": \"metabolite\", \"x\": 225.0, \"y\": 1200.0, \"label_x\": 235.0, \"label_y\": 1230.0, \"bigg_id\": \"NADPH_c\", \"name\": \"NADPH_c\", \"node_is_primary\": false}, \"10\": {\"node_type\": \"metabolite\", \"x\": 337.5, \"y\": 1200.0, \"label_x\": 347.5, \"label_y\": 1230.0, \"bigg_id\": \"PROTON_c\", \"name\": \"PROTON_c\", \"node_is_primary\": false}, \"11\": {\"node_type\": \"multimarker\", \"x\": 225.0, \"y\": 955.0}, \"12\": {\"node_type\": \"midmarker\", \"x\": 225.0, \"y\": 975.0}, \"13\": {\"node_type\": \"multimarker\", \"x\": 225.0, \"y\": 995.0}, \"14\": {\"node_type\": \"metabolite\", \"x\": 150.0, \"y\": 1330.0, \"label_x\": 160.0, \"label_y\": 1320.0, \"bigg_id\": \"CPD_15815_c\", \"name\": \"CPD_15815_c\", \"node_is_primary\": false}, \"15\": {\"node_type\": \"metabolite\", \"x\": 150.0, \"y\": 1850.0, \"label_x\": 160.0, \"label_y\": 1880.0, \"bigg_id\": \"CPD_2961_c\", \"name\": \"CPD_2961_c\", \"node_is_primary\": false}, \"16\": {\"node_type\": \"metabolite\", \"x\": 300.0, \"y\": 1850.0, \"label_x\": 310.0, \"label_y\": 1880.0, \"bigg_id\": \"PROTON_c\", \"name\": \"PROTON_c\", \"node_is_primary\": false}, \"17\": {\"node_type\": \"multimarker\", \"x\": 225.0, \"y\": 1605.0}, \"18\": {\"node_type\": \"midmarker\", \"x\": 225.0, \"y\": 1625.0}, \"19\": {\"node_type\": \"multimarker\", \"x\": 225.0, \"y\": 1645.0}, \"20\": {\"node_type\": \"metabolite\", \"x\": 300.0, \"y\": 1980.0, \"label_x\": 310.0, \"label_y\": 1970.0, \"bigg_id\": \"NADP_c\", \"name\": \"NADP_c\", \"node_is_primary\": false}, \"21\": {\"node_type\": \"metabolite\", \"x\": 112.5, \"y\": 2500.0, \"label_x\": 122.5, \"label_y\": 2530.0, \"bigg_id\": \"CARBON_DIOXIDE_c\", \"name\": \"CARBON_DIOXIDE_c\", \"node_is_primary\": false}, \"22\": {\"node_type\": \"metabolite\", \"x\": 225.0, \"y\": 2500.0, \"label_x\": 235.0, \"label_y\": 2530.0, \"bigg_id\": \"NADPH_c\", \"name\": \"NADPH_c\", \"node_is_primary\": false}, \"23\": {\"node_type\": \"metabolite\", \"x\": 337.5, \"y\": 2500.0, \"label_x\": 347.5, \"label_y\": 2530.0, \"bigg_id\": \"RIBULOSE_5P_c\", \"name\": \"RIBULOSE_5P_c\", \"node_is_primary\": false}, \"24\": {\"node_type\": \"multimarker\", \"x\": 225.0, \"y\": 2255.0}, \"25\": {\"node_type\": \"midmarker\", \"x\": 225.0, \"y\": 2275.0}, \"26\": {\"node_type\": \"multimarker\", \"x\": 225.0, \"y\": 2295.0}}, \"text_labels\": {}, \"canvas\": {\"x\": 0, \"y\": 0, \"width\": 450, \"height\": 2600}}]",
       "_loaded_model_json": null,
       "allow_building_duplicate_reactions": false,
       "and_method_in_gene_reaction_rule": "mean",
       "canvas_size_and_loc": null,
       "cofactors": [
        "atp",
        "adp",
        "nad",
        "nadh",
        "nadp",
        "nadph",
        "gtp",
        "gdp",
        "h",
        "coa",
        "ump",
        "h2o",
        "ppi"
       ],
       "disabled_buttons": [
        "Clear gene data",
        "Clear metabolite data"
       ],
       "embedded_css": null,
       "enable_editing": true,
       "enable_keys": false,
       "enable_keys_with_tooltip": true,
       "enable_search": true,
       "enable_tooltips": false,
       "full_screen_button": {
        "enable_editing": true,
        "enable_keys": true,
        "enable_tooltips": [
         "label"
        ],
        "menu": "all",
        "scroll_behavior": "pan"
       },
       "gene_data": null,
       "gene_font_size": 18,
       "height": 500,
       "hide_all_labels": false,
       "hide_secondary_metabolites": false,
       "highlight_missing": false,
       "identifiers_on_map": "bigg_id",
       "layout": "IPY_MODEL_2101b0e0b6284065af80e094cb432ee1",
       "marker_radius": 5,
       "menu": "all",
       "metabolite_compare_style": "log2_fold",
       "metabolite_data": null,
       "metabolite_no_data_color": "#ffffff",
       "metabolite_no_data_size": 10,
       "metabolite_scale": [
        {
         "color": "#fffaf0",
         "size": 20,
         "type": "min"
        },
        {
         "color": "#f1c470",
         "size": 30,
         "type": "median"
        },
        {
         "color": "#800000",
         "size": 40,
         "type": "max"
        }
       ],
       "metabolite_scale_preset": "WhYlRd",
       "metabolite_styles": [
        "color",
        "size",
        "text"
       ],
       "never_ask_before_quit": true,
       "primary_metabolite_radius": 20,
       "reaction_compare_style": "log2_fold",
       "reaction_data": {
        "G6PDH2r": -2,
        "GLCpts": -2,
        "GND": 1,
        "Other": 1000,
        "PGL": 0.4
       },
       "reaction_no_data_color": "#dcdcdc",
       "reaction_no_data_size": 8,
       "reaction_scale": [
        {
         "color": "rgb(191,215,230)",
         "type": "value",
         "value": 333.3333333333333
        },
        {
         "color": "rgb(163,210,240)",
         "type": "value",
         "value": 666.6666666666667
        },
        {
         "color": "rgb(135,205,250)",
         "type": "value",
         "value": 1000
        },
        {
         "color": "rgb(220,220,220)",
         "type": "value",
         "value": 0
        },
        {
         "color": "rgb(237,192,110)",
         "type": "value",
         "value": -1
        },
        {
         "color": "rgb(255,165,0)",
         "type": "value",
         "value": -2
        }
       ],
       "reaction_scale_preset": null,
       "reaction_styles": [
        "color",
        "text"
       ],
       "scroll_behavior": "none",
       "secondary_metabolite_radius": 10,
       "semantic_zoom": null,
       "show_gene_reaction_rules": false,
       "starting_reaction": null,
       "use_3d_transform": false,
       "zoom_to_element": null
      }
     },
     "a8fd649c8fd44e8aabbed1d1884b3f44": {
      "model_module": "@jupyter-widgets/base",
      "model_module_version": "1.2.0",
      "model_name": "LayoutModel",
      "state": {}
     },
     "ac4422c504d34a16bd1798e402dccd66": {
      "model_module": "escher",
      "model_module_version": "1.7.3",
      "model_name": "EscherMapModel",
      "state": {
       "_loaded_map_json": "[{\"map_name\": \"\", \"map_id\": \"\", \"map_description\": \"\", \"homepage\": \"\", \"schema\": \"https://escher.github.io/escher/jsonschema/1-0-0#\"}, {\"reactions\": {\"0\": {\"name\": \"GLCpts\", \"bigg_id\": \"GLCpts\", \"reversibility\": true, \"label_x\": 271.0, \"label_y\": 45.0, \"gene_reaction_rule\": \"\", \"genes\": [], \"segments\": {\"0\": {\"from_node_id\": \"4\", \"to_node_id\": \"5\", \"b1\": null, \"b2\": null}, \"1\": {\"from_node_id\": \"6\", \"to_node_id\": \"5\", \"b1\": null, \"b2\": null}, \"2\": {\"from_node_id\": \"0\", \"to_node_id\": \"4\", \"b1\": null, \"b2\": null}, \"3\": {\"from_node_id\": \"1\", \"to_node_id\": \"4\", \"b1\": null, \"b2\": null}, \"4\": {\"from_node_id\": \"2\", \"to_node_id\": \"6\", \"b1\": null, \"b2\": null}, \"5\": {\"from_node_id\": \"3\", \"to_node_id\": \"6\", \"b1\": null, \"b2\": null}}, \"metabolites\": [{\"bigg_id\": \"Glucopyranose_e\", \"coefficient\": -1.0}, {\"bigg_id\": \"PHOSPHO_ENOL_PYRUVATE_c\", \"coefficient\": -1.0}, {\"bigg_id\": \"D_glucopyranose_6_phosphate_c\", \"coefficient\": 1.0}, {\"bigg_id\": \"PYRUVATE_c\", \"coefficient\": 1.0}]}, \"1\": {\"name\": \"G6PDH2r\", \"bigg_id\": \"G6PDH2r\", \"reversibility\": true, \"label_x\": 912.0, \"label_y\": 45.0, \"gene_reaction_rule\": \"\", \"genes\": [], \"segments\": {\"6\": {\"from_node_id\": \"11\", \"to_node_id\": \"12\", \"b1\": null, \"b2\": null}, \"7\": {\"from_node_id\": \"13\", \"to_node_id\": \"12\", \"b1\": null, \"b2\": null}, \"8\": {\"from_node_id\": \"2\", \"to_node_id\": \"11\", \"b1\": null, \"b2\": null}, \"9\": {\"from_node_id\": \"7\", \"to_node_id\": \"11\", \"b1\": null, \"b2\": null}, \"10\": {\"from_node_id\": \"8\", \"to_node_id\": \"13\", \"b1\": null, \"b2\": null}, \"11\": {\"from_node_id\": \"9\", \"to_node_id\": \"13\", \"b1\": null, \"b2\": null}, \"12\": {\"from_node_id\": \"10\", \"to_node_id\": \"13\", \"b1\": null, \"b2\": null}}, \"metabolites\": [{\"bigg_id\": \"D_glucopyranose_6_phosphate_c\", \"coefficient\": -1.0}, {\"bigg_id\": \"NADP_c\", \"coefficient\": -1.0}, {\"bigg_id\": \"D_6_P_GLUCONO_DELTA_LACTONE_c\", \"coefficient\": 1.0}, {\"bigg_id\": \"NADPH_c\", \"coefficient\": 1.0}, {\"bigg_id\": \"PROTON_c\", \"coefficient\": 1.0}]}, \"2\": {\"name\": \"PGL\", \"bigg_id\": \"PGL\", \"reversibility\": true, \"label_x\": 1598.0, \"label_y\": 45.0, \"gene_reaction_rule\": \"\", \"genes\": [], \"segments\": {\"13\": {\"from_node_id\": \"17\", \"to_node_id\": \"18\", \"b1\": null, \"b2\": null}, \"14\": {\"from_node_id\": \"19\", \"to_node_id\": \"18\", \"b1\": null, \"b2\": null}, \"15\": {\"from_node_id\": \"14\", \"to_node_id\": \"17\", \"b1\": null, \"b2\": null}, \"16\": {\"from_node_id\": \"8\", \"to_node_id\": \"17\", \"b1\": null, \"b2\": null}, \"17\": {\"from_node_id\": \"15\", \"to_node_id\": \"19\", \"b1\": null, \"b2\": null}, \"18\": {\"from_node_id\": \"16\", \"to_node_id\": \"19\", \"b1\": null, \"b2\": null}}, \"metabolites\": [{\"bigg_id\": \"CPD_15815_c\", \"coefficient\": -1.0}, {\"bigg_id\": \"D_6_P_GLUCONO_DELTA_LACTONE_c\", \"coefficient\": -1.0}, {\"bigg_id\": \"CPD_2961_c\", \"coefficient\": 1.0}, {\"bigg_id\": \"PROTON_c\", \"coefficient\": 1.0}]}, \"3\": {\"name\": \"GND\", \"bigg_id\": \"GND\", \"reversibility\": true, \"label_x\": 2248.0, \"label_y\": 45.0, \"gene_reaction_rule\": \"\", \"genes\": [], \"segments\": {\"19\": {\"from_node_id\": \"24\", \"to_node_id\": \"25\", \"b1\": null, \"b2\": null}, \"20\": {\"from_node_id\": \"26\", \"to_node_id\": \"25\", \"b1\": null, \"b2\": null}, \"21\": {\"from_node_id\": \"15\", \"to_node_id\": \"24\", \"b1\": null, \"b2\": null}, \"22\": {\"from_node_id\": \"20\", \"to_node_id\": \"24\", \"b1\": null, \"b2\": null}, \"23\": {\"from_node_id\": \"21\", \"to_node_id\": \"26\", \"b1\": null, \"b2\": null}, \"24\": {\"from_node_id\": \"22\", \"to_node_id\": \"26\", \"b1\": null, \"b2\": null}, \"25\": {\"from_node_id\": \"23\", \"to_node_id\": \"26\", \"b1\": null, \"b2\": null}}, \"metabolites\": [{\"bigg_id\": \"CPD_2961_c\", \"coefficient\": -1.0}, {\"bigg_id\": \"NADP_c\", \"coefficient\": -1.0}, {\"bigg_id\": \"CARBON_DIOXIDE_c\", \"coefficient\": 1.0}, {\"bigg_id\": \"NADPH_c\", \"coefficient\": 1.0}, {\"bigg_id\": \"RIBULOSE_5P_c\", \"coefficient\": 1.0}]}}, \"nodes\": {\"0\": {\"node_type\": \"metabolite\", \"x\": 30.0, \"y\": 150.0, \"label_x\": 0.0, \"label_y\": 130.0, \"bigg_id\": \"Glucopyranose_e\", \"name\": \"Glucopyranose_e\", \"node_is_primary\": false}, \"1\": {\"node_type\": \"metabolite\", \"x\": 30.0, \"y\": 300.0, \"label_x\": 0.0, \"label_y\": 280.0, \"bigg_id\": \"PHOSPHO_ENOL_PYRUVATE_c\", \"name\": \"PHOSPHO_ENOL_PYRUVATE_c\", \"node_is_primary\": false}, \"2\": {\"node_type\": \"metabolite\", \"x\": 550.0, \"y\": 150.0, \"label_x\": 520.0, \"label_y\": 130.0, \"bigg_id\": \"D_glucopyranose_6_phosphate_c\", \"name\": \"D_glucopyranose_6_phosphate_c\", \"node_is_primary\": false}, \"3\": {\"node_type\": \"metabolite\", \"x\": 550.0, \"y\": 300.0, \"label_x\": 520.0, \"label_y\": 280.0, \"bigg_id\": \"PYRUVATE_c\", \"name\": \"PYRUVATE_c\", \"node_is_primary\": false}, \"4\": {\"node_type\": \"multimarker\", \"x\": 335.0, \"y\": 225.0}, \"5\": {\"node_type\": \"midmarker\", \"x\": 355.0, \"y\": 225.0}, \"6\": {\"node_type\": \"multimarker\", \"x\": 375.0, \"y\": 225.0}, \"7\": {\"node_type\": \"metabolite\", \"x\": 680.0, \"y\": 300.0, \"label_x\": 650.0, \"label_y\": 280.0, \"bigg_id\": \"NADP_c\", \"name\": \"NADP_c\", \"node_is_primary\": false}, \"8\": {\"node_type\": \"metabolite\", \"x\": 1200.0, \"y\": 112.5, \"label_x\": 1170.0, \"label_y\": 92.5, \"bigg_id\": \"D_6_P_GLUCONO_DELTA_LACTONE_c\", \"name\": \"D_6_P_GLUCONO_DELTA_LACTONE_c\", \"node_is_primary\": false}, \"9\": {\"node_type\": \"metabolite\", \"x\": 1200.0, \"y\": 225.0, \"label_x\": 1170.0, \"label_y\": 205.0, \"bigg_id\": \"NADPH_c\", \"name\": \"NADPH_c\", \"node_is_primary\": false}, \"10\": {\"node_type\": \"metabolite\", \"x\": 1200.0, \"y\": 337.5, \"label_x\": 1170.0, \"label_y\": 317.5, \"bigg_id\": \"PROTON_c\", \"name\": \"PROTON_c\", \"node_is_primary\": false}, \"11\": {\"node_type\": \"multimarker\", \"x\": 985.0, \"y\": 225.0}, \"12\": {\"node_type\": \"midmarker\", \"x\": 1005.0, \"y\": 225.0}, \"13\": {\"node_type\": \"multimarker\", \"x\": 1025.0, \"y\": 225.0}, \"14\": {\"node_type\": \"metabolite\", \"x\": 1330.0, \"y\": 150.0, \"label_x\": 1300.0, \"label_y\": 130.0, \"bigg_id\": \"CPD_15815_c\", \"name\": \"CPD_15815_c\", \"node_is_primary\": false}, \"15\": {\"node_type\": \"metabolite\", \"x\": 1850.0, \"y\": 150.0, \"label_x\": 1820.0, \"label_y\": 130.0, \"bigg_id\": \"CPD_2961_c\", \"name\": \"CPD_2961_c\", \"node_is_primary\": false}, \"16\": {\"node_type\": \"metabolite\", \"x\": 1850.0, \"y\": 300.0, \"label_x\": 1820.0, \"label_y\": 280.0, \"bigg_id\": \"PROTON_c\", \"name\": \"PROTON_c\", \"node_is_primary\": false}, \"17\": {\"node_type\": \"multimarker\", \"x\": 1635.0, \"y\": 225.0}, \"18\": {\"node_type\": \"midmarker\", \"x\": 1655.0, \"y\": 225.0}, \"19\": {\"node_type\": \"multimarker\", \"x\": 1675.0, \"y\": 225.0}, \"20\": {\"node_type\": \"metabolite\", \"x\": 1980.0, \"y\": 300.0, \"label_x\": 1950.0, \"label_y\": 280.0, \"bigg_id\": \"NADP_c\", \"name\": \"NADP_c\", \"node_is_primary\": false}, \"21\": {\"node_type\": \"metabolite\", \"x\": 2500.0, \"y\": 112.5, \"label_x\": 2470.0, \"label_y\": 92.5, \"bigg_id\": \"CARBON_DIOXIDE_c\", \"name\": \"CARBON_DIOXIDE_c\", \"node_is_primary\": false}, \"22\": {\"node_type\": \"metabolite\", \"x\": 2500.0, \"y\": 225.0, \"label_x\": 2470.0, \"label_y\": 205.0, \"bigg_id\": \"NADPH_c\", \"name\": \"NADPH_c\", \"node_is_primary\": false}, \"23\": {\"node_type\": \"metabolite\", \"x\": 2500.0, \"y\": 337.5, \"label_x\": 2470.0, \"label_y\": 317.5, \"bigg_id\": \"RIBULOSE_5P_c\", \"name\": \"RIBULOSE_5P_c\", \"node_is_primary\": false}, \"24\": {\"node_type\": \"multimarker\", \"x\": 2285.0, \"y\": 225.0}, \"25\": {\"node_type\": \"midmarker\", \"x\": 2305.0, \"y\": 225.0}, \"26\": {\"node_type\": \"multimarker\", \"x\": 2325.0, \"y\": 225.0}}, \"text_labels\": {}, \"canvas\": {\"x\": 0, \"y\": 0, \"width\": 2600, \"height\": 450}}]",
       "_loaded_model_json": null,
       "allow_building_duplicate_reactions": false,
       "and_method_in_gene_reaction_rule": "mean",
       "canvas_size_and_loc": null,
       "cofactors": [
        "atp",
        "adp",
        "nad",
        "nadh",
        "nadp",
        "nadph",
        "gtp",
        "gdp",
        "h",
        "coa",
        "ump",
        "h2o",
        "ppi"
       ],
       "disabled_buttons": [
        "Clear reaction data",
        "Clear gene data",
        "Clear metabolite data"
       ],
       "embedded_css": null,
       "enable_editing": true,
       "enable_keys": false,
       "enable_keys_with_tooltip": true,
       "enable_search": true,
       "enable_tooltips": false,
       "full_screen_button": {
        "enable_editing": true,
        "enable_keys": true,
        "enable_tooltips": [
         "label"
        ],
        "menu": "all",
        "scroll_behavior": "pan"
       },
       "gene_data": null,
       "gene_font_size": 18,
       "height": 500,
       "hide_all_labels": false,
       "hide_secondary_metabolites": false,
       "highlight_missing": false,
       "identifiers_on_map": "bigg_id",
       "layout": "IPY_MODEL_24530ebcf0ae4ceb93f74332ac62d57f",
       "marker_radius": 5,
       "menu": "all",
       "metabolite_compare_style": "log2_fold",
       "metabolite_data": null,
       "metabolite_no_data_color": "#ffffff",
       "metabolite_no_data_size": 10,
       "metabolite_scale": [
        {
         "color": "#fffaf0",
         "size": 20,
         "type": "min"
        },
        {
         "color": "#f1c470",
         "size": 30,
         "type": "median"
        },
        {
         "color": "#800000",
         "size": 40,
         "type": "max"
        }
       ],
       "metabolite_scale_preset": "WhYlRd",
       "metabolite_styles": [
        "color",
        "size",
        "text"
       ],
       "never_ask_before_quit": true,
       "primary_metabolite_radius": 20,
       "reaction_compare_style": "log2_fold",
       "reaction_data": null,
       "reaction_no_data_color": "#dcdcdc",
       "reaction_no_data_size": 8,
       "reaction_scale": {},
       "reaction_scale_preset": null,
       "reaction_styles": [
        "color",
        "text"
       ],
       "scroll_behavior": "none",
       "secondary_metabolite_radius": 10,
       "semantic_zoom": null,
       "show_gene_reaction_rules": false,
       "starting_reaction": null,
       "use_3d_transform": false,
       "zoom_to_element": null
      }
     },
     "b05e08ae62a64dabb2f088de0b1a7ea7": {
      "model_module": "escher",
      "model_module_version": "1.7.3",
      "model_name": "EscherMapModel",
      "state": {
       "_loaded_map_json": "[{\"map_name\": \"\", \"map_id\": \"\", \"map_description\": \"\", \"homepage\": \"\", \"schema\": \"https://escher.github.io/escher/jsonschema/1-0-0#\"}, {\"reactions\": {\"0\": {\"name\": \"GLCpts\", \"bigg_id\": \"GLCpts\", \"reversibility\": true, \"label_x\": 265.0, \"label_y\": 325.0, \"gene_reaction_rule\": \"\", \"genes\": [], \"segments\": {\"0\": {\"from_node_id\": \"4\", \"to_node_id\": \"5\", \"b1\": null, \"b2\": null}, \"1\": {\"from_node_id\": \"6\", \"to_node_id\": \"5\", \"b1\": null, \"b2\": null}, \"2\": {\"from_node_id\": \"0\", \"to_node_id\": \"4\", \"b1\": null, \"b2\": null}, \"3\": {\"from_node_id\": \"1\", \"to_node_id\": \"4\", \"b1\": null, \"b2\": null}, \"4\": {\"from_node_id\": \"2\", \"to_node_id\": \"6\", \"b1\": null, \"b2\": null}, \"5\": {\"from_node_id\": \"3\", \"to_node_id\": \"6\", \"b1\": null, \"b2\": null}}, \"metabolites\": [{\"bigg_id\": \"Glucopyranose_e\", \"coefficient\": -1.0}, {\"bigg_id\": \"PHOSPHO_ENOL_PYRUVATE_c\", \"coefficient\": -1.0}, {\"bigg_id\": \"D_glucopyranose_6_phosphate_c\", \"coefficient\": 1.0}, {\"bigg_id\": \"PYRUVATE_c\", \"coefficient\": 1.0}]}, \"1\": {\"name\": \"G6PDH2r\", \"bigg_id\": \"G6PDH2r\", \"reversibility\": true, \"label_x\": 265.0, \"label_y\": 975.0, \"gene_reaction_rule\": \"\", \"genes\": [], \"segments\": {\"6\": {\"from_node_id\": \"11\", \"to_node_id\": \"12\", \"b1\": null, \"b2\": null}, \"7\": {\"from_node_id\": \"13\", \"to_node_id\": \"12\", \"b1\": null, \"b2\": null}, \"8\": {\"from_node_id\": \"2\", \"to_node_id\": \"11\", \"b1\": null, \"b2\": null}, \"9\": {\"from_node_id\": \"7\", \"to_node_id\": \"11\", \"b1\": null, \"b2\": null}, \"10\": {\"from_node_id\": \"8\", \"to_node_id\": \"13\", \"b1\": null, \"b2\": null}, \"11\": {\"from_node_id\": \"9\", \"to_node_id\": \"13\", \"b1\": null, \"b2\": null}, \"12\": {\"from_node_id\": \"10\", \"to_node_id\": \"13\", \"b1\": null, \"b2\": null}}, \"metabolites\": [{\"bigg_id\": \"D_glucopyranose_6_phosphate_c\", \"coefficient\": -1.0}, {\"bigg_id\": \"NADP_c\", \"coefficient\": -1.0}, {\"bigg_id\": \"D_6_P_GLUCONO_DELTA_LACTONE_c\", \"coefficient\": 1.0}, {\"bigg_id\": \"NADPH_c\", \"coefficient\": 1.0}, {\"bigg_id\": \"PROTON_c\", \"coefficient\": 1.0}]}, \"2\": {\"name\": \"PGL\", \"bigg_id\": \"PGL\", \"reversibility\": true, \"label_x\": 265.0, \"label_y\": 1625.0, \"gene_reaction_rule\": \"\", \"genes\": [], \"segments\": {\"13\": {\"from_node_id\": \"17\", \"to_node_id\": \"18\", \"b1\": null, \"b2\": null}, \"14\": {\"from_node_id\": \"19\", \"to_node_id\": \"18\", \"b1\": null, \"b2\": null}, \"15\": {\"from_node_id\": \"14\", \"to_node_id\": \"17\", \"b1\": null, \"b2\": null}, \"16\": {\"from_node_id\": \"8\", \"to_node_id\": \"17\", \"b1\": null, \"b2\": null}, \"17\": {\"from_node_id\": \"15\", \"to_node_id\": \"19\", \"b1\": null, \"b2\": null}, \"18\": {\"from_node_id\": \"16\", \"to_node_id\": \"19\", \"b1\": null, \"b2\": null}}, \"metabolites\": [{\"bigg_id\": \"CPD_15815_c\", \"coefficient\": -1.0}, {\"bigg_id\": \"D_6_P_GLUCONO_DELTA_LACTONE_c\", \"coefficient\": -1.0}, {\"bigg_id\": \"CPD_2961_c\", \"coefficient\": 1.0}, {\"bigg_id\": \"PROTON_c\", \"coefficient\": 1.0}]}, \"3\": {\"name\": \"GND\", \"bigg_id\": \"GND\", \"reversibility\": true, \"label_x\": 265.0, \"label_y\": 2275.0, \"gene_reaction_rule\": \"\", \"genes\": [], \"segments\": {\"19\": {\"from_node_id\": \"24\", \"to_node_id\": \"25\", \"b1\": null, \"b2\": null}, \"20\": {\"from_node_id\": \"26\", \"to_node_id\": \"25\", \"b1\": null, \"b2\": null}, \"21\": {\"from_node_id\": \"15\", \"to_node_id\": \"24\", \"b1\": null, \"b2\": null}, \"22\": {\"from_node_id\": \"20\", \"to_node_id\": \"24\", \"b1\": null, \"b2\": null}, \"23\": {\"from_node_id\": \"21\", \"to_node_id\": \"26\", \"b1\": null, \"b2\": null}, \"24\": {\"from_node_id\": \"22\", \"to_node_id\": \"26\", \"b1\": null, \"b2\": null}, \"25\": {\"from_node_id\": \"23\", \"to_node_id\": \"26\", \"b1\": null, \"b2\": null}}, \"metabolites\": [{\"bigg_id\": \"CPD_2961_c\", \"coefficient\": -1.0}, {\"bigg_id\": \"NADP_c\", \"coefficient\": -1.0}, {\"bigg_id\": \"CARBON_DIOXIDE_c\", \"coefficient\": 1.0}, {\"bigg_id\": \"NADPH_c\", \"coefficient\": 1.0}, {\"bigg_id\": \"RIBULOSE_5P_c\", \"coefficient\": 1.0}]}}, \"nodes\": {\"0\": {\"node_type\": \"metabolite\", \"x\": 150.0, \"y\": 30.0, \"label_x\": 160.0, \"label_y\": 20.0, \"bigg_id\": \"Glucopyranose_e\", \"name\": \"Glucopyranose_e\", \"node_is_primary\": false}, \"1\": {\"node_type\": \"metabolite\", \"x\": 300.0, \"y\": 30.0, \"label_x\": 310.0, \"label_y\": 20.0, \"bigg_id\": \"PHOSPHO_ENOL_PYRUVATE_c\", \"name\": \"PHOSPHO_ENOL_PYRUVATE_c\", \"node_is_primary\": false}, \"2\": {\"node_type\": \"metabolite\", \"x\": 150.0, \"y\": 550.0, \"label_x\": 160.0, \"label_y\": 580.0, \"bigg_id\": \"D_glucopyranose_6_phosphate_c\", \"name\": \"D_glucopyranose_6_phosphate_c\", \"node_is_primary\": false}, \"3\": {\"node_type\": \"metabolite\", \"x\": 300.0, \"y\": 550.0, \"label_x\": 310.0, \"label_y\": 580.0, \"bigg_id\": \"PYRUVATE_c\", \"name\": \"PYRUVATE_c\", \"node_is_primary\": false}, \"4\": {\"node_type\": \"multimarker\", \"x\": 225.0, \"y\": 305.0}, \"5\": {\"node_type\": \"midmarker\", \"x\": 225.0, \"y\": 325.0}, \"6\": {\"node_type\": \"multimarker\", \"x\": 225.0, \"y\": 345.0}, \"7\": {\"node_type\": \"metabolite\", \"x\": 300.0, \"y\": 680.0, \"label_x\": 310.0, \"label_y\": 670.0, \"bigg_id\": \"NADP_c\", \"name\": \"NADP_c\", \"node_is_primary\": false}, \"8\": {\"node_type\": \"metabolite\", \"x\": 112.5, \"y\": 1200.0, \"label_x\": 122.5, \"label_y\": 1230.0, \"bigg_id\": \"D_6_P_GLUCONO_DELTA_LACTONE_c\", \"name\": \"D_6_P_GLUCONO_DELTA_LACTONE_c\", \"node_is_primary\": false}, \"9\": {\"node_type\": \"metabolite\", \"x\": 225.0, \"y\": 1200.0, \"label_x\": 235.0, \"label_y\": 1230.0, \"bigg_id\": \"NADPH_c\", \"name\": \"NADPH_c\", \"node_is_primary\": false}, \"10\": {\"node_type\": \"metabolite\", \"x\": 337.5, \"y\": 1200.0, \"label_x\": 347.5, \"label_y\": 1230.0, \"bigg_id\": \"PROTON_c\", \"name\": \"PROTON_c\", \"node_is_primary\": false}, \"11\": {\"node_type\": \"multimarker\", \"x\": 225.0, \"y\": 955.0}, \"12\": {\"node_type\": \"midmarker\", \"x\": 225.0, \"y\": 975.0}, \"13\": {\"node_type\": \"multimarker\", \"x\": 225.0, \"y\": 995.0}, \"14\": {\"node_type\": \"metabolite\", \"x\": 150.0, \"y\": 1330.0, \"label_x\": 160.0, \"label_y\": 1320.0, \"bigg_id\": \"CPD_15815_c\", \"name\": \"CPD_15815_c\", \"node_is_primary\": false}, \"15\": {\"node_type\": \"metabolite\", \"x\": 150.0, \"y\": 1850.0, \"label_x\": 160.0, \"label_y\": 1880.0, \"bigg_id\": \"CPD_2961_c\", \"name\": \"CPD_2961_c\", \"node_is_primary\": false}, \"16\": {\"node_type\": \"metabolite\", \"x\": 300.0, \"y\": 1850.0, \"label_x\": 310.0, \"label_y\": 1880.0, \"bigg_id\": \"PROTON_c\", \"name\": \"PROTON_c\", \"node_is_primary\": false}, \"17\": {\"node_type\": \"multimarker\", \"x\": 225.0, \"y\": 1605.0}, \"18\": {\"node_type\": \"midmarker\", \"x\": 225.0, \"y\": 1625.0}, \"19\": {\"node_type\": \"multimarker\", \"x\": 225.0, \"y\": 1645.0}, \"20\": {\"node_type\": \"metabolite\", \"x\": 300.0, \"y\": 1980.0, \"label_x\": 310.0, \"label_y\": 1970.0, \"bigg_id\": \"NADP_c\", \"name\": \"NADP_c\", \"node_is_primary\": false}, \"21\": {\"node_type\": \"metabolite\", \"x\": 112.5, \"y\": 2500.0, \"label_x\": 122.5, \"label_y\": 2530.0, \"bigg_id\": \"CARBON_DIOXIDE_c\", \"name\": \"CARBON_DIOXIDE_c\", \"node_is_primary\": false}, \"22\": {\"node_type\": \"metabolite\", \"x\": 225.0, \"y\": 2500.0, \"label_x\": 235.0, \"label_y\": 2530.0, \"bigg_id\": \"NADPH_c\", \"name\": \"NADPH_c\", \"node_is_primary\": false}, \"23\": {\"node_type\": \"metabolite\", \"x\": 337.5, \"y\": 2500.0, \"label_x\": 347.5, \"label_y\": 2530.0, \"bigg_id\": \"RIBULOSE_5P_c\", \"name\": \"RIBULOSE_5P_c\", \"node_is_primary\": false}, \"24\": {\"node_type\": \"multimarker\", \"x\": 225.0, \"y\": 2255.0}, \"25\": {\"node_type\": \"midmarker\", \"x\": 225.0, \"y\": 2275.0}, \"26\": {\"node_type\": \"multimarker\", \"x\": 225.0, \"y\": 2295.0}}, \"text_labels\": {}, \"canvas\": {\"x\": 0, \"y\": 0, \"width\": 450, \"height\": 2600}}]",
       "_loaded_model_json": null,
       "allow_building_duplicate_reactions": false,
       "and_method_in_gene_reaction_rule": "mean",
       "canvas_size_and_loc": null,
       "cofactors": [
        "atp",
        "adp",
        "nad",
        "nadh",
        "nadp",
        "nadph",
        "gtp",
        "gdp",
        "h",
        "coa",
        "ump",
        "h2o",
        "ppi"
       ],
       "disabled_buttons": [
        "Clear gene data",
        "Clear metabolite data"
       ],
       "embedded_css": null,
       "enable_editing": true,
       "enable_keys": false,
       "enable_keys_with_tooltip": true,
       "enable_search": true,
       "enable_tooltips": false,
       "full_screen_button": {
        "enable_editing": true,
        "enable_keys": true,
        "enable_tooltips": [
         "label"
        ],
        "menu": "all",
        "scroll_behavior": "pan"
       },
       "gene_data": null,
       "gene_font_size": 18,
       "height": 500,
       "hide_all_labels": false,
       "hide_secondary_metabolites": false,
       "highlight_missing": false,
       "identifiers_on_map": "bigg_id",
       "layout": "IPY_MODEL_417586f1c6ca43f1a97566bad2ee9076",
       "marker_radius": 5,
       "menu": "all",
       "metabolite_compare_style": "log2_fold",
       "metabolite_data": null,
       "metabolite_no_data_color": "#ffffff",
       "metabolite_no_data_size": 10,
       "metabolite_scale": [
        {
         "color": "#fffaf0",
         "size": 20,
         "type": "min"
        },
        {
         "color": "#f1c470",
         "size": 30,
         "type": "median"
        },
        {
         "color": "#800000",
         "size": 40,
         "type": "max"
        }
       ],
       "metabolite_scale_preset": "WhYlRd",
       "metabolite_styles": [
        "color",
        "size",
        "text"
       ],
       "never_ask_before_quit": true,
       "primary_metabolite_radius": 20,
       "reaction_compare_style": "log2_fold",
       "reaction_data": {
        "G6PDH2r": -2,
        "GLCpts": -2,
        "GND": 1,
        "Other": 1000,
        "PGL": 0.4
       },
       "reaction_no_data_color": "#dcdcdc",
       "reaction_no_data_size": 8,
       "reaction_scale": [
        {
         "color": "rgb(191,215,230)",
         "type": "value",
         "value": 0.4
        },
        {
         "color": "rgb(163,210,240)",
         "type": "value",
         "value": 1
        },
        {
         "color": "rgb(135,205,250)",
         "type": "value",
         "value": 1000
        },
        {
         "color": "rgb(220,220,220)",
         "type": "value",
         "value": 0
        },
        {
         "color": "rgb(237,192,110)",
         "type": "value",
         "value": -2
        },
        {
         "color": "rgb(255,165,0)",
         "type": "value",
         "value": -2
        }
       ],
       "reaction_scale_preset": null,
       "reaction_styles": [
        "color",
        "text"
       ],
       "scroll_behavior": "none",
       "secondary_metabolite_radius": 10,
       "semantic_zoom": null,
       "show_gene_reaction_rules": false,
       "starting_reaction": null,
       "use_3d_transform": false,
       "zoom_to_element": null
      }
     },
     "b0a30e7fdf2a49d89313e93509dc1926": {
      "model_module": "escher",
      "model_module_version": "1.7.3",
      "model_name": "EscherMapModel",
      "state": {
       "_loaded_map_json": "[{\"map_name\": \"\", \"map_id\": \"\", \"map_description\": \"\", \"homepage\": \"\", \"schema\": \"https://escher.github.io/escher/jsonschema/1-0-0#\"}, {\"reactions\": {\"0\": {\"name\": \"GLCpts\", \"bigg_id\": \"GLCpts\", \"reversibility\": true, \"label_x\": 271.0, \"label_y\": 45.0, \"gene_reaction_rule\": \"\", \"genes\": [], \"segments\": {\"0\": {\"from_node_id\": \"4\", \"to_node_id\": \"5\", \"b1\": null, \"b2\": null}, \"1\": {\"from_node_id\": \"6\", \"to_node_id\": \"5\", \"b1\": null, \"b2\": null}, \"2\": {\"from_node_id\": \"0\", \"to_node_id\": \"4\", \"b1\": null, \"b2\": null}, \"3\": {\"from_node_id\": \"1\", \"to_node_id\": \"4\", \"b1\": null, \"b2\": null}, \"4\": {\"from_node_id\": \"2\", \"to_node_id\": \"6\", \"b1\": null, \"b2\": null}, \"5\": {\"from_node_id\": \"3\", \"to_node_id\": \"6\", \"b1\": null, \"b2\": null}}, \"metabolites\": [{\"bigg_id\": \"Glucopyranose_e\", \"coefficient\": -1.0}, {\"bigg_id\": \"PHOSPHO_ENOL_PYRUVATE_c\", \"coefficient\": -1.0}, {\"bigg_id\": \"D_glucopyranose_6_phosphate_c\", \"coefficient\": 1.0}, {\"bigg_id\": \"PYRUVATE_c\", \"coefficient\": 1.0}]}, \"1\": {\"name\": \"G6PDH2r\", \"bigg_id\": \"G6PDH2r\", \"reversibility\": true, \"label_x\": 912.0, \"label_y\": 45.0, \"gene_reaction_rule\": \"\", \"genes\": [], \"segments\": {\"6\": {\"from_node_id\": \"11\", \"to_node_id\": \"12\", \"b1\": null, \"b2\": null}, \"7\": {\"from_node_id\": \"13\", \"to_node_id\": \"12\", \"b1\": null, \"b2\": null}, \"8\": {\"from_node_id\": \"2\", \"to_node_id\": \"11\", \"b1\": null, \"b2\": null}, \"9\": {\"from_node_id\": \"7\", \"to_node_id\": \"11\", \"b1\": null, \"b2\": null}, \"10\": {\"from_node_id\": \"8\", \"to_node_id\": \"13\", \"b1\": null, \"b2\": null}, \"11\": {\"from_node_id\": \"9\", \"to_node_id\": \"13\", \"b1\": null, \"b2\": null}, \"12\": {\"from_node_id\": \"10\", \"to_node_id\": \"13\", \"b1\": null, \"b2\": null}}, \"metabolites\": [{\"bigg_id\": \"D_glucopyranose_6_phosphate_c\", \"coefficient\": -1.0}, {\"bigg_id\": \"NADP_c\", \"coefficient\": -1.0}, {\"bigg_id\": \"D_6_P_GLUCONO_DELTA_LACTONE_c\", \"coefficient\": 1.0}, {\"bigg_id\": \"NADPH_c\", \"coefficient\": 1.0}, {\"bigg_id\": \"PROTON_c\", \"coefficient\": 1.0}]}, \"2\": {\"name\": \"PGL\", \"bigg_id\": \"PGL\", \"reversibility\": true, \"label_x\": 1598.0, \"label_y\": 45.0, \"gene_reaction_rule\": \"\", \"genes\": [], \"segments\": {\"13\": {\"from_node_id\": \"17\", \"to_node_id\": \"18\", \"b1\": null, \"b2\": null}, \"14\": {\"from_node_id\": \"19\", \"to_node_id\": \"18\", \"b1\": null, \"b2\": null}, \"15\": {\"from_node_id\": \"14\", \"to_node_id\": \"17\", \"b1\": null, \"b2\": null}, \"16\": {\"from_node_id\": \"8\", \"to_node_id\": \"17\", \"b1\": null, \"b2\": null}, \"17\": {\"from_node_id\": \"15\", \"to_node_id\": \"19\", \"b1\": null, \"b2\": null}, \"18\": {\"from_node_id\": \"16\", \"to_node_id\": \"19\", \"b1\": null, \"b2\": null}}, \"metabolites\": [{\"bigg_id\": \"CPD_15815_c\", \"coefficient\": -1.0}, {\"bigg_id\": \"D_6_P_GLUCONO_DELTA_LACTONE_c\", \"coefficient\": -1.0}, {\"bigg_id\": \"CPD_2961_c\", \"coefficient\": 1.0}, {\"bigg_id\": \"PROTON_c\", \"coefficient\": 1.0}]}, \"3\": {\"name\": \"GND\", \"bigg_id\": \"GND\", \"reversibility\": true, \"label_x\": 2248.0, \"label_y\": 45.0, \"gene_reaction_rule\": \"\", \"genes\": [], \"segments\": {\"19\": {\"from_node_id\": \"24\", \"to_node_id\": \"25\", \"b1\": null, \"b2\": null}, \"20\": {\"from_node_id\": \"26\", \"to_node_id\": \"25\", \"b1\": null, \"b2\": null}, \"21\": {\"from_node_id\": \"15\", \"to_node_id\": \"24\", \"b1\": null, \"b2\": null}, \"22\": {\"from_node_id\": \"20\", \"to_node_id\": \"24\", \"b1\": null, \"b2\": null}, \"23\": {\"from_node_id\": \"21\", \"to_node_id\": \"26\", \"b1\": null, \"b2\": null}, \"24\": {\"from_node_id\": \"22\", \"to_node_id\": \"26\", \"b1\": null, \"b2\": null}, \"25\": {\"from_node_id\": \"23\", \"to_node_id\": \"26\", \"b1\": null, \"b2\": null}}, \"metabolites\": [{\"bigg_id\": \"CPD_2961_c\", \"coefficient\": -1.0}, {\"bigg_id\": \"NADP_c\", \"coefficient\": -1.0}, {\"bigg_id\": \"CARBON_DIOXIDE_c\", \"coefficient\": 1.0}, {\"bigg_id\": \"NADPH_c\", \"coefficient\": 1.0}, {\"bigg_id\": \"RIBULOSE_5P_c\", \"coefficient\": 1.0}]}}, \"nodes\": {\"0\": {\"node_type\": \"metabolite\", \"x\": 30.0, \"y\": 150.0, \"label_x\": 0.0, \"label_y\": 130.0, \"bigg_id\": \"Glucopyranose_e\", \"name\": \"Glucopyranose_e\", \"node_is_primary\": false}, \"1\": {\"node_type\": \"metabolite\", \"x\": 30.0, \"y\": 300.0, \"label_x\": 0.0, \"label_y\": 280.0, \"bigg_id\": \"PHOSPHO_ENOL_PYRUVATE_c\", \"name\": \"PHOSPHO_ENOL_PYRUVATE_c\", \"node_is_primary\": false}, \"2\": {\"node_type\": \"metabolite\", \"x\": 550.0, \"y\": 150.0, \"label_x\": 520.0, \"label_y\": 130.0, \"bigg_id\": \"D_glucopyranose_6_phosphate_c\", \"name\": \"D_glucopyranose_6_phosphate_c\", \"node_is_primary\": false}, \"3\": {\"node_type\": \"metabolite\", \"x\": 550.0, \"y\": 300.0, \"label_x\": 520.0, \"label_y\": 280.0, \"bigg_id\": \"PYRUVATE_c\", \"name\": \"PYRUVATE_c\", \"node_is_primary\": false}, \"4\": {\"node_type\": \"multimarker\", \"x\": 335.0, \"y\": 225.0}, \"5\": {\"node_type\": \"midmarker\", \"x\": 355.0, \"y\": 225.0}, \"6\": {\"node_type\": \"multimarker\", \"x\": 375.0, \"y\": 225.0}, \"7\": {\"node_type\": \"metabolite\", \"x\": 680.0, \"y\": 300.0, \"label_x\": 650.0, \"label_y\": 280.0, \"bigg_id\": \"NADP_c\", \"name\": \"NADP_c\", \"node_is_primary\": false}, \"8\": {\"node_type\": \"metabolite\", \"x\": 1200.0, \"y\": 112.5, \"label_x\": 1170.0, \"label_y\": 92.5, \"bigg_id\": \"D_6_P_GLUCONO_DELTA_LACTONE_c\", \"name\": \"D_6_P_GLUCONO_DELTA_LACTONE_c\", \"node_is_primary\": false}, \"9\": {\"node_type\": \"metabolite\", \"x\": 1200.0, \"y\": 225.0, \"label_x\": 1170.0, \"label_y\": 205.0, \"bigg_id\": \"NADPH_c\", \"name\": \"NADPH_c\", \"node_is_primary\": false}, \"10\": {\"node_type\": \"metabolite\", \"x\": 1200.0, \"y\": 337.5, \"label_x\": 1170.0, \"label_y\": 317.5, \"bigg_id\": \"PROTON_c\", \"name\": \"PROTON_c\", \"node_is_primary\": false}, \"11\": {\"node_type\": \"multimarker\", \"x\": 985.0, \"y\": 225.0}, \"12\": {\"node_type\": \"midmarker\", \"x\": 1005.0, \"y\": 225.0}, \"13\": {\"node_type\": \"multimarker\", \"x\": 1025.0, \"y\": 225.0}, \"14\": {\"node_type\": \"metabolite\", \"x\": 1330.0, \"y\": 150.0, \"label_x\": 1300.0, \"label_y\": 130.0, \"bigg_id\": \"CPD_15815_c\", \"name\": \"CPD_15815_c\", \"node_is_primary\": false}, \"15\": {\"node_type\": \"metabolite\", \"x\": 1850.0, \"y\": 150.0, \"label_x\": 1820.0, \"label_y\": 130.0, \"bigg_id\": \"CPD_2961_c\", \"name\": \"CPD_2961_c\", \"node_is_primary\": false}, \"16\": {\"node_type\": \"metabolite\", \"x\": 1850.0, \"y\": 300.0, \"label_x\": 1820.0, \"label_y\": 280.0, \"bigg_id\": \"PROTON_c\", \"name\": \"PROTON_c\", \"node_is_primary\": false}, \"17\": {\"node_type\": \"multimarker\", \"x\": 1635.0, \"y\": 225.0}, \"18\": {\"node_type\": \"midmarker\", \"x\": 1655.0, \"y\": 225.0}, \"19\": {\"node_type\": \"multimarker\", \"x\": 1675.0, \"y\": 225.0}, \"20\": {\"node_type\": \"metabolite\", \"x\": 1980.0, \"y\": 300.0, \"label_x\": 1950.0, \"label_y\": 280.0, \"bigg_id\": \"NADP_c\", \"name\": \"NADP_c\", \"node_is_primary\": false}, \"21\": {\"node_type\": \"metabolite\", \"x\": 2500.0, \"y\": 112.5, \"label_x\": 2470.0, \"label_y\": 92.5, \"bigg_id\": \"CARBON_DIOXIDE_c\", \"name\": \"CARBON_DIOXIDE_c\", \"node_is_primary\": false}, \"22\": {\"node_type\": \"metabolite\", \"x\": 2500.0, \"y\": 225.0, \"label_x\": 2470.0, \"label_y\": 205.0, \"bigg_id\": \"NADPH_c\", \"name\": \"NADPH_c\", \"node_is_primary\": false}, \"23\": {\"node_type\": \"metabolite\", \"x\": 2500.0, \"y\": 337.5, \"label_x\": 2470.0, \"label_y\": 317.5, \"bigg_id\": \"RIBULOSE_5P_c\", \"name\": \"RIBULOSE_5P_c\", \"node_is_primary\": false}, \"24\": {\"node_type\": \"multimarker\", \"x\": 2285.0, \"y\": 225.0}, \"25\": {\"node_type\": \"midmarker\", \"x\": 2305.0, \"y\": 225.0}, \"26\": {\"node_type\": \"multimarker\", \"x\": 2325.0, \"y\": 225.0}}, \"text_labels\": {}, \"canvas\": {\"x\": 0, \"y\": 0, \"width\": 2600, \"height\": 450}}]",
       "_loaded_model_json": null,
       "allow_building_duplicate_reactions": false,
       "and_method_in_gene_reaction_rule": "mean",
       "canvas_size_and_loc": null,
       "cofactors": [
        "atp",
        "adp",
        "nad",
        "nadh",
        "nadp",
        "nadph",
        "gtp",
        "gdp",
        "h",
        "coa",
        "ump",
        "h2o",
        "ppi"
       ],
       "disabled_buttons": [
        "Clear reaction data",
        "Clear gene data",
        "Clear metabolite data"
       ],
       "embedded_css": null,
       "enable_editing": true,
       "enable_keys": false,
       "enable_keys_with_tooltip": true,
       "enable_search": true,
       "enable_tooltips": false,
       "full_screen_button": {
        "enable_editing": true,
        "enable_keys": true,
        "enable_tooltips": [
         "label"
        ],
        "menu": "all",
        "scroll_behavior": "pan"
       },
       "gene_data": null,
       "gene_font_size": 18,
       "height": 500,
       "hide_all_labels": false,
       "hide_secondary_metabolites": false,
       "highlight_missing": false,
       "identifiers_on_map": "bigg_id",
       "layout": "IPY_MODEL_6dd46014013a4ed4a9e4ab25dde5868b",
       "marker_radius": 5,
       "menu": "all",
       "metabolite_compare_style": "log2_fold",
       "metabolite_data": null,
       "metabolite_no_data_color": "#ffffff",
       "metabolite_no_data_size": 10,
       "metabolite_scale": [
        {
         "color": "#fffaf0",
         "size": 20,
         "type": "min"
        },
        {
         "color": "#f1c470",
         "size": 30,
         "type": "median"
        },
        {
         "color": "#800000",
         "size": 40,
         "type": "max"
        }
       ],
       "metabolite_scale_preset": "WhYlRd",
       "metabolite_styles": [
        "color",
        "size",
        "text"
       ],
       "never_ask_before_quit": true,
       "primary_metabolite_radius": 20,
       "reaction_compare_style": "log2_fold",
       "reaction_data": null,
       "reaction_no_data_color": "#dcdcdc",
       "reaction_no_data_size": 8,
       "reaction_scale": {},
       "reaction_scale_preset": null,
       "reaction_styles": [
        "color",
        "text"
       ],
       "scroll_behavior": "none",
       "secondary_metabolite_radius": 10,
       "semantic_zoom": null,
       "show_gene_reaction_rules": false,
       "starting_reaction": null,
       "use_3d_transform": false,
       "zoom_to_element": null
      }
     },
     "b256aae11aee456d9b1184b497f80abe": {
      "model_module": "@jupyter-widgets/base",
      "model_module_version": "1.2.0",
      "model_name": "LayoutModel",
      "state": {}
     },
     "b2c7b097f06a4f54a202998f70dbc6ad": {
      "model_module": "@jupyter-widgets/base",
      "model_module_version": "1.2.0",
      "model_name": "LayoutModel",
      "state": {}
     },
     "b3279977475a4210951a9b8c86efa0e6": {
      "model_module": "@jupyter-widgets/base",
      "model_module_version": "1.2.0",
      "model_name": "LayoutModel",
      "state": {}
     },
     "b710fa9c265b4847af5ccded61c22541": {
      "model_module": "@jupyter-widgets/base",
      "model_module_version": "1.2.0",
      "model_name": "LayoutModel",
      "state": {}
     },
     "b89b8dcb24fc4ef689dd00b16c44075c": {
      "model_module": "escher",
      "model_module_version": "1.7.3",
      "model_name": "EscherMapModel",
      "state": {
       "_loaded_map_json": "[{\"map_name\": \"\", \"map_id\": \"\", \"map_description\": \"\", \"homepage\": \"\", \"schema\": \"https://escher.github.io/escher/jsonschema/1-0-0#\"}, {\"reactions\": {\"0\": {\"name\": \"GLCpts\", \"bigg_id\": \"GLCpts\", \"reversibility\": true, \"label_x\": 265.0, \"label_y\": 325.0, \"gene_reaction_rule\": \"\", \"genes\": [], \"segments\": {\"0\": {\"from_node_id\": \"4\", \"to_node_id\": \"5\", \"b1\": null, \"b2\": null}, \"1\": {\"from_node_id\": \"6\", \"to_node_id\": \"5\", \"b1\": null, \"b2\": null}, \"2\": {\"from_node_id\": \"0\", \"to_node_id\": \"4\", \"b1\": null, \"b2\": null}, \"3\": {\"from_node_id\": \"1\", \"to_node_id\": \"4\", \"b1\": null, \"b2\": null}, \"4\": {\"from_node_id\": \"2\", \"to_node_id\": \"6\", \"b1\": null, \"b2\": null}, \"5\": {\"from_node_id\": \"3\", \"to_node_id\": \"6\", \"b1\": null, \"b2\": null}}, \"metabolites\": [{\"bigg_id\": \"Glucopyranose_e\", \"coefficient\": -1.0}, {\"bigg_id\": \"PHOSPHO_ENOL_PYRUVATE_c\", \"coefficient\": -1.0}, {\"bigg_id\": \"D_glucopyranose_6_phosphate_c\", \"coefficient\": 1.0}, {\"bigg_id\": \"PYRUVATE_c\", \"coefficient\": 1.0}]}, \"1\": {\"name\": \"G6PDH2r\", \"bigg_id\": \"G6PDH2r\", \"reversibility\": true, \"label_x\": 265.0, \"label_y\": 975.0, \"gene_reaction_rule\": \"\", \"genes\": [], \"segments\": {\"6\": {\"from_node_id\": \"11\", \"to_node_id\": \"12\", \"b1\": null, \"b2\": null}, \"7\": {\"from_node_id\": \"13\", \"to_node_id\": \"12\", \"b1\": null, \"b2\": null}, \"8\": {\"from_node_id\": \"2\", \"to_node_id\": \"11\", \"b1\": null, \"b2\": null}, \"9\": {\"from_node_id\": \"7\", \"to_node_id\": \"11\", \"b1\": null, \"b2\": null}, \"10\": {\"from_node_id\": \"8\", \"to_node_id\": \"13\", \"b1\": null, \"b2\": null}, \"11\": {\"from_node_id\": \"9\", \"to_node_id\": \"13\", \"b1\": null, \"b2\": null}, \"12\": {\"from_node_id\": \"10\", \"to_node_id\": \"13\", \"b1\": null, \"b2\": null}}, \"metabolites\": [{\"bigg_id\": \"D_glucopyranose_6_phosphate_c\", \"coefficient\": -1.0}, {\"bigg_id\": \"NADP_c\", \"coefficient\": -1.0}, {\"bigg_id\": \"D_6_P_GLUCONO_DELTA_LACTONE_c\", \"coefficient\": 1.0}, {\"bigg_id\": \"NADPH_c\", \"coefficient\": 1.0}, {\"bigg_id\": \"PROTON_c\", \"coefficient\": 1.0}]}, \"2\": {\"name\": \"PGL\", \"bigg_id\": \"PGL\", \"reversibility\": true, \"label_x\": 265.0, \"label_y\": 1625.0, \"gene_reaction_rule\": \"\", \"genes\": [], \"segments\": {\"13\": {\"from_node_id\": \"17\", \"to_node_id\": \"18\", \"b1\": null, \"b2\": null}, \"14\": {\"from_node_id\": \"19\", \"to_node_id\": \"18\", \"b1\": null, \"b2\": null}, \"15\": {\"from_node_id\": \"14\", \"to_node_id\": \"17\", \"b1\": null, \"b2\": null}, \"16\": {\"from_node_id\": \"8\", \"to_node_id\": \"17\", \"b1\": null, \"b2\": null}, \"17\": {\"from_node_id\": \"15\", \"to_node_id\": \"19\", \"b1\": null, \"b2\": null}, \"18\": {\"from_node_id\": \"16\", \"to_node_id\": \"19\", \"b1\": null, \"b2\": null}}, \"metabolites\": [{\"bigg_id\": \"CPD_15815_c\", \"coefficient\": -1.0}, {\"bigg_id\": \"D_6_P_GLUCONO_DELTA_LACTONE_c\", \"coefficient\": -1.0}, {\"bigg_id\": \"CPD_2961_c\", \"coefficient\": 1.0}, {\"bigg_id\": \"PROTON_c\", \"coefficient\": 1.0}]}, \"3\": {\"name\": \"GND\", \"bigg_id\": \"GND\", \"reversibility\": true, \"label_x\": 265.0, \"label_y\": 2275.0, \"gene_reaction_rule\": \"\", \"genes\": [], \"segments\": {\"19\": {\"from_node_id\": \"24\", \"to_node_id\": \"25\", \"b1\": null, \"b2\": null}, \"20\": {\"from_node_id\": \"26\", \"to_node_id\": \"25\", \"b1\": null, \"b2\": null}, \"21\": {\"from_node_id\": \"15\", \"to_node_id\": \"24\", \"b1\": null, \"b2\": null}, \"22\": {\"from_node_id\": \"20\", \"to_node_id\": \"24\", \"b1\": null, \"b2\": null}, \"23\": {\"from_node_id\": \"21\", \"to_node_id\": \"26\", \"b1\": null, \"b2\": null}, \"24\": {\"from_node_id\": \"22\", \"to_node_id\": \"26\", \"b1\": null, \"b2\": null}, \"25\": {\"from_node_id\": \"23\", \"to_node_id\": \"26\", \"b1\": null, \"b2\": null}}, \"metabolites\": [{\"bigg_id\": \"CPD_2961_c\", \"coefficient\": -1.0}, {\"bigg_id\": \"NADP_c\", \"coefficient\": -1.0}, {\"bigg_id\": \"CARBON_DIOXIDE_c\", \"coefficient\": 1.0}, {\"bigg_id\": \"NADPH_c\", \"coefficient\": 1.0}, {\"bigg_id\": \"RIBULOSE_5P_c\", \"coefficient\": 1.0}]}}, \"nodes\": {\"0\": {\"node_type\": \"metabolite\", \"x\": 150.0, \"y\": 30.0, \"label_x\": 160.0, \"label_y\": 20.0, \"bigg_id\": \"Glucopyranose_e\", \"name\": \"Glucopyranose_e\", \"node_is_primary\": false}, \"1\": {\"node_type\": \"metabolite\", \"x\": 300.0, \"y\": 30.0, \"label_x\": 310.0, \"label_y\": 20.0, \"bigg_id\": \"PHOSPHO_ENOL_PYRUVATE_c\", \"name\": \"PHOSPHO_ENOL_PYRUVATE_c\", \"node_is_primary\": false}, \"2\": {\"node_type\": \"metabolite\", \"x\": 150.0, \"y\": 550.0, \"label_x\": 160.0, \"label_y\": 580.0, \"bigg_id\": \"D_glucopyranose_6_phosphate_c\", \"name\": \"D_glucopyranose_6_phosphate_c\", \"node_is_primary\": false}, \"3\": {\"node_type\": \"metabolite\", \"x\": 300.0, \"y\": 550.0, \"label_x\": 310.0, \"label_y\": 580.0, \"bigg_id\": \"PYRUVATE_c\", \"name\": \"PYRUVATE_c\", \"node_is_primary\": false}, \"4\": {\"node_type\": \"multimarker\", \"x\": 225.0, \"y\": 305.0}, \"5\": {\"node_type\": \"midmarker\", \"x\": 225.0, \"y\": 325.0}, \"6\": {\"node_type\": \"multimarker\", \"x\": 225.0, \"y\": 345.0}, \"7\": {\"node_type\": \"metabolite\", \"x\": 300.0, \"y\": 680.0, \"label_x\": 310.0, \"label_y\": 670.0, \"bigg_id\": \"NADP_c\", \"name\": \"NADP_c\", \"node_is_primary\": false}, \"8\": {\"node_type\": \"metabolite\", \"x\": 112.5, \"y\": 1200.0, \"label_x\": 122.5, \"label_y\": 1230.0, \"bigg_id\": \"D_6_P_GLUCONO_DELTA_LACTONE_c\", \"name\": \"D_6_P_GLUCONO_DELTA_LACTONE_c\", \"node_is_primary\": false}, \"9\": {\"node_type\": \"metabolite\", \"x\": 225.0, \"y\": 1200.0, \"label_x\": 235.0, \"label_y\": 1230.0, \"bigg_id\": \"NADPH_c\", \"name\": \"NADPH_c\", \"node_is_primary\": false}, \"10\": {\"node_type\": \"metabolite\", \"x\": 337.5, \"y\": 1200.0, \"label_x\": 347.5, \"label_y\": 1230.0, \"bigg_id\": \"PROTON_c\", \"name\": \"PROTON_c\", \"node_is_primary\": false}, \"11\": {\"node_type\": \"multimarker\", \"x\": 225.0, \"y\": 955.0}, \"12\": {\"node_type\": \"midmarker\", \"x\": 225.0, \"y\": 975.0}, \"13\": {\"node_type\": \"multimarker\", \"x\": 225.0, \"y\": 995.0}, \"14\": {\"node_type\": \"metabolite\", \"x\": 150.0, \"y\": 1330.0, \"label_x\": 160.0, \"label_y\": 1320.0, \"bigg_id\": \"CPD_15815_c\", \"name\": \"CPD_15815_c\", \"node_is_primary\": false}, \"15\": {\"node_type\": \"metabolite\", \"x\": 150.0, \"y\": 1850.0, \"label_x\": 160.0, \"label_y\": 1880.0, \"bigg_id\": \"CPD_2961_c\", \"name\": \"CPD_2961_c\", \"node_is_primary\": false}, \"16\": {\"node_type\": \"metabolite\", \"x\": 300.0, \"y\": 1850.0, \"label_x\": 310.0, \"label_y\": 1880.0, \"bigg_id\": \"PROTON_c\", \"name\": \"PROTON_c\", \"node_is_primary\": false}, \"17\": {\"node_type\": \"multimarker\", \"x\": 225.0, \"y\": 1605.0}, \"18\": {\"node_type\": \"midmarker\", \"x\": 225.0, \"y\": 1625.0}, \"19\": {\"node_type\": \"multimarker\", \"x\": 225.0, \"y\": 1645.0}, \"20\": {\"node_type\": \"metabolite\", \"x\": 300.0, \"y\": 1980.0, \"label_x\": 310.0, \"label_y\": 1970.0, \"bigg_id\": \"NADP_c\", \"name\": \"NADP_c\", \"node_is_primary\": false}, \"21\": {\"node_type\": \"metabolite\", \"x\": 112.5, \"y\": 2500.0, \"label_x\": 122.5, \"label_y\": 2530.0, \"bigg_id\": \"CARBON_DIOXIDE_c\", \"name\": \"CARBON_DIOXIDE_c\", \"node_is_primary\": false}, \"22\": {\"node_type\": \"metabolite\", \"x\": 225.0, \"y\": 2500.0, \"label_x\": 235.0, \"label_y\": 2530.0, \"bigg_id\": \"NADPH_c\", \"name\": \"NADPH_c\", \"node_is_primary\": false}, \"23\": {\"node_type\": \"metabolite\", \"x\": 337.5, \"y\": 2500.0, \"label_x\": 347.5, \"label_y\": 2530.0, \"bigg_id\": \"RIBULOSE_5P_c\", \"name\": \"RIBULOSE_5P_c\", \"node_is_primary\": false}, \"24\": {\"node_type\": \"multimarker\", \"x\": 225.0, \"y\": 2255.0}, \"25\": {\"node_type\": \"midmarker\", \"x\": 225.0, \"y\": 2275.0}, \"26\": {\"node_type\": \"multimarker\", \"x\": 225.0, \"y\": 2295.0}}, \"text_labels\": {}, \"canvas\": {\"x\": 0, \"y\": 0, \"width\": 450, \"height\": 2600}}]",
       "_loaded_model_json": null,
       "allow_building_duplicate_reactions": false,
       "and_method_in_gene_reaction_rule": "mean",
       "canvas_size_and_loc": null,
       "cofactors": [
        "atp",
        "adp",
        "nad",
        "nadh",
        "nadp",
        "nadph",
        "gtp",
        "gdp",
        "h",
        "coa",
        "ump",
        "h2o",
        "ppi"
       ],
       "disabled_buttons": [
        "Clear gene data",
        "Clear metabolite data"
       ],
       "embedded_css": null,
       "enable_editing": true,
       "enable_keys": false,
       "enable_keys_with_tooltip": true,
       "enable_search": true,
       "enable_tooltips": false,
       "full_screen_button": {
        "enable_editing": true,
        "enable_keys": true,
        "enable_tooltips": [
         "label"
        ],
        "menu": "all",
        "scroll_behavior": "pan"
       },
       "gene_data": null,
       "gene_font_size": 18,
       "height": 500,
       "hide_all_labels": false,
       "hide_secondary_metabolites": false,
       "highlight_missing": false,
       "identifiers_on_map": "bigg_id",
       "layout": "IPY_MODEL_bbe59de0a61246dda460074aae1386b0",
       "marker_radius": 5,
       "menu": "all",
       "metabolite_compare_style": "log2_fold",
       "metabolite_data": null,
       "metabolite_no_data_color": "#ffffff",
       "metabolite_no_data_size": 10,
       "metabolite_scale": [
        {
         "color": "#fffaf0",
         "size": 20,
         "type": "min"
        },
        {
         "color": "#f1c470",
         "size": 30,
         "type": "median"
        },
        {
         "color": "#800000",
         "size": 40,
         "type": "max"
        }
       ],
       "metabolite_scale_preset": "WhYlRd",
       "metabolite_styles": [
        "color",
        "size",
        "text"
       ],
       "never_ask_before_quit": true,
       "primary_metabolite_radius": 20,
       "reaction_compare_style": "log2_fold",
       "reaction_data": {
        "G6PDH2r": -2,
        "GLCpts": -2,
        "GND": 1,
        "PGL": 0.4
       },
       "reaction_no_data_color": "#dcdcdc",
       "reaction_no_data_size": 8,
       "reaction_scale": [
        {
         "color": "rgb(110,174,110)",
         "type": "value",
         "value": 0.5
        },
        {
         "color": "rgb(0,128,0)",
         "type": "value",
         "value": 1
        },
        {
         "color": "rgb(220,220,220)",
         "type": "value",
         "value": 0
        },
        {
         "color": "rgb(237,110,110)",
         "type": "value",
         "value": -1
        },
        {
         "color": "rgb(255,0,0)",
         "type": "value",
         "value": -2
        }
       ],
       "reaction_scale_preset": null,
       "reaction_styles": [
        "color",
        "text"
       ],
       "scroll_behavior": "none",
       "secondary_metabolite_radius": 10,
       "semantic_zoom": null,
       "show_gene_reaction_rules": false,
       "starting_reaction": null,
       "use_3d_transform": false,
       "zoom_to_element": null
      }
     },
     "bbe59de0a61246dda460074aae1386b0": {
      "model_module": "@jupyter-widgets/base",
      "model_module_version": "1.2.0",
      "model_name": "LayoutModel",
      "state": {}
     },
     "bcdcf9364450460c85f4beddcde4bfa6": {
      "model_module": "escher",
      "model_module_version": "1.7.3",
      "model_name": "EscherMapModel",
      "state": {
       "_loaded_map_json": "[{\"map_name\": \"\", \"map_id\": \"\", \"map_description\": \"\", \"homepage\": \"\", \"schema\": \"https://escher.github.io/escher/jsonschema/1-0-0#\"}, {\"reactions\": {\"0\": {\"name\": \"GLCpts\", \"bigg_id\": \"GLCpts\", \"reversibility\": true, \"label_x\": 265.0, \"label_y\": 325.0, \"gene_reaction_rule\": \"\", \"genes\": [], \"segments\": {\"0\": {\"from_node_id\": \"4\", \"to_node_id\": \"5\", \"b1\": null, \"b2\": null}, \"1\": {\"from_node_id\": \"6\", \"to_node_id\": \"5\", \"b1\": null, \"b2\": null}, \"2\": {\"from_node_id\": \"0\", \"to_node_id\": \"4\", \"b1\": null, \"b2\": null}, \"3\": {\"from_node_id\": \"1\", \"to_node_id\": \"4\", \"b1\": null, \"b2\": null}, \"4\": {\"from_node_id\": \"2\", \"to_node_id\": \"6\", \"b1\": null, \"b2\": null}, \"5\": {\"from_node_id\": \"3\", \"to_node_id\": \"6\", \"b1\": null, \"b2\": null}}, \"metabolites\": [{\"bigg_id\": \"Glucopyranose_e\", \"coefficient\": -1.0}, {\"bigg_id\": \"PHOSPHO_ENOL_PYRUVATE_c\", \"coefficient\": -1.0}, {\"bigg_id\": \"D_glucopyranose_6_phosphate_c\", \"coefficient\": 1.0}, {\"bigg_id\": \"PYRUVATE_c\", \"coefficient\": 1.0}]}, \"1\": {\"name\": \"G6PDH2r\", \"bigg_id\": \"G6PDH2r\", \"reversibility\": true, \"label_x\": 265.0, \"label_y\": 975.0, \"gene_reaction_rule\": \"\", \"genes\": [], \"segments\": {\"6\": {\"from_node_id\": \"11\", \"to_node_id\": \"12\", \"b1\": null, \"b2\": null}, \"7\": {\"from_node_id\": \"13\", \"to_node_id\": \"12\", \"b1\": null, \"b2\": null}, \"8\": {\"from_node_id\": \"2\", \"to_node_id\": \"11\", \"b1\": null, \"b2\": null}, \"9\": {\"from_node_id\": \"7\", \"to_node_id\": \"11\", \"b1\": null, \"b2\": null}, \"10\": {\"from_node_id\": \"8\", \"to_node_id\": \"13\", \"b1\": null, \"b2\": null}, \"11\": {\"from_node_id\": \"9\", \"to_node_id\": \"13\", \"b1\": null, \"b2\": null}, \"12\": {\"from_node_id\": \"10\", \"to_node_id\": \"13\", \"b1\": null, \"b2\": null}}, \"metabolites\": [{\"bigg_id\": \"D_glucopyranose_6_phosphate_c\", \"coefficient\": -1.0}, {\"bigg_id\": \"NADP_c\", \"coefficient\": -1.0}, {\"bigg_id\": \"D_6_P_GLUCONO_DELTA_LACTONE_c\", \"coefficient\": 1.0}, {\"bigg_id\": \"NADPH_c\", \"coefficient\": 1.0}, {\"bigg_id\": \"PROTON_c\", \"coefficient\": 1.0}]}, \"2\": {\"name\": \"PGL\", \"bigg_id\": \"PGL\", \"reversibility\": true, \"label_x\": 265.0, \"label_y\": 1625.0, \"gene_reaction_rule\": \"\", \"genes\": [], \"segments\": {\"13\": {\"from_node_id\": \"17\", \"to_node_id\": \"18\", \"b1\": null, \"b2\": null}, \"14\": {\"from_node_id\": \"19\", \"to_node_id\": \"18\", \"b1\": null, \"b2\": null}, \"15\": {\"from_node_id\": \"14\", \"to_node_id\": \"17\", \"b1\": null, \"b2\": null}, \"16\": {\"from_node_id\": \"8\", \"to_node_id\": \"17\", \"b1\": null, \"b2\": null}, \"17\": {\"from_node_id\": \"15\", \"to_node_id\": \"19\", \"b1\": null, \"b2\": null}, \"18\": {\"from_node_id\": \"16\", \"to_node_id\": \"19\", \"b1\": null, \"b2\": null}}, \"metabolites\": [{\"bigg_id\": \"CPD_15815_c\", \"coefficient\": -1.0}, {\"bigg_id\": \"D_6_P_GLUCONO_DELTA_LACTONE_c\", \"coefficient\": -1.0}, {\"bigg_id\": \"CPD_2961_c\", \"coefficient\": 1.0}, {\"bigg_id\": \"PROTON_c\", \"coefficient\": 1.0}]}, \"3\": {\"name\": \"GND\", \"bigg_id\": \"GND\", \"reversibility\": true, \"label_x\": 265.0, \"label_y\": 2275.0, \"gene_reaction_rule\": \"\", \"genes\": [], \"segments\": {\"19\": {\"from_node_id\": \"24\", \"to_node_id\": \"25\", \"b1\": null, \"b2\": null}, \"20\": {\"from_node_id\": \"26\", \"to_node_id\": \"25\", \"b1\": null, \"b2\": null}, \"21\": {\"from_node_id\": \"15\", \"to_node_id\": \"24\", \"b1\": null, \"b2\": null}, \"22\": {\"from_node_id\": \"20\", \"to_node_id\": \"24\", \"b1\": null, \"b2\": null}, \"23\": {\"from_node_id\": \"21\", \"to_node_id\": \"26\", \"b1\": null, \"b2\": null}, \"24\": {\"from_node_id\": \"22\", \"to_node_id\": \"26\", \"b1\": null, \"b2\": null}, \"25\": {\"from_node_id\": \"23\", \"to_node_id\": \"26\", \"b1\": null, \"b2\": null}}, \"metabolites\": [{\"bigg_id\": \"CPD_2961_c\", \"coefficient\": -1.0}, {\"bigg_id\": \"NADP_c\", \"coefficient\": -1.0}, {\"bigg_id\": \"CARBON_DIOXIDE_c\", \"coefficient\": 1.0}, {\"bigg_id\": \"NADPH_c\", \"coefficient\": 1.0}, {\"bigg_id\": \"RIBULOSE_5P_c\", \"coefficient\": 1.0}]}}, \"nodes\": {\"0\": {\"node_type\": \"metabolite\", \"x\": 150.0, \"y\": 30.0, \"label_x\": 160.0, \"label_y\": 20.0, \"bigg_id\": \"Glucopyranose_e\", \"name\": \"Glucopyranose_e\", \"node_is_primary\": false}, \"1\": {\"node_type\": \"metabolite\", \"x\": 300.0, \"y\": 30.0, \"label_x\": 310.0, \"label_y\": 20.0, \"bigg_id\": \"PHOSPHO_ENOL_PYRUVATE_c\", \"name\": \"PHOSPHO_ENOL_PYRUVATE_c\", \"node_is_primary\": false}, \"2\": {\"node_type\": \"metabolite\", \"x\": 150.0, \"y\": 550.0, \"label_x\": 160.0, \"label_y\": 580.0, \"bigg_id\": \"D_glucopyranose_6_phosphate_c\", \"name\": \"D_glucopyranose_6_phosphate_c\", \"node_is_primary\": false}, \"3\": {\"node_type\": \"metabolite\", \"x\": 300.0, \"y\": 550.0, \"label_x\": 310.0, \"label_y\": 580.0, \"bigg_id\": \"PYRUVATE_c\", \"name\": \"PYRUVATE_c\", \"node_is_primary\": false}, \"4\": {\"node_type\": \"multimarker\", \"x\": 225.0, \"y\": 305.0}, \"5\": {\"node_type\": \"midmarker\", \"x\": 225.0, \"y\": 325.0}, \"6\": {\"node_type\": \"multimarker\", \"x\": 225.0, \"y\": 345.0}, \"7\": {\"node_type\": \"metabolite\", \"x\": 300.0, \"y\": 680.0, \"label_x\": 310.0, \"label_y\": 670.0, \"bigg_id\": \"NADP_c\", \"name\": \"NADP_c\", \"node_is_primary\": false}, \"8\": {\"node_type\": \"metabolite\", \"x\": 112.5, \"y\": 1200.0, \"label_x\": 122.5, \"label_y\": 1230.0, \"bigg_id\": \"D_6_P_GLUCONO_DELTA_LACTONE_c\", \"name\": \"D_6_P_GLUCONO_DELTA_LACTONE_c\", \"node_is_primary\": false}, \"9\": {\"node_type\": \"metabolite\", \"x\": 225.0, \"y\": 1200.0, \"label_x\": 235.0, \"label_y\": 1230.0, \"bigg_id\": \"NADPH_c\", \"name\": \"NADPH_c\", \"node_is_primary\": false}, \"10\": {\"node_type\": \"metabolite\", \"x\": 337.5, \"y\": 1200.0, \"label_x\": 347.5, \"label_y\": 1230.0, \"bigg_id\": \"PROTON_c\", \"name\": \"PROTON_c\", \"node_is_primary\": false}, \"11\": {\"node_type\": \"multimarker\", \"x\": 225.0, \"y\": 955.0}, \"12\": {\"node_type\": \"midmarker\", \"x\": 225.0, \"y\": 975.0}, \"13\": {\"node_type\": \"multimarker\", \"x\": 225.0, \"y\": 995.0}, \"14\": {\"node_type\": \"metabolite\", \"x\": 150.0, \"y\": 1330.0, \"label_x\": 160.0, \"label_y\": 1320.0, \"bigg_id\": \"CPD_15815_c\", \"name\": \"CPD_15815_c\", \"node_is_primary\": false}, \"15\": {\"node_type\": \"metabolite\", \"x\": 150.0, \"y\": 1850.0, \"label_x\": 160.0, \"label_y\": 1880.0, \"bigg_id\": \"CPD_2961_c\", \"name\": \"CPD_2961_c\", \"node_is_primary\": false}, \"16\": {\"node_type\": \"metabolite\", \"x\": 300.0, \"y\": 1850.0, \"label_x\": 310.0, \"label_y\": 1880.0, \"bigg_id\": \"PROTON_c\", \"name\": \"PROTON_c\", \"node_is_primary\": false}, \"17\": {\"node_type\": \"multimarker\", \"x\": 225.0, \"y\": 1605.0}, \"18\": {\"node_type\": \"midmarker\", \"x\": 225.0, \"y\": 1625.0}, \"19\": {\"node_type\": \"multimarker\", \"x\": 225.0, \"y\": 1645.0}, \"20\": {\"node_type\": \"metabolite\", \"x\": 300.0, \"y\": 1980.0, \"label_x\": 310.0, \"label_y\": 1970.0, \"bigg_id\": \"NADP_c\", \"name\": \"NADP_c\", \"node_is_primary\": false}, \"21\": {\"node_type\": \"metabolite\", \"x\": 112.5, \"y\": 2500.0, \"label_x\": 122.5, \"label_y\": 2530.0, \"bigg_id\": \"CARBON_DIOXIDE_c\", \"name\": \"CARBON_DIOXIDE_c\", \"node_is_primary\": false}, \"22\": {\"node_type\": \"metabolite\", \"x\": 225.0, \"y\": 2500.0, \"label_x\": 235.0, \"label_y\": 2530.0, \"bigg_id\": \"NADPH_c\", \"name\": \"NADPH_c\", \"node_is_primary\": false}, \"23\": {\"node_type\": \"metabolite\", \"x\": 337.5, \"y\": 2500.0, \"label_x\": 347.5, \"label_y\": 2530.0, \"bigg_id\": \"RIBULOSE_5P_c\", \"name\": \"RIBULOSE_5P_c\", \"node_is_primary\": false}, \"24\": {\"node_type\": \"multimarker\", \"x\": 225.0, \"y\": 2255.0}, \"25\": {\"node_type\": \"midmarker\", \"x\": 225.0, \"y\": 2275.0}, \"26\": {\"node_type\": \"multimarker\", \"x\": 225.0, \"y\": 2295.0}}, \"text_labels\": {}, \"canvas\": {\"x\": 0, \"y\": 0, \"width\": 450, \"height\": 2600}}]",
       "_loaded_model_json": null,
       "allow_building_duplicate_reactions": false,
       "and_method_in_gene_reaction_rule": "mean",
       "canvas_size_and_loc": null,
       "cofactors": [
        "atp",
        "adp",
        "nad",
        "nadh",
        "nadp",
        "nadph",
        "gtp",
        "gdp",
        "h",
        "coa",
        "ump",
        "h2o",
        "ppi"
       ],
       "disabled_buttons": [
        "Clear reaction data",
        "Clear gene data",
        "Clear metabolite data"
       ],
       "embedded_css": null,
       "enable_editing": true,
       "enable_keys": false,
       "enable_keys_with_tooltip": true,
       "enable_search": true,
       "enable_tooltips": false,
       "full_screen_button": {
        "enable_editing": true,
        "enable_keys": true,
        "enable_tooltips": [
         "label"
        ],
        "menu": "all",
        "scroll_behavior": "pan"
       },
       "gene_data": null,
       "gene_font_size": 18,
       "height": 500,
       "hide_all_labels": false,
       "hide_secondary_metabolites": false,
       "highlight_missing": false,
       "identifiers_on_map": "bigg_id",
       "layout": "IPY_MODEL_790deee363cb47d39b02127bbc5839df",
       "marker_radius": 5,
       "menu": "all",
       "metabolite_compare_style": "log2_fold",
       "metabolite_data": null,
       "metabolite_no_data_color": "#ffffff",
       "metabolite_no_data_size": 10,
       "metabolite_scale": [
        {
         "color": "#fffaf0",
         "size": 20,
         "type": "min"
        },
        {
         "color": "#f1c470",
         "size": 30,
         "type": "median"
        },
        {
         "color": "#800000",
         "size": 40,
         "type": "max"
        }
       ],
       "metabolite_scale_preset": "WhYlRd",
       "metabolite_styles": [
        "color",
        "size",
        "text"
       ],
       "never_ask_before_quit": true,
       "primary_metabolite_radius": 20,
       "reaction_compare_style": "log2_fold",
       "reaction_data": null,
       "reaction_no_data_color": "#dcdcdc",
       "reaction_no_data_size": 8,
       "reaction_scale": {},
       "reaction_scale_preset": null,
       "reaction_styles": [
        "color",
        "text"
       ],
       "scroll_behavior": "none",
       "secondary_metabolite_radius": 10,
       "semantic_zoom": null,
       "show_gene_reaction_rules": false,
       "starting_reaction": null,
       "use_3d_transform": false,
       "zoom_to_element": null
      }
     },
     "bedbd02050494df2b78655bbf1c350d3": {
      "model_module": "escher",
      "model_module_version": "1.7.3",
      "model_name": "EscherMapModel",
      "state": {
       "_loaded_map_json": "[{\"map_name\": \"\", \"map_id\": \"\", \"map_description\": \"\", \"homepage\": \"\", \"schema\": \"https://escher.github.io/escher/jsonschema/1-0-0#\"}, {\"reactions\": {\"0\": {\"name\": \"GLCpts\", \"bigg_id\": \"GLCpts\", \"reversibility\": true, \"label_x\": 265.0, \"label_y\": 325.0, \"gene_reaction_rule\": \"\", \"genes\": [], \"segments\": {\"0\": {\"from_node_id\": \"4\", \"to_node_id\": \"5\", \"b1\": null, \"b2\": null}, \"1\": {\"from_node_id\": \"6\", \"to_node_id\": \"5\", \"b1\": null, \"b2\": null}, \"2\": {\"from_node_id\": \"0\", \"to_node_id\": \"4\", \"b1\": null, \"b2\": null}, \"3\": {\"from_node_id\": \"1\", \"to_node_id\": \"4\", \"b1\": null, \"b2\": null}, \"4\": {\"from_node_id\": \"2\", \"to_node_id\": \"6\", \"b1\": null, \"b2\": null}, \"5\": {\"from_node_id\": \"3\", \"to_node_id\": \"6\", \"b1\": null, \"b2\": null}}, \"metabolites\": [{\"bigg_id\": \"Glucopyranose_e\", \"coefficient\": -1.0}, {\"bigg_id\": \"PHOSPHO_ENOL_PYRUVATE_c\", \"coefficient\": -1.0}, {\"bigg_id\": \"D_glucopyranose_6_phosphate_c\", \"coefficient\": 1.0}, {\"bigg_id\": \"PYRUVATE_c\", \"coefficient\": 1.0}]}, \"1\": {\"name\": \"G6PDH2r\", \"bigg_id\": \"G6PDH2r\", \"reversibility\": true, \"label_x\": 265.0, \"label_y\": 975.0, \"gene_reaction_rule\": \"\", \"genes\": [], \"segments\": {\"6\": {\"from_node_id\": \"11\", \"to_node_id\": \"12\", \"b1\": null, \"b2\": null}, \"7\": {\"from_node_id\": \"13\", \"to_node_id\": \"12\", \"b1\": null, \"b2\": null}, \"8\": {\"from_node_id\": \"2\", \"to_node_id\": \"11\", \"b1\": null, \"b2\": null}, \"9\": {\"from_node_id\": \"7\", \"to_node_id\": \"11\", \"b1\": null, \"b2\": null}, \"10\": {\"from_node_id\": \"8\", \"to_node_id\": \"13\", \"b1\": null, \"b2\": null}, \"11\": {\"from_node_id\": \"9\", \"to_node_id\": \"13\", \"b1\": null, \"b2\": null}, \"12\": {\"from_node_id\": \"10\", \"to_node_id\": \"13\", \"b1\": null, \"b2\": null}}, \"metabolites\": [{\"bigg_id\": \"D_glucopyranose_6_phosphate_c\", \"coefficient\": -1.0}, {\"bigg_id\": \"NADP_c\", \"coefficient\": -1.0}, {\"bigg_id\": \"D_6_P_GLUCONO_DELTA_LACTONE_c\", \"coefficient\": 1.0}, {\"bigg_id\": \"NADPH_c\", \"coefficient\": 1.0}, {\"bigg_id\": \"PROTON_c\", \"coefficient\": 1.0}]}, \"2\": {\"name\": \"PGL\", \"bigg_id\": \"PGL\", \"reversibility\": true, \"label_x\": 265.0, \"label_y\": 1625.0, \"gene_reaction_rule\": \"\", \"genes\": [], \"segments\": {\"13\": {\"from_node_id\": \"17\", \"to_node_id\": \"18\", \"b1\": null, \"b2\": null}, \"14\": {\"from_node_id\": \"19\", \"to_node_id\": \"18\", \"b1\": null, \"b2\": null}, \"15\": {\"from_node_id\": \"14\", \"to_node_id\": \"17\", \"b1\": null, \"b2\": null}, \"16\": {\"from_node_id\": \"8\", \"to_node_id\": \"17\", \"b1\": null, \"b2\": null}, \"17\": {\"from_node_id\": \"15\", \"to_node_id\": \"19\", \"b1\": null, \"b2\": null}, \"18\": {\"from_node_id\": \"16\", \"to_node_id\": \"19\", \"b1\": null, \"b2\": null}}, \"metabolites\": [{\"bigg_id\": \"CPD_15815_c\", \"coefficient\": -1.0}, {\"bigg_id\": \"D_6_P_GLUCONO_DELTA_LACTONE_c\", \"coefficient\": -1.0}, {\"bigg_id\": \"CPD_2961_c\", \"coefficient\": 1.0}, {\"bigg_id\": \"PROTON_c\", \"coefficient\": 1.0}]}, \"3\": {\"name\": \"GND\", \"bigg_id\": \"GND\", \"reversibility\": true, \"label_x\": 265.0, \"label_y\": 2275.0, \"gene_reaction_rule\": \"\", \"genes\": [], \"segments\": {\"19\": {\"from_node_id\": \"24\", \"to_node_id\": \"25\", \"b1\": null, \"b2\": null}, \"20\": {\"from_node_id\": \"26\", \"to_node_id\": \"25\", \"b1\": null, \"b2\": null}, \"21\": {\"from_node_id\": \"15\", \"to_node_id\": \"24\", \"b1\": null, \"b2\": null}, \"22\": {\"from_node_id\": \"20\", \"to_node_id\": \"24\", \"b1\": null, \"b2\": null}, \"23\": {\"from_node_id\": \"21\", \"to_node_id\": \"26\", \"b1\": null, \"b2\": null}, \"24\": {\"from_node_id\": \"22\", \"to_node_id\": \"26\", \"b1\": null, \"b2\": null}, \"25\": {\"from_node_id\": \"23\", \"to_node_id\": \"26\", \"b1\": null, \"b2\": null}}, \"metabolites\": [{\"bigg_id\": \"CPD_2961_c\", \"coefficient\": -1.0}, {\"bigg_id\": \"NADP_c\", \"coefficient\": -1.0}, {\"bigg_id\": \"CARBON_DIOXIDE_c\", \"coefficient\": 1.0}, {\"bigg_id\": \"NADPH_c\", \"coefficient\": 1.0}, {\"bigg_id\": \"RIBULOSE_5P_c\", \"coefficient\": 1.0}]}}, \"nodes\": {\"0\": {\"node_type\": \"metabolite\", \"x\": 150.0, \"y\": 30.0, \"label_x\": 160.0, \"label_y\": 20.0, \"bigg_id\": \"Glucopyranose_e\", \"name\": \"Glucopyranose_e\", \"node_is_primary\": false}, \"1\": {\"node_type\": \"metabolite\", \"x\": 300.0, \"y\": 30.0, \"label_x\": 310.0, \"label_y\": 20.0, \"bigg_id\": \"PHOSPHO_ENOL_PYRUVATE_c\", \"name\": \"PHOSPHO_ENOL_PYRUVATE_c\", \"node_is_primary\": false}, \"2\": {\"node_type\": \"metabolite\", \"x\": 150.0, \"y\": 550.0, \"label_x\": 160.0, \"label_y\": 580.0, \"bigg_id\": \"D_glucopyranose_6_phosphate_c\", \"name\": \"D_glucopyranose_6_phosphate_c\", \"node_is_primary\": false}, \"3\": {\"node_type\": \"metabolite\", \"x\": 300.0, \"y\": 550.0, \"label_x\": 310.0, \"label_y\": 580.0, \"bigg_id\": \"PYRUVATE_c\", \"name\": \"PYRUVATE_c\", \"node_is_primary\": false}, \"4\": {\"node_type\": \"multimarker\", \"x\": 225.0, \"y\": 305.0}, \"5\": {\"node_type\": \"midmarker\", \"x\": 225.0, \"y\": 325.0}, \"6\": {\"node_type\": \"multimarker\", \"x\": 225.0, \"y\": 345.0}, \"7\": {\"node_type\": \"metabolite\", \"x\": 300.0, \"y\": 680.0, \"label_x\": 310.0, \"label_y\": 670.0, \"bigg_id\": \"NADP_c\", \"name\": \"NADP_c\", \"node_is_primary\": false}, \"8\": {\"node_type\": \"metabolite\", \"x\": 112.5, \"y\": 1200.0, \"label_x\": 122.5, \"label_y\": 1230.0, \"bigg_id\": \"D_6_P_GLUCONO_DELTA_LACTONE_c\", \"name\": \"D_6_P_GLUCONO_DELTA_LACTONE_c\", \"node_is_primary\": false}, \"9\": {\"node_type\": \"metabolite\", \"x\": 225.0, \"y\": 1200.0, \"label_x\": 235.0, \"label_y\": 1230.0, \"bigg_id\": \"NADPH_c\", \"name\": \"NADPH_c\", \"node_is_primary\": false}, \"10\": {\"node_type\": \"metabolite\", \"x\": 337.5, \"y\": 1200.0, \"label_x\": 347.5, \"label_y\": 1230.0, \"bigg_id\": \"PROTON_c\", \"name\": \"PROTON_c\", \"node_is_primary\": false}, \"11\": {\"node_type\": \"multimarker\", \"x\": 225.0, \"y\": 955.0}, \"12\": {\"node_type\": \"midmarker\", \"x\": 225.0, \"y\": 975.0}, \"13\": {\"node_type\": \"multimarker\", \"x\": 225.0, \"y\": 995.0}, \"14\": {\"node_type\": \"metabolite\", \"x\": 150.0, \"y\": 1330.0, \"label_x\": 160.0, \"label_y\": 1320.0, \"bigg_id\": \"CPD_15815_c\", \"name\": \"CPD_15815_c\", \"node_is_primary\": false}, \"15\": {\"node_type\": \"metabolite\", \"x\": 150.0, \"y\": 1850.0, \"label_x\": 160.0, \"label_y\": 1880.0, \"bigg_id\": \"CPD_2961_c\", \"name\": \"CPD_2961_c\", \"node_is_primary\": false}, \"16\": {\"node_type\": \"metabolite\", \"x\": 300.0, \"y\": 1850.0, \"label_x\": 310.0, \"label_y\": 1880.0, \"bigg_id\": \"PROTON_c\", \"name\": \"PROTON_c\", \"node_is_primary\": false}, \"17\": {\"node_type\": \"multimarker\", \"x\": 225.0, \"y\": 1605.0}, \"18\": {\"node_type\": \"midmarker\", \"x\": 225.0, \"y\": 1625.0}, \"19\": {\"node_type\": \"multimarker\", \"x\": 225.0, \"y\": 1645.0}, \"20\": {\"node_type\": \"metabolite\", \"x\": 300.0, \"y\": 1980.0, \"label_x\": 310.0, \"label_y\": 1970.0, \"bigg_id\": \"NADP_c\", \"name\": \"NADP_c\", \"node_is_primary\": false}, \"21\": {\"node_type\": \"metabolite\", \"x\": 112.5, \"y\": 2500.0, \"label_x\": 122.5, \"label_y\": 2530.0, \"bigg_id\": \"CARBON_DIOXIDE_c\", \"name\": \"CARBON_DIOXIDE_c\", \"node_is_primary\": false}, \"22\": {\"node_type\": \"metabolite\", \"x\": 225.0, \"y\": 2500.0, \"label_x\": 235.0, \"label_y\": 2530.0, \"bigg_id\": \"NADPH_c\", \"name\": \"NADPH_c\", \"node_is_primary\": false}, \"23\": {\"node_type\": \"metabolite\", \"x\": 337.5, \"y\": 2500.0, \"label_x\": 347.5, \"label_y\": 2530.0, \"bigg_id\": \"RIBULOSE_5P_c\", \"name\": \"RIBULOSE_5P_c\", \"node_is_primary\": false}, \"24\": {\"node_type\": \"multimarker\", \"x\": 225.0, \"y\": 2255.0}, \"25\": {\"node_type\": \"midmarker\", \"x\": 225.0, \"y\": 2275.0}, \"26\": {\"node_type\": \"multimarker\", \"x\": 225.0, \"y\": 2295.0}}, \"text_labels\": {}, \"canvas\": {\"x\": 0, \"y\": 0, \"width\": 450, \"height\": 2600}}]",
       "_loaded_model_json": null,
       "allow_building_duplicate_reactions": false,
       "and_method_in_gene_reaction_rule": "mean",
       "canvas_size_and_loc": null,
       "cofactors": [
        "atp",
        "adp",
        "nad",
        "nadh",
        "nadp",
        "nadph",
        "gtp",
        "gdp",
        "h",
        "coa",
        "ump",
        "h2o",
        "ppi"
       ],
       "disabled_buttons": [
        "Clear reaction data",
        "Clear gene data",
        "Clear metabolite data"
       ],
       "embedded_css": null,
       "enable_editing": true,
       "enable_keys": false,
       "enable_keys_with_tooltip": true,
       "enable_search": true,
       "enable_tooltips": false,
       "full_screen_button": {
        "enable_editing": true,
        "enable_keys": true,
        "enable_tooltips": [
         "label"
        ],
        "menu": "all",
        "scroll_behavior": "pan"
       },
       "gene_data": null,
       "gene_font_size": 18,
       "height": 500,
       "hide_all_labels": false,
       "hide_secondary_metabolites": false,
       "highlight_missing": false,
       "identifiers_on_map": "bigg_id",
       "layout": "IPY_MODEL_12eadf78e1cd4e039719864b3f5aa54a",
       "marker_radius": 5,
       "menu": "all",
       "metabolite_compare_style": "log2_fold",
       "metabolite_data": null,
       "metabolite_no_data_color": "#ffffff",
       "metabolite_no_data_size": 10,
       "metabolite_scale": [
        {
         "color": "#fffaf0",
         "size": 20,
         "type": "min"
        },
        {
         "color": "#f1c470",
         "size": 30,
         "type": "median"
        },
        {
         "color": "#800000",
         "size": 40,
         "type": "max"
        }
       ],
       "metabolite_scale_preset": "WhYlRd",
       "metabolite_styles": [
        "color",
        "size",
        "text"
       ],
       "never_ask_before_quit": true,
       "primary_metabolite_radius": 20,
       "reaction_compare_style": "log2_fold",
       "reaction_data": null,
       "reaction_no_data_color": "#dcdcdc",
       "reaction_no_data_size": 8,
       "reaction_scale": {},
       "reaction_scale_preset": null,
       "reaction_styles": [
        "color",
        "text"
       ],
       "scroll_behavior": "none",
       "secondary_metabolite_radius": 10,
       "semantic_zoom": null,
       "show_gene_reaction_rules": false,
       "starting_reaction": null,
       "use_3d_transform": false,
       "zoom_to_element": null
      }
     },
     "c063a4af23ec4b258a8c083910dcb40b": {
      "model_module": "@jupyter-widgets/base",
      "model_module_version": "1.2.0",
      "model_name": "LayoutModel",
      "state": {}
     },
     "c21471573d1e485aaff884a98d419c3c": {
      "model_module": "escher",
      "model_module_version": "1.7.3",
      "model_name": "EscherMapModel",
      "state": {
       "_loaded_map_json": "[{\"map_name\": \"\", \"map_id\": \"\", \"map_description\": \"\", \"homepage\": \"\", \"schema\": \"https://escher.github.io/escher/jsonschema/1-0-0#\"}, {\"reactions\": {\"0\": {\"name\": \"GLCpts\", \"bigg_id\": \"GLCpts\", \"reversibility\": true, \"label_x\": 265.0, \"label_y\": 325.0, \"gene_reaction_rule\": \"\", \"genes\": [], \"segments\": {\"0\": {\"from_node_id\": \"4\", \"to_node_id\": \"5\", \"b1\": null, \"b2\": null}, \"1\": {\"from_node_id\": \"6\", \"to_node_id\": \"5\", \"b1\": null, \"b2\": null}, \"2\": {\"from_node_id\": \"0\", \"to_node_id\": \"4\", \"b1\": null, \"b2\": null}, \"3\": {\"from_node_id\": \"1\", \"to_node_id\": \"4\", \"b1\": null, \"b2\": null}, \"4\": {\"from_node_id\": \"2\", \"to_node_id\": \"6\", \"b1\": null, \"b2\": null}, \"5\": {\"from_node_id\": \"3\", \"to_node_id\": \"6\", \"b1\": null, \"b2\": null}}, \"metabolites\": [{\"bigg_id\": \"Glucopyranose_e\", \"coefficient\": -1.0}, {\"bigg_id\": \"PHOSPHO_ENOL_PYRUVATE_c\", \"coefficient\": -1.0}, {\"bigg_id\": \"D_glucopyranose_6_phosphate_c\", \"coefficient\": 1.0}, {\"bigg_id\": \"PYRUVATE_c\", \"coefficient\": 1.0}]}, \"1\": {\"name\": \"G6PDH2r\", \"bigg_id\": \"G6PDH2r\", \"reversibility\": true, \"label_x\": 265.0, \"label_y\": 975.0, \"gene_reaction_rule\": \"\", \"genes\": [], \"segments\": {\"6\": {\"from_node_id\": \"11\", \"to_node_id\": \"12\", \"b1\": null, \"b2\": null}, \"7\": {\"from_node_id\": \"13\", \"to_node_id\": \"12\", \"b1\": null, \"b2\": null}, \"8\": {\"from_node_id\": \"2\", \"to_node_id\": \"11\", \"b1\": null, \"b2\": null}, \"9\": {\"from_node_id\": \"7\", \"to_node_id\": \"11\", \"b1\": null, \"b2\": null}, \"10\": {\"from_node_id\": \"8\", \"to_node_id\": \"13\", \"b1\": null, \"b2\": null}, \"11\": {\"from_node_id\": \"9\", \"to_node_id\": \"13\", \"b1\": null, \"b2\": null}, \"12\": {\"from_node_id\": \"10\", \"to_node_id\": \"13\", \"b1\": null, \"b2\": null}}, \"metabolites\": [{\"bigg_id\": \"D_glucopyranose_6_phosphate_c\", \"coefficient\": -1.0}, {\"bigg_id\": \"NADP_c\", \"coefficient\": -1.0}, {\"bigg_id\": \"D_6_P_GLUCONO_DELTA_LACTONE_c\", \"coefficient\": 1.0}, {\"bigg_id\": \"NADPH_c\", \"coefficient\": 1.0}, {\"bigg_id\": \"PROTON_c\", \"coefficient\": 1.0}]}, \"2\": {\"name\": \"PGL\", \"bigg_id\": \"PGL\", \"reversibility\": true, \"label_x\": 265.0, \"label_y\": 1625.0, \"gene_reaction_rule\": \"\", \"genes\": [], \"segments\": {\"13\": {\"from_node_id\": \"17\", \"to_node_id\": \"18\", \"b1\": null, \"b2\": null}, \"14\": {\"from_node_id\": \"19\", \"to_node_id\": \"18\", \"b1\": null, \"b2\": null}, \"15\": {\"from_node_id\": \"14\", \"to_node_id\": \"17\", \"b1\": null, \"b2\": null}, \"16\": {\"from_node_id\": \"8\", \"to_node_id\": \"17\", \"b1\": null, \"b2\": null}, \"17\": {\"from_node_id\": \"15\", \"to_node_id\": \"19\", \"b1\": null, \"b2\": null}, \"18\": {\"from_node_id\": \"16\", \"to_node_id\": \"19\", \"b1\": null, \"b2\": null}}, \"metabolites\": [{\"bigg_id\": \"CPD_15815_c\", \"coefficient\": -1.0}, {\"bigg_id\": \"D_6_P_GLUCONO_DELTA_LACTONE_c\", \"coefficient\": -1.0}, {\"bigg_id\": \"CPD_2961_c\", \"coefficient\": 1.0}, {\"bigg_id\": \"PROTON_c\", \"coefficient\": 1.0}]}, \"3\": {\"name\": \"GND\", \"bigg_id\": \"GND\", \"reversibility\": true, \"label_x\": 265.0, \"label_y\": 2275.0, \"gene_reaction_rule\": \"\", \"genes\": [], \"segments\": {\"19\": {\"from_node_id\": \"24\", \"to_node_id\": \"25\", \"b1\": null, \"b2\": null}, \"20\": {\"from_node_id\": \"26\", \"to_node_id\": \"25\", \"b1\": null, \"b2\": null}, \"21\": {\"from_node_id\": \"15\", \"to_node_id\": \"24\", \"b1\": null, \"b2\": null}, \"22\": {\"from_node_id\": \"20\", \"to_node_id\": \"24\", \"b1\": null, \"b2\": null}, \"23\": {\"from_node_id\": \"21\", \"to_node_id\": \"26\", \"b1\": null, \"b2\": null}, \"24\": {\"from_node_id\": \"22\", \"to_node_id\": \"26\", \"b1\": null, \"b2\": null}, \"25\": {\"from_node_id\": \"23\", \"to_node_id\": \"26\", \"b1\": null, \"b2\": null}}, \"metabolites\": [{\"bigg_id\": \"CPD_2961_c\", \"coefficient\": -1.0}, {\"bigg_id\": \"NADP_c\", \"coefficient\": -1.0}, {\"bigg_id\": \"CARBON_DIOXIDE_c\", \"coefficient\": 1.0}, {\"bigg_id\": \"NADPH_c\", \"coefficient\": 1.0}, {\"bigg_id\": \"RIBULOSE_5P_c\", \"coefficient\": 1.0}]}}, \"nodes\": {\"0\": {\"node_type\": \"metabolite\", \"x\": 150.0, \"y\": 30.0, \"label_x\": 160.0, \"label_y\": 20.0, \"bigg_id\": \"Glucopyranose_e\", \"name\": \"Glucopyranose_e\", \"node_is_primary\": false}, \"1\": {\"node_type\": \"metabolite\", \"x\": 300.0, \"y\": 30.0, \"label_x\": 310.0, \"label_y\": 20.0, \"bigg_id\": \"PHOSPHO_ENOL_PYRUVATE_c\", \"name\": \"PHOSPHO_ENOL_PYRUVATE_c\", \"node_is_primary\": false}, \"2\": {\"node_type\": \"metabolite\", \"x\": 150.0, \"y\": 550.0, \"label_x\": 160.0, \"label_y\": 580.0, \"bigg_id\": \"D_glucopyranose_6_phosphate_c\", \"name\": \"D_glucopyranose_6_phosphate_c\", \"node_is_primary\": false}, \"3\": {\"node_type\": \"metabolite\", \"x\": 300.0, \"y\": 550.0, \"label_x\": 310.0, \"label_y\": 580.0, \"bigg_id\": \"PYRUVATE_c\", \"name\": \"PYRUVATE_c\", \"node_is_primary\": false}, \"4\": {\"node_type\": \"multimarker\", \"x\": 225.0, \"y\": 305.0}, \"5\": {\"node_type\": \"midmarker\", \"x\": 225.0, \"y\": 325.0}, \"6\": {\"node_type\": \"multimarker\", \"x\": 225.0, \"y\": 345.0}, \"7\": {\"node_type\": \"metabolite\", \"x\": 300.0, \"y\": 680.0, \"label_x\": 310.0, \"label_y\": 670.0, \"bigg_id\": \"NADP_c\", \"name\": \"NADP_c\", \"node_is_primary\": false}, \"8\": {\"node_type\": \"metabolite\", \"x\": 112.5, \"y\": 1200.0, \"label_x\": 122.5, \"label_y\": 1230.0, \"bigg_id\": \"D_6_P_GLUCONO_DELTA_LACTONE_c\", \"name\": \"D_6_P_GLUCONO_DELTA_LACTONE_c\", \"node_is_primary\": false}, \"9\": {\"node_type\": \"metabolite\", \"x\": 225.0, \"y\": 1200.0, \"label_x\": 235.0, \"label_y\": 1230.0, \"bigg_id\": \"NADPH_c\", \"name\": \"NADPH_c\", \"node_is_primary\": false}, \"10\": {\"node_type\": \"metabolite\", \"x\": 337.5, \"y\": 1200.0, \"label_x\": 347.5, \"label_y\": 1230.0, \"bigg_id\": \"PROTON_c\", \"name\": \"PROTON_c\", \"node_is_primary\": false}, \"11\": {\"node_type\": \"multimarker\", \"x\": 225.0, \"y\": 955.0}, \"12\": {\"node_type\": \"midmarker\", \"x\": 225.0, \"y\": 975.0}, \"13\": {\"node_type\": \"multimarker\", \"x\": 225.0, \"y\": 995.0}, \"14\": {\"node_type\": \"metabolite\", \"x\": 150.0, \"y\": 1330.0, \"label_x\": 160.0, \"label_y\": 1320.0, \"bigg_id\": \"CPD_15815_c\", \"name\": \"CPD_15815_c\", \"node_is_primary\": false}, \"15\": {\"node_type\": \"metabolite\", \"x\": 150.0, \"y\": 1850.0, \"label_x\": 160.0, \"label_y\": 1880.0, \"bigg_id\": \"CPD_2961_c\", \"name\": \"CPD_2961_c\", \"node_is_primary\": false}, \"16\": {\"node_type\": \"metabolite\", \"x\": 300.0, \"y\": 1850.0, \"label_x\": 310.0, \"label_y\": 1880.0, \"bigg_id\": \"PROTON_c\", \"name\": \"PROTON_c\", \"node_is_primary\": false}, \"17\": {\"node_type\": \"multimarker\", \"x\": 225.0, \"y\": 1605.0}, \"18\": {\"node_type\": \"midmarker\", \"x\": 225.0, \"y\": 1625.0}, \"19\": {\"node_type\": \"multimarker\", \"x\": 225.0, \"y\": 1645.0}, \"20\": {\"node_type\": \"metabolite\", \"x\": 300.0, \"y\": 1980.0, \"label_x\": 310.0, \"label_y\": 1970.0, \"bigg_id\": \"NADP_c\", \"name\": \"NADP_c\", \"node_is_primary\": false}, \"21\": {\"node_type\": \"metabolite\", \"x\": 112.5, \"y\": 2500.0, \"label_x\": 122.5, \"label_y\": 2530.0, \"bigg_id\": \"CARBON_DIOXIDE_c\", \"name\": \"CARBON_DIOXIDE_c\", \"node_is_primary\": false}, \"22\": {\"node_type\": \"metabolite\", \"x\": 225.0, \"y\": 2500.0, \"label_x\": 235.0, \"label_y\": 2530.0, \"bigg_id\": \"NADPH_c\", \"name\": \"NADPH_c\", \"node_is_primary\": false}, \"23\": {\"node_type\": \"metabolite\", \"x\": 337.5, \"y\": 2500.0, \"label_x\": 347.5, \"label_y\": 2530.0, \"bigg_id\": \"RIBULOSE_5P_c\", \"name\": \"RIBULOSE_5P_c\", \"node_is_primary\": false}, \"24\": {\"node_type\": \"multimarker\", \"x\": 225.0, \"y\": 2255.0}, \"25\": {\"node_type\": \"midmarker\", \"x\": 225.0, \"y\": 2275.0}, \"26\": {\"node_type\": \"multimarker\", \"x\": 225.0, \"y\": 2295.0}}, \"text_labels\": {}, \"canvas\": {\"x\": 0, \"y\": 0, \"width\": 450, \"height\": 2600}}]",
       "_loaded_model_json": null,
       "allow_building_duplicate_reactions": false,
       "and_method_in_gene_reaction_rule": "mean",
       "canvas_size_and_loc": null,
       "cofactors": [
        "atp",
        "adp",
        "nad",
        "nadh",
        "nadp",
        "nadph",
        "gtp",
        "gdp",
        "h",
        "coa",
        "ump",
        "h2o",
        "ppi"
       ],
       "disabled_buttons": [
        "Clear gene data",
        "Clear metabolite data"
       ],
       "embedded_css": null,
       "enable_editing": true,
       "enable_keys": false,
       "enable_keys_with_tooltip": true,
       "enable_search": true,
       "enable_tooltips": false,
       "full_screen_button": {
        "enable_editing": true,
        "enable_keys": true,
        "enable_tooltips": [
         "label"
        ],
        "menu": "all",
        "scroll_behavior": "pan"
       },
       "gene_data": null,
       "gene_font_size": 18,
       "height": 500,
       "hide_all_labels": false,
       "hide_secondary_metabolites": false,
       "highlight_missing": false,
       "identifiers_on_map": "bigg_id",
       "layout": "IPY_MODEL_a8fd649c8fd44e8aabbed1d1884b3f44",
       "marker_radius": 5,
       "menu": "all",
       "metabolite_compare_style": "log2_fold",
       "metabolite_data": null,
       "metabolite_no_data_color": "#ffffff",
       "metabolite_no_data_size": 10,
       "metabolite_scale": [
        {
         "color": "#fffaf0",
         "size": 20,
         "type": "min"
        },
        {
         "color": "#f1c470",
         "size": 30,
         "type": "median"
        },
        {
         "color": "#800000",
         "size": 40,
         "type": "max"
        }
       ],
       "metabolite_scale_preset": "WhYlRd",
       "metabolite_styles": [
        "color",
        "size",
        "text"
       ],
       "never_ask_before_quit": true,
       "primary_metabolite_radius": 20,
       "reaction_compare_style": "log2_fold",
       "reaction_data": {
        "G6PDH2r": -2,
        "GLCpts": -2,
        "GND": 1,
        "Other": 1000,
        "PGL": 0.4
       },
       "reaction_no_data_color": "#dcdcdc",
       "reaction_no_data_size": 8,
       "reaction_scale": [
        {
         "color": "rgb(191,215,230)",
         "type": "value",
         "value": 0.4
        },
        {
         "color": "rgb(163,210,240)",
         "type": "value",
         "value": 1
        },
        {
         "color": "rgb(135,205,250)",
         "type": "value",
         "value": 1000
        },
        {
         "color": "rgb(220,220,220)",
         "type": "value",
         "value": 0
        },
        {
         "color": "rgb(237,192,110)",
         "type": "value",
         "value": -2
        },
        {
         "color": "rgb(255,165,0)",
         "type": "value",
         "value": -2
        }
       ],
       "reaction_scale_preset": null,
       "reaction_styles": [
        "color",
        "text"
       ],
       "scroll_behavior": "none",
       "secondary_metabolite_radius": 10,
       "semantic_zoom": null,
       "show_gene_reaction_rules": false,
       "starting_reaction": null,
       "use_3d_transform": false,
       "zoom_to_element": null
      }
     },
     "c67673114d2a40cda3b24cb9b718e381": {
      "model_module": "escher",
      "model_module_version": "1.7.3",
      "model_name": "EscherMapModel",
      "state": {
       "_loaded_map_json": "[{\"map_name\": \"\", \"map_id\": \"\", \"map_description\": \"\", \"homepage\": \"\", \"schema\": \"https://escher.github.io/escher/jsonschema/1-0-0#\"}, {\"reactions\": {\"0\": {\"name\": \"GLCpts\", \"bigg_id\": \"GLCpts\", \"reversibility\": true, \"label_x\": 265.0, \"label_y\": 325.0, \"gene_reaction_rule\": \"\", \"genes\": [], \"segments\": {\"0\": {\"from_node_id\": \"4\", \"to_node_id\": \"5\", \"b1\": null, \"b2\": null}, \"1\": {\"from_node_id\": \"6\", \"to_node_id\": \"5\", \"b1\": null, \"b2\": null}, \"2\": {\"from_node_id\": \"0\", \"to_node_id\": \"4\", \"b1\": null, \"b2\": null}, \"3\": {\"from_node_id\": \"1\", \"to_node_id\": \"4\", \"b1\": null, \"b2\": null}, \"4\": {\"from_node_id\": \"2\", \"to_node_id\": \"6\", \"b1\": null, \"b2\": null}, \"5\": {\"from_node_id\": \"3\", \"to_node_id\": \"6\", \"b1\": null, \"b2\": null}}, \"metabolites\": [{\"bigg_id\": \"Glucopyranose_e\", \"coefficient\": -1.0}, {\"bigg_id\": \"PHOSPHO_ENOL_PYRUVATE_c\", \"coefficient\": -1.0}, {\"bigg_id\": \"D_glucopyranose_6_phosphate_c\", \"coefficient\": 1.0}, {\"bigg_id\": \"PYRUVATE_c\", \"coefficient\": 1.0}]}, \"1\": {\"name\": \"G6PDH2r\", \"bigg_id\": \"G6PDH2r\", \"reversibility\": true, \"label_x\": 265.0, \"label_y\": 975.0, \"gene_reaction_rule\": \"\", \"genes\": [], \"segments\": {\"6\": {\"from_node_id\": \"11\", \"to_node_id\": \"12\", \"b1\": null, \"b2\": null}, \"7\": {\"from_node_id\": \"13\", \"to_node_id\": \"12\", \"b1\": null, \"b2\": null}, \"8\": {\"from_node_id\": \"2\", \"to_node_id\": \"11\", \"b1\": null, \"b2\": null}, \"9\": {\"from_node_id\": \"7\", \"to_node_id\": \"11\", \"b1\": null, \"b2\": null}, \"10\": {\"from_node_id\": \"8\", \"to_node_id\": \"13\", \"b1\": null, \"b2\": null}, \"11\": {\"from_node_id\": \"9\", \"to_node_id\": \"13\", \"b1\": null, \"b2\": null}, \"12\": {\"from_node_id\": \"10\", \"to_node_id\": \"13\", \"b1\": null, \"b2\": null}}, \"metabolites\": [{\"bigg_id\": \"D_glucopyranose_6_phosphate_c\", \"coefficient\": -1.0}, {\"bigg_id\": \"NADP_c\", \"coefficient\": -1.0}, {\"bigg_id\": \"D_6_P_GLUCONO_DELTA_LACTONE_c\", \"coefficient\": 1.0}, {\"bigg_id\": \"NADPH_c\", \"coefficient\": 1.0}, {\"bigg_id\": \"PROTON_c\", \"coefficient\": 1.0}]}, \"2\": {\"name\": \"PGL\", \"bigg_id\": \"PGL\", \"reversibility\": true, \"label_x\": 265.0, \"label_y\": 1625.0, \"gene_reaction_rule\": \"\", \"genes\": [], \"segments\": {\"13\": {\"from_node_id\": \"17\", \"to_node_id\": \"18\", \"b1\": null, \"b2\": null}, \"14\": {\"from_node_id\": \"19\", \"to_node_id\": \"18\", \"b1\": null, \"b2\": null}, \"15\": {\"from_node_id\": \"14\", \"to_node_id\": \"17\", \"b1\": null, \"b2\": null}, \"16\": {\"from_node_id\": \"8\", \"to_node_id\": \"17\", \"b1\": null, \"b2\": null}, \"17\": {\"from_node_id\": \"15\", \"to_node_id\": \"19\", \"b1\": null, \"b2\": null}, \"18\": {\"from_node_id\": \"16\", \"to_node_id\": \"19\", \"b1\": null, \"b2\": null}}, \"metabolites\": [{\"bigg_id\": \"CPD_15815_c\", \"coefficient\": -1.0}, {\"bigg_id\": \"D_6_P_GLUCONO_DELTA_LACTONE_c\", \"coefficient\": -1.0}, {\"bigg_id\": \"CPD_2961_c\", \"coefficient\": 1.0}, {\"bigg_id\": \"PROTON_c\", \"coefficient\": 1.0}]}, \"3\": {\"name\": \"GND\", \"bigg_id\": \"GND\", \"reversibility\": true, \"label_x\": 265.0, \"label_y\": 2275.0, \"gene_reaction_rule\": \"\", \"genes\": [], \"segments\": {\"19\": {\"from_node_id\": \"24\", \"to_node_id\": \"25\", \"b1\": null, \"b2\": null}, \"20\": {\"from_node_id\": \"26\", \"to_node_id\": \"25\", \"b1\": null, \"b2\": null}, \"21\": {\"from_node_id\": \"15\", \"to_node_id\": \"24\", \"b1\": null, \"b2\": null}, \"22\": {\"from_node_id\": \"20\", \"to_node_id\": \"24\", \"b1\": null, \"b2\": null}, \"23\": {\"from_node_id\": \"21\", \"to_node_id\": \"26\", \"b1\": null, \"b2\": null}, \"24\": {\"from_node_id\": \"22\", \"to_node_id\": \"26\", \"b1\": null, \"b2\": null}, \"25\": {\"from_node_id\": \"23\", \"to_node_id\": \"26\", \"b1\": null, \"b2\": null}}, \"metabolites\": [{\"bigg_id\": \"CPD_2961_c\", \"coefficient\": -1.0}, {\"bigg_id\": \"NADP_c\", \"coefficient\": -1.0}, {\"bigg_id\": \"CARBON_DIOXIDE_c\", \"coefficient\": 1.0}, {\"bigg_id\": \"NADPH_c\", \"coefficient\": 1.0}, {\"bigg_id\": \"RIBULOSE_5P_c\", \"coefficient\": 1.0}]}}, \"nodes\": {\"0\": {\"node_type\": \"metabolite\", \"x\": 150.0, \"y\": 30.0, \"label_x\": 160.0, \"label_y\": 20.0, \"bigg_id\": \"Glucopyranose_e\", \"name\": \"Glucopyranose_e\", \"node_is_primary\": false}, \"1\": {\"node_type\": \"metabolite\", \"x\": 300.0, \"y\": 30.0, \"label_x\": 310.0, \"label_y\": 20.0, \"bigg_id\": \"PHOSPHO_ENOL_PYRUVATE_c\", \"name\": \"PHOSPHO_ENOL_PYRUVATE_c\", \"node_is_primary\": false}, \"2\": {\"node_type\": \"metabolite\", \"x\": 150.0, \"y\": 550.0, \"label_x\": 160.0, \"label_y\": 580.0, \"bigg_id\": \"D_glucopyranose_6_phosphate_c\", \"name\": \"D_glucopyranose_6_phosphate_c\", \"node_is_primary\": false}, \"3\": {\"node_type\": \"metabolite\", \"x\": 300.0, \"y\": 550.0, \"label_x\": 310.0, \"label_y\": 580.0, \"bigg_id\": \"PYRUVATE_c\", \"name\": \"PYRUVATE_c\", \"node_is_primary\": false}, \"4\": {\"node_type\": \"multimarker\", \"x\": 225.0, \"y\": 305.0}, \"5\": {\"node_type\": \"midmarker\", \"x\": 225.0, \"y\": 325.0}, \"6\": {\"node_type\": \"multimarker\", \"x\": 225.0, \"y\": 345.0}, \"7\": {\"node_type\": \"metabolite\", \"x\": 300.0, \"y\": 680.0, \"label_x\": 310.0, \"label_y\": 670.0, \"bigg_id\": \"NADP_c\", \"name\": \"NADP_c\", \"node_is_primary\": false}, \"8\": {\"node_type\": \"metabolite\", \"x\": 112.5, \"y\": 1200.0, \"label_x\": 122.5, \"label_y\": 1230.0, \"bigg_id\": \"D_6_P_GLUCONO_DELTA_LACTONE_c\", \"name\": \"D_6_P_GLUCONO_DELTA_LACTONE_c\", \"node_is_primary\": false}, \"9\": {\"node_type\": \"metabolite\", \"x\": 225.0, \"y\": 1200.0, \"label_x\": 235.0, \"label_y\": 1230.0, \"bigg_id\": \"NADPH_c\", \"name\": \"NADPH_c\", \"node_is_primary\": false}, \"10\": {\"node_type\": \"metabolite\", \"x\": 337.5, \"y\": 1200.0, \"label_x\": 347.5, \"label_y\": 1230.0, \"bigg_id\": \"PROTON_c\", \"name\": \"PROTON_c\", \"node_is_primary\": false}, \"11\": {\"node_type\": \"multimarker\", \"x\": 225.0, \"y\": 955.0}, \"12\": {\"node_type\": \"midmarker\", \"x\": 225.0, \"y\": 975.0}, \"13\": {\"node_type\": \"multimarker\", \"x\": 225.0, \"y\": 995.0}, \"14\": {\"node_type\": \"metabolite\", \"x\": 150.0, \"y\": 1330.0, \"label_x\": 160.0, \"label_y\": 1320.0, \"bigg_id\": \"CPD_15815_c\", \"name\": \"CPD_15815_c\", \"node_is_primary\": false}, \"15\": {\"node_type\": \"metabolite\", \"x\": 150.0, \"y\": 1850.0, \"label_x\": 160.0, \"label_y\": 1880.0, \"bigg_id\": \"CPD_2961_c\", \"name\": \"CPD_2961_c\", \"node_is_primary\": false}, \"16\": {\"node_type\": \"metabolite\", \"x\": 300.0, \"y\": 1850.0, \"label_x\": 310.0, \"label_y\": 1880.0, \"bigg_id\": \"PROTON_c\", \"name\": \"PROTON_c\", \"node_is_primary\": false}, \"17\": {\"node_type\": \"multimarker\", \"x\": 225.0, \"y\": 1605.0}, \"18\": {\"node_type\": \"midmarker\", \"x\": 225.0, \"y\": 1625.0}, \"19\": {\"node_type\": \"multimarker\", \"x\": 225.0, \"y\": 1645.0}, \"20\": {\"node_type\": \"metabolite\", \"x\": 300.0, \"y\": 1980.0, \"label_x\": 310.0, \"label_y\": 1970.0, \"bigg_id\": \"NADP_c\", \"name\": \"NADP_c\", \"node_is_primary\": false}, \"21\": {\"node_type\": \"metabolite\", \"x\": 112.5, \"y\": 2500.0, \"label_x\": 122.5, \"label_y\": 2530.0, \"bigg_id\": \"CARBON_DIOXIDE_c\", \"name\": \"CARBON_DIOXIDE_c\", \"node_is_primary\": false}, \"22\": {\"node_type\": \"metabolite\", \"x\": 225.0, \"y\": 2500.0, \"label_x\": 235.0, \"label_y\": 2530.0, \"bigg_id\": \"NADPH_c\", \"name\": \"NADPH_c\", \"node_is_primary\": false}, \"23\": {\"node_type\": \"metabolite\", \"x\": 337.5, \"y\": 2500.0, \"label_x\": 347.5, \"label_y\": 2530.0, \"bigg_id\": \"RIBULOSE_5P_c\", \"name\": \"RIBULOSE_5P_c\", \"node_is_primary\": false}, \"24\": {\"node_type\": \"multimarker\", \"x\": 225.0, \"y\": 2255.0}, \"25\": {\"node_type\": \"midmarker\", \"x\": 225.0, \"y\": 2275.0}, \"26\": {\"node_type\": \"multimarker\", \"x\": 225.0, \"y\": 2295.0}}, \"text_labels\": {}, \"canvas\": {\"x\": 0, \"y\": 0, \"width\": 450, \"height\": 2600}}]",
       "_loaded_model_json": null,
       "allow_building_duplicate_reactions": false,
       "and_method_in_gene_reaction_rule": "mean",
       "canvas_size_and_loc": null,
       "cofactors": [
        "atp",
        "adp",
        "nad",
        "nadh",
        "nadp",
        "nadph",
        "gtp",
        "gdp",
        "h",
        "coa",
        "ump",
        "h2o",
        "ppi"
       ],
       "disabled_buttons": [
        "Clear gene data",
        "Clear metabolite data"
       ],
       "embedded_css": null,
       "enable_editing": true,
       "enable_keys": false,
       "enable_keys_with_tooltip": true,
       "enable_search": true,
       "enable_tooltips": false,
       "full_screen_button": {
        "enable_editing": true,
        "enable_keys": true,
        "enable_tooltips": [
         "label"
        ],
        "menu": "all",
        "scroll_behavior": "pan"
       },
       "gene_data": null,
       "gene_font_size": 18,
       "height": 500,
       "hide_all_labels": false,
       "hide_secondary_metabolites": false,
       "highlight_missing": false,
       "identifiers_on_map": "bigg_id",
       "layout": "IPY_MODEL_20e8114d39d14d939cf924a0ebfa6916",
       "marker_radius": 5,
       "menu": "all",
       "metabolite_compare_style": "log2_fold",
       "metabolite_data": null,
       "metabolite_no_data_color": "#ffffff",
       "metabolite_no_data_size": 10,
       "metabolite_scale": [
        {
         "color": "#fffaf0",
         "size": 20,
         "type": "min"
        },
        {
         "color": "#f1c470",
         "size": 30,
         "type": "median"
        },
        {
         "color": "#800000",
         "size": 40,
         "type": "max"
        }
       ],
       "metabolite_scale_preset": "WhYlRd",
       "metabolite_styles": [
        "color",
        "size",
        "text"
       ],
       "never_ask_before_quit": true,
       "primary_metabolite_radius": 20,
       "reaction_compare_style": "log2_fold",
       "reaction_data": {
        "G6PDH2r": -2,
        "GLCpts": -2,
        "GND": 1,
        "PGL": 0.4
       },
       "reaction_no_data_color": "#dcdcdc",
       "reaction_no_data_size": 8,
       "reaction_scale": [
        {
         "color": "rgb(220,220,220)",
         "type": "value",
         "value": 0.5
        },
        {
         "color": "rgb(220,220,220)",
         "type": "value",
         "value": 1
        },
        {
         "color": "rgb(220,220,220)",
         "type": "value",
         "value": 0
        },
        {
         "color": "rgb(220,220,220)",
         "type": "value",
         "value": -1
        },
        {
         "color": "rgb(220,220,220)",
         "type": "value",
         "value": -2
        }
       ],
       "reaction_scale_preset": null,
       "reaction_styles": [
        "color",
        "text"
       ],
       "scroll_behavior": "none",
       "secondary_metabolite_radius": 10,
       "semantic_zoom": null,
       "show_gene_reaction_rules": false,
       "starting_reaction": null,
       "use_3d_transform": false,
       "zoom_to_element": null
      }
     },
     "c7d3f163fea54859b66ff01b952a519d": {
      "model_module": "escher",
      "model_module_version": "1.7.3",
      "model_name": "EscherMapModel",
      "state": {
       "_loaded_map_json": "[{\"map_name\": \"\", \"map_id\": \"\", \"map_description\": \"\", \"homepage\": \"\", \"schema\": \"https://escher.github.io/escher/jsonschema/1-0-0#\"}, {\"reactions\": {\"0\": {\"name\": \"GLCpts\", \"bigg_id\": \"GLCpts\", \"reversibility\": true, \"label_x\": 265.0, \"label_y\": 325.0, \"gene_reaction_rule\": \"\", \"genes\": [], \"segments\": {\"0\": {\"from_node_id\": \"4\", \"to_node_id\": \"5\", \"b1\": null, \"b2\": null}, \"1\": {\"from_node_id\": \"6\", \"to_node_id\": \"5\", \"b1\": null, \"b2\": null}, \"2\": {\"from_node_id\": \"0\", \"to_node_id\": \"4\", \"b1\": null, \"b2\": null}, \"3\": {\"from_node_id\": \"1\", \"to_node_id\": \"4\", \"b1\": null, \"b2\": null}, \"4\": {\"from_node_id\": \"2\", \"to_node_id\": \"6\", \"b1\": null, \"b2\": null}, \"5\": {\"from_node_id\": \"3\", \"to_node_id\": \"6\", \"b1\": null, \"b2\": null}}, \"metabolites\": [{\"bigg_id\": \"Glucopyranose_e\", \"coefficient\": -1.0}, {\"bigg_id\": \"PHOSPHO_ENOL_PYRUVATE_c\", \"coefficient\": -1.0}, {\"bigg_id\": \"D_glucopyranose_6_phosphate_c\", \"coefficient\": 1.0}, {\"bigg_id\": \"PYRUVATE_c\", \"coefficient\": 1.0}]}, \"1\": {\"name\": \"G6PDH2r\", \"bigg_id\": \"G6PDH2r\", \"reversibility\": true, \"label_x\": 265.0, \"label_y\": 975.0, \"gene_reaction_rule\": \"\", \"genes\": [], \"segments\": {\"6\": {\"from_node_id\": \"11\", \"to_node_id\": \"12\", \"b1\": null, \"b2\": null}, \"7\": {\"from_node_id\": \"13\", \"to_node_id\": \"12\", \"b1\": null, \"b2\": null}, \"8\": {\"from_node_id\": \"2\", \"to_node_id\": \"11\", \"b1\": null, \"b2\": null}, \"9\": {\"from_node_id\": \"7\", \"to_node_id\": \"11\", \"b1\": null, \"b2\": null}, \"10\": {\"from_node_id\": \"8\", \"to_node_id\": \"13\", \"b1\": null, \"b2\": null}, \"11\": {\"from_node_id\": \"9\", \"to_node_id\": \"13\", \"b1\": null, \"b2\": null}, \"12\": {\"from_node_id\": \"10\", \"to_node_id\": \"13\", \"b1\": null, \"b2\": null}}, \"metabolites\": [{\"bigg_id\": \"D_glucopyranose_6_phosphate_c\", \"coefficient\": -1.0}, {\"bigg_id\": \"NADP_c\", \"coefficient\": -1.0}, {\"bigg_id\": \"D_6_P_GLUCONO_DELTA_LACTONE_c\", \"coefficient\": 1.0}, {\"bigg_id\": \"NADPH_c\", \"coefficient\": 1.0}, {\"bigg_id\": \"PROTON_c\", \"coefficient\": 1.0}]}, \"2\": {\"name\": \"PGL\", \"bigg_id\": \"PGL\", \"reversibility\": true, \"label_x\": 265.0, \"label_y\": 1625.0, \"gene_reaction_rule\": \"\", \"genes\": [], \"segments\": {\"13\": {\"from_node_id\": \"17\", \"to_node_id\": \"18\", \"b1\": null, \"b2\": null}, \"14\": {\"from_node_id\": \"19\", \"to_node_id\": \"18\", \"b1\": null, \"b2\": null}, \"15\": {\"from_node_id\": \"14\", \"to_node_id\": \"17\", \"b1\": null, \"b2\": null}, \"16\": {\"from_node_id\": \"8\", \"to_node_id\": \"17\", \"b1\": null, \"b2\": null}, \"17\": {\"from_node_id\": \"15\", \"to_node_id\": \"19\", \"b1\": null, \"b2\": null}, \"18\": {\"from_node_id\": \"16\", \"to_node_id\": \"19\", \"b1\": null, \"b2\": null}}, \"metabolites\": [{\"bigg_id\": \"CPD_15815_c\", \"coefficient\": -1.0}, {\"bigg_id\": \"D_6_P_GLUCONO_DELTA_LACTONE_c\", \"coefficient\": -1.0}, {\"bigg_id\": \"CPD_2961_c\", \"coefficient\": 1.0}, {\"bigg_id\": \"PROTON_c\", \"coefficient\": 1.0}]}, \"3\": {\"name\": \"GND\", \"bigg_id\": \"GND\", \"reversibility\": true, \"label_x\": 265.0, \"label_y\": 2275.0, \"gene_reaction_rule\": \"\", \"genes\": [], \"segments\": {\"19\": {\"from_node_id\": \"24\", \"to_node_id\": \"25\", \"b1\": null, \"b2\": null}, \"20\": {\"from_node_id\": \"26\", \"to_node_id\": \"25\", \"b1\": null, \"b2\": null}, \"21\": {\"from_node_id\": \"15\", \"to_node_id\": \"24\", \"b1\": null, \"b2\": null}, \"22\": {\"from_node_id\": \"20\", \"to_node_id\": \"24\", \"b1\": null, \"b2\": null}, \"23\": {\"from_node_id\": \"21\", \"to_node_id\": \"26\", \"b1\": null, \"b2\": null}, \"24\": {\"from_node_id\": \"22\", \"to_node_id\": \"26\", \"b1\": null, \"b2\": null}, \"25\": {\"from_node_id\": \"23\", \"to_node_id\": \"26\", \"b1\": null, \"b2\": null}}, \"metabolites\": [{\"bigg_id\": \"CPD_2961_c\", \"coefficient\": -1.0}, {\"bigg_id\": \"NADP_c\", \"coefficient\": -1.0}, {\"bigg_id\": \"CARBON_DIOXIDE_c\", \"coefficient\": 1.0}, {\"bigg_id\": \"NADPH_c\", \"coefficient\": 1.0}, {\"bigg_id\": \"RIBULOSE_5P_c\", \"coefficient\": 1.0}]}}, \"nodes\": {\"0\": {\"node_type\": \"metabolite\", \"x\": 150.0, \"y\": 30.0, \"label_x\": 160.0, \"label_y\": 20.0, \"bigg_id\": \"Glucopyranose_e\", \"name\": \"Glucopyranose_e\", \"node_is_primary\": false}, \"1\": {\"node_type\": \"metabolite\", \"x\": 300.0, \"y\": 30.0, \"label_x\": 310.0, \"label_y\": 20.0, \"bigg_id\": \"PHOSPHO_ENOL_PYRUVATE_c\", \"name\": \"PHOSPHO_ENOL_PYRUVATE_c\", \"node_is_primary\": false}, \"2\": {\"node_type\": \"metabolite\", \"x\": 150.0, \"y\": 550.0, \"label_x\": 160.0, \"label_y\": 580.0, \"bigg_id\": \"D_glucopyranose_6_phosphate_c\", \"name\": \"D_glucopyranose_6_phosphate_c\", \"node_is_primary\": false}, \"3\": {\"node_type\": \"metabolite\", \"x\": 300.0, \"y\": 550.0, \"label_x\": 310.0, \"label_y\": 580.0, \"bigg_id\": \"PYRUVATE_c\", \"name\": \"PYRUVATE_c\", \"node_is_primary\": false}, \"4\": {\"node_type\": \"multimarker\", \"x\": 225.0, \"y\": 305.0}, \"5\": {\"node_type\": \"midmarker\", \"x\": 225.0, \"y\": 325.0}, \"6\": {\"node_type\": \"multimarker\", \"x\": 225.0, \"y\": 345.0}, \"7\": {\"node_type\": \"metabolite\", \"x\": 300.0, \"y\": 680.0, \"label_x\": 310.0, \"label_y\": 670.0, \"bigg_id\": \"NADP_c\", \"name\": \"NADP_c\", \"node_is_primary\": false}, \"8\": {\"node_type\": \"metabolite\", \"x\": 112.5, \"y\": 1200.0, \"label_x\": 122.5, \"label_y\": 1230.0, \"bigg_id\": \"D_6_P_GLUCONO_DELTA_LACTONE_c\", \"name\": \"D_6_P_GLUCONO_DELTA_LACTONE_c\", \"node_is_primary\": false}, \"9\": {\"node_type\": \"metabolite\", \"x\": 225.0, \"y\": 1200.0, \"label_x\": 235.0, \"label_y\": 1230.0, \"bigg_id\": \"NADPH_c\", \"name\": \"NADPH_c\", \"node_is_primary\": false}, \"10\": {\"node_type\": \"metabolite\", \"x\": 337.5, \"y\": 1200.0, \"label_x\": 347.5, \"label_y\": 1230.0, \"bigg_id\": \"PROTON_c\", \"name\": \"PROTON_c\", \"node_is_primary\": false}, \"11\": {\"node_type\": \"multimarker\", \"x\": 225.0, \"y\": 955.0}, \"12\": {\"node_type\": \"midmarker\", \"x\": 225.0, \"y\": 975.0}, \"13\": {\"node_type\": \"multimarker\", \"x\": 225.0, \"y\": 995.0}, \"14\": {\"node_type\": \"metabolite\", \"x\": 150.0, \"y\": 1330.0, \"label_x\": 160.0, \"label_y\": 1320.0, \"bigg_id\": \"CPD_15815_c\", \"name\": \"CPD_15815_c\", \"node_is_primary\": false}, \"15\": {\"node_type\": \"metabolite\", \"x\": 150.0, \"y\": 1850.0, \"label_x\": 160.0, \"label_y\": 1880.0, \"bigg_id\": \"CPD_2961_c\", \"name\": \"CPD_2961_c\", \"node_is_primary\": false}, \"16\": {\"node_type\": \"metabolite\", \"x\": 300.0, \"y\": 1850.0, \"label_x\": 310.0, \"label_y\": 1880.0, \"bigg_id\": \"PROTON_c\", \"name\": \"PROTON_c\", \"node_is_primary\": false}, \"17\": {\"node_type\": \"multimarker\", \"x\": 225.0, \"y\": 1605.0}, \"18\": {\"node_type\": \"midmarker\", \"x\": 225.0, \"y\": 1625.0}, \"19\": {\"node_type\": \"multimarker\", \"x\": 225.0, \"y\": 1645.0}, \"20\": {\"node_type\": \"metabolite\", \"x\": 300.0, \"y\": 1980.0, \"label_x\": 310.0, \"label_y\": 1970.0, \"bigg_id\": \"NADP_c\", \"name\": \"NADP_c\", \"node_is_primary\": false}, \"21\": {\"node_type\": \"metabolite\", \"x\": 112.5, \"y\": 2500.0, \"label_x\": 122.5, \"label_y\": 2530.0, \"bigg_id\": \"CARBON_DIOXIDE_c\", \"name\": \"CARBON_DIOXIDE_c\", \"node_is_primary\": false}, \"22\": {\"node_type\": \"metabolite\", \"x\": 225.0, \"y\": 2500.0, \"label_x\": 235.0, \"label_y\": 2530.0, \"bigg_id\": \"NADPH_c\", \"name\": \"NADPH_c\", \"node_is_primary\": false}, \"23\": {\"node_type\": \"metabolite\", \"x\": 337.5, \"y\": 2500.0, \"label_x\": 347.5, \"label_y\": 2530.0, \"bigg_id\": \"RIBULOSE_5P_c\", \"name\": \"RIBULOSE_5P_c\", \"node_is_primary\": false}, \"24\": {\"node_type\": \"multimarker\", \"x\": 225.0, \"y\": 2255.0}, \"25\": {\"node_type\": \"midmarker\", \"x\": 225.0, \"y\": 2275.0}, \"26\": {\"node_type\": \"multimarker\", \"x\": 225.0, \"y\": 2295.0}}, \"text_labels\": {}, \"canvas\": {\"x\": 0, \"y\": 0, \"width\": 450, \"height\": 2600}}]",
       "_loaded_model_json": null,
       "allow_building_duplicate_reactions": false,
       "and_method_in_gene_reaction_rule": "mean",
       "canvas_size_and_loc": null,
       "cofactors": [
        "atp",
        "adp",
        "nad",
        "nadh",
        "nadp",
        "nadph",
        "gtp",
        "gdp",
        "h",
        "coa",
        "ump",
        "h2o",
        "ppi"
       ],
       "disabled_buttons": [
        "Clear reaction data",
        "Clear gene data",
        "Clear metabolite data"
       ],
       "embedded_css": null,
       "enable_editing": true,
       "enable_keys": false,
       "enable_keys_with_tooltip": true,
       "enable_search": true,
       "enable_tooltips": false,
       "full_screen_button": {
        "enable_editing": true,
        "enable_keys": true,
        "enable_tooltips": [
         "label"
        ],
        "menu": "all",
        "scroll_behavior": "pan"
       },
       "gene_data": null,
       "gene_font_size": 18,
       "height": 500,
       "hide_all_labels": false,
       "hide_secondary_metabolites": false,
       "highlight_missing": false,
       "identifiers_on_map": "bigg_id",
       "layout": "IPY_MODEL_8950cfee9e3e44f1b6e01263e08450e7",
       "marker_radius": 5,
       "menu": "all",
       "metabolite_compare_style": "log2_fold",
       "metabolite_data": null,
       "metabolite_no_data_color": "#ffffff",
       "metabolite_no_data_size": 10,
       "metabolite_scale": [
        {
         "color": "#fffaf0",
         "size": 20,
         "type": "min"
        },
        {
         "color": "#f1c470",
         "size": 30,
         "type": "median"
        },
        {
         "color": "#800000",
         "size": 40,
         "type": "max"
        }
       ],
       "metabolite_scale_preset": "WhYlRd",
       "metabolite_styles": [
        "color",
        "size",
        "text"
       ],
       "never_ask_before_quit": true,
       "primary_metabolite_radius": 20,
       "reaction_compare_style": "log2_fold",
       "reaction_data": null,
       "reaction_no_data_color": "#dcdcdc",
       "reaction_no_data_size": 8,
       "reaction_scale": {},
       "reaction_scale_preset": null,
       "reaction_styles": [
        "color",
        "text"
       ],
       "scroll_behavior": "none",
       "secondary_metabolite_radius": 10,
       "semantic_zoom": null,
       "show_gene_reaction_rules": false,
       "starting_reaction": null,
       "use_3d_transform": false,
       "zoom_to_element": null
      }
     },
     "c89a15058400464d8125b28b59adb974": {
      "model_module": "escher",
      "model_module_version": "1.7.3",
      "model_name": "EscherMapModel",
      "state": {
       "_loaded_map_json": "[{\"map_name\": \"\", \"map_id\": \"\", \"map_description\": \"\", \"homepage\": \"\", \"schema\": \"https://escher.github.io/escher/jsonschema/1-0-0#\"}, {\"reactions\": {\"0\": {\"name\": \"GLCpts\", \"bigg_id\": \"GLCpts\", \"reversibility\": true, \"label_x\": 271.0, \"label_y\": 45.0, \"gene_reaction_rule\": \"\", \"genes\": [], \"segments\": {\"0\": {\"from_node_id\": \"4\", \"to_node_id\": \"5\", \"b1\": null, \"b2\": null}, \"1\": {\"from_node_id\": \"6\", \"to_node_id\": \"5\", \"b1\": null, \"b2\": null}, \"2\": {\"from_node_id\": \"0\", \"to_node_id\": \"4\", \"b1\": null, \"b2\": null}, \"3\": {\"from_node_id\": \"1\", \"to_node_id\": \"4\", \"b1\": null, \"b2\": null}, \"4\": {\"from_node_id\": \"2\", \"to_node_id\": \"6\", \"b1\": null, \"b2\": null}, \"5\": {\"from_node_id\": \"3\", \"to_node_id\": \"6\", \"b1\": null, \"b2\": null}}, \"metabolites\": [{\"bigg_id\": \"Glucopyranose_e\", \"coefficient\": -1.0}, {\"bigg_id\": \"PHOSPHO_ENOL_PYRUVATE_c\", \"coefficient\": -1.0}, {\"bigg_id\": \"D_glucopyranose_6_phosphate_c\", \"coefficient\": 1.0}, {\"bigg_id\": \"PYRUVATE_c\", \"coefficient\": 1.0}]}, \"1\": {\"name\": \"G6PDH2r\", \"bigg_id\": \"G6PDH2r\", \"reversibility\": true, \"label_x\": 912.0, \"label_y\": 45.0, \"gene_reaction_rule\": \"\", \"genes\": [], \"segments\": {\"6\": {\"from_node_id\": \"11\", \"to_node_id\": \"12\", \"b1\": null, \"b2\": null}, \"7\": {\"from_node_id\": \"13\", \"to_node_id\": \"12\", \"b1\": null, \"b2\": null}, \"8\": {\"from_node_id\": \"2\", \"to_node_id\": \"11\", \"b1\": null, \"b2\": null}, \"9\": {\"from_node_id\": \"7\", \"to_node_id\": \"11\", \"b1\": null, \"b2\": null}, \"10\": {\"from_node_id\": \"8\", \"to_node_id\": \"13\", \"b1\": null, \"b2\": null}, \"11\": {\"from_node_id\": \"9\", \"to_node_id\": \"13\", \"b1\": null, \"b2\": null}, \"12\": {\"from_node_id\": \"10\", \"to_node_id\": \"13\", \"b1\": null, \"b2\": null}}, \"metabolites\": [{\"bigg_id\": \"D_glucopyranose_6_phosphate_c\", \"coefficient\": -1.0}, {\"bigg_id\": \"NADP_c\", \"coefficient\": -1.0}, {\"bigg_id\": \"D_6_P_GLUCONO_DELTA_LACTONE_c\", \"coefficient\": 1.0}, {\"bigg_id\": \"NADPH_c\", \"coefficient\": 1.0}, {\"bigg_id\": \"PROTON_c\", \"coefficient\": 1.0}]}, \"2\": {\"name\": \"PGL\", \"bigg_id\": \"PGL\", \"reversibility\": true, \"label_x\": 1598.0, \"label_y\": 45.0, \"gene_reaction_rule\": \"\", \"genes\": [], \"segments\": {\"13\": {\"from_node_id\": \"17\", \"to_node_id\": \"18\", \"b1\": null, \"b2\": null}, \"14\": {\"from_node_id\": \"19\", \"to_node_id\": \"18\", \"b1\": null, \"b2\": null}, \"15\": {\"from_node_id\": \"14\", \"to_node_id\": \"17\", \"b1\": null, \"b2\": null}, \"16\": {\"from_node_id\": \"8\", \"to_node_id\": \"17\", \"b1\": null, \"b2\": null}, \"17\": {\"from_node_id\": \"15\", \"to_node_id\": \"19\", \"b1\": null, \"b2\": null}, \"18\": {\"from_node_id\": \"16\", \"to_node_id\": \"19\", \"b1\": null, \"b2\": null}}, \"metabolites\": [{\"bigg_id\": \"CPD_15815_c\", \"coefficient\": -1.0}, {\"bigg_id\": \"D_6_P_GLUCONO_DELTA_LACTONE_c\", \"coefficient\": -1.0}, {\"bigg_id\": \"CPD_2961_c\", \"coefficient\": 1.0}, {\"bigg_id\": \"PROTON_c\", \"coefficient\": 1.0}]}, \"3\": {\"name\": \"GND\", \"bigg_id\": \"GND\", \"reversibility\": true, \"label_x\": 2248.0, \"label_y\": 45.0, \"gene_reaction_rule\": \"\", \"genes\": [], \"segments\": {\"19\": {\"from_node_id\": \"24\", \"to_node_id\": \"25\", \"b1\": null, \"b2\": null}, \"20\": {\"from_node_id\": \"26\", \"to_node_id\": \"25\", \"b1\": null, \"b2\": null}, \"21\": {\"from_node_id\": \"15\", \"to_node_id\": \"24\", \"b1\": null, \"b2\": null}, \"22\": {\"from_node_id\": \"20\", \"to_node_id\": \"24\", \"b1\": null, \"b2\": null}, \"23\": {\"from_node_id\": \"21\", \"to_node_id\": \"26\", \"b1\": null, \"b2\": null}, \"24\": {\"from_node_id\": \"22\", \"to_node_id\": \"26\", \"b1\": null, \"b2\": null}, \"25\": {\"from_node_id\": \"23\", \"to_node_id\": \"26\", \"b1\": null, \"b2\": null}}, \"metabolites\": [{\"bigg_id\": \"CPD_2961_c\", \"coefficient\": -1.0}, {\"bigg_id\": \"NADP_c\", \"coefficient\": -1.0}, {\"bigg_id\": \"CARBON_DIOXIDE_c\", \"coefficient\": 1.0}, {\"bigg_id\": \"NADPH_c\", \"coefficient\": 1.0}, {\"bigg_id\": \"RIBULOSE_5P_c\", \"coefficient\": 1.0}]}}, \"nodes\": {\"0\": {\"node_type\": \"metabolite\", \"x\": 30.0, \"y\": 150.0, \"label_x\": 0.0, \"label_y\": 130.0, \"bigg_id\": \"Glucopyranose_e\", \"name\": \"Glucopyranose_e\", \"node_is_primary\": false}, \"1\": {\"node_type\": \"metabolite\", \"x\": 30.0, \"y\": 300.0, \"label_x\": 0.0, \"label_y\": 280.0, \"bigg_id\": \"PHOSPHO_ENOL_PYRUVATE_c\", \"name\": \"PHOSPHO_ENOL_PYRUVATE_c\", \"node_is_primary\": false}, \"2\": {\"node_type\": \"metabolite\", \"x\": 550.0, \"y\": 150.0, \"label_x\": 520.0, \"label_y\": 130.0, \"bigg_id\": \"D_glucopyranose_6_phosphate_c\", \"name\": \"D_glucopyranose_6_phosphate_c\", \"node_is_primary\": false}, \"3\": {\"node_type\": \"metabolite\", \"x\": 550.0, \"y\": 300.0, \"label_x\": 520.0, \"label_y\": 280.0, \"bigg_id\": \"PYRUVATE_c\", \"name\": \"PYRUVATE_c\", \"node_is_primary\": false}, \"4\": {\"node_type\": \"multimarker\", \"x\": 335.0, \"y\": 225.0}, \"5\": {\"node_type\": \"midmarker\", \"x\": 355.0, \"y\": 225.0}, \"6\": {\"node_type\": \"multimarker\", \"x\": 375.0, \"y\": 225.0}, \"7\": {\"node_type\": \"metabolite\", \"x\": 680.0, \"y\": 300.0, \"label_x\": 650.0, \"label_y\": 280.0, \"bigg_id\": \"NADP_c\", \"name\": \"NADP_c\", \"node_is_primary\": false}, \"8\": {\"node_type\": \"metabolite\", \"x\": 1200.0, \"y\": 112.5, \"label_x\": 1170.0, \"label_y\": 92.5, \"bigg_id\": \"D_6_P_GLUCONO_DELTA_LACTONE_c\", \"name\": \"D_6_P_GLUCONO_DELTA_LACTONE_c\", \"node_is_primary\": false}, \"9\": {\"node_type\": \"metabolite\", \"x\": 1200.0, \"y\": 225.0, \"label_x\": 1170.0, \"label_y\": 205.0, \"bigg_id\": \"NADPH_c\", \"name\": \"NADPH_c\", \"node_is_primary\": false}, \"10\": {\"node_type\": \"metabolite\", \"x\": 1200.0, \"y\": 337.5, \"label_x\": 1170.0, \"label_y\": 317.5, \"bigg_id\": \"PROTON_c\", \"name\": \"PROTON_c\", \"node_is_primary\": false}, \"11\": {\"node_type\": \"multimarker\", \"x\": 985.0, \"y\": 225.0}, \"12\": {\"node_type\": \"midmarker\", \"x\": 1005.0, \"y\": 225.0}, \"13\": {\"node_type\": \"multimarker\", \"x\": 1025.0, \"y\": 225.0}, \"14\": {\"node_type\": \"metabolite\", \"x\": 1330.0, \"y\": 150.0, \"label_x\": 1300.0, \"label_y\": 130.0, \"bigg_id\": \"CPD_15815_c\", \"name\": \"CPD_15815_c\", \"node_is_primary\": false}, \"15\": {\"node_type\": \"metabolite\", \"x\": 1850.0, \"y\": 150.0, \"label_x\": 1820.0, \"label_y\": 130.0, \"bigg_id\": \"CPD_2961_c\", \"name\": \"CPD_2961_c\", \"node_is_primary\": false}, \"16\": {\"node_type\": \"metabolite\", \"x\": 1850.0, \"y\": 300.0, \"label_x\": 1820.0, \"label_y\": 280.0, \"bigg_id\": \"PROTON_c\", \"name\": \"PROTON_c\", \"node_is_primary\": false}, \"17\": {\"node_type\": \"multimarker\", \"x\": 1635.0, \"y\": 225.0}, \"18\": {\"node_type\": \"midmarker\", \"x\": 1655.0, \"y\": 225.0}, \"19\": {\"node_type\": \"multimarker\", \"x\": 1675.0, \"y\": 225.0}, \"20\": {\"node_type\": \"metabolite\", \"x\": 1980.0, \"y\": 300.0, \"label_x\": 1950.0, \"label_y\": 280.0, \"bigg_id\": \"NADP_c\", \"name\": \"NADP_c\", \"node_is_primary\": false}, \"21\": {\"node_type\": \"metabolite\", \"x\": 2500.0, \"y\": 112.5, \"label_x\": 2470.0, \"label_y\": 92.5, \"bigg_id\": \"CARBON_DIOXIDE_c\", \"name\": \"CARBON_DIOXIDE_c\", \"node_is_primary\": false}, \"22\": {\"node_type\": \"metabolite\", \"x\": 2500.0, \"y\": 225.0, \"label_x\": 2470.0, \"label_y\": 205.0, \"bigg_id\": \"NADPH_c\", \"name\": \"NADPH_c\", \"node_is_primary\": false}, \"23\": {\"node_type\": \"metabolite\", \"x\": 2500.0, \"y\": 337.5, \"label_x\": 2470.0, \"label_y\": 317.5, \"bigg_id\": \"RIBULOSE_5P_c\", \"name\": \"RIBULOSE_5P_c\", \"node_is_primary\": false}, \"24\": {\"node_type\": \"multimarker\", \"x\": 2285.0, \"y\": 225.0}, \"25\": {\"node_type\": \"midmarker\", \"x\": 2305.0, \"y\": 225.0}, \"26\": {\"node_type\": \"multimarker\", \"x\": 2325.0, \"y\": 225.0}}, \"text_labels\": {}, \"canvas\": {\"x\": 0, \"y\": 0, \"width\": 2600, \"height\": 450}}]",
       "_loaded_model_json": null,
       "allow_building_duplicate_reactions": false,
       "and_method_in_gene_reaction_rule": "mean",
       "canvas_size_and_loc": null,
       "cofactors": [
        "atp",
        "adp",
        "nad",
        "nadh",
        "nadp",
        "nadph",
        "gtp",
        "gdp",
        "h",
        "coa",
        "ump",
        "h2o",
        "ppi"
       ],
       "disabled_buttons": [
        "Clear reaction data",
        "Clear gene data",
        "Clear metabolite data"
       ],
       "embedded_css": null,
       "enable_editing": true,
       "enable_keys": false,
       "enable_keys_with_tooltip": true,
       "enable_search": true,
       "enable_tooltips": false,
       "full_screen_button": {
        "enable_editing": true,
        "enable_keys": true,
        "enable_tooltips": [
         "label"
        ],
        "menu": "all",
        "scroll_behavior": "pan"
       },
       "gene_data": null,
       "gene_font_size": 18,
       "height": 500,
       "hide_all_labels": false,
       "hide_secondary_metabolites": false,
       "highlight_missing": false,
       "identifiers_on_map": "bigg_id",
       "layout": "IPY_MODEL_e5df47c3e94f4918b8415fbb5867013e",
       "marker_radius": 5,
       "menu": "all",
       "metabolite_compare_style": "log2_fold",
       "metabolite_data": null,
       "metabolite_no_data_color": "#ffffff",
       "metabolite_no_data_size": 10,
       "metabolite_scale": [
        {
         "color": "#fffaf0",
         "size": 20,
         "type": "min"
        },
        {
         "color": "#f1c470",
         "size": 30,
         "type": "median"
        },
        {
         "color": "#800000",
         "size": 40,
         "type": "max"
        }
       ],
       "metabolite_scale_preset": "WhYlRd",
       "metabolite_styles": [
        "color",
        "size",
        "text"
       ],
       "never_ask_before_quit": true,
       "primary_metabolite_radius": 20,
       "reaction_compare_style": "log2_fold",
       "reaction_data": null,
       "reaction_no_data_color": "#dcdcdc",
       "reaction_no_data_size": 8,
       "reaction_scale": {},
       "reaction_scale_preset": null,
       "reaction_styles": [
        "color",
        "text"
       ],
       "scroll_behavior": "none",
       "secondary_metabolite_radius": 10,
       "semantic_zoom": null,
       "show_gene_reaction_rules": false,
       "starting_reaction": null,
       "use_3d_transform": false,
       "zoom_to_element": null
      }
     },
     "ca381825275142c49fa711a9b4f192c8": {
      "model_module": "escher",
      "model_module_version": "1.7.3",
      "model_name": "EscherMapModel",
      "state": {
       "_loaded_map_json": "[{\"map_name\": \"\", \"map_id\": \"\", \"map_description\": \"\", \"homepage\": \"\", \"schema\": \"https://escher.github.io/escher/jsonschema/1-0-0#\"}, {\"reactions\": {\"0\": {\"name\": \"GLCpts\", \"bigg_id\": \"GLCpts\", \"reversibility\": true, \"label_x\": 265.0, \"label_y\": 325.0, \"gene_reaction_rule\": \"\", \"genes\": [], \"segments\": {\"0\": {\"from_node_id\": \"4\", \"to_node_id\": \"5\", \"b1\": null, \"b2\": null}, \"1\": {\"from_node_id\": \"6\", \"to_node_id\": \"5\", \"b1\": null, \"b2\": null}, \"2\": {\"from_node_id\": \"0\", \"to_node_id\": \"4\", \"b1\": null, \"b2\": null}, \"3\": {\"from_node_id\": \"1\", \"to_node_id\": \"4\", \"b1\": null, \"b2\": null}, \"4\": {\"from_node_id\": \"2\", \"to_node_id\": \"6\", \"b1\": null, \"b2\": null}, \"5\": {\"from_node_id\": \"3\", \"to_node_id\": \"6\", \"b1\": null, \"b2\": null}}, \"metabolites\": [{\"bigg_id\": \"Glucopyranose_e\", \"coefficient\": -1.0}, {\"bigg_id\": \"PHOSPHO_ENOL_PYRUVATE_c\", \"coefficient\": -1.0}, {\"bigg_id\": \"D_glucopyranose_6_phosphate_c\", \"coefficient\": 1.0}, {\"bigg_id\": \"PYRUVATE_c\", \"coefficient\": 1.0}]}, \"1\": {\"name\": \"G6PDH2r\", \"bigg_id\": \"G6PDH2r\", \"reversibility\": true, \"label_x\": 265.0, \"label_y\": 975.0, \"gene_reaction_rule\": \"\", \"genes\": [], \"segments\": {\"6\": {\"from_node_id\": \"11\", \"to_node_id\": \"12\", \"b1\": null, \"b2\": null}, \"7\": {\"from_node_id\": \"13\", \"to_node_id\": \"12\", \"b1\": null, \"b2\": null}, \"8\": {\"from_node_id\": \"2\", \"to_node_id\": \"11\", \"b1\": null, \"b2\": null}, \"9\": {\"from_node_id\": \"7\", \"to_node_id\": \"11\", \"b1\": null, \"b2\": null}, \"10\": {\"from_node_id\": \"8\", \"to_node_id\": \"13\", \"b1\": null, \"b2\": null}, \"11\": {\"from_node_id\": \"9\", \"to_node_id\": \"13\", \"b1\": null, \"b2\": null}, \"12\": {\"from_node_id\": \"10\", \"to_node_id\": \"13\", \"b1\": null, \"b2\": null}}, \"metabolites\": [{\"bigg_id\": \"D_glucopyranose_6_phosphate_c\", \"coefficient\": -1.0}, {\"bigg_id\": \"NADP_c\", \"coefficient\": -1.0}, {\"bigg_id\": \"D_6_P_GLUCONO_DELTA_LACTONE_c\", \"coefficient\": 1.0}, {\"bigg_id\": \"NADPH_c\", \"coefficient\": 1.0}, {\"bigg_id\": \"PROTON_c\", \"coefficient\": 1.0}]}, \"2\": {\"name\": \"PGL\", \"bigg_id\": \"PGL\", \"reversibility\": true, \"label_x\": 265.0, \"label_y\": 1625.0, \"gene_reaction_rule\": \"\", \"genes\": [], \"segments\": {\"13\": {\"from_node_id\": \"17\", \"to_node_id\": \"18\", \"b1\": null, \"b2\": null}, \"14\": {\"from_node_id\": \"19\", \"to_node_id\": \"18\", \"b1\": null, \"b2\": null}, \"15\": {\"from_node_id\": \"14\", \"to_node_id\": \"17\", \"b1\": null, \"b2\": null}, \"16\": {\"from_node_id\": \"8\", \"to_node_id\": \"17\", \"b1\": null, \"b2\": null}, \"17\": {\"from_node_id\": \"15\", \"to_node_id\": \"19\", \"b1\": null, \"b2\": null}, \"18\": {\"from_node_id\": \"16\", \"to_node_id\": \"19\", \"b1\": null, \"b2\": null}}, \"metabolites\": [{\"bigg_id\": \"CPD_15815_c\", \"coefficient\": -1.0}, {\"bigg_id\": \"D_6_P_GLUCONO_DELTA_LACTONE_c\", \"coefficient\": -1.0}, {\"bigg_id\": \"CPD_2961_c\", \"coefficient\": 1.0}, {\"bigg_id\": \"PROTON_c\", \"coefficient\": 1.0}]}, \"3\": {\"name\": \"GND\", \"bigg_id\": \"GND\", \"reversibility\": true, \"label_x\": 265.0, \"label_y\": 2275.0, \"gene_reaction_rule\": \"\", \"genes\": [], \"segments\": {\"19\": {\"from_node_id\": \"24\", \"to_node_id\": \"25\", \"b1\": null, \"b2\": null}, \"20\": {\"from_node_id\": \"26\", \"to_node_id\": \"25\", \"b1\": null, \"b2\": null}, \"21\": {\"from_node_id\": \"15\", \"to_node_id\": \"24\", \"b1\": null, \"b2\": null}, \"22\": {\"from_node_id\": \"20\", \"to_node_id\": \"24\", \"b1\": null, \"b2\": null}, \"23\": {\"from_node_id\": \"21\", \"to_node_id\": \"26\", \"b1\": null, \"b2\": null}, \"24\": {\"from_node_id\": \"22\", \"to_node_id\": \"26\", \"b1\": null, \"b2\": null}, \"25\": {\"from_node_id\": \"23\", \"to_node_id\": \"26\", \"b1\": null, \"b2\": null}}, \"metabolites\": [{\"bigg_id\": \"CPD_2961_c\", \"coefficient\": -1.0}, {\"bigg_id\": \"NADP_c\", \"coefficient\": -1.0}, {\"bigg_id\": \"CARBON_DIOXIDE_c\", \"coefficient\": 1.0}, {\"bigg_id\": \"NADPH_c\", \"coefficient\": 1.0}, {\"bigg_id\": \"RIBULOSE_5P_c\", \"coefficient\": 1.0}]}}, \"nodes\": {\"0\": {\"node_type\": \"metabolite\", \"x\": 150.0, \"y\": 30.0, \"label_x\": 160.0, \"label_y\": 20.0, \"bigg_id\": \"Glucopyranose_e\", \"name\": \"Glucopyranose_e\", \"node_is_primary\": false}, \"1\": {\"node_type\": \"metabolite\", \"x\": 300.0, \"y\": 30.0, \"label_x\": 310.0, \"label_y\": 20.0, \"bigg_id\": \"PHOSPHO_ENOL_PYRUVATE_c\", \"name\": \"PHOSPHO_ENOL_PYRUVATE_c\", \"node_is_primary\": false}, \"2\": {\"node_type\": \"metabolite\", \"x\": 150.0, \"y\": 550.0, \"label_x\": 160.0, \"label_y\": 580.0, \"bigg_id\": \"D_glucopyranose_6_phosphate_c\", \"name\": \"D_glucopyranose_6_phosphate_c\", \"node_is_primary\": false}, \"3\": {\"node_type\": \"metabolite\", \"x\": 300.0, \"y\": 550.0, \"label_x\": 310.0, \"label_y\": 580.0, \"bigg_id\": \"PYRUVATE_c\", \"name\": \"PYRUVATE_c\", \"node_is_primary\": false}, \"4\": {\"node_type\": \"multimarker\", \"x\": 225.0, \"y\": 305.0}, \"5\": {\"node_type\": \"midmarker\", \"x\": 225.0, \"y\": 325.0}, \"6\": {\"node_type\": \"multimarker\", \"x\": 225.0, \"y\": 345.0}, \"7\": {\"node_type\": \"metabolite\", \"x\": 300.0, \"y\": 680.0, \"label_x\": 310.0, \"label_y\": 670.0, \"bigg_id\": \"NADP_c\", \"name\": \"NADP_c\", \"node_is_primary\": false}, \"8\": {\"node_type\": \"metabolite\", \"x\": 112.5, \"y\": 1200.0, \"label_x\": 122.5, \"label_y\": 1230.0, \"bigg_id\": \"D_6_P_GLUCONO_DELTA_LACTONE_c\", \"name\": \"D_6_P_GLUCONO_DELTA_LACTONE_c\", \"node_is_primary\": false}, \"9\": {\"node_type\": \"metabolite\", \"x\": 225.0, \"y\": 1200.0, \"label_x\": 235.0, \"label_y\": 1230.0, \"bigg_id\": \"NADPH_c\", \"name\": \"NADPH_c\", \"node_is_primary\": false}, \"10\": {\"node_type\": \"metabolite\", \"x\": 337.5, \"y\": 1200.0, \"label_x\": 347.5, \"label_y\": 1230.0, \"bigg_id\": \"PROTON_c\", \"name\": \"PROTON_c\", \"node_is_primary\": false}, \"11\": {\"node_type\": \"multimarker\", \"x\": 225.0, \"y\": 955.0}, \"12\": {\"node_type\": \"midmarker\", \"x\": 225.0, \"y\": 975.0}, \"13\": {\"node_type\": \"multimarker\", \"x\": 225.0, \"y\": 995.0}, \"14\": {\"node_type\": \"metabolite\", \"x\": 150.0, \"y\": 1330.0, \"label_x\": 160.0, \"label_y\": 1320.0, \"bigg_id\": \"CPD_15815_c\", \"name\": \"CPD_15815_c\", \"node_is_primary\": false}, \"15\": {\"node_type\": \"metabolite\", \"x\": 150.0, \"y\": 1850.0, \"label_x\": 160.0, \"label_y\": 1880.0, \"bigg_id\": \"CPD_2961_c\", \"name\": \"CPD_2961_c\", \"node_is_primary\": false}, \"16\": {\"node_type\": \"metabolite\", \"x\": 300.0, \"y\": 1850.0, \"label_x\": 310.0, \"label_y\": 1880.0, \"bigg_id\": \"PROTON_c\", \"name\": \"PROTON_c\", \"node_is_primary\": false}, \"17\": {\"node_type\": \"multimarker\", \"x\": 225.0, \"y\": 1605.0}, \"18\": {\"node_type\": \"midmarker\", \"x\": 225.0, \"y\": 1625.0}, \"19\": {\"node_type\": \"multimarker\", \"x\": 225.0, \"y\": 1645.0}, \"20\": {\"node_type\": \"metabolite\", \"x\": 300.0, \"y\": 1980.0, \"label_x\": 310.0, \"label_y\": 1970.0, \"bigg_id\": \"NADP_c\", \"name\": \"NADP_c\", \"node_is_primary\": false}, \"21\": {\"node_type\": \"metabolite\", \"x\": 112.5, \"y\": 2500.0, \"label_x\": 122.5, \"label_y\": 2530.0, \"bigg_id\": \"CARBON_DIOXIDE_c\", \"name\": \"CARBON_DIOXIDE_c\", \"node_is_primary\": false}, \"22\": {\"node_type\": \"metabolite\", \"x\": 225.0, \"y\": 2500.0, \"label_x\": 235.0, \"label_y\": 2530.0, \"bigg_id\": \"NADPH_c\", \"name\": \"NADPH_c\", \"node_is_primary\": false}, \"23\": {\"node_type\": \"metabolite\", \"x\": 337.5, \"y\": 2500.0, \"label_x\": 347.5, \"label_y\": 2530.0, \"bigg_id\": \"RIBULOSE_5P_c\", \"name\": \"RIBULOSE_5P_c\", \"node_is_primary\": false}, \"24\": {\"node_type\": \"multimarker\", \"x\": 225.0, \"y\": 2255.0}, \"25\": {\"node_type\": \"midmarker\", \"x\": 225.0, \"y\": 2275.0}, \"26\": {\"node_type\": \"multimarker\", \"x\": 225.0, \"y\": 2295.0}}, \"text_labels\": {}, \"canvas\": {\"x\": 0, \"y\": 0, \"width\": 450, \"height\": 2600}}]",
       "_loaded_model_json": null,
       "allow_building_duplicate_reactions": false,
       "and_method_in_gene_reaction_rule": "mean",
       "canvas_size_and_loc": null,
       "cofactors": [
        "atp",
        "adp",
        "nad",
        "nadh",
        "nadp",
        "nadph",
        "gtp",
        "gdp",
        "h",
        "coa",
        "ump",
        "h2o",
        "ppi"
       ],
       "disabled_buttons": [
        "Clear gene data",
        "Clear metabolite data"
       ],
       "embedded_css": null,
       "enable_editing": true,
       "enable_keys": false,
       "enable_keys_with_tooltip": true,
       "enable_search": true,
       "enable_tooltips": false,
       "full_screen_button": {
        "enable_editing": true,
        "enable_keys": true,
        "enable_tooltips": [
         "label"
        ],
        "menu": "all",
        "scroll_behavior": "pan"
       },
       "gene_data": null,
       "gene_font_size": 18,
       "height": 500,
       "hide_all_labels": false,
       "hide_secondary_metabolites": false,
       "highlight_missing": false,
       "identifiers_on_map": "bigg_id",
       "layout": "IPY_MODEL_b2c7b097f06a4f54a202998f70dbc6ad",
       "marker_radius": 5,
       "menu": "all",
       "metabolite_compare_style": "log2_fold",
       "metabolite_data": null,
       "metabolite_no_data_color": "#ffffff",
       "metabolite_no_data_size": 10,
       "metabolite_scale": [
        {
         "color": "#fffaf0",
         "size": 20,
         "type": "min"
        },
        {
         "color": "#f1c470",
         "size": 30,
         "type": "median"
        },
        {
         "color": "#800000",
         "size": 40,
         "type": "max"
        }
       ],
       "metabolite_scale_preset": "WhYlRd",
       "metabolite_styles": [
        "color",
        "size",
        "text"
       ],
       "never_ask_before_quit": true,
       "primary_metabolite_radius": 20,
       "reaction_compare_style": "log2_fold",
       "reaction_data": {
        "G6PDH2r": -2,
        "GLCpts": -2,
        "GND": 1,
        "PGL": 0.4
       },
       "reaction_no_data_color": "#dcdcdc",
       "reaction_no_data_size": 8,
       "reaction_scale": [
        {
         "color": "rgb(146,189,146)",
         "type": "value",
         "value": 3.3333333333333335
        },
        {
         "color": "rgb(73,158,73)",
         "type": "value",
         "value": 6.666666666666666
        },
        {
         "color": "rgb(0,127,0)",
         "type": "value",
         "value": 10
        },
        {
         "color": "rgb(220,220,220)",
         "type": "value",
         "value": 0
        },
        {
         "color": "rgb(231,146,146)",
         "type": "value",
         "value": -3.3333333333333335
        },
        {
         "color": "rgb(243,73,73)",
         "type": "value",
         "value": -6.666666666666666
        },
        {
         "color": "rgb(255,0,0)",
         "type": "value",
         "value": -10
        }
       ],
       "reaction_scale_preset": null,
       "reaction_styles": [
        "color",
        "text"
       ],
       "scroll_behavior": "none",
       "secondary_metabolite_radius": 10,
       "semantic_zoom": null,
       "show_gene_reaction_rules": false,
       "starting_reaction": null,
       "use_3d_transform": false,
       "zoom_to_element": null
      }
     },
     "ce14c5f5d11a4a5ebd9b275b5a521e64": {
      "model_module": "@jupyter-widgets/base",
      "model_module_version": "1.2.0",
      "model_name": "LayoutModel",
      "state": {}
     },
     "ce7d1b3bfa77428d87fa043f7754919d": {
      "model_module": "escher",
      "model_module_version": "1.7.3",
      "model_name": "EscherMapModel",
      "state": {
       "_loaded_map_json": "[{\"map_name\": \"\", \"map_id\": \"\", \"map_description\": \"\", \"homepage\": \"\", \"schema\": \"https://escher.github.io/escher/jsonschema/1-0-0#\"}, {\"reactions\": {\"0\": {\"name\": \"GLCpts\", \"bigg_id\": \"GLCpts\", \"reversibility\": true, \"label_x\": 265.0, \"label_y\": 325.0, \"gene_reaction_rule\": \"\", \"genes\": [], \"segments\": {\"0\": {\"from_node_id\": \"4\", \"to_node_id\": \"5\", \"b1\": null, \"b2\": null}, \"1\": {\"from_node_id\": \"6\", \"to_node_id\": \"5\", \"b1\": null, \"b2\": null}, \"2\": {\"from_node_id\": \"0\", \"to_node_id\": \"4\", \"b1\": null, \"b2\": null}, \"3\": {\"from_node_id\": \"1\", \"to_node_id\": \"4\", \"b1\": null, \"b2\": null}, \"4\": {\"from_node_id\": \"2\", \"to_node_id\": \"6\", \"b1\": null, \"b2\": null}, \"5\": {\"from_node_id\": \"3\", \"to_node_id\": \"6\", \"b1\": null, \"b2\": null}}, \"metabolites\": [{\"bigg_id\": \"Glucopyranose_e\", \"coefficient\": -1.0}, {\"bigg_id\": \"PHOSPHO_ENOL_PYRUVATE_c\", \"coefficient\": -1.0}, {\"bigg_id\": \"D_glucopyranose_6_phosphate_c\", \"coefficient\": 1.0}, {\"bigg_id\": \"PYRUVATE_c\", \"coefficient\": 1.0}]}, \"1\": {\"name\": \"G6PDH2r\", \"bigg_id\": \"G6PDH2r\", \"reversibility\": true, \"label_x\": 265.0, \"label_y\": 975.0, \"gene_reaction_rule\": \"\", \"genes\": [], \"segments\": {\"6\": {\"from_node_id\": \"11\", \"to_node_id\": \"12\", \"b1\": null, \"b2\": null}, \"7\": {\"from_node_id\": \"13\", \"to_node_id\": \"12\", \"b1\": null, \"b2\": null}, \"8\": {\"from_node_id\": \"2\", \"to_node_id\": \"11\", \"b1\": null, \"b2\": null}, \"9\": {\"from_node_id\": \"7\", \"to_node_id\": \"11\", \"b1\": null, \"b2\": null}, \"10\": {\"from_node_id\": \"8\", \"to_node_id\": \"13\", \"b1\": null, \"b2\": null}, \"11\": {\"from_node_id\": \"9\", \"to_node_id\": \"13\", \"b1\": null, \"b2\": null}, \"12\": {\"from_node_id\": \"10\", \"to_node_id\": \"13\", \"b1\": null, \"b2\": null}}, \"metabolites\": [{\"bigg_id\": \"D_glucopyranose_6_phosphate_c\", \"coefficient\": -1.0}, {\"bigg_id\": \"NADP_c\", \"coefficient\": -1.0}, {\"bigg_id\": \"D_6_P_GLUCONO_DELTA_LACTONE_c\", \"coefficient\": 1.0}, {\"bigg_id\": \"NADPH_c\", \"coefficient\": 1.0}, {\"bigg_id\": \"PROTON_c\", \"coefficient\": 1.0}]}, \"2\": {\"name\": \"PGL\", \"bigg_id\": \"PGL\", \"reversibility\": true, \"label_x\": 265.0, \"label_y\": 1625.0, \"gene_reaction_rule\": \"\", \"genes\": [], \"segments\": {\"13\": {\"from_node_id\": \"17\", \"to_node_id\": \"18\", \"b1\": null, \"b2\": null}, \"14\": {\"from_node_id\": \"19\", \"to_node_id\": \"18\", \"b1\": null, \"b2\": null}, \"15\": {\"from_node_id\": \"14\", \"to_node_id\": \"17\", \"b1\": null, \"b2\": null}, \"16\": {\"from_node_id\": \"8\", \"to_node_id\": \"17\", \"b1\": null, \"b2\": null}, \"17\": {\"from_node_id\": \"15\", \"to_node_id\": \"19\", \"b1\": null, \"b2\": null}, \"18\": {\"from_node_id\": \"16\", \"to_node_id\": \"19\", \"b1\": null, \"b2\": null}}, \"metabolites\": [{\"bigg_id\": \"CPD_15815_c\", \"coefficient\": -1.0}, {\"bigg_id\": \"D_6_P_GLUCONO_DELTA_LACTONE_c\", \"coefficient\": -1.0}, {\"bigg_id\": \"CPD_2961_c\", \"coefficient\": 1.0}, {\"bigg_id\": \"PROTON_c\", \"coefficient\": 1.0}]}, \"3\": {\"name\": \"GND\", \"bigg_id\": \"GND\", \"reversibility\": true, \"label_x\": 265.0, \"label_y\": 2275.0, \"gene_reaction_rule\": \"\", \"genes\": [], \"segments\": {\"19\": {\"from_node_id\": \"24\", \"to_node_id\": \"25\", \"b1\": null, \"b2\": null}, \"20\": {\"from_node_id\": \"26\", \"to_node_id\": \"25\", \"b1\": null, \"b2\": null}, \"21\": {\"from_node_id\": \"15\", \"to_node_id\": \"24\", \"b1\": null, \"b2\": null}, \"22\": {\"from_node_id\": \"20\", \"to_node_id\": \"24\", \"b1\": null, \"b2\": null}, \"23\": {\"from_node_id\": \"21\", \"to_node_id\": \"26\", \"b1\": null, \"b2\": null}, \"24\": {\"from_node_id\": \"22\", \"to_node_id\": \"26\", \"b1\": null, \"b2\": null}, \"25\": {\"from_node_id\": \"23\", \"to_node_id\": \"26\", \"b1\": null, \"b2\": null}}, \"metabolites\": [{\"bigg_id\": \"CPD_2961_c\", \"coefficient\": -1.0}, {\"bigg_id\": \"NADP_c\", \"coefficient\": -1.0}, {\"bigg_id\": \"CARBON_DIOXIDE_c\", \"coefficient\": 1.0}, {\"bigg_id\": \"NADPH_c\", \"coefficient\": 1.0}, {\"bigg_id\": \"RIBULOSE_5P_c\", \"coefficient\": 1.0}]}}, \"nodes\": {\"0\": {\"node_type\": \"metabolite\", \"x\": 150.0, \"y\": 30.0, \"label_x\": 160.0, \"label_y\": 20.0, \"bigg_id\": \"Glucopyranose_e\", \"name\": \"Glucopyranose_e\", \"node_is_primary\": false}, \"1\": {\"node_type\": \"metabolite\", \"x\": 300.0, \"y\": 30.0, \"label_x\": 310.0, \"label_y\": 20.0, \"bigg_id\": \"PHOSPHO_ENOL_PYRUVATE_c\", \"name\": \"PHOSPHO_ENOL_PYRUVATE_c\", \"node_is_primary\": false}, \"2\": {\"node_type\": \"metabolite\", \"x\": 150.0, \"y\": 550.0, \"label_x\": 160.0, \"label_y\": 580.0, \"bigg_id\": \"D_glucopyranose_6_phosphate_c\", \"name\": \"D_glucopyranose_6_phosphate_c\", \"node_is_primary\": false}, \"3\": {\"node_type\": \"metabolite\", \"x\": 300.0, \"y\": 550.0, \"label_x\": 310.0, \"label_y\": 580.0, \"bigg_id\": \"PYRUVATE_c\", \"name\": \"PYRUVATE_c\", \"node_is_primary\": false}, \"4\": {\"node_type\": \"multimarker\", \"x\": 225.0, \"y\": 305.0}, \"5\": {\"node_type\": \"midmarker\", \"x\": 225.0, \"y\": 325.0}, \"6\": {\"node_type\": \"multimarker\", \"x\": 225.0, \"y\": 345.0}, \"7\": {\"node_type\": \"metabolite\", \"x\": 300.0, \"y\": 680.0, \"label_x\": 310.0, \"label_y\": 670.0, \"bigg_id\": \"NADP_c\", \"name\": \"NADP_c\", \"node_is_primary\": false}, \"8\": {\"node_type\": \"metabolite\", \"x\": 112.5, \"y\": 1200.0, \"label_x\": 122.5, \"label_y\": 1230.0, \"bigg_id\": \"D_6_P_GLUCONO_DELTA_LACTONE_c\", \"name\": \"D_6_P_GLUCONO_DELTA_LACTONE_c\", \"node_is_primary\": false}, \"9\": {\"node_type\": \"metabolite\", \"x\": 225.0, \"y\": 1200.0, \"label_x\": 235.0, \"label_y\": 1230.0, \"bigg_id\": \"NADPH_c\", \"name\": \"NADPH_c\", \"node_is_primary\": false}, \"10\": {\"node_type\": \"metabolite\", \"x\": 337.5, \"y\": 1200.0, \"label_x\": 347.5, \"label_y\": 1230.0, \"bigg_id\": \"PROTON_c\", \"name\": \"PROTON_c\", \"node_is_primary\": false}, \"11\": {\"node_type\": \"multimarker\", \"x\": 225.0, \"y\": 955.0}, \"12\": {\"node_type\": \"midmarker\", \"x\": 225.0, \"y\": 975.0}, \"13\": {\"node_type\": \"multimarker\", \"x\": 225.0, \"y\": 995.0}, \"14\": {\"node_type\": \"metabolite\", \"x\": 150.0, \"y\": 1330.0, \"label_x\": 160.0, \"label_y\": 1320.0, \"bigg_id\": \"CPD_15815_c\", \"name\": \"CPD_15815_c\", \"node_is_primary\": false}, \"15\": {\"node_type\": \"metabolite\", \"x\": 150.0, \"y\": 1850.0, \"label_x\": 160.0, \"label_y\": 1880.0, \"bigg_id\": \"CPD_2961_c\", \"name\": \"CPD_2961_c\", \"node_is_primary\": false}, \"16\": {\"node_type\": \"metabolite\", \"x\": 300.0, \"y\": 1850.0, \"label_x\": 310.0, \"label_y\": 1880.0, \"bigg_id\": \"PROTON_c\", \"name\": \"PROTON_c\", \"node_is_primary\": false}, \"17\": {\"node_type\": \"multimarker\", \"x\": 225.0, \"y\": 1605.0}, \"18\": {\"node_type\": \"midmarker\", \"x\": 225.0, \"y\": 1625.0}, \"19\": {\"node_type\": \"multimarker\", \"x\": 225.0, \"y\": 1645.0}, \"20\": {\"node_type\": \"metabolite\", \"x\": 300.0, \"y\": 1980.0, \"label_x\": 310.0, \"label_y\": 1970.0, \"bigg_id\": \"NADP_c\", \"name\": \"NADP_c\", \"node_is_primary\": false}, \"21\": {\"node_type\": \"metabolite\", \"x\": 112.5, \"y\": 2500.0, \"label_x\": 122.5, \"label_y\": 2530.0, \"bigg_id\": \"CARBON_DIOXIDE_c\", \"name\": \"CARBON_DIOXIDE_c\", \"node_is_primary\": false}, \"22\": {\"node_type\": \"metabolite\", \"x\": 225.0, \"y\": 2500.0, \"label_x\": 235.0, \"label_y\": 2530.0, \"bigg_id\": \"NADPH_c\", \"name\": \"NADPH_c\", \"node_is_primary\": false}, \"23\": {\"node_type\": \"metabolite\", \"x\": 337.5, \"y\": 2500.0, \"label_x\": 347.5, \"label_y\": 2530.0, \"bigg_id\": \"RIBULOSE_5P_c\", \"name\": \"RIBULOSE_5P_c\", \"node_is_primary\": false}, \"24\": {\"node_type\": \"multimarker\", \"x\": 225.0, \"y\": 2255.0}, \"25\": {\"node_type\": \"midmarker\", \"x\": 225.0, \"y\": 2275.0}, \"26\": {\"node_type\": \"multimarker\", \"x\": 225.0, \"y\": 2295.0}}, \"text_labels\": {}, \"canvas\": {\"x\": 0, \"y\": 0, \"width\": 450, \"height\": 2600}}]",
       "_loaded_model_json": null,
       "allow_building_duplicate_reactions": false,
       "and_method_in_gene_reaction_rule": "mean",
       "canvas_size_and_loc": null,
       "cofactors": [
        "atp",
        "adp",
        "nad",
        "nadh",
        "nadp",
        "nadph",
        "gtp",
        "gdp",
        "h",
        "coa",
        "ump",
        "h2o",
        "ppi"
       ],
       "disabled_buttons": [
        "Clear gene data",
        "Clear metabolite data"
       ],
       "embedded_css": null,
       "enable_editing": true,
       "enable_keys": false,
       "enable_keys_with_tooltip": true,
       "enable_search": true,
       "enable_tooltips": false,
       "full_screen_button": {
        "enable_editing": true,
        "enable_keys": true,
        "enable_tooltips": [
         "label"
        ],
        "menu": "all",
        "scroll_behavior": "pan"
       },
       "gene_data": null,
       "gene_font_size": 18,
       "height": 500,
       "hide_all_labels": false,
       "hide_secondary_metabolites": false,
       "highlight_missing": false,
       "identifiers_on_map": "bigg_id",
       "layout": "IPY_MODEL_d0455d7de1d74cdda1ea8b6b5086451c",
       "marker_radius": 5,
       "menu": "all",
       "metabolite_compare_style": "log2_fold",
       "metabolite_data": null,
       "metabolite_no_data_color": "#ffffff",
       "metabolite_no_data_size": 10,
       "metabolite_scale": [
        {
         "color": "#fffaf0",
         "size": 20,
         "type": "min"
        },
        {
         "color": "#f1c470",
         "size": 30,
         "type": "median"
        },
        {
         "color": "#800000",
         "size": 40,
         "type": "max"
        }
       ],
       "metabolite_scale_preset": "WhYlRd",
       "metabolite_styles": [
        "color",
        "size",
        "text"
       ],
       "never_ask_before_quit": true,
       "primary_metabolite_radius": 20,
       "reaction_compare_style": "log2_fold",
       "reaction_data": {
        "G6PDH2r": -2,
        "GLCpts": -2,
        "GND": 1,
        "PGL": 0.4
       },
       "reaction_no_data_color": "#dcdcdc",
       "reaction_no_data_size": 8,
       "reaction_scale": [
        {
         "color": "rgb(146,189,146)",
         "type": "value",
         "value": 3.3333333333333335
        },
        {
         "color": "rgb(73,158,73)",
         "type": "value",
         "value": 6.666666666666666
        },
        {
         "color": "rgb(0,127,0)",
         "type": "value",
         "value": 10
        },
        {
         "color": "rgb(220,220,220)",
         "type": "value",
         "value": 0
        },
        {
         "color": "rgb(231,146,146)",
         "type": "value",
         "value": -3.3333333333333335
        },
        {
         "color": "rgb(243,73,73)",
         "type": "value",
         "value": -6.666666666666666
        },
        {
         "color": "rgb(255,0,0)",
         "type": "value",
         "value": -10
        }
       ],
       "reaction_scale_preset": null,
       "reaction_styles": [
        "color",
        "text"
       ],
       "scroll_behavior": "none",
       "secondary_metabolite_radius": 10,
       "semantic_zoom": null,
       "show_gene_reaction_rules": false,
       "starting_reaction": null,
       "use_3d_transform": false,
       "zoom_to_element": null
      }
     },
     "cf8dc8cbfb244db7bb6cc81cd405be7c": {
      "model_module": "escher",
      "model_module_version": "1.7.3",
      "model_name": "EscherMapModel",
      "state": {
       "_loaded_map_json": "[{\"map_name\": \"\", \"map_id\": \"\", \"map_description\": \"\", \"homepage\": \"\", \"schema\": \"https://escher.github.io/escher/jsonschema/1-0-0#\"}, {\"reactions\": {\"0\": {\"name\": \"GLCpts\", \"bigg_id\": \"GLCpts\", \"reversibility\": true, \"label_x\": 265.0, \"label_y\": 325.0, \"gene_reaction_rule\": \"\", \"genes\": [], \"segments\": {\"0\": {\"from_node_id\": \"4\", \"to_node_id\": \"5\", \"b1\": null, \"b2\": null}, \"1\": {\"from_node_id\": \"6\", \"to_node_id\": \"5\", \"b1\": null, \"b2\": null}, \"2\": {\"from_node_id\": \"0\", \"to_node_id\": \"4\", \"b1\": null, \"b2\": null}, \"3\": {\"from_node_id\": \"1\", \"to_node_id\": \"4\", \"b1\": null, \"b2\": null}, \"4\": {\"from_node_id\": \"2\", \"to_node_id\": \"6\", \"b1\": null, \"b2\": null}, \"5\": {\"from_node_id\": \"3\", \"to_node_id\": \"6\", \"b1\": null, \"b2\": null}}, \"metabolites\": [{\"bigg_id\": \"Glucopyranose_e\", \"coefficient\": -1.0}, {\"bigg_id\": \"PHOSPHO_ENOL_PYRUVATE_c\", \"coefficient\": -1.0}, {\"bigg_id\": \"D_glucopyranose_6_phosphate_c\", \"coefficient\": 1.0}, {\"bigg_id\": \"PYRUVATE_c\", \"coefficient\": 1.0}]}, \"1\": {\"name\": \"G6PDH2r\", \"bigg_id\": \"G6PDH2r\", \"reversibility\": true, \"label_x\": 265.0, \"label_y\": 975.0, \"gene_reaction_rule\": \"\", \"genes\": [], \"segments\": {\"6\": {\"from_node_id\": \"11\", \"to_node_id\": \"12\", \"b1\": null, \"b2\": null}, \"7\": {\"from_node_id\": \"13\", \"to_node_id\": \"12\", \"b1\": null, \"b2\": null}, \"8\": {\"from_node_id\": \"2\", \"to_node_id\": \"11\", \"b1\": null, \"b2\": null}, \"9\": {\"from_node_id\": \"7\", \"to_node_id\": \"11\", \"b1\": null, \"b2\": null}, \"10\": {\"from_node_id\": \"8\", \"to_node_id\": \"13\", \"b1\": null, \"b2\": null}, \"11\": {\"from_node_id\": \"9\", \"to_node_id\": \"13\", \"b1\": null, \"b2\": null}, \"12\": {\"from_node_id\": \"10\", \"to_node_id\": \"13\", \"b1\": null, \"b2\": null}}, \"metabolites\": [{\"bigg_id\": \"D_glucopyranose_6_phosphate_c\", \"coefficient\": -1.0}, {\"bigg_id\": \"NADP_c\", \"coefficient\": -1.0}, {\"bigg_id\": \"D_6_P_GLUCONO_DELTA_LACTONE_c\", \"coefficient\": 1.0}, {\"bigg_id\": \"NADPH_c\", \"coefficient\": 1.0}, {\"bigg_id\": \"PROTON_c\", \"coefficient\": 1.0}]}, \"2\": {\"name\": \"PGL\", \"bigg_id\": \"PGL\", \"reversibility\": true, \"label_x\": 265.0, \"label_y\": 1625.0, \"gene_reaction_rule\": \"\", \"genes\": [], \"segments\": {\"13\": {\"from_node_id\": \"17\", \"to_node_id\": \"18\", \"b1\": null, \"b2\": null}, \"14\": {\"from_node_id\": \"19\", \"to_node_id\": \"18\", \"b1\": null, \"b2\": null}, \"15\": {\"from_node_id\": \"14\", \"to_node_id\": \"17\", \"b1\": null, \"b2\": null}, \"16\": {\"from_node_id\": \"8\", \"to_node_id\": \"17\", \"b1\": null, \"b2\": null}, \"17\": {\"from_node_id\": \"15\", \"to_node_id\": \"19\", \"b1\": null, \"b2\": null}, \"18\": {\"from_node_id\": \"16\", \"to_node_id\": \"19\", \"b1\": null, \"b2\": null}}, \"metabolites\": [{\"bigg_id\": \"CPD_15815_c\", \"coefficient\": -1.0}, {\"bigg_id\": \"D_6_P_GLUCONO_DELTA_LACTONE_c\", \"coefficient\": -1.0}, {\"bigg_id\": \"CPD_2961_c\", \"coefficient\": 1.0}, {\"bigg_id\": \"PROTON_c\", \"coefficient\": 1.0}]}, \"3\": {\"name\": \"GND\", \"bigg_id\": \"GND\", \"reversibility\": true, \"label_x\": 265.0, \"label_y\": 2275.0, \"gene_reaction_rule\": \"\", \"genes\": [], \"segments\": {\"19\": {\"from_node_id\": \"24\", \"to_node_id\": \"25\", \"b1\": null, \"b2\": null}, \"20\": {\"from_node_id\": \"26\", \"to_node_id\": \"25\", \"b1\": null, \"b2\": null}, \"21\": {\"from_node_id\": \"15\", \"to_node_id\": \"24\", \"b1\": null, \"b2\": null}, \"22\": {\"from_node_id\": \"20\", \"to_node_id\": \"24\", \"b1\": null, \"b2\": null}, \"23\": {\"from_node_id\": \"21\", \"to_node_id\": \"26\", \"b1\": null, \"b2\": null}, \"24\": {\"from_node_id\": \"22\", \"to_node_id\": \"26\", \"b1\": null, \"b2\": null}, \"25\": {\"from_node_id\": \"23\", \"to_node_id\": \"26\", \"b1\": null, \"b2\": null}}, \"metabolites\": [{\"bigg_id\": \"CPD_2961_c\", \"coefficient\": -1.0}, {\"bigg_id\": \"NADP_c\", \"coefficient\": -1.0}, {\"bigg_id\": \"CARBON_DIOXIDE_c\", \"coefficient\": 1.0}, {\"bigg_id\": \"NADPH_c\", \"coefficient\": 1.0}, {\"bigg_id\": \"RIBULOSE_5P_c\", \"coefficient\": 1.0}]}}, \"nodes\": {\"0\": {\"node_type\": \"metabolite\", \"x\": 150.0, \"y\": 30.0, \"label_x\": 160.0, \"label_y\": 20.0, \"bigg_id\": \"Glucopyranose_e\", \"name\": \"Glucopyranose_e\", \"node_is_primary\": false}, \"1\": {\"node_type\": \"metabolite\", \"x\": 300.0, \"y\": 30.0, \"label_x\": 310.0, \"label_y\": 20.0, \"bigg_id\": \"PHOSPHO_ENOL_PYRUVATE_c\", \"name\": \"PHOSPHO_ENOL_PYRUVATE_c\", \"node_is_primary\": false}, \"2\": {\"node_type\": \"metabolite\", \"x\": 150.0, \"y\": 550.0, \"label_x\": 160.0, \"label_y\": 580.0, \"bigg_id\": \"D_glucopyranose_6_phosphate_c\", \"name\": \"D_glucopyranose_6_phosphate_c\", \"node_is_primary\": false}, \"3\": {\"node_type\": \"metabolite\", \"x\": 300.0, \"y\": 550.0, \"label_x\": 310.0, \"label_y\": 580.0, \"bigg_id\": \"PYRUVATE_c\", \"name\": \"PYRUVATE_c\", \"node_is_primary\": false}, \"4\": {\"node_type\": \"multimarker\", \"x\": 225.0, \"y\": 305.0}, \"5\": {\"node_type\": \"midmarker\", \"x\": 225.0, \"y\": 325.0}, \"6\": {\"node_type\": \"multimarker\", \"x\": 225.0, \"y\": 345.0}, \"7\": {\"node_type\": \"metabolite\", \"x\": 300.0, \"y\": 680.0, \"label_x\": 310.0, \"label_y\": 670.0, \"bigg_id\": \"NADP_c\", \"name\": \"NADP_c\", \"node_is_primary\": false}, \"8\": {\"node_type\": \"metabolite\", \"x\": 112.5, \"y\": 1200.0, \"label_x\": 122.5, \"label_y\": 1230.0, \"bigg_id\": \"D_6_P_GLUCONO_DELTA_LACTONE_c\", \"name\": \"D_6_P_GLUCONO_DELTA_LACTONE_c\", \"node_is_primary\": false}, \"9\": {\"node_type\": \"metabolite\", \"x\": 225.0, \"y\": 1200.0, \"label_x\": 235.0, \"label_y\": 1230.0, \"bigg_id\": \"NADPH_c\", \"name\": \"NADPH_c\", \"node_is_primary\": false}, \"10\": {\"node_type\": \"metabolite\", \"x\": 337.5, \"y\": 1200.0, \"label_x\": 347.5, \"label_y\": 1230.0, \"bigg_id\": \"PROTON_c\", \"name\": \"PROTON_c\", \"node_is_primary\": false}, \"11\": {\"node_type\": \"multimarker\", \"x\": 225.0, \"y\": 955.0}, \"12\": {\"node_type\": \"midmarker\", \"x\": 225.0, \"y\": 975.0}, \"13\": {\"node_type\": \"multimarker\", \"x\": 225.0, \"y\": 995.0}, \"14\": {\"node_type\": \"metabolite\", \"x\": 150.0, \"y\": 1330.0, \"label_x\": 160.0, \"label_y\": 1320.0, \"bigg_id\": \"CPD_15815_c\", \"name\": \"CPD_15815_c\", \"node_is_primary\": false}, \"15\": {\"node_type\": \"metabolite\", \"x\": 150.0, \"y\": 1850.0, \"label_x\": 160.0, \"label_y\": 1880.0, \"bigg_id\": \"CPD_2961_c\", \"name\": \"CPD_2961_c\", \"node_is_primary\": false}, \"16\": {\"node_type\": \"metabolite\", \"x\": 300.0, \"y\": 1850.0, \"label_x\": 310.0, \"label_y\": 1880.0, \"bigg_id\": \"PROTON_c\", \"name\": \"PROTON_c\", \"node_is_primary\": false}, \"17\": {\"node_type\": \"multimarker\", \"x\": 225.0, \"y\": 1605.0}, \"18\": {\"node_type\": \"midmarker\", \"x\": 225.0, \"y\": 1625.0}, \"19\": {\"node_type\": \"multimarker\", \"x\": 225.0, \"y\": 1645.0}, \"20\": {\"node_type\": \"metabolite\", \"x\": 300.0, \"y\": 1980.0, \"label_x\": 310.0, \"label_y\": 1970.0, \"bigg_id\": \"NADP_c\", \"name\": \"NADP_c\", \"node_is_primary\": false}, \"21\": {\"node_type\": \"metabolite\", \"x\": 112.5, \"y\": 2500.0, \"label_x\": 122.5, \"label_y\": 2530.0, \"bigg_id\": \"CARBON_DIOXIDE_c\", \"name\": \"CARBON_DIOXIDE_c\", \"node_is_primary\": false}, \"22\": {\"node_type\": \"metabolite\", \"x\": 225.0, \"y\": 2500.0, \"label_x\": 235.0, \"label_y\": 2530.0, \"bigg_id\": \"NADPH_c\", \"name\": \"NADPH_c\", \"node_is_primary\": false}, \"23\": {\"node_type\": \"metabolite\", \"x\": 337.5, \"y\": 2500.0, \"label_x\": 347.5, \"label_y\": 2530.0, \"bigg_id\": \"RIBULOSE_5P_c\", \"name\": \"RIBULOSE_5P_c\", \"node_is_primary\": false}, \"24\": {\"node_type\": \"multimarker\", \"x\": 225.0, \"y\": 2255.0}, \"25\": {\"node_type\": \"midmarker\", \"x\": 225.0, \"y\": 2275.0}, \"26\": {\"node_type\": \"multimarker\", \"x\": 225.0, \"y\": 2295.0}}, \"text_labels\": {}, \"canvas\": {\"x\": 0, \"y\": 0, \"width\": 450, \"height\": 2600}}]",
       "_loaded_model_json": null,
       "allow_building_duplicate_reactions": false,
       "and_method_in_gene_reaction_rule": "mean",
       "canvas_size_and_loc": null,
       "cofactors": [
        "atp",
        "adp",
        "nad",
        "nadh",
        "nadp",
        "nadph",
        "gtp",
        "gdp",
        "h",
        "coa",
        "ump",
        "h2o",
        "ppi"
       ],
       "disabled_buttons": [
        "Clear gene data",
        "Clear metabolite data"
       ],
       "embedded_css": null,
       "enable_editing": true,
       "enable_keys": false,
       "enable_keys_with_tooltip": true,
       "enable_search": true,
       "enable_tooltips": false,
       "full_screen_button": {
        "enable_editing": true,
        "enable_keys": true,
        "enable_tooltips": [
         "label"
        ],
        "menu": "all",
        "scroll_behavior": "pan"
       },
       "gene_data": null,
       "gene_font_size": 18,
       "height": 500,
       "hide_all_labels": false,
       "hide_secondary_metabolites": false,
       "highlight_missing": false,
       "identifiers_on_map": "bigg_id",
       "layout": "IPY_MODEL_c063a4af23ec4b258a8c083910dcb40b",
       "marker_radius": 5,
       "menu": "all",
       "metabolite_compare_style": "log2_fold",
       "metabolite_data": null,
       "metabolite_no_data_color": "#ffffff",
       "metabolite_no_data_size": 10,
       "metabolite_scale": [
        {
         "color": "#fffaf0",
         "size": 20,
         "type": "min"
        },
        {
         "color": "#f1c470",
         "size": 30,
         "type": "median"
        },
        {
         "color": "#800000",
         "size": 40,
         "type": "max"
        }
       ],
       "metabolite_scale_preset": "WhYlRd",
       "metabolite_styles": [
        "color",
        "size",
        "text"
       ],
       "never_ask_before_quit": true,
       "primary_metabolite_radius": 20,
       "reaction_compare_style": "log2_fold",
       "reaction_data": {
        "G6PDH2r": -2,
        "GLCpts": -2,
        "GND": 1,
        "Other": 1000,
        "PGL": 0.4
       },
       "reaction_no_data_color": "#dcdcdc",
       "reaction_no_data_size": 8,
       "reaction_scale": [
        {
         "color": "rgb(191,215,230)",
         "type": "value",
         "value": 333.3333333333333
        },
        {
         "color": "rgb(163,210,240)",
         "type": "value",
         "value": 666.6666666666667
        },
        {
         "color": "rgb(135,205,250)",
         "type": "value",
         "value": 1000
        },
        {
         "color": "rgb(220,220,220)",
         "type": "value",
         "value": 0
        },
        {
         "color": "rgb(237,192,110)",
         "type": "value",
         "value": -1
        },
        {
         "color": "rgb(255,165,0)",
         "type": "value",
         "value": -2
        }
       ],
       "reaction_scale_preset": null,
       "reaction_styles": [
        "color",
        "text"
       ],
       "scroll_behavior": "none",
       "secondary_metabolite_radius": 10,
       "semantic_zoom": null,
       "show_gene_reaction_rules": false,
       "starting_reaction": null,
       "use_3d_transform": false,
       "zoom_to_element": null
      }
     },
     "d0455d7de1d74cdda1ea8b6b5086451c": {
      "model_module": "@jupyter-widgets/base",
      "model_module_version": "1.2.0",
      "model_name": "LayoutModel",
      "state": {}
     },
     "d426d1690434406e962692ab3cd64eb8": {
      "model_module": "@jupyter-widgets/base",
      "model_module_version": "1.2.0",
      "model_name": "LayoutModel",
      "state": {}
     },
     "dd6c3d962eba46f797ca03536840a7c0": {
      "model_module": "escher",
      "model_module_version": "1.7.3",
      "model_name": "EscherMapModel",
      "state": {
       "_loaded_map_json": "[{\"map_name\": \"\", \"map_id\": \"\", \"map_description\": \"\", \"homepage\": \"\", \"schema\": \"https://escher.github.io/escher/jsonschema/1-0-0#\"}, {\"reactions\": {\"0\": {\"name\": \"GLCpts\", \"bigg_id\": \"GLCpts\", \"reversibility\": true, \"label_x\": 265.0, \"label_y\": 325.0, \"gene_reaction_rule\": \"\", \"genes\": [], \"segments\": {\"0\": {\"from_node_id\": \"4\", \"to_node_id\": \"5\", \"b1\": null, \"b2\": null}, \"1\": {\"from_node_id\": \"6\", \"to_node_id\": \"5\", \"b1\": null, \"b2\": null}, \"2\": {\"from_node_id\": \"0\", \"to_node_id\": \"4\", \"b1\": null, \"b2\": null}, \"3\": {\"from_node_id\": \"1\", \"to_node_id\": \"4\", \"b1\": null, \"b2\": null}, \"4\": {\"from_node_id\": \"2\", \"to_node_id\": \"6\", \"b1\": null, \"b2\": null}, \"5\": {\"from_node_id\": \"3\", \"to_node_id\": \"6\", \"b1\": null, \"b2\": null}}, \"metabolites\": [{\"bigg_id\": \"Glucopyranose_e\", \"coefficient\": -1.0}, {\"bigg_id\": \"PHOSPHO_ENOL_PYRUVATE_c\", \"coefficient\": -1.0}, {\"bigg_id\": \"D_glucopyranose_6_phosphate_c\", \"coefficient\": 1.0}, {\"bigg_id\": \"PYRUVATE_c\", \"coefficient\": 1.0}]}, \"1\": {\"name\": \"G6PDH2r\", \"bigg_id\": \"G6PDH2r\", \"reversibility\": true, \"label_x\": 265.0, \"label_y\": 975.0, \"gene_reaction_rule\": \"\", \"genes\": [], \"segments\": {\"6\": {\"from_node_id\": \"11\", \"to_node_id\": \"12\", \"b1\": null, \"b2\": null}, \"7\": {\"from_node_id\": \"13\", \"to_node_id\": \"12\", \"b1\": null, \"b2\": null}, \"8\": {\"from_node_id\": \"2\", \"to_node_id\": \"11\", \"b1\": null, \"b2\": null}, \"9\": {\"from_node_id\": \"7\", \"to_node_id\": \"11\", \"b1\": null, \"b2\": null}, \"10\": {\"from_node_id\": \"8\", \"to_node_id\": \"13\", \"b1\": null, \"b2\": null}, \"11\": {\"from_node_id\": \"9\", \"to_node_id\": \"13\", \"b1\": null, \"b2\": null}, \"12\": {\"from_node_id\": \"10\", \"to_node_id\": \"13\", \"b1\": null, \"b2\": null}}, \"metabolites\": [{\"bigg_id\": \"D_glucopyranose_6_phosphate_c\", \"coefficient\": -1.0}, {\"bigg_id\": \"NADP_c\", \"coefficient\": -1.0}, {\"bigg_id\": \"D_6_P_GLUCONO_DELTA_LACTONE_c\", \"coefficient\": 1.0}, {\"bigg_id\": \"NADPH_c\", \"coefficient\": 1.0}, {\"bigg_id\": \"PROTON_c\", \"coefficient\": 1.0}]}, \"2\": {\"name\": \"PGL\", \"bigg_id\": \"PGL\", \"reversibility\": true, \"label_x\": 265.0, \"label_y\": 1625.0, \"gene_reaction_rule\": \"\", \"genes\": [], \"segments\": {\"13\": {\"from_node_id\": \"17\", \"to_node_id\": \"18\", \"b1\": null, \"b2\": null}, \"14\": {\"from_node_id\": \"19\", \"to_node_id\": \"18\", \"b1\": null, \"b2\": null}, \"15\": {\"from_node_id\": \"14\", \"to_node_id\": \"17\", \"b1\": null, \"b2\": null}, \"16\": {\"from_node_id\": \"8\", \"to_node_id\": \"17\", \"b1\": null, \"b2\": null}, \"17\": {\"from_node_id\": \"15\", \"to_node_id\": \"19\", \"b1\": null, \"b2\": null}, \"18\": {\"from_node_id\": \"16\", \"to_node_id\": \"19\", \"b1\": null, \"b2\": null}}, \"metabolites\": [{\"bigg_id\": \"CPD_15815_c\", \"coefficient\": -1.0}, {\"bigg_id\": \"D_6_P_GLUCONO_DELTA_LACTONE_c\", \"coefficient\": -1.0}, {\"bigg_id\": \"CPD_2961_c\", \"coefficient\": 1.0}, {\"bigg_id\": \"PROTON_c\", \"coefficient\": 1.0}]}, \"3\": {\"name\": \"GND\", \"bigg_id\": \"GND\", \"reversibility\": true, \"label_x\": 265.0, \"label_y\": 2275.0, \"gene_reaction_rule\": \"\", \"genes\": [], \"segments\": {\"19\": {\"from_node_id\": \"24\", \"to_node_id\": \"25\", \"b1\": null, \"b2\": null}, \"20\": {\"from_node_id\": \"26\", \"to_node_id\": \"25\", \"b1\": null, \"b2\": null}, \"21\": {\"from_node_id\": \"15\", \"to_node_id\": \"24\", \"b1\": null, \"b2\": null}, \"22\": {\"from_node_id\": \"20\", \"to_node_id\": \"24\", \"b1\": null, \"b2\": null}, \"23\": {\"from_node_id\": \"21\", \"to_node_id\": \"26\", \"b1\": null, \"b2\": null}, \"24\": {\"from_node_id\": \"22\", \"to_node_id\": \"26\", \"b1\": null, \"b2\": null}, \"25\": {\"from_node_id\": \"23\", \"to_node_id\": \"26\", \"b1\": null, \"b2\": null}}, \"metabolites\": [{\"bigg_id\": \"CPD_2961_c\", \"coefficient\": -1.0}, {\"bigg_id\": \"NADP_c\", \"coefficient\": -1.0}, {\"bigg_id\": \"CARBON_DIOXIDE_c\", \"coefficient\": 1.0}, {\"bigg_id\": \"NADPH_c\", \"coefficient\": 1.0}, {\"bigg_id\": \"RIBULOSE_5P_c\", \"coefficient\": 1.0}]}}, \"nodes\": {\"0\": {\"node_type\": \"metabolite\", \"x\": 150.0, \"y\": 30.0, \"label_x\": 160.0, \"label_y\": 20.0, \"bigg_id\": \"Glucopyranose_e\", \"name\": \"Glucopyranose_e\", \"node_is_primary\": false}, \"1\": {\"node_type\": \"metabolite\", \"x\": 300.0, \"y\": 30.0, \"label_x\": 310.0, \"label_y\": 20.0, \"bigg_id\": \"PHOSPHO_ENOL_PYRUVATE_c\", \"name\": \"PHOSPHO_ENOL_PYRUVATE_c\", \"node_is_primary\": false}, \"2\": {\"node_type\": \"metabolite\", \"x\": 150.0, \"y\": 550.0, \"label_x\": 160.0, \"label_y\": 580.0, \"bigg_id\": \"D_glucopyranose_6_phosphate_c\", \"name\": \"D_glucopyranose_6_phosphate_c\", \"node_is_primary\": false}, \"3\": {\"node_type\": \"metabolite\", \"x\": 300.0, \"y\": 550.0, \"label_x\": 310.0, \"label_y\": 580.0, \"bigg_id\": \"PYRUVATE_c\", \"name\": \"PYRUVATE_c\", \"node_is_primary\": false}, \"4\": {\"node_type\": \"multimarker\", \"x\": 225.0, \"y\": 305.0}, \"5\": {\"node_type\": \"midmarker\", \"x\": 225.0, \"y\": 325.0}, \"6\": {\"node_type\": \"multimarker\", \"x\": 225.0, \"y\": 345.0}, \"7\": {\"node_type\": \"metabolite\", \"x\": 300.0, \"y\": 680.0, \"label_x\": 310.0, \"label_y\": 670.0, \"bigg_id\": \"NADP_c\", \"name\": \"NADP_c\", \"node_is_primary\": false}, \"8\": {\"node_type\": \"metabolite\", \"x\": 112.5, \"y\": 1200.0, \"label_x\": 122.5, \"label_y\": 1230.0, \"bigg_id\": \"D_6_P_GLUCONO_DELTA_LACTONE_c\", \"name\": \"D_6_P_GLUCONO_DELTA_LACTONE_c\", \"node_is_primary\": false}, \"9\": {\"node_type\": \"metabolite\", \"x\": 225.0, \"y\": 1200.0, \"label_x\": 235.0, \"label_y\": 1230.0, \"bigg_id\": \"NADPH_c\", \"name\": \"NADPH_c\", \"node_is_primary\": false}, \"10\": {\"node_type\": \"metabolite\", \"x\": 337.5, \"y\": 1200.0, \"label_x\": 347.5, \"label_y\": 1230.0, \"bigg_id\": \"PROTON_c\", \"name\": \"PROTON_c\", \"node_is_primary\": false}, \"11\": {\"node_type\": \"multimarker\", \"x\": 225.0, \"y\": 955.0}, \"12\": {\"node_type\": \"midmarker\", \"x\": 225.0, \"y\": 975.0}, \"13\": {\"node_type\": \"multimarker\", \"x\": 225.0, \"y\": 995.0}, \"14\": {\"node_type\": \"metabolite\", \"x\": 150.0, \"y\": 1330.0, \"label_x\": 160.0, \"label_y\": 1320.0, \"bigg_id\": \"CPD_15815_c\", \"name\": \"CPD_15815_c\", \"node_is_primary\": false}, \"15\": {\"node_type\": \"metabolite\", \"x\": 150.0, \"y\": 1850.0, \"label_x\": 160.0, \"label_y\": 1880.0, \"bigg_id\": \"CPD_2961_c\", \"name\": \"CPD_2961_c\", \"node_is_primary\": false}, \"16\": {\"node_type\": \"metabolite\", \"x\": 300.0, \"y\": 1850.0, \"label_x\": 310.0, \"label_y\": 1880.0, \"bigg_id\": \"PROTON_c\", \"name\": \"PROTON_c\", \"node_is_primary\": false}, \"17\": {\"node_type\": \"multimarker\", \"x\": 225.0, \"y\": 1605.0}, \"18\": {\"node_type\": \"midmarker\", \"x\": 225.0, \"y\": 1625.0}, \"19\": {\"node_type\": \"multimarker\", \"x\": 225.0, \"y\": 1645.0}, \"20\": {\"node_type\": \"metabolite\", \"x\": 300.0, \"y\": 1980.0, \"label_x\": 310.0, \"label_y\": 1970.0, \"bigg_id\": \"NADP_c\", \"name\": \"NADP_c\", \"node_is_primary\": false}, \"21\": {\"node_type\": \"metabolite\", \"x\": 112.5, \"y\": 2500.0, \"label_x\": 122.5, \"label_y\": 2530.0, \"bigg_id\": \"CARBON_DIOXIDE_c\", \"name\": \"CARBON_DIOXIDE_c\", \"node_is_primary\": false}, \"22\": {\"node_type\": \"metabolite\", \"x\": 225.0, \"y\": 2500.0, \"label_x\": 235.0, \"label_y\": 2530.0, \"bigg_id\": \"NADPH_c\", \"name\": \"NADPH_c\", \"node_is_primary\": false}, \"23\": {\"node_type\": \"metabolite\", \"x\": 337.5, \"y\": 2500.0, \"label_x\": 347.5, \"label_y\": 2530.0, \"bigg_id\": \"RIBULOSE_5P_c\", \"name\": \"RIBULOSE_5P_c\", \"node_is_primary\": false}, \"24\": {\"node_type\": \"multimarker\", \"x\": 225.0, \"y\": 2255.0}, \"25\": {\"node_type\": \"midmarker\", \"x\": 225.0, \"y\": 2275.0}, \"26\": {\"node_type\": \"multimarker\", \"x\": 225.0, \"y\": 2295.0}}, \"text_labels\": {}, \"canvas\": {\"x\": 0, \"y\": 0, \"width\": 450, \"height\": 2600}}]",
       "_loaded_model_json": null,
       "allow_building_duplicate_reactions": false,
       "and_method_in_gene_reaction_rule": "mean",
       "canvas_size_and_loc": null,
       "cofactors": [
        "atp",
        "adp",
        "nad",
        "nadh",
        "nadp",
        "nadph",
        "gtp",
        "gdp",
        "h",
        "coa",
        "ump",
        "h2o",
        "ppi"
       ],
       "disabled_buttons": [
        "Clear gene data",
        "Clear metabolite data"
       ],
       "embedded_css": null,
       "enable_editing": true,
       "enable_keys": false,
       "enable_keys_with_tooltip": true,
       "enable_search": true,
       "enable_tooltips": false,
       "full_screen_button": {
        "enable_editing": true,
        "enable_keys": true,
        "enable_tooltips": [
         "label"
        ],
        "menu": "all",
        "scroll_behavior": "pan"
       },
       "gene_data": null,
       "gene_font_size": 18,
       "height": 500,
       "hide_all_labels": false,
       "hide_secondary_metabolites": false,
       "highlight_missing": false,
       "identifiers_on_map": "bigg_id",
       "layout": "IPY_MODEL_b256aae11aee456d9b1184b497f80abe",
       "marker_radius": 5,
       "menu": "all",
       "metabolite_compare_style": "log2_fold",
       "metabolite_data": null,
       "metabolite_no_data_color": "#ffffff",
       "metabolite_no_data_size": 10,
       "metabolite_scale": [
        {
         "color": "#fffaf0",
         "size": 20,
         "type": "min"
        },
        {
         "color": "#f1c470",
         "size": 30,
         "type": "median"
        },
        {
         "color": "#800000",
         "size": 40,
         "type": "max"
        }
       ],
       "metabolite_scale_preset": "WhYlRd",
       "metabolite_styles": [
        "color",
        "size",
        "text"
       ],
       "never_ask_before_quit": true,
       "primary_metabolite_radius": 20,
       "reaction_compare_style": "log2_fold",
       "reaction_data": {
        "G6PDH2r": -2,
        "GLCpts": -2,
        "GND": 1,
        "Other": 1000,
        "PGL": 0.4
       },
       "reaction_no_data_color": "#dcdcdc",
       "reaction_no_data_size": 8,
       "reaction_scale": [
        {
         "color": "rgb(191,215,230)",
         "type": "value",
         "value": 0.4
        },
        {
         "color": "rgb(163,210,240)",
         "type": "value",
         "value": 1
        },
        {
         "color": "rgb(135,205,250)",
         "type": "value",
         "value": 1000
        },
        {
         "color": "rgb(220,220,220)",
         "type": "value",
         "value": 0
        },
        {
         "color": "rgb(237,192,110)",
         "type": "value",
         "value": -2
        },
        {
         "color": "rgb(255,165,0)",
         "type": "value",
         "value": -2
        }
       ],
       "reaction_scale_preset": null,
       "reaction_styles": [
        "color",
        "text"
       ],
       "scroll_behavior": "none",
       "secondary_metabolite_radius": 10,
       "semantic_zoom": null,
       "show_gene_reaction_rules": false,
       "starting_reaction": null,
       "use_3d_transform": false,
       "zoom_to_element": null
      }
     },
     "df84a160c59f42768327e2686936d187": {
      "model_module": "escher",
      "model_module_version": "1.7.3",
      "model_name": "EscherMapModel",
      "state": {
       "_loaded_map_json": "[{\"map_name\": \"\", \"map_id\": \"\", \"map_description\": \"\", \"homepage\": \"\", \"schema\": \"https://escher.github.io/escher/jsonschema/1-0-0#\"}, {\"reactions\": {\"0\": {\"name\": \"GLCpts\", \"bigg_id\": \"GLCpts\", \"reversibility\": true, \"label_x\": 265.0, \"label_y\": 325.0, \"gene_reaction_rule\": \"\", \"genes\": [], \"segments\": {\"0\": {\"from_node_id\": \"4\", \"to_node_id\": \"5\", \"b1\": null, \"b2\": null}, \"1\": {\"from_node_id\": \"6\", \"to_node_id\": \"5\", \"b1\": null, \"b2\": null}, \"2\": {\"from_node_id\": \"0\", \"to_node_id\": \"4\", \"b1\": null, \"b2\": null}, \"3\": {\"from_node_id\": \"1\", \"to_node_id\": \"4\", \"b1\": null, \"b2\": null}, \"4\": {\"from_node_id\": \"2\", \"to_node_id\": \"6\", \"b1\": null, \"b2\": null}, \"5\": {\"from_node_id\": \"3\", \"to_node_id\": \"6\", \"b1\": null, \"b2\": null}}, \"metabolites\": [{\"bigg_id\": \"Glucopyranose_e\", \"coefficient\": -1.0}, {\"bigg_id\": \"PHOSPHO_ENOL_PYRUVATE_c\", \"coefficient\": -1.0}, {\"bigg_id\": \"D_glucopyranose_6_phosphate_c\", \"coefficient\": 1.0}, {\"bigg_id\": \"PYRUVATE_c\", \"coefficient\": 1.0}]}, \"1\": {\"name\": \"G6PDH2r\", \"bigg_id\": \"G6PDH2r\", \"reversibility\": true, \"label_x\": 265.0, \"label_y\": 975.0, \"gene_reaction_rule\": \"\", \"genes\": [], \"segments\": {\"6\": {\"from_node_id\": \"11\", \"to_node_id\": \"12\", \"b1\": null, \"b2\": null}, \"7\": {\"from_node_id\": \"13\", \"to_node_id\": \"12\", \"b1\": null, \"b2\": null}, \"8\": {\"from_node_id\": \"2\", \"to_node_id\": \"11\", \"b1\": null, \"b2\": null}, \"9\": {\"from_node_id\": \"7\", \"to_node_id\": \"11\", \"b1\": null, \"b2\": null}, \"10\": {\"from_node_id\": \"8\", \"to_node_id\": \"13\", \"b1\": null, \"b2\": null}, \"11\": {\"from_node_id\": \"9\", \"to_node_id\": \"13\", \"b1\": null, \"b2\": null}, \"12\": {\"from_node_id\": \"10\", \"to_node_id\": \"13\", \"b1\": null, \"b2\": null}}, \"metabolites\": [{\"bigg_id\": \"D_glucopyranose_6_phosphate_c\", \"coefficient\": -1.0}, {\"bigg_id\": \"NADP_c\", \"coefficient\": -1.0}, {\"bigg_id\": \"D_6_P_GLUCONO_DELTA_LACTONE_c\", \"coefficient\": 1.0}, {\"bigg_id\": \"NADPH_c\", \"coefficient\": 1.0}, {\"bigg_id\": \"PROTON_c\", \"coefficient\": 1.0}]}, \"2\": {\"name\": \"PGL\", \"bigg_id\": \"PGL\", \"reversibility\": true, \"label_x\": 265.0, \"label_y\": 1625.0, \"gene_reaction_rule\": \"\", \"genes\": [], \"segments\": {\"13\": {\"from_node_id\": \"17\", \"to_node_id\": \"18\", \"b1\": null, \"b2\": null}, \"14\": {\"from_node_id\": \"19\", \"to_node_id\": \"18\", \"b1\": null, \"b2\": null}, \"15\": {\"from_node_id\": \"14\", \"to_node_id\": \"17\", \"b1\": null, \"b2\": null}, \"16\": {\"from_node_id\": \"8\", \"to_node_id\": \"17\", \"b1\": null, \"b2\": null}, \"17\": {\"from_node_id\": \"15\", \"to_node_id\": \"19\", \"b1\": null, \"b2\": null}, \"18\": {\"from_node_id\": \"16\", \"to_node_id\": \"19\", \"b1\": null, \"b2\": null}}, \"metabolites\": [{\"bigg_id\": \"CPD_15815_c\", \"coefficient\": -1.0}, {\"bigg_id\": \"D_6_P_GLUCONO_DELTA_LACTONE_c\", \"coefficient\": -1.0}, {\"bigg_id\": \"CPD_2961_c\", \"coefficient\": 1.0}, {\"bigg_id\": \"PROTON_c\", \"coefficient\": 1.0}]}, \"3\": {\"name\": \"GND\", \"bigg_id\": \"GND\", \"reversibility\": true, \"label_x\": 265.0, \"label_y\": 2275.0, \"gene_reaction_rule\": \"\", \"genes\": [], \"segments\": {\"19\": {\"from_node_id\": \"24\", \"to_node_id\": \"25\", \"b1\": null, \"b2\": null}, \"20\": {\"from_node_id\": \"26\", \"to_node_id\": \"25\", \"b1\": null, \"b2\": null}, \"21\": {\"from_node_id\": \"15\", \"to_node_id\": \"24\", \"b1\": null, \"b2\": null}, \"22\": {\"from_node_id\": \"20\", \"to_node_id\": \"24\", \"b1\": null, \"b2\": null}, \"23\": {\"from_node_id\": \"21\", \"to_node_id\": \"26\", \"b1\": null, \"b2\": null}, \"24\": {\"from_node_id\": \"22\", \"to_node_id\": \"26\", \"b1\": null, \"b2\": null}, \"25\": {\"from_node_id\": \"23\", \"to_node_id\": \"26\", \"b1\": null, \"b2\": null}}, \"metabolites\": [{\"bigg_id\": \"CPD_2961_c\", \"coefficient\": -1.0}, {\"bigg_id\": \"NADP_c\", \"coefficient\": -1.0}, {\"bigg_id\": \"CARBON_DIOXIDE_c\", \"coefficient\": 1.0}, {\"bigg_id\": \"NADPH_c\", \"coefficient\": 1.0}, {\"bigg_id\": \"RIBULOSE_5P_c\", \"coefficient\": 1.0}]}}, \"nodes\": {\"0\": {\"node_type\": \"metabolite\", \"x\": 150.0, \"y\": 30.0, \"label_x\": 160.0, \"label_y\": 20.0, \"bigg_id\": \"Glucopyranose_e\", \"name\": \"Glucopyranose_e\", \"node_is_primary\": false}, \"1\": {\"node_type\": \"metabolite\", \"x\": 300.0, \"y\": 30.0, \"label_x\": 310.0, \"label_y\": 20.0, \"bigg_id\": \"PHOSPHO_ENOL_PYRUVATE_c\", \"name\": \"PHOSPHO_ENOL_PYRUVATE_c\", \"node_is_primary\": false}, \"2\": {\"node_type\": \"metabolite\", \"x\": 150.0, \"y\": 550.0, \"label_x\": 160.0, \"label_y\": 580.0, \"bigg_id\": \"D_glucopyranose_6_phosphate_c\", \"name\": \"D_glucopyranose_6_phosphate_c\", \"node_is_primary\": false}, \"3\": {\"node_type\": \"metabolite\", \"x\": 300.0, \"y\": 550.0, \"label_x\": 310.0, \"label_y\": 580.0, \"bigg_id\": \"PYRUVATE_c\", \"name\": \"PYRUVATE_c\", \"node_is_primary\": false}, \"4\": {\"node_type\": \"multimarker\", \"x\": 225.0, \"y\": 305.0}, \"5\": {\"node_type\": \"midmarker\", \"x\": 225.0, \"y\": 325.0}, \"6\": {\"node_type\": \"multimarker\", \"x\": 225.0, \"y\": 345.0}, \"7\": {\"node_type\": \"metabolite\", \"x\": 300.0, \"y\": 680.0, \"label_x\": 310.0, \"label_y\": 670.0, \"bigg_id\": \"NADP_c\", \"name\": \"NADP_c\", \"node_is_primary\": false}, \"8\": {\"node_type\": \"metabolite\", \"x\": 112.5, \"y\": 1200.0, \"label_x\": 122.5, \"label_y\": 1230.0, \"bigg_id\": \"D_6_P_GLUCONO_DELTA_LACTONE_c\", \"name\": \"D_6_P_GLUCONO_DELTA_LACTONE_c\", \"node_is_primary\": false}, \"9\": {\"node_type\": \"metabolite\", \"x\": 225.0, \"y\": 1200.0, \"label_x\": 235.0, \"label_y\": 1230.0, \"bigg_id\": \"NADPH_c\", \"name\": \"NADPH_c\", \"node_is_primary\": false}, \"10\": {\"node_type\": \"metabolite\", \"x\": 337.5, \"y\": 1200.0, \"label_x\": 347.5, \"label_y\": 1230.0, \"bigg_id\": \"PROTON_c\", \"name\": \"PROTON_c\", \"node_is_primary\": false}, \"11\": {\"node_type\": \"multimarker\", \"x\": 225.0, \"y\": 955.0}, \"12\": {\"node_type\": \"midmarker\", \"x\": 225.0, \"y\": 975.0}, \"13\": {\"node_type\": \"multimarker\", \"x\": 225.0, \"y\": 995.0}, \"14\": {\"node_type\": \"metabolite\", \"x\": 150.0, \"y\": 1330.0, \"label_x\": 160.0, \"label_y\": 1320.0, \"bigg_id\": \"CPD_15815_c\", \"name\": \"CPD_15815_c\", \"node_is_primary\": false}, \"15\": {\"node_type\": \"metabolite\", \"x\": 150.0, \"y\": 1850.0, \"label_x\": 160.0, \"label_y\": 1880.0, \"bigg_id\": \"CPD_2961_c\", \"name\": \"CPD_2961_c\", \"node_is_primary\": false}, \"16\": {\"node_type\": \"metabolite\", \"x\": 300.0, \"y\": 1850.0, \"label_x\": 310.0, \"label_y\": 1880.0, \"bigg_id\": \"PROTON_c\", \"name\": \"PROTON_c\", \"node_is_primary\": false}, \"17\": {\"node_type\": \"multimarker\", \"x\": 225.0, \"y\": 1605.0}, \"18\": {\"node_type\": \"midmarker\", \"x\": 225.0, \"y\": 1625.0}, \"19\": {\"node_type\": \"multimarker\", \"x\": 225.0, \"y\": 1645.0}, \"20\": {\"node_type\": \"metabolite\", \"x\": 300.0, \"y\": 1980.0, \"label_x\": 310.0, \"label_y\": 1970.0, \"bigg_id\": \"NADP_c\", \"name\": \"NADP_c\", \"node_is_primary\": false}, \"21\": {\"node_type\": \"metabolite\", \"x\": 112.5, \"y\": 2500.0, \"label_x\": 122.5, \"label_y\": 2530.0, \"bigg_id\": \"CARBON_DIOXIDE_c\", \"name\": \"CARBON_DIOXIDE_c\", \"node_is_primary\": false}, \"22\": {\"node_type\": \"metabolite\", \"x\": 225.0, \"y\": 2500.0, \"label_x\": 235.0, \"label_y\": 2530.0, \"bigg_id\": \"NADPH_c\", \"name\": \"NADPH_c\", \"node_is_primary\": false}, \"23\": {\"node_type\": \"metabolite\", \"x\": 337.5, \"y\": 2500.0, \"label_x\": 347.5, \"label_y\": 2530.0, \"bigg_id\": \"RIBULOSE_5P_c\", \"name\": \"RIBULOSE_5P_c\", \"node_is_primary\": false}, \"24\": {\"node_type\": \"multimarker\", \"x\": 225.0, \"y\": 2255.0}, \"25\": {\"node_type\": \"midmarker\", \"x\": 225.0, \"y\": 2275.0}, \"26\": {\"node_type\": \"multimarker\", \"x\": 225.0, \"y\": 2295.0}}, \"text_labels\": {}, \"canvas\": {\"x\": 0, \"y\": 0, \"width\": 450, \"height\": 2600}}]",
       "_loaded_model_json": null,
       "allow_building_duplicate_reactions": false,
       "and_method_in_gene_reaction_rule": "mean",
       "canvas_size_and_loc": null,
       "cofactors": [
        "atp",
        "adp",
        "nad",
        "nadh",
        "nadp",
        "nadph",
        "gtp",
        "gdp",
        "h",
        "coa",
        "ump",
        "h2o",
        "ppi"
       ],
       "disabled_buttons": [
        "Clear gene data",
        "Clear metabolite data"
       ],
       "embedded_css": null,
       "enable_editing": true,
       "enable_keys": false,
       "enable_keys_with_tooltip": true,
       "enable_search": true,
       "enable_tooltips": false,
       "full_screen_button": {
        "enable_editing": true,
        "enable_keys": true,
        "enable_tooltips": [
         "label"
        ],
        "menu": "all",
        "scroll_behavior": "pan"
       },
       "gene_data": null,
       "gene_font_size": 18,
       "height": 500,
       "hide_all_labels": false,
       "hide_secondary_metabolites": false,
       "highlight_missing": false,
       "identifiers_on_map": "bigg_id",
       "layout": "IPY_MODEL_1bcff55cd87045efb614314c8fec4461",
       "marker_radius": 5,
       "menu": "all",
       "metabolite_compare_style": "log2_fold",
       "metabolite_data": null,
       "metabolite_no_data_color": "#ffffff",
       "metabolite_no_data_size": 10,
       "metabolite_scale": [
        {
         "color": "#fffaf0",
         "size": 20,
         "type": "min"
        },
        {
         "color": "#f1c470",
         "size": 30,
         "type": "median"
        },
        {
         "color": "#800000",
         "size": 40,
         "type": "max"
        }
       ],
       "metabolite_scale_preset": "WhYlRd",
       "metabolite_styles": [
        "color",
        "size",
        "text"
       ],
       "never_ask_before_quit": true,
       "primary_metabolite_radius": 20,
       "reaction_compare_style": "log2_fold",
       "reaction_data": {
        "G6PDH2r": -2,
        "GLCpts": -2,
        "GND": 1,
        "PGL": 0.4
       },
       "reaction_no_data_color": "#dcdcdc",
       "reaction_no_data_size": 8,
       "reaction_scale": [
        {
         "color": "rgb(110,174,110)",
         "type": "value",
         "value": 0.5
        },
        {
         "color": "rgb(0,128,0)",
         "type": "value",
         "value": 1
        },
        {
         "color": "rgb(220,220,220)",
         "type": "value",
         "value": 0
        },
        {
         "color": "rgb(237,110,110)",
         "type": "value",
         "value": -1
        },
        {
         "color": "rgb(255,0,0)",
         "type": "value",
         "value": -2
        }
       ],
       "reaction_scale_preset": null,
       "reaction_styles": [
        "color",
        "text"
       ],
       "scroll_behavior": "none",
       "secondary_metabolite_radius": 10,
       "semantic_zoom": null,
       "show_gene_reaction_rules": false,
       "starting_reaction": null,
       "use_3d_transform": false,
       "zoom_to_element": null
      }
     },
     "e0e30dfc932a451e97467fdaf51cf816": {
      "model_module": "@jupyter-widgets/base",
      "model_module_version": "1.2.0",
      "model_name": "LayoutModel",
      "state": {}
     },
     "e5df47c3e94f4918b8415fbb5867013e": {
      "model_module": "@jupyter-widgets/base",
      "model_module_version": "1.2.0",
      "model_name": "LayoutModel",
      "state": {}
     },
     "f0e4ada245eb43f8996260069d141f80": {
      "model_module": "escher",
      "model_module_version": "1.7.3",
      "model_name": "EscherMapModel",
      "state": {
       "_loaded_map_json": "[{\"map_name\": \"\", \"map_id\": \"\", \"map_description\": \"\", \"homepage\": \"\", \"schema\": \"https://escher.github.io/escher/jsonschema/1-0-0#\"}, {\"reactions\": {\"0\": {\"name\": \"GLCpts\", \"bigg_id\": \"GLCpts\", \"reversibility\": true, \"label_x\": 265.0, \"label_y\": 325.0, \"gene_reaction_rule\": \"\", \"genes\": [], \"segments\": {\"0\": {\"from_node_id\": \"4\", \"to_node_id\": \"5\", \"b1\": null, \"b2\": null}, \"1\": {\"from_node_id\": \"6\", \"to_node_id\": \"5\", \"b1\": null, \"b2\": null}, \"2\": {\"from_node_id\": \"0\", \"to_node_id\": \"4\", \"b1\": null, \"b2\": null}, \"3\": {\"from_node_id\": \"1\", \"to_node_id\": \"4\", \"b1\": null, \"b2\": null}, \"4\": {\"from_node_id\": \"2\", \"to_node_id\": \"6\", \"b1\": null, \"b2\": null}, \"5\": {\"from_node_id\": \"3\", \"to_node_id\": \"6\", \"b1\": null, \"b2\": null}}, \"metabolites\": [{\"bigg_id\": \"Glucopyranose_e\", \"coefficient\": -1.0}, {\"bigg_id\": \"PHOSPHO_ENOL_PYRUVATE_c\", \"coefficient\": -1.0}, {\"bigg_id\": \"D_glucopyranose_6_phosphate_c\", \"coefficient\": 1.0}, {\"bigg_id\": \"PYRUVATE_c\", \"coefficient\": 1.0}]}, \"1\": {\"name\": \"G6PDH2r\", \"bigg_id\": \"G6PDH2r\", \"reversibility\": true, \"label_x\": 265.0, \"label_y\": 975.0, \"gene_reaction_rule\": \"\", \"genes\": [], \"segments\": {\"6\": {\"from_node_id\": \"11\", \"to_node_id\": \"12\", \"b1\": null, \"b2\": null}, \"7\": {\"from_node_id\": \"13\", \"to_node_id\": \"12\", \"b1\": null, \"b2\": null}, \"8\": {\"from_node_id\": \"2\", \"to_node_id\": \"11\", \"b1\": null, \"b2\": null}, \"9\": {\"from_node_id\": \"7\", \"to_node_id\": \"11\", \"b1\": null, \"b2\": null}, \"10\": {\"from_node_id\": \"8\", \"to_node_id\": \"13\", \"b1\": null, \"b2\": null}, \"11\": {\"from_node_id\": \"9\", \"to_node_id\": \"13\", \"b1\": null, \"b2\": null}, \"12\": {\"from_node_id\": \"10\", \"to_node_id\": \"13\", \"b1\": null, \"b2\": null}}, \"metabolites\": [{\"bigg_id\": \"D_glucopyranose_6_phosphate_c\", \"coefficient\": -1.0}, {\"bigg_id\": \"NADP_c\", \"coefficient\": -1.0}, {\"bigg_id\": \"D_6_P_GLUCONO_DELTA_LACTONE_c\", \"coefficient\": 1.0}, {\"bigg_id\": \"NADPH_c\", \"coefficient\": 1.0}, {\"bigg_id\": \"PROTON_c\", \"coefficient\": 1.0}]}, \"2\": {\"name\": \"PGL\", \"bigg_id\": \"PGL\", \"reversibility\": true, \"label_x\": 265.0, \"label_y\": 1625.0, \"gene_reaction_rule\": \"\", \"genes\": [], \"segments\": {\"13\": {\"from_node_id\": \"17\", \"to_node_id\": \"18\", \"b1\": null, \"b2\": null}, \"14\": {\"from_node_id\": \"19\", \"to_node_id\": \"18\", \"b1\": null, \"b2\": null}, \"15\": {\"from_node_id\": \"14\", \"to_node_id\": \"17\", \"b1\": null, \"b2\": null}, \"16\": {\"from_node_id\": \"8\", \"to_node_id\": \"17\", \"b1\": null, \"b2\": null}, \"17\": {\"from_node_id\": \"15\", \"to_node_id\": \"19\", \"b1\": null, \"b2\": null}, \"18\": {\"from_node_id\": \"16\", \"to_node_id\": \"19\", \"b1\": null, \"b2\": null}}, \"metabolites\": [{\"bigg_id\": \"CPD_15815_c\", \"coefficient\": -1.0}, {\"bigg_id\": \"D_6_P_GLUCONO_DELTA_LACTONE_c\", \"coefficient\": -1.0}, {\"bigg_id\": \"CPD_2961_c\", \"coefficient\": 1.0}, {\"bigg_id\": \"PROTON_c\", \"coefficient\": 1.0}]}, \"3\": {\"name\": \"GND\", \"bigg_id\": \"GND\", \"reversibility\": true, \"label_x\": 265.0, \"label_y\": 2275.0, \"gene_reaction_rule\": \"\", \"genes\": [], \"segments\": {\"19\": {\"from_node_id\": \"24\", \"to_node_id\": \"25\", \"b1\": null, \"b2\": null}, \"20\": {\"from_node_id\": \"26\", \"to_node_id\": \"25\", \"b1\": null, \"b2\": null}, \"21\": {\"from_node_id\": \"15\", \"to_node_id\": \"24\", \"b1\": null, \"b2\": null}, \"22\": {\"from_node_id\": \"20\", \"to_node_id\": \"24\", \"b1\": null, \"b2\": null}, \"23\": {\"from_node_id\": \"21\", \"to_node_id\": \"26\", \"b1\": null, \"b2\": null}, \"24\": {\"from_node_id\": \"22\", \"to_node_id\": \"26\", \"b1\": null, \"b2\": null}, \"25\": {\"from_node_id\": \"23\", \"to_node_id\": \"26\", \"b1\": null, \"b2\": null}}, \"metabolites\": [{\"bigg_id\": \"CPD_2961_c\", \"coefficient\": -1.0}, {\"bigg_id\": \"NADP_c\", \"coefficient\": -1.0}, {\"bigg_id\": \"CARBON_DIOXIDE_c\", \"coefficient\": 1.0}, {\"bigg_id\": \"NADPH_c\", \"coefficient\": 1.0}, {\"bigg_id\": \"RIBULOSE_5P_c\", \"coefficient\": 1.0}]}}, \"nodes\": {\"0\": {\"node_type\": \"metabolite\", \"x\": 150.0, \"y\": 30.0, \"label_x\": 160.0, \"label_y\": 20.0, \"bigg_id\": \"Glucopyranose_e\", \"name\": \"Glucopyranose_e\", \"node_is_primary\": false}, \"1\": {\"node_type\": \"metabolite\", \"x\": 300.0, \"y\": 30.0, \"label_x\": 310.0, \"label_y\": 20.0, \"bigg_id\": \"PHOSPHO_ENOL_PYRUVATE_c\", \"name\": \"PHOSPHO_ENOL_PYRUVATE_c\", \"node_is_primary\": false}, \"2\": {\"node_type\": \"metabolite\", \"x\": 150.0, \"y\": 550.0, \"label_x\": 160.0, \"label_y\": 580.0, \"bigg_id\": \"D_glucopyranose_6_phosphate_c\", \"name\": \"D_glucopyranose_6_phosphate_c\", \"node_is_primary\": false}, \"3\": {\"node_type\": \"metabolite\", \"x\": 300.0, \"y\": 550.0, \"label_x\": 310.0, \"label_y\": 580.0, \"bigg_id\": \"PYRUVATE_c\", \"name\": \"PYRUVATE_c\", \"node_is_primary\": false}, \"4\": {\"node_type\": \"multimarker\", \"x\": 225.0, \"y\": 305.0}, \"5\": {\"node_type\": \"midmarker\", \"x\": 225.0, \"y\": 325.0}, \"6\": {\"node_type\": \"multimarker\", \"x\": 225.0, \"y\": 345.0}, \"7\": {\"node_type\": \"metabolite\", \"x\": 300.0, \"y\": 680.0, \"label_x\": 310.0, \"label_y\": 670.0, \"bigg_id\": \"NADP_c\", \"name\": \"NADP_c\", \"node_is_primary\": false}, \"8\": {\"node_type\": \"metabolite\", \"x\": 112.5, \"y\": 1200.0, \"label_x\": 122.5, \"label_y\": 1230.0, \"bigg_id\": \"D_6_P_GLUCONO_DELTA_LACTONE_c\", \"name\": \"D_6_P_GLUCONO_DELTA_LACTONE_c\", \"node_is_primary\": false}, \"9\": {\"node_type\": \"metabolite\", \"x\": 225.0, \"y\": 1200.0, \"label_x\": 235.0, \"label_y\": 1230.0, \"bigg_id\": \"NADPH_c\", \"name\": \"NADPH_c\", \"node_is_primary\": false}, \"10\": {\"node_type\": \"metabolite\", \"x\": 337.5, \"y\": 1200.0, \"label_x\": 347.5, \"label_y\": 1230.0, \"bigg_id\": \"PROTON_c\", \"name\": \"PROTON_c\", \"node_is_primary\": false}, \"11\": {\"node_type\": \"multimarker\", \"x\": 225.0, \"y\": 955.0}, \"12\": {\"node_type\": \"midmarker\", \"x\": 225.0, \"y\": 975.0}, \"13\": {\"node_type\": \"multimarker\", \"x\": 225.0, \"y\": 995.0}, \"14\": {\"node_type\": \"metabolite\", \"x\": 150.0, \"y\": 1330.0, \"label_x\": 160.0, \"label_y\": 1320.0, \"bigg_id\": \"CPD_15815_c\", \"name\": \"CPD_15815_c\", \"node_is_primary\": false}, \"15\": {\"node_type\": \"metabolite\", \"x\": 150.0, \"y\": 1850.0, \"label_x\": 160.0, \"label_y\": 1880.0, \"bigg_id\": \"CPD_2961_c\", \"name\": \"CPD_2961_c\", \"node_is_primary\": false}, \"16\": {\"node_type\": \"metabolite\", \"x\": 300.0, \"y\": 1850.0, \"label_x\": 310.0, \"label_y\": 1880.0, \"bigg_id\": \"PROTON_c\", \"name\": \"PROTON_c\", \"node_is_primary\": false}, \"17\": {\"node_type\": \"multimarker\", \"x\": 225.0, \"y\": 1605.0}, \"18\": {\"node_type\": \"midmarker\", \"x\": 225.0, \"y\": 1625.0}, \"19\": {\"node_type\": \"multimarker\", \"x\": 225.0, \"y\": 1645.0}, \"20\": {\"node_type\": \"metabolite\", \"x\": 300.0, \"y\": 1980.0, \"label_x\": 310.0, \"label_y\": 1970.0, \"bigg_id\": \"NADP_c\", \"name\": \"NADP_c\", \"node_is_primary\": false}, \"21\": {\"node_type\": \"metabolite\", \"x\": 112.5, \"y\": 2500.0, \"label_x\": 122.5, \"label_y\": 2530.0, \"bigg_id\": \"CARBON_DIOXIDE_c\", \"name\": \"CARBON_DIOXIDE_c\", \"node_is_primary\": false}, \"22\": {\"node_type\": \"metabolite\", \"x\": 225.0, \"y\": 2500.0, \"label_x\": 235.0, \"label_y\": 2530.0, \"bigg_id\": \"NADPH_c\", \"name\": \"NADPH_c\", \"node_is_primary\": false}, \"23\": {\"node_type\": \"metabolite\", \"x\": 337.5, \"y\": 2500.0, \"label_x\": 347.5, \"label_y\": 2530.0, \"bigg_id\": \"RIBULOSE_5P_c\", \"name\": \"RIBULOSE_5P_c\", \"node_is_primary\": false}, \"24\": {\"node_type\": \"multimarker\", \"x\": 225.0, \"y\": 2255.0}, \"25\": {\"node_type\": \"midmarker\", \"x\": 225.0, \"y\": 2275.0}, \"26\": {\"node_type\": \"multimarker\", \"x\": 225.0, \"y\": 2295.0}}, \"text_labels\": {}, \"canvas\": {\"x\": 0, \"y\": 0, \"width\": 450, \"height\": 2600}}]",
       "_loaded_model_json": null,
       "allow_building_duplicate_reactions": false,
       "and_method_in_gene_reaction_rule": "mean",
       "canvas_size_and_loc": null,
       "cofactors": [
        "atp",
        "adp",
        "nad",
        "nadh",
        "nadp",
        "nadph",
        "gtp",
        "gdp",
        "h",
        "coa",
        "ump",
        "h2o",
        "ppi"
       ],
       "disabled_buttons": [
        "Clear gene data",
        "Clear metabolite data"
       ],
       "embedded_css": null,
       "enable_editing": true,
       "enable_keys": false,
       "enable_keys_with_tooltip": true,
       "enable_search": true,
       "enable_tooltips": false,
       "full_screen_button": {
        "enable_editing": true,
        "enable_keys": true,
        "enable_tooltips": [
         "label"
        ],
        "menu": "all",
        "scroll_behavior": "pan"
       },
       "gene_data": null,
       "gene_font_size": 18,
       "height": 500,
       "hide_all_labels": false,
       "hide_secondary_metabolites": false,
       "highlight_missing": false,
       "identifiers_on_map": "bigg_id",
       "layout": "IPY_MODEL_fbcd84da27af4a99b4808527256db7a3",
       "marker_radius": 5,
       "menu": "all",
       "metabolite_compare_style": "log2_fold",
       "metabolite_data": null,
       "metabolite_no_data_color": "#ffffff",
       "metabolite_no_data_size": 10,
       "metabolite_scale": [
        {
         "color": "#fffaf0",
         "size": 20,
         "type": "min"
        },
        {
         "color": "#f1c470",
         "size": 30,
         "type": "median"
        },
        {
         "color": "#800000",
         "size": 40,
         "type": "max"
        }
       ],
       "metabolite_scale_preset": "WhYlRd",
       "metabolite_styles": [
        "color",
        "size",
        "text"
       ],
       "never_ask_before_quit": true,
       "primary_metabolite_radius": 20,
       "reaction_compare_style": "log2_fold",
       "reaction_data": {
        "G6PDH2r": -2,
        "GLCpts": -2,
        "GND": 1,
        "PGL": 0.4
       },
       "reaction_no_data_color": "#dcdcdc",
       "reaction_no_data_size": 8,
       "reaction_scale": [
        {
         "color": "rgb(110,174,110)",
         "type": "value",
         "value": 0.5
        },
        {
         "color": "rgb(0,128,0)",
         "type": "value",
         "value": 1
        },
        {
         "color": "rgb(220,220,220)",
         "type": "value",
         "value": 0
        },
        {
         "color": "rgb(237,110,110)",
         "type": "value",
         "value": -1
        },
        {
         "color": "rgb(255,0,0)",
         "type": "value",
         "value": -2
        }
       ],
       "reaction_scale_preset": null,
       "reaction_styles": [
        "color",
        "text"
       ],
       "scroll_behavior": "none",
       "secondary_metabolite_radius": 10,
       "semantic_zoom": null,
       "show_gene_reaction_rules": false,
       "starting_reaction": null,
       "use_3d_transform": false,
       "zoom_to_element": null
      }
     },
     "f13474675c834dfab3f5cd964999f081": {
      "model_module": "escher",
      "model_module_version": "1.7.3",
      "model_name": "EscherMapModel",
      "state": {
       "_loaded_map_json": "[{\"map_name\": \"\", \"map_id\": \"\", \"map_description\": \"\", \"homepage\": \"\", \"schema\": \"https://escher.github.io/escher/jsonschema/1-0-0#\"}, {\"reactions\": {\"0\": {\"name\": \"GLCpts\", \"bigg_id\": \"GLCpts\", \"reversibility\": true, \"label_x\": 271.0, \"label_y\": 45.0, \"gene_reaction_rule\": \"\", \"genes\": [], \"segments\": {\"0\": {\"from_node_id\": \"4\", \"to_node_id\": \"5\", \"b1\": null, \"b2\": null}, \"1\": {\"from_node_id\": \"6\", \"to_node_id\": \"5\", \"b1\": null, \"b2\": null}, \"2\": {\"from_node_id\": \"0\", \"to_node_id\": \"4\", \"b1\": null, \"b2\": null}, \"3\": {\"from_node_id\": \"1\", \"to_node_id\": \"4\", \"b1\": null, \"b2\": null}, \"4\": {\"from_node_id\": \"2\", \"to_node_id\": \"6\", \"b1\": null, \"b2\": null}, \"5\": {\"from_node_id\": \"3\", \"to_node_id\": \"6\", \"b1\": null, \"b2\": null}}, \"metabolites\": [{\"bigg_id\": \"Glucopyranose_e\", \"coefficient\": -1.0}, {\"bigg_id\": \"PHOSPHO_ENOL_PYRUVATE_c\", \"coefficient\": -1.0}, {\"bigg_id\": \"D_glucopyranose_6_phosphate_c\", \"coefficient\": 1.0}, {\"bigg_id\": \"PYRUVATE_c\", \"coefficient\": 1.0}]}, \"1\": {\"name\": \"G6PDH2r\", \"bigg_id\": \"G6PDH2r\", \"reversibility\": true, \"label_x\": 912.0, \"label_y\": 45.0, \"gene_reaction_rule\": \"\", \"genes\": [], \"segments\": {\"6\": {\"from_node_id\": \"11\", \"to_node_id\": \"12\", \"b1\": null, \"b2\": null}, \"7\": {\"from_node_id\": \"13\", \"to_node_id\": \"12\", \"b1\": null, \"b2\": null}, \"8\": {\"from_node_id\": \"2\", \"to_node_id\": \"11\", \"b1\": null, \"b2\": null}, \"9\": {\"from_node_id\": \"7\", \"to_node_id\": \"11\", \"b1\": null, \"b2\": null}, \"10\": {\"from_node_id\": \"8\", \"to_node_id\": \"13\", \"b1\": null, \"b2\": null}, \"11\": {\"from_node_id\": \"9\", \"to_node_id\": \"13\", \"b1\": null, \"b2\": null}, \"12\": {\"from_node_id\": \"10\", \"to_node_id\": \"13\", \"b1\": null, \"b2\": null}}, \"metabolites\": [{\"bigg_id\": \"D_glucopyranose_6_phosphate_c\", \"coefficient\": -1.0}, {\"bigg_id\": \"NADP_c\", \"coefficient\": -1.0}, {\"bigg_id\": \"D_6_P_GLUCONO_DELTA_LACTONE_c\", \"coefficient\": 1.0}, {\"bigg_id\": \"NADPH_c\", \"coefficient\": 1.0}, {\"bigg_id\": \"PROTON_c\", \"coefficient\": 1.0}]}, \"2\": {\"name\": \"PGL\", \"bigg_id\": \"PGL\", \"reversibility\": true, \"label_x\": 1598.0, \"label_y\": 45.0, \"gene_reaction_rule\": \"\", \"genes\": [], \"segments\": {\"13\": {\"from_node_id\": \"17\", \"to_node_id\": \"18\", \"b1\": null, \"b2\": null}, \"14\": {\"from_node_id\": \"19\", \"to_node_id\": \"18\", \"b1\": null, \"b2\": null}, \"15\": {\"from_node_id\": \"14\", \"to_node_id\": \"17\", \"b1\": null, \"b2\": null}, \"16\": {\"from_node_id\": \"8\", \"to_node_id\": \"17\", \"b1\": null, \"b2\": null}, \"17\": {\"from_node_id\": \"15\", \"to_node_id\": \"19\", \"b1\": null, \"b2\": null}, \"18\": {\"from_node_id\": \"16\", \"to_node_id\": \"19\", \"b1\": null, \"b2\": null}}, \"metabolites\": [{\"bigg_id\": \"CPD_15815_c\", \"coefficient\": -1.0}, {\"bigg_id\": \"D_6_P_GLUCONO_DELTA_LACTONE_c\", \"coefficient\": -1.0}, {\"bigg_id\": \"CPD_2961_c\", \"coefficient\": 1.0}, {\"bigg_id\": \"PROTON_c\", \"coefficient\": 1.0}]}, \"3\": {\"name\": \"GND\", \"bigg_id\": \"GND\", \"reversibility\": true, \"label_x\": 2248.0, \"label_y\": 45.0, \"gene_reaction_rule\": \"\", \"genes\": [], \"segments\": {\"19\": {\"from_node_id\": \"24\", \"to_node_id\": \"25\", \"b1\": null, \"b2\": null}, \"20\": {\"from_node_id\": \"26\", \"to_node_id\": \"25\", \"b1\": null, \"b2\": null}, \"21\": {\"from_node_id\": \"15\", \"to_node_id\": \"24\", \"b1\": null, \"b2\": null}, \"22\": {\"from_node_id\": \"20\", \"to_node_id\": \"24\", \"b1\": null, \"b2\": null}, \"23\": {\"from_node_id\": \"21\", \"to_node_id\": \"26\", \"b1\": null, \"b2\": null}, \"24\": {\"from_node_id\": \"22\", \"to_node_id\": \"26\", \"b1\": null, \"b2\": null}, \"25\": {\"from_node_id\": \"23\", \"to_node_id\": \"26\", \"b1\": null, \"b2\": null}}, \"metabolites\": [{\"bigg_id\": \"CPD_2961_c\", \"coefficient\": -1.0}, {\"bigg_id\": \"NADP_c\", \"coefficient\": -1.0}, {\"bigg_id\": \"CARBON_DIOXIDE_c\", \"coefficient\": 1.0}, {\"bigg_id\": \"NADPH_c\", \"coefficient\": 1.0}, {\"bigg_id\": \"RIBULOSE_5P_c\", \"coefficient\": 1.0}]}}, \"nodes\": {\"0\": {\"node_type\": \"metabolite\", \"x\": 30.0, \"y\": 150.0, \"label_x\": 0.0, \"label_y\": 130.0, \"bigg_id\": \"Glucopyranose_e\", \"name\": \"Glucopyranose_e\", \"node_is_primary\": false}, \"1\": {\"node_type\": \"metabolite\", \"x\": 30.0, \"y\": 300.0, \"label_x\": 0.0, \"label_y\": 280.0, \"bigg_id\": \"PHOSPHO_ENOL_PYRUVATE_c\", \"name\": \"PHOSPHO_ENOL_PYRUVATE_c\", \"node_is_primary\": false}, \"2\": {\"node_type\": \"metabolite\", \"x\": 550.0, \"y\": 150.0, \"label_x\": 520.0, \"label_y\": 130.0, \"bigg_id\": \"D_glucopyranose_6_phosphate_c\", \"name\": \"D_glucopyranose_6_phosphate_c\", \"node_is_primary\": false}, \"3\": {\"node_type\": \"metabolite\", \"x\": 550.0, \"y\": 300.0, \"label_x\": 520.0, \"label_y\": 280.0, \"bigg_id\": \"PYRUVATE_c\", \"name\": \"PYRUVATE_c\", \"node_is_primary\": false}, \"4\": {\"node_type\": \"multimarker\", \"x\": 335.0, \"y\": 225.0}, \"5\": {\"node_type\": \"midmarker\", \"x\": 355.0, \"y\": 225.0}, \"6\": {\"node_type\": \"multimarker\", \"x\": 375.0, \"y\": 225.0}, \"7\": {\"node_type\": \"metabolite\", \"x\": 680.0, \"y\": 300.0, \"label_x\": 650.0, \"label_y\": 280.0, \"bigg_id\": \"NADP_c\", \"name\": \"NADP_c\", \"node_is_primary\": false}, \"8\": {\"node_type\": \"metabolite\", \"x\": 1200.0, \"y\": 112.5, \"label_x\": 1170.0, \"label_y\": 92.5, \"bigg_id\": \"D_6_P_GLUCONO_DELTA_LACTONE_c\", \"name\": \"D_6_P_GLUCONO_DELTA_LACTONE_c\", \"node_is_primary\": false}, \"9\": {\"node_type\": \"metabolite\", \"x\": 1200.0, \"y\": 225.0, \"label_x\": 1170.0, \"label_y\": 205.0, \"bigg_id\": \"NADPH_c\", \"name\": \"NADPH_c\", \"node_is_primary\": false}, \"10\": {\"node_type\": \"metabolite\", \"x\": 1200.0, \"y\": 337.5, \"label_x\": 1170.0, \"label_y\": 317.5, \"bigg_id\": \"PROTON_c\", \"name\": \"PROTON_c\", \"node_is_primary\": false}, \"11\": {\"node_type\": \"multimarker\", \"x\": 985.0, \"y\": 225.0}, \"12\": {\"node_type\": \"midmarker\", \"x\": 1005.0, \"y\": 225.0}, \"13\": {\"node_type\": \"multimarker\", \"x\": 1025.0, \"y\": 225.0}, \"14\": {\"node_type\": \"metabolite\", \"x\": 1330.0, \"y\": 150.0, \"label_x\": 1300.0, \"label_y\": 130.0, \"bigg_id\": \"CPD_15815_c\", \"name\": \"CPD_15815_c\", \"node_is_primary\": false}, \"15\": {\"node_type\": \"metabolite\", \"x\": 1850.0, \"y\": 150.0, \"label_x\": 1820.0, \"label_y\": 130.0, \"bigg_id\": \"CPD_2961_c\", \"name\": \"CPD_2961_c\", \"node_is_primary\": false}, \"16\": {\"node_type\": \"metabolite\", \"x\": 1850.0, \"y\": 300.0, \"label_x\": 1820.0, \"label_y\": 280.0, \"bigg_id\": \"PROTON_c\", \"name\": \"PROTON_c\", \"node_is_primary\": false}, \"17\": {\"node_type\": \"multimarker\", \"x\": 1635.0, \"y\": 225.0}, \"18\": {\"node_type\": \"midmarker\", \"x\": 1655.0, \"y\": 225.0}, \"19\": {\"node_type\": \"multimarker\", \"x\": 1675.0, \"y\": 225.0}, \"20\": {\"node_type\": \"metabolite\", \"x\": 1980.0, \"y\": 300.0, \"label_x\": 1950.0, \"label_y\": 280.0, \"bigg_id\": \"NADP_c\", \"name\": \"NADP_c\", \"node_is_primary\": false}, \"21\": {\"node_type\": \"metabolite\", \"x\": 2500.0, \"y\": 112.5, \"label_x\": 2470.0, \"label_y\": 92.5, \"bigg_id\": \"CARBON_DIOXIDE_c\", \"name\": \"CARBON_DIOXIDE_c\", \"node_is_primary\": false}, \"22\": {\"node_type\": \"metabolite\", \"x\": 2500.0, \"y\": 225.0, \"label_x\": 2470.0, \"label_y\": 205.0, \"bigg_id\": \"NADPH_c\", \"name\": \"NADPH_c\", \"node_is_primary\": false}, \"23\": {\"node_type\": \"metabolite\", \"x\": 2500.0, \"y\": 337.5, \"label_x\": 2470.0, \"label_y\": 317.5, \"bigg_id\": \"RIBULOSE_5P_c\", \"name\": \"RIBULOSE_5P_c\", \"node_is_primary\": false}, \"24\": {\"node_type\": \"multimarker\", \"x\": 2285.0, \"y\": 225.0}, \"25\": {\"node_type\": \"midmarker\", \"x\": 2305.0, \"y\": 225.0}, \"26\": {\"node_type\": \"multimarker\", \"x\": 2325.0, \"y\": 225.0}}, \"text_labels\": {}, \"canvas\": {\"x\": 0, \"y\": 0, \"width\": 2600, \"height\": 450}}]",
       "_loaded_model_json": null,
       "allow_building_duplicate_reactions": false,
       "and_method_in_gene_reaction_rule": "mean",
       "canvas_size_and_loc": null,
       "cofactors": [
        "atp",
        "adp",
        "nad",
        "nadh",
        "nadp",
        "nadph",
        "gtp",
        "gdp",
        "h",
        "coa",
        "ump",
        "h2o",
        "ppi"
       ],
       "disabled_buttons": [
        "Clear reaction data",
        "Clear gene data",
        "Clear metabolite data"
       ],
       "embedded_css": null,
       "enable_editing": true,
       "enable_keys": false,
       "enable_keys_with_tooltip": true,
       "enable_search": true,
       "enable_tooltips": false,
       "full_screen_button": {
        "enable_editing": true,
        "enable_keys": true,
        "enable_tooltips": [
         "label"
        ],
        "menu": "all",
        "scroll_behavior": "pan"
       },
       "gene_data": null,
       "gene_font_size": 18,
       "height": 500,
       "hide_all_labels": false,
       "hide_secondary_metabolites": false,
       "highlight_missing": false,
       "identifiers_on_map": "bigg_id",
       "layout": "IPY_MODEL_b710fa9c265b4847af5ccded61c22541",
       "marker_radius": 5,
       "menu": "all",
       "metabolite_compare_style": "log2_fold",
       "metabolite_data": null,
       "metabolite_no_data_color": "#ffffff",
       "metabolite_no_data_size": 10,
       "metabolite_scale": [
        {
         "color": "#fffaf0",
         "size": 20,
         "type": "min"
        },
        {
         "color": "#f1c470",
         "size": 30,
         "type": "median"
        },
        {
         "color": "#800000",
         "size": 40,
         "type": "max"
        }
       ],
       "metabolite_scale_preset": "WhYlRd",
       "metabolite_styles": [
        "color",
        "size",
        "text"
       ],
       "never_ask_before_quit": true,
       "primary_metabolite_radius": 20,
       "reaction_compare_style": "log2_fold",
       "reaction_data": null,
       "reaction_no_data_color": "#dcdcdc",
       "reaction_no_data_size": 8,
       "reaction_scale": {},
       "reaction_scale_preset": null,
       "reaction_styles": [
        "color",
        "text"
       ],
       "scroll_behavior": "none",
       "secondary_metabolite_radius": 10,
       "semantic_zoom": null,
       "show_gene_reaction_rules": false,
       "starting_reaction": null,
       "use_3d_transform": false,
       "zoom_to_element": null
      }
     },
     "f35b9afe3e9f48c18239d05dea3e5e6c": {
      "model_module": "escher",
      "model_module_version": "1.7.3",
      "model_name": "EscherMapModel",
      "state": {
       "_loaded_map_json": "[{\"map_name\": \"\", \"map_id\": \"\", \"map_description\": \"\", \"homepage\": \"\", \"schema\": \"https://escher.github.io/escher/jsonschema/1-0-0#\"}, {\"reactions\": {\"0\": {\"name\": \"GLCpts\", \"bigg_id\": \"GLCpts\", \"reversibility\": true, \"label_x\": 265.0, \"label_y\": 325.0, \"gene_reaction_rule\": \"\", \"genes\": [], \"segments\": {\"0\": {\"from_node_id\": \"4\", \"to_node_id\": \"5\", \"b1\": null, \"b2\": null}, \"1\": {\"from_node_id\": \"6\", \"to_node_id\": \"5\", \"b1\": null, \"b2\": null}, \"2\": {\"from_node_id\": \"0\", \"to_node_id\": \"4\", \"b1\": null, \"b2\": null}, \"3\": {\"from_node_id\": \"1\", \"to_node_id\": \"4\", \"b1\": null, \"b2\": null}, \"4\": {\"from_node_id\": \"2\", \"to_node_id\": \"6\", \"b1\": null, \"b2\": null}, \"5\": {\"from_node_id\": \"3\", \"to_node_id\": \"6\", \"b1\": null, \"b2\": null}}, \"metabolites\": [{\"bigg_id\": \"Glucopyranose_e\", \"coefficient\": -1.0}, {\"bigg_id\": \"PHOSPHO_ENOL_PYRUVATE_c\", \"coefficient\": -1.0}, {\"bigg_id\": \"D_glucopyranose_6_phosphate_c\", \"coefficient\": 1.0}, {\"bigg_id\": \"PYRUVATE_c\", \"coefficient\": 1.0}]}, \"1\": {\"name\": \"G6PDH2r\", \"bigg_id\": \"G6PDH2r\", \"reversibility\": true, \"label_x\": 265.0, \"label_y\": 975.0, \"gene_reaction_rule\": \"\", \"genes\": [], \"segments\": {\"6\": {\"from_node_id\": \"11\", \"to_node_id\": \"12\", \"b1\": null, \"b2\": null}, \"7\": {\"from_node_id\": \"13\", \"to_node_id\": \"12\", \"b1\": null, \"b2\": null}, \"8\": {\"from_node_id\": \"2\", \"to_node_id\": \"11\", \"b1\": null, \"b2\": null}, \"9\": {\"from_node_id\": \"7\", \"to_node_id\": \"11\", \"b1\": null, \"b2\": null}, \"10\": {\"from_node_id\": \"8\", \"to_node_id\": \"13\", \"b1\": null, \"b2\": null}, \"11\": {\"from_node_id\": \"9\", \"to_node_id\": \"13\", \"b1\": null, \"b2\": null}, \"12\": {\"from_node_id\": \"10\", \"to_node_id\": \"13\", \"b1\": null, \"b2\": null}}, \"metabolites\": [{\"bigg_id\": \"D_glucopyranose_6_phosphate_c\", \"coefficient\": -1.0}, {\"bigg_id\": \"NADP_c\", \"coefficient\": -1.0}, {\"bigg_id\": \"D_6_P_GLUCONO_DELTA_LACTONE_c\", \"coefficient\": 1.0}, {\"bigg_id\": \"NADPH_c\", \"coefficient\": 1.0}, {\"bigg_id\": \"PROTON_c\", \"coefficient\": 1.0}]}, \"2\": {\"name\": \"PGL\", \"bigg_id\": \"PGL\", \"reversibility\": true, \"label_x\": 265.0, \"label_y\": 1625.0, \"gene_reaction_rule\": \"\", \"genes\": [], \"segments\": {\"13\": {\"from_node_id\": \"17\", \"to_node_id\": \"18\", \"b1\": null, \"b2\": null}, \"14\": {\"from_node_id\": \"19\", \"to_node_id\": \"18\", \"b1\": null, \"b2\": null}, \"15\": {\"from_node_id\": \"14\", \"to_node_id\": \"17\", \"b1\": null, \"b2\": null}, \"16\": {\"from_node_id\": \"8\", \"to_node_id\": \"17\", \"b1\": null, \"b2\": null}, \"17\": {\"from_node_id\": \"15\", \"to_node_id\": \"19\", \"b1\": null, \"b2\": null}, \"18\": {\"from_node_id\": \"16\", \"to_node_id\": \"19\", \"b1\": null, \"b2\": null}}, \"metabolites\": [{\"bigg_id\": \"CPD_15815_c\", \"coefficient\": -1.0}, {\"bigg_id\": \"D_6_P_GLUCONO_DELTA_LACTONE_c\", \"coefficient\": -1.0}, {\"bigg_id\": \"CPD_2961_c\", \"coefficient\": 1.0}, {\"bigg_id\": \"PROTON_c\", \"coefficient\": 1.0}]}, \"3\": {\"name\": \"GND\", \"bigg_id\": \"GND\", \"reversibility\": true, \"label_x\": 265.0, \"label_y\": 2275.0, \"gene_reaction_rule\": \"\", \"genes\": [], \"segments\": {\"19\": {\"from_node_id\": \"24\", \"to_node_id\": \"25\", \"b1\": null, \"b2\": null}, \"20\": {\"from_node_id\": \"26\", \"to_node_id\": \"25\", \"b1\": null, \"b2\": null}, \"21\": {\"from_node_id\": \"15\", \"to_node_id\": \"24\", \"b1\": null, \"b2\": null}, \"22\": {\"from_node_id\": \"20\", \"to_node_id\": \"24\", \"b1\": null, \"b2\": null}, \"23\": {\"from_node_id\": \"21\", \"to_node_id\": \"26\", \"b1\": null, \"b2\": null}, \"24\": {\"from_node_id\": \"22\", \"to_node_id\": \"26\", \"b1\": null, \"b2\": null}, \"25\": {\"from_node_id\": \"23\", \"to_node_id\": \"26\", \"b1\": null, \"b2\": null}}, \"metabolites\": [{\"bigg_id\": \"CPD_2961_c\", \"coefficient\": -1.0}, {\"bigg_id\": \"NADP_c\", \"coefficient\": -1.0}, {\"bigg_id\": \"CARBON_DIOXIDE_c\", \"coefficient\": 1.0}, {\"bigg_id\": \"NADPH_c\", \"coefficient\": 1.0}, {\"bigg_id\": \"RIBULOSE_5P_c\", \"coefficient\": 1.0}]}}, \"nodes\": {\"0\": {\"node_type\": \"metabolite\", \"x\": 150.0, \"y\": 30.0, \"label_x\": 160.0, \"label_y\": 20.0, \"bigg_id\": \"Glucopyranose_e\", \"name\": \"Glucopyranose_e\", \"node_is_primary\": false}, \"1\": {\"node_type\": \"metabolite\", \"x\": 300.0, \"y\": 30.0, \"label_x\": 310.0, \"label_y\": 20.0, \"bigg_id\": \"PHOSPHO_ENOL_PYRUVATE_c\", \"name\": \"PHOSPHO_ENOL_PYRUVATE_c\", \"node_is_primary\": false}, \"2\": {\"node_type\": \"metabolite\", \"x\": 150.0, \"y\": 550.0, \"label_x\": 160.0, \"label_y\": 580.0, \"bigg_id\": \"D_glucopyranose_6_phosphate_c\", \"name\": \"D_glucopyranose_6_phosphate_c\", \"node_is_primary\": false}, \"3\": {\"node_type\": \"metabolite\", \"x\": 300.0, \"y\": 550.0, \"label_x\": 310.0, \"label_y\": 580.0, \"bigg_id\": \"PYRUVATE_c\", \"name\": \"PYRUVATE_c\", \"node_is_primary\": false}, \"4\": {\"node_type\": \"multimarker\", \"x\": 225.0, \"y\": 305.0}, \"5\": {\"node_type\": \"midmarker\", \"x\": 225.0, \"y\": 325.0}, \"6\": {\"node_type\": \"multimarker\", \"x\": 225.0, \"y\": 345.0}, \"7\": {\"node_type\": \"metabolite\", \"x\": 300.0, \"y\": 680.0, \"label_x\": 310.0, \"label_y\": 670.0, \"bigg_id\": \"NADP_c\", \"name\": \"NADP_c\", \"node_is_primary\": false}, \"8\": {\"node_type\": \"metabolite\", \"x\": 112.5, \"y\": 1200.0, \"label_x\": 122.5, \"label_y\": 1230.0, \"bigg_id\": \"D_6_P_GLUCONO_DELTA_LACTONE_c\", \"name\": \"D_6_P_GLUCONO_DELTA_LACTONE_c\", \"node_is_primary\": false}, \"9\": {\"node_type\": \"metabolite\", \"x\": 225.0, \"y\": 1200.0, \"label_x\": 235.0, \"label_y\": 1230.0, \"bigg_id\": \"NADPH_c\", \"name\": \"NADPH_c\", \"node_is_primary\": false}, \"10\": {\"node_type\": \"metabolite\", \"x\": 337.5, \"y\": 1200.0, \"label_x\": 347.5, \"label_y\": 1230.0, \"bigg_id\": \"PROTON_c\", \"name\": \"PROTON_c\", \"node_is_primary\": false}, \"11\": {\"node_type\": \"multimarker\", \"x\": 225.0, \"y\": 955.0}, \"12\": {\"node_type\": \"midmarker\", \"x\": 225.0, \"y\": 975.0}, \"13\": {\"node_type\": \"multimarker\", \"x\": 225.0, \"y\": 995.0}, \"14\": {\"node_type\": \"metabolite\", \"x\": 150.0, \"y\": 1330.0, \"label_x\": 160.0, \"label_y\": 1320.0, \"bigg_id\": \"CPD_15815_c\", \"name\": \"CPD_15815_c\", \"node_is_primary\": false}, \"15\": {\"node_type\": \"metabolite\", \"x\": 150.0, \"y\": 1850.0, \"label_x\": 160.0, \"label_y\": 1880.0, \"bigg_id\": \"CPD_2961_c\", \"name\": \"CPD_2961_c\", \"node_is_primary\": false}, \"16\": {\"node_type\": \"metabolite\", \"x\": 300.0, \"y\": 1850.0, \"label_x\": 310.0, \"label_y\": 1880.0, \"bigg_id\": \"PROTON_c\", \"name\": \"PROTON_c\", \"node_is_primary\": false}, \"17\": {\"node_type\": \"multimarker\", \"x\": 225.0, \"y\": 1605.0}, \"18\": {\"node_type\": \"midmarker\", \"x\": 225.0, \"y\": 1625.0}, \"19\": {\"node_type\": \"multimarker\", \"x\": 225.0, \"y\": 1645.0}, \"20\": {\"node_type\": \"metabolite\", \"x\": 300.0, \"y\": 1980.0, \"label_x\": 310.0, \"label_y\": 1970.0, \"bigg_id\": \"NADP_c\", \"name\": \"NADP_c\", \"node_is_primary\": false}, \"21\": {\"node_type\": \"metabolite\", \"x\": 112.5, \"y\": 2500.0, \"label_x\": 122.5, \"label_y\": 2530.0, \"bigg_id\": \"CARBON_DIOXIDE_c\", \"name\": \"CARBON_DIOXIDE_c\", \"node_is_primary\": false}, \"22\": {\"node_type\": \"metabolite\", \"x\": 225.0, \"y\": 2500.0, \"label_x\": 235.0, \"label_y\": 2530.0, \"bigg_id\": \"NADPH_c\", \"name\": \"NADPH_c\", \"node_is_primary\": false}, \"23\": {\"node_type\": \"metabolite\", \"x\": 337.5, \"y\": 2500.0, \"label_x\": 347.5, \"label_y\": 2530.0, \"bigg_id\": \"RIBULOSE_5P_c\", \"name\": \"RIBULOSE_5P_c\", \"node_is_primary\": false}, \"24\": {\"node_type\": \"multimarker\", \"x\": 225.0, \"y\": 2255.0}, \"25\": {\"node_type\": \"midmarker\", \"x\": 225.0, \"y\": 2275.0}, \"26\": {\"node_type\": \"multimarker\", \"x\": 225.0, \"y\": 2295.0}}, \"text_labels\": {}, \"canvas\": {\"x\": 0, \"y\": 0, \"width\": 450, \"height\": 2600}}]",
       "_loaded_model_json": null,
       "allow_building_duplicate_reactions": false,
       "and_method_in_gene_reaction_rule": "mean",
       "canvas_size_and_loc": null,
       "cofactors": [
        "atp",
        "adp",
        "nad",
        "nadh",
        "nadp",
        "nadph",
        "gtp",
        "gdp",
        "h",
        "coa",
        "ump",
        "h2o",
        "ppi"
       ],
       "disabled_buttons": [
        "Clear gene data",
        "Clear metabolite data"
       ],
       "embedded_css": null,
       "enable_editing": true,
       "enable_keys": false,
       "enable_keys_with_tooltip": true,
       "enable_search": true,
       "enable_tooltips": false,
       "full_screen_button": {
        "enable_editing": true,
        "enable_keys": true,
        "enable_tooltips": [
         "label"
        ],
        "menu": "all",
        "scroll_behavior": "pan"
       },
       "gene_data": null,
       "gene_font_size": 18,
       "height": 500,
       "hide_all_labels": false,
       "hide_secondary_metabolites": false,
       "highlight_missing": false,
       "identifiers_on_map": "bigg_id",
       "layout": "IPY_MODEL_b3279977475a4210951a9b8c86efa0e6",
       "marker_radius": 5,
       "menu": "all",
       "metabolite_compare_style": "log2_fold",
       "metabolite_data": null,
       "metabolite_no_data_color": "#ffffff",
       "metabolite_no_data_size": 10,
       "metabolite_scale": [
        {
         "color": "#fffaf0",
         "size": 20,
         "type": "min"
        },
        {
         "color": "#f1c470",
         "size": 30,
         "type": "median"
        },
        {
         "color": "#800000",
         "size": 40,
         "type": "max"
        }
       ],
       "metabolite_scale_preset": "WhYlRd",
       "metabolite_styles": [
        "color",
        "size",
        "text"
       ],
       "never_ask_before_quit": true,
       "primary_metabolite_radius": 20,
       "reaction_compare_style": "log2_fold",
       "reaction_data": {
        "G6PDH2r": -2,
        "GLCpts": -2,
        "GND": 1,
        "PGL": 0.4
       },
       "reaction_no_data_color": "#dcdcdc",
       "reaction_no_data_size": 8,
       "reaction_scale": [
        {
         "color": "rgb(220,220,220)",
         "type": "value",
         "value": 0.5
        },
        {
         "color": "rgb(220,220,220)",
         "type": "value",
         "value": 1
        },
        {
         "color": "rgb(220,220,220)",
         "type": "value",
         "value": 0
        },
        {
         "color": "rgb(220,220,220)",
         "type": "value",
         "value": -1
        },
        {
         "color": "rgb(220,220,220)",
         "type": "value",
         "value": -2
        }
       ],
       "reaction_scale_preset": null,
       "reaction_styles": [
        "color",
        "text"
       ],
       "scroll_behavior": "none",
       "secondary_metabolite_radius": 10,
       "semantic_zoom": null,
       "show_gene_reaction_rules": false,
       "starting_reaction": null,
       "use_3d_transform": false,
       "zoom_to_element": null
      }
     },
     "f419de90f92545fd9324bbcf7e4d3d77": {
      "model_module": "escher",
      "model_module_version": "1.7.3",
      "model_name": "EscherMapModel",
      "state": {
       "_loaded_map_json": "[{\"map_name\": \"\", \"map_id\": \"\", \"map_description\": \"\", \"homepage\": \"\", \"schema\": \"https://escher.github.io/escher/jsonschema/1-0-0#\"}, {\"reactions\": {\"0\": {\"name\": \"GLCpts\", \"bigg_id\": \"GLCpts\", \"reversibility\": true, \"label_x\": 265.0, \"label_y\": 325.0, \"gene_reaction_rule\": \"\", \"genes\": [], \"segments\": {\"0\": {\"from_node_id\": \"4\", \"to_node_id\": \"5\", \"b1\": null, \"b2\": null}, \"1\": {\"from_node_id\": \"6\", \"to_node_id\": \"5\", \"b1\": null, \"b2\": null}, \"2\": {\"from_node_id\": \"0\", \"to_node_id\": \"4\", \"b1\": null, \"b2\": null}, \"3\": {\"from_node_id\": \"1\", \"to_node_id\": \"4\", \"b1\": null, \"b2\": null}, \"4\": {\"from_node_id\": \"2\", \"to_node_id\": \"6\", \"b1\": null, \"b2\": null}, \"5\": {\"from_node_id\": \"3\", \"to_node_id\": \"6\", \"b1\": null, \"b2\": null}}, \"metabolites\": [{\"bigg_id\": \"Glucopyranose_e\", \"coefficient\": -1.0}, {\"bigg_id\": \"PHOSPHO_ENOL_PYRUVATE_c\", \"coefficient\": -1.0}, {\"bigg_id\": \"D_glucopyranose_6_phosphate_c\", \"coefficient\": 1.0}, {\"bigg_id\": \"PYRUVATE_c\", \"coefficient\": 1.0}]}, \"1\": {\"name\": \"G6PDH2r\", \"bigg_id\": \"G6PDH2r\", \"reversibility\": true, \"label_x\": 265.0, \"label_y\": 975.0, \"gene_reaction_rule\": \"\", \"genes\": [], \"segments\": {\"6\": {\"from_node_id\": \"11\", \"to_node_id\": \"12\", \"b1\": null, \"b2\": null}, \"7\": {\"from_node_id\": \"13\", \"to_node_id\": \"12\", \"b1\": null, \"b2\": null}, \"8\": {\"from_node_id\": \"2\", \"to_node_id\": \"11\", \"b1\": null, \"b2\": null}, \"9\": {\"from_node_id\": \"7\", \"to_node_id\": \"11\", \"b1\": null, \"b2\": null}, \"10\": {\"from_node_id\": \"8\", \"to_node_id\": \"13\", \"b1\": null, \"b2\": null}, \"11\": {\"from_node_id\": \"9\", \"to_node_id\": \"13\", \"b1\": null, \"b2\": null}, \"12\": {\"from_node_id\": \"10\", \"to_node_id\": \"13\", \"b1\": null, \"b2\": null}}, \"metabolites\": [{\"bigg_id\": \"D_glucopyranose_6_phosphate_c\", \"coefficient\": -1.0}, {\"bigg_id\": \"NADP_c\", \"coefficient\": -1.0}, {\"bigg_id\": \"D_6_P_GLUCONO_DELTA_LACTONE_c\", \"coefficient\": 1.0}, {\"bigg_id\": \"NADPH_c\", \"coefficient\": 1.0}, {\"bigg_id\": \"PROTON_c\", \"coefficient\": 1.0}]}, \"2\": {\"name\": \"PGL\", \"bigg_id\": \"PGL\", \"reversibility\": true, \"label_x\": 265.0, \"label_y\": 1625.0, \"gene_reaction_rule\": \"\", \"genes\": [], \"segments\": {\"13\": {\"from_node_id\": \"17\", \"to_node_id\": \"18\", \"b1\": null, \"b2\": null}, \"14\": {\"from_node_id\": \"19\", \"to_node_id\": \"18\", \"b1\": null, \"b2\": null}, \"15\": {\"from_node_id\": \"14\", \"to_node_id\": \"17\", \"b1\": null, \"b2\": null}, \"16\": {\"from_node_id\": \"8\", \"to_node_id\": \"17\", \"b1\": null, \"b2\": null}, \"17\": {\"from_node_id\": \"15\", \"to_node_id\": \"19\", \"b1\": null, \"b2\": null}, \"18\": {\"from_node_id\": \"16\", \"to_node_id\": \"19\", \"b1\": null, \"b2\": null}}, \"metabolites\": [{\"bigg_id\": \"CPD_15815_c\", \"coefficient\": -1.0}, {\"bigg_id\": \"D_6_P_GLUCONO_DELTA_LACTONE_c\", \"coefficient\": -1.0}, {\"bigg_id\": \"CPD_2961_c\", \"coefficient\": 1.0}, {\"bigg_id\": \"PROTON_c\", \"coefficient\": 1.0}]}, \"3\": {\"name\": \"GND\", \"bigg_id\": \"GND\", \"reversibility\": true, \"label_x\": 265.0, \"label_y\": 2275.0, \"gene_reaction_rule\": \"\", \"genes\": [], \"segments\": {\"19\": {\"from_node_id\": \"24\", \"to_node_id\": \"25\", \"b1\": null, \"b2\": null}, \"20\": {\"from_node_id\": \"26\", \"to_node_id\": \"25\", \"b1\": null, \"b2\": null}, \"21\": {\"from_node_id\": \"15\", \"to_node_id\": \"24\", \"b1\": null, \"b2\": null}, \"22\": {\"from_node_id\": \"20\", \"to_node_id\": \"24\", \"b1\": null, \"b2\": null}, \"23\": {\"from_node_id\": \"21\", \"to_node_id\": \"26\", \"b1\": null, \"b2\": null}, \"24\": {\"from_node_id\": \"22\", \"to_node_id\": \"26\", \"b1\": null, \"b2\": null}, \"25\": {\"from_node_id\": \"23\", \"to_node_id\": \"26\", \"b1\": null, \"b2\": null}}, \"metabolites\": [{\"bigg_id\": \"CPD_2961_c\", \"coefficient\": -1.0}, {\"bigg_id\": \"NADP_c\", \"coefficient\": -1.0}, {\"bigg_id\": \"CARBON_DIOXIDE_c\", \"coefficient\": 1.0}, {\"bigg_id\": \"NADPH_c\", \"coefficient\": 1.0}, {\"bigg_id\": \"RIBULOSE_5P_c\", \"coefficient\": 1.0}]}}, \"nodes\": {\"0\": {\"node_type\": \"metabolite\", \"x\": 150.0, \"y\": 30.0, \"label_x\": 160.0, \"label_y\": 20.0, \"bigg_id\": \"Glucopyranose_e\", \"name\": \"Glucopyranose_e\", \"node_is_primary\": false}, \"1\": {\"node_type\": \"metabolite\", \"x\": 300.0, \"y\": 30.0, \"label_x\": 310.0, \"label_y\": 20.0, \"bigg_id\": \"PHOSPHO_ENOL_PYRUVATE_c\", \"name\": \"PHOSPHO_ENOL_PYRUVATE_c\", \"node_is_primary\": false}, \"2\": {\"node_type\": \"metabolite\", \"x\": 150.0, \"y\": 550.0, \"label_x\": 160.0, \"label_y\": 580.0, \"bigg_id\": \"D_glucopyranose_6_phosphate_c\", \"name\": \"D_glucopyranose_6_phosphate_c\", \"node_is_primary\": false}, \"3\": {\"node_type\": \"metabolite\", \"x\": 300.0, \"y\": 550.0, \"label_x\": 310.0, \"label_y\": 580.0, \"bigg_id\": \"PYRUVATE_c\", \"name\": \"PYRUVATE_c\", \"node_is_primary\": false}, \"4\": {\"node_type\": \"multimarker\", \"x\": 225.0, \"y\": 305.0}, \"5\": {\"node_type\": \"midmarker\", \"x\": 225.0, \"y\": 325.0}, \"6\": {\"node_type\": \"multimarker\", \"x\": 225.0, \"y\": 345.0}, \"7\": {\"node_type\": \"metabolite\", \"x\": 300.0, \"y\": 680.0, \"label_x\": 310.0, \"label_y\": 670.0, \"bigg_id\": \"NADP_c\", \"name\": \"NADP_c\", \"node_is_primary\": false}, \"8\": {\"node_type\": \"metabolite\", \"x\": 112.5, \"y\": 1200.0, \"label_x\": 122.5, \"label_y\": 1230.0, \"bigg_id\": \"D_6_P_GLUCONO_DELTA_LACTONE_c\", \"name\": \"D_6_P_GLUCONO_DELTA_LACTONE_c\", \"node_is_primary\": false}, \"9\": {\"node_type\": \"metabolite\", \"x\": 225.0, \"y\": 1200.0, \"label_x\": 235.0, \"label_y\": 1230.0, \"bigg_id\": \"NADPH_c\", \"name\": \"NADPH_c\", \"node_is_primary\": false}, \"10\": {\"node_type\": \"metabolite\", \"x\": 337.5, \"y\": 1200.0, \"label_x\": 347.5, \"label_y\": 1230.0, \"bigg_id\": \"PROTON_c\", \"name\": \"PROTON_c\", \"node_is_primary\": false}, \"11\": {\"node_type\": \"multimarker\", \"x\": 225.0, \"y\": 955.0}, \"12\": {\"node_type\": \"midmarker\", \"x\": 225.0, \"y\": 975.0}, \"13\": {\"node_type\": \"multimarker\", \"x\": 225.0, \"y\": 995.0}, \"14\": {\"node_type\": \"metabolite\", \"x\": 150.0, \"y\": 1330.0, \"label_x\": 160.0, \"label_y\": 1320.0, \"bigg_id\": \"CPD_15815_c\", \"name\": \"CPD_15815_c\", \"node_is_primary\": false}, \"15\": {\"node_type\": \"metabolite\", \"x\": 150.0, \"y\": 1850.0, \"label_x\": 160.0, \"label_y\": 1880.0, \"bigg_id\": \"CPD_2961_c\", \"name\": \"CPD_2961_c\", \"node_is_primary\": false}, \"16\": {\"node_type\": \"metabolite\", \"x\": 300.0, \"y\": 1850.0, \"label_x\": 310.0, \"label_y\": 1880.0, \"bigg_id\": \"PROTON_c\", \"name\": \"PROTON_c\", \"node_is_primary\": false}, \"17\": {\"node_type\": \"multimarker\", \"x\": 225.0, \"y\": 1605.0}, \"18\": {\"node_type\": \"midmarker\", \"x\": 225.0, \"y\": 1625.0}, \"19\": {\"node_type\": \"multimarker\", \"x\": 225.0, \"y\": 1645.0}, \"20\": {\"node_type\": \"metabolite\", \"x\": 300.0, \"y\": 1980.0, \"label_x\": 310.0, \"label_y\": 1970.0, \"bigg_id\": \"NADP_c\", \"name\": \"NADP_c\", \"node_is_primary\": false}, \"21\": {\"node_type\": \"metabolite\", \"x\": 112.5, \"y\": 2500.0, \"label_x\": 122.5, \"label_y\": 2530.0, \"bigg_id\": \"CARBON_DIOXIDE_c\", \"name\": \"CARBON_DIOXIDE_c\", \"node_is_primary\": false}, \"22\": {\"node_type\": \"metabolite\", \"x\": 225.0, \"y\": 2500.0, \"label_x\": 235.0, \"label_y\": 2530.0, \"bigg_id\": \"NADPH_c\", \"name\": \"NADPH_c\", \"node_is_primary\": false}, \"23\": {\"node_type\": \"metabolite\", \"x\": 337.5, \"y\": 2500.0, \"label_x\": 347.5, \"label_y\": 2530.0, \"bigg_id\": \"RIBULOSE_5P_c\", \"name\": \"RIBULOSE_5P_c\", \"node_is_primary\": false}, \"24\": {\"node_type\": \"multimarker\", \"x\": 225.0, \"y\": 2255.0}, \"25\": {\"node_type\": \"midmarker\", \"x\": 225.0, \"y\": 2275.0}, \"26\": {\"node_type\": \"multimarker\", \"x\": 225.0, \"y\": 2295.0}}, \"text_labels\": {}, \"canvas\": {\"x\": 0, \"y\": 0, \"width\": 450, \"height\": 2600}}]",
       "_loaded_model_json": null,
       "allow_building_duplicate_reactions": false,
       "and_method_in_gene_reaction_rule": "mean",
       "canvas_size_and_loc": null,
       "cofactors": [
        "atp",
        "adp",
        "nad",
        "nadh",
        "nadp",
        "nadph",
        "gtp",
        "gdp",
        "h",
        "coa",
        "ump",
        "h2o",
        "ppi"
       ],
       "disabled_buttons": [
        "Clear gene data",
        "Clear metabolite data"
       ],
       "embedded_css": null,
       "enable_editing": true,
       "enable_keys": false,
       "enable_keys_with_tooltip": true,
       "enable_search": true,
       "enable_tooltips": false,
       "full_screen_button": {
        "enable_editing": true,
        "enable_keys": true,
        "enable_tooltips": [
         "label"
        ],
        "menu": "all",
        "scroll_behavior": "pan"
       },
       "gene_data": null,
       "gene_font_size": 18,
       "height": 500,
       "hide_all_labels": false,
       "hide_secondary_metabolites": false,
       "highlight_missing": false,
       "identifiers_on_map": "bigg_id",
       "layout": "IPY_MODEL_127fc501282c40a1857d7c6f6f542516",
       "marker_radius": 5,
       "menu": "all",
       "metabolite_compare_style": "log2_fold",
       "metabolite_data": null,
       "metabolite_no_data_color": "#ffffff",
       "metabolite_no_data_size": 10,
       "metabolite_scale": [
        {
         "color": "#fffaf0",
         "size": 20,
         "type": "min"
        },
        {
         "color": "#f1c470",
         "size": 30,
         "type": "median"
        },
        {
         "color": "#800000",
         "size": 40,
         "type": "max"
        }
       ],
       "metabolite_scale_preset": "WhYlRd",
       "metabolite_styles": [
        "color",
        "size",
        "text"
       ],
       "never_ask_before_quit": true,
       "primary_metabolite_radius": 20,
       "reaction_compare_style": "log2_fold",
       "reaction_data": {
        "G6PDH2r": -2,
        "GLCpts": -2,
        "GND": 1,
        "PGL": 0.4
       },
       "reaction_no_data_color": "#dcdcdc",
       "reaction_no_data_size": 8,
       "reaction_scale": [
        {
         "color": "rgb(146,189,146)",
         "type": "value",
         "value": 3.3333333333333335
        },
        {
         "color": "rgb(73,158,73)",
         "type": "value",
         "value": 6.666666666666666
        },
        {
         "color": "rgb(0,127,0)",
         "type": "value",
         "value": 10
        },
        {
         "color": "rgb(220,220,220)",
         "type": "value",
         "value": 0
        },
        {
         "color": "rgb(231,146,146)",
         "type": "value",
         "value": -3.3333333333333335
        },
        {
         "color": "rgb(243,73,73)",
         "type": "value",
         "value": -6.666666666666666
        },
        {
         "color": "rgb(255,0,0)",
         "type": "value",
         "value": -10
        }
       ],
       "reaction_scale_preset": null,
       "reaction_styles": [
        "color",
        "text"
       ],
       "scroll_behavior": "none",
       "secondary_metabolite_radius": 10,
       "semantic_zoom": null,
       "show_gene_reaction_rules": false,
       "starting_reaction": null,
       "use_3d_transform": false,
       "zoom_to_element": null
      }
     },
     "f427b761ea0e4e3bbf5d7c889cf631f9": {
      "model_module": "@jupyter-widgets/base",
      "model_module_version": "1.2.0",
      "model_name": "LayoutModel",
      "state": {}
     },
     "fbcd84da27af4a99b4808527256db7a3": {
      "model_module": "@jupyter-widgets/base",
      "model_module_version": "1.2.0",
      "model_name": "LayoutModel",
      "state": {}
     }
    },
    "version_major": 2,
    "version_minor": 0
   }
  }
 },
 "nbformat": 4,
 "nbformat_minor": 1
}
