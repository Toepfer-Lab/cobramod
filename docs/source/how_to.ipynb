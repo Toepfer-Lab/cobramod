{
 "cells": [
  {
   "cell_type": "markdown",
   "metadata": {
    "id": "XV2pICiM740l"
   },
   "source": [
    "# Functions"
   ]
  },
  {
   "cell_type": "code",
   "execution_count": 1,
   "metadata": {
    "colab": {
     "base_uri": "https://localhost:8080/"
    },
    "id": "jObtNBXPw30t",
    "outputId": "78786859-e494-4398-917d-9e4651934027"
   },
   "outputs": [
    {
     "name": "stdout",
     "output_type": "stream",
     "text": [
      "Scaling...\n",
      " A: min|aij| =  1.000e+00  max|aij| =  1.000e+00  ratio =  1.000e+00\n",
      "Problem data seem to be well scaled\n",
      "0.5.4\n"
     ]
    }
   ],
   "source": [
    "from IPython.display import display\n",
    "from cobramod import __version__\n",
    "print(__version__)\n",
    "# From Escher:\n",
    "# This option turns off the warning message if you leave or refresh this page\n",
    "import escher\n",
    "escher.rc['never_ask_before_quit'] = True"
   ]
  },
  {
   "cell_type": "markdown",
   "metadata": {
    "id": "tjphNJOQF7B3"
   },
   "source": [
    "## Retrieving metabolic pathway information\n",
    "\n",
    "CobraMod can obtain metabolic pathway information from multiple databases and supports all databases from the BioCyc collection, the \n",
    "KEGG database, Plant Metabolic Pathway Databases and the BiGG Models repository.\n",
    "Metabolic pathway information comes in form of metabolites, reactions and\n",
    "pathways. The users can load and call `cobramod.available_databases` to show a\n",
    "message about the supported databases.\n",
    "\n",
    "Each database handles their own internal identifiers. CobraMod can use\n",
    "these internal identifiers to download and store the metabolic pathway \n",
    "information. "
   ]
  },
  {
   "cell_type": "code",
   "execution_count": 2,
   "metadata": {
    "colab": {
     "base_uri": "https://localhost:8080/",
     "height": 339
    },
    "id": "FKwfLSf07408",
    "outputId": "0997d40d-e252-414d-c382-181b3deb430c"
   },
   "outputs": [
    {
     "data": {
      "text/html": [
       "<p>CobraMod supports Biocyc, the Plant Metabolic Network (PMN), KEGG and BiGG Models repository. Biocyc includes around 18.000 sub-databases. The complete list for BioCyc can be found in 'https://biocyc.org/biocyc-pgdb-list.shtml'. The database-specific identifiers can be found in the URL of the information to retrieve. e.g. diphosphate:</p>\n",
       "<table style=\"width: 100%; border-collapse: collapse; float: left;\" border=\"1\">\n",
       "<tbody> <tr> <td style=\"width: 50%;\"> <h3>Database</h3> </td> <td style=\"width:\n",
       "50%;\"> <h3>URL with identifier (bold)</h3> </td> </tr> <tr> <td style=\"width:\n",
       "50%;\">BioCyc, sub-database ECOLI</td> <td style=\"width:\n",
       "50%;\">https://biocyc.org/compound?orgid=ECOLI&amp;id=<strong>PPI</strong></td>\n",
       "</tr> <tr> <td style=\"width: 50%;\">Plant Metabolic Network, sub-database\n",
       "CORN</td> <td style=\"width:\n",
       "50%;\">https://pmn.plantcyc.org/compound?orgid=CORN&amp;id=<strong>PPI</strong></td>\n",
       "</tr> <tr> <td style=\"width: 50%;\">KEGG</td> <td style=\"width:\n",
       "50%;\">https://www.genome.jp/entry/<strong>C00013</strong></td> </tr> <tr> <td\n",
       "style=\"width: 50%;\">BiGG Models Repository, universal model</td> <td\n",
       "style=\"width:\n",
       "50%;\">http://bigg.ucsd.edu/universal/metabolites/<strong>ppi</strong></td>\n",
       "</tr> </tbody> </table> <p>CobraMod uses abbreviations to represent the\n",
       "databases or sub-databases:</p> <table style=\"width: 100%; border-collapse:\n",
       "collapse; float: left;\" border=\"1\"> <tbody> <tr> <td style=\"width: 50%;\">\n",
       "<h3>Database</h3> </td> <td style=\"width: 50%;\"> <h3>Abbreviation</h3> </td>\n",
       "</tr> <tr> <td style=\"width: 50%;\">BioCyc</td> <td style=\"width: 50%;\">META or\n",
       "identifier of sub-database e.g: ECOLI, ARA, GCF_000010885</td> </tr> <tr> <td\n",
       "style=\"width: 50%;\">Plant Metabolic Network</td> <td style=\"width: 50%;\">Prefix\n",
       "\"pmn:\" with the sub-database identifier, e.g pmn:PLANT, pmn:ARA, pmn:CORN</td>\n",
       "</tr> <tr> <td style=\"width: 50%;\">KEGG</td> <td style=\"width: 50%;\">KEGG</td>\n",
       "</tr> <tr> <td style=\"width: 50%;\">BiGG Models Repository</td> <td\n",
       "style=\"width: 50%;\">BIGG</td> </tr> </tbody> </table>\n"
      ],
      "text/plain": [
       "CobraMod supports Biocyc, the Plant Metabolic Network (PMN), KEGG and BiGG Models repository. Biocyc includes around 18.000 sub-databases. The complete list for BioCyc can be found in 'https://biocyc.org/biocyc-pgdb-list.shtml'. The database-specific identifiers can be found in the URL of the information to retrieve. e.g. diphosphate:\n",
       "\n",
       "BioCyc, sub-database ECOLI -> https://biocyc.org/compound?orgid=ECOLI&id=PPI ->\n",
       "PPI\n",
       "Plant Metabolic Network, sub-database CORN ->\n",
       "https://pmn.plantcyc.org/compound?orgid=CORN&id=PPI -> PPI\n",
       "KEGG ->\n",
       "https://www.genome.jp/entry/C00013 -> C00013\n",
       "BiGG Models Repository,\n",
       "universal model -> http://bigg.ucsd.edu/universal/metabolites/ppi -> ppi\n",
       "\n",
       "CobraMod uses abbreviations to represent the databases or sub-databases:\n",
       "\n",
       "Database -> Abbreviation\n",
       "BioCyc -> META or identifier of sub-database e.g:\n",
       "ECOLI, ARA, GCF_000010885\n",
       "Plant Metabolic Network -> pmn:PLANT or identifier\n",
       "of sub-database e.g pmn:ARA, pmn:CORN\n",
       "KEGG -> KEGG\n",
       "BiGG Models Repository ->\n",
       "BIGG\n",
       "        "
      ]
     },
     "execution_count": 2,
     "metadata": {},
     "output_type": "execute_result"
    }
   ],
   "source": [
    "from cobramod import available_databases\n",
    "                                         \n",
    "available_databases"
   ]
  },
  {
   "cell_type": "markdown",
   "metadata": {
    "id": "t3ADoeWMGqCV"
   },
   "source": [
    "\n",
    "\n",
    "The users can download the metabolic pathway information using the\n",
    "`cobramod.get_data` function. In this example we download information from \n",
    "MetaCyc:\n"
   ]
  },
  {
   "cell_type": "code",
   "execution_count": 3,
   "metadata": {
    "id": "RFawmPqO740o"
   },
   "outputs": [],
   "source": [
    "from cobramod import get_data\n",
    "from pathlib import Path\n",
    "\n",
    "dir_data = Path.cwd().resolve().joinpath(\"data\")\n",
    "identifiers = [\n",
    "    \"CPD-14074\",\n",
    "    \"CPD-14075\",\n",
    "    \"CPD-14076\",\n",
    "    \"CPD-14553\",\n",
    "    \"CPD-15317\",\n",
    "    \"CPD-15322\",\n",
    "    \"CPD-15323\",\n",
    "]\n",
    "\n",
    "for metabolite in identifiers:\n",
    "    get_data(\n",
    "        directory=dir_data,\n",
    "        identifier=metabolite,\n",
    "        database=\"YEAST\"\n",
    "    )"
   ]
  },
  {
   "cell_type": "markdown",
   "metadata": {
    "id": "GL14MNJG740q"
   },
   "source": [
    "The first argument in [cobramod.get_data()](\n",
    "module/cobramod/index.html#cobramod.get_data) is the system path where\n",
    "CobraMod stores the metabolic pathway information. We use [pathlib](\n",
    "https://docs.python.org/3/library/pathlib.html#pathlib.Path) for path \n",
    "representation.\n",
    "\n",
    "The next argument indicates the original identifier in given database. In\n",
    "this example we retrieve the data from MetaCyc (META). The last argument\n",
    "corresponds to the abbreviation of the database.\n",
    "\n",
    "CobraMod creates a directory with the name of the database and stores the\n",
    "metabolic pathway information in it:\n",
    "\n",
    "```\n",
    "data\n",
    "`-- META\n",
    "    |-- CPD-14074.xml\n",
    "    |-- CPD-14075.xml\n",
    "    |-- CPD-14076.xml\n",
    "    |-- CPD-14553.xml\n",
    "    |-- CPD-15317.xml\n",
    "    |-- CPD-15322.xml\n",
    "    `-- CPD-15323.xml\n",
    "```"
   ]
  },
  {
   "cell_type": "markdown",
   "metadata": {
    "id": "CjC8UWKk740t"
   },
   "source": [
    "## Converting the stored-data to COBRApy objects\n",
    "\n",
    "If the users want to analyze models using Constraint-Based Reconstruction and\n",
    "Analysis (COBRA) methods, they can use COBRApy. Our package is able to\n",
    "convert the metabolic pathway information into COBRApy objects so they can be\n",
    "incorporated into the model of interest.\n",
    "\n",
    "The function [cobramod.create_object()](\n",
    "module/cobramod/index.html#cobramod.create_object) creates COBRApy objects from \n",
    "the metabolic pathway information retrieved using [cobramod.get_data](\n",
    "module/cobramod/index.html#cobramod.get_data). In case that the metabolic\n",
    "pathway information was previously not downloaded, this function retrieves it automatically.\n",
    "\n",
    "The users can automatically create Reactions or Metabolites simply by using\n",
    "this function instead of creating them by scratch.\n",
    "\n",
    "In this example, we convert the metabolite *2-Oxoglutarate* with the\n",
    "KEGG identifier [C00026](\n",
    "https://www.genome.jp/dbget-bin/www_bget?C00026) to a COBRApy object.\n",
    "CobraMod can identify the KEGG entry as a metabolite and converts it into a\n",
    "COBRApy object. \n",
    "\n",
    "The first argument is the database-specific identifier (`C00026`), following\n",
    "the database abbreviation (`KEGG`). The third argument is the path \n",
    "representation for the directory of the metabolic pathway information. The last argument is the compartment of the reaction (`c` for cytosol)."
   ]
  },
  {
   "cell_type": "code",
   "execution_count": 4,
   "metadata": {
    "colab": {
     "base_uri": "https://localhost:8080/",
     "height": 168
    },
    "id": "s7osopQo740t",
    "outputId": "17998802-86ef-4621-8246-375e0f191e2c"
   },
   "outputs": [
    {
     "name": "stdout",
     "output_type": "stream",
     "text": [
      "<class 'cobra.core.metabolite.Metabolite'>\n"
     ]
    },
    {
     "data": {
      "text/html": [
       "\n",
       "        <table>\n",
       "            <tr>\n",
       "                <td><strong>Metabolite identifier</strong></td><td>C00026_c</td>\n",
       "            </tr><tr>\n",
       "                <td><strong>Name</strong></td><td>2-Oxoglutarate;</td>\n",
       "            </tr><tr>\n",
       "                <td><strong>Memory address</strong></td>\n",
       "                <td>0x07f20d88ef650</td>\n",
       "            </tr><tr>\n",
       "                <td><strong>Formula</strong></td><td>C5H6O5</td>\n",
       "            </tr><tr>\n",
       "                <td><strong>Compartment</strong></td><td>c</td>\n",
       "            </tr><tr>\n",
       "                <td><strong>In 0 reaction(s)</strong></td><td>\n",
       "                    </td>\n",
       "            </tr>\n",
       "        </table>"
      ],
      "text/plain": [
       "<Metabolite C00026_c at 0x7f20d88ef650>"
      ]
     },
     "execution_count": 4,
     "metadata": {},
     "output_type": "execute_result"
    }
   ],
   "source": [
    "from cobramod import create_object\n",
    "from pathlib import Path\n",
    "\n",
    "# Path for the metabolic pathway information directory                                                                        \n",
    "dir_data = Path.cwd().resolve().joinpath(\"data\")\n",
    "\n",
    "new_object = create_object(\n",
    "    identifier=\"C00026\",\n",
    "    database=\"KEGG\",\n",
    "    directory=dir_data,\n",
    "    compartment=\"c\"\n",
    ")\n",
    "                                             \n",
    "print(type(new_object))\n",
    "new_object"
   ]
  },
  {
   "cell_type": "markdown",
   "metadata": {
    "id": "N-0zvhHTJfAz"
   },
   "source": [
    "In this other example, we convert the reaction [RXN-11502](\n",
    "https://pmn.plantcyc.org/CORN/NEW-IMAGE?object=RXN-11502) from the Plant \n",
    "Metabolic Network sub-database CORN to a COBRApy Reaction. The\n",
    "first argument is the database-specific identifier (`RXN-11502`) following\n",
    "the database identifier (`pmn:CORN`). CobraMod uses the same\n",
    "reversibility and genes stated in their original database entry."
   ]
  },
  {
   "cell_type": "code",
   "execution_count": 5,
   "metadata": {
    "colab": {
     "base_uri": "https://localhost:8080/",
     "height": 285
    },
    "id": "60lBmpkt8qtF",
    "outputId": "5b356f8b-cbb4-44d3-8e30-8131187b4d3e"
   },
   "outputs": [
    {
     "name": "stdout",
     "output_type": "stream",
     "text": [
      "<class 'cobra.core.reaction.Reaction'>\n"
     ]
    },
    {
     "data": {
      "text/html": [
       "\n",
       "        <table>\n",
       "            <tr>\n",
       "                <td><strong>Reaction identifier</strong></td><td>RXN_11501_c</td>\n",
       "            </tr><tr>\n",
       "                <td><strong>Name</strong></td><td>alkaline &alpha;- galactosidase</td>\n",
       "            </tr><tr>\n",
       "                <td><strong>Memory address</strong></td>\n",
       "                <td>0x07f20d88f52d0</td>\n",
       "            </tr><tr>\n",
       "                <td><strong>Stoichiometry</strong></td>\n",
       "                <td>\n",
       "                    <p style='text-align:right'>CPD_170_c + WATER_c --> ALPHA_D_GALACTOSE_c + CPD_1099_c</p>\n",
       "                    <p style='text-align:right'>stachyose + H2O --> alpha-D-galactopyranose + raffinose</p>\n",
       "                </td>\n",
       "            </tr><tr>\n",
       "                <td><strong>GPR</strong></td><td>ZM00001D031300 or ZM00001D031303 or ZM00001D003279</td>\n",
       "            </tr><tr>\n",
       "                <td><strong>Lower bound</strong></td><td>0</td>\n",
       "            </tr><tr>\n",
       "                <td><strong>Upper bound</strong></td><td>1000</td>\n",
       "            </tr>\n",
       "        </table>\n",
       "        "
      ],
      "text/plain": [
       "<Reaction RXN_11501_c at 0x7f20d88f52d0>"
      ]
     },
     "metadata": {},
     "output_type": "display_data"
    },
    {
     "data": {
      "text/plain": [
       "frozenset({<Gene ZM00001D003279 at 0x7f20d88fbe90>,\n",
       "           <Gene ZM00001D031300 at 0x7f20d88fbf90>,\n",
       "           <Gene ZM00001D031303 at 0x7f20d88fbed0>})"
      ]
     },
     "execution_count": 5,
     "metadata": {},
     "output_type": "execute_result"
    }
   ],
   "source": [
    "new_object = create_object(\n",
    "    identifier=\"RXN-11501\",\n",
    "    database=\"pmn:CORN\",\n",
    "    directory=dir_data,\n",
    "    compartment=\"c\"\n",
    ")\n",
    "                                             \n",
    "print(type(new_object))\n",
    "display(new_object)\n",
    "new_object.genes"
   ]
  },
  {
   "cell_type": "markdown",
   "metadata": {
    "id": "jlw6Vkuy740u"
   },
   "source": [
    "\n",
    "## Adding metabolites\n",
    "\n",
    "The function [cobramod.add_metabolites()](\n",
    "module/cobramod/index.html#cobramod.add_metabolites)\n",
    "extends the COBRApy function [model.add_metabolites()](\n",
    "https://cobrapy.readthedocs.io/en/latest/autoapi/cobra/core/model/index.html#cobra.core.model.Model.add_metabolites\n",
    ") and can be used with a simple syntax. It can utilize a single string, a list of strings, a file path or a COBRAPy Metabolite object. In the next\n",
    "examples we showcase these options. We use the *E. coli* core model from COBRApy as test model. This core model can be found under `cobramod.test.textbook`. \n",
    "\n",
    "When the users use `obj` as a string, this string can be the\n",
    "database-specific identifier of the metabolite of interest and its compartment.\n",
    "It is also possible to add user-curated metabolites. This argument uses the following syntax:\n",
    "\n",
    "------\n",
    "\n",
    "**SYNTAX**  \n",
    "To metabolic pathway information from a database:\n",
    "\n",
    "    database-specific_identifier, compartment\n",
    "\n",
    "To add user-curated metabolites: [use same structure as above]\n",
    "\n",
    "    user-curated_identifier, name, compartment, chemical_formula, molecular_charge\n",
    "\n",
    "------\n",
    "\n",
    "In the first example we add the metabolite *L-methionine* with the MetaCyc\n",
    "identifier [MET](\n",
    "https://metacyc.org/compound?orgid=META&id=MET) to the test model. The first\n",
    "argument is the model to extend. The `obj` argument use the identifier\n",
    "`MET` and the compartment `c`. The next argument is the database identifier\n",
    "(`META`) and finally the directory where CobraMod stores and uses the\n",
    "metabolic pathway information.\n"
   ]
  },
  {
   "cell_type": "code",
   "execution_count": 6,
   "metadata": {
    "colab": {
     "base_uri": "https://localhost:8080/",
     "height": 168
    },
    "id": "TgiIWEX3740v",
    "outputId": "ecc152aa-09a2-4ffe-fad4-d46df8b269ba"
   },
   "outputs": [
    {
     "name": "stdout",
     "output_type": "stream",
     "text": [
      "<class 'cobra.core.metabolite.Metabolite'>\n"
     ]
    },
    {
     "data": {
      "text/html": [
       "\n",
       "        <table>\n",
       "            <tr>\n",
       "                <td><strong>Metabolite identifier</strong></td><td>MET_c</td>\n",
       "            </tr><tr>\n",
       "                <td><strong>Name</strong></td><td>L-methionine</td>\n",
       "            </tr><tr>\n",
       "                <td><strong>Memory address</strong></td>\n",
       "                <td>0x07f20d81d5d10</td>\n",
       "            </tr><tr>\n",
       "                <td><strong>Formula</strong></td><td>C5H11N1O2S1</td>\n",
       "            </tr><tr>\n",
       "                <td><strong>Compartment</strong></td><td>c</td>\n",
       "            </tr><tr>\n",
       "                <td><strong>In 0 reaction(s)</strong></td><td>\n",
       "                    </td>\n",
       "            </tr>\n",
       "        </table>"
      ],
      "text/plain": [
       "<Metabolite MET_c at 0x7f20d81d5d10>"
      ]
     },
     "execution_count": 6,
     "metadata": {},
     "output_type": "execute_result"
    }
   ],
   "source": [
    "from cobramod import add_metabolites\n",
    "from cobramod.test import textbook_biocyc\n",
    "from pathlib import Path\n",
    "\n",
    "# Path for the metabolic pathway information directory                                                                        \n",
    "dir_data = Path.cwd().resolve().joinpath(\"data\")\n",
    "# Using copy\n",
    "test_model = textbook_biocyc.copy()\n",
    "\n",
    "add_metabolites(\n",
    "    model=test_model,\n",
    "    obj=\"MET, c\",\n",
    "    database=\"META\",\n",
    "    directory=dir_data,\n",
    ")\n",
    "print(type(test_model.metabolites.get_by_id(\"MET_c\")))\n",
    "test_model.metabolites.get_by_id(\"MET_c\")"
   ]
  },
  {
   "cell_type": "markdown",
   "metadata": {
    "id": "32whoodj740v"
   },
   "source": [
    "In this second example we add two metabolites ([methionine](\n",
    "https://metacyc.org/compound?orgid=META&id=MET) and [sucrose](\n",
    "https://metacyc.org/compound?orgid=META&id=SUCROSE\n",
    ")) from MetaCyc. We introduce\n",
    "in the argument `obj` a list with the database-specific identifier and their\n",
    "compartments. The rest of  the arguments remain the same as the previous example.\n",
    "CobraMod skips the addition of metabolites that are already included into\n",
    "the model and shows a warning.\n"
   ]
  },
  {
   "cell_type": "code",
   "execution_count": 7,
   "metadata": {
    "colab": {
     "base_uri": "https://localhost:8080/",
     "height": 318
    },
    "id": "TOWdeeQD740w",
    "outputId": "391f2229-88b5-46ee-e9e6-e8fae9135c39"
   },
   "outputs": [
    {
     "name": "stderr",
     "output_type": "stream",
     "text": [
      "/home/stefano/Documents/cobramod/src/cobramod/core/creation.py:1005: UserWarning: Metabolite \"MET_c\" is already present in the model. Skipping addition.\n",
      "  warn(message=msg, category=UserWarning)\n"
     ]
    },
    {
     "data": {
      "text/html": [
       "\n",
       "        <table>\n",
       "            <tr>\n",
       "                <td><strong>Metabolite identifier</strong></td><td>MET_c</td>\n",
       "            </tr><tr>\n",
       "                <td><strong>Name</strong></td><td>L-methionine</td>\n",
       "            </tr><tr>\n",
       "                <td><strong>Memory address</strong></td>\n",
       "                <td>0x07f20d81d5d10</td>\n",
       "            </tr><tr>\n",
       "                <td><strong>Formula</strong></td><td>C5H11N1O2S1</td>\n",
       "            </tr><tr>\n",
       "                <td><strong>Compartment</strong></td><td>c</td>\n",
       "            </tr><tr>\n",
       "                <td><strong>In 0 reaction(s)</strong></td><td>\n",
       "                    </td>\n",
       "            </tr>\n",
       "        </table>"
      ],
      "text/plain": [
       "<Metabolite MET_c at 0x7f20d81d5d10>"
      ]
     },
     "metadata": {},
     "output_type": "display_data"
    },
    {
     "data": {
      "text/html": [
       "\n",
       "        <table>\n",
       "            <tr>\n",
       "                <td><strong>Metabolite identifier</strong></td><td>SUCROSE_c</td>\n",
       "            </tr><tr>\n",
       "                <td><strong>Name</strong></td><td>sucrose</td>\n",
       "            </tr><tr>\n",
       "                <td><strong>Memory address</strong></td>\n",
       "                <td>0x07f20d81d7d10</td>\n",
       "            </tr><tr>\n",
       "                <td><strong>Formula</strong></td><td>C12H22O11</td>\n",
       "            </tr><tr>\n",
       "                <td><strong>Compartment</strong></td><td>c</td>\n",
       "            </tr><tr>\n",
       "                <td><strong>In 0 reaction(s)</strong></td><td>\n",
       "                    </td>\n",
       "            </tr>\n",
       "        </table>"
      ],
      "text/plain": [
       "<Metabolite SUCROSE_c at 0x7f20d81d7d10>"
      ]
     },
     "execution_count": 7,
     "metadata": {},
     "output_type": "execute_result"
    }
   ],
   "source": [
    "add_metabolites(\n",
    "    model=test_model,\n",
    "    obj=[\"MET, c\", \"SUCROSE, c\"],\n",
    "    database=\"META\",\n",
    "    directory=dir_data,\n",
    ")\n",
    "# Show metabolites in jupyter\n",
    "display(test_model.metabolites.get_by_id(\"MET_c\"))  \n",
    "test_model.metabolites.get_by_id(\"SUCROSE_c\")"
   ]
  },
  {
   "cell_type": "markdown",
   "metadata": {
    "id": "_r-7dIhC740x"
   },
   "source": [
    "In this third example, we use a text file to add metabolites to the test\n",
    "model. We have the file *metabolites.txt* in the current working directory with given content:\n",
    "\n",
    "    SUCROSE, c  \n",
    "    MET, c  \n",
    "    MALTOSE_c, MALTOSE[c], c, C12H22O11, 1\n",
    "\n",
    "CobraMod downloads the first two metabolites from MetaCyc, while `MALTOSE_c`\n",
    "is a user-curated metabolite. \n",
    "\n",
    "The users can utilize the file path for this file in the `obj` argument to add\n",
    "the metabolites in the test model. The next arguments are the same as in\n",
    "the previous examples. We added two print statements to show that CobraMod adds\n",
    "the metabolites to the model."
   ]
  },
  {
   "cell_type": "code",
   "execution_count": 8,
   "metadata": {
    "colab": {
     "base_uri": "https://localhost:8080/",
     "height": 448
    },
    "id": "YfbHsvk0740x",
    "outputId": "7060b669-a345-4480-a37f-89d5a5681956"
   },
   "outputs": [
    {
     "name": "stdout",
     "output_type": "stream",
     "text": [
      "Number of metabolites prior addition: 72\n",
      "Number of metabolites after addition: 75\n"
     ]
    },
    {
     "data": {
      "text/html": [
       "\n",
       "        <table>\n",
       "            <tr>\n",
       "                <td><strong>Metabolite identifier</strong></td><td>MET_c</td>\n",
       "            </tr><tr>\n",
       "                <td><strong>Name</strong></td><td>L-methionine</td>\n",
       "            </tr><tr>\n",
       "                <td><strong>Memory address</strong></td>\n",
       "                <td>0x07f20d8112d90</td>\n",
       "            </tr><tr>\n",
       "                <td><strong>Formula</strong></td><td>C5H11N1O2S1</td>\n",
       "            </tr><tr>\n",
       "                <td><strong>Compartment</strong></td><td>c</td>\n",
       "            </tr><tr>\n",
       "                <td><strong>In 0 reaction(s)</strong></td><td>\n",
       "                    </td>\n",
       "            </tr>\n",
       "        </table>"
      ],
      "text/plain": [
       "<Metabolite MET_c at 0x7f20d8112d90>"
      ]
     },
     "metadata": {},
     "output_type": "display_data"
    },
    {
     "data": {
      "text/html": [
       "\n",
       "        <table>\n",
       "            <tr>\n",
       "                <td><strong>Metabolite identifier</strong></td><td>SUCROSE_c</td>\n",
       "            </tr><tr>\n",
       "                <td><strong>Name</strong></td><td>sucrose</td>\n",
       "            </tr><tr>\n",
       "                <td><strong>Memory address</strong></td>\n",
       "                <td>0x07f20d8904890</td>\n",
       "            </tr><tr>\n",
       "                <td><strong>Formula</strong></td><td>C12H22O11</td>\n",
       "            </tr><tr>\n",
       "                <td><strong>Compartment</strong></td><td>c</td>\n",
       "            </tr><tr>\n",
       "                <td><strong>In 0 reaction(s)</strong></td><td>\n",
       "                    </td>\n",
       "            </tr>\n",
       "        </table>"
      ],
      "text/plain": [
       "<Metabolite SUCROSE_c at 0x7f20d8904890>"
      ]
     },
     "metadata": {},
     "output_type": "display_data"
    },
    {
     "data": {
      "text/html": [
       "\n",
       "        <table>\n",
       "            <tr>\n",
       "                <td><strong>Metabolite identifier</strong></td><td>MALTOSE_c</td>\n",
       "            </tr><tr>\n",
       "                <td><strong>Name</strong></td><td>MALTOSE[c]</td>\n",
       "            </tr><tr>\n",
       "                <td><strong>Memory address</strong></td>\n",
       "                <td>0x07f20d88fb410</td>\n",
       "            </tr><tr>\n",
       "                <td><strong>Formula</strong></td><td>C12H22O11</td>\n",
       "            </tr><tr>\n",
       "                <td><strong>Compartment</strong></td><td>c</td>\n",
       "            </tr><tr>\n",
       "                <td><strong>In 0 reaction(s)</strong></td><td>\n",
       "                    </td>\n",
       "            </tr>\n",
       "        </table>"
      ],
      "text/plain": [
       "<Metabolite MALTOSE_c at 0x7f20d88fb410>"
      ]
     },
     "execution_count": 8,
     "metadata": {},
     "output_type": "execute_result"
    }
   ],
   "source": [
    "# Path for the metabolic pathway information directory\n",
    "dir_data = Path.cwd().resolve().joinpath(\"data\")\n",
    "# This is our file\n",
    "file = dir_data.joinpath(\"metabolites.txt\")\n",
    "# Using a copy\n",
    "test_model = textbook_biocyc.copy()\n",
    "\n",
    "print(f'Number of metabolites prior addition: {len(test_model.metabolites)}')\n",
    "# Using CobraMod\n",
    "add_metabolites(\n",
    "    model=test_model,\n",
    "    obj=file,\n",
    "    directory=dir_data,\n",
    "    database=\"META\",\n",
    ")\n",
    "print(f'Number of metabolites after addition: {len(test_model.metabolites)}')\n",
    "# Show metabolites in jupyter\n",
    "display(test_model.metabolites.get_by_id(\"MET_c\"))\n",
    "display(test_model.metabolites.get_by_id(\"SUCROSE_c\"))\n",
    "test_model.metabolites.get_by_id(\"MALTOSE_c\")"
   ]
  },
  {
   "cell_type": "markdown",
   "metadata": {
    "id": "uNbBaakL740x"
   },
   "source": [
    "Since this function is an extension of the original COBRApy function [model.add_metabolites()](\n",
    "https://cobrapy.readthedocs.io/en/latest/autoapi/cobra/core/model/index.html#cobra.core.model.Model.add_metabolites)\n",
    "the users can also utilize COBRApy Metabolites. In this example, we use a variation of the test model (`textbook_biocyc`) which uses\n",
    "BioCyc identifiers for their metabolites. We copy a COBRApy Metabolite from\n",
    "the test model and then add it to the BioCyc-test model. "
   ]
  },
  {
   "cell_type": "code",
   "execution_count": 9,
   "metadata": {
    "colab": {
     "base_uri": "https://localhost:8080/",
     "height": 147
    },
    "id": "KN5D_mmH740z",
    "outputId": "c21e9f0c-35ff-44c6-eee3-fb123a7dbc74"
   },
   "outputs": [
    {
     "data": {
      "text/html": [
       "\n",
       "        <table>\n",
       "            <tr>\n",
       "                <td><strong>Metabolite identifier</strong></td><td>xu5p__D_c</td>\n",
       "            </tr><tr>\n",
       "                <td><strong>Name</strong></td><td>D-Xylulose 5-phosphate</td>\n",
       "            </tr><tr>\n",
       "                <td><strong>Memory address</strong></td>\n",
       "                <td>0x07f20d86981d0</td>\n",
       "            </tr><tr>\n",
       "                <td><strong>Formula</strong></td><td>C5H9O8P</td>\n",
       "            </tr><tr>\n",
       "                <td><strong>Compartment</strong></td><td>c</td>\n",
       "            </tr><tr>\n",
       "                <td><strong>In 3 reaction(s)</strong></td><td>\n",
       "                    RPE, TKT2, TKT1</td>\n",
       "            </tr>\n",
       "        </table>"
      ],
      "text/plain": [
       "<Metabolite xu5p__D_c at 0x7f20d86981d0>"
      ]
     },
     "execution_count": 9,
     "metadata": {},
     "output_type": "execute_result"
    }
   ],
   "source": [
    "from cobramod import add_metabolites\n",
    "from cobramod.test import textbook, textbook_biocyc\n",
    "                        \n",
    "# Copying Metabolite from original model\n",
    "metabolite = textbook.metabolites.get_by_id(\"xu5p__D_c\")\n",
    "# Using a copy\n",
    "test_model = textbook_biocyc.copy()\n",
    "add_metabolites(\n",
    "    model=test_model,\n",
    "    obj=metabolite\n",
    ")\n",
    "                                                               \n",
    "test_model.metabolites.get_by_id(\"xu5p__D_c\")"
   ]
  },
  {
   "cell_type": "markdown",
   "metadata": {
    "id": "P6oD20PKuJYu"
   },
   "source": [
    "The users receive a warning if CobraMod detects large molecules (e.g.  enzymes) or if the metabolite information does not include a chemical\n",
    "formula. In this example, we use the enzyme with the MetaCyc identifier\n",
    "`Red-NADPH-Hemoprotein-Reductases` and added to the test model. In this case,\n",
    "CobraMod raises a warning due to the missing chemical formula."
   ]
  },
  {
   "cell_type": "code",
   "execution_count": 10,
   "metadata": {
    "colab": {
     "base_uri": "https://localhost:8080/",
     "height": 208
    },
    "id": "z3WOnVwEuJi2",
    "outputId": "7627824c-bdd1-4601-92ef-72b1797f2fd8"
   },
   "outputs": [
    {
     "name": "stderr",
     "output_type": "stream",
     "text": [
      "/home/stefano/Documents/cobramod/src/cobramod/parsing/biocyc.py:110: UserWarning: Sum formula for the metabolite \"Red-NADPH-Hemoprotein-Reductases\" from BioCyc could not be found. Formula set to \"X\" and charge to 0. Please curate.\n",
      "  warn(msg)\n"
     ]
    },
    {
     "data": {
      "text/html": [
       "\n",
       "        <table>\n",
       "            <tr>\n",
       "                <td><strong>Metabolite identifier</strong></td><td>Red_NADPH_Hemoprotein_Reductases_c</td>\n",
       "            </tr><tr>\n",
       "                <td><strong>Name</strong></td><td>Red-NADPH-Hemoprotein-Reductases</td>\n",
       "            </tr><tr>\n",
       "                <td><strong>Memory address</strong></td>\n",
       "                <td>0x07f20d820ffd0</td>\n",
       "            </tr><tr>\n",
       "                <td><strong>Formula</strong></td><td>X</td>\n",
       "            </tr><tr>\n",
       "                <td><strong>Compartment</strong></td><td>c</td>\n",
       "            </tr><tr>\n",
       "                <td><strong>In 0 reaction(s)</strong></td><td>\n",
       "                    </td>\n",
       "            </tr>\n",
       "        </table>"
      ],
      "text/plain": [
       "<Metabolite Red_NADPH_Hemoprotein_Reductases_c at 0x7f20d820ffd0>"
      ]
     },
     "execution_count": 10,
     "metadata": {},
     "output_type": "execute_result"
    }
   ],
   "source": [
    "# Using a copy\n",
    "test_model = textbook.copy()\n",
    "\n",
    "add_metabolites(\n",
    "    model=test_model,\n",
    "    obj=\"Red-NADPH-Hemoprotein-Reductases, c\",\n",
    "    directory=dir_data,\n",
    "    database=\"META\",\n",
    ")\n",
    "test_model.metabolites.get_by_id(\"Red_NADPH_Hemoprotein_Reductases_c\")"
   ]
  },
  {
   "cell_type": "markdown",
   "metadata": {
    "id": "7OCkus3m740z"
   },
   "source": [
    "----------------\n",
    "\n",
    "**NOTES**\n",
    "\n",
    "- CobraMod replaces hyphens (`-`) to underscores (`_`) in the identifiers when\n",
    "creating COBRApy Metabolites.\n",
    "- The users must use the same database identifier, when adding multiple\n",
    "metabolites, e.g. It is not possible to use two databases with the same\n",
    "function. In that case, the users should call the function twice with the\n",
    "respective database identifier.\n",
    "\n",
    "----------------\n",
    "\n",
    "## Adding reactions\n",
    "\n",
    "The function [cobramod.add_reactions](\n",
    "module/cobramod/index.html#cobramod.add_reactions) extends the COBRApy\n",
    "function [model.add_reactions()](\n",
    "https://cobrapy.readthedocs.io/en/latest/autoapi/cobra/index.html?highlight=optimize#cobra.Model.add_reactions\n",
    ") and can be used with a simple syntax. It can utilize a single string, a \n",
    "list of string, a file path or a COBRApy Reaction object. In the examples we\n",
    "showcase these options. We use the *E. coli* core model from COBRApy as test model. This core model can be found\n",
    "under `cobramod.test.textbook`. \n",
    "\n",
    "When the users use `obj` as a string, this string can be the\n",
    "database-specific identifier of the reaction of interest and its\n",
    "compartment. It is also possible to add user-curated reactions. This argument\n",
    "uses the following syntax:\n",
    "\n",
    "--------\n",
    "\n",
    "**SYNTAX**  \n",
    "\n",
    "To retrieve reactions from a database:\n",
    "\n",
    "    database-specific_identifier, compartment\n",
    "\n",
    "In case of user-curated reactions, the users can specify the identifier and the name of the reaction, following the [COBRApy reaction string syntax](\n",
    "  https://cobrapy.readthedocs.io/en/latest/autoapi/cobra/core/reaction/index.html#cobra.core.reaction.Reaction.build_reaction_from_string\n",
    "):\n",
    "\n",
    "    user-curated_identifier, name | coefficient_1 metabolite_1 <-> coefficient_2 metabolite_2\n",
    "\n",
    "Metabolites need to include its compartment with a suffix, defined by an underscore (`_`) and a letter: e.g: \n",
    "\n",
    "    TRANS_H2O_ec, Oxygen Transport | 2 OXYGEN-MOLECULE_e <-> 2 OXYGEN_MOLECULE_c\n",
    "\n",
    "-------\n",
    "\n",
    "In the first example we add the KEGG reaction [R04382](\n",
    "https://www.kegg.jp/dbget-bin/www_bget?rn:R04382\n",
    ") to the test model. The first argument is the model to extend. The `obj`\n",
    "argument use the identifier `R04382` and the compartment `c`. The next argument is the database identifier (`KEGG`) and finally the directory where CobraMod stores and uses the metabolic pathway information. The argument `genome` is a \n",
    "KEGG-specific argument. Please read the notes below for more information about it.\n",
    "\n",
    "CobraMod parses the metabolic pathway information and creates the corresponding\n",
    "genes. In this example, CobraMod will create the gene `c0319` and add it to the\n",
    "COBRApy reaction."
   ]
  },
  {
   "cell_type": "code",
   "execution_count": 11,
   "metadata": {
    "colab": {
     "base_uri": "https://localhost:8080/",
     "height": 224
    },
    "id": "Gcf5g4dB740z",
    "outputId": "cd7e6668-7897-49b3-ccad-d21c79a81d08"
   },
   "outputs": [
    {
     "data": {
      "text/html": [
       "\n",
       "        <table>\n",
       "            <tr>\n",
       "                <td><strong>Reaction identifier</strong></td><td>R04382_c</td>\n",
       "            </tr><tr>\n",
       "                <td><strong>Name</strong></td><td>4-(4-deoxy-alpha-D-galact-4-enuronosyl)-D-galacturonate lyase</td>\n",
       "            </tr><tr>\n",
       "                <td><strong>Memory address</strong></td>\n",
       "                <td>0x07f20d5f81850</td>\n",
       "            </tr><tr>\n",
       "                <td><strong>Stoichiometry</strong></td>\n",
       "                <td>\n",
       "                    <p style='text-align:right'>C06118_c <=> 2.0 C04053_c</p>\n",
       "                    <p style='text-align:right'>4-(4-Deoxy-alpha-D-gluc-4-enuronosyl)-D-galacturonate; <=> 2.0 5-Dehydro-4-deoxy-D-glucuronate;</p>\n",
       "                </td>\n",
       "            </tr><tr>\n",
       "                <td><strong>GPR</strong></td><td>c0319</td>\n",
       "            </tr><tr>\n",
       "                <td><strong>Lower bound</strong></td><td>-1000</td>\n",
       "            </tr><tr>\n",
       "                <td><strong>Upper bound</strong></td><td>1000</td>\n",
       "            </tr>\n",
       "        </table>\n",
       "        "
      ],
      "text/plain": [
       "<Reaction R04382_c at 0x7f20d5f81850>"
      ]
     },
     "metadata": {},
     "output_type": "display_data"
    },
    {
     "name": "stdout",
     "output_type": "stream",
     "text": [
      "frozenset({<Gene c0319 at 0x7f20d8393810>})\n"
     ]
    }
   ],
   "source": [
    "from cobramod.test import textbook_kegg\n",
    "from cobramod import add_reactions\n",
    "from pathlib import Path\n",
    "                                                           \n",
    "dir_data = Path.cwd().resolve().joinpath(\"data\")\n",
    "# Using copy\n",
    "test_model = textbook_kegg.copy()\n",
    "                                                           \n",
    "add_reactions(\n",
    "    model=test_model,\n",
    "    obj=\"R04382, c\",\n",
    "    database=\"KEGG\",\n",
    "    directory=dir_data,\n",
    "    genome=\"ecc\"\n",
    ")\n",
    "                                                           \n",
    "display(test_model.reactions.get_by_id(\"R04382_c\"))\n",
    "print(test_model.reactions.get_by_id(\"R04382_c\").genes)"
   ]
  },
  {
   "cell_type": "markdown",
   "metadata": {
    "id": "DgOH_6OQ740z"
   },
   "source": [
    "In this second example we add two reactions ([R04382](\n",
    "  https://www.kegg.jp/entry/R04382\n",
    ") and [R02736](\n",
    "  https://www.kegg.jp/entry/R02736\n",
    " )) from KEGG. We introduce in the argument\n",
    "`obj` a list with the database-specific identifier and their compartments. The\n",
    "rest of the arguments remain the same as the previous example. CobraMod skips\n",
    "the addition of reactions that are already included into the model and shows\n",
    "a warning."
   ]
  },
  {
   "cell_type": "code",
   "execution_count": 12,
   "metadata": {
    "colab": {
     "base_uri": "https://localhost:8080/",
     "height": 432
    },
    "id": "5hC8-O3v740z",
    "outputId": "6c9f4d05-b2b2-4aa4-d139-6eaeb3713336"
   },
   "outputs": [
    {
     "name": "stderr",
     "output_type": "stream",
     "text": [
      "/home/stefano/Documents/cobramod/src/cobramod/core/creation.py:1116: UserWarning: Reaction \"R04382_c\" is already present in the model. Skipping addition.\n",
      "  warn(message=msg, category=UserWarning)\n"
     ]
    },
    {
     "data": {
      "text/html": [
       "\n",
       "        <table>\n",
       "            <tr>\n",
       "                <td><strong>Reaction identifier</strong></td><td>R04382_c</td>\n",
       "            </tr><tr>\n",
       "                <td><strong>Name</strong></td><td>4-(4-deoxy-alpha-D-galact-4-enuronosyl)-D-galacturonate lyase</td>\n",
       "            </tr><tr>\n",
       "                <td><strong>Memory address</strong></td>\n",
       "                <td>0x07f20d5f81850</td>\n",
       "            </tr><tr>\n",
       "                <td><strong>Stoichiometry</strong></td>\n",
       "                <td>\n",
       "                    <p style='text-align:right'>C06118_c <=> 2.0 C04053_c</p>\n",
       "                    <p style='text-align:right'>4-(4-Deoxy-alpha-D-gluc-4-enuronosyl)-D-galacturonate; <=> 2.0 5-Dehydro-4-deoxy-D-glucuronate;</p>\n",
       "                </td>\n",
       "            </tr><tr>\n",
       "                <td><strong>GPR</strong></td><td>c0319</td>\n",
       "            </tr><tr>\n",
       "                <td><strong>Lower bound</strong></td><td>-1000</td>\n",
       "            </tr><tr>\n",
       "                <td><strong>Upper bound</strong></td><td>1000</td>\n",
       "            </tr>\n",
       "        </table>\n",
       "        "
      ],
      "text/plain": [
       "<Reaction R04382_c at 0x7f20d5f81850>"
      ]
     },
     "metadata": {},
     "output_type": "display_data"
    },
    {
     "data": {
      "text/html": [
       "\n",
       "        <table>\n",
       "            <tr>\n",
       "                <td><strong>Reaction identifier</strong></td><td>R02736_c</td>\n",
       "            </tr><tr>\n",
       "                <td><strong>Name</strong></td><td>beta-D-glucose-6-phosphate:NADP+ 1-oxoreductase</td>\n",
       "            </tr><tr>\n",
       "                <td><strong>Memory address</strong></td>\n",
       "                <td>0x07f20d85b2850</td>\n",
       "            </tr><tr>\n",
       "                <td><strong>Stoichiometry</strong></td>\n",
       "                <td>\n",
       "                    <p style='text-align:right'>C00006_c + C01172_c --> C00005_c + C00080_c + C01236_c</p>\n",
       "                    <p style='text-align:right'>Nicotinamide adenine dinucleotide phosphate + beta-D-Glucose 6-phosphate --> Nicotinamide adenine dinucleotide phosphate - reduced + H+ + 6-phospho-D-glucono-1,5-lactone</p>\n",
       "                </td>\n",
       "            </tr><tr>\n",
       "                <td><strong>GPR</strong></td><td>c2265</td>\n",
       "            </tr><tr>\n",
       "                <td><strong>Lower bound</strong></td><td>0</td>\n",
       "            </tr><tr>\n",
       "                <td><strong>Upper bound</strong></td><td>1000</td>\n",
       "            </tr>\n",
       "        </table>\n",
       "        "
      ],
      "text/plain": [
       "<Reaction R02736_c at 0x7f20d85b2850>"
      ]
     },
     "execution_count": 12,
     "metadata": {},
     "output_type": "execute_result"
    }
   ],
   "source": [
    "add_reactions(\n",
    "    model=test_model,\n",
    "    obj=[\"R04382, c\", \"R02736 ,c\"],\n",
    "    directory=dir_data,\n",
    "    database=\"KEGG\",\n",
    "    genome=\"ecc\"\n",
    ")\n",
    "                                                            \n",
    "display(test_model.reactions.get_by_id(\"R04382_c\"))\n",
    "test_model.reactions.get_by_id(\"R02736_c\")"
   ]
  },
  {
   "cell_type": "markdown",
   "metadata": {
    "id": "GYPUKYn27400"
   },
   "source": [
    "In this new example, we use a text file to add reactions to the test model.\n",
    "We have the file *reactions.txt* in the current working directory with:\n",
    "\n",
    "    R04382, c  \n",
    "    R02736, c  \n",
    "    C06118_ce, digalacturonate transport | 1 C06118_c <-> 1 C06118_e\n",
    "\n",
    "CobraMod downloads the first two reactions from KEGG, while `C06118_ce` is a\n",
    "user-curated reaction.\n",
    "\n",
    "The users can utilize the file path for this file in the `obj` argument to add\n",
    "the reactions to the test model. The next arguments are the same as in the\n",
    "previous examples. We added two print statements to show that CobraMod adds\n",
    "the reaction to the model."
   ]
  },
  {
   "cell_type": "code",
   "execution_count": 13,
   "metadata": {
    "colab": {
     "base_uri": "https://localhost:8080/",
     "height": 619
    },
    "id": "KGb5w8FO7400",
    "outputId": "ec5cd3b4-6ec8-4bbd-eb29-280f2814127f"
   },
   "outputs": [
    {
     "name": "stdout",
     "output_type": "stream",
     "text": [
      "Number of reactions prior addition: 95\n",
      "Number of reactions after addition: 98\n"
     ]
    },
    {
     "data": {
      "text/html": [
       "\n",
       "        <table>\n",
       "            <tr>\n",
       "                <td><strong>Reaction identifier</strong></td><td>R04382_c</td>\n",
       "            </tr><tr>\n",
       "                <td><strong>Name</strong></td><td>4-(4-deoxy-alpha-D-galact-4-enuronosyl)-D-galacturonate lyase</td>\n",
       "            </tr><tr>\n",
       "                <td><strong>Memory address</strong></td>\n",
       "                <td>0x07f20d80763d0</td>\n",
       "            </tr><tr>\n",
       "                <td><strong>Stoichiometry</strong></td>\n",
       "                <td>\n",
       "                    <p style='text-align:right'>C06118_c <=> 2.0 C04053_c</p>\n",
       "                    <p style='text-align:right'>4-(4-Deoxy-alpha-D-gluc-4-enuronosyl)-D-galacturonate; <=> 2.0 5-Dehydro-4-deoxy-D-glucuronate;</p>\n",
       "                </td>\n",
       "            </tr><tr>\n",
       "                <td><strong>GPR</strong></td><td>c0319</td>\n",
       "            </tr><tr>\n",
       "                <td><strong>Lower bound</strong></td><td>-1000</td>\n",
       "            </tr><tr>\n",
       "                <td><strong>Upper bound</strong></td><td>1000</td>\n",
       "            </tr>\n",
       "        </table>\n",
       "        "
      ],
      "text/plain": [
       "<Reaction R04382_c at 0x7f20d80763d0>"
      ]
     },
     "metadata": {},
     "output_type": "display_data"
    },
    {
     "data": {
      "text/html": [
       "\n",
       "        <table>\n",
       "            <tr>\n",
       "                <td><strong>Reaction identifier</strong></td><td>R02736_c</td>\n",
       "            </tr><tr>\n",
       "                <td><strong>Name</strong></td><td>beta-D-glucose-6-phosphate:NADP+ 1-oxoreductase</td>\n",
       "            </tr><tr>\n",
       "                <td><strong>Memory address</strong></td>\n",
       "                <td>0x07f20d862f5d0</td>\n",
       "            </tr><tr>\n",
       "                <td><strong>Stoichiometry</strong></td>\n",
       "                <td>\n",
       "                    <p style='text-align:right'>C00006_c + C01172_c --> C00005_c + C00080_c + C01236_c</p>\n",
       "                    <p style='text-align:right'>Nicotinamide adenine dinucleotide phosphate + beta-D-Glucose 6-phosphate --> Nicotinamide adenine dinucleotide phosphate - reduced + H+ + 6-phospho-D-glucono-1,5-lactone</p>\n",
       "                </td>\n",
       "            </tr><tr>\n",
       "                <td><strong>GPR</strong></td><td>c2265</td>\n",
       "            </tr><tr>\n",
       "                <td><strong>Lower bound</strong></td><td>0</td>\n",
       "            </tr><tr>\n",
       "                <td><strong>Upper bound</strong></td><td>1000</td>\n",
       "            </tr>\n",
       "        </table>\n",
       "        "
      ],
      "text/plain": [
       "<Reaction R02736_c at 0x7f20d862f5d0>"
      ]
     },
     "metadata": {},
     "output_type": "display_data"
    },
    {
     "data": {
      "text/html": [
       "\n",
       "        <table>\n",
       "            <tr>\n",
       "                <td><strong>Reaction identifier</strong></td><td>C06118_ce</td>\n",
       "            </tr><tr>\n",
       "                <td><strong>Name</strong></td><td>digalacturonate transport</td>\n",
       "            </tr><tr>\n",
       "                <td><strong>Memory address</strong></td>\n",
       "                <td>0x07f20d5f81f50</td>\n",
       "            </tr><tr>\n",
       "                <td><strong>Stoichiometry</strong></td>\n",
       "                <td>\n",
       "                    <p style='text-align:right'>C06118_c <=> C06118_e</p>\n",
       "                    <p style='text-align:right'>4-(4-Deoxy-alpha-D-gluc-4-enuronosyl)-D-galacturonate; <=> 4-(4-Deoxy-alpha-D-gluc-4-enuronosyl)-D-galacturonate;</p>\n",
       "                </td>\n",
       "            </tr><tr>\n",
       "                <td><strong>GPR</strong></td><td></td>\n",
       "            </tr><tr>\n",
       "                <td><strong>Lower bound</strong></td><td>-1000</td>\n",
       "            </tr><tr>\n",
       "                <td><strong>Upper bound</strong></td><td>1000</td>\n",
       "            </tr>\n",
       "        </table>\n",
       "        "
      ],
      "text/plain": [
       "<Reaction C06118_ce at 0x7f20d5f81f50>"
      ]
     },
     "execution_count": 13,
     "metadata": {},
     "output_type": "execute_result"
    }
   ],
   "source": [
    "from cobramod.test import textbook_kegg\n",
    "from cobramod import add_reactions\n",
    "from pathlib import Path\n",
    "                                                                     \n",
    "dir_data = Path.cwd().resolve().joinpath(\"data\")\n",
    "test_model = textbook_kegg.copy()\n",
    "# This is the file with text\n",
    "file = dir_data.joinpath(\"reactions.txt\")\n",
    "\n",
    "print(f'Number of reactions prior addition: {len(test_model.reactions)}')\n",
    "                                                                     \n",
    "add_reactions(\n",
    "    model=test_model,\n",
    "    obj=file,\n",
    "    directory=dir_data,\n",
    "    database=\"KEGG\",\n",
    "    genome=\"ecc\"\n",
    ")\n",
    "\n",
    "print(f'Number of reactions after addition: {len(test_model.reactions)}')\n",
    "# Show in jupyter\n",
    "display(test_model.reactions.get_by_id(\"R04382_c\"))\n",
    "display(test_model.reactions.get_by_id(\"R02736_c\"))\n",
    "test_model.reactions.get_by_id(\"C06118_ce\")"
   ]
  },
  {
   "cell_type": "markdown",
   "metadata": {
    "id": "4ywVo8-X7400"
   },
   "source": [
    "Since this function is an extension of the original COBRApy function\n",
    "[model.add_reactions()](https://cobrapy.readthedocs.io/en/latest/autoapi/cobra/index.html?highlight=optimize#cobra.Model.add_reactions) the users can also\n",
    "utilize COBRApy Reactions. In this example, we use a variation of the test model\n",
    "(`textbook_kegg`) which uses KEGG identifiers for their metabolites. We copy a\n",
    "COBRApy Reaction from the test model and then add it to the KEGG-test model."
   ]
  },
  {
   "cell_type": "code",
   "execution_count": 14,
   "metadata": {
    "colab": {
     "base_uri": "https://localhost:8080/",
     "height": 245
    },
    "id": "BheNVhsz7401",
    "outputId": "e77ac405-cf85-4e12-e747-14e147c8f3ed"
   },
   "outputs": [
    {
     "name": "stderr",
     "output_type": "stream",
     "text": [
      "/home/stefano/Documents/cobramod/src/cobramod/core/creation.py:1116: UserWarning: Reaction \"ACALDt\" is already present in the model. Skipping addition.\n",
      "  warn(message=msg, category=UserWarning)\n"
     ]
    },
    {
     "data": {
      "text/html": [
       "\n",
       "        <table>\n",
       "            <tr>\n",
       "                <td><strong>Reaction identifier</strong></td><td>ACALDt</td>\n",
       "            </tr><tr>\n",
       "                <td><strong>Name</strong></td><td>R acetaldehyde reversible - transport</td>\n",
       "            </tr><tr>\n",
       "                <td><strong>Memory address</strong></td>\n",
       "                <td>0x07f20d80a74d0</td>\n",
       "            </tr><tr>\n",
       "                <td><strong>Stoichiometry</strong></td>\n",
       "                <td>\n",
       "                    <p style='text-align:right'>C00084_e <=> C00084_c</p>\n",
       "                    <p style='text-align:right'>Acetaldehyde <=> Acetaldehyde</p>\n",
       "                </td>\n",
       "            </tr><tr>\n",
       "                <td><strong>GPR</strong></td><td>s0001</td>\n",
       "            </tr><tr>\n",
       "                <td><strong>Lower bound</strong></td><td>-1000.0</td>\n",
       "            </tr><tr>\n",
       "                <td><strong>Upper bound</strong></td><td>1000.0</td>\n",
       "            </tr>\n",
       "        </table>\n",
       "        "
      ],
      "text/plain": [
       "<Reaction ACALDt at 0x7f20d80a74d0>"
      ]
     },
     "execution_count": 14,
     "metadata": {},
     "output_type": "execute_result"
    }
   ],
   "source": [
    "from cobramod.test import textbook_kegg, textbook\n",
    "from cobramod import add_reactions\n",
    "from pathlib import Path\n",
    "\n",
    "# Using copy of test model\n",
    "test_model = textbook_kegg.copy()\n",
    "# Obtaining a reaction\n",
    "reaction = textbook.reactions.get_by_id(\"ACALDt\")\n",
    "                                                                  \n",
    "add_reactions(model=test_model, obj=reaction)\n",
    "\n",
    "test_model.reactions.get_by_id(\"ACALDt\")"
   ]
  },
  {
   "cell_type": "markdown",
   "metadata": {
    "id": "1SkvGCvLnK-9"
   },
   "source": [
    " By default, COBRApy ignores metabolites that appear on\n",
    "both sides of a reaction equation. CobraMod identifies these reactions and assigns one of these metabolites to the extracellular compartment and raises a warning asking the user for manual curation. In this example, we add a\n",
    "[transport reaction for acetic acid](\n",
    "https://biocyc.org/META/new-image?object=TRANS-RXN-455\n",
    ") from BioCyc sub-database `YEAST` to the test model."
   ]
  },
  {
   "cell_type": "code",
   "execution_count": 15,
   "metadata": {
    "colab": {
     "base_uri": "https://localhost:8080/",
     "height": 265
    },
    "id": "IA2OwzjmbeZJ",
    "outputId": "4cadf206-f3bf-48cc-a865-9155ecf98c22"
   },
   "outputs": [
    {
     "name": "stderr",
     "output_type": "stream",
     "text": [
      "/home/stefano/Documents/cobramod/src/cobramod/core/creation.py:376: UserWarning: Reaction \"TRANS_RXN_455_c\" has metabolite \"CPD_24335_e\" on both sides of the equation (e.g transport reaction). COBRApy ignores these metabolites. To avoid this, by default, CobraMod will assign one metabolite to the extracellular compartment. Please curate the reaction if necessary.\n",
      "  warn(message=msg, category=UserWarning)\n"
     ]
    },
    {
     "data": {
      "text/html": [
       "\n",
       "        <table>\n",
       "            <tr>\n",
       "                <td><strong>Reaction identifier</strong></td><td>TRANS_RXN_455_c</td>\n",
       "            </tr><tr>\n",
       "                <td><strong>Name</strong></td><td>acetic acid uptake</td>\n",
       "            </tr><tr>\n",
       "                <td><strong>Memory address</strong></td>\n",
       "                <td>0x07f20d5ec4690</td>\n",
       "            </tr><tr>\n",
       "                <td><strong>Stoichiometry</strong></td>\n",
       "                <td>\n",
       "                    <p style='text-align:right'>CPD_24335_e --> CPD_24335_c</p>\n",
       "                    <p style='text-align:right'>acetic+acid --> acetic+acid</p>\n",
       "                </td>\n",
       "            </tr><tr>\n",
       "                <td><strong>GPR</strong></td><td>G3O-32144</td>\n",
       "            </tr><tr>\n",
       "                <td><strong>Lower bound</strong></td><td>0</td>\n",
       "            </tr><tr>\n",
       "                <td><strong>Upper bound</strong></td><td>1000</td>\n",
       "            </tr>\n",
       "        </table>\n",
       "        "
      ],
      "text/plain": [
       "<Reaction TRANS_RXN_455_c at 0x7f20d5ec4690>"
      ]
     },
     "execution_count": 15,
     "metadata": {},
     "output_type": "execute_result"
    }
   ],
   "source": [
    "test_model = textbook_kegg.copy()\n",
    "                                                           \n",
    "add_reactions(\n",
    "    model=test_model,\n",
    "    obj=\"TRANS-RXN-455, c\",\n",
    "    database=\"YEAST\",\n",
    "    directory=dir_data,\n",
    ")\n",
    "# Show in jupyter\n",
    "test_model.reactions.get_by_id(\"TRANS_RXN_455_c\")"
   ]
  },
  {
   "cell_type": "markdown",
   "metadata": {
    "id": "0DzULV_Q7401"
   },
   "source": [
    "---\n",
    "\n",
    "**NOTES**\n",
    "\n",
    "- CobraMod replaces hyphens (`-`) to underscores (`_`) in the identifiers when\n",
    "creating COBRApy Reactions.\n",
    "-  The users must use the same database identifier, when adding multiple\n",
    "reactions, e.g. It is not possible to use two databases with the same function.\n",
    "In that case, the users should call the function twice with the respective\n",
    "database identifier.\n",
    "- CobraMod tries to identify reactions or metabolites that are already present\n",
    "in the model. The metabolic pathway information contains multiple\n",
    "cross-references database entries. If an entry is found in the model, then\n",
    "CobraMod uses it instead of creating the COBRApy objects.\n",
    "- The argument `genome` can be used with the database `KEGG` and specifies the genome for which gene information will be retrieved. The complete list is available [here](\n",
    "https://www.genome.jp/kegg/catalog/org_list.html).\n",
    "If no argument is given, no gene information will be retrieved and\n",
    "a warning is printed as shown below:"
   ]
  },
  {
   "cell_type": "code",
   "execution_count": 16,
   "metadata": {
    "colab": {
     "base_uri": "https://localhost:8080/",
     "height": 265
    },
    "id": "CvDMHPAP7401",
    "outputId": "4fabf195-d4a6-44b6-898d-97c5ee721cea"
   },
   "outputs": [
    {
     "name": "stderr",
     "output_type": "stream",
     "text": [
      "/home/stefano/Documents/cobramod/src/cobramod/parsing/kegg.py:196: UserWarning: Nothing was specified in argument \"genome\". Reaction \"R04382\" will not include genes. Please modify if necessary.\n",
      "  warn(message=msg, category=UserWarning)\n"
     ]
    },
    {
     "data": {
      "text/html": [
       "\n",
       "        <table>\n",
       "            <tr>\n",
       "                <td><strong>Reaction identifier</strong></td><td>R04382_c</td>\n",
       "            </tr><tr>\n",
       "                <td><strong>Name</strong></td><td>4-(4-deoxy-alpha-D-galact-4-enuronosyl)-D-galacturonate lyase</td>\n",
       "            </tr><tr>\n",
       "                <td><strong>Memory address</strong></td>\n",
       "                <td>0x07f20d5e52b90</td>\n",
       "            </tr><tr>\n",
       "                <td><strong>Stoichiometry</strong></td>\n",
       "                <td>\n",
       "                    <p style='text-align:right'>C06118_c <=> 2.0 C04053_c</p>\n",
       "                    <p style='text-align:right'>4-(4-Deoxy-alpha-D-gluc-4-enuronosyl)-D-galacturonate; <=> 2.0 5-Dehydro-4-deoxy-D-glucuronate;</p>\n",
       "                </td>\n",
       "            </tr><tr>\n",
       "                <td><strong>GPR</strong></td><td></td>\n",
       "            </tr><tr>\n",
       "                <td><strong>Lower bound</strong></td><td>-1000</td>\n",
       "            </tr><tr>\n",
       "                <td><strong>Upper bound</strong></td><td>1000</td>\n",
       "            </tr>\n",
       "        </table>\n",
       "        "
      ],
      "text/plain": [
       "<Reaction R04382_c at 0x7f20d5e52b90>"
      ]
     },
     "execution_count": 16,
     "metadata": {},
     "output_type": "execute_result"
    }
   ],
   "source": [
    "test_model = textbook_kegg.copy()\n",
    "                                                           \n",
    "add_reactions(\n",
    "    model=test_model,\n",
    "    obj=\"R04382, c\",\n",
    "    database=\"KEGG\",\n",
    "    directory=dir_data,\n",
    ")\n",
    "test_model.reactions.get_by_id(\"R04382_c\")"
   ]
  },
  {
   "cell_type": "markdown",
   "metadata": {
    "id": "pbG8COs37402"
   },
   "source": [
    "---\n",
    "\n",
    "## Adding pathways\n",
    " \n",
    "CobraMod can add metabolic pathways to a given model. The function\n",
    "[cobramod.add_pathway()](\n",
    "module/cobramod/index.html#cobramod.add_pathway) takes as arguments a sequence of database-specific reaction identifiers or a pathway identifier. In the\n",
    "examples we showcase these two options. We use the *E. coli* core model from\n",
    "COBRApy as test model. This core model can be found under \n",
    "`cobramod.test.textbook`.\n",
    "\n",
    "In the first example, we add the [acetoacetate degradation pathway](\n",
    "https://biocyc.org/ECOLI/new-image?object=ACETOACETATE-DEG-PWY\n",
    ") from the BioCyc sub-database `ECOLI` to the test model. This pathway has two\n",
    "reactions and six metabolites.\n",
    "\n",
    "<img src=\"https://websvc.biocyc.org/ECOLI/diagram-only?type=PATHWAY&object=ACETOACETATE-DEG-PWY&pfontsize=normal\"/>\n",
    "\n"
   ]
  },
  {
   "cell_type": "markdown",
   "metadata": {
    "id": "Ek9jKTGcx5Bq"
   },
   "source": [
    "The first argument is the model to extend. The `pathway` argument uses the\n",
    "database-specific identifier `ACETOACETATE-DEG-PWY` and the database identifier\n",
    "`ECOLI`. We define the compartment as `c` (cytosol). i.e. all COBRApy Reactions\n",
    "and Metabolites have that compartment. Using the argument `filename` the users\n",
    "can specify the file where the summary of the changes are written. All COBRApy\n",
    "Reactions included in the Pathway are tested for a non-zero flux. Read more\n",
    "about it in the corresponding title.\n",
    "Calling the [cobramod.Pathway](\n",
    "module/cobramod/index.html#cobramod.Pathway\n",
    ") outputs a table with a summary of the object. "
   ]
  },
  {
   "cell_type": "code",
   "execution_count": 17,
   "metadata": {
    "colab": {
     "base_uri": "https://localhost:8080/",
     "height": 651
    },
    "id": "L3kAPVwz7403",
    "outputId": "5fe30f67-ea86-4371-fd64-c86ea7821515"
   },
   "outputs": [
    {
     "name": "stderr",
     "output_type": "stream",
     "text": [
      "/home/stefano/Documents/cobramod/src/cobramod/core/creation.py:161: UserWarning: Metabolite 'ACETYL-COA' was found as 'accoa_c'. Please curate if necessary.\n",
      "  warn(message=msg, category=UserWarning)\n",
      "/home/stefano/Documents/cobramod/src/cobramod/core/creation.py:161: UserWarning: Metabolite 'ACET' was found as 'ac_c'. Please curate if necessary.\n",
      "  warn(message=msg, category=UserWarning)\n",
      "/home/stefano/Documents/cobramod/src/cobramod/core/creation.py:161: UserWarning: Metabolite 'CO-A' was found as 'coa_c'. Please curate if necessary.\n",
      "  warn(message=msg, category=UserWarning)\n",
      "/home/stefano/Documents/cobramod/src/cobramod/core/extension.py:573: UserWarning: Auxiliary sink reaction for \"SK_3_KETOBUTYRATE_c\" created. Consider removing it and adding the synthesis reactions for the metabolite.\n",
      "  warn(message=msg, category=UserWarning)\n"
     ]
    },
    {
     "name": "stdout",
     "output_type": "stream",
     "text": [
      "Quantity of     new   | removed entities in\n",
      "*=====================|===================*\n",
      "Reactions        2    |    0              \n",
      "Metabolites      2    |    0              \n",
      "Exchange         0    |    0              \n",
      "Demand           0    |    0              \n",
      "Sinks            1    |    0              \n",
      "Genes            4    |    0              \n",
      "Groups           1    |    0              \n",
      "\n"
     ]
    },
    {
     "data": {
      "text/html": [
       "\n",
       "<table> <tbody> <tr> <td><strong>Pathway identifier</strong></td>\n",
       "<td>ACETOACETATE-DEG-PWY</td> </tr> <tr> <td><strong>Name</strong></td>\n",
       "<td></td> </tr> <tr> <td><strong>Memory address</strong></td>\n",
       "<td>0x0139779039495504</td> </tr> <tr> <td><strong>Reactions involved</strong></td>\n",
       "<td> <p>ACETOACETYL_COA_TRANSFER_RXN_c, ACETYL_COA_ACETYLTRANSFER_RXN_c</p> </td> </tr> <tr>\n",
       "<td><strong>Genes involved<br /></strong></td> <td> <p>EG11669, EG11670, EG12432, EG11672</p> </td> </tr> <tr>\n",
       "<td><strong>Visualization attributes</strong></td> <td> <ul> <li>vertical =\n",
       "False</li> <li>color_negative = None</li>\n",
       "<li>color_positive = None</li> <li>color_quantile =\n",
       "False</li> </ul> </td> </tr> </tbody> </table> <p>&nbsp;</p>\n"
      ],
      "text/plain": [
       "<Pathway ACETOACETATE-DEG-PWY at 0x7f20d7ff0550>"
      ]
     },
     "execution_count": 17,
     "metadata": {},
     "output_type": "execute_result"
    }
   ],
   "source": [
    "from pathlib import Path\n",
    "from cobramod import add_pathway\n",
    "from cobramod.test import textbook\n",
    "# Defining directory\n",
    "dir_data = Path.cwd().resolve().joinpath(\"data\")\n",
    "                                   \n",
    "# Using copy of test model\n",
    "test_model = textbook.copy()\n",
    "\n",
    "add_pathway(\n",
    "    model=test_model,\n",
    "    pathway=\"ACETOACETATE-DEG-PWY\",\n",
    "    database=\"ECOLI\",\n",
    "    compartment=\"c\",\n",
    "    filename=\"summary.txt\",\n",
    "    directory=dir_data,\n",
    ")\n",
    "\n",
    "# Display in jupyter\n",
    "test_model.groups.get_by_id(\"ACETOACETATE-DEG-PWY\")"
   ]
  },
  {
   "cell_type": "markdown",
   "metadata": {
    "id": "37naM0897403"
   },
   "source": [
    "Below is an example of the summary in form of a text file. The first\n",
    "part shows all the names of the reactions, metabolites, exchange reactions,\n",
    "auxiliary demand and sink reactions, genes and groups included in the model.\n",
    "The second part of the summary shows the additions and removals from using\n",
    "the function `add_pathway()`."
   ]
  },
  {
   "cell_type": "code",
   "execution_count": 18,
   "metadata": {
    "colab": {
     "base_uri": "https://localhost:8080/"
    },
    "id": "JYMb89t77404",
    "outputId": "95fbebe1-25a9-4971-d15c-bba1592f934f"
   },
   "outputs": [
    {
     "name": "stdout",
     "output_type": "stream",
     "text": [
      "Summary:\r\n",
      "Model identifier: e_coli_core\r\n",
      "Model name:\r\n",
      "\r\n",
      "Reactions:\r\n",
      "['ACALD', 'ACALDt', 'ACKr', 'ACONTa', 'ACONTb', 'ACt2r', 'ADK1', 'AKGDH', 'AKGt2r', 'ALCD2x', 'ATPM', 'ATPS4r', 'Biomass_Ecoli_core', 'CO2t', 'CS', 'CYTBD', 'D_LACt2', 'ENO', 'ETOHt2r', 'FBA', 'FBP', 'FORt2', 'FORti', 'FRD7', 'FRUpts2', 'FUM', 'FUMt2_2', 'G6PDH2r', 'GAPD', 'GLCpts', 'GLNS', 'GLNabc', 'GLUDy', 'GLUN', 'GLUSy', 'GLUt2r', 'GND', 'H2Ot', 'ICDHyr', 'ICL', 'LDH_D', 'MALS', 'MALt2_2', 'MDH', 'ME1', 'ME2', 'NADH16', 'NADTRHD', 'NH4t', 'O2t', 'PDH', 'PFK', 'PFL', 'PGI', 'PGK', 'PGL', 'PGM', 'PIt2r', 'PPC', 'PPCK', 'PPS', 'PTAr', 'PYK', 'PYRt2', 'RPE', 'RPI', 'SUCCt2_2', 'SUCCt3', 'SUCDi', 'SUCOAS', 'TALA', 'THD2', 'TKT1', 'TKT2', 'TPI', 'ACETOACETYL_COA_TRANSFER_RXN_c', 'ACETYL_COA_ACETYLTRANSFER_RXN_c']\r\n",
      "Metabolites:\r\n",
      "['13dpg_c', '2pg_c', '3pg_c', '6pgc_c', '6pgl_c', 'ac_c', 'ac_e', 'acald_c', 'acald_e', 'accoa_c', 'acon_C_c', 'actp_c', 'adp_c', 'akg_c', 'akg_e', 'amp_c', 'atp_c', 'cit_c', 'co2_c', 'co2_e', 'coa_c', 'dhap_c', 'e4p_c', 'etoh_c', 'etoh_e', 'f6p_c', 'fdp_c', 'for_c', 'for_e', 'fru_e', 'fum_c', 'fum_e', 'g3p_c', 'g6p_c', 'glc__D_e', 'gln__L_c', 'gln__L_e', 'glu__L_c', 'glu__L_e', 'glx_c', 'h2o_c', 'h2o_e', 'h_c', 'h_e', 'icit_c', 'lac__D_c', 'lac__D_e', 'mal__L_c', 'mal__L_e', 'nad_c', 'nadh_c', 'nadp_c', 'nadph_c', 'nh4_c', 'nh4_e', 'o2_c', 'o2_e', 'oaa_c', 'pep_c', 'pi_c', 'pi_e', 'pyr_c', 'pyr_e', 'q8_c', 'q8h2_c', 'r5p_c', 'ru5p__D_c', 's7p_c', 'succ_c', 'succ_e', 'succoa_c', 'xu5p__D_c', '3_KETOBUTYRATE_c', 'ACETOACETYL_COA_c']\r\n",
      "Exchange:\r\n",
      "['EX_ac_e', 'EX_acald_e', 'EX_akg_e', 'EX_co2_e', 'EX_etoh_e', 'EX_for_e', 'EX_fru_e', 'EX_fum_e', 'EX_glc__D_e', 'EX_gln__L_e', 'EX_glu__L_e', 'EX_h_e', 'EX_h2o_e', 'EX_lac__D_e', 'EX_mal__L_e', 'EX_nh4_e', 'EX_o2_e', 'EX_pi_e', 'EX_pyr_e', 'EX_succ_e']\r\n",
      "Demand:\r\n",
      "[]\r\n",
      "Sinks:\r\n",
      "['SK_3_KETOBUTYRATE_c']\r\n",
      "Genes:\r\n",
      "['b1241', 'b0351', 's0001', 'b3115', 'b1849', 'b2296', 'b1276', 'b0118', 'b0474', 'b0116', 'b0726', 'b0727', 'b2587', 'b0356', 'b1478', 'b3735', 'b3733', 'b3734', 'b3732', 'b3736', 'b3738', 'b3731', 'b3737', 'b3739', 'b0720', 'b0733', 'b0979', 'b0978', 'b0734', 'b2975', 'b3603', 'b2779', 'b1773', 'b2925', 'b2097', 'b4232', 'b3925', 'b0904', 'b2492', 'b4154', 'b4152', 'b4153', 'b4151', 'b1819', 'b1817', 'b2415', 'b1818', 'b2416', 'b1611', 'b4122', 'b1612', 'b3528', 'b1852', 'b1779', 'b1621', 'b1101', 'b2417', 'b3870', 'b1297', 'b0809', 'b0810', 'b0811', 'b1761', 'b1524', 'b1812', 'b0485', 'b3213', 'b3212', 'b4077', 'b2029', 'b0875', 'b1136', 'b4015', 'b2133', 'b1380', 'b4014', 'b2976', 'b3236', 'b1479', 'b2463', 'b2286', 'b2279', 'b2276', 'b2280', 'b2288', 'b2284', 'b2287', 'b2281', 'b2277', 'b2285', 'b2282', 'b2278', 'b2283', 'b3962', 'b1602', 'b1603', 'b0451', 'b0114', 'b0115', 'b3916', 'b1723', 'b0902', 'b0903', 'b2579', 'b3114', 'b3952', 'b3951', 'b4025', 'b2926', 'b0767', 'b0755', 'b3612', 'b4395', 'b3493', 'b2987', 'b3956', 'b3403', 'b1702', 'b2297', 'b2458', 'b1676', 'b1854', 'b4301', 'b3386', 'b2914', 'b4090', 'b0722', 'b0724', 'b0721', 'b0723', 'b0728', 'b0729', 'b2464', 'b0008', 'b2935', 'b2465', 'b3919', 'EG11669', 'EG11670', 'EG12432', 'EG11672']\r\n",
      "Groups:\r\n",
      "['ACETOACETATE-DEG-PWY']\r\n",
      "\r\n",
      "New:\r\n",
      "Reactions:\r\n",
      "['ACETOACETYL_COA_TRANSFER_RXN_c', 'ACETYL_COA_ACETYLTRANSFER_RXN_c']\r\n",
      "Metabolites:\r\n",
      "['3_KETOBUTYRATE_c', 'ACETOACETYL_COA_c']\r\n",
      "Exchange:\r\n",
      "[]\r\n",
      "Demand:\r\n",
      "[]\r\n",
      "Sinks:\r\n",
      "['SK_3_KETOBUTYRATE_c']\r\n",
      "Genes:\r\n",
      "['EG11669', 'EG11670', 'EG12432', 'EG11672']\r\n",
      "Groups:\r\n",
      "['ACETOACETATE-DEG-PWY']\r\n",
      "\r\n",
      "Removed:\r\n",
      "Reactions:\r\n",
      "[]\r\n",
      "Metabolites:\r\n",
      "[]\r\n",
      "Exchange:\r\n",
      "[]\r\n",
      "Demand:\r\n",
      "[]\r\n",
      "Sinks:\r\n",
      "[]\r\n",
      "Genes:\r\n",
      "[]\r\n",
      "Groups:\r\n",
      "[]\r\n",
      "\r\n"
     ]
    }
   ],
   "source": [
    "%cat summary.txt"
   ]
  },
  {
   "cell_type": "markdown",
   "metadata": {
    "id": "5E3kqIV17406"
   },
   "source": [
    "In this new example, we use a list with database-specific identifiers are put \n",
    "them in the argument `pathway`. We use the database identifier `ECOLI` and the\n",
    "compartment `c` (cytosol). Additionally, we can define the name of the pathway\n",
    "by using the argument `group`. User can also use this arguments and merge\n",
    "pathways by using the same group."
   ]
  },
  {
   "cell_type": "code",
   "execution_count": 19,
   "metadata": {
    "colab": {
     "base_uri": "https://localhost:8080/",
     "height": 651
    },
    "id": "DXh3EVxU7406",
    "outputId": "dd7e236b-b23d-4957-dfab-209a99e209cf"
   },
   "outputs": [
    {
     "name": "stdout",
     "output_type": "stream",
     "text": [
      "Number of reaction prior addition: 95\n"
     ]
    },
    {
     "name": "stderr",
     "output_type": "stream",
     "text": [
      "/home/stefano/Documents/cobramod/src/cobramod/core/creation.py:161: UserWarning: Metabolite 'ATP' was found as 'ATP_c'. Please curate if necessary.\n",
      "  warn(message=msg, category=UserWarning)\n",
      "/home/stefano/Documents/cobramod/src/cobramod/core/creation.py:161: UserWarning: Metabolite 'ADP' was found as 'ADP_c'. Please curate if necessary.\n",
      "  warn(message=msg, category=UserWarning)\n",
      "/home/stefano/Documents/cobramod/src/cobramod/core/extension.py:685: UserWarning: Auxiliary sink reaction for \"SK_HYDROGEN_MOLECULE_c\" created. Consider removing it and adding the synthesis reactions for the metabolite.\n",
      "  warn(message=msg, category=UserWarning)\n"
     ]
    },
    {
     "name": "stdout",
     "output_type": "stream",
     "text": [
      "Quantity of     new   | removed entities in\n",
      "*=====================|===================*\n",
      "Reactions        3    |    0              \n",
      "Metabolites      2    |    0              \n",
      "Exchange         0    |    0              \n",
      "Demand           0    |    0              \n",
      "Sinks            1    |    0              \n",
      "Genes           11    |    0              \n",
      "Groups           1    |    0              \n",
      "\n",
      "Number of reactions after addition: 99\n"
     ]
    },
    {
     "data": {
      "text/html": [
       "\n",
       "<table> <tbody> <tr> <td><strong>Pathway identifier</strong></td>\n",
       "<td>curated_pathway</td> </tr> <tr> <td><strong>Name</strong></td>\n",
       "<td></td> </tr> <tr> <td><strong>Memory address</strong></td>\n",
       "<td>0x0139779002437712</td> </tr> <tr> <td><strong>Reactions involved</strong></td>\n",
       "<td> <p>PEPDEPHOS_RXN_c, PYRUVFORMLY_RXN_c, FHLMULTI_RXN_c</p> </td> </tr> <tr>\n",
       "<td><strong>Genes involved<br /></strong></td> <td> <p>EG10803, EG10804, EG10701, G7627, EG10477, EG10285, EG10478, EG10476, EG10475, EG10480, EG10479</p> </td> </tr> <tr>\n",
       "<td><strong>Visualization attributes</strong></td> <td> <ul> <li>vertical =\n",
       "False</li> <li>color_negative = None</li>\n",
       "<li>color_positive = None</li> <li>color_quantile =\n",
       "False</li> </ul> </td> </tr> </tbody> </table> <p>&nbsp;</p>\n"
      ],
      "text/plain": [
       "<Pathway curated_pathway at 0x7f20d5c99050>"
      ]
     },
     "execution_count": 19,
     "metadata": {},
     "output_type": "execute_result"
    }
   ],
   "source": [
    "from pathlib import Path\n",
    "from cobramod import add_pathway\n",
    "from cobramod.test import textbook_biocyc\n",
    "# Defining directory\n",
    "dir_data = Path.cwd().resolve().joinpath(\"data\")\n",
    "\n",
    "test_model = textbook_biocyc.copy()\n",
    "# Defining database-specific identifiers\n",
    "sequence = [\"PEPDEPHOS-RXN\", \"PYRUVFORMLY-RXN\", \"FHLMULTI-RXN\"]\n",
    "                                                                \n",
    "print(f'Number of reaction prior addition: {len(test_model.reactions)}')\n",
    "                                                                \n",
    "add_pathway(\n",
    "    model=test_model,\n",
    "    pathway=sequence,\n",
    "    directory=dir_data,\n",
    "    database=\"ECOLI\",\n",
    "    compartment=\"c\",\n",
    "    group=\"curated_pathway\"\n",
    ")\n",
    "\n",
    "print(f'Number of reactions after addition: {len(test_model.reactions)}')\n",
    "# Display in jupyter\n",
    "test_model.groups.get_by_id(\"curated_pathway\")"
   ]
  },
  {
   "cell_type": "markdown",
   "metadata": {
    "id": "wYJWosLv7407"
   },
   "source": [
    "--------------------\n",
    "\n",
    "**NOTES**\n",
    "\n",
    "- A pathway is a set of COBRApy Reactions. All the notes about\n",
    "`add_metabolites()` and `add_reactions()` apply to pathways. i. e. duplicate\n",
    "elements, transport reactions and the argument `genome` for KEGG.\n",
    "\n",
    "--------------------\n"
   ]
  },
  {
   "cell_type": "markdown",
   "metadata": {
    "id": "XMVGghQRW0dt"
   },
   "source": [
    "## Curation process\n",
    "\n",
    "During the creation of COBRApy Reactions and metabolites, and the CobraMod \n",
    "Pathway, the users can expect the following:\n",
    "\n",
    "1. CobraMod tries to identify metabolites that are already included in the \n",
    "model.\n",
    "2. CobraMod reads the metadata of the metabolic pathway information and try\n",
    "to finds duplicates in the model.\n",
    "3. If CobraMod encounters large molecules or data with missing properties,\n",
    "users are warned about them.\n",
    "4. CobraMod tries to find COBRApy Reactions that are already in the model \n",
    "instead of creating them.\n",
    "5. CobraMod utilizes the COBRApy method [cobra.Reaction.check_mass_balance()](\n",
    "https://cobrapy.readthedocs.io/en/latest/autoapi/cobra/core/reaction/index.html#cobra.core.reaction.Reaction.check_mass_balance \n",
    ") and returns warnings if imbalances are found.\n",
    "6. This package respects the reaction reversibility stated in the\n",
    "metabolic pathway information of the reaction. In case that the reversibility is missing, CobraMod raises a warning.\n",
    "7. When CobraMod adds pathway, every single reaction will undergo through a *non-zero flux test*. This test ensures that the added reactions can carry a\n",
    "non-zero flux. In case that a reaction encounter problems, CobraMod creates\n",
    "auxiliary sink reactions and suggests manual curation steps based on these\n",
    "auxiliary modifications.\n",
    "8. All the information about the download, the creation of every single object,\n",
    "the warnings and exceptions will be written in a log file with the name\n",
    "`debug.log`. This file should help users keep track of the changes of the model.\n",
    "Below we showed as an example partly the log file."
   ]
  },
  {
   "cell_type": "code",
   "execution_count": 20,
   "metadata": {
    "colab": {
     "base_uri": "https://localhost:8080/"
    },
    "id": "git3aYmj-wK7",
    "outputId": "8643bc51-ed1c-4957-90e5-5f7eca8d5066"
   },
   "outputs": [
    {
     "name": "stdout",
     "output_type": "stream",
     "text": [
      "2021-07-25 09:57:08,524 INFO Reaction \"PEPDEPHOS_RXN_c\" added to group \"curated_pathway\".\r\n",
      "2021-07-25 09:57:08,525 INFO Reaction \"PYRUVFORMLY_RXN_c\" was added to model.\r\n",
      "2021-07-25 09:57:08,525 INFO Test to carry non-zero fluxes for \"PYRUVFORMLY_RXN_c\" started\r\n",
      "2021-07-25 09:57:08,526 INFO Reaction \"PYRUVFORMLY_RXN_c\" passed the non-zero flux test.\r\n",
      "2021-07-25 09:57:08,526 WARNING Auxiliary demand reaction for \"FORMATE_c\" removed.\r\n",
      "2021-07-25 09:57:08,527 INFO Reaction \"PYRUVFORMLY_RXN_c\" added to group \"curated_pathway\".\r\n",
      "2021-07-25 09:57:08,528 INFO Reaction \"FHLMULTI_RXN_c\" was added to model.\r\n",
      "2021-07-25 09:57:08,528 INFO Test to carry non-zero fluxes for \"FHLMULTI_RXN_c\" started\r\n",
      "2021-07-25 09:57:08,529 INFO Reaction \"FHLMULTI_RXN_c\" passed the non-zero flux test.\r\n",
      "2021-07-25 09:57:08,530 WARNING Auxiliary demand reaction for \"HYDROGEN_MOLECULE_c\" removed.\r\n",
      "2021-07-25 09:57:08,530 WARNING Auxiliary sink reaction for \"FORMATE_c\" removed.\r\n",
      "2021-07-25 09:57:08,530 INFO Reaction \"FHLMULTI_RXN_c\" added to group \"curated_pathway\".\r\n",
      "2021-07-25 09:57:08,531 INFO Pathway \"curated_pathway\" added to Model.\r\n",
      "2021-07-25 09:57:08,532 WARNING Auxiliary sink reaction for \"SK_HYDROGEN_MOLECULE_c\" created. Consider removing it and adding the synthesis reactions for the metabolite.\r\n",
      "2021-07-25 09:57:08,542 INFO Data for \"PEPDEPHOS-RXN\" retrieved from \"ECOLI\".\r\n",
      "2021-07-25 09:57:08,543 WARNING Gene-reaction rule for reaction \"PEPDEPHOS-RXN\" set to \"OR\". Please modify it if necessary.\r\n",
      "2021-07-25 09:57:08,552 INFO Data for \"PYRUVFORMLY-RXN\" retrieved from \"ECOLI\".\r\n",
      "2021-07-25 09:57:08,553 WARNING Gene-reaction rule for reaction \"PYRUVFORMLY-RXN\" set to \"OR\". Please modify it if necessary.\r\n",
      "2021-07-25 09:57:08,562 INFO Data for \"FHLMULTI-RXN\" retrieved from \"ECOLI\".\r\n",
      "2021-07-25 09:57:08,563 WARNING Gene-reaction rule for reaction \"FHLMULTI-RXN\" set to \"OR\". Please modify it if necessary.\r\n"
     ]
    }
   ],
   "source": [
    "!tail debug.log -n 20"
   ]
  },
  {
   "cell_type": "markdown",
   "metadata": {
    "id": "WZ78z82Mgbdl"
   },
   "source": [
    "## Non-zero flux test\n",
    "\n",
    "When the users calls the function `add_pathway()`, CobraMod test each COBRApy\n",
    "Reaction of the `Pathway` for its capability to carry a non-zero flux.\n",
    "Additionally, the users can test individual COBRApy reactions by using the \n",
    "function [cobramod.test_non_zero_flux()](\n",
    "module/cobramod/index.html#cobramod.test_non_zero_flux()\n",
    ")\n",
    "\n",
    "When using this function, CobraMod tests if the metabolites of given reaction\n",
    "can be turned over, i.e. the reaction can carry a non-zero flux. If the text initially fails, auxiliary sink reactions will be added to the model. CobraMod will raise a warning and suggests manual curation steps. Otherwise, if no \n",
    "message appears, the test is passed.\n",
    "\n",
    "In this example, we test the glutathione synthase reaction\n",
    "(`GLUTATHIONE-SYN-RXN`) for its capability to carry a non-zero flux.\n",
    "Using the function `add_reactions()` we added reactions, whose metabolites\n",
    "participate in the synthase reaction. The users can specify in the argument\n",
    "`ignore_list` the metabolites that users do not want to turn over, i.e CobraMod\n",
    "does not create a auxiliary sink reaction for `PROTON_p`. The original reaction\n",
    "cannot have a flux since protons cannot be transfer to the reaction. "
   ]
  },
  {
   "cell_type": "code",
   "execution_count": 21,
   "metadata": {
    "colab": {
     "base_uri": "https://localhost:8080/",
     "height": 1000
    },
    "id": "1eLXkls4qmph",
    "outputId": "786fa4b9-9ef6-4b52-a5c6-c61ea0e9d8af",
    "tags": [
     "raises-exception"
    ]
   },
   "outputs": [
    {
     "name": "stderr",
     "output_type": "stream",
     "text": [
      "/home/stefano/Documents/cobramod/src/cobramod/utils.py:53: UserWarning: Reaction \"Redox_ADP_ATP_p\" unbalanced. Following atoms are affected. Please verify:\n",
      "{'charge': -1.0, 'O': 3.0, 'P': 1.0}\n",
      "  warn(message=msg, category=UserWarning)\n"
     ]
    },
    {
     "ename": "NotInRangeError",
     "evalue": "Non-zero flux test for reaction \"GLUTATHIONE_SYN_RXN_p\" failed multiple times. Flux value results lower than solver tolerance. Please add manually reactions that can turn over the metabolites of this reaction.",
     "output_type": "error",
     "traceback": [
      "\u001b[0;31m---------------------------------------------------------------------------\u001b[0m",
      "\u001b[0;31mInfeasible\u001b[0m                                Traceback (most recent call last)",
      "\u001b[0;32m~/Documents/cobramod/src/cobramod/core/extension.py\u001b[0m in \u001b[0;36mtest_non_zero_flux\u001b[0;34m(model, reaction, times, ignore_list)\u001b[0m\n\u001b[1;32m    352\u001b[0m     \u001b[0;32mtry\u001b[0m\u001b[0;34m:\u001b[0m\u001b[0;34m\u001b[0m\u001b[0;34m\u001b[0m\u001b[0m\n\u001b[0;32m--> 353\u001b[0;31m         \u001b[0mmodel\u001b[0m\u001b[0;34m.\u001b[0m\u001b[0mslim_optimize\u001b[0m\u001b[0;34m(\u001b[0m\u001b[0merror_value\u001b[0m\u001b[0;34m=\u001b[0m\u001b[0;32mNone\u001b[0m\u001b[0;34m)\u001b[0m\u001b[0;34m\u001b[0m\u001b[0;34m\u001b[0m\u001b[0m\n\u001b[0m\u001b[1;32m    354\u001b[0m         \u001b[0;31m# if works, pass and return old objective\u001b[0m\u001b[0;34m\u001b[0m\u001b[0;34m\u001b[0m\u001b[0;34m\u001b[0m\u001b[0m\n",
      "\u001b[0;32m~/miniconda3/envs/cobramod/lib/python3.7/site-packages/cobra/core/model.py\u001b[0m in \u001b[0;36mslim_optimize\u001b[0;34m(self, error_value, message)\u001b[0m\n\u001b[1;32m   1063\u001b[0m         \u001b[0;32melse\u001b[0m\u001b[0;34m:\u001b[0m\u001b[0;34m\u001b[0m\u001b[0;34m\u001b[0m\u001b[0m\n\u001b[0;32m-> 1064\u001b[0;31m             \u001b[0massert_optimal\u001b[0m\u001b[0;34m(\u001b[0m\u001b[0mself\u001b[0m\u001b[0;34m,\u001b[0m \u001b[0mmessage\u001b[0m\u001b[0;34m)\u001b[0m\u001b[0;34m\u001b[0m\u001b[0;34m\u001b[0m\u001b[0m\n\u001b[0m\u001b[1;32m   1065\u001b[0m \u001b[0;34m\u001b[0m\u001b[0m\n",
      "\u001b[0;32m~/miniconda3/envs/cobramod/lib/python3.7/site-packages/cobra/util/solver.py\u001b[0m in \u001b[0;36massert_optimal\u001b[0;34m(model, message)\u001b[0m\n\u001b[1;32m    589\u001b[0m         \u001b[0mexception_cls\u001b[0m \u001b[0;34m=\u001b[0m \u001b[0mOPTLANG_TO_EXCEPTIONS_DICT\u001b[0m\u001b[0;34m.\u001b[0m\u001b[0mget\u001b[0m\u001b[0;34m(\u001b[0m\u001b[0mstatus\u001b[0m\u001b[0;34m,\u001b[0m \u001b[0mOptimizationError\u001b[0m\u001b[0;34m)\u001b[0m\u001b[0;34m\u001b[0m\u001b[0;34m\u001b[0m\u001b[0m\n\u001b[0;32m--> 590\u001b[0;31m         \u001b[0;32mraise\u001b[0m \u001b[0mexception_cls\u001b[0m\u001b[0;34m(\u001b[0m\u001b[0;34mf\"{message} ({status}).\"\u001b[0m\u001b[0;34m)\u001b[0m\u001b[0;34m\u001b[0m\u001b[0;34m\u001b[0m\u001b[0m\n\u001b[0m\u001b[1;32m    591\u001b[0m \u001b[0;34m\u001b[0m\u001b[0m\n",
      "\u001b[0;31mInfeasible\u001b[0m: None (infeasible).",
      "\nDuring handling of the above exception, another exception occurred:\n",
      "\u001b[0;31mInfeasible\u001b[0m                                Traceback (most recent call last)",
      "\u001b[0;32m~/Documents/cobramod/src/cobramod/core/extension.py\u001b[0m in \u001b[0;36mtest_non_zero_flux\u001b[0;34m(model, reaction, times, ignore_list)\u001b[0m\n\u001b[1;32m    352\u001b[0m     \u001b[0;32mtry\u001b[0m\u001b[0;34m:\u001b[0m\u001b[0;34m\u001b[0m\u001b[0;34m\u001b[0m\u001b[0m\n\u001b[0;32m--> 353\u001b[0;31m         \u001b[0mmodel\u001b[0m\u001b[0;34m.\u001b[0m\u001b[0mslim_optimize\u001b[0m\u001b[0;34m(\u001b[0m\u001b[0merror_value\u001b[0m\u001b[0;34m=\u001b[0m\u001b[0;32mNone\u001b[0m\u001b[0;34m)\u001b[0m\u001b[0;34m\u001b[0m\u001b[0;34m\u001b[0m\u001b[0m\n\u001b[0m\u001b[1;32m    354\u001b[0m         \u001b[0;31m# if works, pass and return old objective\u001b[0m\u001b[0;34m\u001b[0m\u001b[0;34m\u001b[0m\u001b[0;34m\u001b[0m\u001b[0m\n",
      "\u001b[0;32m~/miniconda3/envs/cobramod/lib/python3.7/site-packages/cobra/core/model.py\u001b[0m in \u001b[0;36mslim_optimize\u001b[0;34m(self, error_value, message)\u001b[0m\n\u001b[1;32m   1063\u001b[0m         \u001b[0;32melse\u001b[0m\u001b[0;34m:\u001b[0m\u001b[0;34m\u001b[0m\u001b[0;34m\u001b[0m\u001b[0m\n\u001b[0;32m-> 1064\u001b[0;31m             \u001b[0massert_optimal\u001b[0m\u001b[0;34m(\u001b[0m\u001b[0mself\u001b[0m\u001b[0;34m,\u001b[0m \u001b[0mmessage\u001b[0m\u001b[0;34m)\u001b[0m\u001b[0;34m\u001b[0m\u001b[0;34m\u001b[0m\u001b[0m\n\u001b[0m\u001b[1;32m   1065\u001b[0m \u001b[0;34m\u001b[0m\u001b[0m\n",
      "\u001b[0;32m~/miniconda3/envs/cobramod/lib/python3.7/site-packages/cobra/util/solver.py\u001b[0m in \u001b[0;36massert_optimal\u001b[0;34m(model, message)\u001b[0m\n\u001b[1;32m    589\u001b[0m         \u001b[0mexception_cls\u001b[0m \u001b[0;34m=\u001b[0m \u001b[0mOPTLANG_TO_EXCEPTIONS_DICT\u001b[0m\u001b[0;34m.\u001b[0m\u001b[0mget\u001b[0m\u001b[0;34m(\u001b[0m\u001b[0mstatus\u001b[0m\u001b[0;34m,\u001b[0m \u001b[0mOptimizationError\u001b[0m\u001b[0;34m)\u001b[0m\u001b[0;34m\u001b[0m\u001b[0;34m\u001b[0m\u001b[0m\n\u001b[0;32m--> 590\u001b[0;31m         \u001b[0;32mraise\u001b[0m \u001b[0mexception_cls\u001b[0m\u001b[0;34m(\u001b[0m\u001b[0;34mf\"{message} ({status}).\"\u001b[0m\u001b[0;34m)\u001b[0m\u001b[0;34m\u001b[0m\u001b[0;34m\u001b[0m\u001b[0m\n\u001b[0m\u001b[1;32m    591\u001b[0m \u001b[0;34m\u001b[0m\u001b[0m\n",
      "\u001b[0;31mInfeasible\u001b[0m: None (infeasible).",
      "\nDuring handling of the above exception, another exception occurred:\n",
      "\u001b[0;31mInfeasible\u001b[0m                                Traceback (most recent call last)",
      "\u001b[0;32m~/Documents/cobramod/src/cobramod/core/extension.py\u001b[0m in \u001b[0;36mtest_non_zero_flux\u001b[0;34m(model, reaction, times, ignore_list)\u001b[0m\n\u001b[1;32m    352\u001b[0m     \u001b[0;32mtry\u001b[0m\u001b[0;34m:\u001b[0m\u001b[0;34m\u001b[0m\u001b[0;34m\u001b[0m\u001b[0m\n\u001b[0;32m--> 353\u001b[0;31m         \u001b[0mmodel\u001b[0m\u001b[0;34m.\u001b[0m\u001b[0mslim_optimize\u001b[0m\u001b[0;34m(\u001b[0m\u001b[0merror_value\u001b[0m\u001b[0;34m=\u001b[0m\u001b[0;32mNone\u001b[0m\u001b[0;34m)\u001b[0m\u001b[0;34m\u001b[0m\u001b[0;34m\u001b[0m\u001b[0m\n\u001b[0m\u001b[1;32m    354\u001b[0m         \u001b[0;31m# if works, pass and return old objective\u001b[0m\u001b[0;34m\u001b[0m\u001b[0;34m\u001b[0m\u001b[0;34m\u001b[0m\u001b[0m\n",
      "\u001b[0;32m~/miniconda3/envs/cobramod/lib/python3.7/site-packages/cobra/core/model.py\u001b[0m in \u001b[0;36mslim_optimize\u001b[0;34m(self, error_value, message)\u001b[0m\n\u001b[1;32m   1063\u001b[0m         \u001b[0;32melse\u001b[0m\u001b[0;34m:\u001b[0m\u001b[0;34m\u001b[0m\u001b[0;34m\u001b[0m\u001b[0m\n\u001b[0;32m-> 1064\u001b[0;31m             \u001b[0massert_optimal\u001b[0m\u001b[0;34m(\u001b[0m\u001b[0mself\u001b[0m\u001b[0;34m,\u001b[0m \u001b[0mmessage\u001b[0m\u001b[0;34m)\u001b[0m\u001b[0;34m\u001b[0m\u001b[0;34m\u001b[0m\u001b[0m\n\u001b[0m\u001b[1;32m   1065\u001b[0m \u001b[0;34m\u001b[0m\u001b[0m\n",
      "\u001b[0;32m~/miniconda3/envs/cobramod/lib/python3.7/site-packages/cobra/util/solver.py\u001b[0m in \u001b[0;36massert_optimal\u001b[0;34m(model, message)\u001b[0m\n\u001b[1;32m    589\u001b[0m         \u001b[0mexception_cls\u001b[0m \u001b[0;34m=\u001b[0m \u001b[0mOPTLANG_TO_EXCEPTIONS_DICT\u001b[0m\u001b[0;34m.\u001b[0m\u001b[0mget\u001b[0m\u001b[0;34m(\u001b[0m\u001b[0mstatus\u001b[0m\u001b[0;34m,\u001b[0m \u001b[0mOptimizationError\u001b[0m\u001b[0;34m)\u001b[0m\u001b[0;34m\u001b[0m\u001b[0;34m\u001b[0m\u001b[0m\n\u001b[0;32m--> 590\u001b[0;31m         \u001b[0;32mraise\u001b[0m \u001b[0mexception_cls\u001b[0m\u001b[0;34m(\u001b[0m\u001b[0;34mf\"{message} ({status}).\"\u001b[0m\u001b[0;34m)\u001b[0m\u001b[0;34m\u001b[0m\u001b[0;34m\u001b[0m\u001b[0m\n\u001b[0m\u001b[1;32m    591\u001b[0m \u001b[0;34m\u001b[0m\u001b[0m\n",
      "\u001b[0;31mInfeasible\u001b[0m: None (infeasible).",
      "\nDuring handling of the above exception, another exception occurred:\n",
      "\u001b[0;31mInfeasible\u001b[0m                                Traceback (most recent call last)",
      "\u001b[0;32m~/Documents/cobramod/src/cobramod/core/extension.py\u001b[0m in \u001b[0;36mtest_non_zero_flux\u001b[0;34m(model, reaction, times, ignore_list)\u001b[0m\n\u001b[1;32m    352\u001b[0m     \u001b[0;32mtry\u001b[0m\u001b[0;34m:\u001b[0m\u001b[0;34m\u001b[0m\u001b[0;34m\u001b[0m\u001b[0m\n\u001b[0;32m--> 353\u001b[0;31m         \u001b[0mmodel\u001b[0m\u001b[0;34m.\u001b[0m\u001b[0mslim_optimize\u001b[0m\u001b[0;34m(\u001b[0m\u001b[0merror_value\u001b[0m\u001b[0;34m=\u001b[0m\u001b[0;32mNone\u001b[0m\u001b[0;34m)\u001b[0m\u001b[0;34m\u001b[0m\u001b[0;34m\u001b[0m\u001b[0m\n\u001b[0m\u001b[1;32m    354\u001b[0m         \u001b[0;31m# if works, pass and return old objective\u001b[0m\u001b[0;34m\u001b[0m\u001b[0;34m\u001b[0m\u001b[0;34m\u001b[0m\u001b[0m\n",
      "\u001b[0;32m~/miniconda3/envs/cobramod/lib/python3.7/site-packages/cobra/core/model.py\u001b[0m in \u001b[0;36mslim_optimize\u001b[0;34m(self, error_value, message)\u001b[0m\n\u001b[1;32m   1063\u001b[0m         \u001b[0;32melse\u001b[0m\u001b[0;34m:\u001b[0m\u001b[0;34m\u001b[0m\u001b[0;34m\u001b[0m\u001b[0m\n\u001b[0;32m-> 1064\u001b[0;31m             \u001b[0massert_optimal\u001b[0m\u001b[0;34m(\u001b[0m\u001b[0mself\u001b[0m\u001b[0;34m,\u001b[0m \u001b[0mmessage\u001b[0m\u001b[0;34m)\u001b[0m\u001b[0;34m\u001b[0m\u001b[0;34m\u001b[0m\u001b[0m\n\u001b[0m\u001b[1;32m   1065\u001b[0m \u001b[0;34m\u001b[0m\u001b[0m\n",
      "\u001b[0;32m~/miniconda3/envs/cobramod/lib/python3.7/site-packages/cobra/util/solver.py\u001b[0m in \u001b[0;36massert_optimal\u001b[0;34m(model, message)\u001b[0m\n\u001b[1;32m    589\u001b[0m         \u001b[0mexception_cls\u001b[0m \u001b[0;34m=\u001b[0m \u001b[0mOPTLANG_TO_EXCEPTIONS_DICT\u001b[0m\u001b[0;34m.\u001b[0m\u001b[0mget\u001b[0m\u001b[0;34m(\u001b[0m\u001b[0mstatus\u001b[0m\u001b[0;34m,\u001b[0m \u001b[0mOptimizationError\u001b[0m\u001b[0;34m)\u001b[0m\u001b[0;34m\u001b[0m\u001b[0;34m\u001b[0m\u001b[0m\n\u001b[0;32m--> 590\u001b[0;31m         \u001b[0;32mraise\u001b[0m \u001b[0mexception_cls\u001b[0m\u001b[0;34m(\u001b[0m\u001b[0;34mf\"{message} ({status}).\"\u001b[0m\u001b[0;34m)\u001b[0m\u001b[0;34m\u001b[0m\u001b[0;34m\u001b[0m\u001b[0m\n\u001b[0m\u001b[1;32m    591\u001b[0m \u001b[0;34m\u001b[0m\u001b[0m\n",
      "\u001b[0;31mInfeasible\u001b[0m: None (infeasible).",
      "\nDuring handling of the above exception, another exception occurred:\n",
      "\u001b[0;31mInfeasible\u001b[0m                                Traceback (most recent call last)",
      "\u001b[0;32m~/Documents/cobramod/src/cobramod/core/extension.py\u001b[0m in \u001b[0;36mtest_non_zero_flux\u001b[0;34m(model, reaction, times, ignore_list)\u001b[0m\n\u001b[1;32m    352\u001b[0m     \u001b[0;32mtry\u001b[0m\u001b[0;34m:\u001b[0m\u001b[0;34m\u001b[0m\u001b[0;34m\u001b[0m\u001b[0m\n\u001b[0;32m--> 353\u001b[0;31m         \u001b[0mmodel\u001b[0m\u001b[0;34m.\u001b[0m\u001b[0mslim_optimize\u001b[0m\u001b[0;34m(\u001b[0m\u001b[0merror_value\u001b[0m\u001b[0;34m=\u001b[0m\u001b[0;32mNone\u001b[0m\u001b[0;34m)\u001b[0m\u001b[0;34m\u001b[0m\u001b[0;34m\u001b[0m\u001b[0m\n\u001b[0m\u001b[1;32m    354\u001b[0m         \u001b[0;31m# if works, pass and return old objective\u001b[0m\u001b[0;34m\u001b[0m\u001b[0;34m\u001b[0m\u001b[0;34m\u001b[0m\u001b[0m\n",
      "\u001b[0;32m~/miniconda3/envs/cobramod/lib/python3.7/site-packages/cobra/core/model.py\u001b[0m in \u001b[0;36mslim_optimize\u001b[0;34m(self, error_value, message)\u001b[0m\n\u001b[1;32m   1063\u001b[0m         \u001b[0;32melse\u001b[0m\u001b[0;34m:\u001b[0m\u001b[0;34m\u001b[0m\u001b[0;34m\u001b[0m\u001b[0m\n\u001b[0;32m-> 1064\u001b[0;31m             \u001b[0massert_optimal\u001b[0m\u001b[0;34m(\u001b[0m\u001b[0mself\u001b[0m\u001b[0;34m,\u001b[0m \u001b[0mmessage\u001b[0m\u001b[0;34m)\u001b[0m\u001b[0;34m\u001b[0m\u001b[0;34m\u001b[0m\u001b[0m\n\u001b[0m\u001b[1;32m   1065\u001b[0m \u001b[0;34m\u001b[0m\u001b[0m\n",
      "\u001b[0;32m~/miniconda3/envs/cobramod/lib/python3.7/site-packages/cobra/util/solver.py\u001b[0m in \u001b[0;36massert_optimal\u001b[0;34m(model, message)\u001b[0m\n\u001b[1;32m    589\u001b[0m         \u001b[0mexception_cls\u001b[0m \u001b[0;34m=\u001b[0m \u001b[0mOPTLANG_TO_EXCEPTIONS_DICT\u001b[0m\u001b[0;34m.\u001b[0m\u001b[0mget\u001b[0m\u001b[0;34m(\u001b[0m\u001b[0mstatus\u001b[0m\u001b[0;34m,\u001b[0m \u001b[0mOptimizationError\u001b[0m\u001b[0;34m)\u001b[0m\u001b[0;34m\u001b[0m\u001b[0;34m\u001b[0m\u001b[0m\n\u001b[0;32m--> 590\u001b[0;31m         \u001b[0;32mraise\u001b[0m \u001b[0mexception_cls\u001b[0m\u001b[0;34m(\u001b[0m\u001b[0;34mf\"{message} ({status}).\"\u001b[0m\u001b[0;34m)\u001b[0m\u001b[0;34m\u001b[0m\u001b[0;34m\u001b[0m\u001b[0m\n\u001b[0m\u001b[1;32m    591\u001b[0m \u001b[0;34m\u001b[0m\u001b[0m\n",
      "\u001b[0;31mInfeasible\u001b[0m: None (infeasible).",
      "\nDuring handling of the above exception, another exception occurred:\n",
      "\u001b[0;31mInfeasible\u001b[0m                                Traceback (most recent call last)",
      "\u001b[0;32m~/Documents/cobramod/src/cobramod/core/extension.py\u001b[0m in \u001b[0;36mtest_non_zero_flux\u001b[0;34m(model, reaction, times, ignore_list)\u001b[0m\n\u001b[1;32m    352\u001b[0m     \u001b[0;32mtry\u001b[0m\u001b[0;34m:\u001b[0m\u001b[0;34m\u001b[0m\u001b[0;34m\u001b[0m\u001b[0m\n\u001b[0;32m--> 353\u001b[0;31m         \u001b[0mmodel\u001b[0m\u001b[0;34m.\u001b[0m\u001b[0mslim_optimize\u001b[0m\u001b[0;34m(\u001b[0m\u001b[0merror_value\u001b[0m\u001b[0;34m=\u001b[0m\u001b[0;32mNone\u001b[0m\u001b[0;34m)\u001b[0m\u001b[0;34m\u001b[0m\u001b[0;34m\u001b[0m\u001b[0m\n\u001b[0m\u001b[1;32m    354\u001b[0m         \u001b[0;31m# if works, pass and return old objective\u001b[0m\u001b[0;34m\u001b[0m\u001b[0;34m\u001b[0m\u001b[0;34m\u001b[0m\u001b[0m\n",
      "\u001b[0;32m~/miniconda3/envs/cobramod/lib/python3.7/site-packages/cobra/core/model.py\u001b[0m in \u001b[0;36mslim_optimize\u001b[0;34m(self, error_value, message)\u001b[0m\n\u001b[1;32m   1063\u001b[0m         \u001b[0;32melse\u001b[0m\u001b[0;34m:\u001b[0m\u001b[0;34m\u001b[0m\u001b[0;34m\u001b[0m\u001b[0m\n\u001b[0;32m-> 1064\u001b[0;31m             \u001b[0massert_optimal\u001b[0m\u001b[0;34m(\u001b[0m\u001b[0mself\u001b[0m\u001b[0;34m,\u001b[0m \u001b[0mmessage\u001b[0m\u001b[0;34m)\u001b[0m\u001b[0;34m\u001b[0m\u001b[0;34m\u001b[0m\u001b[0m\n\u001b[0m\u001b[1;32m   1065\u001b[0m \u001b[0;34m\u001b[0m\u001b[0m\n",
      "\u001b[0;32m~/miniconda3/envs/cobramod/lib/python3.7/site-packages/cobra/util/solver.py\u001b[0m in \u001b[0;36massert_optimal\u001b[0;34m(model, message)\u001b[0m\n\u001b[1;32m    589\u001b[0m         \u001b[0mexception_cls\u001b[0m \u001b[0;34m=\u001b[0m \u001b[0mOPTLANG_TO_EXCEPTIONS_DICT\u001b[0m\u001b[0;34m.\u001b[0m\u001b[0mget\u001b[0m\u001b[0;34m(\u001b[0m\u001b[0mstatus\u001b[0m\u001b[0;34m,\u001b[0m \u001b[0mOptimizationError\u001b[0m\u001b[0;34m)\u001b[0m\u001b[0;34m\u001b[0m\u001b[0;34m\u001b[0m\u001b[0m\n\u001b[0;32m--> 590\u001b[0;31m         \u001b[0;32mraise\u001b[0m \u001b[0mexception_cls\u001b[0m\u001b[0;34m(\u001b[0m\u001b[0;34mf\"{message} ({status}).\"\u001b[0m\u001b[0;34m)\u001b[0m\u001b[0;34m\u001b[0m\u001b[0;34m\u001b[0m\u001b[0m\n\u001b[0m\u001b[1;32m    591\u001b[0m \u001b[0;34m\u001b[0m\u001b[0m\n",
      "\u001b[0;31mInfeasible\u001b[0m: None (infeasible).",
      "\nDuring handling of the above exception, another exception occurred:\n",
      "\u001b[0;31mInfeasible\u001b[0m                                Traceback (most recent call last)",
      "\u001b[0;32m~/Documents/cobramod/src/cobramod/core/extension.py\u001b[0m in \u001b[0;36mtest_non_zero_flux\u001b[0;34m(model, reaction, times, ignore_list)\u001b[0m\n\u001b[1;32m    352\u001b[0m     \u001b[0;32mtry\u001b[0m\u001b[0;34m:\u001b[0m\u001b[0;34m\u001b[0m\u001b[0;34m\u001b[0m\u001b[0m\n\u001b[0;32m--> 353\u001b[0;31m         \u001b[0mmodel\u001b[0m\u001b[0;34m.\u001b[0m\u001b[0mslim_optimize\u001b[0m\u001b[0;34m(\u001b[0m\u001b[0merror_value\u001b[0m\u001b[0;34m=\u001b[0m\u001b[0;32mNone\u001b[0m\u001b[0;34m)\u001b[0m\u001b[0;34m\u001b[0m\u001b[0;34m\u001b[0m\u001b[0m\n\u001b[0m\u001b[1;32m    354\u001b[0m         \u001b[0;31m# if works, pass and return old objective\u001b[0m\u001b[0;34m\u001b[0m\u001b[0;34m\u001b[0m\u001b[0;34m\u001b[0m\u001b[0m\n",
      "\u001b[0;32m~/miniconda3/envs/cobramod/lib/python3.7/site-packages/cobra/core/model.py\u001b[0m in \u001b[0;36mslim_optimize\u001b[0;34m(self, error_value, message)\u001b[0m\n\u001b[1;32m   1063\u001b[0m         \u001b[0;32melse\u001b[0m\u001b[0;34m:\u001b[0m\u001b[0;34m\u001b[0m\u001b[0;34m\u001b[0m\u001b[0m\n\u001b[0;32m-> 1064\u001b[0;31m             \u001b[0massert_optimal\u001b[0m\u001b[0;34m(\u001b[0m\u001b[0mself\u001b[0m\u001b[0;34m,\u001b[0m \u001b[0mmessage\u001b[0m\u001b[0;34m)\u001b[0m\u001b[0;34m\u001b[0m\u001b[0;34m\u001b[0m\u001b[0m\n\u001b[0m\u001b[1;32m   1065\u001b[0m \u001b[0;34m\u001b[0m\u001b[0m\n",
      "\u001b[0;32m~/miniconda3/envs/cobramod/lib/python3.7/site-packages/cobra/util/solver.py\u001b[0m in \u001b[0;36massert_optimal\u001b[0;34m(model, message)\u001b[0m\n\u001b[1;32m    589\u001b[0m         \u001b[0mexception_cls\u001b[0m \u001b[0;34m=\u001b[0m \u001b[0mOPTLANG_TO_EXCEPTIONS_DICT\u001b[0m\u001b[0;34m.\u001b[0m\u001b[0mget\u001b[0m\u001b[0;34m(\u001b[0m\u001b[0mstatus\u001b[0m\u001b[0;34m,\u001b[0m \u001b[0mOptimizationError\u001b[0m\u001b[0;34m)\u001b[0m\u001b[0;34m\u001b[0m\u001b[0;34m\u001b[0m\u001b[0m\n\u001b[0;32m--> 590\u001b[0;31m         \u001b[0;32mraise\u001b[0m \u001b[0mexception_cls\u001b[0m\u001b[0;34m(\u001b[0m\u001b[0;34mf\"{message} ({status}).\"\u001b[0m\u001b[0;34m)\u001b[0m\u001b[0;34m\u001b[0m\u001b[0;34m\u001b[0m\u001b[0m\n\u001b[0m\u001b[1;32m    591\u001b[0m \u001b[0;34m\u001b[0m\u001b[0m\n",
      "\u001b[0;31mInfeasible\u001b[0m: None (infeasible).",
      "\nDuring handling of the above exception, another exception occurred:\n",
      "\u001b[0;31mNotInRangeError\u001b[0m                           Traceback (most recent call last)",
      "\u001b[0;32m/tmp/ipykernel_65143/3686935466.py\u001b[0m in \u001b[0;36m<module>\u001b[0;34m\u001b[0m\n\u001b[1;32m     21\u001b[0m     \u001b[0mmodel\u001b[0m\u001b[0;34m=\u001b[0m\u001b[0mtest_model\u001b[0m\u001b[0;34m,\u001b[0m\u001b[0;34m\u001b[0m\u001b[0;34m\u001b[0m\u001b[0m\n\u001b[1;32m     22\u001b[0m     \u001b[0mreaction\u001b[0m\u001b[0;34m=\u001b[0m\u001b[0;34m\"GLUTATHIONE_SYN_RXN_p\"\u001b[0m\u001b[0;34m,\u001b[0m\u001b[0;34m\u001b[0m\u001b[0;34m\u001b[0m\u001b[0m\n\u001b[0;32m---> 23\u001b[0;31m     \u001b[0mignore_list\u001b[0m\u001b[0;34m=\u001b[0m\u001b[0;34m[\u001b[0m\u001b[0;34m\"PROTON_p\"\u001b[0m\u001b[0;34m]\u001b[0m\u001b[0;34m,\u001b[0m\u001b[0;34m\u001b[0m\u001b[0;34m\u001b[0m\u001b[0m\n\u001b[0m\u001b[1;32m     24\u001b[0m )\n",
      "\u001b[0;32m~/Documents/cobramod/src/cobramod/core/extension.py\u001b[0m in \u001b[0;36mtest_non_zero_flux\u001b[0;34m(model, reaction, times, ignore_list)\u001b[0m\n\u001b[1;32m    372\u001b[0m             \u001b[0mreaction\u001b[0m\u001b[0;34m=\u001b[0m\u001b[0mreaction\u001b[0m\u001b[0;34m,\u001b[0m\u001b[0;34m\u001b[0m\u001b[0;34m\u001b[0m\u001b[0m\n\u001b[1;32m    373\u001b[0m             \u001b[0mtimes\u001b[0m\u001b[0;34m=\u001b[0m\u001b[0mtimes\u001b[0m \u001b[0;34m+\u001b[0m \u001b[0;36m1\u001b[0m\u001b[0;34m,\u001b[0m\u001b[0;34m\u001b[0m\u001b[0;34m\u001b[0m\u001b[0m\n\u001b[0;32m--> 374\u001b[0;31m             \u001b[0mignore_list\u001b[0m\u001b[0;34m=\u001b[0m\u001b[0mignore_list\u001b[0m\u001b[0;34m,\u001b[0m\u001b[0;34m\u001b[0m\u001b[0;34m\u001b[0m\u001b[0m\n\u001b[0m\u001b[1;32m    375\u001b[0m         )\n\u001b[1;32m    376\u001b[0m \u001b[0;34m\u001b[0m\u001b[0m\n",
      "\u001b[0;32m~/Documents/cobramod/src/cobramod/core/extension.py\u001b[0m in \u001b[0;36mtest_non_zero_flux\u001b[0;34m(model, reaction, times, ignore_list)\u001b[0m\n\u001b[1;32m    372\u001b[0m             \u001b[0mreaction\u001b[0m\u001b[0;34m=\u001b[0m\u001b[0mreaction\u001b[0m\u001b[0;34m,\u001b[0m\u001b[0;34m\u001b[0m\u001b[0;34m\u001b[0m\u001b[0m\n\u001b[1;32m    373\u001b[0m             \u001b[0mtimes\u001b[0m\u001b[0;34m=\u001b[0m\u001b[0mtimes\u001b[0m \u001b[0;34m+\u001b[0m \u001b[0;36m1\u001b[0m\u001b[0;34m,\u001b[0m\u001b[0;34m\u001b[0m\u001b[0;34m\u001b[0m\u001b[0m\n\u001b[0;32m--> 374\u001b[0;31m             \u001b[0mignore_list\u001b[0m\u001b[0;34m=\u001b[0m\u001b[0mignore_list\u001b[0m\u001b[0;34m,\u001b[0m\u001b[0;34m\u001b[0m\u001b[0;34m\u001b[0m\u001b[0m\n\u001b[0m\u001b[1;32m    375\u001b[0m         )\n\u001b[1;32m    376\u001b[0m \u001b[0;34m\u001b[0m\u001b[0m\n",
      "\u001b[0;32m~/Documents/cobramod/src/cobramod/core/extension.py\u001b[0m in \u001b[0;36mtest_non_zero_flux\u001b[0;34m(model, reaction, times, ignore_list)\u001b[0m\n\u001b[1;32m    372\u001b[0m             \u001b[0mreaction\u001b[0m\u001b[0;34m=\u001b[0m\u001b[0mreaction\u001b[0m\u001b[0;34m,\u001b[0m\u001b[0;34m\u001b[0m\u001b[0;34m\u001b[0m\u001b[0m\n\u001b[1;32m    373\u001b[0m             \u001b[0mtimes\u001b[0m\u001b[0;34m=\u001b[0m\u001b[0mtimes\u001b[0m \u001b[0;34m+\u001b[0m \u001b[0;36m1\u001b[0m\u001b[0;34m,\u001b[0m\u001b[0;34m\u001b[0m\u001b[0;34m\u001b[0m\u001b[0m\n\u001b[0;32m--> 374\u001b[0;31m             \u001b[0mignore_list\u001b[0m\u001b[0;34m=\u001b[0m\u001b[0mignore_list\u001b[0m\u001b[0;34m,\u001b[0m\u001b[0;34m\u001b[0m\u001b[0;34m\u001b[0m\u001b[0m\n\u001b[0m\u001b[1;32m    375\u001b[0m         )\n\u001b[1;32m    376\u001b[0m \u001b[0;34m\u001b[0m\u001b[0m\n",
      "\u001b[0;32m~/Documents/cobramod/src/cobramod/core/extension.py\u001b[0m in \u001b[0;36mtest_non_zero_flux\u001b[0;34m(model, reaction, times, ignore_list)\u001b[0m\n\u001b[1;32m    372\u001b[0m             \u001b[0mreaction\u001b[0m\u001b[0;34m=\u001b[0m\u001b[0mreaction\u001b[0m\u001b[0;34m,\u001b[0m\u001b[0;34m\u001b[0m\u001b[0;34m\u001b[0m\u001b[0m\n\u001b[1;32m    373\u001b[0m             \u001b[0mtimes\u001b[0m\u001b[0;34m=\u001b[0m\u001b[0mtimes\u001b[0m \u001b[0;34m+\u001b[0m \u001b[0;36m1\u001b[0m\u001b[0;34m,\u001b[0m\u001b[0;34m\u001b[0m\u001b[0;34m\u001b[0m\u001b[0m\n\u001b[0;32m--> 374\u001b[0;31m             \u001b[0mignore_list\u001b[0m\u001b[0;34m=\u001b[0m\u001b[0mignore_list\u001b[0m\u001b[0;34m,\u001b[0m\u001b[0;34m\u001b[0m\u001b[0;34m\u001b[0m\u001b[0m\n\u001b[0m\u001b[1;32m    375\u001b[0m         )\n\u001b[1;32m    376\u001b[0m \u001b[0;34m\u001b[0m\u001b[0m\n",
      "\u001b[0;32m~/Documents/cobramod/src/cobramod/core/extension.py\u001b[0m in \u001b[0;36mtest_non_zero_flux\u001b[0;34m(model, reaction, times, ignore_list)\u001b[0m\n\u001b[1;32m    372\u001b[0m             \u001b[0mreaction\u001b[0m\u001b[0;34m=\u001b[0m\u001b[0mreaction\u001b[0m\u001b[0;34m,\u001b[0m\u001b[0;34m\u001b[0m\u001b[0;34m\u001b[0m\u001b[0m\n\u001b[1;32m    373\u001b[0m             \u001b[0mtimes\u001b[0m\u001b[0;34m=\u001b[0m\u001b[0mtimes\u001b[0m \u001b[0;34m+\u001b[0m \u001b[0;36m1\u001b[0m\u001b[0;34m,\u001b[0m\u001b[0;34m\u001b[0m\u001b[0;34m\u001b[0m\u001b[0m\n\u001b[0;32m--> 374\u001b[0;31m             \u001b[0mignore_list\u001b[0m\u001b[0;34m=\u001b[0m\u001b[0mignore_list\u001b[0m\u001b[0;34m,\u001b[0m\u001b[0;34m\u001b[0m\u001b[0;34m\u001b[0m\u001b[0m\n\u001b[0m\u001b[1;32m    375\u001b[0m         )\n\u001b[1;32m    376\u001b[0m \u001b[0;34m\u001b[0m\u001b[0m\n",
      "\u001b[0;32m~/Documents/cobramod/src/cobramod/core/extension.py\u001b[0m in \u001b[0;36mtest_non_zero_flux\u001b[0;34m(model, reaction, times, ignore_list)\u001b[0m\n\u001b[1;32m    372\u001b[0m             \u001b[0mreaction\u001b[0m\u001b[0;34m=\u001b[0m\u001b[0mreaction\u001b[0m\u001b[0;34m,\u001b[0m\u001b[0;34m\u001b[0m\u001b[0;34m\u001b[0m\u001b[0m\n\u001b[1;32m    373\u001b[0m             \u001b[0mtimes\u001b[0m\u001b[0;34m=\u001b[0m\u001b[0mtimes\u001b[0m \u001b[0;34m+\u001b[0m \u001b[0;36m1\u001b[0m\u001b[0;34m,\u001b[0m\u001b[0;34m\u001b[0m\u001b[0;34m\u001b[0m\u001b[0m\n\u001b[0;32m--> 374\u001b[0;31m             \u001b[0mignore_list\u001b[0m\u001b[0;34m=\u001b[0m\u001b[0mignore_list\u001b[0m\u001b[0;34m,\u001b[0m\u001b[0;34m\u001b[0m\u001b[0;34m\u001b[0m\u001b[0m\n\u001b[0m\u001b[1;32m    375\u001b[0m         )\n\u001b[1;32m    376\u001b[0m \u001b[0;34m\u001b[0m\u001b[0m\n",
      "\u001b[0;32m~/Documents/cobramod/src/cobramod/core/extension.py\u001b[0m in \u001b[0;36mtest_non_zero_flux\u001b[0;34m(model, reaction, times, ignore_list)\u001b[0m\n\u001b[1;32m    372\u001b[0m             \u001b[0mreaction\u001b[0m\u001b[0;34m=\u001b[0m\u001b[0mreaction\u001b[0m\u001b[0;34m,\u001b[0m\u001b[0;34m\u001b[0m\u001b[0;34m\u001b[0m\u001b[0m\n\u001b[1;32m    373\u001b[0m             \u001b[0mtimes\u001b[0m\u001b[0;34m=\u001b[0m\u001b[0mtimes\u001b[0m \u001b[0;34m+\u001b[0m \u001b[0;36m1\u001b[0m\u001b[0;34m,\u001b[0m\u001b[0;34m\u001b[0m\u001b[0;34m\u001b[0m\u001b[0m\n\u001b[0;32m--> 374\u001b[0;31m             \u001b[0mignore_list\u001b[0m\u001b[0;34m=\u001b[0m\u001b[0mignore_list\u001b[0m\u001b[0;34m,\u001b[0m\u001b[0;34m\u001b[0m\u001b[0;34m\u001b[0m\u001b[0m\n\u001b[0m\u001b[1;32m    375\u001b[0m         )\n\u001b[1;32m    376\u001b[0m \u001b[0;34m\u001b[0m\u001b[0m\n",
      "\u001b[0;32m~/Documents/cobramod/src/cobramod/core/extension.py\u001b[0m in \u001b[0;36mtest_non_zero_flux\u001b[0;34m(model, reaction, times, ignore_list)\u001b[0m\n\u001b[1;32m    347\u001b[0m     \u001b[0;31m# Setting maximum times for recursion\u001b[0m\u001b[0;34m\u001b[0m\u001b[0;34m\u001b[0m\u001b[0;34m\u001b[0m\u001b[0m\n\u001b[1;32m    348\u001b[0m     \u001b[0;32mif\u001b[0m \u001b[0mtimes\u001b[0m \u001b[0;34m==\u001b[0m \u001b[0mlen\u001b[0m\u001b[0;34m(\u001b[0m\u001b[0mmodel\u001b[0m\u001b[0;34m.\u001b[0m\u001b[0mreactions\u001b[0m\u001b[0;34m.\u001b[0m\u001b[0mget_by_id\u001b[0m\u001b[0;34m(\u001b[0m\u001b[0mreaction\u001b[0m\u001b[0;34m)\u001b[0m\u001b[0;34m.\u001b[0m\u001b[0mmetabolites\u001b[0m\u001b[0;34m)\u001b[0m\u001b[0;34m:\u001b[0m\u001b[0;34m\u001b[0m\u001b[0;34m\u001b[0m\u001b[0m\n\u001b[0;32m--> 349\u001b[0;31m         \u001b[0;32mraise\u001b[0m \u001b[0mNotInRangeError\u001b[0m\u001b[0;34m(\u001b[0m\u001b[0mreaction\u001b[0m\u001b[0;34m=\u001b[0m\u001b[0mreaction\u001b[0m\u001b[0;34m)\u001b[0m\u001b[0;34m\u001b[0m\u001b[0;34m\u001b[0m\u001b[0m\n\u001b[0m\u001b[1;32m    350\u001b[0m     \u001b[0;31m# answer must be reasonable\u001b[0m\u001b[0;34m\u001b[0m\u001b[0;34m\u001b[0m\u001b[0;34m\u001b[0m\u001b[0m\n\u001b[1;32m    351\u001b[0m     \u001b[0;31m# comparison must be using absolute values\u001b[0m\u001b[0;34m\u001b[0m\u001b[0;34m\u001b[0m\u001b[0;34m\u001b[0m\u001b[0m\n",
      "\u001b[0;31mNotInRangeError\u001b[0m: Non-zero flux test for reaction \"GLUTATHIONE_SYN_RXN_p\" failed multiple times. Flux value results lower than solver tolerance. Please add manually reactions that can turn over the metabolites of this reaction."
     ]
    }
   ],
   "source": [
    "from cobramod import test_non_zero_flux, add_reactions\n",
    "from cobramod.test import textbook_biocyc\n",
    "\n",
    "test_model = textbook_biocyc.copy()\n",
    "\n",
    "add_reactions(\n",
    "    model=test_model,\n",
    "    # These reactions will break the model and raise errors\n",
    "    obj=[\n",
    "        \"Redox_ADP_ATP_p, Redox_ADP_ATP_p | ADP_p <-> ATP_p\",\n",
    "        \"TRANS_Pi_cp, Transport Phosphate_cp | Pi_c <-> Pi_p\",\n",
    "        \"TRANS_GLUTATHIONE_cp, Transport GLUTATHIONE_cp | \"\n",
    "        + \"GLUTATHIONE_c <-> GLUTATHIONE_p\",\n",
    "        \"GLUTATHIONE-SYN-RXN, p\",\n",
    "    ],\n",
    "    directory=dir_data,\n",
    "    database=\"ECOLI\",\n",
    "    replacement={},\n",
    ")\n",
    "test_non_zero_flux(\n",
    "    model=test_model,\n",
    "    reaction=\"GLUTATHIONE_SYN_RXN_p\",\n",
    "    ignore_list=[\"PROTON_p\"],\n",
    ")\n"
   ]
  },
  {
   "cell_type": "markdown",
   "metadata": {
    "id": "lndble907408"
   },
   "source": [
    "## Converting Group back to Pathway\n",
    "\n",
    "The users can use the function [cobra.io.write_sbml_model](\n",
    "  https://cobrapy.readthedocs.io/en/latest/autoapi/cobra/io/index.html#cobra.io.write_sbml_model\n",
    ") to save their models. However, if the model has `Pathway` objects, they will\n",
    "be loaded as a regular `cobra.core.group.Group` and lose their functionalities.\n",
    "We developed the function [cobramod.model_convert()](\n",
    "module/cobramod/core/pathway/index.html#model_convert\n",
    ") to convert these groups into proper CobraMod Pathways.\n",
    "\n",
    "In this example, we simulated the loading of a `Group` and add four reactions\n",
    "into it. We only need to specify the model to convert with the argument \n",
    "`model`. Finally, we call the CobraMod Pathway and observe the specific Pathway\n",
    "HTML output."
   ]
  },
  {
   "cell_type": "code",
   "execution_count": 22,
   "metadata": {
    "colab": {
     "base_uri": "https://localhost:8080/",
     "height": 265
    },
    "id": "wu5oKFEe7408",
    "outputId": "668b1a91-9c01-45df-d890-6e1c6b52eec3"
   },
   "outputs": [
    {
     "data": {
      "text/html": [
       "\n",
       "<table> <tbody> <tr> <td><strong>Pathway identifier</strong></td>\n",
       "<td>curated_pathway</td> </tr> <tr> <td><strong>Name</strong></td>\n",
       "<td></td> </tr> <tr> <td><strong>Memory address</strong></td>\n",
       "<td>0x0139779516962256</td> </tr> <tr> <td><strong>Reactions involved</strong></td>\n",
       "<td> <p>GLCpts, G6PDH2r, PGL, GND</p> </td> </tr> <tr>\n",
       "<td><strong>Genes involved<br /></strong></td> <td> <p>b1819, b1817, b2415, b1818, b1621, b1101, b2416, b2417, b1852, b0767, b2029</p> </td> </tr> <tr>\n",
       "<td><strong>Visualization attributes</strong></td> <td> <ul> <li>vertical =\n",
       "False</li> <li>color_negative = None</li>\n",
       "<li>color_positive = None</li> <li>color_quantile =\n",
       "False</li> </ul> </td> </tr> </tbody> </table> <p>&nbsp;</p>\n"
      ],
      "text/plain": [
       "<Pathway curated_pathway at 0x7f20f47495d0>"
      ]
     },
     "execution_count": 22,
     "metadata": {},
     "output_type": "execute_result"
    }
   ],
   "source": [
    "from cobramod import model_convert\n",
    "from cobramod.test import textbook_biocyc\n",
    "from cobra.core.group import Group\n",
    "\n",
    "test_model = textbook_biocyc.copy()\n",
    "\n",
    "test_group = Group(id=\"curated_pathway\")\n",
    "for reaction in (\"GLCpts\", \"G6PDH2r\", \"PGL\", \"GND\"):\n",
    "    test_group.add_members([test_model.reactions.get_by_id(reaction)])\n",
    "test_model.add_groups([test_group])\n",
    "\n",
    "# Conversion to a Pathway\n",
    "model_convert(model=test_model)\n",
    "test_model.groups.get_by_id(\"curated_pathway\")"
   ]
  },
  {
   "cell_type": "markdown",
   "metadata": {
    "id": "cKNlZylSvsis"
   },
   "source": [
    "## Visualization with Escher\n",
    "\n",
    "CobraMod uses [Escher](https://escher.readthedocs.io/en/latest/) to visualize\n",
    "pathways. Each CobraMod Pathway includes a visualization method\n",
    "[Pathway.visualize()](\n",
    "module/cobramod/core/pathway/index.html#cobramod.core.pathway.Pathway.visualize\n",
    ") which automatically generates pathway maps of the respective set of\n",
    "reactions. These pathway maps can be easily customized to visualize flux\n",
    "distributions using default or user-defined colors and gradients (linear or\n",
    "quantile normalized).\n",
    "\n",
    "In this example, we call the function `visualize` without any arguments."
   ]
  },
  {
   "cell_type": "code",
   "execution_count": 23,
   "metadata": {
    "colab": {
     "base_uri": "https://localhost:8080/",
     "height": 17,
     "referenced_widgets": [
      "8ead19f62fd04b04b7ce42a232fcd101"
     ]
    },
    "id": "vEeMnrkK7407",
    "outputId": "7e57ab49-31be-4307-c105-adf759aa5238",
    "scrolled": false
   },
   "outputs": [
    {
     "data": {
      "application/vnd.jupyter.widget-view+json": {
       "model_id": "6eb3df6e4a6f49748c5af450d27c1d2c",
       "version_major": 2,
       "version_minor": 0
      },
      "text/plain": [
       "Builder(never_ask_before_quit=True, reaction_scale={}, reaction_styles=['color', 'text'])"
      ]
     },
     "metadata": {},
     "output_type": "display_data"
    }
   ],
   "source": [
    "test_model.groups.get_by_id(\"curated_pathway\").visualize()"
   ]
  },
  {
   "cell_type": "markdown",
   "metadata": {
    "id": "Tv6AKMMC6DYq"
   },
   "source": [
    "We can modify the orientation of our Pathway by changing the attribute \n",
    "`vertical` to `True`."
   ]
  },
  {
   "cell_type": "code",
   "execution_count": 24,
   "metadata": {
    "colab": {
     "base_uri": "https://localhost:8080/",
     "height": 17,
     "referenced_widgets": [
      "e44c2df1638f4a50a27e0205a68a845a"
     ]
    },
    "id": "g2brjcEp6DHR",
    "outputId": "5a6c61ae-4bb5-4898-8523-5855fdbad8fb"
   },
   "outputs": [
    {
     "data": {
      "application/vnd.jupyter.widget-view+json": {
       "model_id": "6c84c9c40c4e49aeb61f7772c708103f",
       "version_major": 2,
       "version_minor": 0
      },
      "text/plain": [
       "Builder(never_ask_before_quit=True, reaction_scale={}, reaction_styles=['color', 'text'])"
      ]
     },
     "metadata": {},
     "output_type": "display_data"
    }
   ],
   "source": [
    "test_model.groups.get_by_id(\"curated_pathway\").vertical = True\n",
    "test_model.groups.get_by_id(\"curated_pathway\").visualize()"
   ]
  },
  {
   "cell_type": "markdown",
   "metadata": {
    "id": "uBCHBBzkp3NV"
   },
   "source": [
    "The visualization method can also by call with the argument `solution_fluxes`.\n",
    "This function can either use a dictionary with the fluxes of the reactions\n",
    "or a [COBRApy Solution](\n",
    "https://cobrapy.readthedocs.io/en/latest/autoapi/cobra/core/solution/index.html#cobra.core.solution.Solution\n",
    "). By using either of them, CobraMod colors the fluxes according to their\n",
    "values. In this new example, we create a dictionary with fluxes and we pass it\n",
    "to the visualization method."
   ]
  },
  {
   "cell_type": "code",
   "execution_count": 25,
   "metadata": {
    "colab": {
     "base_uri": "https://localhost:8080/",
     "height": 17,
     "referenced_widgets": [
      "f113e6031e73466ba00bf82e5f7d4f61"
     ]
    },
    "id": "iBJJokl0pz7R",
    "outputId": "2132527d-8e56-4146-9aa0-f6fb48ac79eb"
   },
   "outputs": [
    {
     "data": {
      "application/vnd.jupyter.widget-view+json": {
       "model_id": "de81c876b1124736831b06ce4b9ee745",
       "version_major": 2,
       "version_minor": 0
      },
      "text/plain": [
       "Builder(never_ask_before_quit=True, reaction_data={'GLCpts': -2, 'G6PDH2r': -2, 'PGL': 0.4, 'GND': 1}, reactio…"
      ]
     },
     "metadata": {},
     "output_type": "display_data"
    }
   ],
   "source": [
    "# For flux visualization of the group\n",
    "solution =  {\n",
    "    \"GLCpts\": -2, \"G6PDH2r\": -2, \"PGL\": 0.4, \"GND\": 1\n",
    "}\n",
    "# Modifying attributes\n",
    "test_model.groups.get_by_id(\"curated_pathway\").visualize(\n",
    "    solution_fluxes=solution\n",
    ")"
   ]
  },
  {
   "cell_type": "markdown",
   "metadata": {
    "id": "yi4qsx037csv"
   },
   "source": [
    "We can change the colors of the fluxes by changing the attribute \n",
    "`color_negative` and `color_positive`. In this example, we use the red color for\n",
    "negative fluxes and green for positive fluxes."
   ]
  },
  {
   "cell_type": "code",
   "execution_count": 26,
   "metadata": {
    "colab": {
     "base_uri": "https://localhost:8080/",
     "height": 17,
     "referenced_widgets": [
      "79e796c2e1be4e9b97ee9e6bd3c40448"
     ]
    },
    "id": "1GmD6-He7U0y",
    "outputId": "ba9e306d-1c4b-4741-f3c3-67cbe17a9503"
   },
   "outputs": [
    {
     "data": {
      "application/vnd.jupyter.widget-view+json": {
       "model_id": "fa5f38e144ef4ec7a6066adb2819354c",
       "version_major": 2,
       "version_minor": 0
      },
      "text/plain": [
       "Builder(never_ask_before_quit=True, reaction_data={'GLCpts': -2, 'G6PDH2r': -2, 'PGL': 0.4, 'GND': 1}, reactio…"
      ]
     },
     "metadata": {},
     "output_type": "display_data"
    }
   ],
   "source": [
    "# Modifying attributes\n",
    "test_model.groups.get_by_id(\"curated_pathway\").color_negative = \"red\"\n",
    "test_model.groups.get_by_id(\"curated_pathway\").color_positive = \"green\"\n",
    "test_model.groups.get_by_id(\"curated_pathway\").visualize(\n",
    "    solution_fluxes=solution\n",
    ")"
   ]
  },
  {
   "cell_type": "markdown",
   "metadata": {
    "id": "Y2fjw7lk8-lI"
   },
   "source": [
    "In this example we change the color of the fluxes to orange for negative values\n",
    "and light blue for positive values. Available colors are found [here](\n",
    "https://www.w3schools.com/cssref/css_colors.asp\n",
    ")"
   ]
  },
  {
   "cell_type": "code",
   "execution_count": 27,
   "metadata": {
    "colab": {
     "base_uri": "https://localhost:8080/",
     "height": 17,
     "referenced_widgets": [
      "6e64e544e45146ec95df7a5434d0c9e7"
     ]
    },
    "id": "7CgOK9vN89dW",
    "outputId": "0dfefbbb-9dd5-4b5f-be00-4b0d88bd61ff"
   },
   "outputs": [
    {
     "data": {
      "application/vnd.jupyter.widget-view+json": {
       "model_id": "a8e4f6a27ee148fda8b3f3802fc8e3f7",
       "version_major": 2,
       "version_minor": 0
      },
      "text/plain": [
       "Builder(never_ask_before_quit=True, reaction_data={'GLCpts': -2, 'G6PDH2r': -2, 'PGL': 0.4, 'GND': 1, 'Other':…"
      ]
     },
     "metadata": {},
     "output_type": "display_data"
    }
   ],
   "source": [
    "# New flux with high value\n",
    "solution =  {\n",
    "    \"GLCpts\": -2, \"G6PDH2r\": -2, \"PGL\": 0.4, \"GND\": 1, \"Other\": 1000\n",
    "}\n",
    "\n",
    "test_model.groups.get_by_id(\"curated_pathway\").color_negative = \"orange\"\n",
    "test_model.groups.get_by_id(\"curated_pathway\").color_positive = \"lightskyblue\"\n",
    "test_model.groups.get_by_id(\"curated_pathway\").visualize(\n",
    "    solution_fluxes=solution\n",
    ")"
   ]
  },
  {
   "cell_type": "markdown",
   "metadata": {
    "id": "zpUBhsNj98gp"
   },
   "source": [
    "By default, the color of the fluxes are linear normalized. The users can\n",
    "normalize the colors to the quantile of the fluxes by changing the attribute\n",
    "`color_quantile` to `True`. This is useful when the fluxes values vary by \n",
    "multiple levels of magnitude.\n",
    "\n",
    "In the previous example, we added a new reaction in the dictionary with a flux\n",
    "of 1000. We can see that the positive colors are very dim. In the next example\n",
    "we change the attribute `color_quantile` and now the colors are very bright."
   ]
  },
  {
   "cell_type": "code",
   "execution_count": 28,
   "metadata": {
    "colab": {
     "base_uri": "https://localhost:8080/",
     "height": 17,
     "referenced_widgets": [
      "7004103934164f88a5b7a692c4370238"
     ]
    },
    "id": "Ge1BuOUc99C2",
    "outputId": "18bf7412-afac-421b-b42e-4eed8ee3df31"
   },
   "outputs": [
    {
     "data": {
      "application/vnd.jupyter.widget-view+json": {
       "model_id": "c214ac9dfa8943f6a59f647b9ed6e1e5",
       "version_major": 2,
       "version_minor": 0
      },
      "text/plain": [
       "Builder(never_ask_before_quit=True, reaction_data={'GLCpts': -2, 'G6PDH2r': -2, 'PGL': 0.4, 'GND': 1, 'Other':…"
      ]
     },
     "metadata": {},
     "output_type": "display_data"
    }
   ],
   "source": [
    "test_model.groups.get_by_id(\"curated_pathway\").color_quantile = True\n",
    "test_model.groups.get_by_id(\"curated_pathway\").visualize(\n",
    "    solution_fluxes=solution\n",
    ")"
   ]
  },
  {
   "cell_type": "markdown",
   "metadata": {
    "id": "tdouxbsr_kg_"
   },
   "source": [
    "The users can call the `Pathway` to have a quick summary of the current \n",
    "attributes."
   ]
  },
  {
   "cell_type": "code",
   "execution_count": 29,
   "metadata": {
    "colab": {
     "base_uri": "https://localhost:8080/",
     "height": 265
    },
    "id": "Pteu2RW29Kod",
    "outputId": "ed236540-b309-47d8-bddd-b344c546e587"
   },
   "outputs": [
    {
     "data": {
      "text/html": [
       "\n",
       "<table> <tbody> <tr> <td><strong>Pathway identifier</strong></td>\n",
       "<td>curated_pathway</td> </tr> <tr> <td><strong>Name</strong></td>\n",
       "<td></td> </tr> <tr> <td><strong>Memory address</strong></td>\n",
       "<td>0x0139779516962256</td> </tr> <tr> <td><strong>Reactions involved</strong></td>\n",
       "<td> <p>GLCpts, G6PDH2r, PGL, GND</p> </td> </tr> <tr>\n",
       "<td><strong>Genes involved<br /></strong></td> <td> <p>b1819, b1817, b2415, b1818, b1621, b1101, b2416, b2417, b1852, b0767, b2029</p> </td> </tr> <tr>\n",
       "<td><strong>Visualization attributes</strong></td> <td> <ul> <li>vertical =\n",
       "True</li> <li>color_negative = orange</li>\n",
       "<li>color_positive = lightskyblue</li> <li>color_quantile =\n",
       "True</li> </ul> </td> </tr> </tbody> </table> <p>&nbsp;</p>\n"
      ],
      "text/plain": [
       "<Pathway curated_pathway at 0x7f20f47495d0>"
      ]
     },
     "execution_count": 29,
     "metadata": {},
     "output_type": "execute_result"
    }
   ],
   "source": [
    "test_model.groups.get_by_id(\"curated_pathway\")"
   ]
  },
  {
   "cell_type": "markdown",
   "metadata": {
    "id": "ljWird8j1UJi"
   },
   "source": [
    "CobraMod Pathways are saved as an HTML file with the default name\n",
    "`pathway.html`.\n",
    "This is useful for users that do not use interactive platforms like Jupyter.\n",
    "The users can specify the file name by using the argument `filename`. In this\n",
    "example, we name the HTML to `curated_pathway.html`.\n"
   ]
  },
  {
   "cell_type": "code",
   "execution_count": 30,
   "metadata": {
    "colab": {
     "base_uri": "https://localhost:8080/",
     "height": 17,
     "referenced_widgets": [
      "b839727ea02c4f1f881bb9ee99b8d476"
     ]
    },
    "id": "kp99_Vsj8TVc",
    "outputId": "a0cadb99-ca33-459e-ab8a-e8ed5be6cc4d"
   },
   "outputs": [
    {
     "data": {
      "application/vnd.jupyter.widget-view+json": {
       "model_id": "5b7f7e38b8a14b11a704ca331628a1fe",
       "version_major": 2,
       "version_minor": 0
      },
      "text/plain": [
       "Builder(never_ask_before_quit=True, reaction_data={'GLCpts': -2, 'G6PDH2r': -2, 'PGL': 0.4, 'GND': 1, 'Other':…"
      ]
     },
     "metadata": {},
     "output_type": "display_data"
    }
   ],
   "source": [
    "test_model.groups.get_by_id(\"curated_pathway\").visualize(\n",
    "    solution_fluxes=solution, filename = \"curated_pathway.html\"\n",
    ")"
   ]
  },
  {
   "cell_type": "markdown",
   "metadata": {
    "id": "rqP6-WVU8iPV"
   },
   "source": [
    "We can verify that the file exists by using the `ls` command.\n"
   ]
  },
  {
   "cell_type": "code",
   "execution_count": 31,
   "metadata": {
    "colab": {
     "base_uri": "https://localhost:8080/"
    },
    "id": "lwunVyzE8dnW",
    "outputId": "4030badc-e6f4-40c4-86ec-f29979c09c6b"
   },
   "outputs": [
    {
     "name": "stdout",
     "output_type": "stream",
     "text": [
      "curated_pathway.html\r\n"
     ]
    }
   ],
   "source": [
    "!ls curated_pathway.html"
   ]
  },
  {
   "cell_type": "code",
   "execution_count": null,
   "metadata": {
    "id": "vvMfE5LrK_jx"
   },
   "outputs": [],
   "source": []
  }
 ],
 "metadata": {
  "colab": {
   "collapsed_sections": [],
   "name": "how_to.ipynb",
   "provenance": []
  },
  "kernelspec": {
   "display_name": "Python 3 (ipykernel)",
   "language": "python",
   "name": "python3"
  },
  "language_info": {
   "codemirror_mode": {
    "name": "ipython",
    "version": 3
   },
   "file_extension": ".py",
   "mimetype": "text/x-python",
   "name": "python",
   "nbconvert_exporter": "python",
   "pygments_lexer": "ipython3",
   "version": "3.7.4"
  },
  "widgets": {
   "application/vnd.jupyter.widget-state+json": {
    "state": {
     "1bc6230cf4904840936aad8664b2437a": {
      "model_module": "@jupyter-widgets/base",
      "model_module_version": "1.2.0",
      "model_name": "LayoutModel",
      "state": {}
     },
     "215e53de417f4648b1270d90eefeb8af": {
      "model_module": "escher",
      "model_module_version": "1.7.3",
      "model_name": "EscherMapModel",
      "state": {
       "_loaded_map_json": "[{\"map_name\": \"\", \"map_id\": \"\", \"map_description\": \"\", \"homepage\": \"\", \"schema\": \"https://escher.github.io/escher/jsonschema/1-0-0#\"}, {\"reactions\": {\"0\": {\"name\": \"GLCpts\", \"bigg_id\": \"GLCpts\", \"reversibility\": true, \"label_x\": 265.0, \"label_y\": 325.0, \"gene_reaction_rule\": \"\", \"genes\": [], \"segments\": {\"0\": {\"from_node_id\": \"4\", \"to_node_id\": \"5\", \"b1\": null, \"b2\": null}, \"1\": {\"from_node_id\": \"6\", \"to_node_id\": \"5\", \"b1\": null, \"b2\": null}, \"2\": {\"from_node_id\": \"0\", \"to_node_id\": \"4\", \"b1\": null, \"b2\": null}, \"3\": {\"from_node_id\": \"1\", \"to_node_id\": \"4\", \"b1\": null, \"b2\": null}, \"4\": {\"from_node_id\": \"2\", \"to_node_id\": \"6\", \"b1\": null, \"b2\": null}, \"5\": {\"from_node_id\": \"3\", \"to_node_id\": \"6\", \"b1\": null, \"b2\": null}}, \"metabolites\": [{\"bigg_id\": \"Glucopyranose_e\", \"coefficient\": -1.0}, {\"bigg_id\": \"PHOSPHO_ENOL_PYRUVATE_c\", \"coefficient\": -1.0}, {\"bigg_id\": \"D_glucopyranose_6_phosphate_c\", \"coefficient\": 1.0}, {\"bigg_id\": \"PYRUVATE_c\", \"coefficient\": 1.0}]}, \"1\": {\"name\": \"G6PDH2r\", \"bigg_id\": \"G6PDH2r\", \"reversibility\": true, \"label_x\": 265.0, \"label_y\": 975.0, \"gene_reaction_rule\": \"\", \"genes\": [], \"segments\": {\"6\": {\"from_node_id\": \"11\", \"to_node_id\": \"12\", \"b1\": null, \"b2\": null}, \"7\": {\"from_node_id\": \"13\", \"to_node_id\": \"12\", \"b1\": null, \"b2\": null}, \"8\": {\"from_node_id\": \"2\", \"to_node_id\": \"11\", \"b1\": null, \"b2\": null}, \"9\": {\"from_node_id\": \"7\", \"to_node_id\": \"11\", \"b1\": null, \"b2\": null}, \"10\": {\"from_node_id\": \"8\", \"to_node_id\": \"13\", \"b1\": null, \"b2\": null}, \"11\": {\"from_node_id\": \"9\", \"to_node_id\": \"13\", \"b1\": null, \"b2\": null}, \"12\": {\"from_node_id\": \"10\", \"to_node_id\": \"13\", \"b1\": null, \"b2\": null}}, \"metabolites\": [{\"bigg_id\": \"D_glucopyranose_6_phosphate_c\", \"coefficient\": -1.0}, {\"bigg_id\": \"NADP_c\", \"coefficient\": -1.0}, {\"bigg_id\": \"D_6_P_GLUCONO_DELTA_LACTONE_c\", \"coefficient\": 1.0}, {\"bigg_id\": \"NADPH_c\", \"coefficient\": 1.0}, {\"bigg_id\": \"PROTON_c\", \"coefficient\": 1.0}]}, \"2\": {\"name\": \"PGL\", \"bigg_id\": \"PGL\", \"reversibility\": true, \"label_x\": 265.0, \"label_y\": 1625.0, \"gene_reaction_rule\": \"\", \"genes\": [], \"segments\": {\"13\": {\"from_node_id\": \"17\", \"to_node_id\": \"18\", \"b1\": null, \"b2\": null}, \"14\": {\"from_node_id\": \"19\", \"to_node_id\": \"18\", \"b1\": null, \"b2\": null}, \"15\": {\"from_node_id\": \"14\", \"to_node_id\": \"17\", \"b1\": null, \"b2\": null}, \"16\": {\"from_node_id\": \"8\", \"to_node_id\": \"17\", \"b1\": null, \"b2\": null}, \"17\": {\"from_node_id\": \"15\", \"to_node_id\": \"19\", \"b1\": null, \"b2\": null}, \"18\": {\"from_node_id\": \"16\", \"to_node_id\": \"19\", \"b1\": null, \"b2\": null}}, \"metabolites\": [{\"bigg_id\": \"CPD_15815_c\", \"coefficient\": -1.0}, {\"bigg_id\": \"D_6_P_GLUCONO_DELTA_LACTONE_c\", \"coefficient\": -1.0}, {\"bigg_id\": \"CPD_2961_c\", \"coefficient\": 1.0}, {\"bigg_id\": \"PROTON_c\", \"coefficient\": 1.0}]}, \"3\": {\"name\": \"GND\", \"bigg_id\": \"GND\", \"reversibility\": true, \"label_x\": 265.0, \"label_y\": 2275.0, \"gene_reaction_rule\": \"\", \"genes\": [], \"segments\": {\"19\": {\"from_node_id\": \"24\", \"to_node_id\": \"25\", \"b1\": null, \"b2\": null}, \"20\": {\"from_node_id\": \"26\", \"to_node_id\": \"25\", \"b1\": null, \"b2\": null}, \"21\": {\"from_node_id\": \"15\", \"to_node_id\": \"24\", \"b1\": null, \"b2\": null}, \"22\": {\"from_node_id\": \"20\", \"to_node_id\": \"24\", \"b1\": null, \"b2\": null}, \"23\": {\"from_node_id\": \"21\", \"to_node_id\": \"26\", \"b1\": null, \"b2\": null}, \"24\": {\"from_node_id\": \"22\", \"to_node_id\": \"26\", \"b1\": null, \"b2\": null}, \"25\": {\"from_node_id\": \"23\", \"to_node_id\": \"26\", \"b1\": null, \"b2\": null}}, \"metabolites\": [{\"bigg_id\": \"CPD_2961_c\", \"coefficient\": -1.0}, {\"bigg_id\": \"NADP_c\", \"coefficient\": -1.0}, {\"bigg_id\": \"CARBON_DIOXIDE_c\", \"coefficient\": 1.0}, {\"bigg_id\": \"NADPH_c\", \"coefficient\": 1.0}, {\"bigg_id\": \"RIBULOSE_5P_c\", \"coefficient\": 1.0}]}}, \"nodes\": {\"0\": {\"node_type\": \"metabolite\", \"x\": 150.0, \"y\": 30.0, \"label_x\": 160.0, \"label_y\": 20.0, \"bigg_id\": \"Glucopyranose_e\", \"name\": \"Glucopyranose_e\", \"node_is_primary\": false}, \"1\": {\"node_type\": \"metabolite\", \"x\": 300.0, \"y\": 30.0, \"label_x\": 310.0, \"label_y\": 20.0, \"bigg_id\": \"PHOSPHO_ENOL_PYRUVATE_c\", \"name\": \"PHOSPHO_ENOL_PYRUVATE_c\", \"node_is_primary\": false}, \"2\": {\"node_type\": \"metabolite\", \"x\": 150.0, \"y\": 550.0, \"label_x\": 160.0, \"label_y\": 580.0, \"bigg_id\": \"D_glucopyranose_6_phosphate_c\", \"name\": \"D_glucopyranose_6_phosphate_c\", \"node_is_primary\": false}, \"3\": {\"node_type\": \"metabolite\", \"x\": 300.0, \"y\": 550.0, \"label_x\": 310.0, \"label_y\": 580.0, \"bigg_id\": \"PYRUVATE_c\", \"name\": \"PYRUVATE_c\", \"node_is_primary\": false}, \"4\": {\"node_type\": \"multimarker\", \"x\": 225.0, \"y\": 305.0}, \"5\": {\"node_type\": \"midmarker\", \"x\": 225.0, \"y\": 325.0}, \"6\": {\"node_type\": \"multimarker\", \"x\": 225.0, \"y\": 345.0}, \"7\": {\"node_type\": \"metabolite\", \"x\": 300.0, \"y\": 680.0, \"label_x\": 310.0, \"label_y\": 670.0, \"bigg_id\": \"NADP_c\", \"name\": \"NADP_c\", \"node_is_primary\": false}, \"8\": {\"node_type\": \"metabolite\", \"x\": 112.5, \"y\": 1200.0, \"label_x\": 122.5, \"label_y\": 1230.0, \"bigg_id\": \"D_6_P_GLUCONO_DELTA_LACTONE_c\", \"name\": \"D_6_P_GLUCONO_DELTA_LACTONE_c\", \"node_is_primary\": false}, \"9\": {\"node_type\": \"metabolite\", \"x\": 225.0, \"y\": 1200.0, \"label_x\": 235.0, \"label_y\": 1230.0, \"bigg_id\": \"NADPH_c\", \"name\": \"NADPH_c\", \"node_is_primary\": false}, \"10\": {\"node_type\": \"metabolite\", \"x\": 337.5, \"y\": 1200.0, \"label_x\": 347.5, \"label_y\": 1230.0, \"bigg_id\": \"PROTON_c\", \"name\": \"PROTON_c\", \"node_is_primary\": false}, \"11\": {\"node_type\": \"multimarker\", \"x\": 225.0, \"y\": 955.0}, \"12\": {\"node_type\": \"midmarker\", \"x\": 225.0, \"y\": 975.0}, \"13\": {\"node_type\": \"multimarker\", \"x\": 225.0, \"y\": 995.0}, \"14\": {\"node_type\": \"metabolite\", \"x\": 150.0, \"y\": 1330.0, \"label_x\": 160.0, \"label_y\": 1320.0, \"bigg_id\": \"CPD_15815_c\", \"name\": \"CPD_15815_c\", \"node_is_primary\": false}, \"15\": {\"node_type\": \"metabolite\", \"x\": 150.0, \"y\": 1850.0, \"label_x\": 160.0, \"label_y\": 1880.0, \"bigg_id\": \"CPD_2961_c\", \"name\": \"CPD_2961_c\", \"node_is_primary\": false}, \"16\": {\"node_type\": \"metabolite\", \"x\": 300.0, \"y\": 1850.0, \"label_x\": 310.0, \"label_y\": 1880.0, \"bigg_id\": \"PROTON_c\", \"name\": \"PROTON_c\", \"node_is_primary\": false}, \"17\": {\"node_type\": \"multimarker\", \"x\": 225.0, \"y\": 1605.0}, \"18\": {\"node_type\": \"midmarker\", \"x\": 225.0, \"y\": 1625.0}, \"19\": {\"node_type\": \"multimarker\", \"x\": 225.0, \"y\": 1645.0}, \"20\": {\"node_type\": \"metabolite\", \"x\": 300.0, \"y\": 1980.0, \"label_x\": 310.0, \"label_y\": 1970.0, \"bigg_id\": \"NADP_c\", \"name\": \"NADP_c\", \"node_is_primary\": false}, \"21\": {\"node_type\": \"metabolite\", \"x\": 112.5, \"y\": 2500.0, \"label_x\": 122.5, \"label_y\": 2530.0, \"bigg_id\": \"CARBON_DIOXIDE_c\", \"name\": \"CARBON_DIOXIDE_c\", \"node_is_primary\": false}, \"22\": {\"node_type\": \"metabolite\", \"x\": 225.0, \"y\": 2500.0, \"label_x\": 235.0, \"label_y\": 2530.0, \"bigg_id\": \"NADPH_c\", \"name\": \"NADPH_c\", \"node_is_primary\": false}, \"23\": {\"node_type\": \"metabolite\", \"x\": 337.5, \"y\": 2500.0, \"label_x\": 347.5, \"label_y\": 2530.0, \"bigg_id\": \"RIBULOSE_5P_c\", \"name\": \"RIBULOSE_5P_c\", \"node_is_primary\": false}, \"24\": {\"node_type\": \"multimarker\", \"x\": 225.0, \"y\": 2255.0}, \"25\": {\"node_type\": \"midmarker\", \"x\": 225.0, \"y\": 2275.0}, \"26\": {\"node_type\": \"multimarker\", \"x\": 225.0, \"y\": 2295.0}}, \"text_labels\": {}, \"canvas\": {\"x\": 0, \"y\": 0, \"width\": 450, \"height\": 2600}}]",
       "_loaded_model_json": null,
       "allow_building_duplicate_reactions": false,
       "and_method_in_gene_reaction_rule": "mean",
       "canvas_size_and_loc": null,
       "cofactors": [
        "atp",
        "adp",
        "nad",
        "nadh",
        "nadp",
        "nadph",
        "gtp",
        "gdp",
        "h",
        "coa",
        "ump",
        "h2o",
        "ppi"
       ],
       "disabled_buttons": [
        "Clear gene data",
        "Clear metabolite data"
       ],
       "embedded_css": null,
       "enable_editing": true,
       "enable_keys": false,
       "enable_keys_with_tooltip": true,
       "enable_search": true,
       "enable_tooltips": false,
       "full_screen_button": {
        "enable_editing": true,
        "enable_keys": true,
        "enable_tooltips": [
         "label"
        ],
        "menu": "all",
        "scroll_behavior": "pan"
       },
       "gene_data": null,
       "gene_font_size": 18,
       "height": 500,
       "hide_all_labels": false,
       "hide_secondary_metabolites": false,
       "highlight_missing": false,
       "identifiers_on_map": "bigg_id",
       "layout": "IPY_MODEL_de3a6d4fe7584cbdad72b431514b4a4e",
       "marker_radius": 5,
       "menu": "all",
       "metabolite_compare_style": "log2_fold",
       "metabolite_data": null,
       "metabolite_no_data_color": "#ffffff",
       "metabolite_no_data_size": 10,
       "metabolite_scale": [
        {
         "color": "#fffaf0",
         "size": 20,
         "type": "min"
        },
        {
         "color": "#f1c470",
         "size": 30,
         "type": "median"
        },
        {
         "color": "#800000",
         "size": 40,
         "type": "max"
        }
       ],
       "metabolite_scale_preset": "WhYlRd",
       "metabolite_styles": [
        "color",
        "size",
        "text"
       ],
       "never_ask_before_quit": true,
       "primary_metabolite_radius": 20,
       "reaction_compare_style": "log2_fold",
       "reaction_data": {
        "G6PDH2r": -2,
        "GLCpts": -2,
        "GND": 1,
        "Other": 1000,
        "PGL": 0.4
       },
       "reaction_no_data_color": "#dcdcdc",
       "reaction_no_data_size": 8,
       "reaction_scale": [
        {
         "color": "rgb(191,215,230)",
         "type": "value",
         "value": 333.3333333333333
        },
        {
         "color": "rgb(163,210,240)",
         "type": "value",
         "value": 666.6666666666667
        },
        {
         "color": "rgb(135,205,250)",
         "type": "value",
         "value": 1000
        },
        {
         "color": "rgb(220,220,220)",
         "type": "value",
         "value": 0
        },
        {
         "color": "rgb(237,192,110)",
         "type": "value",
         "value": -1
        },
        {
         "color": "rgb(255,165,0)",
         "type": "value",
         "value": -2
        }
       ],
       "reaction_scale_preset": null,
       "reaction_styles": [
        "color",
        "text"
       ],
       "scroll_behavior": "none",
       "secondary_metabolite_radius": 10,
       "semantic_zoom": null,
       "show_gene_reaction_rules": false,
       "starting_reaction": null,
       "use_3d_transform": false,
       "zoom_to_element": null
      }
     },
     "2ad26e54df61484ba3ff013a5e0e652c": {
      "model_module": "@jupyter-widgets/base",
      "model_module_version": "1.2.0",
      "model_name": "LayoutModel",
      "state": {}
     },
     "331274fa605549bbace93dd189ed7544": {
      "model_module": "@jupyter-widgets/base",
      "model_module_version": "1.2.0",
      "model_name": "LayoutModel",
      "state": {}
     },
     "3eb3c2c66f0c4e729f2801425eecd8bd": {
      "model_module": "escher",
      "model_module_version": "1.7.3",
      "model_name": "EscherMapModel",
      "state": {
       "_loaded_map_json": "[{\"map_name\": \"\", \"map_id\": \"\", \"map_description\": \"\", \"homepage\": \"\", \"schema\": \"https://escher.github.io/escher/jsonschema/1-0-0#\"}, {\"reactions\": {\"0\": {\"name\": \"GLCpts\", \"bigg_id\": \"GLCpts\", \"reversibility\": true, \"label_x\": 265.0, \"label_y\": 325.0, \"gene_reaction_rule\": \"\", \"genes\": [], \"segments\": {\"0\": {\"from_node_id\": \"4\", \"to_node_id\": \"5\", \"b1\": null, \"b2\": null}, \"1\": {\"from_node_id\": \"6\", \"to_node_id\": \"5\", \"b1\": null, \"b2\": null}, \"2\": {\"from_node_id\": \"0\", \"to_node_id\": \"4\", \"b1\": null, \"b2\": null}, \"3\": {\"from_node_id\": \"1\", \"to_node_id\": \"4\", \"b1\": null, \"b2\": null}, \"4\": {\"from_node_id\": \"2\", \"to_node_id\": \"6\", \"b1\": null, \"b2\": null}, \"5\": {\"from_node_id\": \"3\", \"to_node_id\": \"6\", \"b1\": null, \"b2\": null}}, \"metabolites\": [{\"bigg_id\": \"Glucopyranose_e\", \"coefficient\": -1.0}, {\"bigg_id\": \"PHOSPHO_ENOL_PYRUVATE_c\", \"coefficient\": -1.0}, {\"bigg_id\": \"D_glucopyranose_6_phosphate_c\", \"coefficient\": 1.0}, {\"bigg_id\": \"PYRUVATE_c\", \"coefficient\": 1.0}]}, \"1\": {\"name\": \"G6PDH2r\", \"bigg_id\": \"G6PDH2r\", \"reversibility\": true, \"label_x\": 265.0, \"label_y\": 975.0, \"gene_reaction_rule\": \"\", \"genes\": [], \"segments\": {\"6\": {\"from_node_id\": \"11\", \"to_node_id\": \"12\", \"b1\": null, \"b2\": null}, \"7\": {\"from_node_id\": \"13\", \"to_node_id\": \"12\", \"b1\": null, \"b2\": null}, \"8\": {\"from_node_id\": \"2\", \"to_node_id\": \"11\", \"b1\": null, \"b2\": null}, \"9\": {\"from_node_id\": \"7\", \"to_node_id\": \"11\", \"b1\": null, \"b2\": null}, \"10\": {\"from_node_id\": \"8\", \"to_node_id\": \"13\", \"b1\": null, \"b2\": null}, \"11\": {\"from_node_id\": \"9\", \"to_node_id\": \"13\", \"b1\": null, \"b2\": null}, \"12\": {\"from_node_id\": \"10\", \"to_node_id\": \"13\", \"b1\": null, \"b2\": null}}, \"metabolites\": [{\"bigg_id\": \"D_glucopyranose_6_phosphate_c\", \"coefficient\": -1.0}, {\"bigg_id\": \"NADP_c\", \"coefficient\": -1.0}, {\"bigg_id\": \"D_6_P_GLUCONO_DELTA_LACTONE_c\", \"coefficient\": 1.0}, {\"bigg_id\": \"NADPH_c\", \"coefficient\": 1.0}, {\"bigg_id\": \"PROTON_c\", \"coefficient\": 1.0}]}, \"2\": {\"name\": \"PGL\", \"bigg_id\": \"PGL\", \"reversibility\": true, \"label_x\": 265.0, \"label_y\": 1625.0, \"gene_reaction_rule\": \"\", \"genes\": [], \"segments\": {\"13\": {\"from_node_id\": \"17\", \"to_node_id\": \"18\", \"b1\": null, \"b2\": null}, \"14\": {\"from_node_id\": \"19\", \"to_node_id\": \"18\", \"b1\": null, \"b2\": null}, \"15\": {\"from_node_id\": \"14\", \"to_node_id\": \"17\", \"b1\": null, \"b2\": null}, \"16\": {\"from_node_id\": \"8\", \"to_node_id\": \"17\", \"b1\": null, \"b2\": null}, \"17\": {\"from_node_id\": \"15\", \"to_node_id\": \"19\", \"b1\": null, \"b2\": null}, \"18\": {\"from_node_id\": \"16\", \"to_node_id\": \"19\", \"b1\": null, \"b2\": null}}, \"metabolites\": [{\"bigg_id\": \"CPD_15815_c\", \"coefficient\": -1.0}, {\"bigg_id\": \"D_6_P_GLUCONO_DELTA_LACTONE_c\", \"coefficient\": -1.0}, {\"bigg_id\": \"CPD_2961_c\", \"coefficient\": 1.0}, {\"bigg_id\": \"PROTON_c\", \"coefficient\": 1.0}]}, \"3\": {\"name\": \"GND\", \"bigg_id\": \"GND\", \"reversibility\": true, \"label_x\": 265.0, \"label_y\": 2275.0, \"gene_reaction_rule\": \"\", \"genes\": [], \"segments\": {\"19\": {\"from_node_id\": \"24\", \"to_node_id\": \"25\", \"b1\": null, \"b2\": null}, \"20\": {\"from_node_id\": \"26\", \"to_node_id\": \"25\", \"b1\": null, \"b2\": null}, \"21\": {\"from_node_id\": \"15\", \"to_node_id\": \"24\", \"b1\": null, \"b2\": null}, \"22\": {\"from_node_id\": \"20\", \"to_node_id\": \"24\", \"b1\": null, \"b2\": null}, \"23\": {\"from_node_id\": \"21\", \"to_node_id\": \"26\", \"b1\": null, \"b2\": null}, \"24\": {\"from_node_id\": \"22\", \"to_node_id\": \"26\", \"b1\": null, \"b2\": null}, \"25\": {\"from_node_id\": \"23\", \"to_node_id\": \"26\", \"b1\": null, \"b2\": null}}, \"metabolites\": [{\"bigg_id\": \"CPD_2961_c\", \"coefficient\": -1.0}, {\"bigg_id\": \"NADP_c\", \"coefficient\": -1.0}, {\"bigg_id\": \"CARBON_DIOXIDE_c\", \"coefficient\": 1.0}, {\"bigg_id\": \"NADPH_c\", \"coefficient\": 1.0}, {\"bigg_id\": \"RIBULOSE_5P_c\", \"coefficient\": 1.0}]}}, \"nodes\": {\"0\": {\"node_type\": \"metabolite\", \"x\": 150.0, \"y\": 30.0, \"label_x\": 160.0, \"label_y\": 20.0, \"bigg_id\": \"Glucopyranose_e\", \"name\": \"Glucopyranose_e\", \"node_is_primary\": false}, \"1\": {\"node_type\": \"metabolite\", \"x\": 300.0, \"y\": 30.0, \"label_x\": 310.0, \"label_y\": 20.0, \"bigg_id\": \"PHOSPHO_ENOL_PYRUVATE_c\", \"name\": \"PHOSPHO_ENOL_PYRUVATE_c\", \"node_is_primary\": false}, \"2\": {\"node_type\": \"metabolite\", \"x\": 150.0, \"y\": 550.0, \"label_x\": 160.0, \"label_y\": 580.0, \"bigg_id\": \"D_glucopyranose_6_phosphate_c\", \"name\": \"D_glucopyranose_6_phosphate_c\", \"node_is_primary\": false}, \"3\": {\"node_type\": \"metabolite\", \"x\": 300.0, \"y\": 550.0, \"label_x\": 310.0, \"label_y\": 580.0, \"bigg_id\": \"PYRUVATE_c\", \"name\": \"PYRUVATE_c\", \"node_is_primary\": false}, \"4\": {\"node_type\": \"multimarker\", \"x\": 225.0, \"y\": 305.0}, \"5\": {\"node_type\": \"midmarker\", \"x\": 225.0, \"y\": 325.0}, \"6\": {\"node_type\": \"multimarker\", \"x\": 225.0, \"y\": 345.0}, \"7\": {\"node_type\": \"metabolite\", \"x\": 300.0, \"y\": 680.0, \"label_x\": 310.0, \"label_y\": 670.0, \"bigg_id\": \"NADP_c\", \"name\": \"NADP_c\", \"node_is_primary\": false}, \"8\": {\"node_type\": \"metabolite\", \"x\": 112.5, \"y\": 1200.0, \"label_x\": 122.5, \"label_y\": 1230.0, \"bigg_id\": \"D_6_P_GLUCONO_DELTA_LACTONE_c\", \"name\": \"D_6_P_GLUCONO_DELTA_LACTONE_c\", \"node_is_primary\": false}, \"9\": {\"node_type\": \"metabolite\", \"x\": 225.0, \"y\": 1200.0, \"label_x\": 235.0, \"label_y\": 1230.0, \"bigg_id\": \"NADPH_c\", \"name\": \"NADPH_c\", \"node_is_primary\": false}, \"10\": {\"node_type\": \"metabolite\", \"x\": 337.5, \"y\": 1200.0, \"label_x\": 347.5, \"label_y\": 1230.0, \"bigg_id\": \"PROTON_c\", \"name\": \"PROTON_c\", \"node_is_primary\": false}, \"11\": {\"node_type\": \"multimarker\", \"x\": 225.0, \"y\": 955.0}, \"12\": {\"node_type\": \"midmarker\", \"x\": 225.0, \"y\": 975.0}, \"13\": {\"node_type\": \"multimarker\", \"x\": 225.0, \"y\": 995.0}, \"14\": {\"node_type\": \"metabolite\", \"x\": 150.0, \"y\": 1330.0, \"label_x\": 160.0, \"label_y\": 1320.0, \"bigg_id\": \"CPD_15815_c\", \"name\": \"CPD_15815_c\", \"node_is_primary\": false}, \"15\": {\"node_type\": \"metabolite\", \"x\": 150.0, \"y\": 1850.0, \"label_x\": 160.0, \"label_y\": 1880.0, \"bigg_id\": \"CPD_2961_c\", \"name\": \"CPD_2961_c\", \"node_is_primary\": false}, \"16\": {\"node_type\": \"metabolite\", \"x\": 300.0, \"y\": 1850.0, \"label_x\": 310.0, \"label_y\": 1880.0, \"bigg_id\": \"PROTON_c\", \"name\": \"PROTON_c\", \"node_is_primary\": false}, \"17\": {\"node_type\": \"multimarker\", \"x\": 225.0, \"y\": 1605.0}, \"18\": {\"node_type\": \"midmarker\", \"x\": 225.0, \"y\": 1625.0}, \"19\": {\"node_type\": \"multimarker\", \"x\": 225.0, \"y\": 1645.0}, \"20\": {\"node_type\": \"metabolite\", \"x\": 300.0, \"y\": 1980.0, \"label_x\": 310.0, \"label_y\": 1970.0, \"bigg_id\": \"NADP_c\", \"name\": \"NADP_c\", \"node_is_primary\": false}, \"21\": {\"node_type\": \"metabolite\", \"x\": 112.5, \"y\": 2500.0, \"label_x\": 122.5, \"label_y\": 2530.0, \"bigg_id\": \"CARBON_DIOXIDE_c\", \"name\": \"CARBON_DIOXIDE_c\", \"node_is_primary\": false}, \"22\": {\"node_type\": \"metabolite\", \"x\": 225.0, \"y\": 2500.0, \"label_x\": 235.0, \"label_y\": 2530.0, \"bigg_id\": \"NADPH_c\", \"name\": \"NADPH_c\", \"node_is_primary\": false}, \"23\": {\"node_type\": \"metabolite\", \"x\": 337.5, \"y\": 2500.0, \"label_x\": 347.5, \"label_y\": 2530.0, \"bigg_id\": \"RIBULOSE_5P_c\", \"name\": \"RIBULOSE_5P_c\", \"node_is_primary\": false}, \"24\": {\"node_type\": \"multimarker\", \"x\": 225.0, \"y\": 2255.0}, \"25\": {\"node_type\": \"midmarker\", \"x\": 225.0, \"y\": 2275.0}, \"26\": {\"node_type\": \"multimarker\", \"x\": 225.0, \"y\": 2295.0}}, \"text_labels\": {}, \"canvas\": {\"x\": 0, \"y\": 0, \"width\": 450, \"height\": 2600}}]",
       "_loaded_model_json": null,
       "allow_building_duplicate_reactions": false,
       "and_method_in_gene_reaction_rule": "mean",
       "canvas_size_and_loc": null,
       "cofactors": [
        "atp",
        "adp",
        "nad",
        "nadh",
        "nadp",
        "nadph",
        "gtp",
        "gdp",
        "h",
        "coa",
        "ump",
        "h2o",
        "ppi"
       ],
       "disabled_buttons": [
        "Clear gene data",
        "Clear metabolite data"
       ],
       "embedded_css": null,
       "enable_editing": true,
       "enable_keys": false,
       "enable_keys_with_tooltip": true,
       "enable_search": true,
       "enable_tooltips": false,
       "full_screen_button": {
        "enable_editing": true,
        "enable_keys": true,
        "enable_tooltips": [
         "label"
        ],
        "menu": "all",
        "scroll_behavior": "pan"
       },
       "gene_data": null,
       "gene_font_size": 18,
       "height": 500,
       "hide_all_labels": false,
       "hide_secondary_metabolites": false,
       "highlight_missing": false,
       "identifiers_on_map": "bigg_id",
       "layout": "IPY_MODEL_afb2e08db50a440fa19e771b1606d6e2",
       "marker_radius": 5,
       "menu": "all",
       "metabolite_compare_style": "log2_fold",
       "metabolite_data": null,
       "metabolite_no_data_color": "#ffffff",
       "metabolite_no_data_size": 10,
       "metabolite_scale": [
        {
         "color": "#fffaf0",
         "size": 20,
         "type": "min"
        },
        {
         "color": "#f1c470",
         "size": 30,
         "type": "median"
        },
        {
         "color": "#800000",
         "size": 40,
         "type": "max"
        }
       ],
       "metabolite_scale_preset": "WhYlRd",
       "metabolite_styles": [
        "color",
        "size",
        "text"
       ],
       "never_ask_before_quit": true,
       "primary_metabolite_radius": 20,
       "reaction_compare_style": "log2_fold",
       "reaction_data": {
        "G6PDH2r": -2,
        "GLCpts": -2,
        "GND": 1,
        "PGL": 0.4
       },
       "reaction_no_data_color": "#dcdcdc",
       "reaction_no_data_size": 8,
       "reaction_scale": [
        {
         "color": "rgb(110,174,110)",
         "type": "value",
         "value": 0.5
        },
        {
         "color": "rgb(0,128,0)",
         "type": "value",
         "value": 1
        },
        {
         "color": "rgb(220,220,220)",
         "type": "value",
         "value": 0
        },
        {
         "color": "rgb(237,110,110)",
         "type": "value",
         "value": -1
        },
        {
         "color": "rgb(255,0,0)",
         "type": "value",
         "value": -2
        }
       ],
       "reaction_scale_preset": null,
       "reaction_styles": [
        "color",
        "text"
       ],
       "scroll_behavior": "none",
       "secondary_metabolite_radius": 10,
       "semantic_zoom": null,
       "show_gene_reaction_rules": false,
       "starting_reaction": null,
       "use_3d_transform": false,
       "zoom_to_element": null
      }
     },
     "3edf16da07044bc5a1d5ad31763a85af": {
      "model_module": "@jupyter-widgets/base",
      "model_module_version": "1.2.0",
      "model_name": "LayoutModel",
      "state": {}
     },
     "5a4951bfd25c467fbecee6424781d4bb": {
      "model_module": "@jupyter-widgets/base",
      "model_module_version": "1.2.0",
      "model_name": "LayoutModel",
      "state": {}
     },
     "5b7f7e38b8a14b11a704ca331628a1fe": {
      "model_module": "escher",
      "model_module_version": "1.7.3",
      "model_name": "EscherMapModel",
      "state": {
       "_loaded_map_json": "[{\"map_name\": \"\", \"map_id\": \"\", \"map_description\": \"\", \"homepage\": \"\", \"schema\": \"https://escher.github.io/escher/jsonschema/1-0-0#\"}, {\"reactions\": {\"0\": {\"name\": \"GLCpts\", \"bigg_id\": \"GLCpts\", \"reversibility\": true, \"label_x\": 265.0, \"label_y\": 325.0, \"gene_reaction_rule\": \"\", \"genes\": [], \"segments\": {\"0\": {\"from_node_id\": \"4\", \"to_node_id\": \"5\", \"b1\": null, \"b2\": null}, \"1\": {\"from_node_id\": \"6\", \"to_node_id\": \"5\", \"b1\": null, \"b2\": null}, \"2\": {\"from_node_id\": \"0\", \"to_node_id\": \"4\", \"b1\": null, \"b2\": null}, \"3\": {\"from_node_id\": \"1\", \"to_node_id\": \"4\", \"b1\": null, \"b2\": null}, \"4\": {\"from_node_id\": \"2\", \"to_node_id\": \"6\", \"b1\": null, \"b2\": null}, \"5\": {\"from_node_id\": \"3\", \"to_node_id\": \"6\", \"b1\": null, \"b2\": null}}, \"metabolites\": [{\"bigg_id\": \"Glucopyranose_e\", \"coefficient\": -1.0}, {\"bigg_id\": \"PHOSPHO_ENOL_PYRUVATE_c\", \"coefficient\": -1.0}, {\"bigg_id\": \"D_glucopyranose_6_phosphate_c\", \"coefficient\": 1.0}, {\"bigg_id\": \"PYRUVATE_c\", \"coefficient\": 1.0}]}, \"1\": {\"name\": \"G6PDH2r\", \"bigg_id\": \"G6PDH2r\", \"reversibility\": true, \"label_x\": 265.0, \"label_y\": 975.0, \"gene_reaction_rule\": \"\", \"genes\": [], \"segments\": {\"6\": {\"from_node_id\": \"11\", \"to_node_id\": \"12\", \"b1\": null, \"b2\": null}, \"7\": {\"from_node_id\": \"13\", \"to_node_id\": \"12\", \"b1\": null, \"b2\": null}, \"8\": {\"from_node_id\": \"2\", \"to_node_id\": \"11\", \"b1\": null, \"b2\": null}, \"9\": {\"from_node_id\": \"7\", \"to_node_id\": \"11\", \"b1\": null, \"b2\": null}, \"10\": {\"from_node_id\": \"8\", \"to_node_id\": \"13\", \"b1\": null, \"b2\": null}, \"11\": {\"from_node_id\": \"9\", \"to_node_id\": \"13\", \"b1\": null, \"b2\": null}, \"12\": {\"from_node_id\": \"10\", \"to_node_id\": \"13\", \"b1\": null, \"b2\": null}}, \"metabolites\": [{\"bigg_id\": \"D_glucopyranose_6_phosphate_c\", \"coefficient\": -1.0}, {\"bigg_id\": \"NADP_c\", \"coefficient\": -1.0}, {\"bigg_id\": \"D_6_P_GLUCONO_DELTA_LACTONE_c\", \"coefficient\": 1.0}, {\"bigg_id\": \"NADPH_c\", \"coefficient\": 1.0}, {\"bigg_id\": \"PROTON_c\", \"coefficient\": 1.0}]}, \"2\": {\"name\": \"PGL\", \"bigg_id\": \"PGL\", \"reversibility\": true, \"label_x\": 265.0, \"label_y\": 1625.0, \"gene_reaction_rule\": \"\", \"genes\": [], \"segments\": {\"13\": {\"from_node_id\": \"17\", \"to_node_id\": \"18\", \"b1\": null, \"b2\": null}, \"14\": {\"from_node_id\": \"19\", \"to_node_id\": \"18\", \"b1\": null, \"b2\": null}, \"15\": {\"from_node_id\": \"14\", \"to_node_id\": \"17\", \"b1\": null, \"b2\": null}, \"16\": {\"from_node_id\": \"8\", \"to_node_id\": \"17\", \"b1\": null, \"b2\": null}, \"17\": {\"from_node_id\": \"15\", \"to_node_id\": \"19\", \"b1\": null, \"b2\": null}, \"18\": {\"from_node_id\": \"16\", \"to_node_id\": \"19\", \"b1\": null, \"b2\": null}}, \"metabolites\": [{\"bigg_id\": \"CPD_15815_c\", \"coefficient\": -1.0}, {\"bigg_id\": \"D_6_P_GLUCONO_DELTA_LACTONE_c\", \"coefficient\": -1.0}, {\"bigg_id\": \"CPD_2961_c\", \"coefficient\": 1.0}, {\"bigg_id\": \"PROTON_c\", \"coefficient\": 1.0}]}, \"3\": {\"name\": \"GND\", \"bigg_id\": \"GND\", \"reversibility\": true, \"label_x\": 265.0, \"label_y\": 2275.0, \"gene_reaction_rule\": \"\", \"genes\": [], \"segments\": {\"19\": {\"from_node_id\": \"24\", \"to_node_id\": \"25\", \"b1\": null, \"b2\": null}, \"20\": {\"from_node_id\": \"26\", \"to_node_id\": \"25\", \"b1\": null, \"b2\": null}, \"21\": {\"from_node_id\": \"15\", \"to_node_id\": \"24\", \"b1\": null, \"b2\": null}, \"22\": {\"from_node_id\": \"20\", \"to_node_id\": \"24\", \"b1\": null, \"b2\": null}, \"23\": {\"from_node_id\": \"21\", \"to_node_id\": \"26\", \"b1\": null, \"b2\": null}, \"24\": {\"from_node_id\": \"22\", \"to_node_id\": \"26\", \"b1\": null, \"b2\": null}, \"25\": {\"from_node_id\": \"23\", \"to_node_id\": \"26\", \"b1\": null, \"b2\": null}}, \"metabolites\": [{\"bigg_id\": \"CPD_2961_c\", \"coefficient\": -1.0}, {\"bigg_id\": \"NADP_c\", \"coefficient\": -1.0}, {\"bigg_id\": \"CARBON_DIOXIDE_c\", \"coefficient\": 1.0}, {\"bigg_id\": \"NADPH_c\", \"coefficient\": 1.0}, {\"bigg_id\": \"RIBULOSE_5P_c\", \"coefficient\": 1.0}]}}, \"nodes\": {\"0\": {\"node_type\": \"metabolite\", \"x\": 150.0, \"y\": 30.0, \"label_x\": 160.0, \"label_y\": 20.0, \"bigg_id\": \"Glucopyranose_e\", \"name\": \"Glucopyranose_e\", \"node_is_primary\": false}, \"1\": {\"node_type\": \"metabolite\", \"x\": 300.0, \"y\": 30.0, \"label_x\": 310.0, \"label_y\": 20.0, \"bigg_id\": \"PHOSPHO_ENOL_PYRUVATE_c\", \"name\": \"PHOSPHO_ENOL_PYRUVATE_c\", \"node_is_primary\": false}, \"2\": {\"node_type\": \"metabolite\", \"x\": 150.0, \"y\": 550.0, \"label_x\": 160.0, \"label_y\": 580.0, \"bigg_id\": \"D_glucopyranose_6_phosphate_c\", \"name\": \"D_glucopyranose_6_phosphate_c\", \"node_is_primary\": false}, \"3\": {\"node_type\": \"metabolite\", \"x\": 300.0, \"y\": 550.0, \"label_x\": 310.0, \"label_y\": 580.0, \"bigg_id\": \"PYRUVATE_c\", \"name\": \"PYRUVATE_c\", \"node_is_primary\": false}, \"4\": {\"node_type\": \"multimarker\", \"x\": 225.0, \"y\": 305.0}, \"5\": {\"node_type\": \"midmarker\", \"x\": 225.0, \"y\": 325.0}, \"6\": {\"node_type\": \"multimarker\", \"x\": 225.0, \"y\": 345.0}, \"7\": {\"node_type\": \"metabolite\", \"x\": 300.0, \"y\": 680.0, \"label_x\": 310.0, \"label_y\": 670.0, \"bigg_id\": \"NADP_c\", \"name\": \"NADP_c\", \"node_is_primary\": false}, \"8\": {\"node_type\": \"metabolite\", \"x\": 112.5, \"y\": 1200.0, \"label_x\": 122.5, \"label_y\": 1230.0, \"bigg_id\": \"D_6_P_GLUCONO_DELTA_LACTONE_c\", \"name\": \"D_6_P_GLUCONO_DELTA_LACTONE_c\", \"node_is_primary\": false}, \"9\": {\"node_type\": \"metabolite\", \"x\": 225.0, \"y\": 1200.0, \"label_x\": 235.0, \"label_y\": 1230.0, \"bigg_id\": \"NADPH_c\", \"name\": \"NADPH_c\", \"node_is_primary\": false}, \"10\": {\"node_type\": \"metabolite\", \"x\": 337.5, \"y\": 1200.0, \"label_x\": 347.5, \"label_y\": 1230.0, \"bigg_id\": \"PROTON_c\", \"name\": \"PROTON_c\", \"node_is_primary\": false}, \"11\": {\"node_type\": \"multimarker\", \"x\": 225.0, \"y\": 955.0}, \"12\": {\"node_type\": \"midmarker\", \"x\": 225.0, \"y\": 975.0}, \"13\": {\"node_type\": \"multimarker\", \"x\": 225.0, \"y\": 995.0}, \"14\": {\"node_type\": \"metabolite\", \"x\": 150.0, \"y\": 1330.0, \"label_x\": 160.0, \"label_y\": 1320.0, \"bigg_id\": \"CPD_15815_c\", \"name\": \"CPD_15815_c\", \"node_is_primary\": false}, \"15\": {\"node_type\": \"metabolite\", \"x\": 150.0, \"y\": 1850.0, \"label_x\": 160.0, \"label_y\": 1880.0, \"bigg_id\": \"CPD_2961_c\", \"name\": \"CPD_2961_c\", \"node_is_primary\": false}, \"16\": {\"node_type\": \"metabolite\", \"x\": 300.0, \"y\": 1850.0, \"label_x\": 310.0, \"label_y\": 1880.0, \"bigg_id\": \"PROTON_c\", \"name\": \"PROTON_c\", \"node_is_primary\": false}, \"17\": {\"node_type\": \"multimarker\", \"x\": 225.0, \"y\": 1605.0}, \"18\": {\"node_type\": \"midmarker\", \"x\": 225.0, \"y\": 1625.0}, \"19\": {\"node_type\": \"multimarker\", \"x\": 225.0, \"y\": 1645.0}, \"20\": {\"node_type\": \"metabolite\", \"x\": 300.0, \"y\": 1980.0, \"label_x\": 310.0, \"label_y\": 1970.0, \"bigg_id\": \"NADP_c\", \"name\": \"NADP_c\", \"node_is_primary\": false}, \"21\": {\"node_type\": \"metabolite\", \"x\": 112.5, \"y\": 2500.0, \"label_x\": 122.5, \"label_y\": 2530.0, \"bigg_id\": \"CARBON_DIOXIDE_c\", \"name\": \"CARBON_DIOXIDE_c\", \"node_is_primary\": false}, \"22\": {\"node_type\": \"metabolite\", \"x\": 225.0, \"y\": 2500.0, \"label_x\": 235.0, \"label_y\": 2530.0, \"bigg_id\": \"NADPH_c\", \"name\": \"NADPH_c\", \"node_is_primary\": false}, \"23\": {\"node_type\": \"metabolite\", \"x\": 337.5, \"y\": 2500.0, \"label_x\": 347.5, \"label_y\": 2530.0, \"bigg_id\": \"RIBULOSE_5P_c\", \"name\": \"RIBULOSE_5P_c\", \"node_is_primary\": false}, \"24\": {\"node_type\": \"multimarker\", \"x\": 225.0, \"y\": 2255.0}, \"25\": {\"node_type\": \"midmarker\", \"x\": 225.0, \"y\": 2275.0}, \"26\": {\"node_type\": \"multimarker\", \"x\": 225.0, \"y\": 2295.0}}, \"text_labels\": {}, \"canvas\": {\"x\": 0, \"y\": 0, \"width\": 450, \"height\": 2600}}]",
       "_loaded_model_json": null,
       "allow_building_duplicate_reactions": false,
       "and_method_in_gene_reaction_rule": "mean",
       "canvas_size_and_loc": null,
       "cofactors": [
        "atp",
        "adp",
        "nad",
        "nadh",
        "nadp",
        "nadph",
        "gtp",
        "gdp",
        "h",
        "coa",
        "ump",
        "h2o",
        "ppi"
       ],
       "disabled_buttons": [
        "Clear gene data",
        "Clear metabolite data"
       ],
       "embedded_css": null,
       "enable_editing": true,
       "enable_keys": false,
       "enable_keys_with_tooltip": true,
       "enable_search": true,
       "enable_tooltips": false,
       "full_screen_button": {
        "enable_editing": true,
        "enable_keys": true,
        "enable_tooltips": [
         "label"
        ],
        "menu": "all",
        "scroll_behavior": "pan"
       },
       "gene_data": null,
       "gene_font_size": 18,
       "height": 500,
       "hide_all_labels": false,
       "hide_secondary_metabolites": false,
       "highlight_missing": false,
       "identifiers_on_map": "bigg_id",
       "layout": "IPY_MODEL_5a4951bfd25c467fbecee6424781d4bb",
       "marker_radius": 5,
       "menu": "all",
       "metabolite_compare_style": "log2_fold",
       "metabolite_data": null,
       "metabolite_no_data_color": "#ffffff",
       "metabolite_no_data_size": 10,
       "metabolite_scale": [
        {
         "color": "#fffaf0",
         "size": 20,
         "type": "min"
        },
        {
         "color": "#f1c470",
         "size": 30,
         "type": "median"
        },
        {
         "color": "#800000",
         "size": 40,
         "type": "max"
        }
       ],
       "metabolite_scale_preset": "WhYlRd",
       "metabolite_styles": [
        "color",
        "size",
        "text"
       ],
       "never_ask_before_quit": true,
       "primary_metabolite_radius": 20,
       "reaction_compare_style": "log2_fold",
       "reaction_data": {
        "G6PDH2r": -2,
        "GLCpts": -2,
        "GND": 1,
        "Other": 1000,
        "PGL": 0.4
       },
       "reaction_no_data_color": "#dcdcdc",
       "reaction_no_data_size": 8,
       "reaction_scale": [
        {
         "color": "rgb(191,215,230)",
         "type": "value",
         "value": 0.4
        },
        {
         "color": "rgb(163,210,240)",
         "type": "value",
         "value": 1
        },
        {
         "color": "rgb(135,205,250)",
         "type": "value",
         "value": 1000
        },
        {
         "color": "rgb(220,220,220)",
         "type": "value",
         "value": 0
        },
        {
         "color": "rgb(237,192,110)",
         "type": "value",
         "value": -2
        },
        {
         "color": "rgb(255,165,0)",
         "type": "value",
         "value": -2
        }
       ],
       "reaction_scale_preset": null,
       "reaction_styles": [
        "color",
        "text"
       ],
       "scroll_behavior": "none",
       "secondary_metabolite_radius": 10,
       "semantic_zoom": null,
       "show_gene_reaction_rules": false,
       "starting_reaction": null,
       "use_3d_transform": false,
       "zoom_to_element": null
      }
     },
     "6c84c9c40c4e49aeb61f7772c708103f": {
      "model_module": "escher",
      "model_module_version": "1.7.3",
      "model_name": "EscherMapModel",
      "state": {
       "_loaded_map_json": "[{\"map_name\": \"\", \"map_id\": \"\", \"map_description\": \"\", \"homepage\": \"\", \"schema\": \"https://escher.github.io/escher/jsonschema/1-0-0#\"}, {\"reactions\": {\"0\": {\"name\": \"GLCpts\", \"bigg_id\": \"GLCpts\", \"reversibility\": true, \"label_x\": 265.0, \"label_y\": 325.0, \"gene_reaction_rule\": \"\", \"genes\": [], \"segments\": {\"0\": {\"from_node_id\": \"4\", \"to_node_id\": \"5\", \"b1\": null, \"b2\": null}, \"1\": {\"from_node_id\": \"6\", \"to_node_id\": \"5\", \"b1\": null, \"b2\": null}, \"2\": {\"from_node_id\": \"0\", \"to_node_id\": \"4\", \"b1\": null, \"b2\": null}, \"3\": {\"from_node_id\": \"1\", \"to_node_id\": \"4\", \"b1\": null, \"b2\": null}, \"4\": {\"from_node_id\": \"2\", \"to_node_id\": \"6\", \"b1\": null, \"b2\": null}, \"5\": {\"from_node_id\": \"3\", \"to_node_id\": \"6\", \"b1\": null, \"b2\": null}}, \"metabolites\": [{\"bigg_id\": \"Glucopyranose_e\", \"coefficient\": -1.0}, {\"bigg_id\": \"PHOSPHO_ENOL_PYRUVATE_c\", \"coefficient\": -1.0}, {\"bigg_id\": \"D_glucopyranose_6_phosphate_c\", \"coefficient\": 1.0}, {\"bigg_id\": \"PYRUVATE_c\", \"coefficient\": 1.0}]}, \"1\": {\"name\": \"G6PDH2r\", \"bigg_id\": \"G6PDH2r\", \"reversibility\": true, \"label_x\": 265.0, \"label_y\": 975.0, \"gene_reaction_rule\": \"\", \"genes\": [], \"segments\": {\"6\": {\"from_node_id\": \"11\", \"to_node_id\": \"12\", \"b1\": null, \"b2\": null}, \"7\": {\"from_node_id\": \"13\", \"to_node_id\": \"12\", \"b1\": null, \"b2\": null}, \"8\": {\"from_node_id\": \"2\", \"to_node_id\": \"11\", \"b1\": null, \"b2\": null}, \"9\": {\"from_node_id\": \"7\", \"to_node_id\": \"11\", \"b1\": null, \"b2\": null}, \"10\": {\"from_node_id\": \"8\", \"to_node_id\": \"13\", \"b1\": null, \"b2\": null}, \"11\": {\"from_node_id\": \"9\", \"to_node_id\": \"13\", \"b1\": null, \"b2\": null}, \"12\": {\"from_node_id\": \"10\", \"to_node_id\": \"13\", \"b1\": null, \"b2\": null}}, \"metabolites\": [{\"bigg_id\": \"D_glucopyranose_6_phosphate_c\", \"coefficient\": -1.0}, {\"bigg_id\": \"NADP_c\", \"coefficient\": -1.0}, {\"bigg_id\": \"D_6_P_GLUCONO_DELTA_LACTONE_c\", \"coefficient\": 1.0}, {\"bigg_id\": \"NADPH_c\", \"coefficient\": 1.0}, {\"bigg_id\": \"PROTON_c\", \"coefficient\": 1.0}]}, \"2\": {\"name\": \"PGL\", \"bigg_id\": \"PGL\", \"reversibility\": true, \"label_x\": 265.0, \"label_y\": 1625.0, \"gene_reaction_rule\": \"\", \"genes\": [], \"segments\": {\"13\": {\"from_node_id\": \"17\", \"to_node_id\": \"18\", \"b1\": null, \"b2\": null}, \"14\": {\"from_node_id\": \"19\", \"to_node_id\": \"18\", \"b1\": null, \"b2\": null}, \"15\": {\"from_node_id\": \"14\", \"to_node_id\": \"17\", \"b1\": null, \"b2\": null}, \"16\": {\"from_node_id\": \"8\", \"to_node_id\": \"17\", \"b1\": null, \"b2\": null}, \"17\": {\"from_node_id\": \"15\", \"to_node_id\": \"19\", \"b1\": null, \"b2\": null}, \"18\": {\"from_node_id\": \"16\", \"to_node_id\": \"19\", \"b1\": null, \"b2\": null}}, \"metabolites\": [{\"bigg_id\": \"CPD_15815_c\", \"coefficient\": -1.0}, {\"bigg_id\": \"D_6_P_GLUCONO_DELTA_LACTONE_c\", \"coefficient\": -1.0}, {\"bigg_id\": \"CPD_2961_c\", \"coefficient\": 1.0}, {\"bigg_id\": \"PROTON_c\", \"coefficient\": 1.0}]}, \"3\": {\"name\": \"GND\", \"bigg_id\": \"GND\", \"reversibility\": true, \"label_x\": 265.0, \"label_y\": 2275.0, \"gene_reaction_rule\": \"\", \"genes\": [], \"segments\": {\"19\": {\"from_node_id\": \"24\", \"to_node_id\": \"25\", \"b1\": null, \"b2\": null}, \"20\": {\"from_node_id\": \"26\", \"to_node_id\": \"25\", \"b1\": null, \"b2\": null}, \"21\": {\"from_node_id\": \"15\", \"to_node_id\": \"24\", \"b1\": null, \"b2\": null}, \"22\": {\"from_node_id\": \"20\", \"to_node_id\": \"24\", \"b1\": null, \"b2\": null}, \"23\": {\"from_node_id\": \"21\", \"to_node_id\": \"26\", \"b1\": null, \"b2\": null}, \"24\": {\"from_node_id\": \"22\", \"to_node_id\": \"26\", \"b1\": null, \"b2\": null}, \"25\": {\"from_node_id\": \"23\", \"to_node_id\": \"26\", \"b1\": null, \"b2\": null}}, \"metabolites\": [{\"bigg_id\": \"CPD_2961_c\", \"coefficient\": -1.0}, {\"bigg_id\": \"NADP_c\", \"coefficient\": -1.0}, {\"bigg_id\": \"CARBON_DIOXIDE_c\", \"coefficient\": 1.0}, {\"bigg_id\": \"NADPH_c\", \"coefficient\": 1.0}, {\"bigg_id\": \"RIBULOSE_5P_c\", \"coefficient\": 1.0}]}}, \"nodes\": {\"0\": {\"node_type\": \"metabolite\", \"x\": 150.0, \"y\": 30.0, \"label_x\": 160.0, \"label_y\": 20.0, \"bigg_id\": \"Glucopyranose_e\", \"name\": \"Glucopyranose_e\", \"node_is_primary\": false}, \"1\": {\"node_type\": \"metabolite\", \"x\": 300.0, \"y\": 30.0, \"label_x\": 310.0, \"label_y\": 20.0, \"bigg_id\": \"PHOSPHO_ENOL_PYRUVATE_c\", \"name\": \"PHOSPHO_ENOL_PYRUVATE_c\", \"node_is_primary\": false}, \"2\": {\"node_type\": \"metabolite\", \"x\": 150.0, \"y\": 550.0, \"label_x\": 160.0, \"label_y\": 580.0, \"bigg_id\": \"D_glucopyranose_6_phosphate_c\", \"name\": \"D_glucopyranose_6_phosphate_c\", \"node_is_primary\": false}, \"3\": {\"node_type\": \"metabolite\", \"x\": 300.0, \"y\": 550.0, \"label_x\": 310.0, \"label_y\": 580.0, \"bigg_id\": \"PYRUVATE_c\", \"name\": \"PYRUVATE_c\", \"node_is_primary\": false}, \"4\": {\"node_type\": \"multimarker\", \"x\": 225.0, \"y\": 305.0}, \"5\": {\"node_type\": \"midmarker\", \"x\": 225.0, \"y\": 325.0}, \"6\": {\"node_type\": \"multimarker\", \"x\": 225.0, \"y\": 345.0}, \"7\": {\"node_type\": \"metabolite\", \"x\": 300.0, \"y\": 680.0, \"label_x\": 310.0, \"label_y\": 670.0, \"bigg_id\": \"NADP_c\", \"name\": \"NADP_c\", \"node_is_primary\": false}, \"8\": {\"node_type\": \"metabolite\", \"x\": 112.5, \"y\": 1200.0, \"label_x\": 122.5, \"label_y\": 1230.0, \"bigg_id\": \"D_6_P_GLUCONO_DELTA_LACTONE_c\", \"name\": \"D_6_P_GLUCONO_DELTA_LACTONE_c\", \"node_is_primary\": false}, \"9\": {\"node_type\": \"metabolite\", \"x\": 225.0, \"y\": 1200.0, \"label_x\": 235.0, \"label_y\": 1230.0, \"bigg_id\": \"NADPH_c\", \"name\": \"NADPH_c\", \"node_is_primary\": false}, \"10\": {\"node_type\": \"metabolite\", \"x\": 337.5, \"y\": 1200.0, \"label_x\": 347.5, \"label_y\": 1230.0, \"bigg_id\": \"PROTON_c\", \"name\": \"PROTON_c\", \"node_is_primary\": false}, \"11\": {\"node_type\": \"multimarker\", \"x\": 225.0, \"y\": 955.0}, \"12\": {\"node_type\": \"midmarker\", \"x\": 225.0, \"y\": 975.0}, \"13\": {\"node_type\": \"multimarker\", \"x\": 225.0, \"y\": 995.0}, \"14\": {\"node_type\": \"metabolite\", \"x\": 150.0, \"y\": 1330.0, \"label_x\": 160.0, \"label_y\": 1320.0, \"bigg_id\": \"CPD_15815_c\", \"name\": \"CPD_15815_c\", \"node_is_primary\": false}, \"15\": {\"node_type\": \"metabolite\", \"x\": 150.0, \"y\": 1850.0, \"label_x\": 160.0, \"label_y\": 1880.0, \"bigg_id\": \"CPD_2961_c\", \"name\": \"CPD_2961_c\", \"node_is_primary\": false}, \"16\": {\"node_type\": \"metabolite\", \"x\": 300.0, \"y\": 1850.0, \"label_x\": 310.0, \"label_y\": 1880.0, \"bigg_id\": \"PROTON_c\", \"name\": \"PROTON_c\", \"node_is_primary\": false}, \"17\": {\"node_type\": \"multimarker\", \"x\": 225.0, \"y\": 1605.0}, \"18\": {\"node_type\": \"midmarker\", \"x\": 225.0, \"y\": 1625.0}, \"19\": {\"node_type\": \"multimarker\", \"x\": 225.0, \"y\": 1645.0}, \"20\": {\"node_type\": \"metabolite\", \"x\": 300.0, \"y\": 1980.0, \"label_x\": 310.0, \"label_y\": 1970.0, \"bigg_id\": \"NADP_c\", \"name\": \"NADP_c\", \"node_is_primary\": false}, \"21\": {\"node_type\": \"metabolite\", \"x\": 112.5, \"y\": 2500.0, \"label_x\": 122.5, \"label_y\": 2530.0, \"bigg_id\": \"CARBON_DIOXIDE_c\", \"name\": \"CARBON_DIOXIDE_c\", \"node_is_primary\": false}, \"22\": {\"node_type\": \"metabolite\", \"x\": 225.0, \"y\": 2500.0, \"label_x\": 235.0, \"label_y\": 2530.0, \"bigg_id\": \"NADPH_c\", \"name\": \"NADPH_c\", \"node_is_primary\": false}, \"23\": {\"node_type\": \"metabolite\", \"x\": 337.5, \"y\": 2500.0, \"label_x\": 347.5, \"label_y\": 2530.0, \"bigg_id\": \"RIBULOSE_5P_c\", \"name\": \"RIBULOSE_5P_c\", \"node_is_primary\": false}, \"24\": {\"node_type\": \"multimarker\", \"x\": 225.0, \"y\": 2255.0}, \"25\": {\"node_type\": \"midmarker\", \"x\": 225.0, \"y\": 2275.0}, \"26\": {\"node_type\": \"multimarker\", \"x\": 225.0, \"y\": 2295.0}}, \"text_labels\": {}, \"canvas\": {\"x\": 0, \"y\": 0, \"width\": 450, \"height\": 2600}}]",
       "_loaded_model_json": null,
       "allow_building_duplicate_reactions": false,
       "and_method_in_gene_reaction_rule": "mean",
       "canvas_size_and_loc": null,
       "cofactors": [
        "atp",
        "adp",
        "nad",
        "nadh",
        "nadp",
        "nadph",
        "gtp",
        "gdp",
        "h",
        "coa",
        "ump",
        "h2o",
        "ppi"
       ],
       "disabled_buttons": [
        "Clear reaction data",
        "Clear gene data",
        "Clear metabolite data"
       ],
       "embedded_css": null,
       "enable_editing": true,
       "enable_keys": false,
       "enable_keys_with_tooltip": true,
       "enable_search": true,
       "enable_tooltips": false,
       "full_screen_button": {
        "enable_editing": true,
        "enable_keys": true,
        "enable_tooltips": [
         "label"
        ],
        "menu": "all",
        "scroll_behavior": "pan"
       },
       "gene_data": null,
       "gene_font_size": 18,
       "height": 500,
       "hide_all_labels": false,
       "hide_secondary_metabolites": false,
       "highlight_missing": false,
       "identifiers_on_map": "bigg_id",
       "layout": "IPY_MODEL_ac7f7e012c7446878f67d06e53ffe5c4",
       "marker_radius": 5,
       "menu": "all",
       "metabolite_compare_style": "log2_fold",
       "metabolite_data": null,
       "metabolite_no_data_color": "#ffffff",
       "metabolite_no_data_size": 10,
       "metabolite_scale": [
        {
         "color": "#fffaf0",
         "size": 20,
         "type": "min"
        },
        {
         "color": "#f1c470",
         "size": 30,
         "type": "median"
        },
        {
         "color": "#800000",
         "size": 40,
         "type": "max"
        }
       ],
       "metabolite_scale_preset": "WhYlRd",
       "metabolite_styles": [
        "color",
        "size",
        "text"
       ],
       "never_ask_before_quit": true,
       "primary_metabolite_radius": 20,
       "reaction_compare_style": "log2_fold",
       "reaction_data": null,
       "reaction_no_data_color": "#dcdcdc",
       "reaction_no_data_size": 8,
       "reaction_scale": {},
       "reaction_scale_preset": null,
       "reaction_styles": [
        "color",
        "text"
       ],
       "scroll_behavior": "none",
       "secondary_metabolite_radius": 10,
       "semantic_zoom": null,
       "show_gene_reaction_rules": false,
       "starting_reaction": null,
       "use_3d_transform": false,
       "zoom_to_element": null
      }
     },
     "6eb3df6e4a6f49748c5af450d27c1d2c": {
      "model_module": "escher",
      "model_module_version": "1.7.3",
      "model_name": "EscherMapModel",
      "state": {
       "_loaded_map_json": "[{\"map_name\": \"\", \"map_id\": \"\", \"map_description\": \"\", \"homepage\": \"\", \"schema\": \"https://escher.github.io/escher/jsonschema/1-0-0#\"}, {\"reactions\": {\"0\": {\"name\": \"GLCpts\", \"bigg_id\": \"GLCpts\", \"reversibility\": true, \"label_x\": 271.0, \"label_y\": 45.0, \"gene_reaction_rule\": \"\", \"genes\": [], \"segments\": {\"0\": {\"from_node_id\": \"4\", \"to_node_id\": \"5\", \"b1\": null, \"b2\": null}, \"1\": {\"from_node_id\": \"6\", \"to_node_id\": \"5\", \"b1\": null, \"b2\": null}, \"2\": {\"from_node_id\": \"0\", \"to_node_id\": \"4\", \"b1\": null, \"b2\": null}, \"3\": {\"from_node_id\": \"1\", \"to_node_id\": \"4\", \"b1\": null, \"b2\": null}, \"4\": {\"from_node_id\": \"2\", \"to_node_id\": \"6\", \"b1\": null, \"b2\": null}, \"5\": {\"from_node_id\": \"3\", \"to_node_id\": \"6\", \"b1\": null, \"b2\": null}}, \"metabolites\": [{\"bigg_id\": \"Glucopyranose_e\", \"coefficient\": -1.0}, {\"bigg_id\": \"PHOSPHO_ENOL_PYRUVATE_c\", \"coefficient\": -1.0}, {\"bigg_id\": \"D_glucopyranose_6_phosphate_c\", \"coefficient\": 1.0}, {\"bigg_id\": \"PYRUVATE_c\", \"coefficient\": 1.0}]}, \"1\": {\"name\": \"G6PDH2r\", \"bigg_id\": \"G6PDH2r\", \"reversibility\": true, \"label_x\": 912.0, \"label_y\": 45.0, \"gene_reaction_rule\": \"\", \"genes\": [], \"segments\": {\"6\": {\"from_node_id\": \"11\", \"to_node_id\": \"12\", \"b1\": null, \"b2\": null}, \"7\": {\"from_node_id\": \"13\", \"to_node_id\": \"12\", \"b1\": null, \"b2\": null}, \"8\": {\"from_node_id\": \"2\", \"to_node_id\": \"11\", \"b1\": null, \"b2\": null}, \"9\": {\"from_node_id\": \"7\", \"to_node_id\": \"11\", \"b1\": null, \"b2\": null}, \"10\": {\"from_node_id\": \"8\", \"to_node_id\": \"13\", \"b1\": null, \"b2\": null}, \"11\": {\"from_node_id\": \"9\", \"to_node_id\": \"13\", \"b1\": null, \"b2\": null}, \"12\": {\"from_node_id\": \"10\", \"to_node_id\": \"13\", \"b1\": null, \"b2\": null}}, \"metabolites\": [{\"bigg_id\": \"D_glucopyranose_6_phosphate_c\", \"coefficient\": -1.0}, {\"bigg_id\": \"NADP_c\", \"coefficient\": -1.0}, {\"bigg_id\": \"D_6_P_GLUCONO_DELTA_LACTONE_c\", \"coefficient\": 1.0}, {\"bigg_id\": \"NADPH_c\", \"coefficient\": 1.0}, {\"bigg_id\": \"PROTON_c\", \"coefficient\": 1.0}]}, \"2\": {\"name\": \"PGL\", \"bigg_id\": \"PGL\", \"reversibility\": true, \"label_x\": 1598.0, \"label_y\": 45.0, \"gene_reaction_rule\": \"\", \"genes\": [], \"segments\": {\"13\": {\"from_node_id\": \"17\", \"to_node_id\": \"18\", \"b1\": null, \"b2\": null}, \"14\": {\"from_node_id\": \"19\", \"to_node_id\": \"18\", \"b1\": null, \"b2\": null}, \"15\": {\"from_node_id\": \"14\", \"to_node_id\": \"17\", \"b1\": null, \"b2\": null}, \"16\": {\"from_node_id\": \"8\", \"to_node_id\": \"17\", \"b1\": null, \"b2\": null}, \"17\": {\"from_node_id\": \"15\", \"to_node_id\": \"19\", \"b1\": null, \"b2\": null}, \"18\": {\"from_node_id\": \"16\", \"to_node_id\": \"19\", \"b1\": null, \"b2\": null}}, \"metabolites\": [{\"bigg_id\": \"CPD_15815_c\", \"coefficient\": -1.0}, {\"bigg_id\": \"D_6_P_GLUCONO_DELTA_LACTONE_c\", \"coefficient\": -1.0}, {\"bigg_id\": \"CPD_2961_c\", \"coefficient\": 1.0}, {\"bigg_id\": \"PROTON_c\", \"coefficient\": 1.0}]}, \"3\": {\"name\": \"GND\", \"bigg_id\": \"GND\", \"reversibility\": true, \"label_x\": 2248.0, \"label_y\": 45.0, \"gene_reaction_rule\": \"\", \"genes\": [], \"segments\": {\"19\": {\"from_node_id\": \"24\", \"to_node_id\": \"25\", \"b1\": null, \"b2\": null}, \"20\": {\"from_node_id\": \"26\", \"to_node_id\": \"25\", \"b1\": null, \"b2\": null}, \"21\": {\"from_node_id\": \"15\", \"to_node_id\": \"24\", \"b1\": null, \"b2\": null}, \"22\": {\"from_node_id\": \"20\", \"to_node_id\": \"24\", \"b1\": null, \"b2\": null}, \"23\": {\"from_node_id\": \"21\", \"to_node_id\": \"26\", \"b1\": null, \"b2\": null}, \"24\": {\"from_node_id\": \"22\", \"to_node_id\": \"26\", \"b1\": null, \"b2\": null}, \"25\": {\"from_node_id\": \"23\", \"to_node_id\": \"26\", \"b1\": null, \"b2\": null}}, \"metabolites\": [{\"bigg_id\": \"CPD_2961_c\", \"coefficient\": -1.0}, {\"bigg_id\": \"NADP_c\", \"coefficient\": -1.0}, {\"bigg_id\": \"CARBON_DIOXIDE_c\", \"coefficient\": 1.0}, {\"bigg_id\": \"NADPH_c\", \"coefficient\": 1.0}, {\"bigg_id\": \"RIBULOSE_5P_c\", \"coefficient\": 1.0}]}}, \"nodes\": {\"0\": {\"node_type\": \"metabolite\", \"x\": 30.0, \"y\": 150.0, \"label_x\": 0.0, \"label_y\": 130.0, \"bigg_id\": \"Glucopyranose_e\", \"name\": \"Glucopyranose_e\", \"node_is_primary\": false}, \"1\": {\"node_type\": \"metabolite\", \"x\": 30.0, \"y\": 300.0, \"label_x\": 0.0, \"label_y\": 280.0, \"bigg_id\": \"PHOSPHO_ENOL_PYRUVATE_c\", \"name\": \"PHOSPHO_ENOL_PYRUVATE_c\", \"node_is_primary\": false}, \"2\": {\"node_type\": \"metabolite\", \"x\": 550.0, \"y\": 150.0, \"label_x\": 520.0, \"label_y\": 130.0, \"bigg_id\": \"D_glucopyranose_6_phosphate_c\", \"name\": \"D_glucopyranose_6_phosphate_c\", \"node_is_primary\": false}, \"3\": {\"node_type\": \"metabolite\", \"x\": 550.0, \"y\": 300.0, \"label_x\": 520.0, \"label_y\": 280.0, \"bigg_id\": \"PYRUVATE_c\", \"name\": \"PYRUVATE_c\", \"node_is_primary\": false}, \"4\": {\"node_type\": \"multimarker\", \"x\": 335.0, \"y\": 225.0}, \"5\": {\"node_type\": \"midmarker\", \"x\": 355.0, \"y\": 225.0}, \"6\": {\"node_type\": \"multimarker\", \"x\": 375.0, \"y\": 225.0}, \"7\": {\"node_type\": \"metabolite\", \"x\": 680.0, \"y\": 300.0, \"label_x\": 650.0, \"label_y\": 280.0, \"bigg_id\": \"NADP_c\", \"name\": \"NADP_c\", \"node_is_primary\": false}, \"8\": {\"node_type\": \"metabolite\", \"x\": 1200.0, \"y\": 112.5, \"label_x\": 1170.0, \"label_y\": 92.5, \"bigg_id\": \"D_6_P_GLUCONO_DELTA_LACTONE_c\", \"name\": \"D_6_P_GLUCONO_DELTA_LACTONE_c\", \"node_is_primary\": false}, \"9\": {\"node_type\": \"metabolite\", \"x\": 1200.0, \"y\": 225.0, \"label_x\": 1170.0, \"label_y\": 205.0, \"bigg_id\": \"NADPH_c\", \"name\": \"NADPH_c\", \"node_is_primary\": false}, \"10\": {\"node_type\": \"metabolite\", \"x\": 1200.0, \"y\": 337.5, \"label_x\": 1170.0, \"label_y\": 317.5, \"bigg_id\": \"PROTON_c\", \"name\": \"PROTON_c\", \"node_is_primary\": false}, \"11\": {\"node_type\": \"multimarker\", \"x\": 985.0, \"y\": 225.0}, \"12\": {\"node_type\": \"midmarker\", \"x\": 1005.0, \"y\": 225.0}, \"13\": {\"node_type\": \"multimarker\", \"x\": 1025.0, \"y\": 225.0}, \"14\": {\"node_type\": \"metabolite\", \"x\": 1330.0, \"y\": 150.0, \"label_x\": 1300.0, \"label_y\": 130.0, \"bigg_id\": \"CPD_15815_c\", \"name\": \"CPD_15815_c\", \"node_is_primary\": false}, \"15\": {\"node_type\": \"metabolite\", \"x\": 1850.0, \"y\": 150.0, \"label_x\": 1820.0, \"label_y\": 130.0, \"bigg_id\": \"CPD_2961_c\", \"name\": \"CPD_2961_c\", \"node_is_primary\": false}, \"16\": {\"node_type\": \"metabolite\", \"x\": 1850.0, \"y\": 300.0, \"label_x\": 1820.0, \"label_y\": 280.0, \"bigg_id\": \"PROTON_c\", \"name\": \"PROTON_c\", \"node_is_primary\": false}, \"17\": {\"node_type\": \"multimarker\", \"x\": 1635.0, \"y\": 225.0}, \"18\": {\"node_type\": \"midmarker\", \"x\": 1655.0, \"y\": 225.0}, \"19\": {\"node_type\": \"multimarker\", \"x\": 1675.0, \"y\": 225.0}, \"20\": {\"node_type\": \"metabolite\", \"x\": 1980.0, \"y\": 300.0, \"label_x\": 1950.0, \"label_y\": 280.0, \"bigg_id\": \"NADP_c\", \"name\": \"NADP_c\", \"node_is_primary\": false}, \"21\": {\"node_type\": \"metabolite\", \"x\": 2500.0, \"y\": 112.5, \"label_x\": 2470.0, \"label_y\": 92.5, \"bigg_id\": \"CARBON_DIOXIDE_c\", \"name\": \"CARBON_DIOXIDE_c\", \"node_is_primary\": false}, \"22\": {\"node_type\": \"metabolite\", \"x\": 2500.0, \"y\": 225.0, \"label_x\": 2470.0, \"label_y\": 205.0, \"bigg_id\": \"NADPH_c\", \"name\": \"NADPH_c\", \"node_is_primary\": false}, \"23\": {\"node_type\": \"metabolite\", \"x\": 2500.0, \"y\": 337.5, \"label_x\": 2470.0, \"label_y\": 317.5, \"bigg_id\": \"RIBULOSE_5P_c\", \"name\": \"RIBULOSE_5P_c\", \"node_is_primary\": false}, \"24\": {\"node_type\": \"multimarker\", \"x\": 2285.0, \"y\": 225.0}, \"25\": {\"node_type\": \"midmarker\", \"x\": 2305.0, \"y\": 225.0}, \"26\": {\"node_type\": \"multimarker\", \"x\": 2325.0, \"y\": 225.0}}, \"text_labels\": {}, \"canvas\": {\"x\": 0, \"y\": 0, \"width\": 2600, \"height\": 450}}]",
       "_loaded_model_json": null,
       "allow_building_duplicate_reactions": false,
       "and_method_in_gene_reaction_rule": "mean",
       "canvas_size_and_loc": null,
       "cofactors": [
        "atp",
        "adp",
        "nad",
        "nadh",
        "nadp",
        "nadph",
        "gtp",
        "gdp",
        "h",
        "coa",
        "ump",
        "h2o",
        "ppi"
       ],
       "disabled_buttons": [
        "Clear reaction data",
        "Clear gene data",
        "Clear metabolite data"
       ],
       "embedded_css": null,
       "enable_editing": true,
       "enable_keys": false,
       "enable_keys_with_tooltip": true,
       "enable_search": true,
       "enable_tooltips": false,
       "full_screen_button": {
        "enable_editing": true,
        "enable_keys": true,
        "enable_tooltips": [
         "label"
        ],
        "menu": "all",
        "scroll_behavior": "pan"
       },
       "gene_data": null,
       "gene_font_size": 18,
       "height": 500,
       "hide_all_labels": false,
       "hide_secondary_metabolites": false,
       "highlight_missing": false,
       "identifiers_on_map": "bigg_id",
       "layout": "IPY_MODEL_87020fc3c4934c659d7d6cc64b9f3275",
       "marker_radius": 5,
       "menu": "all",
       "metabolite_compare_style": "log2_fold",
       "metabolite_data": null,
       "metabolite_no_data_color": "#ffffff",
       "metabolite_no_data_size": 10,
       "metabolite_scale": [
        {
         "color": "#fffaf0",
         "size": 20,
         "type": "min"
        },
        {
         "color": "#f1c470",
         "size": 30,
         "type": "median"
        },
        {
         "color": "#800000",
         "size": 40,
         "type": "max"
        }
       ],
       "metabolite_scale_preset": "WhYlRd",
       "metabolite_styles": [
        "color",
        "size",
        "text"
       ],
       "never_ask_before_quit": true,
       "primary_metabolite_radius": 20,
       "reaction_compare_style": "log2_fold",
       "reaction_data": null,
       "reaction_no_data_color": "#dcdcdc",
       "reaction_no_data_size": 8,
       "reaction_scale": {},
       "reaction_scale_preset": null,
       "reaction_styles": [
        "color",
        "text"
       ],
       "scroll_behavior": "none",
       "secondary_metabolite_radius": 10,
       "semantic_zoom": null,
       "show_gene_reaction_rules": false,
       "starting_reaction": null,
       "use_3d_transform": false,
       "zoom_to_element": null
      }
     },
     "7010e886a94b40bb9e49fba9813323e9": {
      "model_module": "escher",
      "model_module_version": "1.7.3",
      "model_name": "EscherMapModel",
      "state": {
       "_loaded_map_json": "[{\"map_name\": \"\", \"map_id\": \"\", \"map_description\": \"\", \"homepage\": \"\", \"schema\": \"https://escher.github.io/escher/jsonschema/1-0-0#\"}, {\"reactions\": {\"0\": {\"name\": \"GLCpts\", \"bigg_id\": \"GLCpts\", \"reversibility\": true, \"label_x\": 265.0, \"label_y\": 325.0, \"gene_reaction_rule\": \"\", \"genes\": [], \"segments\": {\"0\": {\"from_node_id\": \"4\", \"to_node_id\": \"5\", \"b1\": null, \"b2\": null}, \"1\": {\"from_node_id\": \"6\", \"to_node_id\": \"5\", \"b1\": null, \"b2\": null}, \"2\": {\"from_node_id\": \"0\", \"to_node_id\": \"4\", \"b1\": null, \"b2\": null}, \"3\": {\"from_node_id\": \"1\", \"to_node_id\": \"4\", \"b1\": null, \"b2\": null}, \"4\": {\"from_node_id\": \"2\", \"to_node_id\": \"6\", \"b1\": null, \"b2\": null}, \"5\": {\"from_node_id\": \"3\", \"to_node_id\": \"6\", \"b1\": null, \"b2\": null}}, \"metabolites\": [{\"bigg_id\": \"Glucopyranose_e\", \"coefficient\": -1.0}, {\"bigg_id\": \"PHOSPHO_ENOL_PYRUVATE_c\", \"coefficient\": -1.0}, {\"bigg_id\": \"D_glucopyranose_6_phosphate_c\", \"coefficient\": 1.0}, {\"bigg_id\": \"PYRUVATE_c\", \"coefficient\": 1.0}]}, \"1\": {\"name\": \"G6PDH2r\", \"bigg_id\": \"G6PDH2r\", \"reversibility\": true, \"label_x\": 265.0, \"label_y\": 975.0, \"gene_reaction_rule\": \"\", \"genes\": [], \"segments\": {\"6\": {\"from_node_id\": \"11\", \"to_node_id\": \"12\", \"b1\": null, \"b2\": null}, \"7\": {\"from_node_id\": \"13\", \"to_node_id\": \"12\", \"b1\": null, \"b2\": null}, \"8\": {\"from_node_id\": \"2\", \"to_node_id\": \"11\", \"b1\": null, \"b2\": null}, \"9\": {\"from_node_id\": \"7\", \"to_node_id\": \"11\", \"b1\": null, \"b2\": null}, \"10\": {\"from_node_id\": \"8\", \"to_node_id\": \"13\", \"b1\": null, \"b2\": null}, \"11\": {\"from_node_id\": \"9\", \"to_node_id\": \"13\", \"b1\": null, \"b2\": null}, \"12\": {\"from_node_id\": \"10\", \"to_node_id\": \"13\", \"b1\": null, \"b2\": null}}, \"metabolites\": [{\"bigg_id\": \"D_glucopyranose_6_phosphate_c\", \"coefficient\": -1.0}, {\"bigg_id\": \"NADP_c\", \"coefficient\": -1.0}, {\"bigg_id\": \"D_6_P_GLUCONO_DELTA_LACTONE_c\", \"coefficient\": 1.0}, {\"bigg_id\": \"NADPH_c\", \"coefficient\": 1.0}, {\"bigg_id\": \"PROTON_c\", \"coefficient\": 1.0}]}, \"2\": {\"name\": \"PGL\", \"bigg_id\": \"PGL\", \"reversibility\": true, \"label_x\": 265.0, \"label_y\": 1625.0, \"gene_reaction_rule\": \"\", \"genes\": [], \"segments\": {\"13\": {\"from_node_id\": \"17\", \"to_node_id\": \"18\", \"b1\": null, \"b2\": null}, \"14\": {\"from_node_id\": \"19\", \"to_node_id\": \"18\", \"b1\": null, \"b2\": null}, \"15\": {\"from_node_id\": \"14\", \"to_node_id\": \"17\", \"b1\": null, \"b2\": null}, \"16\": {\"from_node_id\": \"8\", \"to_node_id\": \"17\", \"b1\": null, \"b2\": null}, \"17\": {\"from_node_id\": \"15\", \"to_node_id\": \"19\", \"b1\": null, \"b2\": null}, \"18\": {\"from_node_id\": \"16\", \"to_node_id\": \"19\", \"b1\": null, \"b2\": null}}, \"metabolites\": [{\"bigg_id\": \"CPD_15815_c\", \"coefficient\": -1.0}, {\"bigg_id\": \"D_6_P_GLUCONO_DELTA_LACTONE_c\", \"coefficient\": -1.0}, {\"bigg_id\": \"CPD_2961_c\", \"coefficient\": 1.0}, {\"bigg_id\": \"PROTON_c\", \"coefficient\": 1.0}]}, \"3\": {\"name\": \"GND\", \"bigg_id\": \"GND\", \"reversibility\": true, \"label_x\": 265.0, \"label_y\": 2275.0, \"gene_reaction_rule\": \"\", \"genes\": [], \"segments\": {\"19\": {\"from_node_id\": \"24\", \"to_node_id\": \"25\", \"b1\": null, \"b2\": null}, \"20\": {\"from_node_id\": \"26\", \"to_node_id\": \"25\", \"b1\": null, \"b2\": null}, \"21\": {\"from_node_id\": \"15\", \"to_node_id\": \"24\", \"b1\": null, \"b2\": null}, \"22\": {\"from_node_id\": \"20\", \"to_node_id\": \"24\", \"b1\": null, \"b2\": null}, \"23\": {\"from_node_id\": \"21\", \"to_node_id\": \"26\", \"b1\": null, \"b2\": null}, \"24\": {\"from_node_id\": \"22\", \"to_node_id\": \"26\", \"b1\": null, \"b2\": null}, \"25\": {\"from_node_id\": \"23\", \"to_node_id\": \"26\", \"b1\": null, \"b2\": null}}, \"metabolites\": [{\"bigg_id\": \"CPD_2961_c\", \"coefficient\": -1.0}, {\"bigg_id\": \"NADP_c\", \"coefficient\": -1.0}, {\"bigg_id\": \"CARBON_DIOXIDE_c\", \"coefficient\": 1.0}, {\"bigg_id\": \"NADPH_c\", \"coefficient\": 1.0}, {\"bigg_id\": \"RIBULOSE_5P_c\", \"coefficient\": 1.0}]}}, \"nodes\": {\"0\": {\"node_type\": \"metabolite\", \"x\": 150.0, \"y\": 30.0, \"label_x\": 160.0, \"label_y\": 20.0, \"bigg_id\": \"Glucopyranose_e\", \"name\": \"Glucopyranose_e\", \"node_is_primary\": false}, \"1\": {\"node_type\": \"metabolite\", \"x\": 300.0, \"y\": 30.0, \"label_x\": 310.0, \"label_y\": 20.0, \"bigg_id\": \"PHOSPHO_ENOL_PYRUVATE_c\", \"name\": \"PHOSPHO_ENOL_PYRUVATE_c\", \"node_is_primary\": false}, \"2\": {\"node_type\": \"metabolite\", \"x\": 150.0, \"y\": 550.0, \"label_x\": 160.0, \"label_y\": 580.0, \"bigg_id\": \"D_glucopyranose_6_phosphate_c\", \"name\": \"D_glucopyranose_6_phosphate_c\", \"node_is_primary\": false}, \"3\": {\"node_type\": \"metabolite\", \"x\": 300.0, \"y\": 550.0, \"label_x\": 310.0, \"label_y\": 580.0, \"bigg_id\": \"PYRUVATE_c\", \"name\": \"PYRUVATE_c\", \"node_is_primary\": false}, \"4\": {\"node_type\": \"multimarker\", \"x\": 225.0, \"y\": 305.0}, \"5\": {\"node_type\": \"midmarker\", \"x\": 225.0, \"y\": 325.0}, \"6\": {\"node_type\": \"multimarker\", \"x\": 225.0, \"y\": 345.0}, \"7\": {\"node_type\": \"metabolite\", \"x\": 300.0, \"y\": 680.0, \"label_x\": 310.0, \"label_y\": 670.0, \"bigg_id\": \"NADP_c\", \"name\": \"NADP_c\", \"node_is_primary\": false}, \"8\": {\"node_type\": \"metabolite\", \"x\": 112.5, \"y\": 1200.0, \"label_x\": 122.5, \"label_y\": 1230.0, \"bigg_id\": \"D_6_P_GLUCONO_DELTA_LACTONE_c\", \"name\": \"D_6_P_GLUCONO_DELTA_LACTONE_c\", \"node_is_primary\": false}, \"9\": {\"node_type\": \"metabolite\", \"x\": 225.0, \"y\": 1200.0, \"label_x\": 235.0, \"label_y\": 1230.0, \"bigg_id\": \"NADPH_c\", \"name\": \"NADPH_c\", \"node_is_primary\": false}, \"10\": {\"node_type\": \"metabolite\", \"x\": 337.5, \"y\": 1200.0, \"label_x\": 347.5, \"label_y\": 1230.0, \"bigg_id\": \"PROTON_c\", \"name\": \"PROTON_c\", \"node_is_primary\": false}, \"11\": {\"node_type\": \"multimarker\", \"x\": 225.0, \"y\": 955.0}, \"12\": {\"node_type\": \"midmarker\", \"x\": 225.0, \"y\": 975.0}, \"13\": {\"node_type\": \"multimarker\", \"x\": 225.0, \"y\": 995.0}, \"14\": {\"node_type\": \"metabolite\", \"x\": 150.0, \"y\": 1330.0, \"label_x\": 160.0, \"label_y\": 1320.0, \"bigg_id\": \"CPD_15815_c\", \"name\": \"CPD_15815_c\", \"node_is_primary\": false}, \"15\": {\"node_type\": \"metabolite\", \"x\": 150.0, \"y\": 1850.0, \"label_x\": 160.0, \"label_y\": 1880.0, \"bigg_id\": \"CPD_2961_c\", \"name\": \"CPD_2961_c\", \"node_is_primary\": false}, \"16\": {\"node_type\": \"metabolite\", \"x\": 300.0, \"y\": 1850.0, \"label_x\": 310.0, \"label_y\": 1880.0, \"bigg_id\": \"PROTON_c\", \"name\": \"PROTON_c\", \"node_is_primary\": false}, \"17\": {\"node_type\": \"multimarker\", \"x\": 225.0, \"y\": 1605.0}, \"18\": {\"node_type\": \"midmarker\", \"x\": 225.0, \"y\": 1625.0}, \"19\": {\"node_type\": \"multimarker\", \"x\": 225.0, \"y\": 1645.0}, \"20\": {\"node_type\": \"metabolite\", \"x\": 300.0, \"y\": 1980.0, \"label_x\": 310.0, \"label_y\": 1970.0, \"bigg_id\": \"NADP_c\", \"name\": \"NADP_c\", \"node_is_primary\": false}, \"21\": {\"node_type\": \"metabolite\", \"x\": 112.5, \"y\": 2500.0, \"label_x\": 122.5, \"label_y\": 2530.0, \"bigg_id\": \"CARBON_DIOXIDE_c\", \"name\": \"CARBON_DIOXIDE_c\", \"node_is_primary\": false}, \"22\": {\"node_type\": \"metabolite\", \"x\": 225.0, \"y\": 2500.0, \"label_x\": 235.0, \"label_y\": 2530.0, \"bigg_id\": \"NADPH_c\", \"name\": \"NADPH_c\", \"node_is_primary\": false}, \"23\": {\"node_type\": \"metabolite\", \"x\": 337.5, \"y\": 2500.0, \"label_x\": 347.5, \"label_y\": 2530.0, \"bigg_id\": \"RIBULOSE_5P_c\", \"name\": \"RIBULOSE_5P_c\", \"node_is_primary\": false}, \"24\": {\"node_type\": \"multimarker\", \"x\": 225.0, \"y\": 2255.0}, \"25\": {\"node_type\": \"midmarker\", \"x\": 225.0, \"y\": 2275.0}, \"26\": {\"node_type\": \"multimarker\", \"x\": 225.0, \"y\": 2295.0}}, \"text_labels\": {}, \"canvas\": {\"x\": 0, \"y\": 0, \"width\": 450, \"height\": 2600}}]",
       "_loaded_model_json": null,
       "allow_building_duplicate_reactions": false,
       "and_method_in_gene_reaction_rule": "mean",
       "canvas_size_and_loc": null,
       "cofactors": [
        "atp",
        "adp",
        "nad",
        "nadh",
        "nadp",
        "nadph",
        "gtp",
        "gdp",
        "h",
        "coa",
        "ump",
        "h2o",
        "ppi"
       ],
       "disabled_buttons": [
        "Clear gene data",
        "Clear metabolite data"
       ],
       "embedded_css": null,
       "enable_editing": true,
       "enable_keys": false,
       "enable_keys_with_tooltip": true,
       "enable_search": true,
       "enable_tooltips": false,
       "full_screen_button": {
        "enable_editing": true,
        "enable_keys": true,
        "enable_tooltips": [
         "label"
        ],
        "menu": "all",
        "scroll_behavior": "pan"
       },
       "gene_data": null,
       "gene_font_size": 18,
       "height": 500,
       "hide_all_labels": false,
       "hide_secondary_metabolites": false,
       "highlight_missing": false,
       "identifiers_on_map": "bigg_id",
       "layout": "IPY_MODEL_331274fa605549bbace93dd189ed7544",
       "marker_radius": 5,
       "menu": "all",
       "metabolite_compare_style": "log2_fold",
       "metabolite_data": null,
       "metabolite_no_data_color": "#ffffff",
       "metabolite_no_data_size": 10,
       "metabolite_scale": [
        {
         "color": "#fffaf0",
         "size": 20,
         "type": "min"
        },
        {
         "color": "#f1c470",
         "size": 30,
         "type": "median"
        },
        {
         "color": "#800000",
         "size": 40,
         "type": "max"
        }
       ],
       "metabolite_scale_preset": "WhYlRd",
       "metabolite_styles": [
        "color",
        "size",
        "text"
       ],
       "never_ask_before_quit": true,
       "primary_metabolite_radius": 20,
       "reaction_compare_style": "log2_fold",
       "reaction_data": {
        "G6PDH2r": -2,
        "GLCpts": -2,
        "GND": 1,
        "Other": 1000,
        "PGL": 0.4
       },
       "reaction_no_data_color": "#dcdcdc",
       "reaction_no_data_size": 8,
       "reaction_scale": [
        {
         "color": "rgb(191,215,230)",
         "type": "value",
         "value": 0.4
        },
        {
         "color": "rgb(163,210,240)",
         "type": "value",
         "value": 1
        },
        {
         "color": "rgb(135,205,250)",
         "type": "value",
         "value": 1000
        },
        {
         "color": "rgb(220,220,220)",
         "type": "value",
         "value": 0
        },
        {
         "color": "rgb(237,192,110)",
         "type": "value",
         "value": -2
        },
        {
         "color": "rgb(255,165,0)",
         "type": "value",
         "value": -2
        }
       ],
       "reaction_scale_preset": null,
       "reaction_styles": [
        "color",
        "text"
       ],
       "scroll_behavior": "none",
       "secondary_metabolite_radius": 10,
       "semantic_zoom": null,
       "show_gene_reaction_rules": false,
       "starting_reaction": null,
       "use_3d_transform": false,
       "zoom_to_element": null
      }
     },
     "87020fc3c4934c659d7d6cc64b9f3275": {
      "model_module": "@jupyter-widgets/base",
      "model_module_version": "1.2.0",
      "model_name": "LayoutModel",
      "state": {}
     },
     "8960714826b7427e962b711ebe550314": {
      "model_module": "@jupyter-widgets/base",
      "model_module_version": "1.2.0",
      "model_name": "LayoutModel",
      "state": {}
     },
     "99ec793cf8b04520a885ef0e173e9841": {
      "model_module": "escher",
      "model_module_version": "1.7.3",
      "model_name": "EscherMapModel",
      "state": {
       "_loaded_map_json": "[{\"map_name\": \"\", \"map_id\": \"\", \"map_description\": \"\", \"homepage\": \"\", \"schema\": \"https://escher.github.io/escher/jsonschema/1-0-0#\"}, {\"reactions\": {\"0\": {\"name\": \"GLCpts\", \"bigg_id\": \"GLCpts\", \"reversibility\": true, \"label_x\": 265.0, \"label_y\": 325.0, \"gene_reaction_rule\": \"\", \"genes\": [], \"segments\": {\"0\": {\"from_node_id\": \"4\", \"to_node_id\": \"5\", \"b1\": null, \"b2\": null}, \"1\": {\"from_node_id\": \"6\", \"to_node_id\": \"5\", \"b1\": null, \"b2\": null}, \"2\": {\"from_node_id\": \"0\", \"to_node_id\": \"4\", \"b1\": null, \"b2\": null}, \"3\": {\"from_node_id\": \"1\", \"to_node_id\": \"4\", \"b1\": null, \"b2\": null}, \"4\": {\"from_node_id\": \"2\", \"to_node_id\": \"6\", \"b1\": null, \"b2\": null}, \"5\": {\"from_node_id\": \"3\", \"to_node_id\": \"6\", \"b1\": null, \"b2\": null}}, \"metabolites\": [{\"bigg_id\": \"Glucopyranose_e\", \"coefficient\": -1.0}, {\"bigg_id\": \"PHOSPHO_ENOL_PYRUVATE_c\", \"coefficient\": -1.0}, {\"bigg_id\": \"D_glucopyranose_6_phosphate_c\", \"coefficient\": 1.0}, {\"bigg_id\": \"PYRUVATE_c\", \"coefficient\": 1.0}]}, \"1\": {\"name\": \"G6PDH2r\", \"bigg_id\": \"G6PDH2r\", \"reversibility\": true, \"label_x\": 265.0, \"label_y\": 975.0, \"gene_reaction_rule\": \"\", \"genes\": [], \"segments\": {\"6\": {\"from_node_id\": \"11\", \"to_node_id\": \"12\", \"b1\": null, \"b2\": null}, \"7\": {\"from_node_id\": \"13\", \"to_node_id\": \"12\", \"b1\": null, \"b2\": null}, \"8\": {\"from_node_id\": \"2\", \"to_node_id\": \"11\", \"b1\": null, \"b2\": null}, \"9\": {\"from_node_id\": \"7\", \"to_node_id\": \"11\", \"b1\": null, \"b2\": null}, \"10\": {\"from_node_id\": \"8\", \"to_node_id\": \"13\", \"b1\": null, \"b2\": null}, \"11\": {\"from_node_id\": \"9\", \"to_node_id\": \"13\", \"b1\": null, \"b2\": null}, \"12\": {\"from_node_id\": \"10\", \"to_node_id\": \"13\", \"b1\": null, \"b2\": null}}, \"metabolites\": [{\"bigg_id\": \"D_glucopyranose_6_phosphate_c\", \"coefficient\": -1.0}, {\"bigg_id\": \"NADP_c\", \"coefficient\": -1.0}, {\"bigg_id\": \"D_6_P_GLUCONO_DELTA_LACTONE_c\", \"coefficient\": 1.0}, {\"bigg_id\": \"NADPH_c\", \"coefficient\": 1.0}, {\"bigg_id\": \"PROTON_c\", \"coefficient\": 1.0}]}, \"2\": {\"name\": \"PGL\", \"bigg_id\": \"PGL\", \"reversibility\": true, \"label_x\": 265.0, \"label_y\": 1625.0, \"gene_reaction_rule\": \"\", \"genes\": [], \"segments\": {\"13\": {\"from_node_id\": \"17\", \"to_node_id\": \"18\", \"b1\": null, \"b2\": null}, \"14\": {\"from_node_id\": \"19\", \"to_node_id\": \"18\", \"b1\": null, \"b2\": null}, \"15\": {\"from_node_id\": \"14\", \"to_node_id\": \"17\", \"b1\": null, \"b2\": null}, \"16\": {\"from_node_id\": \"8\", \"to_node_id\": \"17\", \"b1\": null, \"b2\": null}, \"17\": {\"from_node_id\": \"15\", \"to_node_id\": \"19\", \"b1\": null, \"b2\": null}, \"18\": {\"from_node_id\": \"16\", \"to_node_id\": \"19\", \"b1\": null, \"b2\": null}}, \"metabolites\": [{\"bigg_id\": \"CPD_15815_c\", \"coefficient\": -1.0}, {\"bigg_id\": \"D_6_P_GLUCONO_DELTA_LACTONE_c\", \"coefficient\": -1.0}, {\"bigg_id\": \"CPD_2961_c\", \"coefficient\": 1.0}, {\"bigg_id\": \"PROTON_c\", \"coefficient\": 1.0}]}, \"3\": {\"name\": \"GND\", \"bigg_id\": \"GND\", \"reversibility\": true, \"label_x\": 265.0, \"label_y\": 2275.0, \"gene_reaction_rule\": \"\", \"genes\": [], \"segments\": {\"19\": {\"from_node_id\": \"24\", \"to_node_id\": \"25\", \"b1\": null, \"b2\": null}, \"20\": {\"from_node_id\": \"26\", \"to_node_id\": \"25\", \"b1\": null, \"b2\": null}, \"21\": {\"from_node_id\": \"15\", \"to_node_id\": \"24\", \"b1\": null, \"b2\": null}, \"22\": {\"from_node_id\": \"20\", \"to_node_id\": \"24\", \"b1\": null, \"b2\": null}, \"23\": {\"from_node_id\": \"21\", \"to_node_id\": \"26\", \"b1\": null, \"b2\": null}, \"24\": {\"from_node_id\": \"22\", \"to_node_id\": \"26\", \"b1\": null, \"b2\": null}, \"25\": {\"from_node_id\": \"23\", \"to_node_id\": \"26\", \"b1\": null, \"b2\": null}}, \"metabolites\": [{\"bigg_id\": \"CPD_2961_c\", \"coefficient\": -1.0}, {\"bigg_id\": \"NADP_c\", \"coefficient\": -1.0}, {\"bigg_id\": \"CARBON_DIOXIDE_c\", \"coefficient\": 1.0}, {\"bigg_id\": \"NADPH_c\", \"coefficient\": 1.0}, {\"bigg_id\": \"RIBULOSE_5P_c\", \"coefficient\": 1.0}]}}, \"nodes\": {\"0\": {\"node_type\": \"metabolite\", \"x\": 150.0, \"y\": 30.0, \"label_x\": 160.0, \"label_y\": 20.0, \"bigg_id\": \"Glucopyranose_e\", \"name\": \"Glucopyranose_e\", \"node_is_primary\": false}, \"1\": {\"node_type\": \"metabolite\", \"x\": 300.0, \"y\": 30.0, \"label_x\": 310.0, \"label_y\": 20.0, \"bigg_id\": \"PHOSPHO_ENOL_PYRUVATE_c\", \"name\": \"PHOSPHO_ENOL_PYRUVATE_c\", \"node_is_primary\": false}, \"2\": {\"node_type\": \"metabolite\", \"x\": 150.0, \"y\": 550.0, \"label_x\": 160.0, \"label_y\": 580.0, \"bigg_id\": \"D_glucopyranose_6_phosphate_c\", \"name\": \"D_glucopyranose_6_phosphate_c\", \"node_is_primary\": false}, \"3\": {\"node_type\": \"metabolite\", \"x\": 300.0, \"y\": 550.0, \"label_x\": 310.0, \"label_y\": 580.0, \"bigg_id\": \"PYRUVATE_c\", \"name\": \"PYRUVATE_c\", \"node_is_primary\": false}, \"4\": {\"node_type\": \"multimarker\", \"x\": 225.0, \"y\": 305.0}, \"5\": {\"node_type\": \"midmarker\", \"x\": 225.0, \"y\": 325.0}, \"6\": {\"node_type\": \"multimarker\", \"x\": 225.0, \"y\": 345.0}, \"7\": {\"node_type\": \"metabolite\", \"x\": 300.0, \"y\": 680.0, \"label_x\": 310.0, \"label_y\": 670.0, \"bigg_id\": \"NADP_c\", \"name\": \"NADP_c\", \"node_is_primary\": false}, \"8\": {\"node_type\": \"metabolite\", \"x\": 112.5, \"y\": 1200.0, \"label_x\": 122.5, \"label_y\": 1230.0, \"bigg_id\": \"D_6_P_GLUCONO_DELTA_LACTONE_c\", \"name\": \"D_6_P_GLUCONO_DELTA_LACTONE_c\", \"node_is_primary\": false}, \"9\": {\"node_type\": \"metabolite\", \"x\": 225.0, \"y\": 1200.0, \"label_x\": 235.0, \"label_y\": 1230.0, \"bigg_id\": \"NADPH_c\", \"name\": \"NADPH_c\", \"node_is_primary\": false}, \"10\": {\"node_type\": \"metabolite\", \"x\": 337.5, \"y\": 1200.0, \"label_x\": 347.5, \"label_y\": 1230.0, \"bigg_id\": \"PROTON_c\", \"name\": \"PROTON_c\", \"node_is_primary\": false}, \"11\": {\"node_type\": \"multimarker\", \"x\": 225.0, \"y\": 955.0}, \"12\": {\"node_type\": \"midmarker\", \"x\": 225.0, \"y\": 975.0}, \"13\": {\"node_type\": \"multimarker\", \"x\": 225.0, \"y\": 995.0}, \"14\": {\"node_type\": \"metabolite\", \"x\": 150.0, \"y\": 1330.0, \"label_x\": 160.0, \"label_y\": 1320.0, \"bigg_id\": \"CPD_15815_c\", \"name\": \"CPD_15815_c\", \"node_is_primary\": false}, \"15\": {\"node_type\": \"metabolite\", \"x\": 150.0, \"y\": 1850.0, \"label_x\": 160.0, \"label_y\": 1880.0, \"bigg_id\": \"CPD_2961_c\", \"name\": \"CPD_2961_c\", \"node_is_primary\": false}, \"16\": {\"node_type\": \"metabolite\", \"x\": 300.0, \"y\": 1850.0, \"label_x\": 310.0, \"label_y\": 1880.0, \"bigg_id\": \"PROTON_c\", \"name\": \"PROTON_c\", \"node_is_primary\": false}, \"17\": {\"node_type\": \"multimarker\", \"x\": 225.0, \"y\": 1605.0}, \"18\": {\"node_type\": \"midmarker\", \"x\": 225.0, \"y\": 1625.0}, \"19\": {\"node_type\": \"multimarker\", \"x\": 225.0, \"y\": 1645.0}, \"20\": {\"node_type\": \"metabolite\", \"x\": 300.0, \"y\": 1980.0, \"label_x\": 310.0, \"label_y\": 1970.0, \"bigg_id\": \"NADP_c\", \"name\": \"NADP_c\", \"node_is_primary\": false}, \"21\": {\"node_type\": \"metabolite\", \"x\": 112.5, \"y\": 2500.0, \"label_x\": 122.5, \"label_y\": 2530.0, \"bigg_id\": \"CARBON_DIOXIDE_c\", \"name\": \"CARBON_DIOXIDE_c\", \"node_is_primary\": false}, \"22\": {\"node_type\": \"metabolite\", \"x\": 225.0, \"y\": 2500.0, \"label_x\": 235.0, \"label_y\": 2530.0, \"bigg_id\": \"NADPH_c\", \"name\": \"NADPH_c\", \"node_is_primary\": false}, \"23\": {\"node_type\": \"metabolite\", \"x\": 337.5, \"y\": 2500.0, \"label_x\": 347.5, \"label_y\": 2530.0, \"bigg_id\": \"RIBULOSE_5P_c\", \"name\": \"RIBULOSE_5P_c\", \"node_is_primary\": false}, \"24\": {\"node_type\": \"multimarker\", \"x\": 225.0, \"y\": 2255.0}, \"25\": {\"node_type\": \"midmarker\", \"x\": 225.0, \"y\": 2275.0}, \"26\": {\"node_type\": \"multimarker\", \"x\": 225.0, \"y\": 2295.0}}, \"text_labels\": {}, \"canvas\": {\"x\": 0, \"y\": 0, \"width\": 450, \"height\": 2600}}]",
       "_loaded_model_json": null,
       "allow_building_duplicate_reactions": false,
       "and_method_in_gene_reaction_rule": "mean",
       "canvas_size_and_loc": null,
       "cofactors": [
        "atp",
        "adp",
        "nad",
        "nadh",
        "nadp",
        "nadph",
        "gtp",
        "gdp",
        "h",
        "coa",
        "ump",
        "h2o",
        "ppi"
       ],
       "disabled_buttons": [
        "Clear reaction data",
        "Clear gene data",
        "Clear metabolite data"
       ],
       "embedded_css": null,
       "enable_editing": true,
       "enable_keys": false,
       "enable_keys_with_tooltip": true,
       "enable_search": true,
       "enable_tooltips": false,
       "full_screen_button": {
        "enable_editing": true,
        "enable_keys": true,
        "enable_tooltips": [
         "label"
        ],
        "menu": "all",
        "scroll_behavior": "pan"
       },
       "gene_data": null,
       "gene_font_size": 18,
       "height": 500,
       "hide_all_labels": false,
       "hide_secondary_metabolites": false,
       "highlight_missing": false,
       "identifiers_on_map": "bigg_id",
       "layout": "IPY_MODEL_2ad26e54df61484ba3ff013a5e0e652c",
       "marker_radius": 5,
       "menu": "all",
       "metabolite_compare_style": "log2_fold",
       "metabolite_data": null,
       "metabolite_no_data_color": "#ffffff",
       "metabolite_no_data_size": 10,
       "metabolite_scale": [
        {
         "color": "#fffaf0",
         "size": 20,
         "type": "min"
        },
        {
         "color": "#f1c470",
         "size": 30,
         "type": "median"
        },
        {
         "color": "#800000",
         "size": 40,
         "type": "max"
        }
       ],
       "metabolite_scale_preset": "WhYlRd",
       "metabolite_styles": [
        "color",
        "size",
        "text"
       ],
       "never_ask_before_quit": true,
       "primary_metabolite_radius": 20,
       "reaction_compare_style": "log2_fold",
       "reaction_data": null,
       "reaction_no_data_color": "#dcdcdc",
       "reaction_no_data_size": 8,
       "reaction_scale": {},
       "reaction_scale_preset": null,
       "reaction_styles": [
        "color",
        "text"
       ],
       "scroll_behavior": "none",
       "secondary_metabolite_radius": 10,
       "semantic_zoom": null,
       "show_gene_reaction_rules": false,
       "starting_reaction": null,
       "use_3d_transform": false,
       "zoom_to_element": null
      }
     },
     "a3898d3ab84e4d21b2bd11422e87128d": {
      "model_module": "@jupyter-widgets/base",
      "model_module_version": "1.2.0",
      "model_name": "LayoutModel",
      "state": {}
     },
     "a8e4f6a27ee148fda8b3f3802fc8e3f7": {
      "model_module": "escher",
      "model_module_version": "1.7.3",
      "model_name": "EscherMapModel",
      "state": {
       "_loaded_map_json": "[{\"map_name\": \"\", \"map_id\": \"\", \"map_description\": \"\", \"homepage\": \"\", \"schema\": \"https://escher.github.io/escher/jsonschema/1-0-0#\"}, {\"reactions\": {\"0\": {\"name\": \"GLCpts\", \"bigg_id\": \"GLCpts\", \"reversibility\": true, \"label_x\": 265.0, \"label_y\": 325.0, \"gene_reaction_rule\": \"\", \"genes\": [], \"segments\": {\"0\": {\"from_node_id\": \"4\", \"to_node_id\": \"5\", \"b1\": null, \"b2\": null}, \"1\": {\"from_node_id\": \"6\", \"to_node_id\": \"5\", \"b1\": null, \"b2\": null}, \"2\": {\"from_node_id\": \"0\", \"to_node_id\": \"4\", \"b1\": null, \"b2\": null}, \"3\": {\"from_node_id\": \"1\", \"to_node_id\": \"4\", \"b1\": null, \"b2\": null}, \"4\": {\"from_node_id\": \"2\", \"to_node_id\": \"6\", \"b1\": null, \"b2\": null}, \"5\": {\"from_node_id\": \"3\", \"to_node_id\": \"6\", \"b1\": null, \"b2\": null}}, \"metabolites\": [{\"bigg_id\": \"Glucopyranose_e\", \"coefficient\": -1.0}, {\"bigg_id\": \"PHOSPHO_ENOL_PYRUVATE_c\", \"coefficient\": -1.0}, {\"bigg_id\": \"D_glucopyranose_6_phosphate_c\", \"coefficient\": 1.0}, {\"bigg_id\": \"PYRUVATE_c\", \"coefficient\": 1.0}]}, \"1\": {\"name\": \"G6PDH2r\", \"bigg_id\": \"G6PDH2r\", \"reversibility\": true, \"label_x\": 265.0, \"label_y\": 975.0, \"gene_reaction_rule\": \"\", \"genes\": [], \"segments\": {\"6\": {\"from_node_id\": \"11\", \"to_node_id\": \"12\", \"b1\": null, \"b2\": null}, \"7\": {\"from_node_id\": \"13\", \"to_node_id\": \"12\", \"b1\": null, \"b2\": null}, \"8\": {\"from_node_id\": \"2\", \"to_node_id\": \"11\", \"b1\": null, \"b2\": null}, \"9\": {\"from_node_id\": \"7\", \"to_node_id\": \"11\", \"b1\": null, \"b2\": null}, \"10\": {\"from_node_id\": \"8\", \"to_node_id\": \"13\", \"b1\": null, \"b2\": null}, \"11\": {\"from_node_id\": \"9\", \"to_node_id\": \"13\", \"b1\": null, \"b2\": null}, \"12\": {\"from_node_id\": \"10\", \"to_node_id\": \"13\", \"b1\": null, \"b2\": null}}, \"metabolites\": [{\"bigg_id\": \"D_glucopyranose_6_phosphate_c\", \"coefficient\": -1.0}, {\"bigg_id\": \"NADP_c\", \"coefficient\": -1.0}, {\"bigg_id\": \"D_6_P_GLUCONO_DELTA_LACTONE_c\", \"coefficient\": 1.0}, {\"bigg_id\": \"NADPH_c\", \"coefficient\": 1.0}, {\"bigg_id\": \"PROTON_c\", \"coefficient\": 1.0}]}, \"2\": {\"name\": \"PGL\", \"bigg_id\": \"PGL\", \"reversibility\": true, \"label_x\": 265.0, \"label_y\": 1625.0, \"gene_reaction_rule\": \"\", \"genes\": [], \"segments\": {\"13\": {\"from_node_id\": \"17\", \"to_node_id\": \"18\", \"b1\": null, \"b2\": null}, \"14\": {\"from_node_id\": \"19\", \"to_node_id\": \"18\", \"b1\": null, \"b2\": null}, \"15\": {\"from_node_id\": \"14\", \"to_node_id\": \"17\", \"b1\": null, \"b2\": null}, \"16\": {\"from_node_id\": \"8\", \"to_node_id\": \"17\", \"b1\": null, \"b2\": null}, \"17\": {\"from_node_id\": \"15\", \"to_node_id\": \"19\", \"b1\": null, \"b2\": null}, \"18\": {\"from_node_id\": \"16\", \"to_node_id\": \"19\", \"b1\": null, \"b2\": null}}, \"metabolites\": [{\"bigg_id\": \"CPD_15815_c\", \"coefficient\": -1.0}, {\"bigg_id\": \"D_6_P_GLUCONO_DELTA_LACTONE_c\", \"coefficient\": -1.0}, {\"bigg_id\": \"CPD_2961_c\", \"coefficient\": 1.0}, {\"bigg_id\": \"PROTON_c\", \"coefficient\": 1.0}]}, \"3\": {\"name\": \"GND\", \"bigg_id\": \"GND\", \"reversibility\": true, \"label_x\": 265.0, \"label_y\": 2275.0, \"gene_reaction_rule\": \"\", \"genes\": [], \"segments\": {\"19\": {\"from_node_id\": \"24\", \"to_node_id\": \"25\", \"b1\": null, \"b2\": null}, \"20\": {\"from_node_id\": \"26\", \"to_node_id\": \"25\", \"b1\": null, \"b2\": null}, \"21\": {\"from_node_id\": \"15\", \"to_node_id\": \"24\", \"b1\": null, \"b2\": null}, \"22\": {\"from_node_id\": \"20\", \"to_node_id\": \"24\", \"b1\": null, \"b2\": null}, \"23\": {\"from_node_id\": \"21\", \"to_node_id\": \"26\", \"b1\": null, \"b2\": null}, \"24\": {\"from_node_id\": \"22\", \"to_node_id\": \"26\", \"b1\": null, \"b2\": null}, \"25\": {\"from_node_id\": \"23\", \"to_node_id\": \"26\", \"b1\": null, \"b2\": null}}, \"metabolites\": [{\"bigg_id\": \"CPD_2961_c\", \"coefficient\": -1.0}, {\"bigg_id\": \"NADP_c\", \"coefficient\": -1.0}, {\"bigg_id\": \"CARBON_DIOXIDE_c\", \"coefficient\": 1.0}, {\"bigg_id\": \"NADPH_c\", \"coefficient\": 1.0}, {\"bigg_id\": \"RIBULOSE_5P_c\", \"coefficient\": 1.0}]}}, \"nodes\": {\"0\": {\"node_type\": \"metabolite\", \"x\": 150.0, \"y\": 30.0, \"label_x\": 160.0, \"label_y\": 20.0, \"bigg_id\": \"Glucopyranose_e\", \"name\": \"Glucopyranose_e\", \"node_is_primary\": false}, \"1\": {\"node_type\": \"metabolite\", \"x\": 300.0, \"y\": 30.0, \"label_x\": 310.0, \"label_y\": 20.0, \"bigg_id\": \"PHOSPHO_ENOL_PYRUVATE_c\", \"name\": \"PHOSPHO_ENOL_PYRUVATE_c\", \"node_is_primary\": false}, \"2\": {\"node_type\": \"metabolite\", \"x\": 150.0, \"y\": 550.0, \"label_x\": 160.0, \"label_y\": 580.0, \"bigg_id\": \"D_glucopyranose_6_phosphate_c\", \"name\": \"D_glucopyranose_6_phosphate_c\", \"node_is_primary\": false}, \"3\": {\"node_type\": \"metabolite\", \"x\": 300.0, \"y\": 550.0, \"label_x\": 310.0, \"label_y\": 580.0, \"bigg_id\": \"PYRUVATE_c\", \"name\": \"PYRUVATE_c\", \"node_is_primary\": false}, \"4\": {\"node_type\": \"multimarker\", \"x\": 225.0, \"y\": 305.0}, \"5\": {\"node_type\": \"midmarker\", \"x\": 225.0, \"y\": 325.0}, \"6\": {\"node_type\": \"multimarker\", \"x\": 225.0, \"y\": 345.0}, \"7\": {\"node_type\": \"metabolite\", \"x\": 300.0, \"y\": 680.0, \"label_x\": 310.0, \"label_y\": 670.0, \"bigg_id\": \"NADP_c\", \"name\": \"NADP_c\", \"node_is_primary\": false}, \"8\": {\"node_type\": \"metabolite\", \"x\": 112.5, \"y\": 1200.0, \"label_x\": 122.5, \"label_y\": 1230.0, \"bigg_id\": \"D_6_P_GLUCONO_DELTA_LACTONE_c\", \"name\": \"D_6_P_GLUCONO_DELTA_LACTONE_c\", \"node_is_primary\": false}, \"9\": {\"node_type\": \"metabolite\", \"x\": 225.0, \"y\": 1200.0, \"label_x\": 235.0, \"label_y\": 1230.0, \"bigg_id\": \"NADPH_c\", \"name\": \"NADPH_c\", \"node_is_primary\": false}, \"10\": {\"node_type\": \"metabolite\", \"x\": 337.5, \"y\": 1200.0, \"label_x\": 347.5, \"label_y\": 1230.0, \"bigg_id\": \"PROTON_c\", \"name\": \"PROTON_c\", \"node_is_primary\": false}, \"11\": {\"node_type\": \"multimarker\", \"x\": 225.0, \"y\": 955.0}, \"12\": {\"node_type\": \"midmarker\", \"x\": 225.0, \"y\": 975.0}, \"13\": {\"node_type\": \"multimarker\", \"x\": 225.0, \"y\": 995.0}, \"14\": {\"node_type\": \"metabolite\", \"x\": 150.0, \"y\": 1330.0, \"label_x\": 160.0, \"label_y\": 1320.0, \"bigg_id\": \"CPD_15815_c\", \"name\": \"CPD_15815_c\", \"node_is_primary\": false}, \"15\": {\"node_type\": \"metabolite\", \"x\": 150.0, \"y\": 1850.0, \"label_x\": 160.0, \"label_y\": 1880.0, \"bigg_id\": \"CPD_2961_c\", \"name\": \"CPD_2961_c\", \"node_is_primary\": false}, \"16\": {\"node_type\": \"metabolite\", \"x\": 300.0, \"y\": 1850.0, \"label_x\": 310.0, \"label_y\": 1880.0, \"bigg_id\": \"PROTON_c\", \"name\": \"PROTON_c\", \"node_is_primary\": false}, \"17\": {\"node_type\": \"multimarker\", \"x\": 225.0, \"y\": 1605.0}, \"18\": {\"node_type\": \"midmarker\", \"x\": 225.0, \"y\": 1625.0}, \"19\": {\"node_type\": \"multimarker\", \"x\": 225.0, \"y\": 1645.0}, \"20\": {\"node_type\": \"metabolite\", \"x\": 300.0, \"y\": 1980.0, \"label_x\": 310.0, \"label_y\": 1970.0, \"bigg_id\": \"NADP_c\", \"name\": \"NADP_c\", \"node_is_primary\": false}, \"21\": {\"node_type\": \"metabolite\", \"x\": 112.5, \"y\": 2500.0, \"label_x\": 122.5, \"label_y\": 2530.0, \"bigg_id\": \"CARBON_DIOXIDE_c\", \"name\": \"CARBON_DIOXIDE_c\", \"node_is_primary\": false}, \"22\": {\"node_type\": \"metabolite\", \"x\": 225.0, \"y\": 2500.0, \"label_x\": 235.0, \"label_y\": 2530.0, \"bigg_id\": \"NADPH_c\", \"name\": \"NADPH_c\", \"node_is_primary\": false}, \"23\": {\"node_type\": \"metabolite\", \"x\": 337.5, \"y\": 2500.0, \"label_x\": 347.5, \"label_y\": 2530.0, \"bigg_id\": \"RIBULOSE_5P_c\", \"name\": \"RIBULOSE_5P_c\", \"node_is_primary\": false}, \"24\": {\"node_type\": \"multimarker\", \"x\": 225.0, \"y\": 2255.0}, \"25\": {\"node_type\": \"midmarker\", \"x\": 225.0, \"y\": 2275.0}, \"26\": {\"node_type\": \"multimarker\", \"x\": 225.0, \"y\": 2295.0}}, \"text_labels\": {}, \"canvas\": {\"x\": 0, \"y\": 0, \"width\": 450, \"height\": 2600}}]",
       "_loaded_model_json": null,
       "allow_building_duplicate_reactions": false,
       "and_method_in_gene_reaction_rule": "mean",
       "canvas_size_and_loc": null,
       "cofactors": [
        "atp",
        "adp",
        "nad",
        "nadh",
        "nadp",
        "nadph",
        "gtp",
        "gdp",
        "h",
        "coa",
        "ump",
        "h2o",
        "ppi"
       ],
       "disabled_buttons": [
        "Clear gene data",
        "Clear metabolite data"
       ],
       "embedded_css": null,
       "enable_editing": true,
       "enable_keys": false,
       "enable_keys_with_tooltip": true,
       "enable_search": true,
       "enable_tooltips": false,
       "full_screen_button": {
        "enable_editing": true,
        "enable_keys": true,
        "enable_tooltips": [
         "label"
        ],
        "menu": "all",
        "scroll_behavior": "pan"
       },
       "gene_data": null,
       "gene_font_size": 18,
       "height": 500,
       "hide_all_labels": false,
       "hide_secondary_metabolites": false,
       "highlight_missing": false,
       "identifiers_on_map": "bigg_id",
       "layout": "IPY_MODEL_1bc6230cf4904840936aad8664b2437a",
       "marker_radius": 5,
       "menu": "all",
       "metabolite_compare_style": "log2_fold",
       "metabolite_data": null,
       "metabolite_no_data_color": "#ffffff",
       "metabolite_no_data_size": 10,
       "metabolite_scale": [
        {
         "color": "#fffaf0",
         "size": 20,
         "type": "min"
        },
        {
         "color": "#f1c470",
         "size": 30,
         "type": "median"
        },
        {
         "color": "#800000",
         "size": 40,
         "type": "max"
        }
       ],
       "metabolite_scale_preset": "WhYlRd",
       "metabolite_styles": [
        "color",
        "size",
        "text"
       ],
       "never_ask_before_quit": true,
       "primary_metabolite_radius": 20,
       "reaction_compare_style": "log2_fold",
       "reaction_data": {
        "G6PDH2r": -2,
        "GLCpts": -2,
        "GND": 1,
        "Other": 1000,
        "PGL": 0.4
       },
       "reaction_no_data_color": "#dcdcdc",
       "reaction_no_data_size": 8,
       "reaction_scale": [
        {
         "color": "rgb(191,215,230)",
         "type": "value",
         "value": 333.3333333333333
        },
        {
         "color": "rgb(163,210,240)",
         "type": "value",
         "value": 666.6666666666667
        },
        {
         "color": "rgb(135,205,250)",
         "type": "value",
         "value": 1000
        },
        {
         "color": "rgb(220,220,220)",
         "type": "value",
         "value": 0
        },
        {
         "color": "rgb(237,192,110)",
         "type": "value",
         "value": -1
        },
        {
         "color": "rgb(255,165,0)",
         "type": "value",
         "value": -2
        }
       ],
       "reaction_scale_preset": null,
       "reaction_styles": [
        "color",
        "text"
       ],
       "scroll_behavior": "none",
       "secondary_metabolite_radius": 10,
       "semantic_zoom": null,
       "show_gene_reaction_rules": false,
       "starting_reaction": null,
       "use_3d_transform": false,
       "zoom_to_element": null
      }
     },
     "ac7f7e012c7446878f67d06e53ffe5c4": {
      "model_module": "@jupyter-widgets/base",
      "model_module_version": "1.2.0",
      "model_name": "LayoutModel",
      "state": {}
     },
     "af7b3605e8274754af6bcfd10e1004cd": {
      "model_module": "escher",
      "model_module_version": "1.7.3",
      "model_name": "EscherMapModel",
      "state": {
       "_loaded_map_json": "[{\"map_name\": \"\", \"map_id\": \"\", \"map_description\": \"\", \"homepage\": \"\", \"schema\": \"https://escher.github.io/escher/jsonschema/1-0-0#\"}, {\"reactions\": {\"0\": {\"name\": \"GLCpts\", \"bigg_id\": \"GLCpts\", \"reversibility\": true, \"label_x\": 271.0, \"label_y\": 45.0, \"gene_reaction_rule\": \"\", \"genes\": [], \"segments\": {\"0\": {\"from_node_id\": \"4\", \"to_node_id\": \"5\", \"b1\": null, \"b2\": null}, \"1\": {\"from_node_id\": \"6\", \"to_node_id\": \"5\", \"b1\": null, \"b2\": null}, \"2\": {\"from_node_id\": \"0\", \"to_node_id\": \"4\", \"b1\": null, \"b2\": null}, \"3\": {\"from_node_id\": \"1\", \"to_node_id\": \"4\", \"b1\": null, \"b2\": null}, \"4\": {\"from_node_id\": \"2\", \"to_node_id\": \"6\", \"b1\": null, \"b2\": null}, \"5\": {\"from_node_id\": \"3\", \"to_node_id\": \"6\", \"b1\": null, \"b2\": null}}, \"metabolites\": [{\"bigg_id\": \"Glucopyranose_e\", \"coefficient\": -1.0}, {\"bigg_id\": \"PHOSPHO_ENOL_PYRUVATE_c\", \"coefficient\": -1.0}, {\"bigg_id\": \"D_glucopyranose_6_phosphate_c\", \"coefficient\": 1.0}, {\"bigg_id\": \"PYRUVATE_c\", \"coefficient\": 1.0}]}, \"1\": {\"name\": \"G6PDH2r\", \"bigg_id\": \"G6PDH2r\", \"reversibility\": true, \"label_x\": 912.0, \"label_y\": 45.0, \"gene_reaction_rule\": \"\", \"genes\": [], \"segments\": {\"6\": {\"from_node_id\": \"11\", \"to_node_id\": \"12\", \"b1\": null, \"b2\": null}, \"7\": {\"from_node_id\": \"13\", \"to_node_id\": \"12\", \"b1\": null, \"b2\": null}, \"8\": {\"from_node_id\": \"2\", \"to_node_id\": \"11\", \"b1\": null, \"b2\": null}, \"9\": {\"from_node_id\": \"7\", \"to_node_id\": \"11\", \"b1\": null, \"b2\": null}, \"10\": {\"from_node_id\": \"8\", \"to_node_id\": \"13\", \"b1\": null, \"b2\": null}, \"11\": {\"from_node_id\": \"9\", \"to_node_id\": \"13\", \"b1\": null, \"b2\": null}, \"12\": {\"from_node_id\": \"10\", \"to_node_id\": \"13\", \"b1\": null, \"b2\": null}}, \"metabolites\": [{\"bigg_id\": \"D_glucopyranose_6_phosphate_c\", \"coefficient\": -1.0}, {\"bigg_id\": \"NADP_c\", \"coefficient\": -1.0}, {\"bigg_id\": \"D_6_P_GLUCONO_DELTA_LACTONE_c\", \"coefficient\": 1.0}, {\"bigg_id\": \"NADPH_c\", \"coefficient\": 1.0}, {\"bigg_id\": \"PROTON_c\", \"coefficient\": 1.0}]}, \"2\": {\"name\": \"PGL\", \"bigg_id\": \"PGL\", \"reversibility\": true, \"label_x\": 1598.0, \"label_y\": 45.0, \"gene_reaction_rule\": \"\", \"genes\": [], \"segments\": {\"13\": {\"from_node_id\": \"17\", \"to_node_id\": \"18\", \"b1\": null, \"b2\": null}, \"14\": {\"from_node_id\": \"19\", \"to_node_id\": \"18\", \"b1\": null, \"b2\": null}, \"15\": {\"from_node_id\": \"14\", \"to_node_id\": \"17\", \"b1\": null, \"b2\": null}, \"16\": {\"from_node_id\": \"8\", \"to_node_id\": \"17\", \"b1\": null, \"b2\": null}, \"17\": {\"from_node_id\": \"15\", \"to_node_id\": \"19\", \"b1\": null, \"b2\": null}, \"18\": {\"from_node_id\": \"16\", \"to_node_id\": \"19\", \"b1\": null, \"b2\": null}}, \"metabolites\": [{\"bigg_id\": \"CPD_15815_c\", \"coefficient\": -1.0}, {\"bigg_id\": \"D_6_P_GLUCONO_DELTA_LACTONE_c\", \"coefficient\": -1.0}, {\"bigg_id\": \"CPD_2961_c\", \"coefficient\": 1.0}, {\"bigg_id\": \"PROTON_c\", \"coefficient\": 1.0}]}, \"3\": {\"name\": \"GND\", \"bigg_id\": \"GND\", \"reversibility\": true, \"label_x\": 2248.0, \"label_y\": 45.0, \"gene_reaction_rule\": \"\", \"genes\": [], \"segments\": {\"19\": {\"from_node_id\": \"24\", \"to_node_id\": \"25\", \"b1\": null, \"b2\": null}, \"20\": {\"from_node_id\": \"26\", \"to_node_id\": \"25\", \"b1\": null, \"b2\": null}, \"21\": {\"from_node_id\": \"15\", \"to_node_id\": \"24\", \"b1\": null, \"b2\": null}, \"22\": {\"from_node_id\": \"20\", \"to_node_id\": \"24\", \"b1\": null, \"b2\": null}, \"23\": {\"from_node_id\": \"21\", \"to_node_id\": \"26\", \"b1\": null, \"b2\": null}, \"24\": {\"from_node_id\": \"22\", \"to_node_id\": \"26\", \"b1\": null, \"b2\": null}, \"25\": {\"from_node_id\": \"23\", \"to_node_id\": \"26\", \"b1\": null, \"b2\": null}}, \"metabolites\": [{\"bigg_id\": \"CPD_2961_c\", \"coefficient\": -1.0}, {\"bigg_id\": \"NADP_c\", \"coefficient\": -1.0}, {\"bigg_id\": \"CARBON_DIOXIDE_c\", \"coefficient\": 1.0}, {\"bigg_id\": \"NADPH_c\", \"coefficient\": 1.0}, {\"bigg_id\": \"RIBULOSE_5P_c\", \"coefficient\": 1.0}]}}, \"nodes\": {\"0\": {\"node_type\": \"metabolite\", \"x\": 30.0, \"y\": 150.0, \"label_x\": 0.0, \"label_y\": 130.0, \"bigg_id\": \"Glucopyranose_e\", \"name\": \"Glucopyranose_e\", \"node_is_primary\": false}, \"1\": {\"node_type\": \"metabolite\", \"x\": 30.0, \"y\": 300.0, \"label_x\": 0.0, \"label_y\": 280.0, \"bigg_id\": \"PHOSPHO_ENOL_PYRUVATE_c\", \"name\": \"PHOSPHO_ENOL_PYRUVATE_c\", \"node_is_primary\": false}, \"2\": {\"node_type\": \"metabolite\", \"x\": 550.0, \"y\": 150.0, \"label_x\": 520.0, \"label_y\": 130.0, \"bigg_id\": \"D_glucopyranose_6_phosphate_c\", \"name\": \"D_glucopyranose_6_phosphate_c\", \"node_is_primary\": false}, \"3\": {\"node_type\": \"metabolite\", \"x\": 550.0, \"y\": 300.0, \"label_x\": 520.0, \"label_y\": 280.0, \"bigg_id\": \"PYRUVATE_c\", \"name\": \"PYRUVATE_c\", \"node_is_primary\": false}, \"4\": {\"node_type\": \"multimarker\", \"x\": 335.0, \"y\": 225.0}, \"5\": {\"node_type\": \"midmarker\", \"x\": 355.0, \"y\": 225.0}, \"6\": {\"node_type\": \"multimarker\", \"x\": 375.0, \"y\": 225.0}, \"7\": {\"node_type\": \"metabolite\", \"x\": 680.0, \"y\": 300.0, \"label_x\": 650.0, \"label_y\": 280.0, \"bigg_id\": \"NADP_c\", \"name\": \"NADP_c\", \"node_is_primary\": false}, \"8\": {\"node_type\": \"metabolite\", \"x\": 1200.0, \"y\": 112.5, \"label_x\": 1170.0, \"label_y\": 92.5, \"bigg_id\": \"D_6_P_GLUCONO_DELTA_LACTONE_c\", \"name\": \"D_6_P_GLUCONO_DELTA_LACTONE_c\", \"node_is_primary\": false}, \"9\": {\"node_type\": \"metabolite\", \"x\": 1200.0, \"y\": 225.0, \"label_x\": 1170.0, \"label_y\": 205.0, \"bigg_id\": \"NADPH_c\", \"name\": \"NADPH_c\", \"node_is_primary\": false}, \"10\": {\"node_type\": \"metabolite\", \"x\": 1200.0, \"y\": 337.5, \"label_x\": 1170.0, \"label_y\": 317.5, \"bigg_id\": \"PROTON_c\", \"name\": \"PROTON_c\", \"node_is_primary\": false}, \"11\": {\"node_type\": \"multimarker\", \"x\": 985.0, \"y\": 225.0}, \"12\": {\"node_type\": \"midmarker\", \"x\": 1005.0, \"y\": 225.0}, \"13\": {\"node_type\": \"multimarker\", \"x\": 1025.0, \"y\": 225.0}, \"14\": {\"node_type\": \"metabolite\", \"x\": 1330.0, \"y\": 150.0, \"label_x\": 1300.0, \"label_y\": 130.0, \"bigg_id\": \"CPD_15815_c\", \"name\": \"CPD_15815_c\", \"node_is_primary\": false}, \"15\": {\"node_type\": \"metabolite\", \"x\": 1850.0, \"y\": 150.0, \"label_x\": 1820.0, \"label_y\": 130.0, \"bigg_id\": \"CPD_2961_c\", \"name\": \"CPD_2961_c\", \"node_is_primary\": false}, \"16\": {\"node_type\": \"metabolite\", \"x\": 1850.0, \"y\": 300.0, \"label_x\": 1820.0, \"label_y\": 280.0, \"bigg_id\": \"PROTON_c\", \"name\": \"PROTON_c\", \"node_is_primary\": false}, \"17\": {\"node_type\": \"multimarker\", \"x\": 1635.0, \"y\": 225.0}, \"18\": {\"node_type\": \"midmarker\", \"x\": 1655.0, \"y\": 225.0}, \"19\": {\"node_type\": \"multimarker\", \"x\": 1675.0, \"y\": 225.0}, \"20\": {\"node_type\": \"metabolite\", \"x\": 1980.0, \"y\": 300.0, \"label_x\": 1950.0, \"label_y\": 280.0, \"bigg_id\": \"NADP_c\", \"name\": \"NADP_c\", \"node_is_primary\": false}, \"21\": {\"node_type\": \"metabolite\", \"x\": 2500.0, \"y\": 112.5, \"label_x\": 2470.0, \"label_y\": 92.5, \"bigg_id\": \"CARBON_DIOXIDE_c\", \"name\": \"CARBON_DIOXIDE_c\", \"node_is_primary\": false}, \"22\": {\"node_type\": \"metabolite\", \"x\": 2500.0, \"y\": 225.0, \"label_x\": 2470.0, \"label_y\": 205.0, \"bigg_id\": \"NADPH_c\", \"name\": \"NADPH_c\", \"node_is_primary\": false}, \"23\": {\"node_type\": \"metabolite\", \"x\": 2500.0, \"y\": 337.5, \"label_x\": 2470.0, \"label_y\": 317.5, \"bigg_id\": \"RIBULOSE_5P_c\", \"name\": \"RIBULOSE_5P_c\", \"node_is_primary\": false}, \"24\": {\"node_type\": \"multimarker\", \"x\": 2285.0, \"y\": 225.0}, \"25\": {\"node_type\": \"midmarker\", \"x\": 2305.0, \"y\": 225.0}, \"26\": {\"node_type\": \"multimarker\", \"x\": 2325.0, \"y\": 225.0}}, \"text_labels\": {}, \"canvas\": {\"x\": 0, \"y\": 0, \"width\": 2600, \"height\": 450}}]",
       "_loaded_model_json": null,
       "allow_building_duplicate_reactions": false,
       "and_method_in_gene_reaction_rule": "mean",
       "canvas_size_and_loc": null,
       "cofactors": [
        "atp",
        "adp",
        "nad",
        "nadh",
        "nadp",
        "nadph",
        "gtp",
        "gdp",
        "h",
        "coa",
        "ump",
        "h2o",
        "ppi"
       ],
       "disabled_buttons": [
        "Clear reaction data",
        "Clear gene data",
        "Clear metabolite data"
       ],
       "embedded_css": null,
       "enable_editing": true,
       "enable_keys": false,
       "enable_keys_with_tooltip": true,
       "enable_search": true,
       "enable_tooltips": false,
       "full_screen_button": {
        "enable_editing": true,
        "enable_keys": true,
        "enable_tooltips": [
         "label"
        ],
        "menu": "all",
        "scroll_behavior": "pan"
       },
       "gene_data": null,
       "gene_font_size": 18,
       "height": 500,
       "hide_all_labels": false,
       "hide_secondary_metabolites": false,
       "highlight_missing": false,
       "identifiers_on_map": "bigg_id",
       "layout": "IPY_MODEL_3edf16da07044bc5a1d5ad31763a85af",
       "marker_radius": 5,
       "menu": "all",
       "metabolite_compare_style": "log2_fold",
       "metabolite_data": null,
       "metabolite_no_data_color": "#ffffff",
       "metabolite_no_data_size": 10,
       "metabolite_scale": [
        {
         "color": "#fffaf0",
         "size": 20,
         "type": "min"
        },
        {
         "color": "#f1c470",
         "size": 30,
         "type": "median"
        },
        {
         "color": "#800000",
         "size": 40,
         "type": "max"
        }
       ],
       "metabolite_scale_preset": "WhYlRd",
       "metabolite_styles": [
        "color",
        "size",
        "text"
       ],
       "never_ask_before_quit": true,
       "primary_metabolite_radius": 20,
       "reaction_compare_style": "log2_fold",
       "reaction_data": null,
       "reaction_no_data_color": "#dcdcdc",
       "reaction_no_data_size": 8,
       "reaction_scale": {},
       "reaction_scale_preset": null,
       "reaction_styles": [
        "color",
        "text"
       ],
       "scroll_behavior": "none",
       "secondary_metabolite_radius": 10,
       "semantic_zoom": null,
       "show_gene_reaction_rules": false,
       "starting_reaction": null,
       "use_3d_transform": false,
       "zoom_to_element": null
      }
     },
     "afb2e08db50a440fa19e771b1606d6e2": {
      "model_module": "@jupyter-widgets/base",
      "model_module_version": "1.2.0",
      "model_name": "LayoutModel",
      "state": {}
     },
     "c214ac9dfa8943f6a59f647b9ed6e1e5": {
      "model_module": "escher",
      "model_module_version": "1.7.3",
      "model_name": "EscherMapModel",
      "state": {
       "_loaded_map_json": "[{\"map_name\": \"\", \"map_id\": \"\", \"map_description\": \"\", \"homepage\": \"\", \"schema\": \"https://escher.github.io/escher/jsonschema/1-0-0#\"}, {\"reactions\": {\"0\": {\"name\": \"GLCpts\", \"bigg_id\": \"GLCpts\", \"reversibility\": true, \"label_x\": 265.0, \"label_y\": 325.0, \"gene_reaction_rule\": \"\", \"genes\": [], \"segments\": {\"0\": {\"from_node_id\": \"4\", \"to_node_id\": \"5\", \"b1\": null, \"b2\": null}, \"1\": {\"from_node_id\": \"6\", \"to_node_id\": \"5\", \"b1\": null, \"b2\": null}, \"2\": {\"from_node_id\": \"0\", \"to_node_id\": \"4\", \"b1\": null, \"b2\": null}, \"3\": {\"from_node_id\": \"1\", \"to_node_id\": \"4\", \"b1\": null, \"b2\": null}, \"4\": {\"from_node_id\": \"2\", \"to_node_id\": \"6\", \"b1\": null, \"b2\": null}, \"5\": {\"from_node_id\": \"3\", \"to_node_id\": \"6\", \"b1\": null, \"b2\": null}}, \"metabolites\": [{\"bigg_id\": \"Glucopyranose_e\", \"coefficient\": -1.0}, {\"bigg_id\": \"PHOSPHO_ENOL_PYRUVATE_c\", \"coefficient\": -1.0}, {\"bigg_id\": \"D_glucopyranose_6_phosphate_c\", \"coefficient\": 1.0}, {\"bigg_id\": \"PYRUVATE_c\", \"coefficient\": 1.0}]}, \"1\": {\"name\": \"G6PDH2r\", \"bigg_id\": \"G6PDH2r\", \"reversibility\": true, \"label_x\": 265.0, \"label_y\": 975.0, \"gene_reaction_rule\": \"\", \"genes\": [], \"segments\": {\"6\": {\"from_node_id\": \"11\", \"to_node_id\": \"12\", \"b1\": null, \"b2\": null}, \"7\": {\"from_node_id\": \"13\", \"to_node_id\": \"12\", \"b1\": null, \"b2\": null}, \"8\": {\"from_node_id\": \"2\", \"to_node_id\": \"11\", \"b1\": null, \"b2\": null}, \"9\": {\"from_node_id\": \"7\", \"to_node_id\": \"11\", \"b1\": null, \"b2\": null}, \"10\": {\"from_node_id\": \"8\", \"to_node_id\": \"13\", \"b1\": null, \"b2\": null}, \"11\": {\"from_node_id\": \"9\", \"to_node_id\": \"13\", \"b1\": null, \"b2\": null}, \"12\": {\"from_node_id\": \"10\", \"to_node_id\": \"13\", \"b1\": null, \"b2\": null}}, \"metabolites\": [{\"bigg_id\": \"D_glucopyranose_6_phosphate_c\", \"coefficient\": -1.0}, {\"bigg_id\": \"NADP_c\", \"coefficient\": -1.0}, {\"bigg_id\": \"D_6_P_GLUCONO_DELTA_LACTONE_c\", \"coefficient\": 1.0}, {\"bigg_id\": \"NADPH_c\", \"coefficient\": 1.0}, {\"bigg_id\": \"PROTON_c\", \"coefficient\": 1.0}]}, \"2\": {\"name\": \"PGL\", \"bigg_id\": \"PGL\", \"reversibility\": true, \"label_x\": 265.0, \"label_y\": 1625.0, \"gene_reaction_rule\": \"\", \"genes\": [], \"segments\": {\"13\": {\"from_node_id\": \"17\", \"to_node_id\": \"18\", \"b1\": null, \"b2\": null}, \"14\": {\"from_node_id\": \"19\", \"to_node_id\": \"18\", \"b1\": null, \"b2\": null}, \"15\": {\"from_node_id\": \"14\", \"to_node_id\": \"17\", \"b1\": null, \"b2\": null}, \"16\": {\"from_node_id\": \"8\", \"to_node_id\": \"17\", \"b1\": null, \"b2\": null}, \"17\": {\"from_node_id\": \"15\", \"to_node_id\": \"19\", \"b1\": null, \"b2\": null}, \"18\": {\"from_node_id\": \"16\", \"to_node_id\": \"19\", \"b1\": null, \"b2\": null}}, \"metabolites\": [{\"bigg_id\": \"CPD_15815_c\", \"coefficient\": -1.0}, {\"bigg_id\": \"D_6_P_GLUCONO_DELTA_LACTONE_c\", \"coefficient\": -1.0}, {\"bigg_id\": \"CPD_2961_c\", \"coefficient\": 1.0}, {\"bigg_id\": \"PROTON_c\", \"coefficient\": 1.0}]}, \"3\": {\"name\": \"GND\", \"bigg_id\": \"GND\", \"reversibility\": true, \"label_x\": 265.0, \"label_y\": 2275.0, \"gene_reaction_rule\": \"\", \"genes\": [], \"segments\": {\"19\": {\"from_node_id\": \"24\", \"to_node_id\": \"25\", \"b1\": null, \"b2\": null}, \"20\": {\"from_node_id\": \"26\", \"to_node_id\": \"25\", \"b1\": null, \"b2\": null}, \"21\": {\"from_node_id\": \"15\", \"to_node_id\": \"24\", \"b1\": null, \"b2\": null}, \"22\": {\"from_node_id\": \"20\", \"to_node_id\": \"24\", \"b1\": null, \"b2\": null}, \"23\": {\"from_node_id\": \"21\", \"to_node_id\": \"26\", \"b1\": null, \"b2\": null}, \"24\": {\"from_node_id\": \"22\", \"to_node_id\": \"26\", \"b1\": null, \"b2\": null}, \"25\": {\"from_node_id\": \"23\", \"to_node_id\": \"26\", \"b1\": null, \"b2\": null}}, \"metabolites\": [{\"bigg_id\": \"CPD_2961_c\", \"coefficient\": -1.0}, {\"bigg_id\": \"NADP_c\", \"coefficient\": -1.0}, {\"bigg_id\": \"CARBON_DIOXIDE_c\", \"coefficient\": 1.0}, {\"bigg_id\": \"NADPH_c\", \"coefficient\": 1.0}, {\"bigg_id\": \"RIBULOSE_5P_c\", \"coefficient\": 1.0}]}}, \"nodes\": {\"0\": {\"node_type\": \"metabolite\", \"x\": 150.0, \"y\": 30.0, \"label_x\": 160.0, \"label_y\": 20.0, \"bigg_id\": \"Glucopyranose_e\", \"name\": \"Glucopyranose_e\", \"node_is_primary\": false}, \"1\": {\"node_type\": \"metabolite\", \"x\": 300.0, \"y\": 30.0, \"label_x\": 310.0, \"label_y\": 20.0, \"bigg_id\": \"PHOSPHO_ENOL_PYRUVATE_c\", \"name\": \"PHOSPHO_ENOL_PYRUVATE_c\", \"node_is_primary\": false}, \"2\": {\"node_type\": \"metabolite\", \"x\": 150.0, \"y\": 550.0, \"label_x\": 160.0, \"label_y\": 580.0, \"bigg_id\": \"D_glucopyranose_6_phosphate_c\", \"name\": \"D_glucopyranose_6_phosphate_c\", \"node_is_primary\": false}, \"3\": {\"node_type\": \"metabolite\", \"x\": 300.0, \"y\": 550.0, \"label_x\": 310.0, \"label_y\": 580.0, \"bigg_id\": \"PYRUVATE_c\", \"name\": \"PYRUVATE_c\", \"node_is_primary\": false}, \"4\": {\"node_type\": \"multimarker\", \"x\": 225.0, \"y\": 305.0}, \"5\": {\"node_type\": \"midmarker\", \"x\": 225.0, \"y\": 325.0}, \"6\": {\"node_type\": \"multimarker\", \"x\": 225.0, \"y\": 345.0}, \"7\": {\"node_type\": \"metabolite\", \"x\": 300.0, \"y\": 680.0, \"label_x\": 310.0, \"label_y\": 670.0, \"bigg_id\": \"NADP_c\", \"name\": \"NADP_c\", \"node_is_primary\": false}, \"8\": {\"node_type\": \"metabolite\", \"x\": 112.5, \"y\": 1200.0, \"label_x\": 122.5, \"label_y\": 1230.0, \"bigg_id\": \"D_6_P_GLUCONO_DELTA_LACTONE_c\", \"name\": \"D_6_P_GLUCONO_DELTA_LACTONE_c\", \"node_is_primary\": false}, \"9\": {\"node_type\": \"metabolite\", \"x\": 225.0, \"y\": 1200.0, \"label_x\": 235.0, \"label_y\": 1230.0, \"bigg_id\": \"NADPH_c\", \"name\": \"NADPH_c\", \"node_is_primary\": false}, \"10\": {\"node_type\": \"metabolite\", \"x\": 337.5, \"y\": 1200.0, \"label_x\": 347.5, \"label_y\": 1230.0, \"bigg_id\": \"PROTON_c\", \"name\": \"PROTON_c\", \"node_is_primary\": false}, \"11\": {\"node_type\": \"multimarker\", \"x\": 225.0, \"y\": 955.0}, \"12\": {\"node_type\": \"midmarker\", \"x\": 225.0, \"y\": 975.0}, \"13\": {\"node_type\": \"multimarker\", \"x\": 225.0, \"y\": 995.0}, \"14\": {\"node_type\": \"metabolite\", \"x\": 150.0, \"y\": 1330.0, \"label_x\": 160.0, \"label_y\": 1320.0, \"bigg_id\": \"CPD_15815_c\", \"name\": \"CPD_15815_c\", \"node_is_primary\": false}, \"15\": {\"node_type\": \"metabolite\", \"x\": 150.0, \"y\": 1850.0, \"label_x\": 160.0, \"label_y\": 1880.0, \"bigg_id\": \"CPD_2961_c\", \"name\": \"CPD_2961_c\", \"node_is_primary\": false}, \"16\": {\"node_type\": \"metabolite\", \"x\": 300.0, \"y\": 1850.0, \"label_x\": 310.0, \"label_y\": 1880.0, \"bigg_id\": \"PROTON_c\", \"name\": \"PROTON_c\", \"node_is_primary\": false}, \"17\": {\"node_type\": \"multimarker\", \"x\": 225.0, \"y\": 1605.0}, \"18\": {\"node_type\": \"midmarker\", \"x\": 225.0, \"y\": 1625.0}, \"19\": {\"node_type\": \"multimarker\", \"x\": 225.0, \"y\": 1645.0}, \"20\": {\"node_type\": \"metabolite\", \"x\": 300.0, \"y\": 1980.0, \"label_x\": 310.0, \"label_y\": 1970.0, \"bigg_id\": \"NADP_c\", \"name\": \"NADP_c\", \"node_is_primary\": false}, \"21\": {\"node_type\": \"metabolite\", \"x\": 112.5, \"y\": 2500.0, \"label_x\": 122.5, \"label_y\": 2530.0, \"bigg_id\": \"CARBON_DIOXIDE_c\", \"name\": \"CARBON_DIOXIDE_c\", \"node_is_primary\": false}, \"22\": {\"node_type\": \"metabolite\", \"x\": 225.0, \"y\": 2500.0, \"label_x\": 235.0, \"label_y\": 2530.0, \"bigg_id\": \"NADPH_c\", \"name\": \"NADPH_c\", \"node_is_primary\": false}, \"23\": {\"node_type\": \"metabolite\", \"x\": 337.5, \"y\": 2500.0, \"label_x\": 347.5, \"label_y\": 2530.0, \"bigg_id\": \"RIBULOSE_5P_c\", \"name\": \"RIBULOSE_5P_c\", \"node_is_primary\": false}, \"24\": {\"node_type\": \"multimarker\", \"x\": 225.0, \"y\": 2255.0}, \"25\": {\"node_type\": \"midmarker\", \"x\": 225.0, \"y\": 2275.0}, \"26\": {\"node_type\": \"multimarker\", \"x\": 225.0, \"y\": 2295.0}}, \"text_labels\": {}, \"canvas\": {\"x\": 0, \"y\": 0, \"width\": 450, \"height\": 2600}}]",
       "_loaded_model_json": null,
       "allow_building_duplicate_reactions": false,
       "and_method_in_gene_reaction_rule": "mean",
       "canvas_size_and_loc": null,
       "cofactors": [
        "atp",
        "adp",
        "nad",
        "nadh",
        "nadp",
        "nadph",
        "gtp",
        "gdp",
        "h",
        "coa",
        "ump",
        "h2o",
        "ppi"
       ],
       "disabled_buttons": [
        "Clear gene data",
        "Clear metabolite data"
       ],
       "embedded_css": null,
       "enable_editing": true,
       "enable_keys": false,
       "enable_keys_with_tooltip": true,
       "enable_search": true,
       "enable_tooltips": false,
       "full_screen_button": {
        "enable_editing": true,
        "enable_keys": true,
        "enable_tooltips": [
         "label"
        ],
        "menu": "all",
        "scroll_behavior": "pan"
       },
       "gene_data": null,
       "gene_font_size": 18,
       "height": 500,
       "hide_all_labels": false,
       "hide_secondary_metabolites": false,
       "highlight_missing": false,
       "identifiers_on_map": "bigg_id",
       "layout": "IPY_MODEL_fd8b3c7a24784bddbc00b9161ffa0f71",
       "marker_radius": 5,
       "menu": "all",
       "metabolite_compare_style": "log2_fold",
       "metabolite_data": null,
       "metabolite_no_data_color": "#ffffff",
       "metabolite_no_data_size": 10,
       "metabolite_scale": [
        {
         "color": "#fffaf0",
         "size": 20,
         "type": "min"
        },
        {
         "color": "#f1c470",
         "size": 30,
         "type": "median"
        },
        {
         "color": "#800000",
         "size": 40,
         "type": "max"
        }
       ],
       "metabolite_scale_preset": "WhYlRd",
       "metabolite_styles": [
        "color",
        "size",
        "text"
       ],
       "never_ask_before_quit": true,
       "primary_metabolite_radius": 20,
       "reaction_compare_style": "log2_fold",
       "reaction_data": {
        "G6PDH2r": -2,
        "GLCpts": -2,
        "GND": 1,
        "Other": 1000,
        "PGL": 0.4
       },
       "reaction_no_data_color": "#dcdcdc",
       "reaction_no_data_size": 8,
       "reaction_scale": [
        {
         "color": "rgb(191,215,230)",
         "type": "value",
         "value": 0.4
        },
        {
         "color": "rgb(163,210,240)",
         "type": "value",
         "value": 1
        },
        {
         "color": "rgb(135,205,250)",
         "type": "value",
         "value": 1000
        },
        {
         "color": "rgb(220,220,220)",
         "type": "value",
         "value": 0
        },
        {
         "color": "rgb(237,192,110)",
         "type": "value",
         "value": -2
        },
        {
         "color": "rgb(255,165,0)",
         "type": "value",
         "value": -2
        }
       ],
       "reaction_scale_preset": null,
       "reaction_styles": [
        "color",
        "text"
       ],
       "scroll_behavior": "none",
       "secondary_metabolite_radius": 10,
       "semantic_zoom": null,
       "show_gene_reaction_rules": false,
       "starting_reaction": null,
       "use_3d_transform": false,
       "zoom_to_element": null
      }
     },
     "d957733bd3024c609d284469a054820b": {
      "model_module": "escher",
      "model_module_version": "1.7.3",
      "model_name": "EscherMapModel",
      "state": {
       "_loaded_map_json": "[{\"map_name\": \"\", \"map_id\": \"\", \"map_description\": \"\", \"homepage\": \"\", \"schema\": \"https://escher.github.io/escher/jsonschema/1-0-0#\"}, {\"reactions\": {\"0\": {\"name\": \"GLCpts\", \"bigg_id\": \"GLCpts\", \"reversibility\": true, \"label_x\": 265.0, \"label_y\": 325.0, \"gene_reaction_rule\": \"\", \"genes\": [], \"segments\": {\"0\": {\"from_node_id\": \"4\", \"to_node_id\": \"5\", \"b1\": null, \"b2\": null}, \"1\": {\"from_node_id\": \"6\", \"to_node_id\": \"5\", \"b1\": null, \"b2\": null}, \"2\": {\"from_node_id\": \"0\", \"to_node_id\": \"4\", \"b1\": null, \"b2\": null}, \"3\": {\"from_node_id\": \"1\", \"to_node_id\": \"4\", \"b1\": null, \"b2\": null}, \"4\": {\"from_node_id\": \"2\", \"to_node_id\": \"6\", \"b1\": null, \"b2\": null}, \"5\": {\"from_node_id\": \"3\", \"to_node_id\": \"6\", \"b1\": null, \"b2\": null}}, \"metabolites\": [{\"bigg_id\": \"Glucopyranose_e\", \"coefficient\": -1.0}, {\"bigg_id\": \"PHOSPHO_ENOL_PYRUVATE_c\", \"coefficient\": -1.0}, {\"bigg_id\": \"D_glucopyranose_6_phosphate_c\", \"coefficient\": 1.0}, {\"bigg_id\": \"PYRUVATE_c\", \"coefficient\": 1.0}]}, \"1\": {\"name\": \"G6PDH2r\", \"bigg_id\": \"G6PDH2r\", \"reversibility\": true, \"label_x\": 265.0, \"label_y\": 975.0, \"gene_reaction_rule\": \"\", \"genes\": [], \"segments\": {\"6\": {\"from_node_id\": \"11\", \"to_node_id\": \"12\", \"b1\": null, \"b2\": null}, \"7\": {\"from_node_id\": \"13\", \"to_node_id\": \"12\", \"b1\": null, \"b2\": null}, \"8\": {\"from_node_id\": \"2\", \"to_node_id\": \"11\", \"b1\": null, \"b2\": null}, \"9\": {\"from_node_id\": \"7\", \"to_node_id\": \"11\", \"b1\": null, \"b2\": null}, \"10\": {\"from_node_id\": \"8\", \"to_node_id\": \"13\", \"b1\": null, \"b2\": null}, \"11\": {\"from_node_id\": \"9\", \"to_node_id\": \"13\", \"b1\": null, \"b2\": null}, \"12\": {\"from_node_id\": \"10\", \"to_node_id\": \"13\", \"b1\": null, \"b2\": null}}, \"metabolites\": [{\"bigg_id\": \"D_glucopyranose_6_phosphate_c\", \"coefficient\": -1.0}, {\"bigg_id\": \"NADP_c\", \"coefficient\": -1.0}, {\"bigg_id\": \"D_6_P_GLUCONO_DELTA_LACTONE_c\", \"coefficient\": 1.0}, {\"bigg_id\": \"NADPH_c\", \"coefficient\": 1.0}, {\"bigg_id\": \"PROTON_c\", \"coefficient\": 1.0}]}, \"2\": {\"name\": \"PGL\", \"bigg_id\": \"PGL\", \"reversibility\": true, \"label_x\": 265.0, \"label_y\": 1625.0, \"gene_reaction_rule\": \"\", \"genes\": [], \"segments\": {\"13\": {\"from_node_id\": \"17\", \"to_node_id\": \"18\", \"b1\": null, \"b2\": null}, \"14\": {\"from_node_id\": \"19\", \"to_node_id\": \"18\", \"b1\": null, \"b2\": null}, \"15\": {\"from_node_id\": \"14\", \"to_node_id\": \"17\", \"b1\": null, \"b2\": null}, \"16\": {\"from_node_id\": \"8\", \"to_node_id\": \"17\", \"b1\": null, \"b2\": null}, \"17\": {\"from_node_id\": \"15\", \"to_node_id\": \"19\", \"b1\": null, \"b2\": null}, \"18\": {\"from_node_id\": \"16\", \"to_node_id\": \"19\", \"b1\": null, \"b2\": null}}, \"metabolites\": [{\"bigg_id\": \"CPD_15815_c\", \"coefficient\": -1.0}, {\"bigg_id\": \"D_6_P_GLUCONO_DELTA_LACTONE_c\", \"coefficient\": -1.0}, {\"bigg_id\": \"CPD_2961_c\", \"coefficient\": 1.0}, {\"bigg_id\": \"PROTON_c\", \"coefficient\": 1.0}]}, \"3\": {\"name\": \"GND\", \"bigg_id\": \"GND\", \"reversibility\": true, \"label_x\": 265.0, \"label_y\": 2275.0, \"gene_reaction_rule\": \"\", \"genes\": [], \"segments\": {\"19\": {\"from_node_id\": \"24\", \"to_node_id\": \"25\", \"b1\": null, \"b2\": null}, \"20\": {\"from_node_id\": \"26\", \"to_node_id\": \"25\", \"b1\": null, \"b2\": null}, \"21\": {\"from_node_id\": \"15\", \"to_node_id\": \"24\", \"b1\": null, \"b2\": null}, \"22\": {\"from_node_id\": \"20\", \"to_node_id\": \"24\", \"b1\": null, \"b2\": null}, \"23\": {\"from_node_id\": \"21\", \"to_node_id\": \"26\", \"b1\": null, \"b2\": null}, \"24\": {\"from_node_id\": \"22\", \"to_node_id\": \"26\", \"b1\": null, \"b2\": null}, \"25\": {\"from_node_id\": \"23\", \"to_node_id\": \"26\", \"b1\": null, \"b2\": null}}, \"metabolites\": [{\"bigg_id\": \"CPD_2961_c\", \"coefficient\": -1.0}, {\"bigg_id\": \"NADP_c\", \"coefficient\": -1.0}, {\"bigg_id\": \"CARBON_DIOXIDE_c\", \"coefficient\": 1.0}, {\"bigg_id\": \"NADPH_c\", \"coefficient\": 1.0}, {\"bigg_id\": \"RIBULOSE_5P_c\", \"coefficient\": 1.0}]}}, \"nodes\": {\"0\": {\"node_type\": \"metabolite\", \"x\": 150.0, \"y\": 30.0, \"label_x\": 160.0, \"label_y\": 20.0, \"bigg_id\": \"Glucopyranose_e\", \"name\": \"Glucopyranose_e\", \"node_is_primary\": false}, \"1\": {\"node_type\": \"metabolite\", \"x\": 300.0, \"y\": 30.0, \"label_x\": 310.0, \"label_y\": 20.0, \"bigg_id\": \"PHOSPHO_ENOL_PYRUVATE_c\", \"name\": \"PHOSPHO_ENOL_PYRUVATE_c\", \"node_is_primary\": false}, \"2\": {\"node_type\": \"metabolite\", \"x\": 150.0, \"y\": 550.0, \"label_x\": 160.0, \"label_y\": 580.0, \"bigg_id\": \"D_glucopyranose_6_phosphate_c\", \"name\": \"D_glucopyranose_6_phosphate_c\", \"node_is_primary\": false}, \"3\": {\"node_type\": \"metabolite\", \"x\": 300.0, \"y\": 550.0, \"label_x\": 310.0, \"label_y\": 580.0, \"bigg_id\": \"PYRUVATE_c\", \"name\": \"PYRUVATE_c\", \"node_is_primary\": false}, \"4\": {\"node_type\": \"multimarker\", \"x\": 225.0, \"y\": 305.0}, \"5\": {\"node_type\": \"midmarker\", \"x\": 225.0, \"y\": 325.0}, \"6\": {\"node_type\": \"multimarker\", \"x\": 225.0, \"y\": 345.0}, \"7\": {\"node_type\": \"metabolite\", \"x\": 300.0, \"y\": 680.0, \"label_x\": 310.0, \"label_y\": 670.0, \"bigg_id\": \"NADP_c\", \"name\": \"NADP_c\", \"node_is_primary\": false}, \"8\": {\"node_type\": \"metabolite\", \"x\": 112.5, \"y\": 1200.0, \"label_x\": 122.5, \"label_y\": 1230.0, \"bigg_id\": \"D_6_P_GLUCONO_DELTA_LACTONE_c\", \"name\": \"D_6_P_GLUCONO_DELTA_LACTONE_c\", \"node_is_primary\": false}, \"9\": {\"node_type\": \"metabolite\", \"x\": 225.0, \"y\": 1200.0, \"label_x\": 235.0, \"label_y\": 1230.0, \"bigg_id\": \"NADPH_c\", \"name\": \"NADPH_c\", \"node_is_primary\": false}, \"10\": {\"node_type\": \"metabolite\", \"x\": 337.5, \"y\": 1200.0, \"label_x\": 347.5, \"label_y\": 1230.0, \"bigg_id\": \"PROTON_c\", \"name\": \"PROTON_c\", \"node_is_primary\": false}, \"11\": {\"node_type\": \"multimarker\", \"x\": 225.0, \"y\": 955.0}, \"12\": {\"node_type\": \"midmarker\", \"x\": 225.0, \"y\": 975.0}, \"13\": {\"node_type\": \"multimarker\", \"x\": 225.0, \"y\": 995.0}, \"14\": {\"node_type\": \"metabolite\", \"x\": 150.0, \"y\": 1330.0, \"label_x\": 160.0, \"label_y\": 1320.0, \"bigg_id\": \"CPD_15815_c\", \"name\": \"CPD_15815_c\", \"node_is_primary\": false}, \"15\": {\"node_type\": \"metabolite\", \"x\": 150.0, \"y\": 1850.0, \"label_x\": 160.0, \"label_y\": 1880.0, \"bigg_id\": \"CPD_2961_c\", \"name\": \"CPD_2961_c\", \"node_is_primary\": false}, \"16\": {\"node_type\": \"metabolite\", \"x\": 300.0, \"y\": 1850.0, \"label_x\": 310.0, \"label_y\": 1880.0, \"bigg_id\": \"PROTON_c\", \"name\": \"PROTON_c\", \"node_is_primary\": false}, \"17\": {\"node_type\": \"multimarker\", \"x\": 225.0, \"y\": 1605.0}, \"18\": {\"node_type\": \"midmarker\", \"x\": 225.0, \"y\": 1625.0}, \"19\": {\"node_type\": \"multimarker\", \"x\": 225.0, \"y\": 1645.0}, \"20\": {\"node_type\": \"metabolite\", \"x\": 300.0, \"y\": 1980.0, \"label_x\": 310.0, \"label_y\": 1970.0, \"bigg_id\": \"NADP_c\", \"name\": \"NADP_c\", \"node_is_primary\": false}, \"21\": {\"node_type\": \"metabolite\", \"x\": 112.5, \"y\": 2500.0, \"label_x\": 122.5, \"label_y\": 2530.0, \"bigg_id\": \"CARBON_DIOXIDE_c\", \"name\": \"CARBON_DIOXIDE_c\", \"node_is_primary\": false}, \"22\": {\"node_type\": \"metabolite\", \"x\": 225.0, \"y\": 2500.0, \"label_x\": 235.0, \"label_y\": 2530.0, \"bigg_id\": \"NADPH_c\", \"name\": \"NADPH_c\", \"node_is_primary\": false}, \"23\": {\"node_type\": \"metabolite\", \"x\": 337.5, \"y\": 2500.0, \"label_x\": 347.5, \"label_y\": 2530.0, \"bigg_id\": \"RIBULOSE_5P_c\", \"name\": \"RIBULOSE_5P_c\", \"node_is_primary\": false}, \"24\": {\"node_type\": \"multimarker\", \"x\": 225.0, \"y\": 2255.0}, \"25\": {\"node_type\": \"midmarker\", \"x\": 225.0, \"y\": 2275.0}, \"26\": {\"node_type\": \"multimarker\", \"x\": 225.0, \"y\": 2295.0}}, \"text_labels\": {}, \"canvas\": {\"x\": 0, \"y\": 0, \"width\": 450, \"height\": 2600}}]",
       "_loaded_model_json": null,
       "allow_building_duplicate_reactions": false,
       "and_method_in_gene_reaction_rule": "mean",
       "canvas_size_and_loc": null,
       "cofactors": [
        "atp",
        "adp",
        "nad",
        "nadh",
        "nadp",
        "nadph",
        "gtp",
        "gdp",
        "h",
        "coa",
        "ump",
        "h2o",
        "ppi"
       ],
       "disabled_buttons": [
        "Clear gene data",
        "Clear metabolite data"
       ],
       "embedded_css": null,
       "enable_editing": true,
       "enable_keys": false,
       "enable_keys_with_tooltip": true,
       "enable_search": true,
       "enable_tooltips": false,
       "full_screen_button": {
        "enable_editing": true,
        "enable_keys": true,
        "enable_tooltips": [
         "label"
        ],
        "menu": "all",
        "scroll_behavior": "pan"
       },
       "gene_data": null,
       "gene_font_size": 18,
       "height": 500,
       "hide_all_labels": false,
       "hide_secondary_metabolites": false,
       "highlight_missing": false,
       "identifiers_on_map": "bigg_id",
       "layout": "IPY_MODEL_a3898d3ab84e4d21b2bd11422e87128d",
       "marker_radius": 5,
       "menu": "all",
       "metabolite_compare_style": "log2_fold",
       "metabolite_data": null,
       "metabolite_no_data_color": "#ffffff",
       "metabolite_no_data_size": 10,
       "metabolite_scale": [
        {
         "color": "#fffaf0",
         "size": 20,
         "type": "min"
        },
        {
         "color": "#f1c470",
         "size": 30,
         "type": "median"
        },
        {
         "color": "#800000",
         "size": 40,
         "type": "max"
        }
       ],
       "metabolite_scale_preset": "WhYlRd",
       "metabolite_styles": [
        "color",
        "size",
        "text"
       ],
       "never_ask_before_quit": true,
       "primary_metabolite_radius": 20,
       "reaction_compare_style": "log2_fold",
       "reaction_data": {
        "G6PDH2r": -2,
        "GLCpts": -2,
        "GND": 1,
        "Other": 1000,
        "PGL": 0.4
       },
       "reaction_no_data_color": "#dcdcdc",
       "reaction_no_data_size": 8,
       "reaction_scale": [
        {
         "color": "rgb(191,215,230)",
         "type": "value",
         "value": 0.4
        },
        {
         "color": "rgb(163,210,240)",
         "type": "value",
         "value": 1
        },
        {
         "color": "rgb(135,205,250)",
         "type": "value",
         "value": 1000
        },
        {
         "color": "rgb(220,220,220)",
         "type": "value",
         "value": 0
        },
        {
         "color": "rgb(237,192,110)",
         "type": "value",
         "value": -2
        },
        {
         "color": "rgb(255,165,0)",
         "type": "value",
         "value": -2
        }
       ],
       "reaction_scale_preset": null,
       "reaction_styles": [
        "color",
        "text"
       ],
       "scroll_behavior": "none",
       "secondary_metabolite_radius": 10,
       "semantic_zoom": null,
       "show_gene_reaction_rules": false,
       "starting_reaction": null,
       "use_3d_transform": false,
       "zoom_to_element": null
      }
     },
     "dd7df30f39274f69a3ddbda99aa30e43": {
      "model_module": "@jupyter-widgets/base",
      "model_module_version": "1.2.0",
      "model_name": "LayoutModel",
      "state": {}
     },
     "ddf5fb6bce06470ba68e43a810b1f72d": {
      "model_module": "escher",
      "model_module_version": "1.7.3",
      "model_name": "EscherMapModel",
      "state": {
       "_loaded_map_json": "[{\"map_name\": \"\", \"map_id\": \"\", \"map_description\": \"\", \"homepage\": \"\", \"schema\": \"https://escher.github.io/escher/jsonschema/1-0-0#\"}, {\"reactions\": {\"0\": {\"name\": \"GLCpts\", \"bigg_id\": \"GLCpts\", \"reversibility\": true, \"label_x\": 265.0, \"label_y\": 325.0, \"gene_reaction_rule\": \"\", \"genes\": [], \"segments\": {\"0\": {\"from_node_id\": \"4\", \"to_node_id\": \"5\", \"b1\": null, \"b2\": null}, \"1\": {\"from_node_id\": \"6\", \"to_node_id\": \"5\", \"b1\": null, \"b2\": null}, \"2\": {\"from_node_id\": \"0\", \"to_node_id\": \"4\", \"b1\": null, \"b2\": null}, \"3\": {\"from_node_id\": \"1\", \"to_node_id\": \"4\", \"b1\": null, \"b2\": null}, \"4\": {\"from_node_id\": \"2\", \"to_node_id\": \"6\", \"b1\": null, \"b2\": null}, \"5\": {\"from_node_id\": \"3\", \"to_node_id\": \"6\", \"b1\": null, \"b2\": null}}, \"metabolites\": [{\"bigg_id\": \"Glucopyranose_e\", \"coefficient\": -1.0}, {\"bigg_id\": \"PHOSPHO_ENOL_PYRUVATE_c\", \"coefficient\": -1.0}, {\"bigg_id\": \"D_glucopyranose_6_phosphate_c\", \"coefficient\": 1.0}, {\"bigg_id\": \"PYRUVATE_c\", \"coefficient\": 1.0}]}, \"1\": {\"name\": \"G6PDH2r\", \"bigg_id\": \"G6PDH2r\", \"reversibility\": true, \"label_x\": 265.0, \"label_y\": 975.0, \"gene_reaction_rule\": \"\", \"genes\": [], \"segments\": {\"6\": {\"from_node_id\": \"11\", \"to_node_id\": \"12\", \"b1\": null, \"b2\": null}, \"7\": {\"from_node_id\": \"13\", \"to_node_id\": \"12\", \"b1\": null, \"b2\": null}, \"8\": {\"from_node_id\": \"2\", \"to_node_id\": \"11\", \"b1\": null, \"b2\": null}, \"9\": {\"from_node_id\": \"7\", \"to_node_id\": \"11\", \"b1\": null, \"b2\": null}, \"10\": {\"from_node_id\": \"8\", \"to_node_id\": \"13\", \"b1\": null, \"b2\": null}, \"11\": {\"from_node_id\": \"9\", \"to_node_id\": \"13\", \"b1\": null, \"b2\": null}, \"12\": {\"from_node_id\": \"10\", \"to_node_id\": \"13\", \"b1\": null, \"b2\": null}}, \"metabolites\": [{\"bigg_id\": \"D_glucopyranose_6_phosphate_c\", \"coefficient\": -1.0}, {\"bigg_id\": \"NADP_c\", \"coefficient\": -1.0}, {\"bigg_id\": \"D_6_P_GLUCONO_DELTA_LACTONE_c\", \"coefficient\": 1.0}, {\"bigg_id\": \"NADPH_c\", \"coefficient\": 1.0}, {\"bigg_id\": \"PROTON_c\", \"coefficient\": 1.0}]}, \"2\": {\"name\": \"PGL\", \"bigg_id\": \"PGL\", \"reversibility\": true, \"label_x\": 265.0, \"label_y\": 1625.0, \"gene_reaction_rule\": \"\", \"genes\": [], \"segments\": {\"13\": {\"from_node_id\": \"17\", \"to_node_id\": \"18\", \"b1\": null, \"b2\": null}, \"14\": {\"from_node_id\": \"19\", \"to_node_id\": \"18\", \"b1\": null, \"b2\": null}, \"15\": {\"from_node_id\": \"14\", \"to_node_id\": \"17\", \"b1\": null, \"b2\": null}, \"16\": {\"from_node_id\": \"8\", \"to_node_id\": \"17\", \"b1\": null, \"b2\": null}, \"17\": {\"from_node_id\": \"15\", \"to_node_id\": \"19\", \"b1\": null, \"b2\": null}, \"18\": {\"from_node_id\": \"16\", \"to_node_id\": \"19\", \"b1\": null, \"b2\": null}}, \"metabolites\": [{\"bigg_id\": \"CPD_15815_c\", \"coefficient\": -1.0}, {\"bigg_id\": \"D_6_P_GLUCONO_DELTA_LACTONE_c\", \"coefficient\": -1.0}, {\"bigg_id\": \"CPD_2961_c\", \"coefficient\": 1.0}, {\"bigg_id\": \"PROTON_c\", \"coefficient\": 1.0}]}, \"3\": {\"name\": \"GND\", \"bigg_id\": \"GND\", \"reversibility\": true, \"label_x\": 265.0, \"label_y\": 2275.0, \"gene_reaction_rule\": \"\", \"genes\": [], \"segments\": {\"19\": {\"from_node_id\": \"24\", \"to_node_id\": \"25\", \"b1\": null, \"b2\": null}, \"20\": {\"from_node_id\": \"26\", \"to_node_id\": \"25\", \"b1\": null, \"b2\": null}, \"21\": {\"from_node_id\": \"15\", \"to_node_id\": \"24\", \"b1\": null, \"b2\": null}, \"22\": {\"from_node_id\": \"20\", \"to_node_id\": \"24\", \"b1\": null, \"b2\": null}, \"23\": {\"from_node_id\": \"21\", \"to_node_id\": \"26\", \"b1\": null, \"b2\": null}, \"24\": {\"from_node_id\": \"22\", \"to_node_id\": \"26\", \"b1\": null, \"b2\": null}, \"25\": {\"from_node_id\": \"23\", \"to_node_id\": \"26\", \"b1\": null, \"b2\": null}}, \"metabolites\": [{\"bigg_id\": \"CPD_2961_c\", \"coefficient\": -1.0}, {\"bigg_id\": \"NADP_c\", \"coefficient\": -1.0}, {\"bigg_id\": \"CARBON_DIOXIDE_c\", \"coefficient\": 1.0}, {\"bigg_id\": \"NADPH_c\", \"coefficient\": 1.0}, {\"bigg_id\": \"RIBULOSE_5P_c\", \"coefficient\": 1.0}]}}, \"nodes\": {\"0\": {\"node_type\": \"metabolite\", \"x\": 150.0, \"y\": 30.0, \"label_x\": 160.0, \"label_y\": 20.0, \"bigg_id\": \"Glucopyranose_e\", \"name\": \"Glucopyranose_e\", \"node_is_primary\": false}, \"1\": {\"node_type\": \"metabolite\", \"x\": 300.0, \"y\": 30.0, \"label_x\": 310.0, \"label_y\": 20.0, \"bigg_id\": \"PHOSPHO_ENOL_PYRUVATE_c\", \"name\": \"PHOSPHO_ENOL_PYRUVATE_c\", \"node_is_primary\": false}, \"2\": {\"node_type\": \"metabolite\", \"x\": 150.0, \"y\": 550.0, \"label_x\": 160.0, \"label_y\": 580.0, \"bigg_id\": \"D_glucopyranose_6_phosphate_c\", \"name\": \"D_glucopyranose_6_phosphate_c\", \"node_is_primary\": false}, \"3\": {\"node_type\": \"metabolite\", \"x\": 300.0, \"y\": 550.0, \"label_x\": 310.0, \"label_y\": 580.0, \"bigg_id\": \"PYRUVATE_c\", \"name\": \"PYRUVATE_c\", \"node_is_primary\": false}, \"4\": {\"node_type\": \"multimarker\", \"x\": 225.0, \"y\": 305.0}, \"5\": {\"node_type\": \"midmarker\", \"x\": 225.0, \"y\": 325.0}, \"6\": {\"node_type\": \"multimarker\", \"x\": 225.0, \"y\": 345.0}, \"7\": {\"node_type\": \"metabolite\", \"x\": 300.0, \"y\": 680.0, \"label_x\": 310.0, \"label_y\": 670.0, \"bigg_id\": \"NADP_c\", \"name\": \"NADP_c\", \"node_is_primary\": false}, \"8\": {\"node_type\": \"metabolite\", \"x\": 112.5, \"y\": 1200.0, \"label_x\": 122.5, \"label_y\": 1230.0, \"bigg_id\": \"D_6_P_GLUCONO_DELTA_LACTONE_c\", \"name\": \"D_6_P_GLUCONO_DELTA_LACTONE_c\", \"node_is_primary\": false}, \"9\": {\"node_type\": \"metabolite\", \"x\": 225.0, \"y\": 1200.0, \"label_x\": 235.0, \"label_y\": 1230.0, \"bigg_id\": \"NADPH_c\", \"name\": \"NADPH_c\", \"node_is_primary\": false}, \"10\": {\"node_type\": \"metabolite\", \"x\": 337.5, \"y\": 1200.0, \"label_x\": 347.5, \"label_y\": 1230.0, \"bigg_id\": \"PROTON_c\", \"name\": \"PROTON_c\", \"node_is_primary\": false}, \"11\": {\"node_type\": \"multimarker\", \"x\": 225.0, \"y\": 955.0}, \"12\": {\"node_type\": \"midmarker\", \"x\": 225.0, \"y\": 975.0}, \"13\": {\"node_type\": \"multimarker\", \"x\": 225.0, \"y\": 995.0}, \"14\": {\"node_type\": \"metabolite\", \"x\": 150.0, \"y\": 1330.0, \"label_x\": 160.0, \"label_y\": 1320.0, \"bigg_id\": \"CPD_15815_c\", \"name\": \"CPD_15815_c\", \"node_is_primary\": false}, \"15\": {\"node_type\": \"metabolite\", \"x\": 150.0, \"y\": 1850.0, \"label_x\": 160.0, \"label_y\": 1880.0, \"bigg_id\": \"CPD_2961_c\", \"name\": \"CPD_2961_c\", \"node_is_primary\": false}, \"16\": {\"node_type\": \"metabolite\", \"x\": 300.0, \"y\": 1850.0, \"label_x\": 310.0, \"label_y\": 1880.0, \"bigg_id\": \"PROTON_c\", \"name\": \"PROTON_c\", \"node_is_primary\": false}, \"17\": {\"node_type\": \"multimarker\", \"x\": 225.0, \"y\": 1605.0}, \"18\": {\"node_type\": \"midmarker\", \"x\": 225.0, \"y\": 1625.0}, \"19\": {\"node_type\": \"multimarker\", \"x\": 225.0, \"y\": 1645.0}, \"20\": {\"node_type\": \"metabolite\", \"x\": 300.0, \"y\": 1980.0, \"label_x\": 310.0, \"label_y\": 1970.0, \"bigg_id\": \"NADP_c\", \"name\": \"NADP_c\", \"node_is_primary\": false}, \"21\": {\"node_type\": \"metabolite\", \"x\": 112.5, \"y\": 2500.0, \"label_x\": 122.5, \"label_y\": 2530.0, \"bigg_id\": \"CARBON_DIOXIDE_c\", \"name\": \"CARBON_DIOXIDE_c\", \"node_is_primary\": false}, \"22\": {\"node_type\": \"metabolite\", \"x\": 225.0, \"y\": 2500.0, \"label_x\": 235.0, \"label_y\": 2530.0, \"bigg_id\": \"NADPH_c\", \"name\": \"NADPH_c\", \"node_is_primary\": false}, \"23\": {\"node_type\": \"metabolite\", \"x\": 337.5, \"y\": 2500.0, \"label_x\": 347.5, \"label_y\": 2530.0, \"bigg_id\": \"RIBULOSE_5P_c\", \"name\": \"RIBULOSE_5P_c\", \"node_is_primary\": false}, \"24\": {\"node_type\": \"multimarker\", \"x\": 225.0, \"y\": 2255.0}, \"25\": {\"node_type\": \"midmarker\", \"x\": 225.0, \"y\": 2275.0}, \"26\": {\"node_type\": \"multimarker\", \"x\": 225.0, \"y\": 2295.0}}, \"text_labels\": {}, \"canvas\": {\"x\": 0, \"y\": 0, \"width\": 450, \"height\": 2600}}]",
       "_loaded_model_json": null,
       "allow_building_duplicate_reactions": false,
       "and_method_in_gene_reaction_rule": "mean",
       "canvas_size_and_loc": null,
       "cofactors": [
        "atp",
        "adp",
        "nad",
        "nadh",
        "nadp",
        "nadph",
        "gtp",
        "gdp",
        "h",
        "coa",
        "ump",
        "h2o",
        "ppi"
       ],
       "disabled_buttons": [
        "Clear gene data",
        "Clear metabolite data"
       ],
       "embedded_css": null,
       "enable_editing": true,
       "enable_keys": false,
       "enable_keys_with_tooltip": true,
       "enable_search": true,
       "enable_tooltips": false,
       "full_screen_button": {
        "enable_editing": true,
        "enable_keys": true,
        "enable_tooltips": [
         "label"
        ],
        "menu": "all",
        "scroll_behavior": "pan"
       },
       "gene_data": null,
       "gene_font_size": 18,
       "height": 500,
       "hide_all_labels": false,
       "hide_secondary_metabolites": false,
       "highlight_missing": false,
       "identifiers_on_map": "bigg_id",
       "layout": "IPY_MODEL_fd8d307702c44aa69d8274af2a426b0b",
       "marker_radius": 5,
       "menu": "all",
       "metabolite_compare_style": "log2_fold",
       "metabolite_data": null,
       "metabolite_no_data_color": "#ffffff",
       "metabolite_no_data_size": 10,
       "metabolite_scale": [
        {
         "color": "#fffaf0",
         "size": 20,
         "type": "min"
        },
        {
         "color": "#f1c470",
         "size": 30,
         "type": "median"
        },
        {
         "color": "#800000",
         "size": 40,
         "type": "max"
        }
       ],
       "metabolite_scale_preset": "WhYlRd",
       "metabolite_styles": [
        "color",
        "size",
        "text"
       ],
       "never_ask_before_quit": true,
       "primary_metabolite_radius": 20,
       "reaction_compare_style": "log2_fold",
       "reaction_data": {
        "G6PDH2r": -2,
        "GLCpts": -2,
        "GND": 1,
        "PGL": 0.4
       },
       "reaction_no_data_color": "#dcdcdc",
       "reaction_no_data_size": 8,
       "reaction_scale": [
        {
         "color": "rgb(220,220,220)",
         "type": "value",
         "value": 0.5
        },
        {
         "color": "rgb(220,220,220)",
         "type": "value",
         "value": 1
        },
        {
         "color": "rgb(220,220,220)",
         "type": "value",
         "value": 0
        },
        {
         "color": "rgb(220,220,220)",
         "type": "value",
         "value": -1
        },
        {
         "color": "rgb(220,220,220)",
         "type": "value",
         "value": -2
        }
       ],
       "reaction_scale_preset": null,
       "reaction_styles": [
        "color",
        "text"
       ],
       "scroll_behavior": "none",
       "secondary_metabolite_radius": 10,
       "semantic_zoom": null,
       "show_gene_reaction_rules": false,
       "starting_reaction": null,
       "use_3d_transform": false,
       "zoom_to_element": null
      }
     },
     "de3a6d4fe7584cbdad72b431514b4a4e": {
      "model_module": "@jupyter-widgets/base",
      "model_module_version": "1.2.0",
      "model_name": "LayoutModel",
      "state": {}
     },
     "de81c876b1124736831b06ce4b9ee745": {
      "model_module": "escher",
      "model_module_version": "1.7.3",
      "model_name": "EscherMapModel",
      "state": {
       "_loaded_map_json": "[{\"map_name\": \"\", \"map_id\": \"\", \"map_description\": \"\", \"homepage\": \"\", \"schema\": \"https://escher.github.io/escher/jsonschema/1-0-0#\"}, {\"reactions\": {\"0\": {\"name\": \"GLCpts\", \"bigg_id\": \"GLCpts\", \"reversibility\": true, \"label_x\": 265.0, \"label_y\": 325.0, \"gene_reaction_rule\": \"\", \"genes\": [], \"segments\": {\"0\": {\"from_node_id\": \"4\", \"to_node_id\": \"5\", \"b1\": null, \"b2\": null}, \"1\": {\"from_node_id\": \"6\", \"to_node_id\": \"5\", \"b1\": null, \"b2\": null}, \"2\": {\"from_node_id\": \"0\", \"to_node_id\": \"4\", \"b1\": null, \"b2\": null}, \"3\": {\"from_node_id\": \"1\", \"to_node_id\": \"4\", \"b1\": null, \"b2\": null}, \"4\": {\"from_node_id\": \"2\", \"to_node_id\": \"6\", \"b1\": null, \"b2\": null}, \"5\": {\"from_node_id\": \"3\", \"to_node_id\": \"6\", \"b1\": null, \"b2\": null}}, \"metabolites\": [{\"bigg_id\": \"Glucopyranose_e\", \"coefficient\": -1.0}, {\"bigg_id\": \"PHOSPHO_ENOL_PYRUVATE_c\", \"coefficient\": -1.0}, {\"bigg_id\": \"D_glucopyranose_6_phosphate_c\", \"coefficient\": 1.0}, {\"bigg_id\": \"PYRUVATE_c\", \"coefficient\": 1.0}]}, \"1\": {\"name\": \"G6PDH2r\", \"bigg_id\": \"G6PDH2r\", \"reversibility\": true, \"label_x\": 265.0, \"label_y\": 975.0, \"gene_reaction_rule\": \"\", \"genes\": [], \"segments\": {\"6\": {\"from_node_id\": \"11\", \"to_node_id\": \"12\", \"b1\": null, \"b2\": null}, \"7\": {\"from_node_id\": \"13\", \"to_node_id\": \"12\", \"b1\": null, \"b2\": null}, \"8\": {\"from_node_id\": \"2\", \"to_node_id\": \"11\", \"b1\": null, \"b2\": null}, \"9\": {\"from_node_id\": \"7\", \"to_node_id\": \"11\", \"b1\": null, \"b2\": null}, \"10\": {\"from_node_id\": \"8\", \"to_node_id\": \"13\", \"b1\": null, \"b2\": null}, \"11\": {\"from_node_id\": \"9\", \"to_node_id\": \"13\", \"b1\": null, \"b2\": null}, \"12\": {\"from_node_id\": \"10\", \"to_node_id\": \"13\", \"b1\": null, \"b2\": null}}, \"metabolites\": [{\"bigg_id\": \"D_glucopyranose_6_phosphate_c\", \"coefficient\": -1.0}, {\"bigg_id\": \"NADP_c\", \"coefficient\": -1.0}, {\"bigg_id\": \"D_6_P_GLUCONO_DELTA_LACTONE_c\", \"coefficient\": 1.0}, {\"bigg_id\": \"NADPH_c\", \"coefficient\": 1.0}, {\"bigg_id\": \"PROTON_c\", \"coefficient\": 1.0}]}, \"2\": {\"name\": \"PGL\", \"bigg_id\": \"PGL\", \"reversibility\": true, \"label_x\": 265.0, \"label_y\": 1625.0, \"gene_reaction_rule\": \"\", \"genes\": [], \"segments\": {\"13\": {\"from_node_id\": \"17\", \"to_node_id\": \"18\", \"b1\": null, \"b2\": null}, \"14\": {\"from_node_id\": \"19\", \"to_node_id\": \"18\", \"b1\": null, \"b2\": null}, \"15\": {\"from_node_id\": \"14\", \"to_node_id\": \"17\", \"b1\": null, \"b2\": null}, \"16\": {\"from_node_id\": \"8\", \"to_node_id\": \"17\", \"b1\": null, \"b2\": null}, \"17\": {\"from_node_id\": \"15\", \"to_node_id\": \"19\", \"b1\": null, \"b2\": null}, \"18\": {\"from_node_id\": \"16\", \"to_node_id\": \"19\", \"b1\": null, \"b2\": null}}, \"metabolites\": [{\"bigg_id\": \"CPD_15815_c\", \"coefficient\": -1.0}, {\"bigg_id\": \"D_6_P_GLUCONO_DELTA_LACTONE_c\", \"coefficient\": -1.0}, {\"bigg_id\": \"CPD_2961_c\", \"coefficient\": 1.0}, {\"bigg_id\": \"PROTON_c\", \"coefficient\": 1.0}]}, \"3\": {\"name\": \"GND\", \"bigg_id\": \"GND\", \"reversibility\": true, \"label_x\": 265.0, \"label_y\": 2275.0, \"gene_reaction_rule\": \"\", \"genes\": [], \"segments\": {\"19\": {\"from_node_id\": \"24\", \"to_node_id\": \"25\", \"b1\": null, \"b2\": null}, \"20\": {\"from_node_id\": \"26\", \"to_node_id\": \"25\", \"b1\": null, \"b2\": null}, \"21\": {\"from_node_id\": \"15\", \"to_node_id\": \"24\", \"b1\": null, \"b2\": null}, \"22\": {\"from_node_id\": \"20\", \"to_node_id\": \"24\", \"b1\": null, \"b2\": null}, \"23\": {\"from_node_id\": \"21\", \"to_node_id\": \"26\", \"b1\": null, \"b2\": null}, \"24\": {\"from_node_id\": \"22\", \"to_node_id\": \"26\", \"b1\": null, \"b2\": null}, \"25\": {\"from_node_id\": \"23\", \"to_node_id\": \"26\", \"b1\": null, \"b2\": null}}, \"metabolites\": [{\"bigg_id\": \"CPD_2961_c\", \"coefficient\": -1.0}, {\"bigg_id\": \"NADP_c\", \"coefficient\": -1.0}, {\"bigg_id\": \"CARBON_DIOXIDE_c\", \"coefficient\": 1.0}, {\"bigg_id\": \"NADPH_c\", \"coefficient\": 1.0}, {\"bigg_id\": \"RIBULOSE_5P_c\", \"coefficient\": 1.0}]}}, \"nodes\": {\"0\": {\"node_type\": \"metabolite\", \"x\": 150.0, \"y\": 30.0, \"label_x\": 160.0, \"label_y\": 20.0, \"bigg_id\": \"Glucopyranose_e\", \"name\": \"Glucopyranose_e\", \"node_is_primary\": false}, \"1\": {\"node_type\": \"metabolite\", \"x\": 300.0, \"y\": 30.0, \"label_x\": 310.0, \"label_y\": 20.0, \"bigg_id\": \"PHOSPHO_ENOL_PYRUVATE_c\", \"name\": \"PHOSPHO_ENOL_PYRUVATE_c\", \"node_is_primary\": false}, \"2\": {\"node_type\": \"metabolite\", \"x\": 150.0, \"y\": 550.0, \"label_x\": 160.0, \"label_y\": 580.0, \"bigg_id\": \"D_glucopyranose_6_phosphate_c\", \"name\": \"D_glucopyranose_6_phosphate_c\", \"node_is_primary\": false}, \"3\": {\"node_type\": \"metabolite\", \"x\": 300.0, \"y\": 550.0, \"label_x\": 310.0, \"label_y\": 580.0, \"bigg_id\": \"PYRUVATE_c\", \"name\": \"PYRUVATE_c\", \"node_is_primary\": false}, \"4\": {\"node_type\": \"multimarker\", \"x\": 225.0, \"y\": 305.0}, \"5\": {\"node_type\": \"midmarker\", \"x\": 225.0, \"y\": 325.0}, \"6\": {\"node_type\": \"multimarker\", \"x\": 225.0, \"y\": 345.0}, \"7\": {\"node_type\": \"metabolite\", \"x\": 300.0, \"y\": 680.0, \"label_x\": 310.0, \"label_y\": 670.0, \"bigg_id\": \"NADP_c\", \"name\": \"NADP_c\", \"node_is_primary\": false}, \"8\": {\"node_type\": \"metabolite\", \"x\": 112.5, \"y\": 1200.0, \"label_x\": 122.5, \"label_y\": 1230.0, \"bigg_id\": \"D_6_P_GLUCONO_DELTA_LACTONE_c\", \"name\": \"D_6_P_GLUCONO_DELTA_LACTONE_c\", \"node_is_primary\": false}, \"9\": {\"node_type\": \"metabolite\", \"x\": 225.0, \"y\": 1200.0, \"label_x\": 235.0, \"label_y\": 1230.0, \"bigg_id\": \"NADPH_c\", \"name\": \"NADPH_c\", \"node_is_primary\": false}, \"10\": {\"node_type\": \"metabolite\", \"x\": 337.5, \"y\": 1200.0, \"label_x\": 347.5, \"label_y\": 1230.0, \"bigg_id\": \"PROTON_c\", \"name\": \"PROTON_c\", \"node_is_primary\": false}, \"11\": {\"node_type\": \"multimarker\", \"x\": 225.0, \"y\": 955.0}, \"12\": {\"node_type\": \"midmarker\", \"x\": 225.0, \"y\": 975.0}, \"13\": {\"node_type\": \"multimarker\", \"x\": 225.0, \"y\": 995.0}, \"14\": {\"node_type\": \"metabolite\", \"x\": 150.0, \"y\": 1330.0, \"label_x\": 160.0, \"label_y\": 1320.0, \"bigg_id\": \"CPD_15815_c\", \"name\": \"CPD_15815_c\", \"node_is_primary\": false}, \"15\": {\"node_type\": \"metabolite\", \"x\": 150.0, \"y\": 1850.0, \"label_x\": 160.0, \"label_y\": 1880.0, \"bigg_id\": \"CPD_2961_c\", \"name\": \"CPD_2961_c\", \"node_is_primary\": false}, \"16\": {\"node_type\": \"metabolite\", \"x\": 300.0, \"y\": 1850.0, \"label_x\": 310.0, \"label_y\": 1880.0, \"bigg_id\": \"PROTON_c\", \"name\": \"PROTON_c\", \"node_is_primary\": false}, \"17\": {\"node_type\": \"multimarker\", \"x\": 225.0, \"y\": 1605.0}, \"18\": {\"node_type\": \"midmarker\", \"x\": 225.0, \"y\": 1625.0}, \"19\": {\"node_type\": \"multimarker\", \"x\": 225.0, \"y\": 1645.0}, \"20\": {\"node_type\": \"metabolite\", \"x\": 300.0, \"y\": 1980.0, \"label_x\": 310.0, \"label_y\": 1970.0, \"bigg_id\": \"NADP_c\", \"name\": \"NADP_c\", \"node_is_primary\": false}, \"21\": {\"node_type\": \"metabolite\", \"x\": 112.5, \"y\": 2500.0, \"label_x\": 122.5, \"label_y\": 2530.0, \"bigg_id\": \"CARBON_DIOXIDE_c\", \"name\": \"CARBON_DIOXIDE_c\", \"node_is_primary\": false}, \"22\": {\"node_type\": \"metabolite\", \"x\": 225.0, \"y\": 2500.0, \"label_x\": 235.0, \"label_y\": 2530.0, \"bigg_id\": \"NADPH_c\", \"name\": \"NADPH_c\", \"node_is_primary\": false}, \"23\": {\"node_type\": \"metabolite\", \"x\": 337.5, \"y\": 2500.0, \"label_x\": 347.5, \"label_y\": 2530.0, \"bigg_id\": \"RIBULOSE_5P_c\", \"name\": \"RIBULOSE_5P_c\", \"node_is_primary\": false}, \"24\": {\"node_type\": \"multimarker\", \"x\": 225.0, \"y\": 2255.0}, \"25\": {\"node_type\": \"midmarker\", \"x\": 225.0, \"y\": 2275.0}, \"26\": {\"node_type\": \"multimarker\", \"x\": 225.0, \"y\": 2295.0}}, \"text_labels\": {}, \"canvas\": {\"x\": 0, \"y\": 0, \"width\": 450, \"height\": 2600}}]",
       "_loaded_model_json": null,
       "allow_building_duplicate_reactions": false,
       "and_method_in_gene_reaction_rule": "mean",
       "canvas_size_and_loc": null,
       "cofactors": [
        "atp",
        "adp",
        "nad",
        "nadh",
        "nadp",
        "nadph",
        "gtp",
        "gdp",
        "h",
        "coa",
        "ump",
        "h2o",
        "ppi"
       ],
       "disabled_buttons": [
        "Clear gene data",
        "Clear metabolite data"
       ],
       "embedded_css": null,
       "enable_editing": true,
       "enable_keys": false,
       "enable_keys_with_tooltip": true,
       "enable_search": true,
       "enable_tooltips": false,
       "full_screen_button": {
        "enable_editing": true,
        "enable_keys": true,
        "enable_tooltips": [
         "label"
        ],
        "menu": "all",
        "scroll_behavior": "pan"
       },
       "gene_data": null,
       "gene_font_size": 18,
       "height": 500,
       "hide_all_labels": false,
       "hide_secondary_metabolites": false,
       "highlight_missing": false,
       "identifiers_on_map": "bigg_id",
       "layout": "IPY_MODEL_8960714826b7427e962b711ebe550314",
       "marker_radius": 5,
       "menu": "all",
       "metabolite_compare_style": "log2_fold",
       "metabolite_data": null,
       "metabolite_no_data_color": "#ffffff",
       "metabolite_no_data_size": 10,
       "metabolite_scale": [
        {
         "color": "#fffaf0",
         "size": 20,
         "type": "min"
        },
        {
         "color": "#f1c470",
         "size": 30,
         "type": "median"
        },
        {
         "color": "#800000",
         "size": 40,
         "type": "max"
        }
       ],
       "metabolite_scale_preset": "WhYlRd",
       "metabolite_styles": [
        "color",
        "size",
        "text"
       ],
       "never_ask_before_quit": true,
       "primary_metabolite_radius": 20,
       "reaction_compare_style": "log2_fold",
       "reaction_data": {
        "G6PDH2r": -2,
        "GLCpts": -2,
        "GND": 1,
        "PGL": 0.4
       },
       "reaction_no_data_color": "#dcdcdc",
       "reaction_no_data_size": 8,
       "reaction_scale": [
        {
         "color": "rgb(220,220,220)",
         "type": "value",
         "value": 0.5
        },
        {
         "color": "rgb(220,220,220)",
         "type": "value",
         "value": 1
        },
        {
         "color": "rgb(220,220,220)",
         "type": "value",
         "value": 0
        },
        {
         "color": "rgb(220,220,220)",
         "type": "value",
         "value": -1
        },
        {
         "color": "rgb(220,220,220)",
         "type": "value",
         "value": -2
        }
       ],
       "reaction_scale_preset": null,
       "reaction_styles": [
        "color",
        "text"
       ],
       "scroll_behavior": "none",
       "secondary_metabolite_radius": 10,
       "semantic_zoom": null,
       "show_gene_reaction_rules": false,
       "starting_reaction": null,
       "use_3d_transform": false,
       "zoom_to_element": null
      }
     },
     "fa5f38e144ef4ec7a6066adb2819354c": {
      "model_module": "escher",
      "model_module_version": "1.7.3",
      "model_name": "EscherMapModel",
      "state": {
       "_loaded_map_json": "[{\"map_name\": \"\", \"map_id\": \"\", \"map_description\": \"\", \"homepage\": \"\", \"schema\": \"https://escher.github.io/escher/jsonschema/1-0-0#\"}, {\"reactions\": {\"0\": {\"name\": \"GLCpts\", \"bigg_id\": \"GLCpts\", \"reversibility\": true, \"label_x\": 265.0, \"label_y\": 325.0, \"gene_reaction_rule\": \"\", \"genes\": [], \"segments\": {\"0\": {\"from_node_id\": \"4\", \"to_node_id\": \"5\", \"b1\": null, \"b2\": null}, \"1\": {\"from_node_id\": \"6\", \"to_node_id\": \"5\", \"b1\": null, \"b2\": null}, \"2\": {\"from_node_id\": \"0\", \"to_node_id\": \"4\", \"b1\": null, \"b2\": null}, \"3\": {\"from_node_id\": \"1\", \"to_node_id\": \"4\", \"b1\": null, \"b2\": null}, \"4\": {\"from_node_id\": \"2\", \"to_node_id\": \"6\", \"b1\": null, \"b2\": null}, \"5\": {\"from_node_id\": \"3\", \"to_node_id\": \"6\", \"b1\": null, \"b2\": null}}, \"metabolites\": [{\"bigg_id\": \"Glucopyranose_e\", \"coefficient\": -1.0}, {\"bigg_id\": \"PHOSPHO_ENOL_PYRUVATE_c\", \"coefficient\": -1.0}, {\"bigg_id\": \"D_glucopyranose_6_phosphate_c\", \"coefficient\": 1.0}, {\"bigg_id\": \"PYRUVATE_c\", \"coefficient\": 1.0}]}, \"1\": {\"name\": \"G6PDH2r\", \"bigg_id\": \"G6PDH2r\", \"reversibility\": true, \"label_x\": 265.0, \"label_y\": 975.0, \"gene_reaction_rule\": \"\", \"genes\": [], \"segments\": {\"6\": {\"from_node_id\": \"11\", \"to_node_id\": \"12\", \"b1\": null, \"b2\": null}, \"7\": {\"from_node_id\": \"13\", \"to_node_id\": \"12\", \"b1\": null, \"b2\": null}, \"8\": {\"from_node_id\": \"2\", \"to_node_id\": \"11\", \"b1\": null, \"b2\": null}, \"9\": {\"from_node_id\": \"7\", \"to_node_id\": \"11\", \"b1\": null, \"b2\": null}, \"10\": {\"from_node_id\": \"8\", \"to_node_id\": \"13\", \"b1\": null, \"b2\": null}, \"11\": {\"from_node_id\": \"9\", \"to_node_id\": \"13\", \"b1\": null, \"b2\": null}, \"12\": {\"from_node_id\": \"10\", \"to_node_id\": \"13\", \"b1\": null, \"b2\": null}}, \"metabolites\": [{\"bigg_id\": \"D_glucopyranose_6_phosphate_c\", \"coefficient\": -1.0}, {\"bigg_id\": \"NADP_c\", \"coefficient\": -1.0}, {\"bigg_id\": \"D_6_P_GLUCONO_DELTA_LACTONE_c\", \"coefficient\": 1.0}, {\"bigg_id\": \"NADPH_c\", \"coefficient\": 1.0}, {\"bigg_id\": \"PROTON_c\", \"coefficient\": 1.0}]}, \"2\": {\"name\": \"PGL\", \"bigg_id\": \"PGL\", \"reversibility\": true, \"label_x\": 265.0, \"label_y\": 1625.0, \"gene_reaction_rule\": \"\", \"genes\": [], \"segments\": {\"13\": {\"from_node_id\": \"17\", \"to_node_id\": \"18\", \"b1\": null, \"b2\": null}, \"14\": {\"from_node_id\": \"19\", \"to_node_id\": \"18\", \"b1\": null, \"b2\": null}, \"15\": {\"from_node_id\": \"14\", \"to_node_id\": \"17\", \"b1\": null, \"b2\": null}, \"16\": {\"from_node_id\": \"8\", \"to_node_id\": \"17\", \"b1\": null, \"b2\": null}, \"17\": {\"from_node_id\": \"15\", \"to_node_id\": \"19\", \"b1\": null, \"b2\": null}, \"18\": {\"from_node_id\": \"16\", \"to_node_id\": \"19\", \"b1\": null, \"b2\": null}}, \"metabolites\": [{\"bigg_id\": \"CPD_15815_c\", \"coefficient\": -1.0}, {\"bigg_id\": \"D_6_P_GLUCONO_DELTA_LACTONE_c\", \"coefficient\": -1.0}, {\"bigg_id\": \"CPD_2961_c\", \"coefficient\": 1.0}, {\"bigg_id\": \"PROTON_c\", \"coefficient\": 1.0}]}, \"3\": {\"name\": \"GND\", \"bigg_id\": \"GND\", \"reversibility\": true, \"label_x\": 265.0, \"label_y\": 2275.0, \"gene_reaction_rule\": \"\", \"genes\": [], \"segments\": {\"19\": {\"from_node_id\": \"24\", \"to_node_id\": \"25\", \"b1\": null, \"b2\": null}, \"20\": {\"from_node_id\": \"26\", \"to_node_id\": \"25\", \"b1\": null, \"b2\": null}, \"21\": {\"from_node_id\": \"15\", \"to_node_id\": \"24\", \"b1\": null, \"b2\": null}, \"22\": {\"from_node_id\": \"20\", \"to_node_id\": \"24\", \"b1\": null, \"b2\": null}, \"23\": {\"from_node_id\": \"21\", \"to_node_id\": \"26\", \"b1\": null, \"b2\": null}, \"24\": {\"from_node_id\": \"22\", \"to_node_id\": \"26\", \"b1\": null, \"b2\": null}, \"25\": {\"from_node_id\": \"23\", \"to_node_id\": \"26\", \"b1\": null, \"b2\": null}}, \"metabolites\": [{\"bigg_id\": \"CPD_2961_c\", \"coefficient\": -1.0}, {\"bigg_id\": \"NADP_c\", \"coefficient\": -1.0}, {\"bigg_id\": \"CARBON_DIOXIDE_c\", \"coefficient\": 1.0}, {\"bigg_id\": \"NADPH_c\", \"coefficient\": 1.0}, {\"bigg_id\": \"RIBULOSE_5P_c\", \"coefficient\": 1.0}]}}, \"nodes\": {\"0\": {\"node_type\": \"metabolite\", \"x\": 150.0, \"y\": 30.0, \"label_x\": 160.0, \"label_y\": 20.0, \"bigg_id\": \"Glucopyranose_e\", \"name\": \"Glucopyranose_e\", \"node_is_primary\": false}, \"1\": {\"node_type\": \"metabolite\", \"x\": 300.0, \"y\": 30.0, \"label_x\": 310.0, \"label_y\": 20.0, \"bigg_id\": \"PHOSPHO_ENOL_PYRUVATE_c\", \"name\": \"PHOSPHO_ENOL_PYRUVATE_c\", \"node_is_primary\": false}, \"2\": {\"node_type\": \"metabolite\", \"x\": 150.0, \"y\": 550.0, \"label_x\": 160.0, \"label_y\": 580.0, \"bigg_id\": \"D_glucopyranose_6_phosphate_c\", \"name\": \"D_glucopyranose_6_phosphate_c\", \"node_is_primary\": false}, \"3\": {\"node_type\": \"metabolite\", \"x\": 300.0, \"y\": 550.0, \"label_x\": 310.0, \"label_y\": 580.0, \"bigg_id\": \"PYRUVATE_c\", \"name\": \"PYRUVATE_c\", \"node_is_primary\": false}, \"4\": {\"node_type\": \"multimarker\", \"x\": 225.0, \"y\": 305.0}, \"5\": {\"node_type\": \"midmarker\", \"x\": 225.0, \"y\": 325.0}, \"6\": {\"node_type\": \"multimarker\", \"x\": 225.0, \"y\": 345.0}, \"7\": {\"node_type\": \"metabolite\", \"x\": 300.0, \"y\": 680.0, \"label_x\": 310.0, \"label_y\": 670.0, \"bigg_id\": \"NADP_c\", \"name\": \"NADP_c\", \"node_is_primary\": false}, \"8\": {\"node_type\": \"metabolite\", \"x\": 112.5, \"y\": 1200.0, \"label_x\": 122.5, \"label_y\": 1230.0, \"bigg_id\": \"D_6_P_GLUCONO_DELTA_LACTONE_c\", \"name\": \"D_6_P_GLUCONO_DELTA_LACTONE_c\", \"node_is_primary\": false}, \"9\": {\"node_type\": \"metabolite\", \"x\": 225.0, \"y\": 1200.0, \"label_x\": 235.0, \"label_y\": 1230.0, \"bigg_id\": \"NADPH_c\", \"name\": \"NADPH_c\", \"node_is_primary\": false}, \"10\": {\"node_type\": \"metabolite\", \"x\": 337.5, \"y\": 1200.0, \"label_x\": 347.5, \"label_y\": 1230.0, \"bigg_id\": \"PROTON_c\", \"name\": \"PROTON_c\", \"node_is_primary\": false}, \"11\": {\"node_type\": \"multimarker\", \"x\": 225.0, \"y\": 955.0}, \"12\": {\"node_type\": \"midmarker\", \"x\": 225.0, \"y\": 975.0}, \"13\": {\"node_type\": \"multimarker\", \"x\": 225.0, \"y\": 995.0}, \"14\": {\"node_type\": \"metabolite\", \"x\": 150.0, \"y\": 1330.0, \"label_x\": 160.0, \"label_y\": 1320.0, \"bigg_id\": \"CPD_15815_c\", \"name\": \"CPD_15815_c\", \"node_is_primary\": false}, \"15\": {\"node_type\": \"metabolite\", \"x\": 150.0, \"y\": 1850.0, \"label_x\": 160.0, \"label_y\": 1880.0, \"bigg_id\": \"CPD_2961_c\", \"name\": \"CPD_2961_c\", \"node_is_primary\": false}, \"16\": {\"node_type\": \"metabolite\", \"x\": 300.0, \"y\": 1850.0, \"label_x\": 310.0, \"label_y\": 1880.0, \"bigg_id\": \"PROTON_c\", \"name\": \"PROTON_c\", \"node_is_primary\": false}, \"17\": {\"node_type\": \"multimarker\", \"x\": 225.0, \"y\": 1605.0}, \"18\": {\"node_type\": \"midmarker\", \"x\": 225.0, \"y\": 1625.0}, \"19\": {\"node_type\": \"multimarker\", \"x\": 225.0, \"y\": 1645.0}, \"20\": {\"node_type\": \"metabolite\", \"x\": 300.0, \"y\": 1980.0, \"label_x\": 310.0, \"label_y\": 1970.0, \"bigg_id\": \"NADP_c\", \"name\": \"NADP_c\", \"node_is_primary\": false}, \"21\": {\"node_type\": \"metabolite\", \"x\": 112.5, \"y\": 2500.0, \"label_x\": 122.5, \"label_y\": 2530.0, \"bigg_id\": \"CARBON_DIOXIDE_c\", \"name\": \"CARBON_DIOXIDE_c\", \"node_is_primary\": false}, \"22\": {\"node_type\": \"metabolite\", \"x\": 225.0, \"y\": 2500.0, \"label_x\": 235.0, \"label_y\": 2530.0, \"bigg_id\": \"NADPH_c\", \"name\": \"NADPH_c\", \"node_is_primary\": false}, \"23\": {\"node_type\": \"metabolite\", \"x\": 337.5, \"y\": 2500.0, \"label_x\": 347.5, \"label_y\": 2530.0, \"bigg_id\": \"RIBULOSE_5P_c\", \"name\": \"RIBULOSE_5P_c\", \"node_is_primary\": false}, \"24\": {\"node_type\": \"multimarker\", \"x\": 225.0, \"y\": 2255.0}, \"25\": {\"node_type\": \"midmarker\", \"x\": 225.0, \"y\": 2275.0}, \"26\": {\"node_type\": \"multimarker\", \"x\": 225.0, \"y\": 2295.0}}, \"text_labels\": {}, \"canvas\": {\"x\": 0, \"y\": 0, \"width\": 450, \"height\": 2600}}]",
       "_loaded_model_json": null,
       "allow_building_duplicate_reactions": false,
       "and_method_in_gene_reaction_rule": "mean",
       "canvas_size_and_loc": null,
       "cofactors": [
        "atp",
        "adp",
        "nad",
        "nadh",
        "nadp",
        "nadph",
        "gtp",
        "gdp",
        "h",
        "coa",
        "ump",
        "h2o",
        "ppi"
       ],
       "disabled_buttons": [
        "Clear gene data",
        "Clear metabolite data"
       ],
       "embedded_css": null,
       "enable_editing": true,
       "enable_keys": false,
       "enable_keys_with_tooltip": true,
       "enable_search": true,
       "enable_tooltips": false,
       "full_screen_button": {
        "enable_editing": true,
        "enable_keys": true,
        "enable_tooltips": [
         "label"
        ],
        "menu": "all",
        "scroll_behavior": "pan"
       },
       "gene_data": null,
       "gene_font_size": 18,
       "height": 500,
       "hide_all_labels": false,
       "hide_secondary_metabolites": false,
       "highlight_missing": false,
       "identifiers_on_map": "bigg_id",
       "layout": "IPY_MODEL_dd7df30f39274f69a3ddbda99aa30e43",
       "marker_radius": 5,
       "menu": "all",
       "metabolite_compare_style": "log2_fold",
       "metabolite_data": null,
       "metabolite_no_data_color": "#ffffff",
       "metabolite_no_data_size": 10,
       "metabolite_scale": [
        {
         "color": "#fffaf0",
         "size": 20,
         "type": "min"
        },
        {
         "color": "#f1c470",
         "size": 30,
         "type": "median"
        },
        {
         "color": "#800000",
         "size": 40,
         "type": "max"
        }
       ],
       "metabolite_scale_preset": "WhYlRd",
       "metabolite_styles": [
        "color",
        "size",
        "text"
       ],
       "never_ask_before_quit": true,
       "primary_metabolite_radius": 20,
       "reaction_compare_style": "log2_fold",
       "reaction_data": {
        "G6PDH2r": -2,
        "GLCpts": -2,
        "GND": 1,
        "PGL": 0.4
       },
       "reaction_no_data_color": "#dcdcdc",
       "reaction_no_data_size": 8,
       "reaction_scale": [
        {
         "color": "rgb(110,174,110)",
         "type": "value",
         "value": 0.5
        },
        {
         "color": "rgb(0,128,0)",
         "type": "value",
         "value": 1
        },
        {
         "color": "rgb(220,220,220)",
         "type": "value",
         "value": 0
        },
        {
         "color": "rgb(237,110,110)",
         "type": "value",
         "value": -1
        },
        {
         "color": "rgb(255,0,0)",
         "type": "value",
         "value": -2
        }
       ],
       "reaction_scale_preset": null,
       "reaction_styles": [
        "color",
        "text"
       ],
       "scroll_behavior": "none",
       "secondary_metabolite_radius": 10,
       "semantic_zoom": null,
       "show_gene_reaction_rules": false,
       "starting_reaction": null,
       "use_3d_transform": false,
       "zoom_to_element": null
      }
     },
     "fd8b3c7a24784bddbc00b9161ffa0f71": {
      "model_module": "@jupyter-widgets/base",
      "model_module_version": "1.2.0",
      "model_name": "LayoutModel",
      "state": {}
     },
     "fd8d307702c44aa69d8274af2a426b0b": {
      "model_module": "@jupyter-widgets/base",
      "model_module_version": "1.2.0",
      "model_name": "LayoutModel",
      "state": {}
     }
    },
    "version_major": 2,
    "version_minor": 0
   }
  }
 },
 "nbformat": 4,
 "nbformat_minor": 1
}
