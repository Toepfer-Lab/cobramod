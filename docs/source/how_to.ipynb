{
 "cells": [
  {
   "cell_type": "markdown",
   "metadata": {
    "id": "XV2pICiM740l"
   },
   "source": [
    "# Functions"
   ]
  },
  {
   "cell_type": "code",
   "execution_count": 1,
   "metadata": {
    "colab": {
     "base_uri": "https://localhost:8080/"
    },
    "id": "jObtNBXPw30t",
    "outputId": "00ae3942-af4a-4e90-f0f7-6d3626269813"
   },
   "outputs": [
    {
     "name": "stdout",
     "output_type": "stream",
     "text": [
      "CobraMod version: 1.2.0\n",
      "COBRApy version: 0.29.0\n"
     ]
    }
   ],
   "source": [
    "from IPython.display import display\n",
    "from cobramod import __version__\n",
    "from cobra import __version__ as cobra_version\n",
    "print(f'CobraMod version: {__version__}')\n",
    "print(f'COBRApy version: {cobra_version}')\n",
    "# From Escher:\n",
    "# This option turns off the warning message if you leave or refresh this page\n",
    "import escher\n",
    "escher.rc['never_ask_before_quit'] = True"
   ]
  },
  {
   "cell_type": "markdown",
   "metadata": {
    "id": "tjphNJOQF7B3"
   },
   "source": [
    "## Retrieving metabolic pathway information\n",
    "\n",
    "CobraMod can retrieve metabolic pathway information (metabolites, reactions or pathways) from various databases by using database-specific identifiers. It supports all databases from the [BioCyc collection](\n",
    "https://biocyc.org/\n",
    "), [Plant Metabolic Network (PMN)](\n",
    "https://pmn.plantcyc.org/\n",
    "), \n",
    "the [KEGG database](\n",
    "https://www.genome.jp/kegg/\n",
    ") and the [BiGG Models repository](\n",
    "http://bigg.ucsd.edu/\n",
    "). Call `cobramod.retrieval.Databases` to see all supported databases."
   ]
  },
  {
   "cell_type": "code",
   "execution_count": 2,
   "metadata": {
    "colab": {
     "base_uri": "https://localhost:8080/",
     "height": 339
    },
    "id": "FKwfLSf07408",
    "outputId": "855b34ca-28f5-4a34-bf20-67af248b3155"
   },
   "outputs": [
    {
     "data": {
      "text/html": [
       "\n",
       "<p>CobraMod supports BioCyc, the Plant Metabolic Network (PMN), KEGG and BiGG Models repository. BioCyc includes around 18.000 sub-databases. A complete list for BioCyc can be found at: 'https://biocyc.org/biocyc-pgdb-list.shtml'.<br\n",
       "    />The database-specific identifiers can be found in the URL of the respective data.CobraMod uses abbreviations to represent the databases or sub-databases:\n",
       "</p>\n",
       "<table style=\"width: 50%; border-collapse: collapse;\" border=\"1\">\n",
       "    <tbody>\n",
       "        <tr>\n",
       "            <td style=\"width:\n",
       "        50%;\"><strong>Abbreviation</strong></td>\n",
       "            <td style=\"width:\n",
       "            50%;\"><strong>Database name</strong></td>\n",
       "        </tr>\n",
       "        <tr>\n",
       "            <td style=\"width: 50%;\">META</td>\n",
       "            <td style=\"width: 50%;\">Biocyc, subdatabase MetaCyc</td>\n",
       "        </tr>\n",
       "        <tr>\n",
       "            <td style=\"width:\n",
       "                50%;\">ARA</td>\n",
       "            <td style=\"width: 50%;\">Biocyc, subdatabase AraCyc\n",
       "            </td>\n",
       "        </tr>\n",
       "        <tr>\n",
       "            <td style=\"width: 50%;\">KEGG</td>\n",
       "            <td style=\"width: 50%;\">Kyoto encyclopedia of Genes and Genomes\n",
       "            </td>\n",
       "        </tr>\n",
       "        <tr>\n",
       "            <td style=\"width: 50%;\">BIGG</td>\n",
       "            <td style=\"width: 50%;\">BiGG Models</td>\n",
       "        </tr>\n",
       "        <tr>\n",
       "            <td style=\"width: 50%;\">PMN:META</td>\n",
       "            <td style=\"width:\n",
       "                    50%;\">PlantCyc, subdatabase META</td>\n",
       "        </tr>\n",
       "        <tr>\n",
       "            <td style=\"width: 50%;\">PMN:ARA</td>\n",
       "            <td style=\"width:\n",
       "                        50%;\">PlantCyc, subdatabase ARA</td>\n",
       "        </tr>\n",
       "    </tbody>\n",
       "</table>\n",
       "<p>This applies for all subdatabases from BioCyc and Plantcyc\n",
       "</p>\n",
       "        "
      ],
      "text/plain": [
       "CobraMod supports BioCyc, the Plant Metabolic Network (PMN), KEGG and BiGG Models repository. BioCyc includes around 18.000 sub-databases. A complete list for BioCyc can be found at: 'https://biocyc.org/biocyc-pgdb-list.shtml'.\n",
       "The database-specific identifiers can be found in the URL of the respective data.CobraMod uses abbreviations to represent the databases or sub-databases:\n",
       "Abbreviation   Database Name\n",
       "META           Biocyc, subdatabase MetaCyc\n",
       "ARA            Biocyc, subdatabase AraCyc\n",
       "\n",
       "KEGG           Kyoto encyclopedia of Genes and Genomes\n",
       "BIGG           BiGG Models\n",
       "\n",
       "PMN:META       Plantcyc, subdatabase META\n",
       "PMN:ARA        Plantcyc, subdatabase ARA\n",
       "This applies for all subdatabases from SolCyc, BioCyc and Plantcyc"
      ]
     },
     "execution_count": 2,
     "metadata": {},
     "output_type": "execute_result"
    }
   ],
   "source": [
    "from cobramod.retrieval import Databases\n",
    "                                         \n",
    "Databases()"
   ]
  },
  {
   "cell_type": "markdown",
   "metadata": {
    "id": "t3ADoeWMGqCV"
   },
   "source": [
    "\n",
    "\n",
    "The user can download the metabolic pathway information using the\n",
    "`cobramod.get_data` function. In this example we download information from the BioCyc sub-database YEAST.\n",
    "\n",
    "\n",
    "**NOTE**: In order to retrieved data from Metacyc. An account is required. Create a file called `credentials.txt` and add in the first line the username and the password in the second line\n",
    "\n",
    "    my_username\n",
    "    secret_password\n",
    "    \n",
    "Only after setting the credentials, CobraMod is able to download data from BioCyc"
   ]
  },
  {
   "cell_type": "code",
   "execution_count": 3,
   "metadata": {
    "id": "RFawmPqO740o"
   },
   "outputs": [],
   "source": [
    "from cobramod import get_data\n",
    "from pathlib import Path\n",
    "\n",
    "dir_data = Path.cwd().resolve().joinpath(\"data\")\n",
    "identifiers = [\n",
    "    \"CPD-12575\",\n",
    "    \"BETA-D-FRUCTOSE\",\n",
    "    \"SUCROSE\",\n",
    "    \"UDP\",\n",
    "]\n",
    "\n",
    "for metabolite in identifiers:\n",
    "    get_data(\n",
    "        directory=dir_data,\n",
    "        identifier=metabolite,\n",
    "        database=\"YEAST\"\n",
    "    )"
   ]
  },
  {
   "cell_type": "markdown",
   "metadata": {
    "id": "GL14MNJG740q"
   },
   "source": [
    "The first argument in [cobramod.get_data()](\n",
    "module/cobramod/index.html#cobramod.get_data) is the system path where CobraMod stores the metabolic pathway information. CobraMod uses [pathlib](\n",
    "https://docs.python.org/3/library/pathlib.html#pathlib.Path) for path  representation. The second argument is the data identifier used in the respective database. In this example we retrieve data from the BioCyc sub-database `YEAST`. The last argument is the abbreviation of the database. \n",
    "\n",
    "CobraMod creates a directory with the name of the database and stores the metabolic pathway information in it:\n",
    "\n",
    "```\n",
    "data\n",
    "`-- YEAST\n",
    "    |-- CPD-12575.xml\n",
    "    |-- BETA-D-FRUCTOSE.xml\n",
    "    |-- SUCROSE.xml\n",
    "    |-- UDP.xml\n",
    "```"
   ]
  },
  {
   "cell_type": "markdown",
   "metadata": {
    "id": "CjC8UWKk740t"
   },
   "source": [
    "## Converting stored-data into COBRApy objects\n",
    "\n",
    "CobraMod can convert metabolic pathway information (metabolites and reactions) into COBRApy objects ([cobra.Reaction](\n",
    "  https://cobrapy.readthedocs.io/en/latest/autoapi/cobra/index.html#cobra.Reaction\n",
    ") and [cobra.Metabolite](\n",
    "  https://cobrapy.readthedocs.io/en/latest/autoapi/cobra/index.html#cobra.Metabolite\n",
    ")). It can thus be seamlessly integrated with a COBRApy workflow.\n",
    "\n",
    "The function [cobramod.create_object()](\n",
    "module/cobramod/index.html#cobramod.create_object) creates COBRApy objects from metabolic pathway data retrieved by [cobramod.get_data()](\n",
    "module/cobramod/index.html#cobramod.get_data). If no pathway information was downloaded [cobramod.create_object()]( module/cobramod/index.html#cobramod.create_object) retrieves it automatically.\n",
    "\n",
    "In this example, we convert the metabolite *2-Oxoglutarate* with the\n",
    "KEGG identifier [C00026](\n",
    "https://www.genome.jp/dbget-bin/www_bget?C00026) into a COBRApy object.\n",
    "CobraMod automatically identifies the KEGG entry as a metabolite and converts it into the corresponding COBRApy metabolite.\n",
    "\n",
    "The first argument is the database-specific identifier (`C00026`) followed by\n",
    "the database abbreviation (`KEGG`). The third argument is the path \n",
    "representation for the directory of the metabolic pathway information. CobraMod\n",
    "downloads the data into this directory and utilize it instead of downloading it again. The last argument is the compartment of the reaction (`c` for cytosol)."
   ]
  },
  {
   "cell_type": "code",
   "execution_count": 4,
   "metadata": {
    "colab": {
     "base_uri": "https://localhost:8080/",
     "height": 168
    },
    "id": "s7osopQo740t",
    "outputId": "ee0d87e1-6fca-4cc5-d9fb-709851702f45"
   },
   "outputs": [
    {
     "name": "stdout",
     "output_type": "stream",
     "text": [
      "<class 'cobra.core.metabolite.Metabolite'>\n"
     ]
    },
    {
     "data": {
      "text/html": [
       "\n",
       "        <table>\n",
       "            <tr>\n",
       "                <td><strong>Metabolite identifier</strong></td><td>C00026_c</td>\n",
       "            </tr><tr>\n",
       "                <td><strong>Name</strong></td><td>alpha-Ketoglutaric acid</td>\n",
       "            </tr><tr>\n",
       "                <td><strong>Memory address</strong></td>\n",
       "                <td>0x7afc8d2703e0</td>\n",
       "            </tr><tr>\n",
       "                <td><strong>Formula</strong></td><td>C5H6O5</td>\n",
       "            </tr><tr>\n",
       "                <td><strong>Compartment</strong></td><td>c</td>\n",
       "            </tr><tr>\n",
       "                <td><strong>In 0 reaction(s)</strong></td><td>\n",
       "                    \n",
       "                    </td>\n",
       "            </tr>\n",
       "        </table>"
      ],
      "text/plain": [
       "<Metabolite C00026_c at 0x7afc8d2703e0>"
      ]
     },
     "execution_count": 4,
     "metadata": {},
     "output_type": "execute_result"
    }
   ],
   "source": [
    "from cobramod import create_object\n",
    "from pathlib import Path\n",
    "\n",
    "# Path for the metabolic pathway information directory                                                                        \n",
    "dir_data = Path.cwd().resolve().joinpath(\"data\")\n",
    "\n",
    "new_object = create_object(\n",
    "    identifier=\"C00026\",\n",
    "    database=\"KEGG\",\n",
    "    directory=dir_data,\n",
    "    compartment=\"c\"\n",
    ")\n",
    "                                             \n",
    "print(type(new_object))\n",
    "new_object"
   ]
  },
  {
   "cell_type": "markdown",
   "metadata": {
    "id": "N-0zvhHTJfAz"
   },
   "source": [
    "In the second example, we convert the reaction [RXN-11502](\n",
    "https://pmn.plantcyc.org/CORN/NEW-IMAGE?object=RXN-11502) from the PMN sub-database CORN into a COBRApy reaction. The\n",
    "first argument is the database-specific identifier (`RXN-11502`) followed by\n",
    "the database identifier (`pmn:CORN`). CobraMod automatically takes \n",
    "reversibility and gene information from the database entry and adds it to the reaction object."
   ]
  },
  {
   "cell_type": "code",
   "execution_count": 5,
   "metadata": {
    "colab": {
     "base_uri": "https://localhost:8080/",
     "height": 285
    },
    "id": "60lBmpkt8qtF",
    "outputId": "9f44a82d-450b-4f7c-b45c-5fc64a0c975c"
   },
   "outputs": [
    {
     "name": "stderr",
     "output_type": "stream",
     "text": [
      "\u001b[33mGene-reaction rule for reaction \"RXN-11501\" set to \"OR\". Please modify it if necessary.\u001b[0m\n"
     ]
    },
    {
     "name": "stdout",
     "output_type": "stream",
     "text": [
      "<class 'cobra.core.reaction.Reaction'>\n"
     ]
    },
    {
     "data": {
      "text/html": [
       "\n",
       "        <table>\n",
       "            <tr>\n",
       "                <td><strong>Reaction identifier</strong></td><td>RXN_11501_c</td>\n",
       "            </tr><tr>\n",
       "                <td><strong>Name</strong></td><td>alkaline &alpha;- galactosidase</td>\n",
       "            </tr><tr>\n",
       "                <td><strong>Memory address</strong></td>\n",
       "                <td>0x7afcc0510c80</td>\n",
       "            </tr><tr>\n",
       "                <td><strong>Stoichiometry</strong></td>\n",
       "                <td>\n",
       "                    <p style='text-align:right'>CPD_170_c + WATER_c --> ALPHA_D_GALACTOSE_c + CPD_1099_c</p>\n",
       "                    <p style='text-align:right'>stachyose + H2O --> alpha-D-galactopyranose + raffinose</p>\n",
       "                </td>\n",
       "            </tr><tr>\n",
       "                <td><strong>GPR</strong></td><td>ZM00001EB033890 or ZM00001EB033880 or ZM00001EB033870</td>\n",
       "            </tr><tr>\n",
       "                <td><strong>Lower bound</strong></td><td>0</td>\n",
       "            </tr><tr>\n",
       "                <td><strong>Upper bound</strong></td><td>1000</td>\n",
       "            </tr>\n",
       "        </table>\n",
       "        "
      ],
      "text/plain": [
       "<Reaction RXN_11501_c at 0x7afcc0510c80>"
      ]
     },
     "metadata": {},
     "output_type": "display_data"
    },
    {
     "data": {
      "text/plain": [
       "frozenset({<Gene ZM00001EB033870 at 0x7afc8ce13350>,\n",
       "           <Gene ZM00001EB033880 at 0x7afcc0511670>,\n",
       "           <Gene ZM00001EB033890 at 0x7afca7531e50>})"
      ]
     },
     "execution_count": 5,
     "metadata": {},
     "output_type": "execute_result"
    }
   ],
   "source": [
    "new_object = create_object(\n",
    "    identifier=\"RXN-11501\",\n",
    "    database=\"pmn:CORN\",\n",
    "    directory=dir_data,\n",
    "    compartment=\"c\"\n",
    ")\n",
    "                                             \n",
    "print(type(new_object))\n",
    "display(new_object)\n",
    "new_object.genes"
   ]
  },
  {
   "cell_type": "markdown",
   "metadata": {
    "id": "jlw6Vkuy740u"
   },
   "source": [
    "\n",
    "## Adding metabolites\n",
    "\n",
    "The function [cobramod.add_metabolites()](\n",
    "module/cobramod/index.html#cobramod.add_metabolites)\n",
    "extends the COBRApy function [model.add_metabolites()](\n",
    "https://cobrapy.readthedocs.io/en/latest/autoapi/cobra/core/model/index.html#cobra.core.model.Model.add_metabolites\n",
    ") and can be used with a simple syntax. It can utilize a single string, a list of strings, a file path or a COBRAPy metabolite object. In the next\n",
    "examples we showcase these options. We use the *E. coli* core model from COBRApy as test model. This core model can be found under `cobramod.test.textbook`. If the argument `obj` is used as a string, it can be the database-specific identifier of the respective metabolite and its compartment or a user-defined metabolite. It uses the following syntax:\n",
    "\n",
    "------\n",
    "\n",
    "**SYNTAX**  \n",
    "\n",
    "To add metabolite information from a database:\n",
    "\n",
    "    database-specific_identifier, compartment\n",
    "\n",
    "To add user-curated metabolites:\n",
    "\n",
    "    user-curated_identifier, name, compartment, chemical_formula, molecular_charge\n",
    "\n",
    "------\n",
    "\n",
    "In the first example, we add the metabolite *L-methionine* with the MetaCyc\n",
    "identifier [MET](\n",
    "https://metacyc.org/compound?orgid=META&id=MET) to the test model. The first\n",
    "argument is the model name. The argument `obj` contains the identifier\n",
    "`MET` and the compartment `c`. The second argument is the database identifier\n",
    "(`META`) and the third argument is the directory where CobraMod stores the metabolite information.\n"
   ]
  },
  {
   "cell_type": "code",
   "execution_count": 6,
   "metadata": {
    "colab": {
     "base_uri": "https://localhost:8080/",
     "height": 168
    },
    "id": "TgiIWEX3740v",
    "outputId": "bc2a3013-ed4e-4343-c387-33f59b23fc62"
   },
   "outputs": [
    {
     "name": "stderr",
     "output_type": "stream",
     "text": [
      "\u001b[36mMetabolite \"MET_c\" was added to model.\u001b[0m\n"
     ]
    },
    {
     "name": "stdout",
     "output_type": "stream",
     "text": [
      "<class 'cobra.core.metabolite.Metabolite'>\n"
     ]
    },
    {
     "data": {
      "text/html": [
       "\n",
       "        <table>\n",
       "            <tr>\n",
       "                <td><strong>Metabolite identifier</strong></td><td>MET_c</td>\n",
       "            </tr><tr>\n",
       "                <td><strong>Name</strong></td><td>L-methionine</td>\n",
       "            </tr><tr>\n",
       "                <td><strong>Memory address</strong></td>\n",
       "                <td>0x7afc8ca6a8a0</td>\n",
       "            </tr><tr>\n",
       "                <td><strong>Formula</strong></td><td>C5H11N1O2S1</td>\n",
       "            </tr><tr>\n",
       "                <td><strong>Compartment</strong></td><td>c</td>\n",
       "            </tr><tr>\n",
       "                <td><strong>In 0 reaction(s)</strong></td><td>\n",
       "                    \n",
       "                    </td>\n",
       "            </tr>\n",
       "        </table>"
      ],
      "text/plain": [
       "<Metabolite MET_c at 0x7afc8ca6a8a0>"
      ]
     },
     "execution_count": 6,
     "metadata": {},
     "output_type": "execute_result"
    }
   ],
   "source": [
    "from cobramod import add_metabolites\n",
    "from cobramod.test import textbook\n",
    "from pathlib import Path\n",
    "\n",
    "# Path for the metabolic pathway information directory                                                                        \n",
    "dir_data = Path.cwd().resolve().joinpath(\"data\")\n",
    "# Using copy\n",
    "test_model = textbook.copy()\n",
    "\n",
    "add_metabolites(\n",
    "    model=test_model,\n",
    "    obj=[\"MET, c\"],\n",
    "    database=\"META\",\n",
    "    directory=dir_data,\n",
    ")\n",
    "print(type(test_model.metabolites.get_by_id(\"MET_c\")))\n",
    "test_model.metabolites.get_by_id(\"MET_c\")"
   ]
  },
  {
   "cell_type": "markdown",
   "metadata": {
    "id": "32whoodj740v"
   },
   "source": [
    "In the second example, we add two metabolites ([acetyl-coa](\n",
    "https://metacyc.org/compound?orgid=META&id=ACETYL-COA) and [sucrose](\n",
    "https://metacyc.org/compound?orgid=META&id=SUCROSE\n",
    ")) from MetaCyc. In the argument `obj` we define a list with the database-specific metabolite identifiers and the respecitive compartments. \n",
    "The rest of the arguments remains the same as in the previous example. \n",
    "Before adding a metabolite, CobraMod tests if the given metabolite is already present in the model (potentially with a different identifier) by checking the \n",
    "cross-reference database entries in the metabolite's metadata against the model's metabolite entries. If CobraMod identifies a metabolite as already present in the model it skips adding the metabolite, used the already present one, and prints a warning. "
   ]
  },
  {
   "cell_type": "code",
   "execution_count": 7,
   "metadata": {
    "colab": {
     "base_uri": "https://localhost:8080/",
     "height": 359
    },
    "id": "TOWdeeQD740w",
    "outputId": "d19e1edb-fa69-45bb-db48-a5df2add5d59"
   },
   "outputs": [
    {
     "name": "stderr",
     "output_type": "stream",
     "text": [
      "\u001b[36mMetabolite \"ACETYL_COA_c\" was added to model.\u001b[0m\n",
      "\u001b[36mMetabolite \"SUCROSE_c\" was added to model.\u001b[0m\n"
     ]
    },
    {
     "data": {
      "text/html": [
       "\n",
       "        <table>\n",
       "            <tr>\n",
       "                <td><strong>Metabolite identifier</strong></td><td>accoa_c</td>\n",
       "            </tr><tr>\n",
       "                <td><strong>Name</strong></td><td>Acetyl-CoA</td>\n",
       "            </tr><tr>\n",
       "                <td><strong>Memory address</strong></td>\n",
       "                <td>0x7afc8c95c5c0</td>\n",
       "            </tr><tr>\n",
       "                <td><strong>Formula</strong></td><td>C23H34N7O17P3S</td>\n",
       "            </tr><tr>\n",
       "                <td><strong>Compartment</strong></td><td>c</td>\n",
       "            </tr><tr>\n",
       "                <td><strong>In 7 reaction(s)</strong></td><td>\n",
       "                    ACALD, MALS, PDH, CS, Biomass_Ecoli_core, PFL, PTAr\n",
       "                    </td>\n",
       "            </tr>\n",
       "        </table>"
      ],
      "text/plain": [
       "<Metabolite accoa_c at 0x7afc8c95c5c0>"
      ]
     },
     "metadata": {},
     "output_type": "display_data"
    },
    {
     "data": {
      "text/html": [
       "\n",
       "        <table>\n",
       "            <tr>\n",
       "                <td><strong>Metabolite identifier</strong></td><td>SUCROSE_c</td>\n",
       "            </tr><tr>\n",
       "                <td><strong>Name</strong></td><td>sucrose</td>\n",
       "            </tr><tr>\n",
       "                <td><strong>Memory address</strong></td>\n",
       "                <td>0x7afc8c9a53d0</td>\n",
       "            </tr><tr>\n",
       "                <td><strong>Formula</strong></td><td>C12H22O11</td>\n",
       "            </tr><tr>\n",
       "                <td><strong>Compartment</strong></td><td>c</td>\n",
       "            </tr><tr>\n",
       "                <td><strong>In 0 reaction(s)</strong></td><td>\n",
       "                    \n",
       "                    </td>\n",
       "            </tr>\n",
       "        </table>"
      ],
      "text/plain": [
       "<Metabolite SUCROSE_c at 0x7afc8c9a53d0>"
      ]
     },
     "execution_count": 7,
     "metadata": {},
     "output_type": "execute_result"
    }
   ],
   "source": [
    "add_metabolites(\n",
    "    model=test_model,\n",
    "    obj=[\"ACETYL-COA, c\", \"SUCROSE, c\"],\n",
    "    database=\"META\",\n",
    "    directory=dir_data,\n",
    ")\n",
    "# Show metabolites in jupyter\n",
    "display(test_model.metabolites.get_by_id(\"accoa_c\"))  \n",
    "test_model.metabolites.get_by_id(\"SUCROSE_c\")"
   ]
  },
  {
   "cell_type": "markdown",
   "metadata": {
    "id": "_r-7dIhC740x"
   },
   "source": [
    "In the third example, we use a text file to add metabolites to the test\n",
    "model. We use the file *metabolites.txt* in the current working directory with the following content:\n",
    "\n",
    "    SUCROSE, c  \n",
    "    MET, c  \n",
    "    MALTOSE_c, MALTOSE[c], c, C12H22O11, 1\n",
    "\n",
    "In this example, CobraMod downloads the first two metabolites from MetaCyc, while `MALTOSE_c` is a user-defined metabolite.  The user can specify the path to this file in the `obj` argument. The remaining arguments are the same as in the previous examples. We added two print statements to show that CobraMod adds the metabolites to the model."
   ]
  },
  {
   "cell_type": "code",
   "execution_count": 8,
   "metadata": {
    "colab": {
     "base_uri": "https://localhost:8080/",
     "height": 448
    },
    "id": "YfbHsvk0740x",
    "outputId": "73174ddd-ed32-48b8-85ea-a01cf07b7bb7"
   },
   "outputs": [
    {
     "name": "stderr",
     "output_type": "stream",
     "text": [
      "\u001b[36mMetabolite \"SUCROSE_c\" was added to model.\u001b[0m\n",
      "\u001b[36mMetabolite \"MET_c\" was added to model.\u001b[0m\n",
      "\u001b[36mMetabolite \"MALTOSE_c\" was added to model.\u001b[0m\n"
     ]
    },
    {
     "name": "stdout",
     "output_type": "stream",
     "text": [
      "Number of metabolites prior addition: 72\n",
      "Number of metabolites after addition: 75\n"
     ]
    },
    {
     "data": {
      "text/html": [
       "\n",
       "        <table>\n",
       "            <tr>\n",
       "                <td><strong>Metabolite identifier</strong></td><td>MET_c</td>\n",
       "            </tr><tr>\n",
       "                <td><strong>Name</strong></td><td>L-methionine</td>\n",
       "            </tr><tr>\n",
       "                <td><strong>Memory address</strong></td>\n",
       "                <td>0x7afc8c9a7410</td>\n",
       "            </tr><tr>\n",
       "                <td><strong>Formula</strong></td><td>C5H11N1O2S1</td>\n",
       "            </tr><tr>\n",
       "                <td><strong>Compartment</strong></td><td>c</td>\n",
       "            </tr><tr>\n",
       "                <td><strong>In 0 reaction(s)</strong></td><td>\n",
       "                    \n",
       "                    </td>\n",
       "            </tr>\n",
       "        </table>"
      ],
      "text/plain": [
       "<Metabolite MET_c at 0x7afc8c9a7410>"
      ]
     },
     "metadata": {},
     "output_type": "display_data"
    },
    {
     "data": {
      "text/html": [
       "\n",
       "        <table>\n",
       "            <tr>\n",
       "                <td><strong>Metabolite identifier</strong></td><td>SUCROSE_c</td>\n",
       "            </tr><tr>\n",
       "                <td><strong>Name</strong></td><td>sucrose</td>\n",
       "            </tr><tr>\n",
       "                <td><strong>Memory address</strong></td>\n",
       "                <td>0x7afc875b01a0</td>\n",
       "            </tr><tr>\n",
       "                <td><strong>Formula</strong></td><td>C12H22O11</td>\n",
       "            </tr><tr>\n",
       "                <td><strong>Compartment</strong></td><td>c</td>\n",
       "            </tr><tr>\n",
       "                <td><strong>In 0 reaction(s)</strong></td><td>\n",
       "                    \n",
       "                    </td>\n",
       "            </tr>\n",
       "        </table>"
      ],
      "text/plain": [
       "<Metabolite SUCROSE_c at 0x7afc875b01a0>"
      ]
     },
     "metadata": {},
     "output_type": "display_data"
    },
    {
     "data": {
      "text/html": [
       "\n",
       "        <table>\n",
       "            <tr>\n",
       "                <td><strong>Metabolite identifier</strong></td><td>MALTOSE_c</td>\n",
       "            </tr><tr>\n",
       "                <td><strong>Name</strong></td><td>MALTOSE[c]</td>\n",
       "            </tr><tr>\n",
       "                <td><strong>Memory address</strong></td>\n",
       "                <td>0x7afc8c7399a0</td>\n",
       "            </tr><tr>\n",
       "                <td><strong>Formula</strong></td><td>C12H22O11</td>\n",
       "            </tr><tr>\n",
       "                <td><strong>Compartment</strong></td><td>c</td>\n",
       "            </tr><tr>\n",
       "                <td><strong>In 0 reaction(s)</strong></td><td>\n",
       "                    \n",
       "                    </td>\n",
       "            </tr>\n",
       "        </table>"
      ],
      "text/plain": [
       "<Metabolite MALTOSE_c at 0x7afc8c7399a0>"
      ]
     },
     "execution_count": 8,
     "metadata": {},
     "output_type": "execute_result"
    }
   ],
   "source": [
    "from cobramod.test import textbook_biocyc\n",
    "# Path for the metabolic pathway information directory\n",
    "dir_data = Path.cwd().resolve().joinpath(\"data\")\n",
    "# This is our file\n",
    "file = dir_data.joinpath(\"metabolites.txt\")\n",
    "# Using a copy\n",
    "test_model = textbook_biocyc.copy()\n",
    "\n",
    "print(f'Number of metabolites prior addition: {len(test_model.metabolites)}')\n",
    "# Using CobraMod\n",
    "add_metabolites(\n",
    "    model=test_model,\n",
    "    obj=file,\n",
    "    directory=dir_data,\n",
    "    database=\"META\",\n",
    ")\n",
    "print(f'Number of metabolites after addition: {len(test_model.metabolites)}')\n",
    "# Show metabolites in jupyter\n",
    "display(test_model.metabolites.get_by_id(\"MET_c\"))\n",
    "display(test_model.metabolites.get_by_id(\"SUCROSE_c\"))\n",
    "test_model.metabolites.get_by_id(\"MALTOSE_c\")"
   ]
  },
  {
   "cell_type": "markdown",
   "metadata": {
    "id": "uNbBaakL740x"
   },
   "source": [
    "Since [cobramod.add_metabolites()](\n",
    "module/cobramod/index.html#cobramod.add_metabolites)\n",
    "is an extension of the COBRApy function\n",
    "[model.add_metabolites()](\n",
    "https://cobrapy.readthedocs.io/en/latest/autoapi/cobra/core/model/index.html#cobra.core.model.Model.add_metabolites)\n",
    "the user can also utilize COBRApy metabolites. In the following example, we use a variation of the test model (`textbook_biocyc`) which uses\n",
    "BioCyc metabolite identifiers. We copy a COBRApy metabolite from\n",
    "the test model and add it to the BioCyc test model. "
   ]
  },
  {
   "cell_type": "code",
   "execution_count": 9,
   "metadata": {
    "colab": {
     "base_uri": "https://localhost:8080/",
     "height": 147
    },
    "id": "KN5D_mmH740z",
    "outputId": "baf6af12-a652-46f9-9cee-595910561544"
   },
   "outputs": [
    {
     "name": "stderr",
     "output_type": "stream",
     "text": [
      "\u001b[36mMetabolite \"xu5p__D_c\" was added to model.\u001b[0m\n"
     ]
    },
    {
     "data": {
      "text/html": [
       "\n",
       "        <table>\n",
       "            <tr>\n",
       "                <td><strong>Metabolite identifier</strong></td><td>xu5p__D_c</td>\n",
       "            </tr><tr>\n",
       "                <td><strong>Name</strong></td><td>D-Xylulose 5-phosphate</td>\n",
       "            </tr><tr>\n",
       "                <td><strong>Memory address</strong></td>\n",
       "                <td>0x7afc8cb758e0</td>\n",
       "            </tr><tr>\n",
       "                <td><strong>Formula</strong></td><td>C5H9O8P</td>\n",
       "            </tr><tr>\n",
       "                <td><strong>Compartment</strong></td><td>c</td>\n",
       "            </tr><tr>\n",
       "                <td><strong>In 3 reaction(s)</strong></td><td>\n",
       "                    TKT2, TKT1, RPE\n",
       "                    </td>\n",
       "            </tr>\n",
       "        </table>"
      ],
      "text/plain": [
       "<Metabolite xu5p__D_c at 0x7afc8cb758e0>"
      ]
     },
     "execution_count": 9,
     "metadata": {},
     "output_type": "execute_result"
    }
   ],
   "source": [
    "from cobramod import add_metabolites\n",
    "from cobramod.test import textbook, textbook_biocyc\n",
    "                        \n",
    "# Copying Metabolite from original model\n",
    "metabolite = textbook.metabolites.get_by_id(\"xu5p__D_c\")\n",
    "\n",
    "# Using a copy\n",
    "test_model = textbook_biocyc.copy()\n",
    "add_metabolites(\n",
    "    model=test_model,\n",
    "    obj=[metabolite]\n",
    ")\n",
    "                                                               \n",
    "test_model.metabolites.get_by_id(\"xu5p__D_c\")"
   ]
  },
  {
   "cell_type": "markdown",
   "metadata": {
    "id": "P6oD20PKuJYu"
   },
   "source": [
    "If CobraMod detects large molecules (e.g.  enzymes) or if the metabolite information does not include a chemical formula the user receives a warning. In this example, we use the enzyme with the MetaCyc identifier `Red-NADPH-Hemoprotein-Reductases` and add it to the test model. CobraMod raises a warning due to the missing chemical formula."
   ]
  },
  {
   "cell_type": "code",
   "execution_count": 10,
   "metadata": {
    "colab": {
     "base_uri": "https://localhost:8080/",
     "height": 208
    },
    "id": "z3WOnVwEuJi2",
    "outputId": "f5853e43-11de-41b4-d80b-6c7e21dd034f"
   },
   "outputs": [
    {
     "name": "stderr",
     "output_type": "stream",
     "text": [
      "\u001b[33mCurated metabolite \"Red_NADPH_Hemoprotein_Reductases_c does not include a chemical formula\u001b[0m\n",
      "\u001b[36mMetabolite \"Red_NADPH_Hemoprotein_Reductases_c\" was added to model.\u001b[0m\n"
     ]
    },
    {
     "data": {
      "text/html": [
       "\n",
       "        <table>\n",
       "            <tr>\n",
       "                <td><strong>Metabolite identifier</strong></td><td>Red_NADPH_Hemoprotein_Reductases_c</td>\n",
       "            </tr><tr>\n",
       "                <td><strong>Name</strong></td><td>Red-NADPH-Hemoprotein-Reductases</td>\n",
       "            </tr><tr>\n",
       "                <td><strong>Memory address</strong></td>\n",
       "                <td>0x7afc86120710</td>\n",
       "            </tr><tr>\n",
       "                <td><strong>Formula</strong></td><td>X</td>\n",
       "            </tr><tr>\n",
       "                <td><strong>Compartment</strong></td><td>c</td>\n",
       "            </tr><tr>\n",
       "                <td><strong>In 0 reaction(s)</strong></td><td>\n",
       "                    \n",
       "                    </td>\n",
       "            </tr>\n",
       "        </table>"
      ],
      "text/plain": [
       "<Metabolite Red_NADPH_Hemoprotein_Reductases_c at 0x7afc86120710>"
      ]
     },
     "execution_count": 10,
     "metadata": {},
     "output_type": "execute_result"
    }
   ],
   "source": [
    "# Using a copy\n",
    "test_model = textbook.copy()\n",
    "\n",
    "add_metabolites(\n",
    "    model=test_model,\n",
    "    obj=[\"Red-NADPH-Hemoprotein-Reductases, c\"],\n",
    "    directory=dir_data,\n",
    "    database=\"META\",\n",
    ")\n",
    "test_model.metabolites.get_by_id(\"Red_NADPH_Hemoprotein_Reductases_c\")"
   ]
  },
  {
   "cell_type": "markdown",
   "metadata": {
    "id": "7OCkus3m740z"
   },
   "source": [
    "----------------\n",
    "\n",
    "**NOTES**\n",
    "\n",
    "- CobraMod replaces hyphens (`-`) with underscores (`_`) in the identifiers when\n",
    "creating COBRApy metabolites.\n",
    "- When adding several metabolites the user can only specify one database identifier (It is not possible to use two databases within the same\n",
    "function call) or alternatively can call the function twice.\n",
    "- CobraMod saves the curation process in a directory 'logs'\n",
    "\n",
    "----------------\n",
    "\n",
    "## Adding reactions\n",
    "\n",
    "The function [cobramod.add_reactions()](\n",
    "module/cobramod/index.html#cobramod.add_reactions) extends the COBRApy\n",
    "function [model.add_reactions()](\n",
    "https://cobrapy.readthedocs.io/en/latest/autoapi/cobra/index.html?highlight=optimize#cobra.Model.add_reactions\n",
    ") and can be used with a simple syntax. It can utilize a single string, a \n",
    "list of string, a file path or a COBRApy reaction object. In the next examples \n",
    "we showcase these options. Again, we use the *E. coli* core model from COBRApy \n",
    "as test model. \n",
    " \n",
    "If the argument `obj` is used as a string, it can be the\n",
    "database-specific identifier of the respective reaction and its\n",
    "compartment or a user-defined reaction. It uses the following syntax:\n",
    "\n",
    "--------\n",
    "\n",
    "**SYNTAX**  \n",
    "\n",
    "To add reaction information from a database:\n",
    "\n",
    "    database-specific_identifier, compartment\n",
    "\n",
    "To add user-defined reactions (curated-reactions), the user can specify the identifier and name of the reaction following the [COBRApy reaction string syntax](\n",
    "  https://cobrapy.readthedocs.io/en/latest/autoapi/cobra/core/reaction/index.html#cobra.core.reaction.Reaction.build_reaction_from_string\n",
    "):\n",
    "\n",
    "    user-curated_identifier, name | coefficient_1 metabolite_1 <-> coefficient_2 metabolite_2\n",
    "\n",
    "Metabolites must contain a suffix which specifies the compartment. This is given by an underscore (`_`) followed by the compartment-abbreviation. In this example, we create a transport reaction for oxygen between the external comparment \n",
    "(`e`) and the cytosol (`c`): \n",
    "\n",
    "    TRANS_H2O_ec, Oxygen Transport | 2 OXYGEN-MOLECULE_e <-> 2 OXYGEN_MOLECULE_c\n",
    "\n",
    "-------\n",
    "\n",
    "In the first example, we add the BIGG reaction [AKGDH](\n",
    "  http://bigg.ucsd.edu/universal/reactions/AKGDH\n",
    ") to a test model. This time we use a text model which is a variaton of the original core model and uses KEGG identifiers (`textbook_kegg`). The first argument is the model name. The `obj` argument takes the identifier `AKGDH` and the compartment `c`. The next argument is the database identifier (`BIGG`) and the last argument is the directory where CobraMod stores and retrieves the metabolic pathway information from. The argument `model_id` is a BIGG-specific argument. Please read the notes below for more information. \n",
    " \n",
    "Because the test model uses KEGG identifiers, CobraMod finds the reaction `AKGDH` with the KEGG identifier `R08549_c`."
   ]
  },
  {
   "cell_type": "code",
   "execution_count": 11,
   "metadata": {
    "colab": {
     "base_uri": "https://localhost:8080/",
     "height": 326
    },
    "id": "Gcf5g4dB740z",
    "outputId": "eb539f60-e053-491a-851e-a6e2ffb7ed88"
   },
   "outputs": [
    {
     "name": "stderr",
     "output_type": "stream",
     "text": [
      "\u001b[33mReaction \"R08549_c\" is already present in the model. Skipping additions.\u001b[0m\n"
     ]
    },
    {
     "data": {
      "text/html": [
       "\n",
       "        <table>\n",
       "            <tr>\n",
       "                <td><strong>Reaction identifier</strong></td><td>R08549_c</td>\n",
       "            </tr><tr>\n",
       "                <td><strong>Name</strong></td><td>2-Oxogluterate dehydrogenase</td>\n",
       "            </tr><tr>\n",
       "                <td><strong>Memory address</strong></td>\n",
       "                <td>0x7afc86120fb0</td>\n",
       "            </tr><tr>\n",
       "                <td><strong>Stoichiometry</strong></td>\n",
       "                <td>\n",
       "                    <p style='text-align:right'>C00003_c + C00010_c + C00026_c --> C00004_c + C00011_c + C00091_c</p>\n",
       "                    <p style='text-align:right'>Nicotinamide adenine dinucleotide + Coenzyme A + 2-Oxoglutarate --> Nicotinamide adenine dinucleotide - reduced + CO2 + Succinyl-CoA</p>\n",
       "                </td>\n",
       "            </tr><tr>\n",
       "                <td><strong>GPR</strong></td><td>b0116 and b0726 and b0727</td>\n",
       "            </tr><tr>\n",
       "                <td><strong>Lower bound</strong></td><td>0.0</td>\n",
       "            </tr><tr>\n",
       "                <td><strong>Upper bound</strong></td><td>1000.0</td>\n",
       "            </tr>\n",
       "        </table>\n",
       "        "
      ],
      "text/plain": [
       "<Reaction R08549_c at 0x7afc86120fb0>"
      ]
     },
     "metadata": {},
     "output_type": "display_data"
    }
   ],
   "source": [
    "from cobramod.test import textbook_kegg\n",
    "from cobramod import add_reactions\n",
    "from pathlib import Path\n",
    "                                                           \n",
    "dir_data = Path.cwd().resolve().joinpath(\"data\")\n",
    "# Using copy\n",
    "test_model = textbook_kegg.copy()\n",
    "\n",
    "add_reactions(\n",
    "    model=test_model,\n",
    "    obj=[\"AKGDH, c\"],\n",
    "    database=\"BIGG\",\n",
    "    directory=dir_data,\n",
    "    model_id=\"e_coli_core\"\n",
    ")\n",
    "                                                           \n",
    "display(test_model.reactions.get_by_id(\"R08549_c\"))"
   ]
  },
  {
   "cell_type": "markdown",
   "metadata": {
    "id": "DgOH_6OQ740z"
   },
   "source": [
    "In the second example, we add two reactions ([R00315](\n",
    "  https://www.kegg.jp/entry/R00315\n",
    ") and [R02736](\n",
    "  https://www.kegg.jp/entry/R02736\n",
    " )) from KEGG. The argument\n",
    "`obj` is a list with the database-specific identifiers and the respective \n",
    "compartments of the reactions. The majority of the arguments remains the same \n",
    "as in the previous example. The argument `genome` is a KEGG-specific argument.\n",
    "Please read the notes below for more information.\n",
    "\n",
    "CobraMod parses the reaction information for gene identifiers and automatically adds them to the COBRApy reaction. In this example, CobraMod creates the genes\n",
    "`2296`, `b3115` and `b1849`, and adds it to the first reaction `R00315`."
   ]
  },
  {
   "cell_type": "code",
   "execution_count": 12,
   "metadata": {
    "colab": {
     "base_uri": "https://localhost:8080/",
     "height": 452
    },
    "id": "5hC8-O3v740z",
    "outputId": "658cdf0e-804f-4f9f-a452-20eed21996ba"
   },
   "outputs": [
    {
     "name": "stderr",
     "output_type": "stream",
     "text": [
      "\u001b[33mGene-reaction rule for reaction \"R00315\" from KEGG set to \"OR\".\u001b[0m\n",
      "\u001b[33mGene-reaction rule for reaction \"R02736\" from KEGG set to \"OR\".\u001b[0m\n",
      "\u001b[33mReaction \"R02736_c\" unbalanced. Following atoms are affected. Please verify: {'charge': -2.0, 'H': -2.0}\u001b[0m\n",
      "\u001b[33mReaction \"R02736_c\" unbalanced. Following atoms are affected. Please verify: {'charge': -2.0, 'H': -2.0}\u001b[0m\n",
      "\u001b[33mReaction \"R00315_c\" is already present in the model. Skipping additions.\u001b[0m\n",
      "\u001b[33mReaction \"R02736_c\" is already present in the model. Skipping additions.\u001b[0m\n"
     ]
    },
    {
     "data": {
      "text/html": [
       "\n",
       "        <table>\n",
       "            <tr>\n",
       "                <td><strong>Reaction identifier</strong></td><td>R00315_c</td>\n",
       "            </tr><tr>\n",
       "                <td><strong>Name</strong></td><td>acetate kinase</td>\n",
       "            </tr><tr>\n",
       "                <td><strong>Memory address</strong></td>\n",
       "                <td>0x7afc86121160</td>\n",
       "            </tr><tr>\n",
       "                <td><strong>Stoichiometry</strong></td>\n",
       "                <td>\n",
       "                    <p style='text-align:right'>C00002_c + C00033_c <=> C00227_c + G11113_c</p>\n",
       "                    <p style='text-align:right'>ATP + Acetate <=> Acetyl phosphate + ADP</p>\n",
       "                </td>\n",
       "            </tr><tr>\n",
       "                <td><strong>GPR</strong></td><td>c2838</td>\n",
       "            </tr><tr>\n",
       "                <td><strong>Lower bound</strong></td><td>-1000.0</td>\n",
       "            </tr><tr>\n",
       "                <td><strong>Upper bound</strong></td><td>1000.0</td>\n",
       "            </tr>\n",
       "        </table>\n",
       "        "
      ],
      "text/plain": [
       "<Reaction R00315_c at 0x7afc86121160>"
      ]
     },
     "metadata": {},
     "output_type": "display_data"
    },
    {
     "name": "stdout",
     "output_type": "stream",
     "text": [
      "frozenset({<Gene c2838 at 0x7afc7eb8c080>})\n"
     ]
    },
    {
     "data": {
      "text/html": [
       "\n",
       "        <table>\n",
       "            <tr>\n",
       "                <td><strong>Reaction identifier</strong></td><td>R02736_c</td>\n",
       "            </tr><tr>\n",
       "                <td><strong>Name</strong></td><td>beta-D-glucose-6-phosphate:NADP+ 1-oxoreductase</td>\n",
       "            </tr><tr>\n",
       "                <td><strong>Memory address</strong></td>\n",
       "                <td>0x7afc8cafdc40</td>\n",
       "            </tr><tr>\n",
       "                <td><strong>Stoichiometry</strong></td>\n",
       "                <td>\n",
       "                    <p style='text-align:right'>C00006_c + C01172_c <=> C00005_c + C00080_c + C01236_c</p>\n",
       "                    <p style='text-align:right'>Nicotinamide adenine dinucleotide phosphate + beta-D-Glucose 6-phosphate <=> Nicotinamide adenine dinucleotide phosphate - reduced + H+ + 6-phospho-D-glucono-1,5-lactone</p>\n",
       "                </td>\n",
       "            </tr><tr>\n",
       "                <td><strong>GPR</strong></td><td>c2265</td>\n",
       "            </tr><tr>\n",
       "                <td><strong>Lower bound</strong></td><td>-1000</td>\n",
       "            </tr><tr>\n",
       "                <td><strong>Upper bound</strong></td><td>1000</td>\n",
       "            </tr>\n",
       "        </table>\n",
       "        "
      ],
      "text/plain": [
       "<Reaction R02736_c at 0x7afc8cafdc40>"
      ]
     },
     "execution_count": 12,
     "metadata": {},
     "output_type": "execute_result"
    }
   ],
   "source": [
    "add_reactions(\n",
    "    model=test_model,\n",
    "    obj=[\"R00315, c\", \"R02736 ,c\"],\n",
    "    directory=dir_data,\n",
    "    database=\"KEGG\",\n",
    "    genome=\"ecc\"\n",
    ")\n",
    "                                                            \n",
    "display(test_model.reactions.get_by_id(\"R00315_c\"))\n",
    "print(test_model.reactions.get_by_id(\"R00315_c\").genes)\n",
    "test_model.reactions.get_by_id(\"R02736_c\")"
   ]
  },
  {
   "cell_type": "markdown",
   "metadata": {
    "id": "GYPUKYn27400"
   },
   "source": [
    "In the following example, we use a text file to add reactions to the test model. To this end, we use the file *reactions.txt* in the current working directory. This file has the following content:\n",
    "\n",
    "    R04382, c  \n",
    "    R02736, c  \n",
    "    C06118_ce, digalacturonate transport | 1 C06118_c <-> 1 C06118_e\n",
    "\n",
    "CobraMod downloads the first two reactions from KEGG.  `C06118_ce` is a user-defined reaction.\n",
    "The user can specify the file path in the `obj` argument. The next arguments are the same as in the previous examples. We added two print statements to show that CobraMod adds\n",
    "the reaction to the model."
   ]
  },
  {
   "cell_type": "code",
   "execution_count": 13,
   "metadata": {
    "colab": {
     "base_uri": "https://localhost:8080/",
     "height": 619
    },
    "id": "KGb5w8FO7400",
    "outputId": "4b38496a-2c78-4e21-f0cc-f83831202076"
   },
   "outputs": [
    {
     "name": "stderr",
     "output_type": "stream",
     "text": [
      "\u001b[33mGene-reaction rule for reaction \"R04382\" from KEGG set to \"OR\".\u001b[0m\n",
      "\u001b[33mGene-reaction rule for reaction \"R02736\" from KEGG set to \"OR\".\u001b[0m\n",
      "\u001b[33mReaction \"R02736_c\" unbalanced. Following atoms are affected. Please verify: {'charge': -2.0, 'H': -2.0}\u001b[0m\n",
      "\u001b[33mReaction \"R02736_c\" unbalanced. Following atoms are affected. Please verify: {'charge': -2.0, 'H': -2.0}\u001b[0m\n"
     ]
    },
    {
     "name": "stdout",
     "output_type": "stream",
     "text": [
      "Number of reactions prior addition: 95\n"
     ]
    },
    {
     "name": "stderr",
     "output_type": "stream",
     "text": [
      "\u001b[33mReaction \"R04382_c\" is already present in the model. Skipping additions.\u001b[0m\n",
      "\u001b[33mReaction \"R02736_c\" is already present in the model. Skipping additions.\u001b[0m\n",
      "\u001b[36mReaction \"C06118_ce\" was added to model.\u001b[0m\n"
     ]
    },
    {
     "name": "stdout",
     "output_type": "stream",
     "text": [
      "Number of reactions after addition: 98\n"
     ]
    },
    {
     "data": {
      "text/html": [
       "\n",
       "        <table>\n",
       "            <tr>\n",
       "                <td><strong>Reaction identifier</strong></td><td>R04382_c</td>\n",
       "            </tr><tr>\n",
       "                <td><strong>Name</strong></td><td>4-(4-deoxy-alpha-D-galact-4-enuronosyl)-D-galacturonate lyase</td>\n",
       "            </tr><tr>\n",
       "                <td><strong>Memory address</strong></td>\n",
       "                <td>0x7afc6fcd64b0</td>\n",
       "            </tr><tr>\n",
       "                <td><strong>Stoichiometry</strong></td>\n",
       "                <td>\n",
       "                    <p style='text-align:right'>C06118_c <=> 2.0 C04053_c</p>\n",
       "                    <p style='text-align:right'>Unsaturated digalacturonate <=> 2.0 (4S,5R)-4,5-Dihydroxy-2,6-dioxohexanoate</p>\n",
       "                </td>\n",
       "            </tr><tr>\n",
       "                <td><strong>GPR</strong></td><td>c0319</td>\n",
       "            </tr><tr>\n",
       "                <td><strong>Lower bound</strong></td><td>-1000</td>\n",
       "            </tr><tr>\n",
       "                <td><strong>Upper bound</strong></td><td>1000</td>\n",
       "            </tr>\n",
       "        </table>\n",
       "        "
      ],
      "text/plain": [
       "<Reaction R04382_c at 0x7afc6fcd64b0>"
      ]
     },
     "metadata": {},
     "output_type": "display_data"
    },
    {
     "data": {
      "text/html": [
       "\n",
       "        <table>\n",
       "            <tr>\n",
       "                <td><strong>Reaction identifier</strong></td><td>R02736_c</td>\n",
       "            </tr><tr>\n",
       "                <td><strong>Name</strong></td><td>beta-D-glucose-6-phosphate:NADP+ 1-oxoreductase</td>\n",
       "            </tr><tr>\n",
       "                <td><strong>Memory address</strong></td>\n",
       "                <td>0x7afc6fcef290</td>\n",
       "            </tr><tr>\n",
       "                <td><strong>Stoichiometry</strong></td>\n",
       "                <td>\n",
       "                    <p style='text-align:right'>C00006_c + C01172_c <=> C00005_c + C00080_c + C01236_c</p>\n",
       "                    <p style='text-align:right'>Nicotinamide adenine dinucleotide phosphate + beta-D-Glucose 6-phosphate <=> Nicotinamide adenine dinucleotide phosphate - reduced + H+ + 6-phospho-D-glucono-1,5-lactone</p>\n",
       "                </td>\n",
       "            </tr><tr>\n",
       "                <td><strong>GPR</strong></td><td>c2265</td>\n",
       "            </tr><tr>\n",
       "                <td><strong>Lower bound</strong></td><td>-1000</td>\n",
       "            </tr><tr>\n",
       "                <td><strong>Upper bound</strong></td><td>1000</td>\n",
       "            </tr>\n",
       "        </table>\n",
       "        "
      ],
      "text/plain": [
       "<Reaction R02736_c at 0x7afc6fcef290>"
      ]
     },
     "metadata": {},
     "output_type": "display_data"
    },
    {
     "data": {
      "text/html": [
       "\n",
       "        <table>\n",
       "            <tr>\n",
       "                <td><strong>Reaction identifier</strong></td><td>C06118_ce</td>\n",
       "            </tr><tr>\n",
       "                <td><strong>Name</strong></td><td>digalacturonate transport</td>\n",
       "            </tr><tr>\n",
       "                <td><strong>Memory address</strong></td>\n",
       "                <td>0x7afc6fceffe0</td>\n",
       "            </tr><tr>\n",
       "                <td><strong>Stoichiometry</strong></td>\n",
       "                <td>\n",
       "                    <p style='text-align:right'>C06118_c <=> C06118_e</p>\n",
       "                    <p style='text-align:right'>Unsaturated digalacturonate <=> Unsaturated digalacturonate</p>\n",
       "                </td>\n",
       "            </tr><tr>\n",
       "                <td><strong>GPR</strong></td><td></td>\n",
       "            </tr><tr>\n",
       "                <td><strong>Lower bound</strong></td><td>-1000</td>\n",
       "            </tr><tr>\n",
       "                <td><strong>Upper bound</strong></td><td>1000</td>\n",
       "            </tr>\n",
       "        </table>\n",
       "        "
      ],
      "text/plain": [
       "<Reaction C06118_ce at 0x7afc6fceffe0>"
      ]
     },
     "execution_count": 13,
     "metadata": {},
     "output_type": "execute_result"
    }
   ],
   "source": [
    "from cobramod.test import textbook_kegg\n",
    "from cobramod import add_reactions\n",
    "from pathlib import Path\n",
    "                                                                     \n",
    "dir_data = Path.cwd().resolve().joinpath(\"data\")\n",
    "test_model = textbook_kegg.copy()\n",
    "# This is the file with text\n",
    "file = dir_data.joinpath(\"reactions.txt\")\n",
    "\n",
    "print(f'Number of reactions prior addition: {len(test_model.reactions)}')\n",
    "                                                                     \n",
    "add_reactions(\n",
    "    model=test_model,\n",
    "    obj=file,\n",
    "    directory=dir_data,\n",
    "    database=\"KEGG\",\n",
    "    genome=\"ecc\"\n",
    ")\n",
    "\n",
    "print(f'Number of reactions after addition: {len(test_model.reactions)}')\n",
    "# Show in jupyter\n",
    "display(test_model.reactions.get_by_id(\"R04382_c\"))\n",
    "display(test_model.reactions.get_by_id(\"R02736_c\"))\n",
    "test_model.reactions.get_by_id(\"C06118_ce\")"
   ]
  },
  {
   "cell_type": "markdown",
   "metadata": {
    "id": "4ywVo8-X7400"
   },
   "source": [
    "Since [cobramod.add_reactions()](\n",
    "module/cobramod/index.html#cobramod.add_reactions\n",
    ") is an extension of the original COBRApy function\n",
    "[model.add_reactions()](https://cobrapy.readthedocs.io/en/latest/autoapi/cobra/index.html?highlight=optimize#cobra.Model.add_reactions) the user can also\n",
    "utilize COBRApy reactions. In this example, we use the test model\n",
    "(`textbook_kegg`). We copy a COBRApy reaction from the test model and add it to the KEGG test model."
   ]
  },
  {
   "cell_type": "code",
   "execution_count": 14,
   "metadata": {
    "colab": {
     "base_uri": "https://localhost:8080/",
     "height": 245
    },
    "id": "BheNVhsz7401",
    "outputId": "c5ac2718-3707-4456-b407-4f1459ff3f26"
   },
   "outputs": [
    {
     "name": "stderr",
     "output_type": "stream",
     "text": [
      "\u001b[33mReaction \"ACALDt\" is already present in the model. Skipping additions.\u001b[0m\n"
     ]
    },
    {
     "data": {
      "text/html": [
       "\n",
       "        <table>\n",
       "            <tr>\n",
       "                <td><strong>Reaction identifier</strong></td><td>ACALDt</td>\n",
       "            </tr><tr>\n",
       "                <td><strong>Name</strong></td><td>R acetaldehyde reversible - transport</td>\n",
       "            </tr><tr>\n",
       "                <td><strong>Memory address</strong></td>\n",
       "                <td>0x7afc6fcec560</td>\n",
       "            </tr><tr>\n",
       "                <td><strong>Stoichiometry</strong></td>\n",
       "                <td>\n",
       "                    <p style='text-align:right'>C00084_e <=> C00084_c</p>\n",
       "                    <p style='text-align:right'>Acetaldehyde <=> Acetaldehyde</p>\n",
       "                </td>\n",
       "            </tr><tr>\n",
       "                <td><strong>GPR</strong></td><td>s0001</td>\n",
       "            </tr><tr>\n",
       "                <td><strong>Lower bound</strong></td><td>-1000.0</td>\n",
       "            </tr><tr>\n",
       "                <td><strong>Upper bound</strong></td><td>1000.0</td>\n",
       "            </tr>\n",
       "        </table>\n",
       "        "
      ],
      "text/plain": [
       "<Reaction ACALDt at 0x7afc6fcec560>"
      ]
     },
     "execution_count": 14,
     "metadata": {},
     "output_type": "execute_result"
    }
   ],
   "source": [
    "from cobramod.test import textbook_kegg, textbook\n",
    "from cobramod import add_reactions\n",
    "from pathlib import Path\n",
    "\n",
    "# Using copy of test model\n",
    "test_model = textbook_kegg.copy()\n",
    "# Obtaining a reaction\n",
    "reaction = textbook.reactions.get_by_id(\"ACALDt\")\n",
    "                                                                  \n",
    "add_reactions(model=test_model, obj=[reaction], directory=dir_data)\n",
    "\n",
    "test_model.reactions.get_by_id(\"ACALDt\")"
   ]
  },
  {
   "cell_type": "markdown",
   "metadata": {
    "id": "1SkvGCvLnK-9"
   },
   "source": [
    " By default, COBRApy ignores metabolites that appear on\n",
    "both sides of a reaction equation. CobraMod identifies such reactions and assigns one of these metabolites to the extracellular compartment and raises a\n",
    "warning suggesting manual curation. In the following example, we\n",
    "add a [transport reaction for acetic acid](\n",
    "https://biocyc.org/META/new-image?object=TRANS-RXN-455\n",
    ") from BioCyc sub-database `YEAST` to the test model."
   ]
  },
  {
   "cell_type": "code",
   "execution_count": 15,
   "metadata": {
    "colab": {
     "base_uri": "https://localhost:8080/",
     "height": 265
    },
    "id": "IA2OwzjmbeZJ",
    "outputId": "0f6c64c2-c5d2-47bc-b752-bffed576b0b0"
   },
   "outputs": [
    {
     "name": "stderr",
     "output_type": "stream",
     "text": [
      "\u001b[33mGene-reaction rule for reaction \"TRANS-RXN-455\" set to \"OR\". Please modify it if necessary.\u001b[0m\n",
      "\u001b[33mReaction \"TRANS_RXN_455_c\" has the same metabolite on both sides of the equation (e.g transport reaction). COBRApy ignores these metabolites. To avoid this, by default, CobraMod will assign the reactant side to the extracellular compartment. Please curate the reaction if necessary.\u001b[0m\n",
      "\u001b[33mReaction \"TRANS_RXN_455_c\" is already present in the model. Skipping additions.\u001b[0m\n"
     ]
    },
    {
     "data": {
      "text/html": [
       "\n",
       "        <table>\n",
       "            <tr>\n",
       "                <td><strong>Reaction identifier</strong></td><td>TRANS_RXN_455_c</td>\n",
       "            </tr><tr>\n",
       "                <td><strong>Name</strong></td><td>acetic acid uptake</td>\n",
       "            </tr><tr>\n",
       "                <td><strong>Memory address</strong></td>\n",
       "                <td>0x7afc86123ec0</td>\n",
       "            </tr><tr>\n",
       "                <td><strong>Stoichiometry</strong></td>\n",
       "                <td>\n",
       "                    <p style='text-align:right'>CPD_24335_e --> CPD_24335_c</p>\n",
       "                    <p style='text-align:right'>acetic+acid --> acetic+acid</p>\n",
       "                </td>\n",
       "            </tr><tr>\n",
       "                <td><strong>GPR</strong></td><td>G3O-32144</td>\n",
       "            </tr><tr>\n",
       "                <td><strong>Lower bound</strong></td><td>0</td>\n",
       "            </tr><tr>\n",
       "                <td><strong>Upper bound</strong></td><td>1000</td>\n",
       "            </tr>\n",
       "        </table>\n",
       "        "
      ],
      "text/plain": [
       "<Reaction TRANS_RXN_455_c at 0x7afc86123ec0>"
      ]
     },
     "execution_count": 15,
     "metadata": {},
     "output_type": "execute_result"
    }
   ],
   "source": [
    "test_model = textbook_kegg.copy()\n",
    "                                                           \n",
    "add_reactions(\n",
    "    model=test_model,\n",
    "    obj=[\"TRANS-RXN-455, c\"],\n",
    "    database=\"YEAST\",\n",
    "    directory=dir_data,\n",
    ")\n",
    "# Show in jupyter\n",
    "test_model.reactions.get_by_id(\"TRANS_RXN_455_c\")"
   ]
  },
  {
   "cell_type": "markdown",
   "metadata": {
    "id": "0DzULV_Q7401"
   },
   "source": [
    "---\n",
    "\n",
    "**NOTES**\n",
    "\n",
    "- CobraMod replaces hyphens (`-`) to underscores (`_`) in the identifiers\n",
    "when creating COBRApy reactions.\n",
    "- When adding several reactions the user can only specify one database\n",
    "identifier (It is not possible to use two databases within the same function call) or alternatively can call the function twice.\n",
    "- CobraMod tries to identify if a given metabolites or reactions are already present in the model and used those instead of adding redundant entries.\n",
    "- CobraMod saves the curation process to the file `debug.log`.\n",
    "- The argument `model_id` is specific for the BiGG Models repository. CobraMod\n",
    "can download metabolite and reaction information directly from the BIGG models. A list of all models can be found [here](\n",
    "http://bigg.ucsd.edu/models/\n",
    ").\n",
    "- The argument `genome` can be used with the database `KEGG` and specifies the genome for which gene information will be retrieved. The complete list of all available genomes can be found [here](\n",
    "https://www.genome.jp/kegg/catalog/org_list.html).\n",
    "If no genome is specified, no gene information will be retrieved and\n",
    "a warning is printed as shown below:"
   ]
  },
  {
   "cell_type": "code",
   "execution_count": 16,
   "metadata": {
    "colab": {
     "base_uri": "https://localhost:8080/",
     "height": 265
    },
    "id": "CvDMHPAP7401",
    "outputId": "5b0afb2e-e9fe-4acf-b13d-1c101ab18d8a"
   },
   "outputs": [
    {
     "name": "stderr",
     "output_type": "stream",
     "text": [
      "\u001b[33mNothing was specified in argument \"genome\". Reaction \"R04382\" will not include genes. Please modify if necessary.\u001b[0m\n",
      "\u001b[33mReaction \"R04382_c\" is already present in the model. Skipping additions.\u001b[0m\n"
     ]
    },
    {
     "data": {
      "text/html": [
       "\n",
       "        <table>\n",
       "            <tr>\n",
       "                <td><strong>Reaction identifier</strong></td><td>R04382_c</td>\n",
       "            </tr><tr>\n",
       "                <td><strong>Name</strong></td><td>4-(4-deoxy-alpha-D-galact-4-enuronosyl)-D-galacturonate lyase</td>\n",
       "            </tr><tr>\n",
       "                <td><strong>Memory address</strong></td>\n",
       "                <td>0x7afc6fcb5c40</td>\n",
       "            </tr><tr>\n",
       "                <td><strong>Stoichiometry</strong></td>\n",
       "                <td>\n",
       "                    <p style='text-align:right'>C06118_c <=> 2.0 C04053_c</p>\n",
       "                    <p style='text-align:right'>Unsaturated digalacturonate <=> 2.0 (4S,5R)-4,5-Dihydroxy-2,6-dioxohexanoate</p>\n",
       "                </td>\n",
       "            </tr><tr>\n",
       "                <td><strong>GPR</strong></td><td></td>\n",
       "            </tr><tr>\n",
       "                <td><strong>Lower bound</strong></td><td>-1000</td>\n",
       "            </tr><tr>\n",
       "                <td><strong>Upper bound</strong></td><td>1000</td>\n",
       "            </tr>\n",
       "        </table>\n",
       "        "
      ],
      "text/plain": [
       "<Reaction R04382_c at 0x7afc6fcb5c40>"
      ]
     },
     "execution_count": 16,
     "metadata": {},
     "output_type": "execute_result"
    }
   ],
   "source": [
    "test_model = textbook_kegg.copy()\n",
    "                                                           \n",
    "add_reactions(\n",
    "    model=test_model,\n",
    "    obj=[\"R04382, c\"],\n",
    "    database=\"KEGG\",\n",
    "    directory=dir_data,\n",
    ")\n",
    "test_model.reactions.get_by_id(\"R04382_c\")"
   ]
  },
  {
   "cell_type": "markdown",
   "metadata": {
    "id": "pbG8COs37402"
   },
   "source": [
    "---\n",
    "\n",
    "## Adding pathways\n",
    " \n",
    "CobraMod can add metabolic pathways to a given model. The function\n",
    "[cobramod.add_pathway()](\n",
    "module/cobramod/index.html#cobramod.add_pathway) takes as an argument either a sequence \n",
    "of database-specific reaction identifiers or a single pathway identifier. \n",
    "CobraMod download the pathway information from the databases, creates the\n",
    "COBRApy objects and prints a short summary about the curation process when adding the respective pathway. Additionally, to ensure reproducibility and for  tracking the curation process, the user can write changes to file. CobraMod creates the object [cobramod.Pathway](\n",
    "module/cobramod/index.html#cobramod.Pathway\n",
    ") which contains the pathway information. \n",
    "\n",
    "When adding serveral pathways, we recommend adding pathways one-by-one to perform neccessary curation steps inbetween. In the examples below we showcase two options. Again, we use the *E. coli* core model from COBRApy\n",
    "as test model.\n",
    "\n",
    "In the first example, we add the [acetoacetate degradation pathway](\n",
    "https://biocyc.org/ECOLI/new-image?object=ACETOACETATE-DEG-PWY\n",
    ") from the BioCyc sub-database `ECOLI` to the test model. This pathway contains two reactions and six metabolites.\n",
    "\n",
    "<img src=\"https://websvc.biocyc.org/ECOLI/diagram-only?type=PATHWAY&object=ACETOACETATE-DEG-PWY&pfontsize=normal\"/>\n",
    "\n"
   ]
  },
  {
   "cell_type": "markdown",
   "metadata": {
    "id": "Ek9jKTGcx5Bq"
   },
   "source": [
    "In this example, the first argument is the model to extend. The `pathway` argument uses the database-specific identifier `ACETOACETATE-DEG-PWY` and the database identifier `ECOLI`. We define the compartment as `c` (cytosol), i.e. all metabolites and reactions will be assigned to this compartment.\n",
    "\n",
    "\n",
    "The argument `filename` specifies a file to which a summary of the changes is written. Additionally, [add_pathway()](\n",
    "  module/cobramod/index.html#cobramod.add_pathway\n",
    ") prints a summary of the changes to the model. Calling the respective\n",
    "[cobramod.Pathway](\n",
    "module/cobramod/index.html#cobramod.Pathway\n",
    ") outputs a table with the main attributes of the object.\n",
    "\n",
    "All COBRApy reactions of the pathway are tested for their capacity to cary a non-zero flux. Read more about it in the\n",
    "[non-zero flux test](#Non-zero-flux-test) section. \n",
    "\n"
   ]
  },
  {
   "cell_type": "code",
   "execution_count": 17,
   "metadata": {
    "colab": {
     "base_uri": "https://localhost:8080/",
     "height": 611
    },
    "id": "L3kAPVwz7403",
    "outputId": "91059607-28d6-405c-93bf-3fcb5dc4ddf2"
   },
   "outputs": [
    {
     "name": "stderr",
     "output_type": "stream",
     "text": [
      "\u001b[33mGene-reaction rule for reaction \"ACETOACETYL-COA-TRANSFER-RXN\" set to \"OR\". Please modify it if necessary.\u001b[0m\n",
      "\u001b[33mGene-reaction rule for reaction \"ACETYL-COA-ACETYLTRANSFER-RXN\" set to \"OR\". Please modify it if necessary.\u001b[0m\n",
      "\u001b[33mReaction \"ACETYL_COA_ACETYLTRANSFER_RXN_c\" unbalanced. Following atoms are affected. Please verify: {'charge': -4.0, 'C': 23.0, 'H': 34.0, 'N': 7.0, 'O': 17.0, 'P': 3.0, 'S': 1.0}\u001b[0m\n",
      "\u001b[33mThe model cannot turnover the following metabolites ['3_KETOBUTYRATE_c', 'accoa_c']. To overcome this, sink reactions were created to simulate their synthesis.\u001b[0m\n",
      "\u001b[36mNon-zero flux test for reaction 'ACETOACETYL_COA_TRANSFER_RXN_c' passed.\u001b[0m\n",
      "\u001b[36mReaction \"ACETOACETYL_COA_TRANSFER_RXN_c\" added to group \"ACETOACETATE-DEG-PWY\".\u001b[0m\n",
      "\u001b[36mNon-zero flux test for reaction 'ACETYL_COA_ACETYLTRANSFER_RXN_c' passed.\u001b[0m\n",
      "\u001b[36mReaction \"ACETYL_COA_ACETYLTRANSFER_RXN_c\" added to group \"ACETOACETATE-DEG-PWY\".\u001b[0m\n",
      "\u001b[33mAuxiliary sink reaction for \"SK_accoa_c\" created. Consider removing it and adding the synthesis reactions for the metabolite.\u001b[0m\n",
      "\u001b[33mAuxiliary sink reaction for \"SK_3_KETOBUTYRATE_c\" created. Consider removing it and adding the synthesis reactions for the metabolite.\u001b[0m\n"
     ]
    },
    {
     "name": "stdout",
     "output_type": "stream",
     "text": [
      "Number of       new   | removed entities in\n",
      "*=====================|===================*\n",
      "Reactions        2    |    0              \n",
      "Metabolites      2    |    0              \n",
      "Exchange         0    |    0              \n",
      "Demand           0    |    0              \n",
      "Sinks            2    |    0              \n",
      "Genes            4    |    0              \n",
      "Groups           1    |    0              \n",
      "\n"
     ]
    },
    {
     "data": {
      "text/html": [
       "\n",
       "<table> <tbody> <tr> <td><strong>Pathway identifier</strong></td>\n",
       "<td>ACETOACETATE-DEG-PWY</td> </tr> <tr> <td><strong>Name</strong></td>\n",
       "<td></td> </tr> <tr> <td><strong>Memory address</strong></td>\n",
       "<td>0x0135224490952272</td> </tr> <tr> <td><strong>Reactions involved</strong></td>\n",
       "<td> <p>ACETOACETYL_COA_TRANSFER_RXN_c, ACETYL_COA_ACETYLTRANSFER_RXN_c</p> </td> </tr> <tr>\n",
       "<td><strong>Genes involved<br /></strong></td> <td> <p>EG12432, EG11670, EG11669, EG11672</p> </td> </tr> <tr>\n",
       "<td><strong>Visualization attributes</strong></td> <td> <ul> <li>vertical =\n",
       "False</li> <li>color_negative = None</li>\n",
       "<li>color_positive = None</li> <li>color_quantile =\n",
       "False</li> </ul> </td> </tr> </tbody> </table> <p>&nbsp;</p>"
      ],
      "text/plain": [
       "<Pathway ACETOACETATE-DEG-PWY at 0x7afc67bf8650>"
      ]
     },
     "execution_count": 17,
     "metadata": {},
     "output_type": "execute_result"
    }
   ],
   "source": [
    "from pathlib import Path\n",
    "from cobramod import add_pathway\n",
    "from cobramod.test import textbook\n",
    "# Defining directory\n",
    "dir_data = Path.cwd().resolve().joinpath(\"data\")\n",
    "                                   \n",
    "# Using copy of test model\n",
    "test_model = textbook.copy()\n",
    "\n",
    "add_pathway(\n",
    "    model=test_model,\n",
    "    pathway=\"ACETOACETATE-DEG-PWY\",\n",
    "    database=\"ECOLI\",\n",
    "    compartment=\"c\",\n",
    "    filename=\"summary.txt\",\n",
    "    directory=dir_data,\n",
    ")\n",
    "\n",
    "# Display in jupyter\n",
    "test_model.groups.get_by_id(\"ACETOACETATE-DEG-PWY\")"
   ]
  },
  {
   "cell_type": "markdown",
   "metadata": {
    "id": "37naM0897403"
   },
   "source": [
    "Below is an example of the summary in form of a text file. The first\n",
    "part lists names of all reactions, metabolites, exchange reactions,\n",
    "auxiliary demand and sink reactions, genes, and groups in the model. The second part of the summary lists all elements that were added or removed by the function call `add_pathway()`. "
   ]
  },
  {
   "cell_type": "code",
   "execution_count": 18,
   "metadata": {
    "colab": {
     "base_uri": "https://localhost:8080/"
    },
    "id": "JYMb89t77404",
    "outputId": "37259cb5-0935-48dc-a76c-7da0430cd146"
   },
   "outputs": [
    {
     "name": "stdout",
     "output_type": "stream",
     "text": [
      "Summary:\r\n",
      "Model identifier: e_coli_core\r\n",
      "Model name:\r\n",
      "None\r\n",
      "Reactions:\r\n",
      "['ACALD', 'ACALDt', 'ACKr', 'ACONTa', 'ACONTb', 'ACt2r', 'ADK1', 'AKGDH', 'AKGt2r', 'ALCD2x', 'ATPM', 'ATPS4r', 'Biomass_Ecoli_core', 'CO2t', 'CS', 'CYTBD', 'D_LACt2', 'ENO', 'ETOHt2r', 'FBA', 'FBP', 'FORt2', 'FORti', 'FRD7', 'FRUpts2', 'FUM', 'FUMt2_2', 'G6PDH2r', 'GAPD', 'GLCpts', 'GLNS', 'GLNabc', 'GLUDy', 'GLUN', 'GLUSy', 'GLUt2r', 'GND', 'H2Ot', 'ICDHyr', 'ICL', 'LDH_D', 'MALS', 'MALt2_2', 'MDH', 'ME1', 'ME2', 'NADH16', 'NADTRHD', 'NH4t', 'O2t', 'PDH', 'PFK', 'PFL', 'PGI', 'PGK', 'PGL', 'PGM', 'PIt2r', 'PPC', 'PPCK', 'PPS', 'PTAr', 'PYK', 'PYRt2', 'RPE', 'RPI', 'SUCCt2_2', 'SUCCt3', 'SUCDi', 'SUCOAS', 'TALA', 'THD2', 'TKT1', 'TKT2', 'TPI', 'ACETOACETYL_COA_TRANSFER_RXN_c', 'ACETYL_COA_ACETYLTRANSFER_RXN_c']\r\n",
      "Metabolites:\r\n",
      "['13dpg_c', '2pg_c', '3pg_c', '6pgc_c', '6pgl_c', 'ac_c', 'ac_e', 'acald_c', 'acald_e', 'accoa_c', 'acon_C_c', 'actp_c', 'adp_c', 'akg_c', 'akg_e', 'amp_c', 'atp_c', 'cit_c', 'co2_c', 'co2_e', 'coa_c', 'dhap_c', 'e4p_c', 'etoh_c', 'etoh_e', 'f6p_c', 'fdp_c', 'for_c', 'for_e', 'fru_e', 'fum_c', 'fum_e', 'g3p_c', 'g6p_c', 'glc__D_e', 'gln__L_c', 'gln__L_e', 'glu__L_c', 'glu__L_e', 'glx_c', 'h2o_c', 'h2o_e', 'h_c', 'h_e', 'icit_c', 'lac__D_c', 'lac__D_e', 'mal__L_c', 'mal__L_e', 'nad_c', 'nadh_c', 'nadp_c', 'nadph_c', 'nh4_c', 'nh4_e', 'o2_c', 'o2_e', 'oaa_c', 'pep_c', 'pi_c', 'pi_e', 'pyr_c', 'pyr_e', 'q8_c', 'q8h2_c', 'r5p_c', 'ru5p__D_c', 's7p_c', 'succ_c', 'succ_e', 'succoa_c', 'xu5p__D_c', '3_KETOBUTYRATE_c', 'ACETOACETYL_COA_c']\r\n",
      "Exchange:\r\n",
      "['EX_ac_e', 'EX_acald_e', 'EX_akg_e', 'EX_co2_e', 'EX_etoh_e', 'EX_for_e', 'EX_fru_e', 'EX_fum_e', 'EX_glc__D_e', 'EX_gln__L_e', 'EX_glu__L_e', 'EX_h_e', 'EX_h2o_e', 'EX_lac__D_e', 'EX_mal__L_e', 'EX_nh4_e', 'EX_o2_e', 'EX_pi_e', 'EX_pyr_e', 'EX_succ_e']\r\n",
      "Demand:\r\n",
      "[]\r\n",
      "Sinks:\r\n",
      "['SK_3_KETOBUTYRATE_c', 'SK_accoa_c']\r\n",
      "Genes:\r\n",
      "['b1241', 'b0351', 's0001', 'b3115', 'b1849', 'b2296', 'b1276', 'b0118', 'b0474', 'b0116', 'b0726', 'b0727', 'b2587', 'b0356', 'b1478', 'b3735', 'b3733', 'b3734', 'b3732', 'b3736', 'b3738', 'b3731', 'b3737', 'b3739', 'b0720', 'b0733', 'b0979', 'b0978', 'b0734', 'b2975', 'b3603', 'b2779', 'b1773', 'b2925', 'b2097', 'b4232', 'b3925', 'b0904', 'b2492', 'b4154', 'b4152', 'b4153', 'b4151', 'b1819', 'b1817', 'b2415', 'b1818', 'b2416', 'b1611', 'b4122', 'b1612', 'b3528', 'b1852', 'b1779', 'b1621', 'b1101', 'b2417', 'b3870', 'b1297', 'b0809', 'b0810', 'b0811', 'b1761', 'b1524', 'b1812', 'b0485', 'b3213', 'b3212', 'b4077', 'b2029', 'b0875', 'b1136', 'b4015', 'b2133', 'b1380', 'b4014', 'b2976', 'b3236', 'b1479', 'b2463', 'b2286', 'b2279', 'b2276', 'b2280', 'b2288', 'b2284', 'b2287', 'b2281', 'b2277', 'b2285', 'b2282', 'b2278', 'b2283', 'b3962', 'b1602', 'b1603', 'b0451', 'b0114', 'b0115', 'b3916', 'b1723', 'b0902', 'b0903', 'b2579', 'b3114', 'b3952', 'b3951', 'b4025', 'b2926', 'b0767', 'b0755', 'b3612', 'b4395', 'b3493', 'b2987', 'b3956', 'b3403', 'b1702', 'b2297', 'b2458', 'b1676', 'b1854', 'b4301', 'b3386', 'b2914', 'b4090', 'b0722', 'b0724', 'b0721', 'b0723', 'b0728', 'b0729', 'b2464', 'b0008', 'b2935', 'b2465', 'b3919', 'EG11670', 'EG11669', 'EG12432', 'EG11672']\r\n",
      "Groups:\r\n",
      "['ACETOACETATE-DEG-PWY']\r\n",
      "\r\n",
      "New:\r\n",
      "Reactions:\r\n",
      "['ACETOACETYL_COA_TRANSFER_RXN_c', 'ACETYL_COA_ACETYLTRANSFER_RXN_c']\r\n",
      "Metabolites:\r\n",
      "['3_KETOBUTYRATE_c', 'ACETOACETYL_COA_c']\r\n",
      "Exchange:\r\n",
      "[]\r\n",
      "Demand:\r\n",
      "[]\r\n",
      "Sinks:\r\n",
      "['SK_3_KETOBUTYRATE_c', 'SK_accoa_c']\r\n",
      "Genes:\r\n",
      "['EG11670', 'EG11669', 'EG12432', 'EG11672']\r\n",
      "Groups:\r\n",
      "['ACETOACETATE-DEG-PWY']\r\n",
      "\r\n",
      "Removed:\r\n",
      "Reactions:\r\n",
      "[]\r\n",
      "Metabolites:\r\n",
      "[]\r\n",
      "Exchange:\r\n",
      "[]\r\n",
      "Demand:\r\n",
      "[]\r\n",
      "Sinks:\r\n",
      "[]\r\n",
      "Genes:\r\n",
      "[]\r\n",
      "Groups:\r\n",
      "[]\r\n",
      "\r\n"
     ]
    }
   ],
   "source": [
    "%cat summary.txt"
   ]
  },
  {
   "cell_type": "markdown",
   "metadata": {
    "id": "5E3kqIV17406"
   },
   "source": [
    "In the next example, we use a list of database-specific reaction identifiers as `pathway` argument. We use the database identifier `ECOLI` and the\n",
    "compartment `c` (cytosol). Additionally, we define a pathway name by using the argument `group`. The user can also use this argument to merge pathways by using the same group names."
   ]
  },
  {
   "cell_type": "code",
   "execution_count": 19,
   "metadata": {
    "colab": {
     "base_uri": "https://localhost:8080/",
     "height": 651
    },
    "id": "DXh3EVxU7406",
    "outputId": "7d42e371-ed9e-4617-8ab4-bf38d08daad0"
   },
   "outputs": [
    {
     "name": "stderr",
     "output_type": "stream",
     "text": [
      "\u001b[33mGene-reaction rule for reaction \"PEPDEPHOS-RXN\" set to \"OR\". Please modify it if necessary.\u001b[0m\n"
     ]
    },
    {
     "name": "stdout",
     "output_type": "stream",
     "text": [
      "Number of reaction prior addition: 95\n"
     ]
    },
    {
     "name": "stderr",
     "output_type": "stream",
     "text": [
      "\u001b[33mGene-reaction rule for reaction \"PYRUVFORMLY-RXN\" set to \"OR\". Please modify it if necessary.\u001b[0m\n",
      "\u001b[33mGene-reaction rule for reaction \"FHLMULTI-RXN\" set to \"OR\". Please modify it if necessary.\u001b[0m\n",
      "\u001b[36mNon-zero flux test for reaction 'PEPDEPHOS_RXN_c' passed.\u001b[0m\n",
      "\u001b[36mReaction \"PEPDEPHOS_RXN_c\" added to group \"curated_pathway\".\u001b[0m\n",
      "\u001b[33mThe model cannot turnover the following metabolites ['FORMATE_c']. To overcome this, sink reactions were created to simulate their synthesis.\u001b[0m\n",
      "\u001b[36mNon-zero flux test for reaction 'PYRUVFORMLY_RXN_c' passed.\u001b[0m\n",
      "\u001b[36mReaction \"PYRUVFORMLY_RXN_c\" added to group \"curated_pathway\".\u001b[0m\n",
      "\u001b[36mNon-zero flux test for reaction 'FHLMULTI_RXN_c' passed.\u001b[0m\n",
      "\u001b[36mReaction \"FHLMULTI_RXN_c\" added to group \"curated_pathway\".\u001b[0m\n",
      "\u001b[33mAuxiliary sink reaction for \"SK_FORMATE_c\" created. Consider removing it and adding the synthesis reactions for the metabolite.\u001b[0m\n",
      "\u001b[33mAuxiliary sink reaction for \"SK_HYDROGEN_MOLECULE_c\" created. Consider removing it and adding the synthesis reactions for the metabolite.\u001b[0m\n"
     ]
    },
    {
     "name": "stdout",
     "output_type": "stream",
     "text": [
      "Number of       new   | removed entities in\n",
      "*=====================|===================*\n",
      "Reactions        3    |    0              \n",
      "Metabolites      2    |    0              \n",
      "Exchange         0    |    0              \n",
      "Demand           0    |    0              \n",
      "Sinks            2    |    0              \n",
      "Genes           12    |    0              \n",
      "Groups           1    |    0              \n",
      "\n",
      "Number of reactions after addition: 100\n"
     ]
    },
    {
     "data": {
      "text/html": [
       "\n",
       "<table> <tbody> <tr> <td><strong>Pathway identifier</strong></td>\n",
       "<td>curated_pathway</td> </tr> <tr> <td><strong>Name</strong></td>\n",
       "<td></td> </tr> <tr> <td><strong>Memory address</strong></td>\n",
       "<td>0x0135224490393088</td> </tr> <tr> <td><strong>Reactions involved</strong></td>\n",
       "<td> <p>PYRUVFORMLY_RXN_c, PEPDEPHOS_RXN_c, FHLMULTI_RXN_c</p> </td> </tr> <tr>\n",
       "<td><strong>Genes involved<br /></strong></td> <td> <p>G7627, EG11784, EG10701, EG10804, EG10803, EG10477, EG10480, EG10475, EG10285, EG10476, EG10479, EG10478</p> </td> </tr> <tr>\n",
       "<td><strong>Visualization attributes</strong></td> <td> <ul> <li>vertical =\n",
       "False</li> <li>color_negative = None</li>\n",
       "<li>color_positive = None</li> <li>color_quantile =\n",
       "False</li> </ul> </td> </tr> </tbody> </table> <p>&nbsp;</p>"
      ],
      "text/plain": [
       "<Pathway curated_pathway at 0x7afc67b6fe00>"
      ]
     },
     "execution_count": 19,
     "metadata": {},
     "output_type": "execute_result"
    }
   ],
   "source": [
    "from pathlib import Path\n",
    "from cobramod import add_pathway\n",
    "from cobramod.test import textbook_biocyc\n",
    "# Defining directory\n",
    "dir_data = Path.cwd().resolve().joinpath(\"data\")\n",
    "\n",
    "test_model = textbook_biocyc.copy()\n",
    "# Defining database-specific identifiers\n",
    "sequence = [\"PEPDEPHOS-RXN\", \"PYRUVFORMLY-RXN\", \"FHLMULTI-RXN\"]\n",
    "                                                                \n",
    "print(f'Number of reaction prior addition: {len(test_model.reactions)}')\n",
    "                                                                \n",
    "add_pathway(\n",
    "    model=test_model,\n",
    "    pathway=sequence,\n",
    "    directory=dir_data,\n",
    "    database=\"ECOLI\",\n",
    "    compartment=\"c\",\n",
    "    group=\"curated_pathway\"\n",
    ")\n",
    "\n",
    "print(f'Number of reactions after addition: {len(test_model.reactions)}')\n",
    "# Display in jupyter\n",
    "test_model.groups.get_by_id(\"curated_pathway\")"
   ]
  },
  {
   "cell_type": "markdown",
   "metadata": {
    "id": "wYJWosLv7407"
   },
   "source": [
    "--------------------\n",
    "\n",
    "**NOTES**\n",
    "\n",
    "- A pathway is a set of COBRApy reactions. All the notes listed for `add_metabolites()` and `add_reactions()` also apply to pathways, i. e., handling of duplicate elements, transport reactions and the argument `genome` for KEGG.\n",
    "- CobraMod saves the curation process in the directory `logs`. The logs are saved by date.\n",
    "\n",
    "--------------------\n"
   ]
  },
  {
   "cell_type": "markdown",
   "metadata": {
    "id": "WZ78z82Mgbdl"
   },
   "source": [
    "## Non-zero flux test\n",
    "\n",
    "When calling the function `add_pathway()`, CobraMod tests each reaction of the `Pathway` object for its capability to carry a non-zero flux, i.e., if the involved metabolites can be turned over. Additionally, the user can test individual COBRApy reactions for their capability to cary a non-zero flux by using the function [cobramod.test_non_zero_flux()](\n",
    "module/cobramod/index.html#cobramod.test_non_zero_flux\n",
    ").\n",
    "When running `add_pathway()` CobraMod tries to maximize (minimize if operating backwards) the flux through the tested reaction. If the flux is below [solver tolerance](\n",
    "https://cobrapy.readthedocs.io/en/latest/autoapi/cobra/index.html?highlight=tolerance#cobra.Configuration.tolerance ) CobraMod adds auxiliary\n",
    "[sink reactions](\n",
    "  https://cobrapy.readthedocs.io/en/latest/building_model.html#Exchanges,-Sinks-and-Demands\n",
    ") to all metabolites participating in the reaction and subsequently remove them one by one if the respective metabolites can be turned over by reactions in the model. CobraMod then raises a warning about the remaining auxiliary sink reactions.\n",
    "\n",
    " Based on this information the user can then manually curate the model and if necessary add the missing synthesis reactions for the respective metabolites.\n",
    "If a reaction passes the test CobraMod prints a short message that the test was sucessfully passed.\n",
    "\n",
    "\n",
    "The user can also use the argument `ignore_list` when adding a pathway to skip\n",
    "the non-zero-flux test for the specified reactions.\n",
    "\n",
    "In the following artifical example (*E. coli* is a prokaryote without compartmentation), we introduce the glutathione synthase reaction (`GLUTATHIONE-SYN-RXN`) into a new comparment (`x`) and test the reaction for its capability to carry a non-zero flux. This reaction has the following equation:\n",
    "\n",
    "    ATP_x + GLY_x + L_GAMMA_GLUTAMYLCYSTEINE_x --> ADP_x + GLUTATHIONE_x + PROTON_x + Pi_x\n",
    "\n",
    "Because we are testing a reaction in a new, empty compartment, CobraMod creates auxiliary sink reactions for the involved metabolites and prints a warning."
   ]
  },
  {
   "cell_type": "code",
   "execution_count": 20,
   "metadata": {
    "colab": {
     "base_uri": "https://localhost:8080/",
     "height": 1000
    },
    "id": "1eLXkls4qmph",
    "outputId": "95c55f6a-fcfe-402a-aa7e-ad0e07532f36",
    "scrolled": true
   },
   "outputs": [
    {
     "name": "stderr",
     "output_type": "stream",
     "text": [
      "\u001b[33mGene-reaction rule for reaction \"GLUTATHIONE-SYN-RXN\" set to \"OR\". Please modify it if necessary.\u001b[0m\n",
      "\u001b[33mReaction \"GLUTATHIONE_SYN_RXN_x\" is already present in the model. Skipping additions.\u001b[0m\n",
      "\u001b[36mNon-zero flux test for reaction 'GLUTATHIONE_SYN_RXN_x' passed.\u001b[0m\n",
      "\u001b[33mAuxiliary sink reaction for \"SK_GLUTATHIONE_x\" created. Consider removing it and adding the synthesis reactions for the metabolite.\u001b[0m\n",
      "\u001b[33mAuxiliary sink reaction for \"SK_ADP_x\" created. Consider removing it and adding the synthesis reactions for the metabolite.\u001b[0m\n",
      "\u001b[33mAuxiliary sink reaction for \"SK_PROTON_x\" created. Consider removing it and adding the synthesis reactions for the metabolite.\u001b[0m\n",
      "\u001b[33mAuxiliary sink reaction for \"SK_L_GAMMA_GLUTAMYLCYSTEINE_x\" created. Consider removing it and adding the synthesis reactions for the metabolite.\u001b[0m\n",
      "\u001b[33mAuxiliary sink reaction for \"SK_GLY_x\" created. Consider removing it and adding the synthesis reactions for the metabolite.\u001b[0m\n",
      "\u001b[33mAuxiliary sink reaction for \"SK_ATP_x\" created. Consider removing it and adding the synthesis reactions for the metabolite.\u001b[0m\n",
      "\u001b[33mAuxiliary sink reaction for \"SK_Pi_x\" created. Consider removing it and adding the synthesis reactions for the metabolite.\u001b[0m\n"
     ]
    },
    {
     "name": "stdout",
     "output_type": "stream",
     "text": [
      "Reaction GLUTATHIONE_SYN_RXN_x passed the non-zero-flux test.\n"
     ]
    }
   ],
   "source": [
    "from cobramod import test_non_zero_flux, add_reactions\n",
    "from cobramod.test import textbook_biocyc\n",
    "\n",
    "test_model = textbook_biocyc.copy()\n",
    "\n",
    "# Adding the reaction into the test model\n",
    "add_reactions(\n",
    "    model=test_model,\n",
    "    # The list has 4 metabolites\n",
    "    obj=[\"GLUTATHIONE-SYN-RXN, x\"],\n",
    "    directory=dir_data,\n",
    "    database=\"ECOLI\",\n",
    ")\n",
    "# Running test for GLUTATHIONE_SYN_RXN_x\n",
    "test_non_zero_flux(\n",
    "    model=test_model,\n",
    "    reaction=\"GLUTATHIONE_SYN_RXN_x\",\n",
    ")\n"
   ]
  },
  {
   "cell_type": "markdown",
   "metadata": {
    "id": "XMVGghQRW0dt"
   },
   "source": [
    "## Curation process\n",
    "\n",
    "CobraMod automatically performs the following curation steps during the creation of COBRApy reaction and metabolite objects and CobraMod \n",
    "pathway objects:\n",
    "\n",
    "\n",
    "1. If CobraMod encounters biochemical information (e.g. reactions or metabolites) with missing formulas or entries, a warning is printed and CobraMod informs the user about the missing\n",
    "data. For instance, CobraMod assigns an \"X\" to metabolites with missing\n",
    "formulas.\n",
    "2. When adding a metabolite, reaction or pathway to the model, CobraMod tries\n",
    "to identify if these elements are already present in the model (potentially with a different name) and use the exiting elements instead of creating redundant ones (by checking the cross-reference database entries in the elements's metadata against the model entries).\n",
    "  - In the case of user-defined, curated reactions CobraMod tries to find the respective metabolites in the model. If a metabolites is not found, a warning is printed and the metabolite is created with \"X\" as chemical formula.\n",
    "3. When adding metabolites, reactions or pathways, CobraMod can query [MetaNetX](\n",
    "  https://www.metanetx.org/) and [PubChem](\n",
    "    https://pubchem.ncbi.nlm.nih.gov/) to find cross-references and adds the information\n",
    "  to the corresponding Reactions and Metabolites (See Using the automatic cross-reference expansion in the documentation).\n",
    "4. CobraMod utilizes the COBRApy method [cobra.Reaction.check_mass_balance()](\n",
    "https://cobrapy.readthedocs.io/en/latest/autoapi/cobra/core/reaction/index.html#cobra.core.reaction.Reaction.check_mass_balance \n",
    ") and returns a warning if mass imbalances are found. \n",
    "5. CobraMod uses the reaction reversibility information provided with the obtained reaction data. If the reversibility information is missing, CobraMod raises a warning.\n",
    "6. When CobraMod adds a pathway, each pathway reaction undergos a *non-zero flux test*. If a reaction cannot carry a non-zero flux, CobraMod adds\n",
    "auxiliary sink reactions to unblock the reaction and suggests manual curation steps based on these auxiliary modifications. (See Non-zero flux test in the documentation).\n",
    "7. CobraMod offers the function `add_crossreferences` which queries the genome annotation database [MetaNetX](https://www.metanetx.org/) to adds the missing meta-data about the cross-references."
   ]
  },
  {
   "cell_type": "markdown",
   "metadata": {
    "id": "lndble907408"
   },
   "source": [
    "## Converting COBRApy groups back to CobraMod pathways \n",
    "\n",
    "The COBRApy function [cobra.io.write_sbml_model()](\n",
    "  https://cobrapy.readthedocs.io/en/latest/autoapi/cobra/io/index.html#cobra.io.write_sbml_model\n",
    ") writes cobra models to sbml files. If the user calls this function with a model that contains [cobramod.Pathway](\n",
    "module/cobramod/index.html#cobramod.Pathway\n",
    ") elements these will be saved as [COBRApy Group](\n",
    "  https://cobrapy.readthedocs.io/en/latest/autoapi/cobra/core/group/index.html#cobra.core.group.Group\n",
    ") elements and the CobraMod pathway objects are lost. To convert COBRApy groups back to CobraMod pathways (and use the associated functionalities), the user can call the function [cobramod.model_convert()](\n",
    "module/cobramod/core/pathway/index.html#cobramod.core.pathway.model_convert\n",
    "). In the following example, we create a `Group` with four reactions and add it to the model.\n",
    "We then use the [cobramod.model_convert()](\n",
    "module/cobramod/core/pathway/index.html#cobramod.core.pathway.model_convert\n",
    ") function with the argument `model` and can then call the newly converted respective CobraMod pathway objects."
   ]
  },
  {
   "cell_type": "code",
   "execution_count": 21,
   "metadata": {
    "colab": {
     "base_uri": "https://localhost:8080/",
     "height": 265
    },
    "id": "wu5oKFEe7408",
    "outputId": "82260219-afe0-4dc9-a764-aabd7aa22e41"
   },
   "outputs": [
    {
     "name": "stderr",
     "output_type": "stream",
     "text": [
      "\u001b[36mGroup-object \"curated_pathway\" was transformed to a Pathway-object.\u001b[0m\n"
     ]
    },
    {
     "data": {
      "text/html": [
       "\n",
       "<table> <tbody> <tr> <td><strong>Pathway identifier</strong></td>\n",
       "<td>curated_pathway</td> </tr> <tr> <td><strong>Name</strong></td>\n",
       "<td></td> </tr> <tr> <td><strong>Memory address</strong></td>\n",
       "<td>0x0135225782733520</td> </tr> <tr> <td><strong>Reactions involved</strong></td>\n",
       "<td> <p>GLCpts, G6PDH2r, PGL, GND</p> </td> </tr> <tr>\n",
       "<td><strong>Genes involved<br /></strong></td> <td> <p>b1819, b1621, b1817, b1101, b2415, b2417, b1818, b2416, b1852, b0767, b2029</p> </td> </tr> <tr>\n",
       "<td><strong>Visualization attributes</strong></td> <td> <ul> <li>vertical =\n",
       "False</li> <li>color_negative = None</li>\n",
       "<li>color_positive = None</li> <li>color_quantile =\n",
       "False</li> </ul> </td> </tr> </tbody> </table> <p>&nbsp;</p>"
      ],
      "text/plain": [
       "<Pathway curated_pathway at 0x7afcb4be8ad0>"
      ]
     },
     "execution_count": 21,
     "metadata": {},
     "output_type": "execute_result"
    }
   ],
   "source": [
    "from cobramod import model_convert\n",
    "from cobramod.test import textbook_biocyc\n",
    "from cobra.core.group import Group\n",
    "\n",
    "test_model = textbook_biocyc.copy()\n",
    "# Creation of group\n",
    "test_group = Group(id=\"curated_pathway\")\n",
    "for reaction in (\"GLCpts\", \"G6PDH2r\", \"PGL\", \"GND\"):\n",
    "    test_group.add_members([test_model.reactions.get_by_id(reaction)])\n",
    "test_model.add_groups([test_group])\n",
    "\n",
    "# Conversion to a Pathway\n",
    "model_convert(model=test_model)\n",
    "# Display to Jupyter\n",
    "test_model.groups.get_by_id(\"curated_pathway\")"
   ]
  }
 ],
 "metadata": {
  "celltoolbar": "Tags",
  "colab": {
   "collapsed_sections": [],
   "name": "how_to.ipynb",
   "provenance": []
  },
  "kernelspec": {
   "display_name": "Python 3 (ipykernel)",
   "language": "python",
   "name": "python3"
  },
  "language_info": {
   "codemirror_mode": {
    "name": "ipython",
    "version": 3
   },
   "file_extension": ".py",
   "mimetype": "text/x-python",
   "name": "python",
   "nbconvert_exporter": "python",
   "pygments_lexer": "ipython3",
   "version": "3.12.2"
  },
  "widgets": {
   "application/vnd.jupyter.widget-state+json": {
    "state": {
     "0197759ddeee4dc7a876354ff818870a": {
      "model_module": "escher",
      "model_module_version": "1.7.4",
      "model_name": "EscherMapModel",
      "state": {
       "_loaded_map_json": "[{\"map_name\": \"\", \"map_id\": \"\", \"map_description\": \"\", \"homepage\": \"\", \"schema\": \"https://escher.github.io/escher/jsonschema/1-0-0#\"}, {\"reactions\": {\"0\": {\"name\": \"G6PDH2r\", \"bigg_id\": \"G6PDH2r\", \"reversibility\": true, \"label_x\": 265.0, \"label_y\": 325.0, \"gene_reaction_rule\": \"\", \"genes\": [], \"segments\": {\"0\": {\"from_node_id\": \"5\", \"to_node_id\": \"6\", \"b1\": null, \"b2\": null}, \"1\": {\"from_node_id\": \"7\", \"to_node_id\": \"6\", \"b1\": null, \"b2\": null}, \"2\": {\"from_node_id\": \"0\", \"to_node_id\": \"5\", \"b1\": null, \"b2\": null}, \"3\": {\"from_node_id\": \"1\", \"to_node_id\": \"5\", \"b1\": null, \"b2\": null}, \"4\": {\"from_node_id\": \"2\", \"to_node_id\": \"7\", \"b1\": null, \"b2\": null}, \"5\": {\"from_node_id\": \"3\", \"to_node_id\": \"7\", \"b1\": null, \"b2\": null}, \"6\": {\"from_node_id\": \"4\", \"to_node_id\": \"7\", \"b1\": null, \"b2\": null}}, \"metabolites\": [{\"bigg_id\": \"D_glucopyranose_6_phosphate_c\", \"coefficient\": -1.0}, {\"bigg_id\": \"NADP_c\", \"coefficient\": -1.0}, {\"bigg_id\": \"D_6_P_GLUCONO_DELTA_LACTONE_c\", \"coefficient\": 1.0}, {\"bigg_id\": \"NADPH_c\", \"coefficient\": 1.0}, {\"bigg_id\": \"PROTON_c\", \"coefficient\": 1.0}]}, \"1\": {\"name\": \"PGL\", \"bigg_id\": \"PGL\", \"reversibility\": true, \"label_x\": 265.0, \"label_y\": 975.0, \"gene_reaction_rule\": \"\", \"genes\": [], \"segments\": {\"7\": {\"from_node_id\": \"11\", \"to_node_id\": \"12\", \"b1\": null, \"b2\": null}, \"8\": {\"from_node_id\": \"13\", \"to_node_id\": \"12\", \"b1\": null, \"b2\": null}, \"9\": {\"from_node_id\": \"8\", \"to_node_id\": \"11\", \"b1\": null, \"b2\": null}, \"10\": {\"from_node_id\": \"2\", \"to_node_id\": \"11\", \"b1\": null, \"b2\": null}, \"11\": {\"from_node_id\": \"9\", \"to_node_id\": \"13\", \"b1\": null, \"b2\": null}, \"12\": {\"from_node_id\": \"10\", \"to_node_id\": \"13\", \"b1\": null, \"b2\": null}}, \"metabolites\": [{\"bigg_id\": \"CPD_15815_c\", \"coefficient\": -1.0}, {\"bigg_id\": \"D_6_P_GLUCONO_DELTA_LACTONE_c\", \"coefficient\": -1.0}, {\"bigg_id\": \"CPD_2961_c\", \"coefficient\": 1.0}, {\"bigg_id\": \"PROTON_c\", \"coefficient\": 1.0}]}, \"2\": {\"name\": \"GND\", \"bigg_id\": \"GND\", \"reversibility\": true, \"label_x\": 265.0, \"label_y\": 1625.0, \"gene_reaction_rule\": \"\", \"genes\": [], \"segments\": {\"13\": {\"from_node_id\": \"18\", \"to_node_id\": \"19\", \"b1\": null, \"b2\": null}, \"14\": {\"from_node_id\": \"20\", \"to_node_id\": \"19\", \"b1\": null, \"b2\": null}, \"15\": {\"from_node_id\": \"9\", \"to_node_id\": \"18\", \"b1\": null, \"b2\": null}, \"16\": {\"from_node_id\": \"14\", \"to_node_id\": \"18\", \"b1\": null, \"b2\": null}, \"17\": {\"from_node_id\": \"15\", \"to_node_id\": \"20\", \"b1\": null, \"b2\": null}, \"18\": {\"from_node_id\": \"16\", \"to_node_id\": \"20\", \"b1\": null, \"b2\": null}, \"19\": {\"from_node_id\": \"17\", \"to_node_id\": \"20\", \"b1\": null, \"b2\": null}}, \"metabolites\": [{\"bigg_id\": \"CPD_2961_c\", \"coefficient\": -1.0}, {\"bigg_id\": \"NADP_c\", \"coefficient\": -1.0}, {\"bigg_id\": \"CARBON_DIOXIDE_c\", \"coefficient\": 1.0}, {\"bigg_id\": \"NADPH_c\", \"coefficient\": 1.0}, {\"bigg_id\": \"RIBULOSE_5P_c\", \"coefficient\": 1.0}]}, \"3\": {\"name\": \"GLCpts\", \"bigg_id\": \"GLCpts\", \"reversibility\": true, \"label_x\": 265.0, \"label_y\": 2275.0, \"gene_reaction_rule\": \"\", \"genes\": [], \"segments\": {\"20\": {\"from_node_id\": \"25\", \"to_node_id\": \"26\", \"b1\": null, \"b2\": null}, \"21\": {\"from_node_id\": \"27\", \"to_node_id\": \"26\", \"b1\": null, \"b2\": null}, \"22\": {\"from_node_id\": \"21\", \"to_node_id\": \"25\", \"b1\": null, \"b2\": null}, \"23\": {\"from_node_id\": \"22\", \"to_node_id\": \"25\", \"b1\": null, \"b2\": null}, \"24\": {\"from_node_id\": \"23\", \"to_node_id\": \"27\", \"b1\": null, \"b2\": null}, \"25\": {\"from_node_id\": \"24\", \"to_node_id\": \"27\", \"b1\": null, \"b2\": null}}, \"metabolites\": [{\"bigg_id\": \"Glucopyranose_e\", \"coefficient\": -1.0}, {\"bigg_id\": \"PHOSPHO_ENOL_PYRUVATE_c\", \"coefficient\": -1.0}, {\"bigg_id\": \"D_glucopyranose_6_phosphate_c\", \"coefficient\": 1.0}, {\"bigg_id\": \"PYRUVATE_c\", \"coefficient\": 1.0}]}}, \"nodes\": {\"0\": {\"node_type\": \"metabolite\", \"x\": 150.0, \"y\": 30.0, \"label_x\": 160.0, \"label_y\": 20.0, \"bigg_id\": \"D_glucopyranose_6_phosphate_c\", \"name\": \"D_glucopyranose_6_phosphate_c\", \"node_is_primary\": false}, \"1\": {\"node_type\": \"metabolite\", \"x\": 300.0, \"y\": 30.0, \"label_x\": 310.0, \"label_y\": 20.0, \"bigg_id\": \"NADP_c\", \"name\": \"NADP_c\", \"node_is_primary\": false}, \"2\": {\"node_type\": \"metabolite\", \"x\": 112.5, \"y\": 550.0, \"label_x\": 122.5, \"label_y\": 580.0, \"bigg_id\": \"D_6_P_GLUCONO_DELTA_LACTONE_c\", \"name\": \"D_6_P_GLUCONO_DELTA_LACTONE_c\", \"node_is_primary\": false}, \"3\": {\"node_type\": \"metabolite\", \"x\": 225.0, \"y\": 550.0, \"label_x\": 235.0, \"label_y\": 580.0, \"bigg_id\": \"NADPH_c\", \"name\": \"NADPH_c\", \"node_is_primary\": false}, \"4\": {\"node_type\": \"metabolite\", \"x\": 337.5, \"y\": 550.0, \"label_x\": 347.5, \"label_y\": 580.0, \"bigg_id\": \"PROTON_c\", \"name\": \"PROTON_c\", \"node_is_primary\": false}, \"5\": {\"node_type\": \"multimarker\", \"x\": 225.0, \"y\": 305.0}, \"6\": {\"node_type\": \"midmarker\", \"x\": 225.0, \"y\": 325.0}, \"7\": {\"node_type\": \"multimarker\", \"x\": 225.0, \"y\": 345.0}, \"8\": {\"node_type\": \"metabolite\", \"x\": 150.0, \"y\": 680.0, \"label_x\": 160.0, \"label_y\": 670.0, \"bigg_id\": \"CPD_15815_c\", \"name\": \"CPD_15815_c\", \"node_is_primary\": false}, \"9\": {\"node_type\": \"metabolite\", \"x\": 150.0, \"y\": 1200.0, \"label_x\": 160.0, \"label_y\": 1230.0, \"bigg_id\": \"CPD_2961_c\", \"name\": \"CPD_2961_c\", \"node_is_primary\": false}, \"10\": {\"node_type\": \"metabolite\", \"x\": 300.0, \"y\": 1200.0, \"label_x\": 310.0, \"label_y\": 1230.0, \"bigg_id\": \"PROTON_c\", \"name\": \"PROTON_c\", \"node_is_primary\": false}, \"11\": {\"node_type\": \"multimarker\", \"x\": 225.0, \"y\": 955.0}, \"12\": {\"node_type\": \"midmarker\", \"x\": 225.0, \"y\": 975.0}, \"13\": {\"node_type\": \"multimarker\", \"x\": 225.0, \"y\": 995.0}, \"14\": {\"node_type\": \"metabolite\", \"x\": 300.0, \"y\": 1330.0, \"label_x\": 310.0, \"label_y\": 1320.0, \"bigg_id\": \"NADP_c\", \"name\": \"NADP_c\", \"node_is_primary\": false}, \"15\": {\"node_type\": \"metabolite\", \"x\": 112.5, \"y\": 1850.0, \"label_x\": 122.5, \"label_y\": 1880.0, \"bigg_id\": \"CARBON_DIOXIDE_c\", \"name\": \"CARBON_DIOXIDE_c\", \"node_is_primary\": false}, \"16\": {\"node_type\": \"metabolite\", \"x\": 225.0, \"y\": 1850.0, \"label_x\": 235.0, \"label_y\": 1880.0, \"bigg_id\": \"NADPH_c\", \"name\": \"NADPH_c\", \"node_is_primary\": false}, \"17\": {\"node_type\": \"metabolite\", \"x\": 337.5, \"y\": 1850.0, \"label_x\": 347.5, \"label_y\": 1880.0, \"bigg_id\": \"RIBULOSE_5P_c\", \"name\": \"RIBULOSE_5P_c\", \"node_is_primary\": false}, \"18\": {\"node_type\": \"multimarker\", \"x\": 225.0, \"y\": 1605.0}, \"19\": {\"node_type\": \"midmarker\", \"x\": 225.0, \"y\": 1625.0}, \"20\": {\"node_type\": \"multimarker\", \"x\": 225.0, \"y\": 1645.0}, \"21\": {\"node_type\": \"metabolite\", \"x\": 150.0, \"y\": 1980.0, \"label_x\": 160.0, \"label_y\": 1970.0, \"bigg_id\": \"Glucopyranose_e\", \"name\": \"Glucopyranose_e\", \"node_is_primary\": false}, \"22\": {\"node_type\": \"metabolite\", \"x\": 300.0, \"y\": 1980.0, \"label_x\": 310.0, \"label_y\": 1970.0, \"bigg_id\": \"PHOSPHO_ENOL_PYRUVATE_c\", \"name\": \"PHOSPHO_ENOL_PYRUVATE_c\", \"node_is_primary\": false}, \"23\": {\"node_type\": \"metabolite\", \"x\": 150.0, \"y\": 2500.0, \"label_x\": 160.0, \"label_y\": 2530.0, \"bigg_id\": \"D_glucopyranose_6_phosphate_c\", \"name\": \"D_glucopyranose_6_phosphate_c\", \"node_is_primary\": false}, \"24\": {\"node_type\": \"metabolite\", \"x\": 300.0, \"y\": 2500.0, \"label_x\": 310.0, \"label_y\": 2530.0, \"bigg_id\": \"PYRUVATE_c\", \"name\": \"PYRUVATE_c\", \"node_is_primary\": false}, \"25\": {\"node_type\": \"multimarker\", \"x\": 225.0, \"y\": 2255.0}, \"26\": {\"node_type\": \"midmarker\", \"x\": 225.0, \"y\": 2275.0}, \"27\": {\"node_type\": \"multimarker\", \"x\": 225.0, \"y\": 2295.0}}, \"text_labels\": {}, \"canvas\": {\"x\": 0, \"y\": 0, \"width\": 450, \"height\": 2600}}]",
       "_loaded_model_json": null,
       "allow_building_duplicate_reactions": null,
       "and_method_in_gene_reaction_rule": null,
       "canvas_size_and_loc": null,
       "cofactors": null,
       "disabled_buttons": null,
       "embedded_css": null,
       "enable_editing": null,
       "enable_keys": false,
       "enable_keys_with_tooltip": null,
       "enable_search": null,
       "enable_tooltips": false,
       "full_screen_button": {
        "enable_editing": true,
        "enable_keys": true,
        "enable_tooltips": [
         "label"
        ],
        "menu": "all",
        "scroll_behavior": "pan"
       },
       "gene_data": null,
       "gene_font_size": null,
       "height": 500,
       "hide_all_labels": null,
       "hide_secondary_metabolites": null,
       "highlight_missing": null,
       "identifiers_on_map": null,
       "layout": "IPY_MODEL_6114c282eb6a49d5ae179677358a7255",
       "marker_radius": null,
       "menu": null,
       "metabolite_compare_style": null,
       "metabolite_data": null,
       "metabolite_no_data_color": null,
       "metabolite_no_data_size": null,
       "metabolite_scale": null,
       "metabolite_scale_preset": null,
       "metabolite_styles": null,
       "never_ask_before_quit": true,
       "primary_metabolite_radius": null,
       "reaction_compare_style": null,
       "reaction_data": {
        "G6PDH2r": -2,
        "GLCpts": -2,
        "GND": 1,
        "PGL": 0.4
       },
       "reaction_no_data_color": null,
       "reaction_no_data_size": null,
       "reaction_scale": [
        {
         "color": "rgb(220,220,220)",
         "type": "value",
         "value": 0.5
        },
        {
         "color": "rgb(220,220,220)",
         "type": "value",
         "value": 1
        },
        {
         "color": "rgb(220,220,220)",
         "type": "value",
         "value": 0
        },
        {
         "color": "rgb(220,220,220)",
         "type": "value",
         "value": -1
        },
        {
         "color": "rgb(220,220,220)",
         "type": "value",
         "value": -2
        }
       ],
       "reaction_scale_preset": null,
       "reaction_styles": [
        "color",
        "text"
       ],
       "scroll_behavior": "none",
       "secondary_metabolite_radius": null,
       "semantic_zoom": null,
       "show_gene_reaction_rules": null,
       "starting_reaction": null,
       "use_3d_transform": null,
       "zoom_to_element": null
      }
     },
     "02fa50f1337e411dabffe5733c826dd0": {
      "model_module": "@jupyter-widgets/base",
      "model_module_version": "1.2.0",
      "model_name": "LayoutModel",
      "state": {}
     },
     "046b03b6a9df43fd88331d4e96f47c42": {
      "model_module": "escher",
      "model_module_version": "1.7.4",
      "model_name": "EscherMapModel",
      "state": {
       "_loaded_map_json": "[{\"map_name\": \"\", \"map_id\": \"\", \"map_description\": \"\", \"homepage\": \"\", \"schema\": \"https://escher.github.io/escher/jsonschema/1-0-0#\"}, {\"reactions\": {\"0\": {\"name\": \"G6PDH2r\", \"bigg_id\": \"G6PDH2r\", \"reversibility\": true, \"label_x\": 265.0, \"label_y\": 325.0, \"gene_reaction_rule\": \"\", \"genes\": [], \"segments\": {\"0\": {\"from_node_id\": \"5\", \"to_node_id\": \"6\", \"b1\": null, \"b2\": null}, \"1\": {\"from_node_id\": \"7\", \"to_node_id\": \"6\", \"b1\": null, \"b2\": null}, \"2\": {\"from_node_id\": \"0\", \"to_node_id\": \"5\", \"b1\": null, \"b2\": null}, \"3\": {\"from_node_id\": \"1\", \"to_node_id\": \"5\", \"b1\": null, \"b2\": null}, \"4\": {\"from_node_id\": \"2\", \"to_node_id\": \"7\", \"b1\": null, \"b2\": null}, \"5\": {\"from_node_id\": \"3\", \"to_node_id\": \"7\", \"b1\": null, \"b2\": null}, \"6\": {\"from_node_id\": \"4\", \"to_node_id\": \"7\", \"b1\": null, \"b2\": null}}, \"metabolites\": [{\"bigg_id\": \"D_glucopyranose_6_phosphate_c\", \"coefficient\": -1.0}, {\"bigg_id\": \"NADP_c\", \"coefficient\": -1.0}, {\"bigg_id\": \"D_6_P_GLUCONO_DELTA_LACTONE_c\", \"coefficient\": 1.0}, {\"bigg_id\": \"NADPH_c\", \"coefficient\": 1.0}, {\"bigg_id\": \"PROTON_c\", \"coefficient\": 1.0}]}, \"1\": {\"name\": \"PGL\", \"bigg_id\": \"PGL\", \"reversibility\": true, \"label_x\": 265.0, \"label_y\": 975.0, \"gene_reaction_rule\": \"\", \"genes\": [], \"segments\": {\"7\": {\"from_node_id\": \"11\", \"to_node_id\": \"12\", \"b1\": null, \"b2\": null}, \"8\": {\"from_node_id\": \"13\", \"to_node_id\": \"12\", \"b1\": null, \"b2\": null}, \"9\": {\"from_node_id\": \"8\", \"to_node_id\": \"11\", \"b1\": null, \"b2\": null}, \"10\": {\"from_node_id\": \"2\", \"to_node_id\": \"11\", \"b1\": null, \"b2\": null}, \"11\": {\"from_node_id\": \"9\", \"to_node_id\": \"13\", \"b1\": null, \"b2\": null}, \"12\": {\"from_node_id\": \"10\", \"to_node_id\": \"13\", \"b1\": null, \"b2\": null}}, \"metabolites\": [{\"bigg_id\": \"CPD_15815_c\", \"coefficient\": -1.0}, {\"bigg_id\": \"D_6_P_GLUCONO_DELTA_LACTONE_c\", \"coefficient\": -1.0}, {\"bigg_id\": \"CPD_2961_c\", \"coefficient\": 1.0}, {\"bigg_id\": \"PROTON_c\", \"coefficient\": 1.0}]}, \"2\": {\"name\": \"GND\", \"bigg_id\": \"GND\", \"reversibility\": true, \"label_x\": 265.0, \"label_y\": 1625.0, \"gene_reaction_rule\": \"\", \"genes\": [], \"segments\": {\"13\": {\"from_node_id\": \"18\", \"to_node_id\": \"19\", \"b1\": null, \"b2\": null}, \"14\": {\"from_node_id\": \"20\", \"to_node_id\": \"19\", \"b1\": null, \"b2\": null}, \"15\": {\"from_node_id\": \"9\", \"to_node_id\": \"18\", \"b1\": null, \"b2\": null}, \"16\": {\"from_node_id\": \"14\", \"to_node_id\": \"18\", \"b1\": null, \"b2\": null}, \"17\": {\"from_node_id\": \"15\", \"to_node_id\": \"20\", \"b1\": null, \"b2\": null}, \"18\": {\"from_node_id\": \"16\", \"to_node_id\": \"20\", \"b1\": null, \"b2\": null}, \"19\": {\"from_node_id\": \"17\", \"to_node_id\": \"20\", \"b1\": null, \"b2\": null}}, \"metabolites\": [{\"bigg_id\": \"CPD_2961_c\", \"coefficient\": -1.0}, {\"bigg_id\": \"NADP_c\", \"coefficient\": -1.0}, {\"bigg_id\": \"CARBON_DIOXIDE_c\", \"coefficient\": 1.0}, {\"bigg_id\": \"NADPH_c\", \"coefficient\": 1.0}, {\"bigg_id\": \"RIBULOSE_5P_c\", \"coefficient\": 1.0}]}, \"3\": {\"name\": \"GLCpts\", \"bigg_id\": \"GLCpts\", \"reversibility\": true, \"label_x\": 265.0, \"label_y\": 2275.0, \"gene_reaction_rule\": \"\", \"genes\": [], \"segments\": {\"20\": {\"from_node_id\": \"25\", \"to_node_id\": \"26\", \"b1\": null, \"b2\": null}, \"21\": {\"from_node_id\": \"27\", \"to_node_id\": \"26\", \"b1\": null, \"b2\": null}, \"22\": {\"from_node_id\": \"21\", \"to_node_id\": \"25\", \"b1\": null, \"b2\": null}, \"23\": {\"from_node_id\": \"22\", \"to_node_id\": \"25\", \"b1\": null, \"b2\": null}, \"24\": {\"from_node_id\": \"23\", \"to_node_id\": \"27\", \"b1\": null, \"b2\": null}, \"25\": {\"from_node_id\": \"24\", \"to_node_id\": \"27\", \"b1\": null, \"b2\": null}}, \"metabolites\": [{\"bigg_id\": \"Glucopyranose_e\", \"coefficient\": -1.0}, {\"bigg_id\": \"PHOSPHO_ENOL_PYRUVATE_c\", \"coefficient\": -1.0}, {\"bigg_id\": \"D_glucopyranose_6_phosphate_c\", \"coefficient\": 1.0}, {\"bigg_id\": \"PYRUVATE_c\", \"coefficient\": 1.0}]}}, \"nodes\": {\"0\": {\"node_type\": \"metabolite\", \"x\": 150.0, \"y\": 30.0, \"label_x\": 160.0, \"label_y\": 20.0, \"bigg_id\": \"D_glucopyranose_6_phosphate_c\", \"name\": \"D_glucopyranose_6_phosphate_c\", \"node_is_primary\": false}, \"1\": {\"node_type\": \"metabolite\", \"x\": 300.0, \"y\": 30.0, \"label_x\": 310.0, \"label_y\": 20.0, \"bigg_id\": \"NADP_c\", \"name\": \"NADP_c\", \"node_is_primary\": false}, \"2\": {\"node_type\": \"metabolite\", \"x\": 112.5, \"y\": 550.0, \"label_x\": 122.5, \"label_y\": 580.0, \"bigg_id\": \"D_6_P_GLUCONO_DELTA_LACTONE_c\", \"name\": \"D_6_P_GLUCONO_DELTA_LACTONE_c\", \"node_is_primary\": false}, \"3\": {\"node_type\": \"metabolite\", \"x\": 225.0, \"y\": 550.0, \"label_x\": 235.0, \"label_y\": 580.0, \"bigg_id\": \"NADPH_c\", \"name\": \"NADPH_c\", \"node_is_primary\": false}, \"4\": {\"node_type\": \"metabolite\", \"x\": 337.5, \"y\": 550.0, \"label_x\": 347.5, \"label_y\": 580.0, \"bigg_id\": \"PROTON_c\", \"name\": \"PROTON_c\", \"node_is_primary\": false}, \"5\": {\"node_type\": \"multimarker\", \"x\": 225.0, \"y\": 305.0}, \"6\": {\"node_type\": \"midmarker\", \"x\": 225.0, \"y\": 325.0}, \"7\": {\"node_type\": \"multimarker\", \"x\": 225.0, \"y\": 345.0}, \"8\": {\"node_type\": \"metabolite\", \"x\": 150.0, \"y\": 680.0, \"label_x\": 160.0, \"label_y\": 670.0, \"bigg_id\": \"CPD_15815_c\", \"name\": \"CPD_15815_c\", \"node_is_primary\": false}, \"9\": {\"node_type\": \"metabolite\", \"x\": 150.0, \"y\": 1200.0, \"label_x\": 160.0, \"label_y\": 1230.0, \"bigg_id\": \"CPD_2961_c\", \"name\": \"CPD_2961_c\", \"node_is_primary\": false}, \"10\": {\"node_type\": \"metabolite\", \"x\": 300.0, \"y\": 1200.0, \"label_x\": 310.0, \"label_y\": 1230.0, \"bigg_id\": \"PROTON_c\", \"name\": \"PROTON_c\", \"node_is_primary\": false}, \"11\": {\"node_type\": \"multimarker\", \"x\": 225.0, \"y\": 955.0}, \"12\": {\"node_type\": \"midmarker\", \"x\": 225.0, \"y\": 975.0}, \"13\": {\"node_type\": \"multimarker\", \"x\": 225.0, \"y\": 995.0}, \"14\": {\"node_type\": \"metabolite\", \"x\": 300.0, \"y\": 1330.0, \"label_x\": 310.0, \"label_y\": 1320.0, \"bigg_id\": \"NADP_c\", \"name\": \"NADP_c\", \"node_is_primary\": false}, \"15\": {\"node_type\": \"metabolite\", \"x\": 112.5, \"y\": 1850.0, \"label_x\": 122.5, \"label_y\": 1880.0, \"bigg_id\": \"CARBON_DIOXIDE_c\", \"name\": \"CARBON_DIOXIDE_c\", \"node_is_primary\": false}, \"16\": {\"node_type\": \"metabolite\", \"x\": 225.0, \"y\": 1850.0, \"label_x\": 235.0, \"label_y\": 1880.0, \"bigg_id\": \"NADPH_c\", \"name\": \"NADPH_c\", \"node_is_primary\": false}, \"17\": {\"node_type\": \"metabolite\", \"x\": 337.5, \"y\": 1850.0, \"label_x\": 347.5, \"label_y\": 1880.0, \"bigg_id\": \"RIBULOSE_5P_c\", \"name\": \"RIBULOSE_5P_c\", \"node_is_primary\": false}, \"18\": {\"node_type\": \"multimarker\", \"x\": 225.0, \"y\": 1605.0}, \"19\": {\"node_type\": \"midmarker\", \"x\": 225.0, \"y\": 1625.0}, \"20\": {\"node_type\": \"multimarker\", \"x\": 225.0, \"y\": 1645.0}, \"21\": {\"node_type\": \"metabolite\", \"x\": 150.0, \"y\": 1980.0, \"label_x\": 160.0, \"label_y\": 1970.0, \"bigg_id\": \"Glucopyranose_e\", \"name\": \"Glucopyranose_e\", \"node_is_primary\": false}, \"22\": {\"node_type\": \"metabolite\", \"x\": 300.0, \"y\": 1980.0, \"label_x\": 310.0, \"label_y\": 1970.0, \"bigg_id\": \"PHOSPHO_ENOL_PYRUVATE_c\", \"name\": \"PHOSPHO_ENOL_PYRUVATE_c\", \"node_is_primary\": false}, \"23\": {\"node_type\": \"metabolite\", \"x\": 150.0, \"y\": 2500.0, \"label_x\": 160.0, \"label_y\": 2530.0, \"bigg_id\": \"D_glucopyranose_6_phosphate_c\", \"name\": \"D_glucopyranose_6_phosphate_c\", \"node_is_primary\": false}, \"24\": {\"node_type\": \"metabolite\", \"x\": 300.0, \"y\": 2500.0, \"label_x\": 310.0, \"label_y\": 2530.0, \"bigg_id\": \"PYRUVATE_c\", \"name\": \"PYRUVATE_c\", \"node_is_primary\": false}, \"25\": {\"node_type\": \"multimarker\", \"x\": 225.0, \"y\": 2255.0}, \"26\": {\"node_type\": \"midmarker\", \"x\": 225.0, \"y\": 2275.0}, \"27\": {\"node_type\": \"multimarker\", \"x\": 225.0, \"y\": 2295.0}}, \"text_labels\": {}, \"canvas\": {\"x\": 0, \"y\": 0, \"width\": 450, \"height\": 2600}}]",
       "_loaded_model_json": null,
       "allow_building_duplicate_reactions": null,
       "and_method_in_gene_reaction_rule": null,
       "canvas_size_and_loc": null,
       "cofactors": null,
       "disabled_buttons": null,
       "embedded_css": null,
       "enable_editing": null,
       "enable_keys": false,
       "enable_keys_with_tooltip": null,
       "enable_search": null,
       "enable_tooltips": false,
       "full_screen_button": {
        "enable_editing": true,
        "enable_keys": true,
        "enable_tooltips": [
         "label"
        ],
        "menu": "all",
        "scroll_behavior": "pan"
       },
       "gene_data": null,
       "gene_font_size": null,
       "height": 500,
       "hide_all_labels": null,
       "hide_secondary_metabolites": null,
       "highlight_missing": null,
       "identifiers_on_map": null,
       "layout": "IPY_MODEL_e57dfaa7eb364f6c86e294e1c07bcebc",
       "marker_radius": null,
       "menu": null,
       "metabolite_compare_style": null,
       "metabolite_data": null,
       "metabolite_no_data_color": null,
       "metabolite_no_data_size": null,
       "metabolite_scale": null,
       "metabolite_scale_preset": null,
       "metabolite_styles": null,
       "never_ask_before_quit": true,
       "primary_metabolite_radius": null,
       "reaction_compare_style": null,
       "reaction_data": null,
       "reaction_no_data_color": null,
       "reaction_no_data_size": null,
       "reaction_scale": {},
       "reaction_scale_preset": null,
       "reaction_styles": [
        "color",
        "text"
       ],
       "scroll_behavior": "none",
       "secondary_metabolite_radius": null,
       "semantic_zoom": null,
       "show_gene_reaction_rules": null,
       "starting_reaction": null,
       "use_3d_transform": null,
       "zoom_to_element": null
      }
     },
     "058ce94431864e288ffa4f61d4963134": {
      "model_module": "escher",
      "model_module_version": "1.7.4",
      "model_name": "EscherMapModel",
      "state": {
       "_loaded_map_json": "[{\"map_name\": \"\", \"map_id\": \"\", \"map_description\": \"\", \"homepage\": \"\", \"schema\": \"https://escher.github.io/escher/jsonschema/1-0-0#\"}, {\"reactions\": {\"0\": {\"name\": \"GLCpts\", \"bigg_id\": \"GLCpts\", \"reversibility\": true, \"label_x\": 265.0, \"label_y\": 325.0, \"gene_reaction_rule\": \"\", \"genes\": [], \"segments\": {\"0\": {\"from_node_id\": \"4\", \"to_node_id\": \"5\", \"b1\": null, \"b2\": null}, \"1\": {\"from_node_id\": \"6\", \"to_node_id\": \"5\", \"b1\": null, \"b2\": null}, \"2\": {\"from_node_id\": \"0\", \"to_node_id\": \"4\", \"b1\": null, \"b2\": null}, \"3\": {\"from_node_id\": \"1\", \"to_node_id\": \"4\", \"b1\": null, \"b2\": null}, \"4\": {\"from_node_id\": \"2\", \"to_node_id\": \"6\", \"b1\": null, \"b2\": null}, \"5\": {\"from_node_id\": \"3\", \"to_node_id\": \"6\", \"b1\": null, \"b2\": null}}, \"metabolites\": [{\"bigg_id\": \"Glucopyranose_e\", \"coefficient\": -1.0}, {\"bigg_id\": \"PHOSPHO_ENOL_PYRUVATE_c\", \"coefficient\": -1.0}, {\"bigg_id\": \"D_glucopyranose_6_phosphate_c\", \"coefficient\": 1.0}, {\"bigg_id\": \"PYRUVATE_c\", \"coefficient\": 1.0}]}, \"1\": {\"name\": \"GND\", \"bigg_id\": \"GND\", \"reversibility\": true, \"label_x\": 265.0, \"label_y\": 975.0, \"gene_reaction_rule\": \"\", \"genes\": [], \"segments\": {\"6\": {\"from_node_id\": \"12\", \"to_node_id\": \"13\", \"b1\": null, \"b2\": null}, \"7\": {\"from_node_id\": \"14\", \"to_node_id\": \"13\", \"b1\": null, \"b2\": null}, \"8\": {\"from_node_id\": \"7\", \"to_node_id\": \"12\", \"b1\": null, \"b2\": null}, \"9\": {\"from_node_id\": \"8\", \"to_node_id\": \"12\", \"b1\": null, \"b2\": null}, \"10\": {\"from_node_id\": \"9\", \"to_node_id\": \"14\", \"b1\": null, \"b2\": null}, \"11\": {\"from_node_id\": \"10\", \"to_node_id\": \"14\", \"b1\": null, \"b2\": null}, \"12\": {\"from_node_id\": \"11\", \"to_node_id\": \"14\", \"b1\": null, \"b2\": null}}, \"metabolites\": [{\"bigg_id\": \"CPD_2961_c\", \"coefficient\": -1.0}, {\"bigg_id\": \"NADP_c\", \"coefficient\": -1.0}, {\"bigg_id\": \"CARBON_DIOXIDE_c\", \"coefficient\": 1.0}, {\"bigg_id\": \"NADPH_c\", \"coefficient\": 1.0}, {\"bigg_id\": \"RIBULOSE_5P_c\", \"coefficient\": 1.0}]}, \"2\": {\"name\": \"PGL\", \"bigg_id\": \"PGL\", \"reversibility\": true, \"label_x\": 265.0, \"label_y\": 1625.0, \"gene_reaction_rule\": \"\", \"genes\": [], \"segments\": {\"13\": {\"from_node_id\": \"19\", \"to_node_id\": \"20\", \"b1\": null, \"b2\": null}, \"14\": {\"from_node_id\": \"21\", \"to_node_id\": \"20\", \"b1\": null, \"b2\": null}, \"15\": {\"from_node_id\": \"15\", \"to_node_id\": \"19\", \"b1\": null, \"b2\": null}, \"16\": {\"from_node_id\": \"16\", \"to_node_id\": \"19\", \"b1\": null, \"b2\": null}, \"17\": {\"from_node_id\": \"17\", \"to_node_id\": \"21\", \"b1\": null, \"b2\": null}, \"18\": {\"from_node_id\": \"18\", \"to_node_id\": \"21\", \"b1\": null, \"b2\": null}}, \"metabolites\": [{\"bigg_id\": \"CPD_15815_c\", \"coefficient\": -1.0}, {\"bigg_id\": \"D_6_P_GLUCONO_DELTA_LACTONE_c\", \"coefficient\": -1.0}, {\"bigg_id\": \"CPD_2961_c\", \"coefficient\": 1.0}, {\"bigg_id\": \"PROTON_c\", \"coefficient\": 1.0}]}, \"3\": {\"name\": \"G6PDH2r\", \"bigg_id\": \"G6PDH2r\", \"reversibility\": true, \"label_x\": 265.0, \"label_y\": 2275.0, \"gene_reaction_rule\": \"\", \"genes\": [], \"segments\": {\"19\": {\"from_node_id\": \"27\", \"to_node_id\": \"28\", \"b1\": null, \"b2\": null}, \"20\": {\"from_node_id\": \"29\", \"to_node_id\": \"28\", \"b1\": null, \"b2\": null}, \"21\": {\"from_node_id\": \"22\", \"to_node_id\": \"27\", \"b1\": null, \"b2\": null}, \"22\": {\"from_node_id\": \"23\", \"to_node_id\": \"27\", \"b1\": null, \"b2\": null}, \"23\": {\"from_node_id\": \"24\", \"to_node_id\": \"29\", \"b1\": null, \"b2\": null}, \"24\": {\"from_node_id\": \"25\", \"to_node_id\": \"29\", \"b1\": null, \"b2\": null}, \"25\": {\"from_node_id\": \"26\", \"to_node_id\": \"29\", \"b1\": null, \"b2\": null}}, \"metabolites\": [{\"bigg_id\": \"D_glucopyranose_6_phosphate_c\", \"coefficient\": -1.0}, {\"bigg_id\": \"NADP_c\", \"coefficient\": -1.0}, {\"bigg_id\": \"D_6_P_GLUCONO_DELTA_LACTONE_c\", \"coefficient\": 1.0}, {\"bigg_id\": \"NADPH_c\", \"coefficient\": 1.0}, {\"bigg_id\": \"PROTON_c\", \"coefficient\": 1.0}]}}, \"nodes\": {\"0\": {\"node_type\": \"metabolite\", \"x\": 150.0, \"y\": 30.0, \"label_x\": 160.0, \"label_y\": 20.0, \"bigg_id\": \"Glucopyranose_e\", \"name\": \"Glucopyranose_e\", \"node_is_primary\": false}, \"1\": {\"node_type\": \"metabolite\", \"x\": 300.0, \"y\": 30.0, \"label_x\": 310.0, \"label_y\": 20.0, \"bigg_id\": \"PHOSPHO_ENOL_PYRUVATE_c\", \"name\": \"PHOSPHO_ENOL_PYRUVATE_c\", \"node_is_primary\": false}, \"2\": {\"node_type\": \"metabolite\", \"x\": 150.0, \"y\": 550.0, \"label_x\": 160.0, \"label_y\": 580.0, \"bigg_id\": \"D_glucopyranose_6_phosphate_c\", \"name\": \"D_glucopyranose_6_phosphate_c\", \"node_is_primary\": false}, \"3\": {\"node_type\": \"metabolite\", \"x\": 300.0, \"y\": 550.0, \"label_x\": 310.0, \"label_y\": 580.0, \"bigg_id\": \"PYRUVATE_c\", \"name\": \"PYRUVATE_c\", \"node_is_primary\": false}, \"4\": {\"node_type\": \"multimarker\", \"x\": 225.0, \"y\": 305.0}, \"5\": {\"node_type\": \"midmarker\", \"x\": 225.0, \"y\": 325.0}, \"6\": {\"node_type\": \"multimarker\", \"x\": 225.0, \"y\": 345.0}, \"7\": {\"node_type\": \"metabolite\", \"x\": 150.0, \"y\": 680.0, \"label_x\": 160.0, \"label_y\": 670.0, \"bigg_id\": \"CPD_2961_c\", \"name\": \"CPD_2961_c\", \"node_is_primary\": false}, \"8\": {\"node_type\": \"metabolite\", \"x\": 300.0, \"y\": 680.0, \"label_x\": 310.0, \"label_y\": 670.0, \"bigg_id\": \"NADP_c\", \"name\": \"NADP_c\", \"node_is_primary\": false}, \"9\": {\"node_type\": \"metabolite\", \"x\": 112.5, \"y\": 1200.0, \"label_x\": 122.5, \"label_y\": 1230.0, \"bigg_id\": \"CARBON_DIOXIDE_c\", \"name\": \"CARBON_DIOXIDE_c\", \"node_is_primary\": false}, \"10\": {\"node_type\": \"metabolite\", \"x\": 225.0, \"y\": 1200.0, \"label_x\": 235.0, \"label_y\": 1230.0, \"bigg_id\": \"NADPH_c\", \"name\": \"NADPH_c\", \"node_is_primary\": false}, \"11\": {\"node_type\": \"metabolite\", \"x\": 337.5, \"y\": 1200.0, \"label_x\": 347.5, \"label_y\": 1230.0, \"bigg_id\": \"RIBULOSE_5P_c\", \"name\": \"RIBULOSE_5P_c\", \"node_is_primary\": false}, \"12\": {\"node_type\": \"multimarker\", \"x\": 225.0, \"y\": 955.0}, \"13\": {\"node_type\": \"midmarker\", \"x\": 225.0, \"y\": 975.0}, \"14\": {\"node_type\": \"multimarker\", \"x\": 225.0, \"y\": 995.0}, \"15\": {\"node_type\": \"metabolite\", \"x\": 150.0, \"y\": 1330.0, \"label_x\": 160.0, \"label_y\": 1320.0, \"bigg_id\": \"CPD_15815_c\", \"name\": \"CPD_15815_c\", \"node_is_primary\": false}, \"16\": {\"node_type\": \"metabolite\", \"x\": 300.0, \"y\": 1330.0, \"label_x\": 310.0, \"label_y\": 1320.0, \"bigg_id\": \"D_6_P_GLUCONO_DELTA_LACTONE_c\", \"name\": \"D_6_P_GLUCONO_DELTA_LACTONE_c\", \"node_is_primary\": false}, \"17\": {\"node_type\": \"metabolite\", \"x\": 150.0, \"y\": 1850.0, \"label_x\": 160.0, \"label_y\": 1880.0, \"bigg_id\": \"CPD_2961_c\", \"name\": \"CPD_2961_c\", \"node_is_primary\": false}, \"18\": {\"node_type\": \"metabolite\", \"x\": 300.0, \"y\": 1850.0, \"label_x\": 310.0, \"label_y\": 1880.0, \"bigg_id\": \"PROTON_c\", \"name\": \"PROTON_c\", \"node_is_primary\": false}, \"19\": {\"node_type\": \"multimarker\", \"x\": 225.0, \"y\": 1605.0}, \"20\": {\"node_type\": \"midmarker\", \"x\": 225.0, \"y\": 1625.0}, \"21\": {\"node_type\": \"multimarker\", \"x\": 225.0, \"y\": 1645.0}, \"22\": {\"node_type\": \"metabolite\", \"x\": 150.0, \"y\": 1980.0, \"label_x\": 160.0, \"label_y\": 1970.0, \"bigg_id\": \"D_glucopyranose_6_phosphate_c\", \"name\": \"D_glucopyranose_6_phosphate_c\", \"node_is_primary\": false}, \"23\": {\"node_type\": \"metabolite\", \"x\": 300.0, \"y\": 1980.0, \"label_x\": 310.0, \"label_y\": 1970.0, \"bigg_id\": \"NADP_c\", \"name\": \"NADP_c\", \"node_is_primary\": false}, \"24\": {\"node_type\": \"metabolite\", \"x\": 112.5, \"y\": 2500.0, \"label_x\": 122.5, \"label_y\": 2530.0, \"bigg_id\": \"D_6_P_GLUCONO_DELTA_LACTONE_c\", \"name\": \"D_6_P_GLUCONO_DELTA_LACTONE_c\", \"node_is_primary\": false}, \"25\": {\"node_type\": \"metabolite\", \"x\": 225.0, \"y\": 2500.0, \"label_x\": 235.0, \"label_y\": 2530.0, \"bigg_id\": \"NADPH_c\", \"name\": \"NADPH_c\", \"node_is_primary\": false}, \"26\": {\"node_type\": \"metabolite\", \"x\": 337.5, \"y\": 2500.0, \"label_x\": 347.5, \"label_y\": 2530.0, \"bigg_id\": \"PROTON_c\", \"name\": \"PROTON_c\", \"node_is_primary\": false}, \"27\": {\"node_type\": \"multimarker\", \"x\": 225.0, \"y\": 2255.0}, \"28\": {\"node_type\": \"midmarker\", \"x\": 225.0, \"y\": 2275.0}, \"29\": {\"node_type\": \"multimarker\", \"x\": 225.0, \"y\": 2295.0}}, \"text_labels\": {}, \"canvas\": {\"x\": 0, \"y\": 0, \"width\": 450, \"height\": 2600}}]",
       "_loaded_model_json": null,
       "allow_building_duplicate_reactions": false,
       "and_method_in_gene_reaction_rule": "mean",
       "canvas_size_and_loc": null,
       "cofactors": [
        "atp",
        "adp",
        "nad",
        "nadh",
        "nadp",
        "nadph",
        "gtp",
        "gdp",
        "h",
        "coa",
        "ump",
        "h2o",
        "ppi"
       ],
       "disabled_buttons": [
        "Clear gene data",
        "Clear metabolite data"
       ],
       "embedded_css": null,
       "enable_editing": true,
       "enable_keys": false,
       "enable_keys_with_tooltip": true,
       "enable_search": true,
       "enable_tooltips": false,
       "full_screen_button": {
        "enable_editing": true,
        "enable_keys": true,
        "enable_tooltips": [
         "label"
        ],
        "menu": "all",
        "scroll_behavior": "pan"
       },
       "gene_data": null,
       "gene_font_size": 18,
       "height": 500,
       "hide_all_labels": false,
       "hide_secondary_metabolites": false,
       "highlight_missing": false,
       "identifiers_on_map": "bigg_id",
       "layout": "IPY_MODEL_a9ebb2c9d08d41cb97b974ccee4235c4",
       "marker_radius": 5,
       "menu": "all",
       "metabolite_compare_style": "log2_fold",
       "metabolite_data": null,
       "metabolite_no_data_color": "#ffffff",
       "metabolite_no_data_size": 10,
       "metabolite_scale": [
        {
         "color": "#fffaf0",
         "size": 20,
         "type": "min"
        },
        {
         "color": "#f1c470",
         "size": 30,
         "type": "median"
        },
        {
         "color": "#800000",
         "size": 40,
         "type": "max"
        }
       ],
       "metabolite_scale_preset": "WhYlRd",
       "metabolite_styles": [
        "color",
        "size",
        "text"
       ],
       "never_ask_before_quit": true,
       "primary_metabolite_radius": 20,
       "reaction_compare_style": "log2_fold",
       "reaction_data": {
        "G6PDH2r": -2,
        "GLCpts": -2,
        "GND": 1,
        "Other": 1000,
        "PGL": 0.4
       },
       "reaction_no_data_color": "#dcdcdc",
       "reaction_no_data_size": 8,
       "reaction_scale": [
        {
         "color": "rgb(191,215,230)",
         "type": "value",
         "value": 0.4
        },
        {
         "color": "rgb(163,210,240)",
         "type": "value",
         "value": 1
        },
        {
         "color": "rgb(135,205,250)",
         "type": "value",
         "value": 1000
        },
        {
         "color": "rgb(220,220,220)",
         "type": "value",
         "value": 0
        },
        {
         "color": "rgb(237,192,110)",
         "type": "value",
         "value": -2
        },
        {
         "color": "rgb(255,165,0)",
         "type": "value",
         "value": -2
        }
       ],
       "reaction_scale_preset": null,
       "reaction_styles": [
        "color",
        "text"
       ],
       "scroll_behavior": "none",
       "secondary_metabolite_radius": 10,
       "semantic_zoom": null,
       "show_gene_reaction_rules": false,
       "starting_reaction": null,
       "use_3d_transform": false,
       "zoom_to_element": null
      }
     },
     "0715109ba745402b80e3d50187e3ec7e": {
      "model_module": "escher",
      "model_module_version": "1.7.4",
      "model_name": "EscherMapModel",
      "state": {
       "_loaded_map_json": "[{\"map_name\": \"\", \"map_id\": \"\", \"map_description\": \"\", \"homepage\": \"\", \"schema\": \"https://escher.github.io/escher/jsonschema/1-0-0#\"}, {\"reactions\": {\"0\": {\"name\": \"PGL\", \"bigg_id\": \"PGL\", \"reversibility\": true, \"label_x\": 265.0, \"label_y\": 325.0, \"gene_reaction_rule\": \"\", \"genes\": [], \"segments\": {\"0\": {\"from_node_id\": \"4\", \"to_node_id\": \"5\", \"b1\": null, \"b2\": null}, \"1\": {\"from_node_id\": \"6\", \"to_node_id\": \"5\", \"b1\": null, \"b2\": null}, \"2\": {\"from_node_id\": \"0\", \"to_node_id\": \"4\", \"b1\": null, \"b2\": null}, \"3\": {\"from_node_id\": \"1\", \"to_node_id\": \"4\", \"b1\": null, \"b2\": null}, \"4\": {\"from_node_id\": \"2\", \"to_node_id\": \"6\", \"b1\": null, \"b2\": null}, \"5\": {\"from_node_id\": \"3\", \"to_node_id\": \"6\", \"b1\": null, \"b2\": null}}, \"metabolites\": [{\"bigg_id\": \"CPD_15815_c\", \"coefficient\": -1.0}, {\"bigg_id\": \"D_6_P_GLUCONO_DELTA_LACTONE_c\", \"coefficient\": -1.0}, {\"bigg_id\": \"CPD_2961_c\", \"coefficient\": 1.0}, {\"bigg_id\": \"PROTON_c\", \"coefficient\": 1.0}]}, \"1\": {\"name\": \"GLCpts\", \"bigg_id\": \"GLCpts\", \"reversibility\": true, \"label_x\": 265.0, \"label_y\": 975.0, \"gene_reaction_rule\": \"\", \"genes\": [], \"segments\": {\"6\": {\"from_node_id\": \"11\", \"to_node_id\": \"12\", \"b1\": null, \"b2\": null}, \"7\": {\"from_node_id\": \"13\", \"to_node_id\": \"12\", \"b1\": null, \"b2\": null}, \"8\": {\"from_node_id\": \"7\", \"to_node_id\": \"11\", \"b1\": null, \"b2\": null}, \"9\": {\"from_node_id\": \"8\", \"to_node_id\": \"11\", \"b1\": null, \"b2\": null}, \"10\": {\"from_node_id\": \"9\", \"to_node_id\": \"13\", \"b1\": null, \"b2\": null}, \"11\": {\"from_node_id\": \"10\", \"to_node_id\": \"13\", \"b1\": null, \"b2\": null}}, \"metabolites\": [{\"bigg_id\": \"Glucopyranose_e\", \"coefficient\": -1.0}, {\"bigg_id\": \"PHOSPHO_ENOL_PYRUVATE_c\", \"coefficient\": -1.0}, {\"bigg_id\": \"D_glucopyranose_6_phosphate_c\", \"coefficient\": 1.0}, {\"bigg_id\": \"PYRUVATE_c\", \"coefficient\": 1.0}]}, \"2\": {\"name\": \"GND\", \"bigg_id\": \"GND\", \"reversibility\": true, \"label_x\": 265.0, \"label_y\": 1625.0, \"gene_reaction_rule\": \"\", \"genes\": [], \"segments\": {\"12\": {\"from_node_id\": \"19\", \"to_node_id\": \"20\", \"b1\": null, \"b2\": null}, \"13\": {\"from_node_id\": \"21\", \"to_node_id\": \"20\", \"b1\": null, \"b2\": null}, \"14\": {\"from_node_id\": \"14\", \"to_node_id\": \"19\", \"b1\": null, \"b2\": null}, \"15\": {\"from_node_id\": \"15\", \"to_node_id\": \"19\", \"b1\": null, \"b2\": null}, \"16\": {\"from_node_id\": \"16\", \"to_node_id\": \"21\", \"b1\": null, \"b2\": null}, \"17\": {\"from_node_id\": \"17\", \"to_node_id\": \"21\", \"b1\": null, \"b2\": null}, \"18\": {\"from_node_id\": \"18\", \"to_node_id\": \"21\", \"b1\": null, \"b2\": null}}, \"metabolites\": [{\"bigg_id\": \"CPD_2961_c\", \"coefficient\": -1.0}, {\"bigg_id\": \"NADP_c\", \"coefficient\": -1.0}, {\"bigg_id\": \"CARBON_DIOXIDE_c\", \"coefficient\": 1.0}, {\"bigg_id\": \"NADPH_c\", \"coefficient\": 1.0}, {\"bigg_id\": \"RIBULOSE_5P_c\", \"coefficient\": 1.0}]}, \"3\": {\"name\": \"G6PDH2r\", \"bigg_id\": \"G6PDH2r\", \"reversibility\": true, \"label_x\": 265.0, \"label_y\": 2275.0, \"gene_reaction_rule\": \"\", \"genes\": [], \"segments\": {\"19\": {\"from_node_id\": \"27\", \"to_node_id\": \"28\", \"b1\": null, \"b2\": null}, \"20\": {\"from_node_id\": \"29\", \"to_node_id\": \"28\", \"b1\": null, \"b2\": null}, \"21\": {\"from_node_id\": \"22\", \"to_node_id\": \"27\", \"b1\": null, \"b2\": null}, \"22\": {\"from_node_id\": \"23\", \"to_node_id\": \"27\", \"b1\": null, \"b2\": null}, \"23\": {\"from_node_id\": \"24\", \"to_node_id\": \"29\", \"b1\": null, \"b2\": null}, \"24\": {\"from_node_id\": \"25\", \"to_node_id\": \"29\", \"b1\": null, \"b2\": null}, \"25\": {\"from_node_id\": \"26\", \"to_node_id\": \"29\", \"b1\": null, \"b2\": null}}, \"metabolites\": [{\"bigg_id\": \"D_glucopyranose_6_phosphate_c\", \"coefficient\": -1.0}, {\"bigg_id\": \"NADP_c\", \"coefficient\": -1.0}, {\"bigg_id\": \"D_6_P_GLUCONO_DELTA_LACTONE_c\", \"coefficient\": 1.0}, {\"bigg_id\": \"NADPH_c\", \"coefficient\": 1.0}, {\"bigg_id\": \"PROTON_c\", \"coefficient\": 1.0}]}}, \"nodes\": {\"0\": {\"node_type\": \"metabolite\", \"x\": 150.0, \"y\": 30.0, \"label_x\": 160.0, \"label_y\": 20.0, \"bigg_id\": \"CPD_15815_c\", \"name\": \"CPD_15815_c\", \"node_is_primary\": false}, \"1\": {\"node_type\": \"metabolite\", \"x\": 300.0, \"y\": 30.0, \"label_x\": 310.0, \"label_y\": 20.0, \"bigg_id\": \"D_6_P_GLUCONO_DELTA_LACTONE_c\", \"name\": \"D_6_P_GLUCONO_DELTA_LACTONE_c\", \"node_is_primary\": false}, \"2\": {\"node_type\": \"metabolite\", \"x\": 150.0, \"y\": 550.0, \"label_x\": 160.0, \"label_y\": 580.0, \"bigg_id\": \"CPD_2961_c\", \"name\": \"CPD_2961_c\", \"node_is_primary\": false}, \"3\": {\"node_type\": \"metabolite\", \"x\": 300.0, \"y\": 550.0, \"label_x\": 310.0, \"label_y\": 580.0, \"bigg_id\": \"PROTON_c\", \"name\": \"PROTON_c\", \"node_is_primary\": false}, \"4\": {\"node_type\": \"multimarker\", \"x\": 225.0, \"y\": 305.0}, \"5\": {\"node_type\": \"midmarker\", \"x\": 225.0, \"y\": 325.0}, \"6\": {\"node_type\": \"multimarker\", \"x\": 225.0, \"y\": 345.0}, \"7\": {\"node_type\": \"metabolite\", \"x\": 150.0, \"y\": 680.0, \"label_x\": 160.0, \"label_y\": 670.0, \"bigg_id\": \"Glucopyranose_e\", \"name\": \"Glucopyranose_e\", \"node_is_primary\": false}, \"8\": {\"node_type\": \"metabolite\", \"x\": 300.0, \"y\": 680.0, \"label_x\": 310.0, \"label_y\": 670.0, \"bigg_id\": \"PHOSPHO_ENOL_PYRUVATE_c\", \"name\": \"PHOSPHO_ENOL_PYRUVATE_c\", \"node_is_primary\": false}, \"9\": {\"node_type\": \"metabolite\", \"x\": 150.0, \"y\": 1200.0, \"label_x\": 160.0, \"label_y\": 1230.0, \"bigg_id\": \"D_glucopyranose_6_phosphate_c\", \"name\": \"D_glucopyranose_6_phosphate_c\", \"node_is_primary\": false}, \"10\": {\"node_type\": \"metabolite\", \"x\": 300.0, \"y\": 1200.0, \"label_x\": 310.0, \"label_y\": 1230.0, \"bigg_id\": \"PYRUVATE_c\", \"name\": \"PYRUVATE_c\", \"node_is_primary\": false}, \"11\": {\"node_type\": \"multimarker\", \"x\": 225.0, \"y\": 955.0}, \"12\": {\"node_type\": \"midmarker\", \"x\": 225.0, \"y\": 975.0}, \"13\": {\"node_type\": \"multimarker\", \"x\": 225.0, \"y\": 995.0}, \"14\": {\"node_type\": \"metabolite\", \"x\": 150.0, \"y\": 1330.0, \"label_x\": 160.0, \"label_y\": 1320.0, \"bigg_id\": \"CPD_2961_c\", \"name\": \"CPD_2961_c\", \"node_is_primary\": false}, \"15\": {\"node_type\": \"metabolite\", \"x\": 300.0, \"y\": 1330.0, \"label_x\": 310.0, \"label_y\": 1320.0, \"bigg_id\": \"NADP_c\", \"name\": \"NADP_c\", \"node_is_primary\": false}, \"16\": {\"node_type\": \"metabolite\", \"x\": 112.5, \"y\": 1850.0, \"label_x\": 122.5, \"label_y\": 1880.0, \"bigg_id\": \"CARBON_DIOXIDE_c\", \"name\": \"CARBON_DIOXIDE_c\", \"node_is_primary\": false}, \"17\": {\"node_type\": \"metabolite\", \"x\": 225.0, \"y\": 1850.0, \"label_x\": 235.0, \"label_y\": 1880.0, \"bigg_id\": \"NADPH_c\", \"name\": \"NADPH_c\", \"node_is_primary\": false}, \"18\": {\"node_type\": \"metabolite\", \"x\": 337.5, \"y\": 1850.0, \"label_x\": 347.5, \"label_y\": 1880.0, \"bigg_id\": \"RIBULOSE_5P_c\", \"name\": \"RIBULOSE_5P_c\", \"node_is_primary\": false}, \"19\": {\"node_type\": \"multimarker\", \"x\": 225.0, \"y\": 1605.0}, \"20\": {\"node_type\": \"midmarker\", \"x\": 225.0, \"y\": 1625.0}, \"21\": {\"node_type\": \"multimarker\", \"x\": 225.0, \"y\": 1645.0}, \"22\": {\"node_type\": \"metabolite\", \"x\": 150.0, \"y\": 1980.0, \"label_x\": 160.0, \"label_y\": 1970.0, \"bigg_id\": \"D_glucopyranose_6_phosphate_c\", \"name\": \"D_glucopyranose_6_phosphate_c\", \"node_is_primary\": false}, \"23\": {\"node_type\": \"metabolite\", \"x\": 300.0, \"y\": 1980.0, \"label_x\": 310.0, \"label_y\": 1970.0, \"bigg_id\": \"NADP_c\", \"name\": \"NADP_c\", \"node_is_primary\": false}, \"24\": {\"node_type\": \"metabolite\", \"x\": 112.5, \"y\": 2500.0, \"label_x\": 122.5, \"label_y\": 2530.0, \"bigg_id\": \"D_6_P_GLUCONO_DELTA_LACTONE_c\", \"name\": \"D_6_P_GLUCONO_DELTA_LACTONE_c\", \"node_is_primary\": false}, \"25\": {\"node_type\": \"metabolite\", \"x\": 225.0, \"y\": 2500.0, \"label_x\": 235.0, \"label_y\": 2530.0, \"bigg_id\": \"NADPH_c\", \"name\": \"NADPH_c\", \"node_is_primary\": false}, \"26\": {\"node_type\": \"metabolite\", \"x\": 337.5, \"y\": 2500.0, \"label_x\": 347.5, \"label_y\": 2530.0, \"bigg_id\": \"PROTON_c\", \"name\": \"PROTON_c\", \"node_is_primary\": false}, \"27\": {\"node_type\": \"multimarker\", \"x\": 225.0, \"y\": 2255.0}, \"28\": {\"node_type\": \"midmarker\", \"x\": 225.0, \"y\": 2275.0}, \"29\": {\"node_type\": \"multimarker\", \"x\": 225.0, \"y\": 2295.0}}, \"text_labels\": {}, \"canvas\": {\"x\": 0, \"y\": 0, \"width\": 450, \"height\": 2600}}]",
       "_loaded_model_json": null,
       "allow_building_duplicate_reactions": false,
       "and_method_in_gene_reaction_rule": "mean",
       "canvas_size_and_loc": null,
       "cofactors": [
        "atp",
        "adp",
        "nad",
        "nadh",
        "nadp",
        "nadph",
        "gtp",
        "gdp",
        "h",
        "coa",
        "ump",
        "h2o",
        "ppi"
       ],
       "disabled_buttons": [
        "Clear gene data",
        "Clear metabolite data"
       ],
       "embedded_css": null,
       "enable_editing": true,
       "enable_keys": false,
       "enable_keys_with_tooltip": true,
       "enable_search": true,
       "enable_tooltips": false,
       "full_screen_button": {
        "enable_editing": true,
        "enable_keys": true,
        "enable_tooltips": [
         "label"
        ],
        "menu": "all",
        "scroll_behavior": "pan"
       },
       "gene_data": null,
       "gene_font_size": 18,
       "height": 500,
       "hide_all_labels": false,
       "hide_secondary_metabolites": false,
       "highlight_missing": false,
       "identifiers_on_map": "bigg_id",
       "layout": "IPY_MODEL_7c32e1829b6048d995412836e3d30890",
       "marker_radius": 5,
       "menu": "all",
       "metabolite_compare_style": "log2_fold",
       "metabolite_data": null,
       "metabolite_no_data_color": "#ffffff",
       "metabolite_no_data_size": 10,
       "metabolite_scale": [
        {
         "color": "#fffaf0",
         "size": 20,
         "type": "min"
        },
        {
         "color": "#f1c470",
         "size": 30,
         "type": "median"
        },
        {
         "color": "#800000",
         "size": 40,
         "type": "max"
        }
       ],
       "metabolite_scale_preset": "WhYlRd",
       "metabolite_styles": [
        "color",
        "size",
        "text"
       ],
       "never_ask_before_quit": true,
       "primary_metabolite_radius": 20,
       "reaction_compare_style": "log2_fold",
       "reaction_data": {
        "G6PDH2r": -2,
        "GLCpts": -2,
        "GND": 1,
        "Other": 1000,
        "PGL": 0.4
       },
       "reaction_no_data_color": "#dcdcdc",
       "reaction_no_data_size": 8,
       "reaction_scale": [
        {
         "color": "rgb(191,215,230)",
         "type": "value",
         "value": 333.3333333333333
        },
        {
         "color": "rgb(163,210,240)",
         "type": "value",
         "value": 666.6666666666667
        },
        {
         "color": "rgb(135,205,250)",
         "type": "value",
         "value": 1000
        },
        {
         "color": "rgb(220,220,220)",
         "type": "value",
         "value": 0
        },
        {
         "color": "rgb(237,192,110)",
         "type": "value",
         "value": -1
        },
        {
         "color": "rgb(255,165,0)",
         "type": "value",
         "value": -2
        }
       ],
       "reaction_scale_preset": null,
       "reaction_styles": [
        "color",
        "text"
       ],
       "scroll_behavior": "none",
       "secondary_metabolite_radius": 10,
       "semantic_zoom": null,
       "show_gene_reaction_rules": false,
       "starting_reaction": null,
       "use_3d_transform": false,
       "zoom_to_element": null
      }
     },
     "07fabbe15d3d44dd8318f217ab7ede09": {
      "model_module": "@jupyter-widgets/base",
      "model_module_version": "1.2.0",
      "model_name": "LayoutModel",
      "state": {}
     },
     "0859575660f24d449b5be5d8f4a850b6": {
      "model_module": "escher",
      "model_module_version": "1.7.4",
      "model_name": "EscherMapModel",
      "state": {
       "_loaded_map_json": "[{\"map_name\": \"\", \"map_id\": \"\", \"map_description\": \"\", \"homepage\": \"\", \"schema\": \"https://escher.github.io/escher/jsonschema/1-0-0#\"}, {\"reactions\": {\"0\": {\"name\": \"GLCpts\", \"bigg_id\": \"GLCpts\", \"reversibility\": true, \"label_x\": 265.0, \"label_y\": 325.0, \"gene_reaction_rule\": \"\", \"genes\": [], \"segments\": {\"0\": {\"from_node_id\": \"4\", \"to_node_id\": \"5\", \"b1\": null, \"b2\": null}, \"1\": {\"from_node_id\": \"6\", \"to_node_id\": \"5\", \"b1\": null, \"b2\": null}, \"2\": {\"from_node_id\": \"0\", \"to_node_id\": \"4\", \"b1\": null, \"b2\": null}, \"3\": {\"from_node_id\": \"1\", \"to_node_id\": \"4\", \"b1\": null, \"b2\": null}, \"4\": {\"from_node_id\": \"2\", \"to_node_id\": \"6\", \"b1\": null, \"b2\": null}, \"5\": {\"from_node_id\": \"3\", \"to_node_id\": \"6\", \"b1\": null, \"b2\": null}}, \"metabolites\": [{\"bigg_id\": \"Glucopyranose_e\", \"coefficient\": -1.0}, {\"bigg_id\": \"PHOSPHO_ENOL_PYRUVATE_c\", \"coefficient\": -1.0}, {\"bigg_id\": \"D_glucopyranose_6_phosphate_c\", \"coefficient\": 1.0}, {\"bigg_id\": \"PYRUVATE_c\", \"coefficient\": 1.0}]}, \"1\": {\"name\": \"G6PDH2r\", \"bigg_id\": \"G6PDH2r\", \"reversibility\": true, \"label_x\": 265.0, \"label_y\": 975.0, \"gene_reaction_rule\": \"\", \"genes\": [], \"segments\": {\"6\": {\"from_node_id\": \"11\", \"to_node_id\": \"12\", \"b1\": null, \"b2\": null}, \"7\": {\"from_node_id\": \"13\", \"to_node_id\": \"12\", \"b1\": null, \"b2\": null}, \"8\": {\"from_node_id\": \"2\", \"to_node_id\": \"11\", \"b1\": null, \"b2\": null}, \"9\": {\"from_node_id\": \"7\", \"to_node_id\": \"11\", \"b1\": null, \"b2\": null}, \"10\": {\"from_node_id\": \"8\", \"to_node_id\": \"13\", \"b1\": null, \"b2\": null}, \"11\": {\"from_node_id\": \"9\", \"to_node_id\": \"13\", \"b1\": null, \"b2\": null}, \"12\": {\"from_node_id\": \"10\", \"to_node_id\": \"13\", \"b1\": null, \"b2\": null}}, \"metabolites\": [{\"bigg_id\": \"D_glucopyranose_6_phosphate_c\", \"coefficient\": -1.0}, {\"bigg_id\": \"NADP_c\", \"coefficient\": -1.0}, {\"bigg_id\": \"D_6_P_GLUCONO_DELTA_LACTONE_c\", \"coefficient\": 1.0}, {\"bigg_id\": \"NADPH_c\", \"coefficient\": 1.0}, {\"bigg_id\": \"PROTON_c\", \"coefficient\": 1.0}]}, \"2\": {\"name\": \"PGL\", \"bigg_id\": \"PGL\", \"reversibility\": true, \"label_x\": 265.0, \"label_y\": 1625.0, \"gene_reaction_rule\": \"\", \"genes\": [], \"segments\": {\"13\": {\"from_node_id\": \"17\", \"to_node_id\": \"18\", \"b1\": null, \"b2\": null}, \"14\": {\"from_node_id\": \"19\", \"to_node_id\": \"18\", \"b1\": null, \"b2\": null}, \"15\": {\"from_node_id\": \"14\", \"to_node_id\": \"17\", \"b1\": null, \"b2\": null}, \"16\": {\"from_node_id\": \"8\", \"to_node_id\": \"17\", \"b1\": null, \"b2\": null}, \"17\": {\"from_node_id\": \"15\", \"to_node_id\": \"19\", \"b1\": null, \"b2\": null}, \"18\": {\"from_node_id\": \"16\", \"to_node_id\": \"19\", \"b1\": null, \"b2\": null}}, \"metabolites\": [{\"bigg_id\": \"CPD_15815_c\", \"coefficient\": -1.0}, {\"bigg_id\": \"D_6_P_GLUCONO_DELTA_LACTONE_c\", \"coefficient\": -1.0}, {\"bigg_id\": \"CPD_2961_c\", \"coefficient\": 1.0}, {\"bigg_id\": \"PROTON_c\", \"coefficient\": 1.0}]}, \"3\": {\"name\": \"GND\", \"bigg_id\": \"GND\", \"reversibility\": true, \"label_x\": 265.0, \"label_y\": 2275.0, \"gene_reaction_rule\": \"\", \"genes\": [], \"segments\": {\"19\": {\"from_node_id\": \"24\", \"to_node_id\": \"25\", \"b1\": null, \"b2\": null}, \"20\": {\"from_node_id\": \"26\", \"to_node_id\": \"25\", \"b1\": null, \"b2\": null}, \"21\": {\"from_node_id\": \"15\", \"to_node_id\": \"24\", \"b1\": null, \"b2\": null}, \"22\": {\"from_node_id\": \"20\", \"to_node_id\": \"24\", \"b1\": null, \"b2\": null}, \"23\": {\"from_node_id\": \"21\", \"to_node_id\": \"26\", \"b1\": null, \"b2\": null}, \"24\": {\"from_node_id\": \"22\", \"to_node_id\": \"26\", \"b1\": null, \"b2\": null}, \"25\": {\"from_node_id\": \"23\", \"to_node_id\": \"26\", \"b1\": null, \"b2\": null}}, \"metabolites\": [{\"bigg_id\": \"CPD_2961_c\", \"coefficient\": -1.0}, {\"bigg_id\": \"NADP_c\", \"coefficient\": -1.0}, {\"bigg_id\": \"CARBON_DIOXIDE_c\", \"coefficient\": 1.0}, {\"bigg_id\": \"NADPH_c\", \"coefficient\": 1.0}, {\"bigg_id\": \"RIBULOSE_5P_c\", \"coefficient\": 1.0}]}}, \"nodes\": {\"0\": {\"node_type\": \"metabolite\", \"x\": 150.0, \"y\": 30.0, \"label_x\": 160.0, \"label_y\": 20.0, \"bigg_id\": \"Glucopyranose_e\", \"name\": \"Glucopyranose_e\", \"node_is_primary\": false}, \"1\": {\"node_type\": \"metabolite\", \"x\": 300.0, \"y\": 30.0, \"label_x\": 310.0, \"label_y\": 20.0, \"bigg_id\": \"PHOSPHO_ENOL_PYRUVATE_c\", \"name\": \"PHOSPHO_ENOL_PYRUVATE_c\", \"node_is_primary\": false}, \"2\": {\"node_type\": \"metabolite\", \"x\": 150.0, \"y\": 550.0, \"label_x\": 160.0, \"label_y\": 580.0, \"bigg_id\": \"D_glucopyranose_6_phosphate_c\", \"name\": \"D_glucopyranose_6_phosphate_c\", \"node_is_primary\": false}, \"3\": {\"node_type\": \"metabolite\", \"x\": 300.0, \"y\": 550.0, \"label_x\": 310.0, \"label_y\": 580.0, \"bigg_id\": \"PYRUVATE_c\", \"name\": \"PYRUVATE_c\", \"node_is_primary\": false}, \"4\": {\"node_type\": \"multimarker\", \"x\": 225.0, \"y\": 305.0}, \"5\": {\"node_type\": \"midmarker\", \"x\": 225.0, \"y\": 325.0}, \"6\": {\"node_type\": \"multimarker\", \"x\": 225.0, \"y\": 345.0}, \"7\": {\"node_type\": \"metabolite\", \"x\": 300.0, \"y\": 680.0, \"label_x\": 310.0, \"label_y\": 670.0, \"bigg_id\": \"NADP_c\", \"name\": \"NADP_c\", \"node_is_primary\": false}, \"8\": {\"node_type\": \"metabolite\", \"x\": 112.5, \"y\": 1200.0, \"label_x\": 122.5, \"label_y\": 1230.0, \"bigg_id\": \"D_6_P_GLUCONO_DELTA_LACTONE_c\", \"name\": \"D_6_P_GLUCONO_DELTA_LACTONE_c\", \"node_is_primary\": false}, \"9\": {\"node_type\": \"metabolite\", \"x\": 225.0, \"y\": 1200.0, \"label_x\": 235.0, \"label_y\": 1230.0, \"bigg_id\": \"NADPH_c\", \"name\": \"NADPH_c\", \"node_is_primary\": false}, \"10\": {\"node_type\": \"metabolite\", \"x\": 337.5, \"y\": 1200.0, \"label_x\": 347.5, \"label_y\": 1230.0, \"bigg_id\": \"PROTON_c\", \"name\": \"PROTON_c\", \"node_is_primary\": false}, \"11\": {\"node_type\": \"multimarker\", \"x\": 225.0, \"y\": 955.0}, \"12\": {\"node_type\": \"midmarker\", \"x\": 225.0, \"y\": 975.0}, \"13\": {\"node_type\": \"multimarker\", \"x\": 225.0, \"y\": 995.0}, \"14\": {\"node_type\": \"metabolite\", \"x\": 150.0, \"y\": 1330.0, \"label_x\": 160.0, \"label_y\": 1320.0, \"bigg_id\": \"CPD_15815_c\", \"name\": \"CPD_15815_c\", \"node_is_primary\": false}, \"15\": {\"node_type\": \"metabolite\", \"x\": 150.0, \"y\": 1850.0, \"label_x\": 160.0, \"label_y\": 1880.0, \"bigg_id\": \"CPD_2961_c\", \"name\": \"CPD_2961_c\", \"node_is_primary\": false}, \"16\": {\"node_type\": \"metabolite\", \"x\": 300.0, \"y\": 1850.0, \"label_x\": 310.0, \"label_y\": 1880.0, \"bigg_id\": \"PROTON_c\", \"name\": \"PROTON_c\", \"node_is_primary\": false}, \"17\": {\"node_type\": \"multimarker\", \"x\": 225.0, \"y\": 1605.0}, \"18\": {\"node_type\": \"midmarker\", \"x\": 225.0, \"y\": 1625.0}, \"19\": {\"node_type\": \"multimarker\", \"x\": 225.0, \"y\": 1645.0}, \"20\": {\"node_type\": \"metabolite\", \"x\": 300.0, \"y\": 1980.0, \"label_x\": 310.0, \"label_y\": 1970.0, \"bigg_id\": \"NADP_c\", \"name\": \"NADP_c\", \"node_is_primary\": false}, \"21\": {\"node_type\": \"metabolite\", \"x\": 112.5, \"y\": 2500.0, \"label_x\": 122.5, \"label_y\": 2530.0, \"bigg_id\": \"CARBON_DIOXIDE_c\", \"name\": \"CARBON_DIOXIDE_c\", \"node_is_primary\": false}, \"22\": {\"node_type\": \"metabolite\", \"x\": 225.0, \"y\": 2500.0, \"label_x\": 235.0, \"label_y\": 2530.0, \"bigg_id\": \"NADPH_c\", \"name\": \"NADPH_c\", \"node_is_primary\": false}, \"23\": {\"node_type\": \"metabolite\", \"x\": 337.5, \"y\": 2500.0, \"label_x\": 347.5, \"label_y\": 2530.0, \"bigg_id\": \"RIBULOSE_5P_c\", \"name\": \"RIBULOSE_5P_c\", \"node_is_primary\": false}, \"24\": {\"node_type\": \"multimarker\", \"x\": 225.0, \"y\": 2255.0}, \"25\": {\"node_type\": \"midmarker\", \"x\": 225.0, \"y\": 2275.0}, \"26\": {\"node_type\": \"multimarker\", \"x\": 225.0, \"y\": 2295.0}}, \"text_labels\": {}, \"canvas\": {\"x\": 0, \"y\": 0, \"width\": 450, \"height\": 2600}}]",
       "_loaded_model_json": null,
       "allow_building_duplicate_reactions": false,
       "and_method_in_gene_reaction_rule": "mean",
       "canvas_size_and_loc": null,
       "cofactors": [
        "atp",
        "adp",
        "nad",
        "nadh",
        "nadp",
        "nadph",
        "gtp",
        "gdp",
        "h",
        "coa",
        "ump",
        "h2o",
        "ppi"
       ],
       "disabled_buttons": [
        "Clear gene data",
        "Clear metabolite data"
       ],
       "embedded_css": null,
       "enable_editing": true,
       "enable_keys": false,
       "enable_keys_with_tooltip": true,
       "enable_search": true,
       "enable_tooltips": false,
       "full_screen_button": {
        "enable_editing": true,
        "enable_keys": true,
        "enable_tooltips": [
         "label"
        ],
        "menu": "all",
        "scroll_behavior": "pan"
       },
       "gene_data": null,
       "gene_font_size": 18,
       "height": 500,
       "hide_all_labels": false,
       "hide_secondary_metabolites": false,
       "highlight_missing": false,
       "identifiers_on_map": "bigg_id",
       "layout": "IPY_MODEL_1f72aa4c2d7a48f9b78dbb98ca15b2b0",
       "marker_radius": 5,
       "menu": "all",
       "metabolite_compare_style": "log2_fold",
       "metabolite_data": null,
       "metabolite_no_data_color": "#ffffff",
       "metabolite_no_data_size": 10,
       "metabolite_scale": [
        {
         "color": "#fffaf0",
         "size": 20,
         "type": "min"
        },
        {
         "color": "#f1c470",
         "size": 30,
         "type": "median"
        },
        {
         "color": "#800000",
         "size": 40,
         "type": "max"
        }
       ],
       "metabolite_scale_preset": "WhYlRd",
       "metabolite_styles": [
        "color",
        "size",
        "text"
       ],
       "never_ask_before_quit": true,
       "primary_metabolite_radius": 20,
       "reaction_compare_style": "log2_fold",
       "reaction_data": {
        "G6PDH2r": -2,
        "GLCpts": -2,
        "GND": 1,
        "PGL": 0.4
       },
       "reaction_no_data_color": "#dcdcdc",
       "reaction_no_data_size": 8,
       "reaction_scale": [
        {
         "color": "rgb(146,189,146)",
         "type": "value",
         "value": 3.3333333333333335
        },
        {
         "color": "rgb(73,158,73)",
         "type": "value",
         "value": 6.666666666666666
        },
        {
         "color": "rgb(0,127,0)",
         "type": "value",
         "value": 10
        },
        {
         "color": "rgb(220,220,220)",
         "type": "value",
         "value": 0
        },
        {
         "color": "rgb(231,146,146)",
         "type": "value",
         "value": -3.3333333333333335
        },
        {
         "color": "rgb(243,73,73)",
         "type": "value",
         "value": -6.666666666666666
        },
        {
         "color": "rgb(255,0,0)",
         "type": "value",
         "value": -10
        }
       ],
       "reaction_scale_preset": null,
       "reaction_styles": [
        "color",
        "text"
       ],
       "scroll_behavior": "none",
       "secondary_metabolite_radius": 10,
       "semantic_zoom": null,
       "show_gene_reaction_rules": false,
       "starting_reaction": null,
       "use_3d_transform": false,
       "zoom_to_element": null
      }
     },
     "08e9467ba6cf4814a7cac84f5a484915": {
      "model_module": "@jupyter-widgets/base",
      "model_module_version": "1.2.0",
      "model_name": "LayoutModel",
      "state": {}
     },
     "0a9d1eeeda3c4e85b1c03cbc7b4eef13": {
      "model_module": "escher",
      "model_module_version": "1.7.4",
      "model_name": "EscherMapModel",
      "state": {
       "_loaded_map_json": "[{\"map_name\": \"\", \"map_id\": \"\", \"map_description\": \"\", \"homepage\": \"\", \"schema\": \"https://escher.github.io/escher/jsonschema/1-0-0#\"}, {\"reactions\": {\"0\": {\"name\": \"PGL\", \"bigg_id\": \"PGL\", \"reversibility\": true, \"label_x\": 265.0, \"label_y\": 325.0, \"gene_reaction_rule\": \"\", \"genes\": [], \"segments\": {\"0\": {\"from_node_id\": \"4\", \"to_node_id\": \"5\", \"b1\": null, \"b2\": null}, \"1\": {\"from_node_id\": \"6\", \"to_node_id\": \"5\", \"b1\": null, \"b2\": null}, \"2\": {\"from_node_id\": \"0\", \"to_node_id\": \"4\", \"b1\": null, \"b2\": null}, \"3\": {\"from_node_id\": \"1\", \"to_node_id\": \"4\", \"b1\": null, \"b2\": null}, \"4\": {\"from_node_id\": \"2\", \"to_node_id\": \"6\", \"b1\": null, \"b2\": null}, \"5\": {\"from_node_id\": \"3\", \"to_node_id\": \"6\", \"b1\": null, \"b2\": null}}, \"metabolites\": [{\"bigg_id\": \"CPD_15815_c\", \"coefficient\": -1.0}, {\"bigg_id\": \"D_6_P_GLUCONO_DELTA_LACTONE_c\", \"coefficient\": -1.0}, {\"bigg_id\": \"CPD_2961_c\", \"coefficient\": 1.0}, {\"bigg_id\": \"PROTON_c\", \"coefficient\": 1.0}]}, \"1\": {\"name\": \"GND\", \"bigg_id\": \"GND\", \"reversibility\": true, \"label_x\": 265.0, \"label_y\": 975.0, \"gene_reaction_rule\": \"\", \"genes\": [], \"segments\": {\"6\": {\"from_node_id\": \"11\", \"to_node_id\": \"12\", \"b1\": null, \"b2\": null}, \"7\": {\"from_node_id\": \"13\", \"to_node_id\": \"12\", \"b1\": null, \"b2\": null}, \"8\": {\"from_node_id\": \"2\", \"to_node_id\": \"11\", \"b1\": null, \"b2\": null}, \"9\": {\"from_node_id\": \"7\", \"to_node_id\": \"11\", \"b1\": null, \"b2\": null}, \"10\": {\"from_node_id\": \"8\", \"to_node_id\": \"13\", \"b1\": null, \"b2\": null}, \"11\": {\"from_node_id\": \"9\", \"to_node_id\": \"13\", \"b1\": null, \"b2\": null}, \"12\": {\"from_node_id\": \"10\", \"to_node_id\": \"13\", \"b1\": null, \"b2\": null}}, \"metabolites\": [{\"bigg_id\": \"CPD_2961_c\", \"coefficient\": -1.0}, {\"bigg_id\": \"NADP_c\", \"coefficient\": -1.0}, {\"bigg_id\": \"CARBON_DIOXIDE_c\", \"coefficient\": 1.0}, {\"bigg_id\": \"NADPH_c\", \"coefficient\": 1.0}, {\"bigg_id\": \"RIBULOSE_5P_c\", \"coefficient\": 1.0}]}, \"2\": {\"name\": \"GLCpts\", \"bigg_id\": \"GLCpts\", \"reversibility\": true, \"label_x\": 265.0, \"label_y\": 1625.0, \"gene_reaction_rule\": \"\", \"genes\": [], \"segments\": {\"13\": {\"from_node_id\": \"18\", \"to_node_id\": \"19\", \"b1\": null, \"b2\": null}, \"14\": {\"from_node_id\": \"20\", \"to_node_id\": \"19\", \"b1\": null, \"b2\": null}, \"15\": {\"from_node_id\": \"14\", \"to_node_id\": \"18\", \"b1\": null, \"b2\": null}, \"16\": {\"from_node_id\": \"15\", \"to_node_id\": \"18\", \"b1\": null, \"b2\": null}, \"17\": {\"from_node_id\": \"16\", \"to_node_id\": \"20\", \"b1\": null, \"b2\": null}, \"18\": {\"from_node_id\": \"17\", \"to_node_id\": \"20\", \"b1\": null, \"b2\": null}}, \"metabolites\": [{\"bigg_id\": \"Glucopyranose_e\", \"coefficient\": -1.0}, {\"bigg_id\": \"PHOSPHO_ENOL_PYRUVATE_c\", \"coefficient\": -1.0}, {\"bigg_id\": \"D_glucopyranose_6_phosphate_c\", \"coefficient\": 1.0}, {\"bigg_id\": \"PYRUVATE_c\", \"coefficient\": 1.0}]}, \"3\": {\"name\": \"G6PDH2r\", \"bigg_id\": \"G6PDH2r\", \"reversibility\": true, \"label_x\": 265.0, \"label_y\": 2275.0, \"gene_reaction_rule\": \"\", \"genes\": [], \"segments\": {\"19\": {\"from_node_id\": \"25\", \"to_node_id\": \"26\", \"b1\": null, \"b2\": null}, \"20\": {\"from_node_id\": \"27\", \"to_node_id\": \"26\", \"b1\": null, \"b2\": null}, \"21\": {\"from_node_id\": \"16\", \"to_node_id\": \"25\", \"b1\": null, \"b2\": null}, \"22\": {\"from_node_id\": \"21\", \"to_node_id\": \"25\", \"b1\": null, \"b2\": null}, \"23\": {\"from_node_id\": \"22\", \"to_node_id\": \"27\", \"b1\": null, \"b2\": null}, \"24\": {\"from_node_id\": \"23\", \"to_node_id\": \"27\", \"b1\": null, \"b2\": null}, \"25\": {\"from_node_id\": \"24\", \"to_node_id\": \"27\", \"b1\": null, \"b2\": null}}, \"metabolites\": [{\"bigg_id\": \"D_glucopyranose_6_phosphate_c\", \"coefficient\": -1.0}, {\"bigg_id\": \"NADP_c\", \"coefficient\": -1.0}, {\"bigg_id\": \"D_6_P_GLUCONO_DELTA_LACTONE_c\", \"coefficient\": 1.0}, {\"bigg_id\": \"NADPH_c\", \"coefficient\": 1.0}, {\"bigg_id\": \"PROTON_c\", \"coefficient\": 1.0}]}}, \"nodes\": {\"0\": {\"node_type\": \"metabolite\", \"x\": 150.0, \"y\": 30.0, \"label_x\": 160.0, \"label_y\": 20.0, \"bigg_id\": \"CPD_15815_c\", \"name\": \"CPD_15815_c\", \"node_is_primary\": false}, \"1\": {\"node_type\": \"metabolite\", \"x\": 300.0, \"y\": 30.0, \"label_x\": 310.0, \"label_y\": 20.0, \"bigg_id\": \"D_6_P_GLUCONO_DELTA_LACTONE_c\", \"name\": \"D_6_P_GLUCONO_DELTA_LACTONE_c\", \"node_is_primary\": false}, \"2\": {\"node_type\": \"metabolite\", \"x\": 150.0, \"y\": 550.0, \"label_x\": 160.0, \"label_y\": 580.0, \"bigg_id\": \"CPD_2961_c\", \"name\": \"CPD_2961_c\", \"node_is_primary\": false}, \"3\": {\"node_type\": \"metabolite\", \"x\": 300.0, \"y\": 550.0, \"label_x\": 310.0, \"label_y\": 580.0, \"bigg_id\": \"PROTON_c\", \"name\": \"PROTON_c\", \"node_is_primary\": false}, \"4\": {\"node_type\": \"multimarker\", \"x\": 225.0, \"y\": 305.0}, \"5\": {\"node_type\": \"midmarker\", \"x\": 225.0, \"y\": 325.0}, \"6\": {\"node_type\": \"multimarker\", \"x\": 225.0, \"y\": 345.0}, \"7\": {\"node_type\": \"metabolite\", \"x\": 300.0, \"y\": 680.0, \"label_x\": 310.0, \"label_y\": 670.0, \"bigg_id\": \"NADP_c\", \"name\": \"NADP_c\", \"node_is_primary\": false}, \"8\": {\"node_type\": \"metabolite\", \"x\": 112.5, \"y\": 1200.0, \"label_x\": 122.5, \"label_y\": 1230.0, \"bigg_id\": \"CARBON_DIOXIDE_c\", \"name\": \"CARBON_DIOXIDE_c\", \"node_is_primary\": false}, \"9\": {\"node_type\": \"metabolite\", \"x\": 225.0, \"y\": 1200.0, \"label_x\": 235.0, \"label_y\": 1230.0, \"bigg_id\": \"NADPH_c\", \"name\": \"NADPH_c\", \"node_is_primary\": false}, \"10\": {\"node_type\": \"metabolite\", \"x\": 337.5, \"y\": 1200.0, \"label_x\": 347.5, \"label_y\": 1230.0, \"bigg_id\": \"RIBULOSE_5P_c\", \"name\": \"RIBULOSE_5P_c\", \"node_is_primary\": false}, \"11\": {\"node_type\": \"multimarker\", \"x\": 225.0, \"y\": 955.0}, \"12\": {\"node_type\": \"midmarker\", \"x\": 225.0, \"y\": 975.0}, \"13\": {\"node_type\": \"multimarker\", \"x\": 225.0, \"y\": 995.0}, \"14\": {\"node_type\": \"metabolite\", \"x\": 150.0, \"y\": 1330.0, \"label_x\": 160.0, \"label_y\": 1320.0, \"bigg_id\": \"Glucopyranose_e\", \"name\": \"Glucopyranose_e\", \"node_is_primary\": false}, \"15\": {\"node_type\": \"metabolite\", \"x\": 300.0, \"y\": 1330.0, \"label_x\": 310.0, \"label_y\": 1320.0, \"bigg_id\": \"PHOSPHO_ENOL_PYRUVATE_c\", \"name\": \"PHOSPHO_ENOL_PYRUVATE_c\", \"node_is_primary\": false}, \"16\": {\"node_type\": \"metabolite\", \"x\": 150.0, \"y\": 1850.0, \"label_x\": 160.0, \"label_y\": 1880.0, \"bigg_id\": \"D_glucopyranose_6_phosphate_c\", \"name\": \"D_glucopyranose_6_phosphate_c\", \"node_is_primary\": false}, \"17\": {\"node_type\": \"metabolite\", \"x\": 300.0, \"y\": 1850.0, \"label_x\": 310.0, \"label_y\": 1880.0, \"bigg_id\": \"PYRUVATE_c\", \"name\": \"PYRUVATE_c\", \"node_is_primary\": false}, \"18\": {\"node_type\": \"multimarker\", \"x\": 225.0, \"y\": 1605.0}, \"19\": {\"node_type\": \"midmarker\", \"x\": 225.0, \"y\": 1625.0}, \"20\": {\"node_type\": \"multimarker\", \"x\": 225.0, \"y\": 1645.0}, \"21\": {\"node_type\": \"metabolite\", \"x\": 300.0, \"y\": 1980.0, \"label_x\": 310.0, \"label_y\": 1970.0, \"bigg_id\": \"NADP_c\", \"name\": \"NADP_c\", \"node_is_primary\": false}, \"22\": {\"node_type\": \"metabolite\", \"x\": 112.5, \"y\": 2500.0, \"label_x\": 122.5, \"label_y\": 2530.0, \"bigg_id\": \"D_6_P_GLUCONO_DELTA_LACTONE_c\", \"name\": \"D_6_P_GLUCONO_DELTA_LACTONE_c\", \"node_is_primary\": false}, \"23\": {\"node_type\": \"metabolite\", \"x\": 225.0, \"y\": 2500.0, \"label_x\": 235.0, \"label_y\": 2530.0, \"bigg_id\": \"NADPH_c\", \"name\": \"NADPH_c\", \"node_is_primary\": false}, \"24\": {\"node_type\": \"metabolite\", \"x\": 337.5, \"y\": 2500.0, \"label_x\": 347.5, \"label_y\": 2530.0, \"bigg_id\": \"PROTON_c\", \"name\": \"PROTON_c\", \"node_is_primary\": false}, \"25\": {\"node_type\": \"multimarker\", \"x\": 225.0, \"y\": 2255.0}, \"26\": {\"node_type\": \"midmarker\", \"x\": 225.0, \"y\": 2275.0}, \"27\": {\"node_type\": \"multimarker\", \"x\": 225.0, \"y\": 2295.0}}, \"text_labels\": {}, \"canvas\": {\"x\": 0, \"y\": 0, \"width\": 450, \"height\": 2600}}]",
       "_loaded_model_json": null,
       "allow_building_duplicate_reactions": false,
       "and_method_in_gene_reaction_rule": "mean",
       "canvas_size_and_loc": null,
       "cofactors": [
        "atp",
        "adp",
        "nad",
        "nadh",
        "nadp",
        "nadph",
        "gtp",
        "gdp",
        "h",
        "coa",
        "ump",
        "h2o",
        "ppi"
       ],
       "disabled_buttons": [
        "Clear reaction data",
        "Clear gene data",
        "Clear metabolite data"
       ],
       "embedded_css": null,
       "enable_editing": true,
       "enable_keys": false,
       "enable_keys_with_tooltip": true,
       "enable_search": true,
       "enable_tooltips": false,
       "full_screen_button": {
        "enable_editing": true,
        "enable_keys": true,
        "enable_tooltips": [
         "label"
        ],
        "menu": "all",
        "scroll_behavior": "pan"
       },
       "gene_data": null,
       "gene_font_size": 18,
       "height": 500,
       "hide_all_labels": false,
       "hide_secondary_metabolites": false,
       "highlight_missing": false,
       "identifiers_on_map": "bigg_id",
       "layout": "IPY_MODEL_7966b558a52145f98d57ee7e4acd7a61",
       "marker_radius": 5,
       "menu": "all",
       "metabolite_compare_style": "log2_fold",
       "metabolite_data": null,
       "metabolite_no_data_color": "#ffffff",
       "metabolite_no_data_size": 10,
       "metabolite_scale": [
        {
         "color": "#fffaf0",
         "size": 20,
         "type": "min"
        },
        {
         "color": "#f1c470",
         "size": 30,
         "type": "median"
        },
        {
         "color": "#800000",
         "size": 40,
         "type": "max"
        }
       ],
       "metabolite_scale_preset": "WhYlRd",
       "metabolite_styles": [
        "color",
        "size",
        "text"
       ],
       "never_ask_before_quit": true,
       "primary_metabolite_radius": 20,
       "reaction_compare_style": "log2_fold",
       "reaction_data": null,
       "reaction_no_data_color": "#dcdcdc",
       "reaction_no_data_size": 8,
       "reaction_scale": {},
       "reaction_scale_preset": null,
       "reaction_styles": [
        "color",
        "text"
       ],
       "scroll_behavior": "none",
       "secondary_metabolite_radius": 10,
       "semantic_zoom": null,
       "show_gene_reaction_rules": false,
       "starting_reaction": null,
       "use_3d_transform": false,
       "zoom_to_element": null
      }
     },
     "0be6faac1d26453c86f70084cf956c25": {
      "model_module": "@jupyter-widgets/base",
      "model_module_version": "1.2.0",
      "model_name": "LayoutModel",
      "state": {}
     },
     "130e1351db0d4b63aa710747e4e72ac7": {
      "model_module": "escher",
      "model_module_version": "1.7.4",
      "model_name": "EscherMapModel",
      "state": {
       "_loaded_map_json": "[{\"map_name\": \"\", \"map_id\": \"\", \"map_description\": \"\", \"homepage\": \"\", \"schema\": \"https://escher.github.io/escher/jsonschema/1-0-0#\"}, {\"reactions\": {\"0\": {\"name\": \"GLCpts\", \"bigg_id\": \"GLCpts\", \"reversibility\": true, \"label_x\": 271.0, \"label_y\": 45.0, \"gene_reaction_rule\": \"\", \"genes\": [], \"segments\": {\"0\": {\"from_node_id\": \"4\", \"to_node_id\": \"5\", \"b1\": null, \"b2\": null}, \"1\": {\"from_node_id\": \"6\", \"to_node_id\": \"5\", \"b1\": null, \"b2\": null}, \"2\": {\"from_node_id\": \"0\", \"to_node_id\": \"4\", \"b1\": null, \"b2\": null}, \"3\": {\"from_node_id\": \"1\", \"to_node_id\": \"4\", \"b1\": null, \"b2\": null}, \"4\": {\"from_node_id\": \"2\", \"to_node_id\": \"6\", \"b1\": null, \"b2\": null}, \"5\": {\"from_node_id\": \"3\", \"to_node_id\": \"6\", \"b1\": null, \"b2\": null}}, \"metabolites\": [{\"bigg_id\": \"Glucopyranose_e\", \"coefficient\": -1.0}, {\"bigg_id\": \"PHOSPHO_ENOL_PYRUVATE_c\", \"coefficient\": -1.0}, {\"bigg_id\": \"D_glucopyranose_6_phosphate_c\", \"coefficient\": 1.0}, {\"bigg_id\": \"PYRUVATE_c\", \"coefficient\": 1.0}]}, \"1\": {\"name\": \"G6PDH2r\", \"bigg_id\": \"G6PDH2r\", \"reversibility\": true, \"label_x\": 912.0, \"label_y\": 45.0, \"gene_reaction_rule\": \"\", \"genes\": [], \"segments\": {\"6\": {\"from_node_id\": \"11\", \"to_node_id\": \"12\", \"b1\": null, \"b2\": null}, \"7\": {\"from_node_id\": \"13\", \"to_node_id\": \"12\", \"b1\": null, \"b2\": null}, \"8\": {\"from_node_id\": \"2\", \"to_node_id\": \"11\", \"b1\": null, \"b2\": null}, \"9\": {\"from_node_id\": \"7\", \"to_node_id\": \"11\", \"b1\": null, \"b2\": null}, \"10\": {\"from_node_id\": \"8\", \"to_node_id\": \"13\", \"b1\": null, \"b2\": null}, \"11\": {\"from_node_id\": \"9\", \"to_node_id\": \"13\", \"b1\": null, \"b2\": null}, \"12\": {\"from_node_id\": \"10\", \"to_node_id\": \"13\", \"b1\": null, \"b2\": null}}, \"metabolites\": [{\"bigg_id\": \"D_glucopyranose_6_phosphate_c\", \"coefficient\": -1.0}, {\"bigg_id\": \"NADP_c\", \"coefficient\": -1.0}, {\"bigg_id\": \"D_6_P_GLUCONO_DELTA_LACTONE_c\", \"coefficient\": 1.0}, {\"bigg_id\": \"NADPH_c\", \"coefficient\": 1.0}, {\"bigg_id\": \"PROTON_c\", \"coefficient\": 1.0}]}, \"2\": {\"name\": \"PGL\", \"bigg_id\": \"PGL\", \"reversibility\": true, \"label_x\": 1598.0, \"label_y\": 45.0, \"gene_reaction_rule\": \"\", \"genes\": [], \"segments\": {\"13\": {\"from_node_id\": \"17\", \"to_node_id\": \"18\", \"b1\": null, \"b2\": null}, \"14\": {\"from_node_id\": \"19\", \"to_node_id\": \"18\", \"b1\": null, \"b2\": null}, \"15\": {\"from_node_id\": \"14\", \"to_node_id\": \"17\", \"b1\": null, \"b2\": null}, \"16\": {\"from_node_id\": \"8\", \"to_node_id\": \"17\", \"b1\": null, \"b2\": null}, \"17\": {\"from_node_id\": \"15\", \"to_node_id\": \"19\", \"b1\": null, \"b2\": null}, \"18\": {\"from_node_id\": \"16\", \"to_node_id\": \"19\", \"b1\": null, \"b2\": null}}, \"metabolites\": [{\"bigg_id\": \"CPD_15815_c\", \"coefficient\": -1.0}, {\"bigg_id\": \"D_6_P_GLUCONO_DELTA_LACTONE_c\", \"coefficient\": -1.0}, {\"bigg_id\": \"CPD_2961_c\", \"coefficient\": 1.0}, {\"bigg_id\": \"PROTON_c\", \"coefficient\": 1.0}]}, \"3\": {\"name\": \"GND\", \"bigg_id\": \"GND\", \"reversibility\": true, \"label_x\": 2248.0, \"label_y\": 45.0, \"gene_reaction_rule\": \"\", \"genes\": [], \"segments\": {\"19\": {\"from_node_id\": \"24\", \"to_node_id\": \"25\", \"b1\": null, \"b2\": null}, \"20\": {\"from_node_id\": \"26\", \"to_node_id\": \"25\", \"b1\": null, \"b2\": null}, \"21\": {\"from_node_id\": \"15\", \"to_node_id\": \"24\", \"b1\": null, \"b2\": null}, \"22\": {\"from_node_id\": \"20\", \"to_node_id\": \"24\", \"b1\": null, \"b2\": null}, \"23\": {\"from_node_id\": \"21\", \"to_node_id\": \"26\", \"b1\": null, \"b2\": null}, \"24\": {\"from_node_id\": \"22\", \"to_node_id\": \"26\", \"b1\": null, \"b2\": null}, \"25\": {\"from_node_id\": \"23\", \"to_node_id\": \"26\", \"b1\": null, \"b2\": null}}, \"metabolites\": [{\"bigg_id\": \"CPD_2961_c\", \"coefficient\": -1.0}, {\"bigg_id\": \"NADP_c\", \"coefficient\": -1.0}, {\"bigg_id\": \"CARBON_DIOXIDE_c\", \"coefficient\": 1.0}, {\"bigg_id\": \"NADPH_c\", \"coefficient\": 1.0}, {\"bigg_id\": \"RIBULOSE_5P_c\", \"coefficient\": 1.0}]}}, \"nodes\": {\"0\": {\"node_type\": \"metabolite\", \"x\": 30.0, \"y\": 150.0, \"label_x\": 0.0, \"label_y\": 130.0, \"bigg_id\": \"Glucopyranose_e\", \"name\": \"Glucopyranose_e\", \"node_is_primary\": false}, \"1\": {\"node_type\": \"metabolite\", \"x\": 30.0, \"y\": 300.0, \"label_x\": 0.0, \"label_y\": 280.0, \"bigg_id\": \"PHOSPHO_ENOL_PYRUVATE_c\", \"name\": \"PHOSPHO_ENOL_PYRUVATE_c\", \"node_is_primary\": false}, \"2\": {\"node_type\": \"metabolite\", \"x\": 550.0, \"y\": 150.0, \"label_x\": 520.0, \"label_y\": 130.0, \"bigg_id\": \"D_glucopyranose_6_phosphate_c\", \"name\": \"D_glucopyranose_6_phosphate_c\", \"node_is_primary\": false}, \"3\": {\"node_type\": \"metabolite\", \"x\": 550.0, \"y\": 300.0, \"label_x\": 520.0, \"label_y\": 280.0, \"bigg_id\": \"PYRUVATE_c\", \"name\": \"PYRUVATE_c\", \"node_is_primary\": false}, \"4\": {\"node_type\": \"multimarker\", \"x\": 335.0, \"y\": 225.0}, \"5\": {\"node_type\": \"midmarker\", \"x\": 355.0, \"y\": 225.0}, \"6\": {\"node_type\": \"multimarker\", \"x\": 375.0, \"y\": 225.0}, \"7\": {\"node_type\": \"metabolite\", \"x\": 680.0, \"y\": 300.0, \"label_x\": 650.0, \"label_y\": 280.0, \"bigg_id\": \"NADP_c\", \"name\": \"NADP_c\", \"node_is_primary\": false}, \"8\": {\"node_type\": \"metabolite\", \"x\": 1200.0, \"y\": 112.5, \"label_x\": 1170.0, \"label_y\": 92.5, \"bigg_id\": \"D_6_P_GLUCONO_DELTA_LACTONE_c\", \"name\": \"D_6_P_GLUCONO_DELTA_LACTONE_c\", \"node_is_primary\": false}, \"9\": {\"node_type\": \"metabolite\", \"x\": 1200.0, \"y\": 225.0, \"label_x\": 1170.0, \"label_y\": 205.0, \"bigg_id\": \"NADPH_c\", \"name\": \"NADPH_c\", \"node_is_primary\": false}, \"10\": {\"node_type\": \"metabolite\", \"x\": 1200.0, \"y\": 337.5, \"label_x\": 1170.0, \"label_y\": 317.5, \"bigg_id\": \"PROTON_c\", \"name\": \"PROTON_c\", \"node_is_primary\": false}, \"11\": {\"node_type\": \"multimarker\", \"x\": 985.0, \"y\": 225.0}, \"12\": {\"node_type\": \"midmarker\", \"x\": 1005.0, \"y\": 225.0}, \"13\": {\"node_type\": \"multimarker\", \"x\": 1025.0, \"y\": 225.0}, \"14\": {\"node_type\": \"metabolite\", \"x\": 1330.0, \"y\": 150.0, \"label_x\": 1300.0, \"label_y\": 130.0, \"bigg_id\": \"CPD_15815_c\", \"name\": \"CPD_15815_c\", \"node_is_primary\": false}, \"15\": {\"node_type\": \"metabolite\", \"x\": 1850.0, \"y\": 150.0, \"label_x\": 1820.0, \"label_y\": 130.0, \"bigg_id\": \"CPD_2961_c\", \"name\": \"CPD_2961_c\", \"node_is_primary\": false}, \"16\": {\"node_type\": \"metabolite\", \"x\": 1850.0, \"y\": 300.0, \"label_x\": 1820.0, \"label_y\": 280.0, \"bigg_id\": \"PROTON_c\", \"name\": \"PROTON_c\", \"node_is_primary\": false}, \"17\": {\"node_type\": \"multimarker\", \"x\": 1635.0, \"y\": 225.0}, \"18\": {\"node_type\": \"midmarker\", \"x\": 1655.0, \"y\": 225.0}, \"19\": {\"node_type\": \"multimarker\", \"x\": 1675.0, \"y\": 225.0}, \"20\": {\"node_type\": \"metabolite\", \"x\": 1980.0, \"y\": 300.0, \"label_x\": 1950.0, \"label_y\": 280.0, \"bigg_id\": \"NADP_c\", \"name\": \"NADP_c\", \"node_is_primary\": false}, \"21\": {\"node_type\": \"metabolite\", \"x\": 2500.0, \"y\": 112.5, \"label_x\": 2470.0, \"label_y\": 92.5, \"bigg_id\": \"CARBON_DIOXIDE_c\", \"name\": \"CARBON_DIOXIDE_c\", \"node_is_primary\": false}, \"22\": {\"node_type\": \"metabolite\", \"x\": 2500.0, \"y\": 225.0, \"label_x\": 2470.0, \"label_y\": 205.0, \"bigg_id\": \"NADPH_c\", \"name\": \"NADPH_c\", \"node_is_primary\": false}, \"23\": {\"node_type\": \"metabolite\", \"x\": 2500.0, \"y\": 337.5, \"label_x\": 2470.0, \"label_y\": 317.5, \"bigg_id\": \"RIBULOSE_5P_c\", \"name\": \"RIBULOSE_5P_c\", \"node_is_primary\": false}, \"24\": {\"node_type\": \"multimarker\", \"x\": 2285.0, \"y\": 225.0}, \"25\": {\"node_type\": \"midmarker\", \"x\": 2305.0, \"y\": 225.0}, \"26\": {\"node_type\": \"multimarker\", \"x\": 2325.0, \"y\": 225.0}}, \"text_labels\": {}, \"canvas\": {\"x\": 0, \"y\": 0, \"width\": 2600, \"height\": 450}}]",
       "_loaded_model_json": null,
       "allow_building_duplicate_reactions": false,
       "and_method_in_gene_reaction_rule": "mean",
       "canvas_size_and_loc": null,
       "cofactors": [
        "atp",
        "adp",
        "nad",
        "nadh",
        "nadp",
        "nadph",
        "gtp",
        "gdp",
        "h",
        "coa",
        "ump",
        "h2o",
        "ppi"
       ],
       "disabled_buttons": [
        "Clear reaction data",
        "Clear gene data",
        "Clear metabolite data"
       ],
       "embedded_css": null,
       "enable_editing": true,
       "enable_keys": false,
       "enable_keys_with_tooltip": true,
       "enable_search": true,
       "enable_tooltips": false,
       "full_screen_button": {
        "enable_editing": true,
        "enable_keys": true,
        "enable_tooltips": [
         "label"
        ],
        "menu": "all",
        "scroll_behavior": "pan"
       },
       "gene_data": null,
       "gene_font_size": 18,
       "height": 500,
       "hide_all_labels": false,
       "hide_secondary_metabolites": false,
       "highlight_missing": false,
       "identifiers_on_map": "bigg_id",
       "layout": "IPY_MODEL_57d09821da0444d099089531312eb30d",
       "marker_radius": 5,
       "menu": "all",
       "metabolite_compare_style": "log2_fold",
       "metabolite_data": null,
       "metabolite_no_data_color": "#ffffff",
       "metabolite_no_data_size": 10,
       "metabolite_scale": [
        {
         "color": "#fffaf0",
         "size": 20,
         "type": "min"
        },
        {
         "color": "#f1c470",
         "size": 30,
         "type": "median"
        },
        {
         "color": "#800000",
         "size": 40,
         "type": "max"
        }
       ],
       "metabolite_scale_preset": "WhYlRd",
       "metabolite_styles": [
        "color",
        "size",
        "text"
       ],
       "never_ask_before_quit": true,
       "primary_metabolite_radius": 20,
       "reaction_compare_style": "log2_fold",
       "reaction_data": null,
       "reaction_no_data_color": "#dcdcdc",
       "reaction_no_data_size": 8,
       "reaction_scale": {},
       "reaction_scale_preset": null,
       "reaction_styles": [
        "color",
        "text"
       ],
       "scroll_behavior": "none",
       "secondary_metabolite_radius": 10,
       "semantic_zoom": null,
       "show_gene_reaction_rules": false,
       "starting_reaction": null,
       "use_3d_transform": false,
       "zoom_to_element": null
      }
     },
     "1667b77aac6449a09c33cd22d3063386": {
      "model_module": "@jupyter-widgets/base",
      "model_module_version": "1.2.0",
      "model_name": "LayoutModel",
      "state": {}
     },
     "19fa792675a34559a7a3b24a5fa58a9a": {
      "model_module": "@jupyter-widgets/base",
      "model_module_version": "1.2.0",
      "model_name": "LayoutModel",
      "state": {}
     },
     "1f72aa4c2d7a48f9b78dbb98ca15b2b0": {
      "model_module": "@jupyter-widgets/base",
      "model_module_version": "1.2.0",
      "model_name": "LayoutModel",
      "state": {}
     },
     "201730168cb54a42bf02a2d9e1e1ad2a": {
      "model_module": "escher",
      "model_module_version": "1.7.4",
      "model_name": "EscherMapModel",
      "state": {
       "_loaded_map_json": "[{\"map_name\": \"\", \"map_id\": \"\", \"map_description\": \"\", \"homepage\": \"\", \"schema\": \"https://escher.github.io/escher/jsonschema/1-0-0#\"}, {\"reactions\": {\"0\": {\"name\": \"GLCpts\", \"bigg_id\": \"GLCpts\", \"reversibility\": true, \"label_x\": 265.0, \"label_y\": 325.0, \"gene_reaction_rule\": \"\", \"genes\": [], \"segments\": {\"0\": {\"from_node_id\": \"4\", \"to_node_id\": \"5\", \"b1\": null, \"b2\": null}, \"1\": {\"from_node_id\": \"6\", \"to_node_id\": \"5\", \"b1\": null, \"b2\": null}, \"2\": {\"from_node_id\": \"0\", \"to_node_id\": \"4\", \"b1\": null, \"b2\": null}, \"3\": {\"from_node_id\": \"1\", \"to_node_id\": \"4\", \"b1\": null, \"b2\": null}, \"4\": {\"from_node_id\": \"2\", \"to_node_id\": \"6\", \"b1\": null, \"b2\": null}, \"5\": {\"from_node_id\": \"3\", \"to_node_id\": \"6\", \"b1\": null, \"b2\": null}}, \"metabolites\": [{\"bigg_id\": \"Glucopyranose_e\", \"coefficient\": -1.0}, {\"bigg_id\": \"PHOSPHO_ENOL_PYRUVATE_c\", \"coefficient\": -1.0}, {\"bigg_id\": \"D_glucopyranose_6_phosphate_c\", \"coefficient\": 1.0}, {\"bigg_id\": \"PYRUVATE_c\", \"coefficient\": 1.0}]}, \"1\": {\"name\": \"G6PDH2r\", \"bigg_id\": \"G6PDH2r\", \"reversibility\": true, \"label_x\": 265.0, \"label_y\": 975.0, \"gene_reaction_rule\": \"\", \"genes\": [], \"segments\": {\"6\": {\"from_node_id\": \"11\", \"to_node_id\": \"12\", \"b1\": null, \"b2\": null}, \"7\": {\"from_node_id\": \"13\", \"to_node_id\": \"12\", \"b1\": null, \"b2\": null}, \"8\": {\"from_node_id\": \"2\", \"to_node_id\": \"11\", \"b1\": null, \"b2\": null}, \"9\": {\"from_node_id\": \"7\", \"to_node_id\": \"11\", \"b1\": null, \"b2\": null}, \"10\": {\"from_node_id\": \"8\", \"to_node_id\": \"13\", \"b1\": null, \"b2\": null}, \"11\": {\"from_node_id\": \"9\", \"to_node_id\": \"13\", \"b1\": null, \"b2\": null}, \"12\": {\"from_node_id\": \"10\", \"to_node_id\": \"13\", \"b1\": null, \"b2\": null}}, \"metabolites\": [{\"bigg_id\": \"D_glucopyranose_6_phosphate_c\", \"coefficient\": -1.0}, {\"bigg_id\": \"NADP_c\", \"coefficient\": -1.0}, {\"bigg_id\": \"D_6_P_GLUCONO_DELTA_LACTONE_c\", \"coefficient\": 1.0}, {\"bigg_id\": \"NADPH_c\", \"coefficient\": 1.0}, {\"bigg_id\": \"PROTON_c\", \"coefficient\": 1.0}]}, \"2\": {\"name\": \"PGL\", \"bigg_id\": \"PGL\", \"reversibility\": true, \"label_x\": 265.0, \"label_y\": 1625.0, \"gene_reaction_rule\": \"\", \"genes\": [], \"segments\": {\"13\": {\"from_node_id\": \"17\", \"to_node_id\": \"18\", \"b1\": null, \"b2\": null}, \"14\": {\"from_node_id\": \"19\", \"to_node_id\": \"18\", \"b1\": null, \"b2\": null}, \"15\": {\"from_node_id\": \"14\", \"to_node_id\": \"17\", \"b1\": null, \"b2\": null}, \"16\": {\"from_node_id\": \"8\", \"to_node_id\": \"17\", \"b1\": null, \"b2\": null}, \"17\": {\"from_node_id\": \"15\", \"to_node_id\": \"19\", \"b1\": null, \"b2\": null}, \"18\": {\"from_node_id\": \"16\", \"to_node_id\": \"19\", \"b1\": null, \"b2\": null}}, \"metabolites\": [{\"bigg_id\": \"CPD_15815_c\", \"coefficient\": -1.0}, {\"bigg_id\": \"D_6_P_GLUCONO_DELTA_LACTONE_c\", \"coefficient\": -1.0}, {\"bigg_id\": \"CPD_2961_c\", \"coefficient\": 1.0}, {\"bigg_id\": \"PROTON_c\", \"coefficient\": 1.0}]}, \"3\": {\"name\": \"GND\", \"bigg_id\": \"GND\", \"reversibility\": true, \"label_x\": 265.0, \"label_y\": 2275.0, \"gene_reaction_rule\": \"\", \"genes\": [], \"segments\": {\"19\": {\"from_node_id\": \"24\", \"to_node_id\": \"25\", \"b1\": null, \"b2\": null}, \"20\": {\"from_node_id\": \"26\", \"to_node_id\": \"25\", \"b1\": null, \"b2\": null}, \"21\": {\"from_node_id\": \"15\", \"to_node_id\": \"24\", \"b1\": null, \"b2\": null}, \"22\": {\"from_node_id\": \"20\", \"to_node_id\": \"24\", \"b1\": null, \"b2\": null}, \"23\": {\"from_node_id\": \"21\", \"to_node_id\": \"26\", \"b1\": null, \"b2\": null}, \"24\": {\"from_node_id\": \"22\", \"to_node_id\": \"26\", \"b1\": null, \"b2\": null}, \"25\": {\"from_node_id\": \"23\", \"to_node_id\": \"26\", \"b1\": null, \"b2\": null}}, \"metabolites\": [{\"bigg_id\": \"CPD_2961_c\", \"coefficient\": -1.0}, {\"bigg_id\": \"NADP_c\", \"coefficient\": -1.0}, {\"bigg_id\": \"CARBON_DIOXIDE_c\", \"coefficient\": 1.0}, {\"bigg_id\": \"NADPH_c\", \"coefficient\": 1.0}, {\"bigg_id\": \"RIBULOSE_5P_c\", \"coefficient\": 1.0}]}}, \"nodes\": {\"0\": {\"node_type\": \"metabolite\", \"x\": 150.0, \"y\": 30.0, \"label_x\": 160.0, \"label_y\": 20.0, \"bigg_id\": \"Glucopyranose_e\", \"name\": \"Glucopyranose_e\", \"node_is_primary\": false}, \"1\": {\"node_type\": \"metabolite\", \"x\": 300.0, \"y\": 30.0, \"label_x\": 310.0, \"label_y\": 20.0, \"bigg_id\": \"PHOSPHO_ENOL_PYRUVATE_c\", \"name\": \"PHOSPHO_ENOL_PYRUVATE_c\", \"node_is_primary\": false}, \"2\": {\"node_type\": \"metabolite\", \"x\": 150.0, \"y\": 550.0, \"label_x\": 160.0, \"label_y\": 580.0, \"bigg_id\": \"D_glucopyranose_6_phosphate_c\", \"name\": \"D_glucopyranose_6_phosphate_c\", \"node_is_primary\": false}, \"3\": {\"node_type\": \"metabolite\", \"x\": 300.0, \"y\": 550.0, \"label_x\": 310.0, \"label_y\": 580.0, \"bigg_id\": \"PYRUVATE_c\", \"name\": \"PYRUVATE_c\", \"node_is_primary\": false}, \"4\": {\"node_type\": \"multimarker\", \"x\": 225.0, \"y\": 305.0}, \"5\": {\"node_type\": \"midmarker\", \"x\": 225.0, \"y\": 325.0}, \"6\": {\"node_type\": \"multimarker\", \"x\": 225.0, \"y\": 345.0}, \"7\": {\"node_type\": \"metabolite\", \"x\": 300.0, \"y\": 680.0, \"label_x\": 310.0, \"label_y\": 670.0, \"bigg_id\": \"NADP_c\", \"name\": \"NADP_c\", \"node_is_primary\": false}, \"8\": {\"node_type\": \"metabolite\", \"x\": 112.5, \"y\": 1200.0, \"label_x\": 122.5, \"label_y\": 1230.0, \"bigg_id\": \"D_6_P_GLUCONO_DELTA_LACTONE_c\", \"name\": \"D_6_P_GLUCONO_DELTA_LACTONE_c\", \"node_is_primary\": false}, \"9\": {\"node_type\": \"metabolite\", \"x\": 225.0, \"y\": 1200.0, \"label_x\": 235.0, \"label_y\": 1230.0, \"bigg_id\": \"NADPH_c\", \"name\": \"NADPH_c\", \"node_is_primary\": false}, \"10\": {\"node_type\": \"metabolite\", \"x\": 337.5, \"y\": 1200.0, \"label_x\": 347.5, \"label_y\": 1230.0, \"bigg_id\": \"PROTON_c\", \"name\": \"PROTON_c\", \"node_is_primary\": false}, \"11\": {\"node_type\": \"multimarker\", \"x\": 225.0, \"y\": 955.0}, \"12\": {\"node_type\": \"midmarker\", \"x\": 225.0, \"y\": 975.0}, \"13\": {\"node_type\": \"multimarker\", \"x\": 225.0, \"y\": 995.0}, \"14\": {\"node_type\": \"metabolite\", \"x\": 150.0, \"y\": 1330.0, \"label_x\": 160.0, \"label_y\": 1320.0, \"bigg_id\": \"CPD_15815_c\", \"name\": \"CPD_15815_c\", \"node_is_primary\": false}, \"15\": {\"node_type\": \"metabolite\", \"x\": 150.0, \"y\": 1850.0, \"label_x\": 160.0, \"label_y\": 1880.0, \"bigg_id\": \"CPD_2961_c\", \"name\": \"CPD_2961_c\", \"node_is_primary\": false}, \"16\": {\"node_type\": \"metabolite\", \"x\": 300.0, \"y\": 1850.0, \"label_x\": 310.0, \"label_y\": 1880.0, \"bigg_id\": \"PROTON_c\", \"name\": \"PROTON_c\", \"node_is_primary\": false}, \"17\": {\"node_type\": \"multimarker\", \"x\": 225.0, \"y\": 1605.0}, \"18\": {\"node_type\": \"midmarker\", \"x\": 225.0, \"y\": 1625.0}, \"19\": {\"node_type\": \"multimarker\", \"x\": 225.0, \"y\": 1645.0}, \"20\": {\"node_type\": \"metabolite\", \"x\": 300.0, \"y\": 1980.0, \"label_x\": 310.0, \"label_y\": 1970.0, \"bigg_id\": \"NADP_c\", \"name\": \"NADP_c\", \"node_is_primary\": false}, \"21\": {\"node_type\": \"metabolite\", \"x\": 112.5, \"y\": 2500.0, \"label_x\": 122.5, \"label_y\": 2530.0, \"bigg_id\": \"CARBON_DIOXIDE_c\", \"name\": \"CARBON_DIOXIDE_c\", \"node_is_primary\": false}, \"22\": {\"node_type\": \"metabolite\", \"x\": 225.0, \"y\": 2500.0, \"label_x\": 235.0, \"label_y\": 2530.0, \"bigg_id\": \"NADPH_c\", \"name\": \"NADPH_c\", \"node_is_primary\": false}, \"23\": {\"node_type\": \"metabolite\", \"x\": 337.5, \"y\": 2500.0, \"label_x\": 347.5, \"label_y\": 2530.0, \"bigg_id\": \"RIBULOSE_5P_c\", \"name\": \"RIBULOSE_5P_c\", \"node_is_primary\": false}, \"24\": {\"node_type\": \"multimarker\", \"x\": 225.0, \"y\": 2255.0}, \"25\": {\"node_type\": \"midmarker\", \"x\": 225.0, \"y\": 2275.0}, \"26\": {\"node_type\": \"multimarker\", \"x\": 225.0, \"y\": 2295.0}}, \"text_labels\": {}, \"canvas\": {\"x\": 0, \"y\": 0, \"width\": 450, \"height\": 2600}}]",
       "_loaded_model_json": null,
       "allow_building_duplicate_reactions": false,
       "and_method_in_gene_reaction_rule": "mean",
       "canvas_size_and_loc": null,
       "cofactors": [
        "atp",
        "adp",
        "nad",
        "nadh",
        "nadp",
        "nadph",
        "gtp",
        "gdp",
        "h",
        "coa",
        "ump",
        "h2o",
        "ppi"
       ],
       "disabled_buttons": [
        "Clear gene data",
        "Clear metabolite data"
       ],
       "embedded_css": null,
       "enable_editing": true,
       "enable_keys": false,
       "enable_keys_with_tooltip": true,
       "enable_search": true,
       "enable_tooltips": false,
       "full_screen_button": {
        "enable_editing": true,
        "enable_keys": true,
        "enable_tooltips": [
         "label"
        ],
        "menu": "all",
        "scroll_behavior": "pan"
       },
       "gene_data": null,
       "gene_font_size": 18,
       "height": 500,
       "hide_all_labels": false,
       "hide_secondary_metabolites": false,
       "highlight_missing": false,
       "identifiers_on_map": "bigg_id",
       "layout": "IPY_MODEL_86035fccc36b48dda13e9b55b7eedf8f",
       "marker_radius": 5,
       "menu": "all",
       "metabolite_compare_style": "log2_fold",
       "metabolite_data": null,
       "metabolite_no_data_color": "#ffffff",
       "metabolite_no_data_size": 10,
       "metabolite_scale": [
        {
         "color": "#fffaf0",
         "size": 20,
         "type": "min"
        },
        {
         "color": "#f1c470",
         "size": 30,
         "type": "median"
        },
        {
         "color": "#800000",
         "size": 40,
         "type": "max"
        }
       ],
       "metabolite_scale_preset": "WhYlRd",
       "metabolite_styles": [
        "color",
        "size",
        "text"
       ],
       "never_ask_before_quit": true,
       "primary_metabolite_radius": 20,
       "reaction_compare_style": "log2_fold",
       "reaction_data": {
        "G6PDH2r": -2,
        "GLCpts": -2,
        "GND": 1,
        "Other": 1000,
        "PGL": 0.4
       },
       "reaction_no_data_color": "#dcdcdc",
       "reaction_no_data_size": 8,
       "reaction_scale": [
        {
         "color": "rgb(191,215,230)",
         "type": "value",
         "value": 0.4
        },
        {
         "color": "rgb(163,210,240)",
         "type": "value",
         "value": 1
        },
        {
         "color": "rgb(135,205,250)",
         "type": "value",
         "value": 1000
        },
        {
         "color": "rgb(220,220,220)",
         "type": "value",
         "value": 0
        },
        {
         "color": "rgb(237,192,110)",
         "type": "value",
         "value": -2
        },
        {
         "color": "rgb(255,165,0)",
         "type": "value",
         "value": -2
        }
       ],
       "reaction_scale_preset": null,
       "reaction_styles": [
        "color",
        "text"
       ],
       "scroll_behavior": "none",
       "secondary_metabolite_radius": 10,
       "semantic_zoom": null,
       "show_gene_reaction_rules": false,
       "starting_reaction": null,
       "use_3d_transform": false,
       "zoom_to_element": null
      }
     },
     "205b7349d9d84550860e6ea94d6dfd4d": {
      "model_module": "@jupyter-widgets/base",
      "model_module_version": "1.2.0",
      "model_name": "LayoutModel",
      "state": {}
     },
     "225666557f5e4f63a6b65cf827101dd8": {
      "model_module": "escher",
      "model_module_version": "1.7.4",
      "model_name": "EscherMapModel",
      "state": {
       "_loaded_map_json": "[{\"map_name\": \"\", \"map_id\": \"\", \"map_description\": \"\", \"homepage\": \"\", \"schema\": \"https://escher.github.io/escher/jsonschema/1-0-0#\"}, {\"reactions\": {\"0\": {\"name\": \"G6PDH2r\", \"bigg_id\": \"G6PDH2r\", \"reversibility\": true, \"label_x\": 265.0, \"label_y\": 325.0, \"gene_reaction_rule\": \"\", \"genes\": [], \"segments\": {\"0\": {\"from_node_id\": \"5\", \"to_node_id\": \"6\", \"b1\": null, \"b2\": null}, \"1\": {\"from_node_id\": \"7\", \"to_node_id\": \"6\", \"b1\": null, \"b2\": null}, \"2\": {\"from_node_id\": \"0\", \"to_node_id\": \"5\", \"b1\": null, \"b2\": null}, \"3\": {\"from_node_id\": \"1\", \"to_node_id\": \"5\", \"b1\": null, \"b2\": null}, \"4\": {\"from_node_id\": \"2\", \"to_node_id\": \"7\", \"b1\": null, \"b2\": null}, \"5\": {\"from_node_id\": \"3\", \"to_node_id\": \"7\", \"b1\": null, \"b2\": null}, \"6\": {\"from_node_id\": \"4\", \"to_node_id\": \"7\", \"b1\": null, \"b2\": null}}, \"metabolites\": [{\"bigg_id\": \"D_glucopyranose_6_phosphate_c\", \"coefficient\": -1.0}, {\"bigg_id\": \"NADP_c\", \"coefficient\": -1.0}, {\"bigg_id\": \"D_6_P_GLUCONO_DELTA_LACTONE_c\", \"coefficient\": 1.0}, {\"bigg_id\": \"NADPH_c\", \"coefficient\": 1.0}, {\"bigg_id\": \"PROTON_c\", \"coefficient\": 1.0}]}, \"1\": {\"name\": \"PGL\", \"bigg_id\": \"PGL\", \"reversibility\": true, \"label_x\": 265.0, \"label_y\": 975.0, \"gene_reaction_rule\": \"\", \"genes\": [], \"segments\": {\"7\": {\"from_node_id\": \"11\", \"to_node_id\": \"12\", \"b1\": null, \"b2\": null}, \"8\": {\"from_node_id\": \"13\", \"to_node_id\": \"12\", \"b1\": null, \"b2\": null}, \"9\": {\"from_node_id\": \"8\", \"to_node_id\": \"11\", \"b1\": null, \"b2\": null}, \"10\": {\"from_node_id\": \"2\", \"to_node_id\": \"11\", \"b1\": null, \"b2\": null}, \"11\": {\"from_node_id\": \"9\", \"to_node_id\": \"13\", \"b1\": null, \"b2\": null}, \"12\": {\"from_node_id\": \"10\", \"to_node_id\": \"13\", \"b1\": null, \"b2\": null}}, \"metabolites\": [{\"bigg_id\": \"CPD_15815_c\", \"coefficient\": -1.0}, {\"bigg_id\": \"D_6_P_GLUCONO_DELTA_LACTONE_c\", \"coefficient\": -1.0}, {\"bigg_id\": \"CPD_2961_c\", \"coefficient\": 1.0}, {\"bigg_id\": \"PROTON_c\", \"coefficient\": 1.0}]}, \"2\": {\"name\": \"GND\", \"bigg_id\": \"GND\", \"reversibility\": true, \"label_x\": 265.0, \"label_y\": 1625.0, \"gene_reaction_rule\": \"\", \"genes\": [], \"segments\": {\"13\": {\"from_node_id\": \"18\", \"to_node_id\": \"19\", \"b1\": null, \"b2\": null}, \"14\": {\"from_node_id\": \"20\", \"to_node_id\": \"19\", \"b1\": null, \"b2\": null}, \"15\": {\"from_node_id\": \"9\", \"to_node_id\": \"18\", \"b1\": null, \"b2\": null}, \"16\": {\"from_node_id\": \"14\", \"to_node_id\": \"18\", \"b1\": null, \"b2\": null}, \"17\": {\"from_node_id\": \"15\", \"to_node_id\": \"20\", \"b1\": null, \"b2\": null}, \"18\": {\"from_node_id\": \"16\", \"to_node_id\": \"20\", \"b1\": null, \"b2\": null}, \"19\": {\"from_node_id\": \"17\", \"to_node_id\": \"20\", \"b1\": null, \"b2\": null}}, \"metabolites\": [{\"bigg_id\": \"CPD_2961_c\", \"coefficient\": -1.0}, {\"bigg_id\": \"NADP_c\", \"coefficient\": -1.0}, {\"bigg_id\": \"CARBON_DIOXIDE_c\", \"coefficient\": 1.0}, {\"bigg_id\": \"NADPH_c\", \"coefficient\": 1.0}, {\"bigg_id\": \"RIBULOSE_5P_c\", \"coefficient\": 1.0}]}, \"3\": {\"name\": \"GLCpts\", \"bigg_id\": \"GLCpts\", \"reversibility\": true, \"label_x\": 265.0, \"label_y\": 2275.0, \"gene_reaction_rule\": \"\", \"genes\": [], \"segments\": {\"20\": {\"from_node_id\": \"25\", \"to_node_id\": \"26\", \"b1\": null, \"b2\": null}, \"21\": {\"from_node_id\": \"27\", \"to_node_id\": \"26\", \"b1\": null, \"b2\": null}, \"22\": {\"from_node_id\": \"21\", \"to_node_id\": \"25\", \"b1\": null, \"b2\": null}, \"23\": {\"from_node_id\": \"22\", \"to_node_id\": \"25\", \"b1\": null, \"b2\": null}, \"24\": {\"from_node_id\": \"23\", \"to_node_id\": \"27\", \"b1\": null, \"b2\": null}, \"25\": {\"from_node_id\": \"24\", \"to_node_id\": \"27\", \"b1\": null, \"b2\": null}}, \"metabolites\": [{\"bigg_id\": \"Glucopyranose_e\", \"coefficient\": -1.0}, {\"bigg_id\": \"PHOSPHO_ENOL_PYRUVATE_c\", \"coefficient\": -1.0}, {\"bigg_id\": \"D_glucopyranose_6_phosphate_c\", \"coefficient\": 1.0}, {\"bigg_id\": \"PYRUVATE_c\", \"coefficient\": 1.0}]}}, \"nodes\": {\"0\": {\"node_type\": \"metabolite\", \"x\": 150.0, \"y\": 30.0, \"label_x\": 160.0, \"label_y\": 20.0, \"bigg_id\": \"D_glucopyranose_6_phosphate_c\", \"name\": \"D_glucopyranose_6_phosphate_c\", \"node_is_primary\": false}, \"1\": {\"node_type\": \"metabolite\", \"x\": 300.0, \"y\": 30.0, \"label_x\": 310.0, \"label_y\": 20.0, \"bigg_id\": \"NADP_c\", \"name\": \"NADP_c\", \"node_is_primary\": false}, \"2\": {\"node_type\": \"metabolite\", \"x\": 112.5, \"y\": 550.0, \"label_x\": 122.5, \"label_y\": 580.0, \"bigg_id\": \"D_6_P_GLUCONO_DELTA_LACTONE_c\", \"name\": \"D_6_P_GLUCONO_DELTA_LACTONE_c\", \"node_is_primary\": false}, \"3\": {\"node_type\": \"metabolite\", \"x\": 225.0, \"y\": 550.0, \"label_x\": 235.0, \"label_y\": 580.0, \"bigg_id\": \"NADPH_c\", \"name\": \"NADPH_c\", \"node_is_primary\": false}, \"4\": {\"node_type\": \"metabolite\", \"x\": 337.5, \"y\": 550.0, \"label_x\": 347.5, \"label_y\": 580.0, \"bigg_id\": \"PROTON_c\", \"name\": \"PROTON_c\", \"node_is_primary\": false}, \"5\": {\"node_type\": \"multimarker\", \"x\": 225.0, \"y\": 305.0}, \"6\": {\"node_type\": \"midmarker\", \"x\": 225.0, \"y\": 325.0}, \"7\": {\"node_type\": \"multimarker\", \"x\": 225.0, \"y\": 345.0}, \"8\": {\"node_type\": \"metabolite\", \"x\": 150.0, \"y\": 680.0, \"label_x\": 160.0, \"label_y\": 670.0, \"bigg_id\": \"CPD_15815_c\", \"name\": \"CPD_15815_c\", \"node_is_primary\": false}, \"9\": {\"node_type\": \"metabolite\", \"x\": 150.0, \"y\": 1200.0, \"label_x\": 160.0, \"label_y\": 1230.0, \"bigg_id\": \"CPD_2961_c\", \"name\": \"CPD_2961_c\", \"node_is_primary\": false}, \"10\": {\"node_type\": \"metabolite\", \"x\": 300.0, \"y\": 1200.0, \"label_x\": 310.0, \"label_y\": 1230.0, \"bigg_id\": \"PROTON_c\", \"name\": \"PROTON_c\", \"node_is_primary\": false}, \"11\": {\"node_type\": \"multimarker\", \"x\": 225.0, \"y\": 955.0}, \"12\": {\"node_type\": \"midmarker\", \"x\": 225.0, \"y\": 975.0}, \"13\": {\"node_type\": \"multimarker\", \"x\": 225.0, \"y\": 995.0}, \"14\": {\"node_type\": \"metabolite\", \"x\": 300.0, \"y\": 1330.0, \"label_x\": 310.0, \"label_y\": 1320.0, \"bigg_id\": \"NADP_c\", \"name\": \"NADP_c\", \"node_is_primary\": false}, \"15\": {\"node_type\": \"metabolite\", \"x\": 112.5, \"y\": 1850.0, \"label_x\": 122.5, \"label_y\": 1880.0, \"bigg_id\": \"CARBON_DIOXIDE_c\", \"name\": \"CARBON_DIOXIDE_c\", \"node_is_primary\": false}, \"16\": {\"node_type\": \"metabolite\", \"x\": 225.0, \"y\": 1850.0, \"label_x\": 235.0, \"label_y\": 1880.0, \"bigg_id\": \"NADPH_c\", \"name\": \"NADPH_c\", \"node_is_primary\": false}, \"17\": {\"node_type\": \"metabolite\", \"x\": 337.5, \"y\": 1850.0, \"label_x\": 347.5, \"label_y\": 1880.0, \"bigg_id\": \"RIBULOSE_5P_c\", \"name\": \"RIBULOSE_5P_c\", \"node_is_primary\": false}, \"18\": {\"node_type\": \"multimarker\", \"x\": 225.0, \"y\": 1605.0}, \"19\": {\"node_type\": \"midmarker\", \"x\": 225.0, \"y\": 1625.0}, \"20\": {\"node_type\": \"multimarker\", \"x\": 225.0, \"y\": 1645.0}, \"21\": {\"node_type\": \"metabolite\", \"x\": 150.0, \"y\": 1980.0, \"label_x\": 160.0, \"label_y\": 1970.0, \"bigg_id\": \"Glucopyranose_e\", \"name\": \"Glucopyranose_e\", \"node_is_primary\": false}, \"22\": {\"node_type\": \"metabolite\", \"x\": 300.0, \"y\": 1980.0, \"label_x\": 310.0, \"label_y\": 1970.0, \"bigg_id\": \"PHOSPHO_ENOL_PYRUVATE_c\", \"name\": \"PHOSPHO_ENOL_PYRUVATE_c\", \"node_is_primary\": false}, \"23\": {\"node_type\": \"metabolite\", \"x\": 150.0, \"y\": 2500.0, \"label_x\": 160.0, \"label_y\": 2530.0, \"bigg_id\": \"D_glucopyranose_6_phosphate_c\", \"name\": \"D_glucopyranose_6_phosphate_c\", \"node_is_primary\": false}, \"24\": {\"node_type\": \"metabolite\", \"x\": 300.0, \"y\": 2500.0, \"label_x\": 310.0, \"label_y\": 2530.0, \"bigg_id\": \"PYRUVATE_c\", \"name\": \"PYRUVATE_c\", \"node_is_primary\": false}, \"25\": {\"node_type\": \"multimarker\", \"x\": 225.0, \"y\": 2255.0}, \"26\": {\"node_type\": \"midmarker\", \"x\": 225.0, \"y\": 2275.0}, \"27\": {\"node_type\": \"multimarker\", \"x\": 225.0, \"y\": 2295.0}}, \"text_labels\": {}, \"canvas\": {\"x\": 0, \"y\": 0, \"width\": 450, \"height\": 2600}}]",
       "_loaded_model_json": null,
       "allow_building_duplicate_reactions": null,
       "and_method_in_gene_reaction_rule": null,
       "canvas_size_and_loc": null,
       "cofactors": null,
       "disabled_buttons": null,
       "embedded_css": null,
       "enable_editing": null,
       "enable_keys": false,
       "enable_keys_with_tooltip": null,
       "enable_search": null,
       "enable_tooltips": false,
       "full_screen_button": {
        "enable_editing": true,
        "enable_keys": true,
        "enable_tooltips": [
         "label"
        ],
        "menu": "all",
        "scroll_behavior": "pan"
       },
       "gene_data": null,
       "gene_font_size": null,
       "height": 500,
       "hide_all_labels": null,
       "hide_secondary_metabolites": null,
       "highlight_missing": null,
       "identifiers_on_map": null,
       "layout": "IPY_MODEL_19fa792675a34559a7a3b24a5fa58a9a",
       "marker_radius": null,
       "menu": null,
       "metabolite_compare_style": null,
       "metabolite_data": null,
       "metabolite_no_data_color": null,
       "metabolite_no_data_size": null,
       "metabolite_scale": null,
       "metabolite_scale_preset": null,
       "metabolite_styles": null,
       "never_ask_before_quit": true,
       "primary_metabolite_radius": null,
       "reaction_compare_style": null,
       "reaction_data": {
        "G6PDH2r": -2,
        "GLCpts": -2,
        "GND": 1,
        "PGL": 0.4
       },
       "reaction_no_data_color": null,
       "reaction_no_data_size": null,
       "reaction_scale": [
        {
         "color": "rgb(146,189,146)",
         "type": "value",
         "value": 3.3333333333333335
        },
        {
         "color": "rgb(73,158,73)",
         "type": "value",
         "value": 6.666666666666666
        },
        {
         "color": "rgb(0,127,0)",
         "type": "value",
         "value": 10
        },
        {
         "color": "rgb(220,220,220)",
         "type": "value",
         "value": 0
        },
        {
         "color": "rgb(231,146,146)",
         "type": "value",
         "value": -3.3333333333333335
        },
        {
         "color": "rgb(243,73,73)",
         "type": "value",
         "value": -6.666666666666666
        },
        {
         "color": "rgb(255,0,0)",
         "type": "value",
         "value": -10
        }
       ],
       "reaction_scale_preset": null,
       "reaction_styles": [
        "color",
        "text"
       ],
       "scroll_behavior": "none",
       "secondary_metabolite_radius": null,
       "semantic_zoom": null,
       "show_gene_reaction_rules": null,
       "starting_reaction": null,
       "use_3d_transform": null,
       "zoom_to_element": null
      }
     },
     "27b8658efd55433385cf450486a009d1": {
      "model_module": "escher",
      "model_module_version": "1.7.4",
      "model_name": "EscherMapModel",
      "state": {
       "_loaded_map_json": "[{\"map_name\": \"\", \"map_id\": \"\", \"map_description\": \"\", \"homepage\": \"\", \"schema\": \"https://escher.github.io/escher/jsonschema/1-0-0#\"}, {\"reactions\": {\"0\": {\"name\": \"GLCpts\", \"bigg_id\": \"GLCpts\", \"reversibility\": true, \"label_x\": 265.0, \"label_y\": 325.0, \"gene_reaction_rule\": \"\", \"genes\": [], \"segments\": {\"0\": {\"from_node_id\": \"4\", \"to_node_id\": \"5\", \"b1\": null, \"b2\": null}, \"1\": {\"from_node_id\": \"6\", \"to_node_id\": \"5\", \"b1\": null, \"b2\": null}, \"2\": {\"from_node_id\": \"0\", \"to_node_id\": \"4\", \"b1\": null, \"b2\": null}, \"3\": {\"from_node_id\": \"1\", \"to_node_id\": \"4\", \"b1\": null, \"b2\": null}, \"4\": {\"from_node_id\": \"2\", \"to_node_id\": \"6\", \"b1\": null, \"b2\": null}, \"5\": {\"from_node_id\": \"3\", \"to_node_id\": \"6\", \"b1\": null, \"b2\": null}}, \"metabolites\": [{\"bigg_id\": \"Glucopyranose_e\", \"coefficient\": -1.0}, {\"bigg_id\": \"PHOSPHO_ENOL_PYRUVATE_c\", \"coefficient\": -1.0}, {\"bigg_id\": \"D_glucopyranose_6_phosphate_c\", \"coefficient\": 1.0}, {\"bigg_id\": \"PYRUVATE_c\", \"coefficient\": 1.0}]}, \"1\": {\"name\": \"GND\", \"bigg_id\": \"GND\", \"reversibility\": true, \"label_x\": 265.0, \"label_y\": 975.0, \"gene_reaction_rule\": \"\", \"genes\": [], \"segments\": {\"6\": {\"from_node_id\": \"12\", \"to_node_id\": \"13\", \"b1\": null, \"b2\": null}, \"7\": {\"from_node_id\": \"14\", \"to_node_id\": \"13\", \"b1\": null, \"b2\": null}, \"8\": {\"from_node_id\": \"7\", \"to_node_id\": \"12\", \"b1\": null, \"b2\": null}, \"9\": {\"from_node_id\": \"8\", \"to_node_id\": \"12\", \"b1\": null, \"b2\": null}, \"10\": {\"from_node_id\": \"9\", \"to_node_id\": \"14\", \"b1\": null, \"b2\": null}, \"11\": {\"from_node_id\": \"10\", \"to_node_id\": \"14\", \"b1\": null, \"b2\": null}, \"12\": {\"from_node_id\": \"11\", \"to_node_id\": \"14\", \"b1\": null, \"b2\": null}}, \"metabolites\": [{\"bigg_id\": \"CPD_2961_c\", \"coefficient\": -1.0}, {\"bigg_id\": \"NADP_c\", \"coefficient\": -1.0}, {\"bigg_id\": \"CARBON_DIOXIDE_c\", \"coefficient\": 1.0}, {\"bigg_id\": \"NADPH_c\", \"coefficient\": 1.0}, {\"bigg_id\": \"RIBULOSE_5P_c\", \"coefficient\": 1.0}]}, \"2\": {\"name\": \"PGL\", \"bigg_id\": \"PGL\", \"reversibility\": true, \"label_x\": 265.0, \"label_y\": 1625.0, \"gene_reaction_rule\": \"\", \"genes\": [], \"segments\": {\"13\": {\"from_node_id\": \"19\", \"to_node_id\": \"20\", \"b1\": null, \"b2\": null}, \"14\": {\"from_node_id\": \"21\", \"to_node_id\": \"20\", \"b1\": null, \"b2\": null}, \"15\": {\"from_node_id\": \"15\", \"to_node_id\": \"19\", \"b1\": null, \"b2\": null}, \"16\": {\"from_node_id\": \"16\", \"to_node_id\": \"19\", \"b1\": null, \"b2\": null}, \"17\": {\"from_node_id\": \"17\", \"to_node_id\": \"21\", \"b1\": null, \"b2\": null}, \"18\": {\"from_node_id\": \"18\", \"to_node_id\": \"21\", \"b1\": null, \"b2\": null}}, \"metabolites\": [{\"bigg_id\": \"CPD_15815_c\", \"coefficient\": -1.0}, {\"bigg_id\": \"D_6_P_GLUCONO_DELTA_LACTONE_c\", \"coefficient\": -1.0}, {\"bigg_id\": \"CPD_2961_c\", \"coefficient\": 1.0}, {\"bigg_id\": \"PROTON_c\", \"coefficient\": 1.0}]}, \"3\": {\"name\": \"G6PDH2r\", \"bigg_id\": \"G6PDH2r\", \"reversibility\": true, \"label_x\": 265.0, \"label_y\": 2275.0, \"gene_reaction_rule\": \"\", \"genes\": [], \"segments\": {\"19\": {\"from_node_id\": \"27\", \"to_node_id\": \"28\", \"b1\": null, \"b2\": null}, \"20\": {\"from_node_id\": \"29\", \"to_node_id\": \"28\", \"b1\": null, \"b2\": null}, \"21\": {\"from_node_id\": \"22\", \"to_node_id\": \"27\", \"b1\": null, \"b2\": null}, \"22\": {\"from_node_id\": \"23\", \"to_node_id\": \"27\", \"b1\": null, \"b2\": null}, \"23\": {\"from_node_id\": \"24\", \"to_node_id\": \"29\", \"b1\": null, \"b2\": null}, \"24\": {\"from_node_id\": \"25\", \"to_node_id\": \"29\", \"b1\": null, \"b2\": null}, \"25\": {\"from_node_id\": \"26\", \"to_node_id\": \"29\", \"b1\": null, \"b2\": null}}, \"metabolites\": [{\"bigg_id\": \"D_glucopyranose_6_phosphate_c\", \"coefficient\": -1.0}, {\"bigg_id\": \"NADP_c\", \"coefficient\": -1.0}, {\"bigg_id\": \"D_6_P_GLUCONO_DELTA_LACTONE_c\", \"coefficient\": 1.0}, {\"bigg_id\": \"NADPH_c\", \"coefficient\": 1.0}, {\"bigg_id\": \"PROTON_c\", \"coefficient\": 1.0}]}}, \"nodes\": {\"0\": {\"node_type\": \"metabolite\", \"x\": 150.0, \"y\": 30.0, \"label_x\": 160.0, \"label_y\": 20.0, \"bigg_id\": \"Glucopyranose_e\", \"name\": \"Glucopyranose_e\", \"node_is_primary\": false}, \"1\": {\"node_type\": \"metabolite\", \"x\": 300.0, \"y\": 30.0, \"label_x\": 310.0, \"label_y\": 20.0, \"bigg_id\": \"PHOSPHO_ENOL_PYRUVATE_c\", \"name\": \"PHOSPHO_ENOL_PYRUVATE_c\", \"node_is_primary\": false}, \"2\": {\"node_type\": \"metabolite\", \"x\": 150.0, \"y\": 550.0, \"label_x\": 160.0, \"label_y\": 580.0, \"bigg_id\": \"D_glucopyranose_6_phosphate_c\", \"name\": \"D_glucopyranose_6_phosphate_c\", \"node_is_primary\": false}, \"3\": {\"node_type\": \"metabolite\", \"x\": 300.0, \"y\": 550.0, \"label_x\": 310.0, \"label_y\": 580.0, \"bigg_id\": \"PYRUVATE_c\", \"name\": \"PYRUVATE_c\", \"node_is_primary\": false}, \"4\": {\"node_type\": \"multimarker\", \"x\": 225.0, \"y\": 305.0}, \"5\": {\"node_type\": \"midmarker\", \"x\": 225.0, \"y\": 325.0}, \"6\": {\"node_type\": \"multimarker\", \"x\": 225.0, \"y\": 345.0}, \"7\": {\"node_type\": \"metabolite\", \"x\": 150.0, \"y\": 680.0, \"label_x\": 160.0, \"label_y\": 670.0, \"bigg_id\": \"CPD_2961_c\", \"name\": \"CPD_2961_c\", \"node_is_primary\": false}, \"8\": {\"node_type\": \"metabolite\", \"x\": 300.0, \"y\": 680.0, \"label_x\": 310.0, \"label_y\": 670.0, \"bigg_id\": \"NADP_c\", \"name\": \"NADP_c\", \"node_is_primary\": false}, \"9\": {\"node_type\": \"metabolite\", \"x\": 112.5, \"y\": 1200.0, \"label_x\": 122.5, \"label_y\": 1230.0, \"bigg_id\": \"CARBON_DIOXIDE_c\", \"name\": \"CARBON_DIOXIDE_c\", \"node_is_primary\": false}, \"10\": {\"node_type\": \"metabolite\", \"x\": 225.0, \"y\": 1200.0, \"label_x\": 235.0, \"label_y\": 1230.0, \"bigg_id\": \"NADPH_c\", \"name\": \"NADPH_c\", \"node_is_primary\": false}, \"11\": {\"node_type\": \"metabolite\", \"x\": 337.5, \"y\": 1200.0, \"label_x\": 347.5, \"label_y\": 1230.0, \"bigg_id\": \"RIBULOSE_5P_c\", \"name\": \"RIBULOSE_5P_c\", \"node_is_primary\": false}, \"12\": {\"node_type\": \"multimarker\", \"x\": 225.0, \"y\": 955.0}, \"13\": {\"node_type\": \"midmarker\", \"x\": 225.0, \"y\": 975.0}, \"14\": {\"node_type\": \"multimarker\", \"x\": 225.0, \"y\": 995.0}, \"15\": {\"node_type\": \"metabolite\", \"x\": 150.0, \"y\": 1330.0, \"label_x\": 160.0, \"label_y\": 1320.0, \"bigg_id\": \"CPD_15815_c\", \"name\": \"CPD_15815_c\", \"node_is_primary\": false}, \"16\": {\"node_type\": \"metabolite\", \"x\": 300.0, \"y\": 1330.0, \"label_x\": 310.0, \"label_y\": 1320.0, \"bigg_id\": \"D_6_P_GLUCONO_DELTA_LACTONE_c\", \"name\": \"D_6_P_GLUCONO_DELTA_LACTONE_c\", \"node_is_primary\": false}, \"17\": {\"node_type\": \"metabolite\", \"x\": 150.0, \"y\": 1850.0, \"label_x\": 160.0, \"label_y\": 1880.0, \"bigg_id\": \"CPD_2961_c\", \"name\": \"CPD_2961_c\", \"node_is_primary\": false}, \"18\": {\"node_type\": \"metabolite\", \"x\": 300.0, \"y\": 1850.0, \"label_x\": 310.0, \"label_y\": 1880.0, \"bigg_id\": \"PROTON_c\", \"name\": \"PROTON_c\", \"node_is_primary\": false}, \"19\": {\"node_type\": \"multimarker\", \"x\": 225.0, \"y\": 1605.0}, \"20\": {\"node_type\": \"midmarker\", \"x\": 225.0, \"y\": 1625.0}, \"21\": {\"node_type\": \"multimarker\", \"x\": 225.0, \"y\": 1645.0}, \"22\": {\"node_type\": \"metabolite\", \"x\": 150.0, \"y\": 1980.0, \"label_x\": 160.0, \"label_y\": 1970.0, \"bigg_id\": \"D_glucopyranose_6_phosphate_c\", \"name\": \"D_glucopyranose_6_phosphate_c\", \"node_is_primary\": false}, \"23\": {\"node_type\": \"metabolite\", \"x\": 300.0, \"y\": 1980.0, \"label_x\": 310.0, \"label_y\": 1970.0, \"bigg_id\": \"NADP_c\", \"name\": \"NADP_c\", \"node_is_primary\": false}, \"24\": {\"node_type\": \"metabolite\", \"x\": 112.5, \"y\": 2500.0, \"label_x\": 122.5, \"label_y\": 2530.0, \"bigg_id\": \"D_6_P_GLUCONO_DELTA_LACTONE_c\", \"name\": \"D_6_P_GLUCONO_DELTA_LACTONE_c\", \"node_is_primary\": false}, \"25\": {\"node_type\": \"metabolite\", \"x\": 225.0, \"y\": 2500.0, \"label_x\": 235.0, \"label_y\": 2530.0, \"bigg_id\": \"NADPH_c\", \"name\": \"NADPH_c\", \"node_is_primary\": false}, \"26\": {\"node_type\": \"metabolite\", \"x\": 337.5, \"y\": 2500.0, \"label_x\": 347.5, \"label_y\": 2530.0, \"bigg_id\": \"PROTON_c\", \"name\": \"PROTON_c\", \"node_is_primary\": false}, \"27\": {\"node_type\": \"multimarker\", \"x\": 225.0, \"y\": 2255.0}, \"28\": {\"node_type\": \"midmarker\", \"x\": 225.0, \"y\": 2275.0}, \"29\": {\"node_type\": \"multimarker\", \"x\": 225.0, \"y\": 2295.0}}, \"text_labels\": {}, \"canvas\": {\"x\": 0, \"y\": 0, \"width\": 450, \"height\": 2600}}]",
       "_loaded_model_json": null,
       "allow_building_duplicate_reactions": false,
       "and_method_in_gene_reaction_rule": "mean",
       "canvas_size_and_loc": null,
       "cofactors": [
        "atp",
        "adp",
        "nad",
        "nadh",
        "nadp",
        "nadph",
        "gtp",
        "gdp",
        "h",
        "coa",
        "ump",
        "h2o",
        "ppi"
       ],
       "disabled_buttons": [
        "Clear gene data",
        "Clear metabolite data"
       ],
       "embedded_css": null,
       "enable_editing": true,
       "enable_keys": false,
       "enable_keys_with_tooltip": true,
       "enable_search": true,
       "enable_tooltips": false,
       "full_screen_button": {
        "enable_editing": true,
        "enable_keys": true,
        "enable_tooltips": [
         "label"
        ],
        "menu": "all",
        "scroll_behavior": "pan"
       },
       "gene_data": null,
       "gene_font_size": 18,
       "height": 500,
       "hide_all_labels": false,
       "hide_secondary_metabolites": false,
       "highlight_missing": false,
       "identifiers_on_map": "bigg_id",
       "layout": "IPY_MODEL_41478c5e90af4f3bba7445953c1a6377",
       "marker_radius": 5,
       "menu": "all",
       "metabolite_compare_style": "log2_fold",
       "metabolite_data": null,
       "metabolite_no_data_color": "#ffffff",
       "metabolite_no_data_size": 10,
       "metabolite_scale": [
        {
         "color": "#fffaf0",
         "size": 20,
         "type": "min"
        },
        {
         "color": "#f1c470",
         "size": 30,
         "type": "median"
        },
        {
         "color": "#800000",
         "size": 40,
         "type": "max"
        }
       ],
       "metabolite_scale_preset": "WhYlRd",
       "metabolite_styles": [
        "color",
        "size",
        "text"
       ],
       "never_ask_before_quit": true,
       "primary_metabolite_radius": 20,
       "reaction_compare_style": "log2_fold",
       "reaction_data": {
        "G6PDH2r": -2,
        "GLCpts": -2,
        "GND": 1,
        "PGL": 0.4
       },
       "reaction_no_data_color": "#dcdcdc",
       "reaction_no_data_size": 8,
       "reaction_scale": [
        {
         "color": "rgb(146,189,146)",
         "type": "value",
         "value": 3.3333333333333335
        },
        {
         "color": "rgb(73,158,73)",
         "type": "value",
         "value": 6.666666666666666
        },
        {
         "color": "rgb(0,127,0)",
         "type": "value",
         "value": 10
        },
        {
         "color": "rgb(220,220,220)",
         "type": "value",
         "value": 0
        },
        {
         "color": "rgb(231,146,146)",
         "type": "value",
         "value": -3.3333333333333335
        },
        {
         "color": "rgb(243,73,73)",
         "type": "value",
         "value": -6.666666666666666
        },
        {
         "color": "rgb(255,0,0)",
         "type": "value",
         "value": -10
        }
       ],
       "reaction_scale_preset": null,
       "reaction_styles": [
        "color",
        "text"
       ],
       "scroll_behavior": "none",
       "secondary_metabolite_radius": 10,
       "semantic_zoom": null,
       "show_gene_reaction_rules": false,
       "starting_reaction": null,
       "use_3d_transform": false,
       "zoom_to_element": null
      }
     },
     "2c2620cb94f74c5f830781c3b45d8f61": {
      "model_module": "@jupyter-widgets/base",
      "model_module_version": "1.2.0",
      "model_name": "LayoutModel",
      "state": {}
     },
     "2d9af6293f7d4b0d963a6905888114ec": {
      "model_module": "@jupyter-widgets/base",
      "model_module_version": "1.2.0",
      "model_name": "LayoutModel",
      "state": {}
     },
     "2daa49917a8b40ac9a1f4e94c22b3fbb": {
      "model_module": "@jupyter-widgets/base",
      "model_module_version": "1.2.0",
      "model_name": "LayoutModel",
      "state": {}
     },
     "30ade8bc9af444c6bd19c94cf05254f2": {
      "model_module": "@jupyter-widgets/base",
      "model_module_version": "1.2.0",
      "model_name": "LayoutModel",
      "state": {}
     },
     "34b5e6cd86a544ea9f481637a5a4e9e8": {
      "model_module": "escher",
      "model_module_version": "1.7.4",
      "model_name": "EscherMapModel",
      "state": {
       "_loaded_map_json": "[{\"map_name\": \"\", \"map_id\": \"\", \"map_description\": \"\", \"homepage\": \"\", \"schema\": \"https://escher.github.io/escher/jsonschema/1-0-0#\"}, {\"reactions\": {\"0\": {\"name\": \"PGL\", \"bigg_id\": \"PGL\", \"reversibility\": true, \"label_x\": 298.0, \"label_y\": 45.0, \"gene_reaction_rule\": \"\", \"genes\": [], \"segments\": {\"0\": {\"from_node_id\": \"4\", \"to_node_id\": \"5\", \"b1\": null, \"b2\": null}, \"1\": {\"from_node_id\": \"6\", \"to_node_id\": \"5\", \"b1\": null, \"b2\": null}, \"2\": {\"from_node_id\": \"0\", \"to_node_id\": \"4\", \"b1\": null, \"b2\": null}, \"3\": {\"from_node_id\": \"1\", \"to_node_id\": \"4\", \"b1\": null, \"b2\": null}, \"4\": {\"from_node_id\": \"2\", \"to_node_id\": \"6\", \"b1\": null, \"b2\": null}, \"5\": {\"from_node_id\": \"3\", \"to_node_id\": \"6\", \"b1\": null, \"b2\": null}}, \"metabolites\": [{\"bigg_id\": \"CPD_15815_c\", \"coefficient\": -1.0}, {\"bigg_id\": \"D_6_P_GLUCONO_DELTA_LACTONE_c\", \"coefficient\": -1.0}, {\"bigg_id\": \"CPD_2961_c\", \"coefficient\": 1.0}, {\"bigg_id\": \"PROTON_c\", \"coefficient\": 1.0}]}, \"1\": {\"name\": \"GND\", \"bigg_id\": \"GND\", \"reversibility\": true, \"label_x\": 948.0, \"label_y\": 45.0, \"gene_reaction_rule\": \"\", \"genes\": [], \"segments\": {\"6\": {\"from_node_id\": \"11\", \"to_node_id\": \"12\", \"b1\": null, \"b2\": null}, \"7\": {\"from_node_id\": \"13\", \"to_node_id\": \"12\", \"b1\": null, \"b2\": null}, \"8\": {\"from_node_id\": \"2\", \"to_node_id\": \"11\", \"b1\": null, \"b2\": null}, \"9\": {\"from_node_id\": \"7\", \"to_node_id\": \"11\", \"b1\": null, \"b2\": null}, \"10\": {\"from_node_id\": \"8\", \"to_node_id\": \"13\", \"b1\": null, \"b2\": null}, \"11\": {\"from_node_id\": \"9\", \"to_node_id\": \"13\", \"b1\": null, \"b2\": null}, \"12\": {\"from_node_id\": \"10\", \"to_node_id\": \"13\", \"b1\": null, \"b2\": null}}, \"metabolites\": [{\"bigg_id\": \"CPD_2961_c\", \"coefficient\": -1.0}, {\"bigg_id\": \"NADP_c\", \"coefficient\": -1.0}, {\"bigg_id\": \"CARBON_DIOXIDE_c\", \"coefficient\": 1.0}, {\"bigg_id\": \"NADPH_c\", \"coefficient\": 1.0}, {\"bigg_id\": \"RIBULOSE_5P_c\", \"coefficient\": 1.0}]}, \"2\": {\"name\": \"GLCpts\", \"bigg_id\": \"GLCpts\", \"reversibility\": true, \"label_x\": 1571.0, \"label_y\": 45.0, \"gene_reaction_rule\": \"\", \"genes\": [], \"segments\": {\"13\": {\"from_node_id\": \"18\", \"to_node_id\": \"19\", \"b1\": null, \"b2\": null}, \"14\": {\"from_node_id\": \"20\", \"to_node_id\": \"19\", \"b1\": null, \"b2\": null}, \"15\": {\"from_node_id\": \"14\", \"to_node_id\": \"18\", \"b1\": null, \"b2\": null}, \"16\": {\"from_node_id\": \"15\", \"to_node_id\": \"18\", \"b1\": null, \"b2\": null}, \"17\": {\"from_node_id\": \"16\", \"to_node_id\": \"20\", \"b1\": null, \"b2\": null}, \"18\": {\"from_node_id\": \"17\", \"to_node_id\": \"20\", \"b1\": null, \"b2\": null}}, \"metabolites\": [{\"bigg_id\": \"Glucopyranose_e\", \"coefficient\": -1.0}, {\"bigg_id\": \"PHOSPHO_ENOL_PYRUVATE_c\", \"coefficient\": -1.0}, {\"bigg_id\": \"D_glucopyranose_6_phosphate_c\", \"coefficient\": 1.0}, {\"bigg_id\": \"PYRUVATE_c\", \"coefficient\": 1.0}]}, \"3\": {\"name\": \"G6PDH2r\", \"bigg_id\": \"G6PDH2r\", \"reversibility\": true, \"label_x\": 2212.0, \"label_y\": 45.0, \"gene_reaction_rule\": \"\", \"genes\": [], \"segments\": {\"19\": {\"from_node_id\": \"25\", \"to_node_id\": \"26\", \"b1\": null, \"b2\": null}, \"20\": {\"from_node_id\": \"27\", \"to_node_id\": \"26\", \"b1\": null, \"b2\": null}, \"21\": {\"from_node_id\": \"16\", \"to_node_id\": \"25\", \"b1\": null, \"b2\": null}, \"22\": {\"from_node_id\": \"21\", \"to_node_id\": \"25\", \"b1\": null, \"b2\": null}, \"23\": {\"from_node_id\": \"22\", \"to_node_id\": \"27\", \"b1\": null, \"b2\": null}, \"24\": {\"from_node_id\": \"23\", \"to_node_id\": \"27\", \"b1\": null, \"b2\": null}, \"25\": {\"from_node_id\": \"24\", \"to_node_id\": \"27\", \"b1\": null, \"b2\": null}}, \"metabolites\": [{\"bigg_id\": \"D_glucopyranose_6_phosphate_c\", \"coefficient\": -1.0}, {\"bigg_id\": \"NADP_c\", \"coefficient\": -1.0}, {\"bigg_id\": \"D_6_P_GLUCONO_DELTA_LACTONE_c\", \"coefficient\": 1.0}, {\"bigg_id\": \"NADPH_c\", \"coefficient\": 1.0}, {\"bigg_id\": \"PROTON_c\", \"coefficient\": 1.0}]}}, \"nodes\": {\"0\": {\"node_type\": \"metabolite\", \"x\": 30.0, \"y\": 150.0, \"label_x\": 0.0, \"label_y\": 130.0, \"bigg_id\": \"CPD_15815_c\", \"name\": \"CPD_15815_c\", \"node_is_primary\": false}, \"1\": {\"node_type\": \"metabolite\", \"x\": 30.0, \"y\": 300.0, \"label_x\": 0.0, \"label_y\": 280.0, \"bigg_id\": \"D_6_P_GLUCONO_DELTA_LACTONE_c\", \"name\": \"D_6_P_GLUCONO_DELTA_LACTONE_c\", \"node_is_primary\": false}, \"2\": {\"node_type\": \"metabolite\", \"x\": 550.0, \"y\": 150.0, \"label_x\": 520.0, \"label_y\": 130.0, \"bigg_id\": \"CPD_2961_c\", \"name\": \"CPD_2961_c\", \"node_is_primary\": false}, \"3\": {\"node_type\": \"metabolite\", \"x\": 550.0, \"y\": 300.0, \"label_x\": 520.0, \"label_y\": 280.0, \"bigg_id\": \"PROTON_c\", \"name\": \"PROTON_c\", \"node_is_primary\": false}, \"4\": {\"node_type\": \"multimarker\", \"x\": 335.0, \"y\": 225.0}, \"5\": {\"node_type\": \"midmarker\", \"x\": 355.0, \"y\": 225.0}, \"6\": {\"node_type\": \"multimarker\", \"x\": 375.0, \"y\": 225.0}, \"7\": {\"node_type\": \"metabolite\", \"x\": 680.0, \"y\": 300.0, \"label_x\": 650.0, \"label_y\": 280.0, \"bigg_id\": \"NADP_c\", \"name\": \"NADP_c\", \"node_is_primary\": false}, \"8\": {\"node_type\": \"metabolite\", \"x\": 1200.0, \"y\": 112.5, \"label_x\": 1170.0, \"label_y\": 92.5, \"bigg_id\": \"CARBON_DIOXIDE_c\", \"name\": \"CARBON_DIOXIDE_c\", \"node_is_primary\": false}, \"9\": {\"node_type\": \"metabolite\", \"x\": 1200.0, \"y\": 225.0, \"label_x\": 1170.0, \"label_y\": 205.0, \"bigg_id\": \"NADPH_c\", \"name\": \"NADPH_c\", \"node_is_primary\": false}, \"10\": {\"node_type\": \"metabolite\", \"x\": 1200.0, \"y\": 337.5, \"label_x\": 1170.0, \"label_y\": 317.5, \"bigg_id\": \"RIBULOSE_5P_c\", \"name\": \"RIBULOSE_5P_c\", \"node_is_primary\": false}, \"11\": {\"node_type\": \"multimarker\", \"x\": 985.0, \"y\": 225.0}, \"12\": {\"node_type\": \"midmarker\", \"x\": 1005.0, \"y\": 225.0}, \"13\": {\"node_type\": \"multimarker\", \"x\": 1025.0, \"y\": 225.0}, \"14\": {\"node_type\": \"metabolite\", \"x\": 1330.0, \"y\": 150.0, \"label_x\": 1300.0, \"label_y\": 130.0, \"bigg_id\": \"Glucopyranose_e\", \"name\": \"Glucopyranose_e\", \"node_is_primary\": false}, \"15\": {\"node_type\": \"metabolite\", \"x\": 1330.0, \"y\": 300.0, \"label_x\": 1300.0, \"label_y\": 280.0, \"bigg_id\": \"PHOSPHO_ENOL_PYRUVATE_c\", \"name\": \"PHOSPHO_ENOL_PYRUVATE_c\", \"node_is_primary\": false}, \"16\": {\"node_type\": \"metabolite\", \"x\": 1850.0, \"y\": 150.0, \"label_x\": 1820.0, \"label_y\": 130.0, \"bigg_id\": \"D_glucopyranose_6_phosphate_c\", \"name\": \"D_glucopyranose_6_phosphate_c\", \"node_is_primary\": false}, \"17\": {\"node_type\": \"metabolite\", \"x\": 1850.0, \"y\": 300.0, \"label_x\": 1820.0, \"label_y\": 280.0, \"bigg_id\": \"PYRUVATE_c\", \"name\": \"PYRUVATE_c\", \"node_is_primary\": false}, \"18\": {\"node_type\": \"multimarker\", \"x\": 1635.0, \"y\": 225.0}, \"19\": {\"node_type\": \"midmarker\", \"x\": 1655.0, \"y\": 225.0}, \"20\": {\"node_type\": \"multimarker\", \"x\": 1675.0, \"y\": 225.0}, \"21\": {\"node_type\": \"metabolite\", \"x\": 1980.0, \"y\": 300.0, \"label_x\": 1950.0, \"label_y\": 280.0, \"bigg_id\": \"NADP_c\", \"name\": \"NADP_c\", \"node_is_primary\": false}, \"22\": {\"node_type\": \"metabolite\", \"x\": 2500.0, \"y\": 112.5, \"label_x\": 2470.0, \"label_y\": 92.5, \"bigg_id\": \"D_6_P_GLUCONO_DELTA_LACTONE_c\", \"name\": \"D_6_P_GLUCONO_DELTA_LACTONE_c\", \"node_is_primary\": false}, \"23\": {\"node_type\": \"metabolite\", \"x\": 2500.0, \"y\": 225.0, \"label_x\": 2470.0, \"label_y\": 205.0, \"bigg_id\": \"NADPH_c\", \"name\": \"NADPH_c\", \"node_is_primary\": false}, \"24\": {\"node_type\": \"metabolite\", \"x\": 2500.0, \"y\": 337.5, \"label_x\": 2470.0, \"label_y\": 317.5, \"bigg_id\": \"PROTON_c\", \"name\": \"PROTON_c\", \"node_is_primary\": false}, \"25\": {\"node_type\": \"multimarker\", \"x\": 2285.0, \"y\": 225.0}, \"26\": {\"node_type\": \"midmarker\", \"x\": 2305.0, \"y\": 225.0}, \"27\": {\"node_type\": \"multimarker\", \"x\": 2325.0, \"y\": 225.0}}, \"text_labels\": {}, \"canvas\": {\"x\": 0, \"y\": 0, \"width\": 2600, \"height\": 450}}]",
       "_loaded_model_json": null,
       "allow_building_duplicate_reactions": false,
       "and_method_in_gene_reaction_rule": "mean",
       "canvas_size_and_loc": null,
       "cofactors": [
        "atp",
        "adp",
        "nad",
        "nadh",
        "nadp",
        "nadph",
        "gtp",
        "gdp",
        "h",
        "coa",
        "ump",
        "h2o",
        "ppi"
       ],
       "disabled_buttons": [
        "Clear reaction data",
        "Clear gene data",
        "Clear metabolite data"
       ],
       "embedded_css": null,
       "enable_editing": true,
       "enable_keys": false,
       "enable_keys_with_tooltip": true,
       "enable_search": true,
       "enable_tooltips": false,
       "full_screen_button": {
        "enable_editing": true,
        "enable_keys": true,
        "enable_tooltips": [
         "label"
        ],
        "menu": "all",
        "scroll_behavior": "pan"
       },
       "gene_data": null,
       "gene_font_size": 18,
       "height": 500,
       "hide_all_labels": false,
       "hide_secondary_metabolites": false,
       "highlight_missing": false,
       "identifiers_on_map": "bigg_id",
       "layout": "IPY_MODEL_f0f97b6b4ae54782b6c3f6b6534c9cf5",
       "marker_radius": 5,
       "menu": "all",
       "metabolite_compare_style": "log2_fold",
       "metabolite_data": null,
       "metabolite_no_data_color": "#ffffff",
       "metabolite_no_data_size": 10,
       "metabolite_scale": [
        {
         "color": "#fffaf0",
         "size": 20,
         "type": "min"
        },
        {
         "color": "#f1c470",
         "size": 30,
         "type": "median"
        },
        {
         "color": "#800000",
         "size": 40,
         "type": "max"
        }
       ],
       "metabolite_scale_preset": "WhYlRd",
       "metabolite_styles": [
        "color",
        "size",
        "text"
       ],
       "never_ask_before_quit": true,
       "primary_metabolite_radius": 20,
       "reaction_compare_style": "log2_fold",
       "reaction_data": null,
       "reaction_no_data_color": "#dcdcdc",
       "reaction_no_data_size": 8,
       "reaction_scale": {},
       "reaction_scale_preset": null,
       "reaction_styles": [
        "color",
        "text"
       ],
       "scroll_behavior": "none",
       "secondary_metabolite_radius": 10,
       "semantic_zoom": null,
       "show_gene_reaction_rules": false,
       "starting_reaction": null,
       "use_3d_transform": false,
       "zoom_to_element": null
      }
     },
     "34b786ae356345c9bd8fc69a29c1659a": {
      "model_module": "escher",
      "model_module_version": "1.7.4",
      "model_name": "EscherMapModel",
      "state": {
       "_loaded_map_json": "[{\"map_name\": \"\", \"map_id\": \"\", \"map_description\": \"\", \"homepage\": \"\", \"schema\": \"https://escher.github.io/escher/jsonschema/1-0-0#\"}, {\"reactions\": {\"0\": {\"name\": \"PGL\", \"bigg_id\": \"PGL\", \"reversibility\": true, \"label_x\": 265.0, \"label_y\": 325.0, \"gene_reaction_rule\": \"\", \"genes\": [], \"segments\": {\"0\": {\"from_node_id\": \"4\", \"to_node_id\": \"5\", \"b1\": null, \"b2\": null}, \"1\": {\"from_node_id\": \"6\", \"to_node_id\": \"5\", \"b1\": null, \"b2\": null}, \"2\": {\"from_node_id\": \"0\", \"to_node_id\": \"4\", \"b1\": null, \"b2\": null}, \"3\": {\"from_node_id\": \"1\", \"to_node_id\": \"4\", \"b1\": null, \"b2\": null}, \"4\": {\"from_node_id\": \"2\", \"to_node_id\": \"6\", \"b1\": null, \"b2\": null}, \"5\": {\"from_node_id\": \"3\", \"to_node_id\": \"6\", \"b1\": null, \"b2\": null}}, \"metabolites\": [{\"bigg_id\": \"CPD_15815_c\", \"coefficient\": -1.0}, {\"bigg_id\": \"D_6_P_GLUCONO_DELTA_LACTONE_c\", \"coefficient\": -1.0}, {\"bigg_id\": \"CPD_2961_c\", \"coefficient\": 1.0}, {\"bigg_id\": \"PROTON_c\", \"coefficient\": 1.0}]}, \"1\": {\"name\": \"GND\", \"bigg_id\": \"GND\", \"reversibility\": true, \"label_x\": 265.0, \"label_y\": 975.0, \"gene_reaction_rule\": \"\", \"genes\": [], \"segments\": {\"6\": {\"from_node_id\": \"11\", \"to_node_id\": \"12\", \"b1\": null, \"b2\": null}, \"7\": {\"from_node_id\": \"13\", \"to_node_id\": \"12\", \"b1\": null, \"b2\": null}, \"8\": {\"from_node_id\": \"2\", \"to_node_id\": \"11\", \"b1\": null, \"b2\": null}, \"9\": {\"from_node_id\": \"7\", \"to_node_id\": \"11\", \"b1\": null, \"b2\": null}, \"10\": {\"from_node_id\": \"8\", \"to_node_id\": \"13\", \"b1\": null, \"b2\": null}, \"11\": {\"from_node_id\": \"9\", \"to_node_id\": \"13\", \"b1\": null, \"b2\": null}, \"12\": {\"from_node_id\": \"10\", \"to_node_id\": \"13\", \"b1\": null, \"b2\": null}}, \"metabolites\": [{\"bigg_id\": \"CPD_2961_c\", \"coefficient\": -1.0}, {\"bigg_id\": \"NADP_c\", \"coefficient\": -1.0}, {\"bigg_id\": \"CARBON_DIOXIDE_c\", \"coefficient\": 1.0}, {\"bigg_id\": \"NADPH_c\", \"coefficient\": 1.0}, {\"bigg_id\": \"RIBULOSE_5P_c\", \"coefficient\": 1.0}]}, \"2\": {\"name\": \"GLCpts\", \"bigg_id\": \"GLCpts\", \"reversibility\": true, \"label_x\": 265.0, \"label_y\": 1625.0, \"gene_reaction_rule\": \"\", \"genes\": [], \"segments\": {\"13\": {\"from_node_id\": \"18\", \"to_node_id\": \"19\", \"b1\": null, \"b2\": null}, \"14\": {\"from_node_id\": \"20\", \"to_node_id\": \"19\", \"b1\": null, \"b2\": null}, \"15\": {\"from_node_id\": \"14\", \"to_node_id\": \"18\", \"b1\": null, \"b2\": null}, \"16\": {\"from_node_id\": \"15\", \"to_node_id\": \"18\", \"b1\": null, \"b2\": null}, \"17\": {\"from_node_id\": \"16\", \"to_node_id\": \"20\", \"b1\": null, \"b2\": null}, \"18\": {\"from_node_id\": \"17\", \"to_node_id\": \"20\", \"b1\": null, \"b2\": null}}, \"metabolites\": [{\"bigg_id\": \"Glucopyranose_e\", \"coefficient\": -1.0}, {\"bigg_id\": \"PHOSPHO_ENOL_PYRUVATE_c\", \"coefficient\": -1.0}, {\"bigg_id\": \"D_glucopyranose_6_phosphate_c\", \"coefficient\": 1.0}, {\"bigg_id\": \"PYRUVATE_c\", \"coefficient\": 1.0}]}, \"3\": {\"name\": \"G6PDH2r\", \"bigg_id\": \"G6PDH2r\", \"reversibility\": true, \"label_x\": 265.0, \"label_y\": 2275.0, \"gene_reaction_rule\": \"\", \"genes\": [], \"segments\": {\"19\": {\"from_node_id\": \"25\", \"to_node_id\": \"26\", \"b1\": null, \"b2\": null}, \"20\": {\"from_node_id\": \"27\", \"to_node_id\": \"26\", \"b1\": null, \"b2\": null}, \"21\": {\"from_node_id\": \"16\", \"to_node_id\": \"25\", \"b1\": null, \"b2\": null}, \"22\": {\"from_node_id\": \"21\", \"to_node_id\": \"25\", \"b1\": null, \"b2\": null}, \"23\": {\"from_node_id\": \"22\", \"to_node_id\": \"27\", \"b1\": null, \"b2\": null}, \"24\": {\"from_node_id\": \"23\", \"to_node_id\": \"27\", \"b1\": null, \"b2\": null}, \"25\": {\"from_node_id\": \"24\", \"to_node_id\": \"27\", \"b1\": null, \"b2\": null}}, \"metabolites\": [{\"bigg_id\": \"D_glucopyranose_6_phosphate_c\", \"coefficient\": -1.0}, {\"bigg_id\": \"NADP_c\", \"coefficient\": -1.0}, {\"bigg_id\": \"D_6_P_GLUCONO_DELTA_LACTONE_c\", \"coefficient\": 1.0}, {\"bigg_id\": \"NADPH_c\", \"coefficient\": 1.0}, {\"bigg_id\": \"PROTON_c\", \"coefficient\": 1.0}]}}, \"nodes\": {\"0\": {\"node_type\": \"metabolite\", \"x\": 150.0, \"y\": 30.0, \"label_x\": 160.0, \"label_y\": 20.0, \"bigg_id\": \"CPD_15815_c\", \"name\": \"CPD_15815_c\", \"node_is_primary\": false}, \"1\": {\"node_type\": \"metabolite\", \"x\": 300.0, \"y\": 30.0, \"label_x\": 310.0, \"label_y\": 20.0, \"bigg_id\": \"D_6_P_GLUCONO_DELTA_LACTONE_c\", \"name\": \"D_6_P_GLUCONO_DELTA_LACTONE_c\", \"node_is_primary\": false}, \"2\": {\"node_type\": \"metabolite\", \"x\": 150.0, \"y\": 550.0, \"label_x\": 160.0, \"label_y\": 580.0, \"bigg_id\": \"CPD_2961_c\", \"name\": \"CPD_2961_c\", \"node_is_primary\": false}, \"3\": {\"node_type\": \"metabolite\", \"x\": 300.0, \"y\": 550.0, \"label_x\": 310.0, \"label_y\": 580.0, \"bigg_id\": \"PROTON_c\", \"name\": \"PROTON_c\", \"node_is_primary\": false}, \"4\": {\"node_type\": \"multimarker\", \"x\": 225.0, \"y\": 305.0}, \"5\": {\"node_type\": \"midmarker\", \"x\": 225.0, \"y\": 325.0}, \"6\": {\"node_type\": \"multimarker\", \"x\": 225.0, \"y\": 345.0}, \"7\": {\"node_type\": \"metabolite\", \"x\": 300.0, \"y\": 680.0, \"label_x\": 310.0, \"label_y\": 670.0, \"bigg_id\": \"NADP_c\", \"name\": \"NADP_c\", \"node_is_primary\": false}, \"8\": {\"node_type\": \"metabolite\", \"x\": 112.5, \"y\": 1200.0, \"label_x\": 122.5, \"label_y\": 1230.0, \"bigg_id\": \"CARBON_DIOXIDE_c\", \"name\": \"CARBON_DIOXIDE_c\", \"node_is_primary\": false}, \"9\": {\"node_type\": \"metabolite\", \"x\": 225.0, \"y\": 1200.0, \"label_x\": 235.0, \"label_y\": 1230.0, \"bigg_id\": \"NADPH_c\", \"name\": \"NADPH_c\", \"node_is_primary\": false}, \"10\": {\"node_type\": \"metabolite\", \"x\": 337.5, \"y\": 1200.0, \"label_x\": 347.5, \"label_y\": 1230.0, \"bigg_id\": \"RIBULOSE_5P_c\", \"name\": \"RIBULOSE_5P_c\", \"node_is_primary\": false}, \"11\": {\"node_type\": \"multimarker\", \"x\": 225.0, \"y\": 955.0}, \"12\": {\"node_type\": \"midmarker\", \"x\": 225.0, \"y\": 975.0}, \"13\": {\"node_type\": \"multimarker\", \"x\": 225.0, \"y\": 995.0}, \"14\": {\"node_type\": \"metabolite\", \"x\": 150.0, \"y\": 1330.0, \"label_x\": 160.0, \"label_y\": 1320.0, \"bigg_id\": \"Glucopyranose_e\", \"name\": \"Glucopyranose_e\", \"node_is_primary\": false}, \"15\": {\"node_type\": \"metabolite\", \"x\": 300.0, \"y\": 1330.0, \"label_x\": 310.0, \"label_y\": 1320.0, \"bigg_id\": \"PHOSPHO_ENOL_PYRUVATE_c\", \"name\": \"PHOSPHO_ENOL_PYRUVATE_c\", \"node_is_primary\": false}, \"16\": {\"node_type\": \"metabolite\", \"x\": 150.0, \"y\": 1850.0, \"label_x\": 160.0, \"label_y\": 1880.0, \"bigg_id\": \"D_glucopyranose_6_phosphate_c\", \"name\": \"D_glucopyranose_6_phosphate_c\", \"node_is_primary\": false}, \"17\": {\"node_type\": \"metabolite\", \"x\": 300.0, \"y\": 1850.0, \"label_x\": 310.0, \"label_y\": 1880.0, \"bigg_id\": \"PYRUVATE_c\", \"name\": \"PYRUVATE_c\", \"node_is_primary\": false}, \"18\": {\"node_type\": \"multimarker\", \"x\": 225.0, \"y\": 1605.0}, \"19\": {\"node_type\": \"midmarker\", \"x\": 225.0, \"y\": 1625.0}, \"20\": {\"node_type\": \"multimarker\", \"x\": 225.0, \"y\": 1645.0}, \"21\": {\"node_type\": \"metabolite\", \"x\": 300.0, \"y\": 1980.0, \"label_x\": 310.0, \"label_y\": 1970.0, \"bigg_id\": \"NADP_c\", \"name\": \"NADP_c\", \"node_is_primary\": false}, \"22\": {\"node_type\": \"metabolite\", \"x\": 112.5, \"y\": 2500.0, \"label_x\": 122.5, \"label_y\": 2530.0, \"bigg_id\": \"D_6_P_GLUCONO_DELTA_LACTONE_c\", \"name\": \"D_6_P_GLUCONO_DELTA_LACTONE_c\", \"node_is_primary\": false}, \"23\": {\"node_type\": \"metabolite\", \"x\": 225.0, \"y\": 2500.0, \"label_x\": 235.0, \"label_y\": 2530.0, \"bigg_id\": \"NADPH_c\", \"name\": \"NADPH_c\", \"node_is_primary\": false}, \"24\": {\"node_type\": \"metabolite\", \"x\": 337.5, \"y\": 2500.0, \"label_x\": 347.5, \"label_y\": 2530.0, \"bigg_id\": \"PROTON_c\", \"name\": \"PROTON_c\", \"node_is_primary\": false}, \"25\": {\"node_type\": \"multimarker\", \"x\": 225.0, \"y\": 2255.0}, \"26\": {\"node_type\": \"midmarker\", \"x\": 225.0, \"y\": 2275.0}, \"27\": {\"node_type\": \"multimarker\", \"x\": 225.0, \"y\": 2295.0}}, \"text_labels\": {}, \"canvas\": {\"x\": 0, \"y\": 0, \"width\": 450, \"height\": 2600}}]",
       "_loaded_model_json": null,
       "allow_building_duplicate_reactions": false,
       "and_method_in_gene_reaction_rule": "mean",
       "canvas_size_and_loc": null,
       "cofactors": [
        "atp",
        "adp",
        "nad",
        "nadh",
        "nadp",
        "nadph",
        "gtp",
        "gdp",
        "h",
        "coa",
        "ump",
        "h2o",
        "ppi"
       ],
       "disabled_buttons": [
        "Clear gene data",
        "Clear metabolite data"
       ],
       "embedded_css": null,
       "enable_editing": true,
       "enable_keys": false,
       "enable_keys_with_tooltip": true,
       "enable_search": true,
       "enable_tooltips": false,
       "full_screen_button": {
        "enable_editing": true,
        "enable_keys": true,
        "enable_tooltips": [
         "label"
        ],
        "menu": "all",
        "scroll_behavior": "pan"
       },
       "gene_data": null,
       "gene_font_size": 18,
       "height": 500,
       "hide_all_labels": false,
       "hide_secondary_metabolites": false,
       "highlight_missing": false,
       "identifiers_on_map": "bigg_id",
       "layout": "IPY_MODEL_88d94c673ec848fe894165548d503091",
       "marker_radius": 5,
       "menu": "all",
       "metabolite_compare_style": "log2_fold",
       "metabolite_data": null,
       "metabolite_no_data_color": "#ffffff",
       "metabolite_no_data_size": 10,
       "metabolite_scale": [
        {
         "color": "#fffaf0",
         "size": 20,
         "type": "min"
        },
        {
         "color": "#f1c470",
         "size": 30,
         "type": "median"
        },
        {
         "color": "#800000",
         "size": 40,
         "type": "max"
        }
       ],
       "metabolite_scale_preset": "WhYlRd",
       "metabolite_styles": [
        "color",
        "size",
        "text"
       ],
       "never_ask_before_quit": true,
       "primary_metabolite_radius": 20,
       "reaction_compare_style": "log2_fold",
       "reaction_data": {
        "G6PDH2r": -2,
        "GLCpts": -2,
        "GND": 1,
        "PGL": 0.4
       },
       "reaction_no_data_color": "#dcdcdc",
       "reaction_no_data_size": 8,
       "reaction_scale": [
        {
         "color": "rgb(146,189,146)",
         "type": "value",
         "value": 3.3333333333333335
        },
        {
         "color": "rgb(73,158,73)",
         "type": "value",
         "value": 6.666666666666666
        },
        {
         "color": "rgb(0,127,0)",
         "type": "value",
         "value": 10
        },
        {
         "color": "rgb(220,220,220)",
         "type": "value",
         "value": 0
        },
        {
         "color": "rgb(231,146,146)",
         "type": "value",
         "value": -3.3333333333333335
        },
        {
         "color": "rgb(243,73,73)",
         "type": "value",
         "value": -6.666666666666666
        },
        {
         "color": "rgb(255,0,0)",
         "type": "value",
         "value": -10
        }
       ],
       "reaction_scale_preset": null,
       "reaction_styles": [
        "color",
        "text"
       ],
       "scroll_behavior": "none",
       "secondary_metabolite_radius": 10,
       "semantic_zoom": null,
       "show_gene_reaction_rules": false,
       "starting_reaction": null,
       "use_3d_transform": false,
       "zoom_to_element": null
      }
     },
     "397bf36c28fd49d6b83641eed15d1bbc": {
      "model_module": "@jupyter-widgets/base",
      "model_module_version": "1.2.0",
      "model_name": "LayoutModel",
      "state": {}
     },
     "3fb9d1a2a2164f058fe494e46830f1ec": {
      "model_module": "escher",
      "model_module_version": "1.7.4",
      "model_name": "EscherMapModel",
      "state": {
       "_loaded_map_json": "[{\"map_name\": \"\", \"map_id\": \"\", \"map_description\": \"\", \"homepage\": \"\", \"schema\": \"https://escher.github.io/escher/jsonschema/1-0-0#\"}, {\"reactions\": {\"0\": {\"name\": \"GLCpts\", \"bigg_id\": \"GLCpts\", \"reversibility\": true, \"label_x\": 265.0, \"label_y\": 325.0, \"gene_reaction_rule\": \"\", \"genes\": [], \"segments\": {\"0\": {\"from_node_id\": \"4\", \"to_node_id\": \"5\", \"b1\": null, \"b2\": null}, \"1\": {\"from_node_id\": \"6\", \"to_node_id\": \"5\", \"b1\": null, \"b2\": null}, \"2\": {\"from_node_id\": \"0\", \"to_node_id\": \"4\", \"b1\": null, \"b2\": null}, \"3\": {\"from_node_id\": \"1\", \"to_node_id\": \"4\", \"b1\": null, \"b2\": null}, \"4\": {\"from_node_id\": \"2\", \"to_node_id\": \"6\", \"b1\": null, \"b2\": null}, \"5\": {\"from_node_id\": \"3\", \"to_node_id\": \"6\", \"b1\": null, \"b2\": null}}, \"metabolites\": [{\"bigg_id\": \"Glucopyranose_e\", \"coefficient\": -1.0}, {\"bigg_id\": \"PHOSPHO_ENOL_PYRUVATE_c\", \"coefficient\": -1.0}, {\"bigg_id\": \"D_glucopyranose_6_phosphate_c\", \"coefficient\": 1.0}, {\"bigg_id\": \"PYRUVATE_c\", \"coefficient\": 1.0}]}, \"1\": {\"name\": \"G6PDH2r\", \"bigg_id\": \"G6PDH2r\", \"reversibility\": true, \"label_x\": 265.0, \"label_y\": 975.0, \"gene_reaction_rule\": \"\", \"genes\": [], \"segments\": {\"6\": {\"from_node_id\": \"11\", \"to_node_id\": \"12\", \"b1\": null, \"b2\": null}, \"7\": {\"from_node_id\": \"13\", \"to_node_id\": \"12\", \"b1\": null, \"b2\": null}, \"8\": {\"from_node_id\": \"2\", \"to_node_id\": \"11\", \"b1\": null, \"b2\": null}, \"9\": {\"from_node_id\": \"7\", \"to_node_id\": \"11\", \"b1\": null, \"b2\": null}, \"10\": {\"from_node_id\": \"8\", \"to_node_id\": \"13\", \"b1\": null, \"b2\": null}, \"11\": {\"from_node_id\": \"9\", \"to_node_id\": \"13\", \"b1\": null, \"b2\": null}, \"12\": {\"from_node_id\": \"10\", \"to_node_id\": \"13\", \"b1\": null, \"b2\": null}}, \"metabolites\": [{\"bigg_id\": \"D_glucopyranose_6_phosphate_c\", \"coefficient\": -1.0}, {\"bigg_id\": \"NADP_c\", \"coefficient\": -1.0}, {\"bigg_id\": \"D_6_P_GLUCONO_DELTA_LACTONE_c\", \"coefficient\": 1.0}, {\"bigg_id\": \"NADPH_c\", \"coefficient\": 1.0}, {\"bigg_id\": \"PROTON_c\", \"coefficient\": 1.0}]}, \"2\": {\"name\": \"PGL\", \"bigg_id\": \"PGL\", \"reversibility\": true, \"label_x\": 265.0, \"label_y\": 1625.0, \"gene_reaction_rule\": \"\", \"genes\": [], \"segments\": {\"13\": {\"from_node_id\": \"17\", \"to_node_id\": \"18\", \"b1\": null, \"b2\": null}, \"14\": {\"from_node_id\": \"19\", \"to_node_id\": \"18\", \"b1\": null, \"b2\": null}, \"15\": {\"from_node_id\": \"14\", \"to_node_id\": \"17\", \"b1\": null, \"b2\": null}, \"16\": {\"from_node_id\": \"8\", \"to_node_id\": \"17\", \"b1\": null, \"b2\": null}, \"17\": {\"from_node_id\": \"15\", \"to_node_id\": \"19\", \"b1\": null, \"b2\": null}, \"18\": {\"from_node_id\": \"16\", \"to_node_id\": \"19\", \"b1\": null, \"b2\": null}}, \"metabolites\": [{\"bigg_id\": \"CPD_15815_c\", \"coefficient\": -1.0}, {\"bigg_id\": \"D_6_P_GLUCONO_DELTA_LACTONE_c\", \"coefficient\": -1.0}, {\"bigg_id\": \"CPD_2961_c\", \"coefficient\": 1.0}, {\"bigg_id\": \"PROTON_c\", \"coefficient\": 1.0}]}, \"3\": {\"name\": \"GND\", \"bigg_id\": \"GND\", \"reversibility\": true, \"label_x\": 265.0, \"label_y\": 2275.0, \"gene_reaction_rule\": \"\", \"genes\": [], \"segments\": {\"19\": {\"from_node_id\": \"24\", \"to_node_id\": \"25\", \"b1\": null, \"b2\": null}, \"20\": {\"from_node_id\": \"26\", \"to_node_id\": \"25\", \"b1\": null, \"b2\": null}, \"21\": {\"from_node_id\": \"15\", \"to_node_id\": \"24\", \"b1\": null, \"b2\": null}, \"22\": {\"from_node_id\": \"20\", \"to_node_id\": \"24\", \"b1\": null, \"b2\": null}, \"23\": {\"from_node_id\": \"21\", \"to_node_id\": \"26\", \"b1\": null, \"b2\": null}, \"24\": {\"from_node_id\": \"22\", \"to_node_id\": \"26\", \"b1\": null, \"b2\": null}, \"25\": {\"from_node_id\": \"23\", \"to_node_id\": \"26\", \"b1\": null, \"b2\": null}}, \"metabolites\": [{\"bigg_id\": \"CPD_2961_c\", \"coefficient\": -1.0}, {\"bigg_id\": \"NADP_c\", \"coefficient\": -1.0}, {\"bigg_id\": \"CARBON_DIOXIDE_c\", \"coefficient\": 1.0}, {\"bigg_id\": \"NADPH_c\", \"coefficient\": 1.0}, {\"bigg_id\": \"RIBULOSE_5P_c\", \"coefficient\": 1.0}]}}, \"nodes\": {\"0\": {\"node_type\": \"metabolite\", \"x\": 150.0, \"y\": 30.0, \"label_x\": 160.0, \"label_y\": 20.0, \"bigg_id\": \"Glucopyranose_e\", \"name\": \"Glucopyranose_e\", \"node_is_primary\": false}, \"1\": {\"node_type\": \"metabolite\", \"x\": 300.0, \"y\": 30.0, \"label_x\": 310.0, \"label_y\": 20.0, \"bigg_id\": \"PHOSPHO_ENOL_PYRUVATE_c\", \"name\": \"PHOSPHO_ENOL_PYRUVATE_c\", \"node_is_primary\": false}, \"2\": {\"node_type\": \"metabolite\", \"x\": 150.0, \"y\": 550.0, \"label_x\": 160.0, \"label_y\": 580.0, \"bigg_id\": \"D_glucopyranose_6_phosphate_c\", \"name\": \"D_glucopyranose_6_phosphate_c\", \"node_is_primary\": false}, \"3\": {\"node_type\": \"metabolite\", \"x\": 300.0, \"y\": 550.0, \"label_x\": 310.0, \"label_y\": 580.0, \"bigg_id\": \"PYRUVATE_c\", \"name\": \"PYRUVATE_c\", \"node_is_primary\": false}, \"4\": {\"node_type\": \"multimarker\", \"x\": 225.0, \"y\": 305.0}, \"5\": {\"node_type\": \"midmarker\", \"x\": 225.0, \"y\": 325.0}, \"6\": {\"node_type\": \"multimarker\", \"x\": 225.0, \"y\": 345.0}, \"7\": {\"node_type\": \"metabolite\", \"x\": 300.0, \"y\": 680.0, \"label_x\": 310.0, \"label_y\": 670.0, \"bigg_id\": \"NADP_c\", \"name\": \"NADP_c\", \"node_is_primary\": false}, \"8\": {\"node_type\": \"metabolite\", \"x\": 112.5, \"y\": 1200.0, \"label_x\": 122.5, \"label_y\": 1230.0, \"bigg_id\": \"D_6_P_GLUCONO_DELTA_LACTONE_c\", \"name\": \"D_6_P_GLUCONO_DELTA_LACTONE_c\", \"node_is_primary\": false}, \"9\": {\"node_type\": \"metabolite\", \"x\": 225.0, \"y\": 1200.0, \"label_x\": 235.0, \"label_y\": 1230.0, \"bigg_id\": \"NADPH_c\", \"name\": \"NADPH_c\", \"node_is_primary\": false}, \"10\": {\"node_type\": \"metabolite\", \"x\": 337.5, \"y\": 1200.0, \"label_x\": 347.5, \"label_y\": 1230.0, \"bigg_id\": \"PROTON_c\", \"name\": \"PROTON_c\", \"node_is_primary\": false}, \"11\": {\"node_type\": \"multimarker\", \"x\": 225.0, \"y\": 955.0}, \"12\": {\"node_type\": \"midmarker\", \"x\": 225.0, \"y\": 975.0}, \"13\": {\"node_type\": \"multimarker\", \"x\": 225.0, \"y\": 995.0}, \"14\": {\"node_type\": \"metabolite\", \"x\": 150.0, \"y\": 1330.0, \"label_x\": 160.0, \"label_y\": 1320.0, \"bigg_id\": \"CPD_15815_c\", \"name\": \"CPD_15815_c\", \"node_is_primary\": false}, \"15\": {\"node_type\": \"metabolite\", \"x\": 150.0, \"y\": 1850.0, \"label_x\": 160.0, \"label_y\": 1880.0, \"bigg_id\": \"CPD_2961_c\", \"name\": \"CPD_2961_c\", \"node_is_primary\": false}, \"16\": {\"node_type\": \"metabolite\", \"x\": 300.0, \"y\": 1850.0, \"label_x\": 310.0, \"label_y\": 1880.0, \"bigg_id\": \"PROTON_c\", \"name\": \"PROTON_c\", \"node_is_primary\": false}, \"17\": {\"node_type\": \"multimarker\", \"x\": 225.0, \"y\": 1605.0}, \"18\": {\"node_type\": \"midmarker\", \"x\": 225.0, \"y\": 1625.0}, \"19\": {\"node_type\": \"multimarker\", \"x\": 225.0, \"y\": 1645.0}, \"20\": {\"node_type\": \"metabolite\", \"x\": 300.0, \"y\": 1980.0, \"label_x\": 310.0, \"label_y\": 1970.0, \"bigg_id\": \"NADP_c\", \"name\": \"NADP_c\", \"node_is_primary\": false}, \"21\": {\"node_type\": \"metabolite\", \"x\": 112.5, \"y\": 2500.0, \"label_x\": 122.5, \"label_y\": 2530.0, \"bigg_id\": \"CARBON_DIOXIDE_c\", \"name\": \"CARBON_DIOXIDE_c\", \"node_is_primary\": false}, \"22\": {\"node_type\": \"metabolite\", \"x\": 225.0, \"y\": 2500.0, \"label_x\": 235.0, \"label_y\": 2530.0, \"bigg_id\": \"NADPH_c\", \"name\": \"NADPH_c\", \"node_is_primary\": false}, \"23\": {\"node_type\": \"metabolite\", \"x\": 337.5, \"y\": 2500.0, \"label_x\": 347.5, \"label_y\": 2530.0, \"bigg_id\": \"RIBULOSE_5P_c\", \"name\": \"RIBULOSE_5P_c\", \"node_is_primary\": false}, \"24\": {\"node_type\": \"multimarker\", \"x\": 225.0, \"y\": 2255.0}, \"25\": {\"node_type\": \"midmarker\", \"x\": 225.0, \"y\": 2275.0}, \"26\": {\"node_type\": \"multimarker\", \"x\": 225.0, \"y\": 2295.0}}, \"text_labels\": {}, \"canvas\": {\"x\": 0, \"y\": 0, \"width\": 450, \"height\": 2600}}]",
       "_loaded_model_json": null,
       "allow_building_duplicate_reactions": false,
       "and_method_in_gene_reaction_rule": "mean",
       "canvas_size_and_loc": null,
       "cofactors": [
        "atp",
        "adp",
        "nad",
        "nadh",
        "nadp",
        "nadph",
        "gtp",
        "gdp",
        "h",
        "coa",
        "ump",
        "h2o",
        "ppi"
       ],
       "disabled_buttons": [
        "Clear gene data",
        "Clear metabolite data"
       ],
       "embedded_css": null,
       "enable_editing": true,
       "enable_keys": false,
       "enable_keys_with_tooltip": true,
       "enable_search": true,
       "enable_tooltips": false,
       "full_screen_button": {
        "enable_editing": true,
        "enable_keys": true,
        "enable_tooltips": [
         "label"
        ],
        "menu": "all",
        "scroll_behavior": "pan"
       },
       "gene_data": null,
       "gene_font_size": 18,
       "height": 500,
       "hide_all_labels": false,
       "hide_secondary_metabolites": false,
       "highlight_missing": false,
       "identifiers_on_map": "bigg_id",
       "layout": "IPY_MODEL_71f39a06e4ae412cade959e110df3dca",
       "marker_radius": 5,
       "menu": "all",
       "metabolite_compare_style": "log2_fold",
       "metabolite_data": null,
       "metabolite_no_data_color": "#ffffff",
       "metabolite_no_data_size": 10,
       "metabolite_scale": [
        {
         "color": "#fffaf0",
         "size": 20,
         "type": "min"
        },
        {
         "color": "#f1c470",
         "size": 30,
         "type": "median"
        },
        {
         "color": "#800000",
         "size": 40,
         "type": "max"
        }
       ],
       "metabolite_scale_preset": "WhYlRd",
       "metabolite_styles": [
        "color",
        "size",
        "text"
       ],
       "never_ask_before_quit": true,
       "primary_metabolite_radius": 20,
       "reaction_compare_style": "log2_fold",
       "reaction_data": {
        "G6PDH2r": -2,
        "GLCpts": -2,
        "GND": 1,
        "PGL": 0.4
       },
       "reaction_no_data_color": "#dcdcdc",
       "reaction_no_data_size": 8,
       "reaction_scale": [
        {
         "color": "rgb(220,220,220)",
         "type": "value",
         "value": 0.5
        },
        {
         "color": "rgb(220,220,220)",
         "type": "value",
         "value": 1
        },
        {
         "color": "rgb(220,220,220)",
         "type": "value",
         "value": 0
        },
        {
         "color": "rgb(220,220,220)",
         "type": "value",
         "value": -1
        },
        {
         "color": "rgb(220,220,220)",
         "type": "value",
         "value": -2
        }
       ],
       "reaction_scale_preset": null,
       "reaction_styles": [
        "color",
        "text"
       ],
       "scroll_behavior": "none",
       "secondary_metabolite_radius": 10,
       "semantic_zoom": null,
       "show_gene_reaction_rules": false,
       "starting_reaction": null,
       "use_3d_transform": false,
       "zoom_to_element": null
      }
     },
     "40163f4558ec47dd9162127f889a6172": {
      "model_module": "@jupyter-widgets/base",
      "model_module_version": "1.2.0",
      "model_name": "LayoutModel",
      "state": {}
     },
     "41478c5e90af4f3bba7445953c1a6377": {
      "model_module": "@jupyter-widgets/base",
      "model_module_version": "1.2.0",
      "model_name": "LayoutModel",
      "state": {}
     },
     "42bc3b7b7dc5449d82068f14118a1f9c": {
      "model_module": "escher",
      "model_module_version": "1.7.4",
      "model_name": "EscherMapModel",
      "state": {
       "_loaded_map_json": "[{\"map_name\": \"\", \"map_id\": \"\", \"map_description\": \"\", \"homepage\": \"\", \"schema\": \"https://escher.github.io/escher/jsonschema/1-0-0#\"}, {\"reactions\": {\"0\": {\"name\": \"G6PDH2r\", \"bigg_id\": \"G6PDH2r\", \"reversibility\": true, \"label_x\": 265.0, \"label_y\": 325.0, \"gene_reaction_rule\": \"\", \"genes\": [], \"segments\": {\"0\": {\"from_node_id\": \"5\", \"to_node_id\": \"6\", \"b1\": null, \"b2\": null}, \"1\": {\"from_node_id\": \"7\", \"to_node_id\": \"6\", \"b1\": null, \"b2\": null}, \"2\": {\"from_node_id\": \"0\", \"to_node_id\": \"5\", \"b1\": null, \"b2\": null}, \"3\": {\"from_node_id\": \"1\", \"to_node_id\": \"5\", \"b1\": null, \"b2\": null}, \"4\": {\"from_node_id\": \"2\", \"to_node_id\": \"7\", \"b1\": null, \"b2\": null}, \"5\": {\"from_node_id\": \"3\", \"to_node_id\": \"7\", \"b1\": null, \"b2\": null}, \"6\": {\"from_node_id\": \"4\", \"to_node_id\": \"7\", \"b1\": null, \"b2\": null}}, \"metabolites\": [{\"bigg_id\": \"D_glucopyranose_6_phosphate_c\", \"coefficient\": -1.0}, {\"bigg_id\": \"NADP_c\", \"coefficient\": -1.0}, {\"bigg_id\": \"D_6_P_GLUCONO_DELTA_LACTONE_c\", \"coefficient\": 1.0}, {\"bigg_id\": \"NADPH_c\", \"coefficient\": 1.0}, {\"bigg_id\": \"PROTON_c\", \"coefficient\": 1.0}]}, \"1\": {\"name\": \"PGL\", \"bigg_id\": \"PGL\", \"reversibility\": true, \"label_x\": 265.0, \"label_y\": 975.0, \"gene_reaction_rule\": \"\", \"genes\": [], \"segments\": {\"7\": {\"from_node_id\": \"11\", \"to_node_id\": \"12\", \"b1\": null, \"b2\": null}, \"8\": {\"from_node_id\": \"13\", \"to_node_id\": \"12\", \"b1\": null, \"b2\": null}, \"9\": {\"from_node_id\": \"8\", \"to_node_id\": \"11\", \"b1\": null, \"b2\": null}, \"10\": {\"from_node_id\": \"2\", \"to_node_id\": \"11\", \"b1\": null, \"b2\": null}, \"11\": {\"from_node_id\": \"9\", \"to_node_id\": \"13\", \"b1\": null, \"b2\": null}, \"12\": {\"from_node_id\": \"10\", \"to_node_id\": \"13\", \"b1\": null, \"b2\": null}}, \"metabolites\": [{\"bigg_id\": \"CPD_15815_c\", \"coefficient\": -1.0}, {\"bigg_id\": \"D_6_P_GLUCONO_DELTA_LACTONE_c\", \"coefficient\": -1.0}, {\"bigg_id\": \"CPD_2961_c\", \"coefficient\": 1.0}, {\"bigg_id\": \"PROTON_c\", \"coefficient\": 1.0}]}, \"2\": {\"name\": \"GND\", \"bigg_id\": \"GND\", \"reversibility\": true, \"label_x\": 265.0, \"label_y\": 1625.0, \"gene_reaction_rule\": \"\", \"genes\": [], \"segments\": {\"13\": {\"from_node_id\": \"18\", \"to_node_id\": \"19\", \"b1\": null, \"b2\": null}, \"14\": {\"from_node_id\": \"20\", \"to_node_id\": \"19\", \"b1\": null, \"b2\": null}, \"15\": {\"from_node_id\": \"9\", \"to_node_id\": \"18\", \"b1\": null, \"b2\": null}, \"16\": {\"from_node_id\": \"14\", \"to_node_id\": \"18\", \"b1\": null, \"b2\": null}, \"17\": {\"from_node_id\": \"15\", \"to_node_id\": \"20\", \"b1\": null, \"b2\": null}, \"18\": {\"from_node_id\": \"16\", \"to_node_id\": \"20\", \"b1\": null, \"b2\": null}, \"19\": {\"from_node_id\": \"17\", \"to_node_id\": \"20\", \"b1\": null, \"b2\": null}}, \"metabolites\": [{\"bigg_id\": \"CPD_2961_c\", \"coefficient\": -1.0}, {\"bigg_id\": \"NADP_c\", \"coefficient\": -1.0}, {\"bigg_id\": \"CARBON_DIOXIDE_c\", \"coefficient\": 1.0}, {\"bigg_id\": \"NADPH_c\", \"coefficient\": 1.0}, {\"bigg_id\": \"RIBULOSE_5P_c\", \"coefficient\": 1.0}]}, \"3\": {\"name\": \"GLCpts\", \"bigg_id\": \"GLCpts\", \"reversibility\": true, \"label_x\": 265.0, \"label_y\": 2275.0, \"gene_reaction_rule\": \"\", \"genes\": [], \"segments\": {\"20\": {\"from_node_id\": \"25\", \"to_node_id\": \"26\", \"b1\": null, \"b2\": null}, \"21\": {\"from_node_id\": \"27\", \"to_node_id\": \"26\", \"b1\": null, \"b2\": null}, \"22\": {\"from_node_id\": \"21\", \"to_node_id\": \"25\", \"b1\": null, \"b2\": null}, \"23\": {\"from_node_id\": \"22\", \"to_node_id\": \"25\", \"b1\": null, \"b2\": null}, \"24\": {\"from_node_id\": \"23\", \"to_node_id\": \"27\", \"b1\": null, \"b2\": null}, \"25\": {\"from_node_id\": \"24\", \"to_node_id\": \"27\", \"b1\": null, \"b2\": null}}, \"metabolites\": [{\"bigg_id\": \"Glucopyranose_e\", \"coefficient\": -1.0}, {\"bigg_id\": \"PHOSPHO_ENOL_PYRUVATE_c\", \"coefficient\": -1.0}, {\"bigg_id\": \"D_glucopyranose_6_phosphate_c\", \"coefficient\": 1.0}, {\"bigg_id\": \"PYRUVATE_c\", \"coefficient\": 1.0}]}}, \"nodes\": {\"0\": {\"node_type\": \"metabolite\", \"x\": 150.0, \"y\": 30.0, \"label_x\": 160.0, \"label_y\": 20.0, \"bigg_id\": \"D_glucopyranose_6_phosphate_c\", \"name\": \"D_glucopyranose_6_phosphate_c\", \"node_is_primary\": false}, \"1\": {\"node_type\": \"metabolite\", \"x\": 300.0, \"y\": 30.0, \"label_x\": 310.0, \"label_y\": 20.0, \"bigg_id\": \"NADP_c\", \"name\": \"NADP_c\", \"node_is_primary\": false}, \"2\": {\"node_type\": \"metabolite\", \"x\": 112.5, \"y\": 550.0, \"label_x\": 122.5, \"label_y\": 580.0, \"bigg_id\": \"D_6_P_GLUCONO_DELTA_LACTONE_c\", \"name\": \"D_6_P_GLUCONO_DELTA_LACTONE_c\", \"node_is_primary\": false}, \"3\": {\"node_type\": \"metabolite\", \"x\": 225.0, \"y\": 550.0, \"label_x\": 235.0, \"label_y\": 580.0, \"bigg_id\": \"NADPH_c\", \"name\": \"NADPH_c\", \"node_is_primary\": false}, \"4\": {\"node_type\": \"metabolite\", \"x\": 337.5, \"y\": 550.0, \"label_x\": 347.5, \"label_y\": 580.0, \"bigg_id\": \"PROTON_c\", \"name\": \"PROTON_c\", \"node_is_primary\": false}, \"5\": {\"node_type\": \"multimarker\", \"x\": 225.0, \"y\": 305.0}, \"6\": {\"node_type\": \"midmarker\", \"x\": 225.0, \"y\": 325.0}, \"7\": {\"node_type\": \"multimarker\", \"x\": 225.0, \"y\": 345.0}, \"8\": {\"node_type\": \"metabolite\", \"x\": 150.0, \"y\": 680.0, \"label_x\": 160.0, \"label_y\": 670.0, \"bigg_id\": \"CPD_15815_c\", \"name\": \"CPD_15815_c\", \"node_is_primary\": false}, \"9\": {\"node_type\": \"metabolite\", \"x\": 150.0, \"y\": 1200.0, \"label_x\": 160.0, \"label_y\": 1230.0, \"bigg_id\": \"CPD_2961_c\", \"name\": \"CPD_2961_c\", \"node_is_primary\": false}, \"10\": {\"node_type\": \"metabolite\", \"x\": 300.0, \"y\": 1200.0, \"label_x\": 310.0, \"label_y\": 1230.0, \"bigg_id\": \"PROTON_c\", \"name\": \"PROTON_c\", \"node_is_primary\": false}, \"11\": {\"node_type\": \"multimarker\", \"x\": 225.0, \"y\": 955.0}, \"12\": {\"node_type\": \"midmarker\", \"x\": 225.0, \"y\": 975.0}, \"13\": {\"node_type\": \"multimarker\", \"x\": 225.0, \"y\": 995.0}, \"14\": {\"node_type\": \"metabolite\", \"x\": 300.0, \"y\": 1330.0, \"label_x\": 310.0, \"label_y\": 1320.0, \"bigg_id\": \"NADP_c\", \"name\": \"NADP_c\", \"node_is_primary\": false}, \"15\": {\"node_type\": \"metabolite\", \"x\": 112.5, \"y\": 1850.0, \"label_x\": 122.5, \"label_y\": 1880.0, \"bigg_id\": \"CARBON_DIOXIDE_c\", \"name\": \"CARBON_DIOXIDE_c\", \"node_is_primary\": false}, \"16\": {\"node_type\": \"metabolite\", \"x\": 225.0, \"y\": 1850.0, \"label_x\": 235.0, \"label_y\": 1880.0, \"bigg_id\": \"NADPH_c\", \"name\": \"NADPH_c\", \"node_is_primary\": false}, \"17\": {\"node_type\": \"metabolite\", \"x\": 337.5, \"y\": 1850.0, \"label_x\": 347.5, \"label_y\": 1880.0, \"bigg_id\": \"RIBULOSE_5P_c\", \"name\": \"RIBULOSE_5P_c\", \"node_is_primary\": false}, \"18\": {\"node_type\": \"multimarker\", \"x\": 225.0, \"y\": 1605.0}, \"19\": {\"node_type\": \"midmarker\", \"x\": 225.0, \"y\": 1625.0}, \"20\": {\"node_type\": \"multimarker\", \"x\": 225.0, \"y\": 1645.0}, \"21\": {\"node_type\": \"metabolite\", \"x\": 150.0, \"y\": 1980.0, \"label_x\": 160.0, \"label_y\": 1970.0, \"bigg_id\": \"Glucopyranose_e\", \"name\": \"Glucopyranose_e\", \"node_is_primary\": false}, \"22\": {\"node_type\": \"metabolite\", \"x\": 300.0, \"y\": 1980.0, \"label_x\": 310.0, \"label_y\": 1970.0, \"bigg_id\": \"PHOSPHO_ENOL_PYRUVATE_c\", \"name\": \"PHOSPHO_ENOL_PYRUVATE_c\", \"node_is_primary\": false}, \"23\": {\"node_type\": \"metabolite\", \"x\": 150.0, \"y\": 2500.0, \"label_x\": 160.0, \"label_y\": 2530.0, \"bigg_id\": \"D_glucopyranose_6_phosphate_c\", \"name\": \"D_glucopyranose_6_phosphate_c\", \"node_is_primary\": false}, \"24\": {\"node_type\": \"metabolite\", \"x\": 300.0, \"y\": 2500.0, \"label_x\": 310.0, \"label_y\": 2530.0, \"bigg_id\": \"PYRUVATE_c\", \"name\": \"PYRUVATE_c\", \"node_is_primary\": false}, \"25\": {\"node_type\": \"multimarker\", \"x\": 225.0, \"y\": 2255.0}, \"26\": {\"node_type\": \"midmarker\", \"x\": 225.0, \"y\": 2275.0}, \"27\": {\"node_type\": \"multimarker\", \"x\": 225.0, \"y\": 2295.0}}, \"text_labels\": {}, \"canvas\": {\"x\": 0, \"y\": 0, \"width\": 450, \"height\": 2600}}]",
       "_loaded_model_json": null,
       "allow_building_duplicate_reactions": null,
       "and_method_in_gene_reaction_rule": null,
       "canvas_size_and_loc": null,
       "cofactors": null,
       "disabled_buttons": null,
       "embedded_css": null,
       "enable_editing": null,
       "enable_keys": false,
       "enable_keys_with_tooltip": null,
       "enable_search": null,
       "enable_tooltips": false,
       "full_screen_button": {
        "enable_editing": true,
        "enable_keys": true,
        "enable_tooltips": [
         "label"
        ],
        "menu": "all",
        "scroll_behavior": "pan"
       },
       "gene_data": null,
       "gene_font_size": null,
       "height": 500,
       "hide_all_labels": null,
       "hide_secondary_metabolites": null,
       "highlight_missing": null,
       "identifiers_on_map": null,
       "layout": "IPY_MODEL_d43ad0f806a34fc4b7aa9021d02c0978",
       "marker_radius": null,
       "menu": null,
       "metabolite_compare_style": null,
       "metabolite_data": null,
       "metabolite_no_data_color": null,
       "metabolite_no_data_size": null,
       "metabolite_scale": null,
       "metabolite_scale_preset": null,
       "metabolite_styles": null,
       "never_ask_before_quit": true,
       "primary_metabolite_radius": null,
       "reaction_compare_style": null,
       "reaction_data": {
        "G6PDH2r": -2,
        "GLCpts": -2,
        "GND": 1,
        "Other": 1000,
        "PGL": 0.4
       },
       "reaction_no_data_color": null,
       "reaction_no_data_size": null,
       "reaction_scale": [
        {
         "color": "rgb(191,215,230)",
         "type": "value",
         "value": 0.4
        },
        {
         "color": "rgb(163,210,240)",
         "type": "value",
         "value": 1
        },
        {
         "color": "rgb(135,205,250)",
         "type": "value",
         "value": 1000
        },
        {
         "color": "rgb(220,220,220)",
         "type": "value",
         "value": 0
        },
        {
         "color": "rgb(237,192,110)",
         "type": "value",
         "value": -2
        },
        {
         "color": "rgb(255,165,0)",
         "type": "value",
         "value": -2
        }
       ],
       "reaction_scale_preset": null,
       "reaction_styles": [
        "color",
        "text"
       ],
       "scroll_behavior": "none",
       "secondary_metabolite_radius": null,
       "semantic_zoom": null,
       "show_gene_reaction_rules": null,
       "starting_reaction": null,
       "use_3d_transform": null,
       "zoom_to_element": null
      }
     },
     "437b29e8b1d449b0a6cc1d1a2f3f8669": {
      "model_module": "@jupyter-widgets/base",
      "model_module_version": "1.2.0",
      "model_name": "LayoutModel",
      "state": {}
     },
     "45b267a119b0428d817a5aaa8a1c7967": {
      "model_module": "escher",
      "model_module_version": "1.7.4",
      "model_name": "EscherMapModel",
      "state": {
       "_loaded_map_json": "[{\"map_name\": \"\", \"map_id\": \"\", \"map_description\": \"\", \"homepage\": \"\", \"schema\": \"https://escher.github.io/escher/jsonschema/1-0-0#\"}, {\"reactions\": {\"0\": {\"name\": \"GLCpts\", \"bigg_id\": \"GLCpts\", \"reversibility\": true, \"label_x\": 271.0, \"label_y\": 45.0, \"gene_reaction_rule\": \"\", \"genes\": [], \"segments\": {\"0\": {\"from_node_id\": \"4\", \"to_node_id\": \"5\", \"b1\": null, \"b2\": null}, \"1\": {\"from_node_id\": \"6\", \"to_node_id\": \"5\", \"b1\": null, \"b2\": null}, \"2\": {\"from_node_id\": \"0\", \"to_node_id\": \"4\", \"b1\": null, \"b2\": null}, \"3\": {\"from_node_id\": \"1\", \"to_node_id\": \"4\", \"b1\": null, \"b2\": null}, \"4\": {\"from_node_id\": \"2\", \"to_node_id\": \"6\", \"b1\": null, \"b2\": null}, \"5\": {\"from_node_id\": \"3\", \"to_node_id\": \"6\", \"b1\": null, \"b2\": null}}, \"metabolites\": [{\"bigg_id\": \"Glucopyranose_e\", \"coefficient\": -1.0}, {\"bigg_id\": \"PHOSPHO_ENOL_PYRUVATE_c\", \"coefficient\": -1.0}, {\"bigg_id\": \"D_glucopyranose_6_phosphate_c\", \"coefficient\": 1.0}, {\"bigg_id\": \"PYRUVATE_c\", \"coefficient\": 1.0}]}, \"1\": {\"name\": \"G6PDH2r\", \"bigg_id\": \"G6PDH2r\", \"reversibility\": true, \"label_x\": 912.0, \"label_y\": 45.0, \"gene_reaction_rule\": \"\", \"genes\": [], \"segments\": {\"6\": {\"from_node_id\": \"11\", \"to_node_id\": \"12\", \"b1\": null, \"b2\": null}, \"7\": {\"from_node_id\": \"13\", \"to_node_id\": \"12\", \"b1\": null, \"b2\": null}, \"8\": {\"from_node_id\": \"2\", \"to_node_id\": \"11\", \"b1\": null, \"b2\": null}, \"9\": {\"from_node_id\": \"7\", \"to_node_id\": \"11\", \"b1\": null, \"b2\": null}, \"10\": {\"from_node_id\": \"8\", \"to_node_id\": \"13\", \"b1\": null, \"b2\": null}, \"11\": {\"from_node_id\": \"9\", \"to_node_id\": \"13\", \"b1\": null, \"b2\": null}, \"12\": {\"from_node_id\": \"10\", \"to_node_id\": \"13\", \"b1\": null, \"b2\": null}}, \"metabolites\": [{\"bigg_id\": \"D_glucopyranose_6_phosphate_c\", \"coefficient\": -1.0}, {\"bigg_id\": \"NADP_c\", \"coefficient\": -1.0}, {\"bigg_id\": \"D_6_P_GLUCONO_DELTA_LACTONE_c\", \"coefficient\": 1.0}, {\"bigg_id\": \"NADPH_c\", \"coefficient\": 1.0}, {\"bigg_id\": \"PROTON_c\", \"coefficient\": 1.0}]}, \"2\": {\"name\": \"PGL\", \"bigg_id\": \"PGL\", \"reversibility\": true, \"label_x\": 1598.0, \"label_y\": 45.0, \"gene_reaction_rule\": \"\", \"genes\": [], \"segments\": {\"13\": {\"from_node_id\": \"17\", \"to_node_id\": \"18\", \"b1\": null, \"b2\": null}, \"14\": {\"from_node_id\": \"19\", \"to_node_id\": \"18\", \"b1\": null, \"b2\": null}, \"15\": {\"from_node_id\": \"14\", \"to_node_id\": \"17\", \"b1\": null, \"b2\": null}, \"16\": {\"from_node_id\": \"8\", \"to_node_id\": \"17\", \"b1\": null, \"b2\": null}, \"17\": {\"from_node_id\": \"15\", \"to_node_id\": \"19\", \"b1\": null, \"b2\": null}, \"18\": {\"from_node_id\": \"16\", \"to_node_id\": \"19\", \"b1\": null, \"b2\": null}}, \"metabolites\": [{\"bigg_id\": \"CPD_15815_c\", \"coefficient\": -1.0}, {\"bigg_id\": \"D_6_P_GLUCONO_DELTA_LACTONE_c\", \"coefficient\": -1.0}, {\"bigg_id\": \"CPD_2961_c\", \"coefficient\": 1.0}, {\"bigg_id\": \"PROTON_c\", \"coefficient\": 1.0}]}, \"3\": {\"name\": \"GND\", \"bigg_id\": \"GND\", \"reversibility\": true, \"label_x\": 2248.0, \"label_y\": 45.0, \"gene_reaction_rule\": \"\", \"genes\": [], \"segments\": {\"19\": {\"from_node_id\": \"24\", \"to_node_id\": \"25\", \"b1\": null, \"b2\": null}, \"20\": {\"from_node_id\": \"26\", \"to_node_id\": \"25\", \"b1\": null, \"b2\": null}, \"21\": {\"from_node_id\": \"15\", \"to_node_id\": \"24\", \"b1\": null, \"b2\": null}, \"22\": {\"from_node_id\": \"20\", \"to_node_id\": \"24\", \"b1\": null, \"b2\": null}, \"23\": {\"from_node_id\": \"21\", \"to_node_id\": \"26\", \"b1\": null, \"b2\": null}, \"24\": {\"from_node_id\": \"22\", \"to_node_id\": \"26\", \"b1\": null, \"b2\": null}, \"25\": {\"from_node_id\": \"23\", \"to_node_id\": \"26\", \"b1\": null, \"b2\": null}}, \"metabolites\": [{\"bigg_id\": \"CPD_2961_c\", \"coefficient\": -1.0}, {\"bigg_id\": \"NADP_c\", \"coefficient\": -1.0}, {\"bigg_id\": \"CARBON_DIOXIDE_c\", \"coefficient\": 1.0}, {\"bigg_id\": \"NADPH_c\", \"coefficient\": 1.0}, {\"bigg_id\": \"RIBULOSE_5P_c\", \"coefficient\": 1.0}]}}, \"nodes\": {\"0\": {\"node_type\": \"metabolite\", \"x\": 30.0, \"y\": 150.0, \"label_x\": 0.0, \"label_y\": 130.0, \"bigg_id\": \"Glucopyranose_e\", \"name\": \"Glucopyranose_e\", \"node_is_primary\": false}, \"1\": {\"node_type\": \"metabolite\", \"x\": 30.0, \"y\": 300.0, \"label_x\": 0.0, \"label_y\": 280.0, \"bigg_id\": \"PHOSPHO_ENOL_PYRUVATE_c\", \"name\": \"PHOSPHO_ENOL_PYRUVATE_c\", \"node_is_primary\": false}, \"2\": {\"node_type\": \"metabolite\", \"x\": 550.0, \"y\": 150.0, \"label_x\": 520.0, \"label_y\": 130.0, \"bigg_id\": \"D_glucopyranose_6_phosphate_c\", \"name\": \"D_glucopyranose_6_phosphate_c\", \"node_is_primary\": false}, \"3\": {\"node_type\": \"metabolite\", \"x\": 550.0, \"y\": 300.0, \"label_x\": 520.0, \"label_y\": 280.0, \"bigg_id\": \"PYRUVATE_c\", \"name\": \"PYRUVATE_c\", \"node_is_primary\": false}, \"4\": {\"node_type\": \"multimarker\", \"x\": 335.0, \"y\": 225.0}, \"5\": {\"node_type\": \"midmarker\", \"x\": 355.0, \"y\": 225.0}, \"6\": {\"node_type\": \"multimarker\", \"x\": 375.0, \"y\": 225.0}, \"7\": {\"node_type\": \"metabolite\", \"x\": 680.0, \"y\": 300.0, \"label_x\": 650.0, \"label_y\": 280.0, \"bigg_id\": \"NADP_c\", \"name\": \"NADP_c\", \"node_is_primary\": false}, \"8\": {\"node_type\": \"metabolite\", \"x\": 1200.0, \"y\": 112.5, \"label_x\": 1170.0, \"label_y\": 92.5, \"bigg_id\": \"D_6_P_GLUCONO_DELTA_LACTONE_c\", \"name\": \"D_6_P_GLUCONO_DELTA_LACTONE_c\", \"node_is_primary\": false}, \"9\": {\"node_type\": \"metabolite\", \"x\": 1200.0, \"y\": 225.0, \"label_x\": 1170.0, \"label_y\": 205.0, \"bigg_id\": \"NADPH_c\", \"name\": \"NADPH_c\", \"node_is_primary\": false}, \"10\": {\"node_type\": \"metabolite\", \"x\": 1200.0, \"y\": 337.5, \"label_x\": 1170.0, \"label_y\": 317.5, \"bigg_id\": \"PROTON_c\", \"name\": \"PROTON_c\", \"node_is_primary\": false}, \"11\": {\"node_type\": \"multimarker\", \"x\": 985.0, \"y\": 225.0}, \"12\": {\"node_type\": \"midmarker\", \"x\": 1005.0, \"y\": 225.0}, \"13\": {\"node_type\": \"multimarker\", \"x\": 1025.0, \"y\": 225.0}, \"14\": {\"node_type\": \"metabolite\", \"x\": 1330.0, \"y\": 150.0, \"label_x\": 1300.0, \"label_y\": 130.0, \"bigg_id\": \"CPD_15815_c\", \"name\": \"CPD_15815_c\", \"node_is_primary\": false}, \"15\": {\"node_type\": \"metabolite\", \"x\": 1850.0, \"y\": 150.0, \"label_x\": 1820.0, \"label_y\": 130.0, \"bigg_id\": \"CPD_2961_c\", \"name\": \"CPD_2961_c\", \"node_is_primary\": false}, \"16\": {\"node_type\": \"metabolite\", \"x\": 1850.0, \"y\": 300.0, \"label_x\": 1820.0, \"label_y\": 280.0, \"bigg_id\": \"PROTON_c\", \"name\": \"PROTON_c\", \"node_is_primary\": false}, \"17\": {\"node_type\": \"multimarker\", \"x\": 1635.0, \"y\": 225.0}, \"18\": {\"node_type\": \"midmarker\", \"x\": 1655.0, \"y\": 225.0}, \"19\": {\"node_type\": \"multimarker\", \"x\": 1675.0, \"y\": 225.0}, \"20\": {\"node_type\": \"metabolite\", \"x\": 1980.0, \"y\": 300.0, \"label_x\": 1950.0, \"label_y\": 280.0, \"bigg_id\": \"NADP_c\", \"name\": \"NADP_c\", \"node_is_primary\": false}, \"21\": {\"node_type\": \"metabolite\", \"x\": 2500.0, \"y\": 112.5, \"label_x\": 2470.0, \"label_y\": 92.5, \"bigg_id\": \"CARBON_DIOXIDE_c\", \"name\": \"CARBON_DIOXIDE_c\", \"node_is_primary\": false}, \"22\": {\"node_type\": \"metabolite\", \"x\": 2500.0, \"y\": 225.0, \"label_x\": 2470.0, \"label_y\": 205.0, \"bigg_id\": \"NADPH_c\", \"name\": \"NADPH_c\", \"node_is_primary\": false}, \"23\": {\"node_type\": \"metabolite\", \"x\": 2500.0, \"y\": 337.5, \"label_x\": 2470.0, \"label_y\": 317.5, \"bigg_id\": \"RIBULOSE_5P_c\", \"name\": \"RIBULOSE_5P_c\", \"node_is_primary\": false}, \"24\": {\"node_type\": \"multimarker\", \"x\": 2285.0, \"y\": 225.0}, \"25\": {\"node_type\": \"midmarker\", \"x\": 2305.0, \"y\": 225.0}, \"26\": {\"node_type\": \"multimarker\", \"x\": 2325.0, \"y\": 225.0}}, \"text_labels\": {}, \"canvas\": {\"x\": 0, \"y\": 0, \"width\": 2600, \"height\": 450}}]",
       "_loaded_model_json": null,
       "allow_building_duplicate_reactions": false,
       "and_method_in_gene_reaction_rule": "mean",
       "canvas_size_and_loc": null,
       "cofactors": [
        "atp",
        "adp",
        "nad",
        "nadh",
        "nadp",
        "nadph",
        "gtp",
        "gdp",
        "h",
        "coa",
        "ump",
        "h2o",
        "ppi"
       ],
       "disabled_buttons": [
        "Clear reaction data",
        "Clear gene data",
        "Clear metabolite data"
       ],
       "embedded_css": null,
       "enable_editing": true,
       "enable_keys": false,
       "enable_keys_with_tooltip": true,
       "enable_search": true,
       "enable_tooltips": false,
       "full_screen_button": {
        "enable_editing": true,
        "enable_keys": true,
        "enable_tooltips": [
         "label"
        ],
        "menu": "all",
        "scroll_behavior": "pan"
       },
       "gene_data": null,
       "gene_font_size": 18,
       "height": 500,
       "hide_all_labels": false,
       "hide_secondary_metabolites": false,
       "highlight_missing": false,
       "identifiers_on_map": "bigg_id",
       "layout": "IPY_MODEL_7e8e4203aa964a3181063554fb469ad3",
       "marker_radius": 5,
       "menu": "all",
       "metabolite_compare_style": "log2_fold",
       "metabolite_data": null,
       "metabolite_no_data_color": "#ffffff",
       "metabolite_no_data_size": 10,
       "metabolite_scale": [
        {
         "color": "#fffaf0",
         "size": 20,
         "type": "min"
        },
        {
         "color": "#f1c470",
         "size": 30,
         "type": "median"
        },
        {
         "color": "#800000",
         "size": 40,
         "type": "max"
        }
       ],
       "metabolite_scale_preset": "WhYlRd",
       "metabolite_styles": [
        "color",
        "size",
        "text"
       ],
       "never_ask_before_quit": true,
       "primary_metabolite_radius": 20,
       "reaction_compare_style": "log2_fold",
       "reaction_data": null,
       "reaction_no_data_color": "#dcdcdc",
       "reaction_no_data_size": 8,
       "reaction_scale": {},
       "reaction_scale_preset": null,
       "reaction_styles": [
        "color",
        "text"
       ],
       "scroll_behavior": "none",
       "secondary_metabolite_radius": 10,
       "semantic_zoom": null,
       "show_gene_reaction_rules": false,
       "starting_reaction": null,
       "use_3d_transform": false,
       "zoom_to_element": null
      }
     },
     "472e87f51d224200b433ed1dd6efcf84": {
      "model_module": "@jupyter-widgets/base",
      "model_module_version": "1.2.0",
      "model_name": "LayoutModel",
      "state": {}
     },
     "486af1759b294bbcba2c17a46a3d1785": {
      "model_module": "escher",
      "model_module_version": "1.7.4",
      "model_name": "EscherMapModel",
      "state": {
       "_loaded_map_json": "[{\"map_name\": \"\", \"map_id\": \"\", \"map_description\": \"\", \"homepage\": \"\", \"schema\": \"https://escher.github.io/escher/jsonschema/1-0-0#\"}, {\"reactions\": {\"0\": {\"name\": \"GLCpts\", \"bigg_id\": \"GLCpts\", \"reversibility\": true, \"label_x\": 265.0, \"label_y\": 325.0, \"gene_reaction_rule\": \"\", \"genes\": [], \"segments\": {\"0\": {\"from_node_id\": \"4\", \"to_node_id\": \"5\", \"b1\": null, \"b2\": null}, \"1\": {\"from_node_id\": \"6\", \"to_node_id\": \"5\", \"b1\": null, \"b2\": null}, \"2\": {\"from_node_id\": \"0\", \"to_node_id\": \"4\", \"b1\": null, \"b2\": null}, \"3\": {\"from_node_id\": \"1\", \"to_node_id\": \"4\", \"b1\": null, \"b2\": null}, \"4\": {\"from_node_id\": \"2\", \"to_node_id\": \"6\", \"b1\": null, \"b2\": null}, \"5\": {\"from_node_id\": \"3\", \"to_node_id\": \"6\", \"b1\": null, \"b2\": null}}, \"metabolites\": [{\"bigg_id\": \"Glucopyranose_e\", \"coefficient\": -1.0}, {\"bigg_id\": \"PHOSPHO_ENOL_PYRUVATE_c\", \"coefficient\": -1.0}, {\"bigg_id\": \"D_glucopyranose_6_phosphate_c\", \"coefficient\": 1.0}, {\"bigg_id\": \"PYRUVATE_c\", \"coefficient\": 1.0}]}, \"1\": {\"name\": \"G6PDH2r\", \"bigg_id\": \"G6PDH2r\", \"reversibility\": true, \"label_x\": 265.0, \"label_y\": 975.0, \"gene_reaction_rule\": \"\", \"genes\": [], \"segments\": {\"6\": {\"from_node_id\": \"11\", \"to_node_id\": \"12\", \"b1\": null, \"b2\": null}, \"7\": {\"from_node_id\": \"13\", \"to_node_id\": \"12\", \"b1\": null, \"b2\": null}, \"8\": {\"from_node_id\": \"2\", \"to_node_id\": \"11\", \"b1\": null, \"b2\": null}, \"9\": {\"from_node_id\": \"7\", \"to_node_id\": \"11\", \"b1\": null, \"b2\": null}, \"10\": {\"from_node_id\": \"8\", \"to_node_id\": \"13\", \"b1\": null, \"b2\": null}, \"11\": {\"from_node_id\": \"9\", \"to_node_id\": \"13\", \"b1\": null, \"b2\": null}, \"12\": {\"from_node_id\": \"10\", \"to_node_id\": \"13\", \"b1\": null, \"b2\": null}}, \"metabolites\": [{\"bigg_id\": \"D_glucopyranose_6_phosphate_c\", \"coefficient\": -1.0}, {\"bigg_id\": \"NADP_c\", \"coefficient\": -1.0}, {\"bigg_id\": \"D_6_P_GLUCONO_DELTA_LACTONE_c\", \"coefficient\": 1.0}, {\"bigg_id\": \"NADPH_c\", \"coefficient\": 1.0}, {\"bigg_id\": \"PROTON_c\", \"coefficient\": 1.0}]}, \"2\": {\"name\": \"PGL\", \"bigg_id\": \"PGL\", \"reversibility\": true, \"label_x\": 265.0, \"label_y\": 1625.0, \"gene_reaction_rule\": \"\", \"genes\": [], \"segments\": {\"13\": {\"from_node_id\": \"17\", \"to_node_id\": \"18\", \"b1\": null, \"b2\": null}, \"14\": {\"from_node_id\": \"19\", \"to_node_id\": \"18\", \"b1\": null, \"b2\": null}, \"15\": {\"from_node_id\": \"14\", \"to_node_id\": \"17\", \"b1\": null, \"b2\": null}, \"16\": {\"from_node_id\": \"8\", \"to_node_id\": \"17\", \"b1\": null, \"b2\": null}, \"17\": {\"from_node_id\": \"15\", \"to_node_id\": \"19\", \"b1\": null, \"b2\": null}, \"18\": {\"from_node_id\": \"16\", \"to_node_id\": \"19\", \"b1\": null, \"b2\": null}}, \"metabolites\": [{\"bigg_id\": \"CPD_15815_c\", \"coefficient\": -1.0}, {\"bigg_id\": \"D_6_P_GLUCONO_DELTA_LACTONE_c\", \"coefficient\": -1.0}, {\"bigg_id\": \"CPD_2961_c\", \"coefficient\": 1.0}, {\"bigg_id\": \"PROTON_c\", \"coefficient\": 1.0}]}, \"3\": {\"name\": \"GND\", \"bigg_id\": \"GND\", \"reversibility\": true, \"label_x\": 265.0, \"label_y\": 2275.0, \"gene_reaction_rule\": \"\", \"genes\": [], \"segments\": {\"19\": {\"from_node_id\": \"24\", \"to_node_id\": \"25\", \"b1\": null, \"b2\": null}, \"20\": {\"from_node_id\": \"26\", \"to_node_id\": \"25\", \"b1\": null, \"b2\": null}, \"21\": {\"from_node_id\": \"15\", \"to_node_id\": \"24\", \"b1\": null, \"b2\": null}, \"22\": {\"from_node_id\": \"20\", \"to_node_id\": \"24\", \"b1\": null, \"b2\": null}, \"23\": {\"from_node_id\": \"21\", \"to_node_id\": \"26\", \"b1\": null, \"b2\": null}, \"24\": {\"from_node_id\": \"22\", \"to_node_id\": \"26\", \"b1\": null, \"b2\": null}, \"25\": {\"from_node_id\": \"23\", \"to_node_id\": \"26\", \"b1\": null, \"b2\": null}}, \"metabolites\": [{\"bigg_id\": \"CPD_2961_c\", \"coefficient\": -1.0}, {\"bigg_id\": \"NADP_c\", \"coefficient\": -1.0}, {\"bigg_id\": \"CARBON_DIOXIDE_c\", \"coefficient\": 1.0}, {\"bigg_id\": \"NADPH_c\", \"coefficient\": 1.0}, {\"bigg_id\": \"RIBULOSE_5P_c\", \"coefficient\": 1.0}]}}, \"nodes\": {\"0\": {\"node_type\": \"metabolite\", \"x\": 150.0, \"y\": 30.0, \"label_x\": 160.0, \"label_y\": 20.0, \"bigg_id\": \"Glucopyranose_e\", \"name\": \"Glucopyranose_e\", \"node_is_primary\": false}, \"1\": {\"node_type\": \"metabolite\", \"x\": 300.0, \"y\": 30.0, \"label_x\": 310.0, \"label_y\": 20.0, \"bigg_id\": \"PHOSPHO_ENOL_PYRUVATE_c\", \"name\": \"PHOSPHO_ENOL_PYRUVATE_c\", \"node_is_primary\": false}, \"2\": {\"node_type\": \"metabolite\", \"x\": 150.0, \"y\": 550.0, \"label_x\": 160.0, \"label_y\": 580.0, \"bigg_id\": \"D_glucopyranose_6_phosphate_c\", \"name\": \"D_glucopyranose_6_phosphate_c\", \"node_is_primary\": false}, \"3\": {\"node_type\": \"metabolite\", \"x\": 300.0, \"y\": 550.0, \"label_x\": 310.0, \"label_y\": 580.0, \"bigg_id\": \"PYRUVATE_c\", \"name\": \"PYRUVATE_c\", \"node_is_primary\": false}, \"4\": {\"node_type\": \"multimarker\", \"x\": 225.0, \"y\": 305.0}, \"5\": {\"node_type\": \"midmarker\", \"x\": 225.0, \"y\": 325.0}, \"6\": {\"node_type\": \"multimarker\", \"x\": 225.0, \"y\": 345.0}, \"7\": {\"node_type\": \"metabolite\", \"x\": 300.0, \"y\": 680.0, \"label_x\": 310.0, \"label_y\": 670.0, \"bigg_id\": \"NADP_c\", \"name\": \"NADP_c\", \"node_is_primary\": false}, \"8\": {\"node_type\": \"metabolite\", \"x\": 112.5, \"y\": 1200.0, \"label_x\": 122.5, \"label_y\": 1230.0, \"bigg_id\": \"D_6_P_GLUCONO_DELTA_LACTONE_c\", \"name\": \"D_6_P_GLUCONO_DELTA_LACTONE_c\", \"node_is_primary\": false}, \"9\": {\"node_type\": \"metabolite\", \"x\": 225.0, \"y\": 1200.0, \"label_x\": 235.0, \"label_y\": 1230.0, \"bigg_id\": \"NADPH_c\", \"name\": \"NADPH_c\", \"node_is_primary\": false}, \"10\": {\"node_type\": \"metabolite\", \"x\": 337.5, \"y\": 1200.0, \"label_x\": 347.5, \"label_y\": 1230.0, \"bigg_id\": \"PROTON_c\", \"name\": \"PROTON_c\", \"node_is_primary\": false}, \"11\": {\"node_type\": \"multimarker\", \"x\": 225.0, \"y\": 955.0}, \"12\": {\"node_type\": \"midmarker\", \"x\": 225.0, \"y\": 975.0}, \"13\": {\"node_type\": \"multimarker\", \"x\": 225.0, \"y\": 995.0}, \"14\": {\"node_type\": \"metabolite\", \"x\": 150.0, \"y\": 1330.0, \"label_x\": 160.0, \"label_y\": 1320.0, \"bigg_id\": \"CPD_15815_c\", \"name\": \"CPD_15815_c\", \"node_is_primary\": false}, \"15\": {\"node_type\": \"metabolite\", \"x\": 150.0, \"y\": 1850.0, \"label_x\": 160.0, \"label_y\": 1880.0, \"bigg_id\": \"CPD_2961_c\", \"name\": \"CPD_2961_c\", \"node_is_primary\": false}, \"16\": {\"node_type\": \"metabolite\", \"x\": 300.0, \"y\": 1850.0, \"label_x\": 310.0, \"label_y\": 1880.0, \"bigg_id\": \"PROTON_c\", \"name\": \"PROTON_c\", \"node_is_primary\": false}, \"17\": {\"node_type\": \"multimarker\", \"x\": 225.0, \"y\": 1605.0}, \"18\": {\"node_type\": \"midmarker\", \"x\": 225.0, \"y\": 1625.0}, \"19\": {\"node_type\": \"multimarker\", \"x\": 225.0, \"y\": 1645.0}, \"20\": {\"node_type\": \"metabolite\", \"x\": 300.0, \"y\": 1980.0, \"label_x\": 310.0, \"label_y\": 1970.0, \"bigg_id\": \"NADP_c\", \"name\": \"NADP_c\", \"node_is_primary\": false}, \"21\": {\"node_type\": \"metabolite\", \"x\": 112.5, \"y\": 2500.0, \"label_x\": 122.5, \"label_y\": 2530.0, \"bigg_id\": \"CARBON_DIOXIDE_c\", \"name\": \"CARBON_DIOXIDE_c\", \"node_is_primary\": false}, \"22\": {\"node_type\": \"metabolite\", \"x\": 225.0, \"y\": 2500.0, \"label_x\": 235.0, \"label_y\": 2530.0, \"bigg_id\": \"NADPH_c\", \"name\": \"NADPH_c\", \"node_is_primary\": false}, \"23\": {\"node_type\": \"metabolite\", \"x\": 337.5, \"y\": 2500.0, \"label_x\": 347.5, \"label_y\": 2530.0, \"bigg_id\": \"RIBULOSE_5P_c\", \"name\": \"RIBULOSE_5P_c\", \"node_is_primary\": false}, \"24\": {\"node_type\": \"multimarker\", \"x\": 225.0, \"y\": 2255.0}, \"25\": {\"node_type\": \"midmarker\", \"x\": 225.0, \"y\": 2275.0}, \"26\": {\"node_type\": \"multimarker\", \"x\": 225.0, \"y\": 2295.0}}, \"text_labels\": {}, \"canvas\": {\"x\": 0, \"y\": 0, \"width\": 450, \"height\": 2600}}]",
       "_loaded_model_json": null,
       "allow_building_duplicate_reactions": false,
       "and_method_in_gene_reaction_rule": "mean",
       "canvas_size_and_loc": null,
       "cofactors": [
        "atp",
        "adp",
        "nad",
        "nadh",
        "nadp",
        "nadph",
        "gtp",
        "gdp",
        "h",
        "coa",
        "ump",
        "h2o",
        "ppi"
       ],
       "disabled_buttons": [
        "Clear reaction data",
        "Clear gene data",
        "Clear metabolite data"
       ],
       "embedded_css": null,
       "enable_editing": true,
       "enable_keys": false,
       "enable_keys_with_tooltip": true,
       "enable_search": true,
       "enable_tooltips": false,
       "full_screen_button": {
        "enable_editing": true,
        "enable_keys": true,
        "enable_tooltips": [
         "label"
        ],
        "menu": "all",
        "scroll_behavior": "pan"
       },
       "gene_data": null,
       "gene_font_size": 18,
       "height": 500,
       "hide_all_labels": false,
       "hide_secondary_metabolites": false,
       "highlight_missing": false,
       "identifiers_on_map": "bigg_id",
       "layout": "IPY_MODEL_c59e14409027428885cc07dad4ba43ba",
       "marker_radius": 5,
       "menu": "all",
       "metabolite_compare_style": "log2_fold",
       "metabolite_data": null,
       "metabolite_no_data_color": "#ffffff",
       "metabolite_no_data_size": 10,
       "metabolite_scale": [
        {
         "color": "#fffaf0",
         "size": 20,
         "type": "min"
        },
        {
         "color": "#f1c470",
         "size": 30,
         "type": "median"
        },
        {
         "color": "#800000",
         "size": 40,
         "type": "max"
        }
       ],
       "metabolite_scale_preset": "WhYlRd",
       "metabolite_styles": [
        "color",
        "size",
        "text"
       ],
       "never_ask_before_quit": true,
       "primary_metabolite_radius": 20,
       "reaction_compare_style": "log2_fold",
       "reaction_data": null,
       "reaction_no_data_color": "#dcdcdc",
       "reaction_no_data_size": 8,
       "reaction_scale": {},
       "reaction_scale_preset": null,
       "reaction_styles": [
        "color",
        "text"
       ],
       "scroll_behavior": "none",
       "secondary_metabolite_radius": 10,
       "semantic_zoom": null,
       "show_gene_reaction_rules": false,
       "starting_reaction": null,
       "use_3d_transform": false,
       "zoom_to_element": null
      }
     },
     "4cd5739717bf4bc1b67357871fbda3dd": {
      "model_module": "escher",
      "model_module_version": "1.7.4",
      "model_name": "EscherMapModel",
      "state": {
       "_loaded_map_json": "[{\"map_name\": \"\", \"map_id\": \"\", \"map_description\": \"\", \"homepage\": \"\", \"schema\": \"https://escher.github.io/escher/jsonschema/1-0-0#\"}, {\"reactions\": {\"0\": {\"name\": \"GLCpts\", \"bigg_id\": \"GLCpts\", \"reversibility\": true, \"label_x\": 265.0, \"label_y\": 325.0, \"gene_reaction_rule\": \"\", \"genes\": [], \"segments\": {\"0\": {\"from_node_id\": \"4\", \"to_node_id\": \"5\", \"b1\": null, \"b2\": null}, \"1\": {\"from_node_id\": \"6\", \"to_node_id\": \"5\", \"b1\": null, \"b2\": null}, \"2\": {\"from_node_id\": \"0\", \"to_node_id\": \"4\", \"b1\": null, \"b2\": null}, \"3\": {\"from_node_id\": \"1\", \"to_node_id\": \"4\", \"b1\": null, \"b2\": null}, \"4\": {\"from_node_id\": \"2\", \"to_node_id\": \"6\", \"b1\": null, \"b2\": null}, \"5\": {\"from_node_id\": \"3\", \"to_node_id\": \"6\", \"b1\": null, \"b2\": null}}, \"metabolites\": [{\"bigg_id\": \"Glucopyranose_e\", \"coefficient\": -1.0}, {\"bigg_id\": \"PHOSPHO_ENOL_PYRUVATE_c\", \"coefficient\": -1.0}, {\"bigg_id\": \"D_glucopyranose_6_phosphate_c\", \"coefficient\": 1.0}, {\"bigg_id\": \"PYRUVATE_c\", \"coefficient\": 1.0}]}, \"1\": {\"name\": \"G6PDH2r\", \"bigg_id\": \"G6PDH2r\", \"reversibility\": true, \"label_x\": 265.0, \"label_y\": 975.0, \"gene_reaction_rule\": \"\", \"genes\": [], \"segments\": {\"6\": {\"from_node_id\": \"11\", \"to_node_id\": \"12\", \"b1\": null, \"b2\": null}, \"7\": {\"from_node_id\": \"13\", \"to_node_id\": \"12\", \"b1\": null, \"b2\": null}, \"8\": {\"from_node_id\": \"2\", \"to_node_id\": \"11\", \"b1\": null, \"b2\": null}, \"9\": {\"from_node_id\": \"7\", \"to_node_id\": \"11\", \"b1\": null, \"b2\": null}, \"10\": {\"from_node_id\": \"8\", \"to_node_id\": \"13\", \"b1\": null, \"b2\": null}, \"11\": {\"from_node_id\": \"9\", \"to_node_id\": \"13\", \"b1\": null, \"b2\": null}, \"12\": {\"from_node_id\": \"10\", \"to_node_id\": \"13\", \"b1\": null, \"b2\": null}}, \"metabolites\": [{\"bigg_id\": \"D_glucopyranose_6_phosphate_c\", \"coefficient\": -1.0}, {\"bigg_id\": \"NADP_c\", \"coefficient\": -1.0}, {\"bigg_id\": \"D_6_P_GLUCONO_DELTA_LACTONE_c\", \"coefficient\": 1.0}, {\"bigg_id\": \"NADPH_c\", \"coefficient\": 1.0}, {\"bigg_id\": \"PROTON_c\", \"coefficient\": 1.0}]}, \"2\": {\"name\": \"PGL\", \"bigg_id\": \"PGL\", \"reversibility\": true, \"label_x\": 265.0, \"label_y\": 1625.0, \"gene_reaction_rule\": \"\", \"genes\": [], \"segments\": {\"13\": {\"from_node_id\": \"17\", \"to_node_id\": \"18\", \"b1\": null, \"b2\": null}, \"14\": {\"from_node_id\": \"19\", \"to_node_id\": \"18\", \"b1\": null, \"b2\": null}, \"15\": {\"from_node_id\": \"14\", \"to_node_id\": \"17\", \"b1\": null, \"b2\": null}, \"16\": {\"from_node_id\": \"8\", \"to_node_id\": \"17\", \"b1\": null, \"b2\": null}, \"17\": {\"from_node_id\": \"15\", \"to_node_id\": \"19\", \"b1\": null, \"b2\": null}, \"18\": {\"from_node_id\": \"16\", \"to_node_id\": \"19\", \"b1\": null, \"b2\": null}}, \"metabolites\": [{\"bigg_id\": \"CPD_15815_c\", \"coefficient\": -1.0}, {\"bigg_id\": \"D_6_P_GLUCONO_DELTA_LACTONE_c\", \"coefficient\": -1.0}, {\"bigg_id\": \"CPD_2961_c\", \"coefficient\": 1.0}, {\"bigg_id\": \"PROTON_c\", \"coefficient\": 1.0}]}, \"3\": {\"name\": \"GND\", \"bigg_id\": \"GND\", \"reversibility\": true, \"label_x\": 265.0, \"label_y\": 2275.0, \"gene_reaction_rule\": \"\", \"genes\": [], \"segments\": {\"19\": {\"from_node_id\": \"24\", \"to_node_id\": \"25\", \"b1\": null, \"b2\": null}, \"20\": {\"from_node_id\": \"26\", \"to_node_id\": \"25\", \"b1\": null, \"b2\": null}, \"21\": {\"from_node_id\": \"15\", \"to_node_id\": \"24\", \"b1\": null, \"b2\": null}, \"22\": {\"from_node_id\": \"20\", \"to_node_id\": \"24\", \"b1\": null, \"b2\": null}, \"23\": {\"from_node_id\": \"21\", \"to_node_id\": \"26\", \"b1\": null, \"b2\": null}, \"24\": {\"from_node_id\": \"22\", \"to_node_id\": \"26\", \"b1\": null, \"b2\": null}, \"25\": {\"from_node_id\": \"23\", \"to_node_id\": \"26\", \"b1\": null, \"b2\": null}}, \"metabolites\": [{\"bigg_id\": \"CPD_2961_c\", \"coefficient\": -1.0}, {\"bigg_id\": \"NADP_c\", \"coefficient\": -1.0}, {\"bigg_id\": \"CARBON_DIOXIDE_c\", \"coefficient\": 1.0}, {\"bigg_id\": \"NADPH_c\", \"coefficient\": 1.0}, {\"bigg_id\": \"RIBULOSE_5P_c\", \"coefficient\": 1.0}]}}, \"nodes\": {\"0\": {\"node_type\": \"metabolite\", \"x\": 150.0, \"y\": 30.0, \"label_x\": 160.0, \"label_y\": 20.0, \"bigg_id\": \"Glucopyranose_e\", \"name\": \"Glucopyranose_e\", \"node_is_primary\": false}, \"1\": {\"node_type\": \"metabolite\", \"x\": 300.0, \"y\": 30.0, \"label_x\": 310.0, \"label_y\": 20.0, \"bigg_id\": \"PHOSPHO_ENOL_PYRUVATE_c\", \"name\": \"PHOSPHO_ENOL_PYRUVATE_c\", \"node_is_primary\": false}, \"2\": {\"node_type\": \"metabolite\", \"x\": 150.0, \"y\": 550.0, \"label_x\": 160.0, \"label_y\": 580.0, \"bigg_id\": \"D_glucopyranose_6_phosphate_c\", \"name\": \"D_glucopyranose_6_phosphate_c\", \"node_is_primary\": false}, \"3\": {\"node_type\": \"metabolite\", \"x\": 300.0, \"y\": 550.0, \"label_x\": 310.0, \"label_y\": 580.0, \"bigg_id\": \"PYRUVATE_c\", \"name\": \"PYRUVATE_c\", \"node_is_primary\": false}, \"4\": {\"node_type\": \"multimarker\", \"x\": 225.0, \"y\": 305.0}, \"5\": {\"node_type\": \"midmarker\", \"x\": 225.0, \"y\": 325.0}, \"6\": {\"node_type\": \"multimarker\", \"x\": 225.0, \"y\": 345.0}, \"7\": {\"node_type\": \"metabolite\", \"x\": 300.0, \"y\": 680.0, \"label_x\": 310.0, \"label_y\": 670.0, \"bigg_id\": \"NADP_c\", \"name\": \"NADP_c\", \"node_is_primary\": false}, \"8\": {\"node_type\": \"metabolite\", \"x\": 112.5, \"y\": 1200.0, \"label_x\": 122.5, \"label_y\": 1230.0, \"bigg_id\": \"D_6_P_GLUCONO_DELTA_LACTONE_c\", \"name\": \"D_6_P_GLUCONO_DELTA_LACTONE_c\", \"node_is_primary\": false}, \"9\": {\"node_type\": \"metabolite\", \"x\": 225.0, \"y\": 1200.0, \"label_x\": 235.0, \"label_y\": 1230.0, \"bigg_id\": \"NADPH_c\", \"name\": \"NADPH_c\", \"node_is_primary\": false}, \"10\": {\"node_type\": \"metabolite\", \"x\": 337.5, \"y\": 1200.0, \"label_x\": 347.5, \"label_y\": 1230.0, \"bigg_id\": \"PROTON_c\", \"name\": \"PROTON_c\", \"node_is_primary\": false}, \"11\": {\"node_type\": \"multimarker\", \"x\": 225.0, \"y\": 955.0}, \"12\": {\"node_type\": \"midmarker\", \"x\": 225.0, \"y\": 975.0}, \"13\": {\"node_type\": \"multimarker\", \"x\": 225.0, \"y\": 995.0}, \"14\": {\"node_type\": \"metabolite\", \"x\": 150.0, \"y\": 1330.0, \"label_x\": 160.0, \"label_y\": 1320.0, \"bigg_id\": \"CPD_15815_c\", \"name\": \"CPD_15815_c\", \"node_is_primary\": false}, \"15\": {\"node_type\": \"metabolite\", \"x\": 150.0, \"y\": 1850.0, \"label_x\": 160.0, \"label_y\": 1880.0, \"bigg_id\": \"CPD_2961_c\", \"name\": \"CPD_2961_c\", \"node_is_primary\": false}, \"16\": {\"node_type\": \"metabolite\", \"x\": 300.0, \"y\": 1850.0, \"label_x\": 310.0, \"label_y\": 1880.0, \"bigg_id\": \"PROTON_c\", \"name\": \"PROTON_c\", \"node_is_primary\": false}, \"17\": {\"node_type\": \"multimarker\", \"x\": 225.0, \"y\": 1605.0}, \"18\": {\"node_type\": \"midmarker\", \"x\": 225.0, \"y\": 1625.0}, \"19\": {\"node_type\": \"multimarker\", \"x\": 225.0, \"y\": 1645.0}, \"20\": {\"node_type\": \"metabolite\", \"x\": 300.0, \"y\": 1980.0, \"label_x\": 310.0, \"label_y\": 1970.0, \"bigg_id\": \"NADP_c\", \"name\": \"NADP_c\", \"node_is_primary\": false}, \"21\": {\"node_type\": \"metabolite\", \"x\": 112.5, \"y\": 2500.0, \"label_x\": 122.5, \"label_y\": 2530.0, \"bigg_id\": \"CARBON_DIOXIDE_c\", \"name\": \"CARBON_DIOXIDE_c\", \"node_is_primary\": false}, \"22\": {\"node_type\": \"metabolite\", \"x\": 225.0, \"y\": 2500.0, \"label_x\": 235.0, \"label_y\": 2530.0, \"bigg_id\": \"NADPH_c\", \"name\": \"NADPH_c\", \"node_is_primary\": false}, \"23\": {\"node_type\": \"metabolite\", \"x\": 337.5, \"y\": 2500.0, \"label_x\": 347.5, \"label_y\": 2530.0, \"bigg_id\": \"RIBULOSE_5P_c\", \"name\": \"RIBULOSE_5P_c\", \"node_is_primary\": false}, \"24\": {\"node_type\": \"multimarker\", \"x\": 225.0, \"y\": 2255.0}, \"25\": {\"node_type\": \"midmarker\", \"x\": 225.0, \"y\": 2275.0}, \"26\": {\"node_type\": \"multimarker\", \"x\": 225.0, \"y\": 2295.0}}, \"text_labels\": {}, \"canvas\": {\"x\": 0, \"y\": 0, \"width\": 450, \"height\": 2600}}]",
       "_loaded_model_json": null,
       "allow_building_duplicate_reactions": false,
       "and_method_in_gene_reaction_rule": "mean",
       "canvas_size_and_loc": null,
       "cofactors": [
        "atp",
        "adp",
        "nad",
        "nadh",
        "nadp",
        "nadph",
        "gtp",
        "gdp",
        "h",
        "coa",
        "ump",
        "h2o",
        "ppi"
       ],
       "disabled_buttons": [
        "Clear gene data",
        "Clear metabolite data"
       ],
       "embedded_css": null,
       "enable_editing": true,
       "enable_keys": false,
       "enable_keys_with_tooltip": true,
       "enable_search": true,
       "enable_tooltips": false,
       "full_screen_button": {
        "enable_editing": true,
        "enable_keys": true,
        "enable_tooltips": [
         "label"
        ],
        "menu": "all",
        "scroll_behavior": "pan"
       },
       "gene_data": null,
       "gene_font_size": 18,
       "height": 500,
       "hide_all_labels": false,
       "hide_secondary_metabolites": false,
       "highlight_missing": false,
       "identifiers_on_map": "bigg_id",
       "layout": "IPY_MODEL_1667b77aac6449a09c33cd22d3063386",
       "marker_radius": 5,
       "menu": "all",
       "metabolite_compare_style": "log2_fold",
       "metabolite_data": null,
       "metabolite_no_data_color": "#ffffff",
       "metabolite_no_data_size": 10,
       "metabolite_scale": [
        {
         "color": "#fffaf0",
         "size": 20,
         "type": "min"
        },
        {
         "color": "#f1c470",
         "size": 30,
         "type": "median"
        },
        {
         "color": "#800000",
         "size": 40,
         "type": "max"
        }
       ],
       "metabolite_scale_preset": "WhYlRd",
       "metabolite_styles": [
        "color",
        "size",
        "text"
       ],
       "never_ask_before_quit": true,
       "primary_metabolite_radius": 20,
       "reaction_compare_style": "log2_fold",
       "reaction_data": {
        "G6PDH2r": -2,
        "GLCpts": -2,
        "GND": 1,
        "Other": 1000,
        "PGL": 0.4
       },
       "reaction_no_data_color": "#dcdcdc",
       "reaction_no_data_size": 8,
       "reaction_scale": [
        {
         "color": "rgb(191,215,230)",
         "type": "value",
         "value": 0.4
        },
        {
         "color": "rgb(163,210,240)",
         "type": "value",
         "value": 1
        },
        {
         "color": "rgb(135,205,250)",
         "type": "value",
         "value": 1000
        },
        {
         "color": "rgb(220,220,220)",
         "type": "value",
         "value": 0
        },
        {
         "color": "rgb(237,192,110)",
         "type": "value",
         "value": -2
        },
        {
         "color": "rgb(255,165,0)",
         "type": "value",
         "value": -2
        }
       ],
       "reaction_scale_preset": null,
       "reaction_styles": [
        "color",
        "text"
       ],
       "scroll_behavior": "none",
       "secondary_metabolite_radius": 10,
       "semantic_zoom": null,
       "show_gene_reaction_rules": false,
       "starting_reaction": null,
       "use_3d_transform": false,
       "zoom_to_element": null
      }
     },
     "5176ef6226da4cd0b86713be03821e6d": {
      "model_module": "escher",
      "model_module_version": "1.7.4",
      "model_name": "EscherMapModel",
      "state": {
       "_loaded_map_json": "[{\"map_name\": \"\", \"map_id\": \"\", \"map_description\": \"\", \"homepage\": \"\", \"schema\": \"https://escher.github.io/escher/jsonschema/1-0-0#\"}, {\"reactions\": {\"0\": {\"name\": \"GLCpts\", \"bigg_id\": \"GLCpts\", \"reversibility\": true, \"label_x\": 265.0, \"label_y\": 325.0, \"gene_reaction_rule\": \"\", \"genes\": [], \"segments\": {\"0\": {\"from_node_id\": \"4\", \"to_node_id\": \"5\", \"b1\": null, \"b2\": null}, \"1\": {\"from_node_id\": \"6\", \"to_node_id\": \"5\", \"b1\": null, \"b2\": null}, \"2\": {\"from_node_id\": \"0\", \"to_node_id\": \"4\", \"b1\": null, \"b2\": null}, \"3\": {\"from_node_id\": \"1\", \"to_node_id\": \"4\", \"b1\": null, \"b2\": null}, \"4\": {\"from_node_id\": \"2\", \"to_node_id\": \"6\", \"b1\": null, \"b2\": null}, \"5\": {\"from_node_id\": \"3\", \"to_node_id\": \"6\", \"b1\": null, \"b2\": null}}, \"metabolites\": [{\"bigg_id\": \"Glucopyranose_e\", \"coefficient\": -1.0}, {\"bigg_id\": \"PHOSPHO_ENOL_PYRUVATE_c\", \"coefficient\": -1.0}, {\"bigg_id\": \"D_glucopyranose_6_phosphate_c\", \"coefficient\": 1.0}, {\"bigg_id\": \"PYRUVATE_c\", \"coefficient\": 1.0}]}, \"1\": {\"name\": \"G6PDH2r\", \"bigg_id\": \"G6PDH2r\", \"reversibility\": true, \"label_x\": 265.0, \"label_y\": 975.0, \"gene_reaction_rule\": \"\", \"genes\": [], \"segments\": {\"6\": {\"from_node_id\": \"11\", \"to_node_id\": \"12\", \"b1\": null, \"b2\": null}, \"7\": {\"from_node_id\": \"13\", \"to_node_id\": \"12\", \"b1\": null, \"b2\": null}, \"8\": {\"from_node_id\": \"2\", \"to_node_id\": \"11\", \"b1\": null, \"b2\": null}, \"9\": {\"from_node_id\": \"7\", \"to_node_id\": \"11\", \"b1\": null, \"b2\": null}, \"10\": {\"from_node_id\": \"8\", \"to_node_id\": \"13\", \"b1\": null, \"b2\": null}, \"11\": {\"from_node_id\": \"9\", \"to_node_id\": \"13\", \"b1\": null, \"b2\": null}, \"12\": {\"from_node_id\": \"10\", \"to_node_id\": \"13\", \"b1\": null, \"b2\": null}}, \"metabolites\": [{\"bigg_id\": \"D_glucopyranose_6_phosphate_c\", \"coefficient\": -1.0}, {\"bigg_id\": \"NADP_c\", \"coefficient\": -1.0}, {\"bigg_id\": \"D_6_P_GLUCONO_DELTA_LACTONE_c\", \"coefficient\": 1.0}, {\"bigg_id\": \"NADPH_c\", \"coefficient\": 1.0}, {\"bigg_id\": \"PROTON_c\", \"coefficient\": 1.0}]}, \"2\": {\"name\": \"PGL\", \"bigg_id\": \"PGL\", \"reversibility\": true, \"label_x\": 265.0, \"label_y\": 1625.0, \"gene_reaction_rule\": \"\", \"genes\": [], \"segments\": {\"13\": {\"from_node_id\": \"17\", \"to_node_id\": \"18\", \"b1\": null, \"b2\": null}, \"14\": {\"from_node_id\": \"19\", \"to_node_id\": \"18\", \"b1\": null, \"b2\": null}, \"15\": {\"from_node_id\": \"14\", \"to_node_id\": \"17\", \"b1\": null, \"b2\": null}, \"16\": {\"from_node_id\": \"8\", \"to_node_id\": \"17\", \"b1\": null, \"b2\": null}, \"17\": {\"from_node_id\": \"15\", \"to_node_id\": \"19\", \"b1\": null, \"b2\": null}, \"18\": {\"from_node_id\": \"16\", \"to_node_id\": \"19\", \"b1\": null, \"b2\": null}}, \"metabolites\": [{\"bigg_id\": \"CPD_15815_c\", \"coefficient\": -1.0}, {\"bigg_id\": \"D_6_P_GLUCONO_DELTA_LACTONE_c\", \"coefficient\": -1.0}, {\"bigg_id\": \"CPD_2961_c\", \"coefficient\": 1.0}, {\"bigg_id\": \"PROTON_c\", \"coefficient\": 1.0}]}, \"3\": {\"name\": \"GND\", \"bigg_id\": \"GND\", \"reversibility\": true, \"label_x\": 265.0, \"label_y\": 2275.0, \"gene_reaction_rule\": \"\", \"genes\": [], \"segments\": {\"19\": {\"from_node_id\": \"24\", \"to_node_id\": \"25\", \"b1\": null, \"b2\": null}, \"20\": {\"from_node_id\": \"26\", \"to_node_id\": \"25\", \"b1\": null, \"b2\": null}, \"21\": {\"from_node_id\": \"15\", \"to_node_id\": \"24\", \"b1\": null, \"b2\": null}, \"22\": {\"from_node_id\": \"20\", \"to_node_id\": \"24\", \"b1\": null, \"b2\": null}, \"23\": {\"from_node_id\": \"21\", \"to_node_id\": \"26\", \"b1\": null, \"b2\": null}, \"24\": {\"from_node_id\": \"22\", \"to_node_id\": \"26\", \"b1\": null, \"b2\": null}, \"25\": {\"from_node_id\": \"23\", \"to_node_id\": \"26\", \"b1\": null, \"b2\": null}}, \"metabolites\": [{\"bigg_id\": \"CPD_2961_c\", \"coefficient\": -1.0}, {\"bigg_id\": \"NADP_c\", \"coefficient\": -1.0}, {\"bigg_id\": \"CARBON_DIOXIDE_c\", \"coefficient\": 1.0}, {\"bigg_id\": \"NADPH_c\", \"coefficient\": 1.0}, {\"bigg_id\": \"RIBULOSE_5P_c\", \"coefficient\": 1.0}]}}, \"nodes\": {\"0\": {\"node_type\": \"metabolite\", \"x\": 150.0, \"y\": 30.0, \"label_x\": 160.0, \"label_y\": 20.0, \"bigg_id\": \"Glucopyranose_e\", \"name\": \"Glucopyranose_e\", \"node_is_primary\": false}, \"1\": {\"node_type\": \"metabolite\", \"x\": 300.0, \"y\": 30.0, \"label_x\": 310.0, \"label_y\": 20.0, \"bigg_id\": \"PHOSPHO_ENOL_PYRUVATE_c\", \"name\": \"PHOSPHO_ENOL_PYRUVATE_c\", \"node_is_primary\": false}, \"2\": {\"node_type\": \"metabolite\", \"x\": 150.0, \"y\": 550.0, \"label_x\": 160.0, \"label_y\": 580.0, \"bigg_id\": \"D_glucopyranose_6_phosphate_c\", \"name\": \"D_glucopyranose_6_phosphate_c\", \"node_is_primary\": false}, \"3\": {\"node_type\": \"metabolite\", \"x\": 300.0, \"y\": 550.0, \"label_x\": 310.0, \"label_y\": 580.0, \"bigg_id\": \"PYRUVATE_c\", \"name\": \"PYRUVATE_c\", \"node_is_primary\": false}, \"4\": {\"node_type\": \"multimarker\", \"x\": 225.0, \"y\": 305.0}, \"5\": {\"node_type\": \"midmarker\", \"x\": 225.0, \"y\": 325.0}, \"6\": {\"node_type\": \"multimarker\", \"x\": 225.0, \"y\": 345.0}, \"7\": {\"node_type\": \"metabolite\", \"x\": 300.0, \"y\": 680.0, \"label_x\": 310.0, \"label_y\": 670.0, \"bigg_id\": \"NADP_c\", \"name\": \"NADP_c\", \"node_is_primary\": false}, \"8\": {\"node_type\": \"metabolite\", \"x\": 112.5, \"y\": 1200.0, \"label_x\": 122.5, \"label_y\": 1230.0, \"bigg_id\": \"D_6_P_GLUCONO_DELTA_LACTONE_c\", \"name\": \"D_6_P_GLUCONO_DELTA_LACTONE_c\", \"node_is_primary\": false}, \"9\": {\"node_type\": \"metabolite\", \"x\": 225.0, \"y\": 1200.0, \"label_x\": 235.0, \"label_y\": 1230.0, \"bigg_id\": \"NADPH_c\", \"name\": \"NADPH_c\", \"node_is_primary\": false}, \"10\": {\"node_type\": \"metabolite\", \"x\": 337.5, \"y\": 1200.0, \"label_x\": 347.5, \"label_y\": 1230.0, \"bigg_id\": \"PROTON_c\", \"name\": \"PROTON_c\", \"node_is_primary\": false}, \"11\": {\"node_type\": \"multimarker\", \"x\": 225.0, \"y\": 955.0}, \"12\": {\"node_type\": \"midmarker\", \"x\": 225.0, \"y\": 975.0}, \"13\": {\"node_type\": \"multimarker\", \"x\": 225.0, \"y\": 995.0}, \"14\": {\"node_type\": \"metabolite\", \"x\": 150.0, \"y\": 1330.0, \"label_x\": 160.0, \"label_y\": 1320.0, \"bigg_id\": \"CPD_15815_c\", \"name\": \"CPD_15815_c\", \"node_is_primary\": false}, \"15\": {\"node_type\": \"metabolite\", \"x\": 150.0, \"y\": 1850.0, \"label_x\": 160.0, \"label_y\": 1880.0, \"bigg_id\": \"CPD_2961_c\", \"name\": \"CPD_2961_c\", \"node_is_primary\": false}, \"16\": {\"node_type\": \"metabolite\", \"x\": 300.0, \"y\": 1850.0, \"label_x\": 310.0, \"label_y\": 1880.0, \"bigg_id\": \"PROTON_c\", \"name\": \"PROTON_c\", \"node_is_primary\": false}, \"17\": {\"node_type\": \"multimarker\", \"x\": 225.0, \"y\": 1605.0}, \"18\": {\"node_type\": \"midmarker\", \"x\": 225.0, \"y\": 1625.0}, \"19\": {\"node_type\": \"multimarker\", \"x\": 225.0, \"y\": 1645.0}, \"20\": {\"node_type\": \"metabolite\", \"x\": 300.0, \"y\": 1980.0, \"label_x\": 310.0, \"label_y\": 1970.0, \"bigg_id\": \"NADP_c\", \"name\": \"NADP_c\", \"node_is_primary\": false}, \"21\": {\"node_type\": \"metabolite\", \"x\": 112.5, \"y\": 2500.0, \"label_x\": 122.5, \"label_y\": 2530.0, \"bigg_id\": \"CARBON_DIOXIDE_c\", \"name\": \"CARBON_DIOXIDE_c\", \"node_is_primary\": false}, \"22\": {\"node_type\": \"metabolite\", \"x\": 225.0, \"y\": 2500.0, \"label_x\": 235.0, \"label_y\": 2530.0, \"bigg_id\": \"NADPH_c\", \"name\": \"NADPH_c\", \"node_is_primary\": false}, \"23\": {\"node_type\": \"metabolite\", \"x\": 337.5, \"y\": 2500.0, \"label_x\": 347.5, \"label_y\": 2530.0, \"bigg_id\": \"RIBULOSE_5P_c\", \"name\": \"RIBULOSE_5P_c\", \"node_is_primary\": false}, \"24\": {\"node_type\": \"multimarker\", \"x\": 225.0, \"y\": 2255.0}, \"25\": {\"node_type\": \"midmarker\", \"x\": 225.0, \"y\": 2275.0}, \"26\": {\"node_type\": \"multimarker\", \"x\": 225.0, \"y\": 2295.0}}, \"text_labels\": {}, \"canvas\": {\"x\": 0, \"y\": 0, \"width\": 450, \"height\": 2600}}]",
       "_loaded_model_json": null,
       "allow_building_duplicate_reactions": false,
       "and_method_in_gene_reaction_rule": "mean",
       "canvas_size_and_loc": null,
       "cofactors": [
        "atp",
        "adp",
        "nad",
        "nadh",
        "nadp",
        "nadph",
        "gtp",
        "gdp",
        "h",
        "coa",
        "ump",
        "h2o",
        "ppi"
       ],
       "disabled_buttons": [
        "Clear gene data",
        "Clear metabolite data"
       ],
       "embedded_css": null,
       "enable_editing": true,
       "enable_keys": false,
       "enable_keys_with_tooltip": true,
       "enable_search": true,
       "enable_tooltips": false,
       "full_screen_button": {
        "enable_editing": true,
        "enable_keys": true,
        "enable_tooltips": [
         "label"
        ],
        "menu": "all",
        "scroll_behavior": "pan"
       },
       "gene_data": null,
       "gene_font_size": 18,
       "height": 500,
       "hide_all_labels": false,
       "hide_secondary_metabolites": false,
       "highlight_missing": false,
       "identifiers_on_map": "bigg_id",
       "layout": "IPY_MODEL_8ae2ea9080334a439c6beb1527b5cec6",
       "marker_radius": 5,
       "menu": "all",
       "metabolite_compare_style": "log2_fold",
       "metabolite_data": null,
       "metabolite_no_data_color": "#ffffff",
       "metabolite_no_data_size": 10,
       "metabolite_scale": [
        {
         "color": "#fffaf0",
         "size": 20,
         "type": "min"
        },
        {
         "color": "#f1c470",
         "size": 30,
         "type": "median"
        },
        {
         "color": "#800000",
         "size": 40,
         "type": "max"
        }
       ],
       "metabolite_scale_preset": "WhYlRd",
       "metabolite_styles": [
        "color",
        "size",
        "text"
       ],
       "never_ask_before_quit": true,
       "primary_metabolite_radius": 20,
       "reaction_compare_style": "log2_fold",
       "reaction_data": {
        "G6PDH2r": -2,
        "GLCpts": -2,
        "GND": 1,
        "Other": 1000,
        "PGL": 0.4
       },
       "reaction_no_data_color": "#dcdcdc",
       "reaction_no_data_size": 8,
       "reaction_scale": [
        {
         "color": "rgb(191,215,230)",
         "type": "value",
         "value": 0.4
        },
        {
         "color": "rgb(163,210,240)",
         "type": "value",
         "value": 1
        },
        {
         "color": "rgb(135,205,250)",
         "type": "value",
         "value": 1000
        },
        {
         "color": "rgb(220,220,220)",
         "type": "value",
         "value": 0
        },
        {
         "color": "rgb(237,192,110)",
         "type": "value",
         "value": -2
        },
        {
         "color": "rgb(255,165,0)",
         "type": "value",
         "value": -2
        }
       ],
       "reaction_scale_preset": null,
       "reaction_styles": [
        "color",
        "text"
       ],
       "scroll_behavior": "none",
       "secondary_metabolite_radius": 10,
       "semantic_zoom": null,
       "show_gene_reaction_rules": false,
       "starting_reaction": null,
       "use_3d_transform": false,
       "zoom_to_element": null
      }
     },
     "57d09821da0444d099089531312eb30d": {
      "model_module": "@jupyter-widgets/base",
      "model_module_version": "1.2.0",
      "model_name": "LayoutModel",
      "state": {}
     },
     "5bc68443fd0546edbd175d89a801d5c7": {
      "model_module": "@jupyter-widgets/base",
      "model_module_version": "1.2.0",
      "model_name": "LayoutModel",
      "state": {}
     },
     "5f46a826edda439bad3fae0f51d4ae99": {
      "model_module": "escher",
      "model_module_version": "1.7.4",
      "model_name": "EscherMapModel",
      "state": {
       "_loaded_map_json": "[{\"map_name\": \"\", \"map_id\": \"\", \"map_description\": \"\", \"homepage\": \"\", \"schema\": \"https://escher.github.io/escher/jsonschema/1-0-0#\"}, {\"reactions\": {\"0\": {\"name\": \"GLCpts\", \"bigg_id\": \"GLCpts\", \"reversibility\": true, \"label_x\": 265.0, \"label_y\": 325.0, \"gene_reaction_rule\": \"\", \"genes\": [], \"segments\": {\"0\": {\"from_node_id\": \"4\", \"to_node_id\": \"5\", \"b1\": null, \"b2\": null}, \"1\": {\"from_node_id\": \"6\", \"to_node_id\": \"5\", \"b1\": null, \"b2\": null}, \"2\": {\"from_node_id\": \"0\", \"to_node_id\": \"4\", \"b1\": null, \"b2\": null}, \"3\": {\"from_node_id\": \"1\", \"to_node_id\": \"4\", \"b1\": null, \"b2\": null}, \"4\": {\"from_node_id\": \"2\", \"to_node_id\": \"6\", \"b1\": null, \"b2\": null}, \"5\": {\"from_node_id\": \"3\", \"to_node_id\": \"6\", \"b1\": null, \"b2\": null}}, \"metabolites\": [{\"bigg_id\": \"Glucopyranose_e\", \"coefficient\": -1.0}, {\"bigg_id\": \"PHOSPHO_ENOL_PYRUVATE_c\", \"coefficient\": -1.0}, {\"bigg_id\": \"D_glucopyranose_6_phosphate_c\", \"coefficient\": 1.0}, {\"bigg_id\": \"PYRUVATE_c\", \"coefficient\": 1.0}]}, \"1\": {\"name\": \"GND\", \"bigg_id\": \"GND\", \"reversibility\": true, \"label_x\": 265.0, \"label_y\": 975.0, \"gene_reaction_rule\": \"\", \"genes\": [], \"segments\": {\"6\": {\"from_node_id\": \"12\", \"to_node_id\": \"13\", \"b1\": null, \"b2\": null}, \"7\": {\"from_node_id\": \"14\", \"to_node_id\": \"13\", \"b1\": null, \"b2\": null}, \"8\": {\"from_node_id\": \"7\", \"to_node_id\": \"12\", \"b1\": null, \"b2\": null}, \"9\": {\"from_node_id\": \"8\", \"to_node_id\": \"12\", \"b1\": null, \"b2\": null}, \"10\": {\"from_node_id\": \"9\", \"to_node_id\": \"14\", \"b1\": null, \"b2\": null}, \"11\": {\"from_node_id\": \"10\", \"to_node_id\": \"14\", \"b1\": null, \"b2\": null}, \"12\": {\"from_node_id\": \"11\", \"to_node_id\": \"14\", \"b1\": null, \"b2\": null}}, \"metabolites\": [{\"bigg_id\": \"CPD_2961_c\", \"coefficient\": -1.0}, {\"bigg_id\": \"NADP_c\", \"coefficient\": -1.0}, {\"bigg_id\": \"CARBON_DIOXIDE_c\", \"coefficient\": 1.0}, {\"bigg_id\": \"NADPH_c\", \"coefficient\": 1.0}, {\"bigg_id\": \"RIBULOSE_5P_c\", \"coefficient\": 1.0}]}, \"2\": {\"name\": \"PGL\", \"bigg_id\": \"PGL\", \"reversibility\": true, \"label_x\": 265.0, \"label_y\": 1625.0, \"gene_reaction_rule\": \"\", \"genes\": [], \"segments\": {\"13\": {\"from_node_id\": \"19\", \"to_node_id\": \"20\", \"b1\": null, \"b2\": null}, \"14\": {\"from_node_id\": \"21\", \"to_node_id\": \"20\", \"b1\": null, \"b2\": null}, \"15\": {\"from_node_id\": \"15\", \"to_node_id\": \"19\", \"b1\": null, \"b2\": null}, \"16\": {\"from_node_id\": \"16\", \"to_node_id\": \"19\", \"b1\": null, \"b2\": null}, \"17\": {\"from_node_id\": \"17\", \"to_node_id\": \"21\", \"b1\": null, \"b2\": null}, \"18\": {\"from_node_id\": \"18\", \"to_node_id\": \"21\", \"b1\": null, \"b2\": null}}, \"metabolites\": [{\"bigg_id\": \"CPD_15815_c\", \"coefficient\": -1.0}, {\"bigg_id\": \"D_6_P_GLUCONO_DELTA_LACTONE_c\", \"coefficient\": -1.0}, {\"bigg_id\": \"CPD_2961_c\", \"coefficient\": 1.0}, {\"bigg_id\": \"PROTON_c\", \"coefficient\": 1.0}]}, \"3\": {\"name\": \"G6PDH2r\", \"bigg_id\": \"G6PDH2r\", \"reversibility\": true, \"label_x\": 265.0, \"label_y\": 2275.0, \"gene_reaction_rule\": \"\", \"genes\": [], \"segments\": {\"19\": {\"from_node_id\": \"27\", \"to_node_id\": \"28\", \"b1\": null, \"b2\": null}, \"20\": {\"from_node_id\": \"29\", \"to_node_id\": \"28\", \"b1\": null, \"b2\": null}, \"21\": {\"from_node_id\": \"22\", \"to_node_id\": \"27\", \"b1\": null, \"b2\": null}, \"22\": {\"from_node_id\": \"23\", \"to_node_id\": \"27\", \"b1\": null, \"b2\": null}, \"23\": {\"from_node_id\": \"24\", \"to_node_id\": \"29\", \"b1\": null, \"b2\": null}, \"24\": {\"from_node_id\": \"25\", \"to_node_id\": \"29\", \"b1\": null, \"b2\": null}, \"25\": {\"from_node_id\": \"26\", \"to_node_id\": \"29\", \"b1\": null, \"b2\": null}}, \"metabolites\": [{\"bigg_id\": \"D_glucopyranose_6_phosphate_c\", \"coefficient\": -1.0}, {\"bigg_id\": \"NADP_c\", \"coefficient\": -1.0}, {\"bigg_id\": \"D_6_P_GLUCONO_DELTA_LACTONE_c\", \"coefficient\": 1.0}, {\"bigg_id\": \"NADPH_c\", \"coefficient\": 1.0}, {\"bigg_id\": \"PROTON_c\", \"coefficient\": 1.0}]}}, \"nodes\": {\"0\": {\"node_type\": \"metabolite\", \"x\": 150.0, \"y\": 30.0, \"label_x\": 160.0, \"label_y\": 20.0, \"bigg_id\": \"Glucopyranose_e\", \"name\": \"Glucopyranose_e\", \"node_is_primary\": false}, \"1\": {\"node_type\": \"metabolite\", \"x\": 300.0, \"y\": 30.0, \"label_x\": 310.0, \"label_y\": 20.0, \"bigg_id\": \"PHOSPHO_ENOL_PYRUVATE_c\", \"name\": \"PHOSPHO_ENOL_PYRUVATE_c\", \"node_is_primary\": false}, \"2\": {\"node_type\": \"metabolite\", \"x\": 150.0, \"y\": 550.0, \"label_x\": 160.0, \"label_y\": 580.0, \"bigg_id\": \"D_glucopyranose_6_phosphate_c\", \"name\": \"D_glucopyranose_6_phosphate_c\", \"node_is_primary\": false}, \"3\": {\"node_type\": \"metabolite\", \"x\": 300.0, \"y\": 550.0, \"label_x\": 310.0, \"label_y\": 580.0, \"bigg_id\": \"PYRUVATE_c\", \"name\": \"PYRUVATE_c\", \"node_is_primary\": false}, \"4\": {\"node_type\": \"multimarker\", \"x\": 225.0, \"y\": 305.0}, \"5\": {\"node_type\": \"midmarker\", \"x\": 225.0, \"y\": 325.0}, \"6\": {\"node_type\": \"multimarker\", \"x\": 225.0, \"y\": 345.0}, \"7\": {\"node_type\": \"metabolite\", \"x\": 150.0, \"y\": 680.0, \"label_x\": 160.0, \"label_y\": 670.0, \"bigg_id\": \"CPD_2961_c\", \"name\": \"CPD_2961_c\", \"node_is_primary\": false}, \"8\": {\"node_type\": \"metabolite\", \"x\": 300.0, \"y\": 680.0, \"label_x\": 310.0, \"label_y\": 670.0, \"bigg_id\": \"NADP_c\", \"name\": \"NADP_c\", \"node_is_primary\": false}, \"9\": {\"node_type\": \"metabolite\", \"x\": 112.5, \"y\": 1200.0, \"label_x\": 122.5, \"label_y\": 1230.0, \"bigg_id\": \"CARBON_DIOXIDE_c\", \"name\": \"CARBON_DIOXIDE_c\", \"node_is_primary\": false}, \"10\": {\"node_type\": \"metabolite\", \"x\": 225.0, \"y\": 1200.0, \"label_x\": 235.0, \"label_y\": 1230.0, \"bigg_id\": \"NADPH_c\", \"name\": \"NADPH_c\", \"node_is_primary\": false}, \"11\": {\"node_type\": \"metabolite\", \"x\": 337.5, \"y\": 1200.0, \"label_x\": 347.5, \"label_y\": 1230.0, \"bigg_id\": \"RIBULOSE_5P_c\", \"name\": \"RIBULOSE_5P_c\", \"node_is_primary\": false}, \"12\": {\"node_type\": \"multimarker\", \"x\": 225.0, \"y\": 955.0}, \"13\": {\"node_type\": \"midmarker\", \"x\": 225.0, \"y\": 975.0}, \"14\": {\"node_type\": \"multimarker\", \"x\": 225.0, \"y\": 995.0}, \"15\": {\"node_type\": \"metabolite\", \"x\": 150.0, \"y\": 1330.0, \"label_x\": 160.0, \"label_y\": 1320.0, \"bigg_id\": \"CPD_15815_c\", \"name\": \"CPD_15815_c\", \"node_is_primary\": false}, \"16\": {\"node_type\": \"metabolite\", \"x\": 300.0, \"y\": 1330.0, \"label_x\": 310.0, \"label_y\": 1320.0, \"bigg_id\": \"D_6_P_GLUCONO_DELTA_LACTONE_c\", \"name\": \"D_6_P_GLUCONO_DELTA_LACTONE_c\", \"node_is_primary\": false}, \"17\": {\"node_type\": \"metabolite\", \"x\": 150.0, \"y\": 1850.0, \"label_x\": 160.0, \"label_y\": 1880.0, \"bigg_id\": \"CPD_2961_c\", \"name\": \"CPD_2961_c\", \"node_is_primary\": false}, \"18\": {\"node_type\": \"metabolite\", \"x\": 300.0, \"y\": 1850.0, \"label_x\": 310.0, \"label_y\": 1880.0, \"bigg_id\": \"PROTON_c\", \"name\": \"PROTON_c\", \"node_is_primary\": false}, \"19\": {\"node_type\": \"multimarker\", \"x\": 225.0, \"y\": 1605.0}, \"20\": {\"node_type\": \"midmarker\", \"x\": 225.0, \"y\": 1625.0}, \"21\": {\"node_type\": \"multimarker\", \"x\": 225.0, \"y\": 1645.0}, \"22\": {\"node_type\": \"metabolite\", \"x\": 150.0, \"y\": 1980.0, \"label_x\": 160.0, \"label_y\": 1970.0, \"bigg_id\": \"D_glucopyranose_6_phosphate_c\", \"name\": \"D_glucopyranose_6_phosphate_c\", \"node_is_primary\": false}, \"23\": {\"node_type\": \"metabolite\", \"x\": 300.0, \"y\": 1980.0, \"label_x\": 310.0, \"label_y\": 1970.0, \"bigg_id\": \"NADP_c\", \"name\": \"NADP_c\", \"node_is_primary\": false}, \"24\": {\"node_type\": \"metabolite\", \"x\": 112.5, \"y\": 2500.0, \"label_x\": 122.5, \"label_y\": 2530.0, \"bigg_id\": \"D_6_P_GLUCONO_DELTA_LACTONE_c\", \"name\": \"D_6_P_GLUCONO_DELTA_LACTONE_c\", \"node_is_primary\": false}, \"25\": {\"node_type\": \"metabolite\", \"x\": 225.0, \"y\": 2500.0, \"label_x\": 235.0, \"label_y\": 2530.0, \"bigg_id\": \"NADPH_c\", \"name\": \"NADPH_c\", \"node_is_primary\": false}, \"26\": {\"node_type\": \"metabolite\", \"x\": 337.5, \"y\": 2500.0, \"label_x\": 347.5, \"label_y\": 2530.0, \"bigg_id\": \"PROTON_c\", \"name\": \"PROTON_c\", \"node_is_primary\": false}, \"27\": {\"node_type\": \"multimarker\", \"x\": 225.0, \"y\": 2255.0}, \"28\": {\"node_type\": \"midmarker\", \"x\": 225.0, \"y\": 2275.0}, \"29\": {\"node_type\": \"multimarker\", \"x\": 225.0, \"y\": 2295.0}}, \"text_labels\": {}, \"canvas\": {\"x\": 0, \"y\": 0, \"width\": 450, \"height\": 2600}}]",
       "_loaded_model_json": null,
       "allow_building_duplicate_reactions": false,
       "and_method_in_gene_reaction_rule": "mean",
       "canvas_size_and_loc": null,
       "cofactors": [
        "atp",
        "adp",
        "nad",
        "nadh",
        "nadp",
        "nadph",
        "gtp",
        "gdp",
        "h",
        "coa",
        "ump",
        "h2o",
        "ppi"
       ],
       "disabled_buttons": [
        "Clear gene data",
        "Clear metabolite data"
       ],
       "embedded_css": null,
       "enable_editing": true,
       "enable_keys": false,
       "enable_keys_with_tooltip": true,
       "enable_search": true,
       "enable_tooltips": false,
       "full_screen_button": {
        "enable_editing": true,
        "enable_keys": true,
        "enable_tooltips": [
         "label"
        ],
        "menu": "all",
        "scroll_behavior": "pan"
       },
       "gene_data": null,
       "gene_font_size": 18,
       "height": 500,
       "hide_all_labels": false,
       "hide_secondary_metabolites": false,
       "highlight_missing": false,
       "identifiers_on_map": "bigg_id",
       "layout": "IPY_MODEL_9e060e9423054435b9d6537e8b72a89e",
       "marker_radius": 5,
       "menu": "all",
       "metabolite_compare_style": "log2_fold",
       "metabolite_data": null,
       "metabolite_no_data_color": "#ffffff",
       "metabolite_no_data_size": 10,
       "metabolite_scale": [
        {
         "color": "#fffaf0",
         "size": 20,
         "type": "min"
        },
        {
         "color": "#f1c470",
         "size": 30,
         "type": "median"
        },
        {
         "color": "#800000",
         "size": 40,
         "type": "max"
        }
       ],
       "metabolite_scale_preset": "WhYlRd",
       "metabolite_styles": [
        "color",
        "size",
        "text"
       ],
       "never_ask_before_quit": true,
       "primary_metabolite_radius": 20,
       "reaction_compare_style": "log2_fold",
       "reaction_data": {
        "G6PDH2r": -2,
        "GLCpts": -2,
        "GND": 1,
        "PGL": 0.4
       },
       "reaction_no_data_color": "#dcdcdc",
       "reaction_no_data_size": 8,
       "reaction_scale": [
        {
         "color": "rgb(220,220,220)",
         "type": "value",
         "value": 0.5
        },
        {
         "color": "rgb(220,220,220)",
         "type": "value",
         "value": 1
        },
        {
         "color": "rgb(220,220,220)",
         "type": "value",
         "value": 0
        },
        {
         "color": "rgb(220,220,220)",
         "type": "value",
         "value": -1
        },
        {
         "color": "rgb(220,220,220)",
         "type": "value",
         "value": -2
        }
       ],
       "reaction_scale_preset": null,
       "reaction_styles": [
        "color",
        "text"
       ],
       "scroll_behavior": "none",
       "secondary_metabolite_radius": 10,
       "semantic_zoom": null,
       "show_gene_reaction_rules": false,
       "starting_reaction": null,
       "use_3d_transform": false,
       "zoom_to_element": null
      }
     },
     "6114c282eb6a49d5ae179677358a7255": {
      "model_module": "@jupyter-widgets/base",
      "model_module_version": "1.2.0",
      "model_name": "LayoutModel",
      "state": {}
     },
     "617a08e638084a7e9091aa8ff3f63aef": {
      "model_module": "escher",
      "model_module_version": "1.7.4",
      "model_name": "EscherMapModel",
      "state": {
       "_loaded_map_json": "[{\"map_name\": \"\", \"map_id\": \"\", \"map_description\": \"\", \"homepage\": \"\", \"schema\": \"https://escher.github.io/escher/jsonschema/1-0-0#\"}, {\"reactions\": {\"0\": {\"name\": \"GLCpts\", \"bigg_id\": \"GLCpts\", \"reversibility\": true, \"label_x\": 265.0, \"label_y\": 325.0, \"gene_reaction_rule\": \"\", \"genes\": [], \"segments\": {\"0\": {\"from_node_id\": \"4\", \"to_node_id\": \"5\", \"b1\": null, \"b2\": null}, \"1\": {\"from_node_id\": \"6\", \"to_node_id\": \"5\", \"b1\": null, \"b2\": null}, \"2\": {\"from_node_id\": \"0\", \"to_node_id\": \"4\", \"b1\": null, \"b2\": null}, \"3\": {\"from_node_id\": \"1\", \"to_node_id\": \"4\", \"b1\": null, \"b2\": null}, \"4\": {\"from_node_id\": \"2\", \"to_node_id\": \"6\", \"b1\": null, \"b2\": null}, \"5\": {\"from_node_id\": \"3\", \"to_node_id\": \"6\", \"b1\": null, \"b2\": null}}, \"metabolites\": [{\"bigg_id\": \"Glucopyranose_e\", \"coefficient\": -1.0}, {\"bigg_id\": \"PHOSPHO_ENOL_PYRUVATE_c\", \"coefficient\": -1.0}, {\"bigg_id\": \"D_glucopyranose_6_phosphate_c\", \"coefficient\": 1.0}, {\"bigg_id\": \"PYRUVATE_c\", \"coefficient\": 1.0}]}, \"1\": {\"name\": \"G6PDH2r\", \"bigg_id\": \"G6PDH2r\", \"reversibility\": true, \"label_x\": 265.0, \"label_y\": 975.0, \"gene_reaction_rule\": \"\", \"genes\": [], \"segments\": {\"6\": {\"from_node_id\": \"11\", \"to_node_id\": \"12\", \"b1\": null, \"b2\": null}, \"7\": {\"from_node_id\": \"13\", \"to_node_id\": \"12\", \"b1\": null, \"b2\": null}, \"8\": {\"from_node_id\": \"2\", \"to_node_id\": \"11\", \"b1\": null, \"b2\": null}, \"9\": {\"from_node_id\": \"7\", \"to_node_id\": \"11\", \"b1\": null, \"b2\": null}, \"10\": {\"from_node_id\": \"8\", \"to_node_id\": \"13\", \"b1\": null, \"b2\": null}, \"11\": {\"from_node_id\": \"9\", \"to_node_id\": \"13\", \"b1\": null, \"b2\": null}, \"12\": {\"from_node_id\": \"10\", \"to_node_id\": \"13\", \"b1\": null, \"b2\": null}}, \"metabolites\": [{\"bigg_id\": \"D_glucopyranose_6_phosphate_c\", \"coefficient\": -1.0}, {\"bigg_id\": \"NADP_c\", \"coefficient\": -1.0}, {\"bigg_id\": \"D_6_P_GLUCONO_DELTA_LACTONE_c\", \"coefficient\": 1.0}, {\"bigg_id\": \"NADPH_c\", \"coefficient\": 1.0}, {\"bigg_id\": \"PROTON_c\", \"coefficient\": 1.0}]}, \"2\": {\"name\": \"PGL\", \"bigg_id\": \"PGL\", \"reversibility\": true, \"label_x\": 265.0, \"label_y\": 1625.0, \"gene_reaction_rule\": \"\", \"genes\": [], \"segments\": {\"13\": {\"from_node_id\": \"17\", \"to_node_id\": \"18\", \"b1\": null, \"b2\": null}, \"14\": {\"from_node_id\": \"19\", \"to_node_id\": \"18\", \"b1\": null, \"b2\": null}, \"15\": {\"from_node_id\": \"14\", \"to_node_id\": \"17\", \"b1\": null, \"b2\": null}, \"16\": {\"from_node_id\": \"8\", \"to_node_id\": \"17\", \"b1\": null, \"b2\": null}, \"17\": {\"from_node_id\": \"15\", \"to_node_id\": \"19\", \"b1\": null, \"b2\": null}, \"18\": {\"from_node_id\": \"16\", \"to_node_id\": \"19\", \"b1\": null, \"b2\": null}}, \"metabolites\": [{\"bigg_id\": \"CPD_15815_c\", \"coefficient\": -1.0}, {\"bigg_id\": \"D_6_P_GLUCONO_DELTA_LACTONE_c\", \"coefficient\": -1.0}, {\"bigg_id\": \"CPD_2961_c\", \"coefficient\": 1.0}, {\"bigg_id\": \"PROTON_c\", \"coefficient\": 1.0}]}, \"3\": {\"name\": \"GND\", \"bigg_id\": \"GND\", \"reversibility\": true, \"label_x\": 265.0, \"label_y\": 2275.0, \"gene_reaction_rule\": \"\", \"genes\": [], \"segments\": {\"19\": {\"from_node_id\": \"24\", \"to_node_id\": \"25\", \"b1\": null, \"b2\": null}, \"20\": {\"from_node_id\": \"26\", \"to_node_id\": \"25\", \"b1\": null, \"b2\": null}, \"21\": {\"from_node_id\": \"15\", \"to_node_id\": \"24\", \"b1\": null, \"b2\": null}, \"22\": {\"from_node_id\": \"20\", \"to_node_id\": \"24\", \"b1\": null, \"b2\": null}, \"23\": {\"from_node_id\": \"21\", \"to_node_id\": \"26\", \"b1\": null, \"b2\": null}, \"24\": {\"from_node_id\": \"22\", \"to_node_id\": \"26\", \"b1\": null, \"b2\": null}, \"25\": {\"from_node_id\": \"23\", \"to_node_id\": \"26\", \"b1\": null, \"b2\": null}}, \"metabolites\": [{\"bigg_id\": \"CPD_2961_c\", \"coefficient\": -1.0}, {\"bigg_id\": \"NADP_c\", \"coefficient\": -1.0}, {\"bigg_id\": \"CARBON_DIOXIDE_c\", \"coefficient\": 1.0}, {\"bigg_id\": \"NADPH_c\", \"coefficient\": 1.0}, {\"bigg_id\": \"RIBULOSE_5P_c\", \"coefficient\": 1.0}]}}, \"nodes\": {\"0\": {\"node_type\": \"metabolite\", \"x\": 150.0, \"y\": 30.0, \"label_x\": 160.0, \"label_y\": 20.0, \"bigg_id\": \"Glucopyranose_e\", \"name\": \"Glucopyranose_e\", \"node_is_primary\": false}, \"1\": {\"node_type\": \"metabolite\", \"x\": 300.0, \"y\": 30.0, \"label_x\": 310.0, \"label_y\": 20.0, \"bigg_id\": \"PHOSPHO_ENOL_PYRUVATE_c\", \"name\": \"PHOSPHO_ENOL_PYRUVATE_c\", \"node_is_primary\": false}, \"2\": {\"node_type\": \"metabolite\", \"x\": 150.0, \"y\": 550.0, \"label_x\": 160.0, \"label_y\": 580.0, \"bigg_id\": \"D_glucopyranose_6_phosphate_c\", \"name\": \"D_glucopyranose_6_phosphate_c\", \"node_is_primary\": false}, \"3\": {\"node_type\": \"metabolite\", \"x\": 300.0, \"y\": 550.0, \"label_x\": 310.0, \"label_y\": 580.0, \"bigg_id\": \"PYRUVATE_c\", \"name\": \"PYRUVATE_c\", \"node_is_primary\": false}, \"4\": {\"node_type\": \"multimarker\", \"x\": 225.0, \"y\": 305.0}, \"5\": {\"node_type\": \"midmarker\", \"x\": 225.0, \"y\": 325.0}, \"6\": {\"node_type\": \"multimarker\", \"x\": 225.0, \"y\": 345.0}, \"7\": {\"node_type\": \"metabolite\", \"x\": 300.0, \"y\": 680.0, \"label_x\": 310.0, \"label_y\": 670.0, \"bigg_id\": \"NADP_c\", \"name\": \"NADP_c\", \"node_is_primary\": false}, \"8\": {\"node_type\": \"metabolite\", \"x\": 112.5, \"y\": 1200.0, \"label_x\": 122.5, \"label_y\": 1230.0, \"bigg_id\": \"D_6_P_GLUCONO_DELTA_LACTONE_c\", \"name\": \"D_6_P_GLUCONO_DELTA_LACTONE_c\", \"node_is_primary\": false}, \"9\": {\"node_type\": \"metabolite\", \"x\": 225.0, \"y\": 1200.0, \"label_x\": 235.0, \"label_y\": 1230.0, \"bigg_id\": \"NADPH_c\", \"name\": \"NADPH_c\", \"node_is_primary\": false}, \"10\": {\"node_type\": \"metabolite\", \"x\": 337.5, \"y\": 1200.0, \"label_x\": 347.5, \"label_y\": 1230.0, \"bigg_id\": \"PROTON_c\", \"name\": \"PROTON_c\", \"node_is_primary\": false}, \"11\": {\"node_type\": \"multimarker\", \"x\": 225.0, \"y\": 955.0}, \"12\": {\"node_type\": \"midmarker\", \"x\": 225.0, \"y\": 975.0}, \"13\": {\"node_type\": \"multimarker\", \"x\": 225.0, \"y\": 995.0}, \"14\": {\"node_type\": \"metabolite\", \"x\": 150.0, \"y\": 1330.0, \"label_x\": 160.0, \"label_y\": 1320.0, \"bigg_id\": \"CPD_15815_c\", \"name\": \"CPD_15815_c\", \"node_is_primary\": false}, \"15\": {\"node_type\": \"metabolite\", \"x\": 150.0, \"y\": 1850.0, \"label_x\": 160.0, \"label_y\": 1880.0, \"bigg_id\": \"CPD_2961_c\", \"name\": \"CPD_2961_c\", \"node_is_primary\": false}, \"16\": {\"node_type\": \"metabolite\", \"x\": 300.0, \"y\": 1850.0, \"label_x\": 310.0, \"label_y\": 1880.0, \"bigg_id\": \"PROTON_c\", \"name\": \"PROTON_c\", \"node_is_primary\": false}, \"17\": {\"node_type\": \"multimarker\", \"x\": 225.0, \"y\": 1605.0}, \"18\": {\"node_type\": \"midmarker\", \"x\": 225.0, \"y\": 1625.0}, \"19\": {\"node_type\": \"multimarker\", \"x\": 225.0, \"y\": 1645.0}, \"20\": {\"node_type\": \"metabolite\", \"x\": 300.0, \"y\": 1980.0, \"label_x\": 310.0, \"label_y\": 1970.0, \"bigg_id\": \"NADP_c\", \"name\": \"NADP_c\", \"node_is_primary\": false}, \"21\": {\"node_type\": \"metabolite\", \"x\": 112.5, \"y\": 2500.0, \"label_x\": 122.5, \"label_y\": 2530.0, \"bigg_id\": \"CARBON_DIOXIDE_c\", \"name\": \"CARBON_DIOXIDE_c\", \"node_is_primary\": false}, \"22\": {\"node_type\": \"metabolite\", \"x\": 225.0, \"y\": 2500.0, \"label_x\": 235.0, \"label_y\": 2530.0, \"bigg_id\": \"NADPH_c\", \"name\": \"NADPH_c\", \"node_is_primary\": false}, \"23\": {\"node_type\": \"metabolite\", \"x\": 337.5, \"y\": 2500.0, \"label_x\": 347.5, \"label_y\": 2530.0, \"bigg_id\": \"RIBULOSE_5P_c\", \"name\": \"RIBULOSE_5P_c\", \"node_is_primary\": false}, \"24\": {\"node_type\": \"multimarker\", \"x\": 225.0, \"y\": 2255.0}, \"25\": {\"node_type\": \"midmarker\", \"x\": 225.0, \"y\": 2275.0}, \"26\": {\"node_type\": \"multimarker\", \"x\": 225.0, \"y\": 2295.0}}, \"text_labels\": {}, \"canvas\": {\"x\": 0, \"y\": 0, \"width\": 450, \"height\": 2600}}]",
       "_loaded_model_json": null,
       "allow_building_duplicate_reactions": false,
       "and_method_in_gene_reaction_rule": "mean",
       "canvas_size_and_loc": null,
       "cofactors": [
        "atp",
        "adp",
        "nad",
        "nadh",
        "nadp",
        "nadph",
        "gtp",
        "gdp",
        "h",
        "coa",
        "ump",
        "h2o",
        "ppi"
       ],
       "disabled_buttons": [
        "Clear gene data",
        "Clear metabolite data"
       ],
       "embedded_css": null,
       "enable_editing": true,
       "enable_keys": false,
       "enable_keys_with_tooltip": true,
       "enable_search": true,
       "enable_tooltips": false,
       "full_screen_button": {
        "enable_editing": true,
        "enable_keys": true,
        "enable_tooltips": [
         "label"
        ],
        "menu": "all",
        "scroll_behavior": "pan"
       },
       "gene_data": null,
       "gene_font_size": 18,
       "height": 500,
       "hide_all_labels": false,
       "hide_secondary_metabolites": false,
       "highlight_missing": false,
       "identifiers_on_map": "bigg_id",
       "layout": "IPY_MODEL_82858b529a85455e91b84073ebdf5f50",
       "marker_radius": 5,
       "menu": "all",
       "metabolite_compare_style": "log2_fold",
       "metabolite_data": null,
       "metabolite_no_data_color": "#ffffff",
       "metabolite_no_data_size": 10,
       "metabolite_scale": [
        {
         "color": "#fffaf0",
         "size": 20,
         "type": "min"
        },
        {
         "color": "#f1c470",
         "size": 30,
         "type": "median"
        },
        {
         "color": "#800000",
         "size": 40,
         "type": "max"
        }
       ],
       "metabolite_scale_preset": "WhYlRd",
       "metabolite_styles": [
        "color",
        "size",
        "text"
       ],
       "never_ask_before_quit": true,
       "primary_metabolite_radius": 20,
       "reaction_compare_style": "log2_fold",
       "reaction_data": {
        "G6PDH2r": -2,
        "GLCpts": -2,
        "GND": 1,
        "Other": 1000,
        "PGL": 0.4
       },
       "reaction_no_data_color": "#dcdcdc",
       "reaction_no_data_size": 8,
       "reaction_scale": [
        {
         "color": "rgb(191,215,230)",
         "type": "value",
         "value": 333.3333333333333
        },
        {
         "color": "rgb(163,210,240)",
         "type": "value",
         "value": 666.6666666666667
        },
        {
         "color": "rgb(135,205,250)",
         "type": "value",
         "value": 1000
        },
        {
         "color": "rgb(220,220,220)",
         "type": "value",
         "value": 0
        },
        {
         "color": "rgb(237,192,110)",
         "type": "value",
         "value": -1
        },
        {
         "color": "rgb(255,165,0)",
         "type": "value",
         "value": -2
        }
       ],
       "reaction_scale_preset": null,
       "reaction_styles": [
        "color",
        "text"
       ],
       "scroll_behavior": "none",
       "secondary_metabolite_radius": 10,
       "semantic_zoom": null,
       "show_gene_reaction_rules": false,
       "starting_reaction": null,
       "use_3d_transform": false,
       "zoom_to_element": null
      }
     },
     "621524f43de04818927a2208bddbc8ff": {
      "model_module": "@jupyter-widgets/base",
      "model_module_version": "1.2.0",
      "model_name": "LayoutModel",
      "state": {}
     },
     "65fd9270372245798e40c8d800d8ac7d": {
      "model_module": "escher",
      "model_module_version": "1.7.4",
      "model_name": "EscherMapModel",
      "state": {
       "_loaded_map_json": "[{\"map_name\": \"\", \"map_id\": \"\", \"map_description\": \"\", \"homepage\": \"\", \"schema\": \"https://escher.github.io/escher/jsonschema/1-0-0#\"}, {\"reactions\": {\"0\": {\"name\": \"GLCpts\", \"bigg_id\": \"GLCpts\", \"reversibility\": true, \"label_x\": 265.0, \"label_y\": 325.0, \"gene_reaction_rule\": \"\", \"genes\": [], \"segments\": {\"0\": {\"from_node_id\": \"4\", \"to_node_id\": \"5\", \"b1\": null, \"b2\": null}, \"1\": {\"from_node_id\": \"6\", \"to_node_id\": \"5\", \"b1\": null, \"b2\": null}, \"2\": {\"from_node_id\": \"0\", \"to_node_id\": \"4\", \"b1\": null, \"b2\": null}, \"3\": {\"from_node_id\": \"1\", \"to_node_id\": \"4\", \"b1\": null, \"b2\": null}, \"4\": {\"from_node_id\": \"2\", \"to_node_id\": \"6\", \"b1\": null, \"b2\": null}, \"5\": {\"from_node_id\": \"3\", \"to_node_id\": \"6\", \"b1\": null, \"b2\": null}}, \"metabolites\": [{\"bigg_id\": \"Glucopyranose_e\", \"coefficient\": -1.0}, {\"bigg_id\": \"PHOSPHO_ENOL_PYRUVATE_c\", \"coefficient\": -1.0}, {\"bigg_id\": \"D_glucopyranose_6_phosphate_c\", \"coefficient\": 1.0}, {\"bigg_id\": \"PYRUVATE_c\", \"coefficient\": 1.0}]}, \"1\": {\"name\": \"G6PDH2r\", \"bigg_id\": \"G6PDH2r\", \"reversibility\": true, \"label_x\": 265.0, \"label_y\": 975.0, \"gene_reaction_rule\": \"\", \"genes\": [], \"segments\": {\"6\": {\"from_node_id\": \"11\", \"to_node_id\": \"12\", \"b1\": null, \"b2\": null}, \"7\": {\"from_node_id\": \"13\", \"to_node_id\": \"12\", \"b1\": null, \"b2\": null}, \"8\": {\"from_node_id\": \"2\", \"to_node_id\": \"11\", \"b1\": null, \"b2\": null}, \"9\": {\"from_node_id\": \"7\", \"to_node_id\": \"11\", \"b1\": null, \"b2\": null}, \"10\": {\"from_node_id\": \"8\", \"to_node_id\": \"13\", \"b1\": null, \"b2\": null}, \"11\": {\"from_node_id\": \"9\", \"to_node_id\": \"13\", \"b1\": null, \"b2\": null}, \"12\": {\"from_node_id\": \"10\", \"to_node_id\": \"13\", \"b1\": null, \"b2\": null}}, \"metabolites\": [{\"bigg_id\": \"D_glucopyranose_6_phosphate_c\", \"coefficient\": -1.0}, {\"bigg_id\": \"NADP_c\", \"coefficient\": -1.0}, {\"bigg_id\": \"D_6_P_GLUCONO_DELTA_LACTONE_c\", \"coefficient\": 1.0}, {\"bigg_id\": \"NADPH_c\", \"coefficient\": 1.0}, {\"bigg_id\": \"PROTON_c\", \"coefficient\": 1.0}]}, \"2\": {\"name\": \"PGL\", \"bigg_id\": \"PGL\", \"reversibility\": true, \"label_x\": 265.0, \"label_y\": 1625.0, \"gene_reaction_rule\": \"\", \"genes\": [], \"segments\": {\"13\": {\"from_node_id\": \"17\", \"to_node_id\": \"18\", \"b1\": null, \"b2\": null}, \"14\": {\"from_node_id\": \"19\", \"to_node_id\": \"18\", \"b1\": null, \"b2\": null}, \"15\": {\"from_node_id\": \"14\", \"to_node_id\": \"17\", \"b1\": null, \"b2\": null}, \"16\": {\"from_node_id\": \"8\", \"to_node_id\": \"17\", \"b1\": null, \"b2\": null}, \"17\": {\"from_node_id\": \"15\", \"to_node_id\": \"19\", \"b1\": null, \"b2\": null}, \"18\": {\"from_node_id\": \"16\", \"to_node_id\": \"19\", \"b1\": null, \"b2\": null}}, \"metabolites\": [{\"bigg_id\": \"CPD_15815_c\", \"coefficient\": -1.0}, {\"bigg_id\": \"D_6_P_GLUCONO_DELTA_LACTONE_c\", \"coefficient\": -1.0}, {\"bigg_id\": \"CPD_2961_c\", \"coefficient\": 1.0}, {\"bigg_id\": \"PROTON_c\", \"coefficient\": 1.0}]}, \"3\": {\"name\": \"GND\", \"bigg_id\": \"GND\", \"reversibility\": true, \"label_x\": 265.0, \"label_y\": 2275.0, \"gene_reaction_rule\": \"\", \"genes\": [], \"segments\": {\"19\": {\"from_node_id\": \"24\", \"to_node_id\": \"25\", \"b1\": null, \"b2\": null}, \"20\": {\"from_node_id\": \"26\", \"to_node_id\": \"25\", \"b1\": null, \"b2\": null}, \"21\": {\"from_node_id\": \"15\", \"to_node_id\": \"24\", \"b1\": null, \"b2\": null}, \"22\": {\"from_node_id\": \"20\", \"to_node_id\": \"24\", \"b1\": null, \"b2\": null}, \"23\": {\"from_node_id\": \"21\", \"to_node_id\": \"26\", \"b1\": null, \"b2\": null}, \"24\": {\"from_node_id\": \"22\", \"to_node_id\": \"26\", \"b1\": null, \"b2\": null}, \"25\": {\"from_node_id\": \"23\", \"to_node_id\": \"26\", \"b1\": null, \"b2\": null}}, \"metabolites\": [{\"bigg_id\": \"CPD_2961_c\", \"coefficient\": -1.0}, {\"bigg_id\": \"NADP_c\", \"coefficient\": -1.0}, {\"bigg_id\": \"CARBON_DIOXIDE_c\", \"coefficient\": 1.0}, {\"bigg_id\": \"NADPH_c\", \"coefficient\": 1.0}, {\"bigg_id\": \"RIBULOSE_5P_c\", \"coefficient\": 1.0}]}}, \"nodes\": {\"0\": {\"node_type\": \"metabolite\", \"x\": 150.0, \"y\": 30.0, \"label_x\": 160.0, \"label_y\": 20.0, \"bigg_id\": \"Glucopyranose_e\", \"name\": \"Glucopyranose_e\", \"node_is_primary\": false}, \"1\": {\"node_type\": \"metabolite\", \"x\": 300.0, \"y\": 30.0, \"label_x\": 310.0, \"label_y\": 20.0, \"bigg_id\": \"PHOSPHO_ENOL_PYRUVATE_c\", \"name\": \"PHOSPHO_ENOL_PYRUVATE_c\", \"node_is_primary\": false}, \"2\": {\"node_type\": \"metabolite\", \"x\": 150.0, \"y\": 550.0, \"label_x\": 160.0, \"label_y\": 580.0, \"bigg_id\": \"D_glucopyranose_6_phosphate_c\", \"name\": \"D_glucopyranose_6_phosphate_c\", \"node_is_primary\": false}, \"3\": {\"node_type\": \"metabolite\", \"x\": 300.0, \"y\": 550.0, \"label_x\": 310.0, \"label_y\": 580.0, \"bigg_id\": \"PYRUVATE_c\", \"name\": \"PYRUVATE_c\", \"node_is_primary\": false}, \"4\": {\"node_type\": \"multimarker\", \"x\": 225.0, \"y\": 305.0}, \"5\": {\"node_type\": \"midmarker\", \"x\": 225.0, \"y\": 325.0}, \"6\": {\"node_type\": \"multimarker\", \"x\": 225.0, \"y\": 345.0}, \"7\": {\"node_type\": \"metabolite\", \"x\": 300.0, \"y\": 680.0, \"label_x\": 310.0, \"label_y\": 670.0, \"bigg_id\": \"NADP_c\", \"name\": \"NADP_c\", \"node_is_primary\": false}, \"8\": {\"node_type\": \"metabolite\", \"x\": 112.5, \"y\": 1200.0, \"label_x\": 122.5, \"label_y\": 1230.0, \"bigg_id\": \"D_6_P_GLUCONO_DELTA_LACTONE_c\", \"name\": \"D_6_P_GLUCONO_DELTA_LACTONE_c\", \"node_is_primary\": false}, \"9\": {\"node_type\": \"metabolite\", \"x\": 225.0, \"y\": 1200.0, \"label_x\": 235.0, \"label_y\": 1230.0, \"bigg_id\": \"NADPH_c\", \"name\": \"NADPH_c\", \"node_is_primary\": false}, \"10\": {\"node_type\": \"metabolite\", \"x\": 337.5, \"y\": 1200.0, \"label_x\": 347.5, \"label_y\": 1230.0, \"bigg_id\": \"PROTON_c\", \"name\": \"PROTON_c\", \"node_is_primary\": false}, \"11\": {\"node_type\": \"multimarker\", \"x\": 225.0, \"y\": 955.0}, \"12\": {\"node_type\": \"midmarker\", \"x\": 225.0, \"y\": 975.0}, \"13\": {\"node_type\": \"multimarker\", \"x\": 225.0, \"y\": 995.0}, \"14\": {\"node_type\": \"metabolite\", \"x\": 150.0, \"y\": 1330.0, \"label_x\": 160.0, \"label_y\": 1320.0, \"bigg_id\": \"CPD_15815_c\", \"name\": \"CPD_15815_c\", \"node_is_primary\": false}, \"15\": {\"node_type\": \"metabolite\", \"x\": 150.0, \"y\": 1850.0, \"label_x\": 160.0, \"label_y\": 1880.0, \"bigg_id\": \"CPD_2961_c\", \"name\": \"CPD_2961_c\", \"node_is_primary\": false}, \"16\": {\"node_type\": \"metabolite\", \"x\": 300.0, \"y\": 1850.0, \"label_x\": 310.0, \"label_y\": 1880.0, \"bigg_id\": \"PROTON_c\", \"name\": \"PROTON_c\", \"node_is_primary\": false}, \"17\": {\"node_type\": \"multimarker\", \"x\": 225.0, \"y\": 1605.0}, \"18\": {\"node_type\": \"midmarker\", \"x\": 225.0, \"y\": 1625.0}, \"19\": {\"node_type\": \"multimarker\", \"x\": 225.0, \"y\": 1645.0}, \"20\": {\"node_type\": \"metabolite\", \"x\": 300.0, \"y\": 1980.0, \"label_x\": 310.0, \"label_y\": 1970.0, \"bigg_id\": \"NADP_c\", \"name\": \"NADP_c\", \"node_is_primary\": false}, \"21\": {\"node_type\": \"metabolite\", \"x\": 112.5, \"y\": 2500.0, \"label_x\": 122.5, \"label_y\": 2530.0, \"bigg_id\": \"CARBON_DIOXIDE_c\", \"name\": \"CARBON_DIOXIDE_c\", \"node_is_primary\": false}, \"22\": {\"node_type\": \"metabolite\", \"x\": 225.0, \"y\": 2500.0, \"label_x\": 235.0, \"label_y\": 2530.0, \"bigg_id\": \"NADPH_c\", \"name\": \"NADPH_c\", \"node_is_primary\": false}, \"23\": {\"node_type\": \"metabolite\", \"x\": 337.5, \"y\": 2500.0, \"label_x\": 347.5, \"label_y\": 2530.0, \"bigg_id\": \"RIBULOSE_5P_c\", \"name\": \"RIBULOSE_5P_c\", \"node_is_primary\": false}, \"24\": {\"node_type\": \"multimarker\", \"x\": 225.0, \"y\": 2255.0}, \"25\": {\"node_type\": \"midmarker\", \"x\": 225.0, \"y\": 2275.0}, \"26\": {\"node_type\": \"multimarker\", \"x\": 225.0, \"y\": 2295.0}}, \"text_labels\": {}, \"canvas\": {\"x\": 0, \"y\": 0, \"width\": 450, \"height\": 2600}}]",
       "_loaded_model_json": null,
       "allow_building_duplicate_reactions": false,
       "and_method_in_gene_reaction_rule": "mean",
       "canvas_size_and_loc": null,
       "cofactors": [
        "atp",
        "adp",
        "nad",
        "nadh",
        "nadp",
        "nadph",
        "gtp",
        "gdp",
        "h",
        "coa",
        "ump",
        "h2o",
        "ppi"
       ],
       "disabled_buttons": [
        "Clear gene data",
        "Clear metabolite data"
       ],
       "embedded_css": null,
       "enable_editing": true,
       "enable_keys": false,
       "enable_keys_with_tooltip": true,
       "enable_search": true,
       "enable_tooltips": false,
       "full_screen_button": {
        "enable_editing": true,
        "enable_keys": true,
        "enable_tooltips": [
         "label"
        ],
        "menu": "all",
        "scroll_behavior": "pan"
       },
       "gene_data": null,
       "gene_font_size": 18,
       "height": 500,
       "hide_all_labels": false,
       "hide_secondary_metabolites": false,
       "highlight_missing": false,
       "identifiers_on_map": "bigg_id",
       "layout": "IPY_MODEL_b0f72239b46540109dcdc2872aef4b17",
       "marker_radius": 5,
       "menu": "all",
       "metabolite_compare_style": "log2_fold",
       "metabolite_data": null,
       "metabolite_no_data_color": "#ffffff",
       "metabolite_no_data_size": 10,
       "metabolite_scale": [
        {
         "color": "#fffaf0",
         "size": 20,
         "type": "min"
        },
        {
         "color": "#f1c470",
         "size": 30,
         "type": "median"
        },
        {
         "color": "#800000",
         "size": 40,
         "type": "max"
        }
       ],
       "metabolite_scale_preset": "WhYlRd",
       "metabolite_styles": [
        "color",
        "size",
        "text"
       ],
       "never_ask_before_quit": true,
       "primary_metabolite_radius": 20,
       "reaction_compare_style": "log2_fold",
       "reaction_data": {
        "G6PDH2r": -2,
        "GLCpts": -2,
        "GND": 1,
        "Other": 1000,
        "PGL": 0.4
       },
       "reaction_no_data_color": "#dcdcdc",
       "reaction_no_data_size": 8,
       "reaction_scale": [
        {
         "color": "rgb(191,215,230)",
         "type": "value",
         "value": 0.4
        },
        {
         "color": "rgb(163,210,240)",
         "type": "value",
         "value": 1
        },
        {
         "color": "rgb(135,205,250)",
         "type": "value",
         "value": 1000
        },
        {
         "color": "rgb(220,220,220)",
         "type": "value",
         "value": 0
        },
        {
         "color": "rgb(237,192,110)",
         "type": "value",
         "value": -2
        },
        {
         "color": "rgb(255,165,0)",
         "type": "value",
         "value": -2
        }
       ],
       "reaction_scale_preset": null,
       "reaction_styles": [
        "color",
        "text"
       ],
       "scroll_behavior": "none",
       "secondary_metabolite_radius": 10,
       "semantic_zoom": null,
       "show_gene_reaction_rules": false,
       "starting_reaction": null,
       "use_3d_transform": false,
       "zoom_to_element": null
      }
     },
     "6cb69db1dbdc4a2d9d44a2522afb001d": {
      "model_module": "@jupyter-widgets/base",
      "model_module_version": "1.2.0",
      "model_name": "LayoutModel",
      "state": {}
     },
     "6f6d031ba9fa432b9937a3c5c929d98e": {
      "model_module": "escher",
      "model_module_version": "1.7.4",
      "model_name": "EscherMapModel",
      "state": {
       "_loaded_map_json": "[{\"map_name\": \"\", \"map_id\": \"\", \"map_description\": \"\", \"homepage\": \"\", \"schema\": \"https://escher.github.io/escher/jsonschema/1-0-0#\"}, {\"reactions\": {\"0\": {\"name\": \"GLCpts\", \"bigg_id\": \"GLCpts\", \"reversibility\": true, \"label_x\": 271.0, \"label_y\": 45.0, \"gene_reaction_rule\": \"\", \"genes\": [], \"segments\": {\"0\": {\"from_node_id\": \"4\", \"to_node_id\": \"5\", \"b1\": null, \"b2\": null}, \"1\": {\"from_node_id\": \"6\", \"to_node_id\": \"5\", \"b1\": null, \"b2\": null}, \"2\": {\"from_node_id\": \"0\", \"to_node_id\": \"4\", \"b1\": null, \"b2\": null}, \"3\": {\"from_node_id\": \"1\", \"to_node_id\": \"4\", \"b1\": null, \"b2\": null}, \"4\": {\"from_node_id\": \"2\", \"to_node_id\": \"6\", \"b1\": null, \"b2\": null}, \"5\": {\"from_node_id\": \"3\", \"to_node_id\": \"6\", \"b1\": null, \"b2\": null}}, \"metabolites\": [{\"bigg_id\": \"Glucopyranose_e\", \"coefficient\": -1.0}, {\"bigg_id\": \"PHOSPHO_ENOL_PYRUVATE_c\", \"coefficient\": -1.0}, {\"bigg_id\": \"D_glucopyranose_6_phosphate_c\", \"coefficient\": 1.0}, {\"bigg_id\": \"PYRUVATE_c\", \"coefficient\": 1.0}]}, \"1\": {\"name\": \"G6PDH2r\", \"bigg_id\": \"G6PDH2r\", \"reversibility\": true, \"label_x\": 912.0, \"label_y\": 45.0, \"gene_reaction_rule\": \"\", \"genes\": [], \"segments\": {\"6\": {\"from_node_id\": \"11\", \"to_node_id\": \"12\", \"b1\": null, \"b2\": null}, \"7\": {\"from_node_id\": \"13\", \"to_node_id\": \"12\", \"b1\": null, \"b2\": null}, \"8\": {\"from_node_id\": \"2\", \"to_node_id\": \"11\", \"b1\": null, \"b2\": null}, \"9\": {\"from_node_id\": \"7\", \"to_node_id\": \"11\", \"b1\": null, \"b2\": null}, \"10\": {\"from_node_id\": \"8\", \"to_node_id\": \"13\", \"b1\": null, \"b2\": null}, \"11\": {\"from_node_id\": \"9\", \"to_node_id\": \"13\", \"b1\": null, \"b2\": null}, \"12\": {\"from_node_id\": \"10\", \"to_node_id\": \"13\", \"b1\": null, \"b2\": null}}, \"metabolites\": [{\"bigg_id\": \"D_glucopyranose_6_phosphate_c\", \"coefficient\": -1.0}, {\"bigg_id\": \"NADP_c\", \"coefficient\": -1.0}, {\"bigg_id\": \"D_6_P_GLUCONO_DELTA_LACTONE_c\", \"coefficient\": 1.0}, {\"bigg_id\": \"NADPH_c\", \"coefficient\": 1.0}, {\"bigg_id\": \"PROTON_c\", \"coefficient\": 1.0}]}, \"2\": {\"name\": \"PGL\", \"bigg_id\": \"PGL\", \"reversibility\": true, \"label_x\": 1598.0, \"label_y\": 45.0, \"gene_reaction_rule\": \"\", \"genes\": [], \"segments\": {\"13\": {\"from_node_id\": \"17\", \"to_node_id\": \"18\", \"b1\": null, \"b2\": null}, \"14\": {\"from_node_id\": \"19\", \"to_node_id\": \"18\", \"b1\": null, \"b2\": null}, \"15\": {\"from_node_id\": \"14\", \"to_node_id\": \"17\", \"b1\": null, \"b2\": null}, \"16\": {\"from_node_id\": \"8\", \"to_node_id\": \"17\", \"b1\": null, \"b2\": null}, \"17\": {\"from_node_id\": \"15\", \"to_node_id\": \"19\", \"b1\": null, \"b2\": null}, \"18\": {\"from_node_id\": \"16\", \"to_node_id\": \"19\", \"b1\": null, \"b2\": null}}, \"metabolites\": [{\"bigg_id\": \"CPD_15815_c\", \"coefficient\": -1.0}, {\"bigg_id\": \"D_6_P_GLUCONO_DELTA_LACTONE_c\", \"coefficient\": -1.0}, {\"bigg_id\": \"CPD_2961_c\", \"coefficient\": 1.0}, {\"bigg_id\": \"PROTON_c\", \"coefficient\": 1.0}]}, \"3\": {\"name\": \"GND\", \"bigg_id\": \"GND\", \"reversibility\": true, \"label_x\": 2248.0, \"label_y\": 45.0, \"gene_reaction_rule\": \"\", \"genes\": [], \"segments\": {\"19\": {\"from_node_id\": \"24\", \"to_node_id\": \"25\", \"b1\": null, \"b2\": null}, \"20\": {\"from_node_id\": \"26\", \"to_node_id\": \"25\", \"b1\": null, \"b2\": null}, \"21\": {\"from_node_id\": \"15\", \"to_node_id\": \"24\", \"b1\": null, \"b2\": null}, \"22\": {\"from_node_id\": \"20\", \"to_node_id\": \"24\", \"b1\": null, \"b2\": null}, \"23\": {\"from_node_id\": \"21\", \"to_node_id\": \"26\", \"b1\": null, \"b2\": null}, \"24\": {\"from_node_id\": \"22\", \"to_node_id\": \"26\", \"b1\": null, \"b2\": null}, \"25\": {\"from_node_id\": \"23\", \"to_node_id\": \"26\", \"b1\": null, \"b2\": null}}, \"metabolites\": [{\"bigg_id\": \"CPD_2961_c\", \"coefficient\": -1.0}, {\"bigg_id\": \"NADP_c\", \"coefficient\": -1.0}, {\"bigg_id\": \"CARBON_DIOXIDE_c\", \"coefficient\": 1.0}, {\"bigg_id\": \"NADPH_c\", \"coefficient\": 1.0}, {\"bigg_id\": \"RIBULOSE_5P_c\", \"coefficient\": 1.0}]}}, \"nodes\": {\"0\": {\"node_type\": \"metabolite\", \"x\": 30.0, \"y\": 150.0, \"label_x\": 0.0, \"label_y\": 130.0, \"bigg_id\": \"Glucopyranose_e\", \"name\": \"Glucopyranose_e\", \"node_is_primary\": false}, \"1\": {\"node_type\": \"metabolite\", \"x\": 30.0, \"y\": 300.0, \"label_x\": 0.0, \"label_y\": 280.0, \"bigg_id\": \"PHOSPHO_ENOL_PYRUVATE_c\", \"name\": \"PHOSPHO_ENOL_PYRUVATE_c\", \"node_is_primary\": false}, \"2\": {\"node_type\": \"metabolite\", \"x\": 550.0, \"y\": 150.0, \"label_x\": 520.0, \"label_y\": 130.0, \"bigg_id\": \"D_glucopyranose_6_phosphate_c\", \"name\": \"D_glucopyranose_6_phosphate_c\", \"node_is_primary\": false}, \"3\": {\"node_type\": \"metabolite\", \"x\": 550.0, \"y\": 300.0, \"label_x\": 520.0, \"label_y\": 280.0, \"bigg_id\": \"PYRUVATE_c\", \"name\": \"PYRUVATE_c\", \"node_is_primary\": false}, \"4\": {\"node_type\": \"multimarker\", \"x\": 335.0, \"y\": 225.0}, \"5\": {\"node_type\": \"midmarker\", \"x\": 355.0, \"y\": 225.0}, \"6\": {\"node_type\": \"multimarker\", \"x\": 375.0, \"y\": 225.0}, \"7\": {\"node_type\": \"metabolite\", \"x\": 680.0, \"y\": 300.0, \"label_x\": 650.0, \"label_y\": 280.0, \"bigg_id\": \"NADP_c\", \"name\": \"NADP_c\", \"node_is_primary\": false}, \"8\": {\"node_type\": \"metabolite\", \"x\": 1200.0, \"y\": 112.5, \"label_x\": 1170.0, \"label_y\": 92.5, \"bigg_id\": \"D_6_P_GLUCONO_DELTA_LACTONE_c\", \"name\": \"D_6_P_GLUCONO_DELTA_LACTONE_c\", \"node_is_primary\": false}, \"9\": {\"node_type\": \"metabolite\", \"x\": 1200.0, \"y\": 225.0, \"label_x\": 1170.0, \"label_y\": 205.0, \"bigg_id\": \"NADPH_c\", \"name\": \"NADPH_c\", \"node_is_primary\": false}, \"10\": {\"node_type\": \"metabolite\", \"x\": 1200.0, \"y\": 337.5, \"label_x\": 1170.0, \"label_y\": 317.5, \"bigg_id\": \"PROTON_c\", \"name\": \"PROTON_c\", \"node_is_primary\": false}, \"11\": {\"node_type\": \"multimarker\", \"x\": 985.0, \"y\": 225.0}, \"12\": {\"node_type\": \"midmarker\", \"x\": 1005.0, \"y\": 225.0}, \"13\": {\"node_type\": \"multimarker\", \"x\": 1025.0, \"y\": 225.0}, \"14\": {\"node_type\": \"metabolite\", \"x\": 1330.0, \"y\": 150.0, \"label_x\": 1300.0, \"label_y\": 130.0, \"bigg_id\": \"CPD_15815_c\", \"name\": \"CPD_15815_c\", \"node_is_primary\": false}, \"15\": {\"node_type\": \"metabolite\", \"x\": 1850.0, \"y\": 150.0, \"label_x\": 1820.0, \"label_y\": 130.0, \"bigg_id\": \"CPD_2961_c\", \"name\": \"CPD_2961_c\", \"node_is_primary\": false}, \"16\": {\"node_type\": \"metabolite\", \"x\": 1850.0, \"y\": 300.0, \"label_x\": 1820.0, \"label_y\": 280.0, \"bigg_id\": \"PROTON_c\", \"name\": \"PROTON_c\", \"node_is_primary\": false}, \"17\": {\"node_type\": \"multimarker\", \"x\": 1635.0, \"y\": 225.0}, \"18\": {\"node_type\": \"midmarker\", \"x\": 1655.0, \"y\": 225.0}, \"19\": {\"node_type\": \"multimarker\", \"x\": 1675.0, \"y\": 225.0}, \"20\": {\"node_type\": \"metabolite\", \"x\": 1980.0, \"y\": 300.0, \"label_x\": 1950.0, \"label_y\": 280.0, \"bigg_id\": \"NADP_c\", \"name\": \"NADP_c\", \"node_is_primary\": false}, \"21\": {\"node_type\": \"metabolite\", \"x\": 2500.0, \"y\": 112.5, \"label_x\": 2470.0, \"label_y\": 92.5, \"bigg_id\": \"CARBON_DIOXIDE_c\", \"name\": \"CARBON_DIOXIDE_c\", \"node_is_primary\": false}, \"22\": {\"node_type\": \"metabolite\", \"x\": 2500.0, \"y\": 225.0, \"label_x\": 2470.0, \"label_y\": 205.0, \"bigg_id\": \"NADPH_c\", \"name\": \"NADPH_c\", \"node_is_primary\": false}, \"23\": {\"node_type\": \"metabolite\", \"x\": 2500.0, \"y\": 337.5, \"label_x\": 2470.0, \"label_y\": 317.5, \"bigg_id\": \"RIBULOSE_5P_c\", \"name\": \"RIBULOSE_5P_c\", \"node_is_primary\": false}, \"24\": {\"node_type\": \"multimarker\", \"x\": 2285.0, \"y\": 225.0}, \"25\": {\"node_type\": \"midmarker\", \"x\": 2305.0, \"y\": 225.0}, \"26\": {\"node_type\": \"multimarker\", \"x\": 2325.0, \"y\": 225.0}}, \"text_labels\": {}, \"canvas\": {\"x\": 0, \"y\": 0, \"width\": 2600, \"height\": 450}}]",
       "_loaded_model_json": null,
       "allow_building_duplicate_reactions": false,
       "and_method_in_gene_reaction_rule": "mean",
       "canvas_size_and_loc": null,
       "cofactors": [
        "atp",
        "adp",
        "nad",
        "nadh",
        "nadp",
        "nadph",
        "gtp",
        "gdp",
        "h",
        "coa",
        "ump",
        "h2o",
        "ppi"
       ],
       "disabled_buttons": [
        "Clear reaction data",
        "Clear gene data",
        "Clear metabolite data"
       ],
       "embedded_css": null,
       "enable_editing": true,
       "enable_keys": false,
       "enable_keys_with_tooltip": true,
       "enable_search": true,
       "enable_tooltips": false,
       "full_screen_button": {
        "enable_editing": true,
        "enable_keys": true,
        "enable_tooltips": [
         "label"
        ],
        "menu": "all",
        "scroll_behavior": "pan"
       },
       "gene_data": null,
       "gene_font_size": 18,
       "height": 500,
       "hide_all_labels": false,
       "hide_secondary_metabolites": false,
       "highlight_missing": false,
       "identifiers_on_map": "bigg_id",
       "layout": "IPY_MODEL_c7be2481d0c245de8925080a1849a7d9",
       "marker_radius": 5,
       "menu": "all",
       "metabolite_compare_style": "log2_fold",
       "metabolite_data": null,
       "metabolite_no_data_color": "#ffffff",
       "metabolite_no_data_size": 10,
       "metabolite_scale": [
        {
         "color": "#fffaf0",
         "size": 20,
         "type": "min"
        },
        {
         "color": "#f1c470",
         "size": 30,
         "type": "median"
        },
        {
         "color": "#800000",
         "size": 40,
         "type": "max"
        }
       ],
       "metabolite_scale_preset": "WhYlRd",
       "metabolite_styles": [
        "color",
        "size",
        "text"
       ],
       "never_ask_before_quit": true,
       "primary_metabolite_radius": 20,
       "reaction_compare_style": "log2_fold",
       "reaction_data": null,
       "reaction_no_data_color": "#dcdcdc",
       "reaction_no_data_size": 8,
       "reaction_scale": {},
       "reaction_scale_preset": null,
       "reaction_styles": [
        "color",
        "text"
       ],
       "scroll_behavior": "none",
       "secondary_metabolite_radius": 10,
       "semantic_zoom": null,
       "show_gene_reaction_rules": false,
       "starting_reaction": null,
       "use_3d_transform": false,
       "zoom_to_element": null
      }
     },
     "71a97f04a1e04d578e0dbbdea0f02459": {
      "model_module": "escher",
      "model_module_version": "1.7.4",
      "model_name": "EscherMapModel",
      "state": {
       "_loaded_map_json": "[{\"map_name\": \"\", \"map_id\": \"\", \"map_description\": \"\", \"homepage\": \"\", \"schema\": \"https://escher.github.io/escher/jsonschema/1-0-0#\"}, {\"reactions\": {\"0\": {\"name\": \"GLCpts\", \"bigg_id\": \"GLCpts\", \"reversibility\": true, \"label_x\": 265.0, \"label_y\": 325.0, \"gene_reaction_rule\": \"\", \"genes\": [], \"segments\": {\"0\": {\"from_node_id\": \"4\", \"to_node_id\": \"5\", \"b1\": null, \"b2\": null}, \"1\": {\"from_node_id\": \"6\", \"to_node_id\": \"5\", \"b1\": null, \"b2\": null}, \"2\": {\"from_node_id\": \"0\", \"to_node_id\": \"4\", \"b1\": null, \"b2\": null}, \"3\": {\"from_node_id\": \"1\", \"to_node_id\": \"4\", \"b1\": null, \"b2\": null}, \"4\": {\"from_node_id\": \"2\", \"to_node_id\": \"6\", \"b1\": null, \"b2\": null}, \"5\": {\"from_node_id\": \"3\", \"to_node_id\": \"6\", \"b1\": null, \"b2\": null}}, \"metabolites\": [{\"bigg_id\": \"Glucopyranose_e\", \"coefficient\": -1.0}, {\"bigg_id\": \"PHOSPHO_ENOL_PYRUVATE_c\", \"coefficient\": -1.0}, {\"bigg_id\": \"D_glucopyranose_6_phosphate_c\", \"coefficient\": 1.0}, {\"bigg_id\": \"PYRUVATE_c\", \"coefficient\": 1.0}]}, \"1\": {\"name\": \"G6PDH2r\", \"bigg_id\": \"G6PDH2r\", \"reversibility\": true, \"label_x\": 265.0, \"label_y\": 975.0, \"gene_reaction_rule\": \"\", \"genes\": [], \"segments\": {\"6\": {\"from_node_id\": \"11\", \"to_node_id\": \"12\", \"b1\": null, \"b2\": null}, \"7\": {\"from_node_id\": \"13\", \"to_node_id\": \"12\", \"b1\": null, \"b2\": null}, \"8\": {\"from_node_id\": \"2\", \"to_node_id\": \"11\", \"b1\": null, \"b2\": null}, \"9\": {\"from_node_id\": \"7\", \"to_node_id\": \"11\", \"b1\": null, \"b2\": null}, \"10\": {\"from_node_id\": \"8\", \"to_node_id\": \"13\", \"b1\": null, \"b2\": null}, \"11\": {\"from_node_id\": \"9\", \"to_node_id\": \"13\", \"b1\": null, \"b2\": null}, \"12\": {\"from_node_id\": \"10\", \"to_node_id\": \"13\", \"b1\": null, \"b2\": null}}, \"metabolites\": [{\"bigg_id\": \"D_glucopyranose_6_phosphate_c\", \"coefficient\": -1.0}, {\"bigg_id\": \"NADP_c\", \"coefficient\": -1.0}, {\"bigg_id\": \"D_6_P_GLUCONO_DELTA_LACTONE_c\", \"coefficient\": 1.0}, {\"bigg_id\": \"NADPH_c\", \"coefficient\": 1.0}, {\"bigg_id\": \"PROTON_c\", \"coefficient\": 1.0}]}, \"2\": {\"name\": \"PGL\", \"bigg_id\": \"PGL\", \"reversibility\": true, \"label_x\": 265.0, \"label_y\": 1625.0, \"gene_reaction_rule\": \"\", \"genes\": [], \"segments\": {\"13\": {\"from_node_id\": \"17\", \"to_node_id\": \"18\", \"b1\": null, \"b2\": null}, \"14\": {\"from_node_id\": \"19\", \"to_node_id\": \"18\", \"b1\": null, \"b2\": null}, \"15\": {\"from_node_id\": \"14\", \"to_node_id\": \"17\", \"b1\": null, \"b2\": null}, \"16\": {\"from_node_id\": \"8\", \"to_node_id\": \"17\", \"b1\": null, \"b2\": null}, \"17\": {\"from_node_id\": \"15\", \"to_node_id\": \"19\", \"b1\": null, \"b2\": null}, \"18\": {\"from_node_id\": \"16\", \"to_node_id\": \"19\", \"b1\": null, \"b2\": null}}, \"metabolites\": [{\"bigg_id\": \"CPD_15815_c\", \"coefficient\": -1.0}, {\"bigg_id\": \"D_6_P_GLUCONO_DELTA_LACTONE_c\", \"coefficient\": -1.0}, {\"bigg_id\": \"CPD_2961_c\", \"coefficient\": 1.0}, {\"bigg_id\": \"PROTON_c\", \"coefficient\": 1.0}]}, \"3\": {\"name\": \"GND\", \"bigg_id\": \"GND\", \"reversibility\": true, \"label_x\": 265.0, \"label_y\": 2275.0, \"gene_reaction_rule\": \"\", \"genes\": [], \"segments\": {\"19\": {\"from_node_id\": \"24\", \"to_node_id\": \"25\", \"b1\": null, \"b2\": null}, \"20\": {\"from_node_id\": \"26\", \"to_node_id\": \"25\", \"b1\": null, \"b2\": null}, \"21\": {\"from_node_id\": \"15\", \"to_node_id\": \"24\", \"b1\": null, \"b2\": null}, \"22\": {\"from_node_id\": \"20\", \"to_node_id\": \"24\", \"b1\": null, \"b2\": null}, \"23\": {\"from_node_id\": \"21\", \"to_node_id\": \"26\", \"b1\": null, \"b2\": null}, \"24\": {\"from_node_id\": \"22\", \"to_node_id\": \"26\", \"b1\": null, \"b2\": null}, \"25\": {\"from_node_id\": \"23\", \"to_node_id\": \"26\", \"b1\": null, \"b2\": null}}, \"metabolites\": [{\"bigg_id\": \"CPD_2961_c\", \"coefficient\": -1.0}, {\"bigg_id\": \"NADP_c\", \"coefficient\": -1.0}, {\"bigg_id\": \"CARBON_DIOXIDE_c\", \"coefficient\": 1.0}, {\"bigg_id\": \"NADPH_c\", \"coefficient\": 1.0}, {\"bigg_id\": \"RIBULOSE_5P_c\", \"coefficient\": 1.0}]}}, \"nodes\": {\"0\": {\"node_type\": \"metabolite\", \"x\": 150.0, \"y\": 30.0, \"label_x\": 160.0, \"label_y\": 20.0, \"bigg_id\": \"Glucopyranose_e\", \"name\": \"Glucopyranose_e\", \"node_is_primary\": false}, \"1\": {\"node_type\": \"metabolite\", \"x\": 300.0, \"y\": 30.0, \"label_x\": 310.0, \"label_y\": 20.0, \"bigg_id\": \"PHOSPHO_ENOL_PYRUVATE_c\", \"name\": \"PHOSPHO_ENOL_PYRUVATE_c\", \"node_is_primary\": false}, \"2\": {\"node_type\": \"metabolite\", \"x\": 150.0, \"y\": 550.0, \"label_x\": 160.0, \"label_y\": 580.0, \"bigg_id\": \"D_glucopyranose_6_phosphate_c\", \"name\": \"D_glucopyranose_6_phosphate_c\", \"node_is_primary\": false}, \"3\": {\"node_type\": \"metabolite\", \"x\": 300.0, \"y\": 550.0, \"label_x\": 310.0, \"label_y\": 580.0, \"bigg_id\": \"PYRUVATE_c\", \"name\": \"PYRUVATE_c\", \"node_is_primary\": false}, \"4\": {\"node_type\": \"multimarker\", \"x\": 225.0, \"y\": 305.0}, \"5\": {\"node_type\": \"midmarker\", \"x\": 225.0, \"y\": 325.0}, \"6\": {\"node_type\": \"multimarker\", \"x\": 225.0, \"y\": 345.0}, \"7\": {\"node_type\": \"metabolite\", \"x\": 300.0, \"y\": 680.0, \"label_x\": 310.0, \"label_y\": 670.0, \"bigg_id\": \"NADP_c\", \"name\": \"NADP_c\", \"node_is_primary\": false}, \"8\": {\"node_type\": \"metabolite\", \"x\": 112.5, \"y\": 1200.0, \"label_x\": 122.5, \"label_y\": 1230.0, \"bigg_id\": \"D_6_P_GLUCONO_DELTA_LACTONE_c\", \"name\": \"D_6_P_GLUCONO_DELTA_LACTONE_c\", \"node_is_primary\": false}, \"9\": {\"node_type\": \"metabolite\", \"x\": 225.0, \"y\": 1200.0, \"label_x\": 235.0, \"label_y\": 1230.0, \"bigg_id\": \"NADPH_c\", \"name\": \"NADPH_c\", \"node_is_primary\": false}, \"10\": {\"node_type\": \"metabolite\", \"x\": 337.5, \"y\": 1200.0, \"label_x\": 347.5, \"label_y\": 1230.0, \"bigg_id\": \"PROTON_c\", \"name\": \"PROTON_c\", \"node_is_primary\": false}, \"11\": {\"node_type\": \"multimarker\", \"x\": 225.0, \"y\": 955.0}, \"12\": {\"node_type\": \"midmarker\", \"x\": 225.0, \"y\": 975.0}, \"13\": {\"node_type\": \"multimarker\", \"x\": 225.0, \"y\": 995.0}, \"14\": {\"node_type\": \"metabolite\", \"x\": 150.0, \"y\": 1330.0, \"label_x\": 160.0, \"label_y\": 1320.0, \"bigg_id\": \"CPD_15815_c\", \"name\": \"CPD_15815_c\", \"node_is_primary\": false}, \"15\": {\"node_type\": \"metabolite\", \"x\": 150.0, \"y\": 1850.0, \"label_x\": 160.0, \"label_y\": 1880.0, \"bigg_id\": \"CPD_2961_c\", \"name\": \"CPD_2961_c\", \"node_is_primary\": false}, \"16\": {\"node_type\": \"metabolite\", \"x\": 300.0, \"y\": 1850.0, \"label_x\": 310.0, \"label_y\": 1880.0, \"bigg_id\": \"PROTON_c\", \"name\": \"PROTON_c\", \"node_is_primary\": false}, \"17\": {\"node_type\": \"multimarker\", \"x\": 225.0, \"y\": 1605.0}, \"18\": {\"node_type\": \"midmarker\", \"x\": 225.0, \"y\": 1625.0}, \"19\": {\"node_type\": \"multimarker\", \"x\": 225.0, \"y\": 1645.0}, \"20\": {\"node_type\": \"metabolite\", \"x\": 300.0, \"y\": 1980.0, \"label_x\": 310.0, \"label_y\": 1970.0, \"bigg_id\": \"NADP_c\", \"name\": \"NADP_c\", \"node_is_primary\": false}, \"21\": {\"node_type\": \"metabolite\", \"x\": 112.5, \"y\": 2500.0, \"label_x\": 122.5, \"label_y\": 2530.0, \"bigg_id\": \"CARBON_DIOXIDE_c\", \"name\": \"CARBON_DIOXIDE_c\", \"node_is_primary\": false}, \"22\": {\"node_type\": \"metabolite\", \"x\": 225.0, \"y\": 2500.0, \"label_x\": 235.0, \"label_y\": 2530.0, \"bigg_id\": \"NADPH_c\", \"name\": \"NADPH_c\", \"node_is_primary\": false}, \"23\": {\"node_type\": \"metabolite\", \"x\": 337.5, \"y\": 2500.0, \"label_x\": 347.5, \"label_y\": 2530.0, \"bigg_id\": \"RIBULOSE_5P_c\", \"name\": \"RIBULOSE_5P_c\", \"node_is_primary\": false}, \"24\": {\"node_type\": \"multimarker\", \"x\": 225.0, \"y\": 2255.0}, \"25\": {\"node_type\": \"midmarker\", \"x\": 225.0, \"y\": 2275.0}, \"26\": {\"node_type\": \"multimarker\", \"x\": 225.0, \"y\": 2295.0}}, \"text_labels\": {}, \"canvas\": {\"x\": 0, \"y\": 0, \"width\": 450, \"height\": 2600}}]",
       "_loaded_model_json": null,
       "allow_building_duplicate_reactions": false,
       "and_method_in_gene_reaction_rule": "mean",
       "canvas_size_and_loc": null,
       "cofactors": [
        "atp",
        "adp",
        "nad",
        "nadh",
        "nadp",
        "nadph",
        "gtp",
        "gdp",
        "h",
        "coa",
        "ump",
        "h2o",
        "ppi"
       ],
       "disabled_buttons": [
        "Clear gene data",
        "Clear metabolite data"
       ],
       "embedded_css": null,
       "enable_editing": true,
       "enable_keys": false,
       "enable_keys_with_tooltip": true,
       "enable_search": true,
       "enable_tooltips": false,
       "full_screen_button": {
        "enable_editing": true,
        "enable_keys": true,
        "enable_tooltips": [
         "label"
        ],
        "menu": "all",
        "scroll_behavior": "pan"
       },
       "gene_data": null,
       "gene_font_size": 18,
       "height": 500,
       "hide_all_labels": false,
       "hide_secondary_metabolites": false,
       "highlight_missing": false,
       "identifiers_on_map": "bigg_id",
       "layout": "IPY_MODEL_a0134b05fa3f46fb9613f4a9ec001959",
       "marker_radius": 5,
       "menu": "all",
       "metabolite_compare_style": "log2_fold",
       "metabolite_data": null,
       "metabolite_no_data_color": "#ffffff",
       "metabolite_no_data_size": 10,
       "metabolite_scale": [
        {
         "color": "#fffaf0",
         "size": 20,
         "type": "min"
        },
        {
         "color": "#f1c470",
         "size": 30,
         "type": "median"
        },
        {
         "color": "#800000",
         "size": 40,
         "type": "max"
        }
       ],
       "metabolite_scale_preset": "WhYlRd",
       "metabolite_styles": [
        "color",
        "size",
        "text"
       ],
       "never_ask_before_quit": true,
       "primary_metabolite_radius": 20,
       "reaction_compare_style": "log2_fold",
       "reaction_data": {
        "G6PDH2r": -2,
        "GLCpts": -2,
        "GND": 1,
        "PGL": 0.4
       },
       "reaction_no_data_color": "#dcdcdc",
       "reaction_no_data_size": 8,
       "reaction_scale": [
        {
         "color": "rgb(220,220,220)",
         "type": "value",
         "value": 0.5
        },
        {
         "color": "rgb(220,220,220)",
         "type": "value",
         "value": 1
        },
        {
         "color": "rgb(220,220,220)",
         "type": "value",
         "value": 0
        },
        {
         "color": "rgb(220,220,220)",
         "type": "value",
         "value": -1
        },
        {
         "color": "rgb(220,220,220)",
         "type": "value",
         "value": -2
        }
       ],
       "reaction_scale_preset": null,
       "reaction_styles": [
        "color",
        "text"
       ],
       "scroll_behavior": "none",
       "secondary_metabolite_radius": 10,
       "semantic_zoom": null,
       "show_gene_reaction_rules": false,
       "starting_reaction": null,
       "use_3d_transform": false,
       "zoom_to_element": null
      }
     },
     "71f39a06e4ae412cade959e110df3dca": {
      "model_module": "@jupyter-widgets/base",
      "model_module_version": "1.2.0",
      "model_name": "LayoutModel",
      "state": {}
     },
     "776b0bdab4e64dc7b6c4300ac0ec0230": {
      "model_module": "escher",
      "model_module_version": "1.7.4",
      "model_name": "EscherMapModel",
      "state": {
       "_loaded_map_json": "[{\"map_name\": \"\", \"map_id\": \"\", \"map_description\": \"\", \"homepage\": \"\", \"schema\": \"https://escher.github.io/escher/jsonschema/1-0-0#\"}, {\"reactions\": {\"0\": {\"name\": \"PGL\", \"bigg_id\": \"PGL\", \"reversibility\": true, \"label_x\": 265.0, \"label_y\": 325.0, \"gene_reaction_rule\": \"\", \"genes\": [], \"segments\": {\"0\": {\"from_node_id\": \"4\", \"to_node_id\": \"5\", \"b1\": null, \"b2\": null}, \"1\": {\"from_node_id\": \"6\", \"to_node_id\": \"5\", \"b1\": null, \"b2\": null}, \"2\": {\"from_node_id\": \"0\", \"to_node_id\": \"4\", \"b1\": null, \"b2\": null}, \"3\": {\"from_node_id\": \"1\", \"to_node_id\": \"4\", \"b1\": null, \"b2\": null}, \"4\": {\"from_node_id\": \"2\", \"to_node_id\": \"6\", \"b1\": null, \"b2\": null}, \"5\": {\"from_node_id\": \"3\", \"to_node_id\": \"6\", \"b1\": null, \"b2\": null}}, \"metabolites\": [{\"bigg_id\": \"CPD_15815_c\", \"coefficient\": -1.0}, {\"bigg_id\": \"D_6_P_GLUCONO_DELTA_LACTONE_c\", \"coefficient\": -1.0}, {\"bigg_id\": \"CPD_2961_c\", \"coefficient\": 1.0}, {\"bigg_id\": \"PROTON_c\", \"coefficient\": 1.0}]}, \"1\": {\"name\": \"GLCpts\", \"bigg_id\": \"GLCpts\", \"reversibility\": true, \"label_x\": 265.0, \"label_y\": 975.0, \"gene_reaction_rule\": \"\", \"genes\": [], \"segments\": {\"6\": {\"from_node_id\": \"11\", \"to_node_id\": \"12\", \"b1\": null, \"b2\": null}, \"7\": {\"from_node_id\": \"13\", \"to_node_id\": \"12\", \"b1\": null, \"b2\": null}, \"8\": {\"from_node_id\": \"7\", \"to_node_id\": \"11\", \"b1\": null, \"b2\": null}, \"9\": {\"from_node_id\": \"8\", \"to_node_id\": \"11\", \"b1\": null, \"b2\": null}, \"10\": {\"from_node_id\": \"9\", \"to_node_id\": \"13\", \"b1\": null, \"b2\": null}, \"11\": {\"from_node_id\": \"10\", \"to_node_id\": \"13\", \"b1\": null, \"b2\": null}}, \"metabolites\": [{\"bigg_id\": \"Glucopyranose_e\", \"coefficient\": -1.0}, {\"bigg_id\": \"PHOSPHO_ENOL_PYRUVATE_c\", \"coefficient\": -1.0}, {\"bigg_id\": \"D_glucopyranose_6_phosphate_c\", \"coefficient\": 1.0}, {\"bigg_id\": \"PYRUVATE_c\", \"coefficient\": 1.0}]}, \"2\": {\"name\": \"GND\", \"bigg_id\": \"GND\", \"reversibility\": true, \"label_x\": 265.0, \"label_y\": 1625.0, \"gene_reaction_rule\": \"\", \"genes\": [], \"segments\": {\"12\": {\"from_node_id\": \"19\", \"to_node_id\": \"20\", \"b1\": null, \"b2\": null}, \"13\": {\"from_node_id\": \"21\", \"to_node_id\": \"20\", \"b1\": null, \"b2\": null}, \"14\": {\"from_node_id\": \"14\", \"to_node_id\": \"19\", \"b1\": null, \"b2\": null}, \"15\": {\"from_node_id\": \"15\", \"to_node_id\": \"19\", \"b1\": null, \"b2\": null}, \"16\": {\"from_node_id\": \"16\", \"to_node_id\": \"21\", \"b1\": null, \"b2\": null}, \"17\": {\"from_node_id\": \"17\", \"to_node_id\": \"21\", \"b1\": null, \"b2\": null}, \"18\": {\"from_node_id\": \"18\", \"to_node_id\": \"21\", \"b1\": null, \"b2\": null}}, \"metabolites\": [{\"bigg_id\": \"CPD_2961_c\", \"coefficient\": -1.0}, {\"bigg_id\": \"NADP_c\", \"coefficient\": -1.0}, {\"bigg_id\": \"CARBON_DIOXIDE_c\", \"coefficient\": 1.0}, {\"bigg_id\": \"NADPH_c\", \"coefficient\": 1.0}, {\"bigg_id\": \"RIBULOSE_5P_c\", \"coefficient\": 1.0}]}, \"3\": {\"name\": \"G6PDH2r\", \"bigg_id\": \"G6PDH2r\", \"reversibility\": true, \"label_x\": 265.0, \"label_y\": 2275.0, \"gene_reaction_rule\": \"\", \"genes\": [], \"segments\": {\"19\": {\"from_node_id\": \"27\", \"to_node_id\": \"28\", \"b1\": null, \"b2\": null}, \"20\": {\"from_node_id\": \"29\", \"to_node_id\": \"28\", \"b1\": null, \"b2\": null}, \"21\": {\"from_node_id\": \"22\", \"to_node_id\": \"27\", \"b1\": null, \"b2\": null}, \"22\": {\"from_node_id\": \"23\", \"to_node_id\": \"27\", \"b1\": null, \"b2\": null}, \"23\": {\"from_node_id\": \"24\", \"to_node_id\": \"29\", \"b1\": null, \"b2\": null}, \"24\": {\"from_node_id\": \"25\", \"to_node_id\": \"29\", \"b1\": null, \"b2\": null}, \"25\": {\"from_node_id\": \"26\", \"to_node_id\": \"29\", \"b1\": null, \"b2\": null}}, \"metabolites\": [{\"bigg_id\": \"D_glucopyranose_6_phosphate_c\", \"coefficient\": -1.0}, {\"bigg_id\": \"NADP_c\", \"coefficient\": -1.0}, {\"bigg_id\": \"D_6_P_GLUCONO_DELTA_LACTONE_c\", \"coefficient\": 1.0}, {\"bigg_id\": \"NADPH_c\", \"coefficient\": 1.0}, {\"bigg_id\": \"PROTON_c\", \"coefficient\": 1.0}]}}, \"nodes\": {\"0\": {\"node_type\": \"metabolite\", \"x\": 150.0, \"y\": 30.0, \"label_x\": 160.0, \"label_y\": 20.0, \"bigg_id\": \"CPD_15815_c\", \"name\": \"CPD_15815_c\", \"node_is_primary\": false}, \"1\": {\"node_type\": \"metabolite\", \"x\": 300.0, \"y\": 30.0, \"label_x\": 310.0, \"label_y\": 20.0, \"bigg_id\": \"D_6_P_GLUCONO_DELTA_LACTONE_c\", \"name\": \"D_6_P_GLUCONO_DELTA_LACTONE_c\", \"node_is_primary\": false}, \"2\": {\"node_type\": \"metabolite\", \"x\": 150.0, \"y\": 550.0, \"label_x\": 160.0, \"label_y\": 580.0, \"bigg_id\": \"CPD_2961_c\", \"name\": \"CPD_2961_c\", \"node_is_primary\": false}, \"3\": {\"node_type\": \"metabolite\", \"x\": 300.0, \"y\": 550.0, \"label_x\": 310.0, \"label_y\": 580.0, \"bigg_id\": \"PROTON_c\", \"name\": \"PROTON_c\", \"node_is_primary\": false}, \"4\": {\"node_type\": \"multimarker\", \"x\": 225.0, \"y\": 305.0}, \"5\": {\"node_type\": \"midmarker\", \"x\": 225.0, \"y\": 325.0}, \"6\": {\"node_type\": \"multimarker\", \"x\": 225.0, \"y\": 345.0}, \"7\": {\"node_type\": \"metabolite\", \"x\": 150.0, \"y\": 680.0, \"label_x\": 160.0, \"label_y\": 670.0, \"bigg_id\": \"Glucopyranose_e\", \"name\": \"Glucopyranose_e\", \"node_is_primary\": false}, \"8\": {\"node_type\": \"metabolite\", \"x\": 300.0, \"y\": 680.0, \"label_x\": 310.0, \"label_y\": 670.0, \"bigg_id\": \"PHOSPHO_ENOL_PYRUVATE_c\", \"name\": \"PHOSPHO_ENOL_PYRUVATE_c\", \"node_is_primary\": false}, \"9\": {\"node_type\": \"metabolite\", \"x\": 150.0, \"y\": 1200.0, \"label_x\": 160.0, \"label_y\": 1230.0, \"bigg_id\": \"D_glucopyranose_6_phosphate_c\", \"name\": \"D_glucopyranose_6_phosphate_c\", \"node_is_primary\": false}, \"10\": {\"node_type\": \"metabolite\", \"x\": 300.0, \"y\": 1200.0, \"label_x\": 310.0, \"label_y\": 1230.0, \"bigg_id\": \"PYRUVATE_c\", \"name\": \"PYRUVATE_c\", \"node_is_primary\": false}, \"11\": {\"node_type\": \"multimarker\", \"x\": 225.0, \"y\": 955.0}, \"12\": {\"node_type\": \"midmarker\", \"x\": 225.0, \"y\": 975.0}, \"13\": {\"node_type\": \"multimarker\", \"x\": 225.0, \"y\": 995.0}, \"14\": {\"node_type\": \"metabolite\", \"x\": 150.0, \"y\": 1330.0, \"label_x\": 160.0, \"label_y\": 1320.0, \"bigg_id\": \"CPD_2961_c\", \"name\": \"CPD_2961_c\", \"node_is_primary\": false}, \"15\": {\"node_type\": \"metabolite\", \"x\": 300.0, \"y\": 1330.0, \"label_x\": 310.0, \"label_y\": 1320.0, \"bigg_id\": \"NADP_c\", \"name\": \"NADP_c\", \"node_is_primary\": false}, \"16\": {\"node_type\": \"metabolite\", \"x\": 112.5, \"y\": 1850.0, \"label_x\": 122.5, \"label_y\": 1880.0, \"bigg_id\": \"CARBON_DIOXIDE_c\", \"name\": \"CARBON_DIOXIDE_c\", \"node_is_primary\": false}, \"17\": {\"node_type\": \"metabolite\", \"x\": 225.0, \"y\": 1850.0, \"label_x\": 235.0, \"label_y\": 1880.0, \"bigg_id\": \"NADPH_c\", \"name\": \"NADPH_c\", \"node_is_primary\": false}, \"18\": {\"node_type\": \"metabolite\", \"x\": 337.5, \"y\": 1850.0, \"label_x\": 347.5, \"label_y\": 1880.0, \"bigg_id\": \"RIBULOSE_5P_c\", \"name\": \"RIBULOSE_5P_c\", \"node_is_primary\": false}, \"19\": {\"node_type\": \"multimarker\", \"x\": 225.0, \"y\": 1605.0}, \"20\": {\"node_type\": \"midmarker\", \"x\": 225.0, \"y\": 1625.0}, \"21\": {\"node_type\": \"multimarker\", \"x\": 225.0, \"y\": 1645.0}, \"22\": {\"node_type\": \"metabolite\", \"x\": 150.0, \"y\": 1980.0, \"label_x\": 160.0, \"label_y\": 1970.0, \"bigg_id\": \"D_glucopyranose_6_phosphate_c\", \"name\": \"D_glucopyranose_6_phosphate_c\", \"node_is_primary\": false}, \"23\": {\"node_type\": \"metabolite\", \"x\": 300.0, \"y\": 1980.0, \"label_x\": 310.0, \"label_y\": 1970.0, \"bigg_id\": \"NADP_c\", \"name\": \"NADP_c\", \"node_is_primary\": false}, \"24\": {\"node_type\": \"metabolite\", \"x\": 112.5, \"y\": 2500.0, \"label_x\": 122.5, \"label_y\": 2530.0, \"bigg_id\": \"D_6_P_GLUCONO_DELTA_LACTONE_c\", \"name\": \"D_6_P_GLUCONO_DELTA_LACTONE_c\", \"node_is_primary\": false}, \"25\": {\"node_type\": \"metabolite\", \"x\": 225.0, \"y\": 2500.0, \"label_x\": 235.0, \"label_y\": 2530.0, \"bigg_id\": \"NADPH_c\", \"name\": \"NADPH_c\", \"node_is_primary\": false}, \"26\": {\"node_type\": \"metabolite\", \"x\": 337.5, \"y\": 2500.0, \"label_x\": 347.5, \"label_y\": 2530.0, \"bigg_id\": \"PROTON_c\", \"name\": \"PROTON_c\", \"node_is_primary\": false}, \"27\": {\"node_type\": \"multimarker\", \"x\": 225.0, \"y\": 2255.0}, \"28\": {\"node_type\": \"midmarker\", \"x\": 225.0, \"y\": 2275.0}, \"29\": {\"node_type\": \"multimarker\", \"x\": 225.0, \"y\": 2295.0}}, \"text_labels\": {}, \"canvas\": {\"x\": 0, \"y\": 0, \"width\": 450, \"height\": 2600}}]",
       "_loaded_model_json": null,
       "allow_building_duplicate_reactions": false,
       "and_method_in_gene_reaction_rule": "mean",
       "canvas_size_and_loc": null,
       "cofactors": [
        "atp",
        "adp",
        "nad",
        "nadh",
        "nadp",
        "nadph",
        "gtp",
        "gdp",
        "h",
        "coa",
        "ump",
        "h2o",
        "ppi"
       ],
       "disabled_buttons": [
        "Clear gene data",
        "Clear metabolite data"
       ],
       "embedded_css": null,
       "enable_editing": true,
       "enable_keys": false,
       "enable_keys_with_tooltip": true,
       "enable_search": true,
       "enable_tooltips": false,
       "full_screen_button": {
        "enable_editing": true,
        "enable_keys": true,
        "enable_tooltips": [
         "label"
        ],
        "menu": "all",
        "scroll_behavior": "pan"
       },
       "gene_data": null,
       "gene_font_size": 18,
       "height": 500,
       "hide_all_labels": false,
       "hide_secondary_metabolites": false,
       "highlight_missing": false,
       "identifiers_on_map": "bigg_id",
       "layout": "IPY_MODEL_8430e5e8dfc64b5ca7ddd3b50827ac2e",
       "marker_radius": 5,
       "menu": "all",
       "metabolite_compare_style": "log2_fold",
       "metabolite_data": null,
       "metabolite_no_data_color": "#ffffff",
       "metabolite_no_data_size": 10,
       "metabolite_scale": [
        {
         "color": "#fffaf0",
         "size": 20,
         "type": "min"
        },
        {
         "color": "#f1c470",
         "size": 30,
         "type": "median"
        },
        {
         "color": "#800000",
         "size": 40,
         "type": "max"
        }
       ],
       "metabolite_scale_preset": "WhYlRd",
       "metabolite_styles": [
        "color",
        "size",
        "text"
       ],
       "never_ask_before_quit": true,
       "primary_metabolite_radius": 20,
       "reaction_compare_style": "log2_fold",
       "reaction_data": {
        "G6PDH2r": -2,
        "GLCpts": -2,
        "GND": 1,
        "PGL": 0.4
       },
       "reaction_no_data_color": "#dcdcdc",
       "reaction_no_data_size": 8,
       "reaction_scale": [
        {
         "color": "rgb(220,220,220)",
         "type": "value",
         "value": 0.5
        },
        {
         "color": "rgb(220,220,220)",
         "type": "value",
         "value": 1
        },
        {
         "color": "rgb(220,220,220)",
         "type": "value",
         "value": 0
        },
        {
         "color": "rgb(220,220,220)",
         "type": "value",
         "value": -1
        },
        {
         "color": "rgb(220,220,220)",
         "type": "value",
         "value": -2
        }
       ],
       "reaction_scale_preset": null,
       "reaction_styles": [
        "color",
        "text"
       ],
       "scroll_behavior": "none",
       "secondary_metabolite_radius": 10,
       "semantic_zoom": null,
       "show_gene_reaction_rules": false,
       "starting_reaction": null,
       "use_3d_transform": false,
       "zoom_to_element": null
      }
     },
     "7966b558a52145f98d57ee7e4acd7a61": {
      "model_module": "@jupyter-widgets/base",
      "model_module_version": "1.2.0",
      "model_name": "LayoutModel",
      "state": {}
     },
     "7ac72851c4344e2186f7ba83fa3fb614": {
      "model_module": "escher",
      "model_module_version": "1.7.4",
      "model_name": "EscherMapModel",
      "state": {
       "_loaded_map_json": "[{\"map_name\": \"\", \"map_id\": \"\", \"map_description\": \"\", \"homepage\": \"\", \"schema\": \"https://escher.github.io/escher/jsonschema/1-0-0#\"}, {\"reactions\": {\"0\": {\"name\": \"PGL\", \"bigg_id\": \"PGL\", \"reversibility\": true, \"label_x\": 265.0, \"label_y\": 325.0, \"gene_reaction_rule\": \"\", \"genes\": [], \"segments\": {\"0\": {\"from_node_id\": \"4\", \"to_node_id\": \"5\", \"b1\": null, \"b2\": null}, \"1\": {\"from_node_id\": \"6\", \"to_node_id\": \"5\", \"b1\": null, \"b2\": null}, \"2\": {\"from_node_id\": \"0\", \"to_node_id\": \"4\", \"b1\": null, \"b2\": null}, \"3\": {\"from_node_id\": \"1\", \"to_node_id\": \"4\", \"b1\": null, \"b2\": null}, \"4\": {\"from_node_id\": \"2\", \"to_node_id\": \"6\", \"b1\": null, \"b2\": null}, \"5\": {\"from_node_id\": \"3\", \"to_node_id\": \"6\", \"b1\": null, \"b2\": null}}, \"metabolites\": [{\"bigg_id\": \"CPD_15815_c\", \"coefficient\": -1.0}, {\"bigg_id\": \"D_6_P_GLUCONO_DELTA_LACTONE_c\", \"coefficient\": -1.0}, {\"bigg_id\": \"CPD_2961_c\", \"coefficient\": 1.0}, {\"bigg_id\": \"PROTON_c\", \"coefficient\": 1.0}]}, \"1\": {\"name\": \"GLCpts\", \"bigg_id\": \"GLCpts\", \"reversibility\": true, \"label_x\": 265.0, \"label_y\": 975.0, \"gene_reaction_rule\": \"\", \"genes\": [], \"segments\": {\"6\": {\"from_node_id\": \"11\", \"to_node_id\": \"12\", \"b1\": null, \"b2\": null}, \"7\": {\"from_node_id\": \"13\", \"to_node_id\": \"12\", \"b1\": null, \"b2\": null}, \"8\": {\"from_node_id\": \"7\", \"to_node_id\": \"11\", \"b1\": null, \"b2\": null}, \"9\": {\"from_node_id\": \"8\", \"to_node_id\": \"11\", \"b1\": null, \"b2\": null}, \"10\": {\"from_node_id\": \"9\", \"to_node_id\": \"13\", \"b1\": null, \"b2\": null}, \"11\": {\"from_node_id\": \"10\", \"to_node_id\": \"13\", \"b1\": null, \"b2\": null}}, \"metabolites\": [{\"bigg_id\": \"Glucopyranose_e\", \"coefficient\": -1.0}, {\"bigg_id\": \"PHOSPHO_ENOL_PYRUVATE_c\", \"coefficient\": -1.0}, {\"bigg_id\": \"D_glucopyranose_6_phosphate_c\", \"coefficient\": 1.0}, {\"bigg_id\": \"PYRUVATE_c\", \"coefficient\": 1.0}]}, \"2\": {\"name\": \"GND\", \"bigg_id\": \"GND\", \"reversibility\": true, \"label_x\": 265.0, \"label_y\": 1625.0, \"gene_reaction_rule\": \"\", \"genes\": [], \"segments\": {\"12\": {\"from_node_id\": \"19\", \"to_node_id\": \"20\", \"b1\": null, \"b2\": null}, \"13\": {\"from_node_id\": \"21\", \"to_node_id\": \"20\", \"b1\": null, \"b2\": null}, \"14\": {\"from_node_id\": \"14\", \"to_node_id\": \"19\", \"b1\": null, \"b2\": null}, \"15\": {\"from_node_id\": \"15\", \"to_node_id\": \"19\", \"b1\": null, \"b2\": null}, \"16\": {\"from_node_id\": \"16\", \"to_node_id\": \"21\", \"b1\": null, \"b2\": null}, \"17\": {\"from_node_id\": \"17\", \"to_node_id\": \"21\", \"b1\": null, \"b2\": null}, \"18\": {\"from_node_id\": \"18\", \"to_node_id\": \"21\", \"b1\": null, \"b2\": null}}, \"metabolites\": [{\"bigg_id\": \"CPD_2961_c\", \"coefficient\": -1.0}, {\"bigg_id\": \"NADP_c\", \"coefficient\": -1.0}, {\"bigg_id\": \"CARBON_DIOXIDE_c\", \"coefficient\": 1.0}, {\"bigg_id\": \"NADPH_c\", \"coefficient\": 1.0}, {\"bigg_id\": \"RIBULOSE_5P_c\", \"coefficient\": 1.0}]}, \"3\": {\"name\": \"G6PDH2r\", \"bigg_id\": \"G6PDH2r\", \"reversibility\": true, \"label_x\": 265.0, \"label_y\": 2275.0, \"gene_reaction_rule\": \"\", \"genes\": [], \"segments\": {\"19\": {\"from_node_id\": \"27\", \"to_node_id\": \"28\", \"b1\": null, \"b2\": null}, \"20\": {\"from_node_id\": \"29\", \"to_node_id\": \"28\", \"b1\": null, \"b2\": null}, \"21\": {\"from_node_id\": \"22\", \"to_node_id\": \"27\", \"b1\": null, \"b2\": null}, \"22\": {\"from_node_id\": \"23\", \"to_node_id\": \"27\", \"b1\": null, \"b2\": null}, \"23\": {\"from_node_id\": \"24\", \"to_node_id\": \"29\", \"b1\": null, \"b2\": null}, \"24\": {\"from_node_id\": \"25\", \"to_node_id\": \"29\", \"b1\": null, \"b2\": null}, \"25\": {\"from_node_id\": \"26\", \"to_node_id\": \"29\", \"b1\": null, \"b2\": null}}, \"metabolites\": [{\"bigg_id\": \"D_glucopyranose_6_phosphate_c\", \"coefficient\": -1.0}, {\"bigg_id\": \"NADP_c\", \"coefficient\": -1.0}, {\"bigg_id\": \"D_6_P_GLUCONO_DELTA_LACTONE_c\", \"coefficient\": 1.0}, {\"bigg_id\": \"NADPH_c\", \"coefficient\": 1.0}, {\"bigg_id\": \"PROTON_c\", \"coefficient\": 1.0}]}}, \"nodes\": {\"0\": {\"node_type\": \"metabolite\", \"x\": 150.0, \"y\": 30.0, \"label_x\": 160.0, \"label_y\": 20.0, \"bigg_id\": \"CPD_15815_c\", \"name\": \"CPD_15815_c\", \"node_is_primary\": false}, \"1\": {\"node_type\": \"metabolite\", \"x\": 300.0, \"y\": 30.0, \"label_x\": 310.0, \"label_y\": 20.0, \"bigg_id\": \"D_6_P_GLUCONO_DELTA_LACTONE_c\", \"name\": \"D_6_P_GLUCONO_DELTA_LACTONE_c\", \"node_is_primary\": false}, \"2\": {\"node_type\": \"metabolite\", \"x\": 150.0, \"y\": 550.0, \"label_x\": 160.0, \"label_y\": 580.0, \"bigg_id\": \"CPD_2961_c\", \"name\": \"CPD_2961_c\", \"node_is_primary\": false}, \"3\": {\"node_type\": \"metabolite\", \"x\": 300.0, \"y\": 550.0, \"label_x\": 310.0, \"label_y\": 580.0, \"bigg_id\": \"PROTON_c\", \"name\": \"PROTON_c\", \"node_is_primary\": false}, \"4\": {\"node_type\": \"multimarker\", \"x\": 225.0, \"y\": 305.0}, \"5\": {\"node_type\": \"midmarker\", \"x\": 225.0, \"y\": 325.0}, \"6\": {\"node_type\": \"multimarker\", \"x\": 225.0, \"y\": 345.0}, \"7\": {\"node_type\": \"metabolite\", \"x\": 150.0, \"y\": 680.0, \"label_x\": 160.0, \"label_y\": 670.0, \"bigg_id\": \"Glucopyranose_e\", \"name\": \"Glucopyranose_e\", \"node_is_primary\": false}, \"8\": {\"node_type\": \"metabolite\", \"x\": 300.0, \"y\": 680.0, \"label_x\": 310.0, \"label_y\": 670.0, \"bigg_id\": \"PHOSPHO_ENOL_PYRUVATE_c\", \"name\": \"PHOSPHO_ENOL_PYRUVATE_c\", \"node_is_primary\": false}, \"9\": {\"node_type\": \"metabolite\", \"x\": 150.0, \"y\": 1200.0, \"label_x\": 160.0, \"label_y\": 1230.0, \"bigg_id\": \"D_glucopyranose_6_phosphate_c\", \"name\": \"D_glucopyranose_6_phosphate_c\", \"node_is_primary\": false}, \"10\": {\"node_type\": \"metabolite\", \"x\": 300.0, \"y\": 1200.0, \"label_x\": 310.0, \"label_y\": 1230.0, \"bigg_id\": \"PYRUVATE_c\", \"name\": \"PYRUVATE_c\", \"node_is_primary\": false}, \"11\": {\"node_type\": \"multimarker\", \"x\": 225.0, \"y\": 955.0}, \"12\": {\"node_type\": \"midmarker\", \"x\": 225.0, \"y\": 975.0}, \"13\": {\"node_type\": \"multimarker\", \"x\": 225.0, \"y\": 995.0}, \"14\": {\"node_type\": \"metabolite\", \"x\": 150.0, \"y\": 1330.0, \"label_x\": 160.0, \"label_y\": 1320.0, \"bigg_id\": \"CPD_2961_c\", \"name\": \"CPD_2961_c\", \"node_is_primary\": false}, \"15\": {\"node_type\": \"metabolite\", \"x\": 300.0, \"y\": 1330.0, \"label_x\": 310.0, \"label_y\": 1320.0, \"bigg_id\": \"NADP_c\", \"name\": \"NADP_c\", \"node_is_primary\": false}, \"16\": {\"node_type\": \"metabolite\", \"x\": 112.5, \"y\": 1850.0, \"label_x\": 122.5, \"label_y\": 1880.0, \"bigg_id\": \"CARBON_DIOXIDE_c\", \"name\": \"CARBON_DIOXIDE_c\", \"node_is_primary\": false}, \"17\": {\"node_type\": \"metabolite\", \"x\": 225.0, \"y\": 1850.0, \"label_x\": 235.0, \"label_y\": 1880.0, \"bigg_id\": \"NADPH_c\", \"name\": \"NADPH_c\", \"node_is_primary\": false}, \"18\": {\"node_type\": \"metabolite\", \"x\": 337.5, \"y\": 1850.0, \"label_x\": 347.5, \"label_y\": 1880.0, \"bigg_id\": \"RIBULOSE_5P_c\", \"name\": \"RIBULOSE_5P_c\", \"node_is_primary\": false}, \"19\": {\"node_type\": \"multimarker\", \"x\": 225.0, \"y\": 1605.0}, \"20\": {\"node_type\": \"midmarker\", \"x\": 225.0, \"y\": 1625.0}, \"21\": {\"node_type\": \"multimarker\", \"x\": 225.0, \"y\": 1645.0}, \"22\": {\"node_type\": \"metabolite\", \"x\": 150.0, \"y\": 1980.0, \"label_x\": 160.0, \"label_y\": 1970.0, \"bigg_id\": \"D_glucopyranose_6_phosphate_c\", \"name\": \"D_glucopyranose_6_phosphate_c\", \"node_is_primary\": false}, \"23\": {\"node_type\": \"metabolite\", \"x\": 300.0, \"y\": 1980.0, \"label_x\": 310.0, \"label_y\": 1970.0, \"bigg_id\": \"NADP_c\", \"name\": \"NADP_c\", \"node_is_primary\": false}, \"24\": {\"node_type\": \"metabolite\", \"x\": 112.5, \"y\": 2500.0, \"label_x\": 122.5, \"label_y\": 2530.0, \"bigg_id\": \"D_6_P_GLUCONO_DELTA_LACTONE_c\", \"name\": \"D_6_P_GLUCONO_DELTA_LACTONE_c\", \"node_is_primary\": false}, \"25\": {\"node_type\": \"metabolite\", \"x\": 225.0, \"y\": 2500.0, \"label_x\": 235.0, \"label_y\": 2530.0, \"bigg_id\": \"NADPH_c\", \"name\": \"NADPH_c\", \"node_is_primary\": false}, \"26\": {\"node_type\": \"metabolite\", \"x\": 337.5, \"y\": 2500.0, \"label_x\": 347.5, \"label_y\": 2530.0, \"bigg_id\": \"PROTON_c\", \"name\": \"PROTON_c\", \"node_is_primary\": false}, \"27\": {\"node_type\": \"multimarker\", \"x\": 225.0, \"y\": 2255.0}, \"28\": {\"node_type\": \"midmarker\", \"x\": 225.0, \"y\": 2275.0}, \"29\": {\"node_type\": \"multimarker\", \"x\": 225.0, \"y\": 2295.0}}, \"text_labels\": {}, \"canvas\": {\"x\": 0, \"y\": 0, \"width\": 450, \"height\": 2600}}]",
       "_loaded_model_json": null,
       "allow_building_duplicate_reactions": false,
       "and_method_in_gene_reaction_rule": "mean",
       "canvas_size_and_loc": null,
       "cofactors": [
        "atp",
        "adp",
        "nad",
        "nadh",
        "nadp",
        "nadph",
        "gtp",
        "gdp",
        "h",
        "coa",
        "ump",
        "h2o",
        "ppi"
       ],
       "disabled_buttons": [
        "Clear gene data",
        "Clear metabolite data"
       ],
       "embedded_css": null,
       "enable_editing": true,
       "enable_keys": false,
       "enable_keys_with_tooltip": true,
       "enable_search": true,
       "enable_tooltips": false,
       "full_screen_button": {
        "enable_editing": true,
        "enable_keys": true,
        "enable_tooltips": [
         "label"
        ],
        "menu": "all",
        "scroll_behavior": "pan"
       },
       "gene_data": null,
       "gene_font_size": 18,
       "height": 500,
       "hide_all_labels": false,
       "hide_secondary_metabolites": false,
       "highlight_missing": false,
       "identifiers_on_map": "bigg_id",
       "layout": "IPY_MODEL_40163f4558ec47dd9162127f889a6172",
       "marker_radius": 5,
       "menu": "all",
       "metabolite_compare_style": "log2_fold",
       "metabolite_data": null,
       "metabolite_no_data_color": "#ffffff",
       "metabolite_no_data_size": 10,
       "metabolite_scale": [
        {
         "color": "#fffaf0",
         "size": 20,
         "type": "min"
        },
        {
         "color": "#f1c470",
         "size": 30,
         "type": "median"
        },
        {
         "color": "#800000",
         "size": 40,
         "type": "max"
        }
       ],
       "metabolite_scale_preset": "WhYlRd",
       "metabolite_styles": [
        "color",
        "size",
        "text"
       ],
       "never_ask_before_quit": true,
       "primary_metabolite_radius": 20,
       "reaction_compare_style": "log2_fold",
       "reaction_data": {
        "G6PDH2r": -2,
        "GLCpts": -2,
        "GND": 1,
        "Other": 1000,
        "PGL": 0.4
       },
       "reaction_no_data_color": "#dcdcdc",
       "reaction_no_data_size": 8,
       "reaction_scale": [
        {
         "color": "rgb(191,215,230)",
         "type": "value",
         "value": 0.4
        },
        {
         "color": "rgb(163,210,240)",
         "type": "value",
         "value": 1
        },
        {
         "color": "rgb(135,205,250)",
         "type": "value",
         "value": 1000
        },
        {
         "color": "rgb(220,220,220)",
         "type": "value",
         "value": 0
        },
        {
         "color": "rgb(237,192,110)",
         "type": "value",
         "value": -2
        },
        {
         "color": "rgb(255,165,0)",
         "type": "value",
         "value": -2
        }
       ],
       "reaction_scale_preset": null,
       "reaction_styles": [
        "color",
        "text"
       ],
       "scroll_behavior": "none",
       "secondary_metabolite_radius": 10,
       "semantic_zoom": null,
       "show_gene_reaction_rules": false,
       "starting_reaction": null,
       "use_3d_transform": false,
       "zoom_to_element": null
      }
     },
     "7c32e1829b6048d995412836e3d30890": {
      "model_module": "@jupyter-widgets/base",
      "model_module_version": "1.2.0",
      "model_name": "LayoutModel",
      "state": {}
     },
     "7e8e4203aa964a3181063554fb469ad3": {
      "model_module": "@jupyter-widgets/base",
      "model_module_version": "1.2.0",
      "model_name": "LayoutModel",
      "state": {}
     },
     "7f2831719eea4dda94c6e95dac66660d": {
      "model_module": "escher",
      "model_module_version": "1.7.4",
      "model_name": "EscherMapModel",
      "state": {
       "_loaded_map_json": "[{\"map_name\": \"\", \"map_id\": \"\", \"map_description\": \"\", \"homepage\": \"\", \"schema\": \"https://escher.github.io/escher/jsonschema/1-0-0#\"}, {\"reactions\": {\"0\": {\"name\": \"PGL\", \"bigg_id\": \"PGL\", \"reversibility\": true, \"label_x\": 265.0, \"label_y\": 325.0, \"gene_reaction_rule\": \"\", \"genes\": [], \"segments\": {\"0\": {\"from_node_id\": \"4\", \"to_node_id\": \"5\", \"b1\": null, \"b2\": null}, \"1\": {\"from_node_id\": \"6\", \"to_node_id\": \"5\", \"b1\": null, \"b2\": null}, \"2\": {\"from_node_id\": \"0\", \"to_node_id\": \"4\", \"b1\": null, \"b2\": null}, \"3\": {\"from_node_id\": \"1\", \"to_node_id\": \"4\", \"b1\": null, \"b2\": null}, \"4\": {\"from_node_id\": \"2\", \"to_node_id\": \"6\", \"b1\": null, \"b2\": null}, \"5\": {\"from_node_id\": \"3\", \"to_node_id\": \"6\", \"b1\": null, \"b2\": null}}, \"metabolites\": [{\"bigg_id\": \"CPD_15815_c\", \"coefficient\": -1.0}, {\"bigg_id\": \"D_6_P_GLUCONO_DELTA_LACTONE_c\", \"coefficient\": -1.0}, {\"bigg_id\": \"CPD_2961_c\", \"coefficient\": 1.0}, {\"bigg_id\": \"PROTON_c\", \"coefficient\": 1.0}]}, \"1\": {\"name\": \"GND\", \"bigg_id\": \"GND\", \"reversibility\": true, \"label_x\": 265.0, \"label_y\": 975.0, \"gene_reaction_rule\": \"\", \"genes\": [], \"segments\": {\"6\": {\"from_node_id\": \"11\", \"to_node_id\": \"12\", \"b1\": null, \"b2\": null}, \"7\": {\"from_node_id\": \"13\", \"to_node_id\": \"12\", \"b1\": null, \"b2\": null}, \"8\": {\"from_node_id\": \"2\", \"to_node_id\": \"11\", \"b1\": null, \"b2\": null}, \"9\": {\"from_node_id\": \"7\", \"to_node_id\": \"11\", \"b1\": null, \"b2\": null}, \"10\": {\"from_node_id\": \"8\", \"to_node_id\": \"13\", \"b1\": null, \"b2\": null}, \"11\": {\"from_node_id\": \"9\", \"to_node_id\": \"13\", \"b1\": null, \"b2\": null}, \"12\": {\"from_node_id\": \"10\", \"to_node_id\": \"13\", \"b1\": null, \"b2\": null}}, \"metabolites\": [{\"bigg_id\": \"CPD_2961_c\", \"coefficient\": -1.0}, {\"bigg_id\": \"NADP_c\", \"coefficient\": -1.0}, {\"bigg_id\": \"CARBON_DIOXIDE_c\", \"coefficient\": 1.0}, {\"bigg_id\": \"NADPH_c\", \"coefficient\": 1.0}, {\"bigg_id\": \"RIBULOSE_5P_c\", \"coefficient\": 1.0}]}, \"2\": {\"name\": \"GLCpts\", \"bigg_id\": \"GLCpts\", \"reversibility\": true, \"label_x\": 265.0, \"label_y\": 1625.0, \"gene_reaction_rule\": \"\", \"genes\": [], \"segments\": {\"13\": {\"from_node_id\": \"18\", \"to_node_id\": \"19\", \"b1\": null, \"b2\": null}, \"14\": {\"from_node_id\": \"20\", \"to_node_id\": \"19\", \"b1\": null, \"b2\": null}, \"15\": {\"from_node_id\": \"14\", \"to_node_id\": \"18\", \"b1\": null, \"b2\": null}, \"16\": {\"from_node_id\": \"15\", \"to_node_id\": \"18\", \"b1\": null, \"b2\": null}, \"17\": {\"from_node_id\": \"16\", \"to_node_id\": \"20\", \"b1\": null, \"b2\": null}, \"18\": {\"from_node_id\": \"17\", \"to_node_id\": \"20\", \"b1\": null, \"b2\": null}}, \"metabolites\": [{\"bigg_id\": \"Glucopyranose_e\", \"coefficient\": -1.0}, {\"bigg_id\": \"PHOSPHO_ENOL_PYRUVATE_c\", \"coefficient\": -1.0}, {\"bigg_id\": \"D_glucopyranose_6_phosphate_c\", \"coefficient\": 1.0}, {\"bigg_id\": \"PYRUVATE_c\", \"coefficient\": 1.0}]}, \"3\": {\"name\": \"G6PDH2r\", \"bigg_id\": \"G6PDH2r\", \"reversibility\": true, \"label_x\": 265.0, \"label_y\": 2275.0, \"gene_reaction_rule\": \"\", \"genes\": [], \"segments\": {\"19\": {\"from_node_id\": \"25\", \"to_node_id\": \"26\", \"b1\": null, \"b2\": null}, \"20\": {\"from_node_id\": \"27\", \"to_node_id\": \"26\", \"b1\": null, \"b2\": null}, \"21\": {\"from_node_id\": \"16\", \"to_node_id\": \"25\", \"b1\": null, \"b2\": null}, \"22\": {\"from_node_id\": \"21\", \"to_node_id\": \"25\", \"b1\": null, \"b2\": null}, \"23\": {\"from_node_id\": \"22\", \"to_node_id\": \"27\", \"b1\": null, \"b2\": null}, \"24\": {\"from_node_id\": \"23\", \"to_node_id\": \"27\", \"b1\": null, \"b2\": null}, \"25\": {\"from_node_id\": \"24\", \"to_node_id\": \"27\", \"b1\": null, \"b2\": null}}, \"metabolites\": [{\"bigg_id\": \"D_glucopyranose_6_phosphate_c\", \"coefficient\": -1.0}, {\"bigg_id\": \"NADP_c\", \"coefficient\": -1.0}, {\"bigg_id\": \"D_6_P_GLUCONO_DELTA_LACTONE_c\", \"coefficient\": 1.0}, {\"bigg_id\": \"NADPH_c\", \"coefficient\": 1.0}, {\"bigg_id\": \"PROTON_c\", \"coefficient\": 1.0}]}}, \"nodes\": {\"0\": {\"node_type\": \"metabolite\", \"x\": 150.0, \"y\": 30.0, \"label_x\": 160.0, \"label_y\": 20.0, \"bigg_id\": \"CPD_15815_c\", \"name\": \"CPD_15815_c\", \"node_is_primary\": false}, \"1\": {\"node_type\": \"metabolite\", \"x\": 300.0, \"y\": 30.0, \"label_x\": 310.0, \"label_y\": 20.0, \"bigg_id\": \"D_6_P_GLUCONO_DELTA_LACTONE_c\", \"name\": \"D_6_P_GLUCONO_DELTA_LACTONE_c\", \"node_is_primary\": false}, \"2\": {\"node_type\": \"metabolite\", \"x\": 150.0, \"y\": 550.0, \"label_x\": 160.0, \"label_y\": 580.0, \"bigg_id\": \"CPD_2961_c\", \"name\": \"CPD_2961_c\", \"node_is_primary\": false}, \"3\": {\"node_type\": \"metabolite\", \"x\": 300.0, \"y\": 550.0, \"label_x\": 310.0, \"label_y\": 580.0, \"bigg_id\": \"PROTON_c\", \"name\": \"PROTON_c\", \"node_is_primary\": false}, \"4\": {\"node_type\": \"multimarker\", \"x\": 225.0, \"y\": 305.0}, \"5\": {\"node_type\": \"midmarker\", \"x\": 225.0, \"y\": 325.0}, \"6\": {\"node_type\": \"multimarker\", \"x\": 225.0, \"y\": 345.0}, \"7\": {\"node_type\": \"metabolite\", \"x\": 300.0, \"y\": 680.0, \"label_x\": 310.0, \"label_y\": 670.0, \"bigg_id\": \"NADP_c\", \"name\": \"NADP_c\", \"node_is_primary\": false}, \"8\": {\"node_type\": \"metabolite\", \"x\": 112.5, \"y\": 1200.0, \"label_x\": 122.5, \"label_y\": 1230.0, \"bigg_id\": \"CARBON_DIOXIDE_c\", \"name\": \"CARBON_DIOXIDE_c\", \"node_is_primary\": false}, \"9\": {\"node_type\": \"metabolite\", \"x\": 225.0, \"y\": 1200.0, \"label_x\": 235.0, \"label_y\": 1230.0, \"bigg_id\": \"NADPH_c\", \"name\": \"NADPH_c\", \"node_is_primary\": false}, \"10\": {\"node_type\": \"metabolite\", \"x\": 337.5, \"y\": 1200.0, \"label_x\": 347.5, \"label_y\": 1230.0, \"bigg_id\": \"RIBULOSE_5P_c\", \"name\": \"RIBULOSE_5P_c\", \"node_is_primary\": false}, \"11\": {\"node_type\": \"multimarker\", \"x\": 225.0, \"y\": 955.0}, \"12\": {\"node_type\": \"midmarker\", \"x\": 225.0, \"y\": 975.0}, \"13\": {\"node_type\": \"multimarker\", \"x\": 225.0, \"y\": 995.0}, \"14\": {\"node_type\": \"metabolite\", \"x\": 150.0, \"y\": 1330.0, \"label_x\": 160.0, \"label_y\": 1320.0, \"bigg_id\": \"Glucopyranose_e\", \"name\": \"Glucopyranose_e\", \"node_is_primary\": false}, \"15\": {\"node_type\": \"metabolite\", \"x\": 300.0, \"y\": 1330.0, \"label_x\": 310.0, \"label_y\": 1320.0, \"bigg_id\": \"PHOSPHO_ENOL_PYRUVATE_c\", \"name\": \"PHOSPHO_ENOL_PYRUVATE_c\", \"node_is_primary\": false}, \"16\": {\"node_type\": \"metabolite\", \"x\": 150.0, \"y\": 1850.0, \"label_x\": 160.0, \"label_y\": 1880.0, \"bigg_id\": \"D_glucopyranose_6_phosphate_c\", \"name\": \"D_glucopyranose_6_phosphate_c\", \"node_is_primary\": false}, \"17\": {\"node_type\": \"metabolite\", \"x\": 300.0, \"y\": 1850.0, \"label_x\": 310.0, \"label_y\": 1880.0, \"bigg_id\": \"PYRUVATE_c\", \"name\": \"PYRUVATE_c\", \"node_is_primary\": false}, \"18\": {\"node_type\": \"multimarker\", \"x\": 225.0, \"y\": 1605.0}, \"19\": {\"node_type\": \"midmarker\", \"x\": 225.0, \"y\": 1625.0}, \"20\": {\"node_type\": \"multimarker\", \"x\": 225.0, \"y\": 1645.0}, \"21\": {\"node_type\": \"metabolite\", \"x\": 300.0, \"y\": 1980.0, \"label_x\": 310.0, \"label_y\": 1970.0, \"bigg_id\": \"NADP_c\", \"name\": \"NADP_c\", \"node_is_primary\": false}, \"22\": {\"node_type\": \"metabolite\", \"x\": 112.5, \"y\": 2500.0, \"label_x\": 122.5, \"label_y\": 2530.0, \"bigg_id\": \"D_6_P_GLUCONO_DELTA_LACTONE_c\", \"name\": \"D_6_P_GLUCONO_DELTA_LACTONE_c\", \"node_is_primary\": false}, \"23\": {\"node_type\": \"metabolite\", \"x\": 225.0, \"y\": 2500.0, \"label_x\": 235.0, \"label_y\": 2530.0, \"bigg_id\": \"NADPH_c\", \"name\": \"NADPH_c\", \"node_is_primary\": false}, \"24\": {\"node_type\": \"metabolite\", \"x\": 337.5, \"y\": 2500.0, \"label_x\": 347.5, \"label_y\": 2530.0, \"bigg_id\": \"PROTON_c\", \"name\": \"PROTON_c\", \"node_is_primary\": false}, \"25\": {\"node_type\": \"multimarker\", \"x\": 225.0, \"y\": 2255.0}, \"26\": {\"node_type\": \"midmarker\", \"x\": 225.0, \"y\": 2275.0}, \"27\": {\"node_type\": \"multimarker\", \"x\": 225.0, \"y\": 2295.0}}, \"text_labels\": {}, \"canvas\": {\"x\": 0, \"y\": 0, \"width\": 450, \"height\": 2600}}]",
       "_loaded_model_json": null,
       "allow_building_duplicate_reactions": false,
       "and_method_in_gene_reaction_rule": "mean",
       "canvas_size_and_loc": null,
       "cofactors": [
        "atp",
        "adp",
        "nad",
        "nadh",
        "nadp",
        "nadph",
        "gtp",
        "gdp",
        "h",
        "coa",
        "ump",
        "h2o",
        "ppi"
       ],
       "disabled_buttons": [
        "Clear gene data",
        "Clear metabolite data"
       ],
       "embedded_css": null,
       "enable_editing": true,
       "enable_keys": false,
       "enable_keys_with_tooltip": true,
       "enable_search": true,
       "enable_tooltips": false,
       "full_screen_button": {
        "enable_editing": true,
        "enable_keys": true,
        "enable_tooltips": [
         "label"
        ],
        "menu": "all",
        "scroll_behavior": "pan"
       },
       "gene_data": null,
       "gene_font_size": 18,
       "height": 500,
       "hide_all_labels": false,
       "hide_secondary_metabolites": false,
       "highlight_missing": false,
       "identifiers_on_map": "bigg_id",
       "layout": "IPY_MODEL_205b7349d9d84550860e6ea94d6dfd4d",
       "marker_radius": 5,
       "menu": "all",
       "metabolite_compare_style": "log2_fold",
       "metabolite_data": null,
       "metabolite_no_data_color": "#ffffff",
       "metabolite_no_data_size": 10,
       "metabolite_scale": [
        {
         "color": "#fffaf0",
         "size": 20,
         "type": "min"
        },
        {
         "color": "#f1c470",
         "size": 30,
         "type": "median"
        },
        {
         "color": "#800000",
         "size": 40,
         "type": "max"
        }
       ],
       "metabolite_scale_preset": "WhYlRd",
       "metabolite_styles": [
        "color",
        "size",
        "text"
       ],
       "never_ask_before_quit": true,
       "primary_metabolite_radius": 20,
       "reaction_compare_style": "log2_fold",
       "reaction_data": {
        "G6PDH2r": -2,
        "GLCpts": -2,
        "GND": 1,
        "Other": 1000,
        "PGL": 0.4
       },
       "reaction_no_data_color": "#dcdcdc",
       "reaction_no_data_size": 8,
       "reaction_scale": [
        {
         "color": "rgb(191,215,230)",
         "type": "value",
         "value": 333.3333333333333
        },
        {
         "color": "rgb(163,210,240)",
         "type": "value",
         "value": 666.6666666666667
        },
        {
         "color": "rgb(135,205,250)",
         "type": "value",
         "value": 1000
        },
        {
         "color": "rgb(220,220,220)",
         "type": "value",
         "value": 0
        },
        {
         "color": "rgb(237,192,110)",
         "type": "value",
         "value": -1
        },
        {
         "color": "rgb(255,165,0)",
         "type": "value",
         "value": -2
        }
       ],
       "reaction_scale_preset": null,
       "reaction_styles": [
        "color",
        "text"
       ],
       "scroll_behavior": "none",
       "secondary_metabolite_radius": 10,
       "semantic_zoom": null,
       "show_gene_reaction_rules": false,
       "starting_reaction": null,
       "use_3d_transform": false,
       "zoom_to_element": null
      }
     },
     "8092ec7b4d284ac59ee80241ff081f59": {
      "model_module": "escher",
      "model_module_version": "1.7.4",
      "model_name": "EscherMapModel",
      "state": {
       "_loaded_map_json": "[{\"map_name\": \"\", \"map_id\": \"\", \"map_description\": \"\", \"homepage\": \"\", \"schema\": \"https://escher.github.io/escher/jsonschema/1-0-0#\"}, {\"reactions\": {\"0\": {\"name\": \"PGL\", \"bigg_id\": \"PGL\", \"reversibility\": true, \"label_x\": 265.0, \"label_y\": 325.0, \"gene_reaction_rule\": \"\", \"genes\": [], \"segments\": {\"0\": {\"from_node_id\": \"4\", \"to_node_id\": \"5\", \"b1\": null, \"b2\": null}, \"1\": {\"from_node_id\": \"6\", \"to_node_id\": \"5\", \"b1\": null, \"b2\": null}, \"2\": {\"from_node_id\": \"0\", \"to_node_id\": \"4\", \"b1\": null, \"b2\": null}, \"3\": {\"from_node_id\": \"1\", \"to_node_id\": \"4\", \"b1\": null, \"b2\": null}, \"4\": {\"from_node_id\": \"2\", \"to_node_id\": \"6\", \"b1\": null, \"b2\": null}, \"5\": {\"from_node_id\": \"3\", \"to_node_id\": \"6\", \"b1\": null, \"b2\": null}}, \"metabolites\": [{\"bigg_id\": \"CPD_15815_c\", \"coefficient\": -1.0}, {\"bigg_id\": \"D_6_P_GLUCONO_DELTA_LACTONE_c\", \"coefficient\": -1.0}, {\"bigg_id\": \"CPD_2961_c\", \"coefficient\": 1.0}, {\"bigg_id\": \"PROTON_c\", \"coefficient\": 1.0}]}, \"1\": {\"name\": \"GLCpts\", \"bigg_id\": \"GLCpts\", \"reversibility\": true, \"label_x\": 265.0, \"label_y\": 975.0, \"gene_reaction_rule\": \"\", \"genes\": [], \"segments\": {\"6\": {\"from_node_id\": \"11\", \"to_node_id\": \"12\", \"b1\": null, \"b2\": null}, \"7\": {\"from_node_id\": \"13\", \"to_node_id\": \"12\", \"b1\": null, \"b2\": null}, \"8\": {\"from_node_id\": \"7\", \"to_node_id\": \"11\", \"b1\": null, \"b2\": null}, \"9\": {\"from_node_id\": \"8\", \"to_node_id\": \"11\", \"b1\": null, \"b2\": null}, \"10\": {\"from_node_id\": \"9\", \"to_node_id\": \"13\", \"b1\": null, \"b2\": null}, \"11\": {\"from_node_id\": \"10\", \"to_node_id\": \"13\", \"b1\": null, \"b2\": null}}, \"metabolites\": [{\"bigg_id\": \"Glucopyranose_e\", \"coefficient\": -1.0}, {\"bigg_id\": \"PHOSPHO_ENOL_PYRUVATE_c\", \"coefficient\": -1.0}, {\"bigg_id\": \"D_glucopyranose_6_phosphate_c\", \"coefficient\": 1.0}, {\"bigg_id\": \"PYRUVATE_c\", \"coefficient\": 1.0}]}, \"2\": {\"name\": \"GND\", \"bigg_id\": \"GND\", \"reversibility\": true, \"label_x\": 265.0, \"label_y\": 1625.0, \"gene_reaction_rule\": \"\", \"genes\": [], \"segments\": {\"12\": {\"from_node_id\": \"19\", \"to_node_id\": \"20\", \"b1\": null, \"b2\": null}, \"13\": {\"from_node_id\": \"21\", \"to_node_id\": \"20\", \"b1\": null, \"b2\": null}, \"14\": {\"from_node_id\": \"14\", \"to_node_id\": \"19\", \"b1\": null, \"b2\": null}, \"15\": {\"from_node_id\": \"15\", \"to_node_id\": \"19\", \"b1\": null, \"b2\": null}, \"16\": {\"from_node_id\": \"16\", \"to_node_id\": \"21\", \"b1\": null, \"b2\": null}, \"17\": {\"from_node_id\": \"17\", \"to_node_id\": \"21\", \"b1\": null, \"b2\": null}, \"18\": {\"from_node_id\": \"18\", \"to_node_id\": \"21\", \"b1\": null, \"b2\": null}}, \"metabolites\": [{\"bigg_id\": \"CPD_2961_c\", \"coefficient\": -1.0}, {\"bigg_id\": \"NADP_c\", \"coefficient\": -1.0}, {\"bigg_id\": \"CARBON_DIOXIDE_c\", \"coefficient\": 1.0}, {\"bigg_id\": \"NADPH_c\", \"coefficient\": 1.0}, {\"bigg_id\": \"RIBULOSE_5P_c\", \"coefficient\": 1.0}]}, \"3\": {\"name\": \"G6PDH2r\", \"bigg_id\": \"G6PDH2r\", \"reversibility\": true, \"label_x\": 265.0, \"label_y\": 2275.0, \"gene_reaction_rule\": \"\", \"genes\": [], \"segments\": {\"19\": {\"from_node_id\": \"27\", \"to_node_id\": \"28\", \"b1\": null, \"b2\": null}, \"20\": {\"from_node_id\": \"29\", \"to_node_id\": \"28\", \"b1\": null, \"b2\": null}, \"21\": {\"from_node_id\": \"22\", \"to_node_id\": \"27\", \"b1\": null, \"b2\": null}, \"22\": {\"from_node_id\": \"23\", \"to_node_id\": \"27\", \"b1\": null, \"b2\": null}, \"23\": {\"from_node_id\": \"24\", \"to_node_id\": \"29\", \"b1\": null, \"b2\": null}, \"24\": {\"from_node_id\": \"25\", \"to_node_id\": \"29\", \"b1\": null, \"b2\": null}, \"25\": {\"from_node_id\": \"26\", \"to_node_id\": \"29\", \"b1\": null, \"b2\": null}}, \"metabolites\": [{\"bigg_id\": \"D_glucopyranose_6_phosphate_c\", \"coefficient\": -1.0}, {\"bigg_id\": \"NADP_c\", \"coefficient\": -1.0}, {\"bigg_id\": \"D_6_P_GLUCONO_DELTA_LACTONE_c\", \"coefficient\": 1.0}, {\"bigg_id\": \"NADPH_c\", \"coefficient\": 1.0}, {\"bigg_id\": \"PROTON_c\", \"coefficient\": 1.0}]}}, \"nodes\": {\"0\": {\"node_type\": \"metabolite\", \"x\": 150.0, \"y\": 30.0, \"label_x\": 160.0, \"label_y\": 20.0, \"bigg_id\": \"CPD_15815_c\", \"name\": \"CPD_15815_c\", \"node_is_primary\": false}, \"1\": {\"node_type\": \"metabolite\", \"x\": 300.0, \"y\": 30.0, \"label_x\": 310.0, \"label_y\": 20.0, \"bigg_id\": \"D_6_P_GLUCONO_DELTA_LACTONE_c\", \"name\": \"D_6_P_GLUCONO_DELTA_LACTONE_c\", \"node_is_primary\": false}, \"2\": {\"node_type\": \"metabolite\", \"x\": 150.0, \"y\": 550.0, \"label_x\": 160.0, \"label_y\": 580.0, \"bigg_id\": \"CPD_2961_c\", \"name\": \"CPD_2961_c\", \"node_is_primary\": false}, \"3\": {\"node_type\": \"metabolite\", \"x\": 300.0, \"y\": 550.0, \"label_x\": 310.0, \"label_y\": 580.0, \"bigg_id\": \"PROTON_c\", \"name\": \"PROTON_c\", \"node_is_primary\": false}, \"4\": {\"node_type\": \"multimarker\", \"x\": 225.0, \"y\": 305.0}, \"5\": {\"node_type\": \"midmarker\", \"x\": 225.0, \"y\": 325.0}, \"6\": {\"node_type\": \"multimarker\", \"x\": 225.0, \"y\": 345.0}, \"7\": {\"node_type\": \"metabolite\", \"x\": 150.0, \"y\": 680.0, \"label_x\": 160.0, \"label_y\": 670.0, \"bigg_id\": \"Glucopyranose_e\", \"name\": \"Glucopyranose_e\", \"node_is_primary\": false}, \"8\": {\"node_type\": \"metabolite\", \"x\": 300.0, \"y\": 680.0, \"label_x\": 310.0, \"label_y\": 670.0, \"bigg_id\": \"PHOSPHO_ENOL_PYRUVATE_c\", \"name\": \"PHOSPHO_ENOL_PYRUVATE_c\", \"node_is_primary\": false}, \"9\": {\"node_type\": \"metabolite\", \"x\": 150.0, \"y\": 1200.0, \"label_x\": 160.0, \"label_y\": 1230.0, \"bigg_id\": \"D_glucopyranose_6_phosphate_c\", \"name\": \"D_glucopyranose_6_phosphate_c\", \"node_is_primary\": false}, \"10\": {\"node_type\": \"metabolite\", \"x\": 300.0, \"y\": 1200.0, \"label_x\": 310.0, \"label_y\": 1230.0, \"bigg_id\": \"PYRUVATE_c\", \"name\": \"PYRUVATE_c\", \"node_is_primary\": false}, \"11\": {\"node_type\": \"multimarker\", \"x\": 225.0, \"y\": 955.0}, \"12\": {\"node_type\": \"midmarker\", \"x\": 225.0, \"y\": 975.0}, \"13\": {\"node_type\": \"multimarker\", \"x\": 225.0, \"y\": 995.0}, \"14\": {\"node_type\": \"metabolite\", \"x\": 150.0, \"y\": 1330.0, \"label_x\": 160.0, \"label_y\": 1320.0, \"bigg_id\": \"CPD_2961_c\", \"name\": \"CPD_2961_c\", \"node_is_primary\": false}, \"15\": {\"node_type\": \"metabolite\", \"x\": 300.0, \"y\": 1330.0, \"label_x\": 310.0, \"label_y\": 1320.0, \"bigg_id\": \"NADP_c\", \"name\": \"NADP_c\", \"node_is_primary\": false}, \"16\": {\"node_type\": \"metabolite\", \"x\": 112.5, \"y\": 1850.0, \"label_x\": 122.5, \"label_y\": 1880.0, \"bigg_id\": \"CARBON_DIOXIDE_c\", \"name\": \"CARBON_DIOXIDE_c\", \"node_is_primary\": false}, \"17\": {\"node_type\": \"metabolite\", \"x\": 225.0, \"y\": 1850.0, \"label_x\": 235.0, \"label_y\": 1880.0, \"bigg_id\": \"NADPH_c\", \"name\": \"NADPH_c\", \"node_is_primary\": false}, \"18\": {\"node_type\": \"metabolite\", \"x\": 337.5, \"y\": 1850.0, \"label_x\": 347.5, \"label_y\": 1880.0, \"bigg_id\": \"RIBULOSE_5P_c\", \"name\": \"RIBULOSE_5P_c\", \"node_is_primary\": false}, \"19\": {\"node_type\": \"multimarker\", \"x\": 225.0, \"y\": 1605.0}, \"20\": {\"node_type\": \"midmarker\", \"x\": 225.0, \"y\": 1625.0}, \"21\": {\"node_type\": \"multimarker\", \"x\": 225.0, \"y\": 1645.0}, \"22\": {\"node_type\": \"metabolite\", \"x\": 150.0, \"y\": 1980.0, \"label_x\": 160.0, \"label_y\": 1970.0, \"bigg_id\": \"D_glucopyranose_6_phosphate_c\", \"name\": \"D_glucopyranose_6_phosphate_c\", \"node_is_primary\": false}, \"23\": {\"node_type\": \"metabolite\", \"x\": 300.0, \"y\": 1980.0, \"label_x\": 310.0, \"label_y\": 1970.0, \"bigg_id\": \"NADP_c\", \"name\": \"NADP_c\", \"node_is_primary\": false}, \"24\": {\"node_type\": \"metabolite\", \"x\": 112.5, \"y\": 2500.0, \"label_x\": 122.5, \"label_y\": 2530.0, \"bigg_id\": \"D_6_P_GLUCONO_DELTA_LACTONE_c\", \"name\": \"D_6_P_GLUCONO_DELTA_LACTONE_c\", \"node_is_primary\": false}, \"25\": {\"node_type\": \"metabolite\", \"x\": 225.0, \"y\": 2500.0, \"label_x\": 235.0, \"label_y\": 2530.0, \"bigg_id\": \"NADPH_c\", \"name\": \"NADPH_c\", \"node_is_primary\": false}, \"26\": {\"node_type\": \"metabolite\", \"x\": 337.5, \"y\": 2500.0, \"label_x\": 347.5, \"label_y\": 2530.0, \"bigg_id\": \"PROTON_c\", \"name\": \"PROTON_c\", \"node_is_primary\": false}, \"27\": {\"node_type\": \"multimarker\", \"x\": 225.0, \"y\": 2255.0}, \"28\": {\"node_type\": \"midmarker\", \"x\": 225.0, \"y\": 2275.0}, \"29\": {\"node_type\": \"multimarker\", \"x\": 225.0, \"y\": 2295.0}}, \"text_labels\": {}, \"canvas\": {\"x\": 0, \"y\": 0, \"width\": 450, \"height\": 2600}}]",
       "_loaded_model_json": null,
       "allow_building_duplicate_reactions": false,
       "and_method_in_gene_reaction_rule": "mean",
       "canvas_size_and_loc": null,
       "cofactors": [
        "atp",
        "adp",
        "nad",
        "nadh",
        "nadp",
        "nadph",
        "gtp",
        "gdp",
        "h",
        "coa",
        "ump",
        "h2o",
        "ppi"
       ],
       "disabled_buttons": [
        "Clear gene data",
        "Clear metabolite data"
       ],
       "embedded_css": null,
       "enable_editing": true,
       "enable_keys": false,
       "enable_keys_with_tooltip": true,
       "enable_search": true,
       "enable_tooltips": false,
       "full_screen_button": {
        "enable_editing": true,
        "enable_keys": true,
        "enable_tooltips": [
         "label"
        ],
        "menu": "all",
        "scroll_behavior": "pan"
       },
       "gene_data": null,
       "gene_font_size": 18,
       "height": 500,
       "hide_all_labels": false,
       "hide_secondary_metabolites": false,
       "highlight_missing": false,
       "identifiers_on_map": "bigg_id",
       "layout": "IPY_MODEL_2c2620cb94f74c5f830781c3b45d8f61",
       "marker_radius": 5,
       "menu": "all",
       "metabolite_compare_style": "log2_fold",
       "metabolite_data": null,
       "metabolite_no_data_color": "#ffffff",
       "metabolite_no_data_size": 10,
       "metabolite_scale": [
        {
         "color": "#fffaf0",
         "size": 20,
         "type": "min"
        },
        {
         "color": "#f1c470",
         "size": 30,
         "type": "median"
        },
        {
         "color": "#800000",
         "size": 40,
         "type": "max"
        }
       ],
       "metabolite_scale_preset": "WhYlRd",
       "metabolite_styles": [
        "color",
        "size",
        "text"
       ],
       "never_ask_before_quit": true,
       "primary_metabolite_radius": 20,
       "reaction_compare_style": "log2_fold",
       "reaction_data": {
        "G6PDH2r": -2,
        "GLCpts": -2,
        "GND": 1,
        "PGL": 0.4
       },
       "reaction_no_data_color": "#dcdcdc",
       "reaction_no_data_size": 8,
       "reaction_scale": [
        {
         "color": "rgb(110,174,110)",
         "type": "value",
         "value": 0.5
        },
        {
         "color": "rgb(0,128,0)",
         "type": "value",
         "value": 1
        },
        {
         "color": "rgb(220,220,220)",
         "type": "value",
         "value": 0
        },
        {
         "color": "rgb(237,110,110)",
         "type": "value",
         "value": -1
        },
        {
         "color": "rgb(255,0,0)",
         "type": "value",
         "value": -2
        }
       ],
       "reaction_scale_preset": null,
       "reaction_styles": [
        "color",
        "text"
       ],
       "scroll_behavior": "none",
       "secondary_metabolite_radius": 10,
       "semantic_zoom": null,
       "show_gene_reaction_rules": false,
       "starting_reaction": null,
       "use_3d_transform": false,
       "zoom_to_element": null
      }
     },
     "8139380928ab4f4c9d5120f19f95f39f": {
      "model_module": "@jupyter-widgets/base",
      "model_module_version": "1.2.0",
      "model_name": "LayoutModel",
      "state": {}
     },
     "82858b529a85455e91b84073ebdf5f50": {
      "model_module": "@jupyter-widgets/base",
      "model_module_version": "1.2.0",
      "model_name": "LayoutModel",
      "state": {}
     },
     "8430e5e8dfc64b5ca7ddd3b50827ac2e": {
      "model_module": "@jupyter-widgets/base",
      "model_module_version": "1.2.0",
      "model_name": "LayoutModel",
      "state": {}
     },
     "86035fccc36b48dda13e9b55b7eedf8f": {
      "model_module": "@jupyter-widgets/base",
      "model_module_version": "1.2.0",
      "model_name": "LayoutModel",
      "state": {}
     },
     "8652d80f3b5b4d43aba7ebdf01388123": {
      "model_module": "@jupyter-widgets/base",
      "model_module_version": "1.2.0",
      "model_name": "LayoutModel",
      "state": {}
     },
     "877888e22cdb4bcbb8d5cc7683c64d97": {
      "model_module": "escher",
      "model_module_version": "1.7.4",
      "model_name": "EscherMapModel",
      "state": {
       "_loaded_map_json": "[{\"map_name\": \"\", \"map_id\": \"\", \"map_description\": \"\", \"homepage\": \"\", \"schema\": \"https://escher.github.io/escher/jsonschema/1-0-0#\"}, {\"reactions\": {\"0\": {\"name\": \"PGL\", \"bigg_id\": \"PGL\", \"reversibility\": true, \"label_x\": 265.0, \"label_y\": 325.0, \"gene_reaction_rule\": \"\", \"genes\": [], \"segments\": {\"0\": {\"from_node_id\": \"4\", \"to_node_id\": \"5\", \"b1\": null, \"b2\": null}, \"1\": {\"from_node_id\": \"6\", \"to_node_id\": \"5\", \"b1\": null, \"b2\": null}, \"2\": {\"from_node_id\": \"0\", \"to_node_id\": \"4\", \"b1\": null, \"b2\": null}, \"3\": {\"from_node_id\": \"1\", \"to_node_id\": \"4\", \"b1\": null, \"b2\": null}, \"4\": {\"from_node_id\": \"2\", \"to_node_id\": \"6\", \"b1\": null, \"b2\": null}, \"5\": {\"from_node_id\": \"3\", \"to_node_id\": \"6\", \"b1\": null, \"b2\": null}}, \"metabolites\": [{\"bigg_id\": \"CPD_15815_c\", \"coefficient\": -1.0}, {\"bigg_id\": \"D_6_P_GLUCONO_DELTA_LACTONE_c\", \"coefficient\": -1.0}, {\"bigg_id\": \"CPD_2961_c\", \"coefficient\": 1.0}, {\"bigg_id\": \"PROTON_c\", \"coefficient\": 1.0}]}, \"1\": {\"name\": \"GND\", \"bigg_id\": \"GND\", \"reversibility\": true, \"label_x\": 265.0, \"label_y\": 975.0, \"gene_reaction_rule\": \"\", \"genes\": [], \"segments\": {\"6\": {\"from_node_id\": \"11\", \"to_node_id\": \"12\", \"b1\": null, \"b2\": null}, \"7\": {\"from_node_id\": \"13\", \"to_node_id\": \"12\", \"b1\": null, \"b2\": null}, \"8\": {\"from_node_id\": \"2\", \"to_node_id\": \"11\", \"b1\": null, \"b2\": null}, \"9\": {\"from_node_id\": \"7\", \"to_node_id\": \"11\", \"b1\": null, \"b2\": null}, \"10\": {\"from_node_id\": \"8\", \"to_node_id\": \"13\", \"b1\": null, \"b2\": null}, \"11\": {\"from_node_id\": \"9\", \"to_node_id\": \"13\", \"b1\": null, \"b2\": null}, \"12\": {\"from_node_id\": \"10\", \"to_node_id\": \"13\", \"b1\": null, \"b2\": null}}, \"metabolites\": [{\"bigg_id\": \"CPD_2961_c\", \"coefficient\": -1.0}, {\"bigg_id\": \"NADP_c\", \"coefficient\": -1.0}, {\"bigg_id\": \"CARBON_DIOXIDE_c\", \"coefficient\": 1.0}, {\"bigg_id\": \"NADPH_c\", \"coefficient\": 1.0}, {\"bigg_id\": \"RIBULOSE_5P_c\", \"coefficient\": 1.0}]}, \"2\": {\"name\": \"GLCpts\", \"bigg_id\": \"GLCpts\", \"reversibility\": true, \"label_x\": 265.0, \"label_y\": 1625.0, \"gene_reaction_rule\": \"\", \"genes\": [], \"segments\": {\"13\": {\"from_node_id\": \"18\", \"to_node_id\": \"19\", \"b1\": null, \"b2\": null}, \"14\": {\"from_node_id\": \"20\", \"to_node_id\": \"19\", \"b1\": null, \"b2\": null}, \"15\": {\"from_node_id\": \"14\", \"to_node_id\": \"18\", \"b1\": null, \"b2\": null}, \"16\": {\"from_node_id\": \"15\", \"to_node_id\": \"18\", \"b1\": null, \"b2\": null}, \"17\": {\"from_node_id\": \"16\", \"to_node_id\": \"20\", \"b1\": null, \"b2\": null}, \"18\": {\"from_node_id\": \"17\", \"to_node_id\": \"20\", \"b1\": null, \"b2\": null}}, \"metabolites\": [{\"bigg_id\": \"Glucopyranose_e\", \"coefficient\": -1.0}, {\"bigg_id\": \"PHOSPHO_ENOL_PYRUVATE_c\", \"coefficient\": -1.0}, {\"bigg_id\": \"D_glucopyranose_6_phosphate_c\", \"coefficient\": 1.0}, {\"bigg_id\": \"PYRUVATE_c\", \"coefficient\": 1.0}]}, \"3\": {\"name\": \"G6PDH2r\", \"bigg_id\": \"G6PDH2r\", \"reversibility\": true, \"label_x\": 265.0, \"label_y\": 2275.0, \"gene_reaction_rule\": \"\", \"genes\": [], \"segments\": {\"19\": {\"from_node_id\": \"25\", \"to_node_id\": \"26\", \"b1\": null, \"b2\": null}, \"20\": {\"from_node_id\": \"27\", \"to_node_id\": \"26\", \"b1\": null, \"b2\": null}, \"21\": {\"from_node_id\": \"16\", \"to_node_id\": \"25\", \"b1\": null, \"b2\": null}, \"22\": {\"from_node_id\": \"21\", \"to_node_id\": \"25\", \"b1\": null, \"b2\": null}, \"23\": {\"from_node_id\": \"22\", \"to_node_id\": \"27\", \"b1\": null, \"b2\": null}, \"24\": {\"from_node_id\": \"23\", \"to_node_id\": \"27\", \"b1\": null, \"b2\": null}, \"25\": {\"from_node_id\": \"24\", \"to_node_id\": \"27\", \"b1\": null, \"b2\": null}}, \"metabolites\": [{\"bigg_id\": \"D_glucopyranose_6_phosphate_c\", \"coefficient\": -1.0}, {\"bigg_id\": \"NADP_c\", \"coefficient\": -1.0}, {\"bigg_id\": \"D_6_P_GLUCONO_DELTA_LACTONE_c\", \"coefficient\": 1.0}, {\"bigg_id\": \"NADPH_c\", \"coefficient\": 1.0}, {\"bigg_id\": \"PROTON_c\", \"coefficient\": 1.0}]}}, \"nodes\": {\"0\": {\"node_type\": \"metabolite\", \"x\": 150.0, \"y\": 30.0, \"label_x\": 160.0, \"label_y\": 20.0, \"bigg_id\": \"CPD_15815_c\", \"name\": \"CPD_15815_c\", \"node_is_primary\": false}, \"1\": {\"node_type\": \"metabolite\", \"x\": 300.0, \"y\": 30.0, \"label_x\": 310.0, \"label_y\": 20.0, \"bigg_id\": \"D_6_P_GLUCONO_DELTA_LACTONE_c\", \"name\": \"D_6_P_GLUCONO_DELTA_LACTONE_c\", \"node_is_primary\": false}, \"2\": {\"node_type\": \"metabolite\", \"x\": 150.0, \"y\": 550.0, \"label_x\": 160.0, \"label_y\": 580.0, \"bigg_id\": \"CPD_2961_c\", \"name\": \"CPD_2961_c\", \"node_is_primary\": false}, \"3\": {\"node_type\": \"metabolite\", \"x\": 300.0, \"y\": 550.0, \"label_x\": 310.0, \"label_y\": 580.0, \"bigg_id\": \"PROTON_c\", \"name\": \"PROTON_c\", \"node_is_primary\": false}, \"4\": {\"node_type\": \"multimarker\", \"x\": 225.0, \"y\": 305.0}, \"5\": {\"node_type\": \"midmarker\", \"x\": 225.0, \"y\": 325.0}, \"6\": {\"node_type\": \"multimarker\", \"x\": 225.0, \"y\": 345.0}, \"7\": {\"node_type\": \"metabolite\", \"x\": 300.0, \"y\": 680.0, \"label_x\": 310.0, \"label_y\": 670.0, \"bigg_id\": \"NADP_c\", \"name\": \"NADP_c\", \"node_is_primary\": false}, \"8\": {\"node_type\": \"metabolite\", \"x\": 112.5, \"y\": 1200.0, \"label_x\": 122.5, \"label_y\": 1230.0, \"bigg_id\": \"CARBON_DIOXIDE_c\", \"name\": \"CARBON_DIOXIDE_c\", \"node_is_primary\": false}, \"9\": {\"node_type\": \"metabolite\", \"x\": 225.0, \"y\": 1200.0, \"label_x\": 235.0, \"label_y\": 1230.0, \"bigg_id\": \"NADPH_c\", \"name\": \"NADPH_c\", \"node_is_primary\": false}, \"10\": {\"node_type\": \"metabolite\", \"x\": 337.5, \"y\": 1200.0, \"label_x\": 347.5, \"label_y\": 1230.0, \"bigg_id\": \"RIBULOSE_5P_c\", \"name\": \"RIBULOSE_5P_c\", \"node_is_primary\": false}, \"11\": {\"node_type\": \"multimarker\", \"x\": 225.0, \"y\": 955.0}, \"12\": {\"node_type\": \"midmarker\", \"x\": 225.0, \"y\": 975.0}, \"13\": {\"node_type\": \"multimarker\", \"x\": 225.0, \"y\": 995.0}, \"14\": {\"node_type\": \"metabolite\", \"x\": 150.0, \"y\": 1330.0, \"label_x\": 160.0, \"label_y\": 1320.0, \"bigg_id\": \"Glucopyranose_e\", \"name\": \"Glucopyranose_e\", \"node_is_primary\": false}, \"15\": {\"node_type\": \"metabolite\", \"x\": 300.0, \"y\": 1330.0, \"label_x\": 310.0, \"label_y\": 1320.0, \"bigg_id\": \"PHOSPHO_ENOL_PYRUVATE_c\", \"name\": \"PHOSPHO_ENOL_PYRUVATE_c\", \"node_is_primary\": false}, \"16\": {\"node_type\": \"metabolite\", \"x\": 150.0, \"y\": 1850.0, \"label_x\": 160.0, \"label_y\": 1880.0, \"bigg_id\": \"D_glucopyranose_6_phosphate_c\", \"name\": \"D_glucopyranose_6_phosphate_c\", \"node_is_primary\": false}, \"17\": {\"node_type\": \"metabolite\", \"x\": 300.0, \"y\": 1850.0, \"label_x\": 310.0, \"label_y\": 1880.0, \"bigg_id\": \"PYRUVATE_c\", \"name\": \"PYRUVATE_c\", \"node_is_primary\": false}, \"18\": {\"node_type\": \"multimarker\", \"x\": 225.0, \"y\": 1605.0}, \"19\": {\"node_type\": \"midmarker\", \"x\": 225.0, \"y\": 1625.0}, \"20\": {\"node_type\": \"multimarker\", \"x\": 225.0, \"y\": 1645.0}, \"21\": {\"node_type\": \"metabolite\", \"x\": 300.0, \"y\": 1980.0, \"label_x\": 310.0, \"label_y\": 1970.0, \"bigg_id\": \"NADP_c\", \"name\": \"NADP_c\", \"node_is_primary\": false}, \"22\": {\"node_type\": \"metabolite\", \"x\": 112.5, \"y\": 2500.0, \"label_x\": 122.5, \"label_y\": 2530.0, \"bigg_id\": \"D_6_P_GLUCONO_DELTA_LACTONE_c\", \"name\": \"D_6_P_GLUCONO_DELTA_LACTONE_c\", \"node_is_primary\": false}, \"23\": {\"node_type\": \"metabolite\", \"x\": 225.0, \"y\": 2500.0, \"label_x\": 235.0, \"label_y\": 2530.0, \"bigg_id\": \"NADPH_c\", \"name\": \"NADPH_c\", \"node_is_primary\": false}, \"24\": {\"node_type\": \"metabolite\", \"x\": 337.5, \"y\": 2500.0, \"label_x\": 347.5, \"label_y\": 2530.0, \"bigg_id\": \"PROTON_c\", \"name\": \"PROTON_c\", \"node_is_primary\": false}, \"25\": {\"node_type\": \"multimarker\", \"x\": 225.0, \"y\": 2255.0}, \"26\": {\"node_type\": \"midmarker\", \"x\": 225.0, \"y\": 2275.0}, \"27\": {\"node_type\": \"multimarker\", \"x\": 225.0, \"y\": 2295.0}}, \"text_labels\": {}, \"canvas\": {\"x\": 0, \"y\": 0, \"width\": 450, \"height\": 2600}}]",
       "_loaded_model_json": null,
       "allow_building_duplicate_reactions": false,
       "and_method_in_gene_reaction_rule": "mean",
       "canvas_size_and_loc": null,
       "cofactors": [
        "atp",
        "adp",
        "nad",
        "nadh",
        "nadp",
        "nadph",
        "gtp",
        "gdp",
        "h",
        "coa",
        "ump",
        "h2o",
        "ppi"
       ],
       "disabled_buttons": [
        "Clear gene data",
        "Clear metabolite data"
       ],
       "embedded_css": null,
       "enable_editing": true,
       "enable_keys": false,
       "enable_keys_with_tooltip": true,
       "enable_search": true,
       "enable_tooltips": false,
       "full_screen_button": {
        "enable_editing": true,
        "enable_keys": true,
        "enable_tooltips": [
         "label"
        ],
        "menu": "all",
        "scroll_behavior": "pan"
       },
       "gene_data": null,
       "gene_font_size": 18,
       "height": 500,
       "hide_all_labels": false,
       "hide_secondary_metabolites": false,
       "highlight_missing": false,
       "identifiers_on_map": "bigg_id",
       "layout": "IPY_MODEL_2daa49917a8b40ac9a1f4e94c22b3fbb",
       "marker_radius": 5,
       "menu": "all",
       "metabolite_compare_style": "log2_fold",
       "metabolite_data": null,
       "metabolite_no_data_color": "#ffffff",
       "metabolite_no_data_size": 10,
       "metabolite_scale": [
        {
         "color": "#fffaf0",
         "size": 20,
         "type": "min"
        },
        {
         "color": "#f1c470",
         "size": 30,
         "type": "median"
        },
        {
         "color": "#800000",
         "size": 40,
         "type": "max"
        }
       ],
       "metabolite_scale_preset": "WhYlRd",
       "metabolite_styles": [
        "color",
        "size",
        "text"
       ],
       "never_ask_before_quit": true,
       "primary_metabolite_radius": 20,
       "reaction_compare_style": "log2_fold",
       "reaction_data": {
        "G6PDH2r": -2,
        "GLCpts": -2,
        "GND": 1,
        "Other": 1000,
        "PGL": 0.4
       },
       "reaction_no_data_color": "#dcdcdc",
       "reaction_no_data_size": 8,
       "reaction_scale": [
        {
         "color": "rgb(191,215,230)",
         "type": "value",
         "value": 0.4
        },
        {
         "color": "rgb(163,210,240)",
         "type": "value",
         "value": 1
        },
        {
         "color": "rgb(135,205,250)",
         "type": "value",
         "value": 1000
        },
        {
         "color": "rgb(220,220,220)",
         "type": "value",
         "value": 0
        },
        {
         "color": "rgb(237,192,110)",
         "type": "value",
         "value": -2
        },
        {
         "color": "rgb(255,165,0)",
         "type": "value",
         "value": -2
        }
       ],
       "reaction_scale_preset": null,
       "reaction_styles": [
        "color",
        "text"
       ],
       "scroll_behavior": "none",
       "secondary_metabolite_radius": 10,
       "semantic_zoom": null,
       "show_gene_reaction_rules": false,
       "starting_reaction": null,
       "use_3d_transform": false,
       "zoom_to_element": null
      }
     },
     "88d94c673ec848fe894165548d503091": {
      "model_module": "@jupyter-widgets/base",
      "model_module_version": "1.2.0",
      "model_name": "LayoutModel",
      "state": {}
     },
     "891510106b28407f863d08910003ed57": {
      "model_module": "escher",
      "model_module_version": "1.7.4",
      "model_name": "EscherMapModel",
      "state": {
       "_loaded_map_json": "[{\"map_name\": \"\", \"map_id\": \"\", \"map_description\": \"\", \"homepage\": \"\", \"schema\": \"https://escher.github.io/escher/jsonschema/1-0-0#\"}, {\"reactions\": {\"0\": {\"name\": \"PGL\", \"bigg_id\": \"PGL\", \"reversibility\": true, \"label_x\": 265.0, \"label_y\": 325.0, \"gene_reaction_rule\": \"\", \"genes\": [], \"segments\": {\"0\": {\"from_node_id\": \"4\", \"to_node_id\": \"5\", \"b1\": null, \"b2\": null}, \"1\": {\"from_node_id\": \"6\", \"to_node_id\": \"5\", \"b1\": null, \"b2\": null}, \"2\": {\"from_node_id\": \"0\", \"to_node_id\": \"4\", \"b1\": null, \"b2\": null}, \"3\": {\"from_node_id\": \"1\", \"to_node_id\": \"4\", \"b1\": null, \"b2\": null}, \"4\": {\"from_node_id\": \"2\", \"to_node_id\": \"6\", \"b1\": null, \"b2\": null}, \"5\": {\"from_node_id\": \"3\", \"to_node_id\": \"6\", \"b1\": null, \"b2\": null}}, \"metabolites\": [{\"bigg_id\": \"CPD_15815_c\", \"coefficient\": -1.0}, {\"bigg_id\": \"D_6_P_GLUCONO_DELTA_LACTONE_c\", \"coefficient\": -1.0}, {\"bigg_id\": \"CPD_2961_c\", \"coefficient\": 1.0}, {\"bigg_id\": \"PROTON_c\", \"coefficient\": 1.0}]}, \"1\": {\"name\": \"GND\", \"bigg_id\": \"GND\", \"reversibility\": true, \"label_x\": 265.0, \"label_y\": 975.0, \"gene_reaction_rule\": \"\", \"genes\": [], \"segments\": {\"6\": {\"from_node_id\": \"11\", \"to_node_id\": \"12\", \"b1\": null, \"b2\": null}, \"7\": {\"from_node_id\": \"13\", \"to_node_id\": \"12\", \"b1\": null, \"b2\": null}, \"8\": {\"from_node_id\": \"2\", \"to_node_id\": \"11\", \"b1\": null, \"b2\": null}, \"9\": {\"from_node_id\": \"7\", \"to_node_id\": \"11\", \"b1\": null, \"b2\": null}, \"10\": {\"from_node_id\": \"8\", \"to_node_id\": \"13\", \"b1\": null, \"b2\": null}, \"11\": {\"from_node_id\": \"9\", \"to_node_id\": \"13\", \"b1\": null, \"b2\": null}, \"12\": {\"from_node_id\": \"10\", \"to_node_id\": \"13\", \"b1\": null, \"b2\": null}}, \"metabolites\": [{\"bigg_id\": \"CPD_2961_c\", \"coefficient\": -1.0}, {\"bigg_id\": \"NADP_c\", \"coefficient\": -1.0}, {\"bigg_id\": \"CARBON_DIOXIDE_c\", \"coefficient\": 1.0}, {\"bigg_id\": \"NADPH_c\", \"coefficient\": 1.0}, {\"bigg_id\": \"RIBULOSE_5P_c\", \"coefficient\": 1.0}]}, \"2\": {\"name\": \"GLCpts\", \"bigg_id\": \"GLCpts\", \"reversibility\": true, \"label_x\": 265.0, \"label_y\": 1625.0, \"gene_reaction_rule\": \"\", \"genes\": [], \"segments\": {\"13\": {\"from_node_id\": \"18\", \"to_node_id\": \"19\", \"b1\": null, \"b2\": null}, \"14\": {\"from_node_id\": \"20\", \"to_node_id\": \"19\", \"b1\": null, \"b2\": null}, \"15\": {\"from_node_id\": \"14\", \"to_node_id\": \"18\", \"b1\": null, \"b2\": null}, \"16\": {\"from_node_id\": \"15\", \"to_node_id\": \"18\", \"b1\": null, \"b2\": null}, \"17\": {\"from_node_id\": \"16\", \"to_node_id\": \"20\", \"b1\": null, \"b2\": null}, \"18\": {\"from_node_id\": \"17\", \"to_node_id\": \"20\", \"b1\": null, \"b2\": null}}, \"metabolites\": [{\"bigg_id\": \"Glucopyranose_e\", \"coefficient\": -1.0}, {\"bigg_id\": \"PHOSPHO_ENOL_PYRUVATE_c\", \"coefficient\": -1.0}, {\"bigg_id\": \"D_glucopyranose_6_phosphate_c\", \"coefficient\": 1.0}, {\"bigg_id\": \"PYRUVATE_c\", \"coefficient\": 1.0}]}, \"3\": {\"name\": \"G6PDH2r\", \"bigg_id\": \"G6PDH2r\", \"reversibility\": true, \"label_x\": 265.0, \"label_y\": 2275.0, \"gene_reaction_rule\": \"\", \"genes\": [], \"segments\": {\"19\": {\"from_node_id\": \"25\", \"to_node_id\": \"26\", \"b1\": null, \"b2\": null}, \"20\": {\"from_node_id\": \"27\", \"to_node_id\": \"26\", \"b1\": null, \"b2\": null}, \"21\": {\"from_node_id\": \"16\", \"to_node_id\": \"25\", \"b1\": null, \"b2\": null}, \"22\": {\"from_node_id\": \"21\", \"to_node_id\": \"25\", \"b1\": null, \"b2\": null}, \"23\": {\"from_node_id\": \"22\", \"to_node_id\": \"27\", \"b1\": null, \"b2\": null}, \"24\": {\"from_node_id\": \"23\", \"to_node_id\": \"27\", \"b1\": null, \"b2\": null}, \"25\": {\"from_node_id\": \"24\", \"to_node_id\": \"27\", \"b1\": null, \"b2\": null}}, \"metabolites\": [{\"bigg_id\": \"D_glucopyranose_6_phosphate_c\", \"coefficient\": -1.0}, {\"bigg_id\": \"NADP_c\", \"coefficient\": -1.0}, {\"bigg_id\": \"D_6_P_GLUCONO_DELTA_LACTONE_c\", \"coefficient\": 1.0}, {\"bigg_id\": \"NADPH_c\", \"coefficient\": 1.0}, {\"bigg_id\": \"PROTON_c\", \"coefficient\": 1.0}]}}, \"nodes\": {\"0\": {\"node_type\": \"metabolite\", \"x\": 150.0, \"y\": 30.0, \"label_x\": 160.0, \"label_y\": 20.0, \"bigg_id\": \"CPD_15815_c\", \"name\": \"CPD_15815_c\", \"node_is_primary\": false}, \"1\": {\"node_type\": \"metabolite\", \"x\": 300.0, \"y\": 30.0, \"label_x\": 310.0, \"label_y\": 20.0, \"bigg_id\": \"D_6_P_GLUCONO_DELTA_LACTONE_c\", \"name\": \"D_6_P_GLUCONO_DELTA_LACTONE_c\", \"node_is_primary\": false}, \"2\": {\"node_type\": \"metabolite\", \"x\": 150.0, \"y\": 550.0, \"label_x\": 160.0, \"label_y\": 580.0, \"bigg_id\": \"CPD_2961_c\", \"name\": \"CPD_2961_c\", \"node_is_primary\": false}, \"3\": {\"node_type\": \"metabolite\", \"x\": 300.0, \"y\": 550.0, \"label_x\": 310.0, \"label_y\": 580.0, \"bigg_id\": \"PROTON_c\", \"name\": \"PROTON_c\", \"node_is_primary\": false}, \"4\": {\"node_type\": \"multimarker\", \"x\": 225.0, \"y\": 305.0}, \"5\": {\"node_type\": \"midmarker\", \"x\": 225.0, \"y\": 325.0}, \"6\": {\"node_type\": \"multimarker\", \"x\": 225.0, \"y\": 345.0}, \"7\": {\"node_type\": \"metabolite\", \"x\": 300.0, \"y\": 680.0, \"label_x\": 310.0, \"label_y\": 670.0, \"bigg_id\": \"NADP_c\", \"name\": \"NADP_c\", \"node_is_primary\": false}, \"8\": {\"node_type\": \"metabolite\", \"x\": 112.5, \"y\": 1200.0, \"label_x\": 122.5, \"label_y\": 1230.0, \"bigg_id\": \"CARBON_DIOXIDE_c\", \"name\": \"CARBON_DIOXIDE_c\", \"node_is_primary\": false}, \"9\": {\"node_type\": \"metabolite\", \"x\": 225.0, \"y\": 1200.0, \"label_x\": 235.0, \"label_y\": 1230.0, \"bigg_id\": \"NADPH_c\", \"name\": \"NADPH_c\", \"node_is_primary\": false}, \"10\": {\"node_type\": \"metabolite\", \"x\": 337.5, \"y\": 1200.0, \"label_x\": 347.5, \"label_y\": 1230.0, \"bigg_id\": \"RIBULOSE_5P_c\", \"name\": \"RIBULOSE_5P_c\", \"node_is_primary\": false}, \"11\": {\"node_type\": \"multimarker\", \"x\": 225.0, \"y\": 955.0}, \"12\": {\"node_type\": \"midmarker\", \"x\": 225.0, \"y\": 975.0}, \"13\": {\"node_type\": \"multimarker\", \"x\": 225.0, \"y\": 995.0}, \"14\": {\"node_type\": \"metabolite\", \"x\": 150.0, \"y\": 1330.0, \"label_x\": 160.0, \"label_y\": 1320.0, \"bigg_id\": \"Glucopyranose_e\", \"name\": \"Glucopyranose_e\", \"node_is_primary\": false}, \"15\": {\"node_type\": \"metabolite\", \"x\": 300.0, \"y\": 1330.0, \"label_x\": 310.0, \"label_y\": 1320.0, \"bigg_id\": \"PHOSPHO_ENOL_PYRUVATE_c\", \"name\": \"PHOSPHO_ENOL_PYRUVATE_c\", \"node_is_primary\": false}, \"16\": {\"node_type\": \"metabolite\", \"x\": 150.0, \"y\": 1850.0, \"label_x\": 160.0, \"label_y\": 1880.0, \"bigg_id\": \"D_glucopyranose_6_phosphate_c\", \"name\": \"D_glucopyranose_6_phosphate_c\", \"node_is_primary\": false}, \"17\": {\"node_type\": \"metabolite\", \"x\": 300.0, \"y\": 1850.0, \"label_x\": 310.0, \"label_y\": 1880.0, \"bigg_id\": \"PYRUVATE_c\", \"name\": \"PYRUVATE_c\", \"node_is_primary\": false}, \"18\": {\"node_type\": \"multimarker\", \"x\": 225.0, \"y\": 1605.0}, \"19\": {\"node_type\": \"midmarker\", \"x\": 225.0, \"y\": 1625.0}, \"20\": {\"node_type\": \"multimarker\", \"x\": 225.0, \"y\": 1645.0}, \"21\": {\"node_type\": \"metabolite\", \"x\": 300.0, \"y\": 1980.0, \"label_x\": 310.0, \"label_y\": 1970.0, \"bigg_id\": \"NADP_c\", \"name\": \"NADP_c\", \"node_is_primary\": false}, \"22\": {\"node_type\": \"metabolite\", \"x\": 112.5, \"y\": 2500.0, \"label_x\": 122.5, \"label_y\": 2530.0, \"bigg_id\": \"D_6_P_GLUCONO_DELTA_LACTONE_c\", \"name\": \"D_6_P_GLUCONO_DELTA_LACTONE_c\", \"node_is_primary\": false}, \"23\": {\"node_type\": \"metabolite\", \"x\": 225.0, \"y\": 2500.0, \"label_x\": 235.0, \"label_y\": 2530.0, \"bigg_id\": \"NADPH_c\", \"name\": \"NADPH_c\", \"node_is_primary\": false}, \"24\": {\"node_type\": \"metabolite\", \"x\": 337.5, \"y\": 2500.0, \"label_x\": 347.5, \"label_y\": 2530.0, \"bigg_id\": \"PROTON_c\", \"name\": \"PROTON_c\", \"node_is_primary\": false}, \"25\": {\"node_type\": \"multimarker\", \"x\": 225.0, \"y\": 2255.0}, \"26\": {\"node_type\": \"midmarker\", \"x\": 225.0, \"y\": 2275.0}, \"27\": {\"node_type\": \"multimarker\", \"x\": 225.0, \"y\": 2295.0}}, \"text_labels\": {}, \"canvas\": {\"x\": 0, \"y\": 0, \"width\": 450, \"height\": 2600}}]",
       "_loaded_model_json": null,
       "allow_building_duplicate_reactions": false,
       "and_method_in_gene_reaction_rule": "mean",
       "canvas_size_and_loc": null,
       "cofactors": [
        "atp",
        "adp",
        "nad",
        "nadh",
        "nadp",
        "nadph",
        "gtp",
        "gdp",
        "h",
        "coa",
        "ump",
        "h2o",
        "ppi"
       ],
       "disabled_buttons": [
        "Clear gene data",
        "Clear metabolite data"
       ],
       "embedded_css": null,
       "enable_editing": true,
       "enable_keys": false,
       "enable_keys_with_tooltip": true,
       "enable_search": true,
       "enable_tooltips": false,
       "full_screen_button": {
        "enable_editing": true,
        "enable_keys": true,
        "enable_tooltips": [
         "label"
        ],
        "menu": "all",
        "scroll_behavior": "pan"
       },
       "gene_data": null,
       "gene_font_size": 18,
       "height": 500,
       "hide_all_labels": false,
       "hide_secondary_metabolites": false,
       "highlight_missing": false,
       "identifiers_on_map": "bigg_id",
       "layout": "IPY_MODEL_437b29e8b1d449b0a6cc1d1a2f3f8669",
       "marker_radius": 5,
       "menu": "all",
       "metabolite_compare_style": "log2_fold",
       "metabolite_data": null,
       "metabolite_no_data_color": "#ffffff",
       "metabolite_no_data_size": 10,
       "metabolite_scale": [
        {
         "color": "#fffaf0",
         "size": 20,
         "type": "min"
        },
        {
         "color": "#f1c470",
         "size": 30,
         "type": "median"
        },
        {
         "color": "#800000",
         "size": 40,
         "type": "max"
        }
       ],
       "metabolite_scale_preset": "WhYlRd",
       "metabolite_styles": [
        "color",
        "size",
        "text"
       ],
       "never_ask_before_quit": true,
       "primary_metabolite_radius": 20,
       "reaction_compare_style": "log2_fold",
       "reaction_data": {
        "G6PDH2r": -2,
        "GLCpts": -2,
        "GND": 1,
        "Other": 1000,
        "PGL": 0.4
       },
       "reaction_no_data_color": "#dcdcdc",
       "reaction_no_data_size": 8,
       "reaction_scale": [
        {
         "color": "rgb(191,215,230)",
         "type": "value",
         "value": 0.4
        },
        {
         "color": "rgb(163,210,240)",
         "type": "value",
         "value": 1
        },
        {
         "color": "rgb(135,205,250)",
         "type": "value",
         "value": 1000
        },
        {
         "color": "rgb(220,220,220)",
         "type": "value",
         "value": 0
        },
        {
         "color": "rgb(237,192,110)",
         "type": "value",
         "value": -2
        },
        {
         "color": "rgb(255,165,0)",
         "type": "value",
         "value": -2
        }
       ],
       "reaction_scale_preset": null,
       "reaction_styles": [
        "color",
        "text"
       ],
       "scroll_behavior": "none",
       "secondary_metabolite_radius": 10,
       "semantic_zoom": null,
       "show_gene_reaction_rules": false,
       "starting_reaction": null,
       "use_3d_transform": false,
       "zoom_to_element": null
      }
     },
     "8ae2ea9080334a439c6beb1527b5cec6": {
      "model_module": "@jupyter-widgets/base",
      "model_module_version": "1.2.0",
      "model_name": "LayoutModel",
      "state": {}
     },
     "8fcd886a0cbd41688b5a4dbd172a0b85": {
      "model_module": "escher",
      "model_module_version": "1.7.4",
      "model_name": "EscherMapModel",
      "state": {
       "_loaded_map_json": "[{\"map_name\": \"\", \"map_id\": \"\", \"map_description\": \"\", \"homepage\": \"\", \"schema\": \"https://escher.github.io/escher/jsonschema/1-0-0#\"}, {\"reactions\": {\"0\": {\"name\": \"GLCpts\", \"bigg_id\": \"GLCpts\", \"reversibility\": true, \"label_x\": 265.0, \"label_y\": 325.0, \"gene_reaction_rule\": \"\", \"genes\": [], \"segments\": {\"0\": {\"from_node_id\": \"4\", \"to_node_id\": \"5\", \"b1\": null, \"b2\": null}, \"1\": {\"from_node_id\": \"6\", \"to_node_id\": \"5\", \"b1\": null, \"b2\": null}, \"2\": {\"from_node_id\": \"0\", \"to_node_id\": \"4\", \"b1\": null, \"b2\": null}, \"3\": {\"from_node_id\": \"1\", \"to_node_id\": \"4\", \"b1\": null, \"b2\": null}, \"4\": {\"from_node_id\": \"2\", \"to_node_id\": \"6\", \"b1\": null, \"b2\": null}, \"5\": {\"from_node_id\": \"3\", \"to_node_id\": \"6\", \"b1\": null, \"b2\": null}}, \"metabolites\": [{\"bigg_id\": \"Glucopyranose_e\", \"coefficient\": -1.0}, {\"bigg_id\": \"PHOSPHO_ENOL_PYRUVATE_c\", \"coefficient\": -1.0}, {\"bigg_id\": \"D_glucopyranose_6_phosphate_c\", \"coefficient\": 1.0}, {\"bigg_id\": \"PYRUVATE_c\", \"coefficient\": 1.0}]}, \"1\": {\"name\": \"GND\", \"bigg_id\": \"GND\", \"reversibility\": true, \"label_x\": 265.0, \"label_y\": 975.0, \"gene_reaction_rule\": \"\", \"genes\": [], \"segments\": {\"6\": {\"from_node_id\": \"12\", \"to_node_id\": \"13\", \"b1\": null, \"b2\": null}, \"7\": {\"from_node_id\": \"14\", \"to_node_id\": \"13\", \"b1\": null, \"b2\": null}, \"8\": {\"from_node_id\": \"7\", \"to_node_id\": \"12\", \"b1\": null, \"b2\": null}, \"9\": {\"from_node_id\": \"8\", \"to_node_id\": \"12\", \"b1\": null, \"b2\": null}, \"10\": {\"from_node_id\": \"9\", \"to_node_id\": \"14\", \"b1\": null, \"b2\": null}, \"11\": {\"from_node_id\": \"10\", \"to_node_id\": \"14\", \"b1\": null, \"b2\": null}, \"12\": {\"from_node_id\": \"11\", \"to_node_id\": \"14\", \"b1\": null, \"b2\": null}}, \"metabolites\": [{\"bigg_id\": \"CPD_2961_c\", \"coefficient\": -1.0}, {\"bigg_id\": \"NADP_c\", \"coefficient\": -1.0}, {\"bigg_id\": \"CARBON_DIOXIDE_c\", \"coefficient\": 1.0}, {\"bigg_id\": \"NADPH_c\", \"coefficient\": 1.0}, {\"bigg_id\": \"RIBULOSE_5P_c\", \"coefficient\": 1.0}]}, \"2\": {\"name\": \"PGL\", \"bigg_id\": \"PGL\", \"reversibility\": true, \"label_x\": 265.0, \"label_y\": 1625.0, \"gene_reaction_rule\": \"\", \"genes\": [], \"segments\": {\"13\": {\"from_node_id\": \"19\", \"to_node_id\": \"20\", \"b1\": null, \"b2\": null}, \"14\": {\"from_node_id\": \"21\", \"to_node_id\": \"20\", \"b1\": null, \"b2\": null}, \"15\": {\"from_node_id\": \"15\", \"to_node_id\": \"19\", \"b1\": null, \"b2\": null}, \"16\": {\"from_node_id\": \"16\", \"to_node_id\": \"19\", \"b1\": null, \"b2\": null}, \"17\": {\"from_node_id\": \"17\", \"to_node_id\": \"21\", \"b1\": null, \"b2\": null}, \"18\": {\"from_node_id\": \"18\", \"to_node_id\": \"21\", \"b1\": null, \"b2\": null}}, \"metabolites\": [{\"bigg_id\": \"CPD_15815_c\", \"coefficient\": -1.0}, {\"bigg_id\": \"D_6_P_GLUCONO_DELTA_LACTONE_c\", \"coefficient\": -1.0}, {\"bigg_id\": \"CPD_2961_c\", \"coefficient\": 1.0}, {\"bigg_id\": \"PROTON_c\", \"coefficient\": 1.0}]}, \"3\": {\"name\": \"G6PDH2r\", \"bigg_id\": \"G6PDH2r\", \"reversibility\": true, \"label_x\": 265.0, \"label_y\": 2275.0, \"gene_reaction_rule\": \"\", \"genes\": [], \"segments\": {\"19\": {\"from_node_id\": \"27\", \"to_node_id\": \"28\", \"b1\": null, \"b2\": null}, \"20\": {\"from_node_id\": \"29\", \"to_node_id\": \"28\", \"b1\": null, \"b2\": null}, \"21\": {\"from_node_id\": \"22\", \"to_node_id\": \"27\", \"b1\": null, \"b2\": null}, \"22\": {\"from_node_id\": \"23\", \"to_node_id\": \"27\", \"b1\": null, \"b2\": null}, \"23\": {\"from_node_id\": \"24\", \"to_node_id\": \"29\", \"b1\": null, \"b2\": null}, \"24\": {\"from_node_id\": \"25\", \"to_node_id\": \"29\", \"b1\": null, \"b2\": null}, \"25\": {\"from_node_id\": \"26\", \"to_node_id\": \"29\", \"b1\": null, \"b2\": null}}, \"metabolites\": [{\"bigg_id\": \"D_glucopyranose_6_phosphate_c\", \"coefficient\": -1.0}, {\"bigg_id\": \"NADP_c\", \"coefficient\": -1.0}, {\"bigg_id\": \"D_6_P_GLUCONO_DELTA_LACTONE_c\", \"coefficient\": 1.0}, {\"bigg_id\": \"NADPH_c\", \"coefficient\": 1.0}, {\"bigg_id\": \"PROTON_c\", \"coefficient\": 1.0}]}}, \"nodes\": {\"0\": {\"node_type\": \"metabolite\", \"x\": 150.0, \"y\": 30.0, \"label_x\": 160.0, \"label_y\": 20.0, \"bigg_id\": \"Glucopyranose_e\", \"name\": \"Glucopyranose_e\", \"node_is_primary\": false}, \"1\": {\"node_type\": \"metabolite\", \"x\": 300.0, \"y\": 30.0, \"label_x\": 310.0, \"label_y\": 20.0, \"bigg_id\": \"PHOSPHO_ENOL_PYRUVATE_c\", \"name\": \"PHOSPHO_ENOL_PYRUVATE_c\", \"node_is_primary\": false}, \"2\": {\"node_type\": \"metabolite\", \"x\": 150.0, \"y\": 550.0, \"label_x\": 160.0, \"label_y\": 580.0, \"bigg_id\": \"D_glucopyranose_6_phosphate_c\", \"name\": \"D_glucopyranose_6_phosphate_c\", \"node_is_primary\": false}, \"3\": {\"node_type\": \"metabolite\", \"x\": 300.0, \"y\": 550.0, \"label_x\": 310.0, \"label_y\": 580.0, \"bigg_id\": \"PYRUVATE_c\", \"name\": \"PYRUVATE_c\", \"node_is_primary\": false}, \"4\": {\"node_type\": \"multimarker\", \"x\": 225.0, \"y\": 305.0}, \"5\": {\"node_type\": \"midmarker\", \"x\": 225.0, \"y\": 325.0}, \"6\": {\"node_type\": \"multimarker\", \"x\": 225.0, \"y\": 345.0}, \"7\": {\"node_type\": \"metabolite\", \"x\": 150.0, \"y\": 680.0, \"label_x\": 160.0, \"label_y\": 670.0, \"bigg_id\": \"CPD_2961_c\", \"name\": \"CPD_2961_c\", \"node_is_primary\": false}, \"8\": {\"node_type\": \"metabolite\", \"x\": 300.0, \"y\": 680.0, \"label_x\": 310.0, \"label_y\": 670.0, \"bigg_id\": \"NADP_c\", \"name\": \"NADP_c\", \"node_is_primary\": false}, \"9\": {\"node_type\": \"metabolite\", \"x\": 112.5, \"y\": 1200.0, \"label_x\": 122.5, \"label_y\": 1230.0, \"bigg_id\": \"CARBON_DIOXIDE_c\", \"name\": \"CARBON_DIOXIDE_c\", \"node_is_primary\": false}, \"10\": {\"node_type\": \"metabolite\", \"x\": 225.0, \"y\": 1200.0, \"label_x\": 235.0, \"label_y\": 1230.0, \"bigg_id\": \"NADPH_c\", \"name\": \"NADPH_c\", \"node_is_primary\": false}, \"11\": {\"node_type\": \"metabolite\", \"x\": 337.5, \"y\": 1200.0, \"label_x\": 347.5, \"label_y\": 1230.0, \"bigg_id\": \"RIBULOSE_5P_c\", \"name\": \"RIBULOSE_5P_c\", \"node_is_primary\": false}, \"12\": {\"node_type\": \"multimarker\", \"x\": 225.0, \"y\": 955.0}, \"13\": {\"node_type\": \"midmarker\", \"x\": 225.0, \"y\": 975.0}, \"14\": {\"node_type\": \"multimarker\", \"x\": 225.0, \"y\": 995.0}, \"15\": {\"node_type\": \"metabolite\", \"x\": 150.0, \"y\": 1330.0, \"label_x\": 160.0, \"label_y\": 1320.0, \"bigg_id\": \"CPD_15815_c\", \"name\": \"CPD_15815_c\", \"node_is_primary\": false}, \"16\": {\"node_type\": \"metabolite\", \"x\": 300.0, \"y\": 1330.0, \"label_x\": 310.0, \"label_y\": 1320.0, \"bigg_id\": \"D_6_P_GLUCONO_DELTA_LACTONE_c\", \"name\": \"D_6_P_GLUCONO_DELTA_LACTONE_c\", \"node_is_primary\": false}, \"17\": {\"node_type\": \"metabolite\", \"x\": 150.0, \"y\": 1850.0, \"label_x\": 160.0, \"label_y\": 1880.0, \"bigg_id\": \"CPD_2961_c\", \"name\": \"CPD_2961_c\", \"node_is_primary\": false}, \"18\": {\"node_type\": \"metabolite\", \"x\": 300.0, \"y\": 1850.0, \"label_x\": 310.0, \"label_y\": 1880.0, \"bigg_id\": \"PROTON_c\", \"name\": \"PROTON_c\", \"node_is_primary\": false}, \"19\": {\"node_type\": \"multimarker\", \"x\": 225.0, \"y\": 1605.0}, \"20\": {\"node_type\": \"midmarker\", \"x\": 225.0, \"y\": 1625.0}, \"21\": {\"node_type\": \"multimarker\", \"x\": 225.0, \"y\": 1645.0}, \"22\": {\"node_type\": \"metabolite\", \"x\": 150.0, \"y\": 1980.0, \"label_x\": 160.0, \"label_y\": 1970.0, \"bigg_id\": \"D_glucopyranose_6_phosphate_c\", \"name\": \"D_glucopyranose_6_phosphate_c\", \"node_is_primary\": false}, \"23\": {\"node_type\": \"metabolite\", \"x\": 300.0, \"y\": 1980.0, \"label_x\": 310.0, \"label_y\": 1970.0, \"bigg_id\": \"NADP_c\", \"name\": \"NADP_c\", \"node_is_primary\": false}, \"24\": {\"node_type\": \"metabolite\", \"x\": 112.5, \"y\": 2500.0, \"label_x\": 122.5, \"label_y\": 2530.0, \"bigg_id\": \"D_6_P_GLUCONO_DELTA_LACTONE_c\", \"name\": \"D_6_P_GLUCONO_DELTA_LACTONE_c\", \"node_is_primary\": false}, \"25\": {\"node_type\": \"metabolite\", \"x\": 225.0, \"y\": 2500.0, \"label_x\": 235.0, \"label_y\": 2530.0, \"bigg_id\": \"NADPH_c\", \"name\": \"NADPH_c\", \"node_is_primary\": false}, \"26\": {\"node_type\": \"metabolite\", \"x\": 337.5, \"y\": 2500.0, \"label_x\": 347.5, \"label_y\": 2530.0, \"bigg_id\": \"PROTON_c\", \"name\": \"PROTON_c\", \"node_is_primary\": false}, \"27\": {\"node_type\": \"multimarker\", \"x\": 225.0, \"y\": 2255.0}, \"28\": {\"node_type\": \"midmarker\", \"x\": 225.0, \"y\": 2275.0}, \"29\": {\"node_type\": \"multimarker\", \"x\": 225.0, \"y\": 2295.0}}, \"text_labels\": {}, \"canvas\": {\"x\": 0, \"y\": 0, \"width\": 450, \"height\": 2600}}]",
       "_loaded_model_json": null,
       "allow_building_duplicate_reactions": false,
       "and_method_in_gene_reaction_rule": "mean",
       "canvas_size_and_loc": null,
       "cofactors": [
        "atp",
        "adp",
        "nad",
        "nadh",
        "nadp",
        "nadph",
        "gtp",
        "gdp",
        "h",
        "coa",
        "ump",
        "h2o",
        "ppi"
       ],
       "disabled_buttons": [
        "Clear reaction data",
        "Clear gene data",
        "Clear metabolite data"
       ],
       "embedded_css": null,
       "enable_editing": true,
       "enable_keys": false,
       "enable_keys_with_tooltip": true,
       "enable_search": true,
       "enable_tooltips": false,
       "full_screen_button": {
        "enable_editing": true,
        "enable_keys": true,
        "enable_tooltips": [
         "label"
        ],
        "menu": "all",
        "scroll_behavior": "pan"
       },
       "gene_data": null,
       "gene_font_size": 18,
       "height": 500,
       "hide_all_labels": false,
       "hide_secondary_metabolites": false,
       "highlight_missing": false,
       "identifiers_on_map": "bigg_id",
       "layout": "IPY_MODEL_397bf36c28fd49d6b83641eed15d1bbc",
       "marker_radius": 5,
       "menu": "all",
       "metabolite_compare_style": "log2_fold",
       "metabolite_data": null,
       "metabolite_no_data_color": "#ffffff",
       "metabolite_no_data_size": 10,
       "metabolite_scale": [
        {
         "color": "#fffaf0",
         "size": 20,
         "type": "min"
        },
        {
         "color": "#f1c470",
         "size": 30,
         "type": "median"
        },
        {
         "color": "#800000",
         "size": 40,
         "type": "max"
        }
       ],
       "metabolite_scale_preset": "WhYlRd",
       "metabolite_styles": [
        "color",
        "size",
        "text"
       ],
       "never_ask_before_quit": true,
       "primary_metabolite_radius": 20,
       "reaction_compare_style": "log2_fold",
       "reaction_data": null,
       "reaction_no_data_color": "#dcdcdc",
       "reaction_no_data_size": 8,
       "reaction_scale": {},
       "reaction_scale_preset": null,
       "reaction_styles": [
        "color",
        "text"
       ],
       "scroll_behavior": "none",
       "secondary_metabolite_radius": 10,
       "semantic_zoom": null,
       "show_gene_reaction_rules": false,
       "starting_reaction": null,
       "use_3d_transform": false,
       "zoom_to_element": null
      }
     },
     "9000b985fd4e41eaaddaf1395f77fdb1": {
      "model_module": "escher",
      "model_module_version": "1.7.4",
      "model_name": "EscherMapModel",
      "state": {
       "_loaded_map_json": "[{\"map_name\": \"\", \"map_id\": \"\", \"map_description\": \"\", \"homepage\": \"\", \"schema\": \"https://escher.github.io/escher/jsonschema/1-0-0#\"}, {\"reactions\": {\"0\": {\"name\": \"GLCpts\", \"bigg_id\": \"GLCpts\", \"reversibility\": true, \"label_x\": 265.0, \"label_y\": 325.0, \"gene_reaction_rule\": \"\", \"genes\": [], \"segments\": {\"0\": {\"from_node_id\": \"4\", \"to_node_id\": \"5\", \"b1\": null, \"b2\": null}, \"1\": {\"from_node_id\": \"6\", \"to_node_id\": \"5\", \"b1\": null, \"b2\": null}, \"2\": {\"from_node_id\": \"0\", \"to_node_id\": \"4\", \"b1\": null, \"b2\": null}, \"3\": {\"from_node_id\": \"1\", \"to_node_id\": \"4\", \"b1\": null, \"b2\": null}, \"4\": {\"from_node_id\": \"2\", \"to_node_id\": \"6\", \"b1\": null, \"b2\": null}, \"5\": {\"from_node_id\": \"3\", \"to_node_id\": \"6\", \"b1\": null, \"b2\": null}}, \"metabolites\": [{\"bigg_id\": \"Glucopyranose_e\", \"coefficient\": -1.0}, {\"bigg_id\": \"PHOSPHO_ENOL_PYRUVATE_c\", \"coefficient\": -1.0}, {\"bigg_id\": \"D_glucopyranose_6_phosphate_c\", \"coefficient\": 1.0}, {\"bigg_id\": \"PYRUVATE_c\", \"coefficient\": 1.0}]}, \"1\": {\"name\": \"GND\", \"bigg_id\": \"GND\", \"reversibility\": true, \"label_x\": 265.0, \"label_y\": 975.0, \"gene_reaction_rule\": \"\", \"genes\": [], \"segments\": {\"6\": {\"from_node_id\": \"12\", \"to_node_id\": \"13\", \"b1\": null, \"b2\": null}, \"7\": {\"from_node_id\": \"14\", \"to_node_id\": \"13\", \"b1\": null, \"b2\": null}, \"8\": {\"from_node_id\": \"7\", \"to_node_id\": \"12\", \"b1\": null, \"b2\": null}, \"9\": {\"from_node_id\": \"8\", \"to_node_id\": \"12\", \"b1\": null, \"b2\": null}, \"10\": {\"from_node_id\": \"9\", \"to_node_id\": \"14\", \"b1\": null, \"b2\": null}, \"11\": {\"from_node_id\": \"10\", \"to_node_id\": \"14\", \"b1\": null, \"b2\": null}, \"12\": {\"from_node_id\": \"11\", \"to_node_id\": \"14\", \"b1\": null, \"b2\": null}}, \"metabolites\": [{\"bigg_id\": \"CPD_2961_c\", \"coefficient\": -1.0}, {\"bigg_id\": \"NADP_c\", \"coefficient\": -1.0}, {\"bigg_id\": \"CARBON_DIOXIDE_c\", \"coefficient\": 1.0}, {\"bigg_id\": \"NADPH_c\", \"coefficient\": 1.0}, {\"bigg_id\": \"RIBULOSE_5P_c\", \"coefficient\": 1.0}]}, \"2\": {\"name\": \"PGL\", \"bigg_id\": \"PGL\", \"reversibility\": true, \"label_x\": 265.0, \"label_y\": 1625.0, \"gene_reaction_rule\": \"\", \"genes\": [], \"segments\": {\"13\": {\"from_node_id\": \"19\", \"to_node_id\": \"20\", \"b1\": null, \"b2\": null}, \"14\": {\"from_node_id\": \"21\", \"to_node_id\": \"20\", \"b1\": null, \"b2\": null}, \"15\": {\"from_node_id\": \"15\", \"to_node_id\": \"19\", \"b1\": null, \"b2\": null}, \"16\": {\"from_node_id\": \"16\", \"to_node_id\": \"19\", \"b1\": null, \"b2\": null}, \"17\": {\"from_node_id\": \"17\", \"to_node_id\": \"21\", \"b1\": null, \"b2\": null}, \"18\": {\"from_node_id\": \"18\", \"to_node_id\": \"21\", \"b1\": null, \"b2\": null}}, \"metabolites\": [{\"bigg_id\": \"CPD_15815_c\", \"coefficient\": -1.0}, {\"bigg_id\": \"D_6_P_GLUCONO_DELTA_LACTONE_c\", \"coefficient\": -1.0}, {\"bigg_id\": \"CPD_2961_c\", \"coefficient\": 1.0}, {\"bigg_id\": \"PROTON_c\", \"coefficient\": 1.0}]}, \"3\": {\"name\": \"G6PDH2r\", \"bigg_id\": \"G6PDH2r\", \"reversibility\": true, \"label_x\": 265.0, \"label_y\": 2275.0, \"gene_reaction_rule\": \"\", \"genes\": [], \"segments\": {\"19\": {\"from_node_id\": \"27\", \"to_node_id\": \"28\", \"b1\": null, \"b2\": null}, \"20\": {\"from_node_id\": \"29\", \"to_node_id\": \"28\", \"b1\": null, \"b2\": null}, \"21\": {\"from_node_id\": \"22\", \"to_node_id\": \"27\", \"b1\": null, \"b2\": null}, \"22\": {\"from_node_id\": \"23\", \"to_node_id\": \"27\", \"b1\": null, \"b2\": null}, \"23\": {\"from_node_id\": \"24\", \"to_node_id\": \"29\", \"b1\": null, \"b2\": null}, \"24\": {\"from_node_id\": \"25\", \"to_node_id\": \"29\", \"b1\": null, \"b2\": null}, \"25\": {\"from_node_id\": \"26\", \"to_node_id\": \"29\", \"b1\": null, \"b2\": null}}, \"metabolites\": [{\"bigg_id\": \"D_glucopyranose_6_phosphate_c\", \"coefficient\": -1.0}, {\"bigg_id\": \"NADP_c\", \"coefficient\": -1.0}, {\"bigg_id\": \"D_6_P_GLUCONO_DELTA_LACTONE_c\", \"coefficient\": 1.0}, {\"bigg_id\": \"NADPH_c\", \"coefficient\": 1.0}, {\"bigg_id\": \"PROTON_c\", \"coefficient\": 1.0}]}}, \"nodes\": {\"0\": {\"node_type\": \"metabolite\", \"x\": 150.0, \"y\": 30.0, \"label_x\": 160.0, \"label_y\": 20.0, \"bigg_id\": \"Glucopyranose_e\", \"name\": \"Glucopyranose_e\", \"node_is_primary\": false}, \"1\": {\"node_type\": \"metabolite\", \"x\": 300.0, \"y\": 30.0, \"label_x\": 310.0, \"label_y\": 20.0, \"bigg_id\": \"PHOSPHO_ENOL_PYRUVATE_c\", \"name\": \"PHOSPHO_ENOL_PYRUVATE_c\", \"node_is_primary\": false}, \"2\": {\"node_type\": \"metabolite\", \"x\": 150.0, \"y\": 550.0, \"label_x\": 160.0, \"label_y\": 580.0, \"bigg_id\": \"D_glucopyranose_6_phosphate_c\", \"name\": \"D_glucopyranose_6_phosphate_c\", \"node_is_primary\": false}, \"3\": {\"node_type\": \"metabolite\", \"x\": 300.0, \"y\": 550.0, \"label_x\": 310.0, \"label_y\": 580.0, \"bigg_id\": \"PYRUVATE_c\", \"name\": \"PYRUVATE_c\", \"node_is_primary\": false}, \"4\": {\"node_type\": \"multimarker\", \"x\": 225.0, \"y\": 305.0}, \"5\": {\"node_type\": \"midmarker\", \"x\": 225.0, \"y\": 325.0}, \"6\": {\"node_type\": \"multimarker\", \"x\": 225.0, \"y\": 345.0}, \"7\": {\"node_type\": \"metabolite\", \"x\": 150.0, \"y\": 680.0, \"label_x\": 160.0, \"label_y\": 670.0, \"bigg_id\": \"CPD_2961_c\", \"name\": \"CPD_2961_c\", \"node_is_primary\": false}, \"8\": {\"node_type\": \"metabolite\", \"x\": 300.0, \"y\": 680.0, \"label_x\": 310.0, \"label_y\": 670.0, \"bigg_id\": \"NADP_c\", \"name\": \"NADP_c\", \"node_is_primary\": false}, \"9\": {\"node_type\": \"metabolite\", \"x\": 112.5, \"y\": 1200.0, \"label_x\": 122.5, \"label_y\": 1230.0, \"bigg_id\": \"CARBON_DIOXIDE_c\", \"name\": \"CARBON_DIOXIDE_c\", \"node_is_primary\": false}, \"10\": {\"node_type\": \"metabolite\", \"x\": 225.0, \"y\": 1200.0, \"label_x\": 235.0, \"label_y\": 1230.0, \"bigg_id\": \"NADPH_c\", \"name\": \"NADPH_c\", \"node_is_primary\": false}, \"11\": {\"node_type\": \"metabolite\", \"x\": 337.5, \"y\": 1200.0, \"label_x\": 347.5, \"label_y\": 1230.0, \"bigg_id\": \"RIBULOSE_5P_c\", \"name\": \"RIBULOSE_5P_c\", \"node_is_primary\": false}, \"12\": {\"node_type\": \"multimarker\", \"x\": 225.0, \"y\": 955.0}, \"13\": {\"node_type\": \"midmarker\", \"x\": 225.0, \"y\": 975.0}, \"14\": {\"node_type\": \"multimarker\", \"x\": 225.0, \"y\": 995.0}, \"15\": {\"node_type\": \"metabolite\", \"x\": 150.0, \"y\": 1330.0, \"label_x\": 160.0, \"label_y\": 1320.0, \"bigg_id\": \"CPD_15815_c\", \"name\": \"CPD_15815_c\", \"node_is_primary\": false}, \"16\": {\"node_type\": \"metabolite\", \"x\": 300.0, \"y\": 1330.0, \"label_x\": 310.0, \"label_y\": 1320.0, \"bigg_id\": \"D_6_P_GLUCONO_DELTA_LACTONE_c\", \"name\": \"D_6_P_GLUCONO_DELTA_LACTONE_c\", \"node_is_primary\": false}, \"17\": {\"node_type\": \"metabolite\", \"x\": 150.0, \"y\": 1850.0, \"label_x\": 160.0, \"label_y\": 1880.0, \"bigg_id\": \"CPD_2961_c\", \"name\": \"CPD_2961_c\", \"node_is_primary\": false}, \"18\": {\"node_type\": \"metabolite\", \"x\": 300.0, \"y\": 1850.0, \"label_x\": 310.0, \"label_y\": 1880.0, \"bigg_id\": \"PROTON_c\", \"name\": \"PROTON_c\", \"node_is_primary\": false}, \"19\": {\"node_type\": \"multimarker\", \"x\": 225.0, \"y\": 1605.0}, \"20\": {\"node_type\": \"midmarker\", \"x\": 225.0, \"y\": 1625.0}, \"21\": {\"node_type\": \"multimarker\", \"x\": 225.0, \"y\": 1645.0}, \"22\": {\"node_type\": \"metabolite\", \"x\": 150.0, \"y\": 1980.0, \"label_x\": 160.0, \"label_y\": 1970.0, \"bigg_id\": \"D_glucopyranose_6_phosphate_c\", \"name\": \"D_glucopyranose_6_phosphate_c\", \"node_is_primary\": false}, \"23\": {\"node_type\": \"metabolite\", \"x\": 300.0, \"y\": 1980.0, \"label_x\": 310.0, \"label_y\": 1970.0, \"bigg_id\": \"NADP_c\", \"name\": \"NADP_c\", \"node_is_primary\": false}, \"24\": {\"node_type\": \"metabolite\", \"x\": 112.5, \"y\": 2500.0, \"label_x\": 122.5, \"label_y\": 2530.0, \"bigg_id\": \"D_6_P_GLUCONO_DELTA_LACTONE_c\", \"name\": \"D_6_P_GLUCONO_DELTA_LACTONE_c\", \"node_is_primary\": false}, \"25\": {\"node_type\": \"metabolite\", \"x\": 225.0, \"y\": 2500.0, \"label_x\": 235.0, \"label_y\": 2530.0, \"bigg_id\": \"NADPH_c\", \"name\": \"NADPH_c\", \"node_is_primary\": false}, \"26\": {\"node_type\": \"metabolite\", \"x\": 337.5, \"y\": 2500.0, \"label_x\": 347.5, \"label_y\": 2530.0, \"bigg_id\": \"PROTON_c\", \"name\": \"PROTON_c\", \"node_is_primary\": false}, \"27\": {\"node_type\": \"multimarker\", \"x\": 225.0, \"y\": 2255.0}, \"28\": {\"node_type\": \"midmarker\", \"x\": 225.0, \"y\": 2275.0}, \"29\": {\"node_type\": \"multimarker\", \"x\": 225.0, \"y\": 2295.0}}, \"text_labels\": {}, \"canvas\": {\"x\": 0, \"y\": 0, \"width\": 450, \"height\": 2600}}]",
       "_loaded_model_json": null,
       "allow_building_duplicate_reactions": false,
       "and_method_in_gene_reaction_rule": "mean",
       "canvas_size_and_loc": null,
       "cofactors": [
        "atp",
        "adp",
        "nad",
        "nadh",
        "nadp",
        "nadph",
        "gtp",
        "gdp",
        "h",
        "coa",
        "ump",
        "h2o",
        "ppi"
       ],
       "disabled_buttons": [
        "Clear gene data",
        "Clear metabolite data"
       ],
       "embedded_css": null,
       "enable_editing": true,
       "enable_keys": false,
       "enable_keys_with_tooltip": true,
       "enable_search": true,
       "enable_tooltips": false,
       "full_screen_button": {
        "enable_editing": true,
        "enable_keys": true,
        "enable_tooltips": [
         "label"
        ],
        "menu": "all",
        "scroll_behavior": "pan"
       },
       "gene_data": null,
       "gene_font_size": 18,
       "height": 500,
       "hide_all_labels": false,
       "hide_secondary_metabolites": false,
       "highlight_missing": false,
       "identifiers_on_map": "bigg_id",
       "layout": "IPY_MODEL_621524f43de04818927a2208bddbc8ff",
       "marker_radius": 5,
       "menu": "all",
       "metabolite_compare_style": "log2_fold",
       "metabolite_data": null,
       "metabolite_no_data_color": "#ffffff",
       "metabolite_no_data_size": 10,
       "metabolite_scale": [
        {
         "color": "#fffaf0",
         "size": 20,
         "type": "min"
        },
        {
         "color": "#f1c470",
         "size": 30,
         "type": "median"
        },
        {
         "color": "#800000",
         "size": 40,
         "type": "max"
        }
       ],
       "metabolite_scale_preset": "WhYlRd",
       "metabolite_styles": [
        "color",
        "size",
        "text"
       ],
       "never_ask_before_quit": true,
       "primary_metabolite_radius": 20,
       "reaction_compare_style": "log2_fold",
       "reaction_data": {
        "G6PDH2r": -2,
        "GLCpts": -2,
        "GND": 1,
        "Other": 1000,
        "PGL": 0.4
       },
       "reaction_no_data_color": "#dcdcdc",
       "reaction_no_data_size": 8,
       "reaction_scale": [
        {
         "color": "rgb(191,215,230)",
         "type": "value",
         "value": 0.4
        },
        {
         "color": "rgb(163,210,240)",
         "type": "value",
         "value": 1
        },
        {
         "color": "rgb(135,205,250)",
         "type": "value",
         "value": 1000
        },
        {
         "color": "rgb(220,220,220)",
         "type": "value",
         "value": 0
        },
        {
         "color": "rgb(237,192,110)",
         "type": "value",
         "value": -2
        },
        {
         "color": "rgb(255,165,0)",
         "type": "value",
         "value": -2
        }
       ],
       "reaction_scale_preset": null,
       "reaction_styles": [
        "color",
        "text"
       ],
       "scroll_behavior": "none",
       "secondary_metabolite_radius": 10,
       "semantic_zoom": null,
       "show_gene_reaction_rules": false,
       "starting_reaction": null,
       "use_3d_transform": false,
       "zoom_to_element": null
      }
     },
     "90acfc554fd9403db12d026d0b919ab7": {
      "model_module": "escher",
      "model_module_version": "1.7.4",
      "model_name": "EscherMapModel",
      "state": {
       "_loaded_map_json": "[{\"map_name\": \"\", \"map_id\": \"\", \"map_description\": \"\", \"homepage\": \"\", \"schema\": \"https://escher.github.io/escher/jsonschema/1-0-0#\"}, {\"reactions\": {\"0\": {\"name\": \"GLCpts\", \"bigg_id\": \"GLCpts\", \"reversibility\": true, \"label_x\": 265.0, \"label_y\": 325.0, \"gene_reaction_rule\": \"\", \"genes\": [], \"segments\": {\"0\": {\"from_node_id\": \"4\", \"to_node_id\": \"5\", \"b1\": null, \"b2\": null}, \"1\": {\"from_node_id\": \"6\", \"to_node_id\": \"5\", \"b1\": null, \"b2\": null}, \"2\": {\"from_node_id\": \"0\", \"to_node_id\": \"4\", \"b1\": null, \"b2\": null}, \"3\": {\"from_node_id\": \"1\", \"to_node_id\": \"4\", \"b1\": null, \"b2\": null}, \"4\": {\"from_node_id\": \"2\", \"to_node_id\": \"6\", \"b1\": null, \"b2\": null}, \"5\": {\"from_node_id\": \"3\", \"to_node_id\": \"6\", \"b1\": null, \"b2\": null}}, \"metabolites\": [{\"bigg_id\": \"Glucopyranose_e\", \"coefficient\": -1.0}, {\"bigg_id\": \"PHOSPHO_ENOL_PYRUVATE_c\", \"coefficient\": -1.0}, {\"bigg_id\": \"D_glucopyranose_6_phosphate_c\", \"coefficient\": 1.0}, {\"bigg_id\": \"PYRUVATE_c\", \"coefficient\": 1.0}]}, \"1\": {\"name\": \"G6PDH2r\", \"bigg_id\": \"G6PDH2r\", \"reversibility\": true, \"label_x\": 265.0, \"label_y\": 975.0, \"gene_reaction_rule\": \"\", \"genes\": [], \"segments\": {\"6\": {\"from_node_id\": \"11\", \"to_node_id\": \"12\", \"b1\": null, \"b2\": null}, \"7\": {\"from_node_id\": \"13\", \"to_node_id\": \"12\", \"b1\": null, \"b2\": null}, \"8\": {\"from_node_id\": \"2\", \"to_node_id\": \"11\", \"b1\": null, \"b2\": null}, \"9\": {\"from_node_id\": \"7\", \"to_node_id\": \"11\", \"b1\": null, \"b2\": null}, \"10\": {\"from_node_id\": \"8\", \"to_node_id\": \"13\", \"b1\": null, \"b2\": null}, \"11\": {\"from_node_id\": \"9\", \"to_node_id\": \"13\", \"b1\": null, \"b2\": null}, \"12\": {\"from_node_id\": \"10\", \"to_node_id\": \"13\", \"b1\": null, \"b2\": null}}, \"metabolites\": [{\"bigg_id\": \"D_glucopyranose_6_phosphate_c\", \"coefficient\": -1.0}, {\"bigg_id\": \"NADP_c\", \"coefficient\": -1.0}, {\"bigg_id\": \"D_6_P_GLUCONO_DELTA_LACTONE_c\", \"coefficient\": 1.0}, {\"bigg_id\": \"NADPH_c\", \"coefficient\": 1.0}, {\"bigg_id\": \"PROTON_c\", \"coefficient\": 1.0}]}, \"2\": {\"name\": \"PGL\", \"bigg_id\": \"PGL\", \"reversibility\": true, \"label_x\": 265.0, \"label_y\": 1625.0, \"gene_reaction_rule\": \"\", \"genes\": [], \"segments\": {\"13\": {\"from_node_id\": \"17\", \"to_node_id\": \"18\", \"b1\": null, \"b2\": null}, \"14\": {\"from_node_id\": \"19\", \"to_node_id\": \"18\", \"b1\": null, \"b2\": null}, \"15\": {\"from_node_id\": \"14\", \"to_node_id\": \"17\", \"b1\": null, \"b2\": null}, \"16\": {\"from_node_id\": \"8\", \"to_node_id\": \"17\", \"b1\": null, \"b2\": null}, \"17\": {\"from_node_id\": \"15\", \"to_node_id\": \"19\", \"b1\": null, \"b2\": null}, \"18\": {\"from_node_id\": \"16\", \"to_node_id\": \"19\", \"b1\": null, \"b2\": null}}, \"metabolites\": [{\"bigg_id\": \"CPD_15815_c\", \"coefficient\": -1.0}, {\"bigg_id\": \"D_6_P_GLUCONO_DELTA_LACTONE_c\", \"coefficient\": -1.0}, {\"bigg_id\": \"CPD_2961_c\", \"coefficient\": 1.0}, {\"bigg_id\": \"PROTON_c\", \"coefficient\": 1.0}]}, \"3\": {\"name\": \"GND\", \"bigg_id\": \"GND\", \"reversibility\": true, \"label_x\": 265.0, \"label_y\": 2275.0, \"gene_reaction_rule\": \"\", \"genes\": [], \"segments\": {\"19\": {\"from_node_id\": \"24\", \"to_node_id\": \"25\", \"b1\": null, \"b2\": null}, \"20\": {\"from_node_id\": \"26\", \"to_node_id\": \"25\", \"b1\": null, \"b2\": null}, \"21\": {\"from_node_id\": \"15\", \"to_node_id\": \"24\", \"b1\": null, \"b2\": null}, \"22\": {\"from_node_id\": \"20\", \"to_node_id\": \"24\", \"b1\": null, \"b2\": null}, \"23\": {\"from_node_id\": \"21\", \"to_node_id\": \"26\", \"b1\": null, \"b2\": null}, \"24\": {\"from_node_id\": \"22\", \"to_node_id\": \"26\", \"b1\": null, \"b2\": null}, \"25\": {\"from_node_id\": \"23\", \"to_node_id\": \"26\", \"b1\": null, \"b2\": null}}, \"metabolites\": [{\"bigg_id\": \"CPD_2961_c\", \"coefficient\": -1.0}, {\"bigg_id\": \"NADP_c\", \"coefficient\": -1.0}, {\"bigg_id\": \"CARBON_DIOXIDE_c\", \"coefficient\": 1.0}, {\"bigg_id\": \"NADPH_c\", \"coefficient\": 1.0}, {\"bigg_id\": \"RIBULOSE_5P_c\", \"coefficient\": 1.0}]}}, \"nodes\": {\"0\": {\"node_type\": \"metabolite\", \"x\": 150.0, \"y\": 30.0, \"label_x\": 160.0, \"label_y\": 20.0, \"bigg_id\": \"Glucopyranose_e\", \"name\": \"Glucopyranose_e\", \"node_is_primary\": false}, \"1\": {\"node_type\": \"metabolite\", \"x\": 300.0, \"y\": 30.0, \"label_x\": 310.0, \"label_y\": 20.0, \"bigg_id\": \"PHOSPHO_ENOL_PYRUVATE_c\", \"name\": \"PHOSPHO_ENOL_PYRUVATE_c\", \"node_is_primary\": false}, \"2\": {\"node_type\": \"metabolite\", \"x\": 150.0, \"y\": 550.0, \"label_x\": 160.0, \"label_y\": 580.0, \"bigg_id\": \"D_glucopyranose_6_phosphate_c\", \"name\": \"D_glucopyranose_6_phosphate_c\", \"node_is_primary\": false}, \"3\": {\"node_type\": \"metabolite\", \"x\": 300.0, \"y\": 550.0, \"label_x\": 310.0, \"label_y\": 580.0, \"bigg_id\": \"PYRUVATE_c\", \"name\": \"PYRUVATE_c\", \"node_is_primary\": false}, \"4\": {\"node_type\": \"multimarker\", \"x\": 225.0, \"y\": 305.0}, \"5\": {\"node_type\": \"midmarker\", \"x\": 225.0, \"y\": 325.0}, \"6\": {\"node_type\": \"multimarker\", \"x\": 225.0, \"y\": 345.0}, \"7\": {\"node_type\": \"metabolite\", \"x\": 300.0, \"y\": 680.0, \"label_x\": 310.0, \"label_y\": 670.0, \"bigg_id\": \"NADP_c\", \"name\": \"NADP_c\", \"node_is_primary\": false}, \"8\": {\"node_type\": \"metabolite\", \"x\": 112.5, \"y\": 1200.0, \"label_x\": 122.5, \"label_y\": 1230.0, \"bigg_id\": \"D_6_P_GLUCONO_DELTA_LACTONE_c\", \"name\": \"D_6_P_GLUCONO_DELTA_LACTONE_c\", \"node_is_primary\": false}, \"9\": {\"node_type\": \"metabolite\", \"x\": 225.0, \"y\": 1200.0, \"label_x\": 235.0, \"label_y\": 1230.0, \"bigg_id\": \"NADPH_c\", \"name\": \"NADPH_c\", \"node_is_primary\": false}, \"10\": {\"node_type\": \"metabolite\", \"x\": 337.5, \"y\": 1200.0, \"label_x\": 347.5, \"label_y\": 1230.0, \"bigg_id\": \"PROTON_c\", \"name\": \"PROTON_c\", \"node_is_primary\": false}, \"11\": {\"node_type\": \"multimarker\", \"x\": 225.0, \"y\": 955.0}, \"12\": {\"node_type\": \"midmarker\", \"x\": 225.0, \"y\": 975.0}, \"13\": {\"node_type\": \"multimarker\", \"x\": 225.0, \"y\": 995.0}, \"14\": {\"node_type\": \"metabolite\", \"x\": 150.0, \"y\": 1330.0, \"label_x\": 160.0, \"label_y\": 1320.0, \"bigg_id\": \"CPD_15815_c\", \"name\": \"CPD_15815_c\", \"node_is_primary\": false}, \"15\": {\"node_type\": \"metabolite\", \"x\": 150.0, \"y\": 1850.0, \"label_x\": 160.0, \"label_y\": 1880.0, \"bigg_id\": \"CPD_2961_c\", \"name\": \"CPD_2961_c\", \"node_is_primary\": false}, \"16\": {\"node_type\": \"metabolite\", \"x\": 300.0, \"y\": 1850.0, \"label_x\": 310.0, \"label_y\": 1880.0, \"bigg_id\": \"PROTON_c\", \"name\": \"PROTON_c\", \"node_is_primary\": false}, \"17\": {\"node_type\": \"multimarker\", \"x\": 225.0, \"y\": 1605.0}, \"18\": {\"node_type\": \"midmarker\", \"x\": 225.0, \"y\": 1625.0}, \"19\": {\"node_type\": \"multimarker\", \"x\": 225.0, \"y\": 1645.0}, \"20\": {\"node_type\": \"metabolite\", \"x\": 300.0, \"y\": 1980.0, \"label_x\": 310.0, \"label_y\": 1970.0, \"bigg_id\": \"NADP_c\", \"name\": \"NADP_c\", \"node_is_primary\": false}, \"21\": {\"node_type\": \"metabolite\", \"x\": 112.5, \"y\": 2500.0, \"label_x\": 122.5, \"label_y\": 2530.0, \"bigg_id\": \"CARBON_DIOXIDE_c\", \"name\": \"CARBON_DIOXIDE_c\", \"node_is_primary\": false}, \"22\": {\"node_type\": \"metabolite\", \"x\": 225.0, \"y\": 2500.0, \"label_x\": 235.0, \"label_y\": 2530.0, \"bigg_id\": \"NADPH_c\", \"name\": \"NADPH_c\", \"node_is_primary\": false}, \"23\": {\"node_type\": \"metabolite\", \"x\": 337.5, \"y\": 2500.0, \"label_x\": 347.5, \"label_y\": 2530.0, \"bigg_id\": \"RIBULOSE_5P_c\", \"name\": \"RIBULOSE_5P_c\", \"node_is_primary\": false}, \"24\": {\"node_type\": \"multimarker\", \"x\": 225.0, \"y\": 2255.0}, \"25\": {\"node_type\": \"midmarker\", \"x\": 225.0, \"y\": 2275.0}, \"26\": {\"node_type\": \"multimarker\", \"x\": 225.0, \"y\": 2295.0}}, \"text_labels\": {}, \"canvas\": {\"x\": 0, \"y\": 0, \"width\": 450, \"height\": 2600}}]",
       "_loaded_model_json": null,
       "allow_building_duplicate_reactions": false,
       "and_method_in_gene_reaction_rule": "mean",
       "canvas_size_and_loc": null,
       "cofactors": [
        "atp",
        "adp",
        "nad",
        "nadh",
        "nadp",
        "nadph",
        "gtp",
        "gdp",
        "h",
        "coa",
        "ump",
        "h2o",
        "ppi"
       ],
       "disabled_buttons": [
        "Clear gene data",
        "Clear metabolite data"
       ],
       "embedded_css": null,
       "enable_editing": true,
       "enable_keys": false,
       "enable_keys_with_tooltip": true,
       "enable_search": true,
       "enable_tooltips": false,
       "full_screen_button": {
        "enable_editing": true,
        "enable_keys": true,
        "enable_tooltips": [
         "label"
        ],
        "menu": "all",
        "scroll_behavior": "pan"
       },
       "gene_data": null,
       "gene_font_size": 18,
       "height": 500,
       "hide_all_labels": false,
       "hide_secondary_metabolites": false,
       "highlight_missing": false,
       "identifiers_on_map": "bigg_id",
       "layout": "IPY_MODEL_08e9467ba6cf4814a7cac84f5a484915",
       "marker_radius": 5,
       "menu": "all",
       "metabolite_compare_style": "log2_fold",
       "metabolite_data": null,
       "metabolite_no_data_color": "#ffffff",
       "metabolite_no_data_size": 10,
       "metabolite_scale": [
        {
         "color": "#fffaf0",
         "size": 20,
         "type": "min"
        },
        {
         "color": "#f1c470",
         "size": 30,
         "type": "median"
        },
        {
         "color": "#800000",
         "size": 40,
         "type": "max"
        }
       ],
       "metabolite_scale_preset": "WhYlRd",
       "metabolite_styles": [
        "color",
        "size",
        "text"
       ],
       "never_ask_before_quit": true,
       "primary_metabolite_radius": 20,
       "reaction_compare_style": "log2_fold",
       "reaction_data": {
        "G6PDH2r": -2,
        "GLCpts": -2,
        "GND": 1,
        "Other": 1000,
        "PGL": 0.4
       },
       "reaction_no_data_color": "#dcdcdc",
       "reaction_no_data_size": 8,
       "reaction_scale": [
        {
         "color": "rgb(191,215,230)",
         "type": "value",
         "value": 333.3333333333333
        },
        {
         "color": "rgb(163,210,240)",
         "type": "value",
         "value": 666.6666666666667
        },
        {
         "color": "rgb(135,205,250)",
         "type": "value",
         "value": 1000
        },
        {
         "color": "rgb(220,220,220)",
         "type": "value",
         "value": 0
        },
        {
         "color": "rgb(237,192,110)",
         "type": "value",
         "value": -1
        },
        {
         "color": "rgb(255,165,0)",
         "type": "value",
         "value": -2
        }
       ],
       "reaction_scale_preset": null,
       "reaction_styles": [
        "color",
        "text"
       ],
       "scroll_behavior": "none",
       "secondary_metabolite_radius": 10,
       "semantic_zoom": null,
       "show_gene_reaction_rules": false,
       "starting_reaction": null,
       "use_3d_transform": false,
       "zoom_to_element": null
      }
     },
     "94d7151847474859b3292822569e99eb": {
      "model_module": "@jupyter-widgets/base",
      "model_module_version": "1.2.0",
      "model_name": "LayoutModel",
      "state": {}
     },
     "95d14f26682543169a9887ae74274aa8": {
      "model_module": "escher",
      "model_module_version": "1.7.4",
      "model_name": "EscherMapModel",
      "state": {
       "_loaded_map_json": "[{\"map_name\": \"\", \"map_id\": \"\", \"map_description\": \"\", \"homepage\": \"\", \"schema\": \"https://escher.github.io/escher/jsonschema/1-0-0#\"}, {\"reactions\": {\"0\": {\"name\": \"PGL\", \"bigg_id\": \"PGL\", \"reversibility\": true, \"label_x\": 265.0, \"label_y\": 325.0, \"gene_reaction_rule\": \"\", \"genes\": [], \"segments\": {\"0\": {\"from_node_id\": \"4\", \"to_node_id\": \"5\", \"b1\": null, \"b2\": null}, \"1\": {\"from_node_id\": \"6\", \"to_node_id\": \"5\", \"b1\": null, \"b2\": null}, \"2\": {\"from_node_id\": \"0\", \"to_node_id\": \"4\", \"b1\": null, \"b2\": null}, \"3\": {\"from_node_id\": \"1\", \"to_node_id\": \"4\", \"b1\": null, \"b2\": null}, \"4\": {\"from_node_id\": \"2\", \"to_node_id\": \"6\", \"b1\": null, \"b2\": null}, \"5\": {\"from_node_id\": \"3\", \"to_node_id\": \"6\", \"b1\": null, \"b2\": null}}, \"metabolites\": [{\"bigg_id\": \"CPD_15815_c\", \"coefficient\": -1.0}, {\"bigg_id\": \"D_6_P_GLUCONO_DELTA_LACTONE_c\", \"coefficient\": -1.0}, {\"bigg_id\": \"CPD_2961_c\", \"coefficient\": 1.0}, {\"bigg_id\": \"PROTON_c\", \"coefficient\": 1.0}]}, \"1\": {\"name\": \"GLCpts\", \"bigg_id\": \"GLCpts\", \"reversibility\": true, \"label_x\": 265.0, \"label_y\": 975.0, \"gene_reaction_rule\": \"\", \"genes\": [], \"segments\": {\"6\": {\"from_node_id\": \"11\", \"to_node_id\": \"12\", \"b1\": null, \"b2\": null}, \"7\": {\"from_node_id\": \"13\", \"to_node_id\": \"12\", \"b1\": null, \"b2\": null}, \"8\": {\"from_node_id\": \"7\", \"to_node_id\": \"11\", \"b1\": null, \"b2\": null}, \"9\": {\"from_node_id\": \"8\", \"to_node_id\": \"11\", \"b1\": null, \"b2\": null}, \"10\": {\"from_node_id\": \"9\", \"to_node_id\": \"13\", \"b1\": null, \"b2\": null}, \"11\": {\"from_node_id\": \"10\", \"to_node_id\": \"13\", \"b1\": null, \"b2\": null}}, \"metabolites\": [{\"bigg_id\": \"Glucopyranose_e\", \"coefficient\": -1.0}, {\"bigg_id\": \"PHOSPHO_ENOL_PYRUVATE_c\", \"coefficient\": -1.0}, {\"bigg_id\": \"D_glucopyranose_6_phosphate_c\", \"coefficient\": 1.0}, {\"bigg_id\": \"PYRUVATE_c\", \"coefficient\": 1.0}]}, \"2\": {\"name\": \"GND\", \"bigg_id\": \"GND\", \"reversibility\": true, \"label_x\": 265.0, \"label_y\": 1625.0, \"gene_reaction_rule\": \"\", \"genes\": [], \"segments\": {\"12\": {\"from_node_id\": \"19\", \"to_node_id\": \"20\", \"b1\": null, \"b2\": null}, \"13\": {\"from_node_id\": \"21\", \"to_node_id\": \"20\", \"b1\": null, \"b2\": null}, \"14\": {\"from_node_id\": \"14\", \"to_node_id\": \"19\", \"b1\": null, \"b2\": null}, \"15\": {\"from_node_id\": \"15\", \"to_node_id\": \"19\", \"b1\": null, \"b2\": null}, \"16\": {\"from_node_id\": \"16\", \"to_node_id\": \"21\", \"b1\": null, \"b2\": null}, \"17\": {\"from_node_id\": \"17\", \"to_node_id\": \"21\", \"b1\": null, \"b2\": null}, \"18\": {\"from_node_id\": \"18\", \"to_node_id\": \"21\", \"b1\": null, \"b2\": null}}, \"metabolites\": [{\"bigg_id\": \"CPD_2961_c\", \"coefficient\": -1.0}, {\"bigg_id\": \"NADP_c\", \"coefficient\": -1.0}, {\"bigg_id\": \"CARBON_DIOXIDE_c\", \"coefficient\": 1.0}, {\"bigg_id\": \"NADPH_c\", \"coefficient\": 1.0}, {\"bigg_id\": \"RIBULOSE_5P_c\", \"coefficient\": 1.0}]}, \"3\": {\"name\": \"G6PDH2r\", \"bigg_id\": \"G6PDH2r\", \"reversibility\": true, \"label_x\": 265.0, \"label_y\": 2275.0, \"gene_reaction_rule\": \"\", \"genes\": [], \"segments\": {\"19\": {\"from_node_id\": \"27\", \"to_node_id\": \"28\", \"b1\": null, \"b2\": null}, \"20\": {\"from_node_id\": \"29\", \"to_node_id\": \"28\", \"b1\": null, \"b2\": null}, \"21\": {\"from_node_id\": \"22\", \"to_node_id\": \"27\", \"b1\": null, \"b2\": null}, \"22\": {\"from_node_id\": \"23\", \"to_node_id\": \"27\", \"b1\": null, \"b2\": null}, \"23\": {\"from_node_id\": \"24\", \"to_node_id\": \"29\", \"b1\": null, \"b2\": null}, \"24\": {\"from_node_id\": \"25\", \"to_node_id\": \"29\", \"b1\": null, \"b2\": null}, \"25\": {\"from_node_id\": \"26\", \"to_node_id\": \"29\", \"b1\": null, \"b2\": null}}, \"metabolites\": [{\"bigg_id\": \"D_glucopyranose_6_phosphate_c\", \"coefficient\": -1.0}, {\"bigg_id\": \"NADP_c\", \"coefficient\": -1.0}, {\"bigg_id\": \"D_6_P_GLUCONO_DELTA_LACTONE_c\", \"coefficient\": 1.0}, {\"bigg_id\": \"NADPH_c\", \"coefficient\": 1.0}, {\"bigg_id\": \"PROTON_c\", \"coefficient\": 1.0}]}}, \"nodes\": {\"0\": {\"node_type\": \"metabolite\", \"x\": 150.0, \"y\": 30.0, \"label_x\": 160.0, \"label_y\": 20.0, \"bigg_id\": \"CPD_15815_c\", \"name\": \"CPD_15815_c\", \"node_is_primary\": false}, \"1\": {\"node_type\": \"metabolite\", \"x\": 300.0, \"y\": 30.0, \"label_x\": 310.0, \"label_y\": 20.0, \"bigg_id\": \"D_6_P_GLUCONO_DELTA_LACTONE_c\", \"name\": \"D_6_P_GLUCONO_DELTA_LACTONE_c\", \"node_is_primary\": false}, \"2\": {\"node_type\": \"metabolite\", \"x\": 150.0, \"y\": 550.0, \"label_x\": 160.0, \"label_y\": 580.0, \"bigg_id\": \"CPD_2961_c\", \"name\": \"CPD_2961_c\", \"node_is_primary\": false}, \"3\": {\"node_type\": \"metabolite\", \"x\": 300.0, \"y\": 550.0, \"label_x\": 310.0, \"label_y\": 580.0, \"bigg_id\": \"PROTON_c\", \"name\": \"PROTON_c\", \"node_is_primary\": false}, \"4\": {\"node_type\": \"multimarker\", \"x\": 225.0, \"y\": 305.0}, \"5\": {\"node_type\": \"midmarker\", \"x\": 225.0, \"y\": 325.0}, \"6\": {\"node_type\": \"multimarker\", \"x\": 225.0, \"y\": 345.0}, \"7\": {\"node_type\": \"metabolite\", \"x\": 150.0, \"y\": 680.0, \"label_x\": 160.0, \"label_y\": 670.0, \"bigg_id\": \"Glucopyranose_e\", \"name\": \"Glucopyranose_e\", \"node_is_primary\": false}, \"8\": {\"node_type\": \"metabolite\", \"x\": 300.0, \"y\": 680.0, \"label_x\": 310.0, \"label_y\": 670.0, \"bigg_id\": \"PHOSPHO_ENOL_PYRUVATE_c\", \"name\": \"PHOSPHO_ENOL_PYRUVATE_c\", \"node_is_primary\": false}, \"9\": {\"node_type\": \"metabolite\", \"x\": 150.0, \"y\": 1200.0, \"label_x\": 160.0, \"label_y\": 1230.0, \"bigg_id\": \"D_glucopyranose_6_phosphate_c\", \"name\": \"D_glucopyranose_6_phosphate_c\", \"node_is_primary\": false}, \"10\": {\"node_type\": \"metabolite\", \"x\": 300.0, \"y\": 1200.0, \"label_x\": 310.0, \"label_y\": 1230.0, \"bigg_id\": \"PYRUVATE_c\", \"name\": \"PYRUVATE_c\", \"node_is_primary\": false}, \"11\": {\"node_type\": \"multimarker\", \"x\": 225.0, \"y\": 955.0}, \"12\": {\"node_type\": \"midmarker\", \"x\": 225.0, \"y\": 975.0}, \"13\": {\"node_type\": \"multimarker\", \"x\": 225.0, \"y\": 995.0}, \"14\": {\"node_type\": \"metabolite\", \"x\": 150.0, \"y\": 1330.0, \"label_x\": 160.0, \"label_y\": 1320.0, \"bigg_id\": \"CPD_2961_c\", \"name\": \"CPD_2961_c\", \"node_is_primary\": false}, \"15\": {\"node_type\": \"metabolite\", \"x\": 300.0, \"y\": 1330.0, \"label_x\": 310.0, \"label_y\": 1320.0, \"bigg_id\": \"NADP_c\", \"name\": \"NADP_c\", \"node_is_primary\": false}, \"16\": {\"node_type\": \"metabolite\", \"x\": 112.5, \"y\": 1850.0, \"label_x\": 122.5, \"label_y\": 1880.0, \"bigg_id\": \"CARBON_DIOXIDE_c\", \"name\": \"CARBON_DIOXIDE_c\", \"node_is_primary\": false}, \"17\": {\"node_type\": \"metabolite\", \"x\": 225.0, \"y\": 1850.0, \"label_x\": 235.0, \"label_y\": 1880.0, \"bigg_id\": \"NADPH_c\", \"name\": \"NADPH_c\", \"node_is_primary\": false}, \"18\": {\"node_type\": \"metabolite\", \"x\": 337.5, \"y\": 1850.0, \"label_x\": 347.5, \"label_y\": 1880.0, \"bigg_id\": \"RIBULOSE_5P_c\", \"name\": \"RIBULOSE_5P_c\", \"node_is_primary\": false}, \"19\": {\"node_type\": \"multimarker\", \"x\": 225.0, \"y\": 1605.0}, \"20\": {\"node_type\": \"midmarker\", \"x\": 225.0, \"y\": 1625.0}, \"21\": {\"node_type\": \"multimarker\", \"x\": 225.0, \"y\": 1645.0}, \"22\": {\"node_type\": \"metabolite\", \"x\": 150.0, \"y\": 1980.0, \"label_x\": 160.0, \"label_y\": 1970.0, \"bigg_id\": \"D_glucopyranose_6_phosphate_c\", \"name\": \"D_glucopyranose_6_phosphate_c\", \"node_is_primary\": false}, \"23\": {\"node_type\": \"metabolite\", \"x\": 300.0, \"y\": 1980.0, \"label_x\": 310.0, \"label_y\": 1970.0, \"bigg_id\": \"NADP_c\", \"name\": \"NADP_c\", \"node_is_primary\": false}, \"24\": {\"node_type\": \"metabolite\", \"x\": 112.5, \"y\": 2500.0, \"label_x\": 122.5, \"label_y\": 2530.0, \"bigg_id\": \"D_6_P_GLUCONO_DELTA_LACTONE_c\", \"name\": \"D_6_P_GLUCONO_DELTA_LACTONE_c\", \"node_is_primary\": false}, \"25\": {\"node_type\": \"metabolite\", \"x\": 225.0, \"y\": 2500.0, \"label_x\": 235.0, \"label_y\": 2530.0, \"bigg_id\": \"NADPH_c\", \"name\": \"NADPH_c\", \"node_is_primary\": false}, \"26\": {\"node_type\": \"metabolite\", \"x\": 337.5, \"y\": 2500.0, \"label_x\": 347.5, \"label_y\": 2530.0, \"bigg_id\": \"PROTON_c\", \"name\": \"PROTON_c\", \"node_is_primary\": false}, \"27\": {\"node_type\": \"multimarker\", \"x\": 225.0, \"y\": 2255.0}, \"28\": {\"node_type\": \"midmarker\", \"x\": 225.0, \"y\": 2275.0}, \"29\": {\"node_type\": \"multimarker\", \"x\": 225.0, \"y\": 2295.0}}, \"text_labels\": {}, \"canvas\": {\"x\": 0, \"y\": 0, \"width\": 450, \"height\": 2600}}]",
       "_loaded_model_json": null,
       "allow_building_duplicate_reactions": false,
       "and_method_in_gene_reaction_rule": "mean",
       "canvas_size_and_loc": null,
       "cofactors": [
        "atp",
        "adp",
        "nad",
        "nadh",
        "nadp",
        "nadph",
        "gtp",
        "gdp",
        "h",
        "coa",
        "ump",
        "h2o",
        "ppi"
       ],
       "disabled_buttons": [
        "Clear gene data",
        "Clear metabolite data"
       ],
       "embedded_css": null,
       "enable_editing": true,
       "enable_keys": false,
       "enable_keys_with_tooltip": true,
       "enable_search": true,
       "enable_tooltips": false,
       "full_screen_button": {
        "enable_editing": true,
        "enable_keys": true,
        "enable_tooltips": [
         "label"
        ],
        "menu": "all",
        "scroll_behavior": "pan"
       },
       "gene_data": null,
       "gene_font_size": 18,
       "height": 500,
       "hide_all_labels": false,
       "hide_secondary_metabolites": false,
       "highlight_missing": false,
       "identifiers_on_map": "bigg_id",
       "layout": "IPY_MODEL_6cb69db1dbdc4a2d9d44a2522afb001d",
       "marker_radius": 5,
       "menu": "all",
       "metabolite_compare_style": "log2_fold",
       "metabolite_data": null,
       "metabolite_no_data_color": "#ffffff",
       "metabolite_no_data_size": 10,
       "metabolite_scale": [
        {
         "color": "#fffaf0",
         "size": 20,
         "type": "min"
        },
        {
         "color": "#f1c470",
         "size": 30,
         "type": "median"
        },
        {
         "color": "#800000",
         "size": 40,
         "type": "max"
        }
       ],
       "metabolite_scale_preset": "WhYlRd",
       "metabolite_styles": [
        "color",
        "size",
        "text"
       ],
       "never_ask_before_quit": true,
       "primary_metabolite_radius": 20,
       "reaction_compare_style": "log2_fold",
       "reaction_data": {
        "G6PDH2r": -2,
        "GLCpts": -2,
        "GND": 1,
        "PGL": 0.4
       },
       "reaction_no_data_color": "#dcdcdc",
       "reaction_no_data_size": 8,
       "reaction_scale": [
        {
         "color": "rgb(146,189,146)",
         "type": "value",
         "value": 3.3333333333333335
        },
        {
         "color": "rgb(73,158,73)",
         "type": "value",
         "value": 6.666666666666666
        },
        {
         "color": "rgb(0,127,0)",
         "type": "value",
         "value": 10
        },
        {
         "color": "rgb(220,220,220)",
         "type": "value",
         "value": 0
        },
        {
         "color": "rgb(231,146,146)",
         "type": "value",
         "value": -3.3333333333333335
        },
        {
         "color": "rgb(243,73,73)",
         "type": "value",
         "value": -6.666666666666666
        },
        {
         "color": "rgb(255,0,0)",
         "type": "value",
         "value": -10
        }
       ],
       "reaction_scale_preset": null,
       "reaction_styles": [
        "color",
        "text"
       ],
       "scroll_behavior": "none",
       "secondary_metabolite_radius": 10,
       "semantic_zoom": null,
       "show_gene_reaction_rules": false,
       "starting_reaction": null,
       "use_3d_transform": false,
       "zoom_to_element": null
      }
     },
     "961531ff15f84626af34b093a23c9165": {
      "model_module": "escher",
      "model_module_version": "1.7.4",
      "model_name": "EscherMapModel",
      "state": {
       "_loaded_map_json": "[{\"map_name\": \"\", \"map_id\": \"\", \"map_description\": \"\", \"homepage\": \"\", \"schema\": \"https://escher.github.io/escher/jsonschema/1-0-0#\"}, {\"reactions\": {\"0\": {\"name\": \"PGL\", \"bigg_id\": \"PGL\", \"reversibility\": true, \"label_x\": 265.0, \"label_y\": 325.0, \"gene_reaction_rule\": \"\", \"genes\": [], \"segments\": {\"0\": {\"from_node_id\": \"4\", \"to_node_id\": \"5\", \"b1\": null, \"b2\": null}, \"1\": {\"from_node_id\": \"6\", \"to_node_id\": \"5\", \"b1\": null, \"b2\": null}, \"2\": {\"from_node_id\": \"0\", \"to_node_id\": \"4\", \"b1\": null, \"b2\": null}, \"3\": {\"from_node_id\": \"1\", \"to_node_id\": \"4\", \"b1\": null, \"b2\": null}, \"4\": {\"from_node_id\": \"2\", \"to_node_id\": \"6\", \"b1\": null, \"b2\": null}, \"5\": {\"from_node_id\": \"3\", \"to_node_id\": \"6\", \"b1\": null, \"b2\": null}}, \"metabolites\": [{\"bigg_id\": \"CPD_15815_c\", \"coefficient\": -1.0}, {\"bigg_id\": \"D_6_P_GLUCONO_DELTA_LACTONE_c\", \"coefficient\": -1.0}, {\"bigg_id\": \"CPD_2961_c\", \"coefficient\": 1.0}, {\"bigg_id\": \"PROTON_c\", \"coefficient\": 1.0}]}, \"1\": {\"name\": \"GND\", \"bigg_id\": \"GND\", \"reversibility\": true, \"label_x\": 265.0, \"label_y\": 975.0, \"gene_reaction_rule\": \"\", \"genes\": [], \"segments\": {\"6\": {\"from_node_id\": \"11\", \"to_node_id\": \"12\", \"b1\": null, \"b2\": null}, \"7\": {\"from_node_id\": \"13\", \"to_node_id\": \"12\", \"b1\": null, \"b2\": null}, \"8\": {\"from_node_id\": \"2\", \"to_node_id\": \"11\", \"b1\": null, \"b2\": null}, \"9\": {\"from_node_id\": \"7\", \"to_node_id\": \"11\", \"b1\": null, \"b2\": null}, \"10\": {\"from_node_id\": \"8\", \"to_node_id\": \"13\", \"b1\": null, \"b2\": null}, \"11\": {\"from_node_id\": \"9\", \"to_node_id\": \"13\", \"b1\": null, \"b2\": null}, \"12\": {\"from_node_id\": \"10\", \"to_node_id\": \"13\", \"b1\": null, \"b2\": null}}, \"metabolites\": [{\"bigg_id\": \"CPD_2961_c\", \"coefficient\": -1.0}, {\"bigg_id\": \"NADP_c\", \"coefficient\": -1.0}, {\"bigg_id\": \"CARBON_DIOXIDE_c\", \"coefficient\": 1.0}, {\"bigg_id\": \"NADPH_c\", \"coefficient\": 1.0}, {\"bigg_id\": \"RIBULOSE_5P_c\", \"coefficient\": 1.0}]}, \"2\": {\"name\": \"GLCpts\", \"bigg_id\": \"GLCpts\", \"reversibility\": true, \"label_x\": 265.0, \"label_y\": 1625.0, \"gene_reaction_rule\": \"\", \"genes\": [], \"segments\": {\"13\": {\"from_node_id\": \"18\", \"to_node_id\": \"19\", \"b1\": null, \"b2\": null}, \"14\": {\"from_node_id\": \"20\", \"to_node_id\": \"19\", \"b1\": null, \"b2\": null}, \"15\": {\"from_node_id\": \"14\", \"to_node_id\": \"18\", \"b1\": null, \"b2\": null}, \"16\": {\"from_node_id\": \"15\", \"to_node_id\": \"18\", \"b1\": null, \"b2\": null}, \"17\": {\"from_node_id\": \"16\", \"to_node_id\": \"20\", \"b1\": null, \"b2\": null}, \"18\": {\"from_node_id\": \"17\", \"to_node_id\": \"20\", \"b1\": null, \"b2\": null}}, \"metabolites\": [{\"bigg_id\": \"Glucopyranose_e\", \"coefficient\": -1.0}, {\"bigg_id\": \"PHOSPHO_ENOL_PYRUVATE_c\", \"coefficient\": -1.0}, {\"bigg_id\": \"D_glucopyranose_6_phosphate_c\", \"coefficient\": 1.0}, {\"bigg_id\": \"PYRUVATE_c\", \"coefficient\": 1.0}]}, \"3\": {\"name\": \"G6PDH2r\", \"bigg_id\": \"G6PDH2r\", \"reversibility\": true, \"label_x\": 265.0, \"label_y\": 2275.0, \"gene_reaction_rule\": \"\", \"genes\": [], \"segments\": {\"19\": {\"from_node_id\": \"25\", \"to_node_id\": \"26\", \"b1\": null, \"b2\": null}, \"20\": {\"from_node_id\": \"27\", \"to_node_id\": \"26\", \"b1\": null, \"b2\": null}, \"21\": {\"from_node_id\": \"16\", \"to_node_id\": \"25\", \"b1\": null, \"b2\": null}, \"22\": {\"from_node_id\": \"21\", \"to_node_id\": \"25\", \"b1\": null, \"b2\": null}, \"23\": {\"from_node_id\": \"22\", \"to_node_id\": \"27\", \"b1\": null, \"b2\": null}, \"24\": {\"from_node_id\": \"23\", \"to_node_id\": \"27\", \"b1\": null, \"b2\": null}, \"25\": {\"from_node_id\": \"24\", \"to_node_id\": \"27\", \"b1\": null, \"b2\": null}}, \"metabolites\": [{\"bigg_id\": \"D_glucopyranose_6_phosphate_c\", \"coefficient\": -1.0}, {\"bigg_id\": \"NADP_c\", \"coefficient\": -1.0}, {\"bigg_id\": \"D_6_P_GLUCONO_DELTA_LACTONE_c\", \"coefficient\": 1.0}, {\"bigg_id\": \"NADPH_c\", \"coefficient\": 1.0}, {\"bigg_id\": \"PROTON_c\", \"coefficient\": 1.0}]}}, \"nodes\": {\"0\": {\"node_type\": \"metabolite\", \"x\": 150.0, \"y\": 30.0, \"label_x\": 160.0, \"label_y\": 20.0, \"bigg_id\": \"CPD_15815_c\", \"name\": \"CPD_15815_c\", \"node_is_primary\": false}, \"1\": {\"node_type\": \"metabolite\", \"x\": 300.0, \"y\": 30.0, \"label_x\": 310.0, \"label_y\": 20.0, \"bigg_id\": \"D_6_P_GLUCONO_DELTA_LACTONE_c\", \"name\": \"D_6_P_GLUCONO_DELTA_LACTONE_c\", \"node_is_primary\": false}, \"2\": {\"node_type\": \"metabolite\", \"x\": 150.0, \"y\": 550.0, \"label_x\": 160.0, \"label_y\": 580.0, \"bigg_id\": \"CPD_2961_c\", \"name\": \"CPD_2961_c\", \"node_is_primary\": false}, \"3\": {\"node_type\": \"metabolite\", \"x\": 300.0, \"y\": 550.0, \"label_x\": 310.0, \"label_y\": 580.0, \"bigg_id\": \"PROTON_c\", \"name\": \"PROTON_c\", \"node_is_primary\": false}, \"4\": {\"node_type\": \"multimarker\", \"x\": 225.0, \"y\": 305.0}, \"5\": {\"node_type\": \"midmarker\", \"x\": 225.0, \"y\": 325.0}, \"6\": {\"node_type\": \"multimarker\", \"x\": 225.0, \"y\": 345.0}, \"7\": {\"node_type\": \"metabolite\", \"x\": 300.0, \"y\": 680.0, \"label_x\": 310.0, \"label_y\": 670.0, \"bigg_id\": \"NADP_c\", \"name\": \"NADP_c\", \"node_is_primary\": false}, \"8\": {\"node_type\": \"metabolite\", \"x\": 112.5, \"y\": 1200.0, \"label_x\": 122.5, \"label_y\": 1230.0, \"bigg_id\": \"CARBON_DIOXIDE_c\", \"name\": \"CARBON_DIOXIDE_c\", \"node_is_primary\": false}, \"9\": {\"node_type\": \"metabolite\", \"x\": 225.0, \"y\": 1200.0, \"label_x\": 235.0, \"label_y\": 1230.0, \"bigg_id\": \"NADPH_c\", \"name\": \"NADPH_c\", \"node_is_primary\": false}, \"10\": {\"node_type\": \"metabolite\", \"x\": 337.5, \"y\": 1200.0, \"label_x\": 347.5, \"label_y\": 1230.0, \"bigg_id\": \"RIBULOSE_5P_c\", \"name\": \"RIBULOSE_5P_c\", \"node_is_primary\": false}, \"11\": {\"node_type\": \"multimarker\", \"x\": 225.0, \"y\": 955.0}, \"12\": {\"node_type\": \"midmarker\", \"x\": 225.0, \"y\": 975.0}, \"13\": {\"node_type\": \"multimarker\", \"x\": 225.0, \"y\": 995.0}, \"14\": {\"node_type\": \"metabolite\", \"x\": 150.0, \"y\": 1330.0, \"label_x\": 160.0, \"label_y\": 1320.0, \"bigg_id\": \"Glucopyranose_e\", \"name\": \"Glucopyranose_e\", \"node_is_primary\": false}, \"15\": {\"node_type\": \"metabolite\", \"x\": 300.0, \"y\": 1330.0, \"label_x\": 310.0, \"label_y\": 1320.0, \"bigg_id\": \"PHOSPHO_ENOL_PYRUVATE_c\", \"name\": \"PHOSPHO_ENOL_PYRUVATE_c\", \"node_is_primary\": false}, \"16\": {\"node_type\": \"metabolite\", \"x\": 150.0, \"y\": 1850.0, \"label_x\": 160.0, \"label_y\": 1880.0, \"bigg_id\": \"D_glucopyranose_6_phosphate_c\", \"name\": \"D_glucopyranose_6_phosphate_c\", \"node_is_primary\": false}, \"17\": {\"node_type\": \"metabolite\", \"x\": 300.0, \"y\": 1850.0, \"label_x\": 310.0, \"label_y\": 1880.0, \"bigg_id\": \"PYRUVATE_c\", \"name\": \"PYRUVATE_c\", \"node_is_primary\": false}, \"18\": {\"node_type\": \"multimarker\", \"x\": 225.0, \"y\": 1605.0}, \"19\": {\"node_type\": \"midmarker\", \"x\": 225.0, \"y\": 1625.0}, \"20\": {\"node_type\": \"multimarker\", \"x\": 225.0, \"y\": 1645.0}, \"21\": {\"node_type\": \"metabolite\", \"x\": 300.0, \"y\": 1980.0, \"label_x\": 310.0, \"label_y\": 1970.0, \"bigg_id\": \"NADP_c\", \"name\": \"NADP_c\", \"node_is_primary\": false}, \"22\": {\"node_type\": \"metabolite\", \"x\": 112.5, \"y\": 2500.0, \"label_x\": 122.5, \"label_y\": 2530.0, \"bigg_id\": \"D_6_P_GLUCONO_DELTA_LACTONE_c\", \"name\": \"D_6_P_GLUCONO_DELTA_LACTONE_c\", \"node_is_primary\": false}, \"23\": {\"node_type\": \"metabolite\", \"x\": 225.0, \"y\": 2500.0, \"label_x\": 235.0, \"label_y\": 2530.0, \"bigg_id\": \"NADPH_c\", \"name\": \"NADPH_c\", \"node_is_primary\": false}, \"24\": {\"node_type\": \"metabolite\", \"x\": 337.5, \"y\": 2500.0, \"label_x\": 347.5, \"label_y\": 2530.0, \"bigg_id\": \"PROTON_c\", \"name\": \"PROTON_c\", \"node_is_primary\": false}, \"25\": {\"node_type\": \"multimarker\", \"x\": 225.0, \"y\": 2255.0}, \"26\": {\"node_type\": \"midmarker\", \"x\": 225.0, \"y\": 2275.0}, \"27\": {\"node_type\": \"multimarker\", \"x\": 225.0, \"y\": 2295.0}}, \"text_labels\": {}, \"canvas\": {\"x\": 0, \"y\": 0, \"width\": 450, \"height\": 2600}}]",
       "_loaded_model_json": null,
       "allow_building_duplicate_reactions": false,
       "and_method_in_gene_reaction_rule": "mean",
       "canvas_size_and_loc": null,
       "cofactors": [
        "atp",
        "adp",
        "nad",
        "nadh",
        "nadp",
        "nadph",
        "gtp",
        "gdp",
        "h",
        "coa",
        "ump",
        "h2o",
        "ppi"
       ],
       "disabled_buttons": [
        "Clear gene data",
        "Clear metabolite data"
       ],
       "embedded_css": null,
       "enable_editing": true,
       "enable_keys": false,
       "enable_keys_with_tooltip": true,
       "enable_search": true,
       "enable_tooltips": false,
       "full_screen_button": {
        "enable_editing": true,
        "enable_keys": true,
        "enable_tooltips": [
         "label"
        ],
        "menu": "all",
        "scroll_behavior": "pan"
       },
       "gene_data": null,
       "gene_font_size": 18,
       "height": 500,
       "hide_all_labels": false,
       "hide_secondary_metabolites": false,
       "highlight_missing": false,
       "identifiers_on_map": "bigg_id",
       "layout": "IPY_MODEL_94d7151847474859b3292822569e99eb",
       "marker_radius": 5,
       "menu": "all",
       "metabolite_compare_style": "log2_fold",
       "metabolite_data": null,
       "metabolite_no_data_color": "#ffffff",
       "metabolite_no_data_size": 10,
       "metabolite_scale": [
        {
         "color": "#fffaf0",
         "size": 20,
         "type": "min"
        },
        {
         "color": "#f1c470",
         "size": 30,
         "type": "median"
        },
        {
         "color": "#800000",
         "size": 40,
         "type": "max"
        }
       ],
       "metabolite_scale_preset": "WhYlRd",
       "metabolite_styles": [
        "color",
        "size",
        "text"
       ],
       "never_ask_before_quit": true,
       "primary_metabolite_radius": 20,
       "reaction_compare_style": "log2_fold",
       "reaction_data": {
        "G6PDH2r": -2,
        "GLCpts": -2,
        "GND": 1,
        "PGL": 0.4
       },
       "reaction_no_data_color": "#dcdcdc",
       "reaction_no_data_size": 8,
       "reaction_scale": [
        {
         "color": "rgb(110,174,110)",
         "type": "value",
         "value": 0.5
        },
        {
         "color": "rgb(0,128,0)",
         "type": "value",
         "value": 1
        },
        {
         "color": "rgb(220,220,220)",
         "type": "value",
         "value": 0
        },
        {
         "color": "rgb(237,110,110)",
         "type": "value",
         "value": -1
        },
        {
         "color": "rgb(255,0,0)",
         "type": "value",
         "value": -2
        }
       ],
       "reaction_scale_preset": null,
       "reaction_styles": [
        "color",
        "text"
       ],
       "scroll_behavior": "none",
       "secondary_metabolite_radius": 10,
       "semantic_zoom": null,
       "show_gene_reaction_rules": false,
       "starting_reaction": null,
       "use_3d_transform": false,
       "zoom_to_element": null
      }
     },
     "9b0b334d73094ef7a3446baa6c37a223": {
      "model_module": "escher",
      "model_module_version": "1.7.4",
      "model_name": "EscherMapModel",
      "state": {
       "_loaded_map_json": "[{\"map_name\": \"\", \"map_id\": \"\", \"map_description\": \"\", \"homepage\": \"\", \"schema\": \"https://escher.github.io/escher/jsonschema/1-0-0#\"}, {\"reactions\": {\"0\": {\"name\": \"GLCpts\", \"bigg_id\": \"GLCpts\", \"reversibility\": true, \"label_x\": 265.0, \"label_y\": 325.0, \"gene_reaction_rule\": \"\", \"genes\": [], \"segments\": {\"0\": {\"from_node_id\": \"4\", \"to_node_id\": \"5\", \"b1\": null, \"b2\": null}, \"1\": {\"from_node_id\": \"6\", \"to_node_id\": \"5\", \"b1\": null, \"b2\": null}, \"2\": {\"from_node_id\": \"0\", \"to_node_id\": \"4\", \"b1\": null, \"b2\": null}, \"3\": {\"from_node_id\": \"1\", \"to_node_id\": \"4\", \"b1\": null, \"b2\": null}, \"4\": {\"from_node_id\": \"2\", \"to_node_id\": \"6\", \"b1\": null, \"b2\": null}, \"5\": {\"from_node_id\": \"3\", \"to_node_id\": \"6\", \"b1\": null, \"b2\": null}}, \"metabolites\": [{\"bigg_id\": \"Glucopyranose_e\", \"coefficient\": -1.0}, {\"bigg_id\": \"PHOSPHO_ENOL_PYRUVATE_c\", \"coefficient\": -1.0}, {\"bigg_id\": \"D_glucopyranose_6_phosphate_c\", \"coefficient\": 1.0}, {\"bigg_id\": \"PYRUVATE_c\", \"coefficient\": 1.0}]}, \"1\": {\"name\": \"G6PDH2r\", \"bigg_id\": \"G6PDH2r\", \"reversibility\": true, \"label_x\": 265.0, \"label_y\": 975.0, \"gene_reaction_rule\": \"\", \"genes\": [], \"segments\": {\"6\": {\"from_node_id\": \"11\", \"to_node_id\": \"12\", \"b1\": null, \"b2\": null}, \"7\": {\"from_node_id\": \"13\", \"to_node_id\": \"12\", \"b1\": null, \"b2\": null}, \"8\": {\"from_node_id\": \"2\", \"to_node_id\": \"11\", \"b1\": null, \"b2\": null}, \"9\": {\"from_node_id\": \"7\", \"to_node_id\": \"11\", \"b1\": null, \"b2\": null}, \"10\": {\"from_node_id\": \"8\", \"to_node_id\": \"13\", \"b1\": null, \"b2\": null}, \"11\": {\"from_node_id\": \"9\", \"to_node_id\": \"13\", \"b1\": null, \"b2\": null}, \"12\": {\"from_node_id\": \"10\", \"to_node_id\": \"13\", \"b1\": null, \"b2\": null}}, \"metabolites\": [{\"bigg_id\": \"D_glucopyranose_6_phosphate_c\", \"coefficient\": -1.0}, {\"bigg_id\": \"NADP_c\", \"coefficient\": -1.0}, {\"bigg_id\": \"D_6_P_GLUCONO_DELTA_LACTONE_c\", \"coefficient\": 1.0}, {\"bigg_id\": \"NADPH_c\", \"coefficient\": 1.0}, {\"bigg_id\": \"PROTON_c\", \"coefficient\": 1.0}]}, \"2\": {\"name\": \"PGL\", \"bigg_id\": \"PGL\", \"reversibility\": true, \"label_x\": 265.0, \"label_y\": 1625.0, \"gene_reaction_rule\": \"\", \"genes\": [], \"segments\": {\"13\": {\"from_node_id\": \"17\", \"to_node_id\": \"18\", \"b1\": null, \"b2\": null}, \"14\": {\"from_node_id\": \"19\", \"to_node_id\": \"18\", \"b1\": null, \"b2\": null}, \"15\": {\"from_node_id\": \"14\", \"to_node_id\": \"17\", \"b1\": null, \"b2\": null}, \"16\": {\"from_node_id\": \"8\", \"to_node_id\": \"17\", \"b1\": null, \"b2\": null}, \"17\": {\"from_node_id\": \"15\", \"to_node_id\": \"19\", \"b1\": null, \"b2\": null}, \"18\": {\"from_node_id\": \"16\", \"to_node_id\": \"19\", \"b1\": null, \"b2\": null}}, \"metabolites\": [{\"bigg_id\": \"CPD_15815_c\", \"coefficient\": -1.0}, {\"bigg_id\": \"D_6_P_GLUCONO_DELTA_LACTONE_c\", \"coefficient\": -1.0}, {\"bigg_id\": \"CPD_2961_c\", \"coefficient\": 1.0}, {\"bigg_id\": \"PROTON_c\", \"coefficient\": 1.0}]}, \"3\": {\"name\": \"GND\", \"bigg_id\": \"GND\", \"reversibility\": true, \"label_x\": 265.0, \"label_y\": 2275.0, \"gene_reaction_rule\": \"\", \"genes\": [], \"segments\": {\"19\": {\"from_node_id\": \"24\", \"to_node_id\": \"25\", \"b1\": null, \"b2\": null}, \"20\": {\"from_node_id\": \"26\", \"to_node_id\": \"25\", \"b1\": null, \"b2\": null}, \"21\": {\"from_node_id\": \"15\", \"to_node_id\": \"24\", \"b1\": null, \"b2\": null}, \"22\": {\"from_node_id\": \"20\", \"to_node_id\": \"24\", \"b1\": null, \"b2\": null}, \"23\": {\"from_node_id\": \"21\", \"to_node_id\": \"26\", \"b1\": null, \"b2\": null}, \"24\": {\"from_node_id\": \"22\", \"to_node_id\": \"26\", \"b1\": null, \"b2\": null}, \"25\": {\"from_node_id\": \"23\", \"to_node_id\": \"26\", \"b1\": null, \"b2\": null}}, \"metabolites\": [{\"bigg_id\": \"CPD_2961_c\", \"coefficient\": -1.0}, {\"bigg_id\": \"NADP_c\", \"coefficient\": -1.0}, {\"bigg_id\": \"CARBON_DIOXIDE_c\", \"coefficient\": 1.0}, {\"bigg_id\": \"NADPH_c\", \"coefficient\": 1.0}, {\"bigg_id\": \"RIBULOSE_5P_c\", \"coefficient\": 1.0}]}}, \"nodes\": {\"0\": {\"node_type\": \"metabolite\", \"x\": 150.0, \"y\": 30.0, \"label_x\": 160.0, \"label_y\": 20.0, \"bigg_id\": \"Glucopyranose_e\", \"name\": \"Glucopyranose_e\", \"node_is_primary\": false}, \"1\": {\"node_type\": \"metabolite\", \"x\": 300.0, \"y\": 30.0, \"label_x\": 310.0, \"label_y\": 20.0, \"bigg_id\": \"PHOSPHO_ENOL_PYRUVATE_c\", \"name\": \"PHOSPHO_ENOL_PYRUVATE_c\", \"node_is_primary\": false}, \"2\": {\"node_type\": \"metabolite\", \"x\": 150.0, \"y\": 550.0, \"label_x\": 160.0, \"label_y\": 580.0, \"bigg_id\": \"D_glucopyranose_6_phosphate_c\", \"name\": \"D_glucopyranose_6_phosphate_c\", \"node_is_primary\": false}, \"3\": {\"node_type\": \"metabolite\", \"x\": 300.0, \"y\": 550.0, \"label_x\": 310.0, \"label_y\": 580.0, \"bigg_id\": \"PYRUVATE_c\", \"name\": \"PYRUVATE_c\", \"node_is_primary\": false}, \"4\": {\"node_type\": \"multimarker\", \"x\": 225.0, \"y\": 305.0}, \"5\": {\"node_type\": \"midmarker\", \"x\": 225.0, \"y\": 325.0}, \"6\": {\"node_type\": \"multimarker\", \"x\": 225.0, \"y\": 345.0}, \"7\": {\"node_type\": \"metabolite\", \"x\": 300.0, \"y\": 680.0, \"label_x\": 310.0, \"label_y\": 670.0, \"bigg_id\": \"NADP_c\", \"name\": \"NADP_c\", \"node_is_primary\": false}, \"8\": {\"node_type\": \"metabolite\", \"x\": 112.5, \"y\": 1200.0, \"label_x\": 122.5, \"label_y\": 1230.0, \"bigg_id\": \"D_6_P_GLUCONO_DELTA_LACTONE_c\", \"name\": \"D_6_P_GLUCONO_DELTA_LACTONE_c\", \"node_is_primary\": false}, \"9\": {\"node_type\": \"metabolite\", \"x\": 225.0, \"y\": 1200.0, \"label_x\": 235.0, \"label_y\": 1230.0, \"bigg_id\": \"NADPH_c\", \"name\": \"NADPH_c\", \"node_is_primary\": false}, \"10\": {\"node_type\": \"metabolite\", \"x\": 337.5, \"y\": 1200.0, \"label_x\": 347.5, \"label_y\": 1230.0, \"bigg_id\": \"PROTON_c\", \"name\": \"PROTON_c\", \"node_is_primary\": false}, \"11\": {\"node_type\": \"multimarker\", \"x\": 225.0, \"y\": 955.0}, \"12\": {\"node_type\": \"midmarker\", \"x\": 225.0, \"y\": 975.0}, \"13\": {\"node_type\": \"multimarker\", \"x\": 225.0, \"y\": 995.0}, \"14\": {\"node_type\": \"metabolite\", \"x\": 150.0, \"y\": 1330.0, \"label_x\": 160.0, \"label_y\": 1320.0, \"bigg_id\": \"CPD_15815_c\", \"name\": \"CPD_15815_c\", \"node_is_primary\": false}, \"15\": {\"node_type\": \"metabolite\", \"x\": 150.0, \"y\": 1850.0, \"label_x\": 160.0, \"label_y\": 1880.0, \"bigg_id\": \"CPD_2961_c\", \"name\": \"CPD_2961_c\", \"node_is_primary\": false}, \"16\": {\"node_type\": \"metabolite\", \"x\": 300.0, \"y\": 1850.0, \"label_x\": 310.0, \"label_y\": 1880.0, \"bigg_id\": \"PROTON_c\", \"name\": \"PROTON_c\", \"node_is_primary\": false}, \"17\": {\"node_type\": \"multimarker\", \"x\": 225.0, \"y\": 1605.0}, \"18\": {\"node_type\": \"midmarker\", \"x\": 225.0, \"y\": 1625.0}, \"19\": {\"node_type\": \"multimarker\", \"x\": 225.0, \"y\": 1645.0}, \"20\": {\"node_type\": \"metabolite\", \"x\": 300.0, \"y\": 1980.0, \"label_x\": 310.0, \"label_y\": 1970.0, \"bigg_id\": \"NADP_c\", \"name\": \"NADP_c\", \"node_is_primary\": false}, \"21\": {\"node_type\": \"metabolite\", \"x\": 112.5, \"y\": 2500.0, \"label_x\": 122.5, \"label_y\": 2530.0, \"bigg_id\": \"CARBON_DIOXIDE_c\", \"name\": \"CARBON_DIOXIDE_c\", \"node_is_primary\": false}, \"22\": {\"node_type\": \"metabolite\", \"x\": 225.0, \"y\": 2500.0, \"label_x\": 235.0, \"label_y\": 2530.0, \"bigg_id\": \"NADPH_c\", \"name\": \"NADPH_c\", \"node_is_primary\": false}, \"23\": {\"node_type\": \"metabolite\", \"x\": 337.5, \"y\": 2500.0, \"label_x\": 347.5, \"label_y\": 2530.0, \"bigg_id\": \"RIBULOSE_5P_c\", \"name\": \"RIBULOSE_5P_c\", \"node_is_primary\": false}, \"24\": {\"node_type\": \"multimarker\", \"x\": 225.0, \"y\": 2255.0}, \"25\": {\"node_type\": \"midmarker\", \"x\": 225.0, \"y\": 2275.0}, \"26\": {\"node_type\": \"multimarker\", \"x\": 225.0, \"y\": 2295.0}}, \"text_labels\": {}, \"canvas\": {\"x\": 0, \"y\": 0, \"width\": 450, \"height\": 2600}}]",
       "_loaded_model_json": null,
       "allow_building_duplicate_reactions": false,
       "and_method_in_gene_reaction_rule": "mean",
       "canvas_size_and_loc": null,
       "cofactors": [
        "atp",
        "adp",
        "nad",
        "nadh",
        "nadp",
        "nadph",
        "gtp",
        "gdp",
        "h",
        "coa",
        "ump",
        "h2o",
        "ppi"
       ],
       "disabled_buttons": [
        "Clear gene data",
        "Clear metabolite data"
       ],
       "embedded_css": null,
       "enable_editing": true,
       "enable_keys": false,
       "enable_keys_with_tooltip": true,
       "enable_search": true,
       "enable_tooltips": false,
       "full_screen_button": {
        "enable_editing": true,
        "enable_keys": true,
        "enable_tooltips": [
         "label"
        ],
        "menu": "all",
        "scroll_behavior": "pan"
       },
       "gene_data": null,
       "gene_font_size": 18,
       "height": 500,
       "hide_all_labels": false,
       "hide_secondary_metabolites": false,
       "highlight_missing": false,
       "identifiers_on_map": "bigg_id",
       "layout": "IPY_MODEL_d4238cfd3cd149db8062c8075a14d7e4",
       "marker_radius": 5,
       "menu": "all",
       "metabolite_compare_style": "log2_fold",
       "metabolite_data": null,
       "metabolite_no_data_color": "#ffffff",
       "metabolite_no_data_size": 10,
       "metabolite_scale": [
        {
         "color": "#fffaf0",
         "size": 20,
         "type": "min"
        },
        {
         "color": "#f1c470",
         "size": 30,
         "type": "median"
        },
        {
         "color": "#800000",
         "size": 40,
         "type": "max"
        }
       ],
       "metabolite_scale_preset": "WhYlRd",
       "metabolite_styles": [
        "color",
        "size",
        "text"
       ],
       "never_ask_before_quit": true,
       "primary_metabolite_radius": 20,
       "reaction_compare_style": "log2_fold",
       "reaction_data": {
        "G6PDH2r": -2,
        "GLCpts": -2,
        "GND": 1,
        "PGL": 0.4
       },
       "reaction_no_data_color": "#dcdcdc",
       "reaction_no_data_size": 8,
       "reaction_scale": [
        {
         "color": "rgb(110,174,110)",
         "type": "value",
         "value": 0.5
        },
        {
         "color": "rgb(0,128,0)",
         "type": "value",
         "value": 1
        },
        {
         "color": "rgb(220,220,220)",
         "type": "value",
         "value": 0
        },
        {
         "color": "rgb(237,110,110)",
         "type": "value",
         "value": -1
        },
        {
         "color": "rgb(255,0,0)",
         "type": "value",
         "value": -2
        }
       ],
       "reaction_scale_preset": null,
       "reaction_styles": [
        "color",
        "text"
       ],
       "scroll_behavior": "none",
       "secondary_metabolite_radius": 10,
       "semantic_zoom": null,
       "show_gene_reaction_rules": false,
       "starting_reaction": null,
       "use_3d_transform": false,
       "zoom_to_element": null
      }
     },
     "9d6ec52dcb4d442a8c8b948801beb918": {
      "model_module": "escher",
      "model_module_version": "1.7.4",
      "model_name": "EscherMapModel",
      "state": {
       "_loaded_map_json": "[{\"map_name\": \"\", \"map_id\": \"\", \"map_description\": \"\", \"homepage\": \"\", \"schema\": \"https://escher.github.io/escher/jsonschema/1-0-0#\"}, {\"reactions\": {\"0\": {\"name\": \"PGL\", \"bigg_id\": \"PGL\", \"reversibility\": true, \"label_x\": 265.0, \"label_y\": 325.0, \"gene_reaction_rule\": \"\", \"genes\": [], \"segments\": {\"0\": {\"from_node_id\": \"4\", \"to_node_id\": \"5\", \"b1\": null, \"b2\": null}, \"1\": {\"from_node_id\": \"6\", \"to_node_id\": \"5\", \"b1\": null, \"b2\": null}, \"2\": {\"from_node_id\": \"0\", \"to_node_id\": \"4\", \"b1\": null, \"b2\": null}, \"3\": {\"from_node_id\": \"1\", \"to_node_id\": \"4\", \"b1\": null, \"b2\": null}, \"4\": {\"from_node_id\": \"2\", \"to_node_id\": \"6\", \"b1\": null, \"b2\": null}, \"5\": {\"from_node_id\": \"3\", \"to_node_id\": \"6\", \"b1\": null, \"b2\": null}}, \"metabolites\": [{\"bigg_id\": \"CPD_15815_c\", \"coefficient\": -1.0}, {\"bigg_id\": \"D_6_P_GLUCONO_DELTA_LACTONE_c\", \"coefficient\": -1.0}, {\"bigg_id\": \"CPD_2961_c\", \"coefficient\": 1.0}, {\"bigg_id\": \"PROTON_c\", \"coefficient\": 1.0}]}, \"1\": {\"name\": \"GLCpts\", \"bigg_id\": \"GLCpts\", \"reversibility\": true, \"label_x\": 265.0, \"label_y\": 975.0, \"gene_reaction_rule\": \"\", \"genes\": [], \"segments\": {\"6\": {\"from_node_id\": \"11\", \"to_node_id\": \"12\", \"b1\": null, \"b2\": null}, \"7\": {\"from_node_id\": \"13\", \"to_node_id\": \"12\", \"b1\": null, \"b2\": null}, \"8\": {\"from_node_id\": \"7\", \"to_node_id\": \"11\", \"b1\": null, \"b2\": null}, \"9\": {\"from_node_id\": \"8\", \"to_node_id\": \"11\", \"b1\": null, \"b2\": null}, \"10\": {\"from_node_id\": \"9\", \"to_node_id\": \"13\", \"b1\": null, \"b2\": null}, \"11\": {\"from_node_id\": \"10\", \"to_node_id\": \"13\", \"b1\": null, \"b2\": null}}, \"metabolites\": [{\"bigg_id\": \"Glucopyranose_e\", \"coefficient\": -1.0}, {\"bigg_id\": \"PHOSPHO_ENOL_PYRUVATE_c\", \"coefficient\": -1.0}, {\"bigg_id\": \"D_glucopyranose_6_phosphate_c\", \"coefficient\": 1.0}, {\"bigg_id\": \"PYRUVATE_c\", \"coefficient\": 1.0}]}, \"2\": {\"name\": \"GND\", \"bigg_id\": \"GND\", \"reversibility\": true, \"label_x\": 265.0, \"label_y\": 1625.0, \"gene_reaction_rule\": \"\", \"genes\": [], \"segments\": {\"12\": {\"from_node_id\": \"19\", \"to_node_id\": \"20\", \"b1\": null, \"b2\": null}, \"13\": {\"from_node_id\": \"21\", \"to_node_id\": \"20\", \"b1\": null, \"b2\": null}, \"14\": {\"from_node_id\": \"14\", \"to_node_id\": \"19\", \"b1\": null, \"b2\": null}, \"15\": {\"from_node_id\": \"15\", \"to_node_id\": \"19\", \"b1\": null, \"b2\": null}, \"16\": {\"from_node_id\": \"16\", \"to_node_id\": \"21\", \"b1\": null, \"b2\": null}, \"17\": {\"from_node_id\": \"17\", \"to_node_id\": \"21\", \"b1\": null, \"b2\": null}, \"18\": {\"from_node_id\": \"18\", \"to_node_id\": \"21\", \"b1\": null, \"b2\": null}}, \"metabolites\": [{\"bigg_id\": \"CPD_2961_c\", \"coefficient\": -1.0}, {\"bigg_id\": \"NADP_c\", \"coefficient\": -1.0}, {\"bigg_id\": \"CARBON_DIOXIDE_c\", \"coefficient\": 1.0}, {\"bigg_id\": \"NADPH_c\", \"coefficient\": 1.0}, {\"bigg_id\": \"RIBULOSE_5P_c\", \"coefficient\": 1.0}]}, \"3\": {\"name\": \"G6PDH2r\", \"bigg_id\": \"G6PDH2r\", \"reversibility\": true, \"label_x\": 265.0, \"label_y\": 2275.0, \"gene_reaction_rule\": \"\", \"genes\": [], \"segments\": {\"19\": {\"from_node_id\": \"27\", \"to_node_id\": \"28\", \"b1\": null, \"b2\": null}, \"20\": {\"from_node_id\": \"29\", \"to_node_id\": \"28\", \"b1\": null, \"b2\": null}, \"21\": {\"from_node_id\": \"22\", \"to_node_id\": \"27\", \"b1\": null, \"b2\": null}, \"22\": {\"from_node_id\": \"23\", \"to_node_id\": \"27\", \"b1\": null, \"b2\": null}, \"23\": {\"from_node_id\": \"24\", \"to_node_id\": \"29\", \"b1\": null, \"b2\": null}, \"24\": {\"from_node_id\": \"25\", \"to_node_id\": \"29\", \"b1\": null, \"b2\": null}, \"25\": {\"from_node_id\": \"26\", \"to_node_id\": \"29\", \"b1\": null, \"b2\": null}}, \"metabolites\": [{\"bigg_id\": \"D_glucopyranose_6_phosphate_c\", \"coefficient\": -1.0}, {\"bigg_id\": \"NADP_c\", \"coefficient\": -1.0}, {\"bigg_id\": \"D_6_P_GLUCONO_DELTA_LACTONE_c\", \"coefficient\": 1.0}, {\"bigg_id\": \"NADPH_c\", \"coefficient\": 1.0}, {\"bigg_id\": \"PROTON_c\", \"coefficient\": 1.0}]}}, \"nodes\": {\"0\": {\"node_type\": \"metabolite\", \"x\": 150.0, \"y\": 30.0, \"label_x\": 160.0, \"label_y\": 20.0, \"bigg_id\": \"CPD_15815_c\", \"name\": \"CPD_15815_c\", \"node_is_primary\": false}, \"1\": {\"node_type\": \"metabolite\", \"x\": 300.0, \"y\": 30.0, \"label_x\": 310.0, \"label_y\": 20.0, \"bigg_id\": \"D_6_P_GLUCONO_DELTA_LACTONE_c\", \"name\": \"D_6_P_GLUCONO_DELTA_LACTONE_c\", \"node_is_primary\": false}, \"2\": {\"node_type\": \"metabolite\", \"x\": 150.0, \"y\": 550.0, \"label_x\": 160.0, \"label_y\": 580.0, \"bigg_id\": \"CPD_2961_c\", \"name\": \"CPD_2961_c\", \"node_is_primary\": false}, \"3\": {\"node_type\": \"metabolite\", \"x\": 300.0, \"y\": 550.0, \"label_x\": 310.0, \"label_y\": 580.0, \"bigg_id\": \"PROTON_c\", \"name\": \"PROTON_c\", \"node_is_primary\": false}, \"4\": {\"node_type\": \"multimarker\", \"x\": 225.0, \"y\": 305.0}, \"5\": {\"node_type\": \"midmarker\", \"x\": 225.0, \"y\": 325.0}, \"6\": {\"node_type\": \"multimarker\", \"x\": 225.0, \"y\": 345.0}, \"7\": {\"node_type\": \"metabolite\", \"x\": 150.0, \"y\": 680.0, \"label_x\": 160.0, \"label_y\": 670.0, \"bigg_id\": \"Glucopyranose_e\", \"name\": \"Glucopyranose_e\", \"node_is_primary\": false}, \"8\": {\"node_type\": \"metabolite\", \"x\": 300.0, \"y\": 680.0, \"label_x\": 310.0, \"label_y\": 670.0, \"bigg_id\": \"PHOSPHO_ENOL_PYRUVATE_c\", \"name\": \"PHOSPHO_ENOL_PYRUVATE_c\", \"node_is_primary\": false}, \"9\": {\"node_type\": \"metabolite\", \"x\": 150.0, \"y\": 1200.0, \"label_x\": 160.0, \"label_y\": 1230.0, \"bigg_id\": \"D_glucopyranose_6_phosphate_c\", \"name\": \"D_glucopyranose_6_phosphate_c\", \"node_is_primary\": false}, \"10\": {\"node_type\": \"metabolite\", \"x\": 300.0, \"y\": 1200.0, \"label_x\": 310.0, \"label_y\": 1230.0, \"bigg_id\": \"PYRUVATE_c\", \"name\": \"PYRUVATE_c\", \"node_is_primary\": false}, \"11\": {\"node_type\": \"multimarker\", \"x\": 225.0, \"y\": 955.0}, \"12\": {\"node_type\": \"midmarker\", \"x\": 225.0, \"y\": 975.0}, \"13\": {\"node_type\": \"multimarker\", \"x\": 225.0, \"y\": 995.0}, \"14\": {\"node_type\": \"metabolite\", \"x\": 150.0, \"y\": 1330.0, \"label_x\": 160.0, \"label_y\": 1320.0, \"bigg_id\": \"CPD_2961_c\", \"name\": \"CPD_2961_c\", \"node_is_primary\": false}, \"15\": {\"node_type\": \"metabolite\", \"x\": 300.0, \"y\": 1330.0, \"label_x\": 310.0, \"label_y\": 1320.0, \"bigg_id\": \"NADP_c\", \"name\": \"NADP_c\", \"node_is_primary\": false}, \"16\": {\"node_type\": \"metabolite\", \"x\": 112.5, \"y\": 1850.0, \"label_x\": 122.5, \"label_y\": 1880.0, \"bigg_id\": \"CARBON_DIOXIDE_c\", \"name\": \"CARBON_DIOXIDE_c\", \"node_is_primary\": false}, \"17\": {\"node_type\": \"metabolite\", \"x\": 225.0, \"y\": 1850.0, \"label_x\": 235.0, \"label_y\": 1880.0, \"bigg_id\": \"NADPH_c\", \"name\": \"NADPH_c\", \"node_is_primary\": false}, \"18\": {\"node_type\": \"metabolite\", \"x\": 337.5, \"y\": 1850.0, \"label_x\": 347.5, \"label_y\": 1880.0, \"bigg_id\": \"RIBULOSE_5P_c\", \"name\": \"RIBULOSE_5P_c\", \"node_is_primary\": false}, \"19\": {\"node_type\": \"multimarker\", \"x\": 225.0, \"y\": 1605.0}, \"20\": {\"node_type\": \"midmarker\", \"x\": 225.0, \"y\": 1625.0}, \"21\": {\"node_type\": \"multimarker\", \"x\": 225.0, \"y\": 1645.0}, \"22\": {\"node_type\": \"metabolite\", \"x\": 150.0, \"y\": 1980.0, \"label_x\": 160.0, \"label_y\": 1970.0, \"bigg_id\": \"D_glucopyranose_6_phosphate_c\", \"name\": \"D_glucopyranose_6_phosphate_c\", \"node_is_primary\": false}, \"23\": {\"node_type\": \"metabolite\", \"x\": 300.0, \"y\": 1980.0, \"label_x\": 310.0, \"label_y\": 1970.0, \"bigg_id\": \"NADP_c\", \"name\": \"NADP_c\", \"node_is_primary\": false}, \"24\": {\"node_type\": \"metabolite\", \"x\": 112.5, \"y\": 2500.0, \"label_x\": 122.5, \"label_y\": 2530.0, \"bigg_id\": \"D_6_P_GLUCONO_DELTA_LACTONE_c\", \"name\": \"D_6_P_GLUCONO_DELTA_LACTONE_c\", \"node_is_primary\": false}, \"25\": {\"node_type\": \"metabolite\", \"x\": 225.0, \"y\": 2500.0, \"label_x\": 235.0, \"label_y\": 2530.0, \"bigg_id\": \"NADPH_c\", \"name\": \"NADPH_c\", \"node_is_primary\": false}, \"26\": {\"node_type\": \"metabolite\", \"x\": 337.5, \"y\": 2500.0, \"label_x\": 347.5, \"label_y\": 2530.0, \"bigg_id\": \"PROTON_c\", \"name\": \"PROTON_c\", \"node_is_primary\": false}, \"27\": {\"node_type\": \"multimarker\", \"x\": 225.0, \"y\": 2255.0}, \"28\": {\"node_type\": \"midmarker\", \"x\": 225.0, \"y\": 2275.0}, \"29\": {\"node_type\": \"multimarker\", \"x\": 225.0, \"y\": 2295.0}}, \"text_labels\": {}, \"canvas\": {\"x\": 0, \"y\": 0, \"width\": 450, \"height\": 2600}}]",
       "_loaded_model_json": null,
       "allow_building_duplicate_reactions": false,
       "and_method_in_gene_reaction_rule": "mean",
       "canvas_size_and_loc": null,
       "cofactors": [
        "atp",
        "adp",
        "nad",
        "nadh",
        "nadp",
        "nadph",
        "gtp",
        "gdp",
        "h",
        "coa",
        "ump",
        "h2o",
        "ppi"
       ],
       "disabled_buttons": [
        "Clear gene data",
        "Clear metabolite data"
       ],
       "embedded_css": null,
       "enable_editing": true,
       "enable_keys": false,
       "enable_keys_with_tooltip": true,
       "enable_search": true,
       "enable_tooltips": false,
       "full_screen_button": {
        "enable_editing": true,
        "enable_keys": true,
        "enable_tooltips": [
         "label"
        ],
        "menu": "all",
        "scroll_behavior": "pan"
       },
       "gene_data": null,
       "gene_font_size": 18,
       "height": 500,
       "hide_all_labels": false,
       "hide_secondary_metabolites": false,
       "highlight_missing": false,
       "identifiers_on_map": "bigg_id",
       "layout": "IPY_MODEL_f7464d311e4743cf9b04013bf8ad2628",
       "marker_radius": 5,
       "menu": "all",
       "metabolite_compare_style": "log2_fold",
       "metabolite_data": null,
       "metabolite_no_data_color": "#ffffff",
       "metabolite_no_data_size": 10,
       "metabolite_scale": [
        {
         "color": "#fffaf0",
         "size": 20,
         "type": "min"
        },
        {
         "color": "#f1c470",
         "size": 30,
         "type": "median"
        },
        {
         "color": "#800000",
         "size": 40,
         "type": "max"
        }
       ],
       "metabolite_scale_preset": "WhYlRd",
       "metabolite_styles": [
        "color",
        "size",
        "text"
       ],
       "never_ask_before_quit": true,
       "primary_metabolite_radius": 20,
       "reaction_compare_style": "log2_fold",
       "reaction_data": {
        "G6PDH2r": -2,
        "GLCpts": -2,
        "GND": 1,
        "Other": 1000,
        "PGL": 0.4
       },
       "reaction_no_data_color": "#dcdcdc",
       "reaction_no_data_size": 8,
       "reaction_scale": [
        {
         "color": "rgb(191,215,230)",
         "type": "value",
         "value": 0.4
        },
        {
         "color": "rgb(163,210,240)",
         "type": "value",
         "value": 1
        },
        {
         "color": "rgb(135,205,250)",
         "type": "value",
         "value": 1000
        },
        {
         "color": "rgb(220,220,220)",
         "type": "value",
         "value": 0
        },
        {
         "color": "rgb(237,192,110)",
         "type": "value",
         "value": -2
        },
        {
         "color": "rgb(255,165,0)",
         "type": "value",
         "value": -2
        }
       ],
       "reaction_scale_preset": null,
       "reaction_styles": [
        "color",
        "text"
       ],
       "scroll_behavior": "none",
       "secondary_metabolite_radius": 10,
       "semantic_zoom": null,
       "show_gene_reaction_rules": false,
       "starting_reaction": null,
       "use_3d_transform": false,
       "zoom_to_element": null
      }
     },
     "9e060e9423054435b9d6537e8b72a89e": {
      "model_module": "@jupyter-widgets/base",
      "model_module_version": "1.2.0",
      "model_name": "LayoutModel",
      "state": {}
     },
     "9ed0efa72e854d508edc4b00592cafa5": {
      "model_module": "escher",
      "model_module_version": "1.7.4",
      "model_name": "EscherMapModel",
      "state": {
       "_loaded_map_json": "[{\"map_name\": \"\", \"map_id\": \"\", \"map_description\": \"\", \"homepage\": \"\", \"schema\": \"https://escher.github.io/escher/jsonschema/1-0-0#\"}, {\"reactions\": {\"0\": {\"name\": \"GLCpts\", \"bigg_id\": \"GLCpts\", \"reversibility\": true, \"label_x\": 271.0, \"label_y\": 45.0, \"gene_reaction_rule\": \"\", \"genes\": [], \"segments\": {\"0\": {\"from_node_id\": \"4\", \"to_node_id\": \"5\", \"b1\": null, \"b2\": null}, \"1\": {\"from_node_id\": \"6\", \"to_node_id\": \"5\", \"b1\": null, \"b2\": null}, \"2\": {\"from_node_id\": \"0\", \"to_node_id\": \"4\", \"b1\": null, \"b2\": null}, \"3\": {\"from_node_id\": \"1\", \"to_node_id\": \"4\", \"b1\": null, \"b2\": null}, \"4\": {\"from_node_id\": \"2\", \"to_node_id\": \"6\", \"b1\": null, \"b2\": null}, \"5\": {\"from_node_id\": \"3\", \"to_node_id\": \"6\", \"b1\": null, \"b2\": null}}, \"metabolites\": [{\"bigg_id\": \"Glucopyranose_e\", \"coefficient\": -1.0}, {\"bigg_id\": \"PHOSPHO_ENOL_PYRUVATE_c\", \"coefficient\": -1.0}, {\"bigg_id\": \"D_glucopyranose_6_phosphate_c\", \"coefficient\": 1.0}, {\"bigg_id\": \"PYRUVATE_c\", \"coefficient\": 1.0}]}, \"1\": {\"name\": \"GND\", \"bigg_id\": \"GND\", \"reversibility\": true, \"label_x\": 948.0, \"label_y\": 45.0, \"gene_reaction_rule\": \"\", \"genes\": [], \"segments\": {\"6\": {\"from_node_id\": \"12\", \"to_node_id\": \"13\", \"b1\": null, \"b2\": null}, \"7\": {\"from_node_id\": \"14\", \"to_node_id\": \"13\", \"b1\": null, \"b2\": null}, \"8\": {\"from_node_id\": \"7\", \"to_node_id\": \"12\", \"b1\": null, \"b2\": null}, \"9\": {\"from_node_id\": \"8\", \"to_node_id\": \"12\", \"b1\": null, \"b2\": null}, \"10\": {\"from_node_id\": \"9\", \"to_node_id\": \"14\", \"b1\": null, \"b2\": null}, \"11\": {\"from_node_id\": \"10\", \"to_node_id\": \"14\", \"b1\": null, \"b2\": null}, \"12\": {\"from_node_id\": \"11\", \"to_node_id\": \"14\", \"b1\": null, \"b2\": null}}, \"metabolites\": [{\"bigg_id\": \"CPD_2961_c\", \"coefficient\": -1.0}, {\"bigg_id\": \"NADP_c\", \"coefficient\": -1.0}, {\"bigg_id\": \"CARBON_DIOXIDE_c\", \"coefficient\": 1.0}, {\"bigg_id\": \"NADPH_c\", \"coefficient\": 1.0}, {\"bigg_id\": \"RIBULOSE_5P_c\", \"coefficient\": 1.0}]}, \"2\": {\"name\": \"PGL\", \"bigg_id\": \"PGL\", \"reversibility\": true, \"label_x\": 1598.0, \"label_y\": 45.0, \"gene_reaction_rule\": \"\", \"genes\": [], \"segments\": {\"13\": {\"from_node_id\": \"19\", \"to_node_id\": \"20\", \"b1\": null, \"b2\": null}, \"14\": {\"from_node_id\": \"21\", \"to_node_id\": \"20\", \"b1\": null, \"b2\": null}, \"15\": {\"from_node_id\": \"15\", \"to_node_id\": \"19\", \"b1\": null, \"b2\": null}, \"16\": {\"from_node_id\": \"16\", \"to_node_id\": \"19\", \"b1\": null, \"b2\": null}, \"17\": {\"from_node_id\": \"17\", \"to_node_id\": \"21\", \"b1\": null, \"b2\": null}, \"18\": {\"from_node_id\": \"18\", \"to_node_id\": \"21\", \"b1\": null, \"b2\": null}}, \"metabolites\": [{\"bigg_id\": \"CPD_15815_c\", \"coefficient\": -1.0}, {\"bigg_id\": \"D_6_P_GLUCONO_DELTA_LACTONE_c\", \"coefficient\": -1.0}, {\"bigg_id\": \"CPD_2961_c\", \"coefficient\": 1.0}, {\"bigg_id\": \"PROTON_c\", \"coefficient\": 1.0}]}, \"3\": {\"name\": \"G6PDH2r\", \"bigg_id\": \"G6PDH2r\", \"reversibility\": true, \"label_x\": 2212.0, \"label_y\": 45.0, \"gene_reaction_rule\": \"\", \"genes\": [], \"segments\": {\"19\": {\"from_node_id\": \"27\", \"to_node_id\": \"28\", \"b1\": null, \"b2\": null}, \"20\": {\"from_node_id\": \"29\", \"to_node_id\": \"28\", \"b1\": null, \"b2\": null}, \"21\": {\"from_node_id\": \"22\", \"to_node_id\": \"27\", \"b1\": null, \"b2\": null}, \"22\": {\"from_node_id\": \"23\", \"to_node_id\": \"27\", \"b1\": null, \"b2\": null}, \"23\": {\"from_node_id\": \"24\", \"to_node_id\": \"29\", \"b1\": null, \"b2\": null}, \"24\": {\"from_node_id\": \"25\", \"to_node_id\": \"29\", \"b1\": null, \"b2\": null}, \"25\": {\"from_node_id\": \"26\", \"to_node_id\": \"29\", \"b1\": null, \"b2\": null}}, \"metabolites\": [{\"bigg_id\": \"D_glucopyranose_6_phosphate_c\", \"coefficient\": -1.0}, {\"bigg_id\": \"NADP_c\", \"coefficient\": -1.0}, {\"bigg_id\": \"D_6_P_GLUCONO_DELTA_LACTONE_c\", \"coefficient\": 1.0}, {\"bigg_id\": \"NADPH_c\", \"coefficient\": 1.0}, {\"bigg_id\": \"PROTON_c\", \"coefficient\": 1.0}]}}, \"nodes\": {\"0\": {\"node_type\": \"metabolite\", \"x\": 30.0, \"y\": 150.0, \"label_x\": 0.0, \"label_y\": 130.0, \"bigg_id\": \"Glucopyranose_e\", \"name\": \"Glucopyranose_e\", \"node_is_primary\": false}, \"1\": {\"node_type\": \"metabolite\", \"x\": 30.0, \"y\": 300.0, \"label_x\": 0.0, \"label_y\": 280.0, \"bigg_id\": \"PHOSPHO_ENOL_PYRUVATE_c\", \"name\": \"PHOSPHO_ENOL_PYRUVATE_c\", \"node_is_primary\": false}, \"2\": {\"node_type\": \"metabolite\", \"x\": 550.0, \"y\": 150.0, \"label_x\": 520.0, \"label_y\": 130.0, \"bigg_id\": \"D_glucopyranose_6_phosphate_c\", \"name\": \"D_glucopyranose_6_phosphate_c\", \"node_is_primary\": false}, \"3\": {\"node_type\": \"metabolite\", \"x\": 550.0, \"y\": 300.0, \"label_x\": 520.0, \"label_y\": 280.0, \"bigg_id\": \"PYRUVATE_c\", \"name\": \"PYRUVATE_c\", \"node_is_primary\": false}, \"4\": {\"node_type\": \"multimarker\", \"x\": 335.0, \"y\": 225.0}, \"5\": {\"node_type\": \"midmarker\", \"x\": 355.0, \"y\": 225.0}, \"6\": {\"node_type\": \"multimarker\", \"x\": 375.0, \"y\": 225.0}, \"7\": {\"node_type\": \"metabolite\", \"x\": 680.0, \"y\": 150.0, \"label_x\": 650.0, \"label_y\": 130.0, \"bigg_id\": \"CPD_2961_c\", \"name\": \"CPD_2961_c\", \"node_is_primary\": false}, \"8\": {\"node_type\": \"metabolite\", \"x\": 680.0, \"y\": 300.0, \"label_x\": 650.0, \"label_y\": 280.0, \"bigg_id\": \"NADP_c\", \"name\": \"NADP_c\", \"node_is_primary\": false}, \"9\": {\"node_type\": \"metabolite\", \"x\": 1200.0, \"y\": 112.5, \"label_x\": 1170.0, \"label_y\": 92.5, \"bigg_id\": \"CARBON_DIOXIDE_c\", \"name\": \"CARBON_DIOXIDE_c\", \"node_is_primary\": false}, \"10\": {\"node_type\": \"metabolite\", \"x\": 1200.0, \"y\": 225.0, \"label_x\": 1170.0, \"label_y\": 205.0, \"bigg_id\": \"NADPH_c\", \"name\": \"NADPH_c\", \"node_is_primary\": false}, \"11\": {\"node_type\": \"metabolite\", \"x\": 1200.0, \"y\": 337.5, \"label_x\": 1170.0, \"label_y\": 317.5, \"bigg_id\": \"RIBULOSE_5P_c\", \"name\": \"RIBULOSE_5P_c\", \"node_is_primary\": false}, \"12\": {\"node_type\": \"multimarker\", \"x\": 985.0, \"y\": 225.0}, \"13\": {\"node_type\": \"midmarker\", \"x\": 1005.0, \"y\": 225.0}, \"14\": {\"node_type\": \"multimarker\", \"x\": 1025.0, \"y\": 225.0}, \"15\": {\"node_type\": \"metabolite\", \"x\": 1330.0, \"y\": 150.0, \"label_x\": 1300.0, \"label_y\": 130.0, \"bigg_id\": \"CPD_15815_c\", \"name\": \"CPD_15815_c\", \"node_is_primary\": false}, \"16\": {\"node_type\": \"metabolite\", \"x\": 1330.0, \"y\": 300.0, \"label_x\": 1300.0, \"label_y\": 280.0, \"bigg_id\": \"D_6_P_GLUCONO_DELTA_LACTONE_c\", \"name\": \"D_6_P_GLUCONO_DELTA_LACTONE_c\", \"node_is_primary\": false}, \"17\": {\"node_type\": \"metabolite\", \"x\": 1850.0, \"y\": 150.0, \"label_x\": 1820.0, \"label_y\": 130.0, \"bigg_id\": \"CPD_2961_c\", \"name\": \"CPD_2961_c\", \"node_is_primary\": false}, \"18\": {\"node_type\": \"metabolite\", \"x\": 1850.0, \"y\": 300.0, \"label_x\": 1820.0, \"label_y\": 280.0, \"bigg_id\": \"PROTON_c\", \"name\": \"PROTON_c\", \"node_is_primary\": false}, \"19\": {\"node_type\": \"multimarker\", \"x\": 1635.0, \"y\": 225.0}, \"20\": {\"node_type\": \"midmarker\", \"x\": 1655.0, \"y\": 225.0}, \"21\": {\"node_type\": \"multimarker\", \"x\": 1675.0, \"y\": 225.0}, \"22\": {\"node_type\": \"metabolite\", \"x\": 1980.0, \"y\": 150.0, \"label_x\": 1950.0, \"label_y\": 130.0, \"bigg_id\": \"D_glucopyranose_6_phosphate_c\", \"name\": \"D_glucopyranose_6_phosphate_c\", \"node_is_primary\": false}, \"23\": {\"node_type\": \"metabolite\", \"x\": 1980.0, \"y\": 300.0, \"label_x\": 1950.0, \"label_y\": 280.0, \"bigg_id\": \"NADP_c\", \"name\": \"NADP_c\", \"node_is_primary\": false}, \"24\": {\"node_type\": \"metabolite\", \"x\": 2500.0, \"y\": 112.5, \"label_x\": 2470.0, \"label_y\": 92.5, \"bigg_id\": \"D_6_P_GLUCONO_DELTA_LACTONE_c\", \"name\": \"D_6_P_GLUCONO_DELTA_LACTONE_c\", \"node_is_primary\": false}, \"25\": {\"node_type\": \"metabolite\", \"x\": 2500.0, \"y\": 225.0, \"label_x\": 2470.0, \"label_y\": 205.0, \"bigg_id\": \"NADPH_c\", \"name\": \"NADPH_c\", \"node_is_primary\": false}, \"26\": {\"node_type\": \"metabolite\", \"x\": 2500.0, \"y\": 337.5, \"label_x\": 2470.0, \"label_y\": 317.5, \"bigg_id\": \"PROTON_c\", \"name\": \"PROTON_c\", \"node_is_primary\": false}, \"27\": {\"node_type\": \"multimarker\", \"x\": 2285.0, \"y\": 225.0}, \"28\": {\"node_type\": \"midmarker\", \"x\": 2305.0, \"y\": 225.0}, \"29\": {\"node_type\": \"multimarker\", \"x\": 2325.0, \"y\": 225.0}}, \"text_labels\": {}, \"canvas\": {\"x\": 0, \"y\": 0, \"width\": 2600, \"height\": 450}}]",
       "_loaded_model_json": null,
       "allow_building_duplicate_reactions": false,
       "and_method_in_gene_reaction_rule": "mean",
       "canvas_size_and_loc": null,
       "cofactors": [
        "atp",
        "adp",
        "nad",
        "nadh",
        "nadp",
        "nadph",
        "gtp",
        "gdp",
        "h",
        "coa",
        "ump",
        "h2o",
        "ppi"
       ],
       "disabled_buttons": [
        "Clear reaction data",
        "Clear gene data",
        "Clear metabolite data"
       ],
       "embedded_css": null,
       "enable_editing": true,
       "enable_keys": false,
       "enable_keys_with_tooltip": true,
       "enable_search": true,
       "enable_tooltips": false,
       "full_screen_button": {
        "enable_editing": true,
        "enable_keys": true,
        "enable_tooltips": [
         "label"
        ],
        "menu": "all",
        "scroll_behavior": "pan"
       },
       "gene_data": null,
       "gene_font_size": 18,
       "height": 500,
       "hide_all_labels": false,
       "hide_secondary_metabolites": false,
       "highlight_missing": false,
       "identifiers_on_map": "bigg_id",
       "layout": "IPY_MODEL_472e87f51d224200b433ed1dd6efcf84",
       "marker_radius": 5,
       "menu": "all",
       "metabolite_compare_style": "log2_fold",
       "metabolite_data": null,
       "metabolite_no_data_color": "#ffffff",
       "metabolite_no_data_size": 10,
       "metabolite_scale": [
        {
         "color": "#fffaf0",
         "size": 20,
         "type": "min"
        },
        {
         "color": "#f1c470",
         "size": 30,
         "type": "median"
        },
        {
         "color": "#800000",
         "size": 40,
         "type": "max"
        }
       ],
       "metabolite_scale_preset": "WhYlRd",
       "metabolite_styles": [
        "color",
        "size",
        "text"
       ],
       "never_ask_before_quit": true,
       "primary_metabolite_radius": 20,
       "reaction_compare_style": "log2_fold",
       "reaction_data": null,
       "reaction_no_data_color": "#dcdcdc",
       "reaction_no_data_size": 8,
       "reaction_scale": {},
       "reaction_scale_preset": null,
       "reaction_styles": [
        "color",
        "text"
       ],
       "scroll_behavior": "none",
       "secondary_metabolite_radius": 10,
       "semantic_zoom": null,
       "show_gene_reaction_rules": false,
       "starting_reaction": null,
       "use_3d_transform": false,
       "zoom_to_element": null
      }
     },
     "9ee822621acd4f829afb8b7f30647672": {
      "model_module": "escher",
      "model_module_version": "1.7.4",
      "model_name": "EscherMapModel",
      "state": {
       "_loaded_map_json": "[{\"map_name\": \"\", \"map_id\": \"\", \"map_description\": \"\", \"homepage\": \"\", \"schema\": \"https://escher.github.io/escher/jsonschema/1-0-0#\"}, {\"reactions\": {\"0\": {\"name\": \"GLCpts\", \"bigg_id\": \"GLCpts\", \"reversibility\": true, \"label_x\": 265.0, \"label_y\": 325.0, \"gene_reaction_rule\": \"\", \"genes\": [], \"segments\": {\"0\": {\"from_node_id\": \"4\", \"to_node_id\": \"5\", \"b1\": null, \"b2\": null}, \"1\": {\"from_node_id\": \"6\", \"to_node_id\": \"5\", \"b1\": null, \"b2\": null}, \"2\": {\"from_node_id\": \"0\", \"to_node_id\": \"4\", \"b1\": null, \"b2\": null}, \"3\": {\"from_node_id\": \"1\", \"to_node_id\": \"4\", \"b1\": null, \"b2\": null}, \"4\": {\"from_node_id\": \"2\", \"to_node_id\": \"6\", \"b1\": null, \"b2\": null}, \"5\": {\"from_node_id\": \"3\", \"to_node_id\": \"6\", \"b1\": null, \"b2\": null}}, \"metabolites\": [{\"bigg_id\": \"Glucopyranose_e\", \"coefficient\": -1.0}, {\"bigg_id\": \"PHOSPHO_ENOL_PYRUVATE_c\", \"coefficient\": -1.0}, {\"bigg_id\": \"D_glucopyranose_6_phosphate_c\", \"coefficient\": 1.0}, {\"bigg_id\": \"PYRUVATE_c\", \"coefficient\": 1.0}]}, \"1\": {\"name\": \"G6PDH2r\", \"bigg_id\": \"G6PDH2r\", \"reversibility\": true, \"label_x\": 265.0, \"label_y\": 975.0, \"gene_reaction_rule\": \"\", \"genes\": [], \"segments\": {\"6\": {\"from_node_id\": \"11\", \"to_node_id\": \"12\", \"b1\": null, \"b2\": null}, \"7\": {\"from_node_id\": \"13\", \"to_node_id\": \"12\", \"b1\": null, \"b2\": null}, \"8\": {\"from_node_id\": \"2\", \"to_node_id\": \"11\", \"b1\": null, \"b2\": null}, \"9\": {\"from_node_id\": \"7\", \"to_node_id\": \"11\", \"b1\": null, \"b2\": null}, \"10\": {\"from_node_id\": \"8\", \"to_node_id\": \"13\", \"b1\": null, \"b2\": null}, \"11\": {\"from_node_id\": \"9\", \"to_node_id\": \"13\", \"b1\": null, \"b2\": null}, \"12\": {\"from_node_id\": \"10\", \"to_node_id\": \"13\", \"b1\": null, \"b2\": null}}, \"metabolites\": [{\"bigg_id\": \"D_glucopyranose_6_phosphate_c\", \"coefficient\": -1.0}, {\"bigg_id\": \"NADP_c\", \"coefficient\": -1.0}, {\"bigg_id\": \"D_6_P_GLUCONO_DELTA_LACTONE_c\", \"coefficient\": 1.0}, {\"bigg_id\": \"NADPH_c\", \"coefficient\": 1.0}, {\"bigg_id\": \"PROTON_c\", \"coefficient\": 1.0}]}, \"2\": {\"name\": \"PGL\", \"bigg_id\": \"PGL\", \"reversibility\": true, \"label_x\": 265.0, \"label_y\": 1625.0, \"gene_reaction_rule\": \"\", \"genes\": [], \"segments\": {\"13\": {\"from_node_id\": \"17\", \"to_node_id\": \"18\", \"b1\": null, \"b2\": null}, \"14\": {\"from_node_id\": \"19\", \"to_node_id\": \"18\", \"b1\": null, \"b2\": null}, \"15\": {\"from_node_id\": \"14\", \"to_node_id\": \"17\", \"b1\": null, \"b2\": null}, \"16\": {\"from_node_id\": \"8\", \"to_node_id\": \"17\", \"b1\": null, \"b2\": null}, \"17\": {\"from_node_id\": \"15\", \"to_node_id\": \"19\", \"b1\": null, \"b2\": null}, \"18\": {\"from_node_id\": \"16\", \"to_node_id\": \"19\", \"b1\": null, \"b2\": null}}, \"metabolites\": [{\"bigg_id\": \"CPD_15815_c\", \"coefficient\": -1.0}, {\"bigg_id\": \"D_6_P_GLUCONO_DELTA_LACTONE_c\", \"coefficient\": -1.0}, {\"bigg_id\": \"CPD_2961_c\", \"coefficient\": 1.0}, {\"bigg_id\": \"PROTON_c\", \"coefficient\": 1.0}]}, \"3\": {\"name\": \"GND\", \"bigg_id\": \"GND\", \"reversibility\": true, \"label_x\": 265.0, \"label_y\": 2275.0, \"gene_reaction_rule\": \"\", \"genes\": [], \"segments\": {\"19\": {\"from_node_id\": \"24\", \"to_node_id\": \"25\", \"b1\": null, \"b2\": null}, \"20\": {\"from_node_id\": \"26\", \"to_node_id\": \"25\", \"b1\": null, \"b2\": null}, \"21\": {\"from_node_id\": \"15\", \"to_node_id\": \"24\", \"b1\": null, \"b2\": null}, \"22\": {\"from_node_id\": \"20\", \"to_node_id\": \"24\", \"b1\": null, \"b2\": null}, \"23\": {\"from_node_id\": \"21\", \"to_node_id\": \"26\", \"b1\": null, \"b2\": null}, \"24\": {\"from_node_id\": \"22\", \"to_node_id\": \"26\", \"b1\": null, \"b2\": null}, \"25\": {\"from_node_id\": \"23\", \"to_node_id\": \"26\", \"b1\": null, \"b2\": null}}, \"metabolites\": [{\"bigg_id\": \"CPD_2961_c\", \"coefficient\": -1.0}, {\"bigg_id\": \"NADP_c\", \"coefficient\": -1.0}, {\"bigg_id\": \"CARBON_DIOXIDE_c\", \"coefficient\": 1.0}, {\"bigg_id\": \"NADPH_c\", \"coefficient\": 1.0}, {\"bigg_id\": \"RIBULOSE_5P_c\", \"coefficient\": 1.0}]}}, \"nodes\": {\"0\": {\"node_type\": \"metabolite\", \"x\": 150.0, \"y\": 30.0, \"label_x\": 160.0, \"label_y\": 20.0, \"bigg_id\": \"Glucopyranose_e\", \"name\": \"Glucopyranose_e\", \"node_is_primary\": false}, \"1\": {\"node_type\": \"metabolite\", \"x\": 300.0, \"y\": 30.0, \"label_x\": 310.0, \"label_y\": 20.0, \"bigg_id\": \"PHOSPHO_ENOL_PYRUVATE_c\", \"name\": \"PHOSPHO_ENOL_PYRUVATE_c\", \"node_is_primary\": false}, \"2\": {\"node_type\": \"metabolite\", \"x\": 150.0, \"y\": 550.0, \"label_x\": 160.0, \"label_y\": 580.0, \"bigg_id\": \"D_glucopyranose_6_phosphate_c\", \"name\": \"D_glucopyranose_6_phosphate_c\", \"node_is_primary\": false}, \"3\": {\"node_type\": \"metabolite\", \"x\": 300.0, \"y\": 550.0, \"label_x\": 310.0, \"label_y\": 580.0, \"bigg_id\": \"PYRUVATE_c\", \"name\": \"PYRUVATE_c\", \"node_is_primary\": false}, \"4\": {\"node_type\": \"multimarker\", \"x\": 225.0, \"y\": 305.0}, \"5\": {\"node_type\": \"midmarker\", \"x\": 225.0, \"y\": 325.0}, \"6\": {\"node_type\": \"multimarker\", \"x\": 225.0, \"y\": 345.0}, \"7\": {\"node_type\": \"metabolite\", \"x\": 300.0, \"y\": 680.0, \"label_x\": 310.0, \"label_y\": 670.0, \"bigg_id\": \"NADP_c\", \"name\": \"NADP_c\", \"node_is_primary\": false}, \"8\": {\"node_type\": \"metabolite\", \"x\": 112.5, \"y\": 1200.0, \"label_x\": 122.5, \"label_y\": 1230.0, \"bigg_id\": \"D_6_P_GLUCONO_DELTA_LACTONE_c\", \"name\": \"D_6_P_GLUCONO_DELTA_LACTONE_c\", \"node_is_primary\": false}, \"9\": {\"node_type\": \"metabolite\", \"x\": 225.0, \"y\": 1200.0, \"label_x\": 235.0, \"label_y\": 1230.0, \"bigg_id\": \"NADPH_c\", \"name\": \"NADPH_c\", \"node_is_primary\": false}, \"10\": {\"node_type\": \"metabolite\", \"x\": 337.5, \"y\": 1200.0, \"label_x\": 347.5, \"label_y\": 1230.0, \"bigg_id\": \"PROTON_c\", \"name\": \"PROTON_c\", \"node_is_primary\": false}, \"11\": {\"node_type\": \"multimarker\", \"x\": 225.0, \"y\": 955.0}, \"12\": {\"node_type\": \"midmarker\", \"x\": 225.0, \"y\": 975.0}, \"13\": {\"node_type\": \"multimarker\", \"x\": 225.0, \"y\": 995.0}, \"14\": {\"node_type\": \"metabolite\", \"x\": 150.0, \"y\": 1330.0, \"label_x\": 160.0, \"label_y\": 1320.0, \"bigg_id\": \"CPD_15815_c\", \"name\": \"CPD_15815_c\", \"node_is_primary\": false}, \"15\": {\"node_type\": \"metabolite\", \"x\": 150.0, \"y\": 1850.0, \"label_x\": 160.0, \"label_y\": 1880.0, \"bigg_id\": \"CPD_2961_c\", \"name\": \"CPD_2961_c\", \"node_is_primary\": false}, \"16\": {\"node_type\": \"metabolite\", \"x\": 300.0, \"y\": 1850.0, \"label_x\": 310.0, \"label_y\": 1880.0, \"bigg_id\": \"PROTON_c\", \"name\": \"PROTON_c\", \"node_is_primary\": false}, \"17\": {\"node_type\": \"multimarker\", \"x\": 225.0, \"y\": 1605.0}, \"18\": {\"node_type\": \"midmarker\", \"x\": 225.0, \"y\": 1625.0}, \"19\": {\"node_type\": \"multimarker\", \"x\": 225.0, \"y\": 1645.0}, \"20\": {\"node_type\": \"metabolite\", \"x\": 300.0, \"y\": 1980.0, \"label_x\": 310.0, \"label_y\": 1970.0, \"bigg_id\": \"NADP_c\", \"name\": \"NADP_c\", \"node_is_primary\": false}, \"21\": {\"node_type\": \"metabolite\", \"x\": 112.5, \"y\": 2500.0, \"label_x\": 122.5, \"label_y\": 2530.0, \"bigg_id\": \"CARBON_DIOXIDE_c\", \"name\": \"CARBON_DIOXIDE_c\", \"node_is_primary\": false}, \"22\": {\"node_type\": \"metabolite\", \"x\": 225.0, \"y\": 2500.0, \"label_x\": 235.0, \"label_y\": 2530.0, \"bigg_id\": \"NADPH_c\", \"name\": \"NADPH_c\", \"node_is_primary\": false}, \"23\": {\"node_type\": \"metabolite\", \"x\": 337.5, \"y\": 2500.0, \"label_x\": 347.5, \"label_y\": 2530.0, \"bigg_id\": \"RIBULOSE_5P_c\", \"name\": \"RIBULOSE_5P_c\", \"node_is_primary\": false}, \"24\": {\"node_type\": \"multimarker\", \"x\": 225.0, \"y\": 2255.0}, \"25\": {\"node_type\": \"midmarker\", \"x\": 225.0, \"y\": 2275.0}, \"26\": {\"node_type\": \"multimarker\", \"x\": 225.0, \"y\": 2295.0}}, \"text_labels\": {}, \"canvas\": {\"x\": 0, \"y\": 0, \"width\": 450, \"height\": 2600}}]",
       "_loaded_model_json": null,
       "allow_building_duplicate_reactions": false,
       "and_method_in_gene_reaction_rule": "mean",
       "canvas_size_and_loc": null,
       "cofactors": [
        "atp",
        "adp",
        "nad",
        "nadh",
        "nadp",
        "nadph",
        "gtp",
        "gdp",
        "h",
        "coa",
        "ump",
        "h2o",
        "ppi"
       ],
       "disabled_buttons": [
        "Clear gene data",
        "Clear metabolite data"
       ],
       "embedded_css": null,
       "enable_editing": true,
       "enable_keys": false,
       "enable_keys_with_tooltip": true,
       "enable_search": true,
       "enable_tooltips": false,
       "full_screen_button": {
        "enable_editing": true,
        "enable_keys": true,
        "enable_tooltips": [
         "label"
        ],
        "menu": "all",
        "scroll_behavior": "pan"
       },
       "gene_data": null,
       "gene_font_size": 18,
       "height": 500,
       "hide_all_labels": false,
       "hide_secondary_metabolites": false,
       "highlight_missing": false,
       "identifiers_on_map": "bigg_id",
       "layout": "IPY_MODEL_cd414a30fe5f4ff6b26052df8b543a3a",
       "marker_radius": 5,
       "menu": "all",
       "metabolite_compare_style": "log2_fold",
       "metabolite_data": null,
       "metabolite_no_data_color": "#ffffff",
       "metabolite_no_data_size": 10,
       "metabolite_scale": [
        {
         "color": "#fffaf0",
         "size": 20,
         "type": "min"
        },
        {
         "color": "#f1c470",
         "size": 30,
         "type": "median"
        },
        {
         "color": "#800000",
         "size": 40,
         "type": "max"
        }
       ],
       "metabolite_scale_preset": "WhYlRd",
       "metabolite_styles": [
        "color",
        "size",
        "text"
       ],
       "never_ask_before_quit": true,
       "primary_metabolite_radius": 20,
       "reaction_compare_style": "log2_fold",
       "reaction_data": {
        "G6PDH2r": -2,
        "GLCpts": -2,
        "GND": 1,
        "Other": 1000,
        "PGL": 0.4
       },
       "reaction_no_data_color": "#dcdcdc",
       "reaction_no_data_size": 8,
       "reaction_scale": [
        {
         "color": "rgb(191,215,230)",
         "type": "value",
         "value": 0.4
        },
        {
         "color": "rgb(163,210,240)",
         "type": "value",
         "value": 1
        },
        {
         "color": "rgb(135,205,250)",
         "type": "value",
         "value": 1000
        },
        {
         "color": "rgb(220,220,220)",
         "type": "value",
         "value": 0
        },
        {
         "color": "rgb(237,192,110)",
         "type": "value",
         "value": -2
        },
        {
         "color": "rgb(255,165,0)",
         "type": "value",
         "value": -2
        }
       ],
       "reaction_scale_preset": null,
       "reaction_styles": [
        "color",
        "text"
       ],
       "scroll_behavior": "none",
       "secondary_metabolite_radius": 10,
       "semantic_zoom": null,
       "show_gene_reaction_rules": false,
       "starting_reaction": null,
       "use_3d_transform": false,
       "zoom_to_element": null
      }
     },
     "a0134b05fa3f46fb9613f4a9ec001959": {
      "model_module": "@jupyter-widgets/base",
      "model_module_version": "1.2.0",
      "model_name": "LayoutModel",
      "state": {}
     },
     "a52f5007d4c8438e9db877ca62c02c4c": {
      "model_module": "escher",
      "model_module_version": "1.7.4",
      "model_name": "EscherMapModel",
      "state": {
       "_loaded_map_json": "[{\"map_name\": \"\", \"map_id\": \"\", \"map_description\": \"\", \"homepage\": \"\", \"schema\": \"https://escher.github.io/escher/jsonschema/1-0-0#\"}, {\"reactions\": {\"0\": {\"name\": \"GLCpts\", \"bigg_id\": \"GLCpts\", \"reversibility\": true, \"label_x\": 265.0, \"label_y\": 325.0, \"gene_reaction_rule\": \"\", \"genes\": [], \"segments\": {\"0\": {\"from_node_id\": \"4\", \"to_node_id\": \"5\", \"b1\": null, \"b2\": null}, \"1\": {\"from_node_id\": \"6\", \"to_node_id\": \"5\", \"b1\": null, \"b2\": null}, \"2\": {\"from_node_id\": \"0\", \"to_node_id\": \"4\", \"b1\": null, \"b2\": null}, \"3\": {\"from_node_id\": \"1\", \"to_node_id\": \"4\", \"b1\": null, \"b2\": null}, \"4\": {\"from_node_id\": \"2\", \"to_node_id\": \"6\", \"b1\": null, \"b2\": null}, \"5\": {\"from_node_id\": \"3\", \"to_node_id\": \"6\", \"b1\": null, \"b2\": null}}, \"metabolites\": [{\"bigg_id\": \"Glucopyranose_e\", \"coefficient\": -1.0}, {\"bigg_id\": \"PHOSPHO_ENOL_PYRUVATE_c\", \"coefficient\": -1.0}, {\"bigg_id\": \"D_glucopyranose_6_phosphate_c\", \"coefficient\": 1.0}, {\"bigg_id\": \"PYRUVATE_c\", \"coefficient\": 1.0}]}, \"1\": {\"name\": \"GND\", \"bigg_id\": \"GND\", \"reversibility\": true, \"label_x\": 265.0, \"label_y\": 975.0, \"gene_reaction_rule\": \"\", \"genes\": [], \"segments\": {\"6\": {\"from_node_id\": \"12\", \"to_node_id\": \"13\", \"b1\": null, \"b2\": null}, \"7\": {\"from_node_id\": \"14\", \"to_node_id\": \"13\", \"b1\": null, \"b2\": null}, \"8\": {\"from_node_id\": \"7\", \"to_node_id\": \"12\", \"b1\": null, \"b2\": null}, \"9\": {\"from_node_id\": \"8\", \"to_node_id\": \"12\", \"b1\": null, \"b2\": null}, \"10\": {\"from_node_id\": \"9\", \"to_node_id\": \"14\", \"b1\": null, \"b2\": null}, \"11\": {\"from_node_id\": \"10\", \"to_node_id\": \"14\", \"b1\": null, \"b2\": null}, \"12\": {\"from_node_id\": \"11\", \"to_node_id\": \"14\", \"b1\": null, \"b2\": null}}, \"metabolites\": [{\"bigg_id\": \"CPD_2961_c\", \"coefficient\": -1.0}, {\"bigg_id\": \"NADP_c\", \"coefficient\": -1.0}, {\"bigg_id\": \"CARBON_DIOXIDE_c\", \"coefficient\": 1.0}, {\"bigg_id\": \"NADPH_c\", \"coefficient\": 1.0}, {\"bigg_id\": \"RIBULOSE_5P_c\", \"coefficient\": 1.0}]}, \"2\": {\"name\": \"PGL\", \"bigg_id\": \"PGL\", \"reversibility\": true, \"label_x\": 265.0, \"label_y\": 1625.0, \"gene_reaction_rule\": \"\", \"genes\": [], \"segments\": {\"13\": {\"from_node_id\": \"19\", \"to_node_id\": \"20\", \"b1\": null, \"b2\": null}, \"14\": {\"from_node_id\": \"21\", \"to_node_id\": \"20\", \"b1\": null, \"b2\": null}, \"15\": {\"from_node_id\": \"15\", \"to_node_id\": \"19\", \"b1\": null, \"b2\": null}, \"16\": {\"from_node_id\": \"16\", \"to_node_id\": \"19\", \"b1\": null, \"b2\": null}, \"17\": {\"from_node_id\": \"17\", \"to_node_id\": \"21\", \"b1\": null, \"b2\": null}, \"18\": {\"from_node_id\": \"18\", \"to_node_id\": \"21\", \"b1\": null, \"b2\": null}}, \"metabolites\": [{\"bigg_id\": \"CPD_15815_c\", \"coefficient\": -1.0}, {\"bigg_id\": \"D_6_P_GLUCONO_DELTA_LACTONE_c\", \"coefficient\": -1.0}, {\"bigg_id\": \"CPD_2961_c\", \"coefficient\": 1.0}, {\"bigg_id\": \"PROTON_c\", \"coefficient\": 1.0}]}, \"3\": {\"name\": \"G6PDH2r\", \"bigg_id\": \"G6PDH2r\", \"reversibility\": true, \"label_x\": 265.0, \"label_y\": 2275.0, \"gene_reaction_rule\": \"\", \"genes\": [], \"segments\": {\"19\": {\"from_node_id\": \"27\", \"to_node_id\": \"28\", \"b1\": null, \"b2\": null}, \"20\": {\"from_node_id\": \"29\", \"to_node_id\": \"28\", \"b1\": null, \"b2\": null}, \"21\": {\"from_node_id\": \"22\", \"to_node_id\": \"27\", \"b1\": null, \"b2\": null}, \"22\": {\"from_node_id\": \"23\", \"to_node_id\": \"27\", \"b1\": null, \"b2\": null}, \"23\": {\"from_node_id\": \"24\", \"to_node_id\": \"29\", \"b1\": null, \"b2\": null}, \"24\": {\"from_node_id\": \"25\", \"to_node_id\": \"29\", \"b1\": null, \"b2\": null}, \"25\": {\"from_node_id\": \"26\", \"to_node_id\": \"29\", \"b1\": null, \"b2\": null}}, \"metabolites\": [{\"bigg_id\": \"D_glucopyranose_6_phosphate_c\", \"coefficient\": -1.0}, {\"bigg_id\": \"NADP_c\", \"coefficient\": -1.0}, {\"bigg_id\": \"D_6_P_GLUCONO_DELTA_LACTONE_c\", \"coefficient\": 1.0}, {\"bigg_id\": \"NADPH_c\", \"coefficient\": 1.0}, {\"bigg_id\": \"PROTON_c\", \"coefficient\": 1.0}]}}, \"nodes\": {\"0\": {\"node_type\": \"metabolite\", \"x\": 150.0, \"y\": 30.0, \"label_x\": 160.0, \"label_y\": 20.0, \"bigg_id\": \"Glucopyranose_e\", \"name\": \"Glucopyranose_e\", \"node_is_primary\": false}, \"1\": {\"node_type\": \"metabolite\", \"x\": 300.0, \"y\": 30.0, \"label_x\": 310.0, \"label_y\": 20.0, \"bigg_id\": \"PHOSPHO_ENOL_PYRUVATE_c\", \"name\": \"PHOSPHO_ENOL_PYRUVATE_c\", \"node_is_primary\": false}, \"2\": {\"node_type\": \"metabolite\", \"x\": 150.0, \"y\": 550.0, \"label_x\": 160.0, \"label_y\": 580.0, \"bigg_id\": \"D_glucopyranose_6_phosphate_c\", \"name\": \"D_glucopyranose_6_phosphate_c\", \"node_is_primary\": false}, \"3\": {\"node_type\": \"metabolite\", \"x\": 300.0, \"y\": 550.0, \"label_x\": 310.0, \"label_y\": 580.0, \"bigg_id\": \"PYRUVATE_c\", \"name\": \"PYRUVATE_c\", \"node_is_primary\": false}, \"4\": {\"node_type\": \"multimarker\", \"x\": 225.0, \"y\": 305.0}, \"5\": {\"node_type\": \"midmarker\", \"x\": 225.0, \"y\": 325.0}, \"6\": {\"node_type\": \"multimarker\", \"x\": 225.0, \"y\": 345.0}, \"7\": {\"node_type\": \"metabolite\", \"x\": 150.0, \"y\": 680.0, \"label_x\": 160.0, \"label_y\": 670.0, \"bigg_id\": \"CPD_2961_c\", \"name\": \"CPD_2961_c\", \"node_is_primary\": false}, \"8\": {\"node_type\": \"metabolite\", \"x\": 300.0, \"y\": 680.0, \"label_x\": 310.0, \"label_y\": 670.0, \"bigg_id\": \"NADP_c\", \"name\": \"NADP_c\", \"node_is_primary\": false}, \"9\": {\"node_type\": \"metabolite\", \"x\": 112.5, \"y\": 1200.0, \"label_x\": 122.5, \"label_y\": 1230.0, \"bigg_id\": \"CARBON_DIOXIDE_c\", \"name\": \"CARBON_DIOXIDE_c\", \"node_is_primary\": false}, \"10\": {\"node_type\": \"metabolite\", \"x\": 225.0, \"y\": 1200.0, \"label_x\": 235.0, \"label_y\": 1230.0, \"bigg_id\": \"NADPH_c\", \"name\": \"NADPH_c\", \"node_is_primary\": false}, \"11\": {\"node_type\": \"metabolite\", \"x\": 337.5, \"y\": 1200.0, \"label_x\": 347.5, \"label_y\": 1230.0, \"bigg_id\": \"RIBULOSE_5P_c\", \"name\": \"RIBULOSE_5P_c\", \"node_is_primary\": false}, \"12\": {\"node_type\": \"multimarker\", \"x\": 225.0, \"y\": 955.0}, \"13\": {\"node_type\": \"midmarker\", \"x\": 225.0, \"y\": 975.0}, \"14\": {\"node_type\": \"multimarker\", \"x\": 225.0, \"y\": 995.0}, \"15\": {\"node_type\": \"metabolite\", \"x\": 150.0, \"y\": 1330.0, \"label_x\": 160.0, \"label_y\": 1320.0, \"bigg_id\": \"CPD_15815_c\", \"name\": \"CPD_15815_c\", \"node_is_primary\": false}, \"16\": {\"node_type\": \"metabolite\", \"x\": 300.0, \"y\": 1330.0, \"label_x\": 310.0, \"label_y\": 1320.0, \"bigg_id\": \"D_6_P_GLUCONO_DELTA_LACTONE_c\", \"name\": \"D_6_P_GLUCONO_DELTA_LACTONE_c\", \"node_is_primary\": false}, \"17\": {\"node_type\": \"metabolite\", \"x\": 150.0, \"y\": 1850.0, \"label_x\": 160.0, \"label_y\": 1880.0, \"bigg_id\": \"CPD_2961_c\", \"name\": \"CPD_2961_c\", \"node_is_primary\": false}, \"18\": {\"node_type\": \"metabolite\", \"x\": 300.0, \"y\": 1850.0, \"label_x\": 310.0, \"label_y\": 1880.0, \"bigg_id\": \"PROTON_c\", \"name\": \"PROTON_c\", \"node_is_primary\": false}, \"19\": {\"node_type\": \"multimarker\", \"x\": 225.0, \"y\": 1605.0}, \"20\": {\"node_type\": \"midmarker\", \"x\": 225.0, \"y\": 1625.0}, \"21\": {\"node_type\": \"multimarker\", \"x\": 225.0, \"y\": 1645.0}, \"22\": {\"node_type\": \"metabolite\", \"x\": 150.0, \"y\": 1980.0, \"label_x\": 160.0, \"label_y\": 1970.0, \"bigg_id\": \"D_glucopyranose_6_phosphate_c\", \"name\": \"D_glucopyranose_6_phosphate_c\", \"node_is_primary\": false}, \"23\": {\"node_type\": \"metabolite\", \"x\": 300.0, \"y\": 1980.0, \"label_x\": 310.0, \"label_y\": 1970.0, \"bigg_id\": \"NADP_c\", \"name\": \"NADP_c\", \"node_is_primary\": false}, \"24\": {\"node_type\": \"metabolite\", \"x\": 112.5, \"y\": 2500.0, \"label_x\": 122.5, \"label_y\": 2530.0, \"bigg_id\": \"D_6_P_GLUCONO_DELTA_LACTONE_c\", \"name\": \"D_6_P_GLUCONO_DELTA_LACTONE_c\", \"node_is_primary\": false}, \"25\": {\"node_type\": \"metabolite\", \"x\": 225.0, \"y\": 2500.0, \"label_x\": 235.0, \"label_y\": 2530.0, \"bigg_id\": \"NADPH_c\", \"name\": \"NADPH_c\", \"node_is_primary\": false}, \"26\": {\"node_type\": \"metabolite\", \"x\": 337.5, \"y\": 2500.0, \"label_x\": 347.5, \"label_y\": 2530.0, \"bigg_id\": \"PROTON_c\", \"name\": \"PROTON_c\", \"node_is_primary\": false}, \"27\": {\"node_type\": \"multimarker\", \"x\": 225.0, \"y\": 2255.0}, \"28\": {\"node_type\": \"midmarker\", \"x\": 225.0, \"y\": 2275.0}, \"29\": {\"node_type\": \"multimarker\", \"x\": 225.0, \"y\": 2295.0}}, \"text_labels\": {}, \"canvas\": {\"x\": 0, \"y\": 0, \"width\": 450, \"height\": 2600}}]",
       "_loaded_model_json": null,
       "allow_building_duplicate_reactions": false,
       "and_method_in_gene_reaction_rule": "mean",
       "canvas_size_and_loc": null,
       "cofactors": [
        "atp",
        "adp",
        "nad",
        "nadh",
        "nadp",
        "nadph",
        "gtp",
        "gdp",
        "h",
        "coa",
        "ump",
        "h2o",
        "ppi"
       ],
       "disabled_buttons": [
        "Clear gene data",
        "Clear metabolite data"
       ],
       "embedded_css": null,
       "enable_editing": true,
       "enable_keys": false,
       "enable_keys_with_tooltip": true,
       "enable_search": true,
       "enable_tooltips": false,
       "full_screen_button": {
        "enable_editing": true,
        "enable_keys": true,
        "enable_tooltips": [
         "label"
        ],
        "menu": "all",
        "scroll_behavior": "pan"
       },
       "gene_data": null,
       "gene_font_size": 18,
       "height": 500,
       "hide_all_labels": false,
       "hide_secondary_metabolites": false,
       "highlight_missing": false,
       "identifiers_on_map": "bigg_id",
       "layout": "IPY_MODEL_07fabbe15d3d44dd8318f217ab7ede09",
       "marker_radius": 5,
       "menu": "all",
       "metabolite_compare_style": "log2_fold",
       "metabolite_data": null,
       "metabolite_no_data_color": "#ffffff",
       "metabolite_no_data_size": 10,
       "metabolite_scale": [
        {
         "color": "#fffaf0",
         "size": 20,
         "type": "min"
        },
        {
         "color": "#f1c470",
         "size": 30,
         "type": "median"
        },
        {
         "color": "#800000",
         "size": 40,
         "type": "max"
        }
       ],
       "metabolite_scale_preset": "WhYlRd",
       "metabolite_styles": [
        "color",
        "size",
        "text"
       ],
       "never_ask_before_quit": true,
       "primary_metabolite_radius": 20,
       "reaction_compare_style": "log2_fold",
       "reaction_data": {
        "G6PDH2r": -2,
        "GLCpts": -2,
        "GND": 1,
        "PGL": 0.4
       },
       "reaction_no_data_color": "#dcdcdc",
       "reaction_no_data_size": 8,
       "reaction_scale": [
        {
         "color": "rgb(110,174,110)",
         "type": "value",
         "value": 0.5
        },
        {
         "color": "rgb(0,128,0)",
         "type": "value",
         "value": 1
        },
        {
         "color": "rgb(220,220,220)",
         "type": "value",
         "value": 0
        },
        {
         "color": "rgb(237,110,110)",
         "type": "value",
         "value": -1
        },
        {
         "color": "rgb(255,0,0)",
         "type": "value",
         "value": -2
        }
       ],
       "reaction_scale_preset": null,
       "reaction_styles": [
        "color",
        "text"
       ],
       "scroll_behavior": "none",
       "secondary_metabolite_radius": 10,
       "semantic_zoom": null,
       "show_gene_reaction_rules": false,
       "starting_reaction": null,
       "use_3d_transform": false,
       "zoom_to_element": null
      }
     },
     "a9ebb2c9d08d41cb97b974ccee4235c4": {
      "model_module": "@jupyter-widgets/base",
      "model_module_version": "1.2.0",
      "model_name": "LayoutModel",
      "state": {}
     },
     "ac06b68ebc9043f29e0c53b70151cfde": {
      "model_module": "@jupyter-widgets/base",
      "model_module_version": "1.2.0",
      "model_name": "LayoutModel",
      "state": {}
     },
     "ac746d4a81f54a638c79cf5849ef070f": {
      "model_module": "escher",
      "model_module_version": "1.7.4",
      "model_name": "EscherMapModel",
      "state": {
       "_loaded_map_json": "[{\"map_name\": \"\", \"map_id\": \"\", \"map_description\": \"\", \"homepage\": \"\", \"schema\": \"https://escher.github.io/escher/jsonschema/1-0-0#\"}, {\"reactions\": {\"0\": {\"name\": \"GLCpts\", \"bigg_id\": \"GLCpts\", \"reversibility\": true, \"label_x\": 265.0, \"label_y\": 325.0, \"gene_reaction_rule\": \"\", \"genes\": [], \"segments\": {\"0\": {\"from_node_id\": \"4\", \"to_node_id\": \"5\", \"b1\": null, \"b2\": null}, \"1\": {\"from_node_id\": \"6\", \"to_node_id\": \"5\", \"b1\": null, \"b2\": null}, \"2\": {\"from_node_id\": \"0\", \"to_node_id\": \"4\", \"b1\": null, \"b2\": null}, \"3\": {\"from_node_id\": \"1\", \"to_node_id\": \"4\", \"b1\": null, \"b2\": null}, \"4\": {\"from_node_id\": \"2\", \"to_node_id\": \"6\", \"b1\": null, \"b2\": null}, \"5\": {\"from_node_id\": \"3\", \"to_node_id\": \"6\", \"b1\": null, \"b2\": null}}, \"metabolites\": [{\"bigg_id\": \"Glucopyranose_e\", \"coefficient\": -1.0}, {\"bigg_id\": \"PHOSPHO_ENOL_PYRUVATE_c\", \"coefficient\": -1.0}, {\"bigg_id\": \"D_glucopyranose_6_phosphate_c\", \"coefficient\": 1.0}, {\"bigg_id\": \"PYRUVATE_c\", \"coefficient\": 1.0}]}, \"1\": {\"name\": \"G6PDH2r\", \"bigg_id\": \"G6PDH2r\", \"reversibility\": true, \"label_x\": 265.0, \"label_y\": 975.0, \"gene_reaction_rule\": \"\", \"genes\": [], \"segments\": {\"6\": {\"from_node_id\": \"11\", \"to_node_id\": \"12\", \"b1\": null, \"b2\": null}, \"7\": {\"from_node_id\": \"13\", \"to_node_id\": \"12\", \"b1\": null, \"b2\": null}, \"8\": {\"from_node_id\": \"2\", \"to_node_id\": \"11\", \"b1\": null, \"b2\": null}, \"9\": {\"from_node_id\": \"7\", \"to_node_id\": \"11\", \"b1\": null, \"b2\": null}, \"10\": {\"from_node_id\": \"8\", \"to_node_id\": \"13\", \"b1\": null, \"b2\": null}, \"11\": {\"from_node_id\": \"9\", \"to_node_id\": \"13\", \"b1\": null, \"b2\": null}, \"12\": {\"from_node_id\": \"10\", \"to_node_id\": \"13\", \"b1\": null, \"b2\": null}}, \"metabolites\": [{\"bigg_id\": \"D_glucopyranose_6_phosphate_c\", \"coefficient\": -1.0}, {\"bigg_id\": \"NADP_c\", \"coefficient\": -1.0}, {\"bigg_id\": \"D_6_P_GLUCONO_DELTA_LACTONE_c\", \"coefficient\": 1.0}, {\"bigg_id\": \"NADPH_c\", \"coefficient\": 1.0}, {\"bigg_id\": \"PROTON_c\", \"coefficient\": 1.0}]}, \"2\": {\"name\": \"PGL\", \"bigg_id\": \"PGL\", \"reversibility\": true, \"label_x\": 265.0, \"label_y\": 1625.0, \"gene_reaction_rule\": \"\", \"genes\": [], \"segments\": {\"13\": {\"from_node_id\": \"17\", \"to_node_id\": \"18\", \"b1\": null, \"b2\": null}, \"14\": {\"from_node_id\": \"19\", \"to_node_id\": \"18\", \"b1\": null, \"b2\": null}, \"15\": {\"from_node_id\": \"14\", \"to_node_id\": \"17\", \"b1\": null, \"b2\": null}, \"16\": {\"from_node_id\": \"8\", \"to_node_id\": \"17\", \"b1\": null, \"b2\": null}, \"17\": {\"from_node_id\": \"15\", \"to_node_id\": \"19\", \"b1\": null, \"b2\": null}, \"18\": {\"from_node_id\": \"16\", \"to_node_id\": \"19\", \"b1\": null, \"b2\": null}}, \"metabolites\": [{\"bigg_id\": \"CPD_15815_c\", \"coefficient\": -1.0}, {\"bigg_id\": \"D_6_P_GLUCONO_DELTA_LACTONE_c\", \"coefficient\": -1.0}, {\"bigg_id\": \"CPD_2961_c\", \"coefficient\": 1.0}, {\"bigg_id\": \"PROTON_c\", \"coefficient\": 1.0}]}, \"3\": {\"name\": \"GND\", \"bigg_id\": \"GND\", \"reversibility\": true, \"label_x\": 265.0, \"label_y\": 2275.0, \"gene_reaction_rule\": \"\", \"genes\": [], \"segments\": {\"19\": {\"from_node_id\": \"24\", \"to_node_id\": \"25\", \"b1\": null, \"b2\": null}, \"20\": {\"from_node_id\": \"26\", \"to_node_id\": \"25\", \"b1\": null, \"b2\": null}, \"21\": {\"from_node_id\": \"15\", \"to_node_id\": \"24\", \"b1\": null, \"b2\": null}, \"22\": {\"from_node_id\": \"20\", \"to_node_id\": \"24\", \"b1\": null, \"b2\": null}, \"23\": {\"from_node_id\": \"21\", \"to_node_id\": \"26\", \"b1\": null, \"b2\": null}, \"24\": {\"from_node_id\": \"22\", \"to_node_id\": \"26\", \"b1\": null, \"b2\": null}, \"25\": {\"from_node_id\": \"23\", \"to_node_id\": \"26\", \"b1\": null, \"b2\": null}}, \"metabolites\": [{\"bigg_id\": \"CPD_2961_c\", \"coefficient\": -1.0}, {\"bigg_id\": \"NADP_c\", \"coefficient\": -1.0}, {\"bigg_id\": \"CARBON_DIOXIDE_c\", \"coefficient\": 1.0}, {\"bigg_id\": \"NADPH_c\", \"coefficient\": 1.0}, {\"bigg_id\": \"RIBULOSE_5P_c\", \"coefficient\": 1.0}]}}, \"nodes\": {\"0\": {\"node_type\": \"metabolite\", \"x\": 150.0, \"y\": 30.0, \"label_x\": 160.0, \"label_y\": 20.0, \"bigg_id\": \"Glucopyranose_e\", \"name\": \"Glucopyranose_e\", \"node_is_primary\": false}, \"1\": {\"node_type\": \"metabolite\", \"x\": 300.0, \"y\": 30.0, \"label_x\": 310.0, \"label_y\": 20.0, \"bigg_id\": \"PHOSPHO_ENOL_PYRUVATE_c\", \"name\": \"PHOSPHO_ENOL_PYRUVATE_c\", \"node_is_primary\": false}, \"2\": {\"node_type\": \"metabolite\", \"x\": 150.0, \"y\": 550.0, \"label_x\": 160.0, \"label_y\": 580.0, \"bigg_id\": \"D_glucopyranose_6_phosphate_c\", \"name\": \"D_glucopyranose_6_phosphate_c\", \"node_is_primary\": false}, \"3\": {\"node_type\": \"metabolite\", \"x\": 300.0, \"y\": 550.0, \"label_x\": 310.0, \"label_y\": 580.0, \"bigg_id\": \"PYRUVATE_c\", \"name\": \"PYRUVATE_c\", \"node_is_primary\": false}, \"4\": {\"node_type\": \"multimarker\", \"x\": 225.0, \"y\": 305.0}, \"5\": {\"node_type\": \"midmarker\", \"x\": 225.0, \"y\": 325.0}, \"6\": {\"node_type\": \"multimarker\", \"x\": 225.0, \"y\": 345.0}, \"7\": {\"node_type\": \"metabolite\", \"x\": 300.0, \"y\": 680.0, \"label_x\": 310.0, \"label_y\": 670.0, \"bigg_id\": \"NADP_c\", \"name\": \"NADP_c\", \"node_is_primary\": false}, \"8\": {\"node_type\": \"metabolite\", \"x\": 112.5, \"y\": 1200.0, \"label_x\": 122.5, \"label_y\": 1230.0, \"bigg_id\": \"D_6_P_GLUCONO_DELTA_LACTONE_c\", \"name\": \"D_6_P_GLUCONO_DELTA_LACTONE_c\", \"node_is_primary\": false}, \"9\": {\"node_type\": \"metabolite\", \"x\": 225.0, \"y\": 1200.0, \"label_x\": 235.0, \"label_y\": 1230.0, \"bigg_id\": \"NADPH_c\", \"name\": \"NADPH_c\", \"node_is_primary\": false}, \"10\": {\"node_type\": \"metabolite\", \"x\": 337.5, \"y\": 1200.0, \"label_x\": 347.5, \"label_y\": 1230.0, \"bigg_id\": \"PROTON_c\", \"name\": \"PROTON_c\", \"node_is_primary\": false}, \"11\": {\"node_type\": \"multimarker\", \"x\": 225.0, \"y\": 955.0}, \"12\": {\"node_type\": \"midmarker\", \"x\": 225.0, \"y\": 975.0}, \"13\": {\"node_type\": \"multimarker\", \"x\": 225.0, \"y\": 995.0}, \"14\": {\"node_type\": \"metabolite\", \"x\": 150.0, \"y\": 1330.0, \"label_x\": 160.0, \"label_y\": 1320.0, \"bigg_id\": \"CPD_15815_c\", \"name\": \"CPD_15815_c\", \"node_is_primary\": false}, \"15\": {\"node_type\": \"metabolite\", \"x\": 150.0, \"y\": 1850.0, \"label_x\": 160.0, \"label_y\": 1880.0, \"bigg_id\": \"CPD_2961_c\", \"name\": \"CPD_2961_c\", \"node_is_primary\": false}, \"16\": {\"node_type\": \"metabolite\", \"x\": 300.0, \"y\": 1850.0, \"label_x\": 310.0, \"label_y\": 1880.0, \"bigg_id\": \"PROTON_c\", \"name\": \"PROTON_c\", \"node_is_primary\": false}, \"17\": {\"node_type\": \"multimarker\", \"x\": 225.0, \"y\": 1605.0}, \"18\": {\"node_type\": \"midmarker\", \"x\": 225.0, \"y\": 1625.0}, \"19\": {\"node_type\": \"multimarker\", \"x\": 225.0, \"y\": 1645.0}, \"20\": {\"node_type\": \"metabolite\", \"x\": 300.0, \"y\": 1980.0, \"label_x\": 310.0, \"label_y\": 1970.0, \"bigg_id\": \"NADP_c\", \"name\": \"NADP_c\", \"node_is_primary\": false}, \"21\": {\"node_type\": \"metabolite\", \"x\": 112.5, \"y\": 2500.0, \"label_x\": 122.5, \"label_y\": 2530.0, \"bigg_id\": \"CARBON_DIOXIDE_c\", \"name\": \"CARBON_DIOXIDE_c\", \"node_is_primary\": false}, \"22\": {\"node_type\": \"metabolite\", \"x\": 225.0, \"y\": 2500.0, \"label_x\": 235.0, \"label_y\": 2530.0, \"bigg_id\": \"NADPH_c\", \"name\": \"NADPH_c\", \"node_is_primary\": false}, \"23\": {\"node_type\": \"metabolite\", \"x\": 337.5, \"y\": 2500.0, \"label_x\": 347.5, \"label_y\": 2530.0, \"bigg_id\": \"RIBULOSE_5P_c\", \"name\": \"RIBULOSE_5P_c\", \"node_is_primary\": false}, \"24\": {\"node_type\": \"multimarker\", \"x\": 225.0, \"y\": 2255.0}, \"25\": {\"node_type\": \"midmarker\", \"x\": 225.0, \"y\": 2275.0}, \"26\": {\"node_type\": \"multimarker\", \"x\": 225.0, \"y\": 2295.0}}, \"text_labels\": {}, \"canvas\": {\"x\": 0, \"y\": 0, \"width\": 450, \"height\": 2600}}]",
       "_loaded_model_json": null,
       "allow_building_duplicate_reactions": false,
       "and_method_in_gene_reaction_rule": "mean",
       "canvas_size_and_loc": null,
       "cofactors": [
        "atp",
        "adp",
        "nad",
        "nadh",
        "nadp",
        "nadph",
        "gtp",
        "gdp",
        "h",
        "coa",
        "ump",
        "h2o",
        "ppi"
       ],
       "disabled_buttons": [
        "Clear gene data",
        "Clear metabolite data"
       ],
       "embedded_css": null,
       "enable_editing": true,
       "enable_keys": false,
       "enable_keys_with_tooltip": true,
       "enable_search": true,
       "enable_tooltips": false,
       "full_screen_button": {
        "enable_editing": true,
        "enable_keys": true,
        "enable_tooltips": [
         "label"
        ],
        "menu": "all",
        "scroll_behavior": "pan"
       },
       "gene_data": null,
       "gene_font_size": 18,
       "height": 500,
       "hide_all_labels": false,
       "hide_secondary_metabolites": false,
       "highlight_missing": false,
       "identifiers_on_map": "bigg_id",
       "layout": "IPY_MODEL_bcbc08ed6aff4f54a21d124a70dd0e61",
       "marker_radius": 5,
       "menu": "all",
       "metabolite_compare_style": "log2_fold",
       "metabolite_data": null,
       "metabolite_no_data_color": "#ffffff",
       "metabolite_no_data_size": 10,
       "metabolite_scale": [
        {
         "color": "#fffaf0",
         "size": 20,
         "type": "min"
        },
        {
         "color": "#f1c470",
         "size": 30,
         "type": "median"
        },
        {
         "color": "#800000",
         "size": 40,
         "type": "max"
        }
       ],
       "metabolite_scale_preset": "WhYlRd",
       "metabolite_styles": [
        "color",
        "size",
        "text"
       ],
       "never_ask_before_quit": true,
       "primary_metabolite_radius": 20,
       "reaction_compare_style": "log2_fold",
       "reaction_data": {
        "G6PDH2r": -2,
        "GLCpts": -2,
        "GND": 1,
        "PGL": 0.4
       },
       "reaction_no_data_color": "#dcdcdc",
       "reaction_no_data_size": 8,
       "reaction_scale": [
        {
         "color": "rgb(146,189,146)",
         "type": "value",
         "value": 3.3333333333333335
        },
        {
         "color": "rgb(73,158,73)",
         "type": "value",
         "value": 6.666666666666666
        },
        {
         "color": "rgb(0,127,0)",
         "type": "value",
         "value": 10
        },
        {
         "color": "rgb(220,220,220)",
         "type": "value",
         "value": 0
        },
        {
         "color": "rgb(231,146,146)",
         "type": "value",
         "value": -3.3333333333333335
        },
        {
         "color": "rgb(243,73,73)",
         "type": "value",
         "value": -6.666666666666666
        },
        {
         "color": "rgb(255,0,0)",
         "type": "value",
         "value": -10
        }
       ],
       "reaction_scale_preset": null,
       "reaction_styles": [
        "color",
        "text"
       ],
       "scroll_behavior": "none",
       "secondary_metabolite_radius": 10,
       "semantic_zoom": null,
       "show_gene_reaction_rules": false,
       "starting_reaction": null,
       "use_3d_transform": false,
       "zoom_to_element": null
      }
     },
     "b0ec7cfc17c3422ab89b5c1532f62d8f": {
      "model_module": "escher",
      "model_module_version": "1.7.4",
      "model_name": "EscherMapModel",
      "state": {
       "_loaded_map_json": "[{\"map_name\": \"\", \"map_id\": \"\", \"map_description\": \"\", \"homepage\": \"\", \"schema\": \"https://escher.github.io/escher/jsonschema/1-0-0#\"}, {\"reactions\": {\"0\": {\"name\": \"GLCpts\", \"bigg_id\": \"GLCpts\", \"reversibility\": true, \"label_x\": 265.0, \"label_y\": 325.0, \"gene_reaction_rule\": \"\", \"genes\": [], \"segments\": {\"0\": {\"from_node_id\": \"4\", \"to_node_id\": \"5\", \"b1\": null, \"b2\": null}, \"1\": {\"from_node_id\": \"6\", \"to_node_id\": \"5\", \"b1\": null, \"b2\": null}, \"2\": {\"from_node_id\": \"0\", \"to_node_id\": \"4\", \"b1\": null, \"b2\": null}, \"3\": {\"from_node_id\": \"1\", \"to_node_id\": \"4\", \"b1\": null, \"b2\": null}, \"4\": {\"from_node_id\": \"2\", \"to_node_id\": \"6\", \"b1\": null, \"b2\": null}, \"5\": {\"from_node_id\": \"3\", \"to_node_id\": \"6\", \"b1\": null, \"b2\": null}}, \"metabolites\": [{\"bigg_id\": \"Glucopyranose_e\", \"coefficient\": -1.0}, {\"bigg_id\": \"PHOSPHO_ENOL_PYRUVATE_c\", \"coefficient\": -1.0}, {\"bigg_id\": \"D_glucopyranose_6_phosphate_c\", \"coefficient\": 1.0}, {\"bigg_id\": \"PYRUVATE_c\", \"coefficient\": 1.0}]}, \"1\": {\"name\": \"G6PDH2r\", \"bigg_id\": \"G6PDH2r\", \"reversibility\": true, \"label_x\": 265.0, \"label_y\": 975.0, \"gene_reaction_rule\": \"\", \"genes\": [], \"segments\": {\"6\": {\"from_node_id\": \"11\", \"to_node_id\": \"12\", \"b1\": null, \"b2\": null}, \"7\": {\"from_node_id\": \"13\", \"to_node_id\": \"12\", \"b1\": null, \"b2\": null}, \"8\": {\"from_node_id\": \"2\", \"to_node_id\": \"11\", \"b1\": null, \"b2\": null}, \"9\": {\"from_node_id\": \"7\", \"to_node_id\": \"11\", \"b1\": null, \"b2\": null}, \"10\": {\"from_node_id\": \"8\", \"to_node_id\": \"13\", \"b1\": null, \"b2\": null}, \"11\": {\"from_node_id\": \"9\", \"to_node_id\": \"13\", \"b1\": null, \"b2\": null}, \"12\": {\"from_node_id\": \"10\", \"to_node_id\": \"13\", \"b1\": null, \"b2\": null}}, \"metabolites\": [{\"bigg_id\": \"D_glucopyranose_6_phosphate_c\", \"coefficient\": -1.0}, {\"bigg_id\": \"NADP_c\", \"coefficient\": -1.0}, {\"bigg_id\": \"D_6_P_GLUCONO_DELTA_LACTONE_c\", \"coefficient\": 1.0}, {\"bigg_id\": \"NADPH_c\", \"coefficient\": 1.0}, {\"bigg_id\": \"PROTON_c\", \"coefficient\": 1.0}]}, \"2\": {\"name\": \"PGL\", \"bigg_id\": \"PGL\", \"reversibility\": true, \"label_x\": 265.0, \"label_y\": 1625.0, \"gene_reaction_rule\": \"\", \"genes\": [], \"segments\": {\"13\": {\"from_node_id\": \"17\", \"to_node_id\": \"18\", \"b1\": null, \"b2\": null}, \"14\": {\"from_node_id\": \"19\", \"to_node_id\": \"18\", \"b1\": null, \"b2\": null}, \"15\": {\"from_node_id\": \"14\", \"to_node_id\": \"17\", \"b1\": null, \"b2\": null}, \"16\": {\"from_node_id\": \"8\", \"to_node_id\": \"17\", \"b1\": null, \"b2\": null}, \"17\": {\"from_node_id\": \"15\", \"to_node_id\": \"19\", \"b1\": null, \"b2\": null}, \"18\": {\"from_node_id\": \"16\", \"to_node_id\": \"19\", \"b1\": null, \"b2\": null}}, \"metabolites\": [{\"bigg_id\": \"CPD_15815_c\", \"coefficient\": -1.0}, {\"bigg_id\": \"D_6_P_GLUCONO_DELTA_LACTONE_c\", \"coefficient\": -1.0}, {\"bigg_id\": \"CPD_2961_c\", \"coefficient\": 1.0}, {\"bigg_id\": \"PROTON_c\", \"coefficient\": 1.0}]}, \"3\": {\"name\": \"GND\", \"bigg_id\": \"GND\", \"reversibility\": true, \"label_x\": 265.0, \"label_y\": 2275.0, \"gene_reaction_rule\": \"\", \"genes\": [], \"segments\": {\"19\": {\"from_node_id\": \"24\", \"to_node_id\": \"25\", \"b1\": null, \"b2\": null}, \"20\": {\"from_node_id\": \"26\", \"to_node_id\": \"25\", \"b1\": null, \"b2\": null}, \"21\": {\"from_node_id\": \"15\", \"to_node_id\": \"24\", \"b1\": null, \"b2\": null}, \"22\": {\"from_node_id\": \"20\", \"to_node_id\": \"24\", \"b1\": null, \"b2\": null}, \"23\": {\"from_node_id\": \"21\", \"to_node_id\": \"26\", \"b1\": null, \"b2\": null}, \"24\": {\"from_node_id\": \"22\", \"to_node_id\": \"26\", \"b1\": null, \"b2\": null}, \"25\": {\"from_node_id\": \"23\", \"to_node_id\": \"26\", \"b1\": null, \"b2\": null}}, \"metabolites\": [{\"bigg_id\": \"CPD_2961_c\", \"coefficient\": -1.0}, {\"bigg_id\": \"NADP_c\", \"coefficient\": -1.0}, {\"bigg_id\": \"CARBON_DIOXIDE_c\", \"coefficient\": 1.0}, {\"bigg_id\": \"NADPH_c\", \"coefficient\": 1.0}, {\"bigg_id\": \"RIBULOSE_5P_c\", \"coefficient\": 1.0}]}}, \"nodes\": {\"0\": {\"node_type\": \"metabolite\", \"x\": 150.0, \"y\": 30.0, \"label_x\": 160.0, \"label_y\": 20.0, \"bigg_id\": \"Glucopyranose_e\", \"name\": \"Glucopyranose_e\", \"node_is_primary\": false}, \"1\": {\"node_type\": \"metabolite\", \"x\": 300.0, \"y\": 30.0, \"label_x\": 310.0, \"label_y\": 20.0, \"bigg_id\": \"PHOSPHO_ENOL_PYRUVATE_c\", \"name\": \"PHOSPHO_ENOL_PYRUVATE_c\", \"node_is_primary\": false}, \"2\": {\"node_type\": \"metabolite\", \"x\": 150.0, \"y\": 550.0, \"label_x\": 160.0, \"label_y\": 580.0, \"bigg_id\": \"D_glucopyranose_6_phosphate_c\", \"name\": \"D_glucopyranose_6_phosphate_c\", \"node_is_primary\": false}, \"3\": {\"node_type\": \"metabolite\", \"x\": 300.0, \"y\": 550.0, \"label_x\": 310.0, \"label_y\": 580.0, \"bigg_id\": \"PYRUVATE_c\", \"name\": \"PYRUVATE_c\", \"node_is_primary\": false}, \"4\": {\"node_type\": \"multimarker\", \"x\": 225.0, \"y\": 305.0}, \"5\": {\"node_type\": \"midmarker\", \"x\": 225.0, \"y\": 325.0}, \"6\": {\"node_type\": \"multimarker\", \"x\": 225.0, \"y\": 345.0}, \"7\": {\"node_type\": \"metabolite\", \"x\": 300.0, \"y\": 680.0, \"label_x\": 310.0, \"label_y\": 670.0, \"bigg_id\": \"NADP_c\", \"name\": \"NADP_c\", \"node_is_primary\": false}, \"8\": {\"node_type\": \"metabolite\", \"x\": 112.5, \"y\": 1200.0, \"label_x\": 122.5, \"label_y\": 1230.0, \"bigg_id\": \"D_6_P_GLUCONO_DELTA_LACTONE_c\", \"name\": \"D_6_P_GLUCONO_DELTA_LACTONE_c\", \"node_is_primary\": false}, \"9\": {\"node_type\": \"metabolite\", \"x\": 225.0, \"y\": 1200.0, \"label_x\": 235.0, \"label_y\": 1230.0, \"bigg_id\": \"NADPH_c\", \"name\": \"NADPH_c\", \"node_is_primary\": false}, \"10\": {\"node_type\": \"metabolite\", \"x\": 337.5, \"y\": 1200.0, \"label_x\": 347.5, \"label_y\": 1230.0, \"bigg_id\": \"PROTON_c\", \"name\": \"PROTON_c\", \"node_is_primary\": false}, \"11\": {\"node_type\": \"multimarker\", \"x\": 225.0, \"y\": 955.0}, \"12\": {\"node_type\": \"midmarker\", \"x\": 225.0, \"y\": 975.0}, \"13\": {\"node_type\": \"multimarker\", \"x\": 225.0, \"y\": 995.0}, \"14\": {\"node_type\": \"metabolite\", \"x\": 150.0, \"y\": 1330.0, \"label_x\": 160.0, \"label_y\": 1320.0, \"bigg_id\": \"CPD_15815_c\", \"name\": \"CPD_15815_c\", \"node_is_primary\": false}, \"15\": {\"node_type\": \"metabolite\", \"x\": 150.0, \"y\": 1850.0, \"label_x\": 160.0, \"label_y\": 1880.0, \"bigg_id\": \"CPD_2961_c\", \"name\": \"CPD_2961_c\", \"node_is_primary\": false}, \"16\": {\"node_type\": \"metabolite\", \"x\": 300.0, \"y\": 1850.0, \"label_x\": 310.0, \"label_y\": 1880.0, \"bigg_id\": \"PROTON_c\", \"name\": \"PROTON_c\", \"node_is_primary\": false}, \"17\": {\"node_type\": \"multimarker\", \"x\": 225.0, \"y\": 1605.0}, \"18\": {\"node_type\": \"midmarker\", \"x\": 225.0, \"y\": 1625.0}, \"19\": {\"node_type\": \"multimarker\", \"x\": 225.0, \"y\": 1645.0}, \"20\": {\"node_type\": \"metabolite\", \"x\": 300.0, \"y\": 1980.0, \"label_x\": 310.0, \"label_y\": 1970.0, \"bigg_id\": \"NADP_c\", \"name\": \"NADP_c\", \"node_is_primary\": false}, \"21\": {\"node_type\": \"metabolite\", \"x\": 112.5, \"y\": 2500.0, \"label_x\": 122.5, \"label_y\": 2530.0, \"bigg_id\": \"CARBON_DIOXIDE_c\", \"name\": \"CARBON_DIOXIDE_c\", \"node_is_primary\": false}, \"22\": {\"node_type\": \"metabolite\", \"x\": 225.0, \"y\": 2500.0, \"label_x\": 235.0, \"label_y\": 2530.0, \"bigg_id\": \"NADPH_c\", \"name\": \"NADPH_c\", \"node_is_primary\": false}, \"23\": {\"node_type\": \"metabolite\", \"x\": 337.5, \"y\": 2500.0, \"label_x\": 347.5, \"label_y\": 2530.0, \"bigg_id\": \"RIBULOSE_5P_c\", \"name\": \"RIBULOSE_5P_c\", \"node_is_primary\": false}, \"24\": {\"node_type\": \"multimarker\", \"x\": 225.0, \"y\": 2255.0}, \"25\": {\"node_type\": \"midmarker\", \"x\": 225.0, \"y\": 2275.0}, \"26\": {\"node_type\": \"multimarker\", \"x\": 225.0, \"y\": 2295.0}}, \"text_labels\": {}, \"canvas\": {\"x\": 0, \"y\": 0, \"width\": 450, \"height\": 2600}}]",
       "_loaded_model_json": null,
       "allow_building_duplicate_reactions": false,
       "and_method_in_gene_reaction_rule": "mean",
       "canvas_size_and_loc": null,
       "cofactors": [
        "atp",
        "adp",
        "nad",
        "nadh",
        "nadp",
        "nadph",
        "gtp",
        "gdp",
        "h",
        "coa",
        "ump",
        "h2o",
        "ppi"
       ],
       "disabled_buttons": [
        "Clear gene data",
        "Clear metabolite data"
       ],
       "embedded_css": null,
       "enable_editing": true,
       "enable_keys": false,
       "enable_keys_with_tooltip": true,
       "enable_search": true,
       "enable_tooltips": false,
       "full_screen_button": {
        "enable_editing": true,
        "enable_keys": true,
        "enable_tooltips": [
         "label"
        ],
        "menu": "all",
        "scroll_behavior": "pan"
       },
       "gene_data": null,
       "gene_font_size": 18,
       "height": 500,
       "hide_all_labels": false,
       "hide_secondary_metabolites": false,
       "highlight_missing": false,
       "identifiers_on_map": "bigg_id",
       "layout": "IPY_MODEL_c8e875e08b014846b83d80fe889bf4df",
       "marker_radius": 5,
       "menu": "all",
       "metabolite_compare_style": "log2_fold",
       "metabolite_data": null,
       "metabolite_no_data_color": "#ffffff",
       "metabolite_no_data_size": 10,
       "metabolite_scale": [
        {
         "color": "#fffaf0",
         "size": 20,
         "type": "min"
        },
        {
         "color": "#f1c470",
         "size": 30,
         "type": "median"
        },
        {
         "color": "#800000",
         "size": 40,
         "type": "max"
        }
       ],
       "metabolite_scale_preset": "WhYlRd",
       "metabolite_styles": [
        "color",
        "size",
        "text"
       ],
       "never_ask_before_quit": true,
       "primary_metabolite_radius": 20,
       "reaction_compare_style": "log2_fold",
       "reaction_data": {
        "G6PDH2r": -2,
        "GLCpts": -2,
        "GND": 1,
        "PGL": 0.4
       },
       "reaction_no_data_color": "#dcdcdc",
       "reaction_no_data_size": 8,
       "reaction_scale": [
        {
         "color": "rgb(220,220,220)",
         "type": "value",
         "value": 0.5
        },
        {
         "color": "rgb(220,220,220)",
         "type": "value",
         "value": 1
        },
        {
         "color": "rgb(220,220,220)",
         "type": "value",
         "value": 0
        },
        {
         "color": "rgb(220,220,220)",
         "type": "value",
         "value": -1
        },
        {
         "color": "rgb(220,220,220)",
         "type": "value",
         "value": -2
        }
       ],
       "reaction_scale_preset": null,
       "reaction_styles": [
        "color",
        "text"
       ],
       "scroll_behavior": "none",
       "secondary_metabolite_radius": 10,
       "semantic_zoom": null,
       "show_gene_reaction_rules": false,
       "starting_reaction": null,
       "use_3d_transform": false,
       "zoom_to_element": null
      }
     },
     "b0f72239b46540109dcdc2872aef4b17": {
      "model_module": "@jupyter-widgets/base",
      "model_module_version": "1.2.0",
      "model_name": "LayoutModel",
      "state": {}
     },
     "b1071368e6d24524820ec609b2c8a4ee": {
      "model_module": "escher",
      "model_module_version": "1.7.4",
      "model_name": "EscherMapModel",
      "state": {
       "_loaded_map_json": "[{\"map_name\": \"\", \"map_id\": \"\", \"map_description\": \"\", \"homepage\": \"\", \"schema\": \"https://escher.github.io/escher/jsonschema/1-0-0#\"}, {\"reactions\": {\"0\": {\"name\": \"PGL\", \"bigg_id\": \"PGL\", \"reversibility\": true, \"label_x\": 298.0, \"label_y\": 45.0, \"gene_reaction_rule\": \"\", \"genes\": [], \"segments\": {\"0\": {\"from_node_id\": \"4\", \"to_node_id\": \"5\", \"b1\": null, \"b2\": null}, \"1\": {\"from_node_id\": \"6\", \"to_node_id\": \"5\", \"b1\": null, \"b2\": null}, \"2\": {\"from_node_id\": \"0\", \"to_node_id\": \"4\", \"b1\": null, \"b2\": null}, \"3\": {\"from_node_id\": \"1\", \"to_node_id\": \"4\", \"b1\": null, \"b2\": null}, \"4\": {\"from_node_id\": \"2\", \"to_node_id\": \"6\", \"b1\": null, \"b2\": null}, \"5\": {\"from_node_id\": \"3\", \"to_node_id\": \"6\", \"b1\": null, \"b2\": null}}, \"metabolites\": [{\"bigg_id\": \"CPD_15815_c\", \"coefficient\": -1.0}, {\"bigg_id\": \"D_6_P_GLUCONO_DELTA_LACTONE_c\", \"coefficient\": -1.0}, {\"bigg_id\": \"CPD_2961_c\", \"coefficient\": 1.0}, {\"bigg_id\": \"PROTON_c\", \"coefficient\": 1.0}]}, \"1\": {\"name\": \"GLCpts\", \"bigg_id\": \"GLCpts\", \"reversibility\": true, \"label_x\": 921.0, \"label_y\": 45.0, \"gene_reaction_rule\": \"\", \"genes\": [], \"segments\": {\"6\": {\"from_node_id\": \"11\", \"to_node_id\": \"12\", \"b1\": null, \"b2\": null}, \"7\": {\"from_node_id\": \"13\", \"to_node_id\": \"12\", \"b1\": null, \"b2\": null}, \"8\": {\"from_node_id\": \"7\", \"to_node_id\": \"11\", \"b1\": null, \"b2\": null}, \"9\": {\"from_node_id\": \"8\", \"to_node_id\": \"11\", \"b1\": null, \"b2\": null}, \"10\": {\"from_node_id\": \"9\", \"to_node_id\": \"13\", \"b1\": null, \"b2\": null}, \"11\": {\"from_node_id\": \"10\", \"to_node_id\": \"13\", \"b1\": null, \"b2\": null}}, \"metabolites\": [{\"bigg_id\": \"Glucopyranose_e\", \"coefficient\": -1.0}, {\"bigg_id\": \"PHOSPHO_ENOL_PYRUVATE_c\", \"coefficient\": -1.0}, {\"bigg_id\": \"D_glucopyranose_6_phosphate_c\", \"coefficient\": 1.0}, {\"bigg_id\": \"PYRUVATE_c\", \"coefficient\": 1.0}]}, \"2\": {\"name\": \"GND\", \"bigg_id\": \"GND\", \"reversibility\": true, \"label_x\": 1598.0, \"label_y\": 45.0, \"gene_reaction_rule\": \"\", \"genes\": [], \"segments\": {\"12\": {\"from_node_id\": \"19\", \"to_node_id\": \"20\", \"b1\": null, \"b2\": null}, \"13\": {\"from_node_id\": \"21\", \"to_node_id\": \"20\", \"b1\": null, \"b2\": null}, \"14\": {\"from_node_id\": \"14\", \"to_node_id\": \"19\", \"b1\": null, \"b2\": null}, \"15\": {\"from_node_id\": \"15\", \"to_node_id\": \"19\", \"b1\": null, \"b2\": null}, \"16\": {\"from_node_id\": \"16\", \"to_node_id\": \"21\", \"b1\": null, \"b2\": null}, \"17\": {\"from_node_id\": \"17\", \"to_node_id\": \"21\", \"b1\": null, \"b2\": null}, \"18\": {\"from_node_id\": \"18\", \"to_node_id\": \"21\", \"b1\": null, \"b2\": null}}, \"metabolites\": [{\"bigg_id\": \"CPD_2961_c\", \"coefficient\": -1.0}, {\"bigg_id\": \"NADP_c\", \"coefficient\": -1.0}, {\"bigg_id\": \"CARBON_DIOXIDE_c\", \"coefficient\": 1.0}, {\"bigg_id\": \"NADPH_c\", \"coefficient\": 1.0}, {\"bigg_id\": \"RIBULOSE_5P_c\", \"coefficient\": 1.0}]}, \"3\": {\"name\": \"G6PDH2r\", \"bigg_id\": \"G6PDH2r\", \"reversibility\": true, \"label_x\": 2212.0, \"label_y\": 45.0, \"gene_reaction_rule\": \"\", \"genes\": [], \"segments\": {\"19\": {\"from_node_id\": \"27\", \"to_node_id\": \"28\", \"b1\": null, \"b2\": null}, \"20\": {\"from_node_id\": \"29\", \"to_node_id\": \"28\", \"b1\": null, \"b2\": null}, \"21\": {\"from_node_id\": \"22\", \"to_node_id\": \"27\", \"b1\": null, \"b2\": null}, \"22\": {\"from_node_id\": \"23\", \"to_node_id\": \"27\", \"b1\": null, \"b2\": null}, \"23\": {\"from_node_id\": \"24\", \"to_node_id\": \"29\", \"b1\": null, \"b2\": null}, \"24\": {\"from_node_id\": \"25\", \"to_node_id\": \"29\", \"b1\": null, \"b2\": null}, \"25\": {\"from_node_id\": \"26\", \"to_node_id\": \"29\", \"b1\": null, \"b2\": null}}, \"metabolites\": [{\"bigg_id\": \"D_glucopyranose_6_phosphate_c\", \"coefficient\": -1.0}, {\"bigg_id\": \"NADP_c\", \"coefficient\": -1.0}, {\"bigg_id\": \"D_6_P_GLUCONO_DELTA_LACTONE_c\", \"coefficient\": 1.0}, {\"bigg_id\": \"NADPH_c\", \"coefficient\": 1.0}, {\"bigg_id\": \"PROTON_c\", \"coefficient\": 1.0}]}}, \"nodes\": {\"0\": {\"node_type\": \"metabolite\", \"x\": 30.0, \"y\": 150.0, \"label_x\": 0.0, \"label_y\": 130.0, \"bigg_id\": \"CPD_15815_c\", \"name\": \"CPD_15815_c\", \"node_is_primary\": false}, \"1\": {\"node_type\": \"metabolite\", \"x\": 30.0, \"y\": 300.0, \"label_x\": 0.0, \"label_y\": 280.0, \"bigg_id\": \"D_6_P_GLUCONO_DELTA_LACTONE_c\", \"name\": \"D_6_P_GLUCONO_DELTA_LACTONE_c\", \"node_is_primary\": false}, \"2\": {\"node_type\": \"metabolite\", \"x\": 550.0, \"y\": 150.0, \"label_x\": 520.0, \"label_y\": 130.0, \"bigg_id\": \"CPD_2961_c\", \"name\": \"CPD_2961_c\", \"node_is_primary\": false}, \"3\": {\"node_type\": \"metabolite\", \"x\": 550.0, \"y\": 300.0, \"label_x\": 520.0, \"label_y\": 280.0, \"bigg_id\": \"PROTON_c\", \"name\": \"PROTON_c\", \"node_is_primary\": false}, \"4\": {\"node_type\": \"multimarker\", \"x\": 335.0, \"y\": 225.0}, \"5\": {\"node_type\": \"midmarker\", \"x\": 355.0, \"y\": 225.0}, \"6\": {\"node_type\": \"multimarker\", \"x\": 375.0, \"y\": 225.0}, \"7\": {\"node_type\": \"metabolite\", \"x\": 680.0, \"y\": 150.0, \"label_x\": 650.0, \"label_y\": 130.0, \"bigg_id\": \"Glucopyranose_e\", \"name\": \"Glucopyranose_e\", \"node_is_primary\": false}, \"8\": {\"node_type\": \"metabolite\", \"x\": 680.0, \"y\": 300.0, \"label_x\": 650.0, \"label_y\": 280.0, \"bigg_id\": \"PHOSPHO_ENOL_PYRUVATE_c\", \"name\": \"PHOSPHO_ENOL_PYRUVATE_c\", \"node_is_primary\": false}, \"9\": {\"node_type\": \"metabolite\", \"x\": 1200.0, \"y\": 150.0, \"label_x\": 1170.0, \"label_y\": 130.0, \"bigg_id\": \"D_glucopyranose_6_phosphate_c\", \"name\": \"D_glucopyranose_6_phosphate_c\", \"node_is_primary\": false}, \"10\": {\"node_type\": \"metabolite\", \"x\": 1200.0, \"y\": 300.0, \"label_x\": 1170.0, \"label_y\": 280.0, \"bigg_id\": \"PYRUVATE_c\", \"name\": \"PYRUVATE_c\", \"node_is_primary\": false}, \"11\": {\"node_type\": \"multimarker\", \"x\": 985.0, \"y\": 225.0}, \"12\": {\"node_type\": \"midmarker\", \"x\": 1005.0, \"y\": 225.0}, \"13\": {\"node_type\": \"multimarker\", \"x\": 1025.0, \"y\": 225.0}, \"14\": {\"node_type\": \"metabolite\", \"x\": 1330.0, \"y\": 150.0, \"label_x\": 1300.0, \"label_y\": 130.0, \"bigg_id\": \"CPD_2961_c\", \"name\": \"CPD_2961_c\", \"node_is_primary\": false}, \"15\": {\"node_type\": \"metabolite\", \"x\": 1330.0, \"y\": 300.0, \"label_x\": 1300.0, \"label_y\": 280.0, \"bigg_id\": \"NADP_c\", \"name\": \"NADP_c\", \"node_is_primary\": false}, \"16\": {\"node_type\": \"metabolite\", \"x\": 1850.0, \"y\": 112.5, \"label_x\": 1820.0, \"label_y\": 92.5, \"bigg_id\": \"CARBON_DIOXIDE_c\", \"name\": \"CARBON_DIOXIDE_c\", \"node_is_primary\": false}, \"17\": {\"node_type\": \"metabolite\", \"x\": 1850.0, \"y\": 225.0, \"label_x\": 1820.0, \"label_y\": 205.0, \"bigg_id\": \"NADPH_c\", \"name\": \"NADPH_c\", \"node_is_primary\": false}, \"18\": {\"node_type\": \"metabolite\", \"x\": 1850.0, \"y\": 337.5, \"label_x\": 1820.0, \"label_y\": 317.5, \"bigg_id\": \"RIBULOSE_5P_c\", \"name\": \"RIBULOSE_5P_c\", \"node_is_primary\": false}, \"19\": {\"node_type\": \"multimarker\", \"x\": 1635.0, \"y\": 225.0}, \"20\": {\"node_type\": \"midmarker\", \"x\": 1655.0, \"y\": 225.0}, \"21\": {\"node_type\": \"multimarker\", \"x\": 1675.0, \"y\": 225.0}, \"22\": {\"node_type\": \"metabolite\", \"x\": 1980.0, \"y\": 150.0, \"label_x\": 1950.0, \"label_y\": 130.0, \"bigg_id\": \"D_glucopyranose_6_phosphate_c\", \"name\": \"D_glucopyranose_6_phosphate_c\", \"node_is_primary\": false}, \"23\": {\"node_type\": \"metabolite\", \"x\": 1980.0, \"y\": 300.0, \"label_x\": 1950.0, \"label_y\": 280.0, \"bigg_id\": \"NADP_c\", \"name\": \"NADP_c\", \"node_is_primary\": false}, \"24\": {\"node_type\": \"metabolite\", \"x\": 2500.0, \"y\": 112.5, \"label_x\": 2470.0, \"label_y\": 92.5, \"bigg_id\": \"D_6_P_GLUCONO_DELTA_LACTONE_c\", \"name\": \"D_6_P_GLUCONO_DELTA_LACTONE_c\", \"node_is_primary\": false}, \"25\": {\"node_type\": \"metabolite\", \"x\": 2500.0, \"y\": 225.0, \"label_x\": 2470.0, \"label_y\": 205.0, \"bigg_id\": \"NADPH_c\", \"name\": \"NADPH_c\", \"node_is_primary\": false}, \"26\": {\"node_type\": \"metabolite\", \"x\": 2500.0, \"y\": 337.5, \"label_x\": 2470.0, \"label_y\": 317.5, \"bigg_id\": \"PROTON_c\", \"name\": \"PROTON_c\", \"node_is_primary\": false}, \"27\": {\"node_type\": \"multimarker\", \"x\": 2285.0, \"y\": 225.0}, \"28\": {\"node_type\": \"midmarker\", \"x\": 2305.0, \"y\": 225.0}, \"29\": {\"node_type\": \"multimarker\", \"x\": 2325.0, \"y\": 225.0}}, \"text_labels\": {}, \"canvas\": {\"x\": 0, \"y\": 0, \"width\": 2600, \"height\": 450}}]",
       "_loaded_model_json": null,
       "allow_building_duplicate_reactions": false,
       "and_method_in_gene_reaction_rule": "mean",
       "canvas_size_and_loc": null,
       "cofactors": [
        "atp",
        "adp",
        "nad",
        "nadh",
        "nadp",
        "nadph",
        "gtp",
        "gdp",
        "h",
        "coa",
        "ump",
        "h2o",
        "ppi"
       ],
       "disabled_buttons": [
        "Clear reaction data",
        "Clear gene data",
        "Clear metabolite data"
       ],
       "embedded_css": null,
       "enable_editing": true,
       "enable_keys": false,
       "enable_keys_with_tooltip": true,
       "enable_search": true,
       "enable_tooltips": false,
       "full_screen_button": {
        "enable_editing": true,
        "enable_keys": true,
        "enable_tooltips": [
         "label"
        ],
        "menu": "all",
        "scroll_behavior": "pan"
       },
       "gene_data": null,
       "gene_font_size": 18,
       "height": 500,
       "hide_all_labels": false,
       "hide_secondary_metabolites": false,
       "highlight_missing": false,
       "identifiers_on_map": "bigg_id",
       "layout": "IPY_MODEL_8652d80f3b5b4d43aba7ebdf01388123",
       "marker_radius": 5,
       "menu": "all",
       "metabolite_compare_style": "log2_fold",
       "metabolite_data": null,
       "metabolite_no_data_color": "#ffffff",
       "metabolite_no_data_size": 10,
       "metabolite_scale": [
        {
         "color": "#fffaf0",
         "size": 20,
         "type": "min"
        },
        {
         "color": "#f1c470",
         "size": 30,
         "type": "median"
        },
        {
         "color": "#800000",
         "size": 40,
         "type": "max"
        }
       ],
       "metabolite_scale_preset": "WhYlRd",
       "metabolite_styles": [
        "color",
        "size",
        "text"
       ],
       "never_ask_before_quit": true,
       "primary_metabolite_radius": 20,
       "reaction_compare_style": "log2_fold",
       "reaction_data": null,
       "reaction_no_data_color": "#dcdcdc",
       "reaction_no_data_size": 8,
       "reaction_scale": {},
       "reaction_scale_preset": null,
       "reaction_styles": [
        "color",
        "text"
       ],
       "scroll_behavior": "none",
       "secondary_metabolite_radius": 10,
       "semantic_zoom": null,
       "show_gene_reaction_rules": false,
       "starting_reaction": null,
       "use_3d_transform": false,
       "zoom_to_element": null
      }
     },
     "b50471a79c4e4a85b03115b8c253beac": {
      "model_module": "escher",
      "model_module_version": "1.7.4",
      "model_name": "EscherMapModel",
      "state": {
       "_loaded_map_json": "[{\"map_name\": \"\", \"map_id\": \"\", \"map_description\": \"\", \"homepage\": \"\", \"schema\": \"https://escher.github.io/escher/jsonschema/1-0-0#\"}, {\"reactions\": {\"0\": {\"name\": \"GLCpts\", \"bigg_id\": \"GLCpts\", \"reversibility\": true, \"label_x\": 265.0, \"label_y\": 325.0, \"gene_reaction_rule\": \"\", \"genes\": [], \"segments\": {\"0\": {\"from_node_id\": \"4\", \"to_node_id\": \"5\", \"b1\": null, \"b2\": null}, \"1\": {\"from_node_id\": \"6\", \"to_node_id\": \"5\", \"b1\": null, \"b2\": null}, \"2\": {\"from_node_id\": \"0\", \"to_node_id\": \"4\", \"b1\": null, \"b2\": null}, \"3\": {\"from_node_id\": \"1\", \"to_node_id\": \"4\", \"b1\": null, \"b2\": null}, \"4\": {\"from_node_id\": \"2\", \"to_node_id\": \"6\", \"b1\": null, \"b2\": null}, \"5\": {\"from_node_id\": \"3\", \"to_node_id\": \"6\", \"b1\": null, \"b2\": null}}, \"metabolites\": [{\"bigg_id\": \"Glucopyranose_e\", \"coefficient\": -1.0}, {\"bigg_id\": \"PHOSPHO_ENOL_PYRUVATE_c\", \"coefficient\": -1.0}, {\"bigg_id\": \"D_glucopyranose_6_phosphate_c\", \"coefficient\": 1.0}, {\"bigg_id\": \"PYRUVATE_c\", \"coefficient\": 1.0}]}, \"1\": {\"name\": \"G6PDH2r\", \"bigg_id\": \"G6PDH2r\", \"reversibility\": true, \"label_x\": 265.0, \"label_y\": 975.0, \"gene_reaction_rule\": \"\", \"genes\": [], \"segments\": {\"6\": {\"from_node_id\": \"11\", \"to_node_id\": \"12\", \"b1\": null, \"b2\": null}, \"7\": {\"from_node_id\": \"13\", \"to_node_id\": \"12\", \"b1\": null, \"b2\": null}, \"8\": {\"from_node_id\": \"2\", \"to_node_id\": \"11\", \"b1\": null, \"b2\": null}, \"9\": {\"from_node_id\": \"7\", \"to_node_id\": \"11\", \"b1\": null, \"b2\": null}, \"10\": {\"from_node_id\": \"8\", \"to_node_id\": \"13\", \"b1\": null, \"b2\": null}, \"11\": {\"from_node_id\": \"9\", \"to_node_id\": \"13\", \"b1\": null, \"b2\": null}, \"12\": {\"from_node_id\": \"10\", \"to_node_id\": \"13\", \"b1\": null, \"b2\": null}}, \"metabolites\": [{\"bigg_id\": \"D_glucopyranose_6_phosphate_c\", \"coefficient\": -1.0}, {\"bigg_id\": \"NADP_c\", \"coefficient\": -1.0}, {\"bigg_id\": \"D_6_P_GLUCONO_DELTA_LACTONE_c\", \"coefficient\": 1.0}, {\"bigg_id\": \"NADPH_c\", \"coefficient\": 1.0}, {\"bigg_id\": \"PROTON_c\", \"coefficient\": 1.0}]}, \"2\": {\"name\": \"PGL\", \"bigg_id\": \"PGL\", \"reversibility\": true, \"label_x\": 265.0, \"label_y\": 1625.0, \"gene_reaction_rule\": \"\", \"genes\": [], \"segments\": {\"13\": {\"from_node_id\": \"17\", \"to_node_id\": \"18\", \"b1\": null, \"b2\": null}, \"14\": {\"from_node_id\": \"19\", \"to_node_id\": \"18\", \"b1\": null, \"b2\": null}, \"15\": {\"from_node_id\": \"14\", \"to_node_id\": \"17\", \"b1\": null, \"b2\": null}, \"16\": {\"from_node_id\": \"8\", \"to_node_id\": \"17\", \"b1\": null, \"b2\": null}, \"17\": {\"from_node_id\": \"15\", \"to_node_id\": \"19\", \"b1\": null, \"b2\": null}, \"18\": {\"from_node_id\": \"16\", \"to_node_id\": \"19\", \"b1\": null, \"b2\": null}}, \"metabolites\": [{\"bigg_id\": \"CPD_15815_c\", \"coefficient\": -1.0}, {\"bigg_id\": \"D_6_P_GLUCONO_DELTA_LACTONE_c\", \"coefficient\": -1.0}, {\"bigg_id\": \"CPD_2961_c\", \"coefficient\": 1.0}, {\"bigg_id\": \"PROTON_c\", \"coefficient\": 1.0}]}, \"3\": {\"name\": \"GND\", \"bigg_id\": \"GND\", \"reversibility\": true, \"label_x\": 265.0, \"label_y\": 2275.0, \"gene_reaction_rule\": \"\", \"genes\": [], \"segments\": {\"19\": {\"from_node_id\": \"24\", \"to_node_id\": \"25\", \"b1\": null, \"b2\": null}, \"20\": {\"from_node_id\": \"26\", \"to_node_id\": \"25\", \"b1\": null, \"b2\": null}, \"21\": {\"from_node_id\": \"15\", \"to_node_id\": \"24\", \"b1\": null, \"b2\": null}, \"22\": {\"from_node_id\": \"20\", \"to_node_id\": \"24\", \"b1\": null, \"b2\": null}, \"23\": {\"from_node_id\": \"21\", \"to_node_id\": \"26\", \"b1\": null, \"b2\": null}, \"24\": {\"from_node_id\": \"22\", \"to_node_id\": \"26\", \"b1\": null, \"b2\": null}, \"25\": {\"from_node_id\": \"23\", \"to_node_id\": \"26\", \"b1\": null, \"b2\": null}}, \"metabolites\": [{\"bigg_id\": \"CPD_2961_c\", \"coefficient\": -1.0}, {\"bigg_id\": \"NADP_c\", \"coefficient\": -1.0}, {\"bigg_id\": \"CARBON_DIOXIDE_c\", \"coefficient\": 1.0}, {\"bigg_id\": \"NADPH_c\", \"coefficient\": 1.0}, {\"bigg_id\": \"RIBULOSE_5P_c\", \"coefficient\": 1.0}]}}, \"nodes\": {\"0\": {\"node_type\": \"metabolite\", \"x\": 150.0, \"y\": 30.0, \"label_x\": 160.0, \"label_y\": 20.0, \"bigg_id\": \"Glucopyranose_e\", \"name\": \"Glucopyranose_e\", \"node_is_primary\": false}, \"1\": {\"node_type\": \"metabolite\", \"x\": 300.0, \"y\": 30.0, \"label_x\": 310.0, \"label_y\": 20.0, \"bigg_id\": \"PHOSPHO_ENOL_PYRUVATE_c\", \"name\": \"PHOSPHO_ENOL_PYRUVATE_c\", \"node_is_primary\": false}, \"2\": {\"node_type\": \"metabolite\", \"x\": 150.0, \"y\": 550.0, \"label_x\": 160.0, \"label_y\": 580.0, \"bigg_id\": \"D_glucopyranose_6_phosphate_c\", \"name\": \"D_glucopyranose_6_phosphate_c\", \"node_is_primary\": false}, \"3\": {\"node_type\": \"metabolite\", \"x\": 300.0, \"y\": 550.0, \"label_x\": 310.0, \"label_y\": 580.0, \"bigg_id\": \"PYRUVATE_c\", \"name\": \"PYRUVATE_c\", \"node_is_primary\": false}, \"4\": {\"node_type\": \"multimarker\", \"x\": 225.0, \"y\": 305.0}, \"5\": {\"node_type\": \"midmarker\", \"x\": 225.0, \"y\": 325.0}, \"6\": {\"node_type\": \"multimarker\", \"x\": 225.0, \"y\": 345.0}, \"7\": {\"node_type\": \"metabolite\", \"x\": 300.0, \"y\": 680.0, \"label_x\": 310.0, \"label_y\": 670.0, \"bigg_id\": \"NADP_c\", \"name\": \"NADP_c\", \"node_is_primary\": false}, \"8\": {\"node_type\": \"metabolite\", \"x\": 112.5, \"y\": 1200.0, \"label_x\": 122.5, \"label_y\": 1230.0, \"bigg_id\": \"D_6_P_GLUCONO_DELTA_LACTONE_c\", \"name\": \"D_6_P_GLUCONO_DELTA_LACTONE_c\", \"node_is_primary\": false}, \"9\": {\"node_type\": \"metabolite\", \"x\": 225.0, \"y\": 1200.0, \"label_x\": 235.0, \"label_y\": 1230.0, \"bigg_id\": \"NADPH_c\", \"name\": \"NADPH_c\", \"node_is_primary\": false}, \"10\": {\"node_type\": \"metabolite\", \"x\": 337.5, \"y\": 1200.0, \"label_x\": 347.5, \"label_y\": 1230.0, \"bigg_id\": \"PROTON_c\", \"name\": \"PROTON_c\", \"node_is_primary\": false}, \"11\": {\"node_type\": \"multimarker\", \"x\": 225.0, \"y\": 955.0}, \"12\": {\"node_type\": \"midmarker\", \"x\": 225.0, \"y\": 975.0}, \"13\": {\"node_type\": \"multimarker\", \"x\": 225.0, \"y\": 995.0}, \"14\": {\"node_type\": \"metabolite\", \"x\": 150.0, \"y\": 1330.0, \"label_x\": 160.0, \"label_y\": 1320.0, \"bigg_id\": \"CPD_15815_c\", \"name\": \"CPD_15815_c\", \"node_is_primary\": false}, \"15\": {\"node_type\": \"metabolite\", \"x\": 150.0, \"y\": 1850.0, \"label_x\": 160.0, \"label_y\": 1880.0, \"bigg_id\": \"CPD_2961_c\", \"name\": \"CPD_2961_c\", \"node_is_primary\": false}, \"16\": {\"node_type\": \"metabolite\", \"x\": 300.0, \"y\": 1850.0, \"label_x\": 310.0, \"label_y\": 1880.0, \"bigg_id\": \"PROTON_c\", \"name\": \"PROTON_c\", \"node_is_primary\": false}, \"17\": {\"node_type\": \"multimarker\", \"x\": 225.0, \"y\": 1605.0}, \"18\": {\"node_type\": \"midmarker\", \"x\": 225.0, \"y\": 1625.0}, \"19\": {\"node_type\": \"multimarker\", \"x\": 225.0, \"y\": 1645.0}, \"20\": {\"node_type\": \"metabolite\", \"x\": 300.0, \"y\": 1980.0, \"label_x\": 310.0, \"label_y\": 1970.0, \"bigg_id\": \"NADP_c\", \"name\": \"NADP_c\", \"node_is_primary\": false}, \"21\": {\"node_type\": \"metabolite\", \"x\": 112.5, \"y\": 2500.0, \"label_x\": 122.5, \"label_y\": 2530.0, \"bigg_id\": \"CARBON_DIOXIDE_c\", \"name\": \"CARBON_DIOXIDE_c\", \"node_is_primary\": false}, \"22\": {\"node_type\": \"metabolite\", \"x\": 225.0, \"y\": 2500.0, \"label_x\": 235.0, \"label_y\": 2530.0, \"bigg_id\": \"NADPH_c\", \"name\": \"NADPH_c\", \"node_is_primary\": false}, \"23\": {\"node_type\": \"metabolite\", \"x\": 337.5, \"y\": 2500.0, \"label_x\": 347.5, \"label_y\": 2530.0, \"bigg_id\": \"RIBULOSE_5P_c\", \"name\": \"RIBULOSE_5P_c\", \"node_is_primary\": false}, \"24\": {\"node_type\": \"multimarker\", \"x\": 225.0, \"y\": 2255.0}, \"25\": {\"node_type\": \"midmarker\", \"x\": 225.0, \"y\": 2275.0}, \"26\": {\"node_type\": \"multimarker\", \"x\": 225.0, \"y\": 2295.0}}, \"text_labels\": {}, \"canvas\": {\"x\": 0, \"y\": 0, \"width\": 450, \"height\": 2600}}]",
       "_loaded_model_json": null,
       "allow_building_duplicate_reactions": false,
       "and_method_in_gene_reaction_rule": "mean",
       "canvas_size_and_loc": null,
       "cofactors": [
        "atp",
        "adp",
        "nad",
        "nadh",
        "nadp",
        "nadph",
        "gtp",
        "gdp",
        "h",
        "coa",
        "ump",
        "h2o",
        "ppi"
       ],
       "disabled_buttons": [
        "Clear reaction data",
        "Clear gene data",
        "Clear metabolite data"
       ],
       "embedded_css": null,
       "enable_editing": true,
       "enable_keys": false,
       "enable_keys_with_tooltip": true,
       "enable_search": true,
       "enable_tooltips": false,
       "full_screen_button": {
        "enable_editing": true,
        "enable_keys": true,
        "enable_tooltips": [
         "label"
        ],
        "menu": "all",
        "scroll_behavior": "pan"
       },
       "gene_data": null,
       "gene_font_size": 18,
       "height": 500,
       "hide_all_labels": false,
       "hide_secondary_metabolites": false,
       "highlight_missing": false,
       "identifiers_on_map": "bigg_id",
       "layout": "IPY_MODEL_c668f54cb50348128d93503c44f57f0f",
       "marker_radius": 5,
       "menu": "all",
       "metabolite_compare_style": "log2_fold",
       "metabolite_data": null,
       "metabolite_no_data_color": "#ffffff",
       "metabolite_no_data_size": 10,
       "metabolite_scale": [
        {
         "color": "#fffaf0",
         "size": 20,
         "type": "min"
        },
        {
         "color": "#f1c470",
         "size": 30,
         "type": "median"
        },
        {
         "color": "#800000",
         "size": 40,
         "type": "max"
        }
       ],
       "metabolite_scale_preset": "WhYlRd",
       "metabolite_styles": [
        "color",
        "size",
        "text"
       ],
       "never_ask_before_quit": true,
       "primary_metabolite_radius": 20,
       "reaction_compare_style": "log2_fold",
       "reaction_data": null,
       "reaction_no_data_color": "#dcdcdc",
       "reaction_no_data_size": 8,
       "reaction_scale": {},
       "reaction_scale_preset": null,
       "reaction_styles": [
        "color",
        "text"
       ],
       "scroll_behavior": "none",
       "secondary_metabolite_radius": 10,
       "semantic_zoom": null,
       "show_gene_reaction_rules": false,
       "starting_reaction": null,
       "use_3d_transform": false,
       "zoom_to_element": null
      }
     },
     "bcbc08ed6aff4f54a21d124a70dd0e61": {
      "model_module": "@jupyter-widgets/base",
      "model_module_version": "1.2.0",
      "model_name": "LayoutModel",
      "state": {}
     },
     "c51f854922a04bedaeceb63d4a2f40dd": {
      "model_module": "@jupyter-widgets/base",
      "model_module_version": "1.2.0",
      "model_name": "LayoutModel",
      "state": {}
     },
     "c59e14409027428885cc07dad4ba43ba": {
      "model_module": "@jupyter-widgets/base",
      "model_module_version": "1.2.0",
      "model_name": "LayoutModel",
      "state": {}
     },
     "c5e95aa7bfc44e37a855bfa0058b891c": {
      "model_module": "escher",
      "model_module_version": "1.7.4",
      "model_name": "EscherMapModel",
      "state": {
       "_loaded_map_json": "[{\"map_name\": \"\", \"map_id\": \"\", \"map_description\": \"\", \"homepage\": \"\", \"schema\": \"https://escher.github.io/escher/jsonschema/1-0-0#\"}, {\"reactions\": {\"0\": {\"name\": \"GLCpts\", \"bigg_id\": \"GLCpts\", \"reversibility\": true, \"label_x\": 265.0, \"label_y\": 325.0, \"gene_reaction_rule\": \"\", \"genes\": [], \"segments\": {\"0\": {\"from_node_id\": \"4\", \"to_node_id\": \"5\", \"b1\": null, \"b2\": null}, \"1\": {\"from_node_id\": \"6\", \"to_node_id\": \"5\", \"b1\": null, \"b2\": null}, \"2\": {\"from_node_id\": \"0\", \"to_node_id\": \"4\", \"b1\": null, \"b2\": null}, \"3\": {\"from_node_id\": \"1\", \"to_node_id\": \"4\", \"b1\": null, \"b2\": null}, \"4\": {\"from_node_id\": \"2\", \"to_node_id\": \"6\", \"b1\": null, \"b2\": null}, \"5\": {\"from_node_id\": \"3\", \"to_node_id\": \"6\", \"b1\": null, \"b2\": null}}, \"metabolites\": [{\"bigg_id\": \"Glucopyranose_e\", \"coefficient\": -1.0}, {\"bigg_id\": \"PHOSPHO_ENOL_PYRUVATE_c\", \"coefficient\": -1.0}, {\"bigg_id\": \"D_glucopyranose_6_phosphate_c\", \"coefficient\": 1.0}, {\"bigg_id\": \"PYRUVATE_c\", \"coefficient\": 1.0}]}, \"1\": {\"name\": \"GND\", \"bigg_id\": \"GND\", \"reversibility\": true, \"label_x\": 265.0, \"label_y\": 975.0, \"gene_reaction_rule\": \"\", \"genes\": [], \"segments\": {\"6\": {\"from_node_id\": \"12\", \"to_node_id\": \"13\", \"b1\": null, \"b2\": null}, \"7\": {\"from_node_id\": \"14\", \"to_node_id\": \"13\", \"b1\": null, \"b2\": null}, \"8\": {\"from_node_id\": \"7\", \"to_node_id\": \"12\", \"b1\": null, \"b2\": null}, \"9\": {\"from_node_id\": \"8\", \"to_node_id\": \"12\", \"b1\": null, \"b2\": null}, \"10\": {\"from_node_id\": \"9\", \"to_node_id\": \"14\", \"b1\": null, \"b2\": null}, \"11\": {\"from_node_id\": \"10\", \"to_node_id\": \"14\", \"b1\": null, \"b2\": null}, \"12\": {\"from_node_id\": \"11\", \"to_node_id\": \"14\", \"b1\": null, \"b2\": null}}, \"metabolites\": [{\"bigg_id\": \"CPD_2961_c\", \"coefficient\": -1.0}, {\"bigg_id\": \"NADP_c\", \"coefficient\": -1.0}, {\"bigg_id\": \"CARBON_DIOXIDE_c\", \"coefficient\": 1.0}, {\"bigg_id\": \"NADPH_c\", \"coefficient\": 1.0}, {\"bigg_id\": \"RIBULOSE_5P_c\", \"coefficient\": 1.0}]}, \"2\": {\"name\": \"PGL\", \"bigg_id\": \"PGL\", \"reversibility\": true, \"label_x\": 265.0, \"label_y\": 1625.0, \"gene_reaction_rule\": \"\", \"genes\": [], \"segments\": {\"13\": {\"from_node_id\": \"19\", \"to_node_id\": \"20\", \"b1\": null, \"b2\": null}, \"14\": {\"from_node_id\": \"21\", \"to_node_id\": \"20\", \"b1\": null, \"b2\": null}, \"15\": {\"from_node_id\": \"15\", \"to_node_id\": \"19\", \"b1\": null, \"b2\": null}, \"16\": {\"from_node_id\": \"16\", \"to_node_id\": \"19\", \"b1\": null, \"b2\": null}, \"17\": {\"from_node_id\": \"17\", \"to_node_id\": \"21\", \"b1\": null, \"b2\": null}, \"18\": {\"from_node_id\": \"18\", \"to_node_id\": \"21\", \"b1\": null, \"b2\": null}}, \"metabolites\": [{\"bigg_id\": \"CPD_15815_c\", \"coefficient\": -1.0}, {\"bigg_id\": \"D_6_P_GLUCONO_DELTA_LACTONE_c\", \"coefficient\": -1.0}, {\"bigg_id\": \"CPD_2961_c\", \"coefficient\": 1.0}, {\"bigg_id\": \"PROTON_c\", \"coefficient\": 1.0}]}, \"3\": {\"name\": \"G6PDH2r\", \"bigg_id\": \"G6PDH2r\", \"reversibility\": true, \"label_x\": 265.0, \"label_y\": 2275.0, \"gene_reaction_rule\": \"\", \"genes\": [], \"segments\": {\"19\": {\"from_node_id\": \"27\", \"to_node_id\": \"28\", \"b1\": null, \"b2\": null}, \"20\": {\"from_node_id\": \"29\", \"to_node_id\": \"28\", \"b1\": null, \"b2\": null}, \"21\": {\"from_node_id\": \"22\", \"to_node_id\": \"27\", \"b1\": null, \"b2\": null}, \"22\": {\"from_node_id\": \"23\", \"to_node_id\": \"27\", \"b1\": null, \"b2\": null}, \"23\": {\"from_node_id\": \"24\", \"to_node_id\": \"29\", \"b1\": null, \"b2\": null}, \"24\": {\"from_node_id\": \"25\", \"to_node_id\": \"29\", \"b1\": null, \"b2\": null}, \"25\": {\"from_node_id\": \"26\", \"to_node_id\": \"29\", \"b1\": null, \"b2\": null}}, \"metabolites\": [{\"bigg_id\": \"D_glucopyranose_6_phosphate_c\", \"coefficient\": -1.0}, {\"bigg_id\": \"NADP_c\", \"coefficient\": -1.0}, {\"bigg_id\": \"D_6_P_GLUCONO_DELTA_LACTONE_c\", \"coefficient\": 1.0}, {\"bigg_id\": \"NADPH_c\", \"coefficient\": 1.0}, {\"bigg_id\": \"PROTON_c\", \"coefficient\": 1.0}]}}, \"nodes\": {\"0\": {\"node_type\": \"metabolite\", \"x\": 150.0, \"y\": 30.0, \"label_x\": 160.0, \"label_y\": 20.0, \"bigg_id\": \"Glucopyranose_e\", \"name\": \"Glucopyranose_e\", \"node_is_primary\": false}, \"1\": {\"node_type\": \"metabolite\", \"x\": 300.0, \"y\": 30.0, \"label_x\": 310.0, \"label_y\": 20.0, \"bigg_id\": \"PHOSPHO_ENOL_PYRUVATE_c\", \"name\": \"PHOSPHO_ENOL_PYRUVATE_c\", \"node_is_primary\": false}, \"2\": {\"node_type\": \"metabolite\", \"x\": 150.0, \"y\": 550.0, \"label_x\": 160.0, \"label_y\": 580.0, \"bigg_id\": \"D_glucopyranose_6_phosphate_c\", \"name\": \"D_glucopyranose_6_phosphate_c\", \"node_is_primary\": false}, \"3\": {\"node_type\": \"metabolite\", \"x\": 300.0, \"y\": 550.0, \"label_x\": 310.0, \"label_y\": 580.0, \"bigg_id\": \"PYRUVATE_c\", \"name\": \"PYRUVATE_c\", \"node_is_primary\": false}, \"4\": {\"node_type\": \"multimarker\", \"x\": 225.0, \"y\": 305.0}, \"5\": {\"node_type\": \"midmarker\", \"x\": 225.0, \"y\": 325.0}, \"6\": {\"node_type\": \"multimarker\", \"x\": 225.0, \"y\": 345.0}, \"7\": {\"node_type\": \"metabolite\", \"x\": 150.0, \"y\": 680.0, \"label_x\": 160.0, \"label_y\": 670.0, \"bigg_id\": \"CPD_2961_c\", \"name\": \"CPD_2961_c\", \"node_is_primary\": false}, \"8\": {\"node_type\": \"metabolite\", \"x\": 300.0, \"y\": 680.0, \"label_x\": 310.0, \"label_y\": 670.0, \"bigg_id\": \"NADP_c\", \"name\": \"NADP_c\", \"node_is_primary\": false}, \"9\": {\"node_type\": \"metabolite\", \"x\": 112.5, \"y\": 1200.0, \"label_x\": 122.5, \"label_y\": 1230.0, \"bigg_id\": \"CARBON_DIOXIDE_c\", \"name\": \"CARBON_DIOXIDE_c\", \"node_is_primary\": false}, \"10\": {\"node_type\": \"metabolite\", \"x\": 225.0, \"y\": 1200.0, \"label_x\": 235.0, \"label_y\": 1230.0, \"bigg_id\": \"NADPH_c\", \"name\": \"NADPH_c\", \"node_is_primary\": false}, \"11\": {\"node_type\": \"metabolite\", \"x\": 337.5, \"y\": 1200.0, \"label_x\": 347.5, \"label_y\": 1230.0, \"bigg_id\": \"RIBULOSE_5P_c\", \"name\": \"RIBULOSE_5P_c\", \"node_is_primary\": false}, \"12\": {\"node_type\": \"multimarker\", \"x\": 225.0, \"y\": 955.0}, \"13\": {\"node_type\": \"midmarker\", \"x\": 225.0, \"y\": 975.0}, \"14\": {\"node_type\": \"multimarker\", \"x\": 225.0, \"y\": 995.0}, \"15\": {\"node_type\": \"metabolite\", \"x\": 150.0, \"y\": 1330.0, \"label_x\": 160.0, \"label_y\": 1320.0, \"bigg_id\": \"CPD_15815_c\", \"name\": \"CPD_15815_c\", \"node_is_primary\": false}, \"16\": {\"node_type\": \"metabolite\", \"x\": 300.0, \"y\": 1330.0, \"label_x\": 310.0, \"label_y\": 1320.0, \"bigg_id\": \"D_6_P_GLUCONO_DELTA_LACTONE_c\", \"name\": \"D_6_P_GLUCONO_DELTA_LACTONE_c\", \"node_is_primary\": false}, \"17\": {\"node_type\": \"metabolite\", \"x\": 150.0, \"y\": 1850.0, \"label_x\": 160.0, \"label_y\": 1880.0, \"bigg_id\": \"CPD_2961_c\", \"name\": \"CPD_2961_c\", \"node_is_primary\": false}, \"18\": {\"node_type\": \"metabolite\", \"x\": 300.0, \"y\": 1850.0, \"label_x\": 310.0, \"label_y\": 1880.0, \"bigg_id\": \"PROTON_c\", \"name\": \"PROTON_c\", \"node_is_primary\": false}, \"19\": {\"node_type\": \"multimarker\", \"x\": 225.0, \"y\": 1605.0}, \"20\": {\"node_type\": \"midmarker\", \"x\": 225.0, \"y\": 1625.0}, \"21\": {\"node_type\": \"multimarker\", \"x\": 225.0, \"y\": 1645.0}, \"22\": {\"node_type\": \"metabolite\", \"x\": 150.0, \"y\": 1980.0, \"label_x\": 160.0, \"label_y\": 1970.0, \"bigg_id\": \"D_glucopyranose_6_phosphate_c\", \"name\": \"D_glucopyranose_6_phosphate_c\", \"node_is_primary\": false}, \"23\": {\"node_type\": \"metabolite\", \"x\": 300.0, \"y\": 1980.0, \"label_x\": 310.0, \"label_y\": 1970.0, \"bigg_id\": \"NADP_c\", \"name\": \"NADP_c\", \"node_is_primary\": false}, \"24\": {\"node_type\": \"metabolite\", \"x\": 112.5, \"y\": 2500.0, \"label_x\": 122.5, \"label_y\": 2530.0, \"bigg_id\": \"D_6_P_GLUCONO_DELTA_LACTONE_c\", \"name\": \"D_6_P_GLUCONO_DELTA_LACTONE_c\", \"node_is_primary\": false}, \"25\": {\"node_type\": \"metabolite\", \"x\": 225.0, \"y\": 2500.0, \"label_x\": 235.0, \"label_y\": 2530.0, \"bigg_id\": \"NADPH_c\", \"name\": \"NADPH_c\", \"node_is_primary\": false}, \"26\": {\"node_type\": \"metabolite\", \"x\": 337.5, \"y\": 2500.0, \"label_x\": 347.5, \"label_y\": 2530.0, \"bigg_id\": \"PROTON_c\", \"name\": \"PROTON_c\", \"node_is_primary\": false}, \"27\": {\"node_type\": \"multimarker\", \"x\": 225.0, \"y\": 2255.0}, \"28\": {\"node_type\": \"midmarker\", \"x\": 225.0, \"y\": 2275.0}, \"29\": {\"node_type\": \"multimarker\", \"x\": 225.0, \"y\": 2295.0}}, \"text_labels\": {}, \"canvas\": {\"x\": 0, \"y\": 0, \"width\": 450, \"height\": 2600}}]",
       "_loaded_model_json": null,
       "allow_building_duplicate_reactions": false,
       "and_method_in_gene_reaction_rule": "mean",
       "canvas_size_and_loc": null,
       "cofactors": [
        "atp",
        "adp",
        "nad",
        "nadh",
        "nadp",
        "nadph",
        "gtp",
        "gdp",
        "h",
        "coa",
        "ump",
        "h2o",
        "ppi"
       ],
       "disabled_buttons": [
        "Clear gene data",
        "Clear metabolite data"
       ],
       "embedded_css": null,
       "enable_editing": true,
       "enable_keys": false,
       "enable_keys_with_tooltip": true,
       "enable_search": true,
       "enable_tooltips": false,
       "full_screen_button": {
        "enable_editing": true,
        "enable_keys": true,
        "enable_tooltips": [
         "label"
        ],
        "menu": "all",
        "scroll_behavior": "pan"
       },
       "gene_data": null,
       "gene_font_size": 18,
       "height": 500,
       "hide_all_labels": false,
       "hide_secondary_metabolites": false,
       "highlight_missing": false,
       "identifiers_on_map": "bigg_id",
       "layout": "IPY_MODEL_5bc68443fd0546edbd175d89a801d5c7",
       "marker_radius": 5,
       "menu": "all",
       "metabolite_compare_style": "log2_fold",
       "metabolite_data": null,
       "metabolite_no_data_color": "#ffffff",
       "metabolite_no_data_size": 10,
       "metabolite_scale": [
        {
         "color": "#fffaf0",
         "size": 20,
         "type": "min"
        },
        {
         "color": "#f1c470",
         "size": 30,
         "type": "median"
        },
        {
         "color": "#800000",
         "size": 40,
         "type": "max"
        }
       ],
       "metabolite_scale_preset": "WhYlRd",
       "metabolite_styles": [
        "color",
        "size",
        "text"
       ],
       "never_ask_before_quit": true,
       "primary_metabolite_radius": 20,
       "reaction_compare_style": "log2_fold",
       "reaction_data": {
        "G6PDH2r": -2,
        "GLCpts": -2,
        "GND": 1,
        "Other": 1000,
        "PGL": 0.4
       },
       "reaction_no_data_color": "#dcdcdc",
       "reaction_no_data_size": 8,
       "reaction_scale": [
        {
         "color": "rgb(191,215,230)",
         "type": "value",
         "value": 333.3333333333333
        },
        {
         "color": "rgb(163,210,240)",
         "type": "value",
         "value": 666.6666666666667
        },
        {
         "color": "rgb(135,205,250)",
         "type": "value",
         "value": 1000
        },
        {
         "color": "rgb(220,220,220)",
         "type": "value",
         "value": 0
        },
        {
         "color": "rgb(237,192,110)",
         "type": "value",
         "value": -1
        },
        {
         "color": "rgb(255,165,0)",
         "type": "value",
         "value": -2
        }
       ],
       "reaction_scale_preset": null,
       "reaction_styles": [
        "color",
        "text"
       ],
       "scroll_behavior": "none",
       "secondary_metabolite_radius": 10,
       "semantic_zoom": null,
       "show_gene_reaction_rules": false,
       "starting_reaction": null,
       "use_3d_transform": false,
       "zoom_to_element": null
      }
     },
     "c62cae29e06747f49b6e86a5737dca58": {
      "model_module": "escher",
      "model_module_version": "1.7.4",
      "model_name": "EscherMapModel",
      "state": {
       "_loaded_map_json": "[{\"map_name\": \"\", \"map_id\": \"\", \"map_description\": \"\", \"homepage\": \"\", \"schema\": \"https://escher.github.io/escher/jsonschema/1-0-0#\"}, {\"reactions\": {\"0\": {\"name\": \"PGL\", \"bigg_id\": \"PGL\", \"reversibility\": true, \"label_x\": 265.0, \"label_y\": 325.0, \"gene_reaction_rule\": \"\", \"genes\": [], \"segments\": {\"0\": {\"from_node_id\": \"4\", \"to_node_id\": \"5\", \"b1\": null, \"b2\": null}, \"1\": {\"from_node_id\": \"6\", \"to_node_id\": \"5\", \"b1\": null, \"b2\": null}, \"2\": {\"from_node_id\": \"0\", \"to_node_id\": \"4\", \"b1\": null, \"b2\": null}, \"3\": {\"from_node_id\": \"1\", \"to_node_id\": \"4\", \"b1\": null, \"b2\": null}, \"4\": {\"from_node_id\": \"2\", \"to_node_id\": \"6\", \"b1\": null, \"b2\": null}, \"5\": {\"from_node_id\": \"3\", \"to_node_id\": \"6\", \"b1\": null, \"b2\": null}}, \"metabolites\": [{\"bigg_id\": \"CPD_15815_c\", \"coefficient\": -1.0}, {\"bigg_id\": \"D_6_P_GLUCONO_DELTA_LACTONE_c\", \"coefficient\": -1.0}, {\"bigg_id\": \"CPD_2961_c\", \"coefficient\": 1.0}, {\"bigg_id\": \"PROTON_c\", \"coefficient\": 1.0}]}, \"1\": {\"name\": \"GND\", \"bigg_id\": \"GND\", \"reversibility\": true, \"label_x\": 265.0, \"label_y\": 975.0, \"gene_reaction_rule\": \"\", \"genes\": [], \"segments\": {\"6\": {\"from_node_id\": \"11\", \"to_node_id\": \"12\", \"b1\": null, \"b2\": null}, \"7\": {\"from_node_id\": \"13\", \"to_node_id\": \"12\", \"b1\": null, \"b2\": null}, \"8\": {\"from_node_id\": \"2\", \"to_node_id\": \"11\", \"b1\": null, \"b2\": null}, \"9\": {\"from_node_id\": \"7\", \"to_node_id\": \"11\", \"b1\": null, \"b2\": null}, \"10\": {\"from_node_id\": \"8\", \"to_node_id\": \"13\", \"b1\": null, \"b2\": null}, \"11\": {\"from_node_id\": \"9\", \"to_node_id\": \"13\", \"b1\": null, \"b2\": null}, \"12\": {\"from_node_id\": \"10\", \"to_node_id\": \"13\", \"b1\": null, \"b2\": null}}, \"metabolites\": [{\"bigg_id\": \"CPD_2961_c\", \"coefficient\": -1.0}, {\"bigg_id\": \"NADP_c\", \"coefficient\": -1.0}, {\"bigg_id\": \"CARBON_DIOXIDE_c\", \"coefficient\": 1.0}, {\"bigg_id\": \"NADPH_c\", \"coefficient\": 1.0}, {\"bigg_id\": \"RIBULOSE_5P_c\", \"coefficient\": 1.0}]}, \"2\": {\"name\": \"GLCpts\", \"bigg_id\": \"GLCpts\", \"reversibility\": true, \"label_x\": 265.0, \"label_y\": 1625.0, \"gene_reaction_rule\": \"\", \"genes\": [], \"segments\": {\"13\": {\"from_node_id\": \"18\", \"to_node_id\": \"19\", \"b1\": null, \"b2\": null}, \"14\": {\"from_node_id\": \"20\", \"to_node_id\": \"19\", \"b1\": null, \"b2\": null}, \"15\": {\"from_node_id\": \"14\", \"to_node_id\": \"18\", \"b1\": null, \"b2\": null}, \"16\": {\"from_node_id\": \"15\", \"to_node_id\": \"18\", \"b1\": null, \"b2\": null}, \"17\": {\"from_node_id\": \"16\", \"to_node_id\": \"20\", \"b1\": null, \"b2\": null}, \"18\": {\"from_node_id\": \"17\", \"to_node_id\": \"20\", \"b1\": null, \"b2\": null}}, \"metabolites\": [{\"bigg_id\": \"Glucopyranose_e\", \"coefficient\": -1.0}, {\"bigg_id\": \"PHOSPHO_ENOL_PYRUVATE_c\", \"coefficient\": -1.0}, {\"bigg_id\": \"D_glucopyranose_6_phosphate_c\", \"coefficient\": 1.0}, {\"bigg_id\": \"PYRUVATE_c\", \"coefficient\": 1.0}]}, \"3\": {\"name\": \"G6PDH2r\", \"bigg_id\": \"G6PDH2r\", \"reversibility\": true, \"label_x\": 265.0, \"label_y\": 2275.0, \"gene_reaction_rule\": \"\", \"genes\": [], \"segments\": {\"19\": {\"from_node_id\": \"25\", \"to_node_id\": \"26\", \"b1\": null, \"b2\": null}, \"20\": {\"from_node_id\": \"27\", \"to_node_id\": \"26\", \"b1\": null, \"b2\": null}, \"21\": {\"from_node_id\": \"16\", \"to_node_id\": \"25\", \"b1\": null, \"b2\": null}, \"22\": {\"from_node_id\": \"21\", \"to_node_id\": \"25\", \"b1\": null, \"b2\": null}, \"23\": {\"from_node_id\": \"22\", \"to_node_id\": \"27\", \"b1\": null, \"b2\": null}, \"24\": {\"from_node_id\": \"23\", \"to_node_id\": \"27\", \"b1\": null, \"b2\": null}, \"25\": {\"from_node_id\": \"24\", \"to_node_id\": \"27\", \"b1\": null, \"b2\": null}}, \"metabolites\": [{\"bigg_id\": \"D_glucopyranose_6_phosphate_c\", \"coefficient\": -1.0}, {\"bigg_id\": \"NADP_c\", \"coefficient\": -1.0}, {\"bigg_id\": \"D_6_P_GLUCONO_DELTA_LACTONE_c\", \"coefficient\": 1.0}, {\"bigg_id\": \"NADPH_c\", \"coefficient\": 1.0}, {\"bigg_id\": \"PROTON_c\", \"coefficient\": 1.0}]}}, \"nodes\": {\"0\": {\"node_type\": \"metabolite\", \"x\": 150.0, \"y\": 30.0, \"label_x\": 160.0, \"label_y\": 20.0, \"bigg_id\": \"CPD_15815_c\", \"name\": \"CPD_15815_c\", \"node_is_primary\": false}, \"1\": {\"node_type\": \"metabolite\", \"x\": 300.0, \"y\": 30.0, \"label_x\": 310.0, \"label_y\": 20.0, \"bigg_id\": \"D_6_P_GLUCONO_DELTA_LACTONE_c\", \"name\": \"D_6_P_GLUCONO_DELTA_LACTONE_c\", \"node_is_primary\": false}, \"2\": {\"node_type\": \"metabolite\", \"x\": 150.0, \"y\": 550.0, \"label_x\": 160.0, \"label_y\": 580.0, \"bigg_id\": \"CPD_2961_c\", \"name\": \"CPD_2961_c\", \"node_is_primary\": false}, \"3\": {\"node_type\": \"metabolite\", \"x\": 300.0, \"y\": 550.0, \"label_x\": 310.0, \"label_y\": 580.0, \"bigg_id\": \"PROTON_c\", \"name\": \"PROTON_c\", \"node_is_primary\": false}, \"4\": {\"node_type\": \"multimarker\", \"x\": 225.0, \"y\": 305.0}, \"5\": {\"node_type\": \"midmarker\", \"x\": 225.0, \"y\": 325.0}, \"6\": {\"node_type\": \"multimarker\", \"x\": 225.0, \"y\": 345.0}, \"7\": {\"node_type\": \"metabolite\", \"x\": 300.0, \"y\": 680.0, \"label_x\": 310.0, \"label_y\": 670.0, \"bigg_id\": \"NADP_c\", \"name\": \"NADP_c\", \"node_is_primary\": false}, \"8\": {\"node_type\": \"metabolite\", \"x\": 112.5, \"y\": 1200.0, \"label_x\": 122.5, \"label_y\": 1230.0, \"bigg_id\": \"CARBON_DIOXIDE_c\", \"name\": \"CARBON_DIOXIDE_c\", \"node_is_primary\": false}, \"9\": {\"node_type\": \"metabolite\", \"x\": 225.0, \"y\": 1200.0, \"label_x\": 235.0, \"label_y\": 1230.0, \"bigg_id\": \"NADPH_c\", \"name\": \"NADPH_c\", \"node_is_primary\": false}, \"10\": {\"node_type\": \"metabolite\", \"x\": 337.5, \"y\": 1200.0, \"label_x\": 347.5, \"label_y\": 1230.0, \"bigg_id\": \"RIBULOSE_5P_c\", \"name\": \"RIBULOSE_5P_c\", \"node_is_primary\": false}, \"11\": {\"node_type\": \"multimarker\", \"x\": 225.0, \"y\": 955.0}, \"12\": {\"node_type\": \"midmarker\", \"x\": 225.0, \"y\": 975.0}, \"13\": {\"node_type\": \"multimarker\", \"x\": 225.0, \"y\": 995.0}, \"14\": {\"node_type\": \"metabolite\", \"x\": 150.0, \"y\": 1330.0, \"label_x\": 160.0, \"label_y\": 1320.0, \"bigg_id\": \"Glucopyranose_e\", \"name\": \"Glucopyranose_e\", \"node_is_primary\": false}, \"15\": {\"node_type\": \"metabolite\", \"x\": 300.0, \"y\": 1330.0, \"label_x\": 310.0, \"label_y\": 1320.0, \"bigg_id\": \"PHOSPHO_ENOL_PYRUVATE_c\", \"name\": \"PHOSPHO_ENOL_PYRUVATE_c\", \"node_is_primary\": false}, \"16\": {\"node_type\": \"metabolite\", \"x\": 150.0, \"y\": 1850.0, \"label_x\": 160.0, \"label_y\": 1880.0, \"bigg_id\": \"D_glucopyranose_6_phosphate_c\", \"name\": \"D_glucopyranose_6_phosphate_c\", \"node_is_primary\": false}, \"17\": {\"node_type\": \"metabolite\", \"x\": 300.0, \"y\": 1850.0, \"label_x\": 310.0, \"label_y\": 1880.0, \"bigg_id\": \"PYRUVATE_c\", \"name\": \"PYRUVATE_c\", \"node_is_primary\": false}, \"18\": {\"node_type\": \"multimarker\", \"x\": 225.0, \"y\": 1605.0}, \"19\": {\"node_type\": \"midmarker\", \"x\": 225.0, \"y\": 1625.0}, \"20\": {\"node_type\": \"multimarker\", \"x\": 225.0, \"y\": 1645.0}, \"21\": {\"node_type\": \"metabolite\", \"x\": 300.0, \"y\": 1980.0, \"label_x\": 310.0, \"label_y\": 1970.0, \"bigg_id\": \"NADP_c\", \"name\": \"NADP_c\", \"node_is_primary\": false}, \"22\": {\"node_type\": \"metabolite\", \"x\": 112.5, \"y\": 2500.0, \"label_x\": 122.5, \"label_y\": 2530.0, \"bigg_id\": \"D_6_P_GLUCONO_DELTA_LACTONE_c\", \"name\": \"D_6_P_GLUCONO_DELTA_LACTONE_c\", \"node_is_primary\": false}, \"23\": {\"node_type\": \"metabolite\", \"x\": 225.0, \"y\": 2500.0, \"label_x\": 235.0, \"label_y\": 2530.0, \"bigg_id\": \"NADPH_c\", \"name\": \"NADPH_c\", \"node_is_primary\": false}, \"24\": {\"node_type\": \"metabolite\", \"x\": 337.5, \"y\": 2500.0, \"label_x\": 347.5, \"label_y\": 2530.0, \"bigg_id\": \"PROTON_c\", \"name\": \"PROTON_c\", \"node_is_primary\": false}, \"25\": {\"node_type\": \"multimarker\", \"x\": 225.0, \"y\": 2255.0}, \"26\": {\"node_type\": \"midmarker\", \"x\": 225.0, \"y\": 2275.0}, \"27\": {\"node_type\": \"multimarker\", \"x\": 225.0, \"y\": 2295.0}}, \"text_labels\": {}, \"canvas\": {\"x\": 0, \"y\": 0, \"width\": 450, \"height\": 2600}}]",
       "_loaded_model_json": null,
       "allow_building_duplicate_reactions": false,
       "and_method_in_gene_reaction_rule": "mean",
       "canvas_size_and_loc": null,
       "cofactors": [
        "atp",
        "adp",
        "nad",
        "nadh",
        "nadp",
        "nadph",
        "gtp",
        "gdp",
        "h",
        "coa",
        "ump",
        "h2o",
        "ppi"
       ],
       "disabled_buttons": [
        "Clear gene data",
        "Clear metabolite data"
       ],
       "embedded_css": null,
       "enable_editing": true,
       "enable_keys": false,
       "enable_keys_with_tooltip": true,
       "enable_search": true,
       "enable_tooltips": false,
       "full_screen_button": {
        "enable_editing": true,
        "enable_keys": true,
        "enable_tooltips": [
         "label"
        ],
        "menu": "all",
        "scroll_behavior": "pan"
       },
       "gene_data": null,
       "gene_font_size": 18,
       "height": 500,
       "hide_all_labels": false,
       "hide_secondary_metabolites": false,
       "highlight_missing": false,
       "identifiers_on_map": "bigg_id",
       "layout": "IPY_MODEL_2d9af6293f7d4b0d963a6905888114ec",
       "marker_radius": 5,
       "menu": "all",
       "metabolite_compare_style": "log2_fold",
       "metabolite_data": null,
       "metabolite_no_data_color": "#ffffff",
       "metabolite_no_data_size": 10,
       "metabolite_scale": [
        {
         "color": "#fffaf0",
         "size": 20,
         "type": "min"
        },
        {
         "color": "#f1c470",
         "size": 30,
         "type": "median"
        },
        {
         "color": "#800000",
         "size": 40,
         "type": "max"
        }
       ],
       "metabolite_scale_preset": "WhYlRd",
       "metabolite_styles": [
        "color",
        "size",
        "text"
       ],
       "never_ask_before_quit": true,
       "primary_metabolite_radius": 20,
       "reaction_compare_style": "log2_fold",
       "reaction_data": {
        "G6PDH2r": -2,
        "GLCpts": -2,
        "GND": 1,
        "PGL": 0.4
       },
       "reaction_no_data_color": "#dcdcdc",
       "reaction_no_data_size": 8,
       "reaction_scale": [
        {
         "color": "rgb(220,220,220)",
         "type": "value",
         "value": 0.5
        },
        {
         "color": "rgb(220,220,220)",
         "type": "value",
         "value": 1
        },
        {
         "color": "rgb(220,220,220)",
         "type": "value",
         "value": 0
        },
        {
         "color": "rgb(220,220,220)",
         "type": "value",
         "value": -1
        },
        {
         "color": "rgb(220,220,220)",
         "type": "value",
         "value": -2
        }
       ],
       "reaction_scale_preset": null,
       "reaction_styles": [
        "color",
        "text"
       ],
       "scroll_behavior": "none",
       "secondary_metabolite_radius": 10,
       "semantic_zoom": null,
       "show_gene_reaction_rules": false,
       "starting_reaction": null,
       "use_3d_transform": false,
       "zoom_to_element": null
      }
     },
     "c668f54cb50348128d93503c44f57f0f": {
      "model_module": "@jupyter-widgets/base",
      "model_module_version": "1.2.0",
      "model_name": "LayoutModel",
      "state": {}
     },
     "c7be2481d0c245de8925080a1849a7d9": {
      "model_module": "@jupyter-widgets/base",
      "model_module_version": "1.2.0",
      "model_name": "LayoutModel",
      "state": {}
     },
     "c8e875e08b014846b83d80fe889bf4df": {
      "model_module": "@jupyter-widgets/base",
      "model_module_version": "1.2.0",
      "model_name": "LayoutModel",
      "state": {}
     },
     "cae5230ff26649b59ddcb4ca72b9ebc1": {
      "model_module": "@jupyter-widgets/base",
      "model_module_version": "1.2.0",
      "model_name": "LayoutModel",
      "state": {}
     },
     "cc7f570e51da451f8b5547e50ca00528": {
      "model_module": "escher",
      "model_module_version": "1.7.4",
      "model_name": "EscherMapModel",
      "state": {
       "_loaded_map_json": "[{\"map_name\": \"\", \"map_id\": \"\", \"map_description\": \"\", \"homepage\": \"\", \"schema\": \"https://escher.github.io/escher/jsonschema/1-0-0#\"}, {\"reactions\": {\"0\": {\"name\": \"PGL\", \"bigg_id\": \"PGL\", \"reversibility\": true, \"label_x\": 265.0, \"label_y\": 325.0, \"gene_reaction_rule\": \"\", \"genes\": [], \"segments\": {\"0\": {\"from_node_id\": \"4\", \"to_node_id\": \"5\", \"b1\": null, \"b2\": null}, \"1\": {\"from_node_id\": \"6\", \"to_node_id\": \"5\", \"b1\": null, \"b2\": null}, \"2\": {\"from_node_id\": \"0\", \"to_node_id\": \"4\", \"b1\": null, \"b2\": null}, \"3\": {\"from_node_id\": \"1\", \"to_node_id\": \"4\", \"b1\": null, \"b2\": null}, \"4\": {\"from_node_id\": \"2\", \"to_node_id\": \"6\", \"b1\": null, \"b2\": null}, \"5\": {\"from_node_id\": \"3\", \"to_node_id\": \"6\", \"b1\": null, \"b2\": null}}, \"metabolites\": [{\"bigg_id\": \"CPD_15815_c\", \"coefficient\": -1.0}, {\"bigg_id\": \"D_6_P_GLUCONO_DELTA_LACTONE_c\", \"coefficient\": -1.0}, {\"bigg_id\": \"CPD_2961_c\", \"coefficient\": 1.0}, {\"bigg_id\": \"PROTON_c\", \"coefficient\": 1.0}]}, \"1\": {\"name\": \"GLCpts\", \"bigg_id\": \"GLCpts\", \"reversibility\": true, \"label_x\": 265.0, \"label_y\": 975.0, \"gene_reaction_rule\": \"\", \"genes\": [], \"segments\": {\"6\": {\"from_node_id\": \"11\", \"to_node_id\": \"12\", \"b1\": null, \"b2\": null}, \"7\": {\"from_node_id\": \"13\", \"to_node_id\": \"12\", \"b1\": null, \"b2\": null}, \"8\": {\"from_node_id\": \"7\", \"to_node_id\": \"11\", \"b1\": null, \"b2\": null}, \"9\": {\"from_node_id\": \"8\", \"to_node_id\": \"11\", \"b1\": null, \"b2\": null}, \"10\": {\"from_node_id\": \"9\", \"to_node_id\": \"13\", \"b1\": null, \"b2\": null}, \"11\": {\"from_node_id\": \"10\", \"to_node_id\": \"13\", \"b1\": null, \"b2\": null}}, \"metabolites\": [{\"bigg_id\": \"Glucopyranose_e\", \"coefficient\": -1.0}, {\"bigg_id\": \"PHOSPHO_ENOL_PYRUVATE_c\", \"coefficient\": -1.0}, {\"bigg_id\": \"D_glucopyranose_6_phosphate_c\", \"coefficient\": 1.0}, {\"bigg_id\": \"PYRUVATE_c\", \"coefficient\": 1.0}]}, \"2\": {\"name\": \"GND\", \"bigg_id\": \"GND\", \"reversibility\": true, \"label_x\": 265.0, \"label_y\": 1625.0, \"gene_reaction_rule\": \"\", \"genes\": [], \"segments\": {\"12\": {\"from_node_id\": \"19\", \"to_node_id\": \"20\", \"b1\": null, \"b2\": null}, \"13\": {\"from_node_id\": \"21\", \"to_node_id\": \"20\", \"b1\": null, \"b2\": null}, \"14\": {\"from_node_id\": \"14\", \"to_node_id\": \"19\", \"b1\": null, \"b2\": null}, \"15\": {\"from_node_id\": \"15\", \"to_node_id\": \"19\", \"b1\": null, \"b2\": null}, \"16\": {\"from_node_id\": \"16\", \"to_node_id\": \"21\", \"b1\": null, \"b2\": null}, \"17\": {\"from_node_id\": \"17\", \"to_node_id\": \"21\", \"b1\": null, \"b2\": null}, \"18\": {\"from_node_id\": \"18\", \"to_node_id\": \"21\", \"b1\": null, \"b2\": null}}, \"metabolites\": [{\"bigg_id\": \"CPD_2961_c\", \"coefficient\": -1.0}, {\"bigg_id\": \"NADP_c\", \"coefficient\": -1.0}, {\"bigg_id\": \"CARBON_DIOXIDE_c\", \"coefficient\": 1.0}, {\"bigg_id\": \"NADPH_c\", \"coefficient\": 1.0}, {\"bigg_id\": \"RIBULOSE_5P_c\", \"coefficient\": 1.0}]}, \"3\": {\"name\": \"G6PDH2r\", \"bigg_id\": \"G6PDH2r\", \"reversibility\": true, \"label_x\": 265.0, \"label_y\": 2275.0, \"gene_reaction_rule\": \"\", \"genes\": [], \"segments\": {\"19\": {\"from_node_id\": \"27\", \"to_node_id\": \"28\", \"b1\": null, \"b2\": null}, \"20\": {\"from_node_id\": \"29\", \"to_node_id\": \"28\", \"b1\": null, \"b2\": null}, \"21\": {\"from_node_id\": \"22\", \"to_node_id\": \"27\", \"b1\": null, \"b2\": null}, \"22\": {\"from_node_id\": \"23\", \"to_node_id\": \"27\", \"b1\": null, \"b2\": null}, \"23\": {\"from_node_id\": \"24\", \"to_node_id\": \"29\", \"b1\": null, \"b2\": null}, \"24\": {\"from_node_id\": \"25\", \"to_node_id\": \"29\", \"b1\": null, \"b2\": null}, \"25\": {\"from_node_id\": \"26\", \"to_node_id\": \"29\", \"b1\": null, \"b2\": null}}, \"metabolites\": [{\"bigg_id\": \"D_glucopyranose_6_phosphate_c\", \"coefficient\": -1.0}, {\"bigg_id\": \"NADP_c\", \"coefficient\": -1.0}, {\"bigg_id\": \"D_6_P_GLUCONO_DELTA_LACTONE_c\", \"coefficient\": 1.0}, {\"bigg_id\": \"NADPH_c\", \"coefficient\": 1.0}, {\"bigg_id\": \"PROTON_c\", \"coefficient\": 1.0}]}}, \"nodes\": {\"0\": {\"node_type\": \"metabolite\", \"x\": 150.0, \"y\": 30.0, \"label_x\": 160.0, \"label_y\": 20.0, \"bigg_id\": \"CPD_15815_c\", \"name\": \"CPD_15815_c\", \"node_is_primary\": false}, \"1\": {\"node_type\": \"metabolite\", \"x\": 300.0, \"y\": 30.0, \"label_x\": 310.0, \"label_y\": 20.0, \"bigg_id\": \"D_6_P_GLUCONO_DELTA_LACTONE_c\", \"name\": \"D_6_P_GLUCONO_DELTA_LACTONE_c\", \"node_is_primary\": false}, \"2\": {\"node_type\": \"metabolite\", \"x\": 150.0, \"y\": 550.0, \"label_x\": 160.0, \"label_y\": 580.0, \"bigg_id\": \"CPD_2961_c\", \"name\": \"CPD_2961_c\", \"node_is_primary\": false}, \"3\": {\"node_type\": \"metabolite\", \"x\": 300.0, \"y\": 550.0, \"label_x\": 310.0, \"label_y\": 580.0, \"bigg_id\": \"PROTON_c\", \"name\": \"PROTON_c\", \"node_is_primary\": false}, \"4\": {\"node_type\": \"multimarker\", \"x\": 225.0, \"y\": 305.0}, \"5\": {\"node_type\": \"midmarker\", \"x\": 225.0, \"y\": 325.0}, \"6\": {\"node_type\": \"multimarker\", \"x\": 225.0, \"y\": 345.0}, \"7\": {\"node_type\": \"metabolite\", \"x\": 150.0, \"y\": 680.0, \"label_x\": 160.0, \"label_y\": 670.0, \"bigg_id\": \"Glucopyranose_e\", \"name\": \"Glucopyranose_e\", \"node_is_primary\": false}, \"8\": {\"node_type\": \"metabolite\", \"x\": 300.0, \"y\": 680.0, \"label_x\": 310.0, \"label_y\": 670.0, \"bigg_id\": \"PHOSPHO_ENOL_PYRUVATE_c\", \"name\": \"PHOSPHO_ENOL_PYRUVATE_c\", \"node_is_primary\": false}, \"9\": {\"node_type\": \"metabolite\", \"x\": 150.0, \"y\": 1200.0, \"label_x\": 160.0, \"label_y\": 1230.0, \"bigg_id\": \"D_glucopyranose_6_phosphate_c\", \"name\": \"D_glucopyranose_6_phosphate_c\", \"node_is_primary\": false}, \"10\": {\"node_type\": \"metabolite\", \"x\": 300.0, \"y\": 1200.0, \"label_x\": 310.0, \"label_y\": 1230.0, \"bigg_id\": \"PYRUVATE_c\", \"name\": \"PYRUVATE_c\", \"node_is_primary\": false}, \"11\": {\"node_type\": \"multimarker\", \"x\": 225.0, \"y\": 955.0}, \"12\": {\"node_type\": \"midmarker\", \"x\": 225.0, \"y\": 975.0}, \"13\": {\"node_type\": \"multimarker\", \"x\": 225.0, \"y\": 995.0}, \"14\": {\"node_type\": \"metabolite\", \"x\": 150.0, \"y\": 1330.0, \"label_x\": 160.0, \"label_y\": 1320.0, \"bigg_id\": \"CPD_2961_c\", \"name\": \"CPD_2961_c\", \"node_is_primary\": false}, \"15\": {\"node_type\": \"metabolite\", \"x\": 300.0, \"y\": 1330.0, \"label_x\": 310.0, \"label_y\": 1320.0, \"bigg_id\": \"NADP_c\", \"name\": \"NADP_c\", \"node_is_primary\": false}, \"16\": {\"node_type\": \"metabolite\", \"x\": 112.5, \"y\": 1850.0, \"label_x\": 122.5, \"label_y\": 1880.0, \"bigg_id\": \"CARBON_DIOXIDE_c\", \"name\": \"CARBON_DIOXIDE_c\", \"node_is_primary\": false}, \"17\": {\"node_type\": \"metabolite\", \"x\": 225.0, \"y\": 1850.0, \"label_x\": 235.0, \"label_y\": 1880.0, \"bigg_id\": \"NADPH_c\", \"name\": \"NADPH_c\", \"node_is_primary\": false}, \"18\": {\"node_type\": \"metabolite\", \"x\": 337.5, \"y\": 1850.0, \"label_x\": 347.5, \"label_y\": 1880.0, \"bigg_id\": \"RIBULOSE_5P_c\", \"name\": \"RIBULOSE_5P_c\", \"node_is_primary\": false}, \"19\": {\"node_type\": \"multimarker\", \"x\": 225.0, \"y\": 1605.0}, \"20\": {\"node_type\": \"midmarker\", \"x\": 225.0, \"y\": 1625.0}, \"21\": {\"node_type\": \"multimarker\", \"x\": 225.0, \"y\": 1645.0}, \"22\": {\"node_type\": \"metabolite\", \"x\": 150.0, \"y\": 1980.0, \"label_x\": 160.0, \"label_y\": 1970.0, \"bigg_id\": \"D_glucopyranose_6_phosphate_c\", \"name\": \"D_glucopyranose_6_phosphate_c\", \"node_is_primary\": false}, \"23\": {\"node_type\": \"metabolite\", \"x\": 300.0, \"y\": 1980.0, \"label_x\": 310.0, \"label_y\": 1970.0, \"bigg_id\": \"NADP_c\", \"name\": \"NADP_c\", \"node_is_primary\": false}, \"24\": {\"node_type\": \"metabolite\", \"x\": 112.5, \"y\": 2500.0, \"label_x\": 122.5, \"label_y\": 2530.0, \"bigg_id\": \"D_6_P_GLUCONO_DELTA_LACTONE_c\", \"name\": \"D_6_P_GLUCONO_DELTA_LACTONE_c\", \"node_is_primary\": false}, \"25\": {\"node_type\": \"metabolite\", \"x\": 225.0, \"y\": 2500.0, \"label_x\": 235.0, \"label_y\": 2530.0, \"bigg_id\": \"NADPH_c\", \"name\": \"NADPH_c\", \"node_is_primary\": false}, \"26\": {\"node_type\": \"metabolite\", \"x\": 337.5, \"y\": 2500.0, \"label_x\": 347.5, \"label_y\": 2530.0, \"bigg_id\": \"PROTON_c\", \"name\": \"PROTON_c\", \"node_is_primary\": false}, \"27\": {\"node_type\": \"multimarker\", \"x\": 225.0, \"y\": 2255.0}, \"28\": {\"node_type\": \"midmarker\", \"x\": 225.0, \"y\": 2275.0}, \"29\": {\"node_type\": \"multimarker\", \"x\": 225.0, \"y\": 2295.0}}, \"text_labels\": {}, \"canvas\": {\"x\": 0, \"y\": 0, \"width\": 450, \"height\": 2600}}]",
       "_loaded_model_json": null,
       "allow_building_duplicate_reactions": false,
       "and_method_in_gene_reaction_rule": "mean",
       "canvas_size_and_loc": null,
       "cofactors": [
        "atp",
        "adp",
        "nad",
        "nadh",
        "nadp",
        "nadph",
        "gtp",
        "gdp",
        "h",
        "coa",
        "ump",
        "h2o",
        "ppi"
       ],
       "disabled_buttons": [
        "Clear reaction data",
        "Clear gene data",
        "Clear metabolite data"
       ],
       "embedded_css": null,
       "enable_editing": true,
       "enable_keys": false,
       "enable_keys_with_tooltip": true,
       "enable_search": true,
       "enable_tooltips": false,
       "full_screen_button": {
        "enable_editing": true,
        "enable_keys": true,
        "enable_tooltips": [
         "label"
        ],
        "menu": "all",
        "scroll_behavior": "pan"
       },
       "gene_data": null,
       "gene_font_size": 18,
       "height": 500,
       "hide_all_labels": false,
       "hide_secondary_metabolites": false,
       "highlight_missing": false,
       "identifiers_on_map": "bigg_id",
       "layout": "IPY_MODEL_fa4c28b94a664c02abb3d4b26b5a31b9",
       "marker_radius": 5,
       "menu": "all",
       "metabolite_compare_style": "log2_fold",
       "metabolite_data": null,
       "metabolite_no_data_color": "#ffffff",
       "metabolite_no_data_size": 10,
       "metabolite_scale": [
        {
         "color": "#fffaf0",
         "size": 20,
         "type": "min"
        },
        {
         "color": "#f1c470",
         "size": 30,
         "type": "median"
        },
        {
         "color": "#800000",
         "size": 40,
         "type": "max"
        }
       ],
       "metabolite_scale_preset": "WhYlRd",
       "metabolite_styles": [
        "color",
        "size",
        "text"
       ],
       "never_ask_before_quit": true,
       "primary_metabolite_radius": 20,
       "reaction_compare_style": "log2_fold",
       "reaction_data": null,
       "reaction_no_data_color": "#dcdcdc",
       "reaction_no_data_size": 8,
       "reaction_scale": {},
       "reaction_scale_preset": null,
       "reaction_styles": [
        "color",
        "text"
       ],
       "scroll_behavior": "none",
       "secondary_metabolite_radius": 10,
       "semantic_zoom": null,
       "show_gene_reaction_rules": false,
       "starting_reaction": null,
       "use_3d_transform": false,
       "zoom_to_element": null
      }
     },
     "cd414a30fe5f4ff6b26052df8b543a3a": {
      "model_module": "@jupyter-widgets/base",
      "model_module_version": "1.2.0",
      "model_name": "LayoutModel",
      "state": {}
     },
     "d37ab0d62ba8483db7d07260c1db7424": {
      "model_module": "escher",
      "model_module_version": "1.7.4",
      "model_name": "EscherMapModel",
      "state": {
       "_loaded_map_json": "[{\"map_name\": \"\", \"map_id\": \"\", \"map_description\": \"\", \"homepage\": \"\", \"schema\": \"https://escher.github.io/escher/jsonschema/1-0-0#\"}, {\"reactions\": {\"0\": {\"name\": \"GLCpts\", \"bigg_id\": \"GLCpts\", \"reversibility\": true, \"label_x\": 265.0, \"label_y\": 325.0, \"gene_reaction_rule\": \"\", \"genes\": [], \"segments\": {\"0\": {\"from_node_id\": \"4\", \"to_node_id\": \"5\", \"b1\": null, \"b2\": null}, \"1\": {\"from_node_id\": \"6\", \"to_node_id\": \"5\", \"b1\": null, \"b2\": null}, \"2\": {\"from_node_id\": \"0\", \"to_node_id\": \"4\", \"b1\": null, \"b2\": null}, \"3\": {\"from_node_id\": \"1\", \"to_node_id\": \"4\", \"b1\": null, \"b2\": null}, \"4\": {\"from_node_id\": \"2\", \"to_node_id\": \"6\", \"b1\": null, \"b2\": null}, \"5\": {\"from_node_id\": \"3\", \"to_node_id\": \"6\", \"b1\": null, \"b2\": null}}, \"metabolites\": [{\"bigg_id\": \"Glucopyranose_e\", \"coefficient\": -1.0}, {\"bigg_id\": \"PHOSPHO_ENOL_PYRUVATE_c\", \"coefficient\": -1.0}, {\"bigg_id\": \"D_glucopyranose_6_phosphate_c\", \"coefficient\": 1.0}, {\"bigg_id\": \"PYRUVATE_c\", \"coefficient\": 1.0}]}, \"1\": {\"name\": \"G6PDH2r\", \"bigg_id\": \"G6PDH2r\", \"reversibility\": true, \"label_x\": 265.0, \"label_y\": 975.0, \"gene_reaction_rule\": \"\", \"genes\": [], \"segments\": {\"6\": {\"from_node_id\": \"11\", \"to_node_id\": \"12\", \"b1\": null, \"b2\": null}, \"7\": {\"from_node_id\": \"13\", \"to_node_id\": \"12\", \"b1\": null, \"b2\": null}, \"8\": {\"from_node_id\": \"2\", \"to_node_id\": \"11\", \"b1\": null, \"b2\": null}, \"9\": {\"from_node_id\": \"7\", \"to_node_id\": \"11\", \"b1\": null, \"b2\": null}, \"10\": {\"from_node_id\": \"8\", \"to_node_id\": \"13\", \"b1\": null, \"b2\": null}, \"11\": {\"from_node_id\": \"9\", \"to_node_id\": \"13\", \"b1\": null, \"b2\": null}, \"12\": {\"from_node_id\": \"10\", \"to_node_id\": \"13\", \"b1\": null, \"b2\": null}}, \"metabolites\": [{\"bigg_id\": \"D_glucopyranose_6_phosphate_c\", \"coefficient\": -1.0}, {\"bigg_id\": \"NADP_c\", \"coefficient\": -1.0}, {\"bigg_id\": \"D_6_P_GLUCONO_DELTA_LACTONE_c\", \"coefficient\": 1.0}, {\"bigg_id\": \"NADPH_c\", \"coefficient\": 1.0}, {\"bigg_id\": \"PROTON_c\", \"coefficient\": 1.0}]}, \"2\": {\"name\": \"PGL\", \"bigg_id\": \"PGL\", \"reversibility\": true, \"label_x\": 265.0, \"label_y\": 1625.0, \"gene_reaction_rule\": \"\", \"genes\": [], \"segments\": {\"13\": {\"from_node_id\": \"17\", \"to_node_id\": \"18\", \"b1\": null, \"b2\": null}, \"14\": {\"from_node_id\": \"19\", \"to_node_id\": \"18\", \"b1\": null, \"b2\": null}, \"15\": {\"from_node_id\": \"14\", \"to_node_id\": \"17\", \"b1\": null, \"b2\": null}, \"16\": {\"from_node_id\": \"8\", \"to_node_id\": \"17\", \"b1\": null, \"b2\": null}, \"17\": {\"from_node_id\": \"15\", \"to_node_id\": \"19\", \"b1\": null, \"b2\": null}, \"18\": {\"from_node_id\": \"16\", \"to_node_id\": \"19\", \"b1\": null, \"b2\": null}}, \"metabolites\": [{\"bigg_id\": \"CPD_15815_c\", \"coefficient\": -1.0}, {\"bigg_id\": \"D_6_P_GLUCONO_DELTA_LACTONE_c\", \"coefficient\": -1.0}, {\"bigg_id\": \"CPD_2961_c\", \"coefficient\": 1.0}, {\"bigg_id\": \"PROTON_c\", \"coefficient\": 1.0}]}, \"3\": {\"name\": \"GND\", \"bigg_id\": \"GND\", \"reversibility\": true, \"label_x\": 265.0, \"label_y\": 2275.0, \"gene_reaction_rule\": \"\", \"genes\": [], \"segments\": {\"19\": {\"from_node_id\": \"24\", \"to_node_id\": \"25\", \"b1\": null, \"b2\": null}, \"20\": {\"from_node_id\": \"26\", \"to_node_id\": \"25\", \"b1\": null, \"b2\": null}, \"21\": {\"from_node_id\": \"15\", \"to_node_id\": \"24\", \"b1\": null, \"b2\": null}, \"22\": {\"from_node_id\": \"20\", \"to_node_id\": \"24\", \"b1\": null, \"b2\": null}, \"23\": {\"from_node_id\": \"21\", \"to_node_id\": \"26\", \"b1\": null, \"b2\": null}, \"24\": {\"from_node_id\": \"22\", \"to_node_id\": \"26\", \"b1\": null, \"b2\": null}, \"25\": {\"from_node_id\": \"23\", \"to_node_id\": \"26\", \"b1\": null, \"b2\": null}}, \"metabolites\": [{\"bigg_id\": \"CPD_2961_c\", \"coefficient\": -1.0}, {\"bigg_id\": \"NADP_c\", \"coefficient\": -1.0}, {\"bigg_id\": \"CARBON_DIOXIDE_c\", \"coefficient\": 1.0}, {\"bigg_id\": \"NADPH_c\", \"coefficient\": 1.0}, {\"bigg_id\": \"RIBULOSE_5P_c\", \"coefficient\": 1.0}]}}, \"nodes\": {\"0\": {\"node_type\": \"metabolite\", \"x\": 150.0, \"y\": 30.0, \"label_x\": 160.0, \"label_y\": 20.0, \"bigg_id\": \"Glucopyranose_e\", \"name\": \"Glucopyranose_e\", \"node_is_primary\": false}, \"1\": {\"node_type\": \"metabolite\", \"x\": 300.0, \"y\": 30.0, \"label_x\": 310.0, \"label_y\": 20.0, \"bigg_id\": \"PHOSPHO_ENOL_PYRUVATE_c\", \"name\": \"PHOSPHO_ENOL_PYRUVATE_c\", \"node_is_primary\": false}, \"2\": {\"node_type\": \"metabolite\", \"x\": 150.0, \"y\": 550.0, \"label_x\": 160.0, \"label_y\": 580.0, \"bigg_id\": \"D_glucopyranose_6_phosphate_c\", \"name\": \"D_glucopyranose_6_phosphate_c\", \"node_is_primary\": false}, \"3\": {\"node_type\": \"metabolite\", \"x\": 300.0, \"y\": 550.0, \"label_x\": 310.0, \"label_y\": 580.0, \"bigg_id\": \"PYRUVATE_c\", \"name\": \"PYRUVATE_c\", \"node_is_primary\": false}, \"4\": {\"node_type\": \"multimarker\", \"x\": 225.0, \"y\": 305.0}, \"5\": {\"node_type\": \"midmarker\", \"x\": 225.0, \"y\": 325.0}, \"6\": {\"node_type\": \"multimarker\", \"x\": 225.0, \"y\": 345.0}, \"7\": {\"node_type\": \"metabolite\", \"x\": 300.0, \"y\": 680.0, \"label_x\": 310.0, \"label_y\": 670.0, \"bigg_id\": \"NADP_c\", \"name\": \"NADP_c\", \"node_is_primary\": false}, \"8\": {\"node_type\": \"metabolite\", \"x\": 112.5, \"y\": 1200.0, \"label_x\": 122.5, \"label_y\": 1230.0, \"bigg_id\": \"D_6_P_GLUCONO_DELTA_LACTONE_c\", \"name\": \"D_6_P_GLUCONO_DELTA_LACTONE_c\", \"node_is_primary\": false}, \"9\": {\"node_type\": \"metabolite\", \"x\": 225.0, \"y\": 1200.0, \"label_x\": 235.0, \"label_y\": 1230.0, \"bigg_id\": \"NADPH_c\", \"name\": \"NADPH_c\", \"node_is_primary\": false}, \"10\": {\"node_type\": \"metabolite\", \"x\": 337.5, \"y\": 1200.0, \"label_x\": 347.5, \"label_y\": 1230.0, \"bigg_id\": \"PROTON_c\", \"name\": \"PROTON_c\", \"node_is_primary\": false}, \"11\": {\"node_type\": \"multimarker\", \"x\": 225.0, \"y\": 955.0}, \"12\": {\"node_type\": \"midmarker\", \"x\": 225.0, \"y\": 975.0}, \"13\": {\"node_type\": \"multimarker\", \"x\": 225.0, \"y\": 995.0}, \"14\": {\"node_type\": \"metabolite\", \"x\": 150.0, \"y\": 1330.0, \"label_x\": 160.0, \"label_y\": 1320.0, \"bigg_id\": \"CPD_15815_c\", \"name\": \"CPD_15815_c\", \"node_is_primary\": false}, \"15\": {\"node_type\": \"metabolite\", \"x\": 150.0, \"y\": 1850.0, \"label_x\": 160.0, \"label_y\": 1880.0, \"bigg_id\": \"CPD_2961_c\", \"name\": \"CPD_2961_c\", \"node_is_primary\": false}, \"16\": {\"node_type\": \"metabolite\", \"x\": 300.0, \"y\": 1850.0, \"label_x\": 310.0, \"label_y\": 1880.0, \"bigg_id\": \"PROTON_c\", \"name\": \"PROTON_c\", \"node_is_primary\": false}, \"17\": {\"node_type\": \"multimarker\", \"x\": 225.0, \"y\": 1605.0}, \"18\": {\"node_type\": \"midmarker\", \"x\": 225.0, \"y\": 1625.0}, \"19\": {\"node_type\": \"multimarker\", \"x\": 225.0, \"y\": 1645.0}, \"20\": {\"node_type\": \"metabolite\", \"x\": 300.0, \"y\": 1980.0, \"label_x\": 310.0, \"label_y\": 1970.0, \"bigg_id\": \"NADP_c\", \"name\": \"NADP_c\", \"node_is_primary\": false}, \"21\": {\"node_type\": \"metabolite\", \"x\": 112.5, \"y\": 2500.0, \"label_x\": 122.5, \"label_y\": 2530.0, \"bigg_id\": \"CARBON_DIOXIDE_c\", \"name\": \"CARBON_DIOXIDE_c\", \"node_is_primary\": false}, \"22\": {\"node_type\": \"metabolite\", \"x\": 225.0, \"y\": 2500.0, \"label_x\": 235.0, \"label_y\": 2530.0, \"bigg_id\": \"NADPH_c\", \"name\": \"NADPH_c\", \"node_is_primary\": false}, \"23\": {\"node_type\": \"metabolite\", \"x\": 337.5, \"y\": 2500.0, \"label_x\": 347.5, \"label_y\": 2530.0, \"bigg_id\": \"RIBULOSE_5P_c\", \"name\": \"RIBULOSE_5P_c\", \"node_is_primary\": false}, \"24\": {\"node_type\": \"multimarker\", \"x\": 225.0, \"y\": 2255.0}, \"25\": {\"node_type\": \"midmarker\", \"x\": 225.0, \"y\": 2275.0}, \"26\": {\"node_type\": \"multimarker\", \"x\": 225.0, \"y\": 2295.0}}, \"text_labels\": {}, \"canvas\": {\"x\": 0, \"y\": 0, \"width\": 450, \"height\": 2600}}]",
       "_loaded_model_json": null,
       "allow_building_duplicate_reactions": false,
       "and_method_in_gene_reaction_rule": "mean",
       "canvas_size_and_loc": null,
       "cofactors": [
        "atp",
        "adp",
        "nad",
        "nadh",
        "nadp",
        "nadph",
        "gtp",
        "gdp",
        "h",
        "coa",
        "ump",
        "h2o",
        "ppi"
       ],
       "disabled_buttons": [
        "Clear gene data",
        "Clear metabolite data"
       ],
       "embedded_css": null,
       "enable_editing": true,
       "enable_keys": false,
       "enable_keys_with_tooltip": true,
       "enable_search": true,
       "enable_tooltips": false,
       "full_screen_button": {
        "enable_editing": true,
        "enable_keys": true,
        "enable_tooltips": [
         "label"
        ],
        "menu": "all",
        "scroll_behavior": "pan"
       },
       "gene_data": null,
       "gene_font_size": 18,
       "height": 500,
       "hide_all_labels": false,
       "hide_secondary_metabolites": false,
       "highlight_missing": false,
       "identifiers_on_map": "bigg_id",
       "layout": "IPY_MODEL_f8603872196447fa8bc1abdb96e84c8f",
       "marker_radius": 5,
       "menu": "all",
       "metabolite_compare_style": "log2_fold",
       "metabolite_data": null,
       "metabolite_no_data_color": "#ffffff",
       "metabolite_no_data_size": 10,
       "metabolite_scale": [
        {
         "color": "#fffaf0",
         "size": 20,
         "type": "min"
        },
        {
         "color": "#f1c470",
         "size": 30,
         "type": "median"
        },
        {
         "color": "#800000",
         "size": 40,
         "type": "max"
        }
       ],
       "metabolite_scale_preset": "WhYlRd",
       "metabolite_styles": [
        "color",
        "size",
        "text"
       ],
       "never_ask_before_quit": true,
       "primary_metabolite_radius": 20,
       "reaction_compare_style": "log2_fold",
       "reaction_data": {
        "G6PDH2r": -2,
        "GLCpts": -2,
        "GND": 1,
        "Other": 1000,
        "PGL": 0.4
       },
       "reaction_no_data_color": "#dcdcdc",
       "reaction_no_data_size": 8,
       "reaction_scale": [
        {
         "color": "rgb(191,215,230)",
         "type": "value",
         "value": 0.4
        },
        {
         "color": "rgb(163,210,240)",
         "type": "value",
         "value": 1
        },
        {
         "color": "rgb(135,205,250)",
         "type": "value",
         "value": 1000
        },
        {
         "color": "rgb(220,220,220)",
         "type": "value",
         "value": 0
        },
        {
         "color": "rgb(237,192,110)",
         "type": "value",
         "value": -2
        },
        {
         "color": "rgb(255,165,0)",
         "type": "value",
         "value": -2
        }
       ],
       "reaction_scale_preset": null,
       "reaction_styles": [
        "color",
        "text"
       ],
       "scroll_behavior": "none",
       "secondary_metabolite_radius": 10,
       "semantic_zoom": null,
       "show_gene_reaction_rules": false,
       "starting_reaction": null,
       "use_3d_transform": false,
       "zoom_to_element": null
      }
     },
     "d37f496acb884d79998b9e2a2d86dd52": {
      "model_module": "escher",
      "model_module_version": "1.7.4",
      "model_name": "EscherMapModel",
      "state": {
       "_loaded_map_json": "[{\"map_name\": \"\", \"map_id\": \"\", \"map_description\": \"\", \"homepage\": \"\", \"schema\": \"https://escher.github.io/escher/jsonschema/1-0-0#\"}, {\"reactions\": {\"0\": {\"name\": \"GLCpts\", \"bigg_id\": \"GLCpts\", \"reversibility\": true, \"label_x\": 265.0, \"label_y\": 325.0, \"gene_reaction_rule\": \"\", \"genes\": [], \"segments\": {\"0\": {\"from_node_id\": \"4\", \"to_node_id\": \"5\", \"b1\": null, \"b2\": null}, \"1\": {\"from_node_id\": \"6\", \"to_node_id\": \"5\", \"b1\": null, \"b2\": null}, \"2\": {\"from_node_id\": \"0\", \"to_node_id\": \"4\", \"b1\": null, \"b2\": null}, \"3\": {\"from_node_id\": \"1\", \"to_node_id\": \"4\", \"b1\": null, \"b2\": null}, \"4\": {\"from_node_id\": \"2\", \"to_node_id\": \"6\", \"b1\": null, \"b2\": null}, \"5\": {\"from_node_id\": \"3\", \"to_node_id\": \"6\", \"b1\": null, \"b2\": null}}, \"metabolites\": [{\"bigg_id\": \"Glucopyranose_e\", \"coefficient\": -1.0}, {\"bigg_id\": \"PHOSPHO_ENOL_PYRUVATE_c\", \"coefficient\": -1.0}, {\"bigg_id\": \"D_glucopyranose_6_phosphate_c\", \"coefficient\": 1.0}, {\"bigg_id\": \"PYRUVATE_c\", \"coefficient\": 1.0}]}, \"1\": {\"name\": \"G6PDH2r\", \"bigg_id\": \"G6PDH2r\", \"reversibility\": true, \"label_x\": 265.0, \"label_y\": 975.0, \"gene_reaction_rule\": \"\", \"genes\": [], \"segments\": {\"6\": {\"from_node_id\": \"11\", \"to_node_id\": \"12\", \"b1\": null, \"b2\": null}, \"7\": {\"from_node_id\": \"13\", \"to_node_id\": \"12\", \"b1\": null, \"b2\": null}, \"8\": {\"from_node_id\": \"2\", \"to_node_id\": \"11\", \"b1\": null, \"b2\": null}, \"9\": {\"from_node_id\": \"7\", \"to_node_id\": \"11\", \"b1\": null, \"b2\": null}, \"10\": {\"from_node_id\": \"8\", \"to_node_id\": \"13\", \"b1\": null, \"b2\": null}, \"11\": {\"from_node_id\": \"9\", \"to_node_id\": \"13\", \"b1\": null, \"b2\": null}, \"12\": {\"from_node_id\": \"10\", \"to_node_id\": \"13\", \"b1\": null, \"b2\": null}}, \"metabolites\": [{\"bigg_id\": \"D_glucopyranose_6_phosphate_c\", \"coefficient\": -1.0}, {\"bigg_id\": \"NADP_c\", \"coefficient\": -1.0}, {\"bigg_id\": \"D_6_P_GLUCONO_DELTA_LACTONE_c\", \"coefficient\": 1.0}, {\"bigg_id\": \"NADPH_c\", \"coefficient\": 1.0}, {\"bigg_id\": \"PROTON_c\", \"coefficient\": 1.0}]}, \"2\": {\"name\": \"PGL\", \"bigg_id\": \"PGL\", \"reversibility\": true, \"label_x\": 265.0, \"label_y\": 1625.0, \"gene_reaction_rule\": \"\", \"genes\": [], \"segments\": {\"13\": {\"from_node_id\": \"17\", \"to_node_id\": \"18\", \"b1\": null, \"b2\": null}, \"14\": {\"from_node_id\": \"19\", \"to_node_id\": \"18\", \"b1\": null, \"b2\": null}, \"15\": {\"from_node_id\": \"14\", \"to_node_id\": \"17\", \"b1\": null, \"b2\": null}, \"16\": {\"from_node_id\": \"8\", \"to_node_id\": \"17\", \"b1\": null, \"b2\": null}, \"17\": {\"from_node_id\": \"15\", \"to_node_id\": \"19\", \"b1\": null, \"b2\": null}, \"18\": {\"from_node_id\": \"16\", \"to_node_id\": \"19\", \"b1\": null, \"b2\": null}}, \"metabolites\": [{\"bigg_id\": \"CPD_15815_c\", \"coefficient\": -1.0}, {\"bigg_id\": \"D_6_P_GLUCONO_DELTA_LACTONE_c\", \"coefficient\": -1.0}, {\"bigg_id\": \"CPD_2961_c\", \"coefficient\": 1.0}, {\"bigg_id\": \"PROTON_c\", \"coefficient\": 1.0}]}, \"3\": {\"name\": \"GND\", \"bigg_id\": \"GND\", \"reversibility\": true, \"label_x\": 265.0, \"label_y\": 2275.0, \"gene_reaction_rule\": \"\", \"genes\": [], \"segments\": {\"19\": {\"from_node_id\": \"24\", \"to_node_id\": \"25\", \"b1\": null, \"b2\": null}, \"20\": {\"from_node_id\": \"26\", \"to_node_id\": \"25\", \"b1\": null, \"b2\": null}, \"21\": {\"from_node_id\": \"15\", \"to_node_id\": \"24\", \"b1\": null, \"b2\": null}, \"22\": {\"from_node_id\": \"20\", \"to_node_id\": \"24\", \"b1\": null, \"b2\": null}, \"23\": {\"from_node_id\": \"21\", \"to_node_id\": \"26\", \"b1\": null, \"b2\": null}, \"24\": {\"from_node_id\": \"22\", \"to_node_id\": \"26\", \"b1\": null, \"b2\": null}, \"25\": {\"from_node_id\": \"23\", \"to_node_id\": \"26\", \"b1\": null, \"b2\": null}}, \"metabolites\": [{\"bigg_id\": \"CPD_2961_c\", \"coefficient\": -1.0}, {\"bigg_id\": \"NADP_c\", \"coefficient\": -1.0}, {\"bigg_id\": \"CARBON_DIOXIDE_c\", \"coefficient\": 1.0}, {\"bigg_id\": \"NADPH_c\", \"coefficient\": 1.0}, {\"bigg_id\": \"RIBULOSE_5P_c\", \"coefficient\": 1.0}]}}, \"nodes\": {\"0\": {\"node_type\": \"metabolite\", \"x\": 150.0, \"y\": 30.0, \"label_x\": 160.0, \"label_y\": 20.0, \"bigg_id\": \"Glucopyranose_e\", \"name\": \"Glucopyranose_e\", \"node_is_primary\": false}, \"1\": {\"node_type\": \"metabolite\", \"x\": 300.0, \"y\": 30.0, \"label_x\": 310.0, \"label_y\": 20.0, \"bigg_id\": \"PHOSPHO_ENOL_PYRUVATE_c\", \"name\": \"PHOSPHO_ENOL_PYRUVATE_c\", \"node_is_primary\": false}, \"2\": {\"node_type\": \"metabolite\", \"x\": 150.0, \"y\": 550.0, \"label_x\": 160.0, \"label_y\": 580.0, \"bigg_id\": \"D_glucopyranose_6_phosphate_c\", \"name\": \"D_glucopyranose_6_phosphate_c\", \"node_is_primary\": false}, \"3\": {\"node_type\": \"metabolite\", \"x\": 300.0, \"y\": 550.0, \"label_x\": 310.0, \"label_y\": 580.0, \"bigg_id\": \"PYRUVATE_c\", \"name\": \"PYRUVATE_c\", \"node_is_primary\": false}, \"4\": {\"node_type\": \"multimarker\", \"x\": 225.0, \"y\": 305.0}, \"5\": {\"node_type\": \"midmarker\", \"x\": 225.0, \"y\": 325.0}, \"6\": {\"node_type\": \"multimarker\", \"x\": 225.0, \"y\": 345.0}, \"7\": {\"node_type\": \"metabolite\", \"x\": 300.0, \"y\": 680.0, \"label_x\": 310.0, \"label_y\": 670.0, \"bigg_id\": \"NADP_c\", \"name\": \"NADP_c\", \"node_is_primary\": false}, \"8\": {\"node_type\": \"metabolite\", \"x\": 112.5, \"y\": 1200.0, \"label_x\": 122.5, \"label_y\": 1230.0, \"bigg_id\": \"D_6_P_GLUCONO_DELTA_LACTONE_c\", \"name\": \"D_6_P_GLUCONO_DELTA_LACTONE_c\", \"node_is_primary\": false}, \"9\": {\"node_type\": \"metabolite\", \"x\": 225.0, \"y\": 1200.0, \"label_x\": 235.0, \"label_y\": 1230.0, \"bigg_id\": \"NADPH_c\", \"name\": \"NADPH_c\", \"node_is_primary\": false}, \"10\": {\"node_type\": \"metabolite\", \"x\": 337.5, \"y\": 1200.0, \"label_x\": 347.5, \"label_y\": 1230.0, \"bigg_id\": \"PROTON_c\", \"name\": \"PROTON_c\", \"node_is_primary\": false}, \"11\": {\"node_type\": \"multimarker\", \"x\": 225.0, \"y\": 955.0}, \"12\": {\"node_type\": \"midmarker\", \"x\": 225.0, \"y\": 975.0}, \"13\": {\"node_type\": \"multimarker\", \"x\": 225.0, \"y\": 995.0}, \"14\": {\"node_type\": \"metabolite\", \"x\": 150.0, \"y\": 1330.0, \"label_x\": 160.0, \"label_y\": 1320.0, \"bigg_id\": \"CPD_15815_c\", \"name\": \"CPD_15815_c\", \"node_is_primary\": false}, \"15\": {\"node_type\": \"metabolite\", \"x\": 150.0, \"y\": 1850.0, \"label_x\": 160.0, \"label_y\": 1880.0, \"bigg_id\": \"CPD_2961_c\", \"name\": \"CPD_2961_c\", \"node_is_primary\": false}, \"16\": {\"node_type\": \"metabolite\", \"x\": 300.0, \"y\": 1850.0, \"label_x\": 310.0, \"label_y\": 1880.0, \"bigg_id\": \"PROTON_c\", \"name\": \"PROTON_c\", \"node_is_primary\": false}, \"17\": {\"node_type\": \"multimarker\", \"x\": 225.0, \"y\": 1605.0}, \"18\": {\"node_type\": \"midmarker\", \"x\": 225.0, \"y\": 1625.0}, \"19\": {\"node_type\": \"multimarker\", \"x\": 225.0, \"y\": 1645.0}, \"20\": {\"node_type\": \"metabolite\", \"x\": 300.0, \"y\": 1980.0, \"label_x\": 310.0, \"label_y\": 1970.0, \"bigg_id\": \"NADP_c\", \"name\": \"NADP_c\", \"node_is_primary\": false}, \"21\": {\"node_type\": \"metabolite\", \"x\": 112.5, \"y\": 2500.0, \"label_x\": 122.5, \"label_y\": 2530.0, \"bigg_id\": \"CARBON_DIOXIDE_c\", \"name\": \"CARBON_DIOXIDE_c\", \"node_is_primary\": false}, \"22\": {\"node_type\": \"metabolite\", \"x\": 225.0, \"y\": 2500.0, \"label_x\": 235.0, \"label_y\": 2530.0, \"bigg_id\": \"NADPH_c\", \"name\": \"NADPH_c\", \"node_is_primary\": false}, \"23\": {\"node_type\": \"metabolite\", \"x\": 337.5, \"y\": 2500.0, \"label_x\": 347.5, \"label_y\": 2530.0, \"bigg_id\": \"RIBULOSE_5P_c\", \"name\": \"RIBULOSE_5P_c\", \"node_is_primary\": false}, \"24\": {\"node_type\": \"multimarker\", \"x\": 225.0, \"y\": 2255.0}, \"25\": {\"node_type\": \"midmarker\", \"x\": 225.0, \"y\": 2275.0}, \"26\": {\"node_type\": \"multimarker\", \"x\": 225.0, \"y\": 2295.0}}, \"text_labels\": {}, \"canvas\": {\"x\": 0, \"y\": 0, \"width\": 450, \"height\": 2600}}]",
       "_loaded_model_json": null,
       "allow_building_duplicate_reactions": false,
       "and_method_in_gene_reaction_rule": "mean",
       "canvas_size_and_loc": null,
       "cofactors": [
        "atp",
        "adp",
        "nad",
        "nadh",
        "nadp",
        "nadph",
        "gtp",
        "gdp",
        "h",
        "coa",
        "ump",
        "h2o",
        "ppi"
       ],
       "disabled_buttons": [
        "Clear gene data",
        "Clear metabolite data"
       ],
       "embedded_css": null,
       "enable_editing": true,
       "enable_keys": false,
       "enable_keys_with_tooltip": true,
       "enable_search": true,
       "enable_tooltips": false,
       "full_screen_button": {
        "enable_editing": true,
        "enable_keys": true,
        "enable_tooltips": [
         "label"
        ],
        "menu": "all",
        "scroll_behavior": "pan"
       },
       "gene_data": null,
       "gene_font_size": 18,
       "height": 500,
       "hide_all_labels": false,
       "hide_secondary_metabolites": false,
       "highlight_missing": false,
       "identifiers_on_map": "bigg_id",
       "layout": "IPY_MODEL_c51f854922a04bedaeceb63d4a2f40dd",
       "marker_radius": 5,
       "menu": "all",
       "metabolite_compare_style": "log2_fold",
       "metabolite_data": null,
       "metabolite_no_data_color": "#ffffff",
       "metabolite_no_data_size": 10,
       "metabolite_scale": [
        {
         "color": "#fffaf0",
         "size": 20,
         "type": "min"
        },
        {
         "color": "#f1c470",
         "size": 30,
         "type": "median"
        },
        {
         "color": "#800000",
         "size": 40,
         "type": "max"
        }
       ],
       "metabolite_scale_preset": "WhYlRd",
       "metabolite_styles": [
        "color",
        "size",
        "text"
       ],
       "never_ask_before_quit": true,
       "primary_metabolite_radius": 20,
       "reaction_compare_style": "log2_fold",
       "reaction_data": {
        "G6PDH2r": -2,
        "GLCpts": -2,
        "GND": 1,
        "PGL": 0.4
       },
       "reaction_no_data_color": "#dcdcdc",
       "reaction_no_data_size": 8,
       "reaction_scale": [
        {
         "color": "rgb(110,174,110)",
         "type": "value",
         "value": 0.5
        },
        {
         "color": "rgb(0,128,0)",
         "type": "value",
         "value": 1
        },
        {
         "color": "rgb(220,220,220)",
         "type": "value",
         "value": 0
        },
        {
         "color": "rgb(237,110,110)",
         "type": "value",
         "value": -1
        },
        {
         "color": "rgb(255,0,0)",
         "type": "value",
         "value": -2
        }
       ],
       "reaction_scale_preset": null,
       "reaction_styles": [
        "color",
        "text"
       ],
       "scroll_behavior": "none",
       "secondary_metabolite_radius": 10,
       "semantic_zoom": null,
       "show_gene_reaction_rules": false,
       "starting_reaction": null,
       "use_3d_transform": false,
       "zoom_to_element": null
      }
     },
     "d4238cfd3cd149db8062c8075a14d7e4": {
      "model_module": "@jupyter-widgets/base",
      "model_module_version": "1.2.0",
      "model_name": "LayoutModel",
      "state": {}
     },
     "d43ad0f806a34fc4b7aa9021d02c0978": {
      "model_module": "@jupyter-widgets/base",
      "model_module_version": "1.2.0",
      "model_name": "LayoutModel",
      "state": {}
     },
     "d7b3a160b2964ab3a578a663cc2feb2b": {
      "model_module": "escher",
      "model_module_version": "1.7.4",
      "model_name": "EscherMapModel",
      "state": {
       "_loaded_map_json": "[{\"map_name\": \"\", \"map_id\": \"\", \"map_description\": \"\", \"homepage\": \"\", \"schema\": \"https://escher.github.io/escher/jsonschema/1-0-0#\"}, {\"reactions\": {\"0\": {\"name\": \"GLCpts\", \"bigg_id\": \"GLCpts\", \"reversibility\": true, \"label_x\": 265.0, \"label_y\": 325.0, \"gene_reaction_rule\": \"\", \"genes\": [], \"segments\": {\"0\": {\"from_node_id\": \"4\", \"to_node_id\": \"5\", \"b1\": null, \"b2\": null}, \"1\": {\"from_node_id\": \"6\", \"to_node_id\": \"5\", \"b1\": null, \"b2\": null}, \"2\": {\"from_node_id\": \"0\", \"to_node_id\": \"4\", \"b1\": null, \"b2\": null}, \"3\": {\"from_node_id\": \"1\", \"to_node_id\": \"4\", \"b1\": null, \"b2\": null}, \"4\": {\"from_node_id\": \"2\", \"to_node_id\": \"6\", \"b1\": null, \"b2\": null}, \"5\": {\"from_node_id\": \"3\", \"to_node_id\": \"6\", \"b1\": null, \"b2\": null}}, \"metabolites\": [{\"bigg_id\": \"Glucopyranose_e\", \"coefficient\": -1.0}, {\"bigg_id\": \"PHOSPHO_ENOL_PYRUVATE_c\", \"coefficient\": -1.0}, {\"bigg_id\": \"D_glucopyranose_6_phosphate_c\", \"coefficient\": 1.0}, {\"bigg_id\": \"PYRUVATE_c\", \"coefficient\": 1.0}]}, \"1\": {\"name\": \"G6PDH2r\", \"bigg_id\": \"G6PDH2r\", \"reversibility\": true, \"label_x\": 265.0, \"label_y\": 975.0, \"gene_reaction_rule\": \"\", \"genes\": [], \"segments\": {\"6\": {\"from_node_id\": \"11\", \"to_node_id\": \"12\", \"b1\": null, \"b2\": null}, \"7\": {\"from_node_id\": \"13\", \"to_node_id\": \"12\", \"b1\": null, \"b2\": null}, \"8\": {\"from_node_id\": \"2\", \"to_node_id\": \"11\", \"b1\": null, \"b2\": null}, \"9\": {\"from_node_id\": \"7\", \"to_node_id\": \"11\", \"b1\": null, \"b2\": null}, \"10\": {\"from_node_id\": \"8\", \"to_node_id\": \"13\", \"b1\": null, \"b2\": null}, \"11\": {\"from_node_id\": \"9\", \"to_node_id\": \"13\", \"b1\": null, \"b2\": null}, \"12\": {\"from_node_id\": \"10\", \"to_node_id\": \"13\", \"b1\": null, \"b2\": null}}, \"metabolites\": [{\"bigg_id\": \"D_glucopyranose_6_phosphate_c\", \"coefficient\": -1.0}, {\"bigg_id\": \"NADP_c\", \"coefficient\": -1.0}, {\"bigg_id\": \"D_6_P_GLUCONO_DELTA_LACTONE_c\", \"coefficient\": 1.0}, {\"bigg_id\": \"NADPH_c\", \"coefficient\": 1.0}, {\"bigg_id\": \"PROTON_c\", \"coefficient\": 1.0}]}, \"2\": {\"name\": \"PGL\", \"bigg_id\": \"PGL\", \"reversibility\": true, \"label_x\": 265.0, \"label_y\": 1625.0, \"gene_reaction_rule\": \"\", \"genes\": [], \"segments\": {\"13\": {\"from_node_id\": \"17\", \"to_node_id\": \"18\", \"b1\": null, \"b2\": null}, \"14\": {\"from_node_id\": \"19\", \"to_node_id\": \"18\", \"b1\": null, \"b2\": null}, \"15\": {\"from_node_id\": \"14\", \"to_node_id\": \"17\", \"b1\": null, \"b2\": null}, \"16\": {\"from_node_id\": \"8\", \"to_node_id\": \"17\", \"b1\": null, \"b2\": null}, \"17\": {\"from_node_id\": \"15\", \"to_node_id\": \"19\", \"b1\": null, \"b2\": null}, \"18\": {\"from_node_id\": \"16\", \"to_node_id\": \"19\", \"b1\": null, \"b2\": null}}, \"metabolites\": [{\"bigg_id\": \"CPD_15815_c\", \"coefficient\": -1.0}, {\"bigg_id\": \"D_6_P_GLUCONO_DELTA_LACTONE_c\", \"coefficient\": -1.0}, {\"bigg_id\": \"CPD_2961_c\", \"coefficient\": 1.0}, {\"bigg_id\": \"PROTON_c\", \"coefficient\": 1.0}]}, \"3\": {\"name\": \"GND\", \"bigg_id\": \"GND\", \"reversibility\": true, \"label_x\": 265.0, \"label_y\": 2275.0, \"gene_reaction_rule\": \"\", \"genes\": [], \"segments\": {\"19\": {\"from_node_id\": \"24\", \"to_node_id\": \"25\", \"b1\": null, \"b2\": null}, \"20\": {\"from_node_id\": \"26\", \"to_node_id\": \"25\", \"b1\": null, \"b2\": null}, \"21\": {\"from_node_id\": \"15\", \"to_node_id\": \"24\", \"b1\": null, \"b2\": null}, \"22\": {\"from_node_id\": \"20\", \"to_node_id\": \"24\", \"b1\": null, \"b2\": null}, \"23\": {\"from_node_id\": \"21\", \"to_node_id\": \"26\", \"b1\": null, \"b2\": null}, \"24\": {\"from_node_id\": \"22\", \"to_node_id\": \"26\", \"b1\": null, \"b2\": null}, \"25\": {\"from_node_id\": \"23\", \"to_node_id\": \"26\", \"b1\": null, \"b2\": null}}, \"metabolites\": [{\"bigg_id\": \"CPD_2961_c\", \"coefficient\": -1.0}, {\"bigg_id\": \"NADP_c\", \"coefficient\": -1.0}, {\"bigg_id\": \"CARBON_DIOXIDE_c\", \"coefficient\": 1.0}, {\"bigg_id\": \"NADPH_c\", \"coefficient\": 1.0}, {\"bigg_id\": \"RIBULOSE_5P_c\", \"coefficient\": 1.0}]}}, \"nodes\": {\"0\": {\"node_type\": \"metabolite\", \"x\": 150.0, \"y\": 30.0, \"label_x\": 160.0, \"label_y\": 20.0, \"bigg_id\": \"Glucopyranose_e\", \"name\": \"Glucopyranose_e\", \"node_is_primary\": false}, \"1\": {\"node_type\": \"metabolite\", \"x\": 300.0, \"y\": 30.0, \"label_x\": 310.0, \"label_y\": 20.0, \"bigg_id\": \"PHOSPHO_ENOL_PYRUVATE_c\", \"name\": \"PHOSPHO_ENOL_PYRUVATE_c\", \"node_is_primary\": false}, \"2\": {\"node_type\": \"metabolite\", \"x\": 150.0, \"y\": 550.0, \"label_x\": 160.0, \"label_y\": 580.0, \"bigg_id\": \"D_glucopyranose_6_phosphate_c\", \"name\": \"D_glucopyranose_6_phosphate_c\", \"node_is_primary\": false}, \"3\": {\"node_type\": \"metabolite\", \"x\": 300.0, \"y\": 550.0, \"label_x\": 310.0, \"label_y\": 580.0, \"bigg_id\": \"PYRUVATE_c\", \"name\": \"PYRUVATE_c\", \"node_is_primary\": false}, \"4\": {\"node_type\": \"multimarker\", \"x\": 225.0, \"y\": 305.0}, \"5\": {\"node_type\": \"midmarker\", \"x\": 225.0, \"y\": 325.0}, \"6\": {\"node_type\": \"multimarker\", \"x\": 225.0, \"y\": 345.0}, \"7\": {\"node_type\": \"metabolite\", \"x\": 300.0, \"y\": 680.0, \"label_x\": 310.0, \"label_y\": 670.0, \"bigg_id\": \"NADP_c\", \"name\": \"NADP_c\", \"node_is_primary\": false}, \"8\": {\"node_type\": \"metabolite\", \"x\": 112.5, \"y\": 1200.0, \"label_x\": 122.5, \"label_y\": 1230.0, \"bigg_id\": \"D_6_P_GLUCONO_DELTA_LACTONE_c\", \"name\": \"D_6_P_GLUCONO_DELTA_LACTONE_c\", \"node_is_primary\": false}, \"9\": {\"node_type\": \"metabolite\", \"x\": 225.0, \"y\": 1200.0, \"label_x\": 235.0, \"label_y\": 1230.0, \"bigg_id\": \"NADPH_c\", \"name\": \"NADPH_c\", \"node_is_primary\": false}, \"10\": {\"node_type\": \"metabolite\", \"x\": 337.5, \"y\": 1200.0, \"label_x\": 347.5, \"label_y\": 1230.0, \"bigg_id\": \"PROTON_c\", \"name\": \"PROTON_c\", \"node_is_primary\": false}, \"11\": {\"node_type\": \"multimarker\", \"x\": 225.0, \"y\": 955.0}, \"12\": {\"node_type\": \"midmarker\", \"x\": 225.0, \"y\": 975.0}, \"13\": {\"node_type\": \"multimarker\", \"x\": 225.0, \"y\": 995.0}, \"14\": {\"node_type\": \"metabolite\", \"x\": 150.0, \"y\": 1330.0, \"label_x\": 160.0, \"label_y\": 1320.0, \"bigg_id\": \"CPD_15815_c\", \"name\": \"CPD_15815_c\", \"node_is_primary\": false}, \"15\": {\"node_type\": \"metabolite\", \"x\": 150.0, \"y\": 1850.0, \"label_x\": 160.0, \"label_y\": 1880.0, \"bigg_id\": \"CPD_2961_c\", \"name\": \"CPD_2961_c\", \"node_is_primary\": false}, \"16\": {\"node_type\": \"metabolite\", \"x\": 300.0, \"y\": 1850.0, \"label_x\": 310.0, \"label_y\": 1880.0, \"bigg_id\": \"PROTON_c\", \"name\": \"PROTON_c\", \"node_is_primary\": false}, \"17\": {\"node_type\": \"multimarker\", \"x\": 225.0, \"y\": 1605.0}, \"18\": {\"node_type\": \"midmarker\", \"x\": 225.0, \"y\": 1625.0}, \"19\": {\"node_type\": \"multimarker\", \"x\": 225.0, \"y\": 1645.0}, \"20\": {\"node_type\": \"metabolite\", \"x\": 300.0, \"y\": 1980.0, \"label_x\": 310.0, \"label_y\": 1970.0, \"bigg_id\": \"NADP_c\", \"name\": \"NADP_c\", \"node_is_primary\": false}, \"21\": {\"node_type\": \"metabolite\", \"x\": 112.5, \"y\": 2500.0, \"label_x\": 122.5, \"label_y\": 2530.0, \"bigg_id\": \"CARBON_DIOXIDE_c\", \"name\": \"CARBON_DIOXIDE_c\", \"node_is_primary\": false}, \"22\": {\"node_type\": \"metabolite\", \"x\": 225.0, \"y\": 2500.0, \"label_x\": 235.0, \"label_y\": 2530.0, \"bigg_id\": \"NADPH_c\", \"name\": \"NADPH_c\", \"node_is_primary\": false}, \"23\": {\"node_type\": \"metabolite\", \"x\": 337.5, \"y\": 2500.0, \"label_x\": 347.5, \"label_y\": 2530.0, \"bigg_id\": \"RIBULOSE_5P_c\", \"name\": \"RIBULOSE_5P_c\", \"node_is_primary\": false}, \"24\": {\"node_type\": \"multimarker\", \"x\": 225.0, \"y\": 2255.0}, \"25\": {\"node_type\": \"midmarker\", \"x\": 225.0, \"y\": 2275.0}, \"26\": {\"node_type\": \"multimarker\", \"x\": 225.0, \"y\": 2295.0}}, \"text_labels\": {}, \"canvas\": {\"x\": 0, \"y\": 0, \"width\": 450, \"height\": 2600}}]",
       "_loaded_model_json": null,
       "allow_building_duplicate_reactions": false,
       "and_method_in_gene_reaction_rule": "mean",
       "canvas_size_and_loc": null,
       "cofactors": [
        "atp",
        "adp",
        "nad",
        "nadh",
        "nadp",
        "nadph",
        "gtp",
        "gdp",
        "h",
        "coa",
        "ump",
        "h2o",
        "ppi"
       ],
       "disabled_buttons": [
        "Clear gene data",
        "Clear metabolite data"
       ],
       "embedded_css": null,
       "enable_editing": true,
       "enable_keys": false,
       "enable_keys_with_tooltip": true,
       "enable_search": true,
       "enable_tooltips": false,
       "full_screen_button": {
        "enable_editing": true,
        "enable_keys": true,
        "enable_tooltips": [
         "label"
        ],
        "menu": "all",
        "scroll_behavior": "pan"
       },
       "gene_data": null,
       "gene_font_size": 18,
       "height": 500,
       "hide_all_labels": false,
       "hide_secondary_metabolites": false,
       "highlight_missing": false,
       "identifiers_on_map": "bigg_id",
       "layout": "IPY_MODEL_0be6faac1d26453c86f70084cf956c25",
       "marker_radius": 5,
       "menu": "all",
       "metabolite_compare_style": "log2_fold",
       "metabolite_data": null,
       "metabolite_no_data_color": "#ffffff",
       "metabolite_no_data_size": 10,
       "metabolite_scale": [
        {
         "color": "#fffaf0",
         "size": 20,
         "type": "min"
        },
        {
         "color": "#f1c470",
         "size": 30,
         "type": "median"
        },
        {
         "color": "#800000",
         "size": 40,
         "type": "max"
        }
       ],
       "metabolite_scale_preset": "WhYlRd",
       "metabolite_styles": [
        "color",
        "size",
        "text"
       ],
       "never_ask_before_quit": true,
       "primary_metabolite_radius": 20,
       "reaction_compare_style": "log2_fold",
       "reaction_data": {
        "G6PDH2r": -2,
        "GLCpts": -2,
        "GND": 1,
        "PGL": 0.4
       },
       "reaction_no_data_color": "#dcdcdc",
       "reaction_no_data_size": 8,
       "reaction_scale": [
        {
         "color": "rgb(110,174,110)",
         "type": "value",
         "value": 0.5
        },
        {
         "color": "rgb(0,128,0)",
         "type": "value",
         "value": 1
        },
        {
         "color": "rgb(220,220,220)",
         "type": "value",
         "value": 0
        },
        {
         "color": "rgb(237,110,110)",
         "type": "value",
         "value": -1
        },
        {
         "color": "rgb(255,0,0)",
         "type": "value",
         "value": -2
        }
       ],
       "reaction_scale_preset": null,
       "reaction_styles": [
        "color",
        "text"
       ],
       "scroll_behavior": "none",
       "secondary_metabolite_radius": 10,
       "semantic_zoom": null,
       "show_gene_reaction_rules": false,
       "starting_reaction": null,
       "use_3d_transform": false,
       "zoom_to_element": null
      }
     },
     "db2656499c1f49a9be49a4ad1ab7b573": {
      "model_module": "escher",
      "model_module_version": "1.7.4",
      "model_name": "EscherMapModel",
      "state": {
       "_loaded_map_json": "[{\"map_name\": \"\", \"map_id\": \"\", \"map_description\": \"\", \"homepage\": \"\", \"schema\": \"https://escher.github.io/escher/jsonschema/1-0-0#\"}, {\"reactions\": {\"0\": {\"name\": \"GLCpts\", \"bigg_id\": \"GLCpts\", \"reversibility\": true, \"label_x\": 265.0, \"label_y\": 325.0, \"gene_reaction_rule\": \"\", \"genes\": [], \"segments\": {\"0\": {\"from_node_id\": \"4\", \"to_node_id\": \"5\", \"b1\": null, \"b2\": null}, \"1\": {\"from_node_id\": \"6\", \"to_node_id\": \"5\", \"b1\": null, \"b2\": null}, \"2\": {\"from_node_id\": \"0\", \"to_node_id\": \"4\", \"b1\": null, \"b2\": null}, \"3\": {\"from_node_id\": \"1\", \"to_node_id\": \"4\", \"b1\": null, \"b2\": null}, \"4\": {\"from_node_id\": \"2\", \"to_node_id\": \"6\", \"b1\": null, \"b2\": null}, \"5\": {\"from_node_id\": \"3\", \"to_node_id\": \"6\", \"b1\": null, \"b2\": null}}, \"metabolites\": [{\"bigg_id\": \"Glucopyranose_e\", \"coefficient\": -1.0}, {\"bigg_id\": \"PHOSPHO_ENOL_PYRUVATE_c\", \"coefficient\": -1.0}, {\"bigg_id\": \"D_glucopyranose_6_phosphate_c\", \"coefficient\": 1.0}, {\"bigg_id\": \"PYRUVATE_c\", \"coefficient\": 1.0}]}, \"1\": {\"name\": \"G6PDH2r\", \"bigg_id\": \"G6PDH2r\", \"reversibility\": true, \"label_x\": 265.0, \"label_y\": 975.0, \"gene_reaction_rule\": \"\", \"genes\": [], \"segments\": {\"6\": {\"from_node_id\": \"11\", \"to_node_id\": \"12\", \"b1\": null, \"b2\": null}, \"7\": {\"from_node_id\": \"13\", \"to_node_id\": \"12\", \"b1\": null, \"b2\": null}, \"8\": {\"from_node_id\": \"2\", \"to_node_id\": \"11\", \"b1\": null, \"b2\": null}, \"9\": {\"from_node_id\": \"7\", \"to_node_id\": \"11\", \"b1\": null, \"b2\": null}, \"10\": {\"from_node_id\": \"8\", \"to_node_id\": \"13\", \"b1\": null, \"b2\": null}, \"11\": {\"from_node_id\": \"9\", \"to_node_id\": \"13\", \"b1\": null, \"b2\": null}, \"12\": {\"from_node_id\": \"10\", \"to_node_id\": \"13\", \"b1\": null, \"b2\": null}}, \"metabolites\": [{\"bigg_id\": \"D_glucopyranose_6_phosphate_c\", \"coefficient\": -1.0}, {\"bigg_id\": \"NADP_c\", \"coefficient\": -1.0}, {\"bigg_id\": \"D_6_P_GLUCONO_DELTA_LACTONE_c\", \"coefficient\": 1.0}, {\"bigg_id\": \"NADPH_c\", \"coefficient\": 1.0}, {\"bigg_id\": \"PROTON_c\", \"coefficient\": 1.0}]}, \"2\": {\"name\": \"PGL\", \"bigg_id\": \"PGL\", \"reversibility\": true, \"label_x\": 265.0, \"label_y\": 1625.0, \"gene_reaction_rule\": \"\", \"genes\": [], \"segments\": {\"13\": {\"from_node_id\": \"17\", \"to_node_id\": \"18\", \"b1\": null, \"b2\": null}, \"14\": {\"from_node_id\": \"19\", \"to_node_id\": \"18\", \"b1\": null, \"b2\": null}, \"15\": {\"from_node_id\": \"14\", \"to_node_id\": \"17\", \"b1\": null, \"b2\": null}, \"16\": {\"from_node_id\": \"8\", \"to_node_id\": \"17\", \"b1\": null, \"b2\": null}, \"17\": {\"from_node_id\": \"15\", \"to_node_id\": \"19\", \"b1\": null, \"b2\": null}, \"18\": {\"from_node_id\": \"16\", \"to_node_id\": \"19\", \"b1\": null, \"b2\": null}}, \"metabolites\": [{\"bigg_id\": \"CPD_15815_c\", \"coefficient\": -1.0}, {\"bigg_id\": \"D_6_P_GLUCONO_DELTA_LACTONE_c\", \"coefficient\": -1.0}, {\"bigg_id\": \"CPD_2961_c\", \"coefficient\": 1.0}, {\"bigg_id\": \"PROTON_c\", \"coefficient\": 1.0}]}, \"3\": {\"name\": \"GND\", \"bigg_id\": \"GND\", \"reversibility\": true, \"label_x\": 265.0, \"label_y\": 2275.0, \"gene_reaction_rule\": \"\", \"genes\": [], \"segments\": {\"19\": {\"from_node_id\": \"24\", \"to_node_id\": \"25\", \"b1\": null, \"b2\": null}, \"20\": {\"from_node_id\": \"26\", \"to_node_id\": \"25\", \"b1\": null, \"b2\": null}, \"21\": {\"from_node_id\": \"15\", \"to_node_id\": \"24\", \"b1\": null, \"b2\": null}, \"22\": {\"from_node_id\": \"20\", \"to_node_id\": \"24\", \"b1\": null, \"b2\": null}, \"23\": {\"from_node_id\": \"21\", \"to_node_id\": \"26\", \"b1\": null, \"b2\": null}, \"24\": {\"from_node_id\": \"22\", \"to_node_id\": \"26\", \"b1\": null, \"b2\": null}, \"25\": {\"from_node_id\": \"23\", \"to_node_id\": \"26\", \"b1\": null, \"b2\": null}}, \"metabolites\": [{\"bigg_id\": \"CPD_2961_c\", \"coefficient\": -1.0}, {\"bigg_id\": \"NADP_c\", \"coefficient\": -1.0}, {\"bigg_id\": \"CARBON_DIOXIDE_c\", \"coefficient\": 1.0}, {\"bigg_id\": \"NADPH_c\", \"coefficient\": 1.0}, {\"bigg_id\": \"RIBULOSE_5P_c\", \"coefficient\": 1.0}]}}, \"nodes\": {\"0\": {\"node_type\": \"metabolite\", \"x\": 150.0, \"y\": 30.0, \"label_x\": 160.0, \"label_y\": 20.0, \"bigg_id\": \"Glucopyranose_e\", \"name\": \"Glucopyranose_e\", \"node_is_primary\": false}, \"1\": {\"node_type\": \"metabolite\", \"x\": 300.0, \"y\": 30.0, \"label_x\": 310.0, \"label_y\": 20.0, \"bigg_id\": \"PHOSPHO_ENOL_PYRUVATE_c\", \"name\": \"PHOSPHO_ENOL_PYRUVATE_c\", \"node_is_primary\": false}, \"2\": {\"node_type\": \"metabolite\", \"x\": 150.0, \"y\": 550.0, \"label_x\": 160.0, \"label_y\": 580.0, \"bigg_id\": \"D_glucopyranose_6_phosphate_c\", \"name\": \"D_glucopyranose_6_phosphate_c\", \"node_is_primary\": false}, \"3\": {\"node_type\": \"metabolite\", \"x\": 300.0, \"y\": 550.0, \"label_x\": 310.0, \"label_y\": 580.0, \"bigg_id\": \"PYRUVATE_c\", \"name\": \"PYRUVATE_c\", \"node_is_primary\": false}, \"4\": {\"node_type\": \"multimarker\", \"x\": 225.0, \"y\": 305.0}, \"5\": {\"node_type\": \"midmarker\", \"x\": 225.0, \"y\": 325.0}, \"6\": {\"node_type\": \"multimarker\", \"x\": 225.0, \"y\": 345.0}, \"7\": {\"node_type\": \"metabolite\", \"x\": 300.0, \"y\": 680.0, \"label_x\": 310.0, \"label_y\": 670.0, \"bigg_id\": \"NADP_c\", \"name\": \"NADP_c\", \"node_is_primary\": false}, \"8\": {\"node_type\": \"metabolite\", \"x\": 112.5, \"y\": 1200.0, \"label_x\": 122.5, \"label_y\": 1230.0, \"bigg_id\": \"D_6_P_GLUCONO_DELTA_LACTONE_c\", \"name\": \"D_6_P_GLUCONO_DELTA_LACTONE_c\", \"node_is_primary\": false}, \"9\": {\"node_type\": \"metabolite\", \"x\": 225.0, \"y\": 1200.0, \"label_x\": 235.0, \"label_y\": 1230.0, \"bigg_id\": \"NADPH_c\", \"name\": \"NADPH_c\", \"node_is_primary\": false}, \"10\": {\"node_type\": \"metabolite\", \"x\": 337.5, \"y\": 1200.0, \"label_x\": 347.5, \"label_y\": 1230.0, \"bigg_id\": \"PROTON_c\", \"name\": \"PROTON_c\", \"node_is_primary\": false}, \"11\": {\"node_type\": \"multimarker\", \"x\": 225.0, \"y\": 955.0}, \"12\": {\"node_type\": \"midmarker\", \"x\": 225.0, \"y\": 975.0}, \"13\": {\"node_type\": \"multimarker\", \"x\": 225.0, \"y\": 995.0}, \"14\": {\"node_type\": \"metabolite\", \"x\": 150.0, \"y\": 1330.0, \"label_x\": 160.0, \"label_y\": 1320.0, \"bigg_id\": \"CPD_15815_c\", \"name\": \"CPD_15815_c\", \"node_is_primary\": false}, \"15\": {\"node_type\": \"metabolite\", \"x\": 150.0, \"y\": 1850.0, \"label_x\": 160.0, \"label_y\": 1880.0, \"bigg_id\": \"CPD_2961_c\", \"name\": \"CPD_2961_c\", \"node_is_primary\": false}, \"16\": {\"node_type\": \"metabolite\", \"x\": 300.0, \"y\": 1850.0, \"label_x\": 310.0, \"label_y\": 1880.0, \"bigg_id\": \"PROTON_c\", \"name\": \"PROTON_c\", \"node_is_primary\": false}, \"17\": {\"node_type\": \"multimarker\", \"x\": 225.0, \"y\": 1605.0}, \"18\": {\"node_type\": \"midmarker\", \"x\": 225.0, \"y\": 1625.0}, \"19\": {\"node_type\": \"multimarker\", \"x\": 225.0, \"y\": 1645.0}, \"20\": {\"node_type\": \"metabolite\", \"x\": 300.0, \"y\": 1980.0, \"label_x\": 310.0, \"label_y\": 1970.0, \"bigg_id\": \"NADP_c\", \"name\": \"NADP_c\", \"node_is_primary\": false}, \"21\": {\"node_type\": \"metabolite\", \"x\": 112.5, \"y\": 2500.0, \"label_x\": 122.5, \"label_y\": 2530.0, \"bigg_id\": \"CARBON_DIOXIDE_c\", \"name\": \"CARBON_DIOXIDE_c\", \"node_is_primary\": false}, \"22\": {\"node_type\": \"metabolite\", \"x\": 225.0, \"y\": 2500.0, \"label_x\": 235.0, \"label_y\": 2530.0, \"bigg_id\": \"NADPH_c\", \"name\": \"NADPH_c\", \"node_is_primary\": false}, \"23\": {\"node_type\": \"metabolite\", \"x\": 337.5, \"y\": 2500.0, \"label_x\": 347.5, \"label_y\": 2530.0, \"bigg_id\": \"RIBULOSE_5P_c\", \"name\": \"RIBULOSE_5P_c\", \"node_is_primary\": false}, \"24\": {\"node_type\": \"multimarker\", \"x\": 225.0, \"y\": 2255.0}, \"25\": {\"node_type\": \"midmarker\", \"x\": 225.0, \"y\": 2275.0}, \"26\": {\"node_type\": \"multimarker\", \"x\": 225.0, \"y\": 2295.0}}, \"text_labels\": {}, \"canvas\": {\"x\": 0, \"y\": 0, \"width\": 450, \"height\": 2600}}]",
       "_loaded_model_json": null,
       "allow_building_duplicate_reactions": false,
       "and_method_in_gene_reaction_rule": "mean",
       "canvas_size_and_loc": null,
       "cofactors": [
        "atp",
        "adp",
        "nad",
        "nadh",
        "nadp",
        "nadph",
        "gtp",
        "gdp",
        "h",
        "coa",
        "ump",
        "h2o",
        "ppi"
       ],
       "disabled_buttons": [
        "Clear gene data",
        "Clear metabolite data"
       ],
       "embedded_css": null,
       "enable_editing": true,
       "enable_keys": false,
       "enable_keys_with_tooltip": true,
       "enable_search": true,
       "enable_tooltips": false,
       "full_screen_button": {
        "enable_editing": true,
        "enable_keys": true,
        "enable_tooltips": [
         "label"
        ],
        "menu": "all",
        "scroll_behavior": "pan"
       },
       "gene_data": null,
       "gene_font_size": 18,
       "height": 500,
       "hide_all_labels": false,
       "hide_secondary_metabolites": false,
       "highlight_missing": false,
       "identifiers_on_map": "bigg_id",
       "layout": "IPY_MODEL_cae5230ff26649b59ddcb4ca72b9ebc1",
       "marker_radius": 5,
       "menu": "all",
       "metabolite_compare_style": "log2_fold",
       "metabolite_data": null,
       "metabolite_no_data_color": "#ffffff",
       "metabolite_no_data_size": 10,
       "metabolite_scale": [
        {
         "color": "#fffaf0",
         "size": 20,
         "type": "min"
        },
        {
         "color": "#f1c470",
         "size": 30,
         "type": "median"
        },
        {
         "color": "#800000",
         "size": 40,
         "type": "max"
        }
       ],
       "metabolite_scale_preset": "WhYlRd",
       "metabolite_styles": [
        "color",
        "size",
        "text"
       ],
       "never_ask_before_quit": true,
       "primary_metabolite_radius": 20,
       "reaction_compare_style": "log2_fold",
       "reaction_data": {
        "G6PDH2r": -2,
        "GLCpts": -2,
        "GND": 1,
        "PGL": 0.4
       },
       "reaction_no_data_color": "#dcdcdc",
       "reaction_no_data_size": 8,
       "reaction_scale": [
        {
         "color": "rgb(146,189,146)",
         "type": "value",
         "value": 3.3333333333333335
        },
        {
         "color": "rgb(73,158,73)",
         "type": "value",
         "value": 6.666666666666666
        },
        {
         "color": "rgb(0,127,0)",
         "type": "value",
         "value": 10
        },
        {
         "color": "rgb(220,220,220)",
         "type": "value",
         "value": 0
        },
        {
         "color": "rgb(231,146,146)",
         "type": "value",
         "value": -3.3333333333333335
        },
        {
         "color": "rgb(243,73,73)",
         "type": "value",
         "value": -6.666666666666666
        },
        {
         "color": "rgb(255,0,0)",
         "type": "value",
         "value": -10
        }
       ],
       "reaction_scale_preset": null,
       "reaction_styles": [
        "color",
        "text"
       ],
       "scroll_behavior": "none",
       "secondary_metabolite_radius": 10,
       "semantic_zoom": null,
       "show_gene_reaction_rules": false,
       "starting_reaction": null,
       "use_3d_transform": false,
       "zoom_to_element": null
      }
     },
     "df9598214a884a87a4a1c7b236f0fce4": {
      "model_module": "escher",
      "model_module_version": "1.7.4",
      "model_name": "EscherMapModel",
      "state": {
       "_loaded_map_json": "[{\"map_name\": \"\", \"map_id\": \"\", \"map_description\": \"\", \"homepage\": \"\", \"schema\": \"https://escher.github.io/escher/jsonschema/1-0-0#\"}, {\"reactions\": {\"0\": {\"name\": \"G6PDH2r\", \"bigg_id\": \"G6PDH2r\", \"reversibility\": true, \"label_x\": 265.0, \"label_y\": 325.0, \"gene_reaction_rule\": \"\", \"genes\": [], \"segments\": {\"0\": {\"from_node_id\": \"5\", \"to_node_id\": \"6\", \"b1\": null, \"b2\": null}, \"1\": {\"from_node_id\": \"7\", \"to_node_id\": \"6\", \"b1\": null, \"b2\": null}, \"2\": {\"from_node_id\": \"0\", \"to_node_id\": \"5\", \"b1\": null, \"b2\": null}, \"3\": {\"from_node_id\": \"1\", \"to_node_id\": \"5\", \"b1\": null, \"b2\": null}, \"4\": {\"from_node_id\": \"2\", \"to_node_id\": \"7\", \"b1\": null, \"b2\": null}, \"5\": {\"from_node_id\": \"3\", \"to_node_id\": \"7\", \"b1\": null, \"b2\": null}, \"6\": {\"from_node_id\": \"4\", \"to_node_id\": \"7\", \"b1\": null, \"b2\": null}}, \"metabolites\": [{\"bigg_id\": \"D_glucopyranose_6_phosphate_c\", \"coefficient\": -1.0}, {\"bigg_id\": \"NADP_c\", \"coefficient\": -1.0}, {\"bigg_id\": \"D_6_P_GLUCONO_DELTA_LACTONE_c\", \"coefficient\": 1.0}, {\"bigg_id\": \"NADPH_c\", \"coefficient\": 1.0}, {\"bigg_id\": \"PROTON_c\", \"coefficient\": 1.0}]}, \"1\": {\"name\": \"PGL\", \"bigg_id\": \"PGL\", \"reversibility\": true, \"label_x\": 265.0, \"label_y\": 975.0, \"gene_reaction_rule\": \"\", \"genes\": [], \"segments\": {\"7\": {\"from_node_id\": \"11\", \"to_node_id\": \"12\", \"b1\": null, \"b2\": null}, \"8\": {\"from_node_id\": \"13\", \"to_node_id\": \"12\", \"b1\": null, \"b2\": null}, \"9\": {\"from_node_id\": \"8\", \"to_node_id\": \"11\", \"b1\": null, \"b2\": null}, \"10\": {\"from_node_id\": \"2\", \"to_node_id\": \"11\", \"b1\": null, \"b2\": null}, \"11\": {\"from_node_id\": \"9\", \"to_node_id\": \"13\", \"b1\": null, \"b2\": null}, \"12\": {\"from_node_id\": \"10\", \"to_node_id\": \"13\", \"b1\": null, \"b2\": null}}, \"metabolites\": [{\"bigg_id\": \"CPD_15815_c\", \"coefficient\": -1.0}, {\"bigg_id\": \"D_6_P_GLUCONO_DELTA_LACTONE_c\", \"coefficient\": -1.0}, {\"bigg_id\": \"CPD_2961_c\", \"coefficient\": 1.0}, {\"bigg_id\": \"PROTON_c\", \"coefficient\": 1.0}]}, \"2\": {\"name\": \"GND\", \"bigg_id\": \"GND\", \"reversibility\": true, \"label_x\": 265.0, \"label_y\": 1625.0, \"gene_reaction_rule\": \"\", \"genes\": [], \"segments\": {\"13\": {\"from_node_id\": \"18\", \"to_node_id\": \"19\", \"b1\": null, \"b2\": null}, \"14\": {\"from_node_id\": \"20\", \"to_node_id\": \"19\", \"b1\": null, \"b2\": null}, \"15\": {\"from_node_id\": \"9\", \"to_node_id\": \"18\", \"b1\": null, \"b2\": null}, \"16\": {\"from_node_id\": \"14\", \"to_node_id\": \"18\", \"b1\": null, \"b2\": null}, \"17\": {\"from_node_id\": \"15\", \"to_node_id\": \"20\", \"b1\": null, \"b2\": null}, \"18\": {\"from_node_id\": \"16\", \"to_node_id\": \"20\", \"b1\": null, \"b2\": null}, \"19\": {\"from_node_id\": \"17\", \"to_node_id\": \"20\", \"b1\": null, \"b2\": null}}, \"metabolites\": [{\"bigg_id\": \"CPD_2961_c\", \"coefficient\": -1.0}, {\"bigg_id\": \"NADP_c\", \"coefficient\": -1.0}, {\"bigg_id\": \"CARBON_DIOXIDE_c\", \"coefficient\": 1.0}, {\"bigg_id\": \"NADPH_c\", \"coefficient\": 1.0}, {\"bigg_id\": \"RIBULOSE_5P_c\", \"coefficient\": 1.0}]}, \"3\": {\"name\": \"GLCpts\", \"bigg_id\": \"GLCpts\", \"reversibility\": true, \"label_x\": 265.0, \"label_y\": 2275.0, \"gene_reaction_rule\": \"\", \"genes\": [], \"segments\": {\"20\": {\"from_node_id\": \"25\", \"to_node_id\": \"26\", \"b1\": null, \"b2\": null}, \"21\": {\"from_node_id\": \"27\", \"to_node_id\": \"26\", \"b1\": null, \"b2\": null}, \"22\": {\"from_node_id\": \"21\", \"to_node_id\": \"25\", \"b1\": null, \"b2\": null}, \"23\": {\"from_node_id\": \"22\", \"to_node_id\": \"25\", \"b1\": null, \"b2\": null}, \"24\": {\"from_node_id\": \"23\", \"to_node_id\": \"27\", \"b1\": null, \"b2\": null}, \"25\": {\"from_node_id\": \"24\", \"to_node_id\": \"27\", \"b1\": null, \"b2\": null}}, \"metabolites\": [{\"bigg_id\": \"Glucopyranose_e\", \"coefficient\": -1.0}, {\"bigg_id\": \"PHOSPHO_ENOL_PYRUVATE_c\", \"coefficient\": -1.0}, {\"bigg_id\": \"D_glucopyranose_6_phosphate_c\", \"coefficient\": 1.0}, {\"bigg_id\": \"PYRUVATE_c\", \"coefficient\": 1.0}]}}, \"nodes\": {\"0\": {\"node_type\": \"metabolite\", \"x\": 150.0, \"y\": 30.0, \"label_x\": 160.0, \"label_y\": 20.0, \"bigg_id\": \"D_glucopyranose_6_phosphate_c\", \"name\": \"D_glucopyranose_6_phosphate_c\", \"node_is_primary\": false}, \"1\": {\"node_type\": \"metabolite\", \"x\": 300.0, \"y\": 30.0, \"label_x\": 310.0, \"label_y\": 20.0, \"bigg_id\": \"NADP_c\", \"name\": \"NADP_c\", \"node_is_primary\": false}, \"2\": {\"node_type\": \"metabolite\", \"x\": 112.5, \"y\": 550.0, \"label_x\": 122.5, \"label_y\": 580.0, \"bigg_id\": \"D_6_P_GLUCONO_DELTA_LACTONE_c\", \"name\": \"D_6_P_GLUCONO_DELTA_LACTONE_c\", \"node_is_primary\": false}, \"3\": {\"node_type\": \"metabolite\", \"x\": 225.0, \"y\": 550.0, \"label_x\": 235.0, \"label_y\": 580.0, \"bigg_id\": \"NADPH_c\", \"name\": \"NADPH_c\", \"node_is_primary\": false}, \"4\": {\"node_type\": \"metabolite\", \"x\": 337.5, \"y\": 550.0, \"label_x\": 347.5, \"label_y\": 580.0, \"bigg_id\": \"PROTON_c\", \"name\": \"PROTON_c\", \"node_is_primary\": false}, \"5\": {\"node_type\": \"multimarker\", \"x\": 225.0, \"y\": 305.0}, \"6\": {\"node_type\": \"midmarker\", \"x\": 225.0, \"y\": 325.0}, \"7\": {\"node_type\": \"multimarker\", \"x\": 225.0, \"y\": 345.0}, \"8\": {\"node_type\": \"metabolite\", \"x\": 150.0, \"y\": 680.0, \"label_x\": 160.0, \"label_y\": 670.0, \"bigg_id\": \"CPD_15815_c\", \"name\": \"CPD_15815_c\", \"node_is_primary\": false}, \"9\": {\"node_type\": \"metabolite\", \"x\": 150.0, \"y\": 1200.0, \"label_x\": 160.0, \"label_y\": 1230.0, \"bigg_id\": \"CPD_2961_c\", \"name\": \"CPD_2961_c\", \"node_is_primary\": false}, \"10\": {\"node_type\": \"metabolite\", \"x\": 300.0, \"y\": 1200.0, \"label_x\": 310.0, \"label_y\": 1230.0, \"bigg_id\": \"PROTON_c\", \"name\": \"PROTON_c\", \"node_is_primary\": false}, \"11\": {\"node_type\": \"multimarker\", \"x\": 225.0, \"y\": 955.0}, \"12\": {\"node_type\": \"midmarker\", \"x\": 225.0, \"y\": 975.0}, \"13\": {\"node_type\": \"multimarker\", \"x\": 225.0, \"y\": 995.0}, \"14\": {\"node_type\": \"metabolite\", \"x\": 300.0, \"y\": 1330.0, \"label_x\": 310.0, \"label_y\": 1320.0, \"bigg_id\": \"NADP_c\", \"name\": \"NADP_c\", \"node_is_primary\": false}, \"15\": {\"node_type\": \"metabolite\", \"x\": 112.5, \"y\": 1850.0, \"label_x\": 122.5, \"label_y\": 1880.0, \"bigg_id\": \"CARBON_DIOXIDE_c\", \"name\": \"CARBON_DIOXIDE_c\", \"node_is_primary\": false}, \"16\": {\"node_type\": \"metabolite\", \"x\": 225.0, \"y\": 1850.0, \"label_x\": 235.0, \"label_y\": 1880.0, \"bigg_id\": \"NADPH_c\", \"name\": \"NADPH_c\", \"node_is_primary\": false}, \"17\": {\"node_type\": \"metabolite\", \"x\": 337.5, \"y\": 1850.0, \"label_x\": 347.5, \"label_y\": 1880.0, \"bigg_id\": \"RIBULOSE_5P_c\", \"name\": \"RIBULOSE_5P_c\", \"node_is_primary\": false}, \"18\": {\"node_type\": \"multimarker\", \"x\": 225.0, \"y\": 1605.0}, \"19\": {\"node_type\": \"midmarker\", \"x\": 225.0, \"y\": 1625.0}, \"20\": {\"node_type\": \"multimarker\", \"x\": 225.0, \"y\": 1645.0}, \"21\": {\"node_type\": \"metabolite\", \"x\": 150.0, \"y\": 1980.0, \"label_x\": 160.0, \"label_y\": 1970.0, \"bigg_id\": \"Glucopyranose_e\", \"name\": \"Glucopyranose_e\", \"node_is_primary\": false}, \"22\": {\"node_type\": \"metabolite\", \"x\": 300.0, \"y\": 1980.0, \"label_x\": 310.0, \"label_y\": 1970.0, \"bigg_id\": \"PHOSPHO_ENOL_PYRUVATE_c\", \"name\": \"PHOSPHO_ENOL_PYRUVATE_c\", \"node_is_primary\": false}, \"23\": {\"node_type\": \"metabolite\", \"x\": 150.0, \"y\": 2500.0, \"label_x\": 160.0, \"label_y\": 2530.0, \"bigg_id\": \"D_glucopyranose_6_phosphate_c\", \"name\": \"D_glucopyranose_6_phosphate_c\", \"node_is_primary\": false}, \"24\": {\"node_type\": \"metabolite\", \"x\": 300.0, \"y\": 2500.0, \"label_x\": 310.0, \"label_y\": 2530.0, \"bigg_id\": \"PYRUVATE_c\", \"name\": \"PYRUVATE_c\", \"node_is_primary\": false}, \"25\": {\"node_type\": \"multimarker\", \"x\": 225.0, \"y\": 2255.0}, \"26\": {\"node_type\": \"midmarker\", \"x\": 225.0, \"y\": 2275.0}, \"27\": {\"node_type\": \"multimarker\", \"x\": 225.0, \"y\": 2295.0}}, \"text_labels\": {}, \"canvas\": {\"x\": 0, \"y\": 0, \"width\": 450, \"height\": 2600}}]",
       "_loaded_model_json": null,
       "allow_building_duplicate_reactions": null,
       "and_method_in_gene_reaction_rule": null,
       "canvas_size_and_loc": null,
       "cofactors": null,
       "disabled_buttons": null,
       "embedded_css": null,
       "enable_editing": null,
       "enable_keys": false,
       "enable_keys_with_tooltip": null,
       "enable_search": null,
       "enable_tooltips": false,
       "full_screen_button": {
        "enable_editing": true,
        "enable_keys": true,
        "enable_tooltips": [
         "label"
        ],
        "menu": "all",
        "scroll_behavior": "pan"
       },
       "gene_data": null,
       "gene_font_size": null,
       "height": 500,
       "hide_all_labels": null,
       "hide_secondary_metabolites": null,
       "highlight_missing": null,
       "identifiers_on_map": null,
       "layout": "IPY_MODEL_8139380928ab4f4c9d5120f19f95f39f",
       "marker_radius": null,
       "menu": null,
       "metabolite_compare_style": null,
       "metabolite_data": null,
       "metabolite_no_data_color": null,
       "metabolite_no_data_size": null,
       "metabolite_scale": null,
       "metabolite_scale_preset": null,
       "metabolite_styles": null,
       "never_ask_before_quit": true,
       "primary_metabolite_radius": null,
       "reaction_compare_style": null,
       "reaction_data": {
        "G6PDH2r": -2,
        "GLCpts": -2,
        "GND": 1,
        "Other": 1000,
        "PGL": 0.4
       },
       "reaction_no_data_color": null,
       "reaction_no_data_size": null,
       "reaction_scale": [
        {
         "color": "rgb(191,215,230)",
         "type": "value",
         "value": 333.3333333333333
        },
        {
         "color": "rgb(163,210,240)",
         "type": "value",
         "value": 666.6666666666667
        },
        {
         "color": "rgb(135,205,250)",
         "type": "value",
         "value": 1000
        },
        {
         "color": "rgb(220,220,220)",
         "type": "value",
         "value": 0
        },
        {
         "color": "rgb(237,192,110)",
         "type": "value",
         "value": -1
        },
        {
         "color": "rgb(255,165,0)",
         "type": "value",
         "value": -2
        }
       ],
       "reaction_scale_preset": null,
       "reaction_styles": [
        "color",
        "text"
       ],
       "scroll_behavior": "none",
       "secondary_metabolite_radius": null,
       "semantic_zoom": null,
       "show_gene_reaction_rules": null,
       "starting_reaction": null,
       "use_3d_transform": null,
       "zoom_to_element": null
      }
     },
     "e2897e4ef87146798512aecbfd1538d7": {
      "model_module": "escher",
      "model_module_version": "1.7.4",
      "model_name": "EscherMapModel",
      "state": {
       "_loaded_map_json": "[{\"map_name\": \"\", \"map_id\": \"\", \"map_description\": \"\", \"homepage\": \"\", \"schema\": \"https://escher.github.io/escher/jsonschema/1-0-0#\"}, {\"reactions\": {\"0\": {\"name\": \"G6PDH2r\", \"bigg_id\": \"G6PDH2r\", \"reversibility\": true, \"label_x\": 265.0, \"label_y\": 325.0, \"gene_reaction_rule\": \"\", \"genes\": [], \"segments\": {\"0\": {\"from_node_id\": \"5\", \"to_node_id\": \"6\", \"b1\": null, \"b2\": null}, \"1\": {\"from_node_id\": \"7\", \"to_node_id\": \"6\", \"b1\": null, \"b2\": null}, \"2\": {\"from_node_id\": \"0\", \"to_node_id\": \"5\", \"b1\": null, \"b2\": null}, \"3\": {\"from_node_id\": \"1\", \"to_node_id\": \"5\", \"b1\": null, \"b2\": null}, \"4\": {\"from_node_id\": \"2\", \"to_node_id\": \"7\", \"b1\": null, \"b2\": null}, \"5\": {\"from_node_id\": \"3\", \"to_node_id\": \"7\", \"b1\": null, \"b2\": null}, \"6\": {\"from_node_id\": \"4\", \"to_node_id\": \"7\", \"b1\": null, \"b2\": null}}, \"metabolites\": [{\"bigg_id\": \"D_glucopyranose_6_phosphate_c\", \"coefficient\": -1.0}, {\"bigg_id\": \"NADP_c\", \"coefficient\": -1.0}, {\"bigg_id\": \"D_6_P_GLUCONO_DELTA_LACTONE_c\", \"coefficient\": 1.0}, {\"bigg_id\": \"NADPH_c\", \"coefficient\": 1.0}, {\"bigg_id\": \"PROTON_c\", \"coefficient\": 1.0}]}, \"1\": {\"name\": \"PGL\", \"bigg_id\": \"PGL\", \"reversibility\": true, \"label_x\": 265.0, \"label_y\": 975.0, \"gene_reaction_rule\": \"\", \"genes\": [], \"segments\": {\"7\": {\"from_node_id\": \"11\", \"to_node_id\": \"12\", \"b1\": null, \"b2\": null}, \"8\": {\"from_node_id\": \"13\", \"to_node_id\": \"12\", \"b1\": null, \"b2\": null}, \"9\": {\"from_node_id\": \"8\", \"to_node_id\": \"11\", \"b1\": null, \"b2\": null}, \"10\": {\"from_node_id\": \"2\", \"to_node_id\": \"11\", \"b1\": null, \"b2\": null}, \"11\": {\"from_node_id\": \"9\", \"to_node_id\": \"13\", \"b1\": null, \"b2\": null}, \"12\": {\"from_node_id\": \"10\", \"to_node_id\": \"13\", \"b1\": null, \"b2\": null}}, \"metabolites\": [{\"bigg_id\": \"CPD_15815_c\", \"coefficient\": -1.0}, {\"bigg_id\": \"D_6_P_GLUCONO_DELTA_LACTONE_c\", \"coefficient\": -1.0}, {\"bigg_id\": \"CPD_2961_c\", \"coefficient\": 1.0}, {\"bigg_id\": \"PROTON_c\", \"coefficient\": 1.0}]}, \"2\": {\"name\": \"GND\", \"bigg_id\": \"GND\", \"reversibility\": true, \"label_x\": 265.0, \"label_y\": 1625.0, \"gene_reaction_rule\": \"\", \"genes\": [], \"segments\": {\"13\": {\"from_node_id\": \"18\", \"to_node_id\": \"19\", \"b1\": null, \"b2\": null}, \"14\": {\"from_node_id\": \"20\", \"to_node_id\": \"19\", \"b1\": null, \"b2\": null}, \"15\": {\"from_node_id\": \"9\", \"to_node_id\": \"18\", \"b1\": null, \"b2\": null}, \"16\": {\"from_node_id\": \"14\", \"to_node_id\": \"18\", \"b1\": null, \"b2\": null}, \"17\": {\"from_node_id\": \"15\", \"to_node_id\": \"20\", \"b1\": null, \"b2\": null}, \"18\": {\"from_node_id\": \"16\", \"to_node_id\": \"20\", \"b1\": null, \"b2\": null}, \"19\": {\"from_node_id\": \"17\", \"to_node_id\": \"20\", \"b1\": null, \"b2\": null}}, \"metabolites\": [{\"bigg_id\": \"CPD_2961_c\", \"coefficient\": -1.0}, {\"bigg_id\": \"NADP_c\", \"coefficient\": -1.0}, {\"bigg_id\": \"CARBON_DIOXIDE_c\", \"coefficient\": 1.0}, {\"bigg_id\": \"NADPH_c\", \"coefficient\": 1.0}, {\"bigg_id\": \"RIBULOSE_5P_c\", \"coefficient\": 1.0}]}, \"3\": {\"name\": \"GLCpts\", \"bigg_id\": \"GLCpts\", \"reversibility\": true, \"label_x\": 265.0, \"label_y\": 2275.0, \"gene_reaction_rule\": \"\", \"genes\": [], \"segments\": {\"20\": {\"from_node_id\": \"25\", \"to_node_id\": \"26\", \"b1\": null, \"b2\": null}, \"21\": {\"from_node_id\": \"27\", \"to_node_id\": \"26\", \"b1\": null, \"b2\": null}, \"22\": {\"from_node_id\": \"21\", \"to_node_id\": \"25\", \"b1\": null, \"b2\": null}, \"23\": {\"from_node_id\": \"22\", \"to_node_id\": \"25\", \"b1\": null, \"b2\": null}, \"24\": {\"from_node_id\": \"23\", \"to_node_id\": \"27\", \"b1\": null, \"b2\": null}, \"25\": {\"from_node_id\": \"24\", \"to_node_id\": \"27\", \"b1\": null, \"b2\": null}}, \"metabolites\": [{\"bigg_id\": \"Glucopyranose_e\", \"coefficient\": -1.0}, {\"bigg_id\": \"PHOSPHO_ENOL_PYRUVATE_c\", \"coefficient\": -1.0}, {\"bigg_id\": \"D_glucopyranose_6_phosphate_c\", \"coefficient\": 1.0}, {\"bigg_id\": \"PYRUVATE_c\", \"coefficient\": 1.0}]}}, \"nodes\": {\"0\": {\"node_type\": \"metabolite\", \"x\": 150.0, \"y\": 30.0, \"label_x\": 160.0, \"label_y\": 20.0, \"bigg_id\": \"D_glucopyranose_6_phosphate_c\", \"name\": \"D_glucopyranose_6_phosphate_c\", \"node_is_primary\": false}, \"1\": {\"node_type\": \"metabolite\", \"x\": 300.0, \"y\": 30.0, \"label_x\": 310.0, \"label_y\": 20.0, \"bigg_id\": \"NADP_c\", \"name\": \"NADP_c\", \"node_is_primary\": false}, \"2\": {\"node_type\": \"metabolite\", \"x\": 112.5, \"y\": 550.0, \"label_x\": 122.5, \"label_y\": 580.0, \"bigg_id\": \"D_6_P_GLUCONO_DELTA_LACTONE_c\", \"name\": \"D_6_P_GLUCONO_DELTA_LACTONE_c\", \"node_is_primary\": false}, \"3\": {\"node_type\": \"metabolite\", \"x\": 225.0, \"y\": 550.0, \"label_x\": 235.0, \"label_y\": 580.0, \"bigg_id\": \"NADPH_c\", \"name\": \"NADPH_c\", \"node_is_primary\": false}, \"4\": {\"node_type\": \"metabolite\", \"x\": 337.5, \"y\": 550.0, \"label_x\": 347.5, \"label_y\": 580.0, \"bigg_id\": \"PROTON_c\", \"name\": \"PROTON_c\", \"node_is_primary\": false}, \"5\": {\"node_type\": \"multimarker\", \"x\": 225.0, \"y\": 305.0}, \"6\": {\"node_type\": \"midmarker\", \"x\": 225.0, \"y\": 325.0}, \"7\": {\"node_type\": \"multimarker\", \"x\": 225.0, \"y\": 345.0}, \"8\": {\"node_type\": \"metabolite\", \"x\": 150.0, \"y\": 680.0, \"label_x\": 160.0, \"label_y\": 670.0, \"bigg_id\": \"CPD_15815_c\", \"name\": \"CPD_15815_c\", \"node_is_primary\": false}, \"9\": {\"node_type\": \"metabolite\", \"x\": 150.0, \"y\": 1200.0, \"label_x\": 160.0, \"label_y\": 1230.0, \"bigg_id\": \"CPD_2961_c\", \"name\": \"CPD_2961_c\", \"node_is_primary\": false}, \"10\": {\"node_type\": \"metabolite\", \"x\": 300.0, \"y\": 1200.0, \"label_x\": 310.0, \"label_y\": 1230.0, \"bigg_id\": \"PROTON_c\", \"name\": \"PROTON_c\", \"node_is_primary\": false}, \"11\": {\"node_type\": \"multimarker\", \"x\": 225.0, \"y\": 955.0}, \"12\": {\"node_type\": \"midmarker\", \"x\": 225.0, \"y\": 975.0}, \"13\": {\"node_type\": \"multimarker\", \"x\": 225.0, \"y\": 995.0}, \"14\": {\"node_type\": \"metabolite\", \"x\": 300.0, \"y\": 1330.0, \"label_x\": 310.0, \"label_y\": 1320.0, \"bigg_id\": \"NADP_c\", \"name\": \"NADP_c\", \"node_is_primary\": false}, \"15\": {\"node_type\": \"metabolite\", \"x\": 112.5, \"y\": 1850.0, \"label_x\": 122.5, \"label_y\": 1880.0, \"bigg_id\": \"CARBON_DIOXIDE_c\", \"name\": \"CARBON_DIOXIDE_c\", \"node_is_primary\": false}, \"16\": {\"node_type\": \"metabolite\", \"x\": 225.0, \"y\": 1850.0, \"label_x\": 235.0, \"label_y\": 1880.0, \"bigg_id\": \"NADPH_c\", \"name\": \"NADPH_c\", \"node_is_primary\": false}, \"17\": {\"node_type\": \"metabolite\", \"x\": 337.5, \"y\": 1850.0, \"label_x\": 347.5, \"label_y\": 1880.0, \"bigg_id\": \"RIBULOSE_5P_c\", \"name\": \"RIBULOSE_5P_c\", \"node_is_primary\": false}, \"18\": {\"node_type\": \"multimarker\", \"x\": 225.0, \"y\": 1605.0}, \"19\": {\"node_type\": \"midmarker\", \"x\": 225.0, \"y\": 1625.0}, \"20\": {\"node_type\": \"multimarker\", \"x\": 225.0, \"y\": 1645.0}, \"21\": {\"node_type\": \"metabolite\", \"x\": 150.0, \"y\": 1980.0, \"label_x\": 160.0, \"label_y\": 1970.0, \"bigg_id\": \"Glucopyranose_e\", \"name\": \"Glucopyranose_e\", \"node_is_primary\": false}, \"22\": {\"node_type\": \"metabolite\", \"x\": 300.0, \"y\": 1980.0, \"label_x\": 310.0, \"label_y\": 1970.0, \"bigg_id\": \"PHOSPHO_ENOL_PYRUVATE_c\", \"name\": \"PHOSPHO_ENOL_PYRUVATE_c\", \"node_is_primary\": false}, \"23\": {\"node_type\": \"metabolite\", \"x\": 150.0, \"y\": 2500.0, \"label_x\": 160.0, \"label_y\": 2530.0, \"bigg_id\": \"D_glucopyranose_6_phosphate_c\", \"name\": \"D_glucopyranose_6_phosphate_c\", \"node_is_primary\": false}, \"24\": {\"node_type\": \"metabolite\", \"x\": 300.0, \"y\": 2500.0, \"label_x\": 310.0, \"label_y\": 2530.0, \"bigg_id\": \"PYRUVATE_c\", \"name\": \"PYRUVATE_c\", \"node_is_primary\": false}, \"25\": {\"node_type\": \"multimarker\", \"x\": 225.0, \"y\": 2255.0}, \"26\": {\"node_type\": \"midmarker\", \"x\": 225.0, \"y\": 2275.0}, \"27\": {\"node_type\": \"multimarker\", \"x\": 225.0, \"y\": 2295.0}}, \"text_labels\": {}, \"canvas\": {\"x\": 0, \"y\": 0, \"width\": 450, \"height\": 2600}}]",
       "_loaded_model_json": null,
       "allow_building_duplicate_reactions": null,
       "and_method_in_gene_reaction_rule": null,
       "canvas_size_and_loc": null,
       "cofactors": null,
       "disabled_buttons": null,
       "embedded_css": null,
       "enable_editing": null,
       "enable_keys": false,
       "enable_keys_with_tooltip": null,
       "enable_search": null,
       "enable_tooltips": false,
       "full_screen_button": {
        "enable_editing": true,
        "enable_keys": true,
        "enable_tooltips": [
         "label"
        ],
        "menu": "all",
        "scroll_behavior": "pan"
       },
       "gene_data": null,
       "gene_font_size": null,
       "height": 500,
       "hide_all_labels": null,
       "hide_secondary_metabolites": null,
       "highlight_missing": null,
       "identifiers_on_map": null,
       "layout": "IPY_MODEL_e5e6e7a6de384222b67ca86ea9105bba",
       "marker_radius": null,
       "menu": null,
       "metabolite_compare_style": null,
       "metabolite_data": null,
       "metabolite_no_data_color": null,
       "metabolite_no_data_size": null,
       "metabolite_scale": null,
       "metabolite_scale_preset": null,
       "metabolite_styles": null,
       "never_ask_before_quit": true,
       "primary_metabolite_radius": null,
       "reaction_compare_style": null,
       "reaction_data": {
        "G6PDH2r": -2,
        "GLCpts": -2,
        "GND": 1,
        "Other": 1000,
        "PGL": 0.4
       },
       "reaction_no_data_color": null,
       "reaction_no_data_size": null,
       "reaction_scale": [
        {
         "color": "rgb(191,215,230)",
         "type": "value",
         "value": 0.4
        },
        {
         "color": "rgb(163,210,240)",
         "type": "value",
         "value": 1
        },
        {
         "color": "rgb(135,205,250)",
         "type": "value",
         "value": 1000
        },
        {
         "color": "rgb(220,220,220)",
         "type": "value",
         "value": 0
        },
        {
         "color": "rgb(237,192,110)",
         "type": "value",
         "value": -2
        },
        {
         "color": "rgb(255,165,0)",
         "type": "value",
         "value": -2
        }
       ],
       "reaction_scale_preset": null,
       "reaction_styles": [
        "color",
        "text"
       ],
       "scroll_behavior": "none",
       "secondary_metabolite_radius": null,
       "semantic_zoom": null,
       "show_gene_reaction_rules": null,
       "starting_reaction": null,
       "use_3d_transform": null,
       "zoom_to_element": null
      }
     },
     "e57dfaa7eb364f6c86e294e1c07bcebc": {
      "model_module": "@jupyter-widgets/base",
      "model_module_version": "1.2.0",
      "model_name": "LayoutModel",
      "state": {}
     },
     "e5e6e7a6de384222b67ca86ea9105bba": {
      "model_module": "@jupyter-widgets/base",
      "model_module_version": "1.2.0",
      "model_name": "LayoutModel",
      "state": {}
     },
     "e836e48baf764f82b456c5dfdbc91c9a": {
      "model_module": "escher",
      "model_module_version": "1.7.4",
      "model_name": "EscherMapModel",
      "state": {
       "_loaded_map_json": "[{\"map_name\": \"\", \"map_id\": \"\", \"map_description\": \"\", \"homepage\": \"\", \"schema\": \"https://escher.github.io/escher/jsonschema/1-0-0#\"}, {\"reactions\": {\"0\": {\"name\": \"GLCpts\", \"bigg_id\": \"GLCpts\", \"reversibility\": true, \"label_x\": 265.0, \"label_y\": 325.0, \"gene_reaction_rule\": \"\", \"genes\": [], \"segments\": {\"0\": {\"from_node_id\": \"4\", \"to_node_id\": \"5\", \"b1\": null, \"b2\": null}, \"1\": {\"from_node_id\": \"6\", \"to_node_id\": \"5\", \"b1\": null, \"b2\": null}, \"2\": {\"from_node_id\": \"0\", \"to_node_id\": \"4\", \"b1\": null, \"b2\": null}, \"3\": {\"from_node_id\": \"1\", \"to_node_id\": \"4\", \"b1\": null, \"b2\": null}, \"4\": {\"from_node_id\": \"2\", \"to_node_id\": \"6\", \"b1\": null, \"b2\": null}, \"5\": {\"from_node_id\": \"3\", \"to_node_id\": \"6\", \"b1\": null, \"b2\": null}}, \"metabolites\": [{\"bigg_id\": \"Glucopyranose_e\", \"coefficient\": -1.0}, {\"bigg_id\": \"PHOSPHO_ENOL_PYRUVATE_c\", \"coefficient\": -1.0}, {\"bigg_id\": \"D_glucopyranose_6_phosphate_c\", \"coefficient\": 1.0}, {\"bigg_id\": \"PYRUVATE_c\", \"coefficient\": 1.0}]}, \"1\": {\"name\": \"G6PDH2r\", \"bigg_id\": \"G6PDH2r\", \"reversibility\": true, \"label_x\": 265.0, \"label_y\": 975.0, \"gene_reaction_rule\": \"\", \"genes\": [], \"segments\": {\"6\": {\"from_node_id\": \"11\", \"to_node_id\": \"12\", \"b1\": null, \"b2\": null}, \"7\": {\"from_node_id\": \"13\", \"to_node_id\": \"12\", \"b1\": null, \"b2\": null}, \"8\": {\"from_node_id\": \"2\", \"to_node_id\": \"11\", \"b1\": null, \"b2\": null}, \"9\": {\"from_node_id\": \"7\", \"to_node_id\": \"11\", \"b1\": null, \"b2\": null}, \"10\": {\"from_node_id\": \"8\", \"to_node_id\": \"13\", \"b1\": null, \"b2\": null}, \"11\": {\"from_node_id\": \"9\", \"to_node_id\": \"13\", \"b1\": null, \"b2\": null}, \"12\": {\"from_node_id\": \"10\", \"to_node_id\": \"13\", \"b1\": null, \"b2\": null}}, \"metabolites\": [{\"bigg_id\": \"D_glucopyranose_6_phosphate_c\", \"coefficient\": -1.0}, {\"bigg_id\": \"NADP_c\", \"coefficient\": -1.0}, {\"bigg_id\": \"D_6_P_GLUCONO_DELTA_LACTONE_c\", \"coefficient\": 1.0}, {\"bigg_id\": \"NADPH_c\", \"coefficient\": 1.0}, {\"bigg_id\": \"PROTON_c\", \"coefficient\": 1.0}]}, \"2\": {\"name\": \"PGL\", \"bigg_id\": \"PGL\", \"reversibility\": true, \"label_x\": 265.0, \"label_y\": 1625.0, \"gene_reaction_rule\": \"\", \"genes\": [], \"segments\": {\"13\": {\"from_node_id\": \"17\", \"to_node_id\": \"18\", \"b1\": null, \"b2\": null}, \"14\": {\"from_node_id\": \"19\", \"to_node_id\": \"18\", \"b1\": null, \"b2\": null}, \"15\": {\"from_node_id\": \"14\", \"to_node_id\": \"17\", \"b1\": null, \"b2\": null}, \"16\": {\"from_node_id\": \"8\", \"to_node_id\": \"17\", \"b1\": null, \"b2\": null}, \"17\": {\"from_node_id\": \"15\", \"to_node_id\": \"19\", \"b1\": null, \"b2\": null}, \"18\": {\"from_node_id\": \"16\", \"to_node_id\": \"19\", \"b1\": null, \"b2\": null}}, \"metabolites\": [{\"bigg_id\": \"CPD_15815_c\", \"coefficient\": -1.0}, {\"bigg_id\": \"D_6_P_GLUCONO_DELTA_LACTONE_c\", \"coefficient\": -1.0}, {\"bigg_id\": \"CPD_2961_c\", \"coefficient\": 1.0}, {\"bigg_id\": \"PROTON_c\", \"coefficient\": 1.0}]}, \"3\": {\"name\": \"GND\", \"bigg_id\": \"GND\", \"reversibility\": true, \"label_x\": 265.0, \"label_y\": 2275.0, \"gene_reaction_rule\": \"\", \"genes\": [], \"segments\": {\"19\": {\"from_node_id\": \"24\", \"to_node_id\": \"25\", \"b1\": null, \"b2\": null}, \"20\": {\"from_node_id\": \"26\", \"to_node_id\": \"25\", \"b1\": null, \"b2\": null}, \"21\": {\"from_node_id\": \"15\", \"to_node_id\": \"24\", \"b1\": null, \"b2\": null}, \"22\": {\"from_node_id\": \"20\", \"to_node_id\": \"24\", \"b1\": null, \"b2\": null}, \"23\": {\"from_node_id\": \"21\", \"to_node_id\": \"26\", \"b1\": null, \"b2\": null}, \"24\": {\"from_node_id\": \"22\", \"to_node_id\": \"26\", \"b1\": null, \"b2\": null}, \"25\": {\"from_node_id\": \"23\", \"to_node_id\": \"26\", \"b1\": null, \"b2\": null}}, \"metabolites\": [{\"bigg_id\": \"CPD_2961_c\", \"coefficient\": -1.0}, {\"bigg_id\": \"NADP_c\", \"coefficient\": -1.0}, {\"bigg_id\": \"CARBON_DIOXIDE_c\", \"coefficient\": 1.0}, {\"bigg_id\": \"NADPH_c\", \"coefficient\": 1.0}, {\"bigg_id\": \"RIBULOSE_5P_c\", \"coefficient\": 1.0}]}}, \"nodes\": {\"0\": {\"node_type\": \"metabolite\", \"x\": 150.0, \"y\": 30.0, \"label_x\": 160.0, \"label_y\": 20.0, \"bigg_id\": \"Glucopyranose_e\", \"name\": \"Glucopyranose_e\", \"node_is_primary\": false}, \"1\": {\"node_type\": \"metabolite\", \"x\": 300.0, \"y\": 30.0, \"label_x\": 310.0, \"label_y\": 20.0, \"bigg_id\": \"PHOSPHO_ENOL_PYRUVATE_c\", \"name\": \"PHOSPHO_ENOL_PYRUVATE_c\", \"node_is_primary\": false}, \"2\": {\"node_type\": \"metabolite\", \"x\": 150.0, \"y\": 550.0, \"label_x\": 160.0, \"label_y\": 580.0, \"bigg_id\": \"D_glucopyranose_6_phosphate_c\", \"name\": \"D_glucopyranose_6_phosphate_c\", \"node_is_primary\": false}, \"3\": {\"node_type\": \"metabolite\", \"x\": 300.0, \"y\": 550.0, \"label_x\": 310.0, \"label_y\": 580.0, \"bigg_id\": \"PYRUVATE_c\", \"name\": \"PYRUVATE_c\", \"node_is_primary\": false}, \"4\": {\"node_type\": \"multimarker\", \"x\": 225.0, \"y\": 305.0}, \"5\": {\"node_type\": \"midmarker\", \"x\": 225.0, \"y\": 325.0}, \"6\": {\"node_type\": \"multimarker\", \"x\": 225.0, \"y\": 345.0}, \"7\": {\"node_type\": \"metabolite\", \"x\": 300.0, \"y\": 680.0, \"label_x\": 310.0, \"label_y\": 670.0, \"bigg_id\": \"NADP_c\", \"name\": \"NADP_c\", \"node_is_primary\": false}, \"8\": {\"node_type\": \"metabolite\", \"x\": 112.5, \"y\": 1200.0, \"label_x\": 122.5, \"label_y\": 1230.0, \"bigg_id\": \"D_6_P_GLUCONO_DELTA_LACTONE_c\", \"name\": \"D_6_P_GLUCONO_DELTA_LACTONE_c\", \"node_is_primary\": false}, \"9\": {\"node_type\": \"metabolite\", \"x\": 225.0, \"y\": 1200.0, \"label_x\": 235.0, \"label_y\": 1230.0, \"bigg_id\": \"NADPH_c\", \"name\": \"NADPH_c\", \"node_is_primary\": false}, \"10\": {\"node_type\": \"metabolite\", \"x\": 337.5, \"y\": 1200.0, \"label_x\": 347.5, \"label_y\": 1230.0, \"bigg_id\": \"PROTON_c\", \"name\": \"PROTON_c\", \"node_is_primary\": false}, \"11\": {\"node_type\": \"multimarker\", \"x\": 225.0, \"y\": 955.0}, \"12\": {\"node_type\": \"midmarker\", \"x\": 225.0, \"y\": 975.0}, \"13\": {\"node_type\": \"multimarker\", \"x\": 225.0, \"y\": 995.0}, \"14\": {\"node_type\": \"metabolite\", \"x\": 150.0, \"y\": 1330.0, \"label_x\": 160.0, \"label_y\": 1320.0, \"bigg_id\": \"CPD_15815_c\", \"name\": \"CPD_15815_c\", \"node_is_primary\": false}, \"15\": {\"node_type\": \"metabolite\", \"x\": 150.0, \"y\": 1850.0, \"label_x\": 160.0, \"label_y\": 1880.0, \"bigg_id\": \"CPD_2961_c\", \"name\": \"CPD_2961_c\", \"node_is_primary\": false}, \"16\": {\"node_type\": \"metabolite\", \"x\": 300.0, \"y\": 1850.0, \"label_x\": 310.0, \"label_y\": 1880.0, \"bigg_id\": \"PROTON_c\", \"name\": \"PROTON_c\", \"node_is_primary\": false}, \"17\": {\"node_type\": \"multimarker\", \"x\": 225.0, \"y\": 1605.0}, \"18\": {\"node_type\": \"midmarker\", \"x\": 225.0, \"y\": 1625.0}, \"19\": {\"node_type\": \"multimarker\", \"x\": 225.0, \"y\": 1645.0}, \"20\": {\"node_type\": \"metabolite\", \"x\": 300.0, \"y\": 1980.0, \"label_x\": 310.0, \"label_y\": 1970.0, \"bigg_id\": \"NADP_c\", \"name\": \"NADP_c\", \"node_is_primary\": false}, \"21\": {\"node_type\": \"metabolite\", \"x\": 112.5, \"y\": 2500.0, \"label_x\": 122.5, \"label_y\": 2530.0, \"bigg_id\": \"CARBON_DIOXIDE_c\", \"name\": \"CARBON_DIOXIDE_c\", \"node_is_primary\": false}, \"22\": {\"node_type\": \"metabolite\", \"x\": 225.0, \"y\": 2500.0, \"label_x\": 235.0, \"label_y\": 2530.0, \"bigg_id\": \"NADPH_c\", \"name\": \"NADPH_c\", \"node_is_primary\": false}, \"23\": {\"node_type\": \"metabolite\", \"x\": 337.5, \"y\": 2500.0, \"label_x\": 347.5, \"label_y\": 2530.0, \"bigg_id\": \"RIBULOSE_5P_c\", \"name\": \"RIBULOSE_5P_c\", \"node_is_primary\": false}, \"24\": {\"node_type\": \"multimarker\", \"x\": 225.0, \"y\": 2255.0}, \"25\": {\"node_type\": \"midmarker\", \"x\": 225.0, \"y\": 2275.0}, \"26\": {\"node_type\": \"multimarker\", \"x\": 225.0, \"y\": 2295.0}}, \"text_labels\": {}, \"canvas\": {\"x\": 0, \"y\": 0, \"width\": 450, \"height\": 2600}}]",
       "_loaded_model_json": null,
       "allow_building_duplicate_reactions": false,
       "and_method_in_gene_reaction_rule": "mean",
       "canvas_size_and_loc": null,
       "cofactors": [
        "atp",
        "adp",
        "nad",
        "nadh",
        "nadp",
        "nadph",
        "gtp",
        "gdp",
        "h",
        "coa",
        "ump",
        "h2o",
        "ppi"
       ],
       "disabled_buttons": [
        "Clear gene data",
        "Clear metabolite data"
       ],
       "embedded_css": null,
       "enable_editing": true,
       "enable_keys": false,
       "enable_keys_with_tooltip": true,
       "enable_search": true,
       "enable_tooltips": false,
       "full_screen_button": {
        "enable_editing": true,
        "enable_keys": true,
        "enable_tooltips": [
         "label"
        ],
        "menu": "all",
        "scroll_behavior": "pan"
       },
       "gene_data": null,
       "gene_font_size": 18,
       "height": 500,
       "hide_all_labels": false,
       "hide_secondary_metabolites": false,
       "highlight_missing": false,
       "identifiers_on_map": "bigg_id",
       "layout": "IPY_MODEL_ac06b68ebc9043f29e0c53b70151cfde",
       "marker_radius": 5,
       "menu": "all",
       "metabolite_compare_style": "log2_fold",
       "metabolite_data": null,
       "metabolite_no_data_color": "#ffffff",
       "metabolite_no_data_size": 10,
       "metabolite_scale": [
        {
         "color": "#fffaf0",
         "size": 20,
         "type": "min"
        },
        {
         "color": "#f1c470",
         "size": 30,
         "type": "median"
        },
        {
         "color": "#800000",
         "size": 40,
         "type": "max"
        }
       ],
       "metabolite_scale_preset": "WhYlRd",
       "metabolite_styles": [
        "color",
        "size",
        "text"
       ],
       "never_ask_before_quit": true,
       "primary_metabolite_radius": 20,
       "reaction_compare_style": "log2_fold",
       "reaction_data": {
        "G6PDH2r": -2,
        "GLCpts": -2,
        "GND": 1,
        "Other": 1000,
        "PGL": 0.4
       },
       "reaction_no_data_color": "#dcdcdc",
       "reaction_no_data_size": 8,
       "reaction_scale": [
        {
         "color": "rgb(191,215,230)",
         "type": "value",
         "value": 333.3333333333333
        },
        {
         "color": "rgb(163,210,240)",
         "type": "value",
         "value": 666.6666666666667
        },
        {
         "color": "rgb(135,205,250)",
         "type": "value",
         "value": 1000
        },
        {
         "color": "rgb(220,220,220)",
         "type": "value",
         "value": 0
        },
        {
         "color": "rgb(237,192,110)",
         "type": "value",
         "value": -1
        },
        {
         "color": "rgb(255,165,0)",
         "type": "value",
         "value": -2
        }
       ],
       "reaction_scale_preset": null,
       "reaction_styles": [
        "color",
        "text"
       ],
       "scroll_behavior": "none",
       "secondary_metabolite_radius": 10,
       "semantic_zoom": null,
       "show_gene_reaction_rules": false,
       "starting_reaction": null,
       "use_3d_transform": false,
       "zoom_to_element": null
      }
     },
     "e92121dab7ab4bdc887e1e645fbd65b1": {
      "model_module": "@jupyter-widgets/base",
      "model_module_version": "1.2.0",
      "model_name": "LayoutModel",
      "state": {}
     },
     "ed4f4f55a2c54d2d99054016b911305b": {
      "model_module": "escher",
      "model_module_version": "1.7.4",
      "model_name": "EscherMapModel",
      "state": {
       "_loaded_map_json": "[{\"map_name\": \"\", \"map_id\": \"\", \"map_description\": \"\", \"homepage\": \"\", \"schema\": \"https://escher.github.io/escher/jsonschema/1-0-0#\"}, {\"reactions\": {\"0\": {\"name\": \"G6PDH2r\", \"bigg_id\": \"G6PDH2r\", \"reversibility\": true, \"label_x\": 262.0, \"label_y\": 45.0, \"gene_reaction_rule\": \"\", \"genes\": [], \"segments\": {\"0\": {\"from_node_id\": \"5\", \"to_node_id\": \"6\", \"b1\": null, \"b2\": null}, \"1\": {\"from_node_id\": \"7\", \"to_node_id\": \"6\", \"b1\": null, \"b2\": null}, \"2\": {\"from_node_id\": \"0\", \"to_node_id\": \"5\", \"b1\": null, \"b2\": null}, \"3\": {\"from_node_id\": \"1\", \"to_node_id\": \"5\", \"b1\": null, \"b2\": null}, \"4\": {\"from_node_id\": \"2\", \"to_node_id\": \"7\", \"b1\": null, \"b2\": null}, \"5\": {\"from_node_id\": \"3\", \"to_node_id\": \"7\", \"b1\": null, \"b2\": null}, \"6\": {\"from_node_id\": \"4\", \"to_node_id\": \"7\", \"b1\": null, \"b2\": null}}, \"metabolites\": [{\"bigg_id\": \"D_glucopyranose_6_phosphate_c\", \"coefficient\": -1.0}, {\"bigg_id\": \"NADP_c\", \"coefficient\": -1.0}, {\"bigg_id\": \"D_6_P_GLUCONO_DELTA_LACTONE_c\", \"coefficient\": 1.0}, {\"bigg_id\": \"NADPH_c\", \"coefficient\": 1.0}, {\"bigg_id\": \"PROTON_c\", \"coefficient\": 1.0}]}, \"1\": {\"name\": \"PGL\", \"bigg_id\": \"PGL\", \"reversibility\": true, \"label_x\": 948.0, \"label_y\": 45.0, \"gene_reaction_rule\": \"\", \"genes\": [], \"segments\": {\"7\": {\"from_node_id\": \"11\", \"to_node_id\": \"12\", \"b1\": null, \"b2\": null}, \"8\": {\"from_node_id\": \"13\", \"to_node_id\": \"12\", \"b1\": null, \"b2\": null}, \"9\": {\"from_node_id\": \"8\", \"to_node_id\": \"11\", \"b1\": null, \"b2\": null}, \"10\": {\"from_node_id\": \"2\", \"to_node_id\": \"11\", \"b1\": null, \"b2\": null}, \"11\": {\"from_node_id\": \"9\", \"to_node_id\": \"13\", \"b1\": null, \"b2\": null}, \"12\": {\"from_node_id\": \"10\", \"to_node_id\": \"13\", \"b1\": null, \"b2\": null}}, \"metabolites\": [{\"bigg_id\": \"CPD_15815_c\", \"coefficient\": -1.0}, {\"bigg_id\": \"D_6_P_GLUCONO_DELTA_LACTONE_c\", \"coefficient\": -1.0}, {\"bigg_id\": \"CPD_2961_c\", \"coefficient\": 1.0}, {\"bigg_id\": \"PROTON_c\", \"coefficient\": 1.0}]}, \"2\": {\"name\": \"GND\", \"bigg_id\": \"GND\", \"reversibility\": true, \"label_x\": 1598.0, \"label_y\": 45.0, \"gene_reaction_rule\": \"\", \"genes\": [], \"segments\": {\"13\": {\"from_node_id\": \"18\", \"to_node_id\": \"19\", \"b1\": null, \"b2\": null}, \"14\": {\"from_node_id\": \"20\", \"to_node_id\": \"19\", \"b1\": null, \"b2\": null}, \"15\": {\"from_node_id\": \"9\", \"to_node_id\": \"18\", \"b1\": null, \"b2\": null}, \"16\": {\"from_node_id\": \"14\", \"to_node_id\": \"18\", \"b1\": null, \"b2\": null}, \"17\": {\"from_node_id\": \"15\", \"to_node_id\": \"20\", \"b1\": null, \"b2\": null}, \"18\": {\"from_node_id\": \"16\", \"to_node_id\": \"20\", \"b1\": null, \"b2\": null}, \"19\": {\"from_node_id\": \"17\", \"to_node_id\": \"20\", \"b1\": null, \"b2\": null}}, \"metabolites\": [{\"bigg_id\": \"CPD_2961_c\", \"coefficient\": -1.0}, {\"bigg_id\": \"NADP_c\", \"coefficient\": -1.0}, {\"bigg_id\": \"CARBON_DIOXIDE_c\", \"coefficient\": 1.0}, {\"bigg_id\": \"NADPH_c\", \"coefficient\": 1.0}, {\"bigg_id\": \"RIBULOSE_5P_c\", \"coefficient\": 1.0}]}, \"3\": {\"name\": \"GLCpts\", \"bigg_id\": \"GLCpts\", \"reversibility\": true, \"label_x\": 2221.0, \"label_y\": 45.0, \"gene_reaction_rule\": \"\", \"genes\": [], \"segments\": {\"20\": {\"from_node_id\": \"25\", \"to_node_id\": \"26\", \"b1\": null, \"b2\": null}, \"21\": {\"from_node_id\": \"27\", \"to_node_id\": \"26\", \"b1\": null, \"b2\": null}, \"22\": {\"from_node_id\": \"21\", \"to_node_id\": \"25\", \"b1\": null, \"b2\": null}, \"23\": {\"from_node_id\": \"22\", \"to_node_id\": \"25\", \"b1\": null, \"b2\": null}, \"24\": {\"from_node_id\": \"23\", \"to_node_id\": \"27\", \"b1\": null, \"b2\": null}, \"25\": {\"from_node_id\": \"24\", \"to_node_id\": \"27\", \"b1\": null, \"b2\": null}}, \"metabolites\": [{\"bigg_id\": \"Glucopyranose_e\", \"coefficient\": -1.0}, {\"bigg_id\": \"PHOSPHO_ENOL_PYRUVATE_c\", \"coefficient\": -1.0}, {\"bigg_id\": \"D_glucopyranose_6_phosphate_c\", \"coefficient\": 1.0}, {\"bigg_id\": \"PYRUVATE_c\", \"coefficient\": 1.0}]}}, \"nodes\": {\"0\": {\"node_type\": \"metabolite\", \"x\": 30.0, \"y\": 150.0, \"label_x\": 0.0, \"label_y\": 130.0, \"bigg_id\": \"D_glucopyranose_6_phosphate_c\", \"name\": \"D_glucopyranose_6_phosphate_c\", \"node_is_primary\": false}, \"1\": {\"node_type\": \"metabolite\", \"x\": 30.0, \"y\": 300.0, \"label_x\": 0.0, \"label_y\": 280.0, \"bigg_id\": \"NADP_c\", \"name\": \"NADP_c\", \"node_is_primary\": false}, \"2\": {\"node_type\": \"metabolite\", \"x\": 550.0, \"y\": 112.5, \"label_x\": 520.0, \"label_y\": 92.5, \"bigg_id\": \"D_6_P_GLUCONO_DELTA_LACTONE_c\", \"name\": \"D_6_P_GLUCONO_DELTA_LACTONE_c\", \"node_is_primary\": false}, \"3\": {\"node_type\": \"metabolite\", \"x\": 550.0, \"y\": 225.0, \"label_x\": 520.0, \"label_y\": 205.0, \"bigg_id\": \"NADPH_c\", \"name\": \"NADPH_c\", \"node_is_primary\": false}, \"4\": {\"node_type\": \"metabolite\", \"x\": 550.0, \"y\": 337.5, \"label_x\": 520.0, \"label_y\": 317.5, \"bigg_id\": \"PROTON_c\", \"name\": \"PROTON_c\", \"node_is_primary\": false}, \"5\": {\"node_type\": \"multimarker\", \"x\": 335.0, \"y\": 225.0}, \"6\": {\"node_type\": \"midmarker\", \"x\": 355.0, \"y\": 225.0}, \"7\": {\"node_type\": \"multimarker\", \"x\": 375.0, \"y\": 225.0}, \"8\": {\"node_type\": \"metabolite\", \"x\": 680.0, \"y\": 150.0, \"label_x\": 650.0, \"label_y\": 130.0, \"bigg_id\": \"CPD_15815_c\", \"name\": \"CPD_15815_c\", \"node_is_primary\": false}, \"9\": {\"node_type\": \"metabolite\", \"x\": 1200.0, \"y\": 150.0, \"label_x\": 1170.0, \"label_y\": 130.0, \"bigg_id\": \"CPD_2961_c\", \"name\": \"CPD_2961_c\", \"node_is_primary\": false}, \"10\": {\"node_type\": \"metabolite\", \"x\": 1200.0, \"y\": 300.0, \"label_x\": 1170.0, \"label_y\": 280.0, \"bigg_id\": \"PROTON_c\", \"name\": \"PROTON_c\", \"node_is_primary\": false}, \"11\": {\"node_type\": \"multimarker\", \"x\": 985.0, \"y\": 225.0}, \"12\": {\"node_type\": \"midmarker\", \"x\": 1005.0, \"y\": 225.0}, \"13\": {\"node_type\": \"multimarker\", \"x\": 1025.0, \"y\": 225.0}, \"14\": {\"node_type\": \"metabolite\", \"x\": 1330.0, \"y\": 300.0, \"label_x\": 1300.0, \"label_y\": 280.0, \"bigg_id\": \"NADP_c\", \"name\": \"NADP_c\", \"node_is_primary\": false}, \"15\": {\"node_type\": \"metabolite\", \"x\": 1850.0, \"y\": 112.5, \"label_x\": 1820.0, \"label_y\": 92.5, \"bigg_id\": \"CARBON_DIOXIDE_c\", \"name\": \"CARBON_DIOXIDE_c\", \"node_is_primary\": false}, \"16\": {\"node_type\": \"metabolite\", \"x\": 1850.0, \"y\": 225.0, \"label_x\": 1820.0, \"label_y\": 205.0, \"bigg_id\": \"NADPH_c\", \"name\": \"NADPH_c\", \"node_is_primary\": false}, \"17\": {\"node_type\": \"metabolite\", \"x\": 1850.0, \"y\": 337.5, \"label_x\": 1820.0, \"label_y\": 317.5, \"bigg_id\": \"RIBULOSE_5P_c\", \"name\": \"RIBULOSE_5P_c\", \"node_is_primary\": false}, \"18\": {\"node_type\": \"multimarker\", \"x\": 1635.0, \"y\": 225.0}, \"19\": {\"node_type\": \"midmarker\", \"x\": 1655.0, \"y\": 225.0}, \"20\": {\"node_type\": \"multimarker\", \"x\": 1675.0, \"y\": 225.0}, \"21\": {\"node_type\": \"metabolite\", \"x\": 1980.0, \"y\": 150.0, \"label_x\": 1950.0, \"label_y\": 130.0, \"bigg_id\": \"Glucopyranose_e\", \"name\": \"Glucopyranose_e\", \"node_is_primary\": false}, \"22\": {\"node_type\": \"metabolite\", \"x\": 1980.0, \"y\": 300.0, \"label_x\": 1950.0, \"label_y\": 280.0, \"bigg_id\": \"PHOSPHO_ENOL_PYRUVATE_c\", \"name\": \"PHOSPHO_ENOL_PYRUVATE_c\", \"node_is_primary\": false}, \"23\": {\"node_type\": \"metabolite\", \"x\": 2500.0, \"y\": 150.0, \"label_x\": 2470.0, \"label_y\": 130.0, \"bigg_id\": \"D_glucopyranose_6_phosphate_c\", \"name\": \"D_glucopyranose_6_phosphate_c\", \"node_is_primary\": false}, \"24\": {\"node_type\": \"metabolite\", \"x\": 2500.0, \"y\": 300.0, \"label_x\": 2470.0, \"label_y\": 280.0, \"bigg_id\": \"PYRUVATE_c\", \"name\": \"PYRUVATE_c\", \"node_is_primary\": false}, \"25\": {\"node_type\": \"multimarker\", \"x\": 2285.0, \"y\": 225.0}, \"26\": {\"node_type\": \"midmarker\", \"x\": 2305.0, \"y\": 225.0}, \"27\": {\"node_type\": \"multimarker\", \"x\": 2325.0, \"y\": 225.0}}, \"text_labels\": {}, \"canvas\": {\"x\": 0, \"y\": 0, \"width\": 2600, \"height\": 450}}]",
       "_loaded_model_json": null,
       "allow_building_duplicate_reactions": null,
       "and_method_in_gene_reaction_rule": null,
       "canvas_size_and_loc": null,
       "cofactors": null,
       "disabled_buttons": null,
       "embedded_css": null,
       "enable_editing": null,
       "enable_keys": false,
       "enable_keys_with_tooltip": null,
       "enable_search": null,
       "enable_tooltips": false,
       "full_screen_button": {
        "enable_editing": true,
        "enable_keys": true,
        "enable_tooltips": [
         "label"
        ],
        "menu": "all",
        "scroll_behavior": "pan"
       },
       "gene_data": null,
       "gene_font_size": null,
       "height": 500,
       "hide_all_labels": null,
       "hide_secondary_metabolites": null,
       "highlight_missing": null,
       "identifiers_on_map": null,
       "layout": "IPY_MODEL_02fa50f1337e411dabffe5733c826dd0",
       "marker_radius": null,
       "menu": null,
       "metabolite_compare_style": null,
       "metabolite_data": null,
       "metabolite_no_data_color": null,
       "metabolite_no_data_size": null,
       "metabolite_scale": null,
       "metabolite_scale_preset": null,
       "metabolite_styles": null,
       "never_ask_before_quit": true,
       "primary_metabolite_radius": null,
       "reaction_compare_style": null,
       "reaction_data": null,
       "reaction_no_data_color": null,
       "reaction_no_data_size": null,
       "reaction_scale": {},
       "reaction_scale_preset": null,
       "reaction_styles": [
        "color",
        "text"
       ],
       "scroll_behavior": "none",
       "secondary_metabolite_radius": null,
       "semantic_zoom": null,
       "show_gene_reaction_rules": null,
       "starting_reaction": null,
       "use_3d_transform": null,
       "zoom_to_element": null
      }
     },
     "f0f97b6b4ae54782b6c3f6b6534c9cf5": {
      "model_module": "@jupyter-widgets/base",
      "model_module_version": "1.2.0",
      "model_name": "LayoutModel",
      "state": {}
     },
     "f62b6a71704e4aa88ce79f07f480366d": {
      "model_module": "escher",
      "model_module_version": "1.7.4",
      "model_name": "EscherMapModel",
      "state": {
       "_loaded_map_json": "[{\"map_name\": \"\", \"map_id\": \"\", \"map_description\": \"\", \"homepage\": \"\", \"schema\": \"https://escher.github.io/escher/jsonschema/1-0-0#\"}, {\"reactions\": {\"0\": {\"name\": \"GLCpts\", \"bigg_id\": \"GLCpts\", \"reversibility\": true, \"label_x\": 265.0, \"label_y\": 325.0, \"gene_reaction_rule\": \"\", \"genes\": [], \"segments\": {\"0\": {\"from_node_id\": \"4\", \"to_node_id\": \"5\", \"b1\": null, \"b2\": null}, \"1\": {\"from_node_id\": \"6\", \"to_node_id\": \"5\", \"b1\": null, \"b2\": null}, \"2\": {\"from_node_id\": \"0\", \"to_node_id\": \"4\", \"b1\": null, \"b2\": null}, \"3\": {\"from_node_id\": \"1\", \"to_node_id\": \"4\", \"b1\": null, \"b2\": null}, \"4\": {\"from_node_id\": \"2\", \"to_node_id\": \"6\", \"b1\": null, \"b2\": null}, \"5\": {\"from_node_id\": \"3\", \"to_node_id\": \"6\", \"b1\": null, \"b2\": null}}, \"metabolites\": [{\"bigg_id\": \"Glucopyranose_e\", \"coefficient\": -1.0}, {\"bigg_id\": \"PHOSPHO_ENOL_PYRUVATE_c\", \"coefficient\": -1.0}, {\"bigg_id\": \"D_glucopyranose_6_phosphate_c\", \"coefficient\": 1.0}, {\"bigg_id\": \"PYRUVATE_c\", \"coefficient\": 1.0}]}, \"1\": {\"name\": \"G6PDH2r\", \"bigg_id\": \"G6PDH2r\", \"reversibility\": true, \"label_x\": 265.0, \"label_y\": 975.0, \"gene_reaction_rule\": \"\", \"genes\": [], \"segments\": {\"6\": {\"from_node_id\": \"11\", \"to_node_id\": \"12\", \"b1\": null, \"b2\": null}, \"7\": {\"from_node_id\": \"13\", \"to_node_id\": \"12\", \"b1\": null, \"b2\": null}, \"8\": {\"from_node_id\": \"2\", \"to_node_id\": \"11\", \"b1\": null, \"b2\": null}, \"9\": {\"from_node_id\": \"7\", \"to_node_id\": \"11\", \"b1\": null, \"b2\": null}, \"10\": {\"from_node_id\": \"8\", \"to_node_id\": \"13\", \"b1\": null, \"b2\": null}, \"11\": {\"from_node_id\": \"9\", \"to_node_id\": \"13\", \"b1\": null, \"b2\": null}, \"12\": {\"from_node_id\": \"10\", \"to_node_id\": \"13\", \"b1\": null, \"b2\": null}}, \"metabolites\": [{\"bigg_id\": \"D_glucopyranose_6_phosphate_c\", \"coefficient\": -1.0}, {\"bigg_id\": \"NADP_c\", \"coefficient\": -1.0}, {\"bigg_id\": \"D_6_P_GLUCONO_DELTA_LACTONE_c\", \"coefficient\": 1.0}, {\"bigg_id\": \"NADPH_c\", \"coefficient\": 1.0}, {\"bigg_id\": \"PROTON_c\", \"coefficient\": 1.0}]}, \"2\": {\"name\": \"PGL\", \"bigg_id\": \"PGL\", \"reversibility\": true, \"label_x\": 265.0, \"label_y\": 1625.0, \"gene_reaction_rule\": \"\", \"genes\": [], \"segments\": {\"13\": {\"from_node_id\": \"17\", \"to_node_id\": \"18\", \"b1\": null, \"b2\": null}, \"14\": {\"from_node_id\": \"19\", \"to_node_id\": \"18\", \"b1\": null, \"b2\": null}, \"15\": {\"from_node_id\": \"14\", \"to_node_id\": \"17\", \"b1\": null, \"b2\": null}, \"16\": {\"from_node_id\": \"8\", \"to_node_id\": \"17\", \"b1\": null, \"b2\": null}, \"17\": {\"from_node_id\": \"15\", \"to_node_id\": \"19\", \"b1\": null, \"b2\": null}, \"18\": {\"from_node_id\": \"16\", \"to_node_id\": \"19\", \"b1\": null, \"b2\": null}}, \"metabolites\": [{\"bigg_id\": \"CPD_15815_c\", \"coefficient\": -1.0}, {\"bigg_id\": \"D_6_P_GLUCONO_DELTA_LACTONE_c\", \"coefficient\": -1.0}, {\"bigg_id\": \"CPD_2961_c\", \"coefficient\": 1.0}, {\"bigg_id\": \"PROTON_c\", \"coefficient\": 1.0}]}, \"3\": {\"name\": \"GND\", \"bigg_id\": \"GND\", \"reversibility\": true, \"label_x\": 265.0, \"label_y\": 2275.0, \"gene_reaction_rule\": \"\", \"genes\": [], \"segments\": {\"19\": {\"from_node_id\": \"24\", \"to_node_id\": \"25\", \"b1\": null, \"b2\": null}, \"20\": {\"from_node_id\": \"26\", \"to_node_id\": \"25\", \"b1\": null, \"b2\": null}, \"21\": {\"from_node_id\": \"15\", \"to_node_id\": \"24\", \"b1\": null, \"b2\": null}, \"22\": {\"from_node_id\": \"20\", \"to_node_id\": \"24\", \"b1\": null, \"b2\": null}, \"23\": {\"from_node_id\": \"21\", \"to_node_id\": \"26\", \"b1\": null, \"b2\": null}, \"24\": {\"from_node_id\": \"22\", \"to_node_id\": \"26\", \"b1\": null, \"b2\": null}, \"25\": {\"from_node_id\": \"23\", \"to_node_id\": \"26\", \"b1\": null, \"b2\": null}}, \"metabolites\": [{\"bigg_id\": \"CPD_2961_c\", \"coefficient\": -1.0}, {\"bigg_id\": \"NADP_c\", \"coefficient\": -1.0}, {\"bigg_id\": \"CARBON_DIOXIDE_c\", \"coefficient\": 1.0}, {\"bigg_id\": \"NADPH_c\", \"coefficient\": 1.0}, {\"bigg_id\": \"RIBULOSE_5P_c\", \"coefficient\": 1.0}]}}, \"nodes\": {\"0\": {\"node_type\": \"metabolite\", \"x\": 150.0, \"y\": 30.0, \"label_x\": 160.0, \"label_y\": 20.0, \"bigg_id\": \"Glucopyranose_e\", \"name\": \"Glucopyranose_e\", \"node_is_primary\": false}, \"1\": {\"node_type\": \"metabolite\", \"x\": 300.0, \"y\": 30.0, \"label_x\": 310.0, \"label_y\": 20.0, \"bigg_id\": \"PHOSPHO_ENOL_PYRUVATE_c\", \"name\": \"PHOSPHO_ENOL_PYRUVATE_c\", \"node_is_primary\": false}, \"2\": {\"node_type\": \"metabolite\", \"x\": 150.0, \"y\": 550.0, \"label_x\": 160.0, \"label_y\": 580.0, \"bigg_id\": \"D_glucopyranose_6_phosphate_c\", \"name\": \"D_glucopyranose_6_phosphate_c\", \"node_is_primary\": false}, \"3\": {\"node_type\": \"metabolite\", \"x\": 300.0, \"y\": 550.0, \"label_x\": 310.0, \"label_y\": 580.0, \"bigg_id\": \"PYRUVATE_c\", \"name\": \"PYRUVATE_c\", \"node_is_primary\": false}, \"4\": {\"node_type\": \"multimarker\", \"x\": 225.0, \"y\": 305.0}, \"5\": {\"node_type\": \"midmarker\", \"x\": 225.0, \"y\": 325.0}, \"6\": {\"node_type\": \"multimarker\", \"x\": 225.0, \"y\": 345.0}, \"7\": {\"node_type\": \"metabolite\", \"x\": 300.0, \"y\": 680.0, \"label_x\": 310.0, \"label_y\": 670.0, \"bigg_id\": \"NADP_c\", \"name\": \"NADP_c\", \"node_is_primary\": false}, \"8\": {\"node_type\": \"metabolite\", \"x\": 112.5, \"y\": 1200.0, \"label_x\": 122.5, \"label_y\": 1230.0, \"bigg_id\": \"D_6_P_GLUCONO_DELTA_LACTONE_c\", \"name\": \"D_6_P_GLUCONO_DELTA_LACTONE_c\", \"node_is_primary\": false}, \"9\": {\"node_type\": \"metabolite\", \"x\": 225.0, \"y\": 1200.0, \"label_x\": 235.0, \"label_y\": 1230.0, \"bigg_id\": \"NADPH_c\", \"name\": \"NADPH_c\", \"node_is_primary\": false}, \"10\": {\"node_type\": \"metabolite\", \"x\": 337.5, \"y\": 1200.0, \"label_x\": 347.5, \"label_y\": 1230.0, \"bigg_id\": \"PROTON_c\", \"name\": \"PROTON_c\", \"node_is_primary\": false}, \"11\": {\"node_type\": \"multimarker\", \"x\": 225.0, \"y\": 955.0}, \"12\": {\"node_type\": \"midmarker\", \"x\": 225.0, \"y\": 975.0}, \"13\": {\"node_type\": \"multimarker\", \"x\": 225.0, \"y\": 995.0}, \"14\": {\"node_type\": \"metabolite\", \"x\": 150.0, \"y\": 1330.0, \"label_x\": 160.0, \"label_y\": 1320.0, \"bigg_id\": \"CPD_15815_c\", \"name\": \"CPD_15815_c\", \"node_is_primary\": false}, \"15\": {\"node_type\": \"metabolite\", \"x\": 150.0, \"y\": 1850.0, \"label_x\": 160.0, \"label_y\": 1880.0, \"bigg_id\": \"CPD_2961_c\", \"name\": \"CPD_2961_c\", \"node_is_primary\": false}, \"16\": {\"node_type\": \"metabolite\", \"x\": 300.0, \"y\": 1850.0, \"label_x\": 310.0, \"label_y\": 1880.0, \"bigg_id\": \"PROTON_c\", \"name\": \"PROTON_c\", \"node_is_primary\": false}, \"17\": {\"node_type\": \"multimarker\", \"x\": 225.0, \"y\": 1605.0}, \"18\": {\"node_type\": \"midmarker\", \"x\": 225.0, \"y\": 1625.0}, \"19\": {\"node_type\": \"multimarker\", \"x\": 225.0, \"y\": 1645.0}, \"20\": {\"node_type\": \"metabolite\", \"x\": 300.0, \"y\": 1980.0, \"label_x\": 310.0, \"label_y\": 1970.0, \"bigg_id\": \"NADP_c\", \"name\": \"NADP_c\", \"node_is_primary\": false}, \"21\": {\"node_type\": \"metabolite\", \"x\": 112.5, \"y\": 2500.0, \"label_x\": 122.5, \"label_y\": 2530.0, \"bigg_id\": \"CARBON_DIOXIDE_c\", \"name\": \"CARBON_DIOXIDE_c\", \"node_is_primary\": false}, \"22\": {\"node_type\": \"metabolite\", \"x\": 225.0, \"y\": 2500.0, \"label_x\": 235.0, \"label_y\": 2530.0, \"bigg_id\": \"NADPH_c\", \"name\": \"NADPH_c\", \"node_is_primary\": false}, \"23\": {\"node_type\": \"metabolite\", \"x\": 337.5, \"y\": 2500.0, \"label_x\": 347.5, \"label_y\": 2530.0, \"bigg_id\": \"RIBULOSE_5P_c\", \"name\": \"RIBULOSE_5P_c\", \"node_is_primary\": false}, \"24\": {\"node_type\": \"multimarker\", \"x\": 225.0, \"y\": 2255.0}, \"25\": {\"node_type\": \"midmarker\", \"x\": 225.0, \"y\": 2275.0}, \"26\": {\"node_type\": \"multimarker\", \"x\": 225.0, \"y\": 2295.0}}, \"text_labels\": {}, \"canvas\": {\"x\": 0, \"y\": 0, \"width\": 450, \"height\": 2600}}]",
       "_loaded_model_json": null,
       "allow_building_duplicate_reactions": false,
       "and_method_in_gene_reaction_rule": "mean",
       "canvas_size_and_loc": null,
       "cofactors": [
        "atp",
        "adp",
        "nad",
        "nadh",
        "nadp",
        "nadph",
        "gtp",
        "gdp",
        "h",
        "coa",
        "ump",
        "h2o",
        "ppi"
       ],
       "disabled_buttons": [
        "Clear reaction data",
        "Clear gene data",
        "Clear metabolite data"
       ],
       "embedded_css": null,
       "enable_editing": true,
       "enable_keys": false,
       "enable_keys_with_tooltip": true,
       "enable_search": true,
       "enable_tooltips": false,
       "full_screen_button": {
        "enable_editing": true,
        "enable_keys": true,
        "enable_tooltips": [
         "label"
        ],
        "menu": "all",
        "scroll_behavior": "pan"
       },
       "gene_data": null,
       "gene_font_size": 18,
       "height": 500,
       "hide_all_labels": false,
       "hide_secondary_metabolites": false,
       "highlight_missing": false,
       "identifiers_on_map": "bigg_id",
       "layout": "IPY_MODEL_e92121dab7ab4bdc887e1e645fbd65b1",
       "marker_radius": 5,
       "menu": "all",
       "metabolite_compare_style": "log2_fold",
       "metabolite_data": null,
       "metabolite_no_data_color": "#ffffff",
       "metabolite_no_data_size": 10,
       "metabolite_scale": [
        {
         "color": "#fffaf0",
         "size": 20,
         "type": "min"
        },
        {
         "color": "#f1c470",
         "size": 30,
         "type": "median"
        },
        {
         "color": "#800000",
         "size": 40,
         "type": "max"
        }
       ],
       "metabolite_scale_preset": "WhYlRd",
       "metabolite_styles": [
        "color",
        "size",
        "text"
       ],
       "never_ask_before_quit": true,
       "primary_metabolite_radius": 20,
       "reaction_compare_style": "log2_fold",
       "reaction_data": null,
       "reaction_no_data_color": "#dcdcdc",
       "reaction_no_data_size": 8,
       "reaction_scale": {},
       "reaction_scale_preset": null,
       "reaction_styles": [
        "color",
        "text"
       ],
       "scroll_behavior": "none",
       "secondary_metabolite_radius": 10,
       "semantic_zoom": null,
       "show_gene_reaction_rules": false,
       "starting_reaction": null,
       "use_3d_transform": false,
       "zoom_to_element": null
      }
     },
     "f7464d311e4743cf9b04013bf8ad2628": {
      "model_module": "@jupyter-widgets/base",
      "model_module_version": "1.2.0",
      "model_name": "LayoutModel",
      "state": {}
     },
     "f8603872196447fa8bc1abdb96e84c8f": {
      "model_module": "@jupyter-widgets/base",
      "model_module_version": "1.2.0",
      "model_name": "LayoutModel",
      "state": {}
     },
     "fa4c28b94a664c02abb3d4b26b5a31b9": {
      "model_module": "@jupyter-widgets/base",
      "model_module_version": "1.2.0",
      "model_name": "LayoutModel",
      "state": {}
     },
     "fa6d120c895640ed9bd212063f9e5324": {
      "model_module": "escher",
      "model_module_version": "1.7.4",
      "model_name": "EscherMapModel",
      "state": {
       "_loaded_map_json": "[{\"map_name\": \"\", \"map_id\": \"\", \"map_description\": \"\", \"homepage\": \"\", \"schema\": \"https://escher.github.io/escher/jsonschema/1-0-0#\"}, {\"reactions\": {\"0\": {\"name\": \"G6PDH2r\", \"bigg_id\": \"G6PDH2r\", \"reversibility\": true, \"label_x\": 265.0, \"label_y\": 325.0, \"gene_reaction_rule\": \"\", \"genes\": [], \"segments\": {\"0\": {\"from_node_id\": \"5\", \"to_node_id\": \"6\", \"b1\": null, \"b2\": null}, \"1\": {\"from_node_id\": \"7\", \"to_node_id\": \"6\", \"b1\": null, \"b2\": null}, \"2\": {\"from_node_id\": \"0\", \"to_node_id\": \"5\", \"b1\": null, \"b2\": null}, \"3\": {\"from_node_id\": \"1\", \"to_node_id\": \"5\", \"b1\": null, \"b2\": null}, \"4\": {\"from_node_id\": \"2\", \"to_node_id\": \"7\", \"b1\": null, \"b2\": null}, \"5\": {\"from_node_id\": \"3\", \"to_node_id\": \"7\", \"b1\": null, \"b2\": null}, \"6\": {\"from_node_id\": \"4\", \"to_node_id\": \"7\", \"b1\": null, \"b2\": null}}, \"metabolites\": [{\"bigg_id\": \"D_glucopyranose_6_phosphate_c\", \"coefficient\": -1.0}, {\"bigg_id\": \"NADP_c\", \"coefficient\": -1.0}, {\"bigg_id\": \"D_6_P_GLUCONO_DELTA_LACTONE_c\", \"coefficient\": 1.0}, {\"bigg_id\": \"NADPH_c\", \"coefficient\": 1.0}, {\"bigg_id\": \"PROTON_c\", \"coefficient\": 1.0}]}, \"1\": {\"name\": \"PGL\", \"bigg_id\": \"PGL\", \"reversibility\": true, \"label_x\": 265.0, \"label_y\": 975.0, \"gene_reaction_rule\": \"\", \"genes\": [], \"segments\": {\"7\": {\"from_node_id\": \"11\", \"to_node_id\": \"12\", \"b1\": null, \"b2\": null}, \"8\": {\"from_node_id\": \"13\", \"to_node_id\": \"12\", \"b1\": null, \"b2\": null}, \"9\": {\"from_node_id\": \"8\", \"to_node_id\": \"11\", \"b1\": null, \"b2\": null}, \"10\": {\"from_node_id\": \"2\", \"to_node_id\": \"11\", \"b1\": null, \"b2\": null}, \"11\": {\"from_node_id\": \"9\", \"to_node_id\": \"13\", \"b1\": null, \"b2\": null}, \"12\": {\"from_node_id\": \"10\", \"to_node_id\": \"13\", \"b1\": null, \"b2\": null}}, \"metabolites\": [{\"bigg_id\": \"CPD_15815_c\", \"coefficient\": -1.0}, {\"bigg_id\": \"D_6_P_GLUCONO_DELTA_LACTONE_c\", \"coefficient\": -1.0}, {\"bigg_id\": \"CPD_2961_c\", \"coefficient\": 1.0}, {\"bigg_id\": \"PROTON_c\", \"coefficient\": 1.0}]}, \"2\": {\"name\": \"GND\", \"bigg_id\": \"GND\", \"reversibility\": true, \"label_x\": 265.0, \"label_y\": 1625.0, \"gene_reaction_rule\": \"\", \"genes\": [], \"segments\": {\"13\": {\"from_node_id\": \"18\", \"to_node_id\": \"19\", \"b1\": null, \"b2\": null}, \"14\": {\"from_node_id\": \"20\", \"to_node_id\": \"19\", \"b1\": null, \"b2\": null}, \"15\": {\"from_node_id\": \"9\", \"to_node_id\": \"18\", \"b1\": null, \"b2\": null}, \"16\": {\"from_node_id\": \"14\", \"to_node_id\": \"18\", \"b1\": null, \"b2\": null}, \"17\": {\"from_node_id\": \"15\", \"to_node_id\": \"20\", \"b1\": null, \"b2\": null}, \"18\": {\"from_node_id\": \"16\", \"to_node_id\": \"20\", \"b1\": null, \"b2\": null}, \"19\": {\"from_node_id\": \"17\", \"to_node_id\": \"20\", \"b1\": null, \"b2\": null}}, \"metabolites\": [{\"bigg_id\": \"CPD_2961_c\", \"coefficient\": -1.0}, {\"bigg_id\": \"NADP_c\", \"coefficient\": -1.0}, {\"bigg_id\": \"CARBON_DIOXIDE_c\", \"coefficient\": 1.0}, {\"bigg_id\": \"NADPH_c\", \"coefficient\": 1.0}, {\"bigg_id\": \"RIBULOSE_5P_c\", \"coefficient\": 1.0}]}, \"3\": {\"name\": \"GLCpts\", \"bigg_id\": \"GLCpts\", \"reversibility\": true, \"label_x\": 265.0, \"label_y\": 2275.0, \"gene_reaction_rule\": \"\", \"genes\": [], \"segments\": {\"20\": {\"from_node_id\": \"25\", \"to_node_id\": \"26\", \"b1\": null, \"b2\": null}, \"21\": {\"from_node_id\": \"27\", \"to_node_id\": \"26\", \"b1\": null, \"b2\": null}, \"22\": {\"from_node_id\": \"21\", \"to_node_id\": \"25\", \"b1\": null, \"b2\": null}, \"23\": {\"from_node_id\": \"22\", \"to_node_id\": \"25\", \"b1\": null, \"b2\": null}, \"24\": {\"from_node_id\": \"23\", \"to_node_id\": \"27\", \"b1\": null, \"b2\": null}, \"25\": {\"from_node_id\": \"24\", \"to_node_id\": \"27\", \"b1\": null, \"b2\": null}}, \"metabolites\": [{\"bigg_id\": \"Glucopyranose_e\", \"coefficient\": -1.0}, {\"bigg_id\": \"PHOSPHO_ENOL_PYRUVATE_c\", \"coefficient\": -1.0}, {\"bigg_id\": \"D_glucopyranose_6_phosphate_c\", \"coefficient\": 1.0}, {\"bigg_id\": \"PYRUVATE_c\", \"coefficient\": 1.0}]}}, \"nodes\": {\"0\": {\"node_type\": \"metabolite\", \"x\": 150.0, \"y\": 30.0, \"label_x\": 160.0, \"label_y\": 20.0, \"bigg_id\": \"D_glucopyranose_6_phosphate_c\", \"name\": \"D_glucopyranose_6_phosphate_c\", \"node_is_primary\": false}, \"1\": {\"node_type\": \"metabolite\", \"x\": 300.0, \"y\": 30.0, \"label_x\": 310.0, \"label_y\": 20.0, \"bigg_id\": \"NADP_c\", \"name\": \"NADP_c\", \"node_is_primary\": false}, \"2\": {\"node_type\": \"metabolite\", \"x\": 112.5, \"y\": 550.0, \"label_x\": 122.5, \"label_y\": 580.0, \"bigg_id\": \"D_6_P_GLUCONO_DELTA_LACTONE_c\", \"name\": \"D_6_P_GLUCONO_DELTA_LACTONE_c\", \"node_is_primary\": false}, \"3\": {\"node_type\": \"metabolite\", \"x\": 225.0, \"y\": 550.0, \"label_x\": 235.0, \"label_y\": 580.0, \"bigg_id\": \"NADPH_c\", \"name\": \"NADPH_c\", \"node_is_primary\": false}, \"4\": {\"node_type\": \"metabolite\", \"x\": 337.5, \"y\": 550.0, \"label_x\": 347.5, \"label_y\": 580.0, \"bigg_id\": \"PROTON_c\", \"name\": \"PROTON_c\", \"node_is_primary\": false}, \"5\": {\"node_type\": \"multimarker\", \"x\": 225.0, \"y\": 305.0}, \"6\": {\"node_type\": \"midmarker\", \"x\": 225.0, \"y\": 325.0}, \"7\": {\"node_type\": \"multimarker\", \"x\": 225.0, \"y\": 345.0}, \"8\": {\"node_type\": \"metabolite\", \"x\": 150.0, \"y\": 680.0, \"label_x\": 160.0, \"label_y\": 670.0, \"bigg_id\": \"CPD_15815_c\", \"name\": \"CPD_15815_c\", \"node_is_primary\": false}, \"9\": {\"node_type\": \"metabolite\", \"x\": 150.0, \"y\": 1200.0, \"label_x\": 160.0, \"label_y\": 1230.0, \"bigg_id\": \"CPD_2961_c\", \"name\": \"CPD_2961_c\", \"node_is_primary\": false}, \"10\": {\"node_type\": \"metabolite\", \"x\": 300.0, \"y\": 1200.0, \"label_x\": 310.0, \"label_y\": 1230.0, \"bigg_id\": \"PROTON_c\", \"name\": \"PROTON_c\", \"node_is_primary\": false}, \"11\": {\"node_type\": \"multimarker\", \"x\": 225.0, \"y\": 955.0}, \"12\": {\"node_type\": \"midmarker\", \"x\": 225.0, \"y\": 975.0}, \"13\": {\"node_type\": \"multimarker\", \"x\": 225.0, \"y\": 995.0}, \"14\": {\"node_type\": \"metabolite\", \"x\": 300.0, \"y\": 1330.0, \"label_x\": 310.0, \"label_y\": 1320.0, \"bigg_id\": \"NADP_c\", \"name\": \"NADP_c\", \"node_is_primary\": false}, \"15\": {\"node_type\": \"metabolite\", \"x\": 112.5, \"y\": 1850.0, \"label_x\": 122.5, \"label_y\": 1880.0, \"bigg_id\": \"CARBON_DIOXIDE_c\", \"name\": \"CARBON_DIOXIDE_c\", \"node_is_primary\": false}, \"16\": {\"node_type\": \"metabolite\", \"x\": 225.0, \"y\": 1850.0, \"label_x\": 235.0, \"label_y\": 1880.0, \"bigg_id\": \"NADPH_c\", \"name\": \"NADPH_c\", \"node_is_primary\": false}, \"17\": {\"node_type\": \"metabolite\", \"x\": 337.5, \"y\": 1850.0, \"label_x\": 347.5, \"label_y\": 1880.0, \"bigg_id\": \"RIBULOSE_5P_c\", \"name\": \"RIBULOSE_5P_c\", \"node_is_primary\": false}, \"18\": {\"node_type\": \"multimarker\", \"x\": 225.0, \"y\": 1605.0}, \"19\": {\"node_type\": \"midmarker\", \"x\": 225.0, \"y\": 1625.0}, \"20\": {\"node_type\": \"multimarker\", \"x\": 225.0, \"y\": 1645.0}, \"21\": {\"node_type\": \"metabolite\", \"x\": 150.0, \"y\": 1980.0, \"label_x\": 160.0, \"label_y\": 1970.0, \"bigg_id\": \"Glucopyranose_e\", \"name\": \"Glucopyranose_e\", \"node_is_primary\": false}, \"22\": {\"node_type\": \"metabolite\", \"x\": 300.0, \"y\": 1980.0, \"label_x\": 310.0, \"label_y\": 1970.0, \"bigg_id\": \"PHOSPHO_ENOL_PYRUVATE_c\", \"name\": \"PHOSPHO_ENOL_PYRUVATE_c\", \"node_is_primary\": false}, \"23\": {\"node_type\": \"metabolite\", \"x\": 150.0, \"y\": 2500.0, \"label_x\": 160.0, \"label_y\": 2530.0, \"bigg_id\": \"D_glucopyranose_6_phosphate_c\", \"name\": \"D_glucopyranose_6_phosphate_c\", \"node_is_primary\": false}, \"24\": {\"node_type\": \"metabolite\", \"x\": 300.0, \"y\": 2500.0, \"label_x\": 310.0, \"label_y\": 2530.0, \"bigg_id\": \"PYRUVATE_c\", \"name\": \"PYRUVATE_c\", \"node_is_primary\": false}, \"25\": {\"node_type\": \"multimarker\", \"x\": 225.0, \"y\": 2255.0}, \"26\": {\"node_type\": \"midmarker\", \"x\": 225.0, \"y\": 2275.0}, \"27\": {\"node_type\": \"multimarker\", \"x\": 225.0, \"y\": 2295.0}}, \"text_labels\": {}, \"canvas\": {\"x\": 0, \"y\": 0, \"width\": 450, \"height\": 2600}}]",
       "_loaded_model_json": null,
       "allow_building_duplicate_reactions": null,
       "and_method_in_gene_reaction_rule": null,
       "canvas_size_and_loc": null,
       "cofactors": null,
       "disabled_buttons": null,
       "embedded_css": null,
       "enable_editing": null,
       "enable_keys": false,
       "enable_keys_with_tooltip": null,
       "enable_search": null,
       "enable_tooltips": false,
       "full_screen_button": {
        "enable_editing": true,
        "enable_keys": true,
        "enable_tooltips": [
         "label"
        ],
        "menu": "all",
        "scroll_behavior": "pan"
       },
       "gene_data": null,
       "gene_font_size": null,
       "height": 500,
       "hide_all_labels": null,
       "hide_secondary_metabolites": null,
       "highlight_missing": null,
       "identifiers_on_map": null,
       "layout": "IPY_MODEL_30ade8bc9af444c6bd19c94cf05254f2",
       "marker_radius": null,
       "menu": null,
       "metabolite_compare_style": null,
       "metabolite_data": null,
       "metabolite_no_data_color": null,
       "metabolite_no_data_size": null,
       "metabolite_scale": null,
       "metabolite_scale_preset": null,
       "metabolite_styles": null,
       "never_ask_before_quit": true,
       "primary_metabolite_radius": null,
       "reaction_compare_style": null,
       "reaction_data": {
        "G6PDH2r": -2,
        "GLCpts": -2,
        "GND": 1,
        "PGL": 0.4
       },
       "reaction_no_data_color": null,
       "reaction_no_data_size": null,
       "reaction_scale": [
        {
         "color": "rgb(110,174,110)",
         "type": "value",
         "value": 0.5
        },
        {
         "color": "rgb(0,128,0)",
         "type": "value",
         "value": 1
        },
        {
         "color": "rgb(220,220,220)",
         "type": "value",
         "value": 0
        },
        {
         "color": "rgb(237,110,110)",
         "type": "value",
         "value": -1
        },
        {
         "color": "rgb(255,0,0)",
         "type": "value",
         "value": -2
        }
       ],
       "reaction_scale_preset": null,
       "reaction_styles": [
        "color",
        "text"
       ],
       "scroll_behavior": "none",
       "secondary_metabolite_radius": null,
       "semantic_zoom": null,
       "show_gene_reaction_rules": null,
       "starting_reaction": null,
       "use_3d_transform": null,
       "zoom_to_element": null
      }
     }
    },
    "version_major": 2,
    "version_minor": 0
   }
  }
 },
 "nbformat": 4,
 "nbformat_minor": 1
}
