{
 "cells": [
  {
   "cell_type": "markdown",
   "metadata": {
    "id": "XV2pICiM740l"
   },
   "source": [
    "# Functions"
   ]
  },
  {
   "cell_type": "code",
   "execution_count": 1,
   "metadata": {
    "colab": {
     "base_uri": "https://localhost:8080/"
    },
    "id": "jObtNBXPw30t",
    "outputId": "723b895d-f149-4f89-db70-555e785266ab"
   },
   "outputs": [
    {
     "name": "stdout",
     "output_type": "stream",
     "text": [
      "Scaling...\n",
      " A: min|aij| =  1.000e+00  max|aij| =  1.000e+00  ratio =  1.000e+00\n",
      "Problem data seem to be well scaled\n",
      "0.5.5-alpha.1\n"
     ]
    }
   ],
   "source": [
    "from IPython.display import display\n",
    "from cobramod import __version__\n",
    "print(__version__)\n",
    "# From Escher:\n",
    "# This option turns off the warning message if you leave or refresh this page\n",
    "import escher\n",
    "escher.rc['never_ask_before_quit'] = True"
   ]
  },
  {
   "cell_type": "markdown",
   "metadata": {
    "id": "tjphNJOQF7B3"
   },
   "source": [
    "## Retrieving metabolic pathway information\n",
    "\n",
    "CobraMod can obtain metabolic pathway information (metabolites, reactions or pathways) from various databases by using database-specific identifiers. It supports all databases from the [BioCyc collection](\n",
    "https://biocyc.org/\n",
    "), [Plant Metabolic Network (PMN)](\n",
    "https://pmn.plantcyc.org/\n",
    "), [the KEGG database](\n",
    "https://www.genome.jp/kegg/\n",
    ") and [the BiGG Models repository](\n",
    "http://bigg.ucsd.edu/\n",
    "). Call `cobramod.available_databases` to see all supported databases."
   ]
  },
  {
   "cell_type": "code",
   "execution_count": 2,
   "metadata": {
    "colab": {
     "base_uri": "https://localhost:8080/",
     "height": 339
    },
    "id": "FKwfLSf07408",
    "outputId": "b81e0726-b6f6-4406-aede-009be86a9e33"
   },
   "outputs": [
    {
     "data": {
      "text/html": [
       "<p>CobraMod supports Biocyc, the Plant Metabolic Network (PMN), KEGG and BiGG Models repository. Biocyc includes around 18.000 sub-databases and a complete list for BioCyc can be found at 'https://biocyc.org/biocyc-pgdb-list.shtml'. The database-specific identifiers can be found in the URL of the respective data. For instance, for \"diphosphate\" this is:</p>\n",
       "<table style=\"width: 100%; border-collapse: collapse; float: left;\" border=\"1\">\n",
       "<tbody> <tr> <td style=\"width: 50%;\"> <h3>Database</h3> </td> <td style=\"width:\n",
       "50%;\"> <h3>URL with identifier (bold)</h3> </td> </tr> <tr> <td style=\"width:\n",
       "50%;\">BioCyc, sub-database ECOLI</td> <td style=\"width:\n",
       "50%;\">https://biocyc.org/compound?orgid=ECOLI&amp;id=<strong>PPI</strong></td>\n",
       "</tr> <tr> <td style=\"width: 50%;\">Plant Metabolic Network, sub-database\n",
       "CORN</td> <td style=\"width:\n",
       "50%;\">https://pmn.plantcyc.org/compound?orgid=CORN&amp;id=<strong>PPI</strong></td>\n",
       "</tr> <tr> <td style=\"width: 50%;\">KEGG</td> <td style=\"width:\n",
       "50%;\">https://www.genome.jp/entry/<strong>C00013</strong></td> </tr> <tr> <td\n",
       "style=\"width: 50%;\">BiGG Models Repository, universal model</td> <td\n",
       "style=\"width:\n",
       "50%;\">http://bigg.ucsd.edu/universal/metabolites/<strong>ppi</strong></td>\n",
       "</tr> </tbody> </table> <p>CobraMod uses abbreviations to represent the\n",
       "databases or sub-databases:</p> <table style=\"width: 100%; border-collapse:\n",
       "collapse; float: left;\" border=\"1\"> <tbody> <tr> <td style=\"width: 50%;\">\n",
       "<h3>Database</h3> </td> <td style=\"width: 50%;\"> <h3>Abbreviation</h3> </td>\n",
       "</tr> <tr> <td style=\"width: 50%;\">BioCyc</td> <td style=\"width: 50%;\">META or\n",
       "identifier of sub-database e.g: ECOLI, ARA, GCF_000010885</td> </tr> <tr> <td\n",
       "style=\"width: 50%;\">Plant Metabolic Network</td> <td style=\"width: 50%;\">Prefix\n",
       "\"pmn:\" with the sub-database identifier, e.g pmn:PLANT, pmn:ARA, pmn:CORN</td>\n",
       "</tr> <tr> <td style=\"width: 50%;\">KEGG</td> <td style=\"width: 50%;\">KEGG</td>\n",
       "</tr> <tr> <td style=\"width: 50%;\">BiGG Models Repository</td> <td\n",
       "style=\"width: 50%;\">BIGG</td> </tr> </tbody> </table>\n"
      ],
      "text/plain": [
       "CobraMod supports Biocyc, the Plant Metabolic Network (PMN), KEGG and BiGG Models repository. Biocyc includes around 18.000 sub-databases and a complete list for BioCyc can be found at 'https://biocyc.org/biocyc-pgdb-list.shtml'. The database-specific identifiers can be found in the URL of the respective data. For instance, for \"diphosphate\" this is:\n",
       "\n",
       "BioCyc, sub-database ECOLI -> https://biocyc.org/compound?orgid=ECOLI&id=PPI ->\n",
       "PPI\n",
       "Plant Metabolic Network, sub-database CORN ->\n",
       "https://pmn.plantcyc.org/compound?orgid=CORN&id=PPI -> PPI\n",
       "KEGG ->\n",
       "https://www.genome.jp/entry/C00013 -> C00013\n",
       "BiGG Models Repository,\n",
       "universal model -> http://bigg.ucsd.edu/universal/metabolites/ppi -> ppi\n",
       "\n",
       "CobraMod uses abbreviations to represent the databases or sub-databases:\n",
       "\n",
       "Database -> Abbreviation\n",
       "BioCyc -> META or identifier of sub-database e.g:\n",
       "ECOLI, ARA, GCF_000010885\n",
       "Plant Metabolic Network -> pmn:PLANT or identifier\n",
       "of sub-database e.g pmn:ARA, pmn:CORN\n",
       "KEGG -> KEGG\n",
       "BiGG Models Repository ->\n",
       "BIGG\n",
       "        "
      ]
     },
     "execution_count": 2,
     "metadata": {},
     "output_type": "execute_result"
    }
   ],
   "source": [
    "from cobramod import available_databases\n",
    "                                         \n",
    "available_databases"
   ]
  },
  {
   "cell_type": "markdown",
   "metadata": {
    "id": "t3ADoeWMGqCV"
   },
   "source": [
    "\n",
    "\n",
    "The user can download the metabolic pathway information using the\n",
    "`cobramod.get_data` function. In this example we download information from \n",
    "BioCyc sub-database for yeast.\n"
   ]
  },
  {
   "cell_type": "code",
   "execution_count": 3,
   "metadata": {
    "id": "RFawmPqO740o"
   },
   "outputs": [],
   "source": [
    "from cobramod import get_data\n",
    "from pathlib import Path\n",
    "\n",
    "dir_data = Path.cwd().resolve().joinpath(\"data\")\n",
    "identifiers = [\n",
    "    \"CPD-14074\",\n",
    "    \"CPD-14075\",\n",
    "    \"CPD-14076\",\n",
    "    \"CPD-14553\",\n",
    "    \"CPD-15317\",\n",
    "    \"CPD-15322\",\n",
    "    \"CPD-15323\",\n",
    "]\n",
    "\n",
    "for metabolite in identifiers:\n",
    "    get_data(\n",
    "        directory=dir_data,\n",
    "        identifier=metabolite,\n",
    "        database=\"YEAST\"\n",
    "    )"
   ]
  },
  {
   "cell_type": "markdown",
   "metadata": {
    "id": "GL14MNJG740q"
   },
   "source": [
    "The first argument in [cobramod.get_data()](\n",
    "module/cobramod/index.html#cobramod.get_data) is the system path where\n",
    "CobraMod stores the metabolic pathway information. CobraMod uses [pathlib](\n",
    "https://docs.python.org/3/library/pathlib.html#pathlib.Path) for path \n",
    "representation. The second argument is the original identifier used in the respective database. In this example we retrieve data from BioCyc \n",
    "sub-database `YEAST` The last argument is the abbreviation of the database. \n",
    "\n",
    "CobraMod creates a directory with the name of the database and stores the\n",
    "metabolic pathway information in it:\n",
    "\n",
    "```\n",
    "data\n",
    "`-- YEAST\n",
    "    |-- CPD-14074.xml\n",
    "    |-- CPD-14075.xml\n",
    "    |-- CPD-14076.xml\n",
    "    |-- CPD-14553.xml\n",
    "    |-- CPD-15317.xml\n",
    "    |-- CPD-15322.xml\n",
    "    `-- CPD-15323.xml\n",
    "```"
   ]
  },
  {
   "cell_type": "markdown",
   "metadata": {
    "id": "CjC8UWKk740t"
   },
   "source": [
    "## Converting stored-data into COBRApy objects\n",
    "\n",
    "CobraMod can convert metabolic pathway information (metabolites, reactions, pathways) into COBRApy objects ([cobra.Reaction](\n",
    "  https://cobrapy.readthedocs.io/en/latest/autoapi/cobra/index.html#cobra.Reaction\n",
    ") and [cobra.Metabolite](\n",
    "  https://cobrapy.readthedocs.io/en/latest/autoapi/cobra/index.html#cobra.Metabolite\n",
    ")). It can thus be seamlessly integrated with a COBRApy workflow.\n",
    "\n",
    "The function [cobramod.create_object()](\n",
    "module/cobramod/index.html#cobramod.create_object) creates COBRApy objects from metabolic pathway data retrieved by [cobramod.get_data()](\n",
    "module/cobramod/index.html#cobramod.get_data). If no pathway information was downloaded [cobramod.create_object()]( module/cobramod/index.html#cobramod.create_object) retrieves it automatically.\n",
    "\n",
    "In this example, we convert the metabolite *2-Oxoglutarate* with the\n",
    "KEGG identifier [C00026](\n",
    "https://www.genome.jp/dbget-bin/www_bget?C00026) into a COBRApy object.\n",
    "CobraMod automatically identifies the KEGG entry as a metabolite and converts it into the corresponding COBRApy Metabolite.\n",
    "\n",
    "The first argument is the database-specific identifier (`C00026`) followed by\n",
    "the database abbreviation (`KEGG`). The third argument is the path \n",
    "representation for the directory of the metabolic pathway information. CobraMod\n",
    "downloads the metabolic pathway information into this directory and will always\n",
    "utilize it instead of downloading it again. The last argument is the\n",
    "compartment of the reaction (`c` for cytosol)."
   ]
  },
  {
   "cell_type": "code",
   "execution_count": 4,
   "metadata": {
    "colab": {
     "base_uri": "https://localhost:8080/",
     "height": 168
    },
    "id": "s7osopQo740t",
    "outputId": "e5e58e24-1760-4b3a-c511-86838a1d8c83"
   },
   "outputs": [
    {
     "name": "stdout",
     "output_type": "stream",
     "text": [
      "<class 'cobra.core.metabolite.Metabolite'>\n"
     ]
    },
    {
     "data": {
      "text/html": [
       "\n",
       "        <table>\n",
       "            <tr>\n",
       "                <td><strong>Metabolite identifier</strong></td><td>C00026_c</td>\n",
       "            </tr><tr>\n",
       "                <td><strong>Name</strong></td><td>2-Oxoglutarate;</td>\n",
       "            </tr><tr>\n",
       "                <td><strong>Memory address</strong></td>\n",
       "                <td>0x07fed40fad6d0</td>\n",
       "            </tr><tr>\n",
       "                <td><strong>Formula</strong></td><td>C5H6O5</td>\n",
       "            </tr><tr>\n",
       "                <td><strong>Compartment</strong></td><td>c</td>\n",
       "            </tr><tr>\n",
       "                <td><strong>In 0 reaction(s)</strong></td><td>\n",
       "                    </td>\n",
       "            </tr>\n",
       "        </table>"
      ],
      "text/plain": [
       "<Metabolite C00026_c at 0x7fed40fad6d0>"
      ]
     },
     "execution_count": 4,
     "metadata": {},
     "output_type": "execute_result"
    }
   ],
   "source": [
    "from cobramod import create_object\n",
    "from pathlib import Path\n",
    "\n",
    "# Path for the metabolic pathway information directory                                                                        \n",
    "dir_data = Path.cwd().resolve().joinpath(\"data\")\n",
    "\n",
    "new_object = create_object(\n",
    "    identifier=\"C00026\",\n",
    "    database=\"KEGG\",\n",
    "    directory=dir_data,\n",
    "    compartment=\"c\"\n",
    ")\n",
    "                                             \n",
    "print(type(new_object))\n",
    "new_object"
   ]
  },
  {
   "cell_type": "markdown",
   "metadata": {
    "id": "N-0zvhHTJfAz"
   },
   "source": [
    "In the second example below, we convert the reaction [RXN-11502](\n",
    "https://pmn.plantcyc.org/CORN/NEW-IMAGE?object=RXN-11502) from the PMN sub-database CORN into a COBRApy reaction. The\n",
    "first argument is the database-specific identifier (`RXN-11502`) followed by\n",
    "the database identifier (`pmn:CORN`). CobraMod automatically takes \n",
    "reversibility and gene information from the database entry and adds it to the reaction object."
   ]
  },
  {
   "cell_type": "code",
   "execution_count": 5,
   "metadata": {
    "colab": {
     "base_uri": "https://localhost:8080/",
     "height": 285
    },
    "id": "60lBmpkt8qtF",
    "outputId": "6a4ebc41-3023-4a03-a4eb-a5e295820614"
   },
   "outputs": [
    {
     "name": "stdout",
     "output_type": "stream",
     "text": [
      "<class 'cobra.core.reaction.Reaction'>\n"
     ]
    },
    {
     "data": {
      "text/html": [
       "\n",
       "        <table>\n",
       "            <tr>\n",
       "                <td><strong>Reaction identifier</strong></td><td>RXN_11501_c</td>\n",
       "            </tr><tr>\n",
       "                <td><strong>Name</strong></td><td>alkaline &alpha;- galactosidase</td>\n",
       "            </tr><tr>\n",
       "                <td><strong>Memory address</strong></td>\n",
       "                <td>0x07fed40f99050</td>\n",
       "            </tr><tr>\n",
       "                <td><strong>Stoichiometry</strong></td>\n",
       "                <td>\n",
       "                    <p style='text-align:right'>CPD_170_c + WATER_c --> ALPHA_D_GALACTOSE_c + CPD_1099_c</p>\n",
       "                    <p style='text-align:right'>stachyose + H2O --> alpha-D-galactopyranose + raffinose</p>\n",
       "                </td>\n",
       "            </tr><tr>\n",
       "                <td><strong>GPR</strong></td><td>ZM00001D031300 or ZM00001D031303 or ZM00001D003279</td>\n",
       "            </tr><tr>\n",
       "                <td><strong>Lower bound</strong></td><td>0</td>\n",
       "            </tr><tr>\n",
       "                <td><strong>Upper bound</strong></td><td>1000</td>\n",
       "            </tr>\n",
       "        </table>\n",
       "        "
      ],
      "text/plain": [
       "<Reaction RXN_11501_c at 0x7fed40f99050>"
      ]
     },
     "metadata": {},
     "output_type": "display_data"
    },
    {
     "data": {
      "text/plain": [
       "frozenset({<Gene ZM00001D003279 at 0x7fed40faddd0>,\n",
       "           <Gene ZM00001D031300 at 0x7fed40fadd10>,\n",
       "           <Gene ZM00001D031303 at 0x7fed40fad350>})"
      ]
     },
     "execution_count": 5,
     "metadata": {},
     "output_type": "execute_result"
    }
   ],
   "source": [
    "new_object = create_object(\n",
    "    identifier=\"RXN-11501\",\n",
    "    database=\"pmn:CORN\",\n",
    "    directory=dir_data,\n",
    "    compartment=\"c\"\n",
    ")\n",
    "                                             \n",
    "print(type(new_object))\n",
    "display(new_object)\n",
    "new_object.genes"
   ]
  },
  {
   "cell_type": "markdown",
   "metadata": {
    "id": "jlw6Vkuy740u"
   },
   "source": [
    "\n",
    "## Adding metabolites\n",
    "\n",
    "The function [cobramod.add_metabolites()](\n",
    "module/cobramod/index.html#cobramod.add_metabolites)\n",
    "extends the COBRApy function [model.add_metabolites()](\n",
    "https://cobrapy.readthedocs.io/en/latest/autoapi/cobra/core/model/index.html#cobra.core.model.Model.add_metabolites\n",
    ") and can be used with a simple syntax. It can utilize a single string, a list of strings, a file path or a COBRAPy metabolite object. In the next\n",
    "examples we showcase these options. We use the *E. coli* core model from COBRApy as test model. This core model can be found under `cobramod.test.textbook`. If the argument `obj` is used as a string, it can be the database-specific identifier of the respective metabolite and its compartment or a user-defined metabolite. It uses the following syntax:\n",
    "\n",
    "------\n",
    "\n",
    "**SYNTAX**  \n",
    "\n",
    "To add metabolite information from a database:\n",
    "\n",
    "    database-specific_identifier, compartment\n",
    "\n",
    "To add user-curated metabolites:\n",
    "\n",
    "    user-curated_identifier, name, compartment, chemical_formula, molecular_charge\n",
    "\n",
    "------\n",
    "\n",
    "In the first example, we add the metabolite *L-methionine* with the MetaCyc\n",
    "identifier [MET](\n",
    "https://metacyc.org/compound?orgid=META&id=MET) to the test model. The first\n",
    "argument is the model name. The argument `obj` contains the identifier\n",
    "`MET` and the compartment `c`. The second argument is the database identifier\n",
    "(`META`) and the third argument is the directory where CobraMod stores the metabolite information.\n"
   ]
  },
  {
   "cell_type": "code",
   "execution_count": 6,
   "metadata": {
    "colab": {
     "base_uri": "https://localhost:8080/",
     "height": 168
    },
    "id": "TgiIWEX3740v",
    "outputId": "0d862e96-bcdc-4669-c623-55a7beec99e2"
   },
   "outputs": [
    {
     "name": "stdout",
     "output_type": "stream",
     "text": [
      "<class 'cobra.core.metabolite.Metabolite'>\n"
     ]
    },
    {
     "data": {
      "text/html": [
       "\n",
       "        <table>\n",
       "            <tr>\n",
       "                <td><strong>Metabolite identifier</strong></td><td>MET_c</td>\n",
       "            </tr><tr>\n",
       "                <td><strong>Name</strong></td><td>L-methionine</td>\n",
       "            </tr><tr>\n",
       "                <td><strong>Memory address</strong></td>\n",
       "                <td>0x07fed4089b790</td>\n",
       "            </tr><tr>\n",
       "                <td><strong>Formula</strong></td><td>C5H11N1O2S1</td>\n",
       "            </tr><tr>\n",
       "                <td><strong>Compartment</strong></td><td>c</td>\n",
       "            </tr><tr>\n",
       "                <td><strong>In 0 reaction(s)</strong></td><td>\n",
       "                    </td>\n",
       "            </tr>\n",
       "        </table>"
      ],
      "text/plain": [
       "<Metabolite MET_c at 0x7fed4089b790>"
      ]
     },
     "execution_count": 6,
     "metadata": {},
     "output_type": "execute_result"
    }
   ],
   "source": [
    "from cobramod import add_metabolites\n",
    "from cobramod.test import textbook_biocyc\n",
    "from pathlib import Path\n",
    "\n",
    "# Path for the metabolic pathway information directory                                                                        \n",
    "dir_data = Path.cwd().resolve().joinpath(\"data\")\n",
    "# Using copy\n",
    "test_model = textbook_biocyc.copy()\n",
    "\n",
    "add_metabolites(\n",
    "    model=test_model,\n",
    "    obj=\"MET, c\",\n",
    "    database=\"META\",\n",
    "    directory=dir_data,\n",
    ")\n",
    "print(type(test_model.metabolites.get_by_id(\"MET_c\")))\n",
    "test_model.metabolites.get_by_id(\"MET_c\")"
   ]
  },
  {
   "cell_type": "markdown",
   "metadata": {
    "id": "32whoodj740v"
   },
   "source": [
    "In the second example, we add two metabolites ([methionine](\n",
    "https://metacyc.org/compound?orgid=META&id=MET) and [sucrose](\n",
    "https://metacyc.org/compound?orgid=META&id=SUCROSE\n",
    ")) from MetaCyc. In the argument `obj` we define a list with the database-specific metabolite identifiers and the respecitive compartments. \n",
    "The rest of the arguments remains the same as in the previous example. \n",
    "CobraMod skips adding metabolites which are already in the model and prints \n",
    "a warning. The metabolite information contains multiple cross-references \n",
    "database entries. If an entry is found in the model, then CobraMod uses it\n",
    "instead of creating a new COBRApy metabolite."
   ]
  },
  {
   "cell_type": "code",
   "execution_count": 7,
   "metadata": {
    "colab": {
     "base_uri": "https://localhost:8080/",
     "height": 318
    },
    "id": "TOWdeeQD740w",
    "outputId": "b4407f10-98dd-4cd0-bb9a-da5aff2785f5"
   },
   "outputs": [
    {
     "name": "stderr",
     "output_type": "stream",
     "text": [
      "/home/stefano/Documents/cobramod/src/cobramod/core/creation.py:1005: UserWarning: Metabolite \"MET_c\" is already present in the model. Skipping addition.\n",
      "  warn(message=msg, category=UserWarning)\n"
     ]
    },
    {
     "data": {
      "text/html": [
       "\n",
       "        <table>\n",
       "            <tr>\n",
       "                <td><strong>Metabolite identifier</strong></td><td>MET_c</td>\n",
       "            </tr><tr>\n",
       "                <td><strong>Name</strong></td><td>L-methionine</td>\n",
       "            </tr><tr>\n",
       "                <td><strong>Memory address</strong></td>\n",
       "                <td>0x07fed4089b790</td>\n",
       "            </tr><tr>\n",
       "                <td><strong>Formula</strong></td><td>C5H11N1O2S1</td>\n",
       "            </tr><tr>\n",
       "                <td><strong>Compartment</strong></td><td>c</td>\n",
       "            </tr><tr>\n",
       "                <td><strong>In 0 reaction(s)</strong></td><td>\n",
       "                    </td>\n",
       "            </tr>\n",
       "        </table>"
      ],
      "text/plain": [
       "<Metabolite MET_c at 0x7fed4089b790>"
      ]
     },
     "metadata": {},
     "output_type": "display_data"
    },
    {
     "data": {
      "text/html": [
       "\n",
       "        <table>\n",
       "            <tr>\n",
       "                <td><strong>Metabolite identifier</strong></td><td>SUCROSE_c</td>\n",
       "            </tr><tr>\n",
       "                <td><strong>Name</strong></td><td>sucrose</td>\n",
       "            </tr><tr>\n",
       "                <td><strong>Memory address</strong></td>\n",
       "                <td>0x07fed4089d890</td>\n",
       "            </tr><tr>\n",
       "                <td><strong>Formula</strong></td><td>C12H22O11</td>\n",
       "            </tr><tr>\n",
       "                <td><strong>Compartment</strong></td><td>c</td>\n",
       "            </tr><tr>\n",
       "                <td><strong>In 0 reaction(s)</strong></td><td>\n",
       "                    </td>\n",
       "            </tr>\n",
       "        </table>"
      ],
      "text/plain": [
       "<Metabolite SUCROSE_c at 0x7fed4089d890>"
      ]
     },
     "execution_count": 7,
     "metadata": {},
     "output_type": "execute_result"
    }
   ],
   "source": [
    "add_metabolites(\n",
    "    model=test_model,\n",
    "    obj=[\"MET, c\", \"SUCROSE, c\"],\n",
    "    database=\"META\",\n",
    "    directory=dir_data,\n",
    ")\n",
    "# Show metabolites in jupyter\n",
    "display(test_model.metabolites.get_by_id(\"MET_c\"))  \n",
    "test_model.metabolites.get_by_id(\"SUCROSE_c\")"
   ]
  },
  {
   "cell_type": "markdown",
   "metadata": {
    "id": "_r-7dIhC740x"
   },
   "source": [
    "In the third example, we use a text file to add metabolites to the test\n",
    "model. We use the file *metabolites.txt* in the current working directory with the following content:\n",
    "\n",
    "    SUCROSE, c  \n",
    "    MET, c  \n",
    "    MALTOSE_c, MALTOSE[c], c, C12H22O11, 1\n",
    "\n",
    "In this example, CobraMod downloads the first two metabolites from MetaCyc, while `MALTOSE_c` is a user-defined metabolite.  The user can specify the path to this file in the `obj` argument. The remaining arguments are the same as in the previous examples. We added two print statements to show that CobraMod adds the metabolites to the model."
   ]
  },
  {
   "cell_type": "code",
   "execution_count": 8,
   "metadata": {
    "colab": {
     "base_uri": "https://localhost:8080/",
     "height": 448
    },
    "id": "YfbHsvk0740x",
    "outputId": "09cf4bf0-9d99-4c92-e5a2-e7d33f2032a8"
   },
   "outputs": [
    {
     "name": "stdout",
     "output_type": "stream",
     "text": [
      "Number of metabolites prior addition: 72\n",
      "Number of metabolites after addition: 75\n"
     ]
    },
    {
     "data": {
      "text/html": [
       "\n",
       "        <table>\n",
       "            <tr>\n",
       "                <td><strong>Metabolite identifier</strong></td><td>MET_c</td>\n",
       "            </tr><tr>\n",
       "                <td><strong>Name</strong></td><td>L-methionine</td>\n",
       "            </tr><tr>\n",
       "                <td><strong>Memory address</strong></td>\n",
       "                <td>0x07fed408a2ed0</td>\n",
       "            </tr><tr>\n",
       "                <td><strong>Formula</strong></td><td>C5H11N1O2S1</td>\n",
       "            </tr><tr>\n",
       "                <td><strong>Compartment</strong></td><td>c</td>\n",
       "            </tr><tr>\n",
       "                <td><strong>In 0 reaction(s)</strong></td><td>\n",
       "                    </td>\n",
       "            </tr>\n",
       "        </table>"
      ],
      "text/plain": [
       "<Metabolite MET_c at 0x7fed408a2ed0>"
      ]
     },
     "metadata": {},
     "output_type": "display_data"
    },
    {
     "data": {
      "text/html": [
       "\n",
       "        <table>\n",
       "            <tr>\n",
       "                <td><strong>Metabolite identifier</strong></td><td>SUCROSE_c</td>\n",
       "            </tr><tr>\n",
       "                <td><strong>Name</strong></td><td>sucrose</td>\n",
       "            </tr><tr>\n",
       "                <td><strong>Memory address</strong></td>\n",
       "                <td>0x07fed407cc810</td>\n",
       "            </tr><tr>\n",
       "                <td><strong>Formula</strong></td><td>C12H22O11</td>\n",
       "            </tr><tr>\n",
       "                <td><strong>Compartment</strong></td><td>c</td>\n",
       "            </tr><tr>\n",
       "                <td><strong>In 0 reaction(s)</strong></td><td>\n",
       "                    </td>\n",
       "            </tr>\n",
       "        </table>"
      ],
      "text/plain": [
       "<Metabolite SUCROSE_c at 0x7fed407cc810>"
      ]
     },
     "metadata": {},
     "output_type": "display_data"
    },
    {
     "data": {
      "text/html": [
       "\n",
       "        <table>\n",
       "            <tr>\n",
       "                <td><strong>Metabolite identifier</strong></td><td>MALTOSE_c</td>\n",
       "            </tr><tr>\n",
       "                <td><strong>Name</strong></td><td>MALTOSE[c]</td>\n",
       "            </tr><tr>\n",
       "                <td><strong>Memory address</strong></td>\n",
       "                <td>0x07fed40f5c6d0</td>\n",
       "            </tr><tr>\n",
       "                <td><strong>Formula</strong></td><td>C12H22O11</td>\n",
       "            </tr><tr>\n",
       "                <td><strong>Compartment</strong></td><td>c</td>\n",
       "            </tr><tr>\n",
       "                <td><strong>In 0 reaction(s)</strong></td><td>\n",
       "                    </td>\n",
       "            </tr>\n",
       "        </table>"
      ],
      "text/plain": [
       "<Metabolite MALTOSE_c at 0x7fed40f5c6d0>"
      ]
     },
     "execution_count": 8,
     "metadata": {},
     "output_type": "execute_result"
    }
   ],
   "source": [
    "# Path for the metabolic pathway information directory\n",
    "dir_data = Path.cwd().resolve().joinpath(\"data\")\n",
    "# This is our file\n",
    "file = dir_data.joinpath(\"metabolites.txt\")\n",
    "# Using a copy\n",
    "test_model = textbook_biocyc.copy()\n",
    "\n",
    "print(f'Number of metabolites prior addition: {len(test_model.metabolites)}')\n",
    "# Using CobraMod\n",
    "add_metabolites(\n",
    "    model=test_model,\n",
    "    obj=file,\n",
    "    directory=dir_data,\n",
    "    database=\"META\",\n",
    ")\n",
    "print(f'Number of metabolites after addition: {len(test_model.metabolites)}')\n",
    "# Show metabolites in jupyter\n",
    "display(test_model.metabolites.get_by_id(\"MET_c\"))\n",
    "display(test_model.metabolites.get_by_id(\"SUCROSE_c\"))\n",
    "test_model.metabolites.get_by_id(\"MALTOSE_c\")"
   ]
  },
  {
   "cell_type": "markdown",
   "metadata": {
    "id": "uNbBaakL740x"
   },
   "source": [
    "Since [cobramod.add_metabolites()](\n",
    "module/cobramod/index.html#cobramod.add_metabolites)\n",
    "is an extension of the COBRApy function\n",
    "[model.add_metabolites()](\n",
    "https://cobrapy.readthedocs.io/en/latest/autoapi/cobra/core/model/index.html#cobra.core.model.Model.add_metabolites)\n",
    "the user can also utilize COBRApy metabolites. In the following example, we use a variation of the test model (`textbook_biocyc`) which uses\n",
    "BioCyc metabolite identifiers. We copy a COBRApy metabolite from\n",
    "the test model and add it to the BioCyc-test model. "
   ]
  },
  {
   "cell_type": "code",
   "execution_count": 9,
   "metadata": {
    "colab": {
     "base_uri": "https://localhost:8080/",
     "height": 147
    },
    "id": "KN5D_mmH740z",
    "outputId": "f18eee40-53a7-44f7-817b-d532700cbf16"
   },
   "outputs": [
    {
     "data": {
      "text/html": [
       "\n",
       "        <table>\n",
       "            <tr>\n",
       "                <td><strong>Metabolite identifier</strong></td><td>xu5p__D_c</td>\n",
       "            </tr><tr>\n",
       "                <td><strong>Name</strong></td><td>D-Xylulose 5-phosphate</td>\n",
       "            </tr><tr>\n",
       "                <td><strong>Memory address</strong></td>\n",
       "                <td>0x07fed40d5e390</td>\n",
       "            </tr><tr>\n",
       "                <td><strong>Formula</strong></td><td>C5H9O8P</td>\n",
       "            </tr><tr>\n",
       "                <td><strong>Compartment</strong></td><td>c</td>\n",
       "            </tr><tr>\n",
       "                <td><strong>In 3 reaction(s)</strong></td><td>\n",
       "                    RPE, TKT2, TKT1</td>\n",
       "            </tr>\n",
       "        </table>"
      ],
      "text/plain": [
       "<Metabolite xu5p__D_c at 0x7fed40d5e390>"
      ]
     },
     "execution_count": 9,
     "metadata": {},
     "output_type": "execute_result"
    }
   ],
   "source": [
    "from cobramod import add_metabolites\n",
    "from cobramod.test import textbook, textbook_biocyc\n",
    "                        \n",
    "# Copying Metabolite from original model\n",
    "metabolite = textbook.metabolites.get_by_id(\"xu5p__D_c\")\n",
    "# Using a copy\n",
    "test_model = textbook_biocyc.copy()\n",
    "add_metabolites(\n",
    "    model=test_model,\n",
    "    obj=metabolite\n",
    ")\n",
    "                                                               \n",
    "test_model.metabolites.get_by_id(\"xu5p__D_c\")"
   ]
  },
  {
   "cell_type": "markdown",
   "metadata": {
    "id": "P6oD20PKuJYu"
   },
   "source": [
    "If CobraMod detects large molecules (e.g.  enzymes) or if the metabolite information does not include a chemical formula the user receives a warning. In this example, we use the enzyme with the MetaCyc identifier `Red-NADPH-Hemoprotein-Reductases` and add it to the test model. CobraMod raises a warning due to the missing chemical formula."
   ]
  },
  {
   "cell_type": "code",
   "execution_count": 10,
   "metadata": {
    "colab": {
     "base_uri": "https://localhost:8080/",
     "height": 208
    },
    "id": "z3WOnVwEuJi2",
    "outputId": "d00f6447-75a8-45f8-ea39-178aa719fb28"
   },
   "outputs": [
    {
     "name": "stderr",
     "output_type": "stream",
     "text": [
      "/home/stefano/Documents/cobramod/src/cobramod/parsing/biocyc.py:110: UserWarning: Sum formula for the metabolite \"Red-NADPH-Hemoprotein-Reductases\" from BioCyc could not be found. Formula set to \"X\" and charge to 0. Please curate.\n",
      "  warn(msg)\n"
     ]
    },
    {
     "data": {
      "text/html": [
       "\n",
       "        <table>\n",
       "            <tr>\n",
       "                <td><strong>Metabolite identifier</strong></td><td>Red_NADPH_Hemoprotein_Reductases_c</td>\n",
       "            </tr><tr>\n",
       "                <td><strong>Name</strong></td><td>Red-NADPH-Hemoprotein-Reductases</td>\n",
       "            </tr><tr>\n",
       "                <td><strong>Memory address</strong></td>\n",
       "                <td>0x07fed4076c410</td>\n",
       "            </tr><tr>\n",
       "                <td><strong>Formula</strong></td><td>X</td>\n",
       "            </tr><tr>\n",
       "                <td><strong>Compartment</strong></td><td>c</td>\n",
       "            </tr><tr>\n",
       "                <td><strong>In 0 reaction(s)</strong></td><td>\n",
       "                    </td>\n",
       "            </tr>\n",
       "        </table>"
      ],
      "text/plain": [
       "<Metabolite Red_NADPH_Hemoprotein_Reductases_c at 0x7fed4076c410>"
      ]
     },
     "execution_count": 10,
     "metadata": {},
     "output_type": "execute_result"
    }
   ],
   "source": [
    "# Using a copy\n",
    "test_model = textbook.copy()\n",
    "\n",
    "add_metabolites(\n",
    "    model=test_model,\n",
    "    obj=\"Red-NADPH-Hemoprotein-Reductases, c\",\n",
    "    directory=dir_data,\n",
    "    database=\"META\",\n",
    ")\n",
    "test_model.metabolites.get_by_id(\"Red_NADPH_Hemoprotein_Reductases_c\")"
   ]
  },
  {
   "cell_type": "markdown",
   "metadata": {
    "id": "7OCkus3m740z"
   },
   "source": [
    "----------------\n",
    "\n",
    "**NOTES**\n",
    "\n",
    "- CobraMod replaces hyphens (`-`) with underscores (`_`) in the identifiers when\n",
    "creating COBRApy metabolites.\n",
    "- When adding several metabolites the user can only specify one database identifier (It is not possible to use two databases within the same\n",
    "function call) or alternatively should call the function twice.\n",
    "\n",
    "----------------\n",
    "\n",
    "## Adding reactions\n",
    "\n",
    "The function [cobramod.add_reactions()](\n",
    "module/cobramod/index.html#cobramod.add_reactions) extends the COBRApy\n",
    "function [model.add_reactions()](\n",
    "https://cobrapy.readthedocs.io/en/latest/autoapi/cobra/index.html?highlight=optimize#cobra.Model.add_reactions\n",
    ") and can be used with a simple syntax. It can utilize a single string, a \n",
    "list of string, a file path or a COBRApy reaction object. In the examples we\n",
    "showcase these options. Again, we use the *E. coli* core model from COBRApy as test model. \n",
    " \n",
    "If the argument `obj` is used as a string, it can be the\n",
    "database-specific identifier of the respective reaction and its\n",
    "compartment or a user-curated reaction. It uses the following syntax:\n",
    "\n",
    "--------\n",
    "\n",
    "**SYNTAX**  \n",
    "\n",
    "To add reaction information from a database:\n",
    "\n",
    "    database-specific_identifier, compartment\n",
    "\n",
    "To add user-curated reactions, the user should write the identifier and name of the reaction following the [COBRApy reaction string syntax](\n",
    "  https://cobrapy.readthedocs.io/en/latest/autoapi/cobra/core/reaction/index.html#cobra.core.reaction.Reaction.build_reaction_from_string\n",
    "):\n",
    "\n",
    "    user-curated_identifier, name | coefficient_1 metabolite_1 <-> coefficient_2 metabolite_2\n",
    "\n",
    "Metabolites must contain a suffix which specifies the compartment. This is given by an underscore (`_`) followed by the compartment-abbreviation. In this case we create a transport of oxygen between the external comparment \n",
    "(`e`) and cytosol (`c`): \n",
    "\n",
    "    TRANS_H2O_ec, Oxygen Transport | 2 OXYGEN-MOLECULE_e <-> 2 OXYGEN_MOLECULE_c\n",
    "\n",
    "-------\n",
    "\n",
    "In the first example we add the KEGG reaction [R04382](https://www.kegg.jp/dbget-bin/www_bget?rn:R04382) to the test model. The first argument is the model to extend. The `obj` argument use the identifier `R04382` and the compartment `c`. The next argument is the database identifier (`KEGG`) and finally the directory where CobraMod stores and uses the metabolic pathway information. The argument `genome` is a  KEGG-specific argument. Please read the notes below for more information about it.\n",
    "\n",
    "CobraMod parses the reaction information for gene identifiers and automatically adds them to the COBRApy reaction. In this example, CobraMod creates the gene `c0319` and adds it to the reaction."
   ]
  },
  {
   "cell_type": "code",
   "execution_count": 11,
   "metadata": {
    "colab": {
     "base_uri": "https://localhost:8080/",
     "height": 224
    },
    "id": "Gcf5g4dB740z",
    "outputId": "a04e69f7-ebe7-4443-bddf-4e2e495d9e68"
   },
   "outputs": [
    {
     "data": {
      "text/html": [
       "\n",
       "        <table>\n",
       "            <tr>\n",
       "                <td><strong>Reaction identifier</strong></td><td>R04382_c</td>\n",
       "            </tr><tr>\n",
       "                <td><strong>Name</strong></td><td>4-(4-deoxy-alpha-D-galact-4-enuronosyl)-D-galacturonate lyase</td>\n",
       "            </tr><tr>\n",
       "                <td><strong>Memory address</strong></td>\n",
       "                <td>0x07fed36085f50</td>\n",
       "            </tr><tr>\n",
       "                <td><strong>Stoichiometry</strong></td>\n",
       "                <td>\n",
       "                    <p style='text-align:right'>C06118_c <=> 2.0 C04053_c</p>\n",
       "                    <p style='text-align:right'>4-(4-Deoxy-alpha-D-gluc-4-enuronosyl)-D-galacturonate; <=> 2.0 5-Dehydro-4-deoxy-D-glucuronate;</p>\n",
       "                </td>\n",
       "            </tr><tr>\n",
       "                <td><strong>GPR</strong></td><td>c0319</td>\n",
       "            </tr><tr>\n",
       "                <td><strong>Lower bound</strong></td><td>-1000</td>\n",
       "            </tr><tr>\n",
       "                <td><strong>Upper bound</strong></td><td>1000</td>\n",
       "            </tr>\n",
       "        </table>\n",
       "        "
      ],
      "text/plain": [
       "<Reaction R04382_c at 0x7fed36085f50>"
      ]
     },
     "metadata": {},
     "output_type": "display_data"
    },
    {
     "name": "stdout",
     "output_type": "stream",
     "text": [
      "frozenset({<Gene c0319 at 0x7fed40a568d0>})\n"
     ]
    }
   ],
   "source": [
    "from cobramod.test import textbook_kegg\n",
    "from cobramod import add_reactions\n",
    "from pathlib import Path\n",
    "                                                           \n",
    "dir_data = Path.cwd().resolve().joinpath(\"data\")\n",
    "# Using copy\n",
    "test_model = textbook_kegg.copy()\n",
    "                                                           \n",
    "add_reactions(\n",
    "    model=test_model,\n",
    "    obj=\"R04382, c\",\n",
    "    database=\"KEGG\",\n",
    "    directory=dir_data,\n",
    "    genome=\"ecc\"\n",
    ")\n",
    "                                                           \n",
    "display(test_model.reactions.get_by_id(\"R04382_c\"))\n",
    "print(test_model.reactions.get_by_id(\"R04382_c\").genes)"
   ]
  },
  {
   "cell_type": "markdown",
   "metadata": {
    "id": "DgOH_6OQ740z"
   },
   "source": [
    "In the second example, we add two reactions ([R04382](\n",
    "  https://www.kegg.jp/entry/R04382\n",
    ") and [R02736](\n",
    "  https://www.kegg.jp/entry/R02736\n",
    " )) from KEGG. We introduce in the argument\n",
    "`obj` a list with the database-specific identifier and their compartments. The\n",
    "rest of the arguments remain the same as the previous example. CobraMod skips\n",
    "the addition of reactions that are already included into the model and shows\n",
    "a warning. The reaction information contains multiple cross-references database entries. If an entry is found in the model, then CobraMod uses it instead of creating a new COBRApy Reaction."
   ]
  },
  {
   "cell_type": "code",
   "execution_count": 12,
   "metadata": {
    "colab": {
     "base_uri": "https://localhost:8080/",
     "height": 432
    },
    "id": "5hC8-O3v740z",
    "outputId": "065dd37d-a931-4755-d09a-33621eeaacba"
   },
   "outputs": [
    {
     "name": "stderr",
     "output_type": "stream",
     "text": [
      "/home/stefano/Documents/cobramod/src/cobramod/core/creation.py:1116: UserWarning: Reaction \"R04382_c\" is already present in the model. Skipping addition.\n",
      "  warn(message=msg, category=UserWarning)\n"
     ]
    },
    {
     "data": {
      "text/html": [
       "\n",
       "        <table>\n",
       "            <tr>\n",
       "                <td><strong>Reaction identifier</strong></td><td>R04382_c</td>\n",
       "            </tr><tr>\n",
       "                <td><strong>Name</strong></td><td>4-(4-deoxy-alpha-D-galact-4-enuronosyl)-D-galacturonate lyase</td>\n",
       "            </tr><tr>\n",
       "                <td><strong>Memory address</strong></td>\n",
       "                <td>0x07fed36085f50</td>\n",
       "            </tr><tr>\n",
       "                <td><strong>Stoichiometry</strong></td>\n",
       "                <td>\n",
       "                    <p style='text-align:right'>C06118_c <=> 2.0 C04053_c</p>\n",
       "                    <p style='text-align:right'>4-(4-Deoxy-alpha-D-gluc-4-enuronosyl)-D-galacturonate; <=> 2.0 5-Dehydro-4-deoxy-D-glucuronate;</p>\n",
       "                </td>\n",
       "            </tr><tr>\n",
       "                <td><strong>GPR</strong></td><td>c0319</td>\n",
       "            </tr><tr>\n",
       "                <td><strong>Lower bound</strong></td><td>-1000</td>\n",
       "            </tr><tr>\n",
       "                <td><strong>Upper bound</strong></td><td>1000</td>\n",
       "            </tr>\n",
       "        </table>\n",
       "        "
      ],
      "text/plain": [
       "<Reaction R04382_c at 0x7fed36085f50>"
      ]
     },
     "metadata": {},
     "output_type": "display_data"
    },
    {
     "data": {
      "text/html": [
       "\n",
       "        <table>\n",
       "            <tr>\n",
       "                <td><strong>Reaction identifier</strong></td><td>R02736_c</td>\n",
       "            </tr><tr>\n",
       "                <td><strong>Name</strong></td><td>beta-D-glucose-6-phosphate:NADP+ 1-oxoreductase</td>\n",
       "            </tr><tr>\n",
       "                <td><strong>Memory address</strong></td>\n",
       "                <td>0x07fed40fa3890</td>\n",
       "            </tr><tr>\n",
       "                <td><strong>Stoichiometry</strong></td>\n",
       "                <td>\n",
       "                    <p style='text-align:right'>C00006_c + C01172_c --> C00005_c + C00080_c + C01236_c</p>\n",
       "                    <p style='text-align:right'>Nicotinamide adenine dinucleotide phosphate + beta-D-Glucose 6-phosphate --> Nicotinamide adenine dinucleotide phosphate - reduced + H+ + 6-phospho-D-glucono-1,5-lactone</p>\n",
       "                </td>\n",
       "            </tr><tr>\n",
       "                <td><strong>GPR</strong></td><td>c2265</td>\n",
       "            </tr><tr>\n",
       "                <td><strong>Lower bound</strong></td><td>0</td>\n",
       "            </tr><tr>\n",
       "                <td><strong>Upper bound</strong></td><td>1000</td>\n",
       "            </tr>\n",
       "        </table>\n",
       "        "
      ],
      "text/plain": [
       "<Reaction R02736_c at 0x7fed40fa3890>"
      ]
     },
     "execution_count": 12,
     "metadata": {},
     "output_type": "execute_result"
    }
   ],
   "source": [
    "add_reactions(\n",
    "    model=test_model,\n",
    "    obj=[\"R04382, c\", \"R02736 ,c\"],\n",
    "    directory=dir_data,\n",
    "    database=\"KEGG\",\n",
    "    genome=\"ecc\"\n",
    ")\n",
    "                                                            \n",
    "display(test_model.reactions.get_by_id(\"R04382_c\"))\n",
    "test_model.reactions.get_by_id(\"R02736_c\")"
   ]
  },
  {
   "cell_type": "markdown",
   "metadata": {
    "id": "GYPUKYn27400"
   },
   "source": [
    "In the following example, we use a text file to add reactions to the test model.\n",
    "We have the file *reactions.txt* in the current working directory with:\n",
    "\n",
    "    R04382, c  \n",
    "    R02736, c  \n",
    "    C06118_ce, digalacturonate transport | 1 C06118_c <-> 1 C06118_e\n",
    "\n",
    "CobraMod downloads the first two reactions from KEGG, while `C06118_ce` is a\n",
    "user-defined reaction.\n",
    "\n",
    "The user can utilize the file path for this file in the `obj` argument to add\n",
    "the reactions to the test model. The next arguments are the same as in the\n",
    "previous examples. We added two print statements to show that CobraMod adds\n",
    "the reaction to the model."
   ]
  },
  {
   "cell_type": "code",
   "execution_count": 13,
   "metadata": {
    "colab": {
     "base_uri": "https://localhost:8080/",
     "height": 619
    },
    "id": "KGb5w8FO7400",
    "outputId": "81a0dcf9-02ea-47e8-ef1f-5b1e503f9df9"
   },
   "outputs": [
    {
     "name": "stdout",
     "output_type": "stream",
     "text": [
      "Number of reactions prior addition: 95\n",
      "Number of reactions after addition: 98\n"
     ]
    },
    {
     "data": {
      "text/html": [
       "\n",
       "        <table>\n",
       "            <tr>\n",
       "                <td><strong>Reaction identifier</strong></td><td>R04382_c</td>\n",
       "            </tr><tr>\n",
       "                <td><strong>Name</strong></td><td>4-(4-deoxy-alpha-D-galact-4-enuronosyl)-D-galacturonate lyase</td>\n",
       "            </tr><tr>\n",
       "                <td><strong>Memory address</strong></td>\n",
       "                <td>0x07fed40ce9490</td>\n",
       "            </tr><tr>\n",
       "                <td><strong>Stoichiometry</strong></td>\n",
       "                <td>\n",
       "                    <p style='text-align:right'>C06118_c <=> 2.0 C04053_c</p>\n",
       "                    <p style='text-align:right'>4-(4-Deoxy-alpha-D-gluc-4-enuronosyl)-D-galacturonate; <=> 2.0 5-Dehydro-4-deoxy-D-glucuronate;</p>\n",
       "                </td>\n",
       "            </tr><tr>\n",
       "                <td><strong>GPR</strong></td><td>c0319</td>\n",
       "            </tr><tr>\n",
       "                <td><strong>Lower bound</strong></td><td>-1000</td>\n",
       "            </tr><tr>\n",
       "                <td><strong>Upper bound</strong></td><td>1000</td>\n",
       "            </tr>\n",
       "        </table>\n",
       "        "
      ],
      "text/plain": [
       "<Reaction R04382_c at 0x7fed40ce9490>"
      ]
     },
     "metadata": {},
     "output_type": "display_data"
    },
    {
     "data": {
      "text/html": [
       "\n",
       "        <table>\n",
       "            <tr>\n",
       "                <td><strong>Reaction identifier</strong></td><td>R02736_c</td>\n",
       "            </tr><tr>\n",
       "                <td><strong>Name</strong></td><td>beta-D-glucose-6-phosphate:NADP+ 1-oxoreductase</td>\n",
       "            </tr><tr>\n",
       "                <td><strong>Memory address</strong></td>\n",
       "                <td>0x07fed40ce9b10</td>\n",
       "            </tr><tr>\n",
       "                <td><strong>Stoichiometry</strong></td>\n",
       "                <td>\n",
       "                    <p style='text-align:right'>C00006_c + C01172_c --> C00005_c + C00080_c + C01236_c</p>\n",
       "                    <p style='text-align:right'>Nicotinamide adenine dinucleotide phosphate + beta-D-Glucose 6-phosphate --> Nicotinamide adenine dinucleotide phosphate - reduced + H+ + 6-phospho-D-glucono-1,5-lactone</p>\n",
       "                </td>\n",
       "            </tr><tr>\n",
       "                <td><strong>GPR</strong></td><td>c2265</td>\n",
       "            </tr><tr>\n",
       "                <td><strong>Lower bound</strong></td><td>0</td>\n",
       "            </tr><tr>\n",
       "                <td><strong>Upper bound</strong></td><td>1000</td>\n",
       "            </tr>\n",
       "        </table>\n",
       "        "
      ],
      "text/plain": [
       "<Reaction R02736_c at 0x7fed40ce9b10>"
      ]
     },
     "metadata": {},
     "output_type": "display_data"
    },
    {
     "data": {
      "text/html": [
       "\n",
       "        <table>\n",
       "            <tr>\n",
       "                <td><strong>Reaction identifier</strong></td><td>C06118_ce</td>\n",
       "            </tr><tr>\n",
       "                <td><strong>Name</strong></td><td>digalacturonate transport</td>\n",
       "            </tr><tr>\n",
       "                <td><strong>Memory address</strong></td>\n",
       "                <td>0x07fed406b5290</td>\n",
       "            </tr><tr>\n",
       "                <td><strong>Stoichiometry</strong></td>\n",
       "                <td>\n",
       "                    <p style='text-align:right'>C06118_c <=> C06118_e</p>\n",
       "                    <p style='text-align:right'>4-(4-Deoxy-alpha-D-gluc-4-enuronosyl)-D-galacturonate; <=> 4-(4-Deoxy-alpha-D-gluc-4-enuronosyl)-D-galacturonate;</p>\n",
       "                </td>\n",
       "            </tr><tr>\n",
       "                <td><strong>GPR</strong></td><td></td>\n",
       "            </tr><tr>\n",
       "                <td><strong>Lower bound</strong></td><td>-1000</td>\n",
       "            </tr><tr>\n",
       "                <td><strong>Upper bound</strong></td><td>1000</td>\n",
       "            </tr>\n",
       "        </table>\n",
       "        "
      ],
      "text/plain": [
       "<Reaction C06118_ce at 0x7fed406b5290>"
      ]
     },
     "execution_count": 13,
     "metadata": {},
     "output_type": "execute_result"
    }
   ],
   "source": [
    "from cobramod.test import textbook_kegg\n",
    "from cobramod import add_reactions\n",
    "from pathlib import Path\n",
    "                                                                     \n",
    "dir_data = Path.cwd().resolve().joinpath(\"data\")\n",
    "test_model = textbook_kegg.copy()\n",
    "# This is the file with text\n",
    "file = dir_data.joinpath(\"reactions.txt\")\n",
    "\n",
    "print(f'Number of reactions prior addition: {len(test_model.reactions)}')\n",
    "                                                                     \n",
    "add_reactions(\n",
    "    model=test_model,\n",
    "    obj=file,\n",
    "    directory=dir_data,\n",
    "    database=\"KEGG\",\n",
    "    genome=\"ecc\"\n",
    ")\n",
    "\n",
    "print(f'Number of reactions after addition: {len(test_model.reactions)}')\n",
    "# Show in jupyter\n",
    "display(test_model.reactions.get_by_id(\"R04382_c\"))\n",
    "display(test_model.reactions.get_by_id(\"R02736_c\"))\n",
    "test_model.reactions.get_by_id(\"C06118_ce\")"
   ]
  },
  {
   "cell_type": "markdown",
   "metadata": {
    "id": "4ywVo8-X7400"
   },
   "source": [
    "Since [cobramod.add_reactions()](\n",
    "module/cobramod/index.html#cobramod.add_reactions\n",
    ") is an extension of the original COBRApy function\n",
    "[model.add_reactions()](https://cobrapy.readthedocs.io/en/latest/autoapi/cobra/index.html?highlight=optimize#cobra.Model.add_reactions) the user can also\n",
    "utilize COBRApy reactions. In this example, we use a variation of the test model\n",
    "(`textbook_kegg`) which uses KEGG identifiers for their metabolites. We copy a\n",
    "COBRApy Reaction from the test model and then add it to the KEGG-test model."
   ]
  },
  {
   "cell_type": "code",
   "execution_count": 14,
   "metadata": {
    "colab": {
     "base_uri": "https://localhost:8080/",
     "height": 245
    },
    "id": "BheNVhsz7401",
    "outputId": "100526d2-470b-40fb-e452-49669a947791"
   },
   "outputs": [
    {
     "name": "stderr",
     "output_type": "stream",
     "text": [
      "/home/stefano/Documents/cobramod/src/cobramod/core/creation.py:1116: UserWarning: Reaction \"ACALDt\" is already present in the model. Skipping addition.\n",
      "  warn(message=msg, category=UserWarning)\n"
     ]
    },
    {
     "data": {
      "text/html": [
       "\n",
       "        <table>\n",
       "            <tr>\n",
       "                <td><strong>Reaction identifier</strong></td><td>ACALDt</td>\n",
       "            </tr><tr>\n",
       "                <td><strong>Name</strong></td><td>R acetaldehyde reversible - transport</td>\n",
       "            </tr><tr>\n",
       "                <td><strong>Memory address</strong></td>\n",
       "                <td>0x07fed406b5210</td>\n",
       "            </tr><tr>\n",
       "                <td><strong>Stoichiometry</strong></td>\n",
       "                <td>\n",
       "                    <p style='text-align:right'>C00084_e <=> C00084_c</p>\n",
       "                    <p style='text-align:right'>Acetaldehyde <=> Acetaldehyde</p>\n",
       "                </td>\n",
       "            </tr><tr>\n",
       "                <td><strong>GPR</strong></td><td>s0001</td>\n",
       "            </tr><tr>\n",
       "                <td><strong>Lower bound</strong></td><td>-1000.0</td>\n",
       "            </tr><tr>\n",
       "                <td><strong>Upper bound</strong></td><td>1000.0</td>\n",
       "            </tr>\n",
       "        </table>\n",
       "        "
      ],
      "text/plain": [
       "<Reaction ACALDt at 0x7fed406b5210>"
      ]
     },
     "execution_count": 14,
     "metadata": {},
     "output_type": "execute_result"
    }
   ],
   "source": [
    "from cobramod.test import textbook_kegg, textbook\n",
    "from cobramod import add_reactions\n",
    "from pathlib import Path\n",
    "\n",
    "# Using copy of test model\n",
    "test_model = textbook_kegg.copy()\n",
    "# Obtaining a reaction\n",
    "reaction = textbook.reactions.get_by_id(\"ACALDt\")\n",
    "                                                                  \n",
    "add_reactions(model=test_model, obj=reaction)\n",
    "\n",
    "test_model.reactions.get_by_id(\"ACALDt\")"
   ]
  },
  {
   "cell_type": "markdown",
   "metadata": {
    "id": "1SkvGCvLnK-9"
   },
   "source": [
    " By default, COBRApy ignores metabolites that appear on\n",
    "both sides of a reaction equation. CobraMod identifies such reactions and assigns one of these metabolites to the extracellular compartment and raises a\n",
    "warning expecting the user to manual curate it. In the following example, we\n",
    "add a\n",
    "[transport reaction for acetic acid](\n",
    "https://biocyc.org/META/new-image?object=TRANS-RXN-455\n",
    ") from BioCyc sub-database `YEAST` to the test model."
   ]
  },
  {
   "cell_type": "code",
   "execution_count": 15,
   "metadata": {
    "colab": {
     "base_uri": "https://localhost:8080/",
     "height": 265
    },
    "id": "IA2OwzjmbeZJ",
    "outputId": "82a99d83-9a0d-4dcb-f24f-80575176b657"
   },
   "outputs": [
    {
     "name": "stderr",
     "output_type": "stream",
     "text": [
      "/home/stefano/Documents/cobramod/src/cobramod/core/creation.py:376: UserWarning: Reaction \"TRANS_RXN_455_c\" has metabolite \"CPD_24335_e\" on both sides of the equation (e.g transport reaction). COBRApy ignores these metabolites. To avoid this, by default, CobraMod will assign one metabolite to the extracellular compartment. Please curate the reaction if necessary.\n",
      "  warn(message=msg, category=UserWarning)\n"
     ]
    },
    {
     "data": {
      "text/html": [
       "\n",
       "        <table>\n",
       "            <tr>\n",
       "                <td><strong>Reaction identifier</strong></td><td>TRANS_RXN_455_c</td>\n",
       "            </tr><tr>\n",
       "                <td><strong>Name</strong></td><td>acetic acid uptake</td>\n",
       "            </tr><tr>\n",
       "                <td><strong>Memory address</strong></td>\n",
       "                <td>0x07fed35eea5d0</td>\n",
       "            </tr><tr>\n",
       "                <td><strong>Stoichiometry</strong></td>\n",
       "                <td>\n",
       "                    <p style='text-align:right'>CPD_24335_e --> CPD_24335_c</p>\n",
       "                    <p style='text-align:right'>acetic+acid --> acetic+acid</p>\n",
       "                </td>\n",
       "            </tr><tr>\n",
       "                <td><strong>GPR</strong></td><td>G3O-32144</td>\n",
       "            </tr><tr>\n",
       "                <td><strong>Lower bound</strong></td><td>0</td>\n",
       "            </tr><tr>\n",
       "                <td><strong>Upper bound</strong></td><td>1000</td>\n",
       "            </tr>\n",
       "        </table>\n",
       "        "
      ],
      "text/plain": [
       "<Reaction TRANS_RXN_455_c at 0x7fed35eea5d0>"
      ]
     },
     "execution_count": 15,
     "metadata": {},
     "output_type": "execute_result"
    }
   ],
   "source": [
    "test_model = textbook_kegg.copy()\n",
    "                                                           \n",
    "add_reactions(\n",
    "    model=test_model,\n",
    "    obj=\"TRANS-RXN-455, c\",\n",
    "    database=\"YEAST\",\n",
    "    directory=dir_data,\n",
    ")\n",
    "# Show in jupyter\n",
    "test_model.reactions.get_by_id(\"TRANS_RXN_455_c\")"
   ]
  },
  {
   "cell_type": "markdown",
   "metadata": {
    "id": "0DzULV_Q7401"
   },
   "source": [
    "---\n",
    "\n",
    "**NOTES**\n",
    "\n",
    "- CobraMod replaces hyphens (`-`) to underscores (`_`) in the identifiers when\n",
    "creating COBRApy reactions.\n",
    "- When adding several reactions the user can only specify one database identifier (It is not possible to use two databases within the same function call) or alternatively should call the function twice.\n",
    "- CobraMod tries to identify reactions or metabolites that are already present\n",
    "in the model. The metabolic pathway information contains multiple\n",
    "cross-references database entries. If an entry is found in the model, then\n",
    "CobraMod uses it instead of creating the COBRApy objects.\n",
    "- The argument `genome` can be used with the database `KEGG` and specifies the genome for which gene information will be retrieved. The complete list of all available genomes can be found [here](\n",
    "https://www.genome.jp/kegg/catalog/org_list.html).\n",
    "If no genome is specified, no gene information will be retrieved and\n",
    "a warning is printed as shown below:"
   ]
  },
  {
   "cell_type": "code",
   "execution_count": 16,
   "metadata": {
    "colab": {
     "base_uri": "https://localhost:8080/",
     "height": 265
    },
    "id": "CvDMHPAP7401",
    "outputId": "0be54231-fbb3-41de-a034-85b8c8618da1"
   },
   "outputs": [
    {
     "name": "stderr",
     "output_type": "stream",
     "text": [
      "/home/stefano/Documents/cobramod/src/cobramod/parsing/kegg.py:196: UserWarning: Nothing was specified in argument \"genome\". Reaction \"R04382\" will not include genes. Please modify if necessary.\n",
      "  warn(message=msg, category=UserWarning)\n"
     ]
    },
    {
     "data": {
      "text/html": [
       "\n",
       "        <table>\n",
       "            <tr>\n",
       "                <td><strong>Reaction identifier</strong></td><td>R04382_c</td>\n",
       "            </tr><tr>\n",
       "                <td><strong>Name</strong></td><td>4-(4-deoxy-alpha-D-galact-4-enuronosyl)-D-galacturonate lyase</td>\n",
       "            </tr><tr>\n",
       "                <td><strong>Memory address</strong></td>\n",
       "                <td>0x07fed35f32210</td>\n",
       "            </tr><tr>\n",
       "                <td><strong>Stoichiometry</strong></td>\n",
       "                <td>\n",
       "                    <p style='text-align:right'>C06118_c <=> 2.0 C04053_c</p>\n",
       "                    <p style='text-align:right'>4-(4-Deoxy-alpha-D-gluc-4-enuronosyl)-D-galacturonate; <=> 2.0 5-Dehydro-4-deoxy-D-glucuronate;</p>\n",
       "                </td>\n",
       "            </tr><tr>\n",
       "                <td><strong>GPR</strong></td><td></td>\n",
       "            </tr><tr>\n",
       "                <td><strong>Lower bound</strong></td><td>-1000</td>\n",
       "            </tr><tr>\n",
       "                <td><strong>Upper bound</strong></td><td>1000</td>\n",
       "            </tr>\n",
       "        </table>\n",
       "        "
      ],
      "text/plain": [
       "<Reaction R04382_c at 0x7fed35f32210>"
      ]
     },
     "execution_count": 16,
     "metadata": {},
     "output_type": "execute_result"
    }
   ],
   "source": [
    "test_model = textbook_kegg.copy()\n",
    "                                                           \n",
    "add_reactions(\n",
    "    model=test_model,\n",
    "    obj=\"R04382, c\",\n",
    "    database=\"KEGG\",\n",
    "    directory=dir_data,\n",
    ")\n",
    "test_model.reactions.get_by_id(\"R04382_c\")"
   ]
  },
  {
   "cell_type": "markdown",
   "metadata": {
    "id": "pbG8COs37402"
   },
   "source": [
    "---\n",
    "\n",
    "## Adding pathways\n",
    " \n",
    "CobraMod can add metabolic pathways to a given model. The function\n",
    "[cobramod.add_pathway()](\n",
    "module/cobramod/index.html#cobramod.add_pathway) can handle either a sequence \n",
    "of database-specific reaction identifiers or a single pathway identifier as an \n",
    "argument. It is recommended to add a pathways singlely. The user should curate\n",
    "the model after adding a pathway if necessary. In the examples below we\n",
    "showcase these two options. Again, we use the *E. coli* core model from COBRApy\n",
    "as test model.\n",
    "\n",
    "In the first example, we add the [acetoacetate degradation pathway](\n",
    "https://biocyc.org/ECOLI/new-image?object=ACETOACETATE-DEG-PWY\n",
    ") from the BioCyc sub-database `ECOLI` to the test model. This pathway contains two reactions and six metabolites.\n",
    "\n",
    "<img src=\"https://websvc.biocyc.org/ECOLI/diagram-only?type=PATHWAY&object=ACETOACETATE-DEG-PWY&pfontsize=normal\"/>\n",
    "\n"
   ]
  },
  {
   "cell_type": "markdown",
   "metadata": {
    "id": "Ek9jKTGcx5Bq"
   },
   "source": [
    "In the following example, the first argument is the model to extend. The `pathway` argument uses the database-specific identifier `ACETOACETATE-DEG-PWY` and the database identifier `ECOLI`. We define the compartment as `c` (cytosol), i.e. all metabolites and reactions will be assigned to the cytosol. With the argument `filename` the user can specify a file to which the summary of the changes is written. All COBRApy reactions included in the pathway are tested for their capacity to cary a non-zero flux. Read more about it in the\n",
    "[non-zero flux test](#Non-zero-flux-test) section. The function shows a summary\n",
    "of the additions and deletions for extending the model with a pathway.\n",
    "\n",
    "\n",
    "Additionally, calling [cobramod.Pathway](\n",
    "module/cobramod/index.html#cobramod.Pathway\n",
    ") outputs a table with the main attributes of the object.\n"
   ]
  },
  {
   "cell_type": "code",
   "execution_count": 17,
   "metadata": {
    "colab": {
     "base_uri": "https://localhost:8080/",
     "height": 651
    },
    "id": "L3kAPVwz7403",
    "outputId": "4c22f301-6bfc-4803-bbf8-94b4ac93d5fd"
   },
   "outputs": [
    {
     "name": "stderr",
     "output_type": "stream",
     "text": [
      "/home/stefano/Documents/cobramod/src/cobramod/core/creation.py:161: UserWarning: Metabolite 'ACETYL-COA' was found as 'accoa_c'. Please curate if necessary.\n",
      "  warn(message=msg, category=UserWarning)\n",
      "/home/stefano/Documents/cobramod/src/cobramod/core/creation.py:161: UserWarning: Metabolite 'ACET' was found as 'ac_c'. Please curate if necessary.\n",
      "  warn(message=msg, category=UserWarning)\n",
      "/home/stefano/Documents/cobramod/src/cobramod/core/creation.py:161: UserWarning: Metabolite 'CO-A' was found as 'coa_c'. Please curate if necessary.\n",
      "  warn(message=msg, category=UserWarning)\n",
      "/home/stefano/Documents/cobramod/src/cobramod/core/extension.py:573: UserWarning: Auxiliary sink reaction for \"SK_3_KETOBUTYRATE_c\" created. Consider removing it and adding the synthesis reactions for the metabolite.\n",
      "  warn(message=msg, category=UserWarning)\n"
     ]
    },
    {
     "name": "stdout",
     "output_type": "stream",
     "text": [
      "Number of       new   | removed entities in\n",
      "*=====================|===================*\n",
      "Reactions        2    |    0              \n",
      "Metabolites      2    |    0              \n",
      "Exchange         0    |    0              \n",
      "Demand           0    |    0              \n",
      "Sinks            1    |    0              \n",
      "Genes            4    |    0              \n",
      "Groups           1    |    0              \n",
      "\n"
     ]
    },
    {
     "data": {
      "text/html": [
       "\n",
       "<table> <tbody> <tr> <td><strong>Pathway identifier</strong></td>\n",
       "<td>ACETOACETATE-DEG-PWY</td> </tr> <tr> <td><strong>Name</strong></td>\n",
       "<td></td> </tr> <tr> <td><strong>Memory address</strong></td>\n",
       "<td>0x0140657564711120</td> </tr> <tr> <td><strong>Reactions involved</strong></td>\n",
       "<td> <p>ACETOACETYL_COA_TRANSFER_RXN_c, ACETYL_COA_ACETYLTRANSFER_RXN_c</p> </td> </tr> <tr>\n",
       "<td><strong>Genes involved<br /></strong></td> <td> <p>EG12432, EG11669, EG11670, EG11672</p> </td> </tr> <tr>\n",
       "<td><strong>Visualization attributes</strong></td> <td> <ul> <li>vertical =\n",
       "False</li> <li>color_negative = None</li>\n",
       "<li>color_positive = None</li> <li>color_quantile =\n",
       "False</li> </ul> </td> </tr> </tbody> </table> <p>&nbsp;</p>\n"
      ],
      "text/plain": [
       "<Pathway ACETOACETATE-DEG-PWY at 0x7fed642df8d0>"
      ]
     },
     "execution_count": 17,
     "metadata": {},
     "output_type": "execute_result"
    }
   ],
   "source": [
    "from pathlib import Path\n",
    "from cobramod import add_pathway\n",
    "from cobramod.test import textbook\n",
    "# Defining directory\n",
    "dir_data = Path.cwd().resolve().joinpath(\"data\")\n",
    "                                   \n",
    "# Using copy of test model\n",
    "test_model = textbook.copy()\n",
    "\n",
    "add_pathway(\n",
    "    model=test_model,\n",
    "    pathway=\"ACETOACETATE-DEG-PWY\",\n",
    "    database=\"ECOLI\",\n",
    "    compartment=\"c\",\n",
    "    filename=\"summary.txt\",\n",
    "    directory=dir_data,\n",
    ")\n",
    "\n",
    "# Display in jupyter\n",
    "test_model.groups.get_by_id(\"ACETOACETATE-DEG-PWY\")"
   ]
  },
  {
   "cell_type": "markdown",
   "metadata": {
    "id": "37naM0897403"
   },
   "source": [
    "Below is an example of the summary in form of a text file. The first\n",
    "part lists names of all reactions, metabolites, exchange reactions,\n",
    "auxiliary demand and sink reactions, genes, and groups in the model. The second part of the summary lists all elements that were added or removed by the function call `add_pathway()`."
   ]
  },
  {
   "cell_type": "code",
   "execution_count": 18,
   "metadata": {
    "colab": {
     "base_uri": "https://localhost:8080/"
    },
    "id": "JYMb89t77404",
    "outputId": "ac5a4cb9-70d7-412d-97ab-0540dba0b49e"
   },
   "outputs": [
    {
     "name": "stdout",
     "output_type": "stream",
     "text": [
      "Summary:\r\n",
      "Model identifier: e_coli_core\r\n",
      "Model name:\r\n",
      "\r\n",
      "Reactions:\r\n",
      "['ACALD', 'ACALDt', 'ACKr', 'ACONTa', 'ACONTb', 'ACt2r', 'ADK1', 'AKGDH', 'AKGt2r', 'ALCD2x', 'ATPM', 'ATPS4r', 'Biomass_Ecoli_core', 'CO2t', 'CS', 'CYTBD', 'D_LACt2', 'ENO', 'ETOHt2r', 'FBA', 'FBP', 'FORt2', 'FORti', 'FRD7', 'FRUpts2', 'FUM', 'FUMt2_2', 'G6PDH2r', 'GAPD', 'GLCpts', 'GLNS', 'GLNabc', 'GLUDy', 'GLUN', 'GLUSy', 'GLUt2r', 'GND', 'H2Ot', 'ICDHyr', 'ICL', 'LDH_D', 'MALS', 'MALt2_2', 'MDH', 'ME1', 'ME2', 'NADH16', 'NADTRHD', 'NH4t', 'O2t', 'PDH', 'PFK', 'PFL', 'PGI', 'PGK', 'PGL', 'PGM', 'PIt2r', 'PPC', 'PPCK', 'PPS', 'PTAr', 'PYK', 'PYRt2', 'RPE', 'RPI', 'SUCCt2_2', 'SUCCt3', 'SUCDi', 'SUCOAS', 'TALA', 'THD2', 'TKT1', 'TKT2', 'TPI', 'ACETOACETYL_COA_TRANSFER_RXN_c', 'ACETYL_COA_ACETYLTRANSFER_RXN_c']\r\n",
      "Metabolites:\r\n",
      "['13dpg_c', '2pg_c', '3pg_c', '6pgc_c', '6pgl_c', 'ac_c', 'ac_e', 'acald_c', 'acald_e', 'accoa_c', 'acon_C_c', 'actp_c', 'adp_c', 'akg_c', 'akg_e', 'amp_c', 'atp_c', 'cit_c', 'co2_c', 'co2_e', 'coa_c', 'dhap_c', 'e4p_c', 'etoh_c', 'etoh_e', 'f6p_c', 'fdp_c', 'for_c', 'for_e', 'fru_e', 'fum_c', 'fum_e', 'g3p_c', 'g6p_c', 'glc__D_e', 'gln__L_c', 'gln__L_e', 'glu__L_c', 'glu__L_e', 'glx_c', 'h2o_c', 'h2o_e', 'h_c', 'h_e', 'icit_c', 'lac__D_c', 'lac__D_e', 'mal__L_c', 'mal__L_e', 'nad_c', 'nadh_c', 'nadp_c', 'nadph_c', 'nh4_c', 'nh4_e', 'o2_c', 'o2_e', 'oaa_c', 'pep_c', 'pi_c', 'pi_e', 'pyr_c', 'pyr_e', 'q8_c', 'q8h2_c', 'r5p_c', 'ru5p__D_c', 's7p_c', 'succ_c', 'succ_e', 'succoa_c', 'xu5p__D_c', '3_KETOBUTYRATE_c', 'ACETOACETYL_COA_c']\r\n",
      "Exchange:\r\n",
      "['EX_ac_e', 'EX_acald_e', 'EX_akg_e', 'EX_co2_e', 'EX_etoh_e', 'EX_for_e', 'EX_fru_e', 'EX_fum_e', 'EX_glc__D_e', 'EX_gln__L_e', 'EX_glu__L_e', 'EX_h_e', 'EX_h2o_e', 'EX_lac__D_e', 'EX_mal__L_e', 'EX_nh4_e', 'EX_o2_e', 'EX_pi_e', 'EX_pyr_e', 'EX_succ_e']\r\n",
      "Demand:\r\n",
      "[]\r\n",
      "Sinks:\r\n",
      "['SK_3_KETOBUTYRATE_c']\r\n",
      "Genes:\r\n",
      "['b1241', 'b0351', 's0001', 'b3115', 'b1849', 'b2296', 'b1276', 'b0118', 'b0474', 'b0116', 'b0726', 'b0727', 'b2587', 'b0356', 'b1478', 'b3735', 'b3733', 'b3734', 'b3732', 'b3736', 'b3738', 'b3731', 'b3737', 'b3739', 'b0720', 'b0733', 'b0979', 'b0978', 'b0734', 'b2975', 'b3603', 'b2779', 'b1773', 'b2925', 'b2097', 'b4232', 'b3925', 'b0904', 'b2492', 'b4154', 'b4152', 'b4153', 'b4151', 'b1819', 'b1817', 'b2415', 'b1818', 'b2416', 'b1611', 'b4122', 'b1612', 'b3528', 'b1852', 'b1779', 'b1621', 'b1101', 'b2417', 'b3870', 'b1297', 'b0809', 'b0810', 'b0811', 'b1761', 'b1524', 'b1812', 'b0485', 'b3213', 'b3212', 'b4077', 'b2029', 'b0875', 'b1136', 'b4015', 'b2133', 'b1380', 'b4014', 'b2976', 'b3236', 'b1479', 'b2463', 'b2286', 'b2279', 'b2276', 'b2280', 'b2288', 'b2284', 'b2287', 'b2281', 'b2277', 'b2285', 'b2282', 'b2278', 'b2283', 'b3962', 'b1602', 'b1603', 'b0451', 'b0114', 'b0115', 'b3916', 'b1723', 'b0902', 'b0903', 'b2579', 'b3114', 'b3952', 'b3951', 'b4025', 'b2926', 'b0767', 'b0755', 'b3612', 'b4395', 'b3493', 'b2987', 'b3956', 'b3403', 'b1702', 'b2297', 'b2458', 'b1676', 'b1854', 'b4301', 'b3386', 'b2914', 'b4090', 'b0722', 'b0724', 'b0721', 'b0723', 'b0728', 'b0729', 'b2464', 'b0008', 'b2935', 'b2465', 'b3919', 'EG12432', 'EG11669', 'EG11670', 'EG11672']\r\n",
      "Groups:\r\n",
      "['ACETOACETATE-DEG-PWY']\r\n",
      "\r\n",
      "New:\r\n",
      "Reactions:\r\n",
      "['ACETOACETYL_COA_TRANSFER_RXN_c', 'ACETYL_COA_ACETYLTRANSFER_RXN_c']\r\n",
      "Metabolites:\r\n",
      "['3_KETOBUTYRATE_c', 'ACETOACETYL_COA_c']\r\n",
      "Exchange:\r\n",
      "[]\r\n",
      "Demand:\r\n",
      "[]\r\n",
      "Sinks:\r\n",
      "['SK_3_KETOBUTYRATE_c']\r\n",
      "Genes:\r\n",
      "['EG12432', 'EG11669', 'EG11670', 'EG11672']\r\n",
      "Groups:\r\n",
      "['ACETOACETATE-DEG-PWY']\r\n",
      "\r\n",
      "Removed:\r\n",
      "Reactions:\r\n",
      "[]\r\n",
      "Metabolites:\r\n",
      "[]\r\n",
      "Exchange:\r\n",
      "[]\r\n",
      "Demand:\r\n",
      "[]\r\n",
      "Sinks:\r\n",
      "[]\r\n",
      "Genes:\r\n",
      "[]\r\n",
      "Groups:\r\n",
      "[]\r\n",
      "\r\n"
     ]
    }
   ],
   "source": [
    "%cat summary.txt"
   ]
  },
  {
   "cell_type": "markdown",
   "metadata": {
    "id": "5E3kqIV17406"
   },
   "source": [
    "In the next example, we use a list of database-specific reaction identifiers as `pathway` argument. We use the database identifier `ECOLI` and the\n",
    "compartment `c` (cytosol). Additionally, we define a pathway name by using the argument `group`. The user can also use this argument to merge pathways by using the same group names."
   ]
  },
  {
   "cell_type": "code",
   "execution_count": 19,
   "metadata": {
    "colab": {
     "base_uri": "https://localhost:8080/",
     "height": 651
    },
    "id": "DXh3EVxU7406",
    "outputId": "4dc33e3e-a6b7-44e6-e259-6349fbe6047c"
   },
   "outputs": [
    {
     "name": "stdout",
     "output_type": "stream",
     "text": [
      "Number of reaction prior addition: 95\n",
      "Number of       new   | removed entities in\n",
      "*=====================|===================*\n",
      "Reactions        3    |    0              \n",
      "Metabolites      2    |    0              \n",
      "Exchange         0    |    0              \n",
      "Demand           0    |    0              \n",
      "Sinks            1    |    0              \n",
      "Genes           11    |    0              \n",
      "Groups           1    |    0              \n",
      "\n",
      "Number of reactions after addition: 99\n"
     ]
    },
    {
     "name": "stderr",
     "output_type": "stream",
     "text": [
      "/home/stefano/Documents/cobramod/src/cobramod/core/creation.py:161: UserWarning: Metabolite 'ATP' was found as 'ATP_c'. Please curate if necessary.\n",
      "  warn(message=msg, category=UserWarning)\n",
      "/home/stefano/Documents/cobramod/src/cobramod/core/creation.py:161: UserWarning: Metabolite 'ADP' was found as 'ADP_c'. Please curate if necessary.\n",
      "  warn(message=msg, category=UserWarning)\n",
      "/home/stefano/Documents/cobramod/src/cobramod/core/extension.py:685: UserWarning: Auxiliary sink reaction for \"SK_HYDROGEN_MOLECULE_c\" created. Consider removing it and adding the synthesis reactions for the metabolite.\n",
      "  warn(message=msg, category=UserWarning)\n"
     ]
    },
    {
     "data": {
      "text/html": [
       "\n",
       "<table> <tbody> <tr> <td><strong>Pathway identifier</strong></td>\n",
       "<td>curated_pathway</td> </tr> <tr> <td><strong>Name</strong></td>\n",
       "<td></td> </tr> <tr> <td><strong>Memory address</strong></td>\n",
       "<td>0x0140656786885008</td> </tr> <tr> <td><strong>Reactions involved</strong></td>\n",
       "<td> <p>PEPDEPHOS_RXN_c, PYRUVFORMLY_RXN_c, FHLMULTI_RXN_c</p> </td> </tr> <tr>\n",
       "<td><strong>Genes involved<br /></strong></td> <td> <p>EG10803, EG10804, EG10701, G7627, EG10479, EG10477, EG10476, EG10478, EG10285, EG10475, EG10480</p> </td> </tr> <tr>\n",
       "<td><strong>Visualization attributes</strong></td> <td> <ul> <li>vertical =\n",
       "False</li> <li>color_negative = None</li>\n",
       "<li>color_positive = None</li> <li>color_quantile =\n",
       "False</li> </ul> </td> </tr> </tbody> </table> <p>&nbsp;</p>\n"
      ],
      "text/plain": [
       "<Pathway curated_pathway at 0x7fed35d14990>"
      ]
     },
     "execution_count": 19,
     "metadata": {},
     "output_type": "execute_result"
    }
   ],
   "source": [
    "from pathlib import Path\n",
    "from cobramod import add_pathway\n",
    "from cobramod.test import textbook_biocyc\n",
    "# Defining directory\n",
    "dir_data = Path.cwd().resolve().joinpath(\"data\")\n",
    "\n",
    "test_model = textbook_biocyc.copy()\n",
    "# Defining database-specific identifiers\n",
    "sequence = [\"PEPDEPHOS-RXN\", \"PYRUVFORMLY-RXN\", \"FHLMULTI-RXN\"]\n",
    "                                                                \n",
    "print(f'Number of reaction prior addition: {len(test_model.reactions)}')\n",
    "                                                                \n",
    "add_pathway(\n",
    "    model=test_model,\n",
    "    pathway=sequence,\n",
    "    directory=dir_data,\n",
    "    database=\"ECOLI\",\n",
    "    compartment=\"c\",\n",
    "    group=\"curated_pathway\"\n",
    ")\n",
    "\n",
    "print(f'Number of reactions after addition: {len(test_model.reactions)}')\n",
    "# Display in jupyter\n",
    "test_model.groups.get_by_id(\"curated_pathway\")"
   ]
  },
  {
   "cell_type": "markdown",
   "metadata": {
    "id": "wYJWosLv7407"
   },
   "source": [
    "--------------------\n",
    "\n",
    "**NOTES**\n",
    "\n",
    "- A pathway is a set of COBRApy reactions. All the notes listed for `add_metabolites()` and `add_reactions()` also apply to pathways, i. e., handling of duplicate elements, transport reactions and the argument `genome` for KEGG.\n",
    "\n",
    "--------------------\n"
   ]
  },
  {
   "cell_type": "markdown",
   "metadata": {
    "id": "WZ78z82Mgbdl"
   },
   "source": [
    "## Non-zero flux test\n",
    "\n",
    "When calling the function `add_pathway()`, CobraMod tests each reaction of the `Pathway` object for its capability to carry a non-zero flux, i.e., if the involved metabolites can be turned over. Additionally, the user can test individual COBRApy reactions for their capability to cary a non-zero flux by using the function [cobramod.test_non_zero_flux()](\n",
    "module/cobramod/index.html#cobramod.test_non_zero_flux\n",
    ").\n",
    "\n",
    "\n",
    "During the test, CobraMod selects one of the metabolites in the reaction and\n",
    "creates a [demand reaction](\n",
    "  https://cobrapy.readthedocs.io/en/latest/building_model.html#Exchanges,-Sinks-and-Demands\n",
    ") to force a flux in the reaction that is tested. CobraMod checks that the\n",
    "metabolites of the reaction can be turnover by counting the \n",
    "number of reactions related to each metabolite. Each metabolite must participate in at least one reaction besides the one that is tested. If the\n",
    "test initially fails, auxiliary [sink reactions](\n",
    "  https://cobrapy.readthedocs.io/en/latest/building_model.html#Exchanges,-Sinks-and-Demands\n",
    ") are added to the model and CobraMod raises an error suggesting a manual intervention. Otherwise, if no message is printed, the test is passed and the\n",
    "demand reaction is removed. The user can also use the argument `ignore_list` to\n",
    "specify metabolites that should not have a auxiliary sink reaction created.\n",
    "\n",
    "In the following example, we test the glutathione synthase reaction\n",
    "(`GLUTATHIONE-SYN-RXN`) in the comparment plastid (`p`) for its capability to\n",
    "carry a non-zero flux. This reaction has the following equation:\n",
    "\n",
    "    ATP_p + GLY_p + L_GAMMA_GLUTAMYLCYSTEINE_p --> ADP_p + GLUTATHIONE_p + PROTON_p + Pi_p\n",
    "\n",
    "The test model has only reactions and metabolites in the cytosol compartment.\n",
    "Because we test a reaction from another compartment, CobraMod creates auxiliary\n",
    "sink reactions for those metabolites. To showcase the error, we ignore\n",
    "the metabolite `PROTON_p` using the `ignore_list` argument. CobraMod does not\n",
    "create a auxiliary sink reaction for it. \n",
    "\n",
    "We use the function `cobramod.add_reactions()` to add the respective reaction\n",
    "and some\n",
    "tranport reactions for its metabolites excluding `PROTON_p`. Then we run\n",
    "the [test_non_zero_flux()](\n",
    "module/cobramod/index.html#cobramod.test_non_zero_flux()\n",
    ") with the argument `ignore_list`. Because `PROTON_p` cannot be turnover, the\n",
    "model cannot fullfill the demand reaction of the test. The model becomes\n",
    "infeasible and the user sees an error suggesting manual curation.\n"
   ]
  },
  {
   "cell_type": "code",
   "execution_count": 20,
   "metadata": {
    "colab": {
     "base_uri": "https://localhost:8080/",
     "height": 1000
    },
    "id": "1eLXkls4qmph",
    "outputId": "db09f429-b01e-4a91-c1c7-5a0245ff2a47",
    "tags": [
     "raises-exception"
    ]
   },
   "outputs": [
    {
     "name": "stderr",
     "output_type": "stream",
     "text": [
      "/home/stefano/Documents/cobramod/src/cobramod/utils.py:53: UserWarning: Reaction \"Redox_ADP_ATP_p\" unbalanced. Following atoms are affected. Please verify:\n",
      "{'charge': -1.0, 'O': 3.0, 'P': 1.0}\n",
      "  warn(message=msg, category=UserWarning)\n"
     ]
    },
    {
     "ename": "NotInRangeError",
     "evalue": "The following reaction \"GLUTATHIONE_SYN_RXN_p\" failed the non-zero flux test multiple times. Flux value are below solver tolerance. Please curate manually by adding reactions that enable turnover of metabolites: GLY_p, L_GAMMA_GLUTAMYLCYSTEINE_p, PROTON_p, ATP_p, GLUTATHIONE_p, Pi_p, ADP_p",
     "output_type": "error",
     "traceback": [
      "\u001b[0;31m---------------------------------------------------------------------------\u001b[0m",
      "\u001b[0;31mInfeasible\u001b[0m                                Traceback (most recent call last)",
      "\u001b[0;32m~/Documents/cobramod/src/cobramod/core/extension.py\u001b[0m in \u001b[0;36mtest_non_zero_flux\u001b[0;34m(model, reaction, times, ignore_list)\u001b[0m\n\u001b[1;32m    352\u001b[0m     \u001b[0;32mtry\u001b[0m\u001b[0;34m:\u001b[0m\u001b[0;34m\u001b[0m\u001b[0;34m\u001b[0m\u001b[0m\n\u001b[0;32m--> 353\u001b[0;31m         \u001b[0mmodel\u001b[0m\u001b[0;34m.\u001b[0m\u001b[0mslim_optimize\u001b[0m\u001b[0;34m(\u001b[0m\u001b[0merror_value\u001b[0m\u001b[0;34m=\u001b[0m\u001b[0;32mNone\u001b[0m\u001b[0;34m)\u001b[0m\u001b[0;34m\u001b[0m\u001b[0;34m\u001b[0m\u001b[0m\n\u001b[0m\u001b[1;32m    354\u001b[0m         \u001b[0;31m# if works, pass and return old objective\u001b[0m\u001b[0;34m\u001b[0m\u001b[0;34m\u001b[0m\u001b[0;34m\u001b[0m\u001b[0m\n",
      "\u001b[0;32m~/miniconda3/envs/cobramod/lib/python3.7/site-packages/cobra/core/model.py\u001b[0m in \u001b[0;36mslim_optimize\u001b[0;34m(self, error_value, message)\u001b[0m\n\u001b[1;32m   1063\u001b[0m         \u001b[0;32melse\u001b[0m\u001b[0;34m:\u001b[0m\u001b[0;34m\u001b[0m\u001b[0;34m\u001b[0m\u001b[0m\n\u001b[0;32m-> 1064\u001b[0;31m             \u001b[0massert_optimal\u001b[0m\u001b[0;34m(\u001b[0m\u001b[0mself\u001b[0m\u001b[0;34m,\u001b[0m \u001b[0mmessage\u001b[0m\u001b[0;34m)\u001b[0m\u001b[0;34m\u001b[0m\u001b[0;34m\u001b[0m\u001b[0m\n\u001b[0m\u001b[1;32m   1065\u001b[0m \u001b[0;34m\u001b[0m\u001b[0m\n",
      "\u001b[0;32m~/miniconda3/envs/cobramod/lib/python3.7/site-packages/cobra/util/solver.py\u001b[0m in \u001b[0;36massert_optimal\u001b[0;34m(model, message)\u001b[0m\n\u001b[1;32m    589\u001b[0m         \u001b[0mexception_cls\u001b[0m \u001b[0;34m=\u001b[0m \u001b[0mOPTLANG_TO_EXCEPTIONS_DICT\u001b[0m\u001b[0;34m.\u001b[0m\u001b[0mget\u001b[0m\u001b[0;34m(\u001b[0m\u001b[0mstatus\u001b[0m\u001b[0;34m,\u001b[0m \u001b[0mOptimizationError\u001b[0m\u001b[0;34m)\u001b[0m\u001b[0;34m\u001b[0m\u001b[0;34m\u001b[0m\u001b[0m\n\u001b[0;32m--> 590\u001b[0;31m         \u001b[0;32mraise\u001b[0m \u001b[0mexception_cls\u001b[0m\u001b[0;34m(\u001b[0m\u001b[0;34mf\"{message} ({status}).\"\u001b[0m\u001b[0;34m)\u001b[0m\u001b[0;34m\u001b[0m\u001b[0;34m\u001b[0m\u001b[0m\n\u001b[0m\u001b[1;32m    591\u001b[0m \u001b[0;34m\u001b[0m\u001b[0m\n",
      "\u001b[0;31mInfeasible\u001b[0m: None (infeasible).",
      "\nDuring handling of the above exception, another exception occurred:\n",
      "\u001b[0;31mInfeasible\u001b[0m                                Traceback (most recent call last)",
      "\u001b[0;32m~/Documents/cobramod/src/cobramod/core/extension.py\u001b[0m in \u001b[0;36mtest_non_zero_flux\u001b[0;34m(model, reaction, times, ignore_list)\u001b[0m\n\u001b[1;32m    352\u001b[0m     \u001b[0;32mtry\u001b[0m\u001b[0;34m:\u001b[0m\u001b[0;34m\u001b[0m\u001b[0;34m\u001b[0m\u001b[0m\n\u001b[0;32m--> 353\u001b[0;31m         \u001b[0mmodel\u001b[0m\u001b[0;34m.\u001b[0m\u001b[0mslim_optimize\u001b[0m\u001b[0;34m(\u001b[0m\u001b[0merror_value\u001b[0m\u001b[0;34m=\u001b[0m\u001b[0;32mNone\u001b[0m\u001b[0;34m)\u001b[0m\u001b[0;34m\u001b[0m\u001b[0;34m\u001b[0m\u001b[0m\n\u001b[0m\u001b[1;32m    354\u001b[0m         \u001b[0;31m# if works, pass and return old objective\u001b[0m\u001b[0;34m\u001b[0m\u001b[0;34m\u001b[0m\u001b[0;34m\u001b[0m\u001b[0m\n",
      "\u001b[0;32m~/miniconda3/envs/cobramod/lib/python3.7/site-packages/cobra/core/model.py\u001b[0m in \u001b[0;36mslim_optimize\u001b[0;34m(self, error_value, message)\u001b[0m\n\u001b[1;32m   1063\u001b[0m         \u001b[0;32melse\u001b[0m\u001b[0;34m:\u001b[0m\u001b[0;34m\u001b[0m\u001b[0;34m\u001b[0m\u001b[0m\n\u001b[0;32m-> 1064\u001b[0;31m             \u001b[0massert_optimal\u001b[0m\u001b[0;34m(\u001b[0m\u001b[0mself\u001b[0m\u001b[0;34m,\u001b[0m \u001b[0mmessage\u001b[0m\u001b[0;34m)\u001b[0m\u001b[0;34m\u001b[0m\u001b[0;34m\u001b[0m\u001b[0m\n\u001b[0m\u001b[1;32m   1065\u001b[0m \u001b[0;34m\u001b[0m\u001b[0m\n",
      "\u001b[0;32m~/miniconda3/envs/cobramod/lib/python3.7/site-packages/cobra/util/solver.py\u001b[0m in \u001b[0;36massert_optimal\u001b[0;34m(model, message)\u001b[0m\n\u001b[1;32m    589\u001b[0m         \u001b[0mexception_cls\u001b[0m \u001b[0;34m=\u001b[0m \u001b[0mOPTLANG_TO_EXCEPTIONS_DICT\u001b[0m\u001b[0;34m.\u001b[0m\u001b[0mget\u001b[0m\u001b[0;34m(\u001b[0m\u001b[0mstatus\u001b[0m\u001b[0;34m,\u001b[0m \u001b[0mOptimizationError\u001b[0m\u001b[0;34m)\u001b[0m\u001b[0;34m\u001b[0m\u001b[0;34m\u001b[0m\u001b[0m\n\u001b[0;32m--> 590\u001b[0;31m         \u001b[0;32mraise\u001b[0m \u001b[0mexception_cls\u001b[0m\u001b[0;34m(\u001b[0m\u001b[0;34mf\"{message} ({status}).\"\u001b[0m\u001b[0;34m)\u001b[0m\u001b[0;34m\u001b[0m\u001b[0;34m\u001b[0m\u001b[0m\n\u001b[0m\u001b[1;32m    591\u001b[0m \u001b[0;34m\u001b[0m\u001b[0m\n",
      "\u001b[0;31mInfeasible\u001b[0m: None (infeasible).",
      "\nDuring handling of the above exception, another exception occurred:\n",
      "\u001b[0;31mInfeasible\u001b[0m                                Traceback (most recent call last)",
      "\u001b[0;32m~/Documents/cobramod/src/cobramod/core/extension.py\u001b[0m in \u001b[0;36mtest_non_zero_flux\u001b[0;34m(model, reaction, times, ignore_list)\u001b[0m\n\u001b[1;32m    352\u001b[0m     \u001b[0;32mtry\u001b[0m\u001b[0;34m:\u001b[0m\u001b[0;34m\u001b[0m\u001b[0;34m\u001b[0m\u001b[0m\n\u001b[0;32m--> 353\u001b[0;31m         \u001b[0mmodel\u001b[0m\u001b[0;34m.\u001b[0m\u001b[0mslim_optimize\u001b[0m\u001b[0;34m(\u001b[0m\u001b[0merror_value\u001b[0m\u001b[0;34m=\u001b[0m\u001b[0;32mNone\u001b[0m\u001b[0;34m)\u001b[0m\u001b[0;34m\u001b[0m\u001b[0;34m\u001b[0m\u001b[0m\n\u001b[0m\u001b[1;32m    354\u001b[0m         \u001b[0;31m# if works, pass and return old objective\u001b[0m\u001b[0;34m\u001b[0m\u001b[0;34m\u001b[0m\u001b[0;34m\u001b[0m\u001b[0m\n",
      "\u001b[0;32m~/miniconda3/envs/cobramod/lib/python3.7/site-packages/cobra/core/model.py\u001b[0m in \u001b[0;36mslim_optimize\u001b[0;34m(self, error_value, message)\u001b[0m\n\u001b[1;32m   1063\u001b[0m         \u001b[0;32melse\u001b[0m\u001b[0;34m:\u001b[0m\u001b[0;34m\u001b[0m\u001b[0;34m\u001b[0m\u001b[0m\n\u001b[0;32m-> 1064\u001b[0;31m             \u001b[0massert_optimal\u001b[0m\u001b[0;34m(\u001b[0m\u001b[0mself\u001b[0m\u001b[0;34m,\u001b[0m \u001b[0mmessage\u001b[0m\u001b[0;34m)\u001b[0m\u001b[0;34m\u001b[0m\u001b[0;34m\u001b[0m\u001b[0m\n\u001b[0m\u001b[1;32m   1065\u001b[0m \u001b[0;34m\u001b[0m\u001b[0m\n",
      "\u001b[0;32m~/miniconda3/envs/cobramod/lib/python3.7/site-packages/cobra/util/solver.py\u001b[0m in \u001b[0;36massert_optimal\u001b[0;34m(model, message)\u001b[0m\n\u001b[1;32m    589\u001b[0m         \u001b[0mexception_cls\u001b[0m \u001b[0;34m=\u001b[0m \u001b[0mOPTLANG_TO_EXCEPTIONS_DICT\u001b[0m\u001b[0;34m.\u001b[0m\u001b[0mget\u001b[0m\u001b[0;34m(\u001b[0m\u001b[0mstatus\u001b[0m\u001b[0;34m,\u001b[0m \u001b[0mOptimizationError\u001b[0m\u001b[0;34m)\u001b[0m\u001b[0;34m\u001b[0m\u001b[0;34m\u001b[0m\u001b[0m\n\u001b[0;32m--> 590\u001b[0;31m         \u001b[0;32mraise\u001b[0m \u001b[0mexception_cls\u001b[0m\u001b[0;34m(\u001b[0m\u001b[0;34mf\"{message} ({status}).\"\u001b[0m\u001b[0;34m)\u001b[0m\u001b[0;34m\u001b[0m\u001b[0;34m\u001b[0m\u001b[0m\n\u001b[0m\u001b[1;32m    591\u001b[0m \u001b[0;34m\u001b[0m\u001b[0m\n",
      "\u001b[0;31mInfeasible\u001b[0m: None (infeasible).",
      "\nDuring handling of the above exception, another exception occurred:\n",
      "\u001b[0;31mInfeasible\u001b[0m                                Traceback (most recent call last)",
      "\u001b[0;32m~/Documents/cobramod/src/cobramod/core/extension.py\u001b[0m in \u001b[0;36mtest_non_zero_flux\u001b[0;34m(model, reaction, times, ignore_list)\u001b[0m\n\u001b[1;32m    352\u001b[0m     \u001b[0;32mtry\u001b[0m\u001b[0;34m:\u001b[0m\u001b[0;34m\u001b[0m\u001b[0;34m\u001b[0m\u001b[0m\n\u001b[0;32m--> 353\u001b[0;31m         \u001b[0mmodel\u001b[0m\u001b[0;34m.\u001b[0m\u001b[0mslim_optimize\u001b[0m\u001b[0;34m(\u001b[0m\u001b[0merror_value\u001b[0m\u001b[0;34m=\u001b[0m\u001b[0;32mNone\u001b[0m\u001b[0;34m)\u001b[0m\u001b[0;34m\u001b[0m\u001b[0;34m\u001b[0m\u001b[0m\n\u001b[0m\u001b[1;32m    354\u001b[0m         \u001b[0;31m# if works, pass and return old objective\u001b[0m\u001b[0;34m\u001b[0m\u001b[0;34m\u001b[0m\u001b[0;34m\u001b[0m\u001b[0m\n",
      "\u001b[0;32m~/miniconda3/envs/cobramod/lib/python3.7/site-packages/cobra/core/model.py\u001b[0m in \u001b[0;36mslim_optimize\u001b[0;34m(self, error_value, message)\u001b[0m\n\u001b[1;32m   1063\u001b[0m         \u001b[0;32melse\u001b[0m\u001b[0;34m:\u001b[0m\u001b[0;34m\u001b[0m\u001b[0;34m\u001b[0m\u001b[0m\n\u001b[0;32m-> 1064\u001b[0;31m             \u001b[0massert_optimal\u001b[0m\u001b[0;34m(\u001b[0m\u001b[0mself\u001b[0m\u001b[0;34m,\u001b[0m \u001b[0mmessage\u001b[0m\u001b[0;34m)\u001b[0m\u001b[0;34m\u001b[0m\u001b[0;34m\u001b[0m\u001b[0m\n\u001b[0m\u001b[1;32m   1065\u001b[0m \u001b[0;34m\u001b[0m\u001b[0m\n",
      "\u001b[0;32m~/miniconda3/envs/cobramod/lib/python3.7/site-packages/cobra/util/solver.py\u001b[0m in \u001b[0;36massert_optimal\u001b[0;34m(model, message)\u001b[0m\n\u001b[1;32m    589\u001b[0m         \u001b[0mexception_cls\u001b[0m \u001b[0;34m=\u001b[0m \u001b[0mOPTLANG_TO_EXCEPTIONS_DICT\u001b[0m\u001b[0;34m.\u001b[0m\u001b[0mget\u001b[0m\u001b[0;34m(\u001b[0m\u001b[0mstatus\u001b[0m\u001b[0;34m,\u001b[0m \u001b[0mOptimizationError\u001b[0m\u001b[0;34m)\u001b[0m\u001b[0;34m\u001b[0m\u001b[0;34m\u001b[0m\u001b[0m\n\u001b[0;32m--> 590\u001b[0;31m         \u001b[0;32mraise\u001b[0m \u001b[0mexception_cls\u001b[0m\u001b[0;34m(\u001b[0m\u001b[0;34mf\"{message} ({status}).\"\u001b[0m\u001b[0;34m)\u001b[0m\u001b[0;34m\u001b[0m\u001b[0;34m\u001b[0m\u001b[0m\n\u001b[0m\u001b[1;32m    591\u001b[0m \u001b[0;34m\u001b[0m\u001b[0m\n",
      "\u001b[0;31mInfeasible\u001b[0m: None (infeasible).",
      "\nDuring handling of the above exception, another exception occurred:\n",
      "\u001b[0;31mInfeasible\u001b[0m                                Traceback (most recent call last)",
      "\u001b[0;32m~/Documents/cobramod/src/cobramod/core/extension.py\u001b[0m in \u001b[0;36mtest_non_zero_flux\u001b[0;34m(model, reaction, times, ignore_list)\u001b[0m\n\u001b[1;32m    352\u001b[0m     \u001b[0;32mtry\u001b[0m\u001b[0;34m:\u001b[0m\u001b[0;34m\u001b[0m\u001b[0;34m\u001b[0m\u001b[0m\n\u001b[0;32m--> 353\u001b[0;31m         \u001b[0mmodel\u001b[0m\u001b[0;34m.\u001b[0m\u001b[0mslim_optimize\u001b[0m\u001b[0;34m(\u001b[0m\u001b[0merror_value\u001b[0m\u001b[0;34m=\u001b[0m\u001b[0;32mNone\u001b[0m\u001b[0;34m)\u001b[0m\u001b[0;34m\u001b[0m\u001b[0;34m\u001b[0m\u001b[0m\n\u001b[0m\u001b[1;32m    354\u001b[0m         \u001b[0;31m# if works, pass and return old objective\u001b[0m\u001b[0;34m\u001b[0m\u001b[0;34m\u001b[0m\u001b[0;34m\u001b[0m\u001b[0m\n",
      "\u001b[0;32m~/miniconda3/envs/cobramod/lib/python3.7/site-packages/cobra/core/model.py\u001b[0m in \u001b[0;36mslim_optimize\u001b[0;34m(self, error_value, message)\u001b[0m\n\u001b[1;32m   1063\u001b[0m         \u001b[0;32melse\u001b[0m\u001b[0;34m:\u001b[0m\u001b[0;34m\u001b[0m\u001b[0;34m\u001b[0m\u001b[0m\n\u001b[0;32m-> 1064\u001b[0;31m             \u001b[0massert_optimal\u001b[0m\u001b[0;34m(\u001b[0m\u001b[0mself\u001b[0m\u001b[0;34m,\u001b[0m \u001b[0mmessage\u001b[0m\u001b[0;34m)\u001b[0m\u001b[0;34m\u001b[0m\u001b[0;34m\u001b[0m\u001b[0m\n\u001b[0m\u001b[1;32m   1065\u001b[0m \u001b[0;34m\u001b[0m\u001b[0m\n",
      "\u001b[0;32m~/miniconda3/envs/cobramod/lib/python3.7/site-packages/cobra/util/solver.py\u001b[0m in \u001b[0;36massert_optimal\u001b[0;34m(model, message)\u001b[0m\n\u001b[1;32m    589\u001b[0m         \u001b[0mexception_cls\u001b[0m \u001b[0;34m=\u001b[0m \u001b[0mOPTLANG_TO_EXCEPTIONS_DICT\u001b[0m\u001b[0;34m.\u001b[0m\u001b[0mget\u001b[0m\u001b[0;34m(\u001b[0m\u001b[0mstatus\u001b[0m\u001b[0;34m,\u001b[0m \u001b[0mOptimizationError\u001b[0m\u001b[0;34m)\u001b[0m\u001b[0;34m\u001b[0m\u001b[0;34m\u001b[0m\u001b[0m\n\u001b[0;32m--> 590\u001b[0;31m         \u001b[0;32mraise\u001b[0m \u001b[0mexception_cls\u001b[0m\u001b[0;34m(\u001b[0m\u001b[0;34mf\"{message} ({status}).\"\u001b[0m\u001b[0;34m)\u001b[0m\u001b[0;34m\u001b[0m\u001b[0;34m\u001b[0m\u001b[0m\n\u001b[0m\u001b[1;32m    591\u001b[0m \u001b[0;34m\u001b[0m\u001b[0m\n",
      "\u001b[0;31mInfeasible\u001b[0m: None (infeasible).",
      "\nDuring handling of the above exception, another exception occurred:\n",
      "\u001b[0;31mInfeasible\u001b[0m                                Traceback (most recent call last)",
      "\u001b[0;32m~/Documents/cobramod/src/cobramod/core/extension.py\u001b[0m in \u001b[0;36mtest_non_zero_flux\u001b[0;34m(model, reaction, times, ignore_list)\u001b[0m\n\u001b[1;32m    352\u001b[0m     \u001b[0;32mtry\u001b[0m\u001b[0;34m:\u001b[0m\u001b[0;34m\u001b[0m\u001b[0;34m\u001b[0m\u001b[0m\n\u001b[0;32m--> 353\u001b[0;31m         \u001b[0mmodel\u001b[0m\u001b[0;34m.\u001b[0m\u001b[0mslim_optimize\u001b[0m\u001b[0;34m(\u001b[0m\u001b[0merror_value\u001b[0m\u001b[0;34m=\u001b[0m\u001b[0;32mNone\u001b[0m\u001b[0;34m)\u001b[0m\u001b[0;34m\u001b[0m\u001b[0;34m\u001b[0m\u001b[0m\n\u001b[0m\u001b[1;32m    354\u001b[0m         \u001b[0;31m# if works, pass and return old objective\u001b[0m\u001b[0;34m\u001b[0m\u001b[0;34m\u001b[0m\u001b[0;34m\u001b[0m\u001b[0m\n",
      "\u001b[0;32m~/miniconda3/envs/cobramod/lib/python3.7/site-packages/cobra/core/model.py\u001b[0m in \u001b[0;36mslim_optimize\u001b[0;34m(self, error_value, message)\u001b[0m\n\u001b[1;32m   1063\u001b[0m         \u001b[0;32melse\u001b[0m\u001b[0;34m:\u001b[0m\u001b[0;34m\u001b[0m\u001b[0;34m\u001b[0m\u001b[0m\n\u001b[0;32m-> 1064\u001b[0;31m             \u001b[0massert_optimal\u001b[0m\u001b[0;34m(\u001b[0m\u001b[0mself\u001b[0m\u001b[0;34m,\u001b[0m \u001b[0mmessage\u001b[0m\u001b[0;34m)\u001b[0m\u001b[0;34m\u001b[0m\u001b[0;34m\u001b[0m\u001b[0m\n\u001b[0m\u001b[1;32m   1065\u001b[0m \u001b[0;34m\u001b[0m\u001b[0m\n",
      "\u001b[0;32m~/miniconda3/envs/cobramod/lib/python3.7/site-packages/cobra/util/solver.py\u001b[0m in \u001b[0;36massert_optimal\u001b[0;34m(model, message)\u001b[0m\n\u001b[1;32m    589\u001b[0m         \u001b[0mexception_cls\u001b[0m \u001b[0;34m=\u001b[0m \u001b[0mOPTLANG_TO_EXCEPTIONS_DICT\u001b[0m\u001b[0;34m.\u001b[0m\u001b[0mget\u001b[0m\u001b[0;34m(\u001b[0m\u001b[0mstatus\u001b[0m\u001b[0;34m,\u001b[0m \u001b[0mOptimizationError\u001b[0m\u001b[0;34m)\u001b[0m\u001b[0;34m\u001b[0m\u001b[0;34m\u001b[0m\u001b[0m\n\u001b[0;32m--> 590\u001b[0;31m         \u001b[0;32mraise\u001b[0m \u001b[0mexception_cls\u001b[0m\u001b[0;34m(\u001b[0m\u001b[0;34mf\"{message} ({status}).\"\u001b[0m\u001b[0;34m)\u001b[0m\u001b[0;34m\u001b[0m\u001b[0;34m\u001b[0m\u001b[0m\n\u001b[0m\u001b[1;32m    591\u001b[0m \u001b[0;34m\u001b[0m\u001b[0m\n",
      "\u001b[0;31mInfeasible\u001b[0m: None (infeasible).",
      "\nDuring handling of the above exception, another exception occurred:\n",
      "\u001b[0;31mInfeasible\u001b[0m                                Traceback (most recent call last)",
      "\u001b[0;32m~/Documents/cobramod/src/cobramod/core/extension.py\u001b[0m in \u001b[0;36mtest_non_zero_flux\u001b[0;34m(model, reaction, times, ignore_list)\u001b[0m\n\u001b[1;32m    352\u001b[0m     \u001b[0;32mtry\u001b[0m\u001b[0;34m:\u001b[0m\u001b[0;34m\u001b[0m\u001b[0;34m\u001b[0m\u001b[0m\n\u001b[0;32m--> 353\u001b[0;31m         \u001b[0mmodel\u001b[0m\u001b[0;34m.\u001b[0m\u001b[0mslim_optimize\u001b[0m\u001b[0;34m(\u001b[0m\u001b[0merror_value\u001b[0m\u001b[0;34m=\u001b[0m\u001b[0;32mNone\u001b[0m\u001b[0;34m)\u001b[0m\u001b[0;34m\u001b[0m\u001b[0;34m\u001b[0m\u001b[0m\n\u001b[0m\u001b[1;32m    354\u001b[0m         \u001b[0;31m# if works, pass and return old objective\u001b[0m\u001b[0;34m\u001b[0m\u001b[0;34m\u001b[0m\u001b[0;34m\u001b[0m\u001b[0m\n",
      "\u001b[0;32m~/miniconda3/envs/cobramod/lib/python3.7/site-packages/cobra/core/model.py\u001b[0m in \u001b[0;36mslim_optimize\u001b[0;34m(self, error_value, message)\u001b[0m\n\u001b[1;32m   1063\u001b[0m         \u001b[0;32melse\u001b[0m\u001b[0;34m:\u001b[0m\u001b[0;34m\u001b[0m\u001b[0;34m\u001b[0m\u001b[0m\n\u001b[0;32m-> 1064\u001b[0;31m             \u001b[0massert_optimal\u001b[0m\u001b[0;34m(\u001b[0m\u001b[0mself\u001b[0m\u001b[0;34m,\u001b[0m \u001b[0mmessage\u001b[0m\u001b[0;34m)\u001b[0m\u001b[0;34m\u001b[0m\u001b[0;34m\u001b[0m\u001b[0m\n\u001b[0m\u001b[1;32m   1065\u001b[0m \u001b[0;34m\u001b[0m\u001b[0m\n",
      "\u001b[0;32m~/miniconda3/envs/cobramod/lib/python3.7/site-packages/cobra/util/solver.py\u001b[0m in \u001b[0;36massert_optimal\u001b[0;34m(model, message)\u001b[0m\n\u001b[1;32m    589\u001b[0m         \u001b[0mexception_cls\u001b[0m \u001b[0;34m=\u001b[0m \u001b[0mOPTLANG_TO_EXCEPTIONS_DICT\u001b[0m\u001b[0;34m.\u001b[0m\u001b[0mget\u001b[0m\u001b[0;34m(\u001b[0m\u001b[0mstatus\u001b[0m\u001b[0;34m,\u001b[0m \u001b[0mOptimizationError\u001b[0m\u001b[0;34m)\u001b[0m\u001b[0;34m\u001b[0m\u001b[0;34m\u001b[0m\u001b[0m\n\u001b[0;32m--> 590\u001b[0;31m         \u001b[0;32mraise\u001b[0m \u001b[0mexception_cls\u001b[0m\u001b[0;34m(\u001b[0m\u001b[0;34mf\"{message} ({status}).\"\u001b[0m\u001b[0;34m)\u001b[0m\u001b[0;34m\u001b[0m\u001b[0;34m\u001b[0m\u001b[0m\n\u001b[0m\u001b[1;32m    591\u001b[0m \u001b[0;34m\u001b[0m\u001b[0m\n",
      "\u001b[0;31mInfeasible\u001b[0m: None (infeasible).",
      "\nDuring handling of the above exception, another exception occurred:\n",
      "\u001b[0;31mNotInRangeError\u001b[0m                           Traceback (most recent call last)",
      "\u001b[0;32m/tmp/ipykernel_10498/3686935466.py\u001b[0m in \u001b[0;36m<module>\u001b[0;34m\u001b[0m\n\u001b[1;32m     21\u001b[0m     \u001b[0mmodel\u001b[0m\u001b[0;34m=\u001b[0m\u001b[0mtest_model\u001b[0m\u001b[0;34m,\u001b[0m\u001b[0;34m\u001b[0m\u001b[0;34m\u001b[0m\u001b[0m\n\u001b[1;32m     22\u001b[0m     \u001b[0mreaction\u001b[0m\u001b[0;34m=\u001b[0m\u001b[0;34m\"GLUTATHIONE_SYN_RXN_p\"\u001b[0m\u001b[0;34m,\u001b[0m\u001b[0;34m\u001b[0m\u001b[0;34m\u001b[0m\u001b[0m\n\u001b[0;32m---> 23\u001b[0;31m     \u001b[0mignore_list\u001b[0m\u001b[0;34m=\u001b[0m\u001b[0;34m[\u001b[0m\u001b[0;34m\"PROTON_p\"\u001b[0m\u001b[0;34m]\u001b[0m\u001b[0;34m,\u001b[0m\u001b[0;34m\u001b[0m\u001b[0;34m\u001b[0m\u001b[0m\n\u001b[0m\u001b[1;32m     24\u001b[0m )\n",
      "\u001b[0;32m~/Documents/cobramod/src/cobramod/core/extension.py\u001b[0m in \u001b[0;36mtest_non_zero_flux\u001b[0;34m(model, reaction, times, ignore_list)\u001b[0m\n\u001b[1;32m    372\u001b[0m             \u001b[0mreaction\u001b[0m\u001b[0;34m=\u001b[0m\u001b[0mreaction\u001b[0m\u001b[0;34m,\u001b[0m\u001b[0;34m\u001b[0m\u001b[0;34m\u001b[0m\u001b[0m\n\u001b[1;32m    373\u001b[0m             \u001b[0mtimes\u001b[0m\u001b[0;34m=\u001b[0m\u001b[0mtimes\u001b[0m \u001b[0;34m+\u001b[0m \u001b[0;36m1\u001b[0m\u001b[0;34m,\u001b[0m\u001b[0;34m\u001b[0m\u001b[0;34m\u001b[0m\u001b[0m\n\u001b[0;32m--> 374\u001b[0;31m             \u001b[0mignore_list\u001b[0m\u001b[0;34m=\u001b[0m\u001b[0mignore_list\u001b[0m\u001b[0;34m,\u001b[0m\u001b[0;34m\u001b[0m\u001b[0;34m\u001b[0m\u001b[0m\n\u001b[0m\u001b[1;32m    375\u001b[0m         )\n\u001b[1;32m    376\u001b[0m \u001b[0;34m\u001b[0m\u001b[0m\n",
      "\u001b[0;32m~/Documents/cobramod/src/cobramod/core/extension.py\u001b[0m in \u001b[0;36mtest_non_zero_flux\u001b[0;34m(model, reaction, times, ignore_list)\u001b[0m\n\u001b[1;32m    372\u001b[0m             \u001b[0mreaction\u001b[0m\u001b[0;34m=\u001b[0m\u001b[0mreaction\u001b[0m\u001b[0;34m,\u001b[0m\u001b[0;34m\u001b[0m\u001b[0;34m\u001b[0m\u001b[0m\n\u001b[1;32m    373\u001b[0m             \u001b[0mtimes\u001b[0m\u001b[0;34m=\u001b[0m\u001b[0mtimes\u001b[0m \u001b[0;34m+\u001b[0m \u001b[0;36m1\u001b[0m\u001b[0;34m,\u001b[0m\u001b[0;34m\u001b[0m\u001b[0;34m\u001b[0m\u001b[0m\n\u001b[0;32m--> 374\u001b[0;31m             \u001b[0mignore_list\u001b[0m\u001b[0;34m=\u001b[0m\u001b[0mignore_list\u001b[0m\u001b[0;34m,\u001b[0m\u001b[0;34m\u001b[0m\u001b[0;34m\u001b[0m\u001b[0m\n\u001b[0m\u001b[1;32m    375\u001b[0m         )\n\u001b[1;32m    376\u001b[0m \u001b[0;34m\u001b[0m\u001b[0m\n",
      "\u001b[0;32m~/Documents/cobramod/src/cobramod/core/extension.py\u001b[0m in \u001b[0;36mtest_non_zero_flux\u001b[0;34m(model, reaction, times, ignore_list)\u001b[0m\n\u001b[1;32m    372\u001b[0m             \u001b[0mreaction\u001b[0m\u001b[0;34m=\u001b[0m\u001b[0mreaction\u001b[0m\u001b[0;34m,\u001b[0m\u001b[0;34m\u001b[0m\u001b[0;34m\u001b[0m\u001b[0m\n\u001b[1;32m    373\u001b[0m             \u001b[0mtimes\u001b[0m\u001b[0;34m=\u001b[0m\u001b[0mtimes\u001b[0m \u001b[0;34m+\u001b[0m \u001b[0;36m1\u001b[0m\u001b[0;34m,\u001b[0m\u001b[0;34m\u001b[0m\u001b[0;34m\u001b[0m\u001b[0m\n\u001b[0;32m--> 374\u001b[0;31m             \u001b[0mignore_list\u001b[0m\u001b[0;34m=\u001b[0m\u001b[0mignore_list\u001b[0m\u001b[0;34m,\u001b[0m\u001b[0;34m\u001b[0m\u001b[0;34m\u001b[0m\u001b[0m\n\u001b[0m\u001b[1;32m    375\u001b[0m         )\n\u001b[1;32m    376\u001b[0m \u001b[0;34m\u001b[0m\u001b[0m\n",
      "\u001b[0;32m~/Documents/cobramod/src/cobramod/core/extension.py\u001b[0m in \u001b[0;36mtest_non_zero_flux\u001b[0;34m(model, reaction, times, ignore_list)\u001b[0m\n\u001b[1;32m    372\u001b[0m             \u001b[0mreaction\u001b[0m\u001b[0;34m=\u001b[0m\u001b[0mreaction\u001b[0m\u001b[0;34m,\u001b[0m\u001b[0;34m\u001b[0m\u001b[0;34m\u001b[0m\u001b[0m\n\u001b[1;32m    373\u001b[0m             \u001b[0mtimes\u001b[0m\u001b[0;34m=\u001b[0m\u001b[0mtimes\u001b[0m \u001b[0;34m+\u001b[0m \u001b[0;36m1\u001b[0m\u001b[0;34m,\u001b[0m\u001b[0;34m\u001b[0m\u001b[0;34m\u001b[0m\u001b[0m\n\u001b[0;32m--> 374\u001b[0;31m             \u001b[0mignore_list\u001b[0m\u001b[0;34m=\u001b[0m\u001b[0mignore_list\u001b[0m\u001b[0;34m,\u001b[0m\u001b[0;34m\u001b[0m\u001b[0;34m\u001b[0m\u001b[0m\n\u001b[0m\u001b[1;32m    375\u001b[0m         )\n\u001b[1;32m    376\u001b[0m \u001b[0;34m\u001b[0m\u001b[0m\n",
      "\u001b[0;32m~/Documents/cobramod/src/cobramod/core/extension.py\u001b[0m in \u001b[0;36mtest_non_zero_flux\u001b[0;34m(model, reaction, times, ignore_list)\u001b[0m\n\u001b[1;32m    372\u001b[0m             \u001b[0mreaction\u001b[0m\u001b[0;34m=\u001b[0m\u001b[0mreaction\u001b[0m\u001b[0;34m,\u001b[0m\u001b[0;34m\u001b[0m\u001b[0;34m\u001b[0m\u001b[0m\n\u001b[1;32m    373\u001b[0m             \u001b[0mtimes\u001b[0m\u001b[0;34m=\u001b[0m\u001b[0mtimes\u001b[0m \u001b[0;34m+\u001b[0m \u001b[0;36m1\u001b[0m\u001b[0;34m,\u001b[0m\u001b[0;34m\u001b[0m\u001b[0;34m\u001b[0m\u001b[0m\n\u001b[0;32m--> 374\u001b[0;31m             \u001b[0mignore_list\u001b[0m\u001b[0;34m=\u001b[0m\u001b[0mignore_list\u001b[0m\u001b[0;34m,\u001b[0m\u001b[0;34m\u001b[0m\u001b[0;34m\u001b[0m\u001b[0m\n\u001b[0m\u001b[1;32m    375\u001b[0m         )\n\u001b[1;32m    376\u001b[0m \u001b[0;34m\u001b[0m\u001b[0m\n",
      "\u001b[0;32m~/Documents/cobramod/src/cobramod/core/extension.py\u001b[0m in \u001b[0;36mtest_non_zero_flux\u001b[0;34m(model, reaction, times, ignore_list)\u001b[0m\n\u001b[1;32m    372\u001b[0m             \u001b[0mreaction\u001b[0m\u001b[0;34m=\u001b[0m\u001b[0mreaction\u001b[0m\u001b[0;34m,\u001b[0m\u001b[0;34m\u001b[0m\u001b[0;34m\u001b[0m\u001b[0m\n\u001b[1;32m    373\u001b[0m             \u001b[0mtimes\u001b[0m\u001b[0;34m=\u001b[0m\u001b[0mtimes\u001b[0m \u001b[0;34m+\u001b[0m \u001b[0;36m1\u001b[0m\u001b[0;34m,\u001b[0m\u001b[0;34m\u001b[0m\u001b[0;34m\u001b[0m\u001b[0m\n\u001b[0;32m--> 374\u001b[0;31m             \u001b[0mignore_list\u001b[0m\u001b[0;34m=\u001b[0m\u001b[0mignore_list\u001b[0m\u001b[0;34m,\u001b[0m\u001b[0;34m\u001b[0m\u001b[0;34m\u001b[0m\u001b[0m\n\u001b[0m\u001b[1;32m    375\u001b[0m         )\n\u001b[1;32m    376\u001b[0m \u001b[0;34m\u001b[0m\u001b[0m\n",
      "\u001b[0;32m~/Documents/cobramod/src/cobramod/core/extension.py\u001b[0m in \u001b[0;36mtest_non_zero_flux\u001b[0;34m(model, reaction, times, ignore_list)\u001b[0m\n\u001b[1;32m    372\u001b[0m             \u001b[0mreaction\u001b[0m\u001b[0;34m=\u001b[0m\u001b[0mreaction\u001b[0m\u001b[0;34m,\u001b[0m\u001b[0;34m\u001b[0m\u001b[0;34m\u001b[0m\u001b[0m\n\u001b[1;32m    373\u001b[0m             \u001b[0mtimes\u001b[0m\u001b[0;34m=\u001b[0m\u001b[0mtimes\u001b[0m \u001b[0;34m+\u001b[0m \u001b[0;36m1\u001b[0m\u001b[0;34m,\u001b[0m\u001b[0;34m\u001b[0m\u001b[0;34m\u001b[0m\u001b[0m\n\u001b[0;32m--> 374\u001b[0;31m             \u001b[0mignore_list\u001b[0m\u001b[0;34m=\u001b[0m\u001b[0mignore_list\u001b[0m\u001b[0;34m,\u001b[0m\u001b[0;34m\u001b[0m\u001b[0;34m\u001b[0m\u001b[0m\n\u001b[0m\u001b[1;32m    375\u001b[0m         )\n\u001b[1;32m    376\u001b[0m \u001b[0;34m\u001b[0m\u001b[0m\n",
      "\u001b[0;32m~/Documents/cobramod/src/cobramod/core/extension.py\u001b[0m in \u001b[0;36mtest_non_zero_flux\u001b[0;34m(model, reaction, times, ignore_list)\u001b[0m\n\u001b[1;32m    347\u001b[0m     \u001b[0;31m# Setting maximum times for recursion\u001b[0m\u001b[0;34m\u001b[0m\u001b[0;34m\u001b[0m\u001b[0;34m\u001b[0m\u001b[0m\n\u001b[1;32m    348\u001b[0m     \u001b[0;32mif\u001b[0m \u001b[0mtimes\u001b[0m \u001b[0;34m==\u001b[0m \u001b[0mlen\u001b[0m\u001b[0;34m(\u001b[0m\u001b[0mmodel\u001b[0m\u001b[0;34m.\u001b[0m\u001b[0mreactions\u001b[0m\u001b[0;34m.\u001b[0m\u001b[0mget_by_id\u001b[0m\u001b[0;34m(\u001b[0m\u001b[0mreaction\u001b[0m\u001b[0;34m)\u001b[0m\u001b[0;34m.\u001b[0m\u001b[0mmetabolites\u001b[0m\u001b[0;34m)\u001b[0m\u001b[0;34m:\u001b[0m\u001b[0;34m\u001b[0m\u001b[0;34m\u001b[0m\u001b[0m\n\u001b[0;32m--> 349\u001b[0;31m         \u001b[0;32mraise\u001b[0m \u001b[0mNotInRangeError\u001b[0m\u001b[0;34m(\u001b[0m\u001b[0mreaction\u001b[0m\u001b[0;34m=\u001b[0m\u001b[0mmodel\u001b[0m\u001b[0;34m.\u001b[0m\u001b[0mreactions\u001b[0m\u001b[0;34m.\u001b[0m\u001b[0mget_by_id\u001b[0m\u001b[0;34m(\u001b[0m\u001b[0mreaction\u001b[0m\u001b[0;34m)\u001b[0m\u001b[0;34m)\u001b[0m\u001b[0;34m\u001b[0m\u001b[0;34m\u001b[0m\u001b[0m\n\u001b[0m\u001b[1;32m    350\u001b[0m     \u001b[0;31m# answer must be reasonable\u001b[0m\u001b[0;34m\u001b[0m\u001b[0;34m\u001b[0m\u001b[0;34m\u001b[0m\u001b[0m\n\u001b[1;32m    351\u001b[0m     \u001b[0;31m# comparison must be using absolute values\u001b[0m\u001b[0;34m\u001b[0m\u001b[0;34m\u001b[0m\u001b[0;34m\u001b[0m\u001b[0m\n",
      "\u001b[0;31mNotInRangeError\u001b[0m: The following reaction \"GLUTATHIONE_SYN_RXN_p\" failed the non-zero flux test multiple times. Flux value are below solver tolerance. Please curate manually by adding reactions that enable turnover of metabolites: GLY_p, L_GAMMA_GLUTAMYLCYSTEINE_p, PROTON_p, ATP_p, GLUTATHIONE_p, Pi_p, ADP_p"
     ]
    }
   ],
   "source": [
    "from cobramod import test_non_zero_flux, add_reactions\n",
    "from cobramod.test import textbook_biocyc\n",
    "\n",
    "test_model = textbook_biocyc.copy()\n",
    "\n",
    "add_reactions(\n",
    "    model=test_model,\n",
    "    # These reactions will break the model and raise errors\n",
    "    obj=[\n",
    "        \"Redox_ADP_ATP_p, Redox_ADP_ATP_p | ADP_p <-> ATP_p\",\n",
    "        \"TRANS_Pi_cp, Transport Phosphate_cp | Pi_c <-> Pi_p\",\n",
    "        \"TRANS_GLUTATHIONE_cp, Transport GLUTATHIONE_cp | \"\n",
    "        + \"GLUTATHIONE_c <-> GLUTATHIONE_p\",\n",
    "        \"GLUTATHIONE-SYN-RXN, p\",\n",
    "    ],\n",
    "    directory=dir_data,\n",
    "    database=\"ECOLI\",\n",
    "    replacement={},\n",
    ")\n",
    "test_non_zero_flux(\n",
    "    model=test_model,\n",
    "    reaction=\"GLUTATHIONE_SYN_RXN_p\",\n",
    "    ignore_list=[\"PROTON_p\"],\n",
    ")\n"
   ]
  },
  {
   "cell_type": "markdown",
   "metadata": {
    "id": "XMVGghQRW0dt"
   },
   "source": [
    "## Curation process\n",
    "\n",
    "CobraMod automatically performs the following curation steps suring the creation of COBRApy reaction and metabolite objects and CobraMod \n",
    "pathway objects:\n",
    "\n",
    "\n",
    "1. If CobraMod encounters large molecules or data objects with missing entries,\n",
    "it prints a warning.\n",
    "2. CobraMod tries to identify COBRApy reactions and metabolites that are\n",
    "already in the model instead of creating them. The reaction and metabolite\n",
    "information contains multiple cross-references database entries. If an entry is \n",
    "found in the model, then CobraMod uses it instead of creating the COBRApy \n",
    "objects.\n",
    "3. CobraMod utilizes the COBRApy method [cobra.Reaction.check_mass_balance()](\n",
    "https://cobrapy.readthedocs.io/en/latest/autoapi/cobra/core/reaction/index.html#cobra.core.reaction.Reaction.check_mass_balance \n",
    ") and returns a warning if imbalances are found.\n",
    "4. This package uses the reaction reversibility information provided with the\n",
    "obtained reaction data. If reversibility information is missing, CobraMod raises a warning.\n",
    "5. When CobraMod adds a pathway, every pathway reaction undergos a *non-zero flux test*. If a reaction cannot carry a non-zero flux, CobraMod adds\n",
    "auxiliary sink reactions to unblock the reaction and suggests manual curation steps based on these auxiliary modifications.\n",
    "6. All information about downloads, the creation of objects, warnings and exceptions are written to the log file `debug.log`. As an example, below we show part of such a log file."
   ]
  },
  {
   "cell_type": "code",
   "execution_count": 21,
   "metadata": {
    "id": "git3aYmj-wK7"
   },
   "outputs": [
    {
     "name": "stdout",
     "output_type": "stream",
     "text": [
      "2021-07-02 12:49:56,077 INFO Data for \"CPD-14074\" retrieved.\r\n",
      "2021-07-02 12:49:56,082 INFO Data for \"CPD-14075\" retrieved.\r\n",
      "2021-07-02 12:49:56,086 INFO Data for \"CPD-14076\" retrieved.\r\n",
      "2021-07-02 12:49:56,092 INFO Data for \"CPD-14553\" retrieved.\r\n",
      "2021-07-02 12:49:56,096 INFO Data for \"CPD-15317\" retrieved.\r\n",
      "2021-07-02 12:49:56,102 INFO Data for \"CPD-15322\" retrieved.\r\n",
      "2021-07-02 12:49:56,108 INFO Data for \"CPD-15323\" retrieved.\r\n",
      "2021-07-02 12:49:56,114 INFO Data for \"CPD-15326\" retrieved.\r\n",
      "2021-07-02 12:49:56,142 INFO Object 'C00026_c' identified as a metabolite\r\n",
      "2021-07-02 12:49:56,616 INFO Metabolite \"MET_c\" was added to model.\r\n",
      "2021-07-02 12:49:56,635 WARNING Metabolite \"MET_c\" was already in model. Skipping.\r\n",
      "2021-07-02 12:49:56,635 INFO Metabolite \"SUCROSE_c\" was added to model.\r\n",
      "2021-07-02 12:49:56,688 INFO Metabolite \"SUCROSE_c\" was added to model.\r\n",
      "2021-07-02 12:49:56,689 INFO Metabolite \"MET_c\" was added to model.\r\n",
      "2021-07-02 12:49:56,689 INFO Metabolite \"MALTOSE_c\" was added to model.\r\n",
      "2021-07-02 12:49:56,719 INFO Metabolite \"xu5p__D_c\" was added to model.\r\n",
      "2021-07-02 12:49:56,758 WARNING Gene-reaction rule for reaction \"R04382\" assumed as \"OR\".\r\n",
      "2021-07-02 12:49:56,772 INFO For reaction \"R04382_c\", gene \"c0319\" was created and its name changed to \"c0319\".\r\n",
      "2021-07-02 12:49:56,774 INFO Reaction \"R04382_c\" was added to model.\r\n",
      "2021-07-02 12:49:56,788 WARNING Gene-reaction rule for reaction \"R04382\" assumed as \"OR\".\r\n"
     ]
    }
   ],
   "source": [
    "!head debug.log -n 20"
   ]
  },
  {
   "cell_type": "markdown",
   "metadata": {
    "id": "lndble907408"
   },
   "source": [
    "## Converting COBRApy Groups back to CobraMod Pathways \n",
    "\n",
    "The COBRApy function [cobra.io.write_sbml_model()](\n",
    "  https://cobrapy.readthedocs.io/en/latest/autoapi/cobra/io/index.html#cobra.io.write_sbml_model\n",
    ") writes cobra models to sbml files. If a model contains a [cobramod.Pathway](\n",
    "module/cobramod/index.html#cobramod.Pathway\n",
    ")\n",
    "and the user calls the function `write_sbml_model`, they are saved\n",
    "as a [COBRApy Group](\n",
    "  https://cobrapy.readthedocs.io/en/latest/autoapi/cobra/core/group/index.html#cobra.core.group.Group\n",
    "). If the user loads the written model using the COBRApy function\n",
    "[cobra.io.read_sbml_model()](\n",
    "  https://cobrapy.readthedocs.io/en/latest/autoapi/cobra/io/index.html#cobra.io.read_sbml_model\n",
    "), the model creates COBRApy groups object instead of the CobraMod pathway\n",
    "objects.\n",
    "\n",
    "To overcome this problem, we created the function [cobramod.model_convert()](\n",
    "module/cobramod/core/pathway/index.html#cobramod.core.pathway.model_convert\n",
    ") which converts the COBRApy group objects into CobraMod pathway objects.\n",
    "\n",
    "In the following example, we create a `Group` and add four reactions to \n",
    "it. We add this group to the model to simulate loading a model with groups. The\n",
    "only argument for this function is `model` which is the respective model\n",
    "with groups instead of pathway objects. \n",
    " \n",
    "Finally, we call the respective CobraMod pathway object to make sure it is a\n",
    "pathway object."
   ]
  },
  {
   "cell_type": "code",
   "execution_count": 22,
   "metadata": {
    "colab": {
     "base_uri": "https://localhost:8080/",
     "height": 265
    },
    "id": "wu5oKFEe7408",
    "outputId": "254b59cc-3f50-4346-99cd-f6c70d1579bd"
   },
   "outputs": [
    {
     "data": {
      "text/html": [
       "\n",
       "<table> <tbody> <tr> <td><strong>Pathway identifier</strong></td>\n",
       "<td>curated_pathway</td> </tr> <tr> <td><strong>Name</strong></td>\n",
       "<td></td> </tr> <tr> <td><strong>Memory address</strong></td>\n",
       "<td>0x0140657006540112</td> </tr> <tr> <td><strong>Reactions involved</strong></td>\n",
       "<td> <p>GLCpts, G6PDH2r, PGL, GND</p> </td> </tr> <tr>\n",
       "<td><strong>Genes involved<br /></strong></td> <td> <p>b1818, b1621, b1101, b2416, b2417, b1819, b1817, b2415, b1852, b0767, b2029</p> </td> </tr> <tr>\n",
       "<td><strong>Visualization attributes</strong></td> <td> <ul> <li>vertical =\n",
       "False</li> <li>color_negative = None</li>\n",
       "<li>color_positive = None</li> <li>color_quantile =\n",
       "False</li> </ul> </td> </tr> </tbody> </table> <p>&nbsp;</p>\n"
      ],
      "text/plain": [
       "<Pathway curated_pathway at 0x7fed42e8f550>"
      ]
     },
     "execution_count": 22,
     "metadata": {},
     "output_type": "execute_result"
    }
   ],
   "source": [
    "from cobramod import model_convert\n",
    "from cobramod.test import textbook_biocyc\n",
    "from cobra.core.group import Group\n",
    "\n",
    "test_model = textbook_biocyc.copy()\n",
    "# Creation of group\n",
    "test_group = Group(id=\"curated_pathway\")\n",
    "for reaction in (\"GLCpts\", \"G6PDH2r\", \"PGL\", \"GND\"):\n",
    "    test_group.add_members([test_model.reactions.get_by_id(reaction)])\n",
    "test_model.add_groups([test_group])\n",
    "\n",
    "# Conversion to a Pathway\n",
    "model_convert(model=test_model)\n",
    "# Display to Jupyter\n",
    "test_model.groups.get_by_id(\"curated_pathway\")"
   ]
  },
  {
   "cell_type": "markdown",
   "metadata": {
    "id": "cKNlZylSvsis"
   },
   "source": [
    "## Visualization with Escher\n",
    "\n",
    "CobraMod uses [Escher](https://escher.readthedocs.io/en/latest/) to visualize\n",
    "pathways and fluxes. Each CobraMod pathway includes a visualization method\n",
    "[Pathway.visualize()](\n",
    "module/cobramod/core/pathway/index.html#cobramod.core.pathway.Pathway.visualize\n",
    ") which automatically generates pathway maps of the respective set of\n",
    "reactions. These pathway maps can be easily customized to visualize flux\n",
    "distributions using default or user-defined colors and gradients (linear or\n",
    "quantile normalized).\n",
    "\n",
    "In the following example, we call the function `visualize` without any arguments."
   ]
  },
  {
   "cell_type": "code",
   "execution_count": 23,
   "metadata": {
    "id": "vEeMnrkK7407",
    "scrolled": false
   },
   "outputs": [
    {
     "data": {
      "application/vnd.jupyter.widget-view+json": {
       "model_id": "f13474675c834dfab3f5cd964999f081",
       "version_major": 2,
       "version_minor": 0
      },
      "text/plain": [
       "Builder(never_ask_before_quit=True, reaction_scale={}, reaction_styles=['color', 'text'])"
      ]
     },
     "metadata": {},
     "output_type": "display_data"
    }
   ],
   "source": [
    "test_model.groups.get_by_id(\"curated_pathway\").visualize()"
   ]
  },
  {
   "cell_type": "markdown",
   "metadata": {
    "id": "Tv6AKMMC6DYq"
   },
   "source": [
    "We can modify the orientation of our pathway by changing the attribute \n",
    "`vertical` to `True`."
   ]
  },
  {
   "cell_type": "code",
   "execution_count": 24,
   "metadata": {
    "id": "g2brjcEp6DHR"
   },
   "outputs": [
    {
     "data": {
      "application/vnd.jupyter.widget-view+json": {
       "model_id": "bcdcf9364450460c85f4beddcde4bfa6",
       "version_major": 2,
       "version_minor": 0
      },
      "text/plain": [
       "Builder(never_ask_before_quit=True, reaction_scale={}, reaction_styles=['color', 'text'])"
      ]
     },
     "metadata": {},
     "output_type": "display_data"
    }
   ],
   "source": [
    "test_model.groups.get_by_id(\"curated_pathway\").vertical = True\n",
    "test_model.groups.get_by_id(\"curated_pathway\").visualize()"
   ]
  },
  {
   "cell_type": "markdown",
   "metadata": {
    "id": "uBCHBBzkp3NV"
   },
   "source": [
    "The visualization method can also be called with the argument `solution_fluxes`.\n",
    "This argument can be a dictionary with the fluxes of the reactions\n",
    "or a [COBRApy Solution](\n",
    "https://cobrapy.readthedocs.io/en/latest/autoapi/cobra/core/solution/index.html#cobra.core.solution.Solution\n",
    "). CobraMod assigns colors to the fluxes values based on the chosen normalizaton method. By default, smaller absolute fluxes (positive and negative) get a paler coloring with zero flux values colored in grey. By default, the visualization method uses the minimal and maximum bounds\n",
    "from the argument `solution_flux` to show stronger coloring. CobraMod uses\n",
    "these bounds to equally distribute the color gradient.\n",
    "\n",
    "In the following example, we create a dictionary with fluxes and we pass it to the visualization method."
   ]
  },
  {
   "cell_type": "code",
   "execution_count": 25,
   "metadata": {
    "id": "iBJJokl0pz7R"
   },
   "outputs": [
    {
     "data": {
      "application/vnd.jupyter.widget-view+json": {
       "model_id": "746bcd44546841a7aebeea5c3226cea1",
       "version_major": 2,
       "version_minor": 0
      },
      "text/plain": [
       "Builder(never_ask_before_quit=True, reaction_data={'GLCpts': -2, 'G6PDH2r': -2, 'PGL': 0.4, 'GND': 1}, reactio…"
      ]
     },
     "metadata": {},
     "output_type": "display_data"
    }
   ],
   "source": [
    "# For flux visualization of the group\n",
    "solution =  {\n",
    "    \"GLCpts\": -2, \"G6PDH2r\": -2, \"PGL\": 0.4, \"GND\": 1\n",
    "}\n",
    "# Modifying attributes\n",
    "test_model.groups.get_by_id(\"curated_pathway\").visualize(\n",
    "    solution_fluxes=solution\n",
    ")"
   ]
  },
  {
   "cell_type": "markdown",
   "metadata": {
    "id": "yi4qsx037csv"
   },
   "source": [
    "We can change the colors of the fluxes by changing the attribute \n",
    "`color_negative` and `color_positive`. In this example, we use the red color for\n",
    "negative fluxes and green for positive fluxes."
   ]
  },
  {
   "cell_type": "code",
   "execution_count": 26,
   "metadata": {
    "id": "1GmD6-He7U0y"
   },
   "outputs": [
    {
     "data": {
      "application/vnd.jupyter.widget-view+json": {
       "model_id": "497c929f7bda4623a92d86c1c923d15d",
       "version_major": 2,
       "version_minor": 0
      },
      "text/plain": [
       "Builder(never_ask_before_quit=True, reaction_data={'GLCpts': -2, 'G6PDH2r': -2, 'PGL': 0.4, 'GND': 1}, reactio…"
      ]
     },
     "metadata": {},
     "output_type": "display_data"
    }
   ],
   "source": [
    "# Modifying attributes\n",
    "test_model.groups.get_by_id(\"curated_pathway\").color_negative = \"red\"\n",
    "test_model.groups.get_by_id(\"curated_pathway\").color_positive = \"green\"\n",
    "test_model.groups.get_by_id(\"curated_pathway\").visualize(\n",
    "    solution_fluxes=solution\n",
    ")"
   ]
  },
  {
   "cell_type": "markdown",
   "metadata": {
    "id": "zC-70eboHpts"
   },
   "source": [
    "The user can also set the bounds of the coloring by modifying the CobraMod\n",
    "patway attribute `color_min_max`. In this example we change the bounds to -10 \n",
    "and 10. The color of fluxes result in pale colors because the value of the \n",
    "fluxes are not near the bounds. This option is useful when the user wants to\n",
    "compare a specific range of values. For instance, comparing either only positive\n",
    "or negative values between multiple pathways."
   ]
  },
  {
   "cell_type": "code",
   "execution_count": 27,
   "metadata": {
    "id": "ZBSnF5SPHpVb"
   },
   "outputs": [
    {
     "data": {
      "application/vnd.jupyter.widget-view+json": {
       "model_id": "f419de90f92545fd9324bbcf7e4d3d77",
       "version_major": 2,
       "version_minor": 0
      },
      "text/plain": [
       "Builder(never_ask_before_quit=True, reaction_data={'GLCpts': -2, 'G6PDH2r': -2, 'PGL': 0.4, 'GND': 1}, reactio…"
      ]
     },
     "metadata": {},
     "output_type": "display_data"
    }
   ],
   "source": [
    "test_model.groups.get_by_id(\"curated_pathway\").color_min_max = [-10, 10]\n",
    "test_model.groups.get_by_id(\"curated_pathway\").visualize(\n",
    "    solution_fluxes=solution\n",
    ")"
   ]
  },
  {
   "cell_type": "markdown",
   "metadata": {
    "id": "Y2fjw7lk8-lI"
   },
   "source": [
    "In the next example, we use the default behavior of the bounds by setting the \n",
    "`color_min_max` attribute to `None` and change the colors to orange for\n",
    "negative flux values and light blue for positive flux values. Available colors\n",
    "can be found [here](\n",
    "https://www.w3schools.com/cssref/css_colors.asp\n",
    ")"
   ]
  },
  {
   "cell_type": "code",
   "execution_count": 28,
   "metadata": {
    "colab": {
     "base_uri": "https://localhost:8080/",
     "height": 17,
     "referenced_widgets": [
      "a36420947dff4528a676e70c35530eb7"
     ]
    },
    "id": "7CgOK9vN89dW",
    "outputId": "b54d8932-7797-4fbf-d114-19a58d7d1db4"
   },
   "outputs": [
    {
     "data": {
      "application/vnd.jupyter.widget-view+json": {
       "model_id": "2c6f3ca395444e8185d94e651e521206",
       "version_major": 2,
       "version_minor": 0
      },
      "text/plain": [
       "Builder(never_ask_before_quit=True, reaction_data={'GLCpts': -2, 'G6PDH2r': -2, 'PGL': 0.4, 'GND': 1, 'Other':…"
      ]
     },
     "metadata": {},
     "output_type": "display_data"
    }
   ],
   "source": [
    "# New flux with high value\n",
    "solution =  {\n",
    "    \"GLCpts\": -2, \"G6PDH2r\": -2, \"PGL\": 0.4, \"GND\": 1, \"Other\": 1000\n",
    "}\n",
    "# Using defaults\n",
    "test_model.groups.get_by_id(\"curated_pathway\").color_min_max = None\n",
    "\n",
    "test_model.groups.get_by_id(\"curated_pathway\").color_negative = \"orange\"\n",
    "test_model.groups.get_by_id(\"curated_pathway\").color_positive = \"lightskyblue\"\n",
    "test_model.groups.get_by_id(\"curated_pathway\").visualize(\n",
    "    solution_fluxes=solution\n",
    ")"
   ]
  },
  {
   "cell_type": "markdown",
   "metadata": {
    "id": "zpUBhsNj98gp"
   },
   "source": [
    "The user can change the color gradient to a quantile normalization. This means\n",
    "that the color gradient is determined by the quantiles of the\n",
    "`solution_fluxes` argument, rather than the maximum und minimum bounds. \n",
    "The user can activate this option by changing the attribute `color_quantile` to\n",
    "`True`. This is for example useful when the fluxes values vary by several orders of magnitude. For instance, in the previous example, we added a reaction to the dictionary with a flux value of 1000. We can see that the positive colors are quite pale. Thus, in the next example we change the attribute `color_quantile` and now the colors are much brighter."
   ]
  },
  {
   "cell_type": "code",
   "execution_count": 29,
   "metadata": {
    "id": "Ge1BuOUc99C2"
   },
   "outputs": [
    {
     "data": {
      "application/vnd.jupyter.widget-view+json": {
       "model_id": "9bbaec422b8e4cd3bf15c418067cd427",
       "version_major": 2,
       "version_minor": 0
      },
      "text/plain": [
       "Builder(never_ask_before_quit=True, reaction_data={'GLCpts': -2, 'G6PDH2r': -2, 'PGL': 0.4, 'GND': 1, 'Other':…"
      ]
     },
     "metadata": {},
     "output_type": "display_data"
    }
   ],
   "source": [
    "test_model.groups.get_by_id(\"curated_pathway\").color_quantile = True\n",
    "test_model.groups.get_by_id(\"curated_pathway\").visualize(\n",
    "    solution_fluxes=solution\n",
    ")"
   ]
  },
  {
   "cell_type": "markdown",
   "metadata": {
    "id": "tdouxbsr_kg_"
   },
   "source": [
    "The user can call the `Pathway` for a summary of the current \n",
    "attributes."
   ]
  },
  {
   "cell_type": "code",
   "execution_count": 30,
   "metadata": {
    "id": "Pteu2RW29Kod"
   },
   "outputs": [
    {
     "data": {
      "text/html": [
       "\n",
       "<table> <tbody> <tr> <td><strong>Pathway identifier</strong></td>\n",
       "<td>curated_pathway</td> </tr> <tr> <td><strong>Name</strong></td>\n",
       "<td></td> </tr> <tr> <td><strong>Memory address</strong></td>\n",
       "<td>0x0140657006540112</td> </tr> <tr> <td><strong>Reactions involved</strong></td>\n",
       "<td> <p>GLCpts, G6PDH2r, PGL, GND</p> </td> </tr> <tr>\n",
       "<td><strong>Genes involved<br /></strong></td> <td> <p>b1818, b1621, b1101, b2416, b2417, b1819, b1817, b2415, b1852, b0767, b2029</p> </td> </tr> <tr>\n",
       "<td><strong>Visualization attributes</strong></td> <td> <ul> <li>vertical =\n",
       "True</li> <li>color_negative = orange</li>\n",
       "<li>color_positive = lightskyblue</li> <li>color_quantile =\n",
       "True</li> </ul> </td> </tr> </tbody> </table> <p>&nbsp;</p>\n"
      ],
      "text/plain": [
       "<Pathway curated_pathway at 0x7fed42e8f550>"
      ]
     },
     "execution_count": 30,
     "metadata": {},
     "output_type": "execute_result"
    }
   ],
   "source": [
    "test_model.groups.get_by_id(\"curated_pathway\")"
   ]
  },
  {
   "cell_type": "markdown",
   "metadata": {
    "id": "ljWird8j1UJi"
   },
   "source": [
    "CobraMod pathway maps are saved as  HTML files with the default name\n",
    "`pathway.html`. The user can specify the file name with the argument `filename`. In the following example, we name the file `curated_pathway.html`.\n"
   ]
  },
  {
   "cell_type": "code",
   "execution_count": 31,
   "metadata": {
    "id": "kp99_Vsj8TVc"
   },
   "outputs": [
    {
     "data": {
      "application/vnd.jupyter.widget-view+json": {
       "model_id": "795076e1f838451abc53f33a0e4ae4a4",
       "version_major": 2,
       "version_minor": 0
      },
      "text/plain": [
       "Builder(never_ask_before_quit=True, reaction_data={'GLCpts': -2, 'G6PDH2r': -2, 'PGL': 0.4, 'GND': 1, 'Other':…"
      ]
     },
     "metadata": {},
     "output_type": "display_data"
    }
   ],
   "source": [
    "test_model.groups.get_by_id(\"curated_pathway\").visualize(\n",
    "    solution_fluxes=solution, filename = \"curated_pathway.html\"\n",
    ")"
   ]
  },
  {
   "cell_type": "markdown",
   "metadata": {
    "id": "rqP6-WVU8iPV"
   },
   "source": [
    "We can verify that the file exists by using the `ls` command.\n"
   ]
  },
  {
   "cell_type": "code",
   "execution_count": 32,
   "metadata": {
    "colab": {
     "base_uri": "https://localhost:8080/"
    },
    "id": "lwunVyzE8dnW",
    "outputId": "14537022-e3ed-42b6-90cc-2cf55ddb1dfd"
   },
   "outputs": [
    {
     "name": "stdout",
     "output_type": "stream",
     "text": [
      "curated_pathway.html\r\n"
     ]
    }
   ],
   "source": [
    "!ls curated_pathway.html"
   ]
  }
 ],
 "metadata": {
  "colab": {
   "collapsed_sections": [],
   "name": "how_to.ipynb",
   "provenance": []
  },
  "kernelspec": {
   "display_name": "Python 3 (ipykernel)",
   "language": "python",
   "name": "python3"
  },
  "language_info": {
   "codemirror_mode": {
    "name": "ipython",
    "version": 3
   },
   "file_extension": ".py",
   "mimetype": "text/x-python",
   "name": "python",
   "nbconvert_exporter": "python",
   "pygments_lexer": "ipython3",
   "version": "3.7.4"
  },
  "widgets": {
   "application/vnd.jupyter.widget-state+json": {
    "state": {
     "0185cdc0b9e54a55884d144bccfe3a91": {
      "model_module": "@jupyter-widgets/base",
      "model_module_version": "1.2.0",
      "model_name": "LayoutModel",
      "state": {}
     },
     "127fc501282c40a1857d7c6f6f542516": {
      "model_module": "@jupyter-widgets/base",
      "model_module_version": "1.2.0",
      "model_name": "LayoutModel",
      "state": {}
     },
     "2c6f3ca395444e8185d94e651e521206": {
      "model_module": "escher",
      "model_module_version": "1.7.3",
      "model_name": "EscherMapModel",
      "state": {
       "_loaded_map_json": "[{\"map_name\": \"\", \"map_id\": \"\", \"map_description\": \"\", \"homepage\": \"\", \"schema\": \"https://escher.github.io/escher/jsonschema/1-0-0#\"}, {\"reactions\": {\"0\": {\"name\": \"GLCpts\", \"bigg_id\": \"GLCpts\", \"reversibility\": true, \"label_x\": 265.0, \"label_y\": 325.0, \"gene_reaction_rule\": \"\", \"genes\": [], \"segments\": {\"0\": {\"from_node_id\": \"4\", \"to_node_id\": \"5\", \"b1\": null, \"b2\": null}, \"1\": {\"from_node_id\": \"6\", \"to_node_id\": \"5\", \"b1\": null, \"b2\": null}, \"2\": {\"from_node_id\": \"0\", \"to_node_id\": \"4\", \"b1\": null, \"b2\": null}, \"3\": {\"from_node_id\": \"1\", \"to_node_id\": \"4\", \"b1\": null, \"b2\": null}, \"4\": {\"from_node_id\": \"2\", \"to_node_id\": \"6\", \"b1\": null, \"b2\": null}, \"5\": {\"from_node_id\": \"3\", \"to_node_id\": \"6\", \"b1\": null, \"b2\": null}}, \"metabolites\": [{\"bigg_id\": \"Glucopyranose_e\", \"coefficient\": -1.0}, {\"bigg_id\": \"PHOSPHO_ENOL_PYRUVATE_c\", \"coefficient\": -1.0}, {\"bigg_id\": \"D_glucopyranose_6_phosphate_c\", \"coefficient\": 1.0}, {\"bigg_id\": \"PYRUVATE_c\", \"coefficient\": 1.0}]}, \"1\": {\"name\": \"G6PDH2r\", \"bigg_id\": \"G6PDH2r\", \"reversibility\": true, \"label_x\": 265.0, \"label_y\": 975.0, \"gene_reaction_rule\": \"\", \"genes\": [], \"segments\": {\"6\": {\"from_node_id\": \"11\", \"to_node_id\": \"12\", \"b1\": null, \"b2\": null}, \"7\": {\"from_node_id\": \"13\", \"to_node_id\": \"12\", \"b1\": null, \"b2\": null}, \"8\": {\"from_node_id\": \"2\", \"to_node_id\": \"11\", \"b1\": null, \"b2\": null}, \"9\": {\"from_node_id\": \"7\", \"to_node_id\": \"11\", \"b1\": null, \"b2\": null}, \"10\": {\"from_node_id\": \"8\", \"to_node_id\": \"13\", \"b1\": null, \"b2\": null}, \"11\": {\"from_node_id\": \"9\", \"to_node_id\": \"13\", \"b1\": null, \"b2\": null}, \"12\": {\"from_node_id\": \"10\", \"to_node_id\": \"13\", \"b1\": null, \"b2\": null}}, \"metabolites\": [{\"bigg_id\": \"D_glucopyranose_6_phosphate_c\", \"coefficient\": -1.0}, {\"bigg_id\": \"NADP_c\", \"coefficient\": -1.0}, {\"bigg_id\": \"D_6_P_GLUCONO_DELTA_LACTONE_c\", \"coefficient\": 1.0}, {\"bigg_id\": \"NADPH_c\", \"coefficient\": 1.0}, {\"bigg_id\": \"PROTON_c\", \"coefficient\": 1.0}]}, \"2\": {\"name\": \"PGL\", \"bigg_id\": \"PGL\", \"reversibility\": true, \"label_x\": 265.0, \"label_y\": 1625.0, \"gene_reaction_rule\": \"\", \"genes\": [], \"segments\": {\"13\": {\"from_node_id\": \"17\", \"to_node_id\": \"18\", \"b1\": null, \"b2\": null}, \"14\": {\"from_node_id\": \"19\", \"to_node_id\": \"18\", \"b1\": null, \"b2\": null}, \"15\": {\"from_node_id\": \"14\", \"to_node_id\": \"17\", \"b1\": null, \"b2\": null}, \"16\": {\"from_node_id\": \"8\", \"to_node_id\": \"17\", \"b1\": null, \"b2\": null}, \"17\": {\"from_node_id\": \"15\", \"to_node_id\": \"19\", \"b1\": null, \"b2\": null}, \"18\": {\"from_node_id\": \"16\", \"to_node_id\": \"19\", \"b1\": null, \"b2\": null}}, \"metabolites\": [{\"bigg_id\": \"CPD_15815_c\", \"coefficient\": -1.0}, {\"bigg_id\": \"D_6_P_GLUCONO_DELTA_LACTONE_c\", \"coefficient\": -1.0}, {\"bigg_id\": \"CPD_2961_c\", \"coefficient\": 1.0}, {\"bigg_id\": \"PROTON_c\", \"coefficient\": 1.0}]}, \"3\": {\"name\": \"GND\", \"bigg_id\": \"GND\", \"reversibility\": true, \"label_x\": 265.0, \"label_y\": 2275.0, \"gene_reaction_rule\": \"\", \"genes\": [], \"segments\": {\"19\": {\"from_node_id\": \"24\", \"to_node_id\": \"25\", \"b1\": null, \"b2\": null}, \"20\": {\"from_node_id\": \"26\", \"to_node_id\": \"25\", \"b1\": null, \"b2\": null}, \"21\": {\"from_node_id\": \"15\", \"to_node_id\": \"24\", \"b1\": null, \"b2\": null}, \"22\": {\"from_node_id\": \"20\", \"to_node_id\": \"24\", \"b1\": null, \"b2\": null}, \"23\": {\"from_node_id\": \"21\", \"to_node_id\": \"26\", \"b1\": null, \"b2\": null}, \"24\": {\"from_node_id\": \"22\", \"to_node_id\": \"26\", \"b1\": null, \"b2\": null}, \"25\": {\"from_node_id\": \"23\", \"to_node_id\": \"26\", \"b1\": null, \"b2\": null}}, \"metabolites\": [{\"bigg_id\": \"CPD_2961_c\", \"coefficient\": -1.0}, {\"bigg_id\": \"NADP_c\", \"coefficient\": -1.0}, {\"bigg_id\": \"CARBON_DIOXIDE_c\", \"coefficient\": 1.0}, {\"bigg_id\": \"NADPH_c\", \"coefficient\": 1.0}, {\"bigg_id\": \"RIBULOSE_5P_c\", \"coefficient\": 1.0}]}}, \"nodes\": {\"0\": {\"node_type\": \"metabolite\", \"x\": 150.0, \"y\": 30.0, \"label_x\": 160.0, \"label_y\": 20.0, \"bigg_id\": \"Glucopyranose_e\", \"name\": \"Glucopyranose_e\", \"node_is_primary\": false}, \"1\": {\"node_type\": \"metabolite\", \"x\": 300.0, \"y\": 30.0, \"label_x\": 310.0, \"label_y\": 20.0, \"bigg_id\": \"PHOSPHO_ENOL_PYRUVATE_c\", \"name\": \"PHOSPHO_ENOL_PYRUVATE_c\", \"node_is_primary\": false}, \"2\": {\"node_type\": \"metabolite\", \"x\": 150.0, \"y\": 550.0, \"label_x\": 160.0, \"label_y\": 580.0, \"bigg_id\": \"D_glucopyranose_6_phosphate_c\", \"name\": \"D_glucopyranose_6_phosphate_c\", \"node_is_primary\": false}, \"3\": {\"node_type\": \"metabolite\", \"x\": 300.0, \"y\": 550.0, \"label_x\": 310.0, \"label_y\": 580.0, \"bigg_id\": \"PYRUVATE_c\", \"name\": \"PYRUVATE_c\", \"node_is_primary\": false}, \"4\": {\"node_type\": \"multimarker\", \"x\": 225.0, \"y\": 305.0}, \"5\": {\"node_type\": \"midmarker\", \"x\": 225.0, \"y\": 325.0}, \"6\": {\"node_type\": \"multimarker\", \"x\": 225.0, \"y\": 345.0}, \"7\": {\"node_type\": \"metabolite\", \"x\": 300.0, \"y\": 680.0, \"label_x\": 310.0, \"label_y\": 670.0, \"bigg_id\": \"NADP_c\", \"name\": \"NADP_c\", \"node_is_primary\": false}, \"8\": {\"node_type\": \"metabolite\", \"x\": 112.5, \"y\": 1200.0, \"label_x\": 122.5, \"label_y\": 1230.0, \"bigg_id\": \"D_6_P_GLUCONO_DELTA_LACTONE_c\", \"name\": \"D_6_P_GLUCONO_DELTA_LACTONE_c\", \"node_is_primary\": false}, \"9\": {\"node_type\": \"metabolite\", \"x\": 225.0, \"y\": 1200.0, \"label_x\": 235.0, \"label_y\": 1230.0, \"bigg_id\": \"NADPH_c\", \"name\": \"NADPH_c\", \"node_is_primary\": false}, \"10\": {\"node_type\": \"metabolite\", \"x\": 337.5, \"y\": 1200.0, \"label_x\": 347.5, \"label_y\": 1230.0, \"bigg_id\": \"PROTON_c\", \"name\": \"PROTON_c\", \"node_is_primary\": false}, \"11\": {\"node_type\": \"multimarker\", \"x\": 225.0, \"y\": 955.0}, \"12\": {\"node_type\": \"midmarker\", \"x\": 225.0, \"y\": 975.0}, \"13\": {\"node_type\": \"multimarker\", \"x\": 225.0, \"y\": 995.0}, \"14\": {\"node_type\": \"metabolite\", \"x\": 150.0, \"y\": 1330.0, \"label_x\": 160.0, \"label_y\": 1320.0, \"bigg_id\": \"CPD_15815_c\", \"name\": \"CPD_15815_c\", \"node_is_primary\": false}, \"15\": {\"node_type\": \"metabolite\", \"x\": 150.0, \"y\": 1850.0, \"label_x\": 160.0, \"label_y\": 1880.0, \"bigg_id\": \"CPD_2961_c\", \"name\": \"CPD_2961_c\", \"node_is_primary\": false}, \"16\": {\"node_type\": \"metabolite\", \"x\": 300.0, \"y\": 1850.0, \"label_x\": 310.0, \"label_y\": 1880.0, \"bigg_id\": \"PROTON_c\", \"name\": \"PROTON_c\", \"node_is_primary\": false}, \"17\": {\"node_type\": \"multimarker\", \"x\": 225.0, \"y\": 1605.0}, \"18\": {\"node_type\": \"midmarker\", \"x\": 225.0, \"y\": 1625.0}, \"19\": {\"node_type\": \"multimarker\", \"x\": 225.0, \"y\": 1645.0}, \"20\": {\"node_type\": \"metabolite\", \"x\": 300.0, \"y\": 1980.0, \"label_x\": 310.0, \"label_y\": 1970.0, \"bigg_id\": \"NADP_c\", \"name\": \"NADP_c\", \"node_is_primary\": false}, \"21\": {\"node_type\": \"metabolite\", \"x\": 112.5, \"y\": 2500.0, \"label_x\": 122.5, \"label_y\": 2530.0, \"bigg_id\": \"CARBON_DIOXIDE_c\", \"name\": \"CARBON_DIOXIDE_c\", \"node_is_primary\": false}, \"22\": {\"node_type\": \"metabolite\", \"x\": 225.0, \"y\": 2500.0, \"label_x\": 235.0, \"label_y\": 2530.0, \"bigg_id\": \"NADPH_c\", \"name\": \"NADPH_c\", \"node_is_primary\": false}, \"23\": {\"node_type\": \"metabolite\", \"x\": 337.5, \"y\": 2500.0, \"label_x\": 347.5, \"label_y\": 2530.0, \"bigg_id\": \"RIBULOSE_5P_c\", \"name\": \"RIBULOSE_5P_c\", \"node_is_primary\": false}, \"24\": {\"node_type\": \"multimarker\", \"x\": 225.0, \"y\": 2255.0}, \"25\": {\"node_type\": \"midmarker\", \"x\": 225.0, \"y\": 2275.0}, \"26\": {\"node_type\": \"multimarker\", \"x\": 225.0, \"y\": 2295.0}}, \"text_labels\": {}, \"canvas\": {\"x\": 0, \"y\": 0, \"width\": 450, \"height\": 2600}}]",
       "_loaded_model_json": null,
       "allow_building_duplicate_reactions": false,
       "and_method_in_gene_reaction_rule": "mean",
       "canvas_size_and_loc": null,
       "cofactors": [
        "atp",
        "adp",
        "nad",
        "nadh",
        "nadp",
        "nadph",
        "gtp",
        "gdp",
        "h",
        "coa",
        "ump",
        "h2o",
        "ppi"
       ],
       "disabled_buttons": [
        "Clear gene data",
        "Clear metabolite data"
       ],
       "embedded_css": null,
       "enable_editing": true,
       "enable_keys": false,
       "enable_keys_with_tooltip": true,
       "enable_search": true,
       "enable_tooltips": false,
       "full_screen_button": {
        "enable_editing": true,
        "enable_keys": true,
        "enable_tooltips": [
         "label"
        ],
        "menu": "all",
        "scroll_behavior": "pan"
       },
       "gene_data": null,
       "gene_font_size": 18,
       "height": 500,
       "hide_all_labels": false,
       "hide_secondary_metabolites": false,
       "highlight_missing": false,
       "identifiers_on_map": "bigg_id",
       "layout": "IPY_MODEL_6b7c7e28793d45f1876f3212ae896e40",
       "marker_radius": 5,
       "menu": "all",
       "metabolite_compare_style": "log2_fold",
       "metabolite_data": null,
       "metabolite_no_data_color": "#ffffff",
       "metabolite_no_data_size": 10,
       "metabolite_scale": [
        {
         "color": "#fffaf0",
         "size": 20,
         "type": "min"
        },
        {
         "color": "#f1c470",
         "size": 30,
         "type": "median"
        },
        {
         "color": "#800000",
         "size": 40,
         "type": "max"
        }
       ],
       "metabolite_scale_preset": "WhYlRd",
       "metabolite_styles": [
        "color",
        "size",
        "text"
       ],
       "never_ask_before_quit": true,
       "primary_metabolite_radius": 20,
       "reaction_compare_style": "log2_fold",
       "reaction_data": {
        "G6PDH2r": -2,
        "GLCpts": -2,
        "GND": 1,
        "Other": 1000,
        "PGL": 0.4
       },
       "reaction_no_data_color": "#dcdcdc",
       "reaction_no_data_size": 8,
       "reaction_scale": [
        {
         "color": "rgb(191,215,230)",
         "type": "value",
         "value": 333.3333333333333
        },
        {
         "color": "rgb(163,210,240)",
         "type": "value",
         "value": 666.6666666666667
        },
        {
         "color": "rgb(135,205,250)",
         "type": "value",
         "value": 1000
        },
        {
         "color": "rgb(220,220,220)",
         "type": "value",
         "value": 0
        },
        {
         "color": "rgb(237,192,110)",
         "type": "value",
         "value": -1
        },
        {
         "color": "rgb(255,165,0)",
         "type": "value",
         "value": -2
        }
       ],
       "reaction_scale_preset": null,
       "reaction_styles": [
        "color",
        "text"
       ],
       "scroll_behavior": "none",
       "secondary_metabolite_radius": 10,
       "semantic_zoom": null,
       "show_gene_reaction_rules": false,
       "starting_reaction": null,
       "use_3d_transform": false,
       "zoom_to_element": null
      }
     },
     "497c929f7bda4623a92d86c1c923d15d": {
      "model_module": "escher",
      "model_module_version": "1.7.3",
      "model_name": "EscherMapModel",
      "state": {
       "_loaded_map_json": "[{\"map_name\": \"\", \"map_id\": \"\", \"map_description\": \"\", \"homepage\": \"\", \"schema\": \"https://escher.github.io/escher/jsonschema/1-0-0#\"}, {\"reactions\": {\"0\": {\"name\": \"GLCpts\", \"bigg_id\": \"GLCpts\", \"reversibility\": true, \"label_x\": 265.0, \"label_y\": 325.0, \"gene_reaction_rule\": \"\", \"genes\": [], \"segments\": {\"0\": {\"from_node_id\": \"4\", \"to_node_id\": \"5\", \"b1\": null, \"b2\": null}, \"1\": {\"from_node_id\": \"6\", \"to_node_id\": \"5\", \"b1\": null, \"b2\": null}, \"2\": {\"from_node_id\": \"0\", \"to_node_id\": \"4\", \"b1\": null, \"b2\": null}, \"3\": {\"from_node_id\": \"1\", \"to_node_id\": \"4\", \"b1\": null, \"b2\": null}, \"4\": {\"from_node_id\": \"2\", \"to_node_id\": \"6\", \"b1\": null, \"b2\": null}, \"5\": {\"from_node_id\": \"3\", \"to_node_id\": \"6\", \"b1\": null, \"b2\": null}}, \"metabolites\": [{\"bigg_id\": \"Glucopyranose_e\", \"coefficient\": -1.0}, {\"bigg_id\": \"PHOSPHO_ENOL_PYRUVATE_c\", \"coefficient\": -1.0}, {\"bigg_id\": \"D_glucopyranose_6_phosphate_c\", \"coefficient\": 1.0}, {\"bigg_id\": \"PYRUVATE_c\", \"coefficient\": 1.0}]}, \"1\": {\"name\": \"G6PDH2r\", \"bigg_id\": \"G6PDH2r\", \"reversibility\": true, \"label_x\": 265.0, \"label_y\": 975.0, \"gene_reaction_rule\": \"\", \"genes\": [], \"segments\": {\"6\": {\"from_node_id\": \"11\", \"to_node_id\": \"12\", \"b1\": null, \"b2\": null}, \"7\": {\"from_node_id\": \"13\", \"to_node_id\": \"12\", \"b1\": null, \"b2\": null}, \"8\": {\"from_node_id\": \"2\", \"to_node_id\": \"11\", \"b1\": null, \"b2\": null}, \"9\": {\"from_node_id\": \"7\", \"to_node_id\": \"11\", \"b1\": null, \"b2\": null}, \"10\": {\"from_node_id\": \"8\", \"to_node_id\": \"13\", \"b1\": null, \"b2\": null}, \"11\": {\"from_node_id\": \"9\", \"to_node_id\": \"13\", \"b1\": null, \"b2\": null}, \"12\": {\"from_node_id\": \"10\", \"to_node_id\": \"13\", \"b1\": null, \"b2\": null}}, \"metabolites\": [{\"bigg_id\": \"D_glucopyranose_6_phosphate_c\", \"coefficient\": -1.0}, {\"bigg_id\": \"NADP_c\", \"coefficient\": -1.0}, {\"bigg_id\": \"D_6_P_GLUCONO_DELTA_LACTONE_c\", \"coefficient\": 1.0}, {\"bigg_id\": \"NADPH_c\", \"coefficient\": 1.0}, {\"bigg_id\": \"PROTON_c\", \"coefficient\": 1.0}]}, \"2\": {\"name\": \"PGL\", \"bigg_id\": \"PGL\", \"reversibility\": true, \"label_x\": 265.0, \"label_y\": 1625.0, \"gene_reaction_rule\": \"\", \"genes\": [], \"segments\": {\"13\": {\"from_node_id\": \"17\", \"to_node_id\": \"18\", \"b1\": null, \"b2\": null}, \"14\": {\"from_node_id\": \"19\", \"to_node_id\": \"18\", \"b1\": null, \"b2\": null}, \"15\": {\"from_node_id\": \"14\", \"to_node_id\": \"17\", \"b1\": null, \"b2\": null}, \"16\": {\"from_node_id\": \"8\", \"to_node_id\": \"17\", \"b1\": null, \"b2\": null}, \"17\": {\"from_node_id\": \"15\", \"to_node_id\": \"19\", \"b1\": null, \"b2\": null}, \"18\": {\"from_node_id\": \"16\", \"to_node_id\": \"19\", \"b1\": null, \"b2\": null}}, \"metabolites\": [{\"bigg_id\": \"CPD_15815_c\", \"coefficient\": -1.0}, {\"bigg_id\": \"D_6_P_GLUCONO_DELTA_LACTONE_c\", \"coefficient\": -1.0}, {\"bigg_id\": \"CPD_2961_c\", \"coefficient\": 1.0}, {\"bigg_id\": \"PROTON_c\", \"coefficient\": 1.0}]}, \"3\": {\"name\": \"GND\", \"bigg_id\": \"GND\", \"reversibility\": true, \"label_x\": 265.0, \"label_y\": 2275.0, \"gene_reaction_rule\": \"\", \"genes\": [], \"segments\": {\"19\": {\"from_node_id\": \"24\", \"to_node_id\": \"25\", \"b1\": null, \"b2\": null}, \"20\": {\"from_node_id\": \"26\", \"to_node_id\": \"25\", \"b1\": null, \"b2\": null}, \"21\": {\"from_node_id\": \"15\", \"to_node_id\": \"24\", \"b1\": null, \"b2\": null}, \"22\": {\"from_node_id\": \"20\", \"to_node_id\": \"24\", \"b1\": null, \"b2\": null}, \"23\": {\"from_node_id\": \"21\", \"to_node_id\": \"26\", \"b1\": null, \"b2\": null}, \"24\": {\"from_node_id\": \"22\", \"to_node_id\": \"26\", \"b1\": null, \"b2\": null}, \"25\": {\"from_node_id\": \"23\", \"to_node_id\": \"26\", \"b1\": null, \"b2\": null}}, \"metabolites\": [{\"bigg_id\": \"CPD_2961_c\", \"coefficient\": -1.0}, {\"bigg_id\": \"NADP_c\", \"coefficient\": -1.0}, {\"bigg_id\": \"CARBON_DIOXIDE_c\", \"coefficient\": 1.0}, {\"bigg_id\": \"NADPH_c\", \"coefficient\": 1.0}, {\"bigg_id\": \"RIBULOSE_5P_c\", \"coefficient\": 1.0}]}}, \"nodes\": {\"0\": {\"node_type\": \"metabolite\", \"x\": 150.0, \"y\": 30.0, \"label_x\": 160.0, \"label_y\": 20.0, \"bigg_id\": \"Glucopyranose_e\", \"name\": \"Glucopyranose_e\", \"node_is_primary\": false}, \"1\": {\"node_type\": \"metabolite\", \"x\": 300.0, \"y\": 30.0, \"label_x\": 310.0, \"label_y\": 20.0, \"bigg_id\": \"PHOSPHO_ENOL_PYRUVATE_c\", \"name\": \"PHOSPHO_ENOL_PYRUVATE_c\", \"node_is_primary\": false}, \"2\": {\"node_type\": \"metabolite\", \"x\": 150.0, \"y\": 550.0, \"label_x\": 160.0, \"label_y\": 580.0, \"bigg_id\": \"D_glucopyranose_6_phosphate_c\", \"name\": \"D_glucopyranose_6_phosphate_c\", \"node_is_primary\": false}, \"3\": {\"node_type\": \"metabolite\", \"x\": 300.0, \"y\": 550.0, \"label_x\": 310.0, \"label_y\": 580.0, \"bigg_id\": \"PYRUVATE_c\", \"name\": \"PYRUVATE_c\", \"node_is_primary\": false}, \"4\": {\"node_type\": \"multimarker\", \"x\": 225.0, \"y\": 305.0}, \"5\": {\"node_type\": \"midmarker\", \"x\": 225.0, \"y\": 325.0}, \"6\": {\"node_type\": \"multimarker\", \"x\": 225.0, \"y\": 345.0}, \"7\": {\"node_type\": \"metabolite\", \"x\": 300.0, \"y\": 680.0, \"label_x\": 310.0, \"label_y\": 670.0, \"bigg_id\": \"NADP_c\", \"name\": \"NADP_c\", \"node_is_primary\": false}, \"8\": {\"node_type\": \"metabolite\", \"x\": 112.5, \"y\": 1200.0, \"label_x\": 122.5, \"label_y\": 1230.0, \"bigg_id\": \"D_6_P_GLUCONO_DELTA_LACTONE_c\", \"name\": \"D_6_P_GLUCONO_DELTA_LACTONE_c\", \"node_is_primary\": false}, \"9\": {\"node_type\": \"metabolite\", \"x\": 225.0, \"y\": 1200.0, \"label_x\": 235.0, \"label_y\": 1230.0, \"bigg_id\": \"NADPH_c\", \"name\": \"NADPH_c\", \"node_is_primary\": false}, \"10\": {\"node_type\": \"metabolite\", \"x\": 337.5, \"y\": 1200.0, \"label_x\": 347.5, \"label_y\": 1230.0, \"bigg_id\": \"PROTON_c\", \"name\": \"PROTON_c\", \"node_is_primary\": false}, \"11\": {\"node_type\": \"multimarker\", \"x\": 225.0, \"y\": 955.0}, \"12\": {\"node_type\": \"midmarker\", \"x\": 225.0, \"y\": 975.0}, \"13\": {\"node_type\": \"multimarker\", \"x\": 225.0, \"y\": 995.0}, \"14\": {\"node_type\": \"metabolite\", \"x\": 150.0, \"y\": 1330.0, \"label_x\": 160.0, \"label_y\": 1320.0, \"bigg_id\": \"CPD_15815_c\", \"name\": \"CPD_15815_c\", \"node_is_primary\": false}, \"15\": {\"node_type\": \"metabolite\", \"x\": 150.0, \"y\": 1850.0, \"label_x\": 160.0, \"label_y\": 1880.0, \"bigg_id\": \"CPD_2961_c\", \"name\": \"CPD_2961_c\", \"node_is_primary\": false}, \"16\": {\"node_type\": \"metabolite\", \"x\": 300.0, \"y\": 1850.0, \"label_x\": 310.0, \"label_y\": 1880.0, \"bigg_id\": \"PROTON_c\", \"name\": \"PROTON_c\", \"node_is_primary\": false}, \"17\": {\"node_type\": \"multimarker\", \"x\": 225.0, \"y\": 1605.0}, \"18\": {\"node_type\": \"midmarker\", \"x\": 225.0, \"y\": 1625.0}, \"19\": {\"node_type\": \"multimarker\", \"x\": 225.0, \"y\": 1645.0}, \"20\": {\"node_type\": \"metabolite\", \"x\": 300.0, \"y\": 1980.0, \"label_x\": 310.0, \"label_y\": 1970.0, \"bigg_id\": \"NADP_c\", \"name\": \"NADP_c\", \"node_is_primary\": false}, \"21\": {\"node_type\": \"metabolite\", \"x\": 112.5, \"y\": 2500.0, \"label_x\": 122.5, \"label_y\": 2530.0, \"bigg_id\": \"CARBON_DIOXIDE_c\", \"name\": \"CARBON_DIOXIDE_c\", \"node_is_primary\": false}, \"22\": {\"node_type\": \"metabolite\", \"x\": 225.0, \"y\": 2500.0, \"label_x\": 235.0, \"label_y\": 2530.0, \"bigg_id\": \"NADPH_c\", \"name\": \"NADPH_c\", \"node_is_primary\": false}, \"23\": {\"node_type\": \"metabolite\", \"x\": 337.5, \"y\": 2500.0, \"label_x\": 347.5, \"label_y\": 2530.0, \"bigg_id\": \"RIBULOSE_5P_c\", \"name\": \"RIBULOSE_5P_c\", \"node_is_primary\": false}, \"24\": {\"node_type\": \"multimarker\", \"x\": 225.0, \"y\": 2255.0}, \"25\": {\"node_type\": \"midmarker\", \"x\": 225.0, \"y\": 2275.0}, \"26\": {\"node_type\": \"multimarker\", \"x\": 225.0, \"y\": 2295.0}}, \"text_labels\": {}, \"canvas\": {\"x\": 0, \"y\": 0, \"width\": 450, \"height\": 2600}}]",
       "_loaded_model_json": null,
       "allow_building_duplicate_reactions": false,
       "and_method_in_gene_reaction_rule": "mean",
       "canvas_size_and_loc": null,
       "cofactors": [
        "atp",
        "adp",
        "nad",
        "nadh",
        "nadp",
        "nadph",
        "gtp",
        "gdp",
        "h",
        "coa",
        "ump",
        "h2o",
        "ppi"
       ],
       "disabled_buttons": [
        "Clear gene data",
        "Clear metabolite data"
       ],
       "embedded_css": null,
       "enable_editing": true,
       "enable_keys": false,
       "enable_keys_with_tooltip": true,
       "enable_search": true,
       "enable_tooltips": false,
       "full_screen_button": {
        "enable_editing": true,
        "enable_keys": true,
        "enable_tooltips": [
         "label"
        ],
        "menu": "all",
        "scroll_behavior": "pan"
       },
       "gene_data": null,
       "gene_font_size": 18,
       "height": 500,
       "hide_all_labels": false,
       "hide_secondary_metabolites": false,
       "highlight_missing": false,
       "identifiers_on_map": "bigg_id",
       "layout": "IPY_MODEL_9a7abd14d2c54e2599c58c20e5f4c0bf",
       "marker_radius": 5,
       "menu": "all",
       "metabolite_compare_style": "log2_fold",
       "metabolite_data": null,
       "metabolite_no_data_color": "#ffffff",
       "metabolite_no_data_size": 10,
       "metabolite_scale": [
        {
         "color": "#fffaf0",
         "size": 20,
         "type": "min"
        },
        {
         "color": "#f1c470",
         "size": 30,
         "type": "median"
        },
        {
         "color": "#800000",
         "size": 40,
         "type": "max"
        }
       ],
       "metabolite_scale_preset": "WhYlRd",
       "metabolite_styles": [
        "color",
        "size",
        "text"
       ],
       "never_ask_before_quit": true,
       "primary_metabolite_radius": 20,
       "reaction_compare_style": "log2_fold",
       "reaction_data": {
        "G6PDH2r": -2,
        "GLCpts": -2,
        "GND": 1,
        "PGL": 0.4
       },
       "reaction_no_data_color": "#dcdcdc",
       "reaction_no_data_size": 8,
       "reaction_scale": [
        {
         "color": "rgb(110,174,110)",
         "type": "value",
         "value": 0.5
        },
        {
         "color": "rgb(0,128,0)",
         "type": "value",
         "value": 1
        },
        {
         "color": "rgb(220,220,220)",
         "type": "value",
         "value": 0
        },
        {
         "color": "rgb(237,110,110)",
         "type": "value",
         "value": -1
        },
        {
         "color": "rgb(255,0,0)",
         "type": "value",
         "value": -2
        }
       ],
       "reaction_scale_preset": null,
       "reaction_styles": [
        "color",
        "text"
       ],
       "scroll_behavior": "none",
       "secondary_metabolite_radius": 10,
       "semantic_zoom": null,
       "show_gene_reaction_rules": false,
       "starting_reaction": null,
       "use_3d_transform": false,
       "zoom_to_element": null
      }
     },
     "673950f465b442df8a037853d1c3e622": {
      "model_module": "@jupyter-widgets/base",
      "model_module_version": "1.2.0",
      "model_name": "LayoutModel",
      "state": {}
     },
     "6b7c7e28793d45f1876f3212ae896e40": {
      "model_module": "@jupyter-widgets/base",
      "model_module_version": "1.2.0",
      "model_name": "LayoutModel",
      "state": {}
     },
     "746bcd44546841a7aebeea5c3226cea1": {
      "model_module": "escher",
      "model_module_version": "1.7.3",
      "model_name": "EscherMapModel",
      "state": {
       "_loaded_map_json": "[{\"map_name\": \"\", \"map_id\": \"\", \"map_description\": \"\", \"homepage\": \"\", \"schema\": \"https://escher.github.io/escher/jsonschema/1-0-0#\"}, {\"reactions\": {\"0\": {\"name\": \"GLCpts\", \"bigg_id\": \"GLCpts\", \"reversibility\": true, \"label_x\": 265.0, \"label_y\": 325.0, \"gene_reaction_rule\": \"\", \"genes\": [], \"segments\": {\"0\": {\"from_node_id\": \"4\", \"to_node_id\": \"5\", \"b1\": null, \"b2\": null}, \"1\": {\"from_node_id\": \"6\", \"to_node_id\": \"5\", \"b1\": null, \"b2\": null}, \"2\": {\"from_node_id\": \"0\", \"to_node_id\": \"4\", \"b1\": null, \"b2\": null}, \"3\": {\"from_node_id\": \"1\", \"to_node_id\": \"4\", \"b1\": null, \"b2\": null}, \"4\": {\"from_node_id\": \"2\", \"to_node_id\": \"6\", \"b1\": null, \"b2\": null}, \"5\": {\"from_node_id\": \"3\", \"to_node_id\": \"6\", \"b1\": null, \"b2\": null}}, \"metabolites\": [{\"bigg_id\": \"Glucopyranose_e\", \"coefficient\": -1.0}, {\"bigg_id\": \"PHOSPHO_ENOL_PYRUVATE_c\", \"coefficient\": -1.0}, {\"bigg_id\": \"D_glucopyranose_6_phosphate_c\", \"coefficient\": 1.0}, {\"bigg_id\": \"PYRUVATE_c\", \"coefficient\": 1.0}]}, \"1\": {\"name\": \"G6PDH2r\", \"bigg_id\": \"G6PDH2r\", \"reversibility\": true, \"label_x\": 265.0, \"label_y\": 975.0, \"gene_reaction_rule\": \"\", \"genes\": [], \"segments\": {\"6\": {\"from_node_id\": \"11\", \"to_node_id\": \"12\", \"b1\": null, \"b2\": null}, \"7\": {\"from_node_id\": \"13\", \"to_node_id\": \"12\", \"b1\": null, \"b2\": null}, \"8\": {\"from_node_id\": \"2\", \"to_node_id\": \"11\", \"b1\": null, \"b2\": null}, \"9\": {\"from_node_id\": \"7\", \"to_node_id\": \"11\", \"b1\": null, \"b2\": null}, \"10\": {\"from_node_id\": \"8\", \"to_node_id\": \"13\", \"b1\": null, \"b2\": null}, \"11\": {\"from_node_id\": \"9\", \"to_node_id\": \"13\", \"b1\": null, \"b2\": null}, \"12\": {\"from_node_id\": \"10\", \"to_node_id\": \"13\", \"b1\": null, \"b2\": null}}, \"metabolites\": [{\"bigg_id\": \"D_glucopyranose_6_phosphate_c\", \"coefficient\": -1.0}, {\"bigg_id\": \"NADP_c\", \"coefficient\": -1.0}, {\"bigg_id\": \"D_6_P_GLUCONO_DELTA_LACTONE_c\", \"coefficient\": 1.0}, {\"bigg_id\": \"NADPH_c\", \"coefficient\": 1.0}, {\"bigg_id\": \"PROTON_c\", \"coefficient\": 1.0}]}, \"2\": {\"name\": \"PGL\", \"bigg_id\": \"PGL\", \"reversibility\": true, \"label_x\": 265.0, \"label_y\": 1625.0, \"gene_reaction_rule\": \"\", \"genes\": [], \"segments\": {\"13\": {\"from_node_id\": \"17\", \"to_node_id\": \"18\", \"b1\": null, \"b2\": null}, \"14\": {\"from_node_id\": \"19\", \"to_node_id\": \"18\", \"b1\": null, \"b2\": null}, \"15\": {\"from_node_id\": \"14\", \"to_node_id\": \"17\", \"b1\": null, \"b2\": null}, \"16\": {\"from_node_id\": \"8\", \"to_node_id\": \"17\", \"b1\": null, \"b2\": null}, \"17\": {\"from_node_id\": \"15\", \"to_node_id\": \"19\", \"b1\": null, \"b2\": null}, \"18\": {\"from_node_id\": \"16\", \"to_node_id\": \"19\", \"b1\": null, \"b2\": null}}, \"metabolites\": [{\"bigg_id\": \"CPD_15815_c\", \"coefficient\": -1.0}, {\"bigg_id\": \"D_6_P_GLUCONO_DELTA_LACTONE_c\", \"coefficient\": -1.0}, {\"bigg_id\": \"CPD_2961_c\", \"coefficient\": 1.0}, {\"bigg_id\": \"PROTON_c\", \"coefficient\": 1.0}]}, \"3\": {\"name\": \"GND\", \"bigg_id\": \"GND\", \"reversibility\": true, \"label_x\": 265.0, \"label_y\": 2275.0, \"gene_reaction_rule\": \"\", \"genes\": [], \"segments\": {\"19\": {\"from_node_id\": \"24\", \"to_node_id\": \"25\", \"b1\": null, \"b2\": null}, \"20\": {\"from_node_id\": \"26\", \"to_node_id\": \"25\", \"b1\": null, \"b2\": null}, \"21\": {\"from_node_id\": \"15\", \"to_node_id\": \"24\", \"b1\": null, \"b2\": null}, \"22\": {\"from_node_id\": \"20\", \"to_node_id\": \"24\", \"b1\": null, \"b2\": null}, \"23\": {\"from_node_id\": \"21\", \"to_node_id\": \"26\", \"b1\": null, \"b2\": null}, \"24\": {\"from_node_id\": \"22\", \"to_node_id\": \"26\", \"b1\": null, \"b2\": null}, \"25\": {\"from_node_id\": \"23\", \"to_node_id\": \"26\", \"b1\": null, \"b2\": null}}, \"metabolites\": [{\"bigg_id\": \"CPD_2961_c\", \"coefficient\": -1.0}, {\"bigg_id\": \"NADP_c\", \"coefficient\": -1.0}, {\"bigg_id\": \"CARBON_DIOXIDE_c\", \"coefficient\": 1.0}, {\"bigg_id\": \"NADPH_c\", \"coefficient\": 1.0}, {\"bigg_id\": \"RIBULOSE_5P_c\", \"coefficient\": 1.0}]}}, \"nodes\": {\"0\": {\"node_type\": \"metabolite\", \"x\": 150.0, \"y\": 30.0, \"label_x\": 160.0, \"label_y\": 20.0, \"bigg_id\": \"Glucopyranose_e\", \"name\": \"Glucopyranose_e\", \"node_is_primary\": false}, \"1\": {\"node_type\": \"metabolite\", \"x\": 300.0, \"y\": 30.0, \"label_x\": 310.0, \"label_y\": 20.0, \"bigg_id\": \"PHOSPHO_ENOL_PYRUVATE_c\", \"name\": \"PHOSPHO_ENOL_PYRUVATE_c\", \"node_is_primary\": false}, \"2\": {\"node_type\": \"metabolite\", \"x\": 150.0, \"y\": 550.0, \"label_x\": 160.0, \"label_y\": 580.0, \"bigg_id\": \"D_glucopyranose_6_phosphate_c\", \"name\": \"D_glucopyranose_6_phosphate_c\", \"node_is_primary\": false}, \"3\": {\"node_type\": \"metabolite\", \"x\": 300.0, \"y\": 550.0, \"label_x\": 310.0, \"label_y\": 580.0, \"bigg_id\": \"PYRUVATE_c\", \"name\": \"PYRUVATE_c\", \"node_is_primary\": false}, \"4\": {\"node_type\": \"multimarker\", \"x\": 225.0, \"y\": 305.0}, \"5\": {\"node_type\": \"midmarker\", \"x\": 225.0, \"y\": 325.0}, \"6\": {\"node_type\": \"multimarker\", \"x\": 225.0, \"y\": 345.0}, \"7\": {\"node_type\": \"metabolite\", \"x\": 300.0, \"y\": 680.0, \"label_x\": 310.0, \"label_y\": 670.0, \"bigg_id\": \"NADP_c\", \"name\": \"NADP_c\", \"node_is_primary\": false}, \"8\": {\"node_type\": \"metabolite\", \"x\": 112.5, \"y\": 1200.0, \"label_x\": 122.5, \"label_y\": 1230.0, \"bigg_id\": \"D_6_P_GLUCONO_DELTA_LACTONE_c\", \"name\": \"D_6_P_GLUCONO_DELTA_LACTONE_c\", \"node_is_primary\": false}, \"9\": {\"node_type\": \"metabolite\", \"x\": 225.0, \"y\": 1200.0, \"label_x\": 235.0, \"label_y\": 1230.0, \"bigg_id\": \"NADPH_c\", \"name\": \"NADPH_c\", \"node_is_primary\": false}, \"10\": {\"node_type\": \"metabolite\", \"x\": 337.5, \"y\": 1200.0, \"label_x\": 347.5, \"label_y\": 1230.0, \"bigg_id\": \"PROTON_c\", \"name\": \"PROTON_c\", \"node_is_primary\": false}, \"11\": {\"node_type\": \"multimarker\", \"x\": 225.0, \"y\": 955.0}, \"12\": {\"node_type\": \"midmarker\", \"x\": 225.0, \"y\": 975.0}, \"13\": {\"node_type\": \"multimarker\", \"x\": 225.0, \"y\": 995.0}, \"14\": {\"node_type\": \"metabolite\", \"x\": 150.0, \"y\": 1330.0, \"label_x\": 160.0, \"label_y\": 1320.0, \"bigg_id\": \"CPD_15815_c\", \"name\": \"CPD_15815_c\", \"node_is_primary\": false}, \"15\": {\"node_type\": \"metabolite\", \"x\": 150.0, \"y\": 1850.0, \"label_x\": 160.0, \"label_y\": 1880.0, \"bigg_id\": \"CPD_2961_c\", \"name\": \"CPD_2961_c\", \"node_is_primary\": false}, \"16\": {\"node_type\": \"metabolite\", \"x\": 300.0, \"y\": 1850.0, \"label_x\": 310.0, \"label_y\": 1880.0, \"bigg_id\": \"PROTON_c\", \"name\": \"PROTON_c\", \"node_is_primary\": false}, \"17\": {\"node_type\": \"multimarker\", \"x\": 225.0, \"y\": 1605.0}, \"18\": {\"node_type\": \"midmarker\", \"x\": 225.0, \"y\": 1625.0}, \"19\": {\"node_type\": \"multimarker\", \"x\": 225.0, \"y\": 1645.0}, \"20\": {\"node_type\": \"metabolite\", \"x\": 300.0, \"y\": 1980.0, \"label_x\": 310.0, \"label_y\": 1970.0, \"bigg_id\": \"NADP_c\", \"name\": \"NADP_c\", \"node_is_primary\": false}, \"21\": {\"node_type\": \"metabolite\", \"x\": 112.5, \"y\": 2500.0, \"label_x\": 122.5, \"label_y\": 2530.0, \"bigg_id\": \"CARBON_DIOXIDE_c\", \"name\": \"CARBON_DIOXIDE_c\", \"node_is_primary\": false}, \"22\": {\"node_type\": \"metabolite\", \"x\": 225.0, \"y\": 2500.0, \"label_x\": 235.0, \"label_y\": 2530.0, \"bigg_id\": \"NADPH_c\", \"name\": \"NADPH_c\", \"node_is_primary\": false}, \"23\": {\"node_type\": \"metabolite\", \"x\": 337.5, \"y\": 2500.0, \"label_x\": 347.5, \"label_y\": 2530.0, \"bigg_id\": \"RIBULOSE_5P_c\", \"name\": \"RIBULOSE_5P_c\", \"node_is_primary\": false}, \"24\": {\"node_type\": \"multimarker\", \"x\": 225.0, \"y\": 2255.0}, \"25\": {\"node_type\": \"midmarker\", \"x\": 225.0, \"y\": 2275.0}, \"26\": {\"node_type\": \"multimarker\", \"x\": 225.0, \"y\": 2295.0}}, \"text_labels\": {}, \"canvas\": {\"x\": 0, \"y\": 0, \"width\": 450, \"height\": 2600}}]",
       "_loaded_model_json": null,
       "allow_building_duplicate_reactions": false,
       "and_method_in_gene_reaction_rule": "mean",
       "canvas_size_and_loc": null,
       "cofactors": [
        "atp",
        "adp",
        "nad",
        "nadh",
        "nadp",
        "nadph",
        "gtp",
        "gdp",
        "h",
        "coa",
        "ump",
        "h2o",
        "ppi"
       ],
       "disabled_buttons": [
        "Clear gene data",
        "Clear metabolite data"
       ],
       "embedded_css": null,
       "enable_editing": true,
       "enable_keys": false,
       "enable_keys_with_tooltip": true,
       "enable_search": true,
       "enable_tooltips": false,
       "full_screen_button": {
        "enable_editing": true,
        "enable_keys": true,
        "enable_tooltips": [
         "label"
        ],
        "menu": "all",
        "scroll_behavior": "pan"
       },
       "gene_data": null,
       "gene_font_size": 18,
       "height": 500,
       "hide_all_labels": false,
       "hide_secondary_metabolites": false,
       "highlight_missing": false,
       "identifiers_on_map": "bigg_id",
       "layout": "IPY_MODEL_e0e30dfc932a451e97467fdaf51cf816",
       "marker_radius": 5,
       "menu": "all",
       "metabolite_compare_style": "log2_fold",
       "metabolite_data": null,
       "metabolite_no_data_color": "#ffffff",
       "metabolite_no_data_size": 10,
       "metabolite_scale": [
        {
         "color": "#fffaf0",
         "size": 20,
         "type": "min"
        },
        {
         "color": "#f1c470",
         "size": 30,
         "type": "median"
        },
        {
         "color": "#800000",
         "size": 40,
         "type": "max"
        }
       ],
       "metabolite_scale_preset": "WhYlRd",
       "metabolite_styles": [
        "color",
        "size",
        "text"
       ],
       "never_ask_before_quit": true,
       "primary_metabolite_radius": 20,
       "reaction_compare_style": "log2_fold",
       "reaction_data": {
        "G6PDH2r": -2,
        "GLCpts": -2,
        "GND": 1,
        "PGL": 0.4
       },
       "reaction_no_data_color": "#dcdcdc",
       "reaction_no_data_size": 8,
       "reaction_scale": [
        {
         "color": "rgb(220,220,220)",
         "type": "value",
         "value": 0.5
        },
        {
         "color": "rgb(220,220,220)",
         "type": "value",
         "value": 1
        },
        {
         "color": "rgb(220,220,220)",
         "type": "value",
         "value": 0
        },
        {
         "color": "rgb(220,220,220)",
         "type": "value",
         "value": -1
        },
        {
         "color": "rgb(220,220,220)",
         "type": "value",
         "value": -2
        }
       ],
       "reaction_scale_preset": null,
       "reaction_styles": [
        "color",
        "text"
       ],
       "scroll_behavior": "none",
       "secondary_metabolite_radius": 10,
       "semantic_zoom": null,
       "show_gene_reaction_rules": false,
       "starting_reaction": null,
       "use_3d_transform": false,
       "zoom_to_element": null
      }
     },
     "790deee363cb47d39b02127bbc5839df": {
      "model_module": "@jupyter-widgets/base",
      "model_module_version": "1.2.0",
      "model_name": "LayoutModel",
      "state": {}
     },
     "795076e1f838451abc53f33a0e4ae4a4": {
      "model_module": "escher",
      "model_module_version": "1.7.3",
      "model_name": "EscherMapModel",
      "state": {
       "_loaded_map_json": "[{\"map_name\": \"\", \"map_id\": \"\", \"map_description\": \"\", \"homepage\": \"\", \"schema\": \"https://escher.github.io/escher/jsonschema/1-0-0#\"}, {\"reactions\": {\"0\": {\"name\": \"GLCpts\", \"bigg_id\": \"GLCpts\", \"reversibility\": true, \"label_x\": 265.0, \"label_y\": 325.0, \"gene_reaction_rule\": \"\", \"genes\": [], \"segments\": {\"0\": {\"from_node_id\": \"4\", \"to_node_id\": \"5\", \"b1\": null, \"b2\": null}, \"1\": {\"from_node_id\": \"6\", \"to_node_id\": \"5\", \"b1\": null, \"b2\": null}, \"2\": {\"from_node_id\": \"0\", \"to_node_id\": \"4\", \"b1\": null, \"b2\": null}, \"3\": {\"from_node_id\": \"1\", \"to_node_id\": \"4\", \"b1\": null, \"b2\": null}, \"4\": {\"from_node_id\": \"2\", \"to_node_id\": \"6\", \"b1\": null, \"b2\": null}, \"5\": {\"from_node_id\": \"3\", \"to_node_id\": \"6\", \"b1\": null, \"b2\": null}}, \"metabolites\": [{\"bigg_id\": \"Glucopyranose_e\", \"coefficient\": -1.0}, {\"bigg_id\": \"PHOSPHO_ENOL_PYRUVATE_c\", \"coefficient\": -1.0}, {\"bigg_id\": \"D_glucopyranose_6_phosphate_c\", \"coefficient\": 1.0}, {\"bigg_id\": \"PYRUVATE_c\", \"coefficient\": 1.0}]}, \"1\": {\"name\": \"G6PDH2r\", \"bigg_id\": \"G6PDH2r\", \"reversibility\": true, \"label_x\": 265.0, \"label_y\": 975.0, \"gene_reaction_rule\": \"\", \"genes\": [], \"segments\": {\"6\": {\"from_node_id\": \"11\", \"to_node_id\": \"12\", \"b1\": null, \"b2\": null}, \"7\": {\"from_node_id\": \"13\", \"to_node_id\": \"12\", \"b1\": null, \"b2\": null}, \"8\": {\"from_node_id\": \"2\", \"to_node_id\": \"11\", \"b1\": null, \"b2\": null}, \"9\": {\"from_node_id\": \"7\", \"to_node_id\": \"11\", \"b1\": null, \"b2\": null}, \"10\": {\"from_node_id\": \"8\", \"to_node_id\": \"13\", \"b1\": null, \"b2\": null}, \"11\": {\"from_node_id\": \"9\", \"to_node_id\": \"13\", \"b1\": null, \"b2\": null}, \"12\": {\"from_node_id\": \"10\", \"to_node_id\": \"13\", \"b1\": null, \"b2\": null}}, \"metabolites\": [{\"bigg_id\": \"D_glucopyranose_6_phosphate_c\", \"coefficient\": -1.0}, {\"bigg_id\": \"NADP_c\", \"coefficient\": -1.0}, {\"bigg_id\": \"D_6_P_GLUCONO_DELTA_LACTONE_c\", \"coefficient\": 1.0}, {\"bigg_id\": \"NADPH_c\", \"coefficient\": 1.0}, {\"bigg_id\": \"PROTON_c\", \"coefficient\": 1.0}]}, \"2\": {\"name\": \"PGL\", \"bigg_id\": \"PGL\", \"reversibility\": true, \"label_x\": 265.0, \"label_y\": 1625.0, \"gene_reaction_rule\": \"\", \"genes\": [], \"segments\": {\"13\": {\"from_node_id\": \"17\", \"to_node_id\": \"18\", \"b1\": null, \"b2\": null}, \"14\": {\"from_node_id\": \"19\", \"to_node_id\": \"18\", \"b1\": null, \"b2\": null}, \"15\": {\"from_node_id\": \"14\", \"to_node_id\": \"17\", \"b1\": null, \"b2\": null}, \"16\": {\"from_node_id\": \"8\", \"to_node_id\": \"17\", \"b1\": null, \"b2\": null}, \"17\": {\"from_node_id\": \"15\", \"to_node_id\": \"19\", \"b1\": null, \"b2\": null}, \"18\": {\"from_node_id\": \"16\", \"to_node_id\": \"19\", \"b1\": null, \"b2\": null}}, \"metabolites\": [{\"bigg_id\": \"CPD_15815_c\", \"coefficient\": -1.0}, {\"bigg_id\": \"D_6_P_GLUCONO_DELTA_LACTONE_c\", \"coefficient\": -1.0}, {\"bigg_id\": \"CPD_2961_c\", \"coefficient\": 1.0}, {\"bigg_id\": \"PROTON_c\", \"coefficient\": 1.0}]}, \"3\": {\"name\": \"GND\", \"bigg_id\": \"GND\", \"reversibility\": true, \"label_x\": 265.0, \"label_y\": 2275.0, \"gene_reaction_rule\": \"\", \"genes\": [], \"segments\": {\"19\": {\"from_node_id\": \"24\", \"to_node_id\": \"25\", \"b1\": null, \"b2\": null}, \"20\": {\"from_node_id\": \"26\", \"to_node_id\": \"25\", \"b1\": null, \"b2\": null}, \"21\": {\"from_node_id\": \"15\", \"to_node_id\": \"24\", \"b1\": null, \"b2\": null}, \"22\": {\"from_node_id\": \"20\", \"to_node_id\": \"24\", \"b1\": null, \"b2\": null}, \"23\": {\"from_node_id\": \"21\", \"to_node_id\": \"26\", \"b1\": null, \"b2\": null}, \"24\": {\"from_node_id\": \"22\", \"to_node_id\": \"26\", \"b1\": null, \"b2\": null}, \"25\": {\"from_node_id\": \"23\", \"to_node_id\": \"26\", \"b1\": null, \"b2\": null}}, \"metabolites\": [{\"bigg_id\": \"CPD_2961_c\", \"coefficient\": -1.0}, {\"bigg_id\": \"NADP_c\", \"coefficient\": -1.0}, {\"bigg_id\": \"CARBON_DIOXIDE_c\", \"coefficient\": 1.0}, {\"bigg_id\": \"NADPH_c\", \"coefficient\": 1.0}, {\"bigg_id\": \"RIBULOSE_5P_c\", \"coefficient\": 1.0}]}}, \"nodes\": {\"0\": {\"node_type\": \"metabolite\", \"x\": 150.0, \"y\": 30.0, \"label_x\": 160.0, \"label_y\": 20.0, \"bigg_id\": \"Glucopyranose_e\", \"name\": \"Glucopyranose_e\", \"node_is_primary\": false}, \"1\": {\"node_type\": \"metabolite\", \"x\": 300.0, \"y\": 30.0, \"label_x\": 310.0, \"label_y\": 20.0, \"bigg_id\": \"PHOSPHO_ENOL_PYRUVATE_c\", \"name\": \"PHOSPHO_ENOL_PYRUVATE_c\", \"node_is_primary\": false}, \"2\": {\"node_type\": \"metabolite\", \"x\": 150.0, \"y\": 550.0, \"label_x\": 160.0, \"label_y\": 580.0, \"bigg_id\": \"D_glucopyranose_6_phosphate_c\", \"name\": \"D_glucopyranose_6_phosphate_c\", \"node_is_primary\": false}, \"3\": {\"node_type\": \"metabolite\", \"x\": 300.0, \"y\": 550.0, \"label_x\": 310.0, \"label_y\": 580.0, \"bigg_id\": \"PYRUVATE_c\", \"name\": \"PYRUVATE_c\", \"node_is_primary\": false}, \"4\": {\"node_type\": \"multimarker\", \"x\": 225.0, \"y\": 305.0}, \"5\": {\"node_type\": \"midmarker\", \"x\": 225.0, \"y\": 325.0}, \"6\": {\"node_type\": \"multimarker\", \"x\": 225.0, \"y\": 345.0}, \"7\": {\"node_type\": \"metabolite\", \"x\": 300.0, \"y\": 680.0, \"label_x\": 310.0, \"label_y\": 670.0, \"bigg_id\": \"NADP_c\", \"name\": \"NADP_c\", \"node_is_primary\": false}, \"8\": {\"node_type\": \"metabolite\", \"x\": 112.5, \"y\": 1200.0, \"label_x\": 122.5, \"label_y\": 1230.0, \"bigg_id\": \"D_6_P_GLUCONO_DELTA_LACTONE_c\", \"name\": \"D_6_P_GLUCONO_DELTA_LACTONE_c\", \"node_is_primary\": false}, \"9\": {\"node_type\": \"metabolite\", \"x\": 225.0, \"y\": 1200.0, \"label_x\": 235.0, \"label_y\": 1230.0, \"bigg_id\": \"NADPH_c\", \"name\": \"NADPH_c\", \"node_is_primary\": false}, \"10\": {\"node_type\": \"metabolite\", \"x\": 337.5, \"y\": 1200.0, \"label_x\": 347.5, \"label_y\": 1230.0, \"bigg_id\": \"PROTON_c\", \"name\": \"PROTON_c\", \"node_is_primary\": false}, \"11\": {\"node_type\": \"multimarker\", \"x\": 225.0, \"y\": 955.0}, \"12\": {\"node_type\": \"midmarker\", \"x\": 225.0, \"y\": 975.0}, \"13\": {\"node_type\": \"multimarker\", \"x\": 225.0, \"y\": 995.0}, \"14\": {\"node_type\": \"metabolite\", \"x\": 150.0, \"y\": 1330.0, \"label_x\": 160.0, \"label_y\": 1320.0, \"bigg_id\": \"CPD_15815_c\", \"name\": \"CPD_15815_c\", \"node_is_primary\": false}, \"15\": {\"node_type\": \"metabolite\", \"x\": 150.0, \"y\": 1850.0, \"label_x\": 160.0, \"label_y\": 1880.0, \"bigg_id\": \"CPD_2961_c\", \"name\": \"CPD_2961_c\", \"node_is_primary\": false}, \"16\": {\"node_type\": \"metabolite\", \"x\": 300.0, \"y\": 1850.0, \"label_x\": 310.0, \"label_y\": 1880.0, \"bigg_id\": \"PROTON_c\", \"name\": \"PROTON_c\", \"node_is_primary\": false}, \"17\": {\"node_type\": \"multimarker\", \"x\": 225.0, \"y\": 1605.0}, \"18\": {\"node_type\": \"midmarker\", \"x\": 225.0, \"y\": 1625.0}, \"19\": {\"node_type\": \"multimarker\", \"x\": 225.0, \"y\": 1645.0}, \"20\": {\"node_type\": \"metabolite\", \"x\": 300.0, \"y\": 1980.0, \"label_x\": 310.0, \"label_y\": 1970.0, \"bigg_id\": \"NADP_c\", \"name\": \"NADP_c\", \"node_is_primary\": false}, \"21\": {\"node_type\": \"metabolite\", \"x\": 112.5, \"y\": 2500.0, \"label_x\": 122.5, \"label_y\": 2530.0, \"bigg_id\": \"CARBON_DIOXIDE_c\", \"name\": \"CARBON_DIOXIDE_c\", \"node_is_primary\": false}, \"22\": {\"node_type\": \"metabolite\", \"x\": 225.0, \"y\": 2500.0, \"label_x\": 235.0, \"label_y\": 2530.0, \"bigg_id\": \"NADPH_c\", \"name\": \"NADPH_c\", \"node_is_primary\": false}, \"23\": {\"node_type\": \"metabolite\", \"x\": 337.5, \"y\": 2500.0, \"label_x\": 347.5, \"label_y\": 2530.0, \"bigg_id\": \"RIBULOSE_5P_c\", \"name\": \"RIBULOSE_5P_c\", \"node_is_primary\": false}, \"24\": {\"node_type\": \"multimarker\", \"x\": 225.0, \"y\": 2255.0}, \"25\": {\"node_type\": \"midmarker\", \"x\": 225.0, \"y\": 2275.0}, \"26\": {\"node_type\": \"multimarker\", \"x\": 225.0, \"y\": 2295.0}}, \"text_labels\": {}, \"canvas\": {\"x\": 0, \"y\": 0, \"width\": 450, \"height\": 2600}}]",
       "_loaded_model_json": null,
       "allow_building_duplicate_reactions": false,
       "and_method_in_gene_reaction_rule": "mean",
       "canvas_size_and_loc": null,
       "cofactors": [
        "atp",
        "adp",
        "nad",
        "nadh",
        "nadp",
        "nadph",
        "gtp",
        "gdp",
        "h",
        "coa",
        "ump",
        "h2o",
        "ppi"
       ],
       "disabled_buttons": [
        "Clear gene data",
        "Clear metabolite data"
       ],
       "embedded_css": null,
       "enable_editing": true,
       "enable_keys": false,
       "enable_keys_with_tooltip": true,
       "enable_search": true,
       "enable_tooltips": false,
       "full_screen_button": {
        "enable_editing": true,
        "enable_keys": true,
        "enable_tooltips": [
         "label"
        ],
        "menu": "all",
        "scroll_behavior": "pan"
       },
       "gene_data": null,
       "gene_font_size": 18,
       "height": 500,
       "hide_all_labels": false,
       "hide_secondary_metabolites": false,
       "highlight_missing": false,
       "identifiers_on_map": "bigg_id",
       "layout": "IPY_MODEL_673950f465b442df8a037853d1c3e622",
       "marker_radius": 5,
       "menu": "all",
       "metabolite_compare_style": "log2_fold",
       "metabolite_data": null,
       "metabolite_no_data_color": "#ffffff",
       "metabolite_no_data_size": 10,
       "metabolite_scale": [
        {
         "color": "#fffaf0",
         "size": 20,
         "type": "min"
        },
        {
         "color": "#f1c470",
         "size": 30,
         "type": "median"
        },
        {
         "color": "#800000",
         "size": 40,
         "type": "max"
        }
       ],
       "metabolite_scale_preset": "WhYlRd",
       "metabolite_styles": [
        "color",
        "size",
        "text"
       ],
       "never_ask_before_quit": true,
       "primary_metabolite_radius": 20,
       "reaction_compare_style": "log2_fold",
       "reaction_data": {
        "G6PDH2r": -2,
        "GLCpts": -2,
        "GND": 1,
        "Other": 1000,
        "PGL": 0.4
       },
       "reaction_no_data_color": "#dcdcdc",
       "reaction_no_data_size": 8,
       "reaction_scale": [
        {
         "color": "rgb(191,215,230)",
         "type": "value",
         "value": 0.4
        },
        {
         "color": "rgb(163,210,240)",
         "type": "value",
         "value": 1
        },
        {
         "color": "rgb(135,205,250)",
         "type": "value",
         "value": 1000
        },
        {
         "color": "rgb(220,220,220)",
         "type": "value",
         "value": 0
        },
        {
         "color": "rgb(237,192,110)",
         "type": "value",
         "value": -2
        },
        {
         "color": "rgb(255,165,0)",
         "type": "value",
         "value": -2
        }
       ],
       "reaction_scale_preset": null,
       "reaction_styles": [
        "color",
        "text"
       ],
       "scroll_behavior": "none",
       "secondary_metabolite_radius": 10,
       "semantic_zoom": null,
       "show_gene_reaction_rules": false,
       "starting_reaction": null,
       "use_3d_transform": false,
       "zoom_to_element": null
      }
     },
     "9a7abd14d2c54e2599c58c20e5f4c0bf": {
      "model_module": "@jupyter-widgets/base",
      "model_module_version": "1.2.0",
      "model_name": "LayoutModel",
      "state": {}
     },
     "9bbaec422b8e4cd3bf15c418067cd427": {
      "model_module": "escher",
      "model_module_version": "1.7.3",
      "model_name": "EscherMapModel",
      "state": {
       "_loaded_map_json": "[{\"map_name\": \"\", \"map_id\": \"\", \"map_description\": \"\", \"homepage\": \"\", \"schema\": \"https://escher.github.io/escher/jsonschema/1-0-0#\"}, {\"reactions\": {\"0\": {\"name\": \"GLCpts\", \"bigg_id\": \"GLCpts\", \"reversibility\": true, \"label_x\": 265.0, \"label_y\": 325.0, \"gene_reaction_rule\": \"\", \"genes\": [], \"segments\": {\"0\": {\"from_node_id\": \"4\", \"to_node_id\": \"5\", \"b1\": null, \"b2\": null}, \"1\": {\"from_node_id\": \"6\", \"to_node_id\": \"5\", \"b1\": null, \"b2\": null}, \"2\": {\"from_node_id\": \"0\", \"to_node_id\": \"4\", \"b1\": null, \"b2\": null}, \"3\": {\"from_node_id\": \"1\", \"to_node_id\": \"4\", \"b1\": null, \"b2\": null}, \"4\": {\"from_node_id\": \"2\", \"to_node_id\": \"6\", \"b1\": null, \"b2\": null}, \"5\": {\"from_node_id\": \"3\", \"to_node_id\": \"6\", \"b1\": null, \"b2\": null}}, \"metabolites\": [{\"bigg_id\": \"Glucopyranose_e\", \"coefficient\": -1.0}, {\"bigg_id\": \"PHOSPHO_ENOL_PYRUVATE_c\", \"coefficient\": -1.0}, {\"bigg_id\": \"D_glucopyranose_6_phosphate_c\", \"coefficient\": 1.0}, {\"bigg_id\": \"PYRUVATE_c\", \"coefficient\": 1.0}]}, \"1\": {\"name\": \"G6PDH2r\", \"bigg_id\": \"G6PDH2r\", \"reversibility\": true, \"label_x\": 265.0, \"label_y\": 975.0, \"gene_reaction_rule\": \"\", \"genes\": [], \"segments\": {\"6\": {\"from_node_id\": \"11\", \"to_node_id\": \"12\", \"b1\": null, \"b2\": null}, \"7\": {\"from_node_id\": \"13\", \"to_node_id\": \"12\", \"b1\": null, \"b2\": null}, \"8\": {\"from_node_id\": \"2\", \"to_node_id\": \"11\", \"b1\": null, \"b2\": null}, \"9\": {\"from_node_id\": \"7\", \"to_node_id\": \"11\", \"b1\": null, \"b2\": null}, \"10\": {\"from_node_id\": \"8\", \"to_node_id\": \"13\", \"b1\": null, \"b2\": null}, \"11\": {\"from_node_id\": \"9\", \"to_node_id\": \"13\", \"b1\": null, \"b2\": null}, \"12\": {\"from_node_id\": \"10\", \"to_node_id\": \"13\", \"b1\": null, \"b2\": null}}, \"metabolites\": [{\"bigg_id\": \"D_glucopyranose_6_phosphate_c\", \"coefficient\": -1.0}, {\"bigg_id\": \"NADP_c\", \"coefficient\": -1.0}, {\"bigg_id\": \"D_6_P_GLUCONO_DELTA_LACTONE_c\", \"coefficient\": 1.0}, {\"bigg_id\": \"NADPH_c\", \"coefficient\": 1.0}, {\"bigg_id\": \"PROTON_c\", \"coefficient\": 1.0}]}, \"2\": {\"name\": \"PGL\", \"bigg_id\": \"PGL\", \"reversibility\": true, \"label_x\": 265.0, \"label_y\": 1625.0, \"gene_reaction_rule\": \"\", \"genes\": [], \"segments\": {\"13\": {\"from_node_id\": \"17\", \"to_node_id\": \"18\", \"b1\": null, \"b2\": null}, \"14\": {\"from_node_id\": \"19\", \"to_node_id\": \"18\", \"b1\": null, \"b2\": null}, \"15\": {\"from_node_id\": \"14\", \"to_node_id\": \"17\", \"b1\": null, \"b2\": null}, \"16\": {\"from_node_id\": \"8\", \"to_node_id\": \"17\", \"b1\": null, \"b2\": null}, \"17\": {\"from_node_id\": \"15\", \"to_node_id\": \"19\", \"b1\": null, \"b2\": null}, \"18\": {\"from_node_id\": \"16\", \"to_node_id\": \"19\", \"b1\": null, \"b2\": null}}, \"metabolites\": [{\"bigg_id\": \"CPD_15815_c\", \"coefficient\": -1.0}, {\"bigg_id\": \"D_6_P_GLUCONO_DELTA_LACTONE_c\", \"coefficient\": -1.0}, {\"bigg_id\": \"CPD_2961_c\", \"coefficient\": 1.0}, {\"bigg_id\": \"PROTON_c\", \"coefficient\": 1.0}]}, \"3\": {\"name\": \"GND\", \"bigg_id\": \"GND\", \"reversibility\": true, \"label_x\": 265.0, \"label_y\": 2275.0, \"gene_reaction_rule\": \"\", \"genes\": [], \"segments\": {\"19\": {\"from_node_id\": \"24\", \"to_node_id\": \"25\", \"b1\": null, \"b2\": null}, \"20\": {\"from_node_id\": \"26\", \"to_node_id\": \"25\", \"b1\": null, \"b2\": null}, \"21\": {\"from_node_id\": \"15\", \"to_node_id\": \"24\", \"b1\": null, \"b2\": null}, \"22\": {\"from_node_id\": \"20\", \"to_node_id\": \"24\", \"b1\": null, \"b2\": null}, \"23\": {\"from_node_id\": \"21\", \"to_node_id\": \"26\", \"b1\": null, \"b2\": null}, \"24\": {\"from_node_id\": \"22\", \"to_node_id\": \"26\", \"b1\": null, \"b2\": null}, \"25\": {\"from_node_id\": \"23\", \"to_node_id\": \"26\", \"b1\": null, \"b2\": null}}, \"metabolites\": [{\"bigg_id\": \"CPD_2961_c\", \"coefficient\": -1.0}, {\"bigg_id\": \"NADP_c\", \"coefficient\": -1.0}, {\"bigg_id\": \"CARBON_DIOXIDE_c\", \"coefficient\": 1.0}, {\"bigg_id\": \"NADPH_c\", \"coefficient\": 1.0}, {\"bigg_id\": \"RIBULOSE_5P_c\", \"coefficient\": 1.0}]}}, \"nodes\": {\"0\": {\"node_type\": \"metabolite\", \"x\": 150.0, \"y\": 30.0, \"label_x\": 160.0, \"label_y\": 20.0, \"bigg_id\": \"Glucopyranose_e\", \"name\": \"Glucopyranose_e\", \"node_is_primary\": false}, \"1\": {\"node_type\": \"metabolite\", \"x\": 300.0, \"y\": 30.0, \"label_x\": 310.0, \"label_y\": 20.0, \"bigg_id\": \"PHOSPHO_ENOL_PYRUVATE_c\", \"name\": \"PHOSPHO_ENOL_PYRUVATE_c\", \"node_is_primary\": false}, \"2\": {\"node_type\": \"metabolite\", \"x\": 150.0, \"y\": 550.0, \"label_x\": 160.0, \"label_y\": 580.0, \"bigg_id\": \"D_glucopyranose_6_phosphate_c\", \"name\": \"D_glucopyranose_6_phosphate_c\", \"node_is_primary\": false}, \"3\": {\"node_type\": \"metabolite\", \"x\": 300.0, \"y\": 550.0, \"label_x\": 310.0, \"label_y\": 580.0, \"bigg_id\": \"PYRUVATE_c\", \"name\": \"PYRUVATE_c\", \"node_is_primary\": false}, \"4\": {\"node_type\": \"multimarker\", \"x\": 225.0, \"y\": 305.0}, \"5\": {\"node_type\": \"midmarker\", \"x\": 225.0, \"y\": 325.0}, \"6\": {\"node_type\": \"multimarker\", \"x\": 225.0, \"y\": 345.0}, \"7\": {\"node_type\": \"metabolite\", \"x\": 300.0, \"y\": 680.0, \"label_x\": 310.0, \"label_y\": 670.0, \"bigg_id\": \"NADP_c\", \"name\": \"NADP_c\", \"node_is_primary\": false}, \"8\": {\"node_type\": \"metabolite\", \"x\": 112.5, \"y\": 1200.0, \"label_x\": 122.5, \"label_y\": 1230.0, \"bigg_id\": \"D_6_P_GLUCONO_DELTA_LACTONE_c\", \"name\": \"D_6_P_GLUCONO_DELTA_LACTONE_c\", \"node_is_primary\": false}, \"9\": {\"node_type\": \"metabolite\", \"x\": 225.0, \"y\": 1200.0, \"label_x\": 235.0, \"label_y\": 1230.0, \"bigg_id\": \"NADPH_c\", \"name\": \"NADPH_c\", \"node_is_primary\": false}, \"10\": {\"node_type\": \"metabolite\", \"x\": 337.5, \"y\": 1200.0, \"label_x\": 347.5, \"label_y\": 1230.0, \"bigg_id\": \"PROTON_c\", \"name\": \"PROTON_c\", \"node_is_primary\": false}, \"11\": {\"node_type\": \"multimarker\", \"x\": 225.0, \"y\": 955.0}, \"12\": {\"node_type\": \"midmarker\", \"x\": 225.0, \"y\": 975.0}, \"13\": {\"node_type\": \"multimarker\", \"x\": 225.0, \"y\": 995.0}, \"14\": {\"node_type\": \"metabolite\", \"x\": 150.0, \"y\": 1330.0, \"label_x\": 160.0, \"label_y\": 1320.0, \"bigg_id\": \"CPD_15815_c\", \"name\": \"CPD_15815_c\", \"node_is_primary\": false}, \"15\": {\"node_type\": \"metabolite\", \"x\": 150.0, \"y\": 1850.0, \"label_x\": 160.0, \"label_y\": 1880.0, \"bigg_id\": \"CPD_2961_c\", \"name\": \"CPD_2961_c\", \"node_is_primary\": false}, \"16\": {\"node_type\": \"metabolite\", \"x\": 300.0, \"y\": 1850.0, \"label_x\": 310.0, \"label_y\": 1880.0, \"bigg_id\": \"PROTON_c\", \"name\": \"PROTON_c\", \"node_is_primary\": false}, \"17\": {\"node_type\": \"multimarker\", \"x\": 225.0, \"y\": 1605.0}, \"18\": {\"node_type\": \"midmarker\", \"x\": 225.0, \"y\": 1625.0}, \"19\": {\"node_type\": \"multimarker\", \"x\": 225.0, \"y\": 1645.0}, \"20\": {\"node_type\": \"metabolite\", \"x\": 300.0, \"y\": 1980.0, \"label_x\": 310.0, \"label_y\": 1970.0, \"bigg_id\": \"NADP_c\", \"name\": \"NADP_c\", \"node_is_primary\": false}, \"21\": {\"node_type\": \"metabolite\", \"x\": 112.5, \"y\": 2500.0, \"label_x\": 122.5, \"label_y\": 2530.0, \"bigg_id\": \"CARBON_DIOXIDE_c\", \"name\": \"CARBON_DIOXIDE_c\", \"node_is_primary\": false}, \"22\": {\"node_type\": \"metabolite\", \"x\": 225.0, \"y\": 2500.0, \"label_x\": 235.0, \"label_y\": 2530.0, \"bigg_id\": \"NADPH_c\", \"name\": \"NADPH_c\", \"node_is_primary\": false}, \"23\": {\"node_type\": \"metabolite\", \"x\": 337.5, \"y\": 2500.0, \"label_x\": 347.5, \"label_y\": 2530.0, \"bigg_id\": \"RIBULOSE_5P_c\", \"name\": \"RIBULOSE_5P_c\", \"node_is_primary\": false}, \"24\": {\"node_type\": \"multimarker\", \"x\": 225.0, \"y\": 2255.0}, \"25\": {\"node_type\": \"midmarker\", \"x\": 225.0, \"y\": 2275.0}, \"26\": {\"node_type\": \"multimarker\", \"x\": 225.0, \"y\": 2295.0}}, \"text_labels\": {}, \"canvas\": {\"x\": 0, \"y\": 0, \"width\": 450, \"height\": 2600}}]",
       "_loaded_model_json": null,
       "allow_building_duplicate_reactions": false,
       "and_method_in_gene_reaction_rule": "mean",
       "canvas_size_and_loc": null,
       "cofactors": [
        "atp",
        "adp",
        "nad",
        "nadh",
        "nadp",
        "nadph",
        "gtp",
        "gdp",
        "h",
        "coa",
        "ump",
        "h2o",
        "ppi"
       ],
       "disabled_buttons": [
        "Clear gene data",
        "Clear metabolite data"
       ],
       "embedded_css": null,
       "enable_editing": true,
       "enable_keys": false,
       "enable_keys_with_tooltip": true,
       "enable_search": true,
       "enable_tooltips": false,
       "full_screen_button": {
        "enable_editing": true,
        "enable_keys": true,
        "enable_tooltips": [
         "label"
        ],
        "menu": "all",
        "scroll_behavior": "pan"
       },
       "gene_data": null,
       "gene_font_size": 18,
       "height": 500,
       "hide_all_labels": false,
       "hide_secondary_metabolites": false,
       "highlight_missing": false,
       "identifiers_on_map": "bigg_id",
       "layout": "IPY_MODEL_0185cdc0b9e54a55884d144bccfe3a91",
       "marker_radius": 5,
       "menu": "all",
       "metabolite_compare_style": "log2_fold",
       "metabolite_data": null,
       "metabolite_no_data_color": "#ffffff",
       "metabolite_no_data_size": 10,
       "metabolite_scale": [
        {
         "color": "#fffaf0",
         "size": 20,
         "type": "min"
        },
        {
         "color": "#f1c470",
         "size": 30,
         "type": "median"
        },
        {
         "color": "#800000",
         "size": 40,
         "type": "max"
        }
       ],
       "metabolite_scale_preset": "WhYlRd",
       "metabolite_styles": [
        "color",
        "size",
        "text"
       ],
       "never_ask_before_quit": true,
       "primary_metabolite_radius": 20,
       "reaction_compare_style": "log2_fold",
       "reaction_data": {
        "G6PDH2r": -2,
        "GLCpts": -2,
        "GND": 1,
        "Other": 1000,
        "PGL": 0.4
       },
       "reaction_no_data_color": "#dcdcdc",
       "reaction_no_data_size": 8,
       "reaction_scale": [
        {
         "color": "rgb(191,215,230)",
         "type": "value",
         "value": 0.4
        },
        {
         "color": "rgb(163,210,240)",
         "type": "value",
         "value": 1
        },
        {
         "color": "rgb(135,205,250)",
         "type": "value",
         "value": 1000
        },
        {
         "color": "rgb(220,220,220)",
         "type": "value",
         "value": 0
        },
        {
         "color": "rgb(237,192,110)",
         "type": "value",
         "value": -2
        },
        {
         "color": "rgb(255,165,0)",
         "type": "value",
         "value": -2
        }
       ],
       "reaction_scale_preset": null,
       "reaction_styles": [
        "color",
        "text"
       ],
       "scroll_behavior": "none",
       "secondary_metabolite_radius": 10,
       "semantic_zoom": null,
       "show_gene_reaction_rules": false,
       "starting_reaction": null,
       "use_3d_transform": false,
       "zoom_to_element": null
      }
     },
     "b710fa9c265b4847af5ccded61c22541": {
      "model_module": "@jupyter-widgets/base",
      "model_module_version": "1.2.0",
      "model_name": "LayoutModel",
      "state": {}
     },
     "bcdcf9364450460c85f4beddcde4bfa6": {
      "model_module": "escher",
      "model_module_version": "1.7.3",
      "model_name": "EscherMapModel",
      "state": {
       "_loaded_map_json": "[{\"map_name\": \"\", \"map_id\": \"\", \"map_description\": \"\", \"homepage\": \"\", \"schema\": \"https://escher.github.io/escher/jsonschema/1-0-0#\"}, {\"reactions\": {\"0\": {\"name\": \"GLCpts\", \"bigg_id\": \"GLCpts\", \"reversibility\": true, \"label_x\": 265.0, \"label_y\": 325.0, \"gene_reaction_rule\": \"\", \"genes\": [], \"segments\": {\"0\": {\"from_node_id\": \"4\", \"to_node_id\": \"5\", \"b1\": null, \"b2\": null}, \"1\": {\"from_node_id\": \"6\", \"to_node_id\": \"5\", \"b1\": null, \"b2\": null}, \"2\": {\"from_node_id\": \"0\", \"to_node_id\": \"4\", \"b1\": null, \"b2\": null}, \"3\": {\"from_node_id\": \"1\", \"to_node_id\": \"4\", \"b1\": null, \"b2\": null}, \"4\": {\"from_node_id\": \"2\", \"to_node_id\": \"6\", \"b1\": null, \"b2\": null}, \"5\": {\"from_node_id\": \"3\", \"to_node_id\": \"6\", \"b1\": null, \"b2\": null}}, \"metabolites\": [{\"bigg_id\": \"Glucopyranose_e\", \"coefficient\": -1.0}, {\"bigg_id\": \"PHOSPHO_ENOL_PYRUVATE_c\", \"coefficient\": -1.0}, {\"bigg_id\": \"D_glucopyranose_6_phosphate_c\", \"coefficient\": 1.0}, {\"bigg_id\": \"PYRUVATE_c\", \"coefficient\": 1.0}]}, \"1\": {\"name\": \"G6PDH2r\", \"bigg_id\": \"G6PDH2r\", \"reversibility\": true, \"label_x\": 265.0, \"label_y\": 975.0, \"gene_reaction_rule\": \"\", \"genes\": [], \"segments\": {\"6\": {\"from_node_id\": \"11\", \"to_node_id\": \"12\", \"b1\": null, \"b2\": null}, \"7\": {\"from_node_id\": \"13\", \"to_node_id\": \"12\", \"b1\": null, \"b2\": null}, \"8\": {\"from_node_id\": \"2\", \"to_node_id\": \"11\", \"b1\": null, \"b2\": null}, \"9\": {\"from_node_id\": \"7\", \"to_node_id\": \"11\", \"b1\": null, \"b2\": null}, \"10\": {\"from_node_id\": \"8\", \"to_node_id\": \"13\", \"b1\": null, \"b2\": null}, \"11\": {\"from_node_id\": \"9\", \"to_node_id\": \"13\", \"b1\": null, \"b2\": null}, \"12\": {\"from_node_id\": \"10\", \"to_node_id\": \"13\", \"b1\": null, \"b2\": null}}, \"metabolites\": [{\"bigg_id\": \"D_glucopyranose_6_phosphate_c\", \"coefficient\": -1.0}, {\"bigg_id\": \"NADP_c\", \"coefficient\": -1.0}, {\"bigg_id\": \"D_6_P_GLUCONO_DELTA_LACTONE_c\", \"coefficient\": 1.0}, {\"bigg_id\": \"NADPH_c\", \"coefficient\": 1.0}, {\"bigg_id\": \"PROTON_c\", \"coefficient\": 1.0}]}, \"2\": {\"name\": \"PGL\", \"bigg_id\": \"PGL\", \"reversibility\": true, \"label_x\": 265.0, \"label_y\": 1625.0, \"gene_reaction_rule\": \"\", \"genes\": [], \"segments\": {\"13\": {\"from_node_id\": \"17\", \"to_node_id\": \"18\", \"b1\": null, \"b2\": null}, \"14\": {\"from_node_id\": \"19\", \"to_node_id\": \"18\", \"b1\": null, \"b2\": null}, \"15\": {\"from_node_id\": \"14\", \"to_node_id\": \"17\", \"b1\": null, \"b2\": null}, \"16\": {\"from_node_id\": \"8\", \"to_node_id\": \"17\", \"b1\": null, \"b2\": null}, \"17\": {\"from_node_id\": \"15\", \"to_node_id\": \"19\", \"b1\": null, \"b2\": null}, \"18\": {\"from_node_id\": \"16\", \"to_node_id\": \"19\", \"b1\": null, \"b2\": null}}, \"metabolites\": [{\"bigg_id\": \"CPD_15815_c\", \"coefficient\": -1.0}, {\"bigg_id\": \"D_6_P_GLUCONO_DELTA_LACTONE_c\", \"coefficient\": -1.0}, {\"bigg_id\": \"CPD_2961_c\", \"coefficient\": 1.0}, {\"bigg_id\": \"PROTON_c\", \"coefficient\": 1.0}]}, \"3\": {\"name\": \"GND\", \"bigg_id\": \"GND\", \"reversibility\": true, \"label_x\": 265.0, \"label_y\": 2275.0, \"gene_reaction_rule\": \"\", \"genes\": [], \"segments\": {\"19\": {\"from_node_id\": \"24\", \"to_node_id\": \"25\", \"b1\": null, \"b2\": null}, \"20\": {\"from_node_id\": \"26\", \"to_node_id\": \"25\", \"b1\": null, \"b2\": null}, \"21\": {\"from_node_id\": \"15\", \"to_node_id\": \"24\", \"b1\": null, \"b2\": null}, \"22\": {\"from_node_id\": \"20\", \"to_node_id\": \"24\", \"b1\": null, \"b2\": null}, \"23\": {\"from_node_id\": \"21\", \"to_node_id\": \"26\", \"b1\": null, \"b2\": null}, \"24\": {\"from_node_id\": \"22\", \"to_node_id\": \"26\", \"b1\": null, \"b2\": null}, \"25\": {\"from_node_id\": \"23\", \"to_node_id\": \"26\", \"b1\": null, \"b2\": null}}, \"metabolites\": [{\"bigg_id\": \"CPD_2961_c\", \"coefficient\": -1.0}, {\"bigg_id\": \"NADP_c\", \"coefficient\": -1.0}, {\"bigg_id\": \"CARBON_DIOXIDE_c\", \"coefficient\": 1.0}, {\"bigg_id\": \"NADPH_c\", \"coefficient\": 1.0}, {\"bigg_id\": \"RIBULOSE_5P_c\", \"coefficient\": 1.0}]}}, \"nodes\": {\"0\": {\"node_type\": \"metabolite\", \"x\": 150.0, \"y\": 30.0, \"label_x\": 160.0, \"label_y\": 20.0, \"bigg_id\": \"Glucopyranose_e\", \"name\": \"Glucopyranose_e\", \"node_is_primary\": false}, \"1\": {\"node_type\": \"metabolite\", \"x\": 300.0, \"y\": 30.0, \"label_x\": 310.0, \"label_y\": 20.0, \"bigg_id\": \"PHOSPHO_ENOL_PYRUVATE_c\", \"name\": \"PHOSPHO_ENOL_PYRUVATE_c\", \"node_is_primary\": false}, \"2\": {\"node_type\": \"metabolite\", \"x\": 150.0, \"y\": 550.0, \"label_x\": 160.0, \"label_y\": 580.0, \"bigg_id\": \"D_glucopyranose_6_phosphate_c\", \"name\": \"D_glucopyranose_6_phosphate_c\", \"node_is_primary\": false}, \"3\": {\"node_type\": \"metabolite\", \"x\": 300.0, \"y\": 550.0, \"label_x\": 310.0, \"label_y\": 580.0, \"bigg_id\": \"PYRUVATE_c\", \"name\": \"PYRUVATE_c\", \"node_is_primary\": false}, \"4\": {\"node_type\": \"multimarker\", \"x\": 225.0, \"y\": 305.0}, \"5\": {\"node_type\": \"midmarker\", \"x\": 225.0, \"y\": 325.0}, \"6\": {\"node_type\": \"multimarker\", \"x\": 225.0, \"y\": 345.0}, \"7\": {\"node_type\": \"metabolite\", \"x\": 300.0, \"y\": 680.0, \"label_x\": 310.0, \"label_y\": 670.0, \"bigg_id\": \"NADP_c\", \"name\": \"NADP_c\", \"node_is_primary\": false}, \"8\": {\"node_type\": \"metabolite\", \"x\": 112.5, \"y\": 1200.0, \"label_x\": 122.5, \"label_y\": 1230.0, \"bigg_id\": \"D_6_P_GLUCONO_DELTA_LACTONE_c\", \"name\": \"D_6_P_GLUCONO_DELTA_LACTONE_c\", \"node_is_primary\": false}, \"9\": {\"node_type\": \"metabolite\", \"x\": 225.0, \"y\": 1200.0, \"label_x\": 235.0, \"label_y\": 1230.0, \"bigg_id\": \"NADPH_c\", \"name\": \"NADPH_c\", \"node_is_primary\": false}, \"10\": {\"node_type\": \"metabolite\", \"x\": 337.5, \"y\": 1200.0, \"label_x\": 347.5, \"label_y\": 1230.0, \"bigg_id\": \"PROTON_c\", \"name\": \"PROTON_c\", \"node_is_primary\": false}, \"11\": {\"node_type\": \"multimarker\", \"x\": 225.0, \"y\": 955.0}, \"12\": {\"node_type\": \"midmarker\", \"x\": 225.0, \"y\": 975.0}, \"13\": {\"node_type\": \"multimarker\", \"x\": 225.0, \"y\": 995.0}, \"14\": {\"node_type\": \"metabolite\", \"x\": 150.0, \"y\": 1330.0, \"label_x\": 160.0, \"label_y\": 1320.0, \"bigg_id\": \"CPD_15815_c\", \"name\": \"CPD_15815_c\", \"node_is_primary\": false}, \"15\": {\"node_type\": \"metabolite\", \"x\": 150.0, \"y\": 1850.0, \"label_x\": 160.0, \"label_y\": 1880.0, \"bigg_id\": \"CPD_2961_c\", \"name\": \"CPD_2961_c\", \"node_is_primary\": false}, \"16\": {\"node_type\": \"metabolite\", \"x\": 300.0, \"y\": 1850.0, \"label_x\": 310.0, \"label_y\": 1880.0, \"bigg_id\": \"PROTON_c\", \"name\": \"PROTON_c\", \"node_is_primary\": false}, \"17\": {\"node_type\": \"multimarker\", \"x\": 225.0, \"y\": 1605.0}, \"18\": {\"node_type\": \"midmarker\", \"x\": 225.0, \"y\": 1625.0}, \"19\": {\"node_type\": \"multimarker\", \"x\": 225.0, \"y\": 1645.0}, \"20\": {\"node_type\": \"metabolite\", \"x\": 300.0, \"y\": 1980.0, \"label_x\": 310.0, \"label_y\": 1970.0, \"bigg_id\": \"NADP_c\", \"name\": \"NADP_c\", \"node_is_primary\": false}, \"21\": {\"node_type\": \"metabolite\", \"x\": 112.5, \"y\": 2500.0, \"label_x\": 122.5, \"label_y\": 2530.0, \"bigg_id\": \"CARBON_DIOXIDE_c\", \"name\": \"CARBON_DIOXIDE_c\", \"node_is_primary\": false}, \"22\": {\"node_type\": \"metabolite\", \"x\": 225.0, \"y\": 2500.0, \"label_x\": 235.0, \"label_y\": 2530.0, \"bigg_id\": \"NADPH_c\", \"name\": \"NADPH_c\", \"node_is_primary\": false}, \"23\": {\"node_type\": \"metabolite\", \"x\": 337.5, \"y\": 2500.0, \"label_x\": 347.5, \"label_y\": 2530.0, \"bigg_id\": \"RIBULOSE_5P_c\", \"name\": \"RIBULOSE_5P_c\", \"node_is_primary\": false}, \"24\": {\"node_type\": \"multimarker\", \"x\": 225.0, \"y\": 2255.0}, \"25\": {\"node_type\": \"midmarker\", \"x\": 225.0, \"y\": 2275.0}, \"26\": {\"node_type\": \"multimarker\", \"x\": 225.0, \"y\": 2295.0}}, \"text_labels\": {}, \"canvas\": {\"x\": 0, \"y\": 0, \"width\": 450, \"height\": 2600}}]",
       "_loaded_model_json": null,
       "allow_building_duplicate_reactions": false,
       "and_method_in_gene_reaction_rule": "mean",
       "canvas_size_and_loc": null,
       "cofactors": [
        "atp",
        "adp",
        "nad",
        "nadh",
        "nadp",
        "nadph",
        "gtp",
        "gdp",
        "h",
        "coa",
        "ump",
        "h2o",
        "ppi"
       ],
       "disabled_buttons": [
        "Clear reaction data",
        "Clear gene data",
        "Clear metabolite data"
       ],
       "embedded_css": null,
       "enable_editing": true,
       "enable_keys": false,
       "enable_keys_with_tooltip": true,
       "enable_search": true,
       "enable_tooltips": false,
       "full_screen_button": {
        "enable_editing": true,
        "enable_keys": true,
        "enable_tooltips": [
         "label"
        ],
        "menu": "all",
        "scroll_behavior": "pan"
       },
       "gene_data": null,
       "gene_font_size": 18,
       "height": 500,
       "hide_all_labels": false,
       "hide_secondary_metabolites": false,
       "highlight_missing": false,
       "identifiers_on_map": "bigg_id",
       "layout": "IPY_MODEL_790deee363cb47d39b02127bbc5839df",
       "marker_radius": 5,
       "menu": "all",
       "metabolite_compare_style": "log2_fold",
       "metabolite_data": null,
       "metabolite_no_data_color": "#ffffff",
       "metabolite_no_data_size": 10,
       "metabolite_scale": [
        {
         "color": "#fffaf0",
         "size": 20,
         "type": "min"
        },
        {
         "color": "#f1c470",
         "size": 30,
         "type": "median"
        },
        {
         "color": "#800000",
         "size": 40,
         "type": "max"
        }
       ],
       "metabolite_scale_preset": "WhYlRd",
       "metabolite_styles": [
        "color",
        "size",
        "text"
       ],
       "never_ask_before_quit": true,
       "primary_metabolite_radius": 20,
       "reaction_compare_style": "log2_fold",
       "reaction_data": null,
       "reaction_no_data_color": "#dcdcdc",
       "reaction_no_data_size": 8,
       "reaction_scale": {},
       "reaction_scale_preset": null,
       "reaction_styles": [
        "color",
        "text"
       ],
       "scroll_behavior": "none",
       "secondary_metabolite_radius": 10,
       "semantic_zoom": null,
       "show_gene_reaction_rules": false,
       "starting_reaction": null,
       "use_3d_transform": false,
       "zoom_to_element": null
      }
     },
     "e0e30dfc932a451e97467fdaf51cf816": {
      "model_module": "@jupyter-widgets/base",
      "model_module_version": "1.2.0",
      "model_name": "LayoutModel",
      "state": {}
     },
     "f13474675c834dfab3f5cd964999f081": {
      "model_module": "escher",
      "model_module_version": "1.7.3",
      "model_name": "EscherMapModel",
      "state": {
       "_loaded_map_json": "[{\"map_name\": \"\", \"map_id\": \"\", \"map_description\": \"\", \"homepage\": \"\", \"schema\": \"https://escher.github.io/escher/jsonschema/1-0-0#\"}, {\"reactions\": {\"0\": {\"name\": \"GLCpts\", \"bigg_id\": \"GLCpts\", \"reversibility\": true, \"label_x\": 271.0, \"label_y\": 45.0, \"gene_reaction_rule\": \"\", \"genes\": [], \"segments\": {\"0\": {\"from_node_id\": \"4\", \"to_node_id\": \"5\", \"b1\": null, \"b2\": null}, \"1\": {\"from_node_id\": \"6\", \"to_node_id\": \"5\", \"b1\": null, \"b2\": null}, \"2\": {\"from_node_id\": \"0\", \"to_node_id\": \"4\", \"b1\": null, \"b2\": null}, \"3\": {\"from_node_id\": \"1\", \"to_node_id\": \"4\", \"b1\": null, \"b2\": null}, \"4\": {\"from_node_id\": \"2\", \"to_node_id\": \"6\", \"b1\": null, \"b2\": null}, \"5\": {\"from_node_id\": \"3\", \"to_node_id\": \"6\", \"b1\": null, \"b2\": null}}, \"metabolites\": [{\"bigg_id\": \"Glucopyranose_e\", \"coefficient\": -1.0}, {\"bigg_id\": \"PHOSPHO_ENOL_PYRUVATE_c\", \"coefficient\": -1.0}, {\"bigg_id\": \"D_glucopyranose_6_phosphate_c\", \"coefficient\": 1.0}, {\"bigg_id\": \"PYRUVATE_c\", \"coefficient\": 1.0}]}, \"1\": {\"name\": \"G6PDH2r\", \"bigg_id\": \"G6PDH2r\", \"reversibility\": true, \"label_x\": 912.0, \"label_y\": 45.0, \"gene_reaction_rule\": \"\", \"genes\": [], \"segments\": {\"6\": {\"from_node_id\": \"11\", \"to_node_id\": \"12\", \"b1\": null, \"b2\": null}, \"7\": {\"from_node_id\": \"13\", \"to_node_id\": \"12\", \"b1\": null, \"b2\": null}, \"8\": {\"from_node_id\": \"2\", \"to_node_id\": \"11\", \"b1\": null, \"b2\": null}, \"9\": {\"from_node_id\": \"7\", \"to_node_id\": \"11\", \"b1\": null, \"b2\": null}, \"10\": {\"from_node_id\": \"8\", \"to_node_id\": \"13\", \"b1\": null, \"b2\": null}, \"11\": {\"from_node_id\": \"9\", \"to_node_id\": \"13\", \"b1\": null, \"b2\": null}, \"12\": {\"from_node_id\": \"10\", \"to_node_id\": \"13\", \"b1\": null, \"b2\": null}}, \"metabolites\": [{\"bigg_id\": \"D_glucopyranose_6_phosphate_c\", \"coefficient\": -1.0}, {\"bigg_id\": \"NADP_c\", \"coefficient\": -1.0}, {\"bigg_id\": \"D_6_P_GLUCONO_DELTA_LACTONE_c\", \"coefficient\": 1.0}, {\"bigg_id\": \"NADPH_c\", \"coefficient\": 1.0}, {\"bigg_id\": \"PROTON_c\", \"coefficient\": 1.0}]}, \"2\": {\"name\": \"PGL\", \"bigg_id\": \"PGL\", \"reversibility\": true, \"label_x\": 1598.0, \"label_y\": 45.0, \"gene_reaction_rule\": \"\", \"genes\": [], \"segments\": {\"13\": {\"from_node_id\": \"17\", \"to_node_id\": \"18\", \"b1\": null, \"b2\": null}, \"14\": {\"from_node_id\": \"19\", \"to_node_id\": \"18\", \"b1\": null, \"b2\": null}, \"15\": {\"from_node_id\": \"14\", \"to_node_id\": \"17\", \"b1\": null, \"b2\": null}, \"16\": {\"from_node_id\": \"8\", \"to_node_id\": \"17\", \"b1\": null, \"b2\": null}, \"17\": {\"from_node_id\": \"15\", \"to_node_id\": \"19\", \"b1\": null, \"b2\": null}, \"18\": {\"from_node_id\": \"16\", \"to_node_id\": \"19\", \"b1\": null, \"b2\": null}}, \"metabolites\": [{\"bigg_id\": \"CPD_15815_c\", \"coefficient\": -1.0}, {\"bigg_id\": \"D_6_P_GLUCONO_DELTA_LACTONE_c\", \"coefficient\": -1.0}, {\"bigg_id\": \"CPD_2961_c\", \"coefficient\": 1.0}, {\"bigg_id\": \"PROTON_c\", \"coefficient\": 1.0}]}, \"3\": {\"name\": \"GND\", \"bigg_id\": \"GND\", \"reversibility\": true, \"label_x\": 2248.0, \"label_y\": 45.0, \"gene_reaction_rule\": \"\", \"genes\": [], \"segments\": {\"19\": {\"from_node_id\": \"24\", \"to_node_id\": \"25\", \"b1\": null, \"b2\": null}, \"20\": {\"from_node_id\": \"26\", \"to_node_id\": \"25\", \"b1\": null, \"b2\": null}, \"21\": {\"from_node_id\": \"15\", \"to_node_id\": \"24\", \"b1\": null, \"b2\": null}, \"22\": {\"from_node_id\": \"20\", \"to_node_id\": \"24\", \"b1\": null, \"b2\": null}, \"23\": {\"from_node_id\": \"21\", \"to_node_id\": \"26\", \"b1\": null, \"b2\": null}, \"24\": {\"from_node_id\": \"22\", \"to_node_id\": \"26\", \"b1\": null, \"b2\": null}, \"25\": {\"from_node_id\": \"23\", \"to_node_id\": \"26\", \"b1\": null, \"b2\": null}}, \"metabolites\": [{\"bigg_id\": \"CPD_2961_c\", \"coefficient\": -1.0}, {\"bigg_id\": \"NADP_c\", \"coefficient\": -1.0}, {\"bigg_id\": \"CARBON_DIOXIDE_c\", \"coefficient\": 1.0}, {\"bigg_id\": \"NADPH_c\", \"coefficient\": 1.0}, {\"bigg_id\": \"RIBULOSE_5P_c\", \"coefficient\": 1.0}]}}, \"nodes\": {\"0\": {\"node_type\": \"metabolite\", \"x\": 30.0, \"y\": 150.0, \"label_x\": 0.0, \"label_y\": 130.0, \"bigg_id\": \"Glucopyranose_e\", \"name\": \"Glucopyranose_e\", \"node_is_primary\": false}, \"1\": {\"node_type\": \"metabolite\", \"x\": 30.0, \"y\": 300.0, \"label_x\": 0.0, \"label_y\": 280.0, \"bigg_id\": \"PHOSPHO_ENOL_PYRUVATE_c\", \"name\": \"PHOSPHO_ENOL_PYRUVATE_c\", \"node_is_primary\": false}, \"2\": {\"node_type\": \"metabolite\", \"x\": 550.0, \"y\": 150.0, \"label_x\": 520.0, \"label_y\": 130.0, \"bigg_id\": \"D_glucopyranose_6_phosphate_c\", \"name\": \"D_glucopyranose_6_phosphate_c\", \"node_is_primary\": false}, \"3\": {\"node_type\": \"metabolite\", \"x\": 550.0, \"y\": 300.0, \"label_x\": 520.0, \"label_y\": 280.0, \"bigg_id\": \"PYRUVATE_c\", \"name\": \"PYRUVATE_c\", \"node_is_primary\": false}, \"4\": {\"node_type\": \"multimarker\", \"x\": 335.0, \"y\": 225.0}, \"5\": {\"node_type\": \"midmarker\", \"x\": 355.0, \"y\": 225.0}, \"6\": {\"node_type\": \"multimarker\", \"x\": 375.0, \"y\": 225.0}, \"7\": {\"node_type\": \"metabolite\", \"x\": 680.0, \"y\": 300.0, \"label_x\": 650.0, \"label_y\": 280.0, \"bigg_id\": \"NADP_c\", \"name\": \"NADP_c\", \"node_is_primary\": false}, \"8\": {\"node_type\": \"metabolite\", \"x\": 1200.0, \"y\": 112.5, \"label_x\": 1170.0, \"label_y\": 92.5, \"bigg_id\": \"D_6_P_GLUCONO_DELTA_LACTONE_c\", \"name\": \"D_6_P_GLUCONO_DELTA_LACTONE_c\", \"node_is_primary\": false}, \"9\": {\"node_type\": \"metabolite\", \"x\": 1200.0, \"y\": 225.0, \"label_x\": 1170.0, \"label_y\": 205.0, \"bigg_id\": \"NADPH_c\", \"name\": \"NADPH_c\", \"node_is_primary\": false}, \"10\": {\"node_type\": \"metabolite\", \"x\": 1200.0, \"y\": 337.5, \"label_x\": 1170.0, \"label_y\": 317.5, \"bigg_id\": \"PROTON_c\", \"name\": \"PROTON_c\", \"node_is_primary\": false}, \"11\": {\"node_type\": \"multimarker\", \"x\": 985.0, \"y\": 225.0}, \"12\": {\"node_type\": \"midmarker\", \"x\": 1005.0, \"y\": 225.0}, \"13\": {\"node_type\": \"multimarker\", \"x\": 1025.0, \"y\": 225.0}, \"14\": {\"node_type\": \"metabolite\", \"x\": 1330.0, \"y\": 150.0, \"label_x\": 1300.0, \"label_y\": 130.0, \"bigg_id\": \"CPD_15815_c\", \"name\": \"CPD_15815_c\", \"node_is_primary\": false}, \"15\": {\"node_type\": \"metabolite\", \"x\": 1850.0, \"y\": 150.0, \"label_x\": 1820.0, \"label_y\": 130.0, \"bigg_id\": \"CPD_2961_c\", \"name\": \"CPD_2961_c\", \"node_is_primary\": false}, \"16\": {\"node_type\": \"metabolite\", \"x\": 1850.0, \"y\": 300.0, \"label_x\": 1820.0, \"label_y\": 280.0, \"bigg_id\": \"PROTON_c\", \"name\": \"PROTON_c\", \"node_is_primary\": false}, \"17\": {\"node_type\": \"multimarker\", \"x\": 1635.0, \"y\": 225.0}, \"18\": {\"node_type\": \"midmarker\", \"x\": 1655.0, \"y\": 225.0}, \"19\": {\"node_type\": \"multimarker\", \"x\": 1675.0, \"y\": 225.0}, \"20\": {\"node_type\": \"metabolite\", \"x\": 1980.0, \"y\": 300.0, \"label_x\": 1950.0, \"label_y\": 280.0, \"bigg_id\": \"NADP_c\", \"name\": \"NADP_c\", \"node_is_primary\": false}, \"21\": {\"node_type\": \"metabolite\", \"x\": 2500.0, \"y\": 112.5, \"label_x\": 2470.0, \"label_y\": 92.5, \"bigg_id\": \"CARBON_DIOXIDE_c\", \"name\": \"CARBON_DIOXIDE_c\", \"node_is_primary\": false}, \"22\": {\"node_type\": \"metabolite\", \"x\": 2500.0, \"y\": 225.0, \"label_x\": 2470.0, \"label_y\": 205.0, \"bigg_id\": \"NADPH_c\", \"name\": \"NADPH_c\", \"node_is_primary\": false}, \"23\": {\"node_type\": \"metabolite\", \"x\": 2500.0, \"y\": 337.5, \"label_x\": 2470.0, \"label_y\": 317.5, \"bigg_id\": \"RIBULOSE_5P_c\", \"name\": \"RIBULOSE_5P_c\", \"node_is_primary\": false}, \"24\": {\"node_type\": \"multimarker\", \"x\": 2285.0, \"y\": 225.0}, \"25\": {\"node_type\": \"midmarker\", \"x\": 2305.0, \"y\": 225.0}, \"26\": {\"node_type\": \"multimarker\", \"x\": 2325.0, \"y\": 225.0}}, \"text_labels\": {}, \"canvas\": {\"x\": 0, \"y\": 0, \"width\": 2600, \"height\": 450}}]",
       "_loaded_model_json": null,
       "allow_building_duplicate_reactions": false,
       "and_method_in_gene_reaction_rule": "mean",
       "canvas_size_and_loc": null,
       "cofactors": [
        "atp",
        "adp",
        "nad",
        "nadh",
        "nadp",
        "nadph",
        "gtp",
        "gdp",
        "h",
        "coa",
        "ump",
        "h2o",
        "ppi"
       ],
       "disabled_buttons": [
        "Clear reaction data",
        "Clear gene data",
        "Clear metabolite data"
       ],
       "embedded_css": null,
       "enable_editing": true,
       "enable_keys": false,
       "enable_keys_with_tooltip": true,
       "enable_search": true,
       "enable_tooltips": false,
       "full_screen_button": {
        "enable_editing": true,
        "enable_keys": true,
        "enable_tooltips": [
         "label"
        ],
        "menu": "all",
        "scroll_behavior": "pan"
       },
       "gene_data": null,
       "gene_font_size": 18,
       "height": 500,
       "hide_all_labels": false,
       "hide_secondary_metabolites": false,
       "highlight_missing": false,
       "identifiers_on_map": "bigg_id",
       "layout": "IPY_MODEL_b710fa9c265b4847af5ccded61c22541",
       "marker_radius": 5,
       "menu": "all",
       "metabolite_compare_style": "log2_fold",
       "metabolite_data": null,
       "metabolite_no_data_color": "#ffffff",
       "metabolite_no_data_size": 10,
       "metabolite_scale": [
        {
         "color": "#fffaf0",
         "size": 20,
         "type": "min"
        },
        {
         "color": "#f1c470",
         "size": 30,
         "type": "median"
        },
        {
         "color": "#800000",
         "size": 40,
         "type": "max"
        }
       ],
       "metabolite_scale_preset": "WhYlRd",
       "metabolite_styles": [
        "color",
        "size",
        "text"
       ],
       "never_ask_before_quit": true,
       "primary_metabolite_radius": 20,
       "reaction_compare_style": "log2_fold",
       "reaction_data": null,
       "reaction_no_data_color": "#dcdcdc",
       "reaction_no_data_size": 8,
       "reaction_scale": {},
       "reaction_scale_preset": null,
       "reaction_styles": [
        "color",
        "text"
       ],
       "scroll_behavior": "none",
       "secondary_metabolite_radius": 10,
       "semantic_zoom": null,
       "show_gene_reaction_rules": false,
       "starting_reaction": null,
       "use_3d_transform": false,
       "zoom_to_element": null
      }
     },
     "f419de90f92545fd9324bbcf7e4d3d77": {
      "model_module": "escher",
      "model_module_version": "1.7.3",
      "model_name": "EscherMapModel",
      "state": {
       "_loaded_map_json": "[{\"map_name\": \"\", \"map_id\": \"\", \"map_description\": \"\", \"homepage\": \"\", \"schema\": \"https://escher.github.io/escher/jsonschema/1-0-0#\"}, {\"reactions\": {\"0\": {\"name\": \"GLCpts\", \"bigg_id\": \"GLCpts\", \"reversibility\": true, \"label_x\": 265.0, \"label_y\": 325.0, \"gene_reaction_rule\": \"\", \"genes\": [], \"segments\": {\"0\": {\"from_node_id\": \"4\", \"to_node_id\": \"5\", \"b1\": null, \"b2\": null}, \"1\": {\"from_node_id\": \"6\", \"to_node_id\": \"5\", \"b1\": null, \"b2\": null}, \"2\": {\"from_node_id\": \"0\", \"to_node_id\": \"4\", \"b1\": null, \"b2\": null}, \"3\": {\"from_node_id\": \"1\", \"to_node_id\": \"4\", \"b1\": null, \"b2\": null}, \"4\": {\"from_node_id\": \"2\", \"to_node_id\": \"6\", \"b1\": null, \"b2\": null}, \"5\": {\"from_node_id\": \"3\", \"to_node_id\": \"6\", \"b1\": null, \"b2\": null}}, \"metabolites\": [{\"bigg_id\": \"Glucopyranose_e\", \"coefficient\": -1.0}, {\"bigg_id\": \"PHOSPHO_ENOL_PYRUVATE_c\", \"coefficient\": -1.0}, {\"bigg_id\": \"D_glucopyranose_6_phosphate_c\", \"coefficient\": 1.0}, {\"bigg_id\": \"PYRUVATE_c\", \"coefficient\": 1.0}]}, \"1\": {\"name\": \"G6PDH2r\", \"bigg_id\": \"G6PDH2r\", \"reversibility\": true, \"label_x\": 265.0, \"label_y\": 975.0, \"gene_reaction_rule\": \"\", \"genes\": [], \"segments\": {\"6\": {\"from_node_id\": \"11\", \"to_node_id\": \"12\", \"b1\": null, \"b2\": null}, \"7\": {\"from_node_id\": \"13\", \"to_node_id\": \"12\", \"b1\": null, \"b2\": null}, \"8\": {\"from_node_id\": \"2\", \"to_node_id\": \"11\", \"b1\": null, \"b2\": null}, \"9\": {\"from_node_id\": \"7\", \"to_node_id\": \"11\", \"b1\": null, \"b2\": null}, \"10\": {\"from_node_id\": \"8\", \"to_node_id\": \"13\", \"b1\": null, \"b2\": null}, \"11\": {\"from_node_id\": \"9\", \"to_node_id\": \"13\", \"b1\": null, \"b2\": null}, \"12\": {\"from_node_id\": \"10\", \"to_node_id\": \"13\", \"b1\": null, \"b2\": null}}, \"metabolites\": [{\"bigg_id\": \"D_glucopyranose_6_phosphate_c\", \"coefficient\": -1.0}, {\"bigg_id\": \"NADP_c\", \"coefficient\": -1.0}, {\"bigg_id\": \"D_6_P_GLUCONO_DELTA_LACTONE_c\", \"coefficient\": 1.0}, {\"bigg_id\": \"NADPH_c\", \"coefficient\": 1.0}, {\"bigg_id\": \"PROTON_c\", \"coefficient\": 1.0}]}, \"2\": {\"name\": \"PGL\", \"bigg_id\": \"PGL\", \"reversibility\": true, \"label_x\": 265.0, \"label_y\": 1625.0, \"gene_reaction_rule\": \"\", \"genes\": [], \"segments\": {\"13\": {\"from_node_id\": \"17\", \"to_node_id\": \"18\", \"b1\": null, \"b2\": null}, \"14\": {\"from_node_id\": \"19\", \"to_node_id\": \"18\", \"b1\": null, \"b2\": null}, \"15\": {\"from_node_id\": \"14\", \"to_node_id\": \"17\", \"b1\": null, \"b2\": null}, \"16\": {\"from_node_id\": \"8\", \"to_node_id\": \"17\", \"b1\": null, \"b2\": null}, \"17\": {\"from_node_id\": \"15\", \"to_node_id\": \"19\", \"b1\": null, \"b2\": null}, \"18\": {\"from_node_id\": \"16\", \"to_node_id\": \"19\", \"b1\": null, \"b2\": null}}, \"metabolites\": [{\"bigg_id\": \"CPD_15815_c\", \"coefficient\": -1.0}, {\"bigg_id\": \"D_6_P_GLUCONO_DELTA_LACTONE_c\", \"coefficient\": -1.0}, {\"bigg_id\": \"CPD_2961_c\", \"coefficient\": 1.0}, {\"bigg_id\": \"PROTON_c\", \"coefficient\": 1.0}]}, \"3\": {\"name\": \"GND\", \"bigg_id\": \"GND\", \"reversibility\": true, \"label_x\": 265.0, \"label_y\": 2275.0, \"gene_reaction_rule\": \"\", \"genes\": [], \"segments\": {\"19\": {\"from_node_id\": \"24\", \"to_node_id\": \"25\", \"b1\": null, \"b2\": null}, \"20\": {\"from_node_id\": \"26\", \"to_node_id\": \"25\", \"b1\": null, \"b2\": null}, \"21\": {\"from_node_id\": \"15\", \"to_node_id\": \"24\", \"b1\": null, \"b2\": null}, \"22\": {\"from_node_id\": \"20\", \"to_node_id\": \"24\", \"b1\": null, \"b2\": null}, \"23\": {\"from_node_id\": \"21\", \"to_node_id\": \"26\", \"b1\": null, \"b2\": null}, \"24\": {\"from_node_id\": \"22\", \"to_node_id\": \"26\", \"b1\": null, \"b2\": null}, \"25\": {\"from_node_id\": \"23\", \"to_node_id\": \"26\", \"b1\": null, \"b2\": null}}, \"metabolites\": [{\"bigg_id\": \"CPD_2961_c\", \"coefficient\": -1.0}, {\"bigg_id\": \"NADP_c\", \"coefficient\": -1.0}, {\"bigg_id\": \"CARBON_DIOXIDE_c\", \"coefficient\": 1.0}, {\"bigg_id\": \"NADPH_c\", \"coefficient\": 1.0}, {\"bigg_id\": \"RIBULOSE_5P_c\", \"coefficient\": 1.0}]}}, \"nodes\": {\"0\": {\"node_type\": \"metabolite\", \"x\": 150.0, \"y\": 30.0, \"label_x\": 160.0, \"label_y\": 20.0, \"bigg_id\": \"Glucopyranose_e\", \"name\": \"Glucopyranose_e\", \"node_is_primary\": false}, \"1\": {\"node_type\": \"metabolite\", \"x\": 300.0, \"y\": 30.0, \"label_x\": 310.0, \"label_y\": 20.0, \"bigg_id\": \"PHOSPHO_ENOL_PYRUVATE_c\", \"name\": \"PHOSPHO_ENOL_PYRUVATE_c\", \"node_is_primary\": false}, \"2\": {\"node_type\": \"metabolite\", \"x\": 150.0, \"y\": 550.0, \"label_x\": 160.0, \"label_y\": 580.0, \"bigg_id\": \"D_glucopyranose_6_phosphate_c\", \"name\": \"D_glucopyranose_6_phosphate_c\", \"node_is_primary\": false}, \"3\": {\"node_type\": \"metabolite\", \"x\": 300.0, \"y\": 550.0, \"label_x\": 310.0, \"label_y\": 580.0, \"bigg_id\": \"PYRUVATE_c\", \"name\": \"PYRUVATE_c\", \"node_is_primary\": false}, \"4\": {\"node_type\": \"multimarker\", \"x\": 225.0, \"y\": 305.0}, \"5\": {\"node_type\": \"midmarker\", \"x\": 225.0, \"y\": 325.0}, \"6\": {\"node_type\": \"multimarker\", \"x\": 225.0, \"y\": 345.0}, \"7\": {\"node_type\": \"metabolite\", \"x\": 300.0, \"y\": 680.0, \"label_x\": 310.0, \"label_y\": 670.0, \"bigg_id\": \"NADP_c\", \"name\": \"NADP_c\", \"node_is_primary\": false}, \"8\": {\"node_type\": \"metabolite\", \"x\": 112.5, \"y\": 1200.0, \"label_x\": 122.5, \"label_y\": 1230.0, \"bigg_id\": \"D_6_P_GLUCONO_DELTA_LACTONE_c\", \"name\": \"D_6_P_GLUCONO_DELTA_LACTONE_c\", \"node_is_primary\": false}, \"9\": {\"node_type\": \"metabolite\", \"x\": 225.0, \"y\": 1200.0, \"label_x\": 235.0, \"label_y\": 1230.0, \"bigg_id\": \"NADPH_c\", \"name\": \"NADPH_c\", \"node_is_primary\": false}, \"10\": {\"node_type\": \"metabolite\", \"x\": 337.5, \"y\": 1200.0, \"label_x\": 347.5, \"label_y\": 1230.0, \"bigg_id\": \"PROTON_c\", \"name\": \"PROTON_c\", \"node_is_primary\": false}, \"11\": {\"node_type\": \"multimarker\", \"x\": 225.0, \"y\": 955.0}, \"12\": {\"node_type\": \"midmarker\", \"x\": 225.0, \"y\": 975.0}, \"13\": {\"node_type\": \"multimarker\", \"x\": 225.0, \"y\": 995.0}, \"14\": {\"node_type\": \"metabolite\", \"x\": 150.0, \"y\": 1330.0, \"label_x\": 160.0, \"label_y\": 1320.0, \"bigg_id\": \"CPD_15815_c\", \"name\": \"CPD_15815_c\", \"node_is_primary\": false}, \"15\": {\"node_type\": \"metabolite\", \"x\": 150.0, \"y\": 1850.0, \"label_x\": 160.0, \"label_y\": 1880.0, \"bigg_id\": \"CPD_2961_c\", \"name\": \"CPD_2961_c\", \"node_is_primary\": false}, \"16\": {\"node_type\": \"metabolite\", \"x\": 300.0, \"y\": 1850.0, \"label_x\": 310.0, \"label_y\": 1880.0, \"bigg_id\": \"PROTON_c\", \"name\": \"PROTON_c\", \"node_is_primary\": false}, \"17\": {\"node_type\": \"multimarker\", \"x\": 225.0, \"y\": 1605.0}, \"18\": {\"node_type\": \"midmarker\", \"x\": 225.0, \"y\": 1625.0}, \"19\": {\"node_type\": \"multimarker\", \"x\": 225.0, \"y\": 1645.0}, \"20\": {\"node_type\": \"metabolite\", \"x\": 300.0, \"y\": 1980.0, \"label_x\": 310.0, \"label_y\": 1970.0, \"bigg_id\": \"NADP_c\", \"name\": \"NADP_c\", \"node_is_primary\": false}, \"21\": {\"node_type\": \"metabolite\", \"x\": 112.5, \"y\": 2500.0, \"label_x\": 122.5, \"label_y\": 2530.0, \"bigg_id\": \"CARBON_DIOXIDE_c\", \"name\": \"CARBON_DIOXIDE_c\", \"node_is_primary\": false}, \"22\": {\"node_type\": \"metabolite\", \"x\": 225.0, \"y\": 2500.0, \"label_x\": 235.0, \"label_y\": 2530.0, \"bigg_id\": \"NADPH_c\", \"name\": \"NADPH_c\", \"node_is_primary\": false}, \"23\": {\"node_type\": \"metabolite\", \"x\": 337.5, \"y\": 2500.0, \"label_x\": 347.5, \"label_y\": 2530.0, \"bigg_id\": \"RIBULOSE_5P_c\", \"name\": \"RIBULOSE_5P_c\", \"node_is_primary\": false}, \"24\": {\"node_type\": \"multimarker\", \"x\": 225.0, \"y\": 2255.0}, \"25\": {\"node_type\": \"midmarker\", \"x\": 225.0, \"y\": 2275.0}, \"26\": {\"node_type\": \"multimarker\", \"x\": 225.0, \"y\": 2295.0}}, \"text_labels\": {}, \"canvas\": {\"x\": 0, \"y\": 0, \"width\": 450, \"height\": 2600}}]",
       "_loaded_model_json": null,
       "allow_building_duplicate_reactions": false,
       "and_method_in_gene_reaction_rule": "mean",
       "canvas_size_and_loc": null,
       "cofactors": [
        "atp",
        "adp",
        "nad",
        "nadh",
        "nadp",
        "nadph",
        "gtp",
        "gdp",
        "h",
        "coa",
        "ump",
        "h2o",
        "ppi"
       ],
       "disabled_buttons": [
        "Clear gene data",
        "Clear metabolite data"
       ],
       "embedded_css": null,
       "enable_editing": true,
       "enable_keys": false,
       "enable_keys_with_tooltip": true,
       "enable_search": true,
       "enable_tooltips": false,
       "full_screen_button": {
        "enable_editing": true,
        "enable_keys": true,
        "enable_tooltips": [
         "label"
        ],
        "menu": "all",
        "scroll_behavior": "pan"
       },
       "gene_data": null,
       "gene_font_size": 18,
       "height": 500,
       "hide_all_labels": false,
       "hide_secondary_metabolites": false,
       "highlight_missing": false,
       "identifiers_on_map": "bigg_id",
       "layout": "IPY_MODEL_127fc501282c40a1857d7c6f6f542516",
       "marker_radius": 5,
       "menu": "all",
       "metabolite_compare_style": "log2_fold",
       "metabolite_data": null,
       "metabolite_no_data_color": "#ffffff",
       "metabolite_no_data_size": 10,
       "metabolite_scale": [
        {
         "color": "#fffaf0",
         "size": 20,
         "type": "min"
        },
        {
         "color": "#f1c470",
         "size": 30,
         "type": "median"
        },
        {
         "color": "#800000",
         "size": 40,
         "type": "max"
        }
       ],
       "metabolite_scale_preset": "WhYlRd",
       "metabolite_styles": [
        "color",
        "size",
        "text"
       ],
       "never_ask_before_quit": true,
       "primary_metabolite_radius": 20,
       "reaction_compare_style": "log2_fold",
       "reaction_data": {
        "G6PDH2r": -2,
        "GLCpts": -2,
        "GND": 1,
        "PGL": 0.4
       },
       "reaction_no_data_color": "#dcdcdc",
       "reaction_no_data_size": 8,
       "reaction_scale": [
        {
         "color": "rgb(146,189,146)",
         "type": "value",
         "value": 3.3333333333333335
        },
        {
         "color": "rgb(73,158,73)",
         "type": "value",
         "value": 6.666666666666666
        },
        {
         "color": "rgb(0,127,0)",
         "type": "value",
         "value": 10
        },
        {
         "color": "rgb(220,220,220)",
         "type": "value",
         "value": 0
        },
        {
         "color": "rgb(231,146,146)",
         "type": "value",
         "value": -3.3333333333333335
        },
        {
         "color": "rgb(243,73,73)",
         "type": "value",
         "value": -6.666666666666666
        },
        {
         "color": "rgb(255,0,0)",
         "type": "value",
         "value": -10
        }
       ],
       "reaction_scale_preset": null,
       "reaction_styles": [
        "color",
        "text"
       ],
       "scroll_behavior": "none",
       "secondary_metabolite_radius": 10,
       "semantic_zoom": null,
       "show_gene_reaction_rules": false,
       "starting_reaction": null,
       "use_3d_transform": false,
       "zoom_to_element": null
      }
     }
    },
    "version_major": 2,
    "version_minor": 0
   }
  }
 },
 "nbformat": 4,
 "nbformat_minor": 1
}
