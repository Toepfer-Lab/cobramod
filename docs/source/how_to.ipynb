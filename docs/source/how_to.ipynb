{
 "cells": [
  {
   "cell_type": "markdown",
   "metadata": {},
   "source": [
    "# Guide\n",
    "\n",
    "## Retrieving data\n",
    "CobraMod is able to retrieve data from a list of Biocyc identifiers. Our package\n",
    "utilizes [pathlib's](https://docs.python.org/3/library/pathlib.html)\n",
    "API to create system paths that can be used in multiple operating\n",
    "systems. A single loop can manage to obtain the data from a list:"
   ]
  },
  {
   "cell_type": "code",
   "execution_count": 1,
   "metadata": {},
   "outputs": [],
   "source": [
    "from cobramod import get_data\n",
    "from pathlib import Path\n",
    "\n",
    "dir_data = Path.cwd().resolve().joinpath(\"data\")\n",
    "identifiers = [\n",
    "    \"CPD-14074\",\n",
    "    \"CPD-14075\",\n",
    "    \"CPD-14076\",\n",
    "    \"CPD-14553\",\n",
    "    \"CPD-15317\",\n",
    "    \"CPD-15322\",\n",
    "    \"CPD-15323\",\n",
    "    \"CPD-15326\"]\n",
    "\n",
    "for single in identifiers:\n",
    "    get_data(\n",
    "        directory=dir_data,\n",
    "        identifier=single,\n",
    "        database=\"META\"\n",
    "    )"
   ]
  },
  {
   "cell_type": "markdown",
   "metadata": {},
   "source": [
    "The first argument of [cobramod.get_data](module/cobramod/index.html#cobramod.get_data)\n",
    "represents the system path where the data will be stored. In this case is a [Path](\n",
    "https://docs.python.org/3/library/pathlib.html#pathlib.Path) representation using \n",
    "`pathlib`\n",
    "\n",
    "The next argument indicates the original identifier found in given\n",
    "database, which is mention as the next argumen (*META*). A corresponding\n",
    "directory will be created with the name of the database, where the new\n",
    "data will be stored, e. g:  \n",
    "\n",
    "```\n",
    "data\n",
    "`-- META\n",
    "    |-- CPD-14074.xml\n",
    "    |-- CPD-14075.xml\n",
    "    |-- CPD-14076.xml\n",
    "    |-- CPD-14553.xml\n",
    "    |-- CPD-15317.xml\n",
    "    |-- CPD-15322.xml\n",
    "    |-- CPD-15323.xml\n",
    "    `-- CPD-15326.xml\n",
    "```\n",
    "As expected, a new directory was created to store locally the data. The name\n",
    "*META* is derived from [Metacyc](<https://metacyc.org/>) , the accumulation of\n",
    "Biocyc' sub-databases. To see the working databases, load\n",
    "`cobramod.available_databases`:"
   ]
  },
  {
   "cell_type": "code",
   "execution_count": 2,
   "metadata": {},
   "outputs": [
    {
     "name": "stdout",
     "output_type": "stream",
     "text": [
      "Biocyc includes around 18.000 sub-databases. The complete list can be found in 'https://biocyc.org/biocyc-pgdb-list.shtml'. Please use the corresponding object identifier. e.g: 'ARA', 'GCF_000963925'\n"
     ]
    },
    {
     "data": {
      "text/plain": [
       "['META', 'KEGG', 'BIGG']"
      ]
     },
     "execution_count": 2,
     "metadata": {},
     "output_type": "execute_result"
    }
   ],
   "source": [
    "from cobramod import available_databases\n",
    "                                         \n",
    "available_databases"
   ]
  },
  {
   "cell_type": "markdown",
   "metadata": {},
   "source": [
    "## Converting data to objects\n",
    "\n",
    "One of the goals of CobraMod is to simplify the creation of COBRApy objects,\n",
    "such as *Metabolites* and *Reactions*. Single objects can be transform\n",
    "immediately using the function [cobramod.create_object](module/cobramod/index.html#cobramod.create_object):"
   ]
  },
  {
   "cell_type": "code",
   "execution_count": 3,
   "metadata": {},
   "outputs": [
    {
     "data": {
      "text/plain": [
       "cobra.core.metabolite.Metabolite"
      ]
     },
     "execution_count": 3,
     "metadata": {},
     "output_type": "execute_result"
    }
   ],
   "source": [
    "from cobramod import create_object\n",
    "from pathlib import Path\n",
    "                                             \n",
    "dir_data = Path.cwd().resolve().joinpath(\"data\")\n",
    "                                             \n",
    "new_object = create_object(\n",
    "    identifier=\"C00026\",\n",
    "    directory=dir_data,\n",
    "    database=\"KEGG\",\n",
    "    compartment=\"c\"\n",
    ")\n",
    "                                             \n",
    "type(new_object)"
   ]
  },
  {
   "cell_type": "markdown",
   "metadata": {},
   "source": [
    "In this example, the KEGG's metabolite [C00026](https://www.genome.jp/dbget-bin/www_bget?C00026)\n",
    "(2-Oxoglutarate), is\n",
    "identified as a metabolite and is automatically built as a COBRApy object. It\n",
    "is not necessary to use [get_data](module/cobramod/index.html#cobramod.get_data)\n",
    "before, as this function obtains the data on its own.\n",
    "\n",
    "## Adding Objects\n",
    "\n",
    "CobraMod uses `cobra`'s native objects\n",
    "[cobra.Reaction](\n",
    "https://cobrapy.readthedocs.io/en/latest/autoapi/cobra/index.html#cobra.Reaction)\n",
    "and [cobra.Metabolites](\n",
    "https://cobrapy.readthedocs.io/en/latest/autoapi/cobra/index.html#cobra.Metabolite).\n",
    "Furthermore, CobraMod includes an extra class\n",
    "[cobramod.Pathway](module/cobramod/index.html#cobramod.Pathway), which inherits and\n",
    "expands the attributes and methods from his class parent [cobra.core.group.Group](\n",
    "https://cobrapy.readthedocs.io/en/latest/autoapi/cobra/core/group/index.html#cobra.core.group.Group).\n",
    "\n",
    "### Metabolites\n",
    "\n",
    "To add metabolites to a Model, you can simply use the function\n",
    "[cobramod.add_metabolites](\n",
    "module/cobramod/index.html#cobramod.add_metabolites).\n"
   ]
  },
  {
   "cell_type": "code",
   "execution_count": 4,
   "metadata": {},
   "outputs": [
    {
     "data": {
      "text/plain": [
       "cobra.core.metabolite.Metabolite"
      ]
     },
     "execution_count": 4,
     "metadata": {},
     "output_type": "execute_result"
    }
   ],
   "source": [
    "from cobramod import add_metabolites\n",
    "from cobramod.test import textbook_biocyc\n",
    "from pathlib import Path\n",
    "                                                                        \n",
    "dir_data = Path.cwd().resolve().joinpath(\"data\")\n",
    "                                                                        \n",
    "test_model = textbook_biocyc.copy()\n",
    "\n",
    "add_metabolites(\n",
    "    model=test_model,\n",
    "    obj=\"MET, c\",\n",
    "    directory=dir_data,\n",
    "    database=\"META\"\n",
    ")\n",
    "type(test_model.metabolites.get_by_id(\"MET_c\"))"
   ]
  },
  {
   "cell_type": "markdown",
   "metadata": {},
   "source": [
    "In this example, a copy of test model is created. The function `add_metabolite` uses as\n",
    "the first argument the model to extend. The `obj` represents, in`this case,\n",
    "a string with the identifier and the corresponding compartment.\n",
    "\n",
    "The syntax for a custom metabolite:\n",
    "\n",
    "> formatted_identifier, name, compartment, chemical_formula,\n",
    "molecular_charge\n",
    "\n",
    "Otherwise, retrieve from database with:\n",
    "\n",
    "> metabolite_identifier, compartment\n",
    "\n",
    "Moreover, instead of a single string you can also add a list with strings. For\n",
    "the next example, a list goes to the argument *obj* and includes a two\n",
    "identifiers:"
   ]
  },
  {
   "cell_type": "code",
   "execution_count": 5,
   "metadata": {},
   "outputs": [
    {
     "name": "stdout",
     "output_type": "stream",
     "text": [
      "<class 'cobra.core.metabolite.Metabolite'>\n"
     ]
    },
    {
     "data": {
      "text/html": [
       "\n",
       "        <table>\n",
       "            <tr>\n",
       "                <td><strong>Metabolite identifier</strong></td><td>SUCROSE_c</td>\n",
       "            </tr><tr>\n",
       "                <td><strong>Name</strong></td><td>sucrose</td>\n",
       "            </tr><tr>\n",
       "                <td><strong>Memory address</strong></td>\n",
       "                <td>0x07f1cd80837d0</td>\n",
       "            </tr><tr>\n",
       "                <td><strong>Formula</strong></td><td>C12H22O11</td>\n",
       "            </tr><tr>\n",
       "                <td><strong>Compartment</strong></td><td>c</td>\n",
       "            </tr><tr>\n",
       "                <td><strong>In 0 reaction(s)</strong></td><td>\n",
       "                    </td>\n",
       "            </tr>\n",
       "        </table>"
      ],
      "text/plain": [
       "<Metabolite SUCROSE_c at 0x7f1cd80837d0>"
      ]
     },
     "execution_count": 5,
     "metadata": {},
     "output_type": "execute_result"
    }
   ],
   "source": [
    "add_metabolites(\n",
    "    model=test_model,\n",
    "    obj=[\"MET, c\", \"SUCROSE, c\"],\n",
    "    directory=dir_data,\n",
    "    database=\"META\",\n",
    ")\n",
    "print(type(test_model.metabolites.get_by_id(\"MET_c\")))\n",
    "                                                               \n",
    "test_model.metabolites.get_by_id(\"SUCROSE_c\")"
   ]
  },
  {
   "cell_type": "markdown",
   "metadata": {},
   "source": [
    "Addtionally, there is the option to give the path of a file with text.\n",
    "For instance, given the file *metabolites.txt* in the current working directory\n",
    "with the content:\n",
    "\n",
    "> SUCROSE, c  \n",
    "> MET, c  \n",
    "> MALTOSE_c, MALTOSE[c], c, C12H22O11, 1\n"
   ]
  },
  {
   "cell_type": "code",
   "execution_count": 6,
   "metadata": {},
   "outputs": [
    {
     "name": "stdout",
     "output_type": "stream",
     "text": [
      "Before: 72\n",
      "After: 75\n"
     ]
    }
   ],
   "source": [
    "# Defining where the data is loaded and saved\n",
    "dir_data = Path.cwd().resolve().joinpath(\"data\")\n",
    "file = dir_data.joinpath(\"metabolites.txt\")\n",
    "# Using a copy\n",
    "test_model = textbook_biocyc.copy()\n",
    "\n",
    "print(f'Before: {len(test_model.metabolites)}')\n",
    "                                                                     \n",
    "add_metabolites(\n",
    "    model=test_model,\n",
    "    obj=file,\n",
    "    directory=dir_data,\n",
    "    database=\"META\",\n",
    ")\n",
    "print(f'After: {len(test_model.metabolites)}')"
   ]
  },
  {
   "cell_type": "markdown",
   "metadata": {},
   "source": [
    "Additionally, regular COBRApy Metabolites can be added (lists are also\n",
    "supported):"
   ]
  },
  {
   "cell_type": "code",
   "execution_count": 7,
   "metadata": {},
   "outputs": [
    {
     "data": {
      "text/plain": [
       "cobra.core.metabolite.Metabolite"
      ]
     },
     "execution_count": 7,
     "metadata": {},
     "output_type": "execute_result"
    }
   ],
   "source": [
    "from cobramod import add_metabolites\n",
    "from cobramod.test import textbook, textbook_biocyc\n",
    "                        \n",
    "# Copying Metabolite\n",
    "metabolite = textbook.metabolites.get_by_id(\"xu5p__D_c\")\n",
    "\n",
    "test_model = textbook_biocyc.copy()\n",
    "add_metabolites(\n",
    "    model=test_model,\n",
    "    obj=metabolite\n",
    ")\n",
    "                                                               \n",
    "type(test_model.metabolites.get_by_id(\"xu5p__D_c\"))"
   ]
  },
  {
   "cell_type": "markdown",
   "metadata": {},
   "source": [
    "### Reactions\n",
    "\n",
    "Very much as adding metabolites, a model can be also extended with reactions.\n",
    "CobraMod includes the function [cobramod.add_reactions](\n",
    "module/cobramod/index.html#cobramod.add_reactions):"
   ]
  },
  {
   "cell_type": "code",
   "execution_count": 8,
   "metadata": {},
   "outputs": [
    {
     "data": {
      "text/plain": [
       "cobra.core.reaction.Reaction"
      ]
     },
     "execution_count": 8,
     "metadata": {},
     "output_type": "execute_result"
    }
   ],
   "source": [
    "from cobramod.test import textbook_kegg\n",
    "from cobramod import add_reactions\n",
    "from pathlib import Path\n",
    "                                                           \n",
    "dir_data = Path.cwd().resolve().joinpath(\"data\")\n",
    "test_model = textbook_kegg.copy()\n",
    "                                                           \n",
    "add_reactions(\n",
    "    model=test_model,\n",
    "    obj=\"R04382, c\",\n",
    "    database=\"KEGG\",\n",
    "    directory=dir_data,\n",
    "    genome=\"ecc\"\n",
    ")\n",
    "                                                           \n",
    "type(test_model.reactions.get_by_id(\"R04382_c\"))"
   ]
  },
  {
   "cell_type": "markdown",
   "metadata": {},
   "source": [
    "The first argument represents the model to add the reactions. The next argument\n",
    "`obj` can pass a string with the identifier and the compartment for the\n",
    "reaction to take place. Then, the data directory and the database must be\n",
    "passed. For now, it is okay to ignore the argument `genome`.\n",
    "\n",
    "Moreover, a list with multiple string can be passed as well."
   ]
  },
  {
   "cell_type": "code",
   "execution_count": 9,
   "metadata": {},
   "outputs": [
    {
     "data": {
      "text/plain": [
       "cobra.core.reaction.Reaction"
      ]
     },
     "execution_count": 9,
     "metadata": {},
     "output_type": "execute_result"
    }
   ],
   "source": [
    "add_reactions(\n",
    "    model=test_model,\n",
    "    obj=[\"R04382, c\", \"R02736 ,c\"],\n",
    "    directory=dir_data,\n",
    "    database=\"KEGG\",\n",
    "    genome=\"ecc\"\n",
    ")\n",
    "                                                            \n",
    "type(test_model.reactions.get_by_id(\"R04382_c\"))"
   ]
  },
  {
   "cell_type": "markdown",
   "metadata": {},
   "source": [
    "Additionally, instead of using a list, the path of a file can be used as well.\n",
    "Given the file *reactions.txt* in the current working directory with:\n",
    "\n",
    "> R04382, c  \n",
    "> R02736, c  \n",
    "> C06118_ce, digalacturonate transport | 1 C06118_c <-> 1 C06118_e\n",
    "\n",
    "**Syntax**  \n",
    "To retrieve reactions from the database:\n",
    "\n",
    "> original_identifier, compartment\n",
    "\n",
    "in case of custom reactions, CobraMod uses COBRApy reactions string:\n",
    "\n",
    "> identifier, name | coefficient_1 metabolite_1 <-> coefficient_2 metabolite_2\n",
    "\n",
    "Metabolites need to include its compartment with a suffix, defined by an underscore\n",
    "and a letter: e.g: \n",
    "\n",
    "> 2 OXYGEN-MOLECULE_c"
   ]
  },
  {
   "cell_type": "code",
   "execution_count": 10,
   "metadata": {},
   "outputs": [
    {
     "name": "stdout",
     "output_type": "stream",
     "text": [
      "Before: 95\n",
      "After: 98\n"
     ]
    }
   ],
   "source": [
    "from cobramod.test import textbook_kegg\n",
    "from cobramod import add_reactions\n",
    "from pathlib import Path\n",
    "                                                                     \n",
    "dir_data = Path.cwd().resolve().joinpath(\"data\")\n",
    "test_model = textbook_kegg.copy()\n",
    "file = dir_data.joinpath(\"reactions.txt\")\n",
    "                                                                     \n",
    "print(f'Before: {len(test_model.reactions)}')\n",
    "                                                                     \n",
    "add_reactions(\n",
    "    model=test_model,\n",
    "    obj=file,\n",
    "    directory=dir_data,\n",
    "    database=\"KEGG\",\n",
    "    genome=\"ecc\"\n",
    ")\n",
    "\n",
    "print(f'After: {len(test_model.reactions)}')"
   ]
  },
  {
   "cell_type": "markdown",
   "metadata": {},
   "source": [
    "Finally, regular COBRApy reactions can be added."
   ]
  },
  {
   "cell_type": "code",
   "execution_count": 11,
   "metadata": {},
   "outputs": [
    {
     "data": {
      "text/plain": [
       "cobra.core.reaction.Reaction"
      ]
     },
     "execution_count": 11,
     "metadata": {},
     "output_type": "execute_result"
    }
   ],
   "source": [
    "from cobramod.test import textbook_kegg, textbook\n",
    "from cobramod import add_reactions\n",
    "from pathlib import Path\n",
    "                                                                  \n",
    "dir_data = Path.cwd().resolve().joinpath(\"data\")\n",
    "test_model = textbook_kegg.copy()\n",
    "reaction = textbook.reactions.get_by_id(\"ACALDt\")\n",
    "                                                                  \n",
    "add_reactions(model=test_model, obj=reaction, directory=dir_data)\n",
    "type(test_model.reactions.get_by_id(\"ACALDt\"))\n"
   ]
  },
  {
   "cell_type": "markdown",
   "metadata": {},
   "source": [
    "---\n",
    "**NOTES**\n",
    "\n",
    "- If the reaction identifies that either the reaction or its\n",
    "metabolites are already in the model under another name, then these\n",
    "already-in-model objects will be used instead. This is a security\n",
    "behaviour to prevent duplicates.\n",
    "- The argument`genome` is a special argument that can be used in combination\n",
    "of the database *KEGG*. This argument is responsable for selecting the genes\n",
    "from this database. If no argument is passed then, no genes will be created and\n",
    "a warning will appear as shown below\n"
   ]
  },
  {
   "cell_type": "code",
   "execution_count": 12,
   "metadata": {},
   "outputs": [
    {
     "name": "stderr",
     "output_type": "stream",
     "text": [
      "cobramod/parsing/kegg.py:196 \u001b[1;31mUserWarning\u001b[0m: Nothing was specified in argument \"genome\". \"Reaction \"R04382\" will not include genes. Please modify if necessary.\n"
     ]
    }
   ],
   "source": [
    "test_model = textbook_kegg.copy()\n",
    "                                                           \n",
    "add_reactions(\n",
    "    model=test_model,\n",
    "    obj=\"R04382, c\",\n",
    "    database=\"KEGG\",\n",
    "    directory=dir_data,\n",
    ")"
   ]
  },
  {
   "cell_type": "markdown",
   "metadata": {},
   "source": [
    "---\n",
    "### Pathways\n",
    "\n",
    "CobraMod can add complete pathways into the metabolic models. Using the\n",
    "function [cobramod.add_pathway](\n",
    "module/cobramod/index.html#cobramod.add_pathway), either a sequence of reaction\n",
    "identifiers or a pathway identifier can be used as an argument."
   ]
  },
  {
   "cell_type": "code",
   "execution_count": 13,
   "metadata": {},
   "outputs": [
    {
     "data": {
      "text/plain": [
       "0.8739215069684307"
      ]
     },
     "execution_count": 13,
     "metadata": {},
     "output_type": "execute_result"
    }
   ],
   "source": [
    "from pathlib import Path\n",
    "from cobramod.test import textbook\n",
    "                                               \n",
    "dir_data = Path.cwd().resolve().joinpath(\"data\")\n",
    "                                               \n",
    "textbook.optimize().objective_value"
   ]
  },
  {
   "cell_type": "markdown",
   "metadata": {},
   "source": [
    "The original metabolic model *e_coli_core* from COBRApy is loaded under the\n",
    "name `cobramod.test.textbook`. It shows an optimation value of 0.874. For\n",
    "this example, the identifier [ACETOACETATE-DEG-PWY](\n",
    "https://biocyc.org/ECOLI/new-image?object=ACETOACETATE-DEG-PWY)will be\n",
    "used for the test model. This specific pathway has two reactions, in which six\n",
    "metabolites participates:"
   ]
  },
  {
   "cell_type": "code",
   "execution_count": 14,
   "metadata": {},
   "outputs": [
    {
     "name": "stdout",
     "output_type": "stream",
     "text": [
      "Changes:\n",
      "Reactions \t2\n",
      "Metabolites\t2\n",
      "Exchange \t0\n",
      "Demand\t\t0\n",
      "Sinks\t\t1\n",
      "Genes\t\t2\n",
      "Groups\t\t1\n",
      "\n"
     ]
    },
    {
     "data": {
      "text/plain": [
       "<Pathway ACETOACETATE-DEG-PWY at 0x7f1cd7d56410>"
      ]
     },
     "execution_count": 14,
     "metadata": {},
     "output_type": "execute_result"
    }
   ],
   "source": [
    "from cobramod import add_pathway\n",
    "\n",
    "test_model = textbook.copy()\n",
    "add_pathway(\n",
    "    model=test_model,\n",
    "    pathway=\"ACETOACETATE-DEG-PWY\",\n",
    "    directory=dir_data,\n",
    "    database=\"ARA\",\n",
    "    compartment=\"c\",\n",
    "    summary=\"txt\"\n",
    ")\n",
    "test_model.groups.get_by_id(\"ACETOACETATE-DEG-PWY\")"
   ]
  },
  {
   "cell_type": "markdown",
   "metadata": {},
   "source": [
    "Using the argument 'summary', the changes inside the model are tracked\n",
    "csv, text or excel file are available options. For instance, the text version\n",
    "shows the elements of the model and its differences."
   ]
  },
  {
   "cell_type": "code",
   "execution_count": 15,
   "metadata": {},
   "outputs": [
    {
     "name": "stdout",
     "output_type": "stream",
     "text": [
      "Summary:\r\n",
      "Model identifier: e_coli_core\r\n",
      "Model name:\r\n",
      "\r\n",
      "Reactions:\r\n",
      "['ACETOACETYL_COA_TRANSFER_RXN_c', 'ACETYL_COA_ACETYLTRANSFER_RXN_c']\r\n",
      "Metabolites:\r\n",
      "['3_KETOBUTYRATE_c', 'ACETOACETYL_COA_c']\r\n",
      "Exchange:\r\n",
      "[]\r\n",
      "Demand:\r\n",
      "[]\r\n",
      "Sinks:\r\n",
      "['SK_3_KETOBUTYRATE_c']\r\n",
      "Genes:\r\n",
      "['AT5G48230', 'AT5G47720']\r\n",
      "Groups:\r\n",
      "['ACETOACETATE-DEG-PWY']\r\n",
      "\r\n",
      "Changes:\r\n",
      "Reactions:\r\n",
      "['ACALD', 'ACALDt', 'ACKr', 'ACONTa', 'ACONTb', 'ACt2r', 'ADK1', 'AKGDH', 'AKGt2r', 'ALCD2x', 'ATPM', 'ATPS4r', 'Biomass_Ecoli_core', 'CO2t', 'CS', 'CYTBD', 'D_LACt2', 'ENO', 'ETOHt2r', 'FBA', 'FBP', 'FORt2', 'FORti', 'FRD7', 'FRUpts2', 'FUM', 'FUMt2_2', 'G6PDH2r', 'GAPD', 'GLCpts', 'GLNS', 'GLNabc', 'GLUDy', 'GLUN', 'GLUSy', 'GLUt2r', 'GND', 'H2Ot', 'ICDHyr', 'ICL', 'LDH_D', 'MALS', 'MALt2_2', 'MDH', 'ME1', 'ME2', 'NADH16', 'NADTRHD', 'NH4t', 'O2t', 'PDH', 'PFK', 'PFL', 'PGI', 'PGK', 'PGL', 'PGM', 'PIt2r', 'PPC', 'PPCK', 'PPS', 'PTAr', 'PYK', 'PYRt2', 'RPE', 'RPI', 'SUCCt2_2', 'SUCCt3', 'SUCDi', 'SUCOAS', 'TALA', 'THD2', 'TKT1', 'TKT2', 'TPI']\r\n",
      "Metabolites:\r\n",
      "['13dpg_c', '2pg_c', '3pg_c', '6pgc_c', '6pgl_c', 'ac_c', 'ac_e', 'acald_c', 'acald_e', 'accoa_c', 'acon_C_c', 'actp_c', 'adp_c', 'akg_c', 'akg_e', 'amp_c', 'atp_c', 'cit_c', 'co2_c', 'co2_e', 'coa_c', 'dhap_c', 'e4p_c', 'etoh_c', 'etoh_e', 'f6p_c', 'fdp_c', 'for_c', 'for_e', 'fru_e', 'fum_c', 'fum_e', 'g3p_c', 'g6p_c', 'glc__D_e', 'gln__L_c', 'gln__L_e', 'glu__L_c', 'glu__L_e', 'glx_c', 'h2o_c', 'h2o_e', 'h_c', 'h_e', 'icit_c', 'lac__D_c', 'lac__D_e', 'mal__L_c', 'mal__L_e', 'nad_c', 'nadh_c', 'nadp_c', 'nadph_c', 'nh4_c', 'nh4_e', 'o2_c', 'o2_e', 'oaa_c', 'pep_c', 'pi_c', 'pi_e', 'pyr_c', 'pyr_e', 'q8_c', 'q8h2_c', 'r5p_c', 'ru5p__D_c', 's7p_c', 'succ_c', 'succ_e', 'succoa_c', 'xu5p__D_c']\r\n",
      "Exchange:\r\n",
      "['EX_ac_e', 'EX_acald_e', 'EX_akg_e', 'EX_co2_e', 'EX_etoh_e', 'EX_for_e', 'EX_fru_e', 'EX_fum_e', 'EX_glc__D_e', 'EX_gln__L_e', 'EX_glu__L_e', 'EX_h_e', 'EX_h2o_e', 'EX_lac__D_e', 'EX_mal__L_e', 'EX_nh4_e', 'EX_o2_e', 'EX_pi_e', 'EX_pyr_e', 'EX_succ_e']\r\n",
      "Demand:\r\n",
      "[]\r\n",
      "Sinks:\r\n",
      "[]\r\n",
      "Genes:\r\n",
      "['b1241', 'b0351', 's0001', 'b3115', 'b1849', 'b2296', 'b1276', 'b0118', 'b0474', 'b0116', 'b0726', 'b0727', 'b2587', 'b0356', 'b1478', 'b3735', 'b3733', 'b3734', 'b3732', 'b3736', 'b3738', 'b3731', 'b3737', 'b3739', 'b0720', 'b0733', 'b0979', 'b0978', 'b0734', 'b2975', 'b3603', 'b2779', 'b1773', 'b2925', 'b2097', 'b4232', 'b3925', 'b0904', 'b2492', 'b4154', 'b4152', 'b4153', 'b4151', 'b1819', 'b1817', 'b2415', 'b1818', 'b2416', 'b1611', 'b4122', 'b1612', 'b3528', 'b1852', 'b1779', 'b1621', 'b1101', 'b2417', 'b3870', 'b1297', 'b0809', 'b0810', 'b0811', 'b1761', 'b1524', 'b1812', 'b0485', 'b3213', 'b3212', 'b4077', 'b2029', 'b0875', 'b1136', 'b4015', 'b2133', 'b1380', 'b4014', 'b2976', 'b3236', 'b1479', 'b2463', 'b2286', 'b2279', 'b2276', 'b2280', 'b2288', 'b2284', 'b2287', 'b2281', 'b2277', 'b2285', 'b2282', 'b2278', 'b2283', 'b3962', 'b1602', 'b1603', 'b0451', 'b0114', 'b0115', 'b3916', 'b1723', 'b0902', 'b0903', 'b2579', 'b3114', 'b3952', 'b3951', 'b4025', 'b2926', 'b0767', 'b0755', 'b3612', 'b4395', 'b3493', 'b2987', 'b3956', 'b3403', 'b1702', 'b2297', 'b2458', 'b1676', 'b1854', 'b4301', 'b3386', 'b2914', 'b4090', 'b0722', 'b0724', 'b0721', 'b0723', 'b0728', 'b0729', 'b2464', 'b0008', 'b2935', 'b2465', 'b3919']\r\n",
      "Groups:\r\n",
      "[]\r\n",
      "\r\n"
     ]
    }
   ],
   "source": [
    "%cat summary.txt"
   ]
  },
  {
   "cell_type": "markdown",
   "metadata": {},
   "source": [
    "The pathway included two new metabolites. Thus, sink reactions are\n",
    "automatically built for them, if needed. In this case, only one sink reaction\n",
    "is created since the second metabolite can be synthesized from another reaction.\n",
    "All changes that CobraMod makes are stored in a log (record) file that can be\n",
    "used to track changes"
   ]
  },
  {
   "cell_type": "code",
   "execution_count": 16,
   "metadata": {},
   "outputs": [
    {
     "data": {
      "text/plain": [
       "['2021-05-31 12:31:16,710 WARNING Gene-reaction rule for reaction \"ACETYL-COA-ACETYLTRANSFER-RXN\" assumed to be \"OR\". Please modify it if necessary.',\n",
       " \"2021-05-31 12:31:16,710 INFO Object 'ACETYL-COA-ACETYLTRANSFER-RXN' identified as a reaction.\",\n",
       " \"2021-05-31 12:31:16,724 WARNING Metabolite 'ACETYL-COA' found in given model under 'accoa_c'\",\n",
       " \"2021-05-31 12:31:16,751 WARNING Metabolite 'CO-A' found in given model under 'coa_c'\",\n",
       " '2021-05-31 12:31:16,752 INFO For reaction \"ACETYL_COA_ACETYLTRANSFER_RXN_c\", gene \"AT5G48230\" was created and its name changed to \"AACT2\".',\n",
       " '2021-05-31 12:31:16,752 INFO For reaction \"ACETYL_COA_ACETYLTRANSFER_RXN_c\", gene \"AT5G47720\" was created and its name changed to \"AACT1\".',\n",
       " '2021-05-31 12:31:16,753 INFO Reaction \"ACETOACETYL_COA_TRANSFER_RXN_c\" added to model',\n",
       " '2021-05-31 12:31:16,753 INFO Test to carry non-zero fluxes for \"ACETOACETYL_COA_TRANSFER_RXN_c\" started',\n",
       " '2021-05-31 12:31:16,756 WARNING Sink reaction created for \"3_KETOBUTYRATE_c\"',\n",
       " '2021-05-31 12:31:16,757 WARNING Sink reaction created for \"ACETOACETYL_COA_c\"',\n",
       " '2021-05-31 12:31:16,757 WARNING Demand reaction for \"ACETOACETYL_COA_c\" removed',\n",
       " '2021-05-31 12:31:16,758 WARNING Demand reaction for \"ACETOACETYL_COA_c\" removed',\n",
       " '2021-05-31 12:31:16,759 INFO Reaction \"ACETYL_COA_ACETYLTRANSFER_RXN_c\" added to model',\n",
       " '2021-05-31 12:31:16,759 INFO Test to carry non-zero fluxes for \"ACETYL_COA_ACETYLTRANSFER_RXN_c\" started',\n",
       " '2021-05-31 12:31:16,761 WARNING Demand reaction for \"ACETOACETYL_COA_c\" removed',\n",
       " '2021-05-31 12:31:16,761 WARNING Sink reaction for \"ACETOACETYL_COA_c\" removed',\n",
       " '2021-05-31 12:31:18,584 CRITICAL \"ACETOACETYL-COA-TRANSFER-RXN\" is not available in \"ARA\"',\n",
       " '2021-05-31 12:31:18,586 INFO Data for \"ACETOACETYL-COA-TRANSFER-RXN\" retrieved.',\n",
       " '2021-05-31 12:31:18,621 INFO Data for \"ACETYL-COA-ACETYLTRANSFER-RXN\" retrieved.',\n",
       " '2021-05-31 12:31:18,621 WARNING Gene-reaction rule for reaction \"ACETYL-COA-ACETYLTRANSFER-RXN\" assumed to be \"OR\". Please modify it if necessary.']"
      ]
     },
     "execution_count": 16,
     "metadata": {},
     "output_type": "execute_result"
    }
   ],
   "source": [
    "%system tail debug.log -n 20"
   ]
  },
  {
   "cell_type": "markdown",
   "metadata": {},
   "source": [
    "It can be seen that metabolites such as *ACETYL-COA* or *CO-A* where recognized by\n",
    "CobraMod as metabolites, which were already included into the model.\n",
    "\n",
    "Moreover, the objective value changed drastically due to insertion of\n",
    "a sink reaction. It can be seen that both reaction are being activated if\n",
    "their fluxes are checked."
   ]
  },
  {
   "cell_type": "code",
   "execution_count": 17,
   "metadata": {},
   "outputs": [
    {
     "name": "stdout",
     "output_type": "stream",
     "text": [
      "[<Reaction SK_3_KETOBUTYRATE_c at 0x7f1cd7d6bf10>]\n"
     ]
    },
    {
     "data": {
      "text/html": [
       "<strong><em>Optimal</em> solution with objective value 20.349</strong><br><div>\n",
       "<style scoped>\n",
       "    .dataframe tbody tr th:only-of-type {\n",
       "        vertical-align: middle;\n",
       "    }\n",
       "\n",
       "    .dataframe tbody tr th {\n",
       "        vertical-align: top;\n",
       "    }\n",
       "\n",
       "    .dataframe thead th {\n",
       "        text-align: right;\n",
       "    }\n",
       "</style>\n",
       "<table border=\"1\" class=\"dataframe\">\n",
       "  <thead>\n",
       "    <tr style=\"text-align: right;\">\n",
       "      <th></th>\n",
       "      <th>fluxes</th>\n",
       "      <th>reduced_costs</th>\n",
       "    </tr>\n",
       "  </thead>\n",
       "  <tbody>\n",
       "    <tr>\n",
       "      <th>ACALD</th>\n",
       "      <td>-8.646247</td>\n",
       "      <td>-6.521120e-18</td>\n",
       "    </tr>\n",
       "    <tr>\n",
       "      <th>ACALDt</th>\n",
       "      <td>0.000000</td>\n",
       "      <td>-0.000000e+00</td>\n",
       "    </tr>\n",
       "    <tr>\n",
       "      <th>ACKr</th>\n",
       "      <td>-161.140741</td>\n",
       "      <td>-1.496236e-18</td>\n",
       "    </tr>\n",
       "    <tr>\n",
       "      <th>ACONTa</th>\n",
       "      <td>401.748995</td>\n",
       "      <td>-1.115934e-16</td>\n",
       "    </tr>\n",
       "    <tr>\n",
       "      <th>ACONTb</th>\n",
       "      <td>401.748995</td>\n",
       "      <td>0.000000e+00</td>\n",
       "    </tr>\n",
       "    <tr>\n",
       "      <th>...</th>\n",
       "      <td>...</td>\n",
       "      <td>...</td>\n",
       "    </tr>\n",
       "    <tr>\n",
       "      <th>TKT2</th>\n",
       "      <td>-10.986560</td>\n",
       "      <td>-5.553047e-17</td>\n",
       "    </tr>\n",
       "    <tr>\n",
       "      <th>TPI</th>\n",
       "      <td>-10.241399</td>\n",
       "      <td>-3.474497e-17</td>\n",
       "    </tr>\n",
       "    <tr>\n",
       "      <th>ACETOACETYL_COA_TRANSFER_RXN_c</th>\n",
       "      <td>838.859259</td>\n",
       "      <td>2.602085e-18</td>\n",
       "    </tr>\n",
       "    <tr>\n",
       "      <th>SK_3_KETOBUTYRATE_c</th>\n",
       "      <td>-838.859259</td>\n",
       "      <td>1.734723e-18</td>\n",
       "    </tr>\n",
       "    <tr>\n",
       "      <th>ACETYL_COA_ACETYLTRANSFER_RXN_c</th>\n",
       "      <td>-838.859259</td>\n",
       "      <td>-0.000000e+00</td>\n",
       "    </tr>\n",
       "  </tbody>\n",
       "</table>\n",
       "<p>98 rows × 2 columns</p>\n",
       "</div>"
      ],
      "text/plain": [
       "<Solution 20.349 at 0x7f1cd7dae190>"
      ]
     },
     "execution_count": 17,
     "metadata": {},
     "output_type": "execute_result"
    }
   ],
   "source": [
    "print(test_model.sinks)\n",
    "solution = test_model.optimize()\n",
    "solution"
   ]
  },
  {
   "cell_type": "markdown",
   "metadata": {},
   "source": [
    "If the sink reaction *SK_3_KETOBUTYRATE_c* gets removed, the fluxes for this\n",
    "new pathways are deactivated since there is no reaction to synthetize the\n",
    "start-metabolite."
   ]
  },
  {
   "cell_type": "code",
   "execution_count": 18,
   "metadata": {},
   "outputs": [
    {
     "data": {
      "text/html": [
       "<strong><em>Optimal</em> solution with objective value 0.874</strong><br><div>\n",
       "<style scoped>\n",
       "    .dataframe tbody tr th:only-of-type {\n",
       "        vertical-align: middle;\n",
       "    }\n",
       "\n",
       "    .dataframe tbody tr th {\n",
       "        vertical-align: top;\n",
       "    }\n",
       "\n",
       "    .dataframe thead th {\n",
       "        text-align: right;\n",
       "    }\n",
       "</style>\n",
       "<table border=\"1\" class=\"dataframe\">\n",
       "  <thead>\n",
       "    <tr style=\"text-align: right;\">\n",
       "      <th></th>\n",
       "      <th>fluxes</th>\n",
       "      <th>reduced_costs</th>\n",
       "    </tr>\n",
       "  </thead>\n",
       "  <tbody>\n",
       "    <tr>\n",
       "      <th>ACALD</th>\n",
       "      <td>-3.189643e-15</td>\n",
       "      <td>6.762643e-18</td>\n",
       "    </tr>\n",
       "    <tr>\n",
       "      <th>ACALDt</th>\n",
       "      <td>0.000000e+00</td>\n",
       "      <td>-0.000000e+00</td>\n",
       "    </tr>\n",
       "    <tr>\n",
       "      <th>ACKr</th>\n",
       "      <td>1.024517e-15</td>\n",
       "      <td>7.481180e-19</td>\n",
       "    </tr>\n",
       "    <tr>\n",
       "      <th>ACONTa</th>\n",
       "      <td>6.007250e+00</td>\n",
       "      <td>-1.417065e-16</td>\n",
       "    </tr>\n",
       "    <tr>\n",
       "      <th>ACONTb</th>\n",
       "      <td>6.007250e+00</td>\n",
       "      <td>0.000000e+00</td>\n",
       "    </tr>\n",
       "    <tr>\n",
       "      <th>...</th>\n",
       "      <td>...</td>\n",
       "      <td>...</td>\n",
       "    </tr>\n",
       "    <tr>\n",
       "      <th>TKT1</th>\n",
       "      <td>1.496984e+00</td>\n",
       "      <td>0.000000e+00</td>\n",
       "    </tr>\n",
       "    <tr>\n",
       "      <th>TKT2</th>\n",
       "      <td>1.181498e+00</td>\n",
       "      <td>1.586585e-17</td>\n",
       "    </tr>\n",
       "    <tr>\n",
       "      <th>TPI</th>\n",
       "      <td>7.477382e+00</td>\n",
       "      <td>0.000000e+00</td>\n",
       "    </tr>\n",
       "    <tr>\n",
       "      <th>ACETOACETYL_COA_TRANSFER_RXN_c</th>\n",
       "      <td>0.000000e+00</td>\n",
       "      <td>1.734723e-17</td>\n",
       "    </tr>\n",
       "    <tr>\n",
       "      <th>ACETYL_COA_ACETYLTRANSFER_RXN_c</th>\n",
       "      <td>0.000000e+00</td>\n",
       "      <td>-0.000000e+00</td>\n",
       "    </tr>\n",
       "  </tbody>\n",
       "</table>\n",
       "<p>97 rows × 2 columns</p>\n",
       "</div>"
      ],
      "text/plain": [
       "<Solution 0.874 at 0x7f1cd7ce0e10>"
      ]
     },
     "execution_count": 18,
     "metadata": {},
     "output_type": "execute_result"
    }
   ],
   "source": [
    "test_model.remove_reactions([\"SK_3_KETOBUTYRATE_c\"])\n",
    "test_model.optimize()"
   ]
  },
  {
   "cell_type": "markdown",
   "metadata": {},
   "source": [
    "Similar results can be achieved using a sequence. For this example, three\n",
    "reactions from the [mixed acid fermentation](\n",
    "<https://biocyc.org/META/NEW-IMAGE?type=PATHWAY&object=FERMENTATION-PWY>)\n",
    "pathway from MetaCyc will be added to the metabolic model:"
   ]
  },
  {
   "cell_type": "code",
   "execution_count": 19,
   "metadata": {},
   "outputs": [
    {
     "name": "stdout",
     "output_type": "stream",
     "text": [
      "Before: 95\n",
      "Changes:\n",
      "Reactions \t3\n",
      "Metabolites\t2\n",
      "Exchange \t0\n",
      "Demand\t\t0\n",
      "Sinks\t\t1\n",
      "Genes\t\t11\n",
      "Groups\t\t1\n",
      "\n",
      "After: 99\n"
     ]
    }
   ],
   "source": [
    "from pathlib import Path\n",
    "from cobramod import add_pathway\n",
    "from cobramod.test import textbook_biocyc\n",
    "                                                                \n",
    "dir_data = Path.cwd().resolve().joinpath(\"data\")\n",
    "test_model = textbook_biocyc.copy()\n",
    "sequence = [\"PEPDEPHOS-RXN\", \"PYRUVFORMLY-RXN\", \"FHLMULTI-RXN\"]\n",
    "                                                                \n",
    "print(f'Before: {len(test_model.reactions)}')\n",
    "                                                                \n",
    "add_pathway(\n",
    "    model=test_model,\n",
    "    pathway=sequence,\n",
    "    directory=dir_data,\n",
    "    database=\"ECOLI\",\n",
    "    compartment=\"c\",\n",
    "    group=\"test_group\"\n",
    ")\n",
    "\n",
    "print(f'After: {len(test_model.reactions)}')"
   ]
  },
  {
   "cell_type": "markdown",
   "metadata": {},
   "source": [
    "We defined the argument `group` as *test_group*. If we search for that\n",
    "identifier in the model we will find the new group with these reactions as\n",
    "members:"
   ]
  },
  {
   "cell_type": "code",
   "execution_count": 20,
   "metadata": {
    "scrolled": false
   },
   "outputs": [
    {
     "data": {
      "text/plain": [
       "[<Reaction PEPDEPHOS_RXN_c at 0x7f1cd7ce0c90>,\n",
       " <Reaction PYRUVFORMLY_RXN_c at 0x7f1cd5bfe210>,\n",
       " <Reaction FHLMULTI_RXN_c at 0x7f1cd5ae4dd0>]"
      ]
     },
     "execution_count": 20,
     "metadata": {},
     "output_type": "execute_result"
    }
   ],
   "source": [
    "test_model.groups.get_by_id(\"test_group\").members"
   ]
  },
  {
   "cell_type": "markdown",
   "metadata": {},
   "source": [
    "This group is a special type of COBRApy Group. It is called [Pathway](\n",
    "module/cobramod/index.html#cobramod.Pathway), and it\n",
    "is able to show through Escher, their participants and if given, its flux\n",
    "distribution with the method [Pathway.visualize()](\n",
    "module/cobramod/core/pathway/index.html#cobramod.core.pathway.Pathway.visualize):"
   ]
  },
  {
   "cell_type": "code",
   "execution_count": 25,
   "metadata": {
    "scrolled": false
   },
   "outputs": [
    {
     "data": {
      "application/vnd.jupyter.widget-view+json": {
       "model_id": "dbc4fb98cfe84b67abd6c019125ea664",
       "version_major": 2,
       "version_minor": 0
      },
      "text/plain": [
       "Builder(reaction_styles=['text'])"
      ]
     },
     "metadata": {},
     "output_type": "display_data"
    }
   ],
   "source": [
    "test_model.groups.get_by_id(\"test_group\").visualize()"
   ]
  },
  {
   "cell_type": "markdown",
   "metadata": {},
   "source": [
    "As expected as the prior example, a extra sink reaction was created since there\n",
    "is no hydrogen metabolite in the model:"
   ]
  },
  {
   "cell_type": "code",
   "execution_count": 22,
   "metadata": {},
   "outputs": [
    {
     "data": {
      "text/html": [
       "<strong><em>Optimal</em> solution with objective value 0.874</strong><br><div>\n",
       "<style scoped>\n",
       "    .dataframe tbody tr th:only-of-type {\n",
       "        vertical-align: middle;\n",
       "    }\n",
       "\n",
       "    .dataframe tbody tr th {\n",
       "        vertical-align: top;\n",
       "    }\n",
       "\n",
       "    .dataframe thead th {\n",
       "        text-align: right;\n",
       "    }\n",
       "</style>\n",
       "<table border=\"1\" class=\"dataframe\">\n",
       "  <thead>\n",
       "    <tr style=\"text-align: right;\">\n",
       "      <th></th>\n",
       "      <th>fluxes</th>\n",
       "      <th>reduced_costs</th>\n",
       "    </tr>\n",
       "  </thead>\n",
       "  <tbody>\n",
       "    <tr>\n",
       "      <th>ACALD</th>\n",
       "      <td>-3.464201e-14</td>\n",
       "      <td>9.660919e-19</td>\n",
       "    </tr>\n",
       "    <tr>\n",
       "      <th>ACALDt</th>\n",
       "      <td>-3.783165e-14</td>\n",
       "      <td>-0.000000e+00</td>\n",
       "    </tr>\n",
       "    <tr>\n",
       "      <th>ACKr</th>\n",
       "      <td>-2.383494e-14</td>\n",
       "      <td>-5.984944e-18</td>\n",
       "    </tr>\n",
       "    <tr>\n",
       "      <th>ACONTa</th>\n",
       "      <td>6.007250e+00</td>\n",
       "      <td>-1.436386e-16</td>\n",
       "    </tr>\n",
       "    <tr>\n",
       "      <th>ACONTb</th>\n",
       "      <td>6.007250e+00</td>\n",
       "      <td>-2.164046e-16</td>\n",
       "    </tr>\n",
       "    <tr>\n",
       "      <th>...</th>\n",
       "      <td>...</td>\n",
       "      <td>...</td>\n",
       "    </tr>\n",
       "    <tr>\n",
       "      <th>TPI</th>\n",
       "      <td>7.477382e+00</td>\n",
       "      <td>0.000000e+00</td>\n",
       "    </tr>\n",
       "    <tr>\n",
       "      <th>PEPDEPHOS_RXN_c</th>\n",
       "      <td>0.000000e+00</td>\n",
       "      <td>-6.938894e-18</td>\n",
       "    </tr>\n",
       "    <tr>\n",
       "      <th>PYRUVFORMLY_RXN_c</th>\n",
       "      <td>0.000000e+00</td>\n",
       "      <td>1.273121e-02</td>\n",
       "    </tr>\n",
       "    <tr>\n",
       "      <th>FHLMULTI_RXN_c</th>\n",
       "      <td>0.000000e+00</td>\n",
       "      <td>5.204170e-18</td>\n",
       "    </tr>\n",
       "    <tr>\n",
       "      <th>SK_HYDROGEN_MOLECULE_c</th>\n",
       "      <td>0.000000e+00</td>\n",
       "      <td>0.000000e+00</td>\n",
       "    </tr>\n",
       "  </tbody>\n",
       "</table>\n",
       "<p>99 rows × 2 columns</p>\n",
       "</div>"
      ],
      "text/plain": [
       "<Solution 0.874 at 0x7f1cd5afb890>"
      ]
     },
     "execution_count": 22,
     "metadata": {},
     "output_type": "execute_result"
    }
   ],
   "source": [
    "test_model.optimize()"
   ]
  },
  {
   "cell_type": "markdown",
   "metadata": {},
   "source": [
    "As expected as the prior example, a extra sink reaction was created since there\n",
    "is no hydrogen metabolite in the model\n",
    "\n",
    "## Converting Group back to Pathway\n",
    "\n",
    "When reloading a model or using a copy of a model using default [Model.copy()](\n",
    "https://cobrapy.readthedocs.io/en/latest/autoapi/cobra/core/model/index.html#cobra.core.model.Model.copy),\n",
    "the new model/copy will convert the `Pathway` to `Group`. To convert it back\n",
    "we only need the function [cobramod.core.pathway.model_convert()](\n",
    "module/cobramod/core/pathway/index.html#model_convert)\n"
   ]
  },
  {
   "cell_type": "code",
   "execution_count": 31,
   "metadata": {},
   "outputs": [
    {
     "name": "stdout",
     "output_type": "stream",
     "text": [
      "Error raised -> 'NoneType' object has no attribute 'sort'\n"
     ]
    },
    {
     "ename": "AttributeError",
     "evalue": "'NoneType' object has no attribute 'sort'",
     "output_type": "error",
     "traceback": [
      "\u001b[0;31m---------------------------------------------------------------------------\u001b[0m",
      "\u001b[0;31mAttributeError\u001b[0m                            Traceback (most recent call last)",
      "\u001b[0;32m<ipython-input-31-18efc5ff9d86>\u001b[0m in \u001b[0;36m<module>\u001b[0;34m\u001b[0m\n\u001b[1;32m     12\u001b[0m \u001b[0mnew_model\u001b[0m \u001b[0;34m=\u001b[0m \u001b[0mtest_model\u001b[0m\u001b[0;34m.\u001b[0m\u001b[0mcopy\u001b[0m\u001b[0;34m(\u001b[0m\u001b[0;34m)\u001b[0m\u001b[0;34m\u001b[0m\u001b[0;34m\u001b[0m\u001b[0m\n\u001b[1;32m     13\u001b[0m \u001b[0mmodel_convert\u001b[0m\u001b[0;34m(\u001b[0m\u001b[0mmodel\u001b[0m\u001b[0;34m=\u001b[0m\u001b[0mnew_model\u001b[0m\u001b[0;34m)\u001b[0m\u001b[0;34m\u001b[0m\u001b[0;34m\u001b[0m\u001b[0m\n\u001b[0;32m---> 14\u001b[0;31m \u001b[0mnew_model\u001b[0m\u001b[0;34m.\u001b[0m\u001b[0mgroups\u001b[0m\u001b[0;34m.\u001b[0m\u001b[0mget_by_id\u001b[0m\u001b[0;34m(\u001b[0m\u001b[0;34m\"test_group\"\u001b[0m\u001b[0;34m)\u001b[0m\u001b[0;34m.\u001b[0m\u001b[0mvisualize\u001b[0m\u001b[0;34m(\u001b[0m\u001b[0;34m)\u001b[0m\u001b[0;34m\u001b[0m\u001b[0;34m\u001b[0m\u001b[0m\n\u001b[0m",
      "\u001b[0;32m~/miniconda3/envs/cobramod/lib/python3.7/site-packages/cobramod/core/pathway.py\u001b[0m in \u001b[0;36mvisualize\u001b[0;34m(self, solution_fluxes, filename, vertical)\u001b[0m\n\u001b[1;32m    174\u001b[0m             \u001b[0;32mfor\u001b[0m \u001b[0mreaction\u001b[0m \u001b[0;32min\u001b[0m \u001b[0mjson_dict\u001b[0m\u001b[0;34m.\u001b[0m\u001b[0mgraph\u001b[0m\u001b[0;34m.\u001b[0m\u001b[0mkeys\u001b[0m\u001b[0;34m(\u001b[0m\u001b[0;34m)\u001b[0m\u001b[0;34m\u001b[0m\u001b[0;34m\u001b[0m\u001b[0m\n\u001b[1;32m    175\u001b[0m         }\n\u001b[0;32m--> 176\u001b[0;31m         \u001b[0;32mreturn\u001b[0m \u001b[0mjson_dict\u001b[0m\u001b[0;34m.\u001b[0m\u001b[0mvisualize\u001b[0m\u001b[0;34m(\u001b[0m\u001b[0mfilepath\u001b[0m\u001b[0;34m=\u001b[0m\u001b[0mfilename\u001b[0m\u001b[0;34m,\u001b[0m \u001b[0mvertical\u001b[0m\u001b[0;34m=\u001b[0m\u001b[0mvertical\u001b[0m\u001b[0;34m)\u001b[0m\u001b[0;34m\u001b[0m\u001b[0;34m\u001b[0m\u001b[0m\n\u001b[0m\u001b[1;32m    177\u001b[0m \u001b[0;34m\u001b[0m\u001b[0m\n\u001b[1;32m    178\u001b[0m \u001b[0;34m\u001b[0m\u001b[0m\n",
      "\u001b[0;32m~/miniconda3/envs/cobramod/lib/python3.7/site-packages/cobramod/visualization/converter.py\u001b[0m in \u001b[0;36mvisualize\u001b[0;34m(self, filepath, vertical)\u001b[0m\n\u001b[1;32m    713\u001b[0m             \u001b[0mfilepath\u001b[0m \u001b[0;34m=\u001b[0m \u001b[0mPath\u001b[0m\u001b[0;34m.\u001b[0m\u001b[0mcwd\u001b[0m\u001b[0;34m(\u001b[0m\u001b[0;34m)\u001b[0m\u001b[0;34m.\u001b[0m\u001b[0mjoinpath\u001b[0m\u001b[0;34m(\u001b[0m\u001b[0;34m\"pathway.html\"\u001b[0m\u001b[0;34m)\u001b[0m\u001b[0;34m\u001b[0m\u001b[0;34m\u001b[0m\u001b[0m\n\u001b[1;32m    714\u001b[0m         \u001b[0;31m# Use relationship\u001b[0m\u001b[0;34m\u001b[0m\u001b[0;34m\u001b[0m\u001b[0;34m\u001b[0m\u001b[0m\n\u001b[0;32m--> 715\u001b[0;31m         \u001b[0mmapping\u001b[0m \u001b[0;34m=\u001b[0m \u001b[0mget_mapping\u001b[0m\u001b[0;34m(\u001b[0m\u001b[0mgraph\u001b[0m\u001b[0;34m=\u001b[0m\u001b[0mself\u001b[0m\u001b[0;34m.\u001b[0m\u001b[0mgraph\u001b[0m\u001b[0;34m)\u001b[0m\u001b[0;34m\u001b[0m\u001b[0;34m\u001b[0m\u001b[0m\n\u001b[0m\u001b[1;32m    716\u001b[0m         \u001b[0;32mif\u001b[0m \u001b[0mvertical\u001b[0m\u001b[0;34m:\u001b[0m\u001b[0;34m\u001b[0m\u001b[0;34m\u001b[0m\u001b[0m\n\u001b[1;32m    717\u001b[0m             \u001b[0mmapping\u001b[0m \u001b[0;34m=\u001b[0m \u001b[0mtranspose\u001b[0m\u001b[0;34m(\u001b[0m\u001b[0mmatrix\u001b[0m\u001b[0;34m=\u001b[0m\u001b[0mmapping\u001b[0m\u001b[0;34m)\u001b[0m\u001b[0;34m\u001b[0m\u001b[0;34m\u001b[0m\u001b[0m\n",
      "\u001b[0;32m~/miniconda3/envs/cobramod/lib/python3.7/site-packages/cobramod/visualization/mapping.py\u001b[0m in \u001b[0;36mget_mapping\u001b[0;34m(graph)\u001b[0m\n\u001b[1;32m    226\u001b[0m     \"\"\"\n\u001b[1;32m    227\u001b[0m     \u001b[0;31m# If graph is cyclic, it will be modified. Work with copy\u001b[0m\u001b[0;34m\u001b[0m\u001b[0;34m\u001b[0m\u001b[0;34m\u001b[0m\u001b[0m\n\u001b[0;32m--> 228\u001b[0;31m     \u001b[0mmatrix\u001b[0m \u001b[0;34m=\u001b[0m \u001b[0munformatted_matrix\u001b[0m\u001b[0;34m(\u001b[0m\u001b[0mgraph\u001b[0m\u001b[0;34m=\u001b[0m\u001b[0mgraph\u001b[0m\u001b[0;34m.\u001b[0m\u001b[0mcopy\u001b[0m\u001b[0;34m(\u001b[0m\u001b[0;34m)\u001b[0m\u001b[0;34m)\u001b[0m\u001b[0;34m\u001b[0m\u001b[0;34m\u001b[0m\u001b[0m\n\u001b[0m\u001b[1;32m    229\u001b[0m     \u001b[0;31m# Fill with 0 and merge rows if needed\u001b[0m\u001b[0;34m\u001b[0m\u001b[0;34m\u001b[0m\u001b[0;34m\u001b[0m\u001b[0m\n\u001b[1;32m    230\u001b[0m     \u001b[0mlongest\u001b[0m \u001b[0;34m=\u001b[0m \u001b[0mlen\u001b[0m\u001b[0;34m(\u001b[0m\u001b[0mmatrix\u001b[0m\u001b[0;34m[\u001b[0m\u001b[0;36m0\u001b[0m\u001b[0;34m]\u001b[0m\u001b[0;34m)\u001b[0m\u001b[0;34m\u001b[0m\u001b[0;34m\u001b[0m\u001b[0m\n",
      "\u001b[0;32m~/miniconda3/envs/cobramod/lib/python3.7/site-packages/cobramod/visualization/mapping.py\u001b[0m in \u001b[0;36munformatted_matrix\u001b[0;34m(graph)\u001b[0m\n\u001b[1;32m    112\u001b[0m     \"\"\"\n\u001b[1;32m    113\u001b[0m     \u001b[0;31m# If graph cyclic, it will be modified\u001b[0m\u001b[0;34m\u001b[0m\u001b[0;34m\u001b[0m\u001b[0;34m\u001b[0m\u001b[0m\n\u001b[0;32m--> 114\u001b[0;31m     \u001b[0mmapping\u001b[0m \u001b[0;34m=\u001b[0m \u001b[0mbuild_graph\u001b[0m\u001b[0;34m(\u001b[0m\u001b[0mgraph\u001b[0m\u001b[0;34m=\u001b[0m\u001b[0mgraph\u001b[0m\u001b[0;34m)\u001b[0m\u001b[0;34m\u001b[0m\u001b[0;34m\u001b[0m\u001b[0m\n\u001b[0m\u001b[1;32m    115\u001b[0m     \u001b[0;31m# By default firsts item\u001b[0m\u001b[0;34m\u001b[0m\u001b[0;34m\u001b[0m\u001b[0;34m\u001b[0m\u001b[0m\n\u001b[1;32m    116\u001b[0m     \u001b[0mlongest\u001b[0m \u001b[0;34m=\u001b[0m \u001b[0mmapping\u001b[0m\u001b[0;34m[\u001b[0m\u001b[0;36m0\u001b[0m\u001b[0;34m]\u001b[0m\u001b[0;34m\u001b[0m\u001b[0;34m\u001b[0m\u001b[0m\n",
      "\u001b[0;32m~/miniconda3/envs/cobramod/lib/python3.7/site-packages/cobramod/core/graph.py\u001b[0m in \u001b[0;36mbuild_graph\u001b[0;34m(graph)\u001b[0m\n\u001b[1;32m    333\u001b[0m     \u001b[0;31m# This would modify the graph. Use copy\u001b[0m\u001b[0;34m\u001b[0m\u001b[0;34m\u001b[0m\u001b[0;34m\u001b[0m\u001b[0m\n\u001b[1;32m    334\u001b[0m     \u001b[0mmapping\u001b[0m \u001b[0;34m=\u001b[0m \u001b[0mget_mapping\u001b[0m\u001b[0;34m(\u001b[0m\u001b[0mgraph\u001b[0m\u001b[0;34m=\u001b[0m\u001b[0mgraph\u001b[0m\u001b[0;34m.\u001b[0m\u001b[0mcopy\u001b[0m\u001b[0;34m(\u001b[0m\u001b[0;34m)\u001b[0m\u001b[0;34m,\u001b[0m \u001b[0mstop_list\u001b[0m\u001b[0;34m=\u001b[0m\u001b[0;34m[\u001b[0m\u001b[0;34m]\u001b[0m\u001b[0;34m,\u001b[0m \u001b[0mnew\u001b[0m\u001b[0;34m=\u001b[0m\u001b[0;34m[\u001b[0m\u001b[0;34m]\u001b[0m\u001b[0;34m)\u001b[0m\u001b[0;34m\u001b[0m\u001b[0;34m\u001b[0m\u001b[0m\n\u001b[0;32m--> 335\u001b[0;31m     \u001b[0mmapping\u001b[0m\u001b[0;34m.\u001b[0m\u001b[0msort\u001b[0m\u001b[0;34m(\u001b[0m\u001b[0mkey\u001b[0m\u001b[0;34m=\u001b[0m\u001b[0mlen\u001b[0m\u001b[0;34m,\u001b[0m \u001b[0mreverse\u001b[0m\u001b[0;34m=\u001b[0m\u001b[0;32mTrue\u001b[0m\u001b[0;34m)\u001b[0m\u001b[0;34m\u001b[0m\u001b[0;34m\u001b[0m\u001b[0m\n\u001b[0m\u001b[1;32m    336\u001b[0m     \u001b[0;32mreturn\u001b[0m \u001b[0mmapping\u001b[0m\u001b[0;34m\u001b[0m\u001b[0;34m\u001b[0m\u001b[0m\n\u001b[1;32m    337\u001b[0m \u001b[0;34m\u001b[0m\u001b[0m\n",
      "\u001b[0;31mAttributeError\u001b[0m: 'NoneType' object has no attribute 'sort'"
     ]
    }
   ],
   "source": [
    "from cobramod.core.pathway import model_convert\n",
    "\n",
    "# Using previous example\n",
    "new_model = test_model.copy()\n",
    "# Will raise an error\n",
    "try:\n",
    "    new_model.groups.get_by_id(\"test_group\").visualize()\n",
    "except Exception as e:\n",
    "    print(\"Error raised ->\", e)\n",
    "    \n",
    "# Using method\n",
    "new_model = test_model.copy()\n",
    "model_convert(model=new_model)\n",
    "new_model.groups.get_by_id(\"test_group\").visualize()"
   ]
  },
  {
   "cell_type": "code",
   "execution_count": null,
   "metadata": {},
   "outputs": [],
   "source": []
  }
 ],
 "metadata": {
  "kernelspec": {
   "display_name": "Python 3",
   "language": "python",
   "name": "python3"
  },
  "language_info": {
   "codemirror_mode": {
    "name": "ipython",
    "version": 3
   },
   "file_extension": ".py",
   "mimetype": "text/x-python",
   "name": "python",
   "nbconvert_exporter": "python",
   "pygments_lexer": "ipython3",
   "version": "3.7.4"
  },
  "widgets": {
   "application/vnd.jupyter.widget-state+json": {
    "state": {
     "27bff0df57764271a432d1fd0de6dbd8": {
      "model_module": "escher",
      "model_module_version": "1.7.3",
      "model_name": "EscherMapModel",
      "state": {
       "_loaded_map_json": "[{\"map_name\": \"\", \"map_id\": \"\", \"map_description\": \"\", \"homepage\": \"\", \"schema\": \"https://escher.github.io/escher/jsonschema/1-0-0#\"}, {\"reactions\": {\"0\": {\"name\": \"PEPDEPHOS_RXN_c\", \"bigg_id\": \"PEPDEPHOS_RXN_c\", \"reversibility\": true, \"label_x\": 190.0, \"label_y\": 45.0, \"gene_reaction_rule\": \"\", \"genes\": [], \"segments\": {\"0\": {\"from_node_id\": \"5\", \"to_node_id\": \"6\", \"b1\": null, \"b2\": null}, \"1\": {\"from_node_id\": \"7\", \"to_node_id\": \"6\", \"b1\": null, \"b2\": null}, \"2\": {\"from_node_id\": \"0\", \"to_node_id\": \"5\", \"b1\": null, \"b2\": null}, \"3\": {\"from_node_id\": \"1\", \"to_node_id\": \"5\", \"b1\": null, \"b2\": null}, \"4\": {\"from_node_id\": \"2\", \"to_node_id\": \"7\", \"b1\": null, \"b2\": null}, \"5\": {\"from_node_id\": \"3\", \"to_node_id\": \"7\", \"b1\": null, \"b2\": null}, \"6\": {\"from_node_id\": \"4\", \"to_node_id\": \"7\", \"b1\": null, \"b2\": null}}, \"metabolites\": [{\"bigg_id\": \"ATP_c\", \"coefficient\": -1.0}, {\"bigg_id\": \"PYRUVATE_c\", \"coefficient\": -1.0}, {\"bigg_id\": \"ADP_c\", \"coefficient\": 1.0}, {\"bigg_id\": \"PHOSPHO_ENOL_PYRUVATE_c\", \"coefficient\": 1.0}, {\"bigg_id\": \"PROTON_c\", \"coefficient\": 1.0}]}, \"1\": {\"name\": \"PYRUVFORMLY_RXN_c\", \"bigg_id\": \"PYRUVFORMLY_RXN_c\", \"reversibility\": true, \"label_x\": 822.0, \"label_y\": 45.0, \"gene_reaction_rule\": \"\", \"genes\": [], \"segments\": {\"7\": {\"from_node_id\": \"12\", \"to_node_id\": \"13\", \"b1\": null, \"b2\": null}, \"8\": {\"from_node_id\": \"14\", \"to_node_id\": \"13\", \"b1\": null, \"b2\": null}, \"9\": {\"from_node_id\": \"8\", \"to_node_id\": \"12\", \"b1\": null, \"b2\": null}, \"10\": {\"from_node_id\": \"9\", \"to_node_id\": \"12\", \"b1\": null, \"b2\": null}, \"11\": {\"from_node_id\": \"10\", \"to_node_id\": \"14\", \"b1\": null, \"b2\": null}, \"12\": {\"from_node_id\": \"11\", \"to_node_id\": \"14\", \"b1\": null, \"b2\": null}}, \"metabolites\": [{\"bigg_id\": \"ACETYL_COA_c\", \"coefficient\": -1.0}, {\"bigg_id\": \"FORMATE_c\", \"coefficient\": -1.0}, {\"bigg_id\": \"CO_A_c\", \"coefficient\": 1.0}, {\"bigg_id\": \"PYRUVATE_c\", \"coefficient\": 1.0}]}, \"2\": {\"name\": \"FHLMULTI_RXN_c\", \"bigg_id\": \"FHLMULTI_RXN_c\", \"reversibility\": true, \"label_x\": 1499.0, \"label_y\": 45.0, \"gene_reaction_rule\": \"\", \"genes\": [], \"segments\": {\"13\": {\"from_node_id\": \"19\", \"to_node_id\": \"20\", \"b1\": null, \"b2\": null}, \"14\": {\"from_node_id\": \"21\", \"to_node_id\": \"20\", \"b1\": null, \"b2\": null}, \"15\": {\"from_node_id\": \"15\", \"to_node_id\": \"19\", \"b1\": null, \"b2\": null}, \"16\": {\"from_node_id\": \"16\", \"to_node_id\": \"19\", \"b1\": null, \"b2\": null}, \"17\": {\"from_node_id\": \"17\", \"to_node_id\": \"21\", \"b1\": null, \"b2\": null}, \"18\": {\"from_node_id\": \"18\", \"to_node_id\": \"21\", \"b1\": null, \"b2\": null}}, \"metabolites\": [{\"bigg_id\": \"FORMATE_c\", \"coefficient\": -1.0}, {\"bigg_id\": \"PROTON_c\", \"coefficient\": -1.0}, {\"bigg_id\": \"CARBON_DIOXIDE_c\", \"coefficient\": 1.0}, {\"bigg_id\": \"HYDROGEN_MOLECULE_c\", \"coefficient\": 1.0}]}}, \"nodes\": {\"0\": {\"node_type\": \"metabolite\", \"x\": 30.0, \"y\": 150.0, \"label_x\": 0.0, \"label_y\": 130.0, \"bigg_id\": \"ATP_c\", \"name\": \"ATP_c\", \"node_is_primary\": false}, \"1\": {\"node_type\": \"metabolite\", \"x\": 30.0, \"y\": 300.0, \"label_x\": 0.0, \"label_y\": 280.0, \"bigg_id\": \"PYRUVATE_c\", \"name\": \"PYRUVATE_c\", \"node_is_primary\": false}, \"2\": {\"node_type\": \"metabolite\", \"x\": 550.0, \"y\": 112.5, \"label_x\": 520.0, \"label_y\": 92.5, \"bigg_id\": \"ADP_c\", \"name\": \"ADP_c\", \"node_is_primary\": false}, \"3\": {\"node_type\": \"metabolite\", \"x\": 550.0, \"y\": 225.0, \"label_x\": 520.0, \"label_y\": 205.0, \"bigg_id\": \"PHOSPHO_ENOL_PYRUVATE_c\", \"name\": \"PHOSPHO_ENOL_PYRUVATE_c\", \"node_is_primary\": false}, \"4\": {\"node_type\": \"metabolite\", \"x\": 550.0, \"y\": 337.5, \"label_x\": 520.0, \"label_y\": 317.5, \"bigg_id\": \"PROTON_c\", \"name\": \"PROTON_c\", \"node_is_primary\": false}, \"5\": {\"node_type\": \"multimarker\", \"x\": 335.0, \"y\": 225.0}, \"6\": {\"node_type\": \"midmarker\", \"x\": 355.0, \"y\": 225.0}, \"7\": {\"node_type\": \"multimarker\", \"x\": 375.0, \"y\": 225.0}, \"8\": {\"node_type\": \"metabolite\", \"x\": 680.0, \"y\": 150.0, \"label_x\": 650.0, \"label_y\": 130.0, \"bigg_id\": \"ACETYL_COA_c\", \"name\": \"ACETYL_COA_c\", \"node_is_primary\": false}, \"9\": {\"node_type\": \"metabolite\", \"x\": 680.0, \"y\": 300.0, \"label_x\": 650.0, \"label_y\": 280.0, \"bigg_id\": \"FORMATE_c\", \"name\": \"FORMATE_c\", \"node_is_primary\": false}, \"10\": {\"node_type\": \"metabolite\", \"x\": 1200.0, \"y\": 150.0, \"label_x\": 1170.0, \"label_y\": 130.0, \"bigg_id\": \"CO_A_c\", \"name\": \"CO_A_c\", \"node_is_primary\": false}, \"11\": {\"node_type\": \"metabolite\", \"x\": 1200.0, \"y\": 300.0, \"label_x\": 1170.0, \"label_y\": 280.0, \"bigg_id\": \"PYRUVATE_c\", \"name\": \"PYRUVATE_c\", \"node_is_primary\": false}, \"12\": {\"node_type\": \"multimarker\", \"x\": 985.0, \"y\": 225.0}, \"13\": {\"node_type\": \"midmarker\", \"x\": 1005.0, \"y\": 225.0}, \"14\": {\"node_type\": \"multimarker\", \"x\": 1025.0, \"y\": 225.0}, \"15\": {\"node_type\": \"metabolite\", \"x\": 1330.0, \"y\": 150.0, \"label_x\": 1300.0, \"label_y\": 130.0, \"bigg_id\": \"FORMATE_c\", \"name\": \"FORMATE_c\", \"node_is_primary\": false}, \"16\": {\"node_type\": \"metabolite\", \"x\": 1330.0, \"y\": 300.0, \"label_x\": 1300.0, \"label_y\": 280.0, \"bigg_id\": \"PROTON_c\", \"name\": \"PROTON_c\", \"node_is_primary\": false}, \"17\": {\"node_type\": \"metabolite\", \"x\": 1850.0, \"y\": 150.0, \"label_x\": 1820.0, \"label_y\": 130.0, \"bigg_id\": \"CARBON_DIOXIDE_c\", \"name\": \"CARBON_DIOXIDE_c\", \"node_is_primary\": false}, \"18\": {\"node_type\": \"metabolite\", \"x\": 1850.0, \"y\": 300.0, \"label_x\": 1820.0, \"label_y\": 280.0, \"bigg_id\": \"HYDROGEN_MOLECULE_c\", \"name\": \"HYDROGEN_MOLECULE_c\", \"node_is_primary\": false}, \"19\": {\"node_type\": \"multimarker\", \"x\": 1635.0, \"y\": 225.0}, \"20\": {\"node_type\": \"midmarker\", \"x\": 1655.0, \"y\": 225.0}, \"21\": {\"node_type\": \"multimarker\", \"x\": 1675.0, \"y\": 225.0}}, \"text_labels\": {}, \"canvas\": {\"x\": 0, \"y\": 0, \"width\": 1950, \"height\": 450}}]",
       "_loaded_model_json": null,
       "allow_building_duplicate_reactions": false,
       "and_method_in_gene_reaction_rule": "mean",
       "canvas_size_and_loc": null,
       "cofactors": [
        "atp",
        "adp",
        "nad",
        "nadh",
        "nadp",
        "nadph",
        "gtp",
        "gdp",
        "h",
        "coa",
        "ump",
        "h2o",
        "ppi"
       ],
       "disabled_buttons": [
        "Clear reaction data",
        "Clear gene data",
        "Clear metabolite data"
       ],
       "embedded_css": null,
       "enable_editing": true,
       "enable_keys": false,
       "enable_keys_with_tooltip": true,
       "enable_search": true,
       "enable_tooltips": false,
       "full_screen_button": {
        "enable_editing": true,
        "enable_keys": true,
        "enable_tooltips": [
         "label"
        ],
        "menu": "all",
        "scroll_behavior": "pan"
       },
       "gene_data": null,
       "gene_font_size": 18,
       "height": 500,
       "hide_all_labels": false,
       "hide_secondary_metabolites": false,
       "highlight_missing": false,
       "identifiers_on_map": "bigg_id",
       "layout": "IPY_MODEL_67245da157fa44a8b5b66d7ddee5985a",
       "marker_radius": 5,
       "menu": "all",
       "metabolite_compare_style": "log2_fold",
       "metabolite_data": null,
       "metabolite_no_data_color": "#ffffff",
       "metabolite_no_data_size": 10,
       "metabolite_scale": [
        {
         "color": "#fffaf0",
         "size": 20,
         "type": "min"
        },
        {
         "color": "#f1c470",
         "size": 30,
         "type": "median"
        },
        {
         "color": "#800000",
         "size": 40,
         "type": "max"
        }
       ],
       "metabolite_scale_preset": "WhYlRd",
       "metabolite_styles": [
        "color",
        "size",
        "text"
       ],
       "never_ask_before_quit": false,
       "primary_metabolite_radius": 20,
       "reaction_compare_style": "log2_fold",
       "reaction_data": null,
       "reaction_no_data_color": "#dcdcdc",
       "reaction_no_data_size": 8,
       "reaction_scale": [
        {
         "color": "#c8c8c8",
         "size": 12,
         "type": "min"
        },
        {
         "color": "#9696ff",
         "size": 16,
         "type": "value",
         "value": 0.01
        },
        {
         "color": "#209123",
         "size": 20,
         "type": "value",
         "value": 20
        },
        {
         "color": "#ff0000",
         "size": 25,
         "type": "max"
        }
       ],
       "reaction_scale_preset": "GaBuGeRd",
       "reaction_styles": [
        "text"
       ],
       "scroll_behavior": "none",
       "secondary_metabolite_radius": 10,
       "semantic_zoom": null,
       "show_gene_reaction_rules": false,
       "starting_reaction": null,
       "use_3d_transform": false,
       "zoom_to_element": null
      }
     },
     "2fb6eb4b18f249268152e15bfa8b61e3": {
      "model_module": "@jupyter-widgets/base",
      "model_module_version": "1.2.0",
      "model_name": "LayoutModel",
      "state": {}
     },
     "44ac2a0e464249e7befc94d285bfa908": {
      "model_module": "@jupyter-widgets/base",
      "model_module_version": "1.2.0",
      "model_name": "LayoutModel",
      "state": {}
     },
     "67245da157fa44a8b5b66d7ddee5985a": {
      "model_module": "@jupyter-widgets/base",
      "model_module_version": "1.2.0",
      "model_name": "LayoutModel",
      "state": {}
     },
     "6cf996dc9e384f518e24ec183d0e52c4": {
      "model_module": "escher",
      "model_module_version": "1.7.3",
      "model_name": "EscherMapModel",
      "state": {
       "_loaded_map_json": "[{\"map_name\": \"\", \"map_id\": \"\", \"map_description\": \"\", \"homepage\": \"\", \"schema\": \"https://escher.github.io/escher/jsonschema/1-0-0#\"}, {\"reactions\": {\"0\": {\"name\": \"PEPDEPHOS_RXN_c\", \"bigg_id\": \"PEPDEPHOS_RXN_c\", \"reversibility\": true, \"label_x\": 190.0, \"label_y\": 45.0, \"gene_reaction_rule\": \"\", \"genes\": [], \"segments\": {\"0\": {\"from_node_id\": \"5\", \"to_node_id\": \"6\", \"b1\": null, \"b2\": null}, \"1\": {\"from_node_id\": \"7\", \"to_node_id\": \"6\", \"b1\": null, \"b2\": null}, \"2\": {\"from_node_id\": \"0\", \"to_node_id\": \"5\", \"b1\": null, \"b2\": null}, \"3\": {\"from_node_id\": \"1\", \"to_node_id\": \"5\", \"b1\": null, \"b2\": null}, \"4\": {\"from_node_id\": \"2\", \"to_node_id\": \"7\", \"b1\": null, \"b2\": null}, \"5\": {\"from_node_id\": \"3\", \"to_node_id\": \"7\", \"b1\": null, \"b2\": null}, \"6\": {\"from_node_id\": \"4\", \"to_node_id\": \"7\", \"b1\": null, \"b2\": null}}, \"metabolites\": [{\"bigg_id\": \"ATP_c\", \"coefficient\": -1.0}, {\"bigg_id\": \"PYRUVATE_c\", \"coefficient\": -1.0}, {\"bigg_id\": \"ADP_c\", \"coefficient\": 1.0}, {\"bigg_id\": \"PHOSPHO_ENOL_PYRUVATE_c\", \"coefficient\": 1.0}, {\"bigg_id\": \"PROTON_c\", \"coefficient\": 1.0}]}, \"1\": {\"name\": \"PYRUVFORMLY_RXN_c\", \"bigg_id\": \"PYRUVFORMLY_RXN_c\", \"reversibility\": true, \"label_x\": 822.0, \"label_y\": 45.0, \"gene_reaction_rule\": \"\", \"genes\": [], \"segments\": {\"7\": {\"from_node_id\": \"12\", \"to_node_id\": \"13\", \"b1\": null, \"b2\": null}, \"8\": {\"from_node_id\": \"14\", \"to_node_id\": \"13\", \"b1\": null, \"b2\": null}, \"9\": {\"from_node_id\": \"8\", \"to_node_id\": \"12\", \"b1\": null, \"b2\": null}, \"10\": {\"from_node_id\": \"9\", \"to_node_id\": \"12\", \"b1\": null, \"b2\": null}, \"11\": {\"from_node_id\": \"10\", \"to_node_id\": \"14\", \"b1\": null, \"b2\": null}, \"12\": {\"from_node_id\": \"11\", \"to_node_id\": \"14\", \"b1\": null, \"b2\": null}}, \"metabolites\": [{\"bigg_id\": \"ACETYL_COA_c\", \"coefficient\": -1.0}, {\"bigg_id\": \"FORMATE_c\", \"coefficient\": -1.0}, {\"bigg_id\": \"CO_A_c\", \"coefficient\": 1.0}, {\"bigg_id\": \"PYRUVATE_c\", \"coefficient\": 1.0}]}, \"2\": {\"name\": \"FHLMULTI_RXN_c\", \"bigg_id\": \"FHLMULTI_RXN_c\", \"reversibility\": true, \"label_x\": 1499.0, \"label_y\": 45.0, \"gene_reaction_rule\": \"\", \"genes\": [], \"segments\": {\"13\": {\"from_node_id\": \"19\", \"to_node_id\": \"20\", \"b1\": null, \"b2\": null}, \"14\": {\"from_node_id\": \"21\", \"to_node_id\": \"20\", \"b1\": null, \"b2\": null}, \"15\": {\"from_node_id\": \"15\", \"to_node_id\": \"19\", \"b1\": null, \"b2\": null}, \"16\": {\"from_node_id\": \"16\", \"to_node_id\": \"19\", \"b1\": null, \"b2\": null}, \"17\": {\"from_node_id\": \"17\", \"to_node_id\": \"21\", \"b1\": null, \"b2\": null}, \"18\": {\"from_node_id\": \"18\", \"to_node_id\": \"21\", \"b1\": null, \"b2\": null}}, \"metabolites\": [{\"bigg_id\": \"FORMATE_c\", \"coefficient\": -1.0}, {\"bigg_id\": \"PROTON_c\", \"coefficient\": -1.0}, {\"bigg_id\": \"CARBON_DIOXIDE_c\", \"coefficient\": 1.0}, {\"bigg_id\": \"HYDROGEN_MOLECULE_c\", \"coefficient\": 1.0}]}}, \"nodes\": {\"0\": {\"node_type\": \"metabolite\", \"x\": 30.0, \"y\": 150.0, \"label_x\": 0.0, \"label_y\": 130.0, \"bigg_id\": \"ATP_c\", \"name\": \"ATP_c\", \"node_is_primary\": false}, \"1\": {\"node_type\": \"metabolite\", \"x\": 30.0, \"y\": 300.0, \"label_x\": 0.0, \"label_y\": 280.0, \"bigg_id\": \"PYRUVATE_c\", \"name\": \"PYRUVATE_c\", \"node_is_primary\": false}, \"2\": {\"node_type\": \"metabolite\", \"x\": 550.0, \"y\": 112.5, \"label_x\": 520.0, \"label_y\": 92.5, \"bigg_id\": \"ADP_c\", \"name\": \"ADP_c\", \"node_is_primary\": false}, \"3\": {\"node_type\": \"metabolite\", \"x\": 550.0, \"y\": 225.0, \"label_x\": 520.0, \"label_y\": 205.0, \"bigg_id\": \"PHOSPHO_ENOL_PYRUVATE_c\", \"name\": \"PHOSPHO_ENOL_PYRUVATE_c\", \"node_is_primary\": false}, \"4\": {\"node_type\": \"metabolite\", \"x\": 550.0, \"y\": 337.5, \"label_x\": 520.0, \"label_y\": 317.5, \"bigg_id\": \"PROTON_c\", \"name\": \"PROTON_c\", \"node_is_primary\": false}, \"5\": {\"node_type\": \"multimarker\", \"x\": 335.0, \"y\": 225.0}, \"6\": {\"node_type\": \"midmarker\", \"x\": 355.0, \"y\": 225.0}, \"7\": {\"node_type\": \"multimarker\", \"x\": 375.0, \"y\": 225.0}, \"8\": {\"node_type\": \"metabolite\", \"x\": 680.0, \"y\": 150.0, \"label_x\": 650.0, \"label_y\": 130.0, \"bigg_id\": \"ACETYL_COA_c\", \"name\": \"ACETYL_COA_c\", \"node_is_primary\": false}, \"9\": {\"node_type\": \"metabolite\", \"x\": 680.0, \"y\": 300.0, \"label_x\": 650.0, \"label_y\": 280.0, \"bigg_id\": \"FORMATE_c\", \"name\": \"FORMATE_c\", \"node_is_primary\": false}, \"10\": {\"node_type\": \"metabolite\", \"x\": 1200.0, \"y\": 150.0, \"label_x\": 1170.0, \"label_y\": 130.0, \"bigg_id\": \"CO_A_c\", \"name\": \"CO_A_c\", \"node_is_primary\": false}, \"11\": {\"node_type\": \"metabolite\", \"x\": 1200.0, \"y\": 300.0, \"label_x\": 1170.0, \"label_y\": 280.0, \"bigg_id\": \"PYRUVATE_c\", \"name\": \"PYRUVATE_c\", \"node_is_primary\": false}, \"12\": {\"node_type\": \"multimarker\", \"x\": 985.0, \"y\": 225.0}, \"13\": {\"node_type\": \"midmarker\", \"x\": 1005.0, \"y\": 225.0}, \"14\": {\"node_type\": \"multimarker\", \"x\": 1025.0, \"y\": 225.0}, \"15\": {\"node_type\": \"metabolite\", \"x\": 1330.0, \"y\": 150.0, \"label_x\": 1300.0, \"label_y\": 130.0, \"bigg_id\": \"FORMATE_c\", \"name\": \"FORMATE_c\", \"node_is_primary\": false}, \"16\": {\"node_type\": \"metabolite\", \"x\": 1330.0, \"y\": 300.0, \"label_x\": 1300.0, \"label_y\": 280.0, \"bigg_id\": \"PROTON_c\", \"name\": \"PROTON_c\", \"node_is_primary\": false}, \"17\": {\"node_type\": \"metabolite\", \"x\": 1850.0, \"y\": 150.0, \"label_x\": 1820.0, \"label_y\": 130.0, \"bigg_id\": \"CARBON_DIOXIDE_c\", \"name\": \"CARBON_DIOXIDE_c\", \"node_is_primary\": false}, \"18\": {\"node_type\": \"metabolite\", \"x\": 1850.0, \"y\": 300.0, \"label_x\": 1820.0, \"label_y\": 280.0, \"bigg_id\": \"HYDROGEN_MOLECULE_c\", \"name\": \"HYDROGEN_MOLECULE_c\", \"node_is_primary\": false}, \"19\": {\"node_type\": \"multimarker\", \"x\": 1635.0, \"y\": 225.0}, \"20\": {\"node_type\": \"midmarker\", \"x\": 1655.0, \"y\": 225.0}, \"21\": {\"node_type\": \"multimarker\", \"x\": 1675.0, \"y\": 225.0}}, \"text_labels\": {}, \"canvas\": {\"x\": 0, \"y\": 0, \"width\": 1950, \"height\": 450}}]",
       "_loaded_model_json": null,
       "allow_building_duplicate_reactions": false,
       "and_method_in_gene_reaction_rule": "mean",
       "canvas_size_and_loc": null,
       "cofactors": [
        "atp",
        "adp",
        "nad",
        "nadh",
        "nadp",
        "nadph",
        "gtp",
        "gdp",
        "h",
        "coa",
        "ump",
        "h2o",
        "ppi"
       ],
       "disabled_buttons": [
        "Clear reaction data",
        "Clear gene data",
        "Clear metabolite data"
       ],
       "embedded_css": null,
       "enable_editing": true,
       "enable_keys": false,
       "enable_keys_with_tooltip": true,
       "enable_search": true,
       "enable_tooltips": false,
       "full_screen_button": {
        "enable_editing": true,
        "enable_keys": true,
        "enable_tooltips": [
         "label"
        ],
        "menu": "all",
        "scroll_behavior": "pan"
       },
       "gene_data": null,
       "gene_font_size": 18,
       "height": 500,
       "hide_all_labels": false,
       "hide_secondary_metabolites": false,
       "highlight_missing": false,
       "identifiers_on_map": "bigg_id",
       "layout": "IPY_MODEL_44ac2a0e464249e7befc94d285bfa908",
       "marker_radius": 5,
       "menu": "all",
       "metabolite_compare_style": "log2_fold",
       "metabolite_data": null,
       "metabolite_no_data_color": "#ffffff",
       "metabolite_no_data_size": 10,
       "metabolite_scale": [
        {
         "color": "#fffaf0",
         "size": 20,
         "type": "min"
        },
        {
         "color": "#f1c470",
         "size": 30,
         "type": "median"
        },
        {
         "color": "#800000",
         "size": 40,
         "type": "max"
        }
       ],
       "metabolite_scale_preset": "WhYlRd",
       "metabolite_styles": [
        "color",
        "size",
        "text"
       ],
       "never_ask_before_quit": false,
       "primary_metabolite_radius": 20,
       "reaction_compare_style": "log2_fold",
       "reaction_data": null,
       "reaction_no_data_color": "#dcdcdc",
       "reaction_no_data_size": 8,
       "reaction_scale": [
        {
         "color": "#c8c8c8",
         "size": 12,
         "type": "min"
        },
        {
         "color": "#9696ff",
         "size": 16,
         "type": "value",
         "value": 0.01
        },
        {
         "color": "#209123",
         "size": 20,
         "type": "value",
         "value": 20
        },
        {
         "color": "#ff0000",
         "size": 25,
         "type": "max"
        }
       ],
       "reaction_scale_preset": "GaBuGeRd",
       "reaction_styles": [
        "text"
       ],
       "scroll_behavior": "none",
       "secondary_metabolite_radius": 10,
       "semantic_zoom": null,
       "show_gene_reaction_rules": false,
       "starting_reaction": null,
       "use_3d_transform": false,
       "zoom_to_element": null
      }
     },
     "aa64cb3699294b5782b8100f922f9acd": {
      "model_module": "escher",
      "model_module_version": "1.7.3",
      "model_name": "EscherMapModel",
      "state": {
       "_loaded_map_json": "[{\"map_name\": \"\", \"map_id\": \"\", \"map_description\": \"\", \"homepage\": \"\", \"schema\": \"https://escher.github.io/escher/jsonschema/1-0-0#\"}, {\"reactions\": {\"0\": {\"name\": \"PEPDEPHOS_RXN_c\", \"bigg_id\": \"PEPDEPHOS_RXN_c\", \"reversibility\": true, \"label_x\": 190.0, \"label_y\": 45.0, \"gene_reaction_rule\": \"\", \"genes\": [], \"segments\": {\"0\": {\"from_node_id\": \"5\", \"to_node_id\": \"6\", \"b1\": null, \"b2\": null}, \"1\": {\"from_node_id\": \"7\", \"to_node_id\": \"6\", \"b1\": null, \"b2\": null}, \"2\": {\"from_node_id\": \"0\", \"to_node_id\": \"5\", \"b1\": null, \"b2\": null}, \"3\": {\"from_node_id\": \"1\", \"to_node_id\": \"5\", \"b1\": null, \"b2\": null}, \"4\": {\"from_node_id\": \"2\", \"to_node_id\": \"7\", \"b1\": null, \"b2\": null}, \"5\": {\"from_node_id\": \"3\", \"to_node_id\": \"7\", \"b1\": null, \"b2\": null}, \"6\": {\"from_node_id\": \"4\", \"to_node_id\": \"7\", \"b1\": null, \"b2\": null}}, \"metabolites\": [{\"bigg_id\": \"ATP_c\", \"coefficient\": -1.0}, {\"bigg_id\": \"PYRUVATE_c\", \"coefficient\": -1.0}, {\"bigg_id\": \"ADP_c\", \"coefficient\": 1.0}, {\"bigg_id\": \"PHOSPHO_ENOL_PYRUVATE_c\", \"coefficient\": 1.0}, {\"bigg_id\": \"PROTON_c\", \"coefficient\": 1.0}]}, \"1\": {\"name\": \"PYRUVFORMLY_RXN_c\", \"bigg_id\": \"PYRUVFORMLY_RXN_c\", \"reversibility\": true, \"label_x\": 822.0, \"label_y\": 45.0, \"gene_reaction_rule\": \"\", \"genes\": [], \"segments\": {\"7\": {\"from_node_id\": \"12\", \"to_node_id\": \"13\", \"b1\": null, \"b2\": null}, \"8\": {\"from_node_id\": \"14\", \"to_node_id\": \"13\", \"b1\": null, \"b2\": null}, \"9\": {\"from_node_id\": \"8\", \"to_node_id\": \"12\", \"b1\": null, \"b2\": null}, \"10\": {\"from_node_id\": \"9\", \"to_node_id\": \"12\", \"b1\": null, \"b2\": null}, \"11\": {\"from_node_id\": \"10\", \"to_node_id\": \"14\", \"b1\": null, \"b2\": null}, \"12\": {\"from_node_id\": \"11\", \"to_node_id\": \"14\", \"b1\": null, \"b2\": null}}, \"metabolites\": [{\"bigg_id\": \"ACETYL_COA_c\", \"coefficient\": -1.0}, {\"bigg_id\": \"FORMATE_c\", \"coefficient\": -1.0}, {\"bigg_id\": \"CO_A_c\", \"coefficient\": 1.0}, {\"bigg_id\": \"PYRUVATE_c\", \"coefficient\": 1.0}]}, \"2\": {\"name\": \"FHLMULTI_RXN_c\", \"bigg_id\": \"FHLMULTI_RXN_c\", \"reversibility\": true, \"label_x\": 1499.0, \"label_y\": 45.0, \"gene_reaction_rule\": \"\", \"genes\": [], \"segments\": {\"13\": {\"from_node_id\": \"19\", \"to_node_id\": \"20\", \"b1\": null, \"b2\": null}, \"14\": {\"from_node_id\": \"21\", \"to_node_id\": \"20\", \"b1\": null, \"b2\": null}, \"15\": {\"from_node_id\": \"15\", \"to_node_id\": \"19\", \"b1\": null, \"b2\": null}, \"16\": {\"from_node_id\": \"16\", \"to_node_id\": \"19\", \"b1\": null, \"b2\": null}, \"17\": {\"from_node_id\": \"17\", \"to_node_id\": \"21\", \"b1\": null, \"b2\": null}, \"18\": {\"from_node_id\": \"18\", \"to_node_id\": \"21\", \"b1\": null, \"b2\": null}}, \"metabolites\": [{\"bigg_id\": \"FORMATE_c\", \"coefficient\": -1.0}, {\"bigg_id\": \"PROTON_c\", \"coefficient\": -1.0}, {\"bigg_id\": \"CARBON_DIOXIDE_c\", \"coefficient\": 1.0}, {\"bigg_id\": \"HYDROGEN_MOLECULE_c\", \"coefficient\": 1.0}]}}, \"nodes\": {\"0\": {\"node_type\": \"metabolite\", \"x\": 30.0, \"y\": 150.0, \"label_x\": 0.0, \"label_y\": 130.0, \"bigg_id\": \"ATP_c\", \"name\": \"ATP_c\", \"node_is_primary\": false}, \"1\": {\"node_type\": \"metabolite\", \"x\": 30.0, \"y\": 300.0, \"label_x\": 0.0, \"label_y\": 280.0, \"bigg_id\": \"PYRUVATE_c\", \"name\": \"PYRUVATE_c\", \"node_is_primary\": false}, \"2\": {\"node_type\": \"metabolite\", \"x\": 550.0, \"y\": 112.5, \"label_x\": 520.0, \"label_y\": 92.5, \"bigg_id\": \"ADP_c\", \"name\": \"ADP_c\", \"node_is_primary\": false}, \"3\": {\"node_type\": \"metabolite\", \"x\": 550.0, \"y\": 225.0, \"label_x\": 520.0, \"label_y\": 205.0, \"bigg_id\": \"PHOSPHO_ENOL_PYRUVATE_c\", \"name\": \"PHOSPHO_ENOL_PYRUVATE_c\", \"node_is_primary\": false}, \"4\": {\"node_type\": \"metabolite\", \"x\": 550.0, \"y\": 337.5, \"label_x\": 520.0, \"label_y\": 317.5, \"bigg_id\": \"PROTON_c\", \"name\": \"PROTON_c\", \"node_is_primary\": false}, \"5\": {\"node_type\": \"multimarker\", \"x\": 335.0, \"y\": 225.0}, \"6\": {\"node_type\": \"midmarker\", \"x\": 355.0, \"y\": 225.0}, \"7\": {\"node_type\": \"multimarker\", \"x\": 375.0, \"y\": 225.0}, \"8\": {\"node_type\": \"metabolite\", \"x\": 680.0, \"y\": 150.0, \"label_x\": 650.0, \"label_y\": 130.0, \"bigg_id\": \"ACETYL_COA_c\", \"name\": \"ACETYL_COA_c\", \"node_is_primary\": false}, \"9\": {\"node_type\": \"metabolite\", \"x\": 680.0, \"y\": 300.0, \"label_x\": 650.0, \"label_y\": 280.0, \"bigg_id\": \"FORMATE_c\", \"name\": \"FORMATE_c\", \"node_is_primary\": false}, \"10\": {\"node_type\": \"metabolite\", \"x\": 1200.0, \"y\": 150.0, \"label_x\": 1170.0, \"label_y\": 130.0, \"bigg_id\": \"CO_A_c\", \"name\": \"CO_A_c\", \"node_is_primary\": false}, \"11\": {\"node_type\": \"metabolite\", \"x\": 1200.0, \"y\": 300.0, \"label_x\": 1170.0, \"label_y\": 280.0, \"bigg_id\": \"PYRUVATE_c\", \"name\": \"PYRUVATE_c\", \"node_is_primary\": false}, \"12\": {\"node_type\": \"multimarker\", \"x\": 985.0, \"y\": 225.0}, \"13\": {\"node_type\": \"midmarker\", \"x\": 1005.0, \"y\": 225.0}, \"14\": {\"node_type\": \"multimarker\", \"x\": 1025.0, \"y\": 225.0}, \"15\": {\"node_type\": \"metabolite\", \"x\": 1330.0, \"y\": 150.0, \"label_x\": 1300.0, \"label_y\": 130.0, \"bigg_id\": \"FORMATE_c\", \"name\": \"FORMATE_c\", \"node_is_primary\": false}, \"16\": {\"node_type\": \"metabolite\", \"x\": 1330.0, \"y\": 300.0, \"label_x\": 1300.0, \"label_y\": 280.0, \"bigg_id\": \"PROTON_c\", \"name\": \"PROTON_c\", \"node_is_primary\": false}, \"17\": {\"node_type\": \"metabolite\", \"x\": 1850.0, \"y\": 150.0, \"label_x\": 1820.0, \"label_y\": 130.0, \"bigg_id\": \"CARBON_DIOXIDE_c\", \"name\": \"CARBON_DIOXIDE_c\", \"node_is_primary\": false}, \"18\": {\"node_type\": \"metabolite\", \"x\": 1850.0, \"y\": 300.0, \"label_x\": 1820.0, \"label_y\": 280.0, \"bigg_id\": \"HYDROGEN_MOLECULE_c\", \"name\": \"HYDROGEN_MOLECULE_c\", \"node_is_primary\": false}, \"19\": {\"node_type\": \"multimarker\", \"x\": 1635.0, \"y\": 225.0}, \"20\": {\"node_type\": \"midmarker\", \"x\": 1655.0, \"y\": 225.0}, \"21\": {\"node_type\": \"multimarker\", \"x\": 1675.0, \"y\": 225.0}}, \"text_labels\": {}, \"canvas\": {\"x\": 0, \"y\": 0, \"width\": 1950, \"height\": 450}}]",
       "_loaded_model_json": null,
       "allow_building_duplicate_reactions": false,
       "and_method_in_gene_reaction_rule": "mean",
       "canvas_size_and_loc": null,
       "cofactors": [
        "atp",
        "adp",
        "nad",
        "nadh",
        "nadp",
        "nadph",
        "gtp",
        "gdp",
        "h",
        "coa",
        "ump",
        "h2o",
        "ppi"
       ],
       "disabled_buttons": [
        "Clear reaction data",
        "Clear gene data",
        "Clear metabolite data"
       ],
       "embedded_css": null,
       "enable_editing": true,
       "enable_keys": false,
       "enable_keys_with_tooltip": true,
       "enable_search": true,
       "enable_tooltips": false,
       "full_screen_button": {
        "enable_editing": true,
        "enable_keys": true,
        "enable_tooltips": [
         "label"
        ],
        "menu": "all",
        "scroll_behavior": "pan"
       },
       "gene_data": null,
       "gene_font_size": 18,
       "height": 500,
       "hide_all_labels": false,
       "hide_secondary_metabolites": false,
       "highlight_missing": false,
       "identifiers_on_map": "bigg_id",
       "layout": "IPY_MODEL_2fb6eb4b18f249268152e15bfa8b61e3",
       "marker_radius": 5,
       "menu": "all",
       "metabolite_compare_style": "log2_fold",
       "metabolite_data": null,
       "metabolite_no_data_color": "#ffffff",
       "metabolite_no_data_size": 10,
       "metabolite_scale": [
        {
         "color": "#fffaf0",
         "size": 20,
         "type": "min"
        },
        {
         "color": "#f1c470",
         "size": 30,
         "type": "median"
        },
        {
         "color": "#800000",
         "size": 40,
         "type": "max"
        }
       ],
       "metabolite_scale_preset": "WhYlRd",
       "metabolite_styles": [
        "color",
        "size",
        "text"
       ],
       "never_ask_before_quit": false,
       "primary_metabolite_radius": 20,
       "reaction_compare_style": "log2_fold",
       "reaction_data": null,
       "reaction_no_data_color": "#dcdcdc",
       "reaction_no_data_size": 8,
       "reaction_scale": [
        {
         "color": "#c8c8c8",
         "size": 12,
         "type": "min"
        },
        {
         "color": "#9696ff",
         "size": 16,
         "type": "value",
         "value": 0.01
        },
        {
         "color": "#209123",
         "size": 20,
         "type": "value",
         "value": 20
        },
        {
         "color": "#ff0000",
         "size": 25,
         "type": "max"
        }
       ],
       "reaction_scale_preset": "GaBuGeRd",
       "reaction_styles": [
        "text"
       ],
       "scroll_behavior": "none",
       "secondary_metabolite_radius": 10,
       "semantic_zoom": null,
       "show_gene_reaction_rules": false,
       "starting_reaction": null,
       "use_3d_transform": false,
       "zoom_to_element": null
      }
     },
     "c1b95aea1a89473ea2bbce9d34c1b09b": {
      "model_module": "@jupyter-widgets/base",
      "model_module_version": "1.2.0",
      "model_name": "LayoutModel",
      "state": {}
     },
     "dbc4fb98cfe84b67abd6c019125ea664": {
      "model_module": "escher",
      "model_module_version": "1.7.3",
      "model_name": "EscherMapModel",
      "state": {
       "_loaded_map_json": "[{\"map_name\": \"\", \"map_id\": \"\", \"map_description\": \"\", \"homepage\": \"\", \"schema\": \"https://escher.github.io/escher/jsonschema/1-0-0#\"}, {\"reactions\": {\"0\": {\"name\": \"PEPDEPHOS_RXN_c\", \"bigg_id\": \"PEPDEPHOS_RXN_c\", \"reversibility\": true, \"label_x\": 190.0, \"label_y\": 45.0, \"gene_reaction_rule\": \"\", \"genes\": [], \"segments\": {\"0\": {\"from_node_id\": \"5\", \"to_node_id\": \"6\", \"b1\": null, \"b2\": null}, \"1\": {\"from_node_id\": \"7\", \"to_node_id\": \"6\", \"b1\": null, \"b2\": null}, \"2\": {\"from_node_id\": \"0\", \"to_node_id\": \"5\", \"b1\": null, \"b2\": null}, \"3\": {\"from_node_id\": \"1\", \"to_node_id\": \"5\", \"b1\": null, \"b2\": null}, \"4\": {\"from_node_id\": \"2\", \"to_node_id\": \"7\", \"b1\": null, \"b2\": null}, \"5\": {\"from_node_id\": \"3\", \"to_node_id\": \"7\", \"b1\": null, \"b2\": null}, \"6\": {\"from_node_id\": \"4\", \"to_node_id\": \"7\", \"b1\": null, \"b2\": null}}, \"metabolites\": [{\"bigg_id\": \"ATP_c\", \"coefficient\": -1.0}, {\"bigg_id\": \"PYRUVATE_c\", \"coefficient\": -1.0}, {\"bigg_id\": \"ADP_c\", \"coefficient\": 1.0}, {\"bigg_id\": \"PHOSPHO_ENOL_PYRUVATE_c\", \"coefficient\": 1.0}, {\"bigg_id\": \"PROTON_c\", \"coefficient\": 1.0}]}, \"1\": {\"name\": \"PYRUVFORMLY_RXN_c\", \"bigg_id\": \"PYRUVFORMLY_RXN_c\", \"reversibility\": true, \"label_x\": 822.0, \"label_y\": 45.0, \"gene_reaction_rule\": \"\", \"genes\": [], \"segments\": {\"7\": {\"from_node_id\": \"12\", \"to_node_id\": \"13\", \"b1\": null, \"b2\": null}, \"8\": {\"from_node_id\": \"14\", \"to_node_id\": \"13\", \"b1\": null, \"b2\": null}, \"9\": {\"from_node_id\": \"8\", \"to_node_id\": \"12\", \"b1\": null, \"b2\": null}, \"10\": {\"from_node_id\": \"9\", \"to_node_id\": \"12\", \"b1\": null, \"b2\": null}, \"11\": {\"from_node_id\": \"10\", \"to_node_id\": \"14\", \"b1\": null, \"b2\": null}, \"12\": {\"from_node_id\": \"11\", \"to_node_id\": \"14\", \"b1\": null, \"b2\": null}}, \"metabolites\": [{\"bigg_id\": \"ACETYL_COA_c\", \"coefficient\": -1.0}, {\"bigg_id\": \"FORMATE_c\", \"coefficient\": -1.0}, {\"bigg_id\": \"CO_A_c\", \"coefficient\": 1.0}, {\"bigg_id\": \"PYRUVATE_c\", \"coefficient\": 1.0}]}, \"2\": {\"name\": \"FHLMULTI_RXN_c\", \"bigg_id\": \"FHLMULTI_RXN_c\", \"reversibility\": true, \"label_x\": 1499.0, \"label_y\": 45.0, \"gene_reaction_rule\": \"\", \"genes\": [], \"segments\": {\"13\": {\"from_node_id\": \"19\", \"to_node_id\": \"20\", \"b1\": null, \"b2\": null}, \"14\": {\"from_node_id\": \"21\", \"to_node_id\": \"20\", \"b1\": null, \"b2\": null}, \"15\": {\"from_node_id\": \"15\", \"to_node_id\": \"19\", \"b1\": null, \"b2\": null}, \"16\": {\"from_node_id\": \"16\", \"to_node_id\": \"19\", \"b1\": null, \"b2\": null}, \"17\": {\"from_node_id\": \"17\", \"to_node_id\": \"21\", \"b1\": null, \"b2\": null}, \"18\": {\"from_node_id\": \"18\", \"to_node_id\": \"21\", \"b1\": null, \"b2\": null}}, \"metabolites\": [{\"bigg_id\": \"FORMATE_c\", \"coefficient\": -1.0}, {\"bigg_id\": \"PROTON_c\", \"coefficient\": -1.0}, {\"bigg_id\": \"CARBON_DIOXIDE_c\", \"coefficient\": 1.0}, {\"bigg_id\": \"HYDROGEN_MOLECULE_c\", \"coefficient\": 1.0}]}}, \"nodes\": {\"0\": {\"node_type\": \"metabolite\", \"x\": 30.0, \"y\": 150.0, \"label_x\": 0.0, \"label_y\": 130.0, \"bigg_id\": \"ATP_c\", \"name\": \"ATP_c\", \"node_is_primary\": false}, \"1\": {\"node_type\": \"metabolite\", \"x\": 30.0, \"y\": 300.0, \"label_x\": 0.0, \"label_y\": 280.0, \"bigg_id\": \"PYRUVATE_c\", \"name\": \"PYRUVATE_c\", \"node_is_primary\": false}, \"2\": {\"node_type\": \"metabolite\", \"x\": 550.0, \"y\": 112.5, \"label_x\": 520.0, \"label_y\": 92.5, \"bigg_id\": \"ADP_c\", \"name\": \"ADP_c\", \"node_is_primary\": false}, \"3\": {\"node_type\": \"metabolite\", \"x\": 550.0, \"y\": 225.0, \"label_x\": 520.0, \"label_y\": 205.0, \"bigg_id\": \"PHOSPHO_ENOL_PYRUVATE_c\", \"name\": \"PHOSPHO_ENOL_PYRUVATE_c\", \"node_is_primary\": false}, \"4\": {\"node_type\": \"metabolite\", \"x\": 550.0, \"y\": 337.5, \"label_x\": 520.0, \"label_y\": 317.5, \"bigg_id\": \"PROTON_c\", \"name\": \"PROTON_c\", \"node_is_primary\": false}, \"5\": {\"node_type\": \"multimarker\", \"x\": 335.0, \"y\": 225.0}, \"6\": {\"node_type\": \"midmarker\", \"x\": 355.0, \"y\": 225.0}, \"7\": {\"node_type\": \"multimarker\", \"x\": 375.0, \"y\": 225.0}, \"8\": {\"node_type\": \"metabolite\", \"x\": 680.0, \"y\": 150.0, \"label_x\": 650.0, \"label_y\": 130.0, \"bigg_id\": \"ACETYL_COA_c\", \"name\": \"ACETYL_COA_c\", \"node_is_primary\": false}, \"9\": {\"node_type\": \"metabolite\", \"x\": 680.0, \"y\": 300.0, \"label_x\": 650.0, \"label_y\": 280.0, \"bigg_id\": \"FORMATE_c\", \"name\": \"FORMATE_c\", \"node_is_primary\": false}, \"10\": {\"node_type\": \"metabolite\", \"x\": 1200.0, \"y\": 150.0, \"label_x\": 1170.0, \"label_y\": 130.0, \"bigg_id\": \"CO_A_c\", \"name\": \"CO_A_c\", \"node_is_primary\": false}, \"11\": {\"node_type\": \"metabolite\", \"x\": 1200.0, \"y\": 300.0, \"label_x\": 1170.0, \"label_y\": 280.0, \"bigg_id\": \"PYRUVATE_c\", \"name\": \"PYRUVATE_c\", \"node_is_primary\": false}, \"12\": {\"node_type\": \"multimarker\", \"x\": 985.0, \"y\": 225.0}, \"13\": {\"node_type\": \"midmarker\", \"x\": 1005.0, \"y\": 225.0}, \"14\": {\"node_type\": \"multimarker\", \"x\": 1025.0, \"y\": 225.0}, \"15\": {\"node_type\": \"metabolite\", \"x\": 1330.0, \"y\": 150.0, \"label_x\": 1300.0, \"label_y\": 130.0, \"bigg_id\": \"FORMATE_c\", \"name\": \"FORMATE_c\", \"node_is_primary\": false}, \"16\": {\"node_type\": \"metabolite\", \"x\": 1330.0, \"y\": 300.0, \"label_x\": 1300.0, \"label_y\": 280.0, \"bigg_id\": \"PROTON_c\", \"name\": \"PROTON_c\", \"node_is_primary\": false}, \"17\": {\"node_type\": \"metabolite\", \"x\": 1850.0, \"y\": 150.0, \"label_x\": 1820.0, \"label_y\": 130.0, \"bigg_id\": \"CARBON_DIOXIDE_c\", \"name\": \"CARBON_DIOXIDE_c\", \"node_is_primary\": false}, \"18\": {\"node_type\": \"metabolite\", \"x\": 1850.0, \"y\": 300.0, \"label_x\": 1820.0, \"label_y\": 280.0, \"bigg_id\": \"HYDROGEN_MOLECULE_c\", \"name\": \"HYDROGEN_MOLECULE_c\", \"node_is_primary\": false}, \"19\": {\"node_type\": \"multimarker\", \"x\": 1635.0, \"y\": 225.0}, \"20\": {\"node_type\": \"midmarker\", \"x\": 1655.0, \"y\": 225.0}, \"21\": {\"node_type\": \"multimarker\", \"x\": 1675.0, \"y\": 225.0}}, \"text_labels\": {}, \"canvas\": {\"x\": 0, \"y\": 0, \"width\": 1950, \"height\": 450}}]",
       "_loaded_model_json": null,
       "allow_building_duplicate_reactions": false,
       "and_method_in_gene_reaction_rule": "mean",
       "canvas_size_and_loc": null,
       "cofactors": [
        "atp",
        "adp",
        "nad",
        "nadh",
        "nadp",
        "nadph",
        "gtp",
        "gdp",
        "h",
        "coa",
        "ump",
        "h2o",
        "ppi"
       ],
       "disabled_buttons": [
        "Clear reaction data",
        "Clear gene data",
        "Clear metabolite data"
       ],
       "embedded_css": null,
       "enable_editing": true,
       "enable_keys": false,
       "enable_keys_with_tooltip": true,
       "enable_search": true,
       "enable_tooltips": false,
       "full_screen_button": {
        "enable_editing": true,
        "enable_keys": true,
        "enable_tooltips": [
         "label"
        ],
        "menu": "all",
        "scroll_behavior": "pan"
       },
       "gene_data": null,
       "gene_font_size": 18,
       "height": 500,
       "hide_all_labels": false,
       "hide_secondary_metabolites": false,
       "highlight_missing": false,
       "identifiers_on_map": "bigg_id",
       "layout": "IPY_MODEL_c1b95aea1a89473ea2bbce9d34c1b09b",
       "marker_radius": 5,
       "menu": "all",
       "metabolite_compare_style": "log2_fold",
       "metabolite_data": null,
       "metabolite_no_data_color": "#ffffff",
       "metabolite_no_data_size": 10,
       "metabolite_scale": [
        {
         "color": "#fffaf0",
         "size": 20,
         "type": "min"
        },
        {
         "color": "#f1c470",
         "size": 30,
         "type": "median"
        },
        {
         "color": "#800000",
         "size": 40,
         "type": "max"
        }
       ],
       "metabolite_scale_preset": "WhYlRd",
       "metabolite_styles": [
        "color",
        "size",
        "text"
       ],
       "never_ask_before_quit": false,
       "primary_metabolite_radius": 20,
       "reaction_compare_style": "log2_fold",
       "reaction_data": null,
       "reaction_no_data_color": "#dcdcdc",
       "reaction_no_data_size": 8,
       "reaction_scale": [
        {
         "color": "#c8c8c8",
         "size": 12,
         "type": "min"
        },
        {
         "color": "#9696ff",
         "size": 16,
         "type": "value",
         "value": 0.01
        },
        {
         "color": "#209123",
         "size": 20,
         "type": "value",
         "value": 20
        },
        {
         "color": "#ff0000",
         "size": 25,
         "type": "max"
        }
       ],
       "reaction_scale_preset": "GaBuGeRd",
       "reaction_styles": [
        "text"
       ],
       "scroll_behavior": "none",
       "secondary_metabolite_radius": 10,
       "semantic_zoom": null,
       "show_gene_reaction_rules": false,
       "starting_reaction": null,
       "use_3d_transform": false,
       "zoom_to_element": null
      }
     }
    },
    "version_major": 2,
    "version_minor": 0
   }
  }
 },
 "nbformat": 4,
 "nbformat_minor": 4
}
