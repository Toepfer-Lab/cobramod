{
 "cells": [
  {
   "cell_type": "markdown",
   "metadata": {
    "id": "XV2pICiM740l"
   },
   "source": [
    "# Functions"
   ]
  },
  {
   "cell_type": "code",
   "execution_count": 1,
   "metadata": {
    "colab": {
     "base_uri": "https://localhost:8080/"
    },
    "id": "jObtNBXPw30t",
    "outputId": "00ae3942-af4a-4e90-f0f7-6d3626269813"
   },
   "outputs": [
    {
     "name": "stdout",
     "output_type": "stream",
     "text": [
      "Scaling...\n",
      " A: min|aij| =  1.000e+00  max|aij| =  1.000e+00  ratio =  1.000e+00\n",
      "Problem data seem to be well scaled\n",
      "CobraMod version: 1.0.1-alpha.2\n",
      "COBRApy version: 0.22.1\n"
     ]
    }
   ],
   "source": [
    "from IPython.display import display\n",
    "from cobramod import __version__\n",
    "from cobra import __version__ as cobra_version\n",
    "print(f'CobraMod version: {__version__}')\n",
    "print(f'COBRApy version: {cobra_version}')\n",
    "# From Escher:\n",
    "# This option turns off the warning message if you leave or refresh this page\n",
    "import escher\n",
    "escher.rc['never_ask_before_quit'] = True"
   ]
  },
  {
   "cell_type": "markdown",
   "metadata": {
    "id": "tjphNJOQF7B3"
   },
   "source": [
    "## Retrieving metabolic pathway information\n",
    "\n",
    "CobraMod can retrieve metabolic pathway information (metabolites, reactions or pathways) from various databases by using database-specific identifiers. It supports all databases from the [BioCyc collection](\n",
    "https://biocyc.org/\n",
    "), [Plant Metabolic Network (PMN)](\n",
    "https://pmn.plantcyc.org/\n",
    "), the [KEGG database](\n",
    "https://www.genome.jp/kegg/\n",
    ") and the [BiGG Models repository](\n",
    "http://bigg.ucsd.edu/\n",
    "). Call `cobramod.available_databases` to see all supported databases."
   ]
  },
  {
   "cell_type": "code",
   "execution_count": 2,
   "metadata": {
    "colab": {
     "base_uri": "https://localhost:8080/",
     "height": 339
    },
    "id": "FKwfLSf07408",
    "outputId": "855b34ca-28f5-4a34-bf20-67af248b3155"
   },
   "outputs": [
    {
     "data": {
      "text/html": [
       "<p>CobraMod supports Biocyc, the Plant Metabolic Network (PMN), KEGG and BiGG Models repository. Biocyc includes around 18.000 sub-databases and a complete list for BioCyc can be found at 'https://biocyc.org/biocyc-pgdb-list.shtml'. The database-specific identifiers can be found in the URL of the respective data. For instance, for \"diphosphate\" this is:</p>\n",
       "<table style=\"width: 100%; border-collapse: collapse; float: left;\" border=\"1\">\n",
       "<tbody> <tr> <td style=\"width: 50%;\"> <h3>Database</h3> </td> <td style=\"width:\n",
       "50%;\"> <h3>URL with identifier (bold)</h3> </td> </tr> <tr> <td style=\"width:\n",
       "50%;\">BioCyc, sub-database ECOLI</td> <td style=\"width:\n",
       "50%;\">https://biocyc.org/compound?orgid=ECOLI&amp;id=<strong>PPI</strong></td>\n",
       "</tr> <tr> <td style=\"width: 50%;\">Plant Metabolic Network, sub-database\n",
       "CORN</td> <td style=\"width:\n",
       "50%;\">https://pmn.plantcyc.org/compound?orgid=CORN&amp;id=<strong>PPI</strong></td>\n",
       "</tr> <tr> <td style=\"width: 50%;\">KEGG</td> <td style=\"width:\n",
       "50%;\">https://www.genome.jp/entry/<strong>C00013</strong></td> </tr> <tr> <td\n",
       "style=\"width: 50%;\">BiGG Models Repository, universal model</td> <td\n",
       "style=\"width:\n",
       "50%;\">http://bigg.ucsd.edu/universal/metabolites/<strong>ppi</strong></td>\n",
       "</tr> </tbody> </table> <p>CobraMod uses abbreviations to represent the\n",
       "databases or sub-databases:</p> <table style=\"width: 100%; border-collapse:\n",
       "collapse; float: left;\" border=\"1\"> <tbody> <tr> <td style=\"width: 50%;\">\n",
       "<h3>Database</h3> </td> <td style=\"width: 50%;\"> <h3>Abbreviation</h3> </td>\n",
       "</tr> <tr> <td style=\"width: 50%;\">BioCyc</td> <td style=\"width: 50%;\">META or\n",
       "identifier of sub-database e.g: ECOLI, ARA, GCF_000010885</td> </tr> <tr> <td\n",
       "style=\"width: 50%;\">Plant Metabolic Network</td> <td style=\"width: 50%;\">Prefix\n",
       "\"pmn:\" with the sub-database identifier, e.g pmn:PLANT, pmn:ARA, pmn:CORN</td>\n",
       "</tr> <tr> <td style=\"width: 50%;\">KEGG</td> <td style=\"width: 50%;\">KEGG</td>\n",
       "</tr> <tr> <td style=\"width: 50%;\">BiGG Models Repository</td> <td\n",
       "style=\"width: 50%;\">BIGG</td> </tr> </tbody> </table>\n"
      ],
      "text/plain": [
       "CobraMod supports Biocyc, the Plant Metabolic Network (PMN), KEGG and BiGG Models repository. Biocyc includes around 18.000 sub-databases and a complete list for BioCyc can be found at 'https://biocyc.org/biocyc-pgdb-list.shtml'. The database-specific identifiers can be found in the URL of the respective data. For instance, for \"diphosphate\" this is:\n",
       "\n",
       "BioCyc, sub-database ECOLI -> https://biocyc.org/compound?orgid=ECOLI&id=PPI ->\n",
       "PPI\n",
       "Plant Metabolic Network, sub-database CORN ->\n",
       "https://pmn.plantcyc.org/compound?orgid=CORN&id=PPI -> PPI\n",
       "KEGG ->\n",
       "https://www.genome.jp/entry/C00013 -> C00013\n",
       "BiGG Models Repository,\n",
       "universal model -> http://bigg.ucsd.edu/universal/metabolites/ppi -> ppi\n",
       "\n",
       "CobraMod uses abbreviations to represent the databases or sub-databases:\n",
       "\n",
       "Database -> Abbreviation\n",
       "BioCyc -> META or identifier of sub-database e.g:\n",
       "ECOLI, ARA, GCF_000010885\n",
       "Plant Metabolic Network -> pmn:PLANT or identifier\n",
       "of sub-database e.g pmn:ARA, pmn:CORN\n",
       "KEGG -> KEGG\n",
       "BiGG Models Repository ->\n",
       "BIGG\n",
       "        "
      ]
     },
     "execution_count": 2,
     "metadata": {},
     "output_type": "execute_result"
    }
   ],
   "source": [
    "from cobramod import available_databases\n",
    "                                         \n",
    "available_databases"
   ]
  },
  {
   "cell_type": "markdown",
   "metadata": {
    "id": "t3ADoeWMGqCV"
   },
   "source": [
    "\n",
    "\n",
    "The user can download the metabolic pathway information using the\n",
    "`cobramod.get_data` function. In this example we download information from the BioCyc sub-database YEAST.\n"
   ]
  },
  {
   "cell_type": "code",
   "execution_count": 3,
   "metadata": {
    "id": "RFawmPqO740o"
   },
   "outputs": [],
   "source": [
    "from cobramod import get_data\n",
    "from pathlib import Path\n",
    "\n",
    "dir_data = Path.cwd().resolve().joinpath(\"data\")\n",
    "identifiers = [\n",
    "    \"CPD-14074\",\n",
    "    \"CPD-14075\",\n",
    "    \"CPD-14076\",\n",
    "    \"CPD-14553\",\n",
    "    \"CPD-15317\",\n",
    "    \"CPD-15322\",\n",
    "    \"CPD-15323\",\n",
    "]\n",
    "\n",
    "for metabolite in identifiers:\n",
    "    get_data(\n",
    "        directory=dir_data,\n",
    "        identifier=metabolite,\n",
    "        database=\"YEAST\"\n",
    "    )"
   ]
  },
  {
   "cell_type": "markdown",
   "metadata": {
    "id": "GL14MNJG740q"
   },
   "source": [
    "The first argument in [cobramod.get_data()](\n",
    "module/cobramod/index.html#cobramod.get_data) is the system path where CobraMod stores the metabolic pathway information. CobraMod uses [pathlib](\n",
    "https://docs.python.org/3/library/pathlib.html#pathlib.Path) for path  representation. The second argument is the data identifier used in the respective database. In this example we retrieve data from the BioCyc sub-database `YEAST`. The last argument is the abbreviation of the database. \n",
    "\n",
    "CobraMod creates a directory with the name of the database and stores the metabolic pathway information in it:\n",
    "\n",
    "```\n",
    "data\n",
    "`-- YEAST\n",
    "    |-- CPD-14074.xml\n",
    "    |-- CPD-14075.xml\n",
    "    |-- CPD-14076.xml\n",
    "    |-- CPD-14553.xml\n",
    "    |-- CPD-15317.xml\n",
    "    |-- CPD-15322.xml\n",
    "    `-- CPD-15323.xml\n",
    "```"
   ]
  },
  {
   "cell_type": "markdown",
   "metadata": {
    "id": "CjC8UWKk740t"
   },
   "source": [
    "## Converting stored-data into COBRApy objects\n",
    "\n",
    "CobraMod can convert metabolic pathway information (metabolites and reactions) into COBRApy objects ([cobra.Reaction](\n",
    "  https://cobrapy.readthedocs.io/en/latest/autoapi/cobra/index.html#cobra.Reaction\n",
    ") and [cobra.Metabolite](\n",
    "  https://cobrapy.readthedocs.io/en/latest/autoapi/cobra/index.html#cobra.Metabolite\n",
    ")). It can thus be seamlessly integrated with a COBRApy workflow.\n",
    "\n",
    "The function [cobramod.create_object()](\n",
    "module/cobramod/index.html#cobramod.create_object) creates COBRApy objects from metabolic pathway data retrieved by [cobramod.get_data()](\n",
    "module/cobramod/index.html#cobramod.get_data). If no pathway information was downloaded [cobramod.create_object()]( module/cobramod/index.html#cobramod.create_object) retrieves it automatically.\n",
    "\n",
    "In this example, we convert the metabolite *2-Oxoglutarate* with the\n",
    "KEGG identifier [C00026](\n",
    "https://www.genome.jp/dbget-bin/www_bget?C00026) into a COBRApy object.\n",
    "CobraMod automatically identifies the KEGG entry as a metabolite and converts it into the corresponding COBRApy metabolite.\n",
    "\n",
    "The first argument is the database-specific identifier (`C00026`) followed by\n",
    "the database abbreviation (`KEGG`). The third argument is the path \n",
    "representation for the directory of the metabolic pathway information. CobraMod\n",
    "downloads the data into this directory and utilize it instead of downloading it again. The last argument is the compartment of the reaction (`c` for cytosol)."
   ]
  },
  {
   "cell_type": "code",
   "execution_count": 4,
   "metadata": {
    "colab": {
     "base_uri": "https://localhost:8080/",
     "height": 168
    },
    "id": "s7osopQo740t",
    "outputId": "ee0d87e1-6fca-4cc5-d9fb-709851702f45"
   },
   "outputs": [
    {
     "name": "stdout",
     "output_type": "stream",
     "text": [
      "<class 'cobra.core.metabolite.Metabolite'>\n"
     ]
    },
    {
     "data": {
      "text/html": [
       "\n",
       "        <table>\n",
       "            <tr>\n",
       "                <td><strong>Metabolite identifier</strong></td><td>C00026_c</td>\n",
       "            </tr><tr>\n",
       "                <td><strong>Name</strong></td><td>2-Oxoglutarate;</td>\n",
       "            </tr><tr>\n",
       "                <td><strong>Memory address</strong></td>\n",
       "                <td>0x07f6b4c523ad0</td>\n",
       "            </tr><tr>\n",
       "                <td><strong>Formula</strong></td><td>C5H6O5</td>\n",
       "            </tr><tr>\n",
       "                <td><strong>Compartment</strong></td><td>c</td>\n",
       "            </tr><tr>\n",
       "                <td><strong>In 0 reaction(s)</strong></td><td>\n",
       "                    </td>\n",
       "            </tr>\n",
       "        </table>"
      ],
      "text/plain": [
       "<Metabolite C00026_c at 0x7f6b4c523ad0>"
      ]
     },
     "execution_count": 4,
     "metadata": {},
     "output_type": "execute_result"
    }
   ],
   "source": [
    "from cobramod import create_object\n",
    "from pathlib import Path\n",
    "\n",
    "# Path for the metabolic pathway information directory                                                                        \n",
    "dir_data = Path.cwd().resolve().joinpath(\"data\")\n",
    "\n",
    "new_object = create_object(\n",
    "    identifier=\"C00026\",\n",
    "    database=\"KEGG\",\n",
    "    directory=dir_data,\n",
    "    compartment=\"c\"\n",
    ")\n",
    "                                             \n",
    "print(type(new_object))\n",
    "new_object"
   ]
  },
  {
   "cell_type": "markdown",
   "metadata": {
    "id": "N-0zvhHTJfAz"
   },
   "source": [
    "In the second example, we convert the reaction [RXN-11502](\n",
    "https://pmn.plantcyc.org/CORN/NEW-IMAGE?object=RXN-11502) from the PMN sub-database CORN into a COBRApy reaction. The\n",
    "first argument is the database-specific identifier (`RXN-11502`) followed by\n",
    "the database identifier (`pmn:CORN`). CobraMod automatically takes \n",
    "reversibility and gene information from the database entry and adds it to the reaction object."
   ]
  },
  {
   "cell_type": "code",
   "execution_count": 5,
   "metadata": {
    "colab": {
     "base_uri": "https://localhost:8080/",
     "height": 285
    },
    "id": "60lBmpkt8qtF",
    "outputId": "9f44a82d-450b-4f7c-b45c-5fc64a0c975c"
   },
   "outputs": [
    {
     "name": "stdout",
     "output_type": "stream",
     "text": [
      "<class 'cobra.core.reaction.Reaction'>\n"
     ]
    },
    {
     "data": {
      "text/html": [
       "\n",
       "        <table>\n",
       "            <tr>\n",
       "                <td><strong>Reaction identifier</strong></td><td>RXN_11501_c</td>\n",
       "            </tr><tr>\n",
       "                <td><strong>Name</strong></td><td>alkaline &alpha;- galactosidase</td>\n",
       "            </tr><tr>\n",
       "                <td><strong>Memory address</strong></td>\n",
       "                <td>0x07f6b1ffd1650</td>\n",
       "            </tr><tr>\n",
       "                <td><strong>Stoichiometry</strong></td>\n",
       "                <td>\n",
       "                    <p style='text-align:right'>CPD_170_c + WATER_c --> ALPHA_D_GALACTOSE_c + CPD_1099_c</p>\n",
       "                    <p style='text-align:right'>stachyose + H2O --> alpha-D-galactopyranose + raffinose</p>\n",
       "                </td>\n",
       "            </tr><tr>\n",
       "                <td><strong>GPR</strong></td><td>ZM00001D031300 or ZM00001D031303 or ZM00001D003279</td>\n",
       "            </tr><tr>\n",
       "                <td><strong>Lower bound</strong></td><td>0</td>\n",
       "            </tr><tr>\n",
       "                <td><strong>Upper bound</strong></td><td>1000</td>\n",
       "            </tr>\n",
       "        </table>\n",
       "        "
      ],
      "text/plain": [
       "<Reaction RXN_11501_c at 0x7f6b1ffd1650>"
      ]
     },
     "metadata": {},
     "output_type": "display_data"
    },
    {
     "data": {
      "text/plain": [
       "frozenset({<Gene ZM00001D003279 at 0x7f6b1ff8ad10>,\n",
       "           <Gene ZM00001D031300 at 0x7f6b1ff8acd0>,\n",
       "           <Gene ZM00001D031303 at 0x7f6b1ff8abd0>})"
      ]
     },
     "execution_count": 5,
     "metadata": {},
     "output_type": "execute_result"
    }
   ],
   "source": [
    "new_object = create_object(\n",
    "    identifier=\"RXN-11501\",\n",
    "    database=\"pmn:CORN\",\n",
    "    directory=dir_data,\n",
    "    compartment=\"c\"\n",
    ")\n",
    "                                             \n",
    "print(type(new_object))\n",
    "display(new_object)\n",
    "new_object.genes"
   ]
  },
  {
   "cell_type": "markdown",
   "metadata": {
    "id": "jlw6Vkuy740u"
   },
   "source": [
    "\n",
    "## Adding metabolites\n",
    "\n",
    "The function [cobramod.add_metabolites()](\n",
    "module/cobramod/index.html#cobramod.add_metabolites)\n",
    "extends the COBRApy function [model.add_metabolites()](\n",
    "https://cobrapy.readthedocs.io/en/latest/autoapi/cobra/core/model/index.html#cobra.core.model.Model.add_metabolites\n",
    ") and can be used with a simple syntax. It can utilize a single string, a list of strings, a file path or a COBRAPy metabolite object. In the next\n",
    "examples we showcase these options. We use the *E. coli* core model from COBRApy as test model. This core model can be found under `cobramod.test.textbook`. If the argument `obj` is used as a string, it can be the database-specific identifier of the respective metabolite and its compartment or a user-defined metabolite. It uses the following syntax:\n",
    "\n",
    "------\n",
    "\n",
    "**SYNTAX**  \n",
    "\n",
    "To add metabolite information from a database:\n",
    "\n",
    "    database-specific_identifier, compartment\n",
    "\n",
    "To add user-curated metabolites:\n",
    "\n",
    "    user-curated_identifier, name, compartment, chemical_formula, molecular_charge\n",
    "\n",
    "------\n",
    "\n",
    "In the first example, we add the metabolite *L-methionine* with the MetaCyc\n",
    "identifier [MET](\n",
    "https://metacyc.org/compound?orgid=META&id=MET) to the test model. The first\n",
    "argument is the model name. The argument `obj` contains the identifier\n",
    "`MET` and the compartment `c`. The second argument is the database identifier\n",
    "(`META`) and the third argument is the directory where CobraMod stores the metabolite information.\n"
   ]
  },
  {
   "cell_type": "code",
   "execution_count": 6,
   "metadata": {
    "colab": {
     "base_uri": "https://localhost:8080/",
     "height": 168
    },
    "id": "TgiIWEX3740v",
    "outputId": "bc2a3013-ed4e-4343-c387-33f59b23fc62"
   },
   "outputs": [
    {
     "name": "stdout",
     "output_type": "stream",
     "text": [
      "<class 'cobra.core.metabolite.Metabolite'>\n"
     ]
    },
    {
     "data": {
      "text/html": [
       "\n",
       "        <table>\n",
       "            <tr>\n",
       "                <td><strong>Metabolite identifier</strong></td><td>MET_c</td>\n",
       "            </tr><tr>\n",
       "                <td><strong>Name</strong></td><td>L-methionine</td>\n",
       "            </tr><tr>\n",
       "                <td><strong>Memory address</strong></td>\n",
       "                <td>0x07f6b1f88b490</td>\n",
       "            </tr><tr>\n",
       "                <td><strong>Formula</strong></td><td>C5H11N1O2S1</td>\n",
       "            </tr><tr>\n",
       "                <td><strong>Compartment</strong></td><td>c</td>\n",
       "            </tr><tr>\n",
       "                <td><strong>In 0 reaction(s)</strong></td><td>\n",
       "                    </td>\n",
       "            </tr>\n",
       "        </table>"
      ],
      "text/plain": [
       "<Metabolite MET_c at 0x7f6b1f88b490>"
      ]
     },
     "execution_count": 6,
     "metadata": {},
     "output_type": "execute_result"
    }
   ],
   "source": [
    "from cobramod import add_metabolites\n",
    "from cobramod.test import textbook\n",
    "from pathlib import Path\n",
    "\n",
    "# Path for the metabolic pathway information directory                                                                        \n",
    "dir_data = Path.cwd().resolve().joinpath(\"data\")\n",
    "# Using copy\n",
    "test_model = textbook.copy()\n",
    "\n",
    "add_metabolites(\n",
    "    model=test_model,\n",
    "    obj=\"MET, c\",\n",
    "    database=\"META\",\n",
    "    directory=dir_data,\n",
    ")\n",
    "print(type(test_model.metabolites.get_by_id(\"MET_c\")))\n",
    "test_model.metabolites.get_by_id(\"MET_c\")"
   ]
  },
  {
   "cell_type": "markdown",
   "metadata": {
    "id": "32whoodj740v"
   },
   "source": [
    "In the second example, we add two metabolites ([acetyl-coa](\n",
    "https://metacyc.org/compound?orgid=META&id=ACETYL-COA) and [sucrose](\n",
    "https://metacyc.org/compound?orgid=META&id=SUCROSE\n",
    ")) from MetaCyc. In the argument `obj` we define a list with the database-specific metabolite identifiers and the respecitive compartments. \n",
    "The rest of the arguments remains the same as in the previous example. \n",
    "Before adding a metabolite, CobraMod tests if the given metabolite is already present in the model (potentially with a different identifier) by checking the \n",
    "cross-reference database entries in the metabolite's metadata against the model's metabolite entries. If CobraMod identifies a metabolite as already present in the model it skips adding the metabolite, used the already present one, and prints a warning. "
   ]
  },
  {
   "cell_type": "code",
   "execution_count": 7,
   "metadata": {
    "colab": {
     "base_uri": "https://localhost:8080/",
     "height": 359
    },
    "id": "TOWdeeQD740w",
    "outputId": "d19e1edb-fa69-45bb-db48-a5df2add5d59"
   },
   "outputs": [
    {
     "name": "stderr",
     "output_type": "stream",
     "text": [
      "/home/stefano/Documents/IPK/cobramod/src/cobramod/core/creation.py:179: UserWarning: Metabolite 'ACETYL-COA' was found as 'accoa_c'. Please curate if necessary.\n",
      "  warn(message=msg, category=UserWarning)\n",
      "/home/stefano/Documents/IPK/cobramod/src/cobramod/core/creation.py:1203: UserWarning: Metabolite \"accoa_c\" is already present in the model. Skipping addition.\n",
      "  warn(message=msg, category=UserWarning)\n"
     ]
    },
    {
     "data": {
      "text/html": [
       "\n",
       "        <table>\n",
       "            <tr>\n",
       "                <td><strong>Metabolite identifier</strong></td><td>accoa_c</td>\n",
       "            </tr><tr>\n",
       "                <td><strong>Name</strong></td><td>Acetyl-CoA</td>\n",
       "            </tr><tr>\n",
       "                <td><strong>Memory address</strong></td>\n",
       "                <td>0x07f6b1fb50b90</td>\n",
       "            </tr><tr>\n",
       "                <td><strong>Formula</strong></td><td>C23H34N7O17P3S</td>\n",
       "            </tr><tr>\n",
       "                <td><strong>Compartment</strong></td><td>c</td>\n",
       "            </tr><tr>\n",
       "                <td><strong>In 7 reaction(s)</strong></td><td>\n",
       "                    Biomass_Ecoli_core, MALS, ACALD, PTAr, PDH, CS, PFL</td>\n",
       "            </tr>\n",
       "        </table>"
      ],
      "text/plain": [
       "<Metabolite accoa_c at 0x7f6b1fb50b90>"
      ]
     },
     "metadata": {},
     "output_type": "display_data"
    },
    {
     "data": {
      "text/html": [
       "\n",
       "        <table>\n",
       "            <tr>\n",
       "                <td><strong>Metabolite identifier</strong></td><td>SUCROSE_c</td>\n",
       "            </tr><tr>\n",
       "                <td><strong>Name</strong></td><td>sucrose</td>\n",
       "            </tr><tr>\n",
       "                <td><strong>Memory address</strong></td>\n",
       "                <td>0x07f6b1f884490</td>\n",
       "            </tr><tr>\n",
       "                <td><strong>Formula</strong></td><td>C12H22O11</td>\n",
       "            </tr><tr>\n",
       "                <td><strong>Compartment</strong></td><td>c</td>\n",
       "            </tr><tr>\n",
       "                <td><strong>In 0 reaction(s)</strong></td><td>\n",
       "                    </td>\n",
       "            </tr>\n",
       "        </table>"
      ],
      "text/plain": [
       "<Metabolite SUCROSE_c at 0x7f6b1f884490>"
      ]
     },
     "execution_count": 7,
     "metadata": {},
     "output_type": "execute_result"
    }
   ],
   "source": [
    "add_metabolites(\n",
    "    model=test_model,\n",
    "    obj=[\"ACETYL-COA, c\", \"SUCROSE, c\"],\n",
    "    database=\"META\",\n",
    "    directory=dir_data,\n",
    ")\n",
    "# Show metabolites in jupyter\n",
    "display(test_model.metabolites.get_by_id(\"accoa_c\"))  \n",
    "test_model.metabolites.get_by_id(\"SUCROSE_c\")"
   ]
  },
  {
   "cell_type": "markdown",
   "metadata": {
    "id": "_r-7dIhC740x"
   },
   "source": [
    "In the third example, we use a text file to add metabolites to the test\n",
    "model. We use the file *metabolites.txt* in the current working directory with the following content:\n",
    "\n",
    "    SUCROSE, c  \n",
    "    MET, c  \n",
    "    MALTOSE_c, MALTOSE[c], c, C12H22O11, 1\n",
    "\n",
    "In this example, CobraMod downloads the first two metabolites from MetaCyc, while `MALTOSE_c` is a user-defined metabolite.  The user can specify the path to this file in the `obj` argument. The remaining arguments are the same as in the previous examples. We added two print statements to show that CobraMod adds the metabolites to the model."
   ]
  },
  {
   "cell_type": "code",
   "execution_count": 8,
   "metadata": {
    "colab": {
     "base_uri": "https://localhost:8080/",
     "height": 448
    },
    "id": "YfbHsvk0740x",
    "outputId": "73174ddd-ed32-48b8-85ea-a01cf07b7bb7"
   },
   "outputs": [
    {
     "name": "stdout",
     "output_type": "stream",
     "text": [
      "Number of metabolites prior addition: 72\n",
      "Number of metabolites after addition: 75\n"
     ]
    },
    {
     "data": {
      "text/html": [
       "\n",
       "        <table>\n",
       "            <tr>\n",
       "                <td><strong>Metabolite identifier</strong></td><td>MET_c</td>\n",
       "            </tr><tr>\n",
       "                <td><strong>Name</strong></td><td>L-methionine</td>\n",
       "            </tr><tr>\n",
       "                <td><strong>Memory address</strong></td>\n",
       "                <td>0x07f6b1f8129d0</td>\n",
       "            </tr><tr>\n",
       "                <td><strong>Formula</strong></td><td>C5H11N1O2S1</td>\n",
       "            </tr><tr>\n",
       "                <td><strong>Compartment</strong></td><td>c</td>\n",
       "            </tr><tr>\n",
       "                <td><strong>In 0 reaction(s)</strong></td><td>\n",
       "                    </td>\n",
       "            </tr>\n",
       "        </table>"
      ],
      "text/plain": [
       "<Metabolite MET_c at 0x7f6b1f8129d0>"
      ]
     },
     "metadata": {},
     "output_type": "display_data"
    },
    {
     "data": {
      "text/html": [
       "\n",
       "        <table>\n",
       "            <tr>\n",
       "                <td><strong>Metabolite identifier</strong></td><td>SUCROSE_c</td>\n",
       "            </tr><tr>\n",
       "                <td><strong>Name</strong></td><td>sucrose</td>\n",
       "            </tr><tr>\n",
       "                <td><strong>Memory address</strong></td>\n",
       "                <td>0x07f6b1f83ac10</td>\n",
       "            </tr><tr>\n",
       "                <td><strong>Formula</strong></td><td>C12H22O11</td>\n",
       "            </tr><tr>\n",
       "                <td><strong>Compartment</strong></td><td>c</td>\n",
       "            </tr><tr>\n",
       "                <td><strong>In 0 reaction(s)</strong></td><td>\n",
       "                    </td>\n",
       "            </tr>\n",
       "        </table>"
      ],
      "text/plain": [
       "<Metabolite SUCROSE_c at 0x7f6b1f83ac10>"
      ]
     },
     "metadata": {},
     "output_type": "display_data"
    },
    {
     "data": {
      "text/html": [
       "\n",
       "        <table>\n",
       "            <tr>\n",
       "                <td><strong>Metabolite identifier</strong></td><td>MALTOSE_c</td>\n",
       "            </tr><tr>\n",
       "                <td><strong>Name</strong></td><td>MALTOSE[c]</td>\n",
       "            </tr><tr>\n",
       "                <td><strong>Memory address</strong></td>\n",
       "                <td>0x07f6b1f812f90</td>\n",
       "            </tr><tr>\n",
       "                <td><strong>Formula</strong></td><td>C12H22O11</td>\n",
       "            </tr><tr>\n",
       "                <td><strong>Compartment</strong></td><td>c</td>\n",
       "            </tr><tr>\n",
       "                <td><strong>In 0 reaction(s)</strong></td><td>\n",
       "                    </td>\n",
       "            </tr>\n",
       "        </table>"
      ],
      "text/plain": [
       "<Metabolite MALTOSE_c at 0x7f6b1f812f90>"
      ]
     },
     "execution_count": 8,
     "metadata": {},
     "output_type": "execute_result"
    }
   ],
   "source": [
    "from cobramod.test import textbook_biocyc\n",
    "# Path for the metabolic pathway information directory\n",
    "dir_data = Path.cwd().resolve().joinpath(\"data\")\n",
    "# This is our file\n",
    "file = dir_data.joinpath(\"metabolites.txt\")\n",
    "# Using a copy\n",
    "test_model = textbook_biocyc.copy()\n",
    "\n",
    "print(f'Number of metabolites prior addition: {len(test_model.metabolites)}')\n",
    "# Using CobraMod\n",
    "add_metabolites(\n",
    "    model=test_model,\n",
    "    obj=file,\n",
    "    directory=dir_data,\n",
    "    database=\"META\",\n",
    ")\n",
    "print(f'Number of metabolites after addition: {len(test_model.metabolites)}')\n",
    "# Show metabolites in jupyter\n",
    "display(test_model.metabolites.get_by_id(\"MET_c\"))\n",
    "display(test_model.metabolites.get_by_id(\"SUCROSE_c\"))\n",
    "test_model.metabolites.get_by_id(\"MALTOSE_c\")"
   ]
  },
  {
   "cell_type": "markdown",
   "metadata": {
    "id": "uNbBaakL740x"
   },
   "source": [
    "Since [cobramod.add_metabolites()](\n",
    "module/cobramod/index.html#cobramod.add_metabolites)\n",
    "is an extension of the COBRApy function\n",
    "[model.add_metabolites()](\n",
    "https://cobrapy.readthedocs.io/en/latest/autoapi/cobra/core/model/index.html#cobra.core.model.Model.add_metabolites)\n",
    "the user can also utilize COBRApy metabolites. In the following example, we use a variation of the test model (`textbook_biocyc`) which uses\n",
    "BioCyc metabolite identifiers. We copy a COBRApy metabolite from\n",
    "the test model and add it to the BioCyc test model. "
   ]
  },
  {
   "cell_type": "code",
   "execution_count": 9,
   "metadata": {
    "colab": {
     "base_uri": "https://localhost:8080/",
     "height": 147
    },
    "id": "KN5D_mmH740z",
    "outputId": "baf6af12-a652-46f9-9cee-595910561544"
   },
   "outputs": [
    {
     "data": {
      "text/html": [
       "\n",
       "        <table>\n",
       "            <tr>\n",
       "                <td><strong>Metabolite identifier</strong></td><td>xu5p__D_c</td>\n",
       "            </tr><tr>\n",
       "                <td><strong>Name</strong></td><td>D-Xylulose 5-phosphate</td>\n",
       "            </tr><tr>\n",
       "                <td><strong>Memory address</strong></td>\n",
       "                <td>0x07f6b1fd415d0</td>\n",
       "            </tr><tr>\n",
       "                <td><strong>Formula</strong></td><td>C5H9O8P</td>\n",
       "            </tr><tr>\n",
       "                <td><strong>Compartment</strong></td><td>c</td>\n",
       "            </tr><tr>\n",
       "                <td><strong>In 3 reaction(s)</strong></td><td>\n",
       "                    TKT2, RPE, TKT1</td>\n",
       "            </tr>\n",
       "        </table>"
      ],
      "text/plain": [
       "<Metabolite xu5p__D_c at 0x7f6b1fd415d0>"
      ]
     },
     "execution_count": 9,
     "metadata": {},
     "output_type": "execute_result"
    }
   ],
   "source": [
    "from cobramod import add_metabolites\n",
    "from cobramod.test import textbook, textbook_biocyc\n",
    "                        \n",
    "# Copying Metabolite from original model\n",
    "metabolite = textbook.metabolites.get_by_id(\"xu5p__D_c\")\n",
    "# Using a copy\n",
    "test_model = textbook_biocyc.copy()\n",
    "add_metabolites(\n",
    "    model=test_model,\n",
    "    obj=metabolite\n",
    ")\n",
    "                                                               \n",
    "test_model.metabolites.get_by_id(\"xu5p__D_c\")"
   ]
  },
  {
   "cell_type": "markdown",
   "metadata": {
    "id": "P6oD20PKuJYu"
   },
   "source": [
    "If CobraMod detects large molecules (e.g.  enzymes) or if the metabolite information does not include a chemical formula the user receives a warning. In this example, we use the enzyme with the MetaCyc identifier `Red-NADPH-Hemoprotein-Reductases` and add it to the test model. CobraMod raises a warning due to the missing chemical formula."
   ]
  },
  {
   "cell_type": "code",
   "execution_count": 10,
   "metadata": {
    "colab": {
     "base_uri": "https://localhost:8080/",
     "height": 208
    },
    "id": "z3WOnVwEuJi2",
    "outputId": "f5853e43-11de-41b4-d80b-6c7e21dd034f"
   },
   "outputs": [
    {
     "name": "stderr",
     "output_type": "stream",
     "text": [
      "/home/stefano/Documents/IPK/cobramod/src/cobramod/parsing/biocyc.py:79: UserWarning: Sum formula for the metabolite \"Red-NADPH-Hemoprotein-Reductases\" from BioCyc could not be found. Formula set to \"X\" and charge to 0. Please curate.\n",
      "  warn(msg)\n"
     ]
    },
    {
     "data": {
      "text/html": [
       "\n",
       "        <table>\n",
       "            <tr>\n",
       "                <td><strong>Metabolite identifier</strong></td><td>Red_NADPH_Hemoprotein_Reductases_c</td>\n",
       "            </tr><tr>\n",
       "                <td><strong>Name</strong></td><td>Red-NADPH-Hemoprotein-Reductases</td>\n",
       "            </tr><tr>\n",
       "                <td><strong>Memory address</strong></td>\n",
       "                <td>0x07f6b1ffcd810</td>\n",
       "            </tr><tr>\n",
       "                <td><strong>Formula</strong></td><td>X</td>\n",
       "            </tr><tr>\n",
       "                <td><strong>Compartment</strong></td><td>c</td>\n",
       "            </tr><tr>\n",
       "                <td><strong>In 0 reaction(s)</strong></td><td>\n",
       "                    </td>\n",
       "            </tr>\n",
       "        </table>"
      ],
      "text/plain": [
       "<Metabolite Red_NADPH_Hemoprotein_Reductases_c at 0x7f6b1ffcd810>"
      ]
     },
     "execution_count": 10,
     "metadata": {},
     "output_type": "execute_result"
    }
   ],
   "source": [
    "# Using a copy\n",
    "test_model = textbook.copy()\n",
    "\n",
    "add_metabolites(\n",
    "    model=test_model,\n",
    "    obj=\"Red-NADPH-Hemoprotein-Reductases, c\",\n",
    "    directory=dir_data,\n",
    "    database=\"META\",\n",
    ")\n",
    "test_model.metabolites.get_by_id(\"Red_NADPH_Hemoprotein_Reductases_c\")"
   ]
  },
  {
   "cell_type": "markdown",
   "metadata": {
    "id": "7OCkus3m740z"
   },
   "source": [
    "----------------\n",
    "\n",
    "**NOTES**\n",
    "\n",
    "- CobraMod replaces hyphens (`-`) with underscores (`_`) in the identifiers when\n",
    "creating COBRApy metabolites.\n",
    "- When adding several metabolites the user can only specify one database identifier (It is not possible to use two databases within the same\n",
    "function call) or alternatively can call the function twice.\n",
    "- CobraMod saves the curation process to the file `debug.log`.\n",
    "\n",
    "----------------\n",
    "\n",
    "## Adding reactions\n",
    "\n",
    "The function [cobramod.add_reactions()](\n",
    "module/cobramod/index.html#cobramod.add_reactions) extends the COBRApy\n",
    "function [model.add_reactions()](\n",
    "https://cobrapy.readthedocs.io/en/latest/autoapi/cobra/index.html?highlight=optimize#cobra.Model.add_reactions\n",
    ") and can be used with a simple syntax. It can utilize a single string, a \n",
    "list of string, a file path or a COBRApy reaction object. In the next examples \n",
    "we showcase these options. Again, we use the *E. coli* core model from COBRApy \n",
    "as test model. \n",
    " \n",
    "If the argument `obj` is used as a string, it can be the\n",
    "database-specific identifier of the respective reaction and its\n",
    "compartment or a user-defined reaction. It uses the following syntax:\n",
    "\n",
    "--------\n",
    "\n",
    "**SYNTAX**  \n",
    "\n",
    "To add reaction information from a database:\n",
    "\n",
    "    database-specific_identifier, compartment\n",
    "\n",
    "To add user-defined reactions (curated-reactions), the user can specify the identifier and name of the reaction following the [COBRApy reaction string syntax](\n",
    "  https://cobrapy.readthedocs.io/en/latest/autoapi/cobra/core/reaction/index.html#cobra.core.reaction.Reaction.build_reaction_from_string\n",
    "):\n",
    "\n",
    "    user-curated_identifier, name | coefficient_1 metabolite_1 <-> coefficient_2 metabolite_2\n",
    "\n",
    "Metabolites must contain a suffix which specifies the compartment. This is given by an underscore (`_`) followed by the compartment-abbreviation. In this example, we create a transport reaction for oxygen between the external comparment \n",
    "(`e`) and the cytosol (`c`): \n",
    "\n",
    "    TRANS_H2O_ec, Oxygen Transport | 2 OXYGEN-MOLECULE_e <-> 2 OXYGEN_MOLECULE_c\n",
    "\n",
    "-------\n",
    "\n",
    "In the first example, we add the BIGG reaction [AKGDH](\n",
    "  http://bigg.ucsd.edu/universal/reactions/AKGDH\n",
    ") to a test model. This time we use a text model which is a variaton of the original core model and uses KEGG identifiers (`textbook_kegg`). The first argument is the model name. The `obj` argument takes the identifier `AKGDH` and the compartment `c`. The next argument is the database identifier (`BIGG`) and the last argument is the directory where CobraMod stores and retrieves the metabolic pathway information from. The argument `model_id` is a BIGG-specific argument. Please read the notes below for more information. \n",
    " \n",
    "Because the test model uses KEGG identifiers, CobraMod finds the reaction `AKGDH` with the KEGG identifier `R08549_c`."
   ]
  },
  {
   "cell_type": "code",
   "execution_count": 11,
   "metadata": {
    "colab": {
     "base_uri": "https://localhost:8080/",
     "height": 326
    },
    "id": "Gcf5g4dB740z",
    "outputId": "eb539f60-e053-491a-851e-a6e2ffb7ed88"
   },
   "outputs": [
    {
     "name": "stderr",
     "output_type": "stream",
     "text": [
      "/home/stefano/Documents/IPK/cobramod/src/cobramod/parsing/bigg.py:226: UserWarning: Reaction \"AKGDH\" from BIGG set to reversible. Please modify if necessary.\n",
      "  warn(message=msg, category=UserWarning)\n",
      "/home/stefano/Documents/IPK/cobramod/src/cobramod/core/creation.py:372: UserWarning: Reaction 'AKGDH' was found as 'R08549_c'. Please curate if necessary\n",
      "  warn(message=msg, category=UserWarning)\n",
      "/home/stefano/Documents/IPK/cobramod/src/cobramod/core/creation.py:1329: UserWarning: Reaction \"R08549_c\" is already present in the model. Skipping addition.\n",
      "  warn(message=msg, category=UserWarning)\n"
     ]
    },
    {
     "data": {
      "text/html": [
       "\n",
       "        <table>\n",
       "            <tr>\n",
       "                <td><strong>Reaction identifier</strong></td><td>R08549_c</td>\n",
       "            </tr><tr>\n",
       "                <td><strong>Name</strong></td><td>2-Oxogluterate dehydrogenase</td>\n",
       "            </tr><tr>\n",
       "                <td><strong>Memory address</strong></td>\n",
       "                <td>0x07f6b04e33ed0</td>\n",
       "            </tr><tr>\n",
       "                <td><strong>Stoichiometry</strong></td>\n",
       "                <td>\n",
       "                    <p style='text-align:right'>C00003_c + C00010_c + C00026_c --> C00004_c + C00011_c + C00091_c</p>\n",
       "                    <p style='text-align:right'>Nicotinamide adenine dinucleotide + Coenzyme A + 2-Oxoglutarate --> Nicotinamide adenine dinucleotide - reduced + CO2 + Succinyl-CoA</p>\n",
       "                </td>\n",
       "            </tr><tr>\n",
       "                <td><strong>GPR</strong></td><td>b0726 and b0116 and b0727</td>\n",
       "            </tr><tr>\n",
       "                <td><strong>Lower bound</strong></td><td>0.0</td>\n",
       "            </tr><tr>\n",
       "                <td><strong>Upper bound</strong></td><td>1000.0</td>\n",
       "            </tr>\n",
       "        </table>\n",
       "        "
      ],
      "text/plain": [
       "<Reaction R08549_c at 0x7f6b04e33ed0>"
      ]
     },
     "metadata": {},
     "output_type": "display_data"
    }
   ],
   "source": [
    "from cobramod.test import textbook_kegg\n",
    "from cobramod import add_reactions\n",
    "from pathlib import Path\n",
    "                                                           \n",
    "dir_data = Path.cwd().resolve().joinpath(\"data\")\n",
    "# Using copy\n",
    "test_model = textbook_kegg.copy()\n",
    "\n",
    "add_reactions(\n",
    "    model=test_model,\n",
    "    obj=\"AKGDH, c\",\n",
    "    database=\"BIGG\",\n",
    "    directory=dir_data,\n",
    "    model_id=\"e_coli_core\"\n",
    ")\n",
    "                                                           \n",
    "display(test_model.reactions.get_by_id(\"R08549_c\"))"
   ]
  },
  {
   "cell_type": "markdown",
   "metadata": {
    "id": "DgOH_6OQ740z"
   },
   "source": [
    "In the second example, we add two reactions ([R00315](\n",
    "  https://www.kegg.jp/entry/R00315\n",
    ") and [R02736](\n",
    "  https://www.kegg.jp/entry/R02736\n",
    " )) from KEGG. The argument\n",
    "`obj` is a list with the database-specific identifiers and the respective \n",
    "compartments of the reactions. The majority of the arguments remains the same \n",
    "as in the previous example. The argument `genome` is a KEGG-specific argument.\n",
    "Please read the notes below for more information.\n",
    "\n",
    "CobraMod parses the reaction information for gene identifiers and automatically adds them to the COBRApy reaction. In this example, CobraMod creates the genes\n",
    "`2296`, `b3115` and `b1849`, and adds it to the first reaction `R00315`."
   ]
  },
  {
   "cell_type": "code",
   "execution_count": 12,
   "metadata": {
    "colab": {
     "base_uri": "https://localhost:8080/",
     "height": 452
    },
    "id": "5hC8-O3v740z",
    "outputId": "658cdf0e-804f-4f9f-a452-20eed21996ba"
   },
   "outputs": [
    {
     "name": "stderr",
     "output_type": "stream",
     "text": [
      "/home/stefano/Documents/IPK/cobramod/src/cobramod/core/creation.py:1329: UserWarning: Reaction \"R00315_c\" is already present in the model. Skipping addition.\n",
      "  warn(message=msg, category=UserWarning)\n"
     ]
    },
    {
     "data": {
      "text/html": [
       "\n",
       "        <table>\n",
       "            <tr>\n",
       "                <td><strong>Reaction identifier</strong></td><td>R00315_c</td>\n",
       "            </tr><tr>\n",
       "                <td><strong>Name</strong></td><td>acetate kinase</td>\n",
       "            </tr><tr>\n",
       "                <td><strong>Memory address</strong></td>\n",
       "                <td>0x07f6b04e33d50</td>\n",
       "            </tr><tr>\n",
       "                <td><strong>Stoichiometry</strong></td>\n",
       "                <td>\n",
       "                    <p style='text-align:right'>C00002_c + C00033_c <=> C00227_c + G11113_c</p>\n",
       "                    <p style='text-align:right'>ATP + Acetate <=> Acetyl phosphate + ADP</p>\n",
       "                </td>\n",
       "            </tr><tr>\n",
       "                <td><strong>GPR</strong></td><td>b2296 or b3115 or b1849</td>\n",
       "            </tr><tr>\n",
       "                <td><strong>Lower bound</strong></td><td>-1000.0</td>\n",
       "            </tr><tr>\n",
       "                <td><strong>Upper bound</strong></td><td>1000.0</td>\n",
       "            </tr>\n",
       "        </table>\n",
       "        "
      ],
      "text/plain": [
       "<Reaction R00315_c at 0x7f6b04e33d50>"
      ]
     },
     "metadata": {},
     "output_type": "display_data"
    },
    {
     "name": "stdout",
     "output_type": "stream",
     "text": [
      "frozenset({<Gene b3115 at 0x7f6b04e3b290>, <Gene b2296 at 0x7f6b04e3b350>, <Gene b1849 at 0x7f6b04e3b2d0>})\n"
     ]
    },
    {
     "data": {
      "text/html": [
       "\n",
       "        <table>\n",
       "            <tr>\n",
       "                <td><strong>Reaction identifier</strong></td><td>R02736_c</td>\n",
       "            </tr><tr>\n",
       "                <td><strong>Name</strong></td><td>beta-D-glucose-6-phosphate:NADP+ 1-oxoreductase</td>\n",
       "            </tr><tr>\n",
       "                <td><strong>Memory address</strong></td>\n",
       "                <td>0x07f6b04ec6b50</td>\n",
       "            </tr><tr>\n",
       "                <td><strong>Stoichiometry</strong></td>\n",
       "                <td>\n",
       "                    <p style='text-align:right'>C00006_c + C01172_c --> C00005_c + C00080_c + C01236_c</p>\n",
       "                    <p style='text-align:right'>Nicotinamide adenine dinucleotide phosphate + beta-D-Glucose 6-phosphate --> Nicotinamide adenine dinucleotide phosphate - reduced + H+ + 6-phospho-D-glucono-1,5-lactone</p>\n",
       "                </td>\n",
       "            </tr><tr>\n",
       "                <td><strong>GPR</strong></td><td>c2265</td>\n",
       "            </tr><tr>\n",
       "                <td><strong>Lower bound</strong></td><td>0</td>\n",
       "            </tr><tr>\n",
       "                <td><strong>Upper bound</strong></td><td>1000</td>\n",
       "            </tr>\n",
       "        </table>\n",
       "        "
      ],
      "text/plain": [
       "<Reaction R02736_c at 0x7f6b04ec6b50>"
      ]
     },
     "execution_count": 12,
     "metadata": {},
     "output_type": "execute_result"
    }
   ],
   "source": [
    "add_reactions(\n",
    "    model=test_model,\n",
    "    obj=[\"R00315, c\", \"R02736 ,c\"],\n",
    "    directory=dir_data,\n",
    "    database=\"KEGG\",\n",
    "    genome=\"ecc\"\n",
    ")\n",
    "                                                            \n",
    "display(test_model.reactions.get_by_id(\"R00315_c\"))\n",
    "print(test_model.reactions.get_by_id(\"R00315_c\").genes)\n",
    "test_model.reactions.get_by_id(\"R02736_c\")"
   ]
  },
  {
   "cell_type": "markdown",
   "metadata": {
    "id": "GYPUKYn27400"
   },
   "source": [
    "In the following example, we use a text file to add reactions to the test model. To this end, we use the file *reactions.txt* in the current working directory. This file has the following content:\n",
    "\n",
    "    R04382, c  \n",
    "    R02736, c  \n",
    "    C06118_ce, digalacturonate transport | 1 C06118_c <-> 1 C06118_e\n",
    "\n",
    "CobraMod downloads the first two reactions from KEGG.  `C06118_ce` is a user-defined reaction.\n",
    "The user can specify the file path in the `obj` argument. The next arguments are the same as in the previous examples. We added two print statements to show that CobraMod adds\n",
    "the reaction to the model."
   ]
  },
  {
   "cell_type": "code",
   "execution_count": 13,
   "metadata": {
    "colab": {
     "base_uri": "https://localhost:8080/",
     "height": 619
    },
    "id": "KGb5w8FO7400",
    "outputId": "4b38496a-2c78-4e21-f0cc-f83831202076"
   },
   "outputs": [
    {
     "name": "stdout",
     "output_type": "stream",
     "text": [
      "Number of reactions prior addition: 95\n",
      "Number of reactions after addition: 98\n"
     ]
    },
    {
     "data": {
      "text/html": [
       "\n",
       "        <table>\n",
       "            <tr>\n",
       "                <td><strong>Reaction identifier</strong></td><td>R04382_c</td>\n",
       "            </tr><tr>\n",
       "                <td><strong>Name</strong></td><td>4-(4-deoxy-alpha-D-galact-4-enuronosyl)-D-galacturonate lyase</td>\n",
       "            </tr><tr>\n",
       "                <td><strong>Memory address</strong></td>\n",
       "                <td>0x07f6b04d2e850</td>\n",
       "            </tr><tr>\n",
       "                <td><strong>Stoichiometry</strong></td>\n",
       "                <td>\n",
       "                    <p style='text-align:right'>C06118_c <=> 2.0 C04053_c</p>\n",
       "                    <p style='text-align:right'>4-(4-Deoxy-alpha-D-gluc-4-enuronosyl)-D-galacturonate; <=> 2.0 5-Dehydro-4-deoxy-D-glucuronate;</p>\n",
       "                </td>\n",
       "            </tr><tr>\n",
       "                <td><strong>GPR</strong></td><td>c0319</td>\n",
       "            </tr><tr>\n",
       "                <td><strong>Lower bound</strong></td><td>-1000</td>\n",
       "            </tr><tr>\n",
       "                <td><strong>Upper bound</strong></td><td>1000</td>\n",
       "            </tr>\n",
       "        </table>\n",
       "        "
      ],
      "text/plain": [
       "<Reaction R04382_c at 0x7f6b04d2e850>"
      ]
     },
     "metadata": {},
     "output_type": "display_data"
    },
    {
     "data": {
      "text/html": [
       "\n",
       "        <table>\n",
       "            <tr>\n",
       "                <td><strong>Reaction identifier</strong></td><td>R02736_c</td>\n",
       "            </tr><tr>\n",
       "                <td><strong>Name</strong></td><td>beta-D-glucose-6-phosphate:NADP+ 1-oxoreductase</td>\n",
       "            </tr><tr>\n",
       "                <td><strong>Memory address</strong></td>\n",
       "                <td>0x07f6b04d6b350</td>\n",
       "            </tr><tr>\n",
       "                <td><strong>Stoichiometry</strong></td>\n",
       "                <td>\n",
       "                    <p style='text-align:right'>C00006_c + C01172_c --> C00005_c + C00080_c + C01236_c</p>\n",
       "                    <p style='text-align:right'>Nicotinamide adenine dinucleotide phosphate + beta-D-Glucose 6-phosphate --> Nicotinamide adenine dinucleotide phosphate - reduced + H+ + 6-phospho-D-glucono-1,5-lactone</p>\n",
       "                </td>\n",
       "            </tr><tr>\n",
       "                <td><strong>GPR</strong></td><td>c2265</td>\n",
       "            </tr><tr>\n",
       "                <td><strong>Lower bound</strong></td><td>0</td>\n",
       "            </tr><tr>\n",
       "                <td><strong>Upper bound</strong></td><td>1000</td>\n",
       "            </tr>\n",
       "        </table>\n",
       "        "
      ],
      "text/plain": [
       "<Reaction R02736_c at 0x7f6b04d6b350>"
      ]
     },
     "metadata": {},
     "output_type": "display_data"
    },
    {
     "data": {
      "text/html": [
       "\n",
       "        <table>\n",
       "            <tr>\n",
       "                <td><strong>Reaction identifier</strong></td><td>C06118_ce</td>\n",
       "            </tr><tr>\n",
       "                <td><strong>Name</strong></td><td>digalacturonate transport</td>\n",
       "            </tr><tr>\n",
       "                <td><strong>Memory address</strong></td>\n",
       "                <td>0x07f6b04cf2ad0</td>\n",
       "            </tr><tr>\n",
       "                <td><strong>Stoichiometry</strong></td>\n",
       "                <td>\n",
       "                    <p style='text-align:right'>C06118_c <=> C06118_e</p>\n",
       "                    <p style='text-align:right'>4-(4-Deoxy-alpha-D-gluc-4-enuronosyl)-D-galacturonate; <=> 4-(4-Deoxy-alpha-D-gluc-4-enuronosyl)-D-galacturonate;</p>\n",
       "                </td>\n",
       "            </tr><tr>\n",
       "                <td><strong>GPR</strong></td><td></td>\n",
       "            </tr><tr>\n",
       "                <td><strong>Lower bound</strong></td><td>-1000</td>\n",
       "            </tr><tr>\n",
       "                <td><strong>Upper bound</strong></td><td>1000</td>\n",
       "            </tr>\n",
       "        </table>\n",
       "        "
      ],
      "text/plain": [
       "<Reaction C06118_ce at 0x7f6b04cf2ad0>"
      ]
     },
     "execution_count": 13,
     "metadata": {},
     "output_type": "execute_result"
    }
   ],
   "source": [
    "from cobramod.test import textbook_kegg\n",
    "from cobramod import add_reactions\n",
    "from pathlib import Path\n",
    "                                                                     \n",
    "dir_data = Path.cwd().resolve().joinpath(\"data\")\n",
    "test_model = textbook_kegg.copy()\n",
    "# This is the file with text\n",
    "file = dir_data.joinpath(\"reactions.txt\")\n",
    "\n",
    "print(f'Number of reactions prior addition: {len(test_model.reactions)}')\n",
    "                                                                     \n",
    "add_reactions(\n",
    "    model=test_model,\n",
    "    obj=file,\n",
    "    directory=dir_data,\n",
    "    database=\"KEGG\",\n",
    "    genome=\"ecc\"\n",
    ")\n",
    "\n",
    "print(f'Number of reactions after addition: {len(test_model.reactions)}')\n",
    "# Show in jupyter\n",
    "display(test_model.reactions.get_by_id(\"R04382_c\"))\n",
    "display(test_model.reactions.get_by_id(\"R02736_c\"))\n",
    "test_model.reactions.get_by_id(\"C06118_ce\")"
   ]
  },
  {
   "cell_type": "markdown",
   "metadata": {
    "id": "4ywVo8-X7400"
   },
   "source": [
    "Since [cobramod.add_reactions()](\n",
    "module/cobramod/index.html#cobramod.add_reactions\n",
    ") is an extension of the original COBRApy function\n",
    "[model.add_reactions()](https://cobrapy.readthedocs.io/en/latest/autoapi/cobra/index.html?highlight=optimize#cobra.Model.add_reactions) the user can also\n",
    "utilize COBRApy reactions. In this example, we use the test model\n",
    "(`textbook_kegg`). We copy a COBRApy reaction from the test model and add it to the KEGG test model."
   ]
  },
  {
   "cell_type": "code",
   "execution_count": 14,
   "metadata": {
    "colab": {
     "base_uri": "https://localhost:8080/",
     "height": 245
    },
    "id": "BheNVhsz7401",
    "outputId": "c5ac2718-3707-4456-b407-4f1459ff3f26"
   },
   "outputs": [
    {
     "name": "stderr",
     "output_type": "stream",
     "text": [
      "/home/stefano/Documents/IPK/cobramod/src/cobramod/core/creation.py:1329: UserWarning: Reaction \"ACALDt\" is already present in the model. Skipping addition.\n",
      "  warn(message=msg, category=UserWarning)\n"
     ]
    },
    {
     "data": {
      "text/html": [
       "\n",
       "        <table>\n",
       "            <tr>\n",
       "                <td><strong>Reaction identifier</strong></td><td>ACALDt</td>\n",
       "            </tr><tr>\n",
       "                <td><strong>Name</strong></td><td>R acetaldehyde reversible - transport</td>\n",
       "            </tr><tr>\n",
       "                <td><strong>Memory address</strong></td>\n",
       "                <td>0x07f6b04e3d550</td>\n",
       "            </tr><tr>\n",
       "                <td><strong>Stoichiometry</strong></td>\n",
       "                <td>\n",
       "                    <p style='text-align:right'>C00084_e <=> C00084_c</p>\n",
       "                    <p style='text-align:right'>Acetaldehyde <=> Acetaldehyde</p>\n",
       "                </td>\n",
       "            </tr><tr>\n",
       "                <td><strong>GPR</strong></td><td>s0001</td>\n",
       "            </tr><tr>\n",
       "                <td><strong>Lower bound</strong></td><td>-1000.0</td>\n",
       "            </tr><tr>\n",
       "                <td><strong>Upper bound</strong></td><td>1000.0</td>\n",
       "            </tr>\n",
       "        </table>\n",
       "        "
      ],
      "text/plain": [
       "<Reaction ACALDt at 0x7f6b04e3d550>"
      ]
     },
     "execution_count": 14,
     "metadata": {},
     "output_type": "execute_result"
    }
   ],
   "source": [
    "from cobramod.test import textbook_kegg, textbook\n",
    "from cobramod import add_reactions\n",
    "from pathlib import Path\n",
    "\n",
    "# Using copy of test model\n",
    "test_model = textbook_kegg.copy()\n",
    "# Obtaining a reaction\n",
    "reaction = textbook.reactions.get_by_id(\"ACALDt\")\n",
    "                                                                  \n",
    "add_reactions(model=test_model, obj=reaction)\n",
    "\n",
    "test_model.reactions.get_by_id(\"ACALDt\")"
   ]
  },
  {
   "cell_type": "markdown",
   "metadata": {
    "id": "1SkvGCvLnK-9"
   },
   "source": [
    " By default, COBRApy ignores metabolites that appear on\n",
    "both sides of a reaction equation. CobraMod identifies such reactions and assigns one of these metabolites to the extracellular compartment and raises a\n",
    "warning suggesting manual curation. In the following example, we\n",
    "add a [transport reaction for acetic acid](\n",
    "https://biocyc.org/META/new-image?object=TRANS-RXN-455\n",
    ") from BioCyc sub-database `YEAST` to the test model."
   ]
  },
  {
   "cell_type": "code",
   "execution_count": 15,
   "metadata": {
    "colab": {
     "base_uri": "https://localhost:8080/",
     "height": 265
    },
    "id": "IA2OwzjmbeZJ",
    "outputId": "0f6c64c2-c5d2-47bc-b752-bffed576b0b0"
   },
   "outputs": [
    {
     "name": "stderr",
     "output_type": "stream",
     "text": [
      "/home/stefano/Documents/IPK/cobramod/src/cobramod/core/creation.py:437: UserWarning: Reaction \"TRANS_RXN_455_c\" has metabolite \"CPD_24335_e\" on both sides of the equation (e.g transport reaction). COBRApy ignores these metabolites. To avoid this, by default, CobraMod will assign one metabolite to the extracellular compartment. Please curate the reaction if necessary.\n",
      "  warn(message=msg, category=UserWarning)\n"
     ]
    },
    {
     "data": {
      "text/html": [
       "\n",
       "        <table>\n",
       "            <tr>\n",
       "                <td><strong>Reaction identifier</strong></td><td>TRANS_RXN_455_c</td>\n",
       "            </tr><tr>\n",
       "                <td><strong>Name</strong></td><td>acetic acid uptake</td>\n",
       "            </tr><tr>\n",
       "                <td><strong>Memory address</strong></td>\n",
       "                <td>0x07f6b04dde990</td>\n",
       "            </tr><tr>\n",
       "                <td><strong>Stoichiometry</strong></td>\n",
       "                <td>\n",
       "                    <p style='text-align:right'>CPD_24335_e --> CPD_24335_c</p>\n",
       "                    <p style='text-align:right'>acetic+acid --> acetic+acid</p>\n",
       "                </td>\n",
       "            </tr><tr>\n",
       "                <td><strong>GPR</strong></td><td>G3O-32144</td>\n",
       "            </tr><tr>\n",
       "                <td><strong>Lower bound</strong></td><td>0</td>\n",
       "            </tr><tr>\n",
       "                <td><strong>Upper bound</strong></td><td>1000</td>\n",
       "            </tr>\n",
       "        </table>\n",
       "        "
      ],
      "text/plain": [
       "<Reaction TRANS_RXN_455_c at 0x7f6b04dde990>"
      ]
     },
     "execution_count": 15,
     "metadata": {},
     "output_type": "execute_result"
    }
   ],
   "source": [
    "test_model = textbook_kegg.copy()\n",
    "                                                           \n",
    "add_reactions(\n",
    "    model=test_model,\n",
    "    obj=\"TRANS-RXN-455, c\",\n",
    "    database=\"YEAST\",\n",
    "    directory=dir_data,\n",
    ")\n",
    "# Show in jupyter\n",
    "test_model.reactions.get_by_id(\"TRANS_RXN_455_c\")"
   ]
  },
  {
   "cell_type": "markdown",
   "metadata": {
    "id": "0DzULV_Q7401"
   },
   "source": [
    "---\n",
    "\n",
    "**NOTES**\n",
    "\n",
    "- CobraMod replaces hyphens (`-`) to underscores (`_`) in the identifiers\n",
    "when creating COBRApy reactions.\n",
    "- When adding several reactions the user can only specify one database\n",
    "identifier (It is not possible to use two databases within the same function call) or alternatively can call the function twice.\n",
    "- CobraMod tries to identify if a given metabolites or reactions are already present in the model and used those instead of adding redundant entries.\n",
    "- CobraMod saves the curation process to the file `debug.log`.\n",
    "- The argument `model_id` is specific for the BiGG Models repository. CobraMod\n",
    "can download metabolite and reaction information directly from the BIGG models. A list of all models can be found [here](\n",
    "http://bigg.ucsd.edu/models/\n",
    ").\n",
    "- The argument `genome` can be used with the database `KEGG` and specifies the genome for which gene information will be retrieved. The complete list of all available genomes can be found [here](\n",
    "https://www.genome.jp/kegg/catalog/org_list.html).\n",
    "If no genome is specified, no gene information will be retrieved and\n",
    "a warning is printed as shown below:"
   ]
  },
  {
   "cell_type": "code",
   "execution_count": 16,
   "metadata": {
    "colab": {
     "base_uri": "https://localhost:8080/",
     "height": 265
    },
    "id": "CvDMHPAP7401",
    "outputId": "5b0afb2e-e9fe-4acf-b13d-1c101ab18d8a"
   },
   "outputs": [
    {
     "name": "stderr",
     "output_type": "stream",
     "text": [
      "/home/stefano/Documents/IPK/cobramod/src/cobramod/parsing/kegg.py:214: UserWarning: Nothing was specified in argument \"genome\". Reaction \"R04382\" will not include genes. Please modify if necessary.\n",
      "  warn(message=msg, category=UserWarning)\n"
     ]
    },
    {
     "data": {
      "text/html": [
       "\n",
       "        <table>\n",
       "            <tr>\n",
       "                <td><strong>Reaction identifier</strong></td><td>R04382_c</td>\n",
       "            </tr><tr>\n",
       "                <td><strong>Name</strong></td><td>4-(4-deoxy-alpha-D-galact-4-enuronosyl)-D-galacturonate lyase</td>\n",
       "            </tr><tr>\n",
       "                <td><strong>Memory address</strong></td>\n",
       "                <td>0x07f6b04c43c90</td>\n",
       "            </tr><tr>\n",
       "                <td><strong>Stoichiometry</strong></td>\n",
       "                <td>\n",
       "                    <p style='text-align:right'>C06118_c <=> 2.0 C04053_c</p>\n",
       "                    <p style='text-align:right'>4-(4-Deoxy-alpha-D-gluc-4-enuronosyl)-D-galacturonate; <=> 2.0 5-Dehydro-4-deoxy-D-glucuronate;</p>\n",
       "                </td>\n",
       "            </tr><tr>\n",
       "                <td><strong>GPR</strong></td><td></td>\n",
       "            </tr><tr>\n",
       "                <td><strong>Lower bound</strong></td><td>-1000</td>\n",
       "            </tr><tr>\n",
       "                <td><strong>Upper bound</strong></td><td>1000</td>\n",
       "            </tr>\n",
       "        </table>\n",
       "        "
      ],
      "text/plain": [
       "<Reaction R04382_c at 0x7f6b04c43c90>"
      ]
     },
     "execution_count": 16,
     "metadata": {},
     "output_type": "execute_result"
    }
   ],
   "source": [
    "test_model = textbook_kegg.copy()\n",
    "                                                           \n",
    "add_reactions(\n",
    "    model=test_model,\n",
    "    obj=\"R04382, c\",\n",
    "    database=\"KEGG\",\n",
    "    directory=dir_data,\n",
    ")\n",
    "test_model.reactions.get_by_id(\"R04382_c\")"
   ]
  },
  {
   "cell_type": "markdown",
   "metadata": {
    "id": "pbG8COs37402"
   },
   "source": [
    "---\n",
    "\n",
    "## Adding pathways\n",
    " \n",
    "CobraMod can add metabolic pathways to a given model. The function\n",
    "[cobramod.add_pathway()](\n",
    "module/cobramod/index.html#cobramod.add_pathway) takes as an argument either a sequence \n",
    "of database-specific reaction identifiers or a single pathway identifier. \n",
    "CobraMod download the pathway information from the databases, creates the\n",
    "COBRApy objects and prints a short summary about the curation process when adding the respective pathway. Additionally, to ensure reproducibility and for  tracking the curation process, the user can write changes to file. CobraMod creates the object [cobramod.Pathway](\n",
    "module/cobramod/index.html#cobramod.Pathway\n",
    ") which contains the pathway information. \n",
    "\n",
    "When adding serveral pathways, we recommend adding pathways one-by-one to perform neccessary curation steps inbetween. In the examples below we showcase two options. Again, we use the *E. coli* core model from COBRApy\n",
    "as test model.\n",
    "\n",
    "In the first example, we add the [acetoacetate degradation pathway](\n",
    "https://biocyc.org/ECOLI/new-image?object=ACETOACETATE-DEG-PWY\n",
    ") from the BioCyc sub-database `ECOLI` to the test model. This pathway contains two reactions and six metabolites.\n",
    "\n",
    "<img src=\"https://websvc.biocyc.org/ECOLI/diagram-only?type=PATHWAY&object=ACETOACETATE-DEG-PWY&pfontsize=normal\"/>\n",
    "\n"
   ]
  },
  {
   "cell_type": "markdown",
   "metadata": {
    "id": "Ek9jKTGcx5Bq"
   },
   "source": [
    "In this example, the first argument is the model to extend. The `pathway` argument uses the database-specific identifier `ACETOACETATE-DEG-PWY` and the database identifier `ECOLI`. We define the compartment as `c` (cytosol), i.e. all metabolites and reactions will be assigned to this compartment.\n",
    "\n",
    "\n",
    "The argument `filename` specifies a file to which a summary of the changes is written. Additionally, [add_pathway()](\n",
    "  module/cobramod/index.html#cobramod.add_pathway\n",
    ") prints a summary of the changes to the model. Calling the respective\n",
    "[cobramod.Pathway](\n",
    "module/cobramod/index.html#cobramod.Pathway\n",
    ") outputs a table with the main attributes of the object.\n",
    "\n",
    "All COBRApy reactions of the pathway are tested for their capacity to cary a non-zero flux. Read more about it in the\n",
    "[non-zero flux test](#Non-zero-flux-test) section. \n",
    "\n"
   ]
  },
  {
   "cell_type": "code",
   "execution_count": 17,
   "metadata": {
    "colab": {
     "base_uri": "https://localhost:8080/",
     "height": 611
    },
    "id": "L3kAPVwz7403",
    "outputId": "91059607-28d6-405c-93bf-3fcb5dc4ddf2"
   },
   "outputs": [
    {
     "name": "stdout",
     "output_type": "stream",
     "text": [
      "Number of       new   | removed entities in\n",
      "*=====================|===================*\n",
      "Reactions        2    |    0              \n",
      "Metabolites      2    |    0              \n",
      "Exchange         0    |    0              \n",
      "Demand           0    |    0              \n",
      "Sinks            3    |    0              \n",
      "Genes            4    |    0              \n",
      "Groups           1    |    0              \n",
      "\n"
     ]
    },
    {
     "name": "stderr",
     "output_type": "stream",
     "text": [
      "/home/stefano/Documents/IPK/cobramod/src/cobramod/core/creation.py:179: UserWarning: Metabolite 'ACET' was found as 'ac_c'. Please curate if necessary.\n",
      "  warn(message=msg, category=UserWarning)\n",
      "/home/stefano/Documents/IPK/cobramod/src/cobramod/core/creation.py:179: UserWarning: Metabolite 'CO-A' was found as 'coa_c'. Please curate if necessary.\n",
      "  warn(message=msg, category=UserWarning)\n",
      "/home/stefano/Documents/IPK/cobramod/src/cobramod/core/extension.py:221: UserWarning: The model cannot turnover the following metabolites ['ACETOACETYL_COA_c', '3_KETOBUTYRATE_c', 'accoa_c']. To overcome this, sink reactions were created to simulate their synthesis.\n",
      "  warn(msg)\n",
      "/home/stefano/Documents/IPK/cobramod/src/cobramod/core/extension.py:418: UserWarning: Auxiliary sink reaction for \"SK_ACETOACETYL_COA_c\" created. Consider removing it and adding the synthesis reactions for the metabolite.\n",
      "  warn(message=msg, category=UserWarning)\n",
      "/home/stefano/Documents/IPK/cobramod/src/cobramod/core/extension.py:418: UserWarning: Auxiliary sink reaction for \"SK_3_KETOBUTYRATE_c\" created. Consider removing it and adding the synthesis reactions for the metabolite.\n",
      "  warn(message=msg, category=UserWarning)\n",
      "/home/stefano/Documents/IPK/cobramod/src/cobramod/core/extension.py:418: UserWarning: Auxiliary sink reaction for \"SK_accoa_c\" created. Consider removing it and adding the synthesis reactions for the metabolite.\n",
      "  warn(message=msg, category=UserWarning)\n"
     ]
    },
    {
     "data": {
      "text/html": [
       "\n",
       "<table> <tbody> <tr> <td><strong>Pathway identifier</strong></td>\n",
       "<td>ACETOACETATE-DEG-PWY</td> </tr> <tr> <td><strong>Name</strong></td>\n",
       "<td></td> </tr> <tr> <td><strong>Memory address</strong></td>\n",
       "<td>0x0140097618110928</td> </tr> <tr> <td><strong>Reactions involved</strong></td>\n",
       "<td> <p>ACETOACETYL_COA_TRANSFER_RXN_c, ACETYL_COA_ACETYLTRANSFER_RXN_c</p> </td> </tr> <tr>\n",
       "<td><strong>Genes involved<br /></strong></td> <td> <p>EG12432, EG11670, EG11669, EG11672</p> </td> </tr> <tr>\n",
       "<td><strong>Visualization attributes</strong></td> <td> <ul> <li>vertical =\n",
       "False</li> <li>color_negative = None</li>\n",
       "<li>color_positive = None</li> <li>color_quantile =\n",
       "False</li> </ul> </td> </tr> </tbody> </table> <p>&nbsp;</p>\n"
      ],
      "text/plain": [
       "<Pathway ACETOACETATE-DEG-PWY at 0x7f6b04c2e9d0>"
      ]
     },
     "execution_count": 17,
     "metadata": {},
     "output_type": "execute_result"
    }
   ],
   "source": [
    "from pathlib import Path\n",
    "from cobramod import add_pathway\n",
    "from cobramod.test import textbook\n",
    "# Defining directory\n",
    "dir_data = Path.cwd().resolve().joinpath(\"data\")\n",
    "                                   \n",
    "# Using copy of test model\n",
    "test_model = textbook.copy()\n",
    "\n",
    "add_pathway(\n",
    "    model=test_model,\n",
    "    pathway=\"ACETOACETATE-DEG-PWY\",\n",
    "    database=\"ECOLI\",\n",
    "    compartment=\"c\",\n",
    "    filename=\"summary.txt\",\n",
    "    directory=dir_data,\n",
    ")\n",
    "\n",
    "# Display in jupyter\n",
    "test_model.groups.get_by_id(\"ACETOACETATE-DEG-PWY\")"
   ]
  },
  {
   "cell_type": "markdown",
   "metadata": {
    "id": "37naM0897403"
   },
   "source": [
    "Below is an example of the summary in form of a text file. The first\n",
    "part lists names of all reactions, metabolites, exchange reactions,\n",
    "auxiliary demand and sink reactions, genes, and groups in the model. The second part of the summary lists all elements that were added or removed by the function call `add_pathway()`. "
   ]
  },
  {
   "cell_type": "code",
   "execution_count": 18,
   "metadata": {
    "colab": {
     "base_uri": "https://localhost:8080/"
    },
    "id": "JYMb89t77404",
    "outputId": "37259cb5-0935-48dc-a76c-7da0430cd146"
   },
   "outputs": [
    {
     "name": "stdout",
     "output_type": "stream",
     "text": [
      "Summary:\r\n",
      "Model identifier: e_coli_core\r\n",
      "Model name:\r\n",
      "\r\n",
      "Reactions:\r\n",
      "['ACALD', 'ACALDt', 'ACKr', 'ACONTa', 'ACONTb', 'ACt2r', 'ADK1', 'AKGDH', 'AKGt2r', 'ALCD2x', 'ATPM', 'ATPS4r', 'Biomass_Ecoli_core', 'CO2t', 'CS', 'CYTBD', 'D_LACt2', 'ENO', 'ETOHt2r', 'FBA', 'FBP', 'FORt2', 'FORti', 'FRD7', 'FRUpts2', 'FUM', 'FUMt2_2', 'G6PDH2r', 'GAPD', 'GLCpts', 'GLNS', 'GLNabc', 'GLUDy', 'GLUN', 'GLUSy', 'GLUt2r', 'GND', 'H2Ot', 'ICDHyr', 'ICL', 'LDH_D', 'MALS', 'MALt2_2', 'MDH', 'ME1', 'ME2', 'NADH16', 'NADTRHD', 'NH4t', 'O2t', 'PDH', 'PFK', 'PFL', 'PGI', 'PGK', 'PGL', 'PGM', 'PIt2r', 'PPC', 'PPCK', 'PPS', 'PTAr', 'PYK', 'PYRt2', 'RPE', 'RPI', 'SUCCt2_2', 'SUCCt3', 'SUCDi', 'SUCOAS', 'TALA', 'THD2', 'TKT1', 'TKT2', 'TPI', 'ACETOACETYL_COA_TRANSFER_RXN_c', 'ACETYL_COA_ACETYLTRANSFER_RXN_c']\r\n",
      "Metabolites:\r\n",
      "['13dpg_c', '2pg_c', '3pg_c', '6pgc_c', '6pgl_c', 'ac_c', 'ac_e', 'acald_c', 'acald_e', 'accoa_c', 'acon_C_c', 'actp_c', 'adp_c', 'akg_c', 'akg_e', 'amp_c', 'atp_c', 'cit_c', 'co2_c', 'co2_e', 'coa_c', 'dhap_c', 'e4p_c', 'etoh_c', 'etoh_e', 'f6p_c', 'fdp_c', 'for_c', 'for_e', 'fru_e', 'fum_c', 'fum_e', 'g3p_c', 'g6p_c', 'glc__D_e', 'gln__L_c', 'gln__L_e', 'glu__L_c', 'glu__L_e', 'glx_c', 'h2o_c', 'h2o_e', 'h_c', 'h_e', 'icit_c', 'lac__D_c', 'lac__D_e', 'mal__L_c', 'mal__L_e', 'nad_c', 'nadh_c', 'nadp_c', 'nadph_c', 'nh4_c', 'nh4_e', 'o2_c', 'o2_e', 'oaa_c', 'pep_c', 'pi_c', 'pi_e', 'pyr_c', 'pyr_e', 'q8_c', 'q8h2_c', 'r5p_c', 'ru5p__D_c', 's7p_c', 'succ_c', 'succ_e', 'succoa_c', 'xu5p__D_c', '3_KETOBUTYRATE_c', 'ACETOACETYL_COA_c']\r\n",
      "Exchange:\r\n",
      "['EX_ac_e', 'EX_acald_e', 'EX_akg_e', 'EX_co2_e', 'EX_etoh_e', 'EX_for_e', 'EX_fru_e', 'EX_fum_e', 'EX_glc__D_e', 'EX_gln__L_e', 'EX_glu__L_e', 'EX_h_e', 'EX_h2o_e', 'EX_lac__D_e', 'EX_mal__L_e', 'EX_nh4_e', 'EX_o2_e', 'EX_pi_e', 'EX_pyr_e', 'EX_succ_e']\r\n",
      "Demand:\r\n",
      "[]\r\n",
      "Sinks:\r\n",
      "['SK_ACETOACETYL_COA_c', 'SK_3_KETOBUTYRATE_c', 'SK_accoa_c']\r\n",
      "Genes:\r\n",
      "['b1241', 'b0351', 's0001', 'b3115', 'b1849', 'b2296', 'b1276', 'b0118', 'b0474', 'b0116', 'b0726', 'b0727', 'b2587', 'b0356', 'b1478', 'b3735', 'b3733', 'b3734', 'b3732', 'b3736', 'b3738', 'b3731', 'b3737', 'b3739', 'b0720', 'b0733', 'b0979', 'b0978', 'b0734', 'b2975', 'b3603', 'b2779', 'b1773', 'b2925', 'b2097', 'b4232', 'b3925', 'b0904', 'b2492', 'b4154', 'b4152', 'b4153', 'b4151', 'b1819', 'b1817', 'b2415', 'b1818', 'b2416', 'b1611', 'b4122', 'b1612', 'b3528', 'b1852', 'b1779', 'b1621', 'b1101', 'b2417', 'b3870', 'b1297', 'b0809', 'b0810', 'b0811', 'b1761', 'b1524', 'b1812', 'b0485', 'b3213', 'b3212', 'b4077', 'b2029', 'b0875', 'b1136', 'b4015', 'b2133', 'b1380', 'b4014', 'b2976', 'b3236', 'b1479', 'b2463', 'b2286', 'b2279', 'b2276', 'b2280', 'b2288', 'b2284', 'b2287', 'b2281', 'b2277', 'b2285', 'b2282', 'b2278', 'b2283', 'b3962', 'b1602', 'b1603', 'b0451', 'b0114', 'b0115', 'b3916', 'b1723', 'b0902', 'b0903', 'b2579', 'b3114', 'b3952', 'b3951', 'b4025', 'b2926', 'b0767', 'b0755', 'b3612', 'b4395', 'b3493', 'b2987', 'b3956', 'b3403', 'b1702', 'b2297', 'b2458', 'b1676', 'b1854', 'b4301', 'b3386', 'b2914', 'b4090', 'b0722', 'b0724', 'b0721', 'b0723', 'b0728', 'b0729', 'b2464', 'b0008', 'b2935', 'b2465', 'b3919', 'EG12432', 'EG11670', 'EG11669', 'EG11672']\r\n",
      "Groups:\r\n",
      "['ACETOACETATE-DEG-PWY']\r\n",
      "\r\n",
      "New:\r\n",
      "Reactions:\r\n",
      "['ACETOACETYL_COA_TRANSFER_RXN_c', 'ACETYL_COA_ACETYLTRANSFER_RXN_c']\r\n",
      "Metabolites:\r\n",
      "['3_KETOBUTYRATE_c', 'ACETOACETYL_COA_c']\r\n",
      "Exchange:\r\n",
      "[]\r\n",
      "Demand:\r\n",
      "[]\r\n",
      "Sinks:\r\n",
      "['SK_ACETOACETYL_COA_c', 'SK_3_KETOBUTYRATE_c', 'SK_accoa_c']\r\n",
      "Genes:\r\n",
      "['EG12432', 'EG11670', 'EG11669', 'EG11672']\r\n",
      "Groups:\r\n",
      "['ACETOACETATE-DEG-PWY']\r\n",
      "\r\n",
      "Removed:\r\n",
      "Reactions:\r\n",
      "[]\r\n",
      "Metabolites:\r\n",
      "[]\r\n",
      "Exchange:\r\n",
      "[]\r\n",
      "Demand:\r\n",
      "[]\r\n",
      "Sinks:\r\n",
      "[]\r\n",
      "Genes:\r\n",
      "[]\r\n",
      "Groups:\r\n",
      "[]\r\n",
      "\r\n"
     ]
    }
   ],
   "source": [
    "%cat summary.txt"
   ]
  },
  {
   "cell_type": "markdown",
   "metadata": {
    "id": "5E3kqIV17406"
   },
   "source": [
    "In the next example, we use a list of database-specific reaction identifiers as `pathway` argument. We use the database identifier `ECOLI` and the\n",
    "compartment `c` (cytosol). Additionally, we define a pathway name by using the argument `group`. The user can also use this argument to merge pathways by using the same group names."
   ]
  },
  {
   "cell_type": "code",
   "execution_count": 19,
   "metadata": {
    "colab": {
     "base_uri": "https://localhost:8080/",
     "height": 651
    },
    "id": "DXh3EVxU7406",
    "outputId": "7d42e371-ed9e-4617-8ab4-bf38d08daad0"
   },
   "outputs": [
    {
     "name": "stderr",
     "output_type": "stream",
     "text": [
      "/home/stefano/Documents/IPK/cobramod/src/cobramod/core/creation.py:179: UserWarning: Metabolite 'ATP' was found as 'ATP_c'. Please curate if necessary.\n",
      "  warn(message=msg, category=UserWarning)\n"
     ]
    },
    {
     "name": "stdout",
     "output_type": "stream",
     "text": [
      "Number of reaction prior addition: 95\n",
      "Number of       new   | removed entities in\n",
      "*=====================|===================*\n",
      "Reactions        3    |    0              \n",
      "Metabolites      2    |    0              \n",
      "Exchange         0    |    0              \n",
      "Demand           0    |    0              \n",
      "Sinks            2    |    0              \n",
      "Genes           11    |    0              \n",
      "Groups           1    |    0              \n",
      "\n",
      "Number of reactions after addition: 100\n"
     ]
    },
    {
     "name": "stderr",
     "output_type": "stream",
     "text": [
      "/home/stefano/Documents/IPK/cobramod/src/cobramod/core/creation.py:179: UserWarning: Metabolite 'ADP' was found as 'ADP_c'. Please curate if necessary.\n",
      "  warn(message=msg, category=UserWarning)\n",
      "/home/stefano/Documents/IPK/cobramod/src/cobramod/core/extension.py:418: UserWarning: Auxiliary sink reaction for \"SK_FORMATE_c\" created. Consider removing it and adding the synthesis reactions for the metabolite.\n",
      "  warn(message=msg, category=UserWarning)\n",
      "/home/stefano/Documents/IPK/cobramod/src/cobramod/core/extension.py:418: UserWarning: Auxiliary sink reaction for \"SK_HYDROGEN_MOLECULE_c\" created. Consider removing it and adding the synthesis reactions for the metabolite.\n",
      "  warn(message=msg, category=UserWarning)\n"
     ]
    },
    {
     "data": {
      "text/html": [
       "\n",
       "<table> <tbody> <tr> <td><strong>Pathway identifier</strong></td>\n",
       "<td>curated_pathway</td> </tr> <tr> <td><strong>Name</strong></td>\n",
       "<td></td> </tr> <tr> <td><strong>Memory address</strong></td>\n",
       "<td>0x0140097616405328</td> </tr> <tr> <td><strong>Reactions involved</strong></td>\n",
       "<td> <p>PEPDEPHOS_RXN_c, PYRUVFORMLY_RXN_c, FHLMULTI_RXN_c</p> </td> </tr> <tr>\n",
       "<td><strong>Genes involved<br /></strong></td> <td> <p>EG10803, EG10804, EG10701, G7627, EG10476, EG10285, EG10477, EG10475, EG10479, EG10480, EG10478</p> </td> </tr> <tr>\n",
       "<td><strong>Visualization attributes</strong></td> <td> <ul> <li>vertical =\n",
       "False</li> <li>color_negative = None</li>\n",
       "<li>color_positive = None</li> <li>color_quantile =\n",
       "False</li> </ul> </td> </tr> </tbody> </table> <p>&nbsp;</p>\n"
      ],
      "text/plain": [
       "<Pathway curated_pathway at 0x7f6b04a8e350>"
      ]
     },
     "execution_count": 19,
     "metadata": {},
     "output_type": "execute_result"
    }
   ],
   "source": [
    "from pathlib import Path\n",
    "from cobramod import add_pathway\n",
    "from cobramod.test import textbook_biocyc\n",
    "# Defining directory\n",
    "dir_data = Path.cwd().resolve().joinpath(\"data\")\n",
    "\n",
    "test_model = textbook_biocyc.copy()\n",
    "# Defining database-specific identifiers\n",
    "sequence = [\"PEPDEPHOS-RXN\", \"PYRUVFORMLY-RXN\", \"FHLMULTI-RXN\"]\n",
    "                                                                \n",
    "print(f'Number of reaction prior addition: {len(test_model.reactions)}')\n",
    "                                                                \n",
    "add_pathway(\n",
    "    model=test_model,\n",
    "    pathway=sequence,\n",
    "    directory=dir_data,\n",
    "    database=\"ECOLI\",\n",
    "    compartment=\"c\",\n",
    "    group=\"curated_pathway\"\n",
    ")\n",
    "\n",
    "print(f'Number of reactions after addition: {len(test_model.reactions)}')\n",
    "# Display in jupyter\n",
    "test_model.groups.get_by_id(\"curated_pathway\")"
   ]
  },
  {
   "cell_type": "markdown",
   "metadata": {
    "id": "wYJWosLv7407"
   },
   "source": [
    "--------------------\n",
    "\n",
    "**NOTES**\n",
    "\n",
    "- A pathway is a set of COBRApy reactions. All the notes listed for `add_metabolites()` and `add_reactions()` also apply to pathways, i. e., handling of duplicate elements, transport reactions and the argument `genome` for KEGG.\n",
    "- CobraMod saves the curation process to the file `debug.log`.\n",
    "\n",
    "--------------------\n"
   ]
  },
  {
   "cell_type": "markdown",
   "metadata": {
    "id": "WZ78z82Mgbdl"
   },
   "source": [
    "## Non-zero flux test\n",
    "\n",
    "When calling the function `add_pathway()`, CobraMod tests each reaction of the `Pathway` object for its capability to carry a non-zero flux, i.e., if the involved metabolites can be turned over. Additionally, the user can test individual COBRApy reactions for their capability to cary a non-zero flux by using the function [cobramod.test_non_zero_flux()](\n",
    "module/cobramod/index.html#cobramod.test_non_zero_flux\n",
    ").\n",
    "When running `add_pathway()` CobraMod tries to maximize (minimize if operating backwards) the flux through the tested reaction. If the flux is below [solver tolerance](\n",
    "https://cobrapy.readthedocs.io/en/latest/autoapi/cobra/index.html?highlight=tolerance#cobra.Configuration.tolerance ) CobraMod adds auxiliary\n",
    "[sink reactions](\n",
    "  https://cobrapy.readthedocs.io/en/latest/building_model.html#Exchanges,-Sinks-and-Demands\n",
    ") to all metabolites participating in the reaction and subsequently remove them one by one if the respective metabolites can be turned over by reactions in the model. CobraMod then raises a warning about the remaining auxiliary sink reactions.\n",
    "\n",
    " Based on this information the user can then manually curate the model and if necessary add the missing synthesis reactions for the respective metabolites.\n",
    "If a reaction passes the test CobraMod prints a short message that the test was sucessfully passed.\n",
    "\n",
    "\n",
    "The user can also use the argument `ignore_list` when adding a pathway to skip\n",
    "the non-zero-flux test for the specified reactions.\n",
    "\n",
    "In the following artifical example (*E. coli* is a prokaryote without compartmentation), we introduce the glutathione synthase reaction (`GLUTATHIONE-SYN-RXN`) into a new comparment (`x`) and test the reaction for its capability to carry a non-zero flux. This reaction has the following equation:\n",
    "\n",
    "    ATP_x + GLY_x + L_GAMMA_GLUTAMYLCYSTEINE_x --> ADP_x + GLUTATHIONE_x + PROTON_x + Pi_x\n",
    "\n",
    "Because we are testing a reaction in a new, empty compartment, CobraMod creates auxiliary sink reactions for the involved metabolites and prints a warning."
   ]
  },
  {
   "cell_type": "code",
   "execution_count": 20,
   "metadata": {
    "colab": {
     "base_uri": "https://localhost:8080/",
     "height": 1000
    },
    "id": "1eLXkls4qmph",
    "outputId": "95c55f6a-fcfe-402a-aa7e-ad0e07532f36"
   },
   "outputs": [
    {
     "name": "stdout",
     "output_type": "stream",
     "text": [
      "Reaction GLUTATHIONE_SYN_RXN_x passed the non-zero-flux test.\n"
     ]
    },
    {
     "name": "stderr",
     "output_type": "stream",
     "text": [
      "/home/stefano/Documents/IPK/cobramod/src/cobramod/core/extension.py:418: UserWarning: Auxiliary sink reaction for \"SK_GLY_x\" created. Consider removing it and adding the synthesis reactions for the metabolite.\n",
      "  warn(message=msg, category=UserWarning)\n",
      "/home/stefano/Documents/IPK/cobramod/src/cobramod/core/extension.py:418: UserWarning: Auxiliary sink reaction for \"SK_GLUTATHIONE_x\" created. Consider removing it and adding the synthesis reactions for the metabolite.\n",
      "  warn(message=msg, category=UserWarning)\n",
      "/home/stefano/Documents/IPK/cobramod/src/cobramod/core/extension.py:418: UserWarning: Auxiliary sink reaction for \"SK_L_GAMMA_GLUTAMYLCYSTEINE_x\" created. Consider removing it and adding the synthesis reactions for the metabolite.\n",
      "  warn(message=msg, category=UserWarning)\n",
      "/home/stefano/Documents/IPK/cobramod/src/cobramod/core/extension.py:418: UserWarning: Auxiliary sink reaction for \"SK_ATP_x\" created. Consider removing it and adding the synthesis reactions for the metabolite.\n",
      "  warn(message=msg, category=UserWarning)\n",
      "/home/stefano/Documents/IPK/cobramod/src/cobramod/core/extension.py:418: UserWarning: Auxiliary sink reaction for \"SK_PROTON_x\" created. Consider removing it and adding the synthesis reactions for the metabolite.\n",
      "  warn(message=msg, category=UserWarning)\n",
      "/home/stefano/Documents/IPK/cobramod/src/cobramod/core/extension.py:418: UserWarning: Auxiliary sink reaction for \"SK_Pi_x\" created. Consider removing it and adding the synthesis reactions for the metabolite.\n",
      "  warn(message=msg, category=UserWarning)\n",
      "/home/stefano/Documents/IPK/cobramod/src/cobramod/core/extension.py:418: UserWarning: Auxiliary sink reaction for \"SK_ADP_x\" created. Consider removing it and adding the synthesis reactions for the metabolite.\n",
      "  warn(message=msg, category=UserWarning)\n"
     ]
    }
   ],
   "source": [
    "from cobramod import test_non_zero_flux, add_reactions\n",
    "from cobramod.test import textbook_biocyc\n",
    "\n",
    "test_model = textbook_biocyc.copy()\n",
    "\n",
    "# Adding the reaction into the test model\n",
    "add_reactions(\n",
    "    model=test_model,\n",
    "    # The list has 4 reactions\n",
    "    obj=[\"GLUTATHIONE-SYN-RXN, x\"],\n",
    "    directory=dir_data,\n",
    "    database=\"ECOLI\",\n",
    ")\n",
    "# Running test for GLUTATHIONE_SYN_RXN_x\n",
    "test_non_zero_flux(\n",
    "    model=test_model,\n",
    "    reaction=\"GLUTATHIONE_SYN_RXN_x\",\n",
    ")\n"
   ]
  },
  {
   "cell_type": "markdown",
   "metadata": {
    "id": "XMVGghQRW0dt"
   },
   "source": [
    "## Curation process\n",
    "\n",
    "CobraMod automatically performs the following curation steps during the creation of COBRApy reaction and metabolite objects and CobraMod \n",
    "pathway objects:\n",
    "\n",
    "\n",
    "1. If CobraMod encounters biochemical information (e.g. reactions or metabolites) with missing formulas or entries, a warning is printed and CobraMod informs the user about the missing\n",
    "data. For instance, CobraMod assigns an \"X\" to metabolites with missing\n",
    "formulas.\n",
    "2. When adding a metabolite, reaction or pathway to the model, CobraMod tries\n",
    "to identify if these elements are already present in the model (potentially with a different name) and use the exiting elements instead of creating redundant ones (by checking the cross-reference database entries in the elements's metadata against the model entries).\n",
    "  - In the case of user-defined, curated reactions CobraMod tries to find the respecitive metabolites in the model. If a metabolites is not found, a warning is printed and the metabolite is created with \"X\" as chemical formula.\n",
    "3. When adding metabolites, reactions or pathways,`  CobraMod queries [MetaNetX](\n",
    "  https://www.metanetx.org/) and [PubChem](\n",
    "    https://pubchem.ncbi.nlm.nih.gov/) to find cross-references and adds the information\n",
    "  to the corresponding Reactions and Metabolites (See Using the automatic cross-reference expansion in the documentation).\n",
    "4. CobraMod utilizes the COBRApy method [cobra.Reaction.check_mass_balance()](\n",
    "https://cobrapy.readthedocs.io/en/latest/autoapi/cobra/core/reaction/index.html#cobra.core.reaction.Reaction.check_mass_balance \n",
    ") and returns a warning if mass imbalances are found. \n",
    "5. CobraMod uses the reaction reversibility information provided with the obtained reaction data. If the reversibility information is missing, CobraMod raises a warning.\n",
    "6. When CobraMod adds a pathway, each pathway reaction undergos a *non-zero flux test*. If a reaction cannot carry a non-zero flux, CobraMod adds\n",
    "auxiliary sink reactions to unblock the reaction and suggests manual curation steps based on these auxiliary modifications. (See Non-zero flux test in the documentation).\n",
    "7. CobraMod offers the function `add_crossreferences` which queries the genome annotation database [MetaNetX](https://www.metanetx.org/) to adds the missing meta-data about the cross-references."
   ]
  },
  {
   "cell_type": "markdown",
   "metadata": {
    "id": "lndble907408"
   },
   "source": [
    "## Converting COBRApy groups back to CobraMod pathways \n",
    "\n",
    "The COBRApy function [cobra.io.write_sbml_model()](\n",
    "  https://cobrapy.readthedocs.io/en/latest/autoapi/cobra/io/index.html#cobra.io.write_sbml_model\n",
    ") writes cobra models to sbml files. If the user calls this function with a model that contains [cobramod.Pathway](\n",
    "module/cobramod/index.html#cobramod.Pathway\n",
    ") elements these will be saved as [COBRApy Group](\n",
    "  https://cobrapy.readthedocs.io/en/latest/autoapi/cobra/core/group/index.html#cobra.core.group.Group\n",
    ") elements and the CobraMod pathway objects are lost. To convert COBRApy groups back to CobraMod pathways (and use the associated functionalities), the user can call the function [cobramod.model_convert()](\n",
    "module/cobramod/core/pathway/index.html#cobramod.core.pathway.model_convert\n",
    "). In the following example, we create a `Group` with four reactions and add it to the model.\n",
    "We then use the [cobramod.model_convert()](\n",
    "module/cobramod/core/pathway/index.html#cobramod.core.pathway.model_convert\n",
    ") function with the argument `model` and can then call the newly converted respective CobraMod pathway objects."
   ]
  },
  {
   "cell_type": "code",
   "execution_count": 21,
   "metadata": {
    "colab": {
     "base_uri": "https://localhost:8080/",
     "height": 265
    },
    "id": "wu5oKFEe7408",
    "outputId": "82260219-afe0-4dc9-a764-aabd7aa22e41"
   },
   "outputs": [
    {
     "data": {
      "text/html": [
       "\n",
       "<table> <tbody> <tr> <td><strong>Pathway identifier</strong></td>\n",
       "<td>curated_pathway</td> </tr> <tr> <td><strong>Name</strong></td>\n",
       "<td></td> </tr> <tr> <td><strong>Memory address</strong></td>\n",
       "<td>0x0140097614471504</td> </tr> <tr> <td><strong>Reactions involved</strong></td>\n",
       "<td> <p>GLCpts, G6PDH2r, PGL, GND</p> </td> </tr> <tr>\n",
       "<td><strong>Genes involved<br /></strong></td> <td> <p>b2416, b1101, b1817, b1819, b2417, b1818, b1621, b2415, b1852, b0767, b2029</p> </td> </tr> <tr>\n",
       "<td><strong>Visualization attributes</strong></td> <td> <ul> <li>vertical =\n",
       "False</li> <li>color_negative = None</li>\n",
       "<li>color_positive = None</li> <li>color_quantile =\n",
       "False</li> </ul> </td> </tr> </tbody> </table> <p>&nbsp;</p>\n"
      ],
      "text/plain": [
       "<Pathway curated_pathway at 0x7f6b048b6150>"
      ]
     },
     "execution_count": 21,
     "metadata": {},
     "output_type": "execute_result"
    }
   ],
   "source": [
    "from cobramod import model_convert\n",
    "from cobramod.test import textbook_biocyc\n",
    "from cobra.core.group import Group\n",
    "\n",
    "test_model = textbook_biocyc.copy()\n",
    "# Creation of group\n",
    "test_group = Group(id=\"curated_pathway\")\n",
    "for reaction in (\"GLCpts\", \"G6PDH2r\", \"PGL\", \"GND\"):\n",
    "    test_group.add_members([test_model.reactions.get_by_id(reaction)])\n",
    "test_model.add_groups([test_group])\n",
    "\n",
    "# Conversion to a Pathway\n",
    "model_convert(model=test_model)\n",
    "# Display to Jupyter\n",
    "test_model.groups.get_by_id(\"curated_pathway\")"
   ]
  },
  {
   "cell_type": "markdown",
   "metadata": {
    "id": "cKNlZylSvsis"
   },
   "source": [
    "## Visualization with Escher\n",
    "\n",
    "CobraMod uses [Escher](https://escher.readthedocs.io/en/latest/) to visualize\n",
    "pathways and fluxes. Each CobraMod pathway includes a visualization method\n",
    "[Pathway.visualize()](\n",
    "module/cobramod/core/pathway/index.html#cobramod.core.pathway.Pathway.visualize\n",
    ") which automatically generates pathway maps of the respective set of\n",
    "reactions. These pathway maps can be easily customized to visualize flux\n",
    "distributions using default or user-defined colors and gradients (linear or\n",
    "quantile normalized).\n",
    "\n",
    "In the following example, we call the function `visualize` without any arguments."
   ]
  },
  {
   "cell_type": "code",
   "execution_count": 22,
   "metadata": {
    "colab": {
     "base_uri": "https://localhost:8080/",
     "height": 17,
     "referenced_widgets": [
      "3654e2162afa4079b680ba5c161d6727"
     ]
    },
    "id": "vEeMnrkK7407",
    "outputId": "2ee4b442-0193-467f-d64e-cd7dec1bb527",
    "scrolled": false
   },
   "outputs": [
    {
     "data": {
      "application/vnd.jupyter.widget-view+json": {
       "model_id": "6f6d031ba9fa432b9937a3c5c929d98e",
       "version_major": 2,
       "version_minor": 0
      },
      "text/plain": [
       "Builder(never_ask_before_quit=True, reaction_scale={}, reaction_styles=['color', 'text'])"
      ]
     },
     "metadata": {},
     "output_type": "display_data"
    }
   ],
   "source": [
    "test_model.groups.get_by_id(\"curated_pathway\").visualize()"
   ]
  },
  {
   "cell_type": "markdown",
   "metadata": {
    "id": "Tv6AKMMC6DYq"
   },
   "source": [
    "We can modify the orientation of our pathway by changing the attribute \n",
    "`vertical` to `True`."
   ]
  },
  {
   "cell_type": "code",
   "execution_count": 23,
   "metadata": {
    "colab": {
     "base_uri": "https://localhost:8080/",
     "height": 17,
     "referenced_widgets": [
      "56129b4f244948ab8525a76f2a94e035"
     ]
    },
    "id": "g2brjcEp6DHR",
    "outputId": "e04a51ff-8f00-4aa8-e101-36dc1a1080c8"
   },
   "outputs": [
    {
     "data": {
      "application/vnd.jupyter.widget-view+json": {
       "model_id": "f62b6a71704e4aa88ce79f07f480366d",
       "version_major": 2,
       "version_minor": 0
      },
      "text/plain": [
       "Builder(never_ask_before_quit=True, reaction_scale={}, reaction_styles=['color', 'text'])"
      ]
     },
     "metadata": {},
     "output_type": "display_data"
    }
   ],
   "source": [
    "test_model.groups.get_by_id(\"curated_pathway\").vertical = True\n",
    "test_model.groups.get_by_id(\"curated_pathway\").visualize()"
   ]
  },
  {
   "cell_type": "markdown",
   "metadata": {
    "id": "uBCHBBzkp3NV"
   },
   "source": [
    "The visualization method can also be called with the argument `solution_fluxes`.\n",
    "This argument can be a dictionary with the fluxes of the reactions\n",
    "or a [COBRApy Solution](\n",
    "https://cobrapy.readthedocs.io/en/latest/autoapi/cobra/core/solution/index.html#cobra.core.solution.Solution\n",
    "). CobraMod assigns colors to the flux values based on the chosen normalizaton method. \n",
    "\n",
    "By default, the visualization method uses the minimal and maximal values of the \n",
    "`solution_flux` argument. The user can define the color of the values by \n",
    "changing the attributes `color_negative` and `color_positive`. CobraMod creates\n",
    "a linear color gradient with zero flux values colored in grey. \n",
    "\n",
    "In the following example, we create a dictionary with fluxes and we pass it to the visualization method."
   ]
  },
  {
   "cell_type": "code",
   "execution_count": 24,
   "metadata": {
    "colab": {
     "base_uri": "https://localhost:8080/",
     "height": 17,
     "referenced_widgets": [
      "959a655d108b40f997211332e21896bb"
     ]
    },
    "id": "iBJJokl0pz7R",
    "outputId": "74fa6411-d08a-4b81-c850-28cf8f1290e8"
   },
   "outputs": [
    {
     "data": {
      "application/vnd.jupyter.widget-view+json": {
       "model_id": "b0ec7cfc17c3422ab89b5c1532f62d8f",
       "version_major": 2,
       "version_minor": 0
      },
      "text/plain": [
       "Builder(never_ask_before_quit=True, reaction_data={'GLCpts': -2, 'G6PDH2r': -2, 'PGL': 0.4, 'GND': 1}, reactio…"
      ]
     },
     "metadata": {},
     "output_type": "display_data"
    }
   ],
   "source": [
    "# For flux visualization of the group\n",
    "solution =  {\n",
    "    \"GLCpts\": -2, \"G6PDH2r\": -2, \"PGL\": 0.4, \"GND\": 1\n",
    "}\n",
    "# Modifying attributes\n",
    "test_model.groups.get_by_id(\"curated_pathway\").visualize(\n",
    "    solution_fluxes=solution\n",
    ")"
   ]
  },
  {
   "cell_type": "markdown",
   "metadata": {
    "id": "yi4qsx037csv"
   },
   "source": [
    "We can change the colors of the fluxes by changing the attribute \n",
    "`color_negative` and `color_positive`. In this example, we use the red color for\n",
    "negative fluxes and green for positive fluxes."
   ]
  },
  {
   "cell_type": "code",
   "execution_count": 25,
   "metadata": {
    "colab": {
     "base_uri": "https://localhost:8080/",
     "height": 17,
     "referenced_widgets": [
      "b5303fbee7a14db5ba169e23186004f0"
     ]
    },
    "id": "1GmD6-He7U0y",
    "outputId": "5323c4e1-c9e4-4294-f789-f62b7af3b0e0"
   },
   "outputs": [
    {
     "data": {
      "application/vnd.jupyter.widget-view+json": {
       "model_id": "d7b3a160b2964ab3a578a663cc2feb2b",
       "version_major": 2,
       "version_minor": 0
      },
      "text/plain": [
       "Builder(never_ask_before_quit=True, reaction_data={'GLCpts': -2, 'G6PDH2r': -2, 'PGL': 0.4, 'GND': 1}, reactio…"
      ]
     },
     "metadata": {},
     "output_type": "display_data"
    }
   ],
   "source": [
    "# Modifying attributes\n",
    "test_model.groups.get_by_id(\"curated_pathway\").color_negative = \"red\"\n",
    "test_model.groups.get_by_id(\"curated_pathway\").color_positive = \"green\"\n",
    "test_model.groups.get_by_id(\"curated_pathway\").visualize(\n",
    "    solution_fluxes=solution\n",
    ")"
   ]
  },
  {
   "cell_type": "markdown",
   "metadata": {
    "id": "zC-70eboHpts"
   },
   "source": [
    "The user can also manually set bounds for color gradients by modifying the CobraMod patway attribute `color_min_max`. In this example we change the bounds to -10 \n",
    "and 10. This option is useful when comparing different flux simulations."
   ]
  },
  {
   "cell_type": "code",
   "execution_count": 26,
   "metadata": {
    "colab": {
     "base_uri": "https://localhost:8080/",
     "height": 17,
     "referenced_widgets": [
      "8b6da8101b70495c9813f143f91ba529"
     ]
    },
    "id": "ZBSnF5SPHpVb",
    "outputId": "a00a36fe-7c7e-4990-a980-4358c9600301"
   },
   "outputs": [
    {
     "data": {
      "application/vnd.jupyter.widget-view+json": {
       "model_id": "0859575660f24d449b5be5d8f4a850b6",
       "version_major": 2,
       "version_minor": 0
      },
      "text/plain": [
       "Builder(never_ask_before_quit=True, reaction_data={'GLCpts': -2, 'G6PDH2r': -2, 'PGL': 0.4, 'GND': 1}, reactio…"
      ]
     },
     "metadata": {},
     "output_type": "display_data"
    }
   ],
   "source": [
    "test_model.groups.get_by_id(\"curated_pathway\").color_min_max = [-10, 10]\n",
    "test_model.groups.get_by_id(\"curated_pathway\").visualize(\n",
    "    solution_fluxes=solution\n",
    ")"
   ]
  },
  {
   "cell_type": "markdown",
   "metadata": {
    "id": "Y2fjw7lk8-lI"
   },
   "source": [
    "In the next example, we use the default settings for the\n",
    "`color_min_max` attribute by setting the respective entry to `None` and change the color gradient to orange and light blue. A list of available colors can be found [here](\n",
    "https://www.w3schools.com/cssref/css_colors.asp\n",
    ")."
   ]
  },
  {
   "cell_type": "code",
   "execution_count": 27,
   "metadata": {
    "colab": {
     "base_uri": "https://localhost:8080/",
     "height": 17,
     "referenced_widgets": [
      "006e3bd13255436d9deec309667ade10"
     ]
    },
    "id": "7CgOK9vN89dW",
    "outputId": "846843e3-0a67-4a9f-f6fd-fbf756b8a9f6"
   },
   "outputs": [
    {
     "data": {
      "application/vnd.jupyter.widget-view+json": {
       "model_id": "90acfc554fd9403db12d026d0b919ab7",
       "version_major": 2,
       "version_minor": 0
      },
      "text/plain": [
       "Builder(never_ask_before_quit=True, reaction_data={'GLCpts': -2, 'G6PDH2r': -2, 'PGL': 0.4, 'GND': 1, 'Other':…"
      ]
     },
     "metadata": {},
     "output_type": "display_data"
    }
   ],
   "source": [
    "# New flux with high value\n",
    "solution =  {\n",
    "    \"GLCpts\": -2, \"G6PDH2r\": -2, \"PGL\": 0.4, \"GND\": 1, \"Other\": 1000\n",
    "}\n",
    "# Using defaults\n",
    "test_model.groups.get_by_id(\"curated_pathway\").color_min_max = None\n",
    "\n",
    "test_model.groups.get_by_id(\"curated_pathway\").color_negative = \"orange\"\n",
    "test_model.groups.get_by_id(\"curated_pathway\").color_positive = \"lightskyblue\"\n",
    "test_model.groups.get_by_id(\"curated_pathway\").visualize(\n",
    "    solution_fluxes=solution\n",
    ")"
   ]
  },
  {
   "cell_type": "markdown",
   "metadata": {
    "id": "zpUBhsNj98gp"
   },
   "source": [
    "The user can change the color gradient to a quantile normalization. When choosing this option, the color gradient is determined by the quantiles of the`solution_fluxes` argument and not by the minimal und minimal flux values.  The user can specify this option by changing the attribute `color_quantile` to\n",
    "`True`. This option is useful when the fluxes values vary by several orders of magnitude. For instance, in the previous example, we added a reaction to the dictionary with a flux value of 1000. We can see that the positive colors are pale. Thus, in the next example we change the attribute `color_quantile` and now the colors are much brighter."
   ]
  },
  {
   "cell_type": "code",
   "execution_count": 28,
   "metadata": {
    "colab": {
     "base_uri": "https://localhost:8080/",
     "height": 17,
     "referenced_widgets": [
      "fa0ff78df16647baaaffee1b843d0f43"
     ]
    },
    "id": "Ge1BuOUc99C2",
    "outputId": "83000651-9728-4706-d90c-f187e9864a2c"
   },
   "outputs": [
    {
     "data": {
      "application/vnd.jupyter.widget-view+json": {
       "model_id": "9ee822621acd4f829afb8b7f30647672",
       "version_major": 2,
       "version_minor": 0
      },
      "text/plain": [
       "Builder(never_ask_before_quit=True, reaction_data={'GLCpts': -2, 'G6PDH2r': -2, 'PGL': 0.4, 'GND': 1, 'Other':…"
      ]
     },
     "metadata": {},
     "output_type": "display_data"
    }
   ],
   "source": [
    "test_model.groups.get_by_id(\"curated_pathway\").color_quantile = True\n",
    "test_model.groups.get_by_id(\"curated_pathway\").visualize(\n",
    "    solution_fluxes=solution\n",
    ")"
   ]
  },
  {
   "cell_type": "markdown",
   "metadata": {
    "id": "tdouxbsr_kg_"
   },
   "source": [
    "The user can call the `Pathway` for a summary of the current \n",
    "attributes."
   ]
  },
  {
   "cell_type": "code",
   "execution_count": 29,
   "metadata": {
    "colab": {
     "base_uri": "https://localhost:8080/",
     "height": 265
    },
    "id": "Pteu2RW29Kod",
    "outputId": "978c0dcb-a5a2-4bfb-9ffe-549c4634e4c3"
   },
   "outputs": [
    {
     "data": {
      "text/html": [
       "\n",
       "<table> <tbody> <tr> <td><strong>Pathway identifier</strong></td>\n",
       "<td>curated_pathway</td> </tr> <tr> <td><strong>Name</strong></td>\n",
       "<td></td> </tr> <tr> <td><strong>Memory address</strong></td>\n",
       "<td>0x0140097614471504</td> </tr> <tr> <td><strong>Reactions involved</strong></td>\n",
       "<td> <p>GLCpts, G6PDH2r, PGL, GND</p> </td> </tr> <tr>\n",
       "<td><strong>Genes involved<br /></strong></td> <td> <p>b2416, b1101, b1817, b1819, b2417, b1818, b1621, b2415, b1852, b0767, b2029</p> </td> </tr> <tr>\n",
       "<td><strong>Visualization attributes</strong></td> <td> <ul> <li>vertical =\n",
       "True</li> <li>color_negative = orange</li>\n",
       "<li>color_positive = lightskyblue</li> <li>color_quantile =\n",
       "True</li> </ul> </td> </tr> </tbody> </table> <p>&nbsp;</p>\n"
      ],
      "text/plain": [
       "<Pathway curated_pathway at 0x7f6b048b6150>"
      ]
     },
     "execution_count": 29,
     "metadata": {},
     "output_type": "execute_result"
    }
   ],
   "source": [
    "test_model.groups.get_by_id(\"curated_pathway\")"
   ]
  },
  {
   "cell_type": "markdown",
   "metadata": {
    "id": "ljWird8j1UJi"
   },
   "source": [
    "CobraMod pathway maps are saved as  HTML files with the default name\n",
    "`pathway.html`. The user can specify the file name with the argument `filename`. In the following example, we name the file `curated_pathway.html`.\n"
   ]
  },
  {
   "cell_type": "code",
   "execution_count": 30,
   "metadata": {
    "colab": {
     "base_uri": "https://localhost:8080/",
     "height": 17,
     "referenced_widgets": [
      "645a922ce665422a806be957600fd997"
     ]
    },
    "id": "kp99_Vsj8TVc",
    "outputId": "befcbecd-2326-4777-ae44-a80ae9ca65f6"
   },
   "outputs": [
    {
     "data": {
      "application/vnd.jupyter.widget-view+json": {
       "model_id": "201730168cb54a42bf02a2d9e1e1ad2a",
       "version_major": 2,
       "version_minor": 0
      },
      "text/plain": [
       "Builder(never_ask_before_quit=True, reaction_data={'GLCpts': -2, 'G6PDH2r': -2, 'PGL': 0.4, 'GND': 1, 'Other':…"
      ]
     },
     "metadata": {},
     "output_type": "display_data"
    }
   ],
   "source": [
    "test_model.groups.get_by_id(\"curated_pathway\").visualize(\n",
    "    solution_fluxes=solution, filename = \"curated_pathway.html\"\n",
    ")"
   ]
  },
  {
   "cell_type": "markdown",
   "metadata": {
    "id": "rqP6-WVU8iPV"
   },
   "source": [
    "We can verify that the file exists by using the `ls` command.\n"
   ]
  },
  {
   "cell_type": "code",
   "execution_count": 31,
   "metadata": {
    "colab": {
     "base_uri": "https://localhost:8080/"
    },
    "id": "lwunVyzE8dnW",
    "outputId": "bf242e02-cf2a-49d7-fbc3-2243020fd345"
   },
   "outputs": [
    {
     "name": "stdout",
     "output_type": "stream",
     "text": [
      "curated_pathway.html\r\n"
     ]
    }
   ],
   "source": [
    "!ls curated_pathway.html"
   ]
  }
 ],
 "metadata": {
  "celltoolbar": "Tags",
  "colab": {
   "collapsed_sections": [],
   "name": "how_to.ipynb",
   "provenance": []
  },
  "kernelspec": {
   "display_name": "Python 3 (ipykernel)",
   "language": "python",
   "name": "python3"
  },
  "language_info": {
   "codemirror_mode": {
    "name": "ipython",
    "version": 3
   },
   "file_extension": ".py",
   "mimetype": "text/x-python",
   "name": "python",
   "nbconvert_exporter": "python",
   "pygments_lexer": "ipython3",
   "version": "3.7.4"
  },
  "widgets": {
   "application/vnd.jupyter.widget-state+json": {
    "state": {
     "0859575660f24d449b5be5d8f4a850b6": {
      "model_module": "escher",
      "model_module_version": "1.7.3",
      "model_name": "EscherMapModel",
      "state": {
       "_loaded_map_json": "[{\"map_name\": \"\", \"map_id\": \"\", \"map_description\": \"\", \"homepage\": \"\", \"schema\": \"https://escher.github.io/escher/jsonschema/1-0-0#\"}, {\"reactions\": {\"0\": {\"name\": \"GLCpts\", \"bigg_id\": \"GLCpts\", \"reversibility\": true, \"label_x\": 265.0, \"label_y\": 325.0, \"gene_reaction_rule\": \"\", \"genes\": [], \"segments\": {\"0\": {\"from_node_id\": \"4\", \"to_node_id\": \"5\", \"b1\": null, \"b2\": null}, \"1\": {\"from_node_id\": \"6\", \"to_node_id\": \"5\", \"b1\": null, \"b2\": null}, \"2\": {\"from_node_id\": \"0\", \"to_node_id\": \"4\", \"b1\": null, \"b2\": null}, \"3\": {\"from_node_id\": \"1\", \"to_node_id\": \"4\", \"b1\": null, \"b2\": null}, \"4\": {\"from_node_id\": \"2\", \"to_node_id\": \"6\", \"b1\": null, \"b2\": null}, \"5\": {\"from_node_id\": \"3\", \"to_node_id\": \"6\", \"b1\": null, \"b2\": null}}, \"metabolites\": [{\"bigg_id\": \"Glucopyranose_e\", \"coefficient\": -1.0}, {\"bigg_id\": \"PHOSPHO_ENOL_PYRUVATE_c\", \"coefficient\": -1.0}, {\"bigg_id\": \"D_glucopyranose_6_phosphate_c\", \"coefficient\": 1.0}, {\"bigg_id\": \"PYRUVATE_c\", \"coefficient\": 1.0}]}, \"1\": {\"name\": \"G6PDH2r\", \"bigg_id\": \"G6PDH2r\", \"reversibility\": true, \"label_x\": 265.0, \"label_y\": 975.0, \"gene_reaction_rule\": \"\", \"genes\": [], \"segments\": {\"6\": {\"from_node_id\": \"11\", \"to_node_id\": \"12\", \"b1\": null, \"b2\": null}, \"7\": {\"from_node_id\": \"13\", \"to_node_id\": \"12\", \"b1\": null, \"b2\": null}, \"8\": {\"from_node_id\": \"2\", \"to_node_id\": \"11\", \"b1\": null, \"b2\": null}, \"9\": {\"from_node_id\": \"7\", \"to_node_id\": \"11\", \"b1\": null, \"b2\": null}, \"10\": {\"from_node_id\": \"8\", \"to_node_id\": \"13\", \"b1\": null, \"b2\": null}, \"11\": {\"from_node_id\": \"9\", \"to_node_id\": \"13\", \"b1\": null, \"b2\": null}, \"12\": {\"from_node_id\": \"10\", \"to_node_id\": \"13\", \"b1\": null, \"b2\": null}}, \"metabolites\": [{\"bigg_id\": \"D_glucopyranose_6_phosphate_c\", \"coefficient\": -1.0}, {\"bigg_id\": \"NADP_c\", \"coefficient\": -1.0}, {\"bigg_id\": \"D_6_P_GLUCONO_DELTA_LACTONE_c\", \"coefficient\": 1.0}, {\"bigg_id\": \"NADPH_c\", \"coefficient\": 1.0}, {\"bigg_id\": \"PROTON_c\", \"coefficient\": 1.0}]}, \"2\": {\"name\": \"PGL\", \"bigg_id\": \"PGL\", \"reversibility\": true, \"label_x\": 265.0, \"label_y\": 1625.0, \"gene_reaction_rule\": \"\", \"genes\": [], \"segments\": {\"13\": {\"from_node_id\": \"17\", \"to_node_id\": \"18\", \"b1\": null, \"b2\": null}, \"14\": {\"from_node_id\": \"19\", \"to_node_id\": \"18\", \"b1\": null, \"b2\": null}, \"15\": {\"from_node_id\": \"14\", \"to_node_id\": \"17\", \"b1\": null, \"b2\": null}, \"16\": {\"from_node_id\": \"8\", \"to_node_id\": \"17\", \"b1\": null, \"b2\": null}, \"17\": {\"from_node_id\": \"15\", \"to_node_id\": \"19\", \"b1\": null, \"b2\": null}, \"18\": {\"from_node_id\": \"16\", \"to_node_id\": \"19\", \"b1\": null, \"b2\": null}}, \"metabolites\": [{\"bigg_id\": \"CPD_15815_c\", \"coefficient\": -1.0}, {\"bigg_id\": \"D_6_P_GLUCONO_DELTA_LACTONE_c\", \"coefficient\": -1.0}, {\"bigg_id\": \"CPD_2961_c\", \"coefficient\": 1.0}, {\"bigg_id\": \"PROTON_c\", \"coefficient\": 1.0}]}, \"3\": {\"name\": \"GND\", \"bigg_id\": \"GND\", \"reversibility\": true, \"label_x\": 265.0, \"label_y\": 2275.0, \"gene_reaction_rule\": \"\", \"genes\": [], \"segments\": {\"19\": {\"from_node_id\": \"24\", \"to_node_id\": \"25\", \"b1\": null, \"b2\": null}, \"20\": {\"from_node_id\": \"26\", \"to_node_id\": \"25\", \"b1\": null, \"b2\": null}, \"21\": {\"from_node_id\": \"15\", \"to_node_id\": \"24\", \"b1\": null, \"b2\": null}, \"22\": {\"from_node_id\": \"20\", \"to_node_id\": \"24\", \"b1\": null, \"b2\": null}, \"23\": {\"from_node_id\": \"21\", \"to_node_id\": \"26\", \"b1\": null, \"b2\": null}, \"24\": {\"from_node_id\": \"22\", \"to_node_id\": \"26\", \"b1\": null, \"b2\": null}, \"25\": {\"from_node_id\": \"23\", \"to_node_id\": \"26\", \"b1\": null, \"b2\": null}}, \"metabolites\": [{\"bigg_id\": \"CPD_2961_c\", \"coefficient\": -1.0}, {\"bigg_id\": \"NADP_c\", \"coefficient\": -1.0}, {\"bigg_id\": \"CARBON_DIOXIDE_c\", \"coefficient\": 1.0}, {\"bigg_id\": \"NADPH_c\", \"coefficient\": 1.0}, {\"bigg_id\": \"RIBULOSE_5P_c\", \"coefficient\": 1.0}]}}, \"nodes\": {\"0\": {\"node_type\": \"metabolite\", \"x\": 150.0, \"y\": 30.0, \"label_x\": 160.0, \"label_y\": 20.0, \"bigg_id\": \"Glucopyranose_e\", \"name\": \"Glucopyranose_e\", \"node_is_primary\": false}, \"1\": {\"node_type\": \"metabolite\", \"x\": 300.0, \"y\": 30.0, \"label_x\": 310.0, \"label_y\": 20.0, \"bigg_id\": \"PHOSPHO_ENOL_PYRUVATE_c\", \"name\": \"PHOSPHO_ENOL_PYRUVATE_c\", \"node_is_primary\": false}, \"2\": {\"node_type\": \"metabolite\", \"x\": 150.0, \"y\": 550.0, \"label_x\": 160.0, \"label_y\": 580.0, \"bigg_id\": \"D_glucopyranose_6_phosphate_c\", \"name\": \"D_glucopyranose_6_phosphate_c\", \"node_is_primary\": false}, \"3\": {\"node_type\": \"metabolite\", \"x\": 300.0, \"y\": 550.0, \"label_x\": 310.0, \"label_y\": 580.0, \"bigg_id\": \"PYRUVATE_c\", \"name\": \"PYRUVATE_c\", \"node_is_primary\": false}, \"4\": {\"node_type\": \"multimarker\", \"x\": 225.0, \"y\": 305.0}, \"5\": {\"node_type\": \"midmarker\", \"x\": 225.0, \"y\": 325.0}, \"6\": {\"node_type\": \"multimarker\", \"x\": 225.0, \"y\": 345.0}, \"7\": {\"node_type\": \"metabolite\", \"x\": 300.0, \"y\": 680.0, \"label_x\": 310.0, \"label_y\": 670.0, \"bigg_id\": \"NADP_c\", \"name\": \"NADP_c\", \"node_is_primary\": false}, \"8\": {\"node_type\": \"metabolite\", \"x\": 112.5, \"y\": 1200.0, \"label_x\": 122.5, \"label_y\": 1230.0, \"bigg_id\": \"D_6_P_GLUCONO_DELTA_LACTONE_c\", \"name\": \"D_6_P_GLUCONO_DELTA_LACTONE_c\", \"node_is_primary\": false}, \"9\": {\"node_type\": \"metabolite\", \"x\": 225.0, \"y\": 1200.0, \"label_x\": 235.0, \"label_y\": 1230.0, \"bigg_id\": \"NADPH_c\", \"name\": \"NADPH_c\", \"node_is_primary\": false}, \"10\": {\"node_type\": \"metabolite\", \"x\": 337.5, \"y\": 1200.0, \"label_x\": 347.5, \"label_y\": 1230.0, \"bigg_id\": \"PROTON_c\", \"name\": \"PROTON_c\", \"node_is_primary\": false}, \"11\": {\"node_type\": \"multimarker\", \"x\": 225.0, \"y\": 955.0}, \"12\": {\"node_type\": \"midmarker\", \"x\": 225.0, \"y\": 975.0}, \"13\": {\"node_type\": \"multimarker\", \"x\": 225.0, \"y\": 995.0}, \"14\": {\"node_type\": \"metabolite\", \"x\": 150.0, \"y\": 1330.0, \"label_x\": 160.0, \"label_y\": 1320.0, \"bigg_id\": \"CPD_15815_c\", \"name\": \"CPD_15815_c\", \"node_is_primary\": false}, \"15\": {\"node_type\": \"metabolite\", \"x\": 150.0, \"y\": 1850.0, \"label_x\": 160.0, \"label_y\": 1880.0, \"bigg_id\": \"CPD_2961_c\", \"name\": \"CPD_2961_c\", \"node_is_primary\": false}, \"16\": {\"node_type\": \"metabolite\", \"x\": 300.0, \"y\": 1850.0, \"label_x\": 310.0, \"label_y\": 1880.0, \"bigg_id\": \"PROTON_c\", \"name\": \"PROTON_c\", \"node_is_primary\": false}, \"17\": {\"node_type\": \"multimarker\", \"x\": 225.0, \"y\": 1605.0}, \"18\": {\"node_type\": \"midmarker\", \"x\": 225.0, \"y\": 1625.0}, \"19\": {\"node_type\": \"multimarker\", \"x\": 225.0, \"y\": 1645.0}, \"20\": {\"node_type\": \"metabolite\", \"x\": 300.0, \"y\": 1980.0, \"label_x\": 310.0, \"label_y\": 1970.0, \"bigg_id\": \"NADP_c\", \"name\": \"NADP_c\", \"node_is_primary\": false}, \"21\": {\"node_type\": \"metabolite\", \"x\": 112.5, \"y\": 2500.0, \"label_x\": 122.5, \"label_y\": 2530.0, \"bigg_id\": \"CARBON_DIOXIDE_c\", \"name\": \"CARBON_DIOXIDE_c\", \"node_is_primary\": false}, \"22\": {\"node_type\": \"metabolite\", \"x\": 225.0, \"y\": 2500.0, \"label_x\": 235.0, \"label_y\": 2530.0, \"bigg_id\": \"NADPH_c\", \"name\": \"NADPH_c\", \"node_is_primary\": false}, \"23\": {\"node_type\": \"metabolite\", \"x\": 337.5, \"y\": 2500.0, \"label_x\": 347.5, \"label_y\": 2530.0, \"bigg_id\": \"RIBULOSE_5P_c\", \"name\": \"RIBULOSE_5P_c\", \"node_is_primary\": false}, \"24\": {\"node_type\": \"multimarker\", \"x\": 225.0, \"y\": 2255.0}, \"25\": {\"node_type\": \"midmarker\", \"x\": 225.0, \"y\": 2275.0}, \"26\": {\"node_type\": \"multimarker\", \"x\": 225.0, \"y\": 2295.0}}, \"text_labels\": {}, \"canvas\": {\"x\": 0, \"y\": 0, \"width\": 450, \"height\": 2600}}]",
       "_loaded_model_json": null,
       "allow_building_duplicate_reactions": false,
       "and_method_in_gene_reaction_rule": "mean",
       "canvas_size_and_loc": null,
       "cofactors": [
        "atp",
        "adp",
        "nad",
        "nadh",
        "nadp",
        "nadph",
        "gtp",
        "gdp",
        "h",
        "coa",
        "ump",
        "h2o",
        "ppi"
       ],
       "disabled_buttons": [
        "Clear gene data",
        "Clear metabolite data"
       ],
       "embedded_css": null,
       "enable_editing": true,
       "enable_keys": false,
       "enable_keys_with_tooltip": true,
       "enable_search": true,
       "enable_tooltips": false,
       "full_screen_button": {
        "enable_editing": true,
        "enable_keys": true,
        "enable_tooltips": [
         "label"
        ],
        "menu": "all",
        "scroll_behavior": "pan"
       },
       "gene_data": null,
       "gene_font_size": 18,
       "height": 500,
       "hide_all_labels": false,
       "hide_secondary_metabolites": false,
       "highlight_missing": false,
       "identifiers_on_map": "bigg_id",
       "layout": "IPY_MODEL_1f72aa4c2d7a48f9b78dbb98ca15b2b0",
       "marker_radius": 5,
       "menu": "all",
       "metabolite_compare_style": "log2_fold",
       "metabolite_data": null,
       "metabolite_no_data_color": "#ffffff",
       "metabolite_no_data_size": 10,
       "metabolite_scale": [
        {
         "color": "#fffaf0",
         "size": 20,
         "type": "min"
        },
        {
         "color": "#f1c470",
         "size": 30,
         "type": "median"
        },
        {
         "color": "#800000",
         "size": 40,
         "type": "max"
        }
       ],
       "metabolite_scale_preset": "WhYlRd",
       "metabolite_styles": [
        "color",
        "size",
        "text"
       ],
       "never_ask_before_quit": true,
       "primary_metabolite_radius": 20,
       "reaction_compare_style": "log2_fold",
       "reaction_data": {
        "G6PDH2r": -2,
        "GLCpts": -2,
        "GND": 1,
        "PGL": 0.4
       },
       "reaction_no_data_color": "#dcdcdc",
       "reaction_no_data_size": 8,
       "reaction_scale": [
        {
         "color": "rgb(146,189,146)",
         "type": "value",
         "value": 3.3333333333333335
        },
        {
         "color": "rgb(73,158,73)",
         "type": "value",
         "value": 6.666666666666666
        },
        {
         "color": "rgb(0,127,0)",
         "type": "value",
         "value": 10
        },
        {
         "color": "rgb(220,220,220)",
         "type": "value",
         "value": 0
        },
        {
         "color": "rgb(231,146,146)",
         "type": "value",
         "value": -3.3333333333333335
        },
        {
         "color": "rgb(243,73,73)",
         "type": "value",
         "value": -6.666666666666666
        },
        {
         "color": "rgb(255,0,0)",
         "type": "value",
         "value": -10
        }
       ],
       "reaction_scale_preset": null,
       "reaction_styles": [
        "color",
        "text"
       ],
       "scroll_behavior": "none",
       "secondary_metabolite_radius": 10,
       "semantic_zoom": null,
       "show_gene_reaction_rules": false,
       "starting_reaction": null,
       "use_3d_transform": false,
       "zoom_to_element": null
      }
     },
     "08e9467ba6cf4814a7cac84f5a484915": {
      "model_module": "@jupyter-widgets/base",
      "model_module_version": "1.2.0",
      "model_name": "LayoutModel",
      "state": {}
     },
     "0be6faac1d26453c86f70084cf956c25": {
      "model_module": "@jupyter-widgets/base",
      "model_module_version": "1.2.0",
      "model_name": "LayoutModel",
      "state": {}
     },
     "130e1351db0d4b63aa710747e4e72ac7": {
      "model_module": "escher",
      "model_module_version": "1.7.3",
      "model_name": "EscherMapModel",
      "state": {
       "_loaded_map_json": "[{\"map_name\": \"\", \"map_id\": \"\", \"map_description\": \"\", \"homepage\": \"\", \"schema\": \"https://escher.github.io/escher/jsonschema/1-0-0#\"}, {\"reactions\": {\"0\": {\"name\": \"GLCpts\", \"bigg_id\": \"GLCpts\", \"reversibility\": true, \"label_x\": 271.0, \"label_y\": 45.0, \"gene_reaction_rule\": \"\", \"genes\": [], \"segments\": {\"0\": {\"from_node_id\": \"4\", \"to_node_id\": \"5\", \"b1\": null, \"b2\": null}, \"1\": {\"from_node_id\": \"6\", \"to_node_id\": \"5\", \"b1\": null, \"b2\": null}, \"2\": {\"from_node_id\": \"0\", \"to_node_id\": \"4\", \"b1\": null, \"b2\": null}, \"3\": {\"from_node_id\": \"1\", \"to_node_id\": \"4\", \"b1\": null, \"b2\": null}, \"4\": {\"from_node_id\": \"2\", \"to_node_id\": \"6\", \"b1\": null, \"b2\": null}, \"5\": {\"from_node_id\": \"3\", \"to_node_id\": \"6\", \"b1\": null, \"b2\": null}}, \"metabolites\": [{\"bigg_id\": \"Glucopyranose_e\", \"coefficient\": -1.0}, {\"bigg_id\": \"PHOSPHO_ENOL_PYRUVATE_c\", \"coefficient\": -1.0}, {\"bigg_id\": \"D_glucopyranose_6_phosphate_c\", \"coefficient\": 1.0}, {\"bigg_id\": \"PYRUVATE_c\", \"coefficient\": 1.0}]}, \"1\": {\"name\": \"G6PDH2r\", \"bigg_id\": \"G6PDH2r\", \"reversibility\": true, \"label_x\": 912.0, \"label_y\": 45.0, \"gene_reaction_rule\": \"\", \"genes\": [], \"segments\": {\"6\": {\"from_node_id\": \"11\", \"to_node_id\": \"12\", \"b1\": null, \"b2\": null}, \"7\": {\"from_node_id\": \"13\", \"to_node_id\": \"12\", \"b1\": null, \"b2\": null}, \"8\": {\"from_node_id\": \"2\", \"to_node_id\": \"11\", \"b1\": null, \"b2\": null}, \"9\": {\"from_node_id\": \"7\", \"to_node_id\": \"11\", \"b1\": null, \"b2\": null}, \"10\": {\"from_node_id\": \"8\", \"to_node_id\": \"13\", \"b1\": null, \"b2\": null}, \"11\": {\"from_node_id\": \"9\", \"to_node_id\": \"13\", \"b1\": null, \"b2\": null}, \"12\": {\"from_node_id\": \"10\", \"to_node_id\": \"13\", \"b1\": null, \"b2\": null}}, \"metabolites\": [{\"bigg_id\": \"D_glucopyranose_6_phosphate_c\", \"coefficient\": -1.0}, {\"bigg_id\": \"NADP_c\", \"coefficient\": -1.0}, {\"bigg_id\": \"D_6_P_GLUCONO_DELTA_LACTONE_c\", \"coefficient\": 1.0}, {\"bigg_id\": \"NADPH_c\", \"coefficient\": 1.0}, {\"bigg_id\": \"PROTON_c\", \"coefficient\": 1.0}]}, \"2\": {\"name\": \"PGL\", \"bigg_id\": \"PGL\", \"reversibility\": true, \"label_x\": 1598.0, \"label_y\": 45.0, \"gene_reaction_rule\": \"\", \"genes\": [], \"segments\": {\"13\": {\"from_node_id\": \"17\", \"to_node_id\": \"18\", \"b1\": null, \"b2\": null}, \"14\": {\"from_node_id\": \"19\", \"to_node_id\": \"18\", \"b1\": null, \"b2\": null}, \"15\": {\"from_node_id\": \"14\", \"to_node_id\": \"17\", \"b1\": null, \"b2\": null}, \"16\": {\"from_node_id\": \"8\", \"to_node_id\": \"17\", \"b1\": null, \"b2\": null}, \"17\": {\"from_node_id\": \"15\", \"to_node_id\": \"19\", \"b1\": null, \"b2\": null}, \"18\": {\"from_node_id\": \"16\", \"to_node_id\": \"19\", \"b1\": null, \"b2\": null}}, \"metabolites\": [{\"bigg_id\": \"CPD_15815_c\", \"coefficient\": -1.0}, {\"bigg_id\": \"D_6_P_GLUCONO_DELTA_LACTONE_c\", \"coefficient\": -1.0}, {\"bigg_id\": \"CPD_2961_c\", \"coefficient\": 1.0}, {\"bigg_id\": \"PROTON_c\", \"coefficient\": 1.0}]}, \"3\": {\"name\": \"GND\", \"bigg_id\": \"GND\", \"reversibility\": true, \"label_x\": 2248.0, \"label_y\": 45.0, \"gene_reaction_rule\": \"\", \"genes\": [], \"segments\": {\"19\": {\"from_node_id\": \"24\", \"to_node_id\": \"25\", \"b1\": null, \"b2\": null}, \"20\": {\"from_node_id\": \"26\", \"to_node_id\": \"25\", \"b1\": null, \"b2\": null}, \"21\": {\"from_node_id\": \"15\", \"to_node_id\": \"24\", \"b1\": null, \"b2\": null}, \"22\": {\"from_node_id\": \"20\", \"to_node_id\": \"24\", \"b1\": null, \"b2\": null}, \"23\": {\"from_node_id\": \"21\", \"to_node_id\": \"26\", \"b1\": null, \"b2\": null}, \"24\": {\"from_node_id\": \"22\", \"to_node_id\": \"26\", \"b1\": null, \"b2\": null}, \"25\": {\"from_node_id\": \"23\", \"to_node_id\": \"26\", \"b1\": null, \"b2\": null}}, \"metabolites\": [{\"bigg_id\": \"CPD_2961_c\", \"coefficient\": -1.0}, {\"bigg_id\": \"NADP_c\", \"coefficient\": -1.0}, {\"bigg_id\": \"CARBON_DIOXIDE_c\", \"coefficient\": 1.0}, {\"bigg_id\": \"NADPH_c\", \"coefficient\": 1.0}, {\"bigg_id\": \"RIBULOSE_5P_c\", \"coefficient\": 1.0}]}}, \"nodes\": {\"0\": {\"node_type\": \"metabolite\", \"x\": 30.0, \"y\": 150.0, \"label_x\": 0.0, \"label_y\": 130.0, \"bigg_id\": \"Glucopyranose_e\", \"name\": \"Glucopyranose_e\", \"node_is_primary\": false}, \"1\": {\"node_type\": \"metabolite\", \"x\": 30.0, \"y\": 300.0, \"label_x\": 0.0, \"label_y\": 280.0, \"bigg_id\": \"PHOSPHO_ENOL_PYRUVATE_c\", \"name\": \"PHOSPHO_ENOL_PYRUVATE_c\", \"node_is_primary\": false}, \"2\": {\"node_type\": \"metabolite\", \"x\": 550.0, \"y\": 150.0, \"label_x\": 520.0, \"label_y\": 130.0, \"bigg_id\": \"D_glucopyranose_6_phosphate_c\", \"name\": \"D_glucopyranose_6_phosphate_c\", \"node_is_primary\": false}, \"3\": {\"node_type\": \"metabolite\", \"x\": 550.0, \"y\": 300.0, \"label_x\": 520.0, \"label_y\": 280.0, \"bigg_id\": \"PYRUVATE_c\", \"name\": \"PYRUVATE_c\", \"node_is_primary\": false}, \"4\": {\"node_type\": \"multimarker\", \"x\": 335.0, \"y\": 225.0}, \"5\": {\"node_type\": \"midmarker\", \"x\": 355.0, \"y\": 225.0}, \"6\": {\"node_type\": \"multimarker\", \"x\": 375.0, \"y\": 225.0}, \"7\": {\"node_type\": \"metabolite\", \"x\": 680.0, \"y\": 300.0, \"label_x\": 650.0, \"label_y\": 280.0, \"bigg_id\": \"NADP_c\", \"name\": \"NADP_c\", \"node_is_primary\": false}, \"8\": {\"node_type\": \"metabolite\", \"x\": 1200.0, \"y\": 112.5, \"label_x\": 1170.0, \"label_y\": 92.5, \"bigg_id\": \"D_6_P_GLUCONO_DELTA_LACTONE_c\", \"name\": \"D_6_P_GLUCONO_DELTA_LACTONE_c\", \"node_is_primary\": false}, \"9\": {\"node_type\": \"metabolite\", \"x\": 1200.0, \"y\": 225.0, \"label_x\": 1170.0, \"label_y\": 205.0, \"bigg_id\": \"NADPH_c\", \"name\": \"NADPH_c\", \"node_is_primary\": false}, \"10\": {\"node_type\": \"metabolite\", \"x\": 1200.0, \"y\": 337.5, \"label_x\": 1170.0, \"label_y\": 317.5, \"bigg_id\": \"PROTON_c\", \"name\": \"PROTON_c\", \"node_is_primary\": false}, \"11\": {\"node_type\": \"multimarker\", \"x\": 985.0, \"y\": 225.0}, \"12\": {\"node_type\": \"midmarker\", \"x\": 1005.0, \"y\": 225.0}, \"13\": {\"node_type\": \"multimarker\", \"x\": 1025.0, \"y\": 225.0}, \"14\": {\"node_type\": \"metabolite\", \"x\": 1330.0, \"y\": 150.0, \"label_x\": 1300.0, \"label_y\": 130.0, \"bigg_id\": \"CPD_15815_c\", \"name\": \"CPD_15815_c\", \"node_is_primary\": false}, \"15\": {\"node_type\": \"metabolite\", \"x\": 1850.0, \"y\": 150.0, \"label_x\": 1820.0, \"label_y\": 130.0, \"bigg_id\": \"CPD_2961_c\", \"name\": \"CPD_2961_c\", \"node_is_primary\": false}, \"16\": {\"node_type\": \"metabolite\", \"x\": 1850.0, \"y\": 300.0, \"label_x\": 1820.0, \"label_y\": 280.0, \"bigg_id\": \"PROTON_c\", \"name\": \"PROTON_c\", \"node_is_primary\": false}, \"17\": {\"node_type\": \"multimarker\", \"x\": 1635.0, \"y\": 225.0}, \"18\": {\"node_type\": \"midmarker\", \"x\": 1655.0, \"y\": 225.0}, \"19\": {\"node_type\": \"multimarker\", \"x\": 1675.0, \"y\": 225.0}, \"20\": {\"node_type\": \"metabolite\", \"x\": 1980.0, \"y\": 300.0, \"label_x\": 1950.0, \"label_y\": 280.0, \"bigg_id\": \"NADP_c\", \"name\": \"NADP_c\", \"node_is_primary\": false}, \"21\": {\"node_type\": \"metabolite\", \"x\": 2500.0, \"y\": 112.5, \"label_x\": 2470.0, \"label_y\": 92.5, \"bigg_id\": \"CARBON_DIOXIDE_c\", \"name\": \"CARBON_DIOXIDE_c\", \"node_is_primary\": false}, \"22\": {\"node_type\": \"metabolite\", \"x\": 2500.0, \"y\": 225.0, \"label_x\": 2470.0, \"label_y\": 205.0, \"bigg_id\": \"NADPH_c\", \"name\": \"NADPH_c\", \"node_is_primary\": false}, \"23\": {\"node_type\": \"metabolite\", \"x\": 2500.0, \"y\": 337.5, \"label_x\": 2470.0, \"label_y\": 317.5, \"bigg_id\": \"RIBULOSE_5P_c\", \"name\": \"RIBULOSE_5P_c\", \"node_is_primary\": false}, \"24\": {\"node_type\": \"multimarker\", \"x\": 2285.0, \"y\": 225.0}, \"25\": {\"node_type\": \"midmarker\", \"x\": 2305.0, \"y\": 225.0}, \"26\": {\"node_type\": \"multimarker\", \"x\": 2325.0, \"y\": 225.0}}, \"text_labels\": {}, \"canvas\": {\"x\": 0, \"y\": 0, \"width\": 2600, \"height\": 450}}]",
       "_loaded_model_json": null,
       "allow_building_duplicate_reactions": false,
       "and_method_in_gene_reaction_rule": "mean",
       "canvas_size_and_loc": null,
       "cofactors": [
        "atp",
        "adp",
        "nad",
        "nadh",
        "nadp",
        "nadph",
        "gtp",
        "gdp",
        "h",
        "coa",
        "ump",
        "h2o",
        "ppi"
       ],
       "disabled_buttons": [
        "Clear reaction data",
        "Clear gene data",
        "Clear metabolite data"
       ],
       "embedded_css": null,
       "enable_editing": true,
       "enable_keys": false,
       "enable_keys_with_tooltip": true,
       "enable_search": true,
       "enable_tooltips": false,
       "full_screen_button": {
        "enable_editing": true,
        "enable_keys": true,
        "enable_tooltips": [
         "label"
        ],
        "menu": "all",
        "scroll_behavior": "pan"
       },
       "gene_data": null,
       "gene_font_size": 18,
       "height": 500,
       "hide_all_labels": false,
       "hide_secondary_metabolites": false,
       "highlight_missing": false,
       "identifiers_on_map": "bigg_id",
       "layout": "IPY_MODEL_57d09821da0444d099089531312eb30d",
       "marker_radius": 5,
       "menu": "all",
       "metabolite_compare_style": "log2_fold",
       "metabolite_data": null,
       "metabolite_no_data_color": "#ffffff",
       "metabolite_no_data_size": 10,
       "metabolite_scale": [
        {
         "color": "#fffaf0",
         "size": 20,
         "type": "min"
        },
        {
         "color": "#f1c470",
         "size": 30,
         "type": "median"
        },
        {
         "color": "#800000",
         "size": 40,
         "type": "max"
        }
       ],
       "metabolite_scale_preset": "WhYlRd",
       "metabolite_styles": [
        "color",
        "size",
        "text"
       ],
       "never_ask_before_quit": true,
       "primary_metabolite_radius": 20,
       "reaction_compare_style": "log2_fold",
       "reaction_data": null,
       "reaction_no_data_color": "#dcdcdc",
       "reaction_no_data_size": 8,
       "reaction_scale": {},
       "reaction_scale_preset": null,
       "reaction_styles": [
        "color",
        "text"
       ],
       "scroll_behavior": "none",
       "secondary_metabolite_radius": 10,
       "semantic_zoom": null,
       "show_gene_reaction_rules": false,
       "starting_reaction": null,
       "use_3d_transform": false,
       "zoom_to_element": null
      }
     },
     "1667b77aac6449a09c33cd22d3063386": {
      "model_module": "@jupyter-widgets/base",
      "model_module_version": "1.2.0",
      "model_name": "LayoutModel",
      "state": {}
     },
     "1f72aa4c2d7a48f9b78dbb98ca15b2b0": {
      "model_module": "@jupyter-widgets/base",
      "model_module_version": "1.2.0",
      "model_name": "LayoutModel",
      "state": {}
     },
     "201730168cb54a42bf02a2d9e1e1ad2a": {
      "model_module": "escher",
      "model_module_version": "1.7.3",
      "model_name": "EscherMapModel",
      "state": {
       "_loaded_map_json": "[{\"map_name\": \"\", \"map_id\": \"\", \"map_description\": \"\", \"homepage\": \"\", \"schema\": \"https://escher.github.io/escher/jsonschema/1-0-0#\"}, {\"reactions\": {\"0\": {\"name\": \"GLCpts\", \"bigg_id\": \"GLCpts\", \"reversibility\": true, \"label_x\": 265.0, \"label_y\": 325.0, \"gene_reaction_rule\": \"\", \"genes\": [], \"segments\": {\"0\": {\"from_node_id\": \"4\", \"to_node_id\": \"5\", \"b1\": null, \"b2\": null}, \"1\": {\"from_node_id\": \"6\", \"to_node_id\": \"5\", \"b1\": null, \"b2\": null}, \"2\": {\"from_node_id\": \"0\", \"to_node_id\": \"4\", \"b1\": null, \"b2\": null}, \"3\": {\"from_node_id\": \"1\", \"to_node_id\": \"4\", \"b1\": null, \"b2\": null}, \"4\": {\"from_node_id\": \"2\", \"to_node_id\": \"6\", \"b1\": null, \"b2\": null}, \"5\": {\"from_node_id\": \"3\", \"to_node_id\": \"6\", \"b1\": null, \"b2\": null}}, \"metabolites\": [{\"bigg_id\": \"Glucopyranose_e\", \"coefficient\": -1.0}, {\"bigg_id\": \"PHOSPHO_ENOL_PYRUVATE_c\", \"coefficient\": -1.0}, {\"bigg_id\": \"D_glucopyranose_6_phosphate_c\", \"coefficient\": 1.0}, {\"bigg_id\": \"PYRUVATE_c\", \"coefficient\": 1.0}]}, \"1\": {\"name\": \"G6PDH2r\", \"bigg_id\": \"G6PDH2r\", \"reversibility\": true, \"label_x\": 265.0, \"label_y\": 975.0, \"gene_reaction_rule\": \"\", \"genes\": [], \"segments\": {\"6\": {\"from_node_id\": \"11\", \"to_node_id\": \"12\", \"b1\": null, \"b2\": null}, \"7\": {\"from_node_id\": \"13\", \"to_node_id\": \"12\", \"b1\": null, \"b2\": null}, \"8\": {\"from_node_id\": \"2\", \"to_node_id\": \"11\", \"b1\": null, \"b2\": null}, \"9\": {\"from_node_id\": \"7\", \"to_node_id\": \"11\", \"b1\": null, \"b2\": null}, \"10\": {\"from_node_id\": \"8\", \"to_node_id\": \"13\", \"b1\": null, \"b2\": null}, \"11\": {\"from_node_id\": \"9\", \"to_node_id\": \"13\", \"b1\": null, \"b2\": null}, \"12\": {\"from_node_id\": \"10\", \"to_node_id\": \"13\", \"b1\": null, \"b2\": null}}, \"metabolites\": [{\"bigg_id\": \"D_glucopyranose_6_phosphate_c\", \"coefficient\": -1.0}, {\"bigg_id\": \"NADP_c\", \"coefficient\": -1.0}, {\"bigg_id\": \"D_6_P_GLUCONO_DELTA_LACTONE_c\", \"coefficient\": 1.0}, {\"bigg_id\": \"NADPH_c\", \"coefficient\": 1.0}, {\"bigg_id\": \"PROTON_c\", \"coefficient\": 1.0}]}, \"2\": {\"name\": \"PGL\", \"bigg_id\": \"PGL\", \"reversibility\": true, \"label_x\": 265.0, \"label_y\": 1625.0, \"gene_reaction_rule\": \"\", \"genes\": [], \"segments\": {\"13\": {\"from_node_id\": \"17\", \"to_node_id\": \"18\", \"b1\": null, \"b2\": null}, \"14\": {\"from_node_id\": \"19\", \"to_node_id\": \"18\", \"b1\": null, \"b2\": null}, \"15\": {\"from_node_id\": \"14\", \"to_node_id\": \"17\", \"b1\": null, \"b2\": null}, \"16\": {\"from_node_id\": \"8\", \"to_node_id\": \"17\", \"b1\": null, \"b2\": null}, \"17\": {\"from_node_id\": \"15\", \"to_node_id\": \"19\", \"b1\": null, \"b2\": null}, \"18\": {\"from_node_id\": \"16\", \"to_node_id\": \"19\", \"b1\": null, \"b2\": null}}, \"metabolites\": [{\"bigg_id\": \"CPD_15815_c\", \"coefficient\": -1.0}, {\"bigg_id\": \"D_6_P_GLUCONO_DELTA_LACTONE_c\", \"coefficient\": -1.0}, {\"bigg_id\": \"CPD_2961_c\", \"coefficient\": 1.0}, {\"bigg_id\": \"PROTON_c\", \"coefficient\": 1.0}]}, \"3\": {\"name\": \"GND\", \"bigg_id\": \"GND\", \"reversibility\": true, \"label_x\": 265.0, \"label_y\": 2275.0, \"gene_reaction_rule\": \"\", \"genes\": [], \"segments\": {\"19\": {\"from_node_id\": \"24\", \"to_node_id\": \"25\", \"b1\": null, \"b2\": null}, \"20\": {\"from_node_id\": \"26\", \"to_node_id\": \"25\", \"b1\": null, \"b2\": null}, \"21\": {\"from_node_id\": \"15\", \"to_node_id\": \"24\", \"b1\": null, \"b2\": null}, \"22\": {\"from_node_id\": \"20\", \"to_node_id\": \"24\", \"b1\": null, \"b2\": null}, \"23\": {\"from_node_id\": \"21\", \"to_node_id\": \"26\", \"b1\": null, \"b2\": null}, \"24\": {\"from_node_id\": \"22\", \"to_node_id\": \"26\", \"b1\": null, \"b2\": null}, \"25\": {\"from_node_id\": \"23\", \"to_node_id\": \"26\", \"b1\": null, \"b2\": null}}, \"metabolites\": [{\"bigg_id\": \"CPD_2961_c\", \"coefficient\": -1.0}, {\"bigg_id\": \"NADP_c\", \"coefficient\": -1.0}, {\"bigg_id\": \"CARBON_DIOXIDE_c\", \"coefficient\": 1.0}, {\"bigg_id\": \"NADPH_c\", \"coefficient\": 1.0}, {\"bigg_id\": \"RIBULOSE_5P_c\", \"coefficient\": 1.0}]}}, \"nodes\": {\"0\": {\"node_type\": \"metabolite\", \"x\": 150.0, \"y\": 30.0, \"label_x\": 160.0, \"label_y\": 20.0, \"bigg_id\": \"Glucopyranose_e\", \"name\": \"Glucopyranose_e\", \"node_is_primary\": false}, \"1\": {\"node_type\": \"metabolite\", \"x\": 300.0, \"y\": 30.0, \"label_x\": 310.0, \"label_y\": 20.0, \"bigg_id\": \"PHOSPHO_ENOL_PYRUVATE_c\", \"name\": \"PHOSPHO_ENOL_PYRUVATE_c\", \"node_is_primary\": false}, \"2\": {\"node_type\": \"metabolite\", \"x\": 150.0, \"y\": 550.0, \"label_x\": 160.0, \"label_y\": 580.0, \"bigg_id\": \"D_glucopyranose_6_phosphate_c\", \"name\": \"D_glucopyranose_6_phosphate_c\", \"node_is_primary\": false}, \"3\": {\"node_type\": \"metabolite\", \"x\": 300.0, \"y\": 550.0, \"label_x\": 310.0, \"label_y\": 580.0, \"bigg_id\": \"PYRUVATE_c\", \"name\": \"PYRUVATE_c\", \"node_is_primary\": false}, \"4\": {\"node_type\": \"multimarker\", \"x\": 225.0, \"y\": 305.0}, \"5\": {\"node_type\": \"midmarker\", \"x\": 225.0, \"y\": 325.0}, \"6\": {\"node_type\": \"multimarker\", \"x\": 225.0, \"y\": 345.0}, \"7\": {\"node_type\": \"metabolite\", \"x\": 300.0, \"y\": 680.0, \"label_x\": 310.0, \"label_y\": 670.0, \"bigg_id\": \"NADP_c\", \"name\": \"NADP_c\", \"node_is_primary\": false}, \"8\": {\"node_type\": \"metabolite\", \"x\": 112.5, \"y\": 1200.0, \"label_x\": 122.5, \"label_y\": 1230.0, \"bigg_id\": \"D_6_P_GLUCONO_DELTA_LACTONE_c\", \"name\": \"D_6_P_GLUCONO_DELTA_LACTONE_c\", \"node_is_primary\": false}, \"9\": {\"node_type\": \"metabolite\", \"x\": 225.0, \"y\": 1200.0, \"label_x\": 235.0, \"label_y\": 1230.0, \"bigg_id\": \"NADPH_c\", \"name\": \"NADPH_c\", \"node_is_primary\": false}, \"10\": {\"node_type\": \"metabolite\", \"x\": 337.5, \"y\": 1200.0, \"label_x\": 347.5, \"label_y\": 1230.0, \"bigg_id\": \"PROTON_c\", \"name\": \"PROTON_c\", \"node_is_primary\": false}, \"11\": {\"node_type\": \"multimarker\", \"x\": 225.0, \"y\": 955.0}, \"12\": {\"node_type\": \"midmarker\", \"x\": 225.0, \"y\": 975.0}, \"13\": {\"node_type\": \"multimarker\", \"x\": 225.0, \"y\": 995.0}, \"14\": {\"node_type\": \"metabolite\", \"x\": 150.0, \"y\": 1330.0, \"label_x\": 160.0, \"label_y\": 1320.0, \"bigg_id\": \"CPD_15815_c\", \"name\": \"CPD_15815_c\", \"node_is_primary\": false}, \"15\": {\"node_type\": \"metabolite\", \"x\": 150.0, \"y\": 1850.0, \"label_x\": 160.0, \"label_y\": 1880.0, \"bigg_id\": \"CPD_2961_c\", \"name\": \"CPD_2961_c\", \"node_is_primary\": false}, \"16\": {\"node_type\": \"metabolite\", \"x\": 300.0, \"y\": 1850.0, \"label_x\": 310.0, \"label_y\": 1880.0, \"bigg_id\": \"PROTON_c\", \"name\": \"PROTON_c\", \"node_is_primary\": false}, \"17\": {\"node_type\": \"multimarker\", \"x\": 225.0, \"y\": 1605.0}, \"18\": {\"node_type\": \"midmarker\", \"x\": 225.0, \"y\": 1625.0}, \"19\": {\"node_type\": \"multimarker\", \"x\": 225.0, \"y\": 1645.0}, \"20\": {\"node_type\": \"metabolite\", \"x\": 300.0, \"y\": 1980.0, \"label_x\": 310.0, \"label_y\": 1970.0, \"bigg_id\": \"NADP_c\", \"name\": \"NADP_c\", \"node_is_primary\": false}, \"21\": {\"node_type\": \"metabolite\", \"x\": 112.5, \"y\": 2500.0, \"label_x\": 122.5, \"label_y\": 2530.0, \"bigg_id\": \"CARBON_DIOXIDE_c\", \"name\": \"CARBON_DIOXIDE_c\", \"node_is_primary\": false}, \"22\": {\"node_type\": \"metabolite\", \"x\": 225.0, \"y\": 2500.0, \"label_x\": 235.0, \"label_y\": 2530.0, \"bigg_id\": \"NADPH_c\", \"name\": \"NADPH_c\", \"node_is_primary\": false}, \"23\": {\"node_type\": \"metabolite\", \"x\": 337.5, \"y\": 2500.0, \"label_x\": 347.5, \"label_y\": 2530.0, \"bigg_id\": \"RIBULOSE_5P_c\", \"name\": \"RIBULOSE_5P_c\", \"node_is_primary\": false}, \"24\": {\"node_type\": \"multimarker\", \"x\": 225.0, \"y\": 2255.0}, \"25\": {\"node_type\": \"midmarker\", \"x\": 225.0, \"y\": 2275.0}, \"26\": {\"node_type\": \"multimarker\", \"x\": 225.0, \"y\": 2295.0}}, \"text_labels\": {}, \"canvas\": {\"x\": 0, \"y\": 0, \"width\": 450, \"height\": 2600}}]",
       "_loaded_model_json": null,
       "allow_building_duplicate_reactions": false,
       "and_method_in_gene_reaction_rule": "mean",
       "canvas_size_and_loc": null,
       "cofactors": [
        "atp",
        "adp",
        "nad",
        "nadh",
        "nadp",
        "nadph",
        "gtp",
        "gdp",
        "h",
        "coa",
        "ump",
        "h2o",
        "ppi"
       ],
       "disabled_buttons": [
        "Clear gene data",
        "Clear metabolite data"
       ],
       "embedded_css": null,
       "enable_editing": true,
       "enable_keys": false,
       "enable_keys_with_tooltip": true,
       "enable_search": true,
       "enable_tooltips": false,
       "full_screen_button": {
        "enable_editing": true,
        "enable_keys": true,
        "enable_tooltips": [
         "label"
        ],
        "menu": "all",
        "scroll_behavior": "pan"
       },
       "gene_data": null,
       "gene_font_size": 18,
       "height": 500,
       "hide_all_labels": false,
       "hide_secondary_metabolites": false,
       "highlight_missing": false,
       "identifiers_on_map": "bigg_id",
       "layout": "IPY_MODEL_86035fccc36b48dda13e9b55b7eedf8f",
       "marker_radius": 5,
       "menu": "all",
       "metabolite_compare_style": "log2_fold",
       "metabolite_data": null,
       "metabolite_no_data_color": "#ffffff",
       "metabolite_no_data_size": 10,
       "metabolite_scale": [
        {
         "color": "#fffaf0",
         "size": 20,
         "type": "min"
        },
        {
         "color": "#f1c470",
         "size": 30,
         "type": "median"
        },
        {
         "color": "#800000",
         "size": 40,
         "type": "max"
        }
       ],
       "metabolite_scale_preset": "WhYlRd",
       "metabolite_styles": [
        "color",
        "size",
        "text"
       ],
       "never_ask_before_quit": true,
       "primary_metabolite_radius": 20,
       "reaction_compare_style": "log2_fold",
       "reaction_data": {
        "G6PDH2r": -2,
        "GLCpts": -2,
        "GND": 1,
        "Other": 1000,
        "PGL": 0.4
       },
       "reaction_no_data_color": "#dcdcdc",
       "reaction_no_data_size": 8,
       "reaction_scale": [
        {
         "color": "rgb(191,215,230)",
         "type": "value",
         "value": 0.4
        },
        {
         "color": "rgb(163,210,240)",
         "type": "value",
         "value": 1
        },
        {
         "color": "rgb(135,205,250)",
         "type": "value",
         "value": 1000
        },
        {
         "color": "rgb(220,220,220)",
         "type": "value",
         "value": 0
        },
        {
         "color": "rgb(237,192,110)",
         "type": "value",
         "value": -2
        },
        {
         "color": "rgb(255,165,0)",
         "type": "value",
         "value": -2
        }
       ],
       "reaction_scale_preset": null,
       "reaction_styles": [
        "color",
        "text"
       ],
       "scroll_behavior": "none",
       "secondary_metabolite_radius": 10,
       "semantic_zoom": null,
       "show_gene_reaction_rules": false,
       "starting_reaction": null,
       "use_3d_transform": false,
       "zoom_to_element": null
      }
     },
     "486af1759b294bbcba2c17a46a3d1785": {
      "model_module": "escher",
      "model_module_version": "1.7.3",
      "model_name": "EscherMapModel",
      "state": {
       "_loaded_map_json": "[{\"map_name\": \"\", \"map_id\": \"\", \"map_description\": \"\", \"homepage\": \"\", \"schema\": \"https://escher.github.io/escher/jsonschema/1-0-0#\"}, {\"reactions\": {\"0\": {\"name\": \"GLCpts\", \"bigg_id\": \"GLCpts\", \"reversibility\": true, \"label_x\": 265.0, \"label_y\": 325.0, \"gene_reaction_rule\": \"\", \"genes\": [], \"segments\": {\"0\": {\"from_node_id\": \"4\", \"to_node_id\": \"5\", \"b1\": null, \"b2\": null}, \"1\": {\"from_node_id\": \"6\", \"to_node_id\": \"5\", \"b1\": null, \"b2\": null}, \"2\": {\"from_node_id\": \"0\", \"to_node_id\": \"4\", \"b1\": null, \"b2\": null}, \"3\": {\"from_node_id\": \"1\", \"to_node_id\": \"4\", \"b1\": null, \"b2\": null}, \"4\": {\"from_node_id\": \"2\", \"to_node_id\": \"6\", \"b1\": null, \"b2\": null}, \"5\": {\"from_node_id\": \"3\", \"to_node_id\": \"6\", \"b1\": null, \"b2\": null}}, \"metabolites\": [{\"bigg_id\": \"Glucopyranose_e\", \"coefficient\": -1.0}, {\"bigg_id\": \"PHOSPHO_ENOL_PYRUVATE_c\", \"coefficient\": -1.0}, {\"bigg_id\": \"D_glucopyranose_6_phosphate_c\", \"coefficient\": 1.0}, {\"bigg_id\": \"PYRUVATE_c\", \"coefficient\": 1.0}]}, \"1\": {\"name\": \"G6PDH2r\", \"bigg_id\": \"G6PDH2r\", \"reversibility\": true, \"label_x\": 265.0, \"label_y\": 975.0, \"gene_reaction_rule\": \"\", \"genes\": [], \"segments\": {\"6\": {\"from_node_id\": \"11\", \"to_node_id\": \"12\", \"b1\": null, \"b2\": null}, \"7\": {\"from_node_id\": \"13\", \"to_node_id\": \"12\", \"b1\": null, \"b2\": null}, \"8\": {\"from_node_id\": \"2\", \"to_node_id\": \"11\", \"b1\": null, \"b2\": null}, \"9\": {\"from_node_id\": \"7\", \"to_node_id\": \"11\", \"b1\": null, \"b2\": null}, \"10\": {\"from_node_id\": \"8\", \"to_node_id\": \"13\", \"b1\": null, \"b2\": null}, \"11\": {\"from_node_id\": \"9\", \"to_node_id\": \"13\", \"b1\": null, \"b2\": null}, \"12\": {\"from_node_id\": \"10\", \"to_node_id\": \"13\", \"b1\": null, \"b2\": null}}, \"metabolites\": [{\"bigg_id\": \"D_glucopyranose_6_phosphate_c\", \"coefficient\": -1.0}, {\"bigg_id\": \"NADP_c\", \"coefficient\": -1.0}, {\"bigg_id\": \"D_6_P_GLUCONO_DELTA_LACTONE_c\", \"coefficient\": 1.0}, {\"bigg_id\": \"NADPH_c\", \"coefficient\": 1.0}, {\"bigg_id\": \"PROTON_c\", \"coefficient\": 1.0}]}, \"2\": {\"name\": \"PGL\", \"bigg_id\": \"PGL\", \"reversibility\": true, \"label_x\": 265.0, \"label_y\": 1625.0, \"gene_reaction_rule\": \"\", \"genes\": [], \"segments\": {\"13\": {\"from_node_id\": \"17\", \"to_node_id\": \"18\", \"b1\": null, \"b2\": null}, \"14\": {\"from_node_id\": \"19\", \"to_node_id\": \"18\", \"b1\": null, \"b2\": null}, \"15\": {\"from_node_id\": \"14\", \"to_node_id\": \"17\", \"b1\": null, \"b2\": null}, \"16\": {\"from_node_id\": \"8\", \"to_node_id\": \"17\", \"b1\": null, \"b2\": null}, \"17\": {\"from_node_id\": \"15\", \"to_node_id\": \"19\", \"b1\": null, \"b2\": null}, \"18\": {\"from_node_id\": \"16\", \"to_node_id\": \"19\", \"b1\": null, \"b2\": null}}, \"metabolites\": [{\"bigg_id\": \"CPD_15815_c\", \"coefficient\": -1.0}, {\"bigg_id\": \"D_6_P_GLUCONO_DELTA_LACTONE_c\", \"coefficient\": -1.0}, {\"bigg_id\": \"CPD_2961_c\", \"coefficient\": 1.0}, {\"bigg_id\": \"PROTON_c\", \"coefficient\": 1.0}]}, \"3\": {\"name\": \"GND\", \"bigg_id\": \"GND\", \"reversibility\": true, \"label_x\": 265.0, \"label_y\": 2275.0, \"gene_reaction_rule\": \"\", \"genes\": [], \"segments\": {\"19\": {\"from_node_id\": \"24\", \"to_node_id\": \"25\", \"b1\": null, \"b2\": null}, \"20\": {\"from_node_id\": \"26\", \"to_node_id\": \"25\", \"b1\": null, \"b2\": null}, \"21\": {\"from_node_id\": \"15\", \"to_node_id\": \"24\", \"b1\": null, \"b2\": null}, \"22\": {\"from_node_id\": \"20\", \"to_node_id\": \"24\", \"b1\": null, \"b2\": null}, \"23\": {\"from_node_id\": \"21\", \"to_node_id\": \"26\", \"b1\": null, \"b2\": null}, \"24\": {\"from_node_id\": \"22\", \"to_node_id\": \"26\", \"b1\": null, \"b2\": null}, \"25\": {\"from_node_id\": \"23\", \"to_node_id\": \"26\", \"b1\": null, \"b2\": null}}, \"metabolites\": [{\"bigg_id\": \"CPD_2961_c\", \"coefficient\": -1.0}, {\"bigg_id\": \"NADP_c\", \"coefficient\": -1.0}, {\"bigg_id\": \"CARBON_DIOXIDE_c\", \"coefficient\": 1.0}, {\"bigg_id\": \"NADPH_c\", \"coefficient\": 1.0}, {\"bigg_id\": \"RIBULOSE_5P_c\", \"coefficient\": 1.0}]}}, \"nodes\": {\"0\": {\"node_type\": \"metabolite\", \"x\": 150.0, \"y\": 30.0, \"label_x\": 160.0, \"label_y\": 20.0, \"bigg_id\": \"Glucopyranose_e\", \"name\": \"Glucopyranose_e\", \"node_is_primary\": false}, \"1\": {\"node_type\": \"metabolite\", \"x\": 300.0, \"y\": 30.0, \"label_x\": 310.0, \"label_y\": 20.0, \"bigg_id\": \"PHOSPHO_ENOL_PYRUVATE_c\", \"name\": \"PHOSPHO_ENOL_PYRUVATE_c\", \"node_is_primary\": false}, \"2\": {\"node_type\": \"metabolite\", \"x\": 150.0, \"y\": 550.0, \"label_x\": 160.0, \"label_y\": 580.0, \"bigg_id\": \"D_glucopyranose_6_phosphate_c\", \"name\": \"D_glucopyranose_6_phosphate_c\", \"node_is_primary\": false}, \"3\": {\"node_type\": \"metabolite\", \"x\": 300.0, \"y\": 550.0, \"label_x\": 310.0, \"label_y\": 580.0, \"bigg_id\": \"PYRUVATE_c\", \"name\": \"PYRUVATE_c\", \"node_is_primary\": false}, \"4\": {\"node_type\": \"multimarker\", \"x\": 225.0, \"y\": 305.0}, \"5\": {\"node_type\": \"midmarker\", \"x\": 225.0, \"y\": 325.0}, \"6\": {\"node_type\": \"multimarker\", \"x\": 225.0, \"y\": 345.0}, \"7\": {\"node_type\": \"metabolite\", \"x\": 300.0, \"y\": 680.0, \"label_x\": 310.0, \"label_y\": 670.0, \"bigg_id\": \"NADP_c\", \"name\": \"NADP_c\", \"node_is_primary\": false}, \"8\": {\"node_type\": \"metabolite\", \"x\": 112.5, \"y\": 1200.0, \"label_x\": 122.5, \"label_y\": 1230.0, \"bigg_id\": \"D_6_P_GLUCONO_DELTA_LACTONE_c\", \"name\": \"D_6_P_GLUCONO_DELTA_LACTONE_c\", \"node_is_primary\": false}, \"9\": {\"node_type\": \"metabolite\", \"x\": 225.0, \"y\": 1200.0, \"label_x\": 235.0, \"label_y\": 1230.0, \"bigg_id\": \"NADPH_c\", \"name\": \"NADPH_c\", \"node_is_primary\": false}, \"10\": {\"node_type\": \"metabolite\", \"x\": 337.5, \"y\": 1200.0, \"label_x\": 347.5, \"label_y\": 1230.0, \"bigg_id\": \"PROTON_c\", \"name\": \"PROTON_c\", \"node_is_primary\": false}, \"11\": {\"node_type\": \"multimarker\", \"x\": 225.0, \"y\": 955.0}, \"12\": {\"node_type\": \"midmarker\", \"x\": 225.0, \"y\": 975.0}, \"13\": {\"node_type\": \"multimarker\", \"x\": 225.0, \"y\": 995.0}, \"14\": {\"node_type\": \"metabolite\", \"x\": 150.0, \"y\": 1330.0, \"label_x\": 160.0, \"label_y\": 1320.0, \"bigg_id\": \"CPD_15815_c\", \"name\": \"CPD_15815_c\", \"node_is_primary\": false}, \"15\": {\"node_type\": \"metabolite\", \"x\": 150.0, \"y\": 1850.0, \"label_x\": 160.0, \"label_y\": 1880.0, \"bigg_id\": \"CPD_2961_c\", \"name\": \"CPD_2961_c\", \"node_is_primary\": false}, \"16\": {\"node_type\": \"metabolite\", \"x\": 300.0, \"y\": 1850.0, \"label_x\": 310.0, \"label_y\": 1880.0, \"bigg_id\": \"PROTON_c\", \"name\": \"PROTON_c\", \"node_is_primary\": false}, \"17\": {\"node_type\": \"multimarker\", \"x\": 225.0, \"y\": 1605.0}, \"18\": {\"node_type\": \"midmarker\", \"x\": 225.0, \"y\": 1625.0}, \"19\": {\"node_type\": \"multimarker\", \"x\": 225.0, \"y\": 1645.0}, \"20\": {\"node_type\": \"metabolite\", \"x\": 300.0, \"y\": 1980.0, \"label_x\": 310.0, \"label_y\": 1970.0, \"bigg_id\": \"NADP_c\", \"name\": \"NADP_c\", \"node_is_primary\": false}, \"21\": {\"node_type\": \"metabolite\", \"x\": 112.5, \"y\": 2500.0, \"label_x\": 122.5, \"label_y\": 2530.0, \"bigg_id\": \"CARBON_DIOXIDE_c\", \"name\": \"CARBON_DIOXIDE_c\", \"node_is_primary\": false}, \"22\": {\"node_type\": \"metabolite\", \"x\": 225.0, \"y\": 2500.0, \"label_x\": 235.0, \"label_y\": 2530.0, \"bigg_id\": \"NADPH_c\", \"name\": \"NADPH_c\", \"node_is_primary\": false}, \"23\": {\"node_type\": \"metabolite\", \"x\": 337.5, \"y\": 2500.0, \"label_x\": 347.5, \"label_y\": 2530.0, \"bigg_id\": \"RIBULOSE_5P_c\", \"name\": \"RIBULOSE_5P_c\", \"node_is_primary\": false}, \"24\": {\"node_type\": \"multimarker\", \"x\": 225.0, \"y\": 2255.0}, \"25\": {\"node_type\": \"midmarker\", \"x\": 225.0, \"y\": 2275.0}, \"26\": {\"node_type\": \"multimarker\", \"x\": 225.0, \"y\": 2295.0}}, \"text_labels\": {}, \"canvas\": {\"x\": 0, \"y\": 0, \"width\": 450, \"height\": 2600}}]",
       "_loaded_model_json": null,
       "allow_building_duplicate_reactions": false,
       "and_method_in_gene_reaction_rule": "mean",
       "canvas_size_and_loc": null,
       "cofactors": [
        "atp",
        "adp",
        "nad",
        "nadh",
        "nadp",
        "nadph",
        "gtp",
        "gdp",
        "h",
        "coa",
        "ump",
        "h2o",
        "ppi"
       ],
       "disabled_buttons": [
        "Clear reaction data",
        "Clear gene data",
        "Clear metabolite data"
       ],
       "embedded_css": null,
       "enable_editing": true,
       "enable_keys": false,
       "enable_keys_with_tooltip": true,
       "enable_search": true,
       "enable_tooltips": false,
       "full_screen_button": {
        "enable_editing": true,
        "enable_keys": true,
        "enable_tooltips": [
         "label"
        ],
        "menu": "all",
        "scroll_behavior": "pan"
       },
       "gene_data": null,
       "gene_font_size": 18,
       "height": 500,
       "hide_all_labels": false,
       "hide_secondary_metabolites": false,
       "highlight_missing": false,
       "identifiers_on_map": "bigg_id",
       "layout": "IPY_MODEL_c59e14409027428885cc07dad4ba43ba",
       "marker_radius": 5,
       "menu": "all",
       "metabolite_compare_style": "log2_fold",
       "metabolite_data": null,
       "metabolite_no_data_color": "#ffffff",
       "metabolite_no_data_size": 10,
       "metabolite_scale": [
        {
         "color": "#fffaf0",
         "size": 20,
         "type": "min"
        },
        {
         "color": "#f1c470",
         "size": 30,
         "type": "median"
        },
        {
         "color": "#800000",
         "size": 40,
         "type": "max"
        }
       ],
       "metabolite_scale_preset": "WhYlRd",
       "metabolite_styles": [
        "color",
        "size",
        "text"
       ],
       "never_ask_before_quit": true,
       "primary_metabolite_radius": 20,
       "reaction_compare_style": "log2_fold",
       "reaction_data": null,
       "reaction_no_data_color": "#dcdcdc",
       "reaction_no_data_size": 8,
       "reaction_scale": {},
       "reaction_scale_preset": null,
       "reaction_styles": [
        "color",
        "text"
       ],
       "scroll_behavior": "none",
       "secondary_metabolite_radius": 10,
       "semantic_zoom": null,
       "show_gene_reaction_rules": false,
       "starting_reaction": null,
       "use_3d_transform": false,
       "zoom_to_element": null
      }
     },
     "4cd5739717bf4bc1b67357871fbda3dd": {
      "model_module": "escher",
      "model_module_version": "1.7.3",
      "model_name": "EscherMapModel",
      "state": {
       "_loaded_map_json": "[{\"map_name\": \"\", \"map_id\": \"\", \"map_description\": \"\", \"homepage\": \"\", \"schema\": \"https://escher.github.io/escher/jsonschema/1-0-0#\"}, {\"reactions\": {\"0\": {\"name\": \"GLCpts\", \"bigg_id\": \"GLCpts\", \"reversibility\": true, \"label_x\": 265.0, \"label_y\": 325.0, \"gene_reaction_rule\": \"\", \"genes\": [], \"segments\": {\"0\": {\"from_node_id\": \"4\", \"to_node_id\": \"5\", \"b1\": null, \"b2\": null}, \"1\": {\"from_node_id\": \"6\", \"to_node_id\": \"5\", \"b1\": null, \"b2\": null}, \"2\": {\"from_node_id\": \"0\", \"to_node_id\": \"4\", \"b1\": null, \"b2\": null}, \"3\": {\"from_node_id\": \"1\", \"to_node_id\": \"4\", \"b1\": null, \"b2\": null}, \"4\": {\"from_node_id\": \"2\", \"to_node_id\": \"6\", \"b1\": null, \"b2\": null}, \"5\": {\"from_node_id\": \"3\", \"to_node_id\": \"6\", \"b1\": null, \"b2\": null}}, \"metabolites\": [{\"bigg_id\": \"Glucopyranose_e\", \"coefficient\": -1.0}, {\"bigg_id\": \"PHOSPHO_ENOL_PYRUVATE_c\", \"coefficient\": -1.0}, {\"bigg_id\": \"D_glucopyranose_6_phosphate_c\", \"coefficient\": 1.0}, {\"bigg_id\": \"PYRUVATE_c\", \"coefficient\": 1.0}]}, \"1\": {\"name\": \"G6PDH2r\", \"bigg_id\": \"G6PDH2r\", \"reversibility\": true, \"label_x\": 265.0, \"label_y\": 975.0, \"gene_reaction_rule\": \"\", \"genes\": [], \"segments\": {\"6\": {\"from_node_id\": \"11\", \"to_node_id\": \"12\", \"b1\": null, \"b2\": null}, \"7\": {\"from_node_id\": \"13\", \"to_node_id\": \"12\", \"b1\": null, \"b2\": null}, \"8\": {\"from_node_id\": \"2\", \"to_node_id\": \"11\", \"b1\": null, \"b2\": null}, \"9\": {\"from_node_id\": \"7\", \"to_node_id\": \"11\", \"b1\": null, \"b2\": null}, \"10\": {\"from_node_id\": \"8\", \"to_node_id\": \"13\", \"b1\": null, \"b2\": null}, \"11\": {\"from_node_id\": \"9\", \"to_node_id\": \"13\", \"b1\": null, \"b2\": null}, \"12\": {\"from_node_id\": \"10\", \"to_node_id\": \"13\", \"b1\": null, \"b2\": null}}, \"metabolites\": [{\"bigg_id\": \"D_glucopyranose_6_phosphate_c\", \"coefficient\": -1.0}, {\"bigg_id\": \"NADP_c\", \"coefficient\": -1.0}, {\"bigg_id\": \"D_6_P_GLUCONO_DELTA_LACTONE_c\", \"coefficient\": 1.0}, {\"bigg_id\": \"NADPH_c\", \"coefficient\": 1.0}, {\"bigg_id\": \"PROTON_c\", \"coefficient\": 1.0}]}, \"2\": {\"name\": \"PGL\", \"bigg_id\": \"PGL\", \"reversibility\": true, \"label_x\": 265.0, \"label_y\": 1625.0, \"gene_reaction_rule\": \"\", \"genes\": [], \"segments\": {\"13\": {\"from_node_id\": \"17\", \"to_node_id\": \"18\", \"b1\": null, \"b2\": null}, \"14\": {\"from_node_id\": \"19\", \"to_node_id\": \"18\", \"b1\": null, \"b2\": null}, \"15\": {\"from_node_id\": \"14\", \"to_node_id\": \"17\", \"b1\": null, \"b2\": null}, \"16\": {\"from_node_id\": \"8\", \"to_node_id\": \"17\", \"b1\": null, \"b2\": null}, \"17\": {\"from_node_id\": \"15\", \"to_node_id\": \"19\", \"b1\": null, \"b2\": null}, \"18\": {\"from_node_id\": \"16\", \"to_node_id\": \"19\", \"b1\": null, \"b2\": null}}, \"metabolites\": [{\"bigg_id\": \"CPD_15815_c\", \"coefficient\": -1.0}, {\"bigg_id\": \"D_6_P_GLUCONO_DELTA_LACTONE_c\", \"coefficient\": -1.0}, {\"bigg_id\": \"CPD_2961_c\", \"coefficient\": 1.0}, {\"bigg_id\": \"PROTON_c\", \"coefficient\": 1.0}]}, \"3\": {\"name\": \"GND\", \"bigg_id\": \"GND\", \"reversibility\": true, \"label_x\": 265.0, \"label_y\": 2275.0, \"gene_reaction_rule\": \"\", \"genes\": [], \"segments\": {\"19\": {\"from_node_id\": \"24\", \"to_node_id\": \"25\", \"b1\": null, \"b2\": null}, \"20\": {\"from_node_id\": \"26\", \"to_node_id\": \"25\", \"b1\": null, \"b2\": null}, \"21\": {\"from_node_id\": \"15\", \"to_node_id\": \"24\", \"b1\": null, \"b2\": null}, \"22\": {\"from_node_id\": \"20\", \"to_node_id\": \"24\", \"b1\": null, \"b2\": null}, \"23\": {\"from_node_id\": \"21\", \"to_node_id\": \"26\", \"b1\": null, \"b2\": null}, \"24\": {\"from_node_id\": \"22\", \"to_node_id\": \"26\", \"b1\": null, \"b2\": null}, \"25\": {\"from_node_id\": \"23\", \"to_node_id\": \"26\", \"b1\": null, \"b2\": null}}, \"metabolites\": [{\"bigg_id\": \"CPD_2961_c\", \"coefficient\": -1.0}, {\"bigg_id\": \"NADP_c\", \"coefficient\": -1.0}, {\"bigg_id\": \"CARBON_DIOXIDE_c\", \"coefficient\": 1.0}, {\"bigg_id\": \"NADPH_c\", \"coefficient\": 1.0}, {\"bigg_id\": \"RIBULOSE_5P_c\", \"coefficient\": 1.0}]}}, \"nodes\": {\"0\": {\"node_type\": \"metabolite\", \"x\": 150.0, \"y\": 30.0, \"label_x\": 160.0, \"label_y\": 20.0, \"bigg_id\": \"Glucopyranose_e\", \"name\": \"Glucopyranose_e\", \"node_is_primary\": false}, \"1\": {\"node_type\": \"metabolite\", \"x\": 300.0, \"y\": 30.0, \"label_x\": 310.0, \"label_y\": 20.0, \"bigg_id\": \"PHOSPHO_ENOL_PYRUVATE_c\", \"name\": \"PHOSPHO_ENOL_PYRUVATE_c\", \"node_is_primary\": false}, \"2\": {\"node_type\": \"metabolite\", \"x\": 150.0, \"y\": 550.0, \"label_x\": 160.0, \"label_y\": 580.0, \"bigg_id\": \"D_glucopyranose_6_phosphate_c\", \"name\": \"D_glucopyranose_6_phosphate_c\", \"node_is_primary\": false}, \"3\": {\"node_type\": \"metabolite\", \"x\": 300.0, \"y\": 550.0, \"label_x\": 310.0, \"label_y\": 580.0, \"bigg_id\": \"PYRUVATE_c\", \"name\": \"PYRUVATE_c\", \"node_is_primary\": false}, \"4\": {\"node_type\": \"multimarker\", \"x\": 225.0, \"y\": 305.0}, \"5\": {\"node_type\": \"midmarker\", \"x\": 225.0, \"y\": 325.0}, \"6\": {\"node_type\": \"multimarker\", \"x\": 225.0, \"y\": 345.0}, \"7\": {\"node_type\": \"metabolite\", \"x\": 300.0, \"y\": 680.0, \"label_x\": 310.0, \"label_y\": 670.0, \"bigg_id\": \"NADP_c\", \"name\": \"NADP_c\", \"node_is_primary\": false}, \"8\": {\"node_type\": \"metabolite\", \"x\": 112.5, \"y\": 1200.0, \"label_x\": 122.5, \"label_y\": 1230.0, \"bigg_id\": \"D_6_P_GLUCONO_DELTA_LACTONE_c\", \"name\": \"D_6_P_GLUCONO_DELTA_LACTONE_c\", \"node_is_primary\": false}, \"9\": {\"node_type\": \"metabolite\", \"x\": 225.0, \"y\": 1200.0, \"label_x\": 235.0, \"label_y\": 1230.0, \"bigg_id\": \"NADPH_c\", \"name\": \"NADPH_c\", \"node_is_primary\": false}, \"10\": {\"node_type\": \"metabolite\", \"x\": 337.5, \"y\": 1200.0, \"label_x\": 347.5, \"label_y\": 1230.0, \"bigg_id\": \"PROTON_c\", \"name\": \"PROTON_c\", \"node_is_primary\": false}, \"11\": {\"node_type\": \"multimarker\", \"x\": 225.0, \"y\": 955.0}, \"12\": {\"node_type\": \"midmarker\", \"x\": 225.0, \"y\": 975.0}, \"13\": {\"node_type\": \"multimarker\", \"x\": 225.0, \"y\": 995.0}, \"14\": {\"node_type\": \"metabolite\", \"x\": 150.0, \"y\": 1330.0, \"label_x\": 160.0, \"label_y\": 1320.0, \"bigg_id\": \"CPD_15815_c\", \"name\": \"CPD_15815_c\", \"node_is_primary\": false}, \"15\": {\"node_type\": \"metabolite\", \"x\": 150.0, \"y\": 1850.0, \"label_x\": 160.0, \"label_y\": 1880.0, \"bigg_id\": \"CPD_2961_c\", \"name\": \"CPD_2961_c\", \"node_is_primary\": false}, \"16\": {\"node_type\": \"metabolite\", \"x\": 300.0, \"y\": 1850.0, \"label_x\": 310.0, \"label_y\": 1880.0, \"bigg_id\": \"PROTON_c\", \"name\": \"PROTON_c\", \"node_is_primary\": false}, \"17\": {\"node_type\": \"multimarker\", \"x\": 225.0, \"y\": 1605.0}, \"18\": {\"node_type\": \"midmarker\", \"x\": 225.0, \"y\": 1625.0}, \"19\": {\"node_type\": \"multimarker\", \"x\": 225.0, \"y\": 1645.0}, \"20\": {\"node_type\": \"metabolite\", \"x\": 300.0, \"y\": 1980.0, \"label_x\": 310.0, \"label_y\": 1970.0, \"bigg_id\": \"NADP_c\", \"name\": \"NADP_c\", \"node_is_primary\": false}, \"21\": {\"node_type\": \"metabolite\", \"x\": 112.5, \"y\": 2500.0, \"label_x\": 122.5, \"label_y\": 2530.0, \"bigg_id\": \"CARBON_DIOXIDE_c\", \"name\": \"CARBON_DIOXIDE_c\", \"node_is_primary\": false}, \"22\": {\"node_type\": \"metabolite\", \"x\": 225.0, \"y\": 2500.0, \"label_x\": 235.0, \"label_y\": 2530.0, \"bigg_id\": \"NADPH_c\", \"name\": \"NADPH_c\", \"node_is_primary\": false}, \"23\": {\"node_type\": \"metabolite\", \"x\": 337.5, \"y\": 2500.0, \"label_x\": 347.5, \"label_y\": 2530.0, \"bigg_id\": \"RIBULOSE_5P_c\", \"name\": \"RIBULOSE_5P_c\", \"node_is_primary\": false}, \"24\": {\"node_type\": \"multimarker\", \"x\": 225.0, \"y\": 2255.0}, \"25\": {\"node_type\": \"midmarker\", \"x\": 225.0, \"y\": 2275.0}, \"26\": {\"node_type\": \"multimarker\", \"x\": 225.0, \"y\": 2295.0}}, \"text_labels\": {}, \"canvas\": {\"x\": 0, \"y\": 0, \"width\": 450, \"height\": 2600}}]",
       "_loaded_model_json": null,
       "allow_building_duplicate_reactions": false,
       "and_method_in_gene_reaction_rule": "mean",
       "canvas_size_and_loc": null,
       "cofactors": [
        "atp",
        "adp",
        "nad",
        "nadh",
        "nadp",
        "nadph",
        "gtp",
        "gdp",
        "h",
        "coa",
        "ump",
        "h2o",
        "ppi"
       ],
       "disabled_buttons": [
        "Clear gene data",
        "Clear metabolite data"
       ],
       "embedded_css": null,
       "enable_editing": true,
       "enable_keys": false,
       "enable_keys_with_tooltip": true,
       "enable_search": true,
       "enable_tooltips": false,
       "full_screen_button": {
        "enable_editing": true,
        "enable_keys": true,
        "enable_tooltips": [
         "label"
        ],
        "menu": "all",
        "scroll_behavior": "pan"
       },
       "gene_data": null,
       "gene_font_size": 18,
       "height": 500,
       "hide_all_labels": false,
       "hide_secondary_metabolites": false,
       "highlight_missing": false,
       "identifiers_on_map": "bigg_id",
       "layout": "IPY_MODEL_1667b77aac6449a09c33cd22d3063386",
       "marker_radius": 5,
       "menu": "all",
       "metabolite_compare_style": "log2_fold",
       "metabolite_data": null,
       "metabolite_no_data_color": "#ffffff",
       "metabolite_no_data_size": 10,
       "metabolite_scale": [
        {
         "color": "#fffaf0",
         "size": 20,
         "type": "min"
        },
        {
         "color": "#f1c470",
         "size": 30,
         "type": "median"
        },
        {
         "color": "#800000",
         "size": 40,
         "type": "max"
        }
       ],
       "metabolite_scale_preset": "WhYlRd",
       "metabolite_styles": [
        "color",
        "size",
        "text"
       ],
       "never_ask_before_quit": true,
       "primary_metabolite_radius": 20,
       "reaction_compare_style": "log2_fold",
       "reaction_data": {
        "G6PDH2r": -2,
        "GLCpts": -2,
        "GND": 1,
        "Other": 1000,
        "PGL": 0.4
       },
       "reaction_no_data_color": "#dcdcdc",
       "reaction_no_data_size": 8,
       "reaction_scale": [
        {
         "color": "rgb(191,215,230)",
         "type": "value",
         "value": 0.4
        },
        {
         "color": "rgb(163,210,240)",
         "type": "value",
         "value": 1
        },
        {
         "color": "rgb(135,205,250)",
         "type": "value",
         "value": 1000
        },
        {
         "color": "rgb(220,220,220)",
         "type": "value",
         "value": 0
        },
        {
         "color": "rgb(237,192,110)",
         "type": "value",
         "value": -2
        },
        {
         "color": "rgb(255,165,0)",
         "type": "value",
         "value": -2
        }
       ],
       "reaction_scale_preset": null,
       "reaction_styles": [
        "color",
        "text"
       ],
       "scroll_behavior": "none",
       "secondary_metabolite_radius": 10,
       "semantic_zoom": null,
       "show_gene_reaction_rules": false,
       "starting_reaction": null,
       "use_3d_transform": false,
       "zoom_to_element": null
      }
     },
     "57d09821da0444d099089531312eb30d": {
      "model_module": "@jupyter-widgets/base",
      "model_module_version": "1.2.0",
      "model_name": "LayoutModel",
      "state": {}
     },
     "6f6d031ba9fa432b9937a3c5c929d98e": {
      "model_module": "escher",
      "model_module_version": "1.7.3",
      "model_name": "EscherMapModel",
      "state": {
       "_loaded_map_json": "[{\"map_name\": \"\", \"map_id\": \"\", \"map_description\": \"\", \"homepage\": \"\", \"schema\": \"https://escher.github.io/escher/jsonschema/1-0-0#\"}, {\"reactions\": {\"0\": {\"name\": \"GLCpts\", \"bigg_id\": \"GLCpts\", \"reversibility\": true, \"label_x\": 271.0, \"label_y\": 45.0, \"gene_reaction_rule\": \"\", \"genes\": [], \"segments\": {\"0\": {\"from_node_id\": \"4\", \"to_node_id\": \"5\", \"b1\": null, \"b2\": null}, \"1\": {\"from_node_id\": \"6\", \"to_node_id\": \"5\", \"b1\": null, \"b2\": null}, \"2\": {\"from_node_id\": \"0\", \"to_node_id\": \"4\", \"b1\": null, \"b2\": null}, \"3\": {\"from_node_id\": \"1\", \"to_node_id\": \"4\", \"b1\": null, \"b2\": null}, \"4\": {\"from_node_id\": \"2\", \"to_node_id\": \"6\", \"b1\": null, \"b2\": null}, \"5\": {\"from_node_id\": \"3\", \"to_node_id\": \"6\", \"b1\": null, \"b2\": null}}, \"metabolites\": [{\"bigg_id\": \"Glucopyranose_e\", \"coefficient\": -1.0}, {\"bigg_id\": \"PHOSPHO_ENOL_PYRUVATE_c\", \"coefficient\": -1.0}, {\"bigg_id\": \"D_glucopyranose_6_phosphate_c\", \"coefficient\": 1.0}, {\"bigg_id\": \"PYRUVATE_c\", \"coefficient\": 1.0}]}, \"1\": {\"name\": \"G6PDH2r\", \"bigg_id\": \"G6PDH2r\", \"reversibility\": true, \"label_x\": 912.0, \"label_y\": 45.0, \"gene_reaction_rule\": \"\", \"genes\": [], \"segments\": {\"6\": {\"from_node_id\": \"11\", \"to_node_id\": \"12\", \"b1\": null, \"b2\": null}, \"7\": {\"from_node_id\": \"13\", \"to_node_id\": \"12\", \"b1\": null, \"b2\": null}, \"8\": {\"from_node_id\": \"2\", \"to_node_id\": \"11\", \"b1\": null, \"b2\": null}, \"9\": {\"from_node_id\": \"7\", \"to_node_id\": \"11\", \"b1\": null, \"b2\": null}, \"10\": {\"from_node_id\": \"8\", \"to_node_id\": \"13\", \"b1\": null, \"b2\": null}, \"11\": {\"from_node_id\": \"9\", \"to_node_id\": \"13\", \"b1\": null, \"b2\": null}, \"12\": {\"from_node_id\": \"10\", \"to_node_id\": \"13\", \"b1\": null, \"b2\": null}}, \"metabolites\": [{\"bigg_id\": \"D_glucopyranose_6_phosphate_c\", \"coefficient\": -1.0}, {\"bigg_id\": \"NADP_c\", \"coefficient\": -1.0}, {\"bigg_id\": \"D_6_P_GLUCONO_DELTA_LACTONE_c\", \"coefficient\": 1.0}, {\"bigg_id\": \"NADPH_c\", \"coefficient\": 1.0}, {\"bigg_id\": \"PROTON_c\", \"coefficient\": 1.0}]}, \"2\": {\"name\": \"PGL\", \"bigg_id\": \"PGL\", \"reversibility\": true, \"label_x\": 1598.0, \"label_y\": 45.0, \"gene_reaction_rule\": \"\", \"genes\": [], \"segments\": {\"13\": {\"from_node_id\": \"17\", \"to_node_id\": \"18\", \"b1\": null, \"b2\": null}, \"14\": {\"from_node_id\": \"19\", \"to_node_id\": \"18\", \"b1\": null, \"b2\": null}, \"15\": {\"from_node_id\": \"14\", \"to_node_id\": \"17\", \"b1\": null, \"b2\": null}, \"16\": {\"from_node_id\": \"8\", \"to_node_id\": \"17\", \"b1\": null, \"b2\": null}, \"17\": {\"from_node_id\": \"15\", \"to_node_id\": \"19\", \"b1\": null, \"b2\": null}, \"18\": {\"from_node_id\": \"16\", \"to_node_id\": \"19\", \"b1\": null, \"b2\": null}}, \"metabolites\": [{\"bigg_id\": \"CPD_15815_c\", \"coefficient\": -1.0}, {\"bigg_id\": \"D_6_P_GLUCONO_DELTA_LACTONE_c\", \"coefficient\": -1.0}, {\"bigg_id\": \"CPD_2961_c\", \"coefficient\": 1.0}, {\"bigg_id\": \"PROTON_c\", \"coefficient\": 1.0}]}, \"3\": {\"name\": \"GND\", \"bigg_id\": \"GND\", \"reversibility\": true, \"label_x\": 2248.0, \"label_y\": 45.0, \"gene_reaction_rule\": \"\", \"genes\": [], \"segments\": {\"19\": {\"from_node_id\": \"24\", \"to_node_id\": \"25\", \"b1\": null, \"b2\": null}, \"20\": {\"from_node_id\": \"26\", \"to_node_id\": \"25\", \"b1\": null, \"b2\": null}, \"21\": {\"from_node_id\": \"15\", \"to_node_id\": \"24\", \"b1\": null, \"b2\": null}, \"22\": {\"from_node_id\": \"20\", \"to_node_id\": \"24\", \"b1\": null, \"b2\": null}, \"23\": {\"from_node_id\": \"21\", \"to_node_id\": \"26\", \"b1\": null, \"b2\": null}, \"24\": {\"from_node_id\": \"22\", \"to_node_id\": \"26\", \"b1\": null, \"b2\": null}, \"25\": {\"from_node_id\": \"23\", \"to_node_id\": \"26\", \"b1\": null, \"b2\": null}}, \"metabolites\": [{\"bigg_id\": \"CPD_2961_c\", \"coefficient\": -1.0}, {\"bigg_id\": \"NADP_c\", \"coefficient\": -1.0}, {\"bigg_id\": \"CARBON_DIOXIDE_c\", \"coefficient\": 1.0}, {\"bigg_id\": \"NADPH_c\", \"coefficient\": 1.0}, {\"bigg_id\": \"RIBULOSE_5P_c\", \"coefficient\": 1.0}]}}, \"nodes\": {\"0\": {\"node_type\": \"metabolite\", \"x\": 30.0, \"y\": 150.0, \"label_x\": 0.0, \"label_y\": 130.0, \"bigg_id\": \"Glucopyranose_e\", \"name\": \"Glucopyranose_e\", \"node_is_primary\": false}, \"1\": {\"node_type\": \"metabolite\", \"x\": 30.0, \"y\": 300.0, \"label_x\": 0.0, \"label_y\": 280.0, \"bigg_id\": \"PHOSPHO_ENOL_PYRUVATE_c\", \"name\": \"PHOSPHO_ENOL_PYRUVATE_c\", \"node_is_primary\": false}, \"2\": {\"node_type\": \"metabolite\", \"x\": 550.0, \"y\": 150.0, \"label_x\": 520.0, \"label_y\": 130.0, \"bigg_id\": \"D_glucopyranose_6_phosphate_c\", \"name\": \"D_glucopyranose_6_phosphate_c\", \"node_is_primary\": false}, \"3\": {\"node_type\": \"metabolite\", \"x\": 550.0, \"y\": 300.0, \"label_x\": 520.0, \"label_y\": 280.0, \"bigg_id\": \"PYRUVATE_c\", \"name\": \"PYRUVATE_c\", \"node_is_primary\": false}, \"4\": {\"node_type\": \"multimarker\", \"x\": 335.0, \"y\": 225.0}, \"5\": {\"node_type\": \"midmarker\", \"x\": 355.0, \"y\": 225.0}, \"6\": {\"node_type\": \"multimarker\", \"x\": 375.0, \"y\": 225.0}, \"7\": {\"node_type\": \"metabolite\", \"x\": 680.0, \"y\": 300.0, \"label_x\": 650.0, \"label_y\": 280.0, \"bigg_id\": \"NADP_c\", \"name\": \"NADP_c\", \"node_is_primary\": false}, \"8\": {\"node_type\": \"metabolite\", \"x\": 1200.0, \"y\": 112.5, \"label_x\": 1170.0, \"label_y\": 92.5, \"bigg_id\": \"D_6_P_GLUCONO_DELTA_LACTONE_c\", \"name\": \"D_6_P_GLUCONO_DELTA_LACTONE_c\", \"node_is_primary\": false}, \"9\": {\"node_type\": \"metabolite\", \"x\": 1200.0, \"y\": 225.0, \"label_x\": 1170.0, \"label_y\": 205.0, \"bigg_id\": \"NADPH_c\", \"name\": \"NADPH_c\", \"node_is_primary\": false}, \"10\": {\"node_type\": \"metabolite\", \"x\": 1200.0, \"y\": 337.5, \"label_x\": 1170.0, \"label_y\": 317.5, \"bigg_id\": \"PROTON_c\", \"name\": \"PROTON_c\", \"node_is_primary\": false}, \"11\": {\"node_type\": \"multimarker\", \"x\": 985.0, \"y\": 225.0}, \"12\": {\"node_type\": \"midmarker\", \"x\": 1005.0, \"y\": 225.0}, \"13\": {\"node_type\": \"multimarker\", \"x\": 1025.0, \"y\": 225.0}, \"14\": {\"node_type\": \"metabolite\", \"x\": 1330.0, \"y\": 150.0, \"label_x\": 1300.0, \"label_y\": 130.0, \"bigg_id\": \"CPD_15815_c\", \"name\": \"CPD_15815_c\", \"node_is_primary\": false}, \"15\": {\"node_type\": \"metabolite\", \"x\": 1850.0, \"y\": 150.0, \"label_x\": 1820.0, \"label_y\": 130.0, \"bigg_id\": \"CPD_2961_c\", \"name\": \"CPD_2961_c\", \"node_is_primary\": false}, \"16\": {\"node_type\": \"metabolite\", \"x\": 1850.0, \"y\": 300.0, \"label_x\": 1820.0, \"label_y\": 280.0, \"bigg_id\": \"PROTON_c\", \"name\": \"PROTON_c\", \"node_is_primary\": false}, \"17\": {\"node_type\": \"multimarker\", \"x\": 1635.0, \"y\": 225.0}, \"18\": {\"node_type\": \"midmarker\", \"x\": 1655.0, \"y\": 225.0}, \"19\": {\"node_type\": \"multimarker\", \"x\": 1675.0, \"y\": 225.0}, \"20\": {\"node_type\": \"metabolite\", \"x\": 1980.0, \"y\": 300.0, \"label_x\": 1950.0, \"label_y\": 280.0, \"bigg_id\": \"NADP_c\", \"name\": \"NADP_c\", \"node_is_primary\": false}, \"21\": {\"node_type\": \"metabolite\", \"x\": 2500.0, \"y\": 112.5, \"label_x\": 2470.0, \"label_y\": 92.5, \"bigg_id\": \"CARBON_DIOXIDE_c\", \"name\": \"CARBON_DIOXIDE_c\", \"node_is_primary\": false}, \"22\": {\"node_type\": \"metabolite\", \"x\": 2500.0, \"y\": 225.0, \"label_x\": 2470.0, \"label_y\": 205.0, \"bigg_id\": \"NADPH_c\", \"name\": \"NADPH_c\", \"node_is_primary\": false}, \"23\": {\"node_type\": \"metabolite\", \"x\": 2500.0, \"y\": 337.5, \"label_x\": 2470.0, \"label_y\": 317.5, \"bigg_id\": \"RIBULOSE_5P_c\", \"name\": \"RIBULOSE_5P_c\", \"node_is_primary\": false}, \"24\": {\"node_type\": \"multimarker\", \"x\": 2285.0, \"y\": 225.0}, \"25\": {\"node_type\": \"midmarker\", \"x\": 2305.0, \"y\": 225.0}, \"26\": {\"node_type\": \"multimarker\", \"x\": 2325.0, \"y\": 225.0}}, \"text_labels\": {}, \"canvas\": {\"x\": 0, \"y\": 0, \"width\": 2600, \"height\": 450}}]",
       "_loaded_model_json": null,
       "allow_building_duplicate_reactions": false,
       "and_method_in_gene_reaction_rule": "mean",
       "canvas_size_and_loc": null,
       "cofactors": [
        "atp",
        "adp",
        "nad",
        "nadh",
        "nadp",
        "nadph",
        "gtp",
        "gdp",
        "h",
        "coa",
        "ump",
        "h2o",
        "ppi"
       ],
       "disabled_buttons": [
        "Clear reaction data",
        "Clear gene data",
        "Clear metabolite data"
       ],
       "embedded_css": null,
       "enable_editing": true,
       "enable_keys": false,
       "enable_keys_with_tooltip": true,
       "enable_search": true,
       "enable_tooltips": false,
       "full_screen_button": {
        "enable_editing": true,
        "enable_keys": true,
        "enable_tooltips": [
         "label"
        ],
        "menu": "all",
        "scroll_behavior": "pan"
       },
       "gene_data": null,
       "gene_font_size": 18,
       "height": 500,
       "hide_all_labels": false,
       "hide_secondary_metabolites": false,
       "highlight_missing": false,
       "identifiers_on_map": "bigg_id",
       "layout": "IPY_MODEL_c7be2481d0c245de8925080a1849a7d9",
       "marker_radius": 5,
       "menu": "all",
       "metabolite_compare_style": "log2_fold",
       "metabolite_data": null,
       "metabolite_no_data_color": "#ffffff",
       "metabolite_no_data_size": 10,
       "metabolite_scale": [
        {
         "color": "#fffaf0",
         "size": 20,
         "type": "min"
        },
        {
         "color": "#f1c470",
         "size": 30,
         "type": "median"
        },
        {
         "color": "#800000",
         "size": 40,
         "type": "max"
        }
       ],
       "metabolite_scale_preset": "WhYlRd",
       "metabolite_styles": [
        "color",
        "size",
        "text"
       ],
       "never_ask_before_quit": true,
       "primary_metabolite_radius": 20,
       "reaction_compare_style": "log2_fold",
       "reaction_data": null,
       "reaction_no_data_color": "#dcdcdc",
       "reaction_no_data_size": 8,
       "reaction_scale": {},
       "reaction_scale_preset": null,
       "reaction_styles": [
        "color",
        "text"
       ],
       "scroll_behavior": "none",
       "secondary_metabolite_radius": 10,
       "semantic_zoom": null,
       "show_gene_reaction_rules": false,
       "starting_reaction": null,
       "use_3d_transform": false,
       "zoom_to_element": null
      }
     },
     "71a97f04a1e04d578e0dbbdea0f02459": {
      "model_module": "escher",
      "model_module_version": "1.7.3",
      "model_name": "EscherMapModel",
      "state": {
       "_loaded_map_json": "[{\"map_name\": \"\", \"map_id\": \"\", \"map_description\": \"\", \"homepage\": \"\", \"schema\": \"https://escher.github.io/escher/jsonschema/1-0-0#\"}, {\"reactions\": {\"0\": {\"name\": \"GLCpts\", \"bigg_id\": \"GLCpts\", \"reversibility\": true, \"label_x\": 265.0, \"label_y\": 325.0, \"gene_reaction_rule\": \"\", \"genes\": [], \"segments\": {\"0\": {\"from_node_id\": \"4\", \"to_node_id\": \"5\", \"b1\": null, \"b2\": null}, \"1\": {\"from_node_id\": \"6\", \"to_node_id\": \"5\", \"b1\": null, \"b2\": null}, \"2\": {\"from_node_id\": \"0\", \"to_node_id\": \"4\", \"b1\": null, \"b2\": null}, \"3\": {\"from_node_id\": \"1\", \"to_node_id\": \"4\", \"b1\": null, \"b2\": null}, \"4\": {\"from_node_id\": \"2\", \"to_node_id\": \"6\", \"b1\": null, \"b2\": null}, \"5\": {\"from_node_id\": \"3\", \"to_node_id\": \"6\", \"b1\": null, \"b2\": null}}, \"metabolites\": [{\"bigg_id\": \"Glucopyranose_e\", \"coefficient\": -1.0}, {\"bigg_id\": \"PHOSPHO_ENOL_PYRUVATE_c\", \"coefficient\": -1.0}, {\"bigg_id\": \"D_glucopyranose_6_phosphate_c\", \"coefficient\": 1.0}, {\"bigg_id\": \"PYRUVATE_c\", \"coefficient\": 1.0}]}, \"1\": {\"name\": \"G6PDH2r\", \"bigg_id\": \"G6PDH2r\", \"reversibility\": true, \"label_x\": 265.0, \"label_y\": 975.0, \"gene_reaction_rule\": \"\", \"genes\": [], \"segments\": {\"6\": {\"from_node_id\": \"11\", \"to_node_id\": \"12\", \"b1\": null, \"b2\": null}, \"7\": {\"from_node_id\": \"13\", \"to_node_id\": \"12\", \"b1\": null, \"b2\": null}, \"8\": {\"from_node_id\": \"2\", \"to_node_id\": \"11\", \"b1\": null, \"b2\": null}, \"9\": {\"from_node_id\": \"7\", \"to_node_id\": \"11\", \"b1\": null, \"b2\": null}, \"10\": {\"from_node_id\": \"8\", \"to_node_id\": \"13\", \"b1\": null, \"b2\": null}, \"11\": {\"from_node_id\": \"9\", \"to_node_id\": \"13\", \"b1\": null, \"b2\": null}, \"12\": {\"from_node_id\": \"10\", \"to_node_id\": \"13\", \"b1\": null, \"b2\": null}}, \"metabolites\": [{\"bigg_id\": \"D_glucopyranose_6_phosphate_c\", \"coefficient\": -1.0}, {\"bigg_id\": \"NADP_c\", \"coefficient\": -1.0}, {\"bigg_id\": \"D_6_P_GLUCONO_DELTA_LACTONE_c\", \"coefficient\": 1.0}, {\"bigg_id\": \"NADPH_c\", \"coefficient\": 1.0}, {\"bigg_id\": \"PROTON_c\", \"coefficient\": 1.0}]}, \"2\": {\"name\": \"PGL\", \"bigg_id\": \"PGL\", \"reversibility\": true, \"label_x\": 265.0, \"label_y\": 1625.0, \"gene_reaction_rule\": \"\", \"genes\": [], \"segments\": {\"13\": {\"from_node_id\": \"17\", \"to_node_id\": \"18\", \"b1\": null, \"b2\": null}, \"14\": {\"from_node_id\": \"19\", \"to_node_id\": \"18\", \"b1\": null, \"b2\": null}, \"15\": {\"from_node_id\": \"14\", \"to_node_id\": \"17\", \"b1\": null, \"b2\": null}, \"16\": {\"from_node_id\": \"8\", \"to_node_id\": \"17\", \"b1\": null, \"b2\": null}, \"17\": {\"from_node_id\": \"15\", \"to_node_id\": \"19\", \"b1\": null, \"b2\": null}, \"18\": {\"from_node_id\": \"16\", \"to_node_id\": \"19\", \"b1\": null, \"b2\": null}}, \"metabolites\": [{\"bigg_id\": \"CPD_15815_c\", \"coefficient\": -1.0}, {\"bigg_id\": \"D_6_P_GLUCONO_DELTA_LACTONE_c\", \"coefficient\": -1.0}, {\"bigg_id\": \"CPD_2961_c\", \"coefficient\": 1.0}, {\"bigg_id\": \"PROTON_c\", \"coefficient\": 1.0}]}, \"3\": {\"name\": \"GND\", \"bigg_id\": \"GND\", \"reversibility\": true, \"label_x\": 265.0, \"label_y\": 2275.0, \"gene_reaction_rule\": \"\", \"genes\": [], \"segments\": {\"19\": {\"from_node_id\": \"24\", \"to_node_id\": \"25\", \"b1\": null, \"b2\": null}, \"20\": {\"from_node_id\": \"26\", \"to_node_id\": \"25\", \"b1\": null, \"b2\": null}, \"21\": {\"from_node_id\": \"15\", \"to_node_id\": \"24\", \"b1\": null, \"b2\": null}, \"22\": {\"from_node_id\": \"20\", \"to_node_id\": \"24\", \"b1\": null, \"b2\": null}, \"23\": {\"from_node_id\": \"21\", \"to_node_id\": \"26\", \"b1\": null, \"b2\": null}, \"24\": {\"from_node_id\": \"22\", \"to_node_id\": \"26\", \"b1\": null, \"b2\": null}, \"25\": {\"from_node_id\": \"23\", \"to_node_id\": \"26\", \"b1\": null, \"b2\": null}}, \"metabolites\": [{\"bigg_id\": \"CPD_2961_c\", \"coefficient\": -1.0}, {\"bigg_id\": \"NADP_c\", \"coefficient\": -1.0}, {\"bigg_id\": \"CARBON_DIOXIDE_c\", \"coefficient\": 1.0}, {\"bigg_id\": \"NADPH_c\", \"coefficient\": 1.0}, {\"bigg_id\": \"RIBULOSE_5P_c\", \"coefficient\": 1.0}]}}, \"nodes\": {\"0\": {\"node_type\": \"metabolite\", \"x\": 150.0, \"y\": 30.0, \"label_x\": 160.0, \"label_y\": 20.0, \"bigg_id\": \"Glucopyranose_e\", \"name\": \"Glucopyranose_e\", \"node_is_primary\": false}, \"1\": {\"node_type\": \"metabolite\", \"x\": 300.0, \"y\": 30.0, \"label_x\": 310.0, \"label_y\": 20.0, \"bigg_id\": \"PHOSPHO_ENOL_PYRUVATE_c\", \"name\": \"PHOSPHO_ENOL_PYRUVATE_c\", \"node_is_primary\": false}, \"2\": {\"node_type\": \"metabolite\", \"x\": 150.0, \"y\": 550.0, \"label_x\": 160.0, \"label_y\": 580.0, \"bigg_id\": \"D_glucopyranose_6_phosphate_c\", \"name\": \"D_glucopyranose_6_phosphate_c\", \"node_is_primary\": false}, \"3\": {\"node_type\": \"metabolite\", \"x\": 300.0, \"y\": 550.0, \"label_x\": 310.0, \"label_y\": 580.0, \"bigg_id\": \"PYRUVATE_c\", \"name\": \"PYRUVATE_c\", \"node_is_primary\": false}, \"4\": {\"node_type\": \"multimarker\", \"x\": 225.0, \"y\": 305.0}, \"5\": {\"node_type\": \"midmarker\", \"x\": 225.0, \"y\": 325.0}, \"6\": {\"node_type\": \"multimarker\", \"x\": 225.0, \"y\": 345.0}, \"7\": {\"node_type\": \"metabolite\", \"x\": 300.0, \"y\": 680.0, \"label_x\": 310.0, \"label_y\": 670.0, \"bigg_id\": \"NADP_c\", \"name\": \"NADP_c\", \"node_is_primary\": false}, \"8\": {\"node_type\": \"metabolite\", \"x\": 112.5, \"y\": 1200.0, \"label_x\": 122.5, \"label_y\": 1230.0, \"bigg_id\": \"D_6_P_GLUCONO_DELTA_LACTONE_c\", \"name\": \"D_6_P_GLUCONO_DELTA_LACTONE_c\", \"node_is_primary\": false}, \"9\": {\"node_type\": \"metabolite\", \"x\": 225.0, \"y\": 1200.0, \"label_x\": 235.0, \"label_y\": 1230.0, \"bigg_id\": \"NADPH_c\", \"name\": \"NADPH_c\", \"node_is_primary\": false}, \"10\": {\"node_type\": \"metabolite\", \"x\": 337.5, \"y\": 1200.0, \"label_x\": 347.5, \"label_y\": 1230.0, \"bigg_id\": \"PROTON_c\", \"name\": \"PROTON_c\", \"node_is_primary\": false}, \"11\": {\"node_type\": \"multimarker\", \"x\": 225.0, \"y\": 955.0}, \"12\": {\"node_type\": \"midmarker\", \"x\": 225.0, \"y\": 975.0}, \"13\": {\"node_type\": \"multimarker\", \"x\": 225.0, \"y\": 995.0}, \"14\": {\"node_type\": \"metabolite\", \"x\": 150.0, \"y\": 1330.0, \"label_x\": 160.0, \"label_y\": 1320.0, \"bigg_id\": \"CPD_15815_c\", \"name\": \"CPD_15815_c\", \"node_is_primary\": false}, \"15\": {\"node_type\": \"metabolite\", \"x\": 150.0, \"y\": 1850.0, \"label_x\": 160.0, \"label_y\": 1880.0, \"bigg_id\": \"CPD_2961_c\", \"name\": \"CPD_2961_c\", \"node_is_primary\": false}, \"16\": {\"node_type\": \"metabolite\", \"x\": 300.0, \"y\": 1850.0, \"label_x\": 310.0, \"label_y\": 1880.0, \"bigg_id\": \"PROTON_c\", \"name\": \"PROTON_c\", \"node_is_primary\": false}, \"17\": {\"node_type\": \"multimarker\", \"x\": 225.0, \"y\": 1605.0}, \"18\": {\"node_type\": \"midmarker\", \"x\": 225.0, \"y\": 1625.0}, \"19\": {\"node_type\": \"multimarker\", \"x\": 225.0, \"y\": 1645.0}, \"20\": {\"node_type\": \"metabolite\", \"x\": 300.0, \"y\": 1980.0, \"label_x\": 310.0, \"label_y\": 1970.0, \"bigg_id\": \"NADP_c\", \"name\": \"NADP_c\", \"node_is_primary\": false}, \"21\": {\"node_type\": \"metabolite\", \"x\": 112.5, \"y\": 2500.0, \"label_x\": 122.5, \"label_y\": 2530.0, \"bigg_id\": \"CARBON_DIOXIDE_c\", \"name\": \"CARBON_DIOXIDE_c\", \"node_is_primary\": false}, \"22\": {\"node_type\": \"metabolite\", \"x\": 225.0, \"y\": 2500.0, \"label_x\": 235.0, \"label_y\": 2530.0, \"bigg_id\": \"NADPH_c\", \"name\": \"NADPH_c\", \"node_is_primary\": false}, \"23\": {\"node_type\": \"metabolite\", \"x\": 337.5, \"y\": 2500.0, \"label_x\": 347.5, \"label_y\": 2530.0, \"bigg_id\": \"RIBULOSE_5P_c\", \"name\": \"RIBULOSE_5P_c\", \"node_is_primary\": false}, \"24\": {\"node_type\": \"multimarker\", \"x\": 225.0, \"y\": 2255.0}, \"25\": {\"node_type\": \"midmarker\", \"x\": 225.0, \"y\": 2275.0}, \"26\": {\"node_type\": \"multimarker\", \"x\": 225.0, \"y\": 2295.0}}, \"text_labels\": {}, \"canvas\": {\"x\": 0, \"y\": 0, \"width\": 450, \"height\": 2600}}]",
       "_loaded_model_json": null,
       "allow_building_duplicate_reactions": false,
       "and_method_in_gene_reaction_rule": "mean",
       "canvas_size_and_loc": null,
       "cofactors": [
        "atp",
        "adp",
        "nad",
        "nadh",
        "nadp",
        "nadph",
        "gtp",
        "gdp",
        "h",
        "coa",
        "ump",
        "h2o",
        "ppi"
       ],
       "disabled_buttons": [
        "Clear gene data",
        "Clear metabolite data"
       ],
       "embedded_css": null,
       "enable_editing": true,
       "enable_keys": false,
       "enable_keys_with_tooltip": true,
       "enable_search": true,
       "enable_tooltips": false,
       "full_screen_button": {
        "enable_editing": true,
        "enable_keys": true,
        "enable_tooltips": [
         "label"
        ],
        "menu": "all",
        "scroll_behavior": "pan"
       },
       "gene_data": null,
       "gene_font_size": 18,
       "height": 500,
       "hide_all_labels": false,
       "hide_secondary_metabolites": false,
       "highlight_missing": false,
       "identifiers_on_map": "bigg_id",
       "layout": "IPY_MODEL_a0134b05fa3f46fb9613f4a9ec001959",
       "marker_radius": 5,
       "menu": "all",
       "metabolite_compare_style": "log2_fold",
       "metabolite_data": null,
       "metabolite_no_data_color": "#ffffff",
       "metabolite_no_data_size": 10,
       "metabolite_scale": [
        {
         "color": "#fffaf0",
         "size": 20,
         "type": "min"
        },
        {
         "color": "#f1c470",
         "size": 30,
         "type": "median"
        },
        {
         "color": "#800000",
         "size": 40,
         "type": "max"
        }
       ],
       "metabolite_scale_preset": "WhYlRd",
       "metabolite_styles": [
        "color",
        "size",
        "text"
       ],
       "never_ask_before_quit": true,
       "primary_metabolite_radius": 20,
       "reaction_compare_style": "log2_fold",
       "reaction_data": {
        "G6PDH2r": -2,
        "GLCpts": -2,
        "GND": 1,
        "PGL": 0.4
       },
       "reaction_no_data_color": "#dcdcdc",
       "reaction_no_data_size": 8,
       "reaction_scale": [
        {
         "color": "rgb(220,220,220)",
         "type": "value",
         "value": 0.5
        },
        {
         "color": "rgb(220,220,220)",
         "type": "value",
         "value": 1
        },
        {
         "color": "rgb(220,220,220)",
         "type": "value",
         "value": 0
        },
        {
         "color": "rgb(220,220,220)",
         "type": "value",
         "value": -1
        },
        {
         "color": "rgb(220,220,220)",
         "type": "value",
         "value": -2
        }
       ],
       "reaction_scale_preset": null,
       "reaction_styles": [
        "color",
        "text"
       ],
       "scroll_behavior": "none",
       "secondary_metabolite_radius": 10,
       "semantic_zoom": null,
       "show_gene_reaction_rules": false,
       "starting_reaction": null,
       "use_3d_transform": false,
       "zoom_to_element": null
      }
     },
     "86035fccc36b48dda13e9b55b7eedf8f": {
      "model_module": "@jupyter-widgets/base",
      "model_module_version": "1.2.0",
      "model_name": "LayoutModel",
      "state": {}
     },
     "90acfc554fd9403db12d026d0b919ab7": {
      "model_module": "escher",
      "model_module_version": "1.7.3",
      "model_name": "EscherMapModel",
      "state": {
       "_loaded_map_json": "[{\"map_name\": \"\", \"map_id\": \"\", \"map_description\": \"\", \"homepage\": \"\", \"schema\": \"https://escher.github.io/escher/jsonschema/1-0-0#\"}, {\"reactions\": {\"0\": {\"name\": \"GLCpts\", \"bigg_id\": \"GLCpts\", \"reversibility\": true, \"label_x\": 265.0, \"label_y\": 325.0, \"gene_reaction_rule\": \"\", \"genes\": [], \"segments\": {\"0\": {\"from_node_id\": \"4\", \"to_node_id\": \"5\", \"b1\": null, \"b2\": null}, \"1\": {\"from_node_id\": \"6\", \"to_node_id\": \"5\", \"b1\": null, \"b2\": null}, \"2\": {\"from_node_id\": \"0\", \"to_node_id\": \"4\", \"b1\": null, \"b2\": null}, \"3\": {\"from_node_id\": \"1\", \"to_node_id\": \"4\", \"b1\": null, \"b2\": null}, \"4\": {\"from_node_id\": \"2\", \"to_node_id\": \"6\", \"b1\": null, \"b2\": null}, \"5\": {\"from_node_id\": \"3\", \"to_node_id\": \"6\", \"b1\": null, \"b2\": null}}, \"metabolites\": [{\"bigg_id\": \"Glucopyranose_e\", \"coefficient\": -1.0}, {\"bigg_id\": \"PHOSPHO_ENOL_PYRUVATE_c\", \"coefficient\": -1.0}, {\"bigg_id\": \"D_glucopyranose_6_phosphate_c\", \"coefficient\": 1.0}, {\"bigg_id\": \"PYRUVATE_c\", \"coefficient\": 1.0}]}, \"1\": {\"name\": \"G6PDH2r\", \"bigg_id\": \"G6PDH2r\", \"reversibility\": true, \"label_x\": 265.0, \"label_y\": 975.0, \"gene_reaction_rule\": \"\", \"genes\": [], \"segments\": {\"6\": {\"from_node_id\": \"11\", \"to_node_id\": \"12\", \"b1\": null, \"b2\": null}, \"7\": {\"from_node_id\": \"13\", \"to_node_id\": \"12\", \"b1\": null, \"b2\": null}, \"8\": {\"from_node_id\": \"2\", \"to_node_id\": \"11\", \"b1\": null, \"b2\": null}, \"9\": {\"from_node_id\": \"7\", \"to_node_id\": \"11\", \"b1\": null, \"b2\": null}, \"10\": {\"from_node_id\": \"8\", \"to_node_id\": \"13\", \"b1\": null, \"b2\": null}, \"11\": {\"from_node_id\": \"9\", \"to_node_id\": \"13\", \"b1\": null, \"b2\": null}, \"12\": {\"from_node_id\": \"10\", \"to_node_id\": \"13\", \"b1\": null, \"b2\": null}}, \"metabolites\": [{\"bigg_id\": \"D_glucopyranose_6_phosphate_c\", \"coefficient\": -1.0}, {\"bigg_id\": \"NADP_c\", \"coefficient\": -1.0}, {\"bigg_id\": \"D_6_P_GLUCONO_DELTA_LACTONE_c\", \"coefficient\": 1.0}, {\"bigg_id\": \"NADPH_c\", \"coefficient\": 1.0}, {\"bigg_id\": \"PROTON_c\", \"coefficient\": 1.0}]}, \"2\": {\"name\": \"PGL\", \"bigg_id\": \"PGL\", \"reversibility\": true, \"label_x\": 265.0, \"label_y\": 1625.0, \"gene_reaction_rule\": \"\", \"genes\": [], \"segments\": {\"13\": {\"from_node_id\": \"17\", \"to_node_id\": \"18\", \"b1\": null, \"b2\": null}, \"14\": {\"from_node_id\": \"19\", \"to_node_id\": \"18\", \"b1\": null, \"b2\": null}, \"15\": {\"from_node_id\": \"14\", \"to_node_id\": \"17\", \"b1\": null, \"b2\": null}, \"16\": {\"from_node_id\": \"8\", \"to_node_id\": \"17\", \"b1\": null, \"b2\": null}, \"17\": {\"from_node_id\": \"15\", \"to_node_id\": \"19\", \"b1\": null, \"b2\": null}, \"18\": {\"from_node_id\": \"16\", \"to_node_id\": \"19\", \"b1\": null, \"b2\": null}}, \"metabolites\": [{\"bigg_id\": \"CPD_15815_c\", \"coefficient\": -1.0}, {\"bigg_id\": \"D_6_P_GLUCONO_DELTA_LACTONE_c\", \"coefficient\": -1.0}, {\"bigg_id\": \"CPD_2961_c\", \"coefficient\": 1.0}, {\"bigg_id\": \"PROTON_c\", \"coefficient\": 1.0}]}, \"3\": {\"name\": \"GND\", \"bigg_id\": \"GND\", \"reversibility\": true, \"label_x\": 265.0, \"label_y\": 2275.0, \"gene_reaction_rule\": \"\", \"genes\": [], \"segments\": {\"19\": {\"from_node_id\": \"24\", \"to_node_id\": \"25\", \"b1\": null, \"b2\": null}, \"20\": {\"from_node_id\": \"26\", \"to_node_id\": \"25\", \"b1\": null, \"b2\": null}, \"21\": {\"from_node_id\": \"15\", \"to_node_id\": \"24\", \"b1\": null, \"b2\": null}, \"22\": {\"from_node_id\": \"20\", \"to_node_id\": \"24\", \"b1\": null, \"b2\": null}, \"23\": {\"from_node_id\": \"21\", \"to_node_id\": \"26\", \"b1\": null, \"b2\": null}, \"24\": {\"from_node_id\": \"22\", \"to_node_id\": \"26\", \"b1\": null, \"b2\": null}, \"25\": {\"from_node_id\": \"23\", \"to_node_id\": \"26\", \"b1\": null, \"b2\": null}}, \"metabolites\": [{\"bigg_id\": \"CPD_2961_c\", \"coefficient\": -1.0}, {\"bigg_id\": \"NADP_c\", \"coefficient\": -1.0}, {\"bigg_id\": \"CARBON_DIOXIDE_c\", \"coefficient\": 1.0}, {\"bigg_id\": \"NADPH_c\", \"coefficient\": 1.0}, {\"bigg_id\": \"RIBULOSE_5P_c\", \"coefficient\": 1.0}]}}, \"nodes\": {\"0\": {\"node_type\": \"metabolite\", \"x\": 150.0, \"y\": 30.0, \"label_x\": 160.0, \"label_y\": 20.0, \"bigg_id\": \"Glucopyranose_e\", \"name\": \"Glucopyranose_e\", \"node_is_primary\": false}, \"1\": {\"node_type\": \"metabolite\", \"x\": 300.0, \"y\": 30.0, \"label_x\": 310.0, \"label_y\": 20.0, \"bigg_id\": \"PHOSPHO_ENOL_PYRUVATE_c\", \"name\": \"PHOSPHO_ENOL_PYRUVATE_c\", \"node_is_primary\": false}, \"2\": {\"node_type\": \"metabolite\", \"x\": 150.0, \"y\": 550.0, \"label_x\": 160.0, \"label_y\": 580.0, \"bigg_id\": \"D_glucopyranose_6_phosphate_c\", \"name\": \"D_glucopyranose_6_phosphate_c\", \"node_is_primary\": false}, \"3\": {\"node_type\": \"metabolite\", \"x\": 300.0, \"y\": 550.0, \"label_x\": 310.0, \"label_y\": 580.0, \"bigg_id\": \"PYRUVATE_c\", \"name\": \"PYRUVATE_c\", \"node_is_primary\": false}, \"4\": {\"node_type\": \"multimarker\", \"x\": 225.0, \"y\": 305.0}, \"5\": {\"node_type\": \"midmarker\", \"x\": 225.0, \"y\": 325.0}, \"6\": {\"node_type\": \"multimarker\", \"x\": 225.0, \"y\": 345.0}, \"7\": {\"node_type\": \"metabolite\", \"x\": 300.0, \"y\": 680.0, \"label_x\": 310.0, \"label_y\": 670.0, \"bigg_id\": \"NADP_c\", \"name\": \"NADP_c\", \"node_is_primary\": false}, \"8\": {\"node_type\": \"metabolite\", \"x\": 112.5, \"y\": 1200.0, \"label_x\": 122.5, \"label_y\": 1230.0, \"bigg_id\": \"D_6_P_GLUCONO_DELTA_LACTONE_c\", \"name\": \"D_6_P_GLUCONO_DELTA_LACTONE_c\", \"node_is_primary\": false}, \"9\": {\"node_type\": \"metabolite\", \"x\": 225.0, \"y\": 1200.0, \"label_x\": 235.0, \"label_y\": 1230.0, \"bigg_id\": \"NADPH_c\", \"name\": \"NADPH_c\", \"node_is_primary\": false}, \"10\": {\"node_type\": \"metabolite\", \"x\": 337.5, \"y\": 1200.0, \"label_x\": 347.5, \"label_y\": 1230.0, \"bigg_id\": \"PROTON_c\", \"name\": \"PROTON_c\", \"node_is_primary\": false}, \"11\": {\"node_type\": \"multimarker\", \"x\": 225.0, \"y\": 955.0}, \"12\": {\"node_type\": \"midmarker\", \"x\": 225.0, \"y\": 975.0}, \"13\": {\"node_type\": \"multimarker\", \"x\": 225.0, \"y\": 995.0}, \"14\": {\"node_type\": \"metabolite\", \"x\": 150.0, \"y\": 1330.0, \"label_x\": 160.0, \"label_y\": 1320.0, \"bigg_id\": \"CPD_15815_c\", \"name\": \"CPD_15815_c\", \"node_is_primary\": false}, \"15\": {\"node_type\": \"metabolite\", \"x\": 150.0, \"y\": 1850.0, \"label_x\": 160.0, \"label_y\": 1880.0, \"bigg_id\": \"CPD_2961_c\", \"name\": \"CPD_2961_c\", \"node_is_primary\": false}, \"16\": {\"node_type\": \"metabolite\", \"x\": 300.0, \"y\": 1850.0, \"label_x\": 310.0, \"label_y\": 1880.0, \"bigg_id\": \"PROTON_c\", \"name\": \"PROTON_c\", \"node_is_primary\": false}, \"17\": {\"node_type\": \"multimarker\", \"x\": 225.0, \"y\": 1605.0}, \"18\": {\"node_type\": \"midmarker\", \"x\": 225.0, \"y\": 1625.0}, \"19\": {\"node_type\": \"multimarker\", \"x\": 225.0, \"y\": 1645.0}, \"20\": {\"node_type\": \"metabolite\", \"x\": 300.0, \"y\": 1980.0, \"label_x\": 310.0, \"label_y\": 1970.0, \"bigg_id\": \"NADP_c\", \"name\": \"NADP_c\", \"node_is_primary\": false}, \"21\": {\"node_type\": \"metabolite\", \"x\": 112.5, \"y\": 2500.0, \"label_x\": 122.5, \"label_y\": 2530.0, \"bigg_id\": \"CARBON_DIOXIDE_c\", \"name\": \"CARBON_DIOXIDE_c\", \"node_is_primary\": false}, \"22\": {\"node_type\": \"metabolite\", \"x\": 225.0, \"y\": 2500.0, \"label_x\": 235.0, \"label_y\": 2530.0, \"bigg_id\": \"NADPH_c\", \"name\": \"NADPH_c\", \"node_is_primary\": false}, \"23\": {\"node_type\": \"metabolite\", \"x\": 337.5, \"y\": 2500.0, \"label_x\": 347.5, \"label_y\": 2530.0, \"bigg_id\": \"RIBULOSE_5P_c\", \"name\": \"RIBULOSE_5P_c\", \"node_is_primary\": false}, \"24\": {\"node_type\": \"multimarker\", \"x\": 225.0, \"y\": 2255.0}, \"25\": {\"node_type\": \"midmarker\", \"x\": 225.0, \"y\": 2275.0}, \"26\": {\"node_type\": \"multimarker\", \"x\": 225.0, \"y\": 2295.0}}, \"text_labels\": {}, \"canvas\": {\"x\": 0, \"y\": 0, \"width\": 450, \"height\": 2600}}]",
       "_loaded_model_json": null,
       "allow_building_duplicate_reactions": false,
       "and_method_in_gene_reaction_rule": "mean",
       "canvas_size_and_loc": null,
       "cofactors": [
        "atp",
        "adp",
        "nad",
        "nadh",
        "nadp",
        "nadph",
        "gtp",
        "gdp",
        "h",
        "coa",
        "ump",
        "h2o",
        "ppi"
       ],
       "disabled_buttons": [
        "Clear gene data",
        "Clear metabolite data"
       ],
       "embedded_css": null,
       "enable_editing": true,
       "enable_keys": false,
       "enable_keys_with_tooltip": true,
       "enable_search": true,
       "enable_tooltips": false,
       "full_screen_button": {
        "enable_editing": true,
        "enable_keys": true,
        "enable_tooltips": [
         "label"
        ],
        "menu": "all",
        "scroll_behavior": "pan"
       },
       "gene_data": null,
       "gene_font_size": 18,
       "height": 500,
       "hide_all_labels": false,
       "hide_secondary_metabolites": false,
       "highlight_missing": false,
       "identifiers_on_map": "bigg_id",
       "layout": "IPY_MODEL_08e9467ba6cf4814a7cac84f5a484915",
       "marker_radius": 5,
       "menu": "all",
       "metabolite_compare_style": "log2_fold",
       "metabolite_data": null,
       "metabolite_no_data_color": "#ffffff",
       "metabolite_no_data_size": 10,
       "metabolite_scale": [
        {
         "color": "#fffaf0",
         "size": 20,
         "type": "min"
        },
        {
         "color": "#f1c470",
         "size": 30,
         "type": "median"
        },
        {
         "color": "#800000",
         "size": 40,
         "type": "max"
        }
       ],
       "metabolite_scale_preset": "WhYlRd",
       "metabolite_styles": [
        "color",
        "size",
        "text"
       ],
       "never_ask_before_quit": true,
       "primary_metabolite_radius": 20,
       "reaction_compare_style": "log2_fold",
       "reaction_data": {
        "G6PDH2r": -2,
        "GLCpts": -2,
        "GND": 1,
        "Other": 1000,
        "PGL": 0.4
       },
       "reaction_no_data_color": "#dcdcdc",
       "reaction_no_data_size": 8,
       "reaction_scale": [
        {
         "color": "rgb(191,215,230)",
         "type": "value",
         "value": 333.3333333333333
        },
        {
         "color": "rgb(163,210,240)",
         "type": "value",
         "value": 666.6666666666667
        },
        {
         "color": "rgb(135,205,250)",
         "type": "value",
         "value": 1000
        },
        {
         "color": "rgb(220,220,220)",
         "type": "value",
         "value": 0
        },
        {
         "color": "rgb(237,192,110)",
         "type": "value",
         "value": -1
        },
        {
         "color": "rgb(255,165,0)",
         "type": "value",
         "value": -2
        }
       ],
       "reaction_scale_preset": null,
       "reaction_styles": [
        "color",
        "text"
       ],
       "scroll_behavior": "none",
       "secondary_metabolite_radius": 10,
       "semantic_zoom": null,
       "show_gene_reaction_rules": false,
       "starting_reaction": null,
       "use_3d_transform": false,
       "zoom_to_element": null
      }
     },
     "9b0b334d73094ef7a3446baa6c37a223": {
      "model_module": "escher",
      "model_module_version": "1.7.3",
      "model_name": "EscherMapModel",
      "state": {
       "_loaded_map_json": "[{\"map_name\": \"\", \"map_id\": \"\", \"map_description\": \"\", \"homepage\": \"\", \"schema\": \"https://escher.github.io/escher/jsonschema/1-0-0#\"}, {\"reactions\": {\"0\": {\"name\": \"GLCpts\", \"bigg_id\": \"GLCpts\", \"reversibility\": true, \"label_x\": 265.0, \"label_y\": 325.0, \"gene_reaction_rule\": \"\", \"genes\": [], \"segments\": {\"0\": {\"from_node_id\": \"4\", \"to_node_id\": \"5\", \"b1\": null, \"b2\": null}, \"1\": {\"from_node_id\": \"6\", \"to_node_id\": \"5\", \"b1\": null, \"b2\": null}, \"2\": {\"from_node_id\": \"0\", \"to_node_id\": \"4\", \"b1\": null, \"b2\": null}, \"3\": {\"from_node_id\": \"1\", \"to_node_id\": \"4\", \"b1\": null, \"b2\": null}, \"4\": {\"from_node_id\": \"2\", \"to_node_id\": \"6\", \"b1\": null, \"b2\": null}, \"5\": {\"from_node_id\": \"3\", \"to_node_id\": \"6\", \"b1\": null, \"b2\": null}}, \"metabolites\": [{\"bigg_id\": \"Glucopyranose_e\", \"coefficient\": -1.0}, {\"bigg_id\": \"PHOSPHO_ENOL_PYRUVATE_c\", \"coefficient\": -1.0}, {\"bigg_id\": \"D_glucopyranose_6_phosphate_c\", \"coefficient\": 1.0}, {\"bigg_id\": \"PYRUVATE_c\", \"coefficient\": 1.0}]}, \"1\": {\"name\": \"G6PDH2r\", \"bigg_id\": \"G6PDH2r\", \"reversibility\": true, \"label_x\": 265.0, \"label_y\": 975.0, \"gene_reaction_rule\": \"\", \"genes\": [], \"segments\": {\"6\": {\"from_node_id\": \"11\", \"to_node_id\": \"12\", \"b1\": null, \"b2\": null}, \"7\": {\"from_node_id\": \"13\", \"to_node_id\": \"12\", \"b1\": null, \"b2\": null}, \"8\": {\"from_node_id\": \"2\", \"to_node_id\": \"11\", \"b1\": null, \"b2\": null}, \"9\": {\"from_node_id\": \"7\", \"to_node_id\": \"11\", \"b1\": null, \"b2\": null}, \"10\": {\"from_node_id\": \"8\", \"to_node_id\": \"13\", \"b1\": null, \"b2\": null}, \"11\": {\"from_node_id\": \"9\", \"to_node_id\": \"13\", \"b1\": null, \"b2\": null}, \"12\": {\"from_node_id\": \"10\", \"to_node_id\": \"13\", \"b1\": null, \"b2\": null}}, \"metabolites\": [{\"bigg_id\": \"D_glucopyranose_6_phosphate_c\", \"coefficient\": -1.0}, {\"bigg_id\": \"NADP_c\", \"coefficient\": -1.0}, {\"bigg_id\": \"D_6_P_GLUCONO_DELTA_LACTONE_c\", \"coefficient\": 1.0}, {\"bigg_id\": \"NADPH_c\", \"coefficient\": 1.0}, {\"bigg_id\": \"PROTON_c\", \"coefficient\": 1.0}]}, \"2\": {\"name\": \"PGL\", \"bigg_id\": \"PGL\", \"reversibility\": true, \"label_x\": 265.0, \"label_y\": 1625.0, \"gene_reaction_rule\": \"\", \"genes\": [], \"segments\": {\"13\": {\"from_node_id\": \"17\", \"to_node_id\": \"18\", \"b1\": null, \"b2\": null}, \"14\": {\"from_node_id\": \"19\", \"to_node_id\": \"18\", \"b1\": null, \"b2\": null}, \"15\": {\"from_node_id\": \"14\", \"to_node_id\": \"17\", \"b1\": null, \"b2\": null}, \"16\": {\"from_node_id\": \"8\", \"to_node_id\": \"17\", \"b1\": null, \"b2\": null}, \"17\": {\"from_node_id\": \"15\", \"to_node_id\": \"19\", \"b1\": null, \"b2\": null}, \"18\": {\"from_node_id\": \"16\", \"to_node_id\": \"19\", \"b1\": null, \"b2\": null}}, \"metabolites\": [{\"bigg_id\": \"CPD_15815_c\", \"coefficient\": -1.0}, {\"bigg_id\": \"D_6_P_GLUCONO_DELTA_LACTONE_c\", \"coefficient\": -1.0}, {\"bigg_id\": \"CPD_2961_c\", \"coefficient\": 1.0}, {\"bigg_id\": \"PROTON_c\", \"coefficient\": 1.0}]}, \"3\": {\"name\": \"GND\", \"bigg_id\": \"GND\", \"reversibility\": true, \"label_x\": 265.0, \"label_y\": 2275.0, \"gene_reaction_rule\": \"\", \"genes\": [], \"segments\": {\"19\": {\"from_node_id\": \"24\", \"to_node_id\": \"25\", \"b1\": null, \"b2\": null}, \"20\": {\"from_node_id\": \"26\", \"to_node_id\": \"25\", \"b1\": null, \"b2\": null}, \"21\": {\"from_node_id\": \"15\", \"to_node_id\": \"24\", \"b1\": null, \"b2\": null}, \"22\": {\"from_node_id\": \"20\", \"to_node_id\": \"24\", \"b1\": null, \"b2\": null}, \"23\": {\"from_node_id\": \"21\", \"to_node_id\": \"26\", \"b1\": null, \"b2\": null}, \"24\": {\"from_node_id\": \"22\", \"to_node_id\": \"26\", \"b1\": null, \"b2\": null}, \"25\": {\"from_node_id\": \"23\", \"to_node_id\": \"26\", \"b1\": null, \"b2\": null}}, \"metabolites\": [{\"bigg_id\": \"CPD_2961_c\", \"coefficient\": -1.0}, {\"bigg_id\": \"NADP_c\", \"coefficient\": -1.0}, {\"bigg_id\": \"CARBON_DIOXIDE_c\", \"coefficient\": 1.0}, {\"bigg_id\": \"NADPH_c\", \"coefficient\": 1.0}, {\"bigg_id\": \"RIBULOSE_5P_c\", \"coefficient\": 1.0}]}}, \"nodes\": {\"0\": {\"node_type\": \"metabolite\", \"x\": 150.0, \"y\": 30.0, \"label_x\": 160.0, \"label_y\": 20.0, \"bigg_id\": \"Glucopyranose_e\", \"name\": \"Glucopyranose_e\", \"node_is_primary\": false}, \"1\": {\"node_type\": \"metabolite\", \"x\": 300.0, \"y\": 30.0, \"label_x\": 310.0, \"label_y\": 20.0, \"bigg_id\": \"PHOSPHO_ENOL_PYRUVATE_c\", \"name\": \"PHOSPHO_ENOL_PYRUVATE_c\", \"node_is_primary\": false}, \"2\": {\"node_type\": \"metabolite\", \"x\": 150.0, \"y\": 550.0, \"label_x\": 160.0, \"label_y\": 580.0, \"bigg_id\": \"D_glucopyranose_6_phosphate_c\", \"name\": \"D_glucopyranose_6_phosphate_c\", \"node_is_primary\": false}, \"3\": {\"node_type\": \"metabolite\", \"x\": 300.0, \"y\": 550.0, \"label_x\": 310.0, \"label_y\": 580.0, \"bigg_id\": \"PYRUVATE_c\", \"name\": \"PYRUVATE_c\", \"node_is_primary\": false}, \"4\": {\"node_type\": \"multimarker\", \"x\": 225.0, \"y\": 305.0}, \"5\": {\"node_type\": \"midmarker\", \"x\": 225.0, \"y\": 325.0}, \"6\": {\"node_type\": \"multimarker\", \"x\": 225.0, \"y\": 345.0}, \"7\": {\"node_type\": \"metabolite\", \"x\": 300.0, \"y\": 680.0, \"label_x\": 310.0, \"label_y\": 670.0, \"bigg_id\": \"NADP_c\", \"name\": \"NADP_c\", \"node_is_primary\": false}, \"8\": {\"node_type\": \"metabolite\", \"x\": 112.5, \"y\": 1200.0, \"label_x\": 122.5, \"label_y\": 1230.0, \"bigg_id\": \"D_6_P_GLUCONO_DELTA_LACTONE_c\", \"name\": \"D_6_P_GLUCONO_DELTA_LACTONE_c\", \"node_is_primary\": false}, \"9\": {\"node_type\": \"metabolite\", \"x\": 225.0, \"y\": 1200.0, \"label_x\": 235.0, \"label_y\": 1230.0, \"bigg_id\": \"NADPH_c\", \"name\": \"NADPH_c\", \"node_is_primary\": false}, \"10\": {\"node_type\": \"metabolite\", \"x\": 337.5, \"y\": 1200.0, \"label_x\": 347.5, \"label_y\": 1230.0, \"bigg_id\": \"PROTON_c\", \"name\": \"PROTON_c\", \"node_is_primary\": false}, \"11\": {\"node_type\": \"multimarker\", \"x\": 225.0, \"y\": 955.0}, \"12\": {\"node_type\": \"midmarker\", \"x\": 225.0, \"y\": 975.0}, \"13\": {\"node_type\": \"multimarker\", \"x\": 225.0, \"y\": 995.0}, \"14\": {\"node_type\": \"metabolite\", \"x\": 150.0, \"y\": 1330.0, \"label_x\": 160.0, \"label_y\": 1320.0, \"bigg_id\": \"CPD_15815_c\", \"name\": \"CPD_15815_c\", \"node_is_primary\": false}, \"15\": {\"node_type\": \"metabolite\", \"x\": 150.0, \"y\": 1850.0, \"label_x\": 160.0, \"label_y\": 1880.0, \"bigg_id\": \"CPD_2961_c\", \"name\": \"CPD_2961_c\", \"node_is_primary\": false}, \"16\": {\"node_type\": \"metabolite\", \"x\": 300.0, \"y\": 1850.0, \"label_x\": 310.0, \"label_y\": 1880.0, \"bigg_id\": \"PROTON_c\", \"name\": \"PROTON_c\", \"node_is_primary\": false}, \"17\": {\"node_type\": \"multimarker\", \"x\": 225.0, \"y\": 1605.0}, \"18\": {\"node_type\": \"midmarker\", \"x\": 225.0, \"y\": 1625.0}, \"19\": {\"node_type\": \"multimarker\", \"x\": 225.0, \"y\": 1645.0}, \"20\": {\"node_type\": \"metabolite\", \"x\": 300.0, \"y\": 1980.0, \"label_x\": 310.0, \"label_y\": 1970.0, \"bigg_id\": \"NADP_c\", \"name\": \"NADP_c\", \"node_is_primary\": false}, \"21\": {\"node_type\": \"metabolite\", \"x\": 112.5, \"y\": 2500.0, \"label_x\": 122.5, \"label_y\": 2530.0, \"bigg_id\": \"CARBON_DIOXIDE_c\", \"name\": \"CARBON_DIOXIDE_c\", \"node_is_primary\": false}, \"22\": {\"node_type\": \"metabolite\", \"x\": 225.0, \"y\": 2500.0, \"label_x\": 235.0, \"label_y\": 2530.0, \"bigg_id\": \"NADPH_c\", \"name\": \"NADPH_c\", \"node_is_primary\": false}, \"23\": {\"node_type\": \"metabolite\", \"x\": 337.5, \"y\": 2500.0, \"label_x\": 347.5, \"label_y\": 2530.0, \"bigg_id\": \"RIBULOSE_5P_c\", \"name\": \"RIBULOSE_5P_c\", \"node_is_primary\": false}, \"24\": {\"node_type\": \"multimarker\", \"x\": 225.0, \"y\": 2255.0}, \"25\": {\"node_type\": \"midmarker\", \"x\": 225.0, \"y\": 2275.0}, \"26\": {\"node_type\": \"multimarker\", \"x\": 225.0, \"y\": 2295.0}}, \"text_labels\": {}, \"canvas\": {\"x\": 0, \"y\": 0, \"width\": 450, \"height\": 2600}}]",
       "_loaded_model_json": null,
       "allow_building_duplicate_reactions": false,
       "and_method_in_gene_reaction_rule": "mean",
       "canvas_size_and_loc": null,
       "cofactors": [
        "atp",
        "adp",
        "nad",
        "nadh",
        "nadp",
        "nadph",
        "gtp",
        "gdp",
        "h",
        "coa",
        "ump",
        "h2o",
        "ppi"
       ],
       "disabled_buttons": [
        "Clear gene data",
        "Clear metabolite data"
       ],
       "embedded_css": null,
       "enable_editing": true,
       "enable_keys": false,
       "enable_keys_with_tooltip": true,
       "enable_search": true,
       "enable_tooltips": false,
       "full_screen_button": {
        "enable_editing": true,
        "enable_keys": true,
        "enable_tooltips": [
         "label"
        ],
        "menu": "all",
        "scroll_behavior": "pan"
       },
       "gene_data": null,
       "gene_font_size": 18,
       "height": 500,
       "hide_all_labels": false,
       "hide_secondary_metabolites": false,
       "highlight_missing": false,
       "identifiers_on_map": "bigg_id",
       "layout": "IPY_MODEL_d4238cfd3cd149db8062c8075a14d7e4",
       "marker_radius": 5,
       "menu": "all",
       "metabolite_compare_style": "log2_fold",
       "metabolite_data": null,
       "metabolite_no_data_color": "#ffffff",
       "metabolite_no_data_size": 10,
       "metabolite_scale": [
        {
         "color": "#fffaf0",
         "size": 20,
         "type": "min"
        },
        {
         "color": "#f1c470",
         "size": 30,
         "type": "median"
        },
        {
         "color": "#800000",
         "size": 40,
         "type": "max"
        }
       ],
       "metabolite_scale_preset": "WhYlRd",
       "metabolite_styles": [
        "color",
        "size",
        "text"
       ],
       "never_ask_before_quit": true,
       "primary_metabolite_radius": 20,
       "reaction_compare_style": "log2_fold",
       "reaction_data": {
        "G6PDH2r": -2,
        "GLCpts": -2,
        "GND": 1,
        "PGL": 0.4
       },
       "reaction_no_data_color": "#dcdcdc",
       "reaction_no_data_size": 8,
       "reaction_scale": [
        {
         "color": "rgb(110,174,110)",
         "type": "value",
         "value": 0.5
        },
        {
         "color": "rgb(0,128,0)",
         "type": "value",
         "value": 1
        },
        {
         "color": "rgb(220,220,220)",
         "type": "value",
         "value": 0
        },
        {
         "color": "rgb(237,110,110)",
         "type": "value",
         "value": -1
        },
        {
         "color": "rgb(255,0,0)",
         "type": "value",
         "value": -2
        }
       ],
       "reaction_scale_preset": null,
       "reaction_styles": [
        "color",
        "text"
       ],
       "scroll_behavior": "none",
       "secondary_metabolite_radius": 10,
       "semantic_zoom": null,
       "show_gene_reaction_rules": false,
       "starting_reaction": null,
       "use_3d_transform": false,
       "zoom_to_element": null
      }
     },
     "9ee822621acd4f829afb8b7f30647672": {
      "model_module": "escher",
      "model_module_version": "1.7.3",
      "model_name": "EscherMapModel",
      "state": {
       "_loaded_map_json": "[{\"map_name\": \"\", \"map_id\": \"\", \"map_description\": \"\", \"homepage\": \"\", \"schema\": \"https://escher.github.io/escher/jsonschema/1-0-0#\"}, {\"reactions\": {\"0\": {\"name\": \"GLCpts\", \"bigg_id\": \"GLCpts\", \"reversibility\": true, \"label_x\": 265.0, \"label_y\": 325.0, \"gene_reaction_rule\": \"\", \"genes\": [], \"segments\": {\"0\": {\"from_node_id\": \"4\", \"to_node_id\": \"5\", \"b1\": null, \"b2\": null}, \"1\": {\"from_node_id\": \"6\", \"to_node_id\": \"5\", \"b1\": null, \"b2\": null}, \"2\": {\"from_node_id\": \"0\", \"to_node_id\": \"4\", \"b1\": null, \"b2\": null}, \"3\": {\"from_node_id\": \"1\", \"to_node_id\": \"4\", \"b1\": null, \"b2\": null}, \"4\": {\"from_node_id\": \"2\", \"to_node_id\": \"6\", \"b1\": null, \"b2\": null}, \"5\": {\"from_node_id\": \"3\", \"to_node_id\": \"6\", \"b1\": null, \"b2\": null}}, \"metabolites\": [{\"bigg_id\": \"Glucopyranose_e\", \"coefficient\": -1.0}, {\"bigg_id\": \"PHOSPHO_ENOL_PYRUVATE_c\", \"coefficient\": -1.0}, {\"bigg_id\": \"D_glucopyranose_6_phosphate_c\", \"coefficient\": 1.0}, {\"bigg_id\": \"PYRUVATE_c\", \"coefficient\": 1.0}]}, \"1\": {\"name\": \"G6PDH2r\", \"bigg_id\": \"G6PDH2r\", \"reversibility\": true, \"label_x\": 265.0, \"label_y\": 975.0, \"gene_reaction_rule\": \"\", \"genes\": [], \"segments\": {\"6\": {\"from_node_id\": \"11\", \"to_node_id\": \"12\", \"b1\": null, \"b2\": null}, \"7\": {\"from_node_id\": \"13\", \"to_node_id\": \"12\", \"b1\": null, \"b2\": null}, \"8\": {\"from_node_id\": \"2\", \"to_node_id\": \"11\", \"b1\": null, \"b2\": null}, \"9\": {\"from_node_id\": \"7\", \"to_node_id\": \"11\", \"b1\": null, \"b2\": null}, \"10\": {\"from_node_id\": \"8\", \"to_node_id\": \"13\", \"b1\": null, \"b2\": null}, \"11\": {\"from_node_id\": \"9\", \"to_node_id\": \"13\", \"b1\": null, \"b2\": null}, \"12\": {\"from_node_id\": \"10\", \"to_node_id\": \"13\", \"b1\": null, \"b2\": null}}, \"metabolites\": [{\"bigg_id\": \"D_glucopyranose_6_phosphate_c\", \"coefficient\": -1.0}, {\"bigg_id\": \"NADP_c\", \"coefficient\": -1.0}, {\"bigg_id\": \"D_6_P_GLUCONO_DELTA_LACTONE_c\", \"coefficient\": 1.0}, {\"bigg_id\": \"NADPH_c\", \"coefficient\": 1.0}, {\"bigg_id\": \"PROTON_c\", \"coefficient\": 1.0}]}, \"2\": {\"name\": \"PGL\", \"bigg_id\": \"PGL\", \"reversibility\": true, \"label_x\": 265.0, \"label_y\": 1625.0, \"gene_reaction_rule\": \"\", \"genes\": [], \"segments\": {\"13\": {\"from_node_id\": \"17\", \"to_node_id\": \"18\", \"b1\": null, \"b2\": null}, \"14\": {\"from_node_id\": \"19\", \"to_node_id\": \"18\", \"b1\": null, \"b2\": null}, \"15\": {\"from_node_id\": \"14\", \"to_node_id\": \"17\", \"b1\": null, \"b2\": null}, \"16\": {\"from_node_id\": \"8\", \"to_node_id\": \"17\", \"b1\": null, \"b2\": null}, \"17\": {\"from_node_id\": \"15\", \"to_node_id\": \"19\", \"b1\": null, \"b2\": null}, \"18\": {\"from_node_id\": \"16\", \"to_node_id\": \"19\", \"b1\": null, \"b2\": null}}, \"metabolites\": [{\"bigg_id\": \"CPD_15815_c\", \"coefficient\": -1.0}, {\"bigg_id\": \"D_6_P_GLUCONO_DELTA_LACTONE_c\", \"coefficient\": -1.0}, {\"bigg_id\": \"CPD_2961_c\", \"coefficient\": 1.0}, {\"bigg_id\": \"PROTON_c\", \"coefficient\": 1.0}]}, \"3\": {\"name\": \"GND\", \"bigg_id\": \"GND\", \"reversibility\": true, \"label_x\": 265.0, \"label_y\": 2275.0, \"gene_reaction_rule\": \"\", \"genes\": [], \"segments\": {\"19\": {\"from_node_id\": \"24\", \"to_node_id\": \"25\", \"b1\": null, \"b2\": null}, \"20\": {\"from_node_id\": \"26\", \"to_node_id\": \"25\", \"b1\": null, \"b2\": null}, \"21\": {\"from_node_id\": \"15\", \"to_node_id\": \"24\", \"b1\": null, \"b2\": null}, \"22\": {\"from_node_id\": \"20\", \"to_node_id\": \"24\", \"b1\": null, \"b2\": null}, \"23\": {\"from_node_id\": \"21\", \"to_node_id\": \"26\", \"b1\": null, \"b2\": null}, \"24\": {\"from_node_id\": \"22\", \"to_node_id\": \"26\", \"b1\": null, \"b2\": null}, \"25\": {\"from_node_id\": \"23\", \"to_node_id\": \"26\", \"b1\": null, \"b2\": null}}, \"metabolites\": [{\"bigg_id\": \"CPD_2961_c\", \"coefficient\": -1.0}, {\"bigg_id\": \"NADP_c\", \"coefficient\": -1.0}, {\"bigg_id\": \"CARBON_DIOXIDE_c\", \"coefficient\": 1.0}, {\"bigg_id\": \"NADPH_c\", \"coefficient\": 1.0}, {\"bigg_id\": \"RIBULOSE_5P_c\", \"coefficient\": 1.0}]}}, \"nodes\": {\"0\": {\"node_type\": \"metabolite\", \"x\": 150.0, \"y\": 30.0, \"label_x\": 160.0, \"label_y\": 20.0, \"bigg_id\": \"Glucopyranose_e\", \"name\": \"Glucopyranose_e\", \"node_is_primary\": false}, \"1\": {\"node_type\": \"metabolite\", \"x\": 300.0, \"y\": 30.0, \"label_x\": 310.0, \"label_y\": 20.0, \"bigg_id\": \"PHOSPHO_ENOL_PYRUVATE_c\", \"name\": \"PHOSPHO_ENOL_PYRUVATE_c\", \"node_is_primary\": false}, \"2\": {\"node_type\": \"metabolite\", \"x\": 150.0, \"y\": 550.0, \"label_x\": 160.0, \"label_y\": 580.0, \"bigg_id\": \"D_glucopyranose_6_phosphate_c\", \"name\": \"D_glucopyranose_6_phosphate_c\", \"node_is_primary\": false}, \"3\": {\"node_type\": \"metabolite\", \"x\": 300.0, \"y\": 550.0, \"label_x\": 310.0, \"label_y\": 580.0, \"bigg_id\": \"PYRUVATE_c\", \"name\": \"PYRUVATE_c\", \"node_is_primary\": false}, \"4\": {\"node_type\": \"multimarker\", \"x\": 225.0, \"y\": 305.0}, \"5\": {\"node_type\": \"midmarker\", \"x\": 225.0, \"y\": 325.0}, \"6\": {\"node_type\": \"multimarker\", \"x\": 225.0, \"y\": 345.0}, \"7\": {\"node_type\": \"metabolite\", \"x\": 300.0, \"y\": 680.0, \"label_x\": 310.0, \"label_y\": 670.0, \"bigg_id\": \"NADP_c\", \"name\": \"NADP_c\", \"node_is_primary\": false}, \"8\": {\"node_type\": \"metabolite\", \"x\": 112.5, \"y\": 1200.0, \"label_x\": 122.5, \"label_y\": 1230.0, \"bigg_id\": \"D_6_P_GLUCONO_DELTA_LACTONE_c\", \"name\": \"D_6_P_GLUCONO_DELTA_LACTONE_c\", \"node_is_primary\": false}, \"9\": {\"node_type\": \"metabolite\", \"x\": 225.0, \"y\": 1200.0, \"label_x\": 235.0, \"label_y\": 1230.0, \"bigg_id\": \"NADPH_c\", \"name\": \"NADPH_c\", \"node_is_primary\": false}, \"10\": {\"node_type\": \"metabolite\", \"x\": 337.5, \"y\": 1200.0, \"label_x\": 347.5, \"label_y\": 1230.0, \"bigg_id\": \"PROTON_c\", \"name\": \"PROTON_c\", \"node_is_primary\": false}, \"11\": {\"node_type\": \"multimarker\", \"x\": 225.0, \"y\": 955.0}, \"12\": {\"node_type\": \"midmarker\", \"x\": 225.0, \"y\": 975.0}, \"13\": {\"node_type\": \"multimarker\", \"x\": 225.0, \"y\": 995.0}, \"14\": {\"node_type\": \"metabolite\", \"x\": 150.0, \"y\": 1330.0, \"label_x\": 160.0, \"label_y\": 1320.0, \"bigg_id\": \"CPD_15815_c\", \"name\": \"CPD_15815_c\", \"node_is_primary\": false}, \"15\": {\"node_type\": \"metabolite\", \"x\": 150.0, \"y\": 1850.0, \"label_x\": 160.0, \"label_y\": 1880.0, \"bigg_id\": \"CPD_2961_c\", \"name\": \"CPD_2961_c\", \"node_is_primary\": false}, \"16\": {\"node_type\": \"metabolite\", \"x\": 300.0, \"y\": 1850.0, \"label_x\": 310.0, \"label_y\": 1880.0, \"bigg_id\": \"PROTON_c\", \"name\": \"PROTON_c\", \"node_is_primary\": false}, \"17\": {\"node_type\": \"multimarker\", \"x\": 225.0, \"y\": 1605.0}, \"18\": {\"node_type\": \"midmarker\", \"x\": 225.0, \"y\": 1625.0}, \"19\": {\"node_type\": \"multimarker\", \"x\": 225.0, \"y\": 1645.0}, \"20\": {\"node_type\": \"metabolite\", \"x\": 300.0, \"y\": 1980.0, \"label_x\": 310.0, \"label_y\": 1970.0, \"bigg_id\": \"NADP_c\", \"name\": \"NADP_c\", \"node_is_primary\": false}, \"21\": {\"node_type\": \"metabolite\", \"x\": 112.5, \"y\": 2500.0, \"label_x\": 122.5, \"label_y\": 2530.0, \"bigg_id\": \"CARBON_DIOXIDE_c\", \"name\": \"CARBON_DIOXIDE_c\", \"node_is_primary\": false}, \"22\": {\"node_type\": \"metabolite\", \"x\": 225.0, \"y\": 2500.0, \"label_x\": 235.0, \"label_y\": 2530.0, \"bigg_id\": \"NADPH_c\", \"name\": \"NADPH_c\", \"node_is_primary\": false}, \"23\": {\"node_type\": \"metabolite\", \"x\": 337.5, \"y\": 2500.0, \"label_x\": 347.5, \"label_y\": 2530.0, \"bigg_id\": \"RIBULOSE_5P_c\", \"name\": \"RIBULOSE_5P_c\", \"node_is_primary\": false}, \"24\": {\"node_type\": \"multimarker\", \"x\": 225.0, \"y\": 2255.0}, \"25\": {\"node_type\": \"midmarker\", \"x\": 225.0, \"y\": 2275.0}, \"26\": {\"node_type\": \"multimarker\", \"x\": 225.0, \"y\": 2295.0}}, \"text_labels\": {}, \"canvas\": {\"x\": 0, \"y\": 0, \"width\": 450, \"height\": 2600}}]",
       "_loaded_model_json": null,
       "allow_building_duplicate_reactions": false,
       "and_method_in_gene_reaction_rule": "mean",
       "canvas_size_and_loc": null,
       "cofactors": [
        "atp",
        "adp",
        "nad",
        "nadh",
        "nadp",
        "nadph",
        "gtp",
        "gdp",
        "h",
        "coa",
        "ump",
        "h2o",
        "ppi"
       ],
       "disabled_buttons": [
        "Clear gene data",
        "Clear metabolite data"
       ],
       "embedded_css": null,
       "enable_editing": true,
       "enable_keys": false,
       "enable_keys_with_tooltip": true,
       "enable_search": true,
       "enable_tooltips": false,
       "full_screen_button": {
        "enable_editing": true,
        "enable_keys": true,
        "enable_tooltips": [
         "label"
        ],
        "menu": "all",
        "scroll_behavior": "pan"
       },
       "gene_data": null,
       "gene_font_size": 18,
       "height": 500,
       "hide_all_labels": false,
       "hide_secondary_metabolites": false,
       "highlight_missing": false,
       "identifiers_on_map": "bigg_id",
       "layout": "IPY_MODEL_cd414a30fe5f4ff6b26052df8b543a3a",
       "marker_radius": 5,
       "menu": "all",
       "metabolite_compare_style": "log2_fold",
       "metabolite_data": null,
       "metabolite_no_data_color": "#ffffff",
       "metabolite_no_data_size": 10,
       "metabolite_scale": [
        {
         "color": "#fffaf0",
         "size": 20,
         "type": "min"
        },
        {
         "color": "#f1c470",
         "size": 30,
         "type": "median"
        },
        {
         "color": "#800000",
         "size": 40,
         "type": "max"
        }
       ],
       "metabolite_scale_preset": "WhYlRd",
       "metabolite_styles": [
        "color",
        "size",
        "text"
       ],
       "never_ask_before_quit": true,
       "primary_metabolite_radius": 20,
       "reaction_compare_style": "log2_fold",
       "reaction_data": {
        "G6PDH2r": -2,
        "GLCpts": -2,
        "GND": 1,
        "Other": 1000,
        "PGL": 0.4
       },
       "reaction_no_data_color": "#dcdcdc",
       "reaction_no_data_size": 8,
       "reaction_scale": [
        {
         "color": "rgb(191,215,230)",
         "type": "value",
         "value": 0.4
        },
        {
         "color": "rgb(163,210,240)",
         "type": "value",
         "value": 1
        },
        {
         "color": "rgb(135,205,250)",
         "type": "value",
         "value": 1000
        },
        {
         "color": "rgb(220,220,220)",
         "type": "value",
         "value": 0
        },
        {
         "color": "rgb(237,192,110)",
         "type": "value",
         "value": -2
        },
        {
         "color": "rgb(255,165,0)",
         "type": "value",
         "value": -2
        }
       ],
       "reaction_scale_preset": null,
       "reaction_styles": [
        "color",
        "text"
       ],
       "scroll_behavior": "none",
       "secondary_metabolite_radius": 10,
       "semantic_zoom": null,
       "show_gene_reaction_rules": false,
       "starting_reaction": null,
       "use_3d_transform": false,
       "zoom_to_element": null
      }
     },
     "a0134b05fa3f46fb9613f4a9ec001959": {
      "model_module": "@jupyter-widgets/base",
      "model_module_version": "1.2.0",
      "model_name": "LayoutModel",
      "state": {}
     },
     "ac06b68ebc9043f29e0c53b70151cfde": {
      "model_module": "@jupyter-widgets/base",
      "model_module_version": "1.2.0",
      "model_name": "LayoutModel",
      "state": {}
     },
     "ac746d4a81f54a638c79cf5849ef070f": {
      "model_module": "escher",
      "model_module_version": "1.7.3",
      "model_name": "EscherMapModel",
      "state": {
       "_loaded_map_json": "[{\"map_name\": \"\", \"map_id\": \"\", \"map_description\": \"\", \"homepage\": \"\", \"schema\": \"https://escher.github.io/escher/jsonschema/1-0-0#\"}, {\"reactions\": {\"0\": {\"name\": \"GLCpts\", \"bigg_id\": \"GLCpts\", \"reversibility\": true, \"label_x\": 265.0, \"label_y\": 325.0, \"gene_reaction_rule\": \"\", \"genes\": [], \"segments\": {\"0\": {\"from_node_id\": \"4\", \"to_node_id\": \"5\", \"b1\": null, \"b2\": null}, \"1\": {\"from_node_id\": \"6\", \"to_node_id\": \"5\", \"b1\": null, \"b2\": null}, \"2\": {\"from_node_id\": \"0\", \"to_node_id\": \"4\", \"b1\": null, \"b2\": null}, \"3\": {\"from_node_id\": \"1\", \"to_node_id\": \"4\", \"b1\": null, \"b2\": null}, \"4\": {\"from_node_id\": \"2\", \"to_node_id\": \"6\", \"b1\": null, \"b2\": null}, \"5\": {\"from_node_id\": \"3\", \"to_node_id\": \"6\", \"b1\": null, \"b2\": null}}, \"metabolites\": [{\"bigg_id\": \"Glucopyranose_e\", \"coefficient\": -1.0}, {\"bigg_id\": \"PHOSPHO_ENOL_PYRUVATE_c\", \"coefficient\": -1.0}, {\"bigg_id\": \"D_glucopyranose_6_phosphate_c\", \"coefficient\": 1.0}, {\"bigg_id\": \"PYRUVATE_c\", \"coefficient\": 1.0}]}, \"1\": {\"name\": \"G6PDH2r\", \"bigg_id\": \"G6PDH2r\", \"reversibility\": true, \"label_x\": 265.0, \"label_y\": 975.0, \"gene_reaction_rule\": \"\", \"genes\": [], \"segments\": {\"6\": {\"from_node_id\": \"11\", \"to_node_id\": \"12\", \"b1\": null, \"b2\": null}, \"7\": {\"from_node_id\": \"13\", \"to_node_id\": \"12\", \"b1\": null, \"b2\": null}, \"8\": {\"from_node_id\": \"2\", \"to_node_id\": \"11\", \"b1\": null, \"b2\": null}, \"9\": {\"from_node_id\": \"7\", \"to_node_id\": \"11\", \"b1\": null, \"b2\": null}, \"10\": {\"from_node_id\": \"8\", \"to_node_id\": \"13\", \"b1\": null, \"b2\": null}, \"11\": {\"from_node_id\": \"9\", \"to_node_id\": \"13\", \"b1\": null, \"b2\": null}, \"12\": {\"from_node_id\": \"10\", \"to_node_id\": \"13\", \"b1\": null, \"b2\": null}}, \"metabolites\": [{\"bigg_id\": \"D_glucopyranose_6_phosphate_c\", \"coefficient\": -1.0}, {\"bigg_id\": \"NADP_c\", \"coefficient\": -1.0}, {\"bigg_id\": \"D_6_P_GLUCONO_DELTA_LACTONE_c\", \"coefficient\": 1.0}, {\"bigg_id\": \"NADPH_c\", \"coefficient\": 1.0}, {\"bigg_id\": \"PROTON_c\", \"coefficient\": 1.0}]}, \"2\": {\"name\": \"PGL\", \"bigg_id\": \"PGL\", \"reversibility\": true, \"label_x\": 265.0, \"label_y\": 1625.0, \"gene_reaction_rule\": \"\", \"genes\": [], \"segments\": {\"13\": {\"from_node_id\": \"17\", \"to_node_id\": \"18\", \"b1\": null, \"b2\": null}, \"14\": {\"from_node_id\": \"19\", \"to_node_id\": \"18\", \"b1\": null, \"b2\": null}, \"15\": {\"from_node_id\": \"14\", \"to_node_id\": \"17\", \"b1\": null, \"b2\": null}, \"16\": {\"from_node_id\": \"8\", \"to_node_id\": \"17\", \"b1\": null, \"b2\": null}, \"17\": {\"from_node_id\": \"15\", \"to_node_id\": \"19\", \"b1\": null, \"b2\": null}, \"18\": {\"from_node_id\": \"16\", \"to_node_id\": \"19\", \"b1\": null, \"b2\": null}}, \"metabolites\": [{\"bigg_id\": \"CPD_15815_c\", \"coefficient\": -1.0}, {\"bigg_id\": \"D_6_P_GLUCONO_DELTA_LACTONE_c\", \"coefficient\": -1.0}, {\"bigg_id\": \"CPD_2961_c\", \"coefficient\": 1.0}, {\"bigg_id\": \"PROTON_c\", \"coefficient\": 1.0}]}, \"3\": {\"name\": \"GND\", \"bigg_id\": \"GND\", \"reversibility\": true, \"label_x\": 265.0, \"label_y\": 2275.0, \"gene_reaction_rule\": \"\", \"genes\": [], \"segments\": {\"19\": {\"from_node_id\": \"24\", \"to_node_id\": \"25\", \"b1\": null, \"b2\": null}, \"20\": {\"from_node_id\": \"26\", \"to_node_id\": \"25\", \"b1\": null, \"b2\": null}, \"21\": {\"from_node_id\": \"15\", \"to_node_id\": \"24\", \"b1\": null, \"b2\": null}, \"22\": {\"from_node_id\": \"20\", \"to_node_id\": \"24\", \"b1\": null, \"b2\": null}, \"23\": {\"from_node_id\": \"21\", \"to_node_id\": \"26\", \"b1\": null, \"b2\": null}, \"24\": {\"from_node_id\": \"22\", \"to_node_id\": \"26\", \"b1\": null, \"b2\": null}, \"25\": {\"from_node_id\": \"23\", \"to_node_id\": \"26\", \"b1\": null, \"b2\": null}}, \"metabolites\": [{\"bigg_id\": \"CPD_2961_c\", \"coefficient\": -1.0}, {\"bigg_id\": \"NADP_c\", \"coefficient\": -1.0}, {\"bigg_id\": \"CARBON_DIOXIDE_c\", \"coefficient\": 1.0}, {\"bigg_id\": \"NADPH_c\", \"coefficient\": 1.0}, {\"bigg_id\": \"RIBULOSE_5P_c\", \"coefficient\": 1.0}]}}, \"nodes\": {\"0\": {\"node_type\": \"metabolite\", \"x\": 150.0, \"y\": 30.0, \"label_x\": 160.0, \"label_y\": 20.0, \"bigg_id\": \"Glucopyranose_e\", \"name\": \"Glucopyranose_e\", \"node_is_primary\": false}, \"1\": {\"node_type\": \"metabolite\", \"x\": 300.0, \"y\": 30.0, \"label_x\": 310.0, \"label_y\": 20.0, \"bigg_id\": \"PHOSPHO_ENOL_PYRUVATE_c\", \"name\": \"PHOSPHO_ENOL_PYRUVATE_c\", \"node_is_primary\": false}, \"2\": {\"node_type\": \"metabolite\", \"x\": 150.0, \"y\": 550.0, \"label_x\": 160.0, \"label_y\": 580.0, \"bigg_id\": \"D_glucopyranose_6_phosphate_c\", \"name\": \"D_glucopyranose_6_phosphate_c\", \"node_is_primary\": false}, \"3\": {\"node_type\": \"metabolite\", \"x\": 300.0, \"y\": 550.0, \"label_x\": 310.0, \"label_y\": 580.0, \"bigg_id\": \"PYRUVATE_c\", \"name\": \"PYRUVATE_c\", \"node_is_primary\": false}, \"4\": {\"node_type\": \"multimarker\", \"x\": 225.0, \"y\": 305.0}, \"5\": {\"node_type\": \"midmarker\", \"x\": 225.0, \"y\": 325.0}, \"6\": {\"node_type\": \"multimarker\", \"x\": 225.0, \"y\": 345.0}, \"7\": {\"node_type\": \"metabolite\", \"x\": 300.0, \"y\": 680.0, \"label_x\": 310.0, \"label_y\": 670.0, \"bigg_id\": \"NADP_c\", \"name\": \"NADP_c\", \"node_is_primary\": false}, \"8\": {\"node_type\": \"metabolite\", \"x\": 112.5, \"y\": 1200.0, \"label_x\": 122.5, \"label_y\": 1230.0, \"bigg_id\": \"D_6_P_GLUCONO_DELTA_LACTONE_c\", \"name\": \"D_6_P_GLUCONO_DELTA_LACTONE_c\", \"node_is_primary\": false}, \"9\": {\"node_type\": \"metabolite\", \"x\": 225.0, \"y\": 1200.0, \"label_x\": 235.0, \"label_y\": 1230.0, \"bigg_id\": \"NADPH_c\", \"name\": \"NADPH_c\", \"node_is_primary\": false}, \"10\": {\"node_type\": \"metabolite\", \"x\": 337.5, \"y\": 1200.0, \"label_x\": 347.5, \"label_y\": 1230.0, \"bigg_id\": \"PROTON_c\", \"name\": \"PROTON_c\", \"node_is_primary\": false}, \"11\": {\"node_type\": \"multimarker\", \"x\": 225.0, \"y\": 955.0}, \"12\": {\"node_type\": \"midmarker\", \"x\": 225.0, \"y\": 975.0}, \"13\": {\"node_type\": \"multimarker\", \"x\": 225.0, \"y\": 995.0}, \"14\": {\"node_type\": \"metabolite\", \"x\": 150.0, \"y\": 1330.0, \"label_x\": 160.0, \"label_y\": 1320.0, \"bigg_id\": \"CPD_15815_c\", \"name\": \"CPD_15815_c\", \"node_is_primary\": false}, \"15\": {\"node_type\": \"metabolite\", \"x\": 150.0, \"y\": 1850.0, \"label_x\": 160.0, \"label_y\": 1880.0, \"bigg_id\": \"CPD_2961_c\", \"name\": \"CPD_2961_c\", \"node_is_primary\": false}, \"16\": {\"node_type\": \"metabolite\", \"x\": 300.0, \"y\": 1850.0, \"label_x\": 310.0, \"label_y\": 1880.0, \"bigg_id\": \"PROTON_c\", \"name\": \"PROTON_c\", \"node_is_primary\": false}, \"17\": {\"node_type\": \"multimarker\", \"x\": 225.0, \"y\": 1605.0}, \"18\": {\"node_type\": \"midmarker\", \"x\": 225.0, \"y\": 1625.0}, \"19\": {\"node_type\": \"multimarker\", \"x\": 225.0, \"y\": 1645.0}, \"20\": {\"node_type\": \"metabolite\", \"x\": 300.0, \"y\": 1980.0, \"label_x\": 310.0, \"label_y\": 1970.0, \"bigg_id\": \"NADP_c\", \"name\": \"NADP_c\", \"node_is_primary\": false}, \"21\": {\"node_type\": \"metabolite\", \"x\": 112.5, \"y\": 2500.0, \"label_x\": 122.5, \"label_y\": 2530.0, \"bigg_id\": \"CARBON_DIOXIDE_c\", \"name\": \"CARBON_DIOXIDE_c\", \"node_is_primary\": false}, \"22\": {\"node_type\": \"metabolite\", \"x\": 225.0, \"y\": 2500.0, \"label_x\": 235.0, \"label_y\": 2530.0, \"bigg_id\": \"NADPH_c\", \"name\": \"NADPH_c\", \"node_is_primary\": false}, \"23\": {\"node_type\": \"metabolite\", \"x\": 337.5, \"y\": 2500.0, \"label_x\": 347.5, \"label_y\": 2530.0, \"bigg_id\": \"RIBULOSE_5P_c\", \"name\": \"RIBULOSE_5P_c\", \"node_is_primary\": false}, \"24\": {\"node_type\": \"multimarker\", \"x\": 225.0, \"y\": 2255.0}, \"25\": {\"node_type\": \"midmarker\", \"x\": 225.0, \"y\": 2275.0}, \"26\": {\"node_type\": \"multimarker\", \"x\": 225.0, \"y\": 2295.0}}, \"text_labels\": {}, \"canvas\": {\"x\": 0, \"y\": 0, \"width\": 450, \"height\": 2600}}]",
       "_loaded_model_json": null,
       "allow_building_duplicate_reactions": false,
       "and_method_in_gene_reaction_rule": "mean",
       "canvas_size_and_loc": null,
       "cofactors": [
        "atp",
        "adp",
        "nad",
        "nadh",
        "nadp",
        "nadph",
        "gtp",
        "gdp",
        "h",
        "coa",
        "ump",
        "h2o",
        "ppi"
       ],
       "disabled_buttons": [
        "Clear gene data",
        "Clear metabolite data"
       ],
       "embedded_css": null,
       "enable_editing": true,
       "enable_keys": false,
       "enable_keys_with_tooltip": true,
       "enable_search": true,
       "enable_tooltips": false,
       "full_screen_button": {
        "enable_editing": true,
        "enable_keys": true,
        "enable_tooltips": [
         "label"
        ],
        "menu": "all",
        "scroll_behavior": "pan"
       },
       "gene_data": null,
       "gene_font_size": 18,
       "height": 500,
       "hide_all_labels": false,
       "hide_secondary_metabolites": false,
       "highlight_missing": false,
       "identifiers_on_map": "bigg_id",
       "layout": "IPY_MODEL_bcbc08ed6aff4f54a21d124a70dd0e61",
       "marker_radius": 5,
       "menu": "all",
       "metabolite_compare_style": "log2_fold",
       "metabolite_data": null,
       "metabolite_no_data_color": "#ffffff",
       "metabolite_no_data_size": 10,
       "metabolite_scale": [
        {
         "color": "#fffaf0",
         "size": 20,
         "type": "min"
        },
        {
         "color": "#f1c470",
         "size": 30,
         "type": "median"
        },
        {
         "color": "#800000",
         "size": 40,
         "type": "max"
        }
       ],
       "metabolite_scale_preset": "WhYlRd",
       "metabolite_styles": [
        "color",
        "size",
        "text"
       ],
       "never_ask_before_quit": true,
       "primary_metabolite_radius": 20,
       "reaction_compare_style": "log2_fold",
       "reaction_data": {
        "G6PDH2r": -2,
        "GLCpts": -2,
        "GND": 1,
        "PGL": 0.4
       },
       "reaction_no_data_color": "#dcdcdc",
       "reaction_no_data_size": 8,
       "reaction_scale": [
        {
         "color": "rgb(146,189,146)",
         "type": "value",
         "value": 3.3333333333333335
        },
        {
         "color": "rgb(73,158,73)",
         "type": "value",
         "value": 6.666666666666666
        },
        {
         "color": "rgb(0,127,0)",
         "type": "value",
         "value": 10
        },
        {
         "color": "rgb(220,220,220)",
         "type": "value",
         "value": 0
        },
        {
         "color": "rgb(231,146,146)",
         "type": "value",
         "value": -3.3333333333333335
        },
        {
         "color": "rgb(243,73,73)",
         "type": "value",
         "value": -6.666666666666666
        },
        {
         "color": "rgb(255,0,0)",
         "type": "value",
         "value": -10
        }
       ],
       "reaction_scale_preset": null,
       "reaction_styles": [
        "color",
        "text"
       ],
       "scroll_behavior": "none",
       "secondary_metabolite_radius": 10,
       "semantic_zoom": null,
       "show_gene_reaction_rules": false,
       "starting_reaction": null,
       "use_3d_transform": false,
       "zoom_to_element": null
      }
     },
     "b0ec7cfc17c3422ab89b5c1532f62d8f": {
      "model_module": "escher",
      "model_module_version": "1.7.3",
      "model_name": "EscherMapModel",
      "state": {
       "_loaded_map_json": "[{\"map_name\": \"\", \"map_id\": \"\", \"map_description\": \"\", \"homepage\": \"\", \"schema\": \"https://escher.github.io/escher/jsonschema/1-0-0#\"}, {\"reactions\": {\"0\": {\"name\": \"GLCpts\", \"bigg_id\": \"GLCpts\", \"reversibility\": true, \"label_x\": 265.0, \"label_y\": 325.0, \"gene_reaction_rule\": \"\", \"genes\": [], \"segments\": {\"0\": {\"from_node_id\": \"4\", \"to_node_id\": \"5\", \"b1\": null, \"b2\": null}, \"1\": {\"from_node_id\": \"6\", \"to_node_id\": \"5\", \"b1\": null, \"b2\": null}, \"2\": {\"from_node_id\": \"0\", \"to_node_id\": \"4\", \"b1\": null, \"b2\": null}, \"3\": {\"from_node_id\": \"1\", \"to_node_id\": \"4\", \"b1\": null, \"b2\": null}, \"4\": {\"from_node_id\": \"2\", \"to_node_id\": \"6\", \"b1\": null, \"b2\": null}, \"5\": {\"from_node_id\": \"3\", \"to_node_id\": \"6\", \"b1\": null, \"b2\": null}}, \"metabolites\": [{\"bigg_id\": \"Glucopyranose_e\", \"coefficient\": -1.0}, {\"bigg_id\": \"PHOSPHO_ENOL_PYRUVATE_c\", \"coefficient\": -1.0}, {\"bigg_id\": \"D_glucopyranose_6_phosphate_c\", \"coefficient\": 1.0}, {\"bigg_id\": \"PYRUVATE_c\", \"coefficient\": 1.0}]}, \"1\": {\"name\": \"G6PDH2r\", \"bigg_id\": \"G6PDH2r\", \"reversibility\": true, \"label_x\": 265.0, \"label_y\": 975.0, \"gene_reaction_rule\": \"\", \"genes\": [], \"segments\": {\"6\": {\"from_node_id\": \"11\", \"to_node_id\": \"12\", \"b1\": null, \"b2\": null}, \"7\": {\"from_node_id\": \"13\", \"to_node_id\": \"12\", \"b1\": null, \"b2\": null}, \"8\": {\"from_node_id\": \"2\", \"to_node_id\": \"11\", \"b1\": null, \"b2\": null}, \"9\": {\"from_node_id\": \"7\", \"to_node_id\": \"11\", \"b1\": null, \"b2\": null}, \"10\": {\"from_node_id\": \"8\", \"to_node_id\": \"13\", \"b1\": null, \"b2\": null}, \"11\": {\"from_node_id\": \"9\", \"to_node_id\": \"13\", \"b1\": null, \"b2\": null}, \"12\": {\"from_node_id\": \"10\", \"to_node_id\": \"13\", \"b1\": null, \"b2\": null}}, \"metabolites\": [{\"bigg_id\": \"D_glucopyranose_6_phosphate_c\", \"coefficient\": -1.0}, {\"bigg_id\": \"NADP_c\", \"coefficient\": -1.0}, {\"bigg_id\": \"D_6_P_GLUCONO_DELTA_LACTONE_c\", \"coefficient\": 1.0}, {\"bigg_id\": \"NADPH_c\", \"coefficient\": 1.0}, {\"bigg_id\": \"PROTON_c\", \"coefficient\": 1.0}]}, \"2\": {\"name\": \"PGL\", \"bigg_id\": \"PGL\", \"reversibility\": true, \"label_x\": 265.0, \"label_y\": 1625.0, \"gene_reaction_rule\": \"\", \"genes\": [], \"segments\": {\"13\": {\"from_node_id\": \"17\", \"to_node_id\": \"18\", \"b1\": null, \"b2\": null}, \"14\": {\"from_node_id\": \"19\", \"to_node_id\": \"18\", \"b1\": null, \"b2\": null}, \"15\": {\"from_node_id\": \"14\", \"to_node_id\": \"17\", \"b1\": null, \"b2\": null}, \"16\": {\"from_node_id\": \"8\", \"to_node_id\": \"17\", \"b1\": null, \"b2\": null}, \"17\": {\"from_node_id\": \"15\", \"to_node_id\": \"19\", \"b1\": null, \"b2\": null}, \"18\": {\"from_node_id\": \"16\", \"to_node_id\": \"19\", \"b1\": null, \"b2\": null}}, \"metabolites\": [{\"bigg_id\": \"CPD_15815_c\", \"coefficient\": -1.0}, {\"bigg_id\": \"D_6_P_GLUCONO_DELTA_LACTONE_c\", \"coefficient\": -1.0}, {\"bigg_id\": \"CPD_2961_c\", \"coefficient\": 1.0}, {\"bigg_id\": \"PROTON_c\", \"coefficient\": 1.0}]}, \"3\": {\"name\": \"GND\", \"bigg_id\": \"GND\", \"reversibility\": true, \"label_x\": 265.0, \"label_y\": 2275.0, \"gene_reaction_rule\": \"\", \"genes\": [], \"segments\": {\"19\": {\"from_node_id\": \"24\", \"to_node_id\": \"25\", \"b1\": null, \"b2\": null}, \"20\": {\"from_node_id\": \"26\", \"to_node_id\": \"25\", \"b1\": null, \"b2\": null}, \"21\": {\"from_node_id\": \"15\", \"to_node_id\": \"24\", \"b1\": null, \"b2\": null}, \"22\": {\"from_node_id\": \"20\", \"to_node_id\": \"24\", \"b1\": null, \"b2\": null}, \"23\": {\"from_node_id\": \"21\", \"to_node_id\": \"26\", \"b1\": null, \"b2\": null}, \"24\": {\"from_node_id\": \"22\", \"to_node_id\": \"26\", \"b1\": null, \"b2\": null}, \"25\": {\"from_node_id\": \"23\", \"to_node_id\": \"26\", \"b1\": null, \"b2\": null}}, \"metabolites\": [{\"bigg_id\": \"CPD_2961_c\", \"coefficient\": -1.0}, {\"bigg_id\": \"NADP_c\", \"coefficient\": -1.0}, {\"bigg_id\": \"CARBON_DIOXIDE_c\", \"coefficient\": 1.0}, {\"bigg_id\": \"NADPH_c\", \"coefficient\": 1.0}, {\"bigg_id\": \"RIBULOSE_5P_c\", \"coefficient\": 1.0}]}}, \"nodes\": {\"0\": {\"node_type\": \"metabolite\", \"x\": 150.0, \"y\": 30.0, \"label_x\": 160.0, \"label_y\": 20.0, \"bigg_id\": \"Glucopyranose_e\", \"name\": \"Glucopyranose_e\", \"node_is_primary\": false}, \"1\": {\"node_type\": \"metabolite\", \"x\": 300.0, \"y\": 30.0, \"label_x\": 310.0, \"label_y\": 20.0, \"bigg_id\": \"PHOSPHO_ENOL_PYRUVATE_c\", \"name\": \"PHOSPHO_ENOL_PYRUVATE_c\", \"node_is_primary\": false}, \"2\": {\"node_type\": \"metabolite\", \"x\": 150.0, \"y\": 550.0, \"label_x\": 160.0, \"label_y\": 580.0, \"bigg_id\": \"D_glucopyranose_6_phosphate_c\", \"name\": \"D_glucopyranose_6_phosphate_c\", \"node_is_primary\": false}, \"3\": {\"node_type\": \"metabolite\", \"x\": 300.0, \"y\": 550.0, \"label_x\": 310.0, \"label_y\": 580.0, \"bigg_id\": \"PYRUVATE_c\", \"name\": \"PYRUVATE_c\", \"node_is_primary\": false}, \"4\": {\"node_type\": \"multimarker\", \"x\": 225.0, \"y\": 305.0}, \"5\": {\"node_type\": \"midmarker\", \"x\": 225.0, \"y\": 325.0}, \"6\": {\"node_type\": \"multimarker\", \"x\": 225.0, \"y\": 345.0}, \"7\": {\"node_type\": \"metabolite\", \"x\": 300.0, \"y\": 680.0, \"label_x\": 310.0, \"label_y\": 670.0, \"bigg_id\": \"NADP_c\", \"name\": \"NADP_c\", \"node_is_primary\": false}, \"8\": {\"node_type\": \"metabolite\", \"x\": 112.5, \"y\": 1200.0, \"label_x\": 122.5, \"label_y\": 1230.0, \"bigg_id\": \"D_6_P_GLUCONO_DELTA_LACTONE_c\", \"name\": \"D_6_P_GLUCONO_DELTA_LACTONE_c\", \"node_is_primary\": false}, \"9\": {\"node_type\": \"metabolite\", \"x\": 225.0, \"y\": 1200.0, \"label_x\": 235.0, \"label_y\": 1230.0, \"bigg_id\": \"NADPH_c\", \"name\": \"NADPH_c\", \"node_is_primary\": false}, \"10\": {\"node_type\": \"metabolite\", \"x\": 337.5, \"y\": 1200.0, \"label_x\": 347.5, \"label_y\": 1230.0, \"bigg_id\": \"PROTON_c\", \"name\": \"PROTON_c\", \"node_is_primary\": false}, \"11\": {\"node_type\": \"multimarker\", \"x\": 225.0, \"y\": 955.0}, \"12\": {\"node_type\": \"midmarker\", \"x\": 225.0, \"y\": 975.0}, \"13\": {\"node_type\": \"multimarker\", \"x\": 225.0, \"y\": 995.0}, \"14\": {\"node_type\": \"metabolite\", \"x\": 150.0, \"y\": 1330.0, \"label_x\": 160.0, \"label_y\": 1320.0, \"bigg_id\": \"CPD_15815_c\", \"name\": \"CPD_15815_c\", \"node_is_primary\": false}, \"15\": {\"node_type\": \"metabolite\", \"x\": 150.0, \"y\": 1850.0, \"label_x\": 160.0, \"label_y\": 1880.0, \"bigg_id\": \"CPD_2961_c\", \"name\": \"CPD_2961_c\", \"node_is_primary\": false}, \"16\": {\"node_type\": \"metabolite\", \"x\": 300.0, \"y\": 1850.0, \"label_x\": 310.0, \"label_y\": 1880.0, \"bigg_id\": \"PROTON_c\", \"name\": \"PROTON_c\", \"node_is_primary\": false}, \"17\": {\"node_type\": \"multimarker\", \"x\": 225.0, \"y\": 1605.0}, \"18\": {\"node_type\": \"midmarker\", \"x\": 225.0, \"y\": 1625.0}, \"19\": {\"node_type\": \"multimarker\", \"x\": 225.0, \"y\": 1645.0}, \"20\": {\"node_type\": \"metabolite\", \"x\": 300.0, \"y\": 1980.0, \"label_x\": 310.0, \"label_y\": 1970.0, \"bigg_id\": \"NADP_c\", \"name\": \"NADP_c\", \"node_is_primary\": false}, \"21\": {\"node_type\": \"metabolite\", \"x\": 112.5, \"y\": 2500.0, \"label_x\": 122.5, \"label_y\": 2530.0, \"bigg_id\": \"CARBON_DIOXIDE_c\", \"name\": \"CARBON_DIOXIDE_c\", \"node_is_primary\": false}, \"22\": {\"node_type\": \"metabolite\", \"x\": 225.0, \"y\": 2500.0, \"label_x\": 235.0, \"label_y\": 2530.0, \"bigg_id\": \"NADPH_c\", \"name\": \"NADPH_c\", \"node_is_primary\": false}, \"23\": {\"node_type\": \"metabolite\", \"x\": 337.5, \"y\": 2500.0, \"label_x\": 347.5, \"label_y\": 2530.0, \"bigg_id\": \"RIBULOSE_5P_c\", \"name\": \"RIBULOSE_5P_c\", \"node_is_primary\": false}, \"24\": {\"node_type\": \"multimarker\", \"x\": 225.0, \"y\": 2255.0}, \"25\": {\"node_type\": \"midmarker\", \"x\": 225.0, \"y\": 2275.0}, \"26\": {\"node_type\": \"multimarker\", \"x\": 225.0, \"y\": 2295.0}}, \"text_labels\": {}, \"canvas\": {\"x\": 0, \"y\": 0, \"width\": 450, \"height\": 2600}}]",
       "_loaded_model_json": null,
       "allow_building_duplicate_reactions": false,
       "and_method_in_gene_reaction_rule": "mean",
       "canvas_size_and_loc": null,
       "cofactors": [
        "atp",
        "adp",
        "nad",
        "nadh",
        "nadp",
        "nadph",
        "gtp",
        "gdp",
        "h",
        "coa",
        "ump",
        "h2o",
        "ppi"
       ],
       "disabled_buttons": [
        "Clear gene data",
        "Clear metabolite data"
       ],
       "embedded_css": null,
       "enable_editing": true,
       "enable_keys": false,
       "enable_keys_with_tooltip": true,
       "enable_search": true,
       "enable_tooltips": false,
       "full_screen_button": {
        "enable_editing": true,
        "enable_keys": true,
        "enable_tooltips": [
         "label"
        ],
        "menu": "all",
        "scroll_behavior": "pan"
       },
       "gene_data": null,
       "gene_font_size": 18,
       "height": 500,
       "hide_all_labels": false,
       "hide_secondary_metabolites": false,
       "highlight_missing": false,
       "identifiers_on_map": "bigg_id",
       "layout": "IPY_MODEL_c8e875e08b014846b83d80fe889bf4df",
       "marker_radius": 5,
       "menu": "all",
       "metabolite_compare_style": "log2_fold",
       "metabolite_data": null,
       "metabolite_no_data_color": "#ffffff",
       "metabolite_no_data_size": 10,
       "metabolite_scale": [
        {
         "color": "#fffaf0",
         "size": 20,
         "type": "min"
        },
        {
         "color": "#f1c470",
         "size": 30,
         "type": "median"
        },
        {
         "color": "#800000",
         "size": 40,
         "type": "max"
        }
       ],
       "metabolite_scale_preset": "WhYlRd",
       "metabolite_styles": [
        "color",
        "size",
        "text"
       ],
       "never_ask_before_quit": true,
       "primary_metabolite_radius": 20,
       "reaction_compare_style": "log2_fold",
       "reaction_data": {
        "G6PDH2r": -2,
        "GLCpts": -2,
        "GND": 1,
        "PGL": 0.4
       },
       "reaction_no_data_color": "#dcdcdc",
       "reaction_no_data_size": 8,
       "reaction_scale": [
        {
         "color": "rgb(220,220,220)",
         "type": "value",
         "value": 0.5
        },
        {
         "color": "rgb(220,220,220)",
         "type": "value",
         "value": 1
        },
        {
         "color": "rgb(220,220,220)",
         "type": "value",
         "value": 0
        },
        {
         "color": "rgb(220,220,220)",
         "type": "value",
         "value": -1
        },
        {
         "color": "rgb(220,220,220)",
         "type": "value",
         "value": -2
        }
       ],
       "reaction_scale_preset": null,
       "reaction_styles": [
        "color",
        "text"
       ],
       "scroll_behavior": "none",
       "secondary_metabolite_radius": 10,
       "semantic_zoom": null,
       "show_gene_reaction_rules": false,
       "starting_reaction": null,
       "use_3d_transform": false,
       "zoom_to_element": null
      }
     },
     "bcbc08ed6aff4f54a21d124a70dd0e61": {
      "model_module": "@jupyter-widgets/base",
      "model_module_version": "1.2.0",
      "model_name": "LayoutModel",
      "state": {}
     },
     "c59e14409027428885cc07dad4ba43ba": {
      "model_module": "@jupyter-widgets/base",
      "model_module_version": "1.2.0",
      "model_name": "LayoutModel",
      "state": {}
     },
     "c7be2481d0c245de8925080a1849a7d9": {
      "model_module": "@jupyter-widgets/base",
      "model_module_version": "1.2.0",
      "model_name": "LayoutModel",
      "state": {}
     },
     "c8e875e08b014846b83d80fe889bf4df": {
      "model_module": "@jupyter-widgets/base",
      "model_module_version": "1.2.0",
      "model_name": "LayoutModel",
      "state": {}
     },
     "cd414a30fe5f4ff6b26052df8b543a3a": {
      "model_module": "@jupyter-widgets/base",
      "model_module_version": "1.2.0",
      "model_name": "LayoutModel",
      "state": {}
     },
     "d37ab0d62ba8483db7d07260c1db7424": {
      "model_module": "escher",
      "model_module_version": "1.7.3",
      "model_name": "EscherMapModel",
      "state": {
       "_loaded_map_json": "[{\"map_name\": \"\", \"map_id\": \"\", \"map_description\": \"\", \"homepage\": \"\", \"schema\": \"https://escher.github.io/escher/jsonschema/1-0-0#\"}, {\"reactions\": {\"0\": {\"name\": \"GLCpts\", \"bigg_id\": \"GLCpts\", \"reversibility\": true, \"label_x\": 265.0, \"label_y\": 325.0, \"gene_reaction_rule\": \"\", \"genes\": [], \"segments\": {\"0\": {\"from_node_id\": \"4\", \"to_node_id\": \"5\", \"b1\": null, \"b2\": null}, \"1\": {\"from_node_id\": \"6\", \"to_node_id\": \"5\", \"b1\": null, \"b2\": null}, \"2\": {\"from_node_id\": \"0\", \"to_node_id\": \"4\", \"b1\": null, \"b2\": null}, \"3\": {\"from_node_id\": \"1\", \"to_node_id\": \"4\", \"b1\": null, \"b2\": null}, \"4\": {\"from_node_id\": \"2\", \"to_node_id\": \"6\", \"b1\": null, \"b2\": null}, \"5\": {\"from_node_id\": \"3\", \"to_node_id\": \"6\", \"b1\": null, \"b2\": null}}, \"metabolites\": [{\"bigg_id\": \"Glucopyranose_e\", \"coefficient\": -1.0}, {\"bigg_id\": \"PHOSPHO_ENOL_PYRUVATE_c\", \"coefficient\": -1.0}, {\"bigg_id\": \"D_glucopyranose_6_phosphate_c\", \"coefficient\": 1.0}, {\"bigg_id\": \"PYRUVATE_c\", \"coefficient\": 1.0}]}, \"1\": {\"name\": \"G6PDH2r\", \"bigg_id\": \"G6PDH2r\", \"reversibility\": true, \"label_x\": 265.0, \"label_y\": 975.0, \"gene_reaction_rule\": \"\", \"genes\": [], \"segments\": {\"6\": {\"from_node_id\": \"11\", \"to_node_id\": \"12\", \"b1\": null, \"b2\": null}, \"7\": {\"from_node_id\": \"13\", \"to_node_id\": \"12\", \"b1\": null, \"b2\": null}, \"8\": {\"from_node_id\": \"2\", \"to_node_id\": \"11\", \"b1\": null, \"b2\": null}, \"9\": {\"from_node_id\": \"7\", \"to_node_id\": \"11\", \"b1\": null, \"b2\": null}, \"10\": {\"from_node_id\": \"8\", \"to_node_id\": \"13\", \"b1\": null, \"b2\": null}, \"11\": {\"from_node_id\": \"9\", \"to_node_id\": \"13\", \"b1\": null, \"b2\": null}, \"12\": {\"from_node_id\": \"10\", \"to_node_id\": \"13\", \"b1\": null, \"b2\": null}}, \"metabolites\": [{\"bigg_id\": \"D_glucopyranose_6_phosphate_c\", \"coefficient\": -1.0}, {\"bigg_id\": \"NADP_c\", \"coefficient\": -1.0}, {\"bigg_id\": \"D_6_P_GLUCONO_DELTA_LACTONE_c\", \"coefficient\": 1.0}, {\"bigg_id\": \"NADPH_c\", \"coefficient\": 1.0}, {\"bigg_id\": \"PROTON_c\", \"coefficient\": 1.0}]}, \"2\": {\"name\": \"PGL\", \"bigg_id\": \"PGL\", \"reversibility\": true, \"label_x\": 265.0, \"label_y\": 1625.0, \"gene_reaction_rule\": \"\", \"genes\": [], \"segments\": {\"13\": {\"from_node_id\": \"17\", \"to_node_id\": \"18\", \"b1\": null, \"b2\": null}, \"14\": {\"from_node_id\": \"19\", \"to_node_id\": \"18\", \"b1\": null, \"b2\": null}, \"15\": {\"from_node_id\": \"14\", \"to_node_id\": \"17\", \"b1\": null, \"b2\": null}, \"16\": {\"from_node_id\": \"8\", \"to_node_id\": \"17\", \"b1\": null, \"b2\": null}, \"17\": {\"from_node_id\": \"15\", \"to_node_id\": \"19\", \"b1\": null, \"b2\": null}, \"18\": {\"from_node_id\": \"16\", \"to_node_id\": \"19\", \"b1\": null, \"b2\": null}}, \"metabolites\": [{\"bigg_id\": \"CPD_15815_c\", \"coefficient\": -1.0}, {\"bigg_id\": \"D_6_P_GLUCONO_DELTA_LACTONE_c\", \"coefficient\": -1.0}, {\"bigg_id\": \"CPD_2961_c\", \"coefficient\": 1.0}, {\"bigg_id\": \"PROTON_c\", \"coefficient\": 1.0}]}, \"3\": {\"name\": \"GND\", \"bigg_id\": \"GND\", \"reversibility\": true, \"label_x\": 265.0, \"label_y\": 2275.0, \"gene_reaction_rule\": \"\", \"genes\": [], \"segments\": {\"19\": {\"from_node_id\": \"24\", \"to_node_id\": \"25\", \"b1\": null, \"b2\": null}, \"20\": {\"from_node_id\": \"26\", \"to_node_id\": \"25\", \"b1\": null, \"b2\": null}, \"21\": {\"from_node_id\": \"15\", \"to_node_id\": \"24\", \"b1\": null, \"b2\": null}, \"22\": {\"from_node_id\": \"20\", \"to_node_id\": \"24\", \"b1\": null, \"b2\": null}, \"23\": {\"from_node_id\": \"21\", \"to_node_id\": \"26\", \"b1\": null, \"b2\": null}, \"24\": {\"from_node_id\": \"22\", \"to_node_id\": \"26\", \"b1\": null, \"b2\": null}, \"25\": {\"from_node_id\": \"23\", \"to_node_id\": \"26\", \"b1\": null, \"b2\": null}}, \"metabolites\": [{\"bigg_id\": \"CPD_2961_c\", \"coefficient\": -1.0}, {\"bigg_id\": \"NADP_c\", \"coefficient\": -1.0}, {\"bigg_id\": \"CARBON_DIOXIDE_c\", \"coefficient\": 1.0}, {\"bigg_id\": \"NADPH_c\", \"coefficient\": 1.0}, {\"bigg_id\": \"RIBULOSE_5P_c\", \"coefficient\": 1.0}]}}, \"nodes\": {\"0\": {\"node_type\": \"metabolite\", \"x\": 150.0, \"y\": 30.0, \"label_x\": 160.0, \"label_y\": 20.0, \"bigg_id\": \"Glucopyranose_e\", \"name\": \"Glucopyranose_e\", \"node_is_primary\": false}, \"1\": {\"node_type\": \"metabolite\", \"x\": 300.0, \"y\": 30.0, \"label_x\": 310.0, \"label_y\": 20.0, \"bigg_id\": \"PHOSPHO_ENOL_PYRUVATE_c\", \"name\": \"PHOSPHO_ENOL_PYRUVATE_c\", \"node_is_primary\": false}, \"2\": {\"node_type\": \"metabolite\", \"x\": 150.0, \"y\": 550.0, \"label_x\": 160.0, \"label_y\": 580.0, \"bigg_id\": \"D_glucopyranose_6_phosphate_c\", \"name\": \"D_glucopyranose_6_phosphate_c\", \"node_is_primary\": false}, \"3\": {\"node_type\": \"metabolite\", \"x\": 300.0, \"y\": 550.0, \"label_x\": 310.0, \"label_y\": 580.0, \"bigg_id\": \"PYRUVATE_c\", \"name\": \"PYRUVATE_c\", \"node_is_primary\": false}, \"4\": {\"node_type\": \"multimarker\", \"x\": 225.0, \"y\": 305.0}, \"5\": {\"node_type\": \"midmarker\", \"x\": 225.0, \"y\": 325.0}, \"6\": {\"node_type\": \"multimarker\", \"x\": 225.0, \"y\": 345.0}, \"7\": {\"node_type\": \"metabolite\", \"x\": 300.0, \"y\": 680.0, \"label_x\": 310.0, \"label_y\": 670.0, \"bigg_id\": \"NADP_c\", \"name\": \"NADP_c\", \"node_is_primary\": false}, \"8\": {\"node_type\": \"metabolite\", \"x\": 112.5, \"y\": 1200.0, \"label_x\": 122.5, \"label_y\": 1230.0, \"bigg_id\": \"D_6_P_GLUCONO_DELTA_LACTONE_c\", \"name\": \"D_6_P_GLUCONO_DELTA_LACTONE_c\", \"node_is_primary\": false}, \"9\": {\"node_type\": \"metabolite\", \"x\": 225.0, \"y\": 1200.0, \"label_x\": 235.0, \"label_y\": 1230.0, \"bigg_id\": \"NADPH_c\", \"name\": \"NADPH_c\", \"node_is_primary\": false}, \"10\": {\"node_type\": \"metabolite\", \"x\": 337.5, \"y\": 1200.0, \"label_x\": 347.5, \"label_y\": 1230.0, \"bigg_id\": \"PROTON_c\", \"name\": \"PROTON_c\", \"node_is_primary\": false}, \"11\": {\"node_type\": \"multimarker\", \"x\": 225.0, \"y\": 955.0}, \"12\": {\"node_type\": \"midmarker\", \"x\": 225.0, \"y\": 975.0}, \"13\": {\"node_type\": \"multimarker\", \"x\": 225.0, \"y\": 995.0}, \"14\": {\"node_type\": \"metabolite\", \"x\": 150.0, \"y\": 1330.0, \"label_x\": 160.0, \"label_y\": 1320.0, \"bigg_id\": \"CPD_15815_c\", \"name\": \"CPD_15815_c\", \"node_is_primary\": false}, \"15\": {\"node_type\": \"metabolite\", \"x\": 150.0, \"y\": 1850.0, \"label_x\": 160.0, \"label_y\": 1880.0, \"bigg_id\": \"CPD_2961_c\", \"name\": \"CPD_2961_c\", \"node_is_primary\": false}, \"16\": {\"node_type\": \"metabolite\", \"x\": 300.0, \"y\": 1850.0, \"label_x\": 310.0, \"label_y\": 1880.0, \"bigg_id\": \"PROTON_c\", \"name\": \"PROTON_c\", \"node_is_primary\": false}, \"17\": {\"node_type\": \"multimarker\", \"x\": 225.0, \"y\": 1605.0}, \"18\": {\"node_type\": \"midmarker\", \"x\": 225.0, \"y\": 1625.0}, \"19\": {\"node_type\": \"multimarker\", \"x\": 225.0, \"y\": 1645.0}, \"20\": {\"node_type\": \"metabolite\", \"x\": 300.0, \"y\": 1980.0, \"label_x\": 310.0, \"label_y\": 1970.0, \"bigg_id\": \"NADP_c\", \"name\": \"NADP_c\", \"node_is_primary\": false}, \"21\": {\"node_type\": \"metabolite\", \"x\": 112.5, \"y\": 2500.0, \"label_x\": 122.5, \"label_y\": 2530.0, \"bigg_id\": \"CARBON_DIOXIDE_c\", \"name\": \"CARBON_DIOXIDE_c\", \"node_is_primary\": false}, \"22\": {\"node_type\": \"metabolite\", \"x\": 225.0, \"y\": 2500.0, \"label_x\": 235.0, \"label_y\": 2530.0, \"bigg_id\": \"NADPH_c\", \"name\": \"NADPH_c\", \"node_is_primary\": false}, \"23\": {\"node_type\": \"metabolite\", \"x\": 337.5, \"y\": 2500.0, \"label_x\": 347.5, \"label_y\": 2530.0, \"bigg_id\": \"RIBULOSE_5P_c\", \"name\": \"RIBULOSE_5P_c\", \"node_is_primary\": false}, \"24\": {\"node_type\": \"multimarker\", \"x\": 225.0, \"y\": 2255.0}, \"25\": {\"node_type\": \"midmarker\", \"x\": 225.0, \"y\": 2275.0}, \"26\": {\"node_type\": \"multimarker\", \"x\": 225.0, \"y\": 2295.0}}, \"text_labels\": {}, \"canvas\": {\"x\": 0, \"y\": 0, \"width\": 450, \"height\": 2600}}]",
       "_loaded_model_json": null,
       "allow_building_duplicate_reactions": false,
       "and_method_in_gene_reaction_rule": "mean",
       "canvas_size_and_loc": null,
       "cofactors": [
        "atp",
        "adp",
        "nad",
        "nadh",
        "nadp",
        "nadph",
        "gtp",
        "gdp",
        "h",
        "coa",
        "ump",
        "h2o",
        "ppi"
       ],
       "disabled_buttons": [
        "Clear gene data",
        "Clear metabolite data"
       ],
       "embedded_css": null,
       "enable_editing": true,
       "enable_keys": false,
       "enable_keys_with_tooltip": true,
       "enable_search": true,
       "enable_tooltips": false,
       "full_screen_button": {
        "enable_editing": true,
        "enable_keys": true,
        "enable_tooltips": [
         "label"
        ],
        "menu": "all",
        "scroll_behavior": "pan"
       },
       "gene_data": null,
       "gene_font_size": 18,
       "height": 500,
       "hide_all_labels": false,
       "hide_secondary_metabolites": false,
       "highlight_missing": false,
       "identifiers_on_map": "bigg_id",
       "layout": "IPY_MODEL_f8603872196447fa8bc1abdb96e84c8f",
       "marker_radius": 5,
       "menu": "all",
       "metabolite_compare_style": "log2_fold",
       "metabolite_data": null,
       "metabolite_no_data_color": "#ffffff",
       "metabolite_no_data_size": 10,
       "metabolite_scale": [
        {
         "color": "#fffaf0",
         "size": 20,
         "type": "min"
        },
        {
         "color": "#f1c470",
         "size": 30,
         "type": "median"
        },
        {
         "color": "#800000",
         "size": 40,
         "type": "max"
        }
       ],
       "metabolite_scale_preset": "WhYlRd",
       "metabolite_styles": [
        "color",
        "size",
        "text"
       ],
       "never_ask_before_quit": true,
       "primary_metabolite_radius": 20,
       "reaction_compare_style": "log2_fold",
       "reaction_data": {
        "G6PDH2r": -2,
        "GLCpts": -2,
        "GND": 1,
        "Other": 1000,
        "PGL": 0.4
       },
       "reaction_no_data_color": "#dcdcdc",
       "reaction_no_data_size": 8,
       "reaction_scale": [
        {
         "color": "rgb(191,215,230)",
         "type": "value",
         "value": 0.4
        },
        {
         "color": "rgb(163,210,240)",
         "type": "value",
         "value": 1
        },
        {
         "color": "rgb(135,205,250)",
         "type": "value",
         "value": 1000
        },
        {
         "color": "rgb(220,220,220)",
         "type": "value",
         "value": 0
        },
        {
         "color": "rgb(237,192,110)",
         "type": "value",
         "value": -2
        },
        {
         "color": "rgb(255,165,0)",
         "type": "value",
         "value": -2
        }
       ],
       "reaction_scale_preset": null,
       "reaction_styles": [
        "color",
        "text"
       ],
       "scroll_behavior": "none",
       "secondary_metabolite_radius": 10,
       "semantic_zoom": null,
       "show_gene_reaction_rules": false,
       "starting_reaction": null,
       "use_3d_transform": false,
       "zoom_to_element": null
      }
     },
     "d4238cfd3cd149db8062c8075a14d7e4": {
      "model_module": "@jupyter-widgets/base",
      "model_module_version": "1.2.0",
      "model_name": "LayoutModel",
      "state": {}
     },
     "d7b3a160b2964ab3a578a663cc2feb2b": {
      "model_module": "escher",
      "model_module_version": "1.7.3",
      "model_name": "EscherMapModel",
      "state": {
       "_loaded_map_json": "[{\"map_name\": \"\", \"map_id\": \"\", \"map_description\": \"\", \"homepage\": \"\", \"schema\": \"https://escher.github.io/escher/jsonschema/1-0-0#\"}, {\"reactions\": {\"0\": {\"name\": \"GLCpts\", \"bigg_id\": \"GLCpts\", \"reversibility\": true, \"label_x\": 265.0, \"label_y\": 325.0, \"gene_reaction_rule\": \"\", \"genes\": [], \"segments\": {\"0\": {\"from_node_id\": \"4\", \"to_node_id\": \"5\", \"b1\": null, \"b2\": null}, \"1\": {\"from_node_id\": \"6\", \"to_node_id\": \"5\", \"b1\": null, \"b2\": null}, \"2\": {\"from_node_id\": \"0\", \"to_node_id\": \"4\", \"b1\": null, \"b2\": null}, \"3\": {\"from_node_id\": \"1\", \"to_node_id\": \"4\", \"b1\": null, \"b2\": null}, \"4\": {\"from_node_id\": \"2\", \"to_node_id\": \"6\", \"b1\": null, \"b2\": null}, \"5\": {\"from_node_id\": \"3\", \"to_node_id\": \"6\", \"b1\": null, \"b2\": null}}, \"metabolites\": [{\"bigg_id\": \"Glucopyranose_e\", \"coefficient\": -1.0}, {\"bigg_id\": \"PHOSPHO_ENOL_PYRUVATE_c\", \"coefficient\": -1.0}, {\"bigg_id\": \"D_glucopyranose_6_phosphate_c\", \"coefficient\": 1.0}, {\"bigg_id\": \"PYRUVATE_c\", \"coefficient\": 1.0}]}, \"1\": {\"name\": \"G6PDH2r\", \"bigg_id\": \"G6PDH2r\", \"reversibility\": true, \"label_x\": 265.0, \"label_y\": 975.0, \"gene_reaction_rule\": \"\", \"genes\": [], \"segments\": {\"6\": {\"from_node_id\": \"11\", \"to_node_id\": \"12\", \"b1\": null, \"b2\": null}, \"7\": {\"from_node_id\": \"13\", \"to_node_id\": \"12\", \"b1\": null, \"b2\": null}, \"8\": {\"from_node_id\": \"2\", \"to_node_id\": \"11\", \"b1\": null, \"b2\": null}, \"9\": {\"from_node_id\": \"7\", \"to_node_id\": \"11\", \"b1\": null, \"b2\": null}, \"10\": {\"from_node_id\": \"8\", \"to_node_id\": \"13\", \"b1\": null, \"b2\": null}, \"11\": {\"from_node_id\": \"9\", \"to_node_id\": \"13\", \"b1\": null, \"b2\": null}, \"12\": {\"from_node_id\": \"10\", \"to_node_id\": \"13\", \"b1\": null, \"b2\": null}}, \"metabolites\": [{\"bigg_id\": \"D_glucopyranose_6_phosphate_c\", \"coefficient\": -1.0}, {\"bigg_id\": \"NADP_c\", \"coefficient\": -1.0}, {\"bigg_id\": \"D_6_P_GLUCONO_DELTA_LACTONE_c\", \"coefficient\": 1.0}, {\"bigg_id\": \"NADPH_c\", \"coefficient\": 1.0}, {\"bigg_id\": \"PROTON_c\", \"coefficient\": 1.0}]}, \"2\": {\"name\": \"PGL\", \"bigg_id\": \"PGL\", \"reversibility\": true, \"label_x\": 265.0, \"label_y\": 1625.0, \"gene_reaction_rule\": \"\", \"genes\": [], \"segments\": {\"13\": {\"from_node_id\": \"17\", \"to_node_id\": \"18\", \"b1\": null, \"b2\": null}, \"14\": {\"from_node_id\": \"19\", \"to_node_id\": \"18\", \"b1\": null, \"b2\": null}, \"15\": {\"from_node_id\": \"14\", \"to_node_id\": \"17\", \"b1\": null, \"b2\": null}, \"16\": {\"from_node_id\": \"8\", \"to_node_id\": \"17\", \"b1\": null, \"b2\": null}, \"17\": {\"from_node_id\": \"15\", \"to_node_id\": \"19\", \"b1\": null, \"b2\": null}, \"18\": {\"from_node_id\": \"16\", \"to_node_id\": \"19\", \"b1\": null, \"b2\": null}}, \"metabolites\": [{\"bigg_id\": \"CPD_15815_c\", \"coefficient\": -1.0}, {\"bigg_id\": \"D_6_P_GLUCONO_DELTA_LACTONE_c\", \"coefficient\": -1.0}, {\"bigg_id\": \"CPD_2961_c\", \"coefficient\": 1.0}, {\"bigg_id\": \"PROTON_c\", \"coefficient\": 1.0}]}, \"3\": {\"name\": \"GND\", \"bigg_id\": \"GND\", \"reversibility\": true, \"label_x\": 265.0, \"label_y\": 2275.0, \"gene_reaction_rule\": \"\", \"genes\": [], \"segments\": {\"19\": {\"from_node_id\": \"24\", \"to_node_id\": \"25\", \"b1\": null, \"b2\": null}, \"20\": {\"from_node_id\": \"26\", \"to_node_id\": \"25\", \"b1\": null, \"b2\": null}, \"21\": {\"from_node_id\": \"15\", \"to_node_id\": \"24\", \"b1\": null, \"b2\": null}, \"22\": {\"from_node_id\": \"20\", \"to_node_id\": \"24\", \"b1\": null, \"b2\": null}, \"23\": {\"from_node_id\": \"21\", \"to_node_id\": \"26\", \"b1\": null, \"b2\": null}, \"24\": {\"from_node_id\": \"22\", \"to_node_id\": \"26\", \"b1\": null, \"b2\": null}, \"25\": {\"from_node_id\": \"23\", \"to_node_id\": \"26\", \"b1\": null, \"b2\": null}}, \"metabolites\": [{\"bigg_id\": \"CPD_2961_c\", \"coefficient\": -1.0}, {\"bigg_id\": \"NADP_c\", \"coefficient\": -1.0}, {\"bigg_id\": \"CARBON_DIOXIDE_c\", \"coefficient\": 1.0}, {\"bigg_id\": \"NADPH_c\", \"coefficient\": 1.0}, {\"bigg_id\": \"RIBULOSE_5P_c\", \"coefficient\": 1.0}]}}, \"nodes\": {\"0\": {\"node_type\": \"metabolite\", \"x\": 150.0, \"y\": 30.0, \"label_x\": 160.0, \"label_y\": 20.0, \"bigg_id\": \"Glucopyranose_e\", \"name\": \"Glucopyranose_e\", \"node_is_primary\": false}, \"1\": {\"node_type\": \"metabolite\", \"x\": 300.0, \"y\": 30.0, \"label_x\": 310.0, \"label_y\": 20.0, \"bigg_id\": \"PHOSPHO_ENOL_PYRUVATE_c\", \"name\": \"PHOSPHO_ENOL_PYRUVATE_c\", \"node_is_primary\": false}, \"2\": {\"node_type\": \"metabolite\", \"x\": 150.0, \"y\": 550.0, \"label_x\": 160.0, \"label_y\": 580.0, \"bigg_id\": \"D_glucopyranose_6_phosphate_c\", \"name\": \"D_glucopyranose_6_phosphate_c\", \"node_is_primary\": false}, \"3\": {\"node_type\": \"metabolite\", \"x\": 300.0, \"y\": 550.0, \"label_x\": 310.0, \"label_y\": 580.0, \"bigg_id\": \"PYRUVATE_c\", \"name\": \"PYRUVATE_c\", \"node_is_primary\": false}, \"4\": {\"node_type\": \"multimarker\", \"x\": 225.0, \"y\": 305.0}, \"5\": {\"node_type\": \"midmarker\", \"x\": 225.0, \"y\": 325.0}, \"6\": {\"node_type\": \"multimarker\", \"x\": 225.0, \"y\": 345.0}, \"7\": {\"node_type\": \"metabolite\", \"x\": 300.0, \"y\": 680.0, \"label_x\": 310.0, \"label_y\": 670.0, \"bigg_id\": \"NADP_c\", \"name\": \"NADP_c\", \"node_is_primary\": false}, \"8\": {\"node_type\": \"metabolite\", \"x\": 112.5, \"y\": 1200.0, \"label_x\": 122.5, \"label_y\": 1230.0, \"bigg_id\": \"D_6_P_GLUCONO_DELTA_LACTONE_c\", \"name\": \"D_6_P_GLUCONO_DELTA_LACTONE_c\", \"node_is_primary\": false}, \"9\": {\"node_type\": \"metabolite\", \"x\": 225.0, \"y\": 1200.0, \"label_x\": 235.0, \"label_y\": 1230.0, \"bigg_id\": \"NADPH_c\", \"name\": \"NADPH_c\", \"node_is_primary\": false}, \"10\": {\"node_type\": \"metabolite\", \"x\": 337.5, \"y\": 1200.0, \"label_x\": 347.5, \"label_y\": 1230.0, \"bigg_id\": \"PROTON_c\", \"name\": \"PROTON_c\", \"node_is_primary\": false}, \"11\": {\"node_type\": \"multimarker\", \"x\": 225.0, \"y\": 955.0}, \"12\": {\"node_type\": \"midmarker\", \"x\": 225.0, \"y\": 975.0}, \"13\": {\"node_type\": \"multimarker\", \"x\": 225.0, \"y\": 995.0}, \"14\": {\"node_type\": \"metabolite\", \"x\": 150.0, \"y\": 1330.0, \"label_x\": 160.0, \"label_y\": 1320.0, \"bigg_id\": \"CPD_15815_c\", \"name\": \"CPD_15815_c\", \"node_is_primary\": false}, \"15\": {\"node_type\": \"metabolite\", \"x\": 150.0, \"y\": 1850.0, \"label_x\": 160.0, \"label_y\": 1880.0, \"bigg_id\": \"CPD_2961_c\", \"name\": \"CPD_2961_c\", \"node_is_primary\": false}, \"16\": {\"node_type\": \"metabolite\", \"x\": 300.0, \"y\": 1850.0, \"label_x\": 310.0, \"label_y\": 1880.0, \"bigg_id\": \"PROTON_c\", \"name\": \"PROTON_c\", \"node_is_primary\": false}, \"17\": {\"node_type\": \"multimarker\", \"x\": 225.0, \"y\": 1605.0}, \"18\": {\"node_type\": \"midmarker\", \"x\": 225.0, \"y\": 1625.0}, \"19\": {\"node_type\": \"multimarker\", \"x\": 225.0, \"y\": 1645.0}, \"20\": {\"node_type\": \"metabolite\", \"x\": 300.0, \"y\": 1980.0, \"label_x\": 310.0, \"label_y\": 1970.0, \"bigg_id\": \"NADP_c\", \"name\": \"NADP_c\", \"node_is_primary\": false}, \"21\": {\"node_type\": \"metabolite\", \"x\": 112.5, \"y\": 2500.0, \"label_x\": 122.5, \"label_y\": 2530.0, \"bigg_id\": \"CARBON_DIOXIDE_c\", \"name\": \"CARBON_DIOXIDE_c\", \"node_is_primary\": false}, \"22\": {\"node_type\": \"metabolite\", \"x\": 225.0, \"y\": 2500.0, \"label_x\": 235.0, \"label_y\": 2530.0, \"bigg_id\": \"NADPH_c\", \"name\": \"NADPH_c\", \"node_is_primary\": false}, \"23\": {\"node_type\": \"metabolite\", \"x\": 337.5, \"y\": 2500.0, \"label_x\": 347.5, \"label_y\": 2530.0, \"bigg_id\": \"RIBULOSE_5P_c\", \"name\": \"RIBULOSE_5P_c\", \"node_is_primary\": false}, \"24\": {\"node_type\": \"multimarker\", \"x\": 225.0, \"y\": 2255.0}, \"25\": {\"node_type\": \"midmarker\", \"x\": 225.0, \"y\": 2275.0}, \"26\": {\"node_type\": \"multimarker\", \"x\": 225.0, \"y\": 2295.0}}, \"text_labels\": {}, \"canvas\": {\"x\": 0, \"y\": 0, \"width\": 450, \"height\": 2600}}]",
       "_loaded_model_json": null,
       "allow_building_duplicate_reactions": false,
       "and_method_in_gene_reaction_rule": "mean",
       "canvas_size_and_loc": null,
       "cofactors": [
        "atp",
        "adp",
        "nad",
        "nadh",
        "nadp",
        "nadph",
        "gtp",
        "gdp",
        "h",
        "coa",
        "ump",
        "h2o",
        "ppi"
       ],
       "disabled_buttons": [
        "Clear gene data",
        "Clear metabolite data"
       ],
       "embedded_css": null,
       "enable_editing": true,
       "enable_keys": false,
       "enable_keys_with_tooltip": true,
       "enable_search": true,
       "enable_tooltips": false,
       "full_screen_button": {
        "enable_editing": true,
        "enable_keys": true,
        "enable_tooltips": [
         "label"
        ],
        "menu": "all",
        "scroll_behavior": "pan"
       },
       "gene_data": null,
       "gene_font_size": 18,
       "height": 500,
       "hide_all_labels": false,
       "hide_secondary_metabolites": false,
       "highlight_missing": false,
       "identifiers_on_map": "bigg_id",
       "layout": "IPY_MODEL_0be6faac1d26453c86f70084cf956c25",
       "marker_radius": 5,
       "menu": "all",
       "metabolite_compare_style": "log2_fold",
       "metabolite_data": null,
       "metabolite_no_data_color": "#ffffff",
       "metabolite_no_data_size": 10,
       "metabolite_scale": [
        {
         "color": "#fffaf0",
         "size": 20,
         "type": "min"
        },
        {
         "color": "#f1c470",
         "size": 30,
         "type": "median"
        },
        {
         "color": "#800000",
         "size": 40,
         "type": "max"
        }
       ],
       "metabolite_scale_preset": "WhYlRd",
       "metabolite_styles": [
        "color",
        "size",
        "text"
       ],
       "never_ask_before_quit": true,
       "primary_metabolite_radius": 20,
       "reaction_compare_style": "log2_fold",
       "reaction_data": {
        "G6PDH2r": -2,
        "GLCpts": -2,
        "GND": 1,
        "PGL": 0.4
       },
       "reaction_no_data_color": "#dcdcdc",
       "reaction_no_data_size": 8,
       "reaction_scale": [
        {
         "color": "rgb(110,174,110)",
         "type": "value",
         "value": 0.5
        },
        {
         "color": "rgb(0,128,0)",
         "type": "value",
         "value": 1
        },
        {
         "color": "rgb(220,220,220)",
         "type": "value",
         "value": 0
        },
        {
         "color": "rgb(237,110,110)",
         "type": "value",
         "value": -1
        },
        {
         "color": "rgb(255,0,0)",
         "type": "value",
         "value": -2
        }
       ],
       "reaction_scale_preset": null,
       "reaction_styles": [
        "color",
        "text"
       ],
       "scroll_behavior": "none",
       "secondary_metabolite_radius": 10,
       "semantic_zoom": null,
       "show_gene_reaction_rules": false,
       "starting_reaction": null,
       "use_3d_transform": false,
       "zoom_to_element": null
      }
     },
     "e836e48baf764f82b456c5dfdbc91c9a": {
      "model_module": "escher",
      "model_module_version": "1.7.3",
      "model_name": "EscherMapModel",
      "state": {
       "_loaded_map_json": "[{\"map_name\": \"\", \"map_id\": \"\", \"map_description\": \"\", \"homepage\": \"\", \"schema\": \"https://escher.github.io/escher/jsonschema/1-0-0#\"}, {\"reactions\": {\"0\": {\"name\": \"GLCpts\", \"bigg_id\": \"GLCpts\", \"reversibility\": true, \"label_x\": 265.0, \"label_y\": 325.0, \"gene_reaction_rule\": \"\", \"genes\": [], \"segments\": {\"0\": {\"from_node_id\": \"4\", \"to_node_id\": \"5\", \"b1\": null, \"b2\": null}, \"1\": {\"from_node_id\": \"6\", \"to_node_id\": \"5\", \"b1\": null, \"b2\": null}, \"2\": {\"from_node_id\": \"0\", \"to_node_id\": \"4\", \"b1\": null, \"b2\": null}, \"3\": {\"from_node_id\": \"1\", \"to_node_id\": \"4\", \"b1\": null, \"b2\": null}, \"4\": {\"from_node_id\": \"2\", \"to_node_id\": \"6\", \"b1\": null, \"b2\": null}, \"5\": {\"from_node_id\": \"3\", \"to_node_id\": \"6\", \"b1\": null, \"b2\": null}}, \"metabolites\": [{\"bigg_id\": \"Glucopyranose_e\", \"coefficient\": -1.0}, {\"bigg_id\": \"PHOSPHO_ENOL_PYRUVATE_c\", \"coefficient\": -1.0}, {\"bigg_id\": \"D_glucopyranose_6_phosphate_c\", \"coefficient\": 1.0}, {\"bigg_id\": \"PYRUVATE_c\", \"coefficient\": 1.0}]}, \"1\": {\"name\": \"G6PDH2r\", \"bigg_id\": \"G6PDH2r\", \"reversibility\": true, \"label_x\": 265.0, \"label_y\": 975.0, \"gene_reaction_rule\": \"\", \"genes\": [], \"segments\": {\"6\": {\"from_node_id\": \"11\", \"to_node_id\": \"12\", \"b1\": null, \"b2\": null}, \"7\": {\"from_node_id\": \"13\", \"to_node_id\": \"12\", \"b1\": null, \"b2\": null}, \"8\": {\"from_node_id\": \"2\", \"to_node_id\": \"11\", \"b1\": null, \"b2\": null}, \"9\": {\"from_node_id\": \"7\", \"to_node_id\": \"11\", \"b1\": null, \"b2\": null}, \"10\": {\"from_node_id\": \"8\", \"to_node_id\": \"13\", \"b1\": null, \"b2\": null}, \"11\": {\"from_node_id\": \"9\", \"to_node_id\": \"13\", \"b1\": null, \"b2\": null}, \"12\": {\"from_node_id\": \"10\", \"to_node_id\": \"13\", \"b1\": null, \"b2\": null}}, \"metabolites\": [{\"bigg_id\": \"D_glucopyranose_6_phosphate_c\", \"coefficient\": -1.0}, {\"bigg_id\": \"NADP_c\", \"coefficient\": -1.0}, {\"bigg_id\": \"D_6_P_GLUCONO_DELTA_LACTONE_c\", \"coefficient\": 1.0}, {\"bigg_id\": \"NADPH_c\", \"coefficient\": 1.0}, {\"bigg_id\": \"PROTON_c\", \"coefficient\": 1.0}]}, \"2\": {\"name\": \"PGL\", \"bigg_id\": \"PGL\", \"reversibility\": true, \"label_x\": 265.0, \"label_y\": 1625.0, \"gene_reaction_rule\": \"\", \"genes\": [], \"segments\": {\"13\": {\"from_node_id\": \"17\", \"to_node_id\": \"18\", \"b1\": null, \"b2\": null}, \"14\": {\"from_node_id\": \"19\", \"to_node_id\": \"18\", \"b1\": null, \"b2\": null}, \"15\": {\"from_node_id\": \"14\", \"to_node_id\": \"17\", \"b1\": null, \"b2\": null}, \"16\": {\"from_node_id\": \"8\", \"to_node_id\": \"17\", \"b1\": null, \"b2\": null}, \"17\": {\"from_node_id\": \"15\", \"to_node_id\": \"19\", \"b1\": null, \"b2\": null}, \"18\": {\"from_node_id\": \"16\", \"to_node_id\": \"19\", \"b1\": null, \"b2\": null}}, \"metabolites\": [{\"bigg_id\": \"CPD_15815_c\", \"coefficient\": -1.0}, {\"bigg_id\": \"D_6_P_GLUCONO_DELTA_LACTONE_c\", \"coefficient\": -1.0}, {\"bigg_id\": \"CPD_2961_c\", \"coefficient\": 1.0}, {\"bigg_id\": \"PROTON_c\", \"coefficient\": 1.0}]}, \"3\": {\"name\": \"GND\", \"bigg_id\": \"GND\", \"reversibility\": true, \"label_x\": 265.0, \"label_y\": 2275.0, \"gene_reaction_rule\": \"\", \"genes\": [], \"segments\": {\"19\": {\"from_node_id\": \"24\", \"to_node_id\": \"25\", \"b1\": null, \"b2\": null}, \"20\": {\"from_node_id\": \"26\", \"to_node_id\": \"25\", \"b1\": null, \"b2\": null}, \"21\": {\"from_node_id\": \"15\", \"to_node_id\": \"24\", \"b1\": null, \"b2\": null}, \"22\": {\"from_node_id\": \"20\", \"to_node_id\": \"24\", \"b1\": null, \"b2\": null}, \"23\": {\"from_node_id\": \"21\", \"to_node_id\": \"26\", \"b1\": null, \"b2\": null}, \"24\": {\"from_node_id\": \"22\", \"to_node_id\": \"26\", \"b1\": null, \"b2\": null}, \"25\": {\"from_node_id\": \"23\", \"to_node_id\": \"26\", \"b1\": null, \"b2\": null}}, \"metabolites\": [{\"bigg_id\": \"CPD_2961_c\", \"coefficient\": -1.0}, {\"bigg_id\": \"NADP_c\", \"coefficient\": -1.0}, {\"bigg_id\": \"CARBON_DIOXIDE_c\", \"coefficient\": 1.0}, {\"bigg_id\": \"NADPH_c\", \"coefficient\": 1.0}, {\"bigg_id\": \"RIBULOSE_5P_c\", \"coefficient\": 1.0}]}}, \"nodes\": {\"0\": {\"node_type\": \"metabolite\", \"x\": 150.0, \"y\": 30.0, \"label_x\": 160.0, \"label_y\": 20.0, \"bigg_id\": \"Glucopyranose_e\", \"name\": \"Glucopyranose_e\", \"node_is_primary\": false}, \"1\": {\"node_type\": \"metabolite\", \"x\": 300.0, \"y\": 30.0, \"label_x\": 310.0, \"label_y\": 20.0, \"bigg_id\": \"PHOSPHO_ENOL_PYRUVATE_c\", \"name\": \"PHOSPHO_ENOL_PYRUVATE_c\", \"node_is_primary\": false}, \"2\": {\"node_type\": \"metabolite\", \"x\": 150.0, \"y\": 550.0, \"label_x\": 160.0, \"label_y\": 580.0, \"bigg_id\": \"D_glucopyranose_6_phosphate_c\", \"name\": \"D_glucopyranose_6_phosphate_c\", \"node_is_primary\": false}, \"3\": {\"node_type\": \"metabolite\", \"x\": 300.0, \"y\": 550.0, \"label_x\": 310.0, \"label_y\": 580.0, \"bigg_id\": \"PYRUVATE_c\", \"name\": \"PYRUVATE_c\", \"node_is_primary\": false}, \"4\": {\"node_type\": \"multimarker\", \"x\": 225.0, \"y\": 305.0}, \"5\": {\"node_type\": \"midmarker\", \"x\": 225.0, \"y\": 325.0}, \"6\": {\"node_type\": \"multimarker\", \"x\": 225.0, \"y\": 345.0}, \"7\": {\"node_type\": \"metabolite\", \"x\": 300.0, \"y\": 680.0, \"label_x\": 310.0, \"label_y\": 670.0, \"bigg_id\": \"NADP_c\", \"name\": \"NADP_c\", \"node_is_primary\": false}, \"8\": {\"node_type\": \"metabolite\", \"x\": 112.5, \"y\": 1200.0, \"label_x\": 122.5, \"label_y\": 1230.0, \"bigg_id\": \"D_6_P_GLUCONO_DELTA_LACTONE_c\", \"name\": \"D_6_P_GLUCONO_DELTA_LACTONE_c\", \"node_is_primary\": false}, \"9\": {\"node_type\": \"metabolite\", \"x\": 225.0, \"y\": 1200.0, \"label_x\": 235.0, \"label_y\": 1230.0, \"bigg_id\": \"NADPH_c\", \"name\": \"NADPH_c\", \"node_is_primary\": false}, \"10\": {\"node_type\": \"metabolite\", \"x\": 337.5, \"y\": 1200.0, \"label_x\": 347.5, \"label_y\": 1230.0, \"bigg_id\": \"PROTON_c\", \"name\": \"PROTON_c\", \"node_is_primary\": false}, \"11\": {\"node_type\": \"multimarker\", \"x\": 225.0, \"y\": 955.0}, \"12\": {\"node_type\": \"midmarker\", \"x\": 225.0, \"y\": 975.0}, \"13\": {\"node_type\": \"multimarker\", \"x\": 225.0, \"y\": 995.0}, \"14\": {\"node_type\": \"metabolite\", \"x\": 150.0, \"y\": 1330.0, \"label_x\": 160.0, \"label_y\": 1320.0, \"bigg_id\": \"CPD_15815_c\", \"name\": \"CPD_15815_c\", \"node_is_primary\": false}, \"15\": {\"node_type\": \"metabolite\", \"x\": 150.0, \"y\": 1850.0, \"label_x\": 160.0, \"label_y\": 1880.0, \"bigg_id\": \"CPD_2961_c\", \"name\": \"CPD_2961_c\", \"node_is_primary\": false}, \"16\": {\"node_type\": \"metabolite\", \"x\": 300.0, \"y\": 1850.0, \"label_x\": 310.0, \"label_y\": 1880.0, \"bigg_id\": \"PROTON_c\", \"name\": \"PROTON_c\", \"node_is_primary\": false}, \"17\": {\"node_type\": \"multimarker\", \"x\": 225.0, \"y\": 1605.0}, \"18\": {\"node_type\": \"midmarker\", \"x\": 225.0, \"y\": 1625.0}, \"19\": {\"node_type\": \"multimarker\", \"x\": 225.0, \"y\": 1645.0}, \"20\": {\"node_type\": \"metabolite\", \"x\": 300.0, \"y\": 1980.0, \"label_x\": 310.0, \"label_y\": 1970.0, \"bigg_id\": \"NADP_c\", \"name\": \"NADP_c\", \"node_is_primary\": false}, \"21\": {\"node_type\": \"metabolite\", \"x\": 112.5, \"y\": 2500.0, \"label_x\": 122.5, \"label_y\": 2530.0, \"bigg_id\": \"CARBON_DIOXIDE_c\", \"name\": \"CARBON_DIOXIDE_c\", \"node_is_primary\": false}, \"22\": {\"node_type\": \"metabolite\", \"x\": 225.0, \"y\": 2500.0, \"label_x\": 235.0, \"label_y\": 2530.0, \"bigg_id\": \"NADPH_c\", \"name\": \"NADPH_c\", \"node_is_primary\": false}, \"23\": {\"node_type\": \"metabolite\", \"x\": 337.5, \"y\": 2500.0, \"label_x\": 347.5, \"label_y\": 2530.0, \"bigg_id\": \"RIBULOSE_5P_c\", \"name\": \"RIBULOSE_5P_c\", \"node_is_primary\": false}, \"24\": {\"node_type\": \"multimarker\", \"x\": 225.0, \"y\": 2255.0}, \"25\": {\"node_type\": \"midmarker\", \"x\": 225.0, \"y\": 2275.0}, \"26\": {\"node_type\": \"multimarker\", \"x\": 225.0, \"y\": 2295.0}}, \"text_labels\": {}, \"canvas\": {\"x\": 0, \"y\": 0, \"width\": 450, \"height\": 2600}}]",
       "_loaded_model_json": null,
       "allow_building_duplicate_reactions": false,
       "and_method_in_gene_reaction_rule": "mean",
       "canvas_size_and_loc": null,
       "cofactors": [
        "atp",
        "adp",
        "nad",
        "nadh",
        "nadp",
        "nadph",
        "gtp",
        "gdp",
        "h",
        "coa",
        "ump",
        "h2o",
        "ppi"
       ],
       "disabled_buttons": [
        "Clear gene data",
        "Clear metabolite data"
       ],
       "embedded_css": null,
       "enable_editing": true,
       "enable_keys": false,
       "enable_keys_with_tooltip": true,
       "enable_search": true,
       "enable_tooltips": false,
       "full_screen_button": {
        "enable_editing": true,
        "enable_keys": true,
        "enable_tooltips": [
         "label"
        ],
        "menu": "all",
        "scroll_behavior": "pan"
       },
       "gene_data": null,
       "gene_font_size": 18,
       "height": 500,
       "hide_all_labels": false,
       "hide_secondary_metabolites": false,
       "highlight_missing": false,
       "identifiers_on_map": "bigg_id",
       "layout": "IPY_MODEL_ac06b68ebc9043f29e0c53b70151cfde",
       "marker_radius": 5,
       "menu": "all",
       "metabolite_compare_style": "log2_fold",
       "metabolite_data": null,
       "metabolite_no_data_color": "#ffffff",
       "metabolite_no_data_size": 10,
       "metabolite_scale": [
        {
         "color": "#fffaf0",
         "size": 20,
         "type": "min"
        },
        {
         "color": "#f1c470",
         "size": 30,
         "type": "median"
        },
        {
         "color": "#800000",
         "size": 40,
         "type": "max"
        }
       ],
       "metabolite_scale_preset": "WhYlRd",
       "metabolite_styles": [
        "color",
        "size",
        "text"
       ],
       "never_ask_before_quit": true,
       "primary_metabolite_radius": 20,
       "reaction_compare_style": "log2_fold",
       "reaction_data": {
        "G6PDH2r": -2,
        "GLCpts": -2,
        "GND": 1,
        "Other": 1000,
        "PGL": 0.4
       },
       "reaction_no_data_color": "#dcdcdc",
       "reaction_no_data_size": 8,
       "reaction_scale": [
        {
         "color": "rgb(191,215,230)",
         "type": "value",
         "value": 333.3333333333333
        },
        {
         "color": "rgb(163,210,240)",
         "type": "value",
         "value": 666.6666666666667
        },
        {
         "color": "rgb(135,205,250)",
         "type": "value",
         "value": 1000
        },
        {
         "color": "rgb(220,220,220)",
         "type": "value",
         "value": 0
        },
        {
         "color": "rgb(237,192,110)",
         "type": "value",
         "value": -1
        },
        {
         "color": "rgb(255,165,0)",
         "type": "value",
         "value": -2
        }
       ],
       "reaction_scale_preset": null,
       "reaction_styles": [
        "color",
        "text"
       ],
       "scroll_behavior": "none",
       "secondary_metabolite_radius": 10,
       "semantic_zoom": null,
       "show_gene_reaction_rules": false,
       "starting_reaction": null,
       "use_3d_transform": false,
       "zoom_to_element": null
      }
     },
     "e92121dab7ab4bdc887e1e645fbd65b1": {
      "model_module": "@jupyter-widgets/base",
      "model_module_version": "1.2.0",
      "model_name": "LayoutModel",
      "state": {}
     },
     "f62b6a71704e4aa88ce79f07f480366d": {
      "model_module": "escher",
      "model_module_version": "1.7.3",
      "model_name": "EscherMapModel",
      "state": {
       "_loaded_map_json": "[{\"map_name\": \"\", \"map_id\": \"\", \"map_description\": \"\", \"homepage\": \"\", \"schema\": \"https://escher.github.io/escher/jsonschema/1-0-0#\"}, {\"reactions\": {\"0\": {\"name\": \"GLCpts\", \"bigg_id\": \"GLCpts\", \"reversibility\": true, \"label_x\": 265.0, \"label_y\": 325.0, \"gene_reaction_rule\": \"\", \"genes\": [], \"segments\": {\"0\": {\"from_node_id\": \"4\", \"to_node_id\": \"5\", \"b1\": null, \"b2\": null}, \"1\": {\"from_node_id\": \"6\", \"to_node_id\": \"5\", \"b1\": null, \"b2\": null}, \"2\": {\"from_node_id\": \"0\", \"to_node_id\": \"4\", \"b1\": null, \"b2\": null}, \"3\": {\"from_node_id\": \"1\", \"to_node_id\": \"4\", \"b1\": null, \"b2\": null}, \"4\": {\"from_node_id\": \"2\", \"to_node_id\": \"6\", \"b1\": null, \"b2\": null}, \"5\": {\"from_node_id\": \"3\", \"to_node_id\": \"6\", \"b1\": null, \"b2\": null}}, \"metabolites\": [{\"bigg_id\": \"Glucopyranose_e\", \"coefficient\": -1.0}, {\"bigg_id\": \"PHOSPHO_ENOL_PYRUVATE_c\", \"coefficient\": -1.0}, {\"bigg_id\": \"D_glucopyranose_6_phosphate_c\", \"coefficient\": 1.0}, {\"bigg_id\": \"PYRUVATE_c\", \"coefficient\": 1.0}]}, \"1\": {\"name\": \"G6PDH2r\", \"bigg_id\": \"G6PDH2r\", \"reversibility\": true, \"label_x\": 265.0, \"label_y\": 975.0, \"gene_reaction_rule\": \"\", \"genes\": [], \"segments\": {\"6\": {\"from_node_id\": \"11\", \"to_node_id\": \"12\", \"b1\": null, \"b2\": null}, \"7\": {\"from_node_id\": \"13\", \"to_node_id\": \"12\", \"b1\": null, \"b2\": null}, \"8\": {\"from_node_id\": \"2\", \"to_node_id\": \"11\", \"b1\": null, \"b2\": null}, \"9\": {\"from_node_id\": \"7\", \"to_node_id\": \"11\", \"b1\": null, \"b2\": null}, \"10\": {\"from_node_id\": \"8\", \"to_node_id\": \"13\", \"b1\": null, \"b2\": null}, \"11\": {\"from_node_id\": \"9\", \"to_node_id\": \"13\", \"b1\": null, \"b2\": null}, \"12\": {\"from_node_id\": \"10\", \"to_node_id\": \"13\", \"b1\": null, \"b2\": null}}, \"metabolites\": [{\"bigg_id\": \"D_glucopyranose_6_phosphate_c\", \"coefficient\": -1.0}, {\"bigg_id\": \"NADP_c\", \"coefficient\": -1.0}, {\"bigg_id\": \"D_6_P_GLUCONO_DELTA_LACTONE_c\", \"coefficient\": 1.0}, {\"bigg_id\": \"NADPH_c\", \"coefficient\": 1.0}, {\"bigg_id\": \"PROTON_c\", \"coefficient\": 1.0}]}, \"2\": {\"name\": \"PGL\", \"bigg_id\": \"PGL\", \"reversibility\": true, \"label_x\": 265.0, \"label_y\": 1625.0, \"gene_reaction_rule\": \"\", \"genes\": [], \"segments\": {\"13\": {\"from_node_id\": \"17\", \"to_node_id\": \"18\", \"b1\": null, \"b2\": null}, \"14\": {\"from_node_id\": \"19\", \"to_node_id\": \"18\", \"b1\": null, \"b2\": null}, \"15\": {\"from_node_id\": \"14\", \"to_node_id\": \"17\", \"b1\": null, \"b2\": null}, \"16\": {\"from_node_id\": \"8\", \"to_node_id\": \"17\", \"b1\": null, \"b2\": null}, \"17\": {\"from_node_id\": \"15\", \"to_node_id\": \"19\", \"b1\": null, \"b2\": null}, \"18\": {\"from_node_id\": \"16\", \"to_node_id\": \"19\", \"b1\": null, \"b2\": null}}, \"metabolites\": [{\"bigg_id\": \"CPD_15815_c\", \"coefficient\": -1.0}, {\"bigg_id\": \"D_6_P_GLUCONO_DELTA_LACTONE_c\", \"coefficient\": -1.0}, {\"bigg_id\": \"CPD_2961_c\", \"coefficient\": 1.0}, {\"bigg_id\": \"PROTON_c\", \"coefficient\": 1.0}]}, \"3\": {\"name\": \"GND\", \"bigg_id\": \"GND\", \"reversibility\": true, \"label_x\": 265.0, \"label_y\": 2275.0, \"gene_reaction_rule\": \"\", \"genes\": [], \"segments\": {\"19\": {\"from_node_id\": \"24\", \"to_node_id\": \"25\", \"b1\": null, \"b2\": null}, \"20\": {\"from_node_id\": \"26\", \"to_node_id\": \"25\", \"b1\": null, \"b2\": null}, \"21\": {\"from_node_id\": \"15\", \"to_node_id\": \"24\", \"b1\": null, \"b2\": null}, \"22\": {\"from_node_id\": \"20\", \"to_node_id\": \"24\", \"b1\": null, \"b2\": null}, \"23\": {\"from_node_id\": \"21\", \"to_node_id\": \"26\", \"b1\": null, \"b2\": null}, \"24\": {\"from_node_id\": \"22\", \"to_node_id\": \"26\", \"b1\": null, \"b2\": null}, \"25\": {\"from_node_id\": \"23\", \"to_node_id\": \"26\", \"b1\": null, \"b2\": null}}, \"metabolites\": [{\"bigg_id\": \"CPD_2961_c\", \"coefficient\": -1.0}, {\"bigg_id\": \"NADP_c\", \"coefficient\": -1.0}, {\"bigg_id\": \"CARBON_DIOXIDE_c\", \"coefficient\": 1.0}, {\"bigg_id\": \"NADPH_c\", \"coefficient\": 1.0}, {\"bigg_id\": \"RIBULOSE_5P_c\", \"coefficient\": 1.0}]}}, \"nodes\": {\"0\": {\"node_type\": \"metabolite\", \"x\": 150.0, \"y\": 30.0, \"label_x\": 160.0, \"label_y\": 20.0, \"bigg_id\": \"Glucopyranose_e\", \"name\": \"Glucopyranose_e\", \"node_is_primary\": false}, \"1\": {\"node_type\": \"metabolite\", \"x\": 300.0, \"y\": 30.0, \"label_x\": 310.0, \"label_y\": 20.0, \"bigg_id\": \"PHOSPHO_ENOL_PYRUVATE_c\", \"name\": \"PHOSPHO_ENOL_PYRUVATE_c\", \"node_is_primary\": false}, \"2\": {\"node_type\": \"metabolite\", \"x\": 150.0, \"y\": 550.0, \"label_x\": 160.0, \"label_y\": 580.0, \"bigg_id\": \"D_glucopyranose_6_phosphate_c\", \"name\": \"D_glucopyranose_6_phosphate_c\", \"node_is_primary\": false}, \"3\": {\"node_type\": \"metabolite\", \"x\": 300.0, \"y\": 550.0, \"label_x\": 310.0, \"label_y\": 580.0, \"bigg_id\": \"PYRUVATE_c\", \"name\": \"PYRUVATE_c\", \"node_is_primary\": false}, \"4\": {\"node_type\": \"multimarker\", \"x\": 225.0, \"y\": 305.0}, \"5\": {\"node_type\": \"midmarker\", \"x\": 225.0, \"y\": 325.0}, \"6\": {\"node_type\": \"multimarker\", \"x\": 225.0, \"y\": 345.0}, \"7\": {\"node_type\": \"metabolite\", \"x\": 300.0, \"y\": 680.0, \"label_x\": 310.0, \"label_y\": 670.0, \"bigg_id\": \"NADP_c\", \"name\": \"NADP_c\", \"node_is_primary\": false}, \"8\": {\"node_type\": \"metabolite\", \"x\": 112.5, \"y\": 1200.0, \"label_x\": 122.5, \"label_y\": 1230.0, \"bigg_id\": \"D_6_P_GLUCONO_DELTA_LACTONE_c\", \"name\": \"D_6_P_GLUCONO_DELTA_LACTONE_c\", \"node_is_primary\": false}, \"9\": {\"node_type\": \"metabolite\", \"x\": 225.0, \"y\": 1200.0, \"label_x\": 235.0, \"label_y\": 1230.0, \"bigg_id\": \"NADPH_c\", \"name\": \"NADPH_c\", \"node_is_primary\": false}, \"10\": {\"node_type\": \"metabolite\", \"x\": 337.5, \"y\": 1200.0, \"label_x\": 347.5, \"label_y\": 1230.0, \"bigg_id\": \"PROTON_c\", \"name\": \"PROTON_c\", \"node_is_primary\": false}, \"11\": {\"node_type\": \"multimarker\", \"x\": 225.0, \"y\": 955.0}, \"12\": {\"node_type\": \"midmarker\", \"x\": 225.0, \"y\": 975.0}, \"13\": {\"node_type\": \"multimarker\", \"x\": 225.0, \"y\": 995.0}, \"14\": {\"node_type\": \"metabolite\", \"x\": 150.0, \"y\": 1330.0, \"label_x\": 160.0, \"label_y\": 1320.0, \"bigg_id\": \"CPD_15815_c\", \"name\": \"CPD_15815_c\", \"node_is_primary\": false}, \"15\": {\"node_type\": \"metabolite\", \"x\": 150.0, \"y\": 1850.0, \"label_x\": 160.0, \"label_y\": 1880.0, \"bigg_id\": \"CPD_2961_c\", \"name\": \"CPD_2961_c\", \"node_is_primary\": false}, \"16\": {\"node_type\": \"metabolite\", \"x\": 300.0, \"y\": 1850.0, \"label_x\": 310.0, \"label_y\": 1880.0, \"bigg_id\": \"PROTON_c\", \"name\": \"PROTON_c\", \"node_is_primary\": false}, \"17\": {\"node_type\": \"multimarker\", \"x\": 225.0, \"y\": 1605.0}, \"18\": {\"node_type\": \"midmarker\", \"x\": 225.0, \"y\": 1625.0}, \"19\": {\"node_type\": \"multimarker\", \"x\": 225.0, \"y\": 1645.0}, \"20\": {\"node_type\": \"metabolite\", \"x\": 300.0, \"y\": 1980.0, \"label_x\": 310.0, \"label_y\": 1970.0, \"bigg_id\": \"NADP_c\", \"name\": \"NADP_c\", \"node_is_primary\": false}, \"21\": {\"node_type\": \"metabolite\", \"x\": 112.5, \"y\": 2500.0, \"label_x\": 122.5, \"label_y\": 2530.0, \"bigg_id\": \"CARBON_DIOXIDE_c\", \"name\": \"CARBON_DIOXIDE_c\", \"node_is_primary\": false}, \"22\": {\"node_type\": \"metabolite\", \"x\": 225.0, \"y\": 2500.0, \"label_x\": 235.0, \"label_y\": 2530.0, \"bigg_id\": \"NADPH_c\", \"name\": \"NADPH_c\", \"node_is_primary\": false}, \"23\": {\"node_type\": \"metabolite\", \"x\": 337.5, \"y\": 2500.0, \"label_x\": 347.5, \"label_y\": 2530.0, \"bigg_id\": \"RIBULOSE_5P_c\", \"name\": \"RIBULOSE_5P_c\", \"node_is_primary\": false}, \"24\": {\"node_type\": \"multimarker\", \"x\": 225.0, \"y\": 2255.0}, \"25\": {\"node_type\": \"midmarker\", \"x\": 225.0, \"y\": 2275.0}, \"26\": {\"node_type\": \"multimarker\", \"x\": 225.0, \"y\": 2295.0}}, \"text_labels\": {}, \"canvas\": {\"x\": 0, \"y\": 0, \"width\": 450, \"height\": 2600}}]",
       "_loaded_model_json": null,
       "allow_building_duplicate_reactions": false,
       "and_method_in_gene_reaction_rule": "mean",
       "canvas_size_and_loc": null,
       "cofactors": [
        "atp",
        "adp",
        "nad",
        "nadh",
        "nadp",
        "nadph",
        "gtp",
        "gdp",
        "h",
        "coa",
        "ump",
        "h2o",
        "ppi"
       ],
       "disabled_buttons": [
        "Clear reaction data",
        "Clear gene data",
        "Clear metabolite data"
       ],
       "embedded_css": null,
       "enable_editing": true,
       "enable_keys": false,
       "enable_keys_with_tooltip": true,
       "enable_search": true,
       "enable_tooltips": false,
       "full_screen_button": {
        "enable_editing": true,
        "enable_keys": true,
        "enable_tooltips": [
         "label"
        ],
        "menu": "all",
        "scroll_behavior": "pan"
       },
       "gene_data": null,
       "gene_font_size": 18,
       "height": 500,
       "hide_all_labels": false,
       "hide_secondary_metabolites": false,
       "highlight_missing": false,
       "identifiers_on_map": "bigg_id",
       "layout": "IPY_MODEL_e92121dab7ab4bdc887e1e645fbd65b1",
       "marker_radius": 5,
       "menu": "all",
       "metabolite_compare_style": "log2_fold",
       "metabolite_data": null,
       "metabolite_no_data_color": "#ffffff",
       "metabolite_no_data_size": 10,
       "metabolite_scale": [
        {
         "color": "#fffaf0",
         "size": 20,
         "type": "min"
        },
        {
         "color": "#f1c470",
         "size": 30,
         "type": "median"
        },
        {
         "color": "#800000",
         "size": 40,
         "type": "max"
        }
       ],
       "metabolite_scale_preset": "WhYlRd",
       "metabolite_styles": [
        "color",
        "size",
        "text"
       ],
       "never_ask_before_quit": true,
       "primary_metabolite_radius": 20,
       "reaction_compare_style": "log2_fold",
       "reaction_data": null,
       "reaction_no_data_color": "#dcdcdc",
       "reaction_no_data_size": 8,
       "reaction_scale": {},
       "reaction_scale_preset": null,
       "reaction_styles": [
        "color",
        "text"
       ],
       "scroll_behavior": "none",
       "secondary_metabolite_radius": 10,
       "semantic_zoom": null,
       "show_gene_reaction_rules": false,
       "starting_reaction": null,
       "use_3d_transform": false,
       "zoom_to_element": null
      }
     },
     "f8603872196447fa8bc1abdb96e84c8f": {
      "model_module": "@jupyter-widgets/base",
      "model_module_version": "1.2.0",
      "model_name": "LayoutModel",
      "state": {}
     }
    },
    "version_major": 2,
    "version_minor": 0
   }
  }
 },
 "nbformat": 4,
 "nbformat_minor": 1
}
